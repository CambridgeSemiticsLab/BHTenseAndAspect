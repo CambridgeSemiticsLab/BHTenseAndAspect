{
 "cells": [
  {
   "cell_type": "markdown",
   "metadata": {},
   "source": [
    "*best viewed in [nbviewer](https://nbviewer.jupyter.org/github/CambridgeSemiticsLab/BH_time_collocations/blob/master/results/notebooks/6_definite_modifier.ipynb)*"
   ]
  },
  {
   "cell_type": "markdown",
   "metadata": {},
   "source": [
    "# Time Adverbial Distribution and Collocations\n",
    "## Definite modifier investigations\n",
    "### Cody Kingham\n",
    "<a href=\"../../../docs/sponsors.md\"><img height=200px width=200px align=\"left\" src=\"../../../docs/images/CambridgeU_BW.png\"></a>"
   ]
  },
  {
   "cell_type": "code",
   "execution_count": 34,
   "metadata": {},
   "outputs": [
    {
     "name": "stdout",
     "output_type": "stream",
     "text": [
      "last updated:\n",
      "Tue 30 Jun 2020 15:09:30 BST\n"
     ]
    }
   ],
   "source": [
    "! echo \"last updated:\"; date"
   ]
  },
  {
   "cell_type": "markdown",
   "metadata": {},
   "source": [
    "## Introduction\n",
    "\n",
    "This notebook will produce data for my in-progress article on time adverbial components. \n",
    "\n",
    "<hr>"
   ]
  },
  {
   "cell_type": "markdown",
   "metadata": {},
   "source": [
    "# Python\n",
    "\n",
    "Now we import the modules and data needed for the analysis."
   ]
  },
  {
   "cell_type": "code",
   "execution_count": 2,
   "metadata": {},
   "outputs": [
    {
     "data": {
      "text/html": [
       "<style>tr.tf.ltr, td.tf.ltr, th.tf.ltr { text-align: left ! important;}\n",
       "tr.tf.rtl, td.tf.rtl, th.tf.rtl { text-align: right ! important;}\n",
       "@font-face {\n",
       "  font-family: \"Gentium Plus\";\n",
       "  src: local('Gentium Plus'), local('GentiumPlus'),\n",
       "    url('/server/static/fonts/GentiumPlus-R.woff') format('woff'),\n",
       "    url('https://github.com/annotation/text-fabric/blob/master/tf/server/static/fonts/GentiumPlus-R.woff?raw=true') format('woff');\n",
       "}\n",
       "\n",
       "@font-face {\n",
       "  font-family: \"Ezra SIL\";\n",
       "  src: local('Ezra SIL'), local('EzraSIL'),\n",
       "    url('/server/static/fonts/SILEOT.woff') format('woff'),\n",
       "    url('https://github.com/annotation/text-fabric/blob/master/tf/server/static/fonts/SILEOT.woff?raw=true') format('woff');\n",
       "}\n",
       "\n",
       "@font-face {\n",
       "  font-family: \"SBL Hebrew\";\n",
       "  src: local('SBL Hebrew'), local('SBLHebrew'),\n",
       "    url('/server/static/fonts/SBL_Hbrw.woff') format('woff'),\n",
       "    url('https://github.com/annotation/text-fabric/blob/master/tf/server/static/fonts/SBL_Hbrw.woff?raw=true') format('woff');\n",
       "}\n",
       "\n",
       "@font-face {\n",
       "  font-family: \"Estrangelo Edessa\";\n",
       "  src: local('Estrangelo Edessa'), local('EstrangeloEdessa');\n",
       "    url('/server/static/fonts/SyrCOMEdessa.woff') format('woff'),\n",
       "    url('https://github.com/annotation/text-fabric/blob/master/tf/server/static/fonts/SyrCOMEdessa.woff?raw=true') format('woff');\n",
       "}\n",
       "\n",
       "@font-face {\n",
       "  font-family: AmiriQuran;\n",
       "  font-style: normal;\n",
       "  font-weight: 400;\n",
       "  src: local('Amiri Quran'), local('AmiriQuran'),\n",
       "    url('/server/static/fonts/AmiriQuran.woff') format('woff'),\n",
       "    url('https://github.com/annotation/text-fabric/blob/master/tf/server/static/fonts/AmiriQuran.woff?raw=true') format('woff');\n",
       "}\n",
       "\n",
       "@font-face {\n",
       "  font-family: AmiriQuranColored;\n",
       "  font-style: normal;\n",
       "  font-weight: 400;\n",
       "  src: local('Amiri Quran Colored'), local('AmiriQuranColored'),\n",
       "    url('/server/static/fonts/AmiriQuranColored.woff') format('woff'),\n",
       "    url('https://github.com/annotation/text-fabric/blob/master/tf/server/static/fonts/AmiriQuranColored.woff?raw=true') format('woff');\n",
       "}\n",
       "\n",
       "@font-face {\n",
       "  font-family: \"Santakku\";\n",
       "  src: local('Santakku'),\n",
       "    url('/server/static/fonts/Santakku.woff') format('woff'),\n",
       "    url('https://github.com/annotation/text-fabric/blob/master/tf/server/static/fonts/Santakku.woff?raw=true') format('woff');\n",
       "}\n",
       "\n",
       "@font-face {\n",
       "  font-family: \"SantakkuM\";\n",
       "  src: local('SantakkuM'),\n",
       "    url('/server/static/fonts/SantakkuM.woff') format('woff'),\n",
       "    url('https://github.com/annotation/text-fabric/blob/master/tf/server/static/fonts/SantakkuM.woff?raw=true') format('woff');\n",
       "}\n",
       "/* bypassing some classical notebook settings */\n",
       "div#notebook {\n",
       "  line-height: unset;\n",
       "}\n",
       "/* neutral text */\n",
       ".txtn,.txtn a:visited,.txtn a:link {\n",
       "    font-family: sans-serif;\n",
       "    font-size: medium;\n",
       "    direction: ltr;\n",
       "    text-decoration: none;\n",
       "    color: var(--text-color);\n",
       "}\n",
       "/* transcription text */\n",
       ".txtt,.txtt a:visited,.txtt a:link {\n",
       "    font-family: monospace;\n",
       "    font-size: medium;\n",
       "    direction: ltr;\n",
       "    text-decoration: none;\n",
       "    color: var(--text-color);\n",
       "}\n",
       "/* source text */\n",
       ".txto,.txto a:visited,.txto a:link {\n",
       "    font-family: serif;\n",
       "    font-size: medium;\n",
       "    direction: ltr;\n",
       "    text-decoration: none;\n",
       "    color: var(--text-color);\n",
       "}\n",
       "/* phonetic text */\n",
       ".txtp,.txtp a:visited,.txtp a:link {\n",
       "    font-family: Gentium, sans-serif;\n",
       "    font-size: medium;\n",
       "    direction: ltr;\n",
       "    text-decoration: none;\n",
       "    color: var(--text-color);\n",
       "}\n",
       "/* original script text */\n",
       ".txtu,.txtu a:visited,.txtu a:link {\n",
       "    font-family: Gentium, sans-serif;\n",
       "    font-size: medium;\n",
       "    text-decoration: none;\n",
       "    color: var(--text-color);\n",
       "}\n",
       "/* hebrew */\n",
       ".txtu.hbo,.lex.hbo {\n",
       "    font-family: \"Ezra SIL\", \"SBL Hebrew\", sans-serif;\n",
       "    font-size: large;\n",
       "    direction: rtl ! important;\n",
       "    unicode-bidi: embed;\n",
       "}\n",
       "/* syriac */\n",
       ".txtu.syc,.lex.syc {\n",
       "    font-family: \"Estrangelo Edessa\", sans-serif;\n",
       "    font-size: medium;\n",
       "    direction: rtl ! important;\n",
       "    unicode-bidi: embed;\n",
       "}\n",
       "/* neo aramaic */\n",
       ".txtu.cld,.lex.cld {\n",
       "    font-family: \"CharisSIL-R\", sans-serif;\n",
       "    font-size: medium;\n",
       "    direction: ltr ! important;\n",
       "    unicode-bidi: embed;\n",
       "}\n",
       "/* standard arabic */\n",
       ".txtu.ara,.lex.ara {\n",
       "    font-family: \"AmiriQuran\", sans-serif;\n",
       "    font-size: large;\n",
       "    direction: rtl ! important;\n",
       "    unicode-bidi: embed;\n",
       "}\n",
       "/* cuneiform */\n",
       ".txtu.akk,.lex.akk {\n",
       "    font-family: Santakku, sans-serif;\n",
       "    font-size: large;\n",
       "    direction: ltr ! important;\n",
       "    unicode-bidi: embed;\n",
       "}\n",
       "/* greek */\n",
       ".txtu.grc,.lex.grc a:link {\n",
       "    font-family: Gentium, sans-serif;\n",
       "    font-size: medium;\n",
       "    direction: ltr ! important;\n",
       "    unicode-bidi: embed;\n",
       "}\n",
       "a:hover {\n",
       "    text-decoration: underline | important;\n",
       "    color: #0000ff | important;\n",
       "}\n",
       ".ltr {\n",
       "    direction: ltr ! important;\n",
       "}\n",
       ".rtl {\n",
       "    direction: rtl ! important;\n",
       "}\n",
       ".features {\n",
       "    font-family: monospace;\n",
       "    font-size: medium;\n",
       "    font-weight: bold;\n",
       "    color: var(--features);\n",
       "    display: flex;\n",
       "    flex-flow: column nowrap;\n",
       "    justify-content: flex-start;\n",
       "    align-items: flex-start;\n",
       "    align-content: flex-start;\n",
       "    padding: 0.1rem;\n",
       "    margin: 0.1rem;\n",
       "    direction: ltr;\n",
       "    border: var(--meta-width) solid var(--meta-color);\n",
       "    border-radius: var(--meta-width);\n",
       "}\n",
       ".features div,.features span {\n",
       "    padding: 0;\n",
       "    margin: -0.1rem 0;\n",
       "}\n",
       ".features .f {\n",
       "    font-family: sans-serif;\n",
       "    font-size: small;\n",
       "    font-weight: normal;\n",
       "    color: #5555bb;\n",
       "}\n",
       ".features .xft {\n",
       "  color: #000000;\n",
       "  background-color: #eeeeee;\n",
       "  font-size: medium;\n",
       "  margin: 0.1rem 0rem;\n",
       "}\n",
       ".features .xft .f {\n",
       "  color: #000000;\n",
       "  background-color: #eeeeee;\n",
       "  font-size: small;\n",
       "  font-weight: normal;\n",
       "}\n",
       ".section {\n",
       "    font-family: sans-serif;\n",
       "    font-size: small;\n",
       "    font-weight: bold;\n",
       "    color: var(--section);\n",
       "    unicode-bidi: embed;\n",
       "    text-align: start;\n",
       "}\n",
       ".structure {\n",
       "    font-family: sans-serif;\n",
       "    font-size: small;\n",
       "    font-weight: bold;\n",
       "    color: var(--structure);\n",
       "    unicode-bidi: embed;\n",
       "    text-align: start;\n",
       "}\n",
       ".comments {\n",
       "    display: flex;\n",
       "    justify-content: flex-start;\n",
       "    align-items: flex-start;\n",
       "    align-content: flex-start;\n",
       "    flex-flow: column nowrap;\n",
       "}\n",
       ".nd, a:link.nd {\n",
       "    font-family: sans-serif;\n",
       "    font-size: small;\n",
       "    color: var(--node);\n",
       "    vertical-align: super;\n",
       "    direction: ltr ! important;\n",
       "    unicode-bidi: embed;\n",
       "}\n",
       ".lex {\n",
       "  color: var(--lex-color);;\n",
       "}\n",
       ".children,.children.ltr {\n",
       "    display: flex;\n",
       "    border: 0;\n",
       "    background-color: #ffffff;\n",
       "    justify-content: flex-start;\n",
       "    align-items: flex-start;\n",
       "    align-content: flex-start;\n",
       "}\n",
       ".children.stretch {\n",
       "    align-items: stretch;\n",
       "}\n",
       ".children.hor {\n",
       "    flex-flow: row nowrap;\n",
       "}\n",
       ".children.hor.wrap {\n",
       "    flex-flow: row wrap;\n",
       "}\n",
       ".children.ver {\n",
       "    flex-flow: column nowrap;\n",
       "}\n",
       ".children.ver.wrap {\n",
       "    flex-flow: column wrap;\n",
       "}\n",
       ".contnr {\n",
       "    width: fit-content;\n",
       "    display: flex;\n",
       "    justify-content: flex-start;\n",
       "    align-items: flex-start;\n",
       "    align-content: flex-start;\n",
       "    flex-flow: column nowrap;\n",
       "    background: #ffffff none repeat scroll 0 0;\n",
       "    padding:  0.5rem 0.1rem 0.1rem 0.1rem;\n",
       "    margin: 0.8rem 0.1rem 0.1rem 0.1rem;\n",
       "    border-style: solid;\n",
       "    font-size: small;\n",
       "}\n",
       ".contnr.trm {\n",
       "    background-attachment: local;\n",
       "}\n",
       ".contnr.cnul {\n",
       "    padding:  0;\n",
       "    margin: 0;\n",
       "    border-style: solid;\n",
       "    font-size: xx-small;\n",
       "}\n",
       ".contnr.cnul,.lbl.cnul {\n",
       "    border-color: var(--border-color-nul);\n",
       "    border-width: var(--border-width-nul);\n",
       "    border-radius: var(--border-width-nul);\n",
       "}\n",
       ".contnr.c0,.lbl.c0 {\n",
       "    border-color: var(--border-color0);\n",
       "    border-width: var(--border-width0);\n",
       "    border-radius: var(--border-width0);\n",
       "}\n",
       ".contnr.c1,.lbl.c1 {\n",
       "    border-color: var(--border-color1);\n",
       "    border-width: var(--border-width1);\n",
       "    border-radius: var(--border-width1);\n",
       "}\n",
       ".contnr.c2,.lbl.c2 {\n",
       "    border-color: var(--border-color2);\n",
       "    border-width: var(--border-width2);\n",
       "    border-radius: var(--border-width2);\n",
       "}\n",
       ".contnr.c3,.lbl.c3 {\n",
       "    border-color: var(--border-color3);\n",
       "    border-width: var(--border-width3);\n",
       "    border-radius: var(--border-width3);\n",
       "}\n",
       ".contnr.c4,.lbl.c4 {\n",
       "    border-color: var(--border-color4);\n",
       "    border-width: var(--border-width4);\n",
       "    border-radius: var(--border-width4);\n",
       "}\n",
       "span.plain {\n",
       "    display: inline-block;\n",
       "    white-space: pre-wrap;\n",
       "}\n",
       ".plain {\n",
       "    background-color: #ffffff;\n",
       "}\n",
       ".plain.l,.contnr.l,.contnr.l>.lbl {\n",
       "    border-left-style: dotted\n",
       "}\n",
       ".plain.r,.contnr.r,.contnr.r>.lbl {\n",
       "    border-right-style: dotted\n",
       "}\n",
       ".plain.lno,.contnr.lno,.contnr.lno>.lbl {\n",
       "    border-left-style: none\n",
       "}\n",
       ".plain.rno,.contnr.rno,.contnr.rno>.lbl {\n",
       "    border-right-style: none\n",
       "}\n",
       ".plain.l {\n",
       "    padding-left: 0.2rem;\n",
       "    margin-left: 0.1rem;\n",
       "    border-width: var(--border-width-plain);\n",
       "}\n",
       ".plain.r {\n",
       "    padding-right: 0.2rem;\n",
       "    margin-right: 0.1rem;\n",
       "    border-width: var(--border-width-plain);\n",
       "}\n",
       ".lbl {\n",
       "    font-family: monospace;\n",
       "    margin-top: -1.2rem;\n",
       "    margin-left: 1rem;\n",
       "    background: #ffffff none repeat scroll 0 0;\n",
       "    padding: 0 0.3rem;\n",
       "    border-style: solid;\n",
       "    display: block;\n",
       "    color: var(--label)\n",
       "}\n",
       ".lbl.trm {\n",
       "    background-attachment: local;\n",
       "    margin-top: 0.1rem;\n",
       "    margin-left: 0.1rem;\n",
       "    padding: 0.1rem 0.1rem;\n",
       "    border-style: none;\n",
       "}\n",
       ".lbl.cnul {\n",
       "    font-size: xx-small;\n",
       "}\n",
       ".lbl.c0 {\n",
       "    font-size: small;\n",
       "}\n",
       ".lbl.c1 {\n",
       "    font-size: small;\n",
       "}\n",
       ".lbl.c2 {\n",
       "    font-size: medium;\n",
       "}\n",
       ".lbl.c3 {\n",
       "    font-size: medium;\n",
       "}\n",
       ".lbl.c4 {\n",
       "    font-size: large;\n",
       "}\n",
       ".occs, a:link.occs {\n",
       "    font-size: small;\n",
       "}\n",
       "\n",
       "/* PROVENANCE */\n",
       "\n",
       "div.prov {\n",
       "\tmargin: 2rem;\n",
       "\tpadding: 1rem;\n",
       "\tborder: 0.1rem solid var(--fog-rim);\n",
       "}\n",
       "div.pline {\n",
       "\tdisplay: flex;\n",
       "\tflex-flow: row nowrap;\n",
       "\tjustify-content: stretch;\n",
       "\talign-items: baseline;\n",
       "}\n",
       "div.p2line {\n",
       "\tmargin-left: 2em;\n",
       "\tdisplay: flex;\n",
       "\tflex-flow: row nowrap;\n",
       "\tjustify-content: stretch;\n",
       "\talign-items: baseline;\n",
       "}\n",
       "div.psline {\n",
       "\tdisplay: flex;\n",
       "\tflex-flow: row nowrap;\n",
       "\tjustify-content: stretch;\n",
       "\talign-items: baseline;\n",
       "\tbackground-color: var(--gold-mist-back);\n",
       "}\n",
       "div.pname {\n",
       "\tflex: 0 0 5rem;\n",
       "\tfont-weight: bold;\n",
       "}\n",
       "div.pval {\n",
       "    flex: 1 1 auto;\n",
       "}\n",
       "\n",
       ":root {\n",
       "\t--node:               hsla(120, 100%,  20%, 1.0  );\n",
       "\t--label:              hsla(  0, 100%,  20%, 1.0  );\n",
       "\t--section:            hsla(  0, 100%,  25%, 1.0  );\n",
       "\t--structure:          hsla(120, 100%,  25%, 1.0  );\n",
       "\t--features:           hsla(  0,   0%,  30%, 1.0  );\n",
       "  --text-color:         hsla( 60,  80%,  10%, 1.0  );\n",
       "  --lex-color:          hsla(220,  90%,  60%, 1.0  );\n",
       "  --meta-color:         hsla(  0,   0%,  90%, 0.7  );\n",
       "  --meta-width:         0.15rem;\n",
       "  --border-color-nul:   hsla(  0,   0%,  90%, 0.5  );\n",
       "  --border-color0:      hsla(  0,   0%,  90%, 0.9  );\n",
       "  --border-color1:      hsla(  0,   0%,  80%, 0.9  );\n",
       "  --border-color2:      hsla(  0,   0%,  70%, 0.9  );\n",
       "  --border-color3:      hsla(  0,   0%,  80%, 0.8  );\n",
       "  --border-color4:      hsla(  0,   0%,  60%, 0.9  );\n",
       "  --border-width-nul:   0.1rem;\n",
       "  --border-width0:      0.1rem;\n",
       "  --border-width1:      0.15rem;\n",
       "  --border-width2:      0.2rem;\n",
       "  --border-width3:      0.3rem;\n",
       "  --border-width4:      0.25rem;\n",
       "  --border-width-plain: 0.1rem;\n",
       "}\n",
       ".hl {\n",
       "  background-color: var(--hl-strong);\n",
       "}\n",
       "span.hl {\n",
       "\tbackground-color: var(--hl-strong);\n",
       "\tborder-width: 0;\n",
       "\tborder-radius: 0.1rem;\n",
       "\tborder-style: solid;\n",
       "}\n",
       "div.contnr.hl,div.lbl.hl {\n",
       "  background-color: var(--hl-strong);\n",
       "}\n",
       "div.contnr.hl {\n",
       "  border-color: var(--hl-rim) ! important;\n",
       "\tborder-width: 0.2rem ! important;\n",
       "}\n",
       "\n",
       "span.hlbx {\n",
       "\tborder-color: var(--hl-rim);\n",
       "\tborder-width: 0.2rem ! important;\n",
       "\tborder-style: solid;\n",
       "\tborder-radius: 0.3rem;\n",
       "  padding: 0.2rem;\n",
       "  margin: 0.2rem;\n",
       "}\n",
       "\n",
       "span.plain {\n",
       "  display: inline-block;\n",
       "  white-space: pre-wrap;\n",
       "}\n",
       "\n",
       ":root {\n",
       "\t--hl-strong:        hsla( 60, 100%,  70%, 0.9  );\n",
       "\t--hl-rim:           hsla( 55,  80%,  50%, 1.0  );\n",
       "}\n",
       "</style>"
      ],
      "text/plain": [
       "<IPython.core.display.HTML object>"
      ]
     },
     "metadata": {},
     "output_type": "display_data"
    }
   ],
   "source": [
    "# see .py's for variables\n",
    "from config import *\n",
    "from get_hmod_sample import hm_df\n",
    "from statsmodels.graphics.mosaicplot import mosaic\n",
    "from matplotlib import cm"
   ]
  },
  {
   "cell_type": "code",
   "execution_count": 3,
   "metadata": {},
   "outputs": [],
   "source": [
    "pd.set_option('display.max_rows', 100)\n",
    "pd.set_option('display.max_colwidth', 0)"
   ]
  },
  {
   "cell_type": "code",
   "execution_count": 5,
   "metadata": {},
   "outputs": [],
   "source": [
    "def show_examples(value_counts, df, n_examples=50, condenseType='sentence', **kwargs):\n",
    "    \"\"\"Prepares and shows examples from a supplied Series.value_counts()\"\"\"\n",
    "    \n",
    "    n_to_get = ((value_counts / value_counts.sum()) * n_examples).round()\n",
    "    samples = []\n",
    "    \n",
    "    for word in n_to_get.index:\n",
    "        n = int(n_to_get.loc[word]) or 1\n",
    "        examples = df[df['head_voc'] == word]\n",
    "        get_ilocs = get_spread(examples.shape[0], n)\n",
    "        return_ex = examples.iloc[get_ilocs, :]\n",
    "        samples.extend(return_ex.index)\n",
    "        \n",
    "    samples = [(ph, L.u(ph, 'sentence')[0]) for ph in samples]\n",
    "    A.table(samples, condenseType=condenseType, **kwargs)"
   ]
  },
  {
   "cell_type": "markdown",
   "metadata": {},
   "source": [
    "<hr>"
   ]
  },
  {
   "cell_type": "markdown",
   "metadata": {},
   "source": [
    "# Examples"
   ]
  },
  {
   "cell_type": "markdown",
   "metadata": {},
   "source": [
    "## Definite Time and Locas"
   ]
  },
  {
   "cell_type": "code",
   "execution_count": 6,
   "metadata": {},
   "outputs": [],
   "source": [
    "loca = hm_df[hm_df.function == 'Loca']\n",
    "time = hm_df[hm_df.function == 'Time']\n",
    "defi_time = hm_df[(hm_df.function=='Time') & hm_df.definite]\n",
    "defi_loca  = hm_df[(hm_df.function=='Loca') & hm_df.definite]"
   ]
  },
  {
   "cell_type": "code",
   "execution_count": 7,
   "metadata": {},
   "outputs": [
    {
     "data": {
      "text/plain": [
       "single.prep.definite                                 505\n",
       "single.prep.definite.def_apposition.demonstrative    31 \n",
       "single.definite                                      23 \n",
       "single.prep.definite.quantified.qualitative          14 \n",
       "single.prep.definite.def_apposition                  8  \n",
       "single.prep.definite.quantified.cardinal             4  \n",
       "single.definite.def_apposition.demonstrative         1  \n",
       "single.prep.definite.def_apposition.ordinal          1  \n",
       "single.definite.def_apposition.ordinal               1  \n",
       "single.component.definite                            1  \n",
       "Name: classi, dtype: int64"
      ]
     },
     "execution_count": 7,
     "metadata": {},
     "output_type": "execute_result"
    }
   ],
   "source": [
    "def_loc_counts = defi_loca.classi.value_counts()\n",
    "\n",
    "def_loc_counts"
   ]
  },
  {
   "cell_type": "code",
   "execution_count": 8,
   "metadata": {},
   "outputs": [
    {
     "data": {
      "text/plain": [
       "589"
      ]
     },
     "execution_count": 8,
     "metadata": {},
     "output_type": "execute_result"
    }
   ],
   "source": [
    "def_loc_counts.sum()"
   ]
  },
  {
   "cell_type": "code",
   "execution_count": 9,
   "metadata": {},
   "outputs": [
    {
     "data": {
      "text/plain": [
       "single.prep.definite                                 0.857385\n",
       "single.prep.definite.def_apposition.demonstrative    0.052632\n",
       "single.definite                                      0.039049\n",
       "single.prep.definite.quantified.qualitative          0.023769\n",
       "single.prep.definite.def_apposition                  0.013582\n",
       "single.prep.definite.quantified.cardinal             0.006791\n",
       "single.definite.def_apposition.demonstrative         0.001698\n",
       "single.prep.definite.def_apposition.ordinal          0.001698\n",
       "single.definite.def_apposition.ordinal               0.001698\n",
       "single.component.definite                            0.001698\n",
       "Name: classi, dtype: float64"
      ]
     },
     "execution_count": 9,
     "metadata": {},
     "output_type": "execute_result"
    }
   ],
   "source": [
    "def_loc_counts / def_loc_counts.sum()"
   ]
  },
  {
   "cell_type": "code",
   "execution_count": 10,
   "metadata": {},
   "outputs": [
    {
     "data": {
      "text/plain": [
       "single.prep.definite.def_apposition.demonstrative                      458\n",
       "single.prep.definite                                                   333\n",
       "single.definite                                                        221\n",
       "single.prep.definite.def_apposition.ordinal                            161\n",
       "single.definite.quantified.qualitative                                 92 \n",
       "single.definite.def_apposition.demonstrative                           30 \n",
       "single.component.prep.definite                                         12 \n",
       "single.prep.definite.quantified.cardinal                               7  \n",
       "single.prep.definite.quantified.qualitative                            5  \n",
       "single.definite.quantified.cardinal                                    3  \n",
       "single.prep.definite.def_apposition                                    2  \n",
       "single.prep.definite.adjective                                         2  \n",
       "single.definite.def_apposition.demonstrative.quantified.qualitative    2  \n",
       "single.definite.def_apposition                                         1  \n",
       "single.component.definite                                              1  \n",
       "single.component.prep.definite.def_apposition.ordinal                  1  \n",
       "Name: classi, dtype: int64"
      ]
     },
     "execution_count": 10,
     "metadata": {},
     "output_type": "execute_result"
    }
   ],
   "source": [
    "def_time_counts = defi_time.classi.value_counts()\n",
    "\n",
    "def_time_counts"
   ]
  },
  {
   "cell_type": "code",
   "execution_count": 11,
   "metadata": {},
   "outputs": [
    {
     "data": {
      "text/plain": [
       "1331"
      ]
     },
     "execution_count": 11,
     "metadata": {},
     "output_type": "execute_result"
    }
   ],
   "source": [
    "def_time_counts.sum()"
   ]
  },
  {
   "cell_type": "code",
   "execution_count": 12,
   "metadata": {},
   "outputs": [
    {
     "data": {
      "text/plain": [
       "single.prep.definite.def_apposition.demonstrative                      0.344102\n",
       "single.prep.definite                                                   0.250188\n",
       "single.definite                                                        0.166041\n",
       "single.prep.definite.def_apposition.ordinal                            0.120962\n",
       "single.definite.quantified.qualitative                                 0.069121\n",
       "single.definite.def_apposition.demonstrative                           0.022539\n",
       "single.component.prep.definite                                         0.009016\n",
       "single.prep.definite.quantified.cardinal                               0.005259\n",
       "single.prep.definite.quantified.qualitative                            0.003757\n",
       "single.definite.quantified.cardinal                                    0.002254\n",
       "single.prep.definite.def_apposition                                    0.001503\n",
       "single.prep.definite.adjective                                         0.001503\n",
       "single.definite.def_apposition.demonstrative.quantified.qualitative    0.001503\n",
       "single.definite.def_apposition                                         0.000751\n",
       "single.component.definite                                              0.000751\n",
       "single.component.prep.definite.def_apposition.ordinal                  0.000751\n",
       "Name: classi, dtype: float64"
      ]
     },
     "execution_count": 12,
     "metadata": {},
     "output_type": "execute_result"
    }
   ],
   "source": [
    "def_time_counts / def_time_counts.sum()"
   ]
  },
  {
   "cell_type": "markdown",
   "metadata": {},
   "source": [
    "### single.prep.definite"
   ]
  },
  {
   "cell_type": "code",
   "execution_count": 13,
   "metadata": {},
   "outputs": [],
   "source": [
    "show = ['function', 'ref', 'text', 'sentence']\n",
    "most_common = 'single.prep.definite' # <- this is the phrase classi that has most overlap between Loca and Time\n",
    "\n",
    "most_common_loca = defi_loca[defi_loca.classi == most_common]\n",
    "most_common_time = defi_time[defi_time.classi == most_common]"
   ]
  },
  {
   "cell_type": "code",
   "execution_count": 14,
   "metadata": {},
   "outputs": [
    {
     "data": {
      "text/plain": [
       "ב      347\n",
       "על     55 \n",
       "תחת    33 \n",
       "מן     26 \n",
       "ל      19 \n",
       "אל     9  \n",
       "בין    3  \n",
       "נגד    3  \n",
       "אחר    3  \n",
       "אצל    2  \n",
       "את     2  \n",
       "בעד    1  \n",
       "נכח    1  \n",
       "עד     1  \n",
       "Name: leading_prep, dtype: int64"
      ]
     },
     "execution_count": 14,
     "metadata": {},
     "output_type": "execute_result"
    }
   ],
   "source": [
    "most_common_loca.leading_prep.value_counts()"
   ]
  },
  {
   "cell_type": "code",
   "execution_count": 15,
   "metadata": {},
   "outputs": [
    {
     "data": {
      "text/plain": [
       "ב      197\n",
       "עד     64 \n",
       "ל      42 \n",
       "כ      11 \n",
       "בין    10 \n",
       "אחר    5  \n",
       "מן     3  \n",
       "בלת    1  \n",
       "Name: leading_prep, dtype: int64"
      ]
     },
     "execution_count": 15,
     "metadata": {},
     "output_type": "execute_result"
    }
   ],
   "source": [
    "most_common_time.leading_prep.value_counts()"
   ]
  },
  {
   "cell_type": "code",
   "execution_count": 16,
   "metadata": {},
   "outputs": [
    {
     "data": {
      "text/html": [
       "<div>\n",
       "<style scoped>\n",
       "    .dataframe tbody tr th:only-of-type {\n",
       "        vertical-align: middle;\n",
       "    }\n",
       "\n",
       "    .dataframe tbody tr th {\n",
       "        vertical-align: top;\n",
       "    }\n",
       "\n",
       "    .dataframe thead th {\n",
       "        text-align: right;\n",
       "    }\n",
       "</style>\n",
       "<table border=\"1\" class=\"dataframe\">\n",
       "  <thead>\n",
       "    <tr style=\"text-align: right;\">\n",
       "      <th></th>\n",
       "      <th>head_voc</th>\n",
       "    </tr>\n",
       "  </thead>\n",
       "  <tbody>\n",
       "    <tr>\n",
       "      <th>אֶרֶץ</th>\n",
       "      <td>64</td>\n",
       "    </tr>\n",
       "    <tr>\n",
       "      <th>מִדְבָּר</th>\n",
       "      <td>57</td>\n",
       "    </tr>\n",
       "    <tr>\n",
       "      <th>שָׂדֶה</th>\n",
       "      <td>26</td>\n",
       "    </tr>\n",
       "    <tr>\n",
       "      <th>שֶׁמֶשׁ</th>\n",
       "      <td>25</td>\n",
       "    </tr>\n",
       "    <tr>\n",
       "      <th>הַר</th>\n",
       "      <td>24</td>\n",
       "    </tr>\n",
       "    <tr>\n",
       "      <th>שָׁמַיִם</th>\n",
       "      <td>20</td>\n",
       "    </tr>\n",
       "    <tr>\n",
       "      <th>דֶּרֶךְ</th>\n",
       "      <td>19</td>\n",
       "    </tr>\n",
       "    <tr>\n",
       "      <th>עִיר</th>\n",
       "      <td>18</td>\n",
       "    </tr>\n",
       "    <tr>\n",
       "      <th>בַּיִת</th>\n",
       "      <td>18</td>\n",
       "    </tr>\n",
       "    <tr>\n",
       "      <th>מִזְבֵּחַ</th>\n",
       "      <td>14</td>\n",
       "    </tr>\n",
       "    <tr>\n",
       "      <th>יָם</th>\n",
       "      <td>11</td>\n",
       "    </tr>\n",
       "    <tr>\n",
       "      <th>שַׁעַר</th>\n",
       "      <td>10</td>\n",
       "    </tr>\n",
       "    <tr>\n",
       "      <th>קֹדֶשׁ</th>\n",
       "      <td>10</td>\n",
       "    </tr>\n",
       "    <tr>\n",
       "      <th>בָּמָה</th>\n",
       "      <td>9</td>\n",
       "    </tr>\n",
       "    <tr>\n",
       "      <th>חוּץ</th>\n",
       "      <td>9</td>\n",
       "    </tr>\n",
       "    <tr>\n",
       "      <th>מַחֲנֶה</th>\n",
       "      <td>7</td>\n",
       "    </tr>\n",
       "    <tr>\n",
       "      <th>יַרְדֵּן</th>\n",
       "      <td>7</td>\n",
       "    </tr>\n",
       "    <tr>\n",
       "      <th>אֲדָמָה</th>\n",
       "      <td>7</td>\n",
       "    </tr>\n",
       "    <tr>\n",
       "      <th>גָּג</th>\n",
       "      <td>5</td>\n",
       "    </tr>\n",
       "    <tr>\n",
       "      <th>מָרֹום</th>\n",
       "      <td>5</td>\n",
       "    </tr>\n",
       "  </tbody>\n",
       "</table>\n",
       "</div>"
      ],
      "text/plain": [
       "           head_voc\n",
       "אֶרֶץ      64      \n",
       "מִדְבָּר   57      \n",
       "שָׂדֶה     26      \n",
       "שֶׁמֶשׁ    25      \n",
       "הַר        24      \n",
       "שָׁמַיִם   20      \n",
       "דֶּרֶךְ    19      \n",
       "עִיר       18      \n",
       "בַּיִת     18      \n",
       "מִזְבֵּחַ  14      \n",
       "יָם        11      \n",
       "שַׁעַר     10      \n",
       "קֹדֶשׁ     10      \n",
       "בָּמָה     9       \n",
       "חוּץ       9       \n",
       "מַחֲנֶה    7       \n",
       "יַרְדֵּן   7       \n",
       "אֲדָמָה    7       \n",
       "גָּג       5       \n",
       "מָרֹום     5       "
      ]
     },
     "execution_count": 16,
     "metadata": {},
     "output_type": "execute_result"
    }
   ],
   "source": [
    "# Loca heads in prep + def + noun context\n",
    "loca_heads = pd.DataFrame(most_common_loca.head_voc.value_counts()[:20])\n",
    "\n",
    "loca_heads"
   ]
  },
  {
   "cell_type": "code",
   "execution_count": 17,
   "metadata": {},
   "outputs": [
    {
     "data": {
      "text/html": [
       "<div>\n",
       "<style scoped>\n",
       "    .dataframe tbody tr th:only-of-type {\n",
       "        vertical-align: middle;\n",
       "    }\n",
       "\n",
       "    .dataframe tbody tr th {\n",
       "        vertical-align: top;\n",
       "    }\n",
       "\n",
       "    .dataframe thead th {\n",
       "        text-align: right;\n",
       "    }\n",
       "</style>\n",
       "<table border=\"1\" class=\"dataframe\">\n",
       "  <thead>\n",
       "    <tr style=\"text-align: right;\">\n",
       "      <th></th>\n",
       "      <th>head_voc</th>\n",
       "    </tr>\n",
       "  </thead>\n",
       "  <tbody>\n",
       "    <tr>\n",
       "      <th>שָׁם</th>\n",
       "      <td>309</td>\n",
       "    </tr>\n",
       "    <tr>\n",
       "      <th>אֶרֶץ</th>\n",
       "      <td>203</td>\n",
       "    </tr>\n",
       "    <tr>\n",
       "      <th>בַּיִת</th>\n",
       "      <td>89</td>\n",
       "    </tr>\n",
       "    <tr>\n",
       "      <th>מִדְבָּר</th>\n",
       "      <td>73</td>\n",
       "    </tr>\n",
       "    <tr>\n",
       "      <th>הַר</th>\n",
       "      <td>72</td>\n",
       "    </tr>\n",
       "    <tr>\n",
       "      <th>יְרוּשָׁלִַם</th>\n",
       "      <td>50</td>\n",
       "    </tr>\n",
       "    <tr>\n",
       "      <th>עִיר</th>\n",
       "      <td>42</td>\n",
       "    </tr>\n",
       "    <tr>\n",
       "      <th>מָקֹום</th>\n",
       "      <td>39</td>\n",
       "    </tr>\n",
       "    <tr>\n",
       "      <th>שָׂדֶה</th>\n",
       "      <td>36</td>\n",
       "    </tr>\n",
       "    <tr>\n",
       "      <th>קֶרֶב</th>\n",
       "      <td>32</td>\n",
       "    </tr>\n",
       "    <tr>\n",
       "      <th>שַׁעַר</th>\n",
       "      <td>32</td>\n",
       "    </tr>\n",
       "    <tr>\n",
       "      <th>שָׁמַיִם</th>\n",
       "      <td>31</td>\n",
       "    </tr>\n",
       "    <tr>\n",
       "      <th>גְּבוּל</th>\n",
       "      <td>27</td>\n",
       "    </tr>\n",
       "    <tr>\n",
       "      <th>מִצְרַיִם</th>\n",
       "      <td>26</td>\n",
       "    </tr>\n",
       "    <tr>\n",
       "      <th>פֶּתַח</th>\n",
       "      <td>25</td>\n",
       "    </tr>\n",
       "    <tr>\n",
       "      <th>שֶׁמֶשׁ</th>\n",
       "      <td>25</td>\n",
       "    </tr>\n",
       "    <tr>\n",
       "      <th>אֹהֶל</th>\n",
       "      <td>24</td>\n",
       "    </tr>\n",
       "    <tr>\n",
       "      <th>דֶּרֶךְ</th>\n",
       "      <td>24</td>\n",
       "    </tr>\n",
       "    <tr>\n",
       "      <th>חוּץ</th>\n",
       "      <td>22</td>\n",
       "    </tr>\n",
       "    <tr>\n",
       "      <th>יִשְׂרָאֵל</th>\n",
       "      <td>22</td>\n",
       "    </tr>\n",
       "  </tbody>\n",
       "</table>\n",
       "</div>"
      ],
      "text/plain": [
       "              head_voc\n",
       "שָׁם          309     \n",
       "אֶרֶץ         203     \n",
       "בַּיִת        89      \n",
       "מִדְבָּר      73      \n",
       "הַר           72      \n",
       "יְרוּשָׁלִַם  50      \n",
       "עִיר          42      \n",
       "מָקֹום        39      \n",
       "שָׂדֶה        36      \n",
       "קֶרֶב         32      \n",
       "שַׁעַר        32      \n",
       "שָׁמַיִם      31      \n",
       "גְּבוּל       27      \n",
       "מִצְרַיִם     26      \n",
       "פֶּתַח        25      \n",
       "שֶׁמֶשׁ       25      \n",
       "אֹהֶל         24      \n",
       "דֶּרֶךְ       24      \n",
       "חוּץ          22      \n",
       "יִשְׂרָאֵל    22      "
      ]
     },
     "execution_count": 17,
     "metadata": {},
     "output_type": "execute_result"
    }
   ],
   "source": [
    "top_loca_heads = pd.DataFrame(loca.head_voc.value_counts().head(20))\n",
    "\n",
    "top_loca_heads"
   ]
  },
  {
   "cell_type": "code",
   "execution_count": 18,
   "metadata": {},
   "outputs": [
    {
     "data": {
      "text/plain": [
       "head_voc    1203\n",
       "dtype: int64"
      ]
     },
     "execution_count": 18,
     "metadata": {},
     "output_type": "execute_result"
    }
   ],
   "source": [
    "top_loca_heads.sum()"
   ]
  },
  {
   "cell_type": "code",
   "execution_count": 19,
   "metadata": {},
   "outputs": [
    {
     "data": {
      "text/html": [
       "<div>\n",
       "<style scoped>\n",
       "    .dataframe tbody tr th:only-of-type {\n",
       "        vertical-align: middle;\n",
       "    }\n",
       "\n",
       "    .dataframe tbody tr th {\n",
       "        vertical-align: top;\n",
       "    }\n",
       "\n",
       "    .dataframe thead th {\n",
       "        text-align: right;\n",
       "    }\n",
       "</style>\n",
       "<table border=\"1\" class=\"dataframe\">\n",
       "  <thead>\n",
       "    <tr style=\"text-align: right;\">\n",
       "      <th></th>\n",
       "      <th>head_voc</th>\n",
       "    </tr>\n",
       "  </thead>\n",
       "  <tbody>\n",
       "    <tr>\n",
       "      <th>שָׁם</th>\n",
       "      <td>0.256858</td>\n",
       "    </tr>\n",
       "    <tr>\n",
       "      <th>אֶרֶץ</th>\n",
       "      <td>0.168745</td>\n",
       "    </tr>\n",
       "    <tr>\n",
       "      <th>בַּיִת</th>\n",
       "      <td>0.073982</td>\n",
       "    </tr>\n",
       "    <tr>\n",
       "      <th>מִדְבָּר</th>\n",
       "      <td>0.060682</td>\n",
       "    </tr>\n",
       "    <tr>\n",
       "      <th>הַר</th>\n",
       "      <td>0.059850</td>\n",
       "    </tr>\n",
       "    <tr>\n",
       "      <th>יְרוּשָׁלִַם</th>\n",
       "      <td>0.041563</td>\n",
       "    </tr>\n",
       "    <tr>\n",
       "      <th>עִיר</th>\n",
       "      <td>0.034913</td>\n",
       "    </tr>\n",
       "    <tr>\n",
       "      <th>מָקֹום</th>\n",
       "      <td>0.032419</td>\n",
       "    </tr>\n",
       "    <tr>\n",
       "      <th>שָׂדֶה</th>\n",
       "      <td>0.029925</td>\n",
       "    </tr>\n",
       "    <tr>\n",
       "      <th>קֶרֶב</th>\n",
       "      <td>0.026600</td>\n",
       "    </tr>\n",
       "    <tr>\n",
       "      <th>שַׁעַר</th>\n",
       "      <td>0.026600</td>\n",
       "    </tr>\n",
       "    <tr>\n",
       "      <th>שָׁמַיִם</th>\n",
       "      <td>0.025769</td>\n",
       "    </tr>\n",
       "    <tr>\n",
       "      <th>גְּבוּל</th>\n",
       "      <td>0.022444</td>\n",
       "    </tr>\n",
       "    <tr>\n",
       "      <th>מִצְרַיִם</th>\n",
       "      <td>0.021613</td>\n",
       "    </tr>\n",
       "    <tr>\n",
       "      <th>פֶּתַח</th>\n",
       "      <td>0.020781</td>\n",
       "    </tr>\n",
       "    <tr>\n",
       "      <th>שֶׁמֶשׁ</th>\n",
       "      <td>0.020781</td>\n",
       "    </tr>\n",
       "    <tr>\n",
       "      <th>אֹהֶל</th>\n",
       "      <td>0.019950</td>\n",
       "    </tr>\n",
       "    <tr>\n",
       "      <th>דֶּרֶךְ</th>\n",
       "      <td>0.019950</td>\n",
       "    </tr>\n",
       "    <tr>\n",
       "      <th>חוּץ</th>\n",
       "      <td>0.018288</td>\n",
       "    </tr>\n",
       "    <tr>\n",
       "      <th>יִשְׂרָאֵל</th>\n",
       "      <td>0.018288</td>\n",
       "    </tr>\n",
       "  </tbody>\n",
       "</table>\n",
       "</div>"
      ],
      "text/plain": [
       "              head_voc\n",
       "שָׁם          0.256858\n",
       "אֶרֶץ         0.168745\n",
       "בַּיִת        0.073982\n",
       "מִדְבָּר      0.060682\n",
       "הַר           0.059850\n",
       "יְרוּשָׁלִַם  0.041563\n",
       "עִיר          0.034913\n",
       "מָקֹום        0.032419\n",
       "שָׂדֶה        0.029925\n",
       "קֶרֶב         0.026600\n",
       "שַׁעַר        0.026600\n",
       "שָׁמַיִם      0.025769\n",
       "גְּבוּל       0.022444\n",
       "מִצְרַיִם     0.021613\n",
       "פֶּתַח        0.020781\n",
       "שֶׁמֶשׁ       0.020781\n",
       "אֹהֶל         0.019950\n",
       "דֶּרֶךְ       0.019950\n",
       "חוּץ          0.018288\n",
       "יִשְׂרָאֵל    0.018288"
      ]
     },
     "execution_count": 19,
     "metadata": {},
     "output_type": "execute_result"
    }
   ],
   "source": [
    "top_loca_heads / top_loca_heads.sum() "
   ]
  },
  {
   "cell_type": "code",
   "execution_count": 20,
   "metadata": {},
   "outputs": [
    {
     "data": {
      "text/html": [
       "<div>\n",
       "<style scoped>\n",
       "    .dataframe tbody tr th:only-of-type {\n",
       "        vertical-align: middle;\n",
       "    }\n",
       "\n",
       "    .dataframe tbody tr th {\n",
       "        vertical-align: top;\n",
       "    }\n",
       "\n",
       "    .dataframe thead th {\n",
       "        text-align: right;\n",
       "    }\n",
       "</style>\n",
       "<table border=\"1\" class=\"dataframe\">\n",
       "  <thead>\n",
       "    <tr style=\"text-align: right;\">\n",
       "      <th></th>\n",
       "      <th>head_voc</th>\n",
       "    </tr>\n",
       "  </thead>\n",
       "  <tbody>\n",
       "    <tr>\n",
       "      <th>בֹּקֶר</th>\n",
       "      <td>100</td>\n",
       "    </tr>\n",
       "    <tr>\n",
       "      <th>עֶרֶב</th>\n",
       "      <td>79</td>\n",
       "    </tr>\n",
       "    <tr>\n",
       "      <th>יֹום</th>\n",
       "      <td>44</td>\n",
       "    </tr>\n",
       "    <tr>\n",
       "      <th>לַיְלָה</th>\n",
       "      <td>23</td>\n",
       "    </tr>\n",
       "    <tr>\n",
       "      <th>רִאשֹׁון</th>\n",
       "      <td>15</td>\n",
       "    </tr>\n",
       "    <tr>\n",
       "      <th>צָהֳרַיִם</th>\n",
       "      <td>12</td>\n",
       "    </tr>\n",
       "    <tr>\n",
       "      <th>שָׁנָה</th>\n",
       "      <td>5</td>\n",
       "    </tr>\n",
       "    <tr>\n",
       "      <th>מֹועֵד</th>\n",
       "      <td>5</td>\n",
       "    </tr>\n",
       "    <tr>\n",
       "      <th>עֵת</th>\n",
       "      <td>5</td>\n",
       "    </tr>\n",
       "    <tr>\n",
       "      <th>חֹדֶשׁ</th>\n",
       "      <td>4</td>\n",
       "    </tr>\n",
       "    <tr>\n",
       "      <th>שַׁבָּת</th>\n",
       "      <td>4</td>\n",
       "    </tr>\n",
       "    <tr>\n",
       "      <th>אַחֲרֹון</th>\n",
       "      <td>3</td>\n",
       "    </tr>\n",
       "    <tr>\n",
       "      <th>נֶשֶׁף</th>\n",
       "      <td>3</td>\n",
       "    </tr>\n",
       "    <tr>\n",
       "      <th>מַבּוּל</th>\n",
       "      <td>3</td>\n",
       "    </tr>\n",
       "    <tr>\n",
       "      <th>עֲשִׂירִי</th>\n",
       "      <td>3</td>\n",
       "    </tr>\n",
       "    <tr>\n",
       "      <th>עֹולָם</th>\n",
       "      <td>3</td>\n",
       "    </tr>\n",
       "    <tr>\n",
       "      <th>קַיִץ</th>\n",
       "      <td>3</td>\n",
       "    </tr>\n",
       "    <tr>\n",
       "      <th>תְּחִלָּה</th>\n",
       "      <td>2</td>\n",
       "    </tr>\n",
       "    <tr>\n",
       "      <th>קָצִיר</th>\n",
       "      <td>2</td>\n",
       "    </tr>\n",
       "    <tr>\n",
       "      <th>שְׁבִיעִי</th>\n",
       "      <td>2</td>\n",
       "    </tr>\n",
       "    <tr>\n",
       "      <th>שְׁלִישִׁי</th>\n",
       "      <td>1</td>\n",
       "    </tr>\n",
       "    <tr>\n",
       "      <th>תְּבוּאָה</th>\n",
       "      <td>1</td>\n",
       "    </tr>\n",
       "    <tr>\n",
       "      <th>אֹור</th>\n",
       "      <td>1</td>\n",
       "    </tr>\n",
       "    <tr>\n",
       "      <th>שִׁשִּׁי</th>\n",
       "      <td>1</td>\n",
       "    </tr>\n",
       "    <tr>\n",
       "      <th>יֹובֵל</th>\n",
       "      <td>1</td>\n",
       "    </tr>\n",
       "    <tr>\n",
       "      <th>זַעַם</th>\n",
       "      <td>1</td>\n",
       "    </tr>\n",
       "    <tr>\n",
       "      <th>חֲמִישִׁי</th>\n",
       "      <td>1</td>\n",
       "    </tr>\n",
       "    <tr>\n",
       "      <th>רְבִיעִי</th>\n",
       "      <td>1</td>\n",
       "    </tr>\n",
       "    <tr>\n",
       "      <th>מָחֳרָת</th>\n",
       "      <td>1</td>\n",
       "    </tr>\n",
       "    <tr>\n",
       "      <th>מִצְעָר</th>\n",
       "      <td>1</td>\n",
       "    </tr>\n",
       "    <tr>\n",
       "      <th>מַגֵּפָה</th>\n",
       "      <td>1</td>\n",
       "    </tr>\n",
       "    <tr>\n",
       "      <th>חֹשֶׁךְ</th>\n",
       "      <td>1</td>\n",
       "    </tr>\n",
       "    <tr>\n",
       "      <th>שַׁחַר</th>\n",
       "      <td>1</td>\n",
       "    </tr>\n",
       "  </tbody>\n",
       "</table>\n",
       "</div>"
      ],
      "text/plain": [
       "            head_voc\n",
       "בֹּקֶר      100     \n",
       "עֶרֶב       79      \n",
       "יֹום        44      \n",
       "לַיְלָה     23      \n",
       "רִאשֹׁון    15      \n",
       "צָהֳרַיִם   12      \n",
       "שָׁנָה      5       \n",
       "מֹועֵד      5       \n",
       "עֵת         5       \n",
       "חֹדֶשׁ      4       \n",
       "שַׁבָּת     4       \n",
       "אַחֲרֹון    3       \n",
       "נֶשֶׁף      3       \n",
       "מַבּוּל     3       \n",
       "עֲשִׂירִי   3       \n",
       "עֹולָם      3       \n",
       "קַיִץ       3       \n",
       "תְּחִלָּה   2       \n",
       "קָצִיר      2       \n",
       "שְׁבִיעִי   2       \n",
       "שְׁלִישִׁי  1       \n",
       "תְּבוּאָה   1       \n",
       "אֹור        1       \n",
       "שִׁשִּׁי    1       \n",
       "יֹובֵל      1       \n",
       "זַעַם       1       \n",
       "חֲמִישִׁי   1       \n",
       "רְבִיעִי    1       \n",
       "מָחֳרָת     1       \n",
       "מִצְעָר     1       \n",
       "מַגֵּפָה    1       \n",
       "חֹשֶׁךְ     1       \n",
       "שַׁחַר      1       "
      ]
     },
     "execution_count": 20,
     "metadata": {},
     "output_type": "execute_result"
    }
   ],
   "source": [
    "# Time heads in prep + def + noun context\n",
    "\n",
    "time_heads = pd.DataFrame(most_common_time.head_voc.value_counts())\n",
    "\n",
    "time_heads"
   ]
  },
  {
   "cell_type": "code",
   "execution_count": 21,
   "metadata": {},
   "outputs": [
    {
     "data": {
      "text/plain": [
       "יֹום       1351\n",
       "עַתָּה     356 \n",
       "שָׁנָה     261 \n",
       "עֹולָם     178 \n",
       "עֵת        155 \n",
       "          ...  \n",
       "קְצָת      1   \n",
       "יֹובֵל     1   \n",
       "עֵילֹום    1   \n",
       "זַעַם      1   \n",
       "שַׁחַר     1   \n",
       "Name: head_voc, Length: 115, dtype: int64"
      ]
     },
     "execution_count": 21,
     "metadata": {},
     "output_type": "execute_result"
    }
   ],
   "source": [
    "time.head_voc.value_counts()"
   ]
  },
  {
   "cell_type": "code",
   "execution_count": 22,
   "metadata": {},
   "outputs": [
    {
     "data": {
      "text/plain": [
       "3490"
      ]
     },
     "execution_count": 22,
     "metadata": {},
     "output_type": "execute_result"
    }
   ],
   "source": [
    "time.head_voc.value_counts().sum()"
   ]
  },
  {
   "cell_type": "code",
   "execution_count": 23,
   "metadata": {},
   "outputs": [
    {
     "data": {
      "text/plain": [
       "יֹום       0.387106\n",
       "עַתָּה     0.102006\n",
       "שָׁנָה     0.074785\n",
       "עֹולָם     0.051003\n",
       "עֵת        0.044413\n",
       "             ...   \n",
       "קְצָת      0.000287\n",
       "יֹובֵל     0.000287\n",
       "עֵילֹום    0.000287\n",
       "זַעַם      0.000287\n",
       "שַׁחַר     0.000287\n",
       "Name: head_voc, Length: 115, dtype: float64"
      ]
     },
     "execution_count": 23,
     "metadata": {},
     "output_type": "execute_result"
    }
   ],
   "source": [
    "time.head_voc.value_counts() / time.head_voc.value_counts().sum() "
   ]
  },
  {
   "cell_type": "code",
   "execution_count": 33,
   "metadata": {},
   "outputs": [
    {
     "data": {
      "text/html": [
       "<div>\n",
       "<style scoped>\n",
       "    .dataframe tbody tr th:only-of-type {\n",
       "        vertical-align: middle;\n",
       "    }\n",
       "\n",
       "    .dataframe tbody tr th {\n",
       "        vertical-align: top;\n",
       "    }\n",
       "\n",
       "    .dataframe thead th {\n",
       "        text-align: right;\n",
       "    }\n",
       "</style>\n",
       "<table border=\"1\" class=\"dataframe\">\n",
       "  <thead>\n",
       "    <tr style=\"text-align: right;\">\n",
       "      <th></th>\n",
       "      <th>Time head</th>\n",
       "      <th>freq</th>\n",
       "      <th>Loca head</th>\n",
       "      <th>freq</th>\n",
       "    </tr>\n",
       "  </thead>\n",
       "  <tbody>\n",
       "    <tr>\n",
       "      <th>0</th>\n",
       "      <td>בֹּקֶר</td>\n",
       "      <td>100</td>\n",
       "      <td>אֶרֶץ</td>\n",
       "      <td>64</td>\n",
       "    </tr>\n",
       "    <tr>\n",
       "      <th>1</th>\n",
       "      <td>עֶרֶב</td>\n",
       "      <td>79</td>\n",
       "      <td>מִדְבָּר</td>\n",
       "      <td>57</td>\n",
       "    </tr>\n",
       "    <tr>\n",
       "      <th>2</th>\n",
       "      <td>יֹום</td>\n",
       "      <td>44</td>\n",
       "      <td>שָׂדֶה</td>\n",
       "      <td>26</td>\n",
       "    </tr>\n",
       "    <tr>\n",
       "      <th>3</th>\n",
       "      <td>לַיְלָה</td>\n",
       "      <td>23</td>\n",
       "      <td>שֶׁמֶשׁ</td>\n",
       "      <td>25</td>\n",
       "    </tr>\n",
       "    <tr>\n",
       "      <th>4</th>\n",
       "      <td>רִאשֹׁון</td>\n",
       "      <td>15</td>\n",
       "      <td>הַר</td>\n",
       "      <td>24</td>\n",
       "    </tr>\n",
       "    <tr>\n",
       "      <th>5</th>\n",
       "      <td>צָהֳרַיִם</td>\n",
       "      <td>12</td>\n",
       "      <td>שָׁמַיִם</td>\n",
       "      <td>20</td>\n",
       "    </tr>\n",
       "    <tr>\n",
       "      <th>6</th>\n",
       "      <td>שָׁנָה</td>\n",
       "      <td>5</td>\n",
       "      <td>דֶּרֶךְ</td>\n",
       "      <td>19</td>\n",
       "    </tr>\n",
       "    <tr>\n",
       "      <th>7</th>\n",
       "      <td>מֹועֵד</td>\n",
       "      <td>5</td>\n",
       "      <td>עִיר</td>\n",
       "      <td>18</td>\n",
       "    </tr>\n",
       "    <tr>\n",
       "      <th>8</th>\n",
       "      <td>עֵת</td>\n",
       "      <td>5</td>\n",
       "      <td>בַּיִת</td>\n",
       "      <td>18</td>\n",
       "    </tr>\n",
       "    <tr>\n",
       "      <th>9</th>\n",
       "      <td>חֹדֶשׁ</td>\n",
       "      <td>4</td>\n",
       "      <td>מִזְבֵּחַ</td>\n",
       "      <td>14</td>\n",
       "    </tr>\n",
       "  </tbody>\n",
       "</table>\n",
       "</div>"
      ],
      "text/plain": [
       "   Time head freq  Loca head freq\n",
       "0  בֹּקֶר     100  אֶרֶץ      64 \n",
       "1  עֶרֶב      79   מִדְבָּר   57 \n",
       "2  יֹום       44   שָׂדֶה     26 \n",
       "3  לַיְלָה    23   שֶׁמֶשׁ    25 \n",
       "4  רִאשֹׁון   15   הַר        24 \n",
       "5  צָהֳרַיִם  12   שָׁמַיִם   20 \n",
       "6  שָׁנָה     5    דֶּרֶךְ    19 \n",
       "7  מֹועֵד     5    עִיר       18 \n",
       "8  עֵת        5    בַּיִת     18 \n",
       "9  חֹדֶשׁ     4    מִזְבֵּחַ  14 "
      ]
     },
     "execution_count": 33,
     "metadata": {},
     "output_type": "execute_result"
    }
   ],
   "source": [
    "# export table for paper\n",
    "all_heads = [\n",
    "    pd.DataFrame(time_heads.head(10).reset_index().values, columns=['Time head', 'freq']),\n",
    "    pd.DataFrame(loca_heads.head(10).reset_index().values, columns=['Loca head', 'freq'])\n",
    "]\n",
    "\n",
    "all_heads = pd.concat(all_heads, 1)\n",
    "\n",
    "all_heads.to_clipboard(index=False)\n",
    "all_heads"
   ]
  },
  {
   "cell_type": "markdown",
   "metadata": {},
   "source": [
    "## Simple definite"
   ]
  },
  {
   "cell_type": "code",
   "execution_count": 25,
   "metadata": {},
   "outputs": [],
   "source": [
    "annote_location = paths.project.joinpath('results/spreadsheets/advb_article')"
   ]
  },
  {
   "cell_type": "code",
   "execution_count": 26,
   "metadata": {},
   "outputs": [],
   "source": [
    "## prepare manual tagging dataset\n",
    "\n",
    "\n",
    "#dataset = []\n",
    "#cols = ['ref', 'head_voc', 'text', 'sentence']\n",
    "\n",
    "#for function, df in [('Time', most_common_time), ('Loca', most_common_loca)]:\n",
    "#    export_df = df[cols].copy()\n",
    "#    export_df['link'] = [A.webLink(ph, urlOnly=True) for ph in df.index]\n",
    "#    export_df.to_csv(annote_location.joinpath(f'{function}_definite.csv'))"
   ]
  },
  {
   "cell_type": "code",
   "execution_count": 27,
   "metadata": {},
   "outputs": [
    {
     "data": {
      "text/plain": [
       "333"
      ]
     },
     "execution_count": 27,
     "metadata": {},
     "output_type": "execute_result"
    }
   ],
   "source": [
    "most_common_time.shape[0] "
   ]
  },
  {
   "cell_type": "code",
   "execution_count": 28,
   "metadata": {},
   "outputs": [
    {
     "data": {
      "text/plain": [
       "505"
      ]
     },
     "execution_count": 28,
     "metadata": {},
     "output_type": "execute_result"
    }
   ],
   "source": [
    "most_common_loca.shape[0]"
   ]
  },
  {
   "cell_type": "code",
   "execution_count": 29,
   "metadata": {},
   "outputs": [
    {
     "data": {
      "text/plain": [
       "838"
      ]
     },
     "execution_count": 29,
     "metadata": {},
     "output_type": "execute_result"
    }
   ],
   "source": [
    "most_common_loca.shape[0] + most_common_time.shape[0]"
   ]
  },
  {
   "cell_type": "markdown",
   "metadata": {},
   "source": [
    "### Import annotated data"
   ]
  },
  {
   "cell_type": "code",
   "execution_count": 30,
   "metadata": {},
   "outputs": [],
   "source": [
    "ann_loca = pd.read_csv(annote_location.joinpath('Loca_definite_annotated.csv'))\n",
    "ann_time = pd.read_csv(annote_location.joinpath('Time_definite_annotated.csv'))\n",
    "for df in [ann_loca, ann_time]:\n",
    "    df.set_index('node', inplace=True)"
   ]
  },
  {
   "cell_type": "code",
   "execution_count": 31,
   "metadata": {},
   "outputs": [],
   "source": [
    "# merge annotations with additional data\n",
    "combined_annotes = pd.concat([ann_loca['category'], ann_time['category']])\n",
    "ann_df = pd.concat([hm_df, combined_annotes], 1, join='inner').fillna(False)"
   ]
  },
  {
   "cell_type": "code",
   "execution_count": 32,
   "metadata": {},
   "outputs": [
    {
     "data": {
      "text/html": [
       "<div>\n",
       "<style scoped>\n",
       "    .dataframe tbody tr th:only-of-type {\n",
       "        vertical-align: middle;\n",
       "    }\n",
       "\n",
       "    .dataframe tbody tr th {\n",
       "        vertical-align: top;\n",
       "    }\n",
       "\n",
       "    .dataframe thead tr th {\n",
       "        text-align: left;\n",
       "    }\n",
       "\n",
       "    .dataframe thead tr:last-of-type th {\n",
       "        text-align: right;\n",
       "    }\n",
       "</style>\n",
       "<table border=\"1\" class=\"dataframe\">\n",
       "  <thead>\n",
       "    <tr>\n",
       "      <th>genre</th>\n",
       "      <th colspan=\"4\" halign=\"left\">instruction</th>\n",
       "      <th colspan=\"4\" halign=\"left\">list</th>\n",
       "      <th colspan=\"2\" halign=\"left\">poetry</th>\n",
       "      <th colspan=\"5\" halign=\"left\">prophetic</th>\n",
       "      <th colspan=\"5\" halign=\"left\">prose</th>\n",
       "    </tr>\n",
       "    <tr>\n",
       "      <th>category</th>\n",
       "      <th>anap</th>\n",
       "      <th>frame</th>\n",
       "      <th>glob</th>\n",
       "      <th>imme</th>\n",
       "      <th>anap</th>\n",
       "      <th>frame</th>\n",
       "      <th>glob</th>\n",
       "      <th>name</th>\n",
       "      <th>frame</th>\n",
       "      <th>glob</th>\n",
       "      <th>anap</th>\n",
       "      <th>frame</th>\n",
       "      <th>glob</th>\n",
       "      <th>imme</th>\n",
       "      <th>name</th>\n",
       "      <th>anap</th>\n",
       "      <th>frame</th>\n",
       "      <th>glob</th>\n",
       "      <th>imme</th>\n",
       "      <th>name</th>\n",
       "    </tr>\n",
       "    <tr>\n",
       "      <th>function</th>\n",
       "      <th></th>\n",
       "      <th></th>\n",
       "      <th></th>\n",
       "      <th></th>\n",
       "      <th></th>\n",
       "      <th></th>\n",
       "      <th></th>\n",
       "      <th></th>\n",
       "      <th></th>\n",
       "      <th></th>\n",
       "      <th></th>\n",
       "      <th></th>\n",
       "      <th></th>\n",
       "      <th></th>\n",
       "      <th></th>\n",
       "      <th></th>\n",
       "      <th></th>\n",
       "      <th></th>\n",
       "      <th></th>\n",
       "      <th></th>\n",
       "    </tr>\n",
       "  </thead>\n",
       "  <tbody>\n",
       "    <tr>\n",
       "      <th>Loca</th>\n",
       "      <td>17</td>\n",
       "      <td>21</td>\n",
       "      <td>10</td>\n",
       "      <td>3</td>\n",
       "      <td>0</td>\n",
       "      <td>1</td>\n",
       "      <td>7</td>\n",
       "      <td>2</td>\n",
       "      <td>14</td>\n",
       "      <td>77</td>\n",
       "      <td>5</td>\n",
       "      <td>9</td>\n",
       "      <td>66</td>\n",
       "      <td>3</td>\n",
       "      <td>2</td>\n",
       "      <td>50</td>\n",
       "      <td>80</td>\n",
       "      <td>111</td>\n",
       "      <td>4</td>\n",
       "      <td>23</td>\n",
       "    </tr>\n",
       "    <tr>\n",
       "      <th>Time</th>\n",
       "      <td>0</td>\n",
       "      <td>1</td>\n",
       "      <td>55</td>\n",
       "      <td>0</td>\n",
       "      <td>2</td>\n",
       "      <td>0</td>\n",
       "      <td>4</td>\n",
       "      <td>0</td>\n",
       "      <td>1</td>\n",
       "      <td>45</td>\n",
       "      <td>0</td>\n",
       "      <td>8</td>\n",
       "      <td>41</td>\n",
       "      <td>1</td>\n",
       "      <td>0</td>\n",
       "      <td>2</td>\n",
       "      <td>9</td>\n",
       "      <td>138</td>\n",
       "      <td>26</td>\n",
       "      <td>0</td>\n",
       "    </tr>\n",
       "  </tbody>\n",
       "</table>\n",
       "</div>"
      ],
      "text/plain": [
       "genre    instruction                 list                 poetry       \\\n",
       "category        anap frame glob imme anap frame glob name  frame glob   \n",
       "function                                                                \n",
       "Loca      17          21    10   3    0    1     7    2    14     77    \n",
       "Time      0           1     55   0    2    0     4    0    1      45    \n",
       "\n",
       "genre    prophetic                      prose                       \n",
       "category      anap frame glob imme name  anap frame glob imme name  \n",
       "function                                                            \n",
       "Loca      5         9     66   3    2    50    80    111  4    23   \n",
       "Time      0         8     41   1    0    2     9     138  26   0    "
      ]
     },
     "execution_count": 32,
     "metadata": {},
     "output_type": "execute_result"
    }
   ],
   "source": [
    "ann_count = pd.pivot_table(\n",
    "    ann_df,\n",
    "    index='function',\n",
    "    columns=['genre', 'category'],\n",
    "    aggfunc='size',\n",
    "    fill_value=0,\n",
    ")\n",
    "ann_count"
   ]
  },
  {
   "cell_type": "code",
   "execution_count": 34,
   "metadata": {},
   "outputs": [
    {
     "data": {
      "text/plain": [
       "array([0., 0.])"
      ]
     },
     "execution_count": 34,
     "metadata": {},
     "output_type": "execute_result"
    }
   ],
   "source": [
    "np.zeros(2)"
   ]
  },
  {
   "cell_type": "code",
   "execution_count": 35,
   "metadata": {},
   "outputs": [
    {
     "name": "stdout",
     "output_type": "stream",
     "text": [
      "all\n"
     ]
    },
    {
     "data": {
      "text/html": [
       "<div>\n",
       "<style scoped>\n",
       "    .dataframe tbody tr th:only-of-type {\n",
       "        vertical-align: middle;\n",
       "    }\n",
       "\n",
       "    .dataframe tbody tr th {\n",
       "        vertical-align: top;\n",
       "    }\n",
       "\n",
       "    .dataframe thead th {\n",
       "        text-align: right;\n",
       "    }\n",
       "</style>\n",
       "<table border=\"1\" class=\"dataframe\">\n",
       "  <thead>\n",
       "    <tr style=\"text-align: right;\">\n",
       "      <th>category</th>\n",
       "      <th>anap</th>\n",
       "      <th>frame</th>\n",
       "      <th>glob</th>\n",
       "      <th>imme</th>\n",
       "      <th>name</th>\n",
       "    </tr>\n",
       "    <tr>\n",
       "      <th>function</th>\n",
       "      <th></th>\n",
       "      <th></th>\n",
       "      <th></th>\n",
       "      <th></th>\n",
       "      <th></th>\n",
       "    </tr>\n",
       "  </thead>\n",
       "  <tbody>\n",
       "    <tr>\n",
       "      <th>Loca</th>\n",
       "      <td>72</td>\n",
       "      <td>125</td>\n",
       "      <td>271</td>\n",
       "      <td>10</td>\n",
       "      <td>27</td>\n",
       "    </tr>\n",
       "    <tr>\n",
       "      <th>Time</th>\n",
       "      <td>4</td>\n",
       "      <td>19</td>\n",
       "      <td>283</td>\n",
       "      <td>27</td>\n",
       "      <td>0</td>\n",
       "    </tr>\n",
       "  </tbody>\n",
       "</table>\n",
       "</div>"
      ],
      "text/plain": [
       "category  anap  frame  glob  imme  name\n",
       "function                               \n",
       "Loca      72    125    271   10    27  \n",
       "Time      4     19     283   27    0   "
      ]
     },
     "metadata": {},
     "output_type": "display_data"
    },
    {
     "data": {
      "text/html": [
       "<div>\n",
       "<style scoped>\n",
       "    .dataframe tbody tr th:only-of-type {\n",
       "        vertical-align: middle;\n",
       "    }\n",
       "\n",
       "    .dataframe tbody tr th {\n",
       "        vertical-align: top;\n",
       "    }\n",
       "\n",
       "    .dataframe thead th {\n",
       "        text-align: right;\n",
       "    }\n",
       "</style>\n",
       "<table border=\"1\" class=\"dataframe\">\n",
       "  <thead>\n",
       "    <tr style=\"text-align: right;\">\n",
       "      <th>category</th>\n",
       "      <th>anap</th>\n",
       "      <th>frame</th>\n",
       "      <th>glob</th>\n",
       "      <th>imme</th>\n",
       "      <th>name</th>\n",
       "    </tr>\n",
       "    <tr>\n",
       "      <th>function</th>\n",
       "      <th></th>\n",
       "      <th></th>\n",
       "      <th></th>\n",
       "      <th></th>\n",
       "      <th></th>\n",
       "    </tr>\n",
       "  </thead>\n",
       "  <tbody>\n",
       "    <tr>\n",
       "      <th>Loca</th>\n",
       "      <td>0.142574</td>\n",
       "      <td>0.247525</td>\n",
       "      <td>0.536634</td>\n",
       "      <td>0.019802</td>\n",
       "      <td>0.053465</td>\n",
       "    </tr>\n",
       "    <tr>\n",
       "      <th>Time</th>\n",
       "      <td>0.012012</td>\n",
       "      <td>0.057057</td>\n",
       "      <td>0.849850</td>\n",
       "      <td>0.081081</td>\n",
       "      <td>0.000000</td>\n",
       "    </tr>\n",
       "  </tbody>\n",
       "</table>\n",
       "</div>"
      ],
      "text/plain": [
       "category      anap     frame      glob      imme      name\n",
       "function                                                  \n",
       "Loca      0.142574  0.247525  0.536634  0.019802  0.053465\n",
       "Time      0.012012  0.057057  0.849850  0.081081  0.000000"
      ]
     },
     "metadata": {},
     "output_type": "display_data"
    },
    {
     "name": "stdout",
     "output_type": "stream",
     "text": [
      "\n",
      "prose\n"
     ]
    },
    {
     "data": {
      "text/html": [
       "<div>\n",
       "<style scoped>\n",
       "    .dataframe tbody tr th:only-of-type {\n",
       "        vertical-align: middle;\n",
       "    }\n",
       "\n",
       "    .dataframe tbody tr th {\n",
       "        vertical-align: top;\n",
       "    }\n",
       "\n",
       "    .dataframe thead th {\n",
       "        text-align: right;\n",
       "    }\n",
       "</style>\n",
       "<table border=\"1\" class=\"dataframe\">\n",
       "  <thead>\n",
       "    <tr style=\"text-align: right;\">\n",
       "      <th>category</th>\n",
       "      <th>anap</th>\n",
       "      <th>frame</th>\n",
       "      <th>glob</th>\n",
       "      <th>imme</th>\n",
       "      <th>name</th>\n",
       "    </tr>\n",
       "    <tr>\n",
       "      <th>function</th>\n",
       "      <th></th>\n",
       "      <th></th>\n",
       "      <th></th>\n",
       "      <th></th>\n",
       "      <th></th>\n",
       "    </tr>\n",
       "  </thead>\n",
       "  <tbody>\n",
       "    <tr>\n",
       "      <th>Loca</th>\n",
       "      <td>50</td>\n",
       "      <td>80</td>\n",
       "      <td>111</td>\n",
       "      <td>4</td>\n",
       "      <td>23</td>\n",
       "    </tr>\n",
       "    <tr>\n",
       "      <th>Time</th>\n",
       "      <td>2</td>\n",
       "      <td>9</td>\n",
       "      <td>138</td>\n",
       "      <td>26</td>\n",
       "      <td>0</td>\n",
       "    </tr>\n",
       "  </tbody>\n",
       "</table>\n",
       "</div>"
      ],
      "text/plain": [
       "category  anap  frame  glob  imme  name\n",
       "function                               \n",
       "Loca      50    80     111   4     23  \n",
       "Time      2     9      138   26    0   "
      ]
     },
     "metadata": {},
     "output_type": "display_data"
    },
    {
     "data": {
      "text/html": [
       "<div>\n",
       "<style scoped>\n",
       "    .dataframe tbody tr th:only-of-type {\n",
       "        vertical-align: middle;\n",
       "    }\n",
       "\n",
       "    .dataframe tbody tr th {\n",
       "        vertical-align: top;\n",
       "    }\n",
       "\n",
       "    .dataframe thead th {\n",
       "        text-align: right;\n",
       "    }\n",
       "</style>\n",
       "<table border=\"1\" class=\"dataframe\">\n",
       "  <thead>\n",
       "    <tr style=\"text-align: right;\">\n",
       "      <th>category</th>\n",
       "      <th>anap</th>\n",
       "      <th>frame</th>\n",
       "      <th>glob</th>\n",
       "      <th>imme</th>\n",
       "      <th>name</th>\n",
       "    </tr>\n",
       "    <tr>\n",
       "      <th>function</th>\n",
       "      <th></th>\n",
       "      <th></th>\n",
       "      <th></th>\n",
       "      <th></th>\n",
       "      <th></th>\n",
       "    </tr>\n",
       "  </thead>\n",
       "  <tbody>\n",
       "    <tr>\n",
       "      <th>Loca</th>\n",
       "      <td>0.186567</td>\n",
       "      <td>0.298507</td>\n",
       "      <td>0.414179</td>\n",
       "      <td>0.014925</td>\n",
       "      <td>0.085821</td>\n",
       "    </tr>\n",
       "    <tr>\n",
       "      <th>Time</th>\n",
       "      <td>0.011429</td>\n",
       "      <td>0.051429</td>\n",
       "      <td>0.788571</td>\n",
       "      <td>0.148571</td>\n",
       "      <td>0.000000</td>\n",
       "    </tr>\n",
       "  </tbody>\n",
       "</table>\n",
       "</div>"
      ],
      "text/plain": [
       "category      anap     frame      glob      imme      name\n",
       "function                                                  \n",
       "Loca      0.186567  0.298507  0.414179  0.014925  0.085821\n",
       "Time      0.011429  0.051429  0.788571  0.148571  0.000000"
      ]
     },
     "metadata": {},
     "output_type": "display_data"
    },
    {
     "name": "stdout",
     "output_type": "stream",
     "text": [
      "\n",
      "prophetic\n"
     ]
    },
    {
     "data": {
      "text/html": [
       "<div>\n",
       "<style scoped>\n",
       "    .dataframe tbody tr th:only-of-type {\n",
       "        vertical-align: middle;\n",
       "    }\n",
       "\n",
       "    .dataframe tbody tr th {\n",
       "        vertical-align: top;\n",
       "    }\n",
       "\n",
       "    .dataframe thead th {\n",
       "        text-align: right;\n",
       "    }\n",
       "</style>\n",
       "<table border=\"1\" class=\"dataframe\">\n",
       "  <thead>\n",
       "    <tr style=\"text-align: right;\">\n",
       "      <th>category</th>\n",
       "      <th>anap</th>\n",
       "      <th>frame</th>\n",
       "      <th>glob</th>\n",
       "      <th>imme</th>\n",
       "      <th>name</th>\n",
       "    </tr>\n",
       "    <tr>\n",
       "      <th>function</th>\n",
       "      <th></th>\n",
       "      <th></th>\n",
       "      <th></th>\n",
       "      <th></th>\n",
       "      <th></th>\n",
       "    </tr>\n",
       "  </thead>\n",
       "  <tbody>\n",
       "    <tr>\n",
       "      <th>Loca</th>\n",
       "      <td>5</td>\n",
       "      <td>9</td>\n",
       "      <td>66</td>\n",
       "      <td>3</td>\n",
       "      <td>2</td>\n",
       "    </tr>\n",
       "    <tr>\n",
       "      <th>Time</th>\n",
       "      <td>0</td>\n",
       "      <td>8</td>\n",
       "      <td>41</td>\n",
       "      <td>1</td>\n",
       "      <td>0</td>\n",
       "    </tr>\n",
       "  </tbody>\n",
       "</table>\n",
       "</div>"
      ],
      "text/plain": [
       "category  anap  frame  glob  imme  name\n",
       "function                               \n",
       "Loca      5     9      66    3     2   \n",
       "Time      0     8      41    1     0   "
      ]
     },
     "metadata": {},
     "output_type": "display_data"
    },
    {
     "data": {
      "text/html": [
       "<div>\n",
       "<style scoped>\n",
       "    .dataframe tbody tr th:only-of-type {\n",
       "        vertical-align: middle;\n",
       "    }\n",
       "\n",
       "    .dataframe tbody tr th {\n",
       "        vertical-align: top;\n",
       "    }\n",
       "\n",
       "    .dataframe thead th {\n",
       "        text-align: right;\n",
       "    }\n",
       "</style>\n",
       "<table border=\"1\" class=\"dataframe\">\n",
       "  <thead>\n",
       "    <tr style=\"text-align: right;\">\n",
       "      <th>category</th>\n",
       "      <th>anap</th>\n",
       "      <th>frame</th>\n",
       "      <th>glob</th>\n",
       "      <th>imme</th>\n",
       "      <th>name</th>\n",
       "    </tr>\n",
       "    <tr>\n",
       "      <th>function</th>\n",
       "      <th></th>\n",
       "      <th></th>\n",
       "      <th></th>\n",
       "      <th></th>\n",
       "      <th></th>\n",
       "    </tr>\n",
       "  </thead>\n",
       "  <tbody>\n",
       "    <tr>\n",
       "      <th>Loca</th>\n",
       "      <td>0.058824</td>\n",
       "      <td>0.105882</td>\n",
       "      <td>0.776471</td>\n",
       "      <td>0.035294</td>\n",
       "      <td>0.023529</td>\n",
       "    </tr>\n",
       "    <tr>\n",
       "      <th>Time</th>\n",
       "      <td>0.000000</td>\n",
       "      <td>0.160000</td>\n",
       "      <td>0.820000</td>\n",
       "      <td>0.020000</td>\n",
       "      <td>0.000000</td>\n",
       "    </tr>\n",
       "  </tbody>\n",
       "</table>\n",
       "</div>"
      ],
      "text/plain": [
       "category      anap     frame      glob      imme      name\n",
       "function                                                  \n",
       "Loca      0.058824  0.105882  0.776471  0.035294  0.023529\n",
       "Time      0.000000  0.160000  0.820000  0.020000  0.000000"
      ]
     },
     "metadata": {},
     "output_type": "display_data"
    },
    {
     "name": "stdout",
     "output_type": "stream",
     "text": [
      "\n",
      "poetry\n"
     ]
    },
    {
     "data": {
      "text/html": [
       "<div>\n",
       "<style scoped>\n",
       "    .dataframe tbody tr th:only-of-type {\n",
       "        vertical-align: middle;\n",
       "    }\n",
       "\n",
       "    .dataframe tbody tr th {\n",
       "        vertical-align: top;\n",
       "    }\n",
       "\n",
       "    .dataframe thead th {\n",
       "        text-align: right;\n",
       "    }\n",
       "</style>\n",
       "<table border=\"1\" class=\"dataframe\">\n",
       "  <thead>\n",
       "    <tr style=\"text-align: right;\">\n",
       "      <th>category</th>\n",
       "      <th>frame</th>\n",
       "      <th>glob</th>\n",
       "    </tr>\n",
       "    <tr>\n",
       "      <th>function</th>\n",
       "      <th></th>\n",
       "      <th></th>\n",
       "    </tr>\n",
       "  </thead>\n",
       "  <tbody>\n",
       "    <tr>\n",
       "      <th>Loca</th>\n",
       "      <td>14</td>\n",
       "      <td>77</td>\n",
       "    </tr>\n",
       "    <tr>\n",
       "      <th>Time</th>\n",
       "      <td>1</td>\n",
       "      <td>45</td>\n",
       "    </tr>\n",
       "  </tbody>\n",
       "</table>\n",
       "</div>"
      ],
      "text/plain": [
       "category  frame  glob\n",
       "function             \n",
       "Loca      14     77  \n",
       "Time      1      45  "
      ]
     },
     "metadata": {},
     "output_type": "display_data"
    },
    {
     "data": {
      "text/html": [
       "<div>\n",
       "<style scoped>\n",
       "    .dataframe tbody tr th:only-of-type {\n",
       "        vertical-align: middle;\n",
       "    }\n",
       "\n",
       "    .dataframe tbody tr th {\n",
       "        vertical-align: top;\n",
       "    }\n",
       "\n",
       "    .dataframe thead th {\n",
       "        text-align: right;\n",
       "    }\n",
       "</style>\n",
       "<table border=\"1\" class=\"dataframe\">\n",
       "  <thead>\n",
       "    <tr style=\"text-align: right;\">\n",
       "      <th>category</th>\n",
       "      <th>frame</th>\n",
       "      <th>glob</th>\n",
       "    </tr>\n",
       "    <tr>\n",
       "      <th>function</th>\n",
       "      <th></th>\n",
       "      <th></th>\n",
       "    </tr>\n",
       "  </thead>\n",
       "  <tbody>\n",
       "    <tr>\n",
       "      <th>Loca</th>\n",
       "      <td>0.153846</td>\n",
       "      <td>0.846154</td>\n",
       "    </tr>\n",
       "    <tr>\n",
       "      <th>Time</th>\n",
       "      <td>0.021739</td>\n",
       "      <td>0.978261</td>\n",
       "    </tr>\n",
       "  </tbody>\n",
       "</table>\n",
       "</div>"
      ],
      "text/plain": [
       "category     frame      glob\n",
       "function                    \n",
       "Loca      0.153846  0.846154\n",
       "Time      0.021739  0.978261"
      ]
     },
     "metadata": {},
     "output_type": "display_data"
    },
    {
     "name": "stdout",
     "output_type": "stream",
     "text": [
      "\n"
     ]
    }
   ],
   "source": [
    "count_tables = {} \n",
    "prop_tables = {}\n",
    "stacked_tables = {}\n",
    "\n",
    "all_genre = ann_count.groupby(level='category', axis=1).sum()\n",
    "count_tables['all'] = all_genre\n",
    "prop_tables['all'] = all_genre.div(all_genre.sum(1), 0)\n",
    "stacked_tables['all'] = prop_tables['all'].stack()\n",
    "\n",
    "print('all')\n",
    "display(count_tables['all'])\n",
    "display(prop_tables['all'])\n",
    "print()\n",
    "\n",
    "for genre in ['prose', 'prophetic', 'poetry']:\n",
    "    genre_count = ann_count[(genre,)]\n",
    "    sum_count = genre_count.sum(1)\n",
    "    prop_count = genre_count.div(sum_count, 0)\n",
    "    count_tables[genre] = sum_count\n",
    "    prop_tables[genre] = prop_count\n",
    "    stacked_tables[genre] = prop_count.stack()\n",
    "    \n",
    "    print(genre)\n",
    "    display(genre_count)\n",
    "    display(prop_count)\n",
    "    print()\n",
    "    \n",
    "# add missing values to poetry\n",
    "#for missing in ['imme', 'anap', 'name']:\n",
    "#    prop_tables['poetry'][missing] = np.zeros(2)"
   ]
  },
  {
   "cell_type": "code",
   "execution_count": 36,
   "metadata": {},
   "outputs": [
    {
     "data": {
      "image/png": "[encoded data removed]",
      "text/plain": [
       "<Figure size 1440x360 with 12 Axes>"
      ]
     },
     "metadata": {
      "needs_background": "light"
     },
     "output_type": "display_data"
    }
   ],
   "source": [
    "# configs for the mosaic plot\n",
    "\n",
    "prop_indices = prop_tables['all'].stack().index\n",
    "\n",
    "def labelizer(key):\n",
    "    cat = key[1]\n",
    "    value = round(stacked_tables[genre][key], 2)\n",
    "    return f'{cat} ({value})'\n",
    "\n",
    "tile_properties = lambda k: {'facecolor': 'white', 'edgecolor': 'black', 'linewidth': 0.6}\n",
    "\n",
    "# make the plots\n",
    "fig = plt.figure(figsize=(20, 5))\n",
    "\n",
    "i = 1\n",
    "\n",
    "for genre in ('prose', 'prophetic', 'poetry', 'all'):\n",
    "    \n",
    "    props = prop_tables[genre]\n",
    "    \n",
    "    ax = fig.add_subplot(1, 4, i)\n",
    "    \n",
    "    # config and sort the prop table\n",
    "    props = props.loc[['Time', 'Loca'], :]\n",
    "    plot_order = props.quantile(0.75).sort_values().index\n",
    "    plot_prop = props[plot_order]\n",
    "    \n",
    "    mosaic(\n",
    "        plot_prop.stack(), \n",
    "        ax=ax, \n",
    "        properties=tile_properties, \n",
    "        labelizer=labelizer,\n",
    "        axes_label=True,\n",
    "    )\n",
    "    \n",
    "    ax.set_title(genre)\n",
    "    ax.set_yticks([], [])\n",
    "    ax.set_yticklabels([])\n",
    "    \n",
    "    # change fontsize\n",
    "    new_texts = []\n",
    "    for text, sample in zip(ax.texts, plot_prop.values.flatten()):\n",
    "        if 0.01 < sample < 0.05:\n",
    "            text.set_size(5)\n",
    "        elif sample >= 0.05:\n",
    "            text.set_size(9)\n",
    "        else:\n",
    "            text.set_text('')\n",
    "    i += 1\n",
    "    \n",
    "savefig('prop_defi_mosaic')"
   ]
  },
  {
   "cell_type": "code",
   "execution_count": 37,
   "metadata": {},
   "outputs": [
    {
     "data": {
      "text/plain": [
       "[<matplotlib.lines.Line2D at 0x7fe918b6e5e0>]"
      ]
     },
     "execution_count": 37,
     "metadata": {},
     "output_type": "execute_result"
    },
    {
     "data": {
      "image/png": "[encoded data removed]",
      "text/plain": [
       "<Figure size 432x288 with 1 Axes>"
      ]
     },
     "metadata": {
      "needs_background": "light"
     },
     "output_type": "display_data"
    }
   ],
   "source": [
    "from scipy.stats import linregress\n",
    "x = np.array([0.41, 0.78, 0.85])\n",
    "y = np.array([0.02, 0.05, 0.12])\n",
    "\n",
    "slope, intercept, r, p, std_err = linregress(x,y)\n",
    "lin_reg_y = slope * x + intercept\n",
    "\n",
    "plt.scatter(x, y)\n",
    "plt.plot(x, lin_reg_y, color='red')"
   ]
  },
  {
   "cell_type": "code",
   "execution_count": 40,
   "metadata": {},
   "outputs": [
    {
     "data": {
      "text/plain": [
       "array([0.0150328 , 0.08122242, 0.09374478])"
      ]
     },
     "execution_count": 40,
     "metadata": {},
     "output_type": "execute_result"
    }
   ],
   "source": [
    "lin_reg_y"
   ]
  },
  {
   "cell_type": "code",
   "execution_count": null,
   "metadata": {},
   "outputs": [],
   "source": [
    "p"
   ]
  },
  {
   "cell_type": "code",
   "execution_count": null,
   "metadata": {},
   "outputs": [],
   "source": [
    "r"
   ]
  },
  {
   "cell_type": "code",
   "execution_count": 47,
   "metadata": {},
   "outputs": [
    {
     "data": {
      "text/plain": [
       "0.12290640793124417"
      ]
     },
     "execution_count": 47,
     "metadata": {},
     "output_type": "execute_result"
    }
   ],
   "source": [
    "std_err"
   ]
  },
  {
   "cell_type": "markdown",
   "metadata": {},
   "source": [
    "## Defi"
   ]
  },
  {
   "cell_type": "code",
   "execution_count": 66,
   "metadata": {},
   "outputs": [
    {
     "data": {
      "text/html": [
       "<div>\n",
       "<style scoped>\n",
       "    .dataframe tbody tr th:only-of-type {\n",
       "        vertical-align: middle;\n",
       "    }\n",
       "\n",
       "    .dataframe tbody tr th {\n",
       "        vertical-align: top;\n",
       "    }\n",
       "\n",
       "    .dataframe thead th {\n",
       "        text-align: right;\n",
       "    }\n",
       "</style>\n",
       "<table border=\"1\" class=\"dataframe\">\n",
       "  <thead>\n",
       "    <tr style=\"text-align: right;\">\n",
       "      <th></th>\n",
       "      <th>function</th>\n",
       "      <th>ref</th>\n",
       "      <th>book</th>\n",
       "      <th>ph_type</th>\n",
       "      <th>head</th>\n",
       "      <th>text</th>\n",
       "      <th>token</th>\n",
       "      <th>clause</th>\n",
       "      <th>sentence</th>\n",
       "      <th>classi</th>\n",
       "      <th>...</th>\n",
       "      <th>demon_dist</th>\n",
       "      <th>ordinal</th>\n",
       "      <th>ord_str</th>\n",
       "      <th>cl_kind</th>\n",
       "      <th>verb</th>\n",
       "      <th>tense</th>\n",
       "      <th>verb_lex</th>\n",
       "      <th>book_sbl</th>\n",
       "      <th>lang</th>\n",
       "      <th>genre</th>\n",
       "    </tr>\n",
       "    <tr>\n",
       "      <th>node</th>\n",
       "      <th></th>\n",
       "      <th></th>\n",
       "      <th></th>\n",
       "      <th></th>\n",
       "      <th></th>\n",
       "      <th></th>\n",
       "      <th></th>\n",
       "      <th></th>\n",
       "      <th></th>\n",
       "      <th></th>\n",
       "      <th></th>\n",
       "      <th></th>\n",
       "      <th></th>\n",
       "      <th></th>\n",
       "      <th></th>\n",
       "      <th></th>\n",
       "      <th></th>\n",
       "      <th></th>\n",
       "      <th></th>\n",
       "      <th></th>\n",
       "      <th></th>\n",
       "    </tr>\n",
       "  </thead>\n",
       "  <tbody>\n",
       "    <tr>\n",
       "      <th>664938</th>\n",
       "      <td>Loca</td>\n",
       "      <td>Gen 39:9</td>\n",
       "      <td>Genesis</td>\n",
       "      <td>prep_ph</td>\n",
       "      <td>בית</td>\n",
       "      <td>בַּבַּ֣יִת הַזֶּה֮</td>\n",
       "      <td>ב.ה.בית.ה.זה</td>\n",
       "      <td>אֵינֶ֨נּוּ גָדֹ֜ול בַּבַּ֣יִת הַזֶּה֮ מִמֶּנִּי֒</td>\n",
       "      <td>אֵינֶ֨נּוּ גָדֹ֜ול בַּבַּ֣יִת הַזֶּה֮ מִמֶּנִּי֒</td>\n",
       "      <td>single.prep.definite.def_apposition.demonstrative</td>\n",
       "      <td>...</td>\n",
       "      <td>near</td>\n",
       "      <td>False</td>\n",
       "      <td>NaN</td>\n",
       "      <td>NC</td>\n",
       "      <td>False</td>\n",
       "      <td>NaN</td>\n",
       "      <td>NaN</td>\n",
       "      <td>Gen</td>\n",
       "      <td>Hebrew</td>\n",
       "      <td>prose</td>\n",
       "    </tr>\n",
       "    <tr>\n",
       "      <th>670241</th>\n",
       "      <td>Loca</td>\n",
       "      <td>Exod 3:12</td>\n",
       "      <td>Exodus</td>\n",
       "      <td>prep_ph</td>\n",
       "      <td>הר</td>\n",
       "      <td>עַ֖ל הָהָ֥ר הַזֶּֽה׃</td>\n",
       "      <td>על.ה.הר.ה.זה</td>\n",
       "      <td>תַּֽעַבְדוּן֙ אֶת־הָ֣אֱלֹהִ֔ים עַ֖ל הָהָ֥ר הַזֶּֽה׃</td>\n",
       "      <td>בְּהֹוצִֽיאֲךָ֤ אֶת־הָעָם֙ מִמִּצְרַ֔יִם תַּֽעַבְדוּן֙ אֶת־הָ֣אֱלֹהִ֔ים עַ֖ל הָהָ֥ר הַזֶּֽה׃</td>\n",
       "      <td>single.prep.definite.def_apposition.demonstrative</td>\n",
       "      <td>...</td>\n",
       "      <td>near</td>\n",
       "      <td>False</td>\n",
       "      <td>NaN</td>\n",
       "      <td>VC</td>\n",
       "      <td>True</td>\n",
       "      <td>yqtl</td>\n",
       "      <td>עבד</td>\n",
       "      <td>Exod</td>\n",
       "      <td>Hebrew</td>\n",
       "      <td>prose</td>\n",
       "    </tr>\n",
       "  </tbody>\n",
       "</table>\n",
       "<p>2 rows × 43 columns</p>\n",
       "</div>"
      ],
      "text/plain": [
       "       function        ref     book  ph_type head                   text  \\\n",
       "node                                                                       \n",
       "664938  Loca     Gen 39:9   Genesis  prep_ph  בית  בַּבַּ֣יִת הַזֶּה֮      \n",
       "670241  Loca     Exod 3:12  Exodus   prep_ph  הר   עַ֖ל הָהָ֥ר הַזֶּֽה׃    \n",
       "\n",
       "               token                                                clause  \\\n",
       "node                                                                         \n",
       "664938  ב.ה.בית.ה.זה  אֵינֶ֨נּוּ גָדֹ֜ול בַּבַּ֣יִת הַזֶּה֮ מִמֶּנִּי֒       \n",
       "670241  על.ה.הר.ה.זה  תַּֽעַבְדוּן֙ אֶת־הָ֣אֱלֹהִ֔ים עַ֖ל הָהָ֥ר הַזֶּֽה׃    \n",
       "\n",
       "                                                                                             sentence  \\\n",
       "node                                                                                                    \n",
       "664938  אֵינֶ֨נּוּ גָדֹ֜ול בַּבַּ֣יִת הַזֶּה֮ מִמֶּנִּי֒                                                \n",
       "670241  בְּהֹוצִֽיאֲךָ֤ אֶת־הָעָם֙ מִמִּצְרַ֔יִם תַּֽעַבְדוּן֙ אֶת־הָ֣אֱלֹהִ֔ים עַ֖ל הָהָ֥ר הַזֶּֽה׃    \n",
       "\n",
       "                                                   classi  ...  demon_dist  \\\n",
       "node                                                       ...               \n",
       "664938  single.prep.definite.def_apposition.demonstrative  ...  near         \n",
       "670241  single.prep.definite.def_apposition.demonstrative  ...  near         \n",
       "\n",
       "       ordinal ord_str cl_kind   verb  tense  verb_lex  book_sbl    lang  \\\n",
       "node                                                                       \n",
       "664938  False   NaN     NC      False  NaN    NaN       Gen       Hebrew   \n",
       "670241  False   NaN     VC      True   yqtl   עבד       Exod      Hebrew   \n",
       "\n",
       "        genre  \n",
       "node           \n",
       "664938  prose  \n",
       "670241  prose  \n",
       "\n",
       "[2 rows x 43 columns]"
      ]
     },
     "metadata": {},
     "output_type": "display_data"
    },
    {
     "data": {
      "text/html": [
       "<div>\n",
       "<style scoped>\n",
       "    .dataframe tbody tr th:only-of-type {\n",
       "        vertical-align: middle;\n",
       "    }\n",
       "\n",
       "    .dataframe tbody tr th {\n",
       "        vertical-align: top;\n",
       "    }\n",
       "\n",
       "    .dataframe thead th {\n",
       "        text-align: right;\n",
       "    }\n",
       "</style>\n",
       "<table border=\"1\" class=\"dataframe\">\n",
       "  <thead>\n",
       "    <tr style=\"text-align: right;\">\n",
       "      <th></th>\n",
       "      <th>function</th>\n",
       "      <th>ref</th>\n",
       "      <th>book</th>\n",
       "      <th>ph_type</th>\n",
       "      <th>head</th>\n",
       "      <th>text</th>\n",
       "      <th>token</th>\n",
       "      <th>clause</th>\n",
       "      <th>sentence</th>\n",
       "      <th>classi</th>\n",
       "      <th>...</th>\n",
       "      <th>demon_dist</th>\n",
       "      <th>ordinal</th>\n",
       "      <th>ord_str</th>\n",
       "      <th>cl_kind</th>\n",
       "      <th>verb</th>\n",
       "      <th>tense</th>\n",
       "      <th>verb_lex</th>\n",
       "      <th>book_sbl</th>\n",
       "      <th>lang</th>\n",
       "      <th>genre</th>\n",
       "    </tr>\n",
       "    <tr>\n",
       "      <th>node</th>\n",
       "      <th></th>\n",
       "      <th></th>\n",
       "      <th></th>\n",
       "      <th></th>\n",
       "      <th></th>\n",
       "      <th></th>\n",
       "      <th></th>\n",
       "      <th></th>\n",
       "      <th></th>\n",
       "      <th></th>\n",
       "      <th></th>\n",
       "      <th></th>\n",
       "      <th></th>\n",
       "      <th></th>\n",
       "      <th></th>\n",
       "      <th></th>\n",
       "      <th></th>\n",
       "      <th></th>\n",
       "      <th></th>\n",
       "      <th></th>\n",
       "      <th></th>\n",
       "    </tr>\n",
       "  </thead>\n",
       "  <tbody>\n",
       "    <tr>\n",
       "      <th>653404</th>\n",
       "      <td>Time</td>\n",
       "      <td>Gen 7:11</td>\n",
       "      <td>Genesis</td>\n",
       "      <td>prep_ph</td>\n",
       "      <td>יום</td>\n",
       "      <td>בַּיֹּ֣ום הַזֶּ֗ה</td>\n",
       "      <td>ב.ה.יום.ה.זה</td>\n",
       "      <td>בִּשְׁנַ֨ת שֵׁשׁ־מֵאֹ֤ות שָׁנָה֙ לְחַיֵּי־נֹ֔חַ בַּחֹ֨דֶשׁ֙ הַשֵּׁנִ֔י בְּשִׁבְעָֽה־עָשָׂ֥ר יֹ֖ום לַחֹ֑דֶשׁ בַּיֹּ֣ום הַזֶּ֗ה נִבְקְעוּ֙ כָּֽל־מַעְיְנֹת֙ תְּהֹ֣ום רַבָּ֔ה</td>\n",
       "      <td>בִּשְׁנַ֨ת שֵׁשׁ־מֵאֹ֤ות שָׁנָה֙ לְחַיֵּי־נֹ֔חַ בַּחֹ֨דֶשׁ֙ הַשֵּׁנִ֔י בְּשִׁבְעָֽה־עָשָׂ֥ר יֹ֖ום לַחֹ֑דֶשׁ בַּיֹּ֣ום הַזֶּ֗ה נִבְקְעוּ֙ כָּֽל־מַעְיְנֹת֙ תְּהֹ֣ום רַבָּ֔ה</td>\n",
       "      <td>single.prep.definite.def_apposition.demonstrative</td>\n",
       "      <td>...</td>\n",
       "      <td>near</td>\n",
       "      <td>False</td>\n",
       "      <td>NaN</td>\n",
       "      <td>VC</td>\n",
       "      <td>True</td>\n",
       "      <td>qtl</td>\n",
       "      <td>בקע</td>\n",
       "      <td>Gen</td>\n",
       "      <td>Hebrew</td>\n",
       "      <td>prose</td>\n",
       "    </tr>\n",
       "    <tr>\n",
       "      <th>653415</th>\n",
       "      <td>Time</td>\n",
       "      <td>Gen 7:13</td>\n",
       "      <td>Genesis</td>\n",
       "      <td>prep_ph</td>\n",
       "      <td>יום</td>\n",
       "      <td>בְּעֶ֨צֶם הַיֹּ֤ום הַזֶּה֙</td>\n",
       "      <td>ב.עצם.ה.יום.ה.זה</td>\n",
       "      <td>בְּעֶ֨צֶם הַיֹּ֤ום הַזֶּה֙ בָּ֣א נֹ֔חַ וְשֵׁם־וְחָ֥ם וָיֶ֖פֶת בְּנֵי־נֹ֑חַ וְאֵ֣שֶׁת נֹ֗חַ וּשְׁלֹ֧שֶׁת נְשֵֽׁי־בָנָ֛יו אִתָּ֖ם אֶל־הַתֵּבָֽה׃</td>\n",
       "      <td>בְּעֶ֨צֶם הַיֹּ֤ום הַזֶּה֙ בָּ֣א נֹ֔חַ וְשֵׁם־וְחָ֥ם וָיֶ֖פֶת בְּנֵי־נֹ֑חַ וְאֵ֣שֶׁת נֹ֗חַ וּשְׁלֹ֧שֶׁת נְשֵֽׁי־בָנָ֛יו אִתָּ֖ם אֶל־הַתֵּבָֽה׃ הֵ֜מָּה וְכָל־הַֽחַיָּ֣ה לְמִינָ֗הּ וְכָל־הַבְּהֵמָה֙ לְמִינָ֔הּ וְכָל־הָרֶ֛מֶשׂ הָרֹמֵ֥שׂ עַל־הָאָ֖רֶץ לְמִינֵ֑הוּ וְכָל־הָעֹ֣וף לְמִינֵ֔הוּ כֹּ֖ל צִפֹּ֥ור כָּל־כָּנָֽף׃</td>\n",
       "      <td>single.prep.definite.def_apposition.demonstrative</td>\n",
       "      <td>...</td>\n",
       "      <td>near</td>\n",
       "      <td>False</td>\n",
       "      <td>NaN</td>\n",
       "      <td>VC</td>\n",
       "      <td>True</td>\n",
       "      <td>qtl</td>\n",
       "      <td>בוא</td>\n",
       "      <td>Gen</td>\n",
       "      <td>Hebrew</td>\n",
       "      <td>prose</td>\n",
       "    </tr>\n",
       "  </tbody>\n",
       "</table>\n",
       "<p>2 rows × 43 columns</p>\n",
       "</div>"
      ],
      "text/plain": [
       "       function       ref     book  ph_type head                         text  \\\n",
       "node                                                                            \n",
       "653404  Time     Gen 7:11  Genesis  prep_ph  יום  בַּיֹּ֣ום הַזֶּ֗ה             \n",
       "653415  Time     Gen 7:13  Genesis  prep_ph  יום  בְּעֶ֨צֶם הַיֹּ֤ום הַזֶּה֙    \n",
       "\n",
       "                   token  \\\n",
       "node                       \n",
       "653404  ב.ה.יום.ה.זה       \n",
       "653415  ב.עצם.ה.יום.ה.זה   \n",
       "\n",
       "                                                                                                                                                                             clause  \\\n",
       "node                                                                                                                                                                                  \n",
       "653404  בִּשְׁנַ֨ת שֵׁשׁ־מֵאֹ֤ות שָׁנָה֙ לְחַיֵּי־נֹ֔חַ בַּחֹ֨דֶשׁ֙ הַשֵּׁנִ֔י בְּשִׁבְעָֽה־עָשָׂ֥ר יֹ֖ום לַחֹ֑דֶשׁ בַּיֹּ֣ום הַזֶּ֗ה נִבְקְעוּ֙ כָּֽל־מַעְיְנֹת֙ תְּהֹ֣ום רַבָּ֔ה    \n",
       "653415  בְּעֶ֨צֶם הַיֹּ֤ום הַזֶּה֙ בָּ֣א נֹ֔חַ וְשֵׁם־וְחָ֥ם וָיֶ֖פֶת בְּנֵי־נֹ֑חַ וְאֵ֣שֶׁת נֹ֗חַ וּשְׁלֹ֧שֶׁת נְשֵֽׁי־בָנָ֛יו אִתָּ֖ם אֶל־הַתֵּבָֽה׃                                \n",
       "\n",
       "                                                                                                                                                                                                                                                                                                                          sentence  \\\n",
       "node                                                                                                                                                                                                                                                                                                                                 \n",
       "653404  בִּשְׁנַ֨ת שֵׁשׁ־מֵאֹ֤ות שָׁנָה֙ לְחַיֵּי־נֹ֔חַ בַּחֹ֨דֶשׁ֙ הַשֵּׁנִ֔י בְּשִׁבְעָֽה־עָשָׂ֥ר יֹ֖ום לַחֹ֑דֶשׁ בַּיֹּ֣ום הַזֶּ֗ה נִבְקְעוּ֙ כָּֽל־מַעְיְנֹת֙ תְּהֹ֣ום רַבָּ֔ה                                                                                                                                                   \n",
       "653415  בְּעֶ֨צֶם הַיֹּ֤ום הַזֶּה֙ בָּ֣א נֹ֔חַ וְשֵׁם־וְחָ֥ם וָיֶ֖פֶת בְּנֵי־נֹ֑חַ וְאֵ֣שֶׁת נֹ֗חַ וּשְׁלֹ֧שֶׁת נְשֵֽׁי־בָנָ֛יו אִתָּ֖ם אֶל־הַתֵּבָֽה׃ הֵ֜מָּה וְכָל־הַֽחַיָּ֣ה לְמִינָ֗הּ וְכָל־הַבְּהֵמָה֙ לְמִינָ֔הּ וְכָל־הָרֶ֛מֶשׂ הָרֹמֵ֥שׂ עַל־הָאָ֖רֶץ לְמִינֵ֑הוּ וְכָל־הָעֹ֣וף לְמִינֵ֔הוּ כֹּ֖ל צִפֹּ֥ור כָּל־כָּנָֽף׃    \n",
       "\n",
       "                                                   classi  ...  demon_dist  \\\n",
       "node                                                       ...               \n",
       "653404  single.prep.definite.def_apposition.demonstrative  ...  near         \n",
       "653415  single.prep.definite.def_apposition.demonstrative  ...  near         \n",
       "\n",
       "       ordinal ord_str cl_kind  verb  tense  verb_lex  book_sbl    lang  genre  \n",
       "node                                                                            \n",
       "653404  False   NaN     VC      True  qtl    בקע       Gen       Hebrew  prose  \n",
       "653415  False   NaN     VC      True  qtl    בוא       Gen       Hebrew  prose  \n",
       "\n",
       "[2 rows x 43 columns]"
      ]
     },
     "metadata": {},
     "output_type": "display_data"
    }
   ],
   "source": [
    "classi = 'single.prep.definite.def_apposition.demonstrative'\n",
    "def_app_loc = hm_df[(hm_df.function == 'Loca') & (hm_df.classi == classi)]\n",
    "def_app_time = hm_df[(hm_df.function == 'Time') & (hm_df.classi == classi)]\n",
    "                     \n",
    "display(def_app_loc.head(2))\n",
    "display(def_app_time.head(2))"
   ]
  },
  {
   "cell_type": "code",
   "execution_count": 71,
   "metadata": {},
   "outputs": [
    {
     "data": {
      "text/html": [
       "<div>\n",
       "<style scoped>\n",
       "    .dataframe tbody tr th:only-of-type {\n",
       "        vertical-align: middle;\n",
       "    }\n",
       "\n",
       "    .dataframe tbody tr th {\n",
       "        vertical-align: top;\n",
       "    }\n",
       "\n",
       "    .dataframe thead th {\n",
       "        text-align: right;\n",
       "    }\n",
       "</style>\n",
       "<table border=\"1\" class=\"dataframe\">\n",
       "  <thead>\n",
       "    <tr style=\"text-align: right;\">\n",
       "      <th></th>\n",
       "      <th>head_voc</th>\n",
       "    </tr>\n",
       "  </thead>\n",
       "  <tbody>\n",
       "    <tr>\n",
       "      <th>מָקֹום</th>\n",
       "      <td>9</td>\n",
       "    </tr>\n",
       "    <tr>\n",
       "      <th>אֶרֶץ</th>\n",
       "      <td>5</td>\n",
       "    </tr>\n",
       "    <tr>\n",
       "      <th>הַר</th>\n",
       "      <td>4</td>\n",
       "    </tr>\n",
       "    <tr>\n",
       "      <th>בַּיִת</th>\n",
       "      <td>3</td>\n",
       "    </tr>\n",
       "    <tr>\n",
       "      <th>מִדְבָּר</th>\n",
       "      <td>3</td>\n",
       "    </tr>\n",
       "    <tr>\n",
       "      <th>עִיר</th>\n",
       "      <td>2</td>\n",
       "    </tr>\n",
       "    <tr>\n",
       "      <th>גֹּוי</th>\n",
       "      <td>1</td>\n",
       "    </tr>\n",
       "    <tr>\n",
       "      <th>מָעֹוז</th>\n",
       "      <td>1</td>\n",
       "    </tr>\n",
       "    <tr>\n",
       "      <th>לִשְׁכָּה</th>\n",
       "      <td>1</td>\n",
       "    </tr>\n",
       "    <tr>\n",
       "      <th>חֶלְקָה</th>\n",
       "      <td>1</td>\n",
       "    </tr>\n",
       "    <tr>\n",
       "      <th>מִקְנֶה</th>\n",
       "      <td>1</td>\n",
       "    </tr>\n",
       "  </tbody>\n",
       "</table>\n",
       "</div>"
      ],
      "text/plain": [
       "           head_voc\n",
       "מָקֹום     9       \n",
       "אֶרֶץ      5       \n",
       "הַר        4       \n",
       "בַּיִת     3       \n",
       "מִדְבָּר   3       \n",
       "עִיר       2       \n",
       "גֹּוי      1       \n",
       "מָעֹוז     1       \n",
       "לִשְׁכָּה  1       \n",
       "חֶלְקָה    1       \n",
       "מִקְנֶה    1       "
      ]
     },
     "execution_count": 71,
     "metadata": {},
     "output_type": "execute_result"
    }
   ],
   "source": [
    "# look at the heads\n",
    "\n",
    "head_defapps_loc = pd.DataFrame(def_app_loc.head_voc.value_counts())\n",
    "\n",
    "head_defapps_loc"
   ]
  },
  {
   "cell_type": "code",
   "execution_count": 78,
   "metadata": {},
   "outputs": [
    {
     "data": {
      "text/plain": [
       "Index(['מָקֹום', 'אֶרֶץ', 'הַר', 'בַּיִת', 'מִדְבָּר', 'עִיר', 'גֹּוי',\n",
       "       'מָעֹוז', 'לִשְׁכָּה', 'חֶלְקָה', 'מִקְנֶה'],\n",
       "      dtype='object')"
      ]
     },
     "execution_count": 78,
     "metadata": {},
     "output_type": "execute_result"
    }
   ],
   "source": [
    "head_defapps_loc.index"
   ]
  },
  {
   "cell_type": "code",
   "execution_count": 72,
   "metadata": {},
   "outputs": [
    {
     "data": {
      "text/html": [
       "<div>\n",
       "<style scoped>\n",
       "    .dataframe tbody tr th:only-of-type {\n",
       "        vertical-align: middle;\n",
       "    }\n",
       "\n",
       "    .dataframe tbody tr th {\n",
       "        vertical-align: top;\n",
       "    }\n",
       "\n",
       "    .dataframe thead th {\n",
       "        text-align: right;\n",
       "    }\n",
       "</style>\n",
       "<table border=\"1\" class=\"dataframe\">\n",
       "  <thead>\n",
       "    <tr style=\"text-align: right;\">\n",
       "      <th></th>\n",
       "      <th>head_voc</th>\n",
       "    </tr>\n",
       "  </thead>\n",
       "  <tbody>\n",
       "    <tr>\n",
       "      <th>יֹום</th>\n",
       "      <td>352</td>\n",
       "    </tr>\n",
       "    <tr>\n",
       "      <th>עֵת</th>\n",
       "      <td>65</td>\n",
       "    </tr>\n",
       "    <tr>\n",
       "      <th>לַיְלָה</th>\n",
       "      <td>18</td>\n",
       "    </tr>\n",
       "    <tr>\n",
       "      <th>דָּבָר</th>\n",
       "      <td>12</td>\n",
       "    </tr>\n",
       "    <tr>\n",
       "      <th>שָׁנָה</th>\n",
       "      <td>6</td>\n",
       "    </tr>\n",
       "    <tr>\n",
       "      <th>פַּעַם</th>\n",
       "      <td>3</td>\n",
       "    </tr>\n",
       "    <tr>\n",
       "      <th>חֹדֶשׁ</th>\n",
       "      <td>2</td>\n",
       "    </tr>\n",
       "  </tbody>\n",
       "</table>\n",
       "</div>"
      ],
      "text/plain": [
       "         head_voc\n",
       "יֹום     352     \n",
       "עֵת      65      \n",
       "לַיְלָה  18      \n",
       "דָּבָר   12      \n",
       "שָׁנָה   6       \n",
       "פַּעַם   3       \n",
       "חֹדֶשׁ   2       "
      ]
     },
     "execution_count": 72,
     "metadata": {},
     "output_type": "execute_result"
    }
   ],
   "source": [
    "# look at the heads\n",
    "head_defapps_time = pd.DataFrame(def_app_time.head_voc.value_counts())\n",
    "head_defapps_time"
   ]
  },
  {
   "cell_type": "code",
   "execution_count": 83,
   "metadata": {},
   "outputs": [
    {
     "name": "stdout",
     "output_type": "stream",
     "text": [
      "Index(['מָקֹום', 'אֶרֶץ', 'הַר', 'בַּיִת', 'מִדְבָּר', 'עִיר', 'גֹּוי',\n",
      "       'מָעֹוז', 'לִשְׁכָּה', 'חֶלְקָה', 'מִקְנֶה'],\n",
      "      dtype='object')\n"
     ]
    },
    {
     "data": {
      "text/html": [
       "<table><tr class=\"tf rtl\"><th class=\"tf rtl\">n</th><th class=\"tf rtl\">p</th><th class=\"tf rtl\">phrase</th><th class=\"tf\">sentence</th></tr>\n",
       "<tr class=\"tf rtl\"><td class=\"tf rtl\">1</td><td class=\"tf rtl\"><span class=\"section ltr\"><a target=\"_blank\" href=\"https://shebanq.ancient-data.org/hebrew/text?book=Reges_I&amp;chapter=13&amp;verse=8&amp;version=c&amp;mr=m&amp;qw=q&amp;tp=txt_p&amp;tr=hb&amp;wget=v&amp;qget=v&amp;nget=vt\" title=\"Show this on SHEBANQ\" sec=\"1_Kings 13:8\">1_Kings 13:8</a></span></td><td class=\"tf rtl\"><div class=\"rtl\"><span class=\"plain rtl  hlbx\" ><span class=\"txtu hbo\">בַּ</span><span class=\"txtu hbo\">מָּקֹ֖ום </span><span class=\"txtu hbo\">הַ</span><span class=\"txtu hbo\">זֶּֽה׃ </span></span></div></td><td class=\"tf rtl\"><div class=\"rtl\"><span class=\"txtu hbo\">וְ</span><span class=\"txtu hbo\">לֹ֣א </span><span class=\"txtu hbo\">אֶשְׁתֶּה־</span><span class=\"txtu hbo\">מַּ֔יִם </span><span class=\"plain rtl  hlbx\" ><span class=\"txtu hbo\">בַּ</span><span class=\"txtu hbo\">מָּקֹ֖ום </span><span class=\"txtu hbo\">הַ</span><span class=\"txtu hbo\">זֶּֽה׃ </span></span></div></td></tr>\n",
       "<tr class=\"tf rtl\"><td class=\"tf rtl\">2</td><td class=\"tf rtl\"><span class=\"section ltr\"><a target=\"_blank\" href=\"https://shebanq.ancient-data.org/hebrew/text?book=Reges_I&amp;chapter=13&amp;verse=16&amp;version=c&amp;mr=m&amp;qw=q&amp;tp=txt_p&amp;tr=hb&amp;wget=v&amp;qget=v&amp;nget=vt\" title=\"Show this on SHEBANQ\" sec=\"1_Kings 13:16\">1_Kings 13:16</a></span></td><td class=\"tf rtl\"><div class=\"rtl\"><span class=\"plain rtl  hlbx\" ><span class=\"txtu hbo\">בַּ</span><span class=\"txtu hbo\">מָּקֹ֖ום </span><span class=\"txtu hbo\">הַ</span><span class=\"txtu hbo\">זֶּֽה׃ </span></span></div></td><td class=\"tf rtl\"><div class=\"rtl\"><span class=\"txtu hbo\">וְ</span><span class=\"txtu hbo\">לֹֽא־</span><span class=\"txtu hbo\">אֶשְׁתֶּ֤ה </span><span class=\"txtu hbo\">אִתְּךָ֙ </span><span class=\"txtu hbo\">מַ֔יִם </span><span class=\"plain rtl  hlbx\" ><span class=\"txtu hbo\">בַּ</span><span class=\"txtu hbo\">מָּקֹ֖ום </span><span class=\"txtu hbo\">הַ</span><span class=\"txtu hbo\">זֶּֽה׃ </span></span></div></td></tr>\n",
       "<tr class=\"tf rtl\"><td class=\"tf rtl\">3</td><td class=\"tf rtl\"><span class=\"section ltr\"><a target=\"_blank\" href=\"https://shebanq.ancient-data.org/hebrew/text?book=Jeremia&amp;chapter=7&amp;verse=6&amp;version=c&amp;mr=m&amp;qw=q&amp;tp=txt_p&amp;tr=hb&amp;wget=v&amp;qget=v&amp;nget=vt\" title=\"Show this on SHEBANQ\" sec=\"Jeremiah 7:6\">Jeremiah 7:6</a></span></td><td class=\"tf rtl\"><div class=\"rtl\"><span class=\"plain rtl  hlbx\" ><span class=\"txtu hbo\">בַּ</span><span class=\"txtu hbo\">מָּקֹ֣ום </span><span class=\"txtu hbo\">הַ</span><span class=\"txtu hbo\">זֶּ֑ה </span></span></div></td><td class=\"tf rtl\"><div class=\"rtl\"><span class=\"txtu hbo\">וְ</span><span class=\"txtu hbo\">דָ֣ם </span><span class=\"txtu hbo\">נָקִ֔י </span><span class=\"txtu hbo\">אַֽל־</span><span class=\"txtu hbo\">תִּשְׁפְּכ֖וּ </span><span class=\"plain rtl  hlbx\" ><span class=\"txtu hbo\">בַּ</span><span class=\"txtu hbo\">מָּקֹ֣ום </span><span class=\"txtu hbo\">הַ</span><span class=\"txtu hbo\">זֶּ֑ה </span></span></div></td></tr>\n",
       "<tr class=\"tf rtl\"><td class=\"tf rtl\">4</td><td class=\"tf rtl\"><span class=\"section ltr\"><a target=\"_blank\" href=\"https://shebanq.ancient-data.org/hebrew/text?book=Jeremia&amp;chapter=14&amp;verse=13&amp;version=c&amp;mr=m&amp;qw=q&amp;tp=txt_p&amp;tr=hb&amp;wget=v&amp;qget=v&amp;nget=vt\" title=\"Show this on SHEBANQ\" sec=\"Jeremiah 14:13\">Jeremiah 14:13</a></span></td><td class=\"tf rtl\"><div class=\"rtl\"><span class=\"plain rtl  hlbx\" ><span class=\"txtu hbo\">בַּ</span><span class=\"txtu hbo\">מָּקֹ֖ום </span><span class=\"txtu hbo\">הַ</span><span class=\"txtu hbo\">זֶּֽה׃ ס </span></span></div></td><td class=\"tf rtl\"><div class=\"rtl\"><span class=\"txtu hbo\">כִּֽי־</span><span class=\"txtu hbo\">שְׁלֹ֤ום </span><span class=\"txtu hbo\">אֱמֶת֙ </span><span class=\"txtu hbo\">אֶתֵּ֣ן </span><span class=\"txtu hbo\">לָכֶ֔ם </span><span class=\"plain rtl  hlbx\" ><span class=\"txtu hbo\">בַּ</span><span class=\"txtu hbo\">מָּקֹ֖ום </span><span class=\"txtu hbo\">הַ</span><span class=\"txtu hbo\">זֶּֽה׃ ס </span></span></div></td></tr>\n",
       "<tr class=\"tf rtl\"><td class=\"tf rtl\">5</td><td class=\"tf rtl\"><span class=\"section ltr\"><a target=\"_blank\" href=\"https://shebanq.ancient-data.org/hebrew/text?book=Jeremia&amp;chapter=16&amp;verse=2&amp;version=c&amp;mr=m&amp;qw=q&amp;tp=txt_p&amp;tr=hb&amp;wget=v&amp;qget=v&amp;nget=vt\" title=\"Show this on SHEBANQ\" sec=\"Jeremiah 16:2\">Jeremiah 16:2</a></span></td><td class=\"tf rtl\"><div class=\"rtl\"><span class=\"plain rtl  hlbx\" ><span class=\"txtu hbo\">בַּ</span><span class=\"txtu hbo\">מָּקֹ֖ום </span><span class=\"txtu hbo\">הַ</span><span class=\"txtu hbo\">זֶּֽה׃ </span></span></div></td><td class=\"tf rtl\"><div class=\"rtl\"><span class=\"txtu hbo\">וְ</span><span class=\"txtu hbo\">לֹֽא־</span><span class=\"txtu hbo\">יִהְי֤וּ </span><span class=\"txtu hbo\">לְךָ֙ </span><span class=\"txtu hbo\">בָּנִ֣ים </span><span class=\"txtu hbo\">וּ</span><span class=\"txtu hbo\">בָנֹ֔ות </span><span class=\"plain rtl  hlbx\" ><span class=\"txtu hbo\">בַּ</span><span class=\"txtu hbo\">מָּקֹ֖ום </span><span class=\"txtu hbo\">הַ</span><span class=\"txtu hbo\">זֶּֽה׃ </span></span></div></td></tr>\n",
       "<tr class=\"tf rtl\"><td class=\"tf rtl\">6</td><td class=\"tf rtl\"><span class=\"section ltr\"><a target=\"_blank\" href=\"https://shebanq.ancient-data.org/hebrew/text?book=Jeremia&amp;chapter=16&amp;verse=3&amp;version=c&amp;mr=m&amp;qw=q&amp;tp=txt_p&amp;tr=hb&amp;wget=v&amp;qget=v&amp;nget=vt\" title=\"Show this on SHEBANQ\" sec=\"Jeremiah 16:3\">Jeremiah 16:3</a></span></td><td class=\"tf rtl\"><div class=\"rtl\"><span class=\"plain rtl  hlbx\" ><span class=\"txtu hbo\">בַּ</span><span class=\"txtu hbo\">מָּקֹ֣ום </span><span class=\"txtu hbo\">הַ</span><span class=\"txtu hbo\">זֶּ֑ה </span></span></div></td><td class=\"tf rtl\"><div class=\"rtl\"><span class=\"plain rtl l \" ><span class=\"txtu hbo\">כִּי־</span><span class=\"txtu hbo\">כֹ֣ה׀ </span><span class=\"txtu hbo\">אָמַ֣ר </span><span class=\"txtu hbo\">יְהוָ֗ה </span><span class=\"plain rtl l \" ><span class=\"txtu hbo\">עַל־</span><span class=\"txtu hbo\">הַ</span><span class=\"txtu hbo\">בָּנִים֙ </span><span class=\"txtu hbo\">וְ</span><span class=\"txtu hbo\">עַל־</span><span class=\"txtu hbo\">הַ</span><span class=\"txtu hbo\">בָּנֹ֔ות </span></span></span><span class=\"txtu hbo\">הַ</span><span class=\"txtu hbo\">יִּלֹּודִ֖ים </span><span class=\"plain rtl  hlbx\" ><span class=\"txtu hbo\">בַּ</span><span class=\"txtu hbo\">מָּקֹ֣ום </span><span class=\"txtu hbo\">הַ</span><span class=\"txtu hbo\">זֶּ֑ה </span></span><span class=\"txtu hbo\">וְ</span><span class=\"txtu hbo\">עַֽל־</span><span class=\"txtu hbo\">אִמֹּתָ֞ם </span><span class=\"txtu hbo\">הַ</span><span class=\"txtu hbo\">יֹּלְדֹ֣ות </span><span class=\"txtu hbo\">אֹותָ֗ם </span><span class=\"plain rtl r \" ><span class=\"plain rtl r \" ><span class=\"txtu hbo\">וְ</span><span class=\"txtu hbo\">עַל־</span><span class=\"txtu hbo\">אֲבֹותָ֛ם </span></span></span><span class=\"txtu hbo\">הַ</span><span class=\"txtu hbo\">מֹּולִדִ֥ים </span><span class=\"txtu hbo\">אֹותָ֖ם </span><span class=\"txtu hbo\">בָּ</span><span class=\"txtu hbo\">אָ֥רֶץ </span><span class=\"txtu hbo\">הַ</span><span class=\"txtu hbo\">זֹּֽאת׃ </span></div></td></tr>\n",
       "<tr class=\"tf rtl\"><td class=\"tf rtl\">7</td><td class=\"tf rtl\"><span class=\"section ltr\"><a target=\"_blank\" href=\"https://shebanq.ancient-data.org/hebrew/text?book=Jeremia&amp;chapter=19&amp;verse=7&amp;version=c&amp;mr=m&amp;qw=q&amp;tp=txt_p&amp;tr=hb&amp;wget=v&amp;qget=v&amp;nget=vt\" title=\"Show this on SHEBANQ\" sec=\"Jeremiah 19:7\">Jeremiah 19:7</a></span></td><td class=\"tf rtl\"><div class=\"rtl\"><span class=\"plain rtl  hlbx\" ><span class=\"txtu hbo\">בַּ</span><span class=\"txtu hbo\">מָּקֹ֣ום </span><span class=\"txtu hbo\">הַ</span><span class=\"txtu hbo\">זֶּ֔ה </span></span></div></td><td class=\"tf rtl\"><div class=\"rtl\"><span class=\"txtu hbo\">וּ֠</span><span class=\"txtu hbo\">בַקֹּתִי </span><span class=\"txtu hbo\">אֶת־</span><span class=\"txtu hbo\">עֲצַ֨ת </span><span class=\"txtu hbo\">יְהוּדָ֤ה </span><span class=\"txtu hbo\">וִ</span><span class=\"txtu hbo\">ירוּשָׁלִַ֨ם֙ </span><span class=\"plain rtl  hlbx\" ><span class=\"txtu hbo\">בַּ</span><span class=\"txtu hbo\">מָּקֹ֣ום </span><span class=\"txtu hbo\">הַ</span><span class=\"txtu hbo\">זֶּ֔ה </span></span></div></td></tr>\n",
       "<tr class=\"tf rtl\"><td class=\"tf rtl\">8</td><td class=\"tf rtl\"><span class=\"section ltr\"><a target=\"_blank\" href=\"https://shebanq.ancient-data.org/hebrew/text?book=Jeremia&amp;chapter=22&amp;verse=3&amp;version=c&amp;mr=m&amp;qw=q&amp;tp=txt_p&amp;tr=hb&amp;wget=v&amp;qget=v&amp;nget=vt\" title=\"Show this on SHEBANQ\" sec=\"Jeremiah 22:3\">Jeremiah 22:3</a></span></td><td class=\"tf rtl\"><div class=\"rtl\"><span class=\"plain rtl  hlbx\" ><span class=\"txtu hbo\">בַּ</span><span class=\"txtu hbo\">מָּקֹ֥ום </span><span class=\"txtu hbo\">הַ</span><span class=\"txtu hbo\">זֶּֽה׃ </span></span></div></td><td class=\"tf rtl\"><div class=\"rtl\"><span class=\"txtu hbo\">וְ</span><span class=\"txtu hbo\">דָ֣ם </span><span class=\"txtu hbo\">נָקִ֔י </span><span class=\"txtu hbo\">אַֽל־</span><span class=\"txtu hbo\">תִּשְׁפְּכ֖וּ </span><span class=\"plain rtl  hlbx\" ><span class=\"txtu hbo\">בַּ</span><span class=\"txtu hbo\">מָּקֹ֥ום </span><span class=\"txtu hbo\">הַ</span><span class=\"txtu hbo\">זֶּֽה׃ </span></span></div></td></tr>\n",
       "<tr class=\"tf rtl\"><td class=\"tf rtl\">9</td><td class=\"tf rtl\"><span class=\"section ltr\"><a target=\"_blank\" href=\"https://shebanq.ancient-data.org/hebrew/text?book=Jeremia&amp;chapter=44&amp;verse=29&amp;version=c&amp;mr=m&amp;qw=q&amp;tp=txt_p&amp;tr=hb&amp;wget=v&amp;qget=v&amp;nget=vt\" title=\"Show this on SHEBANQ\" sec=\"Jeremiah 44:29\">Jeremiah 44:29</a></span></td><td class=\"tf rtl\"><div class=\"rtl\"><span class=\"plain rtl  hlbx\" ><span class=\"txtu hbo\">בַּ</span><span class=\"txtu hbo\">מָּקֹ֣ום </span><span class=\"txtu hbo\">הַ</span><span class=\"txtu hbo\">זֶּ֑ה </span></span></div></td><td class=\"tf rtl\"><div class=\"rtl\"><span class=\"txtu hbo\">כִּֽי־</span><span class=\"txtu hbo\">פֹקֵ֥ד </span><span class=\"txtu hbo\">אֲנִ֛י </span><span class=\"txtu hbo\">עֲלֵיכֶ֖ם </span><span class=\"plain rtl  hlbx\" ><span class=\"txtu hbo\">בַּ</span><span class=\"txtu hbo\">מָּקֹ֣ום </span><span class=\"txtu hbo\">הַ</span><span class=\"txtu hbo\">זֶּ֑ה </span></span></div></td></tr>\n",
       "<tr class=\"tf rtl\"><td class=\"tf rtl\">10</td><td class=\"tf rtl\"><span class=\"section ltr\"><a target=\"_blank\" href=\"https://shebanq.ancient-data.org/hebrew/text?book=Deuteronomium&amp;chapter=4&amp;verse=22&amp;version=c&amp;mr=m&amp;qw=q&amp;tp=txt_p&amp;tr=hb&amp;wget=v&amp;qget=v&amp;nget=vt\" title=\"Show this on SHEBANQ\" sec=\"Deuteronomy 4:22\">Deuteronomy 4:22</a></span></td><td class=\"tf rtl\"><div class=\"rtl\"><span class=\"plain rtl  hlbx\" ><span class=\"txtu hbo\">בָּ</span><span class=\"txtu hbo\">אָ֣רֶץ </span><span class=\"txtu hbo\">הַ</span><span class=\"txtu hbo\">זֹּ֔את </span></span></div></td><td class=\"tf rtl\"><div class=\"rtl\"><span class=\"txtu hbo\">כִּ֣י </span><span class=\"txtu hbo\">אָנֹכִ֥י </span><span class=\"txtu hbo\">מֵת֙ </span><span class=\"plain rtl  hlbx\" ><span class=\"txtu hbo\">בָּ</span><span class=\"txtu hbo\">אָ֣רֶץ </span><span class=\"txtu hbo\">הַ</span><span class=\"txtu hbo\">זֹּ֔את </span></span></div></td></tr>\n",
       "<tr class=\"tf rtl\"><td class=\"tf rtl\">11</td><td class=\"tf rtl\"><span class=\"section ltr\"><a target=\"_blank\" href=\"https://shebanq.ancient-data.org/hebrew/text?book=Jeremia&amp;chapter=16&amp;verse=3&amp;version=c&amp;mr=m&amp;qw=q&amp;tp=txt_p&amp;tr=hb&amp;wget=v&amp;qget=v&amp;nget=vt\" title=\"Show this on SHEBANQ\" sec=\"Jeremiah 16:3\">Jeremiah 16:3</a></span></td><td class=\"tf rtl\"><div class=\"rtl\"><span class=\"plain rtl  hlbx\" ><span class=\"txtu hbo\">בָּ</span><span class=\"txtu hbo\">אָ֥רֶץ </span><span class=\"txtu hbo\">הַ</span><span class=\"txtu hbo\">זֹּֽאת׃ </span></span></div></td><td class=\"tf rtl\"><div class=\"rtl\"><span class=\"plain rtl l \" ><span class=\"txtu hbo\">כִּי־</span><span class=\"txtu hbo\">כֹ֣ה׀ </span><span class=\"txtu hbo\">אָמַ֣ר </span><span class=\"txtu hbo\">יְהוָ֗ה </span><span class=\"plain rtl l \" ><span class=\"txtu hbo\">עַל־</span><span class=\"txtu hbo\">הַ</span><span class=\"txtu hbo\">בָּנִים֙ </span><span class=\"txtu hbo\">וְ</span><span class=\"txtu hbo\">עַל־</span><span class=\"txtu hbo\">הַ</span><span class=\"txtu hbo\">בָּנֹ֔ות </span></span></span><span class=\"txtu hbo\">הַ</span><span class=\"txtu hbo\">יִּלֹּודִ֖ים </span><span class=\"txtu hbo\">בַּ</span><span class=\"txtu hbo\">מָּקֹ֣ום </span><span class=\"txtu hbo\">הַ</span><span class=\"txtu hbo\">זֶּ֑ה </span><span class=\"txtu hbo\">וְ</span><span class=\"txtu hbo\">עַֽל־</span><span class=\"txtu hbo\">אִמֹּתָ֞ם </span><span class=\"txtu hbo\">הַ</span><span class=\"txtu hbo\">יֹּלְדֹ֣ות </span><span class=\"txtu hbo\">אֹותָ֗ם </span><span class=\"plain rtl r \" ><span class=\"plain rtl r \" ><span class=\"txtu hbo\">וְ</span><span class=\"txtu hbo\">עַל־</span><span class=\"txtu hbo\">אֲבֹותָ֛ם </span></span></span><span class=\"txtu hbo\">הַ</span><span class=\"txtu hbo\">מֹּולִדִ֥ים </span><span class=\"txtu hbo\">אֹותָ֖ם </span><span class=\"plain rtl  hlbx\" ><span class=\"txtu hbo\">בָּ</span><span class=\"txtu hbo\">אָ֥רֶץ </span><span class=\"txtu hbo\">הַ</span><span class=\"txtu hbo\">זֹּֽאת׃ </span></span></div></td></tr>\n",
       "<tr class=\"tf rtl\"><td class=\"tf rtl\">12</td><td class=\"tf rtl\"><span class=\"section ltr\"><a target=\"_blank\" href=\"https://shebanq.ancient-data.org/hebrew/text?book=Jeremia&amp;chapter=16&amp;verse=6&amp;version=c&amp;mr=m&amp;qw=q&amp;tp=txt_p&amp;tr=hb&amp;wget=v&amp;qget=v&amp;nget=vt\" title=\"Show this on SHEBANQ\" sec=\"Jeremiah 16:6\">Jeremiah 16:6</a></span></td><td class=\"tf rtl\"><div class=\"rtl\"><span class=\"plain rtl  hlbx\" ><span class=\"txtu hbo\">בָּ</span><span class=\"txtu hbo\">אָ֥רֶץ </span><span class=\"txtu hbo\">הַ</span><span class=\"txtu hbo\">זֹּ֖את </span></span></div></td><td class=\"tf rtl\"><div class=\"rtl\"><span class=\"txtu hbo\">וּ</span><span class=\"txtu hbo\">מֵ֨תוּ </span><span class=\"txtu hbo\">גְדֹלִ֧ים </span><span class=\"txtu hbo\">וּ</span><span class=\"txtu hbo\">קְטַנִּ֛ים </span><span class=\"plain rtl  hlbx\" ><span class=\"txtu hbo\">בָּ</span><span class=\"txtu hbo\">אָ֥רֶץ </span><span class=\"txtu hbo\">הַ</span><span class=\"txtu hbo\">זֹּ֖את </span></span></div></td></tr>\n",
       "<tr class=\"tf rtl\"><td class=\"tf rtl\">13</td><td class=\"tf rtl\"><span class=\"section ltr\"><a target=\"_blank\" href=\"https://shebanq.ancient-data.org/hebrew/text?book=Jeremia&amp;chapter=32&amp;verse=15&amp;version=c&amp;mr=m&amp;qw=q&amp;tp=txt_p&amp;tr=hb&amp;wget=v&amp;qget=v&amp;nget=vt\" title=\"Show this on SHEBANQ\" sec=\"Jeremiah 32:15\">Jeremiah 32:15</a></span></td><td class=\"tf rtl\"><div class=\"rtl\"><span class=\"plain rtl  hlbx\" ><span class=\"txtu hbo\">בָּ</span><span class=\"txtu hbo\">אָ֥רֶץ </span><span class=\"txtu hbo\">הַ</span><span class=\"txtu hbo\">זֹּֽאת׃ פ </span></span></div></td><td class=\"tf rtl\"><div class=\"rtl\"><span class=\"txtu hbo\">עֹ֣וד </span><span class=\"txtu hbo\">יִקָּנ֥וּ </span><span class=\"txtu hbo\">בָתִּ֛ים </span><span class=\"txtu hbo\">וְ</span><span class=\"txtu hbo\">שָׂדֹ֥ות </span><span class=\"txtu hbo\">וּ</span><span class=\"txtu hbo\">כְרָמִ֖ים </span><span class=\"plain rtl  hlbx\" ><span class=\"txtu hbo\">בָּ</span><span class=\"txtu hbo\">אָ֥רֶץ </span><span class=\"txtu hbo\">הַ</span><span class=\"txtu hbo\">זֹּֽאת׃ פ </span></span></div></td></tr>\n",
       "<tr class=\"tf rtl\"><td class=\"tf rtl\">14</td><td class=\"tf rtl\"><span class=\"section ltr\"><a target=\"_blank\" href=\"https://shebanq.ancient-data.org/hebrew/text?book=Jeremia&amp;chapter=32&amp;verse=41&amp;version=c&amp;mr=m&amp;qw=q&amp;tp=txt_p&amp;tr=hb&amp;wget=v&amp;qget=v&amp;nget=vt\" title=\"Show this on SHEBANQ\" sec=\"Jeremiah 32:41\">Jeremiah 32:41</a></span></td><td class=\"tf rtl\"><div class=\"rtl\"><span class=\"plain rtl  hlbx\" ><span class=\"txtu hbo\">בָּ</span><span class=\"txtu hbo\">אָ֤רֶץ </span><span class=\"txtu hbo\">הַ</span><span class=\"txtu hbo\">זֹּאת֙ </span></span></div></td><td class=\"tf rtl\"><div class=\"rtl\"><span class=\"txtu hbo\">וּ</span><span class=\"txtu hbo\">נְטַעְתִּ֞ים </span><span class=\"plain rtl  hlbx\" ><span class=\"txtu hbo\">בָּ</span><span class=\"txtu hbo\">אָ֤רֶץ </span><span class=\"txtu hbo\">הַ</span><span class=\"txtu hbo\">זֹּאת֙ </span></span><span class=\"txtu hbo\">בֶּ</span><span class=\"txtu hbo\">אֱמֶ֔ת </span><span class=\"txtu hbo\">בְּ</span><span class=\"txtu hbo\">כָל־</span><span class=\"txtu hbo\">לִבִּ֖י </span><span class=\"txtu hbo\">וּ</span><span class=\"txtu hbo\">בְ</span><span class=\"txtu hbo\">כָל־</span><span class=\"txtu hbo\">נַפְשִֽׁי׃ ס </span></div></td></tr>\n",
       "<tr class=\"tf rtl\"><td class=\"tf rtl\">15</td><td class=\"tf rtl\"><span class=\"section ltr\"><a target=\"_blank\" href=\"https://shebanq.ancient-data.org/hebrew/text?book=Exodus&amp;chapter=3&amp;verse=12&amp;version=c&amp;mr=m&amp;qw=q&amp;tp=txt_p&amp;tr=hb&amp;wget=v&amp;qget=v&amp;nget=vt\" title=\"Show this on SHEBANQ\" sec=\"Exodus 3:12\">Exodus 3:12</a></span></td><td class=\"tf rtl\"><div class=\"rtl\"><span class=\"plain rtl  hlbx\" ><span class=\"txtu hbo\">עַ֖ל </span><span class=\"txtu hbo\">הָ</span><span class=\"txtu hbo\">הָ֥ר </span><span class=\"txtu hbo\">הַ</span><span class=\"txtu hbo\">זֶּֽה׃ </span></span></div></td><td class=\"tf rtl\"><div class=\"rtl\"><span class=\"txtu hbo\">בְּ</span><span class=\"txtu hbo\">הֹוצִֽיאֲךָ֤ </span><span class=\"txtu hbo\">אֶת־</span><span class=\"txtu hbo\">הָ</span><span class=\"txtu hbo\">עָם֙ </span><span class=\"txtu hbo\">מִ</span><span class=\"txtu hbo\">מִּצְרַ֔יִם </span><span class=\"txtu hbo\">תַּֽעַבְדוּן֙ </span><span class=\"txtu hbo\">אֶת־</span><span class=\"txtu hbo\">הָ֣</span><span class=\"txtu hbo\">אֱלֹהִ֔ים </span><span class=\"plain rtl  hlbx\" ><span class=\"txtu hbo\">עַ֖ל </span><span class=\"txtu hbo\">הָ</span><span class=\"txtu hbo\">הָ֥ר </span><span class=\"txtu hbo\">הַ</span><span class=\"txtu hbo\">זֶּֽה׃ </span></span></div></td></tr>\n",
       "<tr class=\"tf rtl\"><td class=\"tf rtl\">16</td><td class=\"tf rtl\"><span class=\"section ltr\"><a target=\"_blank\" href=\"https://shebanq.ancient-data.org/hebrew/text?book=Deuteronomium&amp;chapter=1&amp;verse=6&amp;version=c&amp;mr=m&amp;qw=q&amp;tp=txt_p&amp;tr=hb&amp;wget=v&amp;qget=v&amp;nget=vt\" title=\"Show this on SHEBANQ\" sec=\"Deuteronomy 1:6\">Deuteronomy 1:6</a></span></td><td class=\"tf rtl\"><div class=\"rtl\"><span class=\"plain rtl  hlbx\" ><span class=\"txtu hbo\">בָּ</span><span class=\"txtu hbo\">הָ֥ר </span><span class=\"txtu hbo\">הַ</span><span class=\"txtu hbo\">זֶּֽה׃ </span></span></div></td><td class=\"tf rtl\"><div class=\"rtl\"><span class=\"txtu hbo\">רַב־</span><span class=\"txtu hbo\">לָכֶ֥ם </span><span class=\"txtu hbo\">שֶׁ֖בֶת </span><span class=\"plain rtl  hlbx\" ><span class=\"txtu hbo\">בָּ</span><span class=\"txtu hbo\">הָ֥ר </span><span class=\"txtu hbo\">הַ</span><span class=\"txtu hbo\">זֶּֽה׃ </span></span></div></td></tr>\n",
       "<tr class=\"tf rtl\"><td class=\"tf rtl\">17</td><td class=\"tf rtl\"><span class=\"section ltr\"><a target=\"_blank\" href=\"https://shebanq.ancient-data.org/hebrew/text?book=Jesaia&amp;chapter=25&amp;verse=6&amp;version=c&amp;mr=m&amp;qw=q&amp;tp=txt_p&amp;tr=hb&amp;wget=v&amp;qget=v&amp;nget=vt\" title=\"Show this on SHEBANQ\" sec=\"Isaiah 25:6\">Isaiah 25:6</a></span></td><td class=\"tf rtl\"><div class=\"rtl\"><span class=\"plain rtl  hlbx\" ><span class=\"txtu hbo\">בָּ</span><span class=\"txtu hbo\">הָ֣ר </span><span class=\"txtu hbo\">הַ</span><span class=\"txtu hbo\">זֶּ֔ה </span></span></div></td><td class=\"tf rtl\"><div class=\"rtl\"><span class=\"txtu hbo\">וְ</span><span class=\"txtu hbo\">עָשָׂה֩ </span><span class=\"txtu hbo\">יְהוָ֨ה </span><span class=\"txtu hbo\">צְבָאֹ֜ות </span><span class=\"txtu hbo\">לְ</span><span class=\"txtu hbo\">כָל־</span><span class=\"txtu hbo\">הָֽ</span><span class=\"txtu hbo\">עַמִּים֙ </span><span class=\"plain rtl  hlbx\" ><span class=\"txtu hbo\">בָּ</span><span class=\"txtu hbo\">הָ֣ר </span><span class=\"txtu hbo\">הַ</span><span class=\"txtu hbo\">זֶּ֔ה </span></span><span class=\"txtu hbo\">מִשְׁתֵּ֥ה </span><span class=\"txtu hbo\">שְׁמָנִ֖ים </span><span class=\"txtu hbo\">מִשְׁתֵּ֣ה </span><span class=\"txtu hbo\">שְׁמָרִ֑ים </span><span class=\"txtu hbo\">שְׁמָנִים֙ </span><span class=\"txtu hbo\">מְמֻ֣חָיִ֔ם </span><span class=\"txtu hbo\">שְׁמָרִ֖ים </span><span class=\"txtu hbo\">מְזֻקָּקִֽים׃ </span></div></td></tr>\n",
       "<tr class=\"tf rtl\"><td class=\"tf rtl\">18</td><td class=\"tf rtl\"><span class=\"section ltr\"><a target=\"_blank\" href=\"https://shebanq.ancient-data.org/hebrew/text?book=Jesaia&amp;chapter=25&amp;verse=7&amp;version=c&amp;mr=m&amp;qw=q&amp;tp=txt_p&amp;tr=hb&amp;wget=v&amp;qget=v&amp;nget=vt\" title=\"Show this on SHEBANQ\" sec=\"Isaiah 25:7\">Isaiah 25:7</a></span></td><td class=\"tf rtl\"><div class=\"rtl\"><span class=\"plain rtl  hlbx\" ><span class=\"txtu hbo\">בָּ</span><span class=\"txtu hbo\">הָ֣ר </span><span class=\"txtu hbo\">הַ</span><span class=\"txtu hbo\">זֶּ֔ה </span></span></div></td><td class=\"tf rtl\"><div class=\"rtl\"><span class=\"txtu hbo\">וּ</span><span class=\"txtu hbo\">בִלַּע֙ </span><span class=\"plain rtl  hlbx\" ><span class=\"txtu hbo\">בָּ</span><span class=\"txtu hbo\">הָ֣ר </span><span class=\"txtu hbo\">הַ</span><span class=\"txtu hbo\">זֶּ֔ה </span></span><span class=\"txtu hbo\">פְּנֵֽי־</span><span class=\"txtu hbo\">הַ</span><span class=\"txtu hbo\">לֹּ֥וט׀ </span><span class=\"txtu hbo\">הַ</span><span class=\"txtu hbo\">לֹּ֖וט </span><span class=\"txtu hbo\">עַל־</span><span class=\"txtu hbo\">כָּל־</span><span class=\"txtu hbo\">הָֽ</span><span class=\"txtu hbo\">עַמִּ֑ים </span><span class=\"txtu hbo\">וְ</span><span class=\"txtu hbo\">הַ</span><span class=\"txtu hbo\">מַּסֵּכָ֥ה </span><span class=\"txtu hbo\">הַ</span><span class=\"txtu hbo\">נְּסוּכָ֖ה </span><span class=\"txtu hbo\">עַל־</span><span class=\"txtu hbo\">כָּל־</span><span class=\"txtu hbo\">הַ</span><span class=\"txtu hbo\">גֹּויִֽם׃ </span></div></td></tr>\n",
       "<tr class=\"tf rtl\"><td class=\"tf rtl\">19</td><td class=\"tf rtl\"><span class=\"section ltr\"><a target=\"_blank\" href=\"https://shebanq.ancient-data.org/hebrew/text?book=Genesis&amp;chapter=39&amp;verse=9&amp;version=c&amp;mr=m&amp;qw=q&amp;tp=txt_p&amp;tr=hb&amp;wget=v&amp;qget=v&amp;nget=vt\" title=\"Show this on SHEBANQ\" sec=\"Genesis 39:9\">Genesis 39:9</a></span></td><td class=\"tf rtl\"><div class=\"rtl\"><span class=\"plain rtl  hlbx\" ><span class=\"txtu hbo\">בַּ</span><span class=\"txtu hbo\">בַּ֣יִת </span><span class=\"txtu hbo\">הַ</span><span class=\"txtu hbo\">זֶּה֮ </span></span></div></td><td class=\"tf rtl\"><div class=\"rtl\"><span class=\"txtu hbo\">אֵינֶ֨נּוּ </span><span class=\"txtu hbo\">גָדֹ֜ול </span><span class=\"plain rtl  hlbx\" ><span class=\"txtu hbo\">בַּ</span><span class=\"txtu hbo\">בַּ֣יִת </span><span class=\"txtu hbo\">הַ</span><span class=\"txtu hbo\">זֶּה֮ </span></span><span class=\"txtu hbo\">מִמֶּנִּי֒ </span></div></td></tr>\n",
       "<tr class=\"tf rtl\"><td class=\"tf rtl\">20</td><td class=\"tf rtl\"><span class=\"section ltr\"><a target=\"_blank\" href=\"https://shebanq.ancient-data.org/hebrew/text?book=Reges_I&amp;chapter=8&amp;verse=33&amp;version=c&amp;mr=m&amp;qw=q&amp;tp=txt_p&amp;tr=hb&amp;wget=v&amp;qget=v&amp;nget=vt\" title=\"Show this on SHEBANQ\" sec=\"1_Kings 8:33\">1_Kings 8:33</a></span></td><td class=\"tf rtl\"><div class=\"rtl\"><span class=\"plain rtl  hlbx\" ><span class=\"txtu hbo\">בַּ</span><span class=\"txtu hbo\">בַּ֥יִת </span><span class=\"txtu hbo\">הַ</span><span class=\"txtu hbo\">זֶּֽה׃ </span></span></div></td><td class=\"tf rtl\"><div class=\"rtl\"><span class=\"txtu hbo\">בְּֽ</span><span class=\"txtu hbo\">הִנָּגֵ֞ף </span><span class=\"txtu hbo\">עַמְּךָ֧ </span><span class=\"txtu hbo\">יִשְׂרָאֵ֛ל </span><span class=\"txtu hbo\">לִ</span><span class=\"txtu hbo\">פְנֵ֥י </span><span class=\"txtu hbo\">אֹויֵ֖ב </span><span class=\"txtu hbo\">אֲשֶׁ֣ר </span><span class=\"txtu hbo\">יֶחֶטְאוּ־</span><span class=\"txtu hbo\">לָ֑ךְ </span><span class=\"txtu hbo\">וְ</span><span class=\"txtu hbo\">שָׁ֤בוּ </span><span class=\"txtu hbo\">אֵלֶ֨יךָ֙ </span><span class=\"txtu hbo\">וְ</span><span class=\"txtu hbo\">הֹוד֣וּ </span><span class=\"txtu hbo\">אֶת־</span><span class=\"txtu hbo\">שְׁמֶ֔ךָ </span><span class=\"txtu hbo\">וְ</span><span class=\"txtu hbo\">הִֽתְפַּֽלְל֧וּ </span><span class=\"txtu hbo\">וְ</span><span class=\"txtu hbo\">הִֽתְחַנְּנ֛וּ </span><span class=\"txtu hbo\">אֵלֶ֖יךָ </span><span class=\"plain rtl  hlbx\" ><span class=\"txtu hbo\">בַּ</span><span class=\"txtu hbo\">בַּ֥יִת </span><span class=\"txtu hbo\">הַ</span><span class=\"txtu hbo\">זֶּֽה׃ </span></span></div></td></tr>\n",
       "<tr class=\"tf rtl\"><td class=\"tf rtl\">21</td><td class=\"tf rtl\"><span class=\"section ltr\"><a target=\"_blank\" href=\"https://shebanq.ancient-data.org/hebrew/text?book=Chronica_II&amp;chapter=6&amp;verse=24&amp;version=c&amp;mr=m&amp;qw=q&amp;tp=txt_p&amp;tr=hb&amp;wget=v&amp;qget=v&amp;nget=vt\" title=\"Show this on SHEBANQ\" sec=\"2_Chronicles 6:24\">2_Chronicles 6:24</a></span></td><td class=\"tf rtl\"><div class=\"rtl\"><span class=\"plain rtl  hlbx\" ><span class=\"txtu hbo\">בַּ</span><span class=\"txtu hbo\">בַּ֥יִת </span><span class=\"txtu hbo\">הַ</span><span class=\"txtu hbo\">זֶּֽה׃ </span></span></div></td><td class=\"tf rtl\"><div class=\"rtl\"><span class=\"txtu hbo\">וְ</span><span class=\"txtu hbo\">הִֽתְחַנְּנ֛וּ </span><span class=\"txtu hbo\">לְ</span><span class=\"txtu hbo\">פָנֶ֖יךָ </span><span class=\"plain rtl  hlbx\" ><span class=\"txtu hbo\">בַּ</span><span class=\"txtu hbo\">בַּ֥יִת </span><span class=\"txtu hbo\">הַ</span><span class=\"txtu hbo\">זֶּֽה׃ </span></span></div></td></tr>\n",
       "<tr class=\"tf rtl\"><td class=\"tf rtl\">22</td><td class=\"tf rtl\"><span class=\"section ltr\"><a target=\"_blank\" href=\"https://shebanq.ancient-data.org/hebrew/text?book=Numeri&amp;chapter=14&amp;verse=29&amp;version=c&amp;mr=m&amp;qw=q&amp;tp=txt_p&amp;tr=hb&amp;wget=v&amp;qget=v&amp;nget=vt\" title=\"Show this on SHEBANQ\" sec=\"Numbers 14:29\">Numbers 14:29</a></span></td><td class=\"tf rtl\"><div class=\"rtl\"><span class=\"plain rtl  hlbx\" ><span class=\"txtu hbo\">בַּ</span><span class=\"txtu hbo\">מִּדְבָּ֣ר </span><span class=\"txtu hbo\">הַ֠</span><span class=\"txtu hbo\">זֶּה </span></span></div></td><td class=\"tf rtl\"><div class=\"rtl\"><span class=\"plain rtl  hlbx\" ><span class=\"txtu hbo\">בַּ</span><span class=\"txtu hbo\">מִּדְבָּ֣ר </span><span class=\"txtu hbo\">הַ֠</span><span class=\"txtu hbo\">זֶּה </span></span><span class=\"txtu hbo\">יִפְּל֨וּ </span><span class=\"txtu hbo\">פִגְרֵיכֶ֜ם </span><span class=\"txtu hbo\">וְ</span><span class=\"txtu hbo\">כָל־</span><span class=\"txtu hbo\">פְּקֻדֵיכֶם֙ </span><span class=\"txtu hbo\">לְ</span><span class=\"txtu hbo\">כָל־</span><span class=\"txtu hbo\">מִסְפַּרְכֶ֔ם </span><span class=\"txtu hbo\">מִ</span><span class=\"txtu hbo\">בֶּ֛ן </span><span class=\"txtu hbo\">עֶשְׂרִ֥ים </span><span class=\"txtu hbo\">שָׁנָ֖ה </span><span class=\"txtu hbo\">וָ</span><span class=\"txtu hbo\">מָ֑עְלָה </span><span class=\"txtu hbo\">אֲשֶׁ֥ר </span><span class=\"txtu hbo\">הֲלִֽינֹתֶ֖ם </span><span class=\"txtu hbo\">עָלָֽי׃ </span></div></td></tr>\n",
       "<tr class=\"tf rtl\"><td class=\"tf rtl\">23</td><td class=\"tf rtl\"><span class=\"section ltr\"><a target=\"_blank\" href=\"https://shebanq.ancient-data.org/hebrew/text?book=Numeri&amp;chapter=14&amp;verse=32&amp;version=c&amp;mr=m&amp;qw=q&amp;tp=txt_p&amp;tr=hb&amp;wget=v&amp;qget=v&amp;nget=vt\" title=\"Show this on SHEBANQ\" sec=\"Numbers 14:32\">Numbers 14:32</a></span></td><td class=\"tf rtl\"><div class=\"rtl\"><span class=\"plain rtl  hlbx\" ><span class=\"txtu hbo\">בַּ</span><span class=\"txtu hbo\">מִּדְבָּ֥ר </span><span class=\"txtu hbo\">הַ</span><span class=\"txtu hbo\">זֶּֽה׃ </span></span></div></td><td class=\"tf rtl\"><div class=\"rtl\"><span class=\"txtu hbo\">וּ</span><span class=\"txtu hbo\">פִגְרֵיכֶ֖ם </span><span class=\"txtu hbo\">אַתֶּ֑ם </span><span class=\"txtu hbo\">יִפְּל֖וּ </span><span class=\"plain rtl  hlbx\" ><span class=\"txtu hbo\">בַּ</span><span class=\"txtu hbo\">מִּדְבָּ֥ר </span><span class=\"txtu hbo\">הַ</span><span class=\"txtu hbo\">זֶּֽה׃ </span></span></div></td></tr>\n",
       "<tr class=\"tf rtl\"><td class=\"tf rtl\">24</td><td class=\"tf rtl\"><span class=\"section ltr\"><a target=\"_blank\" href=\"https://shebanq.ancient-data.org/hebrew/text?book=Numeri&amp;chapter=14&amp;verse=35&amp;version=c&amp;mr=m&amp;qw=q&amp;tp=txt_p&amp;tr=hb&amp;wget=v&amp;qget=v&amp;nget=vt\" title=\"Show this on SHEBANQ\" sec=\"Numbers 14:35\">Numbers 14:35</a></span></td><td class=\"tf rtl\"><div class=\"rtl\"><span class=\"plain rtl  hlbx\" ><span class=\"txtu hbo\">בַּ</span><span class=\"txtu hbo\">מִּדְבָּ֥ר </span><span class=\"txtu hbo\">הַ</span><span class=\"txtu hbo\">זֶּ֛ה </span></span></div></td><td class=\"tf rtl\"><div class=\"rtl\"><span class=\"plain rtl  hlbx\" ><span class=\"txtu hbo\">בַּ</span><span class=\"txtu hbo\">מִּדְבָּ֥ר </span><span class=\"txtu hbo\">הַ</span><span class=\"txtu hbo\">זֶּ֛ה </span></span><span class=\"txtu hbo\">יִתַּ֖מּוּ </span></div></td></tr>\n",
       "<tr class=\"tf rtl\"><td class=\"tf rtl\">25</td><td class=\"tf rtl\"><span class=\"section ltr\"><a target=\"_blank\" href=\"https://shebanq.ancient-data.org/hebrew/text?book=Jeremia&amp;chapter=21&amp;verse=7&amp;version=c&amp;mr=m&amp;qw=q&amp;tp=txt_p&amp;tr=hb&amp;wget=v&amp;qget=v&amp;nget=vt\" title=\"Show this on SHEBANQ\" sec=\"Jeremiah 21:7\">Jeremiah 21:7</a></span></td><td class=\"tf rtl\"><div class=\"rtl\"><span class=\"plain rtl  hlbx\" ><span class=\"txtu hbo\">בָּ</span><span class=\"txtu hbo\">עִ֨יר </span><span class=\"txtu hbo\">הַ</span><span class=\"txtu hbo\">זֹּ֜את </span></span></div></td><td class=\"tf rtl\"><div class=\"rtl\"><span class=\"plain rtl l \" ><span class=\"txtu hbo\">אֶתֵּ֣ן </span><span class=\"txtu hbo\">אֶת־</span><span class=\"txtu hbo\">צִדְקִיָּ֣הוּ </span><span class=\"txtu hbo\">מֶֽלֶךְ־</span><span class=\"txtu hbo\">יְהוּדָ֣ה </span><span class=\"txtu hbo\">וְ</span><span class=\"txtu hbo\">אֶת־</span><span class=\"txtu hbo\">עֲבָדָ֣יו׀ </span><span class=\"txtu hbo\">וְ</span><span class=\"txtu hbo\">אֶת־</span><span class=\"txtu hbo\">הָ</span><span class=\"txtu hbo\">עָ֡ם </span></span><span class=\"txtu hbo\">וְ</span><span class=\"txtu hbo\">אֶת־</span><span class=\"txtu hbo\">הַ</span><span class=\"txtu hbo\">נִּשְׁאָרִים֩ </span><span class=\"plain rtl  hlbx\" ><span class=\"txtu hbo\">בָּ</span><span class=\"txtu hbo\">עִ֨יר </span><span class=\"txtu hbo\">הַ</span><span class=\"txtu hbo\">זֹּ֜את </span></span><span class=\"txtu hbo\">מִן־</span><span class=\"txtu hbo\">הַ</span><span class=\"txtu hbo\">דֶּ֣בֶר׀ </span><span class=\"txtu hbo\">מִן־</span><span class=\"txtu hbo\">הַ</span><span class=\"txtu hbo\">חֶ֣רֶב </span><span class=\"txtu hbo\">וּ</span><span class=\"txtu hbo\">מִן־</span><span class=\"txtu hbo\">הָ</span><span class=\"txtu hbo\">רָעָ֗ב </span><span class=\"plain rtl r \" ><span class=\"txtu hbo\">בְּ</span><span class=\"txtu hbo\">יַד֙ </span><span class=\"txtu hbo\">נְבוּכַדְרֶאצַּ֣ר </span><span class=\"txtu hbo\">מֶֽלֶךְ־</span><span class=\"txtu hbo\">בָּבֶ֔ל </span><span class=\"txtu hbo\">וּ</span><span class=\"txtu hbo\">בְ</span><span class=\"txtu hbo\">יַד֙ </span><span class=\"txtu hbo\">אֹֽיְבֵיהֶ֔ם </span><span class=\"txtu hbo\">וּ</span><span class=\"txtu hbo\">בְ</span><span class=\"txtu hbo\">יַ֖ד </span><span class=\"txtu hbo\">מְבַקְשֵׁ֣י </span><span class=\"txtu hbo\">נַפְשָׁ֑ם </span></span></div></td></tr>\n",
       "<tr class=\"tf rtl\"><td class=\"tf rtl\">26</td><td class=\"tf rtl\"><span class=\"section ltr\"><a target=\"_blank\" href=\"https://shebanq.ancient-data.org/hebrew/text?book=Ezechiel&amp;chapter=11&amp;verse=6&amp;version=c&amp;mr=m&amp;qw=q&amp;tp=txt_p&amp;tr=hb&amp;wget=v&amp;qget=v&amp;nget=vt\" title=\"Show this on SHEBANQ\" sec=\"Ezekiel 11:6\">Ezekiel 11:6</a></span></td><td class=\"tf rtl\"><div class=\"rtl\"><span class=\"plain rtl  hlbx\" ><span class=\"txtu hbo\">בָּ</span><span class=\"txtu hbo\">עִ֣יר </span><span class=\"txtu hbo\">הַ</span><span class=\"txtu hbo\">זֹּ֑את </span></span></div></td><td class=\"tf rtl\"><div class=\"rtl\"><span class=\"txtu hbo\">הִרְבֵּיתֶ֥ם </span><span class=\"txtu hbo\">חַלְלֵיכֶ֖ם </span><span class=\"plain rtl  hlbx\" ><span class=\"txtu hbo\">בָּ</span><span class=\"txtu hbo\">עִ֣יר </span><span class=\"txtu hbo\">הַ</span><span class=\"txtu hbo\">זֹּ֑את </span></span></div></td></tr>\n",
       "<tr class=\"tf rtl\"><td class=\"tf rtl\">27</td><td class=\"tf rtl\"><span class=\"section ltr\"><a target=\"_blank\" href=\"https://shebanq.ancient-data.org/hebrew/text?book=Deuteronomium&amp;chapter=28&amp;verse=65&amp;version=c&amp;mr=m&amp;qw=q&amp;tp=txt_p&amp;tr=hb&amp;wget=v&amp;qget=v&amp;nget=vt\" title=\"Show this on SHEBANQ\" sec=\"Deuteronomy 28:65\">Deuteronomy 28:65</a></span></td><td class=\"tf rtl\"><div class=\"rtl\"><span class=\"plain rtl  hlbx\" ><span class=\"txtu hbo\">בַ</span><span class=\"txtu hbo\">גֹּויִ֤ם </span><span class=\"txtu hbo\">הָ</span><span class=\"txtu hbo\">הֵם֙ </span></span></div></td><td class=\"tf rtl\"><div class=\"rtl\"><span class=\"txtu hbo\">וּ</span><span class=\"plain rtl  hlbx\" ><span class=\"txtu hbo\">בַ</span><span class=\"txtu hbo\">גֹּויִ֤ם </span><span class=\"txtu hbo\">הָ</span><span class=\"txtu hbo\">הֵם֙ </span></span><span class=\"txtu hbo\">לֹ֣א </span><span class=\"txtu hbo\">תַרְגִּ֔יעַ </span></div></td></tr>\n",
       "<tr class=\"tf rtl\"><td class=\"tf rtl\">28</td><td class=\"tf rtl\"><span class=\"section ltr\"><a target=\"_blank\" href=\"https://shebanq.ancient-data.org/hebrew/text?book=Judices&amp;chapter=6&amp;verse=26&amp;version=c&amp;mr=m&amp;qw=q&amp;tp=txt_p&amp;tr=hb&amp;wget=v&amp;qget=v&amp;nget=vt\" title=\"Show this on SHEBANQ\" sec=\"Judges 6:26\">Judges 6:26</a></span></td><td class=\"tf rtl\"><div class=\"rtl\"><span class=\"plain rtl  hlbx\" ><span class=\"txtu hbo\">עַ֣ל </span><span class=\"txtu hbo\">רֹ֧אשׁ </span><span class=\"txtu hbo\">הַ</span><span class=\"txtu hbo\">מָּעֹ֛וז </span><span class=\"txtu hbo\">הַ</span><span class=\"txtu hbo\">זֶּ֖ה </span></span></div></td><td class=\"tf rtl\"><div class=\"rtl\"><span class=\"txtu hbo\">וּ</span><span class=\"txtu hbo\">בָנִ֨יתָ </span><span class=\"txtu hbo\">מִזְבֵּ֜חַ </span><span class=\"txtu hbo\">לַ</span><span class=\"txtu hbo\">יהוָ֣ה </span><span class=\"txtu hbo\">אֱלֹהֶ֗יךָ </span><span class=\"plain rtl  hlbx\" ><span class=\"txtu hbo\">עַ֣ל </span><span class=\"txtu hbo\">רֹ֧אשׁ </span><span class=\"txtu hbo\">הַ</span><span class=\"txtu hbo\">מָּעֹ֛וז </span><span class=\"txtu hbo\">הַ</span><span class=\"txtu hbo\">זֶּ֖ה </span></span><span class=\"txtu hbo\">בַּ</span><span class=\"txtu hbo\">מַּֽעֲרָכָ֑ה </span></div></td></tr>\n",
       "<tr class=\"tf rtl\"><td class=\"tf rtl\">29</td><td class=\"tf rtl\"><span class=\"section ltr\"><a target=\"_blank\" href=\"https://shebanq.ancient-data.org/hebrew/text?book=Ezechiel&amp;chapter=42&amp;verse=9&amp;version=c&amp;mr=m&amp;qw=q&amp;tp=txt_p&amp;tr=hb&amp;wget=v&amp;qget=v&amp;nget=vt\" title=\"Show this on SHEBANQ\" sec=\"Ezekiel 42:9\">Ezekiel 42:9</a></span></td><td class=\"tf rtl\"><div class=\"rtl\"><span class=\"plain rtl  hlbx\" ><span class=\"txtu hbo\">מִ</span><span class=\"txtu hbo\">תַּ֖חַת </span><span class=\"txtu hbo\">הַ</span><span class=\"txtu hbo\">לְּשָׁכֹ֣ות </span><span class=\"txtu hbo\">הָ</span><span class=\"txtu hbo\">אֵ֑לֶּה </span></span></div></td><td class=\"tf rtl\"><div class=\"rtl\"><span class=\"txtu hbo\">וּ</span><span class=\"plain rtl  hlbx\" ><span class=\"txtu hbo\">מִ</span><span class=\"txtu hbo\">תַּ֖חַת </span><span class=\"txtu hbo\">הַ</span><span class=\"txtu hbo\">לְּשָׁכֹ֣ות </span><span class=\"txtu hbo\">הָ</span><span class=\"txtu hbo\">אֵ֑לֶּה </span></span><span class=\"txtu hbo\">הַ</span><span class=\"txtu hbo\">מֵּבִיא֙ </span><span class=\"txtu hbo\">מֵֽ</span><span class=\"txtu hbo\">הַ</span><span class=\"txtu hbo\">קָּדִ֔ים </span><span class=\"txtu hbo\">בְּ</span><span class=\"txtu hbo\">בֹאֹ֣ו </span><span class=\"txtu hbo\">לָ</span><span class=\"txtu hbo\">הֵ֔נָּה </span><span class=\"txtu hbo\">מֵֽ</span><span class=\"txtu hbo\">הֶ</span><span class=\"txtu hbo\">חָצֵ֖ר </span><span class=\"txtu hbo\">הַ</span><span class=\"txtu hbo\">חִצֹנָֽה׃ </span></div></td></tr>\n",
       "<tr class=\"tf rtl\"><td class=\"tf rtl\">30</td><td class=\"tf rtl\"><span class=\"section ltr\"><a target=\"_blank\" href=\"https://shebanq.ancient-data.org/hebrew/text?book=Reges_II&amp;chapter=9&amp;verse=26&amp;version=c&amp;mr=m&amp;qw=q&amp;tp=txt_p&amp;tr=hb&amp;wget=v&amp;qget=v&amp;nget=vt\" title=\"Show this on SHEBANQ\" sec=\"2_Kings 9:26\">2_Kings 9:26</a></span></td><td class=\"tf rtl\"><div class=\"rtl\"><span class=\"plain rtl  hlbx\" ><span class=\"txtu hbo\">בַּ</span><span class=\"txtu hbo\">חֶלְקָ֥ה </span><span class=\"txtu hbo\">הַ</span><span class=\"txtu hbo\">זֹּ֖את </span></span></div></td><td class=\"tf rtl\"><div class=\"rtl\"><span class=\"txtu hbo\">וְ</span><span class=\"txtu hbo\">שִׁלַּמְתִּ֥י </span><span class=\"txtu hbo\">לְךָ֛ </span><span class=\"plain rtl  hlbx\" ><span class=\"txtu hbo\">בַּ</span><span class=\"txtu hbo\">חֶלְקָ֥ה </span><span class=\"txtu hbo\">הַ</span><span class=\"txtu hbo\">זֹּ֖את </span></span></div></td></tr>\n",
       "<tr class=\"tf rtl\"><td class=\"tf rtl\">31</td><td class=\"tf rtl\"><span class=\"section ltr\"><a target=\"_blank\" href=\"https://shebanq.ancient-data.org/hebrew/text?book=Samuel_I&amp;chapter=30&amp;verse=20&amp;version=c&amp;mr=m&amp;qw=q&amp;tp=txt_p&amp;tr=hb&amp;wget=v&amp;qget=v&amp;nget=vt\" title=\"Show this on SHEBANQ\" sec=\"1_Samuel 30:20\">1_Samuel 30:20</a></span></td><td class=\"tf rtl\"><div class=\"rtl\"><span class=\"plain rtl  hlbx\" ><span class=\"txtu hbo\">לִ</span><span class=\"txtu hbo\">פְנֵי֙ </span><span class=\"txtu hbo\">הַ</span><span class=\"txtu hbo\">מִּקְנֶ֣ה </span><span class=\"txtu hbo\">הַ</span><span class=\"txtu hbo\">ה֔וּא </span></span></div></td><td class=\"tf rtl\"><div class=\"rtl\"><span class=\"txtu hbo\">נָהֲג֗וּ </span><span class=\"plain rtl  hlbx\" ><span class=\"txtu hbo\">לִ</span><span class=\"txtu hbo\">פְנֵי֙ </span><span class=\"txtu hbo\">הַ</span><span class=\"txtu hbo\">מִּקְנֶ֣ה </span><span class=\"txtu hbo\">הַ</span><span class=\"txtu hbo\">ה֔וּא </span></span></div></td></tr></table>"
      ],
      "text/plain": [
       "<IPython.core.display.HTML object>"
      ]
     },
     "metadata": {},
     "output_type": "display_data"
    }
   ],
   "source": [
    "show_examples(head_defapps_loc, def_app_loc, n_examples=40)"
   ]
  },
  {
   "cell_type": "code",
   "execution_count": 90,
   "metadata": {},
   "outputs": [
    {
     "data": {
      "text/html": [
       "<div class=\"rtl\"><span class=\"section rtl\"><a target=\"_blank\" href=\"https://shebanq.ancient-data.org/hebrew/text?book=Genesis&amp;chapter=13&amp;verse=9&amp;version=c&amp;mr=m&amp;qw=q&amp;tp=txt_p&amp;tr=hb&amp;wget=v&amp;qget=v&amp;nget=vt\" title=\"Show this on SHEBANQ\" sec=\"Genesis 13:9\">Genesis 13:9</a></span>  <span class=\"plain rtl l \" ><span class=\"txtu hbo\">הִפָּ֥רֶד </span><span class=\"txtu hbo\">נָ֖א </span><span class=\"txtu hbo\">מֵ</span><span class=\"txtu hbo\">עָלָ֑י </span><span class=\"txtu hbo\">אִם־</span><span class=\"plain rtl  hlbx\" ><span class=\"txtu hbo\">הַ</span><span class=\"txtu hbo\">שְּׂמֹ֣אל </span></span></span><span class=\"plain rtl r \" ><span class=\"txtu hbo\">וְ</span><span class=\"txtu hbo\">אִם־</span><span class=\"txtu hbo\">הַ</span><span class=\"txtu hbo\">יָּמִ֖ין </span></span></div>"
      ],
      "text/plain": [
       "<IPython.core.display.HTML object>"
      ]
     },
     "metadata": {},
     "output_type": "display_data"
    },
    {
     "data": {
      "text/html": [
       "<div class=\"rtl\"><span class=\"section rtl\"><a target=\"_blank\" href=\"https://shebanq.ancient-data.org/hebrew/text?book=Genesis&amp;chapter=13&amp;verse=9&amp;version=c&amp;mr=m&amp;qw=q&amp;tp=txt_p&amp;tr=hb&amp;wget=v&amp;qget=v&amp;nget=vt\" title=\"Show this on SHEBANQ\" sec=\"Genesis 13:9\">Genesis 13:9</a></span>  <span class=\"plain rtl l \" ><span class=\"txtu hbo\">הִפָּ֥רֶד </span><span class=\"txtu hbo\">נָ֖א </span><span class=\"txtu hbo\">מֵ</span><span class=\"txtu hbo\">עָלָ֑י </span><span class=\"txtu hbo\">אִם־</span><span class=\"txtu hbo\">הַ</span><span class=\"txtu hbo\">שְּׂמֹ֣אל </span></span><span class=\"plain rtl r \" ><span class=\"txtu hbo\">וְ</span><span class=\"txtu hbo\">אִם־</span><span class=\"plain rtl  hlbx\" ><span class=\"txtu hbo\">הַ</span><span class=\"txtu hbo\">יָּמִ֖ין </span></span></span></div>"
      ],
      "text/plain": [
       "<IPython.core.display.HTML object>"
      ]
     },
     "metadata": {},
     "output_type": "display_data"
    },
    {
     "data": {
      "text/html": [
       "<div class=\"rtl\"><span class=\"section rtl\"><a target=\"_blank\" href=\"https://shebanq.ancient-data.org/hebrew/text?book=Genesis&amp;chapter=31&amp;verse=4&amp;version=c&amp;mr=m&amp;qw=q&amp;tp=txt_p&amp;tr=hb&amp;wget=v&amp;qget=v&amp;nget=vt\" title=\"Show this on SHEBANQ\" sec=\"Genesis 31:4\">Genesis 31:4</a></span>  <span class=\"txtu hbo\">וַ</span><span class=\"txtu hbo\">יִּקְרָ֖א </span><span class=\"txtu hbo\">לְ</span><span class=\"txtu hbo\">רָחֵ֣ל </span><span class=\"txtu hbo\">וּ</span><span class=\"txtu hbo\">לְ</span><span class=\"txtu hbo\">לֵאָ֑ה </span><span class=\"plain rtl  hlbx\" ><span class=\"txtu hbo\">הַ</span><span class=\"txtu hbo\">שָּׂדֶ֖ה </span></span><span class=\"txtu hbo\">אֶל־</span><span class=\"txtu hbo\">צֹאנֹֽו׃ </span></div>"
      ],
      "text/plain": [
       "<IPython.core.display.HTML object>"
      ]
     },
     "metadata": {},
     "output_type": "display_data"
    },
    {
     "data": {
      "text/html": [
       "<div class=\"rtl\"><span class=\"section rtl\"><a target=\"_blank\" href=\"https://shebanq.ancient-data.org/hebrew/text?book=Exodus&amp;chapter=4&amp;verse=9&amp;version=c&amp;mr=m&amp;qw=q&amp;tp=txt_p&amp;tr=hb&amp;wget=v&amp;qget=v&amp;nget=vt\" title=\"Show this on SHEBANQ\" sec=\"Exodus 4:9\">Exodus 4:9</a></span>  <span class=\"txtu hbo\">וְ</span><span class=\"txtu hbo\">שָׁפַכְתָּ֖ </span><span class=\"plain rtl  hlbx\" ><span class=\"txtu hbo\">הַ</span><span class=\"txtu hbo\">יַּבָּשָׁ֑ה </span></span></div>"
      ],
      "text/plain": [
       "<IPython.core.display.HTML object>"
      ]
     },
     "metadata": {},
     "output_type": "display_data"
    },
    {
     "data": {
      "text/html": [
       "<div class=\"rtl\"><span class=\"section rtl\"><a target=\"_blank\" href=\"https://shebanq.ancient-data.org/hebrew/text?book=Exodus&amp;chapter=4&amp;verse=27&amp;version=c&amp;mr=m&amp;qw=q&amp;tp=txt_p&amp;tr=hb&amp;wget=v&amp;qget=v&amp;nget=vt\" title=\"Show this on SHEBANQ\" sec=\"Exodus 4:27\">Exodus 4:27</a></span>  <span class=\"txtu hbo\">לֵ֛ךְ </span><span class=\"txtu hbo\">לִ</span><span class=\"txtu hbo\">קְרַ֥את </span><span class=\"txtu hbo\">מֹשֶׁ֖ה </span><span class=\"plain rtl  hlbx\" ><span class=\"txtu hbo\">הַ</span><span class=\"txtu hbo\">מִּדְבָּ֑רָה </span></span></div>"
      ],
      "text/plain": [
       "<IPython.core.display.HTML object>"
      ]
     },
     "metadata": {},
     "output_type": "display_data"
    },
    {
     "data": {
      "text/html": [
       "<div class=\"rtl\"><span class=\"section rtl\"><a target=\"_blank\" href=\"https://shebanq.ancient-data.org/hebrew/text?book=Exodus&amp;chapter=29&amp;verse=13&amp;version=c&amp;mr=m&amp;qw=q&amp;tp=txt_p&amp;tr=hb&amp;wget=v&amp;qget=v&amp;nget=vt\" title=\"Show this on SHEBANQ\" sec=\"Exodus 29:13\">Exodus 29:13</a></span>  <span class=\"txtu hbo\">וְ</span><span class=\"txtu hbo\">הִקְטַרְתָּ֖ </span><span class=\"plain rtl  hlbx\" ><span class=\"txtu hbo\">הַ</span><span class=\"txtu hbo\">מִּזְבֵּֽחָה׃ </span></span></div>"
      ],
      "text/plain": [
       "<IPython.core.display.HTML object>"
      ]
     },
     "metadata": {},
     "output_type": "display_data"
    },
    {
     "data": {
      "text/html": [
       "<div class=\"rtl\"><span class=\"section rtl\"><a target=\"_blank\" href=\"https://shebanq.ancient-data.org/hebrew/text?book=Exodus&amp;chapter=29&amp;verse=18&amp;version=c&amp;mr=m&amp;qw=q&amp;tp=txt_p&amp;tr=hb&amp;wget=v&amp;qget=v&amp;nget=vt\" title=\"Show this on SHEBANQ\" sec=\"Exodus 29:18\">Exodus 29:18</a></span>  <span class=\"txtu hbo\">וְ</span><span class=\"txtu hbo\">הִקְטַרְתָּ֤ </span><span class=\"txtu hbo\">אֶת־</span><span class=\"txtu hbo\">כָּל־</span><span class=\"txtu hbo\">הָ</span><span class=\"txtu hbo\">אַ֨יִל֙ </span><span class=\"plain rtl  hlbx\" ><span class=\"txtu hbo\">הַ</span><span class=\"txtu hbo\">מִּזְבֵּ֔חָה </span></span></div>"
      ],
      "text/plain": [
       "<IPython.core.display.HTML object>"
      ]
     },
     "metadata": {},
     "output_type": "display_data"
    },
    {
     "data": {
      "text/html": [
       "<div class=\"rtl\"><span class=\"section rtl\"><a target=\"_blank\" href=\"https://shebanq.ancient-data.org/hebrew/text?book=Exodus&amp;chapter=29&amp;verse=25&amp;version=c&amp;mr=m&amp;qw=q&amp;tp=txt_p&amp;tr=hb&amp;wget=v&amp;qget=v&amp;nget=vt\" title=\"Show this on SHEBANQ\" sec=\"Exodus 29:25\">Exodus 29:25</a></span>  <span class=\"txtu hbo\">וְ</span><span class=\"txtu hbo\">הִקְטַרְתָּ֥ </span><span class=\"plain rtl  hlbx\" ><span class=\"txtu hbo\">הַ</span><span class=\"txtu hbo\">מִּזְבֵּ֖חָה </span></span><span class=\"txtu hbo\">עַל־</span><span class=\"txtu hbo\">הָ</span><span class=\"txtu hbo\">עֹלָ֑ה </span><span class=\"txtu hbo\">לְ</span><span class=\"txtu hbo\">רֵ֤יחַ </span><span class=\"txtu hbo\">נִיחֹ֨וחַ֙ </span><span class=\"txtu hbo\">לִ</span><span class=\"txtu hbo\">פְנֵ֣י </span><span class=\"txtu hbo\">יְהוָ֔ה </span></div>"
      ],
      "text/plain": [
       "<IPython.core.display.HTML object>"
      ]
     },
     "metadata": {},
     "output_type": "display_data"
    },
    {
     "data": {
      "text/html": [
       "<div class=\"rtl\"><span class=\"section rtl\"><a target=\"_blank\" href=\"https://shebanq.ancient-data.org/hebrew/text?book=Leviticus&amp;chapter=14&amp;verse=20&amp;version=c&amp;mr=m&amp;qw=q&amp;tp=txt_p&amp;tr=hb&amp;wget=v&amp;qget=v&amp;nget=vt\" title=\"Show this on SHEBANQ\" sec=\"Leviticus 14:20\">Leviticus 14:20</a></span>  <span class=\"txtu hbo\">וְ</span><span class=\"txtu hbo\">הֶעֱלָ֧ה </span><span class=\"txtu hbo\">הַ</span><span class=\"txtu hbo\">כֹּהֵ֛ן </span><span class=\"txtu hbo\">אֶת־</span><span class=\"txtu hbo\">הָ</span><span class=\"txtu hbo\">עֹלָ֥ה </span><span class=\"txtu hbo\">וְ</span><span class=\"txtu hbo\">אֶת־</span><span class=\"txtu hbo\">הַ</span><span class=\"txtu hbo\">מִּנְחָ֖ה </span><span class=\"plain rtl  hlbx\" ><span class=\"txtu hbo\">הַ</span><span class=\"txtu hbo\">מִּזְבֵּ֑חָה </span></span></div>"
      ],
      "text/plain": [
       "<IPython.core.display.HTML object>"
      ]
     },
     "metadata": {},
     "output_type": "display_data"
    },
    {
     "data": {
      "text/html": [
       "<div class=\"rtl\"><span class=\"section rtl\"><a target=\"_blank\" href=\"https://shebanq.ancient-data.org/hebrew/text?book=Deuteronomium&amp;chapter=22&amp;verse=15&amp;version=c&amp;mr=m&amp;qw=q&amp;tp=txt_p&amp;tr=hb&amp;wget=v&amp;qget=v&amp;nget=vt\" title=\"Show this on SHEBANQ\" sec=\"Deuteronomy 22:15\">Deuteronomy 22:15</a></span>  <span class=\"txtu hbo\">וְ</span><span class=\"txtu hbo\">הֹוצִ֜יאוּ </span><span class=\"txtu hbo\">אֶת־</span><span class=\"txtu hbo\">בְּתוּלֵ֧י </span><span class=\"txtu hbo\">הַֽ</span><span class=\"txtu hbo\">נַּעֲרָ֛ה </span><span class=\"txtu hbo\">אֶל־</span><span class=\"txtu hbo\">זִקְנֵ֥י </span><span class=\"txtu hbo\">הָ</span><span class=\"txtu hbo\">עִ֖יר </span><span class=\"plain rtl  hlbx\" ><span class=\"txtu hbo\">הַ</span><span class=\"txtu hbo\">שָּֽׁעְרָה׃ </span></span></div>"
      ],
      "text/plain": [
       "<IPython.core.display.HTML object>"
      ]
     },
     "metadata": {},
     "output_type": "display_data"
    },
    {
     "data": {
      "text/html": [
       "<div class=\"rtl\"><span class=\"section rtl\"><a target=\"_blank\" href=\"https://shebanq.ancient-data.org/hebrew/text?book=Josua&amp;chapter=2&amp;verse=18&amp;version=c&amp;mr=m&amp;qw=q&amp;tp=txt_p&amp;tr=hb&amp;wget=v&amp;qget=v&amp;nget=vt\" title=\"Show this on SHEBANQ\" sec=\"Joshua 2:18\">Joshua 2:18</a></span>  <span class=\"txtu hbo\">וְ</span><span class=\"txtu hbo\">אֶת־</span><span class=\"txtu hbo\">אָבִ֨יךְ </span><span class=\"txtu hbo\">וְ</span><span class=\"txtu hbo\">אֶת־</span><span class=\"txtu hbo\">אִמֵּ֜ךְ </span><span class=\"txtu hbo\">וְ</span><span class=\"txtu hbo\">אֶת־</span><span class=\"txtu hbo\">אַחַ֗יִךְ </span><span class=\"txtu hbo\">וְ</span><span class=\"txtu hbo\">אֵת֙ </span><span class=\"txtu hbo\">כָּל־</span><span class=\"txtu hbo\">בֵּ֣ית </span><span class=\"txtu hbo\">אָבִ֔יךְ </span><span class=\"txtu hbo\">תַּאַסְפִ֥י </span><span class=\"txtu hbo\">אֵלַ֖יִךְ </span><span class=\"plain rtl  hlbx\" ><span class=\"txtu hbo\">הַ</span><span class=\"txtu hbo\">בָּֽיְתָה׃ </span></span></div>"
      ],
      "text/plain": [
       "<IPython.core.display.HTML object>"
      ]
     },
     "metadata": {},
     "output_type": "display_data"
    },
    {
     "data": {
      "text/html": [
       "<div class=\"rtl\"><span class=\"section rtl\"><a target=\"_blank\" href=\"https://shebanq.ancient-data.org/hebrew/text?book=Samuel_I&amp;chapter=9&amp;verse=26&amp;version=c&amp;mr=m&amp;qw=q&amp;tp=txt_p&amp;tr=hb&amp;wget=v&amp;qget=v&amp;nget=vt\" title=\"Show this on SHEBANQ\" sec=\"1_Samuel 9:26\">1_Samuel 9:26</a></span>  <span class=\"txtu hbo\">וַ</span><span class=\"txtu hbo\">יִּקְרָ֨א </span><span class=\"txtu hbo\">שְׁמוּאֵ֤ל </span><span class=\"txtu hbo\">אֶל־</span><span class=\"txtu hbo\">שָׁאוּל֙ </span><span class=\"plain rtl  hlbx\" ><span class=\"txtu hbo\">הַ</span><span class=\"txtu hbo\">גָּ֣גָה </span></span><span class=\"txtu hbo\">לֵ</span><span class=\"txtu hbo\">אמֹ֔ר </span></div>"
      ],
      "text/plain": [
       "<IPython.core.display.HTML object>"
      ]
     },
     "metadata": {},
     "output_type": "display_data"
    },
    {
     "data": {
      "text/html": [
       "<div class=\"rtl\"><span class=\"section rtl\"><a target=\"_blank\" href=\"https://shebanq.ancient-data.org/hebrew/text?book=Reges_I&amp;chapter=8&amp;verse=32&amp;version=c&amp;mr=m&amp;qw=q&amp;tp=txt_p&amp;tr=hb&amp;wget=v&amp;qget=v&amp;nget=vt\" title=\"Show this on SHEBANQ\" sec=\"1_Kings 8:32\">1_Kings 8:32</a></span>  <span class=\"txtu hbo\">וְ</span><span class=\"txtu hbo\">אַתָּ֣ה׀ </span><span class=\"txtu hbo\">תִּשְׁמַ֣ע </span><span class=\"plain rtl  hlbx\" ><span class=\"txtu hbo\">הַ</span><span class=\"txtu hbo\">שָּׁמַ֗יִם </span></span></div>"
      ],
      "text/plain": [
       "<IPython.core.display.HTML object>"
      ]
     },
     "metadata": {},
     "output_type": "display_data"
    },
    {
     "data": {
      "text/html": [
       "<div class=\"rtl\"><span class=\"section rtl\"><a target=\"_blank\" href=\"https://shebanq.ancient-data.org/hebrew/text?book=Reges_I&amp;chapter=8&amp;verse=34&amp;version=c&amp;mr=m&amp;qw=q&amp;tp=txt_p&amp;tr=hb&amp;wget=v&amp;qget=v&amp;nget=vt\" title=\"Show this on SHEBANQ\" sec=\"1_Kings 8:34\">1_Kings 8:34</a></span>  <span class=\"txtu hbo\">וְ</span><span class=\"txtu hbo\">אַתָּה֙ </span><span class=\"txtu hbo\">תִּשְׁמַ֣ע </span><span class=\"plain rtl  hlbx\" ><span class=\"txtu hbo\">הַ</span><span class=\"txtu hbo\">שָּׁמַ֔יִם </span></span></div>"
      ],
      "text/plain": [
       "<IPython.core.display.HTML object>"
      ]
     },
     "metadata": {},
     "output_type": "display_data"
    },
    {
     "data": {
      "text/html": [
       "<div class=\"rtl\"><span class=\"section rtl\"><a target=\"_blank\" href=\"https://shebanq.ancient-data.org/hebrew/text?book=Reges_I&amp;chapter=8&amp;verse=36&amp;version=c&amp;mr=m&amp;qw=q&amp;tp=txt_p&amp;tr=hb&amp;wget=v&amp;qget=v&amp;nget=vt\" title=\"Show this on SHEBANQ\" sec=\"1_Kings 8:36\">1_Kings 8:36</a></span>  <span class=\"txtu hbo\">וְ</span><span class=\"txtu hbo\">אַתָּ֣ה׀ </span><span class=\"txtu hbo\">תִּשְׁמַ֣ע </span><span class=\"plain rtl  hlbx\" ><span class=\"txtu hbo\">הַ</span><span class=\"txtu hbo\">שָּׁמַ֗יִם </span></span></div>"
      ],
      "text/plain": [
       "<IPython.core.display.HTML object>"
      ]
     },
     "metadata": {},
     "output_type": "display_data"
    },
    {
     "data": {
      "text/html": [
       "<div class=\"rtl\"><span class=\"section rtl\"><a target=\"_blank\" href=\"https://shebanq.ancient-data.org/hebrew/text?book=Reges_I&amp;chapter=8&amp;verse=45&amp;version=c&amp;mr=m&amp;qw=q&amp;tp=txt_p&amp;tr=hb&amp;wget=v&amp;qget=v&amp;nget=vt\" title=\"Show this on SHEBANQ\" sec=\"1_Kings 8:45\">1_Kings 8:45</a></span>  <span class=\"txtu hbo\">וְ</span><span class=\"txtu hbo\">שָׁמַעְתָּ֙ </span><span class=\"plain rtl  hlbx\" ><span class=\"txtu hbo\">הַ</span><span class=\"txtu hbo\">שָּׁמַ֔יִם </span></span><span class=\"txtu hbo\">אֶת־</span><span class=\"txtu hbo\">תְּפִלָּתָ֖ם </span><span class=\"txtu hbo\">וְ</span><span class=\"txtu hbo\">אֶת־</span><span class=\"txtu hbo\">תְּחִנָּתָ֑ם </span></div>"
      ],
      "text/plain": [
       "<IPython.core.display.HTML object>"
      ]
     },
     "metadata": {},
     "output_type": "display_data"
    },
    {
     "data": {
      "text/html": [
       "<div class=\"rtl\"><span class=\"section rtl\"><a target=\"_blank\" href=\"https://shebanq.ancient-data.org/hebrew/text?book=Jesaia&amp;chapter=22&amp;verse=7&amp;version=c&amp;mr=m&amp;qw=q&amp;tp=txt_p&amp;tr=hb&amp;wget=v&amp;qget=v&amp;nget=vt\" title=\"Show this on SHEBANQ\" sec=\"Isaiah 22:7\">Isaiah 22:7</a></span>  <span class=\"txtu hbo\">וְ</span><span class=\"txtu hbo\">הַ</span><span class=\"txtu hbo\">פָּ֣רָשִׁ֔ים </span><span class=\"txtu hbo\">שֹׁ֖ת </span><span class=\"txtu hbo\">שָׁ֥תוּ </span><span class=\"plain rtl  hlbx\" ><span class=\"txtu hbo\">הַ</span><span class=\"txtu hbo\">שָּֽׁעְרָה׃ </span></span></div>"
      ],
      "text/plain": [
       "<IPython.core.display.HTML object>"
      ]
     },
     "metadata": {},
     "output_type": "display_data"
    },
    {
     "data": {
      "text/html": [
       "<div class=\"rtl\"><span class=\"section rtl\"><a target=\"_blank\" href=\"https://shebanq.ancient-data.org/hebrew/text?book=Jeremia&amp;chapter=50&amp;verse=19&amp;version=c&amp;mr=m&amp;qw=q&amp;tp=txt_p&amp;tr=hb&amp;wget=v&amp;qget=v&amp;nget=vt\" title=\"Show this on SHEBANQ\" sec=\"Jeremiah 50:19\">Jeremiah 50:19</a></span>  <span class=\"txtu hbo\">וְ</span><span class=\"plain rtl  hlbx\" ><span class=\"txtu hbo\">הַ</span><span class=\"txtu hbo\">גִּלְעָ֖ד </span></span><span class=\"txtu hbo\">תִּשְׂבַּ֥ע </span><span class=\"txtu hbo\">נַפְשֹֽׁו׃ </span></div>"
      ],
      "text/plain": [
       "<IPython.core.display.HTML object>"
      ]
     },
     "metadata": {},
     "output_type": "display_data"
    },
    {
     "data": {
      "text/html": [
       "<div class=\"rtl\"><span class=\"section rtl\"><a target=\"_blank\" href=\"https://shebanq.ancient-data.org/hebrew/text?book=Ezechiel&amp;chapter=47&amp;verse=18&amp;version=c&amp;mr=m&amp;qw=q&amp;tp=txt_p&amp;tr=hb&amp;wget=v&amp;qget=v&amp;nget=vt\" title=\"Show this on SHEBANQ\" sec=\"Ezekiel 47:18\">Ezekiel 47:18</a></span>  <span class=\"txtu hbo\">וּ</span><span class=\"txtu hbo\">פְאַ֣ת </span><span class=\"txtu hbo\">קָדִ֡ים </span><span class=\"txtu hbo\">מִ</span><span class=\"txtu hbo\">בֵּ֣ין </span><span class=\"txtu hbo\">חַוְרָ֣ן </span><span class=\"txtu hbo\">וּ</span><span class=\"txtu hbo\">מִ</span><span class=\"txtu hbo\">בֵּין־</span><span class=\"txtu hbo\">דַּמֶּשֶׂק֩ </span><span class=\"txtu hbo\">וּ</span><span class=\"txtu hbo\">מִ</span><span class=\"txtu hbo\">בֵּ֨ין </span><span class=\"txtu hbo\">הַ</span><span class=\"txtu hbo\">גִּלְעָ֜ד </span><span class=\"txtu hbo\">וּ</span><span class=\"txtu hbo\">מִ</span><span class=\"txtu hbo\">בֵּ֨ין </span><span class=\"txtu hbo\">אֶ֤רֶץ </span><span class=\"txtu hbo\">יִשְׂרָאֵל֙ </span><span class=\"plain rtl  hlbx\" ><span class=\"txtu hbo\">הַ</span><span class=\"txtu hbo\">יַּרְדֵּ֔ן </span></span><span class=\"txtu hbo\">מִ</span><span class=\"txtu hbo\">גְּב֛וּל </span><span class=\"txtu hbo\">עַל־</span><span class=\"txtu hbo\">הַ</span><span class=\"txtu hbo\">יָּ֥ם </span><span class=\"txtu hbo\">הַ</span><span class=\"txtu hbo\">קַּדְמֹונִ֖י </span><span class=\"txtu hbo\">תָּמֹ֑דּוּ </span><span class=\"txtu hbo\">וְ</span><span class=\"txtu hbo\">אֵ֖ת </span><span class=\"txtu hbo\">פְּאַ֥ת </span><span class=\"txtu hbo\">קָדִֽימָה׃ </span></div>"
      ],
      "text/plain": [
       "<IPython.core.display.HTML object>"
      ]
     },
     "metadata": {},
     "output_type": "display_data"
    },
    {
     "data": {
      "text/html": [
       "<div class=\"rtl\"><span class=\"section rtl\"><a target=\"_blank\" href=\"https://shebanq.ancient-data.org/hebrew/text?book=Ezechiel&amp;chapter=48&amp;verse=19&amp;version=c&amp;mr=m&amp;qw=q&amp;tp=txt_p&amp;tr=hb&amp;wget=v&amp;qget=v&amp;nget=vt\" title=\"Show this on SHEBANQ\" sec=\"Ezekiel 48:19\">Ezekiel 48:19</a></span>  <span class=\"plain rtl l \" ><span class=\"txtu hbo\">וְ</span></span><span class=\"txtu hbo\">הָ</span><span class=\"txtu hbo\">עֹבֵ֖ד </span><span class=\"plain rtl  hlbx\" ><span class=\"txtu hbo\">הָ</span><span class=\"txtu hbo\">עִ֑יר </span></span><span class=\"plain rtl r \" ><span class=\"txtu hbo\">יַעַבְד֕וּהוּ </span><span class=\"txtu hbo\">מִ</span><span class=\"txtu hbo\">כֹּ֖ל </span><span class=\"txtu hbo\">שִׁבְטֵ֥י </span><span class=\"txtu hbo\">יִשְׂרָאֵֽל׃ </span></span></div>"
      ],
      "text/plain": [
       "<IPython.core.display.HTML object>"
      ]
     },
     "metadata": {},
     "output_type": "display_data"
    },
    {
     "data": {
      "text/html": [
       "<div class=\"rtl\"><span class=\"section rtl\"><a target=\"_blank\" href=\"https://shebanq.ancient-data.org/hebrew/text?book=Amos&amp;chapter=3&amp;verse=5&amp;version=c&amp;mr=m&amp;qw=q&amp;tp=txt_p&amp;tr=hb&amp;wget=v&amp;qget=v&amp;nget=vt\" title=\"Show this on SHEBANQ\" sec=\"Amos 3:5\">Amos 3:5</a></span>  <span class=\"txtu hbo\">הֲ</span><span class=\"txtu hbo\">תִפֹּ֤ל </span><span class=\"txtu hbo\">צִפֹּור֙ </span><span class=\"txtu hbo\">עַל־</span><span class=\"txtu hbo\">פַּ֣ח </span><span class=\"plain rtl  hlbx\" ><span class=\"txtu hbo\">הָ</span><span class=\"txtu hbo\">אָ֔רֶץ </span></span></div>"
      ],
      "text/plain": [
       "<IPython.core.display.HTML object>"
      ]
     },
     "metadata": {},
     "output_type": "display_data"
    },
    {
     "data": {
      "text/html": [
       "<div class=\"rtl\"><span class=\"section rtl\"><a target=\"_blank\" href=\"https://shebanq.ancient-data.org/hebrew/text?book=Iob&amp;chapter=2&amp;verse=12&amp;version=c&amp;mr=m&amp;qw=q&amp;tp=txt_p&amp;tr=hb&amp;wget=v&amp;qget=v&amp;nget=vt\" title=\"Show this on SHEBANQ\" sec=\"Job 2:12\">Job 2:12</a></span>  <span class=\"txtu hbo\">וַ</span><span class=\"txtu hbo\">יִּזְרְק֥וּ </span><span class=\"txtu hbo\">עָפָ֛ר </span><span class=\"txtu hbo\">עַל־</span><span class=\"txtu hbo\">רָאשֵׁיהֶ֖ם </span><span class=\"plain rtl  hlbx\" ><span class=\"txtu hbo\">הַ</span><span class=\"txtu hbo\">שָּׁמָֽיְמָה׃ </span></span></div>"
      ],
      "text/plain": [
       "<IPython.core.display.HTML object>"
      ]
     },
     "metadata": {},
     "output_type": "display_data"
    },
    {
     "data": {
      "text/html": [
       "<div class=\"rtl\"><span class=\"section rtl\"><a target=\"_blank\" href=\"https://shebanq.ancient-data.org/hebrew/text?book=Chronica_II&amp;chapter=6&amp;verse=27&amp;version=c&amp;mr=m&amp;qw=q&amp;tp=txt_p&amp;tr=hb&amp;wget=v&amp;qget=v&amp;nget=vt\" title=\"Show this on SHEBANQ\" sec=\"2_Chronicles 6:27\">2_Chronicles 6:27</a></span>  <span class=\"txtu hbo\">וְ</span><span class=\"txtu hbo\">אַתָּ֣ה׀ </span><span class=\"txtu hbo\">תִּשְׁמַ֣ע </span><span class=\"plain rtl  hlbx\" ><span class=\"txtu hbo\">הַ</span><span class=\"txtu hbo\">שָּׁמַ֗יִם </span></span></div>"
      ],
      "text/plain": [
       "<IPython.core.display.HTML object>"
      ]
     },
     "metadata": {},
     "output_type": "display_data"
    }
   ],
   "source": [
    "for node in hm_df[(hm_df.function == 'Loca') & (hm_df.classi == 'single.definite')].index:\n",
    "    A.plain(L.u(node,'sentence')[0], highlights={node}, condenseType='sentence')"
   ]
  },
  {
   "cell_type": "code",
   "execution_count": null,
   "metadata": {},
   "outputs": [],
   "source": []
  }
 ],
 "metadata": {
  "kernelspec": {
   "display_name": "Python 3",
   "language": "python",
   "name": "python3"
  },
  "language_info": {
   "codemirror_mode": {
    "name": "ipython",
    "version": 3
   },
   "file_extension": ".py",
   "mimetype": "text/x-python",
   "name": "python",
   "nbconvert_exporter": "python",
   "pygments_lexer": "ipython3",
   "version": "3.8.0"
  }
 },
 "nbformat": 4,
 "nbformat_minor": 4
}
