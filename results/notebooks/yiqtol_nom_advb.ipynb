{
 "cells": [
  {
   "cell_type": "markdown",
   "metadata": {},
   "source": [
    "*best viewed in [nbviewer](https://nbviewer.jupyter.org/github/CambridgeSemiticsLab/BH_time_collocations/blob/master/results/notebooks/yiqtol_nom_advb.ipynb)*"
   ]
  },
  {
   "cell_type": "markdown",
   "metadata": {},
   "source": [
    "<center><h1>Yiqtol Collocations with Nominal versus Adverbial Heads</h1></center>\n",
    "<center><h2 style=\"font-weight:normal\">Cody Kingham</h2></center>\n",
    "<center><h2><a href=\"../../docs/sponsors.md\"><img height=15% width=15% src=\"../../docs/images/CambridgeU_BW.png\"></a></h2></center>"
   ]
  },
  {
   "cell_type": "code",
   "execution_count": 1,
   "metadata": {},
   "outputs": [],
   "source": [
    "! echo \"last updated:\"; date"
   ]
  },
  {
   "cell_type": "markdown",
   "metadata": {},
   "source": [
    "## Introduction\n",
    "\n",
    "In an earlier analysis, I found some evidence that the *yiqtol* verb tends to prefer time adverbial heads that do not nominalize with features such as plural endings or definite articles (see results [here](https://github.com/CambridgeSemiticsLab/BH_time_collocations/blob/master/archive/2019-10-31/analysis/exploratory/construction_clusters.ipynb)). In this notebook, we will ask that question more specifically, namely:\n",
    "\n",
    "**Does yiqtol show preference, generally, for non-nominal time adverbial heads?**\n",
    "\n",
    "By \"non-nominal\" I mean what some often call \"particles.\" Common examples would be עתה, אז,עולם, etc.\n",
    "\n",
    "In asking this question, I do not assume a classic definition of parts of speech, but rather a definition based on a construction grammar approach. The constructional approach to parts-of-speech does not assume universal categories. Categories like \"adjective,\" \"adverb,\" and even \"noun\" or \"verb\" are language specific. Not only that, they are not always closed, neatly-defined categories, as words can exist on a continuum.\n",
    "\n",
    "**In asking the above question about *yiqtol*, we must simultaneously ask the same question about all other verb tenses.**\n",
    "\n",
    "## Nominal Hypothesis: quantification as a distinguishing marker\n",
    "\n",
    "Which words should we consider \"nominal\" and which \"particles\"?\n",
    "\n",
    "The working hypothesis of this inquiry is that noun-like words are identified not by an assumed word class (e.g. \"noun\" versus \"adverb\"), but by the constructions within which a word regularly appears. Constructions used for indicating quantification are particularly relevant for the noun/particle distinction. These include plural noun endings and definite article constructions, but also count-noun constructions (e.g. \"three years\").\n",
    "\n",
    "These markers are predicted to occur with nouns when aligned to a conceptual space, as seen in Croft (2001: 99) for English:\n",
    "\n",
    "<img height=30% width=30% src=\"../../docs/images/figures/Croft_2001_POS_map.jpg\">\n",
    "\n",
    "Croft notes two axes along with language encodes certain functions. The y-axis denotes an object-to-action continuum, whereas the x-axis denotes a reference-to-predication continuum. \n",
    "\n",
    "The words we are seeking to distinguish in this notebook are those which are constrained as objects with reference (\"nouns\", the upper-leftmost quandrant) versus those that do not, \"particles\". Why such a clean two-way division? It is because our dataset contains only time adverbials. And amongst those adverbials, we primarily see nouns or particles. We do not expect verbs, for instance, since this dataset excludes infinitival adverbs.\n",
    "\n",
    "### Statistical Association with Quantification\n",
    "\n",
    "Quantification constructions will not always co-occur with a given word lexeme. For instance, in cases where a lexeme is singular. Thus, we will classify lexemes by their overall statistical tendency. The question is this: is a given lexeme statistically associated with quantification? If so, we label it as nominal. If it is statistically disassociated, we label it as a particle. \n",
    "\n",
    "## Nominal versus Particle\n",
    "\n",
    "Once we have classified the lexemes based on their statistical tendencies, we can use those classes for collocation measurements with yiqtol and the other tenses."
   ]
  },
  {
   "cell_type": "markdown",
   "metadata": {},
   "source": [
    "<hr>"
   ]
  },
  {
   "cell_type": "markdown",
   "metadata": {},
   "source": [
    "<center><h2>Python</h2></center>\n",
    "\n",
    "## Import Modules and Data"
   ]
  },
  {
   "cell_type": "code",
   "execution_count": 2,
   "metadata": {},
   "outputs": [
    {
     "data": {
      "text/html": [
       "<style>\n",
       "@font-face {\n",
       "  font-family: \"Ezra SIL\";\n",
       "  src:\n",
       "    local(\"SILEOT.ttf\"),\n",
       "    url(\"https://github.com/annotation/text-fabric/blob/master/tf/server/static/fonts/SILEOT.woff?raw=true\");\n",
       "}\n",
       ".features {\n",
       "    font-family: monospace;\n",
       "    font-size: medium;\n",
       "    font-weight: bold;\n",
       "    color: #0a6611;\n",
       "    display: flex;\n",
       "    flex-flow: column nowrap;\n",
       "    padding: 0.1em;\n",
       "    margin: 0.1em;\n",
       "    direction: ltr;\n",
       "}\n",
       ".features div,.features span {\n",
       "    padding: 0;\n",
       "    margin: -0.1rem 0;\n",
       "}\n",
       ".features .f {\n",
       "    font-family: sans-serif;\n",
       "    font-size: x-small;\n",
       "    font-weight: normal;\n",
       "    color: #5555bb;\n",
       "}\n",
       ".features .xft {\n",
       "  color: #000000;\n",
       "  background-color: #eeeeee;\n",
       "  font-size: medium;\n",
       "  margin: 0.1em 0em;\n",
       "}\n",
       ".features .xft .f {\n",
       "  color: #000000;\n",
       "  background-color: #eeeeee;\n",
       "  font-style: italic;\n",
       "  font-size: small;\n",
       "  font-weight: normal;\n",
       "}\n",
       ".ltr {\n",
       "    direction: ltr ! important;\n",
       "}\n",
       ".verse {\n",
       "    display: flex;\n",
       "    flex-flow: row wrap;\n",
       "    direction: rtl;\n",
       "}\n",
       ".vl {\n",
       "    display: flex;\n",
       "    flex-flow: column nowrap;\n",
       "    justify-content: flex-end;\n",
       "    align-items: flex-end;\n",
       "    direction: ltr;\n",
       "    width: 100%;\n",
       "}\n",
       ".outeritem {\n",
       "    display: flex;\n",
       "    flex-flow: row wrap;\n",
       "    direction: rtl;\n",
       "}\n",
       ".sentence,.clause,.phrase {\n",
       "    margin-top: -1.2em;\n",
       "    margin-left: 1em;\n",
       "    background: #ffffff none repeat scroll 0 0;\n",
       "    padding: 0 0.3em;\n",
       "    border-style: solid;\n",
       "    border-radius: 0.2em;\n",
       "    font-size: small;\n",
       "    display: block;\n",
       "    width: fit-content;\n",
       "    max-width: fit-content;\n",
       "    direction: ltr;\n",
       "}\n",
       ".atoms {\n",
       "    display: flex;\n",
       "    flex-flow: row wrap;\n",
       "    margin: 0.3em;\n",
       "    padding: 0.3em;\n",
       "    direction: rtl;\n",
       "    background-color: #ffffff;\n",
       "}\n",
       ".satom,.catom,.patom {\n",
       "    margin: 0.3em;\n",
       "    padding: 0.3em;\n",
       "    border-radius: 0.3em;\n",
       "    border-style: solid;\n",
       "    display: flex;\n",
       "    flex-flow: column nowrap;\n",
       "    direction: rtl;\n",
       "    background-color: #ffffff;\n",
       "}\n",
       ".sentence {\n",
       "    border-color: #aa3333;\n",
       "    border-width: 1px;\n",
       "}\n",
       ".clause {\n",
       "    border-color: #aaaa33;\n",
       "    border-width: 1px;\n",
       "}\n",
       ".phrase {\n",
       "    border-color: #33aaaa;\n",
       "    border-width: 1px;\n",
       "}\n",
       ".satom {\n",
       "    border-color: #aa3333;\n",
       "    border-width: 4px;\n",
       "}\n",
       ".catom {\n",
       "    border-color: #aaaa33;\n",
       "    border-width: 3px;\n",
       "}\n",
       ".patom {\n",
       "    border-color: #33aaaa;\n",
       "    border-width: 3px;\n",
       "}\n",
       ".word {\n",
       "    padding: 0.1em;\n",
       "    margin: 0.1em;\n",
       "    border-radius: 0.1em;\n",
       "    border: 1px solid #cccccc;\n",
       "    display: flex;\n",
       "    flex-flow: column nowrap;\n",
       "    direction: rtl;\n",
       "    background-color: #ffffff;\n",
       "}\n",
       ".lextp {\n",
       "    padding: 0.1em;\n",
       "    margin: 0.1em;\n",
       "    border-radius: 0.1em;\n",
       "    border: 2px solid #888888;\n",
       "    width: fit-content;\n",
       "    display: flex;\n",
       "    flex-flow: column nowrap;\n",
       "    direction: rtl;\n",
       "    background-color: #ffffff;\n",
       "}\n",
       ".occs {\n",
       "    font-size: x-small;\n",
       "}\n",
       ".satom.l,.catom.l,.patom.l {\n",
       "    border-left-style: dotted\n",
       "}\n",
       ".satom.r,.catom.r,.patom.r {\n",
       "    border-right-style: dotted\n",
       "}\n",
       ".satom.lno,.catom.lno,.patom.lno {\n",
       "    border-left-style: none\n",
       "}\n",
       ".satom.rno,.catom.rno,.patom.rno {\n",
       "    border-right-style: none\n",
       "}\n",
       ".tr,.tr a:visited,.tr a:link {\n",
       "    font-family: sans-serif;\n",
       "    font-size: large;\n",
       "    color: #000044;\n",
       "    direction: ltr;\n",
       "    text-decoration: none;\n",
       "}\n",
       ".trb,.trb a:visited,.trb a:link {\n",
       "    font-family: sans-serif;\n",
       "    font-size: normal;\n",
       "    direction: ltr;\n",
       "    text-decoration: none;\n",
       "}\n",
       ".prb,.prb a:visited,.prb a:link {\n",
       "    font-family: sans-serif;\n",
       "    font-size: large;\n",
       "    direction: ltr;\n",
       "    text-decoration: none;\n",
       "}\n",
       ".h,.h a:visited,.h a:link {\n",
       "    font-family: \"Ezra SIL\", \"SBL Hebrew\", sans-serif;\n",
       "    font-size: large;\n",
       "    color: #000044;\n",
       "    direction: rtl;\n",
       "    text-decoration: none;\n",
       "}\n",
       ".hb,.hb a:visited,.hb a:link {\n",
       "    font-family: \"Ezra SIL\", \"SBL Hebrew\", sans-serif;\n",
       "    font-size: large;\n",
       "    line-height: 2;\n",
       "    direction: rtl;\n",
       "    text-decoration: none;\n",
       "}\n",
       ".vn {\n",
       "  font-size: small !important;\n",
       "  padding-right: 1em;\n",
       "}\n",
       ".rela,.function,.typ {\n",
       "    font-family: monospace;\n",
       "    font-size: small;\n",
       "    color: #0000bb;\n",
       "}\n",
       ".pdp,.pdp a:visited,.pdp a:link {\n",
       "    font-family: monospace;\n",
       "    font-size: medium;\n",
       "    color: #0000bb;\n",
       "    text-decoration: none;\n",
       "}\n",
       ".voc_lex {\n",
       "    font-family: monospace;\n",
       "    font-size: medium;\n",
       "    color: #0000bb;\n",
       "}\n",
       ".vs {\n",
       "    font-family: monospace;\n",
       "    font-size: medium;\n",
       "    font-weight: bold;\n",
       "    color: #0000bb;\n",
       "}\n",
       ".vt {\n",
       "    font-family: monospace;\n",
       "    font-size: medium;\n",
       "    font-weight: bold;\n",
       "    color: #0000bb;\n",
       "}\n",
       ".gloss {\n",
       "    font-family: sans-serif;\n",
       "    font-size: small;\n",
       "    font-weight: normal;\n",
       "    color: #444444;\n",
       "}\n",
       ".vrs {\n",
       "    font-family: sans-serif;\n",
       "    font-size: small;\n",
       "    font-weight: bold;\n",
       "    color: #444444;\n",
       "}\n",
       ".nd {\n",
       "    font-family: monospace;\n",
       "    font-size: x-small;\n",
       "    color: #999999;\n",
       "}\n",
       ".hl {\n",
       "    background-color: #ffee66;\n",
       "}\n",
       "\n",
       "tr.tf, td.tf, th.tf {\n",
       "  text-align: left;\n",
       "}\n",
       "\n",
       "span.hldot {\n",
       "\tbackground-color: var(--hl-strong);\n",
       "\tborder: 0.2rem solid var(--hl-rim);\n",
       "\tborder-radius: 0.4rem;\n",
       "\t/*\n",
       "\tdisplay: inline-block;\n",
       "\twidth: 0.8rem;\n",
       "\theight: 0.8rem;\n",
       "\t*/\n",
       "}\n",
       "span.hl {\n",
       "\tbackground-color: var(--hl-strong);\n",
       "\tborder-width: 0;\n",
       "\tborder-radius: 0.1rem;\n",
       "\tborder-style: solid;\n",
       "}\n",
       "\n",
       "span.hlup {\n",
       "\tborder-color: var(--hl-dark);\n",
       "\tborder-width: 0.1rem;\n",
       "\tborder-style: solid;\n",
       "\tborder-radius: 0.2rem;\n",
       "  padding: 0.2rem;\n",
       "}\n",
       "\n",
       ":root {\n",
       "\t--hl-strong:        hsla( 60, 100%,  70%, 0.9  );\n",
       "\t--hl-rim:           hsla( 55, 100%,  60%, 0.9  );\n",
       "\t--hl-dark:          hsla( 55, 100%,  40%, 0.9  );\n",
       "}\n",
       "</style>"
      ],
      "text/plain": [
       "<IPython.core.display.HTML object>"
      ]
     },
     "metadata": {},
     "output_type": "display_data"
    }
   ],
   "source": [
    "# standard packages\n",
    "from pathlib import Path\n",
    "import collections\n",
    "import networkx as nx\n",
    "import pandas as pd\n",
    "import numpy as np\n",
    "import matplotlib.pyplot as plt\n",
    "import seaborn as sns\n",
    "\n",
    "# custom package in /tools\n",
    "from paths import figs\n",
    "from helpers import Figures, convert2pandas\n",
    "from tf_tools.load import load_tf\n",
    "from tf_tools.tokenizers import tokenize_surface\n",
    "from cx_analysis.load import cxs\n",
    "from cx_analysis.search import SearchCX\n",
    "from stats.significance import contingency_table, apply_fishers\n",
    "\n",
    "TF, API, A = load_tf(silent='deep')\n",
    "A.displaySetup(condenseType='phrase')\n",
    "F, E, T, L = A.api.F, A.api.E, A.api.T, A.api.L\n",
    "se = SearchCX(A)\n",
    "phrase2cxs = cxs['phrase2cxs']\n",
    "class2cx = cxs['class2cx']\n",
    "time_cxs = list(phrase2cxs.values())\n",
    "sns.set(font_scale=1.5, style='whitegrid')"
   ]
  },
  {
   "cell_type": "markdown",
   "metadata": {},
   "source": [
    "## Measure Quantification Associations \n",
    "\n",
    "We now measure the quantification tendencies of time adverbial heads and build the noun/particle categories.\n",
    "\n",
    "For each lexeme, we iterate through all of its occurrences in the Hebrew Bible. We then make a count for each occurrence on whether it appears with any of the following constructions:\n",
    "\n",
    "* plural noun ending\n",
    "* quantification with a cardinal number or qualitative quantifier (e.g. כל)\n",
    "* modification with a definite article\n",
    "* modification with a demonstrative pronoun \n",
    "\n",
    "We will *exclude* the following contexts:\n",
    "\n",
    "* any phrase with a verbal (infinitive) head\n",
    "* any phrase with a prepositional head\\*\n",
    "* non-verbal clauses\n",
    "* multi-phrasal time adverbials\n",
    "* any clause with a non-finite main verb \n",
    "\n",
    "The selection of single time adverbials is made below.\n",
    "\n",
    "**Prepositional heads deploy plural markers but do not function like normal nominals.* "
   ]
  },
  {
   "cell_type": "code",
   "execution_count": 58,
   "metadata": {},
   "outputs": [
    {
     "name": "stdout",
     "output_type": "stream",
     "text": [
      "Number of single time adverbials: 3823\n"
     ]
    }
   ],
   "source": [
    "single_tas = class2cx['single'] - class2cx['component']\n",
    "\n",
    "print(f'Number of single time adverbials: {len(single_tas)}')"
   ]
  },
  {
   "cell_type": "markdown",
   "metadata": {},
   "source": [
    "The remaining time adverbials are now further filtered based on the exclusions noted above. They will be stored based on the lexeme string of their heads.\n",
    "\n",
    "As we iterate through the adverbials, we will also take the opportunity to observe the type of verb the adverbial collocates with in that particular context. A count is made, per head lexeme, on what verb is collocated."
   ]
  },
  {
   "cell_type": "code",
   "execution_count": 79,
   "metadata": {},
   "outputs": [],
   "source": [
    "# map to head lexemes here\n",
    "head2count = collections.defaultdict(lambda:collections.Counter()) # count: nom, ønom\n",
    "contexts = collections.defaultdict(lambda:collections.defaultdict(list))\n",
    "head2verbcount = collections.defaultdict(lambda:collections.Counter()) \n",
    "\n",
    "tense_map = {'ptca': 'ptcp'} # shorten \"active participle\" string\n",
    "\n",
    "# apply filters to the tas, co\n",
    "for ta in single_tas:\n",
    "    \n",
    "    head = list(ta.getsuccroles('head'))[-1] # head selected from graph\n",
    "    head_cx = next(iter(ta.graph.pred[head]))\n",
    "    \n",
    "    # apply exclusions / filter\n",
    "    clause = L.u(head, 'clause')[0]\n",
    "    verb = next((w for w in L.d(clause,'word') if F.pdp.v(w) == 'verb'), None)\n",
    "    tense = tense_map.get(F.vt.v(verb), F.vt.v(verb))\n",
    "    exclusions = [\n",
    "        not verb,\n",
    "        F.sp.v(head) == 'verb',\n",
    "        head_cx.name == 'prep',\n",
    "        tense not in {\n",
    "            'yqṭl', 'qṭl', \n",
    "            'wyqṭl', 'wqṭl',\n",
    "            'impv', 'ptcp',\n",
    "        },\n",
    "    ]\n",
    "    if any(exclusions):\n",
    "        continue\n",
    "    \n",
    "    # make the collocation counts\n",
    "    nominal_markers = (\n",
    "        F.nu.v(head) in {'du', 'pl'},\n",
    "        'quantified' in ta.classification,\n",
    "        'definite' in ta.classification,\n",
    "        'demonstrative' in ta.classification,\n",
    "    )\n",
    "    tag = 'nom' if any(nominal_markers) else 'ønom'\n",
    "    head_lex = F.lex_sbl.v(head)\n",
    "    head2count[head_lex][tag] += 1\n",
    "    head2verbcount[head_lex][tense] += 1\n",
    "    contexts[head_lex][tag].append(ta)\n",
    "    contexts[head_lex][tense].append(ta)\n",
    "    \n",
    "head_collocates = pd.DataFrame.from_dict(head2count, orient='index').fillna(0)\n",
    "verb_collocates = pd.DataFrame.from_dict(head2verbcount, orient='index').fillna(0)"
   ]
  },
  {
   "cell_type": "markdown",
   "metadata": {},
   "source": [
    "We now have two principle datasets, stored in `head_collocates` and `verb_collocates`. Let's have a look at their contents, begining with the shape of each dataset."
   ]
  },
  {
   "cell_type": "code",
   "execution_count": 80,
   "metadata": {},
   "outputs": [
    {
     "name": "stdout",
     "output_type": "stream",
     "text": [
      "(97, 2)\n"
     ]
    }
   ],
   "source": [
    "print(head_collocates.shape)"
   ]
  },
  {
   "cell_type": "code",
   "execution_count": 81,
   "metadata": {},
   "outputs": [
    {
     "name": "stdout",
     "output_type": "stream",
     "text": [
      "(97, 6)\n"
     ]
    }
   ],
   "source": [
    "print(verb_collocates.shape)"
   ]
  },
  {
   "cell_type": "markdown",
   "metadata": {},
   "source": [
    "The top of each dataset is seen below."
   ]
  },
  {
   "cell_type": "code",
   "execution_count": 82,
   "metadata": {},
   "outputs": [
    {
     "data": {
      "text/html": [
       "<div>\n",
       "<style scoped>\n",
       "    .dataframe tbody tr th:only-of-type {\n",
       "        vertical-align: middle;\n",
       "    }\n",
       "\n",
       "    .dataframe tbody tr th {\n",
       "        vertical-align: top;\n",
       "    }\n",
       "\n",
       "    .dataframe thead th {\n",
       "        text-align: right;\n",
       "    }\n",
       "</style>\n",
       "<table border=\"1\" class=\"dataframe\">\n",
       "  <thead>\n",
       "    <tr style=\"text-align: right;\">\n",
       "      <th></th>\n",
       "      <th>nom</th>\n",
       "      <th>ønom</th>\n",
       "    </tr>\n",
       "  </thead>\n",
       "  <tbody>\n",
       "    <tr>\n",
       "      <th>ywm-N</th>\n",
       "      <td>971.0</td>\n",
       "      <td>159.0</td>\n",
       "    </tr>\n",
       "    <tr>\n",
       "      <th>ʿrb-N</th>\n",
       "      <td>71.0</td>\n",
       "      <td>1.0</td>\n",
       "    </tr>\n",
       "    <tr>\n",
       "      <th>mṣʿr-N</th>\n",
       "      <td>1.0</td>\n",
       "      <td>0.0</td>\n",
       "    </tr>\n",
       "    <tr>\n",
       "      <th>lylh-N</th>\n",
       "      <td>74.0</td>\n",
       "      <td>34.0</td>\n",
       "    </tr>\n",
       "    <tr>\n",
       "      <th>ʿt-N</th>\n",
       "      <td>78.0</td>\n",
       "      <td>46.0</td>\n",
       "    </tr>\n",
       "  </tbody>\n",
       "</table>\n",
       "</div>"
      ],
      "text/plain": [
       "           nom   ønom\n",
       "ywm-N    971.0  159.0\n",
       "ʿrb-N     71.0    1.0\n",
       "mṣʿr-N    1.0    0.0\n",
       "lylh-N    74.0   34.0\n",
       "ʿt-N      78.0   46.0"
      ]
     },
     "execution_count": 82,
     "metadata": {},
     "output_type": "execute_result"
    }
   ],
   "source": [
    "head_collocates.head(5)"
   ]
  },
  {
   "cell_type": "code",
   "execution_count": 83,
   "metadata": {},
   "outputs": [
    {
     "data": {
      "text/html": [
       "<div>\n",
       "<style scoped>\n",
       "    .dataframe tbody tr th:only-of-type {\n",
       "        vertical-align: middle;\n",
       "    }\n",
       "\n",
       "    .dataframe tbody tr th {\n",
       "        vertical-align: top;\n",
       "    }\n",
       "\n",
       "    .dataframe thead th {\n",
       "        text-align: right;\n",
       "    }\n",
       "</style>\n",
       "<table border=\"1\" class=\"dataframe\">\n",
       "  <thead>\n",
       "    <tr style=\"text-align: right;\">\n",
       "      <th></th>\n",
       "      <th>qṭl</th>\n",
       "      <th>yqṭl</th>\n",
       "      <th>ptcp</th>\n",
       "      <th>impv</th>\n",
       "      <th>wyqṭl</th>\n",
       "      <th>wqṭl</th>\n",
       "    </tr>\n",
       "  </thead>\n",
       "  <tbody>\n",
       "    <tr>\n",
       "      <th>ywm-N</th>\n",
       "      <td>331.0</td>\n",
       "      <td>329.0</td>\n",
       "      <td>89.0</td>\n",
       "      <td>28.0</td>\n",
       "      <td>257.0</td>\n",
       "      <td>96.0</td>\n",
       "    </tr>\n",
       "    <tr>\n",
       "      <th>ʿwd-N</th>\n",
       "      <td>42.0</td>\n",
       "      <td>198.0</td>\n",
       "      <td>24.0</td>\n",
       "      <td>5.0</td>\n",
       "      <td>48.0</td>\n",
       "      <td>8.0</td>\n",
       "    </tr>\n",
       "    <tr>\n",
       "      <th>ʿrb-N</th>\n",
       "      <td>8.0</td>\n",
       "      <td>29.0</td>\n",
       "      <td>2.0</td>\n",
       "      <td>0.0</td>\n",
       "      <td>13.0</td>\n",
       "      <td>20.0</td>\n",
       "    </tr>\n",
       "    <tr>\n",
       "      <th>mhrh-N</th>\n",
       "      <td>2.0</td>\n",
       "      <td>3.0</td>\n",
       "      <td>0.0</td>\n",
       "      <td>7.0</td>\n",
       "      <td>2.0</td>\n",
       "      <td>2.0</td>\n",
       "    </tr>\n",
       "    <tr>\n",
       "      <th>mṣʿr-N</th>\n",
       "      <td>1.0</td>\n",
       "      <td>0.0</td>\n",
       "      <td>0.0</td>\n",
       "      <td>0.0</td>\n",
       "      <td>0.0</td>\n",
       "      <td>0.0</td>\n",
       "    </tr>\n",
       "  </tbody>\n",
       "</table>\n",
       "</div>"
      ],
      "text/plain": [
       "          qṭl  yqṭl  ptcp  impv  wyqṭl  wqṭl\n",
       "ywm-N    331.0  329.0  89.0  28.0   257.0   96.0\n",
       "ʿwd-N     42.0  198.0  24.0   5.0    48.0    8.0\n",
       "ʿrb-N      8.0   29.0   2.0   0.0    13.0   20.0\n",
       "mhrh-N     2.0    3.0   0.0   7.0     2.0    2.0\n",
       "mṣʿr-N    1.0    0.0   0.0   0.0     0.0    0.0"
      ]
     },
     "execution_count": 83,
     "metadata": {},
     "output_type": "execute_result"
    }
   ],
   "source": [
    "verb_collocates.head(5)"
   ]
  },
  {
   "cell_type": "markdown",
   "metadata": {},
   "source": [
    "The `contexts` dictionary provides access to the particular instances seen in the data. For example, if we want to access the one case of `ʿrb` used without explicit nominalizers, we can select it and display it like this:"
   ]
  },
  {
   "cell_type": "code",
   "execution_count": 85,
   "metadata": {},
   "outputs": [
    {
     "data": {
      "text/html": [
       "<p><b>result</b> <i>1450386 -> CX prep_ph (328455, 328456)</i></p>"
      ],
      "text/plain": [
       "<IPython.core.display.HTML object>"
      ]
     },
     "metadata": {},
     "output_type": "display_data"
    },
    {
     "data": {
      "text/html": [
       "<a href=\"https://shebanq.ancient-data.org/hebrew/text?book=Psalmi&amp;chapter=104&amp;verse=23&amp;version=c&amp;mr=m&amp;qw=q&amp;tp=txt_p&amp;tr=hb&amp;wget=v&amp;qget=v&amp;nget=vt\" title=\"show this passage in SHEBANQ\" sec=\"Psalms 104:23\">Psalms 104:23</a>\n",
       "<div class=\"atoms  \" >\n",
       "<a href=\"#\" class=\"nd\">495378</a>\n",
       "\n",
       "\n",
       "\n",
       "<div class=\"catom  \" >\n",
       "\n",
       "    <div class=\"clause \" >\n",
       "        <a href=\"https://shebanq.ancient-data.org/hebrew/text?book=Psalmi&amp;chapter=104&amp;verse=23&amp;version=c&amp;mr=m&amp;qw=q&amp;tp=txt_p&amp;tr=hb&amp;wget=v&amp;qget=v&amp;nget=vt\" title=\"Psalms 104:23\" sec=\"Psalms 104:23\">clause</a> <a href=\"#\" class=\"nd\">495378</a>  <span class=\"typ\">ZYqX</span>\n",
       "    </div>\n",
       "    <div class=\"atoms\">\n",
       "\n",
       "<div class=\"patom  \" >\n",
       "\n",
       "    <div class=\"phrase \" >\n",
       "        <a href=\"https://shebanq.ancient-data.org/hebrew/text?book=Psalmi&amp;chapter=104&amp;verse=23&amp;version=c&amp;mr=m&amp;qw=q&amp;tp=txt_p&amp;tr=hb&amp;wget=v&amp;qget=v&amp;nget=vt\" title=\"Psalms 104:23\" sec=\"Psalms 104:23\">phrase</a> <a href=\"#\" class=\"nd\">847830</a>  <span class=\"function\">Pred</span> <span class=\"typ\">VP</span>\n",
       "    </div>\n",
       "    <div class=\"atoms\">\n",
       "\n",
       "<div class=\"word  \" >\n",
       "<a href=\"#\" class=\"nd\">328448</a>\n",
       "<div class=\"h\"><a target=\"_blank\" href=\"https://shebanq.ancient-data.org/hebrew/word?version=c&amp;id=1JYAv\" title=\"show this lexeme in SHEBANQ\">יֵצֵ֣א </a></div>\n",
       "<div class=\"features\"> <span class=\"pdp\"><a href=\"https://shebanq.ancient-data.org/hebrew/text?book=Psalmi&amp;chapter=104&amp;verse=23&amp;version=c&amp;mr=m&amp;qw=q&amp;tp=txt_p&amp;tr=hb&amp;wget=v&amp;qget=v&amp;nget=vt\" title=\"Psalms 104:23\" sec=\"Psalms 104:23\">verb</a></span> <span class=\"gloss\">go out</span> <span class=\"vs\">qal</span> <span class=\"vt\">yqṭl</span> <span class=\"lex xft\"><span class=\"f\">lex=</span>JY>[</span> <span class=\"sp xft\"><span class=\"f\">sp=</span>verb</span></div>\n",
       "\n",
       "\n",
       "</div>\n",
       "\n",
       "\n",
       "    </div>\n",
       "\n",
       "\n",
       "</div>\n",
       "\n",
       "<div class=\"patom  \" >\n",
       "\n",
       "    <div class=\"phrase \" >\n",
       "        <a href=\"https://shebanq.ancient-data.org/hebrew/text?book=Psalmi&amp;chapter=104&amp;verse=23&amp;version=c&amp;mr=m&amp;qw=q&amp;tp=txt_p&amp;tr=hb&amp;wget=v&amp;qget=v&amp;nget=vt\" title=\"Psalms 104:23\" sec=\"Psalms 104:23\">phrase</a> <a href=\"#\" class=\"nd\">847831</a>  <span class=\"function\">Subj</span> <span class=\"typ\">NP</span>\n",
       "    </div>\n",
       "    <div class=\"atoms\">\n",
       "\n",
       "<div class=\"word  \" >\n",
       "<a href=\"#\" class=\"nd\">328449</a>\n",
       "<div class=\"h\"><a target=\"_blank\" href=\"https://shebanq.ancient-data.org/hebrew/word?version=c&amp;id=1ADMn\" title=\"show this lexeme in SHEBANQ\">אָדָ֣ם </a></div>\n",
       "<div class=\"features\"> <span class=\"pdp\"><a href=\"https://shebanq.ancient-data.org/hebrew/text?book=Psalmi&amp;chapter=104&amp;verse=23&amp;version=c&amp;mr=m&amp;qw=q&amp;tp=txt_p&amp;tr=hb&amp;wget=v&amp;qget=v&amp;nget=vt\" title=\"Psalms 104:23\" sec=\"Psalms 104:23\">subs</a></span> <span class=\"gloss\">human, mankind</span> <span class=\"lex xft\"><span class=\"f\">lex=</span>>DM/</span> <span class=\"sp xft\"><span class=\"f\">sp=</span>subs</span> <span class=\"st xft\"><span class=\"f\">st=</span>a</span></div>\n",
       "\n",
       "\n",
       "</div>\n",
       "\n",
       "\n",
       "    </div>\n",
       "\n",
       "\n",
       "</div>\n",
       "\n",
       "<div class=\"patom  \" >\n",
       "\n",
       "    <div class=\"phrase \" >\n",
       "        <a href=\"https://shebanq.ancient-data.org/hebrew/text?book=Psalmi&amp;chapter=104&amp;verse=23&amp;version=c&amp;mr=m&amp;qw=q&amp;tp=txt_p&amp;tr=hb&amp;wget=v&amp;qget=v&amp;nget=vt\" title=\"Psalms 104:23\" sec=\"Psalms 104:23\">phrase</a> <a href=\"#\" class=\"nd\">847832</a>  <span class=\"function\">Cmpl</span> <span class=\"typ\">PP</span>\n",
       "    </div>\n",
       "    <div class=\"atoms\">\n",
       "\n",
       "<div class=\"word  \" >\n",
       "<a href=\"#\" class=\"nd\">328450</a>\n",
       "<div class=\"h\"><a target=\"_blank\" href=\"https://shebanq.ancient-data.org/hebrew/word?version=c&amp;id=1L\" title=\"show this lexeme in SHEBANQ\">לְ</a></div>\n",
       "<div class=\"features\"> <span class=\"pdp\"><a href=\"https://shebanq.ancient-data.org/hebrew/text?book=Psalmi&amp;chapter=104&amp;verse=23&amp;version=c&amp;mr=m&amp;qw=q&amp;tp=txt_p&amp;tr=hb&amp;wget=v&amp;qget=v&amp;nget=vt\" title=\"Psalms 104:23\" sec=\"Psalms 104:23\">prep</a></span> <span class=\"gloss\">to</span> <span class=\"lex xft\"><span class=\"f\">lex=</span>L</span> <span class=\"sp xft\"><span class=\"f\">sp=</span>prep</span></div>\n",
       "\n",
       "\n",
       "</div>\n",
       "\n",
       "<div class=\"word  \" >\n",
       "<a href=\"#\" class=\"nd\">328451</a>\n",
       "<div class=\"h\"><a target=\"_blank\" href=\"https://shebanq.ancient-data.org/hebrew/word?version=c&amp;id=1POLn\" title=\"show this lexeme in SHEBANQ\">פָעֳלֹ֑ו </a></div>\n",
       "<div class=\"features\"> <span class=\"pdp\"><a href=\"https://shebanq.ancient-data.org/hebrew/text?book=Psalmi&amp;chapter=104&amp;verse=23&amp;version=c&amp;mr=m&amp;qw=q&amp;tp=txt_p&amp;tr=hb&amp;wget=v&amp;qget=v&amp;nget=vt\" title=\"Psalms 104:23\" sec=\"Psalms 104:23\">subs</a></span> <span class=\"gloss\">doing</span> <span class=\"lex xft\"><span class=\"f\">lex=</span>P&lt;L/</span> <span class=\"sp xft\"><span class=\"f\">sp=</span>subs</span> <span class=\"st xft\"><span class=\"f\">st=</span>a</span></div>\n",
       "\n",
       "\n",
       "</div>\n",
       "\n",
       "<div class=\"word  \" >\n",
       "<a href=\"#\" class=\"nd\">328452</a>\n",
       "<div class=\"h\"><a target=\"_blank\" href=\"https://shebanq.ancient-data.org/hebrew/word?version=c&amp;id=1W\" title=\"show this lexeme in SHEBANQ\">וְֽ</a></div>\n",
       "<div class=\"features\"> <span class=\"pdp\"><a href=\"https://shebanq.ancient-data.org/hebrew/text?book=Psalmi&amp;chapter=104&amp;verse=23&amp;version=c&amp;mr=m&amp;qw=q&amp;tp=txt_p&amp;tr=hb&amp;wget=v&amp;qget=v&amp;nget=vt\" title=\"Psalms 104:23\" sec=\"Psalms 104:23\">conj</a></span> <span class=\"gloss\">and</span> <span class=\"lex xft\"><span class=\"f\">lex=</span>W</span> <span class=\"sp xft\"><span class=\"f\">sp=</span>conj</span></div>\n",
       "\n",
       "\n",
       "</div>\n",
       "\n",
       "<div class=\"word  \" >\n",
       "<a href=\"#\" class=\"nd\">328453</a>\n",
       "<div class=\"h\"><a target=\"_blank\" href=\"https://shebanq.ancient-data.org/hebrew/word?version=c&amp;id=1L\" title=\"show this lexeme in SHEBANQ\">לַ</a></div>\n",
       "<div class=\"features\"> <span class=\"pdp\"><a href=\"https://shebanq.ancient-data.org/hebrew/text?book=Psalmi&amp;chapter=104&amp;verse=23&amp;version=c&amp;mr=m&amp;qw=q&amp;tp=txt_p&amp;tr=hb&amp;wget=v&amp;qget=v&amp;nget=vt\" title=\"Psalms 104:23\" sec=\"Psalms 104:23\">prep</a></span> <span class=\"gloss\">to</span> <span class=\"lex xft\"><span class=\"f\">lex=</span>L</span> <span class=\"sp xft\"><span class=\"f\">sp=</span>prep</span></div>\n",
       "\n",
       "\n",
       "</div>\n",
       "\n",
       "<div class=\"word  \" >\n",
       "<a href=\"#\" class=\"nd\">328454</a>\n",
       "<div class=\"h\"><a target=\"_blank\" href=\"https://shebanq.ancient-data.org/hebrew/word?version=c&amp;id=1OBDHn\" title=\"show this lexeme in SHEBANQ\">עֲבֹ֖דָתֹ֣ו </a></div>\n",
       "<div class=\"features\"> <span class=\"pdp\"><a href=\"https://shebanq.ancient-data.org/hebrew/text?book=Psalmi&amp;chapter=104&amp;verse=23&amp;version=c&amp;mr=m&amp;qw=q&amp;tp=txt_p&amp;tr=hb&amp;wget=v&amp;qget=v&amp;nget=vt\" title=\"Psalms 104:23\" sec=\"Psalms 104:23\">subs</a></span> <span class=\"gloss\">work</span> <span class=\"lex xft\"><span class=\"f\">lex=</span>&lt;BDH/</span> <span class=\"sp xft\"><span class=\"f\">sp=</span>subs</span> <span class=\"st xft\"><span class=\"f\">st=</span>a</span></div>\n",
       "\n",
       "\n",
       "</div>\n",
       "\n",
       "\n",
       "    </div>\n",
       "\n",
       "\n",
       "</div>\n",
       "\n",
       "<div class=\"patom  \" >\n",
       "\n",
       "    <div class=\"phrase \" >\n",
       "        <a href=\"https://shebanq.ancient-data.org/hebrew/text?book=Psalmi&amp;chapter=104&amp;verse=23&amp;version=c&amp;mr=m&amp;qw=q&amp;tp=txt_p&amp;tr=hb&amp;wget=v&amp;qget=v&amp;nget=vt\" title=\"Psalms 104:23\" sec=\"Psalms 104:23\">phrase</a> <a href=\"#\" class=\"nd\">847833</a>  <span class=\"function\">Time</span> <span class=\"typ\">PP</span>\n",
       "    </div>\n",
       "    <div class=\"atoms\">\n",
       "\n",
       "<div class=\"word  hl\"  style=\"background-color: #96ceb4;\" >\n",
       "<a href=\"#\" class=\"nd\">328455</a>\n",
       "<div class=\"h\"><a target=\"_blank\" href=\"https://shebanq.ancient-data.org/hebrew/word?version=c&amp;id=1OD\" title=\"show this lexeme in SHEBANQ\">עֲדֵי־</a></div>\n",
       "<div class=\"features\"> <span class=\"pdp\"><a href=\"https://shebanq.ancient-data.org/hebrew/text?book=Psalmi&amp;chapter=104&amp;verse=23&amp;version=c&amp;mr=m&amp;qw=q&amp;tp=txt_p&amp;tr=hb&amp;wget=v&amp;qget=v&amp;nget=vt\" title=\"Psalms 104:23\" sec=\"Psalms 104:23\">prep</a></span> <span class=\"gloss\">unto</span> <span class=\"lex xft\"><span class=\"f\">lex=</span>&lt;D</span> <span class=\"sp xft\"><span class=\"f\">sp=</span>prep</span></div>\n",
       "\n",
       "\n",
       "</div>\n",
       "\n",
       "<div class=\"word  hl\"  style=\"background-color: #ffeead;\" >\n",
       "<a href=\"#\" class=\"nd\">328456</a>\n",
       "<div class=\"h\"><a target=\"_blank\" href=\"https://shebanq.ancient-data.org/hebrew/word?version=c&amp;id=1ORBn\" title=\"show this lexeme in SHEBANQ\">עָֽרֶב׃ </a></div>\n",
       "<div class=\"features\"> <span class=\"pdp\"><a href=\"https://shebanq.ancient-data.org/hebrew/text?book=Psalmi&amp;chapter=104&amp;verse=23&amp;version=c&amp;mr=m&amp;qw=q&amp;tp=txt_p&amp;tr=hb&amp;wget=v&amp;qget=v&amp;nget=vt\" title=\"Psalms 104:23\" sec=\"Psalms 104:23\">subs</a></span> <span class=\"gloss\">evening</span> <span class=\"lex xft\"><span class=\"f\">lex=</span>&lt;RB/</span> <span class=\"sp xft\"><span class=\"f\">sp=</span>subs</span> <span class=\"st xft\"><span class=\"f\">st=</span>a</span></div>\n",
       "\n",
       "\n",
       "</div>\n",
       "\n",
       "\n",
       "    </div>\n",
       "\n",
       "\n",
       "</div>\n",
       "\n",
       "\n",
       "    </div>\n",
       "\n",
       "\n",
       "</div>\n",
       "\n",
       "\n",
       "</div>\n"
      ],
      "text/plain": [
       "<IPython.core.display.HTML object>"
      ]
     },
     "metadata": {},
     "output_type": "display_data"
    },
    {
     "data": {
      "text/html": [
       "<div style=\"background: #96ceb4; text-align: center\">prep</div>"
      ],
      "text/plain": [
       "<IPython.core.display.HTML object>"
      ]
     },
     "metadata": {},
     "output_type": "display_data"
    },
    {
     "data": {
      "text/html": [
       "<div style=\"background: #ffeead; text-align: center\">head</div>"
      ],
      "text/plain": [
       "<IPython.core.display.HTML object>"
      ]
     },
     "metadata": {},
     "output_type": "display_data"
    },
    {
     "name": "stdout",
     "output_type": "stream",
     "text": [
      "{   '__cx__': 'prep_ph',\n",
      "    'head': {'__cx__': 'cont', 'head': 328456},\n",
      "    'prep': {'__cx__': 'prep', 'head': 328455}}\n",
      "\n"
     ]
    },
    {
     "data": {
      "text/html": [
       "<hr>"
      ],
      "text/plain": [
       "<IPython.core.display.HTML object>"
      ]
     },
     "metadata": {},
     "output_type": "display_data"
    }
   ],
   "source": [
    "for cx in contexts['ʿrb-N']['ønom']:\n",
    "    se.showcx(cx, condenseType='clause')"
   ]
  },
  {
   "cell_type": "markdown",
   "metadata": {},
   "source": [
    "We can also access tense contexts this way:"
   ]
  },
  {
   "cell_type": "code",
   "execution_count": 89,
   "metadata": {},
   "outputs": [
    {
     "data": {
      "text/html": [
       "<p><b>result</b> <i>1449435 -> CX prep_ph (233760, 233761, 233762)</i></p>"
      ],
      "text/plain": [
       "<IPython.core.display.HTML object>"
      ]
     },
     "metadata": {},
     "output_type": "display_data"
    },
    {
     "data": {
      "text/html": [
       "<a href=\"https://shebanq.ancient-data.org/hebrew/text?book=Jesaia&amp;chapter=63&amp;verse=18&amp;version=c&amp;mr=m&amp;qw=q&amp;tp=txt_p&amp;tr=hb&amp;wget=v&amp;qget=v&amp;nget=vt\" title=\"show this passage in SHEBANQ\" sec=\"Isaiah 63:18\">Isaiah 63:18</a>\n",
       "<div class=\"atoms  \" >\n",
       "<a href=\"#\" class=\"nd\">473523</a>\n",
       "\n",
       "\n",
       "\n",
       "<div class=\"catom  \" >\n",
       "\n",
       "    <div class=\"clause \" >\n",
       "        <a href=\"https://shebanq.ancient-data.org/hebrew/text?book=Jesaia&amp;chapter=63&amp;verse=18&amp;version=c&amp;mr=m&amp;qw=q&amp;tp=txt_p&amp;tr=hb&amp;wget=v&amp;qget=v&amp;nget=vt\" title=\"Isaiah 63:18\" sec=\"Isaiah 63:18\">clause</a> <a href=\"#\" class=\"nd\">473523</a>  <span class=\"typ\">xQtX</span>\n",
       "    </div>\n",
       "    <div class=\"atoms\">\n",
       "\n",
       "<div class=\"patom  \" >\n",
       "\n",
       "    <div class=\"phrase \" >\n",
       "        <a href=\"https://shebanq.ancient-data.org/hebrew/text?book=Jesaia&amp;chapter=63&amp;verse=18&amp;version=c&amp;mr=m&amp;qw=q&amp;tp=txt_p&amp;tr=hb&amp;wget=v&amp;qget=v&amp;nget=vt\" title=\"Isaiah 63:18\" sec=\"Isaiah 63:18\">phrase</a> <a href=\"#\" class=\"nd\">788481</a>  <span class=\"function\">Time</span> <span class=\"typ\">PP</span>\n",
       "    </div>\n",
       "    <div class=\"atoms\">\n",
       "\n",
       "<div class=\"word  hl\"  style=\"background-color: #96ceb4;\" >\n",
       "<a href=\"#\" class=\"nd\">233760</a>\n",
       "<div class=\"h\"><a target=\"_blank\" href=\"https://shebanq.ancient-data.org/hebrew/word?version=c&amp;id=1L\" title=\"show this lexeme in SHEBANQ\">לַ</a></div>\n",
       "<div class=\"features\"> <span class=\"pdp\"><a href=\"https://shebanq.ancient-data.org/hebrew/text?book=Jesaia&amp;chapter=63&amp;verse=18&amp;version=c&amp;mr=m&amp;qw=q&amp;tp=txt_p&amp;tr=hb&amp;wget=v&amp;qget=v&amp;nget=vt\" title=\"Isaiah 63:18\" sec=\"Isaiah 63:18\">prep</a></span> <span class=\"gloss\">to</span> <span class=\"lex xft\"><span class=\"f\">lex=</span>L</span> <span class=\"sp xft\"><span class=\"f\">sp=</span>prep</span></div>\n",
       "\n",
       "\n",
       "</div>\n",
       "\n",
       "<div class=\"word  hl\"  style=\"background-color: #ffeead;\" >\n",
       "<a href=\"#\" class=\"nd\">233761</a>\n",
       "<div class=\"h\"><a target=\"_blank\" href=\"https://shebanq.ancient-data.org/hebrew/word?version=c&amp;id=1H\" title=\"show this lexeme in SHEBANQ\"></a></div>\n",
       "<div class=\"features\"> <span class=\"pdp\"><a href=\"https://shebanq.ancient-data.org/hebrew/text?book=Jesaia&amp;chapter=63&amp;verse=18&amp;version=c&amp;mr=m&amp;qw=q&amp;tp=txt_p&amp;tr=hb&amp;wget=v&amp;qget=v&amp;nget=vt\" title=\"Isaiah 63:18\" sec=\"Isaiah 63:18\">art</a></span> <span class=\"gloss\">the</span> <span class=\"lex xft\"><span class=\"f\">lex=</span>H</span> <span class=\"sp xft\"><span class=\"f\">sp=</span>art</span></div>\n",
       "\n",
       "\n",
       "</div>\n",
       "\n",
       "<div class=\"word  hl\"  style=\"background-color: #ffeead;\" >\n",
       "<a href=\"#\" class=\"nd\">233762</a>\n",
       "<div class=\"h\"><a target=\"_blank\" href=\"https://shebanq.ancient-data.org/hebrew/word?version=c&amp;id=1MYORn\" title=\"show this lexeme in SHEBANQ\">מִּצְעָ֕ר </a></div>\n",
       "<div class=\"features\"> <span class=\"pdp\"><a href=\"https://shebanq.ancient-data.org/hebrew/text?book=Jesaia&amp;chapter=63&amp;verse=18&amp;version=c&amp;mr=m&amp;qw=q&amp;tp=txt_p&amp;tr=hb&amp;wget=v&amp;qget=v&amp;nget=vt\" title=\"Isaiah 63:18\" sec=\"Isaiah 63:18\">subs</a></span> <span class=\"gloss\">little</span> <span class=\"lex xft\"><span class=\"f\">lex=</span>MY&lt;R/</span> <span class=\"sp xft\"><span class=\"f\">sp=</span>subs</span> <span class=\"st xft\"><span class=\"f\">st=</span>a</span></div>\n",
       "\n",
       "\n",
       "</div>\n",
       "\n",
       "\n",
       "    </div>\n",
       "\n",
       "\n",
       "</div>\n",
       "\n",
       "<div class=\"patom  \" >\n",
       "\n",
       "    <div class=\"phrase \" >\n",
       "        <a href=\"https://shebanq.ancient-data.org/hebrew/text?book=Jesaia&amp;chapter=63&amp;verse=18&amp;version=c&amp;mr=m&amp;qw=q&amp;tp=txt_p&amp;tr=hb&amp;wget=v&amp;qget=v&amp;nget=vt\" title=\"Isaiah 63:18\" sec=\"Isaiah 63:18\">phrase</a> <a href=\"#\" class=\"nd\">788482</a>  <span class=\"function\">Pred</span> <span class=\"typ\">VP</span>\n",
       "    </div>\n",
       "    <div class=\"atoms\">\n",
       "\n",
       "<div class=\"word  \" >\n",
       "<a href=\"#\" class=\"nd\">233763</a>\n",
       "<div class=\"h\"><a target=\"_blank\" href=\"https://shebanq.ancient-data.org/hebrew/word?version=c&amp;id=1JRCv\" title=\"show this lexeme in SHEBANQ\">יָרְשׁ֖וּ </a></div>\n",
       "<div class=\"features\"> <span class=\"pdp\"><a href=\"https://shebanq.ancient-data.org/hebrew/text?book=Jesaia&amp;chapter=63&amp;verse=18&amp;version=c&amp;mr=m&amp;qw=q&amp;tp=txt_p&amp;tr=hb&amp;wget=v&amp;qget=v&amp;nget=vt\" title=\"Isaiah 63:18\" sec=\"Isaiah 63:18\">verb</a></span> <span class=\"gloss\">trample down</span> <span class=\"vs\">qal</span> <span class=\"vt\">qṭl</span> <span class=\"lex xft\"><span class=\"f\">lex=</span>JRC[</span> <span class=\"sp xft\"><span class=\"f\">sp=</span>verb</span></div>\n",
       "\n",
       "\n",
       "</div>\n",
       "\n",
       "\n",
       "    </div>\n",
       "\n",
       "\n",
       "</div>\n",
       "\n",
       "<div class=\"patom  \" >\n",
       "\n",
       "    <div class=\"phrase \" >\n",
       "        <a href=\"https://shebanq.ancient-data.org/hebrew/text?book=Jesaia&amp;chapter=63&amp;verse=18&amp;version=c&amp;mr=m&amp;qw=q&amp;tp=txt_p&amp;tr=hb&amp;wget=v&amp;qget=v&amp;nget=vt\" title=\"Isaiah 63:18\" sec=\"Isaiah 63:18\">phrase</a> <a href=\"#\" class=\"nd\">788483</a>  <span class=\"function\">Subj</span> <span class=\"typ\">NP</span>\n",
       "    </div>\n",
       "    <div class=\"atoms\">\n",
       "\n",
       "<div class=\"word  \" >\n",
       "<a href=\"#\" class=\"nd\">233764</a>\n",
       "<div class=\"h\"><a target=\"_blank\" href=\"https://shebanq.ancient-data.org/hebrew/word?version=c&amp;id=1OMn\" title=\"show this lexeme in SHEBANQ\">עַם־</a></div>\n",
       "<div class=\"features\"> <span class=\"pdp\"><a href=\"https://shebanq.ancient-data.org/hebrew/text?book=Jesaia&amp;chapter=63&amp;verse=18&amp;version=c&amp;mr=m&amp;qw=q&amp;tp=txt_p&amp;tr=hb&amp;wget=v&amp;qget=v&amp;nget=vt\" title=\"Isaiah 63:18\" sec=\"Isaiah 63:18\">subs</a></span> <span class=\"gloss\">people</span> <span class=\"lex xft\"><span class=\"f\">lex=</span>&lt;M/</span> <span class=\"sp xft\"><span class=\"f\">sp=</span>subs</span> <span class=\"st xft\"><span class=\"f\">st=</span>c</span></div>\n",
       "\n",
       "\n",
       "</div>\n",
       "\n",
       "<div class=\"word  \" >\n",
       "<a href=\"#\" class=\"nd\">233765</a>\n",
       "<div class=\"h\"><a target=\"_blank\" href=\"https://shebanq.ancient-data.org/hebrew/word?version=c&amp;id=1QDCn\" title=\"show this lexeme in SHEBANQ\">קָדְשֶׁ֑ךָ </a></div>\n",
       "<div class=\"features\"> <span class=\"pdp\"><a href=\"https://shebanq.ancient-data.org/hebrew/text?book=Jesaia&amp;chapter=63&amp;verse=18&amp;version=c&amp;mr=m&amp;qw=q&amp;tp=txt_p&amp;tr=hb&amp;wget=v&amp;qget=v&amp;nget=vt\" title=\"Isaiah 63:18\" sec=\"Isaiah 63:18\">subs</a></span> <span class=\"gloss\">holiness</span> <span class=\"lex xft\"><span class=\"f\">lex=</span>QDC/</span> <span class=\"sp xft\"><span class=\"f\">sp=</span>subs</span> <span class=\"st xft\"><span class=\"f\">st=</span>a</span></div>\n",
       "\n",
       "\n",
       "</div>\n",
       "\n",
       "\n",
       "    </div>\n",
       "\n",
       "\n",
       "</div>\n",
       "\n",
       "\n",
       "    </div>\n",
       "\n",
       "\n",
       "</div>\n",
       "\n",
       "\n",
       "</div>\n"
      ],
      "text/plain": [
       "<IPython.core.display.HTML object>"
      ]
     },
     "metadata": {},
     "output_type": "display_data"
    },
    {
     "data": {
      "text/html": [
       "<div style=\"background: #96ceb4; text-align: center\">prep</div>"
      ],
      "text/plain": [
       "<IPython.core.display.HTML object>"
      ]
     },
     "metadata": {},
     "output_type": "display_data"
    },
    {
     "data": {
      "text/html": [
       "<div style=\"background: #ffeead; text-align: center\">head</div>"
      ],
      "text/plain": [
       "<IPython.core.display.HTML object>"
      ]
     },
     "metadata": {},
     "output_type": "display_data"
    },
    {
     "name": "stdout",
     "output_type": "stream",
     "text": [
      "{   '__cx__': 'prep_ph',\n",
      "    'head': {   '__cx__': 'defi_ph',\n",
      "                'art': {'__cx__': 'art', 'head': 233761},\n",
      "                'head': {'__cx__': 'cont', 'head': 233762}},\n",
      "    'prep': {'__cx__': 'prep', 'head': 233760}}\n",
      "\n"
     ]
    },
    {
     "data": {
      "text/html": [
       "<hr>"
      ],
      "text/plain": [
       "<IPython.core.display.HTML object>"
      ]
     },
     "metadata": {},
     "output_type": "display_data"
    }
   ],
   "source": [
    "for cx in contexts['mṣʿr-N']['qṭl']:\n",
    "    se.showcx(cx, condenseType='clause')"
   ]
  },
  {
   "cell_type": "markdown",
   "metadata": {},
   "source": [
    "## Identifying Frequently Nominalized Words\n",
    "\n",
    "One possible way to identify words that are regularly nominalized is to use a measure of statistical assocation. The standard measure in this project is the Fisher's exact method. We apply it below to the `head_collocates` dataset. Any resulting value >1.3 or <-1.3 is considered statistically significant, with the positive value representing positive association and the negative value being negative association. "
   ]
  },
  {
   "cell_type": "code",
   "execution_count": 91,
   "metadata": {},
   "outputs": [
    {
     "data": {
      "text/html": [
       "<div>\n",
       "<style scoped>\n",
       "    .dataframe tbody tr th:only-of-type {\n",
       "        vertical-align: middle;\n",
       "    }\n",
       "\n",
       "    .dataframe tbody tr th {\n",
       "        vertical-align: top;\n",
       "    }\n",
       "\n",
       "    .dataframe thead th {\n",
       "        text-align: right;\n",
       "    }\n",
       "</style>\n",
       "<table border=\"1\" class=\"dataframe\">\n",
       "  <thead>\n",
       "    <tr style=\"text-align: right;\">\n",
       "      <th></th>\n",
       "      <th>nom</th>\n",
       "      <th>ønom</th>\n",
       "    </tr>\n",
       "  </thead>\n",
       "  <tbody>\n",
       "    <tr>\n",
       "      <th>ywm-N</th>\n",
       "      <td>159.481461</td>\n",
       "      <td>-159.481461</td>\n",
       "    </tr>\n",
       "    <tr>\n",
       "      <th>ʿrb-N</th>\n",
       "      <td>16.872612</td>\n",
       "      <td>-16.872612</td>\n",
       "    </tr>\n",
       "    <tr>\n",
       "      <th>mṣʿr-N</th>\n",
       "      <td>-0.000000</td>\n",
       "      <td>0.000000</td>\n",
       "    </tr>\n",
       "    <tr>\n",
       "      <th>lylh-N</th>\n",
       "      <td>2.245085</td>\n",
       "      <td>-2.245085</td>\n",
       "    </tr>\n",
       "    <tr>\n",
       "      <th>ʿt-N</th>\n",
       "      <td>1.012334</td>\n",
       "      <td>-1.012334</td>\n",
       "    </tr>\n",
       "  </tbody>\n",
       "</table>\n",
       "</div>"
      ],
      "text/plain": [
       "                nom        ønom\n",
       "ywm-N    159.481461 -159.481461\n",
       "ʿrb-N     16.872612  -16.872612\n",
       "mṣʿr-N   -0.000000    0.000000\n",
       "lylh-N     2.245085   -2.245085\n",
       "ʿt-N       1.012334   -1.012334"
      ]
     },
     "execution_count": 91,
     "metadata": {},
     "output_type": "execute_result"
    }
   ],
   "source": [
    "head_assoc = apply_fishers(head_collocates)\n",
    "\n",
    "head_assoc.head()"
   ]
  },
  {
   "cell_type": "markdown",
   "metadata": {},
   "source": [
    "To isolate cases that are positively associated with nominal markers, we can select all cases with a Fisher's score `>1.3`:"
   ]
  },
  {
   "cell_type": "code",
   "execution_count": 92,
   "metadata": {},
   "outputs": [
    {
     "data": {
      "text/plain": [
       "(12, 1)"
      ]
     },
     "execution_count": 92,
     "metadata": {},
     "output_type": "execute_result"
    }
   ],
   "source": [
    "nominals = pd.DataFrame(head_assoc['nom'][head_assoc['nom'] > 1.3])\n",
    "\n",
    "nominals.shape"
   ]
  },
  {
   "cell_type": "markdown",
   "metadata": {},
   "source": [
    "Here are the heads in descending order of significance."
   ]
  },
  {
   "cell_type": "code",
   "execution_count": 94,
   "metadata": {},
   "outputs": [
    {
     "data": {
      "text/html": [
       "<div>\n",
       "<style scoped>\n",
       "    .dataframe tbody tr th:only-of-type {\n",
       "        vertical-align: middle;\n",
       "    }\n",
       "\n",
       "    .dataframe tbody tr th {\n",
       "        vertical-align: top;\n",
       "    }\n",
       "\n",
       "    .dataframe thead th {\n",
       "        text-align: right;\n",
       "    }\n",
       "</style>\n",
       "<table border=\"1\" class=\"dataframe\">\n",
       "  <thead>\n",
       "    <tr style=\"text-align: right;\">\n",
       "      <th></th>\n",
       "      <th>nom</th>\n",
       "    </tr>\n",
       "  </thead>\n",
       "  <tbody>\n",
       "    <tr>\n",
       "      <th>ywm-N</th>\n",
       "      <td>159.481461</td>\n",
       "    </tr>\n",
       "    <tr>\n",
       "      <th>s̆nh-N</th>\n",
       "      <td>32.098100</td>\n",
       "    </tr>\n",
       "    <tr>\n",
       "      <th>ʿrb-N</th>\n",
       "      <td>16.872612</td>\n",
       "    </tr>\n",
       "    <tr>\n",
       "      <th>bqr-N2</th>\n",
       "      <td>11.342699</td>\n",
       "    </tr>\n",
       "    <tr>\n",
       "      <th>pʿm-N</th>\n",
       "      <td>9.638066</td>\n",
       "    </tr>\n",
       "    <tr>\n",
       "      <th>pnh-N</th>\n",
       "      <td>3.326652</td>\n",
       "    </tr>\n",
       "    <tr>\n",
       "      <th>ḥds̆-N2</th>\n",
       "      <td>3.279716</td>\n",
       "    </tr>\n",
       "    <tr>\n",
       "      <th>ṣhrym-N</th>\n",
       "      <td>3.038424</td>\n",
       "    </tr>\n",
       "    <tr>\n",
       "      <th>lylh-N</th>\n",
       "      <td>2.245085</td>\n",
       "    </tr>\n",
       "    <tr>\n",
       "      <th>dbr-N</th>\n",
       "      <td>1.794882</td>\n",
       "    </tr>\n",
       "    <tr>\n",
       "      <th>s̆bʿ-N</th>\n",
       "      <td>1.432981</td>\n",
       "    </tr>\n",
       "    <tr>\n",
       "      <th>rʾs̆wn-N</th>\n",
       "      <td>1.432981</td>\n",
       "    </tr>\n",
       "  </tbody>\n",
       "</table>\n",
       "</div>"
      ],
      "text/plain": [
       "                 nom\n",
       "ywm-N     159.481461\n",
       "s̆nh-N     32.098100\n",
       "ʿrb-N      16.872612\n",
       "bqr-N2     11.342699\n",
       "pʿm-N       9.638066\n",
       "pnh-N       3.326652\n",
       "ḥds̆-N2    3.279716\n",
       "ṣhrym-N    3.038424\n",
       "lylh-N      2.245085\n",
       "dbr-N       1.794882\n",
       "s̆bʿ-N      1.432981\n",
       "rʾs̆wn-N    1.432981"
      ]
     },
     "execution_count": 94,
     "metadata": {},
     "output_type": "execute_result"
    }
   ],
   "source": [
    "nominals.sort_values(by='nom', ascending=False)"
   ]
  },
  {
   "cell_type": "markdown",
   "metadata": {},
   "source": [
    "We see that `ywm` is most strongly associated with nominalizers, followed by other terms such as `s̆nh` and `ʿrb`.\n",
    "\n",
    "Below we isolate the particles in the same way."
   ]
  },
  {
   "cell_type": "code",
   "execution_count": 97,
   "metadata": {},
   "outputs": [
    {
     "data": {
      "text/plain": [
       "(23, 1)"
      ]
     },
     "execution_count": 97,
     "metadata": {},
     "output_type": "execute_result"
    }
   ],
   "source": [
    "particles = pd.DataFrame(headcounts_assoc['nom'][headcounts_assoc['nom'] < -1.3])\n",
    "\n",
    "particles.shape"
   ]
  },
  {
   "cell_type": "code",
   "execution_count": 98,
   "metadata": {},
   "outputs": [
    {
     "data": {
      "text/html": [
       "<div>\n",
       "<style scoped>\n",
       "    .dataframe tbody tr th:only-of-type {\n",
       "        vertical-align: middle;\n",
       "    }\n",
       "\n",
       "    .dataframe tbody tr th {\n",
       "        vertical-align: top;\n",
       "    }\n",
       "\n",
       "    .dataframe thead th {\n",
       "        text-align: right;\n",
       "    }\n",
       "</style>\n",
       "<table border=\"1\" class=\"dataframe\">\n",
       "  <thead>\n",
       "    <tr style=\"text-align: right;\">\n",
       "      <th></th>\n",
       "      <th>nom</th>\n",
       "    </tr>\n",
       "  </thead>\n",
       "  <tbody>\n",
       "    <tr>\n",
       "      <th>ʿwd-N</th>\n",
       "      <td>-123.610507</td>\n",
       "    </tr>\n",
       "    <tr>\n",
       "      <th>ʾz-P</th>\n",
       "      <td>-42.785489</td>\n",
       "    </tr>\n",
       "    <tr>\n",
       "      <th>ʿwlm-N</th>\n",
       "      <td>-39.107762</td>\n",
       "    </tr>\n",
       "    <tr>\n",
       "      <th>ʿth-P</th>\n",
       "      <td>-29.690833</td>\n",
       "    </tr>\n",
       "    <tr>\n",
       "      <th>kn-P</th>\n",
       "      <td>-17.663520</td>\n",
       "    </tr>\n",
       "    <tr>\n",
       "      <th>tmyd-N</th>\n",
       "      <td>-13.028554</td>\n",
       "    </tr>\n",
       "    <tr>\n",
       "      <th>mḥr-N</th>\n",
       "      <td>-11.608481</td>\n",
       "    </tr>\n",
       "    <tr>\n",
       "      <th>nṣḥ-N</th>\n",
       "      <td>-8.776832</td>\n",
       "    </tr>\n",
       "    <tr>\n",
       "      <th>ptʾm-P</th>\n",
       "      <td>-8.070681</td>\n",
       "    </tr>\n",
       "    <tr>\n",
       "      <th>mḥrt-N</th>\n",
       "      <td>-8.070681</td>\n",
       "    </tr>\n",
       "    <tr>\n",
       "      <th>mwt-N</th>\n",
       "      <td>-7.365231</td>\n",
       "    </tr>\n",
       "    <tr>\n",
       "      <th>mty-P</th>\n",
       "      <td>-7.012769</td>\n",
       "    </tr>\n",
       "    <tr>\n",
       "      <th>s̆ny-N</th>\n",
       "      <td>-6.308369</td>\n",
       "    </tr>\n",
       "    <tr>\n",
       "      <th>ywmm-P</th>\n",
       "      <td>-5.956431</td>\n",
       "    </tr>\n",
       "    <tr>\n",
       "      <th>ʿd-N</th>\n",
       "      <td>-5.604667</td>\n",
       "    </tr>\n",
       "    <tr>\n",
       "      <th>mhrh-N</th>\n",
       "      <td>-5.604667</td>\n",
       "    </tr>\n",
       "    <tr>\n",
       "      <th>ʾn-P</th>\n",
       "      <td>-4.901661</td>\n",
       "    </tr>\n",
       "    <tr>\n",
       "      <th>ṭrm-N</th>\n",
       "      <td>-3.848455</td>\n",
       "    </tr>\n",
       "    <tr>\n",
       "      <th>rʾs̆-N</th>\n",
       "      <td>-1.746715</td>\n",
       "    </tr>\n",
       "    <tr>\n",
       "      <th>rʾs̆yt-N</th>\n",
       "      <td>-1.746715</td>\n",
       "    </tr>\n",
       "    <tr>\n",
       "      <th>bṭn-N</th>\n",
       "      <td>-1.397029</td>\n",
       "    </tr>\n",
       "    <tr>\n",
       "      <th>ʾms̆-N</th>\n",
       "      <td>-1.397029</td>\n",
       "    </tr>\n",
       "    <tr>\n",
       "      <th>hnh-P3</th>\n",
       "      <td>-1.397029</td>\n",
       "    </tr>\n",
       "  </tbody>\n",
       "</table>\n",
       "</div>"
      ],
      "text/plain": [
       "                 nom\n",
       "ʿwd-N    -123.610507\n",
       "ʾz-P      -42.785489\n",
       "ʿwlm-N    -39.107762\n",
       "ʿth-P     -29.690833\n",
       "kn-P      -17.663520\n",
       "tmyd-N    -13.028554\n",
       "mḥr-N    -11.608481\n",
       "nṣḥ-N    -8.776832\n",
       "ptʾm-P     -8.070681\n",
       "mḥrt-N    -8.070681\n",
       "mwt-N      -7.365231\n",
       "mty-P      -7.012769\n",
       "s̆ny-N     -6.308369\n",
       "ywmm-P     -5.956431\n",
       "ʿd-N       -5.604667\n",
       "mhrh-N     -5.604667\n",
       "ʾn-P       -4.901661\n",
       "ṭrm-N     -3.848455\n",
       "rʾs̆-N     -1.746715\n",
       "rʾs̆yt-N   -1.746715\n",
       "bṭn-N     -1.397029\n",
       "ʾms̆-N     -1.397029\n",
       "hnh-P3     -1.397029"
      ]
     },
     "execution_count": 98,
     "metadata": {},
     "output_type": "execute_result"
    }
   ],
   "source": [
    "particles.sort_values(by='nom')"
   ]
  },
  {
   "cell_type": "markdown",
   "metadata": {},
   "source": [
    "## Collocation Tests"
   ]
  },
  {
   "cell_type": "code",
   "execution_count": 16,
   "metadata": {},
   "outputs": [],
   "source": [
    "nominal_collocations = verbcounts.loc[nominals.index].sum()\n",
    "particle_collocations = verbcounts.loc[particles.index].sum()\n",
    "\n",
    "nominal_ratios = nominal_collocations / nominal_collocations.sum()\n",
    "particle_ratios = particle_collocations / particle_collocations.sum()"
   ]
  },
  {
   "cell_type": "code",
   "execution_count": 30,
   "metadata": {},
   "outputs": [],
   "source": [
    "nom_part = pd.concat([nominal_collocations, particle_collocations], axis=1)\n",
    "nom_part.columns = ['nom', 'ønom']"
   ]
  },
  {
   "cell_type": "code",
   "execution_count": 31,
   "metadata": {},
   "outputs": [
    {
     "data": {
      "text/html": [
       "<div>\n",
       "<style scoped>\n",
       "    .dataframe tbody tr th:only-of-type {\n",
       "        vertical-align: middle;\n",
       "    }\n",
       "\n",
       "    .dataframe tbody tr th {\n",
       "        vertical-align: top;\n",
       "    }\n",
       "\n",
       "    .dataframe thead th {\n",
       "        text-align: right;\n",
       "    }\n",
       "</style>\n",
       "<table border=\"1\" class=\"dataframe\">\n",
       "  <thead>\n",
       "    <tr style=\"text-align: right;\">\n",
       "      <th></th>\n",
       "      <th>nom</th>\n",
       "      <th>ønom</th>\n",
       "    </tr>\n",
       "  </thead>\n",
       "  <tbody>\n",
       "    <tr>\n",
       "      <th>qṭl</th>\n",
       "      <td>512.0</td>\n",
       "      <td>209.0</td>\n",
       "    </tr>\n",
       "    <tr>\n",
       "      <th>yqṭl</th>\n",
       "      <td>468.0</td>\n",
       "      <td>546.0</td>\n",
       "    </tr>\n",
       "    <tr>\n",
       "      <th>ptcp</th>\n",
       "      <td>117.0</td>\n",
       "      <td>62.0</td>\n",
       "    </tr>\n",
       "    <tr>\n",
       "      <th>impv</th>\n",
       "      <td>57.0</td>\n",
       "      <td>35.0</td>\n",
       "    </tr>\n",
       "    <tr>\n",
       "      <th>wyqṭl</th>\n",
       "      <td>478.0</td>\n",
       "      <td>128.0</td>\n",
       "    </tr>\n",
       "    <tr>\n",
       "      <th>wqṭl</th>\n",
       "      <td>149.0</td>\n",
       "      <td>42.0</td>\n",
       "    </tr>\n",
       "  </tbody>\n",
       "</table>\n",
       "</div>"
      ],
      "text/plain": [
       "          nom   ønom\n",
       "qṭl    512.0  209.0\n",
       "yqṭl   468.0  546.0\n",
       "ptcp    117.0   62.0\n",
       "impv     57.0   35.0\n",
       "wyqṭl  478.0  128.0\n",
       "wqṭl   149.0   42.0"
      ]
     },
     "execution_count": 31,
     "metadata": {},
     "output_type": "execute_result"
    }
   ],
   "source": [
    "nom_part"
   ]
  },
  {
   "cell_type": "code",
   "execution_count": 32,
   "metadata": {},
   "outputs": [],
   "source": [
    "nom_part_assoc = apply_fishers(nom_part)"
   ]
  },
  {
   "cell_type": "code",
   "execution_count": 33,
   "metadata": {},
   "outputs": [
    {
     "data": {
      "text/html": [
       "<div>\n",
       "<style scoped>\n",
       "    .dataframe tbody tr th:only-of-type {\n",
       "        vertical-align: middle;\n",
       "    }\n",
       "\n",
       "    .dataframe tbody tr th {\n",
       "        vertical-align: top;\n",
       "    }\n",
       "\n",
       "    .dataframe thead th {\n",
       "        text-align: right;\n",
       "    }\n",
       "</style>\n",
       "<table border=\"1\" class=\"dataframe\">\n",
       "  <thead>\n",
       "    <tr style=\"text-align: right;\">\n",
       "      <th></th>\n",
       "      <th>nom</th>\n",
       "      <th>ønom</th>\n",
       "    </tr>\n",
       "  </thead>\n",
       "  <tbody>\n",
       "    <tr>\n",
       "      <th>qṭl</th>\n",
       "      <td>5.921881</td>\n",
       "      <td>-5.921881</td>\n",
       "    </tr>\n",
       "    <tr>\n",
       "      <th>yqṭl</th>\n",
       "      <td>-45.727892</td>\n",
       "      <td>45.727892</td>\n",
       "    </tr>\n",
       "    <tr>\n",
       "      <th>ptcp</th>\n",
       "      <td>0.200139</td>\n",
       "      <td>-0.200139</td>\n",
       "    </tr>\n",
       "    <tr>\n",
       "      <th>impv</th>\n",
       "      <td>-0.129414</td>\n",
       "      <td>0.129414</td>\n",
       "    </tr>\n",
       "    <tr>\n",
       "      <th>wyqṭl</th>\n",
       "      <td>19.141985</td>\n",
       "      <td>-19.141985</td>\n",
       "    </tr>\n",
       "    <tr>\n",
       "      <th>wqṭl</th>\n",
       "      <td>4.949011</td>\n",
       "      <td>-4.949011</td>\n",
       "    </tr>\n",
       "  </tbody>\n",
       "</table>\n",
       "</div>"
      ],
      "text/plain": [
       "              nom       ønom\n",
       "qṭl     5.921881  -5.921881\n",
       "yqṭl  -45.727892  45.727892\n",
       "ptcp     0.200139  -0.200139\n",
       "impv    -0.129414   0.129414\n",
       "wyqṭl  19.141985 -19.141985\n",
       "wqṭl    4.949011  -4.949011"
      ]
     },
     "execution_count": 33,
     "metadata": {},
     "output_type": "execute_result"
    }
   ],
   "source": [
    "nom_part_assoc"
   ]
  },
  {
   "cell_type": "code",
   "execution_count": 19,
   "metadata": {},
   "outputs": [
    {
     "data": {
      "text/plain": [
       "qṭl      0.287479\n",
       "yqṭl     0.262774\n",
       "ptcp      0.065693\n",
       "impv      0.032004\n",
       "wyqṭl    0.268389\n",
       "wqṭl     0.083661\n",
       "dtype: float64"
      ]
     },
     "execution_count": 19,
     "metadata": {},
     "output_type": "execute_result"
    }
   ],
   "source": [
    "nominal_ratios"
   ]
  },
  {
   "cell_type": "code",
   "execution_count": 20,
   "metadata": {},
   "outputs": [
    {
     "data": {
      "text/plain": [
       "qṭl      0.204501\n",
       "yqṭl     0.534247\n",
       "ptcp      0.060665\n",
       "impv      0.034247\n",
       "wyqṭl    0.125245\n",
       "wqṭl     0.041096\n",
       "dtype: float64"
      ]
     },
     "execution_count": 20,
     "metadata": {},
     "output_type": "execute_result"
    }
   ],
   "source": [
    "particle_ratios"
   ]
  },
  {
   "cell_type": "code",
   "execution_count": null,
   "metadata": {},
   "outputs": [],
   "source": []
  }
 ],
 "metadata": {
  "kernelspec": {
   "display_name": "Python 3",
   "language": "python",
   "name": "python3"
  },
  "language_info": {
   "codemirror_mode": {
    "name": "ipython",
    "version": 3
   },
   "file_extension": ".py",
   "mimetype": "text/x-python",
   "name": "python",
   "nbconvert_exporter": "python",
   "pygments_lexer": "ipython3",
   "version": "3.8.0"
  }
 },
 "nbformat": 4,
 "nbformat_minor": 4
}
