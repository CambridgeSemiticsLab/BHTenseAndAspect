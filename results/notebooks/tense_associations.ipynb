{
 "cells": [
  {
   "cell_type": "markdown",
   "metadata": {},
   "source": [
    "*best viewed in [nbviewer](https://nbviewer.jupyter.org/github/CambridgeSemiticsLab/BH_time_collocations/blob/master/results/notebooks/tense_associations.ipynb)*"
   ]
  },
  {
   "cell_type": "markdown",
   "metadata": {},
   "source": [
    "# Tense Associations with Time Adverbials\n",
    "## Grammaticalization, Statistical Association, and the State of the Hebrew Verbal System\n",
    "### Cody Kingham\n",
    "<a href=\"../../docs/sponsors.md\"><img height=200px width=200px align=\"left\" src=\"../../docs/images/CambridgeU_BW.png\"></a>"
   ]
  },
  {
   "cell_type": "code",
   "execution_count": 1,
   "metadata": {},
   "outputs": [
    {
     "name": "stdout",
     "output_type": "stream",
     "text": [
      "last updated:\n",
      "Wed  8 Apr 2020 12:58:09 BST\n"
     ]
    }
   ],
   "source": [
    "! echo \"last updated:\"; date"
   ]
  },
  {
   "cell_type": "markdown",
   "metadata": {},
   "source": [
    "## Introduction\n",
    "\n",
    "In this notebook I seek to test various theories of Hebrew tense over \n",
    "against the collocational data of time adverbials. Across world \n",
    "languages, certain combinations of verbs and adverbials are predicted \n",
    "based on the semantic value of verb morphology. This value is hypothetized\n",
    "to be derived from its location along a generic grammaticalization path,\n",
    "following Bybee, Perkins, and Pagliuca (*The Evolution of Grammar*, 1994).\n",
    "\n",
    "The question this notebook seeks to answer is relatively straightforward:\n",
    "    \n",
    "    How far along the path of development is a given verb type in Biblical\n",
    "    Hebrew based on its collocational profile as compared with the profiles\n",
    "    of verbs in other world languages?\n",
    "<hr>"
   ]
  },
  {
   "cell_type": "markdown",
   "metadata": {},
   "source": [
    "## Notes on Adverbial Collocation Tendencies in Other Languages\n",
    "\n",
    "**Anteriors / Perfects**\n",
    "\n",
    "* languages without grammatical perfects such as Russian may exhibit more extensive use of morphemes meaning \"already\" to make up for the lack of a perfect. (Bybee, Dahl 1989: 68)\n",
    "* Anteriors do not readily combine with adverbials like \"still\" while resultatives do \"very easily\". (idem 1989: 69). \n",
    "* Anteriors are often accompanied with \"already\" or \"just\" (Bybee, Perkens, Pagliuca 1994: 54).\n",
    "* In British and American English, the most common adverbial collocations with the present perfect (\"has *verbed*\") are \"(ever) since (+temporal noun phrase or clause). (Schlüter 2002)\n",
    "\n",
    "**Perfectives**\n",
    "\n",
    "* Given Bybee and Dahl's claim that languages without anteriors may deploy more extensively words like \"already\" (1989: 68), it is sensible to expect the perfective would be the verb of choice: i.e. perfective + \"already\" *might* be more common than anterior + \"already\". But this is complicated by the fact that the anterior already prefers \"already\" (see above)."
   ]
  },
  {
   "cell_type": "markdown",
   "metadata": {},
   "source": [
    "# Python\n",
    "\n",
    "Now we import the modules and data needed for the analysis."
   ]
  },
  {
   "cell_type": "code",
   "execution_count": null,
   "metadata": {},
   "outputs": [],
   "source": [
    "# standard & data science packages\n",
    "import collections\n",
    "import pandas as pd\n",
    "import numpy as np\n",
    "import matplotlib.pyplot as plt\n",
    "from matplotlib import rcParams\n",
    "rcParams['font.serif'] = ['SBL Biblit']\n",
    "import seaborn as sns\n",
    "from bidi.algorithm import get_display # bi-directional text support for plotting\n",
    "from paths import main_table, figs\n",
    "\n",
    "# custom packages (see /tools)\n",
    "from tf_tools.load import load_tf\n",
    "from stats.significance import contingency_table, apply_fishers\n",
    "\n",
    "# launch Text-Fabric with custom data\n",
    "TF, API, A = load_tf(silent='deep')\n",
    "A.displaySetup(condenseType='phrase')\n",
    "F, E, T, L = A.api.F, A.api.E, A.api.T, A.api.L # corpus analysis methods\n",
    "\n",
    "# load and set up project dataset\n",
    "times_full = pd.read_csv(main_table, sep='\\t')\n",
    "times_full.set_index(['node'], inplace=True)\n",
    "times = times_full[~times_full.classi.str.contains('component')] # select singles"
   ]
  }
 ],
 "metadata": {
  "kernelspec": {
   "display_name": "Python 3",
   "language": "python",
   "name": "python3"
  },
  "language_info": {
   "codemirror_mode": {
    "name": "ipython",
    "version": 3
   },
   "file_extension": ".py",
   "mimetype": "text/x-python",
   "name": "python",
   "nbconvert_exporter": "python",
   "pygments_lexer": "ipython3",
   "version": "3.8.0"
  }
 },
 "nbformat": 4,
 "nbformat_minor": 4
}
