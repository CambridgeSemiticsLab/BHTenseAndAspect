{
 "cells": [
  {
   "cell_type": "markdown",
   "metadata": {},
   "source": [
    "*best viewed in [nbviewer](https://nbviewer.jupyter.org/github/CambridgeSemiticsLab/BH_time_collocations/blob/master/results/notebooks/NAME_HERE.ipynb)*"
   ]
  },
  {
   "cell_type": "markdown",
   "metadata": {},
   "source": [
    "# Title\n",
    "## Subtitle\n",
    "### Cody Kingham\n",
    "<a href=\"../../docs/sponsors.md\"><img height=200px width=200px align=\"left\" src=\"../../docs/images/CambridgeU_BW.png\"></a>"
   ]
  },
  {
   "cell_type": "code",
   "execution_count": 1,
   "metadata": {},
   "outputs": [
    {
     "name": "stdout",
     "output_type": "stream",
     "text": [
      "last updated:\n",
      "Tue 25 Feb 2020 10:38:04 GMT\n"
     ]
    }
   ],
   "source": [
    "! echo \"last updated:\"; date"
   ]
  },
  {
   "cell_type": "markdown",
   "metadata": {},
   "source": [
    "## Introduction\n",
    "\n",
    "<hr>"
   ]
  },
  {
   "cell_type": "markdown",
   "metadata": {},
   "source": [
    "# Python\n",
    "\n",
    "Now we import the modules and data needed for the analysis."
   ]
  },
  {
   "cell_type": "code",
   "execution_count": null,
   "metadata": {},
   "outputs": [],
   "source": [
    "# standard & data science packages\n",
    "import collections\n",
    "import pandas as pd\n",
    "import numpy as np\n",
    "import matplotlib.pyplot as plt\n",
    "from matplotlib import rcParams\n",
    "rcParams['font.serif'] = ['SBL Biblit']\n",
    "import seaborn as sns\n",
    "from bidi.algorithm import get_display # bi-directional text support for plotting\n",
    "from paths import main_table, figs\n",
    "\n",
    "# custom packages (see /tools)\n",
    "from tf_tools.load import load_tf\n",
    "from stats.significance import contingency_table, apply_fishers\n",
    "\n",
    "# launch Text-Fabric with custom data\n",
    "TF, API, A = load_tf(silent='deep')\n",
    "A.displaySetup(condenseType='phrase')\n",
    "F, E, T, L = A.api.F, A.api.E, A.api.T, A.api.L # corpus analysis methods\n",
    "\n",
    "# load and set up project dataset\n",
    "times_full = pd.read_csv(main_table, sep='\\t')\n",
    "times_full.set_index(['node'], inplace=True)\n",
    "times = times_full[~times_full.classi.str.contains('component')] # select singles"
   ]
  }
 ],
 "metadata": {
  "kernelspec": {
   "display_name": "Python 3",
   "language": "python",
   "name": "python3"
  },
  "language_info": {
   "codemirror_mode": {
    "name": "ipython",
    "version": 3
   },
   "file_extension": ".py",
   "mimetype": "text/x-python",
   "name": "python",
   "nbconvert_exporter": "python",
   "pygments_lexer": "ipython3",
   "version": "3.8.0"
  }
 },
 "nbformat": 4,
 "nbformat_minor": 4
}
