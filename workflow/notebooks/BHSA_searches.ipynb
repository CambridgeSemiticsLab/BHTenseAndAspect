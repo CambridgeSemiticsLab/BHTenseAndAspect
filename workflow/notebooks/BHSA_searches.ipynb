{
 "cells": [
  {
   "cell_type": "code",
   "execution_count": 1,
   "metadata": {},
   "outputs": [
    {
     "data": {
      "text/html": [
       "<b title=\"local commit\">TF-app:</b> <span title=\"#113c0687cfce3077734dac1844d244d20f4ace6f offline under ~/text-fabric-data\">~/text-fabric-data/annotation/app-bhsa/code</span>"
      ],
      "text/plain": [
       "<IPython.core.display.HTML object>"
      ]
     },
     "metadata": {},
     "output_type": "display_data"
    },
    {
     "data": {
      "text/html": [
       "<b title=\"local release\">data:</b> <span title=\"rv1.6 offline under ~/text-fabric-data\">~/text-fabric-data/etcbc/bhsa/tf/c</span>"
      ],
      "text/plain": [
       "<IPython.core.display.HTML object>"
      ]
     },
     "metadata": {},
     "output_type": "display_data"
    },
    {
     "data": {
      "text/html": [
       "<b title=\"local release\">data:</b> <span title=\"r1.2 offline under ~/text-fabric-data\">~/text-fabric-data/etcbc/phono/tf/c</span>"
      ],
      "text/plain": [
       "<IPython.core.display.HTML object>"
      ]
     },
     "metadata": {},
     "output_type": "display_data"
    },
    {
     "data": {
      "text/html": [
       "<b title=\"local release\">data:</b> <span title=\"r1.2 offline under ~/text-fabric-data\">~/text-fabric-data/etcbc/parallels/tf/c</span>"
      ],
      "text/plain": [
       "<IPython.core.display.HTML object>"
      ]
     },
     "metadata": {},
     "output_type": "display_data"
    },
    {
     "data": {
      "text/html": [
       "<b>Text-Fabric:</b> <a target=\"_blank\" href=\"https://annotation.github.io/text-fabric/tf/cheatsheet.html\" title=\"text-fabric-api\">Text-Fabric API 8.4.14</a>, <a target=\"_blank\" href=\"https://github.com/annotation/app-bhsa\" title=\"bhsa TF-app\">app-bhsa v3</a>, <a target=\"_blank\" href=\"https://annotation.github.io/text-fabric/tf/about/searchusage.html\" title=\"Search Templates Introduction and Reference\">Search Reference</a><br><b>Data:</b> <a target=\"_blank\" href=\"https://etcbc.github.io/bhsa/0_home\" title=\"provenance of BHSA = Biblia Hebraica Stuttgartensia Amstelodamensis\">BHSA</a>, <a target=\"_blank\" href=\"https://annotation.github.io/text-fabric/tf/writing/hebrew.html\" title=\"How TF features represent text\">Character table</a>, <a target=\"_blank\" href=\"https://etcbc.github.io/bhsa/features/0_home\" title=\"BHSA feature documentation\">Feature docs</a><br><b>Features:</b><br><details><summary><b>Parallel Passages</b></summary><b><i><a target=\"_blank\" href=\"https://nbviewer.jupyter.org/github/etcbc/parallels/blob/master/programs/parallels.ipynb\" title=\"~/text-fabric-data/etcbc/parallels/tf/c/crossref.tf\">crossref</a></i></b><br></details><details><summary><b>BHSA = Biblia Hebraica Stuttgartensia Amstelodamensis</b></summary><a target=\"_blank\" href=\"https://etcbc.github.io/bhsa/features/book\" title=\"~/text-fabric-data/etcbc/bhsa/tf/c/book.tf\">book</a><br><a target=\"_blank\" href=\"https://etcbc.github.io/bhsa/features/book@ll\" title=\"~/text-fabric-data/etcbc/bhsa/tf/c/book@am.tf\">book@ll</a><br><a target=\"_blank\" href=\"https://etcbc.github.io/bhsa/features/chapter\" title=\"~/text-fabric-data/etcbc/bhsa/tf/c/chapter.tf\">chapter</a><br><a target=\"_blank\" href=\"https://etcbc.github.io/bhsa/features/code\" title=\"~/text-fabric-data/etcbc/bhsa/tf/c/code.tf\">code</a><br><a target=\"_blank\" href=\"https://etcbc.github.io/bhsa/features/det\" title=\"~/text-fabric-data/etcbc/bhsa/tf/c/det.tf\">det</a><br><a target=\"_blank\" href=\"https://etcbc.github.io/bhsa/features/domain\" title=\"~/text-fabric-data/etcbc/bhsa/tf/c/domain.tf\">domain</a><br><a target=\"_blank\" href=\"https://etcbc.github.io/bhsa/features/freq_lex\" title=\"~/text-fabric-data/etcbc/bhsa/tf/c/freq_lex.tf\">freq_lex</a><br><a target=\"_blank\" href=\"https://etcbc.github.io/bhsa/features/function\" title=\"~/text-fabric-data/etcbc/bhsa/tf/c/function.tf\">function</a><br><a target=\"_blank\" href=\"https://etcbc.github.io/bhsa/features/g_cons\" title=\"~/text-fabric-data/etcbc/bhsa/tf/c/g_cons.tf\">g_cons</a><br><a target=\"_blank\" href=\"https://etcbc.github.io/bhsa/features/g_cons_utf8\" title=\"~/text-fabric-data/etcbc/bhsa/tf/c/g_cons_utf8.tf\">g_cons_utf8</a><br><a target=\"_blank\" href=\"https://etcbc.github.io/bhsa/features/g_lex\" title=\"~/text-fabric-data/etcbc/bhsa/tf/c/g_lex.tf\">g_lex</a><br><a target=\"_blank\" href=\"https://etcbc.github.io/bhsa/features/g_lex_utf8\" title=\"~/text-fabric-data/etcbc/bhsa/tf/c/g_lex_utf8.tf\">g_lex_utf8</a><br><a target=\"_blank\" href=\"https://etcbc.github.io/bhsa/features/g_word\" title=\"~/text-fabric-data/etcbc/bhsa/tf/c/g_word.tf\">g_word</a><br><a target=\"_blank\" href=\"https://etcbc.github.io/bhsa/features/g_word_utf8\" title=\"~/text-fabric-data/etcbc/bhsa/tf/c/g_word_utf8.tf\">g_word_utf8</a><br><a target=\"_blank\" href=\"https://etcbc.github.io/bhsa/features/gloss\" title=\"~/text-fabric-data/etcbc/bhsa/tf/c/gloss.tf\">gloss</a><br><a target=\"_blank\" href=\"https://etcbc.github.io/bhsa/features/gn\" title=\"~/text-fabric-data/etcbc/bhsa/tf/c/gn.tf\">gn</a><br><a target=\"_blank\" href=\"https://etcbc.github.io/bhsa/features/label\" title=\"~/text-fabric-data/etcbc/bhsa/tf/c/label.tf\">label</a><br><a target=\"_blank\" href=\"https://etcbc.github.io/bhsa/features/language\" title=\"~/text-fabric-data/etcbc/bhsa/tf/c/language.tf\">language</a><br><a target=\"_blank\" href=\"https://etcbc.github.io/bhsa/features/lex\" title=\"~/text-fabric-data/etcbc/bhsa/tf/c/lex.tf\">lex</a><br><a target=\"_blank\" href=\"https://etcbc.github.io/bhsa/features/lex_utf8\" title=\"~/text-fabric-data/etcbc/bhsa/tf/c/lex_utf8.tf\">lex_utf8</a><br><a target=\"_blank\" href=\"https://etcbc.github.io/bhsa/features/ls\" title=\"~/text-fabric-data/etcbc/bhsa/tf/c/ls.tf\">ls</a><br><a target=\"_blank\" href=\"https://etcbc.github.io/bhsa/features/nametype\" title=\"~/text-fabric-data/etcbc/bhsa/tf/c/nametype.tf\">nametype</a><br><a target=\"_blank\" href=\"https://etcbc.github.io/bhsa/features/nme\" title=\"~/text-fabric-data/etcbc/bhsa/tf/c/nme.tf\">nme</a><br><a target=\"_blank\" href=\"https://etcbc.github.io/bhsa/features/nu\" title=\"~/text-fabric-data/etcbc/bhsa/tf/c/nu.tf\">nu</a><br><a target=\"_blank\" href=\"https://etcbc.github.io/bhsa/features/number\" title=\"~/text-fabric-data/etcbc/bhsa/tf/c/number.tf\">number</a><br><a target=\"_blank\" href=\"https://etcbc.github.io/bhsa/features/otype\" title=\"~/text-fabric-data/etcbc/bhsa/tf/c/otype.tf\">otype</a><br><a target=\"_blank\" href=\"https://etcbc.github.io/bhsa/features/pargr\" title=\"~/text-fabric-data/etcbc/bhsa/tf/c/pargr.tf\">pargr</a><br><a target=\"_blank\" href=\"https://etcbc.github.io/bhsa/features/pdp\" title=\"~/text-fabric-data/etcbc/bhsa/tf/c/pdp.tf\">pdp</a><br><a target=\"_blank\" href=\"https://etcbc.github.io/bhsa/features/pfm\" title=\"~/text-fabric-data/etcbc/bhsa/tf/c/pfm.tf\">pfm</a><br><a target=\"_blank\" href=\"https://etcbc.github.io/bhsa/features/prs\" title=\"~/text-fabric-data/etcbc/bhsa/tf/c/prs.tf\">prs</a><br><a target=\"_blank\" href=\"https://etcbc.github.io/bhsa/features/prs_gn\" title=\"~/text-fabric-data/etcbc/bhsa/tf/c/prs_gn.tf\">prs_gn</a><br><a target=\"_blank\" href=\"https://etcbc.github.io/bhsa/features/prs_nu\" title=\"~/text-fabric-data/etcbc/bhsa/tf/c/prs_nu.tf\">prs_nu</a><br><a target=\"_blank\" href=\"https://etcbc.github.io/bhsa/features/prs_ps\" title=\"~/text-fabric-data/etcbc/bhsa/tf/c/prs_ps.tf\">prs_ps</a><br><a target=\"_blank\" href=\"https://etcbc.github.io/bhsa/features/ps\" title=\"~/text-fabric-data/etcbc/bhsa/tf/c/ps.tf\">ps</a><br><a target=\"_blank\" href=\"https://etcbc.github.io/bhsa/features/qere\" title=\"~/text-fabric-data/etcbc/bhsa/tf/c/qere.tf\">qere</a><br><a target=\"_blank\" href=\"https://etcbc.github.io/bhsa/features/qere_trailer\" title=\"~/text-fabric-data/etcbc/bhsa/tf/c/qere_trailer.tf\">qere_trailer</a><br><a target=\"_blank\" href=\"https://etcbc.github.io/bhsa/features/qere_trailer_utf8\" title=\"~/text-fabric-data/etcbc/bhsa/tf/c/qere_trailer_utf8.tf\">qere_trailer_utf8</a><br><a target=\"_blank\" href=\"https://etcbc.github.io/bhsa/features/qere_utf8\" title=\"~/text-fabric-data/etcbc/bhsa/tf/c/qere_utf8.tf\">qere_utf8</a><br><a target=\"_blank\" href=\"https://etcbc.github.io/bhsa/features/rank_lex\" title=\"~/text-fabric-data/etcbc/bhsa/tf/c/rank_lex.tf\">rank_lex</a><br><a target=\"_blank\" href=\"https://etcbc.github.io/bhsa/features/rela\" title=\"~/text-fabric-data/etcbc/bhsa/tf/c/rela.tf\">rela</a><br><a target=\"_blank\" href=\"https://etcbc.github.io/bhsa/features/sp\" title=\"~/text-fabric-data/etcbc/bhsa/tf/c/sp.tf\">sp</a><br><a target=\"_blank\" href=\"https://etcbc.github.io/bhsa/features/st\" title=\"~/text-fabric-data/etcbc/bhsa/tf/c/st.tf\">st</a><br><a target=\"_blank\" href=\"https://etcbc.github.io/bhsa/features/tab\" title=\"~/text-fabric-data/etcbc/bhsa/tf/c/tab.tf\">tab</a><br><a target=\"_blank\" href=\"https://etcbc.github.io/bhsa/features/trailer\" title=\"~/text-fabric-data/etcbc/bhsa/tf/c/trailer.tf\">trailer</a><br><a target=\"_blank\" href=\"https://etcbc.github.io/bhsa/features/trailer_utf8\" title=\"~/text-fabric-data/etcbc/bhsa/tf/c/trailer_utf8.tf\">trailer_utf8</a><br><a target=\"_blank\" href=\"https://etcbc.github.io/bhsa/features/txt\" title=\"~/text-fabric-data/etcbc/bhsa/tf/c/txt.tf\">txt</a><br><a target=\"_blank\" href=\"https://etcbc.github.io/bhsa/features/typ\" title=\"~/text-fabric-data/etcbc/bhsa/tf/c/typ.tf\">typ</a><br><a target=\"_blank\" href=\"https://etcbc.github.io/bhsa/features/uvf\" title=\"~/text-fabric-data/etcbc/bhsa/tf/c/uvf.tf\">uvf</a><br><a target=\"_blank\" href=\"https://etcbc.github.io/bhsa/features/vbe\" title=\"~/text-fabric-data/etcbc/bhsa/tf/c/vbe.tf\">vbe</a><br><a target=\"_blank\" href=\"https://etcbc.github.io/bhsa/features/vbs\" title=\"~/text-fabric-data/etcbc/bhsa/tf/c/vbs.tf\">vbs</a><br><a target=\"_blank\" href=\"https://etcbc.github.io/bhsa/features/verse\" title=\"~/text-fabric-data/etcbc/bhsa/tf/c/verse.tf\">verse</a><br><a target=\"_blank\" href=\"https://etcbc.github.io/bhsa/features/voc_lex\" title=\"~/text-fabric-data/etcbc/bhsa/tf/c/voc_lex.tf\">voc_lex</a><br><a target=\"_blank\" href=\"https://etcbc.github.io/bhsa/features/voc_lex_utf8\" title=\"~/text-fabric-data/etcbc/bhsa/tf/c/voc_lex_utf8.tf\">voc_lex_utf8</a><br><a target=\"_blank\" href=\"https://etcbc.github.io/bhsa/features/vs\" title=\"~/text-fabric-data/etcbc/bhsa/tf/c/vs.tf\">vs</a><br><a target=\"_blank\" href=\"https://etcbc.github.io/bhsa/features/vt\" title=\"~/text-fabric-data/etcbc/bhsa/tf/c/vt.tf\">vt</a><br><b><i><a target=\"_blank\" href=\"https://etcbc.github.io/bhsa/features/mother\" title=\"~/text-fabric-data/etcbc/bhsa/tf/c/mother.tf\">mother</a></i></b><br><b><i><a target=\"_blank\" href=\"https://etcbc.github.io/bhsa/features/oslots\" title=\"~/text-fabric-data/etcbc/bhsa/tf/c/oslots.tf\">oslots</a></i></b><br></details><details><summary><b>Phonetic Transcriptions</b></summary><a target=\"_blank\" href=\"https://nbviewer.jupyter.org/github/etcbc/phono/blob/master/programs/phono.ipynb\" title=\"~/text-fabric-data/etcbc/phono/tf/c/phono.tf\">phono</a><br><a target=\"_blank\" href=\"https://nbviewer.jupyter.org/github/etcbc/phono/blob/master/programs/phono.ipynb\" title=\"~/text-fabric-data/etcbc/phono/tf/c/phono_trailer.tf\">phono_trailer</a><br></details>"
      ],
      "text/plain": [
       "<IPython.core.display.HTML object>"
      ]
     },
     "metadata": {},
     "output_type": "display_data"
    },
    {
     "data": {
      "text/html": [
       "<style>tr.tf.ltr, td.tf.ltr, th.tf.ltr { text-align: left ! important;}\n",
       "tr.tf.rtl, td.tf.rtl, th.tf.rtl { text-align: right ! important;}\n",
       "@font-face {\n",
       "  font-family: \"Gentium Plus\";\n",
       "  src: local('Gentium Plus'), local('GentiumPlus'),\n",
       "    url('/server/static/fonts/GentiumPlus-R.woff') format('woff'),\n",
       "    url('https://github.com/annotation/text-fabric/blob/master/tf/server/static/fonts/GentiumPlus-R.woff?raw=true') format('woff');\n",
       "}\n",
       "\n",
       "@font-face {\n",
       "  font-family: \"Ezra SIL\";\n",
       "  src: local('Ezra SIL'), local('EzraSIL'),\n",
       "    url('/server/static/fonts/SILEOT.woff') format('woff'),\n",
       "    url('https://github.com/annotation/text-fabric/blob/master/tf/server/static/fonts/SILEOT.woff?raw=true') format('woff');\n",
       "}\n",
       "\n",
       "@font-face {\n",
       "  font-family: \"SBL Hebrew\";\n",
       "  src: local('SBL Hebrew'), local('SBLHebrew'),\n",
       "    url('/server/static/fonts/SBL_Hbrw.woff') format('woff'),\n",
       "    url('https://github.com/annotation/text-fabric/blob/master/tf/server/static/fonts/SBL_Hbrw.woff?raw=true') format('woff');\n",
       "}\n",
       "\n",
       "@font-face {\n",
       "  font-family: \"Estrangelo Edessa\";\n",
       "  src: local('Estrangelo Edessa'), local('EstrangeloEdessa');\n",
       "    url('/server/static/fonts/SyrCOMEdessa.woff') format('woff'),\n",
       "    url('https://github.com/annotation/text-fabric/blob/master/tf/server/static/fonts/SyrCOMEdessa.woff?raw=true') format('woff');\n",
       "}\n",
       "\n",
       "@font-face {\n",
       "  font-family: AmiriQuran;\n",
       "  font-style: normal;\n",
       "  font-weight: 400;\n",
       "  src: local('Amiri Quran'), local('AmiriQuran'),\n",
       "    url('/server/static/fonts/AmiriQuran.woff') format('woff'),\n",
       "    url('https://github.com/annotation/text-fabric/blob/master/tf/server/static/fonts/AmiriQuran.woff?raw=true') format('woff');\n",
       "}\n",
       "\n",
       "@font-face {\n",
       "  font-family: AmiriQuranColored;\n",
       "  font-style: normal;\n",
       "  font-weight: 400;\n",
       "  src: local('Amiri Quran Colored'), local('AmiriQuranColored'),\n",
       "    url('/server/static/fonts/AmiriQuranColored.woff') format('woff'),\n",
       "    url('https://github.com/annotation/text-fabric/blob/master/tf/server/static/fonts/AmiriQuranColored.woff?raw=true') format('woff');\n",
       "}\n",
       "\n",
       "@font-face {\n",
       "  font-family: \"Santakku\";\n",
       "  src: local('Santakku'),\n",
       "    url('/server/static/fonts/Santakku.woff') format('woff'),\n",
       "    url('https://github.com/annotation/text-fabric/blob/master/tf/server/static/fonts/Santakku.woff?raw=true') format('woff');\n",
       "}\n",
       "\n",
       "@font-face {\n",
       "  font-family: \"SantakkuM\";\n",
       "  src: local('SantakkuM'),\n",
       "    url('/server/static/fonts/SantakkuM.woff') format('woff'),\n",
       "    url('https://github.com/annotation/text-fabric/blob/master/tf/server/static/fonts/SantakkuM.woff?raw=true') format('woff');\n",
       "}\n",
       "/* bypassing some classical notebook settings */\n",
       "div#notebook {\n",
       "  line-height: unset;\n",
       "}\n",
       "/* neutral text */\n",
       ".txtn,.txtn a:visited,.txtn a:link {\n",
       "    font-family: sans-serif;\n",
       "    font-size: medium;\n",
       "    direction: ltr;\n",
       "    unicode-bidi: embed;\n",
       "    text-decoration: none;\n",
       "    color: var(--text-color);\n",
       "}\n",
       "/* transcription text */\n",
       ".txtt,.txtt a:visited,.txtt a:link {\n",
       "    font-family: monospace;\n",
       "    font-size: medium;\n",
       "    direction: ltr;\n",
       "    unicode-bidi: embed;\n",
       "    text-decoration: none;\n",
       "    color: var(--text-color);\n",
       "}\n",
       "/* source text */\n",
       ".txto,.txto a:visited,.txto a:link {\n",
       "    font-family: serif;\n",
       "    font-size: medium;\n",
       "    direction: ltr;\n",
       "    unicode-bidi: embed;\n",
       "    text-decoration: none;\n",
       "    color: var(--text-color);\n",
       "}\n",
       "/* phonetic text */\n",
       ".txtp,.txtp a:visited,.txtp a:link {\n",
       "    font-family: Gentium, sans-serif;\n",
       "    font-size: medium;\n",
       "    direction: ltr;\n",
       "    unicode-bidi: embed;\n",
       "    text-decoration: none;\n",
       "    color: var(--text-color);\n",
       "}\n",
       "/* original script text */\n",
       ".txtu,.txtu a:visited,.txtu a:link {\n",
       "    font-family: Gentium, sans-serif;\n",
       "    font-size: medium;\n",
       "    text-decoration: none;\n",
       "    color: var(--text-color);\n",
       "}\n",
       "/* hebrew */\n",
       ".txtu.hbo,.lex.hbo {\n",
       "    font-family: \"Ezra SIL\", \"SBL Hebrew\", sans-serif;\n",
       "    font-size: large;\n",
       "    direction: rtl ! important;\n",
       "    unicode-bidi: embed;\n",
       "}\n",
       "/* syriac */\n",
       ".txtu.syc,.lex.syc {\n",
       "    font-family: \"Estrangelo Edessa\", sans-serif;\n",
       "    font-size: medium;\n",
       "    direction: rtl ! important;\n",
       "    unicode-bidi: embed;\n",
       "}\n",
       "/* neo aramaic */\n",
       ".txtu.cld,.lex.cld {\n",
       "    font-family: \"CharisSIL-R\", sans-serif;\n",
       "    font-size: medium;\n",
       "    direction: ltr ! important;\n",
       "    unicode-bidi: embed;\n",
       "}\n",
       "/* standard arabic */\n",
       ".txtu.ara,.lex.ara {\n",
       "    font-family: \"AmiriQuran\", sans-serif;\n",
       "    font-size: large;\n",
       "    direction: rtl ! important;\n",
       "    unicode-bidi: embed;\n",
       "}\n",
       "/* cuneiform */\n",
       ".txtu.akk,.lex.akk {\n",
       "    font-family: Santakku, sans-serif;\n",
       "    font-size: large;\n",
       "    direction: ltr ! important;\n",
       "    unicode-bidi: embed;\n",
       "}\n",
       "/* greek */\n",
       ".txtu.grc,.lex.grc a:link {\n",
       "    font-family: Gentium, sans-serif;\n",
       "    font-size: medium;\n",
       "    direction: ltr ! important;\n",
       "    unicode-bidi: embed;\n",
       "}\n",
       "a:hover {\n",
       "    text-decoration: underline | important;\n",
       "    color: #0000ff | important;\n",
       "}\n",
       ".ltr {\n",
       "    direction: ltr ! important;\n",
       "    unicode-bidi: embed;\n",
       "}\n",
       ".rtl {\n",
       "    direction: rtl ! important;\n",
       "    unicode-bidi: embed;\n",
       "}\n",
       ".ubd {\n",
       "    unicode-bidi: embed;\n",
       "}\n",
       ".col {\n",
       "   display: inline-block;\n",
       "}\n",
       ".features {\n",
       "    font-family: monospace;\n",
       "    font-size: medium;\n",
       "    font-weight: bold;\n",
       "    color: var(--features);\n",
       "    display: flex;\n",
       "    flex-flow: column nowrap;\n",
       "    justify-content: flex-start;\n",
       "    align-items: flex-start;\n",
       "    align-content: flex-start;\n",
       "    padding: 2px;\n",
       "    margin: 2px;\n",
       "    direction: ltr;\n",
       "    unicode-bidi: embed;\n",
       "    border: var(--meta-width) solid var(--meta-color);\n",
       "    border-radius: var(--meta-width);\n",
       "}\n",
       ".features div,.features span {\n",
       "    padding: 0;\n",
       "    margin: -2px 0;\n",
       "}\n",
       ".features .f {\n",
       "    font-family: sans-serif;\n",
       "    font-size: small;\n",
       "    font-weight: normal;\n",
       "    color: #5555bb;\n",
       "}\n",
       ".features .xft {\n",
       "  color: #000000;\n",
       "  background-color: #eeeeee;\n",
       "  font-size: medium;\n",
       "  margin: 2px 0px;\n",
       "}\n",
       ".features .xft .f {\n",
       "  color: #000000;\n",
       "  background-color: #eeeeee;\n",
       "  font-size: small;\n",
       "  font-weight: normal;\n",
       "}\n",
       ".tfsechead {\n",
       "    font-family: sans-serif;\n",
       "    font-size: small;\n",
       "    font-weight: bold;\n",
       "    color: var(--tfsechead);\n",
       "    unicode-bidi: embed;\n",
       "    text-align: start;\n",
       "}\n",
       ".structure {\n",
       "    font-family: sans-serif;\n",
       "    font-size: small;\n",
       "    font-weight: bold;\n",
       "    color: var(--structure);\n",
       "    unicode-bidi: embed;\n",
       "    text-align: start;\n",
       "}\n",
       ".comments {\n",
       "    display: flex;\n",
       "    justify-content: flex-start;\n",
       "    align-items: flex-start;\n",
       "    align-content: flex-start;\n",
       "    flex-flow: column nowrap;\n",
       "}\n",
       ".nd, a:link.nd {\n",
       "    font-family: sans-serif;\n",
       "    font-size: small;\n",
       "    color: var(--node);\n",
       "    vertical-align: super;\n",
       "    direction: ltr ! important;\n",
       "    unicode-bidi: embed;\n",
       "}\n",
       ".lex {\n",
       "  color: var(--lex-color);;\n",
       "}\n",
       ".children,.children.ltr {\n",
       "    display: flex;\n",
       "    border: 0;\n",
       "    background-color: #ffffff;\n",
       "    justify-content: flex-start;\n",
       "    align-items: flex-start;\n",
       "    align-content: flex-start;\n",
       "}\n",
       ".children.stretch {\n",
       "    align-items: stretch;\n",
       "}\n",
       ".children.hor {\n",
       "    flex-flow: row nowrap;\n",
       "}\n",
       ".children.hor.wrap {\n",
       "    flex-flow: row wrap;\n",
       "}\n",
       ".children.ver {\n",
       "    flex-flow: column nowrap;\n",
       "}\n",
       ".children.ver.wrap {\n",
       "    flex-flow: column wrap;\n",
       "}\n",
       ".contnr {\n",
       "    width: fit-content;\n",
       "    display: flex;\n",
       "    justify-content: flex-start;\n",
       "    align-items: flex-start;\n",
       "    align-content: flex-start;\n",
       "    flex-flow: column nowrap;\n",
       "    background: #ffffff none repeat scroll 0 0;\n",
       "    padding:  10px 2px 2px 2px;\n",
       "    margin: 16px 2px 2px 2px;\n",
       "    border-style: solid;\n",
       "    font-size: small;\n",
       "}\n",
       ".contnr.trm {\n",
       "    background-attachment: local;\n",
       "}\n",
       ".contnr.cnul {\n",
       "    padding:  0;\n",
       "    margin: 0;\n",
       "    border-style: solid;\n",
       "    font-size: xx-small;\n",
       "}\n",
       ".contnr.cnul,.lbl.cnul {\n",
       "    border-color: var(--border-color-nul);\n",
       "    border-width: var(--border-width-nul);\n",
       "    border-radius: var(--border-width-nul);\n",
       "}\n",
       ".contnr.c0,.lbl.c0 {\n",
       "    border-color: var(--border-color0);\n",
       "    border-width: var(--border-width0);\n",
       "    border-radius: var(--border-width0);\n",
       "}\n",
       ".contnr.c1,.lbl.c1 {\n",
       "    border-color: var(--border-color1);\n",
       "    border-width: var(--border-width1);\n",
       "    border-radius: var(--border-width1);\n",
       "}\n",
       ".contnr.c2,.lbl.c2 {\n",
       "    border-color: var(--border-color2);\n",
       "    border-width: var(--border-width2);\n",
       "    border-radius: var(--border-width2);\n",
       "}\n",
       ".contnr.c3,.lbl.c3 {\n",
       "    border-color: var(--border-color3);\n",
       "    border-width: var(--border-width3);\n",
       "    border-radius: var(--border-width3);\n",
       "}\n",
       ".contnr.c4,.lbl.c4 {\n",
       "    border-color: var(--border-color4);\n",
       "    border-width: var(--border-width4);\n",
       "    border-radius: var(--border-width4);\n",
       "}\n",
       "span.plain {\n",
       "    display: inline-block;\n",
       "    white-space: pre-wrap;\n",
       "}\n",
       ".plain {\n",
       "    background-color: #ffffff;\n",
       "}\n",
       ".plain.l,.contnr.l,.contnr.l>.lbl {\n",
       "    border-left-style: dotted\n",
       "}\n",
       ".plain.r,.contnr.r,.contnr.r>.lbl {\n",
       "    border-right-style: dotted\n",
       "}\n",
       ".plain.lno,.contnr.lno,.contnr.lno>.lbl {\n",
       "    border-left-style: none\n",
       "}\n",
       ".plain.rno,.contnr.rno,.contnr.rno>.lbl {\n",
       "    border-right-style: none\n",
       "}\n",
       ".plain.l {\n",
       "    padding-left: 4px;\n",
       "    margin-left: 2px;\n",
       "    border-width: var(--border-width-plain);\n",
       "}\n",
       ".plain.r {\n",
       "    padding-right: 4px;\n",
       "    margin-right: 2px;\n",
       "    border-width: var(--border-width-plain);\n",
       "}\n",
       ".lbl {\n",
       "    font-family: monospace;\n",
       "    margin-top: -24px;\n",
       "    margin-left: 20px;\n",
       "    background: #ffffff none repeat scroll 0 0;\n",
       "    padding: 0 6px;\n",
       "    border-style: solid;\n",
       "    display: block;\n",
       "    color: var(--label)\n",
       "}\n",
       ".lbl.trm {\n",
       "    background-attachment: local;\n",
       "    margin-top: 2px;\n",
       "    margin-left: 2px;\n",
       "    padding: 2px 2px;\n",
       "    border-style: none;\n",
       "}\n",
       ".lbl.cnul {\n",
       "    font-size: xx-small;\n",
       "}\n",
       ".lbl.c0 {\n",
       "    font-size: small;\n",
       "}\n",
       ".lbl.c1 {\n",
       "    font-size: small;\n",
       "}\n",
       ".lbl.c2 {\n",
       "    font-size: medium;\n",
       "}\n",
       ".lbl.c3 {\n",
       "    font-size: medium;\n",
       "}\n",
       ".lbl.c4 {\n",
       "    font-size: large;\n",
       "}\n",
       ".occs, a:link.occs {\n",
       "    font-size: small;\n",
       "}\n",
       "\n",
       "/* PROVENANCE */\n",
       "\n",
       "div.prov {\n",
       "\tmargin: 40px;\n",
       "\tpadding: 20px;\n",
       "\tborder: 2px solid var(--fog-rim);\n",
       "}\n",
       "div.pline {\n",
       "\tdisplay: flex;\n",
       "\tflex-flow: row nowrap;\n",
       "\tjustify-content: stretch;\n",
       "\talign-items: baseline;\n",
       "}\n",
       "div.p2line {\n",
       "\tmargin-left: 2em;\n",
       "\tdisplay: flex;\n",
       "\tflex-flow: row nowrap;\n",
       "\tjustify-content: stretch;\n",
       "\talign-items: baseline;\n",
       "}\n",
       "div.psline {\n",
       "\tdisplay: flex;\n",
       "\tflex-flow: row nowrap;\n",
       "\tjustify-content: stretch;\n",
       "\talign-items: baseline;\n",
       "\tbackground-color: var(--gold-mist-back);\n",
       "}\n",
       "div.pname {\n",
       "\tflex: 0 0 5rem;\n",
       "\tfont-weight: bold;\n",
       "}\n",
       "div.pval {\n",
       "    flex: 1 1 auto;\n",
       "}\n",
       "\n",
       ":root {\n",
       "\t--node:               hsla(120, 100%,  20%, 1.0  );\n",
       "\t--label:              hsla(  0, 100%,  20%, 1.0  );\n",
       "\t--tfsechead:          hsla(  0, 100%,  25%, 1.0  );\n",
       "\t--structure:          hsla(120, 100%,  25%, 1.0  );\n",
       "\t--features:           hsla(  0,   0%,  30%, 1.0  );\n",
       "  --text-color:         hsla( 60,  80%,  10%, 1.0  );\n",
       "  --lex-color:          hsla(220,  90%,  60%, 1.0  );\n",
       "  --meta-color:         hsla(  0,   0%,  90%, 0.7  );\n",
       "  --meta-width:         3px;\n",
       "  --border-color-nul:   hsla(  0,   0%,  90%, 0.5  );\n",
       "  --border-color0:      hsla(  0,   0%,  90%, 0.9  );\n",
       "  --border-color1:      hsla(  0,   0%,  80%, 0.9  );\n",
       "  --border-color2:      hsla(  0,   0%,  70%, 0.9  );\n",
       "  --border-color3:      hsla(  0,   0%,  80%, 0.8  );\n",
       "  --border-color4:      hsla(  0,   0%,  60%, 0.9  );\n",
       "  --border-width-nul:   2px;\n",
       "  --border-width0:      2px;\n",
       "  --border-width1:      3px;\n",
       "  --border-width2:      4px;\n",
       "  --border-width3:      6px;\n",
       "  --border-width4:      5px;\n",
       "  --border-width-plain: 2px;\n",
       "}\n",
       ".hl {\n",
       "  background-color: var(--hl-strong);\n",
       "}\n",
       "span.hl {\n",
       "\tbackground-color: var(--hl-strong);\n",
       "\tborder-width: 0;\n",
       "\tborder-radius: 2px;\n",
       "\tborder-style: solid;\n",
       "}\n",
       "div.contnr.hl,div.lbl.hl {\n",
       "  background-color: var(--hl-strong);\n",
       "}\n",
       "div.contnr.hl {\n",
       "  border-color: var(--hl-rim) ! important;\n",
       "\tborder-width: 4px ! important;\n",
       "}\n",
       "\n",
       "span.hlbx {\n",
       "\tborder-color: var(--hl-rim);\n",
       "\tborder-width: 4px ! important;\n",
       "\tborder-style: solid;\n",
       "\tborder-radius: 6px;\n",
       "  padding: 4px;\n",
       "  margin: 4px;\n",
       "}\n",
       "\n",
       "span.plain {\n",
       "  display: inline-block;\n",
       "  white-space: pre-wrap;\n",
       "}\n",
       "\n",
       ":root {\n",
       "\t--hl-strong:        hsla( 60, 100%,  70%, 0.9  );\n",
       "\t--hl-rim:           hsla( 55,  80%,  50%, 1.0  );\n",
       "}\n",
       "</style>"
      ],
      "text/plain": [
       "<IPython.core.display.HTML object>"
      ]
     },
     "metadata": {},
     "output_type": "display_data"
    },
    {
     "data": {
      "text/html": [
       "<div><b>Text-Fabric API:</b> names <a target=\"_blank\" href=\"https://annotation.github.io/text-fabric/tf/cheatsheet.html\" title=\"doc\">N F E L T S C TF</a> directly usable</div><hr>"
      ],
      "text/plain": [
       "<IPython.core.display.HTML object>"
      ]
     },
     "metadata": {},
     "output_type": "display_data"
    }
   ],
   "source": [
    "from tf.app import use\n",
    "A = use('bhsa', hoist=globals())\n",
    "A.displaySetup(condenseType='clause', withNodes=True, extraFeatures='pdp st')\n",
    "\n",
    "import sys\n",
    "import collections\n",
    "sys.path.append('../scripts/tools/')\n",
    "from load_parse import ParseLoader\n",
    "\n",
    "slot2pos = ParseLoader('../../results/parsing/slot2pos.json').load()\n",
    "pos2slot = collections.defaultdict(set)\n",
    "for slot, pos in slot2pos.items():\n",
    "    pos2slot[pos].add(slot)"
   ]
  },
  {
   "cell_type": "markdown",
   "metadata": {},
   "source": [
    "# Lookup Passages"
   ]
  },
  {
   "cell_type": "code",
   "execution_count": 26,
   "metadata": {},
   "outputs": [
    {
     "data": {
      "text/plain": [
       "()"
      ]
     },
     "execution_count": 26,
     "metadata": {},
     "output_type": "execute_result"
    }
   ],
   "source": [
    "E.mother.f(1022363)"
   ]
  },
  {
   "cell_type": "code",
   "execution_count": 23,
   "metadata": {},
   "outputs": [
    {
     "data": {
      "text/html": [
       "<p><b>result</b> <i>10</i></p>"
      ],
      "text/plain": [
       "<IPython.core.display.HTML object>"
      ]
     },
     "metadata": {},
     "output_type": "display_data"
    },
    {
     "data": {
      "text/html": [
       "<div class=\"tfsechead rtl\"><a target=\"_blank\" href=\"https://shebanq.ancient-data.org/hebrew/text?book=Reges_I&amp;chapter=20&amp;verse=16&amp;version=c&amp;mr=m&amp;qw=q&amp;tp=txt_p&amp;tr=hb&amp;wget=v&amp;qget=v&amp;nget=vt\" title=\"Show this on SHEBANQ\" sec=\"1_Kings 20:16\">1_Kings 20:16</a></div><div class=\"rtl children\"><div class=\"contnr c2  rtl  \" ><div class=\"lbl c2  \" ><span class=\"nd\">clause:464184</span></div><div class=\"children hor wrap rtl\"><div class=\"contnr c1  rtl  \" ><div class=\"lbl c1  \" ><span class=\"nd\">clause_atom:553423</span></div><div class=\"children hor wrap rtl\"><div class=\"contnr c1  rtl  \" ><div class=\"lbl c1  \" ><span class=\"nd\">phrase:762465</span></div><div class='features'><span class=\"function xft\" ><span class=\"f\">function=</span>Subj</span></div><div class=\"children hor wrap rtl\"><div class=\"contnr c1  rtl  hl\" ><div class=\"lbl c1  hl\" ><span class=\"nd\">phrase_atom:1022363</span></div><div class=\"children hor wrap rtl\"><div class=\"contnr c0 trm rtl  \" ><div class=\"lbl c0 trm \" ><span class=\"nd\">192303</span> <a class=\" txtu hbo\" target=\"_blank\" href=\"https://shebanq.ancient-data.org/hebrew/word?version=c&amp;id=1HWA\" title=\"Show this on SHEBANQ\"><span class=\"txtu hbo\">ה֧וּא </span></a></div><div class='features'><span class=\"lex xft\" ><span class=\"f\">lex=</span>HW></span><span class=\"pdp xft\" ><span class=\"f\">pdp=</span>prps</span></div></div><div class=\"contnr c0 trm rtl  \" ><div class=\"lbl c0 trm \" ><span class=\"nd\">192304</span> <a class=\" txtu hbo\" target=\"_blank\" href=\"https://shebanq.ancient-data.org/hebrew/word?version=c&amp;id=1W\" title=\"Show this on SHEBANQ\"><span class=\"txtu hbo\">וְ</span></a></div><div class='features'><span class=\"lex xft\" ><span class=\"f\">lex=</span>W</span><span class=\"pdp xft\" ><span class=\"f\">pdp=</span>conj</span></div></div><div class=\"contnr c0 trm rtl  \" ><div class=\"lbl c0 trm \" ><span class=\"nd\">192305</span> <a class=\" txtu hbo\" target=\"_blank\" href=\"https://shebanq.ancient-data.org/hebrew/word?version=c&amp;id=1H\" title=\"Show this on SHEBANQ\"><span class=\"txtu hbo\">הַ</span></a></div><div class='features'><span class=\"lex xft\" ><span class=\"f\">lex=</span>H</span><span class=\"pdp xft\" ><span class=\"f\">pdp=</span>art</span></div></div><div class=\"contnr c0 trm rtl  \" ><div class=\"lbl c0 trm \" ><span class=\"nd\">192306</span> <a class=\" txtu hbo\" target=\"_blank\" href=\"https://shebanq.ancient-data.org/hebrew/word?version=c&amp;id=1MLKn\" title=\"Show this on SHEBANQ\"><span class=\"txtu hbo\">מְּלָכִ֛ים </span></a></div><div class='features'><span class=\"lex xft\" ><span class=\"f\">lex=</span>MLK/</span><span class=\"pdp xft\" ><span class=\"f\">pdp=</span>subs</span><span class=\"st xft\" ><span class=\"f\">st=</span>a</span></div></div></div></div><div class=\"contnr c1  rtl  hl\" ><div class=\"lbl c1  hl\" ><span class=\"nd\">phrase_atom:1022364</span></div><div class=\"children hor wrap rtl\"><div class=\"contnr c0 trm rtl  \" ><div class=\"lbl c0 trm \" ><span class=\"nd\">192307</span> <a class=\" txtu hbo\" target=\"_blank\" href=\"https://shebanq.ancient-data.org/hebrew/word?version=c&amp;id=1CLCn\" title=\"Show this on SHEBANQ\"><span class=\"txtu hbo\">שְׁלֹשִֽׁים־</span></a></div><div class='features'><span class=\"lex xft\" ><span class=\"f\">lex=</span>CLC/</span><span class=\"ls xft\" ><span class=\"f\">ls=</span>card</span><span class=\"pdp xft\" ><span class=\"f\">pdp=</span>subs</span><span class=\"st xft\" ><span class=\"f\">st=</span>a</span></div></div><div class=\"contnr c0 trm rtl  \" ><div class=\"lbl c0 trm \" ><span class=\"nd\">192308</span> <a class=\" txtu hbo\" target=\"_blank\" href=\"https://shebanq.ancient-data.org/hebrew/word?version=c&amp;id=1W\" title=\"Show this on SHEBANQ\"><span class=\"txtu hbo\">וּ</span></a></div><div class='features'><span class=\"lex xft\" ><span class=\"f\">lex=</span>W</span><span class=\"pdp xft\" ><span class=\"f\">pdp=</span>conj</span></div></div><div class=\"contnr c0 trm rtl  \" ><div class=\"lbl c0 trm \" ><span class=\"nd\">192309</span> <a class=\" txtu hbo\" target=\"_blank\" href=\"https://shebanq.ancient-data.org/hebrew/word?version=c&amp;id=1CNJMn\" title=\"Show this on SHEBANQ\"><span class=\"txtu hbo\">שְׁנַ֥יִם </span></a></div><div class='features'><span class=\"lex xft\" ><span class=\"f\">lex=</span>CNJM/</span><span class=\"ls xft\" ><span class=\"f\">ls=</span>card</span><span class=\"pdp xft\" ><span class=\"f\">pdp=</span>subs</span><span class=\"st xft\" ><span class=\"f\">st=</span>a</span></div></div><div class=\"contnr c0 trm rtl  \" ><div class=\"lbl c0 trm \" ><span class=\"nd\">192310</span> <a class=\" txtu hbo\" target=\"_blank\" href=\"https://shebanq.ancient-data.org/hebrew/word?version=c&amp;id=1MLKn\" title=\"Show this on SHEBANQ\"><span class=\"txtu hbo\">מֶ֖לֶךְ </span></a></div><div class='features'><span class=\"lex xft\" ><span class=\"f\">lex=</span>MLK/</span><span class=\"pdp xft\" ><span class=\"f\">pdp=</span>subs</span><span class=\"st xft\" ><span class=\"f\">st=</span>a</span></div></div></div></div></div></div></div></div></div></div></div>"
      ],
      "text/plain": [
       "<IPython.core.display.HTML object>"
      ]
     },
     "metadata": {},
     "output_type": "display_data"
    }
   ],
   "source": [
    "A.prettyTuple(L.d(762465, 'phrase_atom'), hiddenTypes={'subphrase'}, seq=10)"
   ]
  },
  {
   "cell_type": "code",
   "execution_count": 27,
   "metadata": {},
   "outputs": [],
   "source": [
    "# passage = ('1_Kings', 20, 16)\n",
    "# verse = T.nodeFromSection(passage)\n",
    "# for cl in L.d(verse, 'clause'):\n",
    "#     A.pretty(cl, extraFeatures='function', hiddenTypes={'subphrase'})"
   ]
  },
  {
   "cell_type": "markdown",
   "metadata": {},
   "source": [
    "# Run Queries"
   ]
  },
  {
   "cell_type": "code",
   "execution_count": 37,
   "metadata": {},
   "outputs": [
    {
     "name": "stdout",
     "output_type": "stream",
     "text": [
      "  0.61s 10 results\n"
     ]
    }
   ],
   "source": [
    "query = '''\n",
    "\n",
    "phrase function=Time\n",
    "    word lex=JWM/ st=c\n",
    "    <: CARD\n",
    "'''\n",
    "\n",
    "query = A.search(query, sets=pos2slot)"
   ]
  },
  {
   "cell_type": "code",
   "execution_count": 38,
   "metadata": {},
   "outputs": [
    {
     "data": {
      "text/html": [
       "<p><b>result</b> <i>1</i></p>"
      ],
      "text/plain": [
       "<IPython.core.display.HTML object>"
      ]
     },
     "metadata": {},
     "output_type": "display_data"
    },
    {
     "data": {
      "text/html": [
       "<div class=\"tfsechead rtl\"><a target=\"_blank\" href=\"https://shebanq.ancient-data.org/hebrew/text?book=Numeri&amp;chapter=7&amp;verse=72&amp;version=c&amp;mr=m&amp;qw=q&amp;tp=txt_p&amp;tr=hb&amp;wget=v&amp;qget=v&amp;nget=vt\" title=\"Show this on SHEBANQ\" sec=\"Numbers 7:72\">Numbers 7:72</a></div><div class=\"rtl children\"><div class=\"contnr c2  rtl  \" ><div class=\"lbl c2  \" ><span class=\"nd\">clause:441708</span></div><div class=\"children hor wrap rtl\"><div class=\"contnr c1  rtl  \" ><div class=\"lbl c1  \" ><span class=\"nd\">clause_atom:530317</span></div><div class=\"children hor wrap rtl\"><div class=\"contnr c1  rtl  hl\" ><div class=\"lbl c1  hl\" ><span class=\"nd\">phrase:694522</span></div><div class='features'><span class=\"function xft\" ><span class=\"f\">function=</span>Time</span></div><div class=\"children hor wrap rtl\"><div class=\"contnr c1  rtl  \" ><div class=\"lbl c1  \" ><span class=\"nd\">phrase_atom:949984</span></div><div class=\"children hor wrap rtl\"><div class=\"contnr c0 trm rtl  \" ><div class=\"lbl c0 trm \" ><span class=\"nd\">74927</span> <a class=\" txtu hbo\" target=\"_blank\" href=\"https://shebanq.ancient-data.org/hebrew/word?version=c&amp;id=1B\" title=\"Show this on SHEBANQ\"><span class=\"txtu hbo\">בְּ</span></a></div><div class='features'><span class=\"lex xft\" ><span class=\"f\">lex=</span>B</span><span class=\"pdp xft\" ><span class=\"f\">pdp=</span>prep</span></div></div><div class=\"contnr c0 trm rtl  hl\" ><div class=\"lbl c0 trm hl\" ><span class=\"nd\">74928</span> <a class=\" txtu hbo\" target=\"_blank\" href=\"https://shebanq.ancient-data.org/hebrew/word?version=c&amp;id=1JWMn\" title=\"Show this on SHEBANQ\"><span class=\"txtu hbo\">יֹום֙ </span></a></div><div class='features'><span class=\"lex xft\" ><span class=\"f\">lex=</span>JWM/</span><span class=\"pdp xft\" ><span class=\"f\">pdp=</span>subs</span><span class=\"st xft\" ><span class=\"f\">st=</span>c</span></div></div><div class=\"contnr c0 trm rtl  hl\" ><div class=\"lbl c0 trm hl\" ><span class=\"nd\">74929</span> <a class=\" txtu hbo\" target=\"_blank\" href=\"https://shebanq.ancient-data.org/hebrew/word?version=c&amp;id=1OCTJn\" title=\"Show this on SHEBANQ\"><span class=\"txtu hbo\">עַשְׁתֵּ֣י </span></a></div><div class='features'><span class=\"lex xft\" ><span class=\"f\">lex=</span>&lt;CTJ/</span><span class=\"pdp xft\" ><span class=\"f\">pdp=</span>subs</span><span class=\"st xft\" ><span class=\"f\">st=</span>c</span></div></div><div class=\"contnr c0 trm rtl  \" ><div class=\"lbl c0 trm \" ><span class=\"nd\">74930</span> <a class=\" txtu hbo\" target=\"_blank\" href=\"https://shebanq.ancient-data.org/hebrew/word?version=c&amp;id=1OFRn\" title=\"Show this on SHEBANQ\"><span class=\"txtu hbo\">עָשָׂ֣ר </span></a></div><div class='features'><span class=\"lex xft\" ><span class=\"f\">lex=</span>&lt;FR/</span><span class=\"pdp xft\" ><span class=\"f\">pdp=</span>subs</span><span class=\"st xft\" ><span class=\"f\">st=</span>a</span></div></div><div class=\"contnr c0 trm rtl  \" ><div class=\"lbl c0 trm \" ><span class=\"nd\">74931</span> <a class=\" txtu hbo\" target=\"_blank\" href=\"https://shebanq.ancient-data.org/hebrew/word?version=c&amp;id=1JWMn\" title=\"Show this on SHEBANQ\"><span class=\"txtu hbo\">יֹ֔ום </span></a></div><div class='features'><span class=\"lex xft\" ><span class=\"f\">lex=</span>JWM/</span><span class=\"pdp xft\" ><span class=\"f\">pdp=</span>subs</span><span class=\"st xft\" ><span class=\"f\">st=</span>a</span></div></div></div></div></div></div><div class=\"contnr c1  rtl  \" ><div class=\"lbl c1  \" ><span class=\"nd\">phrase:694523</span></div><div class='features'><span class=\"function xft\" ><span class=\"f\">function=</span>Subj</span></div><div class=\"children hor wrap rtl\"><div class=\"contnr c1  rtl  \" ><div class=\"lbl c1  \" ><span class=\"nd\">phrase_atom:949985</span></div><div class=\"children hor wrap rtl\"><div class=\"contnr c0 trm rtl  \" ><div class=\"lbl c0 trm \" ><span class=\"nd\">74932</span> <a class=\" txtu hbo\" target=\"_blank\" href=\"https://shebanq.ancient-data.org/hebrew/word?version=c&amp;id=1NFJAn\" title=\"Show this on SHEBANQ\"><span class=\"txtu hbo\">נָשִׂ֖יא </span></a></div><div class='features'><span class=\"lex xft\" ><span class=\"f\">lex=</span>NFJ>/</span><span class=\"pdp xft\" ><span class=\"f\">pdp=</span>subs</span><span class=\"st xft\" ><span class=\"f\">st=</span>a</span></div></div></div></div><div class=\"contnr c1  rtl  \" ><div class=\"lbl c1  \" ><span class=\"nd\">phrase_atom:949986</span></div><div class='features'><span class=\"rela xft\" ><span class=\"f\">rela=</span>Spec</span></div><div class=\"children hor wrap rtl\"><div class=\"contnr c0 trm rtl  \" ><div class=\"lbl c0 trm \" ><span class=\"nd\">74933</span> <a class=\" txtu hbo\" target=\"_blank\" href=\"https://shebanq.ancient-data.org/hebrew/word?version=c&amp;id=1L\" title=\"Show this on SHEBANQ\"><span class=\"txtu hbo\">לִ</span></a></div><div class='features'><span class=\"lex xft\" ><span class=\"f\">lex=</span>L</span><span class=\"pdp xft\" ><span class=\"f\">pdp=</span>prep</span></div></div><div class=\"contnr c0 trm rtl  \" ><div class=\"lbl c0 trm \" ><span class=\"nd\">74934</span> <a class=\" txtu hbo\" target=\"_blank\" href=\"https://shebanq.ancient-data.org/hebrew/word?version=c&amp;id=1BNn\" title=\"Show this on SHEBANQ\"><span class=\"txtu hbo\">בְנֵ֣י </span></a></div><div class='features'><span class=\"lex xft\" ><span class=\"f\">lex=</span>BN/</span><span class=\"pdp xft\" ><span class=\"f\">pdp=</span>subs</span><span class=\"st xft\" ><span class=\"f\">st=</span>c</span></div></div><div class=\"contnr c0 trm rtl  \" ><div class=\"lbl c0 trm \" ><span class=\"nd\">74935</span> <a class=\" txtu hbo\" target=\"_blank\" href=\"https://shebanq.ancient-data.org/hebrew/word?version=c&amp;id=1ACRiin\" title=\"Show this on SHEBANQ\"><span class=\"txtu hbo\">אָשֵׁ֑ר </span></a></div><div class='features'><span class=\"lex xft\" ><span class=\"f\">lex=</span>>CR==/</span><span class=\"pdp xft\" ><span class=\"f\">pdp=</span>nmpr</span><span class=\"st xft\" ><span class=\"f\">st=</span>a</span></div></div></div></div><div class=\"contnr c1  rtl  \" ><div class=\"lbl c1  \" ><span class=\"nd\">phrase_atom:949987</span></div><div class='features'><span class=\"rela xft\" ><span class=\"f\">rela=</span>Appo</span></div><div class=\"children hor wrap rtl\"><div class=\"contnr c0 trm rtl  \" ><div class=\"lbl c0 trm \" ><span class=\"nd\">74936</span> <a class=\" txtu hbo\" target=\"_blank\" href=\"https://shebanq.ancient-data.org/hebrew/word?version=c&amp;id=1PGOJALn\" title=\"Show this on SHEBANQ\"><span class=\"txtu hbo\">פַּגְעִיאֵ֖ל </span></a></div><div class='features'><span class=\"lex xft\" ><span class=\"f\">lex=</span>PG&lt;J>L/</span><span class=\"pdp xft\" ><span class=\"f\">pdp=</span>nmpr</span><span class=\"st xft\" ><span class=\"f\">st=</span>a</span></div></div></div></div><div class=\"contnr c1  rtl  \" ><div class=\"lbl c1  \" ><span class=\"nd\">phrase_atom:949988</span></div><div class='features'><span class=\"rela xft\" ><span class=\"f\">rela=</span>Appo</span></div><div class=\"children hor wrap rtl\"><div class=\"contnr c0 trm rtl  \" ><div class=\"lbl c0 trm \" ><span class=\"nd\">74937</span> <a class=\" txtu hbo\" target=\"_blank\" href=\"https://shebanq.ancient-data.org/hebrew/word?version=c&amp;id=1BNn\" title=\"Show this on SHEBANQ\"><span class=\"txtu hbo\">בֶּן־</span></a></div><div class='features'><span class=\"lex xft\" ><span class=\"f\">lex=</span>BN/</span><span class=\"pdp xft\" ><span class=\"f\">pdp=</span>subs</span><span class=\"st xft\" ><span class=\"f\">st=</span>c</span></div></div><div class=\"contnr c0 trm rtl  \" ><div class=\"lbl c0 trm \" ><span class=\"nd\">74938</span> <a class=\" txtu hbo\" target=\"_blank\" href=\"https://shebanq.ancient-data.org/hebrew/word?version=c&amp;id=1OKRNn\" title=\"Show this on SHEBANQ\"><span class=\"txtu hbo\">עָכְרָֽן׃ </span></a></div><div class='features'><span class=\"lex xft\" ><span class=\"f\">lex=</span>&lt;KRN/</span><span class=\"pdp xft\" ><span class=\"f\">pdp=</span>nmpr</span><span class=\"st xft\" ><span class=\"f\">st=</span>a</span></div></div></div></div></div></div></div></div></div></div></div>"
      ],
      "text/plain": [
       "<IPython.core.display.HTML object>"
      ]
     },
     "metadata": {},
     "output_type": "display_data"
    },
    {
     "data": {
      "text/html": [
       "<p><b>result</b> <i>2</i></p>"
      ],
      "text/plain": [
       "<IPython.core.display.HTML object>"
      ]
     },
     "metadata": {},
     "output_type": "display_data"
    },
    {
     "data": {
      "text/html": [
       "<div class=\"tfsechead rtl\"><a target=\"_blank\" href=\"https://shebanq.ancient-data.org/hebrew/text?book=Numeri&amp;chapter=7&amp;verse=78&amp;version=c&amp;mr=m&amp;qw=q&amp;tp=txt_p&amp;tr=hb&amp;wget=v&amp;qget=v&amp;nget=vt\" title=\"Show this on SHEBANQ\" sec=\"Numbers 7:78\">Numbers 7:78</a></div><div class=\"rtl children\"><div class=\"contnr c2  rtl  \" ><div class=\"lbl c2  \" ><span class=\"nd\">clause:441719</span></div><div class=\"children hor wrap rtl\"><div class=\"contnr c1  rtl  \" ><div class=\"lbl c1  \" ><span class=\"nd\">clause_atom:530330</span></div><div class=\"children hor wrap rtl\"><div class=\"contnr c1  rtl  hl\" ><div class=\"lbl c1  hl\" ><span class=\"nd\">phrase:694546</span></div><div class='features'><span class=\"function xft\" ><span class=\"f\">function=</span>Time</span></div><div class=\"children hor wrap rtl\"><div class=\"contnr c1  rtl  \" ><div class=\"lbl c1  \" ><span class=\"nd\">phrase_atom:950019</span></div><div class=\"children hor wrap rtl\"><div class=\"contnr c0 trm rtl  \" ><div class=\"lbl c0 trm \" ><span class=\"nd\">75008</span> <a class=\" txtu hbo\" target=\"_blank\" href=\"https://shebanq.ancient-data.org/hebrew/word?version=c&amp;id=1B\" title=\"Show this on SHEBANQ\"><span class=\"txtu hbo\">בְּ</span></a></div><div class='features'><span class=\"lex xft\" ><span class=\"f\">lex=</span>B</span><span class=\"pdp xft\" ><span class=\"f\">pdp=</span>prep</span></div></div><div class=\"contnr c0 trm rtl  hl\" ><div class=\"lbl c0 trm hl\" ><span class=\"nd\">75009</span> <a class=\" txtu hbo\" target=\"_blank\" href=\"https://shebanq.ancient-data.org/hebrew/word?version=c&amp;id=1JWMn\" title=\"Show this on SHEBANQ\"><span class=\"txtu hbo\">יֹום֙ </span></a></div><div class='features'><span class=\"lex xft\" ><span class=\"f\">lex=</span>JWM/</span><span class=\"pdp xft\" ><span class=\"f\">pdp=</span>subs</span><span class=\"st xft\" ><span class=\"f\">st=</span>c</span></div></div><div class=\"contnr c0 trm rtl  hl\" ><div class=\"lbl c0 trm hl\" ><span class=\"nd\">75010</span> <a class=\" txtu hbo\" target=\"_blank\" href=\"https://shebanq.ancient-data.org/hebrew/word?version=c&amp;id=1CNJMn\" title=\"Show this on SHEBANQ\"><span class=\"txtu hbo\">שְׁנֵ֣ים </span></a></div><div class='features'><span class=\"lex xft\" ><span class=\"f\">lex=</span>CNJM/</span><span class=\"pdp xft\" ><span class=\"f\">pdp=</span>subs</span><span class=\"st xft\" ><span class=\"f\">st=</span>a</span></div></div><div class=\"contnr c0 trm rtl  \" ><div class=\"lbl c0 trm \" ><span class=\"nd\">75011</span> <a class=\" txtu hbo\" target=\"_blank\" href=\"https://shebanq.ancient-data.org/hebrew/word?version=c&amp;id=1OFRn\" title=\"Show this on SHEBANQ\"><span class=\"txtu hbo\">עָשָׂ֣ר </span></a></div><div class='features'><span class=\"lex xft\" ><span class=\"f\">lex=</span>&lt;FR/</span><span class=\"pdp xft\" ><span class=\"f\">pdp=</span>subs</span><span class=\"st xft\" ><span class=\"f\">st=</span>a</span></div></div><div class=\"contnr c0 trm rtl  \" ><div class=\"lbl c0 trm \" ><span class=\"nd\">75012</span> <a class=\" txtu hbo\" target=\"_blank\" href=\"https://shebanq.ancient-data.org/hebrew/word?version=c&amp;id=1JWMn\" title=\"Show this on SHEBANQ\"><span class=\"txtu hbo\">יֹ֔ום </span></a></div><div class='features'><span class=\"lex xft\" ><span class=\"f\">lex=</span>JWM/</span><span class=\"pdp xft\" ><span class=\"f\">pdp=</span>subs</span><span class=\"st xft\" ><span class=\"f\">st=</span>a</span></div></div></div></div></div></div><div class=\"contnr c1  rtl  \" ><div class=\"lbl c1  \" ><span class=\"nd\">phrase:694547</span></div><div class='features'><span class=\"function xft\" ><span class=\"f\">function=</span>Subj</span></div><div class=\"children hor wrap rtl\"><div class=\"contnr c1  rtl  \" ><div class=\"lbl c1  \" ><span class=\"nd\">phrase_atom:950020</span></div><div class=\"children hor wrap rtl\"><div class=\"contnr c0 trm rtl  \" ><div class=\"lbl c0 trm \" ><span class=\"nd\">75013</span> <a class=\" txtu hbo\" target=\"_blank\" href=\"https://shebanq.ancient-data.org/hebrew/word?version=c&amp;id=1NFJAn\" title=\"Show this on SHEBANQ\"><span class=\"txtu hbo\">נָשִׂ֖יא </span></a></div><div class='features'><span class=\"lex xft\" ><span class=\"f\">lex=</span>NFJ>/</span><span class=\"pdp xft\" ><span class=\"f\">pdp=</span>subs</span><span class=\"st xft\" ><span class=\"f\">st=</span>a</span></div></div></div></div><div class=\"contnr c1  rtl  \" ><div class=\"lbl c1  \" ><span class=\"nd\">phrase_atom:950021</span></div><div class='features'><span class=\"rela xft\" ><span class=\"f\">rela=</span>Spec</span></div><div class=\"children hor wrap rtl\"><div class=\"contnr c0 trm rtl  \" ><div class=\"lbl c0 trm \" ><span class=\"nd\">75014</span> <a class=\" txtu hbo\" target=\"_blank\" href=\"https://shebanq.ancient-data.org/hebrew/word?version=c&amp;id=1L\" title=\"Show this on SHEBANQ\"><span class=\"txtu hbo\">לִ</span></a></div><div class='features'><span class=\"lex xft\" ><span class=\"f\">lex=</span>L</span><span class=\"pdp xft\" ><span class=\"f\">pdp=</span>prep</span></div></div><div class=\"contnr c0 trm rtl  \" ><div class=\"lbl c0 trm \" ><span class=\"nd\">75015</span> <a class=\" txtu hbo\" target=\"_blank\" href=\"https://shebanq.ancient-data.org/hebrew/word?version=c&amp;id=1BNn\" title=\"Show this on SHEBANQ\"><span class=\"txtu hbo\">בְנֵ֣י </span></a></div><div class='features'><span class=\"lex xft\" ><span class=\"f\">lex=</span>BN/</span><span class=\"pdp xft\" ><span class=\"f\">pdp=</span>subs</span><span class=\"st xft\" ><span class=\"f\">st=</span>c</span></div></div><div class=\"contnr c0 trm rtl  \" ><div class=\"lbl c0 trm \" ><span class=\"nd\">75016</span> <a class=\" txtu hbo\" target=\"_blank\" href=\"https://shebanq.ancient-data.org/hebrew/word?version=c&amp;id=1NPTLJn\" title=\"Show this on SHEBANQ\"><span class=\"txtu hbo\">נַפְתָּלִ֑י </span></a></div><div class='features'><span class=\"lex xft\" ><span class=\"f\">lex=</span>NPTLJ/</span><span class=\"pdp xft\" ><span class=\"f\">pdp=</span>nmpr</span><span class=\"st xft\" ><span class=\"f\">st=</span>a</span></div></div></div></div><div class=\"contnr c1  rtl  \" ><div class=\"lbl c1  \" ><span class=\"nd\">phrase_atom:950022</span></div><div class='features'><span class=\"rela xft\" ><span class=\"f\">rela=</span>Appo</span></div><div class=\"children hor wrap rtl\"><div class=\"contnr c0 trm rtl  \" ><div class=\"lbl c0 trm \" ><span class=\"nd\">75017</span> <a class=\" txtu hbo\" target=\"_blank\" href=\"https://shebanq.ancient-data.org/hebrew/word?version=c&amp;id=1AXJROn\" title=\"Show this on SHEBANQ\"><span class=\"txtu hbo\">אֲחִירַ֖ע </span></a></div><div class='features'><span class=\"lex xft\" ><span class=\"f\">lex=</span>>XJR&lt;/</span><span class=\"pdp xft\" ><span class=\"f\">pdp=</span>nmpr</span><span class=\"st xft\" ><span class=\"f\">st=</span>a</span></div></div></div></div><div class=\"contnr c1  rtl  \" ><div class=\"lbl c1  \" ><span class=\"nd\">phrase_atom:950023</span></div><div class='features'><span class=\"rela xft\" ><span class=\"f\">rela=</span>Appo</span></div><div class=\"children hor wrap rtl\"><div class=\"contnr c0 trm rtl  \" ><div class=\"lbl c0 trm \" ><span class=\"nd\">75018</span> <a class=\" txtu hbo\" target=\"_blank\" href=\"https://shebanq.ancient-data.org/hebrew/word?version=c&amp;id=1BNn\" title=\"Show this on SHEBANQ\"><span class=\"txtu hbo\">בֶּן־</span></a></div><div class='features'><span class=\"lex xft\" ><span class=\"f\">lex=</span>BN/</span><span class=\"pdp xft\" ><span class=\"f\">pdp=</span>subs</span><span class=\"st xft\" ><span class=\"f\">st=</span>c</span></div></div><div class=\"contnr c0 trm rtl  \" ><div class=\"lbl c0 trm \" ><span class=\"nd\">75019</span> <a class=\" txtu hbo\" target=\"_blank\" href=\"https://shebanq.ancient-data.org/hebrew/word?version=c&amp;id=1OJNNn\" title=\"Show this on SHEBANQ\"><span class=\"txtu hbo\">עֵינָֽן׃ </span></a></div><div class='features'><span class=\"lex xft\" ><span class=\"f\">lex=</span>&lt;JNN/</span><span class=\"pdp xft\" ><span class=\"f\">pdp=</span>nmpr</span><span class=\"st xft\" ><span class=\"f\">st=</span>a</span></div></div></div></div></div></div></div></div></div></div></div>"
      ],
      "text/plain": [
       "<IPython.core.display.HTML object>"
      ]
     },
     "metadata": {},
     "output_type": "display_data"
    },
    {
     "data": {
      "text/html": [
       "<p><b>result</b> <i>3</i></p>"
      ],
      "text/plain": [
       "<IPython.core.display.HTML object>"
      ]
     },
     "metadata": {},
     "output_type": "display_data"
    },
    {
     "data": {
      "text/html": [
       "<div class=\"tfsechead rtl\"><a target=\"_blank\" href=\"https://shebanq.ancient-data.org/hebrew/text?book=Haggai&amp;chapter=1&amp;verse=15&amp;version=c&amp;mr=m&amp;qw=q&amp;tp=txt_p&amp;tr=hb&amp;wget=v&amp;qget=v&amp;nget=vt\" title=\"Show this on SHEBANQ\" sec=\"Haggai 1:15\">Haggai 1:15</a></div><div class=\"rtl children\"><div class=\"contnr c2  rtl  \" ><div class=\"lbl c2  \" ><span class=\"nd\">clause:488844</span></div><div class=\"children hor wrap rtl\"><div class=\"contnr c1  rtl  \" ><div class=\"lbl c1  \" ><span class=\"nd\">clause_atom:578721</span></div><div class=\"children hor wrap rtl\"><div class=\"contnr c1  rtl  hl\" ><div class=\"lbl c1  hl\" ><span class=\"nd\">phrase:831565</span></div><div class='features'><span class=\"function xft\" ><span class=\"f\">function=</span>Time</span></div><div class=\"children hor wrap rtl\"><div class=\"contnr c1  rtl  \" ><div class=\"lbl c1  \" ><span class=\"nd\">phrase_atom:1094840</span></div><div class=\"children hor wrap rtl\"><div class=\"contnr c0 trm rtl  \" ><div class=\"lbl c0 trm \" ><span class=\"nd\">304443</span> <a class=\" txtu hbo\" target=\"_blank\" href=\"https://shebanq.ancient-data.org/hebrew/word?version=c&amp;id=1B\" title=\"Show this on SHEBANQ\"><span class=\"txtu hbo\">בְּ</span></a></div><div class='features'><span class=\"lex xft\" ><span class=\"f\">lex=</span>B</span><span class=\"pdp xft\" ><span class=\"f\">pdp=</span>prep</span></div></div><div class=\"contnr c0 trm rtl  hl\" ><div class=\"lbl c0 trm hl\" ><span class=\"nd\">304444</span> <a class=\" txtu hbo\" target=\"_blank\" href=\"https://shebanq.ancient-data.org/hebrew/word?version=c&amp;id=1JWMn\" title=\"Show this on SHEBANQ\"><span class=\"txtu hbo\">יֹ֨ום </span></a></div><div class='features'><span class=\"lex xft\" ><span class=\"f\">lex=</span>JWM/</span><span class=\"pdp xft\" ><span class=\"f\">pdp=</span>subs</span><span class=\"st xft\" ><span class=\"f\">st=</span>c</span></div></div><div class=\"contnr c0 trm rtl  hl\" ><div class=\"lbl c0 trm hl\" ><span class=\"nd\">304445</span> <a class=\" txtu hbo\" target=\"_blank\" href=\"https://shebanq.ancient-data.org/hebrew/word?version=c&amp;id=1OFRJMn\" title=\"Show this on SHEBANQ\"><span class=\"txtu hbo\">עֶשְׂרִ֧ים </span></a></div><div class='features'><span class=\"lex xft\" ><span class=\"f\">lex=</span>&lt;FRJM/</span><span class=\"pdp xft\" ><span class=\"f\">pdp=</span>subs</span><span class=\"st xft\" ><span class=\"f\">st=</span>a</span></div></div><div class=\"contnr c0 trm rtl  \" ><div class=\"lbl c0 trm \" ><span class=\"nd\">304446</span> <a class=\" txtu hbo\" target=\"_blank\" href=\"https://shebanq.ancient-data.org/hebrew/word?version=c&amp;id=1W\" title=\"Show this on SHEBANQ\"><span class=\"txtu hbo\">וְ</span></a></div><div class='features'><span class=\"lex xft\" ><span class=\"f\">lex=</span>W</span><span class=\"pdp xft\" ><span class=\"f\">pdp=</span>conj</span></div></div><div class=\"contnr c0 trm rtl  \" ><div class=\"lbl c0 trm \" ><span class=\"nd\">304447</span> <a class=\" txtu hbo\" target=\"_blank\" href=\"https://shebanq.ancient-data.org/hebrew/word?version=c&amp;id=1ARBOn\" title=\"Show this on SHEBANQ\"><span class=\"txtu hbo\">אַרְבָּעָ֛ה </span></a></div><div class='features'><span class=\"lex xft\" ><span class=\"f\">lex=</span>>RB&lt;/</span><span class=\"pdp xft\" ><span class=\"f\">pdp=</span>subs</span><span class=\"st xft\" ><span class=\"f\">st=</span>a</span></div></div></div></div><div class=\"contnr c1  rtl  \" ><div class=\"lbl c1  \" ><span class=\"nd\">phrase_atom:1094841</span></div><div class='features'><span class=\"rela xft\" ><span class=\"f\">rela=</span>Spec</span></div><div class=\"children hor wrap rtl\"><div class=\"contnr c0 trm rtl  \" ><div class=\"lbl c0 trm \" ><span class=\"nd\">304448</span> <a class=\" txtu hbo\" target=\"_blank\" href=\"https://shebanq.ancient-data.org/hebrew/word?version=c&amp;id=1L\" title=\"Show this on SHEBANQ\"><span class=\"txtu hbo\">לַ</span></a></div><div class='features'><span class=\"lex xft\" ><span class=\"f\">lex=</span>L</span><span class=\"pdp xft\" ><span class=\"f\">pdp=</span>prep</span></div></div><div class=\"contnr c0 trm rtl  \" ><div class=\"lbl c0 trm \" ><span class=\"nd\">304449</span> <a class=\" txtu hbo\" target=\"_blank\" href=\"https://shebanq.ancient-data.org/hebrew/word?version=c&amp;id=1H\" title=\"Show this on SHEBANQ\"></a></div><div class='features'><span class=\"lex xft\" ><span class=\"f\">lex=</span>H</span><span class=\"pdp xft\" ><span class=\"f\">pdp=</span>art</span></div></div><div class=\"contnr c0 trm rtl  \" ><div class=\"lbl c0 trm \" ><span class=\"nd\">304450</span> <a class=\" txtu hbo\" target=\"_blank\" href=\"https://shebanq.ancient-data.org/hebrew/word?version=c&amp;id=1XDCin\" title=\"Show this on SHEBANQ\"><span class=\"txtu hbo\">חֹ֖דֶשׁ </span></a></div><div class='features'><span class=\"lex xft\" ><span class=\"f\">lex=</span>XDC=/</span><span class=\"pdp xft\" ><span class=\"f\">pdp=</span>subs</span><span class=\"st xft\" ><span class=\"f\">st=</span>a</span></div></div></div></div><div class=\"contnr c1  rtl  \" ><div class=\"lbl c1  \" ><span class=\"nd\">phrase_atom:1094842</span></div><div class='features'><span class=\"rela xft\" ><span class=\"f\">rela=</span>Spec</span></div><div class=\"children hor wrap rtl\"><div class=\"contnr c0 trm rtl  \" ><div class=\"lbl c0 trm \" ><span class=\"nd\">304451</span> <a class=\" txtu hbo\" target=\"_blank\" href=\"https://shebanq.ancient-data.org/hebrew/word?version=c&amp;id=1B\" title=\"Show this on SHEBANQ\"><span class=\"txtu hbo\">בַּ</span></a></div><div class='features'><span class=\"lex xft\" ><span class=\"f\">lex=</span>B</span><span class=\"pdp xft\" ><span class=\"f\">pdp=</span>prep</span></div></div><div class=\"contnr c0 trm rtl  \" ><div class=\"lbl c0 trm \" ><span class=\"nd\">304452</span> <a class=\" txtu hbo\" target=\"_blank\" href=\"https://shebanq.ancient-data.org/hebrew/word?version=c&amp;id=1H\" title=\"Show this on SHEBANQ\"></a></div><div class='features'><span class=\"lex xft\" ><span class=\"f\">lex=</span>H</span><span class=\"pdp xft\" ><span class=\"f\">pdp=</span>art</span></div></div><div class=\"contnr c0 trm rtl  \" ><div class=\"lbl c0 trm \" ><span class=\"nd\">304453</span> <a class=\" txtu hbo\" target=\"_blank\" href=\"https://shebanq.ancient-data.org/hebrew/word?version=c&amp;id=1CCJn\" title=\"Show this on SHEBANQ\"><span class=\"txtu hbo\">שִּׁשִּׁ֑י </span></a></div><div class='features'><span class=\"lex xft\" ><span class=\"f\">lex=</span>CCJ/</span><span class=\"pdp xft\" ><span class=\"f\">pdp=</span>subs</span><span class=\"st xft\" ><span class=\"f\">st=</span>a</span></div></div></div></div><div class=\"contnr c1  rtl  \" ><div class=\"lbl c1  \" ><span class=\"nd\">phrase_atom:1094843</span></div><div class='features'><span class=\"rela xft\" ><span class=\"f\">rela=</span>Spec</span></div><div class=\"children hor wrap rtl\"><div class=\"contnr c0 trm rtl  \" ><div class=\"lbl c0 trm \" ><span class=\"nd\">304454</span> <a class=\" txtu hbo\" target=\"_blank\" href=\"https://shebanq.ancient-data.org/hebrew/word?version=c&amp;id=1B\" title=\"Show this on SHEBANQ\"><span class=\"txtu hbo\">בִּ</span></a></div><div class='features'><span class=\"lex xft\" ><span class=\"f\">lex=</span>B</span><span class=\"pdp xft\" ><span class=\"f\">pdp=</span>prep</span></div></div><div class=\"contnr c0 trm rtl  \" ><div class=\"lbl c0 trm \" ><span class=\"nd\">304455</span> <a class=\" txtu hbo\" target=\"_blank\" href=\"https://shebanq.ancient-data.org/hebrew/word?version=c&amp;id=1CNHn\" title=\"Show this on SHEBANQ\"><span class=\"txtu hbo\">שְׁנַ֥ת </span></a></div><div class='features'><span class=\"lex xft\" ><span class=\"f\">lex=</span>CNH/</span><span class=\"pdp xft\" ><span class=\"f\">pdp=</span>subs</span><span class=\"st xft\" ><span class=\"f\">st=</span>c</span></div></div><div class=\"contnr c0 trm rtl  \" ><div class=\"lbl c0 trm \" ><span class=\"nd\">304456</span> <a class=\" txtu hbo\" target=\"_blank\" href=\"https://shebanq.ancient-data.org/hebrew/word?version=c&amp;id=1CNJMn\" title=\"Show this on SHEBANQ\"><span class=\"txtu hbo\">שְׁתַּ֖יִם </span></a></div><div class='features'><span class=\"lex xft\" ><span class=\"f\">lex=</span>CNJM/</span><span class=\"pdp xft\" ><span class=\"f\">pdp=</span>subs</span><span class=\"st xft\" ><span class=\"f\">st=</span>a</span></div></div></div></div><div class=\"contnr c1  rtl  \" ><div class=\"lbl c1  \" ><span class=\"nd\">phrase_atom:1094844</span></div><div class='features'><span class=\"rela xft\" ><span class=\"f\">rela=</span>Spec</span></div><div class=\"children hor wrap rtl\"><div class=\"contnr c0 trm rtl  \" ><div class=\"lbl c0 trm \" ><span class=\"nd\">304457</span> <a class=\" txtu hbo\" target=\"_blank\" href=\"https://shebanq.ancient-data.org/hebrew/word?version=c&amp;id=1L\" title=\"Show this on SHEBANQ\"><span class=\"txtu hbo\">לְ</span></a></div><div class='features'><span class=\"lex xft\" ><span class=\"f\">lex=</span>L</span><span class=\"pdp xft\" ><span class=\"f\">pdp=</span>prep</span></div></div><div class=\"contnr c0 trm rtl  \" ><div class=\"lbl c0 trm \" ><span class=\"nd\">304458</span> <a class=\" txtu hbo\" target=\"_blank\" href=\"https://shebanq.ancient-data.org/hebrew/word?version=c&amp;id=1DRJWCn\" title=\"Show this on SHEBANQ\"><span class=\"txtu hbo\">דָרְיָ֥וֶשׁ </span></a></div><div class='features'><span class=\"lex xft\" ><span class=\"f\">lex=</span>DRJWC/</span><span class=\"pdp xft\" ><span class=\"f\">pdp=</span>nmpr</span><span class=\"st xft\" ><span class=\"f\">st=</span>a</span></div></div></div></div><div class=\"contnr c1  rtl  \" ><div class=\"lbl c1  \" ><span class=\"nd\">phrase_atom:1094845</span></div><div class='features'><span class=\"rela xft\" ><span class=\"f\">rela=</span>Appo</span></div><div class=\"children hor wrap rtl\"><div class=\"contnr c0 trm rtl  \" ><div class=\"lbl c0 trm \" ><span class=\"nd\">304459</span> <a class=\" txtu hbo\" target=\"_blank\" href=\"https://shebanq.ancient-data.org/hebrew/word?version=c&amp;id=1H\" title=\"Show this on SHEBANQ\"><span class=\"txtu hbo\">הַ</span></a></div><div class='features'><span class=\"lex xft\" ><span class=\"f\">lex=</span>H</span><span class=\"pdp xft\" ><span class=\"f\">pdp=</span>art</span></div></div><div class=\"contnr c0 trm rtl  \" ><div class=\"lbl c0 trm \" ><span class=\"nd\">304460</span> <a class=\" txtu hbo\" target=\"_blank\" href=\"https://shebanq.ancient-data.org/hebrew/word?version=c&amp;id=1MLKn\" title=\"Show this on SHEBANQ\"><span class=\"txtu hbo\">מֶּֽלֶךְ׃ </span></a></div><div class='features'><span class=\"lex xft\" ><span class=\"f\">lex=</span>MLK/</span><span class=\"pdp xft\" ><span class=\"f\">pdp=</span>subs</span><span class=\"st xft\" ><span class=\"f\">st=</span>a</span></div></div></div></div></div></div></div></div></div></div></div>"
      ],
      "text/plain": [
       "<IPython.core.display.HTML object>"
      ]
     },
     "metadata": {},
     "output_type": "display_data"
    },
    {
     "data": {
      "text/html": [
       "<p><b>result</b> <i>4</i></p>"
      ],
      "text/plain": [
       "<IPython.core.display.HTML object>"
      ]
     },
     "metadata": {},
     "output_type": "display_data"
    },
    {
     "data": {
      "text/html": [
       "<div class=\"tfsechead rtl\"><a target=\"_blank\" href=\"https://shebanq.ancient-data.org/hebrew/text?book=Haggai&amp;chapter=2&amp;verse=18&amp;version=c&amp;mr=m&amp;qw=q&amp;tp=txt_p&amp;tr=hb&amp;wget=v&amp;qget=v&amp;nget=vt\" title=\"Show this on SHEBANQ\" sec=\"Haggai 2:18\">Haggai 2:18</a></div><div class=\"rtl children\"><div class=\"contnr c2  rtl  \" ><div class=\"lbl c2  \" ><span class=\"nd\">clause:488921</span></div><div class=\"children hor wrap rtl\"><div class=\"contnr c1  rtl  \" ><div class=\"lbl c1  \" ><span class=\"nd\">clause_atom:578799</span></div><div class=\"children hor wrap rtl\"><div class=\"contnr c1  rtl  \" ><div class=\"lbl c1  \" ><span class=\"nd\">phrase:831760</span></div><div class='features'><span class=\"function xft\" ><span class=\"f\">function=</span>Pred</span></div><div class=\"children hor wrap rtl\"><div class=\"contnr c1  rtl  \" ><div class=\"lbl c1  \" ><span class=\"nd\">phrase_atom:1095060</span></div><div class=\"children hor wrap rtl\"><div class=\"contnr c0 trm rtl  \" ><div class=\"lbl c0 trm \" ><span class=\"nd\">304853</span> <a class=\" txtu hbo\" target=\"_blank\" href=\"https://shebanq.ancient-data.org/hebrew/word?version=c&amp;id=1FJMv\" title=\"Show this on SHEBANQ\"><span class=\"txtu hbo\">שִׂימוּ־</span></a></div><div class='features'><span class=\"lex xft\" ><span class=\"f\">lex=</span>FJM[</span><span class=\"pdp xft\" ><span class=\"f\">pdp=</span>verb</span></div></div></div></div></div></div><div class=\"contnr c1  rtl  \" ><div class=\"lbl c1  \" ><span class=\"nd\">phrase:831761</span></div><div class='features'><span class=\"function xft\" ><span class=\"f\">function=</span>Intj</span></div><div class=\"children hor wrap rtl\"><div class=\"contnr c1  rtl  \" ><div class=\"lbl c1  \" ><span class=\"nd\">phrase_atom:1095061</span></div><div class=\"children hor wrap rtl\"><div class=\"contnr c0 trm rtl  \" ><div class=\"lbl c0 trm \" ><span class=\"nd\">304854</span> <a class=\" txtu hbo\" target=\"_blank\" href=\"https://shebanq.ancient-data.org/hebrew/word?version=c&amp;id=1NA\" title=\"Show this on SHEBANQ\"><span class=\"txtu hbo\">נָ֣א </span></a></div><div class='features'><span class=\"lex xft\" ><span class=\"f\">lex=</span>N></span><span class=\"pdp xft\" ><span class=\"f\">pdp=</span>intj</span></div></div></div></div></div></div><div class=\"contnr c1  rtl  \" ><div class=\"lbl c1  \" ><span class=\"nd\">phrase:831762</span></div><div class='features'><span class=\"function xft\" ><span class=\"f\">function=</span>Objc</span></div><div class=\"children hor wrap rtl\"><div class=\"contnr c1  rtl  \" ><div class=\"lbl c1  \" ><span class=\"nd\">phrase_atom:1095062</span></div><div class=\"children hor wrap rtl\"><div class=\"contnr c0 trm rtl  \" ><div class=\"lbl c0 trm \" ><span class=\"nd\">304855</span> <a class=\" txtu hbo\" target=\"_blank\" href=\"https://shebanq.ancient-data.org/hebrew/word?version=c&amp;id=1LBBn\" title=\"Show this on SHEBANQ\"><span class=\"txtu hbo\">לְבַבְכֶ֔ם </span></a></div><div class='features'><span class=\"lex xft\" ><span class=\"f\">lex=</span>LBB/</span><span class=\"pdp xft\" ><span class=\"f\">pdp=</span>subs</span><span class=\"st xft\" ><span class=\"f\">st=</span>a</span></div></div></div></div></div></div><div class=\"contnr c1  rtl  hl\" ><div class=\"lbl c1  hl\" ><span class=\"nd\">phrase:831763</span></div><div class='features'><span class=\"function xft\" ><span class=\"f\">function=</span>Time</span></div><div class=\"children hor wrap rtl\"><div class=\"contnr c1  rtl  \" ><div class=\"lbl c1  \" ><span class=\"nd\">phrase_atom:1095063</span></div><div class=\"children hor wrap rtl\"><div class=\"contnr c0 trm rtl  \" ><div class=\"lbl c0 trm \" ><span class=\"nd\">304856</span> <a class=\" txtu hbo\" target=\"_blank\" href=\"https://shebanq.ancient-data.org/hebrew/word?version=c&amp;id=1MN\" title=\"Show this on SHEBANQ\"><span class=\"txtu hbo\">מִן־</span></a></div><div class='features'><span class=\"lex xft\" ><span class=\"f\">lex=</span>MN</span><span class=\"pdp xft\" ><span class=\"f\">pdp=</span>prep</span></div></div><div class=\"contnr c0 trm rtl  \" ><div class=\"lbl c0 trm \" ><span class=\"nd\">304857</span> <a class=\" txtu hbo\" target=\"_blank\" href=\"https://shebanq.ancient-data.org/hebrew/word?version=c&amp;id=1H\" title=\"Show this on SHEBANQ\"><span class=\"txtu hbo\">הַ</span></a></div><div class='features'><span class=\"lex xft\" ><span class=\"f\">lex=</span>H</span><span class=\"pdp xft\" ><span class=\"f\">pdp=</span>art</span></div></div><div class=\"contnr c0 trm rtl  \" ><div class=\"lbl c0 trm \" ><span class=\"nd\">304858</span> <a class=\" txtu hbo\" target=\"_blank\" href=\"https://shebanq.ancient-data.org/hebrew/word?version=c&amp;id=1JWMn\" title=\"Show this on SHEBANQ\"><span class=\"txtu hbo\">יֹּ֥ום </span></a></div><div class='features'><span class=\"lex xft\" ><span class=\"f\">lex=</span>JWM/</span><span class=\"pdp xft\" ><span class=\"f\">pdp=</span>subs</span><span class=\"st xft\" ><span class=\"f\">st=</span>a</span></div></div><div class=\"contnr c0 trm rtl  \" ><div class=\"lbl c0 trm \" ><span class=\"nd\">304859</span> <a class=\" txtu hbo\" target=\"_blank\" href=\"https://shebanq.ancient-data.org/hebrew/word?version=c&amp;id=1H\" title=\"Show this on SHEBANQ\"><span class=\"txtu hbo\">הַ</span></a></div><div class='features'><span class=\"lex xft\" ><span class=\"f\">lex=</span>H</span><span class=\"pdp xft\" ><span class=\"f\">pdp=</span>art</span></div></div><div class=\"contnr c0 trm rtl  \" ><div class=\"lbl c0 trm \" ><span class=\"nd\">304860</span> <a class=\" txtu hbo\" target=\"_blank\" href=\"https://shebanq.ancient-data.org/hebrew/word?version=c&amp;id=1ZH\" title=\"Show this on SHEBANQ\"><span class=\"txtu hbo\">זֶּ֖ה </span></a></div><div class='features'><span class=\"lex xft\" ><span class=\"f\">lex=</span>ZH</span><span class=\"pdp xft\" ><span class=\"f\">pdp=</span>prde</span></div></div></div></div><div class=\"contnr c1  rtl  \" ><div class=\"lbl c1  \" ><span class=\"nd\">phrase_atom:1095064</span></div><div class='features'><span class=\"rela xft\" ><span class=\"f\">rela=</span>Link</span></div><div class=\"children hor wrap rtl\"><div class=\"contnr c0 trm rtl  \" ><div class=\"lbl c0 trm \" ><span class=\"nd\">304861</span> <a class=\" txtu hbo\" target=\"_blank\" href=\"https://shebanq.ancient-data.org/hebrew/word?version=c&amp;id=1W\" title=\"Show this on SHEBANQ\"><span class=\"txtu hbo\">וָ</span></a></div><div class='features'><span class=\"lex xft\" ><span class=\"f\">lex=</span>W</span><span class=\"pdp xft\" ><span class=\"f\">pdp=</span>conj</span></div></div></div></div><div class=\"contnr c1  rtl  \" ><div class=\"lbl c1  \" ><span class=\"nd\">phrase_atom:1095065</span></div><div class='features'><span class=\"rela xft\" ><span class=\"f\">rela=</span>Para</span></div><div class=\"children hor wrap rtl\"><div class=\"contnr c0 trm rtl  \" ><div class=\"lbl c0 trm \" ><span class=\"nd\">304862</span> <a class=\" txtu hbo\" target=\"_blank\" href=\"https://shebanq.ancient-data.org/hebrew/word?version=c&amp;id=1MOLn\" title=\"Show this on SHEBANQ\"><span class=\"txtu hbo\">מָ֑עְלָה </span></a></div><div class='features'><span class=\"lex xft\" ><span class=\"f\">lex=</span>M&lt;L/</span><span class=\"pdp xft\" ><span class=\"f\">pdp=</span>subs</span><span class=\"st xft\" ><span class=\"f\">st=</span>a</span></div></div></div></div><div class=\"contnr c1  rtl  \" ><div class=\"lbl c1  \" ><span class=\"nd\">phrase_atom:1095066</span></div><div class='features'><span class=\"rela xft\" ><span class=\"f\">rela=</span>Spec</span></div><div class=\"children hor wrap rtl\"><div class=\"contnr c0 trm rtl  \" ><div class=\"lbl c0 trm \" ><span class=\"nd\">304863</span> <a class=\" txtu hbo\" target=\"_blank\" href=\"https://shebanq.ancient-data.org/hebrew/word?version=c&amp;id=1MN\" title=\"Show this on SHEBANQ\"><span class=\"txtu hbo\">מִ</span></a></div><div class='features'><span class=\"lex xft\" ><span class=\"f\">lex=</span>MN</span><span class=\"pdp xft\" ><span class=\"f\">pdp=</span>prep</span></div></div><div class=\"contnr c0 trm rtl  hl\" ><div class=\"lbl c0 trm hl\" ><span class=\"nd\">304864</span> <a class=\" txtu hbo\" target=\"_blank\" href=\"https://shebanq.ancient-data.org/hebrew/word?version=c&amp;id=1JWMn\" title=\"Show this on SHEBANQ\"><span class=\"txtu hbo\">יֹּום֩ </span></a></div><div class='features'><span class=\"lex xft\" ><span class=\"f\">lex=</span>JWM/</span><span class=\"pdp xft\" ><span class=\"f\">pdp=</span>subs</span><span class=\"st xft\" ><span class=\"f\">st=</span>c</span></div></div><div class=\"contnr c0 trm rtl  hl\" ><div class=\"lbl c0 trm hl\" ><span class=\"nd\">304865</span> <a class=\" txtu hbo\" target=\"_blank\" href=\"https://shebanq.ancient-data.org/hebrew/word?version=c&amp;id=1OFRJMn\" title=\"Show this on SHEBANQ\"><span class=\"txtu hbo\">עֶשְׂרִ֨ים </span></a></div><div class='features'><span class=\"lex xft\" ><span class=\"f\">lex=</span>&lt;FRJM/</span><span class=\"pdp xft\" ><span class=\"f\">pdp=</span>subs</span><span class=\"st xft\" ><span class=\"f\">st=</span>a</span></div></div><div class=\"contnr c0 trm rtl  \" ><div class=\"lbl c0 trm \" ><span class=\"nd\">304866</span> <a class=\" txtu hbo\" target=\"_blank\" href=\"https://shebanq.ancient-data.org/hebrew/word?version=c&amp;id=1W\" title=\"Show this on SHEBANQ\"><span class=\"txtu hbo\">וְ</span></a></div><div class='features'><span class=\"lex xft\" ><span class=\"f\">lex=</span>W</span><span class=\"pdp xft\" ><span class=\"f\">pdp=</span>conj</span></div></div><div class=\"contnr c0 trm rtl  \" ><div class=\"lbl c0 trm \" ><span class=\"nd\">304867</span> <a class=\" txtu hbo\" target=\"_blank\" href=\"https://shebanq.ancient-data.org/hebrew/word?version=c&amp;id=1ARBOn\" title=\"Show this on SHEBANQ\"><span class=\"txtu hbo\">אַרְבָּעָ֜ה </span></a></div><div class='features'><span class=\"lex xft\" ><span class=\"f\">lex=</span>>RB&lt;/</span><span class=\"pdp xft\" ><span class=\"f\">pdp=</span>subs</span><span class=\"st xft\" ><span class=\"f\">st=</span>a</span></div></div></div></div><div class=\"contnr c1  rtl  \" ><div class=\"lbl c1  \" ><span class=\"nd\">phrase_atom:1095067</span></div><div class='features'><span class=\"rela xft\" ><span class=\"f\">rela=</span>Spec</span></div><div class=\"children hor wrap rtl\"><div class=\"contnr c0 trm rtl  \" ><div class=\"lbl c0 trm \" ><span class=\"nd\">304868</span> <a class=\" txtu hbo\" target=\"_blank\" href=\"https://shebanq.ancient-data.org/hebrew/word?version=c&amp;id=1L\" title=\"Show this on SHEBANQ\"><span class=\"txtu hbo\">לַ</span></a></div><div class='features'><span class=\"lex xft\" ><span class=\"f\">lex=</span>L</span><span class=\"pdp xft\" ><span class=\"f\">pdp=</span>prep</span></div></div><div class=\"contnr c0 trm rtl  \" ><div class=\"lbl c0 trm \" ><span class=\"nd\">304869</span> <a class=\" txtu hbo\" target=\"_blank\" href=\"https://shebanq.ancient-data.org/hebrew/word?version=c&amp;id=1H\" title=\"Show this on SHEBANQ\"></a></div><div class='features'><span class=\"lex xft\" ><span class=\"f\">lex=</span>H</span><span class=\"pdp xft\" ><span class=\"f\">pdp=</span>art</span></div></div><div class=\"contnr c0 trm rtl  \" ><div class=\"lbl c0 trm \" ><span class=\"nd\">304870</span> <a class=\" txtu hbo\" target=\"_blank\" href=\"https://shebanq.ancient-data.org/hebrew/word?version=c&amp;id=1TCJOJn\" title=\"Show this on SHEBANQ\"><span class=\"txtu hbo\">תְּשִׁיעִ֗י </span></a></div><div class='features'><span class=\"lex xft\" ><span class=\"f\">lex=</span>TCJ&lt;J/</span><span class=\"pdp xft\" ><span class=\"f\">pdp=</span>subs</span><span class=\"st xft\" ><span class=\"f\">st=</span>a</span></div></div></div></div><div class=\"contnr c1  rtl  \" ><div class=\"lbl c1  \" ><span class=\"nd\">phrase_atom:1095068</span></div><div class='features'><span class=\"rela xft\" ><span class=\"f\">rela=</span>Para</span></div><div class=\"children hor wrap rtl\"><div class=\"contnr c0 trm rtl  \" ><div class=\"lbl c0 trm \" ><span class=\"nd\">304871</span> <a class=\" txtu hbo\" target=\"_blank\" href=\"https://shebanq.ancient-data.org/hebrew/word?version=c&amp;id=1L\" title=\"Show this on SHEBANQ\"><span class=\"txtu hbo\">לְ</span></a></div><div class='features'><span class=\"lex xft\" ><span class=\"f\">lex=</span>L</span><span class=\"pdp xft\" ><span class=\"f\">pdp=</span>prep</span></div></div><div class=\"contnr c0 trm rtl  \" ><div class=\"lbl c0 trm \" ><span class=\"nd\">304872</span> <a class=\" txtu hbo\" target=\"_blank\" href=\"https://shebanq.ancient-data.org/hebrew/word?version=c&amp;id=1MN\" title=\"Show this on SHEBANQ\"><span class=\"txtu hbo\">מִן־</span></a></div><div class='features'><span class=\"lex xft\" ><span class=\"f\">lex=</span>MN</span><span class=\"pdp xft\" ><span class=\"f\">pdp=</span>prep</span></div></div><div class=\"contnr c0 trm rtl  \" ><div class=\"lbl c0 trm \" ><span class=\"nd\">304873</span> <a class=\" txtu hbo\" target=\"_blank\" href=\"https://shebanq.ancient-data.org/hebrew/word?version=c&amp;id=1H\" title=\"Show this on SHEBANQ\"><span class=\"txtu hbo\">הַ</span></a></div><div class='features'><span class=\"lex xft\" ><span class=\"f\">lex=</span>H</span><span class=\"pdp xft\" ><span class=\"f\">pdp=</span>art</span></div></div><div class=\"contnr c0 trm rtl  \" ><div class=\"lbl c0 trm \" ><span class=\"nd\">304874</span> <a class=\" txtu hbo\" target=\"_blank\" href=\"https://shebanq.ancient-data.org/hebrew/word?version=c&amp;id=1JWMn\" title=\"Show this on SHEBANQ\"><span class=\"txtu hbo\">יֹּ֛ום </span></a></div><div class='features'><span class=\"lex xft\" ><span class=\"f\">lex=</span>JWM/</span><span class=\"pdp xft\" ><span class=\"f\">pdp=</span>subs</span><span class=\"st xft\" ><span class=\"f\">st=</span>a</span></div></div></div></div></div></div></div></div></div></div></div>"
      ],
      "text/plain": [
       "<IPython.core.display.HTML object>"
      ]
     },
     "metadata": {},
     "output_type": "display_data"
    },
    {
     "data": {
      "text/html": [
       "<p><b>result</b> <i>5</i></p>"
      ],
      "text/plain": [
       "<IPython.core.display.HTML object>"
      ]
     },
     "metadata": {},
     "output_type": "display_data"
    },
    {
     "data": {
      "text/html": [
       "<div class=\"tfsechead rtl\"><a target=\"_blank\" href=\"https://shebanq.ancient-data.org/hebrew/text?book=Sacharia&amp;chapter=1&amp;verse=7&amp;version=c&amp;mr=m&amp;qw=q&amp;tp=txt_p&amp;tr=hb&amp;wget=v&amp;qget=v&amp;nget=vt\" title=\"Show this on SHEBANQ\" sec=\"Zechariah 1:7\">Zechariah 1:7</a></div><div class=\"rtl children\"><div class=\"contnr c2  rtl l \" ><div class=\"lbl c2  \" ><span class=\"nd\">clause:488973</span></div><div class=\"children hor wrap rtl\"><div class=\"contnr c1  rtl  \" ><div class=\"lbl c1  \" ><span class=\"nd\">clause_atom:578852</span></div><div class=\"children hor wrap rtl\"><div class=\"contnr c1  rtl l hl\" ><div class=\"lbl c1  hl\" ><span class=\"nd\">phrase:831892</span></div><div class='features'><span class=\"function xft\" ><span class=\"f\">function=</span>Time</span></div><div class=\"children hor wrap rtl\"><div class=\"contnr c1  rtl  \" ><div class=\"lbl c1  \" ><span class=\"nd\">phrase_atom:1095207</span></div><div class=\"children hor wrap rtl\"><div class=\"contnr c0 trm rtl  \" ><div class=\"lbl c0 trm \" ><span class=\"nd\">305118</span> <a class=\" txtu hbo\" target=\"_blank\" href=\"https://shebanq.ancient-data.org/hebrew/word?version=c&amp;id=1B\" title=\"Show this on SHEBANQ\"><span class=\"txtu hbo\">בְּ</span></a></div><div class='features'><span class=\"lex xft\" ><span class=\"f\">lex=</span>B</span><span class=\"pdp xft\" ><span class=\"f\">pdp=</span>prep</span></div></div><div class=\"contnr c0 trm rtl  hl\" ><div class=\"lbl c0 trm hl\" ><span class=\"nd\">305119</span> <a class=\" txtu hbo\" target=\"_blank\" href=\"https://shebanq.ancient-data.org/hebrew/word?version=c&amp;id=1JWMn\" title=\"Show this on SHEBANQ\"><span class=\"txtu hbo\">יֹום֩ </span></a></div><div class='features'><span class=\"lex xft\" ><span class=\"f\">lex=</span>JWM/</span><span class=\"pdp xft\" ><span class=\"f\">pdp=</span>subs</span><span class=\"st xft\" ><span class=\"f\">st=</span>c</span></div></div><div class=\"contnr c0 trm rtl  hl\" ><div class=\"lbl c0 trm hl\" ><span class=\"nd\">305120</span> <a class=\" txtu hbo\" target=\"_blank\" href=\"https://shebanq.ancient-data.org/hebrew/word?version=c&amp;id=1OFRJMn\" title=\"Show this on SHEBANQ\"><span class=\"txtu hbo\">עֶשְׂרִ֨ים </span></a></div><div class='features'><span class=\"lex xft\" ><span class=\"f\">lex=</span>&lt;FRJM/</span><span class=\"pdp xft\" ><span class=\"f\">pdp=</span>subs</span><span class=\"st xft\" ><span class=\"f\">st=</span>a</span></div></div><div class=\"contnr c0 trm rtl  \" ><div class=\"lbl c0 trm \" ><span class=\"nd\">305121</span> <a class=\" txtu hbo\" target=\"_blank\" href=\"https://shebanq.ancient-data.org/hebrew/word?version=c&amp;id=1W\" title=\"Show this on SHEBANQ\"><span class=\"txtu hbo\">וְ</span></a></div><div class='features'><span class=\"lex xft\" ><span class=\"f\">lex=</span>W</span><span class=\"pdp xft\" ><span class=\"f\">pdp=</span>conj</span></div></div><div class=\"contnr c0 trm rtl  \" ><div class=\"lbl c0 trm \" ><span class=\"nd\">305122</span> <a class=\" txtu hbo\" target=\"_blank\" href=\"https://shebanq.ancient-data.org/hebrew/word?version=c&amp;id=1ARBOn\" title=\"Show this on SHEBANQ\"><span class=\"txtu hbo\">אַרְבָּעָ֜ה </span></a></div><div class='features'><span class=\"lex xft\" ><span class=\"f\">lex=</span>>RB&lt;/</span><span class=\"pdp xft\" ><span class=\"f\">pdp=</span>subs</span><span class=\"st xft\" ><span class=\"f\">st=</span>a</span></div></div></div></div><div class=\"contnr c1  rtl  \" ><div class=\"lbl c1  \" ><span class=\"nd\">phrase_atom:1095208</span></div><div class='features'><span class=\"rela xft\" ><span class=\"f\">rela=</span>Spec</span></div><div class=\"children hor wrap rtl\"><div class=\"contnr c0 trm rtl  \" ><div class=\"lbl c0 trm \" ><span class=\"nd\">305123</span> <a class=\" txtu hbo\" target=\"_blank\" href=\"https://shebanq.ancient-data.org/hebrew/word?version=c&amp;id=1L\" title=\"Show this on SHEBANQ\"><span class=\"txtu hbo\">לְ</span></a></div><div class='features'><span class=\"lex xft\" ><span class=\"f\">lex=</span>L</span><span class=\"pdp xft\" ><span class=\"f\">pdp=</span>prep</span></div></div><div class=\"contnr c0 trm rtl  \" ><div class=\"lbl c0 trm \" ><span class=\"nd\">305124</span> <a class=\" txtu hbo\" target=\"_blank\" href=\"https://shebanq.ancient-data.org/hebrew/word?version=c&amp;id=1OCTJn\" title=\"Show this on SHEBANQ\"><span class=\"txtu hbo\">עַשְׁתֵּֽי־</span></a></div><div class='features'><span class=\"lex xft\" ><span class=\"f\">lex=</span>&lt;CTJ/</span><span class=\"pdp xft\" ><span class=\"f\">pdp=</span>subs</span><span class=\"st xft\" ><span class=\"f\">st=</span>c</span></div></div><div class=\"contnr c0 trm rtl  \" ><div class=\"lbl c0 trm \" ><span class=\"nd\">305125</span> <a class=\" txtu hbo\" target=\"_blank\" href=\"https://shebanq.ancient-data.org/hebrew/word?version=c&amp;id=1OFRn\" title=\"Show this on SHEBANQ\"><span class=\"txtu hbo\">עָשָׂ֥ר </span></a></div><div class='features'><span class=\"lex xft\" ><span class=\"f\">lex=</span>&lt;FR/</span><span class=\"pdp xft\" ><span class=\"f\">pdp=</span>subs</span><span class=\"st xft\" ><span class=\"f\">st=</span>c</span></div></div><div class=\"contnr c0 trm rtl  \" ><div class=\"lbl c0 trm \" ><span class=\"nd\">305126</span> <a class=\" txtu hbo\" target=\"_blank\" href=\"https://shebanq.ancient-data.org/hebrew/word?version=c&amp;id=1XDCin\" title=\"Show this on SHEBANQ\"><span class=\"txtu hbo\">חֹ֨דֶשׁ֙ </span></a></div><div class='features'><span class=\"lex xft\" ><span class=\"f\">lex=</span>XDC=/</span><span class=\"pdp xft\" ><span class=\"f\">pdp=</span>subs</span><span class=\"st xft\" ><span class=\"f\">st=</span>a</span></div></div></div></div></div></div></div></div></div></div><div class=\"contnr c2  rtl r \" ><div class=\"lbl c2  \" ><span class=\"nd\">clause:488973</span></div><div class=\"children hor wrap rtl\"><div class=\"contnr c1  rtl  \" ><div class=\"lbl c1  \" ><span class=\"nd\">clause_atom:578854</span></div><div class=\"children hor wrap rtl\"><div class=\"contnr c1  rtl r hl\" ><div class=\"lbl c1  hl\" ><span class=\"nd\">phrase:831892</span></div><div class='features'><span class=\"function xft\" ><span class=\"f\">function=</span>Time</span></div><div class=\"children hor wrap rtl\"><div class=\"contnr c1  rtl  \" ><div class=\"lbl c1  \" ><span class=\"nd\">phrase_atom:1095211</span></div><div class='features'><span class=\"rela xft\" ><span class=\"f\">rela=</span>Spec</span></div><div class=\"children hor wrap rtl\"><div class=\"contnr c0 trm rtl  \" ><div class=\"lbl c0 trm \" ><span class=\"nd\">305130</span> <a class=\" txtu hbo\" target=\"_blank\" href=\"https://shebanq.ancient-data.org/hebrew/word?version=c&amp;id=1B\" title=\"Show this on SHEBANQ\"><span class=\"txtu hbo\">בִּ</span></a></div><div class='features'><span class=\"lex xft\" ><span class=\"f\">lex=</span>B</span><span class=\"pdp xft\" ><span class=\"f\">pdp=</span>prep</span></div></div><div class=\"contnr c0 trm rtl  \" ><div class=\"lbl c0 trm \" ><span class=\"nd\">305131</span> <a class=\" txtu hbo\" target=\"_blank\" href=\"https://shebanq.ancient-data.org/hebrew/word?version=c&amp;id=1CNHn\" title=\"Show this on SHEBANQ\"><span class=\"txtu hbo\">שְׁנַ֥ת </span></a></div><div class='features'><span class=\"lex xft\" ><span class=\"f\">lex=</span>CNH/</span><span class=\"pdp xft\" ><span class=\"f\">pdp=</span>subs</span><span class=\"st xft\" ><span class=\"f\">st=</span>c</span></div></div><div class=\"contnr c0 trm rtl  \" ><div class=\"lbl c0 trm \" ><span class=\"nd\">305132</span> <a class=\" txtu hbo\" target=\"_blank\" href=\"https://shebanq.ancient-data.org/hebrew/word?version=c&amp;id=1CNJMn\" title=\"Show this on SHEBANQ\"><span class=\"txtu hbo\">שְׁתַּ֖יִם </span></a></div><div class='features'><span class=\"lex xft\" ><span class=\"f\">lex=</span>CNJM/</span><span class=\"pdp xft\" ><span class=\"f\">pdp=</span>subs</span><span class=\"st xft\" ><span class=\"f\">st=</span>a</span></div></div></div></div><div class=\"contnr c1  rtl  \" ><div class=\"lbl c1  \" ><span class=\"nd\">phrase_atom:1095212</span></div><div class='features'><span class=\"rela xft\" ><span class=\"f\">rela=</span>Spec</span></div><div class=\"children hor wrap rtl\"><div class=\"contnr c0 trm rtl  \" ><div class=\"lbl c0 trm \" ><span class=\"nd\">305133</span> <a class=\" txtu hbo\" target=\"_blank\" href=\"https://shebanq.ancient-data.org/hebrew/word?version=c&amp;id=1L\" title=\"Show this on SHEBANQ\"><span class=\"txtu hbo\">לְ</span></a></div><div class='features'><span class=\"lex xft\" ><span class=\"f\">lex=</span>L</span><span class=\"pdp xft\" ><span class=\"f\">pdp=</span>prep</span></div></div><div class=\"contnr c0 trm rtl  \" ><div class=\"lbl c0 trm \" ><span class=\"nd\">305134</span> <a class=\" txtu hbo\" target=\"_blank\" href=\"https://shebanq.ancient-data.org/hebrew/word?version=c&amp;id=1DRJWCn\" title=\"Show this on SHEBANQ\"><span class=\"txtu hbo\">דָרְיָ֑וֶשׁ </span></a></div><div class='features'><span class=\"lex xft\" ><span class=\"f\">lex=</span>DRJWC/</span><span class=\"pdp xft\" ><span class=\"f\">pdp=</span>nmpr</span><span class=\"st xft\" ><span class=\"f\">st=</span>a</span></div></div></div></div></div></div><div class=\"contnr c1  rtl  \" ><div class=\"lbl c1  \" ><span class=\"nd\">phrase:831895</span></div><div class='features'><span class=\"function xft\" ><span class=\"f\">function=</span>Pred</span></div><div class=\"children hor wrap rtl\"><div class=\"contnr c1  rtl  \" ><div class=\"lbl c1  \" ><span class=\"nd\">phrase_atom:1095213</span></div><div class=\"children hor wrap rtl\"><div class=\"contnr c0 trm rtl  \" ><div class=\"lbl c0 trm \" ><span class=\"nd\">305135</span> <a class=\" txtu hbo\" target=\"_blank\" href=\"https://shebanq.ancient-data.org/hebrew/word?version=c&amp;id=1HJHv\" title=\"Show this on SHEBANQ\"><span class=\"txtu hbo\">הָיָ֣ה </span></a></div><div class='features'><span class=\"lex xft\" ><span class=\"f\">lex=</span>HJH[</span><span class=\"pdp xft\" ><span class=\"f\">pdp=</span>verb</span></div></div></div></div></div></div><div class=\"contnr c1  rtl  \" ><div class=\"lbl c1  \" ><span class=\"nd\">phrase:831896</span></div><div class='features'><span class=\"function xft\" ><span class=\"f\">function=</span>Subj</span></div><div class=\"children hor wrap rtl\"><div class=\"contnr c1  rtl  \" ><div class=\"lbl c1  \" ><span class=\"nd\">phrase_atom:1095214</span></div><div class=\"children hor wrap rtl\"><div class=\"contnr c0 trm rtl  \" ><div class=\"lbl c0 trm \" ><span class=\"nd\">305136</span> <a class=\" txtu hbo\" target=\"_blank\" href=\"https://shebanq.ancient-data.org/hebrew/word?version=c&amp;id=1DBRn\" title=\"Show this on SHEBANQ\"><span class=\"txtu hbo\">דְבַר־</span></a></div><div class='features'><span class=\"lex xft\" ><span class=\"f\">lex=</span>DBR/</span><span class=\"pdp xft\" ><span class=\"f\">pdp=</span>subs</span><span class=\"st xft\" ><span class=\"f\">st=</span>c</span></div></div><div class=\"contnr c0 trm rtl  \" ><div class=\"lbl c0 trm \" ><span class=\"nd\">305137</span> <a class=\" txtu hbo\" target=\"_blank\" href=\"https://shebanq.ancient-data.org/hebrew/word?version=c&amp;id=1JHWHn\" title=\"Show this on SHEBANQ\"><span class=\"txtu hbo\">יְהוָ֗ה </span></a></div><div class='features'><span class=\"lex xft\" ><span class=\"f\">lex=</span>JHWH/</span><span class=\"pdp xft\" ><span class=\"f\">pdp=</span>nmpr</span><span class=\"st xft\" ><span class=\"f\">st=</span>a</span></div></div></div></div></div></div><div class=\"contnr c1  rtl  \" ><div class=\"lbl c1  \" ><span class=\"nd\">phrase:831897</span></div><div class='features'><span class=\"function xft\" ><span class=\"f\">function=</span>Cmpl</span></div><div class=\"children hor wrap rtl\"><div class=\"contnr c1  rtl  \" ><div class=\"lbl c1  \" ><span class=\"nd\">phrase_atom:1095215</span></div><div class=\"children hor wrap rtl\"><div class=\"contnr c0 trm rtl  \" ><div class=\"lbl c0 trm \" ><span class=\"nd\">305138</span> <a class=\" txtu hbo\" target=\"_blank\" href=\"https://shebanq.ancient-data.org/hebrew/word?version=c&amp;id=1AL\" title=\"Show this on SHEBANQ\"><span class=\"txtu hbo\">אֶל־</span></a></div><div class='features'><span class=\"lex xft\" ><span class=\"f\">lex=</span>>L</span><span class=\"pdp xft\" ><span class=\"f\">pdp=</span>prep</span></div></div><div class=\"contnr c0 trm rtl  \" ><div class=\"lbl c0 trm \" ><span class=\"nd\">305139</span> <a class=\" txtu hbo\" target=\"_blank\" href=\"https://shebanq.ancient-data.org/hebrew/word?version=c&amp;id=1ZKRJHn\" title=\"Show this on SHEBANQ\"><span class=\"txtu hbo\">זְכַרְיָה֙ </span></a></div><div class='features'><span class=\"lex xft\" ><span class=\"f\">lex=</span>ZKRJH/</span><span class=\"pdp xft\" ><span class=\"f\">pdp=</span>nmpr</span><span class=\"st xft\" ><span class=\"f\">st=</span>a</span></div></div></div></div><div class=\"contnr c1  rtl  \" ><div class=\"lbl c1  \" ><span class=\"nd\">phrase_atom:1095216</span></div><div class='features'><span class=\"rela xft\" ><span class=\"f\">rela=</span>Appo</span></div><div class=\"children hor wrap rtl\"><div class=\"contnr c0 trm rtl  \" ><div class=\"lbl c0 trm \" ><span class=\"nd\">305140</span> <a class=\" txtu hbo\" target=\"_blank\" href=\"https://shebanq.ancient-data.org/hebrew/word?version=c&amp;id=1BNn\" title=\"Show this on SHEBANQ\"><span class=\"txtu hbo\">בֶּן־</span></a></div><div class='features'><span class=\"lex xft\" ><span class=\"f\">lex=</span>BN/</span><span class=\"pdp xft\" ><span class=\"f\">pdp=</span>subs</span><span class=\"st xft\" ><span class=\"f\">st=</span>c</span></div></div><div class=\"contnr c0 trm rtl  \" ><div class=\"lbl c0 trm \" ><span class=\"nd\">305141</span> <a class=\" txtu hbo\" target=\"_blank\" href=\"https://shebanq.ancient-data.org/hebrew/word?version=c&amp;id=1BRKJHWn\" title=\"Show this on SHEBANQ\"><span class=\"txtu hbo\">בֶּ֣רֶכְיָ֔הוּ </span></a></div><div class='features'><span class=\"lex xft\" ><span class=\"f\">lex=</span>BRKJHW/</span><span class=\"pdp xft\" ><span class=\"f\">pdp=</span>nmpr</span><span class=\"st xft\" ><span class=\"f\">st=</span>a</span></div></div></div></div><div class=\"contnr c1  rtl  \" ><div class=\"lbl c1  \" ><span class=\"nd\">phrase_atom:1095217</span></div><div class='features'><span class=\"rela xft\" ><span class=\"f\">rela=</span>Appo</span></div><div class=\"children hor wrap rtl\"><div class=\"contnr c0 trm rtl  \" ><div class=\"lbl c0 trm \" ><span class=\"nd\">305142</span> <a class=\" txtu hbo\" target=\"_blank\" href=\"https://shebanq.ancient-data.org/hebrew/word?version=c&amp;id=1BNn\" title=\"Show this on SHEBANQ\"><span class=\"txtu hbo\">בֶּן־</span></a></div><div class='features'><span class=\"lex xft\" ><span class=\"f\">lex=</span>BN/</span><span class=\"pdp xft\" ><span class=\"f\">pdp=</span>subs</span><span class=\"st xft\" ><span class=\"f\">st=</span>c</span></div></div><div class=\"contnr c0 trm rtl  \" ><div class=\"lbl c0 trm \" ><span class=\"nd\">305143</span> <a class=\" txtu hbo\" target=\"_blank\" href=\"https://shebanq.ancient-data.org/hebrew/word?version=c&amp;id=1ODWAn\" title=\"Show this on SHEBANQ\"><span class=\"txtu hbo\">עִדֹּ֥וא </span></a></div><div class='features'><span class=\"lex xft\" ><span class=\"f\">lex=</span>&lt;DW>/</span><span class=\"pdp xft\" ><span class=\"f\">pdp=</span>nmpr</span><span class=\"st xft\" ><span class=\"f\">st=</span>a</span></div></div></div></div><div class=\"contnr c1  rtl  \" ><div class=\"lbl c1  \" ><span class=\"nd\">phrase_atom:1095218</span></div><div class='features'><span class=\"rela xft\" ><span class=\"f\">rela=</span>Appo</span></div><div class=\"children hor wrap rtl\"><div class=\"contnr c0 trm rtl  \" ><div class=\"lbl c0 trm \" ><span class=\"nd\">305144</span> <a class=\" txtu hbo\" target=\"_blank\" href=\"https://shebanq.ancient-data.org/hebrew/word?version=c&amp;id=1H\" title=\"Show this on SHEBANQ\"><span class=\"txtu hbo\">הַ</span></a></div><div class='features'><span class=\"lex xft\" ><span class=\"f\">lex=</span>H</span><span class=\"pdp xft\" ><span class=\"f\">pdp=</span>art</span></div></div><div class=\"contnr c0 trm rtl  \" ><div class=\"lbl c0 trm \" ><span class=\"nd\">305145</span> <a class=\" txtu hbo\" target=\"_blank\" href=\"https://shebanq.ancient-data.org/hebrew/word?version=c&amp;id=1NBJAn\" title=\"Show this on SHEBANQ\"><span class=\"txtu hbo\">נָּבִ֖יא </span></a></div><div class='features'><span class=\"lex xft\" ><span class=\"f\">lex=</span>NBJ>/</span><span class=\"pdp xft\" ><span class=\"f\">pdp=</span>subs</span><span class=\"st xft\" ><span class=\"f\">st=</span>a</span></div></div></div></div></div></div></div></div></div></div></div>"
      ],
      "text/plain": [
       "<IPython.core.display.HTML object>"
      ]
     },
     "metadata": {},
     "output_type": "display_data"
    },
    {
     "data": {
      "text/html": [
       "<p><b>result</b> <i>6</i></p>"
      ],
      "text/plain": [
       "<IPython.core.display.HTML object>"
      ]
     },
     "metadata": {},
     "output_type": "display_data"
    },
    {
     "data": {
      "text/html": [
       "<div class=\"tfsechead rtl\"><a target=\"_blank\" href=\"https://shebanq.ancient-data.org/hebrew/text?book=Esther&amp;chapter=9&amp;verse=15&amp;version=c&amp;mr=m&amp;qw=q&amp;tp=txt_p&amp;tr=hb&amp;wget=v&amp;qget=v&amp;nget=vt\" title=\"Show this on SHEBANQ\" sec=\"Esther 9:15\">Esther 9:15</a></div><div class=\"rtl children\"><div class=\"contnr c2  rtl l \" ><div class=\"lbl c2  \" ><span class=\"nd\">clause:505916</span></div><div class=\"children hor wrap rtl\"><div class=\"contnr c1  rtl  \" ><div class=\"lbl c1  \" ><span class=\"nd\">clause_atom:596233</span></div><div class=\"children hor wrap rtl\"><div class=\"contnr c1  rtl  \" ><div class=\"lbl c1  \" ><span class=\"nd\">phrase:875963</span></div><div class='features'><span class=\"function xft\" ><span class=\"f\">function=</span>Conj</span></div><div class=\"children hor wrap rtl\"><div class=\"contnr c1  rtl  \" ><div class=\"lbl c1  \" ><span class=\"nd\">phrase_atom:1140343</span></div><div class=\"children hor wrap rtl\"><div class=\"contnr c0 trm rtl  \" ><div class=\"lbl c0 trm \" ><span class=\"nd\">369490</span> <a class=\" txtu hbo\" target=\"_blank\" href=\"https://shebanq.ancient-data.org/hebrew/word?version=c&amp;id=1W\" title=\"Show this on SHEBANQ\"><span class=\"txtu hbo\">וַ</span></a></div><div class='features'><span class=\"lex xft\" ><span class=\"f\">lex=</span>W</span><span class=\"pdp xft\" ><span class=\"f\">pdp=</span>conj</span></div></div></div></div></div></div><div class=\"contnr c1  rtl  \" ><div class=\"lbl c1  \" ><span class=\"nd\">phrase:875964</span></div><div class='features'><span class=\"function xft\" ><span class=\"f\">function=</span>Pred</span></div><div class=\"children hor wrap rtl\"><div class=\"contnr c1  rtl  \" ><div class=\"lbl c1  \" ><span class=\"nd\">phrase_atom:1140344</span></div><div class=\"children hor wrap rtl\"><div class=\"contnr c0 trm rtl  \" ><div class=\"lbl c0 trm \" ><span class=\"nd\">369491</span> <a class=\" txtu hbo\" target=\"_blank\" href=\"https://shebanq.ancient-data.org/hebrew/word?version=c&amp;id=1QHLv\" title=\"Show this on SHEBANQ\"><span class=\"txtu hbo\">יִּֽקָּהֲל֞וּ </span></a></div><div class='features'><span class=\"lex xft\" ><span class=\"f\">lex=</span>QHL[</span><span class=\"pdp xft\" ><span class=\"f\">pdp=</span>verb</span></div></div></div></div></div></div><div class=\"contnr c1  rtl  \" ><div class=\"lbl c1  \" ><span class=\"nd\">phrase:875965</span></div><div class='features'><span class=\"function xft\" ><span class=\"f\">function=</span>Subj</span></div><div class=\"children hor wrap rtl\"><div class=\"contnr c1  rtl  \" ><div class=\"lbl c1  \" ><span class=\"nd\">phrase_atom:1140345</span></div><div class=\"children hor wrap rtl\"><div class=\"contnr c0 trm rtl  \" ><div class=\"lbl c0 trm \" ><span class=\"nd\">369492</span> <a class=\" txtu hbo\" target=\"_blank\" href=\"https://shebanq.ancient-data.org/hebrew/word?version=c&amp;id=1H\" title=\"Show this on SHEBANQ\"><span class=\"txtu hbo\">הַ</span></a></div><div class='features'><span class=\"lex xft\" ><span class=\"f\">lex=</span>H</span><span class=\"pdp xft\" ><span class=\"f\">pdp=</span>art</span></div></div><div class=\"contnr c0 trm rtl  \" ><div class=\"lbl c0 trm \" ><span class=\"nd\">369493</span> <a class=\" txtu hbo\" target=\"_blank\" href=\"https://shebanq.ancient-data.org/hebrew/word?version=c&amp;id=1JHWDJn\" title=\"Show this on SHEBANQ\"><span class=\"txtu hbo\">יְּהוּדִ֣ים </span></a></div><div class='features'><span class=\"lex xft\" ><span class=\"f\">lex=</span>JHWDJ/</span><span class=\"pdp xft\" ><span class=\"f\">pdp=</span>subs</span><span class=\"st xft\" ><span class=\"f\">st=</span>a</span></div></div></div></div></div></div></div></div></div></div><div class=\"contnr c2  rtl r \" ><div class=\"lbl c2  \" ><span class=\"nd\">clause:505916</span></div><div class=\"children hor wrap rtl\"><div class=\"contnr c1  rtl  \" ><div class=\"lbl c1  \" ><span class=\"nd\">clause_atom:596235</span></div><div class=\"children hor wrap rtl\"><div class=\"contnr c1  rtl  hl\" ><div class=\"lbl c1  hl\" ><span class=\"nd\">phrase:875968</span></div><div class='features'><span class=\"function xft\" ><span class=\"f\">function=</span>Time</span></div><div class=\"children hor wrap rtl\"><div class=\"contnr c1  rtl  \" ><div class=\"lbl c1  \" ><span class=\"nd\">phrase_atom:1140348</span></div><div class=\"children hor wrap rtl\"><div class=\"contnr c0 trm rtl  \" ><div class=\"lbl c0 trm \" ><span class=\"nd\">369497</span> <a class=\" txtu hbo\" target=\"_blank\" href=\"https://shebanq.ancient-data.org/hebrew/word?version=c&amp;id=1GM\" title=\"Show this on SHEBANQ\"><span class=\"txtu hbo\">גַּ֠ם </span></a></div><div class='features'><span class=\"lex xft\" ><span class=\"f\">lex=</span>GM</span><span class=\"pdp xft\" ><span class=\"f\">pdp=</span>advb</span></div></div><div class=\"contnr c0 trm rtl  \" ><div class=\"lbl c0 trm \" ><span class=\"nd\">369498</span> <a class=\" txtu hbo\" target=\"_blank\" href=\"https://shebanq.ancient-data.org/hebrew/word?version=c&amp;id=1B\" title=\"Show this on SHEBANQ\"><span class=\"txtu hbo\">בְּ</span></a></div><div class='features'><span class=\"lex xft\" ><span class=\"f\">lex=</span>B</span><span class=\"pdp xft\" ><span class=\"f\">pdp=</span>prep</span></div></div><div class=\"contnr c0 trm rtl  hl\" ><div class=\"lbl c0 trm hl\" ><span class=\"nd\">369499</span> <a class=\" txtu hbo\" target=\"_blank\" href=\"https://shebanq.ancient-data.org/hebrew/word?version=c&amp;id=1JWMn\" title=\"Show this on SHEBANQ\"><span class=\"txtu hbo\">יֹ֣ום </span></a></div><div class='features'><span class=\"lex xft\" ><span class=\"f\">lex=</span>JWM/</span><span class=\"pdp xft\" ><span class=\"f\">pdp=</span>subs</span><span class=\"st xft\" ><span class=\"f\">st=</span>c</span></div></div><div class=\"contnr c0 trm rtl  hl\" ><div class=\"lbl c0 trm hl\" ><span class=\"nd\">369500</span> <a class=\" txtu hbo\" target=\"_blank\" href=\"https://shebanq.ancient-data.org/hebrew/word?version=c&amp;id=1ARBOn\" title=\"Show this on SHEBANQ\"><span class=\"txtu hbo\">אַרְבָּעָ֤ה </span></a></div><div class='features'><span class=\"lex xft\" ><span class=\"f\">lex=</span>>RB&lt;/</span><span class=\"pdp xft\" ><span class=\"f\">pdp=</span>subs</span><span class=\"st xft\" ><span class=\"f\">st=</span>a</span></div></div><div class=\"contnr c0 trm rtl  \" ><div class=\"lbl c0 trm \" ><span class=\"nd\">369501</span> <a class=\" txtu hbo\" target=\"_blank\" href=\"https://shebanq.ancient-data.org/hebrew/word?version=c&amp;id=1OFRn\" title=\"Show this on SHEBANQ\"><span class=\"txtu hbo\">עָשָׂר֙ </span></a></div><div class='features'><span class=\"lex xft\" ><span class=\"f\">lex=</span>&lt;FR/</span><span class=\"pdp xft\" ><span class=\"f\">pdp=</span>subs</span><span class=\"st xft\" ><span class=\"f\">st=</span>a</span></div></div></div></div><div class=\"contnr c1  rtl  \" ><div class=\"lbl c1  \" ><span class=\"nd\">phrase_atom:1140349</span></div><div class='features'><span class=\"rela xft\" ><span class=\"f\">rela=</span>Spec</span></div><div class=\"children hor wrap rtl\"><div class=\"contnr c0 trm rtl  \" ><div class=\"lbl c0 trm \" ><span class=\"nd\">369502</span> <a class=\" txtu hbo\" target=\"_blank\" href=\"https://shebanq.ancient-data.org/hebrew/word?version=c&amp;id=1L\" title=\"Show this on SHEBANQ\"><span class=\"txtu hbo\">לְ</span></a></div><div class='features'><span class=\"lex xft\" ><span class=\"f\">lex=</span>L</span><span class=\"pdp xft\" ><span class=\"f\">pdp=</span>prep</span></div></div><div class=\"contnr c0 trm rtl  \" ><div class=\"lbl c0 trm \" ><span class=\"nd\">369503</span> <a class=\" txtu hbo\" target=\"_blank\" href=\"https://shebanq.ancient-data.org/hebrew/word?version=c&amp;id=1XDCin\" title=\"Show this on SHEBANQ\"><span class=\"txtu hbo\">חֹ֣דֶשׁ </span></a></div><div class='features'><span class=\"lex xft\" ><span class=\"f\">lex=</span>XDC=/</span><span class=\"pdp xft\" ><span class=\"f\">pdp=</span>subs</span><span class=\"st xft\" ><span class=\"f\">st=</span>c</span></div></div><div class=\"contnr c0 trm rtl  \" ><div class=\"lbl c0 trm \" ><span class=\"nd\">369504</span> <a class=\" txtu hbo\" target=\"_blank\" href=\"https://shebanq.ancient-data.org/hebrew/word?version=c&amp;id=1ADRin\" title=\"Show this on SHEBANQ\"><span class=\"txtu hbo\">אֲדָ֔ר </span></a></div><div class='features'><span class=\"lex xft\" ><span class=\"f\">lex=</span>>DR=/</span><span class=\"pdp xft\" ><span class=\"f\">pdp=</span>nmpr</span><span class=\"st xft\" ><span class=\"f\">st=</span>a</span></div></div></div></div></div></div></div></div></div></div></div>"
      ],
      "text/plain": [
       "<IPython.core.display.HTML object>"
      ]
     },
     "metadata": {},
     "output_type": "display_data"
    },
    {
     "data": {
      "text/html": [
       "<p><b>result</b> <i>7</i></p>"
      ],
      "text/plain": [
       "<IPython.core.display.HTML object>"
      ]
     },
     "metadata": {},
     "output_type": "display_data"
    },
    {
     "data": {
      "text/html": [
       "<div class=\"tfsechead rtl\"><a target=\"_blank\" href=\"https://shebanq.ancient-data.org/hebrew/text?book=Esther&amp;chapter=9&amp;verse=17&amp;version=c&amp;mr=m&amp;qw=q&amp;tp=txt_p&amp;tr=hb&amp;wget=v&amp;qget=v&amp;nget=vt\" title=\"Show this on SHEBANQ\" sec=\"Esther 9:17\">Esther 9:17</a></div><div class=\"rtl children\"><div class=\"contnr c2  rtl  \" ><div class=\"lbl c2  \" ><span class=\"nd\">clause:505926</span></div><div class=\"children hor wrap rtl\"><div class=\"contnr c1  rtl  \" ><div class=\"lbl c1  \" ><span class=\"nd\">clause_atom:596245</span></div><div class=\"children hor wrap rtl\"><div class=\"contnr c1  rtl  hl\" ><div class=\"lbl c1  hl\" ><span class=\"nd\">phrase:875998</span></div><div class='features'><span class=\"function xft\" ><span class=\"f\">function=</span>Time</span></div><div class=\"children hor wrap rtl\"><div class=\"contnr c1  rtl  \" ><div class=\"lbl c1  \" ><span class=\"nd\">phrase_atom:1140379</span></div><div class=\"children hor wrap rtl\"><div class=\"contnr c0 trm rtl  \" ><div class=\"lbl c0 trm \" ><span class=\"nd\">369554</span> <a class=\" txtu hbo\" target=\"_blank\" href=\"https://shebanq.ancient-data.org/hebrew/word?version=c&amp;id=1B\" title=\"Show this on SHEBANQ\"><span class=\"txtu hbo\">בְּ</span></a></div><div class='features'><span class=\"lex xft\" ><span class=\"f\">lex=</span>B</span><span class=\"pdp xft\" ><span class=\"f\">pdp=</span>prep</span></div></div><div class=\"contnr c0 trm rtl  hl\" ><div class=\"lbl c0 trm hl\" ><span class=\"nd\">369555</span> <a class=\" txtu hbo\" target=\"_blank\" href=\"https://shebanq.ancient-data.org/hebrew/word?version=c&amp;id=1JWMn\" title=\"Show this on SHEBANQ\"><span class=\"txtu hbo\">יֹום־</span></a></div><div class='features'><span class=\"lex xft\" ><span class=\"f\">lex=</span>JWM/</span><span class=\"pdp xft\" ><span class=\"f\">pdp=</span>subs</span><span class=\"st xft\" ><span class=\"f\">st=</span>c</span></div></div><div class=\"contnr c0 trm rtl  hl\" ><div class=\"lbl c0 trm hl\" ><span class=\"nd\">369556</span> <a class=\" txtu hbo\" target=\"_blank\" href=\"https://shebanq.ancient-data.org/hebrew/word?version=c&amp;id=1CLCn\" title=\"Show this on SHEBANQ\"><span class=\"txtu hbo\">שְׁלֹשָׁ֥ה </span></a></div><div class='features'><span class=\"lex xft\" ><span class=\"f\">lex=</span>CLC/</span><span class=\"pdp xft\" ><span class=\"f\">pdp=</span>subs</span><span class=\"st xft\" ><span class=\"f\">st=</span>a</span></div></div><div class=\"contnr c0 trm rtl  \" ><div class=\"lbl c0 trm \" ><span class=\"nd\">369557</span> <a class=\" txtu hbo\" target=\"_blank\" href=\"https://shebanq.ancient-data.org/hebrew/word?version=c&amp;id=1OFRn\" title=\"Show this on SHEBANQ\"><span class=\"txtu hbo\">עָשָׂ֖ר </span></a></div><div class='features'><span class=\"lex xft\" ><span class=\"f\">lex=</span>&lt;FR/</span><span class=\"pdp xft\" ><span class=\"f\">pdp=</span>subs</span><span class=\"st xft\" ><span class=\"f\">st=</span>a</span></div></div></div></div><div class=\"contnr c1  rtl  \" ><div class=\"lbl c1  \" ><span class=\"nd\">phrase_atom:1140380</span></div><div class='features'><span class=\"rela xft\" ><span class=\"f\">rela=</span>Spec</span></div><div class=\"children hor wrap rtl\"><div class=\"contnr c0 trm rtl  \" ><div class=\"lbl c0 trm \" ><span class=\"nd\">369558</span> <a class=\" txtu hbo\" target=\"_blank\" href=\"https://shebanq.ancient-data.org/hebrew/word?version=c&amp;id=1L\" title=\"Show this on SHEBANQ\"><span class=\"txtu hbo\">לְ</span></a></div><div class='features'><span class=\"lex xft\" ><span class=\"f\">lex=</span>L</span><span class=\"pdp xft\" ><span class=\"f\">pdp=</span>prep</span></div></div><div class=\"contnr c0 trm rtl  \" ><div class=\"lbl c0 trm \" ><span class=\"nd\">369559</span> <a class=\" txtu hbo\" target=\"_blank\" href=\"https://shebanq.ancient-data.org/hebrew/word?version=c&amp;id=1XDCin\" title=\"Show this on SHEBANQ\"><span class=\"txtu hbo\">חֹ֣דֶשׁ </span></a></div><div class='features'><span class=\"lex xft\" ><span class=\"f\">lex=</span>XDC=/</span><span class=\"pdp xft\" ><span class=\"f\">pdp=</span>subs</span><span class=\"st xft\" ><span class=\"f\">st=</span>c</span></div></div><div class=\"contnr c0 trm rtl  \" ><div class=\"lbl c0 trm \" ><span class=\"nd\">369560</span> <a class=\" txtu hbo\" target=\"_blank\" href=\"https://shebanq.ancient-data.org/hebrew/word?version=c&amp;id=1ADRin\" title=\"Show this on SHEBANQ\"><span class=\"txtu hbo\">אֲדָ֑ר </span></a></div><div class='features'><span class=\"lex xft\" ><span class=\"f\">lex=</span>>DR=/</span><span class=\"pdp xft\" ><span class=\"f\">pdp=</span>nmpr</span><span class=\"st xft\" ><span class=\"f\">st=</span>a</span></div></div></div></div></div></div></div></div></div></div></div>"
      ],
      "text/plain": [
       "<IPython.core.display.HTML object>"
      ]
     },
     "metadata": {},
     "output_type": "display_data"
    },
    {
     "data": {
      "text/html": [
       "<p><b>result</b> <i>8</i></p>"
      ],
      "text/plain": [
       "<IPython.core.display.HTML object>"
      ]
     },
     "metadata": {},
     "output_type": "display_data"
    },
    {
     "data": {
      "text/html": [
       "<div class=\"tfsechead rtl\"><a target=\"_blank\" href=\"https://shebanq.ancient-data.org/hebrew/text?book=Nehemia&amp;chapter=9&amp;verse=1&amp;version=c&amp;mr=m&amp;qw=q&amp;tp=txt_p&amp;tr=hb&amp;wget=v&amp;qget=v&amp;nget=vt\" title=\"Show this on SHEBANQ\" sec=\"Nehemiah 9:1\">Nehemiah 9:1</a></div><div class=\"rtl children\"><div class=\"contnr c2  rtl  \" ><div class=\"lbl c2  \" ><span class=\"nd\">clause:509287</span></div><div class=\"children hor wrap rtl\"><div class=\"contnr c1  rtl  \" ><div class=\"lbl c1  \" ><span class=\"nd\">clause_atom:599766</span></div><div class=\"children hor wrap rtl\"><div class=\"contnr c1  rtl  \" ><div class=\"lbl c1  \" ><span class=\"nd\">phrase:885826</span></div><div class='features'><span class=\"function xft\" ><span class=\"f\">function=</span>Conj</span></div><div class=\"children hor wrap rtl\"><div class=\"contnr c1  rtl  \" ><div class=\"lbl c1  \" ><span class=\"nd\">phrase_atom:1151031</span></div><div class=\"children hor wrap rtl\"><div class=\"contnr c0 trm rtl  \" ><div class=\"lbl c0 trm \" ><span class=\"nd\">387728</span> <a class=\" txtu hbo\" target=\"_blank\" href=\"https://shebanq.ancient-data.org/hebrew/word?version=c&amp;id=1W\" title=\"Show this on SHEBANQ\"><span class=\"txtu hbo\">וּ</span></a></div><div class='features'><span class=\"lex xft\" ><span class=\"f\">lex=</span>W</span><span class=\"pdp xft\" ><span class=\"f\">pdp=</span>conj</span></div></div></div></div></div></div><div class=\"contnr c1  rtl  hl\" ><div class=\"lbl c1  hl\" ><span class=\"nd\">phrase:885827</span></div><div class='features'><span class=\"function xft\" ><span class=\"f\">function=</span>Time</span></div><div class=\"children hor wrap rtl\"><div class=\"contnr c1  rtl  \" ><div class=\"lbl c1  \" ><span class=\"nd\">phrase_atom:1151032</span></div><div class=\"children hor wrap rtl\"><div class=\"contnr c0 trm rtl  \" ><div class=\"lbl c0 trm \" ><span class=\"nd\">387729</span> <a class=\" txtu hbo\" target=\"_blank\" href=\"https://shebanq.ancient-data.org/hebrew/word?version=c&amp;id=1B\" title=\"Show this on SHEBANQ\"><span class=\"txtu hbo\">בְ</span></a></div><div class='features'><span class=\"lex xft\" ><span class=\"f\">lex=</span>B</span><span class=\"pdp xft\" ><span class=\"f\">pdp=</span>prep</span></div></div><div class=\"contnr c0 trm rtl  hl\" ><div class=\"lbl c0 trm hl\" ><span class=\"nd\">387730</span> <a class=\" txtu hbo\" target=\"_blank\" href=\"https://shebanq.ancient-data.org/hebrew/word?version=c&amp;id=1JWMn\" title=\"Show this on SHEBANQ\"><span class=\"txtu hbo\">יֹום֩ </span></a></div><div class='features'><span class=\"lex xft\" ><span class=\"f\">lex=</span>JWM/</span><span class=\"pdp xft\" ><span class=\"f\">pdp=</span>subs</span><span class=\"st xft\" ><span class=\"f\">st=</span>c</span></div></div><div class=\"contnr c0 trm rtl  hl\" ><div class=\"lbl c0 trm hl\" ><span class=\"nd\">387731</span> <a class=\" txtu hbo\" target=\"_blank\" href=\"https://shebanq.ancient-data.org/hebrew/word?version=c&amp;id=1OFRJMn\" title=\"Show this on SHEBANQ\"><span class=\"txtu hbo\">עֶשְׂרִ֨ים </span></a></div><div class='features'><span class=\"lex xft\" ><span class=\"f\">lex=</span>&lt;FRJM/</span><span class=\"pdp xft\" ><span class=\"f\">pdp=</span>subs</span><span class=\"st xft\" ><span class=\"f\">st=</span>a</span></div></div><div class=\"contnr c0 trm rtl  \" ><div class=\"lbl c0 trm \" ><span class=\"nd\">387732</span> <a class=\" txtu hbo\" target=\"_blank\" href=\"https://shebanq.ancient-data.org/hebrew/word?version=c&amp;id=1W\" title=\"Show this on SHEBANQ\"><span class=\"txtu hbo\">וְ</span></a></div><div class='features'><span class=\"lex xft\" ><span class=\"f\">lex=</span>W</span><span class=\"pdp xft\" ><span class=\"f\">pdp=</span>conj</span></div></div><div class=\"contnr c0 trm rtl  \" ><div class=\"lbl c0 trm \" ><span class=\"nd\">387733</span> <a class=\" txtu hbo\" target=\"_blank\" href=\"https://shebanq.ancient-data.org/hebrew/word?version=c&amp;id=1ARBOn\" title=\"Show this on SHEBANQ\"><span class=\"txtu hbo\">אַרְבָּעָ֜ה </span></a></div><div class='features'><span class=\"lex xft\" ><span class=\"f\">lex=</span>>RB&lt;/</span><span class=\"pdp xft\" ><span class=\"f\">pdp=</span>subs</span><span class=\"st xft\" ><span class=\"f\">st=</span>a</span></div></div></div></div><div class=\"contnr c1  rtl  \" ><div class=\"lbl c1  \" ><span class=\"nd\">phrase_atom:1151033</span></div><div class='features'><span class=\"rela xft\" ><span class=\"f\">rela=</span>Spec</span></div><div class=\"children hor wrap rtl\"><div class=\"contnr c0 trm rtl  \" ><div class=\"lbl c0 trm \" ><span class=\"nd\">387734</span> <a class=\" txtu hbo\" target=\"_blank\" href=\"https://shebanq.ancient-data.org/hebrew/word?version=c&amp;id=1L\" title=\"Show this on SHEBANQ\"><span class=\"txtu hbo\">לַ</span></a></div><div class='features'><span class=\"lex xft\" ><span class=\"f\">lex=</span>L</span><span class=\"pdp xft\" ><span class=\"f\">pdp=</span>prep</span></div></div><div class=\"contnr c0 trm rtl  \" ><div class=\"lbl c0 trm \" ><span class=\"nd\">387735</span> <a class=\" txtu hbo\" target=\"_blank\" href=\"https://shebanq.ancient-data.org/hebrew/word?version=c&amp;id=1H\" title=\"Show this on SHEBANQ\"></a></div><div class='features'><span class=\"lex xft\" ><span class=\"f\">lex=</span>H</span><span class=\"pdp xft\" ><span class=\"f\">pdp=</span>art</span></div></div><div class=\"contnr c0 trm rtl  \" ><div class=\"lbl c0 trm \" ><span class=\"nd\">387736</span> <a class=\" txtu hbo\" target=\"_blank\" href=\"https://shebanq.ancient-data.org/hebrew/word?version=c&amp;id=1XDCin\" title=\"Show this on SHEBANQ\"><span class=\"txtu hbo\">חֹ֣דֶשׁ </span></a></div><div class='features'><span class=\"lex xft\" ><span class=\"f\">lex=</span>XDC=/</span><span class=\"pdp xft\" ><span class=\"f\">pdp=</span>subs</span><span class=\"st xft\" ><span class=\"f\">st=</span>a</span></div></div><div class=\"contnr c0 trm rtl  \" ><div class=\"lbl c0 trm \" ><span class=\"nd\">387737</span> <a class=\" txtu hbo\" target=\"_blank\" href=\"https://shebanq.ancient-data.org/hebrew/word?version=c&amp;id=1H\" title=\"Show this on SHEBANQ\"><span class=\"txtu hbo\">הַ</span></a></div><div class='features'><span class=\"lex xft\" ><span class=\"f\">lex=</span>H</span><span class=\"pdp xft\" ><span class=\"f\">pdp=</span>art</span></div></div><div class=\"contnr c0 trm rtl  \" ><div class=\"lbl c0 trm \" ><span class=\"nd\">387738</span> <a class=\" txtu hbo\" target=\"_blank\" href=\"https://shebanq.ancient-data.org/hebrew/word?version=c&amp;id=1ZH\" title=\"Show this on SHEBANQ\"><span class=\"txtu hbo\">זֶּ֗ה </span></a></div><div class='features'><span class=\"lex xft\" ><span class=\"f\">lex=</span>ZH</span><span class=\"pdp xft\" ><span class=\"f\">pdp=</span>prde</span></div></div></div></div></div></div><div class=\"contnr c1  rtl  \" ><div class=\"lbl c1  \" ><span class=\"nd\">phrase:885828</span></div><div class='features'><span class=\"function xft\" ><span class=\"f\">function=</span>Pred</span></div><div class=\"children hor wrap rtl\"><div class=\"contnr c1  rtl  \" ><div class=\"lbl c1  \" ><span class=\"nd\">phrase_atom:1151034</span></div><div class=\"children hor wrap rtl\"><div class=\"contnr c0 trm rtl  \" ><div class=\"lbl c0 trm \" ><span class=\"nd\">387739</span> <a class=\" txtu hbo\" target=\"_blank\" href=\"https://shebanq.ancient-data.org/hebrew/word?version=c&amp;id=1ASPv\" title=\"Show this on SHEBANQ\"><span class=\"txtu hbo\">נֶאֶסְפ֤וּ </span></a></div><div class='features'><span class=\"lex xft\" ><span class=\"f\">lex=</span>>SP[</span><span class=\"pdp xft\" ><span class=\"f\">pdp=</span>verb</span></div></div></div></div></div></div><div class=\"contnr c1  rtl  \" ><div class=\"lbl c1  \" ><span class=\"nd\">phrase:885829</span></div><div class='features'><span class=\"function xft\" ><span class=\"f\">function=</span>Subj</span></div><div class=\"children hor wrap rtl\"><div class=\"contnr c1  rtl  \" ><div class=\"lbl c1  \" ><span class=\"nd\">phrase_atom:1151035</span></div><div class=\"children hor wrap rtl\"><div class=\"contnr c0 trm rtl  \" ><div class=\"lbl c0 trm \" ><span class=\"nd\">387740</span> <a class=\" txtu hbo\" target=\"_blank\" href=\"https://shebanq.ancient-data.org/hebrew/word?version=c&amp;id=1BNn\" title=\"Show this on SHEBANQ\"><span class=\"txtu hbo\">בְנֵֽי־</span></a></div><div class='features'><span class=\"lex xft\" ><span class=\"f\">lex=</span>BN/</span><span class=\"pdp xft\" ><span class=\"f\">pdp=</span>subs</span><span class=\"st xft\" ><span class=\"f\">st=</span>c</span></div></div><div class=\"contnr c0 trm rtl  \" ><div class=\"lbl c0 trm \" ><span class=\"nd\">387741</span> <a class=\" txtu hbo\" target=\"_blank\" href=\"https://shebanq.ancient-data.org/hebrew/word?version=c&amp;id=1JFRALn\" title=\"Show this on SHEBANQ\"><span class=\"txtu hbo\">יִשְׂרָאֵל֙ </span></a></div><div class='features'><span class=\"lex xft\" ><span class=\"f\">lex=</span>JFR>L/</span><span class=\"pdp xft\" ><span class=\"f\">pdp=</span>nmpr</span><span class=\"st xft\" ><span class=\"f\">st=</span>a</span></div></div></div></div></div></div><div class=\"contnr c1  rtl  \" ><div class=\"lbl c1  \" ><span class=\"nd\">phrase:885830</span></div><div class='features'><span class=\"function xft\" ><span class=\"f\">function=</span>Cmpl</span></div><div class=\"children hor wrap rtl\"><div class=\"contnr c1  rtl  \" ><div class=\"lbl c1  \" ><span class=\"nd\">phrase_atom:1151036</span></div><div class=\"children hor wrap rtl\"><div class=\"contnr c0 trm rtl  \" ><div class=\"lbl c0 trm \" ><span class=\"nd\">387742</span> <a class=\" txtu hbo\" target=\"_blank\" href=\"https://shebanq.ancient-data.org/hebrew/word?version=c&amp;id=1B\" title=\"Show this on SHEBANQ\"><span class=\"txtu hbo\">בְּ</span></a></div><div class='features'><span class=\"lex xft\" ><span class=\"f\">lex=</span>B</span><span class=\"pdp xft\" ><span class=\"f\">pdp=</span>prep</span></div></div><div class=\"contnr c0 trm rtl  \" ><div class=\"lbl c0 trm \" ><span class=\"nd\">387743</span> <a class=\" txtu hbo\" target=\"_blank\" href=\"https://shebanq.ancient-data.org/hebrew/word?version=c&amp;id=1YWMn\" title=\"Show this on SHEBANQ\"><span class=\"txtu hbo\">צֹ֣ום </span></a></div><div class='features'><span class=\"lex xft\" ><span class=\"f\">lex=</span>YWM/</span><span class=\"pdp xft\" ><span class=\"f\">pdp=</span>subs</span><span class=\"st xft\" ><span class=\"f\">st=</span>a</span></div></div><div class=\"contnr c0 trm rtl  \" ><div class=\"lbl c0 trm \" ><span class=\"nd\">387744</span> <a class=\" txtu hbo\" target=\"_blank\" href=\"https://shebanq.ancient-data.org/hebrew/word?version=c&amp;id=1W\" title=\"Show this on SHEBANQ\"><span class=\"txtu hbo\">וּ</span></a></div><div class='features'><span class=\"lex xft\" ><span class=\"f\">lex=</span>W</span><span class=\"pdp xft\" ><span class=\"f\">pdp=</span>conj</span></div></div><div class=\"contnr c0 trm rtl  \" ><div class=\"lbl c0 trm \" ><span class=\"nd\">387745</span> <a class=\" txtu hbo\" target=\"_blank\" href=\"https://shebanq.ancient-data.org/hebrew/word?version=c&amp;id=1B\" title=\"Show this on SHEBANQ\"><span class=\"txtu hbo\">בְ</span></a></div><div class='features'><span class=\"lex xft\" ><span class=\"f\">lex=</span>B</span><span class=\"pdp xft\" ><span class=\"f\">pdp=</span>prep</span></div></div><div class=\"contnr c0 trm rtl  \" ><div class=\"lbl c0 trm \" ><span class=\"nd\">387746</span> <a class=\" txtu hbo\" target=\"_blank\" href=\"https://shebanq.ancient-data.org/hebrew/word?version=c&amp;id=1FQn\" title=\"Show this on SHEBANQ\"><span class=\"txtu hbo\">שַׂקִּ֔ים </span></a></div><div class='features'><span class=\"lex xft\" ><span class=\"f\">lex=</span>FQ/</span><span class=\"pdp xft\" ><span class=\"f\">pdp=</span>subs</span><span class=\"st xft\" ><span class=\"f\">st=</span>a</span></div></div></div></div></div></div></div></div></div></div></div>"
      ],
      "text/plain": [
       "<IPython.core.display.HTML object>"
      ]
     },
     "metadata": {},
     "output_type": "display_data"
    },
    {
     "data": {
      "text/html": [
       "<p><b>result</b> <i>9</i></p>"
      ],
      "text/plain": [
       "<IPython.core.display.HTML object>"
      ]
     },
     "metadata": {},
     "output_type": "display_data"
    },
    {
     "data": {
      "text/html": [
       "<div class=\"tfsechead rtl\"><a target=\"_blank\" href=\"https://shebanq.ancient-data.org/hebrew/text?book=Chronica_II&amp;chapter=7&amp;verse=10&amp;version=c&amp;mr=m&amp;qw=q&amp;tp=txt_p&amp;tr=hb&amp;wget=v&amp;qget=v&amp;nget=vt\" title=\"Show this on SHEBANQ\" sec=\"2_Chronicles 7:10\">2_Chronicles 7:10</a></div><div class=\"rtl children\"><div class=\"contnr c2  rtl  \" ><div class=\"lbl c2  \" ><span class=\"nd\">clause:512924</span></div><div class=\"children hor wrap rtl\"><div class=\"contnr c1  rtl  \" ><div class=\"lbl c1  \" ><span class=\"nd\">clause_atom:603511</span></div><div class=\"children hor wrap rtl\"><div class=\"contnr c1  rtl  \" ><div class=\"lbl c1  \" ><span class=\"nd\">phrase:896337</span></div><div class='features'><span class=\"function xft\" ><span class=\"f\">function=</span>Conj</span></div><div class=\"children hor wrap rtl\"><div class=\"contnr c1  rtl  \" ><div class=\"lbl c1  \" ><span class=\"nd\">phrase_atom:1163046</span></div><div class=\"children hor wrap rtl\"><div class=\"contnr c0 trm rtl  \" ><div class=\"lbl c0 trm \" ><span class=\"nd\">410262</span> <a class=\" txtu hbo\" target=\"_blank\" href=\"https://shebanq.ancient-data.org/hebrew/word?version=c&amp;id=1W\" title=\"Show this on SHEBANQ\"><span class=\"txtu hbo\">וּ</span></a></div><div class='features'><span class=\"lex xft\" ><span class=\"f\">lex=</span>W</span><span class=\"pdp xft\" ><span class=\"f\">pdp=</span>conj</span></div></div></div></div></div></div><div class=\"contnr c1  rtl  hl\" ><div class=\"lbl c1  hl\" ><span class=\"nd\">phrase:896338</span></div><div class='features'><span class=\"function xft\" ><span class=\"f\">function=</span>Time</span></div><div class=\"children hor wrap rtl\"><div class=\"contnr c1  rtl  \" ><div class=\"lbl c1  \" ><span class=\"nd\">phrase_atom:1163047</span></div><div class=\"children hor wrap rtl\"><div class=\"contnr c0 trm rtl  \" ><div class=\"lbl c0 trm \" ><span class=\"nd\">410263</span> <a class=\" txtu hbo\" target=\"_blank\" href=\"https://shebanq.ancient-data.org/hebrew/word?version=c&amp;id=1B\" title=\"Show this on SHEBANQ\"><span class=\"txtu hbo\">בְ</span></a></div><div class='features'><span class=\"lex xft\" ><span class=\"f\">lex=</span>B</span><span class=\"pdp xft\" ><span class=\"f\">pdp=</span>prep</span></div></div><div class=\"contnr c0 trm rtl  hl\" ><div class=\"lbl c0 trm hl\" ><span class=\"nd\">410264</span> <a class=\" txtu hbo\" target=\"_blank\" href=\"https://shebanq.ancient-data.org/hebrew/word?version=c&amp;id=1JWMn\" title=\"Show this on SHEBANQ\"><span class=\"txtu hbo\">יֹ֨ום </span></a></div><div class='features'><span class=\"lex xft\" ><span class=\"f\">lex=</span>JWM/</span><span class=\"pdp xft\" ><span class=\"f\">pdp=</span>subs</span><span class=\"st xft\" ><span class=\"f\">st=</span>c</span></div></div><div class=\"contnr c0 trm rtl  hl\" ><div class=\"lbl c0 trm hl\" ><span class=\"nd\">410265</span> <a class=\" txtu hbo\" target=\"_blank\" href=\"https://shebanq.ancient-data.org/hebrew/word?version=c&amp;id=1OFRJMn\" title=\"Show this on SHEBANQ\"><span class=\"txtu hbo\">עֶשְׂרִ֤ים </span></a></div><div class='features'><span class=\"lex xft\" ><span class=\"f\">lex=</span>&lt;FRJM/</span><span class=\"pdp xft\" ><span class=\"f\">pdp=</span>subs</span><span class=\"st xft\" ><span class=\"f\">st=</span>a</span></div></div><div class=\"contnr c0 trm rtl  \" ><div class=\"lbl c0 trm \" ><span class=\"nd\">410266</span> <a class=\" txtu hbo\" target=\"_blank\" href=\"https://shebanq.ancient-data.org/hebrew/word?version=c&amp;id=1W\" title=\"Show this on SHEBANQ\"><span class=\"txtu hbo\">וּ</span></a></div><div class='features'><span class=\"lex xft\" ><span class=\"f\">lex=</span>W</span><span class=\"pdp xft\" ><span class=\"f\">pdp=</span>conj</span></div></div><div class=\"contnr c0 trm rtl  \" ><div class=\"lbl c0 trm \" ><span class=\"nd\">410267</span> <a class=\" txtu hbo\" target=\"_blank\" href=\"https://shebanq.ancient-data.org/hebrew/word?version=c&amp;id=1CLCn\" title=\"Show this on SHEBANQ\"><span class=\"txtu hbo\">שְׁלֹשָׁה֙ </span></a></div><div class='features'><span class=\"lex xft\" ><span class=\"f\">lex=</span>CLC/</span><span class=\"pdp xft\" ><span class=\"f\">pdp=</span>subs</span><span class=\"st xft\" ><span class=\"f\">st=</span>a</span></div></div></div></div><div class=\"contnr c1  rtl  \" ><div class=\"lbl c1  \" ><span class=\"nd\">phrase_atom:1163048</span></div><div class='features'><span class=\"rela xft\" ><span class=\"f\">rela=</span>Spec</span></div><div class=\"children hor wrap rtl\"><div class=\"contnr c0 trm rtl  \" ><div class=\"lbl c0 trm \" ><span class=\"nd\">410268</span> <a class=\" txtu hbo\" target=\"_blank\" href=\"https://shebanq.ancient-data.org/hebrew/word?version=c&amp;id=1L\" title=\"Show this on SHEBANQ\"><span class=\"txtu hbo\">לַ</span></a></div><div class='features'><span class=\"lex xft\" ><span class=\"f\">lex=</span>L</span><span class=\"pdp xft\" ><span class=\"f\">pdp=</span>prep</span></div></div><div class=\"contnr c0 trm rtl  \" ><div class=\"lbl c0 trm \" ><span class=\"nd\">410269</span> <a class=\" txtu hbo\" target=\"_blank\" href=\"https://shebanq.ancient-data.org/hebrew/word?version=c&amp;id=1H\" title=\"Show this on SHEBANQ\"></a></div><div class='features'><span class=\"lex xft\" ><span class=\"f\">lex=</span>H</span><span class=\"pdp xft\" ><span class=\"f\">pdp=</span>art</span></div></div><div class=\"contnr c0 trm rtl  \" ><div class=\"lbl c0 trm \" ><span class=\"nd\">410270</span> <a class=\" txtu hbo\" target=\"_blank\" href=\"https://shebanq.ancient-data.org/hebrew/word?version=c&amp;id=1XDCin\" title=\"Show this on SHEBANQ\"><span class=\"txtu hbo\">חֹ֣דֶשׁ </span></a></div><div class='features'><span class=\"lex xft\" ><span class=\"f\">lex=</span>XDC=/</span><span class=\"pdp xft\" ><span class=\"f\">pdp=</span>subs</span><span class=\"st xft\" ><span class=\"f\">st=</span>a</span></div></div><div class=\"contnr c0 trm rtl  \" ><div class=\"lbl c0 trm \" ><span class=\"nd\">410271</span> <a class=\" txtu hbo\" target=\"_blank\" href=\"https://shebanq.ancient-data.org/hebrew/word?version=c&amp;id=1H\" title=\"Show this on SHEBANQ\"><span class=\"txtu hbo\">הַ</span></a></div><div class='features'><span class=\"lex xft\" ><span class=\"f\">lex=</span>H</span><span class=\"pdp xft\" ><span class=\"f\">pdp=</span>art</span></div></div><div class=\"contnr c0 trm rtl  \" ><div class=\"lbl c0 trm \" ><span class=\"nd\">410272</span> <a class=\" txtu hbo\" target=\"_blank\" href=\"https://shebanq.ancient-data.org/hebrew/word?version=c&amp;id=1CBJOJn\" title=\"Show this on SHEBANQ\"><span class=\"txtu hbo\">שְּׁבִיעִ֔י </span></a></div><div class='features'><span class=\"lex xft\" ><span class=\"f\">lex=</span>CBJ&lt;J/</span><span class=\"pdp xft\" ><span class=\"f\">pdp=</span>adjv</span><span class=\"st xft\" ><span class=\"f\">st=</span>a</span></div></div></div></div></div></div><div class=\"contnr c1  rtl  \" ><div class=\"lbl c1  \" ><span class=\"nd\">phrase:896339</span></div><div class='features'><span class=\"function xft\" ><span class=\"f\">function=</span>Pred</span></div><div class=\"children hor wrap rtl\"><div class=\"contnr c1  rtl  \" ><div class=\"lbl c1  \" ><span class=\"nd\">phrase_atom:1163049</span></div><div class=\"children hor wrap rtl\"><div class=\"contnr c0 trm rtl  \" ><div class=\"lbl c0 trm \" ><span class=\"nd\">410273</span> <a class=\" txtu hbo\" target=\"_blank\" href=\"https://shebanq.ancient-data.org/hebrew/word?version=c&amp;id=1CLXv\" title=\"Show this on SHEBANQ\"><span class=\"txtu hbo\">שִׁלַּ֥ח </span></a></div><div class='features'><span class=\"lex xft\" ><span class=\"f\">lex=</span>CLX[</span><span class=\"pdp xft\" ><span class=\"f\">pdp=</span>verb</span></div></div></div></div></div></div><div class=\"contnr c1  rtl  \" ><div class=\"lbl c1  \" ><span class=\"nd\">phrase:896340</span></div><div class='features'><span class=\"function xft\" ><span class=\"f\">function=</span>Objc</span></div><div class=\"children hor wrap rtl\"><div class=\"contnr c1  rtl  \" ><div class=\"lbl c1  \" ><span class=\"nd\">phrase_atom:1163050</span></div><div class=\"children hor wrap rtl\"><div class=\"contnr c0 trm rtl  \" ><div class=\"lbl c0 trm \" ><span class=\"nd\">410274</span> <a class=\" txtu hbo\" target=\"_blank\" href=\"https://shebanq.ancient-data.org/hebrew/word?version=c&amp;id=1AT\" title=\"Show this on SHEBANQ\"><span class=\"txtu hbo\">אֶת־</span></a></div><div class='features'><span class=\"lex xft\" ><span class=\"f\">lex=</span>>T</span><span class=\"pdp xft\" ><span class=\"f\">pdp=</span>prep</span></div></div><div class=\"contnr c0 trm rtl  \" ><div class=\"lbl c0 trm \" ><span class=\"nd\">410275</span> <a class=\" txtu hbo\" target=\"_blank\" href=\"https://shebanq.ancient-data.org/hebrew/word?version=c&amp;id=1H\" title=\"Show this on SHEBANQ\"><span class=\"txtu hbo\">הָ</span></a></div><div class='features'><span class=\"lex xft\" ><span class=\"f\">lex=</span>H</span><span class=\"pdp xft\" ><span class=\"f\">pdp=</span>art</span></div></div><div class=\"contnr c0 trm rtl  \" ><div class=\"lbl c0 trm \" ><span class=\"nd\">410276</span> <a class=\" txtu hbo\" target=\"_blank\" href=\"https://shebanq.ancient-data.org/hebrew/word?version=c&amp;id=1OMn\" title=\"Show this on SHEBANQ\"><span class=\"txtu hbo\">עָ֖ם </span></a></div><div class='features'><span class=\"lex xft\" ><span class=\"f\">lex=</span>&lt;M/</span><span class=\"pdp xft\" ><span class=\"f\">pdp=</span>subs</span><span class=\"st xft\" ><span class=\"f\">st=</span>a</span></div></div></div></div></div></div><div class=\"contnr c1  rtl  \" ><div class=\"lbl c1  \" ><span class=\"nd\">phrase:896341</span></div><div class='features'><span class=\"function xft\" ><span class=\"f\">function=</span>Cmpl</span></div><div class=\"children hor wrap rtl\"><div class=\"contnr c1  rtl  \" ><div class=\"lbl c1  \" ><span class=\"nd\">phrase_atom:1163051</span></div><div class=\"children hor wrap rtl\"><div class=\"contnr c0 trm rtl  \" ><div class=\"lbl c0 trm \" ><span class=\"nd\">410277</span> <a class=\" txtu hbo\" target=\"_blank\" href=\"https://shebanq.ancient-data.org/hebrew/word?version=c&amp;id=1L\" title=\"Show this on SHEBANQ\"><span class=\"txtu hbo\">לְ</span></a></div><div class='features'><span class=\"lex xft\" ><span class=\"f\">lex=</span>L</span><span class=\"pdp xft\" ><span class=\"f\">pdp=</span>prep</span></div></div><div class=\"contnr c0 trm rtl  \" ><div class=\"lbl c0 trm \" ><span class=\"nd\">410278</span> <a class=\" txtu hbo\" target=\"_blank\" href=\"https://shebanq.ancient-data.org/hebrew/word?version=c&amp;id=1AHLn\" title=\"Show this on SHEBANQ\"><span class=\"txtu hbo\">אָהֳלֵיהֶ֑ם </span></a></div><div class='features'><span class=\"lex xft\" ><span class=\"f\">lex=</span>>HL/</span><span class=\"pdp xft\" ><span class=\"f\">pdp=</span>subs</span><span class=\"st xft\" ><span class=\"f\">st=</span>a</span></div></div></div></div></div></div><div class=\"contnr c1  rtl  \" ><div class=\"lbl c1  \" ><span class=\"nd\">phrase:896342</span></div><div class='features'><span class=\"function xft\" ><span class=\"f\">function=</span>PrAd</span><span class=\"rela xft\" ><span class=\"f\">rela=</span>PrAd</span></div><div class=\"children hor wrap rtl\"><div class=\"contnr c1  rtl  \" ><div class=\"lbl c1  \" ><span class=\"nd\">phrase_atom:1163052</span></div><div class=\"children hor wrap rtl\"><div class=\"contnr c0 trm rtl  \" ><div class=\"lbl c0 trm \" ><span class=\"nd\">410279</span> <a class=\" txtu hbo\" target=\"_blank\" href=\"https://shebanq.ancient-data.org/hebrew/word?version=c&amp;id=1FMXn\" title=\"Show this on SHEBANQ\"><span class=\"txtu hbo\">שְׂמֵחִים֙ </span></a></div><div class='features'><span class=\"lex xft\" ><span class=\"f\">lex=</span>FMX/</span><span class=\"pdp xft\" ><span class=\"f\">pdp=</span>adjv</span><span class=\"st xft\" ><span class=\"f\">st=</span>a</span></div></div><div class=\"contnr c0 trm rtl  \" ><div class=\"lbl c0 trm \" ><span class=\"nd\">410280</span> <a class=\" txtu hbo\" target=\"_blank\" href=\"https://shebanq.ancient-data.org/hebrew/word?version=c&amp;id=1W\" title=\"Show this on SHEBANQ\"><span class=\"txtu hbo\">וְ</span></a></div><div class='features'><span class=\"lex xft\" ><span class=\"f\">lex=</span>W</span><span class=\"pdp xft\" ><span class=\"f\">pdp=</span>conj</span></div></div><div class=\"contnr c0 trm rtl  \" ><div class=\"lbl c0 trm \" ><span class=\"nd\">410281</span> <a class=\" txtu hbo\" target=\"_blank\" href=\"https://shebanq.ancient-data.org/hebrew/word?version=c&amp;id=1VWBn\" title=\"Show this on SHEBANQ\"><span class=\"txtu hbo\">טֹ֣ובֵי </span></a></div><div class='features'><span class=\"lex xft\" ><span class=\"f\">lex=</span>VWB/</span><span class=\"pdp xft\" ><span class=\"f\">pdp=</span>adjv</span><span class=\"st xft\" ><span class=\"f\">st=</span>c</span></div></div><div class=\"contnr c0 trm rtl  \" ><div class=\"lbl c0 trm \" ><span class=\"nd\">410282</span> <a class=\" txtu hbo\" target=\"_blank\" href=\"https://shebanq.ancient-data.org/hebrew/word?version=c&amp;id=1LBn\" title=\"Show this on SHEBANQ\"><span class=\"txtu hbo\">לֵ֔ב </span></a></div><div class='features'><span class=\"lex xft\" ><span class=\"f\">lex=</span>LB/</span><span class=\"pdp xft\" ><span class=\"f\">pdp=</span>subs</span><span class=\"st xft\" ><span class=\"f\">st=</span>a</span></div></div></div></div><div class=\"contnr c1  rtl  \" ><div class=\"lbl c1  \" ><span class=\"nd\">phrase_atom:1163053</span></div><div class='features'><span class=\"rela xft\" ><span class=\"f\">rela=</span>Spec</span></div><div class=\"children hor wrap rtl\"><div class=\"contnr c0 trm rtl  \" ><div class=\"lbl c0 trm \" ><span class=\"nd\">410283</span> <a class=\" txtu hbo\" target=\"_blank\" href=\"https://shebanq.ancient-data.org/hebrew/word?version=c&amp;id=1OL\" title=\"Show this on SHEBANQ\"><span class=\"txtu hbo\">עַל־</span></a></div><div class='features'><span class=\"lex xft\" ><span class=\"f\">lex=</span>&lt;L</span><span class=\"pdp xft\" ><span class=\"f\">pdp=</span>prep</span></div></div><div class=\"contnr c0 trm rtl  \" ><div class=\"lbl c0 trm \" ><span class=\"nd\">410284</span> <a class=\" txtu hbo\" target=\"_blank\" href=\"https://shebanq.ancient-data.org/hebrew/word?version=c&amp;id=1H\" title=\"Show this on SHEBANQ\"><span class=\"txtu hbo\">הַ</span></a></div><div class='features'><span class=\"lex xft\" ><span class=\"f\">lex=</span>H</span><span class=\"pdp xft\" ><span class=\"f\">pdp=</span>art</span></div></div><div class=\"contnr c0 trm rtl  \" ><div class=\"lbl c0 trm \" ><span class=\"nd\">410285</span> <a class=\" txtu hbo\" target=\"_blank\" href=\"https://shebanq.ancient-data.org/hebrew/word?version=c&amp;id=1VWBHn\" title=\"Show this on SHEBANQ\"><span class=\"txtu hbo\">טֹּובָ֗ה </span></a></div><div class='features'><span class=\"lex xft\" ><span class=\"f\">lex=</span>VWBH/</span><span class=\"pdp xft\" ><span class=\"f\">pdp=</span>subs</span><span class=\"st xft\" ><span class=\"f\">st=</span>a</span></div></div></div></div></div></div></div></div></div></div></div>"
      ],
      "text/plain": [
       "<IPython.core.display.HTML object>"
      ]
     },
     "metadata": {},
     "output_type": "display_data"
    },
    {
     "data": {
      "text/html": [
       "<p><b>result</b> <i>10</i></p>"
      ],
      "text/plain": [
       "<IPython.core.display.HTML object>"
      ]
     },
     "metadata": {},
     "output_type": "display_data"
    },
    {
     "data": {
      "text/html": [
       "<div class=\"tfsechead rtl\"><a target=\"_blank\" href=\"https://shebanq.ancient-data.org/hebrew/text?book=Chronica_II&amp;chapter=29&amp;verse=17&amp;version=c&amp;mr=m&amp;qw=q&amp;tp=txt_p&amp;tr=hb&amp;wget=v&amp;qget=v&amp;nget=vt\" title=\"Show this on SHEBANQ\" sec=\"2_Chronicles 29:17\">2_Chronicles 29:17</a></div><div class=\"rtl children\"><div class=\"contnr c2  rtl  \" ><div class=\"lbl c2  \" ><span class=\"nd\">clause:514854</span></div><div class=\"children hor wrap rtl\"><div class=\"contnr c1  rtl  \" ><div class=\"lbl c1  \" ><span class=\"nd\">clause_atom:605501</span></div><div class=\"children hor wrap rtl\"><div class=\"contnr c1  rtl  \" ><div class=\"lbl c1  \" ><span class=\"nd\">phrase:902210</span></div><div class='features'><span class=\"function xft\" ><span class=\"f\">function=</span>Conj</span></div><div class=\"children hor wrap rtl\"><div class=\"contnr c1  rtl  \" ><div class=\"lbl c1  \" ><span class=\"nd\">phrase_atom:1169468</span></div><div class=\"children hor wrap rtl\"><div class=\"contnr c0 trm rtl  \" ><div class=\"lbl c0 trm \" ><span class=\"nd\">421341</span> <a class=\" txtu hbo\" target=\"_blank\" href=\"https://shebanq.ancient-data.org/hebrew/word?version=c&amp;id=1W\" title=\"Show this on SHEBANQ\"><span class=\"txtu hbo\">וּ</span></a></div><div class='features'><span class=\"lex xft\" ><span class=\"f\">lex=</span>W</span><span class=\"pdp xft\" ><span class=\"f\">pdp=</span>conj</span></div></div></div></div></div></div><div class=\"contnr c1  rtl  hl\" ><div class=\"lbl c1  hl\" ><span class=\"nd\">phrase:902211</span></div><div class='features'><span class=\"function xft\" ><span class=\"f\">function=</span>Time</span></div><div class=\"children hor wrap rtl\"><div class=\"contnr c1  rtl  \" ><div class=\"lbl c1  \" ><span class=\"nd\">phrase_atom:1169469</span></div><div class=\"children hor wrap rtl\"><div class=\"contnr c0 trm rtl  \" ><div class=\"lbl c0 trm \" ><span class=\"nd\">421342</span> <a class=\" txtu hbo\" target=\"_blank\" href=\"https://shebanq.ancient-data.org/hebrew/word?version=c&amp;id=1B\" title=\"Show this on SHEBANQ\"><span class=\"txtu hbo\">בְ</span></a></div><div class='features'><span class=\"lex xft\" ><span class=\"f\">lex=</span>B</span><span class=\"pdp xft\" ><span class=\"f\">pdp=</span>prep</span></div></div><div class=\"contnr c0 trm rtl  hl\" ><div class=\"lbl c0 trm hl\" ><span class=\"nd\">421343</span> <a class=\" txtu hbo\" target=\"_blank\" href=\"https://shebanq.ancient-data.org/hebrew/word?version=c&amp;id=1JWMn\" title=\"Show this on SHEBANQ\"><span class=\"txtu hbo\">יֹ֨ום </span></a></div><div class='features'><span class=\"lex xft\" ><span class=\"f\">lex=</span>JWM/</span><span class=\"pdp xft\" ><span class=\"f\">pdp=</span>subs</span><span class=\"st xft\" ><span class=\"f\">st=</span>c</span></div></div><div class=\"contnr c0 trm rtl  hl\" ><div class=\"lbl c0 trm hl\" ><span class=\"nd\">421344</span> <a class=\" txtu hbo\" target=\"_blank\" href=\"https://shebanq.ancient-data.org/hebrew/word?version=c&amp;id=1CCn\" title=\"Show this on SHEBANQ\"><span class=\"txtu hbo\">שִׁשָּׁ֥ה </span></a></div><div class='features'><span class=\"lex xft\" ><span class=\"f\">lex=</span>CC/</span><span class=\"pdp xft\" ><span class=\"f\">pdp=</span>subs</span><span class=\"st xft\" ><span class=\"f\">st=</span>a</span></div></div><div class=\"contnr c0 trm rtl  \" ><div class=\"lbl c0 trm \" ><span class=\"nd\">421345</span> <a class=\" txtu hbo\" target=\"_blank\" href=\"https://shebanq.ancient-data.org/hebrew/word?version=c&amp;id=1OFRn\" title=\"Show this on SHEBANQ\"><span class=\"txtu hbo\">עָשָׂ֛ר </span></a></div><div class='features'><span class=\"lex xft\" ><span class=\"f\">lex=</span>&lt;FR/</span><span class=\"pdp xft\" ><span class=\"f\">pdp=</span>subs</span><span class=\"st xft\" ><span class=\"f\">st=</span>a</span></div></div></div></div><div class=\"contnr c1  rtl  \" ><div class=\"lbl c1  \" ><span class=\"nd\">phrase_atom:1169470</span></div><div class='features'><span class=\"rela xft\" ><span class=\"f\">rela=</span>Spec</span></div><div class=\"children hor wrap rtl\"><div class=\"contnr c0 trm rtl  \" ><div class=\"lbl c0 trm \" ><span class=\"nd\">421346</span> <a class=\" txtu hbo\" target=\"_blank\" href=\"https://shebanq.ancient-data.org/hebrew/word?version=c&amp;id=1L\" title=\"Show this on SHEBANQ\"><span class=\"txtu hbo\">לַ</span></a></div><div class='features'><span class=\"lex xft\" ><span class=\"f\">lex=</span>L</span><span class=\"pdp xft\" ><span class=\"f\">pdp=</span>prep</span></div></div><div class=\"contnr c0 trm rtl  \" ><div class=\"lbl c0 trm \" ><span class=\"nd\">421347</span> <a class=\" txtu hbo\" target=\"_blank\" href=\"https://shebanq.ancient-data.org/hebrew/word?version=c&amp;id=1H\" title=\"Show this on SHEBANQ\"></a></div><div class='features'><span class=\"lex xft\" ><span class=\"f\">lex=</span>H</span><span class=\"pdp xft\" ><span class=\"f\">pdp=</span>art</span></div></div><div class=\"contnr c0 trm rtl  \" ><div class=\"lbl c0 trm \" ><span class=\"nd\">421348</span> <a class=\" txtu hbo\" target=\"_blank\" href=\"https://shebanq.ancient-data.org/hebrew/word?version=c&amp;id=1XDCin\" title=\"Show this on SHEBANQ\"><span class=\"txtu hbo\">חֹ֥דֶשׁ </span></a></div><div class='features'><span class=\"lex xft\" ><span class=\"f\">lex=</span>XDC=/</span><span class=\"pdp xft\" ><span class=\"f\">pdp=</span>subs</span><span class=\"st xft\" ><span class=\"f\">st=</span>a</span></div></div><div class=\"contnr c0 trm rtl  \" ><div class=\"lbl c0 trm \" ><span class=\"nd\">421349</span> <a class=\" txtu hbo\" target=\"_blank\" href=\"https://shebanq.ancient-data.org/hebrew/word?version=c&amp;id=1H\" title=\"Show this on SHEBANQ\"><span class=\"txtu hbo\">הָ</span></a></div><div class='features'><span class=\"lex xft\" ><span class=\"f\">lex=</span>H</span><span class=\"pdp xft\" ><span class=\"f\">pdp=</span>art</span></div></div><div class=\"contnr c0 trm rtl  \" ><div class=\"lbl c0 trm \" ><span class=\"nd\">421350</span> <a class=\" txtu hbo\" target=\"_blank\" href=\"https://shebanq.ancient-data.org/hebrew/word?version=c&amp;id=1RACWNn\" title=\"Show this on SHEBANQ\"><span class=\"txtu hbo\">רִאשֹׁ֖ון </span></a></div><div class='features'><span class=\"lex xft\" ><span class=\"f\">lex=</span>R>CWN/</span><span class=\"pdp xft\" ><span class=\"f\">pdp=</span>adjv</span><span class=\"st xft\" ><span class=\"f\">st=</span>a</span></div></div></div></div></div></div><div class=\"contnr c1  rtl  \" ><div class=\"lbl c1  \" ><span class=\"nd\">phrase:902212</span></div><div class='features'><span class=\"function xft\" ><span class=\"f\">function=</span>Pred</span></div><div class=\"children hor wrap rtl\"><div class=\"contnr c1  rtl  \" ><div class=\"lbl c1  \" ><span class=\"nd\">phrase_atom:1169471</span></div><div class=\"children hor wrap rtl\"><div class=\"contnr c0 trm rtl  \" ><div class=\"lbl c0 trm \" ><span class=\"nd\">421351</span> <a class=\" txtu hbo\" target=\"_blank\" href=\"https://shebanq.ancient-data.org/hebrew/word?version=c&amp;id=1KLHv\" title=\"Show this on SHEBANQ\"><span class=\"txtu hbo\">כִּלּֽוּ׃ ס </span></a></div><div class='features'><span class=\"lex xft\" ><span class=\"f\">lex=</span>KLH[</span><span class=\"pdp xft\" ><span class=\"f\">pdp=</span>verb</span></div></div></div></div></div></div></div></div></div></div></div>"
      ],
      "text/plain": [
       "<IPython.core.display.HTML object>"
      ]
     },
     "metadata": {},
     "output_type": "display_data"
    }
   ],
   "source": [
    "A.show(query, end=200, condenseType='clause', hiddenTypes={'subphrase'}, extraFeatures='rela st pdp lex function')"
   ]
  },
  {
   "cell_type": "markdown",
   "metadata": {},
   "source": [
    "## Investigate Accent Separators"
   ]
  },
  {
   "cell_type": "code",
   "execution_count": 115,
   "metadata": {},
   "outputs": [],
   "source": [
    "import json"
   ]
  },
  {
   "cell_type": "code",
   "execution_count": 122,
   "metadata": {},
   "outputs": [],
   "source": [
    "with open('../../results/disambigs/accentseps.json', 'r') as infile:\n",
    "    accentseps = json.load(infile)"
   ]
  },
  {
   "cell_type": "code",
   "execution_count": 124,
   "metadata": {},
   "outputs": [
    {
     "data": {
      "text/plain": [
       "682"
      ]
     },
     "execution_count": 124,
     "metadata": {},
     "output_type": "execute_result"
    }
   ],
   "source": [
    "len(accentseps)"
   ]
  },
  {
   "cell_type": "code",
   "execution_count": 125,
   "metadata": {},
   "outputs": [],
   "source": [
    "# for w in accentseps[:100]:\n",
    "#     ph = L.u(w, 'phrase_atom')\n",
    "#     A.prettyTuple(ph, seq=0, condenseType='phrase', highlights={w})"
   ]
  },
  {
   "cell_type": "code",
   "execution_count": null,
   "metadata": {},
   "outputs": [],
   "source": []
  }
 ],
 "metadata": {
  "kernelspec": {
   "display_name": "Python 3",
   "language": "python",
   "name": "python3"
  },
  "language_info": {
   "codemirror_mode": {
    "name": "ipython",
    "version": 3
   },
   "file_extension": ".py",
   "mimetype": "text/x-python",
   "name": "python",
   "nbconvert_exporter": "python",
   "pygments_lexer": "ipython3",
   "version": "3.8.5"
  }
 },
 "nbformat": 4,
 "nbformat_minor": 4
}
