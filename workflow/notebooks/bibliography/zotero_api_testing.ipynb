{
 "cells": [
  {
   "cell_type": "markdown",
   "metadata": {},
   "source": [
    "# Getting acquainted with pyzotero (+bibtexparser)"
   ]
  },
  {
   "cell_type": "code",
   "execution_count": 1,
   "metadata": {},
   "outputs": [],
   "source": [
    "from pyzotero import zotero\n",
    "import bibtexparser\n",
    "import json\n",
    "with open('/Users/cody/Desktop/ZOTERO_KEYS.json', 'r') as infile:\n",
    "    zcreds = json.load(infile)\n",
    "zot = zotero.Zotero(\n",
    "    zcreds['LIB_ID'],\n",
    "    zcreds['LIB_TYPE'], \n",
    "    zcreds['API_KEY'],\n",
    ")"
   ]
  },
  {
   "cell_type": "markdown",
   "metadata": {},
   "source": [
    "## Retrieving top-level items"
   ]
  },
  {
   "cell_type": "code",
   "execution_count": 2,
   "metadata": {},
   "outputs": [
    {
     "name": "stdout",
     "output_type": "stream",
     "text": [
      "AlphaGo: Mastering the ancient game of Go with Machine Learning\n",
      "[{'creatorType': 'author', 'firstName': 'Hassabis, Demis', 'lastName': 'Silver, David'}]\n",
      "\n",
      "A Brief History of Science as Seen Through the Development of Scientific Instruments\n",
      "[{'creatorType': 'author', 'firstName': 'Thomas', 'lastName': 'Crump'}]\n",
      "\n",
      "The Structure of Scientific Revolutions\n",
      "[{'creatorType': 'author', 'firstName': 'Thomas', 'lastName': 'Kuhn'}]\n",
      "\n",
      "Empirical cognitive semantics: Some thoughts\n",
      "[{'creatorType': 'author', 'firstName': 'Anatol', 'lastName': 'Stefanowitsch'}, {'creatorType': 'editor', 'firstName': 'Dylan', 'lastName': 'Glynn'}, {'creatorType': 'editor', 'firstName': 'Kertin', 'lastName': 'Fischer'}]\n",
      "\n",
      "A classification of the Hebrew verbs in the Karaite grammatical tradition: the method of symbols\n",
      "[{'creatorType': 'author', 'firstName': 'Nadia', 'lastName': 'Vidro'}, {'creatorType': 'editor', 'firstName': 'Elitzur Bar-Asher', 'lastName': 'Siegal'}, {'creatorType': 'editor', 'firstName': 'Doron', 'lastName': \"Ya'akov\"}]\n",
      "\n"
     ]
    }
   ],
   "source": [
    "items = zot.top(limit=5)\n",
    "\n",
    "for item in items:\n",
    "    print(item['data']['title'])\n",
    "    print(item['data']['creators'])\n",
    "    print()"
   ]
  },
  {
   "cell_type": "code",
   "execution_count": 3,
   "metadata": {},
   "outputs": [
    {
     "data": {
      "text/plain": [
       "{'key': 'HDXZRYTR',\n",
       " 'version': 1148,\n",
       " 'library': {'type': 'user',\n",
       "  'id': 4501072,\n",
       "  'name': 'codykingham',\n",
       "  'links': {'alternate': {'href': 'https://www.zotero.org/codykingham',\n",
       "    'type': 'text/html'}}},\n",
       " 'links': {'self': {'href': 'https://api.zotero.org/users/4501072/items/HDXZRYTR',\n",
       "   'type': 'application/json'},\n",
       "  'alternate': {'href': 'https://www.zotero.org/codykingham/items/HDXZRYTR',\n",
       "   'type': 'text/html'}},\n",
       " 'meta': {'creatorSummary': 'Vidro', 'parsedDate': '2000', 'numChildren': 0},\n",
       " 'data': {'key': 'HDXZRYTR',\n",
       "  'version': 1148,\n",
       "  'itemType': 'bookSection',\n",
       "  'title': 'A classification of the Hebrew verbs in the Karaite grammatical tradition: the method of symbols',\n",
       "  'creators': [{'creatorType': 'author',\n",
       "    'firstName': 'Nadia',\n",
       "    'lastName': 'Vidro'},\n",
       "   {'creatorType': 'editor',\n",
       "    'firstName': 'Elitzur Bar-Asher',\n",
       "    'lastName': 'Siegal'},\n",
       "   {'creatorType': 'editor', 'firstName': 'Doron', 'lastName': \"Ya'akov\"}],\n",
       "  'abstractNote': '',\n",
       "  'bookTitle': 'Medieval Hebrew and Aramaic: Studies in Language and Grammatical Thought',\n",
       "  'series': '',\n",
       "  'seriesNumber': '',\n",
       "  'volume': '',\n",
       "  'numberOfVolumes': '',\n",
       "  'edition': '',\n",
       "  'place': '',\n",
       "  'publisher': '',\n",
       "  'date': '2000',\n",
       "  'pages': '314-326',\n",
       "  'language': 'hebrew',\n",
       "  'ISBN': '',\n",
       "  'shortTitle': '',\n",
       "  'url': '',\n",
       "  'accessDate': '',\n",
       "  'archive': '',\n",
       "  'archiveLocation': '',\n",
       "  'libraryCatalog': '',\n",
       "  'callNumber': '',\n",
       "  'rights': '',\n",
       "  'extra': '',\n",
       "  'tags': [],\n",
       "  'collections': ['47898DDP'],\n",
       "  'relations': {},\n",
       "  'dateAdded': '2021-03-24T13:19:41Z',\n",
       "  'dateModified': '2021-03-24T13:20:02Z'}}"
      ]
     },
     "execution_count": 3,
     "metadata": {},
     "output_type": "execute_result"
    }
   ],
   "source": [
    "item"
   ]
  },
  {
   "cell_type": "markdown",
   "metadata": {},
   "source": [
    "## Searching for single items"
   ]
  },
  {
   "cell_type": "code",
   "execution_count": 4,
   "metadata": {},
   "outputs": [
    {
     "data": {
      "text/plain": [
       "<bibtexparser.bibdatabase.BibDatabase at 0x7fbd70c7b0d0>"
      ]
     },
     "execution_count": 4,
     "metadata": {},
     "output_type": "execute_result"
    }
   ],
   "source": [
    "# find James Barr's book with a quick search\n",
    "# retrieve a bibdatabase object\n",
    "barr = zot.items(q='alphago', format='biblatex')\n",
    "\n",
    "barr"
   ]
  },
  {
   "cell_type": "code",
   "execution_count": 5,
   "metadata": {},
   "outputs": [
    {
     "data": {
      "text/plain": [
       "{'silver_david_alphago_2016': {'langid': 'english',\n",
       "  'date': '2016-01-27',\n",
       "  'urldate': '2021-03-24',\n",
       "  'author': 'Silver, David, Demis, Hassabis',\n",
       "  'titleaddon': 'Google {AI} Blog',\n",
       "  'abstract': 'Posted by David Silver and Demis Hassabis, Google {DeepMind} Games are a great testing ground for developing smarter, more flexible algorithms...',\n",
       "  'shorttitle': '{AlphaGo}',\n",
       "  'url': 'http://ai.googleblog.com/2016/01/alphago-mastering-ancient-game-of-go.html',\n",
       "  'title': '{AlphaGo}: Mastering the ancient game of Go with Machine Learning',\n",
       "  'ENTRYTYPE': 'online',\n",
       "  'ID': 'silver_david_alphago_2016'}}"
      ]
     },
     "execution_count": 5,
     "metadata": {},
     "output_type": "execute_result"
    }
   ],
   "source": [
    "# as a dict\n",
    "barr.get_entry_dict()"
   ]
  },
  {
   "cell_type": "code",
   "execution_count": 6,
   "metadata": {},
   "outputs": [
    {
     "name": "stdout",
     "output_type": "stream",
     "text": [
      "@online{silver_david_alphago_2016,\n",
      " abstract = {Posted by David Silver and Demis Hassabis, Google {DeepMind} Games are a great testing ground for developing smarter, more flexible algorithms...},\n",
      " author = {Silver, David, Demis, Hassabis},\n",
      " date = {2016-01-27},\n",
      " langid = {english},\n",
      " shorttitle = {{AlphaGo}},\n",
      " title = {{AlphaGo}: Mastering the ancient game of Go with Machine Learning},\n",
      " titleaddon = {Google {AI} Blog},\n",
      " url = {http://ai.googleblog.com/2016/01/alphago-mastering-ancient-game-of-go.html},\n",
      " urldate = {2021-03-24}\n",
      "}\n",
      "\n",
      "\n"
     ]
    }
   ],
   "source": [
    "# convert to a string using bibtexparser's dumps\n",
    "\n",
    "print(\n",
    "    bibtexparser.dumps(barr)\n",
    ")"
   ]
  },
  {
   "cell_type": "markdown",
   "metadata": {},
   "source": [
    "# Manipulating multiple items with bibtexparser"
   ]
  },
  {
   "cell_type": "code",
   "execution_count": 86,
   "metadata": {},
   "outputs": [
    {
     "name": "stdout",
     "output_type": "stream",
     "text": [
      "@article{bekins_non-prototypical_2013,\n",
      " author = {Bekins, Peter},\n",
      " date = {2013-10-01},\n",
      " doi = {10.1093/jss/fgt001},\n",
      " issn = {0022-4480, 1477-8556},\n",
      " journaltitle = {Journal of Semitic Studies},\n",
      " langid = {english},\n",
      " number = {2},\n",
      " pages = {225--240},\n",
      " shortjournal = {Journal of Semitic Studies},\n",
      " shorttitle = {Non-Prototypical Uses},\n",
      " title = {Non-Prototypical Uses of the Definite Article in Biblical Hebrew},\n",
      " url = {https://academic.oup.com/jss/article-lookup/doi/10.1093/jss/fgt001},\n",
      " urldate = {2020-06-19},\n",
      " volume = {58}\n",
      "}\n",
      "\n",
      "@inproceedings{bekins_omission_2016,\n",
      " author = {Bekins, Peter},\n",
      " date = {2016},\n",
      " eventtitle = {{SBL} Annual Meeting},\n",
      " location = {San Antonio},\n",
      " title = {The Omission of the Definite Article in Biblical Poetry},\n",
      " url = {https://www.academia.edu/30145121/The_Omission_of_the_Definite_Article_in_Biblical_Poetry},\n",
      " urldate = {2020-07-04}\n",
      "}\n",
      "\n",
      "@book{bekins_transitivity_2014,\n",
      " author = {Bekins, Peter},\n",
      " date = {2014},\n",
      " doi = {10.1163/9789004370166},\n",
      " isbn = {978-90-04-37016-6},\n",
      " langid = {english},\n",
      " publisher = {Brill},\n",
      " shorttitle = {Transitivity and Object Marking in Biblical Hebrew},\n",
      " title = {Transitivity and Object Marking in Biblical Hebrew: An Investigation of the Object Preposition 'Et},\n",
      " url = {https://brill.com/abstract/title/38325},\n",
      " urldate = {2019-04-28}\n",
      "}\n",
      "\n",
      "\n"
     ]
    }
   ],
   "source": [
    "bekins = zot.items(q='Peter Bekins', format='biblatex')\n",
    "\n",
    "print(\n",
    "    bibtexparser.dumps(bekins)\n",
    ")"
   ]
  },
  {
   "cell_type": "code",
   "execution_count": 89,
   "metadata": {},
   "outputs": [
    {
     "data": {
      "text/plain": [
       "<bibtexparser.bibdatabase.BibDatabase at 0x7fd946711f70>"
      ]
     },
     "execution_count": 89,
     "metadata": {},
     "output_type": "execute_result"
    }
   ],
   "source": [
    "# changing the id of each item\n",
    "\n",
    "bekins"
   ]
  },
  {
   "cell_type": "code",
   "execution_count": 93,
   "metadata": {},
   "outputs": [
    {
     "data": {
      "text/plain": [
       "{'date': '2016',\n",
       " 'urldate': '2020-07-04',\n",
       " 'author': 'Bekins, Peter',\n",
       " 'eventtitle': '{SBL} Annual Meeting',\n",
       " 'url': 'https://www.academia.edu/30145121/The_Omission_of_the_Definite_Article_in_Biblical_Poetry',\n",
       " 'title': 'The Omission of the Definite Article in Biblical Poetry',\n",
       " 'location': 'San Antonio',\n",
       " 'ENTRYTYPE': 'inproceedings',\n",
       " 'ID': 'bekins_omission_2016'}"
      ]
     },
     "execution_count": 93,
     "metadata": {},
     "output_type": "execute_result"
    }
   ],
   "source": [
    "bekins.entries[0]."
   ]
  },
  {
   "cell_type": "code",
   "execution_count": 101,
   "metadata": {},
   "outputs": [],
   "source": [
    "import re"
   ]
  },
  {
   "cell_type": "code",
   "execution_count": null,
   "metadata": {},
   "outputs": [],
   "source": [
    "splitnames = bibtexparser.customization.splitname\n",
    "def get_year(timestring):\n",
    "    "
   ]
  },
  {
   "cell_type": "code",
   "execution_count": 100,
   "metadata": {},
   "outputs": [
    {
     "data": {
      "text/plain": [
       "{'date': '2016',\n",
       " 'urldate': '2020-07-04',\n",
       " 'author': 'Bekins, Peter',\n",
       " 'eventtitle': '{SBL} Annual Meeting',\n",
       " 'url': 'https://www.academia.edu/30145121/The_Omission_of_the_Definite_Article_in_Biblical_Poetry',\n",
       " 'title': 'The Omission of the Definite Article in Biblical Poetry',\n",
       " 'location': 'San Antonio',\n",
       " 'ENTRYTYPE': 'inproceedings',\n",
       " 'ID': 'bekins_omission_2016'}"
      ]
     },
     "execution_count": 100,
     "metadata": {},
     "output_type": "execute_result"
    }
   ],
   "source": [
    "test = bekins.entries[0]\n",
    "\n",
    "test"
   ]
  },
  {
   "cell_type": "code",
   "execution_count": null,
   "metadata": {},
   "outputs": [],
   "source": [
    "test"
   ]
  },
  {
   "cell_type": "code",
   "execution_count": 99,
   "metadata": {},
   "outputs": [
    {
     "data": {
      "text/plain": [
       "{'first': ['Neva'], 'last': ['Kingham'], 'von': [], 'jr': []}"
      ]
     },
     "execution_count": 99,
     "metadata": {},
     "output_type": "execute_result"
    }
   ],
   "source": []
  },
  {
   "cell_type": "code",
   "execution_count": null,
   "metadata": {},
   "outputs": [],
   "source": [
    "\n",
    "@book{saenz-badillos_history_1997,\n",
    "\tlocation = {Cambridge},\n",
    "\tedition = {Reprinted},\n",
    "\ttitle = {A History of the Hebrew Language},\n",
    "\tisbn = {978-0-521-55634-7 978-0-521-43157-6},\n",
    "\tshorttitle = {A History},\n",
    "\tpagetotal = {371},\n",
    "\tpublisher = {Cambridge University Press},\n",
    "\tauthor = {Sáenz-Badillos, Angel},\n",
    "\tdate = {1997},\n",
    "\tnote = {{OCLC}: 256784446}\n",
    "}"
   ]
  },
  {
   "cell_type": "code",
   "execution_count": null,
   "metadata": {},
   "outputs": [],
   "source": [
    "@online{silver_david_alphago_nodate,\n",
    "\ttitle = {{AlphaGo}: Mastering the ancient game of Go with Machine Learning},\n",
    "\turl = {http://ai.googleblog.com/2016/01/alphago-mastering-ancient-game-of-go.html},\n",
    "\tshorttitle = {{AlphaGo}},\n",
    "\tabstract = {Posted by David Silver and Demis Hassabis, Google {DeepMind} Games are a great testing ground for developing smarter, more flexible algorithms...},\n",
    "\ttitleaddon = {Google {AI} Blog},\n",
    "\tauthor = {Silver, David, Demis, Hassabis},\n",
    "\turldate = {2021-03-24},\n",
    "\tlangid = {english},\n",
    "\tfile = {Snapshot:/Users/cody/Zotero/storage/BZTJYUX4/alphago-mastering-ancient-game-of-go.html:text/html}\n",
    "}"
   ]
  }
 ],
 "metadata": {
  "kernelspec": {
   "display_name": "Python 3",
   "language": "python",
   "name": "python3"
  },
  "language_info": {
   "codemirror_mode": {
    "name": "ipython",
    "version": 3
   },
   "file_extension": ".py",
   "mimetype": "text/x-python",
   "name": "python",
   "nbconvert_exporter": "python",
   "pygments_lexer": "ipython3",
   "version": "3.8.5"
  }
 },
 "nbformat": 4,
 "nbformat_minor": 4
}
