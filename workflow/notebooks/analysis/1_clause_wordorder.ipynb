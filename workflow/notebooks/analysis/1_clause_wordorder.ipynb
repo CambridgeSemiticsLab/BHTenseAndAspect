{
 "cells": [
  {
   "cell_type": "markdown",
   "metadata": {},
   "source": [
    "# Clause Word Order (Main Clauses)"
   ]
  },
  {
   "cell_type": "code",
   "execution_count": 1,
   "metadata": {},
   "outputs": [
    {
     "data": {
      "text/plain": [
       "(2217, 71)"
      ]
     },
     "execution_count": 1,
     "metadata": {},
     "output_type": "execute_result"
    }
   ],
   "source": [
    "from scripts.imports import *\n",
    "\n",
    "# designate some additional parameters for a clause to be \"main\"\n",
    "non_main = [\n",
    "    'InfC', 'InfA', 'Reop', \n",
    "    'Voct', 'CPen', 'Ellp', \n",
    "    'MSyn',\n",
    "]\n",
    "\n",
    "main_df = df[\n",
    "    (df.cl_rela == 'Main')\n",
    "    & (~df.cl_type.isin(non_main))\n",
    "    & (df.n_times == 1)\n",
    "    & (~df.cl_type.isin(['NmCl', 'AjCl']))\n",
    "]\n",
    "\n",
    "out = Exporter(\n",
    "    paths['outdir'],\n",
    "    'clause',\n",
    ")\n",
    "\n",
    "main_df.shape"
   ]
  },
  {
   "cell_type": "markdown",
   "metadata": {},
   "source": [
    "# Exploring Word Order in TA Clauses\n",
    "\n",
    "We have a strict / literal word order tag. We will eventially process that tag into narrower categories. But first, we can do a formal analysis of the strict tag."
   ]
  },
  {
   "cell_type": "code",
   "execution_count": 2,
   "metadata": {},
   "outputs": [
    {
     "name": "stdout",
     "output_type": "stream",
     "text": [
      "(528,)\n"
     ]
    },
    {
     "data": {
      "text/plain": [
       "W-V-T        258\n",
       "W-V-O-T       75\n",
       "T-V-O         72\n",
       "W-V-S-T       71\n",
       "W-V-C-T       67\n",
       "T-V           60\n",
       "W-T-V-C       55\n",
       "T-V-S         50\n",
       "W-V-S-C-T     41\n",
       "V-T           40\n",
       "Name: cl_args, dtype: int64"
      ]
     },
     "execution_count": 2,
     "metadata": {},
     "output_type": "execute_result"
    }
   ],
   "source": [
    "clargs_count = main_df.cl_args.value_counts()\n",
    "\n",
    "print(clargs_count.shape)\n",
    "\n",
    "clargs_count.head(10)"
   ]
  },
  {
   "cell_type": "code",
   "execution_count": 15,
   "metadata": {},
   "outputs": [
    {
     "data": {
      "text/plain": [
       "'528'"
      ]
     },
     "execution_count": 15,
     "metadata": {},
     "output_type": "execute_result"
    }
   ],
   "source": [
    "out.number(\n",
    "    clargs_count.shape[0],\n",
    "    'n_clargtags'\n",
    ")"
   ]
  },
  {
   "cell_type": "code",
   "execution_count": 4,
   "metadata": {},
   "outputs": [
    {
     "data": {
      "text/plain": [
       "'A-S-V-C-T-O, A-V-O-T-C, C-V-S-T-O-A, I-V-O-T-C, I-V-O-T-C-C, I-V-T-C, M-V-S-T-C, M-V-T-C, M-V-T-O, Q-V-C-T-S-C, Q-V-O-S-T-C, Q-V-T-C, Q-V-T-S, S-V-C-T-O, S-V-T-C, S-V-T-C-A, S-V-T-O, S-V-T-O-A, V-C-T-O, V-C-T-O-O, V-C-T-S, V-I-C-T-O, V-I-T-O, V-O-T-C, V-O-T-C-A, V-O-T-O, V-S-T-C, V-S-T-O, V-S-T-O-A, V-S-T-O-C, V-T-A-O, V-T-C, V-T-C-A, V-T-C-O, V-T-O, V-T-O-A, V-T-O-C, V-T-S, V-T-S-C, W-I-S-V-T-C, W-L-V-T-C, W-L-V-T-PrC-O-O, W-O-V-O-T-C, W-O-V-T-C, W-PrC-V-T-S, W-S-V-T-C, W-S-V-T-O, W-S-V-T-O-L, W-S-V-T-PrC-A-A, W-V-A-O-T-C, W-V-A-T-O-C, W-V-C-S-T-O, W-V-C-T-A-O, W-V-C-T-C, W-V-C-T-O, W-V-C-T-O-A, W-V-C-T-PrC, W-V-C-T-S, W-V-O-T-A-C-L-A, W-V-O-T-C, W-V-O-T-O, W-V-O-T-S, W-V-S-C-T-C, W-V-S-C-T-O, W-V-S-T-A-O, W-V-S-T-C, W-V-S-T-C-A, W-V-S-T-O, W-V-S-T-O-A, W-V-S-T-O-C, W-V-S-T-PrC, W-V-S-T-PrC-C, W-V-T-A-S, W-V-T-C, W-V-T-C-A, W-V-T-C-C, W-V-T-C-L, W-V-T-O, W-V-T-O-A, W-V-T-O-C-L, W-V-T-O-O, W-V-T-O-S, W-V-T-PrC, W-V-T-PrC-O, W-V-T-S, W-V-T-S-A, W-V-T-S-C-A, W-V-T-S-C-C, W-V-T-S-O'"
      ]
     },
     "execution_count": 4,
     "metadata": {},
     "output_type": "execute_result"
    }
   ],
   "source": [
    "', '.join(sorted(main_df[main_df['Time Position'] == 'medial'].cl_args.unique()))"
   ]
  },
  {
   "cell_type": "code",
   "execution_count": 5,
   "metadata": {},
   "outputs": [
    {
     "data": {
      "text/plain": [
       "'A-T-C-V, A-T-V, A-T-V-O-A, C-T-V, C-T-V-O, C-T-V-PrC-C, C-T-V-S, C-T-V-S-C, I-T-V-C-S-C, I-T-V-O, I-T-V-O-A, I-T-V-S-O, M-S-T-V, M-T-S-V, M-T-V-C, O-T-V, Q-T-A-V, Q-T-V, Q-T-V-C, Q-T-V-O, Q-T-V-S, Q-T-V-S-A, S-T-O-V-A, S-T-V, S-T-V-C-C, S-T-V-O, S-T-V-O-A, T-A-PrC-V-C, T-A-S-V-C-O, T-A-T-V-C, T-A-V, T-A-V-C-A, T-A-V-O, T-A-V-O-C, T-C-V, T-C-V-O, T-C-V-S, T-L-M-V-S-A, T-M-V-S, T-M-V-S-C, T-O-V, T-O-V-C, T-PrA-V, T-PrC-V, T-S-V, T-S-V-A, T-S-V-C, T-S-V-C-A, T-S-V-L, T-S-V-O, T-S-V-O-A, T-S-V-PrC, T-T-V-S-A-A, T-V, T-V-A, T-V-A-A, T-V-A-C, T-V-A-L, T-V-A-O, T-V-A-S, T-V-C, T-V-C-A, T-V-C-C-A, T-V-C-C-A-A, T-V-C-L, T-V-C-O, T-V-C-O-A, T-V-C-PrC-A, T-V-C-S, T-V-C-S-O, T-V-L, T-V-L-O, T-V-M, T-V-M-S-A, T-V-O, T-V-O-A, T-V-O-A-C-C, T-V-O-C, T-V-O-C-A, T-V-O-I-C, T-V-O-L, T-V-O-M, T-V-O-O, T-V-O-O-C, T-V-O-S, T-V-O-S-A, T-V-O-S-A-L, T-V-O-S-C, T-V-PrC, T-V-PrC-A, T-V-PrC-C, T-V-PrC-S, T-V-PrC-S-A, T-V-S, T-V-S-A, T-V-S-A-A, T-V-S-A-A-A, T-V-S-A-C, T-V-S-A-L, T-V-S-A-O, T-V-S-C, T-V-S-C-A, T-V-S-C-A-A, T-V-S-C-C, T-V-S-C-O, T-V-S-C-O-A, T-V-S-L, T-V-S-L-A, T-V-S-O, T-V-S-O-A, T-V-S-O-A-A, T-V-S-O-C, T-V-S-O-C-A, T-V-S-O-C-C-A, T-V-S-O-C-L, T-V-S-O-C-L-A-A, T-V-S-O-L, T-V-S-O-L-A, T-V-S-PrC, T-V-S-PrC-A, T-V-S-PrC-A-A, T-V-S-PrC-C-A, W-C-T-V, W-C-T-V-O, W-M-T-S-V, W-O-T-V, W-O-T-V-A, W-S-T-V, W-S-T-V-A, W-S-T-V-C, W-S-T-V-C-A, W-S-T-V-O, W-S-T-V-PrC, W-T-A-A-V-O-A, W-T-A-S-V-PrC, W-T-A-V, W-T-A-V-C, W-T-A-V-C-A, W-T-A-V-O, W-T-A-V-S, W-T-A-V-S-O, W-T-C-S-V-C-A, W-T-C-V, W-T-I-V, W-T-M-V-O, W-T-O-M-A-V, W-T-O-V, W-T-O-V-C, W-T-PrC-V, W-T-S-C-V, W-T-S-V, W-T-S-V-A-A, W-T-S-V-C, W-T-S-V-C-A, W-T-S-V-C-O, W-T-S-V-O, W-T-S-V-PrC, W-T-V, W-T-V-A, W-T-V-A-M, W-T-V-A-S, W-T-V-C, W-T-V-C-A, W-T-V-C-O, W-T-V-C-S, W-T-V-L, W-T-V-M, W-T-V-O, W-T-V-O-A, W-T-V-O-C, W-T-V-O-C-A, W-T-V-O-C-L, W-T-V-O-C-O-T, W-T-V-O-C-PrA, W-T-V-O-L, W-T-V-O-L-L, W-T-V-O-M, W-T-V-O-O, W-T-V-O-PrA-C, W-T-V-O-S, W-T-V-O-S-C, W-T-V-O-S-C-A, W-T-V-PrA-C-O, W-T-V-PrC, W-T-V-PrC-A, W-T-V-S, W-T-V-S-A, W-T-V-S-C, W-T-V-S-C-A, W-T-V-S-C-C, W-T-V-S-L-A, W-T-V-S-O, W-T-V-S-O-C, W-T-V-S-O-C-L, W-T-V-S-PrC'"
      ]
     },
     "execution_count": 5,
     "metadata": {},
     "output_type": "execute_result"
    }
   ],
   "source": [
    "', '.join(sorted(main_df[main_df['Time Position'] == 'preposed'].cl_args.unique()))"
   ]
  },
  {
   "cell_type": "code",
   "execution_count": 6,
   "metadata": {},
   "outputs": [
    {
     "data": {
      "text/plain": [
       "'A-O-V-C-S-T, A-S-V-O-O-T, A-S-V-T, A-V-C-O-T, A-V-C-S-L-L-T, A-V-C-T, A-V-O-O-T, A-V-O-S-T, A-V-O-T, A-V-S-C-L-T, A-V-S-O-T, A-V-S-PrC-C-T-A, A-V-S-T, A-V-T, C-S-V-M-T, C-S-V-T, C-V-C-T-A, C-V-O-T, C-V-S-T, C-V-S-T-A, C-V-T, I-S-V-C-T-M, I-S-V-L-T, I-V-S-O-A-M-T-A, L-V-S-C-A-T, L-V-T, M-O-V-O-T, M-V-C-L-O-T, M-V-C-T, M-V-C-T-A, M-V-O-I-T, M-V-O-T-A, M-V-S-PrC-T, M-V-S-T, M-V-T, M-V-T-A, O-S-V-T, O-V-A-T, O-V-C-L-T, O-V-C-T-A, O-V-O-T, O-V-T, O-V-T-A, PrC-V-C-T, PrC-V-S-T, Q-S-V-C-T, Q-V-C-T, Q-V-O-T, Q-V-PrC-T, Q-V-S-T, Q-V-T, Q-V-T-A, Q-V-T-A-A, S-C-V-T, S-V-C-A-M-T, S-V-C-L-T, S-V-C-T, S-V-C-T-A, S-V-M-T-A, S-V-O-A-T, S-V-O-T, S-V-PrC-C-T, S-V-PrC-T, S-V-T, S-V-T-A, T, V-A-T, V-C-M-S-PrC-T, V-C-O-T, V-C-T, V-I-C-S-T, V-I-C-T, V-I-O-T, V-I-T, V-L-T, V-M-T, V-O-A-C-T, V-O-A-T, V-O-C-T, V-O-O-T, V-O-S-T, V-O-T, V-O-T-A, V-PrC-S-T, V-PrC-T, V-S-A-T, V-S-C-T, V-S-C-T-A, V-S-O-C-T, V-S-O-T, V-S-T, V-S-T-L, V-T, V-T-A, V-T-M, V-T-PrA-A, W-A-S-V-A-T, W-A-S-V-C-T, W-A-V-S-C-O-T-L, W-A-V-T, W-C-S-V-T, W-C-V-O-T, W-C-V-S-L-T, W-C-V-S-T, W-C-V-T, W-I-S-V-C-T, W-L-V-T, W-M-V-C-T, W-O-V-C-A-T, W-O-V-C-T, W-O-V-S-T, W-O-V-S-T-A, W-O-V-T, W-O-V-T-A, W-PrC-V-S-T-A, W-Q-S-V-O-T, W-Q-V-C-T-A, W-Q-V-S-T-M, W-Q-V-T, W-S-A-V-PrC-T, W-S-C-V-T, W-S-M-V-O-T-A, W-S-PrA-V-T, W-S-PrC-V-T-L, W-S-V-A-M-T, W-S-V-A-T, W-S-V-C-L-T, W-S-V-C-O-T, W-S-V-C-T, W-S-V-C-T-A, W-S-V-M-T, W-S-V-O-A-T, W-S-V-O-C-T, W-S-V-O-L-T, W-S-V-O-T, W-S-V-O-T-A, W-S-V-O-T-A-A, W-S-V-PrA-T, W-S-V-PrC-C-A-T, W-S-V-PrC-C-T, W-S-V-PrC-L-T, W-S-V-PrC-T, W-S-V-PrC-T-A, W-S-V-T, W-S-V-T-A, W-S-V-T-A-A, W-S-V-T-L, W-V-A-L-PrC-T, W-V-A-O-T, W-V-A-T, W-V-A-T-A, W-V-A-T-L, W-V-C-A-T, W-V-C-C-T, W-V-C-M-T, W-V-C-O-A-L-T, W-V-C-O-A-T, W-V-C-O-L-T, W-V-C-O-T, W-V-C-PrC-T, W-V-C-PrC-T-T, W-V-C-S-PrC-T, W-V-C-S-T, W-V-C-S-T-A, W-V-C-T, W-V-C-T-A, W-V-C-T-L, W-V-C-T-PrA-A, W-V-I-C-T, W-V-L-PrC-T, W-V-L-S-L-T, W-V-L-S-PrC-T-A, W-V-L-S-T-A, W-V-L-T, W-V-L-T-A, W-V-M-PrC-T, W-V-M-T, W-V-M-T-A-A, W-V-O-A-A-T, W-V-O-A-C-T, W-V-O-A-T, W-V-O-C-A-T, W-V-O-C-C-T-A, W-V-O-C-M-T, W-V-O-C-T, W-V-O-C-T-A, W-V-O-L-T, W-V-O-L-T-A, W-V-O-O-T, W-V-O-S-C-T, W-V-O-S-C-T-L, W-V-O-S-T, W-V-O-S-T-A, W-V-O-S-T-M, W-V-O-T, W-V-O-T-A, W-V-O-T-M, W-V-PrC-A-T, W-V-PrC-C-T, W-V-PrC-T, W-V-PrC-T-A, W-V-PrC-T-A-L, W-V-S-A-A-A-T, W-V-S-A-C-T, W-V-S-A-L-T, W-V-S-A-O-C-T, W-V-S-A-O-T, W-V-S-A-T, W-V-S-A-T-A, W-V-S-C-A-T, W-V-S-C-C-T, W-V-S-C-L-T, W-V-S-C-O-A-T, W-V-S-C-O-T, W-V-S-C-T, W-V-S-C-T-A, W-V-S-L-A-T, W-V-S-L-O-T-A, W-V-S-L-T, W-V-S-M-C-T-A, W-V-S-M-PrC-T, W-V-S-M-T, W-V-S-O-A-C-A-A-L-T, W-V-S-O-A-T, W-V-S-O-C-L-T, W-V-S-O-C-T, W-V-S-O-C-T-L, W-V-S-O-L-T, W-V-S-O-T, W-V-S-O-T-A, W-V-S-O-T-M, W-V-S-PrC-A-T, W-V-S-PrC-C-T, W-V-S-PrC-O-T, W-V-S-PrC-T, W-V-S-T, W-V-S-T-A, W-V-S-T-A-A, W-V-S-T-L, W-V-S-T-L-PrA, W-V-S-T-M, W-V-S-T-PrA, W-V-T, W-V-T-A'"
      ]
     },
     "execution_count": 6,
     "metadata": {},
     "output_type": "execute_result"
    }
   ],
   "source": [
    "', '.join(sorted(main_df[main_df['Time Position'] == 'final'].cl_args.unique()))"
   ]
  },
  {
   "cell_type": "markdown",
   "metadata": {},
   "source": [
    "## Overall Position Counts"
   ]
  },
  {
   "cell_type": "code",
   "execution_count": 7,
   "metadata": {},
   "outputs": [
    {
     "data": {
      "text/html": [
       "<div>\n",
       "<style scoped>\n",
       "    .dataframe tbody tr th:only-of-type {\n",
       "        vertical-align: middle;\n",
       "    }\n",
       "\n",
       "    .dataframe tbody tr th {\n",
       "        vertical-align: top;\n",
       "    }\n",
       "\n",
       "    .dataframe thead th {\n",
       "        text-align: right;\n",
       "    }\n",
       "</style>\n",
       "<table border=\"1\" class=\"dataframe\">\n",
       "  <thead>\n",
       "    <tr style=\"text-align: right;\">\n",
       "      <th></th>\n",
       "      <th>count</th>\n",
       "      <th>percent</th>\n",
       "    </tr>\n",
       "    <tr>\n",
       "      <th>Time Position</th>\n",
       "      <th></th>\n",
       "      <th></th>\n",
       "    </tr>\n",
       "  </thead>\n",
       "  <tbody>\n",
       "    <tr>\n",
       "      <th>final</th>\n",
       "      <td>1246</td>\n",
       "      <td>56%</td>\n",
       "    </tr>\n",
       "    <tr>\n",
       "      <th>preposed</th>\n",
       "      <td>789</td>\n",
       "      <td>35%</td>\n",
       "    </tr>\n",
       "    <tr>\n",
       "      <th>medial</th>\n",
       "      <td>182</td>\n",
       "      <td>8%</td>\n",
       "    </tr>\n",
       "  </tbody>\n",
       "</table>\n",
       "</div>"
      ],
      "text/plain": [
       "               count percent\n",
       "Time Position               \n",
       "final           1246     56%\n",
       "preposed         789     35%\n",
       "medial           182      8%"
      ]
     },
     "execution_count": 7,
     "metadata": {},
     "output_type": "execute_result"
    }
   ],
   "source": [
    "pos_ct = main_df['Time Position'].value_counts()\n",
    "pos_pr = pos_ct / pos_ct.sum()\n",
    "pos_cp = join_ct_pr(pos_ct, pos_pr)\n",
    "pos_cp.rename_axis(index='Time Position', inplace=True)\n",
    "\n",
    "pos_cp"
   ]
  },
  {
   "cell_type": "markdown",
   "metadata": {},
   "source": [
    "# Position Counts by Tokenlex"
   ]
  },
  {
   "cell_type": "code",
   "execution_count": 8,
   "metadata": {},
   "outputs": [
    {
     "name": "stdout",
     "output_type": "stream",
     "text": [
      "(33, 3)\n"
     ]
    },
    {
     "data": {
      "text/html": [
       "<div>\n",
       "<style scoped>\n",
       "    .dataframe tbody tr th:only-of-type {\n",
       "        vertical-align: middle;\n",
       "    }\n",
       "\n",
       "    .dataframe tbody tr th {\n",
       "        vertical-align: top;\n",
       "    }\n",
       "\n",
       "    .dataframe thead th {\n",
       "        text-align: right;\n",
       "    }\n",
       "</style>\n",
       "<table border=\"1\" class=\"dataframe\">\n",
       "  <thead>\n",
       "    <tr style=\"text-align: right;\">\n",
       "      <th>Time Position</th>\n",
       "      <th>final</th>\n",
       "      <th>preposed</th>\n",
       "      <th>medial</th>\n",
       "    </tr>\n",
       "    <tr>\n",
       "      <th>lex_token</th>\n",
       "      <th></th>\n",
       "      <th></th>\n",
       "      <th></th>\n",
       "    </tr>\n",
       "  </thead>\n",
       "  <tbody>\n",
       "    <tr>\n",
       "      <th>מ׳.ז׳</th>\n",
       "      <td>149</td>\n",
       "      <td>82</td>\n",
       "      <td>14</td>\n",
       "    </tr>\n",
       "    <tr>\n",
       "      <th>ב.ה.ז׳.הוא</th>\n",
       "      <td>114</td>\n",
       "      <td>58</td>\n",
       "      <td>35</td>\n",
       "    </tr>\n",
       "    <tr>\n",
       "      <th>ב.ז׳</th>\n",
       "      <td>100</td>\n",
       "      <td>68</td>\n",
       "      <td>10</td>\n",
       "    </tr>\n",
       "    <tr>\n",
       "      <th>ה.ז׳</th>\n",
       "      <td>92</td>\n",
       "      <td>32</td>\n",
       "      <td>36</td>\n",
       "    </tr>\n",
       "    <tr>\n",
       "      <th>ב.ה.ז׳</th>\n",
       "      <td>106</td>\n",
       "      <td>27</td>\n",
       "      <td>15</td>\n",
       "    </tr>\n",
       "  </tbody>\n",
       "</table>\n",
       "</div>"
      ],
      "text/plain": [
       "Time Position  final  preposed  medial\n",
       "lex_token                             \n",
       "מ׳.ז׳            149        82      14\n",
       "ב.ה.ז׳.הוא       114        58      35\n",
       "ב.ז׳             100        68      10\n",
       "ה.ז׳              92        32      36\n",
       "ב.ה.ז׳           106        27      15"
      ]
     },
     "execution_count": 8,
     "metadata": {},
     "output_type": "execute_result"
    }
   ],
   "source": [
    "poslt_ct = pivot_ct(\n",
    "    main_df,\n",
    "    'lex_token',\n",
    "    'Time Position',\n",
    ")\n",
    "\n",
    "# filter out by occurrences at least 5\n",
    "poslt_ct = poslt_ct[poslt_ct.sum(1) >= 5]\n",
    "\n",
    "print(poslt_ct.shape)\n",
    "\n",
    "poslt_ct.head()"
   ]
  },
  {
   "cell_type": "code",
   "execution_count": 9,
   "metadata": {},
   "outputs": [
    {
     "data": {
      "text/html": [
       "<div>\n",
       "<style scoped>\n",
       "    .dataframe tbody tr th:only-of-type {\n",
       "        vertical-align: middle;\n",
       "    }\n",
       "\n",
       "    .dataframe tbody tr th {\n",
       "        vertical-align: top;\n",
       "    }\n",
       "\n",
       "    .dataframe thead th {\n",
       "        text-align: right;\n",
       "    }\n",
       "</style>\n",
       "<table border=\"1\" class=\"dataframe\">\n",
       "  <thead>\n",
       "    <tr style=\"text-align: right;\">\n",
       "      <th>Time Position</th>\n",
       "      <th>final</th>\n",
       "      <th>preposed</th>\n",
       "      <th>medial</th>\n",
       "    </tr>\n",
       "    <tr>\n",
       "      <th>lex_token</th>\n",
       "      <th></th>\n",
       "      <th></th>\n",
       "      <th></th>\n",
       "    </tr>\n",
       "  </thead>\n",
       "  <tbody>\n",
       "    <tr>\n",
       "      <th>מ׳.ז׳</th>\n",
       "      <td>0.608163</td>\n",
       "      <td>0.334694</td>\n",
       "      <td>0.057143</td>\n",
       "    </tr>\n",
       "    <tr>\n",
       "      <th>ב.ה.ז׳.הוא</th>\n",
       "      <td>0.550725</td>\n",
       "      <td>0.280193</td>\n",
       "      <td>0.169082</td>\n",
       "    </tr>\n",
       "    <tr>\n",
       "      <th>ב.ז׳</th>\n",
       "      <td>0.561798</td>\n",
       "      <td>0.382022</td>\n",
       "      <td>0.056180</td>\n",
       "    </tr>\n",
       "    <tr>\n",
       "      <th>ה.ז׳</th>\n",
       "      <td>0.575000</td>\n",
       "      <td>0.200000</td>\n",
       "      <td>0.225000</td>\n",
       "    </tr>\n",
       "    <tr>\n",
       "      <th>ב.ה.ז׳</th>\n",
       "      <td>0.716216</td>\n",
       "      <td>0.182432</td>\n",
       "      <td>0.101351</td>\n",
       "    </tr>\n",
       "  </tbody>\n",
       "</table>\n",
       "</div>"
      ],
      "text/plain": [
       "Time Position     final  preposed    medial\n",
       "lex_token                                  \n",
       "מ׳.ז׳          0.608163  0.334694  0.057143\n",
       "ב.ה.ז׳.הוא     0.550725  0.280193  0.169082\n",
       "ב.ז׳           0.561798  0.382022  0.056180\n",
       "ה.ז׳           0.575000  0.200000  0.225000\n",
       "ב.ה.ז׳         0.716216  0.182432  0.101351"
      ]
     },
     "execution_count": 9,
     "metadata": {},
     "output_type": "execute_result"
    }
   ],
   "source": [
    "poslt_pr = poslt_ct.div(poslt_ct.sum(1), 0)\n",
    "\n",
    "poslt_pr.head()"
   ]
  },
  {
   "cell_type": "code",
   "execution_count": 10,
   "metadata": {},
   "outputs": [
    {
     "data": {
      "text/html": [
       "<div>\n",
       "<style scoped>\n",
       "    .dataframe tbody tr th:only-of-type {\n",
       "        vertical-align: middle;\n",
       "    }\n",
       "\n",
       "    .dataframe tbody tr th {\n",
       "        vertical-align: top;\n",
       "    }\n",
       "\n",
       "    .dataframe thead th {\n",
       "        text-align: right;\n",
       "    }\n",
       "</style>\n",
       "<table border=\"1\" class=\"dataframe\">\n",
       "  <thead>\n",
       "    <tr style=\"text-align: right;\">\n",
       "      <th>Time Position</th>\n",
       "      <th>final</th>\n",
       "      <th>preposed</th>\n",
       "      <th>medial</th>\n",
       "    </tr>\n",
       "    <tr>\n",
       "      <th>lex_token</th>\n",
       "      <th></th>\n",
       "      <th></th>\n",
       "      <th></th>\n",
       "    </tr>\n",
       "  </thead>\n",
       "  <tbody>\n",
       "    <tr>\n",
       "      <th>מ׳.ז׳</th>\n",
       "      <td>0.053016</td>\n",
       "      <td>-0.023499</td>\n",
       "      <td>-0.029517</td>\n",
       "    </tr>\n",
       "    <tr>\n",
       "      <th>ב.ה.ז׳.הוא</th>\n",
       "      <td>-0.011582</td>\n",
       "      <td>-0.083350</td>\n",
       "      <td>0.094932</td>\n",
       "    </tr>\n",
       "    <tr>\n",
       "      <th>ב.ז׳</th>\n",
       "      <td>0.000661</td>\n",
       "      <td>0.028902</td>\n",
       "      <td>-0.029564</td>\n",
       "    </tr>\n",
       "    <tr>\n",
       "      <th>ה.ז׳</th>\n",
       "      <td>0.014920</td>\n",
       "      <td>-0.168024</td>\n",
       "      <td>0.153105</td>\n",
       "    </tr>\n",
       "    <tr>\n",
       "      <th>ב.ה.ז׳</th>\n",
       "      <td>0.166491</td>\n",
       "      <td>-0.185883</td>\n",
       "      <td>0.019392</td>\n",
       "    </tr>\n",
       "  </tbody>\n",
       "</table>\n",
       "</div>"
      ],
      "text/plain": [
       "Time Position     final  preposed    medial\n",
       "lex_token                                  \n",
       "מ׳.ז׳          0.053016 -0.023499 -0.029517\n",
       "ב.ה.ז׳.הוא    -0.011582 -0.083350  0.094932\n",
       "ב.ז׳           0.000661  0.028902 -0.029564\n",
       "ה.ז׳           0.014920 -0.168024  0.153105\n",
       "ב.ה.ז׳         0.166491 -0.185883  0.019392"
      ]
     },
     "execution_count": 10,
     "metadata": {},
     "output_type": "execute_result"
    }
   ],
   "source": [
    "poslt_dp = sig.apply_deltaP(poslt_ct, 0, 1)\n",
    "\n",
    "poslt_dp.head()"
   ]
  },
  {
   "cell_type": "code",
   "execution_count": 11,
   "metadata": {},
   "outputs": [
    {
     "data": {
      "image/png": "[encoded data removed]",
      "text/plain": [
       "<Figure size 576x720 with 2 Axes>"
      ]
     },
     "metadata": {
      "needs_background": "light"
     },
     "output_type": "display_data"
    }
   ],
   "source": [
    "fig, ax = plt.subplots(figsize=(8, 10))\n",
    "heatmap(poslt_dp.head(25), square=False)"
   ]
  },
  {
   "cell_type": "code",
   "execution_count": 12,
   "metadata": {},
   "outputs": [
    {
     "data": {
      "text/html": [
       "<div>\n",
       "<style scoped>\n",
       "    .dataframe tbody tr th:only-of-type {\n",
       "        vertical-align: middle;\n",
       "    }\n",
       "\n",
       "    .dataframe tbody tr th {\n",
       "        vertical-align: top;\n",
       "    }\n",
       "\n",
       "    .dataframe thead th {\n",
       "        text-align: right;\n",
       "    }\n",
       "</style>\n",
       "<table border=\"1\" class=\"dataframe\">\n",
       "  <thead>\n",
       "    <tr style=\"text-align: right;\">\n",
       "      <th>Time Position</th>\n",
       "      <th>final</th>\n",
       "      <th>preposed</th>\n",
       "      <th>medial</th>\n",
       "    </tr>\n",
       "    <tr>\n",
       "      <th>lex_token</th>\n",
       "      <th></th>\n",
       "      <th></th>\n",
       "      <th></th>\n",
       "    </tr>\n",
       "  </thead>\n",
       "  <tbody>\n",
       "    <tr>\n",
       "      <th>מ׳.ז׳</th>\n",
       "      <td>0.053016</td>\n",
       "      <td>-0.023499</td>\n",
       "      <td>-0.029517</td>\n",
       "    </tr>\n",
       "    <tr>\n",
       "      <th>ב.ה.ז׳.הוא</th>\n",
       "      <td>-0.011582</td>\n",
       "      <td>-0.083350</td>\n",
       "      <td>0.094932</td>\n",
       "    </tr>\n",
       "    <tr>\n",
       "      <th>ב.ז׳</th>\n",
       "      <td>0.000661</td>\n",
       "      <td>0.028902</td>\n",
       "      <td>-0.029564</td>\n",
       "    </tr>\n",
       "    <tr>\n",
       "      <th>ה.ז׳</th>\n",
       "      <td>0.014920</td>\n",
       "      <td>-0.168024</td>\n",
       "      <td>0.153105</td>\n",
       "    </tr>\n",
       "    <tr>\n",
       "      <th>ב.ה.ז׳</th>\n",
       "      <td>0.166491</td>\n",
       "      <td>-0.185883</td>\n",
       "      <td>0.019392</td>\n",
       "    </tr>\n",
       "  </tbody>\n",
       "</table>\n",
       "</div>"
      ],
      "text/plain": [
       "Time Position     final  preposed    medial\n",
       "lex_token                                  \n",
       "מ׳.ז׳          0.053016 -0.023499 -0.029517\n",
       "ב.ה.ז׳.הוא    -0.011582 -0.083350  0.094932\n",
       "ב.ז׳           0.000661  0.028902 -0.029564\n",
       "ה.ז׳           0.014920 -0.168024  0.153105\n",
       "ב.ה.ז׳         0.166491 -0.185883  0.019392"
      ]
     },
     "execution_count": 12,
     "metadata": {},
     "output_type": "execute_result"
    }
   ],
   "source": [
    "poslt_dp.head()"
   ]
  },
  {
   "cell_type": "code",
   "execution_count": 13,
   "metadata": {},
   "outputs": [],
   "source": [
    "poslt_pr_plot = poslt_pr.copy()\n",
    "\n",
    "poslt_pr_plot.index = [get_display(tok) for tok in poslt_pr_plot.index]"
   ]
  },
  {
   "cell_type": "code",
   "execution_count": 17,
   "metadata": {},
   "outputs": [
    {
     "data": {
      "image/png": "[encoded data removed]",
      "text/plain": [
       "<Figure size 720x720 with 4 Axes>"
      ]
     },
     "metadata": {
      "needs_background": "light"
     },
     "output_type": "display_data"
    }
   ],
   "source": [
    "g = sns.clustermap(\n",
    "    poslt_pr_plot, \n",
    "    cmap='magma', \n",
    "    col_cluster=False,\n",
    "    cbar_pos=(1, .2, .03, .4),\n",
    "    annot=True\n",
    ")\n",
    "\n",
    "g.ax_heatmap.set_yticklabels(\n",
    "    g.ax_heatmap.get_ymajorticklabels(), \n",
    "    fontsize = 13,\n",
    "    fontfamily='SBL Biblit'\n",
    ")\n",
    "\n",
    "out.plot(\n",
    "    'clust_position_lextok',\n",
    ")"
   ]
  },
  {
   "cell_type": "markdown",
   "metadata": {},
   "source": [
    "## Position Counts by Genre"
   ]
  },
  {
   "cell_type": "code",
   "execution_count": 18,
   "metadata": {},
   "outputs": [
    {
     "data": {
      "text/html": [
       "<div>\n",
       "<style scoped>\n",
       "    .dataframe tbody tr th:only-of-type {\n",
       "        vertical-align: middle;\n",
       "    }\n",
       "\n",
       "    .dataframe tbody tr th {\n",
       "        vertical-align: top;\n",
       "    }\n",
       "\n",
       "    .dataframe thead th {\n",
       "        text-align: right;\n",
       "    }\n",
       "</style>\n",
       "<table border=\"1\" class=\"dataframe\">\n",
       "  <thead>\n",
       "    <tr style=\"text-align: right;\">\n",
       "      <th>Time Position</th>\n",
       "      <th>final</th>\n",
       "      <th>preposed</th>\n",
       "      <th>medial 2</th>\n",
       "      <th>medial 1</th>\n",
       "    </tr>\n",
       "    <tr>\n",
       "      <th>gendom</th>\n",
       "      <th></th>\n",
       "      <th></th>\n",
       "      <th></th>\n",
       "      <th></th>\n",
       "    </tr>\n",
       "  </thead>\n",
       "  <tbody>\n",
       "    <tr>\n",
       "      <th>prose.N</th>\n",
       "      <td>529</td>\n",
       "      <td>114</td>\n",
       "      <td>68</td>\n",
       "      <td>3</td>\n",
       "    </tr>\n",
       "    <tr>\n",
       "      <th>prose.Q</th>\n",
       "      <td>243</td>\n",
       "      <td>158</td>\n",
       "      <td>63</td>\n",
       "      <td>6</td>\n",
       "    </tr>\n",
       "    <tr>\n",
       "      <th>prophetic.Q</th>\n",
       "      <td>159</td>\n",
       "      <td>143</td>\n",
       "      <td>16</td>\n",
       "      <td>10</td>\n",
       "    </tr>\n",
       "    <tr>\n",
       "      <th>poetry.Q</th>\n",
       "      <td>110</td>\n",
       "      <td>105</td>\n",
       "      <td>21</td>\n",
       "      <td>15</td>\n",
       "    </tr>\n",
       "    <tr>\n",
       "      <th>instruction.Q</th>\n",
       "      <td>107</td>\n",
       "      <td>81</td>\n",
       "      <td>7</td>\n",
       "      <td>1</td>\n",
       "    </tr>\n",
       "  </tbody>\n",
       "</table>\n",
       "</div>"
      ],
      "text/plain": [
       "Time Position  final  preposed  medial 2  medial 1\n",
       "gendom                                            \n",
       "prose.N          529       114        68         3\n",
       "prose.Q          243       158        63         6\n",
       "prophetic.Q      159       143        16        10\n",
       "poetry.Q         110       105        21        15\n",
       "instruction.Q    107        81         7         1"
      ]
     },
     "execution_count": 18,
     "metadata": {},
     "output_type": "execute_result"
    }
   ],
   "source": [
    "posg_ct = pivot_ct(\n",
    "    main_df,\n",
    "    'gendom',\n",
    "    'Time Position',\n",
    ")\n",
    "\n",
    "main_gen = ['prose.N', 'prose.Q', 'prophetic.Q', 'poetry.Q', 'instruction.Q']\n",
    "\n",
    "posg_ct = posg_ct.loc[main_gen]\n",
    "\n",
    "posg_pr = posg_ct.div(posg_ct.sum(1), 0).round(2)\n",
    "\n",
    "posg_ct"
   ]
  },
  {
   "cell_type": "code",
   "execution_count": 19,
   "metadata": {},
   "outputs": [
    {
     "data": {
      "text/html": [
       "<div>\n",
       "<style scoped>\n",
       "    .dataframe tbody tr th:only-of-type {\n",
       "        vertical-align: middle;\n",
       "    }\n",
       "\n",
       "    .dataframe tbody tr th {\n",
       "        vertical-align: top;\n",
       "    }\n",
       "\n",
       "    .dataframe thead th {\n",
       "        text-align: right;\n",
       "    }\n",
       "</style>\n",
       "<table border=\"1\" class=\"dataframe\">\n",
       "  <thead>\n",
       "    <tr style=\"text-align: right;\">\n",
       "      <th>Time Position</th>\n",
       "      <th>final</th>\n",
       "      <th>preposed</th>\n",
       "      <th>medial 2</th>\n",
       "      <th>medial 1</th>\n",
       "    </tr>\n",
       "    <tr>\n",
       "      <th>gendom</th>\n",
       "      <th></th>\n",
       "      <th></th>\n",
       "      <th></th>\n",
       "      <th></th>\n",
       "    </tr>\n",
       "  </thead>\n",
       "  <tbody>\n",
       "    <tr>\n",
       "      <th>prose.N</th>\n",
       "      <td>0.74</td>\n",
       "      <td>0.16</td>\n",
       "      <td>0.10</td>\n",
       "      <td>0.00</td>\n",
       "    </tr>\n",
       "    <tr>\n",
       "      <th>prose.Q</th>\n",
       "      <td>0.52</td>\n",
       "      <td>0.34</td>\n",
       "      <td>0.13</td>\n",
       "      <td>0.01</td>\n",
       "    </tr>\n",
       "    <tr>\n",
       "      <th>prophetic.Q</th>\n",
       "      <td>0.48</td>\n",
       "      <td>0.44</td>\n",
       "      <td>0.05</td>\n",
       "      <td>0.03</td>\n",
       "    </tr>\n",
       "    <tr>\n",
       "      <th>poetry.Q</th>\n",
       "      <td>0.44</td>\n",
       "      <td>0.42</td>\n",
       "      <td>0.08</td>\n",
       "      <td>0.06</td>\n",
       "    </tr>\n",
       "    <tr>\n",
       "      <th>instruction.Q</th>\n",
       "      <td>0.55</td>\n",
       "      <td>0.41</td>\n",
       "      <td>0.04</td>\n",
       "      <td>0.01</td>\n",
       "    </tr>\n",
       "  </tbody>\n",
       "</table>\n",
       "</div>"
      ],
      "text/plain": [
       "Time Position  final  preposed  medial 2  medial 1\n",
       "gendom                                            \n",
       "prose.N         0.74      0.16      0.10      0.00\n",
       "prose.Q         0.52      0.34      0.13      0.01\n",
       "prophetic.Q     0.48      0.44      0.05      0.03\n",
       "poetry.Q        0.44      0.42      0.08      0.06\n",
       "instruction.Q   0.55      0.41      0.04      0.01"
      ]
     },
     "execution_count": 19,
     "metadata": {},
     "output_type": "execute_result"
    }
   ],
   "source": [
    "posg_pr"
   ]
  },
  {
   "cell_type": "markdown",
   "metadata": {},
   "source": [
    "## Position by Lex Token and Genre"
   ]
  },
  {
   "cell_type": "code",
   "execution_count": 30,
   "metadata": {},
   "outputs": [],
   "source": [
    "import collections"
   ]
  },
  {
   "cell_type": "code",
   "execution_count": 31,
   "metadata": {},
   "outputs": [
    {
     "data": {
      "text/html": [
       "<div>\n",
       "<style scoped>\n",
       "    .dataframe tbody tr th:only-of-type {\n",
       "        vertical-align: middle;\n",
       "    }\n",
       "\n",
       "    .dataframe tbody tr th {\n",
       "        vertical-align: top;\n",
       "    }\n",
       "\n",
       "    .dataframe thead tr th {\n",
       "        text-align: left;\n",
       "    }\n",
       "\n",
       "    .dataframe thead tr:last-of-type th {\n",
       "        text-align: right;\n",
       "    }\n",
       "</style>\n",
       "<table border=\"1\" class=\"dataframe\">\n",
       "  <thead>\n",
       "    <tr>\n",
       "      <th>gendom</th>\n",
       "      <th colspan=\"4\" halign=\"left\">prose.N</th>\n",
       "      <th colspan=\"4\" halign=\"left\">prose.Q</th>\n",
       "      <th colspan=\"4\" halign=\"left\">prophetic.Q</th>\n",
       "      <th colspan=\"4\" halign=\"left\">poetry.Q</th>\n",
       "      <th colspan=\"4\" halign=\"left\">instruction.Q</th>\n",
       "    </tr>\n",
       "    <tr>\n",
       "      <th>Time Position</th>\n",
       "      <th>final</th>\n",
       "      <th>preposed</th>\n",
       "      <th>medial 2</th>\n",
       "      <th>medial 1</th>\n",
       "      <th>final</th>\n",
       "      <th>preposed</th>\n",
       "      <th>medial 2</th>\n",
       "      <th>medial 1</th>\n",
       "      <th>final</th>\n",
       "      <th>preposed</th>\n",
       "      <th>medial 2</th>\n",
       "      <th>medial 1</th>\n",
       "      <th>final</th>\n",
       "      <th>preposed</th>\n",
       "      <th>medial 2</th>\n",
       "      <th>medial 1</th>\n",
       "      <th>final</th>\n",
       "      <th>preposed</th>\n",
       "      <th>medial 2</th>\n",
       "      <th>medial 1</th>\n",
       "    </tr>\n",
       "    <tr>\n",
       "      <th>lex_token</th>\n",
       "      <th></th>\n",
       "      <th></th>\n",
       "      <th></th>\n",
       "      <th></th>\n",
       "      <th></th>\n",
       "      <th></th>\n",
       "      <th></th>\n",
       "      <th></th>\n",
       "      <th></th>\n",
       "      <th></th>\n",
       "      <th></th>\n",
       "      <th></th>\n",
       "      <th></th>\n",
       "      <th></th>\n",
       "      <th></th>\n",
       "      <th></th>\n",
       "      <th></th>\n",
       "      <th></th>\n",
       "      <th></th>\n",
       "      <th></th>\n",
       "    </tr>\n",
       "  </thead>\n",
       "  <tbody>\n",
       "    <tr>\n",
       "      <th>מ׳.ז׳</th>\n",
       "      <td>84</td>\n",
       "      <td>22</td>\n",
       "      <td>7</td>\n",
       "      <td>0</td>\n",
       "      <td>21</td>\n",
       "      <td>10</td>\n",
       "      <td>6</td>\n",
       "      <td>0</td>\n",
       "      <td>8</td>\n",
       "      <td>0</td>\n",
       "      <td>0</td>\n",
       "      <td>0</td>\n",
       "      <td>0</td>\n",
       "      <td>2</td>\n",
       "      <td>0</td>\n",
       "      <td>0</td>\n",
       "      <td>23</td>\n",
       "      <td>24</td>\n",
       "      <td>1</td>\n",
       "      <td>0</td>\n",
       "    </tr>\n",
       "    <tr>\n",
       "      <th>ב.ה.ז׳.הוא</th>\n",
       "      <td>52</td>\n",
       "      <td>6</td>\n",
       "      <td>24</td>\n",
       "      <td>1</td>\n",
       "      <td>12</td>\n",
       "      <td>1</td>\n",
       "      <td>2</td>\n",
       "      <td>0</td>\n",
       "      <td>38</td>\n",
       "      <td>29</td>\n",
       "      <td>6</td>\n",
       "      <td>1</td>\n",
       "      <td>0</td>\n",
       "      <td>1</td>\n",
       "      <td>0</td>\n",
       "      <td>0</td>\n",
       "      <td>2</td>\n",
       "      <td>1</td>\n",
       "      <td>1</td>\n",
       "      <td>0</td>\n",
       "    </tr>\n",
       "    <tr>\n",
       "      <th>ב.ז׳</th>\n",
       "      <td>14</td>\n",
       "      <td>10</td>\n",
       "      <td>5</td>\n",
       "      <td>0</td>\n",
       "      <td>11</td>\n",
       "      <td>4</td>\n",
       "      <td>0</td>\n",
       "      <td>0</td>\n",
       "      <td>24</td>\n",
       "      <td>15</td>\n",
       "      <td>0</td>\n",
       "      <td>1</td>\n",
       "      <td>35</td>\n",
       "      <td>12</td>\n",
       "      <td>4</td>\n",
       "      <td>0</td>\n",
       "      <td>4</td>\n",
       "      <td>9</td>\n",
       "      <td>1</td>\n",
       "      <td>0</td>\n",
       "    </tr>\n",
       "    <tr>\n",
       "      <th>ה.ז׳</th>\n",
       "      <td>24</td>\n",
       "      <td>1</td>\n",
       "      <td>2</td>\n",
       "      <td>0</td>\n",
       "      <td>45</td>\n",
       "      <td>13</td>\n",
       "      <td>32</td>\n",
       "      <td>2</td>\n",
       "      <td>9</td>\n",
       "      <td>5</td>\n",
       "      <td>2</td>\n",
       "      <td>0</td>\n",
       "      <td>10</td>\n",
       "      <td>6</td>\n",
       "      <td>0</td>\n",
       "      <td>3</td>\n",
       "      <td>1</td>\n",
       "      <td>1</td>\n",
       "      <td>0</td>\n",
       "      <td>0</td>\n",
       "    </tr>\n",
       "    <tr>\n",
       "      <th>ב.ה.ז׳</th>\n",
       "      <td>55</td>\n",
       "      <td>1</td>\n",
       "      <td>3</td>\n",
       "      <td>0</td>\n",
       "      <td>21</td>\n",
       "      <td>6</td>\n",
       "      <td>3</td>\n",
       "      <td>0</td>\n",
       "      <td>9</td>\n",
       "      <td>5</td>\n",
       "      <td>1</td>\n",
       "      <td>2</td>\n",
       "      <td>4</td>\n",
       "      <td>5</td>\n",
       "      <td>7</td>\n",
       "      <td>1</td>\n",
       "      <td>5</td>\n",
       "      <td>2</td>\n",
       "      <td>0</td>\n",
       "      <td>0</td>\n",
       "    </tr>\n",
       "  </tbody>\n",
       "</table>\n",
       "</div>"
      ],
      "text/plain": [
       "gendom        prose.N                            prose.Q                    \\\n",
       "Time Position   final preposed medial 2 medial 1   final preposed medial 2   \n",
       "lex_token                                                                    \n",
       "מ׳.ז׳              84       22        7        0      21       10        6   \n",
       "ב.ה.ז׳.הוא         52        6       24        1      12        1        2   \n",
       "ב.ז׳               14       10        5        0      11        4        0   \n",
       "ה.ז׳               24        1        2        0      45       13       32   \n",
       "ב.ה.ז׳             55        1        3        0      21        6        3   \n",
       "\n",
       "gendom                 prophetic.Q                            poetry.Q  \\\n",
       "Time Position medial 1       final preposed medial 2 medial 1    final   \n",
       "lex_token                                                                \n",
       "מ׳.ז׳                0           8        0        0        0        0   \n",
       "ב.ה.ז׳.הוא           0          38       29        6        1        0   \n",
       "ב.ז׳                 0          24       15        0        1       35   \n",
       "ה.ז׳                 2           9        5        2        0       10   \n",
       "ב.ה.ז׳               0           9        5        1        2        4   \n",
       "\n",
       "gendom                                   instruction.Q                    \\\n",
       "Time Position preposed medial 2 medial 1         final preposed medial 2   \n",
       "lex_token                                                                  \n",
       "מ׳.ז׳                2        0        0            23       24        1   \n",
       "ב.ה.ז׳.הוא           1        0        0             2        1        1   \n",
       "ב.ז׳                12        4        0             4        9        1   \n",
       "ה.ז׳                 6        0        3             1        1        0   \n",
       "ב.ה.ז׳               5        7        1             5        2        0   \n",
       "\n",
       "gendom                  \n",
       "Time Position medial 1  \n",
       "lex_token               \n",
       "מ׳.ז׳                0  \n",
       "ב.ה.ז׳.הוא           0  \n",
       "ב.ז׳                 0  \n",
       "ה.ז׳                 0  \n",
       "ב.ה.ז׳               0  "
      ]
     },
     "execution_count": 31,
     "metadata": {},
     "output_type": "execute_result"
    }
   ],
   "source": [
    "posltg_ct = pivot_ct(\n",
    "    main_df,\n",
    "    'lex_token',\n",
    "    ['gendom', 'Time Position'],\n",
    ")\n",
    "\n",
    "posltg_ct = posltg_ct.loc[:, idx[main_gen,:]]\n",
    "\n",
    "posltg_ct.head()"
   ]
  }
 ],
 "metadata": {
  "kernelspec": {
   "display_name": "Python 3",
   "language": "python",
   "name": "python3"
  },
  "language_info": {
   "codemirror_mode": {
    "name": "ipython",
    "version": 3
   },
   "file_extension": ".py",
   "mimetype": "text/x-python",
   "name": "python",
   "nbconvert_exporter": "python",
   "pygments_lexer": "ipython3",
   "version": "3.8.5"
  }
 },
 "nbformat": 4,
 "nbformat_minor": 4
}
