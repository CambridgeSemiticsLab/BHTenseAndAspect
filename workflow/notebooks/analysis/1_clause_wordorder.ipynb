{
 "cells": [
  {
   "cell_type": "markdown",
   "metadata": {},
   "source": [
    "# Clause Word Order (Main Clauses)"
   ]
  },
  {
   "cell_type": "code",
   "execution_count": 1,
   "metadata": {},
   "outputs": [
    {
     "data": {
      "text/plain": [
       "(2217, 71)"
      ]
     },
     "execution_count": 1,
     "metadata": {},
     "output_type": "execute_result"
    }
   ],
   "source": [
    "from scripts.imports import *\n",
    "\n",
    "# designate some additional parameters for a clause to be \"main\"\n",
    "non_main = [\n",
    "    'InfC', 'InfA', 'Reop', \n",
    "    'Voct', 'CPen', 'Ellp', \n",
    "    'MSyn',\n",
    "]\n",
    "\n",
    "main_df = df[\n",
    "    (df.cl_rela == 'Main')\n",
    "    & (~df.cl_type2.isin(non_main))\n",
    "    & (df.n_times == 1)\n",
    "    & (~df.cl_type.isin(['NmCl', 'AjCl']))\n",
    "]\n",
    "\n",
    "out = Exporter(\n",
    "    paths['outdir'],\n",
    "    'clause',\n",
    ")\n",
    "\n",
    "main_df.shape"
   ]
  },
  {
   "cell_type": "markdown",
   "metadata": {},
   "source": [
    "# Exploring Word Order in TA Clauses\n",
    "\n",
    "We have a strict / literal word order tag. We will eventially process that tag into narrower categories. But first, we can do a formal analysis of the strict tag."
   ]
  },
  {
   "cell_type": "code",
   "execution_count": 2,
   "metadata": {},
   "outputs": [
    {
     "name": "stdout",
     "output_type": "stream",
     "text": [
      "(528,)\n"
     ]
    },
    {
     "data": {
      "text/plain": [
       "W-V-T        258\n",
       "W-V-O-T       75\n",
       "T-V-O         72\n",
       "W-V-S-T       71\n",
       "W-V-C-T       67\n",
       "T-V           60\n",
       "W-T-V-C       55\n",
       "T-V-S         50\n",
       "W-V-S-C-T     41\n",
       "W-T-V         40\n",
       "Name: cl_args, dtype: int64"
      ]
     },
     "execution_count": 2,
     "metadata": {},
     "output_type": "execute_result"
    }
   ],
   "source": [
    "clargs_count = main_df.cl_args.value_counts()\n",
    "\n",
    "print(clargs_count.shape)\n",
    "\n",
    "clargs_count.head(10)"
   ]
  },
  {
   "cell_type": "code",
   "execution_count": 3,
   "metadata": {},
   "outputs": [
    {
     "data": {
      "text/plain": [
       "'528'"
      ]
     },
     "execution_count": 3,
     "metadata": {},
     "output_type": "execute_result"
    }
   ],
   "source": [
    "out.number(\n",
    "    clargs_count.shape[0],\n",
    "    'n_clargtags'\n",
    ")"
   ]
  },
  {
   "cell_type": "code",
   "execution_count": 4,
   "metadata": {},
   "outputs": [
    {
     "data": {
      "text/plain": [
       "'A-S-V-C-T-O, A-V-O-T-C, C-V-S-T-O-A, I-V-O-T-C, I-V-O-T-C-C, I-V-T-C, M-V-S-T-C, M-V-T-C, M-V-T-O, Q-V-C-T-S-C, Q-V-O-S-T-C, Q-V-T-C, Q-V-T-S, S-V-C-T-O, S-V-T-C, S-V-T-C-A, S-V-T-O, S-V-T-O-A, V-C-T-O, V-C-T-O-O, V-C-T-S, V-I-C-T-O, V-I-T-O, V-O-T-C, V-O-T-C-A, V-O-T-O, V-S-T-C, V-S-T-O, V-S-T-O-A, V-S-T-O-C, V-T-A-O, V-T-C, V-T-C-A, V-T-C-O, V-T-O, V-T-O-A, V-T-O-C, V-T-S, V-T-S-C, W-I-S-V-T-C, W-L-V-T-C, W-L-V-T-PrC-O-O, W-O-V-O-T-C, W-O-V-T-C, W-PrC-V-T-S, W-S-V-T-C, W-S-V-T-O, W-S-V-T-O-L, W-S-V-T-PrC-A-A, W-V-A-O-T-C, W-V-A-T-O-C, W-V-C-S-T-O, W-V-C-T-A-O, W-V-C-T-C, W-V-C-T-O, W-V-C-T-O-A, W-V-C-T-PrC, W-V-C-T-S, W-V-O-T-A-C-L-A, W-V-O-T-C, W-V-O-T-O, W-V-O-T-S, W-V-S-C-T-C, W-V-S-C-T-O, W-V-S-T-A-O, W-V-S-T-C, W-V-S-T-C-A, W-V-S-T-O, W-V-S-T-O-A, W-V-S-T-O-C, W-V-S-T-PrC, W-V-S-T-PrC-C, W-V-T-A-S, W-V-T-C, W-V-T-C-A, W-V-T-C-C, W-V-T-C-L, W-V-T-O, W-V-T-O-A, W-V-T-O-C-L, W-V-T-O-O, W-V-T-O-S, W-V-T-PrC, W-V-T-PrC-O, W-V-T-S, W-V-T-S-A, W-V-T-S-C-A, W-V-T-S-C-C, W-V-T-S-O'"
      ]
     },
     "execution_count": 4,
     "metadata": {},
     "output_type": "execute_result"
    }
   ],
   "source": [
    "', '.join(sorted(main_df[main_df['Time Position'] == 'medial'].cl_args.unique()))"
   ]
  },
  {
   "cell_type": "code",
   "execution_count": 5,
   "metadata": {},
   "outputs": [
    {
     "data": {
      "text/plain": [
       "'A-T-C-V, A-T-V, A-T-V-O-A, C-T-V, C-T-V-O, C-T-V-PrC-C, C-T-V-S, C-T-V-S-C, I-T-V-C-S-C, I-T-V-O, I-T-V-O-A, I-T-V-S-O, M-S-T-V, M-T-S-V, M-T-V-C, O-T-V, Q-T-A-V, Q-T-V, Q-T-V-C, Q-T-V-O, Q-T-V-S, Q-T-V-S-A, S-T-O-V-A, S-T-V, S-T-V-C-C, S-T-V-O, S-T-V-O-A, T-A-PrC-V-C, T-A-S-V-C-O, T-A-T-V-C, T-A-V, T-A-V-C-A, T-A-V-O, T-A-V-O-C, T-C-V, T-C-V-O, T-C-V-S, T-L-M-V-S-A, T-M-V-S, T-M-V-S-C, T-O-V, T-O-V-C, T-PrA-V, T-PrC-V, T-S-V, T-S-V-A, T-S-V-C, T-S-V-C-A, T-S-V-L, T-S-V-O, T-S-V-O-A, T-S-V-PrC, T-T-V-S-A-A, T-V, T-V-A, T-V-A-A, T-V-A-C, T-V-A-L, T-V-A-O, T-V-A-S, T-V-C, T-V-C-A, T-V-C-C-A, T-V-C-C-A-A, T-V-C-L, T-V-C-O, T-V-C-O-A, T-V-C-PrC-A, T-V-C-S, T-V-C-S-O, T-V-L, T-V-L-O, T-V-M, T-V-M-S-A, T-V-O, T-V-O-A, T-V-O-A-C-C, T-V-O-C, T-V-O-C-A, T-V-O-I-C, T-V-O-L, T-V-O-M, T-V-O-O, T-V-O-O-C, T-V-O-S, T-V-O-S-A, T-V-O-S-A-L, T-V-O-S-C, T-V-PrC, T-V-PrC-A, T-V-PrC-C, T-V-PrC-S, T-V-PrC-S-A, T-V-S, T-V-S-A, T-V-S-A-A, T-V-S-A-A-A, T-V-S-A-C, T-V-S-A-L, T-V-S-A-O, T-V-S-C, T-V-S-C-A, T-V-S-C-A-A, T-V-S-C-C, T-V-S-C-O, T-V-S-C-O-A, T-V-S-L, T-V-S-L-A, T-V-S-O, T-V-S-O-A, T-V-S-O-A-A, T-V-S-O-C, T-V-S-O-C-A, T-V-S-O-C-C-A, T-V-S-O-C-L, T-V-S-O-C-L-A-A, T-V-S-O-L, T-V-S-O-L-A, T-V-S-PrC, T-V-S-PrC-A, T-V-S-PrC-A-A, T-V-S-PrC-C-A, W-C-T-V, W-C-T-V-O, W-M-T-S-V, W-O-T-V, W-O-T-V-A, W-S-T-V, W-S-T-V-A, W-S-T-V-C, W-S-T-V-C-A, W-S-T-V-O, W-S-T-V-PrC, W-T-A-A-V-O-A, W-T-A-S-V-PrC, W-T-A-V, W-T-A-V-C, W-T-A-V-C-A, W-T-A-V-O, W-T-A-V-S, W-T-A-V-S-O, W-T-C-S-V-C-A, W-T-C-V, W-T-I-V, W-T-M-V-O, W-T-O-M-A-V, W-T-O-V, W-T-O-V-C, W-T-PrC-V, W-T-S-C-V, W-T-S-V, W-T-S-V-A-A, W-T-S-V-C, W-T-S-V-C-A, W-T-S-V-C-O, W-T-S-V-O, W-T-S-V-PrC, W-T-V, W-T-V-A, W-T-V-A-M, W-T-V-A-S, W-T-V-C, W-T-V-C-A, W-T-V-C-O, W-T-V-C-S, W-T-V-L, W-T-V-M, W-T-V-O, W-T-V-O-A, W-T-V-O-C, W-T-V-O-C-A, W-T-V-O-C-L, W-T-V-O-C-O-T, W-T-V-O-C-PrA, W-T-V-O-L, W-T-V-O-L-L, W-T-V-O-M, W-T-V-O-O, W-T-V-O-PrA-C, W-T-V-O-S, W-T-V-O-S-C, W-T-V-O-S-C-A, W-T-V-PrA-C-O, W-T-V-PrC, W-T-V-PrC-A, W-T-V-S, W-T-V-S-A, W-T-V-S-C, W-T-V-S-C-A, W-T-V-S-C-C, W-T-V-S-L-A, W-T-V-S-O, W-T-V-S-O-C, W-T-V-S-O-C-L, W-T-V-S-PrC'"
      ]
     },
     "execution_count": 5,
     "metadata": {},
     "output_type": "execute_result"
    }
   ],
   "source": [
    "', '.join(sorted(main_df[main_df['Time Position'] == 'preposed'].cl_args.unique()))"
   ]
  },
  {
   "cell_type": "code",
   "execution_count": 6,
   "metadata": {},
   "outputs": [
    {
     "data": {
      "text/plain": [
       "'A-O-V-C-S-T, A-S-V-O-O-T, A-S-V-T, A-V-C-O-T, A-V-C-S-L-L-T, A-V-C-T, A-V-O-O-T, A-V-O-S-T, A-V-O-T, A-V-S-C-L-T, A-V-S-O-T, A-V-S-PrC-C-T-A, A-V-S-T, A-V-T, C-S-V-M-T, C-S-V-T, C-V-C-T-A, C-V-O-T, C-V-S-T, C-V-S-T-A, C-V-T, I-S-V-C-T-M, I-S-V-L-T, I-V-S-O-A-M-T-A, L-V-S-C-A-T, L-V-T, M-O-V-O-T, M-V-C-L-O-T, M-V-C-T, M-V-C-T-A, M-V-O-I-T, M-V-O-T-A, M-V-S-PrC-T, M-V-S-T, M-V-T, M-V-T-A, O-S-V-T, O-V-A-T, O-V-C-L-T, O-V-C-T-A, O-V-O-T, O-V-T, O-V-T-A, PrC-V-C-T, PrC-V-S-T, Q-S-V-C-T, Q-V-C-T, Q-V-O-T, Q-V-PrC-T, Q-V-S-T, Q-V-T, Q-V-T-A, Q-V-T-A-A, S-C-V-T, S-V-C-A-M-T, S-V-C-L-T, S-V-C-T, S-V-C-T-A, S-V-M-T-A, S-V-O-A-T, S-V-O-T, S-V-PrC-C-T, S-V-PrC-T, S-V-T, S-V-T-A, T, V-A-T, V-C-M-S-PrC-T, V-C-O-T, V-C-T, V-I-C-S-T, V-I-C-T, V-I-O-T, V-I-T, V-L-T, V-M-T, V-O-A-C-T, V-O-A-T, V-O-C-T, V-O-O-T, V-O-S-T, V-O-T, V-O-T-A, V-PrC-S-T, V-PrC-T, V-S-A-T, V-S-C-T, V-S-C-T-A, V-S-O-C-T, V-S-O-T, V-S-T, V-S-T-L, V-T, V-T-A, V-T-M, V-T-PrA-A, W-A-S-V-A-T, W-A-S-V-C-T, W-A-V-S-C-O-T-L, W-A-V-T, W-C-S-V-T, W-C-V-O-T, W-C-V-S-L-T, W-C-V-S-T, W-C-V-T, W-I-S-V-C-T, W-L-V-T, W-M-V-C-T, W-O-V-C-A-T, W-O-V-C-T, W-O-V-S-T, W-O-V-S-T-A, W-O-V-T, W-O-V-T-A, W-PrC-V-S-T-A, W-Q-S-V-O-T, W-Q-V-C-T-A, W-Q-V-S-T-M, W-Q-V-T, W-S-A-V-PrC-T, W-S-C-V-T, W-S-M-V-O-T-A, W-S-PrA-V-T, W-S-PrC-V-T-L, W-S-V-A-M-T, W-S-V-A-T, W-S-V-C-L-T, W-S-V-C-O-T, W-S-V-C-T, W-S-V-C-T-A, W-S-V-M-T, W-S-V-O-A-T, W-S-V-O-C-T, W-S-V-O-L-T, W-S-V-O-T, W-S-V-O-T-A, W-S-V-O-T-A-A, W-S-V-PrA-T, W-S-V-PrC-C-A-T, W-S-V-PrC-C-T, W-S-V-PrC-L-T, W-S-V-PrC-T, W-S-V-PrC-T-A, W-S-V-T, W-S-V-T-A, W-S-V-T-A-A, W-S-V-T-L, W-V-A-L-PrC-T, W-V-A-O-T, W-V-A-T, W-V-A-T-A, W-V-A-T-L, W-V-C-A-T, W-V-C-C-T, W-V-C-M-T, W-V-C-O-A-L-T, W-V-C-O-A-T, W-V-C-O-L-T, W-V-C-O-T, W-V-C-PrC-T, W-V-C-PrC-T-T, W-V-C-S-PrC-T, W-V-C-S-T, W-V-C-S-T-A, W-V-C-T, W-V-C-T-A, W-V-C-T-L, W-V-C-T-PrA-A, W-V-I-C-T, W-V-L-PrC-T, W-V-L-S-L-T, W-V-L-S-PrC-T-A, W-V-L-S-T-A, W-V-L-T, W-V-L-T-A, W-V-M-PrC-T, W-V-M-T, W-V-M-T-A-A, W-V-O-A-A-T, W-V-O-A-C-T, W-V-O-A-T, W-V-O-C-A-T, W-V-O-C-C-T-A, W-V-O-C-M-T, W-V-O-C-T, W-V-O-C-T-A, W-V-O-L-T, W-V-O-L-T-A, W-V-O-O-T, W-V-O-S-C-T, W-V-O-S-C-T-L, W-V-O-S-T, W-V-O-S-T-A, W-V-O-S-T-M, W-V-O-T, W-V-O-T-A, W-V-O-T-M, W-V-PrC-A-T, W-V-PrC-C-T, W-V-PrC-T, W-V-PrC-T-A, W-V-PrC-T-A-L, W-V-S-A-A-A-T, W-V-S-A-C-T, W-V-S-A-L-T, W-V-S-A-O-C-T, W-V-S-A-O-T, W-V-S-A-T, W-V-S-A-T-A, W-V-S-C-A-T, W-V-S-C-C-T, W-V-S-C-L-T, W-V-S-C-O-A-T, W-V-S-C-O-T, W-V-S-C-T, W-V-S-C-T-A, W-V-S-L-A-T, W-V-S-L-O-T-A, W-V-S-L-T, W-V-S-M-C-T-A, W-V-S-M-PrC-T, W-V-S-M-T, W-V-S-O-A-C-A-A-L-T, W-V-S-O-A-T, W-V-S-O-C-L-T, W-V-S-O-C-T, W-V-S-O-C-T-L, W-V-S-O-L-T, W-V-S-O-T, W-V-S-O-T-A, W-V-S-O-T-M, W-V-S-PrC-A-T, W-V-S-PrC-C-T, W-V-S-PrC-O-T, W-V-S-PrC-T, W-V-S-T, W-V-S-T-A, W-V-S-T-A-A, W-V-S-T-L, W-V-S-T-L-PrA, W-V-S-T-M, W-V-S-T-PrA, W-V-T, W-V-T-A'"
      ]
     },
     "execution_count": 6,
     "metadata": {},
     "output_type": "execute_result"
    }
   ],
   "source": [
    "', '.join(sorted(main_df[main_df['Time Position'] == 'final'].cl_args.unique()))"
   ]
  },
  {
   "cell_type": "markdown",
   "metadata": {},
   "source": [
    "## Overall Position Counts"
   ]
  },
  {
   "cell_type": "code",
   "execution_count": 7,
   "metadata": {},
   "outputs": [
    {
     "data": {
      "text/html": [
       "<div>\n",
       "<style scoped>\n",
       "    .dataframe tbody tr th:only-of-type {\n",
       "        vertical-align: middle;\n",
       "    }\n",
       "\n",
       "    .dataframe tbody tr th {\n",
       "        vertical-align: top;\n",
       "    }\n",
       "\n",
       "    .dataframe thead th {\n",
       "        text-align: right;\n",
       "    }\n",
       "</style>\n",
       "<table border=\"1\" class=\"dataframe\">\n",
       "  <thead>\n",
       "    <tr style=\"text-align: right;\">\n",
       "      <th></th>\n",
       "      <th>count</th>\n",
       "      <th>percent</th>\n",
       "    </tr>\n",
       "    <tr>\n",
       "      <th>Time Position</th>\n",
       "      <th></th>\n",
       "      <th></th>\n",
       "    </tr>\n",
       "  </thead>\n",
       "  <tbody>\n",
       "    <tr>\n",
       "      <th>final</th>\n",
       "      <td>1246</td>\n",
       "      <td>56%</td>\n",
       "    </tr>\n",
       "    <tr>\n",
       "      <th>preposed</th>\n",
       "      <td>789</td>\n",
       "      <td>36%</td>\n",
       "    </tr>\n",
       "    <tr>\n",
       "      <th>medial</th>\n",
       "      <td>182</td>\n",
       "      <td>8%</td>\n",
       "    </tr>\n",
       "  </tbody>\n",
       "</table>\n",
       "</div>"
      ],
      "text/plain": [
       "               count percent\n",
       "Time Position               \n",
       "final           1246     56%\n",
       "preposed         789     36%\n",
       "medial           182      8%"
      ]
     },
     "execution_count": 7,
     "metadata": {},
     "output_type": "execute_result"
    }
   ],
   "source": [
    "pos_ct = main_df['Time Position'].value_counts()\n",
    "pos_pr = pos_ct / pos_ct.sum()\n",
    "pos_cp = join_ct_pr(pos_ct, pos_pr)\n",
    "pos_cp.rename_axis(index='Time Position', inplace=True)\n",
    "\n",
    "out.table(\n",
    "    pos_cp,\n",
    "    'posi_cp',\n",
    "    caption='Counts for Time Clause Positions in Hebrew Bible'\n",
    ")\n",
    "\n",
    "pos_cp"
   ]
  },
  {
   "cell_type": "code",
   "execution_count": 8,
   "metadata": {},
   "outputs": [
    {
     "data": {
      "text/plain": [
       "'36'"
      ]
     },
     "execution_count": 8,
     "metadata": {},
     "output_type": "execute_result"
    }
   ],
   "source": [
    "out.number(\n",
    "    pos_pr.loc['preposed']*100,\n",
    "    'prepose_all_pr',\n",
    ")"
   ]
  },
  {
   "cell_type": "markdown",
   "metadata": {},
   "source": [
    "## Playing Around with Distribution Through HB"
   ]
  },
  {
   "cell_type": "code",
   "execution_count": 9,
   "metadata": {},
   "outputs": [
    {
     "data": {
      "text/plain": [
       "<AxesSubplot:xlabel='cl_clust10'>"
      ]
     },
     "execution_count": 9,
     "metadata": {},
     "output_type": "execute_result"
    },
    {
     "data": {
      "image/png": "[encoded data removed]",
      "text/plain": [
       "<Figure size 432x288 with 1 Axes>"
      ]
     },
     "metadata": {
      "needs_background": "light"
     },
     "output_type": "display_data"
    }
   ],
   "source": [
    "sns.swarmplot(x=main_df[main_df['Time Position'] == 'preposed'].cl_clust10)"
   ]
  },
  {
   "cell_type": "code",
   "execution_count": 10,
   "metadata": {},
   "outputs": [
    {
     "data": {
      "text/plain": [
       "<AxesSubplot:xlabel='cl_clust10'>"
      ]
     },
     "execution_count": 10,
     "metadata": {},
     "output_type": "execute_result"
    },
    {
     "data": {
      "image/png": "[encoded data removed]",
      "text/plain": [
       "<Figure size 432x288 with 1 Axes>"
      ]
     },
     "metadata": {
      "needs_background": "light"
     },
     "output_type": "display_data"
    }
   ],
   "source": [
    "sns.swarmplot(x=main_df[main_df['Time Position'] == 'medial'].cl_clust10)"
   ]
  },
  {
   "cell_type": "markdown",
   "metadata": {},
   "source": [
    "## Position Counts by Genre"
   ]
  },
  {
   "cell_type": "code",
   "execution_count": 11,
   "metadata": {},
   "outputs": [
    {
     "data": {
      "text/html": [
       "<div>\n",
       "<style scoped>\n",
       "    .dataframe tbody tr th:only-of-type {\n",
       "        vertical-align: middle;\n",
       "    }\n",
       "\n",
       "    .dataframe tbody tr th {\n",
       "        vertical-align: top;\n",
       "    }\n",
       "\n",
       "    .dataframe thead th {\n",
       "        text-align: right;\n",
       "    }\n",
       "</style>\n",
       "<table border=\"1\" class=\"dataframe\">\n",
       "  <thead>\n",
       "    <tr style=\"text-align: right;\">\n",
       "      <th>Time Position</th>\n",
       "      <th>final</th>\n",
       "      <th>preposed</th>\n",
       "      <th>medial</th>\n",
       "    </tr>\n",
       "    <tr>\n",
       "      <th>gendom</th>\n",
       "      <th></th>\n",
       "      <th></th>\n",
       "      <th></th>\n",
       "    </tr>\n",
       "  </thead>\n",
       "  <tbody>\n",
       "    <tr>\n",
       "      <th>prose.N</th>\n",
       "      <td>529</td>\n",
       "      <td>117</td>\n",
       "      <td>68</td>\n",
       "    </tr>\n",
       "    <tr>\n",
       "      <th>prose.Q</th>\n",
       "      <td>243</td>\n",
       "      <td>164</td>\n",
       "      <td>63</td>\n",
       "    </tr>\n",
       "    <tr>\n",
       "      <th>prophetic.Q</th>\n",
       "      <td>159</td>\n",
       "      <td>153</td>\n",
       "      <td>16</td>\n",
       "    </tr>\n",
       "    <tr>\n",
       "      <th>poetry.Q</th>\n",
       "      <td>110</td>\n",
       "      <td>120</td>\n",
       "      <td>21</td>\n",
       "    </tr>\n",
       "    <tr>\n",
       "      <th>instruction.Q</th>\n",
       "      <td>107</td>\n",
       "      <td>82</td>\n",
       "      <td>7</td>\n",
       "    </tr>\n",
       "  </tbody>\n",
       "</table>\n",
       "</div>"
      ],
      "text/plain": [
       "Time Position  final  preposed  medial\n",
       "gendom                                \n",
       "prose.N          529       117      68\n",
       "prose.Q          243       164      63\n",
       "prophetic.Q      159       153      16\n",
       "poetry.Q         110       120      21\n",
       "instruction.Q    107        82       7"
      ]
     },
     "execution_count": 11,
     "metadata": {},
     "output_type": "execute_result"
    }
   ],
   "source": [
    "posg_ct = pivot_ct(\n",
    "    main_df,\n",
    "    'gendom',\n",
    "    'Time Position',\n",
    ")\n",
    "\n",
    "main_gen = ['prose.N', 'prose.Q', 'prophetic.Q', 'poetry.Q', 'instruction.Q']\n",
    "\n",
    "posg_ct = posg_ct.loc[main_gen]\n",
    "\n",
    "posg_pr = posg_ct.div(posg_ct.sum(1), 0).round(2)\n",
    "\n",
    "out.table(\n",
    "    posg_ct,\n",
    "    'posig_ct',\n",
    "    caption='Counts for Time Clause Positions by Genre',\n",
    ")"
   ]
  },
  {
   "cell_type": "code",
   "execution_count": 12,
   "metadata": {},
   "outputs": [
    {
     "data": {
      "text/html": [
       "<div>\n",
       "<style scoped>\n",
       "    .dataframe tbody tr th:only-of-type {\n",
       "        vertical-align: middle;\n",
       "    }\n",
       "\n",
       "    .dataframe tbody tr th {\n",
       "        vertical-align: top;\n",
       "    }\n",
       "\n",
       "    .dataframe thead th {\n",
       "        text-align: right;\n",
       "    }\n",
       "</style>\n",
       "<table border=\"1\" class=\"dataframe\">\n",
       "  <thead>\n",
       "    <tr style=\"text-align: right;\">\n",
       "      <th>Time Position</th>\n",
       "      <th>final</th>\n",
       "      <th>preposed</th>\n",
       "      <th>medial</th>\n",
       "    </tr>\n",
       "    <tr>\n",
       "      <th>gendom</th>\n",
       "      <th></th>\n",
       "      <th></th>\n",
       "      <th></th>\n",
       "    </tr>\n",
       "  </thead>\n",
       "  <tbody>\n",
       "    <tr>\n",
       "      <th>prose.N</th>\n",
       "      <td>74%</td>\n",
       "      <td>16%</td>\n",
       "      <td>10%</td>\n",
       "    </tr>\n",
       "    <tr>\n",
       "      <th>prose.Q</th>\n",
       "      <td>52%</td>\n",
       "      <td>35%</td>\n",
       "      <td>13%</td>\n",
       "    </tr>\n",
       "    <tr>\n",
       "      <th>prophetic.Q</th>\n",
       "      <td>48%</td>\n",
       "      <td>47%</td>\n",
       "      <td>5%</td>\n",
       "    </tr>\n",
       "    <tr>\n",
       "      <th>poetry.Q</th>\n",
       "      <td>44%</td>\n",
       "      <td>48%</td>\n",
       "      <td>8%</td>\n",
       "    </tr>\n",
       "    <tr>\n",
       "      <th>instruction.Q</th>\n",
       "      <td>55%</td>\n",
       "      <td>42%</td>\n",
       "      <td>4%</td>\n",
       "    </tr>\n",
       "  </tbody>\n",
       "</table>\n",
       "</div>"
      ],
      "text/plain": [
       "Time Position final preposed medial\n",
       "gendom                             \n",
       "prose.N         74%      16%    10%\n",
       "prose.Q         52%      35%    13%\n",
       "prophetic.Q     48%      47%     5%\n",
       "poetry.Q        44%      48%     8%\n",
       "instruction.Q   55%      42%     4%"
      ]
     },
     "execution_count": 12,
     "metadata": {},
     "output_type": "execute_result"
    }
   ],
   "source": [
    "out.table(\n",
    "    posg_pr.mul(100).round(2).astype(int).astype(str)+'%',\n",
    "    'posig_pr',\n",
    "    caption='Percentages for Time Clause Positions by Genre',\n",
    ")"
   ]
  },
  {
   "cell_type": "code",
   "execution_count": 13,
   "metadata": {},
   "outputs": [
    {
     "data": {
      "text/plain": [
       "'16'"
      ]
     },
     "execution_count": 13,
     "metadata": {},
     "output_type": "execute_result"
    }
   ],
   "source": [
    "out.number(\n",
    "    posg_pr.loc['prose.N']['preposed']*100,\n",
    "    'proseN_pre_pr',\n",
    ")"
   ]
  },
  {
   "cell_type": "code",
   "execution_count": 14,
   "metadata": {},
   "outputs": [
    {
     "data": {
      "text/plain": [
       "'35'"
      ]
     },
     "execution_count": 14,
     "metadata": {},
     "output_type": "execute_result"
    }
   ],
   "source": [
    "out.number(\n",
    "    posg_pr.loc['prose.Q']['preposed']*100,\n",
    "    'proseQ_pre_pr',\n",
    ")"
   ]
  },
  {
   "cell_type": "code",
   "execution_count": 15,
   "metadata": {},
   "outputs": [
    {
     "data": {
      "text/plain": [
       "'48'"
      ]
     },
     "execution_count": 15,
     "metadata": {},
     "output_type": "execute_result"
    }
   ],
   "source": [
    "out.number(\n",
    "    posg_pr.loc['poetry.Q']['preposed']*100,\n",
    "    'poetry_pre_pr',\n",
    ")"
   ]
  },
  {
   "cell_type": "code",
   "execution_count": 16,
   "metadata": {},
   "outputs": [
    {
     "data": {
      "text/plain": [
       "'47'"
      ]
     },
     "execution_count": 16,
     "metadata": {},
     "output_type": "execute_result"
    }
   ],
   "source": [
    "out.number(\n",
    "    posg_pr.loc['prophetic.Q']['preposed']*100,\n",
    "    'proph_pre_pr',\n",
    ")"
   ]
  },
  {
   "cell_type": "code",
   "execution_count": 17,
   "metadata": {},
   "outputs": [
    {
     "data": {
      "text/plain": [
       "'42'"
      ]
     },
     "execution_count": 17,
     "metadata": {},
     "output_type": "execute_result"
    }
   ],
   "source": [
    "out.number(\n",
    "    posg_pr.loc['instruction.Q']['preposed']*100,\n",
    "    'instr_pre_pr',\n",
    ")"
   ]
  },
  {
   "cell_type": "code",
   "execution_count": 18,
   "metadata": {},
   "outputs": [],
   "source": [
    "# todo: make 2x3 subplots with barplots but have the last row\n",
    "# omit a plot in order to plot 5 of them\n",
    "\n",
    "# https://stackoverflow.com/questions/26767281/position-5-subplots-in-matplotlib"
   ]
  },
  {
   "cell_type": "markdown",
   "metadata": {},
   "source": [
    "# Position Counts by Tokenlex"
   ]
  },
  {
   "cell_type": "code",
   "execution_count": 27,
   "metadata": {},
   "outputs": [
    {
     "name": "stdout",
     "output_type": "stream",
     "text": [
      "(89, 3)\n",
      "(36, 3)\n"
     ]
    },
    {
     "data": {
      "text/html": [
       "<div>\n",
       "<style scoped>\n",
       "    .dataframe tbody tr th:only-of-type {\n",
       "        vertical-align: middle;\n",
       "    }\n",
       "\n",
       "    .dataframe tbody tr th {\n",
       "        vertical-align: top;\n",
       "    }\n",
       "\n",
       "    .dataframe thead th {\n",
       "        text-align: right;\n",
       "    }\n",
       "</style>\n",
       "<table border=\"1\" class=\"dataframe\">\n",
       "  <thead>\n",
       "    <tr style=\"text-align: right;\">\n",
       "      <th>Time Position</th>\n",
       "      <th>final</th>\n",
       "      <th>preposed</th>\n",
       "      <th>medial</th>\n",
       "    </tr>\n",
       "  </thead>\n",
       "  <tbody>\n",
       "    <tr>\n",
       "      <th>\\texthebrew{מ׳.זמן}</th>\n",
       "      <td>153</td>\n",
       "      <td>82</td>\n",
       "      <td>14</td>\n",
       "    </tr>\n",
       "    <tr>\n",
       "      <th>\\texthebrew{ב.ה.זמן.הוא}</th>\n",
       "      <td>114</td>\n",
       "      <td>58</td>\n",
       "      <td>35</td>\n",
       "    </tr>\n",
       "    <tr>\n",
       "      <th>\\texthebrew{ב.זמן}</th>\n",
       "      <td>99</td>\n",
       "      <td>66</td>\n",
       "      <td>10</td>\n",
       "    </tr>\n",
       "    <tr>\n",
       "      <th>\\texthebrew{ה.זמן}</th>\n",
       "      <td>92</td>\n",
       "      <td>32</td>\n",
       "      <td>36</td>\n",
       "    </tr>\n",
       "    <tr>\n",
       "      <th>\\texthebrew{ל.זמן}</th>\n",
       "      <td>86</td>\n",
       "      <td>42</td>\n",
       "      <td>12</td>\n",
       "    </tr>\n",
       "    <tr>\n",
       "      <th>\\texthebrew{ב.ה.זמן}</th>\n",
       "      <td>90</td>\n",
       "      <td>23</td>\n",
       "      <td>15</td>\n",
       "    </tr>\n",
       "    <tr>\n",
       "      <th>\\texthebrew{ב.ה.זמן.ס׳}</th>\n",
       "      <td>60</td>\n",
       "      <td>42</td>\n",
       "      <td>8</td>\n",
       "    </tr>\n",
       "    <tr>\n",
       "      <th>\\texthebrew{עד.זמן}</th>\n",
       "      <td>62</td>\n",
       "      <td>44</td>\n",
       "      <td>0</td>\n",
       "    </tr>\n",
       "    <tr>\n",
       "      <th>\\texthebrew{זמן}</th>\n",
       "      <td>53</td>\n",
       "      <td>41</td>\n",
       "      <td>10</td>\n",
       "    </tr>\n",
       "    <tr>\n",
       "      <th>\\texthebrew{ב.מ׳.זמן}</th>\n",
       "      <td>33</td>\n",
       "      <td>34</td>\n",
       "      <td>3</td>\n",
       "    </tr>\n",
       "    <tr>\n",
       "      <th>\\texthebrew{עתה}</th>\n",
       "      <td>6</td>\n",
       "      <td>61</td>\n",
       "      <td>0</td>\n",
       "    </tr>\n",
       "    <tr>\n",
       "      <th>\\texthebrew{אחר.זמן}</th>\n",
       "      <td>30</td>\n",
       "      <td>34</td>\n",
       "      <td>1</td>\n",
       "    </tr>\n",
       "    <tr>\n",
       "      <th>\\texthebrew{ב.ה.זמן.היא}</th>\n",
       "      <td>31</td>\n",
       "      <td>22</td>\n",
       "      <td>5</td>\n",
       "    </tr>\n",
       "    <tr>\n",
       "      <th>\\texthebrew{עד.ה.זמן}</th>\n",
       "      <td>54</td>\n",
       "      <td>0</td>\n",
       "      <td>2</td>\n",
       "    </tr>\n",
       "    <tr>\n",
       "      <th>\\texthebrew{מן.זמן}</th>\n",
       "      <td>35</td>\n",
       "      <td>18</td>\n",
       "      <td>2</td>\n",
       "    </tr>\n",
       "    <tr>\n",
       "      <th>\\texthebrew{אז}</th>\n",
       "      <td>1</td>\n",
       "      <td>52</td>\n",
       "      <td>0</td>\n",
       "    </tr>\n",
       "    <tr>\n",
       "      <th>\\texthebrew{עד.ה.זמן.זה}</th>\n",
       "      <td>52</td>\n",
       "      <td>1</td>\n",
       "      <td>0</td>\n",
       "    </tr>\n",
       "    <tr>\n",
       "      <th>\\texthebrew{אחר}</th>\n",
       "      <td>0</td>\n",
       "      <td>31</td>\n",
       "      <td>0</td>\n",
       "    </tr>\n",
       "    <tr>\n",
       "      <th>\\texthebrew{לילה}</th>\n",
       "      <td>22</td>\n",
       "      <td>4</td>\n",
       "      <td>5</td>\n",
       "    </tr>\n",
       "    <tr>\n",
       "      <th>\\texthebrew{מחר}</th>\n",
       "      <td>4</td>\n",
       "      <td>13</td>\n",
       "      <td>4</td>\n",
       "    </tr>\n",
       "    <tr>\n",
       "      <th>\\texthebrew{ב.ה.זמן.הם}</th>\n",
       "      <td>7</td>\n",
       "      <td>12</td>\n",
       "      <td>0</td>\n",
       "    </tr>\n",
       "    <tr>\n",
       "      <th>\\texthebrew{ל.ה.זמן}</th>\n",
       "      <td>7</td>\n",
       "      <td>6</td>\n",
       "      <td>6</td>\n",
       "    </tr>\n",
       "    <tr>\n",
       "      <th>\\texthebrew{ה.זמן.זה}</th>\n",
       "      <td>7</td>\n",
       "      <td>9</td>\n",
       "      <td>2</td>\n",
       "    </tr>\n",
       "    <tr>\n",
       "      <th>\\texthebrew{ב.ה.זמן.זה}</th>\n",
       "      <td>12</td>\n",
       "      <td>4</td>\n",
       "      <td>0</td>\n",
       "    </tr>\n",
       "    <tr>\n",
       "      <th>\\texthebrew{כ.ה.זמן}</th>\n",
       "      <td>4</td>\n",
       "      <td>4</td>\n",
       "      <td>7</td>\n",
       "    </tr>\n",
       "  </tbody>\n",
       "</table>\n",
       "</div>"
      ],
      "text/plain": [
       "Time Position             final  preposed  medial\n",
       "\\texthebrew{מ׳.זמן}         153        82      14\n",
       "\\texthebrew{ב.ה.זמן.הוא}    114        58      35\n",
       "\\texthebrew{ב.זמן}           99        66      10\n",
       "\\texthebrew{ה.זמן}           92        32      36\n",
       "\\texthebrew{ל.זמן}           86        42      12\n",
       "\\texthebrew{ב.ה.זמן}         90        23      15\n",
       "\\texthebrew{ב.ה.זמן.ס׳}      60        42       8\n",
       "\\texthebrew{עד.זמן}          62        44       0\n",
       "\\texthebrew{זמן}             53        41      10\n",
       "\\texthebrew{ב.מ׳.זמן}        33        34       3\n",
       "\\texthebrew{עתה}              6        61       0\n",
       "\\texthebrew{אחר.זמן}         30        34       1\n",
       "\\texthebrew{ב.ה.זמן.היא}     31        22       5\n",
       "\\texthebrew{עד.ה.זמן}        54         0       2\n",
       "\\texthebrew{מן.זמן}          35        18       2\n",
       "\\texthebrew{אז}               1        52       0\n",
       "\\texthebrew{עד.ה.זמן.זה}     52         1       0\n",
       "\\texthebrew{אחר}              0        31       0\n",
       "\\texthebrew{לילה}            22         4       5\n",
       "\\texthebrew{מחר}              4        13       4\n",
       "\\texthebrew{ב.ה.זמן.הם}       7        12       0\n",
       "\\texthebrew{ל.ה.זמן}          7         6       6\n",
       "\\texthebrew{ה.זמן.זה}         7         9       2\n",
       "\\texthebrew{ב.ה.זמן.זה}      12         4       0\n",
       "\\texthebrew{כ.ה.זמן}          4         4       7"
      ]
     },
     "execution_count": 27,
     "metadata": {},
     "output_type": "execute_result"
    }
   ],
   "source": [
    "poslt_ct = pivot_ct(\n",
    "    main_df,\n",
    "    'lex_token',\n",
    "    'Time Position',\n",
    ")\n",
    "\n",
    "print(poslt_ct.shape)\n",
    "\n",
    "out.number(\n",
    "    poslt_ct.shape[0],\n",
    "    'shape_posltct_prefilt'\n",
    ")\n",
    "\n",
    "# filter out by occurrences at least 5\n",
    "poslt_ct = poslt_ct[poslt_ct.sum(1) >= 5]\n",
    "\n",
    "print(poslt_ct.shape)\n",
    "\n",
    "out.number(\n",
    "    poslt_ct.shape[0],\n",
    "    'shape_posltct_filt'\n",
    ")\n",
    "\n",
    "out.number(\n",
    "    poslt_ct.size,\n",
    "    'size_posltct_filt'\n",
    ")\n",
    "\n",
    "out.table(\n",
    "    poslt_ct.head(25),\n",
    "    'poslt_ct_25',\n",
    "    caption='Lexeme-Modifier Token Counts by Position in Clause (top 25)',\n",
    "    hebindex=True\n",
    ")"
   ]
  },
  {
   "cell_type": "code",
   "execution_count": 20,
   "metadata": {},
   "outputs": [
    {
     "data": {
      "text/html": [
       "<div>\n",
       "<style scoped>\n",
       "    .dataframe tbody tr th:only-of-type {\n",
       "        vertical-align: middle;\n",
       "    }\n",
       "\n",
       "    .dataframe tbody tr th {\n",
       "        vertical-align: top;\n",
       "    }\n",
       "\n",
       "    .dataframe thead th {\n",
       "        text-align: right;\n",
       "    }\n",
       "</style>\n",
       "<table border=\"1\" class=\"dataframe\">\n",
       "  <thead>\n",
       "    <tr style=\"text-align: right;\">\n",
       "      <th>Time Position</th>\n",
       "      <th>final</th>\n",
       "      <th>preposed</th>\n",
       "      <th>medial</th>\n",
       "    </tr>\n",
       "    <tr>\n",
       "      <th>lex_token</th>\n",
       "      <th></th>\n",
       "      <th></th>\n",
       "      <th></th>\n",
       "    </tr>\n",
       "  </thead>\n",
       "  <tbody>\n",
       "    <tr>\n",
       "      <th>מ׳.זמן</th>\n",
       "      <td>0.614458</td>\n",
       "      <td>0.329317</td>\n",
       "      <td>0.056225</td>\n",
       "    </tr>\n",
       "    <tr>\n",
       "      <th>ב.ה.זמן.הוא</th>\n",
       "      <td>0.550725</td>\n",
       "      <td>0.280193</td>\n",
       "      <td>0.169082</td>\n",
       "    </tr>\n",
       "    <tr>\n",
       "      <th>ב.זמן</th>\n",
       "      <td>0.565714</td>\n",
       "      <td>0.377143</td>\n",
       "      <td>0.057143</td>\n",
       "    </tr>\n",
       "    <tr>\n",
       "      <th>ה.זמן</th>\n",
       "      <td>0.575000</td>\n",
       "      <td>0.200000</td>\n",
       "      <td>0.225000</td>\n",
       "    </tr>\n",
       "    <tr>\n",
       "      <th>ל.זמן</th>\n",
       "      <td>0.614286</td>\n",
       "      <td>0.300000</td>\n",
       "      <td>0.085714</td>\n",
       "    </tr>\n",
       "  </tbody>\n",
       "</table>\n",
       "</div>"
      ],
      "text/plain": [
       "Time Position     final  preposed    medial\n",
       "lex_token                                  \n",
       "מ׳.זמן         0.614458  0.329317  0.056225\n",
       "ב.ה.זמן.הוא    0.550725  0.280193  0.169082\n",
       "ב.זמן          0.565714  0.377143  0.057143\n",
       "ה.זמן          0.575000  0.200000  0.225000\n",
       "ל.זמן          0.614286  0.300000  0.085714"
      ]
     },
     "execution_count": 20,
     "metadata": {},
     "output_type": "execute_result"
    }
   ],
   "source": [
    "poslt_pr = poslt_ct.div(poslt_ct.sum(1), 0)\n",
    "\n",
    "poslt_pr.head()"
   ]
  },
  {
   "cell_type": "code",
   "execution_count": 21,
   "metadata": {},
   "outputs": [
    {
     "data": {
      "text/html": [
       "<div>\n",
       "<style scoped>\n",
       "    .dataframe tbody tr th:only-of-type {\n",
       "        vertical-align: middle;\n",
       "    }\n",
       "\n",
       "    .dataframe tbody tr th {\n",
       "        vertical-align: top;\n",
       "    }\n",
       "\n",
       "    .dataframe thead th {\n",
       "        text-align: right;\n",
       "    }\n",
       "</style>\n",
       "<table border=\"1\" class=\"dataframe\">\n",
       "  <thead>\n",
       "    <tr style=\"text-align: right;\">\n",
       "      <th>Time Position</th>\n",
       "      <th>final</th>\n",
       "      <th>preposed</th>\n",
       "      <th>medial</th>\n",
       "    </tr>\n",
       "    <tr>\n",
       "      <th>lex_token</th>\n",
       "      <th></th>\n",
       "      <th></th>\n",
       "      <th></th>\n",
       "    </tr>\n",
       "  </thead>\n",
       "  <tbody>\n",
       "    <tr>\n",
       "      <th>מ׳.זמן</th>\n",
       "      <td>0.061210</td>\n",
       "      <td>-0.029575</td>\n",
       "      <td>-0.031635</td>\n",
       "    </tr>\n",
       "    <tr>\n",
       "      <th>ב.ה.זמן.הוא</th>\n",
       "      <td>-0.010734</td>\n",
       "      <td>-0.083348</td>\n",
       "      <td>0.094082</td>\n",
       "    </tr>\n",
       "    <tr>\n",
       "      <th>ב.זמן</th>\n",
       "      <td>0.005776</td>\n",
       "      <td>0.023659</td>\n",
       "      <td>-0.029435</td>\n",
       "    </tr>\n",
       "    <tr>\n",
       "      <th>ה.זמן</th>\n",
       "      <td>0.015773</td>\n",
       "      <td>-0.168073</td>\n",
       "      <td>0.152300</td>\n",
       "    </tr>\n",
       "    <tr>\n",
       "      <th>ל.זמן</th>\n",
       "      <td>0.057668</td>\n",
       "      <td>-0.059336</td>\n",
       "      <td>0.001668</td>\n",
       "    </tr>\n",
       "  </tbody>\n",
       "</table>\n",
       "</div>"
      ],
      "text/plain": [
       "Time Position     final  preposed    medial\n",
       "lex_token                                  \n",
       "מ׳.זמן         0.061210 -0.029575 -0.031635\n",
       "ב.ה.זמן.הוא   -0.010734 -0.083348  0.094082\n",
       "ב.זמן          0.005776  0.023659 -0.029435\n",
       "ה.זמן          0.015773 -0.168073  0.152300\n",
       "ל.זמן          0.057668 -0.059336  0.001668"
      ]
     },
     "execution_count": 21,
     "metadata": {},
     "output_type": "execute_result"
    }
   ],
   "source": [
    "poslt_dp = sig.apply_deltaP(poslt_ct, 0, 1)\n",
    "\n",
    "poslt_dp.head()"
   ]
  },
  {
   "cell_type": "code",
   "execution_count": 22,
   "metadata": {},
   "outputs": [],
   "source": [
    "poslt_pr_plot = poslt_pr.copy()\n",
    "\n",
    "poslt_pr_plot.index = [get_display(tok) for tok in poslt_pr_plot.index]"
   ]
  },
  {
   "cell_type": "code",
   "execution_count": 132,
   "metadata": {},
   "outputs": [
    {
     "data": {
      "image/png": "[encoded data removed]",
      "text/plain": [
       "<Figure size 720x720 with 4 Axes>"
      ]
     },
     "metadata": {
      "needs_background": "light"
     },
     "output_type": "display_data"
    }
   ],
   "source": [
    "g = sns.clustermap(\n",
    "    poslt_pr_plot, \n",
    "    dendrogram_ratio=(0.25, 0),\n",
    "    cmap='magma', \n",
    "    col_cluster=False,\n",
    "    cbar_pos=(1.07, .2, .03, .5),\n",
    "    annot=True,\n",
    "#    cbar_kws={'label': 'proportion'}\n",
    ")\n",
    "\n",
    "g.ax_heatmap.set_yticklabels(\n",
    "    g.ax_heatmap.get_ymajorticklabels(), \n",
    "    fontsize = 16,\n",
    "    fontfamily='SBL Biblit'\n",
    ")\n",
    "\n",
    "g.ax_heatmap.set_xlabel('Time Position', size=12)\n",
    "\n",
    "g.ax_heatmap.set_xticklabels(\n",
    "    g.ax_heatmap.get_xmajorticklabels(), \n",
    "    fontsize = 12,\n",
    ")\n",
    "\n",
    "g.ax_cbar.set_ylabel('proportion', size=12, rotation=270, labelpad=25)\n",
    "\n",
    "out.plot(\n",
    "    'clust_position_lextok',\n",
    ")\n"
   ]
  },
  {
   "cell_type": "markdown",
   "metadata": {},
   "source": [
    "### Pull out examples of interest"
   ]
  },
  {
   "cell_type": "code",
   "execution_count": 37,
   "metadata": {},
   "outputs": [
    {
     "name": "stdout",
     "output_type": "stream",
     "text": [
      "showing 5 of 5\n"
     ]
    },
    {
     "data": {
      "text/html": [
       "<style  type=\"text/css\" >\n",
       "#T_103d2_row0_col1,#T_103d2_row0_col2,#T_103d2_row1_col1,#T_103d2_row1_col2,#T_103d2_row2_col1,#T_103d2_row2_col2,#T_103d2_row3_col1,#T_103d2_row3_col2,#T_103d2_row4_col1,#T_103d2_row4_col2{\n",
       "            font-size: 20px;\n",
       "             font-family:  Times New Roman;\n",
       "             text-align:  right;\n",
       "             max-width:  500px;\n",
       "        }</style><table id=\"T_103d2_\" ><thead>    <tr>        <th class=\"blank level0\" ></th>        <th class=\"col_heading level0 col0\" >verse</th>        <th class=\"col_heading level0 col1\" >clause</th>        <th class=\"col_heading level0 col2\" >verb_utf8</th>        <th class=\"col_heading level0 col3\" >Time Position</th>        <th class=\"col_heading level0 col4\" >verbtense</th>    </tr>    <tr>        <th class=\"index_name level0\" >node</th>        <th class=\"blank\" ></th>        <th class=\"blank\" ></th>        <th class=\"blank\" ></th>        <th class=\"blank\" ></th>        <th class=\"blank\" ></th>    </tr></thead><tbody>\n",
       "                <tr>\n",
       "                        <th id=\"T_103d2_level0_row0\" class=\"row_heading level0 row0\" >474165</th>\n",
       "                        <td id=\"T_103d2_row0_col0\" class=\"data row0 col0\" >Jeremiah 3:16</td>\n",
       "                        <td id=\"T_103d2_row0_col1\" class=\"data row0 col1\" >וּפְרִיתֶ֨ם בָּאָ֜רֶץ בַּיָּמִ֤ים הָהֵ֨מָּה֙ </td>\n",
       "                        <td id=\"T_103d2_row0_col2\" class=\"data row0 col2\" >פרה</td>\n",
       "                        <td id=\"T_103d2_row0_col3\" class=\"data row0 col3\" >final</td>\n",
       "                        <td id=\"T_103d2_row0_col4\" class=\"data row0 col4\" >nan</td>\n",
       "            </tr>\n",
       "            <tr>\n",
       "                        <th id=\"T_103d2_level0_row1\" class=\"row_heading level0 row1\" >474176</th>\n",
       "                        <td id=\"T_103d2_row1_col0\" class=\"data row1 col0\" >Jeremiah 3:18</td>\n",
       "                        <td id=\"T_103d2_row1_col1\" class=\"data row1 col1\" >בַּיָּמִ֣ים הָהֵ֔מָּה יֵלְכ֥וּ בֵית־יְהוּדָ֖ה עַל־בֵּ֣ית יִשְׂרָאֵ֑ל </td>\n",
       "                        <td id=\"T_103d2_row1_col2\" class=\"data row1 col2\" >הלך</td>\n",
       "                        <td id=\"T_103d2_row1_col3\" class=\"data row1 col3\" >preposed</td>\n",
       "                        <td id=\"T_103d2_row1_col4\" class=\"data row1 col4\" >MOD shall</td>\n",
       "            </tr>\n",
       "            <tr>\n",
       "                        <th id=\"T_103d2_level0_row2\" class=\"row_heading level0 row2\" >474447</th>\n",
       "                        <td id=\"T_103d2_row2_col0\" class=\"data row2 col0\" >Jeremiah 5:18</td>\n",
       "                        <td id=\"T_103d2_row2_col1\" class=\"data row2 col1\" >וְגַ֛ם בַּיָּמִ֥ים הָהֵ֖מָּה לֹֽא־אֶעֱשֶׂ֥ה אִתְּכֶ֖ם כָּלָֽה׃ </td>\n",
       "                        <td id=\"T_103d2_row2_col2\" class=\"data row2 col2\" >עשׂה</td>\n",
       "                        <td id=\"T_103d2_row2_col3\" class=\"data row2 col3\" >preposed</td>\n",
       "                        <td id=\"T_103d2_row2_col4\" class=\"data row2 col4\" >FUT</td>\n",
       "            </tr>\n",
       "            <tr>\n",
       "                        <th id=\"T_103d2_level0_row3\" class=\"row_heading level0 row3\" >486576</th>\n",
       "                        <td id=\"T_103d2_row3_col0\" class=\"data row3 col0\" >Joel 3:2</td>\n",
       "                        <td id=\"T_103d2_row3_col1\" class=\"data row3 col1\" >וְגַ֥ם עַל־הָֽעֲבָדִ֖ים וְעַל־הַשְּׁפָחֹ֑ות בַּיָּמִ֣ים הָהֵ֔מָּה אֶשְׁפֹּ֖וךְ אֶת־רוּחִֽי׃ </td>\n",
       "                        <td id=\"T_103d2_row3_col2\" class=\"data row3 col2\" >שׁפך</td>\n",
       "                        <td id=\"T_103d2_row3_col3\" class=\"data row3 col3\" >preposed</td>\n",
       "                        <td id=\"T_103d2_row3_col4\" class=\"data row3 col4\" >FUT</td>\n",
       "            </tr>\n",
       "            <tr>\n",
       "                        <th id=\"T_103d2_level0_row4\" class=\"row_heading level0 row4\" >509765</th>\n",
       "                        <td id=\"T_103d2_row4_col0\" class=\"data row4 col0\" >Nehemiah 13:15</td>\n",
       "                        <td id=\"T_103d2_row4_col1\" class=\"data row4 col1\" >בַּיָּמִ֣ים הָהֵ֡מָּה רָאִ֣יתִי בִֽיהוּדָ֣ה׀ </td>\n",
       "                        <td id=\"T_103d2_row4_col2\" class=\"data row4 col2\" >ראה</td>\n",
       "                        <td id=\"T_103d2_row4_col3\" class=\"data row4 col3\" >preposed</td>\n",
       "                        <td id=\"T_103d2_row4_col4\" class=\"data row4 col4\" >PAST</td>\n",
       "            </tr>\n",
       "    </tbody></table>"
      ],
      "text/plain": [
       "<pandas.io.formats.style.Styler at 0x7f897125a430>"
      ]
     },
     "execution_count": 37,
     "metadata": {},
     "output_type": "execute_result"
    }
   ],
   "source": [
    "exs = [\n",
    "  #  'ב.ה.זמן.הם',\n",
    "    \n",
    "]\n",
    "\n",
    "inthosedays = main_df[(main_df.lex_token == 'ב.ה.זמן.המה')]\n",
    "\n",
    "ts.show(\n",
    " inthosedays, extra=['Time Position', 'verbtense']\n",
    ")"
   ]
  },
  {
   "cell_type": "code",
   "execution_count": 39,
   "metadata": {},
   "outputs": [
    {
     "name": "stdout",
     "output_type": "stream",
     "text": [
      "showing 6 of 6\n"
     ]
    },
    {
     "data": {
      "text/html": [
       "<style  type=\"text/css\" >\n",
       "#T_41856_row0_col1,#T_41856_row0_col2,#T_41856_row1_col1,#T_41856_row1_col2,#T_41856_row2_col1,#T_41856_row2_col2,#T_41856_row3_col1,#T_41856_row3_col2,#T_41856_row4_col1,#T_41856_row4_col2,#T_41856_row5_col1,#T_41856_row5_col2{\n",
       "            font-size: 20px;\n",
       "             font-family:  Times New Roman;\n",
       "             text-align:  right;\n",
       "             max-width:  500px;\n",
       "        }</style><table id=\"T_41856_\" ><thead>    <tr>        <th class=\"blank level0\" ></th>        <th class=\"col_heading level0 col0\" >verse</th>        <th class=\"col_heading level0 col1\" >clause</th>        <th class=\"col_heading level0 col2\" >verb_utf8</th>        <th class=\"col_heading level0 col3\" >Time Position</th>        <th class=\"col_heading level0 col4\" >verbform</th>        <th class=\"col_heading level0 col5\" >verbtense</th>    </tr>    <tr>        <th class=\"index_name level0\" >node</th>        <th class=\"blank\" ></th>        <th class=\"blank\" ></th>        <th class=\"blank\" ></th>        <th class=\"blank\" ></th>        <th class=\"blank\" ></th>        <th class=\"blank\" ></th>    </tr></thead><tbody>\n",
       "                <tr>\n",
       "                        <th id=\"T_41856_level0_row0\" class=\"row_heading level0 row0\" >434416</th>\n",
       "                        <td id=\"T_41856_row0_col0\" class=\"data row0 col0\" >Exodus 8:25</td>\n",
       "                        <td id=\"T_41856_row0_col1\" class=\"data row0 col1\" >וְסָ֣ר הֶעָרֹ֗ב מִפַּרְעֹ֛ה מֵעֲבָדָ֥יו וּמֵעַמֹּ֖ו מָחָ֑ר </td>\n",
       "                        <td id=\"T_41856_row0_col2\" class=\"data row0 col2\" >סור</td>\n",
       "                        <td id=\"T_41856_row0_col3\" class=\"data row0 col3\" >final</td>\n",
       "                        <td id=\"T_41856_row0_col4\" class=\"data row0 col4\" >wqtl</td>\n",
       "                        <td id=\"T_41856_row0_col5\" class=\"data row0 col5\" >MOD may</td>\n",
       "            </tr>\n",
       "            <tr>\n",
       "                        <th id=\"T_41856_level0_row1\" class=\"row_heading level0 row1\" >442095</th>\n",
       "                        <td id=\"T_41856_row1_col0\" class=\"data row1 col0\" >Numbers 11:18</td>\n",
       "                        <td id=\"T_41856_row1_col1\" class=\"data row1 col1\" >הִתְקַדְּשׁ֣וּ לְמָחָר֮ </td>\n",
       "                        <td id=\"T_41856_row1_col2\" class=\"data row1 col2\" >קדשׁ</td>\n",
       "                        <td id=\"T_41856_row1_col3\" class=\"data row1 col3\" >final</td>\n",
       "                        <td id=\"T_41856_row1_col4\" class=\"data row1 col4\" >impv</td>\n",
       "                        <td id=\"T_41856_row1_col5\" class=\"data row1 col5\" >nan</td>\n",
       "            </tr>\n",
       "            <tr>\n",
       "                        <th id=\"T_41856_level0_row2\" class=\"row_heading level0 row2\" >442670</th>\n",
       "                        <td id=\"T_41856_row2_col0\" class=\"data row2 col0\" >Numbers 16:7</td>\n",
       "                        <td id=\"T_41856_row2_col1\" class=\"data row2 col1\" >וְשִׂימוּ֩ עֲלֵיהֶ֨ן קְטֹ֜רֶת לִפְנֵ֤י יְהוָה֙ מָחָ֔ר </td>\n",
       "                        <td id=\"T_41856_row2_col2\" class=\"data row2 col2\" >שׂים</td>\n",
       "                        <td id=\"T_41856_row2_col3\" class=\"data row2 col3\" >final</td>\n",
       "                        <td id=\"T_41856_row2_col4\" class=\"data row2 col4\" >impv</td>\n",
       "                        <td id=\"T_41856_row2_col5\" class=\"data row2 col5\" >nan</td>\n",
       "            </tr>\n",
       "            <tr>\n",
       "                        <th id=\"T_41856_level0_row3\" class=\"row_heading level0 row3\" >442711</th>\n",
       "                        <td id=\"T_41856_row3_col0\" class=\"data row3 col0\" >Numbers 16:16</td>\n",
       "                        <td id=\"T_41856_row3_col1\" class=\"data row3 col1\" >אַתָּה֙ וְכָל־עֲדָ֣תְךָ֔ הֱי֖וּ לִפְנֵ֣י יְהוָ֑ה אַתָּ֥ה וָהֵ֛ם וְאַהֲרֹ֖ן מָחָֽר׃ </td>\n",
       "                        <td id=\"T_41856_row3_col2\" class=\"data row3 col2\" >היה</td>\n",
       "                        <td id=\"T_41856_row3_col3\" class=\"data row3 col3\" >final</td>\n",
       "                        <td id=\"T_41856_row3_col4\" class=\"data row3 col4\" >impv</td>\n",
       "                        <td id=\"T_41856_row3_col5\" class=\"data row3 col5\" >nan</td>\n",
       "            </tr>\n",
       "            <tr>\n",
       "                        <th id=\"T_41856_level0_row4\" class=\"row_heading level0 row4\" >449367</th>\n",
       "                        <td id=\"T_41856_row4_col0\" class=\"data row4 col0\" >Joshua 7:13</td>\n",
       "                        <td id=\"T_41856_row4_col1\" class=\"data row4 col1\" >הִתְקַדְּשׁ֣וּ לְמָחָ֑ר </td>\n",
       "                        <td id=\"T_41856_row4_col2\" class=\"data row4 col2\" >קדשׁ</td>\n",
       "                        <td id=\"T_41856_row4_col3\" class=\"data row4 col3\" >final</td>\n",
       "                        <td id=\"T_41856_row4_col4\" class=\"data row4 col4\" >impv</td>\n",
       "                        <td id=\"T_41856_row4_col5\" class=\"data row4 col5\" >nan</td>\n",
       "            </tr>\n",
       "            <tr>\n",
       "                        <th id=\"T_41856_level0_row5\" class=\"row_heading level0 row5\" >465714</th>\n",
       "                        <td id=\"T_41856_row5_col0\" class=\"data row5 col0\" >2_Kings 6:28</td>\n",
       "                        <td id=\"T_41856_row5_col1\" class=\"data row5 col1\" >וְאֶת־בְּנִ֖י נֹאכַ֥ל מָחָֽר׃ </td>\n",
       "                        <td id=\"T_41856_row5_col2\" class=\"data row5 col2\" >אכל</td>\n",
       "                        <td id=\"T_41856_row5_col3\" class=\"data row5 col3\" >final</td>\n",
       "                        <td id=\"T_41856_row5_col4\" class=\"data row5 col4\" >yqtl</td>\n",
       "                        <td id=\"T_41856_row5_col5\" class=\"data row5 col5\" >FUT</td>\n",
       "            </tr>\n",
       "    </tbody></table>"
      ],
      "text/plain": [
       "<pandas.io.formats.style.Styler at 0x7f897126f820>"
      ]
     },
     "execution_count": 39,
     "metadata": {},
     "output_type": "execute_result"
    }
   ],
   "source": [
    "ts.show(\n",
    "    main_df[(main_df.times_etcbc == 'MXR/') & (main_df['Time Position'] == 'final')], \n",
    "    extra=['Time Position', 'verbform', 'verbtense']\n",
    ")"
   ]
  },
  {
   "cell_type": "code",
   "execution_count": 35,
   "metadata": {},
   "outputs": [
    {
     "data": {
      "text/plain": [
       "PAST         9\n",
       "FUT          3\n",
       "MOD shall    3\n",
       "PAST PROG    1\n",
       "Name: verbtense, dtype: int64"
      ]
     },
     "execution_count": 35,
     "metadata": {},
     "output_type": "execute_result"
    }
   ],
   "source": [
    "inthosedays.verbtense.value_counts()"
   ]
  },
  {
   "cell_type": "markdown",
   "metadata": {},
   "source": [
    "## Degree of Dispersion Test Across Genre\n",
    "\n",
    "We can use degree of dispersion to test how consistently a given lextoken / position\n",
    "occur between the various genre categories. That could give a clue as to how these values \n",
    "are changing."
   ]
  },
  {
   "cell_type": "code",
   "execution_count": null,
   "metadata": {},
   "outputs": [],
   "source": []
  },
  {
   "cell_type": "code",
   "execution_count": 31,
   "metadata": {},
   "outputs": [
    {
     "data": {
      "text/html": [
       "<div>\n",
       "<style scoped>\n",
       "    .dataframe tbody tr th:only-of-type {\n",
       "        vertical-align: middle;\n",
       "    }\n",
       "\n",
       "    .dataframe tbody tr th {\n",
       "        vertical-align: top;\n",
       "    }\n",
       "\n",
       "    .dataframe thead tr th {\n",
       "        text-align: left;\n",
       "    }\n",
       "\n",
       "    .dataframe thead tr:last-of-type th {\n",
       "        text-align: right;\n",
       "    }\n",
       "</style>\n",
       "<table border=\"1\" class=\"dataframe\">\n",
       "  <thead>\n",
       "    <tr>\n",
       "      <th>gendom</th>\n",
       "      <th colspan=\"4\" halign=\"left\">prose.N</th>\n",
       "      <th colspan=\"4\" halign=\"left\">prose.Q</th>\n",
       "      <th colspan=\"4\" halign=\"left\">prophetic.Q</th>\n",
       "      <th colspan=\"4\" halign=\"left\">poetry.Q</th>\n",
       "      <th colspan=\"4\" halign=\"left\">instruction.Q</th>\n",
       "    </tr>\n",
       "    <tr>\n",
       "      <th>Time Position</th>\n",
       "      <th>final</th>\n",
       "      <th>preposed</th>\n",
       "      <th>medial 2</th>\n",
       "      <th>medial 1</th>\n",
       "      <th>final</th>\n",
       "      <th>preposed</th>\n",
       "      <th>medial 2</th>\n",
       "      <th>medial 1</th>\n",
       "      <th>final</th>\n",
       "      <th>preposed</th>\n",
       "      <th>medial 2</th>\n",
       "      <th>medial 1</th>\n",
       "      <th>final</th>\n",
       "      <th>preposed</th>\n",
       "      <th>medial 2</th>\n",
       "      <th>medial 1</th>\n",
       "      <th>final</th>\n",
       "      <th>preposed</th>\n",
       "      <th>medial 2</th>\n",
       "      <th>medial 1</th>\n",
       "    </tr>\n",
       "    <tr>\n",
       "      <th>lex_token</th>\n",
       "      <th></th>\n",
       "      <th></th>\n",
       "      <th></th>\n",
       "      <th></th>\n",
       "      <th></th>\n",
       "      <th></th>\n",
       "      <th></th>\n",
       "      <th></th>\n",
       "      <th></th>\n",
       "      <th></th>\n",
       "      <th></th>\n",
       "      <th></th>\n",
       "      <th></th>\n",
       "      <th></th>\n",
       "      <th></th>\n",
       "      <th></th>\n",
       "      <th></th>\n",
       "      <th></th>\n",
       "      <th></th>\n",
       "      <th></th>\n",
       "    </tr>\n",
       "  </thead>\n",
       "  <tbody>\n",
       "    <tr>\n",
       "      <th>מ׳.ז׳</th>\n",
       "      <td>84</td>\n",
       "      <td>22</td>\n",
       "      <td>7</td>\n",
       "      <td>0</td>\n",
       "      <td>21</td>\n",
       "      <td>10</td>\n",
       "      <td>6</td>\n",
       "      <td>0</td>\n",
       "      <td>8</td>\n",
       "      <td>0</td>\n",
       "      <td>0</td>\n",
       "      <td>0</td>\n",
       "      <td>0</td>\n",
       "      <td>2</td>\n",
       "      <td>0</td>\n",
       "      <td>0</td>\n",
       "      <td>23</td>\n",
       "      <td>24</td>\n",
       "      <td>1</td>\n",
       "      <td>0</td>\n",
       "    </tr>\n",
       "    <tr>\n",
       "      <th>ב.ה.ז׳.הוא</th>\n",
       "      <td>52</td>\n",
       "      <td>6</td>\n",
       "      <td>24</td>\n",
       "      <td>1</td>\n",
       "      <td>12</td>\n",
       "      <td>1</td>\n",
       "      <td>2</td>\n",
       "      <td>0</td>\n",
       "      <td>38</td>\n",
       "      <td>29</td>\n",
       "      <td>6</td>\n",
       "      <td>1</td>\n",
       "      <td>0</td>\n",
       "      <td>1</td>\n",
       "      <td>0</td>\n",
       "      <td>0</td>\n",
       "      <td>2</td>\n",
       "      <td>1</td>\n",
       "      <td>1</td>\n",
       "      <td>0</td>\n",
       "    </tr>\n",
       "    <tr>\n",
       "      <th>ב.ז׳</th>\n",
       "      <td>14</td>\n",
       "      <td>10</td>\n",
       "      <td>5</td>\n",
       "      <td>0</td>\n",
       "      <td>11</td>\n",
       "      <td>4</td>\n",
       "      <td>0</td>\n",
       "      <td>0</td>\n",
       "      <td>24</td>\n",
       "      <td>15</td>\n",
       "      <td>0</td>\n",
       "      <td>1</td>\n",
       "      <td>35</td>\n",
       "      <td>12</td>\n",
       "      <td>4</td>\n",
       "      <td>0</td>\n",
       "      <td>4</td>\n",
       "      <td>9</td>\n",
       "      <td>1</td>\n",
       "      <td>0</td>\n",
       "    </tr>\n",
       "    <tr>\n",
       "      <th>ה.ז׳</th>\n",
       "      <td>24</td>\n",
       "      <td>1</td>\n",
       "      <td>2</td>\n",
       "      <td>0</td>\n",
       "      <td>45</td>\n",
       "      <td>13</td>\n",
       "      <td>32</td>\n",
       "      <td>2</td>\n",
       "      <td>9</td>\n",
       "      <td>5</td>\n",
       "      <td>2</td>\n",
       "      <td>0</td>\n",
       "      <td>10</td>\n",
       "      <td>6</td>\n",
       "      <td>0</td>\n",
       "      <td>3</td>\n",
       "      <td>1</td>\n",
       "      <td>1</td>\n",
       "      <td>0</td>\n",
       "      <td>0</td>\n",
       "    </tr>\n",
       "    <tr>\n",
       "      <th>ב.ה.ז׳</th>\n",
       "      <td>55</td>\n",
       "      <td>1</td>\n",
       "      <td>3</td>\n",
       "      <td>0</td>\n",
       "      <td>21</td>\n",
       "      <td>6</td>\n",
       "      <td>3</td>\n",
       "      <td>0</td>\n",
       "      <td>9</td>\n",
       "      <td>5</td>\n",
       "      <td>1</td>\n",
       "      <td>2</td>\n",
       "      <td>4</td>\n",
       "      <td>5</td>\n",
       "      <td>7</td>\n",
       "      <td>1</td>\n",
       "      <td>5</td>\n",
       "      <td>2</td>\n",
       "      <td>0</td>\n",
       "      <td>0</td>\n",
       "    </tr>\n",
       "  </tbody>\n",
       "</table>\n",
       "</div>"
      ],
      "text/plain": [
       "gendom        prose.N                            prose.Q                    \\\n",
       "Time Position   final preposed medial 2 medial 1   final preposed medial 2   \n",
       "lex_token                                                                    \n",
       "מ׳.ז׳              84       22        7        0      21       10        6   \n",
       "ב.ה.ז׳.הוא         52        6       24        1      12        1        2   \n",
       "ב.ז׳               14       10        5        0      11        4        0   \n",
       "ה.ז׳               24        1        2        0      45       13       32   \n",
       "ב.ה.ז׳             55        1        3        0      21        6        3   \n",
       "\n",
       "gendom                 prophetic.Q                            poetry.Q  \\\n",
       "Time Position medial 1       final preposed medial 2 medial 1    final   \n",
       "lex_token                                                                \n",
       "מ׳.ז׳                0           8        0        0        0        0   \n",
       "ב.ה.ז׳.הוא           0          38       29        6        1        0   \n",
       "ב.ז׳                 0          24       15        0        1       35   \n",
       "ה.ז׳                 2           9        5        2        0       10   \n",
       "ב.ה.ז׳               0           9        5        1        2        4   \n",
       "\n",
       "gendom                                   instruction.Q                    \\\n",
       "Time Position preposed medial 2 medial 1         final preposed medial 2   \n",
       "lex_token                                                                  \n",
       "מ׳.ז׳                2        0        0            23       24        1   \n",
       "ב.ה.ז׳.הוא           1        0        0             2        1        1   \n",
       "ב.ז׳                12        4        0             4        9        1   \n",
       "ה.ז׳                 6        0        3             1        1        0   \n",
       "ב.ה.ז׳               5        7        1             5        2        0   \n",
       "\n",
       "gendom                  \n",
       "Time Position medial 1  \n",
       "lex_token               \n",
       "מ׳.ז׳                0  \n",
       "ב.ה.ז׳.הוא           0  \n",
       "ב.ז׳                 0  \n",
       "ה.ז׳                 0  \n",
       "ב.ה.ז׳               0  "
      ]
     },
     "execution_count": 31,
     "metadata": {},
     "output_type": "execute_result"
    }
   ],
   "source": [
    "posltg_ct = pivot_ct(\n",
    "    main_df,\n",
    "    'lex_token',\n",
    "    ['gendom', 'Time Position'],\n",
    ")\n",
    "\n",
    "posltg_ct = posltg_ct.loc[:, idx[main_gen,:]]\n",
    "\n",
    "posltg_ct.head()"
   ]
  }
 ],
 "metadata": {
  "kernelspec": {
   "display_name": "Python 3",
   "language": "python",
   "name": "python3"
  },
  "language_info": {
   "codemirror_mode": {
    "name": "ipython",
    "version": 3
   },
   "file_extension": ".py",
   "mimetype": "text/x-python",
   "name": "python",
   "nbconvert_exporter": "python",
   "pygments_lexer": "ipython3",
   "version": "3.8.5"
  }
 },
 "nbformat": 4,
 "nbformat_minor": 4
}
