{
 "cells": [
  {
   "cell_type": "markdown",
   "metadata": {},
   "source": [
    "# Clause Type Analysis"
   ]
  },
  {
   "cell_type": "code",
   "execution_count": 1,
   "metadata": {},
   "outputs": [
    {
     "data": {
      "text/plain": [
       "(58763, 69)"
      ]
     },
     "execution_count": 1,
     "metadata": {},
     "output_type": "execute_result"
    }
   ],
   "source": [
    "from scripts.imports import *\n",
    "nt_clause_df = pd.read_csv(\n",
    "    paths['clause_dataset'],\n",
    "    index_col='node',\n",
    "    low_memory=False\n",
    ")\n",
    "\n",
    "# bind clauses with time and without together\n",
    "cl_df = pd.concat([df, nt_clause_df], 0)\n",
    "\n",
    "# designate some additional parameters for a clause to be \"main\"\n",
    "\n",
    "non_main = [\n",
    "    'InfC', 'InfA', 'Reop', \n",
    "    'Voct', 'CPen', 'Ellp', \n",
    "    'MSyn',\n",
    "]\n",
    "\n",
    "main_df = cl_df[\n",
    "    (cl_df.cl_rela == 'Main')\n",
    "    & (~cl_df.cl_type.isin(non_main))\n",
    "]\n",
    "\n",
    "out = Exporter(\n",
    "    paths['outdir'],\n",
    "    'clause',\n",
    ")\n",
    "\n",
    "main_df.shape"
   ]
  },
  {
   "cell_type": "markdown",
   "metadata": {},
   "source": [
    "# Basic cl type statistics"
   ]
  },
  {
   "cell_type": "code",
   "execution_count": 2,
   "metadata": {},
   "outputs": [
    {
     "data": {
      "text/plain": [
       "Index(['verse', 'book', 'booksuper', 'canon_part', 'period', 'times_etcbc',\n",
       "       'times_utf8', 'times_utf8d', 'times_POS', 'TA Heads', 'function',\n",
       "       'quality', 'name', 'text', 'n_times', 'lex_token', 'is_advb', 'tense',\n",
       "       'genre', 'domain', 'gendom', 'clause', 'sentence', 'cl_rela', 'cl_type',\n",
       "       'cl_kind', 'verb', 'verb_etcbc', 'verb_utf8', 'verb_text', 'verbform',\n",
       "       'verb_stem', 'cl_args', 'has_objc', 'has_cmpl', 'has_subj', 'has_oc',\n",
       "       'cl_type2', 'cl_clust50', 'cl_clust10', 'verbtense', 'vt_order', 'PP',\n",
       "       'front_etcbc', 'front', 'tag', 'unmodified', 'has_time', 'APPO', 'DEF',\n",
       "       'ORDN', 'ØPP', 'GP', 'QUANT', 'PL', 'NUM', 'PARA', 'DEMON',\n",
       "       'demon_type', 'ADJV', 'TIMEAPPO', 'SPEC', 'SFX3', 'SFX', 'DU', 'SFX1',\n",
       "       'SFX2', 'ADVB', 'CARDC'],\n",
       "      dtype='object')"
      ]
     },
     "execution_count": 2,
     "metadata": {},
     "output_type": "execute_result"
    }
   ],
   "source": [
    "df.columns"
   ]
  },
  {
   "cell_type": "code",
   "execution_count": 3,
   "metadata": {},
   "outputs": [
    {
     "data": {
      "text/plain": [
       "yqtl    924\n",
       "qtl     753\n",
       "wayq    707\n",
       "Ø       575\n",
       "wqtl    262\n",
       "ptcp    211\n",
       "infc    125\n",
       "impv     83\n",
       "infa      8\n",
       "Name: verbform, dtype: int64"
      ]
     },
     "execution_count": 3,
     "metadata": {},
     "output_type": "execute_result"
    }
   ],
   "source": [
    "df.verbform.value_counts()"
   ]
  },
  {
   "cell_type": "code",
   "execution_count": 4,
   "metadata": {},
   "outputs": [
    {
     "data": {
      "text/html": [
       "<div>\n",
       "<style scoped>\n",
       "    .dataframe tbody tr th:only-of-type {\n",
       "        vertical-align: middle;\n",
       "    }\n",
       "\n",
       "    .dataframe tbody tr th {\n",
       "        vertical-align: top;\n",
       "    }\n",
       "\n",
       "    .dataframe thead th {\n",
       "        text-align: right;\n",
       "    }\n",
       "</style>\n",
       "<table border=\"1\" class=\"dataframe\">\n",
       "  <thead>\n",
       "    <tr style=\"text-align: right;\">\n",
       "      <th></th>\n",
       "      <th>count</th>\n",
       "      <th>percent</th>\n",
       "    </tr>\n",
       "  </thead>\n",
       "  <tbody>\n",
       "    <tr>\n",
       "      <th>xYq0</th>\n",
       "      <td>387</td>\n",
       "      <td>11%</td>\n",
       "    </tr>\n",
       "    <tr>\n",
       "      <th>WayX</th>\n",
       "      <td>275</td>\n",
       "      <td>8%</td>\n",
       "    </tr>\n",
       "    <tr>\n",
       "      <th>Way0</th>\n",
       "      <td>269</td>\n",
       "      <td>7%</td>\n",
       "    </tr>\n",
       "    <tr>\n",
       "      <th>MSyn</th>\n",
       "      <td>245</td>\n",
       "      <td>7%</td>\n",
       "    </tr>\n",
       "    <tr>\n",
       "      <th>xQt0</th>\n",
       "      <td>228</td>\n",
       "      <td>6%</td>\n",
       "    </tr>\n",
       "    <tr>\n",
       "      <th>Ptcp</th>\n",
       "      <td>210</td>\n",
       "      <td>6%</td>\n",
       "    </tr>\n",
       "    <tr>\n",
       "      <th>NmCl</th>\n",
       "      <td>201</td>\n",
       "      <td>6%</td>\n",
       "    </tr>\n",
       "    <tr>\n",
       "      <th>xQtX</th>\n",
       "      <td>197</td>\n",
       "      <td>5%</td>\n",
       "    </tr>\n",
       "    <tr>\n",
       "      <th>WQt0</th>\n",
       "      <td>170</td>\n",
       "      <td>5%</td>\n",
       "    </tr>\n",
       "    <tr>\n",
       "      <th>WayH</th>\n",
       "      <td>163</td>\n",
       "      <td>4%</td>\n",
       "    </tr>\n",
       "    <tr>\n",
       "      <th>xYqX</th>\n",
       "      <td>161</td>\n",
       "      <td>4%</td>\n",
       "    </tr>\n",
       "    <tr>\n",
       "      <th>WxY0</th>\n",
       "      <td>151</td>\n",
       "      <td>4%</td>\n",
       "    </tr>\n",
       "    <tr>\n",
       "      <th>InfC</th>\n",
       "      <td>123</td>\n",
       "      <td>3%</td>\n",
       "    </tr>\n",
       "    <tr>\n",
       "      <th>WxQ0</th>\n",
       "      <td>110</td>\n",
       "      <td>3%</td>\n",
       "    </tr>\n",
       "    <tr>\n",
       "      <th>Ellp</th>\n",
       "      <td>100</td>\n",
       "      <td>3%</td>\n",
       "    </tr>\n",
       "    <tr>\n",
       "      <th>WxQX</th>\n",
       "      <td>73</td>\n",
       "      <td>2%</td>\n",
       "    </tr>\n",
       "    <tr>\n",
       "      <th>WQtX</th>\n",
       "      <td>55</td>\n",
       "      <td>2%</td>\n",
       "    </tr>\n",
       "    <tr>\n",
       "      <th>WXYq</th>\n",
       "      <td>54</td>\n",
       "      <td>1%</td>\n",
       "    </tr>\n",
       "    <tr>\n",
       "      <th>XYqt</th>\n",
       "      <td>52</td>\n",
       "      <td>1%</td>\n",
       "    </tr>\n",
       "    <tr>\n",
       "      <th>ZIm0</th>\n",
       "      <td>51</td>\n",
       "      <td>1%</td>\n",
       "    </tr>\n",
       "    <tr>\n",
       "      <th>WXQt</th>\n",
       "      <td>49</td>\n",
       "      <td>1%</td>\n",
       "    </tr>\n",
       "    <tr>\n",
       "      <th>ZQt0</th>\n",
       "      <td>42</td>\n",
       "      <td>1%</td>\n",
       "    </tr>\n",
       "    <tr>\n",
       "      <th>ZYq0</th>\n",
       "      <td>39</td>\n",
       "      <td>1%</td>\n",
       "    </tr>\n",
       "    <tr>\n",
       "      <th>XQtl</th>\n",
       "      <td>39</td>\n",
       "      <td>1%</td>\n",
       "    </tr>\n",
       "    <tr>\n",
       "      <th>WQtH</th>\n",
       "      <td>37</td>\n",
       "      <td>1%</td>\n",
       "    </tr>\n",
       "    <tr>\n",
       "      <th>WxYX</th>\n",
       "      <td>36</td>\n",
       "      <td>1%</td>\n",
       "    </tr>\n",
       "    <tr>\n",
       "      <th>AjCl</th>\n",
       "      <td>26</td>\n",
       "      <td>1%</td>\n",
       "    </tr>\n",
       "    <tr>\n",
       "      <th>WYq0</th>\n",
       "      <td>24</td>\n",
       "      <td>1%</td>\n",
       "    </tr>\n",
       "    <tr>\n",
       "      <th>ZYqX</th>\n",
       "      <td>14</td>\n",
       "      <td>0%</td>\n",
       "    </tr>\n",
       "    <tr>\n",
       "      <th>ZQtX</th>\n",
       "      <td>14</td>\n",
       "      <td>0%</td>\n",
       "    </tr>\n",
       "    <tr>\n",
       "      <th>WIm0</th>\n",
       "      <td>11</td>\n",
       "      <td>0%</td>\n",
       "    </tr>\n",
       "    <tr>\n",
       "      <th>xIm0</th>\n",
       "      <td>11</td>\n",
       "      <td>0%</td>\n",
       "    </tr>\n",
       "    <tr>\n",
       "      <th>InfA</th>\n",
       "      <td>8</td>\n",
       "      <td>0%</td>\n",
       "    </tr>\n",
       "    <tr>\n",
       "      <th>CPen</th>\n",
       "      <td>6</td>\n",
       "      <td>0%</td>\n",
       "    </tr>\n",
       "    <tr>\n",
       "      <th>WYqX</th>\n",
       "      <td>6</td>\n",
       "      <td>0%</td>\n",
       "    </tr>\n",
       "    <tr>\n",
       "      <th>WxI0</th>\n",
       "      <td>5</td>\n",
       "      <td>0%</td>\n",
       "    </tr>\n",
       "    <tr>\n",
       "      <th>WXIm</th>\n",
       "      <td>2</td>\n",
       "      <td>0%</td>\n",
       "    </tr>\n",
       "    <tr>\n",
       "      <th>ZImX</th>\n",
       "      <td>2</td>\n",
       "      <td>0%</td>\n",
       "    </tr>\n",
       "    <tr>\n",
       "      <th>XImp</th>\n",
       "      <td>1</td>\n",
       "      <td>0%</td>\n",
       "    </tr>\n",
       "    <tr>\n",
       "      <th>XPos</th>\n",
       "      <td>1</td>\n",
       "      <td>0%</td>\n",
       "    </tr>\n",
       "  </tbody>\n",
       "</table>\n",
       "</div>"
      ],
      "text/plain": [
       "      count percent\n",
       "xYq0    387     11%\n",
       "WayX    275      8%\n",
       "Way0    269      7%\n",
       "MSyn    245      7%\n",
       "xQt0    228      6%\n",
       "Ptcp    210      6%\n",
       "NmCl    201      6%\n",
       "xQtX    197      5%\n",
       "WQt0    170      5%\n",
       "WayH    163      4%\n",
       "xYqX    161      4%\n",
       "WxY0    151      4%\n",
       "InfC    123      3%\n",
       "WxQ0    110      3%\n",
       "Ellp    100      3%\n",
       "WxQX     73      2%\n",
       "WQtX     55      2%\n",
       "WXYq     54      1%\n",
       "XYqt     52      1%\n",
       "ZIm0     51      1%\n",
       "WXQt     49      1%\n",
       "ZQt0     42      1%\n",
       "ZYq0     39      1%\n",
       "XQtl     39      1%\n",
       "WQtH     37      1%\n",
       "WxYX     36      1%\n",
       "AjCl     26      1%\n",
       "WYq0     24      1%\n",
       "ZYqX     14      0%\n",
       "ZQtX     14      0%\n",
       "WIm0     11      0%\n",
       "xIm0     11      0%\n",
       "InfA      8      0%\n",
       "CPen      6      0%\n",
       "WYqX      6      0%\n",
       "WxI0      5      0%\n",
       "WXIm      2      0%\n",
       "ZImX      2      0%\n",
       "XImp      1      0%\n",
       "XPos      1      0%"
      ]
     },
     "execution_count": 4,
     "metadata": {},
     "output_type": "execute_result"
    }
   ],
   "source": [
    "cltype_cts = df.cl_type2.value_counts()\n",
    "cltype_pr = cltype_cts / cltype_cts.sum()\n",
    "\n",
    "cltype_ctpr =\\\n",
    "pd.concat([cltype_cts, (cltype_pr.round(2)*100).astype(int).astype(str)+'%'], 1)\n",
    "\n",
    "cltype_ctpr.columns = ['count', 'percent']\n",
    "\n",
    "out.table(\n",
    "    cltype_ctpr,\n",
    "    'cltype_cts',\n",
    "    caption='ETCBC Clause Type Counts with Time Adverbials',\n",
    "    adjustbox=True,\n",
    ")\n",
    "\n",
    "\n",
    "cltype_ctpr"
   ]
  },
  {
   "cell_type": "code",
   "execution_count": 5,
   "metadata": {},
   "outputs": [
    {
     "data": {
      "text/plain": [
       "'40'"
      ]
     },
     "execution_count": 5,
     "metadata": {},
     "output_type": "execute_result"
    }
   ],
   "source": [
    "out.number(\n",
    "    cltype_cts.shape[0],\n",
    "    'n_clausetypes'\n",
    ")"
   ]
  },
  {
   "cell_type": "code",
   "execution_count": 6,
   "metadata": {},
   "outputs": [
    {
     "data": {
      "text/plain": [
       "'3,648'"
      ]
     },
     "execution_count": 6,
     "metadata": {},
     "output_type": "execute_result"
    }
   ],
   "source": [
    "out.number(\n",
    "    cltype_cts.sum(),\n",
    "    'n_clauses'\n",
    ")"
   ]
  },
  {
   "cell_type": "markdown",
   "metadata": {},
   "source": [
    "# Basic Statistics for presence of TA"
   ]
  },
  {
   "cell_type": "code",
   "execution_count": 7,
   "metadata": {},
   "outputs": [
    {
     "data": {
      "text/plain": [
       "no time    84473\n",
       "time        3648\n",
       "Name: has_time, dtype: int64"
      ]
     },
     "execution_count": 7,
     "metadata": {},
     "output_type": "execute_result"
    }
   ],
   "source": [
    "has_ct = cl_df.has_time.value_counts()\n",
    "\n",
    "has_ct.index = ['no time', 'time']\n",
    "\n",
    "has_ct"
   ]
  },
  {
   "cell_type": "code",
   "execution_count": 8,
   "metadata": {},
   "outputs": [
    {
     "data": {
      "text/plain": [
       "no time    0.958602\n",
       "time       0.041398\n",
       "Name: has_time, dtype: float64"
      ]
     },
     "execution_count": 8,
     "metadata": {},
     "output_type": "execute_result"
    }
   ],
   "source": [
    "has_pr = has_ct / has_ct.sum()\n",
    "\n",
    "has_pr"
   ]
  },
  {
   "cell_type": "code",
   "execution_count": 9,
   "metadata": {},
   "outputs": [
    {
     "data": {
      "text/plain": [
       "'1'"
      ]
     },
     "execution_count": 9,
     "metadata": {},
     "output_type": "execute_result"
    }
   ],
   "source": [
    "out.number(\n",
    "    has_pr['no time'],\n",
    "    'n_notimecl'\n",
    ")"
   ]
  },
  {
   "cell_type": "code",
   "execution_count": 10,
   "metadata": {},
   "outputs": [
    {
     "data": {
      "text/plain": [
       "'4'"
      ]
     },
     "execution_count": 10,
     "metadata": {},
     "output_type": "execute_result"
    }
   ],
   "source": [
    "out.number(\n",
    "    has_pr['time'] * 100,\n",
    "    'perc_timecl'\n",
    ")"
   ]
  },
  {
   "cell_type": "markdown",
   "metadata": {},
   "source": [
    "# Count Clause Types with TA"
   ]
  },
  {
   "cell_type": "code",
   "execution_count": 11,
   "metadata": {},
   "outputs": [
    {
     "data": {
      "text/plain": [
       "Way0    415\n",
       "xYq0    387\n",
       "WayX    292\n",
       "MSyn    245\n",
       "xQt0    228\n",
       "Ptcp    210\n",
       "NmCl    201\n",
       "WQt0    200\n",
       "xQtX    197\n",
       "xYqX    161\n",
       "WxY0    151\n",
       "InfC    123\n",
       "WxQ0    110\n",
       "Ellp    100\n",
       "WxQX     73\n",
       "WQtX     62\n",
       "WXYq     54\n",
       "XYqt     52\n",
       "ZIm0     51\n",
       "WXQt     49\n",
       "ZQt0     42\n",
       "ZYq0     39\n",
       "XQtl     39\n",
       "WxYX     36\n",
       "AjCl     26\n",
       "WYq0     24\n",
       "ZQtX     14\n",
       "ZYqX     14\n",
       "WIm0     11\n",
       "xIm0     11\n",
       "InfA      8\n",
       "CPen      6\n",
       "WYqX      6\n",
       "WxI0      5\n",
       "ZImX      2\n",
       "WXIm      2\n",
       "XPos      1\n",
       "XImp      1\n",
       "Name: cl_type, dtype: int64"
      ]
     },
     "execution_count": 11,
     "metadata": {},
     "output_type": "execute_result"
    }
   ],
   "source": [
    "df.cl_type.value_counts()"
   ]
  },
  {
   "cell_type": "markdown",
   "metadata": {},
   "source": [
    "### Various Composite Counts"
   ]
  },
  {
   "cell_type": "code",
   "execution_count": 13,
   "metadata": {},
   "outputs": [],
   "source": [
    "typfun_ct = pivot_ct(\n",
    "    df,\n",
    "    'cl_type2',\n",
    "    'function',\n",
    ")\n",
    "\n",
    "typfun_pr = typfun_ct.div(typfun_ct.sum(1), 0)\n",
    "typfun_dp = sig.apply_deltaP(typfun_pr, 0, 1)\n",
    "\n",
    "typgendom_ct = pivot_ct(\n",
    "    df,\n",
    "    'cl_type2',\n",
    "    'gendom',\n",
    ")\n",
    "\n",
    "typgendom_pr = typgendom_ct.div(typgendom_ct.sum(1), 0)\n",
    "\n",
    "typgendom_dp = sig.apply_deltaP(typgendom_ct, 0, 1)"
   ]
  },
  {
   "cell_type": "markdown",
   "metadata": {},
   "source": [
    "## Special Clause Types"
   ]
  },
  {
   "cell_type": "markdown",
   "metadata": {},
   "source": [
    "### MSyn"
   ]
  },
  {
   "cell_type": "code",
   "execution_count": 14,
   "metadata": {},
   "outputs": [
    {
     "name": "stdout",
     "output_type": "stream",
     "text": [
      "showing 5 of 245\n"
     ]
    },
    {
     "data": {
      "text/html": [
       "<style  type=\"text/css\" >\n",
       "#T_43e2f_row0_col1,#T_43e2f_row0_col2,#T_43e2f_row1_col1,#T_43e2f_row1_col2,#T_43e2f_row2_col1,#T_43e2f_row2_col2,#T_43e2f_row3_col1,#T_43e2f_row3_col2,#T_43e2f_row4_col1,#T_43e2f_row4_col2{\n",
       "            font-size: 20px;\n",
       "             font-family:  Times New Roman;\n",
       "             text-align:  right;\n",
       "             max-width:  500px;\n",
       "        }</style><table id=\"T_43e2f_\" ><thead>    <tr>        <th class=\"blank level0\" ></th>        <th class=\"col_heading level0 col0\" >verse</th>        <th class=\"col_heading level0 col1\" >clause</th>        <th class=\"col_heading level0 col2\" >verb_utf8</th>    </tr>    <tr>        <th class=\"index_name level0\" >node</th>        <th class=\"blank\" ></th>        <th class=\"blank\" ></th>        <th class=\"blank\" ></th>    </tr></thead><tbody>\n",
       "                <tr>\n",
       "                        <th id=\"T_43e2f_level0_row0\" class=\"row_heading level0 row0\" >427866</th>\n",
       "                        <td id=\"T_43e2f_row0_col0\" class=\"data row0 col0\" >Genesis 3:22</td>\n",
       "                        <td id=\"T_43e2f_row0_col1\" class=\"data row0 col1\" >וְעַתָּ֣ה׀ </td>\n",
       "                        <td id=\"T_43e2f_row0_col2\" class=\"data row0 col2\" >nan</td>\n",
       "            </tr>\n",
       "            <tr>\n",
       "                        <th id=\"T_43e2f_level0_row1\" class=\"row_heading level0 row1\" >450161</th>\n",
       "                        <td id=\"T_43e2f_row1_col0\" class=\"data row1 col0\" >Joshua 14:12</td>\n",
       "                        <td id=\"T_43e2f_row1_col1\" class=\"data row1 col1\" >וְעַתָּ֗ה </td>\n",
       "                        <td id=\"T_43e2f_row1_col2\" class=\"data row1 col2\" >nan</td>\n",
       "            </tr>\n",
       "            <tr>\n",
       "                        <th id=\"T_43e2f_level0_row2\" class=\"row_heading level0 row2\" >459374</th>\n",
       "                        <td id=\"T_43e2f_row2_col0\" class=\"data row2 col0\" >2_Samuel 13:20</td>\n",
       "                        <td id=\"T_43e2f_row2_col1\" class=\"data row2 col1\" >וְעַתָּ֞ה </td>\n",
       "                        <td id=\"T_43e2f_row2_col2\" class=\"data row2 col2\" >nan</td>\n",
       "            </tr>\n",
       "            <tr>\n",
       "                        <th id=\"T_43e2f_level0_row3\" class=\"row_heading level0 row3\" >486492</th>\n",
       "                        <td id=\"T_43e2f_row3_col0\" class=\"data row3 col0\" >Joel 2:12</td>\n",
       "                        <td id=\"T_43e2f_row3_col1\" class=\"data row3 col1\" >וְגַם־עַתָּה֙ </td>\n",
       "                        <td id=\"T_43e2f_row3_col2\" class=\"data row3 col2\" >nan</td>\n",
       "            </tr>\n",
       "            <tr>\n",
       "                        <th id=\"T_43e2f_level0_row4\" class=\"row_heading level0 row4\" >515171</th>\n",
       "                        <td id=\"T_43e2f_row4_col0\" class=\"data row4 col0\" >2_Chronicles 32:15</td>\n",
       "                        <td id=\"T_43e2f_row4_col1\" class=\"data row4 col1\" >וְעַתָּ֡ה </td>\n",
       "                        <td id=\"T_43e2f_row4_col2\" class=\"data row4 col2\" >nan</td>\n",
       "            </tr>\n",
       "    </tbody></table>"
      ],
      "text/plain": [
       "<pandas.io.formats.style.Styler at 0x7fef4ce80790>"
      ]
     },
     "execution_count": 14,
     "metadata": {},
     "output_type": "execute_result"
    }
   ],
   "source": [
    "ms_df = df[df.cl_type == 'MSyn']\n",
    "\n",
    "ts.show(ms_df, spread=5)"
   ]
  },
  {
   "cell_type": "code",
   "execution_count": 15,
   "metadata": {},
   "outputs": [
    {
     "data": {
      "text/plain": [
       "'7'"
      ]
     },
     "execution_count": 15,
     "metadata": {},
     "output_type": "execute_result"
    }
   ],
   "source": [
    "out.number(\n",
    "    ms_df.shape[0],\n",
    "    'n_MSyn',\n",
    ")\n",
    "\n",
    "out.number(\n",
    "    cltype_pr['MSyn']*100,\n",
    "    'p_MSyn',\n",
    ")"
   ]
  },
  {
   "cell_type": "code",
   "execution_count": 16,
   "metadata": {},
   "outputs": [
    {
     "data": {
      "text/plain": [
       "עתה    245\n",
       "Name: lex_token, dtype: int64"
      ]
     },
     "execution_count": 16,
     "metadata": {},
     "output_type": "execute_result"
    }
   ],
   "source": [
    "ms_df.lex_token.value_counts()"
   ]
  },
  {
   "cell_type": "code",
   "execution_count": 17,
   "metadata": {},
   "outputs": [
    {
     "data": {
      "text/plain": [
       "gendom\n",
       "prose.Q          0.577323\n",
       "list.Q           0.003788\n",
       "list.D          -0.000294\n",
       "poetry.N        -0.000294\n",
       "instruction.?   -0.001175\n",
       "poetry.D        -0.001469\n",
       "instruction.D   -0.002939\n",
       "instruction.N   -0.004996\n",
       "poetry.?        -0.006759\n",
       "list.?          -0.007053\n",
       "prophetic.D     -0.007934\n",
       "prophetic.N     -0.010024\n",
       "prose.D         -0.015281\n",
       "prophetic.?     -0.015574\n",
       "list.N          -0.016162\n",
       "prophetic.Q     -0.023566\n",
       "prose.?         -0.025892\n",
       "poetry.Q        -0.081984\n",
       "instruction.Q   -0.086688\n",
       "prose.N         -0.273027\n",
       "Name: MSyn, dtype: float64"
      ]
     },
     "execution_count": 17,
     "metadata": {},
     "output_type": "execute_result"
    }
   ],
   "source": [
    "msyn_genredp = typgendom_dp.loc['MSyn'].sort_values(ascending=False)\n",
    "\n",
    "msyn_genredp"
   ]
  },
  {
   "cell_type": "code",
   "execution_count": 18,
   "metadata": {},
   "outputs": [
    {
     "data": {
      "text/plain": [
       "'83'"
      ]
     },
     "execution_count": 18,
     "metadata": {},
     "output_type": "execute_result"
    }
   ],
   "source": [
    "out.number(\n",
    "    typgendom_pr.loc['MSyn']['prose.Q']*100,\n",
    "    'p_MSyn_genre'\n",
    ")"
   ]
  },
  {
   "cell_type": "markdown",
   "metadata": {},
   "source": [
    "All `Msyn` are \\<TH clauses."
   ]
  },
  {
   "cell_type": "markdown",
   "metadata": {},
   "source": [
    "Which \\<THs are not macros?"
   ]
  },
  {
   "cell_type": "code",
   "execution_count": 19,
   "metadata": {},
   "outputs": [
    {
     "name": "stdout",
     "output_type": "stream",
     "text": [
      "showing 10 of 110\n"
     ]
    },
    {
     "data": {
      "text/html": [
       "<style  type=\"text/css\" >\n",
       "#T_b0a43_row0_col1,#T_b0a43_row0_col2,#T_b0a43_row1_col1,#T_b0a43_row1_col2,#T_b0a43_row2_col1,#T_b0a43_row2_col2,#T_b0a43_row3_col1,#T_b0a43_row3_col2,#T_b0a43_row4_col1,#T_b0a43_row4_col2,#T_b0a43_row5_col1,#T_b0a43_row5_col2,#T_b0a43_row6_col1,#T_b0a43_row6_col2,#T_b0a43_row7_col1,#T_b0a43_row7_col2,#T_b0a43_row8_col1,#T_b0a43_row8_col2,#T_b0a43_row9_col1,#T_b0a43_row9_col2{\n",
       "            font-size: 20px;\n",
       "             font-family:  Times New Roman;\n",
       "             text-align:  right;\n",
       "             max-width:  500px;\n",
       "        }</style><table id=\"T_b0a43_\" ><thead>    <tr>        <th class=\"blank level0\" ></th>        <th class=\"col_heading level0 col0\" >verse</th>        <th class=\"col_heading level0 col1\" >clause</th>        <th class=\"col_heading level0 col2\" >verb_utf8</th>        <th class=\"col_heading level0 col3\" >cl_type</th>    </tr>    <tr>        <th class=\"index_name level0\" >node</th>        <th class=\"blank\" ></th>        <th class=\"blank\" ></th>        <th class=\"blank\" ></th>        <th class=\"blank\" ></th>    </tr></thead><tbody>\n",
       "                <tr>\n",
       "                        <th id=\"T_b0a43_level0_row0\" class=\"row_heading level0 row0\" >428432</th>\n",
       "                        <td id=\"T_b0a43_row0_col0\" class=\"data row0 col0\" >Genesis 11:6</td>\n",
       "                        <td id=\"T_b0a43_row0_col1\" class=\"data row0 col1\" >וְעַתָּה֙ לֹֽא־יִבָּצֵ֣ר מֵהֶ֔ם כֹּ֛ל </td>\n",
       "                        <td id=\"T_b0a43_row0_col2\" class=\"data row0 col2\" >בצר</td>\n",
       "                        <td id=\"T_b0a43_row0_col3\" class=\"data row0 col3\" >WxYX</td>\n",
       "            </tr>\n",
       "            <tr>\n",
       "                        <th id=\"T_b0a43_level0_row1\" class=\"row_heading level0 row1\" >443465</th>\n",
       "                        <td id=\"T_b0a43_row1_col0\" class=\"data row1 col0\" >Numbers 22:29</td>\n",
       "                        <td id=\"T_b0a43_row1_col1\" class=\"data row1 col1\" >כִּ֥י עַתָּ֖ה הֲרַגְתִּֽיךְ׃ </td>\n",
       "                        <td id=\"T_b0a43_row1_col2\" class=\"data row1 col2\" >הרג</td>\n",
       "                        <td id=\"T_b0a43_row1_col3\" class=\"data row1 col3\" >xQt0</td>\n",
       "            </tr>\n",
       "            <tr>\n",
       "                        <th id=\"T_b0a43_level0_row2\" class=\"row_heading level0 row2\" >452083</th>\n",
       "                        <td id=\"T_b0a43_row2_col0\" class=\"data row2 col0\" >Judges 8:15</td>\n",
       "                        <td id=\"T_b0a43_row2_col1\" class=\"data row2 col1\" >הֲ֠כַף זֶ֣בַח וְצַלְמֻנָּ֤ע עַתָּה֙ בְּיָדֶ֔ךָ </td>\n",
       "                        <td id=\"T_b0a43_row2_col2\" class=\"data row2 col2\" >nan</td>\n",
       "                        <td id=\"T_b0a43_row2_col3\" class=\"data row2 col3\" >NmCl</td>\n",
       "            </tr>\n",
       "            <tr>\n",
       "                        <th id=\"T_b0a43_level0_row3\" class=\"row_heading level0 row3\" >455760</th>\n",
       "                        <td id=\"T_b0a43_row3_col0\" class=\"data row3 col0\" >1_Samuel 15:30</td>\n",
       "                        <td id=\"T_b0a43_row3_col1\" class=\"data row3 col1\" >עַתָּ֗ה כַּבְּדֵ֥נִי נָ֛א נֶ֥גֶד זִקְנֵֽי־עַמִּ֖י וְנֶ֣גֶד יִשְׂרָאֵ֑ל </td>\n",
       "                        <td id=\"T_b0a43_row3_col2\" class=\"data row3 col2\" >כבד</td>\n",
       "                        <td id=\"T_b0a43_row3_col3\" class=\"data row3 col3\" >xIm0</td>\n",
       "            </tr>\n",
       "            <tr>\n",
       "                        <th id=\"T_b0a43_level0_row4\" class=\"row_heading level0 row4\" >466709</th>\n",
       "                        <td id=\"T_b0a43_row4_col0\" class=\"data row4 col0\" >2_Kings 13:23</td>\n",
       "                        <td id=\"T_b0a43_row4_col1\" class=\"data row4 col1\" >וְלֹֽא־הִשְׁלִיכָ֥ם מֵֽעַל־פָּנָ֖יו עַד־עָֽתָּה׃ </td>\n",
       "                        <td id=\"T_b0a43_row4_col2\" class=\"data row4 col2\" >שׁלך</td>\n",
       "                        <td id=\"T_b0a43_row4_col3\" class=\"data row4 col3\" >WxQ0</td>\n",
       "            </tr>\n",
       "            <tr>\n",
       "                        <th id=\"T_b0a43_level0_row5\" class=\"row_heading level0 row5\" >472224</th>\n",
       "                        <td id=\"T_b0a43_row5_col0\" class=\"data row5 col0\" >Isaiah 48:7</td>\n",
       "                        <td id=\"T_b0a43_row5_col1\" class=\"data row5 col1\" >עַתָּ֤ה נִבְרְאוּ֙ </td>\n",
       "                        <td id=\"T_b0a43_row5_col2\" class=\"data row5 col2\" >ברא</td>\n",
       "                        <td id=\"T_b0a43_row5_col3\" class=\"data row5 col3\" >xQt0</td>\n",
       "            </tr>\n",
       "            <tr>\n",
       "                        <th id=\"T_b0a43_level0_row6\" class=\"row_heading level0 row6\" >485990</th>\n",
       "                        <td id=\"T_b0a43_row6_col0\" class=\"data row6 col0\" >Hosea 8:10</td>\n",
       "                        <td id=\"T_b0a43_row6_col1\" class=\"data row6 col1\" >עַתָּ֣ה אֲקַבְּצֵ֑ם </td>\n",
       "                        <td id=\"T_b0a43_row6_col2\" class=\"data row6 col2\" >קבץ</td>\n",
       "                        <td id=\"T_b0a43_row6_col3\" class=\"data row6 col3\" >xYq0</td>\n",
       "            </tr>\n",
       "            <tr>\n",
       "                        <th id=\"T_b0a43_level0_row7\" class=\"row_heading level0 row7\" >488851</th>\n",
       "                        <td id=\"T_b0a43_row7_col0\" class=\"data row7 col0\" >Haggai 2:3</td>\n",
       "                        <td id=\"T_b0a43_row7_col1\" class=\"data row7 col1\" >וּמָ֨ה אַתֶּ֜ם רֹאִ֤ים אֹתֹו֙ עַ֔תָּה </td>\n",
       "                        <td id=\"T_b0a43_row7_col2\" class=\"data row7 col2\" >ראה</td>\n",
       "                        <td id=\"T_b0a43_row7_col3\" class=\"data row7 col3\" >Ptcp</td>\n",
       "            </tr>\n",
       "            <tr>\n",
       "                        <th id=\"T_b0a43_level0_row8\" class=\"row_heading level0 row8\" >498031</th>\n",
       "                        <td id=\"T_b0a43_row8_col0\" class=\"data row8 col0\" >Job 8:6</td>\n",
       "                        <td id=\"T_b0a43_row8_col1\" class=\"data row8 col1\" >כִּי־עַ֭תָּה יָעִ֣יר עָלֶ֑יךָ </td>\n",
       "                        <td id=\"T_b0a43_row8_col2\" class=\"data row8 col2\" >עור</td>\n",
       "                        <td id=\"T_b0a43_row8_col3\" class=\"data row8 col3\" >xYq0</td>\n",
       "            </tr>\n",
       "            <tr>\n",
       "                        <th id=\"T_b0a43_level0_row9\" class=\"row_heading level0 row9\" >514714</th>\n",
       "                        <td id=\"T_b0a43_row9_col0\" class=\"data row9 col0\" >2_Chronicles 28:10</td>\n",
       "                        <td id=\"T_b0a43_row9_col1\" class=\"data row9 col1\" >וְ֠עַתָּה בְּנֵֽי־יְהוּדָ֤ה וִֽירוּשָׁלִַ֨ם֙ </td>\n",
       "                        <td id=\"T_b0a43_row9_col2\" class=\"data row9 col2\" >nan</td>\n",
       "                        <td id=\"T_b0a43_row9_col3\" class=\"data row9 col3\" >CPen</td>\n",
       "            </tr>\n",
       "    </tbody></table>"
      ],
      "text/plain": [
       "<pandas.io.formats.style.Styler at 0x7fef4db292e0>"
      ]
     },
     "execution_count": 19,
     "metadata": {},
     "output_type": "execute_result"
    }
   ],
   "source": [
    "other_now =     df[\n",
    "        (df.times_etcbc == '<TH')\n",
    "        & (df.cl_type != 'MSyn')\n",
    "]\n",
    "\n",
    "ts.show(\n",
    "    other_now,\n",
    "    extra=['cl_type'],\n",
    "    spread=10\n",
    ")"
   ]
  },
  {
   "cell_type": "markdown",
   "metadata": {},
   "source": [
    "### Ellp"
   ]
  },
  {
   "cell_type": "code",
   "execution_count": 20,
   "metadata": {},
   "outputs": [
    {
     "data": {
      "text/plain": [
       "(100, 69)"
      ]
     },
     "execution_count": 20,
     "metadata": {},
     "output_type": "execute_result"
    }
   ],
   "source": [
    "el_df = df[\n",
    "    df.cl_type == 'Ellp'\n",
    "]\n",
    "\n",
    "el_df.shape"
   ]
  },
  {
   "cell_type": "code",
   "execution_count": 21,
   "metadata": {},
   "outputs": [
    {
     "data": {
      "text/plain": [
       "'3'"
      ]
     },
     "execution_count": 21,
     "metadata": {},
     "output_type": "execute_result"
    }
   ],
   "source": [
    "out.number(\n",
    "    el_df.shape[0],\n",
    "    'n_Ellp'\n",
    ")\n",
    "\n",
    "out.number(\n",
    "    cltype_pr['Ellp']*100,\n",
    "    'p_Ellp',\n",
    ")"
   ]
  },
  {
   "cell_type": "code",
   "execution_count": 33,
   "metadata": {},
   "outputs": [
    {
     "data": {
      "text/plain": [
       "simultaneous           34\n",
       "atelic_ext             33\n",
       "anterior_dur           11\n",
       "posterior               7\n",
       "habitual                5\n",
       "posterior_dur           3\n",
       "purposive_ext           2\n",
       "multi_simuls            1\n",
       "multi_posterior_dur     1\n",
       "regular_recurrence      1\n",
       "purposive_ext?          1\n",
       "anterior_dur_past?      1\n",
       "Name: function, dtype: int64"
      ]
     },
     "execution_count": 33,
     "metadata": {},
     "output_type": "execute_result"
    }
   ],
   "source": [
    "out.table(\n",
    "    el_df.function.value_counts(),\n",
    "    'Ellp_funct_ct',\n",
    "    caption='Adverbial Function Counts with Ellp',\n",
    ")"
   ]
  },
  {
   "cell_type": "code",
   "execution_count": 24,
   "metadata": {},
   "outputs": [
    {
     "data": {
      "text/plain": [
       "prose.Q          23\n",
       "prose.N          19\n",
       "poetry.Q         18\n",
       "prophetic.Q      17\n",
       "instruction.Q     9\n",
       "prose.D           5\n",
       "list.?            4\n",
       "prophetic.N       2\n",
       "list.N            2\n",
       "prophetic.D       1\n",
       "Name: gendom, dtype: int64"
      ]
     },
     "execution_count": 24,
     "metadata": {},
     "output_type": "execute_result"
    }
   ],
   "source": [
    "el_df.gendom.value_counts()"
   ]
  },
  {
   "cell_type": "code",
   "execution_count": 28,
   "metadata": {},
   "outputs": [
    {
     "data": {
      "text/plain": [
       "function\n",
       "atelic_ext       0.181992\n",
       "habitual         0.031300\n",
       "posterior        0.022467\n",
       "posterior_dur    0.017961\n",
       "purposive_ext    0.012108\n",
       "Name: Ellp, dtype: float64"
      ]
     },
     "execution_count": 28,
     "metadata": {},
     "output_type": "execute_result"
    }
   ],
   "source": [
    "typfun_dp.loc['Ellp'].sort_values(ascending=False).head(5)"
   ]
  },
  {
   "cell_type": "code",
   "execution_count": 36,
   "metadata": {},
   "outputs": [
    {
     "data": {
      "text/plain": [
       "'18'"
      ]
     },
     "execution_count": 36,
     "metadata": {},
     "output_type": "execute_result"
    }
   ],
   "source": [
    "out.number(\n",
    "    typfun_dp.loc['Ellp']['atelic_ext']*100,\n",
    "    'Ellp_atelext_dp'\n",
    ")"
   ]
  },
  {
   "cell_type": "code",
   "execution_count": 30,
   "metadata": {},
   "outputs": [
    {
     "data": {
      "text/plain": [
       "gendom\n",
       "poetry.Q         0.068670\n",
       "prose.D          0.036753\n",
       "list.?           0.034363\n",
       "prophetic.Q      0.030485\n",
       "instruction.Q    0.009391\n",
       "Name: Ellp, dtype: float64"
      ]
     },
     "execution_count": 30,
     "metadata": {},
     "output_type": "execute_result"
    }
   ],
   "source": [
    "out.table(\n",
    "    typgendom_dp.loc['Ellp'].sort_values(ascending=False).head(5),\n",
    "    'dp_Ellp_genre',\n",
    "    caption='Top 5 ΔP Genre Scores with Ellp'\n",
    ")"
   ]
  },
  {
   "cell_type": "code",
   "execution_count": 11,
   "metadata": {},
   "outputs": [
    {
     "data": {
      "text/plain": [
       "WP    100\n",
       "Name: cl_kind, dtype: int64"
      ]
     },
     "execution_count": 11,
     "metadata": {},
     "output_type": "execute_result"
    }
   ],
   "source": [
    "el_df.cl_kind.value_counts()"
   ]
  },
  {
   "cell_type": "code",
   "execution_count": 37,
   "metadata": {},
   "outputs": [
    {
     "name": "stdout",
     "output_type": "stream",
     "text": [
      "showing 25 of 100\n"
     ]
    },
    {
     "data": {
      "text/html": [
       "<style  type=\"text/css\" >\n",
       "#T_72d8e_row0_col1,#T_72d8e_row0_col2,#T_72d8e_row1_col1,#T_72d8e_row1_col2,#T_72d8e_row2_col1,#T_72d8e_row2_col2,#T_72d8e_row3_col1,#T_72d8e_row3_col2,#T_72d8e_row4_col1,#T_72d8e_row4_col2,#T_72d8e_row5_col1,#T_72d8e_row5_col2,#T_72d8e_row6_col1,#T_72d8e_row6_col2,#T_72d8e_row7_col1,#T_72d8e_row7_col2,#T_72d8e_row8_col1,#T_72d8e_row8_col2,#T_72d8e_row9_col1,#T_72d8e_row9_col2,#T_72d8e_row10_col1,#T_72d8e_row10_col2,#T_72d8e_row11_col1,#T_72d8e_row11_col2,#T_72d8e_row12_col1,#T_72d8e_row12_col2,#T_72d8e_row13_col1,#T_72d8e_row13_col2,#T_72d8e_row14_col1,#T_72d8e_row14_col2,#T_72d8e_row15_col1,#T_72d8e_row15_col2,#T_72d8e_row16_col1,#T_72d8e_row16_col2,#T_72d8e_row17_col1,#T_72d8e_row17_col2,#T_72d8e_row18_col1,#T_72d8e_row18_col2,#T_72d8e_row19_col1,#T_72d8e_row19_col2,#T_72d8e_row20_col1,#T_72d8e_row20_col2,#T_72d8e_row21_col1,#T_72d8e_row21_col2,#T_72d8e_row22_col1,#T_72d8e_row22_col2,#T_72d8e_row23_col1,#T_72d8e_row23_col2,#T_72d8e_row24_col1,#T_72d8e_row24_col2{\n",
       "            font-size: 20px;\n",
       "             font-family:  Times New Roman;\n",
       "             text-align:  right;\n",
       "             max-width:  500px;\n",
       "        }</style><table id=\"T_72d8e_\" ><thead>    <tr>        <th class=\"blank level0\" ></th>        <th class=\"col_heading level0 col0\" >verse</th>        <th class=\"col_heading level0 col1\" >clause</th>        <th class=\"col_heading level0 col2\" >verb_utf8</th>    </tr>    <tr>        <th class=\"index_name level0\" >node</th>        <th class=\"blank\" ></th>        <th class=\"blank\" ></th>        <th class=\"blank\" ></th>    </tr></thead><tbody>\n",
       "                <tr>\n",
       "                        <th id=\"T_72d8e_level0_row0\" class=\"row_heading level0 row0\" >428070</th>\n",
       "                        <td id=\"T_72d8e_row0_col0\" class=\"data row0 col0\" >Genesis 6:4</td>\n",
       "                        <td id=\"T_72d8e_row0_col1\" class=\"data row0 col1\" >וְגַ֣ם אַֽחֲרֵי־כֵ֗ן </td>\n",
       "                        <td id=\"T_72d8e_row0_col2\" class=\"data row0 col2\" >nan</td>\n",
       "            </tr>\n",
       "            <tr>\n",
       "                        <th id=\"T_72d8e_level0_row1\" class=\"row_heading level0 row1\" >434790</th>\n",
       "                        <td id=\"T_72d8e_row1_col0\" class=\"data row1 col0\" >Exodus 12:16</td>\n",
       "                        <td id=\"T_72d8e_row1_col1\" class=\"data row1 col1\" >וּבַיֹּ֤ום הָרִאשֹׁון֙ מִקְרָא־קֹ֔דֶשׁ </td>\n",
       "                        <td id=\"T_72d8e_row1_col2\" class=\"data row1 col2\" >nan</td>\n",
       "            </tr>\n",
       "            <tr>\n",
       "                        <th id=\"T_72d8e_level0_row2\" class=\"row_heading level0 row2\" >436687</th>\n",
       "                        <td id=\"T_72d8e_row2_col0\" class=\"data row2 col0\" >Exodus 29:38</td>\n",
       "                        <td id=\"T_72d8e_row2_col1\" class=\"data row2 col1\" >כְּבָשִׂ֧ים בְּנֵֽי־שָׁנָ֛ה שְׁנַ֥יִם לַיֹּ֖ום תָּמִֽיד׃ </td>\n",
       "                        <td id=\"T_72d8e_row2_col2\" class=\"data row2 col2\" >nan</td>\n",
       "            </tr>\n",
       "            <tr>\n",
       "                        <th id=\"T_72d8e_level0_row3\" class=\"row_heading level0 row3\" >441914</th>\n",
       "                        <td id=\"T_72d8e_row3_col0\" class=\"data row3 col0\" >Numbers 9:22</td>\n",
       "                        <td id=\"T_72d8e_row3_col1\" class=\"data row3 col1\" >אֹֽו־יֹמַ֜יִם אֹו־חֹ֣דֶשׁ אֹו־יָמִ֗ים </td>\n",
       "                        <td id=\"T_72d8e_row3_col2\" class=\"data row3 col2\" >nan</td>\n",
       "            </tr>\n",
       "            <tr>\n",
       "                        <th id=\"T_72d8e_level0_row4\" class=\"row_heading level0 row4\" >442107</th>\n",
       "                        <td id=\"T_72d8e_row4_col0\" class=\"data row4 col0\" >Numbers 11:19</td>\n",
       "                        <td id=\"T_72d8e_row4_col1\" class=\"data row4 col1\" >וְלֹ֖א עֶשְׂרִ֥ים יֹֽום׃ </td>\n",
       "                        <td id=\"T_72d8e_row4_col2\" class=\"data row4 col2\" >nan</td>\n",
       "            </tr>\n",
       "            <tr>\n",
       "                        <th id=\"T_72d8e_level0_row5\" class=\"row_heading level0 row5\" >444163</th>\n",
       "                        <td id=\"T_72d8e_row5_col0\" class=\"data row5 col0\" >Numbers 29:20</td>\n",
       "                        <td id=\"T_72d8e_row5_col1\" class=\"data row5 col1\" >וּבַיֹּ֧ום הַשְּׁלִישִׁ֛י פָּרִ֥ים עַשְׁתֵּי־עָשָׂ֖ר אֵילִ֣ם שְׁנָ֑יִם כְּבָשִׂ֧ים בְּנֵי־שָׁנָ֛ה אַרְבָּעָ֥ה עָשָׂ֖ר תְּמִימִֽם׃ </td>\n",
       "                        <td id=\"T_72d8e_row5_col2\" class=\"data row5 col2\" >nan</td>\n",
       "            </tr>\n",
       "            <tr>\n",
       "                        <th id=\"T_72d8e_level0_row6\" class=\"row_heading level0 row6\" >444175</th>\n",
       "                        <td id=\"T_72d8e_row6_col0\" class=\"data row6 col0\" >Numbers 29:32</td>\n",
       "                        <td id=\"T_72d8e_row6_col1\" class=\"data row6 col1\" >וּבַיֹּ֧ום הַשְּׁבִיעִ֛י פָּרִ֥ים שִׁבְעָ֖ה אֵילִ֣ם שְׁנָ֑יִם כְּבָשִׂ֧ים בְּנֵי־שָׁנָ֛ה אַרְבָּעָ֥ה עָשָׂ֖ר תְּמִימִֽם׃ </td>\n",
       "                        <td id=\"T_72d8e_row6_col2\" class=\"data row6 col2\" >nan</td>\n",
       "            </tr>\n",
       "            <tr>\n",
       "                        <th id=\"T_72d8e_level0_row7\" class=\"row_heading level0 row7\" >448366</th>\n",
       "                        <td id=\"T_72d8e_row7_col0\" class=\"data row7 col0\" >Deuteronomy 31:27</td>\n",
       "                        <td id=\"T_72d8e_row7_col1\" class=\"data row7 col1\" >וְאַ֖ף כִּי־אַחֲרֵ֥י מֹותִֽי׃ </td>\n",
       "                        <td id=\"T_72d8e_row7_col2\" class=\"data row7 col2\" >nan</td>\n",
       "            </tr>\n",
       "            <tr>\n",
       "                        <th id=\"T_72d8e_level0_row8\" class=\"row_heading level0 row8\" >463605</th>\n",
       "                        <td id=\"T_72d8e_row8_col0\" class=\"data row8 col0\" >1_Kings 17:6</td>\n",
       "                        <td id=\"T_72d8e_row8_col1\" class=\"data row8 col1\" >וְלֶ֥חֶם וּבָשָׂ֖ר בָּעָ֑רֶב </td>\n",
       "                        <td id=\"T_72d8e_row8_col2\" class=\"data row8 col2\" >nan</td>\n",
       "            </tr>\n",
       "            <tr>\n",
       "                        <th id=\"T_72d8e_level0_row9\" class=\"row_heading level0 row9\" >471467</th>\n",
       "                        <td id=\"T_72d8e_row9_col0\" class=\"data row9 col0\" >Isaiah 41:26</td>\n",
       "                        <td id=\"T_72d8e_row9_col1\" class=\"data row9 col1\" >וּמִלְּפָנִ֖ים </td>\n",
       "                        <td id=\"T_72d8e_row9_col2\" class=\"data row9 col2\" >nan</td>\n",
       "            </tr>\n",
       "            <tr>\n",
       "                        <th id=\"T_72d8e_level0_row10\" class=\"row_heading level0 row10\" >476157</th>\n",
       "                        <td id=\"T_72d8e_row10_col0\" class=\"data row10 col0\" >Jeremiah 20:16</td>\n",
       "                        <td id=\"T_72d8e_row10_col1\" class=\"data row10 col1\" >וּתְרוּעָ֖ה בְּעֵ֥ת צָהֳרָֽיִם׃ </td>\n",
       "                        <td id=\"T_72d8e_row10_col2\" class=\"data row10 col2\" >nan</td>\n",
       "            </tr>\n",
       "            <tr>\n",
       "                        <th id=\"T_72d8e_level0_row11\" class=\"row_heading level0 row11\" >479990</th>\n",
       "                        <td id=\"T_72d8e_row11_col0\" class=\"data row11 col0\" >Jeremiah 52:29</td>\n",
       "                        <td id=\"T_72d8e_row11_col1\" class=\"data row11 col1\" >בִּשְׁנַ֛ת שְׁמֹונֶ֥ה עֶשְׂרֵ֖ה לִנְבֽוּכַדְרֶאצַּ֑ר מִיר֣וּשָׁלִַ֔ם נֶ֕פֶשׁ שְׁמֹנֶ֥ה מֵאֹ֖ות שְׁלֹשִׁ֥ים וּשְׁנָֽיִם׃ </td>\n",
       "                        <td id=\"T_72d8e_row11_col2\" class=\"data row11 col2\" >nan</td>\n",
       "            </tr>\n",
       "            <tr>\n",
       "                        <th id=\"T_72d8e_level0_row12\" class=\"row_heading level0 row12\" >486148</th>\n",
       "                        <td id=\"T_72d8e_row12_col0\" class=\"data row12 col0\" >Hosea 10:14</td>\n",
       "                        <td id=\"T_72d8e_row12_col1\" class=\"data row12 col1\" >כְּשֹׁ֧ד שַֽׁלְמַ֛ן בֵּ֥ית אַֽרְבֵ֖אל בְּיֹ֣ום מִלְחָמָ֑ה </td>\n",
       "                        <td id=\"T_72d8e_row12_col2\" class=\"data row12 col2\" >nan</td>\n",
       "            </tr>\n",
       "            <tr>\n",
       "                        <th id=\"T_72d8e_level0_row13\" class=\"row_heading level0 row13\" >486721</th>\n",
       "                        <td id=\"T_72d8e_row13_col0\" class=\"data row13 col0\" >Amos 1:14</td>\n",
       "                        <td id=\"T_72d8e_row13_col1\" class=\"data row13 col1\" >בְּסַ֖עַר בְּיֹ֥ום סוּפָֽה׃ </td>\n",
       "                        <td id=\"T_72d8e_row13_col2\" class=\"data row13 col2\" >nan</td>\n",
       "            </tr>\n",
       "            <tr>\n",
       "                        <th id=\"T_72d8e_level0_row14\" class=\"row_heading level0 row14\" >489378</th>\n",
       "                        <td id=\"T_72d8e_row14_col0\" class=\"data row14 col0\" >Zechariah 7:5</td>\n",
       "                        <td id=\"T_72d8e_row14_col1\" class=\"data row14 col1\" >וְזֶה֙ שִׁבְעִ֣ים שָׁנָ֔ה </td>\n",
       "                        <td id=\"T_72d8e_row14_col2\" class=\"data row14 col2\" >nan</td>\n",
       "            </tr>\n",
       "            <tr>\n",
       "                        <th id=\"T_72d8e_level0_row15\" class=\"row_heading level0 row15\" >491821</th>\n",
       "                        <td id=\"T_72d8e_row15_col0\" class=\"data row15 col0\" >Psalms 35:28</td>\n",
       "                        <td id=\"T_72d8e_row15_col1\" class=\"data row15 col1\" >כָּל־הַ֝יֹּום תְּהִלָּתֶֽךָ׃ </td>\n",
       "                        <td id=\"T_72d8e_row15_col2\" class=\"data row15 col2\" >nan</td>\n",
       "            </tr>\n",
       "            <tr>\n",
       "                        <th id=\"T_72d8e_level0_row16\" class=\"row_heading level0 row16\" >494303</th>\n",
       "                        <td id=\"T_72d8e_row16_col0\" class=\"data row16 col0\" >Psalms 81:4</td>\n",
       "                        <td id=\"T_72d8e_row16_col1\" class=\"data row16 col1\" >בַּ֝כֵּ֗סֶה לְיֹ֣ום חַגֵּֽנוּ׃ </td>\n",
       "                        <td id=\"T_72d8e_row16_col2\" class=\"data row16 col2\" >nan</td>\n",
       "            </tr>\n",
       "            <tr>\n",
       "                        <th id=\"T_72d8e_level0_row17\" class=\"row_heading level0 row17\" >502105</th>\n",
       "                        <td id=\"T_72d8e_row17_col0\" class=\"data row17 col0\" >Proverbs 23:17</td>\n",
       "                        <td id=\"T_72d8e_row17_col1\" class=\"data row17 col1\" >כִּ֥י אִם־בְּיִרְאַת־יְ֝הוָ֗ה כָּל־הַיֹּֽום׃ </td>\n",
       "                        <td id=\"T_72d8e_row17_col2\" class=\"data row17 col2\" >nan</td>\n",
       "            </tr>\n",
       "            <tr>\n",
       "                        <th id=\"T_72d8e_level0_row18\" class=\"row_heading level0 row18\" >505381</th>\n",
       "                        <td id=\"T_72d8e_row18_col0\" class=\"data row18 col0\" >Esther 2:12</td>\n",
       "                        <td id=\"T_72d8e_row18_col1\" class=\"data row18 col1\" >וְשִׁשָּׁ֤ה חֳדָשִׁים֙ בַּבְּשָׂמִ֔ים וּבְתַמְרוּקֵ֖י הַנָּשִֽׁים׃ </td>\n",
       "                        <td id=\"T_72d8e_row18_col2\" class=\"data row18 col2\" >nan</td>\n",
       "            </tr>\n",
       "            <tr>\n",
       "                        <th id=\"T_72d8e_level0_row19\" class=\"row_heading level0 row19\" >507680</th>\n",
       "                        <td id=\"T_72d8e_row19_col0\" class=\"data row19 col0\" >Daniel 12:3</td>\n",
       "                        <td id=\"T_72d8e_row19_col1\" class=\"data row19 col1\" >וּמַצְדִּיקֵי֙ הָֽרַבִּ֔ים כַּכֹּוכָבִ֖ים לְעֹולָ֥ם וָעֶֽד׃ פ </td>\n",
       "                        <td id=\"T_72d8e_row19_col2\" class=\"data row19 col2\" >nan</td>\n",
       "            </tr>\n",
       "            <tr>\n",
       "                        <th id=\"T_72d8e_level0_row20\" class=\"row_heading level0 row20\" >508976</th>\n",
       "                        <td id=\"T_72d8e_row20_col0\" class=\"data row20 col0\" >Nehemiah 5:18</td>\n",
       "                        <td id=\"T_72d8e_row20_col1\" class=\"data row20 col1\" >וּבֵ֨ין עֲשֶׂ֧רֶת יָמִ֛ים בְּכָל־יַ֖יִן לְהַרְבֵּ֑ה </td>\n",
       "                        <td id=\"T_72d8e_row20_col2\" class=\"data row20 col2\" >nan</td>\n",
       "            </tr>\n",
       "            <tr>\n",
       "                        <th id=\"T_72d8e_level0_row21\" class=\"row_heading level0 row21\" >509660</th>\n",
       "                        <td id=\"T_72d8e_row21_col0\" class=\"data row21 col0\" >Nehemiah 12:23</td>\n",
       "                        <td id=\"T_72d8e_row21_col1\" class=\"data row21 col1\" >וְעַד־יְמֵ֖י יֹֽוחָנָ֥ן בֶּן־אֶלְיָשִֽׁיב׃ </td>\n",
       "                        <td id=\"T_72d8e_row21_col2\" class=\"data row21 col2\" >nan</td>\n",
       "            </tr>\n",
       "            <tr>\n",
       "                        <th id=\"T_72d8e_level0_row22\" class=\"row_heading level0 row22\" >511287</th>\n",
       "                        <td id=\"T_72d8e_row22_col0\" class=\"data row22 col0\" >1_Chronicles 17:10</td>\n",
       "                        <td id=\"T_72d8e_row22_col1\" class=\"data row22 col1\" >וּלְמִיָּמִ֗ים </td>\n",
       "                        <td id=\"T_72d8e_row22_col2\" class=\"data row22 col2\" >nan</td>\n",
       "            </tr>\n",
       "            <tr>\n",
       "                        <th id=\"T_72d8e_level0_row23\" class=\"row_heading level0 row23\" >512923</th>\n",
       "                        <td id=\"T_72d8e_row23_col0\" class=\"data row23 col0\" >2_Chronicles 7:9</td>\n",
       "                        <td id=\"T_72d8e_row23_col1\" class=\"data row23 col1\" >וְהֶחָ֖ג שִׁבְעַ֥ת יָמִֽים׃ </td>\n",
       "                        <td id=\"T_72d8e_row23_col2\" class=\"data row23 col2\" >nan</td>\n",
       "            </tr>\n",
       "            <tr>\n",
       "                        <th id=\"T_72d8e_level0_row24\" class=\"row_heading level0 row24\" >515542</th>\n",
       "                        <td id=\"T_72d8e_row24_col0\" class=\"data row24 col0\" >2_Chronicles 35:17</td>\n",
       "                        <td id=\"T_72d8e_row24_col1\" class=\"data row24 col1\" >וְאֶת־חַ֥ג הַמַּצֹּ֖ות שִׁבְעַ֥ת יָמִֽים׃ </td>\n",
       "                        <td id=\"T_72d8e_row24_col2\" class=\"data row24 col2\" >nan</td>\n",
       "            </tr>\n",
       "    </tbody></table>"
      ],
      "text/plain": [
       "<pandas.io.formats.style.Styler at 0x7fef4db21bb0>"
      ]
     },
     "execution_count": 37,
     "metadata": {},
     "output_type": "execute_result"
    }
   ],
   "source": [
    "ts.show(el_df)"
   ]
  },
  {
   "cell_type": "markdown",
   "metadata": {},
   "source": [
    "### Cpen"
   ]
  },
  {
   "cell_type": "code",
   "execution_count": 39,
   "metadata": {},
   "outputs": [
    {
     "name": "stdout",
     "output_type": "stream",
     "text": [
      "showing 6 of 6\n"
     ]
    },
    {
     "data": {
      "text/html": [
       "<style  type=\"text/css\" >\n",
       "#T_5b499_row0_col1,#T_5b499_row0_col2,#T_5b499_row1_col1,#T_5b499_row1_col2,#T_5b499_row2_col1,#T_5b499_row2_col2,#T_5b499_row3_col1,#T_5b499_row3_col2,#T_5b499_row4_col1,#T_5b499_row4_col2,#T_5b499_row5_col1,#T_5b499_row5_col2{\n",
       "            font-size: 20px;\n",
       "             font-family:  Times New Roman;\n",
       "             text-align:  right;\n",
       "             max-width:  500px;\n",
       "        }</style><table id=\"T_5b499_\" ><thead>    <tr>        <th class=\"blank level0\" ></th>        <th class=\"col_heading level0 col0\" >verse</th>        <th class=\"col_heading level0 col1\" >clause</th>        <th class=\"col_heading level0 col2\" >verb_utf8</th>    </tr>    <tr>        <th class=\"index_name level0\" >node</th>        <th class=\"blank\" ></th>        <th class=\"blank\" ></th>        <th class=\"blank\" ></th>    </tr></thead><tbody>\n",
       "                <tr>\n",
       "                        <th id=\"T_5b499_level0_row0\" class=\"row_heading level0 row0\" >441900</th>\n",
       "                        <td id=\"T_5b499_row0_col0\" class=\"data row0 col0\" >Numbers 9:19</td>\n",
       "                        <td id=\"T_5b499_row0_col1\" class=\"data row0 col1\" >וּבְהַאֲרִ֧יךְ הֶֽעָנָ֛ן עַל־הַמִּשְׁכָּ֖ן יָמִ֣ים רַבִּ֑ים </td>\n",
       "                        <td id=\"T_5b499_row0_col2\" class=\"data row0 col2\" >ארך</td>\n",
       "            </tr>\n",
       "            <tr>\n",
       "                        <th id=\"T_5b499_level0_row1\" class=\"row_heading level0 row1\" >452586</th>\n",
       "                        <td id=\"T_5b499_row1_col0\" class=\"data row1 col0\" >Judges 11:26</td>\n",
       "                        <td id=\"T_5b499_row1_col1\" class=\"data row1 col1\" >בְּשֶׁ֣בֶת יִ֠שְׂרָאֵל בְּחֶשְׁבֹּ֨ון וּבִבְנֹותֶ֜יהָ וּבְעַרְעֹ֣ור וּבִבְנֹותֶ֗יהָ וּבְכָל־הֶֽעָרִים֙ שְׁלֹ֥שׁ מֵאֹ֖ות שָׁנָ֑ה </td>\n",
       "                        <td id=\"T_5b499_row1_col2\" class=\"data row1 col2\" >ישׁב</td>\n",
       "            </tr>\n",
       "            <tr>\n",
       "                        <th id=\"T_5b499_level0_row2\" class=\"row_heading level0 row2\" >457496</th>\n",
       "                        <td id=\"T_5b499_row2_col0\" class=\"data row2 col0\" >1_Samuel 26:24</td>\n",
       "                        <td id=\"T_5b499_row2_col1\" class=\"data row2 col1\" >כַּאֲשֶׁ֨ר גָּדְלָ֧ה נַפְשְׁךָ֛ הַיֹּ֥ום הַזֶּ֖ה בְּעֵינָ֑י </td>\n",
       "                        <td id=\"T_5b499_row2_col2\" class=\"data row2 col2\" >גדל</td>\n",
       "            </tr>\n",
       "            <tr>\n",
       "                        <th id=\"T_5b499_level0_row3\" class=\"row_heading level0 row3\" >469575</th>\n",
       "                        <td id=\"T_5b499_row3_col0\" class=\"data row3 col0\" >Isaiah 20:3</td>\n",
       "                        <td id=\"T_5b499_row3_col1\" class=\"data row3 col1\" >כַּאֲשֶׁ֥ר הָלַ֛ךְ עַבְדִּ֥י יְשַׁעְיָ֖הוּ עָרֹ֣ום וְיָחֵ֑ף שָׁלֹ֤שׁ שָׁנִים֙ אֹ֣ות וּמֹופֵ֔ת עַל־מִצְרַ֖יִם וְעַל־כּֽוּשׁ׃ </td>\n",
       "                        <td id=\"T_5b499_row3_col2\" class=\"data row3 col2\" >הלך</td>\n",
       "            </tr>\n",
       "            <tr>\n",
       "                        <th id=\"T_5b499_level0_row4\" class=\"row_heading level0 row4\" >508180</th>\n",
       "                        <td id=\"T_5b499_row4_col0\" class=\"data row4 col0\" >Ezra 7:1</td>\n",
       "                        <td id=\"T_5b499_row4_col1\" class=\"data row4 col1\" >וְאַחַר֙ הַדְּבָרִ֣ים הָאֵ֔לֶּה בְּמַלְכ֖וּת אַרְתַּחְשַׁ֣סְתְּא מֶֽלֶךְ־פָּרָ֑ס עֶזְרָא֙ בֶּן־שְׂרָיָ֔ה בֶּן־עֲזַרְיָ֖ה בֶּן־חִלְקִיָּֽה׃ </td>\n",
       "                        <td id=\"T_5b499_row4_col2\" class=\"data row4 col2\" >nan</td>\n",
       "            </tr>\n",
       "            <tr>\n",
       "                        <th id=\"T_5b499_level0_row5\" class=\"row_heading level0 row5\" >514714</th>\n",
       "                        <td id=\"T_5b499_row5_col0\" class=\"data row5 col0\" >2_Chronicles 28:10</td>\n",
       "                        <td id=\"T_5b499_row5_col1\" class=\"data row5 col1\" >וְ֠עַתָּה בְּנֵֽי־יְהוּדָ֤ה וִֽירוּשָׁלִַ֨ם֙ </td>\n",
       "                        <td id=\"T_5b499_row5_col2\" class=\"data row5 col2\" >nan</td>\n",
       "            </tr>\n",
       "    </tbody></table>"
      ],
      "text/plain": [
       "<pandas.io.formats.style.Styler at 0x7fef4dbe2430>"
      ]
     },
     "execution_count": 39,
     "metadata": {},
     "output_type": "execute_result"
    }
   ],
   "source": [
    "cpen_df = df[df.cl_type == 'CPen']\n",
    "\n",
    "ts.show(cpen_df)"
   ]
  },
  {
   "cell_type": "code",
   "execution_count": 47,
   "metadata": {},
   "outputs": [
    {
     "data": {
      "text/plain": [
       "'6'"
      ]
     },
     "execution_count": 47,
     "metadata": {},
     "output_type": "execute_result"
    }
   ],
   "source": [
    "out.number(\n",
    "    cpen_df.shape[0],\n",
    "    'n_CPen',\n",
    ")"
   ]
  },
  {
   "cell_type": "code",
   "execution_count": 51,
   "metadata": {},
   "outputs": [
    {
     "data": {
      "text/plain": [
       "'0.16'"
      ]
     },
     "execution_count": 51,
     "metadata": {},
     "output_type": "execute_result"
    }
   ],
   "source": [
    "out.number(\n",
    "   cltype_pr['CPen']*100,\n",
    "    'p_CPen',\n",
    "    roundto=2\n",
    ")"
   ]
  },
  {
   "cell_type": "code",
   "execution_count": 21,
   "metadata": {},
   "outputs": [
    {
     "data": {
      "text/plain": [
       "infc    2\n",
       "qtl     2\n",
       "Name: verbform, dtype: int64"
      ]
     },
     "execution_count": 21,
     "metadata": {},
     "output_type": "execute_result"
    }
   ],
   "source": [
    "cpen_df.verbform.value_counts()"
   ]
  },
  {
   "cell_type": "markdown",
   "metadata": {},
   "source": [
    "### Xpos"
   ]
  },
  {
   "cell_type": "code",
   "execution_count": 54,
   "metadata": {},
   "outputs": [
    {
     "name": "stdout",
     "output_type": "stream",
     "text": [
      "showing 1 of 1\n"
     ]
    },
    {
     "data": {
      "text/html": [
       "<style  type=\"text/css\" >\n",
       "#T_a56b9_row0_col1,#T_a56b9_row0_col2{\n",
       "            font-size: 20px;\n",
       "             font-family:  Times New Roman;\n",
       "             text-align:  right;\n",
       "             max-width:  500px;\n",
       "        }</style><table id=\"T_a56b9_\" ><thead>    <tr>        <th class=\"blank level0\" ></th>        <th class=\"col_heading level0 col0\" >verse</th>        <th class=\"col_heading level0 col1\" >clause</th>        <th class=\"col_heading level0 col2\" >verb_utf8</th>        <th class=\"col_heading level0 col3\" >sentence</th>    </tr>    <tr>        <th class=\"index_name level0\" >node</th>        <th class=\"blank\" ></th>        <th class=\"blank\" ></th>        <th class=\"blank\" ></th>        <th class=\"blank\" ></th>    </tr></thead><tbody>\n",
       "                <tr>\n",
       "                        <th id=\"T_a56b9_level0_row0\" class=\"row_heading level0 row0\" >494998</th>\n",
       "                        <td id=\"T_a56b9_row0_col0\" class=\"data row0 col0\" >Psalms 95:7</td>\n",
       "                        <td id=\"T_a56b9_row0_col1\" class=\"data row0 col1\" >הַ֝יֹּ֗ום </td>\n",
       "                        <td id=\"T_a56b9_row0_col2\" class=\"data row0 col2\" >nan</td>\n",
       "                        <td id=\"T_a56b9_row0_col3\" class=\"data row0 col3\" >הַ֝יֹּ֗ום אִֽם־בְּקֹלֹ֥ו תִשְׁמָֽעוּ׃ </td>\n",
       "            </tr>\n",
       "    </tbody></table>"
      ],
      "text/plain": [
       "<pandas.io.formats.style.Styler at 0x7fef4eb08070>"
      ]
     },
     "execution_count": 54,
     "metadata": {},
     "output_type": "execute_result"
    }
   ],
   "source": [
    "ts.show(\n",
    "    df[df.cl_type  == 'XPos']\n",
    ", extra=['sentence'])"
   ]
  },
  {
   "cell_type": "markdown",
   "metadata": {},
   "source": [
    "### ויהי"
   ]
  },
  {
   "cell_type": "code",
   "execution_count": 55,
   "metadata": {},
   "outputs": [
    {
     "data": {
      "text/plain": [
       "(163, 69)"
      ]
     },
     "execution_count": 55,
     "metadata": {},
     "output_type": "execute_result"
    }
   ],
   "source": [
    "way_df = df[\n",
    "    (df.verb_text == 'יהי')\n",
    "    & (df.verbform == 'wayq')\n",
    "]\n",
    "\n",
    "way_df.shape"
   ]
  },
  {
   "cell_type": "code",
   "execution_count": 56,
   "metadata": {},
   "outputs": [
    {
     "data": {
      "text/plain": [
       "'163'"
      ]
     },
     "execution_count": 56,
     "metadata": {},
     "output_type": "execute_result"
    }
   ],
   "source": [
    "out.number(\n",
    "    way_df.shape[0],\n",
    "    'n_WayH'\n",
    ")"
   ]
  },
  {
   "cell_type": "code",
   "execution_count": 65,
   "metadata": {},
   "outputs": [
    {
     "data": {
      "text/plain": [
       "'4'"
      ]
     },
     "execution_count": 65,
     "metadata": {},
     "output_type": "execute_result"
    }
   ],
   "source": [
    "out.number(\n",
    "    cltype_pr['WayH']*100,\n",
    "    'p_WayH'\n",
    ")"
   ]
  },
  {
   "cell_type": "code",
   "execution_count": 86,
   "metadata": {},
   "outputs": [
    {
     "data": {
      "text/plain": [
       "prose.N        141\n",
       "prophetic.N     18\n",
       "prophetic.Q      3\n",
       "prose.Q          1\n",
       "Name: gendom, dtype: int64"
      ]
     },
     "execution_count": 86,
     "metadata": {},
     "output_type": "execute_result"
    }
   ],
   "source": [
    "out.table(\n",
    "    way_df.gendom.value_counts(),\n",
    "    'WayH_genre_ct',\n",
    "    caption='Genre Counts for WayH',\n",
    ")"
   ]
  },
  {
   "cell_type": "code",
   "execution_count": 88,
   "metadata": {},
   "outputs": [
    {
     "data": {
      "text/plain": [
       "simultaneous                 81\n",
       "posterior                    58\n",
       "atelic_ext                    9\n",
       "anterior_dur                  3\n",
       "dist_prospective              2\n",
       "begin_to_end                  2\n",
       "posterior_simul               1\n",
       "posterior_dur                 1\n",
       "end_to_begin?                 1\n",
       "dur_subj?                     1\n",
       "anterior_limitive             1\n",
       "habitual                      1\n",
       "dur_to_end                    1\n",
       "simultaneous + atelic_ext     1\n",
       "Name: function, dtype: int64"
      ]
     },
     "execution_count": 88,
     "metadata": {},
     "output_type": "execute_result"
    }
   ],
   "source": [
    "out.table(\n",
    "    way_df.function.value_counts(),\n",
    "    'WayH_fun_ct',\n",
    "    caption='Function Counts with WayH'\n",
    ")"
   ]
  },
  {
   "cell_type": "code",
   "execution_count": 96,
   "metadata": {},
   "outputs": [
    {
     "data": {
      "text/plain": [
       "cl_type2\n",
       "WayH    26%\n",
       "WxY0    14%\n",
       "WayX     9%\n",
       "WxQX     8%\n",
       "xQtX     8%\n",
       "Name: posterior, dtype: object"
      ]
     },
     "execution_count": 96,
     "metadata": {},
     "output_type": "execute_result"
    }
   ],
   "source": [
    "post_ct = typfun_ct['posterior'].sort_values(ascending=False)\n",
    "post_pr = post_ct / post_ct.sum()\n",
    "\n",
    "post_pr\n",
    "post_pr = post_ct / post_ct.sum()\n",
    "\n",
    "out.table(\n",
    "    (post_pr.round(2).head()*100).astype(int).astype(str)+'%',\n",
    "    'post_pr_top5',\n",
    "    caption='Top 5 Clause Types with Posterior'\n",
    ")"
   ]
  },
  {
   "cell_type": "code",
   "execution_count": 79,
   "metadata": {},
   "outputs": [
    {
     "data": {
      "text/plain": [
       "'32'"
      ]
     },
     "execution_count": 79,
     "metadata": {},
     "output_type": "execute_result"
    }
   ],
   "source": [
    "out.number(\n",
    "    typfun_dp.loc['WayH'].sort_values(ascending=False)['posterior']*100,\n",
    "    'dp_WayH_post',\n",
    ")"
   ]
  },
  {
   "cell_type": "code",
   "execution_count": 82,
   "metadata": {},
   "outputs": [
    {
     "name": "stdout",
     "output_type": "stream",
     "text": [
      "showing 10 of 58\n"
     ]
    },
    {
     "data": {
      "text/html": [
       "<style  type=\"text/css\" >\n",
       "#T_5b8d8_row0_col1,#T_5b8d8_row0_col2,#T_5b8d8_row1_col1,#T_5b8d8_row1_col2,#T_5b8d8_row2_col1,#T_5b8d8_row2_col2,#T_5b8d8_row3_col1,#T_5b8d8_row3_col2,#T_5b8d8_row4_col1,#T_5b8d8_row4_col2,#T_5b8d8_row5_col1,#T_5b8d8_row5_col2,#T_5b8d8_row6_col1,#T_5b8d8_row6_col2,#T_5b8d8_row7_col1,#T_5b8d8_row7_col2,#T_5b8d8_row8_col1,#T_5b8d8_row8_col2,#T_5b8d8_row9_col1,#T_5b8d8_row9_col2{\n",
       "            font-size: 20px;\n",
       "             font-family:  Times New Roman;\n",
       "             text-align:  right;\n",
       "             max-width:  500px;\n",
       "        }</style><table id=\"T_5b8d8_\" ><thead>    <tr>        <th class=\"blank level0\" ></th>        <th class=\"col_heading level0 col0\" >verse</th>        <th class=\"col_heading level0 col1\" >clause</th>        <th class=\"col_heading level0 col2\" >verb_utf8</th>    </tr>    <tr>        <th class=\"index_name level0\" >node</th>        <th class=\"blank\" ></th>        <th class=\"blank\" ></th>        <th class=\"blank\" ></th>    </tr></thead><tbody>\n",
       "                <tr>\n",
       "                        <th id=\"T_5b8d8_level0_row0\" class=\"row_heading level0 row0\" >427887</th>\n",
       "                        <td id=\"T_5b8d8_row0_col0\" class=\"data row0 col0\" >Genesis 4:3</td>\n",
       "                        <td id=\"T_5b8d8_row0_col1\" class=\"data row0 col1\" >וַֽיְהִ֖י מִקֵּ֣ץ יָמִ֑ים </td>\n",
       "                        <td id=\"T_5b8d8_row0_col2\" class=\"data row0 col2\" >היה</td>\n",
       "            </tr>\n",
       "            <tr>\n",
       "                        <th id=\"T_5b8d8_level0_row1\" class=\"row_heading level0 row1\" >432065</th>\n",
       "                        <td id=\"T_5b8d8_row1_col0\" class=\"data row1 col0\" >Genesis 40:1</td>\n",
       "                        <td id=\"T_5b8d8_row1_col1\" class=\"data row1 col1\" >וַיְהִ֗י אַחַר֙ הַדְּבָרִ֣ים הָאֵ֔לֶּה </td>\n",
       "                        <td id=\"T_5b8d8_row1_col2\" class=\"data row1 col2\" >היה</td>\n",
       "            </tr>\n",
       "            <tr>\n",
       "                        <th id=\"T_5b8d8_level0_row2\" class=\"row_heading level0 row2\" >443824</th>\n",
       "                        <td id=\"T_5b8d8_row2_col0\" class=\"data row2 col0\" >Numbers 25:19</td>\n",
       "                        <td id=\"T_5b8d8_row2_col1\" class=\"data row2 col1\" >וַיְהִ֖י אַחֲרֵ֣י הַמַּגֵּפָ֑ה׃ פ </td>\n",
       "                        <td id=\"T_5b8d8_row2_col2\" class=\"data row2 col2\" >היה</td>\n",
       "            </tr>\n",
       "            <tr>\n",
       "                        <th id=\"T_5b8d8_level0_row3\" class=\"row_heading level0 row3\" >451096</th>\n",
       "                        <td id=\"T_5b8d8_row3_col0\" class=\"data row3 col0\" >Judges 1:1</td>\n",
       "                        <td id=\"T_5b8d8_row3_col1\" class=\"data row3 col1\" >וַיְהִ֗י אַחֲרֵי֙ מֹ֣ות יְהֹושֻׁ֔עַ </td>\n",
       "                        <td id=\"T_5b8d8_row3_col2\" class=\"data row3 col2\" >היה</td>\n",
       "            </tr>\n",
       "            <tr>\n",
       "                        <th id=\"T_5b8d8_level0_row4\" class=\"row_heading level0 row4\" >456230</th>\n",
       "                        <td id=\"T_5b8d8_row4_col0\" class=\"data row4 col0\" >1_Samuel 18:10</td>\n",
       "                        <td id=\"T_5b8d8_row4_col1\" class=\"data row4 col1\" >וַיְהִ֣י מִֽמָּחֳרָ֗ת </td>\n",
       "                        <td id=\"T_5b8d8_row4_col2\" class=\"data row4 col2\" >היה</td>\n",
       "            </tr>\n",
       "            <tr>\n",
       "                        <th id=\"T_5b8d8_level0_row5\" class=\"row_heading level0 row5\" >458752</th>\n",
       "                        <td id=\"T_5b8d8_row5_col0\" class=\"data row5 col0\" >2_Samuel 8:1</td>\n",
       "                        <td id=\"T_5b8d8_row5_col1\" class=\"data row5 col1\" >וַֽיְהִי֙ אַֽחֲרֵי־כֵ֔ן </td>\n",
       "                        <td id=\"T_5b8d8_row5_col2\" class=\"data row5 col2\" >היה</td>\n",
       "            </tr>\n",
       "            <tr>\n",
       "                        <th id=\"T_5b8d8_level0_row6\" class=\"row_heading level0 row6\" >461564</th>\n",
       "                        <td id=\"T_5b8d8_row6_col0\" class=\"data row6 col0\" >1_Kings 2:39</td>\n",
       "                        <td id=\"T_5b8d8_row6_col1\" class=\"data row6 col1\" >וַיְהִ֗י מִקֵּץ֙ שָׁלֹ֣שׁ שָׁנִ֔ים </td>\n",
       "                        <td id=\"T_5b8d8_row6_col2\" class=\"data row6 col2\" >היה</td>\n",
       "            </tr>\n",
       "            <tr>\n",
       "                        <th id=\"T_5b8d8_level0_row7\" class=\"row_heading level0 row7\" >465984</th>\n",
       "                        <td id=\"T_5b8d8_row7_col0\" class=\"data row7 col0\" >2_Kings 8:15</td>\n",
       "                        <td id=\"T_5b8d8_row7_col1\" class=\"data row7 col1\" >וַיְהִ֣י מִֽמָּחֳרָ֗ת </td>\n",
       "                        <td id=\"T_5b8d8_row7_col2\" class=\"data row7 col2\" >היה</td>\n",
       "            </tr>\n",
       "            <tr>\n",
       "                        <th id=\"T_5b8d8_level0_row8\" class=\"row_heading level0 row8\" >510667</th>\n",
       "                        <td id=\"T_5b8d8_row8_col0\" class=\"data row8 col0\" >1_Chronicles 10:8</td>\n",
       "                        <td id=\"T_5b8d8_row8_col1\" class=\"data row8 col1\" >וַיְהִי֙ מִֽמָּחֳרָ֔ת </td>\n",
       "                        <td id=\"T_5b8d8_row8_col2\" class=\"data row8 col2\" >היה</td>\n",
       "            </tr>\n",
       "            <tr>\n",
       "                        <th id=\"T_5b8d8_level0_row9\" class=\"row_heading level0 row9\" >514312</th>\n",
       "                        <td id=\"T_5b8d8_row9_col0\" class=\"data row9 col0\" >2_Chronicles 24:4</td>\n",
       "                        <td id=\"T_5b8d8_row9_col1\" class=\"data row9 col1\" >וַיְהִ֖י אַחֲרֵיכֵ֑ן </td>\n",
       "                        <td id=\"T_5b8d8_row9_col2\" class=\"data row9 col2\" >היה</td>\n",
       "            </tr>\n",
       "    </tbody></table>"
      ],
      "text/plain": [
       "<pandas.io.formats.style.Styler at 0x7fef4e3f7550>"
      ]
     },
     "execution_count": 82,
     "metadata": {},
     "output_type": "execute_result"
    }
   ],
   "source": [
    "ts.show(\n",
    "    way_df[way_df.function.isin(['posterior'])],\n",
    "    spread=10,\n",
    ")"
   ]
  },
  {
   "cell_type": "code",
   "execution_count": 71,
   "metadata": {},
   "outputs": [
    {
     "name": "stdout",
     "output_type": "stream",
     "text": [
      "showing 18 of 18\n"
     ]
    },
    {
     "data": {
      "text/html": [
       "<style  type=\"text/css\" >\n",
       "#T_3de4f_row0_col1,#T_3de4f_row0_col2,#T_3de4f_row1_col1,#T_3de4f_row1_col2,#T_3de4f_row2_col1,#T_3de4f_row2_col2,#T_3de4f_row3_col1,#T_3de4f_row3_col2,#T_3de4f_row4_col1,#T_3de4f_row4_col2,#T_3de4f_row5_col1,#T_3de4f_row5_col2,#T_3de4f_row6_col1,#T_3de4f_row6_col2,#T_3de4f_row7_col1,#T_3de4f_row7_col2,#T_3de4f_row8_col1,#T_3de4f_row8_col2,#T_3de4f_row9_col1,#T_3de4f_row9_col2,#T_3de4f_row10_col1,#T_3de4f_row10_col2,#T_3de4f_row11_col1,#T_3de4f_row11_col2,#T_3de4f_row12_col1,#T_3de4f_row12_col2,#T_3de4f_row13_col1,#T_3de4f_row13_col2,#T_3de4f_row14_col1,#T_3de4f_row14_col2,#T_3de4f_row15_col1,#T_3de4f_row15_col2,#T_3de4f_row16_col1,#T_3de4f_row16_col2,#T_3de4f_row17_col1,#T_3de4f_row17_col2{\n",
       "            font-size: 20px;\n",
       "             font-family:  Times New Roman;\n",
       "             text-align:  right;\n",
       "             max-width:  500px;\n",
       "        }</style><table id=\"T_3de4f_\" ><thead>    <tr>        <th class=\"blank level0\" ></th>        <th class=\"col_heading level0 col0\" >verse</th>        <th class=\"col_heading level0 col1\" >clause</th>        <th class=\"col_heading level0 col2\" >verb_utf8</th>        <th class=\"col_heading level0 col3\" >sentence</th>    </tr>    <tr>        <th class=\"index_name level0\" >node</th>        <th class=\"blank\" ></th>        <th class=\"blank\" ></th>        <th class=\"blank\" ></th>        <th class=\"blank\" ></th>    </tr></thead><tbody>\n",
       "                <tr>\n",
       "                        <th id=\"T_3de4f_level0_row0\" class=\"row_heading level0 row0\" >468631</th>\n",
       "                        <td id=\"T_3de4f_row0_col0\" class=\"data row0 col0\" >Isaiah 7:1</td>\n",
       "                        <td id=\"T_3de4f_row0_col1\" class=\"data row0 col1\" >וַיְהִ֡י בִּימֵ֣י אָ֠חָז בֶּן־יֹותָ֨ם בֶּן־עֻזִּיָּ֜הוּ מֶ֣לֶךְ יְהוּדָ֗ה </td>\n",
       "                        <td id=\"T_3de4f_row0_col2\" class=\"data row0 col2\" >היה</td>\n",
       "                        <td id=\"T_3de4f_row0_col3\" class=\"data row0 col3\" >וַיְהִ֡י בִּימֵ֣י אָ֠חָז בֶּן־יֹותָ֨ם בֶּן־עֻזִּיָּ֜הוּ מֶ֣לֶךְ יְהוּדָ֗ה </td>\n",
       "            </tr>\n",
       "            <tr>\n",
       "                        <th id=\"T_3de4f_level0_row1\" class=\"row_heading level0 row1\" >473833</th>\n",
       "                        <td id=\"T_3de4f_row1_col0\" class=\"data row1 col0\" >Jeremiah 1:3</td>\n",
       "                        <td id=\"T_3de4f_row1_col1\" class=\"data row1 col1\" >וַיְהִ֗י בִּימֵ֨י יְהֹויָקִ֤ים בֶּן־יֹאשִׁיָּ֨הוּ֙ מֶ֣לֶךְ יְהוּדָ֔ה </td>\n",
       "                        <td id=\"T_3de4f_row1_col2\" class=\"data row1 col2\" >היה</td>\n",
       "                        <td id=\"T_3de4f_row1_col3\" class=\"data row1 col3\" >וַיְהִ֗י בִּימֵ֨י יְהֹויָקִ֤ים בֶּן־יֹאשִׁיָּ֨הוּ֙ מֶ֣לֶךְ יְהוּדָ֔ה עַד־תֹּם֙ עַשְׁתֵּ֣י עֶשְׂרֵ֣ה שָׁנָ֔ה לְצִדְקִיָּ֥הוּ בֶן־יֹאשִׁיָּ֖הוּ מֶ֣לֶךְ יְהוּדָ֑ה עַד־גְּלֹ֥ות יְרוּשָׁלִַ֖ם בַּחֹ֥דֶשׁ הַחֲמִישִֽׁי׃ ס </td>\n",
       "            </tr>\n",
       "            <tr>\n",
       "                        <th id=\"T_3de4f_level0_row2\" class=\"row_heading level0 row2\" >476080</th>\n",
       "                        <td id=\"T_3de4f_row2_col0\" class=\"data row2 col0\" >Jeremiah 20:3</td>\n",
       "                        <td id=\"T_3de4f_row2_col1\" class=\"data row2 col1\" >וַֽיְהִי֙ מִֽמָּחֳרָ֔ת </td>\n",
       "                        <td id=\"T_3de4f_row2_col2\" class=\"data row2 col2\" >היה</td>\n",
       "                        <td id=\"T_3de4f_row2_col3\" class=\"data row2 col3\" >וַֽיְהִי֙ מִֽמָּחֳרָ֔ת </td>\n",
       "            </tr>\n",
       "            <tr>\n",
       "                        <th id=\"T_3de4f_level0_row3\" class=\"row_heading level0 row3\" >477941</th>\n",
       "                        <td id=\"T_3de4f_row3_col0\" class=\"data row3 col0\" >Jeremiah 36:1</td>\n",
       "                        <td id=\"T_3de4f_row3_col1\" class=\"data row3 col1\" >וַֽיְהִי֙ בַּשָּׁנָ֣ה הָרְבִיעִ֔ת לִיהֹויָקִ֥ים בֶּן־יֹאשִׁיָּ֖הוּ מֶ֣לֶךְ יְהוּדָ֑ה </td>\n",
       "                        <td id=\"T_3de4f_row3_col2\" class=\"data row3 col2\" >היה</td>\n",
       "                        <td id=\"T_3de4f_row3_col3\" class=\"data row3 col3\" >וַֽיְהִי֙ בַּשָּׁנָ֣ה הָרְבִיעִ֔ת לִיהֹויָקִ֥ים בֶּן־יֹאשִׁיָּ֖הוּ מֶ֣לֶךְ יְהוּדָ֑ה </td>\n",
       "            </tr>\n",
       "            <tr>\n",
       "                        <th id=\"T_3de4f_level0_row4\" class=\"row_heading level0 row4\" >477973</th>\n",
       "                        <td id=\"T_3de4f_row4_col0\" class=\"data row4 col0\" >Jeremiah 36:9</td>\n",
       "                        <td id=\"T_3de4f_row4_col1\" class=\"data row4 col1\" >וַיְהִ֣י בַשָּׁנָ֣ה הַ֠חֲמִשִׁית לִיהֹויָקִ֨ים בֶּן־יֹאשִׁיָּ֤הוּ מֶֽלֶךְ־יְהוּדָה֙ בַּחֹ֣דֶשׁ הַתְּשִׁעִ֔י </td>\n",
       "                        <td id=\"T_3de4f_row4_col2\" class=\"data row4 col2\" >היה</td>\n",
       "                        <td id=\"T_3de4f_row4_col3\" class=\"data row4 col3\" >וַיְהִ֣י בַשָּׁנָ֣ה הַ֠חֲמִשִׁית לִיהֹויָקִ֨ים בֶּן־יֹאשִׁיָּ֤הוּ מֶֽלֶךְ־יְהוּדָה֙ בַּחֹ֣דֶשׁ הַתְּשִׁעִ֔י </td>\n",
       "            </tr>\n",
       "            <tr>\n",
       "                        <th id=\"T_3de4f_level0_row5\" class=\"row_heading level0 row5\" >478464</th>\n",
       "                        <td id=\"T_3de4f_row5_col0\" class=\"data row5 col0\" >Jeremiah 41:4</td>\n",
       "                        <td id=\"T_3de4f_row5_col1\" class=\"data row5 col1\" >וַיְהִ֛י בַּיֹּ֥ום הַשֵּׁנִ֖י </td>\n",
       "                        <td id=\"T_3de4f_row5_col2\" class=\"data row5 col2\" >היה</td>\n",
       "                        <td id=\"T_3de4f_row5_col3\" class=\"data row5 col3\" >וַיְהִ֛י בַּיֹּ֥ום הַשֵּׁנִ֖י לְהָמִ֣ית אֶת־גְּדַלְיָ֑הוּ </td>\n",
       "            </tr>\n",
       "            <tr>\n",
       "                        <th id=\"T_3de4f_level0_row6\" class=\"row_heading level0 row6\" >478563</th>\n",
       "                        <td id=\"T_3de4f_row6_col0\" class=\"data row6 col0\" >Jeremiah 42:7</td>\n",
       "                        <td id=\"T_3de4f_row6_col1\" class=\"data row6 col1\" >וַיְהִ֕י מִקֵּ֖ץ עֲשֶׂ֣רֶת יָמִ֑ים </td>\n",
       "                        <td id=\"T_3de4f_row6_col2\" class=\"data row6 col2\" >היה</td>\n",
       "                        <td id=\"T_3de4f_row6_col3\" class=\"data row6 col3\" >וַיְהִ֕י מִקֵּ֖ץ עֲשֶׂ֣רֶת יָמִ֑ים </td>\n",
       "            </tr>\n",
       "            <tr>\n",
       "                        <th id=\"T_3de4f_level0_row7\" class=\"row_heading level0 row7\" >480246</th>\n",
       "                        <td id=\"T_3de4f_row7_col0\" class=\"data row7 col0\" >Ezekiel 3:16</td>\n",
       "                        <td id=\"T_3de4f_row7_col1\" class=\"data row7 col1\" >וַיְהִ֕י מִקְצֵ֖ה שִׁבְעַ֣ת יָמִ֑ים פ </td>\n",
       "                        <td id=\"T_3de4f_row7_col2\" class=\"data row7 col2\" >היה</td>\n",
       "                        <td id=\"T_3de4f_row7_col3\" class=\"data row7 col3\" >וַיְהִ֕י מִקְצֵ֖ה שִׁבְעַ֣ת יָמִ֑ים פ </td>\n",
       "            </tr>\n",
       "            <tr>\n",
       "                        <th id=\"T_3de4f_level0_row8\" class=\"row_heading level0 row8\" >481051</th>\n",
       "                        <td id=\"T_3de4f_row8_col0\" class=\"data row8 col0\" >Ezekiel 12:8</td>\n",
       "                        <td id=\"T_3de4f_row8_col1\" class=\"data row8 col1\" >וַיְהִ֧י דְבַר־יְהוָ֛ה אֵלַ֖י בַּבֹּ֥קֶר </td>\n",
       "                        <td id=\"T_3de4f_row8_col2\" class=\"data row8 col2\" >היה</td>\n",
       "                        <td id=\"T_3de4f_row8_col3\" class=\"data row8 col3\" >וַיְהִ֧י דְבַר־יְהוָ֛ה אֵלַ֖י בַּבֹּ֥קֶר לֵאמֹֽר׃ </td>\n",
       "            </tr>\n",
       "            <tr>\n",
       "                        <th id=\"T_3de4f_level0_row9\" class=\"row_heading level0 row9\" >482726</th>\n",
       "                        <td id=\"T_3de4f_row9_col0\" class=\"data row9 col0\" >Ezekiel 24:1</td>\n",
       "                        <td id=\"T_3de4f_row9_col1\" class=\"data row9 col1\" >וַיְהִי֩ דְבַר־יְהוָ֨ה אֵלַ֜י בַּשָּׁנָ֤ה הַתְּשִׁיעִית֙ בַּחֹ֣דֶשׁ הָעֲשִׂירִ֔י בֶּעָשֹׂ֥ור לַחֹ֖דֶשׁ </td>\n",
       "                        <td id=\"T_3de4f_row9_col2\" class=\"data row9 col2\" >היה</td>\n",
       "                        <td id=\"T_3de4f_row9_col3\" class=\"data row9 col3\" >וַיְהִי֩ דְבַר־יְהוָ֨ה אֵלַ֜י בַּשָּׁנָ֤ה הַתְּשִׁיעִית֙ בַּחֹ֣דֶשׁ הָעֲשִׂירִ֔י בֶּעָשֹׂ֥ור לַחֹ֖דֶשׁ לֵאמֹֽר׃ </td>\n",
       "            </tr>\n",
       "            <tr>\n",
       "                        <th id=\"T_3de4f_level0_row10\" class=\"row_heading level0 row10\" >482924</th>\n",
       "                        <td id=\"T_3de4f_row10_col0\" class=\"data row10 col0\" >Ezekiel 26:1</td>\n",
       "                        <td id=\"T_3de4f_row10_col1\" class=\"data row10 col1\" >וַיְהִ֛י בְּעַשְׁתֵּֽי־עֶשְׂרֵ֥ה שָׁנָ֖ה בְּאֶחָ֣ד לַחֹ֑דֶשׁ </td>\n",
       "                        <td id=\"T_3de4f_row10_col2\" class=\"data row10 col2\" >היה</td>\n",
       "                        <td id=\"T_3de4f_row10_col3\" class=\"data row10 col3\" >וַיְהִ֛י בְּעַשְׁתֵּֽי־עֶשְׂרֵ֥ה שָׁנָ֖ה בְּאֶחָ֣ד לַחֹ֑דֶשׁ </td>\n",
       "            </tr>\n",
       "            <tr>\n",
       "                        <th id=\"T_3de4f_level0_row11\" class=\"row_heading level0 row11\" >483384</th>\n",
       "                        <td id=\"T_3de4f_row11_col0\" class=\"data row11 col0\" >Ezekiel 30:20</td>\n",
       "                        <td id=\"T_3de4f_row11_col1\" class=\"data row11 col1\" >וַיְהִ֗י בְּאַחַ֤ת עֶשְׂרֵה֙ שָׁנָ֔ה בָּֽרִאשֹׁ֖ון בְּשִׁבְעָ֣ה לַחֹ֑דֶשׁ </td>\n",
       "                        <td id=\"T_3de4f_row11_col2\" class=\"data row11 col2\" >היה</td>\n",
       "                        <td id=\"T_3de4f_row11_col3\" class=\"data row11 col3\" >וַיְהִ֗י בְּאַחַ֤ת עֶשְׂרֵה֙ שָׁנָ֔ה בָּֽרִאשֹׁ֖ון בְּשִׁבְעָ֣ה לַחֹ֑דֶשׁ </td>\n",
       "            </tr>\n",
       "            <tr>\n",
       "                        <th id=\"T_3de4f_level0_row12\" class=\"row_heading level0 row12\" >483417</th>\n",
       "                        <td id=\"T_3de4f_row12_col0\" class=\"data row12 col0\" >Ezekiel 31:1</td>\n",
       "                        <td id=\"T_3de4f_row12_col1\" class=\"data row12 col1\" >וַיְהִ֗י בְּאַחַ֤ת עֶשְׂרֵה֙ שָׁנָ֔ה בַּשְּׁלִישִׁ֖י בְּאֶחָ֣ד לַחֹ֑דֶשׁ </td>\n",
       "                        <td id=\"T_3de4f_row12_col2\" class=\"data row12 col2\" >היה</td>\n",
       "                        <td id=\"T_3de4f_row12_col3\" class=\"data row12 col3\" >וַיְהִ֗י בְּאַחַ֤ת עֶשְׂרֵה֙ שָׁנָ֔ה בַּשְּׁלִישִׁ֖י בְּאֶחָ֣ד לַחֹ֑דֶשׁ </td>\n",
       "            </tr>\n",
       "            <tr>\n",
       "                        <th id=\"T_3de4f_level0_row13\" class=\"row_heading level0 row13\" >483486</th>\n",
       "                        <td id=\"T_3de4f_row13_col0\" class=\"data row13 col0\" >Ezekiel 32:1</td>\n",
       "                        <td id=\"T_3de4f_row13_col1\" class=\"data row13 col1\" >וַֽיְהִי֙ בִּשְׁתֵּ֣י עֶשְׂרֵ֣ה שָׁנָ֔ה בִּשְׁנֵי־עָשָׂ֥ר חֹ֖דֶשׁ בְּאֶחָ֣ד לַחֹ֑דֶשׁ </td>\n",
       "                        <td id=\"T_3de4f_row13_col2\" class=\"data row13 col2\" >היה</td>\n",
       "                        <td id=\"T_3de4f_row13_col3\" class=\"data row13 col3\" >וַֽיְהִי֙ בִּשְׁתֵּ֣י עֶשְׂרֵ֣ה שָׁנָ֔ה בִּשְׁנֵי־עָשָׂ֥ר חֹ֖דֶשׁ בְּאֶחָ֣ד לַחֹ֑דֶשׁ </td>\n",
       "            </tr>\n",
       "            <tr>\n",
       "                        <th id=\"T_3de4f_level0_row14\" class=\"row_heading level0 row14\" >483550</th>\n",
       "                        <td id=\"T_3de4f_row14_col0\" class=\"data row14 col0\" >Ezekiel 32:17</td>\n",
       "                        <td id=\"T_3de4f_row14_col1\" class=\"data row14 col1\" >וַֽיְהִי֙ בִּשְׁתֵּ֣י עֶשְׂרֵ֣ה שָׁנָ֔ה בַּחֲמִשָּׁ֥ה עָשָׂ֖ר לַחֹ֑דֶשׁ </td>\n",
       "                        <td id=\"T_3de4f_row14_col2\" class=\"data row14 col2\" >היה</td>\n",
       "                        <td id=\"T_3de4f_row14_col3\" class=\"data row14 col3\" >וַֽיְהִי֙ בִּשְׁתֵּ֣י עֶשְׂרֵ֣ה שָׁנָ֔ה בַּחֲמִשָּׁ֥ה עָשָׂ֖ר לַחֹ֑דֶשׁ </td>\n",
       "            </tr>\n",
       "            <tr>\n",
       "                        <th id=\"T_3de4f_level0_row15\" class=\"row_heading level0 row15\" >483731</th>\n",
       "                        <td id=\"T_3de4f_row15_col0\" class=\"data row15 col0\" >Ezekiel 33:21</td>\n",
       "                        <td id=\"T_3de4f_row15_col1\" class=\"data row15 col1\" >וַיְהִ֞י בִּשְׁתֵּ֧י עֶשְׂרֵ֣ה שָׁנָ֗ה בָּעֲשִׂרִ֛י בַּחֲמִשָּׁ֥ה לַחֹ֖דֶשׁ לְגָלוּתֵ֑נוּ </td>\n",
       "                        <td id=\"T_3de4f_row15_col2\" class=\"data row15 col2\" >היה</td>\n",
       "                        <td id=\"T_3de4f_row15_col3\" class=\"data row15 col3\" >וַיְהִ֞י בִּשְׁתֵּ֧י עֶשְׂרֵ֣ה שָׁנָ֗ה בָּעֲשִׂרִ֛י בַּחֲמִשָּׁ֥ה לַחֹ֖דֶשׁ לְגָלוּתֵ֑נוּ </td>\n",
       "            </tr>\n",
       "            <tr>\n",
       "                        <th id=\"T_3de4f_level0_row16\" class=\"row_heading level0 row16\" >488927</th>\n",
       "                        <td id=\"T_3de4f_row16_col0\" class=\"data row16 col0\" >Haggai 2:20</td>\n",
       "                        <td id=\"T_3de4f_row16_col1\" class=\"data row16 col1\" >וַיְהִ֨י דְבַר־יְהוָ֤ה׀ שֵׁנִית֙ אֶל־חַגַּ֔י בְּעֶשְׂרִ֧ים וְאַרְבָּעָ֛ה לַחֹ֖דֶשׁ </td>\n",
       "                        <td id=\"T_3de4f_row16_col2\" class=\"data row16 col2\" >היה</td>\n",
       "                        <td id=\"T_3de4f_row16_col3\" class=\"data row16 col3\" >וַיְהִ֨י דְבַר־יְהוָ֤ה׀ שֵׁנִית֙ אֶל־חַגַּ֔י בְּעֶשְׂרִ֧ים וְאַרְבָּעָ֛ה לַחֹ֖דֶשׁ לֵאמֹֽר׃ </td>\n",
       "            </tr>\n",
       "            <tr>\n",
       "                        <th id=\"T_3de4f_level0_row17\" class=\"row_heading level0 row17\" >489362</th>\n",
       "                        <td id=\"T_3de4f_row17_col0\" class=\"data row17 col0\" >Zechariah 7:1</td>\n",
       "                        <td id=\"T_3de4f_row17_col1\" class=\"data row17 col1\" >וַֽיְהִי֙ בִּשְׁנַ֣ת אַרְבַּ֔ע לְדָרְיָ֖וֶשׁ הַמֶּ֑לֶךְ </td>\n",
       "                        <td id=\"T_3de4f_row17_col2\" class=\"data row17 col2\" >היה</td>\n",
       "                        <td id=\"T_3de4f_row17_col3\" class=\"data row17 col3\" >וַֽיְהִי֙ בִּשְׁנַ֣ת אַרְבַּ֔ע לְדָרְיָ֖וֶשׁ הַמֶּ֑לֶךְ </td>\n",
       "            </tr>\n",
       "    </tbody></table>"
      ],
      "text/plain": [
       "<pandas.io.formats.style.Styler at 0x7fef4fefeb80>"
      ]
     },
     "execution_count": 71,
     "metadata": {},
     "output_type": "execute_result"
    }
   ],
   "source": [
    "ts.show(\n",
    "    way_df[way_df.gendom.isin(['prophetic.N'])],\n",
    "    extra=['sentence'],\n",
    ")"
   ]
  },
  {
   "cell_type": "code",
   "execution_count": 70,
   "metadata": {},
   "outputs": [
    {
     "name": "stdout",
     "output_type": "stream",
     "text": [
      "showing 4 of 4\n"
     ]
    },
    {
     "data": {
      "text/html": [
       "<style  type=\"text/css\" >\n",
       "#T_36386_row0_col1,#T_36386_row0_col2,#T_36386_row1_col1,#T_36386_row1_col2,#T_36386_row2_col1,#T_36386_row2_col2,#T_36386_row3_col1,#T_36386_row3_col2{\n",
       "            font-size: 20px;\n",
       "             font-family:  Times New Roman;\n",
       "             text-align:  right;\n",
       "             max-width:  500px;\n",
       "        }</style><table id=\"T_36386_\" ><thead>    <tr>        <th class=\"blank level0\" ></th>        <th class=\"col_heading level0 col0\" >verse</th>        <th class=\"col_heading level0 col1\" >clause</th>        <th class=\"col_heading level0 col2\" >verb_utf8</th>        <th class=\"col_heading level0 col3\" >sentence</th>    </tr>    <tr>        <th class=\"index_name level0\" >node</th>        <th class=\"blank\" ></th>        <th class=\"blank\" ></th>        <th class=\"blank\" ></th>        <th class=\"blank\" ></th>    </tr></thead><tbody>\n",
       "                <tr>\n",
       "                        <th id=\"T_36386_level0_row0\" class=\"row_heading level0 row0\" >461682</th>\n",
       "                        <td id=\"T_36386_row0_col0\" class=\"data row0 col0\" >1_Kings 3:18</td>\n",
       "                        <td id=\"T_36386_row0_col1\" class=\"data row0 col1\" >וַיְהִ֞י בַּיֹּ֤ום הַשְּׁלִישִׁי֙ </td>\n",
       "                        <td id=\"T_36386_row0_col2\" class=\"data row0 col2\" >היה</td>\n",
       "                        <td id=\"T_36386_row0_col3\" class=\"data row0 col3\" >וַיְהִ֞י בַּיֹּ֤ום הַשְּׁלִישִׁי֙ לְלִדְתִּ֔י </td>\n",
       "            </tr>\n",
       "            <tr>\n",
       "                        <th id=\"T_36386_level0_row1\" class=\"row_heading level0 row1\" >475351</th>\n",
       "                        <td id=\"T_36386_row1_col0\" class=\"data row1 col0\" >Jeremiah 13:6</td>\n",
       "                        <td id=\"T_36386_row1_col1\" class=\"data row1 col1\" >וַיְהִ֕י מִקֵּ֖ץ יָמִ֣ים רַבִּ֑ים </td>\n",
       "                        <td id=\"T_36386_row1_col2\" class=\"data row1 col2\" >היה</td>\n",
       "                        <td id=\"T_36386_row1_col3\" class=\"data row1 col3\" >וַיְהִ֕י מִקֵּ֖ץ יָמִ֣ים רַבִּ֑ים </td>\n",
       "            </tr>\n",
       "            <tr>\n",
       "                        <th id=\"T_36386_level0_row2\" class=\"row_heading level0 row2\" >481513</th>\n",
       "                        <td id=\"T_36386_row2_col0\" class=\"data row2 col0\" >Ezekiel 16:23</td>\n",
       "                        <td id=\"T_36386_row2_col1\" class=\"data row2 col1\" >וַיְהִ֕י אַחֲרֵ֖י כָּל־רָעָתֵ֑ךְ </td>\n",
       "                        <td id=\"T_36386_row2_col2\" class=\"data row2 col2\" >היה</td>\n",
       "                        <td id=\"T_36386_row2_col3\" class=\"data row2 col3\" >וַיְהִ֕י אַחֲרֵ֖י כָּל־רָעָתֵ֑ךְ </td>\n",
       "            </tr>\n",
       "            <tr>\n",
       "                        <th id=\"T_36386_level0_row3\" class=\"row_heading level0 row3\" >483292</th>\n",
       "                        <td id=\"T_36386_row3_col0\" class=\"data row3 col0\" >Ezekiel 29:17</td>\n",
       "                        <td id=\"T_36386_row3_col1\" class=\"data row3 col1\" >וַיְהִ֗י בְּעֶשְׂרִ֤ים וָשֶׁ֨בַע֙ שָׁנָ֔ה בָּֽרִאשֹׁ֖ון בְּאֶחָ֣ד לַחֹ֑דֶשׁ </td>\n",
       "                        <td id=\"T_36386_row3_col2\" class=\"data row3 col2\" >היה</td>\n",
       "                        <td id=\"T_36386_row3_col3\" class=\"data row3 col3\" >וַיְהִ֗י בְּעֶשְׂרִ֤ים וָשֶׁ֨בַע֙ שָׁנָ֔ה בָּֽרִאשֹׁ֖ון בְּאֶחָ֣ד לַחֹ֑דֶשׁ </td>\n",
       "            </tr>\n",
       "    </tbody></table>"
      ],
      "text/plain": [
       "<pandas.io.formats.style.Styler at 0x7fef4ff1e2b0>"
      ]
     },
     "execution_count": 70,
     "metadata": {},
     "output_type": "execute_result"
    }
   ],
   "source": [
    "ts.show(\n",
    "    way_df[way_df.gendom.isin(['prose.Q', 'prophetic.Q'])],\n",
    "    extra=['sentence'],\n",
    ")"
   ]
  },
  {
   "cell_type": "code",
   "execution_count": 14,
   "metadata": {},
   "outputs": [
    {
     "data": {
      "text/plain": [
       "Way0    146\n",
       "WayX     17\n",
       "Name: cl_type, dtype: int64"
      ]
     },
     "execution_count": 14,
     "metadata": {},
     "output_type": "execute_result"
    }
   ],
   "source": [
    "way_df.cl_type.value_counts()"
   ]
  },
  {
   "cell_type": "code",
   "execution_count": 15,
   "metadata": {},
   "outputs": [
    {
     "name": "stdout",
     "output_type": "stream",
     "text": [
      "showing 25 of 163\n"
     ]
    },
    {
     "data": {
      "text/html": [
       "<style  type=\"text/css\" >\n",
       "#T_b5ef5_row0_col1,#T_b5ef5_row0_col2,#T_b5ef5_row1_col1,#T_b5ef5_row1_col2,#T_b5ef5_row2_col1,#T_b5ef5_row2_col2,#T_b5ef5_row3_col1,#T_b5ef5_row3_col2,#T_b5ef5_row4_col1,#T_b5ef5_row4_col2,#T_b5ef5_row5_col1,#T_b5ef5_row5_col2,#T_b5ef5_row6_col1,#T_b5ef5_row6_col2,#T_b5ef5_row7_col1,#T_b5ef5_row7_col2,#T_b5ef5_row8_col1,#T_b5ef5_row8_col2,#T_b5ef5_row9_col1,#T_b5ef5_row9_col2,#T_b5ef5_row10_col1,#T_b5ef5_row10_col2,#T_b5ef5_row11_col1,#T_b5ef5_row11_col2,#T_b5ef5_row12_col1,#T_b5ef5_row12_col2,#T_b5ef5_row13_col1,#T_b5ef5_row13_col2,#T_b5ef5_row14_col1,#T_b5ef5_row14_col2,#T_b5ef5_row15_col1,#T_b5ef5_row15_col2,#T_b5ef5_row16_col1,#T_b5ef5_row16_col2,#T_b5ef5_row17_col1,#T_b5ef5_row17_col2,#T_b5ef5_row18_col1,#T_b5ef5_row18_col2,#T_b5ef5_row19_col1,#T_b5ef5_row19_col2,#T_b5ef5_row20_col1,#T_b5ef5_row20_col2,#T_b5ef5_row21_col1,#T_b5ef5_row21_col2,#T_b5ef5_row22_col1,#T_b5ef5_row22_col2,#T_b5ef5_row23_col1,#T_b5ef5_row23_col2,#T_b5ef5_row24_col1,#T_b5ef5_row24_col2{\n",
       "            font-size: 20px;\n",
       "             font-family:  Times New Roman;\n",
       "             text-align:  right;\n",
       "             max-width:  500px;\n",
       "        }</style><table id=\"T_b5ef5_\" ><thead>    <tr>        <th class=\"blank level0\" ></th>        <th class=\"col_heading level0 col0\" >verse</th>        <th class=\"col_heading level0 col1\" >clause</th>        <th class=\"col_heading level0 col2\" >verb_utf8</th>    </tr>    <tr>        <th class=\"index_name level0\" >node</th>        <th class=\"blank\" ></th>        <th class=\"blank\" ></th>        <th class=\"blank\" ></th>    </tr></thead><tbody>\n",
       "                <tr>\n",
       "                        <th id=\"T_b5ef5_level0_row0\" class=\"row_heading level0 row0\" >427887</th>\n",
       "                        <td id=\"T_b5ef5_row0_col0\" class=\"data row0 col0\" >Genesis 4:3</td>\n",
       "                        <td id=\"T_b5ef5_row0_col1\" class=\"data row0 col1\" >וַֽיְהִ֖י מִקֵּ֣ץ יָמִ֑ים </td>\n",
       "                        <td id=\"T_b5ef5_row0_col2\" class=\"data row0 col2\" >היה</td>\n",
       "            </tr>\n",
       "            <tr>\n",
       "                        <th id=\"T_b5ef5_level0_row1\" class=\"row_heading level0 row1\" >429443</th>\n",
       "                        <td id=\"T_b5ef5_row1_col0\" class=\"data row1 col0\" >Genesis 21:22</td>\n",
       "                        <td id=\"T_b5ef5_row1_col1\" class=\"data row1 col1\" >וַֽיְהִי֙ בָּעֵ֣ת הַהִ֔וא </td>\n",
       "                        <td id=\"T_b5ef5_row1_col2\" class=\"data row1 col2\" >היה</td>\n",
       "            </tr>\n",
       "            <tr>\n",
       "                        <th id=\"T_b5ef5_level0_row2\" class=\"row_heading level0 row2\" >431805</th>\n",
       "                        <td id=\"T_b5ef5_row2_col0\" class=\"data row2 col0\" >Genesis 38:1</td>\n",
       "                        <td id=\"T_b5ef5_row2_col1\" class=\"data row2 col1\" >וַֽיְהִי֙ בָּעֵ֣ת הַהִ֔וא </td>\n",
       "                        <td id=\"T_b5ef5_row2_col2\" class=\"data row2 col2\" >היה</td>\n",
       "            </tr>\n",
       "            <tr>\n",
       "                        <th id=\"T_b5ef5_level0_row3\" class=\"row_heading level0 row3\" >433720</th>\n",
       "                        <td id=\"T_b5ef5_row3_col0\" class=\"data row3 col0\" >Exodus 2:23</td>\n",
       "                        <td id=\"T_b5ef5_row3_col1\" class=\"data row3 col1\" >וַיְהִי֩ בַיָּמִ֨ים הָֽרַבִּ֜ים הָהֵ֗ם </td>\n",
       "                        <td id=\"T_b5ef5_row3_col2\" class=\"data row3 col2\" >היה</td>\n",
       "            </tr>\n",
       "            <tr>\n",
       "                        <th id=\"T_b5ef5_level0_row4\" class=\"row_heading level0 row4\" >435526</th>\n",
       "                        <td id=\"T_b5ef5_row4_col0\" class=\"data row4 col0\" >Exodus 18:13</td>\n",
       "                        <td id=\"T_b5ef5_row4_col1\" class=\"data row4 col1\" >וַיְהִי֙ מִֽמָּחֳרָ֔ת </td>\n",
       "                        <td id=\"T_b5ef5_row4_col2\" class=\"data row4 col2\" >היה</td>\n",
       "            </tr>\n",
       "            <tr>\n",
       "                        <th id=\"T_b5ef5_level0_row5\" class=\"row_heading level0 row5\" >443527</th>\n",
       "                        <td id=\"T_b5ef5_row5_col0\" class=\"data row5 col0\" >Numbers 22:41</td>\n",
       "                        <td id=\"T_b5ef5_row5_col1\" class=\"data row5 col1\" >וַיְהִ֣י בַבֹּ֔קֶר </td>\n",
       "                        <td id=\"T_b5ef5_row5_col2\" class=\"data row5 col2\" >היה</td>\n",
       "            </tr>\n",
       "            <tr>\n",
       "                        <th id=\"T_b5ef5_level0_row6\" class=\"row_heading level0 row6\" >451081</th>\n",
       "                        <td id=\"T_b5ef5_row6_col0\" class=\"data row6 col0\" >Joshua 24:29</td>\n",
       "                        <td id=\"T_b5ef5_row6_col1\" class=\"data row6 col1\" >וַיְהִ֗י אַֽחֲרֵי֙ הַדְּבָרִ֣ים הָאֵ֔לֶּה </td>\n",
       "                        <td id=\"T_b5ef5_row6_col2\" class=\"data row6 col2\" >היה</td>\n",
       "            </tr>\n",
       "            <tr>\n",
       "                        <th id=\"T_b5ef5_level0_row7\" class=\"row_heading level0 row7\" >452950</th>\n",
       "                        <td id=\"T_b5ef5_row7_col0\" class=\"data row7 col0\" >Judges 15:1</td>\n",
       "                        <td id=\"T_b5ef5_row7_col1\" class=\"data row7 col1\" >וַיְהִ֨י מִיָּמִ֜ים בִּימֵ֣י קְצִיר־חִטִּ֗ים </td>\n",
       "                        <td id=\"T_b5ef5_row7_col2\" class=\"data row7 col2\" >היה</td>\n",
       "            </tr>\n",
       "            <tr>\n",
       "                        <th id=\"T_b5ef5_level0_row8\" class=\"row_heading level0 row8\" >453954</th>\n",
       "                        <td id=\"T_b5ef5_row8_col0\" class=\"data row8 col0\" >1_Samuel 1:4</td>\n",
       "                        <td id=\"T_b5ef5_row8_col1\" class=\"data row8 col1\" >וַיְהִ֣י הַיֹּ֔ום </td>\n",
       "                        <td id=\"T_b5ef5_row8_col2\" class=\"data row8 col2\" >היה</td>\n",
       "            </tr>\n",
       "            <tr>\n",
       "                        <th id=\"T_b5ef5_level0_row9\" class=\"row_heading level0 row9\" >456229</th>\n",
       "                        <td id=\"T_b5ef5_row9_col0\" class=\"data row9 col0\" >1_Samuel 18:9</td>\n",
       "                        <td id=\"T_b5ef5_row9_col1\" class=\"data row9 col1\" >וַיְהִ֥י שָׁא֖וּל עֹויֵ֣ן אֶת־דָּוִ֑ד מֵהַיֹּ֥ום הַה֖וּא וָהָֽלְאָה׃ ס </td>\n",
       "                        <td id=\"T_b5ef5_row9_col2\" class=\"data row9 col2\" >היה</td>\n",
       "            </tr>\n",
       "            <tr>\n",
       "                        <th id=\"T_b5ef5_level0_row10\" class=\"row_heading level0 row10\" >457328</th>\n",
       "                        <td id=\"T_b5ef5_row10_col0\" class=\"data row10 col0\" >1_Samuel 25:38</td>\n",
       "                        <td id=\"T_b5ef5_row10_col1\" class=\"data row10 col1\" >וַיְהִ֖י כַּעֲשֶׂ֣רֶת הַיָּמִ֑ים </td>\n",
       "                        <td id=\"T_b5ef5_row10_col2\" class=\"data row10 col2\" >היה</td>\n",
       "            </tr>\n",
       "            <tr>\n",
       "                        <th id=\"T_b5ef5_level0_row11\" class=\"row_heading level0 row11\" >458752</th>\n",
       "                        <td id=\"T_b5ef5_row11_col0\" class=\"data row11 col0\" >2_Samuel 8:1</td>\n",
       "                        <td id=\"T_b5ef5_row11_col1\" class=\"data row11 col1\" >וַֽיְהִי֙ אַֽחֲרֵי־כֵ֔ן </td>\n",
       "                        <td id=\"T_b5ef5_row11_col2\" class=\"data row11 col2\" >היה</td>\n",
       "            </tr>\n",
       "            <tr>\n",
       "                        <th id=\"T_b5ef5_level0_row12\" class=\"row_heading level0 row12\" >459663</th>\n",
       "                        <td id=\"T_b5ef5_row12_col0\" class=\"data row12 col0\" >2_Samuel 15:1</td>\n",
       "                        <td id=\"T_b5ef5_row12_col1\" class=\"data row12 col1\" >וַֽיְהִי֙ מֵאַ֣חֲרֵי כֵ֔ן </td>\n",
       "                        <td id=\"T_b5ef5_row12_col2\" class=\"data row12 col2\" >היה</td>\n",
       "            </tr>\n",
       "            <tr>\n",
       "                        <th id=\"T_b5ef5_level0_row13\" class=\"row_heading level0 row13\" >461908</th>\n",
       "                        <td id=\"T_b5ef5_row13_col0\" class=\"data row13 col0\" >1_Kings 6:1</td>\n",
       "                        <td id=\"T_b5ef5_row13_col1\" class=\"data row13 col1\" >וַיְהִ֣י בִשְׁמֹונִ֣ים שָׁנָ֣ה וְאַרְבַּ֣ע מֵאֹ֣ות שָׁנָ֡ה בַּשָּׁנָ֨ה הָרְבִיעִ֜ית בְּחֹ֣דֶשׁ זִ֗ו </td>\n",
       "                        <td id=\"T_b5ef5_row13_col2\" class=\"data row13 col2\" >היה</td>\n",
       "            </tr>\n",
       "            <tr>\n",
       "                        <th id=\"T_b5ef5_level0_row14\" class=\"row_heading level0 row14\" >463607</th>\n",
       "                        <td id=\"T_b5ef5_row14_col0\" class=\"data row14 col0\" >1_Kings 17:7</td>\n",
       "                        <td id=\"T_b5ef5_row14_col1\" class=\"data row14 col1\" >וַיְהִ֛י מִקֵּ֥ץ יָמִ֖ים </td>\n",
       "                        <td id=\"T_b5ef5_row14_col2\" class=\"data row14 col2\" >היה</td>\n",
       "            </tr>\n",
       "            <tr>\n",
       "                        <th id=\"T_b5ef5_level0_row15\" class=\"row_heading level0 row15\" >464503</th>\n",
       "                        <td id=\"T_b5ef5_row15_col0\" class=\"data row15 col0\" >1_Kings 22:2</td>\n",
       "                        <td id=\"T_b5ef5_row15_col1\" class=\"data row15 col1\" >וַיְהִ֖י בַּשָּׁנָ֣ה הַשְּׁלִישִׁ֑ית </td>\n",
       "                        <td id=\"T_b5ef5_row15_col2\" class=\"data row15 col2\" >היה</td>\n",
       "            </tr>\n",
       "            <tr>\n",
       "                        <th id=\"T_b5ef5_level0_row16\" class=\"row_heading level0 row16\" >465690</th>\n",
       "                        <td id=\"T_b5ef5_row16_col0\" class=\"data row16 col0\" >2_Kings 6:24</td>\n",
       "                        <td id=\"T_b5ef5_row16_col1\" class=\"data row16 col1\" >וַֽיְהִי֙ אַחֲרֵי־כֵ֔ן </td>\n",
       "                        <td id=\"T_b5ef5_row16_col2\" class=\"data row16 col2\" >היה</td>\n",
       "            </tr>\n",
       "            <tr>\n",
       "                        <th id=\"T_b5ef5_level0_row17\" class=\"row_heading level0 row17\" >467185</th>\n",
       "                        <td id=\"T_b5ef5_row17_col0\" class=\"data row17 col0\" >2_Kings 18:1</td>\n",
       "                        <td id=\"T_b5ef5_row17_col1\" class=\"data row17 col1\" >וַֽיְהִי֙ בִּשְׁנַ֣ת שָׁלֹ֔שׁ לְהֹושֵׁ֥עַ בֶּן־אֵלָ֖ה מֶ֣לֶךְ יִשְׂרָאֵ֑ל </td>\n",
       "                        <td id=\"T_b5ef5_row17_col2\" class=\"data row17 col2\" >היה</td>\n",
       "            </tr>\n",
       "            <tr>\n",
       "                        <th id=\"T_b5ef5_level0_row18\" class=\"row_heading level0 row18\" >470815</th>\n",
       "                        <td id=\"T_b5ef5_row18_col0\" class=\"data row18 col0\" >Isaiah 36:1</td>\n",
       "                        <td id=\"T_b5ef5_row18_col1\" class=\"data row18 col1\" >וַיְהִ֡י בְּאַרְבַּע֩ עֶשְׂרֵ֨ה שָׁנָ֜ה לַמֶּ֣לֶךְ חִזְקִיָּ֗הוּ </td>\n",
       "                        <td id=\"T_b5ef5_row18_col2\" class=\"data row18 col2\" >היה</td>\n",
       "            </tr>\n",
       "            <tr>\n",
       "                        <th id=\"T_b5ef5_level0_row19\" class=\"row_heading level0 row19\" >478563</th>\n",
       "                        <td id=\"T_b5ef5_row19_col0\" class=\"data row19 col0\" >Jeremiah 42:7</td>\n",
       "                        <td id=\"T_b5ef5_row19_col1\" class=\"data row19 col1\" >וַיְהִ֕י מִקֵּ֖ץ עֲשֶׂ֣רֶת יָמִ֑ים </td>\n",
       "                        <td id=\"T_b5ef5_row19_col2\" class=\"data row19 col2\" >היה</td>\n",
       "            </tr>\n",
       "            <tr>\n",
       "                        <th id=\"T_b5ef5_level0_row20\" class=\"row_heading level0 row20\" >482924</th>\n",
       "                        <td id=\"T_b5ef5_row20_col0\" class=\"data row20 col0\" >Ezekiel 26:1</td>\n",
       "                        <td id=\"T_b5ef5_row20_col1\" class=\"data row20 col1\" >וַיְהִ֛י בְּעַשְׁתֵּֽי־עֶשְׂרֵ֥ה שָׁנָ֖ה בְּאֶחָ֣ד לַחֹ֑דֶשׁ </td>\n",
       "                        <td id=\"T_b5ef5_row20_col2\" class=\"data row20 col2\" >היה</td>\n",
       "            </tr>\n",
       "            <tr>\n",
       "                        <th id=\"T_b5ef5_level0_row21\" class=\"row_heading level0 row21\" >487486</th>\n",
       "                        <td id=\"T_b5ef5_row21_col0\" class=\"data row21 col0\" >Jonah 2:1</td>\n",
       "                        <td id=\"T_b5ef5_row21_col1\" class=\"data row21 col1\" >וַיְהִ֤י יֹונָה֙ בִּמְעֵ֣י הַדָּ֔ג שְׁלֹשָׁ֥ה יָמִ֖ים וּשְׁלֹשָׁ֥ה לֵילֹֽות׃ </td>\n",
       "                        <td id=\"T_b5ef5_row21_col2\" class=\"data row21 col2\" >היה</td>\n",
       "            </tr>\n",
       "            <tr>\n",
       "                        <th id=\"T_b5ef5_level0_row22\" class=\"row_heading level0 row22\" >505262</th>\n",
       "                        <td id=\"T_b5ef5_row22_col0\" class=\"data row22 col0\" >Esther 1:1</td>\n",
       "                        <td id=\"T_b5ef5_row22_col1\" class=\"data row22 col1\" >וַיְהִ֖י בִּימֵ֣י אֲחַשְׁוֵרֹ֑ושׁ </td>\n",
       "                        <td id=\"T_b5ef5_row22_col2\" class=\"data row22 col2\" >היה</td>\n",
       "            </tr>\n",
       "            <tr>\n",
       "                        <th id=\"T_b5ef5_level0_row23\" class=\"row_heading level0 row23\" >511528</th>\n",
       "                        <td id=\"T_b5ef5_row23_col0\" class=\"data row23 col0\" >1_Chronicles 20:4</td>\n",
       "                        <td id=\"T_b5ef5_row23_col1\" class=\"data row23 col1\" >וַיְהִי֙ אַחֲרֵיכֵ֔ן </td>\n",
       "                        <td id=\"T_b5ef5_row23_col2\" class=\"data row23 col2\" >היה</td>\n",
       "            </tr>\n",
       "            <tr>\n",
       "                        <th id=\"T_b5ef5_level0_row24\" class=\"row_heading level0 row24\" >514640</th>\n",
       "                        <td id=\"T_b5ef5_row24_col0\" class=\"data row24 col0\" >2_Chronicles 26:21</td>\n",
       "                        <td id=\"T_b5ef5_row24_col1\" class=\"data row24 col1\" >וַיְהִי֩ עֻזִּיָּ֨הוּ הַמֶּ֜לֶךְ מְצֹרָ֣ע׀ עַד־יֹ֣ום מֹותֹ֗ו </td>\n",
       "                        <td id=\"T_b5ef5_row24_col2\" class=\"data row24 col2\" >היה</td>\n",
       "            </tr>\n",
       "    </tbody></table>"
      ],
      "text/plain": [
       "<pandas.io.formats.style.Styler at 0x7f841c3ccf10>"
      ]
     },
     "execution_count": 15,
     "metadata": {},
     "output_type": "execute_result"
    }
   ],
   "source": [
    "ts.show(way_df)"
   ]
  },
  {
   "cell_type": "markdown",
   "metadata": {},
   "source": [
    "There appears to be some difference with the WayX type wayehi clauses:"
   ]
  },
  {
   "cell_type": "code",
   "execution_count": 16,
   "metadata": {},
   "outputs": [
    {
     "name": "stdout",
     "output_type": "stream",
     "text": [
      "showing 17 of 17\n"
     ]
    },
    {
     "data": {
      "text/html": [
       "<style  type=\"text/css\" >\n",
       "#T_4c9ed_row0_col1,#T_4c9ed_row0_col2,#T_4c9ed_row1_col1,#T_4c9ed_row1_col2,#T_4c9ed_row2_col1,#T_4c9ed_row2_col2,#T_4c9ed_row3_col1,#T_4c9ed_row3_col2,#T_4c9ed_row4_col1,#T_4c9ed_row4_col2,#T_4c9ed_row5_col1,#T_4c9ed_row5_col2,#T_4c9ed_row6_col1,#T_4c9ed_row6_col2,#T_4c9ed_row7_col1,#T_4c9ed_row7_col2,#T_4c9ed_row8_col1,#T_4c9ed_row8_col2,#T_4c9ed_row9_col1,#T_4c9ed_row9_col2,#T_4c9ed_row10_col1,#T_4c9ed_row10_col2,#T_4c9ed_row11_col1,#T_4c9ed_row11_col2,#T_4c9ed_row12_col1,#T_4c9ed_row12_col2,#T_4c9ed_row13_col1,#T_4c9ed_row13_col2,#T_4c9ed_row14_col1,#T_4c9ed_row14_col2,#T_4c9ed_row15_col1,#T_4c9ed_row15_col2,#T_4c9ed_row16_col1,#T_4c9ed_row16_col2{\n",
       "            font-size: 20px;\n",
       "             font-family:  Times New Roman;\n",
       "             text-align:  right;\n",
       "             max-width:  500px;\n",
       "        }</style><table id=\"T_4c9ed_\" ><thead>    <tr>        <th class=\"blank level0\" ></th>        <th class=\"col_heading level0 col0\" >verse</th>        <th class=\"col_heading level0 col1\" >clause</th>        <th class=\"col_heading level0 col2\" >verb_utf8</th>    </tr>    <tr>        <th class=\"index_name level0\" >node</th>        <th class=\"blank\" ></th>        <th class=\"blank\" ></th>        <th class=\"blank\" ></th>    </tr></thead><tbody>\n",
       "                <tr>\n",
       "                        <th id=\"T_4c9ed_level0_row0\" class=\"row_heading level0 row0\" >428160</th>\n",
       "                        <td id=\"T_4c9ed_row0_col0\" class=\"data row0 col0\" >Genesis 7:12</td>\n",
       "                        <td id=\"T_4c9ed_row0_col1\" class=\"data row0 col1\" >וַֽיְהִ֥י הַגֶּ֖שֶׁם עַל־הָאָ֑רֶץ אַרְבָּעִ֣ים יֹ֔ום וְאַרְבָּעִ֖ים לָֽיְלָה׃ </td>\n",
       "                        <td id=\"T_4c9ed_row0_col2\" class=\"data row0 col2\" >היה</td>\n",
       "            </tr>\n",
       "            <tr>\n",
       "                        <th id=\"T_4c9ed_level0_row1\" class=\"row_heading level0 row1\" >428170</th>\n",
       "                        <td id=\"T_4c9ed_row1_col0\" class=\"data row1 col0\" >Genesis 7:17</td>\n",
       "                        <td id=\"T_4c9ed_row1_col1\" class=\"data row1 col1\" >וַֽיְהִ֧י הַמַּבּ֛וּל אַרְבָּעִ֥ים יֹ֖ום עַל־הָאָ֑רֶץ </td>\n",
       "                        <td id=\"T_4c9ed_row1_col2\" class=\"data row1 col2\" >היה</td>\n",
       "            </tr>\n",
       "            <tr>\n",
       "                        <th id=\"T_4c9ed_level0_row2\" class=\"row_heading level0 row2\" >434663</th>\n",
       "                        <td id=\"T_4c9ed_row2_col0\" class=\"data row2 col0\" >Exodus 10:22</td>\n",
       "                        <td id=\"T_4c9ed_row2_col1\" class=\"data row2 col1\" >וַיְהִ֧י חֹֽשֶׁךְ־אֲפֵלָ֛ה בְּכָל־אֶ֥רֶץ מִצְרַ֖יִם שְׁלֹ֥שֶׁת יָמִֽים׃ </td>\n",
       "                        <td id=\"T_4c9ed_row2_col2\" class=\"data row2 col2\" >היה</td>\n",
       "            </tr>\n",
       "            <tr>\n",
       "                        <th id=\"T_4c9ed_level0_row3\" class=\"row_heading level0 row3\" >436180</th>\n",
       "                        <td id=\"T_4c9ed_row3_col0\" class=\"data row3 col0\" >Exodus 24:18</td>\n",
       "                        <td id=\"T_4c9ed_row3_col1\" class=\"data row3 col1\" >וַיְהִ֤י מֹשֶׁה֙ בָּהָ֔ר אַרְבָּעִ֣ים יֹ֔ום וְאַרְבָּעִ֖ים לָֽיְלָה׃ פ </td>\n",
       "                        <td id=\"T_4c9ed_row3_col2\" class=\"data row3 col2\" >היה</td>\n",
       "            </tr>\n",
       "            <tr>\n",
       "                        <th id=\"T_4c9ed_level0_row4\" class=\"row_heading level0 row4\" >453822</th>\n",
       "                        <td id=\"T_4c9ed_row4_col0\" class=\"data row4 col0\" >Judges 20:46</td>\n",
       "                        <td id=\"T_4c9ed_row4_col1\" class=\"data row4 col1\" >וַיְהִי֩ כָל־עֶשְׂרִים֩ וַחֲמִשָּׁ֨ה אֶ֥לֶף אִ֛ישׁ בַּיֹּ֣ום הַה֑וּא </td>\n",
       "                        <td id=\"T_4c9ed_row4_col2\" class=\"data row4 col2\" >היה</td>\n",
       "            </tr>\n",
       "            <tr>\n",
       "                        <th id=\"T_4c9ed_level0_row5\" class=\"row_heading level0 row5\" >454519</th>\n",
       "                        <td id=\"T_4c9ed_row5_col0\" class=\"data row5 col0\" >1_Samuel 6:1</td>\n",
       "                        <td id=\"T_4c9ed_row5_col1\" class=\"data row5 col1\" >וַיְהִ֧י אֲרֹון־יְהוָ֛ה בִּשְׂדֵ֥ה פְלִשְׁתִּ֖ים שִׁבְעָ֥ה חֳדָשִֽׁים׃ </td>\n",
       "                        <td id=\"T_4c9ed_row5_col2\" class=\"data row5 col2\" >היה</td>\n",
       "            </tr>\n",
       "            <tr>\n",
       "                        <th id=\"T_4c9ed_level0_row6\" class=\"row_heading level0 row6\" >455001</th>\n",
       "                        <td id=\"T_4c9ed_row6_col0\" class=\"data row6 col0\" >1_Samuel 10:11</td>\n",
       "                        <td id=\"T_4c9ed_row6_col1\" class=\"data row6 col1\" >וַיְהִ֗י כָּל־יֹֽודְעֹו֙ מֵאִתְּמֹ֣ול שִׁלְשֹׁ֔ום </td>\n",
       "                        <td id=\"T_4c9ed_row6_col2\" class=\"data row6 col2\" >היה</td>\n",
       "            </tr>\n",
       "            <tr>\n",
       "                        <th id=\"T_4c9ed_level0_row7\" class=\"row_heading level0 row7\" >456229</th>\n",
       "                        <td id=\"T_4c9ed_row7_col0\" class=\"data row7 col0\" >1_Samuel 18:9</td>\n",
       "                        <td id=\"T_4c9ed_row7_col1\" class=\"data row7 col1\" >וַיְהִ֥י שָׁא֖וּל עֹויֵ֣ן אֶת־דָּוִ֑ד מֵהַיֹּ֥ום הַה֖וּא וָהָֽלְאָה׃ ס </td>\n",
       "                        <td id=\"T_4c9ed_row7_col2\" class=\"data row7 col2\" >היה</td>\n",
       "            </tr>\n",
       "            <tr>\n",
       "                        <th id=\"T_4c9ed_level0_row8\" class=\"row_heading level0 row8\" >456317</th>\n",
       "                        <td id=\"T_4c9ed_row8_col0\" class=\"data row8 col0\" >1_Samuel 18:29</td>\n",
       "                        <td id=\"T_4c9ed_row8_col1\" class=\"data row8 col1\" >וַיְהִ֥י שָׁא֛וּל אֹיֵ֥ב אֶת־דָּוִ֖ד כָּל־הַיָּמִֽים׃ ס </td>\n",
       "                        <td id=\"T_4c9ed_row8_col2\" class=\"data row8 col2\" >היה</td>\n",
       "            </tr>\n",
       "            <tr>\n",
       "                        <th id=\"T_4c9ed_level0_row9\" class=\"row_heading level0 row9\" >460649</th>\n",
       "                        <td id=\"T_4c9ed_row9_col0\" class=\"data row9 col0\" >2_Samuel 21:1</td>\n",
       "                        <td id=\"T_4c9ed_row9_col1\" class=\"data row9 col1\" >וַיְהִ֣י רָעָב֩ בִּימֵ֨י דָוִ֜ד שָׁלֹ֣שׁ שָׁנִ֗ים שָׁנָה֙ אַחֲרֵ֣י שָׁנָ֔ה </td>\n",
       "                        <td id=\"T_4c9ed_row9_col2\" class=\"data row9 col2\" >היה</td>\n",
       "            </tr>\n",
       "            <tr>\n",
       "                        <th id=\"T_4c9ed_level0_row10\" class=\"row_heading level0 row10\" >461798</th>\n",
       "                        <td id=\"T_4c9ed_row10_col0\" class=\"data row10 col0\" >1_Kings 5:2</td>\n",
       "                        <td id=\"T_4c9ed_row10_col1\" class=\"data row10 col1\" >וַיְהִ֥י לֶֽחֶם־שְׁלֹמֹ֖ה לְיֹ֣ום אֶחָ֑ד שְׁלֹשִׁ֥ים כֹּר֙ סֹ֔לֶת וְשִׁשִּׁ֥ים כֹּ֖ר קָֽמַח׃ </td>\n",
       "                        <td id=\"T_4c9ed_row10_col2\" class=\"data row10 col2\" >היה</td>\n",
       "            </tr>\n",
       "            <tr>\n",
       "                        <th id=\"T_4c9ed_level0_row11\" class=\"row_heading level0 row11\" >481051</th>\n",
       "                        <td id=\"T_4c9ed_row11_col0\" class=\"data row11 col0\" >Ezekiel 12:8</td>\n",
       "                        <td id=\"T_4c9ed_row11_col1\" class=\"data row11 col1\" >וַיְהִ֧י דְבַר־יְהוָ֛ה אֵלַ֖י בַּבֹּ֥קֶר </td>\n",
       "                        <td id=\"T_4c9ed_row11_col2\" class=\"data row11 col2\" >היה</td>\n",
       "            </tr>\n",
       "            <tr>\n",
       "                        <th id=\"T_4c9ed_level0_row12\" class=\"row_heading level0 row12\" >482726</th>\n",
       "                        <td id=\"T_4c9ed_row12_col0\" class=\"data row12 col0\" >Ezekiel 24:1</td>\n",
       "                        <td id=\"T_4c9ed_row12_col1\" class=\"data row12 col1\" >וַיְהִי֩ דְבַר־יְהוָ֨ה אֵלַ֜י בַּשָּׁנָ֤ה הַתְּשִׁיעִית֙ בַּחֹ֣דֶשׁ הָעֲשִׂירִ֔י בֶּעָשֹׂ֥ור לַחֹ֖דֶשׁ </td>\n",
       "                        <td id=\"T_4c9ed_row12_col2\" class=\"data row12 col2\" >היה</td>\n",
       "            </tr>\n",
       "            <tr>\n",
       "                        <th id=\"T_4c9ed_level0_row13\" class=\"row_heading level0 row13\" >487486</th>\n",
       "                        <td id=\"T_4c9ed_row13_col0\" class=\"data row13 col0\" >Jonah 2:1</td>\n",
       "                        <td id=\"T_4c9ed_row13_col1\" class=\"data row13 col1\" >וַיְהִ֤י יֹונָה֙ בִּמְעֵ֣י הַדָּ֔ג שְׁלֹשָׁ֥ה יָמִ֖ים וּשְׁלֹשָׁ֥ה לֵילֹֽות׃ </td>\n",
       "                        <td id=\"T_4c9ed_row13_col2\" class=\"data row13 col2\" >היה</td>\n",
       "            </tr>\n",
       "            <tr>\n",
       "                        <th id=\"T_4c9ed_level0_row14\" class=\"row_heading level0 row14\" >488927</th>\n",
       "                        <td id=\"T_4c9ed_row14_col0\" class=\"data row14 col0\" >Haggai 2:20</td>\n",
       "                        <td id=\"T_4c9ed_row14_col1\" class=\"data row14 col1\" >וַיְהִ֨י דְבַר־יְהוָ֤ה׀ שֵׁנִית֙ אֶל־חַגַּ֔י בְּעֶשְׂרִ֧ים וְאַרְבָּעָ֛ה לַחֹ֖דֶשׁ </td>\n",
       "                        <td id=\"T_4c9ed_row14_col2\" class=\"data row14 col2\" >היה</td>\n",
       "            </tr>\n",
       "            <tr>\n",
       "                        <th id=\"T_4c9ed_level0_row15\" class=\"row_heading level0 row15\" >507935</th>\n",
       "                        <td id=\"T_4c9ed_row15_col0\" class=\"data row15 col0\" >Ezra 4:4</td>\n",
       "                        <td id=\"T_4c9ed_row15_col1\" class=\"data row15 col1\" >וַיְהִי֙ עַם־הָאָ֔רֶץ כָּל־יְמֵ֗י כֹּ֚ורֶשׁ מֶ֣לֶךְ פָּרַ֔ס וְעַד־מַלְכ֖וּת דָּרְיָ֥וֶשׁ מֶֽלֶךְ־פָּרָֽס׃ </td>\n",
       "                        <td id=\"T_4c9ed_row15_col2\" class=\"data row15 col2\" >היה</td>\n",
       "            </tr>\n",
       "            <tr>\n",
       "                        <th id=\"T_4c9ed_level0_row16\" class=\"row_heading level0 row16\" >514640</th>\n",
       "                        <td id=\"T_4c9ed_row16_col0\" class=\"data row16 col0\" >2_Chronicles 26:21</td>\n",
       "                        <td id=\"T_4c9ed_row16_col1\" class=\"data row16 col1\" >וַיְהִי֩ עֻזִּיָּ֨הוּ הַמֶּ֜לֶךְ מְצֹרָ֣ע׀ עַד־יֹ֣ום מֹותֹ֗ו </td>\n",
       "                        <td id=\"T_4c9ed_row16_col2\" class=\"data row16 col2\" >היה</td>\n",
       "            </tr>\n",
       "    </tbody></table>"
      ],
      "text/plain": [
       "<pandas.io.formats.style.Styler at 0x7f841c3de520>"
      ]
     },
     "execution_count": 16,
     "metadata": {},
     "output_type": "execute_result"
    }
   ],
   "source": [
    "ts.show(\n",
    "    way_df[way_df.cl_type == 'WayX']\n",
    ")"
   ]
  },
  {
   "cell_type": "markdown",
   "metadata": {},
   "source": [
    "### והיה"
   ]
  },
  {
   "cell_type": "code",
   "execution_count": 97,
   "metadata": {},
   "outputs": [
    {
     "data": {
      "text/plain": [
       "(37, 69)"
      ]
     },
     "execution_count": 97,
     "metadata": {},
     "output_type": "execute_result"
    }
   ],
   "source": [
    "vhyh_df = df[\n",
    "    (df.cl_type2 == 'WQtH')\n",
    "]\n",
    "\n",
    "vhyh_df.shape"
   ]
  },
  {
   "cell_type": "code",
   "execution_count": 98,
   "metadata": {},
   "outputs": [
    {
     "data": {
      "text/plain": [
       "'37'"
      ]
     },
     "execution_count": 98,
     "metadata": {},
     "output_type": "execute_result"
    }
   ],
   "source": [
    "out.number(\n",
    "    vhyh_df.shape[0],\n",
    "    'n_WQtH',\n",
    ")"
   ]
  },
  {
   "cell_type": "code",
   "execution_count": 108,
   "metadata": {},
   "outputs": [
    {
     "data": {
      "text/html": [
       "<div>\n",
       "<style scoped>\n",
       "    .dataframe tbody tr th:only-of-type {\n",
       "        vertical-align: middle;\n",
       "    }\n",
       "\n",
       "    .dataframe tbody tr th {\n",
       "        vertical-align: top;\n",
       "    }\n",
       "\n",
       "    .dataframe thead th {\n",
       "        text-align: right;\n",
       "    }\n",
       "</style>\n",
       "<table border=\"1\" class=\"dataframe\">\n",
       "  <thead>\n",
       "    <tr style=\"text-align: right;\">\n",
       "      <th></th>\n",
       "      <th>count</th>\n",
       "      <th>percent</th>\n",
       "    </tr>\n",
       "  </thead>\n",
       "  <tbody>\n",
       "    <tr>\n",
       "      <th>prophetic</th>\n",
       "      <td>24</td>\n",
       "      <td>65%</td>\n",
       "    </tr>\n",
       "    <tr>\n",
       "      <th>prose</th>\n",
       "      <td>8</td>\n",
       "      <td>22%</td>\n",
       "    </tr>\n",
       "    <tr>\n",
       "      <th>instruction</th>\n",
       "      <td>5</td>\n",
       "      <td>14%</td>\n",
       "    </tr>\n",
       "  </tbody>\n",
       "</table>\n",
       "</div>"
      ],
      "text/plain": [
       "             count percent\n",
       "prophetic       24     65%\n",
       "prose            8     22%\n",
       "instruction      5     14%"
      ]
     },
     "execution_count": 108,
     "metadata": {},
     "output_type": "execute_result"
    }
   ],
   "source": [
    "vehaya_genre_ct = vhyh_df.genre.value_counts()\n",
    "vehaya_genre_pr = vehaya_genre_ct / vehaya_genre_ct.sum()\n",
    "\n",
    "vehaya_genre_both = pd.concat([\n",
    "    vehaya_genre_ct, (vehaya_genre_pr.round(2)*100).astype(int).astype(str)+'%'\n",
    "], 1)\n",
    "vehaya_genre_both.columns = ['count', 'percent']\n",
    "\n",
    "out.table(\n",
    "    vehaya_genre_both,\n",
    "    'WQtH_gen_ct',\n",
    "    caption='WQtH Genre Counts'\n",
    ")"
   ]
  },
  {
   "cell_type": "code",
   "execution_count": 120,
   "metadata": {},
   "outputs": [],
   "source": [
    "wqth_dp = typfun_dp.loc['WQtH'].sort_values(ascending=False).head()\n",
    "wqth_ct = typfun_ct.loc['WQtH'][wqth_dp.index]\n",
    "wqth_both = pd.concat([wqth_ct, wqth_dp.round(2)], 1)\n",
    "wqth_both.columns = ['count', 'ΔP']"
   ]
  },
  {
   "cell_type": "code",
   "execution_count": 122,
   "metadata": {},
   "outputs": [
    {
     "data": {
      "text/html": [
       "<div>\n",
       "<style scoped>\n",
       "    .dataframe tbody tr th:only-of-type {\n",
       "        vertical-align: middle;\n",
       "    }\n",
       "\n",
       "    .dataframe tbody tr th {\n",
       "        vertical-align: top;\n",
       "    }\n",
       "\n",
       "    .dataframe thead th {\n",
       "        text-align: right;\n",
       "    }\n",
       "</style>\n",
       "<table border=\"1\" class=\"dataframe\">\n",
       "  <thead>\n",
       "    <tr style=\"text-align: right;\">\n",
       "      <th></th>\n",
       "      <th>count</th>\n",
       "      <th>ΔP</th>\n",
       "    </tr>\n",
       "    <tr>\n",
       "      <th>function</th>\n",
       "      <th></th>\n",
       "      <th></th>\n",
       "    </tr>\n",
       "  </thead>\n",
       "  <tbody>\n",
       "    <tr>\n",
       "      <th>simultaneous</th>\n",
       "      <td>28</td>\n",
       "      <td>0.21</td>\n",
       "    </tr>\n",
       "    <tr>\n",
       "      <th>posterior</th>\n",
       "      <td>3</td>\n",
       "      <td>0.03</td>\n",
       "    </tr>\n",
       "    <tr>\n",
       "      <th>simul_to_end</th>\n",
       "      <td>1</td>\n",
       "      <td>0.03</td>\n",
       "    </tr>\n",
       "    <tr>\n",
       "      <th>purposive_ext</th>\n",
       "      <td>1</td>\n",
       "      <td>0.02</td>\n",
       "    </tr>\n",
       "    <tr>\n",
       "      <th>anterior_dur?</th>\n",
       "      <td>0</td>\n",
       "      <td>-0.00</td>\n",
       "    </tr>\n",
       "  </tbody>\n",
       "</table>\n",
       "</div>"
      ],
      "text/plain": [
       "               count    ΔP\n",
       "function                  \n",
       "simultaneous      28  0.21\n",
       "posterior          3  0.03\n",
       "simul_to_end       1  0.03\n",
       "purposive_ext      1  0.02\n",
       "anterior_dur?      0 -0.00"
      ]
     },
     "execution_count": 122,
     "metadata": {},
     "output_type": "execute_result"
    }
   ],
   "source": [
    "out.table(\n",
    "    wqth_both,\n",
    "    'wqth_functs',\n",
    "    caption='WQtH Function Counts + ΔP'\n",
    ")"
   ]
  },
  {
   "cell_type": "code",
   "execution_count": 123,
   "metadata": {},
   "outputs": [
    {
     "data": {
      "text/plain": [
       "'21'"
      ]
     },
     "execution_count": 123,
     "metadata": {},
     "output_type": "execute_result"
    }
   ],
   "source": [
    "out.number(\n",
    "    wqth_both['ΔP']['simultaneous']*100,\n",
    "    'wqth_simul_dp',\n",
    ")"
   ]
  },
  {
   "cell_type": "code",
   "execution_count": 109,
   "metadata": {},
   "outputs": [
    {
     "data": {
      "text/plain": [
       "function\n",
       "simultaneous                                 0.756757\n",
       "atelic_ext                                   0.054054\n",
       "anterior_dur                                 0.054054\n",
       "posterior                                    0.081081\n",
       "posterior_dur                                0.000000\n",
       "habitual                                     0.000000\n",
       "begin_to_end                                 0.000000\n",
       "purposive_ext                                0.027027\n",
       "simultaneous + atelic_ext                    0.000000\n",
       "anterior_dur_past?                           0.000000\n",
       "multi_simuls                                 0.000000\n",
       "regular_recurrence                           0.000000\n",
       "anterior                                     0.000000\n",
       "anterior_dur_purposive                       0.000000\n",
       "telic_ext                                    0.000000\n",
       "habitual?                                    0.000000\n",
       "dist_fut                                     0.000000\n",
       "begin_to_end_habitual                        0.000000\n",
       "dist_posterior                               0.000000\n",
       "simul_to_end                                 0.027027\n",
       "dur_to_end                                   0.000000\n",
       "anterior_limitive                            0.000000\n",
       "atelic_ext?                                  0.000000\n",
       "anterior_limitive?                           0.000000\n",
       "atelic_ext + simultaneous                    0.000000\n",
       "multi_antdur                                 0.000000\n",
       "posterior + atelic_ext                       0.000000\n",
       "dist_prospective                             0.000000\n",
       "regular_recurrence?                          0.000000\n",
       "posterior_simul                              0.000000\n",
       "dist_past                                    0.000000\n",
       "purposive_ext?                               0.000000\n",
       "purposive                                    0.000000\n",
       "purposive?                                   0.000000\n",
       "habitual + begin_to_end                      0.000000\n",
       "anterior_dur + duration                      0.000000\n",
       "multi_posterior_dur                          0.000000\n",
       "simultaneous + dist_posterior                0.000000\n",
       "simultaneous + purposive_ext                 0.000000\n",
       "simultaneous + posterior                     0.000000\n",
       "simultaneous + multi_begin_to_end            0.000000\n",
       "simul_posterior                              0.000000\n",
       "simultaneous + anterior_limitive?            0.000000\n",
       "simultaneous + anterior_dist                 0.000000\n",
       "simultaneous + anterior                      0.000000\n",
       "posterior_dur_future                         0.000000\n",
       "reg_recurr + atelic_ext                      0.000000\n",
       "simul_posts                                  0.000000\n",
       "?                                            0.000000\n",
       "habitual, multi_simul                        0.000000\n",
       "posterior_dur?                               0.000000\n",
       "atelic_ext, simultaneous                     0.000000\n",
       "anterior + posterior                         0.000000\n",
       "anterior?                                    0.000000\n",
       "anterior_dist                                0.000000\n",
       "anterior_dur + anterior                      0.000000\n",
       "anterior_dur?                                0.000000\n",
       "anterior_dur_except                          0.000000\n",
       "anterior_ext                                 0.000000\n",
       "atelic_ext + anterior + atelic_ext           0.000000\n",
       "atelic_ext + habitual                        0.000000\n",
       "begin_to_end + multi_antdur                  0.000000\n",
       "posterior_dur + begin_to_end + atelic_ext    0.000000\n",
       "dist_fut?                                    0.000000\n",
       "dist_posterior?                              0.000000\n",
       "distfut_ext                                  0.000000\n",
       "dur_subj?                                    0.000000\n",
       "end_to_begin?                                0.000000\n",
       "multi_atelic_ext                             0.000000\n",
       "perdurative?                                 0.000000\n",
       "posterior, posterior_dur                     0.000000\n",
       "posterior_dist                               0.000000\n",
       "telic_ext?                                   0.000000\n",
       "Name: WQtH, dtype: float64"
      ]
     },
     "execution_count": 109,
     "metadata": {},
     "output_type": "execute_result"
    }
   ],
   "source": [
    "typfun_pr.loc['WQtH']"
   ]
  },
  {
   "cell_type": "code",
   "execution_count": 18,
   "metadata": {},
   "outputs": [
    {
     "name": "stdout",
     "output_type": "stream",
     "text": [
      "showing 25 of 37\n"
     ]
    },
    {
     "data": {
      "text/html": [
       "<style  type=\"text/css\" >\n",
       "#T_b1d6a_row0_col1,#T_b1d6a_row0_col2,#T_b1d6a_row1_col1,#T_b1d6a_row1_col2,#T_b1d6a_row2_col1,#T_b1d6a_row2_col2,#T_b1d6a_row3_col1,#T_b1d6a_row3_col2,#T_b1d6a_row4_col1,#T_b1d6a_row4_col2,#T_b1d6a_row5_col1,#T_b1d6a_row5_col2,#T_b1d6a_row6_col1,#T_b1d6a_row6_col2,#T_b1d6a_row7_col1,#T_b1d6a_row7_col2,#T_b1d6a_row8_col1,#T_b1d6a_row8_col2,#T_b1d6a_row9_col1,#T_b1d6a_row9_col2,#T_b1d6a_row10_col1,#T_b1d6a_row10_col2,#T_b1d6a_row11_col1,#T_b1d6a_row11_col2,#T_b1d6a_row12_col1,#T_b1d6a_row12_col2,#T_b1d6a_row13_col1,#T_b1d6a_row13_col2,#T_b1d6a_row14_col1,#T_b1d6a_row14_col2,#T_b1d6a_row15_col1,#T_b1d6a_row15_col2,#T_b1d6a_row16_col1,#T_b1d6a_row16_col2,#T_b1d6a_row17_col1,#T_b1d6a_row17_col2,#T_b1d6a_row18_col1,#T_b1d6a_row18_col2,#T_b1d6a_row19_col1,#T_b1d6a_row19_col2,#T_b1d6a_row20_col1,#T_b1d6a_row20_col2,#T_b1d6a_row21_col1,#T_b1d6a_row21_col2,#T_b1d6a_row22_col1,#T_b1d6a_row22_col2,#T_b1d6a_row23_col1,#T_b1d6a_row23_col2,#T_b1d6a_row24_col1,#T_b1d6a_row24_col2{\n",
       "            font-size: 20px;\n",
       "             font-family:  Times New Roman;\n",
       "             text-align:  right;\n",
       "             max-width:  500px;\n",
       "        }</style><table id=\"T_b1d6a_\" ><thead>    <tr>        <th class=\"blank level0\" ></th>        <th class=\"col_heading level0 col0\" >verse</th>        <th class=\"col_heading level0 col1\" >clause</th>        <th class=\"col_heading level0 col2\" >verb_utf8</th>    </tr>    <tr>        <th class=\"index_name level0\" >node</th>        <th class=\"blank\" ></th>        <th class=\"blank\" ></th>        <th class=\"blank\" ></th>    </tr></thead><tbody>\n",
       "                <tr>\n",
       "                        <th id=\"T_b1d6a_level0_row0\" class=\"row_heading level0 row0\" >432263</th>\n",
       "                        <td id=\"T_b1d6a_row0_col0\" class=\"data row0 col0\" >Genesis 41:36</td>\n",
       "                        <td id=\"T_b1d6a_row0_col1\" class=\"data row0 col1\" >וְהָיָ֨ה הָאֹ֤כֶל לְפִקָּדֹון֙ לָאָ֔רֶץ לְשֶׁ֨בַע֙ שְׁנֵ֣י הָרָעָ֔ב </td>\n",
       "                        <td id=\"T_b1d6a_row0_col2\" class=\"data row0 col2\" >היה</td>\n",
       "            </tr>\n",
       "            <tr>\n",
       "                        <th id=\"T_b1d6a_level0_row1\" class=\"row_heading level0 row1\" >434753</th>\n",
       "                        <td id=\"T_b1d6a_row1_col0\" class=\"data row1 col0\" >Exodus 12:6</td>\n",
       "                        <td id=\"T_b1d6a_row1_col1\" class=\"data row1 col1\" >וְהָיָ֤ה לָכֶם֙ לְמִשְׁמֶ֔רֶת עַ֣ד אַרְבָּעָ֥ה עָשָׂ֛ר יֹ֖ום לַחֹ֣דֶשׁ הַזֶּ֑ה </td>\n",
       "                        <td id=\"T_b1d6a_row1_col2\" class=\"data row1 col2\" >היה</td>\n",
       "            </tr>\n",
       "            <tr>\n",
       "                        <th id=\"T_b1d6a_level0_row2\" class=\"row_heading level0 row2\" >435255</th>\n",
       "                        <td id=\"T_b1d6a_row2_col0\" class=\"data row2 col0\" >Exodus 16:5</td>\n",
       "                        <td id=\"T_b1d6a_row2_col1\" class=\"data row2 col1\" >וְהָיָה֙ בַּיֹּ֣ום הַשִּׁשִּׁ֔י </td>\n",
       "                        <td id=\"T_b1d6a_row2_col2\" class=\"data row2 col2\" >היה</td>\n",
       "            </tr>\n",
       "            <tr>\n",
       "                        <th id=\"T_b1d6a_level0_row3\" class=\"row_heading level0 row3\" >439238</th>\n",
       "                        <td id=\"T_b1d6a_row3_col0\" class=\"data row3 col0\" >Leviticus 14:9</td>\n",
       "                        <td id=\"T_b1d6a_row3_col1\" class=\"data row3 col1\" >וְהָיָה֩ בַיֹּ֨ום הַשְּׁבִיעִ֜י </td>\n",
       "                        <td id=\"T_b1d6a_row3_col2\" class=\"data row3 col2\" >היה</td>\n",
       "            </tr>\n",
       "            <tr>\n",
       "                        <th id=\"T_b1d6a_level0_row4\" class=\"row_heading level0 row4\" >440249</th>\n",
       "                        <td id=\"T_b1d6a_row4_col0\" class=\"data row4 col0\" >Leviticus 22:27</td>\n",
       "                        <td id=\"T_b1d6a_row4_col1\" class=\"data row4 col1\" >וְהָיָ֛ה שִׁבְעַ֥ת יָמִ֖ים תַּ֣חַת אִמֹּ֑ו </td>\n",
       "                        <td id=\"T_b1d6a_row4_col2\" class=\"data row4 col2\" >היה</td>\n",
       "            </tr>\n",
       "            <tr>\n",
       "                        <th id=\"T_b1d6a_level0_row5\" class=\"row_heading level0 row5\" >447676</th>\n",
       "                        <td id=\"T_b1d6a_row5_col0\" class=\"data row5 col0\" >Deuteronomy 27:2</td>\n",
       "                        <td id=\"T_b1d6a_row5_col1\" class=\"data row5 col1\" >וְהָיָ֗ה בַּיֹּום֮ </td>\n",
       "                        <td id=\"T_b1d6a_row5_col2\" class=\"data row5 col2\" >היה</td>\n",
       "            </tr>\n",
       "            <tr>\n",
       "                        <th id=\"T_b1d6a_level0_row6\" class=\"row_heading level0 row6\" >455366</th>\n",
       "                        <td id=\"T_b1d6a_row6_col0\" class=\"data row6 col0\" >1_Samuel 13:22</td>\n",
       "                        <td id=\"T_b1d6a_row6_col1\" class=\"data row6 col1\" >וְהָיָה֙ בְּיֹ֣ום מִלְחֶ֔מֶת </td>\n",
       "                        <td id=\"T_b1d6a_row6_col2\" class=\"data row6 col2\" >היה</td>\n",
       "            </tr>\n",
       "            <tr>\n",
       "                        <th id=\"T_b1d6a_level0_row7\" class=\"row_heading level0 row7\" >468703</th>\n",
       "                        <td id=\"T_b1d6a_row7_col0\" class=\"data row7 col0\" >Isaiah 7:21</td>\n",
       "                        <td id=\"T_b1d6a_row7_col1\" class=\"data row7 col1\" >וְהָיָ֖ה בַּיֹּ֣ום הַה֑וּא </td>\n",
       "                        <td id=\"T_b1d6a_row7_col2\" class=\"data row7 col2\" >היה</td>\n",
       "            </tr>\n",
       "            <tr>\n",
       "                        <th id=\"T_b1d6a_level0_row8\" class=\"row_heading level0 row8\" >468710</th>\n",
       "                        <td id=\"T_b1d6a_row8_col0\" class=\"data row8 col0\" >Isaiah 7:23</td>\n",
       "                        <td id=\"T_b1d6a_row8_col1\" class=\"data row8 col1\" >וְהָיָה֙ בַּיֹּ֣ום הַה֔וּא </td>\n",
       "                        <td id=\"T_b1d6a_row8_col2\" class=\"data row8 col2\" >היה</td>\n",
       "            </tr>\n",
       "            <tr>\n",
       "                        <th id=\"T_b1d6a_level0_row9\" class=\"row_heading level0 row9\" >469392</th>\n",
       "                        <td id=\"T_b1d6a_row9_col0\" class=\"data row9 col0\" >Isaiah 17:4</td>\n",
       "                        <td id=\"T_b1d6a_row9_col1\" class=\"data row9 col1\" >וְהָיָה֙ בַּיֹּ֣ום הַה֔וּא </td>\n",
       "                        <td id=\"T_b1d6a_row9_col2\" class=\"data row9 col2\" >היה</td>\n",
       "            </tr>\n",
       "            <tr>\n",
       "                        <th id=\"T_b1d6a_level0_row10\" class=\"row_heading level0 row10\" >469726</th>\n",
       "                        <td id=\"T_b1d6a_row10_col0\" class=\"data row10 col0\" >Isaiah 22:20</td>\n",
       "                        <td id=\"T_b1d6a_row10_col1\" class=\"data row10 col1\" >וְהָיָ֖ה בַּיֹּ֣ום הַה֑וּא </td>\n",
       "                        <td id=\"T_b1d6a_row10_col2\" class=\"data row10 col2\" >היה</td>\n",
       "            </tr>\n",
       "            <tr>\n",
       "                        <th id=\"T_b1d6a_level0_row11\" class=\"row_heading level0 row11\" >469819</th>\n",
       "                        <td id=\"T_b1d6a_row11_col0\" class=\"data row11 col0\" >Isaiah 23:17</td>\n",
       "                        <td id=\"T_b1d6a_row11_col1\" class=\"data row11 col1\" >וְהָיָ֞ה מִקֵּ֣ץ׀ שִׁבְעִ֣ים שָׁנָ֗ה </td>\n",
       "                        <td id=\"T_b1d6a_row11_col2\" class=\"data row11 col2\" >היה</td>\n",
       "            </tr>\n",
       "            <tr>\n",
       "                        <th id=\"T_b1d6a_level0_row12\" class=\"row_heading level0 row12\" >469908</th>\n",
       "                        <td id=\"T_b1d6a_row12_col0\" class=\"data row12 col0\" >Isaiah 24:21</td>\n",
       "                        <td id=\"T_b1d6a_row12_col1\" class=\"data row12 col1\" >וְהָיָה֙ בַּיֹּ֣ום הַה֔וּא </td>\n",
       "                        <td id=\"T_b1d6a_row12_col2\" class=\"data row12 col2\" >היה</td>\n",
       "            </tr>\n",
       "            <tr>\n",
       "                        <th id=\"T_b1d6a_level0_row13\" class=\"row_heading level0 row13\" >474248</th>\n",
       "                        <td id=\"T_b1d6a_row13_col0\" class=\"data row13 col0\" >Jeremiah 4:9</td>\n",
       "                        <td id=\"T_b1d6a_row13_col1\" class=\"data row13 col1\" >וְהָיָ֤ה בַיֹּום־הַהוּא֙ </td>\n",
       "                        <td id=\"T_b1d6a_row13_col2\" class=\"data row13 col2\" >היה</td>\n",
       "            </tr>\n",
       "            <tr>\n",
       "                        <th id=\"T_b1d6a_level0_row14\" class=\"row_heading level0 row14\" >477178</th>\n",
       "                        <td id=\"T_b1d6a_row14_col0\" class=\"data row14 col0\" >Jeremiah 30:8</td>\n",
       "                        <td id=\"T_b1d6a_row14_col1\" class=\"data row14 col1\" >וְהָיָה֩ בַיֹּ֨ום הַה֜וּא </td>\n",
       "                        <td id=\"T_b1d6a_row14_col2\" class=\"data row14 col2\" >היה</td>\n",
       "            </tr>\n",
       "            <tr>\n",
       "                        <th id=\"T_b1d6a_level0_row15\" class=\"row_heading level0 row15\" >479337</th>\n",
       "                        <td id=\"T_b1d6a_row15_col0\" class=\"data row15 col0\" >Jeremiah 49:22</td>\n",
       "                        <td id=\"T_b1d6a_row15_col1\" class=\"data row15 col1\" >וְֽ֠הָיָה לֵ֞ב גִּבֹּורֵ֤י אֱדֹום֙ בַּיֹּ֣ום הַה֔וּא כְּלֵ֖ב אִשָּׁ֥ה מְצֵרָֽה׃ ס </td>\n",
       "                        <td id=\"T_b1d6a_row15_col2\" class=\"data row15 col2\" >היה</td>\n",
       "            </tr>\n",
       "            <tr>\n",
       "                        <th id=\"T_b1d6a_level0_row16\" class=\"row_heading level0 row16\" >484474</th>\n",
       "                        <td id=\"T_b1d6a_row16_col0\" class=\"data row16 col0\" >Ezekiel 39:11</td>\n",
       "                        <td id=\"T_b1d6a_row16_col1\" class=\"data row16 col1\" >וְהָיָ֣ה בַיֹּ֣ום הַה֡וּא </td>\n",
       "                        <td id=\"T_b1d6a_row16_col2\" class=\"data row16 col2\" >היה</td>\n",
       "            </tr>\n",
       "            <tr>\n",
       "                        <th id=\"T_b1d6a_level0_row17\" class=\"row_heading level0 row17\" >485554</th>\n",
       "                        <td id=\"T_b1d6a_row17_col0\" class=\"data row17 col0\" >Hosea 1:5</td>\n",
       "                        <td id=\"T_b1d6a_row17_col1\" class=\"data row17 col1\" >וְהָיָ֖ה בַּיֹּ֣ום הַה֑וּא </td>\n",
       "                        <td id=\"T_b1d6a_row17_col2\" class=\"data row17 col2\" >היה</td>\n",
       "            </tr>\n",
       "            <tr>\n",
       "                        <th id=\"T_b1d6a_level0_row18\" class=\"row_heading level0 row18\" >485652</th>\n",
       "                        <td id=\"T_b1d6a_row18_col0\" class=\"data row18 col0\" >Hosea 2:18</td>\n",
       "                        <td id=\"T_b1d6a_row18_col1\" class=\"data row18 col1\" >וְהָיָ֤ה בַיֹּום־הַהוּא֙ </td>\n",
       "                        <td id=\"T_b1d6a_row18_col2\" class=\"data row18 col2\" >היה</td>\n",
       "            </tr>\n",
       "            <tr>\n",
       "                        <th id=\"T_b1d6a_level0_row19\" class=\"row_heading level0 row19\" >486655</th>\n",
       "                        <td id=\"T_b1d6a_row19_col0\" class=\"data row19 col0\" >Joel 4:18</td>\n",
       "                        <td id=\"T_b1d6a_row19_col1\" class=\"data row19 col1\" >וְהָיָה֩ בַיֹּ֨ום הַה֜וּא </td>\n",
       "                        <td id=\"T_b1d6a_row19_col2\" class=\"data row19 col2\" >היה</td>\n",
       "            </tr>\n",
       "            <tr>\n",
       "                        <th id=\"T_b1d6a_level0_row20\" class=\"row_heading level0 row20\" >487920</th>\n",
       "                        <td id=\"T_b1d6a_row20_col0\" class=\"data row20 col0\" >Micah 5:9</td>\n",
       "                        <td id=\"T_b1d6a_row20_col1\" class=\"data row20 col1\" >וְהָיָ֤ה בַיֹּום־הַהוּא֙ </td>\n",
       "                        <td id=\"T_b1d6a_row20_col2\" class=\"data row20 col2\" >היה</td>\n",
       "            </tr>\n",
       "            <tr>\n",
       "                        <th id=\"T_b1d6a_level0_row21\" class=\"row_heading level0 row21\" >488576</th>\n",
       "                        <td id=\"T_b1d6a_row21_col0\" class=\"data row21 col0\" >Zephaniah 1:10</td>\n",
       "                        <td id=\"T_b1d6a_row21_col1\" class=\"data row21 col1\" >וְהָיָה֩ בַיֹּ֨ום הַה֜וּא קֹ֤ול צְעָקָה֙ מִשַּׁ֣עַר הַדָּגִ֔ים </td>\n",
       "                        <td id=\"T_b1d6a_row21_col2\" class=\"data row21 col2\" >היה</td>\n",
       "            </tr>\n",
       "            <tr>\n",
       "                        <th id=\"T_b1d6a_level0_row22\" class=\"row_heading level0 row22\" >488584</th>\n",
       "                        <td id=\"T_b1d6a_row22_col0\" class=\"data row22 col0\" >Zephaniah 1:12</td>\n",
       "                        <td id=\"T_b1d6a_row22_col1\" class=\"data row22 col1\" >וְהָיָה֙ בָּעֵ֣ת הַהִ֔יא </td>\n",
       "                        <td id=\"T_b1d6a_row22_col2\" class=\"data row22 col2\" >היה</td>\n",
       "            </tr>\n",
       "            <tr>\n",
       "                        <th id=\"T_b1d6a_level0_row23\" class=\"row_heading level0 row23\" >489793</th>\n",
       "                        <td id=\"T_b1d6a_row23_col0\" class=\"data row23 col0\" >Zechariah 13:2</td>\n",
       "                        <td id=\"T_b1d6a_row23_col1\" class=\"data row23 col1\" >וְהָיָה֩ בַיֹּ֨ום הַה֜וּא </td>\n",
       "                        <td id=\"T_b1d6a_row23_col2\" class=\"data row23 col2\" >היה</td>\n",
       "            </tr>\n",
       "            <tr>\n",
       "                        <th id=\"T_b1d6a_level0_row24\" class=\"row_heading level0 row24\" >503141</th>\n",
       "                        <td id=\"T_b1d6a_row24_col0\" class=\"data row24 col0\" >Ruth 3:13</td>\n",
       "                        <td id=\"T_b1d6a_row24_col1\" class=\"data row24 col1\" >וְהָיָ֤ה בַבֹּ֨קֶר֙ </td>\n",
       "                        <td id=\"T_b1d6a_row24_col2\" class=\"data row24 col2\" >היה</td>\n",
       "            </tr>\n",
       "    </tbody></table>"
      ],
      "text/plain": [
       "<pandas.io.formats.style.Styler at 0x7f841c3f5910>"
      ]
     },
     "execution_count": 18,
     "metadata": {},
     "output_type": "execute_result"
    }
   ],
   "source": [
    "ts.show(vhyh_df)"
   ]
  },
  {
   "cell_type": "code",
   "execution_count": 19,
   "metadata": {},
   "outputs": [
    {
     "data": {
      "text/plain": [
       "WQt0    30\n",
       "WQtX     7\n",
       "Name: cl_type, dtype: int64"
      ]
     },
     "execution_count": 19,
     "metadata": {},
     "output_type": "execute_result"
    }
   ],
   "source": [
    "vhyh_df.cl_type.value_counts()"
   ]
  },
  {
   "cell_type": "markdown",
   "metadata": {},
   "source": [
    "### NmCl"
   ]
  },
  {
   "cell_type": "code",
   "execution_count": 125,
   "metadata": {},
   "outputs": [
    {
     "data": {
      "text/plain": [
       "(201, 69)"
      ]
     },
     "execution_count": 125,
     "metadata": {},
     "output_type": "execute_result"
    }
   ],
   "source": [
    "nmcl_df = df[\n",
    "    df.cl_type == 'NmCl'\n",
    "]\n",
    "\n",
    "nmcl_df.shape"
   ]
  },
  {
   "cell_type": "code",
   "execution_count": 126,
   "metadata": {},
   "outputs": [
    {
     "name": "stdout",
     "output_type": "stream",
     "text": [
      "showing 25 of 201\n"
     ]
    },
    {
     "data": {
      "text/html": [
       "<style  type=\"text/css\" >\n",
       "#T_a7d6b_row0_col1,#T_a7d6b_row0_col2,#T_a7d6b_row1_col1,#T_a7d6b_row1_col2,#T_a7d6b_row2_col1,#T_a7d6b_row2_col2,#T_a7d6b_row3_col1,#T_a7d6b_row3_col2,#T_a7d6b_row4_col1,#T_a7d6b_row4_col2,#T_a7d6b_row5_col1,#T_a7d6b_row5_col2,#T_a7d6b_row6_col1,#T_a7d6b_row6_col2,#T_a7d6b_row7_col1,#T_a7d6b_row7_col2,#T_a7d6b_row8_col1,#T_a7d6b_row8_col2,#T_a7d6b_row9_col1,#T_a7d6b_row9_col2,#T_a7d6b_row10_col1,#T_a7d6b_row10_col2,#T_a7d6b_row11_col1,#T_a7d6b_row11_col2,#T_a7d6b_row12_col1,#T_a7d6b_row12_col2,#T_a7d6b_row13_col1,#T_a7d6b_row13_col2,#T_a7d6b_row14_col1,#T_a7d6b_row14_col2,#T_a7d6b_row15_col1,#T_a7d6b_row15_col2,#T_a7d6b_row16_col1,#T_a7d6b_row16_col2,#T_a7d6b_row17_col1,#T_a7d6b_row17_col2,#T_a7d6b_row18_col1,#T_a7d6b_row18_col2,#T_a7d6b_row19_col1,#T_a7d6b_row19_col2,#T_a7d6b_row20_col1,#T_a7d6b_row20_col2,#T_a7d6b_row21_col1,#T_a7d6b_row21_col2,#T_a7d6b_row22_col1,#T_a7d6b_row22_col2,#T_a7d6b_row23_col1,#T_a7d6b_row23_col2,#T_a7d6b_row24_col1,#T_a7d6b_row24_col2{\n",
       "            font-size: 20px;\n",
       "             font-family:  Times New Roman;\n",
       "             text-align:  right;\n",
       "             max-width:  500px;\n",
       "        }</style><table id=\"T_a7d6b_\" ><thead>    <tr>        <th class=\"blank level0\" ></th>        <th class=\"col_heading level0 col0\" >verse</th>        <th class=\"col_heading level0 col1\" >clause</th>        <th class=\"col_heading level0 col2\" >verb_utf8</th>    </tr>    <tr>        <th class=\"index_name level0\" >node</th>        <th class=\"blank\" ></th>        <th class=\"blank\" ></th>        <th class=\"blank\" ></th>    </tr></thead><tbody>\n",
       "                <tr>\n",
       "                        <th id=\"T_a7d6b_level0_row0\" class=\"row_heading level0 row0\" >428297</th>\n",
       "                        <td id=\"T_a7d6b_row0_col0\" class=\"data row0 col0\" >Genesis 9:12</td>\n",
       "                        <td id=\"T_a7d6b_row0_col1\" class=\"data row0 col1\" >זֹ֤את אֹֽות־הַבְּרִית֙ לְדֹרֹ֖ת עֹולָֽם׃ </td>\n",
       "                        <td id=\"T_a7d6b_row0_col2\" class=\"data row0 col2\" >nan</td>\n",
       "            </tr>\n",
       "            <tr>\n",
       "                        <th id=\"T_a7d6b_level0_row1\" class=\"row_heading level0 row1\" >432397</th>\n",
       "                        <td id=\"T_a7d6b_row1_col0\" class=\"data row1 col0\" >Genesis 42:13</td>\n",
       "                        <td id=\"T_a7d6b_row1_col1\" class=\"data row1 col1\" >וְהִנֵּ֨ה הַקָּטֹ֤ן אֶת־אָבִ֨ינוּ֙ הַיֹּ֔ום </td>\n",
       "                        <td id=\"T_a7d6b_row1_col2\" class=\"data row1 col2\" >nan</td>\n",
       "            </tr>\n",
       "            <tr>\n",
       "                        <th id=\"T_a7d6b_level0_row2\" class=\"row_heading level0 row2\" >434938</th>\n",
       "                        <td id=\"T_a7d6b_row2_col0\" class=\"data row2 col0\" >Exodus 13:6</td>\n",
       "                        <td id=\"T_a7d6b_row2_col1\" class=\"data row2 col1\" >וּבַיֹּום֙ הַשְּׁבִיעִ֔י חַ֖ג לַיהוָֽה׃ </td>\n",
       "                        <td id=\"T_a7d6b_row2_col2\" class=\"data row2 col2\" >nan</td>\n",
       "            </tr>\n",
       "            <tr>\n",
       "                        <th id=\"T_a7d6b_level0_row3\" class=\"row_heading level0 row3\" >436869</th>\n",
       "                        <td id=\"T_a7d6b_row3_col0\" class=\"data row3 col0\" >Exodus 31:17</td>\n",
       "                        <td id=\"T_a7d6b_row3_col1\" class=\"data row3 col1\" >בֵּינִ֗י וּבֵין֙ בְּנֵ֣י יִשְׂרָאֵ֔ל אֹ֥ות הִ֖וא לְעֹלָ֑ם </td>\n",
       "                        <td id=\"T_a7d6b_row3_col2\" class=\"data row3 col2\" >nan</td>\n",
       "            </tr>\n",
       "            <tr>\n",
       "                        <th id=\"T_a7d6b_level0_row4\" class=\"row_heading level0 row4\" >441653</th>\n",
       "                        <td id=\"T_a7d6b_row4_col0\" class=\"data row4 col0\" >Numbers 7:42</td>\n",
       "                        <td id=\"T_a7d6b_row4_col1\" class=\"data row4 col1\" >בַּיֹּום֙ הַשִּׁשִּׁ֔י נָשִׂ֖יא לִבְנֵ֣י גָ֑ד אֶלְיָסָ֖ף בֶּן־דְּעוּאֵֽל׃ </td>\n",
       "                        <td id=\"T_a7d6b_row4_col2\" class=\"data row4 col2\" >nan</td>\n",
       "            </tr>\n",
       "            <tr>\n",
       "                        <th id=\"T_a7d6b_level0_row5\" class=\"row_heading level0 row5\" >442006</th>\n",
       "                        <td id=\"T_a7d6b_row5_col0\" class=\"data row5 col0\" >Numbers 10:34</td>\n",
       "                        <td id=\"T_a7d6b_row5_col1\" class=\"data row5 col1\" >וַעֲנַ֧ן יְהוָ֛ה עֲלֵיהֶ֖ם יֹומָ֑ם </td>\n",
       "                        <td id=\"T_a7d6b_row5_col2\" class=\"data row5 col2\" >nan</td>\n",
       "            </tr>\n",
       "            <tr>\n",
       "                        <th id=\"T_a7d6b_level0_row6\" class=\"row_heading level0 row6\" >448069</th>\n",
       "                        <td id=\"T_a7d6b_row6_col0\" class=\"data row6 col0\" >Deuteronomy 29:14</td>\n",
       "                        <td id=\"T_a7d6b_row6_col1\" class=\"data row6 col1\" >וְאֵ֨ת אֲשֶׁ֥ר אֵינֶ֛נּוּ פֹּ֖ה עִמָּ֥נוּ הַיֹּֽום׃ </td>\n",
       "                        <td id=\"T_a7d6b_row6_col2\" class=\"data row6 col2\" >nan</td>\n",
       "            </tr>\n",
       "            <tr>\n",
       "                        <th id=\"T_a7d6b_level0_row7\" class=\"row_heading level0 row7\" >450157</th>\n",
       "                        <td id=\"T_a7d6b_row7_col0\" class=\"data row7 col0\" >Joshua 14:11</td>\n",
       "                        <td id=\"T_a7d6b_row7_col1\" class=\"data row7 col1\" >כְּכֹ֥חִי אָ֖ז </td>\n",
       "                        <td id=\"T_a7d6b_row7_col2\" class=\"data row7 col2\" >nan</td>\n",
       "            </tr>\n",
       "            <tr>\n",
       "                        <th id=\"T_a7d6b_level0_row8\" class=\"row_heading level0 row8\" >451789</th>\n",
       "                        <td id=\"T_a7d6b_row8_col0\" class=\"data row8 col0\" >Judges 6:24</td>\n",
       "                        <td id=\"T_a7d6b_row8_col1\" class=\"data row8 col1\" >עַ֚ד הַיֹּ֣ום הַזֶּ֔ה עֹודֶ֕נּוּ בְּעָפְרָ֖ת אֲבִ֥י הָעֶזְרִֽי׃ פ </td>\n",
       "                        <td id=\"T_a7d6b_row8_col2\" class=\"data row8 col2\" >nan</td>\n",
       "            </tr>\n",
       "            <tr>\n",
       "                        <th id=\"T_a7d6b_level0_row9\" class=\"row_heading level0 row9\" >453939</th>\n",
       "                        <td id=\"T_a7d6b_row9_col0\" class=\"data row9 col0\" >Judges 21:25</td>\n",
       "                        <td id=\"T_a7d6b_row9_col1\" class=\"data row9 col1\" >בַּיָּמִ֣ים הָהֵ֔ם אֵ֥ין מֶ֖לֶךְ בְּיִשְׂרָאֵ֑ל </td>\n",
       "                        <td id=\"T_a7d6b_row9_col2\" class=\"data row9 col2\" >nan</td>\n",
       "            </tr>\n",
       "            <tr>\n",
       "                        <th id=\"T_a7d6b_level0_row10\" class=\"row_heading level0 row10\" >457550</th>\n",
       "                        <td id=\"T_a7d6b_row10_col0\" class=\"data row10 col0\" >1_Samuel 27:11</td>\n",
       "                        <td id=\"T_a7d6b_row10_col1\" class=\"data row10 col1\" >וְכֹ֣ה מִשְׁפָּטֹ֔ו כָּל־הַ֨יָּמִ֔ים </td>\n",
       "                        <td id=\"T_a7d6b_row10_col2\" class=\"data row10 col2\" >nan</td>\n",
       "            </tr>\n",
       "            <tr>\n",
       "                        <th id=\"T_a7d6b_level0_row11\" class=\"row_heading level0 row11\" >460413</th>\n",
       "                        <td id=\"T_a7d6b_row11_col0\" class=\"data row11 col0\" >2_Samuel 19:23</td>\n",
       "                        <td id=\"T_a7d6b_row11_col1\" class=\"data row11 col1\" >כִּ֥י הַיֹּ֖ום אֲנִי־מֶ֥לֶךְ עַל־יִשְׂרָאֵֽל׃ </td>\n",
       "                        <td id=\"T_a7d6b_row11_col2\" class=\"data row11 col2\" >nan</td>\n",
       "            </tr>\n",
       "            <tr>\n",
       "                        <th id=\"T_a7d6b_level0_row12\" class=\"row_heading level0 row12\" >463282</th>\n",
       "                        <td id=\"T_a7d6b_row12_col0\" class=\"data row12 col0\" >1_Kings 14:14</td>\n",
       "                        <td id=\"T_a7d6b_row12_col1\" class=\"data row12 col1\" >זֶ֣ה הַיֹּ֑ום </td>\n",
       "                        <td id=\"T_a7d6b_row12_col2\" class=\"data row12 col2\" >nan</td>\n",
       "            </tr>\n",
       "            <tr>\n",
       "                        <th id=\"T_a7d6b_level0_row13\" class=\"row_heading level0 row13\" >470611</th>\n",
       "                        <td id=\"T_a7d6b_row13_col0\" class=\"data row13 col0\" >Isaiah 33:2</td>\n",
       "                        <td id=\"T_a7d6b_row13_col1\" class=\"data row13 col1\" >אַף־יְשׁוּעָתֵ֖נוּ בְּעֵ֥ת צָרָֽה׃ </td>\n",
       "                        <td id=\"T_a7d6b_row13_col2\" class=\"data row13 col2\" >nan</td>\n",
       "            </tr>\n",
       "            <tr>\n",
       "                        <th id=\"T_a7d6b_level0_row14\" class=\"row_heading level0 row14\" >476489</th>\n",
       "                        <td id=\"T_a7d6b_row14_col0\" class=\"data row14 col0\" >Jeremiah 23:26</td>\n",
       "                        <td id=\"T_a7d6b_row14_col1\" class=\"data row14 col1\" >עַד־מָתַ֗י </td>\n",
       "                        <td id=\"T_a7d6b_row14_col2\" class=\"data row14 col2\" >nan</td>\n",
       "            </tr>\n",
       "            <tr>\n",
       "                        <th id=\"T_a7d6b_level0_row15\" class=\"row_heading level0 row15\" >484521</th>\n",
       "                        <td id=\"T_a7d6b_row15_col0\" class=\"data row15 col0\" >Ezekiel 39:22</td>\n",
       "                        <td id=\"T_a7d6b_row15_col1\" class=\"data row15 col1\" >כִּ֛י אֲנִ֥י יְהוָ֖ה אֱלֹֽהֵיהֶ֑ם מִן־הַיֹּ֥ום הַה֖וּא וָהָֽלְאָה׃ </td>\n",
       "                        <td id=\"T_a7d6b_row15_col2\" class=\"data row15 col2\" >nan</td>\n",
       "            </tr>\n",
       "            <tr>\n",
       "                        <th id=\"T_a7d6b_level0_row16\" class=\"row_heading level0 row16\" >488116</th>\n",
       "                        <td id=\"T_a7d6b_row16_col0\" class=\"data row16 col0\" >Nahum 1:7</td>\n",
       "                        <td id=\"T_a7d6b_row16_col1\" class=\"data row16 col1\" >לְמָעֹ֖וז בְּיֹ֣ום צָרָ֑ה </td>\n",
       "                        <td id=\"T_a7d6b_row16_col2\" class=\"data row16 col2\" >nan</td>\n",
       "            </tr>\n",
       "            <tr>\n",
       "                        <th id=\"T_a7d6b_level0_row17\" class=\"row_heading level0 row17\" >492248</th>\n",
       "                        <td id=\"T_a7d6b_row17_col0\" class=\"data row17 col0\" >Psalms 42:9</td>\n",
       "                        <td id=\"T_a7d6b_row17_col1\" class=\"data row17 col1\" >וּ֭בַלַּיְלָה שִׁירֹ֣ו עִמִּ֑י </td>\n",
       "                        <td id=\"T_a7d6b_row17_col2\" class=\"data row17 col2\" >nan</td>\n",
       "            </tr>\n",
       "            <tr>\n",
       "                        <th id=\"T_a7d6b_level0_row18\" class=\"row_heading level0 row18\" >494204</th>\n",
       "                        <td id=\"T_a7d6b_row18_col0\" class=\"data row18 col0\" >Psalms 79:5</td>\n",
       "                        <td id=\"T_a7d6b_row18_col1\" class=\"data row18 col1\" >עַד־מָ֣ה </td>\n",
       "                        <td id=\"T_a7d6b_row18_col2\" class=\"data row18 col2\" >nan</td>\n",
       "            </tr>\n",
       "            <tr>\n",
       "                        <th id=\"T_a7d6b_level0_row19\" class=\"row_heading level0 row19\" >496662</th>\n",
       "                        <td id=\"T_a7d6b_row19_col0\" class=\"data row19 col0\" >Psalms 125:2</td>\n",
       "                        <td id=\"T_a7d6b_row19_col1\" class=\"data row19 col1\" >וַ֭יהוָה סָבִ֣יב לְעַמֹּ֑ו מֵ֝עַתָּ֗ה וְעַד־עֹולָֽם׃ </td>\n",
       "                        <td id=\"T_a7d6b_row19_col2\" class=\"data row19 col2\" >nan</td>\n",
       "            </tr>\n",
       "            <tr>\n",
       "                        <th id=\"T_a7d6b_level0_row20\" class=\"row_heading level0 row20\" >503896</th>\n",
       "                        <td id=\"T_a7d6b_row20_col0\" class=\"data row20 col0\" >Ecclesiastes 2:16</td>\n",
       "                        <td id=\"T_a7d6b_row20_col1\" class=\"data row20 col1\" >כִּי֩ אֵ֨ין זִכְרֹ֧ון לֶחָכָ֛ם עִֽם־הַכְּסִ֖יל לְעֹולָ֑ם </td>\n",
       "                        <td id=\"T_a7d6b_row20_col2\" class=\"data row20 col2\" >nan</td>\n",
       "            </tr>\n",
       "            <tr>\n",
       "                        <th id=\"T_a7d6b_level0_row21\" class=\"row_heading level0 row21\" >508891</th>\n",
       "                        <td id=\"T_a7d6b_row21_col0\" class=\"data row21 col0\" >Nehemiah 4:16</td>\n",
       "                        <td id=\"T_a7d6b_row21_col1\" class=\"data row21 col1\" >וְהַיֹּ֥ום מְלָאכָֽה׃ </td>\n",
       "                        <td id=\"T_a7d6b_row21_col2\" class=\"data row21 col2\" >nan</td>\n",
       "            </tr>\n",
       "            <tr>\n",
       "                        <th id=\"T_a7d6b_level0_row22\" class=\"row_heading level0 row22\" >510607</th>\n",
       "                        <td id=\"T_a7d6b_row22_col0\" class=\"data row22 col0\" >1_Chronicles 9:33</td>\n",
       "                        <td id=\"T_a7d6b_row22_col1\" class=\"data row22 col1\" >כִּֽי־יֹומָ֥ם וָלַ֛יְלָה עֲלֵיהֶ֖ם בַּמְּלָאכָֽה׃ </td>\n",
       "                        <td id=\"T_a7d6b_row22_col2\" class=\"data row22 col2\" >nan</td>\n",
       "            </tr>\n",
       "            <tr>\n",
       "                        <th id=\"T_a7d6b_level0_row23\" class=\"row_heading level0 row23\" >512436</th>\n",
       "                        <td id=\"T_a7d6b_row23_col0\" class=\"data row23 col0\" >2_Chronicles 2:3</td>\n",
       "                        <td id=\"T_a7d6b_row23_col1\" class=\"data row23 col1\" >לְעֹולָ֖ם זֹ֥את עַל־יִשְׂרָאֵֽל׃ </td>\n",
       "                        <td id=\"T_a7d6b_row23_col2\" class=\"data row23 col2\" >nan</td>\n",
       "            </tr>\n",
       "            <tr>\n",
       "                        <th id=\"T_a7d6b_level0_row24\" class=\"row_heading level0 row24\" >515557</th>\n",
       "                        <td id=\"T_a7d6b_row24_col0\" class=\"data row24 col0\" >2_Chronicles 35:21</td>\n",
       "                        <td id=\"T_a7d6b_row24_col1\" class=\"data row24 col1\" >לֹא־עָלֶ֨יךָ אַתָּ֤ה הַיֹּום֙ </td>\n",
       "                        <td id=\"T_a7d6b_row24_col2\" class=\"data row24 col2\" >nan</td>\n",
       "            </tr>\n",
       "    </tbody></table>"
      ],
      "text/plain": [
       "<pandas.io.formats.style.Styler at 0x7fef4ffa9310>"
      ]
     },
     "execution_count": 126,
     "metadata": {},
     "output_type": "execute_result"
    }
   ],
   "source": [
    "ts.show(nmcl_df)"
   ]
  },
  {
   "cell_type": "markdown",
   "metadata": {},
   "source": [
    "### AjCl"
   ]
  },
  {
   "cell_type": "code",
   "execution_count": 22,
   "metadata": {},
   "outputs": [
    {
     "data": {
      "text/plain": [
       "(26, 67)"
      ]
     },
     "execution_count": 22,
     "metadata": {},
     "output_type": "execute_result"
    }
   ],
   "source": [
    "ajcl_df = df[\n",
    "    df.cl_type == 'AjCl'\n",
    "]\n",
    "\n",
    "ajcl_df.shape"
   ]
  },
  {
   "cell_type": "code",
   "execution_count": 23,
   "metadata": {},
   "outputs": [
    {
     "name": "stdout",
     "output_type": "stream",
     "text": [
      "showing 25 of 26\n"
     ]
    },
    {
     "data": {
      "text/html": [
       "<style  type=\"text/css\" >\n",
       "#T_f4ee9_row0_col1,#T_f4ee9_row0_col2,#T_f4ee9_row1_col1,#T_f4ee9_row1_col2,#T_f4ee9_row2_col1,#T_f4ee9_row2_col2,#T_f4ee9_row3_col1,#T_f4ee9_row3_col2,#T_f4ee9_row4_col1,#T_f4ee9_row4_col2,#T_f4ee9_row5_col1,#T_f4ee9_row5_col2,#T_f4ee9_row6_col1,#T_f4ee9_row6_col2,#T_f4ee9_row7_col1,#T_f4ee9_row7_col2,#T_f4ee9_row8_col1,#T_f4ee9_row8_col2,#T_f4ee9_row9_col1,#T_f4ee9_row9_col2,#T_f4ee9_row10_col1,#T_f4ee9_row10_col2,#T_f4ee9_row11_col1,#T_f4ee9_row11_col2,#T_f4ee9_row12_col1,#T_f4ee9_row12_col2,#T_f4ee9_row13_col1,#T_f4ee9_row13_col2,#T_f4ee9_row14_col1,#T_f4ee9_row14_col2,#T_f4ee9_row15_col1,#T_f4ee9_row15_col2,#T_f4ee9_row16_col1,#T_f4ee9_row16_col2,#T_f4ee9_row17_col1,#T_f4ee9_row17_col2,#T_f4ee9_row18_col1,#T_f4ee9_row18_col2,#T_f4ee9_row19_col1,#T_f4ee9_row19_col2,#T_f4ee9_row20_col1,#T_f4ee9_row20_col2,#T_f4ee9_row21_col1,#T_f4ee9_row21_col2,#T_f4ee9_row22_col1,#T_f4ee9_row22_col2,#T_f4ee9_row23_col1,#T_f4ee9_row23_col2,#T_f4ee9_row24_col1,#T_f4ee9_row24_col2{\n",
       "            font-size: 20px;\n",
       "             font-family:  Times New Roman;\n",
       "             text-align:  right;\n",
       "             max-width:  500px;\n",
       "        }</style><table id=\"T_f4ee9_\" ><thead>    <tr>        <th class=\"blank level0\" ></th>        <th class=\"col_heading level0 col0\" >verse</th>        <th class=\"col_heading level0 col1\" >clause</th>        <th class=\"col_heading level0 col2\" >verb_utf8</th>    </tr>    <tr>        <th class=\"index_name level0\" >node</th>        <th class=\"blank\" ></th>        <th class=\"blank\" ></th>        <th class=\"blank\" ></th>    </tr></thead><tbody>\n",
       "                <tr>\n",
       "                        <th id=\"T_f4ee9_level0_row0\" class=\"row_heading level0 row0\" >428078</th>\n",
       "                        <td id=\"T_f4ee9_row0_col0\" class=\"data row0 col0\" >Genesis 6:5</td>\n",
       "                        <td id=\"T_f4ee9_row0_col1\" class=\"data row0 col1\" >וְכָל־יֵ֨צֶר֙ מַחְשְׁבֹ֣ת לִבֹּ֔ו רַ֥ק רַ֖ע כָּל־הַיֹּֽום׃ </td>\n",
       "                        <td id=\"T_f4ee9_row0_col2\" class=\"data row0 col2\" >nan</td>\n",
       "            </tr>\n",
       "            <tr>\n",
       "                        <th id=\"T_f4ee9_level0_row1\" class=\"row_heading level0 row1\" >432084</th>\n",
       "                        <td id=\"T_f4ee9_row1_col0\" class=\"data row1 col0\" >Genesis 40:7</td>\n",
       "                        <td id=\"T_f4ee9_row1_col1\" class=\"data row1 col1\" >מַדּ֛וּעַ פְּנֵיכֶ֥ם רָעִ֖ים הַיֹּֽום׃ </td>\n",
       "                        <td id=\"T_f4ee9_row1_col2\" class=\"data row1 col2\" >nan</td>\n",
       "            </tr>\n",
       "            <tr>\n",
       "                        <th id=\"T_f4ee9_level0_row2\" class=\"row_heading level0 row2\" >434015</th>\n",
       "                        <td id=\"T_f4ee9_row2_col0\" class=\"data row2 col0\" >Exodus 5:5</td>\n",
       "                        <td id=\"T_f4ee9_row2_col1\" class=\"data row2 col1\" >הֵן־רַבִּ֥ים עַתָּ֖ה עַ֣ם הָאָ֑רֶץ </td>\n",
       "                        <td id=\"T_f4ee9_row2_col2\" class=\"data row2 col2\" >nan</td>\n",
       "            </tr>\n",
       "            <tr>\n",
       "                        <th id=\"T_f4ee9_level0_row3\" class=\"row_heading level0 row3\" >441499</th>\n",
       "                        <td id=\"T_f4ee9_row3_col0\" class=\"data row3 col0\" >Numbers 6:8</td>\n",
       "                        <td id=\"T_f4ee9_row3_col1\" class=\"data row3 col1\" >כֹּ֖ל יְמֵ֣י נִזְרֹ֑ו קָדֹ֥שׁ ה֖וּא לַֽיהוָֽה׃ </td>\n",
       "                        <td id=\"T_f4ee9_row3_col2\" class=\"data row3 col2\" >nan</td>\n",
       "            </tr>\n",
       "            <tr>\n",
       "                        <th id=\"T_f4ee9_level0_row4\" class=\"row_heading level0 row4\" >442038</th>\n",
       "                        <td id=\"T_f4ee9_row4_col0\" class=\"data row4 col0\" >Numbers 11:6</td>\n",
       "                        <td id=\"T_f4ee9_row4_col1\" class=\"data row4 col1\" >וְעַתָּ֛ה נַפְשֵׁ֥נוּ יְבֵשָׁ֖ה </td>\n",
       "                        <td id=\"T_f4ee9_row4_col2\" class=\"data row4 col2\" >nan</td>\n",
       "            </tr>\n",
       "            <tr>\n",
       "                        <th id=\"T_f4ee9_level0_row5\" class=\"row_heading level0 row5\" >445323</th>\n",
       "                        <td id=\"T_f4ee9_row5_col0\" class=\"data row5 col0\" >Deuteronomy 4:4</td>\n",
       "                        <td id=\"T_f4ee9_row5_col1\" class=\"data row5 col1\" >חַיִּ֥ים כֻּלְּכֶ֖ם הַיֹּֽום׃ </td>\n",
       "                        <td id=\"T_f4ee9_row5_col2\" class=\"data row5 col2\" >nan</td>\n",
       "            </tr>\n",
       "            <tr>\n",
       "                        <th id=\"T_f4ee9_level0_row6\" class=\"row_heading level0 row6\" >445516</th>\n",
       "                        <td id=\"T_f4ee9_row6_col0\" class=\"data row6 col0\" >Deuteronomy 5:3</td>\n",
       "                        <td id=\"T_f4ee9_row6_col1\" class=\"data row6 col1\" >אֵ֥לֶּה פֹ֛ה הַיֹּ֖ום כֻּלָּ֥נוּ חַיִּֽים׃ </td>\n",
       "                        <td id=\"T_f4ee9_row6_col2\" class=\"data row6 col2\" >nan</td>\n",
       "            </tr>\n",
       "            <tr>\n",
       "                        <th id=\"T_f4ee9_level0_row7\" class=\"row_heading level0 row7\" >447015</th>\n",
       "                        <td id=\"T_f4ee9_row7_col0\" class=\"data row7 col0\" >Deuteronomy 20:3</td>\n",
       "                        <td id=\"T_f4ee9_row7_col1\" class=\"data row7 col1\" >אַתֶּ֨ם קְרֵבִ֥ים הַיֹּ֛ום לַמִּלְחָמָ֖ה עַל־אֹיְבֵיכֶ֑ם </td>\n",
       "                        <td id=\"T_f4ee9_row7_col2\" class=\"data row7 col2\" >nan</td>\n",
       "            </tr>\n",
       "            <tr>\n",
       "                        <th id=\"T_f4ee9_level0_row8\" class=\"row_heading level0 row8\" >447889</th>\n",
       "                        <td id=\"T_f4ee9_row8_col0\" class=\"data row8 col0\" >Deuteronomy 28:32</td>\n",
       "                        <td id=\"T_f4ee9_row8_col1\" class=\"data row8 col1\" >וְכָלֹ֥ות אֲלֵיהֶ֖ם כָּל־הַיֹּ֑ום </td>\n",
       "                        <td id=\"T_f4ee9_row8_col2\" class=\"data row8 col2\" >nan</td>\n",
       "            </tr>\n",
       "            <tr>\n",
       "                        <th id=\"T_f4ee9_level0_row9\" class=\"row_heading level0 row9\" >448364</th>\n",
       "                        <td id=\"T_f4ee9_row9_col0\" class=\"data row9 col0\" >Deuteronomy 31:27</td>\n",
       "                        <td id=\"T_f4ee9_row9_col1\" class=\"data row9 col1\" >בְּעֹודֶנִּי֩ חַ֨י עִמָּכֶ֜ם הַיֹּ֗ום </td>\n",
       "                        <td id=\"T_f4ee9_row9_col2\" class=\"data row9 col2\" >nan</td>\n",
       "            </tr>\n",
       "            <tr>\n",
       "                        <th id=\"T_f4ee9_level0_row10\" class=\"row_heading level0 row10\" >448536</th>\n",
       "                        <td id=\"T_f4ee9_row10_col0\" class=\"data row10 col0\" >Deuteronomy 32:40</td>\n",
       "                        <td id=\"T_f4ee9_row10_col1\" class=\"data row10 col1\" >חַ֥י אָנֹכִ֖י לְעֹלָֽם׃ </td>\n",
       "                        <td id=\"T_f4ee9_row10_col2\" class=\"data row10 col2\" >nan</td>\n",
       "            </tr>\n",
       "            <tr>\n",
       "                        <th id=\"T_f4ee9_level0_row11\" class=\"row_heading level0 row11\" >450154</th>\n",
       "                        <td id=\"T_f4ee9_row11_col0\" class=\"data row11 col0\" >Joshua 14:11</td>\n",
       "                        <td id=\"T_f4ee9_row11_col1\" class=\"data row11 col1\" >עֹודֶ֨נִּי הַיֹּ֜ום חָזָ֗ק </td>\n",
       "                        <td id=\"T_f4ee9_row11_col2\" class=\"data row11 col2\" >nan</td>\n",
       "            </tr>\n",
       "            <tr>\n",
       "                        <th id=\"T_f4ee9_level0_row12\" class=\"row_heading level0 row12\" >455959</th>\n",
       "                        <td id=\"T_f4ee9_row12_col0\" class=\"data row12 col0\" >1_Samuel 17:12</td>\n",
       "                        <td id=\"T_f4ee9_row12_col1\" class=\"data row12 col1\" >וְהָאִישׁ֙ בִּימֵ֣י שָׁא֔וּל זָקֵ֖ן </td>\n",
       "                        <td id=\"T_f4ee9_row12_col2\" class=\"data row12 col2\" >nan</td>\n",
       "            </tr>\n",
       "            <tr>\n",
       "                        <th id=\"T_f4ee9_level0_row13\" class=\"row_heading level0 row13\" >458337</th>\n",
       "                        <td id=\"T_f4ee9_row13_col0\" class=\"data row13 col0\" >2_Samuel 3:28</td>\n",
       "                        <td id=\"T_f4ee9_row13_col1\" class=\"data row13 col1\" >נָקִ֨י אָנֹכִ֧י וּמַמְלַכְתִּ֛י מֵעִ֥ם יְהוָ֖ה עַד־עֹולָ֑ם מִדְּמֵ֖י אַבְנֵ֥ר בֶּן־נֵֽר׃ </td>\n",
       "                        <td id=\"T_f4ee9_row13_col2\" class=\"data row13 col2\" >nan</td>\n",
       "            </tr>\n",
       "            <tr>\n",
       "                        <th id=\"T_f4ee9_level0_row14\" class=\"row_heading level0 row14\" >458381</th>\n",
       "                        <td id=\"T_f4ee9_row14_col0\" class=\"data row14 col0\" >2_Samuel 3:39</td>\n",
       "                        <td id=\"T_f4ee9_row14_col1\" class=\"data row14 col1\" >וְאָנֹכִ֨י הַיֹּ֥ום רַךְ֙ </td>\n",
       "                        <td id=\"T_f4ee9_row14_col2\" class=\"data row14 col2\" >nan</td>\n",
       "            </tr>\n",
       "            <tr>\n",
       "                        <th id=\"T_f4ee9_level0_row15\" class=\"row_heading level0 row15\" >459272</th>\n",
       "                        <td id=\"T_f4ee9_row15_col0\" class=\"data row15 col0\" >2_Samuel 13:4</td>\n",
       "                        <td id=\"T_f4ee9_row15_col1\" class=\"data row15 col1\" >מַדּ֣וּעַ אַ֠תָּה כָּ֣כָה דַּ֤ל בַּבֹּ֣קֶר בַּבֹּ֔קֶר </td>\n",
       "                        <td id=\"T_f4ee9_row15_col2\" class=\"data row15 col2\" >nan</td>\n",
       "            </tr>\n",
       "            <tr>\n",
       "                        <th id=\"T_f4ee9_level0_row16\" class=\"row_heading level0 row16\" >460323</th>\n",
       "                        <td id=\"T_f4ee9_row16_col0\" class=\"data row16 col0\" >2_Samuel 19:7</td>\n",
       "                        <td id=\"T_f4ee9_row16_col1\" class=\"data row16 col1\" >כִּי־אָ֖ז יָשָׁ֥ר בְּעֵינֶֽיךָ׃ </td>\n",
       "                        <td id=\"T_f4ee9_row16_col2\" class=\"data row16 col2\" >nan</td>\n",
       "            </tr>\n",
       "            <tr>\n",
       "                        <th id=\"T_f4ee9_level0_row17\" class=\"row_heading level0 row17\" >461864</th>\n",
       "                        <td id=\"T_f4ee9_row17_col0\" class=\"data row17 col0\" >1_Kings 5:21</td>\n",
       "                        <td id=\"T_f4ee9_row17_col1\" class=\"data row17 col1\" >בָּר֤וּךְ יְהוָה֙ הַיֹּ֔ום </td>\n",
       "                        <td id=\"T_f4ee9_row17_col2\" class=\"data row17 col2\" >nan</td>\n",
       "            </tr>\n",
       "            <tr>\n",
       "                        <th id=\"T_f4ee9_level0_row18\" class=\"row_heading level0 row18\" >485908</th>\n",
       "                        <td id=\"T_f4ee9_row18_col0\" class=\"data row18 col0\" >Hosea 7:6</td>\n",
       "                        <td id=\"T_f4ee9_row18_col1\" class=\"data row18 col1\" >כָּל־הַלַּ֨יְלָה֙ יָשֵׁ֣ן אֹֽפֵהֶ֔ם </td>\n",
       "                        <td id=\"T_f4ee9_row18_col2\" class=\"data row18 col2\" >nan</td>\n",
       "            </tr>\n",
       "            <tr>\n",
       "                        <th id=\"T_f4ee9_level0_row19\" class=\"row_heading level0 row19\" >498056</th>\n",
       "                        <td id=\"T_f4ee9_row19_col0\" class=\"data row19 col0\" >Job 8:16</td>\n",
       "                        <td id=\"T_f4ee9_row19_col1\" class=\"data row19 col1\" >רָטֹ֣ב ה֖וּא לִפְנֵי־שָׁ֑מֶשׁ </td>\n",
       "                        <td id=\"T_f4ee9_row19_col2\" class=\"data row19 col2\" >nan</td>\n",
       "            </tr>\n",
       "            <tr>\n",
       "                        <th id=\"T_f4ee9_level0_row20\" class=\"row_heading level0 row20\" >499431</th>\n",
       "                        <td id=\"T_f4ee9_row20_col0\" class=\"data row20 col0\" >Job 30:1</td>\n",
       "                        <td id=\"T_f4ee9_row20_col1\" class=\"data row20 col1\" >צְעִירִ֥ים מִמֶּ֗נִּי לְיָ֫מִ֥ים </td>\n",
       "                        <td id=\"T_f4ee9_row20_col2\" class=\"data row20 col2\" >nan</td>\n",
       "            </tr>\n",
       "            <tr>\n",
       "                        <th id=\"T_f4ee9_level0_row21\" class=\"row_heading level0 row21\" >504287</th>\n",
       "                        <td id=\"T_f4ee9_row21_col0\" class=\"data row21 col0\" >Ecclesiastes 6:12</td>\n",
       "                        <td id=\"T_f4ee9_row21_col1\" class=\"data row21 col1\" >מַה־טֹּ֨וב לָֽאָדָ֜ם בַּֽחַיִּ֗ים מִסְפַּ֛ר יְמֵי־חַיֵּ֥י הֶבְלֹ֖ו </td>\n",
       "                        <td id=\"T_f4ee9_row21_col2\" class=\"data row21 col2\" >nan</td>\n",
       "            </tr>\n",
       "            <tr>\n",
       "                        <th id=\"T_f4ee9_level0_row22\" class=\"row_heading level0 row22\" >505028</th>\n",
       "                        <td id=\"T_f4ee9_row22_col0\" class=\"data row22 col0\" >Lamentations 3:23</td>\n",
       "                        <td id=\"T_f4ee9_row22_col1\" class=\"data row22 col1\" >חֲדָשִׁים֙ לַבְּקָרִ֔ים </td>\n",
       "                        <td id=\"T_f4ee9_row22_col2\" class=\"data row22 col2\" >nan</td>\n",
       "            </tr>\n",
       "            <tr>\n",
       "                        <th id=\"T_f4ee9_level0_row23\" class=\"row_heading level0 row23\" >511365</th>\n",
       "                        <td id=\"T_f4ee9_row23_col0\" class=\"data row23 col0\" >1_Chronicles 17:27</td>\n",
       "                        <td id=\"T_f4ee9_row23_col1\" class=\"data row23 col1\" >וּמְבֹרָ֖ךְ לְעֹולָֽם׃ פ </td>\n",
       "                        <td id=\"T_f4ee9_row23_col2\" class=\"data row23 col2\" >nan</td>\n",
       "            </tr>\n",
       "            <tr>\n",
       "                        <th id=\"T_f4ee9_level0_row24\" class=\"row_heading level0 row24\" >511612</th>\n",
       "                        <td id=\"T_f4ee9_row24_col0\" class=\"data row24 col0\" >1_Chronicles 21:15</td>\n",
       "                        <td id=\"T_f4ee9_row24_col1\" class=\"data row24 col1\" >רַ֔ב עַתָּ֖ה </td>\n",
       "                        <td id=\"T_f4ee9_row24_col2\" class=\"data row24 col2\" >nan</td>\n",
       "            </tr>\n",
       "    </tbody></table>"
      ],
      "text/plain": [
       "<pandas.io.formats.style.Styler at 0x7f841c3de130>"
      ]
     },
     "execution_count": 23,
     "metadata": {},
     "output_type": "execute_result"
    }
   ],
   "source": [
    "ts.show(ajcl_df)"
   ]
  },
  {
   "cell_type": "markdown",
   "metadata": {},
   "source": [
    "# Association Tests\n",
    "\n",
    "We test for associations by time tag and clause type. The tag allows us to compare clauses with and without time to look for statistical associations."
   ]
  },
  {
   "cell_type": "markdown",
   "metadata": {},
   "source": [
    "## By verbform"
   ]
  },
  {
   "cell_type": "code",
   "execution_count": 27,
   "metadata": {},
   "outputs": [
    {
     "data": {
      "text/html": [
       "<div>\n",
       "<style scoped>\n",
       "    .dataframe tbody tr th:only-of-type {\n",
       "        vertical-align: middle;\n",
       "    }\n",
       "\n",
       "    .dataframe tbody tr th {\n",
       "        vertical-align: top;\n",
       "    }\n",
       "\n",
       "    .dataframe thead th {\n",
       "        text-align: right;\n",
       "    }\n",
       "</style>\n",
       "<table border=\"1\" class=\"dataframe\">\n",
       "  <thead>\n",
       "    <tr style=\"text-align: right;\">\n",
       "      <th>verbform2</th>\n",
       "      <th>wayq</th>\n",
       "      <th>yqtl</th>\n",
       "      <th>Ø</th>\n",
       "      <th>qtl</th>\n",
       "      <th>wqtl</th>\n",
       "      <th>impv</th>\n",
       "      <th>ptcp</th>\n",
       "    </tr>\n",
       "  </thead>\n",
       "  <tbody>\n",
       "    <tr>\n",
       "      <th>Øtime</th>\n",
       "      <td>14029</td>\n",
       "      <td>11779</td>\n",
       "      <td>9299</td>\n",
       "      <td>8373</td>\n",
       "      <td>5911</td>\n",
       "      <td>4204</td>\n",
       "      <td>2466</td>\n",
       "    </tr>\n",
       "    <tr>\n",
       "      <th>time</th>\n",
       "      <td>702</td>\n",
       "      <td>783</td>\n",
       "      <td>187</td>\n",
       "      <td>575</td>\n",
       "      <td>262</td>\n",
       "      <td>83</td>\n",
       "      <td>110</td>\n",
       "    </tr>\n",
       "  </tbody>\n",
       "</table>\n",
       "</div>"
      ],
      "text/plain": [
       "verbform2   wayq   yqtl     Ø   qtl  wqtl  impv  ptcp\n",
       "Øtime      14029  11779  9299  8373  5911  4204  2466\n",
       "time         702    783   187   575   262    83   110"
      ]
     },
     "execution_count": 27,
     "metadata": {},
     "output_type": "execute_result"
    }
   ],
   "source": [
    "verb_ct = pivot_ct(\n",
    "    main_df,\n",
    "    'has_time',\n",
    "    'verbform',\n",
    ")\n",
    "\n",
    "verb_ct.index = ['Øtime', 'time']\n",
    "\n",
    "verb_pr = verb_ct.div(verb_ct.sum(1), 0)\n",
    "\n",
    "verb_ct"
   ]
  },
  {
   "cell_type": "code",
   "execution_count": 28,
   "metadata": {},
   "outputs": [
    {
     "data": {
      "text/html": [
       "<div>\n",
       "<style scoped>\n",
       "    .dataframe tbody tr th:only-of-type {\n",
       "        vertical-align: middle;\n",
       "    }\n",
       "\n",
       "    .dataframe tbody tr th {\n",
       "        vertical-align: top;\n",
       "    }\n",
       "\n",
       "    .dataframe thead th {\n",
       "        text-align: right;\n",
       "    }\n",
       "</style>\n",
       "<table border=\"1\" class=\"dataframe\">\n",
       "  <thead>\n",
       "    <tr style=\"text-align: right;\">\n",
       "      <th>verbform2</th>\n",
       "      <th>wayq</th>\n",
       "      <th>yqtl</th>\n",
       "      <th>Ø</th>\n",
       "      <th>qtl</th>\n",
       "      <th>wqtl</th>\n",
       "      <th>impv</th>\n",
       "      <th>ptcp</th>\n",
       "    </tr>\n",
       "  </thead>\n",
       "  <tbody>\n",
       "    <tr>\n",
       "      <th>Øtime</th>\n",
       "      <td>0.25</td>\n",
       "      <td>0.21</td>\n",
       "      <td>0.17</td>\n",
       "      <td>0.15</td>\n",
       "      <td>0.11</td>\n",
       "      <td>0.07</td>\n",
       "      <td>0.04</td>\n",
       "    </tr>\n",
       "    <tr>\n",
       "      <th>time</th>\n",
       "      <td>0.26</td>\n",
       "      <td>0.29</td>\n",
       "      <td>0.07</td>\n",
       "      <td>0.21</td>\n",
       "      <td>0.10</td>\n",
       "      <td>0.03</td>\n",
       "      <td>0.04</td>\n",
       "    </tr>\n",
       "  </tbody>\n",
       "</table>\n",
       "</div>"
      ],
      "text/plain": [
       "verbform2  wayq  yqtl     Ø   qtl  wqtl  impv  ptcp\n",
       "Øtime      0.25  0.21  0.17  0.15  0.11  0.07  0.04\n",
       "time       0.26  0.29  0.07  0.21  0.10  0.03  0.04"
      ]
     },
     "execution_count": 28,
     "metadata": {},
     "output_type": "execute_result"
    }
   ],
   "source": [
    "verb_pr.round(2)"
   ]
  },
  {
   "cell_type": "code",
   "execution_count": 29,
   "metadata": {},
   "outputs": [
    {
     "data": {
      "text/html": [
       "<div>\n",
       "<style scoped>\n",
       "    .dataframe tbody tr th:only-of-type {\n",
       "        vertical-align: middle;\n",
       "    }\n",
       "\n",
       "    .dataframe tbody tr th {\n",
       "        vertical-align: top;\n",
       "    }\n",
       "\n",
       "    .dataframe thead th {\n",
       "        text-align: right;\n",
       "    }\n",
       "</style>\n",
       "<table border=\"1\" class=\"dataframe\">\n",
       "  <thead>\n",
       "    <tr style=\"text-align: right;\">\n",
       "      <th></th>\n",
       "      <th>wayq</th>\n",
       "      <th>yqtl</th>\n",
       "      <th>Ø</th>\n",
       "      <th>qtl</th>\n",
       "      <th>wqtl</th>\n",
       "      <th>impv</th>\n",
       "      <th>ptcp</th>\n",
       "    </tr>\n",
       "  </thead>\n",
       "  <tbody>\n",
       "    <tr>\n",
       "      <th>Øtime</th>\n",
       "      <td>-0.575871</td>\n",
       "      <td>-20.771297</td>\n",
       "      <td>47.956048</td>\n",
       "      <td>-17.03113</td>\n",
       "      <td>0.776735</td>\n",
       "      <td>21.053212</td>\n",
       "      <td>0.354993</td>\n",
       "    </tr>\n",
       "    <tr>\n",
       "      <th>time</th>\n",
       "      <td>0.575871</td>\n",
       "      <td>20.771297</td>\n",
       "      <td>-47.956048</td>\n",
       "      <td>17.03113</td>\n",
       "      <td>-0.776735</td>\n",
       "      <td>-21.053212</td>\n",
       "      <td>-0.354993</td>\n",
       "    </tr>\n",
       "  </tbody>\n",
       "</table>\n",
       "</div>"
      ],
      "text/plain": [
       "           wayq       yqtl          Ø       qtl      wqtl       impv      ptcp\n",
       "Øtime -0.575871 -20.771297  47.956048 -17.03113  0.776735  21.053212  0.354993\n",
       "time   0.575871  20.771297 -47.956048  17.03113 -0.776735 -21.053212 -0.354993"
      ]
     },
     "execution_count": 29,
     "metadata": {},
     "output_type": "execute_result"
    }
   ],
   "source": [
    "verb_fs, verb_odds = sig.apply_fishers(verb_ct, 0, 1)\n",
    "\n",
    "verb_fs"
   ]
  },
  {
   "cell_type": "code",
   "execution_count": 30,
   "metadata": {},
   "outputs": [
    {
     "data": {
      "text/html": [
       "<div>\n",
       "<style scoped>\n",
       "    .dataframe tbody tr th:only-of-type {\n",
       "        vertical-align: middle;\n",
       "    }\n",
       "\n",
       "    .dataframe tbody tr th {\n",
       "        vertical-align: top;\n",
       "    }\n",
       "\n",
       "    .dataframe thead th {\n",
       "        text-align: right;\n",
       "    }\n",
       "</style>\n",
       "<table border=\"1\" class=\"dataframe\">\n",
       "  <thead>\n",
       "    <tr style=\"text-align: right;\">\n",
       "      <th></th>\n",
       "      <th>Øtime</th>\n",
       "      <th>time</th>\n",
       "    </tr>\n",
       "    <tr>\n",
       "      <th>verbform2</th>\n",
       "      <th></th>\n",
       "      <th></th>\n",
       "    </tr>\n",
       "  </thead>\n",
       "  <tbody>\n",
       "    <tr>\n",
       "      <th>wayq</th>\n",
       "      <td>-0.002233</td>\n",
       "      <td>0.002233</td>\n",
       "    </tr>\n",
       "    <tr>\n",
       "      <th>yqtl</th>\n",
       "      <td>-0.020795</td>\n",
       "      <td>0.020795</td>\n",
       "    </tr>\n",
       "    <tr>\n",
       "      <th>Ø</th>\n",
       "      <td>0.031325</td>\n",
       "      <td>-0.031325</td>\n",
       "    </tr>\n",
       "    <tr>\n",
       "      <th>qtl</th>\n",
       "      <td>-0.021562</td>\n",
       "      <td>0.021562</td>\n",
       "    </tr>\n",
       "    <tr>\n",
       "      <th>wqtl</th>\n",
       "      <td>0.003954</td>\n",
       "      <td>-0.003954</td>\n",
       "    </tr>\n",
       "    <tr>\n",
       "      <th>impv</th>\n",
       "      <td>0.028715</td>\n",
       "      <td>-0.028715</td>\n",
       "    </tr>\n",
       "    <tr>\n",
       "      <th>ptcp</th>\n",
       "      <td>0.003430</td>\n",
       "      <td>-0.003430</td>\n",
       "    </tr>\n",
       "  </tbody>\n",
       "</table>\n",
       "</div>"
      ],
      "text/plain": [
       "              Øtime      time\n",
       "verbform2                    \n",
       "wayq      -0.002233  0.002233\n",
       "yqtl      -0.020795  0.020795\n",
       "Ø          0.031325 -0.031325\n",
       "qtl       -0.021562  0.021562\n",
       "wqtl       0.003954 -0.003954\n",
       "impv       0.028715 -0.028715\n",
       "ptcp       0.003430 -0.003430"
      ]
     },
     "execution_count": 30,
     "metadata": {},
     "output_type": "execute_result"
    }
   ],
   "source": [
    "verb_dp = sig.apply_deltaP(verb_ct.T, 0, 1)\n",
    "\n",
    "verb_dp"
   ]
  },
  {
   "cell_type": "code",
   "execution_count": 63,
   "metadata": {},
   "outputs": [
    {
     "data": {
      "image/png": "[encoded data removed]",
      "text/plain": [
       "<Figure size 288x288 with 2 Axes>"
      ]
     },
     "metadata": {
      "needs_background": "light"
     },
     "output_type": "display_data"
    }
   ],
   "source": [
    "fig, ax = plt.subplots(figsize=(4, 4))\n",
    "heatmap(verb_dp, ax=ax, annot=True, square=False)\n",
    "ax.set_yticklabels(ax.get_yticklabels(), rotation=0)\n",
    "ax.set_ylabel('verb form')\n",
    "plt.show()"
   ]
  },
  {
   "cell_type": "markdown",
   "metadata": {},
   "source": [
    "# By Rela"
   ]
  },
  {
   "cell_type": "code",
   "execution_count": 74,
   "metadata": {},
   "outputs": [
    {
     "data": {
      "text/html": [
       "<div>\n",
       "<style scoped>\n",
       "    .dataframe tbody tr th:only-of-type {\n",
       "        vertical-align: middle;\n",
       "    }\n",
       "\n",
       "    .dataframe tbody tr th {\n",
       "        vertical-align: top;\n",
       "    }\n",
       "\n",
       "    .dataframe thead th {\n",
       "        text-align: right;\n",
       "    }\n",
       "</style>\n",
       "<table border=\"1\" class=\"dataframe\">\n",
       "  <thead>\n",
       "    <tr style=\"text-align: right;\">\n",
       "      <th>cl_rela</th>\n",
       "      <th>Main</th>\n",
       "      <th>SubAdv</th>\n",
       "      <th>SubMod</th>\n",
       "      <th>SubArg</th>\n",
       "    </tr>\n",
       "  </thead>\n",
       "  <tbody>\n",
       "    <tr>\n",
       "      <th>Øtime</th>\n",
       "      <td>62204</td>\n",
       "      <td>13353</td>\n",
       "      <td>6685</td>\n",
       "      <td>2231</td>\n",
       "    </tr>\n",
       "    <tr>\n",
       "      <th>time</th>\n",
       "      <td>3055</td>\n",
       "      <td>369</td>\n",
       "      <td>168</td>\n",
       "      <td>56</td>\n",
       "    </tr>\n",
       "  </tbody>\n",
       "</table>\n",
       "</div>"
      ],
      "text/plain": [
       "cl_rela   Main  SubAdv  SubMod  SubArg\n",
       "Øtime    62204   13353    6685    2231\n",
       "time      3055     369     168      56"
      ]
     },
     "execution_count": 74,
     "metadata": {},
     "output_type": "execute_result"
    }
   ],
   "source": [
    "rela_ct = pivot_ct(\n",
    "    cl_df,\n",
    "    'has_time',\n",
    "    'cl_rela',\n",
    ")\n",
    "\n",
    "rela_ct.index = ['Øtime', 'time']\n",
    "\n",
    "rela_pr = rela_ct.div(rela_ct.sum(1), 0).round(2)\n",
    "\n",
    "rela_ct"
   ]
  },
  {
   "cell_type": "code",
   "execution_count": 75,
   "metadata": {},
   "outputs": [
    {
     "data": {
      "text/html": [
       "<div>\n",
       "<style scoped>\n",
       "    .dataframe tbody tr th:only-of-type {\n",
       "        vertical-align: middle;\n",
       "    }\n",
       "\n",
       "    .dataframe tbody tr th {\n",
       "        vertical-align: top;\n",
       "    }\n",
       "\n",
       "    .dataframe thead th {\n",
       "        text-align: right;\n",
       "    }\n",
       "</style>\n",
       "<table border=\"1\" class=\"dataframe\">\n",
       "  <thead>\n",
       "    <tr style=\"text-align: right;\">\n",
       "      <th>cl_rela</th>\n",
       "      <th>Main</th>\n",
       "      <th>SubAdv</th>\n",
       "      <th>SubMod</th>\n",
       "      <th>SubArg</th>\n",
       "    </tr>\n",
       "  </thead>\n",
       "  <tbody>\n",
       "    <tr>\n",
       "      <th>Øtime</th>\n",
       "      <td>0.74</td>\n",
       "      <td>0.16</td>\n",
       "      <td>0.08</td>\n",
       "      <td>0.03</td>\n",
       "    </tr>\n",
       "    <tr>\n",
       "      <th>time</th>\n",
       "      <td>0.84</td>\n",
       "      <td>0.10</td>\n",
       "      <td>0.05</td>\n",
       "      <td>0.02</td>\n",
       "    </tr>\n",
       "  </tbody>\n",
       "</table>\n",
       "</div>"
      ],
      "text/plain": [
       "cl_rela  Main  SubAdv  SubMod  SubArg\n",
       "Øtime    0.74    0.16    0.08    0.03\n",
       "time     0.84    0.10    0.05    0.02"
      ]
     },
     "execution_count": 75,
     "metadata": {},
     "output_type": "execute_result"
    }
   ],
   "source": [
    "rela_pr"
   ]
  },
  {
   "cell_type": "code",
   "execution_count": 76,
   "metadata": {},
   "outputs": [
    {
     "data": {
      "text/html": [
       "<div>\n",
       "<style scoped>\n",
       "    .dataframe tbody tr th:only-of-type {\n",
       "        vertical-align: middle;\n",
       "    }\n",
       "\n",
       "    .dataframe tbody tr th {\n",
       "        vertical-align: top;\n",
       "    }\n",
       "\n",
       "    .dataframe thead th {\n",
       "        text-align: right;\n",
       "    }\n",
       "</style>\n",
       "<table border=\"1\" class=\"dataframe\">\n",
       "  <thead>\n",
       "    <tr style=\"text-align: right;\">\n",
       "      <th>cl_rela</th>\n",
       "      <th>Main</th>\n",
       "      <th>SubAdv</th>\n",
       "      <th>SubMod</th>\n",
       "      <th>SubArg</th>\n",
       "    </tr>\n",
       "  </thead>\n",
       "  <tbody>\n",
       "    <tr>\n",
       "      <th>Øtime</th>\n",
       "      <td>-0.101068</td>\n",
       "      <td>0.056923</td>\n",
       "      <td>0.033085</td>\n",
       "      <td>0.01106</td>\n",
       "    </tr>\n",
       "    <tr>\n",
       "      <th>time</th>\n",
       "      <td>0.101068</td>\n",
       "      <td>-0.056923</td>\n",
       "      <td>-0.033085</td>\n",
       "      <td>-0.01106</td>\n",
       "    </tr>\n",
       "  </tbody>\n",
       "</table>\n",
       "</div>"
      ],
      "text/plain": [
       "cl_rela      Main    SubAdv    SubMod   SubArg\n",
       "Øtime   -0.101068  0.056923  0.033085  0.01106\n",
       "time     0.101068 -0.056923 -0.033085 -0.01106"
      ]
     },
     "execution_count": 76,
     "metadata": {},
     "output_type": "execute_result"
    }
   ],
   "source": [
    "rela_dp = sig.apply_deltaP(rela_ct, 0, 1)\n",
    "\n",
    "rela_dp"
   ]
  },
  {
   "cell_type": "code",
   "execution_count": 79,
   "metadata": {},
   "outputs": [
    {
     "data": {
      "image/png": "[encoded data removed]",
      "text/plain": [
       "<Figure size 576x144 with 2 Axes>"
      ]
     },
     "metadata": {
      "needs_background": "light"
     },
     "output_type": "display_data"
    }
   ],
   "source": [
    "fig, ax = plt.subplots(figsize=(8, 2))\n",
    "heatmap(rela_dp, ax=ax, annot=True, square=False)\n",
    "ax.set_yticklabels(ax.get_yticklabels(), rotation=0)\n",
    "ax.set_xlabel('clause relation')\n",
    "plt.show()"
   ]
  },
  {
   "cell_type": "markdown",
   "metadata": {},
   "source": [
    "# By Type (main only)"
   ]
  },
  {
   "cell_type": "code",
   "execution_count": 43,
   "metadata": {},
   "outputs": [
    {
     "data": {
      "text/html": [
       "<div>\n",
       "<style scoped>\n",
       "    .dataframe tbody tr th:only-of-type {\n",
       "        vertical-align: middle;\n",
       "    }\n",
       "\n",
       "    .dataframe tbody tr th {\n",
       "        vertical-align: top;\n",
       "    }\n",
       "\n",
       "    .dataframe thead th {\n",
       "        text-align: right;\n",
       "    }\n",
       "</style>\n",
       "<table border=\"1\" class=\"dataframe\">\n",
       "  <thead>\n",
       "    <tr style=\"text-align: right;\">\n",
       "      <th>cl_type2</th>\n",
       "      <th>Way0</th>\n",
       "      <th>NmCl</th>\n",
       "      <th>WayX</th>\n",
       "      <th>WQt0</th>\n",
       "      <th>xYq0</th>\n",
       "      <th>ZIm0</th>\n",
       "      <th>Ptcp</th>\n",
       "      <th>WxY0</th>\n",
       "      <th>xQt0</th>\n",
       "      <th>WXQt</th>\n",
       "      <th>...</th>\n",
       "      <th>WxYX</th>\n",
       "      <th>xIm0</th>\n",
       "      <th>WYqX</th>\n",
       "      <th>WxI0</th>\n",
       "      <th>WXIm</th>\n",
       "      <th>ZImX</th>\n",
       "      <th>XPos</th>\n",
       "      <th>XImp</th>\n",
       "      <th>WImX</th>\n",
       "      <th>xImX</th>\n",
       "    </tr>\n",
       "    <tr>\n",
       "      <th>has_time</th>\n",
       "      <th></th>\n",
       "      <th></th>\n",
       "      <th></th>\n",
       "      <th></th>\n",
       "      <th></th>\n",
       "      <th></th>\n",
       "      <th></th>\n",
       "      <th></th>\n",
       "      <th></th>\n",
       "      <th></th>\n",
       "      <th></th>\n",
       "      <th></th>\n",
       "      <th></th>\n",
       "      <th></th>\n",
       "      <th></th>\n",
       "      <th></th>\n",
       "      <th></th>\n",
       "      <th></th>\n",
       "      <th></th>\n",
       "      <th></th>\n",
       "      <th></th>\n",
       "    </tr>\n",
       "  </thead>\n",
       "  <tbody>\n",
       "    <tr>\n",
       "      <th>0</th>\n",
       "      <td>8451</td>\n",
       "      <td>8435</td>\n",
       "      <td>5578</td>\n",
       "      <td>4682</td>\n",
       "      <td>3161</td>\n",
       "      <td>2909</td>\n",
       "      <td>2438</td>\n",
       "      <td>2048</td>\n",
       "      <td>1581</td>\n",
       "      <td>1282</td>\n",
       "      <td>...</td>\n",
       "      <td>301</td>\n",
       "      <td>243</td>\n",
       "      <td>232</td>\n",
       "      <td>78</td>\n",
       "      <td>48</td>\n",
       "      <td>34</td>\n",
       "      <td>24</td>\n",
       "      <td>11</td>\n",
       "      <td>3</td>\n",
       "      <td>1</td>\n",
       "    </tr>\n",
       "    <tr>\n",
       "      <th>1</th>\n",
       "      <td>412</td>\n",
       "      <td>167</td>\n",
       "      <td>290</td>\n",
       "      <td>200</td>\n",
       "      <td>298</td>\n",
       "      <td>51</td>\n",
       "      <td>109</td>\n",
       "      <td>141</td>\n",
       "      <td>123</td>\n",
       "      <td>48</td>\n",
       "      <td>...</td>\n",
       "      <td>34</td>\n",
       "      <td>11</td>\n",
       "      <td>6</td>\n",
       "      <td>5</td>\n",
       "      <td>2</td>\n",
       "      <td>2</td>\n",
       "      <td>1</td>\n",
       "      <td>1</td>\n",
       "      <td>0</td>\n",
       "      <td>0</td>\n",
       "    </tr>\n",
       "  </tbody>\n",
       "</table>\n",
       "<p>2 rows × 35 columns</p>\n",
       "</div>"
      ],
      "text/plain": [
       "cl_type2  Way0  NmCl  WayX  WQt0  xYq0  ZIm0  Ptcp  WxY0  xQt0  WXQt  ...  \\\n",
       "has_time                                                              ...   \n",
       "0         8451  8435  5578  4682  3161  2909  2438  2048  1581  1282  ...   \n",
       "1          412   167   290   200   298    51   109   141   123    48  ...   \n",
       "\n",
       "cl_type2  WxYX  xIm0  WYqX  WxI0  WXIm  ZImX  XPos  XImp  WImX  xImX  \n",
       "has_time                                                              \n",
       "0          301   243   232    78    48    34    24    11     3     1  \n",
       "1           34    11     6     5     2     2     1     1     0     0  \n",
       "\n",
       "[2 rows x 35 columns]"
      ]
     },
     "execution_count": 43,
     "metadata": {},
     "output_type": "execute_result"
    }
   ],
   "source": [
    "htime_ct = pivot_ct(\n",
    "    main_df,\n",
    "    'has_time',\n",
    "    'cl_type2',\n",
    ")\n",
    "\n",
    "htime_ct"
   ]
  },
  {
   "cell_type": "code",
   "execution_count": 80,
   "metadata": {},
   "outputs": [
    {
     "data": {
      "text/html": [
       "<div>\n",
       "<style scoped>\n",
       "    .dataframe tbody tr th:only-of-type {\n",
       "        vertical-align: middle;\n",
       "    }\n",
       "\n",
       "    .dataframe tbody tr th {\n",
       "        vertical-align: top;\n",
       "    }\n",
       "\n",
       "    .dataframe thead th {\n",
       "        text-align: right;\n",
       "    }\n",
       "</style>\n",
       "<table border=\"1\" class=\"dataframe\">\n",
       "  <thead>\n",
       "    <tr style=\"text-align: right;\">\n",
       "      <th>cl_type2</th>\n",
       "      <th>Way0</th>\n",
       "      <th>NmCl</th>\n",
       "      <th>WayX</th>\n",
       "      <th>WQt0</th>\n",
       "      <th>xYq0</th>\n",
       "      <th>ZIm0</th>\n",
       "      <th>Ptcp</th>\n",
       "      <th>WxY0</th>\n",
       "      <th>xQt0</th>\n",
       "      <th>WXQt</th>\n",
       "      <th>...</th>\n",
       "      <th>WxYX</th>\n",
       "      <th>xIm0</th>\n",
       "      <th>WYqX</th>\n",
       "      <th>WxI0</th>\n",
       "      <th>WXIm</th>\n",
       "      <th>ZImX</th>\n",
       "      <th>XPos</th>\n",
       "      <th>XImp</th>\n",
       "      <th>WImX</th>\n",
       "      <th>xImX</th>\n",
       "    </tr>\n",
       "    <tr>\n",
       "      <th>has_time</th>\n",
       "      <th></th>\n",
       "      <th></th>\n",
       "      <th></th>\n",
       "      <th></th>\n",
       "      <th></th>\n",
       "      <th></th>\n",
       "      <th></th>\n",
       "      <th></th>\n",
       "      <th></th>\n",
       "      <th></th>\n",
       "      <th></th>\n",
       "      <th></th>\n",
       "      <th></th>\n",
       "      <th></th>\n",
       "      <th></th>\n",
       "      <th></th>\n",
       "      <th></th>\n",
       "      <th></th>\n",
       "      <th></th>\n",
       "      <th></th>\n",
       "      <th></th>\n",
       "    </tr>\n",
       "  </thead>\n",
       "  <tbody>\n",
       "    <tr>\n",
       "      <th>0</th>\n",
       "      <td>-0.001733</td>\n",
       "      <td>0.088655</td>\n",
       "      <td>-0.007829</td>\n",
       "      <td>0.009497</td>\n",
       "      <td>-0.053904</td>\n",
       "      <td>0.033015</td>\n",
       "      <td>0.003148</td>\n",
       "      <td>-0.015652</td>\n",
       "      <td>-0.01732</td>\n",
       "      <td>0.005103</td>\n",
       "      <td>...</td>\n",
       "      <td>-0.007214</td>\n",
       "      <td>0.000264</td>\n",
       "      <td>0.001918</td>\n",
       "      <td>-0.000459</td>\n",
       "      <td>0.000116</td>\n",
       "      <td>-0.000134</td>\n",
       "      <td>0.000058</td>\n",
       "      <td>-0.000174</td>\n",
       "      <td>0.000054</td>\n",
       "      <td>0.000018</td>\n",
       "    </tr>\n",
       "    <tr>\n",
       "      <th>1</th>\n",
       "      <td>0.001733</td>\n",
       "      <td>-0.088655</td>\n",
       "      <td>0.007829</td>\n",
       "      <td>-0.009497</td>\n",
       "      <td>0.053904</td>\n",
       "      <td>-0.033015</td>\n",
       "      <td>-0.003148</td>\n",
       "      <td>0.015652</td>\n",
       "      <td>0.01732</td>\n",
       "      <td>-0.005103</td>\n",
       "      <td>...</td>\n",
       "      <td>0.007214</td>\n",
       "      <td>-0.000264</td>\n",
       "      <td>-0.001918</td>\n",
       "      <td>0.000459</td>\n",
       "      <td>-0.000116</td>\n",
       "      <td>0.000134</td>\n",
       "      <td>-0.000058</td>\n",
       "      <td>0.000174</td>\n",
       "      <td>-0.000054</td>\n",
       "      <td>-0.000018</td>\n",
       "    </tr>\n",
       "  </tbody>\n",
       "</table>\n",
       "<p>2 rows × 35 columns</p>\n",
       "</div>"
      ],
      "text/plain": [
       "cl_type2      Way0      NmCl      WayX      WQt0      xYq0      ZIm0  \\\n",
       "has_time                                                               \n",
       "0        -0.001733  0.088655 -0.007829  0.009497 -0.053904  0.033015   \n",
       "1         0.001733 -0.088655  0.007829 -0.009497  0.053904 -0.033015   \n",
       "\n",
       "cl_type2      Ptcp      WxY0     xQt0      WXQt  ...      WxYX      xIm0  \\\n",
       "has_time                                         ...                       \n",
       "0         0.003148 -0.015652 -0.01732  0.005103  ... -0.007214  0.000264   \n",
       "1        -0.003148  0.015652  0.01732 -0.005103  ...  0.007214 -0.000264   \n",
       "\n",
       "cl_type2      WYqX      WxI0      WXIm      ZImX      XPos      XImp  \\\n",
       "has_time                                                               \n",
       "0         0.001918 -0.000459  0.000116 -0.000134  0.000058 -0.000174   \n",
       "1        -0.001918  0.000459 -0.000116  0.000134 -0.000058  0.000174   \n",
       "\n",
       "cl_type2      WImX      xImX  \n",
       "has_time                      \n",
       "0         0.000054  0.000018  \n",
       "1        -0.000054 -0.000018  \n",
       "\n",
       "[2 rows x 35 columns]"
      ]
     },
     "execution_count": 80,
     "metadata": {},
     "output_type": "execute_result"
    }
   ],
   "source": [
    "# run a fishers test\n",
    "htime_dp = sig.apply_deltaP(htime_ct, 0, 1)\n",
    "htime_dp"
   ]
  },
  {
   "cell_type": "code",
   "execution_count": 82,
   "metadata": {},
   "outputs": [
    {
     "data": {
      "text/plain": [
       "cl_type2\n",
       "xYq0    0.053904\n",
       "xQtX    0.035117\n",
       "xYqX    0.034364\n",
       "WxQX    0.019445\n",
       "WxQ0    0.018070\n",
       "xQt0    0.017320\n",
       "WxY0    0.015652\n",
       "WayX    0.007829\n",
       "WxYX    0.007214\n",
       "Way0    0.001733\n",
       "WQtX    0.001023\n",
       "WxI0    0.000459\n",
       "XImp    0.000174\n",
       "ZImX    0.000134\n",
       "xImX   -0.000018\n",
       "WImX   -0.000054\n",
       "XPos   -0.000058\n",
       "WXIm   -0.000116\n",
       "xIm0   -0.000264\n",
       "WYqX   -0.001918\n",
       "Ptcp   -0.003148\n",
       "XYqt   -0.003650\n",
       "WXYq   -0.004274\n",
       "ZYqX   -0.004505\n",
       "WXQt   -0.005103\n",
       "Name: 1, dtype: float64"
      ]
     },
     "execution_count": 82,
     "metadata": {},
     "output_type": "execute_result"
    }
   ],
   "source": [
    "# top assocs with time\n",
    "htime_dp.loc[1].sort_values(ascending=False).head(25)"
   ]
  },
  {
   "cell_type": "code",
   "execution_count": 83,
   "metadata": {},
   "outputs": [
    {
     "data": {
      "text/plain": [
       "cl_type2\n",
       "NmCl   -0.088655\n",
       "ZIm0   -0.033015\n",
       "WIm0   -0.011573\n",
       "WYq0   -0.011346\n",
       "WQt0   -0.009497\n",
       "AjCl   -0.007952\n",
       "ZQtX   -0.007818\n",
       "XQtl   -0.007274\n",
       "ZQt0   -0.006329\n",
       "ZYq0   -0.005874\n",
       "WXQt   -0.005103\n",
       "ZYqX   -0.004505\n",
       "WXYq   -0.004274\n",
       "XYqt   -0.003650\n",
       "Ptcp   -0.003148\n",
       "WYqX   -0.001918\n",
       "xIm0   -0.000264\n",
       "WXIm   -0.000116\n",
       "XPos   -0.000058\n",
       "WImX   -0.000054\n",
       "xImX   -0.000018\n",
       "ZImX    0.000134\n",
       "XImp    0.000174\n",
       "WxI0    0.000459\n",
       "WQtX    0.001023\n",
       "Name: 1, dtype: float64"
      ]
     },
     "execution_count": 83,
     "metadata": {},
     "output_type": "execute_result"
    }
   ],
   "source": [
    "# top negative assocs with time\n",
    "htime_dp.loc[1].sort_values().head(25)"
   ]
  },
  {
   "cell_type": "markdown",
   "metadata": {},
   "source": [
    "# With Subject"
   ]
  },
  {
   "cell_type": "markdown",
   "metadata": {},
   "source": [
    "I've noticed a lot of `X` in the attractions above. Let's see if there is a prediction for \n",
    "subject with time."
   ]
  },
  {
   "cell_type": "code",
   "execution_count": 38,
   "metadata": {},
   "outputs": [
    {
     "data": {
      "text/plain": [
       "0    53840\n",
       "1    34281\n",
       "Name: has_subj, dtype: int64"
      ]
     },
     "execution_count": 38,
     "metadata": {},
     "output_type": "execute_result"
    }
   ],
   "source": [
    "cl_df.has_subj.value_counts()"
   ]
  },
  {
   "cell_type": "code",
   "execution_count": 47,
   "metadata": {},
   "outputs": [
    {
     "data": {
      "text/html": [
       "<div>\n",
       "<style scoped>\n",
       "    .dataframe tbody tr th:only-of-type {\n",
       "        vertical-align: middle;\n",
       "    }\n",
       "\n",
       "    .dataframe tbody tr th {\n",
       "        vertical-align: top;\n",
       "    }\n",
       "\n",
       "    .dataframe thead th {\n",
       "        text-align: right;\n",
       "    }\n",
       "</style>\n",
       "<table border=\"1\" class=\"dataframe\">\n",
       "  <thead>\n",
       "    <tr style=\"text-align: right;\">\n",
       "      <th>has_subj</th>\n",
       "      <th>0</th>\n",
       "      <th>1</th>\n",
       "    </tr>\n",
       "    <tr>\n",
       "      <th>has_time</th>\n",
       "      <th></th>\n",
       "      <th></th>\n",
       "    </tr>\n",
       "  </thead>\n",
       "  <tbody>\n",
       "    <tr>\n",
       "      <th>0</th>\n",
       "      <td>51427</td>\n",
       "      <td>33046</td>\n",
       "    </tr>\n",
       "    <tr>\n",
       "      <th>1</th>\n",
       "      <td>2413</td>\n",
       "      <td>1235</td>\n",
       "    </tr>\n",
       "  </tbody>\n",
       "</table>\n",
       "</div>"
      ],
      "text/plain": [
       "has_subj      0      1\n",
       "has_time              \n",
       "0         51427  33046\n",
       "1          2413   1235"
      ]
     },
     "execution_count": 47,
     "metadata": {},
     "output_type": "execute_result"
    }
   ],
   "source": [
    "subj_ct = pivot_ct(\n",
    "    cl_df,\n",
    "    'has_time',\n",
    "    'has_subj',\n",
    ")\n",
    "\n",
    "subj_pr = subj_ct.div(subj_ct.sum(1), 0)\n",
    "\n",
    "subj_ct"
   ]
  },
  {
   "cell_type": "code",
   "execution_count": 48,
   "metadata": {},
   "outputs": [
    {
     "data": {
      "text/html": [
       "<div>\n",
       "<style scoped>\n",
       "    .dataframe tbody tr th:only-of-type {\n",
       "        vertical-align: middle;\n",
       "    }\n",
       "\n",
       "    .dataframe tbody tr th {\n",
       "        vertical-align: top;\n",
       "    }\n",
       "\n",
       "    .dataframe thead th {\n",
       "        text-align: right;\n",
       "    }\n",
       "</style>\n",
       "<table border=\"1\" class=\"dataframe\">\n",
       "  <thead>\n",
       "    <tr style=\"text-align: right;\">\n",
       "      <th>has_subj</th>\n",
       "      <th>0</th>\n",
       "      <th>1</th>\n",
       "    </tr>\n",
       "    <tr>\n",
       "      <th>has_time</th>\n",
       "      <th></th>\n",
       "      <th></th>\n",
       "    </tr>\n",
       "  </thead>\n",
       "  <tbody>\n",
       "    <tr>\n",
       "      <th>0</th>\n",
       "      <td>0.608798</td>\n",
       "      <td>0.391202</td>\n",
       "    </tr>\n",
       "    <tr>\n",
       "      <th>1</th>\n",
       "      <td>0.661458</td>\n",
       "      <td>0.338542</td>\n",
       "    </tr>\n",
       "  </tbody>\n",
       "</table>\n",
       "</div>"
      ],
      "text/plain": [
       "has_subj         0         1\n",
       "has_time                    \n",
       "0         0.608798  0.391202\n",
       "1         0.661458  0.338542"
      ]
     },
     "execution_count": 48,
     "metadata": {},
     "output_type": "execute_result"
    }
   ],
   "source": [
    "subj_pr"
   ]
  },
  {
   "cell_type": "code",
   "execution_count": 49,
   "metadata": {},
   "outputs": [
    {
     "data": {
      "text/html": [
       "<div>\n",
       "<style scoped>\n",
       "    .dataframe tbody tr th:only-of-type {\n",
       "        vertical-align: middle;\n",
       "    }\n",
       "\n",
       "    .dataframe tbody tr th {\n",
       "        vertical-align: top;\n",
       "    }\n",
       "\n",
       "    .dataframe thead th {\n",
       "        text-align: right;\n",
       "    }\n",
       "</style>\n",
       "<table border=\"1\" class=\"dataframe\">\n",
       "  <thead>\n",
       "    <tr style=\"text-align: right;\">\n",
       "      <th>has_subj</th>\n",
       "      <th>0</th>\n",
       "      <th>1</th>\n",
       "    </tr>\n",
       "    <tr>\n",
       "      <th>has_time</th>\n",
       "      <th></th>\n",
       "      <th></th>\n",
       "    </tr>\n",
       "  </thead>\n",
       "  <tbody>\n",
       "    <tr>\n",
       "      <th>0</th>\n",
       "      <td>-0.05266</td>\n",
       "      <td>0.05266</td>\n",
       "    </tr>\n",
       "    <tr>\n",
       "      <th>1</th>\n",
       "      <td>0.05266</td>\n",
       "      <td>-0.05266</td>\n",
       "    </tr>\n",
       "  </tbody>\n",
       "</table>\n",
       "</div>"
      ],
      "text/plain": [
       "has_subj        0        1\n",
       "has_time                  \n",
       "0        -0.05266  0.05266\n",
       "1         0.05266 -0.05266"
      ]
     },
     "execution_count": 49,
     "metadata": {},
     "output_type": "execute_result"
    }
   ],
   "source": [
    "subj_dp = sig.apply_deltaP(subj_ct, 0, 1)\n",
    "\n",
    "subj_dp"
   ]
  },
  {
   "cell_type": "markdown",
   "metadata": {},
   "source": [
    "# By Function"
   ]
  },
  {
   "cell_type": "code",
   "execution_count": 36,
   "metadata": {},
   "outputs": [
    {
     "data": {
      "text/plain": [
       "simultaneous                                 1360\n",
       "atelic_ext                                    443\n",
       "anterior_dur                                  354\n",
       "posterior                                     202\n",
       "begin_to_end                                   42\n",
       "posterior_dur                                  42\n",
       "habitual                                       39\n",
       "purposive_ext                                  27\n",
       "simultaneous + atelic_ext                      21\n",
       "anterior_dur_past?                             17\n",
       "regular_recurrence                             15\n",
       "anterior_dur_purposive                         15\n",
       "multi_simuls                                   15\n",
       "anterior                                       13\n",
       "telic_ext                                      10\n",
       "dist_fut                                        5\n",
       "begin_to_end_habitual                           5\n",
       "dur_to_end                                      5\n",
       "simul_to_end                                    4\n",
       "dist_posterior                                  4\n",
       "posterior + atelic_ext                          4\n",
       "habitual?                                       4\n",
       "anterior_limitive                               4\n",
       "atelic_ext?                                     4\n",
       "posterior_simul                                 3\n",
       "dist_prospective                                3\n",
       "atelic_ext + simultaneous                       3\n",
       "anterior_limitive?                              2\n",
       "regular_recurrence?                             2\n",
       "anterior_dur + duration                         2\n",
       "purposive                                       2\n",
       "multi_antdur                                    2\n",
       "dist_fut?                                       1\n",
       "atelic_ext + habitual                           1\n",
       "habitual + begin_to_end                         1\n",
       "anterior_ext                                    1\n",
       "multi_posterior_dur                             1\n",
       "posterior_dur + begin_to_end + atelic_ext       1\n",
       "end_to_begin?                                   1\n",
       "posterior_dur_future                            1\n",
       "multi_atelic_ext                                1\n",
       "simul_posts                                     1\n",
       "posterior_dur?                                  1\n",
       "reg_recurr + atelic_ext                         1\n",
       "dur_subj?                                       1\n",
       "perdurative?                                    1\n",
       "anterior_dur + anterior                         1\n",
       "purposive?                                      1\n",
       "posterior_dist                                  1\n",
       "anterior_dist                                   1\n",
       "?                                               1\n",
       "atelic_ext + anterior + atelic_ext              1\n",
       "simul_posterior                                 1\n",
       "purposive_ext?                                  1\n",
       "simultaneous + multi_begin_to_end               1\n",
       "begin_to_end + multi_antdur                     1\n",
       "anterior + posterior                            1\n",
       "simultaneous + anterior_limitive?               1\n",
       "habitual, multi_simul                           1\n",
       "simultaneous + purposive_ext                    1\n",
       "anterior_dur_except                             1\n",
       "Name: function, dtype: int64"
      ]
     },
     "execution_count": 36,
     "metadata": {},
     "output_type": "execute_result"
    }
   ],
   "source": [
    "main_df.function.value_counts()"
   ]
  },
  {
   "cell_type": "code",
   "execution_count": 51,
   "metadata": {},
   "outputs": [
    {
     "name": "stdout",
     "output_type": "stream",
     "text": [
      "(9, 7)\n"
     ]
    }
   ],
   "source": [
    "function_ct = pivot_ct(\n",
    "    main_df,\n",
    "    'function',\n",
    "    'verbform2',\n",
    ")\n",
    "\n",
    "# select primary functions of interest\n",
    "select = [\n",
    "    'simultaneous', 'atelic_ext', 'anterior_dur',\n",
    "    'posterior', 'posterior_dur', 'begin_to_end',\n",
    "    'habitual', 'telic_ext', 'anterior', \n",
    "]\n",
    "\n",
    "function_ct = function_ct.loc[select]\n",
    "\n",
    "print(function_ct.shape)"
   ]
  },
  {
   "cell_type": "code",
   "execution_count": 52,
   "metadata": {},
   "outputs": [
    {
     "data": {
      "text/html": [
       "<div>\n",
       "<style scoped>\n",
       "    .dataframe tbody tr th:only-of-type {\n",
       "        vertical-align: middle;\n",
       "    }\n",
       "\n",
       "    .dataframe tbody tr th {\n",
       "        vertical-align: top;\n",
       "    }\n",
       "\n",
       "    .dataframe thead th {\n",
       "        text-align: right;\n",
       "    }\n",
       "</style>\n",
       "<table border=\"1\" class=\"dataframe\">\n",
       "  <thead>\n",
       "    <tr style=\"text-align: right;\">\n",
       "      <th>verbform2</th>\n",
       "      <th>yqtl</th>\n",
       "      <th>wayq</th>\n",
       "      <th>qtl</th>\n",
       "      <th>wqtl</th>\n",
       "      <th>Ø</th>\n",
       "      <th>ptcp</th>\n",
       "      <th>impv</th>\n",
       "    </tr>\n",
       "    <tr>\n",
       "      <th>function</th>\n",
       "      <th></th>\n",
       "      <th></th>\n",
       "      <th></th>\n",
       "      <th></th>\n",
       "      <th></th>\n",
       "      <th></th>\n",
       "      <th></th>\n",
       "    </tr>\n",
       "  </thead>\n",
       "  <tbody>\n",
       "    <tr>\n",
       "      <th>simultaneous</th>\n",
       "      <td>379</td>\n",
       "      <td>343</td>\n",
       "      <td>304</td>\n",
       "      <td>131</td>\n",
       "      <td>100</td>\n",
       "      <td>56</td>\n",
       "      <td>47</td>\n",
       "    </tr>\n",
       "    <tr>\n",
       "      <th>atelic_ext</th>\n",
       "      <td>106</td>\n",
       "      <td>154</td>\n",
       "      <td>98</td>\n",
       "      <td>44</td>\n",
       "      <td>18</td>\n",
       "      <td>13</td>\n",
       "      <td>10</td>\n",
       "    </tr>\n",
       "    <tr>\n",
       "      <th>anterior_dur</th>\n",
       "      <td>158</td>\n",
       "      <td>53</td>\n",
       "      <td>37</td>\n",
       "      <td>49</td>\n",
       "      <td>29</td>\n",
       "      <td>19</td>\n",
       "      <td>9</td>\n",
       "    </tr>\n",
       "    <tr>\n",
       "      <th>posterior</th>\n",
       "      <td>58</td>\n",
       "      <td>85</td>\n",
       "      <td>50</td>\n",
       "      <td>3</td>\n",
       "      <td>5</td>\n",
       "      <td>1</td>\n",
       "      <td>0</td>\n",
       "    </tr>\n",
       "    <tr>\n",
       "      <th>posterior_dur</th>\n",
       "      <td>1</td>\n",
       "      <td>4</td>\n",
       "      <td>27</td>\n",
       "      <td>0</td>\n",
       "      <td>5</td>\n",
       "      <td>5</td>\n",
       "      <td>0</td>\n",
       "    </tr>\n",
       "    <tr>\n",
       "      <th>begin_to_end</th>\n",
       "      <td>12</td>\n",
       "      <td>9</td>\n",
       "      <td>6</td>\n",
       "      <td>1</td>\n",
       "      <td>4</td>\n",
       "      <td>5</td>\n",
       "      <td>5</td>\n",
       "    </tr>\n",
       "    <tr>\n",
       "      <th>habitual</th>\n",
       "      <td>16</td>\n",
       "      <td>4</td>\n",
       "      <td>3</td>\n",
       "      <td>6</td>\n",
       "      <td>5</td>\n",
       "      <td>2</td>\n",
       "      <td>3</td>\n",
       "    </tr>\n",
       "    <tr>\n",
       "      <th>telic_ext</th>\n",
       "      <td>3</td>\n",
       "      <td>4</td>\n",
       "      <td>2</td>\n",
       "      <td>1</td>\n",
       "      <td>0</td>\n",
       "      <td>0</td>\n",
       "      <td>0</td>\n",
       "    </tr>\n",
       "    <tr>\n",
       "      <th>anterior</th>\n",
       "      <td>6</td>\n",
       "      <td>1</td>\n",
       "      <td>3</td>\n",
       "      <td>0</td>\n",
       "      <td>2</td>\n",
       "      <td>1</td>\n",
       "      <td>0</td>\n",
       "    </tr>\n",
       "  </tbody>\n",
       "</table>\n",
       "</div>"
      ],
      "text/plain": [
       "verbform2      yqtl  wayq  qtl  wqtl    Ø  ptcp  impv\n",
       "function                                             \n",
       "simultaneous    379   343  304   131  100    56    47\n",
       "atelic_ext      106   154   98    44   18    13    10\n",
       "anterior_dur    158    53   37    49   29    19     9\n",
       "posterior        58    85   50     3    5     1     0\n",
       "posterior_dur     1     4   27     0    5     5     0\n",
       "begin_to_end     12     9    6     1    4     5     5\n",
       "habitual         16     4    3     6    5     2     3\n",
       "telic_ext         3     4    2     1    0     0     0\n",
       "anterior          6     1    3     0    2     1     0"
      ]
     },
     "execution_count": 52,
     "metadata": {},
     "output_type": "execute_result"
    }
   ],
   "source": [
    "function_ct"
   ]
  },
  {
   "cell_type": "code",
   "execution_count": 53,
   "metadata": {},
   "outputs": [
    {
     "data": {
      "text/plain": [
       "63"
      ]
     },
     "execution_count": 53,
     "metadata": {},
     "output_type": "execute_result"
    }
   ],
   "source": [
    "function_ct.size # N-datapoints"
   ]
  },
  {
   "cell_type": "code",
   "execution_count": 54,
   "metadata": {},
   "outputs": [
    {
     "data": {
      "text/html": [
       "<style  type=\"text/css\" >\n",
       "#T_0d6fc_row0_col0,#T_0d6fc_row0_col1,#T_0d6fc_row0_col2,#T_0d6fc_row0_col3,#T_0d6fc_row0_col4,#T_0d6fc_row0_col5,#T_0d6fc_row0_col6,#T_0d6fc_row1_col2,#T_0d6fc_row1_col3,#T_0d6fc_row1_col5,#T_0d6fc_row1_col6,#T_0d6fc_row2_col4,#T_0d6fc_row2_col5,#T_0d6fc_row2_col6,#T_0d6fc_row3_col0,#T_0d6fc_row3_col2,#T_0d6fc_row4_col4,#T_0d6fc_row4_col6,#T_0d6fc_row5_col0,#T_0d6fc_row5_col1,#T_0d6fc_row5_col2,#T_0d6fc_row5_col3,#T_0d6fc_row5_col4,#T_0d6fc_row6_col0,#T_0d6fc_row6_col3,#T_0d6fc_row6_col4,#T_0d6fc_row6_col5,#T_0d6fc_row6_col6,#T_0d6fc_row7_col0,#T_0d6fc_row7_col1,#T_0d6fc_row7_col2,#T_0d6fc_row7_col3,#T_0d6fc_row7_col4,#T_0d6fc_row7_col5,#T_0d6fc_row7_col6,#T_0d6fc_row8_col0,#T_0d6fc_row8_col1,#T_0d6fc_row8_col2,#T_0d6fc_row8_col3,#T_0d6fc_row8_col4,#T_0d6fc_row8_col5,#T_0d6fc_row8_col6{\n",
       "            color:  ;\n",
       "        }#T_0d6fc_row1_col0,#T_0d6fc_row1_col4,#T_0d6fc_row2_col1,#T_0d6fc_row2_col2,#T_0d6fc_row3_col3,#T_0d6fc_row3_col4,#T_0d6fc_row3_col5,#T_0d6fc_row3_col6,#T_0d6fc_row4_col0,#T_0d6fc_row4_col1,#T_0d6fc_row4_col3,#T_0d6fc_row6_col1,#T_0d6fc_row6_col2{\n",
       "            color:  blue;\n",
       "        }#T_0d6fc_row1_col1,#T_0d6fc_row2_col0,#T_0d6fc_row2_col3,#T_0d6fc_row3_col1,#T_0d6fc_row4_col2,#T_0d6fc_row4_col5,#T_0d6fc_row5_col5,#T_0d6fc_row5_col6{\n",
       "            color:  red;\n",
       "        }</style><table id=\"T_0d6fc_\" ><thead>    <tr>        <th class=\"blank level0\" ></th>        <th class=\"col_heading level0 col0\" >yqtl</th>        <th class=\"col_heading level0 col1\" >wayq</th>        <th class=\"col_heading level0 col2\" >qtl</th>        <th class=\"col_heading level0 col3\" >wqtl</th>        <th class=\"col_heading level0 col4\" >Ø</th>        <th class=\"col_heading level0 col5\" >ptcp</th>        <th class=\"col_heading level0 col6\" >impv</th>    </tr></thead><tbody>\n",
       "                <tr>\n",
       "                        <th id=\"T_0d6fc_level0_row0\" class=\"row_heading level0 row0\" >simultaneous</th>\n",
       "                        <td id=\"T_0d6fc_row0_col0\" class=\"data row0 col0\" >-1.275333</td>\n",
       "                        <td id=\"T_0d6fc_row0_col1\" class=\"data row0 col1\" >-0.660565</td>\n",
       "                        <td id=\"T_0d6fc_row0_col2\" class=\"data row0 col2\" >0.934850</td>\n",
       "                        <td id=\"T_0d6fc_row0_col3\" class=\"data row0 col3\" >0.167522</td>\n",
       "                        <td id=\"T_0d6fc_row0_col4\" class=\"data row0 col4\" >0.761915</td>\n",
       "                        <td id=\"T_0d6fc_row0_col5\" class=\"data row0 col5\" >0.036437</td>\n",
       "                        <td id=\"T_0d6fc_row0_col6\" class=\"data row0 col6\" >0.908597</td>\n",
       "            </tr>\n",
       "            <tr>\n",
       "                        <th id=\"T_0d6fc_level0_row1\" class=\"row_heading level0 row1\" >atelic_ext</th>\n",
       "                        <td id=\"T_0d6fc_row1_col0\" class=\"data row1 col0\" >-2.314062</td>\n",
       "                        <td id=\"T_0d6fc_row1_col1\" class=\"data row1 col1\" >4.887235</td>\n",
       "                        <td id=\"T_0d6fc_row1_col2\" class=\"data row1 col2\" >0.216071</td>\n",
       "                        <td id=\"T_0d6fc_row1_col3\" class=\"data row1 col3\" >0.184563</td>\n",
       "                        <td id=\"T_0d6fc_row1_col4\" class=\"data row1 col4\" >-1.921604</td>\n",
       "                        <td id=\"T_0d6fc_row1_col5\" class=\"data row1 col5\" >-0.634516</td>\n",
       "                        <td id=\"T_0d6fc_row1_col6\" class=\"data row1 col6\" >-0.357826</td>\n",
       "            </tr>\n",
       "            <tr>\n",
       "                        <th id=\"T_0d6fc_level0_row2\" class=\"row_heading level0 row2\" >anterior_dur</th>\n",
       "                        <td id=\"T_0d6fc_row2_col0\" class=\"data row2 col0\" >10.182000</td>\n",
       "                        <td id=\"T_0d6fc_row2_col1\" class=\"data row2 col1\" >-7.135320</td>\n",
       "                        <td id=\"T_0d6fc_row2_col2\" class=\"data row2 col2\" >-7.665332</td>\n",
       "                        <td id=\"T_0d6fc_row2_col3\" class=\"data row2 col3\" >2.518538</td>\n",
       "                        <td id=\"T_0d6fc_row2_col4\" class=\"data row2 col4\" >0.601069</td>\n",
       "                        <td id=\"T_0d6fc_row2_col5\" class=\"data row2 col5\" >0.719198</td>\n",
       "                        <td id=\"T_0d6fc_row2_col6\" class=\"data row2 col6\" >-0.133144</td>\n",
       "            </tr>\n",
       "            <tr>\n",
       "                        <th id=\"T_0d6fc_level0_row3\" class=\"row_heading level0 row3\" >posterior</th>\n",
       "                        <td id=\"T_0d6fc_row3_col0\" class=\"data row3 col0\" >-0.059388</td>\n",
       "                        <td id=\"T_0d6fc_row3_col1\" class=\"data row3 col1\" >6.388548</td>\n",
       "                        <td id=\"T_0d6fc_row3_col2\" class=\"data row3 col2\" >0.681621</td>\n",
       "                        <td id=\"T_0d6fc_row3_col3\" class=\"data row3 col3\" >-5.438726</td>\n",
       "                        <td id=\"T_0d6fc_row3_col4\" class=\"data row3 col4\" >-2.096173</td>\n",
       "                        <td id=\"T_0d6fc_row3_col5\" class=\"data row3 col5\" >-2.582142</td>\n",
       "                        <td id=\"T_0d6fc_row3_col6\" class=\"data row3 col6\" >-2.438312</td>\n",
       "            </tr>\n",
       "            <tr>\n",
       "                        <th id=\"T_0d6fc_level0_row4\" class=\"row_heading level0 row4\" >posterior_dur</th>\n",
       "                        <td id=\"T_0d6fc_row4_col0\" class=\"data row4 col0\" >-5.020401</td>\n",
       "                        <td id=\"T_0d6fc_row4_col1\" class=\"data row4 col1\" >-1.914102</td>\n",
       "                        <td id=\"T_0d6fc_row4_col2\" class=\"data row4 col2\" >8.869219</td>\n",
       "                        <td id=\"T_0d6fc_row4_col3\" class=\"data row4 col3\" >-1.537249</td>\n",
       "                        <td id=\"T_0d6fc_row4_col4\" class=\"data row4 col4\" >0.700048</td>\n",
       "                        <td id=\"T_0d6fc_row4_col5\" class=\"data row4 col5\" >1.584037</td>\n",
       "                        <td id=\"T_0d6fc_row4_col6\" class=\"data row4 col6\" >-0.197363</td>\n",
       "            </tr>\n",
       "            <tr>\n",
       "                        <th id=\"T_0d6fc_level0_row5\" class=\"row_heading level0 row5\" >begin_to_end</th>\n",
       "                        <td id=\"T_0d6fc_row5_col0\" class=\"data row5 col0\" >0.000000</td>\n",
       "                        <td id=\"T_0d6fc_row5_col1\" class=\"data row5 col1\" >-0.224574</td>\n",
       "                        <td id=\"T_0d6fc_row5_col2\" class=\"data row5 col2\" >-0.465581</td>\n",
       "                        <td id=\"T_0d6fc_row5_col3\" class=\"data row5 col3\" >-0.754601</td>\n",
       "                        <td id=\"T_0d6fc_row5_col4\" class=\"data row5 col4\" >0.279880</td>\n",
       "                        <td id=\"T_0d6fc_row5_col5\" class=\"data row5 col5\" >1.584037</td>\n",
       "                        <td id=\"T_0d6fc_row5_col6\" class=\"data row5 col6\" >2.147601</td>\n",
       "            </tr>\n",
       "            <tr>\n",
       "                        <th id=\"T_0d6fc_level0_row6\" class=\"row_heading level0 row6\" >habitual</th>\n",
       "                        <td id=\"T_0d6fc_row6_col0\" class=\"data row6 col0\" >0.941917</td>\n",
       "                        <td id=\"T_0d6fc_row6_col1\" class=\"data row6 col1\" >-1.587664</td>\n",
       "                        <td id=\"T_0d6fc_row6_col2\" class=\"data row6 col2\" >-1.341114</td>\n",
       "                        <td id=\"T_0d6fc_row6_col3\" class=\"data row6 col3\" >0.586590</td>\n",
       "                        <td id=\"T_0d6fc_row6_col4\" class=\"data row6 col4\" >0.741179</td>\n",
       "                        <td id=\"T_0d6fc_row6_col5\" class=\"data row6 col5\" >0.172799</td>\n",
       "                        <td id=\"T_0d6fc_row6_col6\" class=\"data row6 col6\" >0.974106</td>\n",
       "            </tr>\n",
       "            <tr>\n",
       "                        <th id=\"T_0d6fc_level0_row7\" class=\"row_heading level0 row7\" >telic_ext</th>\n",
       "                        <td id=\"T_0d6fc_row7_col0\" class=\"data row7 col0\" >-0.000000</td>\n",
       "                        <td id=\"T_0d6fc_row7_col1\" class=\"data row7 col1\" >0.522009</td>\n",
       "                        <td id=\"T_0d6fc_row7_col2\" class=\"data row7 col2\" >0.000000</td>\n",
       "                        <td id=\"T_0d6fc_row7_col3\" class=\"data row7 col3\" >-0.000000</td>\n",
       "                        <td id=\"T_0d6fc_row7_col4\" class=\"data row7 col4\" >0.000000</td>\n",
       "                        <td id=\"T_0d6fc_row7_col5\" class=\"data row7 col5\" >0.000000</td>\n",
       "                        <td id=\"T_0d6fc_row7_col6\" class=\"data row7 col6\" >0.000000</td>\n",
       "            </tr>\n",
       "            <tr>\n",
       "                        <th id=\"T_0d6fc_level0_row8\" class=\"row_heading level0 row8\" >anterior</th>\n",
       "                        <td id=\"T_0d6fc_row8_col0\" class=\"data row8 col0\" >0.652398</td>\n",
       "                        <td id=\"T_0d6fc_row8_col1\" class=\"data row8 col1\" >-0.689600</td>\n",
       "                        <td id=\"T_0d6fc_row8_col2\" class=\"data row8 col2\" >0.128342</td>\n",
       "                        <td id=\"T_0d6fc_row8_col3\" class=\"data row8 col3\" >-0.203932</td>\n",
       "                        <td id=\"T_0d6fc_row8_col4\" class=\"data row8 col4\" >0.667105</td>\n",
       "                        <td id=\"T_0d6fc_row8_col5\" class=\"data row8 col5\" >0.378545</td>\n",
       "                        <td id=\"T_0d6fc_row8_col6\" class=\"data row8 col6\" >0.000000</td>\n",
       "            </tr>\n",
       "    </tbody></table>"
      ],
      "text/plain": [
       "<pandas.io.formats.style.Styler at 0x7f841da6ae50>"
      ]
     },
     "execution_count": 54,
     "metadata": {},
     "output_type": "execute_result"
    }
   ],
   "source": [
    "# fishers\n",
    "function_fs, function_odds = sig.apply_fishers(function_ct, 0, 1)\n",
    "function_dp = sig.apply_deltaP(function_ct, 0, 1)\n",
    "function_dp2 = sig.apply_deltaP(function_ct.T, 0, 1)\n",
    "\n",
    "df_highlighter(function_fs, rule='fishers')"
   ]
  },
  {
   "cell_type": "code",
   "execution_count": 55,
   "metadata": {},
   "outputs": [
    {
     "data": {
      "image/png": "[encoded data removed]",
      "text/plain": [
       "<Figure size 576x504 with 2 Axes>"
      ]
     },
     "metadata": {
      "needs_background": "light"
     },
     "output_type": "display_data"
    }
   ],
   "source": [
    "fig, ax = plt.subplots(figsize=(8, 7))\n",
    "heatmap(function_fs.head(20), ax=ax, annot=True)\n",
    "ax.set_yticklabels(ax.get_yticklabels(), rotation=0)\n",
    "plt.show()"
   ]
  },
  {
   "cell_type": "code",
   "execution_count": 56,
   "metadata": {},
   "outputs": [
    {
     "name": "stdout",
     "output_type": "stream",
     "text": [
      "showing 5 of 5\n"
     ]
    },
    {
     "data": {
      "text/html": [
       "<style  type=\"text/css\" >\n",
       "#T_45200_row0_col1,#T_45200_row0_col2,#T_45200_row1_col1,#T_45200_row1_col2,#T_45200_row2_col1,#T_45200_row2_col2,#T_45200_row3_col1,#T_45200_row3_col2,#T_45200_row4_col1,#T_45200_row4_col2{\n",
       "            font-size: 20px;\n",
       "             font-family:  Times New Roman;\n",
       "             text-align:  right;\n",
       "             max-width:  500px;\n",
       "        }</style><table id=\"T_45200_\" ><thead>    <tr>        <th class=\"blank level0\" ></th>        <th class=\"col_heading level0 col0\" >verse</th>        <th class=\"col_heading level0 col1\" >clause</th>        <th class=\"col_heading level0 col2\" >verb_utf8</th>        <th class=\"col_heading level0 col3\" >cl_type</th>    </tr>    <tr>        <th class=\"index_name level0\" >node</th>        <th class=\"blank\" ></th>        <th class=\"blank\" ></th>        <th class=\"blank\" ></th>        <th class=\"blank\" ></th>    </tr></thead><tbody>\n",
       "                <tr>\n",
       "                        <th id=\"T_45200_level0_row0\" class=\"row_heading level0 row0\" >459272</th>\n",
       "                        <td id=\"T_45200_row0_col0\" class=\"data row0 col0\" >2_Samuel 13:4</td>\n",
       "                        <td id=\"T_45200_row0_col1\" class=\"data row0 col1\" >מַדּ֣וּעַ אַ֠תָּה כָּ֣כָה דַּ֤ל בַּבֹּ֣קֶר בַּבֹּ֔קֶר </td>\n",
       "                        <td id=\"T_45200_row0_col2\" class=\"data row0 col2\" >nan</td>\n",
       "                        <td id=\"T_45200_row0_col3\" class=\"data row0 col3\" >AjCl</td>\n",
       "            </tr>\n",
       "            <tr>\n",
       "                        <th id=\"T_45200_level0_row1\" class=\"row_heading level0 row1\" >505028</th>\n",
       "                        <td id=\"T_45200_row1_col0\" class=\"data row1 col0\" >Lamentations 3:23</td>\n",
       "                        <td id=\"T_45200_row1_col1\" class=\"data row1 col1\" >חֲדָשִׁים֙ לַבְּקָרִ֔ים </td>\n",
       "                        <td id=\"T_45200_row1_col2\" class=\"data row1 col2\" >nan</td>\n",
       "                        <td id=\"T_45200_row1_col3\" class=\"data row1 col3\" >AjCl</td>\n",
       "            </tr>\n",
       "            <tr>\n",
       "                        <th id=\"T_45200_level0_row2\" class=\"row_heading level0 row2\" >511846</th>\n",
       "                        <td id=\"T_45200_row2_col0\" class=\"data row2 col0\" >1_Chronicles 23:30</td>\n",
       "                        <td id=\"T_45200_row2_col1\" class=\"data row2 col1\" >וְכֵ֖ן לָעָֽרֶב׃ </td>\n",
       "                        <td id=\"T_45200_row2_col2\" class=\"data row2 col2\" >nan</td>\n",
       "                        <td id=\"T_45200_row2_col3\" class=\"data row2 col3\" >NmCl</td>\n",
       "            </tr>\n",
       "            <tr>\n",
       "                        <th id=\"T_45200_level0_row3\" class=\"row_heading level0 row3\" >512040</th>\n",
       "                        <td id=\"T_45200_row3_col0\" class=\"data row3 col0\" >1_Chronicles 26:17</td>\n",
       "                        <td id=\"T_45200_row3_col1\" class=\"data row3 col1\" >לַצָּפֹ֤ונָה לַיֹּום֙ אַרְבָּעָ֔ה </td>\n",
       "                        <td id=\"T_45200_row3_col2\" class=\"data row3 col2\" >nan</td>\n",
       "                        <td id=\"T_45200_row3_col3\" class=\"data row3 col3\" >NmCl</td>\n",
       "            </tr>\n",
       "            <tr>\n",
       "                        <th id=\"T_45200_level0_row4\" class=\"row_heading level0 row4\" >512041</th>\n",
       "                        <td id=\"T_45200_row4_col0\" class=\"data row4 col0\" >1_Chronicles 26:17</td>\n",
       "                        <td id=\"T_45200_row4_col1\" class=\"data row4 col1\" >לַנֶּ֥גְבָּה לַיֹּ֖ום אַרְבָּעָ֑ה </td>\n",
       "                        <td id=\"T_45200_row4_col2\" class=\"data row4 col2\" >nan</td>\n",
       "                        <td id=\"T_45200_row4_col3\" class=\"data row4 col3\" >NmCl</td>\n",
       "            </tr>\n",
       "    </tbody></table>"
      ],
      "text/plain": [
       "<pandas.io.formats.style.Styler at 0x7f841da892b0>"
      ]
     },
     "execution_count": 56,
     "metadata": {},
     "output_type": "execute_result"
    }
   ],
   "source": [
    "ts.show(main_df[\n",
    "    (main_df.verbform2 == 'Ø')\n",
    "    & (main_df.function == 'habitual')\n",
    "], extra=['cl_type'])"
   ]
  },
  {
   "cell_type": "code",
   "execution_count": 57,
   "metadata": {},
   "outputs": [
    {
     "data": {
      "text/html": [
       "<div>\n",
       "<style scoped>\n",
       "    .dataframe tbody tr th:only-of-type {\n",
       "        vertical-align: middle;\n",
       "    }\n",
       "\n",
       "    .dataframe tbody tr th {\n",
       "        vertical-align: top;\n",
       "    }\n",
       "\n",
       "    .dataframe thead th {\n",
       "        text-align: right;\n",
       "    }\n",
       "</style>\n",
       "<table border=\"1\" class=\"dataframe\">\n",
       "  <thead>\n",
       "    <tr style=\"text-align: right;\">\n",
       "      <th>verbform2</th>\n",
       "      <th>yqtl</th>\n",
       "      <th>wayq</th>\n",
       "      <th>qtl</th>\n",
       "      <th>wqtl</th>\n",
       "      <th>Ø</th>\n",
       "      <th>ptcp</th>\n",
       "      <th>impv</th>\n",
       "    </tr>\n",
       "    <tr>\n",
       "      <th>function</th>\n",
       "      <th></th>\n",
       "      <th></th>\n",
       "      <th></th>\n",
       "      <th></th>\n",
       "      <th></th>\n",
       "      <th></th>\n",
       "      <th></th>\n",
       "    </tr>\n",
       "  </thead>\n",
       "  <tbody>\n",
       "    <tr>\n",
       "      <th>simultaneous</th>\n",
       "      <td>-0.035734</td>\n",
       "      <td>-0.022030</td>\n",
       "      <td>0.026149</td>\n",
       "      <td>0.005494</td>\n",
       "      <td>0.014141</td>\n",
       "      <td>0.001002</td>\n",
       "      <td>0.010978</td>\n",
       "    </tr>\n",
       "    <tr>\n",
       "      <th>atelic_ext</th>\n",
       "      <td>-0.067706</td>\n",
       "      <td>0.103692</td>\n",
       "      <td>0.011714</td>\n",
       "      <td>0.006694</td>\n",
       "      <td>-0.032113</td>\n",
       "      <td>-0.013817</td>\n",
       "      <td>-0.008464</td>\n",
       "    </tr>\n",
       "    <tr>\n",
       "      <th>anterior_dur</th>\n",
       "      <td>0.176221</td>\n",
       "      <td>-0.131082</td>\n",
       "      <td>-0.124676</td>\n",
       "      <td>0.051947</td>\n",
       "      <td>0.017300</td>\n",
       "      <td>0.015086</td>\n",
       "      <td>-0.004795</td>\n",
       "    </tr>\n",
       "    <tr>\n",
       "      <th>posterior</th>\n",
       "      <td>-0.008573</td>\n",
       "      <td>0.172420</td>\n",
       "      <td>0.039101</td>\n",
       "      <td>-0.085887</td>\n",
       "      <td>-0.046025</td>\n",
       "      <td>-0.038905</td>\n",
       "      <td>-0.032132</td>\n",
       "    </tr>\n",
       "    <tr>\n",
       "      <th>posterior_dur</th>\n",
       "      <td>-0.275825</td>\n",
       "      <td>-0.169886</td>\n",
       "      <td>0.438635</td>\n",
       "      <td>-0.095412</td>\n",
       "      <td>0.052868</td>\n",
       "      <td>0.079665</td>\n",
       "      <td>-0.030045</td>\n",
       "    </tr>\n",
       "    <tr>\n",
       "      <th>begin_to_end</th>\n",
       "      <td>-0.009454</td>\n",
       "      <td>-0.048808</td>\n",
       "      <td>-0.069892</td>\n",
       "      <td>-0.071197</td>\n",
       "      <td>0.028653</td>\n",
       "      <td>0.079665</td>\n",
       "      <td>0.091033</td>\n",
       "    </tr>\n",
       "    <tr>\n",
       "      <th>habitual</th>\n",
       "      <td>0.117069</td>\n",
       "      <td>-0.162237</td>\n",
       "      <td>-0.136783</td>\n",
       "      <td>0.060983</td>\n",
       "      <td>0.062106</td>\n",
       "      <td>0.010731</td>\n",
       "      <td>0.048132</td>\n",
       "    </tr>\n",
       "    <tr>\n",
       "      <th>telic_ext</th>\n",
       "      <td>0.005010</td>\n",
       "      <td>0.138277</td>\n",
       "      <td>-0.011623</td>\n",
       "      <td>0.006212</td>\n",
       "      <td>-0.067335</td>\n",
       "      <td>-0.040882</td>\n",
       "      <td>-0.029659</td>\n",
       "    </tr>\n",
       "    <tr>\n",
       "      <th>anterior</th>\n",
       "      <td>0.167397</td>\n",
       "      <td>-0.186319</td>\n",
       "      <td>0.019293</td>\n",
       "      <td>-0.094302</td>\n",
       "      <td>0.087233</td>\n",
       "      <td>0.036393</td>\n",
       "      <td>-0.029695</td>\n",
       "    </tr>\n",
       "  </tbody>\n",
       "</table>\n",
       "</div>"
      ],
      "text/plain": [
       "verbform2          yqtl      wayq       qtl      wqtl         Ø      ptcp  \\\n",
       "function                                                                    \n",
       "simultaneous  -0.035734 -0.022030  0.026149  0.005494  0.014141  0.001002   \n",
       "atelic_ext    -0.067706  0.103692  0.011714  0.006694 -0.032113 -0.013817   \n",
       "anterior_dur   0.176221 -0.131082 -0.124676  0.051947  0.017300  0.015086   \n",
       "posterior     -0.008573  0.172420  0.039101 -0.085887 -0.046025 -0.038905   \n",
       "posterior_dur -0.275825 -0.169886  0.438635 -0.095412  0.052868  0.079665   \n",
       "begin_to_end  -0.009454 -0.048808 -0.069892 -0.071197  0.028653  0.079665   \n",
       "habitual       0.117069 -0.162237 -0.136783  0.060983  0.062106  0.010731   \n",
       "telic_ext      0.005010  0.138277 -0.011623  0.006212 -0.067335 -0.040882   \n",
       "anterior       0.167397 -0.186319  0.019293 -0.094302  0.087233  0.036393   \n",
       "\n",
       "verbform2          impv  \n",
       "function                 \n",
       "simultaneous   0.010978  \n",
       "atelic_ext    -0.008464  \n",
       "anterior_dur  -0.004795  \n",
       "posterior     -0.032132  \n",
       "posterior_dur -0.030045  \n",
       "begin_to_end   0.091033  \n",
       "habitual       0.048132  \n",
       "telic_ext     -0.029659  \n",
       "anterior      -0.029695  "
      ]
     },
     "execution_count": 57,
     "metadata": {},
     "output_type": "execute_result"
    }
   ],
   "source": [
    "function_dp"
   ]
  },
  {
   "cell_type": "code",
   "execution_count": 58,
   "metadata": {},
   "outputs": [
    {
     "data": {
      "image/png": "[encoded data removed]",
      "text/plain": [
       "<Figure size 576x504 with 2 Axes>"
      ]
     },
     "metadata": {
      "needs_background": "light"
     },
     "output_type": "display_data"
    }
   ],
   "source": [
    "fig, ax = plt.subplots(figsize=(8, 7))\n",
    "heatmap(function_dp.head(20).round(2), ax=ax, square=False, robust=True, annot=True)\n",
    "ax.set_yticklabels(ax.get_yticklabels(), rotation=0)\n",
    "ax.set_xlabel('verb form')\n",
    "plt.show()"
   ]
  },
  {
   "cell_type": "code",
   "execution_count": null,
   "metadata": {},
   "outputs": [],
   "source": []
  }
 ],
 "metadata": {
  "kernelspec": {
   "display_name": "Python 3",
   "language": "python",
   "name": "python3"
  },
  "language_info": {
   "codemirror_mode": {
    "name": "ipython",
    "version": 3
   },
   "file_extension": ".py",
   "mimetype": "text/x-python",
   "name": "python",
   "nbconvert_exporter": "python",
   "pygments_lexer": "ipython3",
   "version": "3.8.5"
  }
 },
 "nbformat": 4,
 "nbformat_minor": 4
}
