{
 "cells": [
  {
   "cell_type": "markdown",
   "metadata": {},
   "source": [
    "# Semantic Function Species (part 2)"
   ]
  },
  {
   "cell_type": "code",
   "execution_count": 1,
   "metadata": {},
   "outputs": [],
   "source": [
    "from scripts.imports import *\n",
    "\n",
    "out = Exporter(\n",
    "    paths['outdir'], \n",
    "    'semantics'\n",
    ")"
   ]
  },
  {
   "cell_type": "code",
   "execution_count": 2,
   "metadata": {},
   "outputs": [
    {
     "data": {
      "text/plain": [
       "Index(['verse', 'book', 'booksuper', 'canon_part', 'period', 'times_etcbc',\n",
       "       'times_utf8', 'times_utf8d', 'times_POS', 'TA Heads', 'head_utf8',\n",
       "       'funct_type', 'function', 'quality', 'name', 'text', 'n_times',\n",
       "       'n_slots', 'lex_token', 'is_advb', 'tense', 'firstw', 'genre', 'domain',\n",
       "       'gendom', 'clause', 'sentence', 'cl_rela', 'cl_type', 'cl_kind', 'verb',\n",
       "       'verb_etcbc', 'verb_utf8', 'verb_text', 'verbform', 'verb_stem',\n",
       "       'cl_args', 'has_objc', 'has_cmpl', 'has_subj', 'has_oc',\n",
       "       'Time Position', 'cl_type2', 'cl_nsuccs', 'cl_clust50', 'cl_clust10',\n",
       "       'verbtense', 'vt_order', 'PP', 'unmodified', 'modtag', 'modtag2',\n",
       "       'front', 'ph_type', 'has_time', 'notes', 'main_genre', 'APPO', 'DEF',\n",
       "       'ORDN', 'ØPP', 'GP', 'QUANT', 'PL', 'NUM', 'PARA', 'DEMON',\n",
       "       'demon_type', 'ADJV', 'TIMEAPPO', 'SPEC', 'SFX3', 'SFX', 'DU', 'SFX1',\n",
       "       'SFX2', 'ADVB', 'CARDC'],\n",
       "      dtype='object')"
      ]
     },
     "execution_count": 2,
     "metadata": {},
     "output_type": "execute_result"
    }
   ],
   "source": [
    "df.columns"
   ]
  },
  {
   "cell_type": "code",
   "execution_count": 3,
   "metadata": {},
   "outputs": [
    {
     "data": {
      "text/plain": [
       "(3648, 78)"
      ]
     },
     "execution_count": 3,
     "metadata": {},
     "output_type": "execute_result"
    }
   ],
   "source": [
    "df.shape"
   ]
  },
  {
   "cell_type": "markdown",
   "metadata": {},
   "source": [
    "# Miscellaneous Functions"
   ]
  },
  {
   "cell_type": "code",
   "execution_count": 4,
   "metadata": {},
   "outputs": [
    {
     "data": {
      "text/plain": [
       "purposive_ext               34\n",
       "regular_recurrence          18\n",
       "anterior_dur_purposive      15\n",
       "dist_posterior               6\n",
       "anterior_limitive            5\n",
       "dist_prospective             3\n",
       "purposive                    2\n",
       "posterior, posterior_dur     1\n",
       "posterior_dur_future         1\n",
       "posterior_dist               1\n",
       "anterior_dur_except          1\n",
       "atelic_ext, simultaneous     1\n",
       "Name: function, dtype: int64"
      ]
     },
     "execution_count": 4,
     "metadata": {},
     "output_type": "execute_result"
    }
   ],
   "source": [
    "df[df.funct_type == 'secondary'].function.value_counts()"
   ]
  },
  {
   "cell_type": "code",
   "execution_count": 5,
   "metadata": {},
   "outputs": [
    {
     "name": "stdout",
     "output_type": "stream",
     "text": [
      "purposive_ext\n",
      "showing 10 of 10\n"
     ]
    },
    {
     "data": {
      "text/html": [
       "<style  type=\"text/css\" >\n",
       "#T_6c491_row0_col1,#T_6c491_row1_col1,#T_6c491_row2_col1,#T_6c491_row3_col1,#T_6c491_row4_col1,#T_6c491_row5_col1,#T_6c491_row6_col1,#T_6c491_row7_col1,#T_6c491_row8_col1,#T_6c491_row9_col1{\n",
       "            font-size: 20px;\n",
       "             font-family:  Times New Roman;\n",
       "             text-align:  right;\n",
       "             max-width:  500px;\n",
       "        }</style><table id=\"T_6c491_\" ><thead>    <tr>        <th class=\"blank level0\" ></th>        <th class=\"col_heading level0 col0\" >verse</th>        <th class=\"col_heading level0 col1\" >clause</th>        <th class=\"col_heading level0 col2\" >notes</th>    </tr>    <tr>        <th class=\"index_name level0\" >node</th>        <th class=\"blank\" ></th>        <th class=\"blank\" ></th>        <th class=\"blank\" ></th>    </tr></thead><tbody>\n",
       "                <tr>\n",
       "                        <th id=\"T_6c491_level0_row0\" class=\"row_heading level0 row0\" >466003</th>\n",
       "                        <td id=\"T_6c491_row0_col0\" class=\"data row0 col0\" >2_Kings 8:19</td>\n",
       "                        <td id=\"T_6c491_row0_col1\" class=\"data row0 col1\" >לְבָנָ֖יו כָּל־הַיָּמִֽים׃ </td>\n",
       "                        <td id=\"T_6c491_row0_col2\" class=\"data row0 col2\" >!clause</td>\n",
       "            </tr>\n",
       "            <tr>\n",
       "                        <th id=\"T_6c491_level0_row1\" class=\"row_heading level0 row1\" >514102</th>\n",
       "                        <td id=\"T_6c491_row1_col0\" class=\"data row1 col0\" >2_Chronicles 21:7</td>\n",
       "                        <td id=\"T_6c491_row1_col1\" class=\"data row1 col1\" >וּלְבָנָ֖יו כָּל־הַיָּמִֽים׃ </td>\n",
       "                        <td id=\"T_6c491_row1_col2\" class=\"data row1 col2\" >!clause</td>\n",
       "            </tr>\n",
       "            <tr>\n",
       "                        <th id=\"T_6c491_level0_row2\" class=\"row_heading level0 row2\" >484481</th>\n",
       "                        <td id=\"T_6c491_row2_col0\" class=\"data row2 col0\" >Ezekiel 39:12</td>\n",
       "                        <td id=\"T_6c491_row2_col1\" class=\"data row2 col1\" >לְמַ֖עַן טַהֵ֣ר אֶת־הָאָ֑רֶץ שִׁבְעָ֖ה חֳדָשִֽׁים׃ </td>\n",
       "                        <td id=\"T_6c491_row2_col2\" class=\"data row2 col2\" >ESV disagrees with clause break here</td>\n",
       "            </tr>\n",
       "            <tr>\n",
       "                        <th id=\"T_6c491_level0_row3\" class=\"row_heading level0 row3\" >463541</th>\n",
       "                        <td id=\"T_6c491_row3_col0\" class=\"data row3 col0\" >1_Kings 16:23</td>\n",
       "                        <td id=\"T_6c491_row3_col1\" class=\"data row3 col1\" >בְּתִרְצָ֖ה מָלַ֥ךְ שֵׁשׁ־שָׁנִֽים׃ </td>\n",
       "                        <td id=\"T_6c491_row3_col2\" class=\"data row3 col2\" >This example may shed light on the cx of \"anterior_dur_purposive and the like; i.e. a point with a duration at the end\" </td>\n",
       "            </tr>\n",
       "            <tr>\n",
       "                        <th id=\"T_6c491_level0_row4\" class=\"row_heading level0 row4\" >432263</th>\n",
       "                        <td id=\"T_6c491_row4_col0\" class=\"data row4 col0\" >Genesis 41:36</td>\n",
       "                        <td id=\"T_6c491_row4_col1\" class=\"data row4 col1\" >וְהָיָ֨ה הָאֹ֤כֶל לְפִקָּדֹון֙ לָאָ֔רֶץ לְשֶׁ֨בַע֙ שְׁנֵ֣י הָרָעָ֔ב </td>\n",
       "                        <td id=\"T_6c491_row4_col2\" class=\"data row4 col2\" >the atelicity of the verb here might distinguish it from the purposive extent (Haspelmath 48); but it is a hard call; in the end I rely on the modal sense of the verb; extent can be derived from the benefactive sense of L: Hasplemath 1997, 128; BHRG 351; another option could be the purdurative, \"throughout\" (see NET); LXX εις; NET throughout; Segond pour</td>\n",
       "            </tr>\n",
       "            <tr>\n",
       "                        <th id=\"T_6c491_level0_row5\" class=\"row_heading level0 row5\" >438983</th>\n",
       "                        <td id=\"T_6c491_row5_col0\" class=\"data row5 col0\" >Leviticus 13:5</td>\n",
       "                        <td id=\"T_6c491_row5_col1\" class=\"data row5 col1\" >וְהִסְגִּירֹ֧ו הַכֹּהֵ֛ן שִׁבְעַ֥ת יָמִ֖ים שֵׁנִֽית׃ </td>\n",
       "                        <td id=\"T_6c491_row5_col2\" class=\"data row5 col2\" >nan</td>\n",
       "            </tr>\n",
       "            <tr>\n",
       "                        <th id=\"T_6c491_level0_row6\" class=\"row_heading level0 row6\" >439051</th>\n",
       "                        <td id=\"T_6c491_row6_col0\" class=\"data row6 col0\" >Leviticus 13:21</td>\n",
       "                        <td id=\"T_6c491_row6_col1\" class=\"data row6 col1\" >וְהִסְגִּירֹ֥ו הַכֹּהֵ֖ן שִׁבְעַ֥ת יָמִֽים׃ </td>\n",
       "                        <td id=\"T_6c491_row6_col2\" class=\"data row6 col2\" >nan</td>\n",
       "            </tr>\n",
       "            <tr>\n",
       "                        <th id=\"T_6c491_level0_row7\" class=\"row_heading level0 row7\" >439075</th>\n",
       "                        <td id=\"T_6c491_row7_col0\" class=\"data row7 col0\" >Leviticus 13:26</td>\n",
       "                        <td id=\"T_6c491_row7_col1\" class=\"data row7 col1\" >וְהִסְגִּירֹ֥ו הַכֹּהֵ֖ן שִׁבְעַ֥ת יָמִֽים׃ </td>\n",
       "                        <td id=\"T_6c491_row7_col2\" class=\"data row7 col2\" >nan</td>\n",
       "            </tr>\n",
       "            <tr>\n",
       "                        <th id=\"T_6c491_level0_row8\" class=\"row_heading level0 row8\" >439099</th>\n",
       "                        <td id=\"T_6c491_row8_col0\" class=\"data row8 col0\" >Leviticus 13:31</td>\n",
       "                        <td id=\"T_6c491_row8_col1\" class=\"data row8 col1\" >וְהִסְגִּ֧יר הַכֹּהֵ֛ן אֶת־נֶ֥גַע הַנֶּ֖תֶק שִׁבְעַ֥ת יָמִֽים׃ </td>\n",
       "                        <td id=\"T_6c491_row8_col2\" class=\"data row8 col2\" >nan</td>\n",
       "            </tr>\n",
       "            <tr>\n",
       "                        <th id=\"T_6c491_level0_row9\" class=\"row_heading level0 row9\" >439107</th>\n",
       "                        <td id=\"T_6c491_row9_col0\" class=\"data row9 col0\" >Leviticus 13:33</td>\n",
       "                        <td id=\"T_6c491_row9_col1\" class=\"data row9 col1\" >וְהִסְגִּ֨יר הַכֹּהֵ֧ן אֶת־הַנֶּ֛תֶק שִׁבְעַ֥ת יָמִ֖ים שֵׁנִֽית׃ </td>\n",
       "                        <td id=\"T_6c491_row9_col2\" class=\"data row9 col2\" >nan</td>\n",
       "            </tr>\n",
       "    </tbody></table>"
      ],
      "text/plain": [
       "<pandas.io.formats.style.Styler at 0x7f8a1e7b70a0>"
      ]
     },
     "metadata": {},
     "output_type": "display_data"
    },
    {
     "name": "stdout",
     "output_type": "stream",
     "text": [
      "--------------------------------------------------\n",
      "regular_recurrence\n",
      "showing 10 of 10\n"
     ]
    },
    {
     "data": {
      "text/html": [
       "<style  type=\"text/css\" >\n",
       "#T_dc100_row0_col1,#T_dc100_row1_col1,#T_dc100_row2_col1,#T_dc100_row3_col1,#T_dc100_row4_col1,#T_dc100_row5_col1,#T_dc100_row6_col1,#T_dc100_row7_col1,#T_dc100_row8_col1,#T_dc100_row9_col1{\n",
       "            font-size: 20px;\n",
       "             font-family:  Times New Roman;\n",
       "             text-align:  right;\n",
       "             max-width:  500px;\n",
       "        }</style><table id=\"T_dc100_\" ><thead>    <tr>        <th class=\"blank level0\" ></th>        <th class=\"col_heading level0 col0\" >verse</th>        <th class=\"col_heading level0 col1\" >clause</th>        <th class=\"col_heading level0 col2\" >notes</th>    </tr>    <tr>        <th class=\"index_name level0\" >node</th>        <th class=\"blank\" ></th>        <th class=\"blank\" ></th>        <th class=\"blank\" ></th>    </tr></thead><tbody>\n",
       "                <tr>\n",
       "                        <th id=\"T_dc100_level0_row0\" class=\"row_heading level0 row0\" >435580</th>\n",
       "                        <td id=\"T_dc100_row0_col0\" class=\"data row0 col0\" >Exodus 18:26</td>\n",
       "                        <td id=\"T_dc100_row0_col1\" class=\"data row0 col1\" >וְשָׁפְט֥וּ אֶת־הָעָ֖ם בְּכָל־עֵ֑ת </td>\n",
       "                        <td id=\"T_dc100_row0_col2\" class=\"data row0 col2\" >See Haspelmath 50f; Should be read as a singular duration rather than a \"plural\" one</td>\n",
       "            </tr>\n",
       "            <tr>\n",
       "                        <th id=\"T_dc100_level0_row1\" class=\"row_heading level0 row1\" >439528</th>\n",
       "                        <td id=\"T_dc100_row1_col0\" class=\"data row1 col0\" >Leviticus 16:2</td>\n",
       "                        <td id=\"T_dc100_row1_col1\" class=\"data row1 col1\" >וְאַל־יָבֹ֤א בְכָל־עֵת֙ אֶל־הַקֹּ֔דֶשׁ מִבֵּ֖ית לַפָּרֹ֑כֶת אֶל־פְּנֵ֨י הַכַּפֹּ֜רֶת </td>\n",
       "                        <td id=\"T_dc100_row1_col2\" class=\"data row1 col2\" >link:435580</td>\n",
       "            </tr>\n",
       "            <tr>\n",
       "                        <th id=\"T_dc100_level0_row2\" class=\"row_heading level0 row2\" >436675</th>\n",
       "                        <td id=\"T_dc100_row2_col0\" class=\"data row2 col0\" >Exodus 29:36</td>\n",
       "                        <td id=\"T_dc100_row2_col1\" class=\"data row2 col1\" >וּפַ֨ר חַטָּ֜את תַּעֲשֶׂ֤ה לַיֹּום֙ עַל־הַכִּפֻּרִ֔ים </td>\n",
       "                        <td id=\"T_dc100_row2_col2\" class=\"data row2 col2\" >nan</td>\n",
       "            </tr>\n",
       "            <tr>\n",
       "                        <th id=\"T_dc100_level0_row3\" class=\"row_heading level0 row3\" >436687</th>\n",
       "                        <td id=\"T_dc100_row3_col0\" class=\"data row3 col0\" >Exodus 29:38</td>\n",
       "                        <td id=\"T_dc100_row3_col1\" class=\"data row3 col1\" >כְּבָשִׂ֧ים בְּנֵֽי־שָׁנָ֛ה שְׁנַ֥יִם לַיֹּ֖ום תָּמִֽיד׃ </td>\n",
       "                        <td id=\"T_dc100_row3_col2\" class=\"data row3 col2\" >nan</td>\n",
       "            </tr>\n",
       "            <tr>\n",
       "                        <th id=\"T_dc100_level0_row4\" class=\"row_heading level0 row4\" >444059</th>\n",
       "                        <td id=\"T_dc100_row4_col0\" class=\"data row4 col0\" >Numbers 28:3</td>\n",
       "                        <td id=\"T_dc100_row4_col1\" class=\"data row4 col1\" >כְּבָשִׂ֨ים בְּנֵֽי־שָׁנָ֧ה תְמִימִ֛ם שְׁנַ֥יִם לַיֹּ֖ום עֹלָ֥ה תָמִֽיד׃ </td>\n",
       "                        <td id=\"T_dc100_row4_col2\" class=\"data row4 col2\" >nan</td>\n",
       "            </tr>\n",
       "            <tr>\n",
       "                        <th id=\"T_dc100_level0_row5\" class=\"row_heading level0 row5\" >469622</th>\n",
       "                        <td id=\"T_dc100_row5_col0\" class=\"data row5 col0\" >Isaiah 21:8</td>\n",
       "                        <td id=\"T_dc100_row5_col1\" class=\"data row5 col1\" >וְעַל־מִ֨שְׁמַרְתִּ֔י אָנֹכִ֥י נִצָּ֖ב כָּל־הַלֵּילֹֽות׃ </td>\n",
       "                        <td id=\"T_dc100_row5_col2\" class=\"data row5 col2\" >nan</td>\n",
       "            </tr>\n",
       "            <tr>\n",
       "                        <th id=\"T_dc100_level0_row6\" class=\"row_heading level0 row6\" >490396</th>\n",
       "                        <td id=\"T_dc100_row6_col0\" class=\"data row6 col0\" >Psalms 6:7</td>\n",
       "                        <td id=\"T_dc100_row6_col1\" class=\"data row6 col1\" >אַשְׂחֶ֣ה בְכָל־לַ֭יְלָה מִטָּתִ֑י </td>\n",
       "                        <td id=\"T_dc100_row6_col2\" class=\"data row6 col2\" >nan</td>\n",
       "            </tr>\n",
       "            <tr>\n",
       "                        <th id=\"T_dc100_level0_row7\" class=\"row_heading level0 row7\" >491664</th>\n",
       "                        <td id=\"T_dc100_row7_col0\" class=\"data row7 col0\" >Psalms 34:2</td>\n",
       "                        <td id=\"T_dc100_row7_col1\" class=\"data row7 col1\" >אֲבָרֲכָ֣ה אֶת־יְהוָ֣ה בְּכָל־עֵ֑ת </td>\n",
       "                        <td id=\"T_dc100_row7_col2\" class=\"data row7 col2\" >nan</td>\n",
       "            </tr>\n",
       "            <tr>\n",
       "                        <th id=\"T_dc100_level0_row8\" class=\"row_heading level0 row8\" >493150</th>\n",
       "                        <td id=\"T_dc100_row8_col0\" class=\"data row8 col0\" >Psalms 62:9</td>\n",
       "                        <td id=\"T_dc100_row8_col1\" class=\"data row8 col1\" >בִּטְח֘וּ בֹ֤ו בְכָל־עֵ֨ת׀ </td>\n",
       "                        <td id=\"T_dc100_row8_col2\" class=\"data row8 col2\" >nan</td>\n",
       "            </tr>\n",
       "            <tr>\n",
       "                        <th id=\"T_dc100_level0_row9\" class=\"row_heading level0 row9\" >495538</th>\n",
       "                        <td id=\"T_dc100_row9_col0\" class=\"data row9 col0\" >Psalms 106:3</td>\n",
       "                        <td id=\"T_dc100_row9_col1\" class=\"data row9 col1\" >עֹשֵׂ֖ה צְדָקָ֣ה בְכָל־עֵֽת׃ </td>\n",
       "                        <td id=\"T_dc100_row9_col2\" class=\"data row9 col2\" >nan</td>\n",
       "            </tr>\n",
       "    </tbody></table>"
      ],
      "text/plain": [
       "<pandas.io.formats.style.Styler at 0x7f8a253e3f70>"
      ]
     },
     "metadata": {},
     "output_type": "display_data"
    },
    {
     "name": "stdout",
     "output_type": "stream",
     "text": [
      "--------------------------------------------------\n",
      "anterior_dur_purposive\n",
      "showing 10 of 10\n"
     ]
    },
    {
     "data": {
      "text/html": [
       "<style  type=\"text/css\" >\n",
       "#T_54b3a_row0_col1,#T_54b3a_row1_col1,#T_54b3a_row2_col1,#T_54b3a_row3_col1,#T_54b3a_row4_col1,#T_54b3a_row5_col1,#T_54b3a_row6_col1,#T_54b3a_row7_col1,#T_54b3a_row8_col1,#T_54b3a_row9_col1{\n",
       "            font-size: 20px;\n",
       "             font-family:  Times New Roman;\n",
       "             text-align:  right;\n",
       "             max-width:  500px;\n",
       "        }</style><table id=\"T_54b3a_\" ><thead>    <tr>        <th class=\"blank level0\" ></th>        <th class=\"col_heading level0 col0\" >verse</th>        <th class=\"col_heading level0 col1\" >clause</th>        <th class=\"col_heading level0 col2\" >notes</th>    </tr>    <tr>        <th class=\"index_name level0\" >node</th>        <th class=\"blank\" ></th>        <th class=\"blank\" ></th>        <th class=\"blank\" ></th>    </tr></thead><tbody>\n",
       "                <tr>\n",
       "                        <th id=\"T_54b3a_level0_row0\" class=\"row_heading level0 row0\" >457881</th>\n",
       "                        <td id=\"T_54b3a_row0_col0\" class=\"data row0 col0\" >1_Samuel 30:25</td>\n",
       "                        <td id=\"T_54b3a_row0_col1\" class=\"data row0 col1\" >וַיְשִׂמֶ֜הָ לְחֹ֤ק וּלְמִשְׁפָּט֙ לְיִשְׂרָאֵ֔ל עַ֖ד הַיֹּ֥ום הַזֶּֽה׃ פ </td>\n",
       "                        <td id=\"T_54b3a_row0_col2\" class=\"data row0 col2\" >nan</td>\n",
       "            </tr>\n",
       "            <tr>\n",
       "                        <th id=\"T_54b3a_level0_row1\" class=\"row_heading level0 row1\" >458565</th>\n",
       "                        <td id=\"T_54b3a_row1_col0\" class=\"data row1 col0\" >2_Samuel 6:8</td>\n",
       "                        <td id=\"T_54b3a_row1_col1\" class=\"data row1 col1\" >וַיִּקְרָ֞א לַמָּקֹ֤ום הַהוּא֙ פֶּ֣רֶץ עֻזָּ֔ה עַ֖ד הַיֹּ֥ום הַזֶּֽה׃ </td>\n",
       "                        <td id=\"T_54b3a_row1_col2\" class=\"data row1 col2\" >nan</td>\n",
       "            </tr>\n",
       "            <tr>\n",
       "                        <th id=\"T_54b3a_level0_row2\" class=\"row_heading level0 row2\" >458680</th>\n",
       "                        <td id=\"T_54b3a_row2_col0\" class=\"data row2 col0\" >2_Samuel 7:13</td>\n",
       "                        <td id=\"T_54b3a_row2_col1\" class=\"data row2 col1\" >וְכֹנַנְתִּ֛י אֶת־כִּסֵּ֥א מַמְלַכְתֹּ֖ו עַד־עֹולָֽם׃ </td>\n",
       "                        <td id=\"T_54b3a_row2_col2\" class=\"data row2 col2\" >nan</td>\n",
       "            </tr>\n",
       "            <tr>\n",
       "                        <th id=\"T_54b3a_level0_row3\" class=\"row_heading level0 row3\" >458721</th>\n",
       "                        <td id=\"T_54b3a_row3_col0\" class=\"data row3 col0\" >2_Samuel 7:24</td>\n",
       "                        <td id=\"T_54b3a_row3_col1\" class=\"data row3 col1\" >וַתְּכֹ֣ונֵֽן לְ֠ךָ אֶת־עַמְּךָ֙ יִשְׂרָאֵ֧ל׀ לְךָ֛ לְעָ֖ם עַד־עֹולָ֑ם </td>\n",
       "                        <td id=\"T_54b3a_row3_col2\" class=\"data row3 col2\" >nan</td>\n",
       "            </tr>\n",
       "            <tr>\n",
       "                        <th id=\"T_54b3a_level0_row4\" class=\"row_heading level0 row4\" >458726</th>\n",
       "                        <td id=\"T_54b3a_row4_col0\" class=\"data row4 col0\" >2_Samuel 7:25</td>\n",
       "                        <td id=\"T_54b3a_row4_col1\" class=\"data row4 col1\" >הַדָּבָ֗ר הָקֵ֖ם עַד־עֹולָ֑ם </td>\n",
       "                        <td id=\"T_54b3a_row4_col2\" class=\"data row4 col2\" >nan</td>\n",
       "            </tr>\n",
       "            <tr>\n",
       "                        <th id=\"T_54b3a_level0_row5\" class=\"row_heading level0 row5\" >460202</th>\n",
       "                        <td id=\"T_54b3a_row5_col0\" class=\"data row5 col0\" >2_Samuel 18:18</td>\n",
       "                        <td id=\"T_54b3a_row5_col1\" class=\"data row5 col1\" >וַיִּקָּ֤רֵא לָהּ֙ יַ֣ד אַבְשָׁלֹ֔ם עַ֖ד הַיֹּ֥ום הַזֶּֽה׃ ס </td>\n",
       "                        <td id=\"T_54b3a_row5_col2\" class=\"data row5 col2\" >nan</td>\n",
       "            </tr>\n",
       "            <tr>\n",
       "                        <th id=\"T_54b3a_level0_row6\" class=\"row_heading level0 row6\" >461539</th>\n",
       "                        <td id=\"T_54b3a_row6_col0\" class=\"data row6 col0\" >1_Kings 2:33</td>\n",
       "                        <td id=\"T_54b3a_row6_col1\" class=\"data row6 col1\" >וְשָׁ֤בוּ דְמֵיהֶם֙ בְּרֹ֣אשׁ יֹואָ֔ב וּבְרֹ֥אשׁ זַרְעֹ֖ו לְעֹלָ֑ם </td>\n",
       "                        <td id=\"T_54b3a_row6_col2\" class=\"data row6 col2\" >nan</td>\n",
       "            </tr>\n",
       "            <tr>\n",
       "                        <th id=\"T_54b3a_level0_row7\" class=\"row_heading level0 row7\" >462539</th>\n",
       "                        <td id=\"T_54b3a_row7_col0\" class=\"data row7 col0\" >1_Kings 9:13</td>\n",
       "                        <td id=\"T_54b3a_row7_col1\" class=\"data row7 col1\" >וַיִּקְרָ֤א לָהֶם֙ אֶ֣רֶץ כָּב֔וּל עַ֖ד הַיֹּ֥ום הַזֶּֽה׃ פ </td>\n",
       "                        <td id=\"T_54b3a_row7_col2\" class=\"data row7 col2\" >nan</td>\n",
       "            </tr>\n",
       "            <tr>\n",
       "                        <th id=\"T_54b3a_level0_row8\" class=\"row_heading level0 row8\" >462564</th>\n",
       "                        <td id=\"T_54b3a_row8_col0\" class=\"data row8 col0\" >1_Kings 9:21</td>\n",
       "                        <td id=\"T_54b3a_row8_col1\" class=\"data row8 col1\" >וַיַּעֲלֵ֤ם שְׁלֹמֹה֙ לְמַס־עֹבֵ֔ד עַ֖ד הַיֹּ֥ום הַזֶּֽה׃ </td>\n",
       "                        <td id=\"T_54b3a_row8_col2\" class=\"data row8 col2\" >nan</td>\n",
       "            </tr>\n",
       "            <tr>\n",
       "                        <th id=\"T_54b3a_level0_row9\" class=\"row_heading level0 row9\" >462941</th>\n",
       "                        <td id=\"T_54b3a_row9_col0\" class=\"data row9 col0\" >1_Kings 12:19</td>\n",
       "                        <td id=\"T_54b3a_row9_col1\" class=\"data row9 col1\" >וַיִּפְשְׁע֤וּ יִשְׂרָאֵל֙ בְּבֵ֣ית דָּוִ֔ד עַ֖ד הַיֹּ֥ום הַזֶּֽה׃ ס </td>\n",
       "                        <td id=\"T_54b3a_row9_col2\" class=\"data row9 col2\" >nan</td>\n",
       "            </tr>\n",
       "    </tbody></table>"
      ],
      "text/plain": [
       "<pandas.io.formats.style.Styler at 0x7f8a253e3af0>"
      ]
     },
     "metadata": {},
     "output_type": "display_data"
    },
    {
     "name": "stdout",
     "output_type": "stream",
     "text": [
      "--------------------------------------------------\n",
      "dist_posterior\n",
      "showing 6 of 6\n"
     ]
    },
    {
     "data": {
      "text/html": [
       "<style  type=\"text/css\" >\n",
       "#T_3cf24_row0_col1,#T_3cf24_row1_col1,#T_3cf24_row2_col1,#T_3cf24_row3_col1,#T_3cf24_row4_col1,#T_3cf24_row5_col1{\n",
       "            font-size: 20px;\n",
       "             font-family:  Times New Roman;\n",
       "             text-align:  right;\n",
       "             max-width:  500px;\n",
       "        }</style><table id=\"T_3cf24_\" ><thead>    <tr>        <th class=\"blank level0\" ></th>        <th class=\"col_heading level0 col0\" >verse</th>        <th class=\"col_heading level0 col1\" >clause</th>        <th class=\"col_heading level0 col2\" >notes</th>    </tr>    <tr>        <th class=\"index_name level0\" >node</th>        <th class=\"blank\" ></th>        <th class=\"blank\" ></th>        <th class=\"blank\" ></th>    </tr></thead><tbody>\n",
       "                <tr>\n",
       "                        <th id=\"T_3cf24_level0_row0\" class=\"row_heading level0 row0\" >457809</th>\n",
       "                        <td id=\"T_3cf24_row0_col0\" class=\"data row0 col0\" >1_Samuel 30:12</td>\n",
       "                        <td id=\"T_3cf24_row0_col1\" class=\"data row0 col1\" >וְלֹא־שָׁ֣תָה מַ֔יִם שְׁלֹשָׁ֥ה יָמִ֖ים וּשְׁלֹשָׁ֥ה לֵילֹֽות׃ ס </td>\n",
       "                        <td id=\"T_3cf24_row0_col2\" class=\"data row0 col2\" >nan</td>\n",
       "            </tr>\n",
       "            <tr>\n",
       "                        <th id=\"T_3cf24_level0_row1\" class=\"row_heading level0 row1\" >463357</th>\n",
       "                        <td id=\"T_3cf24_row1_col0\" class=\"data row1 col0\" >1_Kings 15:5</td>\n",
       "                        <td id=\"T_3cf24_row1_col1\" class=\"data row1 col1\" >וְלֹֽא־סָ֞ר מִכֹּ֣ל כֹּ֚ל יְמֵ֣י חַיָּ֔יו </td>\n",
       "                        <td id=\"T_3cf24_row1_col2\" class=\"data row1 col2\" >nan</td>\n",
       "            </tr>\n",
       "            <tr>\n",
       "                        <th id=\"T_3cf24_level0_row2\" class=\"row_heading level0 row2\" >474066</th>\n",
       "                        <td id=\"T_3cf24_row2_col0\" class=\"data row2 col0\" >Jeremiah 2:32</td>\n",
       "                        <td id=\"T_3cf24_row2_col1\" class=\"data row2 col1\" >וְעַמִּ֣י שְׁכֵח֔וּנִי יָמִ֖ים </td>\n",
       "                        <td id=\"T_3cf24_row2_col2\" class=\"data row2 col2\" >nan</td>\n",
       "            </tr>\n",
       "            <tr>\n",
       "                        <th id=\"T_3cf24_level0_row3\" class=\"row_heading level0 row3\" >492838</th>\n",
       "                        <td id=\"T_3cf24_row3_col0\" class=\"data row3 col0\" >Psalms 55:20</td>\n",
       "                        <td id=\"T_3cf24_row3_col1\" class=\"data row3 col1\" >וְיֹ֤שֵׁ֥ב קֶ֗דֶם </td>\n",
       "                        <td id=\"T_3cf24_row3_col2\" class=\"data row3 col2\" >nan</td>\n",
       "            </tr>\n",
       "            <tr>\n",
       "                        <th id=\"T_3cf24_level0_row4\" class=\"row_heading level0 row4\" >493817</th>\n",
       "                        <td id=\"T_3cf24_row4_col0\" class=\"data row4 col0\" >Psalms 74:2</td>\n",
       "                        <td id=\"T_3cf24_row4_col1\" class=\"data row4 col1\" >קָ֘נִ֤יתָ קֶּ֗דֶם </td>\n",
       "                        <td id=\"T_3cf24_row4_col2\" class=\"data row4 col2\" >nan</td>\n",
       "            </tr>\n",
       "            <tr>\n",
       "                        <th id=\"T_3cf24_level0_row5\" class=\"row_heading level0 row5\" >505558</th>\n",
       "                        <td id=\"T_3cf24_row5_col0\" class=\"data row5 col0\" >Esther 4:11</td>\n",
       "                        <td id=\"T_3cf24_row5_col1\" class=\"data row5 col1\" >וַאֲנִ֗י לֹ֤א נִקְרֵ֨אתִי֙ זֶ֖ה שְׁלֹושִׁ֥ים יֹֽום׃ </td>\n",
       "                        <td id=\"T_3cf24_row5_col2\" class=\"data row5 col2\" >nan</td>\n",
       "            </tr>\n",
       "    </tbody></table>"
      ],
      "text/plain": [
       "<pandas.io.formats.style.Styler at 0x7f8a253e3a60>"
      ]
     },
     "metadata": {},
     "output_type": "display_data"
    },
    {
     "name": "stdout",
     "output_type": "stream",
     "text": [
      "--------------------------------------------------\n",
      "anterior_limitive\n",
      "showing 5 of 5\n"
     ]
    },
    {
     "data": {
      "text/html": [
       "<style  type=\"text/css\" >\n",
       "#T_74a27_row0_col1,#T_74a27_row1_col1,#T_74a27_row2_col1,#T_74a27_row3_col1,#T_74a27_row4_col1{\n",
       "            font-size: 20px;\n",
       "             font-family:  Times New Roman;\n",
       "             text-align:  right;\n",
       "             max-width:  500px;\n",
       "        }</style><table id=\"T_74a27_\" ><thead>    <tr>        <th class=\"blank level0\" ></th>        <th class=\"col_heading level0 col0\" >verse</th>        <th class=\"col_heading level0 col1\" >clause</th>        <th class=\"col_heading level0 col2\" >notes</th>    </tr>    <tr>        <th class=\"index_name level0\" >node</th>        <th class=\"blank\" ></th>        <th class=\"blank\" ></th>        <th class=\"blank\" ></th>    </tr></thead><tbody>\n",
       "                <tr>\n",
       "                        <th id=\"T_74a27_level0_row0\" class=\"row_heading level0 row0\" >451834</th>\n",
       "                        <td id=\"T_74a27_row0_col0\" class=\"data row0 col0\" >Judges 6:31</td>\n",
       "                        <td id=\"T_74a27_row0_col1\" class=\"data row0 col1\" >יוּמַ֖ת עַד־הַבֹּ֑קֶר </td>\n",
       "                        <td id=\"T_74a27_row0_col2\" class=\"data row0 col2\" >nan</td>\n",
       "            </tr>\n",
       "            <tr>\n",
       "                        <th id=\"T_74a27_level0_row1\" class=\"row_heading level0 row1\" >454027</th>\n",
       "                        <td id=\"T_74a27_row1_col0\" class=\"data row1 col0\" >1_Samuel 1:20</td>\n",
       "                        <td id=\"T_74a27_row1_col1\" class=\"data row1 col1\" >וַיְהִי֙ לִתְקֻפֹ֣ות הַיָּמִ֔ים </td>\n",
       "                        <td id=\"T_74a27_row1_col2\" class=\"data row1 col2\" >nan</td>\n",
       "            </tr>\n",
       "            <tr>\n",
       "                        <th id=\"T_74a27_level0_row2\" class=\"row_heading level0 row2\" >460083</th>\n",
       "                        <td id=\"T_74a27_row2_col0\" class=\"data row2 col0\" >2_Samuel 17:22</td>\n",
       "                        <td id=\"T_74a27_row2_col1\" class=\"data row2 col1\" >עַד־אֹ֣ור הַבֹּ֗קֶר עַד־אַחַד֙ לֹ֣א נֶעְדָּ֔ר </td>\n",
       "                        <td id=\"T_74a27_row2_col2\" class=\"data row2 col2\" >nan</td>\n",
       "            </tr>\n",
       "            <tr>\n",
       "                        <th id=\"T_74a27_level0_row3\" class=\"row_heading level0 row3\" >508473</th>\n",
       "                        <td id=\"T_74a27_row3_col0\" class=\"data row3 col0\" >Ezra 10:8</td>\n",
       "                        <td id=\"T_74a27_row3_col1\" class=\"data row3 col1\" >אֲשֶׁ֨ר לֹֽא־יָבֹ֜וא לִשְׁלֹ֣שֶׁת הַיָּמִ֗ים כַּעֲצַ֤ת הַשָּׂרִים֙ וְהַזְּקֵנִ֔ים </td>\n",
       "                        <td id=\"T_74a27_row3_col2\" class=\"data row3 col2\" >nan</td>\n",
       "            </tr>\n",
       "            <tr>\n",
       "                        <th id=\"T_74a27_level0_row4\" class=\"row_heading level0 row4\" >508476</th>\n",
       "                        <td id=\"T_74a27_row4_col0\" class=\"data row4 col0\" >Ezra 10:9</td>\n",
       "                        <td id=\"T_74a27_row4_col1\" class=\"data row4 col1\" >וַיִּקָּבְצ֣וּ כָל־אַנְשֵֽׁי־יְהוּדָה֩ וּבִנְיָמִ֨ן׀ יְרוּשָׁלִַ֜ם לִשְׁלֹ֣שֶׁת הַיָּמִ֗ים </td>\n",
       "                        <td id=\"T_74a27_row4_col2\" class=\"data row4 col2\" >nan</td>\n",
       "            </tr>\n",
       "    </tbody></table>"
      ],
      "text/plain": [
       "<pandas.io.formats.style.Styler at 0x7f8a253cd280>"
      ]
     },
     "metadata": {},
     "output_type": "display_data"
    },
    {
     "name": "stdout",
     "output_type": "stream",
     "text": [
      "--------------------------------------------------\n",
      "dist_prospective\n",
      "showing 3 of 3\n"
     ]
    },
    {
     "data": {
      "text/html": [
       "<style  type=\"text/css\" >\n",
       "#T_4aad1_row0_col1,#T_4aad1_row1_col1,#T_4aad1_row2_col1{\n",
       "            font-size: 20px;\n",
       "             font-family:  Times New Roman;\n",
       "             text-align:  right;\n",
       "             max-width:  500px;\n",
       "        }</style><table id=\"T_4aad1_\" ><thead>    <tr>        <th class=\"blank level0\" ></th>        <th class=\"col_heading level0 col0\" >verse</th>        <th class=\"col_heading level0 col1\" >clause</th>        <th class=\"col_heading level0 col2\" >notes</th>    </tr>    <tr>        <th class=\"index_name level0\" >node</th>        <th class=\"blank\" ></th>        <th class=\"blank\" ></th>        <th class=\"blank\" ></th>    </tr></thead><tbody>\n",
       "                <tr>\n",
       "                        <th id=\"T_4aad1_level0_row0\" class=\"row_heading level0 row0\" >459386</th>\n",
       "                        <td id=\"T_4aad1_row0_col0\" class=\"data row0 col0\" >2_Samuel 13:23</td>\n",
       "                        <td id=\"T_4aad1_row0_col1\" class=\"data row0 col1\" >וַֽיְהִי֙ לִשְׁנָתַ֣יִם יָמִ֔ים </td>\n",
       "                        <td id=\"T_4aad1_row0_col2\" class=\"data row0 col2\" >See Haspelmath 37, 98; this is a non-deictic distance with anaphoric reference instead of deictic, which uses B; Hebrew may join those languages which use different preposition markers for non-deictic phrases (i.e. L instead of B)</td>\n",
       "            </tr>\n",
       "            <tr>\n",
       "                        <th id=\"T_4aad1_level0_row1\" class=\"row_heading level0 row1\" >463699</th>\n",
       "                        <td id=\"T_4aad1_row1_col0\" class=\"data row1 col0\" >1_Kings 18:1</td>\n",
       "                        <td id=\"T_4aad1_row1_col1\" class=\"data row1 col1\" >וַיְהִי֙ יָמִ֣ים רַבִּ֔ים </td>\n",
       "                        <td id=\"T_4aad1_row1_col2\" class=\"data row1 col2\" >link:459386</td>\n",
       "            </tr>\n",
       "            <tr>\n",
       "                        <th id=\"T_4aad1_level0_row2\" class=\"row_heading level0 row2\" >470561</th>\n",
       "                        <td id=\"T_4aad1_row2_col0\" class=\"data row2 col0\" >Isaiah 32:10</td>\n",
       "                        <td id=\"T_4aad1_row2_col1\" class=\"data row2 col1\" >יָמִים֙ עַל־שָׁנָ֔ה תִּרְגַּ֖זְנָה </td>\n",
       "                        <td id=\"T_4aad1_row2_col2\" class=\"data row2 col2\" >nan</td>\n",
       "            </tr>\n",
       "    </tbody></table>"
      ],
      "text/plain": [
       "<pandas.io.formats.style.Styler at 0x7f8a253e9820>"
      ]
     },
     "metadata": {},
     "output_type": "display_data"
    },
    {
     "name": "stdout",
     "output_type": "stream",
     "text": [
      "--------------------------------------------------\n",
      "purposive\n",
      "showing 2 of 2\n"
     ]
    },
    {
     "data": {
      "text/html": [
       "<style  type=\"text/css\" >\n",
       "#T_846ff_row0_col1,#T_846ff_row1_col1{\n",
       "            font-size: 20px;\n",
       "             font-family:  Times New Roman;\n",
       "             text-align:  right;\n",
       "             max-width:  500px;\n",
       "        }</style><table id=\"T_846ff_\" ><thead>    <tr>        <th class=\"blank level0\" ></th>        <th class=\"col_heading level0 col0\" >verse</th>        <th class=\"col_heading level0 col1\" >clause</th>        <th class=\"col_heading level0 col2\" >notes</th>    </tr>    <tr>        <th class=\"index_name level0\" >node</th>        <th class=\"blank\" ></th>        <th class=\"blank\" ></th>        <th class=\"blank\" ></th>    </tr></thead><tbody>\n",
       "                <tr>\n",
       "                        <th id=\"T_846ff_level0_row0\" class=\"row_heading level0 row0\" >442095</th>\n",
       "                        <td id=\"T_846ff_row0_col0\" class=\"data row0 col0\" >Numbers 11:18</td>\n",
       "                        <td id=\"T_846ff_row0_col1\" class=\"data row0 col1\" >הִתְקַדְּשׁ֣וּ לְמָחָר֮ </td>\n",
       "                        <td id=\"T_846ff_row0_col2\" class=\"data row0 col2\" >nan</td>\n",
       "            </tr>\n",
       "            <tr>\n",
       "                        <th id=\"T_846ff_level0_row1\" class=\"row_heading level0 row1\" >449367</th>\n",
       "                        <td id=\"T_846ff_row1_col0\" class=\"data row1 col0\" >Joshua 7:13</td>\n",
       "                        <td id=\"T_846ff_row1_col1\" class=\"data row1 col1\" >הִתְקַדְּשׁ֣וּ לְמָחָ֑ר </td>\n",
       "                        <td id=\"T_846ff_row1_col2\" class=\"data row1 col2\" >nan</td>\n",
       "            </tr>\n",
       "    </tbody></table>"
      ],
      "text/plain": [
       "<pandas.io.formats.style.Styler at 0x7f8a253cd3a0>"
      ]
     },
     "metadata": {},
     "output_type": "display_data"
    },
    {
     "name": "stdout",
     "output_type": "stream",
     "text": [
      "--------------------------------------------------\n",
      "anterior_dur_except\n",
      "showing 1 of 1\n"
     ]
    },
    {
     "data": {
      "text/html": [
       "<style  type=\"text/css\" >\n",
       "#T_68c66_row0_col1{\n",
       "            font-size: 20px;\n",
       "             font-family:  Times New Roman;\n",
       "             text-align:  right;\n",
       "             max-width:  500px;\n",
       "        }</style><table id=\"T_68c66_\" ><thead>    <tr>        <th class=\"blank level0\" ></th>        <th class=\"col_heading level0 col0\" >verse</th>        <th class=\"col_heading level0 col1\" >clause</th>        <th class=\"col_heading level0 col2\" >notes</th>    </tr>    <tr>        <th class=\"index_name level0\" >node</th>        <th class=\"blank\" ></th>        <th class=\"blank\" ></th>        <th class=\"blank\" ></th>    </tr></thead><tbody>\n",
       "                <tr>\n",
       "                        <th id=\"T_68c66_level0_row0\" class=\"row_heading level0 row0\" >429462</th>\n",
       "                        <td id=\"T_68c66_row0_col0\" class=\"data row0 col0\" >Genesis 21:26</td>\n",
       "                        <td id=\"T_68c66_row0_col1\" class=\"data row0 col1\" >וְגַ֧ם אָנֹכִ֛י לֹ֥א שָׁמַ֖עְתִּי בִּלְתִּ֥י הַיֹּֽום׃ </td>\n",
       "                        <td id=\"T_68c66_row0_col2\" class=\"data row0 col2\" >See possible link in Haspelmath 1997, 64—when \"not yet\" serves as a source for antdur</td>\n",
       "            </tr>\n",
       "    </tbody></table>"
      ],
      "text/plain": [
       "<pandas.io.formats.style.Styler at 0x7f8a253cdb50>"
      ]
     },
     "metadata": {},
     "output_type": "display_data"
    },
    {
     "name": "stdout",
     "output_type": "stream",
     "text": [
      "--------------------------------------------------\n",
      "posterior_dur_future\n",
      "showing 1 of 1\n"
     ]
    },
    {
     "data": {
      "text/html": [
       "<style  type=\"text/css\" >\n",
       "#T_afbf8_row0_col1{\n",
       "            font-size: 20px;\n",
       "             font-family:  Times New Roman;\n",
       "             text-align:  right;\n",
       "             max-width:  500px;\n",
       "        }</style><table id=\"T_afbf8_\" ><thead>    <tr>        <th class=\"blank level0\" ></th>        <th class=\"col_heading level0 col0\" >verse</th>        <th class=\"col_heading level0 col1\" >clause</th>        <th class=\"col_heading level0 col2\" >notes</th>    </tr>    <tr>        <th class=\"index_name level0\" >node</th>        <th class=\"blank\" ></th>        <th class=\"blank\" ></th>        <th class=\"blank\" ></th>    </tr></thead><tbody>\n",
       "                <tr>\n",
       "                        <th id=\"T_afbf8_level0_row0\" class=\"row_heading level0 row0\" >457274</th>\n",
       "                        <td id=\"T_afbf8_row0_col0\" class=\"data row0 col0\" >1_Samuel 25:28</td>\n",
       "                        <td id=\"T_afbf8_row0_col1\" class=\"data row0 col1\" >וְרָעָ֛ה לֹא־תִמָּצֵ֥א בְךָ֖ מִיָּמֶֽיךָ׃ </td>\n",
       "                        <td id=\"T_afbf8_row0_col2\" class=\"data row0 col2\" >nan</td>\n",
       "            </tr>\n",
       "    </tbody></table>"
      ],
      "text/plain": [
       "<pandas.io.formats.style.Styler at 0x7f8a253e9910>"
      ]
     },
     "metadata": {},
     "output_type": "display_data"
    },
    {
     "name": "stdout",
     "output_type": "stream",
     "text": [
      "--------------------------------------------------\n",
      "posterior_dist\n",
      "showing 1 of 1\n"
     ]
    },
    {
     "data": {
      "text/html": [
       "<style  type=\"text/css\" >\n",
       "#T_0642e_row0_col1{\n",
       "            font-size: 20px;\n",
       "             font-family:  Times New Roman;\n",
       "             text-align:  right;\n",
       "             max-width:  500px;\n",
       "        }</style><table id=\"T_0642e_\" ><thead>    <tr>        <th class=\"blank level0\" ></th>        <th class=\"col_heading level0 col0\" >verse</th>        <th class=\"col_heading level0 col1\" >clause</th>        <th class=\"col_heading level0 col2\" >notes</th>    </tr>    <tr>        <th class=\"index_name level0\" >node</th>        <th class=\"blank\" ></th>        <th class=\"blank\" ></th>        <th class=\"blank\" ></th>    </tr></thead><tbody>\n",
       "                <tr>\n",
       "                        <th id=\"T_0642e_level0_row0\" class=\"row_heading level0 row0\" >428448</th>\n",
       "                        <td id=\"T_0642e_row0_col0\" class=\"data row0 col0\" >Genesis 11:10</td>\n",
       "                        <td id=\"T_0642e_row0_col1\" class=\"data row0 col1\" >וַיֹּ֖ולֶד אֶת־אַרְפַּכְשָׁ֑ד שְׁנָתַ֖יִם אַחַ֥ר הַמַּבּֽוּל׃ </td>\n",
       "                        <td id=\"T_0642e_row0_col2\" class=\"data row0 col2\" >nan</td>\n",
       "            </tr>\n",
       "    </tbody></table>"
      ],
      "text/plain": [
       "<pandas.io.formats.style.Styler at 0x7f8a253e35b0>"
      ]
     },
     "metadata": {},
     "output_type": "display_data"
    },
    {
     "name": "stdout",
     "output_type": "stream",
     "text": [
      "--------------------------------------------------\n"
     ]
    }
   ],
   "source": [
    "funct2names = {\n",
    "    'purposive_ext':['purpext', 'Purposive Extent'],\n",
    "    'regular_recurrence': ['regrec', 'Regular Recurrence'],\n",
    "    'anterior_dur_purposive': ['antdurpurp', 'Anterior Durative Purposive'],\n",
    "    'dist_posterior': ['distpost', 'Distance Posterior'],\n",
    "    'anterior_limitive': ['antlimit', 'Anterior Limitive'],\n",
    "    'dist_prospective': ['distprosp', 'Distance Prospective'],\n",
    "    'purposive': ['purp', 'Purposive'],\n",
    "    'anterior_dur_except': ['antdurex', 'Anterior Durative with \"Except\"'],\n",
    "    'posterior_dur_future': ['postdurfut', 'Posterior Durative Future'],\n",
    "    'posterior_dist': ['postdist', 'Posterior Distance']\n",
    "}\n",
    "\n",
    "# automatically show examples\n",
    "for funct in funct2names:\n",
    "    exdf = df[df.function == funct].sort_values(by='notes').head(10)\n",
    "    print(funct)\n",
    "    display(\n",
    "        ts.show(exdf, extra=['notes'], spread=-1)\n",
    "    )\n",
    "    print('-'*50)"
   ]
  },
  {
   "cell_type": "markdown",
   "metadata": {},
   "source": [
    "# Difficult Cases"
   ]
  },
  {
   "cell_type": "code",
   "execution_count": null,
   "metadata": {},
   "outputs": [],
   "source": []
  },
  {
   "cell_type": "markdown",
   "metadata": {},
   "source": [
    "# Compound Time Adverbials"
   ]
  },
  {
   "cell_type": "code",
   "execution_count": 7,
   "metadata": {},
   "outputs": [
    {
     "data": {
      "text/plain": [
       "begin_to_end                                 55\n",
       "simultaneous + atelic_ext                    24\n",
       "multi_simuls                                 18\n",
       "begin_to_end_habitual                         6\n",
       "simul_to_end                                  6\n",
       "dur_to_end                                    5\n",
       "atelic_ext + simultaneous                     4\n",
       "multi_antdur                                  4\n",
       "posterior + atelic_ext                        4\n",
       "posterior_simul                               3\n",
       "habitual + begin_to_end                       2\n",
       "anterior_dur + duration                       2\n",
       "multi_posterior_dur                           2\n",
       "posterior_dur + begin_to_end + atelic_ext     1\n",
       "begin_to_end + multi_antdur                   1\n",
       "simultaneous + anterior_limitive?             1\n",
       "simultaneous + dist_posterior                 1\n",
       "simultaneous + posterior                      1\n",
       "simultaneous + anterior                       1\n",
       "anterior_dist                                 1\n",
       "simultaneous + purposive_ext                  1\n",
       "simul_posts                                   1\n",
       "atelic_ext + habitual                         1\n",
       "habitual, multi_simul                         1\n",
       "distfut_ext                                   1\n",
       "reg_recurr + atelic_ext                       1\n",
       "simultaneous + multi_begin_to_end             1\n",
       "atelic_ext + anterior + atelic_ext            1\n",
       "multi_atelic_ext                              1\n",
       "anterior + posterior                          1\n",
       "simultaneous + anterior_dist                  1\n",
       "anterior_dur + anterior                       1\n",
       "simul_posterior                               1\n",
       "anterior_ext                                  1\n",
       "Name: function, dtype: int64"
      ]
     },
     "execution_count": 7,
     "metadata": {},
     "output_type": "execute_result"
    }
   ],
   "source": [
    "df[df.funct_type == 'compound'].function.value_counts()"
   ]
  },
  {
   "cell_type": "code",
   "execution_count": 8,
   "metadata": {},
   "outputs": [
    {
     "name": "stdout",
     "output_type": "stream",
     "text": [
      "showing 4 of 4\n"
     ]
    },
    {
     "data": {
      "text/html": [
       "<style  type=\"text/css\" >\n",
       "#T_f7ec8_row0_col1,#T_f7ec8_row1_col1,#T_f7ec8_row2_col1,#T_f7ec8_row3_col1{\n",
       "            font-size: 20px;\n",
       "             font-family:  Times New Roman;\n",
       "             text-align:  right;\n",
       "             max-width:  500px;\n",
       "        }</style><table id=\"T_f7ec8_\" ><thead>    <tr>        <th class=\"blank level0\" ></th>        <th class=\"col_heading level0 col0\" >verse</th>        <th class=\"col_heading level0 col1\" >clause</th>    </tr>    <tr>        <th class=\"index_name level0\" >node</th>        <th class=\"blank\" ></th>        <th class=\"blank\" ></th>    </tr></thead><tbody>\n",
       "                <tr>\n",
       "                        <th id=\"T_f7ec8_level0_row0\" class=\"row_heading level0 row0\" >428349</th>\n",
       "                        <td id=\"T_f7ec8_row0_col0\" class=\"data row0 col0\" >Genesis 9:28</td>\n",
       "                        <td id=\"T_f7ec8_row0_col1\" class=\"data row0 col1\" >וַֽיְחִי־נֹ֖חַ אַחַ֣ר הַמַּבּ֑וּל שְׁלֹ֤שׁ מֵאֹות֙ שָׁנָ֔ה וַֽחֲמִשִּׁ֖ים שָׁנָֽה׃ </td>\n",
       "            </tr>\n",
       "            <tr>\n",
       "                        <th id=\"T_f7ec8_level0_row1\" class=\"row_heading level0 row1\" >466784</th>\n",
       "                        <td id=\"T_f7ec8_row1_col0\" class=\"data row1 col0\" >2_Kings 14:17</td>\n",
       "                        <td id=\"T_f7ec8_row1_col1\" class=\"data row1 col1\" >וַיְחִ֨י אֲמַצְיָ֤הוּ בֶן־יֹואָשׁ֙ מֶ֣לֶךְ יְהוּדָ֔ה אַֽחֲרֵ֣י מֹ֔ות יְהֹואָ֥שׁ בֶּן־יְהֹֽואָחָ֖ז מֶ֣לֶךְ יִשְׂרָאֵ֑ל חֲמֵ֥שׁ עֶשְׂרֵ֖ה שָׁנָֽה׃ </td>\n",
       "            </tr>\n",
       "            <tr>\n",
       "                        <th id=\"T_f7ec8_level0_row2\" class=\"row_heading level0 row2\" >500432</th>\n",
       "                        <td id=\"T_f7ec8_row2_col0\" class=\"data row2 col0\" >Job 42:16</td>\n",
       "                        <td id=\"T_f7ec8_row2_col1\" class=\"data row2 col1\" >וַיְחִ֤י אִיֹּוב֙ אַֽחֲרֵי־זֹ֔את מֵאָ֥ה וְאַרְבָּעִ֖ים שָׁנָ֑ה </td>\n",
       "            </tr>\n",
       "            <tr>\n",
       "                        <th id=\"T_f7ec8_level0_row3\" class=\"row_heading level0 row3\" >514546</th>\n",
       "                        <td id=\"T_f7ec8_row3_col0\" class=\"data row3 col0\" >2_Chronicles 25:25</td>\n",
       "                        <td id=\"T_f7ec8_row3_col1\" class=\"data row3 col1\" >וַיְחִ֨י אֲמַצְיָ֤הוּ בֶן־יֹואָשׁ֙ מֶ֣לֶךְ יְהוּדָ֔ה אַחֲרֵ֣י מֹ֔ות יֹואָ֥שׁ בֶּן־יְהֹואָחָ֖ז מֶ֣לֶךְ יִשְׂרָאֵ֑ל חֲמֵ֥שׁ עֶשְׂרֵ֖ה שָׁנָֽה׃ </td>\n",
       "            </tr>\n",
       "    </tbody></table>"
      ],
      "text/plain": [
       "<pandas.io.formats.style.Styler at 0x7f8a286643d0>"
      ]
     },
     "execution_count": 8,
     "metadata": {},
     "output_type": "execute_result"
    }
   ],
   "source": [
    "ts.show(\n",
    "    df[\n",
    "        (df.funct_type == 'compound')\n",
    "        & (df.function == 'posterior + atelic_ext')\n",
    "    ]\n",
    ")"
   ]
  },
  {
   "cell_type": "code",
   "execution_count": 11,
   "metadata": {},
   "outputs": [
    {
     "name": "stdout",
     "output_type": "stream",
     "text": [
      "showing 1 of 1\n"
     ]
    },
    {
     "data": {
      "text/html": [
       "<style  type=\"text/css\" >\n",
       "#T_bec75_row0_col1{\n",
       "            font-size: 20px;\n",
       "             font-family:  Times New Roman;\n",
       "             text-align:  right;\n",
       "             max-width:  500px;\n",
       "        }</style><table id=\"T_bec75_\" ><thead>    <tr>        <th class=\"blank level0\" ></th>        <th class=\"col_heading level0 col0\" >verse</th>        <th class=\"col_heading level0 col1\" >clause</th>        <th class=\"col_heading level0 col2\" >notes</th>    </tr>    <tr>        <th class=\"index_name level0\" >node</th>        <th class=\"blank\" ></th>        <th class=\"blank\" ></th>        <th class=\"blank\" ></th>    </tr></thead><tbody>\n",
       "                <tr>\n",
       "                        <th id=\"T_bec75_level0_row0\" class=\"row_heading level0 row0\" >470739</th>\n",
       "                        <td id=\"T_bec75_row0_col0\" class=\"data row0 col0\" >Isaiah 34:10</td>\n",
       "                        <td id=\"T_bec75_row0_col1\" class=\"data row0 col1\" >לַ֤יְלָה וְיֹומָם֙ לֹ֣א תִכְבֶּ֔ה </td>\n",
       "                        <td id=\"T_bec75_row0_col2\" class=\"data row0 col2\" >On analogy with distance-posterior; Since no distance is used, might better be classified as anterior_ext</td>\n",
       "            </tr>\n",
       "    </tbody></table>"
      ],
      "text/plain": [
       "<pandas.io.formats.style.Styler at 0x7f8a28664700>"
      ]
     },
     "execution_count": 11,
     "metadata": {},
     "output_type": "execute_result"
    }
   ],
   "source": [
    "ts.show(\n",
    "    df[\n",
    "        (df.function == 'anterior_ext')\n",
    "    ],\n",
    "extra=['notes'])"
   ]
  },
  {
   "cell_type": "code",
   "execution_count": null,
   "metadata": {},
   "outputs": [],
   "source": []
  }
 ],
 "metadata": {
  "kernelspec": {
   "display_name": "Python 3",
   "language": "python",
   "name": "python3"
  },
  "language_info": {
   "codemirror_mode": {
    "name": "ipython",
    "version": 3
   },
   "file_extension": ".py",
   "mimetype": "text/x-python",
   "name": "python",
   "nbconvert_exporter": "python",
   "pygments_lexer": "ipython3",
   "version": "3.8.5"
  }
 },
 "nbformat": 4,
 "nbformat_minor": 4
}
