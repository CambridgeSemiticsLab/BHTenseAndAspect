{
 "cells": [
  {
   "cell_type": "markdown",
   "metadata": {},
   "source": [
    "# Semantic Function Species (part 2)"
   ]
  },
  {
   "cell_type": "code",
   "execution_count": 1,
   "metadata": {},
   "outputs": [],
   "source": [
    "from scripts.imports import *\n",
    "\n",
    "out = Exporter(\n",
    "    paths['outdir'], \n",
    "    'semantics'\n",
    ")"
   ]
  },
  {
   "cell_type": "code",
   "execution_count": 2,
   "metadata": {},
   "outputs": [],
   "source": [
    "from IPython.display import HTML, display"
   ]
  },
  {
   "cell_type": "code",
   "execution_count": 3,
   "metadata": {},
   "outputs": [
    {
     "data": {
      "text/plain": [
       "Index(['verse', 'book', 'booksuper', 'canon_part', 'period', 'times_etcbc',\n",
       "       'times_utf8', 'times_utf8d', 'times_POS', 'TA Heads', 'lex_str',\n",
       "       'pdp_str', 'head_utf8', 'funct_type', 'function', 'quality', 'name',\n",
       "       'text', 'n_times', 'n_slots', 'lex_token', 'is_advb', 'tense', 'firstw',\n",
       "       'genre', 'domain', 'gendom', 'clause', 'sentence', 'cl_rela', 'cl_type',\n",
       "       'cl_kind', 'verb', 'verb_etcbc', 'verb_utf8', 'verb_text', 'verbform',\n",
       "       'verb_stem', 'cl_args', 'has_objc', 'has_cmpl', 'has_subj', 'has_oc',\n",
       "       'Time Position', 'cl_type2', 'cl_nsuccs', 'cl_clust50', 'cl_clust10',\n",
       "       'verbtense', 'vt_order', 'PP', 'unmodified', 'modtag', 'modtag2',\n",
       "       'front', 'ph_type', 'has_time', 'notes', 'main_genre', 'APPO', 'DEF',\n",
       "       'ORDN', 'ØPP', 'GP', 'QUANT', 'PL', 'NUM', 'PARA', 'DEMON',\n",
       "       'demon_type', 'ADJV', 'TIMEAPPO', 'SPEC', 'SFX3', 'SFX', 'DU', 'SFX1',\n",
       "       'reg_group', 'SFX2', 'ADVB', 'CARDC'],\n",
       "      dtype='object')"
      ]
     },
     "execution_count": 3,
     "metadata": {},
     "output_type": "execute_result"
    }
   ],
   "source": [
    "df.columns"
   ]
  },
  {
   "cell_type": "code",
   "execution_count": 4,
   "metadata": {},
   "outputs": [
    {
     "data": {
      "text/plain": [
       "(3648, 81)"
      ]
     },
     "execution_count": 4,
     "metadata": {},
     "output_type": "execute_result"
    }
   ],
   "source": [
    "df.shape"
   ]
  },
  {
   "cell_type": "markdown",
   "metadata": {},
   "source": [
    "# Miscellaneous Functions"
   ]
  },
  {
   "cell_type": "code",
   "execution_count": 5,
   "metadata": {},
   "outputs": [
    {
     "data": {
      "text/plain": [
       "purposive_ext               34\n",
       "dist_posterior               6\n",
       "anterior_limitive            4\n",
       "purposive                    2\n",
       "dist_prospective             2\n",
       "atelic_ext, simultaneous     1\n",
       "posterior_dur_future         1\n",
       "posterior, posterior_dur     1\n",
       "anterior_dur_except          1\n",
       "Name: function, dtype: int64"
      ]
     },
     "execution_count": 5,
     "metadata": {},
     "output_type": "execute_result"
    }
   ],
   "source": [
    "df[df.funct_type == 'secondary'].function.value_counts()"
   ]
  },
  {
   "cell_type": "code",
   "execution_count": 6,
   "metadata": {},
   "outputs": [
    {
     "name": "stdout",
     "output_type": "stream",
     "text": [
      "purposive_ext\n",
      "showing 10 of 10\n"
     ]
    },
    {
     "data": {
      "text/html": [
       "<style  type=\"text/css\" >\n",
       "#T_3bf37_row0_col1,#T_3bf37_row1_col1,#T_3bf37_row2_col1,#T_3bf37_row3_col1,#T_3bf37_row4_col1,#T_3bf37_row5_col1,#T_3bf37_row6_col1,#T_3bf37_row7_col1,#T_3bf37_row8_col1,#T_3bf37_row9_col1{\n",
       "            font-size: 20px;\n",
       "             font-family:  Times New Roman;\n",
       "             text-align:  right;\n",
       "             max-width:  500px;\n",
       "        }</style><table id=\"T_3bf37_\" ><thead>    <tr>        <th class=\"blank level0\" ></th>        <th class=\"col_heading level0 col0\" >verse</th>        <th class=\"col_heading level0 col1\" >clause</th>        <th class=\"col_heading level0 col2\" >notes</th>    </tr>    <tr>        <th class=\"index_name level0\" >node</th>        <th class=\"blank\" ></th>        <th class=\"blank\" ></th>        <th class=\"blank\" ></th>    </tr></thead><tbody>\n",
       "                <tr>\n",
       "                        <th id=\"T_3bf37_level0_row0\" class=\"row_heading level0 row0\" >466003</th>\n",
       "                        <td id=\"T_3bf37_row0_col0\" class=\"data row0 col0\" >2_Kings 8:19</td>\n",
       "                        <td id=\"T_3bf37_row0_col1\" class=\"data row0 col1\" >לְבָנָ֖יו כָּל־הַיָּמִֽים׃ </td>\n",
       "                        <td id=\"T_3bf37_row0_col2\" class=\"data row0 col2\" >!clause</td>\n",
       "            </tr>\n",
       "            <tr>\n",
       "                        <th id=\"T_3bf37_level0_row1\" class=\"row_heading level0 row1\" >514102</th>\n",
       "                        <td id=\"T_3bf37_row1_col0\" class=\"data row1 col0\" >2_Chronicles 21:7</td>\n",
       "                        <td id=\"T_3bf37_row1_col1\" class=\"data row1 col1\" >וּלְבָנָ֖יו כָּל־הַיָּמִֽים׃ </td>\n",
       "                        <td id=\"T_3bf37_row1_col2\" class=\"data row1 col2\" >!clause</td>\n",
       "            </tr>\n",
       "            <tr>\n",
       "                        <th id=\"T_3bf37_level0_row2\" class=\"row_heading level0 row2\" >484481</th>\n",
       "                        <td id=\"T_3bf37_row2_col0\" class=\"data row2 col0\" >Ezekiel 39:12</td>\n",
       "                        <td id=\"T_3bf37_row2_col1\" class=\"data row2 col1\" >לְמַ֖עַן טַהֵ֣ר אֶת־הָאָ֑רֶץ שִׁבְעָ֖ה חֳדָשִֽׁים׃ </td>\n",
       "                        <td id=\"T_3bf37_row2_col2\" class=\"data row2 col2\" >ESV disagrees with clause break here</td>\n",
       "            </tr>\n",
       "            <tr>\n",
       "                        <th id=\"T_3bf37_level0_row3\" class=\"row_heading level0 row3\" >463541</th>\n",
       "                        <td id=\"T_3bf37_row3_col0\" class=\"data row3 col0\" >1_Kings 16:23</td>\n",
       "                        <td id=\"T_3bf37_row3_col1\" class=\"data row3 col1\" >בְּתִרְצָ֖ה מָלַ֥ךְ שֵׁשׁ־שָׁנִֽים׃ </td>\n",
       "                        <td id=\"T_3bf37_row3_col2\" class=\"data row3 col2\" >This example may shed light on the cx of \"anterior_dur_purposive and the like; i.e. a point with a duration at the end\" </td>\n",
       "            </tr>\n",
       "            <tr>\n",
       "                        <th id=\"T_3bf37_level0_row4\" class=\"row_heading level0 row4\" >432263</th>\n",
       "                        <td id=\"T_3bf37_row4_col0\" class=\"data row4 col0\" >Genesis 41:36</td>\n",
       "                        <td id=\"T_3bf37_row4_col1\" class=\"data row4 col1\" >וְהָיָ֨ה הָאֹ֤כֶל לְפִקָּדֹון֙ לָאָ֔רֶץ לְשֶׁ֨בַע֙ שְׁנֵ֣י הָרָעָ֔ב </td>\n",
       "                        <td id=\"T_3bf37_row4_col2\" class=\"data row4 col2\" >the atelicity of the verb here might distinguish it from the purposive extent (Haspelmath 48); but it is a hard call; in the end I rely on the modal sense of the verb; extent can be derived from the benefactive sense of L: Hasplemath 1997, 128; BHRG 351; another option could be the purdurative, \"throughout\" (see NET); LXX εις; NET throughout; Segond pour</td>\n",
       "            </tr>\n",
       "            <tr>\n",
       "                        <th id=\"T_3bf37_level0_row5\" class=\"row_heading level0 row5\" >438983</th>\n",
       "                        <td id=\"T_3bf37_row5_col0\" class=\"data row5 col0\" >Leviticus 13:5</td>\n",
       "                        <td id=\"T_3bf37_row5_col1\" class=\"data row5 col1\" >וְהִסְגִּירֹ֧ו הַכֹּהֵ֛ן שִׁבְעַ֥ת יָמִ֖ים שֵׁנִֽית׃ </td>\n",
       "                        <td id=\"T_3bf37_row5_col2\" class=\"data row5 col2\" >nan</td>\n",
       "            </tr>\n",
       "            <tr>\n",
       "                        <th id=\"T_3bf37_level0_row6\" class=\"row_heading level0 row6\" >439051</th>\n",
       "                        <td id=\"T_3bf37_row6_col0\" class=\"data row6 col0\" >Leviticus 13:21</td>\n",
       "                        <td id=\"T_3bf37_row6_col1\" class=\"data row6 col1\" >וְהִסְגִּירֹ֥ו הַכֹּהֵ֖ן שִׁבְעַ֥ת יָמִֽים׃ </td>\n",
       "                        <td id=\"T_3bf37_row6_col2\" class=\"data row6 col2\" >nan</td>\n",
       "            </tr>\n",
       "            <tr>\n",
       "                        <th id=\"T_3bf37_level0_row7\" class=\"row_heading level0 row7\" >439075</th>\n",
       "                        <td id=\"T_3bf37_row7_col0\" class=\"data row7 col0\" >Leviticus 13:26</td>\n",
       "                        <td id=\"T_3bf37_row7_col1\" class=\"data row7 col1\" >וְהִסְגִּירֹ֥ו הַכֹּהֵ֖ן שִׁבְעַ֥ת יָמִֽים׃ </td>\n",
       "                        <td id=\"T_3bf37_row7_col2\" class=\"data row7 col2\" >nan</td>\n",
       "            </tr>\n",
       "            <tr>\n",
       "                        <th id=\"T_3bf37_level0_row8\" class=\"row_heading level0 row8\" >439099</th>\n",
       "                        <td id=\"T_3bf37_row8_col0\" class=\"data row8 col0\" >Leviticus 13:31</td>\n",
       "                        <td id=\"T_3bf37_row8_col1\" class=\"data row8 col1\" >וְהִסְגִּ֧יר הַכֹּהֵ֛ן אֶת־נֶ֥גַע הַנֶּ֖תֶק שִׁבְעַ֥ת יָמִֽים׃ </td>\n",
       "                        <td id=\"T_3bf37_row8_col2\" class=\"data row8 col2\" >nan</td>\n",
       "            </tr>\n",
       "            <tr>\n",
       "                        <th id=\"T_3bf37_level0_row9\" class=\"row_heading level0 row9\" >439107</th>\n",
       "                        <td id=\"T_3bf37_row9_col0\" class=\"data row9 col0\" >Leviticus 13:33</td>\n",
       "                        <td id=\"T_3bf37_row9_col1\" class=\"data row9 col1\" >וְהִסְגִּ֨יר הַכֹּהֵ֧ן אֶת־הַנֶּ֛תֶק שִׁבְעַ֥ת יָמִ֖ים שֵׁנִֽית׃ </td>\n",
       "                        <td id=\"T_3bf37_row9_col2\" class=\"data row9 col2\" >nan</td>\n",
       "            </tr>\n",
       "    </tbody></table>"
      ],
      "text/plain": [
       "<pandas.io.formats.style.Styler at 0x7fa2986f19a0>"
      ]
     },
     "metadata": {},
     "output_type": "display_data"
    },
    {
     "name": "stdout",
     "output_type": "stream",
     "text": [
      "--------------------------------------------------\n",
      "dist_posterior\n",
      "showing 6 of 6\n"
     ]
    },
    {
     "data": {
      "text/html": [
       "<style  type=\"text/css\" >\n",
       "#T_878ec_row0_col1,#T_878ec_row1_col1,#T_878ec_row2_col1,#T_878ec_row3_col1,#T_878ec_row4_col1,#T_878ec_row5_col1{\n",
       "            font-size: 20px;\n",
       "             font-family:  Times New Roman;\n",
       "             text-align:  right;\n",
       "             max-width:  500px;\n",
       "        }</style><table id=\"T_878ec_\" ><thead>    <tr>        <th class=\"blank level0\" ></th>        <th class=\"col_heading level0 col0\" >verse</th>        <th class=\"col_heading level0 col1\" >clause</th>        <th class=\"col_heading level0 col2\" >notes</th>    </tr>    <tr>        <th class=\"index_name level0\" >node</th>        <th class=\"blank\" ></th>        <th class=\"blank\" ></th>        <th class=\"blank\" ></th>    </tr></thead><tbody>\n",
       "                <tr>\n",
       "                        <th id=\"T_878ec_level0_row0\" class=\"row_heading level0 row0\" >457809</th>\n",
       "                        <td id=\"T_878ec_row0_col0\" class=\"data row0 col0\" >1_Samuel 30:12</td>\n",
       "                        <td id=\"T_878ec_row0_col1\" class=\"data row0 col1\" >וְלֹא־שָׁ֣תָה מַ֔יִם שְׁלֹשָׁ֥ה יָמִ֖ים וּשְׁלֹשָׁ֥ה לֵילֹֽות׃ ס </td>\n",
       "                        <td id=\"T_878ec_row0_col2\" class=\"data row0 col2\" >nan</td>\n",
       "            </tr>\n",
       "            <tr>\n",
       "                        <th id=\"T_878ec_level0_row1\" class=\"row_heading level0 row1\" >463357</th>\n",
       "                        <td id=\"T_878ec_row1_col0\" class=\"data row1 col0\" >1_Kings 15:5</td>\n",
       "                        <td id=\"T_878ec_row1_col1\" class=\"data row1 col1\" >וְלֹֽא־סָ֞ר מִכֹּ֣ל כֹּ֚ל יְמֵ֣י חַיָּ֔יו </td>\n",
       "                        <td id=\"T_878ec_row1_col2\" class=\"data row1 col2\" >nan</td>\n",
       "            </tr>\n",
       "            <tr>\n",
       "                        <th id=\"T_878ec_level0_row2\" class=\"row_heading level0 row2\" >474066</th>\n",
       "                        <td id=\"T_878ec_row2_col0\" class=\"data row2 col0\" >Jeremiah 2:32</td>\n",
       "                        <td id=\"T_878ec_row2_col1\" class=\"data row2 col1\" >וְעַמִּ֣י שְׁכֵח֔וּנִי יָמִ֖ים </td>\n",
       "                        <td id=\"T_878ec_row2_col2\" class=\"data row2 col2\" >nan</td>\n",
       "            </tr>\n",
       "            <tr>\n",
       "                        <th id=\"T_878ec_level0_row3\" class=\"row_heading level0 row3\" >492838</th>\n",
       "                        <td id=\"T_878ec_row3_col0\" class=\"data row3 col0\" >Psalms 55:20</td>\n",
       "                        <td id=\"T_878ec_row3_col1\" class=\"data row3 col1\" >וְיֹ֤שֵׁ֥ב קֶ֗דֶם </td>\n",
       "                        <td id=\"T_878ec_row3_col2\" class=\"data row3 col2\" >nan</td>\n",
       "            </tr>\n",
       "            <tr>\n",
       "                        <th id=\"T_878ec_level0_row4\" class=\"row_heading level0 row4\" >493817</th>\n",
       "                        <td id=\"T_878ec_row4_col0\" class=\"data row4 col0\" >Psalms 74:2</td>\n",
       "                        <td id=\"T_878ec_row4_col1\" class=\"data row4 col1\" >קָ֘נִ֤יתָ קֶּ֗דֶם </td>\n",
       "                        <td id=\"T_878ec_row4_col2\" class=\"data row4 col2\" >nan</td>\n",
       "            </tr>\n",
       "            <tr>\n",
       "                        <th id=\"T_878ec_level0_row5\" class=\"row_heading level0 row5\" >505558</th>\n",
       "                        <td id=\"T_878ec_row5_col0\" class=\"data row5 col0\" >Esther 4:11</td>\n",
       "                        <td id=\"T_878ec_row5_col1\" class=\"data row5 col1\" >וַאֲנִ֗י לֹ֤א נִקְרֵ֨אתִי֙ זֶ֖ה שְׁלֹושִׁ֥ים יֹֽום׃ </td>\n",
       "                        <td id=\"T_878ec_row5_col2\" class=\"data row5 col2\" >nan</td>\n",
       "            </tr>\n",
       "    </tbody></table>"
      ],
      "text/plain": [
       "<pandas.io.formats.style.Styler at 0x7fa298b35760>"
      ]
     },
     "metadata": {},
     "output_type": "display_data"
    },
    {
     "name": "stdout",
     "output_type": "stream",
     "text": [
      "--------------------------------------------------\n",
      "anterior_limitive\n",
      "showing 4 of 4\n"
     ]
    },
    {
     "data": {
      "text/html": [
       "<style  type=\"text/css\" >\n",
       "#T_51b58_row0_col1,#T_51b58_row1_col1,#T_51b58_row2_col1,#T_51b58_row3_col1{\n",
       "            font-size: 20px;\n",
       "             font-family:  Times New Roman;\n",
       "             text-align:  right;\n",
       "             max-width:  500px;\n",
       "        }</style><table id=\"T_51b58_\" ><thead>    <tr>        <th class=\"blank level0\" ></th>        <th class=\"col_heading level0 col0\" >verse</th>        <th class=\"col_heading level0 col1\" >clause</th>        <th class=\"col_heading level0 col2\" >notes</th>    </tr>    <tr>        <th class=\"index_name level0\" >node</th>        <th class=\"blank\" ></th>        <th class=\"blank\" ></th>        <th class=\"blank\" ></th>    </tr></thead><tbody>\n",
       "                <tr>\n",
       "                        <th id=\"T_51b58_level0_row0\" class=\"row_heading level0 row0\" >451834</th>\n",
       "                        <td id=\"T_51b58_row0_col0\" class=\"data row0 col0\" >Judges 6:31</td>\n",
       "                        <td id=\"T_51b58_row0_col1\" class=\"data row0 col1\" >יוּמַ֖ת עַד־הַבֹּ֑קֶר </td>\n",
       "                        <td id=\"T_51b58_row0_col2\" class=\"data row0 col2\" >nan</td>\n",
       "            </tr>\n",
       "            <tr>\n",
       "                        <th id=\"T_51b58_level0_row1\" class=\"row_heading level0 row1\" >460083</th>\n",
       "                        <td id=\"T_51b58_row1_col0\" class=\"data row1 col0\" >2_Samuel 17:22</td>\n",
       "                        <td id=\"T_51b58_row1_col1\" class=\"data row1 col1\" >עַד־אֹ֣ור הַבֹּ֗קֶר עַד־אַחַד֙ לֹ֣א נֶעְדָּ֔ר </td>\n",
       "                        <td id=\"T_51b58_row1_col2\" class=\"data row1 col2\" >nan</td>\n",
       "            </tr>\n",
       "            <tr>\n",
       "                        <th id=\"T_51b58_level0_row2\" class=\"row_heading level0 row2\" >508473</th>\n",
       "                        <td id=\"T_51b58_row2_col0\" class=\"data row2 col0\" >Ezra 10:8</td>\n",
       "                        <td id=\"T_51b58_row2_col1\" class=\"data row2 col1\" >אֲשֶׁ֨ר לֹֽא־יָבֹ֜וא לִשְׁלֹ֣שֶׁת הַיָּמִ֗ים כַּעֲצַ֤ת הַשָּׂרִים֙ וְהַזְּקֵנִ֔ים </td>\n",
       "                        <td id=\"T_51b58_row2_col2\" class=\"data row2 col2\" >nan</td>\n",
       "            </tr>\n",
       "            <tr>\n",
       "                        <th id=\"T_51b58_level0_row3\" class=\"row_heading level0 row3\" >508476</th>\n",
       "                        <td id=\"T_51b58_row3_col0\" class=\"data row3 col0\" >Ezra 10:9</td>\n",
       "                        <td id=\"T_51b58_row3_col1\" class=\"data row3 col1\" >וַיִּקָּבְצ֣וּ כָל־אַנְשֵֽׁי־יְהוּדָה֩ וּבִנְיָמִ֨ן׀ יְרוּשָׁלִַ֜ם לִשְׁלֹ֣שֶׁת הַיָּמִ֗ים </td>\n",
       "                        <td id=\"T_51b58_row3_col2\" class=\"data row3 col2\" >nan</td>\n",
       "            </tr>\n",
       "    </tbody></table>"
      ],
      "text/plain": [
       "<pandas.io.formats.style.Styler at 0x7fa299ec7520>"
      ]
     },
     "metadata": {},
     "output_type": "display_data"
    },
    {
     "name": "stdout",
     "output_type": "stream",
     "text": [
      "--------------------------------------------------\n",
      "dist_prospective\n",
      "showing 2 of 2\n"
     ]
    },
    {
     "data": {
      "text/html": [
       "<style  type=\"text/css\" >\n",
       "#T_d48be_row0_col1,#T_d48be_row1_col1{\n",
       "            font-size: 20px;\n",
       "             font-family:  Times New Roman;\n",
       "             text-align:  right;\n",
       "             max-width:  500px;\n",
       "        }</style><table id=\"T_d48be_\" ><thead>    <tr>        <th class=\"blank level0\" ></th>        <th class=\"col_heading level0 col0\" >verse</th>        <th class=\"col_heading level0 col1\" >clause</th>        <th class=\"col_heading level0 col2\" >notes</th>    </tr>    <tr>        <th class=\"index_name level0\" >node</th>        <th class=\"blank\" ></th>        <th class=\"blank\" ></th>        <th class=\"blank\" ></th>    </tr></thead><tbody>\n",
       "                <tr>\n",
       "                        <th id=\"T_d48be_level0_row0\" class=\"row_heading level0 row0\" >459386</th>\n",
       "                        <td id=\"T_d48be_row0_col0\" class=\"data row0 col0\" >2_Samuel 13:23</td>\n",
       "                        <td id=\"T_d48be_row0_col1\" class=\"data row0 col1\" >וַֽיְהִי֙ לִשְׁנָתַ֣יִם יָמִ֔ים </td>\n",
       "                        <td id=\"T_d48be_row0_col2\" class=\"data row0 col2\" >See Haspelmath 37, 98; this is a non-deictic distance with anaphoric reference instead of deictic, which uses B; Hebrew may join those languages which use different preposition markers for non-deictic phrases (i.e. L instead of B)</td>\n",
       "            </tr>\n",
       "            <tr>\n",
       "                        <th id=\"T_d48be_level0_row1\" class=\"row_heading level0 row1\" >463699</th>\n",
       "                        <td id=\"T_d48be_row1_col0\" class=\"data row1 col0\" >1_Kings 18:1</td>\n",
       "                        <td id=\"T_d48be_row1_col1\" class=\"data row1 col1\" >וַיְהִי֙ יָמִ֣ים רַבִּ֔ים </td>\n",
       "                        <td id=\"T_d48be_row1_col2\" class=\"data row1 col2\" >link:459386</td>\n",
       "            </tr>\n",
       "    </tbody></table>"
      ],
      "text/plain": [
       "<pandas.io.formats.style.Styler at 0x7fa299ebdbb0>"
      ]
     },
     "metadata": {},
     "output_type": "display_data"
    },
    {
     "name": "stdout",
     "output_type": "stream",
     "text": [
      "--------------------------------------------------\n",
      "purposive\n",
      "showing 2 of 2\n"
     ]
    },
    {
     "data": {
      "text/html": [
       "<style  type=\"text/css\" >\n",
       "#T_91c54_row0_col1,#T_91c54_row1_col1{\n",
       "            font-size: 20px;\n",
       "             font-family:  Times New Roman;\n",
       "             text-align:  right;\n",
       "             max-width:  500px;\n",
       "        }</style><table id=\"T_91c54_\" ><thead>    <tr>        <th class=\"blank level0\" ></th>        <th class=\"col_heading level0 col0\" >verse</th>        <th class=\"col_heading level0 col1\" >clause</th>        <th class=\"col_heading level0 col2\" >notes</th>    </tr>    <tr>        <th class=\"index_name level0\" >node</th>        <th class=\"blank\" ></th>        <th class=\"blank\" ></th>        <th class=\"blank\" ></th>    </tr></thead><tbody>\n",
       "                <tr>\n",
       "                        <th id=\"T_91c54_level0_row0\" class=\"row_heading level0 row0\" >442095</th>\n",
       "                        <td id=\"T_91c54_row0_col0\" class=\"data row0 col0\" >Numbers 11:18</td>\n",
       "                        <td id=\"T_91c54_row0_col1\" class=\"data row0 col1\" >הִתְקַדְּשׁ֣וּ לְמָחָר֮ </td>\n",
       "                        <td id=\"T_91c54_row0_col2\" class=\"data row0 col2\" >nan</td>\n",
       "            </tr>\n",
       "            <tr>\n",
       "                        <th id=\"T_91c54_level0_row1\" class=\"row_heading level0 row1\" >449367</th>\n",
       "                        <td id=\"T_91c54_row1_col0\" class=\"data row1 col0\" >Joshua 7:13</td>\n",
       "                        <td id=\"T_91c54_row1_col1\" class=\"data row1 col1\" >הִתְקַדְּשׁ֣וּ לְמָחָ֑ר </td>\n",
       "                        <td id=\"T_91c54_row1_col2\" class=\"data row1 col2\" >nan</td>\n",
       "            </tr>\n",
       "    </tbody></table>"
      ],
      "text/plain": [
       "<pandas.io.formats.style.Styler at 0x7fa299ec73d0>"
      ]
     },
     "metadata": {},
     "output_type": "display_data"
    },
    {
     "name": "stdout",
     "output_type": "stream",
     "text": [
      "--------------------------------------------------\n",
      "anterior_dur_except\n",
      "showing 1 of 1\n"
     ]
    },
    {
     "data": {
      "text/html": [
       "<style  type=\"text/css\" >\n",
       "#T_cccfa_row0_col1{\n",
       "            font-size: 20px;\n",
       "             font-family:  Times New Roman;\n",
       "             text-align:  right;\n",
       "             max-width:  500px;\n",
       "        }</style><table id=\"T_cccfa_\" ><thead>    <tr>        <th class=\"blank level0\" ></th>        <th class=\"col_heading level0 col0\" >verse</th>        <th class=\"col_heading level0 col1\" >clause</th>        <th class=\"col_heading level0 col2\" >notes</th>    </tr>    <tr>        <th class=\"index_name level0\" >node</th>        <th class=\"blank\" ></th>        <th class=\"blank\" ></th>        <th class=\"blank\" ></th>    </tr></thead><tbody>\n",
       "                <tr>\n",
       "                        <th id=\"T_cccfa_level0_row0\" class=\"row_heading level0 row0\" >429462</th>\n",
       "                        <td id=\"T_cccfa_row0_col0\" class=\"data row0 col0\" >Genesis 21:26</td>\n",
       "                        <td id=\"T_cccfa_row0_col1\" class=\"data row0 col1\" >וְגַ֧ם אָנֹכִ֛י לֹ֥א שָׁמַ֖עְתִּי בִּלְתִּ֥י הַיֹּֽום׃ </td>\n",
       "                        <td id=\"T_cccfa_row0_col2\" class=\"data row0 col2\" >See possible link in Haspelmath 1997, 64—when \"not yet\" serves as a source for antdur</td>\n",
       "            </tr>\n",
       "    </tbody></table>"
      ],
      "text/plain": [
       "<pandas.io.formats.style.Styler at 0x7fa29a08e430>"
      ]
     },
     "metadata": {},
     "output_type": "display_data"
    },
    {
     "name": "stdout",
     "output_type": "stream",
     "text": [
      "--------------------------------------------------\n",
      "posterior_dur_future\n",
      "showing 1 of 1\n"
     ]
    },
    {
     "data": {
      "text/html": [
       "<style  type=\"text/css\" >\n",
       "#T_f4c05_row0_col1{\n",
       "            font-size: 20px;\n",
       "             font-family:  Times New Roman;\n",
       "             text-align:  right;\n",
       "             max-width:  500px;\n",
       "        }</style><table id=\"T_f4c05_\" ><thead>    <tr>        <th class=\"blank level0\" ></th>        <th class=\"col_heading level0 col0\" >verse</th>        <th class=\"col_heading level0 col1\" >clause</th>        <th class=\"col_heading level0 col2\" >notes</th>    </tr>    <tr>        <th class=\"index_name level0\" >node</th>        <th class=\"blank\" ></th>        <th class=\"blank\" ></th>        <th class=\"blank\" ></th>    </tr></thead><tbody>\n",
       "                <tr>\n",
       "                        <th id=\"T_f4c05_level0_row0\" class=\"row_heading level0 row0\" >457274</th>\n",
       "                        <td id=\"T_f4c05_row0_col0\" class=\"data row0 col0\" >1_Samuel 25:28</td>\n",
       "                        <td id=\"T_f4c05_row0_col1\" class=\"data row0 col1\" >וְרָעָ֛ה לֹא־תִמָּצֵ֥א בְךָ֖ מִיָּמֶֽיךָ׃ </td>\n",
       "                        <td id=\"T_f4c05_row0_col2\" class=\"data row0 col2\" >nan</td>\n",
       "            </tr>\n",
       "    </tbody></table>"
      ],
      "text/plain": [
       "<pandas.io.formats.style.Styler at 0x7fa298b35610>"
      ]
     },
     "metadata": {},
     "output_type": "display_data"
    },
    {
     "name": "stdout",
     "output_type": "stream",
     "text": [
      "--------------------------------------------------\n"
     ]
    }
   ],
   "source": [
    "funct2names = {\n",
    "    'purposive_ext':['purpext', 'Purposive Extent'],\n",
    "    'dist_posterior': ['distpost', 'Distance Posterior'],\n",
    "    'anterior_limitive': ['antlimit', 'Anterior Limitive'],\n",
    "    'dist_prospective': ['distprosp', 'Distance Prospective'],\n",
    "    'purposive': ['purp', 'Purposive'],\n",
    "    'anterior_dur_except': ['antdurex', 'Anterior Durative with \"Except\"'],\n",
    "    'posterior_dur_future': ['postdurfut', 'Posterior Durative Future'],\n",
    "}\n",
    "\n",
    "# automatically show examples\n",
    "for funct in funct2names:\n",
    "    exdf = df[df.function == funct].sort_values(by='notes').head(10)\n",
    "    print(funct)\n",
    "    display(\n",
    "        ts.show(exdf, extra=['notes'], spread=-1)\n",
    "    )\n",
    "    print('-'*50)"
   ]
  },
  {
   "cell_type": "markdown",
   "metadata": {},
   "source": [
    "# Pull Out Examples"
   ]
  },
  {
   "cell_type": "markdown",
   "metadata": {},
   "source": [
    "## Purposive Extent"
   ]
  },
  {
   "cell_type": "code",
   "execution_count": 7,
   "metadata": {},
   "outputs": [
    {
     "data": {
      "text/plain": [
       "'34'"
      ]
     },
     "execution_count": 7,
     "metadata": {},
     "output_type": "execute_result"
    }
   ],
   "source": [
    "purpext_df = df[df.function == 'purposive_ext']\n",
    "\n",
    "out.number(\n",
    "    purpext_df.shape[0],\n",
    "    'purpext_N'\n",
    ")"
   ]
  },
  {
   "cell_type": "code",
   "execution_count": 8,
   "metadata": {},
   "outputs": [
    {
     "data": {
      "text/plain": [
       "'4'"
      ]
     },
     "execution_count": 8,
     "metadata": {},
     "output_type": "execute_result"
    }
   ],
   "source": [
    "antlim_df = df[df.function == 'anterior_limitive']\n",
    "\n",
    "out.number(\n",
    "    antlim_df.shape[0],\n",
    "    'antlim_N'\n",
    ")"
   ]
  },
  {
   "cell_type": "markdown",
   "metadata": {},
   "source": [
    "# Difficult Cases"
   ]
  },
  {
   "cell_type": "code",
   "execution_count": null,
   "metadata": {},
   "outputs": [],
   "source": []
  },
  {
   "cell_type": "markdown",
   "metadata": {},
   "source": [
    "# Compound Time Adverbials"
   ]
  },
  {
   "cell_type": "code",
   "execution_count": 20,
   "metadata": {},
   "outputs": [
    {
     "data": {
      "text/plain": [
       "begin_to_end                                 55\n",
       "simultaneous + atelic_ext                    23\n",
       "multi_simuls                                 18\n",
       "begin_to_end_habitual                         6\n",
       "simul_to_end                                  6\n",
       "dur_to_end                                    5\n",
       "atelic_ext + simultaneous                     4\n",
       "posterior + atelic_ext                        4\n",
       "multi_antdur                                  4\n",
       "posterior + simultaneous                      3\n",
       "simultaneous + posterior                      2\n",
       "multi_posterior_dur                           2\n",
       "habitual + begin_to_end                       2\n",
       "anterior_dur + duration                       2\n",
       "posterior + distance                          1\n",
       "simultaneous + anterior                       1\n",
       "atelic_ext + habitual                         1\n",
       "dist_fut + atelic_ext                         1\n",
       "atelic_ext + anterior + atelic_ext            1\n",
       "simultaneous + anterior_dist                  1\n",
       "simultaneous + begin_to_end                   1\n",
       "simultaneous + anterior_limitive?             1\n",
       "anterior + posterior                          1\n",
       "simultaneous + dist_posterior                 1\n",
       "anterior_dur + anterior                       1\n",
       "simultaneous + posteriors                     1\n",
       "posterior_dur + begin_to_end + atelic_ext     1\n",
       "simultaneous + purposive_ext                  1\n",
       "simultaneous + multi_begin_to_end             1\n",
       "anterior + atelic_ext                         1\n",
       "reg_recurr + atelic_ext                       1\n",
       "multi_atelic_ext                              1\n",
       "anterior + distance                           1\n",
       "begin_to_end + multi_antdur                   1\n",
       "Name: function, dtype: int64"
      ]
     },
     "execution_count": 20,
     "metadata": {},
     "output_type": "execute_result"
    }
   ],
   "source": [
    "compound_ct = df[df.funct_type == 'compound'].function.value_counts()\n",
    "\n",
    "out.table(\n",
    "    compound_ct,\n",
    "    'compound_funct_ct',\n",
    "    caption='Sampled Compound Time Adverbial Frequencies',\n",
    ")"
   ]
  },
  {
   "cell_type": "code",
   "execution_count": 13,
   "metadata": {},
   "outputs": [],
   "source": [
    "comp_clusters = {\n",
    "\n",
    "    'begin-to-end': [\n",
    "        'begin_to_end',\n",
    "        'habitual + begin_to_end',\n",
    "        'begin_to_end_habitual',\n",
    "        'simultaneous + begin_to_end',\n",
    "        'simultaneous + multi_begin_to_end',\n",
    "        'posterior_dur + begin_to_end + atelic_ext',\n",
    "        'begin_to_end + multi_antdur',\n",
    "    ],\n",
    "\n",
    "    'coordinated location': [\n",
    "        'multi_simuls',\n",
    "        'simultaneous + anterior',\n",
    "        'simul_to_end',\n",
    "        'simultaneous + anterior_limitive?',\n",
    "        'simultaneous + anterior_dist',\n",
    "        'simultaneous + posterior',\n",
    "        'simultaneous + posteriors',\n",
    "        'simultaneous + dist_posterior',\n",
    "        'posterior + simultaneous',\n",
    "        'multi_antdur',\n",
    "        'anterior_dur + anterior',\n",
    "        'anterior + posterior',\n",
    "        'multi_posterior_dur',\n",
    "        'simultaneous + purposive_ext',\n",
    "    ],\n",
    "\n",
    "    'coordinated extent': [\n",
    "        'multi_atelic_ext',\n",
    "    ],\n",
    "    \n",
    "    'location + extent': [\n",
    "        'simultaneous + atelic_ext',\n",
    "        'atelic_ext + simultaneous',\n",
    "        'anterior + atelic_ext',\n",
    "        'anterior + distance',\n",
    "        'atelic_ext + anterior + atelic_ext',\n",
    "        'anterior_dur + duration',\n",
    "        'dur_to_end',\n",
    "        'posterior + atelic_ext',\n",
    "        'dist_fut + atelic_ext',\n",
    "        'reg_recurr + atelic_ext',\n",
    "        'atelic_ext + habitual',\n",
    "    ],\n",
    "    \n",
    "    'distance sequential': [\n",
    "        'posterior + distance',\n",
    "    ],\n",
    "    \n",
    "}"
   ]
  },
  {
   "cell_type": "code",
   "execution_count": 14,
   "metadata": {},
   "outputs": [],
   "source": [
    "attested = set(cl for name, functs in comp_clusters.items() for cl in functs)"
   ]
  },
  {
   "cell_type": "code",
   "execution_count": 15,
   "metadata": {},
   "outputs": [
    {
     "data": {
      "text/plain": [
       "set()"
      ]
     },
     "execution_count": 15,
     "metadata": {},
     "output_type": "execute_result"
    }
   ],
   "source": [
    "set(compound_ct.index) - attested"
   ]
  },
  {
   "cell_type": "markdown",
   "metadata": {},
   "source": [
    "## Auto Export Examples for Compounds"
   ]
  },
  {
   "cell_type": "code",
   "execution_count": 16,
   "metadata": {},
   "outputs": [
    {
     "data": {
      "text/html": [
       "<h2>Begin-To-End</h2>"
      ],
      "text/plain": [
       "<IPython.core.display.HTML object>"
      ]
     },
     "metadata": {},
     "output_type": "display_data"
    },
    {
     "name": "stdout",
     "output_type": "stream",
     "text": [
      "begin_to_end\n",
      "showing 25 of 55\n"
     ]
    },
    {
     "data": {
      "text/html": [
       "<style  type=\"text/css\" >\n",
       "#T_4b3dc_row0_col1,#T_4b3dc_row1_col1,#T_4b3dc_row2_col1,#T_4b3dc_row3_col1,#T_4b3dc_row4_col1,#T_4b3dc_row5_col1,#T_4b3dc_row6_col1,#T_4b3dc_row7_col1,#T_4b3dc_row8_col1,#T_4b3dc_row9_col1,#T_4b3dc_row10_col1,#T_4b3dc_row11_col1,#T_4b3dc_row12_col1,#T_4b3dc_row13_col1,#T_4b3dc_row14_col1,#T_4b3dc_row15_col1,#T_4b3dc_row16_col1,#T_4b3dc_row17_col1,#T_4b3dc_row18_col1,#T_4b3dc_row19_col1,#T_4b3dc_row20_col1,#T_4b3dc_row21_col1,#T_4b3dc_row22_col1,#T_4b3dc_row23_col1,#T_4b3dc_row24_col1{\n",
       "            font-size: 20px;\n",
       "             font-family:  Times New Roman;\n",
       "             text-align:  right;\n",
       "             max-width:  500px;\n",
       "        }</style><table id=\"T_4b3dc_\" ><thead>    <tr>        <th class=\"blank level0\" ></th>        <th class=\"col_heading level0 col0\" >verse</th>        <th class=\"col_heading level0 col1\" >clause</th>    </tr>    <tr>        <th class=\"index_name level0\" >node</th>        <th class=\"blank\" ></th>        <th class=\"blank\" ></th>    </tr></thead><tbody>\n",
       "                <tr>\n",
       "                        <th id=\"T_4b3dc_level0_row0\" class=\"row_heading level0 row0\" >433071</th>\n",
       "                        <td id=\"T_4b3dc_row0_col0\" class=\"data row0 col0\" >Genesis 46:34</td>\n",
       "                        <td id=\"T_4b3dc_row0_col1\" class=\"data row0 col1\" >אַנְשֵׁ֨י מִקְנֶ֜ה הָי֤וּ עֲבָדֶ֨יךָ֙ מִנְּעוּרֵ֣ינוּ וְעַד־עַ֔תָּה גַּם־אֲנַ֖חְנוּ גַּם־אֲבֹתֵ֑ינוּ </td>\n",
       "            </tr>\n",
       "            <tr>\n",
       "                        <th id=\"T_4b3dc_level0_row1\" class=\"row_heading level0 row1\" >435529</th>\n",
       "                        <td id=\"T_4b3dc_row1_col0\" class=\"data row1 col0\" >Exodus 18:13</td>\n",
       "                        <td id=\"T_4b3dc_row1_col1\" class=\"data row1 col1\" >וַיַּעֲמֹ֤ד הָעָם֙ עַל־מֹשֶׁ֔ה מִן־הַבֹּ֖קֶר עַד־הָעָֽרֶב׃ </td>\n",
       "            </tr>\n",
       "            <tr>\n",
       "                        <th id=\"T_4b3dc_level0_row2\" class=\"row_heading level0 row2\" >436445</th>\n",
       "                        <td id=\"T_4b3dc_row2_col0\" class=\"data row2 col0\" >Exodus 27:21</td>\n",
       "                        <td id=\"T_4b3dc_row2_col1\" class=\"data row2 col1\" >בְּאֹ֣הֶל מֹועֵד֩ מִח֨וּץ לַפָּרֹ֜כֶת יַעֲרֹךְ֩ אֹתֹ֨ו אַהֲרֹ֧ן וּבָנָ֛יו מֵעֶ֥רֶב עַד־בֹּ֖קֶר לִפְנֵ֣י יְהוָ֑ה </td>\n",
       "            </tr>\n",
       "            <tr>\n",
       "                        <th id=\"T_4b3dc_level0_row3\" class=\"row_heading level0 row3\" >440400</th>\n",
       "                        <td id=\"T_4b3dc_row3_col0\" class=\"data row3 col0\" >Leviticus 24:3</td>\n",
       "                        <td id=\"T_4b3dc_row3_col1\" class=\"data row3 col1\" >מִחוּץ֩ לְפָרֹ֨כֶת הָעֵדֻ֜ת בְּאֹ֣הֶל מֹועֵ֗ד יַעֲרֹךְ֩ אֹתֹ֨ו אַהֲרֹ֜ן מֵעֶ֧רֶב עַד־בֹּ֛קֶר לִפְנֵ֥י יְהוָ֖ה תָּמִ֑יד </td>\n",
       "            </tr>\n",
       "            <tr>\n",
       "                        <th id=\"T_4b3dc_level0_row4\" class=\"row_heading level0 row4\" >443468</th>\n",
       "                        <td id=\"T_4b3dc_row4_col0\" class=\"data row4 col0\" >Numbers 22:30</td>\n",
       "                        <td id=\"T_4b3dc_row4_col1\" class=\"data row4 col1\" >אֲשֶׁר־רָכַ֣בְתָּ עָלַ֗י מֵעֹֽודְךָ֙ עַד־הַיֹּ֣ום הַזֶּ֔ה </td>\n",
       "            </tr>\n",
       "            <tr>\n",
       "                        <th id=\"T_4b3dc_level0_row5\" class=\"row_heading level0 row5\" >455860</th>\n",
       "                        <td id=\"T_4b3dc_row5_col0\" class=\"data row5 col0\" >1_Samuel 16:13</td>\n",
       "                        <td id=\"T_4b3dc_row5_col1\" class=\"data row5 col1\" >וַתִּצְלַ֤ח רֽוּחַ־יְהוָה֙ אֶל־דָּוִ֔ד מֵהַיֹּ֥ום הַה֖וּא וָמָ֑עְלָה </td>\n",
       "            </tr>\n",
       "            <tr>\n",
       "                        <th id=\"T_4b3dc_level0_row6\" class=\"row_heading level0 row6\" >457735</th>\n",
       "                        <td id=\"T_4b3dc_row6_col0\" class=\"data row6 col0\" >1_Samuel 29:8</td>\n",
       "                        <td id=\"T_4b3dc_row6_col1\" class=\"data row6 col1\" >וּמַה־מָּצָ֣אתָ בְעַבְדְּךָ֔ מִיֹּום֙ עַ֖ד הַיֹּ֣ום הַזֶּ֑ה </td>\n",
       "            </tr>\n",
       "            <tr>\n",
       "                        <th id=\"T_4b3dc_level0_row7\" class=\"row_heading level0 row7\" >457880</th>\n",
       "                        <td id=\"T_4b3dc_row7_col0\" class=\"data row7 col0\" >1_Samuel 30:25</td>\n",
       "                        <td id=\"T_4b3dc_row7_col1\" class=\"data row7 col1\" >וַיְהִ֕י מֵֽהַיֹּ֥ום הַה֖וּא וָמָ֑עְלָה </td>\n",
       "            </tr>\n",
       "            <tr>\n",
       "                        <th id=\"T_4b3dc_level0_row8\" class=\"row_heading level0 row8\" >460421</th>\n",
       "                        <td id=\"T_4b3dc_row8_col0\" class=\"data row8 col0\" >2_Samuel 19:25</td>\n",
       "                        <td id=\"T_4b3dc_row8_col1\" class=\"data row8 col1\" >וְאֶת־בְּגָדָיו֙ לֹ֣א כִבֵּ֔ס לְמִן־הַיֹּום֙ עַד־הַיֹּ֖ום </td>\n",
       "            </tr>\n",
       "            <tr>\n",
       "                        <th id=\"T_4b3dc_level0_row9\" class=\"row_heading level0 row9\" >468835</th>\n",
       "                        <td id=\"T_4b3dc_row9_col0\" class=\"data row9 col0\" >Isaiah 9:6</td>\n",
       "                        <td id=\"T_4b3dc_row9_col1\" class=\"data row9 col1\" >וּֽלְסַעֲדָ֔הּ בְּמִשְׁפָּ֖ט וּבִצְדָקָ֑ה מֵעַתָּה֙ וְעַד־עֹולָ֔ם </td>\n",
       "            </tr>\n",
       "            <tr>\n",
       "                        <th id=\"T_4b3dc_level0_row10\" class=\"row_heading level0 row10\" >471124</th>\n",
       "                        <td id=\"T_4b3dc_row10_col0\" class=\"data row10 col0\" >Isaiah 38:12</td>\n",
       "                        <td id=\"T_4b3dc_row10_col1\" class=\"data row10 col1\" >מִיֹּ֥ום עַד־לַ֖יְלָה תַּשְׁלִימֵֽנִי׃ </td>\n",
       "            </tr>\n",
       "            <tr>\n",
       "                        <th id=\"T_4b3dc_level0_row11\" class=\"row_heading level0 row11\" >473245</th>\n",
       "                        <td id=\"T_4b3dc_row11_col0\" class=\"data row11 col0\" >Isaiah 59:21</td>\n",
       "                        <td id=\"T_4b3dc_row11_col1\" class=\"data row11 col1\" >רוּחִי֙ וּדְבָרַ֖י לֹֽא־יָמ֡וּשׁוּ מִפִּיךָ֩ וּמִפִּ֨י זַרְעֲךָ֜ וּמִפִּ֨י זֶ֤רַע זַרְעֲךָ֙ מֵעַתָּ֖ה וְעַד־עֹולָֽם׃ ס </td>\n",
       "            </tr>\n",
       "            <tr>\n",
       "                        <th id=\"T_4b3dc_level0_row12\" class=\"row_heading level0 row12\" >474676</th>\n",
       "                        <td id=\"T_4b3dc_row12_col0\" class=\"data row12 col0\" >Jeremiah 7:7</td>\n",
       "                        <td id=\"T_4b3dc_row12_col1\" class=\"data row12 col1\" >אֲשֶׁ֥ר נָתַ֖תִּי לַאֲבֹֽותֵיכֶ֑ם לְמִן־עֹולָ֖ם וְעַד־עֹולָֽם׃ </td>\n",
       "            </tr>\n",
       "            <tr>\n",
       "                        <th id=\"T_4b3dc_level0_row13\" class=\"row_heading level0 row13\" >477946</th>\n",
       "                        <td id=\"T_4b3dc_row13_col0\" class=\"data row13 col0\" >Jeremiah 36:2</td>\n",
       "                        <td id=\"T_4b3dc_row13_col1\" class=\"data row13 col1\" >אֲשֶׁר־דִּבַּ֧רְתִּי אֵלֶ֛יךָ עַל־יִשְׂרָאֵ֥ל וְעַל־יְהוּדָ֖ה וְעַל־כָּל־הַגֹּויִ֑ם מִיֹּ֞ום מִימֵ֣י יֹאשִׁיָּ֔הוּ וְעַ֖ד הַיֹּ֥ום הַזֶּֽה׃ </td>\n",
       "            </tr>\n",
       "            <tr>\n",
       "                        <th id=\"T_4b3dc_level0_row14\" class=\"row_heading level0 row14\" >484521</th>\n",
       "                        <td id=\"T_4b3dc_row14_col0\" class=\"data row14 col0\" >Ezekiel 39:22</td>\n",
       "                        <td id=\"T_4b3dc_row14_col1\" class=\"data row14 col1\" >כִּ֛י אֲנִ֥י יְהוָ֖ה אֱלֹֽהֵיהֶ֑ם מִן־הַיֹּ֥ום הַה֖וּא וָהָֽלְאָה׃ </td>\n",
       "            </tr>\n",
       "            <tr>\n",
       "                        <th id=\"T_4b3dc_level0_row15\" class=\"row_heading level0 row15\" >488909</th>\n",
       "                        <td id=\"T_4b3dc_row15_col0\" class=\"data row15 col0\" >Haggai 2:15</td>\n",
       "                        <td id=\"T_4b3dc_row15_col1\" class=\"data row15 col1\" >שִֽׂימוּ־נָ֣א לְבַבְכֶ֔ם מִן־הַיֹּ֥ום הַזֶּ֖ה וָמָ֑עְלָה </td>\n",
       "            </tr>\n",
       "            <tr>\n",
       "                        <th id=\"T_4b3dc_level0_row16\" class=\"row_heading level0 row16\" >494766</th>\n",
       "                        <td id=\"T_4b3dc_row16_col0\" class=\"data row16 col0\" >Psalms 90:2</td>\n",
       "                        <td id=\"T_4b3dc_row16_col1\" class=\"data row16 col1\" >וּֽמֵעֹולָ֥ם עַד־עֹ֝ולָ֗ם אַתָּ֥ה אֵֽל׃ </td>\n",
       "            </tr>\n",
       "            <tr>\n",
       "                        <th id=\"T_4b3dc_level0_row17\" class=\"row_heading level0 row17\" >495938</th>\n",
       "                        <td id=\"T_4b3dc_row17_col0\" class=\"data row17 col0\" >Psalms 113:2</td>\n",
       "                        <td id=\"T_4b3dc_row17_col1\" class=\"data row17 col1\" >יְהִ֤י שֵׁ֣ם יְהוָ֣ה מְבֹרָ֑ךְ מֵֽ֝עַתָּ֗ה וְעַד־עֹולָֽם׃ </td>\n",
       "            </tr>\n",
       "            <tr>\n",
       "                        <th id=\"T_4b3dc_level0_row18\" class=\"row_heading level0 row18\" >496597</th>\n",
       "                        <td id=\"T_4b3dc_row18_col0\" class=\"data row18 col0\" >Psalms 121:8</td>\n",
       "                        <td id=\"T_4b3dc_row18_col1\" class=\"data row18 col1\" >יְֽהוָ֗ה יִשְׁמָר־מֵֽ֝עַתָּ֗ה וְעַד־עֹולָֽם׃ </td>\n",
       "            </tr>\n",
       "            <tr>\n",
       "                        <th id=\"T_4b3dc_level0_row19\" class=\"row_heading level0 row19\" >496778</th>\n",
       "                        <td id=\"T_4b3dc_row19_col0\" class=\"data row19 col0\" >Psalms 131:3</td>\n",
       "                        <td id=\"T_4b3dc_row19_col1\" class=\"data row19 col1\" >יַחֵ֣ל אֶל־יְהוָ֑ה מֵֽ֝עַתָּ֗ה וְעַד־עֹולָֽם׃ </td>\n",
       "            </tr>\n",
       "            <tr>\n",
       "                        <th id=\"T_4b3dc_level0_row20\" class=\"row_heading level0 row20\" >502970</th>\n",
       "                        <td id=\"T_4b3dc_row20_col0\" class=\"data row20 col0\" >Ruth 2:7</td>\n",
       "                        <td id=\"T_4b3dc_row20_col1\" class=\"data row20 col1\" >וַֽתַּעֲמֹ֗וד מֵאָ֤ז הַבֹּ֨קֶר֙ וְעַד־עַ֔תָּה </td>\n",
       "            </tr>\n",
       "            <tr>\n",
       "                        <th id=\"T_4b3dc_level0_row21\" class=\"row_heading level0 row21\" >509282</th>\n",
       "                        <td id=\"T_4b3dc_row21_col0\" class=\"data row21 col0\" >Nehemiah 8:17</td>\n",
       "                        <td id=\"T_4b3dc_row21_col1\" class=\"data row21 col1\" >כִּ֣י לֹֽא־עָשׂ֡וּ מִימֵי֩ יֵשׁ֨וּעַ בִּן־נ֥וּן כֵּן֙ בְּנֵ֣י יִשְׂרָאֵ֔ל עַ֖ד הַיֹּ֣ום הַה֑וּא </td>\n",
       "            </tr>\n",
       "            <tr>\n",
       "                        <th id=\"T_4b3dc_level0_row22\" class=\"row_heading level0 row22\" >509444</th>\n",
       "                        <td id=\"T_4b3dc_row22_col0\" class=\"data row22 col0\" >Nehemiah 9:32</td>\n",
       "                        <td id=\"T_4b3dc_row22_col1\" class=\"data row22 col1\" >אַל־יִמְעַ֣ט לְפָנֶ֡יךָ אֵ֣ת כָּל־הַתְּלָאָ֣ה מִימֵי֙ מַלְכֵ֣י אַשּׁ֔וּר עַ֖ד הַיֹּ֥ום הַזֶּֽה׃ </td>\n",
       "            </tr>\n",
       "            <tr>\n",
       "                        <th id=\"T_4b3dc_level0_row23\" class=\"row_heading level0 row23\" >511217</th>\n",
       "                        <td id=\"T_4b3dc_row23_col0\" class=\"data row23 col0\" >1_Chronicles 16:36</td>\n",
       "                        <td id=\"T_4b3dc_row23_col1\" class=\"data row23 col1\" >בָּר֤וּךְ יְהוָה֙ אֱלֹהֵ֣י יִשְׂרָאֵ֔ל מִן־הָעֹולָ֖ם וְעַ֣ד הָעֹלָ֑ם </td>\n",
       "            </tr>\n",
       "            <tr>\n",
       "                        <th id=\"T_4b3dc_level0_row24\" class=\"row_heading level0 row24\" >512275</th>\n",
       "                        <td id=\"T_4b3dc_row24_col0\" class=\"data row24 col0\" >1_Chronicles 29:10</td>\n",
       "                        <td id=\"T_4b3dc_row24_col1\" class=\"data row24 col1\" >בָּר֨וּךְ אַתָּ֤ה מֵעֹולָ֖ם וְעַד־עֹולָֽם׃ </td>\n",
       "            </tr>\n",
       "    </tbody></table>"
      ],
      "text/plain": [
       "<pandas.io.formats.style.Styler at 0x7fa2986f1b20>"
      ]
     },
     "metadata": {},
     "output_type": "display_data"
    },
    {
     "name": "stdout",
     "output_type": "stream",
     "text": [
      "habitual + begin_to_end\n",
      "showing 2 of 2\n"
     ]
    },
    {
     "data": {
      "text/html": [
       "<style  type=\"text/css\" >\n",
       "#T_8b7db_row0_col1,#T_8b7db_row1_col1{\n",
       "            font-size: 20px;\n",
       "             font-family:  Times New Roman;\n",
       "             text-align:  right;\n",
       "             max-width:  500px;\n",
       "        }</style><table id=\"T_8b7db_\" ><thead>    <tr>        <th class=\"blank level0\" ></th>        <th class=\"col_heading level0 col0\" >verse</th>        <th class=\"col_heading level0 col1\" >clause</th>    </tr>    <tr>        <th class=\"index_name level0\" >node</th>        <th class=\"blank\" ></th>        <th class=\"blank\" ></th>    </tr></thead><tbody>\n",
       "                <tr>\n",
       "                        <th id=\"T_8b7db_level0_row0\" class=\"row_heading level0 row0\" >509284</th>\n",
       "                        <td id=\"T_8b7db_row0_col0\" class=\"data row0 col0\" >Nehemiah 8:18</td>\n",
       "                        <td id=\"T_8b7db_row0_col1\" class=\"data row0 col1\" >וַ֠יִּקְרָא בְּסֵ֨פֶר תֹּורַ֤ת הָאֱלֹהִים֙ יֹ֣ום׀ בְּיֹ֔ום מִן־הַיֹּום֙ הָֽרִאשֹׁ֔ון עַ֖ד הַיֹּ֣ום הָאַחֲרֹ֑ון </td>\n",
       "            </tr>\n",
       "            <tr>\n",
       "                        <th id=\"T_8b7db_level0_row1\" class=\"row_heading level0 row1\" >510587</th>\n",
       "                        <td id=\"T_8b7db_row1_col0\" class=\"data row1 col0\" >1_Chronicles 9:25</td>\n",
       "                        <td id=\"T_8b7db_row1_col1\" class=\"data row1 col1\" >לָבֹ֨וא לְשִׁבְעַ֧ת הַיָּמִ֛ים מֵעֵ֥ת אֶל־עֵ֖ת עִם־אֵֽלֶּה׃ </td>\n",
       "            </tr>\n",
       "    </tbody></table>"
      ],
      "text/plain": [
       "<pandas.io.formats.style.Styler at 0x7fa29a093df0>"
      ]
     },
     "metadata": {},
     "output_type": "display_data"
    },
    {
     "name": "stdout",
     "output_type": "stream",
     "text": [
      "begin_to_end_habitual\n",
      "showing 6 of 6\n"
     ]
    },
    {
     "data": {
      "text/html": [
       "<style  type=\"text/css\" >\n",
       "#T_5e421_row0_col1,#T_5e421_row1_col1,#T_5e421_row2_col1,#T_5e421_row3_col1,#T_5e421_row4_col1,#T_5e421_row5_col1{\n",
       "            font-size: 20px;\n",
       "             font-family:  Times New Roman;\n",
       "             text-align:  right;\n",
       "             max-width:  500px;\n",
       "        }</style><table id=\"T_5e421_\" ><thead>    <tr>        <th class=\"blank level0\" ></th>        <th class=\"col_heading level0 col0\" >verse</th>        <th class=\"col_heading level0 col1\" >clause</th>    </tr>    <tr>        <th class=\"index_name level0\" >node</th>        <th class=\"blank\" ></th>        <th class=\"blank\" ></th>    </tr></thead><tbody>\n",
       "                <tr>\n",
       "                        <th id=\"T_5e421_level0_row0\" class=\"row_heading level0 row0\" >434949</th>\n",
       "                        <td id=\"T_5e421_row0_col0\" class=\"data row0 col0\" >Exodus 13:10</td>\n",
       "                        <td id=\"T_5e421_row0_col1\" class=\"data row0 col1\" >וְשָׁמַרְתָּ֛ אֶת־הַחֻקָּ֥ה הַזֹּ֖את לְמֹועֲדָ֑הּ מִיָּמִ֖ים יָמִֽימָה׃ ס </td>\n",
       "            </tr>\n",
       "            <tr>\n",
       "                        <th id=\"T_5e421_level0_row1\" class=\"row_heading level0 row1\" >444248</th>\n",
       "                        <td id=\"T_5e421_row1_col0\" class=\"data row1 col0\" >Numbers 30:15</td>\n",
       "                        <td id=\"T_5e421_row1_col1\" class=\"data row1 col1\" >וְאִם־הַחֲרֵשׁ֩ יַחֲרִ֨ישׁ לָ֥הּ אִישָׁהּ֮ מִיֹּ֣ום אֶל־יֹום֒ </td>\n",
       "            </tr>\n",
       "            <tr>\n",
       "                        <th id=\"T_5e421_level0_row2\" class=\"row_heading level0 row2\" >452653</th>\n",
       "                        <td id=\"T_5e421_row2_col0\" class=\"data row2 col0\" >Judges 11:40</td>\n",
       "                        <td id=\"T_5e421_row2_col1\" class=\"data row2 col1\" >מִיָּמִ֣ים׀ יָמִ֗ימָה תֵּלַ֨כְנָה֙ בְּנֹ֣ות יִשְׂרָאֵ֔ל </td>\n",
       "            </tr>\n",
       "            <tr>\n",
       "                        <th id=\"T_5e421_level0_row3\" class=\"row_heading level0 row3\" >453906</th>\n",
       "                        <td id=\"T_5e421_row3_col0\" class=\"data row3 col0\" >Judges 21:19</td>\n",
       "                        <td id=\"T_5e421_row3_col1\" class=\"data row3 col1\" >הִנֵּה֩ חַג־יְהוָ֨ה בְּשִׁלֹ֜ו מִיָּמִ֣ים׀ יָמִ֗ימָה </td>\n",
       "            </tr>\n",
       "            <tr>\n",
       "                        <th id=\"T_5e421_level0_row4\" class=\"row_heading level0 row4\" >453950</th>\n",
       "                        <td id=\"T_5e421_row4_col0\" class=\"data row4 col0\" >1_Samuel 1:3</td>\n",
       "                        <td id=\"T_5e421_row4_col1\" class=\"data row4 col1\" >וְעָלָה֩ הָאִ֨ישׁ הַה֤וּא מֵֽעִירֹו֙ מִיָּמִ֣ים׀ יָמִ֔ימָה </td>\n",
       "            </tr>\n",
       "            <tr>\n",
       "                        <th id=\"T_5e421_level0_row5\" class=\"row_heading level0 row5\" >454147</th>\n",
       "                        <td id=\"T_5e421_row5_col0\" class=\"data row5 col0\" >1_Samuel 2:19</td>\n",
       "                        <td id=\"T_5e421_row5_col1\" class=\"data row5 col1\" >וְהַעַלְתָ֥ה לֹ֖ו מִיָּמִ֣ים׀ יָמִ֑ימָה </td>\n",
       "            </tr>\n",
       "    </tbody></table>"
      ],
      "text/plain": [
       "<pandas.io.formats.style.Styler at 0x7fa2986f1b80>"
      ]
     },
     "metadata": {},
     "output_type": "display_data"
    },
    {
     "name": "stdout",
     "output_type": "stream",
     "text": [
      "simultaneous + begin_to_end\n",
      "showing 1 of 1\n"
     ]
    },
    {
     "data": {
      "text/html": [
       "<style  type=\"text/css\" >\n",
       "#T_61cfc_row0_col1{\n",
       "            font-size: 20px;\n",
       "             font-family:  Times New Roman;\n",
       "             text-align:  right;\n",
       "             max-width:  500px;\n",
       "        }</style><table id=\"T_61cfc_\" ><thead>    <tr>        <th class=\"blank level0\" ></th>        <th class=\"col_heading level0 col0\" >verse</th>        <th class=\"col_heading level0 col1\" >clause</th>    </tr>    <tr>        <th class=\"index_name level0\" >node</th>        <th class=\"blank\" ></th>        <th class=\"blank\" ></th>    </tr></thead><tbody>\n",
       "                <tr>\n",
       "                        <th id=\"T_61cfc_level0_row0\" class=\"row_heading level0 row0\" >440361</th>\n",
       "                        <td id=\"T_61cfc_row0_col0\" class=\"data row0 col0\" >Leviticus 23:32</td>\n",
       "                        <td id=\"T_61cfc_row0_col1\" class=\"data row0 col1\" >בְּתִשְׁעָ֤ה לַחֹ֨דֶשׁ֙ בָּעֶ֔רֶב מֵעֶ֣רֶב עַד־עֶ֔רֶב תִּשְׁבְּת֖וּ שַׁבַּתְּכֶֽם׃ פ </td>\n",
       "            </tr>\n",
       "    </tbody></table>"
      ],
      "text/plain": [
       "<pandas.io.formats.style.Styler at 0x7fa29870ca00>"
      ]
     },
     "metadata": {},
     "output_type": "display_data"
    },
    {
     "name": "stdout",
     "output_type": "stream",
     "text": [
      "simultaneous + multi_begin_to_end\n",
      "showing 1 of 1\n"
     ]
    },
    {
     "data": {
      "text/html": [
       "<style  type=\"text/css\" >\n",
       "#T_ecd3f_row0_col1{\n",
       "            font-size: 20px;\n",
       "             font-family:  Times New Roman;\n",
       "             text-align:  right;\n",
       "             max-width:  500px;\n",
       "        }</style><table id=\"T_ecd3f_\" ><thead>    <tr>        <th class=\"blank level0\" ></th>        <th class=\"col_heading level0 col0\" >verse</th>        <th class=\"col_heading level0 col1\" >clause</th>    </tr>    <tr>        <th class=\"index_name level0\" >node</th>        <th class=\"blank\" ></th>        <th class=\"blank\" ></th>    </tr></thead><tbody>\n",
       "                <tr>\n",
       "                        <th id=\"T_ecd3f_level0_row0\" class=\"row_heading level0 row0\" >505455</th>\n",
       "                        <td id=\"T_ecd3f_row0_col0\" class=\"data row0 col0\" >Esther 3:7</td>\n",
       "                        <td id=\"T_ecd3f_row0_col1\" class=\"data row0 col1\" >בַּחֹ֤דֶשׁ הָרִאשֹׁון֙ בִּשְׁנַת֙ שְׁתֵּ֣ים עֶשְׂרֵ֔ה לַמֶּ֖לֶךְ אֲחַשְׁוֵרֹ֑ושׁ הִפִּ֣יל פּוּר֩ לִפְנֵ֣י הָמָ֗ן מִיֹּ֧ום׀ לְיֹ֛ום וּמֵחֹ֛דֶשׁ לְחֹ֥דֶשׁ שְׁנֵים־עָשָׂ֖ר </td>\n",
       "            </tr>\n",
       "    </tbody></table>"
      ],
      "text/plain": [
       "<pandas.io.formats.style.Styler at 0x7fa29870c700>"
      ]
     },
     "metadata": {},
     "output_type": "display_data"
    },
    {
     "name": "stdout",
     "output_type": "stream",
     "text": [
      "posterior_dur + begin_to_end + atelic_ext\n",
      "showing 1 of 1\n"
     ]
    },
    {
     "data": {
      "text/html": [
       "<style  type=\"text/css\" >\n",
       "#T_5a9e8_row0_col1{\n",
       "            font-size: 20px;\n",
       "             font-family:  Times New Roman;\n",
       "             text-align:  right;\n",
       "             max-width:  500px;\n",
       "        }</style><table id=\"T_5a9e8_\" ><thead>    <tr>        <th class=\"blank level0\" ></th>        <th class=\"col_heading level0 col0\" >verse</th>        <th class=\"col_heading level0 col1\" >clause</th>    </tr>    <tr>        <th class=\"index_name level0\" >node</th>        <th class=\"blank\" ></th>        <th class=\"blank\" ></th>    </tr></thead><tbody>\n",
       "                <tr>\n",
       "                        <th id=\"T_5a9e8_level0_row0\" class=\"row_heading level0 row0\" >508958</th>\n",
       "                        <td id=\"T_5a9e8_row0_col0\" class=\"data row0 col0\" >Nehemiah 5:14</td>\n",
       "                        <td id=\"T_5a9e8_row0_col1\" class=\"data row0 col1\" >גַּ֞ם מִיֹּ֣ום׀ מִשְּׁנַ֣ת עֶשְׂרִ֗ים וְ֠עַד שְׁנַ֨ת שְׁלֹשִׁ֤ים וּשְׁתַּ֨יִם֙ לְאַרְתַּחְשַׁ֣סְתְּא הַמֶּ֔לֶךְ שָׁנִ֖ים שְׁתֵּ֣ים עֶשְׂרֵ֑ה אֲנִ֣י וְאַחַ֔י לֶ֥חֶם הַפֶּ֖חָה לֹ֥א אָכַֽלְתִּי׃ </td>\n",
       "            </tr>\n",
       "    </tbody></table>"
      ],
      "text/plain": [
       "<pandas.io.formats.style.Styler at 0x7fa299ebd400>"
      ]
     },
     "metadata": {},
     "output_type": "display_data"
    },
    {
     "name": "stdout",
     "output_type": "stream",
     "text": [
      "begin_to_end + multi_antdur\n",
      "showing 1 of 1\n"
     ]
    },
    {
     "data": {
      "text/html": [
       "<style  type=\"text/css\" >\n",
       "#T_b9e42_row0_col1{\n",
       "            font-size: 20px;\n",
       "             font-family:  Times New Roman;\n",
       "             text-align:  right;\n",
       "             max-width:  500px;\n",
       "        }</style><table id=\"T_b9e42_\" ><thead>    <tr>        <th class=\"blank level0\" ></th>        <th class=\"col_heading level0 col0\" >verse</th>        <th class=\"col_heading level0 col1\" >clause</th>    </tr>    <tr>        <th class=\"index_name level0\" >node</th>        <th class=\"blank\" ></th>        <th class=\"blank\" ></th>    </tr></thead><tbody>\n",
       "                <tr>\n",
       "                        <th id=\"T_b9e42_level0_row0\" class=\"row_heading level0 row0\" >488921</th>\n",
       "                        <td id=\"T_b9e42_row0_col0\" class=\"data row0 col0\" >Haggai 2:18</td>\n",
       "                        <td id=\"T_b9e42_row0_col1\" class=\"data row0 col1\" >שִׂימוּ־נָ֣א לְבַבְכֶ֔ם מִן־הַיֹּ֥ום הַזֶּ֖ה וָמָ֑עְלָה מִיֹּום֩ עֶשְׂרִ֨ים וְאַרְבָּעָ֜ה לַתְּשִׁיעִ֗י לְמִן־הַיֹּ֛ום </td>\n",
       "            </tr>\n",
       "    </tbody></table>"
      ],
      "text/plain": [
       "<pandas.io.formats.style.Styler at 0x7fa298b35940>"
      ]
     },
     "metadata": {},
     "output_type": "display_data"
    },
    {
     "data": {
      "text/html": [
       "<hr>"
      ],
      "text/plain": [
       "<IPython.core.display.HTML object>"
      ]
     },
     "metadata": {},
     "output_type": "display_data"
    },
    {
     "data": {
      "text/html": [
       "<h2>Coordinated Location</h2>"
      ],
      "text/plain": [
       "<IPython.core.display.HTML object>"
      ]
     },
     "metadata": {},
     "output_type": "display_data"
    },
    {
     "name": "stdout",
     "output_type": "stream",
     "text": [
      "multi_simuls\n",
      "showing 18 of 18\n"
     ]
    },
    {
     "data": {
      "text/html": [
       "<style  type=\"text/css\" >\n",
       "#T_4d2fe_row0_col1,#T_4d2fe_row1_col1,#T_4d2fe_row2_col1,#T_4d2fe_row3_col1,#T_4d2fe_row4_col1,#T_4d2fe_row5_col1,#T_4d2fe_row6_col1,#T_4d2fe_row7_col1,#T_4d2fe_row8_col1,#T_4d2fe_row9_col1,#T_4d2fe_row10_col1,#T_4d2fe_row11_col1,#T_4d2fe_row12_col1,#T_4d2fe_row13_col1,#T_4d2fe_row14_col1,#T_4d2fe_row15_col1,#T_4d2fe_row16_col1,#T_4d2fe_row17_col1{\n",
       "            font-size: 20px;\n",
       "             font-family:  Times New Roman;\n",
       "             text-align:  right;\n",
       "             max-width:  500px;\n",
       "        }</style><table id=\"T_4d2fe_\" ><thead>    <tr>        <th class=\"blank level0\" ></th>        <th class=\"col_heading level0 col0\" >verse</th>        <th class=\"col_heading level0 col1\" >clause</th>    </tr>    <tr>        <th class=\"index_name level0\" >node</th>        <th class=\"blank\" ></th>        <th class=\"blank\" ></th>    </tr></thead><tbody>\n",
       "                <tr>\n",
       "                        <th id=\"T_4d2fe_level0_row0\" class=\"row_heading level0 row0\" >434054</th>\n",
       "                        <td id=\"T_4d2fe_row0_col0\" class=\"data row0 col0\" >Exodus 5:14</td>\n",
       "                        <td id=\"T_4d2fe_row0_col1\" class=\"data row0 col1\" >מַדּ֡וּעַ לֹא֩ כִלִּיתֶ֨ם חָקְכֶ֤ם גַּם־תְּמֹ֖ול גַּם־הַיֹּֽום׃ </td>\n",
       "            </tr>\n",
       "            <tr>\n",
       "                        <th id=\"T_4d2fe_level0_row1\" class=\"row_heading level0 row1\" >435625</th>\n",
       "                        <td id=\"T_4d2fe_row1_col0\" class=\"data row1 col0\" >Exodus 19:10</td>\n",
       "                        <td id=\"T_4d2fe_row1_col1\" class=\"data row1 col1\" >וְקִדַּשְׁתָּ֥ם הַיֹּ֖ום וּמָחָ֑ר </td>\n",
       "            </tr>\n",
       "            <tr>\n",
       "                        <th id=\"T_4d2fe_level0_row2\" class=\"row_heading level0 row2\" >437261</th>\n",
       "                        <td id=\"T_4d2fe_row2_col0\" class=\"data row2 col0\" >Exodus 34:21</td>\n",
       "                        <td id=\"T_4d2fe_row2_col1\" class=\"data row2 col1\" >בֶּחָרִ֥ישׁ וּבַקָּצִ֖יר תִּשְׁבֹּֽת׃ </td>\n",
       "            </tr>\n",
       "            <tr>\n",
       "                        <th id=\"T_4d2fe_level0_row3\" class=\"row_heading level0 row3\" >441950</th>\n",
       "                        <td id=\"T_4d2fe_row3_col0\" class=\"data row3 col0\" >Numbers 10:10</td>\n",
       "                        <td id=\"T_4d2fe_row3_col1\" class=\"data row3 col1\" >וּבְיֹ֨ום שִׂמְחַתְכֶ֥ם וּֽבְמֹועֲדֵיכֶם֮ וּבְרָאשֵׁ֣י חָדְשֵׁיכֶם֒ </td>\n",
       "            </tr>\n",
       "            <tr>\n",
       "                        <th id=\"T_4d2fe_level0_row4\" class=\"row_heading level0 row4\" >443058</th>\n",
       "                        <td id=\"T_4d2fe_row4_col0\" class=\"data row4 col0\" >Numbers 19:19</td>\n",
       "                        <td id=\"T_4d2fe_row4_col1\" class=\"data row4 col1\" >וְהִזָּ֤ה הַטָּהֹר֙ עַל־הַטָּמֵ֔א בַּיֹּ֥ום הַשְּׁלִישִׁ֖י וּבַיֹּ֣ום הַשְּׁבִיעִ֑י </td>\n",
       "            </tr>\n",
       "            <tr>\n",
       "                        <th id=\"T_4d2fe_level0_row5\" class=\"row_heading level0 row5\" >444303</th>\n",
       "                        <td id=\"T_4d2fe_row5_col0\" class=\"data row5 col0\" >Numbers 31:19</td>\n",
       "                        <td id=\"T_4d2fe_row5_col1\" class=\"data row5 col1\" >תִּֽתְחַטְּא֞וּ בַּיֹּ֤ום הַשְּׁלִישִׁי֙ וּבַיֹּ֣ום הַשְּׁבִיעִ֔י אַתֶּ֖ם וּשְׁבִיכֶֽם׃ </td>\n",
       "            </tr>\n",
       "            <tr>\n",
       "                        <th id=\"T_4d2fe_level0_row6\" class=\"row_heading level0 row6\" >456593</th>\n",
       "                        <td id=\"T_4d2fe_row6_col0\" class=\"data row6 col0\" >1_Samuel 20:27</td>\n",
       "                        <td id=\"T_4d2fe_row6_col1\" class=\"data row6 col1\" >מַדּ֜וּעַ לֹא־בָ֧א בֶן־יִשַׁ֛י גַּם־תְּמֹ֥ול גַּם־הַיֹּ֖ום אֶל־הַלָּֽחֶם׃ </td>\n",
       "            </tr>\n",
       "            <tr>\n",
       "                        <th id=\"T_4d2fe_level0_row7\" class=\"row_heading level0 row7\" >458278</th>\n",
       "                        <td id=\"T_4d2fe_row7_col0\" class=\"data row7 col0\" >2_Samuel 3:17</td>\n",
       "                        <td id=\"T_4d2fe_row7_col1\" class=\"data row7 col1\" >גַּם־תְּמֹול֙ גַּם־שִׁלְשֹׁ֔ם הֱיִיתֶ֞ם מְבַקְשִׁ֧ים אֶת־דָּוִ֛ד לְמֶ֖לֶךְ עֲלֵיכֶֽם׃ </td>\n",
       "            </tr>\n",
       "            <tr>\n",
       "                        <th id=\"T_4d2fe_level0_row8\" class=\"row_heading level0 row8\" >458453</th>\n",
       "                        <td id=\"T_4d2fe_row8_col0\" class=\"data row8 col0\" >2_Samuel 5:2</td>\n",
       "                        <td id=\"T_4d2fe_row8_col1\" class=\"data row8 col1\" >גַּם־אֶתְמֹ֣ול גַּם־שִׁלְשֹׁ֗ום אַתָּ֗ה הָיִ֛יתָ </td>\n",
       "            </tr>\n",
       "            <tr>\n",
       "                        <th id=\"T_4d2fe_level0_row9\" class=\"row_heading level0 row9\" >485201</th>\n",
       "                        <td id=\"T_4d2fe_row9_col0\" class=\"data row9 col0\" >Ezekiel 45:17</td>\n",
       "                        <td id=\"T_4d2fe_row9_col1\" class=\"data row9 col1\" >וְעַֽל־הַנָּשִׂ֣יא יִהְיֶ֗ה הָעֹולֹ֣ות וְהַמִּנְחָה֮ וְהַנֵּסֶךְ֒ בַּחַגִּ֤ים וּבֶחֳדָשִׁים֙ וּבַשַּׁבָּתֹ֔ות בְּכָֽל־מֹועֲדֵ֖י בֵּ֣ית יִשְׂרָאֵ֑ל </td>\n",
       "            </tr>\n",
       "            <tr>\n",
       "                        <th id=\"T_4d2fe_level0_row10\" class=\"row_heading level0 row10\" >485538</th>\n",
       "                        <td id=\"T_4d2fe_row10_col0\" class=\"data row10 col0\" >Hosea 1:1</td>\n",
       "                        <td id=\"T_4d2fe_row10_col1\" class=\"data row10 col1\" >אֲשֶׁ֣ר הָיָ֗ה אֶל־הֹושֵׁ֨עַ֙ בֶּן־בְּאֵרִ֔י בִּימֵ֨י עֻזִּיָּ֥ה יֹותָ֛ם אָחָ֥ז יְחִזְקִיָּ֖ה מַלְכֵ֣י יְהוּדָ֑ה וּבִימֵ֛י יָרָבְעָ֥ם בֶּן־יֹואָ֖שׁ מֶ֥לֶךְ יִשְׂרָאֵֽל׃ </td>\n",
       "            </tr>\n",
       "            <tr>\n",
       "                        <th id=\"T_4d2fe_level0_row11\" class=\"row_heading level0 row11\" >489376</th>\n",
       "                        <td id=\"T_4d2fe_row11_col0\" class=\"data row11 col0\" >Zechariah 7:5</td>\n",
       "                        <td id=\"T_4d2fe_row11_col1\" class=\"data row11 col1\" >כִּֽי־צַמְתֶּ֨ם בַּחֲמִישִׁ֣י וּבַשְּׁבִיעִ֗י </td>\n",
       "            </tr>\n",
       "            <tr>\n",
       "                        <th id=\"T_4d2fe_level0_row12\" class=\"row_heading level0 row12\" >489880</th>\n",
       "                        <td id=\"T_4d2fe_row12_col0\" class=\"data row12 col0\" >Zechariah 14:8</td>\n",
       "                        <td id=\"T_4d2fe_row12_col1\" class=\"data row12 col1\" >בַּקַּ֥יִץ וּבָחֹ֖רֶף יִֽהְיֶֽה׃ </td>\n",
       "            </tr>\n",
       "            <tr>\n",
       "                        <th id=\"T_4d2fe_level0_row13\" class=\"row_heading level0 row13\" >492287</th>\n",
       "                        <td id=\"T_4d2fe_row13_col0\" class=\"data row13 col0\" >Psalms 44:2</td>\n",
       "                        <td id=\"T_4d2fe_row13_col1\" class=\"data row13 col1\" >פָּעַ֥לְתָּ בִֽ֝ימֵיהֶ֗ם בִּ֣ימֵי קֶֽדֶם׃ </td>\n",
       "            </tr>\n",
       "            <tr>\n",
       "                        <th id=\"T_4d2fe_level0_row14\" class=\"row_heading level0 row14\" >492831</th>\n",
       "                        <td id=\"T_4d2fe_row14_col0\" class=\"data row14 col0\" >Psalms 55:18</td>\n",
       "                        <td id=\"T_4d2fe_row14_col1\" class=\"data row14 col1\" >עֶ֤רֶב וָבֹ֣קֶר וְ֭צָהֳרַיִם אָשִׂ֣יחָה </td>\n",
       "            </tr>\n",
       "            <tr>\n",
       "                        <th id=\"T_4d2fe_level0_row15\" class=\"row_heading level0 row15\" >500902</th>\n",
       "                        <td id=\"T_4d2fe_row15_col0\" class=\"data row15 col0\" >Proverbs 7:9</td>\n",
       "                        <td id=\"T_4d2fe_row15_col1\" class=\"data row15 col1\" >בְּנֶֽשֶׁף־בְּעֶ֥רֶב יֹ֑ום בְּאִישֹׁ֥ון לַ֝֗יְלָה וַאֲפֵלָֽה׃ </td>\n",
       "            </tr>\n",
       "            <tr>\n",
       "                        <th id=\"T_4d2fe_level0_row16\" class=\"row_heading level0 row16\" >509517</th>\n",
       "                        <td id=\"T_4d2fe_row16_col0\" class=\"data row16 col0\" >Nehemiah 10:32</td>\n",
       "                        <td id=\"T_4d2fe_row16_col1\" class=\"data row16 col1\" >לֹא־נִקַּ֥ח מֵהֶ֛ם בַּשַּׁבָּ֖ת וּבְיֹ֣ום קֹ֑דֶשׁ </td>\n",
       "            </tr>\n",
       "            <tr>\n",
       "                        <th id=\"T_4d2fe_level0_row17\" class=\"row_heading level0 row17\" >510696</th>\n",
       "                        <td id=\"T_4d2fe_row17_col0\" class=\"data row17 col0\" >1_Chronicles 11:2</td>\n",
       "                        <td id=\"T_4d2fe_row17_col1\" class=\"data row17 col1\" >גַּם־תְּמֹ֣ול גַּם־שִׁלְשֹׁ֗ום אַתָּ֛ה </td>\n",
       "            </tr>\n",
       "    </tbody></table>"
      ],
      "text/plain": [
       "<pandas.io.formats.style.Styler at 0x7fa29a08e2b0>"
      ]
     },
     "metadata": {},
     "output_type": "display_data"
    },
    {
     "name": "stdout",
     "output_type": "stream",
     "text": [
      "simultaneous + anterior\n",
      "showing 1 of 1\n"
     ]
    },
    {
     "data": {
      "text/html": [
       "<style  type=\"text/css\" >\n",
       "#T_2b8a3_row0_col1{\n",
       "            font-size: 20px;\n",
       "             font-family:  Times New Roman;\n",
       "             text-align:  right;\n",
       "             max-width:  500px;\n",
       "        }</style><table id=\"T_2b8a3_\" ><thead>    <tr>        <th class=\"blank level0\" ></th>        <th class=\"col_heading level0 col0\" >verse</th>        <th class=\"col_heading level0 col1\" >clause</th>    </tr>    <tr>        <th class=\"index_name level0\" >node</th>        <th class=\"blank\" ></th>        <th class=\"blank\" ></th>    </tr></thead><tbody>\n",
       "                <tr>\n",
       "                        <th id=\"T_2b8a3_level0_row0\" class=\"row_heading level0 row0\" >454827</th>\n",
       "                        <td id=\"T_2b8a3_row0_col0\" class=\"data row0 col0\" >1_Samuel 9:9</td>\n",
       "                        <td id=\"T_2b8a3_row0_col1\" class=\"data row0 col1\" >כִּ֤י לַנָּבִיא֙ הַיֹּ֔ום יִקָּרֵ֥א לְפָנִ֖ים הָרֹאֶֽה׃ </td>\n",
       "            </tr>\n",
       "    </tbody></table>"
      ],
      "text/plain": [
       "<pandas.io.formats.style.Styler at 0x7fa29a08e7f0>"
      ]
     },
     "metadata": {},
     "output_type": "display_data"
    },
    {
     "name": "stdout",
     "output_type": "stream",
     "text": [
      "simul_to_end\n",
      "showing 6 of 6\n"
     ]
    },
    {
     "data": {
      "text/html": [
       "<style  type=\"text/css\" >\n",
       "#T_0c40c_row0_col1,#T_0c40c_row1_col1,#T_0c40c_row2_col1,#T_0c40c_row3_col1,#T_0c40c_row4_col1,#T_0c40c_row5_col1{\n",
       "            font-size: 20px;\n",
       "             font-family:  Times New Roman;\n",
       "             text-align:  right;\n",
       "             max-width:  500px;\n",
       "        }</style><table id=\"T_0c40c_\" ><thead>    <tr>        <th class=\"blank level0\" ></th>        <th class=\"col_heading level0 col0\" >verse</th>        <th class=\"col_heading level0 col1\" >clause</th>    </tr>    <tr>        <th class=\"index_name level0\" >node</th>        <th class=\"blank\" ></th>        <th class=\"blank\" ></th>    </tr></thead><tbody>\n",
       "                <tr>\n",
       "                        <th id=\"T_0c40c_level0_row0\" class=\"row_heading level0 row0\" >440647</th>\n",
       "                        <td id=\"T_0c40c_row0_col0\" class=\"data row0 col0\" >Leviticus 25:52</td>\n",
       "                        <td id=\"T_0c40c_row0_col1\" class=\"data row0 col1\" >וְאִם־מְעַ֞ט נִשְׁאַ֧ר בַּשָּׁנִ֛ים עַד־שְׁנַ֥ת הַיֹּבֵ֖ל </td>\n",
       "            </tr>\n",
       "            <tr>\n",
       "                        <th id=\"T_0c40c_level0_row1\" class=\"row_heading level0 row1\" >441886</th>\n",
       "                        <td id=\"T_0c40c_row1_col0\" class=\"data row1 col0\" >Numbers 9:15</td>\n",
       "                        <td id=\"T_0c40c_row1_col1\" class=\"data row1 col1\" >וּבָעֶ֜רֶב יִהְיֶ֧ה עַֽל־הַמִּשְׁכָּ֛ן כְּמַרְאֵה־אֵ֖שׁ עַד־בֹּֽקֶר׃ </td>\n",
       "            </tr>\n",
       "            <tr>\n",
       "                        <th id=\"T_0c40c_level0_row2\" class=\"row_heading level0 row2\" >449706</th>\n",
       "                        <td id=\"T_0c40c_row2_col0\" class=\"data row2 col0\" >Joshua 9:27</td>\n",
       "                        <td id=\"T_0c40c_row2_col1\" class=\"data row2 col1\" >וַיִּתְּנֵ֨ם יְהֹושֻׁ֜עַ בַּיֹּ֣ום הַה֗וּא חֹטְבֵ֥י עֵצִ֛ים וְשֹׁ֥אֲבֵי מַ֖יִם לָֽעֵדָ֑ה וּלְמִזְבַּ֤ח יְהוָה֙ עַד־הַיֹּ֣ום הַזֶּ֔ה אֶל־הַמָּקֹ֖ום </td>\n",
       "            </tr>\n",
       "            <tr>\n",
       "                        <th id=\"T_0c40c_level0_row3\" class=\"row_heading level0 row3\" >453744</th>\n",
       "                        <td id=\"T_0c40c_row3_col0\" class=\"data row3 col0\" >Judges 20:26</td>\n",
       "                        <td id=\"T_0c40c_row3_col1\" class=\"data row3 col1\" >וַיָּצ֥וּמוּ בַיֹּום־הַה֖וּא עַד־הָעָ֑רֶב </td>\n",
       "            </tr>\n",
       "            <tr>\n",
       "                        <th id=\"T_0c40c_level0_row4\" class=\"row_heading level0 row4\" >455340</th>\n",
       "                        <td id=\"T_0c40c_row4_col0\" class=\"data row4 col0\" >1_Samuel 13:13</td>\n",
       "                        <td id=\"T_0c40c_row4_col1\" class=\"data row4 col1\" >כִּ֣י עַתָּ֗ה הֵכִ֨ין יְהוָ֧ה אֶת־מַֽמְלַכְתְּךָ֛ אֶל־יִשְׂרָאֵ֖ל עַד־עֹולָֽם׃ </td>\n",
       "            </tr>\n",
       "            <tr>\n",
       "                        <th id=\"T_0c40c_level0_row5\" class=\"row_heading level0 row5\" >485021</th>\n",
       "                        <td id=\"T_0c40c_row5_col0\" class=\"data row5 col0\" >Ezekiel 43:27</td>\n",
       "                        <td id=\"T_0c40c_row5_col1\" class=\"data row5 col1\" >וְהָיָה֩ בַיֹּ֨ום הַשְּׁמִינִ֜י וָהָ֗לְאָה </td>\n",
       "            </tr>\n",
       "    </tbody></table>"
      ],
      "text/plain": [
       "<pandas.io.formats.style.Styler at 0x7fa29a093f10>"
      ]
     },
     "metadata": {},
     "output_type": "display_data"
    },
    {
     "name": "stdout",
     "output_type": "stream",
     "text": [
      "simultaneous + anterior_limitive?\n",
      "showing 1 of 1\n"
     ]
    },
    {
     "data": {
      "text/html": [
       "<style  type=\"text/css\" >\n",
       "#T_ea2fc_row0_col1{\n",
       "            font-size: 20px;\n",
       "             font-family:  Times New Roman;\n",
       "             text-align:  right;\n",
       "             max-width:  500px;\n",
       "        }</style><table id=\"T_ea2fc_\" ><thead>    <tr>        <th class=\"blank level0\" ></th>        <th class=\"col_heading level0 col0\" >verse</th>        <th class=\"col_heading level0 col1\" >clause</th>    </tr>    <tr>        <th class=\"index_name level0\" >node</th>        <th class=\"blank\" ></th>        <th class=\"blank\" ></th>    </tr></thead><tbody>\n",
       "                <tr>\n",
       "                        <th id=\"T_ea2fc_level0_row0\" class=\"row_heading level0 row0\" >509062</th>\n",
       "                        <td id=\"T_ea2fc_row0_col0\" class=\"data row0 col0\" >Nehemiah 6:15</td>\n",
       "                        <td id=\"T_ea2fc_row0_col1\" class=\"data row0 col1\" >וַתִּשְׁלַם֙ הַֽחֹומָ֔ה בְּעֶשְׂרִ֥ים וַחֲמִשָּׁ֖ה לֶאֱל֑וּל לַחֲמִשִּׁ֥ים וּשְׁנַ֖יִם יֹֽום׃ פ </td>\n",
       "            </tr>\n",
       "    </tbody></table>"
      ],
      "text/plain": [
       "<pandas.io.formats.style.Styler at 0x7fa298b35610>"
      ]
     },
     "metadata": {},
     "output_type": "display_data"
    },
    {
     "name": "stdout",
     "output_type": "stream",
     "text": [
      "simultaneous + anterior_dist\n",
      "showing 1 of 1\n"
     ]
    },
    {
     "data": {
      "text/html": [
       "<style  type=\"text/css\" >\n",
       "#T_8bfcf_row0_col1{\n",
       "            font-size: 20px;\n",
       "             font-family:  Times New Roman;\n",
       "             text-align:  right;\n",
       "             max-width:  500px;\n",
       "        }</style><table id=\"T_8bfcf_\" ><thead>    <tr>        <th class=\"blank level0\" ></th>        <th class=\"col_heading level0 col0\" >verse</th>        <th class=\"col_heading level0 col1\" >clause</th>    </tr>    <tr>        <th class=\"index_name level0\" >node</th>        <th class=\"blank\" ></th>        <th class=\"blank\" ></th>    </tr></thead><tbody>\n",
       "                <tr>\n",
       "                        <th id=\"T_8bfcf_level0_row0\" class=\"row_heading level0 row0\" >486672</th>\n",
       "                        <td id=\"T_8bfcf_row0_col0\" class=\"data row0 col0\" >Amos 1:1</td>\n",
       "                        <td id=\"T_8bfcf_row0_col1\" class=\"data row0 col1\" >אֲשֶׁר֩ חָזָ֨ה עַל־יִשְׂרָאֵ֜ל בִּימֵ֣י׀ עֻזִּיָּ֣ה מֶֽלֶךְ־יְהוּדָ֗ה וּבִימֵ֞י יָרָבְעָ֤ם בֶּן־יֹואָשׁ֙ מֶ֣לֶךְ יִשְׂרָאֵ֔ל שְׁנָתַ֖יִם לִפְנֵ֥י הָרָֽעַשׁ׃ </td>\n",
       "            </tr>\n",
       "    </tbody></table>"
      ],
      "text/plain": [
       "<pandas.io.formats.style.Styler at 0x7fa2986f17f0>"
      ]
     },
     "metadata": {},
     "output_type": "display_data"
    },
    {
     "name": "stdout",
     "output_type": "stream",
     "text": [
      "simultaneous + posterior\n",
      "showing 2 of 2\n"
     ]
    },
    {
     "data": {
      "text/html": [
       "<style  type=\"text/css\" >\n",
       "#T_6ab47_row0_col1,#T_6ab47_row1_col1{\n",
       "            font-size: 20px;\n",
       "             font-family:  Times New Roman;\n",
       "             text-align:  right;\n",
       "             max-width:  500px;\n",
       "        }</style><table id=\"T_6ab47_\" ><thead>    <tr>        <th class=\"blank level0\" ></th>        <th class=\"col_heading level0 col0\" >verse</th>        <th class=\"col_heading level0 col1\" >clause</th>    </tr>    <tr>        <th class=\"index_name level0\" >node</th>        <th class=\"blank\" ></th>        <th class=\"blank\" ></th>    </tr></thead><tbody>\n",
       "                <tr>\n",
       "                        <th id=\"T_6ab47_level0_row0\" class=\"row_heading level0 row0\" >458190</th>\n",
       "                        <td id=\"T_6ab47_row0_col0\" class=\"data row0 col0\" >2_Samuel 2:27</td>\n",
       "                        <td id=\"T_6ab47_row0_col1\" class=\"data row0 col1\" >כִּ֣י אָ֤ז מֵֽהַבֹּ֨קֶר֙ נַעֲלָ֣ה הָעָ֔ם </td>\n",
       "            </tr>\n",
       "            <tr>\n",
       "                        <th id=\"T_6ab47_level0_row1\" class=\"row_heading level0 row1\" >459017</th>\n",
       "                        <td id=\"T_6ab47_row1_col0\" class=\"data row1 col0\" >2_Samuel 11:12</td>\n",
       "                        <td id=\"T_6ab47_row1_col1\" class=\"data row1 col1\" >וַיֵּ֨שֶׁב אוּרִיָּ֧ה בִירוּשָׁלִַ֛ם בַּיֹּ֥ום הַה֖וּא וּמִֽמָּחֳרָֽת׃ </td>\n",
       "            </tr>\n",
       "    </tbody></table>"
      ],
      "text/plain": [
       "<pandas.io.formats.style.Styler at 0x7fa29a093df0>"
      ]
     },
     "metadata": {},
     "output_type": "display_data"
    },
    {
     "name": "stdout",
     "output_type": "stream",
     "text": [
      "simultaneous + posteriors\n",
      "showing 1 of 1\n"
     ]
    },
    {
     "data": {
      "text/html": [
       "<style  type=\"text/css\" >\n",
       "#T_5be66_row0_col1{\n",
       "            font-size: 20px;\n",
       "             font-family:  Times New Roman;\n",
       "             text-align:  right;\n",
       "             max-width:  500px;\n",
       "        }</style><table id=\"T_5be66_\" ><thead>    <tr>        <th class=\"blank level0\" ></th>        <th class=\"col_heading level0 col0\" >verse</th>        <th class=\"col_heading level0 col1\" >clause</th>    </tr>    <tr>        <th class=\"index_name level0\" >node</th>        <th class=\"blank\" ></th>        <th class=\"blank\" ></th>    </tr></thead><tbody>\n",
       "                <tr>\n",
       "                        <th id=\"T_5be66_level0_row0\" class=\"row_heading level0 row0\" >454472</th>\n",
       "                        <td id=\"T_5be66_row0_col0\" class=\"data row0 col0\" >1_Samuel 5:4</td>\n",
       "                        <td id=\"T_5be66_row0_col1\" class=\"data row0 col1\" >וַיַּשְׁכִּ֣מוּ בַבֹּקֶר֮ מִֽמָּחֳרָת֒ </td>\n",
       "            </tr>\n",
       "    </tbody></table>"
      ],
      "text/plain": [
       "<pandas.io.formats.style.Styler at 0x7fa299ebdfd0>"
      ]
     },
     "metadata": {},
     "output_type": "display_data"
    },
    {
     "name": "stdout",
     "output_type": "stream",
     "text": [
      "simultaneous + dist_posterior\n",
      "showing 1 of 1\n"
     ]
    },
    {
     "data": {
      "text/html": [
       "<style  type=\"text/css\" >\n",
       "#T_637b1_row0_col1{\n",
       "            font-size: 20px;\n",
       "             font-family:  Times New Roman;\n",
       "             text-align:  right;\n",
       "             max-width:  500px;\n",
       "        }</style><table id=\"T_637b1_\" ><thead>    <tr>        <th class=\"blank level0\" ></th>        <th class=\"col_heading level0 col0\" >verse</th>        <th class=\"col_heading level0 col1\" >clause</th>    </tr>    <tr>        <th class=\"index_name level0\" >node</th>        <th class=\"blank\" ></th>        <th class=\"blank\" ></th>    </tr></thead><tbody>\n",
       "                <tr>\n",
       "                        <th id=\"T_637b1_level0_row0\" class=\"row_heading level0 row0\" >457817</th>\n",
       "                        <td id=\"T_637b1_row0_col0\" class=\"data row0 col0\" >1_Samuel 30:13</td>\n",
       "                        <td id=\"T_637b1_row0_col1\" class=\"data row0 col1\" >כִּ֥י חָלִ֖יתִי הַיֹּ֥ום שְׁלֹשָֽׁה׃ </td>\n",
       "            </tr>\n",
       "    </tbody></table>"
      ],
      "text/plain": [
       "<pandas.io.formats.style.Styler at 0x7fa29a08edc0>"
      ]
     },
     "metadata": {},
     "output_type": "display_data"
    },
    {
     "name": "stdout",
     "output_type": "stream",
     "text": [
      "posterior + simultaneous\n",
      "showing 3 of 3\n"
     ]
    },
    {
     "data": {
      "text/html": [
       "<style  type=\"text/css\" >\n",
       "#T_a8eed_row0_col1,#T_a8eed_row1_col1,#T_a8eed_row2_col1{\n",
       "            font-size: 20px;\n",
       "             font-family:  Times New Roman;\n",
       "             text-align:  right;\n",
       "             max-width:  500px;\n",
       "        }</style><table id=\"T_a8eed_\" ><thead>    <tr>        <th class=\"blank level0\" ></th>        <th class=\"col_heading level0 col0\" >verse</th>        <th class=\"col_heading level0 col1\" >clause</th>    </tr>    <tr>        <th class=\"index_name level0\" >node</th>        <th class=\"blank\" ></th>        <th class=\"blank\" ></th>    </tr></thead><tbody>\n",
       "                <tr>\n",
       "                        <th id=\"T_a8eed_level0_row0\" class=\"row_heading level0 row0\" >448273</th>\n",
       "                        <td id=\"T_a8eed_row0_col0\" class=\"data row0 col0\" >Deuteronomy 31:10</td>\n",
       "                        <td id=\"T_a8eed_row0_col1\" class=\"data row0 col1\" >מִקֵּ֣ץ׀ שֶׁ֣בַע שָׁנִ֗ים בְּמֹעֵ֛ד שְׁנַ֥ת הַשְּׁמִטָּ֖ה בְּחַ֥ג הַסֻּכֹּֽות׃ תִּקְרָ֞א אֶת־הַתֹּורָ֥ה הַזֹּ֛את נֶ֥גֶד כָּל־יִשְׂרָאֵ֖ל בְּאָזְנֵיהֶֽם׃ </td>\n",
       "            </tr>\n",
       "            <tr>\n",
       "                        <th id=\"T_a8eed_level0_row1\" class=\"row_heading level0 row1\" >449148</th>\n",
       "                        <td id=\"T_a8eed_row1_col0\" class=\"data row1 col0\" >Joshua 5:11</td>\n",
       "                        <td id=\"T_a8eed_row1_col1\" class=\"data row1 col1\" >וַיֹּ֨אכְל֜וּ מֵעֲב֥וּר הָאָ֛רֶץ מִמָּֽחֳרַ֥ת הַפֶּ֖סַח מַצֹּ֣ות וְקָל֑וּי בְּעֶ֖צֶם הַיֹּ֥ום הַזֶּֽה׃ </td>\n",
       "            </tr>\n",
       "            <tr>\n",
       "                        <th id=\"T_a8eed_level0_row2\" class=\"row_heading level0 row2\" >452950</th>\n",
       "                        <td id=\"T_a8eed_row2_col0\" class=\"data row2 col0\" >Judges 15:1</td>\n",
       "                        <td id=\"T_a8eed_row2_col1\" class=\"data row2 col1\" >וַיְהִ֨י מִיָּמִ֜ים בִּימֵ֣י קְצִיר־חִטִּ֗ים </td>\n",
       "            </tr>\n",
       "    </tbody></table>"
      ],
      "text/plain": [
       "<pandas.io.formats.style.Styler at 0x7fa29870c820>"
      ]
     },
     "metadata": {},
     "output_type": "display_data"
    },
    {
     "name": "stdout",
     "output_type": "stream",
     "text": [
      "multi_antdur\n",
      "showing 4 of 4\n"
     ]
    },
    {
     "data": {
      "text/html": [
       "<style  type=\"text/css\" >\n",
       "#T_3af72_row0_col1,#T_3af72_row1_col1,#T_3af72_row2_col1,#T_3af72_row3_col1{\n",
       "            font-size: 20px;\n",
       "             font-family:  Times New Roman;\n",
       "             text-align:  right;\n",
       "             max-width:  500px;\n",
       "        }</style><table id=\"T_3af72_\" ><thead>    <tr>        <th class=\"blank level0\" ></th>        <th class=\"col_heading level0 col0\" >verse</th>        <th class=\"col_heading level0 col1\" >clause</th>    </tr>    <tr>        <th class=\"index_name level0\" >node</th>        <th class=\"blank\" ></th>        <th class=\"blank\" ></th>    </tr></thead><tbody>\n",
       "                <tr>\n",
       "                        <th id=\"T_3af72_level0_row0\" class=\"row_heading level0 row0\" >494231</th>\n",
       "                        <td id=\"T_3af72_row0_col0\" class=\"data row0 col0\" >Psalms 79:13</td>\n",
       "                        <td id=\"T_3af72_row0_col1\" class=\"data row0 col1\" >וַאֲנַ֤חְנוּ עַמְּךָ֨׀ וְצֹ֥אן מַרְעִיתֶךָ֮ נֹ֤ודֶ֥ה לְּךָ֗ לְעֹ֫ולָ֥ם לְדֹ֥ר וָדֹ֑ר </td>\n",
       "            </tr>\n",
       "            <tr>\n",
       "                        <th id=\"T_3af72_level0_row1\" class=\"row_heading level0 row1\" >495604</th>\n",
       "                        <td id=\"T_3af72_row1_col0\" class=\"data row1 col0\" >Psalms 106:31</td>\n",
       "                        <td id=\"T_3af72_row1_col1\" class=\"data row1 col1\" >וַתֵּחָ֣שֶׁב לֹ֭ו לִצְדָקָ֑ה לְדֹ֥ר וָ֝דֹ֗ר עַד־עֹולָֽם׃ </td>\n",
       "            </tr>\n",
       "            <tr>\n",
       "                        <th id=\"T_3af72_level0_row2\" class=\"row_heading level0 row2\" >495897</th>\n",
       "                        <td id=\"T_3af72_row2_col0\" class=\"data row2 col0\" >Psalms 111:8</td>\n",
       "                        <td id=\"T_3af72_row2_col1\" class=\"data row2 col1\" >סְמוּכִ֣ים לָעַ֣ד לְעֹולָ֑ם </td>\n",
       "            </tr>\n",
       "            <tr>\n",
       "                        <th id=\"T_3af72_level0_row3\" class=\"row_heading level0 row3\" >497441</th>\n",
       "                        <td id=\"T_3af72_row3_col0\" class=\"data row3 col0\" >Psalms 148:6</td>\n",
       "                        <td id=\"T_3af72_row3_col1\" class=\"data row3 col1\" >וַיַּעֲמִידֵ֣ם לָעַ֣ד לְעֹולָ֑ם </td>\n",
       "            </tr>\n",
       "    </tbody></table>"
      ],
      "text/plain": [
       "<pandas.io.formats.style.Styler at 0x7fa298b35730>"
      ]
     },
     "metadata": {},
     "output_type": "display_data"
    },
    {
     "name": "stdout",
     "output_type": "stream",
     "text": [
      "anterior_dur + anterior\n",
      "showing 1 of 1\n"
     ]
    },
    {
     "data": {
      "text/html": [
       "<style  type=\"text/css\" >\n",
       "#T_db825_row0_col1{\n",
       "            font-size: 20px;\n",
       "             font-family:  Times New Roman;\n",
       "             text-align:  right;\n",
       "             max-width:  500px;\n",
       "        }</style><table id=\"T_db825_\" ><thead>    <tr>        <th class=\"blank level0\" ></th>        <th class=\"col_heading level0 col0\" >verse</th>        <th class=\"col_heading level0 col1\" >clause</th>    </tr>    <tr>        <th class=\"index_name level0\" >node</th>        <th class=\"blank\" ></th>        <th class=\"blank\" ></th>    </tr></thead><tbody>\n",
       "                <tr>\n",
       "                        <th id=\"T_db825_level0_row0\" class=\"row_heading level0 row0\" >472225</th>\n",
       "                        <td id=\"T_db825_row0_col0\" class=\"data row0 col0\" >Isaiah 48:7</td>\n",
       "                        <td id=\"T_db825_row0_col1\" class=\"data row0 col1\" >וְלֹ֣א מֵאָ֔ז וְלִפְנֵי־יֹ֖ום </td>\n",
       "            </tr>\n",
       "    </tbody></table>"
      ],
      "text/plain": [
       "<pandas.io.formats.style.Styler at 0x7fa29a093910>"
      ]
     },
     "metadata": {},
     "output_type": "display_data"
    },
    {
     "name": "stdout",
     "output_type": "stream",
     "text": [
      "anterior + posterior\n",
      "showing 1 of 1\n"
     ]
    },
    {
     "data": {
      "text/html": [
       "<style  type=\"text/css\" >\n",
       "#T_947ad_row0_col1{\n",
       "            font-size: 20px;\n",
       "             font-family:  Times New Roman;\n",
       "             text-align:  right;\n",
       "             max-width:  500px;\n",
       "        }</style><table id=\"T_947ad_\" ><thead>    <tr>        <th class=\"blank level0\" ></th>        <th class=\"col_heading level0 col0\" >verse</th>        <th class=\"col_heading level0 col1\" >clause</th>    </tr>    <tr>        <th class=\"index_name level0\" >node</th>        <th class=\"blank\" ></th>        <th class=\"blank\" ></th>    </tr></thead><tbody>\n",
       "                <tr>\n",
       "                        <th id=\"T_947ad_level0_row0\" class=\"row_heading level0 row0\" >449770</th>\n",
       "                        <td id=\"T_947ad_row0_col0\" class=\"data row0 col0\" >Joshua 10:14</td>\n",
       "                        <td id=\"T_947ad_row0_col1\" class=\"data row0 col1\" >וְלֹ֨א הָיָ֜ה כַּיֹּ֤ום הַהוּא֙ לְפָנָ֣יו וְאַחֲרָ֔יו </td>\n",
       "            </tr>\n",
       "    </tbody></table>"
      ],
      "text/plain": [
       "<pandas.io.formats.style.Styler at 0x7fa29a093880>"
      ]
     },
     "metadata": {},
     "output_type": "display_data"
    },
    {
     "name": "stdout",
     "output_type": "stream",
     "text": [
      "multi_posterior_dur\n",
      "showing 2 of 2\n"
     ]
    },
    {
     "data": {
      "text/html": [
       "<style  type=\"text/css\" >\n",
       "#T_a8335_row0_col1,#T_a8335_row1_col1{\n",
       "            font-size: 20px;\n",
       "             font-family:  Times New Roman;\n",
       "             text-align:  right;\n",
       "             max-width:  500px;\n",
       "        }</style><table id=\"T_a8335_\" ><thead>    <tr>        <th class=\"blank level0\" ></th>        <th class=\"col_heading level0 col0\" >verse</th>        <th class=\"col_heading level0 col1\" >clause</th>    </tr>    <tr>        <th class=\"index_name level0\" >node</th>        <th class=\"blank\" ></th>        <th class=\"blank\" ></th>    </tr></thead><tbody>\n",
       "                <tr>\n",
       "                        <th id=\"T_a8335_level0_row0\" class=\"row_heading level0 row0\" >433888</th>\n",
       "                        <td id=\"T_a8335_row0_col0\" class=\"data row0 col0\" >Exodus 4:10</td>\n",
       "                        <td id=\"T_a8335_row0_col1\" class=\"data row0 col1\" >לֹא֩ אִ֨ישׁ דְּבָרִ֜ים אָנֹ֗כִי גַּ֤ם מִתְּמֹול֙ גַּ֣ם מִשִּׁלְשֹׁ֔ם גַּ֛ם מֵאָ֥ז </td>\n",
       "            </tr>\n",
       "            <tr>\n",
       "                        <th id=\"T_a8335_level0_row1\" class=\"row_heading level0 row1\" >501001</th>\n",
       "                        <td id=\"T_a8335_row1_col0\" class=\"data row1 col0\" >Proverbs 8:23</td>\n",
       "                        <td id=\"T_a8335_row1_col1\" class=\"data row1 col1\" >מֵרֹ֗אשׁ מִקַּדְמֵי־אָֽרֶץ׃ </td>\n",
       "            </tr>\n",
       "    </tbody></table>"
      ],
      "text/plain": [
       "<pandas.io.formats.style.Styler at 0x7fa299ebd400>"
      ]
     },
     "metadata": {},
     "output_type": "display_data"
    },
    {
     "name": "stdout",
     "output_type": "stream",
     "text": [
      "simultaneous + purposive_ext\n",
      "showing 1 of 1\n"
     ]
    },
    {
     "data": {
      "text/html": [
       "<style  type=\"text/css\" >\n",
       "#T_fb325_row0_col1{\n",
       "            font-size: 20px;\n",
       "             font-family:  Times New Roman;\n",
       "             text-align:  right;\n",
       "             max-width:  500px;\n",
       "        }</style><table id=\"T_fb325_\" ><thead>    <tr>        <th class=\"blank level0\" ></th>        <th class=\"col_heading level0 col0\" >verse</th>        <th class=\"col_heading level0 col1\" >clause</th>    </tr>    <tr>        <th class=\"index_name level0\" >node</th>        <th class=\"blank\" ></th>        <th class=\"blank\" ></th>    </tr></thead><tbody>\n",
       "                <tr>\n",
       "                        <th id=\"T_fb325_level0_row0\" class=\"row_heading level0 row0\" >462469</th>\n",
       "                        <td id=\"T_fb325_row0_col0\" class=\"data row0 col0\" >1_Kings 8:65</td>\n",
       "                        <td id=\"T_fb325_row0_col1\" class=\"data row0 col1\" >וַיַּ֣עַשׂ שְׁלֹמֹ֣ה בָֽעֵת־הַהִ֣יא׀ אֶת־הֶחָ֡ג לִפְנֵי֙ יְהוָ֣ה אֱלֹהֵ֔ינוּ שִׁבְעַ֥ת יָמִ֖ים וְשִׁבְעַ֣ת יָמִ֑ים אַרְבָּעָ֥ה עָשָׂ֖ר יֹֽום׃ </td>\n",
       "            </tr>\n",
       "    </tbody></table>"
      ],
      "text/plain": [
       "<pandas.io.formats.style.Styler at 0x7fa299ebd2b0>"
      ]
     },
     "metadata": {},
     "output_type": "display_data"
    },
    {
     "data": {
      "text/html": [
       "<hr>"
      ],
      "text/plain": [
       "<IPython.core.display.HTML object>"
      ]
     },
     "metadata": {},
     "output_type": "display_data"
    },
    {
     "data": {
      "text/html": [
       "<h2>Coordinated Extent</h2>"
      ],
      "text/plain": [
       "<IPython.core.display.HTML object>"
      ]
     },
     "metadata": {},
     "output_type": "display_data"
    },
    {
     "name": "stdout",
     "output_type": "stream",
     "text": [
      "multi_atelic_ext\n",
      "showing 1 of 1\n"
     ]
    },
    {
     "data": {
      "text/html": [
       "<style  type=\"text/css\" >\n",
       "#T_e59a8_row0_col1{\n",
       "            font-size: 20px;\n",
       "             font-family:  Times New Roman;\n",
       "             text-align:  right;\n",
       "             max-width:  500px;\n",
       "        }</style><table id=\"T_e59a8_\" ><thead>    <tr>        <th class=\"blank level0\" ></th>        <th class=\"col_heading level0 col0\" >verse</th>        <th class=\"col_heading level0 col1\" >clause</th>    </tr>    <tr>        <th class=\"index_name level0\" >node</th>        <th class=\"blank\" ></th>        <th class=\"blank\" ></th>    </tr></thead><tbody>\n",
       "                <tr>\n",
       "                        <th id=\"T_e59a8_level0_row0\" class=\"row_heading level0 row0\" >438599</th>\n",
       "                        <td id=\"T_e59a8_row0_col0\" class=\"data row0 col0\" >Leviticus 8:35</td>\n",
       "                        <td id=\"T_e59a8_row0_col1\" class=\"data row0 col1\" >וּפֶתַח֩ אֹ֨הֶל מֹועֵ֜ד תֵּשְׁב֨וּ יֹומָ֤ם וָלַ֨יְלָה֙ שִׁבְעַ֣ת יָמִ֔ים </td>\n",
       "            </tr>\n",
       "    </tbody></table>"
      ],
      "text/plain": [
       "<pandas.io.formats.style.Styler at 0x7fa29a08ef40>"
      ]
     },
     "metadata": {},
     "output_type": "display_data"
    },
    {
     "data": {
      "text/html": [
       "<hr>"
      ],
      "text/plain": [
       "<IPython.core.display.HTML object>"
      ]
     },
     "metadata": {},
     "output_type": "display_data"
    },
    {
     "data": {
      "text/html": [
       "<h2>Location + Extent</h2>"
      ],
      "text/plain": [
       "<IPython.core.display.HTML object>"
      ]
     },
     "metadata": {},
     "output_type": "display_data"
    },
    {
     "name": "stdout",
     "output_type": "stream",
     "text": [
      "simultaneous + atelic_ext\n",
      "showing 23 of 23\n"
     ]
    },
    {
     "data": {
      "text/html": [
       "<style  type=\"text/css\" >\n",
       "#T_bcaad_row0_col1,#T_bcaad_row1_col1,#T_bcaad_row2_col1,#T_bcaad_row3_col1,#T_bcaad_row4_col1,#T_bcaad_row5_col1,#T_bcaad_row6_col1,#T_bcaad_row7_col1,#T_bcaad_row8_col1,#T_bcaad_row9_col1,#T_bcaad_row10_col1,#T_bcaad_row11_col1,#T_bcaad_row12_col1,#T_bcaad_row13_col1,#T_bcaad_row14_col1,#T_bcaad_row15_col1,#T_bcaad_row16_col1,#T_bcaad_row17_col1,#T_bcaad_row18_col1,#T_bcaad_row19_col1,#T_bcaad_row20_col1,#T_bcaad_row21_col1,#T_bcaad_row22_col1{\n",
       "            font-size: 20px;\n",
       "             font-family:  Times New Roman;\n",
       "             text-align:  right;\n",
       "             max-width:  500px;\n",
       "        }</style><table id=\"T_bcaad_\" ><thead>    <tr>        <th class=\"blank level0\" ></th>        <th class=\"col_heading level0 col0\" >verse</th>        <th class=\"col_heading level0 col1\" >clause</th>    </tr>    <tr>        <th class=\"index_name level0\" >node</th>        <th class=\"blank\" ></th>        <th class=\"blank\" ></th>    </tr></thead><tbody>\n",
       "                <tr>\n",
       "                        <th id=\"T_bcaad_level0_row0\" class=\"row_heading level0 row0\" >440366</th>\n",
       "                        <td id=\"T_bcaad_row0_col0\" class=\"data row0 col0\" >Leviticus 23:34</td>\n",
       "                        <td id=\"T_bcaad_row0_col1\" class=\"data row0 col1\" >בַּחֲמִשָּׁ֨ה עָשָׂ֜ר יֹ֗ום לַחֹ֤דֶשׁ הַשְּׁבִיעִי֙ הַזֶּ֔ה חַ֧ג הַסֻּכֹּ֛ות שִׁבְעַ֥ת יָמִ֖ים לַיהֹוָֽה׃ </td>\n",
       "            </tr>\n",
       "            <tr>\n",
       "                        <th id=\"T_bcaad_level0_row1\" class=\"row_heading level0 row1\" >440379</th>\n",
       "                        <td id=\"T_bcaad_row1_col0\" class=\"data row1 col0\" >Leviticus 23:39</td>\n",
       "                        <td id=\"T_bcaad_row1_col1\" class=\"data row1 col1\" >אַ֡ךְ בַּחֲמִשָּׁה֩ עָשָׂ֨ר יֹ֜ום לַחֹ֣דֶשׁ הַשְּׁבִיעִ֗י תָּחֹ֥גּוּ אֶת־חַג־יְהוָ֖ה שִׁבְעַ֣ת יָמִ֑ים </td>\n",
       "            </tr>\n",
       "            <tr>\n",
       "                        <th id=\"T_bcaad_level0_row2\" class=\"row_heading level0 row2\" >453056</th>\n",
       "                        <td id=\"T_bcaad_row2_col0\" class=\"data row2 col0\" >Judges 15:20</td>\n",
       "                        <td id=\"T_bcaad_row2_col1\" class=\"data row2 col1\" >וַיִּשְׁפֹּ֧ט אֶת־יִשְׂרָאֵ֛ל בִּימֵ֥י פְלִשְׁתִּ֖ים עֶשְׂרִ֥ים שָׁנָֽה׃ פ </td>\n",
       "            </tr>\n",
       "            <tr>\n",
       "                        <th id=\"T_bcaad_level0_row3\" class=\"row_heading level0 row3\" >454891</th>\n",
       "                        <td id=\"T_bcaad_row3_col0\" class=\"data row3 col0\" >1_Samuel 9:20</td>\n",
       "                        <td id=\"T_bcaad_row3_col1\" class=\"data row3 col1\" >הָאֹבְדֹ֣ות לְךָ֗ הַיֹּום֙ שְׁלֹ֣שֶׁת הַיָּמִ֔ים </td>\n",
       "            </tr>\n",
       "            <tr>\n",
       "                        <th id=\"T_bcaad_level0_row4\" class=\"row_heading level0 row4\" >460649</th>\n",
       "                        <td id=\"T_bcaad_row4_col0\" class=\"data row4 col0\" >2_Samuel 21:1</td>\n",
       "                        <td id=\"T_bcaad_row4_col1\" class=\"data row4 col1\" >וַיְהִ֣י רָעָב֩ בִּימֵ֨י דָוִ֜ד שָׁלֹ֣שׁ שָׁנִ֗ים שָׁנָה֙ אַחֲרֵ֣י שָׁנָ֔ה </td>\n",
       "            </tr>\n",
       "            <tr>\n",
       "                        <th id=\"T_bcaad_level0_row5\" class=\"row_heading level0 row5\" >463448</th>\n",
       "                        <td id=\"T_bcaad_row5_col0\" class=\"data row5 col0\" >1_Kings 15:33</td>\n",
       "                        <td id=\"T_bcaad_row5_col1\" class=\"data row5 col1\" >בִּשְׁנַ֣ת שָׁלֹ֔שׁ לְאָסָ֖א מֶ֣לֶךְ יְהוּדָ֑ה מָ֠לַךְ בַּעְשָׁ֨א בֶן־אֲחִיָּ֤ה עַל־כָּל־יִשְׂרָאֵל֙ בְּתִרְצָ֔ה עֶשְׂרִ֥ים וְאַרְבַּ֖ע שָׁנָֽה׃ </td>\n",
       "            </tr>\n",
       "            <tr>\n",
       "                        <th id=\"T_bcaad_level0_row6\" class=\"row_heading level0 row6\" >463478</th>\n",
       "                        <td id=\"T_bcaad_row6_col0\" class=\"data row6 col0\" >1_Kings 16:8</td>\n",
       "                        <td id=\"T_bcaad_row6_col1\" class=\"data row6 col1\" >בִּשְׁנַ֨ת עֶשְׂרִ֤ים וָשֵׁשׁ֙ שָׁנָ֔ה לְאָסָ֖א מֶ֣לֶךְ יְהוּדָ֑ה מָ֠לַךְ אֵלָ֨ה בֶן־בַּעְשָׁ֧א עַל־יִשְׂרָאֵ֛ל בְּתִרְצָ֖ה שְׁנָתָֽיִם׃ </td>\n",
       "            </tr>\n",
       "            <tr>\n",
       "                        <th id=\"T_bcaad_level0_row7\" class=\"row_heading level0 row7\" >463503</th>\n",
       "                        <td id=\"T_bcaad_row7_col0\" class=\"data row7 col0\" >1_Kings 16:15</td>\n",
       "                        <td id=\"T_bcaad_row7_col1\" class=\"data row7 col1\" >בִּשְׁנַת֩ עֶשְׂרִ֨ים וָשֶׁ֜בַע שָׁנָ֗ה לְאָסָא֙ מֶ֣לֶךְ יְהוּדָ֔ה מָלַ֥ךְ זִמְרִ֛י שִׁבְעַ֥ת יָמִ֖ים בְּתִרְצָ֑ה </td>\n",
       "            </tr>\n",
       "            <tr>\n",
       "                        <th id=\"T_bcaad_level0_row8\" class=\"row_heading level0 row8\" >463540</th>\n",
       "                        <td id=\"T_bcaad_row8_col0\" class=\"data row8 col0\" >1_Kings 16:23</td>\n",
       "                        <td id=\"T_bcaad_row8_col1\" class=\"data row8 col1\" >בִּשְׁנַת֩ שְׁלֹשִׁ֨ים וְאַחַ֜ת שָׁנָ֗ה לְאָסָא֙ מֶ֣לֶךְ יְהוּדָ֔ה מָלַ֤ךְ עָמְרִי֙ עַל־יִשְׂרָאֵ֔ל שְׁתֵּ֥ים עֶשְׂרֵ֖ה שָׁנָ֑ה </td>\n",
       "            </tr>\n",
       "            <tr>\n",
       "                        <th id=\"T_bcaad_level0_row9\" class=\"row_heading level0 row9\" >466610</th>\n",
       "                        <td id=\"T_bcaad_row9_col0\" class=\"data row9 col0\" >2_Kings 13:1</td>\n",
       "                        <td id=\"T_bcaad_row9_col1\" class=\"data row9 col1\" >בִּשְׁנַ֨ת עֶשְׂרִ֤ים וְשָׁלֹשׁ֙ שָׁנָ֔ה לְיֹואָ֥שׁ בֶּן־אֲחַזְיָ֖הוּ מֶ֣לֶךְ יְהוּדָ֑ה מָ֠לַךְ יְהֹואָחָ֨ז בֶּן־יֵה֤וּא עַל־יִשְׂרָאֵל֙ בְּשֹׁ֣מְרֹ֔ון שְׁבַ֥ע עֶשְׂרֵ֖ה שָׁנָֽה׃ </td>\n",
       "            </tr>\n",
       "            <tr>\n",
       "                        <th id=\"T_bcaad_level0_row10\" class=\"row_heading level0 row10\" >466640</th>\n",
       "                        <td id=\"T_bcaad_row10_col0\" class=\"data row10 col0\" >2_Kings 13:10</td>\n",
       "                        <td id=\"T_bcaad_row10_col1\" class=\"data row10 col1\" >בִּשְׁנַ֨ת שְׁלֹשִׁ֤ים וָשֶׁ֨בַע֙ שָׁנָ֔ה לְיֹואָ֖שׁ מֶ֣לֶךְ יְהוּדָ֑ה מָ֠לַךְ יְהֹואָ֨שׁ בֶּן־יְהֹואָחָ֤ז עַל־יִשְׂרָאֵל֙ בְּשֹׁ֣מְרֹ֔ון שֵׁ֥שׁ עֶשְׂרֵ֖ה שָׁנָֽה׃ </td>\n",
       "            </tr>\n",
       "            <tr>\n",
       "                        <th id=\"T_bcaad_level0_row11\" class=\"row_heading level0 row11\" >466799</th>\n",
       "                        <td id=\"T_bcaad_row11_col0\" class=\"data row11 col0\" >2_Kings 14:23</td>\n",
       "                        <td id=\"T_bcaad_row11_col1\" class=\"data row11 col1\" >בִּשְׁנַת֙ חֲמֵשׁ־עֶשְׂרֵ֣ה שָׁנָ֔ה לַאֲמַצְיָ֥הוּ בֶן־יֹואָ֖שׁ מֶ֣לֶךְ יְהוּדָ֑ה מָ֠לַךְ יָרָבְעָ֨ם בֶּן־יֹואָ֤שׁ מֶֽלֶךְ־יִשְׂרָאֵל֙ בְּשֹׁ֣מְרֹ֔ון אַרְבָּעִ֥ים וְאַחַ֖ת שָׁנָֽה׃ </td>\n",
       "            </tr>\n",
       "            <tr>\n",
       "                        <th id=\"T_bcaad_level0_row12\" class=\"row_heading level0 row12\" >466845</th>\n",
       "                        <td id=\"T_bcaad_row12_col0\" class=\"data row12 col0\" >2_Kings 15:8</td>\n",
       "                        <td id=\"T_bcaad_row12_col1\" class=\"data row12 col1\" >בִּשְׁנַ֨ת שְׁלֹשִׁ֤ים וּשְׁמֹנֶה֙ שָׁנָ֔ה לַעֲזַרְיָ֖הוּ מֶ֣לֶךְ יְהוּדָ֑ה מָ֠לַךְ זְכַרְיָ֨הוּ בֶן־יָרָבְעָ֧ם עַל־יִשְׂרָאֵ֛ל בְּשֹׁמְרֹ֖ון שִׁשָּׁ֥ה חֳדָשִֽׁים׃ </td>\n",
       "            </tr>\n",
       "            <tr>\n",
       "                        <th id=\"T_bcaad_level0_row13\" class=\"row_heading level0 row13\" >466877</th>\n",
       "                        <td id=\"T_bcaad_row13_col0\" class=\"data row13 col0\" >2_Kings 15:17</td>\n",
       "                        <td id=\"T_bcaad_row13_col1\" class=\"data row13 col1\" >בִּשְׁנַ֨ת שְׁלֹשִׁ֤ים וָתֵ֨שַׁע֙ שָׁנָ֔ה לַעֲזַרְיָ֖ה מֶ֣לֶךְ יְהוּדָ֑ה מָ֠לַךְ מְנַחֵ֨ם בֶּן־גָּדִ֧י עַל־יִשְׂרָאֵ֛ל עֶ֥שֶׂר שָׁנִ֖ים בְּשֹׁמְרֹֽון׃ </td>\n",
       "            </tr>\n",
       "            <tr>\n",
       "                        <th id=\"T_bcaad_level0_row14\" class=\"row_heading level0 row14\" >466896</th>\n",
       "                        <td id=\"T_bcaad_row14_col0\" class=\"data row14 col0\" >2_Kings 15:23</td>\n",
       "                        <td id=\"T_bcaad_row14_col1\" class=\"data row14 col1\" >בִּשְׁנַת֙ חֲמִשִּׁ֣ים שָׁנָ֔ה לַעֲזַרְיָ֖ה מֶ֣לֶךְ יְהוּדָ֑ה מָ֠לַךְ פְּקַֽחְיָ֨ה בֶן־מְנַחֵ֧ם עַל־יִשְׂרָאֵ֛ל בְּשֹׁמְרֹ֖ון שְׁנָתָֽיִם׃ </td>\n",
       "            </tr>\n",
       "            <tr>\n",
       "                        <th id=\"T_bcaad_level0_row15\" class=\"row_heading level0 row15\" >466909</th>\n",
       "                        <td id=\"T_bcaad_row15_col0\" class=\"data row15 col0\" >2_Kings 15:27</td>\n",
       "                        <td id=\"T_bcaad_row15_col1\" class=\"data row15 col1\" >בִּשְׁנַ֨ת חֲמִשִּׁ֤ים וּשְׁתַּ֨יִם֙ שָׁנָ֔ה לַעֲזַרְיָ֖ה מֶ֣לֶךְ יְהוּדָ֑ה מָ֠לַךְ פֶּ֣קַח בֶּן־רְמַלְיָ֧הוּ עַל־יִשְׂרָאֵ֛ל בְּשֹׁמְרֹ֖ון עֶשְׂרִ֥ים שָׁנָֽה׃ </td>\n",
       "            </tr>\n",
       "            <tr>\n",
       "                        <th id=\"T_bcaad_level0_row16\" class=\"row_heading level0 row16\" >467021</th>\n",
       "                        <td id=\"T_bcaad_row16_col0\" class=\"data row16 col0\" >2_Kings 17:1</td>\n",
       "                        <td id=\"T_bcaad_row16_col1\" class=\"data row16 col1\" >בִּשְׁנַת֙ שְׁתֵּ֣ים עֶשְׂרֵ֔ה לְאָחָ֖ז מֶ֣לֶךְ יְהוּדָ֑ה מָ֠לַךְ הֹושֵׁ֨עַ בֶּן־אֵלָ֧ה בְשֹׁמְרֹ֛ון עַל־יִשְׂרָאֵ֖ל תֵּ֥שַׁע שָׁנִֽים׃ </td>\n",
       "            </tr>\n",
       "            <tr>\n",
       "                        <th id=\"T_bcaad_level0_row17\" class=\"row_heading level0 row17\" >484408</th>\n",
       "                        <td id=\"T_bcaad_row17_col0\" class=\"data row17 col0\" >Ezekiel 38:17</td>\n",
       "                        <td id=\"T_bcaad_row17_col1\" class=\"data row17 col1\" >הַֽנִּבְּאִ֛ים בַּיָּמִ֥ים הָהֵ֖ם שָׁנִ֑ים </td>\n",
       "            </tr>\n",
       "            <tr>\n",
       "                        <th id=\"T_bcaad_level0_row18\" class=\"row_heading level0 row18\" >485219</th>\n",
       "                        <td id=\"T_bcaad_row18_col0\" class=\"data row18 col0\" >Ezekiel 45:25</td>\n",
       "                        <td id=\"T_bcaad_row18_col1\" class=\"data row18 col1\" >בַּשְּׁבִיעִ֡י בַּחֲמִשָּׁה֩ עָשָׂ֨ר יֹ֤ום לַחֹ֨דֶשׁ֙ בֶּחָ֔ג יַעֲשֶׂ֥ה כָאֵ֖לֶּה שִׁבְעַ֣ת הַיָּמִ֑ים כַּֽחַטָּאת֙ כָּעֹלָ֔ה וְכַמִּנְחָ֖ה וְכַשָּֽׁמֶן׃ ס </td>\n",
       "            </tr>\n",
       "            <tr>\n",
       "                        <th id=\"T_bcaad_level0_row19\" class=\"row_heading level0 row19\" >507367</th>\n",
       "                        <td id=\"T_bcaad_row19_col0\" class=\"data row19 col0\" >Daniel 10:2</td>\n",
       "                        <td id=\"T_bcaad_row19_col1\" class=\"data row19 col1\" >בַּיָּמִ֖ים הָהֵ֑ם אֲנִ֤י דָֽנִיֵּאל֙ הָיִ֣יתִי מִתְאַבֵּ֔ל שְׁלֹשָׁ֥ה שָׁבֻעִ֖ים יָמִֽים׃ </td>\n",
       "            </tr>\n",
       "            <tr>\n",
       "                        <th id=\"T_bcaad_level0_row20\" class=\"row_heading level0 row20\" >508576</th>\n",
       "                        <td id=\"T_bcaad_row20_col0\" class=\"data row20 col0\" >Nehemiah 1:6</td>\n",
       "                        <td id=\"T_bcaad_row20_col1\" class=\"data row20 col1\" >אֲשֶׁ֣ר אָנֹכִי֩ מִתְפַּלֵּ֨ל לְפָנֶ֤יךָ הַיֹּום֙ יֹומָ֣ם וָלַ֔יְלָה עַל־בְּנֵ֥י יִשְׂרָאֵ֖ל עֲבָדֶ֑יךָ </td>\n",
       "            </tr>\n",
       "            <tr>\n",
       "                        <th id=\"T_bcaad_level0_row21\" class=\"row_heading level0 row21\" >512918</th>\n",
       "                        <td id=\"T_bcaad_row21_col0\" class=\"data row21 col0\" >2_Chronicles 7:8</td>\n",
       "                        <td id=\"T_bcaad_row21_col1\" class=\"data row21 col1\" >וַיַּ֣עַשׂ שְׁלֹמֹ֣ה אֶת־הֶ֠חָג בָּעֵ֨ת הַהִ֜יא שִׁבְעַ֤ת יָמִים֙ </td>\n",
       "            </tr>\n",
       "            <tr>\n",
       "                        <th id=\"T_bcaad_level0_row22\" class=\"row_heading level0 row22\" >513453</th>\n",
       "                        <td id=\"T_bcaad_row22_col0\" class=\"data row22 col0\" >2_Chronicles 13:23</td>\n",
       "                        <td id=\"T_bcaad_row22_col1\" class=\"data row22 col1\" >בְּיָמָ֛יו שָׁקְטָ֥ה הָאָ֖רֶץ עֶ֥שֶׂר שָׁנִֽים׃ פ </td>\n",
       "            </tr>\n",
       "    </tbody></table>"
      ],
      "text/plain": [
       "<pandas.io.formats.style.Styler at 0x7fa29a08e310>"
      ]
     },
     "metadata": {},
     "output_type": "display_data"
    },
    {
     "name": "stdout",
     "output_type": "stream",
     "text": [
      "atelic_ext + simultaneous\n",
      "showing 4 of 4\n"
     ]
    },
    {
     "data": {
      "text/html": [
       "<style  type=\"text/css\" >\n",
       "#T_98f35_row0_col1,#T_98f35_row1_col1,#T_98f35_row2_col1,#T_98f35_row3_col1{\n",
       "            font-size: 20px;\n",
       "             font-family:  Times New Roman;\n",
       "             text-align:  right;\n",
       "             max-width:  500px;\n",
       "        }</style><table id=\"T_98f35_\" ><thead>    <tr>        <th class=\"blank level0\" ></th>        <th class=\"col_heading level0 col0\" >verse</th>        <th class=\"col_heading level0 col1\" >clause</th>    </tr>    <tr>        <th class=\"index_name level0\" >node</th>        <th class=\"blank\" ></th>        <th class=\"blank\" ></th>    </tr></thead><tbody>\n",
       "                <tr>\n",
       "                        <th id=\"T_98f35_level0_row0\" class=\"row_heading level0 row0\" >440385</th>\n",
       "                        <td id=\"T_98f35_row0_col0\" class=\"data row0 col0\" >Leviticus 23:41</td>\n",
       "                        <td id=\"T_98f35_row0_col1\" class=\"data row0 col1\" >וְחַגֹּתֶ֤ם אֹתֹו֙ חַ֣ג לַֽיהוָ֔ה שִׁבְעַ֥ת יָמִ֖ים בַּשָּׁנָ֑ה </td>\n",
       "            </tr>\n",
       "            <tr>\n",
       "                        <th id=\"T_98f35_level0_row1\" class=\"row_heading level0 row1\" >452141</th>\n",
       "                        <td id=\"T_98f35_row1_col0\" class=\"data row1 col0\" >Judges 8:28</td>\n",
       "                        <td id=\"T_98f35_row1_col1\" class=\"data row1 col1\" >וַתִּשְׁקֹ֥ט הָאָ֛רֶץ אַרְבָּעִ֥ים שָׁנָ֖ה בִּימֵ֥י גִדְעֹֽון׃ פ </td>\n",
       "            </tr>\n",
       "            <tr>\n",
       "                        <th id=\"T_98f35_level0_row2\" class=\"row_heading level0 row2\" >452654</th>\n",
       "                        <td id=\"T_98f35_row2_col0\" class=\"data row2 col0\" >Judges 11:40</td>\n",
       "                        <td id=\"T_98f35_row2_col1\" class=\"data row2 col1\" >לְתַנֹּ֕ות לְבַת־יִפְתָּ֖ח הַגִּלְעָדִ֑י אַרְבַּ֥עַת יָמִ֖ים בַּשָּׁנָֽה׃ ס </td>\n",
       "            </tr>\n",
       "            <tr>\n",
       "                        <th id=\"T_98f35_level0_row3\" class=\"row_heading level0 row3\" >483525</th>\n",
       "                        <td id=\"T_98f35_row3_col0\" class=\"data row3 col0\" >Ezekiel 32:10</td>\n",
       "                        <td id=\"T_98f35_row3_col1\" class=\"data row3 col1\" >וְחָרְד֤וּ לִרְגָעִים֙ בְּיֹ֖ום מַפַּלְתֶּֽךָ׃ ס </td>\n",
       "            </tr>\n",
       "    </tbody></table>"
      ],
      "text/plain": [
       "<pandas.io.formats.style.Styler at 0x7fa29a08e580>"
      ]
     },
     "metadata": {},
     "output_type": "display_data"
    },
    {
     "name": "stdout",
     "output_type": "stream",
     "text": [
      "anterior + atelic_ext\n",
      "showing 1 of 1\n"
     ]
    },
    {
     "data": {
      "text/html": [
       "<style  type=\"text/css\" >\n",
       "#T_2ecd0_row0_col1{\n",
       "            font-size: 20px;\n",
       "             font-family:  Times New Roman;\n",
       "             text-align:  right;\n",
       "             max-width:  500px;\n",
       "        }</style><table id=\"T_2ecd0_\" ><thead>    <tr>        <th class=\"blank level0\" ></th>        <th class=\"col_heading level0 col0\" >verse</th>        <th class=\"col_heading level0 col1\" >clause</th>    </tr>    <tr>        <th class=\"index_name level0\" >node</th>        <th class=\"blank\" ></th>        <th class=\"blank\" ></th>    </tr></thead><tbody>\n",
       "                <tr>\n",
       "                        <th id=\"T_2ecd0_level0_row0\" class=\"row_heading level0 row0\" >470739</th>\n",
       "                        <td id=\"T_2ecd0_row0_col0\" class=\"data row0 col0\" >Isaiah 34:10</td>\n",
       "                        <td id=\"T_2ecd0_row0_col1\" class=\"data row0 col1\" >לַ֤יְלָה וְיֹומָם֙ לֹ֣א תִכְבֶּ֔ה </td>\n",
       "            </tr>\n",
       "    </tbody></table>"
      ],
      "text/plain": [
       "<pandas.io.formats.style.Styler at 0x7fa29a08ea30>"
      ]
     },
     "metadata": {},
     "output_type": "display_data"
    },
    {
     "name": "stdout",
     "output_type": "stream",
     "text": [
      "anterior + distance\n",
      "showing 1 of 1\n"
     ]
    },
    {
     "data": {
      "text/html": [
       "<style  type=\"text/css\" >\n",
       "#T_35907_row0_col1{\n",
       "            font-size: 20px;\n",
       "             font-family:  Times New Roman;\n",
       "             text-align:  right;\n",
       "             max-width:  500px;\n",
       "        }</style><table id=\"T_35907_\" ><thead>    <tr>        <th class=\"blank level0\" ></th>        <th class=\"col_heading level0 col0\" >verse</th>        <th class=\"col_heading level0 col1\" >clause</th>    </tr>    <tr>        <th class=\"index_name level0\" >node</th>        <th class=\"blank\" ></th>        <th class=\"blank\" ></th>    </tr></thead><tbody>\n",
       "                <tr>\n",
       "                        <th id=\"T_35907_level0_row0\" class=\"row_heading level0 row0\" >442303</th>\n",
       "                        <td id=\"T_35907_row0_col0\" class=\"data row0 col0\" >Numbers 13:22</td>\n",
       "                        <td id=\"T_35907_row0_col1\" class=\"data row0 col1\" >וְחֶבְרֹ֗ון שֶׁ֤בַע שָׁנִים֙ נִבְנְתָ֔ה לִפְנֵ֖י צֹ֥עַן מִצְרָֽיִם׃ </td>\n",
       "            </tr>\n",
       "    </tbody></table>"
      ],
      "text/plain": [
       "<pandas.io.formats.style.Styler at 0x7fa298b35070>"
      ]
     },
     "metadata": {},
     "output_type": "display_data"
    },
    {
     "name": "stdout",
     "output_type": "stream",
     "text": [
      "atelic_ext + anterior + atelic_ext\n",
      "showing 1 of 1\n"
     ]
    },
    {
     "data": {
      "text/html": [
       "<style  type=\"text/css\" >\n",
       "#T_a5b84_row0_col1{\n",
       "            font-size: 20px;\n",
       "             font-family:  Times New Roman;\n",
       "             text-align:  right;\n",
       "             max-width:  500px;\n",
       "        }</style><table id=\"T_a5b84_\" ><thead>    <tr>        <th class=\"blank level0\" ></th>        <th class=\"col_heading level0 col0\" >verse</th>        <th class=\"col_heading level0 col1\" >clause</th>    </tr>    <tr>        <th class=\"index_name level0\" >node</th>        <th class=\"blank\" ></th>        <th class=\"blank\" ></th>    </tr></thead><tbody>\n",
       "                <tr>\n",
       "                        <th id=\"T_a5b84_level0_row0\" class=\"row_heading level0 row0\" >493706</th>\n",
       "                        <td id=\"T_a5b84_row0_col0\" class=\"data row0 col0\" >Psalms 72:5</td>\n",
       "                        <td id=\"T_a5b84_row0_col1\" class=\"data row0 col1\" >יִֽירָא֥וּךָ עִם־שָׁ֑מֶשׁ וְלִפְנֵ֥י יָ֝רֵ֗חַ דֹּ֣ור דֹּורִֽים׃ </td>\n",
       "            </tr>\n",
       "    </tbody></table>"
      ],
      "text/plain": [
       "<pandas.io.formats.style.Styler at 0x7fa298b350d0>"
      ]
     },
     "metadata": {},
     "output_type": "display_data"
    },
    {
     "name": "stdout",
     "output_type": "stream",
     "text": [
      "anterior_dur + duration\n",
      "showing 2 of 2\n"
     ]
    },
    {
     "data": {
      "text/html": [
       "<style  type=\"text/css\" >\n",
       "#T_e49ba_row0_col1,#T_e49ba_row1_col1{\n",
       "            font-size: 20px;\n",
       "             font-family:  Times New Roman;\n",
       "             text-align:  right;\n",
       "             max-width:  500px;\n",
       "        }</style><table id=\"T_e49ba_\" ><thead>    <tr>        <th class=\"blank level0\" ></th>        <th class=\"col_heading level0 col0\" >verse</th>        <th class=\"col_heading level0 col1\" >clause</th>    </tr>    <tr>        <th class=\"index_name level0\" >node</th>        <th class=\"blank\" ></th>        <th class=\"blank\" ></th>    </tr></thead><tbody>\n",
       "                <tr>\n",
       "                        <th id=\"T_e49ba_level0_row0\" class=\"row_heading level0 row0\" >480002</th>\n",
       "                        <td id=\"T_e49ba_row0_col0\" class=\"data row0 col0\" >Jeremiah 52:34</td>\n",
       "                        <td id=\"T_e49ba_row0_col1\" class=\"data row0 col1\" >אֲרֻחַת֩ תָּמִ֨יד נִתְּנָה־לֹּ֜ו מֵאֵ֧ת מֶֽלֶךְ־בָּבֶ֛ל דְּבַר־יֹ֥ום בְּיֹומֹ֖ו עַד־יֹ֣ום מֹותֹ֑ו כֹּ֖ל יְמֵ֥י חַיָּֽיו׃ </td>\n",
       "            </tr>\n",
       "            <tr>\n",
       "                        <th id=\"T_e49ba_level0_row1\" class=\"row_heading level0 row1\" >490674</th>\n",
       "                        <td id=\"T_e49ba_row1_col0\" class=\"data row1 col0\" >Psalms 13:2</td>\n",
       "                        <td id=\"T_e49ba_row1_col1\" class=\"data row1 col1\" >עַד־אָ֣נָה תִּשְׁכָּחֵ֣נִי נֶ֑צַח </td>\n",
       "            </tr>\n",
       "    </tbody></table>"
      ],
      "text/plain": [
       "<pandas.io.formats.style.Styler at 0x7fa299ec7e20>"
      ]
     },
     "metadata": {},
     "output_type": "display_data"
    },
    {
     "name": "stdout",
     "output_type": "stream",
     "text": [
      "dur_to_end\n",
      "showing 5 of 5\n"
     ]
    },
    {
     "data": {
      "text/html": [
       "<style  type=\"text/css\" >\n",
       "#T_25dc5_row0_col1,#T_25dc5_row1_col1,#T_25dc5_row2_col1,#T_25dc5_row3_col1,#T_25dc5_row4_col1{\n",
       "            font-size: 20px;\n",
       "             font-family:  Times New Roman;\n",
       "             text-align:  right;\n",
       "             max-width:  500px;\n",
       "        }</style><table id=\"T_25dc5_\" ><thead>    <tr>        <th class=\"blank level0\" ></th>        <th class=\"col_heading level0 col0\" >verse</th>        <th class=\"col_heading level0 col1\" >clause</th>    </tr>    <tr>        <th class=\"index_name level0\" >node</th>        <th class=\"blank\" ></th>        <th class=\"blank\" ></th>    </tr></thead><tbody>\n",
       "                <tr>\n",
       "                        <th id=\"T_25dc5_level0_row0\" class=\"row_heading level0 row0\" >438280</th>\n",
       "                        <td id=\"T_25dc5_row0_col0\" class=\"data row0 col0\" >Leviticus 6:2</td>\n",
       "                        <td id=\"T_25dc5_row0_col1\" class=\"data row0 col1\" >עַל֩ מֹוקְדָ֨ה עַל־הַמִּזְבֵּ֤חַ כָּל־הַלַּ֨יְלָה֙ עַד־הַבֹּ֔קֶר </td>\n",
       "            </tr>\n",
       "            <tr>\n",
       "                        <th id=\"T_25dc5_level0_row1\" class=\"row_heading level0 row1\" >447343</th>\n",
       "                        <td id=\"T_25dc5_row1_col0\" class=\"data row1 col0\" >Deuteronomy 23:7</td>\n",
       "                        <td id=\"T_25dc5_row1_col1\" class=\"data row1 col1\" >לֹא־תִדְרֹ֥שׁ שְׁלֹמָ֖ם וְטֹבָתָ֑ם כָּל־יָמֶ֖יךָ לְעֹולָֽם׃ ס </td>\n",
       "            </tr>\n",
       "            <tr>\n",
       "                        <th id=\"T_25dc5_level0_row2\" class=\"row_heading level0 row2\" >450732</th>\n",
       "                        <td id=\"T_25dc5_row2_col0\" class=\"data row2 col0\" >Joshua 22:3</td>\n",
       "                        <td id=\"T_25dc5_row2_col1\" class=\"data row2 col1\" >לֹֽא־עֲזַבְתֶּ֣ם אֶת־אֲחֵיכֶ֗ם זֶ֚ה יָמִ֣ים רַבִּ֔ים עַ֖ד הַיֹּ֣ום הַזֶּ֑ה </td>\n",
       "            </tr>\n",
       "            <tr>\n",
       "                        <th id=\"T_25dc5_level0_row3\" class=\"row_heading level0 row3\" >453609</th>\n",
       "                        <td id=\"T_25dc5_row3_col0\" class=\"data row3 col0\" >Judges 19:25</td>\n",
       "                        <td id=\"T_25dc5_row3_col1\" class=\"data row3 col1\" >וַיִּֽתְעַלְּלוּ־בָ֤הּ כָּל־הַלַּ֨יְלָה֙ עַד־הַבֹּ֔קֶר </td>\n",
       "            </tr>\n",
       "            <tr>\n",
       "                        <th id=\"T_25dc5_level0_row4\" class=\"row_heading level0 row4\" >507935</th>\n",
       "                        <td id=\"T_25dc5_row4_col0\" class=\"data row4 col0\" >Ezra 4:4</td>\n",
       "                        <td id=\"T_25dc5_row4_col1\" class=\"data row4 col1\" >וַיְהִי֙ עַם־הָאָ֔רֶץ כָּל־יְמֵ֗י כֹּ֚ורֶשׁ מֶ֣לֶךְ פָּרַ֔ס וְעַד־מַלְכ֖וּת דָּרְיָ֥וֶשׁ מֶֽלֶךְ־פָּרָֽס׃ </td>\n",
       "            </tr>\n",
       "    </tbody></table>"
      ],
      "text/plain": [
       "<pandas.io.formats.style.Styler at 0x7fa299ec7790>"
      ]
     },
     "metadata": {},
     "output_type": "display_data"
    },
    {
     "name": "stdout",
     "output_type": "stream",
     "text": [
      "posterior + atelic_ext\n",
      "showing 4 of 4\n"
     ]
    },
    {
     "data": {
      "text/html": [
       "<style  type=\"text/css\" >\n",
       "#T_99eb7_row0_col1,#T_99eb7_row1_col1,#T_99eb7_row2_col1,#T_99eb7_row3_col1{\n",
       "            font-size: 20px;\n",
       "             font-family:  Times New Roman;\n",
       "             text-align:  right;\n",
       "             max-width:  500px;\n",
       "        }</style><table id=\"T_99eb7_\" ><thead>    <tr>        <th class=\"blank level0\" ></th>        <th class=\"col_heading level0 col0\" >verse</th>        <th class=\"col_heading level0 col1\" >clause</th>    </tr>    <tr>        <th class=\"index_name level0\" >node</th>        <th class=\"blank\" ></th>        <th class=\"blank\" ></th>    </tr></thead><tbody>\n",
       "                <tr>\n",
       "                        <th id=\"T_99eb7_level0_row0\" class=\"row_heading level0 row0\" >428349</th>\n",
       "                        <td id=\"T_99eb7_row0_col0\" class=\"data row0 col0\" >Genesis 9:28</td>\n",
       "                        <td id=\"T_99eb7_row0_col1\" class=\"data row0 col1\" >וַֽיְחִי־נֹ֖חַ אַחַ֣ר הַמַּבּ֑וּל שְׁלֹ֤שׁ מֵאֹות֙ שָׁנָ֔ה וַֽחֲמִשִּׁ֖ים שָׁנָֽה׃ </td>\n",
       "            </tr>\n",
       "            <tr>\n",
       "                        <th id=\"T_99eb7_level0_row1\" class=\"row_heading level0 row1\" >466784</th>\n",
       "                        <td id=\"T_99eb7_row1_col0\" class=\"data row1 col0\" >2_Kings 14:17</td>\n",
       "                        <td id=\"T_99eb7_row1_col1\" class=\"data row1 col1\" >וַיְחִ֨י אֲמַצְיָ֤הוּ בֶן־יֹואָשׁ֙ מֶ֣לֶךְ יְהוּדָ֔ה אַֽחֲרֵ֣י מֹ֔ות יְהֹואָ֥שׁ בֶּן־יְהֹֽואָחָ֖ז מֶ֣לֶךְ יִשְׂרָאֵ֑ל חֲמֵ֥שׁ עֶשְׂרֵ֖ה שָׁנָֽה׃ </td>\n",
       "            </tr>\n",
       "            <tr>\n",
       "                        <th id=\"T_99eb7_level0_row2\" class=\"row_heading level0 row2\" >500432</th>\n",
       "                        <td id=\"T_99eb7_row2_col0\" class=\"data row2 col0\" >Job 42:16</td>\n",
       "                        <td id=\"T_99eb7_row2_col1\" class=\"data row2 col1\" >וַיְחִ֤י אִיֹּוב֙ אַֽחֲרֵי־זֹ֔את מֵאָ֥ה וְאַרְבָּעִ֖ים שָׁנָ֑ה </td>\n",
       "            </tr>\n",
       "            <tr>\n",
       "                        <th id=\"T_99eb7_level0_row3\" class=\"row_heading level0 row3\" >514546</th>\n",
       "                        <td id=\"T_99eb7_row3_col0\" class=\"data row3 col0\" >2_Chronicles 25:25</td>\n",
       "                        <td id=\"T_99eb7_row3_col1\" class=\"data row3 col1\" >וַיְחִ֨י אֲמַצְיָ֤הוּ בֶן־יֹואָשׁ֙ מֶ֣לֶךְ יְהוּדָ֔ה אַחֲרֵ֣י מֹ֔ות יֹואָ֥שׁ בֶּן־יְהֹואָחָ֖ז מֶ֣לֶךְ יִשְׂרָאֵ֑ל חֲמֵ֥שׁ עֶשְׂרֵ֖ה שָׁנָֽה׃ </td>\n",
       "            </tr>\n",
       "    </tbody></table>"
      ],
      "text/plain": [
       "<pandas.io.formats.style.Styler at 0x7fa299ec7220>"
      ]
     },
     "metadata": {},
     "output_type": "display_data"
    },
    {
     "name": "stdout",
     "output_type": "stream",
     "text": [
      "dist_fut + atelic_ext\n",
      "showing 1 of 1\n"
     ]
    },
    {
     "data": {
      "text/html": [
       "<style  type=\"text/css\" >\n",
       "#T_8b96b_row0_col1{\n",
       "            font-size: 20px;\n",
       "             font-family:  Times New Roman;\n",
       "             text-align:  right;\n",
       "             max-width:  500px;\n",
       "        }</style><table id=\"T_8b96b_\" ><thead>    <tr>        <th class=\"blank level0\" ></th>        <th class=\"col_heading level0 col0\" >verse</th>        <th class=\"col_heading level0 col1\" >clause</th>    </tr>    <tr>        <th class=\"index_name level0\" >node</th>        <th class=\"blank\" ></th>        <th class=\"blank\" ></th>    </tr></thead><tbody>\n",
       "                <tr>\n",
       "                        <th id=\"T_8b96b_level0_row0\" class=\"row_heading level0 row0\" >428143</th>\n",
       "                        <td id=\"T_8b96b_row0_col0\" class=\"data row0 col0\" >Genesis 7:4</td>\n",
       "                        <td id=\"T_8b96b_row0_col1\" class=\"data row0 col1\" >כִּי֩ לְיָמִ֨ים עֹ֜וד שִׁבְעָ֗ה אָֽנֹכִי֙ מַמְטִ֣יר עַל־הָאָ֔רֶץ אַרְבָּעִ֣ים יֹ֔ום וְאַרְבָּעִ֖ים לָ֑יְלָה </td>\n",
       "            </tr>\n",
       "    </tbody></table>"
      ],
      "text/plain": [
       "<pandas.io.formats.style.Styler at 0x7fa299ec7130>"
      ]
     },
     "metadata": {},
     "output_type": "display_data"
    },
    {
     "name": "stdout",
     "output_type": "stream",
     "text": [
      "reg_recurr + atelic_ext\n",
      "showing 1 of 1\n"
     ]
    },
    {
     "data": {
      "text/html": [
       "<style  type=\"text/css\" >\n",
       "#T_79676_row0_col1{\n",
       "            font-size: 20px;\n",
       "             font-family:  Times New Roman;\n",
       "             text-align:  right;\n",
       "             max-width:  500px;\n",
       "        }</style><table id=\"T_79676_\" ><thead>    <tr>        <th class=\"blank level0\" ></th>        <th class=\"col_heading level0 col0\" >verse</th>        <th class=\"col_heading level0 col1\" >clause</th>    </tr>    <tr>        <th class=\"index_name level0\" >node</th>        <th class=\"blank\" ></th>        <th class=\"blank\" ></th>    </tr></thead><tbody>\n",
       "                <tr>\n",
       "                        <th id=\"T_79676_level0_row0\" class=\"row_heading level0 row0\" >444107</th>\n",
       "                        <td id=\"T_79676_row0_col0\" class=\"data row0 col0\" >Numbers 28:24</td>\n",
       "                        <td id=\"T_79676_row0_col1\" class=\"data row0 col1\" >כָּאֵ֜לֶּה תַּעֲשׂ֤וּ לַיֹּום֙ שִׁבְעַ֣ת יָמִ֔ים לֶ֛חֶם אִשֵּׁ֥ה רֵֽיחַ־נִיחֹ֖חַ לַיהוָ֑ה </td>\n",
       "            </tr>\n",
       "    </tbody></table>"
      ],
      "text/plain": [
       "<pandas.io.formats.style.Styler at 0x7fa299ec7520>"
      ]
     },
     "metadata": {},
     "output_type": "display_data"
    },
    {
     "name": "stdout",
     "output_type": "stream",
     "text": [
      "atelic_ext + habitual\n",
      "showing 1 of 1\n"
     ]
    },
    {
     "data": {
      "text/html": [
       "<style  type=\"text/css\" >\n",
       "#T_dfc35_row0_col1{\n",
       "            font-size: 20px;\n",
       "             font-family:  Times New Roman;\n",
       "             text-align:  right;\n",
       "             max-width:  500px;\n",
       "        }</style><table id=\"T_dfc35_\" ><thead>    <tr>        <th class=\"blank level0\" ></th>        <th class=\"col_heading level0 col0\" >verse</th>        <th class=\"col_heading level0 col1\" >clause</th>    </tr>    <tr>        <th class=\"index_name level0\" >node</th>        <th class=\"blank\" ></th>        <th class=\"blank\" ></th>    </tr></thead><tbody>\n",
       "                <tr>\n",
       "                        <th id=\"T_dfc35_level0_row0\" class=\"row_heading level0 row0\" >485015</th>\n",
       "                        <td id=\"T_dfc35_row0_col0\" class=\"data row0 col0\" >Ezekiel 43:25</td>\n",
       "                        <td id=\"T_dfc35_row0_col1\" class=\"data row0 col1\" >שִׁבְעַ֣ת יָמִ֔ים תַּעֲשֶׂ֥ה שְׂעִיר־חַטָּ֖את לַיֹּ֑ום </td>\n",
       "            </tr>\n",
       "    </tbody></table>"
      ],
      "text/plain": [
       "<pandas.io.formats.style.Styler at 0x7fa299ec7c40>"
      ]
     },
     "metadata": {},
     "output_type": "display_data"
    },
    {
     "data": {
      "text/html": [
       "<hr>"
      ],
      "text/plain": [
       "<IPython.core.display.HTML object>"
      ]
     },
     "metadata": {},
     "output_type": "display_data"
    },
    {
     "data": {
      "text/html": [
       "<h2>Distance Sequential</h2>"
      ],
      "text/plain": [
       "<IPython.core.display.HTML object>"
      ]
     },
     "metadata": {},
     "output_type": "display_data"
    },
    {
     "name": "stdout",
     "output_type": "stream",
     "text": [
      "posterior + distance\n",
      "showing 1 of 1\n"
     ]
    },
    {
     "data": {
      "text/html": [
       "<style  type=\"text/css\" >\n",
       "#T_ea98d_row0_col1{\n",
       "            font-size: 20px;\n",
       "             font-family:  Times New Roman;\n",
       "             text-align:  right;\n",
       "             max-width:  500px;\n",
       "        }</style><table id=\"T_ea98d_\" ><thead>    <tr>        <th class=\"blank level0\" ></th>        <th class=\"col_heading level0 col0\" >verse</th>        <th class=\"col_heading level0 col1\" >clause</th>    </tr>    <tr>        <th class=\"index_name level0\" >node</th>        <th class=\"blank\" ></th>        <th class=\"blank\" ></th>    </tr></thead><tbody>\n",
       "                <tr>\n",
       "                        <th id=\"T_ea98d_level0_row0\" class=\"row_heading level0 row0\" >428448</th>\n",
       "                        <td id=\"T_ea98d_row0_col0\" class=\"data row0 col0\" >Genesis 11:10</td>\n",
       "                        <td id=\"T_ea98d_row0_col1\" class=\"data row0 col1\" >וַיֹּ֖ולֶד אֶת־אַרְפַּכְשָׁ֑ד שְׁנָתַ֖יִם אַחַ֥ר הַמַּבּֽוּל׃ </td>\n",
       "            </tr>\n",
       "    </tbody></table>"
      ],
      "text/plain": [
       "<pandas.io.formats.style.Styler at 0x7fa29a093be0>"
      ]
     },
     "metadata": {},
     "output_type": "display_data"
    },
    {
     "data": {
      "text/html": [
       "<hr>"
      ],
      "text/plain": [
       "<IPython.core.display.HTML object>"
      ]
     },
     "metadata": {},
     "output_type": "display_data"
    }
   ],
   "source": [
    "for cluster, labels in comp_clusters.items():\n",
    "    display(HTML(f'<h2>{cluster.title()}</h2>'))\n",
    "    for label in labels:\n",
    "        print(label)\n",
    "        ex_df = df[df.function == label]\n",
    "        display(\n",
    "            ts.show(\n",
    "                ex_df\n",
    "            )\n",
    "        )\n",
    "    display(HTML('<hr>'))"
   ]
  },
  {
   "cell_type": "markdown",
   "metadata": {},
   "source": [
    "# Manually Extract Specific Cases"
   ]
  },
  {
   "cell_type": "markdown",
   "metadata": {},
   "source": [
    "## Begin-to-end"
   ]
  },
  {
   "cell_type": "code",
   "execution_count": 24,
   "metadata": {},
   "outputs": [
    {
     "data": {
      "text/plain": [
       "'67'"
      ]
     },
     "execution_count": 24,
     "metadata": {},
     "output_type": "execute_result"
    }
   ],
   "source": [
    "b2edf = df[df.function.isin(comp_clusters['begin-to-end'])]\n",
    "\n",
    "out.number(\n",
    "    b2edf.shape[0],\n",
    "    'begintoend_N'\n",
    ")"
   ]
  },
  {
   "cell_type": "markdown",
   "metadata": {},
   "source": [
    "## Calendricals"
   ]
  },
  {
   "cell_type": "code",
   "execution_count": null,
   "metadata": {},
   "outputs": [],
   "source": []
  }
 ],
 "metadata": {
  "kernelspec": {
   "display_name": "Python 3",
   "language": "python",
   "name": "python3"
  },
  "language_info": {
   "codemirror_mode": {
    "name": "ipython",
    "version": 3
   },
   "file_extension": ".py",
   "mimetype": "text/x-python",
   "name": "python",
   "nbconvert_exporter": "python",
   "pygments_lexer": "ipython3",
   "version": "3.8.5"
  }
 },
 "nbformat": 4,
 "nbformat_minor": 4
}
