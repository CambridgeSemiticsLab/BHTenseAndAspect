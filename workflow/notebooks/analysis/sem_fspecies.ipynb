{
 "cells": [
  {
   "cell_type": "markdown",
   "metadata": {},
   "source": [
    "# Semantic Function Species"
   ]
  },
  {
   "cell_type": "code",
   "execution_count": 1,
   "metadata": {
    "collapsed": true,
    "jupyter": {
     "outputs_hidden": true
    }
   },
   "outputs": [],
   "source": [
    "from scripts.imports import *\n",
    "\n",
    "out = Exporter(\n",
    "    paths['outdir'], \n",
    "    'semantics'\n",
    ")"
   ]
  },
  {
   "cell_type": "code",
   "execution_count": 2,
   "metadata": {
    "collapsed": true,
    "jupyter": {
     "outputs_hidden": true
    }
   },
   "outputs": [
    {
     "data": {
      "text/plain": [
       "Index(['verse', 'book', 'booksuper', 'canon_part', 'period', 'times_etcbc',\n",
       "       'times_utf8', 'times_utf8d', 'times_POS', 'TA Heads', 'lex_str',\n",
       "       'pdp_str', 'head_utf8', 'funct_type', 'function', 'quality', 'name',\n",
       "       'text', 'n_times', 'n_slots', 'lex_token', 'is_advb', 'tense', 'firstw',\n",
       "       'genre', 'domain', 'gendom', 'clause', 'sentence', 'cl_rela', 'cl_type',\n",
       "       'cl_kind', 'verb', 'verb_etcbc', 'verb_utf8', 'verb_text', 'verbform',\n",
       "       'verb_stem', 'cl_args', 'has_objc', 'has_cmpl', 'has_subj', 'has_oc',\n",
       "       'Time Position', 'cl_type2', 'cl_nsuccs', 'cl_clust50', 'cl_clust10',\n",
       "       'verbtense', 'vt_order', 'PP', 'unmodified', 'modtag', 'modtag2',\n",
       "       'front', 'ph_type', 'has_time', 'notes', 'main_genre', 'APPO', 'DEF',\n",
       "       'ORDN', 'ØPP', 'GP', 'QUANT', 'PL', 'NUM', 'PARA', 'DEMON',\n",
       "       'demon_type', 'ADJV', 'TIMEAPPO', 'SPEC', 'SFX3', 'SFX', 'DU', 'SFX1',\n",
       "       'reg_group', 'SFX2', 'ADVB', 'CARDC'],\n",
       "      dtype='object')"
      ]
     },
     "execution_count": 2,
     "metadata": {},
     "output_type": "execute_result"
    }
   ],
   "source": [
    "df.columns"
   ]
  },
  {
   "cell_type": "code",
   "execution_count": 3,
   "metadata": {
    "collapsed": true,
    "jupyter": {
     "outputs_hidden": true
    }
   },
   "outputs": [
    {
     "data": {
      "text/plain": [
       "(3648, 81)"
      ]
     },
     "execution_count": 3,
     "metadata": {},
     "output_type": "execute_result"
    }
   ],
   "source": [
    "df.shape"
   ]
  },
  {
   "cell_type": "markdown",
   "metadata": {},
   "source": [
    "# ! TODO ! : Clean these up!\n",
    "\n",
    "* Check on KL HJWM and equivalents; Haspelmath suggests that 'every' be rendered as equivalent to \"[in] every February\"; I have tagged these as habituals; i.e. habital simultaneous—maybe that is right. But I should be sure. Also, where might KL indicate a duration instead?\n",
    "* מתי look at this ehad with simul L; prob remove it\n",
    "* todo: remove 472789 as this is emotive, not a location\n",
    "* disambig one case of `atelic_ext, simultaneous` which shouldn't be there\n",
    "* disambig one case of `habitual, multi_simul`\n",
    "* change name of anterior_dist to dist_past + anterior\n",
    "* change name of distfut_ext to dist_fut + atelic_ext"
   ]
  },
  {
   "cell_type": "code",
   "execution_count": 4,
   "metadata": {
    "collapsed": true,
    "jupyter": {
     "outputs_hidden": true
    }
   },
   "outputs": [
    {
     "data": {
      "text/plain": [
       "simultaneous                                 1945\n",
       "atelic_ext                                    575\n",
       "anterior_dur                                  434\n",
       "posterior                                     224\n",
       "reg_recur                                      83\n",
       "posterior_dur                                  67\n",
       "begin_to_end                                   55\n",
       "purposive_ext                                  34\n",
       "anterior                                       32\n",
       "simultaneous + atelic_ext                      24\n",
       "multi_simuls                                   18\n",
       "anterior_dur_purposive                         15\n",
       "telic_ext                                      14\n",
       "anterior_dur_past?                              7\n",
       "simul_to_end                                    6\n",
       "habitual?                                       6\n",
       "dist_fut                                        6\n",
       "dist_posterior                                  6\n",
       "begin_to_end_habitual                           6\n",
       "anterior_limitive                               5\n",
       "atelic_ext?                                     5\n",
       "dur_to_end                                      5\n",
       "multi_antdur                                    4\n",
       "posterior + atelic_ext                          4\n",
       "anterior_limitive?                              4\n",
       "atelic_ext + simultaneous                       4\n",
       "regular_recurrence?                             3\n",
       "posterior_simul                                 3\n",
       "dist_past                                       3\n",
       "dist_prospective                                3\n",
       "purposive_ext?                                  2\n",
       "anterior_dur + duration                         2\n",
       "habitual + begin_to_end                         2\n",
       "multi_posterior_dur                             2\n",
       "purposive                                       2\n",
       "purposive?                                      2\n",
       "anterior_dur_except                             1\n",
       "anterior_dur + anterior                         1\n",
       "simultaneous + dist_posterior                   1\n",
       "posterior, posterior_dur                        1\n",
       "reg_recurr + atelic_ext                         1\n",
       "simultaneous + posterior                        1\n",
       "end_to_begin?                                   1\n",
       "simultaneous + anterior                         1\n",
       "dist_fut?                                       1\n",
       "anterior + posterior                            1\n",
       "telic_ext?                                      1\n",
       "begin_to_end + multi_antdur                     1\n",
       "simul_posterior                                 1\n",
       "posterior_dur_future                            1\n",
       "atelic_ext + anterior + atelic_ext              1\n",
       "simultaneous + anterior_dist                    1\n",
       "anterior_dur?                                   1\n",
       "simul_posts                                     1\n",
       "anterior_dist                                   1\n",
       "atelic_ext, simultaneous                        1\n",
       "multi_atelic_ext                                1\n",
       "perdurative?                                    1\n",
       "posterior_dur + begin_to_end + atelic_ext       1\n",
       "dur_subj?                                       1\n",
       "distfut_ext                                     1\n",
       "simultaneous + purposive_ext                    1\n",
       "?                                               1\n",
       "atelic_ext + habitual                           1\n",
       "posterior_dist                                  1\n",
       "anterior_ext                                    1\n",
       "simultaneous + anterior_limitive?               1\n",
       "anterior?                                       1\n",
       "simultaneous + multi_begin_to_end               1\n",
       "posterior_dur?                                  1\n",
       "dist_posterior?                                 1\n",
       "habitual, multi_simul                           1\n",
       "Name: function, dtype: int64"
      ]
     },
     "execution_count": 4,
     "metadata": {},
     "output_type": "execute_result"
    }
   ],
   "source": [
    "ALL_funct_cts = df.function.value_counts()\n",
    "\n",
    "ALL_funct_cts"
   ]
  },
  {
   "cell_type": "code",
   "execution_count": 5,
   "metadata": {
    "collapsed": true,
    "jupyter": {
     "outputs_hidden": true
    }
   },
   "outputs": [
    {
     "data": {
      "text/plain": [
       "node\n",
       "486672    simultaneous + anterior_dist\n",
       "Name: function, dtype: object"
      ]
     },
     "execution_count": 5,
     "metadata": {},
     "output_type": "execute_result"
    }
   ],
   "source": [
    "df[df.verse == 'Amos 1:1']['function']"
   ]
  },
  {
   "cell_type": "code",
   "execution_count": 6,
   "metadata": {
    "collapsed": true,
    "jupyter": {
     "outputs_hidden": true
    }
   },
   "outputs": [
    {
     "data": {
      "text/plain": [
       "'72'"
      ]
     },
     "execution_count": 6,
     "metadata": {},
     "output_type": "execute_result"
    }
   ],
   "source": [
    "out.number(\n",
    "    ALL_funct_cts.shape[0],\n",
    "    'ALL_funct_unique',\n",
    ")"
   ]
  },
  {
   "cell_type": "code",
   "execution_count": 7,
   "metadata": {
    "collapsed": true,
    "jupyter": {
     "outputs_hidden": true
    }
   },
   "outputs": [
    {
     "data": {
      "text/plain": [
       "'simultaneous; atelic\\\\_ext; anterior\\\\_dur; posterior; reg\\\\_recur; posterior\\\\_dur; begin\\\\_to\\\\_end; purposive\\\\_ext; anterior; simultaneous + atelic\\\\_ext; multi\\\\_simuls; anterior\\\\_dur\\\\_purposive; telic\\\\_ext; anterior\\\\_dur\\\\_past?; simul\\\\_to\\\\_end; habitual?; dist\\\\_fut; dist\\\\_posterior; begin\\\\_to\\\\_end\\\\_habitual; anterior\\\\_limitive; atelic\\\\_ext?; dur\\\\_to\\\\_end; multi\\\\_antdur; posterior + atelic\\\\_ext; anterior\\\\_limitive?; atelic\\\\_ext + simultaneous; regular\\\\_recurrence?; posterior\\\\_simul; dist\\\\_past; dist\\\\_prospective; purposive\\\\_ext?; anterior\\\\_dur + duration; habitual + begin\\\\_to\\\\_end; multi\\\\_posterior\\\\_dur; purposive; purposive?; anterior\\\\_dur\\\\_except; anterior\\\\_dur + anterior; simultaneous + dist\\\\_posterior; posterior, posterior\\\\_dur; reg\\\\_recurr + atelic\\\\_ext; simultaneous + posterior; end\\\\_to\\\\_begin?; simultaneous + anterior; dist\\\\_fut?; anterior + posterior; telic\\\\_ext?; begin\\\\_to\\\\_end + multi\\\\_antdur; simul\\\\_posterior; posterior\\\\_dur\\\\_future; atelic\\\\_ext + anterior + atelic\\\\_ext; simultaneous + anterior\\\\_dist; anterior\\\\_dur?; simul\\\\_posts; anterior\\\\_dist; atelic\\\\_ext, simultaneous; multi\\\\_atelic\\\\_ext; perdurative?; posterior\\\\_dur + begin\\\\_to\\\\_end + atelic\\\\_ext; dur\\\\_subj?; distfut\\\\_ext; simultaneous + purposive\\\\_ext; ?; atelic\\\\_ext + habitual; posterior\\\\_dist; anterior\\\\_ext; simultaneous + anterior\\\\_limitive?; anterior?; simultaneous + multi\\\\_begin\\\\_to\\\\_end; posterior\\\\_dur?; dist\\\\_posterior?; habitual, multi\\\\_simul%'"
      ]
     },
     "execution_count": 7,
     "metadata": {},
     "output_type": "execute_result"
    }
   ],
   "source": [
    "out.text(\n",
    "    '; '.join(ALL_funct_cts.index).replace('_', '\\_'),\n",
    "    'ALL_funct_tags',\n",
    ")"
   ]
  },
  {
   "cell_type": "code",
   "execution_count": 8,
   "metadata": {
    "collapsed": true,
    "jupyter": {
     "outputs_hidden": true
    }
   },
   "outputs": [
    {
     "data": {
      "text/plain": [
       "'6'"
      ]
     },
     "execution_count": 8,
     "metadata": {},
     "output_type": "execute_result"
    }
   ],
   "source": [
    "out.number(\n",
    "    ALL_funct_cts['dist_posterior'],\n",
    "    'N_dist_posterior'\n",
    ")"
   ]
  },
  {
   "cell_type": "code",
   "execution_count": 9,
   "metadata": {
    "collapsed": true,
    "jupyter": {
     "outputs_hidden": true
    }
   },
   "outputs": [
    {
     "data": {
      "text/plain": [
       "node\n",
       "457809    1_Samuel 30:12\n",
       "463357      1_Kings 15:5\n",
       "474066     Jeremiah 2:32\n",
       "492838      Psalms 55:20\n",
       "493817       Psalms 74:2\n",
       "505558       Esther 4:11\n",
       "Name: verse, dtype: object"
      ]
     },
     "execution_count": 9,
     "metadata": {},
     "output_type": "execute_result"
    }
   ],
   "source": [
    "df[df.function == 'dist_posterior']['verse']"
   ]
  },
  {
   "cell_type": "code",
   "execution_count": 10,
   "metadata": {
    "collapsed": true,
    "jupyter": {
     "outputs_hidden": true
    }
   },
   "outputs": [
    {
     "name": "stdout",
     "output_type": "stream",
     "text": [
      "showing 1 of 1\n"
     ]
    },
    {
     "data": {
      "text/html": [
       "<style  type=\"text/css\" >\n",
       "#T_2ebcc_row0_col1{\n",
       "            font-size: 20px;\n",
       "             font-family:  Times New Roman;\n",
       "             text-align:  right;\n",
       "             max-width:  500px;\n",
       "        }</style><table id=\"T_2ebcc_\" ><thead>    <tr>        <th class=\"blank level0\" ></th>        <th class=\"col_heading level0 col0\" >verse</th>        <th class=\"col_heading level0 col1\" >clause</th>        <th class=\"col_heading level0 col2\" >function</th>    </tr>    <tr>        <th class=\"index_name level0\" >node</th>        <th class=\"blank\" ></th>        <th class=\"blank\" ></th>        <th class=\"blank\" ></th>    </tr></thead><tbody>\n",
       "                <tr>\n",
       "                        <th id=\"T_2ebcc_level0_row0\" class=\"row_heading level0 row0\" >428448</th>\n",
       "                        <td id=\"T_2ebcc_row0_col0\" class=\"data row0 col0\" >Genesis 11:10</td>\n",
       "                        <td id=\"T_2ebcc_row0_col1\" class=\"data row0 col1\" >וַיֹּ֖ולֶד אֶת־אַרְפַּכְשָׁ֑ד שְׁנָתַ֖יִם אַחַ֥ר הַמַּבּֽוּל׃ </td>\n",
       "                        <td id=\"T_2ebcc_row0_col2\" class=\"data row0 col2\" >posterior_dist</td>\n",
       "            </tr>\n",
       "    </tbody></table>"
      ],
      "text/plain": [
       "<pandas.io.formats.style.Styler at 0x7f917c125f10>"
      ]
     },
     "execution_count": 10,
     "metadata": {},
     "output_type": "execute_result"
    }
   ],
   "source": [
    "ts.show(\n",
    "    df[df.function=='posterior_dist']\n",
    ", extra=['function'])"
   ]
  },
  {
   "cell_type": "code",
   "execution_count": 11,
   "metadata": {
    "collapsed": true,
    "jupyter": {
     "outputs_hidden": true
    }
   },
   "outputs": [
    {
     "name": "stdout",
     "output_type": "stream",
     "text": [
      "showing 1 of 1\n"
     ]
    },
    {
     "data": {
      "text/html": [
       "<style  type=\"text/css\" >\n",
       "#T_62138_row0_col1{\n",
       "            font-size: 20px;\n",
       "             font-family:  Times New Roman;\n",
       "             text-align:  right;\n",
       "             max-width:  500px;\n",
       "        }</style><table id=\"T_62138_\" ><thead>    <tr>        <th class=\"blank level0\" ></th>        <th class=\"col_heading level0 col0\" >verse</th>        <th class=\"col_heading level0 col1\" >clause</th>        <th class=\"col_heading level0 col2\" >function</th>    </tr>    <tr>        <th class=\"index_name level0\" >node</th>        <th class=\"blank\" ></th>        <th class=\"blank\" ></th>        <th class=\"blank\" ></th>    </tr></thead><tbody>\n",
       "                <tr>\n",
       "                        <th id=\"T_62138_level0_row0\" class=\"row_heading level0 row0\" >442303</th>\n",
       "                        <td id=\"T_62138_row0_col0\" class=\"data row0 col0\" >Numbers 13:22</td>\n",
       "                        <td id=\"T_62138_row0_col1\" class=\"data row0 col1\" >וְחֶבְרֹ֗ון שֶׁ֤בַע שָׁנִים֙ נִבְנְתָ֔ה לִפְנֵ֖י צֹ֥עַן מִצְרָֽיִם׃ </td>\n",
       "                        <td id=\"T_62138_row0_col2\" class=\"data row0 col2\" >anterior_dist</td>\n",
       "            </tr>\n",
       "    </tbody></table>"
      ],
      "text/plain": [
       "<pandas.io.formats.style.Styler at 0x7f917c1256d0>"
      ]
     },
     "execution_count": 11,
     "metadata": {},
     "output_type": "execute_result"
    }
   ],
   "source": [
    "ts.show(\n",
    "    df[df.function=='anterior_dist']\n",
    ", extra=['function'])"
   ]
  },
  {
   "cell_type": "code",
   "execution_count": 12,
   "metadata": {
    "collapsed": true,
    "jupyter": {
     "outputs_hidden": true
    }
   },
   "outputs": [
    {
     "name": "stdout",
     "output_type": "stream",
     "text": [
      "showing 7 of 7\n"
     ]
    },
    {
     "data": {
      "text/html": [
       "<style  type=\"text/css\" >\n",
       "#T_61a1d_row0_col1,#T_61a1d_row1_col1,#T_61a1d_row2_col1,#T_61a1d_row3_col1,#T_61a1d_row4_col1,#T_61a1d_row5_col1,#T_61a1d_row6_col1{\n",
       "            font-size: 20px;\n",
       "             font-family:  Times New Roman;\n",
       "             text-align:  right;\n",
       "             max-width:  500px;\n",
       "        }</style><table id=\"T_61a1d_\" ><thead>    <tr>        <th class=\"blank level0\" ></th>        <th class=\"col_heading level0 col0\" >verse</th>        <th class=\"col_heading level0 col1\" >clause</th>        <th class=\"col_heading level0 col2\" >function</th>    </tr>    <tr>        <th class=\"index_name level0\" >node</th>        <th class=\"blank\" ></th>        <th class=\"blank\" ></th>        <th class=\"blank\" ></th>    </tr></thead><tbody>\n",
       "                <tr>\n",
       "                        <th id=\"T_61a1d_level0_row0\" class=\"row_heading level0 row0\" >445951</th>\n",
       "                        <td id=\"T_61a1d_row0_col0\" class=\"data row0 col0\" >Deuteronomy 9:7</td>\n",
       "                        <td id=\"T_61a1d_row0_col1\" class=\"data row0 col1\" >לְמִן־הַיֹּ֞ום מַמְרִ֥ים הֱיִיתֶ֖ם עִם־יְהוָֽה׃ </td>\n",
       "                        <td id=\"T_61a1d_row0_col2\" class=\"data row0 col2\" >anterior_dur_past?</td>\n",
       "            </tr>\n",
       "            <tr>\n",
       "                        <th id=\"T_61a1d_level0_row1\" class=\"row_heading level0 row1\" >453457</th>\n",
       "                        <td id=\"T_61a1d_row1_col0\" class=\"data row1 col0\" >Judges 18:29</td>\n",
       "                        <td id=\"T_61a1d_row1_col1\" class=\"data row1 col1\" >וְאוּלָ֛ם לַ֥יִשׁ שֵׁם־הָעִ֖יר לָרִאשֹׁנָֽה׃ </td>\n",
       "                        <td id=\"T_61a1d_row1_col2\" class=\"data row1 col2\" >anterior_dur_past?</td>\n",
       "            </tr>\n",
       "            <tr>\n",
       "                        <th id=\"T_61a1d_level0_row2\" class=\"row_heading level0 row2\" >458669</th>\n",
       "                        <td id=\"T_61a1d_row2_col0\" class=\"data row2 col0\" >2_Samuel 7:11</td>\n",
       "                        <td id=\"T_61a1d_row2_col1\" class=\"data row2 col1\" >וּלְמִן־הַיֹּ֗ום </td>\n",
       "                        <td id=\"T_61a1d_row2_col2\" class=\"data row2 col2\" >anterior_dur_past?</td>\n",
       "            </tr>\n",
       "            <tr>\n",
       "                        <th id=\"T_61a1d_level0_row3\" class=\"row_heading level0 row3\" >467457</th>\n",
       "                        <td id=\"T_61a1d_row3_col0\" class=\"data row3 col0\" >2_Kings 19:25</td>\n",
       "                        <td id=\"T_61a1d_row3_col1\" class=\"data row3 col1\" >אֹתָ֣הּ עָשִׂ֔יתִי לְמִ֥ימֵי קֶ֖דֶם </td>\n",
       "                        <td id=\"T_61a1d_row3_col2\" class=\"data row3 col2\" >anterior_dur_past?</td>\n",
       "            </tr>\n",
       "            <tr>\n",
       "                        <th id=\"T_61a1d_level0_row4\" class=\"row_heading level0 row4\" >471017</th>\n",
       "                        <td id=\"T_61a1d_row4_col0\" class=\"data row4 col0\" >Isaiah 37:26</td>\n",
       "                        <td id=\"T_61a1d_row4_col1\" class=\"data row4 col1\" >הֲלֹֽוא־שָׁמַ֤עְתָּ לְמֵֽרָחֹוק֙ </td>\n",
       "                        <td id=\"T_61a1d_row4_col2\" class=\"data row4 col2\" >anterior_dur_past?</td>\n",
       "            </tr>\n",
       "            <tr>\n",
       "                        <th id=\"T_61a1d_level0_row5\" class=\"row_heading level0 row5\" >509791</th>\n",
       "                        <td id=\"T_61a1d_row5_col0\" class=\"data row5 col0\" >Nehemiah 13:19</td>\n",
       "                        <td id=\"T_61a1d_row5_col1\" class=\"data row5 col1\" >אֲשֶׁר֙ לֹ֣א יִפְתָּח֔וּם עַ֖ד אַחַ֣ר הַשַּׁבָּ֑ת </td>\n",
       "                        <td id=\"T_61a1d_row5_col2\" class=\"data row5 col2\" >anterior_dur_past?</td>\n",
       "            </tr>\n",
       "            <tr>\n",
       "                        <th id=\"T_61a1d_level0_row6\" class=\"row_heading level0 row6\" >511287</th>\n",
       "                        <td id=\"T_61a1d_row6_col0\" class=\"data row6 col0\" >1_Chronicles 17:10</td>\n",
       "                        <td id=\"T_61a1d_row6_col1\" class=\"data row6 col1\" >וּלְמִיָּמִ֗ים </td>\n",
       "                        <td id=\"T_61a1d_row6_col2\" class=\"data row6 col2\" >anterior_dur_past?</td>\n",
       "            </tr>\n",
       "    </tbody></table>"
      ],
      "text/plain": [
       "<pandas.io.formats.style.Styler at 0x7f917db200a0>"
      ]
     },
     "execution_count": 12,
     "metadata": {},
     "output_type": "execute_result"
    }
   ],
   "source": [
    "ts.show(\n",
    "    df[df.function=='anterior_dur_past?']\n",
    ", extra=['function'])"
   ]
  },
  {
   "cell_type": "markdown",
   "metadata": {},
   "source": [
    "## Count Function Types"
   ]
  },
  {
   "cell_type": "code",
   "execution_count": 75,
   "metadata": {},
   "outputs": [
    {
     "data": {
      "text/html": [
       "<div>\n",
       "<style scoped>\n",
       "    .dataframe tbody tr th:only-of-type {\n",
       "        vertical-align: middle;\n",
       "    }\n",
       "\n",
       "    .dataframe tbody tr th {\n",
       "        vertical-align: top;\n",
       "    }\n",
       "\n",
       "    .dataframe thead th {\n",
       "        text-align: right;\n",
       "    }\n",
       "</style>\n",
       "<table border=\"1\" class=\"dataframe\">\n",
       "  <thead>\n",
       "    <tr style=\"text-align: right;\">\n",
       "      <th></th>\n",
       "      <th>count</th>\n",
       "      <th>percent</th>\n",
       "    </tr>\n",
       "  </thead>\n",
       "  <tbody>\n",
       "    <tr>\n",
       "      <th>main</th>\n",
       "      <td>3383</td>\n",
       "      <td>93%</td>\n",
       "    </tr>\n",
       "    <tr>\n",
       "      <th>compound</th>\n",
       "      <td>156</td>\n",
       "      <td>4%</td>\n",
       "    </tr>\n",
       "    <tr>\n",
       "      <th>secondary</th>\n",
       "      <td>70</td>\n",
       "      <td>2%</td>\n",
       "    </tr>\n",
       "    <tr>\n",
       "      <th>ambiguous</th>\n",
       "      <td>39</td>\n",
       "      <td>1%</td>\n",
       "    </tr>\n",
       "  </tbody>\n",
       "</table>\n",
       "</div>"
      ],
      "text/plain": [
       "           count percent\n",
       "main        3383     93%\n",
       "compound     156      4%\n",
       "secondary     70      2%\n",
       "ambiguous     39      1%"
      ]
     },
     "execution_count": 75,
     "metadata": {},
     "output_type": "execute_result"
    }
   ],
   "source": [
    "functype_ct = df.funct_type.value_counts()\n",
    "functype_pr = functype_ct / functype_ct.sum()\n",
    "functype_cp = join_ct_pr(functype_ct, functype_pr)\n",
    "\n",
    "out.table(\n",
    "    functype_cp,\n",
    "    'ALL_functype_cp',\n",
    "    caption='Function Type Counts',\n",
    ")"
   ]
  },
  {
   "cell_type": "markdown",
   "metadata": {},
   "source": [
    "## Main Function Analysis"
   ]
  },
  {
   "cell_type": "code",
   "execution_count": 76,
   "metadata": {},
   "outputs": [
    {
     "data": {
      "text/plain": [
       "'3,383'"
      ]
     },
     "execution_count": 76,
     "metadata": {},
     "output_type": "execute_result"
    }
   ],
   "source": [
    "df_main = df[df.funct_type=='main']\n",
    "\n",
    "out.number(\n",
    "    df_main.shape[0],\n",
    "    'total_main_fc'\n",
    ")"
   ]
  },
  {
   "cell_type": "code",
   "execution_count": 77,
   "metadata": {},
   "outputs": [
    {
     "data": {
      "text/html": [
       "<div>\n",
       "<style scoped>\n",
       "    .dataframe tbody tr th:only-of-type {\n",
       "        vertical-align: middle;\n",
       "    }\n",
       "\n",
       "    .dataframe tbody tr th {\n",
       "        vertical-align: top;\n",
       "    }\n",
       "\n",
       "    .dataframe thead th {\n",
       "        text-align: right;\n",
       "    }\n",
       "</style>\n",
       "<table border=\"1\" class=\"dataframe\">\n",
       "  <thead>\n",
       "    <tr style=\"text-align: right;\">\n",
       "      <th></th>\n",
       "      <th>simultaneous</th>\n",
       "      <th>atelic_ext</th>\n",
       "      <th>anterior_dur</th>\n",
       "      <th>posterior</th>\n",
       "      <th>reg_recur</th>\n",
       "      <th>posterior_dur</th>\n",
       "      <th>anterior</th>\n",
       "      <th>telic_ext</th>\n",
       "      <th>dist_fut</th>\n",
       "      <th>dist_past</th>\n",
       "    </tr>\n",
       "  </thead>\n",
       "  <tbody>\n",
       "    <tr>\n",
       "      <th>freq.</th>\n",
       "      <td>1945</td>\n",
       "      <td>575</td>\n",
       "      <td>434</td>\n",
       "      <td>224</td>\n",
       "      <td>83</td>\n",
       "      <td>67</td>\n",
       "      <td>32</td>\n",
       "      <td>14</td>\n",
       "      <td>6</td>\n",
       "      <td>3</td>\n",
       "    </tr>\n",
       "    <tr>\n",
       "      <th>perc.</th>\n",
       "      <td>56%</td>\n",
       "      <td>17%</td>\n",
       "      <td>13%</td>\n",
       "      <td>7%</td>\n",
       "      <td>2%</td>\n",
       "      <td>2%</td>\n",
       "      <td>1%</td>\n",
       "      <td>0%</td>\n",
       "      <td>0%</td>\n",
       "      <td>0%</td>\n",
       "    </tr>\n",
       "  </tbody>\n",
       "</table>\n",
       "</div>"
      ],
      "text/plain": [
       "      simultaneous atelic_ext anterior_dur posterior reg_recur posterior_dur  \\\n",
       "freq.         1945        575          434       224        83            67   \n",
       "perc.          56%        17%          13%        7%        2%            2%   \n",
       "\n",
       "      anterior telic_ext dist_fut dist_past  \n",
       "freq.       32        14        6         3  \n",
       "perc.       1%        0%       0%        0%  "
      ]
     },
     "execution_count": 77,
     "metadata": {},
     "output_type": "execute_result"
    }
   ],
   "source": [
    "# get a freq count\n",
    "funct_ct = df_main.function.value_counts(ascending=False)\n",
    "funct_pr = (funct_ct / funct_ct.sum())\n",
    "funct_pr_str = (funct_pr.round(2) * 100).astype(int).astype(str) + '%'\n",
    "funct_vals = pd.concat([funct_ct, funct_pr_str], 1).T\\\n",
    "    .set_axis(['freq.', 'perc.'], 0)\\\n",
    "\n",
    "out.table(\n",
    "    funct_vals,\n",
    "    'funct_counts',\n",
    "    caption='Frequencies of Primary Time Functions',\n",
    "    adjustbox=True,\n",
    ")\n",
    "\n",
    "funct_vals"
   ]
  },
  {
   "cell_type": "code",
   "execution_count": 78,
   "metadata": {},
   "outputs": [
    {
     "data": {
      "image/png": "[encoded data removed]",
      "text/plain": [
       "<Figure size 360x360 with 1 Axes>"
      ]
     },
     "metadata": {
      "needs_background": "light"
     },
     "output_type": "display_data"
    }
   ],
   "source": [
    "fig, ax = plt.subplots(figsize=(5, 5))\n",
    "funct_pr.sort_values().mul(100).plot(kind='barh', ax=ax, edgecolor='black')\n",
    "ax.set_xlabel('percent of main functions')\n",
    "ax.grid(axis='x')\n",
    "ax.set_axisbelow(True)\n",
    "ax.set_xlim(0, 100)\n",
    "out.plot(\n",
    "    'bar_funct_perc',\n",
    ")"
   ]
  },
  {
   "cell_type": "code",
   "execution_count": 79,
   "metadata": {},
   "outputs": [
    {
     "data": {
      "text/plain": [
       "'94'"
      ]
     },
     "execution_count": 79,
     "metadata": {},
     "output_type": "execute_result"
    }
   ],
   "source": [
    "top4_perc = 100*funct_pr.loc['simultaneous':'posterior'].sum()\n",
    "out.number(\n",
    "    top4_perc,\n",
    "    'top4_perc',\n",
    ")"
   ]
  },
  {
   "cell_type": "code",
   "execution_count": 80,
   "metadata": {},
   "outputs": [],
   "source": [
    "# export numbers for each main\n",
    "for funct in funct_vals.columns:\n",
    "    Nfunct = funct_vals[funct]['freq.']\n",
    "    Pfunct = funct_vals[funct]['perc.'].replace('%', '')\n",
    "    out.number(Nfunct, f'N_{funct}')\n",
    "    out.text(Pfunct, f'P_{funct}')"
   ]
  },
  {
   "cell_type": "markdown",
   "metadata": {},
   "source": [
    "## All Functions Phrase Type"
   ]
  },
  {
   "cell_type": "code",
   "execution_count": 81,
   "metadata": {},
   "outputs": [
    {
     "data": {
      "text/html": [
       "<div>\n",
       "<style scoped>\n",
       "    .dataframe tbody tr th:only-of-type {\n",
       "        vertical-align: middle;\n",
       "    }\n",
       "\n",
       "    .dataframe tbody tr th {\n",
       "        vertical-align: top;\n",
       "    }\n",
       "\n",
       "    .dataframe thead th {\n",
       "        text-align: right;\n",
       "    }\n",
       "</style>\n",
       "<table border=\"1\" class=\"dataframe\">\n",
       "  <thead>\n",
       "    <tr style=\"text-align: right;\">\n",
       "      <th></th>\n",
       "      <th>count</th>\n",
       "      <th>percent</th>\n",
       "    </tr>\n",
       "  </thead>\n",
       "  <tbody>\n",
       "    <tr>\n",
       "      <th>PP</th>\n",
       "      <td>2190</td>\n",
       "      <td>60%</td>\n",
       "    </tr>\n",
       "    <tr>\n",
       "      <th>NP</th>\n",
       "      <td>913</td>\n",
       "      <td>25%</td>\n",
       "    </tr>\n",
       "    <tr>\n",
       "      <th>ADVB</th>\n",
       "      <td>545</td>\n",
       "      <td>15%</td>\n",
       "    </tr>\n",
       "  </tbody>\n",
       "</table>\n",
       "</div>"
      ],
      "text/plain": [
       "      count percent\n",
       "PP     2190     60%\n",
       "NP      913     25%\n",
       "ADVB    545     15%"
      ]
     },
     "execution_count": 81,
     "metadata": {},
     "output_type": "execute_result"
    }
   ],
   "source": [
    "allf_pht_ct = df.ph_type.value_counts()\n",
    "allf_pht_pr = allf_pht_ct / allf_pht_ct.sum()\n",
    "allf_pht_cp = join_ct_pr(allf_pht_ct, allf_pht_pr)\n",
    "\n",
    "out.table(\n",
    "    allf_pht_cp,\n",
    "    'allf_pht_cp',\n",
    "    caption='Phrase Type Counts for All Functions',\n",
    ")"
   ]
  },
  {
   "cell_type": "code",
   "execution_count": 82,
   "metadata": {},
   "outputs": [
    {
     "data": {
      "image/png": "[encoded data removed]",
      "text/plain": [
       "<Figure size 432x288 with 1 Axes>"
      ]
     },
     "metadata": {
      "needs_background": "light"
     },
     "output_type": "display_data"
    }
   ],
   "source": [
    "fig, ax = plt.subplots()\n",
    "allf_pht_pr.mul(100).plot(kind='bar', edgecolor='black')\n",
    "ax.set_ylabel('percent')\n",
    "ax.set_ylim((0,100))\n",
    "ax.set_xticklabels(ax.get_xticklabels(), rotation=0)\n",
    "ax.grid(axis='y')\n",
    "ax.set_axisbelow(True)\n",
    "out.plot(\n",
    "    'bar_allfptype_pc',\n",
    ")"
   ]
  },
  {
   "cell_type": "markdown",
   "metadata": {},
   "source": [
    "## Phrase Type Associations by Function"
   ]
  },
  {
   "cell_type": "code",
   "execution_count": 83,
   "metadata": {},
   "outputs": [
    {
     "data": {
      "text/html": [
       "<div>\n",
       "<style scoped>\n",
       "    .dataframe tbody tr th:only-of-type {\n",
       "        vertical-align: middle;\n",
       "    }\n",
       "\n",
       "    .dataframe tbody tr th {\n",
       "        vertical-align: top;\n",
       "    }\n",
       "\n",
       "    .dataframe thead th {\n",
       "        text-align: right;\n",
       "    }\n",
       "</style>\n",
       "<table border=\"1\" class=\"dataframe\">\n",
       "  <thead>\n",
       "    <tr style=\"text-align: right;\">\n",
       "      <th>ph_type</th>\n",
       "      <th>PP</th>\n",
       "      <th>NP</th>\n",
       "      <th>ADVB</th>\n",
       "    </tr>\n",
       "    <tr>\n",
       "      <th>function</th>\n",
       "      <th></th>\n",
       "      <th></th>\n",
       "      <th></th>\n",
       "    </tr>\n",
       "  </thead>\n",
       "  <tbody>\n",
       "    <tr>\n",
       "      <th>simultaneous</th>\n",
       "      <td>1194</td>\n",
       "      <td>293</td>\n",
       "      <td>458</td>\n",
       "    </tr>\n",
       "    <tr>\n",
       "      <th>atelic_ext</th>\n",
       "      <td>9</td>\n",
       "      <td>520</td>\n",
       "      <td>46</td>\n",
       "    </tr>\n",
       "    <tr>\n",
       "      <th>anterior_dur</th>\n",
       "      <td>434</td>\n",
       "      <td>0</td>\n",
       "      <td>0</td>\n",
       "    </tr>\n",
       "    <tr>\n",
       "      <th>posterior</th>\n",
       "      <td>190</td>\n",
       "      <td>0</td>\n",
       "      <td>34</td>\n",
       "    </tr>\n",
       "    <tr>\n",
       "      <th>reg_recur</th>\n",
       "      <td>61</td>\n",
       "      <td>22</td>\n",
       "      <td>0</td>\n",
       "    </tr>\n",
       "    <tr>\n",
       "      <th>posterior_dur</th>\n",
       "      <td>67</td>\n",
       "      <td>0</td>\n",
       "      <td>0</td>\n",
       "    </tr>\n",
       "    <tr>\n",
       "      <th>anterior</th>\n",
       "      <td>28</td>\n",
       "      <td>0</td>\n",
       "      <td>4</td>\n",
       "    </tr>\n",
       "    <tr>\n",
       "      <th>telic_ext</th>\n",
       "      <td>8</td>\n",
       "      <td>6</td>\n",
       "      <td>0</td>\n",
       "    </tr>\n",
       "    <tr>\n",
       "      <th>dist_fut</th>\n",
       "      <td>6</td>\n",
       "      <td>0</td>\n",
       "      <td>0</td>\n",
       "    </tr>\n",
       "    <tr>\n",
       "      <th>dist_past</th>\n",
       "      <td>0</td>\n",
       "      <td>3</td>\n",
       "      <td>0</td>\n",
       "    </tr>\n",
       "  </tbody>\n",
       "</table>\n",
       "</div>"
      ],
      "text/plain": [
       "ph_type          PP   NP  ADVB\n",
       "function                      \n",
       "simultaneous   1194  293   458\n",
       "atelic_ext        9  520    46\n",
       "anterior_dur    434    0     0\n",
       "posterior       190    0    34\n",
       "reg_recur        61   22     0\n",
       "posterior_dur    67    0     0\n",
       "anterior         28    0     4\n",
       "telic_ext         8    6     0\n",
       "dist_fut          6    0     0\n",
       "dist_past         0    3     0"
      ]
     },
     "execution_count": 83,
     "metadata": {},
     "output_type": "execute_result"
    }
   ],
   "source": [
    "funcpt_ct = pivot_ct(\n",
    "    df_main,\n",
    "    'function',\n",
    "    'ph_type',\n",
    ")\n",
    "\n",
    "funcpt_pr = funcpt_ct.div(funcpt_ct.sum(1),0)\n",
    "\n",
    "out.table(\n",
    "    funcpt_ct,\n",
    "    'funcpt_ct',\n",
    "    caption='Phrase Type Counts by Function'\n",
    ")"
   ]
  },
  {
   "cell_type": "code",
   "execution_count": 84,
   "metadata": {},
   "outputs": [
    {
     "data": {
      "text/html": [
       "<div>\n",
       "<style scoped>\n",
       "    .dataframe tbody tr th:only-of-type {\n",
       "        vertical-align: middle;\n",
       "    }\n",
       "\n",
       "    .dataframe tbody tr th {\n",
       "        vertical-align: top;\n",
       "    }\n",
       "\n",
       "    .dataframe thead th {\n",
       "        text-align: right;\n",
       "    }\n",
       "</style>\n",
       "<table border=\"1\" class=\"dataframe\">\n",
       "  <thead>\n",
       "    <tr style=\"text-align: right;\">\n",
       "      <th>ph_type</th>\n",
       "      <th>PP</th>\n",
       "      <th>NP</th>\n",
       "      <th>ADVB</th>\n",
       "    </tr>\n",
       "    <tr>\n",
       "      <th>function</th>\n",
       "      <th></th>\n",
       "      <th></th>\n",
       "      <th></th>\n",
       "    </tr>\n",
       "  </thead>\n",
       "  <tbody>\n",
       "    <tr>\n",
       "      <th>simultaneous</th>\n",
       "      <td>61%</td>\n",
       "      <td>15%</td>\n",
       "      <td>24%</td>\n",
       "    </tr>\n",
       "    <tr>\n",
       "      <th>atelic_ext</th>\n",
       "      <td>2%</td>\n",
       "      <td>90%</td>\n",
       "      <td>8%</td>\n",
       "    </tr>\n",
       "    <tr>\n",
       "      <th>anterior_dur</th>\n",
       "      <td>100%</td>\n",
       "      <td>0%</td>\n",
       "      <td>0%</td>\n",
       "    </tr>\n",
       "    <tr>\n",
       "      <th>posterior</th>\n",
       "      <td>85%</td>\n",
       "      <td>0%</td>\n",
       "      <td>15%</td>\n",
       "    </tr>\n",
       "    <tr>\n",
       "      <th>reg_recur</th>\n",
       "      <td>73%</td>\n",
       "      <td>27%</td>\n",
       "      <td>0%</td>\n",
       "    </tr>\n",
       "    <tr>\n",
       "      <th>posterior_dur</th>\n",
       "      <td>100%</td>\n",
       "      <td>0%</td>\n",
       "      <td>0%</td>\n",
       "    </tr>\n",
       "    <tr>\n",
       "      <th>anterior</th>\n",
       "      <td>88%</td>\n",
       "      <td>0%</td>\n",
       "      <td>12%</td>\n",
       "    </tr>\n",
       "    <tr>\n",
       "      <th>telic_ext</th>\n",
       "      <td>57%</td>\n",
       "      <td>43%</td>\n",
       "      <td>0%</td>\n",
       "    </tr>\n",
       "    <tr>\n",
       "      <th>dist_fut</th>\n",
       "      <td>100%</td>\n",
       "      <td>0%</td>\n",
       "      <td>0%</td>\n",
       "    </tr>\n",
       "    <tr>\n",
       "      <th>dist_past</th>\n",
       "      <td>0%</td>\n",
       "      <td>100%</td>\n",
       "      <td>0%</td>\n",
       "    </tr>\n",
       "  </tbody>\n",
       "</table>\n",
       "</div>"
      ],
      "text/plain": [
       "ph_type          PP    NP ADVB\n",
       "function                      \n",
       "simultaneous    61%   15%  24%\n",
       "atelic_ext       2%   90%   8%\n",
       "anterior_dur   100%    0%   0%\n",
       "posterior       85%    0%  15%\n",
       "reg_recur       73%   27%   0%\n",
       "posterior_dur  100%    0%   0%\n",
       "anterior        88%    0%  12%\n",
       "telic_ext       57%   43%   0%\n",
       "dist_fut       100%    0%   0%\n",
       "dist_past        0%  100%   0%"
      ]
     },
     "execution_count": 84,
     "metadata": {},
     "output_type": "execute_result"
    }
   ],
   "source": [
    "out.table(\n",
    "    funcpt_pr.mul(100).round().astype(int).astype(str)+'%',\n",
    "    'funcpt_pr',\n",
    "    caption='Phrase Type Percentages by Function'\n",
    ")"
   ]
  },
  {
   "cell_type": "code",
   "execution_count": 85,
   "metadata": {},
   "outputs": [],
   "source": [
    "funcpt_dp = sig.apply_deltaP(funcpt_ct, 0, 1)"
   ]
  },
  {
   "cell_type": "code",
   "execution_count": 86,
   "metadata": {},
   "outputs": [
    {
     "data": {
      "image/png": "[encoded data removed]",
      "text/plain": [
       "<Figure size 360x360 with 2 Axes>"
      ]
     },
     "metadata": {
      "needs_background": "light"
     },
     "output_type": "display_data"
    }
   ],
   "source": [
    "fig,ax = plt.subplots(figsize=(5,5))\n",
    "heatmap(funcpt_dp, ax=ax, annot=True, square=False)\n",
    "ax.set_xlabel('phrase type')\n",
    "\n",
    "out.plot(\n",
    "    'heat_funcphtype',\n",
    ")"
   ]
  },
  {
   "cell_type": "markdown",
   "metadata": {},
   "source": [
    "## Main Function Modifiers"
   ]
  },
  {
   "cell_type": "code",
   "execution_count": 87,
   "metadata": {},
   "outputs": [
    {
     "data": {
      "text/html": [
       "<div>\n",
       "<style scoped>\n",
       "    .dataframe tbody tr th:only-of-type {\n",
       "        vertical-align: middle;\n",
       "    }\n",
       "\n",
       "    .dataframe tbody tr th {\n",
       "        vertical-align: top;\n",
       "    }\n",
       "\n",
       "    .dataframe thead th {\n",
       "        text-align: right;\n",
       "    }\n",
       "</style>\n",
       "<table border=\"1\" class=\"dataframe\">\n",
       "  <thead>\n",
       "    <tr style=\"text-align: right;\">\n",
       "      <th>modtag</th>\n",
       "      <th>DEF</th>\n",
       "      <th>DEMON</th>\n",
       "      <th>C</th>\n",
       "      <th>NUM+PL</th>\n",
       "      <th>NUM</th>\n",
       "      <th>ORDN</th>\n",
       "      <th>SFX</th>\n",
       "      <th>PL+C</th>\n",
       "      <th>PL+DEMON</th>\n",
       "      <th>KL+DEF</th>\n",
       "    </tr>\n",
       "    <tr>\n",
       "      <th>function</th>\n",
       "      <th></th>\n",
       "      <th></th>\n",
       "      <th></th>\n",
       "      <th></th>\n",
       "      <th></th>\n",
       "      <th></th>\n",
       "      <th></th>\n",
       "      <th></th>\n",
       "      <th></th>\n",
       "      <th></th>\n",
       "    </tr>\n",
       "  </thead>\n",
       "  <tbody>\n",
       "    <tr>\n",
       "      <th>simultaneous</th>\n",
       "      <td>438</td>\n",
       "      <td>353</td>\n",
       "      <td>219</td>\n",
       "      <td>2</td>\n",
       "      <td>38</td>\n",
       "      <td>173</td>\n",
       "      <td>29</td>\n",
       "      <td>45</td>\n",
       "      <td>41</td>\n",
       "      <td>0</td>\n",
       "    </tr>\n",
       "    <tr>\n",
       "      <th>atelic_ext</th>\n",
       "      <td>2</td>\n",
       "      <td>0</td>\n",
       "      <td>6</td>\n",
       "      <td>162</td>\n",
       "      <td>117</td>\n",
       "      <td>0</td>\n",
       "      <td>0</td>\n",
       "      <td>2</td>\n",
       "      <td>1</td>\n",
       "      <td>55</td>\n",
       "    </tr>\n",
       "    <tr>\n",
       "      <th>anterior_dur</th>\n",
       "      <td>61</td>\n",
       "      <td>60</td>\n",
       "      <td>24</td>\n",
       "      <td>0</td>\n",
       "      <td>4</td>\n",
       "      <td>3</td>\n",
       "      <td>0</td>\n",
       "      <td>4</td>\n",
       "      <td>2</td>\n",
       "      <td>0</td>\n",
       "    </tr>\n",
       "    <tr>\n",
       "      <th>posterior</th>\n",
       "      <td>4</td>\n",
       "      <td>1</td>\n",
       "      <td>15</td>\n",
       "      <td>15</td>\n",
       "      <td>9</td>\n",
       "      <td>0</td>\n",
       "      <td>40</td>\n",
       "      <td>1</td>\n",
       "      <td>12</td>\n",
       "      <td>0</td>\n",
       "    </tr>\n",
       "    <tr>\n",
       "      <th>reg_recur</th>\n",
       "      <td>26</td>\n",
       "      <td>0</td>\n",
       "      <td>3</td>\n",
       "      <td>2</td>\n",
       "      <td>1</td>\n",
       "      <td>0</td>\n",
       "      <td>0</td>\n",
       "      <td>0</td>\n",
       "      <td>0</td>\n",
       "      <td>0</td>\n",
       "    </tr>\n",
       "    <tr>\n",
       "      <th>posterior_dur</th>\n",
       "      <td>4</td>\n",
       "      <td>3</td>\n",
       "      <td>0</td>\n",
       "      <td>0</td>\n",
       "      <td>1</td>\n",
       "      <td>1</td>\n",
       "      <td>0</td>\n",
       "      <td>10</td>\n",
       "      <td>0</td>\n",
       "      <td>0</td>\n",
       "    </tr>\n",
       "    <tr>\n",
       "      <th>telic_ext</th>\n",
       "      <td>0</td>\n",
       "      <td>0</td>\n",
       "      <td>0</td>\n",
       "      <td>2</td>\n",
       "      <td>10</td>\n",
       "      <td>0</td>\n",
       "      <td>0</td>\n",
       "      <td>0</td>\n",
       "      <td>0</td>\n",
       "      <td>0</td>\n",
       "    </tr>\n",
       "    <tr>\n",
       "      <th>anterior</th>\n",
       "      <td>1</td>\n",
       "      <td>0</td>\n",
       "      <td>0</td>\n",
       "      <td>0</td>\n",
       "      <td>0</td>\n",
       "      <td>0</td>\n",
       "      <td>9</td>\n",
       "      <td>0</td>\n",
       "      <td>1</td>\n",
       "      <td>0</td>\n",
       "    </tr>\n",
       "    <tr>\n",
       "      <th>dist_fut</th>\n",
       "      <td>0</td>\n",
       "      <td>0</td>\n",
       "      <td>0</td>\n",
       "      <td>5</td>\n",
       "      <td>1</td>\n",
       "      <td>0</td>\n",
       "      <td>0</td>\n",
       "      <td>0</td>\n",
       "      <td>0</td>\n",
       "      <td>0</td>\n",
       "    </tr>\n",
       "  </tbody>\n",
       "</table>\n",
       "</div>"
      ],
      "text/plain": [
       "modtag         DEF  DEMON    C  NUM+PL  NUM  ORDN  SFX  PL+C  PL+DEMON  KL+DEF\n",
       "function                                                                      \n",
       "simultaneous   438    353  219       2   38   173   29    45        41       0\n",
       "atelic_ext       2      0    6     162  117     0    0     2         1      55\n",
       "anterior_dur    61     60   24       0    4     3    0     4         2       0\n",
       "posterior        4      1   15      15    9     0   40     1        12       0\n",
       "reg_recur       26      0    3       2    1     0    0     0         0       0\n",
       "posterior_dur    4      3    0       0    1     1    0    10         0       0\n",
       "telic_ext        0      0    0       2   10     0    0     0         0       0\n",
       "anterior         1      0    0       0    0     0    9     0         1       0\n",
       "dist_fut         0      0    0       5    1     0    0     0         0       0"
      ]
     },
     "execution_count": 87,
     "metadata": {},
     "output_type": "execute_result"
    }
   ],
   "source": [
    "afmod_ct = pivot_ct(\n",
    "    df_main,\n",
    "    'function',\n",
    "    'modtag',\n",
    ")\n",
    "\n",
    "afmod_ct = afmod_ct.loc[:, afmod_ct.sum() > 10]\n",
    "\n",
    "out.table(\n",
    "    afmod_ct.iloc[:,:10],\n",
    "    'afmod_ct',\n",
    "    caption='Top Ten Modifier Counts by Function',\n",
    "    adjustbox=True,\n",
    ")"
   ]
  },
  {
   "cell_type": "code",
   "execution_count": 88,
   "metadata": {},
   "outputs": [
    {
     "data": {
      "text/html": [
       "<div>\n",
       "<style scoped>\n",
       "    .dataframe tbody tr th:only-of-type {\n",
       "        vertical-align: middle;\n",
       "    }\n",
       "\n",
       "    .dataframe tbody tr th {\n",
       "        vertical-align: top;\n",
       "    }\n",
       "\n",
       "    .dataframe thead th {\n",
       "        text-align: right;\n",
       "    }\n",
       "</style>\n",
       "<table border=\"1\" class=\"dataframe\">\n",
       "  <thead>\n",
       "    <tr style=\"text-align: right;\">\n",
       "      <th>modtag</th>\n",
       "      <th>DEF</th>\n",
       "      <th>DEMON</th>\n",
       "      <th>C</th>\n",
       "      <th>NUM+PL</th>\n",
       "      <th>NUM</th>\n",
       "      <th>ORDN</th>\n",
       "      <th>SFX</th>\n",
       "      <th>PL+C</th>\n",
       "      <th>PL+DEMON</th>\n",
       "      <th>KL+DEF</th>\n",
       "    </tr>\n",
       "    <tr>\n",
       "      <th>function</th>\n",
       "      <th></th>\n",
       "      <th></th>\n",
       "      <th></th>\n",
       "      <th></th>\n",
       "      <th></th>\n",
       "      <th></th>\n",
       "      <th></th>\n",
       "      <th></th>\n",
       "      <th></th>\n",
       "      <th></th>\n",
       "    </tr>\n",
       "  </thead>\n",
       "  <tbody>\n",
       "    <tr>\n",
       "      <th>simultaneous</th>\n",
       "      <td>31%</td>\n",
       "      <td>25%</td>\n",
       "      <td>16%</td>\n",
       "      <td>0%</td>\n",
       "      <td>3%</td>\n",
       "      <td>12%</td>\n",
       "      <td>2%</td>\n",
       "      <td>3%</td>\n",
       "      <td>3%</td>\n",
       "      <td>0%</td>\n",
       "    </tr>\n",
       "    <tr>\n",
       "      <th>atelic_ext</th>\n",
       "      <td>0%</td>\n",
       "      <td>0%</td>\n",
       "      <td>1%</td>\n",
       "      <td>35%</td>\n",
       "      <td>25%</td>\n",
       "      <td>0%</td>\n",
       "      <td>0%</td>\n",
       "      <td>0%</td>\n",
       "      <td>0%</td>\n",
       "      <td>12%</td>\n",
       "    </tr>\n",
       "    <tr>\n",
       "      <th>anterior_dur</th>\n",
       "      <td>38%</td>\n",
       "      <td>38%</td>\n",
       "      <td>15%</td>\n",
       "      <td>0%</td>\n",
       "      <td>2%</td>\n",
       "      <td>2%</td>\n",
       "      <td>0%</td>\n",
       "      <td>2%</td>\n",
       "      <td>1%</td>\n",
       "      <td>0%</td>\n",
       "    </tr>\n",
       "    <tr>\n",
       "      <th>posterior</th>\n",
       "      <td>4%</td>\n",
       "      <td>1%</td>\n",
       "      <td>14%</td>\n",
       "      <td>14%</td>\n",
       "      <td>8%</td>\n",
       "      <td>0%</td>\n",
       "      <td>37%</td>\n",
       "      <td>1%</td>\n",
       "      <td>11%</td>\n",
       "      <td>0%</td>\n",
       "    </tr>\n",
       "    <tr>\n",
       "      <th>reg_recur</th>\n",
       "      <td>41%</td>\n",
       "      <td>0%</td>\n",
       "      <td>5%</td>\n",
       "      <td>3%</td>\n",
       "      <td>2%</td>\n",
       "      <td>0%</td>\n",
       "      <td>0%</td>\n",
       "      <td>0%</td>\n",
       "      <td>0%</td>\n",
       "      <td>0%</td>\n",
       "    </tr>\n",
       "    <tr>\n",
       "      <th>posterior_dur</th>\n",
       "      <td>17%</td>\n",
       "      <td>12%</td>\n",
       "      <td>0%</td>\n",
       "      <td>0%</td>\n",
       "      <td>4%</td>\n",
       "      <td>4%</td>\n",
       "      <td>0%</td>\n",
       "      <td>42%</td>\n",
       "      <td>0%</td>\n",
       "      <td>0%</td>\n",
       "    </tr>\n",
       "    <tr>\n",
       "      <th>telic_ext</th>\n",
       "      <td>0%</td>\n",
       "      <td>0%</td>\n",
       "      <td>0%</td>\n",
       "      <td>17%</td>\n",
       "      <td>83%</td>\n",
       "      <td>0%</td>\n",
       "      <td>0%</td>\n",
       "      <td>0%</td>\n",
       "      <td>0%</td>\n",
       "      <td>0%</td>\n",
       "    </tr>\n",
       "    <tr>\n",
       "      <th>anterior</th>\n",
       "      <td>8%</td>\n",
       "      <td>0%</td>\n",
       "      <td>0%</td>\n",
       "      <td>0%</td>\n",
       "      <td>0%</td>\n",
       "      <td>0%</td>\n",
       "      <td>75%</td>\n",
       "      <td>0%</td>\n",
       "      <td>8%</td>\n",
       "      <td>0%</td>\n",
       "    </tr>\n",
       "    <tr>\n",
       "      <th>dist_fut</th>\n",
       "      <td>0%</td>\n",
       "      <td>0%</td>\n",
       "      <td>0%</td>\n",
       "      <td>83%</td>\n",
       "      <td>17%</td>\n",
       "      <td>0%</td>\n",
       "      <td>0%</td>\n",
       "      <td>0%</td>\n",
       "      <td>0%</td>\n",
       "      <td>0%</td>\n",
       "    </tr>\n",
       "  </tbody>\n",
       "</table>\n",
       "</div>"
      ],
      "text/plain": [
       "modtag         DEF DEMON    C NUM+PL  NUM ORDN  SFX PL+C PL+DEMON KL+DEF\n",
       "function                                                                \n",
       "simultaneous   31%   25%  16%     0%   3%  12%   2%   3%       3%     0%\n",
       "atelic_ext      0%    0%   1%    35%  25%   0%   0%   0%       0%    12%\n",
       "anterior_dur   38%   38%  15%     0%   2%   2%   0%   2%       1%     0%\n",
       "posterior       4%    1%  14%    14%   8%   0%  37%   1%      11%     0%\n",
       "reg_recur      41%    0%   5%     3%   2%   0%   0%   0%       0%     0%\n",
       "posterior_dur  17%   12%   0%     0%   4%   4%   0%  42%       0%     0%\n",
       "telic_ext       0%    0%   0%    17%  83%   0%   0%   0%       0%     0%\n",
       "anterior        8%    0%   0%     0%   0%   0%  75%   0%       8%     0%\n",
       "dist_fut        0%    0%   0%    83%  17%   0%   0%   0%       0%     0%"
      ]
     },
     "execution_count": 88,
     "metadata": {},
     "output_type": "execute_result"
    }
   ],
   "source": [
    "afmod_pr = afmod_ct.div(afmod_ct.sum(1), 0)\n",
    "afmod_pc = afmod_pr.mul(100).round().astype(int).astype(str)+'%'\n",
    "\n",
    "out.table(\n",
    "    afmod_pc.iloc[:,:10],\n",
    "    'afmod_pc',\n",
    "    caption='Modifier Percent of Function (Top Ten)',\n",
    "    adjustbox=True\n",
    ")"
   ]
  },
  {
   "cell_type": "code",
   "execution_count": 89,
   "metadata": {},
   "outputs": [],
   "source": [
    "afmod_dp = sig.apply_deltaP(afmod_ct, 0, 1)"
   ]
  },
  {
   "cell_type": "code",
   "execution_count": 90,
   "metadata": {},
   "outputs": [
    {
     "data": {
      "image/png": "[encoded data removed]",
      "text/plain": [
       "<Figure size 864x432 with 2 Axes>"
      ]
     },
     "metadata": {
      "needs_background": "light"
     },
     "output_type": "display_data"
    }
   ],
   "source": [
    "fig, ax = plt.subplots(figsize=(12, 6))\n",
    "heatmap(afmod_dp.round(2), square=False, ax=ax, annot=True)\n",
    "ax.set_xticklabels(ax.get_xticklabels(), rotation=60)\n",
    "ax.set_yticklabels(ax.get_yticklabels(), size=12)\n",
    "ax.set_ylabel('function', size=12)\n",
    "ax.set_xlabel('modifier', size=12)\n",
    "\n",
    "out.plot(\n",
    "    'heat_afmod_dp',\n",
    ")"
   ]
  },
  {
   "cell_type": "markdown",
   "metadata": {},
   "source": [
    "## Export Modifier ΔPs"
   ]
  },
  {
   "cell_type": "markdown",
   "metadata": {},
   "source": [
    "### Reg. Recurrence"
   ]
  },
  {
   "cell_type": "code",
   "execution_count": 94,
   "metadata": {},
   "outputs": [
    {
     "data": {
      "text/plain": [
       "'26'"
      ]
     },
     "execution_count": 94,
     "metadata": {},
     "output_type": "execute_result"
    }
   ],
   "source": [
    "out.number(\n",
    "    afmod_dp.loc['reg_recur']['KL']*100,\n",
    "    'regrec_DP_KL'\n",
    ")"
   ]
  },
  {
   "cell_type": "code",
   "execution_count": 96,
   "metadata": {},
   "outputs": [
    {
     "data": {
      "text/plain": [
       "'17'"
      ]
     },
     "execution_count": 96,
     "metadata": {},
     "output_type": "execute_result"
    }
   ],
   "source": [
    "out.number(\n",
    "    afmod_dp.loc['reg_recur']['DEF']*100,\n",
    "    'regrec_DP_DEF'\n",
    ")"
   ]
  },
  {
   "cell_type": "markdown",
   "metadata": {},
   "source": [
    "# Export All Fronts"
   ]
  },
  {
   "cell_type": "code",
   "execution_count": 29,
   "metadata": {},
   "outputs": [
    {
     "name": "stdout",
     "output_type": "stream",
     "text": [
      "simultaneous\n"
     ]
    },
    {
     "data": {
      "text/html": [
       "<div>\n",
       "<style scoped>\n",
       "    .dataframe tbody tr th:only-of-type {\n",
       "        vertical-align: middle;\n",
       "    }\n",
       "\n",
       "    .dataframe tbody tr th {\n",
       "        vertical-align: top;\n",
       "    }\n",
       "\n",
       "    .dataframe thead th {\n",
       "        text-align: right;\n",
       "    }\n",
       "</style>\n",
       "<table border=\"1\" class=\"dataframe\">\n",
       "  <thead>\n",
       "    <tr style=\"text-align: right;\">\n",
       "      <th></th>\n",
       "      <th>count</th>\n",
       "      <th>percent</th>\n",
       "    </tr>\n",
       "  </thead>\n",
       "  <tbody>\n",
       "    <tr>\n",
       "      <th>\\texthebrew{ב}</th>\n",
       "      <td>1079</td>\n",
       "      <td>55%</td>\n",
       "    </tr>\n",
       "    <tr>\n",
       "      <th>\\texthebrew{עתה}</th>\n",
       "      <td>349</td>\n",
       "      <td>18%</td>\n",
       "    </tr>\n",
       "    <tr>\n",
       "      <th>\\texthebrew{Ø}</th>\n",
       "      <td>293</td>\n",
       "      <td>15%</td>\n",
       "    </tr>\n",
       "    <tr>\n",
       "      <th>\\texthebrew{אז}</th>\n",
       "      <td>64</td>\n",
       "      <td>3%</td>\n",
       "    </tr>\n",
       "    <tr>\n",
       "      <th>\\texthebrew{ל}</th>\n",
       "      <td>42</td>\n",
       "      <td>2%</td>\n",
       "    </tr>\n",
       "    <tr>\n",
       "      <th>\\texthebrew{כ}</th>\n",
       "      <td>35</td>\n",
       "      <td>2%</td>\n",
       "    </tr>\n",
       "    <tr>\n",
       "      <th>\\texthebrew{מחר}</th>\n",
       "      <td>32</td>\n",
       "      <td>2%</td>\n",
       "    </tr>\n",
       "    <tr>\n",
       "      <th>\\texthebrew{ב+אחרית}</th>\n",
       "      <td>15</td>\n",
       "      <td>1%</td>\n",
       "    </tr>\n",
       "    <tr>\n",
       "      <th>\\texthebrew{בין}</th>\n",
       "      <td>7</td>\n",
       "      <td>0%</td>\n",
       "    </tr>\n",
       "    <tr>\n",
       "      <th>\\texthebrew{יומם}</th>\n",
       "      <td>5</td>\n",
       "      <td>0%</td>\n",
       "    </tr>\n",
       "    <tr>\n",
       "      <th>\\texthebrew{ל+קץ}</th>\n",
       "      <td>5</td>\n",
       "      <td>0%</td>\n",
       "    </tr>\n",
       "    <tr>\n",
       "      <th>\\texthebrew{אמשׁ}</th>\n",
       "      <td>4</td>\n",
       "      <td>0%</td>\n",
       "    </tr>\n",
       "    <tr>\n",
       "      <th>\\texthebrew{על}</th>\n",
       "      <td>2</td>\n",
       "      <td>0%</td>\n",
       "    </tr>\n",
       "    <tr>\n",
       "      <th>\\texthebrew{חצות}</th>\n",
       "      <td>2</td>\n",
       "      <td>0%</td>\n",
       "    </tr>\n",
       "    <tr>\n",
       "      <th>\\texthebrew{ב+תוך}</th>\n",
       "      <td>1</td>\n",
       "      <td>0%</td>\n",
       "    </tr>\n",
       "    <tr>\n",
       "      <th>\\texthebrew{אל}</th>\n",
       "      <td>1</td>\n",
       "      <td>0%</td>\n",
       "    </tr>\n",
       "    <tr>\n",
       "      <th>\\texthebrew{רגע}</th>\n",
       "      <td>1</td>\n",
       "      <td>0%</td>\n",
       "    </tr>\n",
       "    <tr>\n",
       "      <th>\\texthebrew{כ+חצות}</th>\n",
       "      <td>1</td>\n",
       "      <td>0%</td>\n",
       "    </tr>\n",
       "    <tr>\n",
       "      <th>\\texthebrew{ב+ראשׁ}</th>\n",
       "      <td>1</td>\n",
       "      <td>0%</td>\n",
       "    </tr>\n",
       "    <tr>\n",
       "      <th>\\texthebrew{אתמול}</th>\n",
       "      <td>1</td>\n",
       "      <td>0%</td>\n",
       "    </tr>\n",
       "    <tr>\n",
       "      <th>\\texthebrew{ב+תחלה}</th>\n",
       "      <td>1</td>\n",
       "      <td>0%</td>\n",
       "    </tr>\n",
       "    <tr>\n",
       "      <th>\\texthebrew{אחרון}</th>\n",
       "      <td>1</td>\n",
       "      <td>0%</td>\n",
       "    </tr>\n",
       "    <tr>\n",
       "      <th>\\texthebrew{תמול}</th>\n",
       "      <td>1</td>\n",
       "      <td>0%</td>\n",
       "    </tr>\n",
       "    <tr>\n",
       "      <th>\\texthebrew{ראשׁ}</th>\n",
       "      <td>1</td>\n",
       "      <td>0%</td>\n",
       "    </tr>\n",
       "    <tr>\n",
       "      <th>\\texthebrew{כ+מן}</th>\n",
       "      <td>1</td>\n",
       "      <td>0%</td>\n",
       "    </tr>\n",
       "  </tbody>\n",
       "</table>\n",
       "</div>"
      ],
      "text/plain": [
       "                      count percent\n",
       "\\texthebrew{ב}         1079     55%\n",
       "\\texthebrew{עתה}        349     18%\n",
       "\\texthebrew{Ø}          293     15%\n",
       "\\texthebrew{אז}          64      3%\n",
       "\\texthebrew{ל}           42      2%\n",
       "\\texthebrew{כ}           35      2%\n",
       "\\texthebrew{מחר}         32      2%\n",
       "\\texthebrew{ב+אחרית}     15      1%\n",
       "\\texthebrew{בין}          7      0%\n",
       "\\texthebrew{יומם}         5      0%\n",
       "\\texthebrew{ל+קץ}         5      0%\n",
       "\\texthebrew{אמשׁ}         4      0%\n",
       "\\texthebrew{על}           2      0%\n",
       "\\texthebrew{חצות}         2      0%\n",
       "\\texthebrew{ב+תוך}        1      0%\n",
       "\\texthebrew{אל}           1      0%\n",
       "\\texthebrew{רגע}          1      0%\n",
       "\\texthebrew{כ+חצות}       1      0%\n",
       "\\texthebrew{ב+ראשׁ}       1      0%\n",
       "\\texthebrew{אתמול}        1      0%\n",
       "\\texthebrew{ב+תחלה}       1      0%\n",
       "\\texthebrew{אחרון}        1      0%\n",
       "\\texthebrew{תמול}         1      0%\n",
       "\\texthebrew{ראשׁ}         1      0%\n",
       "\\texthebrew{כ+מן}         1      0%"
      ]
     },
     "metadata": {},
     "output_type": "display_data"
    },
    {
     "name": "stdout",
     "output_type": "stream",
     "text": [
      "anterior_dur\n"
     ]
    },
    {
     "data": {
      "text/html": [
       "<div>\n",
       "<style scoped>\n",
       "    .dataframe tbody tr th:only-of-type {\n",
       "        vertical-align: middle;\n",
       "    }\n",
       "\n",
       "    .dataframe tbody tr th {\n",
       "        vertical-align: top;\n",
       "    }\n",
       "\n",
       "    .dataframe thead th {\n",
       "        text-align: right;\n",
       "    }\n",
       "</style>\n",
       "<table border=\"1\" class=\"dataframe\">\n",
       "  <thead>\n",
       "    <tr style=\"text-align: right;\">\n",
       "      <th></th>\n",
       "      <th>count</th>\n",
       "      <th>percent</th>\n",
       "    </tr>\n",
       "  </thead>\n",
       "  <tbody>\n",
       "    <tr>\n",
       "      <th>\\texthebrew{עד}</th>\n",
       "      <td>279</td>\n",
       "      <td>64%</td>\n",
       "    </tr>\n",
       "    <tr>\n",
       "      <th>\\texthebrew{ל}</th>\n",
       "      <td>152</td>\n",
       "      <td>35%</td>\n",
       "    </tr>\n",
       "    <tr>\n",
       "      <th>\\texthebrew{עד+ל}</th>\n",
       "      <td>3</td>\n",
       "      <td>1%</td>\n",
       "    </tr>\n",
       "  </tbody>\n",
       "</table>\n",
       "</div>"
      ],
      "text/plain": [
       "                   count percent\n",
       "\\texthebrew{עד}      279     64%\n",
       "\\texthebrew{ל}       152     35%\n",
       "\\texthebrew{עד+ל}      3      1%"
      ]
     },
     "metadata": {},
     "output_type": "display_data"
    },
    {
     "name": "stdout",
     "output_type": "stream",
     "text": [
      "anterior\n"
     ]
    },
    {
     "data": {
      "text/html": [
       "<div>\n",
       "<style scoped>\n",
       "    .dataframe tbody tr th:only-of-type {\n",
       "        vertical-align: middle;\n",
       "    }\n",
       "\n",
       "    .dataframe tbody tr th {\n",
       "        vertical-align: top;\n",
       "    }\n",
       "\n",
       "    .dataframe thead th {\n",
       "        text-align: right;\n",
       "    }\n",
       "</style>\n",
       "<table border=\"1\" class=\"dataframe\">\n",
       "  <thead>\n",
       "    <tr style=\"text-align: right;\">\n",
       "      <th></th>\n",
       "      <th>count</th>\n",
       "      <th>percent</th>\n",
       "    </tr>\n",
       "  </thead>\n",
       "  <tbody>\n",
       "    <tr>\n",
       "      <th>\\texthebrew{ל+פנה}</th>\n",
       "      <td>27</td>\n",
       "      <td>84%</td>\n",
       "    </tr>\n",
       "    <tr>\n",
       "      <th>\\texthebrew{טרם}</th>\n",
       "      <td>4</td>\n",
       "      <td>12%</td>\n",
       "    </tr>\n",
       "    <tr>\n",
       "      <th>\\texthebrew{ל+פנה+מן}</th>\n",
       "      <td>1</td>\n",
       "      <td>3%</td>\n",
       "    </tr>\n",
       "  </tbody>\n",
       "</table>\n",
       "</div>"
      ],
      "text/plain": [
       "                       count percent\n",
       "\\texthebrew{ל+פנה}        27     84%\n",
       "\\texthebrew{טרם}           4     12%\n",
       "\\texthebrew{ל+פנה+מן}      1      3%"
      ]
     },
     "metadata": {},
     "output_type": "display_data"
    },
    {
     "name": "stdout",
     "output_type": "stream",
     "text": [
      "atelic_ext\n"
     ]
    },
    {
     "data": {
      "text/html": [
       "<div>\n",
       "<style scoped>\n",
       "    .dataframe tbody tr th:only-of-type {\n",
       "        vertical-align: middle;\n",
       "    }\n",
       "\n",
       "    .dataframe tbody tr th {\n",
       "        vertical-align: top;\n",
       "    }\n",
       "\n",
       "    .dataframe thead th {\n",
       "        text-align: right;\n",
       "    }\n",
       "</style>\n",
       "<table border=\"1\" class=\"dataframe\">\n",
       "  <thead>\n",
       "    <tr style=\"text-align: right;\">\n",
       "      <th></th>\n",
       "      <th>count</th>\n",
       "      <th>percent</th>\n",
       "    </tr>\n",
       "  </thead>\n",
       "  <tbody>\n",
       "    <tr>\n",
       "      <th>\\texthebrew{Ø}</th>\n",
       "      <td>520</td>\n",
       "      <td>90%</td>\n",
       "    </tr>\n",
       "    <tr>\n",
       "      <th>\\texthebrew{תמיד}</th>\n",
       "      <td>31</td>\n",
       "      <td>5%</td>\n",
       "    </tr>\n",
       "    <tr>\n",
       "      <th>\\texthebrew{יומם}</th>\n",
       "      <td>13</td>\n",
       "      <td>2%</td>\n",
       "    </tr>\n",
       "    <tr>\n",
       "      <th>\\texthebrew{ל}</th>\n",
       "      <td>5</td>\n",
       "      <td>1%</td>\n",
       "    </tr>\n",
       "    <tr>\n",
       "      <th>\\texthebrew{את}</th>\n",
       "      <td>2</td>\n",
       "      <td>0%</td>\n",
       "    </tr>\n",
       "    <tr>\n",
       "      <th>\\texthebrew{כ}</th>\n",
       "      <td>2</td>\n",
       "      <td>0%</td>\n",
       "    </tr>\n",
       "    <tr>\n",
       "      <th>\\texthebrew{נצח}</th>\n",
       "      <td>1</td>\n",
       "      <td>0%</td>\n",
       "    </tr>\n",
       "    <tr>\n",
       "      <th>\\texthebrew{רביעי}</th>\n",
       "      <td>1</td>\n",
       "      <td>0%</td>\n",
       "    </tr>\n",
       "  </tbody>\n",
       "</table>\n",
       "</div>"
      ],
      "text/plain": [
       "                    count percent\n",
       "\\texthebrew{Ø}        520     90%\n",
       "\\texthebrew{תמיד}      31      5%\n",
       "\\texthebrew{יומם}      13      2%\n",
       "\\texthebrew{ל}          5      1%\n",
       "\\texthebrew{את}         2      0%\n",
       "\\texthebrew{כ}          2      0%\n",
       "\\texthebrew{נצח}        1      0%\n",
       "\\texthebrew{רביעי}      1      0%"
      ]
     },
     "metadata": {},
     "output_type": "display_data"
    },
    {
     "name": "stdout",
     "output_type": "stream",
     "text": [
      "habitual\n"
     ]
    },
    {
     "data": {
      "text/html": [
       "<div>\n",
       "<style scoped>\n",
       "    .dataframe tbody tr th:only-of-type {\n",
       "        vertical-align: middle;\n",
       "    }\n",
       "\n",
       "    .dataframe tbody tr th {\n",
       "        vertical-align: top;\n",
       "    }\n",
       "\n",
       "    .dataframe thead th {\n",
       "        text-align: right;\n",
       "    }\n",
       "</style>\n",
       "<table border=\"1\" class=\"dataframe\">\n",
       "  <thead>\n",
       "    <tr style=\"text-align: right;\">\n",
       "      <th></th>\n",
       "      <th>count</th>\n",
       "      <th>percent</th>\n",
       "    </tr>\n",
       "  </thead>\n",
       "  <tbody>\n",
       "  </tbody>\n",
       "</table>\n",
       "</div>"
      ],
      "text/plain": [
       "Empty DataFrame\n",
       "Columns: [count, percent]\n",
       "Index: []"
      ]
     },
     "metadata": {},
     "output_type": "display_data"
    },
    {
     "name": "stdout",
     "output_type": "stream",
     "text": [
      "posterior\n"
     ]
    },
    {
     "data": {
      "text/html": [
       "<div>\n",
       "<style scoped>\n",
       "    .dataframe tbody tr th:only-of-type {\n",
       "        vertical-align: middle;\n",
       "    }\n",
       "\n",
       "    .dataframe tbody tr th {\n",
       "        vertical-align: top;\n",
       "    }\n",
       "\n",
       "    .dataframe thead th {\n",
       "        text-align: right;\n",
       "    }\n",
       "</style>\n",
       "<table border=\"1\" class=\"dataframe\">\n",
       "  <thead>\n",
       "    <tr style=\"text-align: right;\">\n",
       "      <th></th>\n",
       "      <th>count</th>\n",
       "      <th>percent</th>\n",
       "    </tr>\n",
       "  </thead>\n",
       "  <tbody>\n",
       "    <tr>\n",
       "      <th>\\texthebrew{אחר}</th>\n",
       "      <td>161</td>\n",
       "      <td>72%</td>\n",
       "    </tr>\n",
       "    <tr>\n",
       "      <th>\\texthebrew{מן}</th>\n",
       "      <td>32</td>\n",
       "      <td>14%</td>\n",
       "    </tr>\n",
       "    <tr>\n",
       "      <th>\\texthebrew{מן+קץ}</th>\n",
       "      <td>18</td>\n",
       "      <td>8%</td>\n",
       "    </tr>\n",
       "    <tr>\n",
       "      <th>\\texthebrew{מן+קצה}</th>\n",
       "      <td>10</td>\n",
       "      <td>4%</td>\n",
       "    </tr>\n",
       "    <tr>\n",
       "      <th>\\texthebrew{מן+אחר}</th>\n",
       "      <td>2</td>\n",
       "      <td>1%</td>\n",
       "    </tr>\n",
       "    <tr>\n",
       "      <th>\\texthebrew{מן+קצת}</th>\n",
       "      <td>1</td>\n",
       "      <td>0%</td>\n",
       "    </tr>\n",
       "  </tbody>\n",
       "</table>\n",
       "</div>"
      ],
      "text/plain": [
       "                     count percent\n",
       "\\texthebrew{אחר}       161     72%\n",
       "\\texthebrew{מן}         32     14%\n",
       "\\texthebrew{מן+קץ}      18      8%\n",
       "\\texthebrew{מן+קצה}     10      4%\n",
       "\\texthebrew{מן+אחר}      2      1%\n",
       "\\texthebrew{מן+קצת}      1      0%"
      ]
     },
     "metadata": {},
     "output_type": "display_data"
    },
    {
     "name": "stdout",
     "output_type": "stream",
     "text": [
      "posterior_dur\n"
     ]
    },
    {
     "data": {
      "text/html": [
       "<div>\n",
       "<style scoped>\n",
       "    .dataframe tbody tr th:only-of-type {\n",
       "        vertical-align: middle;\n",
       "    }\n",
       "\n",
       "    .dataframe tbody tr th {\n",
       "        vertical-align: top;\n",
       "    }\n",
       "\n",
       "    .dataframe thead th {\n",
       "        text-align: right;\n",
       "    }\n",
       "</style>\n",
       "<table border=\"1\" class=\"dataframe\">\n",
       "  <thead>\n",
       "    <tr style=\"text-align: right;\">\n",
       "      <th></th>\n",
       "      <th>count</th>\n",
       "      <th>percent</th>\n",
       "    </tr>\n",
       "  </thead>\n",
       "  <tbody>\n",
       "    <tr>\n",
       "      <th>\\texthebrew{מן}</th>\n",
       "      <td>64</td>\n",
       "      <td>96%</td>\n",
       "    </tr>\n",
       "    <tr>\n",
       "      <th>\\texthebrew{מן+ל}</th>\n",
       "      <td>1</td>\n",
       "      <td>1%</td>\n",
       "    </tr>\n",
       "    <tr>\n",
       "      <th>\\texthebrew{מן+תחלה}</th>\n",
       "      <td>1</td>\n",
       "      <td>1%</td>\n",
       "    </tr>\n",
       "    <tr>\n",
       "      <th>\\texthebrew{ל+מן}</th>\n",
       "      <td>1</td>\n",
       "      <td>1%</td>\n",
       "    </tr>\n",
       "  </tbody>\n",
       "</table>\n",
       "</div>"
      ],
      "text/plain": [
       "                      count percent\n",
       "\\texthebrew{מן}          64     96%\n",
       "\\texthebrew{מן+ל}         1      1%\n",
       "\\texthebrew{מן+תחלה}      1      1%\n",
       "\\texthebrew{ל+מן}         1      1%"
      ]
     },
     "metadata": {},
     "output_type": "display_data"
    },
    {
     "name": "stdout",
     "output_type": "stream",
     "text": [
      "telic_ext\n"
     ]
    },
    {
     "data": {
      "text/html": [
       "<div>\n",
       "<style scoped>\n",
       "    .dataframe tbody tr th:only-of-type {\n",
       "        vertical-align: middle;\n",
       "    }\n",
       "\n",
       "    .dataframe tbody tr th {\n",
       "        vertical-align: top;\n",
       "    }\n",
       "\n",
       "    .dataframe thead th {\n",
       "        text-align: right;\n",
       "    }\n",
       "</style>\n",
       "<table border=\"1\" class=\"dataframe\">\n",
       "  <thead>\n",
       "    <tr style=\"text-align: right;\">\n",
       "      <th></th>\n",
       "      <th>count</th>\n",
       "      <th>percent</th>\n",
       "    </tr>\n",
       "  </thead>\n",
       "  <tbody>\n",
       "    <tr>\n",
       "      <th>\\texthebrew{ב}</th>\n",
       "      <td>8</td>\n",
       "      <td>57%</td>\n",
       "    </tr>\n",
       "    <tr>\n",
       "      <th>\\texthebrew{Ø}</th>\n",
       "      <td>6</td>\n",
       "      <td>43%</td>\n",
       "    </tr>\n",
       "  </tbody>\n",
       "</table>\n",
       "</div>"
      ],
      "text/plain": [
       "                count percent\n",
       "\\texthebrew{ב}      8     57%\n",
       "\\texthebrew{Ø}      6     43%"
      ]
     },
     "metadata": {},
     "output_type": "display_data"
    },
    {
     "name": "stdout",
     "output_type": "stream",
     "text": [
      "dist_fut\n"
     ]
    },
    {
     "data": {
      "text/html": [
       "<div>\n",
       "<style scoped>\n",
       "    .dataframe tbody tr th:only-of-type {\n",
       "        vertical-align: middle;\n",
       "    }\n",
       "\n",
       "    .dataframe tbody tr th {\n",
       "        vertical-align: top;\n",
       "    }\n",
       "\n",
       "    .dataframe thead th {\n",
       "        text-align: right;\n",
       "    }\n",
       "</style>\n",
       "<table border=\"1\" class=\"dataframe\">\n",
       "  <thead>\n",
       "    <tr style=\"text-align: right;\">\n",
       "      <th></th>\n",
       "      <th>count</th>\n",
       "      <th>percent</th>\n",
       "    </tr>\n",
       "  </thead>\n",
       "  <tbody>\n",
       "    <tr>\n",
       "      <th>\\texthebrew{ב}</th>\n",
       "      <td>6</td>\n",
       "      <td>100%</td>\n",
       "    </tr>\n",
       "  </tbody>\n",
       "</table>\n",
       "</div>"
      ],
      "text/plain": [
       "                count percent\n",
       "\\texthebrew{ב}      6    100%"
      ]
     },
     "metadata": {},
     "output_type": "display_data"
    },
    {
     "name": "stdout",
     "output_type": "stream",
     "text": [
      "dist_past\n"
     ]
    },
    {
     "data": {
      "text/html": [
       "<div>\n",
       "<style scoped>\n",
       "    .dataframe tbody tr th:only-of-type {\n",
       "        vertical-align: middle;\n",
       "    }\n",
       "\n",
       "    .dataframe tbody tr th {\n",
       "        vertical-align: top;\n",
       "    }\n",
       "\n",
       "    .dataframe thead th {\n",
       "        text-align: right;\n",
       "    }\n",
       "</style>\n",
       "<table border=\"1\" class=\"dataframe\">\n",
       "  <thead>\n",
       "    <tr style=\"text-align: right;\">\n",
       "      <th></th>\n",
       "      <th>count</th>\n",
       "      <th>percent</th>\n",
       "    </tr>\n",
       "  </thead>\n",
       "  <tbody>\n",
       "    <tr>\n",
       "      <th>\\texthebrew{Ø}</th>\n",
       "      <td>3</td>\n",
       "      <td>100%</td>\n",
       "    </tr>\n",
       "  </tbody>\n",
       "</table>\n",
       "</div>"
      ],
      "text/plain": [
       "                count percent\n",
       "\\texthebrew{Ø}      3    100%"
      ]
     },
     "metadata": {},
     "output_type": "display_data"
    }
   ],
   "source": [
    "abbrevs = {\n",
    "    'simultaneous': ['sim', 'Simultaneous'],\n",
    "    'anterior_dur': ['antdur', 'Anterior Durative'],\n",
    "    'anterior': ['ant', 'Anterior'],\n",
    "    'atelic_ext': ['atel', 'Atelic Extent'],\n",
    "    'habitual': ['hab', 'Habitual'],\n",
    "    'posterior': ['post', 'Posterior'],\n",
    "    'posterior_dur': ['postdur', 'Posterior Durative'],\n",
    "    'telic_ext': ['telic', 'Telic Extent'],\n",
    "    'dist_fut': ['distfut', 'Distance Future'],  \n",
    "    'dist_past': ['distpast', 'Distance Past'], \n",
    "}\n",
    "\n",
    "funct2data = {}\n",
    "\n",
    "for function, namedata in abbrevs.items():\n",
    "    abbrev, full = namedata\n",
    "    funct_df = df_main[df_main.function == function]\n",
    "    front_cts = pd.DataFrame(\n",
    "        funct_df['front'].value_counts()\n",
    "    )\n",
    "    front_cts = front_cts.rename_axis(index='front').set_axis(['count'], 1)\n",
    "    front_prs = front_cts / front_cts.sum()\n",
    "    front_cp = join_ct_pr(front_cts, front_prs)\n",
    "    \n",
    "    funct2data[function] = {\n",
    "        'df': funct_df,\n",
    "        'ct':front_cts,\n",
    "        'pr':front_prs,\n",
    "        'cp':front_cp,\n",
    "    }\n",
    "    \n",
    "    print(function)\n",
    "    display(\n",
    "        out.table(\n",
    "            front_cp,\n",
    "            f'{abbrev}_front',\n",
    "            caption=f'Attested {full} Forms in Sample',\n",
    "            hebindex=True,\n",
    "        )\n",
    "    )"
   ]
  },
  {
   "cell_type": "markdown",
   "metadata": {},
   "source": [
    "## Export Numbers / Data"
   ]
  },
  {
   "cell_type": "markdown",
   "metadata": {},
   "source": [
    "### Simultaneous"
   ]
  },
  {
   "cell_type": "code",
   "execution_count": 30,
   "metadata": {
    "collapsed": true,
    "jupyter": {
     "outputs_hidden": true
    }
   },
   "outputs": [],
   "source": [
    "simdf = funct2data['simultaneous']['df']"
   ]
  },
  {
   "cell_type": "code",
   "execution_count": 31,
   "metadata": {
    "collapsed": true,
    "jupyter": {
     "outputs_hidden": true
    }
   },
   "outputs": [
    {
     "data": {
      "text/plain": [
       "'55'"
      ]
     },
     "execution_count": 31,
     "metadata": {},
     "output_type": "execute_result"
    }
   ],
   "source": [
    "out.number(\n",
    "    funct2data['simultaneous']['pr'].loc['ב'][0]*100,\n",
    "    'perc_sim_B'\n",
    ")"
   ]
  },
  {
   "cell_type": "code",
   "execution_count": 32,
   "metadata": {
    "collapsed": true,
    "jupyter": {
     "outputs_hidden": true
    }
   },
   "outputs": [
    {
     "data": {
      "text/plain": [
       "'15'"
      ]
     },
     "execution_count": 32,
     "metadata": {},
     "output_type": "execute_result"
    }
   ],
   "source": [
    "get = 'Ø'\n",
    "out.number(\n",
    "    funct2data['simultaneous']['pr'].loc[get][0]*100,\n",
    "    'perc_sim_Ø'\n",
    ")"
   ]
  },
  {
   "cell_type": "code",
   "execution_count": 33,
   "metadata": {
    "collapsed": true,
    "jupyter": {
     "outputs_hidden": true
    }
   },
   "outputs": [
    {
     "data": {
      "text/plain": [
       "1.0    0.83959\n",
       "0.0    0.16041\n",
       "Name: DEF, dtype: float64"
      ]
     },
     "execution_count": 33,
     "metadata": {},
     "output_type": "execute_result"
    }
   ],
   "source": [
    "nulldef_ct = simdf[simdf.front == 'Ø'].DEF.value_counts()\n",
    "nulldef_pr = nulldef_ct / nulldef_ct.sum()\n",
    "\n",
    "nulldef_pr"
   ]
  },
  {
   "cell_type": "code",
   "execution_count": 34,
   "metadata": {
    "collapsed": true,
    "jupyter": {
     "outputs_hidden": true
    }
   },
   "outputs": [
    {
     "data": {
      "text/plain": [
       "'84'"
      ]
     },
     "execution_count": 34,
     "metadata": {},
     "output_type": "execute_result"
    }
   ],
   "source": [
    "out.number(\n",
    "    nulldef_pr[1]*100,\n",
    "    'nulldef_pr'\n",
    ")"
   ]
  },
  {
   "cell_type": "markdown",
   "metadata": {},
   "source": [
    "#"
   ]
  },
  {
   "cell_type": "code",
   "execution_count": 35,
   "metadata": {
    "collapsed": true,
    "jupyter": {
     "outputs_hidden": true
    }
   },
   "outputs": [
    {
     "name": "stdout",
     "output_type": "stream",
     "text": [
      "showing 10 of 47\n"
     ]
    },
    {
     "data": {
      "text/html": [
       "<style  type=\"text/css\" >\n",
       "#T_9515b_row0_col1,#T_9515b_row1_col1,#T_9515b_row2_col1,#T_9515b_row3_col1,#T_9515b_row4_col1,#T_9515b_row5_col1,#T_9515b_row6_col1,#T_9515b_row7_col1,#T_9515b_row8_col1,#T_9515b_row9_col1{\n",
       "            font-size: 20px;\n",
       "             font-family:  Times New Roman;\n",
       "             text-align:  right;\n",
       "             max-width:  500px;\n",
       "        }</style><table id=\"T_9515b_\" ><thead>    <tr>        <th class=\"blank level0\" ></th>        <th class=\"col_heading level0 col0\" >verse</th>        <th class=\"col_heading level0 col1\" >clause</th>        <th class=\"col_heading level0 col2\" >function</th>        <th class=\"col_heading level0 col3\" >times_utf8</th>    </tr>    <tr>        <th class=\"index_name level0\" >node</th>        <th class=\"blank\" ></th>        <th class=\"blank\" ></th>        <th class=\"blank\" ></th>        <th class=\"blank\" ></th>    </tr></thead><tbody>\n",
       "                <tr>\n",
       "                        <th id=\"T_9515b_level0_row0\" class=\"row_heading level0 row0\" >428652</th>\n",
       "                        <td id=\"T_9515b_row0_col0\" class=\"data row0 col0\" >Genesis 14:4</td>\n",
       "                        <td id=\"T_9515b_row0_col1\" class=\"data row0 col1\" >וּשְׁלֹשׁ־עֶשְׂרֵ֥ה שָׁנָ֖ה מָרָֽדוּ׃ </td>\n",
       "                        <td id=\"T_9515b_row0_col2\" class=\"data row0 col2\" >simultaneous</td>\n",
       "                        <td id=\"T_9515b_row0_col3\" class=\"data row0 col3\" >שׁנה</td>\n",
       "            </tr>\n",
       "            <tr>\n",
       "                        <th id=\"T_9515b_level0_row1\" class=\"row_heading level0 row1\" >442052</th>\n",
       "                        <td id=\"T_9515b_row1_col0\" class=\"data row1 col0\" >Numbers 11:9</td>\n",
       "                        <td id=\"T_9515b_row1_col1\" class=\"data row1 col1\" >בְרֶ֧דֶת הַטַּ֛ל עַל־הַֽמַּחֲנֶ֖ה לָ֑יְלָה </td>\n",
       "                        <td id=\"T_9515b_row1_col2\" class=\"data row1 col2\" >simultaneous</td>\n",
       "                        <td id=\"T_9515b_row1_col3\" class=\"data row1 col3\" >לילה</td>\n",
       "            </tr>\n",
       "            <tr>\n",
       "                        <th id=\"T_9515b_level0_row2\" class=\"row_heading level0 row2\" >452297</th>\n",
       "                        <td id=\"T_9515b_row2_col0\" class=\"data row2 col0\" >Judges 9:32</td>\n",
       "                        <td id=\"T_9515b_row2_col1\" class=\"data row2 col1\" >ק֣וּם לַ֔יְלָה אַתָּ֖ה וְהָעָ֣ם </td>\n",
       "                        <td id=\"T_9515b_row2_col2\" class=\"data row2 col2\" >simultaneous</td>\n",
       "                        <td id=\"T_9515b_row2_col3\" class=\"data row2 col3\" >לילה</td>\n",
       "            </tr>\n",
       "            <tr>\n",
       "                        <th id=\"T_9515b_level0_row3\" class=\"row_heading level0 row3\" >457391</th>\n",
       "                        <td id=\"T_9515b_row3_col0\" class=\"data row3 col0\" >1_Samuel 26:7</td>\n",
       "                        <td id=\"T_9515b_row3_col1\" class=\"data row3 col1\" >וַיָּבֹא֩ דָוִ֨ד וַאֲבִישַׁ֥י׀ אֶל־הָעָם֮ לַיְלָה֒ </td>\n",
       "                        <td id=\"T_9515b_row3_col2\" class=\"data row3 col2\" >simultaneous</td>\n",
       "                        <td id=\"T_9515b_row3_col3\" class=\"data row3 col3\" >לילה</td>\n",
       "            </tr>\n",
       "            <tr>\n",
       "                        <th id=\"T_9515b_level0_row4\" class=\"row_heading level0 row4\" >465833</th>\n",
       "                        <td id=\"T_9515b_row4_col0\" class=\"data row4 col0\" >2_Kings 7:12</td>\n",
       "                        <td id=\"T_9515b_row4_col1\" class=\"data row4 col1\" >וַיָּ֨קָם הַמֶּ֜לֶךְ לַ֗יְלָה </td>\n",
       "                        <td id=\"T_9515b_row4_col2\" class=\"data row4 col2\" >simultaneous</td>\n",
       "                        <td id=\"T_9515b_row4_col3\" class=\"data row4 col3\" >לילה</td>\n",
       "            </tr>\n",
       "            <tr>\n",
       "                        <th id=\"T_9515b_level0_row5\" class=\"row_heading level0 row5\" >485724</th>\n",
       "                        <td id=\"T_9515b_row5_col0\" class=\"data row5 col0\" >Hosea 4:5</td>\n",
       "                        <td id=\"T_9515b_row5_col1\" class=\"data row5 col1\" >וְכָשַׁ֧ל גַּם־נָבִ֛יא עִמְּךָ֖ לָ֑יְלָה </td>\n",
       "                        <td id=\"T_9515b_row5_col2\" class=\"data row5 col2\" >simultaneous</td>\n",
       "                        <td id=\"T_9515b_row5_col3\" class=\"data row5 col3\" >לילה</td>\n",
       "            </tr>\n",
       "            <tr>\n",
       "                        <th id=\"T_9515b_level0_row6\" class=\"row_heading level0 row6\" >490340</th>\n",
       "                        <td id=\"T_9515b_row6_col0\" class=\"data row6 col0\" >Psalms 5:4</td>\n",
       "                        <td id=\"T_9515b_row6_col1\" class=\"data row6 col1\" >בֹּ֖קֶר תִּשְׁמַ֣ע קֹולִ֑י </td>\n",
       "                        <td id=\"T_9515b_row6_col2\" class=\"data row6 col2\" >simultaneous</td>\n",
       "                        <td id=\"T_9515b_row6_col3\" class=\"data row6 col3\" >בקר</td>\n",
       "            </tr>\n",
       "            <tr>\n",
       "                        <th id=\"T_9515b_level0_row7\" class=\"row_heading level0 row7\" >493512</th>\n",
       "                        <td id=\"T_9515b_row7_col0\" class=\"data row7 col0\" >Psalms 69:14</td>\n",
       "                        <td id=\"T_9515b_row7_col1\" class=\"data row7 col1\" >תְפִלָּתִֽי־לְךָ֨׀ עֵ֤ת רָצֹ֗ון </td>\n",
       "                        <td id=\"T_9515b_row7_col2\" class=\"data row7 col2\" >simultaneous</td>\n",
       "                        <td id=\"T_9515b_row7_col3\" class=\"data row7 col3\" >עת</td>\n",
       "            </tr>\n",
       "            <tr>\n",
       "                        <th id=\"T_9515b_level0_row8\" class=\"row_heading level0 row8\" >499835</th>\n",
       "                        <td id=\"T_9515b_row8_col0\" class=\"data row8 col0\" >Job 34:25</td>\n",
       "                        <td id=\"T_9515b_row8_col1\" class=\"data row8 col1\" >וְהָ֥פַךְ לַ֝֗יְלָה </td>\n",
       "                        <td id=\"T_9515b_row8_col2\" class=\"data row8 col2\" >simultaneous</td>\n",
       "                        <td id=\"T_9515b_row8_col3\" class=\"data row8 col3\" >לילה</td>\n",
       "            </tr>\n",
       "            <tr>\n",
       "                        <th id=\"T_9515b_level0_row9\" class=\"row_heading level0 row9\" >514108</th>\n",
       "                        <td id=\"T_9515b_row9_col0\" class=\"data row9 col0\" >2_Chronicles 21:9</td>\n",
       "                        <td id=\"T_9515b_row9_col1\" class=\"data row9 col1\" >קָ֣ם לַ֔יְלָה </td>\n",
       "                        <td id=\"T_9515b_row9_col2\" class=\"data row9 col2\" >simultaneous</td>\n",
       "                        <td id=\"T_9515b_row9_col3\" class=\"data row9 col3\" >לילה</td>\n",
       "            </tr>\n",
       "    </tbody></table>"
      ],
      "text/plain": [
       "<pandas.io.formats.style.Styler at 0x7f917c4d0160>"
      ]
     },
     "execution_count": 35,
     "metadata": {},
     "output_type": "execute_result"
    }
   ],
   "source": [
    "null_nodef = simdf[\n",
    "    (simdf.front == 'Ø')\n",
    "    & (simdf.DEF == 0)\n",
    "]\n",
    "\n",
    "out.number(\n",
    "    null_nodef.shape[0],\n",
    "    'n_null_nodef'\n",
    ")\n",
    "\n",
    "ts.show(\n",
    "    null_nodef\n",
    ", extra=['function', 'times_utf8'], spread=10)"
   ]
  },
  {
   "cell_type": "code",
   "execution_count": 36,
   "metadata": {
    "collapsed": true,
    "jupyter": {
     "outputs_hidden": true
    }
   },
   "outputs": [
    {
     "data": {
      "text/plain": [
       "לילה       31\n",
       "יום         5\n",
       "בקר         3\n",
       "עת          2\n",
       "רגע         1\n",
       "חדשׁ        1\n",
       "שׁנה        1\n",
       "צהרים       1\n",
       "רגע|יום     1\n",
       "מחר|עת      1\n",
       "Name: times_utf8, dtype: int64"
      ]
     },
     "execution_count": 36,
     "metadata": {},
     "output_type": "execute_result"
    }
   ],
   "source": [
    "nndef_timects = null_nodef.times_utf8.value_counts()\n",
    "nndef_timeprs = nndef_timects / nndef_timects.sum()\n",
    "\n",
    "nndef_timects"
   ]
  },
  {
   "cell_type": "code",
   "execution_count": 37,
   "metadata": {
    "collapsed": true,
    "jupyter": {
     "outputs_hidden": true
    }
   },
   "outputs": [
    {
     "data": {
      "text/plain": [
       "'66'"
      ]
     },
     "execution_count": 37,
     "metadata": {},
     "output_type": "execute_result"
    }
   ],
   "source": [
    "out.number(\n",
    "    nndef_timeprs['לילה']*100,\n",
    "    'nndef_night_pr',\n",
    ")"
   ]
  },
  {
   "cell_type": "code",
   "execution_count": 38,
   "metadata": {
    "collapsed": true,
    "jupyter": {
     "outputs_hidden": true
    }
   },
   "outputs": [
    {
     "data": {
      "text/plain": [
       "'31'"
      ]
     },
     "execution_count": 38,
     "metadata": {},
     "output_type": "execute_result"
    }
   ],
   "source": [
    "out.number(\n",
    "    nndef_timects['לילה'],\n",
    "    'nndef_night_ct',\n",
    ")"
   ]
  },
  {
   "cell_type": "code",
   "execution_count": 39,
   "metadata": {
    "collapsed": true,
    "jupyter": {
     "outputs_hidden": true
    }
   },
   "outputs": [
    {
     "data": {
      "text/plain": [
       "'5'"
      ]
     },
     "execution_count": 39,
     "metadata": {},
     "output_type": "execute_result"
    }
   ],
   "source": [
    "out.number(\n",
    "    nndef_timects['יום'],\n",
    "    'nndef_day_ct',\n",
    ")"
   ]
  },
  {
   "cell_type": "code",
   "execution_count": 40,
   "metadata": {
    "collapsed": true,
    "jupyter": {
     "outputs_hidden": true
    }
   },
   "outputs": [
    {
     "data": {
      "text/plain": [
       "'3'"
      ]
     },
     "execution_count": 40,
     "metadata": {},
     "output_type": "execute_result"
    }
   ],
   "source": [
    "out.number(\n",
    "    nndef_timects['בקר'],\n",
    "    'nndef_morning_ct',\n",
    ")"
   ]
  },
  {
   "cell_type": "markdown",
   "metadata": {},
   "source": [
    "### Anterior"
   ]
  },
  {
   "cell_type": "code",
   "execution_count": 41,
   "metadata": {
    "collapsed": true,
    "jupyter": {
     "outputs_hidden": true
    }
   },
   "outputs": [],
   "source": [
    "antdf = df_main[df_main.function == 'anterior']"
   ]
  },
  {
   "cell_type": "code",
   "execution_count": 42,
   "metadata": {
    "collapsed": true,
    "jupyter": {
     "outputs_hidden": true
    }
   },
   "outputs": [
    {
     "data": {
      "text/html": [
       "<div>\n",
       "<style scoped>\n",
       "    .dataframe tbody tr th:only-of-type {\n",
       "        vertical-align: middle;\n",
       "    }\n",
       "\n",
       "    .dataframe tbody tr th {\n",
       "        vertical-align: top;\n",
       "    }\n",
       "\n",
       "    .dataframe thead th {\n",
       "        text-align: right;\n",
       "    }\n",
       "</style>\n",
       "<table border=\"1\" class=\"dataframe\">\n",
       "  <thead>\n",
       "    <tr style=\"text-align: right;\">\n",
       "      <th></th>\n",
       "      <th>count</th>\n",
       "    </tr>\n",
       "    <tr>\n",
       "      <th>front</th>\n",
       "      <th></th>\n",
       "    </tr>\n",
       "  </thead>\n",
       "  <tbody>\n",
       "    <tr>\n",
       "      <th>ל+פנה</th>\n",
       "      <td>27</td>\n",
       "    </tr>\n",
       "    <tr>\n",
       "      <th>טרם</th>\n",
       "      <td>4</td>\n",
       "    </tr>\n",
       "    <tr>\n",
       "      <th>ל+פנה+מן</th>\n",
       "      <td>1</td>\n",
       "    </tr>\n",
       "  </tbody>\n",
       "</table>\n",
       "</div>"
      ],
      "text/plain": [
       "          count\n",
       "front          \n",
       "ל+פנה        27\n",
       "טרם           4\n",
       "ל+פנה+מן      1"
      ]
     },
     "execution_count": 42,
     "metadata": {},
     "output_type": "execute_result"
    }
   ],
   "source": [
    "funct2data['anterior']['ct']"
   ]
  },
  {
   "cell_type": "code",
   "execution_count": 43,
   "metadata": {
    "collapsed": true,
    "jupyter": {
     "outputs_hidden": true
    }
   },
   "outputs": [
    {
     "name": "stdout",
     "output_type": "stream",
     "text": [
      "showing 9 of 9\n"
     ]
    },
    {
     "data": {
      "text/html": [
       "<style  type=\"text/css\" >\n",
       "#T_4ccd4_row0_col1,#T_4ccd4_row1_col1,#T_4ccd4_row2_col1,#T_4ccd4_row3_col1,#T_4ccd4_row4_col1,#T_4ccd4_row5_col1,#T_4ccd4_row6_col1,#T_4ccd4_row7_col1,#T_4ccd4_row8_col1{\n",
       "            font-size: 20px;\n",
       "             font-family:  Times New Roman;\n",
       "             text-align:  right;\n",
       "             max-width:  500px;\n",
       "        }</style><table id=\"T_4ccd4_\" ><thead>    <tr>        <th class=\"blank level0\" ></th>        <th class=\"col_heading level0 col0\" >verse</th>        <th class=\"col_heading level0 col1\" >clause</th>    </tr>    <tr>        <th class=\"index_name level0\" >node</th>        <th class=\"blank\" ></th>        <th class=\"blank\" ></th>    </tr></thead><tbody>\n",
       "                <tr>\n",
       "                        <th id=\"T_4ccd4_level0_row0\" class=\"row_heading level0 row0\" >430247</th>\n",
       "                        <td id=\"T_4ccd4_row0_col0\" class=\"data row0 col0\" >Genesis 27:7</td>\n",
       "                        <td id=\"T_4ccd4_row0_col1\" class=\"data row0 col1\" >וַאֲבָרֶכְכָ֛ה לִפְנֵ֥י יְהוָ֖ה לִפְנֵ֥י מֹותִֽי׃ </td>\n",
       "            </tr>\n",
       "            <tr>\n",
       "                        <th id=\"T_4ccd4_level0_row1\" class=\"row_heading level0 row1\" >430258</th>\n",
       "                        <td id=\"T_4ccd4_row1_col0\" class=\"data row1 col0\" >Genesis 27:10</td>\n",
       "                        <td id=\"T_4ccd4_row1_col1\" class=\"data row1 col1\" >בַּעֲבֻ֛ר אֲשֶׁ֥ר יְבָרֶכְךָ֖ לִפְנֵ֥י מֹותֹֽו׃ </td>\n",
       "            </tr>\n",
       "            <tr>\n",
       "                        <th id=\"T_4ccd4_level0_row2\" class=\"row_heading level0 row2\" >430797</th>\n",
       "                        <td id=\"T_4ccd4_row2_col0\" class=\"data row2 col0\" >Genesis 30:30</td>\n",
       "                        <td id=\"T_4ccd4_row2_col1\" class=\"data row2 col1\" >אֲשֶׁר־הָיָ֨ה לְךָ֤ לְפָנַי֙ </td>\n",
       "            </tr>\n",
       "            <tr>\n",
       "                        <th id=\"T_4ccd4_level0_row3\" class=\"row_heading level0 row3\" >433499</th>\n",
       "                        <td id=\"T_4ccd4_row3_col0\" class=\"data row3 col0\" >Genesis 50:16</td>\n",
       "                        <td id=\"T_4ccd4_row3_col1\" class=\"data row3 col1\" >אָבִ֣יךָ צִוָּ֔ה לִפְנֵ֥י מֹותֹ֖ו </td>\n",
       "            </tr>\n",
       "            <tr>\n",
       "                        <th id=\"T_4ccd4_level0_row4\" class=\"row_heading level0 row4\" >434635</th>\n",
       "                        <td id=\"T_4ccd4_row4_col0\" class=\"data row4 col0\" >Exodus 10:14</td>\n",
       "                        <td id=\"T_4ccd4_row4_col1\" class=\"data row4 col1\" >לְ֠פָנָיו לֹא־הָ֨יָה כֵ֤ן אַרְבֶּה֙ כָּמֹ֔הוּ </td>\n",
       "            </tr>\n",
       "            <tr>\n",
       "                        <th id=\"T_4ccd4_level0_row5\" class=\"row_heading level0 row5\" >461659</th>\n",
       "                        <td id=\"T_4ccd4_row5_col0\" class=\"data row5 col0\" >1_Kings 3:12</td>\n",
       "                        <td id=\"T_4ccd4_row5_col1\" class=\"data row5 col1\" >אֲשֶׁ֤ר כָּמֹ֨וךָ֙ לֹא־הָיָ֣ה לְפָנֶ֔יךָ </td>\n",
       "            </tr>\n",
       "            <tr>\n",
       "                        <th id=\"T_4ccd4_level0_row6\" class=\"row_heading level0 row6\" >467924</th>\n",
       "                        <td id=\"T_4ccd4_row6_col0\" class=\"data row6 col0\" >2_Kings 23:25</td>\n",
       "                        <td id=\"T_4ccd4_row6_col1\" class=\"data row6 col1\" >וְכָמֹהוּ֩ לֹֽא־הָיָ֨ה לְפָנָ֜יו מֶ֗לֶךְ </td>\n",
       "            </tr>\n",
       "            <tr>\n",
       "                        <th id=\"T_4ccd4_level0_row7\" class=\"row_heading level0 row7\" >504486</th>\n",
       "                        <td id=\"T_4ccd4_row7_col0\" class=\"data row7 col0\" >Ecclesiastes 9:1</td>\n",
       "                        <td id=\"T_4ccd4_row7_col1\" class=\"data row7 col1\" >אֵ֤ין יֹודֵ֨עַ֙ הָֽאָדָ֔ם הַכֹּ֖ל לִפְנֵיהֶֽם׃ </td>\n",
       "            </tr>\n",
       "            <tr>\n",
       "                        <th id=\"T_4ccd4_level0_row8\" class=\"row_heading level0 row8\" >511707</th>\n",
       "                        <td id=\"T_4ccd4_row8_col0\" class=\"data row8 col0\" >1_Chronicles 22:5</td>\n",
       "                        <td id=\"T_4ccd4_row8_col1\" class=\"data row8 col1\" >וַיָּ֧כֶן דָּוִ֛יד לָרֹ֖ב לִפְנֵ֥י מֹותֹֽו׃ </td>\n",
       "            </tr>\n",
       "    </tbody></table>"
      ],
      "text/plain": [
       "<pandas.io.formats.style.Styler at 0x7f917c642160>"
      ]
     },
     "execution_count": 43,
     "metadata": {},
     "output_type": "execute_result"
    }
   ],
   "source": [
    "ts.show(\n",
    "    antdf[antdf.SFX == 1]\n",
    ")"
   ]
  },
  {
   "cell_type": "code",
   "execution_count": 44,
   "metadata": {
    "collapsed": true,
    "jupyter": {
     "outputs_hidden": true
    }
   },
   "outputs": [
    {
     "name": "stdout",
     "output_type": "stream",
     "text": [
      "showing 4 of 4\n"
     ]
    },
    {
     "data": {
      "text/html": [
       "<style  type=\"text/css\" >\n",
       "#T_4e55a_row0_col1,#T_4e55a_row1_col1,#T_4e55a_row2_col1,#T_4e55a_row3_col1{\n",
       "            font-size: 20px;\n",
       "             font-family:  Times New Roman;\n",
       "             text-align:  right;\n",
       "             max-width:  500px;\n",
       "        }</style><table id=\"T_4e55a_\" ><thead>    <tr>        <th class=\"blank level0\" ></th>        <th class=\"col_heading level0 col0\" >verse</th>        <th class=\"col_heading level0 col1\" >clause</th>    </tr>    <tr>        <th class=\"index_name level0\" >node</th>        <th class=\"blank\" ></th>        <th class=\"blank\" ></th>    </tr></thead><tbody>\n",
       "                <tr>\n",
       "                        <th id=\"T_4e55a_level0_row0\" class=\"row_heading level0 row0\" >427693</th>\n",
       "                        <td id=\"T_4e55a_row0_col0\" class=\"data row0 col0\" >Genesis 2:5</td>\n",
       "                        <td id=\"T_4e55a_row0_col1\" class=\"data row0 col1\" >וְכֹ֣ל׀ שִׂ֣יחַ הַשָּׂדֶ֗ה טֶ֚רֶם יִֽהְיֶ֣ה בָאָ֔רֶץ </td>\n",
       "            </tr>\n",
       "            <tr>\n",
       "                        <th id=\"T_4e55a_level0_row1\" class=\"row_heading level0 row1\" >427694</th>\n",
       "                        <td id=\"T_4e55a_row1_col0\" class=\"data row1 col0\" >Genesis 2:5</td>\n",
       "                        <td id=\"T_4e55a_row1_col1\" class=\"data row1 col1\" >וְכָל־עֵ֥שֶׂב הַשָּׂדֶ֖ה טֶ֣רֶם יִצְמָ֑ח </td>\n",
       "            </tr>\n",
       "            <tr>\n",
       "                        <th id=\"T_4e55a_level0_row2\" class=\"row_heading level0 row2\" >434600</th>\n",
       "                        <td id=\"T_4e55a_row2_col0\" class=\"data row2 col0\" >Exodus 10:7</td>\n",
       "                        <td id=\"T_4e55a_row2_col1\" class=\"data row2 col1\" >הֲטֶ֣רֶם תֵּדַ֔ע </td>\n",
       "            </tr>\n",
       "            <tr>\n",
       "                        <th id=\"T_4e55a_level0_row3\" class=\"row_heading level0 row3\" >448860</th>\n",
       "                        <td id=\"T_4e55a_row3_col0\" class=\"data row3 col0\" >Joshua 2:8</td>\n",
       "                        <td id=\"T_4e55a_row3_col1\" class=\"data row3 col1\" >טֶ֣רֶם יִשְׁכָּב֑וּן </td>\n",
       "            </tr>\n",
       "    </tbody></table>"
      ],
      "text/plain": [
       "<pandas.io.formats.style.Styler at 0x7f917c642a30>"
      ]
     },
     "execution_count": 44,
     "metadata": {},
     "output_type": "execute_result"
    }
   ],
   "source": [
    "ts.show(\n",
    "    antdf[antdf.times_etcbc == 'VRM/']\n",
    ")"
   ]
  },
  {
   "cell_type": "code",
   "execution_count": 45,
   "metadata": {
    "collapsed": true,
    "jupyter": {
     "outputs_hidden": true
    }
   },
   "outputs": [
    {
     "data": {
      "text/plain": [
       "Ø           16\n",
       "SFX          9\n",
       "DEF          1\n",
       "KL           1\n",
       "PL+DEMON     1\n",
       "Name: modtag2, dtype: int64"
      ]
     },
     "execution_count": 45,
     "metadata": {},
     "output_type": "execute_result"
    }
   ],
   "source": [
    "antdf[antdf.front.str.startswith('ל+פנה')].modtag2.value_counts()"
   ]
  },
  {
   "cell_type": "code",
   "execution_count": 46,
   "metadata": {
    "collapsed": true,
    "jupyter": {
     "outputs_hidden": true
    }
   },
   "outputs": [
    {
     "name": "stdout",
     "output_type": "stream",
     "text": [
      "showing 9 of 9\n"
     ]
    },
    {
     "data": {
      "text/html": [
       "<style  type=\"text/css\" >\n",
       "#T_c7272_row0_col1,#T_c7272_row1_col1,#T_c7272_row2_col1,#T_c7272_row3_col1,#T_c7272_row4_col1,#T_c7272_row5_col1,#T_c7272_row6_col1,#T_c7272_row7_col1,#T_c7272_row8_col1{\n",
       "            font-size: 20px;\n",
       "             font-family:  Times New Roman;\n",
       "             text-align:  right;\n",
       "             max-width:  500px;\n",
       "        }</style><table id=\"T_c7272_\" ><thead>    <tr>        <th class=\"blank level0\" ></th>        <th class=\"col_heading level0 col0\" >verse</th>        <th class=\"col_heading level0 col1\" >clause</th>    </tr>    <tr>        <th class=\"index_name level0\" >node</th>        <th class=\"blank\" ></th>        <th class=\"blank\" ></th>    </tr></thead><tbody>\n",
       "                <tr>\n",
       "                        <th id=\"T_c7272_level0_row0\" class=\"row_heading level0 row0\" >430247</th>\n",
       "                        <td id=\"T_c7272_row0_col0\" class=\"data row0 col0\" >Genesis 27:7</td>\n",
       "                        <td id=\"T_c7272_row0_col1\" class=\"data row0 col1\" >וַאֲבָרֶכְכָ֛ה לִפְנֵ֥י יְהוָ֖ה לִפְנֵ֥י מֹותִֽי׃ </td>\n",
       "            </tr>\n",
       "            <tr>\n",
       "                        <th id=\"T_c7272_level0_row1\" class=\"row_heading level0 row1\" >430258</th>\n",
       "                        <td id=\"T_c7272_row1_col0\" class=\"data row1 col0\" >Genesis 27:10</td>\n",
       "                        <td id=\"T_c7272_row1_col1\" class=\"data row1 col1\" >בַּעֲבֻ֛ר אֲשֶׁ֥ר יְבָרֶכְךָ֖ לִפְנֵ֥י מֹותֹֽו׃ </td>\n",
       "            </tr>\n",
       "            <tr>\n",
       "                        <th id=\"T_c7272_level0_row2\" class=\"row_heading level0 row2\" >430797</th>\n",
       "                        <td id=\"T_c7272_row2_col0\" class=\"data row2 col0\" >Genesis 30:30</td>\n",
       "                        <td id=\"T_c7272_row2_col1\" class=\"data row2 col1\" >אֲשֶׁר־הָיָ֨ה לְךָ֤ לְפָנַי֙ </td>\n",
       "            </tr>\n",
       "            <tr>\n",
       "                        <th id=\"T_c7272_level0_row3\" class=\"row_heading level0 row3\" >433499</th>\n",
       "                        <td id=\"T_c7272_row3_col0\" class=\"data row3 col0\" >Genesis 50:16</td>\n",
       "                        <td id=\"T_c7272_row3_col1\" class=\"data row3 col1\" >אָבִ֣יךָ צִוָּ֔ה לִפְנֵ֥י מֹותֹ֖ו </td>\n",
       "            </tr>\n",
       "            <tr>\n",
       "                        <th id=\"T_c7272_level0_row4\" class=\"row_heading level0 row4\" >434635</th>\n",
       "                        <td id=\"T_c7272_row4_col0\" class=\"data row4 col0\" >Exodus 10:14</td>\n",
       "                        <td id=\"T_c7272_row4_col1\" class=\"data row4 col1\" >לְ֠פָנָיו לֹא־הָ֨יָה כֵ֤ן אַרְבֶּה֙ כָּמֹ֔הוּ </td>\n",
       "            </tr>\n",
       "            <tr>\n",
       "                        <th id=\"T_c7272_level0_row5\" class=\"row_heading level0 row5\" >461659</th>\n",
       "                        <td id=\"T_c7272_row5_col0\" class=\"data row5 col0\" >1_Kings 3:12</td>\n",
       "                        <td id=\"T_c7272_row5_col1\" class=\"data row5 col1\" >אֲשֶׁ֤ר כָּמֹ֨וךָ֙ לֹא־הָיָ֣ה לְפָנֶ֔יךָ </td>\n",
       "            </tr>\n",
       "            <tr>\n",
       "                        <th id=\"T_c7272_level0_row6\" class=\"row_heading level0 row6\" >467924</th>\n",
       "                        <td id=\"T_c7272_row6_col0\" class=\"data row6 col0\" >2_Kings 23:25</td>\n",
       "                        <td id=\"T_c7272_row6_col1\" class=\"data row6 col1\" >וְכָמֹהוּ֩ לֹֽא־הָיָ֨ה לְפָנָ֜יו מֶ֗לֶךְ </td>\n",
       "            </tr>\n",
       "            <tr>\n",
       "                        <th id=\"T_c7272_level0_row7\" class=\"row_heading level0 row7\" >504486</th>\n",
       "                        <td id=\"T_c7272_row7_col0\" class=\"data row7 col0\" >Ecclesiastes 9:1</td>\n",
       "                        <td id=\"T_c7272_row7_col1\" class=\"data row7 col1\" >אֵ֤ין יֹודֵ֨עַ֙ הָֽאָדָ֔ם הַכֹּ֖ל לִפְנֵיהֶֽם׃ </td>\n",
       "            </tr>\n",
       "            <tr>\n",
       "                        <th id=\"T_c7272_level0_row8\" class=\"row_heading level0 row8\" >511707</th>\n",
       "                        <td id=\"T_c7272_row8_col0\" class=\"data row8 col0\" >1_Chronicles 22:5</td>\n",
       "                        <td id=\"T_c7272_row8_col1\" class=\"data row8 col1\" >וַיָּ֧כֶן דָּוִ֛יד לָרֹ֖ב לִפְנֵ֥י מֹותֹֽו׃ </td>\n",
       "            </tr>\n",
       "    </tbody></table>"
      ],
      "text/plain": [
       "<pandas.io.formats.style.Styler at 0x7f917c6474f0>"
      ]
     },
     "execution_count": 46,
     "metadata": {},
     "output_type": "execute_result"
    }
   ],
   "source": [
    "ts.show(\n",
    "    antdf[\n",
    "        (antdf.front.str.startswith('ל+פנה'))\n",
    "        & (antdf.modtag2 == 'SFX')\n",
    "    ]\n",
    ")"
   ]
  },
  {
   "cell_type": "code",
   "execution_count": 47,
   "metadata": {
    "collapsed": true,
    "jupyter": {
     "outputs_hidden": true
    }
   },
   "outputs": [
    {
     "name": "stdout",
     "output_type": "stream",
     "text": [
      "showing 16 of 16\n"
     ]
    },
    {
     "data": {
      "text/html": [
       "<style  type=\"text/css\" >\n",
       "#T_bdcd4_row0_col1,#T_bdcd4_row1_col1,#T_bdcd4_row2_col1,#T_bdcd4_row3_col1,#T_bdcd4_row4_col1,#T_bdcd4_row5_col1,#T_bdcd4_row6_col1,#T_bdcd4_row7_col1,#T_bdcd4_row8_col1,#T_bdcd4_row9_col1,#T_bdcd4_row10_col1,#T_bdcd4_row11_col1,#T_bdcd4_row12_col1,#T_bdcd4_row13_col1,#T_bdcd4_row14_col1,#T_bdcd4_row15_col1{\n",
       "            font-size: 20px;\n",
       "             font-family:  Times New Roman;\n",
       "             text-align:  right;\n",
       "             max-width:  500px;\n",
       "        }</style><table id=\"T_bdcd4_\" ><thead>    <tr>        <th class=\"blank level0\" ></th>        <th class=\"col_heading level0 col0\" >verse</th>        <th class=\"col_heading level0 col1\" >clause</th>    </tr>    <tr>        <th class=\"index_name level0\" >node</th>        <th class=\"blank\" ></th>        <th class=\"blank\" ></th>    </tr></thead><tbody>\n",
       "                <tr>\n",
       "                        <th id=\"T_bdcd4_level0_row0\" class=\"row_heading level0 row0\" >445097</th>\n",
       "                        <td id=\"T_bdcd4_row0_col0\" class=\"data row0 col0\" >Deuteronomy 2:10</td>\n",
       "                        <td id=\"T_bdcd4_row0_col1\" class=\"data row0 col1\" >הָאֵמִ֥ים לְפָנִ֖ים יָ֣שְׁבוּ בָ֑הּ עַ֣ם גָּדֹ֥ול וְרַ֛ב וָרָ֖ם כָּעֲנָקִֽים׃ </td>\n",
       "            </tr>\n",
       "            <tr>\n",
       "                        <th id=\"T_bdcd4_level0_row1\" class=\"row_heading level0 row1\" >445100</th>\n",
       "                        <td id=\"T_bdcd4_row1_col0\" class=\"data row1 col0\" >Deuteronomy 2:12</td>\n",
       "                        <td id=\"T_bdcd4_row1_col1\" class=\"data row1 col1\" >וּבְשֵׂעִ֞יר יָשְׁב֣וּ הַחֹרִים֮ לְפָנִים֒ </td>\n",
       "            </tr>\n",
       "            <tr>\n",
       "                        <th id=\"T_bdcd4_level0_row2\" class=\"row_heading level0 row2\" >445130</th>\n",
       "                        <td id=\"T_bdcd4_row2_col0\" class=\"data row2 col0\" >Deuteronomy 2:20</td>\n",
       "                        <td id=\"T_bdcd4_row2_col1\" class=\"data row2 col1\" >רְפָאִ֤ים יָֽשְׁבוּ־בָהּ֙ לְפָנִ֔ים </td>\n",
       "            </tr>\n",
       "            <tr>\n",
       "                        <th id=\"T_bdcd4_level0_row3\" class=\"row_heading level0 row3\" >449937</th>\n",
       "                        <td id=\"T_bdcd4_row3_col0\" class=\"data row3 col0\" >Joshua 11:10</td>\n",
       "                        <td id=\"T_bdcd4_row3_col1\" class=\"data row3 col1\" >לְפָנִ֔ים הִ֕יא רֹ֖אשׁ כָּל־הַמַּמְלָכֹ֥ות הָאֵֽלֶּה׃ </td>\n",
       "            </tr>\n",
       "            <tr>\n",
       "                        <th id=\"T_bdcd4_level0_row4\" class=\"row_heading level0 row4\" >450174</th>\n",
       "                        <td id=\"T_bdcd4_row4_col0\" class=\"data row4 col0\" >Joshua 14:15</td>\n",
       "                        <td id=\"T_bdcd4_row4_col1\" class=\"data row4 col1\" >וְשֵׁ֨ם חֶבְרֹ֤ון לְפָנִים֙ קִרְיַ֣ת אַרְבַּ֔ע </td>\n",
       "            </tr>\n",
       "            <tr>\n",
       "                        <th id=\"T_bdcd4_level0_row5\" class=\"row_heading level0 row5\" >450227</th>\n",
       "                        <td id=\"T_bdcd4_row5_col0\" class=\"data row5 col0\" >Joshua 15:15</td>\n",
       "                        <td id=\"T_bdcd4_row5_col1\" class=\"data row5 col1\" >וְשֵׁם־דְּבִ֥ר לְפָנִ֖ים קִרְיַת־סֵֽפֶר׃ </td>\n",
       "            </tr>\n",
       "            <tr>\n",
       "                        <th id=\"T_bdcd4_level0_row6\" class=\"row_heading level0 row6\" >451135</th>\n",
       "                        <td id=\"T_bdcd4_row6_col0\" class=\"data row6 col0\" >Judges 1:10</td>\n",
       "                        <td id=\"T_bdcd4_row6_col1\" class=\"data row6 col1\" >וְשֵׁם־חֶבְרֹ֥ון לְפָנִ֖ים קִרְיַ֣ת אַרְבַּ֑ע </td>\n",
       "            </tr>\n",
       "            <tr>\n",
       "                        <th id=\"T_bdcd4_level0_row7\" class=\"row_heading level0 row7\" >451138</th>\n",
       "                        <td id=\"T_bdcd4_row7_col0\" class=\"data row7 col0\" >Judges 1:11</td>\n",
       "                        <td id=\"T_bdcd4_row7_col1\" class=\"data row7 col1\" >וְשֵׁם־דְּבִ֥יר לְפָנִ֖ים קִרְיַת־סֵֽפֶר׃ </td>\n",
       "            </tr>\n",
       "            <tr>\n",
       "                        <th id=\"T_bdcd4_level0_row8\" class=\"row_heading level0 row8\" >451182</th>\n",
       "                        <td id=\"T_bdcd4_row8_col0\" class=\"data row8 col0\" >Judges 1:23</td>\n",
       "                        <td id=\"T_bdcd4_row8_col1\" class=\"data row8 col1\" >וְשֵׁם־הָעִ֥יר לְפָנִ֖ים לֽוּז׃ </td>\n",
       "            </tr>\n",
       "            <tr>\n",
       "                        <th id=\"T_bdcd4_level0_row9\" class=\"row_heading level0 row9\" >454822</th>\n",
       "                        <td id=\"T_bdcd4_row9_col0\" class=\"data row9 col0\" >1_Samuel 9:9</td>\n",
       "                        <td id=\"T_bdcd4_row9_col1\" class=\"data row9 col1\" >לְפָנִ֣ים׀ בְּיִשְׂרָאֵ֗ל כֹּֽה־אָמַ֤ר הָאִישׁ֙ </td>\n",
       "            </tr>\n",
       "            <tr>\n",
       "                        <th id=\"T_bdcd4_level0_row10\" class=\"row_heading level0 row10\" >495250</th>\n",
       "                        <td id=\"T_bdcd4_row10_col0\" class=\"data row10 col0\" >Psalms 102:26</td>\n",
       "                        <td id=\"T_bdcd4_row10_col1\" class=\"data row10 col1\" >לְ֭פָנִים הָאָ֣רֶץ יָסַ֑דְתָּ </td>\n",
       "            </tr>\n",
       "            <tr>\n",
       "                        <th id=\"T_bdcd4_level0_row11\" class=\"row_heading level0 row11\" >498056</th>\n",
       "                        <td id=\"T_bdcd4_row11_col0\" class=\"data row11 col0\" >Job 8:16</td>\n",
       "                        <td id=\"T_bdcd4_row11_col1\" class=\"data row11 col1\" >רָטֹ֣ב ה֖וּא לִפְנֵי־שָׁ֑מֶשׁ </td>\n",
       "            </tr>\n",
       "            <tr>\n",
       "                        <th id=\"T_bdcd4_level0_row12\" class=\"row_heading level0 row12\" >503225</th>\n",
       "                        <td id=\"T_bdcd4_row12_col0\" class=\"data row12 col0\" >Ruth 4:7</td>\n",
       "                        <td id=\"T_bdcd4_row12_col1\" class=\"data row12 col1\" >וְזֹאת֩ לְפָנִ֨ים בְּיִשְׂרָאֵ֜ל עַל־הַגְּאוּלָּ֤ה וְעַל־הַתְּמוּרָה֙ </td>\n",
       "            </tr>\n",
       "            <tr>\n",
       "                        <th id=\"T_bdcd4_level0_row13\" class=\"row_heading level0 row13\" >509727</th>\n",
       "                        <td id=\"T_bdcd4_row13_col0\" class=\"data row13 col0\" >Nehemiah 13:4</td>\n",
       "                        <td id=\"T_bdcd4_row13_col1\" class=\"data row13 col1\" >וְלִפְנֵ֣י מִזֶּ֔ה אֶלְיָשִׁיב֙ הַכֹּהֵ֔ן </td>\n",
       "            </tr>\n",
       "            <tr>\n",
       "                        <th id=\"T_bdcd4_level0_row14\" class=\"row_heading level0 row14\" >509731</th>\n",
       "                        <td id=\"T_bdcd4_row14_col0\" class=\"data row14 col0\" >Nehemiah 13:5</td>\n",
       "                        <td id=\"T_bdcd4_row14_col1\" class=\"data row14 col1\" >וְשָׁ֣ם הָי֪וּ לְפָנִ֟ים נֹ֠תְנִים אֶת־הַמִּנְחָ֨ה הַלְּבֹונָ֜ה וְהַכֵּלִ֗ים וּמַעְשַׂ֤ר הַדָּגָן֙ הַתִּירֹ֣ושׁ וְהַיִּצְהָ֔ר </td>\n",
       "            </tr>\n",
       "            <tr>\n",
       "                        <th id=\"T_bdcd4_level0_row15\" class=\"row_heading level0 row15\" >513086</th>\n",
       "                        <td id=\"T_bdcd4_row15_col0\" class=\"data row15 col0\" >2_Chronicles 9:11</td>\n",
       "                        <td id=\"T_bdcd4_row15_col1\" class=\"data row15 col1\" >וְלֹא־נִרְא֥וּ כָהֵ֛ם לְפָנִ֖ים בְּאֶ֥רֶץ יְהוּדָֽה׃ </td>\n",
       "            </tr>\n",
       "    </tbody></table>"
      ],
      "text/plain": [
       "<pandas.io.formats.style.Styler at 0x7f917c647d00>"
      ]
     },
     "execution_count": 47,
     "metadata": {},
     "output_type": "execute_result"
    }
   ],
   "source": [
    "ts.show(\n",
    "    antdf[\n",
    "        (antdf.front.str.startswith('ל+פנה'))\n",
    "        & (antdf.modtag2 == 'Ø')\n",
    "    ]\n",
    ")"
   ]
  },
  {
   "cell_type": "code",
   "execution_count": 48,
   "metadata": {
    "collapsed": true,
    "jupyter": {
     "outputs_hidden": true
    }
   },
   "outputs": [
    {
     "name": "stdout",
     "output_type": "stream",
     "text": [
      "showing 1 of 1\n"
     ]
    },
    {
     "data": {
      "text/html": [
       "<style  type=\"text/css\" >\n",
       "#T_66eac_row0_col1{\n",
       "            font-size: 20px;\n",
       "             font-family:  Times New Roman;\n",
       "             text-align:  right;\n",
       "             max-width:  500px;\n",
       "        }</style><table id=\"T_66eac_\" ><thead>    <tr>        <th class=\"blank level0\" ></th>        <th class=\"col_heading level0 col0\" >verse</th>        <th class=\"col_heading level0 col1\" >clause</th>    </tr>    <tr>        <th class=\"index_name level0\" >node</th>        <th class=\"blank\" ></th>        <th class=\"blank\" ></th>    </tr></thead><tbody>\n",
       "                <tr>\n",
       "                        <th id=\"T_66eac_level0_row0\" class=\"row_heading level0 row0\" >498047</th>\n",
       "                        <td id=\"T_66eac_row0_col0\" class=\"data row0 col0\" >Job 8:12</td>\n",
       "                        <td id=\"T_66eac_row0_col1\" class=\"data row0 col1\" >וְלִפְנֵ֖י כָל־חָצִ֣יר יִיבָֽשׁ׃ </td>\n",
       "            </tr>\n",
       "    </tbody></table>"
      ],
      "text/plain": [
       "<pandas.io.formats.style.Styler at 0x7f917c647070>"
      ]
     },
     "execution_count": 48,
     "metadata": {},
     "output_type": "execute_result"
    }
   ],
   "source": [
    "ts.show(\n",
    "    antdf[\n",
    "        (antdf.front.str.startswith('ל+פנה'))\n",
    "        & (antdf.modtag2 == 'KL')\n",
    "    ]\n",
    ")"
   ]
  },
  {
   "cell_type": "code",
   "execution_count": 49,
   "metadata": {
    "collapsed": true,
    "jupyter": {
     "outputs_hidden": true
    }
   },
   "outputs": [
    {
     "name": "stdout",
     "output_type": "stream",
     "text": [
      "showing 1 of 1\n"
     ]
    },
    {
     "data": {
      "text/html": [
       "<style  type=\"text/css\" >\n",
       "#T_46163_row0_col1{\n",
       "            font-size: 20px;\n",
       "             font-family:  Times New Roman;\n",
       "             text-align:  right;\n",
       "             max-width:  500px;\n",
       "        }</style><table id=\"T_46163_\" ><thead>    <tr>        <th class=\"blank level0\" ></th>        <th class=\"col_heading level0 col0\" >verse</th>        <th class=\"col_heading level0 col1\" >clause</th>    </tr>    <tr>        <th class=\"index_name level0\" >node</th>        <th class=\"blank\" ></th>        <th class=\"blank\" ></th>    </tr></thead><tbody>\n",
       "                <tr>\n",
       "                        <th id=\"T_46163_level0_row0\" class=\"row_heading level0 row0\" >489450</th>\n",
       "                        <td id=\"T_46163_row0_col0\" class=\"data row0 col0\" >Zechariah 8:10</td>\n",
       "                        <td id=\"T_46163_row0_col1\" class=\"data row0 col1\" >כִּ֗י לִפְנֵי֙ הַיָּמִ֣ים הָהֵ֔ם שְׂכַ֤ר הָֽאָדָם֙ לֹ֣א נִֽהְיָ֔ה </td>\n",
       "            </tr>\n",
       "    </tbody></table>"
      ],
      "text/plain": [
       "<pandas.io.formats.style.Styler at 0x7f917c647cd0>"
      ]
     },
     "execution_count": 49,
     "metadata": {},
     "output_type": "execute_result"
    }
   ],
   "source": [
    "ts.show(\n",
    "    antdf[\n",
    "        (antdf.front.str.startswith('ל+פנה'))\n",
    "        & (antdf.modtag2 == 'PL+DEMON')\n",
    "    ]\n",
    ")"
   ]
  },
  {
   "cell_type": "code",
   "execution_count": 50,
   "metadata": {
    "collapsed": true,
    "jupyter": {
     "outputs_hidden": true
    }
   },
   "outputs": [
    {
     "name": "stdout",
     "output_type": "stream",
     "text": [
      "showing 1 of 1\n"
     ]
    },
    {
     "data": {
      "text/html": [
       "<style  type=\"text/css\" >\n",
       "#T_538ed_row0_col1{\n",
       "            font-size: 20px;\n",
       "             font-family:  Times New Roman;\n",
       "             text-align:  right;\n",
       "             max-width:  500px;\n",
       "        }</style><table id=\"T_538ed_\" ><thead>    <tr>        <th class=\"blank level0\" ></th>        <th class=\"col_heading level0 col0\" >verse</th>        <th class=\"col_heading level0 col1\" >clause</th>    </tr>    <tr>        <th class=\"index_name level0\" >node</th>        <th class=\"blank\" ></th>        <th class=\"blank\" ></th>    </tr></thead><tbody>\n",
       "                <tr>\n",
       "                        <th id=\"T_538ed_level0_row0\" class=\"row_heading level0 row0\" >509787</th>\n",
       "                        <td id=\"T_538ed_row0_col0\" class=\"data row0 col0\" >Nehemiah 13:19</td>\n",
       "                        <td id=\"T_538ed_row0_col1\" class=\"data row0 col1\" >כַּאֲשֶׁ֣ר צָֽלֲלוּ֩ שַׁעֲרֵ֨י יְרוּשָׁלִַ֜ם לִפְנֵ֣י הַשַּׁבָּ֗ת </td>\n",
       "            </tr>\n",
       "    </tbody></table>"
      ],
      "text/plain": [
       "<pandas.io.formats.style.Styler at 0x7f917c64f790>"
      ]
     },
     "execution_count": 50,
     "metadata": {},
     "output_type": "execute_result"
    }
   ],
   "source": [
    "ts.show(\n",
    "    antdf[\n",
    "        (antdf.front.str.startswith('ל+פנה'))\n",
    "        & (antdf.modtag2 == 'DEF')\n",
    "    ]\n",
    ")"
   ]
  },
  {
   "cell_type": "markdown",
   "metadata": {},
   "source": [
    "### Posterior"
   ]
  },
  {
   "cell_type": "code",
   "execution_count": 51,
   "metadata": {
    "collapsed": true,
    "jupyter": {
     "outputs_hidden": true
    }
   },
   "outputs": [],
   "source": [
    "postdf = funct2data['posterior']['df']"
   ]
  },
  {
   "cell_type": "code",
   "execution_count": 52,
   "metadata": {
    "collapsed": true,
    "jupyter": {
     "outputs_hidden": true
    }
   },
   "outputs": [
    {
     "data": {
      "text/plain": [
       "Ø           111\n",
       "SFX          40\n",
       "C            15\n",
       "NUM+PL       15\n",
       "PL+DEMON     12\n",
       "NUM           9\n",
       "PL            5\n",
       "DEF           4\n",
       "PL+QUANT      3\n",
       "KL            2\n",
       "PL+C          1\n",
       "QUANT+PL      1\n",
       "KL+SFX        1\n",
       "PL+SFX        1\n",
       "DEMON         1\n",
       "Name: modtag2, dtype: int64"
      ]
     },
     "execution_count": 52,
     "metadata": {},
     "output_type": "execute_result"
    }
   ],
   "source": [
    "postmod_ct = postdf.modtag2.value_counts()\n",
    "\n",
    "postmod_ct"
   ]
  },
  {
   "cell_type": "code",
   "execution_count": 53,
   "metadata": {
    "collapsed": true,
    "jupyter": {
     "outputs_hidden": true
    }
   },
   "outputs": [
    {
     "name": "stdout",
     "output_type": "stream",
     "text": [
      "showing 25 of 33\n"
     ]
    },
    {
     "data": {
      "text/html": [
       "<style  type=\"text/css\" >\n",
       "#T_c0aca_row0_col1,#T_c0aca_row1_col1,#T_c0aca_row2_col1,#T_c0aca_row3_col1,#T_c0aca_row4_col1,#T_c0aca_row5_col1,#T_c0aca_row6_col1,#T_c0aca_row7_col1,#T_c0aca_row8_col1,#T_c0aca_row9_col1,#T_c0aca_row10_col1,#T_c0aca_row11_col1,#T_c0aca_row12_col1,#T_c0aca_row13_col1,#T_c0aca_row14_col1,#T_c0aca_row15_col1,#T_c0aca_row16_col1,#T_c0aca_row17_col1,#T_c0aca_row18_col1,#T_c0aca_row19_col1,#T_c0aca_row20_col1,#T_c0aca_row21_col1,#T_c0aca_row22_col1,#T_c0aca_row23_col1,#T_c0aca_row24_col1{\n",
       "            font-size: 20px;\n",
       "             font-family:  Times New Roman;\n",
       "             text-align:  right;\n",
       "             max-width:  500px;\n",
       "        }</style><table id=\"T_c0aca_\" ><thead>    <tr>        <th class=\"blank level0\" ></th>        <th class=\"col_heading level0 col0\" >verse</th>        <th class=\"col_heading level0 col1\" >clause</th>    </tr>    <tr>        <th class=\"index_name level0\" >node</th>        <th class=\"blank\" ></th>        <th class=\"blank\" ></th>    </tr></thead><tbody>\n",
       "                <tr>\n",
       "                        <th id=\"T_c0aca_level0_row0\" class=\"row_heading level0 row0\" >432150</th>\n",
       "                        <td id=\"T_c0aca_row0_col0\" class=\"data row0 col0\" >Genesis 41:3</td>\n",
       "                        <td id=\"T_c0aca_row0_col1\" class=\"data row0 col1\" >וְהִנֵּ֞ה שֶׁ֧בַע פָּרֹ֣ות אֲחֵרֹ֗ות עֹלֹ֤ות אַחֲרֵיהֶן֙ מִן־הַיְאֹ֔ר רָעֹ֥ות מַרְאֶ֖ה וְדַקֹּ֣ות בָּשָׂ֑ר </td>\n",
       "            </tr>\n",
       "            <tr>\n",
       "                        <th id=\"T_c0aca_level0_row1\" class=\"row_heading level0 row1\" >433230</th>\n",
       "                        <td id=\"T_c0aca_row1_col0\" class=\"data row1 col0\" >Genesis 48:6</td>\n",
       "                        <td id=\"T_c0aca_row1_col1\" class=\"data row1 col1\" >אֲשֶׁר־הֹולַ֥דְתָּ אַחֲרֵיהֶ֖ם </td>\n",
       "            </tr>\n",
       "            <tr>\n",
       "                        <th id=\"T_c0aca_level0_row2\" class=\"row_heading level0 row2\" >434636</th>\n",
       "                        <td id=\"T_c0aca_row2_col0\" class=\"data row2 col0\" >Exodus 10:14</td>\n",
       "                        <td id=\"T_c0aca_row2_col1\" class=\"data row2 col1\" >וְאַחֲרָ֖יו לֹ֥א יִֽהְיֶה־כֵּֽן׃ </td>\n",
       "            </tr>\n",
       "            <tr>\n",
       "                        <th id=\"T_c0aca_level0_row3\" class=\"row_heading level0 row3\" >452422</th>\n",
       "                        <td id=\"T_c0aca_row3_col0\" class=\"data row3 col0\" >Judges 10:3</td>\n",
       "                        <td id=\"T_c0aca_row3_col1\" class=\"data row3 col1\" >וַיָּ֣קָם אַחֲרָ֔יו יָאִ֖יר הַגִּלְעָדִ֑י </td>\n",
       "            </tr>\n",
       "            <tr>\n",
       "                        <th id=\"T_c0aca_level0_row4\" class=\"row_heading level0 row4\" >452709</th>\n",
       "                        <td id=\"T_c0aca_row4_col0\" class=\"data row4 col0\" >Judges 12:11</td>\n",
       "                        <td id=\"T_c0aca_row4_col1\" class=\"data row4 col1\" >וַיִּשְׁפֹּ֤ט אַֽחֲרָיו֙ אֶת־יִשְׂרָאֵ֔ל אֵילֹ֖ון הַזְּבֽוּלֹנִ֑י </td>\n",
       "            </tr>\n",
       "            <tr>\n",
       "                        <th id=\"T_c0aca_level0_row5\" class=\"row_heading level0 row5\" >452713</th>\n",
       "                        <td id=\"T_c0aca_row5_col0\" class=\"data row5 col0\" >Judges 12:13</td>\n",
       "                        <td id=\"T_c0aca_row5_col1\" class=\"data row5 col1\" >וַיִּשְׁפֹּ֥ט אַחֲרָ֖יו אֶת־יִשְׂרָאֵ֑ל עַבְדֹּ֥ון בֶּן־הִלֵּ֖ל הַפִּרְעָתֹונִֽי׃ </td>\n",
       "            </tr>\n",
       "            <tr>\n",
       "                        <th id=\"T_c0aca_level0_row6\" class=\"row_heading level0 row6\" >457117</th>\n",
       "                        <td id=\"T_c0aca_row6_col0\" class=\"data row6 col0\" >1_Samuel 24:22</td>\n",
       "                        <td id=\"T_c0aca_row6_col1\" class=\"data row6 col1\" >אִם־תַּכְרִ֥ית אֶת־זַרְעִ֖י אַֽחֲרָ֑י </td>\n",
       "            </tr>\n",
       "            <tr>\n",
       "                        <th id=\"T_c0aca_level0_row7\" class=\"row_heading level0 row7\" >467203</th>\n",
       "                        <td id=\"T_c0aca_row7_col0\" class=\"data row7 col0\" >2_Kings 18:5</td>\n",
       "                        <td id=\"T_c0aca_row7_col1\" class=\"data row7 col1\" >וְאַחֲרָ֞יו לֹא־הָיָ֣ה כָמֹ֗הוּ בְּכֹל֙ מַלְכֵ֣י יְהוּדָ֔ה </td>\n",
       "            </tr>\n",
       "            <tr>\n",
       "                        <th id=\"T_c0aca_level0_row8\" class=\"row_heading level0 row8\" >467926</th>\n",
       "                        <td id=\"T_c0aca_row8_col0\" class=\"data row8 col0\" >2_Kings 23:25</td>\n",
       "                        <td id=\"T_c0aca_row8_col1\" class=\"data row8 col1\" >וְאַחֲרָ֖יו לֹֽא־קָ֥ם כָּמֹֽהוּ׃ </td>\n",
       "            </tr>\n",
       "            <tr>\n",
       "                        <th id=\"T_c0aca_level0_row9\" class=\"row_heading level0 row9\" >498959</th>\n",
       "                        <td id=\"T_c0aca_row9_col0\" class=\"data row9 col0\" >Job 21:21</td>\n",
       "                        <td id=\"T_c0aca_row9_col1\" class=\"data row9 col1\" >כִּ֤י מַה־חֶפְצֹ֣ו בְּבֵיתֹ֣ו אַחֲרָ֑יו </td>\n",
       "            </tr>\n",
       "            <tr>\n",
       "                        <th id=\"T_c0aca_level0_row10\" class=\"row_heading level0 row10\" >508758</th>\n",
       "                        <td id=\"T_c0aca_row10_col0\" class=\"data row10 col0\" >Nehemiah 3:16</td>\n",
       "                        <td id=\"T_c0aca_row10_col1\" class=\"data row10 col1\" >אַחֲרָ֤יו הֶחֱזִיק֙ נְחֶמְיָ֣ה בֶן־עַזְבּ֔וּק שַׂ֕ר חֲצִ֖י פֶּ֣לֶךְ בֵּֽית־צ֑וּר עַד־נֶ֨גֶד֙ קִבְרֵ֣י דָוִ֔יד וְעַד־הַבְּרֵכָה֙ וְעַ֖ד בֵּ֥ית הַגִּבֹּרִֽים׃ ס </td>\n",
       "            </tr>\n",
       "            <tr>\n",
       "                        <th id=\"T_c0aca_level0_row11\" class=\"row_heading level0 row11\" >508760</th>\n",
       "                        <td id=\"T_c0aca_row11_col0\" class=\"data row11 col0\" >Nehemiah 3:17</td>\n",
       "                        <td id=\"T_c0aca_row11_col1\" class=\"data row11 col1\" >אַחֲרָ֛יו הֶחֱזִ֥יקוּ הַלְוִיִּ֖ם רְח֣וּם בֶּן־בָּנִ֑י </td>\n",
       "            </tr>\n",
       "            <tr>\n",
       "                        <th id=\"T_c0aca_level0_row12\" class=\"row_heading level0 row12\" >508762</th>\n",
       "                        <td id=\"T_c0aca_row12_col0\" class=\"data row12 col0\" >Nehemiah 3:18</td>\n",
       "                        <td id=\"T_c0aca_row12_col1\" class=\"data row12 col1\" >אַחֲרָיו֙ הֶחֱזִ֣יקוּ אֲחֵיהֶ֔ם בַּוַּ֖י בֶּן־חֵנָדָ֑ד שַׂ֕ר חֲצִ֖י פֶּ֥לֶךְ קְעִילָֽה׃ ס </td>\n",
       "            </tr>\n",
       "            <tr>\n",
       "                        <th id=\"T_c0aca_level0_row13\" class=\"row_heading level0 row13\" >508767</th>\n",
       "                        <td id=\"T_c0aca_row13_col0\" class=\"data row13 col0\" >Nehemiah 3:21</td>\n",
       "                        <td id=\"T_c0aca_row13_col1\" class=\"data row13 col1\" >אַחֲרָ֣יו הֶחֱזִ֗יק מְרֵמֹ֧ות בֶּן־אוּרִיָּ֛ה בֶּן־הַקֹּ֖וץ מִדָּ֣ה שֵׁנִ֑ית מִפֶּ֨תַח֙ בֵּ֣ית אֶלְיָשִׁ֔יב וְעַד־תַּכְלִ֖ית בֵּ֥ית אֶלְיָשִֽׁיב׃ ס </td>\n",
       "            </tr>\n",
       "            <tr>\n",
       "                        <th id=\"T_c0aca_level0_row14\" class=\"row_heading level0 row14\" >508768</th>\n",
       "                        <td id=\"T_c0aca_row14_col0\" class=\"data row14 col0\" >Nehemiah 3:22</td>\n",
       "                        <td id=\"T_c0aca_row14_col1\" class=\"data row14 col1\" >וְאַחֲרָ֛יו הֶחֱזִ֥יקוּ הַכֹּהֲנִ֖ים אַנְשֵׁ֥י הַכִּכָּֽר׃ </td>\n",
       "            </tr>\n",
       "            <tr>\n",
       "                        <th id=\"T_c0aca_level0_row15\" class=\"row_heading level0 row15\" >508769</th>\n",
       "                        <td id=\"T_c0aca_row15_col0\" class=\"data row15 col0\" >Nehemiah 3:23</td>\n",
       "                        <td id=\"T_c0aca_row15_col1\" class=\"data row15 col1\" >אַחֲרָ֨יו הֶחֱזִ֧יק בִּנְיָמִ֛ן וְחַשּׁ֖וּב נֶ֣גֶד בֵּיתָ֑ם ס </td>\n",
       "            </tr>\n",
       "            <tr>\n",
       "                        <th id=\"T_c0aca_level0_row16\" class=\"row_heading level0 row16\" >508771</th>\n",
       "                        <td id=\"T_c0aca_row16_col0\" class=\"data row16 col0\" >Nehemiah 3:24</td>\n",
       "                        <td id=\"T_c0aca_row16_col1\" class=\"data row16 col1\" >אַחֲרָ֣יו הֶחֱזִ֗יק בִּנּ֛וּי בֶּן־חֵנָדָ֖ד מִדָּ֣ה שֵׁנִ֑ית מִבֵּ֣ית עֲזַרְיָ֔ה עַד־הַמִּקְצֹ֖ועַ וְעַד־הַפִּנָּֽה׃ </td>\n",
       "            </tr>\n",
       "            <tr>\n",
       "                        <th id=\"T_c0aca_level0_row17\" class=\"row_heading level0 row17\" >508775</th>\n",
       "                        <td id=\"T_c0aca_row17_col0\" class=\"data row17 col0\" >Nehemiah 3:25</td>\n",
       "                        <td id=\"T_c0aca_row17_col1\" class=\"data row17 col1\" >אַחֲרָ֖יו פְּדָיָ֥ה בֶן־פַּרְעֹֽשׁ׃ ס עַ֠ד נֶ֜גֶד שַׁ֤עַר הַמַּ֨יִם֙ לַמִּזְרָ֔ח וְהַמִּגְדָּ֖ל </td>\n",
       "            </tr>\n",
       "            <tr>\n",
       "                        <th id=\"T_c0aca_level0_row18\" class=\"row_heading level0 row18\" >508778</th>\n",
       "                        <td id=\"T_c0aca_row18_col0\" class=\"data row18 col0\" >Nehemiah 3:27</td>\n",
       "                        <td id=\"T_c0aca_row18_col1\" class=\"data row18 col1\" >אַחֲרָ֛יו הֶחֱזִ֥יקוּ הַתְּקֹעִ֖ים מִדָּ֣ה שֵׁנִ֑ית מִנֶּ֜גֶד הַמִּגְדָּ֤ל הַגָּדֹול֙ וְעַ֖ד חֹומַ֥ת הָעֹֽפֶל׃ </td>\n",
       "            </tr>\n",
       "            <tr>\n",
       "                        <th id=\"T_c0aca_level0_row19\" class=\"row_heading level0 row19\" >508783</th>\n",
       "                        <td id=\"T_c0aca_row19_col0\" class=\"data row19 col0\" >Nehemiah 3:29</td>\n",
       "                        <td id=\"T_c0aca_row19_col1\" class=\"data row19 col1\" >וְאַחֲרָ֤יו הֶחֱזִיק֙ שְׁמַֽעְיָ֣ה בֶן־שְׁכַנְיָ֔ה שֹׁמֵ֖ר שַׁ֥עַר הַמִּזְרָֽח׃ ס </td>\n",
       "            </tr>\n",
       "            <tr>\n",
       "                        <th id=\"T_c0aca_level0_row20\" class=\"row_heading level0 row20\" >508784</th>\n",
       "                        <td id=\"T_c0aca_row20_col0\" class=\"data row20 col0\" >Nehemiah 3:30</td>\n",
       "                        <td id=\"T_c0aca_row20_col1\" class=\"data row20 col1\" >אַחֲרָ֨יו הֶחֱזִ֜יק חֲנַנְיָ֣ה בֶן־שֶׁלֶמְיָ֗ה וְחָנ֧וּן בֶּן־צָלָ֛ף הַשִּׁשִּׁ֖י מִדָּ֣ה שֵׁנִ֑י ס </td>\n",
       "            </tr>\n",
       "            <tr>\n",
       "                        <th id=\"T_c0aca_level0_row21\" class=\"row_heading level0 row21\" >508785</th>\n",
       "                        <td id=\"T_c0aca_row21_col0\" class=\"data row21 col0\" >Nehemiah 3:30</td>\n",
       "                        <td id=\"T_c0aca_row21_col1\" class=\"data row21 col1\" >אַחֲרָ֣יו הֶחֱזִ֗יק מְשֻׁלָּם֙ בֶּן־בֶּ֣רֶכְיָ֔ה נֶ֖גֶד נִשְׁכָּתֹֽו׃ ס </td>\n",
       "            </tr>\n",
       "            <tr>\n",
       "                        <th id=\"T_c0aca_level0_row22\" class=\"row_heading level0 row22\" >512403</th>\n",
       "                        <td id=\"T_c0aca_row22_col0\" class=\"data row22 col0\" >2_Chronicles 1:12</td>\n",
       "                        <td id=\"T_c0aca_row22_col1\" class=\"data row22 col1\" >וְאַחֲרֶ֖יךָ לֹ֥א יִֽהְיֶה־כֵּֽן׃ </td>\n",
       "            </tr>\n",
       "            <tr>\n",
       "                        <th id=\"T_c0aca_level0_row23\" class=\"row_heading level0 row23\" >513278</th>\n",
       "                        <td id=\"T_c0aca_row23_col0\" class=\"data row23 col0\" >2_Chronicles 11:16</td>\n",
       "                        <td id=\"T_c0aca_row23_col1\" class=\"data row23 col1\" >וְאַחֲרֵיהֶ֗ם מִכֹּל֙ שִׁבְטֵ֣י יִשְׂרָאֵ֔ל בָּ֚אוּ יְר֣וּשָׁלִַ֔ם </td>\n",
       "            </tr>\n",
       "            <tr>\n",
       "                        <th id=\"T_c0aca_level0_row24\" class=\"row_heading level0 row24\" >513287</th>\n",
       "                        <td id=\"T_c0aca_row24_col0\" class=\"data row24 col0\" >2_Chronicles 11:20</td>\n",
       "                        <td id=\"T_c0aca_row24_col1\" class=\"data row24 col1\" >וְאַחֲרֶ֣יהָ לָקַ֔ח אֶֽת־מַעֲכָ֖ה בַּת־אַבְשָׁלֹ֑ום </td>\n",
       "            </tr>\n",
       "    </tbody></table>"
      ],
      "text/plain": [
       "<pandas.io.formats.style.Styler at 0x7f917c64fa60>"
      ]
     },
     "execution_count": 53,
     "metadata": {},
     "output_type": "execute_result"
    }
   ],
   "source": [
    "single_sfx = postdf[\n",
    "        (postdf.SFX == 1)\n",
    "        & (postdf.n_slots == 1)\n",
    "]\n",
    "\n",
    "out.number(\n",
    "    single_sfx.shape[0],\n",
    "    'N_singpost_sfx'\n",
    ")\n",
    "\n",
    "out.number(\n",
    "    100*(single_sfx.shape[0] / postdf.shape[0]),\n",
    "    'pc_singpost_sfx'\n",
    ")\n",
    "\n",
    "ts.show(\n",
    "    single_sfx\n",
    ")"
   ]
  },
  {
   "cell_type": "code",
   "execution_count": 54,
   "metadata": {
    "collapsed": true,
    "jupyter": {
     "outputs_hidden": true
    }
   },
   "outputs": [
    {
     "name": "stdout",
     "output_type": "stream",
     "text": [
      "showing 25 of 34\n"
     ]
    },
    {
     "data": {
      "text/html": [
       "<style  type=\"text/css\" >\n",
       "#T_bc293_row0_col1,#T_bc293_row1_col1,#T_bc293_row2_col1,#T_bc293_row3_col1,#T_bc293_row4_col1,#T_bc293_row5_col1,#T_bc293_row6_col1,#T_bc293_row7_col1,#T_bc293_row8_col1,#T_bc293_row9_col1,#T_bc293_row10_col1,#T_bc293_row11_col1,#T_bc293_row12_col1,#T_bc293_row13_col1,#T_bc293_row14_col1,#T_bc293_row15_col1,#T_bc293_row16_col1,#T_bc293_row17_col1,#T_bc293_row18_col1,#T_bc293_row19_col1,#T_bc293_row20_col1,#T_bc293_row21_col1,#T_bc293_row22_col1,#T_bc293_row23_col1,#T_bc293_row24_col1{\n",
       "            font-size: 20px;\n",
       "             font-family:  Times New Roman;\n",
       "             text-align:  right;\n",
       "             max-width:  500px;\n",
       "        }</style><table id=\"T_bc293_\" ><thead>    <tr>        <th class=\"blank level0\" ></th>        <th class=\"col_heading level0 col0\" >verse</th>        <th class=\"col_heading level0 col1\" >clause</th>    </tr>    <tr>        <th class=\"index_name level0\" >node</th>        <th class=\"blank\" ></th>        <th class=\"blank\" ></th>    </tr></thead><tbody>\n",
       "                <tr>\n",
       "                        <th id=\"T_bc293_level0_row0\" class=\"row_heading level0 row0\" >428380</th>\n",
       "                        <td id=\"T_bc293_row0_col0\" class=\"data row0 col0\" >Genesis 10:18</td>\n",
       "                        <td id=\"T_bc293_row0_col1\" class=\"data row0 col1\" >וְאַחַ֣ר נָפֹ֔צוּ מִשְׁפְּחֹ֖ות הַֽכְּנַעֲנִֽי׃ </td>\n",
       "            </tr>\n",
       "            <tr>\n",
       "                        <th id=\"T_bc293_level0_row1\" class=\"row_heading level0 row1\" >429913</th>\n",
       "                        <td id=\"T_bc293_row1_col0\" class=\"data row1 col0\" >Genesis 24:55</td>\n",
       "                        <td id=\"T_bc293_row1_col1\" class=\"data row1 col1\" >אַחַ֖ר תֵּלֵֽךְ׃ </td>\n",
       "            </tr>\n",
       "            <tr>\n",
       "                        <th id=\"T_bc293_level0_row2\" class=\"row_heading level0 row2\" >430763</th>\n",
       "                        <td id=\"T_bc293_row2_col0\" class=\"data row2 col0\" >Genesis 30:21</td>\n",
       "                        <td id=\"T_bc293_row2_col1\" class=\"data row2 col1\" >וְאַחַ֖ר יָ֣לְדָה בַּ֑ת </td>\n",
       "            </tr>\n",
       "            <tr>\n",
       "                        <th id=\"T_bc293_level0_row3\" class=\"row_heading level0 row3\" >431951</th>\n",
       "                        <td id=\"T_bc293_row3_col0\" class=\"data row3 col0\" >Genesis 38:30</td>\n",
       "                        <td id=\"T_bc293_row3_col1\" class=\"data row3 col1\" >וְאַחַר֙ יָצָ֣א אָחִ֔יו </td>\n",
       "            </tr>\n",
       "            <tr>\n",
       "                        <th id=\"T_bc293_level0_row4\" class=\"row_heading level0 row4\" >433994</th>\n",
       "                        <td id=\"T_bc293_row4_col0\" class=\"data row4 col0\" >Exodus 5:1</td>\n",
       "                        <td id=\"T_bc293_row4_col1\" class=\"data row4 col1\" >וְאַחַ֗ר בָּ֚אוּ מֹשֶׁ֣ה וְאַהֲרֹ֔ן </td>\n",
       "            </tr>\n",
       "            <tr>\n",
       "                        <th id=\"T_bc293_level0_row5\" class=\"row_heading level0 row5\" >439236</th>\n",
       "                        <td id=\"T_bc293_row5_col0\" class=\"data row5 col0\" >Leviticus 14:8</td>\n",
       "                        <td id=\"T_bc293_row5_col1\" class=\"data row5 col1\" >וְאַחַ֖ר יָבֹ֣וא אֶל־הַֽמַּחֲנֶ֑ה </td>\n",
       "            </tr>\n",
       "            <tr>\n",
       "                        <th id=\"T_bc293_level0_row6\" class=\"row_heading level0 row6\" >439506</th>\n",
       "                        <td id=\"T_bc293_row6_col0\" class=\"data row6 col0\" >Leviticus 15:28</td>\n",
       "                        <td id=\"T_bc293_row6_col1\" class=\"data row6 col1\" >וְאַחַ֥ר תִּטְהָֽר׃ </td>\n",
       "            </tr>\n",
       "            <tr>\n",
       "                        <th id=\"T_bc293_level0_row7\" class=\"row_heading level0 row7\" >440180</th>\n",
       "                        <td id=\"T_bc293_row7_col0\" class=\"data row7 col0\" >Leviticus 22:7</td>\n",
       "                        <td id=\"T_bc293_row7_col1\" class=\"data row7 col1\" >וְאַחַר֙ יֹאכַ֣ל מִן־הַקֳּדָשִׁ֔ים </td>\n",
       "            </tr>\n",
       "            <tr>\n",
       "                        <th id=\"T_bc293_level0_row8\" class=\"row_heading level0 row8\" >441452</th>\n",
       "                        <td id=\"T_bc293_row8_col0\" class=\"data row8 col0\" >Numbers 5:26</td>\n",
       "                        <td id=\"T_bc293_row8_col1\" class=\"data row8 col1\" >וְאַחַ֛ר יַשְׁקֶ֥ה אֶת־הָאִשָּׁ֖ה אֶת־הַמָּֽיִם׃ </td>\n",
       "            </tr>\n",
       "            <tr>\n",
       "                        <th id=\"T_bc293_level0_row9\" class=\"row_heading level0 row9\" >442234</th>\n",
       "                        <td id=\"T_bc293_row9_col0\" class=\"data row9 col0\" >Numbers 12:14</td>\n",
       "                        <td id=\"T_bc293_row9_col1\" class=\"data row9 col1\" >וְאַחַ֖ר תֵּאָסֵֽף׃ </td>\n",
       "            </tr>\n",
       "            <tr>\n",
       "                        <th id=\"T_bc293_level0_row10\" class=\"row_heading level0 row10\" >442238</th>\n",
       "                        <td id=\"T_bc293_row10_col0\" class=\"data row10 col0\" >Numbers 12:16</td>\n",
       "                        <td id=\"T_bc293_row10_col1\" class=\"data row10 col1\" >וְאַחַ֛ר נָסְע֥וּ הָעָ֖ם מֵחֲצֵרֹ֑ות </td>\n",
       "            </tr>\n",
       "            <tr>\n",
       "                        <th id=\"T_bc293_level0_row11\" class=\"row_heading level0 row11\" >444262</th>\n",
       "                        <td id=\"T_bc293_row11_col0\" class=\"data row11 col0\" >Numbers 31:2</td>\n",
       "                        <td id=\"T_bc293_row11_col1\" class=\"data row11 col1\" >אַחַ֖ר תֵּאָסֵ֥ף אֶל־עַמֶּֽיךָ׃ </td>\n",
       "            </tr>\n",
       "            <tr>\n",
       "                        <th id=\"T_bc293_level0_row12\" class=\"row_heading level0 row12\" >444318</th>\n",
       "                        <td id=\"T_bc293_row12_col0\" class=\"data row12 col0\" >Numbers 31:24</td>\n",
       "                        <td id=\"T_bc293_row12_col1\" class=\"data row12 col1\" >וְאַחַ֖ר תָּבֹ֥אוּ אֶל־הַֽמַּחֲנֶֽה׃ פ </td>\n",
       "            </tr>\n",
       "            <tr>\n",
       "                        <th id=\"T_bc293_level0_row13\" class=\"row_heading level0 row13\" >444446</th>\n",
       "                        <td id=\"T_bc293_row13_col0\" class=\"data row13 col0\" >Numbers 32:22</td>\n",
       "                        <td id=\"T_bc293_row13_col1\" class=\"data row13 col1\" >וְאַחַ֣ר תָּשֻׁ֔בוּ </td>\n",
       "            </tr>\n",
       "            <tr>\n",
       "                        <th id=\"T_bc293_level0_row14\" class=\"row_heading level0 row14\" >450968</th>\n",
       "                        <td id=\"T_bc293_row14_col0\" class=\"data row14 col0\" >Joshua 24:5</td>\n",
       "                        <td id=\"T_bc293_row14_col1\" class=\"data row14 col1\" >וְאַחַ֖ר הֹוצֵ֥אתִי אֶתְכֶֽם׃ </td>\n",
       "            </tr>\n",
       "            <tr>\n",
       "                        <th id=\"T_bc293_level0_row15\" class=\"row_heading level0 row15\" >451130</th>\n",
       "                        <td id=\"T_bc293_row15_col0\" class=\"data row15 col0\" >Judges 1:9</td>\n",
       "                        <td id=\"T_bc293_row15_col1\" class=\"data row15 col1\" >וְאַחַ֗ר יָֽרְדוּ֙ בְּנֵ֣י יְהוּדָ֔ה </td>\n",
       "            </tr>\n",
       "            <tr>\n",
       "                        <th id=\"T_bc293_level0_row16\" class=\"row_heading level0 row16\" >451941</th>\n",
       "                        <td id=\"T_bc293_row16_col0\" class=\"data row16 col0\" >Judges 7:11</td>\n",
       "                        <td id=\"T_bc293_row16_col1\" class=\"data row16 col1\" >וְאַחַר֙ תֶּחֱזַ֣קְנָה יָדֶ֔יךָ </td>\n",
       "            </tr>\n",
       "            <tr>\n",
       "                        <th id=\"T_bc293_level0_row17\" class=\"row_heading level0 row17\" >453492</th>\n",
       "                        <td id=\"T_bc293_row17_col0\" class=\"data row17 col0\" >Judges 19:5</td>\n",
       "                        <td id=\"T_bc293_row17_col1\" class=\"data row17 col1\" >וְאַחַ֥ר תֵּלֵֽכוּ׃ </td>\n",
       "            </tr>\n",
       "            <tr>\n",
       "                        <th id=\"T_bc293_level0_row18\" class=\"row_heading level0 row18\" >482200</th>\n",
       "                        <td id=\"T_bc293_row18_col0\" class=\"data row18 col0\" >Ezekiel 20:39</td>\n",
       "                        <td id=\"T_bc293_row18_col1\" class=\"data row18 col1\" >וְאַחַ֕ר </td>\n",
       "            </tr>\n",
       "            <tr>\n",
       "                        <th id=\"T_bc293_level0_row19\" class=\"row_heading level0 row19\" >493800</th>\n",
       "                        <td id=\"T_bc293_row19_col0\" class=\"data row19 col0\" >Psalms 73:24</td>\n",
       "                        <td id=\"T_bc293_row19_col1\" class=\"data row19 col1\" >וְ֝אַחַ֗ר כָּבֹ֥וד תִּקָּחֵֽנִי׃ </td>\n",
       "            </tr>\n",
       "            <tr>\n",
       "                        <th id=\"T_bc293_level0_row20\" class=\"row_heading level0 row20\" >498709</th>\n",
       "                        <td id=\"T_bc293_row20_col0\" class=\"data row20 col0\" >Job 18:2</td>\n",
       "                        <td id=\"T_bc293_row20_col1\" class=\"data row20 col1\" >וְאַחַ֥ר נְדַבֵּֽר׃ </td>\n",
       "            </tr>\n",
       "            <tr>\n",
       "                        <th id=\"T_bc293_level0_row21\" class=\"row_heading level0 row21\" >501884</th>\n",
       "                        <td id=\"T_bc293_row21_col0\" class=\"data row21 col0\" >Proverbs 20:17</td>\n",
       "                        <td id=\"T_bc293_row21_col1\" class=\"data row21 col1\" >וְ֝אַחַ֗ר יִמָּֽלֵא־פִ֥יהוּ חָצָֽץ׃ </td>\n",
       "            </tr>\n",
       "            <tr>\n",
       "                        <th id=\"T_bc293_level0_row22\" class=\"row_heading level0 row22\" >508964</th>\n",
       "                        <td id=\"T_bc293_row22_col0\" class=\"data row22 col0\" >Nehemiah 5:15</td>\n",
       "                        <td id=\"T_bc293_row22_col1\" class=\"data row22 col1\" >אַחַר֙ כֶּֽסֶף־שְׁקָלִ֣ים אַרְבָּעִ֔ים </td>\n",
       "            </tr>\n",
       "            <tr>\n",
       "                        <th id=\"T_bc293_level0_row23\" class=\"row_heading level0 row23\" >509977</th>\n",
       "                        <td id=\"T_bc293_row23_col0\" class=\"data row23 col0\" >1_Chronicles 2:21</td>\n",
       "                        <td id=\"T_bc293_row23_col1\" class=\"data row23 col1\" >וְאַחַ֗ר בָּ֤א חֶצְרֹון֙ אֶל־בַּת־מָכִיר֙ אֲבִ֣י גִלְעָ֔ד </td>\n",
       "            </tr>\n",
       "            <tr>\n",
       "                        <th id=\"T_bc293_level0_row24\" class=\"row_heading level0 row24\" >515528</th>\n",
       "                        <td id=\"T_bc293_row24_col0\" class=\"data row24 col0\" >2_Chronicles 35:14</td>\n",
       "                        <td id=\"T_bc293_row24_col1\" class=\"data row24 col1\" >וְאַחַ֗ר הֵכִ֤ינוּ לָהֶם֙ וְלַכֹּ֣הֲנִ֔ים </td>\n",
       "            </tr>\n",
       "    </tbody></table>"
      ],
      "text/plain": [
       "<pandas.io.formats.style.Styler at 0x7f917c6614f0>"
      ]
     },
     "execution_count": 54,
     "metadata": {},
     "output_type": "execute_result"
    }
   ],
   "source": [
    "single_post =     postdf[\n",
    "        (postdf.modtag2 == 'Ø')\n",
    "        & (postdf.n_slots == 1)\n",
    "    ]\n",
    "\n",
    "out.number(\n",
    "    single_post.shape[0],\n",
    "    'N_single_post'\n",
    ")\n",
    "\n",
    "\n",
    "out.number(\n",
    "    100*(single_post.shape[0] / postdf.shape[0]),\n",
    "    'pc_singpost'\n",
    ")\n",
    "\n",
    "ts.show(\n",
    "    single_post\n",
    ")"
   ]
  },
  {
   "cell_type": "code",
   "execution_count": 55,
   "metadata": {
    "collapsed": true,
    "jupyter": {
     "outputs_hidden": true
    }
   },
   "outputs": [
    {
     "name": "stdout",
     "output_type": "stream",
     "text": [
      "showing 25 of 32\n"
     ]
    },
    {
     "data": {
      "text/html": [
       "<style  type=\"text/css\" >\n",
       "#T_61f47_row0_col1,#T_61f47_row1_col1,#T_61f47_row2_col1,#T_61f47_row3_col1,#T_61f47_row4_col1,#T_61f47_row5_col1,#T_61f47_row6_col1,#T_61f47_row7_col1,#T_61f47_row8_col1,#T_61f47_row9_col1,#T_61f47_row10_col1,#T_61f47_row11_col1,#T_61f47_row12_col1,#T_61f47_row13_col1,#T_61f47_row14_col1,#T_61f47_row15_col1,#T_61f47_row16_col1,#T_61f47_row17_col1,#T_61f47_row18_col1,#T_61f47_row19_col1,#T_61f47_row20_col1,#T_61f47_row21_col1,#T_61f47_row22_col1,#T_61f47_row23_col1,#T_61f47_row24_col1{\n",
       "            font-size: 20px;\n",
       "             font-family:  Times New Roman;\n",
       "             text-align:  right;\n",
       "             max-width:  500px;\n",
       "        }</style><table id=\"T_61f47_\" ><thead>    <tr>        <th class=\"blank level0\" ></th>        <th class=\"col_heading level0 col0\" >verse</th>        <th class=\"col_heading level0 col1\" >clause</th>    </tr>    <tr>        <th class=\"index_name level0\" >node</th>        <th class=\"blank\" ></th>        <th class=\"blank\" ></th>    </tr></thead><tbody>\n",
       "                <tr>\n",
       "                        <th id=\"T_61f47_level0_row0\" class=\"row_heading level0 row0\" >429260</th>\n",
       "                        <td id=\"T_61f47_row0_col0\" class=\"data row0 col0\" >Genesis 19:34</td>\n",
       "                        <td id=\"T_61f47_row0_col1\" class=\"data row0 col1\" >וַֽיְהִי֙ מִֽמָּחֳרָ֔ת </td>\n",
       "            </tr>\n",
       "            <tr>\n",
       "                        <th id=\"T_61f47_level0_row1\" class=\"row_heading level0 row1\" >435526</th>\n",
       "                        <td id=\"T_61f47_row1_col0\" class=\"data row1 col0\" >Exodus 18:13</td>\n",
       "                        <td id=\"T_61f47_row1_col1\" class=\"data row1 col1\" >וַיְהִי֙ מִֽמָּחֳרָ֔ת </td>\n",
       "            </tr>\n",
       "            <tr>\n",
       "                        <th id=\"T_61f47_level0_row2\" class=\"row_heading level0 row2\" >436908</th>\n",
       "                        <td id=\"T_61f47_row2_col0\" class=\"data row2 col0\" >Exodus 32:6</td>\n",
       "                        <td id=\"T_61f47_row2_col1\" class=\"data row2 col1\" >וַיַּשְׁכִּ֨ימוּ֙ מִֽמָּחֳרָ֔ת </td>\n",
       "            </tr>\n",
       "            <tr>\n",
       "                        <th id=\"T_61f47_level0_row3\" class=\"row_heading level0 row3\" >437035</th>\n",
       "                        <td id=\"T_61f47_row3_col0\" class=\"data row3 col0\" >Exodus 32:30</td>\n",
       "                        <td id=\"T_61f47_row3_col1\" class=\"data row3 col1\" >וַיְהִי֙ מִֽמָּחֳרָ֔ת </td>\n",
       "            </tr>\n",
       "            <tr>\n",
       "                        <th id=\"T_61f47_level0_row4\" class=\"row_heading level0 row4\" >440299</th>\n",
       "                        <td id=\"T_61f47_row4_col0\" class=\"data row4 col0\" >Leviticus 23:11</td>\n",
       "                        <td id=\"T_61f47_row4_col1\" class=\"data row4 col1\" >מִֽמָּחֳרַת֙ הַשַּׁבָּ֔ת יְנִיפֶ֖נּוּ הַכֹּהֵֽן׃ </td>\n",
       "            </tr>\n",
       "            <tr>\n",
       "                        <th id=\"T_61f47_level0_row5\" class=\"row_heading level0 row5\" >440881</th>\n",
       "                        <td id=\"T_61f47_row5_col0\" class=\"data row5 col0\" >Leviticus 27:17</td>\n",
       "                        <td id=\"T_61f47_row5_col1\" class=\"data row5 col1\" >אִם־מִשְּׁנַ֥ת הַיֹּבֵ֖ל יַקְדִּ֣ישׁ שָׂדֵ֑הוּ </td>\n",
       "            </tr>\n",
       "            <tr>\n",
       "                        <th id=\"T_61f47_level0_row6\" class=\"row_heading level0 row6\" >442804</th>\n",
       "                        <td id=\"T_61f47_row6_col0\" class=\"data row6 col0\" >Numbers 17:6</td>\n",
       "                        <td id=\"T_61f47_row6_col1\" class=\"data row6 col1\" >וַיִּלֹּ֜נוּ כָּל־עֲדַ֤ת בְּנֵֽי־יִשְׂרָאֵל֙ מִֽמָּחֳרָ֔ת עַל־מֹשֶׁ֥ה וְעַֽל־אַהֲרֹ֖ן </td>\n",
       "            </tr>\n",
       "            <tr>\n",
       "                        <th id=\"T_61f47_level0_row7\" class=\"row_heading level0 row7\" >449149</th>\n",
       "                        <td id=\"T_61f47_row7_col0\" class=\"data row7 col0\" >Joshua 5:12</td>\n",
       "                        <td id=\"T_61f47_row7_col1\" class=\"data row7 col1\" >וַיִּשְׁבֹּ֨ת הַמָּ֜ן מִֽמָּחֳרָ֗ת </td>\n",
       "            </tr>\n",
       "            <tr>\n",
       "                        <th id=\"T_61f47_level0_row8\" class=\"row_heading level0 row8\" >450874</th>\n",
       "                        <td id=\"T_61f47_row8_col0\" class=\"data row8 col0\" >Joshua 23:1</td>\n",
       "                        <td id=\"T_61f47_row8_col1\" class=\"data row8 col1\" >וַֽיְהִי֙ מִיָּמִ֣ים רַבִּ֔ים </td>\n",
       "            </tr>\n",
       "            <tr>\n",
       "                        <th id=\"T_61f47_level0_row9\" class=\"row_heading level0 row9\" >451863</th>\n",
       "                        <td id=\"T_61f47_row9_col0\" class=\"data row9 col0\" >Judges 6:38</td>\n",
       "                        <td id=\"T_61f47_row9_col1\" class=\"data row9 col1\" >וַיַּשְׁכֵּם֙ מִֽמָּחֳרָ֔ת </td>\n",
       "            </tr>\n",
       "            <tr>\n",
       "                        <th id=\"T_61f47_level0_row10\" class=\"row_heading level0 row10\" >452342</th>\n",
       "                        <td id=\"T_61f47_row10_col0\" class=\"data row10 col0\" >Judges 9:42</td>\n",
       "                        <td id=\"T_61f47_row10_col1\" class=\"data row10 col1\" >וַֽיְהִי֙ מִֽמָּחֳרָ֔ת </td>\n",
       "            </tr>\n",
       "            <tr>\n",
       "                        <th id=\"T_61f47_level0_row11\" class=\"row_heading level0 row11\" >452875</th>\n",
       "                        <td id=\"T_61f47_row11_col0\" class=\"data row11 col0\" >Judges 14:8</td>\n",
       "                        <td id=\"T_61f47_row11_col1\" class=\"data row11 col1\" >וַיָּ֤שָׁב מִיָּמִים֙ </td>\n",
       "            </tr>\n",
       "            <tr>\n",
       "                        <th id=\"T_61f47_level0_row12\" class=\"row_heading level0 row12\" >453845</th>\n",
       "                        <td id=\"T_61f47_row12_col0\" class=\"data row12 col0\" >Judges 21:4</td>\n",
       "                        <td id=\"T_61f47_row12_col1\" class=\"data row12 col1\" >וַֽיְהִי֙ מִֽמָּחֳרָ֔ת </td>\n",
       "            </tr>\n",
       "            <tr>\n",
       "                        <th id=\"T_61f47_level0_row13\" class=\"row_heading level0 row13\" >454467</th>\n",
       "                        <td id=\"T_61f47_row13_col0\" class=\"data row13 col0\" >1_Samuel 5:3</td>\n",
       "                        <td id=\"T_61f47_row13_col1\" class=\"data row13 col1\" >וַיַּשְׁכִּ֤מוּ אַשְׁדֹּודִים֙ מִֽמָּחֳרָ֔ת </td>\n",
       "            </tr>\n",
       "            <tr>\n",
       "                        <th id=\"T_61f47_level0_row14\" class=\"row_heading level0 row14\" >456230</th>\n",
       "                        <td id=\"T_61f47_row14_col0\" class=\"data row14 col0\" >1_Samuel 18:10</td>\n",
       "                        <td id=\"T_61f47_row14_col1\" class=\"data row14 col1\" >וַיְהִ֣י מִֽמָּחֳרָ֗ת </td>\n",
       "            </tr>\n",
       "            <tr>\n",
       "                        <th id=\"T_61f47_level0_row15\" class=\"row_heading level0 row15\" >456590</th>\n",
       "                        <td id=\"T_61f47_row15_col0\" class=\"data row15 col0\" >1_Samuel 20:27</td>\n",
       "                        <td id=\"T_61f47_row15_col1\" class=\"data row15 col1\" >וַיְהִ֗י מִֽמָּחֳרַ֤ת הַחֹ֨דֶשׁ֙ הַשֵּׁנִ֔י </td>\n",
       "            </tr>\n",
       "            <tr>\n",
       "                        <th id=\"T_61f47_level0_row16\" class=\"row_heading level0 row16\" >457933</th>\n",
       "                        <td id=\"T_61f47_row16_col0\" class=\"data row16 col0\" >1_Samuel 31:8</td>\n",
       "                        <td id=\"T_61f47_row16_col1\" class=\"data row16 col1\" >וַֽיְהִי֙ מִֽמָּחֳרָ֔ת </td>\n",
       "            </tr>\n",
       "            <tr>\n",
       "                        <th id=\"T_61f47_level0_row17\" class=\"row_heading level0 row17\" >465984</th>\n",
       "                        <td id=\"T_61f47_row17_col0\" class=\"data row17 col0\" >2_Kings 8:15</td>\n",
       "                        <td id=\"T_61f47_row17_col1\" class=\"data row17 col1\" >וַיְהִ֣י מִֽמָּחֳרָ֗ת </td>\n",
       "            </tr>\n",
       "            <tr>\n",
       "                        <th id=\"T_61f47_level0_row18\" class=\"row_heading level0 row18\" >474107</th>\n",
       "                        <td id=\"T_61f47_row18_col0\" class=\"data row18 col0\" >Jeremiah 3:4</td>\n",
       "                        <td id=\"T_61f47_row18_col1\" class=\"data row18 col1\" >הֲלֹ֣וא מֵעַ֔תָּה קָרָ֥את לִ֖י </td>\n",
       "            </tr>\n",
       "            <tr>\n",
       "                        <th id=\"T_61f47_level0_row19\" class=\"row_heading level0 row19\" >476080</th>\n",
       "                        <td id=\"T_61f47_row19_col0\" class=\"data row19 col0\" >Jeremiah 20:3</td>\n",
       "                        <td id=\"T_61f47_row19_col1\" class=\"data row19 col1\" >וַֽיְהִי֙ מִֽמָּחֳרָ֔ת </td>\n",
       "            </tr>\n",
       "            <tr>\n",
       "                        <th id=\"T_61f47_level0_row20\" class=\"row_heading level0 row20\" >484355</th>\n",
       "                        <td id=\"T_61f47_row20_col0\" class=\"data row20 col0\" >Ezekiel 38:8</td>\n",
       "                        <td id=\"T_61f47_row20_col1\" class=\"data row20 col1\" >מִיָּמִ֣ים רַבִּים֮ תִּפָּקֵד֒ </td>\n",
       "            </tr>\n",
       "            <tr>\n",
       "                        <th id=\"T_61f47_level0_row21\" class=\"row_heading level0 row21\" >506013</th>\n",
       "                        <td id=\"T_61f47_row21_col0\" class=\"data row21 col0\" >Daniel 1:5</td>\n",
       "                        <td id=\"T_61f47_row21_col1\" class=\"data row21 col1\" >וּמִ֨קְצָתָ֔ם יַֽעַמְד֖וּ לִפְנֵ֥י הַמֶּֽלֶךְ׃ </td>\n",
       "            </tr>\n",
       "            <tr>\n",
       "                        <th id=\"T_61f47_level0_row22\" class=\"row_heading level0 row22\" >507443</th>\n",
       "                        <td id=\"T_61f47_row22_col0\" class=\"data row22 col0\" >Daniel 10:17</td>\n",
       "                        <td id=\"T_61f47_row22_col1\" class=\"data row22 col1\" >מֵעַ֨תָּה֙ לֹֽא־יַעֲמָד־בִּ֣י כֹ֔חַ </td>\n",
       "            </tr>\n",
       "            <tr>\n",
       "                        <th id=\"T_61f47_level0_row23\" class=\"row_heading level0 row23\" >510667</th>\n",
       "                        <td id=\"T_61f47_row23_col0\" class=\"data row23 col0\" >1_Chronicles 10:8</td>\n",
       "                        <td id=\"T_61f47_row23_col1\" class=\"data row23 col1\" >וַיְהִי֙ מִֽמָּחֳרָ֔ת </td>\n",
       "            </tr>\n",
       "            <tr>\n",
       "                        <th id=\"T_61f47_level0_row24\" class=\"row_heading level0 row24\" >514549</th>\n",
       "                        <td id=\"T_61f47_row24_col0\" class=\"data row24 col0\" >2_Chronicles 25:27</td>\n",
       "                        <td id=\"T_61f47_row24_col1\" class=\"data row24 col1\" >וּמֵעֵ֗ת </td>\n",
       "            </tr>\n",
       "    </tbody></table>"
      ],
      "text/plain": [
       "<pandas.io.formats.style.Styler at 0x7f917c661100>"
      ]
     },
     "execution_count": 55,
     "metadata": {},
     "output_type": "execute_result"
    }
   ],
   "source": [
    "ts.show(\n",
    "    postdf[postdf['front'] == 'מן']\n",
    ")"
   ]
  },
  {
   "cell_type": "markdown",
   "metadata": {},
   "source": [
    "## Anterior-Durative"
   ]
  },
  {
   "cell_type": "code",
   "execution_count": 56,
   "metadata": {},
   "outputs": [],
   "source": [
    "antdurdf = funct2data['anterior_dur']['df']"
   ]
  },
  {
   "cell_type": "code",
   "execution_count": 57,
   "metadata": {
    "collapsed": true,
    "jupyter": {
     "outputs_hidden": true
    }
   },
   "outputs": [
    {
     "name": "stdout",
     "output_type": "stream",
     "text": [
      "showing 25 of 27\n"
     ]
    },
    {
     "data": {
      "text/html": [
       "<style  type=\"text/css\" >\n",
       "#T_26047_row0_col1,#T_26047_row1_col1,#T_26047_row2_col1,#T_26047_row3_col1,#T_26047_row4_col1,#T_26047_row5_col1,#T_26047_row6_col1,#T_26047_row7_col1,#T_26047_row8_col1,#T_26047_row9_col1,#T_26047_row10_col1,#T_26047_row11_col1,#T_26047_row12_col1,#T_26047_row13_col1,#T_26047_row14_col1,#T_26047_row15_col1,#T_26047_row16_col1,#T_26047_row17_col1,#T_26047_row18_col1,#T_26047_row19_col1,#T_26047_row20_col1,#T_26047_row21_col1,#T_26047_row22_col1,#T_26047_row23_col1,#T_26047_row24_col1{\n",
       "            font-size: 20px;\n",
       "             font-family:  Times New Roman;\n",
       "             text-align:  right;\n",
       "             max-width:  500px;\n",
       "        }</style><table id=\"T_26047_\" ><thead>    <tr>        <th class=\"blank level0\" ></th>        <th class=\"col_heading level0 col0\" >verse</th>        <th class=\"col_heading level0 col1\" >clause</th>    </tr>    <tr>        <th class=\"index_name level0\" >node</th>        <th class=\"blank\" ></th>        <th class=\"blank\" ></th>    </tr></thead><tbody>\n",
       "                <tr>\n",
       "                        <th id=\"T_26047_level0_row0\" class=\"row_heading level0 row0\" >433180</th>\n",
       "                        <td id=\"T_26047_row0_col0\" class=\"data row0 col0\" >Genesis 47:26</td>\n",
       "                        <td id=\"T_26047_row0_col1\" class=\"data row0 col1\" >וַיָּ֣שֶׂם אֹתָ֣הּ יֹוסֵ֡ף לְחֹק֩ עַד־הַיֹּ֨ום הַזֶּ֜ה עַל־אַדְמַ֥ת מִצְרַ֛יִם </td>\n",
       "            </tr>\n",
       "            <tr>\n",
       "                        <th id=\"T_26047_level0_row1\" class=\"row_heading level0 row1\" >446150</th>\n",
       "                        <td id=\"T_26047_row1_col0\" class=\"data row1 col0\" >Deuteronomy 11:4</td>\n",
       "                        <td id=\"T_26047_row1_col1\" class=\"data row1 col1\" >וַיְאַבְּדֵ֣ם יְהוָ֔ה עַ֖ד הַיֹּ֥ום הַזֶּֽה׃ </td>\n",
       "            </tr>\n",
       "            <tr>\n",
       "                        <th id=\"T_26047_level0_row2\" class=\"row_heading level0 row2\" >449051</th>\n",
       "                        <td id=\"T_26047_row2_col0\" class=\"data row2 col0\" >Joshua 4:9</td>\n",
       "                        <td id=\"T_26047_row2_col1\" class=\"data row2 col1\" >וַיִּ֣הְיוּ שָׁ֔ם עַ֖ד הַיֹּ֥ום הַזֶּֽה׃ </td>\n",
       "            </tr>\n",
       "            <tr>\n",
       "                        <th id=\"T_26047_level0_row3\" class=\"row_heading level0 row3\" >449145</th>\n",
       "                        <td id=\"T_26047_row3_col0\" class=\"data row3 col0\" >Joshua 5:9</td>\n",
       "                        <td id=\"T_26047_row3_col1\" class=\"data row3 col1\" >וַיִּקְרָ֞א שֵׁ֣ם הַמָּקֹ֤ום הַהוּא֙ גִּלְגָּ֔ל עַ֖ד הַיֹּ֥ום הַזֶּֽה׃ </td>\n",
       "            </tr>\n",
       "            <tr>\n",
       "                        <th id=\"T_26047_level0_row4\" class=\"row_heading level0 row4\" >449292</th>\n",
       "                        <td id=\"T_26047_row4_col0\" class=\"data row4 col0\" >Joshua 6:25</td>\n",
       "                        <td id=\"T_26047_row4_col1\" class=\"data row4 col1\" >וַתֵּ֨שֶׁב֙ בְּקֶ֣רֶב יִשְׂרָאֵ֔ל עַ֖ד הַיֹּ֣ום הַזֶּ֑ה </td>\n",
       "            </tr>\n",
       "            <tr>\n",
       "                        <th id=\"T_26047_level0_row5\" class=\"row_heading level0 row5\" >449431</th>\n",
       "                        <td id=\"T_26047_row5_col0\" class=\"data row5 col0\" >Joshua 7:26</td>\n",
       "                        <td id=\"T_26047_row5_col1\" class=\"data row5 col1\" >וַיָּקִ֨ימוּ עָלָ֜יו גַּל־אֲבָנִ֣ים גָּדֹ֗ול עַ֚ד הַיֹּ֣ום הַזֶּ֔ה </td>\n",
       "            </tr>\n",
       "            <tr>\n",
       "                        <th id=\"T_26047_level0_row6\" class=\"row_heading level0 row6\" >449568</th>\n",
       "                        <td id=\"T_26047_row6_col0\" class=\"data row6 col0\" >Joshua 8:28</td>\n",
       "                        <td id=\"T_26047_row6_col1\" class=\"data row6 col1\" >וַיְשִׂימֶ֤הָ תֵּל־עֹולָם֙ שְׁמָמָ֔ה עַ֖ד הַיֹּ֥ום הַזֶּֽה׃ </td>\n",
       "            </tr>\n",
       "            <tr>\n",
       "                        <th id=\"T_26047_level0_row7\" class=\"row_heading level0 row7\" >449574</th>\n",
       "                        <td id=\"T_26047_row7_col0\" class=\"data row7 col0\" >Joshua 8:29</td>\n",
       "                        <td id=\"T_26047_row7_col1\" class=\"data row7 col1\" >וַיָּקִ֤ימוּ עָלָיו֙ גַּל־אֲבָנִ֣ים גָּדֹ֔ול עַ֖ד הַיֹּ֥ום הַזֶּֽה׃ פ </td>\n",
       "            </tr>\n",
       "            <tr>\n",
       "                        <th id=\"T_26047_level0_row8\" class=\"row_heading level0 row8\" >449830</th>\n",
       "                        <td id=\"T_26047_row8_col0\" class=\"data row8 col0\" >Joshua 10:27</td>\n",
       "                        <td id=\"T_26047_row8_col1\" class=\"data row8 col1\" >וַיָּשִׂ֜מוּ אֲבָנִ֤ים גְּדֹלֹות֙ עַל־פִּ֣י הַמְּעָרָ֔ה עַד־עֶ֖צֶם הַיֹּ֥ום הַזֶּֽה׃ פ </td>\n",
       "            </tr>\n",
       "            <tr>\n",
       "                        <th id=\"T_26047_level0_row9\" class=\"row_heading level0 row9\" >450074</th>\n",
       "                        <td id=\"T_26047_row9_col0\" class=\"data row9 col0\" >Joshua 13:13</td>\n",
       "                        <td id=\"T_26047_row9_col1\" class=\"data row9 col1\" >וַיֵּ֨שֶׁב גְּשׁ֤וּר וּמַֽעֲכָת֙ בְּקֶ֣רֶב יִשְׂרָאֵ֔ל עַ֖ד הַיֹּ֥ום הַזֶּֽה׃ </td>\n",
       "            </tr>\n",
       "            <tr>\n",
       "                        <th id=\"T_26047_level0_row10\" class=\"row_heading level0 row10\" >450307</th>\n",
       "                        <td id=\"T_26047_row10_col0\" class=\"data row10 col0\" >Joshua 15:63</td>\n",
       "                        <td id=\"T_26047_row10_col1\" class=\"data row10 col1\" >וַיֵּ֨שֶׁב הַיְבוּסִ֜י אֶת־בְּנֵ֤י יְהוּדָה֙ בִּיר֣וּשָׁלִַ֔ם עַ֖ד הַיֹּ֥ום הַזֶּֽה׃ פ </td>\n",
       "            </tr>\n",
       "            <tr>\n",
       "                        <th id=\"T_26047_level0_row11\" class=\"row_heading level0 row11\" >450330</th>\n",
       "                        <td id=\"T_26047_row11_col0\" class=\"data row11 col0\" >Joshua 16:10</td>\n",
       "                        <td id=\"T_26047_row11_col1\" class=\"data row11 col1\" >וַיֵּ֨שֶׁב הַֽכְּנַעֲנִ֜י בְּקֶ֤רֶב אֶפְרַ֨יִם֙ עַד־הַיֹּ֣ום הַזֶּ֔ה </td>\n",
       "            </tr>\n",
       "            <tr>\n",
       "                        <th id=\"T_26047_level0_row12\" class=\"row_heading level0 row12\" >451178</th>\n",
       "                        <td id=\"T_26047_row12_col0\" class=\"data row12 col0\" >Judges 1:21</td>\n",
       "                        <td id=\"T_26047_row12_col1\" class=\"data row12 col1\" >וַיֵּ֨שֶׁב הַיְבוּסִ֜י אֶת־בְּנֵ֤י בִנְיָמִן֙ בִּיר֣וּשָׁלִַ֔ם עַ֖ד הַיֹּ֥ום הַזֶּֽה׃ ס </td>\n",
       "            </tr>\n",
       "            <tr>\n",
       "                        <th id=\"T_26047_level0_row13\" class=\"row_heading level0 row13\" >462214</th>\n",
       "                        <td id=\"T_26047_row13_col0\" class=\"data row13 col0\" >1_Kings 8:8</td>\n",
       "                        <td id=\"T_26047_row13_col1\" class=\"data row13 col1\" >וַיִּ֣הְיוּ שָׁ֔ם עַ֖ד הַיֹּ֥ום הַזֶּֽה׃ </td>\n",
       "            </tr>\n",
       "            <tr>\n",
       "                        <th id=\"T_26047_level0_row14\" class=\"row_heading level0 row14\" >464987</th>\n",
       "                        <td id=\"T_26047_row14_col0\" class=\"data row14 col0\" >2_Kings 2:22</td>\n",
       "                        <td id=\"T_26047_row14_col1\" class=\"data row14 col1\" >וַיֵּרָפ֣וּ הַמַּ֔יִם עַ֖ד הַיֹּ֣ום הַזֶּ֑ה כִּדְבַ֥ר אֱלִישָׁ֖ע </td>\n",
       "            </tr>\n",
       "            <tr>\n",
       "                        <th id=\"T_26047_level0_row15\" class=\"row_heading level0 row15\" >466013</th>\n",
       "                        <td id=\"T_26047_row15_col0\" class=\"data row15 col0\" >2_Kings 8:22</td>\n",
       "                        <td id=\"T_26047_row15_col1\" class=\"data row15 col1\" >וַיִּפְשַׁ֣ע אֱדֹ֗ום מִתַּ֨חַת֙ יַד־יְהוּדָ֔ה עַ֖ד הַיֹּ֣ום הַזֶּ֑ה </td>\n",
       "            </tr>\n",
       "            <tr>\n",
       "                        <th id=\"T_26047_level0_row16\" class=\"row_heading level0 row16\" >482154</th>\n",
       "                        <td id=\"T_26047_row16_col0\" class=\"data row16 col0\" >Ezekiel 20:29</td>\n",
       "                        <td id=\"T_26047_row16_col1\" class=\"data row16 col1\" >וַיִּקָּרֵ֤א שְׁמָהּ֙ בָּמָ֔ה עַ֖ד הַיֹּ֥ום הַזֶּֽה׃ </td>\n",
       "            </tr>\n",
       "            <tr>\n",
       "                        <th id=\"T_26047_level0_row17\" class=\"row_heading level0 row17\" >510197</th>\n",
       "                        <td id=\"T_26047_row17_col0\" class=\"data row17 col0\" >1_Chronicles 4:41</td>\n",
       "                        <td id=\"T_26047_row17_col1\" class=\"data row17 col1\" >וַיַּחֲרִימֻם֙ עַד־הַיֹּ֣ום הַזֶּ֔ה </td>\n",
       "            </tr>\n",
       "            <tr>\n",
       "                        <th id=\"T_26047_level0_row18\" class=\"row_heading level0 row18\" >510203</th>\n",
       "                        <td id=\"T_26047_row18_col0\" class=\"data row18 col0\" >1_Chronicles 4:43</td>\n",
       "                        <td id=\"T_26047_row18_col1\" class=\"data row18 col1\" >וַיֵּ֣שְׁבוּ שָׁ֔ם עַ֖ד הַיֹּ֥ום הַזֶּֽה׃ </td>\n",
       "            </tr>\n",
       "            <tr>\n",
       "                        <th id=\"T_26047_level0_row19\" class=\"row_heading level0 row19\" >510265</th>\n",
       "                        <td id=\"T_26047_row19_col0\" class=\"data row19 col0\" >1_Chronicles 5:26</td>\n",
       "                        <td id=\"T_26047_row19_col1\" class=\"data row19 col1\" >וַ֠יְבִיאֵם לַחְלַ֨ח וְחָבֹ֤ור וְהָרָא֙ וּנְהַ֣ר גֹּוזָ֔ן עַ֖ד הַיֹּ֥ום הַזֶּֽה׃ פ </td>\n",
       "            </tr>\n",
       "            <tr>\n",
       "                        <th id=\"T_26047_level0_row20\" class=\"row_heading level0 row20\" >510974</th>\n",
       "                        <td id=\"T_26047_row20_col0\" class=\"data row20 col0\" >1_Chronicles 13:11</td>\n",
       "                        <td id=\"T_26047_row20_col1\" class=\"data row20 col1\" >וַיִּקְרָ֞א לַמָּקֹ֤ום הַהוּא֙ פֶּ֣רֶץ עֻזָּ֔א עַ֖ד הַיֹּ֥ום הַזֶּֽה׃ </td>\n",
       "            </tr>\n",
       "            <tr>\n",
       "                        <th id=\"T_26047_level0_row21\" class=\"row_heading level0 row21\" >512645</th>\n",
       "                        <td id=\"T_26047_row21_col0\" class=\"data row21 col0\" >2_Chronicles 5:9</td>\n",
       "                        <td id=\"T_26047_row21_col1\" class=\"data row21 col1\" >וַֽיְהִי־שָׁ֔ם עַ֖ד הַיֹּ֥ום הַזֶּֽה׃ </td>\n",
       "            </tr>\n",
       "            <tr>\n",
       "                        <th id=\"T_26047_level0_row22\" class=\"row_heading level0 row22\" >513010</th>\n",
       "                        <td id=\"T_26047_row22_col0\" class=\"data row22 col0\" >2_Chronicles 8:8</td>\n",
       "                        <td id=\"T_26047_row22_col1\" class=\"data row22 col1\" >וַיַּעֲלֵ֤ם שְׁלֹמֹה֙ לְמַ֔ס עַ֖ד הַיֹּ֥ום הַזֶּֽה׃ </td>\n",
       "            </tr>\n",
       "            <tr>\n",
       "                        <th id=\"T_26047_level0_row23\" class=\"row_heading level0 row23\" >513236</th>\n",
       "                        <td id=\"T_26047_row23_col0\" class=\"data row23 col0\" >2_Chronicles 10:19</td>\n",
       "                        <td id=\"T_26047_row23_col1\" class=\"data row23 col1\" >וַיִּפְשְׁע֤וּ יִשְׂרָאֵל֙ בְּבֵ֣ית דָּוִ֔יד עַ֖ד הַיֹּ֥ום הַזֶּֽה׃ ס </td>\n",
       "            </tr>\n",
       "            <tr>\n",
       "                        <th id=\"T_26047_level0_row24\" class=\"row_heading level0 row24\" >514112</th>\n",
       "                        <td id=\"T_26047_row24_col0\" class=\"data row24 col0\" >2_Chronicles 21:10</td>\n",
       "                        <td id=\"T_26047_row24_col1\" class=\"data row24 col1\" >וַיִּפְשַׁ֨ע אֱדֹ֜ום מִתַּ֣חַת יַד־יְהוּדָ֗ה עַ֚ד הַיֹּ֣ום הַזֶּ֔ה </td>\n",
       "            </tr>\n",
       "    </tbody></table>"
      ],
      "text/plain": [
       "<pandas.io.formats.style.Styler at 0x7f917c6611f0>"
      ]
     },
     "execution_count": 57,
     "metadata": {},
     "output_type": "execute_result"
    }
   ],
   "source": [
    "# anterior durative of result\n",
    "\n",
    "ts.show(\n",
    "    antdurdf[\n",
    "        #(antdurdf.has_objc == 1)\n",
    "        (antdurdf.DEMON == 1)\n",
    "        & (antdurdf.verbform == 'wayq')\n",
    "    ]\n",
    ")"
   ]
  },
  {
   "cell_type": "code",
   "execution_count": 112,
   "metadata": {},
   "outputs": [
    {
     "name": "stdout",
     "output_type": "stream",
     "text": [
      "showing 11 of 11\n"
     ]
    },
    {
     "data": {
      "text/html": [
       "<style  type=\"text/css\" >\n",
       "#T_21d59_row0_col1,#T_21d59_row1_col1,#T_21d59_row2_col1,#T_21d59_row3_col1,#T_21d59_row4_col1,#T_21d59_row5_col1,#T_21d59_row6_col1,#T_21d59_row7_col1,#T_21d59_row8_col1,#T_21d59_row9_col1,#T_21d59_row10_col1{\n",
       "            font-size: 20px;\n",
       "             font-family:  Times New Roman;\n",
       "             text-align:  right;\n",
       "             max-width:  500px;\n",
       "        }</style><table id=\"T_21d59_\" ><thead>    <tr>        <th class=\"blank level0\" ></th>        <th class=\"col_heading level0 col0\" >verse</th>        <th class=\"col_heading level0 col1\" >clause</th>    </tr>    <tr>        <th class=\"index_name level0\" >node</th>        <th class=\"blank\" ></th>        <th class=\"blank\" ></th>    </tr></thead><tbody>\n",
       "                <tr>\n",
       "                        <th id=\"T_21d59_level0_row0\" class=\"row_heading level0 row0\" >435481</th>\n",
       "                        <td id=\"T_21d59_row0_col0\" class=\"data row0 col0\" >Exodus 17:16</td>\n",
       "                        <td id=\"T_21d59_row0_col1\" class=\"data row0 col1\" >מִלְחָמָ֥ה לַיהוָ֖ה בַּֽעֲמָלֵ֑ק מִדֹּ֖ר דֹּֽר׃ פ </td>\n",
       "            </tr>\n",
       "            <tr>\n",
       "                        <th id=\"T_21d59_level0_row1\" class=\"row_heading level0 row1\" >440250</th>\n",
       "                        <td id=\"T_21d59_row1_col0\" class=\"data row1 col0\" >Leviticus 22:27</td>\n",
       "                        <td id=\"T_21d59_row1_col1\" class=\"data row1 col1\" >וּמִיֹּ֤ום הַשְּׁמִינִי֙ וָהָ֔לְאָה יֵרָצֶ֕ה לְקָרְבַּ֥ן אִשֶּׁ֖ה לַיהוָֽה׃ </td>\n",
       "            </tr>\n",
       "            <tr>\n",
       "                        <th id=\"T_21d59_level0_row2\" class=\"row_heading level0 row2\" >455860</th>\n",
       "                        <td id=\"T_21d59_row2_col0\" class=\"data row2 col0\" >1_Samuel 16:13</td>\n",
       "                        <td id=\"T_21d59_row2_col1\" class=\"data row2 col1\" >וַתִּצְלַ֤ח רֽוּחַ־יְהוָה֙ אֶל־דָּוִ֔ד מֵהַיֹּ֥ום הַה֖וּא וָמָ֑עְלָה </td>\n",
       "            </tr>\n",
       "            <tr>\n",
       "                        <th id=\"T_21d59_level0_row3\" class=\"row_heading level0 row3\" >456229</th>\n",
       "                        <td id=\"T_21d59_row3_col0\" class=\"data row3 col0\" >1_Samuel 18:9</td>\n",
       "                        <td id=\"T_21d59_row3_col1\" class=\"data row3 col1\" >וַיְהִ֥י שָׁא֖וּל עֹויֵ֣ן אֶת־דָּוִ֑ד מֵהַיֹּ֥ום הַה֖וּא וָהָֽלְאָה׃ ס </td>\n",
       "            </tr>\n",
       "            <tr>\n",
       "                        <th id=\"T_21d59_level0_row4\" class=\"row_heading level0 row4\" >457880</th>\n",
       "                        <td id=\"T_21d59_row4_col0\" class=\"data row4 col0\" >1_Samuel 30:25</td>\n",
       "                        <td id=\"T_21d59_row4_col1\" class=\"data row4 col1\" >וַיְהִ֕י מֵֽהַיֹּ֥ום הַה֖וּא וָמָ֑עְלָה </td>\n",
       "            </tr>\n",
       "            <tr>\n",
       "                        <th id=\"T_21d59_level0_row5\" class=\"row_heading level0 row5\" >470741</th>\n",
       "                        <td id=\"T_21d59_row5_col0\" class=\"data row5 col0\" >Isaiah 34:10</td>\n",
       "                        <td id=\"T_21d59_row5_col1\" class=\"data row5 col1\" >מִדֹּ֤ור לָדֹור֙ תֶּחֱרָ֔ב </td>\n",
       "            </tr>\n",
       "            <tr>\n",
       "                        <th id=\"T_21d59_level0_row6\" class=\"row_heading level0 row6\" >484521</th>\n",
       "                        <td id=\"T_21d59_row6_col0\" class=\"data row6 col0\" >Ezekiel 39:22</td>\n",
       "                        <td id=\"T_21d59_row6_col1\" class=\"data row6 col1\" >כִּ֛י אֲנִ֥י יְהוָ֖ה אֱלֹֽהֵיהֶ֑ם מִן־הַיֹּ֥ום הַה֖וּא וָהָֽלְאָה׃ </td>\n",
       "            </tr>\n",
       "            <tr>\n",
       "                        <th id=\"T_21d59_level0_row7\" class=\"row_heading level0 row7\" >488909</th>\n",
       "                        <td id=\"T_21d59_row7_col0\" class=\"data row7 col0\" >Haggai 2:15</td>\n",
       "                        <td id=\"T_21d59_row7_col1\" class=\"data row7 col1\" >שִֽׂימוּ־נָ֣א לְבַבְכֶ֔ם מִן־הַיֹּ֥ום הַזֶּ֖ה וָמָ֑עְלָה </td>\n",
       "            </tr>\n",
       "            <tr>\n",
       "                        <th id=\"T_21d59_level0_row8\" class=\"row_heading level0 row8\" >495016</th>\n",
       "                        <td id=\"T_21d59_row8_col0\" class=\"data row8 col0\" >Psalms 96:2</td>\n",
       "                        <td id=\"T_21d59_row8_col1\" class=\"data row8 col1\" >בַּשְּׂר֥וּ מִיֹּֽום־לְ֝יֹ֗ום יְשׁוּעָתֹֽו׃ </td>\n",
       "            </tr>\n",
       "            <tr>\n",
       "                        <th id=\"T_21d59_level0_row9\" class=\"row_heading level0 row9\" >497794</th>\n",
       "                        <td id=\"T_21d59_row9_col0\" class=\"data row9 col0\" >Job 4:20</td>\n",
       "                        <td id=\"T_21d59_row9_col1\" class=\"data row9 col1\" >מִבֹּ֣קֶר לָעֶ֣רֶב יֻכַּ֑תּוּ </td>\n",
       "            </tr>\n",
       "            <tr>\n",
       "                        <th id=\"T_21d59_level0_row10\" class=\"row_heading level0 row10\" >511176</th>\n",
       "                        <td id=\"T_21d59_row10_col0\" class=\"data row10 col0\" >1_Chronicles 16:23</td>\n",
       "                        <td id=\"T_21d59_row10_col1\" class=\"data row10 col1\" >בַּשְּׂר֥וּ מִיֹּֽום־אֶל־יֹ֖ום יְשׁוּעָתֹֽו׃ </td>\n",
       "            </tr>\n",
       "    </tbody></table>"
      ],
      "text/plain": [
       "<pandas.io.formats.style.Styler at 0x7f91801af820>"
      ]
     },
     "execution_count": 112,
     "metadata": {},
     "output_type": "execute_result"
    }
   ],
   "source": [
    "# with L?\n",
    "# pull out cases of begin-to-end CXs to demonstrate\n",
    "\n",
    "ts.show(\n",
    "    df[\n",
    "        (df.function == 'begin_to_end')\n",
    "        & (~df.lex_str.str.contains('עד'))\n",
    "    ]\n",
    ")"
   ]
  },
  {
   "cell_type": "markdown",
   "metadata": {},
   "source": [
    "## Posterior Durative"
   ]
  },
  {
   "cell_type": "code",
   "execution_count": 58,
   "metadata": {
    "collapsed": true,
    "jupyter": {
     "outputs_hidden": true
    }
   },
   "outputs": [],
   "source": [
    "postdurdf = funct2data['posterior_dur']['df']"
   ]
  },
  {
   "cell_type": "code",
   "execution_count": 59,
   "metadata": {
    "collapsed": true,
    "jupyter": {
     "outputs_hidden": true
    }
   },
   "outputs": [
    {
     "name": "stdout",
     "output_type": "stream",
     "text": [
      "showing 1 of 1\n"
     ]
    },
    {
     "data": {
      "text/html": [
       "<style  type=\"text/css\" >\n",
       "#T_d40c7_row0_col1{\n",
       "            font-size: 20px;\n",
       "             font-family:  Times New Roman;\n",
       "             text-align:  right;\n",
       "             max-width:  500px;\n",
       "        }</style><table id=\"T_d40c7_\" ><thead>    <tr>        <th class=\"blank level0\" ></th>        <th class=\"col_heading level0 col0\" >verse</th>        <th class=\"col_heading level0 col1\" >clause</th>    </tr>    <tr>        <th class=\"index_name level0\" >node</th>        <th class=\"blank\" ></th>        <th class=\"blank\" ></th>    </tr></thead><tbody>\n",
       "                <tr>\n",
       "                        <th id=\"T_d40c7_level0_row0\" class=\"row_heading level0 row0\" >490132</th>\n",
       "                        <td id=\"T_d40c7_row0_col0\" class=\"data row0 col0\" >Malachi 3:7</td>\n",
       "                        <td id=\"T_d40c7_row0_col1\" class=\"data row0 col1\" >לְמִימֵ֨י אֲבֹתֵיכֶ֜ם סַרְתֶּ֤ם מֵֽחֻקַּי֙ </td>\n",
       "            </tr>\n",
       "    </tbody></table>"
      ],
      "text/plain": [
       "<pandas.io.formats.style.Styler at 0x7f917c674310>"
      ]
     },
     "execution_count": 59,
     "metadata": {},
     "output_type": "execute_result"
    }
   ],
   "source": [
    "ts.show(\n",
    "    postdurdf[postdurdf.front == 'ל+מן']\n",
    ")"
   ]
  },
  {
   "cell_type": "markdown",
   "metadata": {},
   "source": [
    "## Regular recurrence"
   ]
  },
  {
   "cell_type": "code",
   "execution_count": 60,
   "metadata": {
    "collapsed": true,
    "jupyter": {
     "outputs_hidden": true
    }
   },
   "outputs": [],
   "source": [
    "regdf = df[df.function == 'reg_recur'].copy()"
   ]
  },
  {
   "cell_type": "code",
   "execution_count": 61,
   "metadata": {
    "collapsed": true,
    "jupyter": {
     "outputs_hidden": true
    }
   },
   "outputs": [
    {
     "data": {
      "text/html": [
       "<div>\n",
       "<style scoped>\n",
       "    .dataframe tbody tr th:only-of-type {\n",
       "        vertical-align: middle;\n",
       "    }\n",
       "\n",
       "    .dataframe tbody tr th {\n",
       "        vertical-align: top;\n",
       "    }\n",
       "\n",
       "    .dataframe thead th {\n",
       "        text-align: right;\n",
       "    }\n",
       "</style>\n",
       "<table border=\"1\" class=\"dataframe\">\n",
       "  <thead>\n",
       "    <tr style=\"text-align: right;\">\n",
       "      <th></th>\n",
       "      <th>count</th>\n",
       "      <th>percent</th>\n",
       "    </tr>\n",
       "  </thead>\n",
       "  <tbody>\n",
       "    <tr>\n",
       "      <th>ל.זמן</th>\n",
       "      <td>21</td>\n",
       "      <td>25%</td>\n",
       "    </tr>\n",
       "    <tr>\n",
       "      <th>ב.כל.זמן</th>\n",
       "      <td>21</td>\n",
       "      <td>25%</td>\n",
       "    </tr>\n",
       "    <tr>\n",
       "      <th>ב.זמן.ב.זמן</th>\n",
       "      <td>17</td>\n",
       "      <td>20%</td>\n",
       "    </tr>\n",
       "    <tr>\n",
       "      <th>זמן.בזמן</th>\n",
       "      <td>8</td>\n",
       "      <td>10%</td>\n",
       "    </tr>\n",
       "    <tr>\n",
       "      <th>זמן.זמן</th>\n",
       "      <td>8</td>\n",
       "      <td>10%</td>\n",
       "    </tr>\n",
       "    <tr>\n",
       "      <th>ל.זמן.ל.זמן</th>\n",
       "      <td>3</td>\n",
       "      <td>4%</td>\n",
       "    </tr>\n",
       "    <tr>\n",
       "      <th>זמן.ב.זמן</th>\n",
       "      <td>3</td>\n",
       "      <td>4%</td>\n",
       "    </tr>\n",
       "    <tr>\n",
       "      <th>בין.זמן</th>\n",
       "      <td>1</td>\n",
       "      <td>1%</td>\n",
       "    </tr>\n",
       "    <tr>\n",
       "      <th>זמן.על.זמן</th>\n",
       "      <td>1</td>\n",
       "      <td>1%</td>\n",
       "    </tr>\n",
       "  </tbody>\n",
       "</table>\n",
       "</div>"
      ],
      "text/plain": [
       "             count percent\n",
       "ל.זמן           21     25%\n",
       "ב.כל.זמן        21     25%\n",
       "ב.זמן.ב.זמן     17     20%\n",
       "זמן.בזמן         8     10%\n",
       "זמן.זמן          8     10%\n",
       "ל.זמן.ל.זמן      3      4%\n",
       "זמן.ב.זמן        3      4%\n",
       "בין.זמן          1      1%\n",
       "זמן.על.זמן       1      1%"
      ]
     },
     "execution_count": 61,
     "metadata": {},
     "output_type": "execute_result"
    }
   ],
   "source": [
    "regtk_ct = regdf.reg_group.value_counts()\n",
    "regtk_pr = regtk_ct / regtk_ct.sum()\n",
    "regtk_cp = join_ct_pr(regtk_ct, regtk_pr)\n",
    "\n",
    "out.table(\n",
    "    regtk_cp,\n",
    "    'regtk_cp',\n",
    "    caption='Token Frequencies for Regular Recurrance Adverbials'\n",
    ")"
   ]
  },
  {
   "cell_type": "code",
   "execution_count": 65,
   "metadata": {},
   "outputs": [
    {
     "name": "stdout",
     "output_type": "stream",
     "text": [
      "showing 1 of 1\n"
     ]
    },
    {
     "data": {
      "text/html": [
       "<style  type=\"text/css\" >\n",
       "#T_c65c6_row0_col1{\n",
       "            font-size: 20px;\n",
       "             font-family:  Times New Roman;\n",
       "             text-align:  right;\n",
       "             max-width:  500px;\n",
       "        }</style><table id=\"T_c65c6_\" ><thead>    <tr>        <th class=\"blank level0\" ></th>        <th class=\"col_heading level0 col0\" >verse</th>        <th class=\"col_heading level0 col1\" >clause</th>        <th class=\"col_heading level0 col2\" >notes</th>    </tr>    <tr>        <th class=\"index_name level0\" >node</th>        <th class=\"blank\" ></th>        <th class=\"blank\" ></th>        <th class=\"blank\" ></th>    </tr></thead><tbody>\n",
       "                <tr>\n",
       "                        <th id=\"T_c65c6_level0_row0\" class=\"row_heading level0 row0\" >508976</th>\n",
       "                        <td id=\"T_c65c6_row0_col0\" class=\"data row0 col0\" >Nehemiah 5:18</td>\n",
       "                        <td id=\"T_c65c6_row0_col1\" class=\"data row0 col1\" >וּבֵ֨ין עֲשֶׂ֧רֶת יָמִ֛ים בְּכָל־יַ֖יִן לְהַרְבֵּ֑ה </td>\n",
       "                        <td id=\"T_c65c6_row0_col2\" class=\"data row0 col2\" >\"every ten days\"; More research needed on why this is read this way by the transs.</td>\n",
       "            </tr>\n",
       "    </tbody></table>"
      ],
      "text/plain": [
       "<pandas.io.formats.style.Styler at 0x7f917c4d08b0>"
      ]
     },
     "execution_count": 65,
     "metadata": {},
     "output_type": "execute_result"
    }
   ],
   "source": [
    "ts.show(\n",
    "    regdf[regdf.reg_group == 'בין.זמן'],\n",
    "    extra=['notes']\n",
    ")"
   ]
  },
  {
   "cell_type": "code",
   "execution_count": 97,
   "metadata": {},
   "outputs": [
    {
     "name": "stdout",
     "output_type": "stream",
     "text": [
      "showing 1 of 1\n"
     ]
    },
    {
     "data": {
      "text/html": [
       "<style  type=\"text/css\" >\n",
       "#T_b0699_row0_col1{\n",
       "            font-size: 20px;\n",
       "             font-family:  Times New Roman;\n",
       "             text-align:  right;\n",
       "             max-width:  500px;\n",
       "        }</style><table id=\"T_b0699_\" ><thead>    <tr>        <th class=\"blank level0\" ></th>        <th class=\"col_heading level0 col0\" >verse</th>        <th class=\"col_heading level0 col1\" >clause</th>        <th class=\"col_heading level0 col2\" >notes</th>    </tr>    <tr>        <th class=\"index_name level0\" >node</th>        <th class=\"blank\" ></th>        <th class=\"blank\" ></th>        <th class=\"blank\" ></th>    </tr></thead><tbody>\n",
       "                <tr>\n",
       "                        <th id=\"T_b0699_level0_row0\" class=\"row_heading level0 row0\" >514129</th>\n",
       "                        <td id=\"T_b0699_row0_col0\" class=\"data row0 col0\" >2_Chronicles 21:15</td>\n",
       "                        <td id=\"T_b0699_row0_col1\" class=\"data row0 col1\" >עַד־יֵצְא֤וּ מֵעֶ֨יךָ֙ מִן־הַחֹ֔לִי יָמִ֖ים עַל־יָמִֽים׃ </td>\n",
       "                        <td id=\"T_b0699_row0_col2\" class=\"data row0 col2\" >nan</td>\n",
       "            </tr>\n",
       "    </tbody></table>"
      ],
      "text/plain": [
       "<pandas.io.formats.style.Styler at 0x7f917e77eeb0>"
      ]
     },
     "execution_count": 97,
     "metadata": {},
     "output_type": "execute_result"
    }
   ],
   "source": [
    "ts.show(\n",
    "    regdf[regdf.reg_group == 'זמן.על.זמן'],\n",
    "    extra=['notes']\n",
    ")"
   ]
  },
  {
   "cell_type": "markdown",
   "metadata": {},
   "source": [
    "### Do Modifier Counts for Regular Recurrence"
   ]
  },
  {
   "cell_type": "code",
   "execution_count": 98,
   "metadata": {
    "collapsed": true,
    "jupyter": {
     "outputs_hidden": true
    }
   },
   "outputs": [
    {
     "data": {
      "text/html": [
       "<div>\n",
       "<style scoped>\n",
       "    .dataframe tbody tr th:only-of-type {\n",
       "        vertical-align: middle;\n",
       "    }\n",
       "\n",
       "    .dataframe tbody tr th {\n",
       "        vertical-align: top;\n",
       "    }\n",
       "\n",
       "    .dataframe thead th {\n",
       "        text-align: right;\n",
       "    }\n",
       "</style>\n",
       "<table border=\"1\" class=\"dataframe\">\n",
       "  <thead>\n",
       "    <tr style=\"text-align: right;\">\n",
       "      <th>modtag2</th>\n",
       "      <th>DEF</th>\n",
       "      <th>KL</th>\n",
       "      <th>DEF+PL</th>\n",
       "      <th>C</th>\n",
       "      <th>KL+PL+C</th>\n",
       "      <th>PL</th>\n",
       "      <th>QUANT</th>\n",
       "      <th>NUM+PL</th>\n",
       "      <th>KL+DEF+PL</th>\n",
       "      <th>NUM</th>\n",
       "      <th>NUM+DEF+PL</th>\n",
       "    </tr>\n",
       "    <tr>\n",
       "      <th>reg_group</th>\n",
       "      <th></th>\n",
       "      <th></th>\n",
       "      <th></th>\n",
       "      <th></th>\n",
       "      <th></th>\n",
       "      <th></th>\n",
       "      <th></th>\n",
       "      <th></th>\n",
       "      <th></th>\n",
       "      <th></th>\n",
       "      <th></th>\n",
       "    </tr>\n",
       "  </thead>\n",
       "  <tbody>\n",
       "    <tr>\n",
       "      <th>ב.כל.זמן</th>\n",
       "      <td>0</td>\n",
       "      <td>17</td>\n",
       "      <td>0</td>\n",
       "      <td>0</td>\n",
       "      <td>3</td>\n",
       "      <td>0</td>\n",
       "      <td>0</td>\n",
       "      <td>0</td>\n",
       "      <td>1</td>\n",
       "      <td>0</td>\n",
       "      <td>0</td>\n",
       "    </tr>\n",
       "    <tr>\n",
       "      <th>ל.זמן</th>\n",
       "      <td>11</td>\n",
       "      <td>0</td>\n",
       "      <td>4</td>\n",
       "      <td>1</td>\n",
       "      <td>0</td>\n",
       "      <td>2</td>\n",
       "      <td>0</td>\n",
       "      <td>1</td>\n",
       "      <td>0</td>\n",
       "      <td>1</td>\n",
       "      <td>0</td>\n",
       "    </tr>\n",
       "    <tr>\n",
       "      <th>ב.זמן.ב.זמן</th>\n",
       "      <td>14</td>\n",
       "      <td>0</td>\n",
       "      <td>2</td>\n",
       "      <td>1</td>\n",
       "      <td>0</td>\n",
       "      <td>0</td>\n",
       "      <td>0</td>\n",
       "      <td>0</td>\n",
       "      <td>0</td>\n",
       "      <td>0</td>\n",
       "      <td>0</td>\n",
       "    </tr>\n",
       "    <tr>\n",
       "      <th>זמן.ב.זמן</th>\n",
       "      <td>0</td>\n",
       "      <td>0</td>\n",
       "      <td>0</td>\n",
       "      <td>0</td>\n",
       "      <td>0</td>\n",
       "      <td>0</td>\n",
       "      <td>3</td>\n",
       "      <td>0</td>\n",
       "      <td>0</td>\n",
       "      <td>0</td>\n",
       "      <td>0</td>\n",
       "    </tr>\n",
       "    <tr>\n",
       "      <th>ל.זמן.ל.זמן</th>\n",
       "      <td>1</td>\n",
       "      <td>0</td>\n",
       "      <td>2</td>\n",
       "      <td>0</td>\n",
       "      <td>0</td>\n",
       "      <td>0</td>\n",
       "      <td>0</td>\n",
       "      <td>0</td>\n",
       "      <td>0</td>\n",
       "      <td>0</td>\n",
       "      <td>0</td>\n",
       "    </tr>\n",
       "    <tr>\n",
       "      <th>זמן.בזמן</th>\n",
       "      <td>0</td>\n",
       "      <td>0</td>\n",
       "      <td>0</td>\n",
       "      <td>1</td>\n",
       "      <td>0</td>\n",
       "      <td>0</td>\n",
       "      <td>0</td>\n",
       "      <td>0</td>\n",
       "      <td>0</td>\n",
       "      <td>0</td>\n",
       "      <td>1</td>\n",
       "    </tr>\n",
       "    <tr>\n",
       "      <th>בין.זמן</th>\n",
       "      <td>0</td>\n",
       "      <td>0</td>\n",
       "      <td>0</td>\n",
       "      <td>0</td>\n",
       "      <td>0</td>\n",
       "      <td>0</td>\n",
       "      <td>0</td>\n",
       "      <td>1</td>\n",
       "      <td>0</td>\n",
       "      <td>0</td>\n",
       "      <td>0</td>\n",
       "    </tr>\n",
       "    <tr>\n",
       "      <th>זמן.על.זמן</th>\n",
       "      <td>0</td>\n",
       "      <td>0</td>\n",
       "      <td>0</td>\n",
       "      <td>0</td>\n",
       "      <td>0</td>\n",
       "      <td>1</td>\n",
       "      <td>0</td>\n",
       "      <td>0</td>\n",
       "      <td>0</td>\n",
       "      <td>0</td>\n",
       "      <td>0</td>\n",
       "    </tr>\n",
       "  </tbody>\n",
       "</table>\n",
       "</div>"
      ],
      "text/plain": [
       "modtag2      DEF  KL  DEF+PL  C  KL+PL+C  PL  QUANT  NUM+PL  KL+DEF+PL  NUM  \\\n",
       "reg_group                                                                     \n",
       "ב.כל.זמן       0  17       0  0        3   0      0       0          1    0   \n",
       "ל.זמן         11   0       4  1        0   2      0       1          0    1   \n",
       "ב.זמן.ב.זמן   14   0       2  1        0   0      0       0          0    0   \n",
       "זמן.ב.זמן      0   0       0  0        0   0      3       0          0    0   \n",
       "ל.זמן.ל.זמן    1   0       2  0        0   0      0       0          0    0   \n",
       "זמן.בזמן       0   0       0  1        0   0      0       0          0    0   \n",
       "בין.זמן        0   0       0  0        0   0      0       1          0    0   \n",
       "זמן.על.זמן     0   0       0  0        0   1      0       0          0    0   \n",
       "\n",
       "modtag2      NUM+DEF+PL  \n",
       "reg_group                \n",
       "ב.כל.זמן              0  \n",
       "ל.זמן                 0  \n",
       "ב.זמן.ב.זמן           0  \n",
       "זמן.ב.זמן             0  \n",
       "ל.זמן.ל.זמן           0  \n",
       "זמן.בזמן              1  \n",
       "בין.זמן               0  \n",
       "זמן.על.זמן            0  "
      ]
     },
     "execution_count": 98,
     "metadata": {},
     "output_type": "execute_result"
    }
   ],
   "source": [
    "regrecmod_ct = pivot_ct(\n",
    "    regdf,\n",
    "    'reg_group',\n",
    "    'modtag2'\n",
    ")\n",
    "regrecmod_pr = regrecmod_ct.div(regrecmod_ct.sum(1), 0)\n",
    "regrecmod_pc = regrecmod_pr.mul(100).round().astype(int).astype(str)+'%'\n",
    "\n",
    "out.table(\n",
    "    regrecmod_ct,\n",
    "    'regrecmod_ct',\n",
    "    caption='Modifier Frequencies by Reg. Recurrence Patterns',\n",
    "    adjustbox=True,\n",
    ")"
   ]
  },
  {
   "cell_type": "code",
   "execution_count": 101,
   "metadata": {
    "collapsed": true,
    "jupyter": {
     "outputs_hidden": true
    }
   },
   "outputs": [
    {
     "data": {
      "text/html": [
       "<div>\n",
       "<style scoped>\n",
       "    .dataframe tbody tr th:only-of-type {\n",
       "        vertical-align: middle;\n",
       "    }\n",
       "\n",
       "    .dataframe tbody tr th {\n",
       "        vertical-align: top;\n",
       "    }\n",
       "\n",
       "    .dataframe thead th {\n",
       "        text-align: right;\n",
       "    }\n",
       "</style>\n",
       "<table border=\"1\" class=\"dataframe\">\n",
       "  <thead>\n",
       "    <tr style=\"text-align: right;\">\n",
       "      <th>modtag2</th>\n",
       "      <th>DEF</th>\n",
       "      <th>KL</th>\n",
       "      <th>DEF+PL</th>\n",
       "      <th>C</th>\n",
       "      <th>KL+PL+C</th>\n",
       "      <th>PL</th>\n",
       "      <th>QUANT</th>\n",
       "      <th>NUM+PL</th>\n",
       "      <th>KL+DEF+PL</th>\n",
       "      <th>NUM</th>\n",
       "      <th>NUM+DEF+PL</th>\n",
       "    </tr>\n",
       "    <tr>\n",
       "      <th>reg_group</th>\n",
       "      <th></th>\n",
       "      <th></th>\n",
       "      <th></th>\n",
       "      <th></th>\n",
       "      <th></th>\n",
       "      <th></th>\n",
       "      <th></th>\n",
       "      <th></th>\n",
       "      <th></th>\n",
       "      <th></th>\n",
       "      <th></th>\n",
       "    </tr>\n",
       "  </thead>\n",
       "  <tbody>\n",
       "    <tr>\n",
       "      <th>ב.כל.זמן</th>\n",
       "      <td>0%</td>\n",
       "      <td>81%</td>\n",
       "      <td>0%</td>\n",
       "      <td>0%</td>\n",
       "      <td>14%</td>\n",
       "      <td>0%</td>\n",
       "      <td>0%</td>\n",
       "      <td>0%</td>\n",
       "      <td>5%</td>\n",
       "      <td>0%</td>\n",
       "      <td>0%</td>\n",
       "    </tr>\n",
       "    <tr>\n",
       "      <th>ל.זמן</th>\n",
       "      <td>55%</td>\n",
       "      <td>0%</td>\n",
       "      <td>20%</td>\n",
       "      <td>5%</td>\n",
       "      <td>0%</td>\n",
       "      <td>10%</td>\n",
       "      <td>0%</td>\n",
       "      <td>5%</td>\n",
       "      <td>0%</td>\n",
       "      <td>5%</td>\n",
       "      <td>0%</td>\n",
       "    </tr>\n",
       "    <tr>\n",
       "      <th>ב.זמן.ב.זמן</th>\n",
       "      <td>82%</td>\n",
       "      <td>0%</td>\n",
       "      <td>12%</td>\n",
       "      <td>6%</td>\n",
       "      <td>0%</td>\n",
       "      <td>0%</td>\n",
       "      <td>0%</td>\n",
       "      <td>0%</td>\n",
       "      <td>0%</td>\n",
       "      <td>0%</td>\n",
       "      <td>0%</td>\n",
       "    </tr>\n",
       "    <tr>\n",
       "      <th>זמן.ב.זמן</th>\n",
       "      <td>0%</td>\n",
       "      <td>0%</td>\n",
       "      <td>0%</td>\n",
       "      <td>0%</td>\n",
       "      <td>0%</td>\n",
       "      <td>0%</td>\n",
       "      <td>100%</td>\n",
       "      <td>0%</td>\n",
       "      <td>0%</td>\n",
       "      <td>0%</td>\n",
       "      <td>0%</td>\n",
       "    </tr>\n",
       "    <tr>\n",
       "      <th>ל.זמן.ל.זמן</th>\n",
       "      <td>33%</td>\n",
       "      <td>0%</td>\n",
       "      <td>67%</td>\n",
       "      <td>0%</td>\n",
       "      <td>0%</td>\n",
       "      <td>0%</td>\n",
       "      <td>0%</td>\n",
       "      <td>0%</td>\n",
       "      <td>0%</td>\n",
       "      <td>0%</td>\n",
       "      <td>0%</td>\n",
       "    </tr>\n",
       "    <tr>\n",
       "      <th>זמן.בזמן</th>\n",
       "      <td>0%</td>\n",
       "      <td>0%</td>\n",
       "      <td>0%</td>\n",
       "      <td>50%</td>\n",
       "      <td>0%</td>\n",
       "      <td>0%</td>\n",
       "      <td>0%</td>\n",
       "      <td>0%</td>\n",
       "      <td>0%</td>\n",
       "      <td>0%</td>\n",
       "      <td>50%</td>\n",
       "    </tr>\n",
       "    <tr>\n",
       "      <th>בין.זמן</th>\n",
       "      <td>0%</td>\n",
       "      <td>0%</td>\n",
       "      <td>0%</td>\n",
       "      <td>0%</td>\n",
       "      <td>0%</td>\n",
       "      <td>0%</td>\n",
       "      <td>0%</td>\n",
       "      <td>100%</td>\n",
       "      <td>0%</td>\n",
       "      <td>0%</td>\n",
       "      <td>0%</td>\n",
       "    </tr>\n",
       "    <tr>\n",
       "      <th>זמן.על.זמן</th>\n",
       "      <td>0%</td>\n",
       "      <td>0%</td>\n",
       "      <td>0%</td>\n",
       "      <td>0%</td>\n",
       "      <td>0%</td>\n",
       "      <td>100%</td>\n",
       "      <td>0%</td>\n",
       "      <td>0%</td>\n",
       "      <td>0%</td>\n",
       "      <td>0%</td>\n",
       "      <td>0%</td>\n",
       "    </tr>\n",
       "  </tbody>\n",
       "</table>\n",
       "</div>"
      ],
      "text/plain": [
       "modtag2      DEF   KL DEF+PL    C KL+PL+C    PL QUANT NUM+PL KL+DEF+PL NUM  \\\n",
       "reg_group                                                                    \n",
       "ב.כל.זמן      0%  81%     0%   0%     14%    0%    0%     0%        5%  0%   \n",
       "ל.זמן        55%   0%    20%   5%      0%   10%    0%     5%        0%  5%   \n",
       "ב.זמן.ב.זמן  82%   0%    12%   6%      0%    0%    0%     0%        0%  0%   \n",
       "זמן.ב.זמן     0%   0%     0%   0%      0%    0%  100%     0%        0%  0%   \n",
       "ל.זמן.ל.זמן  33%   0%    67%   0%      0%    0%    0%     0%        0%  0%   \n",
       "זמן.בזמן      0%   0%     0%  50%      0%    0%    0%     0%        0%  0%   \n",
       "בין.זמן       0%   0%     0%   0%      0%    0%    0%   100%        0%  0%   \n",
       "זמן.על.זמן    0%   0%     0%   0%      0%  100%    0%     0%        0%  0%   \n",
       "\n",
       "modtag2     NUM+DEF+PL  \n",
       "reg_group               \n",
       "ב.כל.זמן            0%  \n",
       "ל.זמן               0%  \n",
       "ב.זמן.ב.זמן         0%  \n",
       "זמן.ב.זמן           0%  \n",
       "ל.זמן.ל.זמן         0%  \n",
       "זמן.בזמן           50%  \n",
       "בין.זמן             0%  \n",
       "זמן.על.זמן          0%  "
      ]
     },
     "execution_count": 101,
     "metadata": {},
     "output_type": "execute_result"
    }
   ],
   "source": [
    "out.table(\n",
    "    regrecmod_pc,\n",
    "    'regrecmod_pc',\n",
    "    caption='Modifier Percentages by Reg. Recurrence Patterns',\n",
    "    adjustbox=True,\n",
    ")"
   ]
  },
  {
   "cell_type": "markdown",
   "metadata": {},
   "source": [
    "## Atelic Extent"
   ]
  },
  {
   "cell_type": "code",
   "execution_count": 102,
   "metadata": {},
   "outputs": [],
   "source": [
    "ateldf = df[df.function == 'atelic_ext']"
   ]
  },
  {
   "cell_type": "code",
   "execution_count": 103,
   "metadata": {},
   "outputs": [
    {
     "name": "stdout",
     "output_type": "stream",
     "text": [
      "showing 5 of 5\n"
     ]
    },
    {
     "data": {
      "text/html": [
       "<style  type=\"text/css\" >\n",
       "#T_ff324_row0_col1,#T_ff324_row1_col1,#T_ff324_row2_col1,#T_ff324_row3_col1,#T_ff324_row4_col1{\n",
       "            font-size: 20px;\n",
       "             font-family:  Times New Roman;\n",
       "             text-align:  right;\n",
       "             max-width:  500px;\n",
       "        }</style><table id=\"T_ff324_\" ><thead>    <tr>        <th class=\"blank level0\" ></th>        <th class=\"col_heading level0 col0\" >verse</th>        <th class=\"col_heading level0 col1\" >clause</th>    </tr>    <tr>        <th class=\"index_name level0\" >node</th>        <th class=\"blank\" ></th>        <th class=\"blank\" ></th>    </tr></thead><tbody>\n",
       "                <tr>\n",
       "                        <th id=\"T_ff324_level0_row0\" class=\"row_heading level0 row0\" >491195</th>\n",
       "                        <td id=\"T_ff324_row0_col0\" class=\"data row0 col0\" >Psalms 23:6</td>\n",
       "                        <td id=\"T_ff324_row0_col1\" class=\"data row0 col1\" >וְשַׁבְתִּ֥י בְּבֵית־יְ֝הוָ֗ה לְאֹ֣רֶךְ יָמִֽים׃ </td>\n",
       "            </tr>\n",
       "            <tr>\n",
       "                        <th id=\"T_ff324_level0_row1\" class=\"row_heading level0 row1\" >494915</th>\n",
       "                        <td id=\"T_ff324_row1_col0\" class=\"data row1 col0\" >Psalms 93:5</td>\n",
       "                        <td id=\"T_ff324_row1_col1\" class=\"data row1 col1\" >לְבֵיתְךָ֥ נַאֲוָה־קֹ֑דֶשׁ לְאֹ֣רֶךְ יָמִֽים׃ </td>\n",
       "            </tr>\n",
       "            <tr>\n",
       "                        <th id=\"T_ff324_level0_row2\" class=\"row_heading level0 row2\" >513283</th>\n",
       "                        <td id=\"T_ff324_row2_col0\" class=\"data row2 col0\" >2_Chronicles 11:17</td>\n",
       "                        <td id=\"T_ff324_row2_col1\" class=\"data row2 col1\" >וַֽיְאַמְּצ֛וּ אֶת־רְחַבְעָ֥ם בֶּן־שְׁלֹמֹ֖ה לְשָׁנִ֣ים שָׁלֹ֑ושׁ </td>\n",
       "            </tr>\n",
       "            <tr>\n",
       "                        <th id=\"T_ff324_level0_row3\" class=\"row_heading level0 row3\" >513284</th>\n",
       "                        <td id=\"T_ff324_row3_col0\" class=\"data row3 col0\" >2_Chronicles 11:17</td>\n",
       "                        <td id=\"T_ff324_row3_col1\" class=\"data row3 col1\" >כִּ֣י הָֽלְכ֗וּ בְּדֶ֧רֶךְ דָּוִ֛יד וּשְׁלֹמֹ֖ה לְשָׁנִ֥ים שָׁלֹֽושׁ׃ </td>\n",
       "            </tr>\n",
       "            <tr>\n",
       "                        <th id=\"T_ff324_level0_row4\" class=\"row_heading level0 row4\" >514853</th>\n",
       "                        <td id=\"T_ff324_row4_col0\" class=\"data row4 col0\" >2_Chronicles 29:17</td>\n",
       "                        <td id=\"T_ff324_row4_col1\" class=\"data row4 col1\" >וַיְקַדְּשׁ֥וּ אֶת־בֵּית־יְהוָ֖ה לְיָמִ֣ים שְׁמֹונָ֑ה </td>\n",
       "            </tr>\n",
       "    </tbody></table>"
      ],
      "text/plain": [
       "<pandas.io.formats.style.Styler at 0x7f917fa0c310>"
      ]
     },
     "execution_count": 103,
     "metadata": {},
     "output_type": "execute_result"
    }
   ],
   "source": [
    "ts.show(\n",
    "    ateldf[ateldf.front == 'ל']\n",
    ")"
   ]
  },
  {
   "cell_type": "code",
   "execution_count": 113,
   "metadata": {},
   "outputs": [
    {
     "data": {
      "text/plain": [
       "'5'"
      ]
     },
     "execution_count": 113,
     "metadata": {},
     "output_type": "execute_result"
    }
   ],
   "source": [
    "out.number(\n",
    "    ateldf[ateldf.front == 'ל'].shape[0],\n",
    "    'atelext_ל_N'\n",
    ")"
   ]
  },
  {
   "cell_type": "code",
   "execution_count": 115,
   "metadata": {},
   "outputs": [],
   "source": [
    "# ts.show(\n",
    "#     df[df.front == 'ל'].sort_values(by='notes'),\n",
    "#     extra=['notes']\n",
    "# )"
   ]
  },
  {
   "cell_type": "code",
   "execution_count": 104,
   "metadata": {},
   "outputs": [
    {
     "name": "stdout",
     "output_type": "stream",
     "text": [
      "showing 1 of 1\n"
     ]
    },
    {
     "data": {
      "text/html": [
       "<style  type=\"text/css\" >\n",
       "#T_14524_row0_col1{\n",
       "            font-size: 20px;\n",
       "             font-family:  Times New Roman;\n",
       "             text-align:  right;\n",
       "             max-width:  500px;\n",
       "        }</style><table id=\"T_14524_\" ><thead>    <tr>        <th class=\"blank level0\" ></th>        <th class=\"col_heading level0 col0\" >verse</th>        <th class=\"col_heading level0 col1\" >clause</th>    </tr>    <tr>        <th class=\"index_name level0\" >node</th>        <th class=\"blank\" ></th>        <th class=\"blank\" ></th>    </tr></thead><tbody>\n",
       "                <tr>\n",
       "                        <th id=\"T_14524_level0_row0\" class=\"row_heading level0 row0\" >509294</th>\n",
       "                        <td id=\"T_14524_row0_col0\" class=\"data row0 col0\" >Nehemiah 9:3</td>\n",
       "                        <td id=\"T_14524_row0_col1\" class=\"data row0 col1\" >וּרְבִעִית֙ מִתְוַדִּ֣ים </td>\n",
       "            </tr>\n",
       "    </tbody></table>"
      ],
      "text/plain": [
       "<pandas.io.formats.style.Styler at 0x7f917e4c7640>"
      ]
     },
     "execution_count": 104,
     "metadata": {},
     "output_type": "execute_result"
    }
   ],
   "source": [
    "ts.show(\n",
    "    ateldf[ateldf.front == 'רביעי']\n",
    ")"
   ]
  },
  {
   "cell_type": "code",
   "execution_count": 116,
   "metadata": {
    "collapsed": true,
    "jupyter": {
     "outputs_hidden": true
    }
   },
   "outputs": [
    {
     "name": "stdout",
     "output_type": "stream",
     "text": [
      "showing 25 of 34\n"
     ]
    },
    {
     "data": {
      "text/html": [
       "<style  type=\"text/css\" >\n",
       "#T_01887_row0_col1,#T_01887_row1_col1,#T_01887_row2_col1,#T_01887_row3_col1,#T_01887_row4_col1,#T_01887_row5_col1,#T_01887_row6_col1,#T_01887_row7_col1,#T_01887_row8_col1,#T_01887_row9_col1,#T_01887_row10_col1,#T_01887_row11_col1,#T_01887_row12_col1,#T_01887_row13_col1,#T_01887_row14_col1,#T_01887_row15_col1,#T_01887_row16_col1,#T_01887_row17_col1,#T_01887_row18_col1,#T_01887_row19_col1,#T_01887_row20_col1,#T_01887_row21_col1,#T_01887_row22_col1,#T_01887_row23_col1,#T_01887_row24_col1{\n",
       "            font-size: 20px;\n",
       "             font-family:  Times New Roman;\n",
       "             text-align:  right;\n",
       "             max-width:  500px;\n",
       "        }</style><table id=\"T_01887_\" ><thead>    <tr>        <th class=\"blank level0\" ></th>        <th class=\"col_heading level0 col0\" >verse</th>        <th class=\"col_heading level0 col1\" >clause</th>    </tr>    <tr>        <th class=\"index_name level0\" >node</th>        <th class=\"blank\" ></th>        <th class=\"blank\" ></th>    </tr></thead><tbody>\n",
       "                <tr>\n",
       "                        <th id=\"T_01887_level0_row0\" class=\"row_heading level0 row0\" >432263</th>\n",
       "                        <td id=\"T_01887_row0_col0\" class=\"data row0 col0\" >Genesis 41:36</td>\n",
       "                        <td id=\"T_01887_row0_col1\" class=\"data row0 col1\" >וְהָיָ֨ה הָאֹ֤כֶל לְפִקָּדֹון֙ לָאָ֔רֶץ לְשֶׁ֨בַע֙ שְׁנֵ֣י הָרָעָ֔ב </td>\n",
       "            </tr>\n",
       "            <tr>\n",
       "                        <th id=\"T_01887_level0_row1\" class=\"row_heading level0 row1\" >439051</th>\n",
       "                        <td id=\"T_01887_row1_col0\" class=\"data row1 col0\" >Leviticus 13:21</td>\n",
       "                        <td id=\"T_01887_row1_col1\" class=\"data row1 col1\" >וְהִסְגִּירֹ֥ו הַכֹּהֵ֖ן שִׁבְעַ֥ת יָמִֽים׃ </td>\n",
       "            </tr>\n",
       "            <tr>\n",
       "                        <th id=\"T_01887_level0_row2\" class=\"row_heading level0 row2\" >439075</th>\n",
       "                        <td id=\"T_01887_row2_col0\" class=\"data row2 col0\" >Leviticus 13:26</td>\n",
       "                        <td id=\"T_01887_row2_col1\" class=\"data row2 col1\" >וְהִסְגִּירֹ֥ו הַכֹּהֵ֖ן שִׁבְעַ֥ת יָמִֽים׃ </td>\n",
       "            </tr>\n",
       "            <tr>\n",
       "                        <th id=\"T_01887_level0_row3\" class=\"row_heading level0 row3\" >439107</th>\n",
       "                        <td id=\"T_01887_row3_col0\" class=\"data row3 col0\" >Leviticus 13:33</td>\n",
       "                        <td id=\"T_01887_row3_col1\" class=\"data row3 col1\" >וְהִסְגִּ֨יר הַכֹּהֵ֧ן אֶת־הַנֶּ֛תֶק שִׁבְעַ֥ת יָמִ֖ים שֵׁנִֽית׃ </td>\n",
       "            </tr>\n",
       "            <tr>\n",
       "                        <th id=\"T_01887_level0_row4\" class=\"row_heading level0 row4\" >439171</th>\n",
       "                        <td id=\"T_01887_row4_col0\" class=\"data row4 col0\" >Leviticus 13:50</td>\n",
       "                        <td id=\"T_01887_row4_col1\" class=\"data row4 col1\" >וְהִסְגִּ֥יר אֶת־הַנֶּ֖גַע שִׁבְעַ֥ת יָמִֽים׃ </td>\n",
       "            </tr>\n",
       "            <tr>\n",
       "                        <th id=\"T_01887_level0_row5\" class=\"row_heading level0 row5\" >439187</th>\n",
       "                        <td id=\"T_01887_row5_col0\" class=\"data row5 col0\" >Leviticus 13:54</td>\n",
       "                        <td id=\"T_01887_row5_col1\" class=\"data row5 col1\" >וְהִסְגִּירֹ֥ו שִׁבְעַת־יָמִ֖ים שֵׁנִֽית׃ </td>\n",
       "            </tr>\n",
       "            <tr>\n",
       "                        <th id=\"T_01887_level0_row6\" class=\"row_heading level0 row6\" >442168</th>\n",
       "                        <td id=\"T_01887_row6_col0\" class=\"data row6 col0\" >Numbers 11:32</td>\n",
       "                        <td id=\"T_01887_row6_col1\" class=\"data row6 col1\" >וַיָּ֣קָם הָעָ֡ם כָּל־הַיֹּום֩ הַה֨וּא וְכָל־הַלַּ֜יְלָה וְכֹ֣ל׀ יֹ֣ום הַֽמָּחֳרָ֗ת </td>\n",
       "            </tr>\n",
       "            <tr>\n",
       "                        <th id=\"T_01887_level0_row7\" class=\"row_heading level0 row7\" >442233</th>\n",
       "                        <td id=\"T_01887_row7_col0\" class=\"data row7 col0\" >Numbers 12:14</td>\n",
       "                        <td id=\"T_01887_row7_col1\" class=\"data row7 col1\" >תִּסָּגֵ֞ר שִׁבְעַ֤ת יָמִים֙ מִח֣וּץ לַֽמַּחֲנֶ֔ה </td>\n",
       "            </tr>\n",
       "            <tr>\n",
       "                        <th id=\"T_01887_level0_row8\" class=\"row_heading level0 row8\" >442235</th>\n",
       "                        <td id=\"T_01887_row8_col0\" class=\"data row8 col0\" >Numbers 12:15</td>\n",
       "                        <td id=\"T_01887_row8_col1\" class=\"data row8 col1\" >וַתִּסָּגֵ֥ר מִרְיָ֛ם מִח֥וּץ לַֽמַּחֲנֶ֖ה שִׁבְעַ֣ת יָמִ֑ים </td>\n",
       "            </tr>\n",
       "            <tr>\n",
       "                        <th id=\"T_01887_level0_row9\" class=\"row_heading level0 row9\" >451679</th>\n",
       "                        <td id=\"T_01887_row9_col0\" class=\"data row9 col0\" >Judges 6:1</td>\n",
       "                        <td id=\"T_01887_row9_col1\" class=\"data row9 col1\" >וַיִּתְּנֵ֧ם יְהוָ֛ה בְּיַד־מִדְיָ֖ן שֶׁ֥בַע שָׁנִֽים׃ </td>\n",
       "            </tr>\n",
       "            <tr>\n",
       "                        <th id=\"T_01887_level0_row10\" class=\"row_heading level0 row10\" >452644</th>\n",
       "                        <td id=\"T_01887_row10_col0\" class=\"data row10 col0\" >Judges 11:38</td>\n",
       "                        <td id=\"T_01887_row10_col1\" class=\"data row10 col1\" >וַיִּשְׁלַ֥ח אֹותָ֖הּ שְׁנֵ֣י חֳדָשִׁ֑ים </td>\n",
       "            </tr>\n",
       "            <tr>\n",
       "                        <th id=\"T_01887_level0_row11\" class=\"row_heading level0 row11\" >457566</th>\n",
       "                        <td id=\"T_01887_row11_col0\" class=\"data row11 col0\" >1_Samuel 28:2</td>\n",
       "                        <td id=\"T_01887_row11_col1\" class=\"data row11 col1\" >לָכֵ֗ן שֹׁמֵ֧ר לְרֹאשִׁ֛י אֲשִֽׂימְךָ֖ כָּל־הַיָּמִֽים׃ פ </td>\n",
       "            </tr>\n",
       "            <tr>\n",
       "                        <th id=\"T_01887_level0_row12\" class=\"row_heading level0 row12\" >460534</th>\n",
       "                        <td id=\"T_01887_row12_col0\" class=\"data row12 col0\" >2_Samuel 20:4</td>\n",
       "                        <td id=\"T_01887_row12_col1\" class=\"data row12 col1\" >הַזְעֶק־לִ֥י אֶת־אִישׁ־יְהוּדָ֖ה שְׁלֹ֣שֶׁת יָמִ֑ים </td>\n",
       "            </tr>\n",
       "            <tr>\n",
       "                        <th id=\"T_01887_level0_row13\" class=\"row_heading level0 row13\" >461071</th>\n",
       "                        <td id=\"T_01887_row13_col0\" class=\"data row13 col0\" >2_Samuel 24:13</td>\n",
       "                        <td id=\"T_01887_row13_col1\" class=\"data row13 col1\" >הֲתָבֹ֣וא לְךָ֣ שֶֽׁבַע שָׁנִ֣ים׀ רָעָ֣ב׀ בְּאַרְצֶ֡ךָ </td>\n",
       "            </tr>\n",
       "            <tr>\n",
       "                        <th id=\"T_01887_level0_row14\" class=\"row_heading level0 row14\" >462499</th>\n",
       "                        <td id=\"T_01887_row14_col0\" class=\"data row14 col0\" >1_Kings 9:5</td>\n",
       "                        <td id=\"T_01887_row14_col1\" class=\"data row14 col1\" >וַהֲקִ֨מֹתִ֜י אֶת־כִּסֵּ֧א מַֽמְלַכְתְּךָ֛ עַל־יִשְׂרָאֵ֖ל לְעֹלָ֑ם </td>\n",
       "            </tr>\n",
       "            <tr>\n",
       "                        <th id=\"T_01887_level0_row15\" class=\"row_heading level0 row15\" >462800</th>\n",
       "                        <td id=\"T_01887_row15_col0\" class=\"data row15 col0\" >1_Kings 11:34</td>\n",
       "                        <td id=\"T_01887_row15_col1\" class=\"data row15 col1\" >כִּ֣י׀ נָשִׂ֣יא אֲשִׁתֶ֗נּוּ כֹּ֚ל יְמֵ֣י חַיָּ֔יו לְמַ֨עַן דָּוִ֤ד עַבְדִּי֙ </td>\n",
       "            </tr>\n",
       "            <tr>\n",
       "                        <th id=\"T_01887_level0_row16\" class=\"row_heading level0 row16\" >462860</th>\n",
       "                        <td id=\"T_01887_row16_col0\" class=\"data row16 col0\" >1_Kings 12:5</td>\n",
       "                        <td id=\"T_01887_row16_col1\" class=\"data row16 col1\" >לְכ֥וּ עֹ֛ד שְׁלֹשָׁ֥ה יָמִ֖ים </td>\n",
       "            </tr>\n",
       "            <tr>\n",
       "                        <th id=\"T_01887_level0_row17\" class=\"row_heading level0 row17\" >465900</th>\n",
       "                        <td id=\"T_01887_row17_col0\" class=\"data row17 col0\" >2_Kings 8:1</td>\n",
       "                        <td id=\"T_01887_row17_col1\" class=\"data row17 col1\" >וְגַם־בָּ֥א אֶל־הָאָ֖רֶץ שֶׁ֥בַע שָׁנִֽים׃ </td>\n",
       "            </tr>\n",
       "            <tr>\n",
       "                        <th id=\"T_01887_level0_row18\" class=\"row_heading level0 row18\" >466003</th>\n",
       "                        <td id=\"T_01887_row18_col0\" class=\"data row18 col0\" >2_Kings 8:19</td>\n",
       "                        <td id=\"T_01887_row18_col1\" class=\"data row18 col1\" >לְבָנָ֖יו כָּל־הַיָּמִֽים׃ </td>\n",
       "            </tr>\n",
       "            <tr>\n",
       "                        <th id=\"T_01887_level0_row19\" class=\"row_heading level0 row19\" >467647</th>\n",
       "                        <td id=\"T_01887_row19_col0\" class=\"data row19 col0\" >2_Kings 21:7</td>\n",
       "                        <td id=\"T_01887_row19_col1\" class=\"data row19 col1\" >בַּבַּ֨יִת הַזֶּ֜ה וּבִירוּשָׁלִַ֗ם אָשִׂ֥ים אֶת־שְׁמִ֖י לְעֹולָֽם׃ </td>\n",
       "            </tr>\n",
       "            <tr>\n",
       "                        <th id=\"T_01887_level0_row20\" class=\"row_heading level0 row20\" >469809</th>\n",
       "                        <td id=\"T_01887_row20_col0\" class=\"data row20 col0\" >Isaiah 23:15</td>\n",
       "                        <td id=\"T_01887_row20_col1\" class=\"data row20 col1\" >וְנִשְׁכַּ֤חַת צֹר֙ שִׁבְעִ֣ים שָׁנָ֔ה כִּימֵ֖י מֶ֣לֶךְ אֶחָ֑ד </td>\n",
       "            </tr>\n",
       "            <tr>\n",
       "                        <th id=\"T_01887_level0_row21\" class=\"row_heading level0 row21\" >484481</th>\n",
       "                        <td id=\"T_01887_row21_col0\" class=\"data row21 col0\" >Ezekiel 39:12</td>\n",
       "                        <td id=\"T_01887_row21_col1\" class=\"data row21 col1\" >לְמַ֖עַן טַהֵ֣ר אֶת־הָאָ֑רֶץ שִׁבְעָ֖ה חֳדָשִֽׁים׃ </td>\n",
       "            </tr>\n",
       "            <tr>\n",
       "                        <th id=\"T_01887_level0_row22\" class=\"row_heading level0 row22\" >507356</th>\n",
       "                        <td id=\"T_01887_row22_col0\" class=\"data row22 col0\" >Daniel 9:27</td>\n",
       "                        <td id=\"T_01887_row22_col1\" class=\"data row22 col1\" >וְהִגְבִּ֥יר בְּרִ֛ית לָרַבִּ֖ים שָׁב֣וּעַ אֶחָ֑ד </td>\n",
       "            </tr>\n",
       "            <tr>\n",
       "                        <th id=\"T_01887_level0_row23\" class=\"row_heading level0 row23\" >514102</th>\n",
       "                        <td id=\"T_01887_row23_col0\" class=\"data row23 col0\" >2_Chronicles 21:7</td>\n",
       "                        <td id=\"T_01887_row23_col1\" class=\"data row23 col1\" >וּלְבָנָ֖יו כָּל־הַיָּמִֽים׃ </td>\n",
       "            </tr>\n",
       "            <tr>\n",
       "                        <th id=\"T_01887_level0_row24\" class=\"row_heading level0 row24\" >514959</th>\n",
       "                        <td id=\"T_01887_row24_col0\" class=\"data row24 col0\" >2_Chronicles 30:8</td>\n",
       "                        <td id=\"T_01887_row24_col1\" class=\"data row24 col1\" >אֲשֶׁ֣ר הִקְדִּ֣ישׁ לְעֹולָ֔ם </td>\n",
       "            </tr>\n",
       "    </tbody></table>"
      ],
      "text/plain": [
       "<pandas.io.formats.style.Styler at 0x7f917fccf5e0>"
      ]
     },
     "execution_count": 116,
     "metadata": {},
     "output_type": "execute_result"
    }
   ],
   "source": [
    "# get some purposive extents for illustrating L-atelic ext\n",
    "\n",
    "ts.show(\n",
    "    df[df.function == 'purposive_ext']\n",
    ")"
   ]
  },
  {
   "cell_type": "code",
   "execution_count": 118,
   "metadata": {},
   "outputs": [
    {
     "data": {
      "text/plain": [
       "'2'"
      ]
     },
     "execution_count": 118,
     "metadata": {},
     "output_type": "execute_result"
    }
   ],
   "source": [
    "et_atel = ateldf[ateldf.front == 'את']\n",
    "\n",
    "out.number(\n",
    "    et_atel.shape[0],\n",
    "    'atelext_et_N'\n",
    ")"
   ]
  },
  {
   "cell_type": "code",
   "execution_count": 119,
   "metadata": {},
   "outputs": [
    {
     "data": {
      "text/plain": [
       "'2'"
      ]
     },
     "execution_count": 119,
     "metadata": {},
     "output_type": "execute_result"
    }
   ],
   "source": [
    "K_atel = ateldf[ateldf.front == 'כ']\n",
    "\n",
    "out.number(\n",
    "    K_atel.shape[0],\n",
    "    'atelext_K_N'\n",
    ")"
   ]
  },
  {
   "cell_type": "code",
   "execution_count": 120,
   "metadata": {},
   "outputs": [
    {
     "name": "stdout",
     "output_type": "stream",
     "text": [
      "showing 2 of 2\n"
     ]
    },
    {
     "data": {
      "text/html": [
       "<style  type=\"text/css\" >\n",
       "#T_2d53d_row0_col1,#T_2d53d_row1_col1{\n",
       "            font-size: 20px;\n",
       "             font-family:  Times New Roman;\n",
       "             text-align:  right;\n",
       "             max-width:  500px;\n",
       "        }</style><table id=\"T_2d53d_\" ><thead>    <tr>        <th class=\"blank level0\" ></th>        <th class=\"col_heading level0 col0\" >verse</th>        <th class=\"col_heading level0 col1\" >clause</th>    </tr>    <tr>        <th class=\"index_name level0\" >node</th>        <th class=\"blank\" ></th>        <th class=\"blank\" ></th>    </tr></thead><tbody>\n",
       "                <tr>\n",
       "                        <th id=\"T_2d53d_level0_row0\" class=\"row_heading level0 row0\" >489371</th>\n",
       "                        <td id=\"T_2d53d_row0_col0\" class=\"data row0 col0\" >Zechariah 7:3</td>\n",
       "                        <td id=\"T_2d53d_row0_col1\" class=\"data row0 col1\" >כַּאֲשֶׁ֣ר עָשִׂ֔יתִי זֶ֖ה כַּמֶּ֥ה שָׁנִֽים׃ פ </td>\n",
       "            </tr>\n",
       "            <tr>\n",
       "                        <th id=\"T_2d53d_level0_row1\" class=\"row_heading level0 row1\" >502838</th>\n",
       "                        <td id=\"T_2d53d_row1_col0\" class=\"data row1 col0\" >Ruth 1:4</td>\n",
       "                        <td id=\"T_2d53d_row1_col1\" class=\"data row1 col1\" >וַיֵּ֥שְׁבוּ שָׁ֖ם כְּעֶ֥שֶׂר שָׁנִֽים׃ </td>\n",
       "            </tr>\n",
       "    </tbody></table>"
      ],
      "text/plain": [
       "<pandas.io.formats.style.Styler at 0x7f91801af3d0>"
      ]
     },
     "execution_count": 120,
     "metadata": {},
     "output_type": "execute_result"
    }
   ],
   "source": [
    "ts.show(\n",
    "    K_atel\n",
    ")"
   ]
  },
  {
   "cell_type": "markdown",
   "metadata": {},
   "source": [
    "### Phrase types"
   ]
  },
  {
   "cell_type": "code",
   "execution_count": 44,
   "metadata": {
    "collapsed": true,
    "jupyter": {
     "outputs_hidden": true
    }
   },
   "outputs": [
    {
     "name": "stdout",
     "output_type": "stream",
     "text": [
      "simultaneous\n",
      "sim_phtype_ct\n"
     ]
    },
    {
     "data": {
      "text/html": [
       "<div>\n",
       "<style scoped>\n",
       "    .dataframe tbody tr th:only-of-type {\n",
       "        vertical-align: middle;\n",
       "    }\n",
       "\n",
       "    .dataframe tbody tr th {\n",
       "        vertical-align: top;\n",
       "    }\n",
       "\n",
       "    .dataframe thead th {\n",
       "        text-align: right;\n",
       "    }\n",
       "</style>\n",
       "<table border=\"1\" class=\"dataframe\">\n",
       "  <thead>\n",
       "    <tr style=\"text-align: right;\">\n",
       "      <th></th>\n",
       "      <th>count</th>\n",
       "      <th>percent</th>\n",
       "    </tr>\n",
       "    <tr>\n",
       "      <th>Phrase Type</th>\n",
       "      <th></th>\n",
       "      <th></th>\n",
       "    </tr>\n",
       "  </thead>\n",
       "  <tbody>\n",
       "    <tr>\n",
       "      <th>PP</th>\n",
       "      <td>1196</td>\n",
       "      <td>61%</td>\n",
       "    </tr>\n",
       "    <tr>\n",
       "      <th>ADVB</th>\n",
       "      <td>458</td>\n",
       "      <td>24%</td>\n",
       "    </tr>\n",
       "    <tr>\n",
       "      <th>NP</th>\n",
       "      <td>293</td>\n",
       "      <td>15%</td>\n",
       "    </tr>\n",
       "  </tbody>\n",
       "</table>\n",
       "</div>"
      ],
      "text/plain": [
       "             count percent\n",
       "Phrase Type               \n",
       "PP            1196     61%\n",
       "ADVB           458     24%\n",
       "NP             293     15%"
      ]
     },
     "metadata": {},
     "output_type": "display_data"
    },
    {
     "name": "stdout",
     "output_type": "stream",
     "text": [
      "--------------------\n",
      "anterior_dur\n",
      "antdur_phtype_ct\n"
     ]
    },
    {
     "data": {
      "text/html": [
       "<div>\n",
       "<style scoped>\n",
       "    .dataframe tbody tr th:only-of-type {\n",
       "        vertical-align: middle;\n",
       "    }\n",
       "\n",
       "    .dataframe tbody tr th {\n",
       "        vertical-align: top;\n",
       "    }\n",
       "\n",
       "    .dataframe thead th {\n",
       "        text-align: right;\n",
       "    }\n",
       "</style>\n",
       "<table border=\"1\" class=\"dataframe\">\n",
       "  <thead>\n",
       "    <tr style=\"text-align: right;\">\n",
       "      <th></th>\n",
       "      <th>count</th>\n",
       "      <th>percent</th>\n",
       "    </tr>\n",
       "    <tr>\n",
       "      <th>Phrase Type</th>\n",
       "      <th></th>\n",
       "      <th></th>\n",
       "    </tr>\n",
       "  </thead>\n",
       "  <tbody>\n",
       "    <tr>\n",
       "      <th>PP</th>\n",
       "      <td>434</td>\n",
       "      <td>100%</td>\n",
       "    </tr>\n",
       "  </tbody>\n",
       "</table>\n",
       "</div>"
      ],
      "text/plain": [
       "             count percent\n",
       "Phrase Type               \n",
       "PP             434    100%"
      ]
     },
     "metadata": {},
     "output_type": "display_data"
    },
    {
     "name": "stdout",
     "output_type": "stream",
     "text": [
      "--------------------\n",
      "anterior\n",
      "ant_phtype_ct\n"
     ]
    },
    {
     "data": {
      "text/html": [
       "<div>\n",
       "<style scoped>\n",
       "    .dataframe tbody tr th:only-of-type {\n",
       "        vertical-align: middle;\n",
       "    }\n",
       "\n",
       "    .dataframe tbody tr th {\n",
       "        vertical-align: top;\n",
       "    }\n",
       "\n",
       "    .dataframe thead th {\n",
       "        text-align: right;\n",
       "    }\n",
       "</style>\n",
       "<table border=\"1\" class=\"dataframe\">\n",
       "  <thead>\n",
       "    <tr style=\"text-align: right;\">\n",
       "      <th></th>\n",
       "      <th>count</th>\n",
       "      <th>percent</th>\n",
       "    </tr>\n",
       "    <tr>\n",
       "      <th>Phrase Type</th>\n",
       "      <th></th>\n",
       "      <th></th>\n",
       "    </tr>\n",
       "  </thead>\n",
       "  <tbody>\n",
       "    <tr>\n",
       "      <th>PP</th>\n",
       "      <td>28</td>\n",
       "      <td>88%</td>\n",
       "    </tr>\n",
       "    <tr>\n",
       "      <th>ADVB</th>\n",
       "      <td>4</td>\n",
       "      <td>12%</td>\n",
       "    </tr>\n",
       "  </tbody>\n",
       "</table>\n",
       "</div>"
      ],
      "text/plain": [
       "             count percent\n",
       "Phrase Type               \n",
       "PP              28     88%\n",
       "ADVB             4     12%"
      ]
     },
     "metadata": {},
     "output_type": "display_data"
    },
    {
     "name": "stdout",
     "output_type": "stream",
     "text": [
      "--------------------\n",
      "atelic_ext\n",
      "atel_phtype_ct\n"
     ]
    },
    {
     "data": {
      "text/html": [
       "<div>\n",
       "<style scoped>\n",
       "    .dataframe tbody tr th:only-of-type {\n",
       "        vertical-align: middle;\n",
       "    }\n",
       "\n",
       "    .dataframe tbody tr th {\n",
       "        vertical-align: top;\n",
       "    }\n",
       "\n",
       "    .dataframe thead th {\n",
       "        text-align: right;\n",
       "    }\n",
       "</style>\n",
       "<table border=\"1\" class=\"dataframe\">\n",
       "  <thead>\n",
       "    <tr style=\"text-align: right;\">\n",
       "      <th></th>\n",
       "      <th>count</th>\n",
       "      <th>percent</th>\n",
       "    </tr>\n",
       "    <tr>\n",
       "      <th>Phrase Type</th>\n",
       "      <th></th>\n",
       "      <th></th>\n",
       "    </tr>\n",
       "  </thead>\n",
       "  <tbody>\n",
       "    <tr>\n",
       "      <th>NP</th>\n",
       "      <td>521</td>\n",
       "      <td>90%</td>\n",
       "    </tr>\n",
       "    <tr>\n",
       "      <th>ADVB</th>\n",
       "      <td>46</td>\n",
       "      <td>8%</td>\n",
       "    </tr>\n",
       "    <tr>\n",
       "      <th>PP</th>\n",
       "      <td>9</td>\n",
       "      <td>2%</td>\n",
       "    </tr>\n",
       "  </tbody>\n",
       "</table>\n",
       "</div>"
      ],
      "text/plain": [
       "             count percent\n",
       "Phrase Type               \n",
       "NP             521     90%\n",
       "ADVB            46      8%\n",
       "PP               9      2%"
      ]
     },
     "metadata": {},
     "output_type": "display_data"
    },
    {
     "name": "stdout",
     "output_type": "stream",
     "text": [
      "--------------------\n",
      "habitual\n",
      "hab_phtype_ct\n"
     ]
    },
    {
     "data": {
      "text/html": [
       "<div>\n",
       "<style scoped>\n",
       "    .dataframe tbody tr th:only-of-type {\n",
       "        vertical-align: middle;\n",
       "    }\n",
       "\n",
       "    .dataframe tbody tr th {\n",
       "        vertical-align: top;\n",
       "    }\n",
       "\n",
       "    .dataframe thead th {\n",
       "        text-align: right;\n",
       "    }\n",
       "</style>\n",
       "<table border=\"1\" class=\"dataframe\">\n",
       "  <thead>\n",
       "    <tr style=\"text-align: right;\">\n",
       "      <th></th>\n",
       "      <th>count</th>\n",
       "      <th>percent</th>\n",
       "    </tr>\n",
       "    <tr>\n",
       "      <th>Phrase Type</th>\n",
       "      <th></th>\n",
       "      <th></th>\n",
       "    </tr>\n",
       "  </thead>\n",
       "  <tbody>\n",
       "    <tr>\n",
       "      <th>PP</th>\n",
       "      <td>42</td>\n",
       "      <td>68%</td>\n",
       "    </tr>\n",
       "    <tr>\n",
       "      <th>NP</th>\n",
       "      <td>20</td>\n",
       "      <td>32%</td>\n",
       "    </tr>\n",
       "  </tbody>\n",
       "</table>\n",
       "</div>"
      ],
      "text/plain": [
       "             count percent\n",
       "Phrase Type               \n",
       "PP              42     68%\n",
       "NP              20     32%"
      ]
     },
     "metadata": {},
     "output_type": "display_data"
    },
    {
     "name": "stdout",
     "output_type": "stream",
     "text": [
      "--------------------\n",
      "posterior\n",
      "post_phtype_ct\n"
     ]
    },
    {
     "data": {
      "text/html": [
       "<div>\n",
       "<style scoped>\n",
       "    .dataframe tbody tr th:only-of-type {\n",
       "        vertical-align: middle;\n",
       "    }\n",
       "\n",
       "    .dataframe tbody tr th {\n",
       "        vertical-align: top;\n",
       "    }\n",
       "\n",
       "    .dataframe thead th {\n",
       "        text-align: right;\n",
       "    }\n",
       "</style>\n",
       "<table border=\"1\" class=\"dataframe\">\n",
       "  <thead>\n",
       "    <tr style=\"text-align: right;\">\n",
       "      <th></th>\n",
       "      <th>count</th>\n",
       "      <th>percent</th>\n",
       "    </tr>\n",
       "    <tr>\n",
       "      <th>Phrase Type</th>\n",
       "      <th></th>\n",
       "      <th></th>\n",
       "    </tr>\n",
       "  </thead>\n",
       "  <tbody>\n",
       "    <tr>\n",
       "      <th>PP</th>\n",
       "      <td>191</td>\n",
       "      <td>85%</td>\n",
       "    </tr>\n",
       "    <tr>\n",
       "      <th>ADVB</th>\n",
       "      <td>34</td>\n",
       "      <td>15%</td>\n",
       "    </tr>\n",
       "  </tbody>\n",
       "</table>\n",
       "</div>"
      ],
      "text/plain": [
       "             count percent\n",
       "Phrase Type               \n",
       "PP             191     85%\n",
       "ADVB            34     15%"
      ]
     },
     "metadata": {},
     "output_type": "display_data"
    },
    {
     "name": "stdout",
     "output_type": "stream",
     "text": [
      "--------------------\n",
      "posterior_dur\n",
      "postdur_phtype_ct\n"
     ]
    },
    {
     "data": {
      "text/html": [
       "<div>\n",
       "<style scoped>\n",
       "    .dataframe tbody tr th:only-of-type {\n",
       "        vertical-align: middle;\n",
       "    }\n",
       "\n",
       "    .dataframe tbody tr th {\n",
       "        vertical-align: top;\n",
       "    }\n",
       "\n",
       "    .dataframe thead th {\n",
       "        text-align: right;\n",
       "    }\n",
       "</style>\n",
       "<table border=\"1\" class=\"dataframe\">\n",
       "  <thead>\n",
       "    <tr style=\"text-align: right;\">\n",
       "      <th></th>\n",
       "      <th>count</th>\n",
       "      <th>percent</th>\n",
       "    </tr>\n",
       "    <tr>\n",
       "      <th>Phrase Type</th>\n",
       "      <th></th>\n",
       "      <th></th>\n",
       "    </tr>\n",
       "  </thead>\n",
       "  <tbody>\n",
       "    <tr>\n",
       "      <th>PP</th>\n",
       "      <td>66</td>\n",
       "      <td>100%</td>\n",
       "    </tr>\n",
       "  </tbody>\n",
       "</table>\n",
       "</div>"
      ],
      "text/plain": [
       "             count percent\n",
       "Phrase Type               \n",
       "PP              66    100%"
      ]
     },
     "metadata": {},
     "output_type": "display_data"
    },
    {
     "name": "stdout",
     "output_type": "stream",
     "text": [
      "--------------------\n",
      "telic_ext\n",
      "telic_phtype_ct\n"
     ]
    },
    {
     "data": {
      "text/html": [
       "<div>\n",
       "<style scoped>\n",
       "    .dataframe tbody tr th:only-of-type {\n",
       "        vertical-align: middle;\n",
       "    }\n",
       "\n",
       "    .dataframe tbody tr th {\n",
       "        vertical-align: top;\n",
       "    }\n",
       "\n",
       "    .dataframe thead th {\n",
       "        text-align: right;\n",
       "    }\n",
       "</style>\n",
       "<table border=\"1\" class=\"dataframe\">\n",
       "  <thead>\n",
       "    <tr style=\"text-align: right;\">\n",
       "      <th></th>\n",
       "      <th>count</th>\n",
       "      <th>percent</th>\n",
       "    </tr>\n",
       "    <tr>\n",
       "      <th>Phrase Type</th>\n",
       "      <th></th>\n",
       "      <th></th>\n",
       "    </tr>\n",
       "  </thead>\n",
       "  <tbody>\n",
       "    <tr>\n",
       "      <th>PP</th>\n",
       "      <td>8</td>\n",
       "      <td>57%</td>\n",
       "    </tr>\n",
       "    <tr>\n",
       "      <th>NP</th>\n",
       "      <td>6</td>\n",
       "      <td>43%</td>\n",
       "    </tr>\n",
       "  </tbody>\n",
       "</table>\n",
       "</div>"
      ],
      "text/plain": [
       "             count percent\n",
       "Phrase Type               \n",
       "PP               8     57%\n",
       "NP               6     43%"
      ]
     },
     "metadata": {},
     "output_type": "display_data"
    },
    {
     "name": "stdout",
     "output_type": "stream",
     "text": [
      "--------------------\n",
      "dist_fut\n",
      "distfut_phtype_ct\n"
     ]
    },
    {
     "data": {
      "text/html": [
       "<div>\n",
       "<style scoped>\n",
       "    .dataframe tbody tr th:only-of-type {\n",
       "        vertical-align: middle;\n",
       "    }\n",
       "\n",
       "    .dataframe tbody tr th {\n",
       "        vertical-align: top;\n",
       "    }\n",
       "\n",
       "    .dataframe thead th {\n",
       "        text-align: right;\n",
       "    }\n",
       "</style>\n",
       "<table border=\"1\" class=\"dataframe\">\n",
       "  <thead>\n",
       "    <tr style=\"text-align: right;\">\n",
       "      <th></th>\n",
       "      <th>count</th>\n",
       "      <th>percent</th>\n",
       "    </tr>\n",
       "    <tr>\n",
       "      <th>Phrase Type</th>\n",
       "      <th></th>\n",
       "      <th></th>\n",
       "    </tr>\n",
       "  </thead>\n",
       "  <tbody>\n",
       "    <tr>\n",
       "      <th>PP</th>\n",
       "      <td>6</td>\n",
       "      <td>100%</td>\n",
       "    </tr>\n",
       "  </tbody>\n",
       "</table>\n",
       "</div>"
      ],
      "text/plain": [
       "             count percent\n",
       "Phrase Type               \n",
       "PP               6    100%"
      ]
     },
     "metadata": {},
     "output_type": "display_data"
    },
    {
     "name": "stdout",
     "output_type": "stream",
     "text": [
      "--------------------\n",
      "dist_past\n",
      "distpast_phtype_ct\n"
     ]
    },
    {
     "data": {
      "text/html": [
       "<div>\n",
       "<style scoped>\n",
       "    .dataframe tbody tr th:only-of-type {\n",
       "        vertical-align: middle;\n",
       "    }\n",
       "\n",
       "    .dataframe tbody tr th {\n",
       "        vertical-align: top;\n",
       "    }\n",
       "\n",
       "    .dataframe thead th {\n",
       "        text-align: right;\n",
       "    }\n",
       "</style>\n",
       "<table border=\"1\" class=\"dataframe\">\n",
       "  <thead>\n",
       "    <tr style=\"text-align: right;\">\n",
       "      <th></th>\n",
       "      <th>count</th>\n",
       "      <th>percent</th>\n",
       "    </tr>\n",
       "    <tr>\n",
       "      <th>Phrase Type</th>\n",
       "      <th></th>\n",
       "      <th></th>\n",
       "    </tr>\n",
       "  </thead>\n",
       "  <tbody>\n",
       "    <tr>\n",
       "      <th>NP</th>\n",
       "      <td>3</td>\n",
       "      <td>100%</td>\n",
       "    </tr>\n",
       "  </tbody>\n",
       "</table>\n",
       "</div>"
      ],
      "text/plain": [
       "             count percent\n",
       "Phrase Type               \n",
       "NP               3    100%"
      ]
     },
     "metadata": {},
     "output_type": "display_data"
    },
    {
     "name": "stdout",
     "output_type": "stream",
     "text": [
      "--------------------\n"
     ]
    }
   ],
   "source": [
    "abbrevs = {\n",
    "    'simultaneous': ['sim', 'Simultaneous'],\n",
    "    'anterior_dur': ['antdur', 'Anterior Durative'],\n",
    "    'anterior': ['ant', 'Anterior'],\n",
    "    'atelic_ext': ['atel', 'Atelic Extent'],\n",
    "    'habitual': ['hab', 'Habitual'],\n",
    "    'posterior': ['post', 'Posterior'],\n",
    "    'posterior_dur': ['postdur', 'Posterior Durative'],\n",
    "    'telic_ext': ['telic', 'Telic Extent'],    \n",
    "    'dist_fut': ['distfut', 'Distance Future'],  \n",
    "    'dist_past': ['distpast', 'Distance Past'],  \n",
    "    'habitual': ['hab', 'Habitual'],\n",
    "}\n",
    "\n",
    "for function, namedata in abbrevs.items():\n",
    "    abbrev, full = namedata\n",
    "    phtype_cts = pd.DataFrame(\n",
    "        df_main[df_main.function == function]['ph_type'].value_counts()\n",
    "    )\n",
    "    phtype_cts = phtype_cts.rename_axis(index='Phrase Type').set_axis(['count'], 1)\n",
    "    phtype_prs = phtype_cts / phtype_cts.sum()\n",
    "    phtype_cp = join_ct_pr(phtype_cts, phtype_prs)\n",
    "    \n",
    "    print(function)\n",
    "    tablename = f'{abbrev}_phtype_ct'\n",
    "    print(tablename)\n",
    "    display(\n",
    "        out.table(\n",
    "            phtype_cp,\n",
    "            tablename,\n",
    "            caption=f'Attested {full} Phrase Types in Sample',\n",
    "        )\n",
    "    )\n",
    "    print('-'*20)"
   ]
  },
  {
   "cell_type": "markdown",
   "metadata": {},
   "source": [
    "## Telic Extent"
   ]
  },
  {
   "cell_type": "code",
   "execution_count": 121,
   "metadata": {},
   "outputs": [
    {
     "data": {
      "text/plain": [
       "'14'"
      ]
     },
     "execution_count": 121,
     "metadata": {},
     "output_type": "execute_result"
    }
   ],
   "source": [
    "teldf = df[df.function == 'telic_ext']\n",
    "\n",
    "out.number(\n",
    "    teldf.shape[0],\n",
    "    'N_telext'\n",
    ")"
   ]
  },
  {
   "cell_type": "code",
   "execution_count": 124,
   "metadata": {},
   "outputs": [
    {
     "name": "stdout",
     "output_type": "stream",
     "text": [
      "showing 14 of 14\n"
     ]
    },
    {
     "data": {
      "text/html": [
       "<style  type=\"text/css\" >\n",
       "#T_922d8_row0_col1,#T_922d8_row1_col1,#T_922d8_row2_col1,#T_922d8_row3_col1,#T_922d8_row4_col1,#T_922d8_row5_col1,#T_922d8_row6_col1,#T_922d8_row7_col1,#T_922d8_row8_col1,#T_922d8_row9_col1,#T_922d8_row10_col1,#T_922d8_row11_col1,#T_922d8_row12_col1,#T_922d8_row13_col1{\n",
       "            font-size: 20px;\n",
       "             font-family:  Times New Roman;\n",
       "             text-align:  right;\n",
       "             max-width:  500px;\n",
       "        }</style><table id=\"T_922d8_\" ><thead>    <tr>        <th class=\"blank level0\" ></th>        <th class=\"col_heading level0 col0\" >verse</th>        <th class=\"col_heading level0 col1\" >clause</th>        <th class=\"col_heading level0 col2\" >front</th>        <th class=\"col_heading level0 col3\" >modtag2</th>    </tr>    <tr>        <th class=\"index_name level0\" >node</th>        <th class=\"blank\" ></th>        <th class=\"blank\" ></th>        <th class=\"blank\" ></th>        <th class=\"blank\" ></th>    </tr></thead><tbody>\n",
       "                <tr>\n",
       "                        <th id=\"T_922d8_level0_row0\" class=\"row_heading level0 row0\" >436102</th>\n",
       "                        <td id=\"T_922d8_row0_col0\" class=\"data row0 col0\" >Exodus 23:29</td>\n",
       "                        <td id=\"T_922d8_row0_col1\" class=\"data row0 col1\" >לֹ֧א אֲגָרְשֶׁ֛נּוּ מִפָּנֶ֖יךָ בְּשָׁנָ֣ה אֶחָ֑ת </td>\n",
       "                        <td id=\"T_922d8_row0_col2\" class=\"data row0 col2\" >ב</td>\n",
       "                        <td id=\"T_922d8_row0_col3\" class=\"data row0 col3\" >NUM</td>\n",
       "            </tr>\n",
       "            <tr>\n",
       "                        <th id=\"T_922d8_level0_row1\" class=\"row_heading level0 row1\" >452897</th>\n",
       "                        <td id=\"T_922d8_row1_col0\" class=\"data row1 col0\" >Judges 14:12</td>\n",
       "                        <td id=\"T_922d8_row1_col1\" class=\"data row1 col1\" >אִם־הַגֵּ֣ד תַּגִּידוּ֩ אֹותָ֨הּ לִ֜י שִׁבְעַ֨ת יְמֵ֤י הַמִּשְׁתֶּה֙ </td>\n",
       "                        <td id=\"T_922d8_row1_col2\" class=\"data row1 col2\" >Ø</td>\n",
       "                        <td id=\"T_922d8_row1_col3\" class=\"data row1 col3\" >NUM+PL+C</td>\n",
       "            </tr>\n",
       "            <tr>\n",
       "                        <th id=\"T_922d8_level0_row2\" class=\"row_heading level0 row2\" >452909</th>\n",
       "                        <td id=\"T_922d8_row2_col0\" class=\"data row2 col0\" >Judges 14:14</td>\n",
       "                        <td id=\"T_922d8_row2_col1\" class=\"data row2 col1\" >וְלֹ֥א יָכְל֛וּ שְׁלֹ֥שֶׁת יָמִֽים׃ </td>\n",
       "                        <td id=\"T_922d8_row2_col2\" class=\"data row2 col2\" >Ø</td>\n",
       "                        <td id=\"T_922d8_row2_col3\" class=\"data row2 col3\" >NUM+PL</td>\n",
       "            </tr>\n",
       "            <tr>\n",
       "                        <th id=\"T_922d8_level0_row3\" class=\"row_heading level0 row3\" >457507</th>\n",
       "                        <td id=\"T_922d8_row3_col0\" class=\"data row3 col0\" >1_Samuel 27:1</td>\n",
       "                        <td id=\"T_922d8_row3_col1\" class=\"data row3 col1\" >עַתָּ֛ה אֶסָּפֶ֥ה יֹום־אֶחָ֖ד בְּיַד־שָׁא֑וּל </td>\n",
       "                        <td id=\"T_922d8_row3_col2\" class=\"data row3 col2\" >Ø</td>\n",
       "                        <td id=\"T_922d8_row3_col3\" class=\"data row3 col3\" >NUM</td>\n",
       "            </tr>\n",
       "            <tr>\n",
       "                        <th id=\"T_922d8_level0_row4\" class=\"row_heading level0 row4\" >462021</th>\n",
       "                        <td id=\"T_922d8_row4_col0\" class=\"data row4 col0\" >1_Kings 6:38</td>\n",
       "                        <td id=\"T_922d8_row4_col1\" class=\"data row4 col1\" >וַיִּבְנֵ֖הוּ שֶׁ֥בַע שָׁנִֽים׃ </td>\n",
       "                        <td id=\"T_922d8_row4_col2\" class=\"data row4 col2\" >Ø</td>\n",
       "                        <td id=\"T_922d8_row4_col3\" class=\"data row4 col3\" >NUM+PL</td>\n",
       "            </tr>\n",
       "            <tr>\n",
       "                        <th id=\"T_922d8_level0_row5\" class=\"row_heading level0 row5\" >462022</th>\n",
       "                        <td id=\"T_922d8_row5_col0\" class=\"data row5 col0\" >1_Kings 7:1</td>\n",
       "                        <td id=\"T_922d8_row5_col1\" class=\"data row5 col1\" >וְאֶת־בֵּיתֹו֙ בָּנָ֣ה שְׁלֹמֹ֔ה שְׁלֹ֥שׁ עֶשְׂרֵ֖ה שָׁנָ֑ה </td>\n",
       "                        <td id=\"T_922d8_row5_col2\" class=\"data row5 col2\" >Ø</td>\n",
       "                        <td id=\"T_922d8_row5_col3\" class=\"data row5 col3\" >NUM</td>\n",
       "            </tr>\n",
       "            <tr>\n",
       "                        <th id=\"T_922d8_level0_row6\" class=\"row_heading level0 row6\" >462635</th>\n",
       "                        <td id=\"T_922d8_row6_col0\" class=\"data row6 col0\" >1_Kings 10:14</td>\n",
       "                        <td id=\"T_922d8_row6_col1\" class=\"data row6 col1\" >אֲשֶׁר־בָּ֥א לִשְׁלֹמֹ֖ה בְּשָׁנָ֣ה אֶחָ֑ת </td>\n",
       "                        <td id=\"T_922d8_row6_col2\" class=\"data row6 col2\" >ב</td>\n",
       "                        <td id=\"T_922d8_row6_col3\" class=\"data row6 col3\" >NUM</td>\n",
       "            </tr>\n",
       "            <tr>\n",
       "                        <th id=\"T_922d8_level0_row7\" class=\"row_heading level0 row7\" >464251</th>\n",
       "                        <td id=\"T_922d8_row7_col0\" class=\"data row7 col0\" >1_Kings 20:29</td>\n",
       "                        <td id=\"T_922d8_row7_col1\" class=\"data row7 col1\" >וַיַּכּ֨וּ בְנֵֽי־יִשְׂרָאֵ֧ל אֶת־אֲרָ֛ם מֵאָה־אֶ֥לֶף רַגְלִ֖י בְּיֹ֥ום אֶחָֽד׃ </td>\n",
       "                        <td id=\"T_922d8_row7_col2\" class=\"data row7 col2\" >ב</td>\n",
       "                        <td id=\"T_922d8_row7_col3\" class=\"data row7 col3\" >NUM</td>\n",
       "            </tr>\n",
       "            <tr>\n",
       "                        <th id=\"T_922d8_level0_row8\" class=\"row_heading level0 row8\" >468855</th>\n",
       "                        <td id=\"T_922d8_row8_col0\" class=\"data row8 col0\" >Isaiah 9:13</td>\n",
       "                        <td id=\"T_922d8_row8_col1\" class=\"data row8 col1\" >וַיַּכְרֵ֨ת יְהוָ֜ה מִיִּשְׂרָאֵ֗ל רֹ֧אשׁ וְזָנָ֛ב כִּפָּ֥ה וְאַגְמֹ֖ון יֹ֥ום אֶחָֽד׃ </td>\n",
       "                        <td id=\"T_922d8_row8_col2\" class=\"data row8 col2\" >Ø</td>\n",
       "                        <td id=\"T_922d8_row8_col3\" class=\"data row8 col3\" >NUM</td>\n",
       "            </tr>\n",
       "            <tr>\n",
       "                        <th id=\"T_922d8_level0_row9\" class=\"row_heading level0 row9\" >468958</th>\n",
       "                        <td id=\"T_922d8_row9_col0\" class=\"data row9 col0\" >Isaiah 10:17</td>\n",
       "                        <td id=\"T_922d8_row9_col1\" class=\"data row9 col1\" >וְאָֽכְלָ֛ה שִׁיתֹ֥ו וּשְׁמִירֹ֖ו בְּיֹ֥ום אֶחָֽד׃ </td>\n",
       "                        <td id=\"T_922d8_row9_col2\" class=\"data row9 col2\" >ב</td>\n",
       "                        <td id=\"T_922d8_row9_col3\" class=\"data row9 col3\" >NUM</td>\n",
       "            </tr>\n",
       "            <tr>\n",
       "                        <th id=\"T_922d8_level0_row10\" class=\"row_heading level0 row10\" >473751</th>\n",
       "                        <td id=\"T_922d8_row10_col0\" class=\"data row10 col0\" >Isaiah 66:8</td>\n",
       "                        <td id=\"T_922d8_row10_col1\" class=\"data row10 col1\" >הֲי֤וּחַל אֶ֨רֶץ֙ בְּיֹ֣ום אֶחָ֔ד </td>\n",
       "                        <td id=\"T_922d8_row10_col2\" class=\"data row10 col2\" >ב</td>\n",
       "                        <td id=\"T_922d8_row10_col3\" class=\"data row10 col3\" >NUM</td>\n",
       "            </tr>\n",
       "            <tr>\n",
       "                        <th id=\"T_922d8_level0_row11\" class=\"row_heading level0 row11\" >504632</th>\n",
       "                        <td id=\"T_922d8_row11_col0\" class=\"data row11 col0\" >Ecclesiastes 11:1</td>\n",
       "                        <td id=\"T_922d8_row11_col1\" class=\"data row11 col1\" >כִּֽי־בְרֹ֥ב הַיָּמִ֖ים תִּמְצָאֶֽנּוּ׃ </td>\n",
       "                        <td id=\"T_922d8_row11_col2\" class=\"data row11 col2\" >ב</td>\n",
       "                        <td id=\"T_922d8_row11_col3\" class=\"data row11 col3\" >QUANT+DEF+PL</td>\n",
       "            </tr>\n",
       "            <tr>\n",
       "                        <th id=\"T_922d8_level0_row12\" class=\"row_heading level0 row12\" >513094</th>\n",
       "                        <td id=\"T_922d8_row12_col0\" class=\"data row12 col0\" >2_Chronicles 9:13</td>\n",
       "                        <td id=\"T_922d8_row12_col1\" class=\"data row12 col1\" >אֲשֶׁר־בָּ֥א לִשְׁלֹמֹ֖ה בְּשָׁנָ֣ה אֶחָ֑ת </td>\n",
       "                        <td id=\"T_922d8_row12_col2\" class=\"data row12 col2\" >ב</td>\n",
       "                        <td id=\"T_922d8_row12_col3\" class=\"data row12 col3\" >NUM</td>\n",
       "            </tr>\n",
       "            <tr>\n",
       "                        <th id=\"T_922d8_level0_row13\" class=\"row_heading level0 row13\" >514699</th>\n",
       "                        <td id=\"T_922d8_row13_col0\" class=\"data row13 col0\" >2_Chronicles 28:6</td>\n",
       "                        <td id=\"T_922d8_row13_col1\" class=\"data row13 col1\" >וַיַּהֲרֹג֩ פֶּ֨קַח בֶּן־רְמַלְיָ֜הוּ בִּֽיהוּדָ֗ה מֵאָ֨ה וְעֶשְׂרִ֥ים אֶ֛לֶף בְּיֹ֥ום אֶחָ֖ד </td>\n",
       "                        <td id=\"T_922d8_row13_col2\" class=\"data row13 col2\" >ב</td>\n",
       "                        <td id=\"T_922d8_row13_col3\" class=\"data row13 col3\" >NUM</td>\n",
       "            </tr>\n",
       "    </tbody></table>"
      ],
      "text/plain": [
       "<pandas.io.formats.style.Styler at 0x7f91804653d0>"
      ]
     },
     "execution_count": 124,
     "metadata": {},
     "output_type": "execute_result"
    }
   ],
   "source": [
    "ts.show(\n",
    "    teldf, extra=['front', 'modtag2']\n",
    ")"
   ]
  },
  {
   "cell_type": "code",
   "execution_count": 129,
   "metadata": {},
   "outputs": [
    {
     "data": {
      "text/html": [
       "<div>\n",
       "<style scoped>\n",
       "    .dataframe tbody tr th:only-of-type {\n",
       "        vertical-align: middle;\n",
       "    }\n",
       "\n",
       "    .dataframe tbody tr th {\n",
       "        vertical-align: top;\n",
       "    }\n",
       "\n",
       "    .dataframe thead th {\n",
       "        text-align: right;\n",
       "    }\n",
       "</style>\n",
       "<table border=\"1\" class=\"dataframe\">\n",
       "  <thead>\n",
       "    <tr style=\"text-align: right;\">\n",
       "      <th>modtag2</th>\n",
       "      <th>NUM</th>\n",
       "      <th>NUM+PL</th>\n",
       "      <th>NUM+PL+C</th>\n",
       "      <th>QUANT+DEF+PL</th>\n",
       "    </tr>\n",
       "    <tr>\n",
       "      <th>front</th>\n",
       "      <th></th>\n",
       "      <th></th>\n",
       "      <th></th>\n",
       "      <th></th>\n",
       "    </tr>\n",
       "  </thead>\n",
       "  <tbody>\n",
       "    <tr>\n",
       "      <th>ב</th>\n",
       "      <td>7</td>\n",
       "      <td>0</td>\n",
       "      <td>0</td>\n",
       "      <td>1</td>\n",
       "    </tr>\n",
       "    <tr>\n",
       "      <th>Ø</th>\n",
       "      <td>3</td>\n",
       "      <td>2</td>\n",
       "      <td>1</td>\n",
       "      <td>0</td>\n",
       "    </tr>\n",
       "  </tbody>\n",
       "</table>\n",
       "</div>"
      ],
      "text/plain": [
       "modtag2  NUM  NUM+PL  NUM+PL+C  QUANT+DEF+PL\n",
       "front                                       \n",
       "ב          7       0         0             1\n",
       "Ø          3       2         1             0"
      ]
     },
     "execution_count": 129,
     "metadata": {},
     "output_type": "execute_result"
    }
   ],
   "source": [
    "telext_mod_ct = pivot_ct(\n",
    "   teldf,\n",
    "    'front',\n",
    "    'modtag2'\n",
    ")\n",
    "\n",
    "\n",
    "telext_mod_pr = telext_mod_ct.div(telext_mod_ct.sum(1), 0)\n",
    "telext_mod_pc = telext_mod_pr.mul(100).round().astype(int).astype(str)+'%'\n",
    "\n",
    "out.table(\n",
    "    telext_mod_ct,\n",
    "    'telext_mod_ct',\n",
    "    caption='Modifier Frequencies for Telic Extent Forms'\n",
    ")"
   ]
  },
  {
   "cell_type": "code",
   "execution_count": 130,
   "metadata": {},
   "outputs": [
    {
     "data": {
      "text/html": [
       "<div>\n",
       "<style scoped>\n",
       "    .dataframe tbody tr th:only-of-type {\n",
       "        vertical-align: middle;\n",
       "    }\n",
       "\n",
       "    .dataframe tbody tr th {\n",
       "        vertical-align: top;\n",
       "    }\n",
       "\n",
       "    .dataframe thead th {\n",
       "        text-align: right;\n",
       "    }\n",
       "</style>\n",
       "<table border=\"1\" class=\"dataframe\">\n",
       "  <thead>\n",
       "    <tr style=\"text-align: right;\">\n",
       "      <th>modtag2</th>\n",
       "      <th>NUM</th>\n",
       "      <th>NUM+PL</th>\n",
       "      <th>NUM+PL+C</th>\n",
       "      <th>QUANT+DEF+PL</th>\n",
       "    </tr>\n",
       "    <tr>\n",
       "      <th>front</th>\n",
       "      <th></th>\n",
       "      <th></th>\n",
       "      <th></th>\n",
       "      <th></th>\n",
       "    </tr>\n",
       "  </thead>\n",
       "  <tbody>\n",
       "    <tr>\n",
       "      <th>ב</th>\n",
       "      <td>88%</td>\n",
       "      <td>0%</td>\n",
       "      <td>0%</td>\n",
       "      <td>12%</td>\n",
       "    </tr>\n",
       "    <tr>\n",
       "      <th>Ø</th>\n",
       "      <td>50%</td>\n",
       "      <td>33%</td>\n",
       "      <td>17%</td>\n",
       "      <td>0%</td>\n",
       "    </tr>\n",
       "  </tbody>\n",
       "</table>\n",
       "</div>"
      ],
      "text/plain": [
       "modtag2  NUM NUM+PL NUM+PL+C QUANT+DEF+PL\n",
       "front                                    \n",
       "ב        88%     0%       0%          12%\n",
       "Ø        50%    33%      17%           0%"
      ]
     },
     "execution_count": 130,
     "metadata": {},
     "output_type": "execute_result"
    }
   ],
   "source": [
    "out.table(\n",
    "    telext_mod_pc,\n",
    "    'telext_mod_pc',\n",
    "    caption='Modifier Percentages for Telic Extent Forms'\n",
    ")"
   ]
  },
  {
   "cell_type": "markdown",
   "metadata": {},
   "source": [
    "## Examples for Simultaneous"
   ]
  },
  {
   "cell_type": "code",
   "execution_count": 45,
   "metadata": {
    "collapsed": true,
    "jupyter": {
     "outputs_hidden": true
    }
   },
   "outputs": [
    {
     "data": {
      "text/plain": [
       "'42'"
      ]
     },
     "execution_count": 45,
     "metadata": {},
     "output_type": "execute_result"
    }
   ],
   "source": [
    "simul_L = simdf[simdf.front == 'ל']\n",
    "\n",
    "out.number(\n",
    "    simul_L.shape[0],\n",
    "    'n_simul_L'\n",
    ")"
   ]
  },
  {
   "cell_type": "code",
   "execution_count": 46,
   "metadata": {
    "collapsed": true,
    "jupyter": {
     "outputs_hidden": true
    }
   },
   "outputs": [
    {
     "name": "stdout",
     "output_type": "stream",
     "text": [
      "showing 25 of 42\n"
     ]
    },
    {
     "data": {
      "text/html": [
       "<style  type=\"text/css\" >\n",
       "#T_6f55b_row0_col1,#T_6f55b_row1_col1,#T_6f55b_row2_col1,#T_6f55b_row3_col1,#T_6f55b_row4_col1,#T_6f55b_row5_col1,#T_6f55b_row6_col1,#T_6f55b_row7_col1,#T_6f55b_row8_col1,#T_6f55b_row9_col1,#T_6f55b_row10_col1,#T_6f55b_row11_col1,#T_6f55b_row12_col1,#T_6f55b_row13_col1,#T_6f55b_row14_col1,#T_6f55b_row15_col1,#T_6f55b_row16_col1,#T_6f55b_row17_col1,#T_6f55b_row18_col1,#T_6f55b_row19_col1,#T_6f55b_row20_col1,#T_6f55b_row21_col1,#T_6f55b_row22_col1,#T_6f55b_row23_col1,#T_6f55b_row24_col1{\n",
       "            font-size: 20px;\n",
       "             font-family:  Times New Roman;\n",
       "             text-align:  right;\n",
       "             max-width:  500px;\n",
       "        }</style><table id=\"T_6f55b_\" ><thead>    <tr>        <th class=\"blank level0\" ></th>        <th class=\"col_heading level0 col0\" >verse</th>        <th class=\"col_heading level0 col1\" >clause</th>        <th class=\"col_heading level0 col2\" >front</th>    </tr>    <tr>        <th class=\"index_name level0\" >node</th>        <th class=\"blank\" ></th>        <th class=\"blank\" ></th>        <th class=\"blank\" ></th>    </tr></thead><tbody>\n",
       "                <tr>\n",
       "                        <th id=\"T_6f55b_level0_row0\" class=\"row_heading level0 row0\" >427805</th>\n",
       "                        <td id=\"T_6f55b_row0_col0\" class=\"data row0 col0\" >Genesis 3:8</td>\n",
       "                        <td id=\"T_6f55b_row0_col1\" class=\"data row0 col1\" >מִתְהַלֵּ֥ךְ בַּגָּ֖ן לְר֣וּחַ הַיֹּ֑ום </td>\n",
       "                        <td id=\"T_6f55b_row0_col2\" class=\"data row0 col2\" >ל</td>\n",
       "            </tr>\n",
       "            <tr>\n",
       "                        <th id=\"T_6f55b_level0_row1\" class=\"row_heading level0 row1\" >428223</th>\n",
       "                        <td id=\"T_6f55b_row1_col0\" class=\"data row1 col0\" >Genesis 8:11</td>\n",
       "                        <td id=\"T_6f55b_row1_col1\" class=\"data row1 col1\" >וַתָּבֹ֨א אֵלָ֤יו הַיֹּונָה֙ לְעֵ֣ת עֶ֔רֶב </td>\n",
       "                        <td id=\"T_6f55b_row1_col2\" class=\"data row1 col2\" >ל</td>\n",
       "            </tr>\n",
       "            <tr>\n",
       "                        <th id=\"T_6f55b_level0_row2\" class=\"row_heading level0 row2\" >429008</th>\n",
       "                        <td id=\"T_6f55b_row2_col0\" class=\"data row2 col0\" >Genesis 18:14</td>\n",
       "                        <td id=\"T_6f55b_row2_col1\" class=\"data row2 col1\" >לַמֹּועֵ֞ד אָשׁ֥וּב אֵלֶ֛יךָ כָּעֵ֥ת חַיָּ֖ה </td>\n",
       "                        <td id=\"T_6f55b_row2_col2\" class=\"data row2 col2\" >ל</td>\n",
       "            </tr>\n",
       "            <tr>\n",
       "                        <th id=\"T_6f55b_level0_row3\" class=\"row_heading level0 row3\" >430522</th>\n",
       "                        <td id=\"T_6f55b_row3_col0\" class=\"data row3 col0\" >Genesis 28:19</td>\n",
       "                        <td id=\"T_6f55b_row3_col1\" class=\"data row3 col1\" >וְאוּלָ֛ם ל֥וּז שֵׁם־הָעִ֖יר לָרִאשֹׁנָֽה׃ </td>\n",
       "                        <td id=\"T_6f55b_row3_col2\" class=\"data row3 col2\" >ל</td>\n",
       "            </tr>\n",
       "            <tr>\n",
       "                        <th id=\"T_6f55b_level0_row4\" class=\"row_heading level0 row4\" >433410</th>\n",
       "                        <td id=\"T_6f55b_row4_col0\" class=\"data row4 col0\" >Genesis 49:27</td>\n",
       "                        <td id=\"T_6f55b_row4_col1\" class=\"data row4 col1\" >וְלָעֶ֖רֶב יְחַלֵּ֥ק שָׁלָֽל׃ </td>\n",
       "                        <td id=\"T_6f55b_row4_col2\" class=\"data row4 col2\" >ל</td>\n",
       "            </tr>\n",
       "            <tr>\n",
       "                        <th id=\"T_6f55b_level0_row5\" class=\"row_heading level0 row5\" >434331</th>\n",
       "                        <td id=\"T_6f55b_row5_col0\" class=\"data row5 col0\" >Exodus 8:6</td>\n",
       "                        <td id=\"T_6f55b_row5_col1\" class=\"data row5 col1\" >לְמָחָ֑ר </td>\n",
       "                        <td id=\"T_6f55b_row5_col2\" class=\"data row5 col2\" >ל</td>\n",
       "            </tr>\n",
       "            <tr>\n",
       "                        <th id=\"T_6f55b_level0_row6\" class=\"row_heading level0 row6\" >437249</th>\n",
       "                        <td id=\"T_6f55b_row6_col0\" class=\"data row6 col0\" >Exodus 34:18</td>\n",
       "                        <td id=\"T_6f55b_row6_col1\" class=\"data row6 col1\" >אֲשֶׁ֣ר צִוִּיתִ֔ךָ לְמֹועֵ֖ד חֹ֣דֶשׁ הָאָבִ֑יב </td>\n",
       "                        <td id=\"T_6f55b_row6_col2\" class=\"data row6 col2\" >ל</td>\n",
       "            </tr>\n",
       "            <tr>\n",
       "                        <th id=\"T_6f55b_level0_row7\" class=\"row_heading level0 row7\" >458967</th>\n",
       "                        <td id=\"T_6f55b_row7_col0\" class=\"data row7 col0\" >2_Samuel 11:2</td>\n",
       "                        <td id=\"T_6f55b_row7_col1\" class=\"data row7 col1\" >וַיְהִ֣י׀ לְעֵ֣ת הָעֶ֗רֶב </td>\n",
       "                        <td id=\"T_6f55b_row7_col2\" class=\"data row7 col2\" >ל</td>\n",
       "            </tr>\n",
       "            <tr>\n",
       "                        <th id=\"T_6f55b_level0_row8\" class=\"row_heading level0 row8\" >463418</th>\n",
       "                        <td id=\"T_6f55b_row8_col0\" class=\"data row8 col0\" >1_Kings 15:23</td>\n",
       "                        <td id=\"T_6f55b_row8_col1\" class=\"data row8 col1\" >רַ֚ק לְעֵ֣ת זִקְנָתֹ֔ו חָלָ֖ה אֶת־רַגְלָֽיו׃ </td>\n",
       "                        <td id=\"T_6f55b_row8_col2\" class=\"data row8 col2\" >ל</td>\n",
       "            </tr>\n",
       "            <tr>\n",
       "                        <th id=\"T_6f55b_level0_row9\" class=\"row_heading level0 row9\" >464229</th>\n",
       "                        <td id=\"T_6f55b_row9_col0\" class=\"data row9 col0\" >1_Kings 20:26</td>\n",
       "                        <td id=\"T_6f55b_row9_col1\" class=\"data row9 col1\" >וַֽיְהִי֙ לִתְשׁוּבַ֣ת הַשָּׁנָ֔ה </td>\n",
       "                        <td id=\"T_6f55b_row9_col2\" class=\"data row9 col2\" >ל</td>\n",
       "            </tr>\n",
       "            <tr>\n",
       "                        <th id=\"T_6f55b_level0_row10\" class=\"row_heading level0 row10\" >465226</th>\n",
       "                        <td id=\"T_6f55b_row10_col0\" class=\"data row10 col0\" >2_Kings 4:17</td>\n",
       "                        <td id=\"T_6f55b_row10_col1\" class=\"data row10 col1\" >וַתֵּ֣לֶד בֵּ֑ן לַמֹּועֵ֤ד הַזֶּה֙ כָּעֵ֣ת חַיָּ֔ה </td>\n",
       "                        <td id=\"T_6f55b_row10_col2\" class=\"data row10 col2\" >ל</td>\n",
       "            </tr>\n",
       "            <tr>\n",
       "                        <th id=\"T_6f55b_level0_row11\" class=\"row_heading level0 row11\" >468896</th>\n",
       "                        <td id=\"T_6f55b_row11_col0\" class=\"data row11 col0\" >Isaiah 10:3</td>\n",
       "                        <td id=\"T_6f55b_row11_col1\" class=\"data row11 col1\" >וּמַֽה־תַּעֲשׂוּ֙ לְיֹ֣ום פְּקֻדָּ֔ה </td>\n",
       "                        <td id=\"T_6f55b_row11_col2\" class=\"data row11 col2\" >ל</td>\n",
       "            </tr>\n",
       "            <tr>\n",
       "                        <th id=\"T_6f55b_level0_row12\" class=\"row_heading level0 row12\" >486026</th>\n",
       "                        <td id=\"T_6f55b_row12_col0\" class=\"data row12 col0\" >Hosea 9:5</td>\n",
       "                        <td id=\"T_6f55b_row12_col1\" class=\"data row12 col1\" >מַֽה־תַּעֲשׂ֖וּ לְיֹ֣ום מֹועֵ֑ד </td>\n",
       "                        <td id=\"T_6f55b_row12_col2\" class=\"data row12 col2\" >ל</td>\n",
       "            </tr>\n",
       "            <tr>\n",
       "                        <th id=\"T_6f55b_level0_row13\" class=\"row_heading level0 row13\" >487600</th>\n",
       "                        <td id=\"T_6f55b_row13_col0\" class=\"data row13 col0\" >Jonah 4:7</td>\n",
       "                        <td id=\"T_6f55b_row13_col1\" class=\"data row13 col1\" >בַּעֲלֹ֥ות הַשַּׁ֖חַר לַֽמָּחֳרָ֑ת </td>\n",
       "                        <td id=\"T_6f55b_row13_col2\" class=\"data row13 col2\" >ל</td>\n",
       "            </tr>\n",
       "            <tr>\n",
       "                        <th id=\"T_6f55b_level0_row14\" class=\"row_heading level0 row14\" >489875</th>\n",
       "                        <td id=\"T_6f55b_row14_col0\" class=\"data row14 col0\" >Zechariah 14:7</td>\n",
       "                        <td id=\"T_6f55b_row14_col1\" class=\"data row14 col1\" >לְעֵֽת־עֶ֖רֶב יִֽהְיֶה־אֹֽור׃ </td>\n",
       "                        <td id=\"T_6f55b_row14_col2\" class=\"data row14 col2\" >ל</td>\n",
       "            </tr>\n",
       "            <tr>\n",
       "                        <th id=\"T_6f55b_level0_row15\" class=\"row_heading level0 row15\" >490557</th>\n",
       "                        <td id=\"T_6f55b_row15_col0\" class=\"data row15 col0\" >Psalms 10:1</td>\n",
       "                        <td id=\"T_6f55b_row15_col1\" class=\"data row15 col1\" >תַּ֝עְלִ֗ים לְעִתֹּ֥ות בַּצָּרָֽה׃ </td>\n",
       "                        <td id=\"T_6f55b_row15_col2\" class=\"data row15 col2\" >ל</td>\n",
       "            </tr>\n",
       "            <tr>\n",
       "                        <th id=\"T_6f55b_level0_row16\" class=\"row_heading level0 row16\" >492546</th>\n",
       "                        <td id=\"T_6f55b_row16_col0\" class=\"data row16 col0\" >Psalms 49:15</td>\n",
       "                        <td id=\"T_6f55b_row16_col1\" class=\"data row16 col1\" >וַיִּרְדּ֘וּ בָ֤ם יְשָׁרִ֨ים׀ לַבֹּ֗קֶר </td>\n",
       "                        <td id=\"T_6f55b_row16_col2\" class=\"data row16 col2\" >ל</td>\n",
       "            </tr>\n",
       "            <tr>\n",
       "                        <th id=\"T_6f55b_level0_row17\" class=\"row_heading level0 row17\" >494780</th>\n",
       "                        <td id=\"T_6f55b_row17_col0\" class=\"data row17 col0\" >Psalms 90:6</td>\n",
       "                        <td id=\"T_6f55b_row17_col1\" class=\"data row17 col1\" >לָ֝עֶ֗רֶב יְמֹולֵ֥ל </td>\n",
       "                        <td id=\"T_6f55b_row17_col2\" class=\"data row17 col2\" >ל</td>\n",
       "            </tr>\n",
       "            <tr>\n",
       "                        <th id=\"T_6f55b_level0_row18\" class=\"row_heading level0 row18\" >498980</th>\n",
       "                        <td id=\"T_6f55b_row18_col0\" class=\"data row18 col0\" >Job 21:30</td>\n",
       "                        <td id=\"T_6f55b_row18_col1\" class=\"data row18 col1\" >כִּ֤י לְיֹ֣ום אֵ֭יד יֵחָ֣שֶׂךְ רָ֑ע </td>\n",
       "                        <td id=\"T_6f55b_row18_col2\" class=\"data row18 col2\" >ל</td>\n",
       "            </tr>\n",
       "            <tr>\n",
       "                        <th id=\"T_6f55b_level0_row19\" class=\"row_heading level0 row19\" >500932</th>\n",
       "                        <td id=\"T_6f55b_row19_col0\" class=\"data row19 col0\" >Proverbs 7:20</td>\n",
       "                        <td id=\"T_6f55b_row19_col1\" class=\"data row19 col1\" >לְיֹ֥ום הַ֝כֵּ֗סֶא יָבֹ֥א בֵיתֹֽו׃ </td>\n",
       "                        <td id=\"T_6f55b_row19_col2\" class=\"data row19 col2\" >ל</td>\n",
       "            </tr>\n",
       "            <tr>\n",
       "                        <th id=\"T_6f55b_level0_row20\" class=\"row_heading level0 row20\" >504653</th>\n",
       "                        <td id=\"T_6f55b_row20_col0\" class=\"data row20 col0\" >Ecclesiastes 11:6</td>\n",
       "                        <td id=\"T_6f55b_row20_col1\" class=\"data row20 col1\" >וְלָעֶ֖רֶב אַל־תַּנַּ֣ח יָדֶ֑ךָ </td>\n",
       "                        <td id=\"T_6f55b_row20_col2\" class=\"data row20 col2\" >ל</td>\n",
       "            </tr>\n",
       "            <tr>\n",
       "                        <th id=\"T_6f55b_level0_row21\" class=\"row_heading level0 row21\" >505645</th>\n",
       "                        <td id=\"T_6f55b_row21_col0\" class=\"data row21 col0\" >Esther 5:12</td>\n",
       "                        <td id=\"T_6f55b_row21_col1\" class=\"data row21 col1\" >וְגַם־לְמָחָ֛ר אֲנִ֥י קָֽרוּא־לָ֖הּ עִם־הַמֶּֽלֶךְ׃ </td>\n",
       "                        <td id=\"T_6f55b_row21_col2\" class=\"data row21 col2\" >ל</td>\n",
       "            </tr>\n",
       "            <tr>\n",
       "                        <th id=\"T_6f55b_level0_row22\" class=\"row_heading level0 row22\" >512332</th>\n",
       "                        <td id=\"T_6f55b_row22_col0\" class=\"data row22 col0\" >1_Chronicles 29:21</td>\n",
       "                        <td id=\"T_6f55b_row22_col1\" class=\"data row22 col1\" >וַיַּעֲל֨וּ עֹלֹ֜ות לַיהוָ֗ה לְֽמָחֳרַת֮ הַיֹּ֣ום הַהוּא֒ לְכָל־יִשְׂרָאֵֽל׃ </td>\n",
       "                        <td id=\"T_6f55b_row22_col2\" class=\"data row22 col2\" >ל</td>\n",
       "            </tr>\n",
       "            <tr>\n",
       "                        <th id=\"T_6f55b_level0_row23\" class=\"row_heading level0 row23\" >514393</th>\n",
       "                        <td id=\"T_6f55b_row23_col0\" class=\"data row23 col0\" >2_Chronicles 24:23</td>\n",
       "                        <td id=\"T_6f55b_row23_col1\" class=\"data row23 col1\" >וַיְהִ֣י׀ לִתְקוּפַ֣ת הַשָּׁנָ֗ה </td>\n",
       "                        <td id=\"T_6f55b_row23_col2\" class=\"data row23 col2\" >ל</td>\n",
       "            </tr>\n",
       "            <tr>\n",
       "                        <th id=\"T_6f55b_level0_row24\" class=\"row_heading level0 row24\" >515619</th>\n",
       "                        <td id=\"T_6f55b_row24_col0\" class=\"data row24 col0\" >2_Chronicles 36:10</td>\n",
       "                        <td id=\"T_6f55b_row24_col1\" class=\"data row24 col1\" >וְלִתְשׁוּבַ֣ת הַשָּׁנָ֗ה שָׁלַח֙ הַמֶּ֣לֶךְ נְבֽוּכַדְנֶאצַּ֔ר </td>\n",
       "                        <td id=\"T_6f55b_row24_col2\" class=\"data row24 col2\" >ל</td>\n",
       "            </tr>\n",
       "    </tbody></table>"
      ],
      "text/plain": [
       "<pandas.io.formats.style.Styler at 0x7ffd8217ac40>"
      ]
     },
     "execution_count": 46,
     "metadata": {},
     "output_type": "execute_result"
    }
   ],
   "source": [
    "ts.show(simul_L, extra=['front'])"
   ]
  },
  {
   "cell_type": "code",
   "execution_count": 47,
   "metadata": {
    "collapsed": true,
    "jupyter": {
     "outputs_hidden": true
    }
   },
   "outputs": [
    {
     "data": {
      "text/html": [
       "<div>\n",
       "<style scoped>\n",
       "    .dataframe tbody tr th:only-of-type {\n",
       "        vertical-align: middle;\n",
       "    }\n",
       "\n",
       "    .dataframe tbody tr th {\n",
       "        vertical-align: top;\n",
       "    }\n",
       "\n",
       "    .dataframe thead th {\n",
       "        text-align: right;\n",
       "    }\n",
       "</style>\n",
       "<table border=\"1\" class=\"dataframe\">\n",
       "  <thead>\n",
       "    <tr style=\"text-align: right;\">\n",
       "      <th></th>\n",
       "      <th>count</th>\n",
       "      <th>percent</th>\n",
       "    </tr>\n",
       "  </thead>\n",
       "  <tbody>\n",
       "    <tr>\n",
       "      <th>עת</th>\n",
       "      <td>10</td>\n",
       "      <td>24%</td>\n",
       "    </tr>\n",
       "    <tr>\n",
       "      <th>יום</th>\n",
       "      <td>8</td>\n",
       "      <td>19%</td>\n",
       "    </tr>\n",
       "    <tr>\n",
       "      <th>מועד</th>\n",
       "      <td>7</td>\n",
       "      <td>17%</td>\n",
       "    </tr>\n",
       "    <tr>\n",
       "      <th>ערב</th>\n",
       "      <td>3</td>\n",
       "      <td>7%</td>\n",
       "    </tr>\n",
       "    <tr>\n",
       "      <th>מחר</th>\n",
       "      <td>3</td>\n",
       "      <td>7%</td>\n",
       "    </tr>\n",
       "    <tr>\n",
       "      <th>תשׁובה</th>\n",
       "      <td>3</td>\n",
       "      <td>7%</td>\n",
       "    </tr>\n",
       "    <tr>\n",
       "      <th>מחרת</th>\n",
       "      <td>2</td>\n",
       "      <td>5%</td>\n",
       "    </tr>\n",
       "    <tr>\n",
       "      <th>תקופה</th>\n",
       "      <td>1</td>\n",
       "      <td>2%</td>\n",
       "    </tr>\n",
       "    <tr>\n",
       "      <th>מתי</th>\n",
       "      <td>1</td>\n",
       "      <td>2%</td>\n",
       "    </tr>\n",
       "    <tr>\n",
       "      <th>רוח</th>\n",
       "      <td>1</td>\n",
       "      <td>2%</td>\n",
       "    </tr>\n",
       "    <tr>\n",
       "      <th>ראשׁון</th>\n",
       "      <td>1</td>\n",
       "      <td>2%</td>\n",
       "    </tr>\n",
       "    <tr>\n",
       "      <th>בקר</th>\n",
       "      <td>1</td>\n",
       "      <td>2%</td>\n",
       "    </tr>\n",
       "    <tr>\n",
       "      <th>אחרית</th>\n",
       "      <td>1</td>\n",
       "      <td>2%</td>\n",
       "    </tr>\n",
       "  </tbody>\n",
       "</table>\n",
       "</div>"
      ],
      "text/plain": [
       "        count percent\n",
       "עת         10     24%\n",
       "יום         8     19%\n",
       "מועד        7     17%\n",
       "ערב         3      7%\n",
       "מחר         3      7%\n",
       "תשׁובה      3      7%\n",
       "מחרת        2      5%\n",
       "תקופה       1      2%\n",
       "מתי         1      2%\n",
       "רוח         1      2%\n",
       "ראשׁון      1      2%\n",
       "בקר         1      2%\n",
       "אחרית       1      2%"
      ]
     },
     "execution_count": 47,
     "metadata": {},
     "output_type": "execute_result"
    }
   ],
   "source": [
    "siml_head_ct = simul_L.head_utf8.value_counts()\n",
    "siml_head_pr = siml_head_ct / siml_head_ct.sum()\n",
    "siml_head_cp = join_ct_pr(siml_head_ct, siml_head_pr)\n",
    "\n",
    "out.table(\n",
    "    siml_head_cp,\n",
    "    'siml_head_cp', \n",
    "    caption='Semantic Heads of Simultaneous \\texthebrew{לְ} Adverbials',\n",
    ")"
   ]
  },
  {
   "cell_type": "code",
   "execution_count": 48,
   "metadata": {
    "collapsed": true,
    "jupyter": {
     "outputs_hidden": true
    }
   },
   "outputs": [
    {
     "name": "stdout",
     "output_type": "stream",
     "text": [
      "showing 8 of 8\n"
     ]
    },
    {
     "data": {
      "text/html": [
       "<style  type=\"text/css\" >\n",
       "#T_2f054_row0_col1,#T_2f054_row1_col1,#T_2f054_row2_col1,#T_2f054_row3_col1,#T_2f054_row4_col1,#T_2f054_row5_col1,#T_2f054_row6_col1,#T_2f054_row7_col1{\n",
       "            font-size: 20px;\n",
       "             font-family:  Times New Roman;\n",
       "             text-align:  right;\n",
       "             max-width:  500px;\n",
       "        }</style><table id=\"T_2f054_\" ><thead>    <tr>        <th class=\"blank level0\" ></th>        <th class=\"col_heading level0 col0\" >verse</th>        <th class=\"col_heading level0 col1\" >clause</th>    </tr>    <tr>        <th class=\"index_name level0\" >node</th>        <th class=\"blank\" ></th>        <th class=\"blank\" ></th>    </tr></thead><tbody>\n",
       "                <tr>\n",
       "                        <th id=\"T_2f054_level0_row0\" class=\"row_heading level0 row0\" >428156</th>\n",
       "                        <td id=\"T_2f054_row0_col0\" class=\"data row0 col0\" >Genesis 7:10</td>\n",
       "                        <td id=\"T_2f054_row0_col1\" class=\"data row0 col1\" >וַֽיְהִ֖י לְשִׁבְעַ֣ת הַיָּמִ֑ים </td>\n",
       "            </tr>\n",
       "            <tr>\n",
       "                        <th id=\"T_2f054_level0_row1\" class=\"row_heading level0 row1\" >468896</th>\n",
       "                        <td id=\"T_2f054_row1_col0\" class=\"data row1 col0\" >Isaiah 10:3</td>\n",
       "                        <td id=\"T_2f054_row1_col1\" class=\"data row1 col1\" >וּמַֽה־תַּעֲשׂוּ֙ לְיֹ֣ום פְּקֻדָּ֔ה </td>\n",
       "            </tr>\n",
       "            <tr>\n",
       "                        <th id=\"T_2f054_level0_row2\" class=\"row_heading level0 row2\" >486026</th>\n",
       "                        <td id=\"T_2f054_row2_col0\" class=\"data row2 col0\" >Hosea 9:5</td>\n",
       "                        <td id=\"T_2f054_row2_col1\" class=\"data row2 col1\" >מַֽה־תַּעֲשׂ֖וּ לְיֹ֣ום מֹועֵ֑ד </td>\n",
       "            </tr>\n",
       "            <tr>\n",
       "                        <th id=\"T_2f054_level0_row3\" class=\"row_heading level0 row3\" >486027</th>\n",
       "                        <td id=\"T_2f054_row3_col0\" class=\"data row3 col0\" >Hosea 9:5</td>\n",
       "                        <td id=\"T_2f054_row3_col1\" class=\"data row3 col1\" >וּלְיֹ֖ום חַג־יְהוָֽה׃ </td>\n",
       "            </tr>\n",
       "            <tr>\n",
       "                        <th id=\"T_2f054_level0_row4\" class=\"row_heading level0 row4\" >490180</th>\n",
       "                        <td id=\"T_2f054_row4_col0\" class=\"data row4 col0\" >Malachi 3:17</td>\n",
       "                        <td id=\"T_2f054_row4_col1\" class=\"data row4 col1\" >וְהָ֣יוּ לִ֗י לַיֹּ֕ום סְגֻלָּ֑ה </td>\n",
       "            </tr>\n",
       "            <tr>\n",
       "                        <th id=\"T_2f054_level0_row5\" class=\"row_heading level0 row5\" >498980</th>\n",
       "                        <td id=\"T_2f054_row5_col0\" class=\"data row5 col0\" >Job 21:30</td>\n",
       "                        <td id=\"T_2f054_row5_col1\" class=\"data row5 col1\" >כִּ֤י לְיֹ֣ום אֵ֭יד יֵחָ֣שֶׂךְ רָ֑ע </td>\n",
       "            </tr>\n",
       "            <tr>\n",
       "                        <th id=\"T_2f054_level0_row6\" class=\"row_heading level0 row6\" >498981</th>\n",
       "                        <td id=\"T_2f054_row6_col0\" class=\"data row6 col0\" >Job 21:30</td>\n",
       "                        <td id=\"T_2f054_row6_col1\" class=\"data row6 col1\" >לְיֹ֖ום עֲבָרֹ֣ות יוּבָֽלוּ׃ </td>\n",
       "            </tr>\n",
       "            <tr>\n",
       "                        <th id=\"T_2f054_level0_row7\" class=\"row_heading level0 row7\" >500932</th>\n",
       "                        <td id=\"T_2f054_row7_col0\" class=\"data row7 col0\" >Proverbs 7:20</td>\n",
       "                        <td id=\"T_2f054_row7_col1\" class=\"data row7 col1\" >לְיֹ֥ום הַ֝כֵּ֗סֶא יָבֹ֥א בֵיתֹֽו׃ </td>\n",
       "            </tr>\n",
       "    </tbody></table>"
      ],
      "text/plain": [
       "<pandas.io.formats.style.Styler at 0x7ffd82150b20>"
      ]
     },
     "execution_count": 48,
     "metadata": {},
     "output_type": "execute_result"
    }
   ],
   "source": [
    "ts.show(\n",
    "    simul_L[simul_L.head_utf8 == 'יום']\n",
    ")"
   ]
  },
  {
   "cell_type": "markdown",
   "metadata": {},
   "source": [
    "**<L**"
   ]
  },
  {
   "cell_type": "code",
   "execution_count": 49,
   "metadata": {
    "collapsed": true,
    "jupyter": {
     "outputs_hidden": true
    }
   },
   "outputs": [
    {
     "name": "stdout",
     "output_type": "stream",
     "text": [
      "showing 2 of 2\n"
     ]
    },
    {
     "data": {
      "text/html": [
       "<style  type=\"text/css\" >\n",
       "#T_715c2_row0_col1,#T_715c2_row1_col1{\n",
       "            font-size: 20px;\n",
       "             font-family:  Times New Roman;\n",
       "             text-align:  right;\n",
       "             max-width:  500px;\n",
       "        }</style><table id=\"T_715c2_\" ><thead>    <tr>        <th class=\"blank level0\" ></th>        <th class=\"col_heading level0 col0\" >verse</th>        <th class=\"col_heading level0 col1\" >clause</th>    </tr>    <tr>        <th class=\"index_name level0\" >node</th>        <th class=\"blank\" ></th>        <th class=\"blank\" ></th>    </tr></thead><tbody>\n",
       "                <tr>\n",
       "                        <th id=\"T_715c2_level0_row0\" class=\"row_heading level0 row0\" >457163</th>\n",
       "                        <td id=\"T_715c2_row0_col0\" class=\"data row0 col0\" >1_Samuel 25:8</td>\n",
       "                        <td id=\"T_715c2_row0_col1\" class=\"data row0 col1\" >כִּֽי־עַל־יֹ֥ום טֹ֖וב בָּ֑נוּ </td>\n",
       "            </tr>\n",
       "            <tr>\n",
       "                        <th id=\"T_715c2_level0_row1\" class=\"row_heading level0 row1\" >509657</th>\n",
       "                        <td id=\"T_715c2_row1_col0\" class=\"data row1 col0\" >Nehemiah 12:22</td>\n",
       "                        <td id=\"T_715c2_row1_col1\" class=\"data row1 col1\" >וְהַכֹּ֣הֲנִ֔ים עַל־מַלְכ֖וּת דָּרְיָ֥וֶשׁ הַפָּֽרְסִֽי׃ פ </td>\n",
       "            </tr>\n",
       "    </tbody></table>"
      ],
      "text/plain": [
       "<pandas.io.formats.style.Styler at 0x7ffd8217a8e0>"
      ]
     },
     "execution_count": 49,
     "metadata": {},
     "output_type": "execute_result"
    }
   ],
   "source": [
    "ts.show(\n",
    "    simdf[simdf.front == 'על']\n",
    ")"
   ]
  },
  {
   "cell_type": "code",
   "execution_count": 50,
   "metadata": {
    "collapsed": true,
    "jupyter": {
     "outputs_hidden": true
    }
   },
   "outputs": [
    {
     "name": "stdout",
     "output_type": "stream",
     "text": [
      "showing 1 of 1\n"
     ]
    },
    {
     "data": {
      "text/html": [
       "<style  type=\"text/css\" >\n",
       "#T_73135_row0_col1{\n",
       "            font-size: 20px;\n",
       "             font-family:  Times New Roman;\n",
       "             text-align:  right;\n",
       "             max-width:  500px;\n",
       "        }</style><table id=\"T_73135_\" ><thead>    <tr>        <th class=\"blank level0\" ></th>        <th class=\"col_heading level0 col0\" >verse</th>        <th class=\"col_heading level0 col1\" >clause</th>    </tr>    <tr>        <th class=\"index_name level0\" >node</th>        <th class=\"blank\" ></th>        <th class=\"blank\" ></th>    </tr></thead><tbody>\n",
       "                <tr>\n",
       "                        <th id=\"T_73135_level0_row0\" class=\"row_heading level0 row0\" >460937</th>\n",
       "                        <td id=\"T_73135_row0_col0\" class=\"data row0 col0\" >2_Samuel 23:13</td>\n",
       "                        <td id=\"T_73135_row0_col1\" class=\"data row0 col1\" >וַיָּבֹ֤אוּ אֶל־קָצִיר֙ אֶל־דָּוִ֔ד אֶל־מְעָרַ֖ת עֲדֻלָּ֑ם </td>\n",
       "            </tr>\n",
       "    </tbody></table>"
      ],
      "text/plain": [
       "<pandas.io.formats.style.Styler at 0x7ffd8217a610>"
      ]
     },
     "execution_count": 50,
     "metadata": {},
     "output_type": "execute_result"
    }
   ],
   "source": [
    "ts.show(\n",
    "    simdf[simdf.front == 'אל']\n",
    ")"
   ]
  },
  {
   "cell_type": "code",
   "execution_count": 51,
   "metadata": {
    "collapsed": true,
    "jupyter": {
     "outputs_hidden": true
    }
   },
   "outputs": [
    {
     "name": "stdout",
     "output_type": "stream",
     "text": [
      "showing 1 of 1\n"
     ]
    },
    {
     "data": {
      "text/html": [
       "<style  type=\"text/css\" >\n",
       "#T_e9339_row0_col1{\n",
       "            font-size: 20px;\n",
       "             font-family:  Times New Roman;\n",
       "             text-align:  right;\n",
       "             max-width:  500px;\n",
       "        }</style><table id=\"T_e9339_\" ><thead>    <tr>        <th class=\"blank level0\" ></th>        <th class=\"col_heading level0 col0\" >verse</th>        <th class=\"col_heading level0 col1\" >clause</th>    </tr>    <tr>        <th class=\"index_name level0\" >node</th>        <th class=\"blank\" ></th>        <th class=\"blank\" ></th>    </tr></thead><tbody>\n",
       "                <tr>\n",
       "                        <th id=\"T_e9339_level0_row0\" class=\"row_heading level0 row0\" >472789</th>\n",
       "                        <td id=\"T_e9339_row0_col0\" class=\"data row0 col0\" >Isaiah 54:8</td>\n",
       "                        <td id=\"T_e9339_row0_col1\" class=\"data row0 col1\" >בְּשֶׁ֣צֶף קֶ֗צֶף הִסְתַּ֨רְתִּי פָנַ֥י רֶ֨גַע֙ מִמֵּ֔ךְ </td>\n",
       "            </tr>\n",
       "    </tbody></table>"
      ],
      "text/plain": [
       "<pandas.io.formats.style.Styler at 0x7ffd82160fd0>"
      ]
     },
     "execution_count": 51,
     "metadata": {},
     "output_type": "execute_result"
    }
   ],
   "source": [
    "ts.show(\n",
    "    simdf[simdf.front == 'רגע']\n",
    ")"
   ]
  },
  {
   "cell_type": "code",
   "execution_count": 52,
   "metadata": {
    "collapsed": true,
    "jupyter": {
     "outputs_hidden": true
    }
   },
   "outputs": [
    {
     "name": "stdout",
     "output_type": "stream",
     "text": [
      "showing 9 of 9\n"
     ]
    },
    {
     "data": {
      "text/html": [
       "<style  type=\"text/css\" >\n",
       "#T_b13b7_row0_col1,#T_b13b7_row1_col1,#T_b13b7_row2_col1,#T_b13b7_row3_col1,#T_b13b7_row4_col1,#T_b13b7_row5_col1,#T_b13b7_row6_col1,#T_b13b7_row7_col1,#T_b13b7_row8_col1{\n",
       "            font-size: 20px;\n",
       "             font-family:  Times New Roman;\n",
       "             text-align:  right;\n",
       "             max-width:  500px;\n",
       "        }</style><table id=\"T_b13b7_\" ><thead>    <tr>        <th class=\"blank level0\" ></th>        <th class=\"col_heading level0 col0\" >verse</th>        <th class=\"col_heading level0 col1\" >clause</th>    </tr>    <tr>        <th class=\"index_name level0\" >node</th>        <th class=\"blank\" ></th>        <th class=\"blank\" ></th>    </tr></thead><tbody>\n",
       "                <tr>\n",
       "                        <th id=\"T_b13b7_level0_row0\" class=\"row_heading level0 row0\" >451807</th>\n",
       "                        <td id=\"T_b13b7_row0_col0\" class=\"data row0 col0\" >Judges 6:27</td>\n",
       "                        <td id=\"T_b13b7_row0_col1\" class=\"data row0 col1\" >מֵעֲשֹׂ֥ות יֹומָ֖ם </td>\n",
       "            </tr>\n",
       "            <tr>\n",
       "                        <th id=\"T_b13b7_level0_row1\" class=\"row_heading level0 row1\" >451986</th>\n",
       "                        <td id=\"T_b13b7_row1_col0\" class=\"data row1 col0\" >Judges 7:19</td>\n",
       "                        <td id=\"T_b13b7_row1_col1\" class=\"data row1 col1\" >וַיָּבֹ֣א גִ֠דְעֹון וּמֵאָה־אִ֨ישׁ בִּקְצֵ֣ה הַֽמַּחֲנֶ֗ה רֹ֚אשׁ הָאַשְׁמֹ֣רֶת הַתִּֽיכֹונָ֔ה </td>\n",
       "            </tr>\n",
       "            <tr>\n",
       "                        <th id=\"T_b13b7_level0_row2\" class=\"row_heading level0 row2\" >481047</th>\n",
       "                        <td id=\"T_b13b7_row2_col0\" class=\"data row2 col0\" >Ezekiel 12:7</td>\n",
       "                        <td id=\"T_b13b7_row2_col1\" class=\"data row2 col1\" >כֵּ֠לַי הֹוצֵ֜אתִי כִּכְלֵ֤י גֹולָה֙ יֹומָ֔ם </td>\n",
       "            </tr>\n",
       "            <tr>\n",
       "                        <th id=\"T_b13b7_level0_row3\" class=\"row_heading level0 row3\" >491083</th>\n",
       "                        <td id=\"T_b13b7_row3_col0\" class=\"data row3 col0\" >Psalms 22:3</td>\n",
       "                        <td id=\"T_b13b7_row3_col1\" class=\"data row3 col1\" >אֶקְרָ֣א יֹ֖ומָם </td>\n",
       "            </tr>\n",
       "            <tr>\n",
       "                        <th id=\"T_b13b7_level0_row4\" class=\"row_heading level0 row4\" >494828</th>\n",
       "                        <td id=\"T_b13b7_row4_col0\" class=\"data row4 col0\" >Psalms 91:5</td>\n",
       "                        <td id=\"T_b13b7_row4_col1\" class=\"data row4 col1\" >יָע֥וּף יֹומָֽם׃ </td>\n",
       "            </tr>\n",
       "            <tr>\n",
       "                        <th id=\"T_b13b7_level0_row5\" class=\"row_heading level0 row5\" >496291</th>\n",
       "                        <td id=\"T_b13b7_row5_col0\" class=\"data row5 col0\" >Psalms 119:62</td>\n",
       "                        <td id=\"T_b13b7_row5_col1\" class=\"data row5 col1\" >חֲצֹֽות־לַ֗יְלָה אָ֭קוּם </td>\n",
       "            </tr>\n",
       "            <tr>\n",
       "                        <th id=\"T_b13b7_level0_row6\" class=\"row_heading level0 row6\" >496593</th>\n",
       "                        <td id=\"T_b13b7_row6_col0\" class=\"data row6 col0\" >Psalms 121:6</td>\n",
       "                        <td id=\"T_b13b7_row6_col1\" class=\"data row6 col1\" >יֹומָ֗ם הַשֶּׁ֥מֶשׁ לֹֽא־יַכֶּ֗כָּה </td>\n",
       "            </tr>\n",
       "            <tr>\n",
       "                        <th id=\"T_b13b7_level0_row7\" class=\"row_heading level0 row7\" >498816</th>\n",
       "                        <td id=\"T_b13b7_row7_col0\" class=\"data row7 col0\" >Job 19:25</td>\n",
       "                        <td id=\"T_b13b7_row7_col1\" class=\"data row7 col1\" >וְ֝אַחֲרֹ֗ון עַל־עָפָ֥ר יָקֽוּם׃ </td>\n",
       "            </tr>\n",
       "            <tr>\n",
       "                        <th id=\"T_b13b7_level0_row8\" class=\"row_heading level0 row8\" >499821</th>\n",
       "                        <td id=\"T_b13b7_row8_col0\" class=\"data row8 col0\" >Job 34:20</td>\n",
       "                        <td id=\"T_b13b7_row8_col1\" class=\"data row8 col1\" >וַחֲצֹ֪ות לָ֥יְלָה יְגֹעֲשׁ֣וּ עָ֣ם </td>\n",
       "            </tr>\n",
       "    </tbody></table>"
      ],
      "text/plain": [
       "<pandas.io.formats.style.Styler at 0x7ffd82138ac0>"
      ]
     },
     "execution_count": 52,
     "metadata": {},
     "output_type": "execute_result"
    }
   ],
   "source": [
    "assorted = [\n",
    "    'יומם',\n",
    "    'אחרון',\n",
    "    'ראשׁ', \n",
    "    'חצות',\n",
    "]\n",
    "\n",
    "ts.show(\n",
    "    simdf[simdf.front.isin(assorted)]\n",
    ")"
   ]
  },
  {
   "cell_type": "markdown",
   "metadata": {},
   "source": [
    "# Text Examples"
   ]
  },
  {
   "cell_type": "markdown",
   "metadata": {},
   "source": [
    "## Automatic Examples"
   ]
  },
  {
   "cell_type": "code",
   "execution_count": 75,
   "metadata": {
    "collapsed": true,
    "jupyter": {
     "outputs_hidden": true
    }
   },
   "outputs": [
    {
     "name": "stdout",
     "output_type": "stream",
     "text": [
      "anterior_dur\n",
      "עד\n",
      "showing 5 of 279\n"
     ]
    },
    {
     "data": {
      "text/html": [
       "<style  type=\"text/css\" >\n",
       "#T_39a12_row0_col1,#T_39a12_row1_col1,#T_39a12_row2_col1,#T_39a12_row3_col1,#T_39a12_row4_col1{\n",
       "            font-size: 20px;\n",
       "             font-family:  Times New Roman;\n",
       "             text-align:  right;\n",
       "             max-width:  500px;\n",
       "        }</style><table id=\"T_39a12_\" ><thead>    <tr>        <th class=\"blank level0\" ></th>        <th class=\"col_heading level0 col0\" >verse</th>        <th class=\"col_heading level0 col1\" >clause</th>        <th class=\"col_heading level0 col2\" >function</th>        <th class=\"col_heading level0 col3\" >front</th>    </tr>    <tr>        <th class=\"index_name level0\" >node</th>        <th class=\"blank\" ></th>        <th class=\"blank\" ></th>        <th class=\"blank\" ></th>        <th class=\"blank\" ></th>    </tr></thead><tbody>\n",
       "                <tr>\n",
       "                        <th id=\"T_39a12_level0_row0\" class=\"row_heading level0 row0\" >428203</th>\n",
       "                        <td id=\"T_39a12_row0_col0\" class=\"data row0 col0\" >Genesis 8:5</td>\n",
       "                        <td id=\"T_39a12_row0_col1\" class=\"data row0 col1\" >וְהַמַּ֗יִם הָיוּ֙ הָלֹ֣וךְ וְחָסֹ֔ור עַ֖ד הַחֹ֣דֶשׁ הָֽעֲשִׂירִ֑י </td>\n",
       "                        <td id=\"T_39a12_row0_col2\" class=\"data row0 col2\" >anterior_dur</td>\n",
       "                        <td id=\"T_39a12_row0_col3\" class=\"data row0 col3\" >עד</td>\n",
       "            </tr>\n",
       "            <tr>\n",
       "                        <th id=\"T_39a12_level0_row1\" class=\"row_heading level0 row1\" >443072</th>\n",
       "                        <td id=\"T_39a12_row1_col0\" class=\"data row1 col0\" >Numbers 19:21</td>\n",
       "                        <td id=\"T_39a12_row1_col1\" class=\"data row1 col1\" >וְיִטְמָ֖א עַד־הָעָֽרֶב׃ </td>\n",
       "                        <td id=\"T_39a12_row1_col2\" class=\"data row1 col2\" >anterior_dur</td>\n",
       "                        <td id=\"T_39a12_row1_col3\" class=\"data row1 col3\" >עד</td>\n",
       "            </tr>\n",
       "            <tr>\n",
       "                        <th id=\"T_39a12_level0_row2\" class=\"row_heading level0 row2\" >457527</th>\n",
       "                        <td id=\"T_39a12_row2_col0\" class=\"data row2 col0\" >1_Samuel 27:6</td>\n",
       "                        <td id=\"T_39a12_row2_col1\" class=\"data row2 col1\" >לָכֵ֞ן הָיְתָ֤ה צִֽקְלַג֙ לְמַלְכֵ֣י יְהוּדָ֔ה עַ֖ד הַיֹּ֥ום הַזֶּֽה׃ פ </td>\n",
       "                        <td id=\"T_39a12_row2_col2\" class=\"data row2 col2\" >anterior_dur</td>\n",
       "                        <td id=\"T_39a12_row2_col3\" class=\"data row2 col3\" >עד</td>\n",
       "            </tr>\n",
       "            <tr>\n",
       "                        <th id=\"T_39a12_level0_row3\" class=\"row_heading level0 row3\" >490677</th>\n",
       "                        <td id=\"T_39a12_row3_col0\" class=\"data row3 col0\" >Psalms 13:3</td>\n",
       "                        <td id=\"T_39a12_row3_col1\" class=\"data row3 col1\" >עַד־אָ֨נָה אָשִׁ֪ית עֵצֹ֡ות בְּנַפְשִׁ֗י </td>\n",
       "                        <td id=\"T_39a12_row3_col2\" class=\"data row3 col2\" >anterior_dur</td>\n",
       "                        <td id=\"T_39a12_row3_col3\" class=\"data row3 col3\" >עד</td>\n",
       "            </tr>\n",
       "            <tr>\n",
       "                        <th id=\"T_39a12_level0_row4\" class=\"row_heading level0 row4\" >515582</th>\n",
       "                        <td id=\"T_39a12_row4_col0\" class=\"data row4 col0\" >2_Chronicles 35:25</td>\n",
       "                        <td id=\"T_39a12_row4_col1\" class=\"data row4 col1\" >וַיֹּאמְר֣וּ כָֽל־הַשָּׁרִ֣ים׀ וְ֠הַשָּׁרֹות בְּקִינֹ֨ותֵיהֶ֤ם עַל־יֹאשִׁיָּ֨הוּ֙ עַד־הַיֹּ֔ום </td>\n",
       "                        <td id=\"T_39a12_row4_col2\" class=\"data row4 col2\" >anterior_dur</td>\n",
       "                        <td id=\"T_39a12_row4_col3\" class=\"data row4 col3\" >עד</td>\n",
       "            </tr>\n",
       "    </tbody></table>"
      ],
      "text/plain": [
       "<pandas.io.formats.style.Styler at 0x7ff69a941a00>"
      ]
     },
     "metadata": {},
     "output_type": "display_data"
    },
    {
     "name": "stdout",
     "output_type": "stream",
     "text": [
      "ל\n",
      "showing 5 of 152\n"
     ]
    },
    {
     "data": {
      "text/html": [
       "<style  type=\"text/css\" >\n",
       "#T_e1c4d_row0_col1,#T_e1c4d_row1_col1,#T_e1c4d_row2_col1,#T_e1c4d_row3_col1,#T_e1c4d_row4_col1{\n",
       "            font-size: 20px;\n",
       "             font-family:  Times New Roman;\n",
       "             text-align:  right;\n",
       "             max-width:  500px;\n",
       "        }</style><table id=\"T_e1c4d_\" ><thead>    <tr>        <th class=\"blank level0\" ></th>        <th class=\"col_heading level0 col0\" >verse</th>        <th class=\"col_heading level0 col1\" >clause</th>        <th class=\"col_heading level0 col2\" >function</th>        <th class=\"col_heading level0 col3\" >front</th>    </tr>    <tr>        <th class=\"index_name level0\" >node</th>        <th class=\"blank\" ></th>        <th class=\"blank\" ></th>        <th class=\"blank\" ></th>        <th class=\"blank\" ></th>    </tr></thead><tbody>\n",
       "                <tr>\n",
       "                        <th id=\"T_e1c4d_level0_row0\" class=\"row_heading level0 row0\" >427870</th>\n",
       "                        <td id=\"T_e1c4d_row0_col0\" class=\"data row0 col0\" >Genesis 3:22</td>\n",
       "                        <td id=\"T_e1c4d_row0_col1\" class=\"data row0 col1\" >וָחַ֥י לְעֹלָֽם׃ </td>\n",
       "                        <td id=\"T_e1c4d_row0_col2\" class=\"data row0 col2\" >anterior_dur</td>\n",
       "                        <td id=\"T_e1c4d_row0_col3\" class=\"data row0 col3\" >ל</td>\n",
       "            </tr>\n",
       "            <tr>\n",
       "                        <th id=\"T_e1c4d_level0_row1\" class=\"row_heading level0 row1\" >479597</th>\n",
       "                        <td id=\"T_e1c4d_row1_col0\" class=\"data row1 col0\" >Jeremiah 50:39</td>\n",
       "                        <td id=\"T_e1c4d_row1_col1\" class=\"data row1 col1\" >וְלֹֽא־תֵשֵׁ֥ב עֹוד֙ לָנֶ֔צַח </td>\n",
       "                        <td id=\"T_e1c4d_row1_col2\" class=\"data row1 col2\" >anterior_dur</td>\n",
       "                        <td id=\"T_e1c4d_row1_col3\" class=\"data row1 col3\" >ל</td>\n",
       "            </tr>\n",
       "            <tr>\n",
       "                        <th id=\"T_e1c4d_level0_row2\" class=\"row_heading level0 row2\" >492307</th>\n",
       "                        <td id=\"T_e1c4d_row2_col0\" class=\"data row2 col0\" >Psalms 44:9</td>\n",
       "                        <td id=\"T_e1c4d_row2_col1\" class=\"data row2 col1\" >וְשִׁמְךָ֓׀ לְעֹולָ֖ם נֹודֶ֣ה </td>\n",
       "                        <td id=\"T_e1c4d_row2_col2\" class=\"data row2 col2\" >anterior_dur</td>\n",
       "                        <td id=\"T_e1c4d_row2_col3\" class=\"data row2 col3\" >ל</td>\n",
       "            </tr>\n",
       "            <tr>\n",
       "                        <th id=\"T_e1c4d_level0_row3\" class=\"row_heading level0 row3\" >495917</th>\n",
       "                        <td id=\"T_e1c4d_row3_col0\" class=\"data row3 col0\" >Psalms 112:6</td>\n",
       "                        <td id=\"T_e1c4d_row3_col1\" class=\"data row3 col1\" >כִּֽי־לְעֹולָ֥ם לֹא־יִמֹּ֑וט </td>\n",
       "                        <td id=\"T_e1c4d_row3_col2\" class=\"data row3 col2\" >anterior_dur</td>\n",
       "                        <td id=\"T_e1c4d_row3_col3\" class=\"data row3 col3\" >ל</td>\n",
       "            </tr>\n",
       "            <tr>\n",
       "                        <th id=\"T_e1c4d_level0_row4\" class=\"row_heading level0 row4\" >515267</th>\n",
       "                        <td id=\"T_e1c4d_row4_col0\" class=\"data row4 col0\" >2_Chronicles 33:7</td>\n",
       "                        <td id=\"T_e1c4d_row4_col1\" class=\"data row4 col1\" >בַּבַּ֨יִת הַזֶּ֜ה וּבִֽירוּשָׁלִַ֗ם אָשִׂ֥ים אֶת־שְׁמִ֖י לְעֵילֹֽום׃ </td>\n",
       "                        <td id=\"T_e1c4d_row4_col2\" class=\"data row4 col2\" >anterior_dur</td>\n",
       "                        <td id=\"T_e1c4d_row4_col3\" class=\"data row4 col3\" >ל</td>\n",
       "            </tr>\n",
       "    </tbody></table>"
      ],
      "text/plain": [
       "<pandas.io.formats.style.Styler at 0x7ff69a7a29d0>"
      ]
     },
     "metadata": {},
     "output_type": "display_data"
    },
    {
     "name": "stdout",
     "output_type": "stream",
     "text": [
      "עד+ל\n",
      "showing 3 of 3\n"
     ]
    },
    {
     "data": {
      "text/html": [
       "<style  type=\"text/css\" >\n",
       "#T_be46e_row0_col1,#T_be46e_row1_col1,#T_be46e_row2_col1{\n",
       "            font-size: 20px;\n",
       "             font-family:  Times New Roman;\n",
       "             text-align:  right;\n",
       "             max-width:  500px;\n",
       "        }</style><table id=\"T_be46e_\" ><thead>    <tr>        <th class=\"blank level0\" ></th>        <th class=\"col_heading level0 col0\" >verse</th>        <th class=\"col_heading level0 col1\" >clause</th>        <th class=\"col_heading level0 col2\" >function</th>        <th class=\"col_heading level0 col3\" >front</th>    </tr>    <tr>        <th class=\"index_name level0\" >node</th>        <th class=\"blank\" ></th>        <th class=\"blank\" ></th>        <th class=\"blank\" ></th>        <th class=\"blank\" ></th>    </tr></thead><tbody>\n",
       "                <tr>\n",
       "                        <th id=\"T_be46e_level0_row0\" class=\"row_heading level0 row0\" >508373</th>\n",
       "                        <td id=\"T_be46e_row0_col0\" class=\"data row0 col0\" >Ezra 9:4</td>\n",
       "                        <td id=\"T_be46e_row0_col1\" class=\"data row0 col1\" >וַאֲנִי֙ יֹשֵׁ֣ב מְשֹׁומֵ֔ם עַ֖ד לְמִנְחַ֥ת הָעָֽרֶב׃ </td>\n",
       "                        <td id=\"T_be46e_row0_col2\" class=\"data row0 col2\" >anterior_dur</td>\n",
       "                        <td id=\"T_be46e_row0_col3\" class=\"data row0 col3\" >עד+ל</td>\n",
       "            </tr>\n",
       "            <tr>\n",
       "                        <th id=\"T_be46e_level0_row1\" class=\"row_heading level0 row1\" >511836</th>\n",
       "                        <td id=\"T_be46e_row1_col0\" class=\"data row1 col0\" >1_Chronicles 23:25</td>\n",
       "                        <td id=\"T_be46e_row1_col1\" class=\"data row1 col1\" >וַיִּשְׁכֹּ֥ן בִּירוּשָׁלִַ֖ם עַד־לְעֹולָֽם׃ </td>\n",
       "                        <td id=\"T_be46e_row1_col2\" class=\"data row1 col2\" >anterior_dur</td>\n",
       "                        <td id=\"T_be46e_row1_col3\" class=\"data row1 col3\" >עד+ל</td>\n",
       "            </tr>\n",
       "            <tr>\n",
       "                        <th id=\"T_be46e_level0_row2\" class=\"row_heading level0 row2\" >512186</th>\n",
       "                        <td id=\"T_be46e_row2_col0\" class=\"data row2 col0\" >1_Chronicles 28:7</td>\n",
       "                        <td id=\"T_be46e_row2_col1\" class=\"data row2 col1\" >וַהֲכִינֹותִ֥י אֶת־מַלְכוּתֹ֖ו עַד־לְעֹולָ֑ם </td>\n",
       "                        <td id=\"T_be46e_row2_col2\" class=\"data row2 col2\" >anterior_dur</td>\n",
       "                        <td id=\"T_be46e_row2_col3\" class=\"data row2 col3\" >עד+ל</td>\n",
       "            </tr>\n",
       "    </tbody></table>"
      ],
      "text/plain": [
       "<pandas.io.formats.style.Styler at 0x7ff695c0a760>"
      ]
     },
     "metadata": {},
     "output_type": "display_data"
    },
    {
     "name": "stdout",
     "output_type": "stream",
     "text": [
      "--------------------------------------------------\n",
      "anterior\n",
      "ל+פנה\n",
      "showing 5 of 27\n"
     ]
    },
    {
     "data": {
      "text/html": [
       "<style  type=\"text/css\" >\n",
       "#T_22d95_row0_col1,#T_22d95_row1_col1,#T_22d95_row2_col1,#T_22d95_row3_col1,#T_22d95_row4_col1{\n",
       "            font-size: 20px;\n",
       "             font-family:  Times New Roman;\n",
       "             text-align:  right;\n",
       "             max-width:  500px;\n",
       "        }</style><table id=\"T_22d95_\" ><thead>    <tr>        <th class=\"blank level0\" ></th>        <th class=\"col_heading level0 col0\" >verse</th>        <th class=\"col_heading level0 col1\" >clause</th>        <th class=\"col_heading level0 col2\" >function</th>        <th class=\"col_heading level0 col3\" >front</th>    </tr>    <tr>        <th class=\"index_name level0\" >node</th>        <th class=\"blank\" ></th>        <th class=\"blank\" ></th>        <th class=\"blank\" ></th>        <th class=\"blank\" ></th>    </tr></thead><tbody>\n",
       "                <tr>\n",
       "                        <th id=\"T_22d95_level0_row0\" class=\"row_heading level0 row0\" >430247</th>\n",
       "                        <td id=\"T_22d95_row0_col0\" class=\"data row0 col0\" >Genesis 27:7</td>\n",
       "                        <td id=\"T_22d95_row0_col1\" class=\"data row0 col1\" >וַאֲבָרֶכְכָ֛ה לִפְנֵ֥י יְהוָ֖ה לִפְנֵ֥י מֹותִֽי׃ </td>\n",
       "                        <td id=\"T_22d95_row0_col2\" class=\"data row0 col2\" >anterior</td>\n",
       "                        <td id=\"T_22d95_row0_col3\" class=\"data row0 col3\" >ל+פנה</td>\n",
       "            </tr>\n",
       "            <tr>\n",
       "                        <th id=\"T_22d95_level0_row1\" class=\"row_heading level0 row1\" >445130</th>\n",
       "                        <td id=\"T_22d95_row1_col0\" class=\"data row1 col0\" >Deuteronomy 2:20</td>\n",
       "                        <td id=\"T_22d95_row1_col1\" class=\"data row1 col1\" >רְפָאִ֤ים יָֽשְׁבוּ־בָהּ֙ לְפָנִ֔ים </td>\n",
       "                        <td id=\"T_22d95_row1_col2\" class=\"data row1 col2\" >anterior</td>\n",
       "                        <td id=\"T_22d95_row1_col3\" class=\"data row1 col3\" >ל+פנה</td>\n",
       "            </tr>\n",
       "            <tr>\n",
       "                        <th id=\"T_22d95_level0_row2\" class=\"row_heading level0 row2\" >451182</th>\n",
       "                        <td id=\"T_22d95_row2_col0\" class=\"data row2 col0\" >Judges 1:23</td>\n",
       "                        <td id=\"T_22d95_row2_col1\" class=\"data row2 col1\" >וְשֵׁם־הָעִ֥יר לְפָנִ֖ים לֽוּז׃ </td>\n",
       "                        <td id=\"T_22d95_row2_col2\" class=\"data row2 col2\" >anterior</td>\n",
       "                        <td id=\"T_22d95_row2_col3\" class=\"data row2 col3\" >ל+פנה</td>\n",
       "            </tr>\n",
       "            <tr>\n",
       "                        <th id=\"T_22d95_level0_row3\" class=\"row_heading level0 row3\" >498056</th>\n",
       "                        <td id=\"T_22d95_row3_col0\" class=\"data row3 col0\" >Job 8:16</td>\n",
       "                        <td id=\"T_22d95_row3_col1\" class=\"data row3 col1\" >רָטֹ֣ב ה֖וּא לִפְנֵי־שָׁ֑מֶשׁ </td>\n",
       "                        <td id=\"T_22d95_row3_col2\" class=\"data row3 col2\" >anterior</td>\n",
       "                        <td id=\"T_22d95_row3_col3\" class=\"data row3 col3\" >ל+פנה</td>\n",
       "            </tr>\n",
       "            <tr>\n",
       "                        <th id=\"T_22d95_level0_row4\" class=\"row_heading level0 row4\" >513086</th>\n",
       "                        <td id=\"T_22d95_row4_col0\" class=\"data row4 col0\" >2_Chronicles 9:11</td>\n",
       "                        <td id=\"T_22d95_row4_col1\" class=\"data row4 col1\" >וְלֹא־נִרְא֥וּ כָהֵ֛ם לְפָנִ֖ים בְּאֶ֥רֶץ יְהוּדָֽה׃ </td>\n",
       "                        <td id=\"T_22d95_row4_col2\" class=\"data row4 col2\" >anterior</td>\n",
       "                        <td id=\"T_22d95_row4_col3\" class=\"data row4 col3\" >ל+פנה</td>\n",
       "            </tr>\n",
       "    </tbody></table>"
      ],
      "text/plain": [
       "<pandas.io.formats.style.Styler at 0x7ff69a7a23d0>"
      ]
     },
     "metadata": {},
     "output_type": "display_data"
    },
    {
     "name": "stdout",
     "output_type": "stream",
     "text": [
      "טרם\n",
      "showing 4 of 4\n"
     ]
    },
    {
     "data": {
      "text/html": [
       "<style  type=\"text/css\" >\n",
       "#T_25a32_row0_col1,#T_25a32_row1_col1,#T_25a32_row2_col1,#T_25a32_row3_col1{\n",
       "            font-size: 20px;\n",
       "             font-family:  Times New Roman;\n",
       "             text-align:  right;\n",
       "             max-width:  500px;\n",
       "        }</style><table id=\"T_25a32_\" ><thead>    <tr>        <th class=\"blank level0\" ></th>        <th class=\"col_heading level0 col0\" >verse</th>        <th class=\"col_heading level0 col1\" >clause</th>        <th class=\"col_heading level0 col2\" >function</th>        <th class=\"col_heading level0 col3\" >front</th>    </tr>    <tr>        <th class=\"index_name level0\" >node</th>        <th class=\"blank\" ></th>        <th class=\"blank\" ></th>        <th class=\"blank\" ></th>        <th class=\"blank\" ></th>    </tr></thead><tbody>\n",
       "                <tr>\n",
       "                        <th id=\"T_25a32_level0_row0\" class=\"row_heading level0 row0\" >427693</th>\n",
       "                        <td id=\"T_25a32_row0_col0\" class=\"data row0 col0\" >Genesis 2:5</td>\n",
       "                        <td id=\"T_25a32_row0_col1\" class=\"data row0 col1\" >וְכֹ֣ל׀ שִׂ֣יחַ הַשָּׂדֶ֗ה טֶ֚רֶם יִֽהְיֶ֣ה בָאָ֔רֶץ </td>\n",
       "                        <td id=\"T_25a32_row0_col2\" class=\"data row0 col2\" >anterior</td>\n",
       "                        <td id=\"T_25a32_row0_col3\" class=\"data row0 col3\" >טרם</td>\n",
       "            </tr>\n",
       "            <tr>\n",
       "                        <th id=\"T_25a32_level0_row1\" class=\"row_heading level0 row1\" >427694</th>\n",
       "                        <td id=\"T_25a32_row1_col0\" class=\"data row1 col0\" >Genesis 2:5</td>\n",
       "                        <td id=\"T_25a32_row1_col1\" class=\"data row1 col1\" >וְכָל־עֵ֥שֶׂב הַשָּׂדֶ֖ה טֶ֣רֶם יִצְמָ֑ח </td>\n",
       "                        <td id=\"T_25a32_row1_col2\" class=\"data row1 col2\" >anterior</td>\n",
       "                        <td id=\"T_25a32_row1_col3\" class=\"data row1 col3\" >טרם</td>\n",
       "            </tr>\n",
       "            <tr>\n",
       "                        <th id=\"T_25a32_level0_row2\" class=\"row_heading level0 row2\" >434600</th>\n",
       "                        <td id=\"T_25a32_row2_col0\" class=\"data row2 col0\" >Exodus 10:7</td>\n",
       "                        <td id=\"T_25a32_row2_col1\" class=\"data row2 col1\" >הֲטֶ֣רֶם תֵּדַ֔ע </td>\n",
       "                        <td id=\"T_25a32_row2_col2\" class=\"data row2 col2\" >anterior</td>\n",
       "                        <td id=\"T_25a32_row2_col3\" class=\"data row2 col3\" >טרם</td>\n",
       "            </tr>\n",
       "            <tr>\n",
       "                        <th id=\"T_25a32_level0_row3\" class=\"row_heading level0 row3\" >448860</th>\n",
       "                        <td id=\"T_25a32_row3_col0\" class=\"data row3 col0\" >Joshua 2:8</td>\n",
       "                        <td id=\"T_25a32_row3_col1\" class=\"data row3 col1\" >טֶ֣רֶם יִשְׁכָּב֑וּן </td>\n",
       "                        <td id=\"T_25a32_row3_col2\" class=\"data row3 col2\" >anterior</td>\n",
       "                        <td id=\"T_25a32_row3_col3\" class=\"data row3 col3\" >טרם</td>\n",
       "            </tr>\n",
       "    </tbody></table>"
      ],
      "text/plain": [
       "<pandas.io.formats.style.Styler at 0x7ff69a9418b0>"
      ]
     },
     "metadata": {},
     "output_type": "display_data"
    },
    {
     "name": "stdout",
     "output_type": "stream",
     "text": [
      "ל+פנה+מן\n",
      "showing 1 of 1\n"
     ]
    },
    {
     "data": {
      "text/html": [
       "<style  type=\"text/css\" >\n",
       "#T_01253_row0_col1{\n",
       "            font-size: 20px;\n",
       "             font-family:  Times New Roman;\n",
       "             text-align:  right;\n",
       "             max-width:  500px;\n",
       "        }</style><table id=\"T_01253_\" ><thead>    <tr>        <th class=\"blank level0\" ></th>        <th class=\"col_heading level0 col0\" >verse</th>        <th class=\"col_heading level0 col1\" >clause</th>        <th class=\"col_heading level0 col2\" >function</th>        <th class=\"col_heading level0 col3\" >front</th>    </tr>    <tr>        <th class=\"index_name level0\" >node</th>        <th class=\"blank\" ></th>        <th class=\"blank\" ></th>        <th class=\"blank\" ></th>        <th class=\"blank\" ></th>    </tr></thead><tbody>\n",
       "                <tr>\n",
       "                        <th id=\"T_01253_level0_row0\" class=\"row_heading level0 row0\" >509727</th>\n",
       "                        <td id=\"T_01253_row0_col0\" class=\"data row0 col0\" >Nehemiah 13:4</td>\n",
       "                        <td id=\"T_01253_row0_col1\" class=\"data row0 col1\" >וְלִפְנֵ֣י מִזֶּ֔ה אֶלְיָשִׁיב֙ הַכֹּהֵ֔ן </td>\n",
       "                        <td id=\"T_01253_row0_col2\" class=\"data row0 col2\" >anterior</td>\n",
       "                        <td id=\"T_01253_row0_col3\" class=\"data row0 col3\" >ל+פנה+מן</td>\n",
       "            </tr>\n",
       "    </tbody></table>"
      ],
      "text/plain": [
       "<pandas.io.formats.style.Styler at 0x7ff69ac90940>"
      ]
     },
     "metadata": {},
     "output_type": "display_data"
    },
    {
     "name": "stdout",
     "output_type": "stream",
     "text": [
      "--------------------------------------------------\n",
      "posterior\n",
      "אחר\n",
      "showing 5 of 161\n"
     ]
    },
    {
     "data": {
      "text/html": [
       "<style  type=\"text/css\" >\n",
       "#T_0a424_row0_col1,#T_0a424_row1_col1,#T_0a424_row2_col1,#T_0a424_row3_col1,#T_0a424_row4_col1{\n",
       "            font-size: 20px;\n",
       "             font-family:  Times New Roman;\n",
       "             text-align:  right;\n",
       "             max-width:  500px;\n",
       "        }</style><table id=\"T_0a424_\" ><thead>    <tr>        <th class=\"blank level0\" ></th>        <th class=\"col_heading level0 col0\" >verse</th>        <th class=\"col_heading level0 col1\" >clause</th>        <th class=\"col_heading level0 col2\" >function</th>        <th class=\"col_heading level0 col3\" >front</th>    </tr>    <tr>        <th class=\"index_name level0\" >node</th>        <th class=\"blank\" ></th>        <th class=\"blank\" ></th>        <th class=\"blank\" ></th>        <th class=\"blank\" ></th>    </tr></thead><tbody>\n",
       "                <tr>\n",
       "                        <th id=\"T_0a424_level0_row0\" class=\"row_heading level0 row0\" >428070</th>\n",
       "                        <td id=\"T_0a424_row0_col0\" class=\"data row0 col0\" >Genesis 6:4</td>\n",
       "                        <td id=\"T_0a424_row0_col1\" class=\"data row0 col1\" >וְגַ֣ם אַֽחֲרֵי־כֵ֗ן </td>\n",
       "                        <td id=\"T_0a424_row0_col2\" class=\"data row0 col2\" >posterior</td>\n",
       "                        <td id=\"T_0a424_row0_col3\" class=\"data row0 col3\" >אחר</td>\n",
       "            </tr>\n",
       "            <tr>\n",
       "                        <th id=\"T_0a424_level0_row1\" class=\"row_heading level0 row1\" >440180</th>\n",
       "                        <td id=\"T_0a424_row1_col0\" class=\"data row1 col0\" >Leviticus 22:7</td>\n",
       "                        <td id=\"T_0a424_row1_col1\" class=\"data row1 col1\" >וְאַחַר֙ יֹאכַ֣ל מִן־הַקֳּדָשִׁ֔ים </td>\n",
       "                        <td id=\"T_0a424_row1_col2\" class=\"data row1 col2\" >posterior</td>\n",
       "                        <td id=\"T_0a424_row1_col3\" class=\"data row1 col3\" >אחר</td>\n",
       "            </tr>\n",
       "            <tr>\n",
       "                        <th id=\"T_0a424_level0_row2\" class=\"row_heading level0 row2\" >457117</th>\n",
       "                        <td id=\"T_0a424_row2_col0\" class=\"data row2 col0\" >1_Samuel 24:22</td>\n",
       "                        <td id=\"T_0a424_row2_col1\" class=\"data row2 col1\" >אִם־תַּכְרִ֥ית אֶת־זַרְעִ֖י אַֽחֲרָ֑י </td>\n",
       "                        <td id=\"T_0a424_row2_col2\" class=\"data row2 col2\" >posterior</td>\n",
       "                        <td id=\"T_0a424_row2_col3\" class=\"data row2 col3\" >אחר</td>\n",
       "            </tr>\n",
       "            <tr>\n",
       "                        <th id=\"T_0a424_level0_row3\" class=\"row_heading level0 row3\" >502997</th>\n",
       "                        <td id=\"T_0a424_row3_col0\" class=\"data row3 col0\" >Ruth 2:11</td>\n",
       "                        <td id=\"T_0a424_row3_col1\" class=\"data row3 col1\" >אֲשֶׁר־עָשִׂית֙ אֶת־חֲמֹותֵ֔ךְ אַחֲרֵ֖י מֹ֣ות אִישֵׁ֑ךְ </td>\n",
       "                        <td id=\"T_0a424_row3_col2\" class=\"data row3 col2\" >posterior</td>\n",
       "                        <td id=\"T_0a424_row3_col3\" class=\"data row3 col3\" >אחר</td>\n",
       "            </tr>\n",
       "            <tr>\n",
       "                        <th id=\"T_0a424_level0_row4\" class=\"row_heading level0 row4\" >515548</th>\n",
       "                        <td id=\"T_0a424_row4_col0\" class=\"data row4 col0\" >2_Chronicles 35:20</td>\n",
       "                        <td id=\"T_0a424_row4_col1\" class=\"data row4 col1\" >אַחֲרֵ֣י כָל־זֹ֗את עָלָ֞ה נְכֹ֧ו מֶֽלֶךְ־מִצְרַ֛יִם </td>\n",
       "                        <td id=\"T_0a424_row4_col2\" class=\"data row4 col2\" >posterior</td>\n",
       "                        <td id=\"T_0a424_row4_col3\" class=\"data row4 col3\" >אחר</td>\n",
       "            </tr>\n",
       "    </tbody></table>"
      ],
      "text/plain": [
       "<pandas.io.formats.style.Styler at 0x7ff69a941cd0>"
      ]
     },
     "metadata": {},
     "output_type": "display_data"
    },
    {
     "name": "stdout",
     "output_type": "stream",
     "text": [
      "מן\n",
      "showing 5 of 32\n"
     ]
    },
    {
     "data": {
      "text/html": [
       "<style  type=\"text/css\" >\n",
       "#T_f7839_row0_col1,#T_f7839_row1_col1,#T_f7839_row2_col1,#T_f7839_row3_col1,#T_f7839_row4_col1{\n",
       "            font-size: 20px;\n",
       "             font-family:  Times New Roman;\n",
       "             text-align:  right;\n",
       "             max-width:  500px;\n",
       "        }</style><table id=\"T_f7839_\" ><thead>    <tr>        <th class=\"blank level0\" ></th>        <th class=\"col_heading level0 col0\" >verse</th>        <th class=\"col_heading level0 col1\" >clause</th>        <th class=\"col_heading level0 col2\" >function</th>        <th class=\"col_heading level0 col3\" >front</th>    </tr>    <tr>        <th class=\"index_name level0\" >node</th>        <th class=\"blank\" ></th>        <th class=\"blank\" ></th>        <th class=\"blank\" ></th>        <th class=\"blank\" ></th>    </tr></thead><tbody>\n",
       "                <tr>\n",
       "                        <th id=\"T_f7839_level0_row0\" class=\"row_heading level0 row0\" >429260</th>\n",
       "                        <td id=\"T_f7839_row0_col0\" class=\"data row0 col0\" >Genesis 19:34</td>\n",
       "                        <td id=\"T_f7839_row0_col1\" class=\"data row0 col1\" >וַֽיְהִי֙ מִֽמָּחֳרָ֔ת </td>\n",
       "                        <td id=\"T_f7839_row0_col2\" class=\"data row0 col2\" >posterior</td>\n",
       "                        <td id=\"T_f7839_row0_col3\" class=\"data row0 col3\" >מן</td>\n",
       "            </tr>\n",
       "            <tr>\n",
       "                        <th id=\"T_f7839_level0_row1\" class=\"row_heading level0 row1\" >442804</th>\n",
       "                        <td id=\"T_f7839_row1_col0\" class=\"data row1 col0\" >Numbers 17:6</td>\n",
       "                        <td id=\"T_f7839_row1_col1\" class=\"data row1 col1\" >וַיִּלֹּ֜נוּ כָּל־עֲדַ֤ת בְּנֵֽי־יִשְׂרָאֵל֙ מִֽמָּחֳרָ֔ת עַל־מֹשֶׁ֥ה וְעַֽל־אַהֲרֹ֖ן </td>\n",
       "                        <td id=\"T_f7839_row1_col2\" class=\"data row1 col2\" >posterior</td>\n",
       "                        <td id=\"T_f7839_row1_col3\" class=\"data row1 col3\" >מן</td>\n",
       "            </tr>\n",
       "            <tr>\n",
       "                        <th id=\"T_f7839_level0_row2\" class=\"row_heading level0 row2\" >453845</th>\n",
       "                        <td id=\"T_f7839_row2_col0\" class=\"data row2 col0\" >Judges 21:4</td>\n",
       "                        <td id=\"T_f7839_row2_col1\" class=\"data row2 col1\" >וַֽיְהִי֙ מִֽמָּחֳרָ֔ת </td>\n",
       "                        <td id=\"T_f7839_row2_col2\" class=\"data row2 col2\" >posterior</td>\n",
       "                        <td id=\"T_f7839_row2_col3\" class=\"data row2 col3\" >מן</td>\n",
       "            </tr>\n",
       "            <tr>\n",
       "                        <th id=\"T_f7839_level0_row3\" class=\"row_heading level0 row3\" >474107</th>\n",
       "                        <td id=\"T_f7839_row3_col0\" class=\"data row3 col0\" >Jeremiah 3:4</td>\n",
       "                        <td id=\"T_f7839_row3_col1\" class=\"data row3 col1\" >הֲלֹ֣וא מֵעַ֔תָּה קָרָ֥את לִ֖י </td>\n",
       "                        <td id=\"T_f7839_row3_col2\" class=\"data row3 col2\" >posterior</td>\n",
       "                        <td id=\"T_f7839_row3_col3\" class=\"data row3 col3\" >מן</td>\n",
       "            </tr>\n",
       "            <tr>\n",
       "                        <th id=\"T_f7839_level0_row4\" class=\"row_heading level0 row4\" >514549</th>\n",
       "                        <td id=\"T_f7839_row4_col0\" class=\"data row4 col0\" >2_Chronicles 25:27</td>\n",
       "                        <td id=\"T_f7839_row4_col1\" class=\"data row4 col1\" >וּמֵעֵ֗ת </td>\n",
       "                        <td id=\"T_f7839_row4_col2\" class=\"data row4 col2\" >posterior</td>\n",
       "                        <td id=\"T_f7839_row4_col3\" class=\"data row4 col3\" >מן</td>\n",
       "            </tr>\n",
       "    </tbody></table>"
      ],
      "text/plain": [
       "<pandas.io.formats.style.Styler at 0x7ff69ac901c0>"
      ]
     },
     "metadata": {},
     "output_type": "display_data"
    },
    {
     "name": "stdout",
     "output_type": "stream",
     "text": [
      "מן+קץ\n",
      "showing 5 of 18\n"
     ]
    },
    {
     "data": {
      "text/html": [
       "<style  type=\"text/css\" >\n",
       "#T_5360b_row0_col1,#T_5360b_row1_col1,#T_5360b_row2_col1,#T_5360b_row3_col1,#T_5360b_row4_col1{\n",
       "            font-size: 20px;\n",
       "             font-family:  Times New Roman;\n",
       "             text-align:  right;\n",
       "             max-width:  500px;\n",
       "        }</style><table id=\"T_5360b_\" ><thead>    <tr>        <th class=\"blank level0\" ></th>        <th class=\"col_heading level0 col0\" >verse</th>        <th class=\"col_heading level0 col1\" >clause</th>        <th class=\"col_heading level0 col2\" >function</th>        <th class=\"col_heading level0 col3\" >front</th>    </tr>    <tr>        <th class=\"index_name level0\" >node</th>        <th class=\"blank\" ></th>        <th class=\"blank\" ></th>        <th class=\"blank\" ></th>        <th class=\"blank\" ></th>    </tr></thead><tbody>\n",
       "                <tr>\n",
       "                        <th id=\"T_5360b_level0_row0\" class=\"row_heading level0 row0\" >427887</th>\n",
       "                        <td id=\"T_5360b_row0_col0\" class=\"data row0 col0\" >Genesis 4:3</td>\n",
       "                        <td id=\"T_5360b_row0_col1\" class=\"data row0 col1\" >וַֽיְהִ֖י מִקֵּ֣ץ יָמִ֑ים </td>\n",
       "                        <td id=\"T_5360b_row0_col2\" class=\"data row0 col2\" >posterior</td>\n",
       "                        <td id=\"T_5360b_row0_col3\" class=\"data row0 col3\" >מן+קץ</td>\n",
       "            </tr>\n",
       "            <tr>\n",
       "                        <th id=\"T_5360b_level0_row1\" class=\"row_heading level0 row1\" >445968</th>\n",
       "                        <td id=\"T_5360b_row1_col0\" class=\"data row1 col0\" >Deuteronomy 9:11</td>\n",
       "                        <td id=\"T_5360b_row1_col1\" class=\"data row1 col1\" >מִקֵּץ֙ אַרְבָּעִ֣ים יֹ֔ום וְאַרְבָּעִ֖ים לָ֑יְלָה נָתַ֨ן יְהוָ֜ה אֵלַ֗י אֶת־שְׁנֵ֛י לֻחֹ֥ת הָאֲבָנִ֖ים לֻחֹ֥ות הַבְּרִֽית׃ </td>\n",
       "                        <td id=\"T_5360b_row1_col2\" class=\"data row1 col2\" >posterior</td>\n",
       "                        <td id=\"T_5360b_row1_col3\" class=\"data row1 col3\" >מן+קץ</td>\n",
       "            </tr>\n",
       "            <tr>\n",
       "                        <th id=\"T_5360b_level0_row2\" class=\"row_heading level0 row2\" >459695</th>\n",
       "                        <td id=\"T_5360b_row2_col0\" class=\"data row2 col0\" >2_Samuel 15:7</td>\n",
       "                        <td id=\"T_5360b_row2_col1\" class=\"data row2 col1\" >וַיְהִ֕י מִקֵּ֖ץ אַרְבָּעִ֣ים שָׁנָ֑ה </td>\n",
       "                        <td id=\"T_5360b_row2_col2\" class=\"data row2 col2\" >posterior</td>\n",
       "                        <td id=\"T_5360b_row2_col3\" class=\"data row2 col3\" >מן+קץ</td>\n",
       "            </tr>\n",
       "            <tr>\n",
       "                        <th id=\"T_5360b_level0_row3\" class=\"row_heading level0 row3\" >469819</th>\n",
       "                        <td id=\"T_5360b_row3_col0\" class=\"data row3 col0\" >Isaiah 23:17</td>\n",
       "                        <td id=\"T_5360b_row3_col1\" class=\"data row3 col1\" >וְהָיָ֞ה מִקֵּ֣ץ׀ שִׁבְעִ֣ים שָׁנָ֗ה </td>\n",
       "                        <td id=\"T_5360b_row3_col2\" class=\"data row3 col2\" >posterior</td>\n",
       "                        <td id=\"T_5360b_row3_col3\" class=\"data row3 col3\" >מן+קץ</td>\n",
       "            </tr>\n",
       "            <tr>\n",
       "                        <th id=\"T_5360b_level0_row4\" class=\"row_heading level0 row4\" >512988</th>\n",
       "                        <td id=\"T_5360b_row4_col0\" class=\"data row4 col0\" >2_Chronicles 8:1</td>\n",
       "                        <td id=\"T_5360b_row4_col1\" class=\"data row4 col1\" >וַיְהִ֞י מִקֵּ֣ץ׀ עֶשְׂרִ֣ים שָׁנָ֗ה </td>\n",
       "                        <td id=\"T_5360b_row4_col2\" class=\"data row4 col2\" >posterior</td>\n",
       "                        <td id=\"T_5360b_row4_col3\" class=\"data row4 col3\" >מן+קץ</td>\n",
       "            </tr>\n",
       "    </tbody></table>"
      ],
      "text/plain": [
       "<pandas.io.formats.style.Styler at 0x7ff69ac901f0>"
      ]
     },
     "metadata": {},
     "output_type": "display_data"
    },
    {
     "name": "stdout",
     "output_type": "stream",
     "text": [
      "מן+קצה\n",
      "showing 5 of 10\n"
     ]
    },
    {
     "data": {
      "text/html": [
       "<style  type=\"text/css\" >\n",
       "#T_17983_row0_col1,#T_17983_row1_col1,#T_17983_row2_col1,#T_17983_row3_col1,#T_17983_row4_col1{\n",
       "            font-size: 20px;\n",
       "             font-family:  Times New Roman;\n",
       "             text-align:  right;\n",
       "             max-width:  500px;\n",
       "        }</style><table id=\"T_17983_\" ><thead>    <tr>        <th class=\"blank level0\" ></th>        <th class=\"col_heading level0 col0\" >verse</th>        <th class=\"col_heading level0 col1\" >clause</th>        <th class=\"col_heading level0 col2\" >function</th>        <th class=\"col_heading level0 col3\" >front</th>    </tr>    <tr>        <th class=\"index_name level0\" >node</th>        <th class=\"blank\" ></th>        <th class=\"blank\" ></th>        <th class=\"blank\" ></th>        <th class=\"blank\" ></th>    </tr></thead><tbody>\n",
       "                <tr>\n",
       "                        <th id=\"T_17983_level0_row0\" class=\"row_heading level0 row0\" >428201</th>\n",
       "                        <td id=\"T_17983_row0_col0\" class=\"data row0 col0\" >Genesis 8:3</td>\n",
       "                        <td id=\"T_17983_row0_col1\" class=\"data row0 col1\" >וַיַּחְסְר֣וּ הַמַּ֔יִם מִקְצֵ֕ה חֲמִשִּׁ֥ים וּמְאַ֖ת יֹֽום׃ </td>\n",
       "                        <td id=\"T_17983_row0_col2\" class=\"data row0 col2\" >posterior</td>\n",
       "                        <td id=\"T_17983_row0_col3\" class=\"data row0 col3\" >מן+קצה</td>\n",
       "            </tr>\n",
       "            <tr>\n",
       "                        <th id=\"T_17983_level0_row1\" class=\"row_heading level0 row1\" >449658</th>\n",
       "                        <td id=\"T_17983_row1_col0\" class=\"data row1 col0\" >Joshua 9:16</td>\n",
       "                        <td id=\"T_17983_row1_col1\" class=\"data row1 col1\" >וַיְהִ֗י מִקְצֵה֙ שְׁלֹ֣שֶׁת יָמִ֔ים </td>\n",
       "                        <td id=\"T_17983_row1_col2\" class=\"data row1 col2\" >posterior</td>\n",
       "                        <td id=\"T_17983_row1_col3\" class=\"data row1 col3\" >מן+קצה</td>\n",
       "            </tr>\n",
       "            <tr>\n",
       "                        <th id=\"T_17983_level0_row2\" class=\"row_heading level0 row2\" >462527</th>\n",
       "                        <td id=\"T_17983_row2_col0\" class=\"data row2 col0\" >1_Kings 9:10</td>\n",
       "                        <td id=\"T_17983_row2_col1\" class=\"data row2 col1\" >וַיְהִ֗י מִקְצֵה֙ עֶשְׂרִ֣ים שָׁנָ֔ה </td>\n",
       "                        <td id=\"T_17983_row2_col2\" class=\"data row2 col2\" >posterior</td>\n",
       "                        <td id=\"T_17983_row2_col3\" class=\"data row2 col3\" >מן+קצה</td>\n",
       "            </tr>\n",
       "            <tr>\n",
       "                        <th id=\"T_17983_level0_row3\" class=\"row_heading level0 row3\" >467220</th>\n",
       "                        <td id=\"T_17983_row3_col0\" class=\"data row3 col0\" >2_Kings 18:10</td>\n",
       "                        <td id=\"T_17983_row3_col1\" class=\"data row3 col1\" >וַֽיִּלְכְּדֻ֗הָ מִקְצֵה֙ שָׁלֹ֣שׁ שָׁנִ֔ים </td>\n",
       "                        <td id=\"T_17983_row3_col2\" class=\"data row3 col2\" >posterior</td>\n",
       "                        <td id=\"T_17983_row3_col3\" class=\"data row3 col3\" >מן+קצה</td>\n",
       "            </tr>\n",
       "            <tr>\n",
       "                        <th id=\"T_17983_level0_row4\" class=\"row_heading level0 row4\" >484490</th>\n",
       "                        <td id=\"T_17983_row4_col0\" class=\"data row4 col0\" >Ezekiel 39:14</td>\n",
       "                        <td id=\"T_17983_row4_col1\" class=\"data row4 col1\" >מִקְצֵ֥ה שִׁבְעָֽה־חֳדָשִׁ֖ים יַחְקֹֽרוּ׃ </td>\n",
       "                        <td id=\"T_17983_row4_col2\" class=\"data row4 col2\" >posterior</td>\n",
       "                        <td id=\"T_17983_row4_col3\" class=\"data row4 col3\" >מן+קצה</td>\n",
       "            </tr>\n",
       "    </tbody></table>"
      ],
      "text/plain": [
       "<pandas.io.formats.style.Styler at 0x7ff69a7a23d0>"
      ]
     },
     "metadata": {},
     "output_type": "display_data"
    },
    {
     "name": "stdout",
     "output_type": "stream",
     "text": [
      "מן+אחר\n",
      "showing 2 of 2\n"
     ]
    },
    {
     "data": {
      "text/html": [
       "<style  type=\"text/css\" >\n",
       "#T_13f72_row0_col1,#T_13f72_row1_col1{\n",
       "            font-size: 20px;\n",
       "             font-family:  Times New Roman;\n",
       "             text-align:  right;\n",
       "             max-width:  500px;\n",
       "        }</style><table id=\"T_13f72_\" ><thead>    <tr>        <th class=\"blank level0\" ></th>        <th class=\"col_heading level0 col0\" >verse</th>        <th class=\"col_heading level0 col1\" >clause</th>        <th class=\"col_heading level0 col2\" >function</th>        <th class=\"col_heading level0 col3\" >front</th>    </tr>    <tr>        <th class=\"index_name level0\" >node</th>        <th class=\"blank\" ></th>        <th class=\"blank\" ></th>        <th class=\"blank\" ></th>        <th class=\"blank\" ></th>    </tr></thead><tbody>\n",
       "                <tr>\n",
       "                        <th id=\"T_13f72_level0_row0\" class=\"row_heading level0 row0\" >458335</th>\n",
       "                        <td id=\"T_13f72_row0_col0\" class=\"data row0 col0\" >2_Samuel 3:28</td>\n",
       "                        <td id=\"T_13f72_row0_col1\" class=\"data row0 col1\" >וַיִּשְׁמַ֤ע דָּוִד֙ מֵאַ֣חֲרֵי כֵ֔ן </td>\n",
       "                        <td id=\"T_13f72_row0_col2\" class=\"data row0 col2\" >posterior</td>\n",
       "                        <td id=\"T_13f72_row0_col3\" class=\"data row0 col3\" >מן+אחר</td>\n",
       "            </tr>\n",
       "            <tr>\n",
       "                        <th id=\"T_13f72_level0_row1\" class=\"row_heading level0 row1\" >459663</th>\n",
       "                        <td id=\"T_13f72_row1_col0\" class=\"data row1 col0\" >2_Samuel 15:1</td>\n",
       "                        <td id=\"T_13f72_row1_col1\" class=\"data row1 col1\" >וַֽיְהִי֙ מֵאַ֣חֲרֵי כֵ֔ן </td>\n",
       "                        <td id=\"T_13f72_row1_col2\" class=\"data row1 col2\" >posterior</td>\n",
       "                        <td id=\"T_13f72_row1_col3\" class=\"data row1 col3\" >מן+אחר</td>\n",
       "            </tr>\n",
       "    </tbody></table>"
      ],
      "text/plain": [
       "<pandas.io.formats.style.Styler at 0x7ff69ac90f40>"
      ]
     },
     "metadata": {},
     "output_type": "display_data"
    },
    {
     "name": "stdout",
     "output_type": "stream",
     "text": [
      "מן+קצת\n",
      "showing 1 of 1\n"
     ]
    },
    {
     "data": {
      "text/html": [
       "<style  type=\"text/css\" >\n",
       "#T_811f8_row0_col1{\n",
       "            font-size: 20px;\n",
       "             font-family:  Times New Roman;\n",
       "             text-align:  right;\n",
       "             max-width:  500px;\n",
       "        }</style><table id=\"T_811f8_\" ><thead>    <tr>        <th class=\"blank level0\" ></th>        <th class=\"col_heading level0 col0\" >verse</th>        <th class=\"col_heading level0 col1\" >clause</th>        <th class=\"col_heading level0 col2\" >function</th>        <th class=\"col_heading level0 col3\" >front</th>    </tr>    <tr>        <th class=\"index_name level0\" >node</th>        <th class=\"blank\" ></th>        <th class=\"blank\" ></th>        <th class=\"blank\" ></th>        <th class=\"blank\" ></th>    </tr></thead><tbody>\n",
       "                <tr>\n",
       "                        <th id=\"T_811f8_level0_row0\" class=\"row_heading level0 row0\" >506047</th>\n",
       "                        <td id=\"T_811f8_row0_col0\" class=\"data row0 col0\" >Daniel 1:15</td>\n",
       "                        <td id=\"T_811f8_row0_col1\" class=\"data row0 col1\" >וּמִקְצָת֙ יָמִ֣ים עֲשָׂרָ֔ה נִרְאָ֤ה מַרְאֵיהֶם֙ </td>\n",
       "                        <td id=\"T_811f8_row0_col2\" class=\"data row0 col2\" >posterior</td>\n",
       "                        <td id=\"T_811f8_row0_col3\" class=\"data row0 col3\" >מן+קצת</td>\n",
       "            </tr>\n",
       "    </tbody></table>"
      ],
      "text/plain": [
       "<pandas.io.formats.style.Styler at 0x7ff69a77e970>"
      ]
     },
     "metadata": {},
     "output_type": "display_data"
    },
    {
     "name": "stdout",
     "output_type": "stream",
     "text": [
      "--------------------------------------------------\n",
      "posterior_dur\n",
      "מן\n",
      "showing 5 of 64\n"
     ]
    },
    {
     "data": {
      "text/html": [
       "<style  type=\"text/css\" >\n",
       "#T_3fbc8_row0_col1,#T_3fbc8_row1_col1,#T_3fbc8_row2_col1,#T_3fbc8_row3_col1,#T_3fbc8_row4_col1{\n",
       "            font-size: 20px;\n",
       "             font-family:  Times New Roman;\n",
       "             text-align:  right;\n",
       "             max-width:  500px;\n",
       "        }</style><table id=\"T_3fbc8_\" ><thead>    <tr>        <th class=\"blank level0\" ></th>        <th class=\"col_heading level0 col0\" >verse</th>        <th class=\"col_heading level0 col1\" >clause</th>        <th class=\"col_heading level0 col2\" >function</th>        <th class=\"col_heading level0 col3\" >front</th>    </tr>    <tr>        <th class=\"index_name level0\" >node</th>        <th class=\"blank\" ></th>        <th class=\"blank\" ></th>        <th class=\"blank\" ></th>        <th class=\"blank\" ></th>    </tr></thead><tbody>\n",
       "                <tr>\n",
       "                        <th id=\"T_3fbc8_level0_row0\" class=\"row_heading level0 row0\" >435870</th>\n",
       "                        <td id=\"T_3fbc8_row0_col0\" class=\"data row0 col0\" >Exodus 21:29</td>\n",
       "                        <td id=\"T_3fbc8_row0_col1\" class=\"data row0 col1\" >וְאִ֡ם שֹׁור֩ נַגָּ֨ח ה֜וּא מִתְּמֹ֣ל שִׁלְשֹׁ֗ם </td>\n",
       "                        <td id=\"T_3fbc8_row0_col2\" class=\"data row0 col2\" >posterior_dur</td>\n",
       "                        <td id=\"T_3fbc8_row0_col3\" class=\"data row0 col3\" >מן</td>\n",
       "            </tr>\n",
       "            <tr>\n",
       "                        <th id=\"T_3fbc8_level0_row1\" class=\"row_heading level0 row1\" >471018</th>\n",
       "                        <td id=\"T_3fbc8_row1_col0\" class=\"data row1 col0\" >Isaiah 37:26</td>\n",
       "                        <td id=\"T_3fbc8_row1_col1\" class=\"data row1 col1\" >אֹותָ֣הּ עָשִׂ֔יתִי מִ֥ימֵי קֶ֖דֶם </td>\n",
       "                        <td id=\"T_3fbc8_row1_col2\" class=\"data row1 col2\" >posterior_dur</td>\n",
       "                        <td id=\"T_3fbc8_row1_col3\" class=\"data row1 col3\" >מן</td>\n",
       "            </tr>\n",
       "            <tr>\n",
       "                        <th id=\"T_3fbc8_level0_row2\" class=\"row_heading level0 row2\" >472211</th>\n",
       "                        <td id=\"T_3fbc8_row2_col0\" class=\"data row2 col0\" >Isaiah 48:5</td>\n",
       "                        <td id=\"T_3fbc8_row2_col1\" class=\"data row2 col1\" >וָאַגִּ֤יד לְךָ֙ מֵאָ֔ז </td>\n",
       "                        <td id=\"T_3fbc8_row2_col2\" class=\"data row2 col2\" >posterior_dur</td>\n",
       "                        <td id=\"T_3fbc8_row2_col3\" class=\"data row2 col3\" >מן</td>\n",
       "            </tr>\n",
       "            <tr>\n",
       "                        <th id=\"T_3fbc8_level0_row3\" class=\"row_heading level0 row3\" >486452</th>\n",
       "                        <td id=\"T_3fbc8_row3_col0\" class=\"data row3 col0\" >Joel 2:2</td>\n",
       "                        <td id=\"T_3fbc8_row3_col1\" class=\"data row3 col1\" >כָּמֹ֗הוּ לֹ֤א נִֽהְיָה֙ מִן־הָ֣עֹולָ֔ם </td>\n",
       "                        <td id=\"T_3fbc8_row3_col2\" class=\"data row3 col2\" >posterior_dur</td>\n",
       "                        <td id=\"T_3fbc8_row3_col3\" class=\"data row3 col3\" >מן</td>\n",
       "            </tr>\n",
       "            <tr>\n",
       "                        <th id=\"T_3fbc8_level0_row4\" class=\"row_heading level0 row4\" >515543</th>\n",
       "                        <td id=\"T_3fbc8_row4_col0\" class=\"data row4 col0\" >2_Chronicles 35:18</td>\n",
       "                        <td id=\"T_3fbc8_row4_col1\" class=\"data row4 col1\" >וְלֹֽא־נַעֲשָׂ֨ה פֶ֤סַח כָּמֹ֨הוּ֙ בְּיִשְׂרָאֵ֔ל מִימֵ֖י שְׁמוּאֵ֣ל הַנָּבִ֑יא </td>\n",
       "                        <td id=\"T_3fbc8_row4_col2\" class=\"data row4 col2\" >posterior_dur</td>\n",
       "                        <td id=\"T_3fbc8_row4_col3\" class=\"data row4 col3\" >מן</td>\n",
       "            </tr>\n",
       "    </tbody></table>"
      ],
      "text/plain": [
       "<pandas.io.formats.style.Styler at 0x7ff69a77e580>"
      ]
     },
     "metadata": {},
     "output_type": "display_data"
    },
    {
     "name": "stdout",
     "output_type": "stream",
     "text": [
      "מן+תחלה\n",
      "showing 1 of 1\n"
     ]
    },
    {
     "data": {
      "text/html": [
       "<style  type=\"text/css\" >\n",
       "#T_9a825_row0_col1{\n",
       "            font-size: 20px;\n",
       "             font-family:  Times New Roman;\n",
       "             text-align:  right;\n",
       "             max-width:  500px;\n",
       "        }</style><table id=\"T_9a825_\" ><thead>    <tr>        <th class=\"blank level0\" ></th>        <th class=\"col_heading level0 col0\" >verse</th>        <th class=\"col_heading level0 col1\" >clause</th>        <th class=\"col_heading level0 col2\" >function</th>        <th class=\"col_heading level0 col3\" >front</th>    </tr>    <tr>        <th class=\"index_name level0\" >node</th>        <th class=\"blank\" ></th>        <th class=\"blank\" ></th>        <th class=\"blank\" ></th>        <th class=\"blank\" ></th>    </tr></thead><tbody>\n",
       "                <tr>\n",
       "                        <th id=\"T_9a825_level0_row0\" class=\"row_heading level0 row0\" >460695</th>\n",
       "                        <td id=\"T_9a825_row0_col0\" class=\"data row0 col0\" >2_Samuel 21:10</td>\n",
       "                        <td id=\"T_9a825_row0_col1\" class=\"data row0 col1\" >וַתַּטֵּ֨הוּ לָ֤הּ אֶל־הַצּוּר֙ מִתְּחִלַּ֣ת קָצִ֔יר </td>\n",
       "                        <td id=\"T_9a825_row0_col2\" class=\"data row0 col2\" >posterior_dur</td>\n",
       "                        <td id=\"T_9a825_row0_col3\" class=\"data row0 col3\" >מן+תחלה</td>\n",
       "            </tr>\n",
       "    </tbody></table>"
      ],
      "text/plain": [
       "<pandas.io.formats.style.Styler at 0x7ff69ac95a90>"
      ]
     },
     "metadata": {},
     "output_type": "display_data"
    },
    {
     "name": "stdout",
     "output_type": "stream",
     "text": [
      "מן+ל\n",
      "showing 1 of 1\n"
     ]
    },
    {
     "data": {
      "text/html": [
       "<style  type=\"text/css\" >\n",
       "#T_6a934_row0_col1{\n",
       "            font-size: 20px;\n",
       "             font-family:  Times New Roman;\n",
       "             text-align:  right;\n",
       "             max-width:  500px;\n",
       "        }</style><table id=\"T_6a934_\" ><thead>    <tr>        <th class=\"blank level0\" ></th>        <th class=\"col_heading level0 col0\" >verse</th>        <th class=\"col_heading level0 col1\" >clause</th>        <th class=\"col_heading level0 col2\" >function</th>        <th class=\"col_heading level0 col3\" >front</th>    </tr>    <tr>        <th class=\"index_name level0\" >node</th>        <th class=\"blank\" ></th>        <th class=\"blank\" ></th>        <th class=\"blank\" ></th>        <th class=\"blank\" ></th>    </tr></thead><tbody>\n",
       "                <tr>\n",
       "                        <th id=\"T_6a934_level0_row0\" class=\"row_heading level0 row0\" >471467</th>\n",
       "                        <td id=\"T_6a934_row0_col0\" class=\"data row0 col0\" >Isaiah 41:26</td>\n",
       "                        <td id=\"T_6a934_row0_col1\" class=\"data row0 col1\" >וּמִלְּפָנִ֖ים </td>\n",
       "                        <td id=\"T_6a934_row0_col2\" class=\"data row0 col2\" >posterior_dur</td>\n",
       "                        <td id=\"T_6a934_row0_col3\" class=\"data row0 col3\" >מן+ל</td>\n",
       "            </tr>\n",
       "    </tbody></table>"
      ],
      "text/plain": [
       "<pandas.io.formats.style.Styler at 0x7ff69a9415e0>"
      ]
     },
     "metadata": {},
     "output_type": "display_data"
    },
    {
     "name": "stdout",
     "output_type": "stream",
     "text": [
      "ל+מן\n",
      "showing 1 of 1\n"
     ]
    },
    {
     "data": {
      "text/html": [
       "<style  type=\"text/css\" >\n",
       "#T_e2a30_row0_col1{\n",
       "            font-size: 20px;\n",
       "             font-family:  Times New Roman;\n",
       "             text-align:  right;\n",
       "             max-width:  500px;\n",
       "        }</style><table id=\"T_e2a30_\" ><thead>    <tr>        <th class=\"blank level0\" ></th>        <th class=\"col_heading level0 col0\" >verse</th>        <th class=\"col_heading level0 col1\" >clause</th>        <th class=\"col_heading level0 col2\" >function</th>        <th class=\"col_heading level0 col3\" >front</th>    </tr>    <tr>        <th class=\"index_name level0\" >node</th>        <th class=\"blank\" ></th>        <th class=\"blank\" ></th>        <th class=\"blank\" ></th>        <th class=\"blank\" ></th>    </tr></thead><tbody>\n",
       "                <tr>\n",
       "                        <th id=\"T_e2a30_level0_row0\" class=\"row_heading level0 row0\" >490132</th>\n",
       "                        <td id=\"T_e2a30_row0_col0\" class=\"data row0 col0\" >Malachi 3:7</td>\n",
       "                        <td id=\"T_e2a30_row0_col1\" class=\"data row0 col1\" >לְמִימֵ֨י אֲבֹתֵיכֶ֜ם סַרְתֶּ֤ם מֵֽחֻקַּי֙ </td>\n",
       "                        <td id=\"T_e2a30_row0_col2\" class=\"data row0 col2\" >posterior_dur</td>\n",
       "                        <td id=\"T_e2a30_row0_col3\" class=\"data row0 col3\" >ל+מן</td>\n",
       "            </tr>\n",
       "    </tbody></table>"
      ],
      "text/plain": [
       "<pandas.io.formats.style.Styler at 0x7ff69bc5aa90>"
      ]
     },
     "metadata": {},
     "output_type": "display_data"
    },
    {
     "name": "stdout",
     "output_type": "stream",
     "text": [
      "--------------------------------------------------\n",
      "dist_past\n",
      "Ø\n",
      "showing 3 of 3\n"
     ]
    },
    {
     "data": {
      "text/html": [
       "<style  type=\"text/css\" >\n",
       "#T_37f3a_row0_col1,#T_37f3a_row1_col1,#T_37f3a_row2_col1{\n",
       "            font-size: 20px;\n",
       "             font-family:  Times New Roman;\n",
       "             text-align:  right;\n",
       "             max-width:  500px;\n",
       "        }</style><table id=\"T_37f3a_\" ><thead>    <tr>        <th class=\"blank level0\" ></th>        <th class=\"col_heading level0 col0\" >verse</th>        <th class=\"col_heading level0 col1\" >clause</th>        <th class=\"col_heading level0 col2\" >function</th>        <th class=\"col_heading level0 col3\" >front</th>    </tr>    <tr>        <th class=\"index_name level0\" >node</th>        <th class=\"blank\" ></th>        <th class=\"blank\" ></th>        <th class=\"blank\" ></th>        <th class=\"blank\" ></th>    </tr></thead><tbody>\n",
       "                <tr>\n",
       "                        <th id=\"T_37f3a_level0_row0\" class=\"row_heading level0 row0\" >434026</th>\n",
       "                        <td id=\"T_37f3a_row0_col0\" class=\"data row0 col0\" >Exodus 5:8</td>\n",
       "                        <td id=\"T_37f3a_row0_col1\" class=\"data row0 col1\" >אֲשֶׁ֣ר הֵם֩ עֹשִׂ֨ים תְּמֹ֤ול שִׁלְשֹׁם֙ </td>\n",
       "                        <td id=\"T_37f3a_row0_col2\" class=\"data row0 col2\" >dist_past</td>\n",
       "                        <td id=\"T_37f3a_row0_col3\" class=\"data row0 col3\" >Ø</td>\n",
       "            </tr>\n",
       "            <tr>\n",
       "                        <th id=\"T_37f3a_level0_row1\" class=\"row_heading level0 row1\" >454375</th>\n",
       "                        <td id=\"T_37f3a_row1_col0\" class=\"data row1 col0\" >1_Samuel 4:7</td>\n",
       "                        <td id=\"T_37f3a_row1_col1\" class=\"data row1 col1\" >כִּ֣י לֹ֥א הָיְתָ֛ה כָּזֹ֖את אֶתְמֹ֥ול שִׁלְשֹֽׁם׃ </td>\n",
       "                        <td id=\"T_37f3a_row1_col2\" class=\"data row1 col2\" >dist_past</td>\n",
       "                        <td id=\"T_37f3a_row1_col3\" class=\"data row1 col3\" >Ø</td>\n",
       "            </tr>\n",
       "            <tr>\n",
       "                        <th id=\"T_37f3a_level0_row2\" class=\"row_heading level0 row2\" >503000</th>\n",
       "                        <td id=\"T_37f3a_row2_col0\" class=\"data row2 col0\" >Ruth 2:11</td>\n",
       "                        <td id=\"T_37f3a_row2_col1\" class=\"data row2 col1\" >אֲשֶׁ֥ר לֹא־יָדַ֖עַתְּ תְּמֹ֥ול שִׁלְשֹֽׁום׃ </td>\n",
       "                        <td id=\"T_37f3a_row2_col2\" class=\"data row2 col2\" >dist_past</td>\n",
       "                        <td id=\"T_37f3a_row2_col3\" class=\"data row2 col3\" >Ø</td>\n",
       "            </tr>\n",
       "    </tbody></table>"
      ],
      "text/plain": [
       "<pandas.io.formats.style.Styler at 0x7ff69ac959a0>"
      ]
     },
     "metadata": {},
     "output_type": "display_data"
    },
    {
     "name": "stdout",
     "output_type": "stream",
     "text": [
      "--------------------------------------------------\n",
      "dist_fut\n",
      "ב\n",
      "showing 5 of 6\n"
     ]
    },
    {
     "data": {
      "text/html": [
       "<style  type=\"text/css\" >\n",
       "#T_d3897_row0_col1,#T_d3897_row1_col1,#T_d3897_row2_col1,#T_d3897_row3_col1,#T_d3897_row4_col1{\n",
       "            font-size: 20px;\n",
       "             font-family:  Times New Roman;\n",
       "             text-align:  right;\n",
       "             max-width:  500px;\n",
       "        }</style><table id=\"T_d3897_\" ><thead>    <tr>        <th class=\"blank level0\" ></th>        <th class=\"col_heading level0 col0\" >verse</th>        <th class=\"col_heading level0 col1\" >clause</th>        <th class=\"col_heading level0 col2\" >function</th>        <th class=\"col_heading level0 col3\" >front</th>    </tr>    <tr>        <th class=\"index_name level0\" >node</th>        <th class=\"blank\" ></th>        <th class=\"blank\" ></th>        <th class=\"blank\" ></th>        <th class=\"blank\" ></th>    </tr></thead><tbody>\n",
       "                <tr>\n",
       "                        <th id=\"T_d3897_level0_row0\" class=\"row_heading level0 row0\" >432107</th>\n",
       "                        <td id=\"T_d3897_row0_col0\" class=\"data row0 col0\" >Genesis 40:13</td>\n",
       "                        <td id=\"T_d3897_row0_col1\" class=\"data row0 col1\" >בְּעֹ֣וד׀ שְׁלֹ֣שֶׁת יָמִ֗ים יִשָּׂ֤א פַרְעֹה֙ אֶת־רֹאשֶׁ֔ךָ </td>\n",
       "                        <td id=\"T_d3897_row0_col2\" class=\"data row0 col2\" >dist_fut</td>\n",
       "                        <td id=\"T_d3897_row0_col3\" class=\"data row0 col3\" >ב</td>\n",
       "            </tr>\n",
       "            <tr>\n",
       "                        <th id=\"T_d3897_level0_row1\" class=\"row_heading level0 row1\" >448778</th>\n",
       "                        <td id=\"T_d3897_row1_col0\" class=\"data row1 col0\" >Joshua 1:11</td>\n",
       "                        <td id=\"T_d3897_row1_col1\" class=\"data row1 col1\" >כִּ֞י בְּעֹ֣וד׀ שְׁלֹ֣שֶׁת יָמִ֗ים אַתֶּם֙ עֹֽבְרִים֙ אֶת־הַיַּרְדֵּ֣ן הַזֶּ֔ה </td>\n",
       "                        <td id=\"T_d3897_row1_col2\" class=\"data row1 col2\" >dist_fut</td>\n",
       "                        <td id=\"T_d3897_row1_col3\" class=\"data row1 col3\" >ב</td>\n",
       "            </tr>\n",
       "            <tr>\n",
       "                        <th id=\"T_d3897_level0_row2\" class=\"row_heading level0 row2\" >468659</th>\n",
       "                        <td id=\"T_d3897_row2_col0\" class=\"data row2 col0\" >Isaiah 7:8</td>\n",
       "                        <td id=\"T_d3897_row2_col1\" class=\"data row2 col1\" >וּבְעֹ֗וד שִׁשִּׁ֤ים וְחָמֵשׁ֙ שָׁנָ֔ה יֵחַ֥ת אֶפְרַ֖יִם מֵעָֽם׃ </td>\n",
       "                        <td id=\"T_d3897_row2_col2\" class=\"data row2 col2\" >dist_fut</td>\n",
       "                        <td id=\"T_d3897_row2_col3\" class=\"data row2 col3\" >ב</td>\n",
       "            </tr>\n",
       "            <tr>\n",
       "                        <th id=\"T_d3897_level0_row3\" class=\"row_heading level0 row3\" >486871</th>\n",
       "                        <td id=\"T_d3897_row3_col0\" class=\"data row3 col0\" >Amos 4:7</td>\n",
       "                        <td id=\"T_d3897_row3_col1\" class=\"data row3 col1\" >וְגַ֣ם אָנֹכִי֩ מָנַ֨עְתִּי מִכֶּ֜ם אֶת־הַגֶּ֗שֶׁם בְּעֹ֨וד שְׁלֹשָׁ֤ה חֳדָשִׁים֙ לַקָּצִ֔יר </td>\n",
       "                        <td id=\"T_d3897_row3_col2\" class=\"data row3 col2\" >dist_fut</td>\n",
       "                        <td id=\"T_d3897_row3_col3\" class=\"data row3 col3\" >ב</td>\n",
       "            </tr>\n",
       "            <tr>\n",
       "                        <th id=\"T_d3897_level0_row4\" class=\"row_heading level0 row4\" >507564</th>\n",
       "                        <td id=\"T_d3897_row4_col0\" class=\"data row4 col0\" >Daniel 11:20</td>\n",
       "                        <td id=\"T_d3897_row4_col1\" class=\"data row4 col1\" >וּבְיָמִ֤ים אֲחָדִים֙ יִשָּׁבֵ֔ר </td>\n",
       "                        <td id=\"T_d3897_row4_col2\" class=\"data row4 col2\" >dist_fut</td>\n",
       "                        <td id=\"T_d3897_row4_col3\" class=\"data row4 col3\" >ב</td>\n",
       "            </tr>\n",
       "    </tbody></table>"
      ],
      "text/plain": [
       "<pandas.io.formats.style.Styler at 0x7ff69a7a2220>"
      ]
     },
     "metadata": {},
     "output_type": "display_data"
    },
    {
     "name": "stdout",
     "output_type": "stream",
     "text": [
      "--------------------------------------------------\n"
     ]
    }
   ],
   "source": [
    "exs = {\n",
    "    'anterior_dur': ['antdur', 'Anterior Durative'],\n",
    "    'anterior': ['ant', 'Anterior'],\n",
    "    'posterior': ['post', 'Posterior'],\n",
    "    'posterior_dur': ['postdur', 'Posterior Durative'],\n",
    "    'dist_past': ['distpast', 'Distance Past'],\n",
    "    'dist_fut': ['distfut', 'Distance Future'],\n",
    "\n",
    "}\n",
    "\n",
    "for function, namedata in exs.items():\n",
    "    abbrev, full = namedata\n",
    "    fronts = funct2data[function]['ct'].index\n",
    "    print(function)\n",
    "    for front in fronts:\n",
    "        print(front)\n",
    "        exdf = df_main[\n",
    "            (df_main.function == function)\n",
    "            & (df_main.front == front)\n",
    "        ]\n",
    "        display(\n",
    "            ts.show(exdf, spread=5, extra=['function', 'front'])\n",
    "        )\n",
    "    print('-'*50)"
   ]
  },
  {
   "cell_type": "code",
   "execution_count": null,
   "metadata": {
    "collapsed": true,
    "jupyter": {
     "outputs_hidden": true
    }
   },
   "outputs": [],
   "source": []
  }
 ],
 "metadata": {
  "kernelspec": {
   "display_name": "Python 3",
   "language": "python",
   "name": "python3"
  },
  "language_info": {
   "codemirror_mode": {
    "name": "ipython",
    "version": 3
   },
   "file_extension": ".py",
   "mimetype": "text/x-python",
   "name": "python",
   "nbconvert_exporter": "python",
   "pygments_lexer": "ipython3",
   "version": "3.8.5"
  }
 },
 "nbformat": 4,
 "nbformat_minor": 4
}
