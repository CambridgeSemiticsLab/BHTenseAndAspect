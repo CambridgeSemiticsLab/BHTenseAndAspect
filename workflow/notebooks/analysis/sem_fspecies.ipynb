{
 "cells": [
  {
   "cell_type": "markdown",
   "metadata": {},
   "source": [
    "# Semantic Function Species"
   ]
  },
  {
   "cell_type": "code",
   "execution_count": 1,
   "metadata": {},
   "outputs": [],
   "source": [
    "from scripts.imports import *\n",
    "\n",
    "out = Exporter(\n",
    "    paths['outdir'], \n",
    "    'semantics'\n",
    ")"
   ]
  },
  {
   "cell_type": "code",
   "execution_count": 2,
   "metadata": {},
   "outputs": [
    {
     "data": {
      "text/plain": [
       "Index(['verse', 'book', 'booksuper', 'canon_part', 'period', 'times_etcbc',\n",
       "       'times_utf8', 'times_utf8d', 'times_POS', 'TA Heads', 'head_utf8',\n",
       "       'function', 'quality', 'name', 'text', 'n_times', 'lex_token',\n",
       "       'is_advb', 'tense', 'firstw', 'genre', 'domain', 'gendom', 'clause',\n",
       "       'sentence', 'cl_rela', 'cl_type', 'cl_kind', 'verb', 'verb_etcbc',\n",
       "       'verb_utf8', 'verb_text', 'verbform', 'verb_stem', 'cl_args',\n",
       "       'has_objc', 'has_cmpl', 'has_subj', 'has_oc', 'Time Position',\n",
       "       'cl_type2', 'cl_nsuccs', 'cl_clust50', 'cl_clust10', 'verbtense',\n",
       "       'vt_order', 'PP', 'front', 'ph_type', 'unmodified', 'has_time', 'APPO',\n",
       "       'DEF', 'ORDN', 'ØPP', 'GP', 'QUANT', 'PL', 'NUM', 'PARA', 'DEMON',\n",
       "       'demon_type', 'ADJV', 'TIMEAPPO', 'SPEC', 'SFX3', 'SFX', 'DU', 'SFX1',\n",
       "       'SFX2', 'ADVB', 'CARDC'],\n",
       "      dtype='object')"
      ]
     },
     "execution_count": 2,
     "metadata": {},
     "output_type": "execute_result"
    }
   ],
   "source": [
    "df.columns"
   ]
  },
  {
   "cell_type": "code",
   "execution_count": 3,
   "metadata": {},
   "outputs": [
    {
     "data": {
      "text/plain": [
       "(3648, 72)"
      ]
     },
     "execution_count": 3,
     "metadata": {},
     "output_type": "execute_result"
    }
   ],
   "source": [
    "df.shape"
   ]
  },
  {
   "cell_type": "markdown",
   "metadata": {},
   "source": [
    "# ! TODO ! : Clean these up!\n",
    "\n",
    "* Check on KL HJWM and equivalents; Haspelmath suggests that 'every' be rendered as equivalent to \"[in] every February\"; I have tagged these as habituals; i.e. habital simultaneous—maybe that is right. But I should be sure. Also, where might KL indicate a duration instead?\n",
    "* מתי look at this ehad with simul L; prob remove it\n",
    "* todo: remove 472789 as this is emotive, not a location"
   ]
  },
  {
   "cell_type": "code",
   "execution_count": 4,
   "metadata": {},
   "outputs": [
    {
     "data": {
      "text/plain": [
       "simultaneous                                 1947\n",
       "atelic_ext                                    576\n",
       "anterior_dur                                  434\n",
       "posterior                                     225\n",
       "posterior_dur                                  66\n",
       "habitual                                       62\n",
       "begin_to_end                                   55\n",
       "purposive_ext                                  34\n",
       "simultaneous + atelic_ext                      24\n",
       "anterior_dur_past?                             21\n",
       "multi_simuls                                   18\n",
       "regular_recurrence                             18\n",
       "anterior                                       18\n",
       "anterior_dur_purposive                         15\n",
       "telic_ext                                      14\n",
       "dist_fut                                        6\n",
       "begin_to_end_habitual                           6\n",
       "dist_posterior                                  6\n",
       "simul_to_end                                    6\n",
       "habitual?                                       6\n",
       "anterior_limitive                               5\n",
       "dur_to_end                                      5\n",
       "atelic_ext?                                     5\n",
       "atelic_ext + simultaneous                       4\n",
       "posterior + atelic_ext                          4\n",
       "multi_antdur                                    4\n",
       "anterior_limitive?                              4\n",
       "dist_prospective                                3\n",
       "dist_past                                       3\n",
       "regular_recurrence?                             3\n",
       "posterior_simul                                 3\n",
       "purposive_ext?                                  2\n",
       "habitual + begin_to_end                         2\n",
       "anterior_dur + duration                         2\n",
       "purposive?                                      2\n",
       "purposive                                       2\n",
       "multi_posterior_dur                             2\n",
       "atelic_ext, simultaneous                        1\n",
       "reg_recurr + atelic_ext                         1\n",
       "simultaneous + anterior_limitive?               1\n",
       "anterior_dist                                   1\n",
       "anterior_dur_except                             1\n",
       "posterior_dist                                  1\n",
       "posterior_dur_future                            1\n",
       "simultaneous + purposive_ext                    1\n",
       "simultaneous + anterior                         1\n",
       "simultaneous + multi_begin_to_end               1\n",
       "simultaneous + dist_posterior                   1\n",
       "anterior?                                       1\n",
       "multi_atelic_ext                                1\n",
       "anterior + posterior                            1\n",
       "dur_subj?                                       1\n",
       "atelic_ext + anterior + atelic_ext              1\n",
       "simul_posts                                     1\n",
       "dist_fut?                                       1\n",
       "dist_posterior?                                 1\n",
       "distfut_ext                                     1\n",
       "anterior_dur + anterior                         1\n",
       "simul_posterior                                 1\n",
       "posterior_dur?                                  1\n",
       "simultaneous + anterior_dist                    1\n",
       "?                                               1\n",
       "atelic_ext + habitual                           1\n",
       "telic_ext?                                      1\n",
       "posterior_dur + begin_to_end + atelic_ext       1\n",
       "perdurative?                                    1\n",
       "anterior_ext                                    1\n",
       "habitual, multi_simul                           1\n",
       "simultaneous + posterior                        1\n",
       "begin_to_end + multi_antdur                     1\n",
       "end_to_begin?                                   1\n",
       "posterior, posterior_dur                        1\n",
       "anterior_dur?                                   1\n",
       "Name: function, dtype: int64"
      ]
     },
     "execution_count": 4,
     "metadata": {},
     "output_type": "execute_result"
    }
   ],
   "source": [
    "df.function.value_counts()"
   ]
  },
  {
   "cell_type": "markdown",
   "metadata": {},
   "source": [
    "## Main Function Analysis"
   ]
  },
  {
   "cell_type": "code",
   "execution_count": 6,
   "metadata": {},
   "outputs": [
    {
     "data": {
      "text/plain": [
       "'3,351'"
      ]
     },
     "execution_count": 6,
     "metadata": {},
     "output_type": "execute_result"
    }
   ],
   "source": [
    "df_main = df[df.mainfunction==1]\n",
    "\n",
    "out.number(\n",
    "    df_main.shape[0],\n",
    "    'total_main'\n",
    ")"
   ]
  },
  {
   "cell_type": "code",
   "execution_count": 7,
   "metadata": {},
   "outputs": [
    {
     "data": {
      "text/html": [
       "<div>\n",
       "<style scoped>\n",
       "    .dataframe tbody tr th:only-of-type {\n",
       "        vertical-align: middle;\n",
       "    }\n",
       "\n",
       "    .dataframe tbody tr th {\n",
       "        vertical-align: top;\n",
       "    }\n",
       "\n",
       "    .dataframe thead th {\n",
       "        text-align: right;\n",
       "    }\n",
       "</style>\n",
       "<table border=\"1\" class=\"dataframe\">\n",
       "  <thead>\n",
       "    <tr style=\"text-align: right;\">\n",
       "      <th></th>\n",
       "      <th>location</th>\n",
       "      <th>duration</th>\n",
       "      <th>sequence</th>\n",
       "      <th>iteration</th>\n",
       "    </tr>\n",
       "  </thead>\n",
       "  <tbody>\n",
       "    <tr>\n",
       "      <th>freq.</th>\n",
       "      <td>1947</td>\n",
       "      <td>1076</td>\n",
       "      <td>243</td>\n",
       "      <td>62</td>\n",
       "    </tr>\n",
       "    <tr>\n",
       "      <th>perc.</th>\n",
       "      <td>59%</td>\n",
       "      <td>32%</td>\n",
       "      <td>7%</td>\n",
       "      <td>2%</td>\n",
       "    </tr>\n",
       "  </tbody>\n",
       "</table>\n",
       "</div>"
      ],
      "text/plain": [
       "      location duration sequence iteration\n",
       "freq.     1947     1076      243        62\n",
       "perc.      59%      32%       7%        2%"
      ]
     },
     "execution_count": 7,
     "metadata": {},
     "output_type": "execute_result"
    }
   ],
   "source": [
    "# get a freq count\n",
    "qual_ct = df_main.quality.value_counts(ascending=False)\n",
    "qual_pr = (qual_ct / qual_ct.sum())\n",
    "qual_pr_str = (qual_pr.round(2) * 100).astype(int).astype(str) + '%'\n",
    "qual_vals = pd.concat([qual_ct, qual_pr_str], 1).T\\\n",
    "    .set_axis(['freq.', 'perc.'], 0)\\\n",
    "\n",
    "out.table(\n",
    "    qual_vals,\n",
    "    'qual_counts',\n",
    "    caption='Frequencies of Primary Time Qualities'\n",
    ")\n",
    "\n",
    "qual_vals"
   ]
  },
  {
   "cell_type": "code",
   "execution_count": 8,
   "metadata": {},
   "outputs": [
    {
     "data": {
      "image/png": "[encoded data removed]",
      "text/plain": [
       "<Figure size 432x288 with 1 Axes>"
      ]
     },
     "metadata": {
      "needs_background": "light"
     },
     "output_type": "display_data"
    }
   ],
   "source": [
    "fig, ax = plt.subplots()\n",
    "qual_pr.sort_values().plot(kind='barh', ax=ax)\n",
    "ax.set_xlabel('percent of all main qualities')\n",
    "out.plot(\n",
    "    'bar_qual_perc',\n",
    ")"
   ]
  },
  {
   "cell_type": "code",
   "execution_count": 9,
   "metadata": {},
   "outputs": [],
   "source": [
    "# export numbers for each quality\n",
    "for qual in qual_vals.columns:\n",
    "    Nqual = qual_vals[qual]['freq.']\n",
    "    Pqual = qual_vals[qual]['perc.'].replace('%', '')\n",
    "    out.number(Nqual, f'N_{qual}')\n",
    "    out.text(Pqual, f'P_{qual}')"
   ]
  },
  {
   "cell_type": "code",
   "execution_count": 10,
   "metadata": {},
   "outputs": [
    {
     "data": {
      "text/html": [
       "<div>\n",
       "<style scoped>\n",
       "    .dataframe tbody tr th:only-of-type {\n",
       "        vertical-align: middle;\n",
       "    }\n",
       "\n",
       "    .dataframe tbody tr th {\n",
       "        vertical-align: top;\n",
       "    }\n",
       "\n",
       "    .dataframe thead th {\n",
       "        text-align: right;\n",
       "    }\n",
       "</style>\n",
       "<table border=\"1\" class=\"dataframe\">\n",
       "  <thead>\n",
       "    <tr style=\"text-align: right;\">\n",
       "      <th></th>\n",
       "      <th>simultaneous</th>\n",
       "      <th>atelic_ext</th>\n",
       "      <th>anterior_dur</th>\n",
       "      <th>posterior</th>\n",
       "      <th>posterior_dur</th>\n",
       "      <th>habitual</th>\n",
       "      <th>anterior</th>\n",
       "      <th>telic_ext</th>\n",
       "      <th>dist_fut</th>\n",
       "      <th>dist_past</th>\n",
       "    </tr>\n",
       "  </thead>\n",
       "  <tbody>\n",
       "    <tr>\n",
       "      <th>freq.</th>\n",
       "      <td>1947</td>\n",
       "      <td>576</td>\n",
       "      <td>434</td>\n",
       "      <td>225</td>\n",
       "      <td>66</td>\n",
       "      <td>62</td>\n",
       "      <td>18</td>\n",
       "      <td>14</td>\n",
       "      <td>6</td>\n",
       "      <td>3</td>\n",
       "    </tr>\n",
       "    <tr>\n",
       "      <th>perc.</th>\n",
       "      <td>57%</td>\n",
       "      <td>17%</td>\n",
       "      <td>13%</td>\n",
       "      <td>7%</td>\n",
       "      <td>2%</td>\n",
       "      <td>2%</td>\n",
       "      <td>1%</td>\n",
       "      <td>0%</td>\n",
       "      <td>0%</td>\n",
       "      <td>0%</td>\n",
       "    </tr>\n",
       "  </tbody>\n",
       "</table>\n",
       "</div>"
      ],
      "text/plain": [
       "      simultaneous atelic_ext anterior_dur posterior posterior_dur habitual  \\\n",
       "freq.         1947        576          434       225            66       62   \n",
       "perc.          57%        17%          13%        7%            2%       2%   \n",
       "\n",
       "      anterior telic_ext dist_fut dist_past  \n",
       "freq.       18        14        6         3  \n",
       "perc.       1%        0%       0%        0%  "
      ]
     },
     "execution_count": 10,
     "metadata": {},
     "output_type": "execute_result"
    }
   ],
   "source": [
    "# get a freq count\n",
    "funct_ct = df_main.function.value_counts(ascending=False)\n",
    "funct_pr = (funct_ct / funct_ct.sum())\n",
    "funct_pr_str = (funct_pr.round(2) * 100).astype(int).astype(str) + '%'\n",
    "funct_vals = pd.concat([funct_ct, funct_pr_str], 1).T\\\n",
    "    .set_axis(['freq.', 'perc.'], 0)\\\n",
    "\n",
    "out.table(\n",
    "    funct_vals,\n",
    "    'funct_counts',\n",
    "    caption='Frequencies of Primary Time Functions',\n",
    "    adjustbox=True,\n",
    ")\n",
    "\n",
    "funct_vals"
   ]
  },
  {
   "cell_type": "code",
   "execution_count": 11,
   "metadata": {},
   "outputs": [
    {
     "data": {
      "image/png": "[encoded data removed]",
      "text/plain": [
       "<Figure size 432x288 with 1 Axes>"
      ]
     },
     "metadata": {
      "needs_background": "light"
     },
     "output_type": "display_data"
    }
   ],
   "source": [
    "fig, ax = plt.subplots()\n",
    "funct_pr.sort_values().plot(kind='barh', ax=ax)\n",
    "ax.set_xlabel('percent of main functions')\n",
    "out.plot(\n",
    "    'bar_funct_perc',\n",
    ")"
   ]
  },
  {
   "cell_type": "code",
   "execution_count": 12,
   "metadata": {},
   "outputs": [
    {
     "data": {
      "text/plain": [
       "94.95672933452701"
      ]
     },
     "execution_count": 12,
     "metadata": {},
     "output_type": "execute_result"
    }
   ],
   "source": [
    "top4_perc = 100*funct_pr.loc['simultaneous':'posterior'].sum()\n",
    "out.number(\n",
    "    top4_perc,\n",
    "    'top4_perc',\n",
    ")\n",
    "\n",
    "top4_perc"
   ]
  },
  {
   "cell_type": "code",
   "execution_count": 13,
   "metadata": {},
   "outputs": [],
   "source": [
    "# export numbers for each main\n",
    "for funct in funct_vals.columns:\n",
    "    Nfunct = funct_vals[funct]['freq.']\n",
    "    Pfunct = funct_vals[funct]['perc.'].replace('%', '')\n",
    "    out.number(Nfunct, f'N_{funct}')\n",
    "    out.text(Pfunct, f'P_{funct}')"
   ]
  },
  {
   "cell_type": "markdown",
   "metadata": {},
   "source": [
    "# Export All Fronts"
   ]
  },
  {
   "cell_type": "code",
   "execution_count": 14,
   "metadata": {},
   "outputs": [
    {
     "name": "stdout",
     "output_type": "stream",
     "text": [
      "simultaneous\n"
     ]
    },
    {
     "data": {
      "text/html": [
       "<div>\n",
       "<style scoped>\n",
       "    .dataframe tbody tr th:only-of-type {\n",
       "        vertical-align: middle;\n",
       "    }\n",
       "\n",
       "    .dataframe tbody tr th {\n",
       "        vertical-align: top;\n",
       "    }\n",
       "\n",
       "    .dataframe thead th {\n",
       "        text-align: right;\n",
       "    }\n",
       "</style>\n",
       "<table border=\"1\" class=\"dataframe\">\n",
       "  <thead>\n",
       "    <tr style=\"text-align: right;\">\n",
       "      <th></th>\n",
       "      <th>count</th>\n",
       "      <th>percent</th>\n",
       "    </tr>\n",
       "  </thead>\n",
       "  <tbody>\n",
       "    <tr>\n",
       "      <th>\\texthebrew{ב}</th>\n",
       "      <td>1081</td>\n",
       "      <td>56%</td>\n",
       "    </tr>\n",
       "    <tr>\n",
       "      <th>\\texthebrew{עתה}</th>\n",
       "      <td>349</td>\n",
       "      <td>18%</td>\n",
       "    </tr>\n",
       "    <tr>\n",
       "      <th>\\texthebrew{Ø}</th>\n",
       "      <td>293</td>\n",
       "      <td>15%</td>\n",
       "    </tr>\n",
       "    <tr>\n",
       "      <th>\\texthebrew{אז}</th>\n",
       "      <td>64</td>\n",
       "      <td>3%</td>\n",
       "    </tr>\n",
       "    <tr>\n",
       "      <th>\\texthebrew{ל}</th>\n",
       "      <td>42</td>\n",
       "      <td>2%</td>\n",
       "    </tr>\n",
       "    <tr>\n",
       "      <th>\\texthebrew{כ}</th>\n",
       "      <td>35</td>\n",
       "      <td>2%</td>\n",
       "    </tr>\n",
       "    <tr>\n",
       "      <th>\\texthebrew{מחר}</th>\n",
       "      <td>32</td>\n",
       "      <td>2%</td>\n",
       "    </tr>\n",
       "    <tr>\n",
       "      <th>\\texthebrew{ב+אחרית}</th>\n",
       "      <td>15</td>\n",
       "      <td>1%</td>\n",
       "    </tr>\n",
       "    <tr>\n",
       "      <th>\\texthebrew{בין}</th>\n",
       "      <td>7</td>\n",
       "      <td>0%</td>\n",
       "    </tr>\n",
       "    <tr>\n",
       "      <th>\\texthebrew{יומם}</th>\n",
       "      <td>5</td>\n",
       "      <td>0%</td>\n",
       "    </tr>\n",
       "    <tr>\n",
       "      <th>\\texthebrew{ל+קץ}</th>\n",
       "      <td>5</td>\n",
       "      <td>0%</td>\n",
       "    </tr>\n",
       "    <tr>\n",
       "      <th>\\texthebrew{אמשׁ}</th>\n",
       "      <td>4</td>\n",
       "      <td>0%</td>\n",
       "    </tr>\n",
       "    <tr>\n",
       "      <th>\\texthebrew{חצות}</th>\n",
       "      <td>2</td>\n",
       "      <td>0%</td>\n",
       "    </tr>\n",
       "    <tr>\n",
       "      <th>\\texthebrew{על}</th>\n",
       "      <td>2</td>\n",
       "      <td>0%</td>\n",
       "    </tr>\n",
       "    <tr>\n",
       "      <th>\\texthebrew{אתמול}</th>\n",
       "      <td>1</td>\n",
       "      <td>0%</td>\n",
       "    </tr>\n",
       "    <tr>\n",
       "      <th>\\texthebrew{ב+ראשׁ}</th>\n",
       "      <td>1</td>\n",
       "      <td>0%</td>\n",
       "    </tr>\n",
       "    <tr>\n",
       "      <th>\\texthebrew{אחרון}</th>\n",
       "      <td>1</td>\n",
       "      <td>0%</td>\n",
       "    </tr>\n",
       "    <tr>\n",
       "      <th>\\texthebrew{כ+חצות}</th>\n",
       "      <td>1</td>\n",
       "      <td>0%</td>\n",
       "    </tr>\n",
       "    <tr>\n",
       "      <th>\\texthebrew{ב+תוך}</th>\n",
       "      <td>1</td>\n",
       "      <td>0%</td>\n",
       "    </tr>\n",
       "    <tr>\n",
       "      <th>\\texthebrew{רגע}</th>\n",
       "      <td>1</td>\n",
       "      <td>0%</td>\n",
       "    </tr>\n",
       "    <tr>\n",
       "      <th>\\texthebrew{תמול}</th>\n",
       "      <td>1</td>\n",
       "      <td>0%</td>\n",
       "    </tr>\n",
       "    <tr>\n",
       "      <th>\\texthebrew{אל}</th>\n",
       "      <td>1</td>\n",
       "      <td>0%</td>\n",
       "    </tr>\n",
       "    <tr>\n",
       "      <th>\\texthebrew{ב+תחלה}</th>\n",
       "      <td>1</td>\n",
       "      <td>0%</td>\n",
       "    </tr>\n",
       "    <tr>\n",
       "      <th>\\texthebrew{כ+מן}</th>\n",
       "      <td>1</td>\n",
       "      <td>0%</td>\n",
       "    </tr>\n",
       "    <tr>\n",
       "      <th>\\texthebrew{ראשׁ}</th>\n",
       "      <td>1</td>\n",
       "      <td>0%</td>\n",
       "    </tr>\n",
       "  </tbody>\n",
       "</table>\n",
       "</div>"
      ],
      "text/plain": [
       "                      count percent\n",
       "\\texthebrew{ב}         1081     56%\n",
       "\\texthebrew{עתה}        349     18%\n",
       "\\texthebrew{Ø}          293     15%\n",
       "\\texthebrew{אז}          64      3%\n",
       "\\texthebrew{ל}           42      2%\n",
       "\\texthebrew{כ}           35      2%\n",
       "\\texthebrew{מחר}         32      2%\n",
       "\\texthebrew{ב+אחרית}     15      1%\n",
       "\\texthebrew{בין}          7      0%\n",
       "\\texthebrew{יומם}         5      0%\n",
       "\\texthebrew{ל+קץ}         5      0%\n",
       "\\texthebrew{אמשׁ}         4      0%\n",
       "\\texthebrew{חצות}         2      0%\n",
       "\\texthebrew{על}           2      0%\n",
       "\\texthebrew{אתמול}        1      0%\n",
       "\\texthebrew{ב+ראשׁ}       1      0%\n",
       "\\texthebrew{אחרון}        1      0%\n",
       "\\texthebrew{כ+חצות}       1      0%\n",
       "\\texthebrew{ב+תוך}        1      0%\n",
       "\\texthebrew{רגע}          1      0%\n",
       "\\texthebrew{תמול}         1      0%\n",
       "\\texthebrew{אל}           1      0%\n",
       "\\texthebrew{ב+תחלה}       1      0%\n",
       "\\texthebrew{כ+מן}         1      0%\n",
       "\\texthebrew{ראשׁ}         1      0%"
      ]
     },
     "metadata": {},
     "output_type": "display_data"
    },
    {
     "name": "stdout",
     "output_type": "stream",
     "text": [
      "anterior_dur\n"
     ]
    },
    {
     "data": {
      "text/html": [
       "<div>\n",
       "<style scoped>\n",
       "    .dataframe tbody tr th:only-of-type {\n",
       "        vertical-align: middle;\n",
       "    }\n",
       "\n",
       "    .dataframe tbody tr th {\n",
       "        vertical-align: top;\n",
       "    }\n",
       "\n",
       "    .dataframe thead th {\n",
       "        text-align: right;\n",
       "    }\n",
       "</style>\n",
       "<table border=\"1\" class=\"dataframe\">\n",
       "  <thead>\n",
       "    <tr style=\"text-align: right;\">\n",
       "      <th></th>\n",
       "      <th>count</th>\n",
       "      <th>percent</th>\n",
       "    </tr>\n",
       "  </thead>\n",
       "  <tbody>\n",
       "    <tr>\n",
       "      <th>\\texthebrew{עד}</th>\n",
       "      <td>279</td>\n",
       "      <td>64%</td>\n",
       "    </tr>\n",
       "    <tr>\n",
       "      <th>\\texthebrew{ל}</th>\n",
       "      <td>152</td>\n",
       "      <td>35%</td>\n",
       "    </tr>\n",
       "    <tr>\n",
       "      <th>\\texthebrew{עד+ל}</th>\n",
       "      <td>3</td>\n",
       "      <td>1%</td>\n",
       "    </tr>\n",
       "  </tbody>\n",
       "</table>\n",
       "</div>"
      ],
      "text/plain": [
       "                   count percent\n",
       "\\texthebrew{עד}      279     64%\n",
       "\\texthebrew{ל}       152     35%\n",
       "\\texthebrew{עד+ל}      3      1%"
      ]
     },
     "metadata": {},
     "output_type": "display_data"
    },
    {
     "name": "stdout",
     "output_type": "stream",
     "text": [
      "anterior\n"
     ]
    },
    {
     "data": {
      "text/html": [
       "<div>\n",
       "<style scoped>\n",
       "    .dataframe tbody tr th:only-of-type {\n",
       "        vertical-align: middle;\n",
       "    }\n",
       "\n",
       "    .dataframe tbody tr th {\n",
       "        vertical-align: top;\n",
       "    }\n",
       "\n",
       "    .dataframe thead th {\n",
       "        text-align: right;\n",
       "    }\n",
       "</style>\n",
       "<table border=\"1\" class=\"dataframe\">\n",
       "  <thead>\n",
       "    <tr style=\"text-align: right;\">\n",
       "      <th></th>\n",
       "      <th>count</th>\n",
       "      <th>percent</th>\n",
       "    </tr>\n",
       "  </thead>\n",
       "  <tbody>\n",
       "    <tr>\n",
       "      <th>\\texthebrew{ל+פנה}</th>\n",
       "      <td>8</td>\n",
       "      <td>44%</td>\n",
       "    </tr>\n",
       "    <tr>\n",
       "      <th>\\texthebrew{ל}</th>\n",
       "      <td>5</td>\n",
       "      <td>28%</td>\n",
       "    </tr>\n",
       "    <tr>\n",
       "      <th>\\texthebrew{טרם}</th>\n",
       "      <td>4</td>\n",
       "      <td>22%</td>\n",
       "    </tr>\n",
       "    <tr>\n",
       "      <th>\\texthebrew{ל+פנה+מן}</th>\n",
       "      <td>1</td>\n",
       "      <td>6%</td>\n",
       "    </tr>\n",
       "  </tbody>\n",
       "</table>\n",
       "</div>"
      ],
      "text/plain": [
       "                       count percent\n",
       "\\texthebrew{ל+פנה}         8     44%\n",
       "\\texthebrew{ל}             5     28%\n",
       "\\texthebrew{טרם}           4     22%\n",
       "\\texthebrew{ל+פנה+מן}      1      6%"
      ]
     },
     "metadata": {},
     "output_type": "display_data"
    },
    {
     "name": "stdout",
     "output_type": "stream",
     "text": [
      "atelic_ext\n"
     ]
    },
    {
     "data": {
      "text/html": [
       "<div>\n",
       "<style scoped>\n",
       "    .dataframe tbody tr th:only-of-type {\n",
       "        vertical-align: middle;\n",
       "    }\n",
       "\n",
       "    .dataframe tbody tr th {\n",
       "        vertical-align: top;\n",
       "    }\n",
       "\n",
       "    .dataframe thead th {\n",
       "        text-align: right;\n",
       "    }\n",
       "</style>\n",
       "<table border=\"1\" class=\"dataframe\">\n",
       "  <thead>\n",
       "    <tr style=\"text-align: right;\">\n",
       "      <th></th>\n",
       "      <th>count</th>\n",
       "      <th>percent</th>\n",
       "    </tr>\n",
       "  </thead>\n",
       "  <tbody>\n",
       "    <tr>\n",
       "      <th>\\texthebrew{Ø}</th>\n",
       "      <td>521</td>\n",
       "      <td>90%</td>\n",
       "    </tr>\n",
       "    <tr>\n",
       "      <th>\\texthebrew{תמיד}</th>\n",
       "      <td>31</td>\n",
       "      <td>5%</td>\n",
       "    </tr>\n",
       "    <tr>\n",
       "      <th>\\texthebrew{יומם}</th>\n",
       "      <td>13</td>\n",
       "      <td>2%</td>\n",
       "    </tr>\n",
       "    <tr>\n",
       "      <th>\\texthebrew{ל}</th>\n",
       "      <td>5</td>\n",
       "      <td>1%</td>\n",
       "    </tr>\n",
       "    <tr>\n",
       "      <th>\\texthebrew{כ}</th>\n",
       "      <td>2</td>\n",
       "      <td>0%</td>\n",
       "    </tr>\n",
       "    <tr>\n",
       "      <th>\\texthebrew{את}</th>\n",
       "      <td>2</td>\n",
       "      <td>0%</td>\n",
       "    </tr>\n",
       "    <tr>\n",
       "      <th>\\texthebrew{רביעי}</th>\n",
       "      <td>1</td>\n",
       "      <td>0%</td>\n",
       "    </tr>\n",
       "    <tr>\n",
       "      <th>\\texthebrew{נצח}</th>\n",
       "      <td>1</td>\n",
       "      <td>0%</td>\n",
       "    </tr>\n",
       "  </tbody>\n",
       "</table>\n",
       "</div>"
      ],
      "text/plain": [
       "                    count percent\n",
       "\\texthebrew{Ø}        521     90%\n",
       "\\texthebrew{תמיד}      31      5%\n",
       "\\texthebrew{יומם}      13      2%\n",
       "\\texthebrew{ל}          5      1%\n",
       "\\texthebrew{כ}          2      0%\n",
       "\\texthebrew{את}         2      0%\n",
       "\\texthebrew{רביעי}      1      0%\n",
       "\\texthebrew{נצח}        1      0%"
      ]
     },
     "metadata": {},
     "output_type": "display_data"
    },
    {
     "name": "stdout",
     "output_type": "stream",
     "text": [
      "habitual\n"
     ]
    },
    {
     "data": {
      "text/html": [
       "<div>\n",
       "<style scoped>\n",
       "    .dataframe tbody tr th:only-of-type {\n",
       "        vertical-align: middle;\n",
       "    }\n",
       "\n",
       "    .dataframe tbody tr th {\n",
       "        vertical-align: top;\n",
       "    }\n",
       "\n",
       "    .dataframe thead th {\n",
       "        text-align: right;\n",
       "    }\n",
       "</style>\n",
       "<table border=\"1\" class=\"dataframe\">\n",
       "  <thead>\n",
       "    <tr style=\"text-align: right;\">\n",
       "      <th></th>\n",
       "      <th>count</th>\n",
       "      <th>percent</th>\n",
       "    </tr>\n",
       "  </thead>\n",
       "  <tbody>\n",
       "    <tr>\n",
       "      <th>\\texthebrew{ל}</th>\n",
       "      <td>21</td>\n",
       "      <td>34%</td>\n",
       "    </tr>\n",
       "    <tr>\n",
       "      <th>\\texthebrew{Ø}</th>\n",
       "      <td>20</td>\n",
       "      <td>32%</td>\n",
       "    </tr>\n",
       "    <tr>\n",
       "      <th>\\texthebrew{ב}</th>\n",
       "      <td>17</td>\n",
       "      <td>27%</td>\n",
       "    </tr>\n",
       "    <tr>\n",
       "      <th>\\texthebrew{מן}</th>\n",
       "      <td>3</td>\n",
       "      <td>5%</td>\n",
       "    </tr>\n",
       "    <tr>\n",
       "      <th>\\texthebrew{בין}</th>\n",
       "      <td>1</td>\n",
       "      <td>2%</td>\n",
       "    </tr>\n",
       "  </tbody>\n",
       "</table>\n",
       "</div>"
      ],
      "text/plain": [
       "                  count percent\n",
       "\\texthebrew{ל}       21     34%\n",
       "\\texthebrew{Ø}       20     32%\n",
       "\\texthebrew{ב}       17     27%\n",
       "\\texthebrew{מן}       3      5%\n",
       "\\texthebrew{בין}      1      2%"
      ]
     },
     "metadata": {},
     "output_type": "display_data"
    },
    {
     "name": "stdout",
     "output_type": "stream",
     "text": [
      "posterior\n"
     ]
    },
    {
     "data": {
      "text/html": [
       "<div>\n",
       "<style scoped>\n",
       "    .dataframe tbody tr th:only-of-type {\n",
       "        vertical-align: middle;\n",
       "    }\n",
       "\n",
       "    .dataframe tbody tr th {\n",
       "        vertical-align: top;\n",
       "    }\n",
       "\n",
       "    .dataframe thead th {\n",
       "        text-align: right;\n",
       "    }\n",
       "</style>\n",
       "<table border=\"1\" class=\"dataframe\">\n",
       "  <thead>\n",
       "    <tr style=\"text-align: right;\">\n",
       "      <th></th>\n",
       "      <th>count</th>\n",
       "      <th>percent</th>\n",
       "    </tr>\n",
       "  </thead>\n",
       "  <tbody>\n",
       "    <tr>\n",
       "      <th>\\texthebrew{אחר}</th>\n",
       "      <td>128</td>\n",
       "      <td>57%</td>\n",
       "    </tr>\n",
       "    <tr>\n",
       "      <th>\\texthebrew{Ø}</th>\n",
       "      <td>33</td>\n",
       "      <td>15%</td>\n",
       "    </tr>\n",
       "    <tr>\n",
       "      <th>\\texthebrew{מן}</th>\n",
       "      <td>33</td>\n",
       "      <td>15%</td>\n",
       "    </tr>\n",
       "    <tr>\n",
       "      <th>\\texthebrew{מן+קץ}</th>\n",
       "      <td>18</td>\n",
       "      <td>8%</td>\n",
       "    </tr>\n",
       "    <tr>\n",
       "      <th>\\texthebrew{מן+קצה}</th>\n",
       "      <td>10</td>\n",
       "      <td>4%</td>\n",
       "    </tr>\n",
       "    <tr>\n",
       "      <th>\\texthebrew{מן+אחר}</th>\n",
       "      <td>2</td>\n",
       "      <td>1%</td>\n",
       "    </tr>\n",
       "    <tr>\n",
       "      <th>\\texthebrew{מן+קצת}</th>\n",
       "      <td>1</td>\n",
       "      <td>0%</td>\n",
       "    </tr>\n",
       "  </tbody>\n",
       "</table>\n",
       "</div>"
      ],
      "text/plain": [
       "                     count percent\n",
       "\\texthebrew{אחר}       128     57%\n",
       "\\texthebrew{Ø}          33     15%\n",
       "\\texthebrew{מן}         33     15%\n",
       "\\texthebrew{מן+קץ}      18      8%\n",
       "\\texthebrew{מן+קצה}     10      4%\n",
       "\\texthebrew{מן+אחר}      2      1%\n",
       "\\texthebrew{מן+קצת}      1      0%"
      ]
     },
     "metadata": {},
     "output_type": "display_data"
    },
    {
     "name": "stdout",
     "output_type": "stream",
     "text": [
      "posterior_dur\n"
     ]
    },
    {
     "data": {
      "text/html": [
       "<div>\n",
       "<style scoped>\n",
       "    .dataframe tbody tr th:only-of-type {\n",
       "        vertical-align: middle;\n",
       "    }\n",
       "\n",
       "    .dataframe tbody tr th {\n",
       "        vertical-align: top;\n",
       "    }\n",
       "\n",
       "    .dataframe thead th {\n",
       "        text-align: right;\n",
       "    }\n",
       "</style>\n",
       "<table border=\"1\" class=\"dataframe\">\n",
       "  <thead>\n",
       "    <tr style=\"text-align: right;\">\n",
       "      <th></th>\n",
       "      <th>count</th>\n",
       "      <th>percent</th>\n",
       "    </tr>\n",
       "  </thead>\n",
       "  <tbody>\n",
       "    <tr>\n",
       "      <th>\\texthebrew{מן}</th>\n",
       "      <td>63</td>\n",
       "      <td>95%</td>\n",
       "    </tr>\n",
       "    <tr>\n",
       "      <th>\\texthebrew{מן+תחלה}</th>\n",
       "      <td>1</td>\n",
       "      <td>2%</td>\n",
       "    </tr>\n",
       "    <tr>\n",
       "      <th>\\texthebrew{ל+מן}</th>\n",
       "      <td>1</td>\n",
       "      <td>2%</td>\n",
       "    </tr>\n",
       "    <tr>\n",
       "      <th>\\texthebrew{מן+ל}</th>\n",
       "      <td>1</td>\n",
       "      <td>2%</td>\n",
       "    </tr>\n",
       "  </tbody>\n",
       "</table>\n",
       "</div>"
      ],
      "text/plain": [
       "                      count percent\n",
       "\\texthebrew{מן}          63     95%\n",
       "\\texthebrew{מן+תחלה}      1      2%\n",
       "\\texthebrew{ל+מן}         1      2%\n",
       "\\texthebrew{מן+ל}         1      2%"
      ]
     },
     "metadata": {},
     "output_type": "display_data"
    },
    {
     "name": "stdout",
     "output_type": "stream",
     "text": [
      "telic_ext\n"
     ]
    },
    {
     "data": {
      "text/html": [
       "<div>\n",
       "<style scoped>\n",
       "    .dataframe tbody tr th:only-of-type {\n",
       "        vertical-align: middle;\n",
       "    }\n",
       "\n",
       "    .dataframe tbody tr th {\n",
       "        vertical-align: top;\n",
       "    }\n",
       "\n",
       "    .dataframe thead th {\n",
       "        text-align: right;\n",
       "    }\n",
       "</style>\n",
       "<table border=\"1\" class=\"dataframe\">\n",
       "  <thead>\n",
       "    <tr style=\"text-align: right;\">\n",
       "      <th></th>\n",
       "      <th>count</th>\n",
       "      <th>percent</th>\n",
       "    </tr>\n",
       "  </thead>\n",
       "  <tbody>\n",
       "    <tr>\n",
       "      <th>\\texthebrew{ב}</th>\n",
       "      <td>8</td>\n",
       "      <td>57%</td>\n",
       "    </tr>\n",
       "    <tr>\n",
       "      <th>\\texthebrew{Ø}</th>\n",
       "      <td>6</td>\n",
       "      <td>43%</td>\n",
       "    </tr>\n",
       "  </tbody>\n",
       "</table>\n",
       "</div>"
      ],
      "text/plain": [
       "                count percent\n",
       "\\texthebrew{ב}      8     57%\n",
       "\\texthebrew{Ø}      6     43%"
      ]
     },
     "metadata": {},
     "output_type": "display_data"
    }
   ],
   "source": [
    "abbrevs = {\n",
    "    'simultaneous': ['sim', 'Simultaneous'],\n",
    "    'anterior_dur': ['antdur', 'Anterior Durative'],\n",
    "    'anterior': ['ant', 'Anterior'],\n",
    "    'atelic_ext': ['atel', 'Atelic Extent'],\n",
    "    'habitual': ['hab', 'Habitual'],\n",
    "    'posterior': ['post', 'Posterior'],\n",
    "    'posterior_dur': ['postdur', 'Posterior Durative'],\n",
    "    'telic_ext': ['telic', 'Telic Extent']\n",
    "}\n",
    "\n",
    "funct2data = {}\n",
    "\n",
    "for function, namedata in abbrevs.items():\n",
    "    abbrev, full = namedata\n",
    "    funct_df = df_main[df_main.function == function]\n",
    "    front_cts = pd.DataFrame(\n",
    "        funct_df['front'].value_counts()\n",
    "    )\n",
    "    front_cts = front_cts.rename_axis(index='front').set_axis(['count'], 1)\n",
    "    front_prs = front_cts / front_cts.sum()\n",
    "    front_cp = join_ct_pr(front_cts, front_prs)\n",
    "    \n",
    "    funct2data[function] = {\n",
    "        'df': funct_df,\n",
    "        'ct':front_cts,\n",
    "        'pr':front_prs,\n",
    "        'cp':front_cp,\n",
    "    }\n",
    "    \n",
    "    print(function)\n",
    "    display(\n",
    "        out.table(\n",
    "            front_cp,\n",
    "            f'{abbrev}_front',\n",
    "            caption=f'Attested {full} Forms in Sample',\n",
    "            hebindex=True,\n",
    "        )\n",
    "    )"
   ]
  },
  {
   "cell_type": "markdown",
   "metadata": {},
   "source": [
    "### Examples"
   ]
  },
  {
   "cell_type": "markdown",
   "metadata": {},
   "source": [
    "#### Simul"
   ]
  },
  {
   "cell_type": "code",
   "execution_count": 15,
   "metadata": {},
   "outputs": [],
   "source": [
    "simdf = funct2data['simultaneous']['df']"
   ]
  },
  {
   "cell_type": "code",
   "execution_count": 16,
   "metadata": {},
   "outputs": [
    {
     "data": {
      "text/plain": [
       "'56'"
      ]
     },
     "execution_count": 16,
     "metadata": {},
     "output_type": "execute_result"
    }
   ],
   "source": [
    "out.number(\n",
    "    funct2data['simultaneous']['pr'].loc['ב'][0]*100,\n",
    "    'perc_sim_B'\n",
    ")"
   ]
  },
  {
   "cell_type": "code",
   "execution_count": 17,
   "metadata": {},
   "outputs": [
    {
     "data": {
      "text/plain": [
       "'15'"
      ]
     },
     "execution_count": 17,
     "metadata": {},
     "output_type": "execute_result"
    }
   ],
   "source": [
    "get = 'Ø'\n",
    "out.number(\n",
    "    funct2data['simultaneous']['pr'].loc[get][0]*100,\n",
    "    'perc_sim_Ø'\n",
    ")"
   ]
  },
  {
   "cell_type": "code",
   "execution_count": 18,
   "metadata": {},
   "outputs": [
    {
     "data": {
      "text/plain": [
       "1.0    0.83959\n",
       "0.0    0.16041\n",
       "Name: DEF, dtype: float64"
      ]
     },
     "execution_count": 18,
     "metadata": {},
     "output_type": "execute_result"
    }
   ],
   "source": [
    "nulldef_ct = simdf[simdf.front == 'Ø'].DEF.value_counts()\n",
    "nulldef_pr = nulldef_ct / nulldef_ct.sum()\n",
    "\n",
    "nulldef_pr"
   ]
  },
  {
   "cell_type": "code",
   "execution_count": 19,
   "metadata": {},
   "outputs": [
    {
     "data": {
      "text/plain": [
       "'84'"
      ]
     },
     "execution_count": 19,
     "metadata": {},
     "output_type": "execute_result"
    }
   ],
   "source": [
    "out.number(\n",
    "    nulldef_pr[1]*100,\n",
    "    'nulldef_pr'\n",
    ")"
   ]
  },
  {
   "cell_type": "markdown",
   "metadata": {},
   "source": [
    "#"
   ]
  },
  {
   "cell_type": "code",
   "execution_count": 20,
   "metadata": {},
   "outputs": [
    {
     "name": "stdout",
     "output_type": "stream",
     "text": [
      "showing 10 of 47\n"
     ]
    },
    {
     "data": {
      "text/html": [
       "<style  type=\"text/css\" >\n",
       "#T_2870f_row0_col1,#T_2870f_row0_col2,#T_2870f_row1_col1,#T_2870f_row1_col2,#T_2870f_row2_col1,#T_2870f_row2_col2,#T_2870f_row3_col1,#T_2870f_row3_col2,#T_2870f_row4_col1,#T_2870f_row4_col2,#T_2870f_row5_col1,#T_2870f_row5_col2,#T_2870f_row6_col1,#T_2870f_row6_col2,#T_2870f_row7_col1,#T_2870f_row7_col2,#T_2870f_row8_col1,#T_2870f_row8_col2,#T_2870f_row9_col1,#T_2870f_row9_col2{\n",
       "            font-size: 20px;\n",
       "             font-family:  Times New Roman;\n",
       "             text-align:  right;\n",
       "             max-width:  500px;\n",
       "        }</style><table id=\"T_2870f_\" ><thead>    <tr>        <th class=\"blank level0\" ></th>        <th class=\"col_heading level0 col0\" >verse</th>        <th class=\"col_heading level0 col1\" >clause</th>        <th class=\"col_heading level0 col2\" >verb_utf8</th>        <th class=\"col_heading level0 col3\" >function</th>        <th class=\"col_heading level0 col4\" >times_utf8</th>    </tr>    <tr>        <th class=\"index_name level0\" >node</th>        <th class=\"blank\" ></th>        <th class=\"blank\" ></th>        <th class=\"blank\" ></th>        <th class=\"blank\" ></th>        <th class=\"blank\" ></th>    </tr></thead><tbody>\n",
       "                <tr>\n",
       "                        <th id=\"T_2870f_level0_row0\" class=\"row_heading level0 row0\" >428652</th>\n",
       "                        <td id=\"T_2870f_row0_col0\" class=\"data row0 col0\" >Genesis 14:4</td>\n",
       "                        <td id=\"T_2870f_row0_col1\" class=\"data row0 col1\" >וּשְׁלֹשׁ־עֶשְׂרֵ֥ה שָׁנָ֖ה מָרָֽדוּ׃ </td>\n",
       "                        <td id=\"T_2870f_row0_col2\" class=\"data row0 col2\" >מרד</td>\n",
       "                        <td id=\"T_2870f_row0_col3\" class=\"data row0 col3\" >simultaneous</td>\n",
       "                        <td id=\"T_2870f_row0_col4\" class=\"data row0 col4\" >שׁנה</td>\n",
       "            </tr>\n",
       "            <tr>\n",
       "                        <th id=\"T_2870f_level0_row1\" class=\"row_heading level0 row1\" >442052</th>\n",
       "                        <td id=\"T_2870f_row1_col0\" class=\"data row1 col0\" >Numbers 11:9</td>\n",
       "                        <td id=\"T_2870f_row1_col1\" class=\"data row1 col1\" >בְרֶ֧דֶת הַטַּ֛ל עַל־הַֽמַּחֲנֶ֖ה לָ֑יְלָה </td>\n",
       "                        <td id=\"T_2870f_row1_col2\" class=\"data row1 col2\" >ירד</td>\n",
       "                        <td id=\"T_2870f_row1_col3\" class=\"data row1 col3\" >simultaneous</td>\n",
       "                        <td id=\"T_2870f_row1_col4\" class=\"data row1 col4\" >לילה</td>\n",
       "            </tr>\n",
       "            <tr>\n",
       "                        <th id=\"T_2870f_level0_row2\" class=\"row_heading level0 row2\" >452297</th>\n",
       "                        <td id=\"T_2870f_row2_col0\" class=\"data row2 col0\" >Judges 9:32</td>\n",
       "                        <td id=\"T_2870f_row2_col1\" class=\"data row2 col1\" >ק֣וּם לַ֔יְלָה אַתָּ֖ה וְהָעָ֣ם </td>\n",
       "                        <td id=\"T_2870f_row2_col2\" class=\"data row2 col2\" >קום</td>\n",
       "                        <td id=\"T_2870f_row2_col3\" class=\"data row2 col3\" >simultaneous</td>\n",
       "                        <td id=\"T_2870f_row2_col4\" class=\"data row2 col4\" >לילה</td>\n",
       "            </tr>\n",
       "            <tr>\n",
       "                        <th id=\"T_2870f_level0_row3\" class=\"row_heading level0 row3\" >457391</th>\n",
       "                        <td id=\"T_2870f_row3_col0\" class=\"data row3 col0\" >1_Samuel 26:7</td>\n",
       "                        <td id=\"T_2870f_row3_col1\" class=\"data row3 col1\" >וַיָּבֹא֩ דָוִ֨ד וַאֲבִישַׁ֥י׀ אֶל־הָעָם֮ לַיְלָה֒ </td>\n",
       "                        <td id=\"T_2870f_row3_col2\" class=\"data row3 col2\" >בוא</td>\n",
       "                        <td id=\"T_2870f_row3_col3\" class=\"data row3 col3\" >simultaneous</td>\n",
       "                        <td id=\"T_2870f_row3_col4\" class=\"data row3 col4\" >לילה</td>\n",
       "            </tr>\n",
       "            <tr>\n",
       "                        <th id=\"T_2870f_level0_row4\" class=\"row_heading level0 row4\" >465833</th>\n",
       "                        <td id=\"T_2870f_row4_col0\" class=\"data row4 col0\" >2_Kings 7:12</td>\n",
       "                        <td id=\"T_2870f_row4_col1\" class=\"data row4 col1\" >וַיָּ֨קָם הַמֶּ֜לֶךְ לַ֗יְלָה </td>\n",
       "                        <td id=\"T_2870f_row4_col2\" class=\"data row4 col2\" >קום</td>\n",
       "                        <td id=\"T_2870f_row4_col3\" class=\"data row4 col3\" >simultaneous</td>\n",
       "                        <td id=\"T_2870f_row4_col4\" class=\"data row4 col4\" >לילה</td>\n",
       "            </tr>\n",
       "            <tr>\n",
       "                        <th id=\"T_2870f_level0_row5\" class=\"row_heading level0 row5\" >485724</th>\n",
       "                        <td id=\"T_2870f_row5_col0\" class=\"data row5 col0\" >Hosea 4:5</td>\n",
       "                        <td id=\"T_2870f_row5_col1\" class=\"data row5 col1\" >וְכָשַׁ֧ל גַּם־נָבִ֛יא עִמְּךָ֖ לָ֑יְלָה </td>\n",
       "                        <td id=\"T_2870f_row5_col2\" class=\"data row5 col2\" >כשׁל</td>\n",
       "                        <td id=\"T_2870f_row5_col3\" class=\"data row5 col3\" >simultaneous</td>\n",
       "                        <td id=\"T_2870f_row5_col4\" class=\"data row5 col4\" >לילה</td>\n",
       "            </tr>\n",
       "            <tr>\n",
       "                        <th id=\"T_2870f_level0_row6\" class=\"row_heading level0 row6\" >490340</th>\n",
       "                        <td id=\"T_2870f_row6_col0\" class=\"data row6 col0\" >Psalms 5:4</td>\n",
       "                        <td id=\"T_2870f_row6_col1\" class=\"data row6 col1\" >בֹּ֖קֶר תִּשְׁמַ֣ע קֹולִ֑י </td>\n",
       "                        <td id=\"T_2870f_row6_col2\" class=\"data row6 col2\" >שׁמע</td>\n",
       "                        <td id=\"T_2870f_row6_col3\" class=\"data row6 col3\" >simultaneous</td>\n",
       "                        <td id=\"T_2870f_row6_col4\" class=\"data row6 col4\" >בקר</td>\n",
       "            </tr>\n",
       "            <tr>\n",
       "                        <th id=\"T_2870f_level0_row7\" class=\"row_heading level0 row7\" >493512</th>\n",
       "                        <td id=\"T_2870f_row7_col0\" class=\"data row7 col0\" >Psalms 69:14</td>\n",
       "                        <td id=\"T_2870f_row7_col1\" class=\"data row7 col1\" >תְפִלָּתִֽי־לְךָ֨׀ עֵ֤ת רָצֹ֗ון </td>\n",
       "                        <td id=\"T_2870f_row7_col2\" class=\"data row7 col2\" >nan</td>\n",
       "                        <td id=\"T_2870f_row7_col3\" class=\"data row7 col3\" >simultaneous</td>\n",
       "                        <td id=\"T_2870f_row7_col4\" class=\"data row7 col4\" >עת</td>\n",
       "            </tr>\n",
       "            <tr>\n",
       "                        <th id=\"T_2870f_level0_row8\" class=\"row_heading level0 row8\" >499835</th>\n",
       "                        <td id=\"T_2870f_row8_col0\" class=\"data row8 col0\" >Job 34:25</td>\n",
       "                        <td id=\"T_2870f_row8_col1\" class=\"data row8 col1\" >וְהָ֥פַךְ לַ֝֗יְלָה </td>\n",
       "                        <td id=\"T_2870f_row8_col2\" class=\"data row8 col2\" >הפך</td>\n",
       "                        <td id=\"T_2870f_row8_col3\" class=\"data row8 col3\" >simultaneous</td>\n",
       "                        <td id=\"T_2870f_row8_col4\" class=\"data row8 col4\" >לילה</td>\n",
       "            </tr>\n",
       "            <tr>\n",
       "                        <th id=\"T_2870f_level0_row9\" class=\"row_heading level0 row9\" >514108</th>\n",
       "                        <td id=\"T_2870f_row9_col0\" class=\"data row9 col0\" >2_Chronicles 21:9</td>\n",
       "                        <td id=\"T_2870f_row9_col1\" class=\"data row9 col1\" >קָ֣ם לַ֔יְלָה </td>\n",
       "                        <td id=\"T_2870f_row9_col2\" class=\"data row9 col2\" >קום</td>\n",
       "                        <td id=\"T_2870f_row9_col3\" class=\"data row9 col3\" >simultaneous</td>\n",
       "                        <td id=\"T_2870f_row9_col4\" class=\"data row9 col4\" >לילה</td>\n",
       "            </tr>\n",
       "    </tbody></table>"
      ],
      "text/plain": [
       "<pandas.io.formats.style.Styler at 0x7fa0b59c9310>"
      ]
     },
     "execution_count": 20,
     "metadata": {},
     "output_type": "execute_result"
    }
   ],
   "source": [
    "null_nodef = simdf[\n",
    "    (simdf.front == 'Ø')\n",
    "    & (simdf.DEF == 0)\n",
    "]\n",
    "\n",
    "out.number(\n",
    "    null_nodef.shape[0],\n",
    "    'n_null_nodef'\n",
    ")\n",
    "\n",
    "ts.show(\n",
    "    null_nodef\n",
    ", extra=['function', 'times_utf8'], spread=10)"
   ]
  },
  {
   "cell_type": "code",
   "execution_count": 21,
   "metadata": {},
   "outputs": [
    {
     "data": {
      "text/plain": [
       "לילה       31\n",
       "יום         5\n",
       "בקר         3\n",
       "עת          2\n",
       "חדשׁ        1\n",
       "רגע|יום     1\n",
       "צהרים       1\n",
       "שׁנה        1\n",
       "רגע         1\n",
       "מחר|עת      1\n",
       "Name: times_utf8, dtype: int64"
      ]
     },
     "execution_count": 21,
     "metadata": {},
     "output_type": "execute_result"
    }
   ],
   "source": [
    "nndef_timects = null_nodef.times_utf8.value_counts()\n",
    "nndef_timeprs = nndef_timects / nndef_timects.sum()\n",
    "\n",
    "nndef_timects"
   ]
  },
  {
   "cell_type": "code",
   "execution_count": 22,
   "metadata": {},
   "outputs": [
    {
     "data": {
      "text/plain": [
       "'66'"
      ]
     },
     "execution_count": 22,
     "metadata": {},
     "output_type": "execute_result"
    }
   ],
   "source": [
    "out.number(\n",
    "    nndef_timeprs['לילה']*100,\n",
    "    'nndef_night_pr',\n",
    ")"
   ]
  },
  {
   "cell_type": "code",
   "execution_count": 23,
   "metadata": {},
   "outputs": [
    {
     "data": {
      "text/plain": [
       "'31'"
      ]
     },
     "execution_count": 23,
     "metadata": {},
     "output_type": "execute_result"
    }
   ],
   "source": [
    "out.number(\n",
    "    nndef_timects['לילה'],\n",
    "    'nndef_night_ct',\n",
    ")"
   ]
  },
  {
   "cell_type": "code",
   "execution_count": 24,
   "metadata": {},
   "outputs": [
    {
     "data": {
      "text/plain": [
       "'5'"
      ]
     },
     "execution_count": 24,
     "metadata": {},
     "output_type": "execute_result"
    }
   ],
   "source": [
    "out.number(\n",
    "    nndef_timects['יום'],\n",
    "    'nndef_day_ct',\n",
    ")"
   ]
  },
  {
   "cell_type": "code",
   "execution_count": 25,
   "metadata": {},
   "outputs": [
    {
     "data": {
      "text/plain": [
       "'3'"
      ]
     },
     "execution_count": 25,
     "metadata": {},
     "output_type": "execute_result"
    }
   ],
   "source": [
    "out.number(\n",
    "    nndef_timects['בקר'],\n",
    "    'nndef_morning_ct',\n",
    ")"
   ]
  },
  {
   "cell_type": "markdown",
   "metadata": {},
   "source": [
    "### Phrase types"
   ]
  },
  {
   "cell_type": "code",
   "execution_count": 26,
   "metadata": {},
   "outputs": [
    {
     "name": "stdout",
     "output_type": "stream",
     "text": [
      "simultaneous\n"
     ]
    },
    {
     "data": {
      "text/html": [
       "<div>\n",
       "<style scoped>\n",
       "    .dataframe tbody tr th:only-of-type {\n",
       "        vertical-align: middle;\n",
       "    }\n",
       "\n",
       "    .dataframe tbody tr th {\n",
       "        vertical-align: top;\n",
       "    }\n",
       "\n",
       "    .dataframe thead th {\n",
       "        text-align: right;\n",
       "    }\n",
       "</style>\n",
       "<table border=\"1\" class=\"dataframe\">\n",
       "  <thead>\n",
       "    <tr style=\"text-align: right;\">\n",
       "      <th></th>\n",
       "      <th>count</th>\n",
       "      <th>percent</th>\n",
       "    </tr>\n",
       "    <tr>\n",
       "      <th>Phrase Type</th>\n",
       "      <th></th>\n",
       "      <th></th>\n",
       "    </tr>\n",
       "  </thead>\n",
       "  <tbody>\n",
       "    <tr>\n",
       "      <th>PP</th>\n",
       "      <td>1196</td>\n",
       "      <td>61%</td>\n",
       "    </tr>\n",
       "    <tr>\n",
       "      <th>ADVB</th>\n",
       "      <td>458</td>\n",
       "      <td>24%</td>\n",
       "    </tr>\n",
       "    <tr>\n",
       "      <th>NP</th>\n",
       "      <td>293</td>\n",
       "      <td>15%</td>\n",
       "    </tr>\n",
       "  </tbody>\n",
       "</table>\n",
       "</div>"
      ],
      "text/plain": [
       "             count percent\n",
       "Phrase Type               \n",
       "PP            1196     61%\n",
       "ADVB           458     24%\n",
       "NP             293     15%"
      ]
     },
     "metadata": {},
     "output_type": "display_data"
    },
    {
     "name": "stdout",
     "output_type": "stream",
     "text": [
      "anterior_dur\n"
     ]
    },
    {
     "data": {
      "text/html": [
       "<div>\n",
       "<style scoped>\n",
       "    .dataframe tbody tr th:only-of-type {\n",
       "        vertical-align: middle;\n",
       "    }\n",
       "\n",
       "    .dataframe tbody tr th {\n",
       "        vertical-align: top;\n",
       "    }\n",
       "\n",
       "    .dataframe thead th {\n",
       "        text-align: right;\n",
       "    }\n",
       "</style>\n",
       "<table border=\"1\" class=\"dataframe\">\n",
       "  <thead>\n",
       "    <tr style=\"text-align: right;\">\n",
       "      <th></th>\n",
       "      <th>count</th>\n",
       "      <th>percent</th>\n",
       "    </tr>\n",
       "    <tr>\n",
       "      <th>Phrase Type</th>\n",
       "      <th></th>\n",
       "      <th></th>\n",
       "    </tr>\n",
       "  </thead>\n",
       "  <tbody>\n",
       "    <tr>\n",
       "      <th>PP</th>\n",
       "      <td>434</td>\n",
       "      <td>100%</td>\n",
       "    </tr>\n",
       "  </tbody>\n",
       "</table>\n",
       "</div>"
      ],
      "text/plain": [
       "             count percent\n",
       "Phrase Type               \n",
       "PP             434    100%"
      ]
     },
     "metadata": {},
     "output_type": "display_data"
    },
    {
     "name": "stdout",
     "output_type": "stream",
     "text": [
      "anterior\n"
     ]
    },
    {
     "data": {
      "text/html": [
       "<div>\n",
       "<style scoped>\n",
       "    .dataframe tbody tr th:only-of-type {\n",
       "        vertical-align: middle;\n",
       "    }\n",
       "\n",
       "    .dataframe tbody tr th {\n",
       "        vertical-align: top;\n",
       "    }\n",
       "\n",
       "    .dataframe thead th {\n",
       "        text-align: right;\n",
       "    }\n",
       "</style>\n",
       "<table border=\"1\" class=\"dataframe\">\n",
       "  <thead>\n",
       "    <tr style=\"text-align: right;\">\n",
       "      <th></th>\n",
       "      <th>count</th>\n",
       "      <th>percent</th>\n",
       "    </tr>\n",
       "    <tr>\n",
       "      <th>Phrase Type</th>\n",
       "      <th></th>\n",
       "      <th></th>\n",
       "    </tr>\n",
       "  </thead>\n",
       "  <tbody>\n",
       "    <tr>\n",
       "      <th>PP</th>\n",
       "      <td>14</td>\n",
       "      <td>78%</td>\n",
       "    </tr>\n",
       "    <tr>\n",
       "      <th>ADVB</th>\n",
       "      <td>4</td>\n",
       "      <td>22%</td>\n",
       "    </tr>\n",
       "  </tbody>\n",
       "</table>\n",
       "</div>"
      ],
      "text/plain": [
       "             count percent\n",
       "Phrase Type               \n",
       "PP              14     78%\n",
       "ADVB             4     22%"
      ]
     },
     "metadata": {},
     "output_type": "display_data"
    },
    {
     "name": "stdout",
     "output_type": "stream",
     "text": [
      "atelic_ext\n"
     ]
    },
    {
     "data": {
      "text/html": [
       "<div>\n",
       "<style scoped>\n",
       "    .dataframe tbody tr th:only-of-type {\n",
       "        vertical-align: middle;\n",
       "    }\n",
       "\n",
       "    .dataframe tbody tr th {\n",
       "        vertical-align: top;\n",
       "    }\n",
       "\n",
       "    .dataframe thead th {\n",
       "        text-align: right;\n",
       "    }\n",
       "</style>\n",
       "<table border=\"1\" class=\"dataframe\">\n",
       "  <thead>\n",
       "    <tr style=\"text-align: right;\">\n",
       "      <th></th>\n",
       "      <th>count</th>\n",
       "      <th>percent</th>\n",
       "    </tr>\n",
       "    <tr>\n",
       "      <th>Phrase Type</th>\n",
       "      <th></th>\n",
       "      <th></th>\n",
       "    </tr>\n",
       "  </thead>\n",
       "  <tbody>\n",
       "    <tr>\n",
       "      <th>NP</th>\n",
       "      <td>521</td>\n",
       "      <td>90%</td>\n",
       "    </tr>\n",
       "    <tr>\n",
       "      <th>ADVB</th>\n",
       "      <td>46</td>\n",
       "      <td>8%</td>\n",
       "    </tr>\n",
       "    <tr>\n",
       "      <th>PP</th>\n",
       "      <td>9</td>\n",
       "      <td>2%</td>\n",
       "    </tr>\n",
       "  </tbody>\n",
       "</table>\n",
       "</div>"
      ],
      "text/plain": [
       "             count percent\n",
       "Phrase Type               \n",
       "NP             521     90%\n",
       "ADVB            46      8%\n",
       "PP               9      2%"
      ]
     },
     "metadata": {},
     "output_type": "display_data"
    },
    {
     "name": "stdout",
     "output_type": "stream",
     "text": [
      "habitual\n"
     ]
    },
    {
     "data": {
      "text/html": [
       "<div>\n",
       "<style scoped>\n",
       "    .dataframe tbody tr th:only-of-type {\n",
       "        vertical-align: middle;\n",
       "    }\n",
       "\n",
       "    .dataframe tbody tr th {\n",
       "        vertical-align: top;\n",
       "    }\n",
       "\n",
       "    .dataframe thead th {\n",
       "        text-align: right;\n",
       "    }\n",
       "</style>\n",
       "<table border=\"1\" class=\"dataframe\">\n",
       "  <thead>\n",
       "    <tr style=\"text-align: right;\">\n",
       "      <th></th>\n",
       "      <th>count</th>\n",
       "      <th>percent</th>\n",
       "    </tr>\n",
       "    <tr>\n",
       "      <th>Phrase Type</th>\n",
       "      <th></th>\n",
       "      <th></th>\n",
       "    </tr>\n",
       "  </thead>\n",
       "  <tbody>\n",
       "    <tr>\n",
       "      <th>PP</th>\n",
       "      <td>42</td>\n",
       "      <td>68%</td>\n",
       "    </tr>\n",
       "    <tr>\n",
       "      <th>NP</th>\n",
       "      <td>20</td>\n",
       "      <td>32%</td>\n",
       "    </tr>\n",
       "  </tbody>\n",
       "</table>\n",
       "</div>"
      ],
      "text/plain": [
       "             count percent\n",
       "Phrase Type               \n",
       "PP              42     68%\n",
       "NP              20     32%"
      ]
     },
     "metadata": {},
     "output_type": "display_data"
    },
    {
     "name": "stdout",
     "output_type": "stream",
     "text": [
      "posterior\n"
     ]
    },
    {
     "data": {
      "text/html": [
       "<div>\n",
       "<style scoped>\n",
       "    .dataframe tbody tr th:only-of-type {\n",
       "        vertical-align: middle;\n",
       "    }\n",
       "\n",
       "    .dataframe tbody tr th {\n",
       "        vertical-align: top;\n",
       "    }\n",
       "\n",
       "    .dataframe thead th {\n",
       "        text-align: right;\n",
       "    }\n",
       "</style>\n",
       "<table border=\"1\" class=\"dataframe\">\n",
       "  <thead>\n",
       "    <tr style=\"text-align: right;\">\n",
       "      <th></th>\n",
       "      <th>count</th>\n",
       "      <th>percent</th>\n",
       "    </tr>\n",
       "    <tr>\n",
       "      <th>Phrase Type</th>\n",
       "      <th></th>\n",
       "      <th></th>\n",
       "    </tr>\n",
       "  </thead>\n",
       "  <tbody>\n",
       "    <tr>\n",
       "      <th>PP</th>\n",
       "      <td>158</td>\n",
       "      <td>70%</td>\n",
       "    </tr>\n",
       "    <tr>\n",
       "      <th>ADVB</th>\n",
       "      <td>34</td>\n",
       "      <td>15%</td>\n",
       "    </tr>\n",
       "    <tr>\n",
       "      <th>NP</th>\n",
       "      <td>33</td>\n",
       "      <td>15%</td>\n",
       "    </tr>\n",
       "  </tbody>\n",
       "</table>\n",
       "</div>"
      ],
      "text/plain": [
       "             count percent\n",
       "Phrase Type               \n",
       "PP             158     70%\n",
       "ADVB            34     15%\n",
       "NP              33     15%"
      ]
     },
     "metadata": {},
     "output_type": "display_data"
    },
    {
     "name": "stdout",
     "output_type": "stream",
     "text": [
      "posterior_dur\n"
     ]
    },
    {
     "data": {
      "text/html": [
       "<div>\n",
       "<style scoped>\n",
       "    .dataframe tbody tr th:only-of-type {\n",
       "        vertical-align: middle;\n",
       "    }\n",
       "\n",
       "    .dataframe tbody tr th {\n",
       "        vertical-align: top;\n",
       "    }\n",
       "\n",
       "    .dataframe thead th {\n",
       "        text-align: right;\n",
       "    }\n",
       "</style>\n",
       "<table border=\"1\" class=\"dataframe\">\n",
       "  <thead>\n",
       "    <tr style=\"text-align: right;\">\n",
       "      <th></th>\n",
       "      <th>count</th>\n",
       "      <th>percent</th>\n",
       "    </tr>\n",
       "    <tr>\n",
       "      <th>Phrase Type</th>\n",
       "      <th></th>\n",
       "      <th></th>\n",
       "    </tr>\n",
       "  </thead>\n",
       "  <tbody>\n",
       "    <tr>\n",
       "      <th>PP</th>\n",
       "      <td>66</td>\n",
       "      <td>100%</td>\n",
       "    </tr>\n",
       "  </tbody>\n",
       "</table>\n",
       "</div>"
      ],
      "text/plain": [
       "             count percent\n",
       "Phrase Type               \n",
       "PP              66    100%"
      ]
     },
     "metadata": {},
     "output_type": "display_data"
    },
    {
     "name": "stdout",
     "output_type": "stream",
     "text": [
      "telic_ext\n"
     ]
    },
    {
     "data": {
      "text/html": [
       "<div>\n",
       "<style scoped>\n",
       "    .dataframe tbody tr th:only-of-type {\n",
       "        vertical-align: middle;\n",
       "    }\n",
       "\n",
       "    .dataframe tbody tr th {\n",
       "        vertical-align: top;\n",
       "    }\n",
       "\n",
       "    .dataframe thead th {\n",
       "        text-align: right;\n",
       "    }\n",
       "</style>\n",
       "<table border=\"1\" class=\"dataframe\">\n",
       "  <thead>\n",
       "    <tr style=\"text-align: right;\">\n",
       "      <th></th>\n",
       "      <th>count</th>\n",
       "      <th>percent</th>\n",
       "    </tr>\n",
       "    <tr>\n",
       "      <th>Phrase Type</th>\n",
       "      <th></th>\n",
       "      <th></th>\n",
       "    </tr>\n",
       "  </thead>\n",
       "  <tbody>\n",
       "    <tr>\n",
       "      <th>PP</th>\n",
       "      <td>8</td>\n",
       "      <td>57%</td>\n",
       "    </tr>\n",
       "    <tr>\n",
       "      <th>NP</th>\n",
       "      <td>6</td>\n",
       "      <td>43%</td>\n",
       "    </tr>\n",
       "  </tbody>\n",
       "</table>\n",
       "</div>"
      ],
      "text/plain": [
       "             count percent\n",
       "Phrase Type               \n",
       "PP               8     57%\n",
       "NP               6     43%"
      ]
     },
     "metadata": {},
     "output_type": "display_data"
    }
   ],
   "source": [
    "abbrevs = {\n",
    "    'simultaneous': ['sim', 'Simultaneous'],\n",
    "    'anterior_dur': ['antdur', 'Anterior Durative'],\n",
    "    'anterior': ['ant', 'Anterior'],\n",
    "    'atelic_ext': ['atel', 'Atelic Extent'],\n",
    "    'habitual': ['hab', 'Habitual'],\n",
    "    'posterior': ['post', 'Posterior'],\n",
    "    'posterior_dur': ['postdur', 'Posterior Durative'],\n",
    "    'telic_ext': ['telic', 'Telic Extent']\n",
    "}\n",
    "\n",
    "for function, namedata in abbrevs.items():\n",
    "    abbrev, full = namedata\n",
    "    phtype_cts = pd.DataFrame(\n",
    "        df_main[df_main.function == function]['ph_type'].value_counts()\n",
    "    )\n",
    "    phtype_cts = phtype_cts.rename_axis(index='Phrase Type').set_axis(['count'], 1)\n",
    "    phtype_prs = phtype_cts / phtype_cts.sum()\n",
    "    phtype_cp = join_ct_pr(phtype_cts, phtype_prs)\n",
    "    \n",
    "    print(function)\n",
    "    display(\n",
    "        out.table(\n",
    "            phtype_cp,\n",
    "            f'{abbrev}_phtype_ct',\n",
    "            caption=f'Attested {full} Phrase Types in Sample',\n",
    "        )\n",
    "    )"
   ]
  },
  {
   "cell_type": "markdown",
   "metadata": {},
   "source": [
    "## Examples for Simultaneous"
   ]
  },
  {
   "cell_type": "code",
   "execution_count": 27,
   "metadata": {},
   "outputs": [
    {
     "data": {
      "text/plain": [
       "'42'"
      ]
     },
     "execution_count": 27,
     "metadata": {},
     "output_type": "execute_result"
    }
   ],
   "source": [
    "simul_L = simdf[simdf.front == 'ל']\n",
    "\n",
    "out.number(\n",
    "    simul_L.shape[0],\n",
    "    'n_simul_L'\n",
    ")"
   ]
  },
  {
   "cell_type": "code",
   "execution_count": 28,
   "metadata": {},
   "outputs": [
    {
     "name": "stdout",
     "output_type": "stream",
     "text": [
      "showing 25 of 42\n"
     ]
    },
    {
     "data": {
      "text/html": [
       "<style  type=\"text/css\" >\n",
       "#T_56e20_row0_col1,#T_56e20_row0_col2,#T_56e20_row1_col1,#T_56e20_row1_col2,#T_56e20_row2_col1,#T_56e20_row2_col2,#T_56e20_row3_col1,#T_56e20_row3_col2,#T_56e20_row4_col1,#T_56e20_row4_col2,#T_56e20_row5_col1,#T_56e20_row5_col2,#T_56e20_row6_col1,#T_56e20_row6_col2,#T_56e20_row7_col1,#T_56e20_row7_col2,#T_56e20_row8_col1,#T_56e20_row8_col2,#T_56e20_row9_col1,#T_56e20_row9_col2,#T_56e20_row10_col1,#T_56e20_row10_col2,#T_56e20_row11_col1,#T_56e20_row11_col2,#T_56e20_row12_col1,#T_56e20_row12_col2,#T_56e20_row13_col1,#T_56e20_row13_col2,#T_56e20_row14_col1,#T_56e20_row14_col2,#T_56e20_row15_col1,#T_56e20_row15_col2,#T_56e20_row16_col1,#T_56e20_row16_col2,#T_56e20_row17_col1,#T_56e20_row17_col2,#T_56e20_row18_col1,#T_56e20_row18_col2,#T_56e20_row19_col1,#T_56e20_row19_col2,#T_56e20_row20_col1,#T_56e20_row20_col2,#T_56e20_row21_col1,#T_56e20_row21_col2,#T_56e20_row22_col1,#T_56e20_row22_col2,#T_56e20_row23_col1,#T_56e20_row23_col2,#T_56e20_row24_col1,#T_56e20_row24_col2{\n",
       "            font-size: 20px;\n",
       "             font-family:  Times New Roman;\n",
       "             text-align:  right;\n",
       "             max-width:  500px;\n",
       "        }</style><table id=\"T_56e20_\" ><thead>    <tr>        <th class=\"blank level0\" ></th>        <th class=\"col_heading level0 col0\" >verse</th>        <th class=\"col_heading level0 col1\" >clause</th>        <th class=\"col_heading level0 col2\" >verb_utf8</th>        <th class=\"col_heading level0 col3\" >front</th>    </tr>    <tr>        <th class=\"index_name level0\" >node</th>        <th class=\"blank\" ></th>        <th class=\"blank\" ></th>        <th class=\"blank\" ></th>        <th class=\"blank\" ></th>    </tr></thead><tbody>\n",
       "                <tr>\n",
       "                        <th id=\"T_56e20_level0_row0\" class=\"row_heading level0 row0\" >427805</th>\n",
       "                        <td id=\"T_56e20_row0_col0\" class=\"data row0 col0\" >Genesis 3:8</td>\n",
       "                        <td id=\"T_56e20_row0_col1\" class=\"data row0 col1\" >מִתְהַלֵּ֥ךְ בַּגָּ֖ן לְר֣וּחַ הַיֹּ֑ום </td>\n",
       "                        <td id=\"T_56e20_row0_col2\" class=\"data row0 col2\" >הלך</td>\n",
       "                        <td id=\"T_56e20_row0_col3\" class=\"data row0 col3\" >ל</td>\n",
       "            </tr>\n",
       "            <tr>\n",
       "                        <th id=\"T_56e20_level0_row1\" class=\"row_heading level0 row1\" >428223</th>\n",
       "                        <td id=\"T_56e20_row1_col0\" class=\"data row1 col0\" >Genesis 8:11</td>\n",
       "                        <td id=\"T_56e20_row1_col1\" class=\"data row1 col1\" >וַתָּבֹ֨א אֵלָ֤יו הַיֹּונָה֙ לְעֵ֣ת עֶ֔רֶב </td>\n",
       "                        <td id=\"T_56e20_row1_col2\" class=\"data row1 col2\" >בוא</td>\n",
       "                        <td id=\"T_56e20_row1_col3\" class=\"data row1 col3\" >ל</td>\n",
       "            </tr>\n",
       "            <tr>\n",
       "                        <th id=\"T_56e20_level0_row2\" class=\"row_heading level0 row2\" >429008</th>\n",
       "                        <td id=\"T_56e20_row2_col0\" class=\"data row2 col0\" >Genesis 18:14</td>\n",
       "                        <td id=\"T_56e20_row2_col1\" class=\"data row2 col1\" >לַמֹּועֵ֞ד אָשׁ֥וּב אֵלֶ֛יךָ כָּעֵ֥ת חַיָּ֖ה </td>\n",
       "                        <td id=\"T_56e20_row2_col2\" class=\"data row2 col2\" >שׁוב</td>\n",
       "                        <td id=\"T_56e20_row2_col3\" class=\"data row2 col3\" >ל</td>\n",
       "            </tr>\n",
       "            <tr>\n",
       "                        <th id=\"T_56e20_level0_row3\" class=\"row_heading level0 row3\" >430522</th>\n",
       "                        <td id=\"T_56e20_row3_col0\" class=\"data row3 col0\" >Genesis 28:19</td>\n",
       "                        <td id=\"T_56e20_row3_col1\" class=\"data row3 col1\" >וְאוּלָ֛ם ל֥וּז שֵׁם־הָעִ֖יר לָרִאשֹׁנָֽה׃ </td>\n",
       "                        <td id=\"T_56e20_row3_col2\" class=\"data row3 col2\" >nan</td>\n",
       "                        <td id=\"T_56e20_row3_col3\" class=\"data row3 col3\" >ל</td>\n",
       "            </tr>\n",
       "            <tr>\n",
       "                        <th id=\"T_56e20_level0_row4\" class=\"row_heading level0 row4\" >433410</th>\n",
       "                        <td id=\"T_56e20_row4_col0\" class=\"data row4 col0\" >Genesis 49:27</td>\n",
       "                        <td id=\"T_56e20_row4_col1\" class=\"data row4 col1\" >וְלָעֶ֖רֶב יְחַלֵּ֥ק שָׁלָֽל׃ </td>\n",
       "                        <td id=\"T_56e20_row4_col2\" class=\"data row4 col2\" >חלק</td>\n",
       "                        <td id=\"T_56e20_row4_col3\" class=\"data row4 col3\" >ל</td>\n",
       "            </tr>\n",
       "            <tr>\n",
       "                        <th id=\"T_56e20_level0_row5\" class=\"row_heading level0 row5\" >434331</th>\n",
       "                        <td id=\"T_56e20_row5_col0\" class=\"data row5 col0\" >Exodus 8:6</td>\n",
       "                        <td id=\"T_56e20_row5_col1\" class=\"data row5 col1\" >לְמָחָ֑ר </td>\n",
       "                        <td id=\"T_56e20_row5_col2\" class=\"data row5 col2\" >nan</td>\n",
       "                        <td id=\"T_56e20_row5_col3\" class=\"data row5 col3\" >ל</td>\n",
       "            </tr>\n",
       "            <tr>\n",
       "                        <th id=\"T_56e20_level0_row6\" class=\"row_heading level0 row6\" >437249</th>\n",
       "                        <td id=\"T_56e20_row6_col0\" class=\"data row6 col0\" >Exodus 34:18</td>\n",
       "                        <td id=\"T_56e20_row6_col1\" class=\"data row6 col1\" >אֲשֶׁ֣ר צִוִּיתִ֔ךָ לְמֹועֵ֖ד חֹ֣דֶשׁ הָאָבִ֑יב </td>\n",
       "                        <td id=\"T_56e20_row6_col2\" class=\"data row6 col2\" >צוה</td>\n",
       "                        <td id=\"T_56e20_row6_col3\" class=\"data row6 col3\" >ל</td>\n",
       "            </tr>\n",
       "            <tr>\n",
       "                        <th id=\"T_56e20_level0_row7\" class=\"row_heading level0 row7\" >458967</th>\n",
       "                        <td id=\"T_56e20_row7_col0\" class=\"data row7 col0\" >2_Samuel 11:2</td>\n",
       "                        <td id=\"T_56e20_row7_col1\" class=\"data row7 col1\" >וַיְהִ֣י׀ לְעֵ֣ת הָעֶ֗רֶב </td>\n",
       "                        <td id=\"T_56e20_row7_col2\" class=\"data row7 col2\" >היה</td>\n",
       "                        <td id=\"T_56e20_row7_col3\" class=\"data row7 col3\" >ל</td>\n",
       "            </tr>\n",
       "            <tr>\n",
       "                        <th id=\"T_56e20_level0_row8\" class=\"row_heading level0 row8\" >463418</th>\n",
       "                        <td id=\"T_56e20_row8_col0\" class=\"data row8 col0\" >1_Kings 15:23</td>\n",
       "                        <td id=\"T_56e20_row8_col1\" class=\"data row8 col1\" >רַ֚ק לְעֵ֣ת זִקְנָתֹ֔ו חָלָ֖ה אֶת־רַגְלָֽיו׃ </td>\n",
       "                        <td id=\"T_56e20_row8_col2\" class=\"data row8 col2\" >חלה</td>\n",
       "                        <td id=\"T_56e20_row8_col3\" class=\"data row8 col3\" >ל</td>\n",
       "            </tr>\n",
       "            <tr>\n",
       "                        <th id=\"T_56e20_level0_row9\" class=\"row_heading level0 row9\" >464229</th>\n",
       "                        <td id=\"T_56e20_row9_col0\" class=\"data row9 col0\" >1_Kings 20:26</td>\n",
       "                        <td id=\"T_56e20_row9_col1\" class=\"data row9 col1\" >וַֽיְהִי֙ לִתְשׁוּבַ֣ת הַשָּׁנָ֔ה </td>\n",
       "                        <td id=\"T_56e20_row9_col2\" class=\"data row9 col2\" >היה</td>\n",
       "                        <td id=\"T_56e20_row9_col3\" class=\"data row9 col3\" >ל</td>\n",
       "            </tr>\n",
       "            <tr>\n",
       "                        <th id=\"T_56e20_level0_row10\" class=\"row_heading level0 row10\" >465226</th>\n",
       "                        <td id=\"T_56e20_row10_col0\" class=\"data row10 col0\" >2_Kings 4:17</td>\n",
       "                        <td id=\"T_56e20_row10_col1\" class=\"data row10 col1\" >וַתֵּ֣לֶד בֵּ֑ן לַמֹּועֵ֤ד הַזֶּה֙ כָּעֵ֣ת חַיָּ֔ה </td>\n",
       "                        <td id=\"T_56e20_row10_col2\" class=\"data row10 col2\" >ילד</td>\n",
       "                        <td id=\"T_56e20_row10_col3\" class=\"data row10 col3\" >ל</td>\n",
       "            </tr>\n",
       "            <tr>\n",
       "                        <th id=\"T_56e20_level0_row11\" class=\"row_heading level0 row11\" >468896</th>\n",
       "                        <td id=\"T_56e20_row11_col0\" class=\"data row11 col0\" >Isaiah 10:3</td>\n",
       "                        <td id=\"T_56e20_row11_col1\" class=\"data row11 col1\" >וּמַֽה־תַּעֲשׂוּ֙ לְיֹ֣ום פְּקֻדָּ֔ה </td>\n",
       "                        <td id=\"T_56e20_row11_col2\" class=\"data row11 col2\" >עשׂה</td>\n",
       "                        <td id=\"T_56e20_row11_col3\" class=\"data row11 col3\" >ל</td>\n",
       "            </tr>\n",
       "            <tr>\n",
       "                        <th id=\"T_56e20_level0_row12\" class=\"row_heading level0 row12\" >486026</th>\n",
       "                        <td id=\"T_56e20_row12_col0\" class=\"data row12 col0\" >Hosea 9:5</td>\n",
       "                        <td id=\"T_56e20_row12_col1\" class=\"data row12 col1\" >מַֽה־תַּעֲשׂ֖וּ לְיֹ֣ום מֹועֵ֑ד </td>\n",
       "                        <td id=\"T_56e20_row12_col2\" class=\"data row12 col2\" >עשׂה</td>\n",
       "                        <td id=\"T_56e20_row12_col3\" class=\"data row12 col3\" >ל</td>\n",
       "            </tr>\n",
       "            <tr>\n",
       "                        <th id=\"T_56e20_level0_row13\" class=\"row_heading level0 row13\" >487600</th>\n",
       "                        <td id=\"T_56e20_row13_col0\" class=\"data row13 col0\" >Jonah 4:7</td>\n",
       "                        <td id=\"T_56e20_row13_col1\" class=\"data row13 col1\" >בַּעֲלֹ֥ות הַשַּׁ֖חַר לַֽמָּחֳרָ֑ת </td>\n",
       "                        <td id=\"T_56e20_row13_col2\" class=\"data row13 col2\" >עלה</td>\n",
       "                        <td id=\"T_56e20_row13_col3\" class=\"data row13 col3\" >ל</td>\n",
       "            </tr>\n",
       "            <tr>\n",
       "                        <th id=\"T_56e20_level0_row14\" class=\"row_heading level0 row14\" >489875</th>\n",
       "                        <td id=\"T_56e20_row14_col0\" class=\"data row14 col0\" >Zechariah 14:7</td>\n",
       "                        <td id=\"T_56e20_row14_col1\" class=\"data row14 col1\" >לְעֵֽת־עֶ֖רֶב יִֽהְיֶה־אֹֽור׃ </td>\n",
       "                        <td id=\"T_56e20_row14_col2\" class=\"data row14 col2\" >היה</td>\n",
       "                        <td id=\"T_56e20_row14_col3\" class=\"data row14 col3\" >ל</td>\n",
       "            </tr>\n",
       "            <tr>\n",
       "                        <th id=\"T_56e20_level0_row15\" class=\"row_heading level0 row15\" >490557</th>\n",
       "                        <td id=\"T_56e20_row15_col0\" class=\"data row15 col0\" >Psalms 10:1</td>\n",
       "                        <td id=\"T_56e20_row15_col1\" class=\"data row15 col1\" >תַּ֝עְלִ֗ים לְעִתֹּ֥ות בַּצָּרָֽה׃ </td>\n",
       "                        <td id=\"T_56e20_row15_col2\" class=\"data row15 col2\" >עלם</td>\n",
       "                        <td id=\"T_56e20_row15_col3\" class=\"data row15 col3\" >ל</td>\n",
       "            </tr>\n",
       "            <tr>\n",
       "                        <th id=\"T_56e20_level0_row16\" class=\"row_heading level0 row16\" >492546</th>\n",
       "                        <td id=\"T_56e20_row16_col0\" class=\"data row16 col0\" >Psalms 49:15</td>\n",
       "                        <td id=\"T_56e20_row16_col1\" class=\"data row16 col1\" >וַיִּרְדּ֘וּ בָ֤ם יְשָׁרִ֨ים׀ לַבֹּ֗קֶר </td>\n",
       "                        <td id=\"T_56e20_row16_col2\" class=\"data row16 col2\" >רדה</td>\n",
       "                        <td id=\"T_56e20_row16_col3\" class=\"data row16 col3\" >ל</td>\n",
       "            </tr>\n",
       "            <tr>\n",
       "                        <th id=\"T_56e20_level0_row17\" class=\"row_heading level0 row17\" >494780</th>\n",
       "                        <td id=\"T_56e20_row17_col0\" class=\"data row17 col0\" >Psalms 90:6</td>\n",
       "                        <td id=\"T_56e20_row17_col1\" class=\"data row17 col1\" >לָ֝עֶ֗רֶב יְמֹולֵ֥ל </td>\n",
       "                        <td id=\"T_56e20_row17_col2\" class=\"data row17 col2\" >מלל</td>\n",
       "                        <td id=\"T_56e20_row17_col3\" class=\"data row17 col3\" >ל</td>\n",
       "            </tr>\n",
       "            <tr>\n",
       "                        <th id=\"T_56e20_level0_row18\" class=\"row_heading level0 row18\" >498980</th>\n",
       "                        <td id=\"T_56e20_row18_col0\" class=\"data row18 col0\" >Job 21:30</td>\n",
       "                        <td id=\"T_56e20_row18_col1\" class=\"data row18 col1\" >כִּ֤י לְיֹ֣ום אֵ֭יד יֵחָ֣שֶׂךְ רָ֑ע </td>\n",
       "                        <td id=\"T_56e20_row18_col2\" class=\"data row18 col2\" >חשׂך</td>\n",
       "                        <td id=\"T_56e20_row18_col3\" class=\"data row18 col3\" >ל</td>\n",
       "            </tr>\n",
       "            <tr>\n",
       "                        <th id=\"T_56e20_level0_row19\" class=\"row_heading level0 row19\" >500932</th>\n",
       "                        <td id=\"T_56e20_row19_col0\" class=\"data row19 col0\" >Proverbs 7:20</td>\n",
       "                        <td id=\"T_56e20_row19_col1\" class=\"data row19 col1\" >לְיֹ֥ום הַ֝כֵּ֗סֶא יָבֹ֥א בֵיתֹֽו׃ </td>\n",
       "                        <td id=\"T_56e20_row19_col2\" class=\"data row19 col2\" >בוא</td>\n",
       "                        <td id=\"T_56e20_row19_col3\" class=\"data row19 col3\" >ל</td>\n",
       "            </tr>\n",
       "            <tr>\n",
       "                        <th id=\"T_56e20_level0_row20\" class=\"row_heading level0 row20\" >504653</th>\n",
       "                        <td id=\"T_56e20_row20_col0\" class=\"data row20 col0\" >Ecclesiastes 11:6</td>\n",
       "                        <td id=\"T_56e20_row20_col1\" class=\"data row20 col1\" >וְלָעֶ֖רֶב אַל־תַּנַּ֣ח יָדֶ֑ךָ </td>\n",
       "                        <td id=\"T_56e20_row20_col2\" class=\"data row20 col2\" >נוח</td>\n",
       "                        <td id=\"T_56e20_row20_col3\" class=\"data row20 col3\" >ל</td>\n",
       "            </tr>\n",
       "            <tr>\n",
       "                        <th id=\"T_56e20_level0_row21\" class=\"row_heading level0 row21\" >505645</th>\n",
       "                        <td id=\"T_56e20_row21_col0\" class=\"data row21 col0\" >Esther 5:12</td>\n",
       "                        <td id=\"T_56e20_row21_col1\" class=\"data row21 col1\" >וְגַם־לְמָחָ֛ר אֲנִ֥י קָֽרוּא־לָ֖הּ עִם־הַמֶּֽלֶךְ׃ </td>\n",
       "                        <td id=\"T_56e20_row21_col2\" class=\"data row21 col2\" >קרא</td>\n",
       "                        <td id=\"T_56e20_row21_col3\" class=\"data row21 col3\" >ל</td>\n",
       "            </tr>\n",
       "            <tr>\n",
       "                        <th id=\"T_56e20_level0_row22\" class=\"row_heading level0 row22\" >512332</th>\n",
       "                        <td id=\"T_56e20_row22_col0\" class=\"data row22 col0\" >1_Chronicles 29:21</td>\n",
       "                        <td id=\"T_56e20_row22_col1\" class=\"data row22 col1\" >וַיַּעֲל֨וּ עֹלֹ֜ות לַיהוָ֗ה לְֽמָחֳרַת֮ הַיֹּ֣ום הַהוּא֒ לְכָל־יִשְׂרָאֵֽל׃ </td>\n",
       "                        <td id=\"T_56e20_row22_col2\" class=\"data row22 col2\" >עלה</td>\n",
       "                        <td id=\"T_56e20_row22_col3\" class=\"data row22 col3\" >ל</td>\n",
       "            </tr>\n",
       "            <tr>\n",
       "                        <th id=\"T_56e20_level0_row23\" class=\"row_heading level0 row23\" >514393</th>\n",
       "                        <td id=\"T_56e20_row23_col0\" class=\"data row23 col0\" >2_Chronicles 24:23</td>\n",
       "                        <td id=\"T_56e20_row23_col1\" class=\"data row23 col1\" >וַיְהִ֣י׀ לִתְקוּפַ֣ת הַשָּׁנָ֗ה </td>\n",
       "                        <td id=\"T_56e20_row23_col2\" class=\"data row23 col2\" >היה</td>\n",
       "                        <td id=\"T_56e20_row23_col3\" class=\"data row23 col3\" >ל</td>\n",
       "            </tr>\n",
       "            <tr>\n",
       "                        <th id=\"T_56e20_level0_row24\" class=\"row_heading level0 row24\" >515619</th>\n",
       "                        <td id=\"T_56e20_row24_col0\" class=\"data row24 col0\" >2_Chronicles 36:10</td>\n",
       "                        <td id=\"T_56e20_row24_col1\" class=\"data row24 col1\" >וְלִתְשׁוּבַ֣ת הַשָּׁנָ֗ה שָׁלַח֙ הַמֶּ֣לֶךְ נְבֽוּכַדְנֶאצַּ֔ר </td>\n",
       "                        <td id=\"T_56e20_row24_col2\" class=\"data row24 col2\" >שׁלח</td>\n",
       "                        <td id=\"T_56e20_row24_col3\" class=\"data row24 col3\" >ל</td>\n",
       "            </tr>\n",
       "    </tbody></table>"
      ],
      "text/plain": [
       "<pandas.io.formats.style.Styler at 0x7fa0b59e40a0>"
      ]
     },
     "execution_count": 28,
     "metadata": {},
     "output_type": "execute_result"
    }
   ],
   "source": [
    "ts.show(simul_L, extra=['front'])"
   ]
  },
  {
   "cell_type": "code",
   "execution_count": 31,
   "metadata": {},
   "outputs": [
    {
     "data": {
      "text/html": [
       "<div>\n",
       "<style scoped>\n",
       "    .dataframe tbody tr th:only-of-type {\n",
       "        vertical-align: middle;\n",
       "    }\n",
       "\n",
       "    .dataframe tbody tr th {\n",
       "        vertical-align: top;\n",
       "    }\n",
       "\n",
       "    .dataframe thead th {\n",
       "        text-align: right;\n",
       "    }\n",
       "</style>\n",
       "<table border=\"1\" class=\"dataframe\">\n",
       "  <thead>\n",
       "    <tr style=\"text-align: right;\">\n",
       "      <th></th>\n",
       "      <th>count</th>\n",
       "      <th>percent</th>\n",
       "    </tr>\n",
       "  </thead>\n",
       "  <tbody>\n",
       "    <tr>\n",
       "      <th>עת</th>\n",
       "      <td>10</td>\n",
       "      <td>24%</td>\n",
       "    </tr>\n",
       "    <tr>\n",
       "      <th>יום</th>\n",
       "      <td>8</td>\n",
       "      <td>19%</td>\n",
       "    </tr>\n",
       "    <tr>\n",
       "      <th>מועד</th>\n",
       "      <td>7</td>\n",
       "      <td>17%</td>\n",
       "    </tr>\n",
       "    <tr>\n",
       "      <th>ערב</th>\n",
       "      <td>3</td>\n",
       "      <td>7%</td>\n",
       "    </tr>\n",
       "    <tr>\n",
       "      <th>תשׁובה</th>\n",
       "      <td>3</td>\n",
       "      <td>7%</td>\n",
       "    </tr>\n",
       "    <tr>\n",
       "      <th>מחר</th>\n",
       "      <td>3</td>\n",
       "      <td>7%</td>\n",
       "    </tr>\n",
       "    <tr>\n",
       "      <th>מחרת</th>\n",
       "      <td>2</td>\n",
       "      <td>5%</td>\n",
       "    </tr>\n",
       "    <tr>\n",
       "      <th>בקר</th>\n",
       "      <td>1</td>\n",
       "      <td>2%</td>\n",
       "    </tr>\n",
       "    <tr>\n",
       "      <th>אחרית</th>\n",
       "      <td>1</td>\n",
       "      <td>2%</td>\n",
       "    </tr>\n",
       "    <tr>\n",
       "      <th>ראשׁון</th>\n",
       "      <td>1</td>\n",
       "      <td>2%</td>\n",
       "    </tr>\n",
       "    <tr>\n",
       "      <th>רוח</th>\n",
       "      <td>1</td>\n",
       "      <td>2%</td>\n",
       "    </tr>\n",
       "    <tr>\n",
       "      <th>מתי</th>\n",
       "      <td>1</td>\n",
       "      <td>2%</td>\n",
       "    </tr>\n",
       "    <tr>\n",
       "      <th>תקופה</th>\n",
       "      <td>1</td>\n",
       "      <td>2%</td>\n",
       "    </tr>\n",
       "  </tbody>\n",
       "</table>\n",
       "</div>"
      ],
      "text/plain": [
       "        count percent\n",
       "עת         10     24%\n",
       "יום         8     19%\n",
       "מועד        7     17%\n",
       "ערב         3      7%\n",
       "תשׁובה      3      7%\n",
       "מחר         3      7%\n",
       "מחרת        2      5%\n",
       "בקר         1      2%\n",
       "אחרית       1      2%\n",
       "ראשׁון      1      2%\n",
       "רוח         1      2%\n",
       "מתי         1      2%\n",
       "תקופה       1      2%"
      ]
     },
     "execution_count": 31,
     "metadata": {},
     "output_type": "execute_result"
    }
   ],
   "source": [
    "siml_head_ct = simul_L.head_utf8.value_counts()\n",
    "siml_head_pr = siml_head_ct / siml_head_ct.sum()\n",
    "siml_head_cp = join_ct_pr(siml_head_ct, siml_head_pr)\n",
    "\n",
    "out.table(\n",
    "    siml_head_cp,\n",
    "    'siml_head_cp', \n",
    "    caption='Semantic Heads of Simultaneous \\texthebrew{לְ} Adverbials',\n",
    ")"
   ]
  },
  {
   "cell_type": "code",
   "execution_count": 32,
   "metadata": {},
   "outputs": [
    {
     "name": "stdout",
     "output_type": "stream",
     "text": [
      "showing 8 of 8\n"
     ]
    },
    {
     "data": {
      "text/html": [
       "<style  type=\"text/css\" >\n",
       "#T_3d1f4_row0_col1,#T_3d1f4_row0_col2,#T_3d1f4_row1_col1,#T_3d1f4_row1_col2,#T_3d1f4_row2_col1,#T_3d1f4_row2_col2,#T_3d1f4_row3_col1,#T_3d1f4_row3_col2,#T_3d1f4_row4_col1,#T_3d1f4_row4_col2,#T_3d1f4_row5_col1,#T_3d1f4_row5_col2,#T_3d1f4_row6_col1,#T_3d1f4_row6_col2,#T_3d1f4_row7_col1,#T_3d1f4_row7_col2{\n",
       "            font-size: 20px;\n",
       "             font-family:  Times New Roman;\n",
       "             text-align:  right;\n",
       "             max-width:  500px;\n",
       "        }</style><table id=\"T_3d1f4_\" ><thead>    <tr>        <th class=\"blank level0\" ></th>        <th class=\"col_heading level0 col0\" >verse</th>        <th class=\"col_heading level0 col1\" >clause</th>        <th class=\"col_heading level0 col2\" >verb_utf8</th>    </tr>    <tr>        <th class=\"index_name level0\" >node</th>        <th class=\"blank\" ></th>        <th class=\"blank\" ></th>        <th class=\"blank\" ></th>    </tr></thead><tbody>\n",
       "                <tr>\n",
       "                        <th id=\"T_3d1f4_level0_row0\" class=\"row_heading level0 row0\" >428156</th>\n",
       "                        <td id=\"T_3d1f4_row0_col0\" class=\"data row0 col0\" >Genesis 7:10</td>\n",
       "                        <td id=\"T_3d1f4_row0_col1\" class=\"data row0 col1\" >וַֽיְהִ֖י לְשִׁבְעַ֣ת הַיָּמִ֑ים </td>\n",
       "                        <td id=\"T_3d1f4_row0_col2\" class=\"data row0 col2\" >היה</td>\n",
       "            </tr>\n",
       "            <tr>\n",
       "                        <th id=\"T_3d1f4_level0_row1\" class=\"row_heading level0 row1\" >468896</th>\n",
       "                        <td id=\"T_3d1f4_row1_col0\" class=\"data row1 col0\" >Isaiah 10:3</td>\n",
       "                        <td id=\"T_3d1f4_row1_col1\" class=\"data row1 col1\" >וּמַֽה־תַּעֲשׂוּ֙ לְיֹ֣ום פְּקֻדָּ֔ה </td>\n",
       "                        <td id=\"T_3d1f4_row1_col2\" class=\"data row1 col2\" >עשׂה</td>\n",
       "            </tr>\n",
       "            <tr>\n",
       "                        <th id=\"T_3d1f4_level0_row2\" class=\"row_heading level0 row2\" >486026</th>\n",
       "                        <td id=\"T_3d1f4_row2_col0\" class=\"data row2 col0\" >Hosea 9:5</td>\n",
       "                        <td id=\"T_3d1f4_row2_col1\" class=\"data row2 col1\" >מַֽה־תַּעֲשׂ֖וּ לְיֹ֣ום מֹועֵ֑ד </td>\n",
       "                        <td id=\"T_3d1f4_row2_col2\" class=\"data row2 col2\" >עשׂה</td>\n",
       "            </tr>\n",
       "            <tr>\n",
       "                        <th id=\"T_3d1f4_level0_row3\" class=\"row_heading level0 row3\" >486027</th>\n",
       "                        <td id=\"T_3d1f4_row3_col0\" class=\"data row3 col0\" >Hosea 9:5</td>\n",
       "                        <td id=\"T_3d1f4_row3_col1\" class=\"data row3 col1\" >וּלְיֹ֖ום חַג־יְהוָֽה׃ </td>\n",
       "                        <td id=\"T_3d1f4_row3_col2\" class=\"data row3 col2\" >nan</td>\n",
       "            </tr>\n",
       "            <tr>\n",
       "                        <th id=\"T_3d1f4_level0_row4\" class=\"row_heading level0 row4\" >490180</th>\n",
       "                        <td id=\"T_3d1f4_row4_col0\" class=\"data row4 col0\" >Malachi 3:17</td>\n",
       "                        <td id=\"T_3d1f4_row4_col1\" class=\"data row4 col1\" >וְהָ֣יוּ לִ֗י לַיֹּ֕ום סְגֻלָּ֑ה </td>\n",
       "                        <td id=\"T_3d1f4_row4_col2\" class=\"data row4 col2\" >היה</td>\n",
       "            </tr>\n",
       "            <tr>\n",
       "                        <th id=\"T_3d1f4_level0_row5\" class=\"row_heading level0 row5\" >498980</th>\n",
       "                        <td id=\"T_3d1f4_row5_col0\" class=\"data row5 col0\" >Job 21:30</td>\n",
       "                        <td id=\"T_3d1f4_row5_col1\" class=\"data row5 col1\" >כִּ֤י לְיֹ֣ום אֵ֭יד יֵחָ֣שֶׂךְ רָ֑ע </td>\n",
       "                        <td id=\"T_3d1f4_row5_col2\" class=\"data row5 col2\" >חשׂך</td>\n",
       "            </tr>\n",
       "            <tr>\n",
       "                        <th id=\"T_3d1f4_level0_row6\" class=\"row_heading level0 row6\" >498981</th>\n",
       "                        <td id=\"T_3d1f4_row6_col0\" class=\"data row6 col0\" >Job 21:30</td>\n",
       "                        <td id=\"T_3d1f4_row6_col1\" class=\"data row6 col1\" >לְיֹ֖ום עֲבָרֹ֣ות יוּבָֽלוּ׃ </td>\n",
       "                        <td id=\"T_3d1f4_row6_col2\" class=\"data row6 col2\" >יבל</td>\n",
       "            </tr>\n",
       "            <tr>\n",
       "                        <th id=\"T_3d1f4_level0_row7\" class=\"row_heading level0 row7\" >500932</th>\n",
       "                        <td id=\"T_3d1f4_row7_col0\" class=\"data row7 col0\" >Proverbs 7:20</td>\n",
       "                        <td id=\"T_3d1f4_row7_col1\" class=\"data row7 col1\" >לְיֹ֥ום הַ֝כֵּ֗סֶא יָבֹ֥א בֵיתֹֽו׃ </td>\n",
       "                        <td id=\"T_3d1f4_row7_col2\" class=\"data row7 col2\" >בוא</td>\n",
       "            </tr>\n",
       "    </tbody></table>"
      ],
      "text/plain": [
       "<pandas.io.formats.style.Styler at 0x7fa0b46de9d0>"
      ]
     },
     "execution_count": 32,
     "metadata": {},
     "output_type": "execute_result"
    }
   ],
   "source": [
    "ts.show(\n",
    "    simul_L[simul_L.head_utf8 == 'יום']\n",
    ")"
   ]
  },
  {
   "cell_type": "markdown",
   "metadata": {},
   "source": [
    "**<L**"
   ]
  },
  {
   "cell_type": "code",
   "execution_count": 35,
   "metadata": {},
   "outputs": [
    {
     "name": "stdout",
     "output_type": "stream",
     "text": [
      "showing 2 of 2\n"
     ]
    },
    {
     "data": {
      "text/html": [
       "<style  type=\"text/css\" >\n",
       "#T_290ca_row0_col1,#T_290ca_row0_col2,#T_290ca_row1_col1,#T_290ca_row1_col2{\n",
       "            font-size: 20px;\n",
       "             font-family:  Times New Roman;\n",
       "             text-align:  right;\n",
       "             max-width:  500px;\n",
       "        }</style><table id=\"T_290ca_\" ><thead>    <tr>        <th class=\"blank level0\" ></th>        <th class=\"col_heading level0 col0\" >verse</th>        <th class=\"col_heading level0 col1\" >clause</th>        <th class=\"col_heading level0 col2\" >verb_utf8</th>    </tr>    <tr>        <th class=\"index_name level0\" >node</th>        <th class=\"blank\" ></th>        <th class=\"blank\" ></th>        <th class=\"blank\" ></th>    </tr></thead><tbody>\n",
       "                <tr>\n",
       "                        <th id=\"T_290ca_level0_row0\" class=\"row_heading level0 row0\" >457163</th>\n",
       "                        <td id=\"T_290ca_row0_col0\" class=\"data row0 col0\" >1_Samuel 25:8</td>\n",
       "                        <td id=\"T_290ca_row0_col1\" class=\"data row0 col1\" >כִּֽי־עַל־יֹ֥ום טֹ֖וב בָּ֑נוּ </td>\n",
       "                        <td id=\"T_290ca_row0_col2\" class=\"data row0 col2\" >בוא</td>\n",
       "            </tr>\n",
       "            <tr>\n",
       "                        <th id=\"T_290ca_level0_row1\" class=\"row_heading level0 row1\" >509657</th>\n",
       "                        <td id=\"T_290ca_row1_col0\" class=\"data row1 col0\" >Nehemiah 12:22</td>\n",
       "                        <td id=\"T_290ca_row1_col1\" class=\"data row1 col1\" >וְהַכֹּ֣הֲנִ֔ים עַל־מַלְכ֖וּת דָּרְיָ֥וֶשׁ הַפָּֽרְסִֽי׃ פ </td>\n",
       "                        <td id=\"T_290ca_row1_col2\" class=\"data row1 col2\" >nan</td>\n",
       "            </tr>\n",
       "    </tbody></table>"
      ],
      "text/plain": [
       "<pandas.io.formats.style.Styler at 0x7fa0b7be88b0>"
      ]
     },
     "execution_count": 35,
     "metadata": {},
     "output_type": "execute_result"
    }
   ],
   "source": [
    "ts.show(\n",
    "    simdf[simdf.front == 'על']\n",
    ")"
   ]
  },
  {
   "cell_type": "code",
   "execution_count": 36,
   "metadata": {},
   "outputs": [
    {
     "name": "stdout",
     "output_type": "stream",
     "text": [
      "showing 1 of 1\n"
     ]
    },
    {
     "data": {
      "text/html": [
       "<style  type=\"text/css\" >\n",
       "#T_c6f7e_row0_col1,#T_c6f7e_row0_col2{\n",
       "            font-size: 20px;\n",
       "             font-family:  Times New Roman;\n",
       "             text-align:  right;\n",
       "             max-width:  500px;\n",
       "        }</style><table id=\"T_c6f7e_\" ><thead>    <tr>        <th class=\"blank level0\" ></th>        <th class=\"col_heading level0 col0\" >verse</th>        <th class=\"col_heading level0 col1\" >clause</th>        <th class=\"col_heading level0 col2\" >verb_utf8</th>    </tr>    <tr>        <th class=\"index_name level0\" >node</th>        <th class=\"blank\" ></th>        <th class=\"blank\" ></th>        <th class=\"blank\" ></th>    </tr></thead><tbody>\n",
       "                <tr>\n",
       "                        <th id=\"T_c6f7e_level0_row0\" class=\"row_heading level0 row0\" >460937</th>\n",
       "                        <td id=\"T_c6f7e_row0_col0\" class=\"data row0 col0\" >2_Samuel 23:13</td>\n",
       "                        <td id=\"T_c6f7e_row0_col1\" class=\"data row0 col1\" >וַיָּבֹ֤אוּ אֶל־קָצִיר֙ אֶל־דָּוִ֔ד אֶל־מְעָרַ֖ת עֲדֻלָּ֑ם </td>\n",
       "                        <td id=\"T_c6f7e_row0_col2\" class=\"data row0 col2\" >בוא</td>\n",
       "            </tr>\n",
       "    </tbody></table>"
      ],
      "text/plain": [
       "<pandas.io.formats.style.Styler at 0x7fa0b7bf31f0>"
      ]
     },
     "execution_count": 36,
     "metadata": {},
     "output_type": "execute_result"
    }
   ],
   "source": [
    "ts.show(\n",
    "    simdf[simdf.front == 'אל']\n",
    ")"
   ]
  },
  {
   "cell_type": "code",
   "execution_count": 38,
   "metadata": {},
   "outputs": [
    {
     "name": "stdout",
     "output_type": "stream",
     "text": [
      "showing 1 of 1\n"
     ]
    },
    {
     "data": {
      "text/html": [
       "<style  type=\"text/css\" >\n",
       "#T_adef2_row0_col1,#T_adef2_row0_col2{\n",
       "            font-size: 20px;\n",
       "             font-family:  Times New Roman;\n",
       "             text-align:  right;\n",
       "             max-width:  500px;\n",
       "        }</style><table id=\"T_adef2_\" ><thead>    <tr>        <th class=\"blank level0\" ></th>        <th class=\"col_heading level0 col0\" >verse</th>        <th class=\"col_heading level0 col1\" >clause</th>        <th class=\"col_heading level0 col2\" >verb_utf8</th>    </tr>    <tr>        <th class=\"index_name level0\" >node</th>        <th class=\"blank\" ></th>        <th class=\"blank\" ></th>        <th class=\"blank\" ></th>    </tr></thead><tbody>\n",
       "                <tr>\n",
       "                        <th id=\"T_adef2_level0_row0\" class=\"row_heading level0 row0\" >472789</th>\n",
       "                        <td id=\"T_adef2_row0_col0\" class=\"data row0 col0\" >Isaiah 54:8</td>\n",
       "                        <td id=\"T_adef2_row0_col1\" class=\"data row0 col1\" >בְּשֶׁ֣צֶף קֶ֗צֶף הִסְתַּ֨רְתִּי פָנַ֥י רֶ֨גַע֙ מִמֵּ֔ךְ </td>\n",
       "                        <td id=\"T_adef2_row0_col2\" class=\"data row0 col2\" >סתר</td>\n",
       "            </tr>\n",
       "    </tbody></table>"
      ],
      "text/plain": [
       "<pandas.io.formats.style.Styler at 0x7fa0b7be8370>"
      ]
     },
     "execution_count": 38,
     "metadata": {},
     "output_type": "execute_result"
    }
   ],
   "source": [
    "ts.show(\n",
    "    simdf[simdf.front == 'רגע']\n",
    ")"
   ]
  },
  {
   "cell_type": "code",
   "execution_count": 37,
   "metadata": {},
   "outputs": [
    {
     "name": "stdout",
     "output_type": "stream",
     "text": [
      "showing 9 of 9\n"
     ]
    },
    {
     "data": {
      "text/html": [
       "<style  type=\"text/css\" >\n",
       "#T_9485b_row0_col1,#T_9485b_row0_col2,#T_9485b_row1_col1,#T_9485b_row1_col2,#T_9485b_row2_col1,#T_9485b_row2_col2,#T_9485b_row3_col1,#T_9485b_row3_col2,#T_9485b_row4_col1,#T_9485b_row4_col2,#T_9485b_row5_col1,#T_9485b_row5_col2,#T_9485b_row6_col1,#T_9485b_row6_col2,#T_9485b_row7_col1,#T_9485b_row7_col2,#T_9485b_row8_col1,#T_9485b_row8_col2{\n",
       "            font-size: 20px;\n",
       "             font-family:  Times New Roman;\n",
       "             text-align:  right;\n",
       "             max-width:  500px;\n",
       "        }</style><table id=\"T_9485b_\" ><thead>    <tr>        <th class=\"blank level0\" ></th>        <th class=\"col_heading level0 col0\" >verse</th>        <th class=\"col_heading level0 col1\" >clause</th>        <th class=\"col_heading level0 col2\" >verb_utf8</th>    </tr>    <tr>        <th class=\"index_name level0\" >node</th>        <th class=\"blank\" ></th>        <th class=\"blank\" ></th>        <th class=\"blank\" ></th>    </tr></thead><tbody>\n",
       "                <tr>\n",
       "                        <th id=\"T_9485b_level0_row0\" class=\"row_heading level0 row0\" >451807</th>\n",
       "                        <td id=\"T_9485b_row0_col0\" class=\"data row0 col0\" >Judges 6:27</td>\n",
       "                        <td id=\"T_9485b_row0_col1\" class=\"data row0 col1\" >מֵעֲשֹׂ֥ות יֹומָ֖ם </td>\n",
       "                        <td id=\"T_9485b_row0_col2\" class=\"data row0 col2\" >עשׂה</td>\n",
       "            </tr>\n",
       "            <tr>\n",
       "                        <th id=\"T_9485b_level0_row1\" class=\"row_heading level0 row1\" >451986</th>\n",
       "                        <td id=\"T_9485b_row1_col0\" class=\"data row1 col0\" >Judges 7:19</td>\n",
       "                        <td id=\"T_9485b_row1_col1\" class=\"data row1 col1\" >וַיָּבֹ֣א גִ֠דְעֹון וּמֵאָה־אִ֨ישׁ בִּקְצֵ֣ה הַֽמַּחֲנֶ֗ה רֹ֚אשׁ הָאַשְׁמֹ֣רֶת הַתִּֽיכֹונָ֔ה </td>\n",
       "                        <td id=\"T_9485b_row1_col2\" class=\"data row1 col2\" >בוא</td>\n",
       "            </tr>\n",
       "            <tr>\n",
       "                        <th id=\"T_9485b_level0_row2\" class=\"row_heading level0 row2\" >481047</th>\n",
       "                        <td id=\"T_9485b_row2_col0\" class=\"data row2 col0\" >Ezekiel 12:7</td>\n",
       "                        <td id=\"T_9485b_row2_col1\" class=\"data row2 col1\" >כֵּ֠לַי הֹוצֵ֜אתִי כִּכְלֵ֤י גֹולָה֙ יֹומָ֔ם </td>\n",
       "                        <td id=\"T_9485b_row2_col2\" class=\"data row2 col2\" >יצא</td>\n",
       "            </tr>\n",
       "            <tr>\n",
       "                        <th id=\"T_9485b_level0_row3\" class=\"row_heading level0 row3\" >491083</th>\n",
       "                        <td id=\"T_9485b_row3_col0\" class=\"data row3 col0\" >Psalms 22:3</td>\n",
       "                        <td id=\"T_9485b_row3_col1\" class=\"data row3 col1\" >אֶקְרָ֣א יֹ֖ומָם </td>\n",
       "                        <td id=\"T_9485b_row3_col2\" class=\"data row3 col2\" >קרא</td>\n",
       "            </tr>\n",
       "            <tr>\n",
       "                        <th id=\"T_9485b_level0_row4\" class=\"row_heading level0 row4\" >494828</th>\n",
       "                        <td id=\"T_9485b_row4_col0\" class=\"data row4 col0\" >Psalms 91:5</td>\n",
       "                        <td id=\"T_9485b_row4_col1\" class=\"data row4 col1\" >יָע֥וּף יֹומָֽם׃ </td>\n",
       "                        <td id=\"T_9485b_row4_col2\" class=\"data row4 col2\" >עוף</td>\n",
       "            </tr>\n",
       "            <tr>\n",
       "                        <th id=\"T_9485b_level0_row5\" class=\"row_heading level0 row5\" >496291</th>\n",
       "                        <td id=\"T_9485b_row5_col0\" class=\"data row5 col0\" >Psalms 119:62</td>\n",
       "                        <td id=\"T_9485b_row5_col1\" class=\"data row5 col1\" >חֲצֹֽות־לַ֗יְלָה אָ֭קוּם </td>\n",
       "                        <td id=\"T_9485b_row5_col2\" class=\"data row5 col2\" >קום</td>\n",
       "            </tr>\n",
       "            <tr>\n",
       "                        <th id=\"T_9485b_level0_row6\" class=\"row_heading level0 row6\" >496593</th>\n",
       "                        <td id=\"T_9485b_row6_col0\" class=\"data row6 col0\" >Psalms 121:6</td>\n",
       "                        <td id=\"T_9485b_row6_col1\" class=\"data row6 col1\" >יֹומָ֗ם הַשֶּׁ֥מֶשׁ לֹֽא־יַכֶּ֗כָּה </td>\n",
       "                        <td id=\"T_9485b_row6_col2\" class=\"data row6 col2\" >נכה</td>\n",
       "            </tr>\n",
       "            <tr>\n",
       "                        <th id=\"T_9485b_level0_row7\" class=\"row_heading level0 row7\" >498816</th>\n",
       "                        <td id=\"T_9485b_row7_col0\" class=\"data row7 col0\" >Job 19:25</td>\n",
       "                        <td id=\"T_9485b_row7_col1\" class=\"data row7 col1\" >וְ֝אַחֲרֹ֗ון עַל־עָפָ֥ר יָקֽוּם׃ </td>\n",
       "                        <td id=\"T_9485b_row7_col2\" class=\"data row7 col2\" >קום</td>\n",
       "            </tr>\n",
       "            <tr>\n",
       "                        <th id=\"T_9485b_level0_row8\" class=\"row_heading level0 row8\" >499821</th>\n",
       "                        <td id=\"T_9485b_row8_col0\" class=\"data row8 col0\" >Job 34:20</td>\n",
       "                        <td id=\"T_9485b_row8_col1\" class=\"data row8 col1\" >וַחֲצֹ֪ות לָ֥יְלָה יְגֹעֲשׁ֣וּ עָ֣ם </td>\n",
       "                        <td id=\"T_9485b_row8_col2\" class=\"data row8 col2\" >געשׁ</td>\n",
       "            </tr>\n",
       "    </tbody></table>"
      ],
      "text/plain": [
       "<pandas.io.formats.style.Styler at 0x7fa0b7bed9d0>"
      ]
     },
     "execution_count": 37,
     "metadata": {},
     "output_type": "execute_result"
    }
   ],
   "source": [
    "assorted = [\n",
    "    'יומם',\n",
    "    'אחרון',\n",
    "    'ראשׁ', \n",
    "    'חצות',\n",
    "]\n",
    "\n",
    "ts.show(\n",
    "    simdf[simdf.front.isin(assorted)]\n",
    ")"
   ]
  },
  {
   "cell_type": "markdown",
   "metadata": {},
   "source": [
    "# Text Examples"
   ]
  }
 ],
 "metadata": {
  "kernelspec": {
   "display_name": "Python 3",
   "language": "python",
   "name": "python3"
  },
  "language_info": {
   "codemirror_mode": {
    "name": "ipython",
    "version": 3
   },
   "file_extension": ".py",
   "mimetype": "text/x-python",
   "name": "python",
   "nbconvert_exporter": "python",
   "pygments_lexer": "ipython3",
   "version": "3.8.5"
  }
 },
 "nbformat": 4,
 "nbformat_minor": 4
}
