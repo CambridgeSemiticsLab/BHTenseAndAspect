{
 "cells": [
  {
   "cell_type": "markdown",
   "metadata": {},
   "source": [
    "# Semantic Function Species"
   ]
  },
  {
   "cell_type": "code",
   "execution_count": 1,
   "metadata": {},
   "outputs": [],
   "source": [
    "from scripts.imports import *\n",
    "\n",
    "out = Exporter(\n",
    "    paths['outdir'], \n",
    "    'semantics'\n",
    ")"
   ]
  },
  {
   "cell_type": "code",
   "execution_count": 2,
   "metadata": {},
   "outputs": [
    {
     "data": {
      "text/plain": [
       "Index(['verse', 'book', 'booksuper', 'canon_part', 'period', 'times_etcbc',\n",
       "       'times_utf8', 'times_utf8d', 'times_POS', 'TA Heads', 'head_utf8',\n",
       "       'funct_type', 'function', 'quality', 'name', 'text', 'n_times',\n",
       "       'lex_token', 'is_advb', 'tense', 'firstw', 'genre', 'domain', 'gendom',\n",
       "       'clause', 'sentence', 'cl_rela', 'cl_type', 'cl_kind', 'verb',\n",
       "       'verb_etcbc', 'verb_utf8', 'verb_text', 'verbform', 'verb_stem',\n",
       "       'cl_args', 'has_objc', 'has_cmpl', 'has_subj', 'has_oc',\n",
       "       'Time Position', 'cl_type2', 'cl_nsuccs', 'cl_clust50', 'cl_clust10',\n",
       "       'verbtense', 'vt_order', 'PP', 'unmodified', 'modtag', 'modtag2',\n",
       "       'front', 'ph_type', 'has_time', 'main_genre', 'APPO', 'DEF', 'ORDN',\n",
       "       'ØPP', 'GP', 'QUANT', 'PL', 'NUM', 'PARA', 'DEMON', 'demon_type',\n",
       "       'ADJV', 'TIMEAPPO', 'SPEC', 'SFX3', 'SFX', 'DU', 'SFX1', 'SFX2', 'ADVB',\n",
       "       'CARDC'],\n",
       "      dtype='object')"
      ]
     },
     "execution_count": 2,
     "metadata": {},
     "output_type": "execute_result"
    }
   ],
   "source": [
    "df.columns"
   ]
  },
  {
   "cell_type": "code",
   "execution_count": 3,
   "metadata": {},
   "outputs": [
    {
     "data": {
      "text/plain": [
       "(3648, 76)"
      ]
     },
     "execution_count": 3,
     "metadata": {},
     "output_type": "execute_result"
    }
   ],
   "source": [
    "df.shape"
   ]
  },
  {
   "cell_type": "markdown",
   "metadata": {},
   "source": [
    "# ! TODO ! : Clean these up!\n",
    "\n",
    "* Check on KL HJWM and equivalents; Haspelmath suggests that 'every' be rendered as equivalent to \"[in] every February\"; I have tagged these as habituals; i.e. habital simultaneous—maybe that is right. But I should be sure. Also, where might KL indicate a duration instead?\n",
    "* מתי look at this ehad with simul L; prob remove it\n",
    "* todo: remove 472789 as this is emotive, not a location\n",
    "* disambig one case of `atelic_ext, simultaneous` which shouldn't be there\n",
    "* disambig one case of `habitual, multi_simul`\n",
    "* change name of anterior_dist to dist_past + anterior\n",
    "* change name of distfut_ext to dist_fut + atelic_ext"
   ]
  },
  {
   "cell_type": "code",
   "execution_count": 4,
   "metadata": {},
   "outputs": [
    {
     "data": {
      "text/plain": [
       "simultaneous                                 1947\n",
       "atelic_ext                                    576\n",
       "anterior_dur                                  434\n",
       "posterior                                     225\n",
       "posterior_dur                                  66\n",
       "habitual                                       62\n",
       "begin_to_end                                   55\n",
       "purposive_ext                                  34\n",
       "simultaneous + atelic_ext                      24\n",
       "anterior_dur_past?                             21\n",
       "regular_recurrence                             18\n",
       "anterior                                       18\n",
       "multi_simuls                                   18\n",
       "anterior_dur_purposive                         15\n",
       "telic_ext                                      14\n",
       "begin_to_end_habitual                           6\n",
       "dist_posterior                                  6\n",
       "dist_fut                                        6\n",
       "simul_to_end                                    6\n",
       "habitual?                                       6\n",
       "atelic_ext?                                     5\n",
       "anterior_limitive                               5\n",
       "dur_to_end                                      5\n",
       "multi_antdur                                    4\n",
       "atelic_ext + simultaneous                       4\n",
       "anterior_limitive?                              4\n",
       "posterior + atelic_ext                          4\n",
       "regular_recurrence?                             3\n",
       "posterior_simul                                 3\n",
       "dist_prospective                                3\n",
       "dist_past                                       3\n",
       "anterior_dur + duration                         2\n",
       "purposive_ext?                                  2\n",
       "purposive                                       2\n",
       "multi_posterior_dur                             2\n",
       "purposive?                                      2\n",
       "habitual + begin_to_end                         2\n",
       "dist_fut?                                       1\n",
       "anterior + posterior                            1\n",
       "perdurative?                                    1\n",
       "simul_posts                                     1\n",
       "simul_posterior                                 1\n",
       "anterior_ext                                    1\n",
       "simultaneous + posterior                        1\n",
       "telic_ext?                                      1\n",
       "simultaneous + dist_posterior                   1\n",
       "posterior_dur + begin_to_end + atelic_ext       1\n",
       "simultaneous + multi_begin_to_end               1\n",
       "posterior, posterior_dur                        1\n",
       "posterior_dur?                                  1\n",
       "reg_recurr + atelic_ext                         1\n",
       "end_to_begin?                                   1\n",
       "anterior_dur_except                             1\n",
       "posterior_dist                                  1\n",
       "anterior_dur?                                   1\n",
       "multi_atelic_ext                                1\n",
       "simultaneous + anterior_limitive?               1\n",
       "dur_subj?                                       1\n",
       "anterior_dur + anterior                         1\n",
       "?                                               1\n",
       "atelic_ext, simultaneous                        1\n",
       "simultaneous + anterior                         1\n",
       "begin_to_end + multi_antdur                     1\n",
       "atelic_ext + habitual                           1\n",
       "dist_posterior?                                 1\n",
       "simultaneous + anterior_dist                    1\n",
       "posterior_dur_future                            1\n",
       "simultaneous + purposive_ext                    1\n",
       "anterior_dist                                   1\n",
       "habitual, multi_simul                           1\n",
       "distfut_ext                                     1\n",
       "atelic_ext + anterior + atelic_ext              1\n",
       "anterior?                                       1\n",
       "Name: function, dtype: int64"
      ]
     },
     "execution_count": 4,
     "metadata": {},
     "output_type": "execute_result"
    }
   ],
   "source": [
    "ALL_funct_cts = df.function.value_counts()\n",
    "\n",
    "ALL_funct_cts"
   ]
  },
  {
   "cell_type": "code",
   "execution_count": 5,
   "metadata": {},
   "outputs": [
    {
     "data": {
      "text/plain": [
       "'73'"
      ]
     },
     "execution_count": 5,
     "metadata": {},
     "output_type": "execute_result"
    }
   ],
   "source": [
    "out.number(\n",
    "    ALL_funct_cts.shape[0],\n",
    "    'ALL_funct_unique',\n",
    ")"
   ]
  },
  {
   "cell_type": "code",
   "execution_count": 6,
   "metadata": {},
   "outputs": [
    {
     "data": {
      "text/plain": [
       "'simultaneous; atelic\\\\_ext; anterior\\\\_dur; posterior; posterior\\\\_dur; habitual; begin\\\\_to\\\\_end; purposive\\\\_ext; simultaneous + atelic\\\\_ext; anterior\\\\_dur\\\\_past?; regular\\\\_recurrence; anterior; multi\\\\_simuls; anterior\\\\_dur\\\\_purposive; telic\\\\_ext; begin\\\\_to\\\\_end\\\\_habitual; dist\\\\_posterior; dist\\\\_fut; simul\\\\_to\\\\_end; habitual?; atelic\\\\_ext?; anterior\\\\_limitive; dur\\\\_to\\\\_end; multi\\\\_antdur; atelic\\\\_ext + simultaneous; anterior\\\\_limitive?; posterior + atelic\\\\_ext; regular\\\\_recurrence?; posterior\\\\_simul; dist\\\\_prospective; dist\\\\_past; anterior\\\\_dur + duration; purposive\\\\_ext?; purposive; multi\\\\_posterior\\\\_dur; purposive?; habitual + begin\\\\_to\\\\_end; dist\\\\_fut?; anterior + posterior; perdurative?; simul\\\\_posts; simul\\\\_posterior; anterior\\\\_ext; simultaneous + posterior; telic\\\\_ext?; simultaneous + dist\\\\_posterior; posterior\\\\_dur + begin\\\\_to\\\\_end + atelic\\\\_ext; simultaneous + multi\\\\_begin\\\\_to\\\\_end; posterior, posterior\\\\_dur; posterior\\\\_dur?; reg\\\\_recurr + atelic\\\\_ext; end\\\\_to\\\\_begin?; anterior\\\\_dur\\\\_except; posterior\\\\_dist; anterior\\\\_dur?; multi\\\\_atelic\\\\_ext; simultaneous + anterior\\\\_limitive?; dur\\\\_subj?; anterior\\\\_dur + anterior; ?; atelic\\\\_ext, simultaneous; simultaneous + anterior; begin\\\\_to\\\\_end + multi\\\\_antdur; atelic\\\\_ext + habitual; dist\\\\_posterior?; simultaneous + anterior\\\\_dist; posterior\\\\_dur\\\\_future; simultaneous + purposive\\\\_ext; anterior\\\\_dist; habitual, multi\\\\_simul; distfut\\\\_ext; atelic\\\\_ext + anterior + atelic\\\\_ext; anterior?%'"
      ]
     },
     "execution_count": 6,
     "metadata": {},
     "output_type": "execute_result"
    }
   ],
   "source": [
    "out.text(\n",
    "    '; '.join(ALL_funct_cts.index).replace('_', '\\_'),\n",
    "    'ALL_funct_tags',\n",
    ")"
   ]
  },
  {
   "cell_type": "code",
   "execution_count": 7,
   "metadata": {},
   "outputs": [
    {
     "data": {
      "text/plain": [
       "'6'"
      ]
     },
     "execution_count": 7,
     "metadata": {},
     "output_type": "execute_result"
    }
   ],
   "source": [
    "out.number(\n",
    "    ALL_funct_cts['dist_posterior'],\n",
    "    'N_dist_posterior'\n",
    ")"
   ]
  },
  {
   "cell_type": "code",
   "execution_count": 8,
   "metadata": {},
   "outputs": [
    {
     "data": {
      "text/plain": [
       "node\n",
       "457809    1_Samuel 30:12\n",
       "463357      1_Kings 15:5\n",
       "474066     Jeremiah 2:32\n",
       "492838      Psalms 55:20\n",
       "493817       Psalms 74:2\n",
       "505558       Esther 4:11\n",
       "Name: verse, dtype: object"
      ]
     },
     "execution_count": 8,
     "metadata": {},
     "output_type": "execute_result"
    }
   ],
   "source": [
    "df[df.function == 'dist_posterior']['verse']"
   ]
  },
  {
   "cell_type": "code",
   "execution_count": 60,
   "metadata": {},
   "outputs": [
    {
     "name": "stdout",
     "output_type": "stream",
     "text": [
      "showing 1 of 1\n"
     ]
    },
    {
     "data": {
      "text/html": [
       "<style  type=\"text/css\" >\n",
       "#T_0201d_row0_col1{\n",
       "            font-size: 20px;\n",
       "             font-family:  Times New Roman;\n",
       "             text-align:  right;\n",
       "             max-width:  500px;\n",
       "        }</style><table id=\"T_0201d_\" ><thead>    <tr>        <th class=\"blank level0\" ></th>        <th class=\"col_heading level0 col0\" >verse</th>        <th class=\"col_heading level0 col1\" >clause</th>        <th class=\"col_heading level0 col2\" >function</th>    </tr>    <tr>        <th class=\"index_name level0\" >node</th>        <th class=\"blank\" ></th>        <th class=\"blank\" ></th>        <th class=\"blank\" ></th>    </tr></thead><tbody>\n",
       "                <tr>\n",
       "                        <th id=\"T_0201d_level0_row0\" class=\"row_heading level0 row0\" >428448</th>\n",
       "                        <td id=\"T_0201d_row0_col0\" class=\"data row0 col0\" >Genesis 11:10</td>\n",
       "                        <td id=\"T_0201d_row0_col1\" class=\"data row0 col1\" >וַיֹּ֖ולֶד אֶת־אַרְפַּכְשָׁ֑ד שְׁנָתַ֖יִם אַחַ֥ר הַמַּבּֽוּל׃ </td>\n",
       "                        <td id=\"T_0201d_row0_col2\" class=\"data row0 col2\" >posterior_dist</td>\n",
       "            </tr>\n",
       "    </tbody></table>"
      ],
      "text/plain": [
       "<pandas.io.formats.style.Styler at 0x7ffcfd1eb3a0>"
      ]
     },
     "execution_count": 60,
     "metadata": {},
     "output_type": "execute_result"
    }
   ],
   "source": [
    "ts.show(\n",
    "    df[df.function=='posterior_dist']\n",
    ", extra=['function'])"
   ]
  },
  {
   "cell_type": "code",
   "execution_count": 65,
   "metadata": {},
   "outputs": [
    {
     "name": "stdout",
     "output_type": "stream",
     "text": [
      "showing 1 of 1\n"
     ]
    },
    {
     "data": {
      "text/html": [
       "<style  type=\"text/css\" >\n",
       "#T_2ef36_row0_col1{\n",
       "            font-size: 20px;\n",
       "             font-family:  Times New Roman;\n",
       "             text-align:  right;\n",
       "             max-width:  500px;\n",
       "        }</style><table id=\"T_2ef36_\" ><thead>    <tr>        <th class=\"blank level0\" ></th>        <th class=\"col_heading level0 col0\" >verse</th>        <th class=\"col_heading level0 col1\" >clause</th>        <th class=\"col_heading level0 col2\" >function</th>    </tr>    <tr>        <th class=\"index_name level0\" >node</th>        <th class=\"blank\" ></th>        <th class=\"blank\" ></th>        <th class=\"blank\" ></th>    </tr></thead><tbody>\n",
       "                <tr>\n",
       "                        <th id=\"T_2ef36_level0_row0\" class=\"row_heading level0 row0\" >429462</th>\n",
       "                        <td id=\"T_2ef36_row0_col0\" class=\"data row0 col0\" >Genesis 21:26</td>\n",
       "                        <td id=\"T_2ef36_row0_col1\" class=\"data row0 col1\" >וְגַ֧ם אָנֹכִ֛י לֹ֥א שָׁמַ֖עְתִּי בִּלְתִּ֥י הַיֹּֽום׃ </td>\n",
       "                        <td id=\"T_2ef36_row0_col2\" class=\"data row0 col2\" >anterior_dur_except</td>\n",
       "            </tr>\n",
       "    </tbody></table>"
      ],
      "text/plain": [
       "<pandas.io.formats.style.Styler at 0x7ffcfcfb8490>"
      ]
     },
     "execution_count": 65,
     "metadata": {},
     "output_type": "execute_result"
    }
   ],
   "source": [
    "ts.show(\n",
    "    df[df.function=='anterior_dur_except']\n",
    ", extra=['function'])"
   ]
  },
  {
   "cell_type": "markdown",
   "metadata": {},
   "source": [
    "## Count Function Types"
   ]
  },
  {
   "cell_type": "code",
   "execution_count": 10,
   "metadata": {},
   "outputs": [
    {
     "data": {
      "text/html": [
       "<div>\n",
       "<style scoped>\n",
       "    .dataframe tbody tr th:only-of-type {\n",
       "        vertical-align: middle;\n",
       "    }\n",
       "\n",
       "    .dataframe tbody tr th {\n",
       "        vertical-align: top;\n",
       "    }\n",
       "\n",
       "    .dataframe thead th {\n",
       "        text-align: right;\n",
       "    }\n",
       "</style>\n",
       "<table border=\"1\" class=\"dataframe\">\n",
       "  <thead>\n",
       "    <tr style=\"text-align: right;\">\n",
       "      <th></th>\n",
       "      <th>count</th>\n",
       "      <th>percent</th>\n",
       "    </tr>\n",
       "  </thead>\n",
       "  <tbody>\n",
       "    <tr>\n",
       "      <th>main</th>\n",
       "      <td>3351</td>\n",
       "      <td>92%</td>\n",
       "    </tr>\n",
       "    <tr>\n",
       "      <th>compound</th>\n",
       "      <td>150</td>\n",
       "      <td>4%</td>\n",
       "    </tr>\n",
       "    <tr>\n",
       "      <th>secondary</th>\n",
       "      <td>94</td>\n",
       "      <td>3%</td>\n",
       "    </tr>\n",
       "    <tr>\n",
       "      <th>ambiguous</th>\n",
       "      <td>53</td>\n",
       "      <td>1%</td>\n",
       "    </tr>\n",
       "  </tbody>\n",
       "</table>\n",
       "</div>"
      ],
      "text/plain": [
       "           count percent\n",
       "main        3351     92%\n",
       "compound     150      4%\n",
       "secondary     94      3%\n",
       "ambiguous     53      1%"
      ]
     },
     "execution_count": 10,
     "metadata": {},
     "output_type": "execute_result"
    }
   ],
   "source": [
    "functype_ct = df.funct_type.value_counts()\n",
    "functype_pr = functype_ct / functype_ct.sum()\n",
    "functype_cp = join_ct_pr(functype_ct, functype_pr)\n",
    "\n",
    "out.table(\n",
    "    functype_cp,\n",
    "    'ALL_functype_cp',\n",
    "    caption='Function Type Counts',\n",
    ")"
   ]
  },
  {
   "cell_type": "markdown",
   "metadata": {},
   "source": [
    "## Main Function Analysis"
   ]
  },
  {
   "cell_type": "code",
   "execution_count": 11,
   "metadata": {},
   "outputs": [
    {
     "data": {
      "text/plain": [
       "'3,351'"
      ]
     },
     "execution_count": 11,
     "metadata": {},
     "output_type": "execute_result"
    }
   ],
   "source": [
    "df_main = df[df.funct_type=='main']\n",
    "\n",
    "out.number(\n",
    "    df_main.shape[0],\n",
    "    'total_main_fc'\n",
    ")"
   ]
  },
  {
   "cell_type": "code",
   "execution_count": 12,
   "metadata": {},
   "outputs": [
    {
     "data": {
      "text/html": [
       "<div>\n",
       "<style scoped>\n",
       "    .dataframe tbody tr th:only-of-type {\n",
       "        vertical-align: middle;\n",
       "    }\n",
       "\n",
       "    .dataframe tbody tr th {\n",
       "        vertical-align: top;\n",
       "    }\n",
       "\n",
       "    .dataframe thead th {\n",
       "        text-align: right;\n",
       "    }\n",
       "</style>\n",
       "<table border=\"1\" class=\"dataframe\">\n",
       "  <thead>\n",
       "    <tr style=\"text-align: right;\">\n",
       "      <th></th>\n",
       "      <th>simultaneous</th>\n",
       "      <th>atelic_ext</th>\n",
       "      <th>anterior_dur</th>\n",
       "      <th>posterior</th>\n",
       "      <th>posterior_dur</th>\n",
       "      <th>habitual</th>\n",
       "      <th>anterior</th>\n",
       "      <th>telic_ext</th>\n",
       "      <th>dist_fut</th>\n",
       "      <th>dist_past</th>\n",
       "    </tr>\n",
       "  </thead>\n",
       "  <tbody>\n",
       "    <tr>\n",
       "      <th>freq.</th>\n",
       "      <td>1947</td>\n",
       "      <td>576</td>\n",
       "      <td>434</td>\n",
       "      <td>225</td>\n",
       "      <td>66</td>\n",
       "      <td>62</td>\n",
       "      <td>18</td>\n",
       "      <td>14</td>\n",
       "      <td>6</td>\n",
       "      <td>3</td>\n",
       "    </tr>\n",
       "    <tr>\n",
       "      <th>perc.</th>\n",
       "      <td>57%</td>\n",
       "      <td>17%</td>\n",
       "      <td>13%</td>\n",
       "      <td>7%</td>\n",
       "      <td>2%</td>\n",
       "      <td>2%</td>\n",
       "      <td>1%</td>\n",
       "      <td>0%</td>\n",
       "      <td>0%</td>\n",
       "      <td>0%</td>\n",
       "    </tr>\n",
       "  </tbody>\n",
       "</table>\n",
       "</div>"
      ],
      "text/plain": [
       "      simultaneous atelic_ext anterior_dur posterior posterior_dur habitual  \\\n",
       "freq.         1947        576          434       225            66       62   \n",
       "perc.          57%        17%          13%        7%            2%       2%   \n",
       "\n",
       "      anterior telic_ext dist_fut dist_past  \n",
       "freq.       18        14        6         3  \n",
       "perc.       1%        0%       0%        0%  "
      ]
     },
     "execution_count": 12,
     "metadata": {},
     "output_type": "execute_result"
    }
   ],
   "source": [
    "# get a freq count\n",
    "funct_ct = df_main.function.value_counts(ascending=False)\n",
    "funct_pr = (funct_ct / funct_ct.sum())\n",
    "funct_pr_str = (funct_pr.round(2) * 100).astype(int).astype(str) + '%'\n",
    "funct_vals = pd.concat([funct_ct, funct_pr_str], 1).T\\\n",
    "    .set_axis(['freq.', 'perc.'], 0)\\\n",
    "\n",
    "out.table(\n",
    "    funct_vals,\n",
    "    'funct_counts',\n",
    "    caption='Frequencies of Primary Time Functions',\n",
    "    adjustbox=True,\n",
    ")\n",
    "\n",
    "funct_vals"
   ]
  },
  {
   "cell_type": "code",
   "execution_count": 13,
   "metadata": {},
   "outputs": [
    {
     "data": {
      "image/png": "[encoded data removed]",
      "text/plain": [
       "<Figure size 360x360 with 1 Axes>"
      ]
     },
     "metadata": {
      "needs_background": "light"
     },
     "output_type": "display_data"
    }
   ],
   "source": [
    "fig, ax = plt.subplots(figsize=(5, 5))\n",
    "funct_pr.sort_values().mul(100).plot(kind='barh', ax=ax, edgecolor='black')\n",
    "ax.set_xlabel('percent of main functions')\n",
    "ax.grid(axis='x')\n",
    "ax.set_axisbelow(True)\n",
    "ax.set_xlim(0, 100)\n",
    "out.plot(\n",
    "    'bar_funct_perc',\n",
    ")"
   ]
  },
  {
   "cell_type": "code",
   "execution_count": 14,
   "metadata": {},
   "outputs": [
    {
     "data": {
      "text/plain": [
       "94.95672933452701"
      ]
     },
     "execution_count": 14,
     "metadata": {},
     "output_type": "execute_result"
    }
   ],
   "source": [
    "top4_perc = 100*funct_pr.loc['simultaneous':'posterior'].sum()\n",
    "out.number(\n",
    "    top4_perc,\n",
    "    'top4_perc',\n",
    ")\n",
    "\n",
    "top4_perc"
   ]
  },
  {
   "cell_type": "code",
   "execution_count": 15,
   "metadata": {},
   "outputs": [],
   "source": [
    "# export numbers for each main\n",
    "for funct in funct_vals.columns:\n",
    "    Nfunct = funct_vals[funct]['freq.']\n",
    "    Pfunct = funct_vals[funct]['perc.'].replace('%', '')\n",
    "    out.number(Nfunct, f'N_{funct}')\n",
    "    out.text(Pfunct, f'P_{funct}')"
   ]
  },
  {
   "cell_type": "markdown",
   "metadata": {},
   "source": [
    "## All Functions Phrase Type"
   ]
  },
  {
   "cell_type": "code",
   "execution_count": 16,
   "metadata": {},
   "outputs": [
    {
     "data": {
      "text/html": [
       "<div>\n",
       "<style scoped>\n",
       "    .dataframe tbody tr th:only-of-type {\n",
       "        vertical-align: middle;\n",
       "    }\n",
       "\n",
       "    .dataframe tbody tr th {\n",
       "        vertical-align: top;\n",
       "    }\n",
       "\n",
       "    .dataframe thead th {\n",
       "        text-align: right;\n",
       "    }\n",
       "</style>\n",
       "<table border=\"1\" class=\"dataframe\">\n",
       "  <thead>\n",
       "    <tr style=\"text-align: right;\">\n",
       "      <th></th>\n",
       "      <th>count</th>\n",
       "      <th>percent</th>\n",
       "    </tr>\n",
       "  </thead>\n",
       "  <tbody>\n",
       "    <tr>\n",
       "      <th>PP</th>\n",
       "      <td>2190</td>\n",
       "      <td>60%</td>\n",
       "    </tr>\n",
       "    <tr>\n",
       "      <th>NP</th>\n",
       "      <td>913</td>\n",
       "      <td>25%</td>\n",
       "    </tr>\n",
       "    <tr>\n",
       "      <th>ADVB</th>\n",
       "      <td>545</td>\n",
       "      <td>15%</td>\n",
       "    </tr>\n",
       "  </tbody>\n",
       "</table>\n",
       "</div>"
      ],
      "text/plain": [
       "      count percent\n",
       "PP     2190     60%\n",
       "NP      913     25%\n",
       "ADVB    545     15%"
      ]
     },
     "execution_count": 16,
     "metadata": {},
     "output_type": "execute_result"
    }
   ],
   "source": [
    "allf_pht_ct = df.ph_type.value_counts()\n",
    "allf_pht_pr = allf_pht_ct / allf_pht_ct.sum()\n",
    "allf_pht_cp = join_ct_pr(allf_pht_ct, allf_pht_pr)\n",
    "\n",
    "out.table(\n",
    "    allf_pht_cp,\n",
    "    'allf_pht_cp',\n",
    "    caption='Phrase Type Counts for All Functions',\n",
    ")"
   ]
  },
  {
   "cell_type": "code",
   "execution_count": 17,
   "metadata": {},
   "outputs": [
    {
     "data": {
      "image/png": "[encoded data removed]",
      "text/plain": [
       "<Figure size 432x288 with 1 Axes>"
      ]
     },
     "metadata": {
      "needs_background": "light"
     },
     "output_type": "display_data"
    }
   ],
   "source": [
    "fig, ax = plt.subplots()\n",
    "allf_pht_pr.mul(100).plot(kind='bar', edgecolor='black')\n",
    "ax.set_ylabel('percent')\n",
    "ax.set_ylim((0,100))\n",
    "ax.set_xticklabels(ax.get_xticklabels(), rotation=0)\n",
    "ax.grid(axis='y')\n",
    "ax.set_axisbelow(True)\n",
    "out.plot(\n",
    "    'bar_allfptype_pc',\n",
    ")"
   ]
  },
  {
   "cell_type": "markdown",
   "metadata": {},
   "source": [
    "## Phrase Type Associations by Function"
   ]
  },
  {
   "cell_type": "code",
   "execution_count": 18,
   "metadata": {},
   "outputs": [
    {
     "data": {
      "text/html": [
       "<div>\n",
       "<style scoped>\n",
       "    .dataframe tbody tr th:only-of-type {\n",
       "        vertical-align: middle;\n",
       "    }\n",
       "\n",
       "    .dataframe tbody tr th {\n",
       "        vertical-align: top;\n",
       "    }\n",
       "\n",
       "    .dataframe thead th {\n",
       "        text-align: right;\n",
       "    }\n",
       "</style>\n",
       "<table border=\"1\" class=\"dataframe\">\n",
       "  <thead>\n",
       "    <tr style=\"text-align: right;\">\n",
       "      <th>ph_type</th>\n",
       "      <th>PP</th>\n",
       "      <th>NP</th>\n",
       "      <th>ADVB</th>\n",
       "    </tr>\n",
       "    <tr>\n",
       "      <th>function</th>\n",
       "      <th></th>\n",
       "      <th></th>\n",
       "      <th></th>\n",
       "    </tr>\n",
       "  </thead>\n",
       "  <tbody>\n",
       "    <tr>\n",
       "      <th>simultaneous</th>\n",
       "      <td>1196</td>\n",
       "      <td>293</td>\n",
       "      <td>458</td>\n",
       "    </tr>\n",
       "    <tr>\n",
       "      <th>atelic_ext</th>\n",
       "      <td>9</td>\n",
       "      <td>521</td>\n",
       "      <td>46</td>\n",
       "    </tr>\n",
       "    <tr>\n",
       "      <th>anterior_dur</th>\n",
       "      <td>434</td>\n",
       "      <td>0</td>\n",
       "      <td>0</td>\n",
       "    </tr>\n",
       "    <tr>\n",
       "      <th>posterior</th>\n",
       "      <td>191</td>\n",
       "      <td>0</td>\n",
       "      <td>34</td>\n",
       "    </tr>\n",
       "    <tr>\n",
       "      <th>posterior_dur</th>\n",
       "      <td>66</td>\n",
       "      <td>0</td>\n",
       "      <td>0</td>\n",
       "    </tr>\n",
       "    <tr>\n",
       "      <th>habitual</th>\n",
       "      <td>42</td>\n",
       "      <td>20</td>\n",
       "      <td>0</td>\n",
       "    </tr>\n",
       "    <tr>\n",
       "      <th>anterior</th>\n",
       "      <td>14</td>\n",
       "      <td>0</td>\n",
       "      <td>4</td>\n",
       "    </tr>\n",
       "    <tr>\n",
       "      <th>telic_ext</th>\n",
       "      <td>8</td>\n",
       "      <td>6</td>\n",
       "      <td>0</td>\n",
       "    </tr>\n",
       "    <tr>\n",
       "      <th>dist_fut</th>\n",
       "      <td>6</td>\n",
       "      <td>0</td>\n",
       "      <td>0</td>\n",
       "    </tr>\n",
       "    <tr>\n",
       "      <th>dist_past</th>\n",
       "      <td>0</td>\n",
       "      <td>3</td>\n",
       "      <td>0</td>\n",
       "    </tr>\n",
       "  </tbody>\n",
       "</table>\n",
       "</div>"
      ],
      "text/plain": [
       "ph_type          PP   NP  ADVB\n",
       "function                      \n",
       "simultaneous   1196  293   458\n",
       "atelic_ext        9  521    46\n",
       "anterior_dur    434    0     0\n",
       "posterior       191    0    34\n",
       "posterior_dur    66    0     0\n",
       "habitual         42   20     0\n",
       "anterior         14    0     4\n",
       "telic_ext         8    6     0\n",
       "dist_fut          6    0     0\n",
       "dist_past         0    3     0"
      ]
     },
     "execution_count": 18,
     "metadata": {},
     "output_type": "execute_result"
    }
   ],
   "source": [
    "funcpt_ct = pivot_ct(\n",
    "    df_main,\n",
    "    'function',\n",
    "    'ph_type',\n",
    ")\n",
    "\n",
    "funcpt_pr = funcpt_ct.div(funcpt_ct.sum(1),0)\n",
    "\n",
    "out.table(\n",
    "    funcpt_ct,\n",
    "    'funcpt_ct',\n",
    "    caption='Phrase Type Counts by Function'\n",
    ")"
   ]
  },
  {
   "cell_type": "code",
   "execution_count": 19,
   "metadata": {},
   "outputs": [
    {
     "data": {
      "text/html": [
       "<div>\n",
       "<style scoped>\n",
       "    .dataframe tbody tr th:only-of-type {\n",
       "        vertical-align: middle;\n",
       "    }\n",
       "\n",
       "    .dataframe tbody tr th {\n",
       "        vertical-align: top;\n",
       "    }\n",
       "\n",
       "    .dataframe thead th {\n",
       "        text-align: right;\n",
       "    }\n",
       "</style>\n",
       "<table border=\"1\" class=\"dataframe\">\n",
       "  <thead>\n",
       "    <tr style=\"text-align: right;\">\n",
       "      <th>ph_type</th>\n",
       "      <th>PP</th>\n",
       "      <th>NP</th>\n",
       "      <th>ADVB</th>\n",
       "    </tr>\n",
       "    <tr>\n",
       "      <th>function</th>\n",
       "      <th></th>\n",
       "      <th></th>\n",
       "      <th></th>\n",
       "    </tr>\n",
       "  </thead>\n",
       "  <tbody>\n",
       "    <tr>\n",
       "      <th>simultaneous</th>\n",
       "      <td>61%</td>\n",
       "      <td>15%</td>\n",
       "      <td>24%</td>\n",
       "    </tr>\n",
       "    <tr>\n",
       "      <th>atelic_ext</th>\n",
       "      <td>2%</td>\n",
       "      <td>90%</td>\n",
       "      <td>8%</td>\n",
       "    </tr>\n",
       "    <tr>\n",
       "      <th>anterior_dur</th>\n",
       "      <td>100%</td>\n",
       "      <td>0%</td>\n",
       "      <td>0%</td>\n",
       "    </tr>\n",
       "    <tr>\n",
       "      <th>posterior</th>\n",
       "      <td>85%</td>\n",
       "      <td>0%</td>\n",
       "      <td>15%</td>\n",
       "    </tr>\n",
       "    <tr>\n",
       "      <th>posterior_dur</th>\n",
       "      <td>100%</td>\n",
       "      <td>0%</td>\n",
       "      <td>0%</td>\n",
       "    </tr>\n",
       "    <tr>\n",
       "      <th>habitual</th>\n",
       "      <td>68%</td>\n",
       "      <td>32%</td>\n",
       "      <td>0%</td>\n",
       "    </tr>\n",
       "    <tr>\n",
       "      <th>anterior</th>\n",
       "      <td>78%</td>\n",
       "      <td>0%</td>\n",
       "      <td>22%</td>\n",
       "    </tr>\n",
       "    <tr>\n",
       "      <th>telic_ext</th>\n",
       "      <td>57%</td>\n",
       "      <td>43%</td>\n",
       "      <td>0%</td>\n",
       "    </tr>\n",
       "    <tr>\n",
       "      <th>dist_fut</th>\n",
       "      <td>100%</td>\n",
       "      <td>0%</td>\n",
       "      <td>0%</td>\n",
       "    </tr>\n",
       "    <tr>\n",
       "      <th>dist_past</th>\n",
       "      <td>0%</td>\n",
       "      <td>100%</td>\n",
       "      <td>0%</td>\n",
       "    </tr>\n",
       "  </tbody>\n",
       "</table>\n",
       "</div>"
      ],
      "text/plain": [
       "ph_type          PP    NP ADVB\n",
       "function                      \n",
       "simultaneous    61%   15%  24%\n",
       "atelic_ext       2%   90%   8%\n",
       "anterior_dur   100%    0%   0%\n",
       "posterior       85%    0%  15%\n",
       "posterior_dur  100%    0%   0%\n",
       "habitual        68%   32%   0%\n",
       "anterior        78%    0%  22%\n",
       "telic_ext       57%   43%   0%\n",
       "dist_fut       100%    0%   0%\n",
       "dist_past        0%  100%   0%"
      ]
     },
     "execution_count": 19,
     "metadata": {},
     "output_type": "execute_result"
    }
   ],
   "source": [
    "out.table(\n",
    "    funcpt_pr.mul(100).round().astype(int).astype(str)+'%',\n",
    "    'funcpt_pr',\n",
    "    caption='Phrase Type Percentages by Function'\n",
    ")"
   ]
  },
  {
   "cell_type": "code",
   "execution_count": 20,
   "metadata": {},
   "outputs": [],
   "source": [
    "funcpt_dp = sig.apply_deltaP(funcpt_ct, 0, 1)"
   ]
  },
  {
   "cell_type": "code",
   "execution_count": 21,
   "metadata": {},
   "outputs": [
    {
     "data": {
      "image/png": "[encoded data removed]",
      "text/plain": [
       "<Figure size 360x360 with 2 Axes>"
      ]
     },
     "metadata": {
      "needs_background": "light"
     },
     "output_type": "display_data"
    }
   ],
   "source": [
    "fig,ax = plt.subplots(figsize=(5,5))\n",
    "heatmap(funcpt_dp, ax=ax, annot=True, square=False)\n",
    "ax.set_xlabel('phrase type')\n",
    "\n",
    "out.plot(\n",
    "    'heat_funcphtype',\n",
    ")"
   ]
  },
  {
   "cell_type": "markdown",
   "metadata": {},
   "source": [
    "## Main Function Modifiers"
   ]
  },
  {
   "cell_type": "code",
   "execution_count": 22,
   "metadata": {},
   "outputs": [
    {
     "data": {
      "text/html": [
       "<div>\n",
       "<style scoped>\n",
       "    .dataframe tbody tr th:only-of-type {\n",
       "        vertical-align: middle;\n",
       "    }\n",
       "\n",
       "    .dataframe tbody tr th {\n",
       "        vertical-align: top;\n",
       "    }\n",
       "\n",
       "    .dataframe thead th {\n",
       "        text-align: right;\n",
       "    }\n",
       "</style>\n",
       "<table border=\"1\" class=\"dataframe\">\n",
       "  <thead>\n",
       "    <tr style=\"text-align: right;\">\n",
       "      <th>modtag</th>\n",
       "      <th>DEF</th>\n",
       "      <th>DEMON</th>\n",
       "      <th>C</th>\n",
       "      <th>NUM+PL</th>\n",
       "      <th>NUM</th>\n",
       "      <th>ORDN</th>\n",
       "      <th>PL+SFX</th>\n",
       "      <th>PL+C</th>\n",
       "      <th>PL+DEMON</th>\n",
       "      <th>KL+DEF</th>\n",
       "    </tr>\n",
       "    <tr>\n",
       "      <th>function</th>\n",
       "      <th></th>\n",
       "      <th></th>\n",
       "      <th></th>\n",
       "      <th></th>\n",
       "      <th></th>\n",
       "      <th></th>\n",
       "      <th></th>\n",
       "      <th></th>\n",
       "      <th></th>\n",
       "      <th></th>\n",
       "    </tr>\n",
       "  </thead>\n",
       "  <tbody>\n",
       "    <tr>\n",
       "      <th>simultaneous</th>\n",
       "      <td>438</td>\n",
       "      <td>353</td>\n",
       "      <td>219</td>\n",
       "      <td>2</td>\n",
       "      <td>38</td>\n",
       "      <td>173</td>\n",
       "      <td>29</td>\n",
       "      <td>45</td>\n",
       "      <td>41</td>\n",
       "      <td>0</td>\n",
       "    </tr>\n",
       "    <tr>\n",
       "      <th>atelic_ext</th>\n",
       "      <td>2</td>\n",
       "      <td>0</td>\n",
       "      <td>6</td>\n",
       "      <td>162</td>\n",
       "      <td>117</td>\n",
       "      <td>0</td>\n",
       "      <td>0</td>\n",
       "      <td>2</td>\n",
       "      <td>1</td>\n",
       "      <td>55</td>\n",
       "    </tr>\n",
       "    <tr>\n",
       "      <th>anterior_dur</th>\n",
       "      <td>61</td>\n",
       "      <td>60</td>\n",
       "      <td>24</td>\n",
       "      <td>0</td>\n",
       "      <td>4</td>\n",
       "      <td>3</td>\n",
       "      <td>0</td>\n",
       "      <td>4</td>\n",
       "      <td>2</td>\n",
       "      <td>0</td>\n",
       "    </tr>\n",
       "    <tr>\n",
       "      <th>posterior</th>\n",
       "      <td>5</td>\n",
       "      <td>1</td>\n",
       "      <td>15</td>\n",
       "      <td>15</td>\n",
       "      <td>9</td>\n",
       "      <td>0</td>\n",
       "      <td>34</td>\n",
       "      <td>1</td>\n",
       "      <td>12</td>\n",
       "      <td>0</td>\n",
       "    </tr>\n",
       "    <tr>\n",
       "      <th>habitual</th>\n",
       "      <td>23</td>\n",
       "      <td>0</td>\n",
       "      <td>3</td>\n",
       "      <td>2</td>\n",
       "      <td>1</td>\n",
       "      <td>0</td>\n",
       "      <td>0</td>\n",
       "      <td>0</td>\n",
       "      <td>0</td>\n",
       "      <td>0</td>\n",
       "    </tr>\n",
       "    <tr>\n",
       "      <th>posterior_dur</th>\n",
       "      <td>3</td>\n",
       "      <td>3</td>\n",
       "      <td>0</td>\n",
       "      <td>0</td>\n",
       "      <td>1</td>\n",
       "      <td>1</td>\n",
       "      <td>5</td>\n",
       "      <td>10</td>\n",
       "      <td>0</td>\n",
       "      <td>0</td>\n",
       "    </tr>\n",
       "    <tr>\n",
       "      <th>telic_ext</th>\n",
       "      <td>0</td>\n",
       "      <td>0</td>\n",
       "      <td>0</td>\n",
       "      <td>2</td>\n",
       "      <td>10</td>\n",
       "      <td>0</td>\n",
       "      <td>0</td>\n",
       "      <td>0</td>\n",
       "      <td>0</td>\n",
       "      <td>0</td>\n",
       "    </tr>\n",
       "    <tr>\n",
       "      <th>anterior</th>\n",
       "      <td>1</td>\n",
       "      <td>0</td>\n",
       "      <td>0</td>\n",
       "      <td>0</td>\n",
       "      <td>0</td>\n",
       "      <td>0</td>\n",
       "      <td>5</td>\n",
       "      <td>0</td>\n",
       "      <td>1</td>\n",
       "      <td>0</td>\n",
       "    </tr>\n",
       "    <tr>\n",
       "      <th>dist_fut</th>\n",
       "      <td>0</td>\n",
       "      <td>0</td>\n",
       "      <td>0</td>\n",
       "      <td>5</td>\n",
       "      <td>1</td>\n",
       "      <td>0</td>\n",
       "      <td>0</td>\n",
       "      <td>0</td>\n",
       "      <td>0</td>\n",
       "      <td>0</td>\n",
       "    </tr>\n",
       "  </tbody>\n",
       "</table>\n",
       "</div>"
      ],
      "text/plain": [
       "modtag         DEF  DEMON    C  NUM+PL  NUM  ORDN  PL+SFX  PL+C  PL+DEMON  \\\n",
       "function                                                                    \n",
       "simultaneous   438    353  219       2   38   173      29    45        41   \n",
       "atelic_ext       2      0    6     162  117     0       0     2         1   \n",
       "anterior_dur    61     60   24       0    4     3       0     4         2   \n",
       "posterior        5      1   15      15    9     0      34     1        12   \n",
       "habitual        23      0    3       2    1     0       0     0         0   \n",
       "posterior_dur    3      3    0       0    1     1       5    10         0   \n",
       "telic_ext        0      0    0       2   10     0       0     0         0   \n",
       "anterior         1      0    0       0    0     0       5     0         1   \n",
       "dist_fut         0      0    0       5    1     0       0     0         0   \n",
       "\n",
       "modtag         KL+DEF  \n",
       "function               \n",
       "simultaneous        0  \n",
       "atelic_ext         55  \n",
       "anterior_dur        0  \n",
       "posterior           0  \n",
       "habitual            0  \n",
       "posterior_dur       0  \n",
       "telic_ext           0  \n",
       "anterior            0  \n",
       "dist_fut            0  "
      ]
     },
     "execution_count": 22,
     "metadata": {},
     "output_type": "execute_result"
    }
   ],
   "source": [
    "afmod_ct = pivot_ct(\n",
    "    df_main,\n",
    "    'function',\n",
    "    'modtag',\n",
    ")\n",
    "\n",
    "afmod_ct = afmod_ct.loc[:, afmod_ct.sum() > 10]\n",
    "\n",
    "out.table(\n",
    "    afmod_ct.iloc[:,:10],\n",
    "    'afmod_ct',\n",
    "    caption='Top Ten Modifier Counts by Function',\n",
    "    adjustbox=True,\n",
    ")"
   ]
  },
  {
   "cell_type": "code",
   "execution_count": 23,
   "metadata": {},
   "outputs": [
    {
     "data": {
      "text/html": [
       "<div>\n",
       "<style scoped>\n",
       "    .dataframe tbody tr th:only-of-type {\n",
       "        vertical-align: middle;\n",
       "    }\n",
       "\n",
       "    .dataframe tbody tr th {\n",
       "        vertical-align: top;\n",
       "    }\n",
       "\n",
       "    .dataframe thead th {\n",
       "        text-align: right;\n",
       "    }\n",
       "</style>\n",
       "<table border=\"1\" class=\"dataframe\">\n",
       "  <thead>\n",
       "    <tr style=\"text-align: right;\">\n",
       "      <th>modtag</th>\n",
       "      <th>DEF</th>\n",
       "      <th>DEMON</th>\n",
       "      <th>C</th>\n",
       "      <th>NUM+PL</th>\n",
       "      <th>NUM</th>\n",
       "      <th>ORDN</th>\n",
       "      <th>PL+SFX</th>\n",
       "      <th>PL+C</th>\n",
       "      <th>PL+DEMON</th>\n",
       "      <th>KL+DEF</th>\n",
       "    </tr>\n",
       "    <tr>\n",
       "      <th>function</th>\n",
       "      <th></th>\n",
       "      <th></th>\n",
       "      <th></th>\n",
       "      <th></th>\n",
       "      <th></th>\n",
       "      <th></th>\n",
       "      <th></th>\n",
       "      <th></th>\n",
       "      <th></th>\n",
       "      <th></th>\n",
       "    </tr>\n",
       "  </thead>\n",
       "  <tbody>\n",
       "    <tr>\n",
       "      <th>simultaneous</th>\n",
       "      <td>31%</td>\n",
       "      <td>25%</td>\n",
       "      <td>16%</td>\n",
       "      <td>0%</td>\n",
       "      <td>3%</td>\n",
       "      <td>12%</td>\n",
       "      <td>2%</td>\n",
       "      <td>3%</td>\n",
       "      <td>3%</td>\n",
       "      <td>0%</td>\n",
       "    </tr>\n",
       "    <tr>\n",
       "      <th>atelic_ext</th>\n",
       "      <td>0%</td>\n",
       "      <td>0%</td>\n",
       "      <td>1%</td>\n",
       "      <td>35%</td>\n",
       "      <td>25%</td>\n",
       "      <td>0%</td>\n",
       "      <td>0%</td>\n",
       "      <td>0%</td>\n",
       "      <td>0%</td>\n",
       "      <td>12%</td>\n",
       "    </tr>\n",
       "    <tr>\n",
       "      <th>anterior_dur</th>\n",
       "      <td>38%</td>\n",
       "      <td>38%</td>\n",
       "      <td>15%</td>\n",
       "      <td>0%</td>\n",
       "      <td>2%</td>\n",
       "      <td>2%</td>\n",
       "      <td>0%</td>\n",
       "      <td>2%</td>\n",
       "      <td>1%</td>\n",
       "      <td>0%</td>\n",
       "    </tr>\n",
       "    <tr>\n",
       "      <th>posterior</th>\n",
       "      <td>5%</td>\n",
       "      <td>1%</td>\n",
       "      <td>14%</td>\n",
       "      <td>14%</td>\n",
       "      <td>8%</td>\n",
       "      <td>0%</td>\n",
       "      <td>32%</td>\n",
       "      <td>1%</td>\n",
       "      <td>11%</td>\n",
       "      <td>0%</td>\n",
       "    </tr>\n",
       "    <tr>\n",
       "      <th>habitual</th>\n",
       "      <td>53%</td>\n",
       "      <td>0%</td>\n",
       "      <td>7%</td>\n",
       "      <td>5%</td>\n",
       "      <td>2%</td>\n",
       "      <td>0%</td>\n",
       "      <td>0%</td>\n",
       "      <td>0%</td>\n",
       "      <td>0%</td>\n",
       "      <td>0%</td>\n",
       "    </tr>\n",
       "    <tr>\n",
       "      <th>posterior_dur</th>\n",
       "      <td>12%</td>\n",
       "      <td>12%</td>\n",
       "      <td>0%</td>\n",
       "      <td>0%</td>\n",
       "      <td>4%</td>\n",
       "      <td>4%</td>\n",
       "      <td>21%</td>\n",
       "      <td>42%</td>\n",
       "      <td>0%</td>\n",
       "      <td>0%</td>\n",
       "    </tr>\n",
       "    <tr>\n",
       "      <th>telic_ext</th>\n",
       "      <td>0%</td>\n",
       "      <td>0%</td>\n",
       "      <td>0%</td>\n",
       "      <td>17%</td>\n",
       "      <td>83%</td>\n",
       "      <td>0%</td>\n",
       "      <td>0%</td>\n",
       "      <td>0%</td>\n",
       "      <td>0%</td>\n",
       "      <td>0%</td>\n",
       "    </tr>\n",
       "    <tr>\n",
       "      <th>anterior</th>\n",
       "      <td>9%</td>\n",
       "      <td>0%</td>\n",
       "      <td>0%</td>\n",
       "      <td>0%</td>\n",
       "      <td>0%</td>\n",
       "      <td>0%</td>\n",
       "      <td>45%</td>\n",
       "      <td>0%</td>\n",
       "      <td>9%</td>\n",
       "      <td>0%</td>\n",
       "    </tr>\n",
       "    <tr>\n",
       "      <th>dist_fut</th>\n",
       "      <td>0%</td>\n",
       "      <td>0%</td>\n",
       "      <td>0%</td>\n",
       "      <td>83%</td>\n",
       "      <td>17%</td>\n",
       "      <td>0%</td>\n",
       "      <td>0%</td>\n",
       "      <td>0%</td>\n",
       "      <td>0%</td>\n",
       "      <td>0%</td>\n",
       "    </tr>\n",
       "  </tbody>\n",
       "</table>\n",
       "</div>"
      ],
      "text/plain": [
       "modtag         DEF DEMON    C NUM+PL  NUM ORDN PL+SFX PL+C PL+DEMON KL+DEF\n",
       "function                                                                  \n",
       "simultaneous   31%   25%  16%     0%   3%  12%     2%   3%       3%     0%\n",
       "atelic_ext      0%    0%   1%    35%  25%   0%     0%   0%       0%    12%\n",
       "anterior_dur   38%   38%  15%     0%   2%   2%     0%   2%       1%     0%\n",
       "posterior       5%    1%  14%    14%   8%   0%    32%   1%      11%     0%\n",
       "habitual       53%    0%   7%     5%   2%   0%     0%   0%       0%     0%\n",
       "posterior_dur  12%   12%   0%     0%   4%   4%    21%  42%       0%     0%\n",
       "telic_ext       0%    0%   0%    17%  83%   0%     0%   0%       0%     0%\n",
       "anterior        9%    0%   0%     0%   0%   0%    45%   0%       9%     0%\n",
       "dist_fut        0%    0%   0%    83%  17%   0%     0%   0%       0%     0%"
      ]
     },
     "execution_count": 23,
     "metadata": {},
     "output_type": "execute_result"
    }
   ],
   "source": [
    "afmod_pr = afmod_ct.div(afmod_ct.sum(1), 0)\n",
    "afmod_pc = afmod_pr.mul(100).round().astype(int).astype(str)+'%'\n",
    "\n",
    "out.table(\n",
    "    afmod_pc.iloc[:,:10],\n",
    "    'afmod_pc',\n",
    "    caption='Modifier Percent of Function (Top Ten)',\n",
    "    adjustbox=True\n",
    ")"
   ]
  },
  {
   "cell_type": "code",
   "execution_count": 24,
   "metadata": {},
   "outputs": [],
   "source": [
    "afmod_dp = sig.apply_deltaP(afmod_ct, 0, 1)"
   ]
  },
  {
   "cell_type": "code",
   "execution_count": 25,
   "metadata": {},
   "outputs": [
    {
     "data": {
      "image/png": "[encoded data removed]",
      "text/plain": [
       "<Figure size 864x432 with 2 Axes>"
      ]
     },
     "metadata": {
      "needs_background": "light"
     },
     "output_type": "display_data"
    }
   ],
   "source": [
    "fig, ax = plt.subplots(figsize=(12, 6))\n",
    "heatmap(afmod_dp.round(2), square=False, ax=ax, annot=True)\n",
    "ax.set_xticklabels(ax.get_xticklabels(), rotation=60)\n",
    "ax.set_yticklabels(ax.get_yticklabels(), size=12)\n",
    "ax.set_ylabel('function', size=12)\n",
    "ax.set_xlabel('modifier', size=12)\n",
    "\n",
    "out.plot(\n",
    "    'heat_afmod_dp',\n",
    ")"
   ]
  },
  {
   "cell_type": "markdown",
   "metadata": {},
   "source": [
    "# Export All Fronts"
   ]
  },
  {
   "cell_type": "code",
   "execution_count": 54,
   "metadata": {},
   "outputs": [
    {
     "name": "stdout",
     "output_type": "stream",
     "text": [
      "simultaneous\n"
     ]
    },
    {
     "data": {
      "text/html": [
       "<div>\n",
       "<style scoped>\n",
       "    .dataframe tbody tr th:only-of-type {\n",
       "        vertical-align: middle;\n",
       "    }\n",
       "\n",
       "    .dataframe tbody tr th {\n",
       "        vertical-align: top;\n",
       "    }\n",
       "\n",
       "    .dataframe thead th {\n",
       "        text-align: right;\n",
       "    }\n",
       "</style>\n",
       "<table border=\"1\" class=\"dataframe\">\n",
       "  <thead>\n",
       "    <tr style=\"text-align: right;\">\n",
       "      <th></th>\n",
       "      <th>count</th>\n",
       "      <th>percent</th>\n",
       "    </tr>\n",
       "  </thead>\n",
       "  <tbody>\n",
       "    <tr>\n",
       "      <th>\\texthebrew{ב}</th>\n",
       "      <td>1081</td>\n",
       "      <td>56%</td>\n",
       "    </tr>\n",
       "    <tr>\n",
       "      <th>\\texthebrew{עתה}</th>\n",
       "      <td>349</td>\n",
       "      <td>18%</td>\n",
       "    </tr>\n",
       "    <tr>\n",
       "      <th>\\texthebrew{Ø}</th>\n",
       "      <td>293</td>\n",
       "      <td>15%</td>\n",
       "    </tr>\n",
       "    <tr>\n",
       "      <th>\\texthebrew{אז}</th>\n",
       "      <td>64</td>\n",
       "      <td>3%</td>\n",
       "    </tr>\n",
       "    <tr>\n",
       "      <th>\\texthebrew{ל}</th>\n",
       "      <td>42</td>\n",
       "      <td>2%</td>\n",
       "    </tr>\n",
       "    <tr>\n",
       "      <th>\\texthebrew{כ}</th>\n",
       "      <td>35</td>\n",
       "      <td>2%</td>\n",
       "    </tr>\n",
       "    <tr>\n",
       "      <th>\\texthebrew{מחר}</th>\n",
       "      <td>32</td>\n",
       "      <td>2%</td>\n",
       "    </tr>\n",
       "    <tr>\n",
       "      <th>\\texthebrew{ב+אחרית}</th>\n",
       "      <td>15</td>\n",
       "      <td>1%</td>\n",
       "    </tr>\n",
       "    <tr>\n",
       "      <th>\\texthebrew{בין}</th>\n",
       "      <td>7</td>\n",
       "      <td>0%</td>\n",
       "    </tr>\n",
       "    <tr>\n",
       "      <th>\\texthebrew{ל+קץ}</th>\n",
       "      <td>5</td>\n",
       "      <td>0%</td>\n",
       "    </tr>\n",
       "    <tr>\n",
       "      <th>\\texthebrew{יומם}</th>\n",
       "      <td>5</td>\n",
       "      <td>0%</td>\n",
       "    </tr>\n",
       "    <tr>\n",
       "      <th>\\texthebrew{אמשׁ}</th>\n",
       "      <td>4</td>\n",
       "      <td>0%</td>\n",
       "    </tr>\n",
       "    <tr>\n",
       "      <th>\\texthebrew{חצות}</th>\n",
       "      <td>2</td>\n",
       "      <td>0%</td>\n",
       "    </tr>\n",
       "    <tr>\n",
       "      <th>\\texthebrew{על}</th>\n",
       "      <td>2</td>\n",
       "      <td>0%</td>\n",
       "    </tr>\n",
       "    <tr>\n",
       "      <th>\\texthebrew{רגע}</th>\n",
       "      <td>1</td>\n",
       "      <td>0%</td>\n",
       "    </tr>\n",
       "    <tr>\n",
       "      <th>\\texthebrew{כ+חצות}</th>\n",
       "      <td>1</td>\n",
       "      <td>0%</td>\n",
       "    </tr>\n",
       "    <tr>\n",
       "      <th>\\texthebrew{ראשׁ}</th>\n",
       "      <td>1</td>\n",
       "      <td>0%</td>\n",
       "    </tr>\n",
       "    <tr>\n",
       "      <th>\\texthebrew{אחרון}</th>\n",
       "      <td>1</td>\n",
       "      <td>0%</td>\n",
       "    </tr>\n",
       "    <tr>\n",
       "      <th>\\texthebrew{ב+תחלה}</th>\n",
       "      <td>1</td>\n",
       "      <td>0%</td>\n",
       "    </tr>\n",
       "    <tr>\n",
       "      <th>\\texthebrew{אתמול}</th>\n",
       "      <td>1</td>\n",
       "      <td>0%</td>\n",
       "    </tr>\n",
       "    <tr>\n",
       "      <th>\\texthebrew{כ+מן}</th>\n",
       "      <td>1</td>\n",
       "      <td>0%</td>\n",
       "    </tr>\n",
       "    <tr>\n",
       "      <th>\\texthebrew{ב+תוך}</th>\n",
       "      <td>1</td>\n",
       "      <td>0%</td>\n",
       "    </tr>\n",
       "    <tr>\n",
       "      <th>\\texthebrew{ב+ראשׁ}</th>\n",
       "      <td>1</td>\n",
       "      <td>0%</td>\n",
       "    </tr>\n",
       "    <tr>\n",
       "      <th>\\texthebrew{תמול}</th>\n",
       "      <td>1</td>\n",
       "      <td>0%</td>\n",
       "    </tr>\n",
       "    <tr>\n",
       "      <th>\\texthebrew{אל}</th>\n",
       "      <td>1</td>\n",
       "      <td>0%</td>\n",
       "    </tr>\n",
       "  </tbody>\n",
       "</table>\n",
       "</div>"
      ],
      "text/plain": [
       "                      count percent\n",
       "\\texthebrew{ב}         1081     56%\n",
       "\\texthebrew{עתה}        349     18%\n",
       "\\texthebrew{Ø}          293     15%\n",
       "\\texthebrew{אז}          64      3%\n",
       "\\texthebrew{ל}           42      2%\n",
       "\\texthebrew{כ}           35      2%\n",
       "\\texthebrew{מחר}         32      2%\n",
       "\\texthebrew{ב+אחרית}     15      1%\n",
       "\\texthebrew{בין}          7      0%\n",
       "\\texthebrew{ל+קץ}         5      0%\n",
       "\\texthebrew{יומם}         5      0%\n",
       "\\texthebrew{אמשׁ}         4      0%\n",
       "\\texthebrew{חצות}         2      0%\n",
       "\\texthebrew{על}           2      0%\n",
       "\\texthebrew{רגע}          1      0%\n",
       "\\texthebrew{כ+חצות}       1      0%\n",
       "\\texthebrew{ראשׁ}         1      0%\n",
       "\\texthebrew{אחרון}        1      0%\n",
       "\\texthebrew{ב+תחלה}       1      0%\n",
       "\\texthebrew{אתמול}        1      0%\n",
       "\\texthebrew{כ+מן}         1      0%\n",
       "\\texthebrew{ב+תוך}        1      0%\n",
       "\\texthebrew{ב+ראשׁ}       1      0%\n",
       "\\texthebrew{תמול}         1      0%\n",
       "\\texthebrew{אל}           1      0%"
      ]
     },
     "metadata": {},
     "output_type": "display_data"
    },
    {
     "name": "stdout",
     "output_type": "stream",
     "text": [
      "anterior_dur\n"
     ]
    },
    {
     "data": {
      "text/html": [
       "<div>\n",
       "<style scoped>\n",
       "    .dataframe tbody tr th:only-of-type {\n",
       "        vertical-align: middle;\n",
       "    }\n",
       "\n",
       "    .dataframe tbody tr th {\n",
       "        vertical-align: top;\n",
       "    }\n",
       "\n",
       "    .dataframe thead th {\n",
       "        text-align: right;\n",
       "    }\n",
       "</style>\n",
       "<table border=\"1\" class=\"dataframe\">\n",
       "  <thead>\n",
       "    <tr style=\"text-align: right;\">\n",
       "      <th></th>\n",
       "      <th>count</th>\n",
       "      <th>percent</th>\n",
       "    </tr>\n",
       "  </thead>\n",
       "  <tbody>\n",
       "    <tr>\n",
       "      <th>\\texthebrew{עד}</th>\n",
       "      <td>279</td>\n",
       "      <td>64%</td>\n",
       "    </tr>\n",
       "    <tr>\n",
       "      <th>\\texthebrew{ל}</th>\n",
       "      <td>152</td>\n",
       "      <td>35%</td>\n",
       "    </tr>\n",
       "    <tr>\n",
       "      <th>\\texthebrew{עד+ל}</th>\n",
       "      <td>3</td>\n",
       "      <td>1%</td>\n",
       "    </tr>\n",
       "  </tbody>\n",
       "</table>\n",
       "</div>"
      ],
      "text/plain": [
       "                   count percent\n",
       "\\texthebrew{עד}      279     64%\n",
       "\\texthebrew{ל}       152     35%\n",
       "\\texthebrew{עד+ל}      3      1%"
      ]
     },
     "metadata": {},
     "output_type": "display_data"
    },
    {
     "name": "stdout",
     "output_type": "stream",
     "text": [
      "anterior\n"
     ]
    },
    {
     "data": {
      "text/html": [
       "<div>\n",
       "<style scoped>\n",
       "    .dataframe tbody tr th:only-of-type {\n",
       "        vertical-align: middle;\n",
       "    }\n",
       "\n",
       "    .dataframe tbody tr th {\n",
       "        vertical-align: top;\n",
       "    }\n",
       "\n",
       "    .dataframe thead th {\n",
       "        text-align: right;\n",
       "    }\n",
       "</style>\n",
       "<table border=\"1\" class=\"dataframe\">\n",
       "  <thead>\n",
       "    <tr style=\"text-align: right;\">\n",
       "      <th></th>\n",
       "      <th>count</th>\n",
       "      <th>percent</th>\n",
       "    </tr>\n",
       "  </thead>\n",
       "  <tbody>\n",
       "    <tr>\n",
       "      <th>\\texthebrew{ל+פנה}</th>\n",
       "      <td>13</td>\n",
       "      <td>72%</td>\n",
       "    </tr>\n",
       "    <tr>\n",
       "      <th>\\texthebrew{טרם}</th>\n",
       "      <td>4</td>\n",
       "      <td>22%</td>\n",
       "    </tr>\n",
       "    <tr>\n",
       "      <th>\\texthebrew{ל+פנה+מן}</th>\n",
       "      <td>1</td>\n",
       "      <td>6%</td>\n",
       "    </tr>\n",
       "  </tbody>\n",
       "</table>\n",
       "</div>"
      ],
      "text/plain": [
       "                       count percent\n",
       "\\texthebrew{ל+פנה}        13     72%\n",
       "\\texthebrew{טרם}           4     22%\n",
       "\\texthebrew{ל+פנה+מן}      1      6%"
      ]
     },
     "metadata": {},
     "output_type": "display_data"
    },
    {
     "name": "stdout",
     "output_type": "stream",
     "text": [
      "atelic_ext\n"
     ]
    },
    {
     "data": {
      "text/html": [
       "<div>\n",
       "<style scoped>\n",
       "    .dataframe tbody tr th:only-of-type {\n",
       "        vertical-align: middle;\n",
       "    }\n",
       "\n",
       "    .dataframe tbody tr th {\n",
       "        vertical-align: top;\n",
       "    }\n",
       "\n",
       "    .dataframe thead th {\n",
       "        text-align: right;\n",
       "    }\n",
       "</style>\n",
       "<table border=\"1\" class=\"dataframe\">\n",
       "  <thead>\n",
       "    <tr style=\"text-align: right;\">\n",
       "      <th></th>\n",
       "      <th>count</th>\n",
       "      <th>percent</th>\n",
       "    </tr>\n",
       "  </thead>\n",
       "  <tbody>\n",
       "    <tr>\n",
       "      <th>\\texthebrew{Ø}</th>\n",
       "      <td>521</td>\n",
       "      <td>90%</td>\n",
       "    </tr>\n",
       "    <tr>\n",
       "      <th>\\texthebrew{תמיד}</th>\n",
       "      <td>31</td>\n",
       "      <td>5%</td>\n",
       "    </tr>\n",
       "    <tr>\n",
       "      <th>\\texthebrew{יומם}</th>\n",
       "      <td>13</td>\n",
       "      <td>2%</td>\n",
       "    </tr>\n",
       "    <tr>\n",
       "      <th>\\texthebrew{ל}</th>\n",
       "      <td>5</td>\n",
       "      <td>1%</td>\n",
       "    </tr>\n",
       "    <tr>\n",
       "      <th>\\texthebrew{את}</th>\n",
       "      <td>2</td>\n",
       "      <td>0%</td>\n",
       "    </tr>\n",
       "    <tr>\n",
       "      <th>\\texthebrew{כ}</th>\n",
       "      <td>2</td>\n",
       "      <td>0%</td>\n",
       "    </tr>\n",
       "    <tr>\n",
       "      <th>\\texthebrew{נצח}</th>\n",
       "      <td>1</td>\n",
       "      <td>0%</td>\n",
       "    </tr>\n",
       "    <tr>\n",
       "      <th>\\texthebrew{רביעי}</th>\n",
       "      <td>1</td>\n",
       "      <td>0%</td>\n",
       "    </tr>\n",
       "  </tbody>\n",
       "</table>\n",
       "</div>"
      ],
      "text/plain": [
       "                    count percent\n",
       "\\texthebrew{Ø}        521     90%\n",
       "\\texthebrew{תמיד}      31      5%\n",
       "\\texthebrew{יומם}      13      2%\n",
       "\\texthebrew{ל}          5      1%\n",
       "\\texthebrew{את}         2      0%\n",
       "\\texthebrew{כ}          2      0%\n",
       "\\texthebrew{נצח}        1      0%\n",
       "\\texthebrew{רביעי}      1      0%"
      ]
     },
     "metadata": {},
     "output_type": "display_data"
    },
    {
     "name": "stdout",
     "output_type": "stream",
     "text": [
      "habitual\n"
     ]
    },
    {
     "data": {
      "text/html": [
       "<div>\n",
       "<style scoped>\n",
       "    .dataframe tbody tr th:only-of-type {\n",
       "        vertical-align: middle;\n",
       "    }\n",
       "\n",
       "    .dataframe tbody tr th {\n",
       "        vertical-align: top;\n",
       "    }\n",
       "\n",
       "    .dataframe thead th {\n",
       "        text-align: right;\n",
       "    }\n",
       "</style>\n",
       "<table border=\"1\" class=\"dataframe\">\n",
       "  <thead>\n",
       "    <tr style=\"text-align: right;\">\n",
       "      <th></th>\n",
       "      <th>count</th>\n",
       "      <th>percent</th>\n",
       "    </tr>\n",
       "  </thead>\n",
       "  <tbody>\n",
       "    <tr>\n",
       "      <th>\\texthebrew{ל}</th>\n",
       "      <td>21</td>\n",
       "      <td>34%</td>\n",
       "    </tr>\n",
       "    <tr>\n",
       "      <th>\\texthebrew{Ø}</th>\n",
       "      <td>20</td>\n",
       "      <td>32%</td>\n",
       "    </tr>\n",
       "    <tr>\n",
       "      <th>\\texthebrew{ב}</th>\n",
       "      <td>17</td>\n",
       "      <td>27%</td>\n",
       "    </tr>\n",
       "    <tr>\n",
       "      <th>\\texthebrew{מן}</th>\n",
       "      <td>3</td>\n",
       "      <td>5%</td>\n",
       "    </tr>\n",
       "    <tr>\n",
       "      <th>\\texthebrew{בין}</th>\n",
       "      <td>1</td>\n",
       "      <td>2%</td>\n",
       "    </tr>\n",
       "  </tbody>\n",
       "</table>\n",
       "</div>"
      ],
      "text/plain": [
       "                  count percent\n",
       "\\texthebrew{ל}       21     34%\n",
       "\\texthebrew{Ø}       20     32%\n",
       "\\texthebrew{ב}       17     27%\n",
       "\\texthebrew{מן}       3      5%\n",
       "\\texthebrew{בין}      1      2%"
      ]
     },
     "metadata": {},
     "output_type": "display_data"
    },
    {
     "name": "stdout",
     "output_type": "stream",
     "text": [
      "posterior\n"
     ]
    },
    {
     "data": {
      "text/html": [
       "<div>\n",
       "<style scoped>\n",
       "    .dataframe tbody tr th:only-of-type {\n",
       "        vertical-align: middle;\n",
       "    }\n",
       "\n",
       "    .dataframe tbody tr th {\n",
       "        vertical-align: top;\n",
       "    }\n",
       "\n",
       "    .dataframe thead th {\n",
       "        text-align: right;\n",
       "    }\n",
       "</style>\n",
       "<table border=\"1\" class=\"dataframe\">\n",
       "  <thead>\n",
       "    <tr style=\"text-align: right;\">\n",
       "      <th></th>\n",
       "      <th>count</th>\n",
       "      <th>percent</th>\n",
       "    </tr>\n",
       "  </thead>\n",
       "  <tbody>\n",
       "    <tr>\n",
       "      <th>\\texthebrew{אחר}</th>\n",
       "      <td>161</td>\n",
       "      <td>72%</td>\n",
       "    </tr>\n",
       "    <tr>\n",
       "      <th>\\texthebrew{מן}</th>\n",
       "      <td>33</td>\n",
       "      <td>15%</td>\n",
       "    </tr>\n",
       "    <tr>\n",
       "      <th>\\texthebrew{מן+קץ}</th>\n",
       "      <td>18</td>\n",
       "      <td>8%</td>\n",
       "    </tr>\n",
       "    <tr>\n",
       "      <th>\\texthebrew{מן+קצה}</th>\n",
       "      <td>10</td>\n",
       "      <td>4%</td>\n",
       "    </tr>\n",
       "    <tr>\n",
       "      <th>\\texthebrew{מן+אחר}</th>\n",
       "      <td>2</td>\n",
       "      <td>1%</td>\n",
       "    </tr>\n",
       "    <tr>\n",
       "      <th>\\texthebrew{מן+קצת}</th>\n",
       "      <td>1</td>\n",
       "      <td>0%</td>\n",
       "    </tr>\n",
       "  </tbody>\n",
       "</table>\n",
       "</div>"
      ],
      "text/plain": [
       "                     count percent\n",
       "\\texthebrew{אחר}       161     72%\n",
       "\\texthebrew{מן}         33     15%\n",
       "\\texthebrew{מן+קץ}      18      8%\n",
       "\\texthebrew{מן+קצה}     10      4%\n",
       "\\texthebrew{מן+אחר}      2      1%\n",
       "\\texthebrew{מן+קצת}      1      0%"
      ]
     },
     "metadata": {},
     "output_type": "display_data"
    },
    {
     "name": "stdout",
     "output_type": "stream",
     "text": [
      "posterior_dur\n"
     ]
    },
    {
     "data": {
      "text/html": [
       "<div>\n",
       "<style scoped>\n",
       "    .dataframe tbody tr th:only-of-type {\n",
       "        vertical-align: middle;\n",
       "    }\n",
       "\n",
       "    .dataframe tbody tr th {\n",
       "        vertical-align: top;\n",
       "    }\n",
       "\n",
       "    .dataframe thead th {\n",
       "        text-align: right;\n",
       "    }\n",
       "</style>\n",
       "<table border=\"1\" class=\"dataframe\">\n",
       "  <thead>\n",
       "    <tr style=\"text-align: right;\">\n",
       "      <th></th>\n",
       "      <th>count</th>\n",
       "      <th>percent</th>\n",
       "    </tr>\n",
       "  </thead>\n",
       "  <tbody>\n",
       "    <tr>\n",
       "      <th>\\texthebrew{מן}</th>\n",
       "      <td>63</td>\n",
       "      <td>95%</td>\n",
       "    </tr>\n",
       "    <tr>\n",
       "      <th>\\texthebrew{מן+ל}</th>\n",
       "      <td>1</td>\n",
       "      <td>2%</td>\n",
       "    </tr>\n",
       "    <tr>\n",
       "      <th>\\texthebrew{ל+מן}</th>\n",
       "      <td>1</td>\n",
       "      <td>2%</td>\n",
       "    </tr>\n",
       "    <tr>\n",
       "      <th>\\texthebrew{מן+תחלה}</th>\n",
       "      <td>1</td>\n",
       "      <td>2%</td>\n",
       "    </tr>\n",
       "  </tbody>\n",
       "</table>\n",
       "</div>"
      ],
      "text/plain": [
       "                      count percent\n",
       "\\texthebrew{מן}          63     95%\n",
       "\\texthebrew{מן+ל}         1      2%\n",
       "\\texthebrew{ל+מן}         1      2%\n",
       "\\texthebrew{מן+תחלה}      1      2%"
      ]
     },
     "metadata": {},
     "output_type": "display_data"
    },
    {
     "name": "stdout",
     "output_type": "stream",
     "text": [
      "telic_ext\n"
     ]
    },
    {
     "data": {
      "text/html": [
       "<div>\n",
       "<style scoped>\n",
       "    .dataframe tbody tr th:only-of-type {\n",
       "        vertical-align: middle;\n",
       "    }\n",
       "\n",
       "    .dataframe tbody tr th {\n",
       "        vertical-align: top;\n",
       "    }\n",
       "\n",
       "    .dataframe thead th {\n",
       "        text-align: right;\n",
       "    }\n",
       "</style>\n",
       "<table border=\"1\" class=\"dataframe\">\n",
       "  <thead>\n",
       "    <tr style=\"text-align: right;\">\n",
       "      <th></th>\n",
       "      <th>count</th>\n",
       "      <th>percent</th>\n",
       "    </tr>\n",
       "  </thead>\n",
       "  <tbody>\n",
       "    <tr>\n",
       "      <th>\\texthebrew{ב}</th>\n",
       "      <td>8</td>\n",
       "      <td>57%</td>\n",
       "    </tr>\n",
       "    <tr>\n",
       "      <th>\\texthebrew{Ø}</th>\n",
       "      <td>6</td>\n",
       "      <td>43%</td>\n",
       "    </tr>\n",
       "  </tbody>\n",
       "</table>\n",
       "</div>"
      ],
      "text/plain": [
       "                count percent\n",
       "\\texthebrew{ב}      8     57%\n",
       "\\texthebrew{Ø}      6     43%"
      ]
     },
     "metadata": {},
     "output_type": "display_data"
    },
    {
     "name": "stdout",
     "output_type": "stream",
     "text": [
      "dist_fut\n"
     ]
    },
    {
     "data": {
      "text/html": [
       "<div>\n",
       "<style scoped>\n",
       "    .dataframe tbody tr th:only-of-type {\n",
       "        vertical-align: middle;\n",
       "    }\n",
       "\n",
       "    .dataframe tbody tr th {\n",
       "        vertical-align: top;\n",
       "    }\n",
       "\n",
       "    .dataframe thead th {\n",
       "        text-align: right;\n",
       "    }\n",
       "</style>\n",
       "<table border=\"1\" class=\"dataframe\">\n",
       "  <thead>\n",
       "    <tr style=\"text-align: right;\">\n",
       "      <th></th>\n",
       "      <th>count</th>\n",
       "      <th>percent</th>\n",
       "    </tr>\n",
       "  </thead>\n",
       "  <tbody>\n",
       "    <tr>\n",
       "      <th>\\texthebrew{ב}</th>\n",
       "      <td>6</td>\n",
       "      <td>100%</td>\n",
       "    </tr>\n",
       "  </tbody>\n",
       "</table>\n",
       "</div>"
      ],
      "text/plain": [
       "                count percent\n",
       "\\texthebrew{ב}      6    100%"
      ]
     },
     "metadata": {},
     "output_type": "display_data"
    },
    {
     "name": "stdout",
     "output_type": "stream",
     "text": [
      "dist_past\n"
     ]
    },
    {
     "data": {
      "text/html": [
       "<div>\n",
       "<style scoped>\n",
       "    .dataframe tbody tr th:only-of-type {\n",
       "        vertical-align: middle;\n",
       "    }\n",
       "\n",
       "    .dataframe tbody tr th {\n",
       "        vertical-align: top;\n",
       "    }\n",
       "\n",
       "    .dataframe thead th {\n",
       "        text-align: right;\n",
       "    }\n",
       "</style>\n",
       "<table border=\"1\" class=\"dataframe\">\n",
       "  <thead>\n",
       "    <tr style=\"text-align: right;\">\n",
       "      <th></th>\n",
       "      <th>count</th>\n",
       "      <th>percent</th>\n",
       "    </tr>\n",
       "  </thead>\n",
       "  <tbody>\n",
       "    <tr>\n",
       "      <th>\\texthebrew{Ø}</th>\n",
       "      <td>3</td>\n",
       "      <td>100%</td>\n",
       "    </tr>\n",
       "  </tbody>\n",
       "</table>\n",
       "</div>"
      ],
      "text/plain": [
       "                count percent\n",
       "\\texthebrew{Ø}      3    100%"
      ]
     },
     "metadata": {},
     "output_type": "display_data"
    }
   ],
   "source": [
    "abbrevs = {\n",
    "    'simultaneous': ['sim', 'Simultaneous'],\n",
    "    'anterior_dur': ['antdur', 'Anterior Durative'],\n",
    "    'anterior': ['ant', 'Anterior'],\n",
    "    'atelic_ext': ['atel', 'Atelic Extent'],\n",
    "    'habitual': ['hab', 'Habitual'],\n",
    "    'posterior': ['post', 'Posterior'],\n",
    "    'posterior_dur': ['postdur', 'Posterior Durative'],\n",
    "    'telic_ext': ['telic', 'Telic Extent'],\n",
    "    'dist_fut': ['distfut', 'Distance Future'],  \n",
    "    'dist_past': ['distpast', 'Distance Past'], \n",
    "}\n",
    "\n",
    "funct2data = {}\n",
    "\n",
    "for function, namedata in abbrevs.items():\n",
    "    abbrev, full = namedata\n",
    "    funct_df = df_main[df_main.function == function]\n",
    "    front_cts = pd.DataFrame(\n",
    "        funct_df['front'].value_counts()\n",
    "    )\n",
    "    front_cts = front_cts.rename_axis(index='front').set_axis(['count'], 1)\n",
    "    front_prs = front_cts / front_cts.sum()\n",
    "    front_cp = join_ct_pr(front_cts, front_prs)\n",
    "    \n",
    "    funct2data[function] = {\n",
    "        'df': funct_df,\n",
    "        'ct':front_cts,\n",
    "        'pr':front_prs,\n",
    "        'cp':front_cp,\n",
    "    }\n",
    "    \n",
    "    print(function)\n",
    "    display(\n",
    "        out.table(\n",
    "            front_cp,\n",
    "            f'{abbrev}_front',\n",
    "            caption=f'Attested {full} Forms in Sample',\n",
    "            hebindex=True,\n",
    "        )\n",
    "    )"
   ]
  },
  {
   "cell_type": "markdown",
   "metadata": {},
   "source": [
    "### Examples"
   ]
  },
  {
   "cell_type": "markdown",
   "metadata": {},
   "source": [
    "#### Simul"
   ]
  },
  {
   "cell_type": "code",
   "execution_count": 27,
   "metadata": {},
   "outputs": [],
   "source": [
    "simdf = funct2data['simultaneous']['df']"
   ]
  },
  {
   "cell_type": "code",
   "execution_count": 28,
   "metadata": {},
   "outputs": [
    {
     "data": {
      "text/plain": [
       "'56'"
      ]
     },
     "execution_count": 28,
     "metadata": {},
     "output_type": "execute_result"
    }
   ],
   "source": [
    "out.number(\n",
    "    funct2data['simultaneous']['pr'].loc['ב'][0]*100,\n",
    "    'perc_sim_B'\n",
    ")"
   ]
  },
  {
   "cell_type": "code",
   "execution_count": 29,
   "metadata": {},
   "outputs": [
    {
     "data": {
      "text/plain": [
       "'15'"
      ]
     },
     "execution_count": 29,
     "metadata": {},
     "output_type": "execute_result"
    }
   ],
   "source": [
    "get = 'Ø'\n",
    "out.number(\n",
    "    funct2data['simultaneous']['pr'].loc[get][0]*100,\n",
    "    'perc_sim_Ø'\n",
    ")"
   ]
  },
  {
   "cell_type": "code",
   "execution_count": 30,
   "metadata": {},
   "outputs": [
    {
     "data": {
      "text/plain": [
       "1.0    0.83959\n",
       "0.0    0.16041\n",
       "Name: DEF, dtype: float64"
      ]
     },
     "execution_count": 30,
     "metadata": {},
     "output_type": "execute_result"
    }
   ],
   "source": [
    "nulldef_ct = simdf[simdf.front == 'Ø'].DEF.value_counts()\n",
    "nulldef_pr = nulldef_ct / nulldef_ct.sum()\n",
    "\n",
    "nulldef_pr"
   ]
  },
  {
   "cell_type": "code",
   "execution_count": 31,
   "metadata": {},
   "outputs": [
    {
     "data": {
      "text/plain": [
       "'84'"
      ]
     },
     "execution_count": 31,
     "metadata": {},
     "output_type": "execute_result"
    }
   ],
   "source": [
    "out.number(\n",
    "    nulldef_pr[1]*100,\n",
    "    'nulldef_pr'\n",
    ")"
   ]
  },
  {
   "cell_type": "markdown",
   "metadata": {},
   "source": [
    "#"
   ]
  },
  {
   "cell_type": "code",
   "execution_count": 32,
   "metadata": {},
   "outputs": [
    {
     "name": "stdout",
     "output_type": "stream",
     "text": [
      "showing 10 of 47\n"
     ]
    },
    {
     "data": {
      "text/html": [
       "<style  type=\"text/css\" >\n",
       "#T_5bcb8_row0_col1,#T_5bcb8_row1_col1,#T_5bcb8_row2_col1,#T_5bcb8_row3_col1,#T_5bcb8_row4_col1,#T_5bcb8_row5_col1,#T_5bcb8_row6_col1,#T_5bcb8_row7_col1,#T_5bcb8_row8_col1,#T_5bcb8_row9_col1{\n",
       "            font-size: 20px;\n",
       "             font-family:  Times New Roman;\n",
       "             text-align:  right;\n",
       "             max-width:  500px;\n",
       "        }</style><table id=\"T_5bcb8_\" ><thead>    <tr>        <th class=\"blank level0\" ></th>        <th class=\"col_heading level0 col0\" >verse</th>        <th class=\"col_heading level0 col1\" >clause</th>        <th class=\"col_heading level0 col2\" >function</th>        <th class=\"col_heading level0 col3\" >times_utf8</th>    </tr>    <tr>        <th class=\"index_name level0\" >node</th>        <th class=\"blank\" ></th>        <th class=\"blank\" ></th>        <th class=\"blank\" ></th>        <th class=\"blank\" ></th>    </tr></thead><tbody>\n",
       "                <tr>\n",
       "                        <th id=\"T_5bcb8_level0_row0\" class=\"row_heading level0 row0\" >428652</th>\n",
       "                        <td id=\"T_5bcb8_row0_col0\" class=\"data row0 col0\" >Genesis 14:4</td>\n",
       "                        <td id=\"T_5bcb8_row0_col1\" class=\"data row0 col1\" >וּשְׁלֹשׁ־עֶשְׂרֵ֥ה שָׁנָ֖ה מָרָֽדוּ׃ </td>\n",
       "                        <td id=\"T_5bcb8_row0_col2\" class=\"data row0 col2\" >simultaneous</td>\n",
       "                        <td id=\"T_5bcb8_row0_col3\" class=\"data row0 col3\" >שׁנה</td>\n",
       "            </tr>\n",
       "            <tr>\n",
       "                        <th id=\"T_5bcb8_level0_row1\" class=\"row_heading level0 row1\" >442052</th>\n",
       "                        <td id=\"T_5bcb8_row1_col0\" class=\"data row1 col0\" >Numbers 11:9</td>\n",
       "                        <td id=\"T_5bcb8_row1_col1\" class=\"data row1 col1\" >בְרֶ֧דֶת הַטַּ֛ל עַל־הַֽמַּחֲנֶ֖ה לָ֑יְלָה </td>\n",
       "                        <td id=\"T_5bcb8_row1_col2\" class=\"data row1 col2\" >simultaneous</td>\n",
       "                        <td id=\"T_5bcb8_row1_col3\" class=\"data row1 col3\" >לילה</td>\n",
       "            </tr>\n",
       "            <tr>\n",
       "                        <th id=\"T_5bcb8_level0_row2\" class=\"row_heading level0 row2\" >452297</th>\n",
       "                        <td id=\"T_5bcb8_row2_col0\" class=\"data row2 col0\" >Judges 9:32</td>\n",
       "                        <td id=\"T_5bcb8_row2_col1\" class=\"data row2 col1\" >ק֣וּם לַ֔יְלָה אַתָּ֖ה וְהָעָ֣ם </td>\n",
       "                        <td id=\"T_5bcb8_row2_col2\" class=\"data row2 col2\" >simultaneous</td>\n",
       "                        <td id=\"T_5bcb8_row2_col3\" class=\"data row2 col3\" >לילה</td>\n",
       "            </tr>\n",
       "            <tr>\n",
       "                        <th id=\"T_5bcb8_level0_row3\" class=\"row_heading level0 row3\" >457391</th>\n",
       "                        <td id=\"T_5bcb8_row3_col0\" class=\"data row3 col0\" >1_Samuel 26:7</td>\n",
       "                        <td id=\"T_5bcb8_row3_col1\" class=\"data row3 col1\" >וַיָּבֹא֩ דָוִ֨ד וַאֲבִישַׁ֥י׀ אֶל־הָעָם֮ לַיְלָה֒ </td>\n",
       "                        <td id=\"T_5bcb8_row3_col2\" class=\"data row3 col2\" >simultaneous</td>\n",
       "                        <td id=\"T_5bcb8_row3_col3\" class=\"data row3 col3\" >לילה</td>\n",
       "            </tr>\n",
       "            <tr>\n",
       "                        <th id=\"T_5bcb8_level0_row4\" class=\"row_heading level0 row4\" >465833</th>\n",
       "                        <td id=\"T_5bcb8_row4_col0\" class=\"data row4 col0\" >2_Kings 7:12</td>\n",
       "                        <td id=\"T_5bcb8_row4_col1\" class=\"data row4 col1\" >וַיָּ֨קָם הַמֶּ֜לֶךְ לַ֗יְלָה </td>\n",
       "                        <td id=\"T_5bcb8_row4_col2\" class=\"data row4 col2\" >simultaneous</td>\n",
       "                        <td id=\"T_5bcb8_row4_col3\" class=\"data row4 col3\" >לילה</td>\n",
       "            </tr>\n",
       "            <tr>\n",
       "                        <th id=\"T_5bcb8_level0_row5\" class=\"row_heading level0 row5\" >485724</th>\n",
       "                        <td id=\"T_5bcb8_row5_col0\" class=\"data row5 col0\" >Hosea 4:5</td>\n",
       "                        <td id=\"T_5bcb8_row5_col1\" class=\"data row5 col1\" >וְכָשַׁ֧ל גַּם־נָבִ֛יא עִמְּךָ֖ לָ֑יְלָה </td>\n",
       "                        <td id=\"T_5bcb8_row5_col2\" class=\"data row5 col2\" >simultaneous</td>\n",
       "                        <td id=\"T_5bcb8_row5_col3\" class=\"data row5 col3\" >לילה</td>\n",
       "            </tr>\n",
       "            <tr>\n",
       "                        <th id=\"T_5bcb8_level0_row6\" class=\"row_heading level0 row6\" >490340</th>\n",
       "                        <td id=\"T_5bcb8_row6_col0\" class=\"data row6 col0\" >Psalms 5:4</td>\n",
       "                        <td id=\"T_5bcb8_row6_col1\" class=\"data row6 col1\" >בֹּ֖קֶר תִּשְׁמַ֣ע קֹולִ֑י </td>\n",
       "                        <td id=\"T_5bcb8_row6_col2\" class=\"data row6 col2\" >simultaneous</td>\n",
       "                        <td id=\"T_5bcb8_row6_col3\" class=\"data row6 col3\" >בקר</td>\n",
       "            </tr>\n",
       "            <tr>\n",
       "                        <th id=\"T_5bcb8_level0_row7\" class=\"row_heading level0 row7\" >493512</th>\n",
       "                        <td id=\"T_5bcb8_row7_col0\" class=\"data row7 col0\" >Psalms 69:14</td>\n",
       "                        <td id=\"T_5bcb8_row7_col1\" class=\"data row7 col1\" >תְפִלָּתִֽי־לְךָ֨׀ עֵ֤ת רָצֹ֗ון </td>\n",
       "                        <td id=\"T_5bcb8_row7_col2\" class=\"data row7 col2\" >simultaneous</td>\n",
       "                        <td id=\"T_5bcb8_row7_col3\" class=\"data row7 col3\" >עת</td>\n",
       "            </tr>\n",
       "            <tr>\n",
       "                        <th id=\"T_5bcb8_level0_row8\" class=\"row_heading level0 row8\" >499835</th>\n",
       "                        <td id=\"T_5bcb8_row8_col0\" class=\"data row8 col0\" >Job 34:25</td>\n",
       "                        <td id=\"T_5bcb8_row8_col1\" class=\"data row8 col1\" >וְהָ֥פַךְ לַ֝֗יְלָה </td>\n",
       "                        <td id=\"T_5bcb8_row8_col2\" class=\"data row8 col2\" >simultaneous</td>\n",
       "                        <td id=\"T_5bcb8_row8_col3\" class=\"data row8 col3\" >לילה</td>\n",
       "            </tr>\n",
       "            <tr>\n",
       "                        <th id=\"T_5bcb8_level0_row9\" class=\"row_heading level0 row9\" >514108</th>\n",
       "                        <td id=\"T_5bcb8_row9_col0\" class=\"data row9 col0\" >2_Chronicles 21:9</td>\n",
       "                        <td id=\"T_5bcb8_row9_col1\" class=\"data row9 col1\" >קָ֣ם לַ֔יְלָה </td>\n",
       "                        <td id=\"T_5bcb8_row9_col2\" class=\"data row9 col2\" >simultaneous</td>\n",
       "                        <td id=\"T_5bcb8_row9_col3\" class=\"data row9 col3\" >לילה</td>\n",
       "            </tr>\n",
       "    </tbody></table>"
      ],
      "text/plain": [
       "<pandas.io.formats.style.Styler at 0x7ffcfc6be130>"
      ]
     },
     "execution_count": 32,
     "metadata": {},
     "output_type": "execute_result"
    }
   ],
   "source": [
    "null_nodef = simdf[\n",
    "    (simdf.front == 'Ø')\n",
    "    & (simdf.DEF == 0)\n",
    "]\n",
    "\n",
    "out.number(\n",
    "    null_nodef.shape[0],\n",
    "    'n_null_nodef'\n",
    ")\n",
    "\n",
    "ts.show(\n",
    "    null_nodef\n",
    ", extra=['function', 'times_utf8'], spread=10)"
   ]
  },
  {
   "cell_type": "code",
   "execution_count": 33,
   "metadata": {},
   "outputs": [
    {
     "data": {
      "text/plain": [
       "לילה       31\n",
       "יום         5\n",
       "בקר         3\n",
       "עת          2\n",
       "רגע|יום     1\n",
       "רגע         1\n",
       "צהרים       1\n",
       "מחר|עת      1\n",
       "שׁנה        1\n",
       "חדשׁ        1\n",
       "Name: times_utf8, dtype: int64"
      ]
     },
     "execution_count": 33,
     "metadata": {},
     "output_type": "execute_result"
    }
   ],
   "source": [
    "nndef_timects = null_nodef.times_utf8.value_counts()\n",
    "nndef_timeprs = nndef_timects / nndef_timects.sum()\n",
    "\n",
    "nndef_timects"
   ]
  },
  {
   "cell_type": "code",
   "execution_count": 34,
   "metadata": {},
   "outputs": [
    {
     "data": {
      "text/plain": [
       "'66'"
      ]
     },
     "execution_count": 34,
     "metadata": {},
     "output_type": "execute_result"
    }
   ],
   "source": [
    "out.number(\n",
    "    nndef_timeprs['לילה']*100,\n",
    "    'nndef_night_pr',\n",
    ")"
   ]
  },
  {
   "cell_type": "code",
   "execution_count": 35,
   "metadata": {},
   "outputs": [
    {
     "data": {
      "text/plain": [
       "'31'"
      ]
     },
     "execution_count": 35,
     "metadata": {},
     "output_type": "execute_result"
    }
   ],
   "source": [
    "out.number(\n",
    "    nndef_timects['לילה'],\n",
    "    'nndef_night_ct',\n",
    ")"
   ]
  },
  {
   "cell_type": "code",
   "execution_count": 36,
   "metadata": {},
   "outputs": [
    {
     "data": {
      "text/plain": [
       "'5'"
      ]
     },
     "execution_count": 36,
     "metadata": {},
     "output_type": "execute_result"
    }
   ],
   "source": [
    "out.number(\n",
    "    nndef_timects['יום'],\n",
    "    'nndef_day_ct',\n",
    ")"
   ]
  },
  {
   "cell_type": "code",
   "execution_count": 37,
   "metadata": {},
   "outputs": [
    {
     "data": {
      "text/plain": [
       "'3'"
      ]
     },
     "execution_count": 37,
     "metadata": {},
     "output_type": "execute_result"
    }
   ],
   "source": [
    "out.number(\n",
    "    nndef_timects['בקר'],\n",
    "    'nndef_morning_ct',\n",
    ")"
   ]
  },
  {
   "cell_type": "markdown",
   "metadata": {},
   "source": [
    "### Phrase types"
   ]
  },
  {
   "cell_type": "code",
   "execution_count": 56,
   "metadata": {},
   "outputs": [
    {
     "name": "stdout",
     "output_type": "stream",
     "text": [
      "simultaneous\n",
      "sim_phtype_ct\n"
     ]
    },
    {
     "data": {
      "text/html": [
       "<div>\n",
       "<style scoped>\n",
       "    .dataframe tbody tr th:only-of-type {\n",
       "        vertical-align: middle;\n",
       "    }\n",
       "\n",
       "    .dataframe tbody tr th {\n",
       "        vertical-align: top;\n",
       "    }\n",
       "\n",
       "    .dataframe thead th {\n",
       "        text-align: right;\n",
       "    }\n",
       "</style>\n",
       "<table border=\"1\" class=\"dataframe\">\n",
       "  <thead>\n",
       "    <tr style=\"text-align: right;\">\n",
       "      <th></th>\n",
       "      <th>count</th>\n",
       "      <th>percent</th>\n",
       "    </tr>\n",
       "    <tr>\n",
       "      <th>Phrase Type</th>\n",
       "      <th></th>\n",
       "      <th></th>\n",
       "    </tr>\n",
       "  </thead>\n",
       "  <tbody>\n",
       "    <tr>\n",
       "      <th>PP</th>\n",
       "      <td>1196</td>\n",
       "      <td>61%</td>\n",
       "    </tr>\n",
       "    <tr>\n",
       "      <th>ADVB</th>\n",
       "      <td>458</td>\n",
       "      <td>24%</td>\n",
       "    </tr>\n",
       "    <tr>\n",
       "      <th>NP</th>\n",
       "      <td>293</td>\n",
       "      <td>15%</td>\n",
       "    </tr>\n",
       "  </tbody>\n",
       "</table>\n",
       "</div>"
      ],
      "text/plain": [
       "             count percent\n",
       "Phrase Type               \n",
       "PP            1196     61%\n",
       "ADVB           458     24%\n",
       "NP             293     15%"
      ]
     },
     "metadata": {},
     "output_type": "display_data"
    },
    {
     "name": "stdout",
     "output_type": "stream",
     "text": [
      "--------------------\n",
      "anterior_dur\n",
      "antdur_phtype_ct\n"
     ]
    },
    {
     "data": {
      "text/html": [
       "<div>\n",
       "<style scoped>\n",
       "    .dataframe tbody tr th:only-of-type {\n",
       "        vertical-align: middle;\n",
       "    }\n",
       "\n",
       "    .dataframe tbody tr th {\n",
       "        vertical-align: top;\n",
       "    }\n",
       "\n",
       "    .dataframe thead th {\n",
       "        text-align: right;\n",
       "    }\n",
       "</style>\n",
       "<table border=\"1\" class=\"dataframe\">\n",
       "  <thead>\n",
       "    <tr style=\"text-align: right;\">\n",
       "      <th></th>\n",
       "      <th>count</th>\n",
       "      <th>percent</th>\n",
       "    </tr>\n",
       "    <tr>\n",
       "      <th>Phrase Type</th>\n",
       "      <th></th>\n",
       "      <th></th>\n",
       "    </tr>\n",
       "  </thead>\n",
       "  <tbody>\n",
       "    <tr>\n",
       "      <th>PP</th>\n",
       "      <td>434</td>\n",
       "      <td>100%</td>\n",
       "    </tr>\n",
       "  </tbody>\n",
       "</table>\n",
       "</div>"
      ],
      "text/plain": [
       "             count percent\n",
       "Phrase Type               \n",
       "PP             434    100%"
      ]
     },
     "metadata": {},
     "output_type": "display_data"
    },
    {
     "name": "stdout",
     "output_type": "stream",
     "text": [
      "--------------------\n",
      "anterior\n",
      "ant_phtype_ct\n"
     ]
    },
    {
     "data": {
      "text/html": [
       "<div>\n",
       "<style scoped>\n",
       "    .dataframe tbody tr th:only-of-type {\n",
       "        vertical-align: middle;\n",
       "    }\n",
       "\n",
       "    .dataframe tbody tr th {\n",
       "        vertical-align: top;\n",
       "    }\n",
       "\n",
       "    .dataframe thead th {\n",
       "        text-align: right;\n",
       "    }\n",
       "</style>\n",
       "<table border=\"1\" class=\"dataframe\">\n",
       "  <thead>\n",
       "    <tr style=\"text-align: right;\">\n",
       "      <th></th>\n",
       "      <th>count</th>\n",
       "      <th>percent</th>\n",
       "    </tr>\n",
       "    <tr>\n",
       "      <th>Phrase Type</th>\n",
       "      <th></th>\n",
       "      <th></th>\n",
       "    </tr>\n",
       "  </thead>\n",
       "  <tbody>\n",
       "    <tr>\n",
       "      <th>PP</th>\n",
       "      <td>14</td>\n",
       "      <td>78%</td>\n",
       "    </tr>\n",
       "    <tr>\n",
       "      <th>ADVB</th>\n",
       "      <td>4</td>\n",
       "      <td>22%</td>\n",
       "    </tr>\n",
       "  </tbody>\n",
       "</table>\n",
       "</div>"
      ],
      "text/plain": [
       "             count percent\n",
       "Phrase Type               \n",
       "PP              14     78%\n",
       "ADVB             4     22%"
      ]
     },
     "metadata": {},
     "output_type": "display_data"
    },
    {
     "name": "stdout",
     "output_type": "stream",
     "text": [
      "--------------------\n",
      "atelic_ext\n",
      "atel_phtype_ct\n"
     ]
    },
    {
     "data": {
      "text/html": [
       "<div>\n",
       "<style scoped>\n",
       "    .dataframe tbody tr th:only-of-type {\n",
       "        vertical-align: middle;\n",
       "    }\n",
       "\n",
       "    .dataframe tbody tr th {\n",
       "        vertical-align: top;\n",
       "    }\n",
       "\n",
       "    .dataframe thead th {\n",
       "        text-align: right;\n",
       "    }\n",
       "</style>\n",
       "<table border=\"1\" class=\"dataframe\">\n",
       "  <thead>\n",
       "    <tr style=\"text-align: right;\">\n",
       "      <th></th>\n",
       "      <th>count</th>\n",
       "      <th>percent</th>\n",
       "    </tr>\n",
       "    <tr>\n",
       "      <th>Phrase Type</th>\n",
       "      <th></th>\n",
       "      <th></th>\n",
       "    </tr>\n",
       "  </thead>\n",
       "  <tbody>\n",
       "    <tr>\n",
       "      <th>NP</th>\n",
       "      <td>521</td>\n",
       "      <td>90%</td>\n",
       "    </tr>\n",
       "    <tr>\n",
       "      <th>ADVB</th>\n",
       "      <td>46</td>\n",
       "      <td>8%</td>\n",
       "    </tr>\n",
       "    <tr>\n",
       "      <th>PP</th>\n",
       "      <td>9</td>\n",
       "      <td>2%</td>\n",
       "    </tr>\n",
       "  </tbody>\n",
       "</table>\n",
       "</div>"
      ],
      "text/plain": [
       "             count percent\n",
       "Phrase Type               \n",
       "NP             521     90%\n",
       "ADVB            46      8%\n",
       "PP               9      2%"
      ]
     },
     "metadata": {},
     "output_type": "display_data"
    },
    {
     "name": "stdout",
     "output_type": "stream",
     "text": [
      "--------------------\n",
      "habitual\n",
      "hab_phtype_ct\n"
     ]
    },
    {
     "data": {
      "text/html": [
       "<div>\n",
       "<style scoped>\n",
       "    .dataframe tbody tr th:only-of-type {\n",
       "        vertical-align: middle;\n",
       "    }\n",
       "\n",
       "    .dataframe tbody tr th {\n",
       "        vertical-align: top;\n",
       "    }\n",
       "\n",
       "    .dataframe thead th {\n",
       "        text-align: right;\n",
       "    }\n",
       "</style>\n",
       "<table border=\"1\" class=\"dataframe\">\n",
       "  <thead>\n",
       "    <tr style=\"text-align: right;\">\n",
       "      <th></th>\n",
       "      <th>count</th>\n",
       "      <th>percent</th>\n",
       "    </tr>\n",
       "    <tr>\n",
       "      <th>Phrase Type</th>\n",
       "      <th></th>\n",
       "      <th></th>\n",
       "    </tr>\n",
       "  </thead>\n",
       "  <tbody>\n",
       "    <tr>\n",
       "      <th>PP</th>\n",
       "      <td>42</td>\n",
       "      <td>68%</td>\n",
       "    </tr>\n",
       "    <tr>\n",
       "      <th>NP</th>\n",
       "      <td>20</td>\n",
       "      <td>32%</td>\n",
       "    </tr>\n",
       "  </tbody>\n",
       "</table>\n",
       "</div>"
      ],
      "text/plain": [
       "             count percent\n",
       "Phrase Type               \n",
       "PP              42     68%\n",
       "NP              20     32%"
      ]
     },
     "metadata": {},
     "output_type": "display_data"
    },
    {
     "name": "stdout",
     "output_type": "stream",
     "text": [
      "--------------------\n",
      "posterior\n",
      "post_phtype_ct\n"
     ]
    },
    {
     "data": {
      "text/html": [
       "<div>\n",
       "<style scoped>\n",
       "    .dataframe tbody tr th:only-of-type {\n",
       "        vertical-align: middle;\n",
       "    }\n",
       "\n",
       "    .dataframe tbody tr th {\n",
       "        vertical-align: top;\n",
       "    }\n",
       "\n",
       "    .dataframe thead th {\n",
       "        text-align: right;\n",
       "    }\n",
       "</style>\n",
       "<table border=\"1\" class=\"dataframe\">\n",
       "  <thead>\n",
       "    <tr style=\"text-align: right;\">\n",
       "      <th></th>\n",
       "      <th>count</th>\n",
       "      <th>percent</th>\n",
       "    </tr>\n",
       "    <tr>\n",
       "      <th>Phrase Type</th>\n",
       "      <th></th>\n",
       "      <th></th>\n",
       "    </tr>\n",
       "  </thead>\n",
       "  <tbody>\n",
       "    <tr>\n",
       "      <th>PP</th>\n",
       "      <td>191</td>\n",
       "      <td>85%</td>\n",
       "    </tr>\n",
       "    <tr>\n",
       "      <th>ADVB</th>\n",
       "      <td>34</td>\n",
       "      <td>15%</td>\n",
       "    </tr>\n",
       "  </tbody>\n",
       "</table>\n",
       "</div>"
      ],
      "text/plain": [
       "             count percent\n",
       "Phrase Type               \n",
       "PP             191     85%\n",
       "ADVB            34     15%"
      ]
     },
     "metadata": {},
     "output_type": "display_data"
    },
    {
     "name": "stdout",
     "output_type": "stream",
     "text": [
      "--------------------\n",
      "posterior_dur\n",
      "postdur_phtype_ct\n"
     ]
    },
    {
     "data": {
      "text/html": [
       "<div>\n",
       "<style scoped>\n",
       "    .dataframe tbody tr th:only-of-type {\n",
       "        vertical-align: middle;\n",
       "    }\n",
       "\n",
       "    .dataframe tbody tr th {\n",
       "        vertical-align: top;\n",
       "    }\n",
       "\n",
       "    .dataframe thead th {\n",
       "        text-align: right;\n",
       "    }\n",
       "</style>\n",
       "<table border=\"1\" class=\"dataframe\">\n",
       "  <thead>\n",
       "    <tr style=\"text-align: right;\">\n",
       "      <th></th>\n",
       "      <th>count</th>\n",
       "      <th>percent</th>\n",
       "    </tr>\n",
       "    <tr>\n",
       "      <th>Phrase Type</th>\n",
       "      <th></th>\n",
       "      <th></th>\n",
       "    </tr>\n",
       "  </thead>\n",
       "  <tbody>\n",
       "    <tr>\n",
       "      <th>PP</th>\n",
       "      <td>66</td>\n",
       "      <td>100%</td>\n",
       "    </tr>\n",
       "  </tbody>\n",
       "</table>\n",
       "</div>"
      ],
      "text/plain": [
       "             count percent\n",
       "Phrase Type               \n",
       "PP              66    100%"
      ]
     },
     "metadata": {},
     "output_type": "display_data"
    },
    {
     "name": "stdout",
     "output_type": "stream",
     "text": [
      "--------------------\n",
      "telic_ext\n",
      "telic_phtype_ct\n"
     ]
    },
    {
     "data": {
      "text/html": [
       "<div>\n",
       "<style scoped>\n",
       "    .dataframe tbody tr th:only-of-type {\n",
       "        vertical-align: middle;\n",
       "    }\n",
       "\n",
       "    .dataframe tbody tr th {\n",
       "        vertical-align: top;\n",
       "    }\n",
       "\n",
       "    .dataframe thead th {\n",
       "        text-align: right;\n",
       "    }\n",
       "</style>\n",
       "<table border=\"1\" class=\"dataframe\">\n",
       "  <thead>\n",
       "    <tr style=\"text-align: right;\">\n",
       "      <th></th>\n",
       "      <th>count</th>\n",
       "      <th>percent</th>\n",
       "    </tr>\n",
       "    <tr>\n",
       "      <th>Phrase Type</th>\n",
       "      <th></th>\n",
       "      <th></th>\n",
       "    </tr>\n",
       "  </thead>\n",
       "  <tbody>\n",
       "    <tr>\n",
       "      <th>PP</th>\n",
       "      <td>8</td>\n",
       "      <td>57%</td>\n",
       "    </tr>\n",
       "    <tr>\n",
       "      <th>NP</th>\n",
       "      <td>6</td>\n",
       "      <td>43%</td>\n",
       "    </tr>\n",
       "  </tbody>\n",
       "</table>\n",
       "</div>"
      ],
      "text/plain": [
       "             count percent\n",
       "Phrase Type               \n",
       "PP               8     57%\n",
       "NP               6     43%"
      ]
     },
     "metadata": {},
     "output_type": "display_data"
    },
    {
     "name": "stdout",
     "output_type": "stream",
     "text": [
      "--------------------\n",
      "dist_fut\n",
      "distfut_phtype_ct\n"
     ]
    },
    {
     "data": {
      "text/html": [
       "<div>\n",
       "<style scoped>\n",
       "    .dataframe tbody tr th:only-of-type {\n",
       "        vertical-align: middle;\n",
       "    }\n",
       "\n",
       "    .dataframe tbody tr th {\n",
       "        vertical-align: top;\n",
       "    }\n",
       "\n",
       "    .dataframe thead th {\n",
       "        text-align: right;\n",
       "    }\n",
       "</style>\n",
       "<table border=\"1\" class=\"dataframe\">\n",
       "  <thead>\n",
       "    <tr style=\"text-align: right;\">\n",
       "      <th></th>\n",
       "      <th>count</th>\n",
       "      <th>percent</th>\n",
       "    </tr>\n",
       "    <tr>\n",
       "      <th>Phrase Type</th>\n",
       "      <th></th>\n",
       "      <th></th>\n",
       "    </tr>\n",
       "  </thead>\n",
       "  <tbody>\n",
       "    <tr>\n",
       "      <th>PP</th>\n",
       "      <td>6</td>\n",
       "      <td>100%</td>\n",
       "    </tr>\n",
       "  </tbody>\n",
       "</table>\n",
       "</div>"
      ],
      "text/plain": [
       "             count percent\n",
       "Phrase Type               \n",
       "PP               6    100%"
      ]
     },
     "metadata": {},
     "output_type": "display_data"
    },
    {
     "name": "stdout",
     "output_type": "stream",
     "text": [
      "--------------------\n",
      "dist_past\n",
      "distpast_phtype_ct\n"
     ]
    },
    {
     "data": {
      "text/html": [
       "<div>\n",
       "<style scoped>\n",
       "    .dataframe tbody tr th:only-of-type {\n",
       "        vertical-align: middle;\n",
       "    }\n",
       "\n",
       "    .dataframe tbody tr th {\n",
       "        vertical-align: top;\n",
       "    }\n",
       "\n",
       "    .dataframe thead th {\n",
       "        text-align: right;\n",
       "    }\n",
       "</style>\n",
       "<table border=\"1\" class=\"dataframe\">\n",
       "  <thead>\n",
       "    <tr style=\"text-align: right;\">\n",
       "      <th></th>\n",
       "      <th>count</th>\n",
       "      <th>percent</th>\n",
       "    </tr>\n",
       "    <tr>\n",
       "      <th>Phrase Type</th>\n",
       "      <th></th>\n",
       "      <th></th>\n",
       "    </tr>\n",
       "  </thead>\n",
       "  <tbody>\n",
       "    <tr>\n",
       "      <th>NP</th>\n",
       "      <td>3</td>\n",
       "      <td>100%</td>\n",
       "    </tr>\n",
       "  </tbody>\n",
       "</table>\n",
       "</div>"
      ],
      "text/plain": [
       "             count percent\n",
       "Phrase Type               \n",
       "NP               3    100%"
      ]
     },
     "metadata": {},
     "output_type": "display_data"
    },
    {
     "name": "stdout",
     "output_type": "stream",
     "text": [
      "--------------------\n"
     ]
    }
   ],
   "source": [
    "abbrevs = {\n",
    "    'simultaneous': ['sim', 'Simultaneous'],\n",
    "    'anterior_dur': ['antdur', 'Anterior Durative'],\n",
    "    'anterior': ['ant', 'Anterior'],\n",
    "    'atelic_ext': ['atel', 'Atelic Extent'],\n",
    "    'habitual': ['hab', 'Habitual'],\n",
    "    'posterior': ['post', 'Posterior'],\n",
    "    'posterior_dur': ['postdur', 'Posterior Durative'],\n",
    "    'telic_ext': ['telic', 'Telic Extent'],    \n",
    "    'dist_fut': ['distfut', 'Distance Future'],  \n",
    "    'dist_past': ['distpast', 'Distance Past'],  \n",
    "    'habitual': ['hab', 'Habitual'],\n",
    "}\n",
    "\n",
    "for function, namedata in abbrevs.items():\n",
    "    abbrev, full = namedata\n",
    "    phtype_cts = pd.DataFrame(\n",
    "        df_main[df_main.function == function]['ph_type'].value_counts()\n",
    "    )\n",
    "    phtype_cts = phtype_cts.rename_axis(index='Phrase Type').set_axis(['count'], 1)\n",
    "    phtype_prs = phtype_cts / phtype_cts.sum()\n",
    "    phtype_cp = join_ct_pr(phtype_cts, phtype_prs)\n",
    "    \n",
    "    print(function)\n",
    "    tablename = f'{abbrev}_phtype_ct'\n",
    "    print(tablename)\n",
    "    display(\n",
    "        out.table(\n",
    "            phtype_cp,\n",
    "            tablename,\n",
    "            caption=f'Attested {full} Phrase Types in Sample',\n",
    "        )\n",
    "    )\n",
    "    print('-'*20)"
   ]
  },
  {
   "cell_type": "markdown",
   "metadata": {},
   "source": [
    "## Examples for Simultaneous"
   ]
  },
  {
   "cell_type": "code",
   "execution_count": 39,
   "metadata": {},
   "outputs": [
    {
     "data": {
      "text/plain": [
       "'42'"
      ]
     },
     "execution_count": 39,
     "metadata": {},
     "output_type": "execute_result"
    }
   ],
   "source": [
    "simul_L = simdf[simdf.front == 'ל']\n",
    "\n",
    "out.number(\n",
    "    simul_L.shape[0],\n",
    "    'n_simul_L'\n",
    ")"
   ]
  },
  {
   "cell_type": "code",
   "execution_count": 40,
   "metadata": {},
   "outputs": [
    {
     "name": "stdout",
     "output_type": "stream",
     "text": [
      "showing 25 of 42\n"
     ]
    },
    {
     "data": {
      "text/html": [
       "<style  type=\"text/css\" >\n",
       "#T_2bda2_row0_col1,#T_2bda2_row1_col1,#T_2bda2_row2_col1,#T_2bda2_row3_col1,#T_2bda2_row4_col1,#T_2bda2_row5_col1,#T_2bda2_row6_col1,#T_2bda2_row7_col1,#T_2bda2_row8_col1,#T_2bda2_row9_col1,#T_2bda2_row10_col1,#T_2bda2_row11_col1,#T_2bda2_row12_col1,#T_2bda2_row13_col1,#T_2bda2_row14_col1,#T_2bda2_row15_col1,#T_2bda2_row16_col1,#T_2bda2_row17_col1,#T_2bda2_row18_col1,#T_2bda2_row19_col1,#T_2bda2_row20_col1,#T_2bda2_row21_col1,#T_2bda2_row22_col1,#T_2bda2_row23_col1,#T_2bda2_row24_col1{\n",
       "            font-size: 20px;\n",
       "             font-family:  Times New Roman;\n",
       "             text-align:  right;\n",
       "             max-width:  500px;\n",
       "        }</style><table id=\"T_2bda2_\" ><thead>    <tr>        <th class=\"blank level0\" ></th>        <th class=\"col_heading level0 col0\" >verse</th>        <th class=\"col_heading level0 col1\" >clause</th>        <th class=\"col_heading level0 col2\" >front</th>    </tr>    <tr>        <th class=\"index_name level0\" >node</th>        <th class=\"blank\" ></th>        <th class=\"blank\" ></th>        <th class=\"blank\" ></th>    </tr></thead><tbody>\n",
       "                <tr>\n",
       "                        <th id=\"T_2bda2_level0_row0\" class=\"row_heading level0 row0\" >427805</th>\n",
       "                        <td id=\"T_2bda2_row0_col0\" class=\"data row0 col0\" >Genesis 3:8</td>\n",
       "                        <td id=\"T_2bda2_row0_col1\" class=\"data row0 col1\" >מִתְהַלֵּ֥ךְ בַּגָּ֖ן לְר֣וּחַ הַיֹּ֑ום </td>\n",
       "                        <td id=\"T_2bda2_row0_col2\" class=\"data row0 col2\" >ל</td>\n",
       "            </tr>\n",
       "            <tr>\n",
       "                        <th id=\"T_2bda2_level0_row1\" class=\"row_heading level0 row1\" >428223</th>\n",
       "                        <td id=\"T_2bda2_row1_col0\" class=\"data row1 col0\" >Genesis 8:11</td>\n",
       "                        <td id=\"T_2bda2_row1_col1\" class=\"data row1 col1\" >וַתָּבֹ֨א אֵלָ֤יו הַיֹּונָה֙ לְעֵ֣ת עֶ֔רֶב </td>\n",
       "                        <td id=\"T_2bda2_row1_col2\" class=\"data row1 col2\" >ל</td>\n",
       "            </tr>\n",
       "            <tr>\n",
       "                        <th id=\"T_2bda2_level0_row2\" class=\"row_heading level0 row2\" >429008</th>\n",
       "                        <td id=\"T_2bda2_row2_col0\" class=\"data row2 col0\" >Genesis 18:14</td>\n",
       "                        <td id=\"T_2bda2_row2_col1\" class=\"data row2 col1\" >לַמֹּועֵ֞ד אָשׁ֥וּב אֵלֶ֛יךָ כָּעֵ֥ת חַיָּ֖ה </td>\n",
       "                        <td id=\"T_2bda2_row2_col2\" class=\"data row2 col2\" >ל</td>\n",
       "            </tr>\n",
       "            <tr>\n",
       "                        <th id=\"T_2bda2_level0_row3\" class=\"row_heading level0 row3\" >430522</th>\n",
       "                        <td id=\"T_2bda2_row3_col0\" class=\"data row3 col0\" >Genesis 28:19</td>\n",
       "                        <td id=\"T_2bda2_row3_col1\" class=\"data row3 col1\" >וְאוּלָ֛ם ל֥וּז שֵׁם־הָעִ֖יר לָרִאשֹׁנָֽה׃ </td>\n",
       "                        <td id=\"T_2bda2_row3_col2\" class=\"data row3 col2\" >ל</td>\n",
       "            </tr>\n",
       "            <tr>\n",
       "                        <th id=\"T_2bda2_level0_row4\" class=\"row_heading level0 row4\" >433410</th>\n",
       "                        <td id=\"T_2bda2_row4_col0\" class=\"data row4 col0\" >Genesis 49:27</td>\n",
       "                        <td id=\"T_2bda2_row4_col1\" class=\"data row4 col1\" >וְלָעֶ֖רֶב יְחַלֵּ֥ק שָׁלָֽל׃ </td>\n",
       "                        <td id=\"T_2bda2_row4_col2\" class=\"data row4 col2\" >ל</td>\n",
       "            </tr>\n",
       "            <tr>\n",
       "                        <th id=\"T_2bda2_level0_row5\" class=\"row_heading level0 row5\" >434331</th>\n",
       "                        <td id=\"T_2bda2_row5_col0\" class=\"data row5 col0\" >Exodus 8:6</td>\n",
       "                        <td id=\"T_2bda2_row5_col1\" class=\"data row5 col1\" >לְמָחָ֑ר </td>\n",
       "                        <td id=\"T_2bda2_row5_col2\" class=\"data row5 col2\" >ל</td>\n",
       "            </tr>\n",
       "            <tr>\n",
       "                        <th id=\"T_2bda2_level0_row6\" class=\"row_heading level0 row6\" >437249</th>\n",
       "                        <td id=\"T_2bda2_row6_col0\" class=\"data row6 col0\" >Exodus 34:18</td>\n",
       "                        <td id=\"T_2bda2_row6_col1\" class=\"data row6 col1\" >אֲשֶׁ֣ר צִוִּיתִ֔ךָ לְמֹועֵ֖ד חֹ֣דֶשׁ הָאָבִ֑יב </td>\n",
       "                        <td id=\"T_2bda2_row6_col2\" class=\"data row6 col2\" >ל</td>\n",
       "            </tr>\n",
       "            <tr>\n",
       "                        <th id=\"T_2bda2_level0_row7\" class=\"row_heading level0 row7\" >458967</th>\n",
       "                        <td id=\"T_2bda2_row7_col0\" class=\"data row7 col0\" >2_Samuel 11:2</td>\n",
       "                        <td id=\"T_2bda2_row7_col1\" class=\"data row7 col1\" >וַיְהִ֣י׀ לְעֵ֣ת הָעֶ֗רֶב </td>\n",
       "                        <td id=\"T_2bda2_row7_col2\" class=\"data row7 col2\" >ל</td>\n",
       "            </tr>\n",
       "            <tr>\n",
       "                        <th id=\"T_2bda2_level0_row8\" class=\"row_heading level0 row8\" >463418</th>\n",
       "                        <td id=\"T_2bda2_row8_col0\" class=\"data row8 col0\" >1_Kings 15:23</td>\n",
       "                        <td id=\"T_2bda2_row8_col1\" class=\"data row8 col1\" >רַ֚ק לְעֵ֣ת זִקְנָתֹ֔ו חָלָ֖ה אֶת־רַגְלָֽיו׃ </td>\n",
       "                        <td id=\"T_2bda2_row8_col2\" class=\"data row8 col2\" >ל</td>\n",
       "            </tr>\n",
       "            <tr>\n",
       "                        <th id=\"T_2bda2_level0_row9\" class=\"row_heading level0 row9\" >464229</th>\n",
       "                        <td id=\"T_2bda2_row9_col0\" class=\"data row9 col0\" >1_Kings 20:26</td>\n",
       "                        <td id=\"T_2bda2_row9_col1\" class=\"data row9 col1\" >וַֽיְהִי֙ לִתְשׁוּבַ֣ת הַשָּׁנָ֔ה </td>\n",
       "                        <td id=\"T_2bda2_row9_col2\" class=\"data row9 col2\" >ל</td>\n",
       "            </tr>\n",
       "            <tr>\n",
       "                        <th id=\"T_2bda2_level0_row10\" class=\"row_heading level0 row10\" >465226</th>\n",
       "                        <td id=\"T_2bda2_row10_col0\" class=\"data row10 col0\" >2_Kings 4:17</td>\n",
       "                        <td id=\"T_2bda2_row10_col1\" class=\"data row10 col1\" >וַתֵּ֣לֶד בֵּ֑ן לַמֹּועֵ֤ד הַזֶּה֙ כָּעֵ֣ת חַיָּ֔ה </td>\n",
       "                        <td id=\"T_2bda2_row10_col2\" class=\"data row10 col2\" >ל</td>\n",
       "            </tr>\n",
       "            <tr>\n",
       "                        <th id=\"T_2bda2_level0_row11\" class=\"row_heading level0 row11\" >468896</th>\n",
       "                        <td id=\"T_2bda2_row11_col0\" class=\"data row11 col0\" >Isaiah 10:3</td>\n",
       "                        <td id=\"T_2bda2_row11_col1\" class=\"data row11 col1\" >וּמַֽה־תַּעֲשׂוּ֙ לְיֹ֣ום פְּקֻדָּ֔ה </td>\n",
       "                        <td id=\"T_2bda2_row11_col2\" class=\"data row11 col2\" >ל</td>\n",
       "            </tr>\n",
       "            <tr>\n",
       "                        <th id=\"T_2bda2_level0_row12\" class=\"row_heading level0 row12\" >486026</th>\n",
       "                        <td id=\"T_2bda2_row12_col0\" class=\"data row12 col0\" >Hosea 9:5</td>\n",
       "                        <td id=\"T_2bda2_row12_col1\" class=\"data row12 col1\" >מַֽה־תַּעֲשׂ֖וּ לְיֹ֣ום מֹועֵ֑ד </td>\n",
       "                        <td id=\"T_2bda2_row12_col2\" class=\"data row12 col2\" >ל</td>\n",
       "            </tr>\n",
       "            <tr>\n",
       "                        <th id=\"T_2bda2_level0_row13\" class=\"row_heading level0 row13\" >487600</th>\n",
       "                        <td id=\"T_2bda2_row13_col0\" class=\"data row13 col0\" >Jonah 4:7</td>\n",
       "                        <td id=\"T_2bda2_row13_col1\" class=\"data row13 col1\" >בַּעֲלֹ֥ות הַשַּׁ֖חַר לַֽמָּחֳרָ֑ת </td>\n",
       "                        <td id=\"T_2bda2_row13_col2\" class=\"data row13 col2\" >ל</td>\n",
       "            </tr>\n",
       "            <tr>\n",
       "                        <th id=\"T_2bda2_level0_row14\" class=\"row_heading level0 row14\" >489875</th>\n",
       "                        <td id=\"T_2bda2_row14_col0\" class=\"data row14 col0\" >Zechariah 14:7</td>\n",
       "                        <td id=\"T_2bda2_row14_col1\" class=\"data row14 col1\" >לְעֵֽת־עֶ֖רֶב יִֽהְיֶה־אֹֽור׃ </td>\n",
       "                        <td id=\"T_2bda2_row14_col2\" class=\"data row14 col2\" >ל</td>\n",
       "            </tr>\n",
       "            <tr>\n",
       "                        <th id=\"T_2bda2_level0_row15\" class=\"row_heading level0 row15\" >490557</th>\n",
       "                        <td id=\"T_2bda2_row15_col0\" class=\"data row15 col0\" >Psalms 10:1</td>\n",
       "                        <td id=\"T_2bda2_row15_col1\" class=\"data row15 col1\" >תַּ֝עְלִ֗ים לְעִתֹּ֥ות בַּצָּרָֽה׃ </td>\n",
       "                        <td id=\"T_2bda2_row15_col2\" class=\"data row15 col2\" >ל</td>\n",
       "            </tr>\n",
       "            <tr>\n",
       "                        <th id=\"T_2bda2_level0_row16\" class=\"row_heading level0 row16\" >492546</th>\n",
       "                        <td id=\"T_2bda2_row16_col0\" class=\"data row16 col0\" >Psalms 49:15</td>\n",
       "                        <td id=\"T_2bda2_row16_col1\" class=\"data row16 col1\" >וַיִּרְדּ֘וּ בָ֤ם יְשָׁרִ֨ים׀ לַבֹּ֗קֶר </td>\n",
       "                        <td id=\"T_2bda2_row16_col2\" class=\"data row16 col2\" >ל</td>\n",
       "            </tr>\n",
       "            <tr>\n",
       "                        <th id=\"T_2bda2_level0_row17\" class=\"row_heading level0 row17\" >494780</th>\n",
       "                        <td id=\"T_2bda2_row17_col0\" class=\"data row17 col0\" >Psalms 90:6</td>\n",
       "                        <td id=\"T_2bda2_row17_col1\" class=\"data row17 col1\" >לָ֝עֶ֗רֶב יְמֹולֵ֥ל </td>\n",
       "                        <td id=\"T_2bda2_row17_col2\" class=\"data row17 col2\" >ל</td>\n",
       "            </tr>\n",
       "            <tr>\n",
       "                        <th id=\"T_2bda2_level0_row18\" class=\"row_heading level0 row18\" >498980</th>\n",
       "                        <td id=\"T_2bda2_row18_col0\" class=\"data row18 col0\" >Job 21:30</td>\n",
       "                        <td id=\"T_2bda2_row18_col1\" class=\"data row18 col1\" >כִּ֤י לְיֹ֣ום אֵ֭יד יֵחָ֣שֶׂךְ רָ֑ע </td>\n",
       "                        <td id=\"T_2bda2_row18_col2\" class=\"data row18 col2\" >ל</td>\n",
       "            </tr>\n",
       "            <tr>\n",
       "                        <th id=\"T_2bda2_level0_row19\" class=\"row_heading level0 row19\" >500932</th>\n",
       "                        <td id=\"T_2bda2_row19_col0\" class=\"data row19 col0\" >Proverbs 7:20</td>\n",
       "                        <td id=\"T_2bda2_row19_col1\" class=\"data row19 col1\" >לְיֹ֥ום הַ֝כֵּ֗סֶא יָבֹ֥א בֵיתֹֽו׃ </td>\n",
       "                        <td id=\"T_2bda2_row19_col2\" class=\"data row19 col2\" >ל</td>\n",
       "            </tr>\n",
       "            <tr>\n",
       "                        <th id=\"T_2bda2_level0_row20\" class=\"row_heading level0 row20\" >504653</th>\n",
       "                        <td id=\"T_2bda2_row20_col0\" class=\"data row20 col0\" >Ecclesiastes 11:6</td>\n",
       "                        <td id=\"T_2bda2_row20_col1\" class=\"data row20 col1\" >וְלָעֶ֖רֶב אַל־תַּנַּ֣ח יָדֶ֑ךָ </td>\n",
       "                        <td id=\"T_2bda2_row20_col2\" class=\"data row20 col2\" >ל</td>\n",
       "            </tr>\n",
       "            <tr>\n",
       "                        <th id=\"T_2bda2_level0_row21\" class=\"row_heading level0 row21\" >505645</th>\n",
       "                        <td id=\"T_2bda2_row21_col0\" class=\"data row21 col0\" >Esther 5:12</td>\n",
       "                        <td id=\"T_2bda2_row21_col1\" class=\"data row21 col1\" >וְגַם־לְמָחָ֛ר אֲנִ֥י קָֽרוּא־לָ֖הּ עִם־הַמֶּֽלֶךְ׃ </td>\n",
       "                        <td id=\"T_2bda2_row21_col2\" class=\"data row21 col2\" >ל</td>\n",
       "            </tr>\n",
       "            <tr>\n",
       "                        <th id=\"T_2bda2_level0_row22\" class=\"row_heading level0 row22\" >512332</th>\n",
       "                        <td id=\"T_2bda2_row22_col0\" class=\"data row22 col0\" >1_Chronicles 29:21</td>\n",
       "                        <td id=\"T_2bda2_row22_col1\" class=\"data row22 col1\" >וַיַּעֲל֨וּ עֹלֹ֜ות לַיהוָ֗ה לְֽמָחֳרַת֮ הַיֹּ֣ום הַהוּא֒ לְכָל־יִשְׂרָאֵֽל׃ </td>\n",
       "                        <td id=\"T_2bda2_row22_col2\" class=\"data row22 col2\" >ל</td>\n",
       "            </tr>\n",
       "            <tr>\n",
       "                        <th id=\"T_2bda2_level0_row23\" class=\"row_heading level0 row23\" >514393</th>\n",
       "                        <td id=\"T_2bda2_row23_col0\" class=\"data row23 col0\" >2_Chronicles 24:23</td>\n",
       "                        <td id=\"T_2bda2_row23_col1\" class=\"data row23 col1\" >וַיְהִ֣י׀ לִתְקוּפַ֣ת הַשָּׁנָ֗ה </td>\n",
       "                        <td id=\"T_2bda2_row23_col2\" class=\"data row23 col2\" >ל</td>\n",
       "            </tr>\n",
       "            <tr>\n",
       "                        <th id=\"T_2bda2_level0_row24\" class=\"row_heading level0 row24\" >515619</th>\n",
       "                        <td id=\"T_2bda2_row24_col0\" class=\"data row24 col0\" >2_Chronicles 36:10</td>\n",
       "                        <td id=\"T_2bda2_row24_col1\" class=\"data row24 col1\" >וְלִתְשׁוּבַ֣ת הַשָּׁנָ֗ה שָׁלַח֙ הַמֶּ֣לֶךְ נְבֽוּכַדְנֶאצַּ֔ר </td>\n",
       "                        <td id=\"T_2bda2_row24_col2\" class=\"data row24 col2\" >ל</td>\n",
       "            </tr>\n",
       "    </tbody></table>"
      ],
      "text/plain": [
       "<pandas.io.formats.style.Styler at 0x7ffcfc6a7e80>"
      ]
     },
     "execution_count": 40,
     "metadata": {},
     "output_type": "execute_result"
    }
   ],
   "source": [
    "ts.show(simul_L, extra=['front'])"
   ]
  },
  {
   "cell_type": "code",
   "execution_count": 41,
   "metadata": {},
   "outputs": [
    {
     "data": {
      "text/html": [
       "<div>\n",
       "<style scoped>\n",
       "    .dataframe tbody tr th:only-of-type {\n",
       "        vertical-align: middle;\n",
       "    }\n",
       "\n",
       "    .dataframe tbody tr th {\n",
       "        vertical-align: top;\n",
       "    }\n",
       "\n",
       "    .dataframe thead th {\n",
       "        text-align: right;\n",
       "    }\n",
       "</style>\n",
       "<table border=\"1\" class=\"dataframe\">\n",
       "  <thead>\n",
       "    <tr style=\"text-align: right;\">\n",
       "      <th></th>\n",
       "      <th>count</th>\n",
       "      <th>percent</th>\n",
       "    </tr>\n",
       "  </thead>\n",
       "  <tbody>\n",
       "    <tr>\n",
       "      <th>עת</th>\n",
       "      <td>10</td>\n",
       "      <td>24%</td>\n",
       "    </tr>\n",
       "    <tr>\n",
       "      <th>יום</th>\n",
       "      <td>8</td>\n",
       "      <td>19%</td>\n",
       "    </tr>\n",
       "    <tr>\n",
       "      <th>מועד</th>\n",
       "      <td>7</td>\n",
       "      <td>17%</td>\n",
       "    </tr>\n",
       "    <tr>\n",
       "      <th>ערב</th>\n",
       "      <td>3</td>\n",
       "      <td>7%</td>\n",
       "    </tr>\n",
       "    <tr>\n",
       "      <th>תשׁובה</th>\n",
       "      <td>3</td>\n",
       "      <td>7%</td>\n",
       "    </tr>\n",
       "    <tr>\n",
       "      <th>מחר</th>\n",
       "      <td>3</td>\n",
       "      <td>7%</td>\n",
       "    </tr>\n",
       "    <tr>\n",
       "      <th>מחרת</th>\n",
       "      <td>2</td>\n",
       "      <td>5%</td>\n",
       "    </tr>\n",
       "    <tr>\n",
       "      <th>בקר</th>\n",
       "      <td>1</td>\n",
       "      <td>2%</td>\n",
       "    </tr>\n",
       "    <tr>\n",
       "      <th>רוח</th>\n",
       "      <td>1</td>\n",
       "      <td>2%</td>\n",
       "    </tr>\n",
       "    <tr>\n",
       "      <th>תקופה</th>\n",
       "      <td>1</td>\n",
       "      <td>2%</td>\n",
       "    </tr>\n",
       "    <tr>\n",
       "      <th>ראשׁון</th>\n",
       "      <td>1</td>\n",
       "      <td>2%</td>\n",
       "    </tr>\n",
       "    <tr>\n",
       "      <th>מתי</th>\n",
       "      <td>1</td>\n",
       "      <td>2%</td>\n",
       "    </tr>\n",
       "    <tr>\n",
       "      <th>אחרית</th>\n",
       "      <td>1</td>\n",
       "      <td>2%</td>\n",
       "    </tr>\n",
       "  </tbody>\n",
       "</table>\n",
       "</div>"
      ],
      "text/plain": [
       "        count percent\n",
       "עת         10     24%\n",
       "יום         8     19%\n",
       "מועד        7     17%\n",
       "ערב         3      7%\n",
       "תשׁובה      3      7%\n",
       "מחר         3      7%\n",
       "מחרת        2      5%\n",
       "בקר         1      2%\n",
       "רוח         1      2%\n",
       "תקופה       1      2%\n",
       "ראשׁון      1      2%\n",
       "מתי         1      2%\n",
       "אחרית       1      2%"
      ]
     },
     "execution_count": 41,
     "metadata": {},
     "output_type": "execute_result"
    }
   ],
   "source": [
    "siml_head_ct = simul_L.head_utf8.value_counts()\n",
    "siml_head_pr = siml_head_ct / siml_head_ct.sum()\n",
    "siml_head_cp = join_ct_pr(siml_head_ct, siml_head_pr)\n",
    "\n",
    "out.table(\n",
    "    siml_head_cp,\n",
    "    'siml_head_cp', \n",
    "    caption='Semantic Heads of Simultaneous \\texthebrew{לְ} Adverbials',\n",
    ")"
   ]
  },
  {
   "cell_type": "code",
   "execution_count": 42,
   "metadata": {},
   "outputs": [
    {
     "name": "stdout",
     "output_type": "stream",
     "text": [
      "showing 8 of 8\n"
     ]
    },
    {
     "data": {
      "text/html": [
       "<style  type=\"text/css\" >\n",
       "#T_e4f0f_row0_col1,#T_e4f0f_row1_col1,#T_e4f0f_row2_col1,#T_e4f0f_row3_col1,#T_e4f0f_row4_col1,#T_e4f0f_row5_col1,#T_e4f0f_row6_col1,#T_e4f0f_row7_col1{\n",
       "            font-size: 20px;\n",
       "             font-family:  Times New Roman;\n",
       "             text-align:  right;\n",
       "             max-width:  500px;\n",
       "        }</style><table id=\"T_e4f0f_\" ><thead>    <tr>        <th class=\"blank level0\" ></th>        <th class=\"col_heading level0 col0\" >verse</th>        <th class=\"col_heading level0 col1\" >clause</th>    </tr>    <tr>        <th class=\"index_name level0\" >node</th>        <th class=\"blank\" ></th>        <th class=\"blank\" ></th>    </tr></thead><tbody>\n",
       "                <tr>\n",
       "                        <th id=\"T_e4f0f_level0_row0\" class=\"row_heading level0 row0\" >428156</th>\n",
       "                        <td id=\"T_e4f0f_row0_col0\" class=\"data row0 col0\" >Genesis 7:10</td>\n",
       "                        <td id=\"T_e4f0f_row0_col1\" class=\"data row0 col1\" >וַֽיְהִ֖י לְשִׁבְעַ֣ת הַיָּמִ֑ים </td>\n",
       "            </tr>\n",
       "            <tr>\n",
       "                        <th id=\"T_e4f0f_level0_row1\" class=\"row_heading level0 row1\" >468896</th>\n",
       "                        <td id=\"T_e4f0f_row1_col0\" class=\"data row1 col0\" >Isaiah 10:3</td>\n",
       "                        <td id=\"T_e4f0f_row1_col1\" class=\"data row1 col1\" >וּמַֽה־תַּעֲשׂוּ֙ לְיֹ֣ום פְּקֻדָּ֔ה </td>\n",
       "            </tr>\n",
       "            <tr>\n",
       "                        <th id=\"T_e4f0f_level0_row2\" class=\"row_heading level0 row2\" >486026</th>\n",
       "                        <td id=\"T_e4f0f_row2_col0\" class=\"data row2 col0\" >Hosea 9:5</td>\n",
       "                        <td id=\"T_e4f0f_row2_col1\" class=\"data row2 col1\" >מַֽה־תַּעֲשׂ֖וּ לְיֹ֣ום מֹועֵ֑ד </td>\n",
       "            </tr>\n",
       "            <tr>\n",
       "                        <th id=\"T_e4f0f_level0_row3\" class=\"row_heading level0 row3\" >486027</th>\n",
       "                        <td id=\"T_e4f0f_row3_col0\" class=\"data row3 col0\" >Hosea 9:5</td>\n",
       "                        <td id=\"T_e4f0f_row3_col1\" class=\"data row3 col1\" >וּלְיֹ֖ום חַג־יְהוָֽה׃ </td>\n",
       "            </tr>\n",
       "            <tr>\n",
       "                        <th id=\"T_e4f0f_level0_row4\" class=\"row_heading level0 row4\" >490180</th>\n",
       "                        <td id=\"T_e4f0f_row4_col0\" class=\"data row4 col0\" >Malachi 3:17</td>\n",
       "                        <td id=\"T_e4f0f_row4_col1\" class=\"data row4 col1\" >וְהָ֣יוּ לִ֗י לַיֹּ֕ום סְגֻלָּ֑ה </td>\n",
       "            </tr>\n",
       "            <tr>\n",
       "                        <th id=\"T_e4f0f_level0_row5\" class=\"row_heading level0 row5\" >498980</th>\n",
       "                        <td id=\"T_e4f0f_row5_col0\" class=\"data row5 col0\" >Job 21:30</td>\n",
       "                        <td id=\"T_e4f0f_row5_col1\" class=\"data row5 col1\" >כִּ֤י לְיֹ֣ום אֵ֭יד יֵחָ֣שֶׂךְ רָ֑ע </td>\n",
       "            </tr>\n",
       "            <tr>\n",
       "                        <th id=\"T_e4f0f_level0_row6\" class=\"row_heading level0 row6\" >498981</th>\n",
       "                        <td id=\"T_e4f0f_row6_col0\" class=\"data row6 col0\" >Job 21:30</td>\n",
       "                        <td id=\"T_e4f0f_row6_col1\" class=\"data row6 col1\" >לְיֹ֖ום עֲבָרֹ֣ות יוּבָֽלוּ׃ </td>\n",
       "            </tr>\n",
       "            <tr>\n",
       "                        <th id=\"T_e4f0f_level0_row7\" class=\"row_heading level0 row7\" >500932</th>\n",
       "                        <td id=\"T_e4f0f_row7_col0\" class=\"data row7 col0\" >Proverbs 7:20</td>\n",
       "                        <td id=\"T_e4f0f_row7_col1\" class=\"data row7 col1\" >לְיֹ֥ום הַ֝כֵּ֗סֶא יָבֹ֥א בֵיתֹֽו׃ </td>\n",
       "            </tr>\n",
       "    </tbody></table>"
      ],
      "text/plain": [
       "<pandas.io.formats.style.Styler at 0x7ffcfc6ced90>"
      ]
     },
     "execution_count": 42,
     "metadata": {},
     "output_type": "execute_result"
    }
   ],
   "source": [
    "ts.show(\n",
    "    simul_L[simul_L.head_utf8 == 'יום']\n",
    ")"
   ]
  },
  {
   "cell_type": "markdown",
   "metadata": {},
   "source": [
    "**<L**"
   ]
  },
  {
   "cell_type": "code",
   "execution_count": 43,
   "metadata": {},
   "outputs": [
    {
     "name": "stdout",
     "output_type": "stream",
     "text": [
      "showing 2 of 2\n"
     ]
    },
    {
     "data": {
      "text/html": [
       "<style  type=\"text/css\" >\n",
       "#T_8acc3_row0_col1,#T_8acc3_row1_col1{\n",
       "            font-size: 20px;\n",
       "             font-family:  Times New Roman;\n",
       "             text-align:  right;\n",
       "             max-width:  500px;\n",
       "        }</style><table id=\"T_8acc3_\" ><thead>    <tr>        <th class=\"blank level0\" ></th>        <th class=\"col_heading level0 col0\" >verse</th>        <th class=\"col_heading level0 col1\" >clause</th>    </tr>    <tr>        <th class=\"index_name level0\" >node</th>        <th class=\"blank\" ></th>        <th class=\"blank\" ></th>    </tr></thead><tbody>\n",
       "                <tr>\n",
       "                        <th id=\"T_8acc3_level0_row0\" class=\"row_heading level0 row0\" >457163</th>\n",
       "                        <td id=\"T_8acc3_row0_col0\" class=\"data row0 col0\" >1_Samuel 25:8</td>\n",
       "                        <td id=\"T_8acc3_row0_col1\" class=\"data row0 col1\" >כִּֽי־עַל־יֹ֥ום טֹ֖וב בָּ֑נוּ </td>\n",
       "            </tr>\n",
       "            <tr>\n",
       "                        <th id=\"T_8acc3_level0_row1\" class=\"row_heading level0 row1\" >509657</th>\n",
       "                        <td id=\"T_8acc3_row1_col0\" class=\"data row1 col0\" >Nehemiah 12:22</td>\n",
       "                        <td id=\"T_8acc3_row1_col1\" class=\"data row1 col1\" >וְהַכֹּ֣הֲנִ֔ים עַל־מַלְכ֖וּת דָּרְיָ֥וֶשׁ הַפָּֽרְסִֽי׃ פ </td>\n",
       "            </tr>\n",
       "    </tbody></table>"
      ],
      "text/plain": [
       "<pandas.io.formats.style.Styler at 0x7ffcfc6beca0>"
      ]
     },
     "execution_count": 43,
     "metadata": {},
     "output_type": "execute_result"
    }
   ],
   "source": [
    "ts.show(\n",
    "    simdf[simdf.front == 'על']\n",
    ")"
   ]
  },
  {
   "cell_type": "code",
   "execution_count": 44,
   "metadata": {},
   "outputs": [
    {
     "name": "stdout",
     "output_type": "stream",
     "text": [
      "showing 1 of 1\n"
     ]
    },
    {
     "data": {
      "text/html": [
       "<style  type=\"text/css\" >\n",
       "#T_2eb88_row0_col1{\n",
       "            font-size: 20px;\n",
       "             font-family:  Times New Roman;\n",
       "             text-align:  right;\n",
       "             max-width:  500px;\n",
       "        }</style><table id=\"T_2eb88_\" ><thead>    <tr>        <th class=\"blank level0\" ></th>        <th class=\"col_heading level0 col0\" >verse</th>        <th class=\"col_heading level0 col1\" >clause</th>    </tr>    <tr>        <th class=\"index_name level0\" >node</th>        <th class=\"blank\" ></th>        <th class=\"blank\" ></th>    </tr></thead><tbody>\n",
       "                <tr>\n",
       "                        <th id=\"T_2eb88_level0_row0\" class=\"row_heading level0 row0\" >460937</th>\n",
       "                        <td id=\"T_2eb88_row0_col0\" class=\"data row0 col0\" >2_Samuel 23:13</td>\n",
       "                        <td id=\"T_2eb88_row0_col1\" class=\"data row0 col1\" >וַיָּבֹ֤אוּ אֶל־קָצִיר֙ אֶל־דָּוִ֔ד אֶל־מְעָרַ֖ת עֲדֻלָּ֑ם </td>\n",
       "            </tr>\n",
       "    </tbody></table>"
      ],
      "text/plain": [
       "<pandas.io.formats.style.Styler at 0x7ffcfc6d0b20>"
      ]
     },
     "execution_count": 44,
     "metadata": {},
     "output_type": "execute_result"
    }
   ],
   "source": [
    "ts.show(\n",
    "    simdf[simdf.front == 'אל']\n",
    ")"
   ]
  },
  {
   "cell_type": "code",
   "execution_count": 45,
   "metadata": {},
   "outputs": [
    {
     "name": "stdout",
     "output_type": "stream",
     "text": [
      "showing 1 of 1\n"
     ]
    },
    {
     "data": {
      "text/html": [
       "<style  type=\"text/css\" >\n",
       "#T_18cfa_row0_col1{\n",
       "            font-size: 20px;\n",
       "             font-family:  Times New Roman;\n",
       "             text-align:  right;\n",
       "             max-width:  500px;\n",
       "        }</style><table id=\"T_18cfa_\" ><thead>    <tr>        <th class=\"blank level0\" ></th>        <th class=\"col_heading level0 col0\" >verse</th>        <th class=\"col_heading level0 col1\" >clause</th>    </tr>    <tr>        <th class=\"index_name level0\" >node</th>        <th class=\"blank\" ></th>        <th class=\"blank\" ></th>    </tr></thead><tbody>\n",
       "                <tr>\n",
       "                        <th id=\"T_18cfa_level0_row0\" class=\"row_heading level0 row0\" >472789</th>\n",
       "                        <td id=\"T_18cfa_row0_col0\" class=\"data row0 col0\" >Isaiah 54:8</td>\n",
       "                        <td id=\"T_18cfa_row0_col1\" class=\"data row0 col1\" >בְּשֶׁ֣צֶף קֶ֗צֶף הִסְתַּ֨רְתִּי פָנַ֥י רֶ֨גַע֙ מִמֵּ֔ךְ </td>\n",
       "            </tr>\n",
       "    </tbody></table>"
      ],
      "text/plain": [
       "<pandas.io.formats.style.Styler at 0x7ffcfc6d02b0>"
      ]
     },
     "execution_count": 45,
     "metadata": {},
     "output_type": "execute_result"
    }
   ],
   "source": [
    "ts.show(\n",
    "    simdf[simdf.front == 'רגע']\n",
    ")"
   ]
  },
  {
   "cell_type": "code",
   "execution_count": 46,
   "metadata": {},
   "outputs": [
    {
     "name": "stdout",
     "output_type": "stream",
     "text": [
      "showing 9 of 9\n"
     ]
    },
    {
     "data": {
      "text/html": [
       "<style  type=\"text/css\" >\n",
       "#T_fa2f9_row0_col1,#T_fa2f9_row1_col1,#T_fa2f9_row2_col1,#T_fa2f9_row3_col1,#T_fa2f9_row4_col1,#T_fa2f9_row5_col1,#T_fa2f9_row6_col1,#T_fa2f9_row7_col1,#T_fa2f9_row8_col1{\n",
       "            font-size: 20px;\n",
       "             font-family:  Times New Roman;\n",
       "             text-align:  right;\n",
       "             max-width:  500px;\n",
       "        }</style><table id=\"T_fa2f9_\" ><thead>    <tr>        <th class=\"blank level0\" ></th>        <th class=\"col_heading level0 col0\" >verse</th>        <th class=\"col_heading level0 col1\" >clause</th>    </tr>    <tr>        <th class=\"index_name level0\" >node</th>        <th class=\"blank\" ></th>        <th class=\"blank\" ></th>    </tr></thead><tbody>\n",
       "                <tr>\n",
       "                        <th id=\"T_fa2f9_level0_row0\" class=\"row_heading level0 row0\" >451807</th>\n",
       "                        <td id=\"T_fa2f9_row0_col0\" class=\"data row0 col0\" >Judges 6:27</td>\n",
       "                        <td id=\"T_fa2f9_row0_col1\" class=\"data row0 col1\" >מֵעֲשֹׂ֥ות יֹומָ֖ם </td>\n",
       "            </tr>\n",
       "            <tr>\n",
       "                        <th id=\"T_fa2f9_level0_row1\" class=\"row_heading level0 row1\" >451986</th>\n",
       "                        <td id=\"T_fa2f9_row1_col0\" class=\"data row1 col0\" >Judges 7:19</td>\n",
       "                        <td id=\"T_fa2f9_row1_col1\" class=\"data row1 col1\" >וַיָּבֹ֣א גִ֠דְעֹון וּמֵאָה־אִ֨ישׁ בִּקְצֵ֣ה הַֽמַּחֲנֶ֗ה רֹ֚אשׁ הָאַשְׁמֹ֣רֶת הַתִּֽיכֹונָ֔ה </td>\n",
       "            </tr>\n",
       "            <tr>\n",
       "                        <th id=\"T_fa2f9_level0_row2\" class=\"row_heading level0 row2\" >481047</th>\n",
       "                        <td id=\"T_fa2f9_row2_col0\" class=\"data row2 col0\" >Ezekiel 12:7</td>\n",
       "                        <td id=\"T_fa2f9_row2_col1\" class=\"data row2 col1\" >כֵּ֠לַי הֹוצֵ֜אתִי כִּכְלֵ֤י גֹולָה֙ יֹומָ֔ם </td>\n",
       "            </tr>\n",
       "            <tr>\n",
       "                        <th id=\"T_fa2f9_level0_row3\" class=\"row_heading level0 row3\" >491083</th>\n",
       "                        <td id=\"T_fa2f9_row3_col0\" class=\"data row3 col0\" >Psalms 22:3</td>\n",
       "                        <td id=\"T_fa2f9_row3_col1\" class=\"data row3 col1\" >אֶקְרָ֣א יֹ֖ומָם </td>\n",
       "            </tr>\n",
       "            <tr>\n",
       "                        <th id=\"T_fa2f9_level0_row4\" class=\"row_heading level0 row4\" >494828</th>\n",
       "                        <td id=\"T_fa2f9_row4_col0\" class=\"data row4 col0\" >Psalms 91:5</td>\n",
       "                        <td id=\"T_fa2f9_row4_col1\" class=\"data row4 col1\" >יָע֥וּף יֹומָֽם׃ </td>\n",
       "            </tr>\n",
       "            <tr>\n",
       "                        <th id=\"T_fa2f9_level0_row5\" class=\"row_heading level0 row5\" >496291</th>\n",
       "                        <td id=\"T_fa2f9_row5_col0\" class=\"data row5 col0\" >Psalms 119:62</td>\n",
       "                        <td id=\"T_fa2f9_row5_col1\" class=\"data row5 col1\" >חֲצֹֽות־לַ֗יְלָה אָ֭קוּם </td>\n",
       "            </tr>\n",
       "            <tr>\n",
       "                        <th id=\"T_fa2f9_level0_row6\" class=\"row_heading level0 row6\" >496593</th>\n",
       "                        <td id=\"T_fa2f9_row6_col0\" class=\"data row6 col0\" >Psalms 121:6</td>\n",
       "                        <td id=\"T_fa2f9_row6_col1\" class=\"data row6 col1\" >יֹומָ֗ם הַשֶּׁ֥מֶשׁ לֹֽא־יַכֶּ֗כָּה </td>\n",
       "            </tr>\n",
       "            <tr>\n",
       "                        <th id=\"T_fa2f9_level0_row7\" class=\"row_heading level0 row7\" >498816</th>\n",
       "                        <td id=\"T_fa2f9_row7_col0\" class=\"data row7 col0\" >Job 19:25</td>\n",
       "                        <td id=\"T_fa2f9_row7_col1\" class=\"data row7 col1\" >וְ֝אַחֲרֹ֗ון עַל־עָפָ֥ר יָקֽוּם׃ </td>\n",
       "            </tr>\n",
       "            <tr>\n",
       "                        <th id=\"T_fa2f9_level0_row8\" class=\"row_heading level0 row8\" >499821</th>\n",
       "                        <td id=\"T_fa2f9_row8_col0\" class=\"data row8 col0\" >Job 34:20</td>\n",
       "                        <td id=\"T_fa2f9_row8_col1\" class=\"data row8 col1\" >וַחֲצֹ֪ות לָ֥יְלָה יְגֹעֲשׁ֣וּ עָ֣ם </td>\n",
       "            </tr>\n",
       "    </tbody></table>"
      ],
      "text/plain": [
       "<pandas.io.formats.style.Styler at 0x7ffcfcfb86a0>"
      ]
     },
     "execution_count": 46,
     "metadata": {},
     "output_type": "execute_result"
    }
   ],
   "source": [
    "assorted = [\n",
    "    'יומם',\n",
    "    'אחרון',\n",
    "    'ראשׁ', \n",
    "    'חצות',\n",
    "]\n",
    "\n",
    "ts.show(\n",
    "    simdf[simdf.front.isin(assorted)]\n",
    ")"
   ]
  },
  {
   "cell_type": "markdown",
   "metadata": {},
   "source": [
    "# Text Examples"
   ]
  },
  {
   "cell_type": "markdown",
   "metadata": {},
   "source": [
    "## Automatic Examples"
   ]
  },
  {
   "cell_type": "code",
   "execution_count": 49,
   "metadata": {},
   "outputs": [
    {
     "name": "stdout",
     "output_type": "stream",
     "text": [
      "anterior_dur\n",
      "עד\n",
      "showing 5 of 279\n"
     ]
    },
    {
     "data": {
      "text/html": [
       "<style  type=\"text/css\" >\n",
       "#T_e26e8_row0_col1,#T_e26e8_row1_col1,#T_e26e8_row2_col1,#T_e26e8_row3_col1,#T_e26e8_row4_col1{\n",
       "            font-size: 20px;\n",
       "             font-family:  Times New Roman;\n",
       "             text-align:  right;\n",
       "             max-width:  500px;\n",
       "        }</style><table id=\"T_e26e8_\" ><thead>    <tr>        <th class=\"blank level0\" ></th>        <th class=\"col_heading level0 col0\" >verse</th>        <th class=\"col_heading level0 col1\" >clause</th>        <th class=\"col_heading level0 col2\" >function</th>        <th class=\"col_heading level0 col3\" >front</th>    </tr>    <tr>        <th class=\"index_name level0\" >node</th>        <th class=\"blank\" ></th>        <th class=\"blank\" ></th>        <th class=\"blank\" ></th>        <th class=\"blank\" ></th>    </tr></thead><tbody>\n",
       "                <tr>\n",
       "                        <th id=\"T_e26e8_level0_row0\" class=\"row_heading level0 row0\" >428203</th>\n",
       "                        <td id=\"T_e26e8_row0_col0\" class=\"data row0 col0\" >Genesis 8:5</td>\n",
       "                        <td id=\"T_e26e8_row0_col1\" class=\"data row0 col1\" >וְהַמַּ֗יִם הָיוּ֙ הָלֹ֣וךְ וְחָסֹ֔ור עַ֖ד הַחֹ֣דֶשׁ הָֽעֲשִׂירִ֑י </td>\n",
       "                        <td id=\"T_e26e8_row0_col2\" class=\"data row0 col2\" >anterior_dur</td>\n",
       "                        <td id=\"T_e26e8_row0_col3\" class=\"data row0 col3\" >עד</td>\n",
       "            </tr>\n",
       "            <tr>\n",
       "                        <th id=\"T_e26e8_level0_row1\" class=\"row_heading level0 row1\" >443072</th>\n",
       "                        <td id=\"T_e26e8_row1_col0\" class=\"data row1 col0\" >Numbers 19:21</td>\n",
       "                        <td id=\"T_e26e8_row1_col1\" class=\"data row1 col1\" >וְיִטְמָ֖א עַד־הָעָֽרֶב׃ </td>\n",
       "                        <td id=\"T_e26e8_row1_col2\" class=\"data row1 col2\" >anterior_dur</td>\n",
       "                        <td id=\"T_e26e8_row1_col3\" class=\"data row1 col3\" >עד</td>\n",
       "            </tr>\n",
       "            <tr>\n",
       "                        <th id=\"T_e26e8_level0_row2\" class=\"row_heading level0 row2\" >457527</th>\n",
       "                        <td id=\"T_e26e8_row2_col0\" class=\"data row2 col0\" >1_Samuel 27:6</td>\n",
       "                        <td id=\"T_e26e8_row2_col1\" class=\"data row2 col1\" >לָכֵ֞ן הָיְתָ֤ה צִֽקְלַג֙ לְמַלְכֵ֣י יְהוּדָ֔ה עַ֖ד הַיֹּ֥ום הַזֶּֽה׃ פ </td>\n",
       "                        <td id=\"T_e26e8_row2_col2\" class=\"data row2 col2\" >anterior_dur</td>\n",
       "                        <td id=\"T_e26e8_row2_col3\" class=\"data row2 col3\" >עד</td>\n",
       "            </tr>\n",
       "            <tr>\n",
       "                        <th id=\"T_e26e8_level0_row3\" class=\"row_heading level0 row3\" >490677</th>\n",
       "                        <td id=\"T_e26e8_row3_col0\" class=\"data row3 col0\" >Psalms 13:3</td>\n",
       "                        <td id=\"T_e26e8_row3_col1\" class=\"data row3 col1\" >עַד־אָ֨נָה אָשִׁ֪ית עֵצֹ֡ות בְּנַפְשִׁ֗י </td>\n",
       "                        <td id=\"T_e26e8_row3_col2\" class=\"data row3 col2\" >anterior_dur</td>\n",
       "                        <td id=\"T_e26e8_row3_col3\" class=\"data row3 col3\" >עד</td>\n",
       "            </tr>\n",
       "            <tr>\n",
       "                        <th id=\"T_e26e8_level0_row4\" class=\"row_heading level0 row4\" >515582</th>\n",
       "                        <td id=\"T_e26e8_row4_col0\" class=\"data row4 col0\" >2_Chronicles 35:25</td>\n",
       "                        <td id=\"T_e26e8_row4_col1\" class=\"data row4 col1\" >וַיֹּאמְר֣וּ כָֽל־הַשָּׁרִ֣ים׀ וְ֠הַשָּׁרֹות בְּקִינֹ֨ותֵיהֶ֤ם עַל־יֹאשִׁיָּ֨הוּ֙ עַד־הַיֹּ֔ום </td>\n",
       "                        <td id=\"T_e26e8_row4_col2\" class=\"data row4 col2\" >anterior_dur</td>\n",
       "                        <td id=\"T_e26e8_row4_col3\" class=\"data row4 col3\" >עד</td>\n",
       "            </tr>\n",
       "    </tbody></table>"
      ],
      "text/plain": [
       "<pandas.io.formats.style.Styler at 0x7ffcfc6beaf0>"
      ]
     },
     "metadata": {},
     "output_type": "display_data"
    },
    {
     "name": "stdout",
     "output_type": "stream",
     "text": [
      "ל\n",
      "showing 5 of 152\n"
     ]
    },
    {
     "data": {
      "text/html": [
       "<style  type=\"text/css\" >\n",
       "#T_345e6_row0_col1,#T_345e6_row1_col1,#T_345e6_row2_col1,#T_345e6_row3_col1,#T_345e6_row4_col1{\n",
       "            font-size: 20px;\n",
       "             font-family:  Times New Roman;\n",
       "             text-align:  right;\n",
       "             max-width:  500px;\n",
       "        }</style><table id=\"T_345e6_\" ><thead>    <tr>        <th class=\"blank level0\" ></th>        <th class=\"col_heading level0 col0\" >verse</th>        <th class=\"col_heading level0 col1\" >clause</th>        <th class=\"col_heading level0 col2\" >function</th>        <th class=\"col_heading level0 col3\" >front</th>    </tr>    <tr>        <th class=\"index_name level0\" >node</th>        <th class=\"blank\" ></th>        <th class=\"blank\" ></th>        <th class=\"blank\" ></th>        <th class=\"blank\" ></th>    </tr></thead><tbody>\n",
       "                <tr>\n",
       "                        <th id=\"T_345e6_level0_row0\" class=\"row_heading level0 row0\" >427870</th>\n",
       "                        <td id=\"T_345e6_row0_col0\" class=\"data row0 col0\" >Genesis 3:22</td>\n",
       "                        <td id=\"T_345e6_row0_col1\" class=\"data row0 col1\" >וָחַ֥י לְעֹלָֽם׃ </td>\n",
       "                        <td id=\"T_345e6_row0_col2\" class=\"data row0 col2\" >anterior_dur</td>\n",
       "                        <td id=\"T_345e6_row0_col3\" class=\"data row0 col3\" >ל</td>\n",
       "            </tr>\n",
       "            <tr>\n",
       "                        <th id=\"T_345e6_level0_row1\" class=\"row_heading level0 row1\" >479597</th>\n",
       "                        <td id=\"T_345e6_row1_col0\" class=\"data row1 col0\" >Jeremiah 50:39</td>\n",
       "                        <td id=\"T_345e6_row1_col1\" class=\"data row1 col1\" >וְלֹֽא־תֵשֵׁ֥ב עֹוד֙ לָנֶ֔צַח </td>\n",
       "                        <td id=\"T_345e6_row1_col2\" class=\"data row1 col2\" >anterior_dur</td>\n",
       "                        <td id=\"T_345e6_row1_col3\" class=\"data row1 col3\" >ל</td>\n",
       "            </tr>\n",
       "            <tr>\n",
       "                        <th id=\"T_345e6_level0_row2\" class=\"row_heading level0 row2\" >492307</th>\n",
       "                        <td id=\"T_345e6_row2_col0\" class=\"data row2 col0\" >Psalms 44:9</td>\n",
       "                        <td id=\"T_345e6_row2_col1\" class=\"data row2 col1\" >וְשִׁמְךָ֓׀ לְעֹולָ֖ם נֹודֶ֣ה </td>\n",
       "                        <td id=\"T_345e6_row2_col2\" class=\"data row2 col2\" >anterior_dur</td>\n",
       "                        <td id=\"T_345e6_row2_col3\" class=\"data row2 col3\" >ל</td>\n",
       "            </tr>\n",
       "            <tr>\n",
       "                        <th id=\"T_345e6_level0_row3\" class=\"row_heading level0 row3\" >495917</th>\n",
       "                        <td id=\"T_345e6_row3_col0\" class=\"data row3 col0\" >Psalms 112:6</td>\n",
       "                        <td id=\"T_345e6_row3_col1\" class=\"data row3 col1\" >כִּֽי־לְעֹולָ֥ם לֹא־יִמֹּ֑וט </td>\n",
       "                        <td id=\"T_345e6_row3_col2\" class=\"data row3 col2\" >anterior_dur</td>\n",
       "                        <td id=\"T_345e6_row3_col3\" class=\"data row3 col3\" >ל</td>\n",
       "            </tr>\n",
       "            <tr>\n",
       "                        <th id=\"T_345e6_level0_row4\" class=\"row_heading level0 row4\" >515267</th>\n",
       "                        <td id=\"T_345e6_row4_col0\" class=\"data row4 col0\" >2_Chronicles 33:7</td>\n",
       "                        <td id=\"T_345e6_row4_col1\" class=\"data row4 col1\" >בַּבַּ֨יִת הַזֶּ֜ה וּבִֽירוּשָׁלִַ֗ם אָשִׂ֥ים אֶת־שְׁמִ֖י לְעֵילֹֽום׃ </td>\n",
       "                        <td id=\"T_345e6_row4_col2\" class=\"data row4 col2\" >anterior_dur</td>\n",
       "                        <td id=\"T_345e6_row4_col3\" class=\"data row4 col3\" >ל</td>\n",
       "            </tr>\n",
       "    </tbody></table>"
      ],
      "text/plain": [
       "<pandas.io.formats.style.Styler at 0x7ffcfc6bea60>"
      ]
     },
     "metadata": {},
     "output_type": "display_data"
    },
    {
     "name": "stdout",
     "output_type": "stream",
     "text": [
      "עד+ל\n",
      "showing 3 of 3\n"
     ]
    },
    {
     "data": {
      "text/html": [
       "<style  type=\"text/css\" >\n",
       "#T_cea60_row0_col1,#T_cea60_row1_col1,#T_cea60_row2_col1{\n",
       "            font-size: 20px;\n",
       "             font-family:  Times New Roman;\n",
       "             text-align:  right;\n",
       "             max-width:  500px;\n",
       "        }</style><table id=\"T_cea60_\" ><thead>    <tr>        <th class=\"blank level0\" ></th>        <th class=\"col_heading level0 col0\" >verse</th>        <th class=\"col_heading level0 col1\" >clause</th>        <th class=\"col_heading level0 col2\" >function</th>        <th class=\"col_heading level0 col3\" >front</th>    </tr>    <tr>        <th class=\"index_name level0\" >node</th>        <th class=\"blank\" ></th>        <th class=\"blank\" ></th>        <th class=\"blank\" ></th>        <th class=\"blank\" ></th>    </tr></thead><tbody>\n",
       "                <tr>\n",
       "                        <th id=\"T_cea60_level0_row0\" class=\"row_heading level0 row0\" >508373</th>\n",
       "                        <td id=\"T_cea60_row0_col0\" class=\"data row0 col0\" >Ezra 9:4</td>\n",
       "                        <td id=\"T_cea60_row0_col1\" class=\"data row0 col1\" >וַאֲנִי֙ יֹשֵׁ֣ב מְשֹׁומֵ֔ם עַ֖ד לְמִנְחַ֥ת הָעָֽרֶב׃ </td>\n",
       "                        <td id=\"T_cea60_row0_col2\" class=\"data row0 col2\" >anterior_dur</td>\n",
       "                        <td id=\"T_cea60_row0_col3\" class=\"data row0 col3\" >עד+ל</td>\n",
       "            </tr>\n",
       "            <tr>\n",
       "                        <th id=\"T_cea60_level0_row1\" class=\"row_heading level0 row1\" >511836</th>\n",
       "                        <td id=\"T_cea60_row1_col0\" class=\"data row1 col0\" >1_Chronicles 23:25</td>\n",
       "                        <td id=\"T_cea60_row1_col1\" class=\"data row1 col1\" >וַיִּשְׁכֹּ֥ן בִּירוּשָׁלִַ֖ם עַד־לְעֹולָֽם׃ </td>\n",
       "                        <td id=\"T_cea60_row1_col2\" class=\"data row1 col2\" >anterior_dur</td>\n",
       "                        <td id=\"T_cea60_row1_col3\" class=\"data row1 col3\" >עד+ל</td>\n",
       "            </tr>\n",
       "            <tr>\n",
       "                        <th id=\"T_cea60_level0_row2\" class=\"row_heading level0 row2\" >512186</th>\n",
       "                        <td id=\"T_cea60_row2_col0\" class=\"data row2 col0\" >1_Chronicles 28:7</td>\n",
       "                        <td id=\"T_cea60_row2_col1\" class=\"data row2 col1\" >וַהֲכִינֹותִ֥י אֶת־מַלְכוּתֹ֖ו עַד־לְעֹולָ֑ם </td>\n",
       "                        <td id=\"T_cea60_row2_col2\" class=\"data row2 col2\" >anterior_dur</td>\n",
       "                        <td id=\"T_cea60_row2_col3\" class=\"data row2 col3\" >עד+ל</td>\n",
       "            </tr>\n",
       "    </tbody></table>"
      ],
      "text/plain": [
       "<pandas.io.formats.style.Styler at 0x7ffcfc6aa730>"
      ]
     },
     "metadata": {},
     "output_type": "display_data"
    },
    {
     "name": "stdout",
     "output_type": "stream",
     "text": [
      "--------------------------------------------------\n",
      "anterior\n",
      "ל+פנה\n",
      "showing 5 of 13\n"
     ]
    },
    {
     "data": {
      "text/html": [
       "<style  type=\"text/css\" >\n",
       "#T_3d792_row0_col1,#T_3d792_row1_col1,#T_3d792_row2_col1,#T_3d792_row3_col1,#T_3d792_row4_col1{\n",
       "            font-size: 20px;\n",
       "             font-family:  Times New Roman;\n",
       "             text-align:  right;\n",
       "             max-width:  500px;\n",
       "        }</style><table id=\"T_3d792_\" ><thead>    <tr>        <th class=\"blank level0\" ></th>        <th class=\"col_heading level0 col0\" >verse</th>        <th class=\"col_heading level0 col1\" >clause</th>        <th class=\"col_heading level0 col2\" >function</th>        <th class=\"col_heading level0 col3\" >front</th>    </tr>    <tr>        <th class=\"index_name level0\" >node</th>        <th class=\"blank\" ></th>        <th class=\"blank\" ></th>        <th class=\"blank\" ></th>        <th class=\"blank\" ></th>    </tr></thead><tbody>\n",
       "                <tr>\n",
       "                        <th id=\"T_3d792_level0_row0\" class=\"row_heading level0 row0\" >430247</th>\n",
       "                        <td id=\"T_3d792_row0_col0\" class=\"data row0 col0\" >Genesis 27:7</td>\n",
       "                        <td id=\"T_3d792_row0_col1\" class=\"data row0 col1\" >וַאֲבָרֶכְכָ֛ה לִפְנֵ֥י יְהוָ֖ה לִפְנֵ֥י מֹותִֽי׃ </td>\n",
       "                        <td id=\"T_3d792_row0_col2\" class=\"data row0 col2\" >anterior</td>\n",
       "                        <td id=\"T_3d792_row0_col3\" class=\"data row0 col3\" >ל+פנה</td>\n",
       "            </tr>\n",
       "            <tr>\n",
       "                        <th id=\"T_3d792_level0_row1\" class=\"row_heading level0 row1\" >433499</th>\n",
       "                        <td id=\"T_3d792_row1_col0\" class=\"data row1 col0\" >Genesis 50:16</td>\n",
       "                        <td id=\"T_3d792_row1_col1\" class=\"data row1 col1\" >אָבִ֣יךָ צִוָּ֔ה לִפְנֵ֥י מֹותֹ֖ו </td>\n",
       "                        <td id=\"T_3d792_row1_col2\" class=\"data row1 col2\" >anterior</td>\n",
       "                        <td id=\"T_3d792_row1_col3\" class=\"data row1 col3\" >ל+פנה</td>\n",
       "            </tr>\n",
       "            <tr>\n",
       "                        <th id=\"T_3d792_level0_row2\" class=\"row_heading level0 row2\" >467924</th>\n",
       "                        <td id=\"T_3d792_row2_col0\" class=\"data row2 col0\" >2_Kings 23:25</td>\n",
       "                        <td id=\"T_3d792_row2_col1\" class=\"data row2 col1\" >וְכָמֹהוּ֩ לֹֽא־הָיָ֨ה לְפָנָ֜יו מֶ֗לֶךְ </td>\n",
       "                        <td id=\"T_3d792_row2_col2\" class=\"data row2 col2\" >anterior</td>\n",
       "                        <td id=\"T_3d792_row2_col3\" class=\"data row2 col3\" >ל+פנה</td>\n",
       "            </tr>\n",
       "            <tr>\n",
       "                        <th id=\"T_3d792_level0_row3\" class=\"row_heading level0 row3\" >498056</th>\n",
       "                        <td id=\"T_3d792_row3_col0\" class=\"data row3 col0\" >Job 8:16</td>\n",
       "                        <td id=\"T_3d792_row3_col1\" class=\"data row3 col1\" >רָטֹ֣ב ה֖וּא לִפְנֵי־שָׁ֑מֶשׁ </td>\n",
       "                        <td id=\"T_3d792_row3_col2\" class=\"data row3 col2\" >anterior</td>\n",
       "                        <td id=\"T_3d792_row3_col3\" class=\"data row3 col3\" >ל+פנה</td>\n",
       "            </tr>\n",
       "            <tr>\n",
       "                        <th id=\"T_3d792_level0_row4\" class=\"row_heading level0 row4\" >511707</th>\n",
       "                        <td id=\"T_3d792_row4_col0\" class=\"data row4 col0\" >1_Chronicles 22:5</td>\n",
       "                        <td id=\"T_3d792_row4_col1\" class=\"data row4 col1\" >וַיָּ֧כֶן דָּוִ֛יד לָרֹ֖ב לִפְנֵ֥י מֹותֹֽו׃ </td>\n",
       "                        <td id=\"T_3d792_row4_col2\" class=\"data row4 col2\" >anterior</td>\n",
       "                        <td id=\"T_3d792_row4_col3\" class=\"data row4 col3\" >ל+פנה</td>\n",
       "            </tr>\n",
       "    </tbody></table>"
      ],
      "text/plain": [
       "<pandas.io.formats.style.Styler at 0x7ffcfc6aa1f0>"
      ]
     },
     "metadata": {},
     "output_type": "display_data"
    },
    {
     "name": "stdout",
     "output_type": "stream",
     "text": [
      "טרם\n",
      "showing 4 of 4\n"
     ]
    },
    {
     "data": {
      "text/html": [
       "<style  type=\"text/css\" >\n",
       "#T_8f704_row0_col1,#T_8f704_row1_col1,#T_8f704_row2_col1,#T_8f704_row3_col1{\n",
       "            font-size: 20px;\n",
       "             font-family:  Times New Roman;\n",
       "             text-align:  right;\n",
       "             max-width:  500px;\n",
       "        }</style><table id=\"T_8f704_\" ><thead>    <tr>        <th class=\"blank level0\" ></th>        <th class=\"col_heading level0 col0\" >verse</th>        <th class=\"col_heading level0 col1\" >clause</th>        <th class=\"col_heading level0 col2\" >function</th>        <th class=\"col_heading level0 col3\" >front</th>    </tr>    <tr>        <th class=\"index_name level0\" >node</th>        <th class=\"blank\" ></th>        <th class=\"blank\" ></th>        <th class=\"blank\" ></th>        <th class=\"blank\" ></th>    </tr></thead><tbody>\n",
       "                <tr>\n",
       "                        <th id=\"T_8f704_level0_row0\" class=\"row_heading level0 row0\" >427693</th>\n",
       "                        <td id=\"T_8f704_row0_col0\" class=\"data row0 col0\" >Genesis 2:5</td>\n",
       "                        <td id=\"T_8f704_row0_col1\" class=\"data row0 col1\" >וְכֹ֣ל׀ שִׂ֣יחַ הַשָּׂדֶ֗ה טֶ֚רֶם יִֽהְיֶ֣ה בָאָ֔רֶץ </td>\n",
       "                        <td id=\"T_8f704_row0_col2\" class=\"data row0 col2\" >anterior</td>\n",
       "                        <td id=\"T_8f704_row0_col3\" class=\"data row0 col3\" >טרם</td>\n",
       "            </tr>\n",
       "            <tr>\n",
       "                        <th id=\"T_8f704_level0_row1\" class=\"row_heading level0 row1\" >427694</th>\n",
       "                        <td id=\"T_8f704_row1_col0\" class=\"data row1 col0\" >Genesis 2:5</td>\n",
       "                        <td id=\"T_8f704_row1_col1\" class=\"data row1 col1\" >וְכָל־עֵ֥שֶׂב הַשָּׂדֶ֖ה טֶ֣רֶם יִצְמָ֑ח </td>\n",
       "                        <td id=\"T_8f704_row1_col2\" class=\"data row1 col2\" >anterior</td>\n",
       "                        <td id=\"T_8f704_row1_col3\" class=\"data row1 col3\" >טרם</td>\n",
       "            </tr>\n",
       "            <tr>\n",
       "                        <th id=\"T_8f704_level0_row2\" class=\"row_heading level0 row2\" >434600</th>\n",
       "                        <td id=\"T_8f704_row2_col0\" class=\"data row2 col0\" >Exodus 10:7</td>\n",
       "                        <td id=\"T_8f704_row2_col1\" class=\"data row2 col1\" >הֲטֶ֣רֶם תֵּדַ֔ע </td>\n",
       "                        <td id=\"T_8f704_row2_col2\" class=\"data row2 col2\" >anterior</td>\n",
       "                        <td id=\"T_8f704_row2_col3\" class=\"data row2 col3\" >טרם</td>\n",
       "            </tr>\n",
       "            <tr>\n",
       "                        <th id=\"T_8f704_level0_row3\" class=\"row_heading level0 row3\" >448860</th>\n",
       "                        <td id=\"T_8f704_row3_col0\" class=\"data row3 col0\" >Joshua 2:8</td>\n",
       "                        <td id=\"T_8f704_row3_col1\" class=\"data row3 col1\" >טֶ֣רֶם יִשְׁכָּב֑וּן </td>\n",
       "                        <td id=\"T_8f704_row3_col2\" class=\"data row3 col2\" >anterior</td>\n",
       "                        <td id=\"T_8f704_row3_col3\" class=\"data row3 col3\" >טרם</td>\n",
       "            </tr>\n",
       "    </tbody></table>"
      ],
      "text/plain": [
       "<pandas.io.formats.style.Styler at 0x7ffcfc6aa160>"
      ]
     },
     "metadata": {},
     "output_type": "display_data"
    },
    {
     "name": "stdout",
     "output_type": "stream",
     "text": [
      "ל+פנה+מן\n",
      "showing 1 of 1\n"
     ]
    },
    {
     "data": {
      "text/html": [
       "<style  type=\"text/css\" >\n",
       "#T_84815_row0_col1{\n",
       "            font-size: 20px;\n",
       "             font-family:  Times New Roman;\n",
       "             text-align:  right;\n",
       "             max-width:  500px;\n",
       "        }</style><table id=\"T_84815_\" ><thead>    <tr>        <th class=\"blank level0\" ></th>        <th class=\"col_heading level0 col0\" >verse</th>        <th class=\"col_heading level0 col1\" >clause</th>        <th class=\"col_heading level0 col2\" >function</th>        <th class=\"col_heading level0 col3\" >front</th>    </tr>    <tr>        <th class=\"index_name level0\" >node</th>        <th class=\"blank\" ></th>        <th class=\"blank\" ></th>        <th class=\"blank\" ></th>        <th class=\"blank\" ></th>    </tr></thead><tbody>\n",
       "                <tr>\n",
       "                        <th id=\"T_84815_level0_row0\" class=\"row_heading level0 row0\" >509727</th>\n",
       "                        <td id=\"T_84815_row0_col0\" class=\"data row0 col0\" >Nehemiah 13:4</td>\n",
       "                        <td id=\"T_84815_row0_col1\" class=\"data row0 col1\" >וְלִפְנֵ֣י מִזֶּ֔ה אֶלְיָשִׁיב֙ הַכֹּהֵ֔ן </td>\n",
       "                        <td id=\"T_84815_row0_col2\" class=\"data row0 col2\" >anterior</td>\n",
       "                        <td id=\"T_84815_row0_col3\" class=\"data row0 col3\" >ל+פנה+מן</td>\n",
       "            </tr>\n",
       "    </tbody></table>"
      ],
      "text/plain": [
       "<pandas.io.formats.style.Styler at 0x7ffcfc6a2a90>"
      ]
     },
     "metadata": {},
     "output_type": "display_data"
    },
    {
     "name": "stdout",
     "output_type": "stream",
     "text": [
      "--------------------------------------------------\n",
      "posterior\n",
      "אחר\n",
      "showing 5 of 161\n"
     ]
    },
    {
     "data": {
      "text/html": [
       "<style  type=\"text/css\" >\n",
       "#T_0b36d_row0_col1,#T_0b36d_row1_col1,#T_0b36d_row2_col1,#T_0b36d_row3_col1,#T_0b36d_row4_col1{\n",
       "            font-size: 20px;\n",
       "             font-family:  Times New Roman;\n",
       "             text-align:  right;\n",
       "             max-width:  500px;\n",
       "        }</style><table id=\"T_0b36d_\" ><thead>    <tr>        <th class=\"blank level0\" ></th>        <th class=\"col_heading level0 col0\" >verse</th>        <th class=\"col_heading level0 col1\" >clause</th>        <th class=\"col_heading level0 col2\" >function</th>        <th class=\"col_heading level0 col3\" >front</th>    </tr>    <tr>        <th class=\"index_name level0\" >node</th>        <th class=\"blank\" ></th>        <th class=\"blank\" ></th>        <th class=\"blank\" ></th>        <th class=\"blank\" ></th>    </tr></thead><tbody>\n",
       "                <tr>\n",
       "                        <th id=\"T_0b36d_level0_row0\" class=\"row_heading level0 row0\" >428070</th>\n",
       "                        <td id=\"T_0b36d_row0_col0\" class=\"data row0 col0\" >Genesis 6:4</td>\n",
       "                        <td id=\"T_0b36d_row0_col1\" class=\"data row0 col1\" >וְגַ֣ם אַֽחֲרֵי־כֵ֗ן </td>\n",
       "                        <td id=\"T_0b36d_row0_col2\" class=\"data row0 col2\" >posterior</td>\n",
       "                        <td id=\"T_0b36d_row0_col3\" class=\"data row0 col3\" >אחר</td>\n",
       "            </tr>\n",
       "            <tr>\n",
       "                        <th id=\"T_0b36d_level0_row1\" class=\"row_heading level0 row1\" >440180</th>\n",
       "                        <td id=\"T_0b36d_row1_col0\" class=\"data row1 col0\" >Leviticus 22:7</td>\n",
       "                        <td id=\"T_0b36d_row1_col1\" class=\"data row1 col1\" >וְאַחַר֙ יֹאכַ֣ל מִן־הַקֳּדָשִׁ֔ים </td>\n",
       "                        <td id=\"T_0b36d_row1_col2\" class=\"data row1 col2\" >posterior</td>\n",
       "                        <td id=\"T_0b36d_row1_col3\" class=\"data row1 col3\" >אחר</td>\n",
       "            </tr>\n",
       "            <tr>\n",
       "                        <th id=\"T_0b36d_level0_row2\" class=\"row_heading level0 row2\" >457117</th>\n",
       "                        <td id=\"T_0b36d_row2_col0\" class=\"data row2 col0\" >1_Samuel 24:22</td>\n",
       "                        <td id=\"T_0b36d_row2_col1\" class=\"data row2 col1\" >אִם־תַּכְרִ֥ית אֶת־זַרְעִ֖י אַֽחֲרָ֑י </td>\n",
       "                        <td id=\"T_0b36d_row2_col2\" class=\"data row2 col2\" >posterior</td>\n",
       "                        <td id=\"T_0b36d_row2_col3\" class=\"data row2 col3\" >אחר</td>\n",
       "            </tr>\n",
       "            <tr>\n",
       "                        <th id=\"T_0b36d_level0_row3\" class=\"row_heading level0 row3\" >502997</th>\n",
       "                        <td id=\"T_0b36d_row3_col0\" class=\"data row3 col0\" >Ruth 2:11</td>\n",
       "                        <td id=\"T_0b36d_row3_col1\" class=\"data row3 col1\" >אֲשֶׁר־עָשִׂית֙ אֶת־חֲמֹותֵ֔ךְ אַחֲרֵ֖י מֹ֣ות אִישֵׁ֑ךְ </td>\n",
       "                        <td id=\"T_0b36d_row3_col2\" class=\"data row3 col2\" >posterior</td>\n",
       "                        <td id=\"T_0b36d_row3_col3\" class=\"data row3 col3\" >אחר</td>\n",
       "            </tr>\n",
       "            <tr>\n",
       "                        <th id=\"T_0b36d_level0_row4\" class=\"row_heading level0 row4\" >515548</th>\n",
       "                        <td id=\"T_0b36d_row4_col0\" class=\"data row4 col0\" >2_Chronicles 35:20</td>\n",
       "                        <td id=\"T_0b36d_row4_col1\" class=\"data row4 col1\" >אַחֲרֵ֣י כָל־זֹ֗את עָלָ֞ה נְכֹ֧ו מֶֽלֶךְ־מִצְרַ֛יִם </td>\n",
       "                        <td id=\"T_0b36d_row4_col2\" class=\"data row4 col2\" >posterior</td>\n",
       "                        <td id=\"T_0b36d_row4_col3\" class=\"data row4 col3\" >אחר</td>\n",
       "            </tr>\n",
       "    </tbody></table>"
      ],
      "text/plain": [
       "<pandas.io.formats.style.Styler at 0x7ffcfc6a7970>"
      ]
     },
     "metadata": {},
     "output_type": "display_data"
    },
    {
     "name": "stdout",
     "output_type": "stream",
     "text": [
      "מן\n",
      "showing 5 of 33\n"
     ]
    },
    {
     "data": {
      "text/html": [
       "<style  type=\"text/css\" >\n",
       "#T_0f1ce_row0_col1,#T_0f1ce_row1_col1,#T_0f1ce_row2_col1,#T_0f1ce_row3_col1,#T_0f1ce_row4_col1{\n",
       "            font-size: 20px;\n",
       "             font-family:  Times New Roman;\n",
       "             text-align:  right;\n",
       "             max-width:  500px;\n",
       "        }</style><table id=\"T_0f1ce_\" ><thead>    <tr>        <th class=\"blank level0\" ></th>        <th class=\"col_heading level0 col0\" >verse</th>        <th class=\"col_heading level0 col1\" >clause</th>        <th class=\"col_heading level0 col2\" >function</th>        <th class=\"col_heading level0 col3\" >front</th>    </tr>    <tr>        <th class=\"index_name level0\" >node</th>        <th class=\"blank\" ></th>        <th class=\"blank\" ></th>        <th class=\"blank\" ></th>        <th class=\"blank\" ></th>    </tr></thead><tbody>\n",
       "                <tr>\n",
       "                        <th id=\"T_0f1ce_level0_row0\" class=\"row_heading level0 row0\" >429260</th>\n",
       "                        <td id=\"T_0f1ce_row0_col0\" class=\"data row0 col0\" >Genesis 19:34</td>\n",
       "                        <td id=\"T_0f1ce_row0_col1\" class=\"data row0 col1\" >וַֽיְהִי֙ מִֽמָּחֳרָ֔ת </td>\n",
       "                        <td id=\"T_0f1ce_row0_col2\" class=\"data row0 col2\" >posterior</td>\n",
       "                        <td id=\"T_0f1ce_row0_col3\" class=\"data row0 col3\" >מן</td>\n",
       "            </tr>\n",
       "            <tr>\n",
       "                        <th id=\"T_0f1ce_level0_row1\" class=\"row_heading level0 row1\" >442804</th>\n",
       "                        <td id=\"T_0f1ce_row1_col0\" class=\"data row1 col0\" >Numbers 17:6</td>\n",
       "                        <td id=\"T_0f1ce_row1_col1\" class=\"data row1 col1\" >וַיִּלֹּ֜נוּ כָּל־עֲדַ֤ת בְּנֵֽי־יִשְׂרָאֵל֙ מִֽמָּחֳרָ֔ת עַל־מֹשֶׁ֥ה וְעַֽל־אַהֲרֹ֖ן </td>\n",
       "                        <td id=\"T_0f1ce_row1_col2\" class=\"data row1 col2\" >posterior</td>\n",
       "                        <td id=\"T_0f1ce_row1_col3\" class=\"data row1 col3\" >מן</td>\n",
       "            </tr>\n",
       "            <tr>\n",
       "                        <th id=\"T_0f1ce_level0_row2\" class=\"row_heading level0 row2\" >453845</th>\n",
       "                        <td id=\"T_0f1ce_row2_col0\" class=\"data row2 col0\" >Judges 21:4</td>\n",
       "                        <td id=\"T_0f1ce_row2_col1\" class=\"data row2 col1\" >וַֽיְהִי֙ מִֽמָּחֳרָ֔ת </td>\n",
       "                        <td id=\"T_0f1ce_row2_col2\" class=\"data row2 col2\" >posterior</td>\n",
       "                        <td id=\"T_0f1ce_row2_col3\" class=\"data row2 col3\" >מן</td>\n",
       "            </tr>\n",
       "            <tr>\n",
       "                        <th id=\"T_0f1ce_level0_row3\" class=\"row_heading level0 row3\" >474107</th>\n",
       "                        <td id=\"T_0f1ce_row3_col0\" class=\"data row3 col0\" >Jeremiah 3:4</td>\n",
       "                        <td id=\"T_0f1ce_row3_col1\" class=\"data row3 col1\" >הֲלֹ֣וא מֵעַ֔תָּה קָרָ֥את לִ֖י </td>\n",
       "                        <td id=\"T_0f1ce_row3_col2\" class=\"data row3 col2\" >posterior</td>\n",
       "                        <td id=\"T_0f1ce_row3_col3\" class=\"data row3 col3\" >מן</td>\n",
       "            </tr>\n",
       "            <tr>\n",
       "                        <th id=\"T_0f1ce_level0_row4\" class=\"row_heading level0 row4\" >514549</th>\n",
       "                        <td id=\"T_0f1ce_row4_col0\" class=\"data row4 col0\" >2_Chronicles 25:27</td>\n",
       "                        <td id=\"T_0f1ce_row4_col1\" class=\"data row4 col1\" >וּמֵעֵ֗ת </td>\n",
       "                        <td id=\"T_0f1ce_row4_col2\" class=\"data row4 col2\" >posterior</td>\n",
       "                        <td id=\"T_0f1ce_row4_col3\" class=\"data row4 col3\" >מן</td>\n",
       "            </tr>\n",
       "    </tbody></table>"
      ],
      "text/plain": [
       "<pandas.io.formats.style.Styler at 0x7ffcfc6aa940>"
      ]
     },
     "metadata": {},
     "output_type": "display_data"
    },
    {
     "name": "stdout",
     "output_type": "stream",
     "text": [
      "מן+קץ\n",
      "showing 5 of 18\n"
     ]
    },
    {
     "data": {
      "text/html": [
       "<style  type=\"text/css\" >\n",
       "#T_632b3_row0_col1,#T_632b3_row1_col1,#T_632b3_row2_col1,#T_632b3_row3_col1,#T_632b3_row4_col1{\n",
       "            font-size: 20px;\n",
       "             font-family:  Times New Roman;\n",
       "             text-align:  right;\n",
       "             max-width:  500px;\n",
       "        }</style><table id=\"T_632b3_\" ><thead>    <tr>        <th class=\"blank level0\" ></th>        <th class=\"col_heading level0 col0\" >verse</th>        <th class=\"col_heading level0 col1\" >clause</th>        <th class=\"col_heading level0 col2\" >function</th>        <th class=\"col_heading level0 col3\" >front</th>    </tr>    <tr>        <th class=\"index_name level0\" >node</th>        <th class=\"blank\" ></th>        <th class=\"blank\" ></th>        <th class=\"blank\" ></th>        <th class=\"blank\" ></th>    </tr></thead><tbody>\n",
       "                <tr>\n",
       "                        <th id=\"T_632b3_level0_row0\" class=\"row_heading level0 row0\" >427887</th>\n",
       "                        <td id=\"T_632b3_row0_col0\" class=\"data row0 col0\" >Genesis 4:3</td>\n",
       "                        <td id=\"T_632b3_row0_col1\" class=\"data row0 col1\" >וַֽיְהִ֖י מִקֵּ֣ץ יָמִ֑ים </td>\n",
       "                        <td id=\"T_632b3_row0_col2\" class=\"data row0 col2\" >posterior</td>\n",
       "                        <td id=\"T_632b3_row0_col3\" class=\"data row0 col3\" >מן+קץ</td>\n",
       "            </tr>\n",
       "            <tr>\n",
       "                        <th id=\"T_632b3_level0_row1\" class=\"row_heading level0 row1\" >445968</th>\n",
       "                        <td id=\"T_632b3_row1_col0\" class=\"data row1 col0\" >Deuteronomy 9:11</td>\n",
       "                        <td id=\"T_632b3_row1_col1\" class=\"data row1 col1\" >מִקֵּץ֙ אַרְבָּעִ֣ים יֹ֔ום וְאַרְבָּעִ֖ים לָ֑יְלָה נָתַ֨ן יְהוָ֜ה אֵלַ֗י אֶת־שְׁנֵ֛י לֻחֹ֥ת הָאֲבָנִ֖ים לֻחֹ֥ות הַבְּרִֽית׃ </td>\n",
       "                        <td id=\"T_632b3_row1_col2\" class=\"data row1 col2\" >posterior</td>\n",
       "                        <td id=\"T_632b3_row1_col3\" class=\"data row1 col3\" >מן+קץ</td>\n",
       "            </tr>\n",
       "            <tr>\n",
       "                        <th id=\"T_632b3_level0_row2\" class=\"row_heading level0 row2\" >459695</th>\n",
       "                        <td id=\"T_632b3_row2_col0\" class=\"data row2 col0\" >2_Samuel 15:7</td>\n",
       "                        <td id=\"T_632b3_row2_col1\" class=\"data row2 col1\" >וַיְהִ֕י מִקֵּ֖ץ אַרְבָּעִ֣ים שָׁנָ֑ה </td>\n",
       "                        <td id=\"T_632b3_row2_col2\" class=\"data row2 col2\" >posterior</td>\n",
       "                        <td id=\"T_632b3_row2_col3\" class=\"data row2 col3\" >מן+קץ</td>\n",
       "            </tr>\n",
       "            <tr>\n",
       "                        <th id=\"T_632b3_level0_row3\" class=\"row_heading level0 row3\" >469819</th>\n",
       "                        <td id=\"T_632b3_row3_col0\" class=\"data row3 col0\" >Isaiah 23:17</td>\n",
       "                        <td id=\"T_632b3_row3_col1\" class=\"data row3 col1\" >וְהָיָ֞ה מִקֵּ֣ץ׀ שִׁבְעִ֣ים שָׁנָ֗ה </td>\n",
       "                        <td id=\"T_632b3_row3_col2\" class=\"data row3 col2\" >posterior</td>\n",
       "                        <td id=\"T_632b3_row3_col3\" class=\"data row3 col3\" >מן+קץ</td>\n",
       "            </tr>\n",
       "            <tr>\n",
       "                        <th id=\"T_632b3_level0_row4\" class=\"row_heading level0 row4\" >512988</th>\n",
       "                        <td id=\"T_632b3_row4_col0\" class=\"data row4 col0\" >2_Chronicles 8:1</td>\n",
       "                        <td id=\"T_632b3_row4_col1\" class=\"data row4 col1\" >וַיְהִ֞י מִקֵּ֣ץ׀ עֶשְׂרִ֣ים שָׁנָ֗ה </td>\n",
       "                        <td id=\"T_632b3_row4_col2\" class=\"data row4 col2\" >posterior</td>\n",
       "                        <td id=\"T_632b3_row4_col3\" class=\"data row4 col3\" >מן+קץ</td>\n",
       "            </tr>\n",
       "    </tbody></table>"
      ],
      "text/plain": [
       "<pandas.io.formats.style.Styler at 0x7ffcfc6a7af0>"
      ]
     },
     "metadata": {},
     "output_type": "display_data"
    },
    {
     "name": "stdout",
     "output_type": "stream",
     "text": [
      "מן+קצה\n",
      "showing 5 of 10\n"
     ]
    },
    {
     "data": {
      "text/html": [
       "<style  type=\"text/css\" >\n",
       "#T_16542_row0_col1,#T_16542_row1_col1,#T_16542_row2_col1,#T_16542_row3_col1,#T_16542_row4_col1{\n",
       "            font-size: 20px;\n",
       "             font-family:  Times New Roman;\n",
       "             text-align:  right;\n",
       "             max-width:  500px;\n",
       "        }</style><table id=\"T_16542_\" ><thead>    <tr>        <th class=\"blank level0\" ></th>        <th class=\"col_heading level0 col0\" >verse</th>        <th class=\"col_heading level0 col1\" >clause</th>        <th class=\"col_heading level0 col2\" >function</th>        <th class=\"col_heading level0 col3\" >front</th>    </tr>    <tr>        <th class=\"index_name level0\" >node</th>        <th class=\"blank\" ></th>        <th class=\"blank\" ></th>        <th class=\"blank\" ></th>        <th class=\"blank\" ></th>    </tr></thead><tbody>\n",
       "                <tr>\n",
       "                        <th id=\"T_16542_level0_row0\" class=\"row_heading level0 row0\" >428201</th>\n",
       "                        <td id=\"T_16542_row0_col0\" class=\"data row0 col0\" >Genesis 8:3</td>\n",
       "                        <td id=\"T_16542_row0_col1\" class=\"data row0 col1\" >וַיַּחְסְר֣וּ הַמַּ֔יִם מִקְצֵ֕ה חֲמִשִּׁ֥ים וּמְאַ֖ת יֹֽום׃ </td>\n",
       "                        <td id=\"T_16542_row0_col2\" class=\"data row0 col2\" >posterior</td>\n",
       "                        <td id=\"T_16542_row0_col3\" class=\"data row0 col3\" >מן+קצה</td>\n",
       "            </tr>\n",
       "            <tr>\n",
       "                        <th id=\"T_16542_level0_row1\" class=\"row_heading level0 row1\" >449658</th>\n",
       "                        <td id=\"T_16542_row1_col0\" class=\"data row1 col0\" >Joshua 9:16</td>\n",
       "                        <td id=\"T_16542_row1_col1\" class=\"data row1 col1\" >וַיְהִ֗י מִקְצֵה֙ שְׁלֹ֣שֶׁת יָמִ֔ים </td>\n",
       "                        <td id=\"T_16542_row1_col2\" class=\"data row1 col2\" >posterior</td>\n",
       "                        <td id=\"T_16542_row1_col3\" class=\"data row1 col3\" >מן+קצה</td>\n",
       "            </tr>\n",
       "            <tr>\n",
       "                        <th id=\"T_16542_level0_row2\" class=\"row_heading level0 row2\" >462527</th>\n",
       "                        <td id=\"T_16542_row2_col0\" class=\"data row2 col0\" >1_Kings 9:10</td>\n",
       "                        <td id=\"T_16542_row2_col1\" class=\"data row2 col1\" >וַיְהִ֗י מִקְצֵה֙ עֶשְׂרִ֣ים שָׁנָ֔ה </td>\n",
       "                        <td id=\"T_16542_row2_col2\" class=\"data row2 col2\" >posterior</td>\n",
       "                        <td id=\"T_16542_row2_col3\" class=\"data row2 col3\" >מן+קצה</td>\n",
       "            </tr>\n",
       "            <tr>\n",
       "                        <th id=\"T_16542_level0_row3\" class=\"row_heading level0 row3\" >467220</th>\n",
       "                        <td id=\"T_16542_row3_col0\" class=\"data row3 col0\" >2_Kings 18:10</td>\n",
       "                        <td id=\"T_16542_row3_col1\" class=\"data row3 col1\" >וַֽיִּלְכְּדֻ֗הָ מִקְצֵה֙ שָׁלֹ֣שׁ שָׁנִ֔ים </td>\n",
       "                        <td id=\"T_16542_row3_col2\" class=\"data row3 col2\" >posterior</td>\n",
       "                        <td id=\"T_16542_row3_col3\" class=\"data row3 col3\" >מן+קצה</td>\n",
       "            </tr>\n",
       "            <tr>\n",
       "                        <th id=\"T_16542_level0_row4\" class=\"row_heading level0 row4\" >484490</th>\n",
       "                        <td id=\"T_16542_row4_col0\" class=\"data row4 col0\" >Ezekiel 39:14</td>\n",
       "                        <td id=\"T_16542_row4_col1\" class=\"data row4 col1\" >מִקְצֵ֥ה שִׁבְעָֽה־חֳדָשִׁ֖ים יַחְקֹֽרוּ׃ </td>\n",
       "                        <td id=\"T_16542_row4_col2\" class=\"data row4 col2\" >posterior</td>\n",
       "                        <td id=\"T_16542_row4_col3\" class=\"data row4 col3\" >מן+קצה</td>\n",
       "            </tr>\n",
       "    </tbody></table>"
      ],
      "text/plain": [
       "<pandas.io.formats.style.Styler at 0x7ffcfc6a7760>"
      ]
     },
     "metadata": {},
     "output_type": "display_data"
    },
    {
     "name": "stdout",
     "output_type": "stream",
     "text": [
      "מן+אחר\n",
      "showing 2 of 2\n"
     ]
    },
    {
     "data": {
      "text/html": [
       "<style  type=\"text/css\" >\n",
       "#T_bc3c4_row0_col1,#T_bc3c4_row1_col1{\n",
       "            font-size: 20px;\n",
       "             font-family:  Times New Roman;\n",
       "             text-align:  right;\n",
       "             max-width:  500px;\n",
       "        }</style><table id=\"T_bc3c4_\" ><thead>    <tr>        <th class=\"blank level0\" ></th>        <th class=\"col_heading level0 col0\" >verse</th>        <th class=\"col_heading level0 col1\" >clause</th>        <th class=\"col_heading level0 col2\" >function</th>        <th class=\"col_heading level0 col3\" >front</th>    </tr>    <tr>        <th class=\"index_name level0\" >node</th>        <th class=\"blank\" ></th>        <th class=\"blank\" ></th>        <th class=\"blank\" ></th>        <th class=\"blank\" ></th>    </tr></thead><tbody>\n",
       "                <tr>\n",
       "                        <th id=\"T_bc3c4_level0_row0\" class=\"row_heading level0 row0\" >458335</th>\n",
       "                        <td id=\"T_bc3c4_row0_col0\" class=\"data row0 col0\" >2_Samuel 3:28</td>\n",
       "                        <td id=\"T_bc3c4_row0_col1\" class=\"data row0 col1\" >וַיִּשְׁמַ֤ע דָּוִד֙ מֵאַ֣חֲרֵי כֵ֔ן </td>\n",
       "                        <td id=\"T_bc3c4_row0_col2\" class=\"data row0 col2\" >posterior</td>\n",
       "                        <td id=\"T_bc3c4_row0_col3\" class=\"data row0 col3\" >מן+אחר</td>\n",
       "            </tr>\n",
       "            <tr>\n",
       "                        <th id=\"T_bc3c4_level0_row1\" class=\"row_heading level0 row1\" >459663</th>\n",
       "                        <td id=\"T_bc3c4_row1_col0\" class=\"data row1 col0\" >2_Samuel 15:1</td>\n",
       "                        <td id=\"T_bc3c4_row1_col1\" class=\"data row1 col1\" >וַֽיְהִי֙ מֵאַ֣חֲרֵי כֵ֔ן </td>\n",
       "                        <td id=\"T_bc3c4_row1_col2\" class=\"data row1 col2\" >posterior</td>\n",
       "                        <td id=\"T_bc3c4_row1_col3\" class=\"data row1 col3\" >מן+אחר</td>\n",
       "            </tr>\n",
       "    </tbody></table>"
      ],
      "text/plain": [
       "<pandas.io.formats.style.Styler at 0x7ffcfc6bea00>"
      ]
     },
     "metadata": {},
     "output_type": "display_data"
    },
    {
     "name": "stdout",
     "output_type": "stream",
     "text": [
      "מן+קצת\n",
      "showing 1 of 1\n"
     ]
    },
    {
     "data": {
      "text/html": [
       "<style  type=\"text/css\" >\n",
       "#T_5fd6a_row0_col1{\n",
       "            font-size: 20px;\n",
       "             font-family:  Times New Roman;\n",
       "             text-align:  right;\n",
       "             max-width:  500px;\n",
       "        }</style><table id=\"T_5fd6a_\" ><thead>    <tr>        <th class=\"blank level0\" ></th>        <th class=\"col_heading level0 col0\" >verse</th>        <th class=\"col_heading level0 col1\" >clause</th>        <th class=\"col_heading level0 col2\" >function</th>        <th class=\"col_heading level0 col3\" >front</th>    </tr>    <tr>        <th class=\"index_name level0\" >node</th>        <th class=\"blank\" ></th>        <th class=\"blank\" ></th>        <th class=\"blank\" ></th>        <th class=\"blank\" ></th>    </tr></thead><tbody>\n",
       "                <tr>\n",
       "                        <th id=\"T_5fd6a_level0_row0\" class=\"row_heading level0 row0\" >506047</th>\n",
       "                        <td id=\"T_5fd6a_row0_col0\" class=\"data row0 col0\" >Daniel 1:15</td>\n",
       "                        <td id=\"T_5fd6a_row0_col1\" class=\"data row0 col1\" >וּמִקְצָת֙ יָמִ֣ים עֲשָׂרָ֔ה נִרְאָ֤ה מַרְאֵיהֶם֙ </td>\n",
       "                        <td id=\"T_5fd6a_row0_col2\" class=\"data row0 col2\" >posterior</td>\n",
       "                        <td id=\"T_5fd6a_row0_col3\" class=\"data row0 col3\" >מן+קצת</td>\n",
       "            </tr>\n",
       "    </tbody></table>"
      ],
      "text/plain": [
       "<pandas.io.formats.style.Styler at 0x7ffcfc6a7fd0>"
      ]
     },
     "metadata": {},
     "output_type": "display_data"
    },
    {
     "name": "stdout",
     "output_type": "stream",
     "text": [
      "--------------------------------------------------\n",
      "posterior_dur\n",
      "מן\n",
      "showing 5 of 63\n"
     ]
    },
    {
     "data": {
      "text/html": [
       "<style  type=\"text/css\" >\n",
       "#T_12b0e_row0_col1,#T_12b0e_row1_col1,#T_12b0e_row2_col1,#T_12b0e_row3_col1,#T_12b0e_row4_col1{\n",
       "            font-size: 20px;\n",
       "             font-family:  Times New Roman;\n",
       "             text-align:  right;\n",
       "             max-width:  500px;\n",
       "        }</style><table id=\"T_12b0e_\" ><thead>    <tr>        <th class=\"blank level0\" ></th>        <th class=\"col_heading level0 col0\" >verse</th>        <th class=\"col_heading level0 col1\" >clause</th>        <th class=\"col_heading level0 col2\" >function</th>        <th class=\"col_heading level0 col3\" >front</th>    </tr>    <tr>        <th class=\"index_name level0\" >node</th>        <th class=\"blank\" ></th>        <th class=\"blank\" ></th>        <th class=\"blank\" ></th>        <th class=\"blank\" ></th>    </tr></thead><tbody>\n",
       "                <tr>\n",
       "                        <th id=\"T_12b0e_level0_row0\" class=\"row_heading level0 row0\" >435870</th>\n",
       "                        <td id=\"T_12b0e_row0_col0\" class=\"data row0 col0\" >Exodus 21:29</td>\n",
       "                        <td id=\"T_12b0e_row0_col1\" class=\"data row0 col1\" >וְאִ֡ם שֹׁור֩ נַגָּ֨ח ה֜וּא מִתְּמֹ֣ל שִׁלְשֹׁ֗ם </td>\n",
       "                        <td id=\"T_12b0e_row0_col2\" class=\"data row0 col2\" >posterior_dur</td>\n",
       "                        <td id=\"T_12b0e_row0_col3\" class=\"data row0 col3\" >מן</td>\n",
       "            </tr>\n",
       "            <tr>\n",
       "                        <th id=\"T_12b0e_level0_row1\" class=\"row_heading level0 row1\" >471018</th>\n",
       "                        <td id=\"T_12b0e_row1_col0\" class=\"data row1 col0\" >Isaiah 37:26</td>\n",
       "                        <td id=\"T_12b0e_row1_col1\" class=\"data row1 col1\" >אֹותָ֣הּ עָשִׂ֔יתִי מִ֥ימֵי קֶ֖דֶם </td>\n",
       "                        <td id=\"T_12b0e_row1_col2\" class=\"data row1 col2\" >posterior_dur</td>\n",
       "                        <td id=\"T_12b0e_row1_col3\" class=\"data row1 col3\" >מן</td>\n",
       "            </tr>\n",
       "            <tr>\n",
       "                        <th id=\"T_12b0e_level0_row2\" class=\"row_heading level0 row2\" >472202</th>\n",
       "                        <td id=\"T_12b0e_row2_col0\" class=\"data row2 col0\" >Isaiah 48:3</td>\n",
       "                        <td id=\"T_12b0e_row2_col1\" class=\"data row2 col1\" >הָרִֽאשֹׁנֹות֙ מֵאָ֣ז הִגַּ֔דְתִּי </td>\n",
       "                        <td id=\"T_12b0e_row2_col2\" class=\"data row2 col2\" >posterior_dur</td>\n",
       "                        <td id=\"T_12b0e_row2_col3\" class=\"data row2 col3\" >מן</td>\n",
       "            </tr>\n",
       "            <tr>\n",
       "                        <th id=\"T_12b0e_level0_row3\" class=\"row_heading level0 row3\" >486120</th>\n",
       "                        <td id=\"T_12b0e_row3_col0\" class=\"data row3 col0\" >Hosea 10:9</td>\n",
       "                        <td id=\"T_12b0e_row3_col1\" class=\"data row3 col1\" >מִימֵי֙ הַגִּבְעָ֔ה חָטָ֖אתָ </td>\n",
       "                        <td id=\"T_12b0e_row3_col2\" class=\"data row3 col2\" >posterior_dur</td>\n",
       "                        <td id=\"T_12b0e_row3_col3\" class=\"data row3 col3\" >מן</td>\n",
       "            </tr>\n",
       "            <tr>\n",
       "                        <th id=\"T_12b0e_level0_row4\" class=\"row_heading level0 row4\" >515543</th>\n",
       "                        <td id=\"T_12b0e_row4_col0\" class=\"data row4 col0\" >2_Chronicles 35:18</td>\n",
       "                        <td id=\"T_12b0e_row4_col1\" class=\"data row4 col1\" >וְלֹֽא־נַעֲשָׂ֨ה פֶ֤סַח כָּמֹ֨הוּ֙ בְּיִשְׂרָאֵ֔ל מִימֵ֖י שְׁמוּאֵ֣ל הַנָּבִ֑יא </td>\n",
       "                        <td id=\"T_12b0e_row4_col2\" class=\"data row4 col2\" >posterior_dur</td>\n",
       "                        <td id=\"T_12b0e_row4_col3\" class=\"data row4 col3\" >מן</td>\n",
       "            </tr>\n",
       "    </tbody></table>"
      ],
      "text/plain": [
       "<pandas.io.formats.style.Styler at 0x7ffcfc6aa640>"
      ]
     },
     "metadata": {},
     "output_type": "display_data"
    },
    {
     "name": "stdout",
     "output_type": "stream",
     "text": [
      "מן+ל\n",
      "showing 1 of 1\n"
     ]
    },
    {
     "data": {
      "text/html": [
       "<style  type=\"text/css\" >\n",
       "#T_e8d61_row0_col1{\n",
       "            font-size: 20px;\n",
       "             font-family:  Times New Roman;\n",
       "             text-align:  right;\n",
       "             max-width:  500px;\n",
       "        }</style><table id=\"T_e8d61_\" ><thead>    <tr>        <th class=\"blank level0\" ></th>        <th class=\"col_heading level0 col0\" >verse</th>        <th class=\"col_heading level0 col1\" >clause</th>        <th class=\"col_heading level0 col2\" >function</th>        <th class=\"col_heading level0 col3\" >front</th>    </tr>    <tr>        <th class=\"index_name level0\" >node</th>        <th class=\"blank\" ></th>        <th class=\"blank\" ></th>        <th class=\"blank\" ></th>        <th class=\"blank\" ></th>    </tr></thead><tbody>\n",
       "                <tr>\n",
       "                        <th id=\"T_e8d61_level0_row0\" class=\"row_heading level0 row0\" >471467</th>\n",
       "                        <td id=\"T_e8d61_row0_col0\" class=\"data row0 col0\" >Isaiah 41:26</td>\n",
       "                        <td id=\"T_e8d61_row0_col1\" class=\"data row0 col1\" >וּמִלְּפָנִ֖ים </td>\n",
       "                        <td id=\"T_e8d61_row0_col2\" class=\"data row0 col2\" >posterior_dur</td>\n",
       "                        <td id=\"T_e8d61_row0_col3\" class=\"data row0 col3\" >מן+ל</td>\n",
       "            </tr>\n",
       "    </tbody></table>"
      ],
      "text/plain": [
       "<pandas.io.formats.style.Styler at 0x7ffcfc6beee0>"
      ]
     },
     "metadata": {},
     "output_type": "display_data"
    },
    {
     "name": "stdout",
     "output_type": "stream",
     "text": [
      "ל+מן\n",
      "showing 1 of 1\n"
     ]
    },
    {
     "data": {
      "text/html": [
       "<style  type=\"text/css\" >\n",
       "#T_0d3fa_row0_col1{\n",
       "            font-size: 20px;\n",
       "             font-family:  Times New Roman;\n",
       "             text-align:  right;\n",
       "             max-width:  500px;\n",
       "        }</style><table id=\"T_0d3fa_\" ><thead>    <tr>        <th class=\"blank level0\" ></th>        <th class=\"col_heading level0 col0\" >verse</th>        <th class=\"col_heading level0 col1\" >clause</th>        <th class=\"col_heading level0 col2\" >function</th>        <th class=\"col_heading level0 col3\" >front</th>    </tr>    <tr>        <th class=\"index_name level0\" >node</th>        <th class=\"blank\" ></th>        <th class=\"blank\" ></th>        <th class=\"blank\" ></th>        <th class=\"blank\" ></th>    </tr></thead><tbody>\n",
       "                <tr>\n",
       "                        <th id=\"T_0d3fa_level0_row0\" class=\"row_heading level0 row0\" >490132</th>\n",
       "                        <td id=\"T_0d3fa_row0_col0\" class=\"data row0 col0\" >Malachi 3:7</td>\n",
       "                        <td id=\"T_0d3fa_row0_col1\" class=\"data row0 col1\" >לְמִימֵ֨י אֲבֹתֵיכֶ֜ם סַרְתֶּ֤ם מֵֽחֻקַּי֙ </td>\n",
       "                        <td id=\"T_0d3fa_row0_col2\" class=\"data row0 col2\" >posterior_dur</td>\n",
       "                        <td id=\"T_0d3fa_row0_col3\" class=\"data row0 col3\" >ל+מן</td>\n",
       "            </tr>\n",
       "    </tbody></table>"
      ],
      "text/plain": [
       "<pandas.io.formats.style.Styler at 0x7ffcfc6aa460>"
      ]
     },
     "metadata": {},
     "output_type": "display_data"
    },
    {
     "name": "stdout",
     "output_type": "stream",
     "text": [
      "מן+תחלה\n",
      "showing 1 of 1\n"
     ]
    },
    {
     "data": {
      "text/html": [
       "<style  type=\"text/css\" >\n",
       "#T_fe980_row0_col1{\n",
       "            font-size: 20px;\n",
       "             font-family:  Times New Roman;\n",
       "             text-align:  right;\n",
       "             max-width:  500px;\n",
       "        }</style><table id=\"T_fe980_\" ><thead>    <tr>        <th class=\"blank level0\" ></th>        <th class=\"col_heading level0 col0\" >verse</th>        <th class=\"col_heading level0 col1\" >clause</th>        <th class=\"col_heading level0 col2\" >function</th>        <th class=\"col_heading level0 col3\" >front</th>    </tr>    <tr>        <th class=\"index_name level0\" >node</th>        <th class=\"blank\" ></th>        <th class=\"blank\" ></th>        <th class=\"blank\" ></th>        <th class=\"blank\" ></th>    </tr></thead><tbody>\n",
       "                <tr>\n",
       "                        <th id=\"T_fe980_level0_row0\" class=\"row_heading level0 row0\" >460695</th>\n",
       "                        <td id=\"T_fe980_row0_col0\" class=\"data row0 col0\" >2_Samuel 21:10</td>\n",
       "                        <td id=\"T_fe980_row0_col1\" class=\"data row0 col1\" >וַתַּטֵּ֨הוּ לָ֤הּ אֶל־הַצּוּר֙ מִתְּחִלַּ֣ת קָצִ֔יר </td>\n",
       "                        <td id=\"T_fe980_row0_col2\" class=\"data row0 col2\" >posterior_dur</td>\n",
       "                        <td id=\"T_fe980_row0_col3\" class=\"data row0 col3\" >מן+תחלה</td>\n",
       "            </tr>\n",
       "    </tbody></table>"
      ],
      "text/plain": [
       "<pandas.io.formats.style.Styler at 0x7ffcfc6aa4c0>"
      ]
     },
     "metadata": {},
     "output_type": "display_data"
    },
    {
     "name": "stdout",
     "output_type": "stream",
     "text": [
      "--------------------------------------------------\n"
     ]
    }
   ],
   "source": [
    "seqs = {\n",
    "    'anterior_dur': ['antdur', 'Anterior Durative'],\n",
    "    'anterior': ['ant', 'Anterior'],\n",
    "    'posterior': ['post', 'Posterior'],\n",
    "    'posterior_dur': ['postdur', 'Posterior Durative'],\n",
    "}\n",
    "\n",
    "for function, namedata in seqs.items():\n",
    "    abbrev, full = namedata\n",
    "    fronts = funct2data[function]['ct'].index\n",
    "    print(function)\n",
    "    for front in fronts:\n",
    "        print(front)\n",
    "        exdf = df_main[\n",
    "            (df_main.function == function)\n",
    "            & (df_main.front == front)\n",
    "        ]\n",
    "        display(\n",
    "            ts.show(exdf, spread=5, extra=['function', 'front'])\n",
    "        )\n",
    "    print('-'*50)"
   ]
  },
  {
   "cell_type": "code",
   "execution_count": null,
   "metadata": {},
   "outputs": [],
   "source": []
  }
 ],
 "metadata": {
  "kernelspec": {
   "display_name": "Python 3",
   "language": "python",
   "name": "python3"
  },
  "language_info": {
   "codemirror_mode": {
    "name": "ipython",
    "version": 3
   },
   "file_extension": ".py",
   "mimetype": "text/x-python",
   "name": "python",
   "nbconvert_exporter": "python",
   "pygments_lexer": "ipython3",
   "version": "3.8.5"
  }
 },
 "nbformat": 4,
 "nbformat_minor": 4
}
