{
 "cells": [
  {
   "cell_type": "markdown",
   "metadata": {},
   "source": [
    "# Time Adverbial Eval (n=0)"
   ]
  },
  {
   "cell_type": "code",
   "execution_count": null,
   "metadata": {},
   "outputs": [],
   "source": [
    "from eval_tools import load_style, Tracker\n",
    "load_style()\n",
    "tracker = Tracker(\n",
    "  \"/Users/cody/github/CambridgeSemiticsLab/time_collocations/results/parsing/time_parsings.json\",\n",
    "  \"/Users/cody/github/CambridgeSemiticsLab/time_collocations/results/parsing/time_corrections.json\",\n",
    ")\n",
    "save = tracker.save"
   ]
  }
 ],
 "metadata": {
  "kernelspec": {
   "display_name": "Python 3",
   "language": "python",
   "name": "python3"
  },
  "language_info": {
   "codemirror_mode": {
    "name": "ipython",
    "version": 3
   },
   "file_extension": ".py",
   "mimetype": "text/x-python",
   "name": "python",
   "nbconvert_exporter": "python",
   "pygments_lexer": "ipython3",
   "version": "3.8.5"
  }
 },
 "nbformat": 4,
 "nbformat_minor": 4
}
