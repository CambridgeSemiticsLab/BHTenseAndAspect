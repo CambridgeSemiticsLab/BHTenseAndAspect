{
 "cells": [
  {
   "cell_type": "markdown",
   "metadata": {},
   "source": [
    "# Time Adverbial Eval (n=100)"
   ]
  },
  {
   "cell_type": "code",
   "execution_count": null,
   "metadata": {},
   "outputs": [],
   "source": [
    "from eval_tools import load_style, Tracker\n",
    "load_style()\n",
    "tracker = Tracker(\n",
    "  \"/Users/cody/github/CambridgeSemiticsLab/time_collocations/results/parsing/time_parsings.json\",\n",
    "  \"/Users/cody/github/CambridgeSemiticsLab/time_collocations/results/parsing/time_corrections.json\",\n",
    ")\n",
    "save = tracker.save"
   ]
  },
  {
   "cell_type": "markdown",
   "metadata": {},
   "source": [
    "<div class=\"tfsechead rtl\"><a target=\"_blank\" href=\"https://shebanq.ancient-data.org/hebrew/text?book=Exodus&amp;chapter=5&amp;verse=8&amp;version=c&amp;mr=m&amp;qw=q&amp;tp=txt_p&amp;tr=hb&amp;wget=v&amp;qget=v&amp;nget=vt\" title=\"Show this on SHEBANQ\" sec=\"Exodus 5:8\">Exodus 5:8</a></div><div class=\"rtl children\"><div class=\"contnr c2  rtl  \" ><div class=\"lbl c2  \" ><a href=\"#\" class=\"nd\">clause:434026</a></div><div class=\"children hor wrap rtl\"><div class=\"contnr c1  rtl  \" ><div class=\"lbl c1  \" ><a href=\"#\" class=\"nd\">clause_atom:522301</a></div><div class=\"children hor wrap rtl\"><div class=\"contnr c1  rtl  \" ><div class=\"lbl c1  \" ><a href=\"#\" class=\"nd\">phrase_atom:924964</a></div><div class=\"children hor wrap rtl\"><div class=\"contnr c0 trm rtl  \" ><div class=\"lbl c0 trm \" ><a href=\"#\" class=\"nd\">30960</a> <a class=\" txtu hbo\" target=\"_blank\" href=\"https://shebanq.ancient-data.org/hebrew/word?version=c&amp;id=1ACR\" title=\"Show this on SHEBANQ\"><span class=\"txtu hbo\">אֲשֶׁ֣ר </span></a></div></div></div></div><div class=\"contnr c1  rtl  \" ><div class=\"lbl c1  \" ><a href=\"#\" class=\"nd\">phrase_atom:924965</a></div><div class=\"children hor wrap rtl\"><div class=\"contnr c0 trm rtl  \" ><div class=\"lbl c0 trm \" ><a href=\"#\" class=\"nd\">30961</a> <a class=\" txtu hbo\" target=\"_blank\" href=\"https://shebanq.ancient-data.org/hebrew/word?version=c&amp;id=1HM\" title=\"Show this on SHEBANQ\"><span class=\"txtu hbo\">הֵם֩ </span></a></div></div></div></div><div class=\"contnr c1  rtl  \" ><div class=\"lbl c1  \" ><a href=\"#\" class=\"nd\">phrase_atom:924966</a></div><div class=\"children hor wrap rtl\"><div class=\"contnr c0 trm rtl  \" ><div class=\"lbl c0 trm \" ><a href=\"#\" class=\"nd\">30962</a> <a class=\" txtu hbo\" target=\"_blank\" href=\"https://shebanq.ancient-data.org/hebrew/word?version=c&amp;id=1OFHv\" title=\"Show this on SHEBANQ\"><span class=\"txtu hbo\">עֹשִׂ֨ים </span></a></div></div></div></div><div class=\"contnr c1  rtl  \" ><div class=\"lbl c1  \" ><a href=\"#\" class=\"nd\">phrase_atom:924967</a></div><div class=\"children hor wrap rtl\"><div class=\"contnr c0 trm rtl  hl\" ><div class=\"lbl c0 trm hl\" ><a href=\"#\" class=\"nd\">30963</a> <a class=\" txtu hbo\" target=\"_blank\" href=\"https://shebanq.ancient-data.org/hebrew/word?version=c&amp;id=1TMWLn\" title=\"Show this on SHEBANQ\"><span class=\"txtu hbo\">תְּמֹ֤ול </span></a></div></div><div class=\"contnr c0 trm rtl  \" ><div class=\"lbl c0 trm \" ><a href=\"#\" class=\"nd\">30964</a> <a class=\" txtu hbo\" target=\"_blank\" href=\"https://shebanq.ancient-data.org/hebrew/word?version=c&amp;id=1CLCWMn\" title=\"Show this on SHEBANQ\"><span class=\"txtu hbo\">שִׁלְשֹׁם֙ </span></a></div></div></div></div></div></div></div></div></div>ESV: But the number of bricks that they made in the past you shall impose on them , you shall by no means reduce it , for they are idle . Therefore they cry , ‘ Let us go and offer sacrifice to our God . ’<br>"
   ]
  },
  {
   "cell_type": "code",
   "execution_count": null,
   "metadata": {},
   "outputs": [],
   "source": [
    "save(434026,\n",
    "\n",
    "{'functions': ['simultaneous'],\n",
    " 'refs': [['DEICTIC', 30963]],\n",
    " 'slots': [30963],\n",
    " 'tenses': [['PAST', 30963]],\n",
    " 'times': [30963]}\n",
    "\n",
    ")"
   ]
  },
  {
   "cell_type": "markdown",
   "metadata": {},
   "source": [
    "<div class=\"tfsechead rtl\"><a target=\"_blank\" href=\"https://shebanq.ancient-data.org/hebrew/text?book=Exodus&amp;chapter=5&amp;verse=14&amp;version=c&amp;mr=m&amp;qw=q&amp;tp=txt_p&amp;tr=hb&amp;wget=v&amp;qget=v&amp;nget=vt\" title=\"Show this on SHEBANQ\" sec=\"Exodus 5:14\">Exodus 5:14</a></div><div class=\"rtl children\"><div class=\"contnr c2  rtl l \" ><div class=\"lbl c2  \" ><a href=\"#\" class=\"nd\">clause:434054</a></div><div class=\"children hor wrap rtl\"><div class=\"contnr c1  rtl  \" ><div class=\"lbl c1  \" ><a href=\"#\" class=\"nd\">clause_atom:522330</a></div><div class=\"children hor wrap rtl\"><div class=\"contnr c1  rtl  \" ><div class=\"lbl c1  \" ><a href=\"#\" class=\"nd\">phrase_atom:925045</a></div><div class=\"children hor wrap rtl\"><div class=\"contnr c0 trm rtl  \" ><div class=\"lbl c0 trm \" ><a href=\"#\" class=\"nd\">31077</a> <a class=\" txtu hbo\" target=\"_blank\" href=\"https://shebanq.ancient-data.org/hebrew/word?version=c&amp;id=1MDWO\" title=\"Show this on SHEBANQ\"><span class=\"txtu hbo\">מַדּ֡וּעַ </span></a></div></div></div></div><div class=\"contnr c1  rtl  \" ><div class=\"lbl c1  \" ><a href=\"#\" class=\"nd\">phrase_atom:925046</a></div><div class=\"children hor wrap rtl\"><div class=\"contnr c0 trm rtl  \" ><div class=\"lbl c0 trm \" ><a href=\"#\" class=\"nd\">31078</a> <a class=\" txtu hbo\" target=\"_blank\" href=\"https://shebanq.ancient-data.org/hebrew/word?version=c&amp;id=1LA\" title=\"Show this on SHEBANQ\"><span class=\"txtu hbo\">לֹא֩ </span></a></div></div></div></div><div class=\"contnr c1  rtl  \" ><div class=\"lbl c1  \" ><a href=\"#\" class=\"nd\">phrase_atom:925047</a></div><div class=\"children hor wrap rtl\"><div class=\"contnr c0 trm rtl  \" ><div class=\"lbl c0 trm \" ><a href=\"#\" class=\"nd\">31079</a> <a class=\" txtu hbo\" target=\"_blank\" href=\"https://shebanq.ancient-data.org/hebrew/word?version=c&amp;id=1KLHv\" title=\"Show this on SHEBANQ\"><span class=\"txtu hbo\">כִלִּיתֶ֨ם </span></a></div></div></div></div><div class=\"contnr c1  rtl  \" ><div class=\"lbl c1  \" ><a href=\"#\" class=\"nd\">phrase_atom:925048</a></div><div class=\"children hor wrap rtl\"><div class=\"contnr c0 trm rtl  \" ><div class=\"lbl c0 trm \" ><a href=\"#\" class=\"nd\">31080</a> <a class=\" txtu hbo\" target=\"_blank\" href=\"https://shebanq.ancient-data.org/hebrew/word?version=c&amp;id=1XQn\" title=\"Show this on SHEBANQ\"><span class=\"txtu hbo\">חָקְכֶ֤ם </span></a></div></div></div></div></div></div></div></div><div class=\"contnr c2  rtl r \" ><div class=\"lbl c2  \" ><a href=\"#\" class=\"nd\">clause:434054</a></div><div class=\"children hor wrap rtl\"><div class=\"contnr c1  rtl  \" ><div class=\"lbl c1  \" ><a href=\"#\" class=\"nd\">clause_atom:522332</a></div><div class=\"children hor wrap rtl\"><div class=\"contnr c1  rtl  \" ><div class=\"lbl c1  \" ><a href=\"#\" class=\"nd\">phrase_atom:925051</a></div><div class=\"children hor wrap rtl\"><div class=\"contnr c0 trm rtl  \" ><div class=\"lbl c0 trm \" ><a href=\"#\" class=\"nd\">31086</a> <a class=\" txtu hbo\" target=\"_blank\" href=\"https://shebanq.ancient-data.org/hebrew/word?version=c&amp;id=1GM\" title=\"Show this on SHEBANQ\"><span class=\"txtu hbo\">גַּם־</span></a></div></div><div class=\"contnr c0 trm rtl  hl\" ><div class=\"lbl c0 trm hl\" ><a href=\"#\" class=\"nd\">31087</a> <a class=\" txtu hbo\" target=\"_blank\" href=\"https://shebanq.ancient-data.org/hebrew/word?version=c&amp;id=1TMWLn\" title=\"Show this on SHEBANQ\"><span class=\"txtu hbo\">תְּמֹ֖ול </span></a></div></div><div class=\"contnr c0 trm rtl  \" ><div class=\"lbl c0 trm \" ><a href=\"#\" class=\"nd\">31088</a> <a class=\" txtu hbo\" target=\"_blank\" href=\"https://shebanq.ancient-data.org/hebrew/word?version=c&amp;id=1GM\" title=\"Show this on SHEBANQ\"><span class=\"txtu hbo\">גַּם־</span></a></div></div><div class=\"contnr c0 trm rtl  hl\" ><div class=\"lbl c0 trm hl\" ><a href=\"#\" class=\"nd\">31089</a> <a class=\" txtu hbo\" target=\"_blank\" href=\"https://shebanq.ancient-data.org/hebrew/word?version=c&amp;id=1H\" title=\"Show this on SHEBANQ\"><span class=\"txtu hbo\">הַ</span></a></div></div><div class=\"contnr c0 trm rtl  hl\" ><div class=\"lbl c0 trm hl\" ><a href=\"#\" class=\"nd\">31090</a> <a class=\" txtu hbo\" target=\"_blank\" href=\"https://shebanq.ancient-data.org/hebrew/word?version=c&amp;id=1JWMn\" title=\"Show this on SHEBANQ\"><span class=\"txtu hbo\">יֹּֽום׃ </span></a></div></div></div></div></div></div></div></div></div>ESV: And the foremen of the people of Israel , whom Pharaoh’s taskmasters had set over them , were beaten and were asked , “ Why have you not done all your task of making bricks today and yesterday , as in the past ? ”<br>"
   ]
  },
  {
   "cell_type": "code",
   "execution_count": null,
   "metadata": {},
   "outputs": [],
   "source": [
    "save(434054,\n",
    "\n",
    "{'functions': ['atelic_ext'],\n",
    " 'quals': ['durative'],\n",
    " 'slots': [31087, 31089, 31090],\n",
    " 'times': [{'refs': [['DEICTIC', 31087]],\n",
    "            'slots': [31087],\n",
    "            'tenses': [['PAST', 31087]],\n",
    "            'times': [31087]},\n",
    "           {'refs': [['THE', 31089]],\n",
    "            'slots': [31089, 31090],\n",
    "            'times': [31090]}]}\n",
    "\n",
    ")"
   ]
  },
  {
   "cell_type": "markdown",
   "metadata": {},
   "source": [
    "<div class=\"tfsechead rtl\"><a target=\"_blank\" href=\"https://shebanq.ancient-data.org/hebrew/text?book=Exodus&amp;chapter=13&amp;verse=10&amp;version=c&amp;mr=m&amp;qw=q&amp;tp=txt_p&amp;tr=hb&amp;wget=v&amp;qget=v&amp;nget=vt\" title=\"Show this on SHEBANQ\" sec=\"Exodus 13:10\">Exodus 13:10</a></div><div class=\"rtl children\"><div class=\"contnr c2  rtl  \" ><div class=\"lbl c2  \" ><a href=\"#\" class=\"nd\">clause:434949</a></div><div class=\"children hor wrap rtl\"><div class=\"contnr c1  rtl  \" ><div class=\"lbl c1  \" ><a href=\"#\" class=\"nd\">clause_atom:523257</a></div><div class=\"children hor wrap rtl\"><div class=\"contnr c1  rtl  \" ><div class=\"lbl c1  \" ><a href=\"#\" class=\"nd\">phrase_atom:927926</a></div><div class=\"children hor wrap rtl\"><div class=\"contnr c0 trm rtl  \" ><div class=\"lbl c0 trm \" ><a href=\"#\" class=\"nd\">35952</a> <a class=\" txtu hbo\" target=\"_blank\" href=\"https://shebanq.ancient-data.org/hebrew/word?version=c&amp;id=1W\" title=\"Show this on SHEBANQ\"><span class=\"txtu hbo\">וְ</span></a></div></div></div></div><div class=\"contnr c1  rtl  \" ><div class=\"lbl c1  \" ><a href=\"#\" class=\"nd\">phrase_atom:927927</a></div><div class=\"children hor wrap rtl\"><div class=\"contnr c0 trm rtl  \" ><div class=\"lbl c0 trm \" ><a href=\"#\" class=\"nd\">35953</a> <a class=\" txtu hbo\" target=\"_blank\" href=\"https://shebanq.ancient-data.org/hebrew/word?version=c&amp;id=1CMRv\" title=\"Show this on SHEBANQ\"><span class=\"txtu hbo\">שָׁמַרְתָּ֛ </span></a></div></div></div></div><div class=\"contnr c1  rtl  \" ><div class=\"lbl c1  \" ><a href=\"#\" class=\"nd\">phrase_atom:927928</a></div><div class=\"children hor wrap rtl\"><div class=\"contnr c0 trm rtl  \" ><div class=\"lbl c0 trm \" ><a href=\"#\" class=\"nd\">35954</a> <a class=\" txtu hbo\" target=\"_blank\" href=\"https://shebanq.ancient-data.org/hebrew/word?version=c&amp;id=1AT\" title=\"Show this on SHEBANQ\"><span class=\"txtu hbo\">אֶת־</span></a></div></div><div class=\"contnr c0 trm rtl  \" ><div class=\"lbl c0 trm \" ><a href=\"#\" class=\"nd\">35955</a> <a class=\" txtu hbo\" target=\"_blank\" href=\"https://shebanq.ancient-data.org/hebrew/word?version=c&amp;id=1H\" title=\"Show this on SHEBANQ\"><span class=\"txtu hbo\">הַ</span></a></div></div><div class=\"contnr c0 trm rtl  \" ><div class=\"lbl c0 trm \" ><a href=\"#\" class=\"nd\">35956</a> <a class=\" txtu hbo\" target=\"_blank\" href=\"https://shebanq.ancient-data.org/hebrew/word?version=c&amp;id=1XQHn\" title=\"Show this on SHEBANQ\"><span class=\"txtu hbo\">חֻקָּ֥ה </span></a></div></div><div class=\"contnr c0 trm rtl  \" ><div class=\"lbl c0 trm \" ><a href=\"#\" class=\"nd\">35957</a> <a class=\" txtu hbo\" target=\"_blank\" href=\"https://shebanq.ancient-data.org/hebrew/word?version=c&amp;id=1H\" title=\"Show this on SHEBANQ\"><span class=\"txtu hbo\">הַ</span></a></div></div><div class=\"contnr c0 trm rtl  \" ><div class=\"lbl c0 trm \" ><a href=\"#\" class=\"nd\">35958</a> <a class=\" txtu hbo\" target=\"_blank\" href=\"https://shebanq.ancient-data.org/hebrew/word?version=c&amp;id=1ZAT\" title=\"Show this on SHEBANQ\"><span class=\"txtu hbo\">זֹּ֖את </span></a></div></div></div></div><div class=\"contnr c1  rtl  \" ><div class=\"lbl c1  \" ><a href=\"#\" class=\"nd\">phrase_atom:927929</a></div><div class=\"children hor wrap rtl\"><div class=\"contnr c0 trm rtl  \" ><div class=\"lbl c0 trm \" ><a href=\"#\" class=\"nd\">35959</a> <a class=\" txtu hbo\" target=\"_blank\" href=\"https://shebanq.ancient-data.org/hebrew/word?version=c&amp;id=1L\" title=\"Show this on SHEBANQ\"><span class=\"txtu hbo\">לְ</span></a></div></div><div class=\"contnr c0 trm rtl  \" ><div class=\"lbl c0 trm \" ><a href=\"#\" class=\"nd\">35960</a> <a class=\" txtu hbo\" target=\"_blank\" href=\"https://shebanq.ancient-data.org/hebrew/word?version=c&amp;id=1MWODn\" title=\"Show this on SHEBANQ\"><span class=\"txtu hbo\">מֹועֲדָ֑הּ </span></a></div></div></div></div><div class=\"contnr c1  rtl  \" ><div class=\"lbl c1  \" ><a href=\"#\" class=\"nd\">phrase_atom:927930</a></div><div class=\"children hor wrap rtl\"><div class=\"contnr c0 trm rtl  hl\" ><div class=\"lbl c0 trm hl\" ><a href=\"#\" class=\"nd\">35961</a> <a class=\" txtu hbo\" target=\"_blank\" href=\"https://shebanq.ancient-data.org/hebrew/word?version=c&amp;id=1MN\" title=\"Show this on SHEBANQ\"><span class=\"txtu hbo\">מִ</span></a></div></div><div class=\"contnr c0 trm rtl  hl\" ><div class=\"lbl c0 trm hl\" ><a href=\"#\" class=\"nd\">35962</a> <a class=\" txtu hbo\" target=\"_blank\" href=\"https://shebanq.ancient-data.org/hebrew/word?version=c&amp;id=1JWMn\" title=\"Show this on SHEBANQ\"><span class=\"txtu hbo\">יָּמִ֖ים </span></a></div></div><div class=\"contnr c0 trm rtl  \" ><div class=\"lbl c0 trm \" ><a href=\"#\" class=\"nd\">35963</a> <a class=\" txtu hbo\" target=\"_blank\" href=\"https://shebanq.ancient-data.org/hebrew/word?version=c&amp;id=1JWMn\" title=\"Show this on SHEBANQ\"><span class=\"txtu hbo\">יָמִֽימָה׃ ס </span></a></div></div></div></div></div></div></div></div></div>ESV: You shall therefore keep this statute at its appointed time from year to year .<br>"
   ]
  },
  {
   "cell_type": "code",
   "execution_count": null,
   "metadata": {},
   "outputs": [],
   "source": [
    "save(434949,\n",
    "\n",
    "{'functions': ['posterior, posterior_dur'],\n",
    " 'preps': [['MN', 35961]],\n",
    " 'quals': ['durative'],\n",
    " 'slots': [35961, 35962],\n",
    " 'times': [35962]}\n",
    "\n",
    ")"
   ]
  },
  {
   "cell_type": "markdown",
   "metadata": {},
   "source": [
    "<div class=\"tfsechead rtl\"><a target=\"_blank\" href=\"https://shebanq.ancient-data.org/hebrew/text?book=Exodus&amp;chapter=14&amp;verse=27&amp;version=c&amp;mr=m&amp;qw=q&amp;tp=txt_p&amp;tr=hb&amp;wget=v&amp;qget=v&amp;nget=vt\" title=\"Show this on SHEBANQ\" sec=\"Exodus 14:27\">Exodus 14:27</a></div><div class=\"rtl children\"><div class=\"contnr c2  rtl  \" ><div class=\"lbl c2  \" ><a href=\"#\" class=\"nd\">clause:435108</a></div><div class=\"children hor wrap rtl\"><div class=\"contnr c1  rtl  \" ><div class=\"lbl c1  \" ><a href=\"#\" class=\"nd\">clause_atom:523419</a></div><div class=\"children hor wrap rtl\"><div class=\"contnr c1  rtl  \" ><div class=\"lbl c1  \" ><a href=\"#\" class=\"nd\">phrase_atom:928449</a></div><div class=\"children hor wrap rtl\"><div class=\"contnr c0 trm rtl  \" ><div class=\"lbl c0 trm \" ><a href=\"#\" class=\"nd\">36796</a> <a class=\" txtu hbo\" target=\"_blank\" href=\"https://shebanq.ancient-data.org/hebrew/word?version=c&amp;id=1L\" title=\"Show this on SHEBANQ\"><span class=\"txtu hbo\">לִ</span></a></div></div><div class=\"contnr c0 trm rtl  \" ><div class=\"lbl c0 trm \" ><a href=\"#\" class=\"nd\">36797</a> <a class=\" txtu hbo\" target=\"_blank\" href=\"https://shebanq.ancient-data.org/hebrew/word?version=c&amp;id=1PNHv\" title=\"Show this on SHEBANQ\"><span class=\"txtu hbo\">פְנֹ֥ות </span></a></div></div></div></div><div class=\"contnr c1  rtl  \" ><div class=\"lbl c1  \" ><a href=\"#\" class=\"nd\">phrase_atom:928450</a></div><div class=\"children hor wrap rtl\"><div class=\"contnr c0 trm rtl  hl\" ><div class=\"lbl c0 trm hl\" ><a href=\"#\" class=\"nd\">36798</a> <a class=\" txtu hbo\" target=\"_blank\" href=\"https://shebanq.ancient-data.org/hebrew/word?version=c&amp;id=1BQRin\" title=\"Show this on SHEBANQ\"><span class=\"txtu hbo\">בֹּ֨קֶר֙ </span></a></div></div></div></div><div class=\"contnr c1  rtl  \" ><div class=\"lbl c1  \" ><a href=\"#\" class=\"nd\">phrase_atom:928451</a></div><div class=\"children hor wrap rtl\"><div class=\"contnr c0 trm rtl  \" ><div class=\"lbl c0 trm \" ><a href=\"#\" class=\"nd\">36799</a> <a class=\" txtu hbo\" target=\"_blank\" href=\"https://shebanq.ancient-data.org/hebrew/word?version=c&amp;id=1L\" title=\"Show this on SHEBANQ\"><span class=\"txtu hbo\">לְ</span></a></div></div><div class=\"contnr c0 trm rtl  \" ><div class=\"lbl c0 trm \" ><a href=\"#\" class=\"nd\">36800</a> <a class=\" txtu hbo\" target=\"_blank\" href=\"https://shebanq.ancient-data.org/hebrew/word?version=c&amp;id=1AJTNn\" title=\"Show this on SHEBANQ\"><span class=\"txtu hbo\">אֵ֣יתָנֹ֔ו </span></a></div></div></div></div></div></div></div></div></div>ESV: So Moses stretched out his hand over the sea , and the sea returned to its normal course when the morning appeared . And as the Egyptians fled into it , the Lord threw the Egyptians into the midst of the sea .<br>"
   ]
  },
  {
   "cell_type": "code",
   "execution_count": null,
   "metadata": {},
   "outputs": [],
   "source": [
    "save(435108,\n",
    "\n",
    "{'functions': ['simultaneous'], 'slots': [36798], 'times': [36798]}\n",
    "\n",
    ")"
   ]
  },
  {
   "cell_type": "markdown",
   "metadata": {},
   "source": [
    "<div class=\"tfsechead rtl\"><a target=\"_blank\" href=\"https://shebanq.ancient-data.org/hebrew/text?book=Exodus&amp;chapter=16&amp;verse=5&amp;version=c&amp;mr=m&amp;qw=q&amp;tp=txt_p&amp;tr=hb&amp;wget=v&amp;qget=v&amp;nget=vt\" title=\"Show this on SHEBANQ\" sec=\"Exodus 16:5\">Exodus 16:5</a></div><div class=\"rtl children\"><div class=\"contnr c2  rtl  \" ><div class=\"lbl c2  \" ><a href=\"#\" class=\"nd\">clause:435259</a></div><div class=\"children hor wrap rtl\"><div class=\"contnr c1  rtl  \" ><div class=\"lbl c1  \" ><a href=\"#\" class=\"nd\">clause_atom:523574</a></div><div class=\"children hor wrap rtl\"><div class=\"contnr c1  rtl  \" ><div class=\"lbl c1  \" ><a href=\"#\" class=\"nd\">phrase_atom:928880</a></div><div class=\"children hor wrap rtl\"><div class=\"contnr c0 trm rtl  \" ><div class=\"lbl c0 trm \" ><a href=\"#\" class=\"nd\">37483</a> <a class=\" txtu hbo\" target=\"_blank\" href=\"https://shebanq.ancient-data.org/hebrew/word?version=c&amp;id=1OL\" title=\"Show this on SHEBANQ\"><span class=\"txtu hbo\">עַ֥ל </span></a></div></div><div class=\"contnr c0 trm rtl  \" ><div class=\"lbl c0 trm \" ><a href=\"#\" class=\"nd\">37484</a> <a class=\" txtu hbo\" target=\"_blank\" href=\"https://shebanq.ancient-data.org/hebrew/word?version=c&amp;id=1ACR\" title=\"Show this on SHEBANQ\"><span class=\"txtu hbo\">אֲשֶֽׁר־</span></a></div></div></div></div><div class=\"contnr c1  rtl  \" ><div class=\"lbl c1  \" ><a href=\"#\" class=\"nd\">phrase_atom:928881</a></div><div class=\"children hor wrap rtl\"><div class=\"contnr c0 trm rtl  \" ><div class=\"lbl c0 trm \" ><a href=\"#\" class=\"nd\">37485</a> <a class=\" txtu hbo\" target=\"_blank\" href=\"https://shebanq.ancient-data.org/hebrew/word?version=c&amp;id=1LQVv\" title=\"Show this on SHEBANQ\"><span class=\"txtu hbo\">יִלְקְט֖וּ </span></a></div></div></div></div><div class=\"contnr c1  rtl  \" ><div class=\"lbl c1  \" ><a href=\"#\" class=\"nd\">phrase_atom:928882</a></div><div class=\"children hor wrap rtl\"><div class=\"contnr c0 trm rtl  hl\" ><div class=\"lbl c0 trm hl\" ><a href=\"#\" class=\"nd\">37486</a> <a class=\" txtu hbo\" target=\"_blank\" href=\"https://shebanq.ancient-data.org/hebrew/word?version=c&amp;id=1JWMn\" title=\"Show this on SHEBANQ\"><span class=\"txtu hbo\">יֹ֥ום׀ </span></a></div></div><div class=\"contnr c0 trm rtl  \" ><div class=\"lbl c0 trm \" ><a href=\"#\" class=\"nd\">37487</a> <a class=\" txtu hbo\" target=\"_blank\" href=\"https://shebanq.ancient-data.org/hebrew/word?version=c&amp;id=1JWMn\" title=\"Show this on SHEBANQ\"><span class=\"txtu hbo\">יֹֽום׃ ס </span></a></div></div></div></div></div></div></div></div></div>ESV: On the sixth day , when they prepare what they bring in , it will be twice as much as they gather daily . ”<br>"
   ]
  },
  {
   "cell_type": "code",
   "execution_count": null,
   "metadata": {},
   "outputs": [],
   "source": [
    "save(435259,\n",
    "\n",
    "{'functions': ['simultaneous'], 'slots': [37486], 'times': [37486]}\n",
    "\n",
    ")"
   ]
  },
  {
   "cell_type": "markdown",
   "metadata": {},
   "source": [
    "<div class=\"tfsechead rtl\"><a target=\"_blank\" href=\"https://shebanq.ancient-data.org/hebrew/text?book=Exodus&amp;chapter=17&amp;verse=16&amp;version=c&amp;mr=m&amp;qw=q&amp;tp=txt_p&amp;tr=hb&amp;wget=v&amp;qget=v&amp;nget=vt\" title=\"Show this on SHEBANQ\" sec=\"Exodus 17:16\">Exodus 17:16</a></div><div class=\"rtl children\"><div class=\"contnr c2  rtl  \" ><div class=\"lbl c2  \" ><a href=\"#\" class=\"nd\">clause:435481</a></div><div class=\"children hor wrap rtl\"><div class=\"contnr c1  rtl  \" ><div class=\"lbl c1  \" ><a href=\"#\" class=\"nd\">clause_atom:523800</a></div><div class=\"children hor wrap rtl\"><div class=\"contnr c1  rtl  \" ><div class=\"lbl c1  \" ><a href=\"#\" class=\"nd\">phrase_atom:929541</a></div><div class=\"children hor wrap rtl\"><div class=\"contnr c0 trm rtl  \" ><div class=\"lbl c0 trm \" ><a href=\"#\" class=\"nd\">38471</a> <a class=\" txtu hbo\" target=\"_blank\" href=\"https://shebanq.ancient-data.org/hebrew/word?version=c&amp;id=1MLXMHn\" title=\"Show this on SHEBANQ\"><span class=\"txtu hbo\">מִלְחָמָ֥ה </span></a></div></div></div></div><div class=\"contnr c1  rtl  \" ><div class=\"lbl c1  \" ><a href=\"#\" class=\"nd\">phrase_atom:929542</a></div><div class=\"children hor wrap rtl\"><div class=\"contnr c0 trm rtl  \" ><div class=\"lbl c0 trm \" ><a href=\"#\" class=\"nd\">38472</a> <a class=\" txtu hbo\" target=\"_blank\" href=\"https://shebanq.ancient-data.org/hebrew/word?version=c&amp;id=1L\" title=\"Show this on SHEBANQ\"><span class=\"txtu hbo\">לַ</span></a></div></div><div class=\"contnr c0 trm rtl  \" ><div class=\"lbl c0 trm \" ><a href=\"#\" class=\"nd\">38473</a> <a class=\" txtu hbo\" target=\"_blank\" href=\"https://shebanq.ancient-data.org/hebrew/word?version=c&amp;id=1JHWHn\" title=\"Show this on SHEBANQ\"><span class=\"txtu hbo\">יהוָ֖ה </span></a></div></div></div></div><div class=\"contnr c1  rtl  \" ><div class=\"lbl c1  \" ><a href=\"#\" class=\"nd\">phrase_atom:929543</a></div><div class=\"children hor wrap rtl\"><div class=\"contnr c0 trm rtl  \" ><div class=\"lbl c0 trm \" ><a href=\"#\" class=\"nd\">38474</a> <a class=\" txtu hbo\" target=\"_blank\" href=\"https://shebanq.ancient-data.org/hebrew/word?version=c&amp;id=1B\" title=\"Show this on SHEBANQ\"><span class=\"txtu hbo\">בַּֽ</span></a></div></div><div class=\"contnr c0 trm rtl  \" ><div class=\"lbl c0 trm \" ><a href=\"#\" class=\"nd\">38475</a> <a class=\" txtu hbo\" target=\"_blank\" href=\"https://shebanq.ancient-data.org/hebrew/word?version=c&amp;id=1OMLQn\" title=\"Show this on SHEBANQ\"><span class=\"txtu hbo\">עֲמָלֵ֑ק </span></a></div></div></div></div><div class=\"contnr c1  rtl  \" ><div class=\"lbl c1  \" ><a href=\"#\" class=\"nd\">phrase_atom:929544</a></div><div class=\"children hor wrap rtl\"><div class=\"contnr c0 trm rtl  hl\" ><div class=\"lbl c0 trm hl\" ><a href=\"#\" class=\"nd\">38476</a> <a class=\" txtu hbo\" target=\"_blank\" href=\"https://shebanq.ancient-data.org/hebrew/word?version=c&amp;id=1MN\" title=\"Show this on SHEBANQ\"><span class=\"txtu hbo\">מִ</span></a></div></div><div class=\"contnr c0 trm rtl  hl\" ><div class=\"lbl c0 trm hl\" ><a href=\"#\" class=\"nd\">38477</a> <a class=\" txtu hbo\" target=\"_blank\" href=\"https://shebanq.ancient-data.org/hebrew/word?version=c&amp;id=1DWRn\" title=\"Show this on SHEBANQ\"><span class=\"txtu hbo\">דֹּ֖ר </span></a></div></div><div class=\"contnr c0 trm rtl  \" ><div class=\"lbl c0 trm \" ><a href=\"#\" class=\"nd\">38478</a> <a class=\" txtu hbo\" target=\"_blank\" href=\"https://shebanq.ancient-data.org/hebrew/word?version=c&amp;id=1DWRn\" title=\"Show this on SHEBANQ\"><span class=\"txtu hbo\">דֹּֽר׃ פ </span></a></div></div></div></div></div></div></div></div></div>ESV: saying , “ A hand upon the throne of the Lord ! The Lord will have war with Amalek from generation to generation . ”<br>"
   ]
  },
  {
   "cell_type": "code",
   "execution_count": null,
   "metadata": {},
   "outputs": [],
   "source": [
    "save(435481,\n",
    "\n",
    "{'functions': ['posterior, posterior_dur'],\n",
    " 'preps': [['MN', 38476]],\n",
    " 'slots': [38476, 38477],\n",
    " 'times': [38477]}\n",
    "\n",
    ")"
   ]
  },
  {
   "cell_type": "markdown",
   "metadata": {},
   "source": [
    "<div class=\"tfsechead rtl\"><a target=\"_blank\" href=\"https://shebanq.ancient-data.org/hebrew/text?book=Exodus&amp;chapter=18&amp;verse=26&amp;version=c&amp;mr=m&amp;qw=q&amp;tp=txt_p&amp;tr=hb&amp;wget=v&amp;qget=v&amp;nget=vt\" title=\"Show this on SHEBANQ\" sec=\"Exodus 18:26\">Exodus 18:26</a></div><div class=\"rtl children\"><div class=\"contnr c2  rtl  \" ><div class=\"lbl c2  \" ><a href=\"#\" class=\"nd\">clause:435580</a></div><div class=\"children hor wrap rtl\"><div class=\"contnr c1  rtl  \" ><div class=\"lbl c1  \" ><a href=\"#\" class=\"nd\">clause_atom:523901</a></div><div class=\"children hor wrap rtl\"><div class=\"contnr c1  rtl  \" ><div class=\"lbl c1  \" ><a href=\"#\" class=\"nd\">phrase_atom:929873</a></div><div class=\"children hor wrap rtl\"><div class=\"contnr c0 trm rtl  \" ><div class=\"lbl c0 trm \" ><a href=\"#\" class=\"nd\">39019</a> <a class=\" txtu hbo\" target=\"_blank\" href=\"https://shebanq.ancient-data.org/hebrew/word?version=c&amp;id=1W\" title=\"Show this on SHEBANQ\"><span class=\"txtu hbo\">וְ</span></a></div></div></div></div><div class=\"contnr c1  rtl  \" ><div class=\"lbl c1  \" ><a href=\"#\" class=\"nd\">phrase_atom:929874</a></div><div class=\"children hor wrap rtl\"><div class=\"contnr c0 trm rtl  \" ><div class=\"lbl c0 trm \" ><a href=\"#\" class=\"nd\">39020</a> <a class=\" txtu hbo\" target=\"_blank\" href=\"https://shebanq.ancient-data.org/hebrew/word?version=c&amp;id=1CPVv\" title=\"Show this on SHEBANQ\"><span class=\"txtu hbo\">שָׁפְט֥וּ </span></a></div></div></div></div><div class=\"contnr c1  rtl  \" ><div class=\"lbl c1  \" ><a href=\"#\" class=\"nd\">phrase_atom:929875</a></div><div class=\"children hor wrap rtl\"><div class=\"contnr c0 trm rtl  \" ><div class=\"lbl c0 trm \" ><a href=\"#\" class=\"nd\">39021</a> <a class=\" txtu hbo\" target=\"_blank\" href=\"https://shebanq.ancient-data.org/hebrew/word?version=c&amp;id=1AT\" title=\"Show this on SHEBANQ\"><span class=\"txtu hbo\">אֶת־</span></a></div></div><div class=\"contnr c0 trm rtl  \" ><div class=\"lbl c0 trm \" ><a href=\"#\" class=\"nd\">39022</a> <a class=\" txtu hbo\" target=\"_blank\" href=\"https://shebanq.ancient-data.org/hebrew/word?version=c&amp;id=1H\" title=\"Show this on SHEBANQ\"><span class=\"txtu hbo\">הָ</span></a></div></div><div class=\"contnr c0 trm rtl  \" ><div class=\"lbl c0 trm \" ><a href=\"#\" class=\"nd\">39023</a> <a class=\" txtu hbo\" target=\"_blank\" href=\"https://shebanq.ancient-data.org/hebrew/word?version=c&amp;id=1OMn\" title=\"Show this on SHEBANQ\"><span class=\"txtu hbo\">עָ֖ם </span></a></div></div></div></div><div class=\"contnr c1  rtl  \" ><div class=\"lbl c1  \" ><a href=\"#\" class=\"nd\">phrase_atom:929876</a></div><div class=\"children hor wrap rtl\"><div class=\"contnr c0 trm rtl  hl\" ><div class=\"lbl c0 trm hl\" ><a href=\"#\" class=\"nd\">39024</a> <a class=\" txtu hbo\" target=\"_blank\" href=\"https://shebanq.ancient-data.org/hebrew/word?version=c&amp;id=1B\" title=\"Show this on SHEBANQ\"><span class=\"txtu hbo\">בְּ</span></a></div></div><div class=\"contnr c0 trm rtl  hl\" ><div class=\"lbl c0 trm hl\" ><a href=\"#\" class=\"nd\">39025</a> <a class=\" txtu hbo\" target=\"_blank\" href=\"https://shebanq.ancient-data.org/hebrew/word?version=c&amp;id=1KLn\" title=\"Show this on SHEBANQ\"><span class=\"txtu hbo\">כָל־</span></a></div></div><div class=\"contnr c0 trm rtl  hl\" ><div class=\"lbl c0 trm hl\" ><a href=\"#\" class=\"nd\">39026</a> <a class=\" txtu hbo\" target=\"_blank\" href=\"https://shebanq.ancient-data.org/hebrew/word?version=c&amp;id=1OTn\" title=\"Show this on SHEBANQ\"><span class=\"txtu hbo\">עֵ֑ת </span></a></div></div></div></div></div></div></div></div></div>ESV: And they judged the people at all times . Any hard case they brought to Moses , but any small matter they decided themselves .<br>"
   ]
  },
  {
   "cell_type": "code",
   "execution_count": null,
   "metadata": {},
   "outputs": [],
   "source": [
    "save(435580,\n",
    "\n",
    "{'functions': ['simultaneous'],\n",
    " 'preps': [['B', 39024]],\n",
    " 'quals': ['durative'],\n",
    " 'quants': [['ALL', 39025]],\n",
    " 'slots': [39024, 39025, 39026],\n",
    " 'times': [39026]}\n",
    "\n",
    ")"
   ]
  },
  {
   "cell_type": "markdown",
   "metadata": {},
   "source": [
    "<div class=\"tfsechead rtl\"><a target=\"_blank\" href=\"https://shebanq.ancient-data.org/hebrew/text?book=Exodus&amp;chapter=19&amp;verse=10&amp;version=c&amp;mr=m&amp;qw=q&amp;tp=txt_p&amp;tr=hb&amp;wget=v&amp;qget=v&amp;nget=vt\" title=\"Show this on SHEBANQ\" sec=\"Exodus 19:10\">Exodus 19:10</a></div><div class=\"rtl children\"><div class=\"contnr c2  rtl  \" ><div class=\"lbl c2  \" ><a href=\"#\" class=\"nd\">clause:435625</a></div><div class=\"children hor wrap rtl\"><div class=\"contnr c1  rtl  \" ><div class=\"lbl c1  \" ><a href=\"#\" class=\"nd\">clause_atom:523948</a></div><div class=\"children hor wrap rtl\"><div class=\"contnr c1  rtl  \" ><div class=\"lbl c1  \" ><a href=\"#\" class=\"nd\">phrase_atom:930027</a></div><div class=\"children hor wrap rtl\"><div class=\"contnr c0 trm rtl  \" ><div class=\"lbl c0 trm \" ><a href=\"#\" class=\"nd\">39264</a> <a class=\" txtu hbo\" target=\"_blank\" href=\"https://shebanq.ancient-data.org/hebrew/word?version=c&amp;id=1W\" title=\"Show this on SHEBANQ\"><span class=\"txtu hbo\">וְ</span></a></div></div></div></div><div class=\"contnr c1  rtl  \" ><div class=\"lbl c1  \" ><a href=\"#\" class=\"nd\">phrase_atom:930028</a></div><div class=\"children hor wrap rtl\"><div class=\"contnr c0 trm rtl  \" ><div class=\"lbl c0 trm \" ><a href=\"#\" class=\"nd\">39265</a> <a class=\" txtu hbo\" target=\"_blank\" href=\"https://shebanq.ancient-data.org/hebrew/word?version=c&amp;id=1QDCv\" title=\"Show this on SHEBANQ\"><span class=\"txtu hbo\">קִדַּשְׁתָּ֥ם </span></a></div></div></div></div><div class=\"contnr c1  rtl  \" ><div class=\"lbl c1  \" ><a href=\"#\" class=\"nd\">phrase_atom:930029</a></div><div class=\"children hor wrap rtl\"><div class=\"contnr c0 trm rtl  hl\" ><div class=\"lbl c0 trm hl\" ><a href=\"#\" class=\"nd\">39266</a> <a class=\" txtu hbo\" target=\"_blank\" href=\"https://shebanq.ancient-data.org/hebrew/word?version=c&amp;id=1H\" title=\"Show this on SHEBANQ\"><span class=\"txtu hbo\">הַ</span></a></div></div><div class=\"contnr c0 trm rtl  hl\" ><div class=\"lbl c0 trm hl\" ><a href=\"#\" class=\"nd\">39267</a> <a class=\" txtu hbo\" target=\"_blank\" href=\"https://shebanq.ancient-data.org/hebrew/word?version=c&amp;id=1JWMn\" title=\"Show this on SHEBANQ\"><span class=\"txtu hbo\">יֹּ֖ום </span></a></div></div><div class=\"contnr c0 trm rtl  \" ><div class=\"lbl c0 trm \" ><a href=\"#\" class=\"nd\">39268</a> <a class=\" txtu hbo\" target=\"_blank\" href=\"https://shebanq.ancient-data.org/hebrew/word?version=c&amp;id=1W\" title=\"Show this on SHEBANQ\"><span class=\"txtu hbo\">וּ</span></a></div></div><div class=\"contnr c0 trm rtl  hl\" ><div class=\"lbl c0 trm hl\" ><a href=\"#\" class=\"nd\">39269</a> <a class=\" txtu hbo\" target=\"_blank\" href=\"https://shebanq.ancient-data.org/hebrew/word?version=c&amp;id=1MXRn\" title=\"Show this on SHEBANQ\"><span class=\"txtu hbo\">מָחָ֑ר </span></a></div></div></div></div></div></div></div></div></div>ESV: the Lord said to Moses , “ Go to the people and consecrate them today and tomorrow , and let them wash their garments<br>"
   ]
  },
  {
   "cell_type": "code",
   "execution_count": null,
   "metadata": {},
   "outputs": [],
   "source": [
    "save(435625,\n",
    "\n",
    "{'functions': ['atelic_ext'],\n",
    " 'quals': ['durative'],\n",
    " 'refs': [['THE', 39266]],\n",
    " 'slots': [39266, 39267, 39269],\n",
    " 'times': [{'slots': [39267], 'times': [39267]},\n",
    "           {'refs': [['DEICTIC', 39269]],\n",
    "            'slots': [39269],\n",
    "            'tenses': [['FUT', 39269]],\n",
    "            'times': [39269]}]}\n",
    "\n",
    ")"
   ]
  },
  {
   "cell_type": "markdown",
   "metadata": {},
   "source": [
    "<div class=\"tfsechead rtl\"><a target=\"_blank\" href=\"https://shebanq.ancient-data.org/hebrew/text?book=Exodus&amp;chapter=19&amp;verse=11&amp;version=c&amp;mr=m&amp;qw=q&amp;tp=txt_p&amp;tr=hb&amp;wget=v&amp;qget=v&amp;nget=vt\" title=\"Show this on SHEBANQ\" sec=\"Exodus 19:11\">Exodus 19:11</a></div><div class=\"rtl children\"><div class=\"contnr c2  rtl  \" ><div class=\"lbl c2  \" ><a href=\"#\" class=\"nd\">clause:435627</a></div><div class=\"children hor wrap rtl\"><div class=\"contnr c1  rtl  \" ><div class=\"lbl c1  \" ><a href=\"#\" class=\"nd\">clause_atom:523950</a></div><div class=\"children hor wrap rtl\"><div class=\"contnr c1  rtl  \" ><div class=\"lbl c1  \" ><a href=\"#\" class=\"nd\">phrase_atom:930033</a></div><div class=\"children hor wrap rtl\"><div class=\"contnr c0 trm rtl  \" ><div class=\"lbl c0 trm \" ><a href=\"#\" class=\"nd\">39273</a> <a class=\" txtu hbo\" target=\"_blank\" href=\"https://shebanq.ancient-data.org/hebrew/word?version=c&amp;id=1W\" title=\"Show this on SHEBANQ\"><span class=\"txtu hbo\">וְ</span></a></div></div></div></div><div class=\"contnr c1  rtl  \" ><div class=\"lbl c1  \" ><a href=\"#\" class=\"nd\">phrase_atom:930034</a></div><div class=\"children hor wrap rtl\"><div class=\"contnr c0 trm rtl  \" ><div class=\"lbl c0 trm \" ><a href=\"#\" class=\"nd\">39274</a> <a class=\" txtu hbo\" target=\"_blank\" href=\"https://shebanq.ancient-data.org/hebrew/word?version=c&amp;id=1HJHv\" title=\"Show this on SHEBANQ\"><span class=\"txtu hbo\">הָי֥וּ </span></a></div></div></div></div><div class=\"contnr c1  rtl  \" ><div class=\"lbl c1  \" ><a href=\"#\" class=\"nd\">phrase_atom:930035</a></div><div class=\"children hor wrap rtl\"><div class=\"contnr c0 trm rtl  \" ><div class=\"lbl c0 trm \" ><a href=\"#\" class=\"nd\">39275</a> <a class=\" txtu hbo\" target=\"_blank\" href=\"https://shebanq.ancient-data.org/hebrew/word?version=c&amp;id=1KWNv\" title=\"Show this on SHEBANQ\"><span class=\"txtu hbo\">נְכֹנִ֖ים </span></a></div></div></div></div><div class=\"contnr c1  rtl  \" ><div class=\"lbl c1  \" ><a href=\"#\" class=\"nd\">phrase_atom:930036</a></div><div class=\"children hor wrap rtl\"><div class=\"contnr c0 trm rtl  hl\" ><div class=\"lbl c0 trm hl\" ><a href=\"#\" class=\"nd\">39276</a> <a class=\" txtu hbo\" target=\"_blank\" href=\"https://shebanq.ancient-data.org/hebrew/word?version=c&amp;id=1L\" title=\"Show this on SHEBANQ\"><span class=\"txtu hbo\">לַ</span></a></div></div><div class=\"contnr c0 trm rtl  hl\" ><div class=\"lbl c0 trm hl\" ><a href=\"#\" class=\"nd\">39277</a> <a class=\" txtu hbo\" target=\"_blank\" href=\"https://shebanq.ancient-data.org/hebrew/word?version=c&amp;id=1H\" title=\"Show this on SHEBANQ\"></a></div></div><div class=\"contnr c0 trm rtl  hl\" ><div class=\"lbl c0 trm hl\" ><a href=\"#\" class=\"nd\">39278</a> <a class=\" txtu hbo\" target=\"_blank\" href=\"https://shebanq.ancient-data.org/hebrew/word?version=c&amp;id=1JWMn\" title=\"Show this on SHEBANQ\"><span class=\"txtu hbo\">יֹּ֣ום </span></a></div></div><div class=\"contnr c0 trm rtl  \" ><div class=\"lbl c0 trm \" ><a href=\"#\" class=\"nd\">39279</a> <a class=\" txtu hbo\" target=\"_blank\" href=\"https://shebanq.ancient-data.org/hebrew/word?version=c&amp;id=1H\" title=\"Show this on SHEBANQ\"><span class=\"txtu hbo\">הַ</span></a></div></div><div class=\"contnr c0 trm rtl  hl\" ><div class=\"lbl c0 trm hl\" ><a href=\"#\" class=\"nd\">39280</a> <a class=\" txtu hbo\" target=\"_blank\" href=\"https://shebanq.ancient-data.org/hebrew/word?version=c&amp;id=1CLJCJn\" title=\"Show this on SHEBANQ\"><span class=\"txtu hbo\">שְּׁלִישִׁ֑י </span></a></div></div></div></div></div></div></div></div></div>ESV: and be ready for the third day . For on the third day the Lord will come down on Mount Sinai in the sight of all the people .<br>"
   ]
  },
  {
   "cell_type": "code",
   "execution_count": null,
   "metadata": {},
   "outputs": [],
   "source": [
    "save(435627,\n",
    "\n",
    "{'functions': ['anterior_dur, simultaneous'],\n",
    " 'preps': [['L', 39276]],\n",
    " 'refs': [['ORDN', 39280], ['THE', 39277]],\n",
    " 'slots': [39276, 39277, 39278, 39280],\n",
    " 'times': [39278]}\n",
    "\n",
    ")"
   ]
  },
  {
   "cell_type": "markdown",
   "metadata": {},
   "source": [
    "<div class=\"tfsechead rtl\"><a target=\"_blank\" href=\"https://shebanq.ancient-data.org/hebrew/text?book=Exodus&amp;chapter=19&amp;verse=15&amp;version=c&amp;mr=m&amp;qw=q&amp;tp=txt_p&amp;tr=hb&amp;wget=v&amp;qget=v&amp;nget=vt\" title=\"Show this on SHEBANQ\" sec=\"Exodus 19:15\">Exodus 19:15</a></div><div class=\"rtl children\"><div class=\"contnr c2  rtl  \" ><div class=\"lbl c2  \" ><a href=\"#\" class=\"nd\">clause:435648</a></div><div class=\"children hor wrap rtl\"><div class=\"contnr c1  rtl  \" ><div class=\"lbl c1  \" ><a href=\"#\" class=\"nd\">clause_atom:523972</a></div><div class=\"children hor wrap rtl\"><div class=\"contnr c1  rtl  \" ><div class=\"lbl c1  \" ><a href=\"#\" class=\"nd\">phrase_atom:930096</a></div><div class=\"children hor wrap rtl\"><div class=\"contnr c0 trm rtl  \" ><div class=\"lbl c0 trm \" ><a href=\"#\" class=\"nd\">39370</a> <a class=\" txtu hbo\" target=\"_blank\" href=\"https://shebanq.ancient-data.org/hebrew/word?version=c&amp;id=1HJHv\" title=\"Show this on SHEBANQ\"><span class=\"txtu hbo\">הֱי֥וּ </span></a></div></div></div></div><div class=\"contnr c1  rtl  \" ><div class=\"lbl c1  \" ><a href=\"#\" class=\"nd\">phrase_atom:930097</a></div><div class=\"children hor wrap rtl\"><div class=\"contnr c0 trm rtl  \" ><div class=\"lbl c0 trm \" ><a href=\"#\" class=\"nd\">39371</a> <a class=\" txtu hbo\" target=\"_blank\" href=\"https://shebanq.ancient-data.org/hebrew/word?version=c&amp;id=1KWNv\" title=\"Show this on SHEBANQ\"><span class=\"txtu hbo\">נְכֹנִ֖ים </span></a></div></div></div></div><div class=\"contnr c1  rtl  \" ><div class=\"lbl c1  \" ><a href=\"#\" class=\"nd\">phrase_atom:930098</a></div><div class=\"children hor wrap rtl\"><div class=\"contnr c0 trm rtl  hl\" ><div class=\"lbl c0 trm hl\" ><a href=\"#\" class=\"nd\">39372</a> <a class=\" txtu hbo\" target=\"_blank\" href=\"https://shebanq.ancient-data.org/hebrew/word?version=c&amp;id=1L\" title=\"Show this on SHEBANQ\"><span class=\"txtu hbo\">לִ</span></a></div></div><div class=\"contnr c0 trm rtl  hl\" ><div class=\"lbl c0 trm hl\" ><a href=\"#\" class=\"nd\">39373</a> <a class=\" txtu hbo\" target=\"_blank\" href=\"https://shebanq.ancient-data.org/hebrew/word?version=c&amp;id=1CLCn\" title=\"Show this on SHEBANQ\"><span class=\"txtu hbo\">שְׁלֹ֣שֶׁת </span></a></div></div><div class=\"contnr c0 trm rtl  hl\" ><div class=\"lbl c0 trm hl\" ><a href=\"#\" class=\"nd\">39374</a> <a class=\" txtu hbo\" target=\"_blank\" href=\"https://shebanq.ancient-data.org/hebrew/word?version=c&amp;id=1JWMn\" title=\"Show this on SHEBANQ\"><span class=\"txtu hbo\">יָמִ֑ים </span></a></div></div></div></div></div></div></div></div></div>ESV: And he said to the people , “ Be ready for the third day . do not go near a woman . ”<br>"
   ]
  },
  {
   "cell_type": "code",
   "execution_count": null,
   "metadata": {},
   "outputs": [],
   "source": [
    "save(435648,\n",
    "\n",
    "{'functions': ['anterior_dur, simultaneous'],\n",
    " 'preps': [['L', 39372]],\n",
    " 'quals': ['durative'],\n",
    " 'quants': [['NUMQ', 39373]],\n",
    " 'slots': [39372, 39373, 39374],\n",
    " 'times': [39374]}\n",
    "\n",
    ")"
   ]
  },
  {
   "cell_type": "markdown",
   "metadata": {},
   "source": [
    "<div class=\"tfsechead rtl\"><a target=\"_blank\" href=\"https://shebanq.ancient-data.org/hebrew/text?book=Exodus&amp;chapter=21&amp;verse=2&amp;version=c&amp;mr=m&amp;qw=q&amp;tp=txt_p&amp;tr=hb&amp;wget=v&amp;qget=v&amp;nget=vt\" title=\"Show this on SHEBANQ\" sec=\"Exodus 21:2\">Exodus 21:2</a></div><div class=\"rtl children\"><div class=\"contnr c2  rtl  \" ><div class=\"lbl c2  \" ><a href=\"#\" class=\"nd\">clause:435777</a></div><div class=\"children hor wrap rtl\"><div class=\"contnr c1  rtl  \" ><div class=\"lbl c1  \" ><a href=\"#\" class=\"nd\">clause_atom:524105</a></div><div class=\"children hor wrap rtl\"><div class=\"contnr c1  rtl  \" ><div class=\"lbl c1  \" ><a href=\"#\" class=\"nd\">phrase_atom:930500</a></div><div class=\"children hor wrap rtl\"><div class=\"contnr c0 trm rtl  \" ><div class=\"lbl c0 trm \" ><a href=\"#\" class=\"nd\">40030</a> <a class=\" txtu hbo\" target=\"_blank\" href=\"https://shebanq.ancient-data.org/hebrew/word?version=c&amp;id=1W\" title=\"Show this on SHEBANQ\"><span class=\"txtu hbo\">וּ</span></a></div></div></div></div><div class=\"contnr c1  rtl  \" ><div class=\"lbl c1  \" ><a href=\"#\" class=\"nd\">phrase_atom:930501</a></div><div class=\"children hor wrap rtl\"><div class=\"contnr c0 trm rtl  hl\" ><div class=\"lbl c0 trm hl\" ><a href=\"#\" class=\"nd\">40031</a> <a class=\" txtu hbo\" target=\"_blank\" href=\"https://shebanq.ancient-data.org/hebrew/word?version=c&amp;id=1B\" title=\"Show this on SHEBANQ\"><span class=\"txtu hbo\">בַ֨</span></a></div></div><div class=\"contnr c0 trm rtl  hl\" ><div class=\"lbl c0 trm hl\" ><a href=\"#\" class=\"nd\">40032</a> <a class=\" txtu hbo\" target=\"_blank\" href=\"https://shebanq.ancient-data.org/hebrew/word?version=c&amp;id=1H\" title=\"Show this on SHEBANQ\"></a></div></div><div class=\"contnr c0 trm rtl  hl\" ><div class=\"lbl c0 trm hl\" ><a href=\"#\" class=\"nd\">40033</a> <a class=\" txtu hbo\" target=\"_blank\" href=\"https://shebanq.ancient-data.org/hebrew/word?version=c&amp;id=1CBJOJn\" title=\"Show this on SHEBANQ\"><span class=\"txtu hbo\">שְּׁבִעִ֔ת </span></a></div></div></div></div><div class=\"contnr c1  rtl  \" ><div class=\"lbl c1  \" ><a href=\"#\" class=\"nd\">phrase_atom:930502</a></div><div class=\"children hor wrap rtl\"><div class=\"contnr c0 trm rtl  \" ><div class=\"lbl c0 trm \" ><a href=\"#\" class=\"nd\">40034</a> <a class=\" txtu hbo\" target=\"_blank\" href=\"https://shebanq.ancient-data.org/hebrew/word?version=c&amp;id=1JYAv\" title=\"Show this on SHEBANQ\"><span class=\"txtu hbo\">יֵצֵ֥א </span></a></div></div></div></div><div class=\"contnr c1  rtl  \" ><div class=\"lbl c1  \" ><a href=\"#\" class=\"nd\">phrase_atom:930503</a></div><div class=\"children hor wrap rtl\"><div class=\"contnr c0 trm rtl  \" ><div class=\"lbl c0 trm \" ><a href=\"#\" class=\"nd\">40035</a> <a class=\" txtu hbo\" target=\"_blank\" href=\"https://shebanq.ancient-data.org/hebrew/word?version=c&amp;id=1L\" title=\"Show this on SHEBANQ\"><span class=\"txtu hbo\">לַֽ</span></a></div></div><div class=\"contnr c0 trm rtl  \" ><div class=\"lbl c0 trm \" ><a href=\"#\" class=\"nd\">40036</a> <a class=\" txtu hbo\" target=\"_blank\" href=\"https://shebanq.ancient-data.org/hebrew/word?version=c&amp;id=1H\" title=\"Show this on SHEBANQ\"></a></div></div><div class=\"contnr c0 trm rtl  \" ><div class=\"lbl c0 trm \" ><a href=\"#\" class=\"nd\">40037</a> <a class=\" txtu hbo\" target=\"_blank\" href=\"https://shebanq.ancient-data.org/hebrew/word?version=c&amp;id=1XPCJn\" title=\"Show this on SHEBANQ\"><span class=\"txtu hbo\">חָפְשִׁ֖י </span></a></div></div></div></div><div class=\"contnr c1  rtl  \" ><div class=\"lbl c1  \" ><a href=\"#\" class=\"nd\">phrase_atom:930504</a></div><div class=\"children hor wrap rtl\"><div class=\"contnr c0 trm rtl  \" ><div class=\"lbl c0 trm \" ><a href=\"#\" class=\"nd\">40038</a> <a class=\" txtu hbo\" target=\"_blank\" href=\"https://shebanq.ancient-data.org/hebrew/word?version=c&amp;id=1XNM\" title=\"Show this on SHEBANQ\"><span class=\"txtu hbo\">חִנָּֽם׃ </span></a></div></div></div></div></div></div></div></div></div>ESV: When you buy a Hebrew slave , he shall serve six years , and in the seventh he shall go out free , for nothing .<br>"
   ]
  },
  {
   "cell_type": "code",
   "execution_count": null,
   "metadata": {},
   "outputs": [],
   "source": [
    "save(435777,\n",
    "\n",
    "{'functions': ['simultaneous'],\n",
    " 'ordn': {'lex': 'CBJ<J/',\n",
    "          'parse': 40033,\n",
    "          'phatom': 930501,\n",
    "          'slots': [40033, 40032]},\n",
    " 'preps': [['B', 40031]],\n",
    " 'refs': [['THE', 40032]],\n",
    " 'slots': [40031, 40032, 40033],\n",
    " 'times': [40033]}\n",
    "\n",
    ")"
   ]
  },
  {
   "cell_type": "markdown",
   "metadata": {},
   "source": [
    "<div class=\"tfsechead rtl\"><a target=\"_blank\" href=\"https://shebanq.ancient-data.org/hebrew/text?book=Exodus&amp;chapter=21&amp;verse=29&amp;version=c&amp;mr=m&amp;qw=q&amp;tp=txt_p&amp;tr=hb&amp;wget=v&amp;qget=v&amp;nget=vt\" title=\"Show this on SHEBANQ\" sec=\"Exodus 21:29\">Exodus 21:29</a></div><div class=\"rtl children\"><div class=\"contnr c2  rtl  \" ><div class=\"lbl c2  \" ><a href=\"#\" class=\"nd\">clause:435870</a></div><div class=\"children hor wrap rtl\"><div class=\"contnr c1  rtl  \" ><div class=\"lbl c1  \" ><a href=\"#\" class=\"nd\">clause_atom:524198</a></div><div class=\"children hor wrap rtl\"><div class=\"contnr c1  rtl  \" ><div class=\"lbl c1  \" ><a href=\"#\" class=\"nd\">phrase_atom:930787</a></div><div class=\"children hor wrap rtl\"><div class=\"contnr c0 trm rtl  \" ><div class=\"lbl c0 trm \" ><a href=\"#\" class=\"nd\">40437</a> <a class=\" txtu hbo\" target=\"_blank\" href=\"https://shebanq.ancient-data.org/hebrew/word?version=c&amp;id=1W\" title=\"Show this on SHEBANQ\"><span class=\"txtu hbo\">וְ</span></a></div></div></div></div><div class=\"contnr c1  rtl  \" ><div class=\"lbl c1  \" ><a href=\"#\" class=\"nd\">phrase_atom:930788</a></div><div class=\"children hor wrap rtl\"><div class=\"contnr c0 trm rtl  \" ><div class=\"lbl c0 trm \" ><a href=\"#\" class=\"nd\">40438</a> <a class=\" txtu hbo\" target=\"_blank\" href=\"https://shebanq.ancient-data.org/hebrew/word?version=c&amp;id=1AM\" title=\"Show this on SHEBANQ\"><span class=\"txtu hbo\">אִ֡ם </span></a></div></div></div></div><div class=\"contnr c1  rtl  \" ><div class=\"lbl c1  \" ><a href=\"#\" class=\"nd\">phrase_atom:930789</a></div><div class=\"children hor wrap rtl\"><div class=\"contnr c0 trm rtl  \" ><div class=\"lbl c0 trm \" ><a href=\"#\" class=\"nd\">40439</a> <a class=\" txtu hbo\" target=\"_blank\" href=\"https://shebanq.ancient-data.org/hebrew/word?version=c&amp;id=1CWRn\" title=\"Show this on SHEBANQ\"><span class=\"txtu hbo\">שֹׁור֩ </span></a></div></div><div class=\"contnr c0 trm rtl  \" ><div class=\"lbl c0 trm \" ><a href=\"#\" class=\"nd\">40440</a> <a class=\" txtu hbo\" target=\"_blank\" href=\"https://shebanq.ancient-data.org/hebrew/word?version=c&amp;id=1NGXn\" title=\"Show this on SHEBANQ\"><span class=\"txtu hbo\">נַגָּ֨ח </span></a></div></div></div></div><div class=\"contnr c1  rtl  \" ><div class=\"lbl c1  \" ><a href=\"#\" class=\"nd\">phrase_atom:930790</a></div><div class=\"children hor wrap rtl\"><div class=\"contnr c0 trm rtl  \" ><div class=\"lbl c0 trm \" ><a href=\"#\" class=\"nd\">40441</a> <a class=\" txtu hbo\" target=\"_blank\" href=\"https://shebanq.ancient-data.org/hebrew/word?version=c&amp;id=1HWA\" title=\"Show this on SHEBANQ\"><span class=\"txtu hbo\">ה֜וּא </span></a></div></div></div></div><div class=\"contnr c1  rtl  \" ><div class=\"lbl c1  \" ><a href=\"#\" class=\"nd\">phrase_atom:930791</a></div><div class=\"children hor wrap rtl\"><div class=\"contnr c0 trm rtl  hl\" ><div class=\"lbl c0 trm hl\" ><a href=\"#\" class=\"nd\">40442</a> <a class=\" txtu hbo\" target=\"_blank\" href=\"https://shebanq.ancient-data.org/hebrew/word?version=c&amp;id=1MN\" title=\"Show this on SHEBANQ\"><span class=\"txtu hbo\">מִ</span></a></div></div><div class=\"contnr c0 trm rtl  hl\" ><div class=\"lbl c0 trm hl\" ><a href=\"#\" class=\"nd\">40443</a> <a class=\" txtu hbo\" target=\"_blank\" href=\"https://shebanq.ancient-data.org/hebrew/word?version=c&amp;id=1TMWLn\" title=\"Show this on SHEBANQ\"><span class=\"txtu hbo\">תְּמֹ֣ל </span></a></div></div><div class=\"contnr c0 trm rtl  \" ><div class=\"lbl c0 trm \" ><a href=\"#\" class=\"nd\">40444</a> <a class=\" txtu hbo\" target=\"_blank\" href=\"https://shebanq.ancient-data.org/hebrew/word?version=c&amp;id=1CLCWMn\" title=\"Show this on SHEBANQ\"><span class=\"txtu hbo\">שִׁלְשֹׁ֗ם </span></a></div></div></div></div></div></div></div></div></div>ESV: But if the ox has been accustomed to gore in the past , and its owner has been warned but has not kept it in , and it kills a man or a woman , the ox shall be stoned , and its owner also shall be put to death .<br>"
   ]
  },
  {
   "cell_type": "code",
   "execution_count": null,
   "metadata": {},
   "outputs": [],
   "source": [
    "save(435870,\n",
    "\n",
    "{'functions': ['posterior, posterior_dur'],\n",
    " 'preps': [['MN', 40442]],\n",
    " 'refs': [['DEICTIC', 40443]],\n",
    " 'slots': [40442, 40443],\n",
    " 'tenses': [['PAST', 40443]],\n",
    " 'times': [40443]}\n",
    "\n",
    ")"
   ]
  },
  {
   "cell_type": "markdown",
   "metadata": {},
   "source": [
    "<div class=\"tfsechead rtl\"><a target=\"_blank\" href=\"https://shebanq.ancient-data.org/hebrew/text?book=Exodus&amp;chapter=21&amp;verse=36&amp;version=c&amp;mr=m&amp;qw=q&amp;tp=txt_p&amp;tr=hb&amp;wget=v&amp;qget=v&amp;nget=vt\" title=\"Show this on SHEBANQ\" sec=\"Exodus 21:36\">Exodus 21:36</a></div><div class=\"rtl children\"><div class=\"contnr c2  rtl  \" ><div class=\"lbl c2  \" ><a href=\"#\" class=\"nd\">clause:435898</a></div><div class=\"children hor wrap rtl\"><div class=\"contnr c1  rtl  \" ><div class=\"lbl c1  \" ><a href=\"#\" class=\"nd\">clause_atom:524226</a></div><div class=\"children hor wrap rtl\"><div class=\"contnr c1  rtl  \" ><div class=\"lbl c1  \" ><a href=\"#\" class=\"nd\">phrase_atom:930882</a></div><div class=\"children hor wrap rtl\"><div class=\"contnr c0 trm rtl  \" ><div class=\"lbl c0 trm \" ><a href=\"#\" class=\"nd\">40568</a> <a class=\" txtu hbo\" target=\"_blank\" href=\"https://shebanq.ancient-data.org/hebrew/word?version=c&amp;id=1KJ\" title=\"Show this on SHEBANQ\"><span class=\"txtu hbo\">כִּ֠י </span></a></div></div></div></div><div class=\"contnr c1  rtl  \" ><div class=\"lbl c1  \" ><a href=\"#\" class=\"nd\">phrase_atom:930883</a></div><div class=\"children hor wrap rtl\"><div class=\"contnr c0 trm rtl  \" ><div class=\"lbl c0 trm \" ><a href=\"#\" class=\"nd\">40569</a> <a class=\" txtu hbo\" target=\"_blank\" href=\"https://shebanq.ancient-data.org/hebrew/word?version=c&amp;id=1CWRn\" title=\"Show this on SHEBANQ\"><span class=\"txtu hbo\">שֹׁ֣ור </span></a></div></div><div class=\"contnr c0 trm rtl  \" ><div class=\"lbl c0 trm \" ><a href=\"#\" class=\"nd\">40570</a> <a class=\" txtu hbo\" target=\"_blank\" href=\"https://shebanq.ancient-data.org/hebrew/word?version=c&amp;id=1NGXn\" title=\"Show this on SHEBANQ\"><span class=\"txtu hbo\">נַגָּ֥ח </span></a></div></div></div></div><div class=\"contnr c1  rtl  \" ><div class=\"lbl c1  \" ><a href=\"#\" class=\"nd\">phrase_atom:930884</a></div><div class=\"children hor wrap rtl\"><div class=\"contnr c0 trm rtl  \" ><div class=\"lbl c0 trm \" ><a href=\"#\" class=\"nd\">40571</a> <a class=\" txtu hbo\" target=\"_blank\" href=\"https://shebanq.ancient-data.org/hebrew/word?version=c&amp;id=1HWA\" title=\"Show this on SHEBANQ\"><span class=\"txtu hbo\">הוּא֙ </span></a></div></div></div></div><div class=\"contnr c1  rtl  \" ><div class=\"lbl c1  \" ><a href=\"#\" class=\"nd\">phrase_atom:930885</a></div><div class=\"children hor wrap rtl\"><div class=\"contnr c0 trm rtl  hl\" ><div class=\"lbl c0 trm hl\" ><a href=\"#\" class=\"nd\">40572</a> <a class=\" txtu hbo\" target=\"_blank\" href=\"https://shebanq.ancient-data.org/hebrew/word?version=c&amp;id=1MN\" title=\"Show this on SHEBANQ\"><span class=\"txtu hbo\">מִ</span></a></div></div><div class=\"contnr c0 trm rtl  hl\" ><div class=\"lbl c0 trm hl\" ><a href=\"#\" class=\"nd\">40573</a> <a class=\" txtu hbo\" target=\"_blank\" href=\"https://shebanq.ancient-data.org/hebrew/word?version=c&amp;id=1TMWLn\" title=\"Show this on SHEBANQ\"><span class=\"txtu hbo\">תְּמֹ֣ול </span></a></div></div><div class=\"contnr c0 trm rtl  \" ><div class=\"lbl c0 trm \" ><a href=\"#\" class=\"nd\">40574</a> <a class=\" txtu hbo\" target=\"_blank\" href=\"https://shebanq.ancient-data.org/hebrew/word?version=c&amp;id=1CLCWMn\" title=\"Show this on SHEBANQ\"><span class=\"txtu hbo\">שִׁלְשֹׁ֔ם </span></a></div></div></div></div></div></div></div></div></div>ESV: Or if it is known that the ox has been accustomed to gore in the past , and its owner has not kept it in , he shall repay ox for ox , and the dead beast shall be his .<br>"
   ]
  },
  {
   "cell_type": "code",
   "execution_count": null,
   "metadata": {},
   "outputs": [],
   "source": [
    "save(435898,\n",
    "\n",
    "{'functions': ['posterior, posterior_dur'],\n",
    " 'preps': [['MN', 40572]],\n",
    " 'refs': [['DEICTIC', 40573]],\n",
    " 'slots': [40572, 40573],\n",
    " 'tenses': [['PAST', 40573]],\n",
    " 'times': [40573]}\n",
    "\n",
    ")"
   ]
  },
  {
   "cell_type": "markdown",
   "metadata": {},
   "source": [
    "<div class=\"tfsechead rtl\"><a target=\"_blank\" href=\"https://shebanq.ancient-data.org/hebrew/text?book=Exodus&amp;chapter=23&amp;verse=11&amp;version=c&amp;mr=m&amp;qw=q&amp;tp=txt_p&amp;tr=hb&amp;wget=v&amp;qget=v&amp;nget=vt\" title=\"Show this on SHEBANQ\" sec=\"Exodus 23:11\">Exodus 23:11</a></div><div class=\"rtl children\"><div class=\"contnr c2  rtl  \" ><div class=\"lbl c2  \" ><a href=\"#\" class=\"nd\">clause:436040</a></div><div class=\"children hor wrap rtl\"><div class=\"contnr c1  rtl  \" ><div class=\"lbl c1  \" ><a href=\"#\" class=\"nd\">clause_atom:524371</a></div><div class=\"children hor wrap rtl\"><div class=\"contnr c1  rtl  \" ><div class=\"lbl c1  \" ><a href=\"#\" class=\"nd\">phrase_atom:931329</a></div><div class=\"children hor wrap rtl\"><div class=\"contnr c0 trm rtl  \" ><div class=\"lbl c0 trm \" ><a href=\"#\" class=\"nd\">41183</a> <a class=\" txtu hbo\" target=\"_blank\" href=\"https://shebanq.ancient-data.org/hebrew/word?version=c&amp;id=1W\" title=\"Show this on SHEBANQ\"><span class=\"txtu hbo\">וְ</span></a></div></div></div></div><div class=\"contnr c1  rtl  \" ><div class=\"lbl c1  \" ><a href=\"#\" class=\"nd\">phrase_atom:931330</a></div><div class=\"children hor wrap rtl\"><div class=\"contnr c0 trm rtl  hl\" ><div class=\"lbl c0 trm hl\" ><a href=\"#\" class=\"nd\">41184</a> <a class=\" txtu hbo\" target=\"_blank\" href=\"https://shebanq.ancient-data.org/hebrew/word?version=c&amp;id=1H\" title=\"Show this on SHEBANQ\"><span class=\"txtu hbo\">הַ</span></a></div></div><div class=\"contnr c0 trm rtl  hl\" ><div class=\"lbl c0 trm hl\" ><a href=\"#\" class=\"nd\">41185</a> <a class=\" txtu hbo\" target=\"_blank\" href=\"https://shebanq.ancient-data.org/hebrew/word?version=c&amp;id=1CBJOJn\" title=\"Show this on SHEBANQ\"><span class=\"txtu hbo\">שְּׁבִיעִ֞ת </span></a></div></div></div></div><div class=\"contnr c1  rtl  \" ><div class=\"lbl c1  \" ><a href=\"#\" class=\"nd\">phrase_atom:931331</a></div><div class=\"children hor wrap rtl\"><div class=\"contnr c0 trm rtl  \" ><div class=\"lbl c0 trm \" ><a href=\"#\" class=\"nd\">41186</a> <a class=\" txtu hbo\" target=\"_blank\" href=\"https://shebanq.ancient-data.org/hebrew/word?version=c&amp;id=1CMVv\" title=\"Show this on SHEBANQ\"><span class=\"txtu hbo\">תִּשְׁמְטֶ֣נָּה </span></a></div></div></div></div></div></div></div></div></div>ESV: but the seventh year you shall let it rest and lie fallow , that the poor of your people may eat . and what they leave the beasts of the field may eat . You shall do likewise with your vineyard , and with your olive orchard .<br>"
   ]
  },
  {
   "cell_type": "code",
   "execution_count": null,
   "metadata": {},
   "outputs": [],
   "source": [
    "save(436040,\n",
    "\n",
    "{'functions': ['simultaneous'],\n",
    " 'ordn': {'lex': 'CBJ<J/',\n",
    "          'parse': 41185,\n",
    "          'phatom': 931330,\n",
    "          'slots': [41185, 41184]},\n",
    " 'refs': [['THE', 41184]],\n",
    " 'slots': [41184, 41185],\n",
    " 'times': [41185]}\n",
    "\n",
    ")"
   ]
  },
  {
   "cell_type": "markdown",
   "metadata": {},
   "source": [
    "<div class=\"tfsechead rtl\"><a target=\"_blank\" href=\"https://shebanq.ancient-data.org/hebrew/text?book=Exodus&amp;chapter=23&amp;verse=29&amp;version=c&amp;mr=m&amp;qw=q&amp;tp=txt_p&amp;tr=hb&amp;wget=v&amp;qget=v&amp;nget=vt\" title=\"Show this on SHEBANQ\" sec=\"Exodus 23:29\">Exodus 23:29</a></div><div class=\"rtl children\"><div class=\"contnr c2  rtl  \" ><div class=\"lbl c2  \" ><a href=\"#\" class=\"nd\">clause:436102</a></div><div class=\"children hor wrap rtl\"><div class=\"contnr c1  rtl  \" ><div class=\"lbl c1  \" ><a href=\"#\" class=\"nd\">clause_atom:524435</a></div><div class=\"children hor wrap rtl\"><div class=\"contnr c1  rtl  \" ><div class=\"lbl c1  \" ><a href=\"#\" class=\"nd\">phrase_atom:931535</a></div><div class=\"children hor wrap rtl\"><div class=\"contnr c0 trm rtl  \" ><div class=\"lbl c0 trm \" ><a href=\"#\" class=\"nd\">41517</a> <a class=\" txtu hbo\" target=\"_blank\" href=\"https://shebanq.ancient-data.org/hebrew/word?version=c&amp;id=1LA\" title=\"Show this on SHEBANQ\"><span class=\"txtu hbo\">לֹ֧א </span></a></div></div></div></div><div class=\"contnr c1  rtl  \" ><div class=\"lbl c1  \" ><a href=\"#\" class=\"nd\">phrase_atom:931536</a></div><div class=\"children hor wrap rtl\"><div class=\"contnr c0 trm rtl  \" ><div class=\"lbl c0 trm \" ><a href=\"#\" class=\"nd\">41518</a> <a class=\" txtu hbo\" target=\"_blank\" href=\"https://shebanq.ancient-data.org/hebrew/word?version=c&amp;id=1GRCv\" title=\"Show this on SHEBANQ\"><span class=\"txtu hbo\">אֲגָרְשֶׁ֛נּוּ </span></a></div></div></div></div><div class=\"contnr c1  rtl  \" ><div class=\"lbl c1  \" ><a href=\"#\" class=\"nd\">phrase_atom:931537</a></div><div class=\"children hor wrap rtl\"><div class=\"contnr c0 trm rtl  \" ><div class=\"lbl c0 trm \" ><a href=\"#\" class=\"nd\">41519</a> <a class=\" txtu hbo\" target=\"_blank\" href=\"https://shebanq.ancient-data.org/hebrew/word?version=c&amp;id=1MN\" title=\"Show this on SHEBANQ\"><span class=\"txtu hbo\">מִ</span></a></div></div><div class=\"contnr c0 trm rtl  \" ><div class=\"lbl c0 trm \" ><a href=\"#\" class=\"nd\">41520</a> <a class=\" txtu hbo\" target=\"_blank\" href=\"https://shebanq.ancient-data.org/hebrew/word?version=c&amp;id=1PNHn\" title=\"Show this on SHEBANQ\"><span class=\"txtu hbo\">פָּנֶ֖יךָ </span></a></div></div></div></div><div class=\"contnr c1  rtl  \" ><div class=\"lbl c1  \" ><a href=\"#\" class=\"nd\">phrase_atom:931538</a></div><div class=\"children hor wrap rtl\"><div class=\"contnr c0 trm rtl  hl\" ><div class=\"lbl c0 trm hl\" ><a href=\"#\" class=\"nd\">41521</a> <a class=\" txtu hbo\" target=\"_blank\" href=\"https://shebanq.ancient-data.org/hebrew/word?version=c&amp;id=1B\" title=\"Show this on SHEBANQ\"><span class=\"txtu hbo\">בְּ</span></a></div></div><div class=\"contnr c0 trm rtl  hl\" ><div class=\"lbl c0 trm hl\" ><a href=\"#\" class=\"nd\">41522</a> <a class=\" txtu hbo\" target=\"_blank\" href=\"https://shebanq.ancient-data.org/hebrew/word?version=c&amp;id=1CNHn\" title=\"Show this on SHEBANQ\"><span class=\"txtu hbo\">שָׁנָ֣ה </span></a></div></div><div class=\"contnr c0 trm rtl  hl\" ><div class=\"lbl c0 trm hl\" ><a href=\"#\" class=\"nd\">41523</a> <a class=\" txtu hbo\" target=\"_blank\" href=\"https://shebanq.ancient-data.org/hebrew/word?version=c&amp;id=1AXDn\" title=\"Show this on SHEBANQ\"><span class=\"txtu hbo\">אֶחָ֑ת </span></a></div></div></div></div></div></div></div></div></div>ESV: I will not drive them out from before you in one year , lest the land become desolate and the wild beasts multiply against you .<br>"
   ]
  },
  {
   "cell_type": "code",
   "execution_count": null,
   "metadata": {},
   "outputs": [],
   "source": [
    "save(436102,\n",
    "\n",
    "{'functions': ['telic_ext, dist_fut, dist_past'],\n",
    " 'preps': [['B', 41521]],\n",
    " 'quals': ['durative'],\n",
    " 'quants': [['NUMQ', 41523]],\n",
    " 'slots': [41521, 41522, 41523],\n",
    " 'times': [41522]}\n",
    "\n",
    ")"
   ]
  },
  {
   "cell_type": "markdown",
   "metadata": {},
   "source": [
    "<div class=\"tfsechead rtl\"><a target=\"_blank\" href=\"https://shebanq.ancient-data.org/hebrew/text?book=Exodus&amp;chapter=29&amp;verse=35&amp;version=c&amp;mr=m&amp;qw=q&amp;tp=txt_p&amp;tr=hb&amp;wget=v&amp;qget=v&amp;nget=vt\" title=\"Show this on SHEBANQ\" sec=\"Exodus 29:35\">Exodus 29:35</a></div><div class=\"rtl children\"><div class=\"contnr c2  rtl  \" ><div class=\"lbl c2  \" ><a href=\"#\" class=\"nd\">clause:436674</a></div><div class=\"children hor wrap rtl\"><div class=\"contnr c1  rtl  \" ><div class=\"lbl c1  \" ><a href=\"#\" class=\"nd\">clause_atom:525029</a></div><div class=\"children hor wrap rtl\"><div class=\"contnr c1  rtl  \" ><div class=\"lbl c1  \" ><a href=\"#\" class=\"nd\">phrase_atom:933496</a></div><div class=\"children hor wrap rtl\"><div class=\"contnr c0 trm rtl  hl\" ><div class=\"lbl c0 trm hl\" ><a href=\"#\" class=\"nd\">45312</a> <a class=\" txtu hbo\" target=\"_blank\" href=\"https://shebanq.ancient-data.org/hebrew/word?version=c&amp;id=1CBOn\" title=\"Show this on SHEBANQ\"><span class=\"txtu hbo\">שִׁבְעַ֥ת </span></a></div></div><div class=\"contnr c0 trm rtl  hl\" ><div class=\"lbl c0 trm hl\" ><a href=\"#\" class=\"nd\">45313</a> <a class=\" txtu hbo\" target=\"_blank\" href=\"https://shebanq.ancient-data.org/hebrew/word?version=c&amp;id=1JWMn\" title=\"Show this on SHEBANQ\"><span class=\"txtu hbo\">יָמִ֖ים </span></a></div></div></div></div><div class=\"contnr c1  rtl  \" ><div class=\"lbl c1  \" ><a href=\"#\" class=\"nd\">phrase_atom:933497</a></div><div class=\"children hor wrap rtl\"><div class=\"contnr c0 trm rtl  \" ><div class=\"lbl c0 trm \" ><a href=\"#\" class=\"nd\">45314</a> <a class=\" txtu hbo\" target=\"_blank\" href=\"https://shebanq.ancient-data.org/hebrew/word?version=c&amp;id=1MLAv\" title=\"Show this on SHEBANQ\"><span class=\"txtu hbo\">תְּמַלֵּ֥א </span></a></div></div></div></div><div class=\"contnr c1  rtl  \" ><div class=\"lbl c1  \" ><a href=\"#\" class=\"nd\">phrase_atom:933498</a></div><div class=\"children hor wrap rtl\"><div class=\"contnr c0 trm rtl  \" ><div class=\"lbl c0 trm \" ><a href=\"#\" class=\"nd\">45315</a> <a class=\" txtu hbo\" target=\"_blank\" href=\"https://shebanq.ancient-data.org/hebrew/word?version=c&amp;id=1JDn\" title=\"Show this on SHEBANQ\"><span class=\"txtu hbo\">יָדָֽם׃ </span></a></div></div></div></div></div></div></div></div></div>ESV: “ Thus you shall do to Aaron and to his sons , according to all that I have commanded you . Through seven days shall you ordain them ,<br>"
   ]
  },
  {
   "cell_type": "code",
   "execution_count": null,
   "metadata": {},
   "outputs": [],
   "source": [
    "save(436674,\n",
    "\n",
    "{'functions': ['atelic_ext'],\n",
    " 'quals': ['durative'],\n",
    " 'quants': [['NUMQ', 45312]],\n",
    " 'slots': [45312, 45313],\n",
    " 'times': [45313]}\n",
    "\n",
    ")"
   ]
  },
  {
   "cell_type": "markdown",
   "metadata": {},
   "source": [
    "<div class=\"tfsechead rtl\"><a target=\"_blank\" href=\"https://shebanq.ancient-data.org/hebrew/text?book=Exodus&amp;chapter=29&amp;verse=36&amp;version=c&amp;mr=m&amp;qw=q&amp;tp=txt_p&amp;tr=hb&amp;wget=v&amp;qget=v&amp;nget=vt\" title=\"Show this on SHEBANQ\" sec=\"Exodus 29:36\">Exodus 29:36</a></div><div class=\"rtl children\"><div class=\"contnr c2  rtl  \" ><div class=\"lbl c2  \" ><a href=\"#\" class=\"nd\">clause:436675</a></div><div class=\"children hor wrap rtl\"><div class=\"contnr c1  rtl  \" ><div class=\"lbl c1  \" ><a href=\"#\" class=\"nd\">clause_atom:525030</a></div><div class=\"children hor wrap rtl\"><div class=\"contnr c1  rtl  \" ><div class=\"lbl c1  \" ><a href=\"#\" class=\"nd\">phrase_atom:933499</a></div><div class=\"children hor wrap rtl\"><div class=\"contnr c0 trm rtl  \" ><div class=\"lbl c0 trm \" ><a href=\"#\" class=\"nd\">45316</a> <a class=\" txtu hbo\" target=\"_blank\" href=\"https://shebanq.ancient-data.org/hebrew/word?version=c&amp;id=1W\" title=\"Show this on SHEBANQ\"><span class=\"txtu hbo\">וּ</span></a></div></div></div></div><div class=\"contnr c1  rtl  \" ><div class=\"lbl c1  \" ><a href=\"#\" class=\"nd\">phrase_atom:933500</a></div><div class=\"children hor wrap rtl\"><div class=\"contnr c0 trm rtl  \" ><div class=\"lbl c0 trm \" ><a href=\"#\" class=\"nd\">45317</a> <a class=\" txtu hbo\" target=\"_blank\" href=\"https://shebanq.ancient-data.org/hebrew/word?version=c&amp;id=1PRn\" title=\"Show this on SHEBANQ\"><span class=\"txtu hbo\">פַ֨ר </span></a></div></div><div class=\"contnr c0 trm rtl  \" ><div class=\"lbl c0 trm \" ><a href=\"#\" class=\"nd\">45318</a> <a class=\" txtu hbo\" target=\"_blank\" href=\"https://shebanq.ancient-data.org/hebrew/word?version=c&amp;id=1XVATn\" title=\"Show this on SHEBANQ\"><span class=\"txtu hbo\">חַטָּ֜את </span></a></div></div></div></div><div class=\"contnr c1  rtl  \" ><div class=\"lbl c1  \" ><a href=\"#\" class=\"nd\">phrase_atom:933501</a></div><div class=\"children hor wrap rtl\"><div class=\"contnr c0 trm rtl  \" ><div class=\"lbl c0 trm \" ><a href=\"#\" class=\"nd\">45319</a> <a class=\" txtu hbo\" target=\"_blank\" href=\"https://shebanq.ancient-data.org/hebrew/word?version=c&amp;id=1OFHv\" title=\"Show this on SHEBANQ\"><span class=\"txtu hbo\">תַּעֲשֶׂ֤ה </span></a></div></div></div></div><div class=\"contnr c1  rtl  \" ><div class=\"lbl c1  \" ><a href=\"#\" class=\"nd\">phrase_atom:933502</a></div><div class=\"children hor wrap rtl\"><div class=\"contnr c0 trm rtl  hl\" ><div class=\"lbl c0 trm hl\" ><a href=\"#\" class=\"nd\">45320</a> <a class=\" txtu hbo\" target=\"_blank\" href=\"https://shebanq.ancient-data.org/hebrew/word?version=c&amp;id=1L\" title=\"Show this on SHEBANQ\"><span class=\"txtu hbo\">לַ</span></a></div></div><div class=\"contnr c0 trm rtl  hl\" ><div class=\"lbl c0 trm hl\" ><a href=\"#\" class=\"nd\">45321</a> <a class=\" txtu hbo\" target=\"_blank\" href=\"https://shebanq.ancient-data.org/hebrew/word?version=c&amp;id=1H\" title=\"Show this on SHEBANQ\"></a></div></div><div class=\"contnr c0 trm rtl  hl\" ><div class=\"lbl c0 trm hl\" ><a href=\"#\" class=\"nd\">45322</a> <a class=\" txtu hbo\" target=\"_blank\" href=\"https://shebanq.ancient-data.org/hebrew/word?version=c&amp;id=1JWMn\" title=\"Show this on SHEBANQ\"><span class=\"txtu hbo\">יֹּום֙ </span></a></div></div></div></div><div class=\"contnr c1  rtl  \" ><div class=\"lbl c1  \" ><a href=\"#\" class=\"nd\">phrase_atom:933503</a></div><div class=\"children hor wrap rtl\"><div class=\"contnr c0 trm rtl  \" ><div class=\"lbl c0 trm \" ><a href=\"#\" class=\"nd\">45323</a> <a class=\" txtu hbo\" target=\"_blank\" href=\"https://shebanq.ancient-data.org/hebrew/word?version=c&amp;id=1OL\" title=\"Show this on SHEBANQ\"><span class=\"txtu hbo\">עַל־</span></a></div></div><div class=\"contnr c0 trm rtl  \" ><div class=\"lbl c0 trm \" ><a href=\"#\" class=\"nd\">45324</a> <a class=\" txtu hbo\" target=\"_blank\" href=\"https://shebanq.ancient-data.org/hebrew/word?version=c&amp;id=1H\" title=\"Show this on SHEBANQ\"><span class=\"txtu hbo\">הַ</span></a></div></div><div class=\"contnr c0 trm rtl  \" ><div class=\"lbl c0 trm \" ><a href=\"#\" class=\"nd\">45325</a> <a class=\" txtu hbo\" target=\"_blank\" href=\"https://shebanq.ancient-data.org/hebrew/word?version=c&amp;id=1KPRJMn\" title=\"Show this on SHEBANQ\"><span class=\"txtu hbo\">כִּפֻּרִ֔ים </span></a></div></div></div></div></div></div></div></div></div>ESV: and every day you shall offer a bull as a sin offering for atonement . Also you shall purify the altar , when you make atonement for it , and shall anoint it to consecrate it .<br>"
   ]
  },
  {
   "cell_type": "code",
   "execution_count": null,
   "metadata": {},
   "outputs": [],
   "source": [
    "save(436675,\n",
    "\n",
    "{'functions': ['anterior_dur, simultaneous'],\n",
    " 'preps': [['L', 45320]],\n",
    " 'refs': [['THE', 45321]],\n",
    " 'slots': [45320, 45321, 45322],\n",
    " 'times': [45322]}\n",
    "\n",
    ")"
   ]
  },
  {
   "cell_type": "markdown",
   "metadata": {},
   "source": [
    "<div class=\"tfsechead rtl\"><a target=\"_blank\" href=\"https://shebanq.ancient-data.org/hebrew/text?book=Exodus&amp;chapter=29&amp;verse=38&amp;version=c&amp;mr=m&amp;qw=q&amp;tp=txt_p&amp;tr=hb&amp;wget=v&amp;qget=v&amp;nget=vt\" title=\"Show this on SHEBANQ\" sec=\"Exodus 29:38\">Exodus 29:38</a></div><div class=\"rtl children\"><div class=\"contnr c2  rtl  \" ><div class=\"lbl c2  \" ><a href=\"#\" class=\"nd\">clause:436687</a></div><div class=\"children hor wrap rtl\"><div class=\"contnr c1  rtl  \" ><div class=\"lbl c1  \" ><a href=\"#\" class=\"nd\">clause_atom:525043</a></div><div class=\"children hor wrap rtl\"><div class=\"contnr c1  rtl  \" ><div class=\"lbl c1  \" ><a href=\"#\" class=\"nd\">phrase_atom:933533</a></div><div class=\"children hor wrap rtl\"><div class=\"contnr c0 trm rtl  \" ><div class=\"lbl c0 trm \" ><a href=\"#\" class=\"nd\">45368</a> <a class=\" txtu hbo\" target=\"_blank\" href=\"https://shebanq.ancient-data.org/hebrew/word?version=c&amp;id=1KBFn\" title=\"Show this on SHEBANQ\"><span class=\"txtu hbo\">כְּבָשִׂ֧ים </span></a></div></div><div class=\"contnr c0 trm rtl  \" ><div class=\"lbl c0 trm \" ><a href=\"#\" class=\"nd\">45369</a> <a class=\" txtu hbo\" target=\"_blank\" href=\"https://shebanq.ancient-data.org/hebrew/word?version=c&amp;id=1BNn\" title=\"Show this on SHEBANQ\"><span class=\"txtu hbo\">בְּנֵֽי־</span></a></div></div><div class=\"contnr c0 trm rtl  \" ><div class=\"lbl c0 trm \" ><a href=\"#\" class=\"nd\">45370</a> <a class=\" txtu hbo\" target=\"_blank\" href=\"https://shebanq.ancient-data.org/hebrew/word?version=c&amp;id=1CNHn\" title=\"Show this on SHEBANQ\"><span class=\"txtu hbo\">שָׁנָ֛ה </span></a></div></div><div class=\"contnr c0 trm rtl  \" ><div class=\"lbl c0 trm \" ><a href=\"#\" class=\"nd\">45371</a> <a class=\" txtu hbo\" target=\"_blank\" href=\"https://shebanq.ancient-data.org/hebrew/word?version=c&amp;id=1CNJMn\" title=\"Show this on SHEBANQ\"><span class=\"txtu hbo\">שְׁנַ֥יִם </span></a></div></div></div></div><div class=\"contnr c1  rtl  \" ><div class=\"lbl c1  \" ><a href=\"#\" class=\"nd\">phrase_atom:933534</a></div><div class=\"children hor wrap rtl\"><div class=\"contnr c0 trm rtl  hl\" ><div class=\"lbl c0 trm hl\" ><a href=\"#\" class=\"nd\">45372</a> <a class=\" txtu hbo\" target=\"_blank\" href=\"https://shebanq.ancient-data.org/hebrew/word?version=c&amp;id=1L\" title=\"Show this on SHEBANQ\"><span class=\"txtu hbo\">לַ</span></a></div></div><div class=\"contnr c0 trm rtl  hl\" ><div class=\"lbl c0 trm hl\" ><a href=\"#\" class=\"nd\">45373</a> <a class=\" txtu hbo\" target=\"_blank\" href=\"https://shebanq.ancient-data.org/hebrew/word?version=c&amp;id=1H\" title=\"Show this on SHEBANQ\"></a></div></div><div class=\"contnr c0 trm rtl  hl\" ><div class=\"lbl c0 trm hl\" ><a href=\"#\" class=\"nd\">45374</a> <a class=\" txtu hbo\" target=\"_blank\" href=\"https://shebanq.ancient-data.org/hebrew/word?version=c&amp;id=1JWMn\" title=\"Show this on SHEBANQ\"><span class=\"txtu hbo\">יֹּ֖ום </span></a></div></div></div></div><div class=\"contnr c1  rtl  \" ><div class=\"lbl c1  \" ><a href=\"#\" class=\"nd\">phrase_atom:933535</a></div><div class=\"children hor wrap rtl\"><div class=\"contnr c0 trm rtl  \" ><div class=\"lbl c0 trm \" ><a href=\"#\" class=\"nd\">45375</a> <a class=\" txtu hbo\" target=\"_blank\" href=\"https://shebanq.ancient-data.org/hebrew/word?version=c&amp;id=1TMJDn\" title=\"Show this on SHEBANQ\"><span class=\"txtu hbo\">תָּמִֽיד׃ </span></a></div></div></div></div></div></div></div></div></div>ESV: “ Now this is what you shall offer on the altar : two lambs a year old day by day regularly .<br>"
   ]
  },
  {
   "cell_type": "code",
   "execution_count": null,
   "metadata": {},
   "outputs": [],
   "source": [
    "save(436687,\n",
    "\n",
    "{'functions': ['anterior_dur, simultaneous'],\n",
    " 'preps': [['L', 45372]],\n",
    " 'refs': [['THE', 45373]],\n",
    " 'slots': [45372, 45373, 45374],\n",
    " 'times': [45374]}\n",
    "\n",
    ")"
   ]
  },
  {
   "cell_type": "markdown",
   "metadata": {},
   "source": [
    "<div class=\"tfsechead rtl\"><a target=\"_blank\" href=\"https://shebanq.ancient-data.org/hebrew/text?book=Exodus&amp;chapter=29&amp;verse=39&amp;version=c&amp;mr=m&amp;qw=q&amp;tp=txt_p&amp;tr=hb&amp;wget=v&amp;qget=v&amp;nget=vt\" title=\"Show this on SHEBANQ\" sec=\"Exodus 29:39\">Exodus 29:39</a></div><div class=\"rtl children\"><div class=\"contnr c2  rtl  \" ><div class=\"lbl c2  \" ><a href=\"#\" class=\"nd\">clause:436688</a></div><div class=\"children hor wrap rtl\"><div class=\"contnr c1  rtl  \" ><div class=\"lbl c1  \" ><a href=\"#\" class=\"nd\">clause_atom:525044</a></div><div class=\"children hor wrap rtl\"><div class=\"contnr c1  rtl  \" ><div class=\"lbl c1  \" ><a href=\"#\" class=\"nd\">phrase_atom:933536</a></div><div class=\"children hor wrap rtl\"><div class=\"contnr c0 trm rtl  \" ><div class=\"lbl c0 trm \" ><a href=\"#\" class=\"nd\">45376</a> <a class=\" txtu hbo\" target=\"_blank\" href=\"https://shebanq.ancient-data.org/hebrew/word?version=c&amp;id=1AT\" title=\"Show this on SHEBANQ\"><span class=\"txtu hbo\">אֶת־</span></a></div></div><div class=\"contnr c0 trm rtl  \" ><div class=\"lbl c0 trm \" ><a href=\"#\" class=\"nd\">45377</a> <a class=\" txtu hbo\" target=\"_blank\" href=\"https://shebanq.ancient-data.org/hebrew/word?version=c&amp;id=1H\" title=\"Show this on SHEBANQ\"><span class=\"txtu hbo\">הַ</span></a></div></div><div class=\"contnr c0 trm rtl  \" ><div class=\"lbl c0 trm \" ><a href=\"#\" class=\"nd\">45378</a> <a class=\" txtu hbo\" target=\"_blank\" href=\"https://shebanq.ancient-data.org/hebrew/word?version=c&amp;id=1KBFn\" title=\"Show this on SHEBANQ\"><span class=\"txtu hbo\">כֶּ֥בֶשׂ </span></a></div></div></div></div><div class=\"contnr c1  rtl  \" ><div class=\"lbl c1  \" ><a href=\"#\" class=\"nd\">phrase_atom:933537</a></div><div class=\"children hor wrap rtl\"><div class=\"contnr c0 trm rtl  \" ><div class=\"lbl c0 trm \" ><a href=\"#\" class=\"nd\">45379</a> <a class=\" txtu hbo\" target=\"_blank\" href=\"https://shebanq.ancient-data.org/hebrew/word?version=c&amp;id=1H\" title=\"Show this on SHEBANQ\"><span class=\"txtu hbo\">הָ</span></a></div></div><div class=\"contnr c0 trm rtl  \" ><div class=\"lbl c0 trm \" ><a href=\"#\" class=\"nd\">45380</a> <a class=\" txtu hbo\" target=\"_blank\" href=\"https://shebanq.ancient-data.org/hebrew/word?version=c&amp;id=1AXDn\" title=\"Show this on SHEBANQ\"><span class=\"txtu hbo\">אֶחָ֖ד </span></a></div></div></div></div><div class=\"contnr c1  rtl  \" ><div class=\"lbl c1  \" ><a href=\"#\" class=\"nd\">phrase_atom:933538</a></div><div class=\"children hor wrap rtl\"><div class=\"contnr c0 trm rtl  \" ><div class=\"lbl c0 trm \" ><a href=\"#\" class=\"nd\">45381</a> <a class=\" txtu hbo\" target=\"_blank\" href=\"https://shebanq.ancient-data.org/hebrew/word?version=c&amp;id=1OFHv\" title=\"Show this on SHEBANQ\"><span class=\"txtu hbo\">תַּעֲשֶׂ֣ה </span></a></div></div></div></div><div class=\"contnr c1  rtl  \" ><div class=\"lbl c1  \" ><a href=\"#\" class=\"nd\">phrase_atom:933539</a></div><div class=\"children hor wrap rtl\"><div class=\"contnr c0 trm rtl  hl\" ><div class=\"lbl c0 trm hl\" ><a href=\"#\" class=\"nd\">45382</a> <a class=\" txtu hbo\" target=\"_blank\" href=\"https://shebanq.ancient-data.org/hebrew/word?version=c&amp;id=1B\" title=\"Show this on SHEBANQ\"><span class=\"txtu hbo\">בַ</span></a></div></div><div class=\"contnr c0 trm rtl  hl\" ><div class=\"lbl c0 trm hl\" ><a href=\"#\" class=\"nd\">45383</a> <a class=\" txtu hbo\" target=\"_blank\" href=\"https://shebanq.ancient-data.org/hebrew/word?version=c&amp;id=1H\" title=\"Show this on SHEBANQ\"></a></div></div><div class=\"contnr c0 trm rtl  hl\" ><div class=\"lbl c0 trm hl\" ><a href=\"#\" class=\"nd\">45384</a> <a class=\" txtu hbo\" target=\"_blank\" href=\"https://shebanq.ancient-data.org/hebrew/word?version=c&amp;id=1BQRin\" title=\"Show this on SHEBANQ\"><span class=\"txtu hbo\">בֹּ֑קֶר </span></a></div></div></div></div></div></div></div></div></div>ESV: One lamb you shall offer in the morning , and the other lamb you shall offer at twilight .<br>"
   ]
  },
  {
   "cell_type": "code",
   "execution_count": null,
   "metadata": {},
   "outputs": [],
   "source": [
    "save(436688,\n",
    "\n",
    "{'functions': ['simultaneous'],\n",
    " 'preps': [['B', 45382]],\n",
    " 'refs': [['THE', 45383]],\n",
    " 'slots': [45382, 45383, 45384],\n",
    " 'times': [45384]}\n",
    "\n",
    ")"
   ]
  },
  {
   "cell_type": "markdown",
   "metadata": {},
   "source": [
    "<div class=\"tfsechead rtl\"><a target=\"_blank\" href=\"https://shebanq.ancient-data.org/hebrew/text?book=Exodus&amp;chapter=29&amp;verse=39&amp;version=c&amp;mr=m&amp;qw=q&amp;tp=txt_p&amp;tr=hb&amp;wget=v&amp;qget=v&amp;nget=vt\" title=\"Show this on SHEBANQ\" sec=\"Exodus 29:39\">Exodus 29:39</a></div><div class=\"rtl children\"><div class=\"contnr c2  rtl  \" ><div class=\"lbl c2  \" ><a href=\"#\" class=\"nd\">clause:436689</a></div><div class=\"children hor wrap rtl\"><div class=\"contnr c1  rtl  \" ><div class=\"lbl c1  \" ><a href=\"#\" class=\"nd\">clause_atom:525045</a></div><div class=\"children hor wrap rtl\"><div class=\"contnr c1  rtl  \" ><div class=\"lbl c1  \" ><a href=\"#\" class=\"nd\">phrase_atom:933540</a></div><div class=\"children hor wrap rtl\"><div class=\"contnr c0 trm rtl  \" ><div class=\"lbl c0 trm \" ><a href=\"#\" class=\"nd\">45385</a> <a class=\" txtu hbo\" target=\"_blank\" href=\"https://shebanq.ancient-data.org/hebrew/word?version=c&amp;id=1W\" title=\"Show this on SHEBANQ\"><span class=\"txtu hbo\">וְ</span></a></div></div></div></div><div class=\"contnr c1  rtl  \" ><div class=\"lbl c1  \" ><a href=\"#\" class=\"nd\">phrase_atom:933541</a></div><div class=\"children hor wrap rtl\"><div class=\"contnr c0 trm rtl  \" ><div class=\"lbl c0 trm \" ><a href=\"#\" class=\"nd\">45386</a> <a class=\" txtu hbo\" target=\"_blank\" href=\"https://shebanq.ancient-data.org/hebrew/word?version=c&amp;id=1AT\" title=\"Show this on SHEBANQ\"><span class=\"txtu hbo\">אֵת֙ </span></a></div></div><div class=\"contnr c0 trm rtl  \" ><div class=\"lbl c0 trm \" ><a href=\"#\" class=\"nd\">45387</a> <a class=\" txtu hbo\" target=\"_blank\" href=\"https://shebanq.ancient-data.org/hebrew/word?version=c&amp;id=1H\" title=\"Show this on SHEBANQ\"><span class=\"txtu hbo\">הַ</span></a></div></div><div class=\"contnr c0 trm rtl  \" ><div class=\"lbl c0 trm \" ><a href=\"#\" class=\"nd\">45388</a> <a class=\" txtu hbo\" target=\"_blank\" href=\"https://shebanq.ancient-data.org/hebrew/word?version=c&amp;id=1KBFn\" title=\"Show this on SHEBANQ\"><span class=\"txtu hbo\">כֶּ֣בֶשׂ </span></a></div></div><div class=\"contnr c0 trm rtl  \" ><div class=\"lbl c0 trm \" ><a href=\"#\" class=\"nd\">45389</a> <a class=\" txtu hbo\" target=\"_blank\" href=\"https://shebanq.ancient-data.org/hebrew/word?version=c&amp;id=1H\" title=\"Show this on SHEBANQ\"><span class=\"txtu hbo\">הַ</span></a></div></div><div class=\"contnr c0 trm rtl  \" ><div class=\"lbl c0 trm \" ><a href=\"#\" class=\"nd\">45390</a> <a class=\" txtu hbo\" target=\"_blank\" href=\"https://shebanq.ancient-data.org/hebrew/word?version=c&amp;id=1CNJn\" title=\"Show this on SHEBANQ\"><span class=\"txtu hbo\">שֵּׁנִ֔י </span></a></div></div></div></div><div class=\"contnr c1  rtl  \" ><div class=\"lbl c1  \" ><a href=\"#\" class=\"nd\">phrase_atom:933542</a></div><div class=\"children hor wrap rtl\"><div class=\"contnr c0 trm rtl  \" ><div class=\"lbl c0 trm \" ><a href=\"#\" class=\"nd\">45391</a> <a class=\" txtu hbo\" target=\"_blank\" href=\"https://shebanq.ancient-data.org/hebrew/word?version=c&amp;id=1OFHv\" title=\"Show this on SHEBANQ\"><span class=\"txtu hbo\">תַּעֲשֶׂ֖ה </span></a></div></div></div></div><div class=\"contnr c1  rtl  \" ><div class=\"lbl c1  \" ><a href=\"#\" class=\"nd\">phrase_atom:933543</a></div><div class=\"children hor wrap rtl\"><div class=\"contnr c0 trm rtl  hl\" ><div class=\"lbl c0 trm hl\" ><a href=\"#\" class=\"nd\">45392</a> <a class=\" txtu hbo\" target=\"_blank\" href=\"https://shebanq.ancient-data.org/hebrew/word?version=c&amp;id=1BJNn\" title=\"Show this on SHEBANQ\"><span class=\"txtu hbo\">בֵּ֥ין </span></a></div></div><div class=\"contnr c0 trm rtl  hl\" ><div class=\"lbl c0 trm hl\" ><a href=\"#\" class=\"nd\">45393</a> <a class=\" txtu hbo\" target=\"_blank\" href=\"https://shebanq.ancient-data.org/hebrew/word?version=c&amp;id=1H\" title=\"Show this on SHEBANQ\"><span class=\"txtu hbo\">הָ</span></a></div></div><div class=\"contnr c0 trm rtl  hl\" ><div class=\"lbl c0 trm hl\" ><a href=\"#\" class=\"nd\">45394</a> <a class=\" txtu hbo\" target=\"_blank\" href=\"https://shebanq.ancient-data.org/hebrew/word?version=c&amp;id=1ORBn\" title=\"Show this on SHEBANQ\"><span class=\"txtu hbo\">עַרְבָּֽיִם׃ </span></a></div></div></div></div></div></div></div></div></div>ESV: One lamb you shall offer in the morning , and the other lamb you shall offer at twilight .<br>"
   ]
  },
  {
   "cell_type": "code",
   "execution_count": null,
   "metadata": {},
   "outputs": [],
   "source": [
    "save(436689,\n",
    "\n",
    "{'functions': ['simultaneous'],\n",
    " 'preps': [['BJN/', 45392]],\n",
    " 'quals': ['durative'],\n",
    " 'quants': [['NUMQ', 45394]],\n",
    " 'refs': [['THE', 45393]],\n",
    " 'slots': [45392, 45393, 45394],\n",
    " 'times': [45394]}\n",
    "\n",
    ")"
   ]
  },
  {
   "cell_type": "markdown",
   "metadata": {},
   "source": [
    "<div class=\"tfsechead rtl\"><a target=\"_blank\" href=\"https://shebanq.ancient-data.org/hebrew/text?book=Exodus&amp;chapter=29&amp;verse=41&amp;version=c&amp;mr=m&amp;qw=q&amp;tp=txt_p&amp;tr=hb&amp;wget=v&amp;qget=v&amp;nget=vt\" title=\"Show this on SHEBANQ\" sec=\"Exodus 29:41\">Exodus 29:41</a></div><div class=\"rtl children\"><div class=\"contnr c2  rtl  \" ><div class=\"lbl c2  \" ><a href=\"#\" class=\"nd\">clause:436692</a></div><div class=\"children hor wrap rtl\"><div class=\"contnr c1  rtl  \" ><div class=\"lbl c1  \" ><a href=\"#\" class=\"nd\">clause_atom:525049</a></div><div class=\"children hor wrap rtl\"><div class=\"contnr c1  rtl  \" ><div class=\"lbl c1  \" ><a href=\"#\" class=\"nd\">phrase_atom:933553</a></div><div class=\"children hor wrap rtl\"><div class=\"contnr c0 trm rtl  \" ><div class=\"lbl c0 trm \" ><a href=\"#\" class=\"nd\">45416</a> <a class=\" txtu hbo\" target=\"_blank\" href=\"https://shebanq.ancient-data.org/hebrew/word?version=c&amp;id=1W\" title=\"Show this on SHEBANQ\"><span class=\"txtu hbo\">וְ</span></a></div></div></div></div><div class=\"contnr c1  rtl  \" ><div class=\"lbl c1  \" ><a href=\"#\" class=\"nd\">phrase_atom:933554</a></div><div class=\"children hor wrap rtl\"><div class=\"contnr c0 trm rtl  \" ><div class=\"lbl c0 trm \" ><a href=\"#\" class=\"nd\">45417</a> <a class=\" txtu hbo\" target=\"_blank\" href=\"https://shebanq.ancient-data.org/hebrew/word?version=c&amp;id=1AT\" title=\"Show this on SHEBANQ\"><span class=\"txtu hbo\">אֵת֙ </span></a></div></div><div class=\"contnr c0 trm rtl  \" ><div class=\"lbl c0 trm \" ><a href=\"#\" class=\"nd\">45418</a> <a class=\" txtu hbo\" target=\"_blank\" href=\"https://shebanq.ancient-data.org/hebrew/word?version=c&amp;id=1H\" title=\"Show this on SHEBANQ\"><span class=\"txtu hbo\">הַ</span></a></div></div><div class=\"contnr c0 trm rtl  \" ><div class=\"lbl c0 trm \" ><a href=\"#\" class=\"nd\">45419</a> <a class=\" txtu hbo\" target=\"_blank\" href=\"https://shebanq.ancient-data.org/hebrew/word?version=c&amp;id=1KBFn\" title=\"Show this on SHEBANQ\"><span class=\"txtu hbo\">כֶּ֣בֶשׂ </span></a></div></div><div class=\"contnr c0 trm rtl  \" ><div class=\"lbl c0 trm \" ><a href=\"#\" class=\"nd\">45420</a> <a class=\" txtu hbo\" target=\"_blank\" href=\"https://shebanq.ancient-data.org/hebrew/word?version=c&amp;id=1H\" title=\"Show this on SHEBANQ\"><span class=\"txtu hbo\">הַ</span></a></div></div><div class=\"contnr c0 trm rtl  \" ><div class=\"lbl c0 trm \" ><a href=\"#\" class=\"nd\">45421</a> <a class=\" txtu hbo\" target=\"_blank\" href=\"https://shebanq.ancient-data.org/hebrew/word?version=c&amp;id=1CNJn\" title=\"Show this on SHEBANQ\"><span class=\"txtu hbo\">שֵּׁנִ֔י </span></a></div></div></div></div><div class=\"contnr c1  rtl  \" ><div class=\"lbl c1  \" ><a href=\"#\" class=\"nd\">phrase_atom:933555</a></div><div class=\"children hor wrap rtl\"><div class=\"contnr c0 trm rtl  \" ><div class=\"lbl c0 trm \" ><a href=\"#\" class=\"nd\">45422</a> <a class=\" txtu hbo\" target=\"_blank\" href=\"https://shebanq.ancient-data.org/hebrew/word?version=c&amp;id=1OFHv\" title=\"Show this on SHEBANQ\"><span class=\"txtu hbo\">תַּעֲשֶׂ֖ה </span></a></div></div></div></div><div class=\"contnr c1  rtl  \" ><div class=\"lbl c1  \" ><a href=\"#\" class=\"nd\">phrase_atom:933556</a></div><div class=\"children hor wrap rtl\"><div class=\"contnr c0 trm rtl  hl\" ><div class=\"lbl c0 trm hl\" ><a href=\"#\" class=\"nd\">45423</a> <a class=\" txtu hbo\" target=\"_blank\" href=\"https://shebanq.ancient-data.org/hebrew/word?version=c&amp;id=1BJNn\" title=\"Show this on SHEBANQ\"><span class=\"txtu hbo\">בֵּ֣ין </span></a></div></div><div class=\"contnr c0 trm rtl  hl\" ><div class=\"lbl c0 trm hl\" ><a href=\"#\" class=\"nd\">45424</a> <a class=\" txtu hbo\" target=\"_blank\" href=\"https://shebanq.ancient-data.org/hebrew/word?version=c&amp;id=1H\" title=\"Show this on SHEBANQ\"><span class=\"txtu hbo\">הָ</span></a></div></div><div class=\"contnr c0 trm rtl  hl\" ><div class=\"lbl c0 trm hl\" ><a href=\"#\" class=\"nd\">45425</a> <a class=\" txtu hbo\" target=\"_blank\" href=\"https://shebanq.ancient-data.org/hebrew/word?version=c&amp;id=1ORBn\" title=\"Show this on SHEBANQ\"><span class=\"txtu hbo\">עַרְבָּ֑יִם </span></a></div></div></div></div></div></div></div></div></div>ESV: The other lamb you shall offer at twilight , and shall offer with it a grain offering and its drink offering , as in the morning , for a pleasing aroma , a food offering to the Lord .<br>"
   ]
  },
  {
   "cell_type": "code",
   "execution_count": null,
   "metadata": {},
   "outputs": [],
   "source": [
    "save(436692,\n",
    "\n",
    "{'functions': ['simultaneous'],\n",
    " 'preps': [['BJN/', 45423]],\n",
    " 'quals': ['durative'],\n",
    " 'quants': [['NUMQ', 45425]],\n",
    " 'refs': [['THE', 45424]],\n",
    " 'slots': [45423, 45424, 45425],\n",
    " 'times': [45425]}\n",
    "\n",
    ")"
   ]
  },
  {
   "cell_type": "markdown",
   "metadata": {},
   "source": [
    "<div class=\"tfsechead rtl\"><a target=\"_blank\" href=\"https://shebanq.ancient-data.org/hebrew/text?book=Exodus&amp;chapter=30&amp;verse=7&amp;version=c&amp;mr=m&amp;qw=q&amp;tp=txt_p&amp;tr=hb&amp;wget=v&amp;qget=v&amp;nget=vt\" title=\"Show this on SHEBANQ\" sec=\"Exodus 30:7\">Exodus 30:7</a></div><div class=\"rtl children\"><div class=\"contnr c2  rtl l \" ><div class=\"lbl c2  \" ><a href=\"#\" class=\"nd\">clause:436729</a></div><div class=\"children hor wrap rtl\"><div class=\"contnr c1  rtl  \" ><div class=\"lbl c1  \" ><a href=\"#\" class=\"nd\">clause_atom:525087</a></div><div class=\"children hor wrap rtl\"><div class=\"contnr c1  rtl  \" ><div class=\"lbl c1  \" ><a href=\"#\" class=\"nd\">phrase_atom:933681</a></div><div class=\"children hor wrap rtl\"><div class=\"contnr c0 trm rtl  hl\" ><div class=\"lbl c0 trm hl\" ><a href=\"#\" class=\"nd\">45628</a> <a class=\" txtu hbo\" target=\"_blank\" href=\"https://shebanq.ancient-data.org/hebrew/word?version=c&amp;id=1B\" title=\"Show this on SHEBANQ\"><span class=\"txtu hbo\">בַּ</span></a></div></div><div class=\"contnr c0 trm rtl  hl\" ><div class=\"lbl c0 trm hl\" ><a href=\"#\" class=\"nd\">45629</a> <a class=\" txtu hbo\" target=\"_blank\" href=\"https://shebanq.ancient-data.org/hebrew/word?version=c&amp;id=1H\" title=\"Show this on SHEBANQ\"></a></div></div><div class=\"contnr c0 trm rtl  hl\" ><div class=\"lbl c0 trm hl\" ><a href=\"#\" class=\"nd\">45630</a> <a class=\" txtu hbo\" target=\"_blank\" href=\"https://shebanq.ancient-data.org/hebrew/word?version=c&amp;id=1BQRin\" title=\"Show this on SHEBANQ\"><span class=\"txtu hbo\">בֹּ֣קֶר </span></a></div></div><div class=\"contnr c0 trm rtl  hl\" ><div class=\"lbl c0 trm hl\" ><a href=\"#\" class=\"nd\">45631</a> <a class=\" txtu hbo\" target=\"_blank\" href=\"https://shebanq.ancient-data.org/hebrew/word?version=c&amp;id=1B\" title=\"Show this on SHEBANQ\"><span class=\"txtu hbo\">בַּ</span></a></div></div><div class=\"contnr c0 trm rtl  hl\" ><div class=\"lbl c0 trm hl\" ><a href=\"#\" class=\"nd\">45632</a> <a class=\" txtu hbo\" target=\"_blank\" href=\"https://shebanq.ancient-data.org/hebrew/word?version=c&amp;id=1H\" title=\"Show this on SHEBANQ\"></a></div></div><div class=\"contnr c0 trm rtl  hl\" ><div class=\"lbl c0 trm hl\" ><a href=\"#\" class=\"nd\">45633</a> <a class=\" txtu hbo\" target=\"_blank\" href=\"https://shebanq.ancient-data.org/hebrew/word?version=c&amp;id=1BQRin\" title=\"Show this on SHEBANQ\"><span class=\"txtu hbo\">בֹּ֗קֶר </span></a></div></div></div></div></div></div></div></div><div class=\"contnr c2  rtl r \" ><div class=\"lbl c2  \" ><a href=\"#\" class=\"nd\">clause:436729</a></div><div class=\"children hor wrap rtl\"><div class=\"contnr c1  rtl  \" ><div class=\"lbl c1  \" ><a href=\"#\" class=\"nd\">clause_atom:525089</a></div><div class=\"children hor wrap rtl\"><div class=\"contnr c1  rtl  \" ><div class=\"lbl c1  \" ><a href=\"#\" class=\"nd\">phrase_atom:933684</a></div><div class=\"children hor wrap rtl\"><div class=\"contnr c0 trm rtl  \" ><div class=\"lbl c0 trm \" ><a href=\"#\" class=\"nd\">45639</a> <a class=\" txtu hbo\" target=\"_blank\" href=\"https://shebanq.ancient-data.org/hebrew/word?version=c&amp;id=1QVRv\" title=\"Show this on SHEBANQ\"><span class=\"txtu hbo\">יַקְטִירֶֽנָּה׃ </span></a></div></div></div></div></div></div></div></div></div>ESV: And Aaron shall burn fragrant incense on it . Every morning when he dresses the lamps he shall burn it ,<br>"
   ]
  },
  {
   "cell_type": "code",
   "execution_count": null,
   "metadata": {},
   "outputs": [],
   "source": [
    "save(436729,\n",
    "\n",
    "{'functions': ['simul_habitual, multi_simul'],\n",
    " 'quals': ['iterative'],\n",
    " 'slots': [45628, 45629, 45630, 45631, 45632, 45633],\n",
    " 'times': [{'functions': ['simultaneous'],\n",
    "            'preps': [['B', 45628]],\n",
    "            'refs': [['THE', 45629]],\n",
    "            'slots': [45628, 45629, 45630],\n",
    "            'times': [45630]},\n",
    "           {'duplicate': True,\n",
    "            'functions': ['simultaneous'],\n",
    "            'preps': [['B', 45631]],\n",
    "            'refs': [['THE', 45632]],\n",
    "            'slots': [45631, 45632, 45633],\n",
    "            'times': [45633]}]}\n",
    "\n",
    ")"
   ]
  },
  {
   "cell_type": "markdown",
   "metadata": {},
   "source": [
    "<div class=\"tfsechead rtl\"><a target=\"_blank\" href=\"https://shebanq.ancient-data.org/hebrew/text?book=Exodus&amp;chapter=30&amp;verse=8&amp;version=c&amp;mr=m&amp;qw=q&amp;tp=txt_p&amp;tr=hb&amp;wget=v&amp;qget=v&amp;nget=vt\" title=\"Show this on SHEBANQ\" sec=\"Exodus 30:8\">Exodus 30:8</a></div><div class=\"rtl children\"><div class=\"contnr c2  rtl  \" ><div class=\"lbl c2  \" ><a href=\"#\" class=\"nd\">clause:436732</a></div><div class=\"children hor wrap rtl\"><div class=\"contnr c1  rtl  \" ><div class=\"lbl c1  \" ><a href=\"#\" class=\"nd\">clause_atom:525091</a></div><div class=\"children hor wrap rtl\"><div class=\"contnr c1  rtl  \" ><div class=\"lbl c1  \" ><a href=\"#\" class=\"nd\">phrase_atom:933686</a></div><div class=\"children hor wrap rtl\"><div class=\"contnr c0 trm rtl  \" ><div class=\"lbl c0 trm \" ><a href=\"#\" class=\"nd\">45641</a> <a class=\" txtu hbo\" target=\"_blank\" href=\"https://shebanq.ancient-data.org/hebrew/word?version=c&amp;id=1B\" title=\"Show this on SHEBANQ\"><span class=\"txtu hbo\">בְ</span></a></div></div><div class=\"contnr c0 trm rtl  \" ><div class=\"lbl c0 trm \" ><a href=\"#\" class=\"nd\">45642</a> <a class=\" txtu hbo\" target=\"_blank\" href=\"https://shebanq.ancient-data.org/hebrew/word?version=c&amp;id=1OLHv\" title=\"Show this on SHEBANQ\"><span class=\"txtu hbo\">הַעֲלֹ֨ת </span></a></div></div></div></div><div class=\"contnr c1  rtl  \" ><div class=\"lbl c1  \" ><a href=\"#\" class=\"nd\">phrase_atom:933687</a></div><div class=\"children hor wrap rtl\"><div class=\"contnr c0 trm rtl  \" ><div class=\"lbl c0 trm \" ><a href=\"#\" class=\"nd\">45643</a> <a class=\" txtu hbo\" target=\"_blank\" href=\"https://shebanq.ancient-data.org/hebrew/word?version=c&amp;id=1AHRNn\" title=\"Show this on SHEBANQ\"><span class=\"txtu hbo\">אַהֲרֹ֧ן </span></a></div></div></div></div><div class=\"contnr c1  rtl  \" ><div class=\"lbl c1  \" ><a href=\"#\" class=\"nd\">phrase_atom:933688</a></div><div class=\"children hor wrap rtl\"><div class=\"contnr c0 trm rtl  \" ><div class=\"lbl c0 trm \" ><a href=\"#\" class=\"nd\">45644</a> <a class=\" txtu hbo\" target=\"_blank\" href=\"https://shebanq.ancient-data.org/hebrew/word?version=c&amp;id=1AT\" title=\"Show this on SHEBANQ\"><span class=\"txtu hbo\">אֶת־</span></a></div></div><div class=\"contnr c0 trm rtl  \" ><div class=\"lbl c0 trm \" ><a href=\"#\" class=\"nd\">45645</a> <a class=\" txtu hbo\" target=\"_blank\" href=\"https://shebanq.ancient-data.org/hebrew/word?version=c&amp;id=1H\" title=\"Show this on SHEBANQ\"><span class=\"txtu hbo\">הַ</span></a></div></div><div class=\"contnr c0 trm rtl  \" ><div class=\"lbl c0 trm \" ><a href=\"#\" class=\"nd\">45646</a> <a class=\" txtu hbo\" target=\"_blank\" href=\"https://shebanq.ancient-data.org/hebrew/word?version=c&amp;id=1NRn\" title=\"Show this on SHEBANQ\"><span class=\"txtu hbo\">נֵּרֹ֛ת </span></a></div></div></div></div><div class=\"contnr c1  rtl  \" ><div class=\"lbl c1  \" ><a href=\"#\" class=\"nd\">phrase_atom:933689</a></div><div class=\"children hor wrap rtl\"><div class=\"contnr c0 trm rtl  hl\" ><div class=\"lbl c0 trm hl\" ><a href=\"#\" class=\"nd\">45647</a> <a class=\" txtu hbo\" target=\"_blank\" href=\"https://shebanq.ancient-data.org/hebrew/word?version=c&amp;id=1BJNn\" title=\"Show this on SHEBANQ\"><span class=\"txtu hbo\">בֵּ֥ין </span></a></div></div><div class=\"contnr c0 trm rtl  hl\" ><div class=\"lbl c0 trm hl\" ><a href=\"#\" class=\"nd\">45648</a> <a class=\" txtu hbo\" target=\"_blank\" href=\"https://shebanq.ancient-data.org/hebrew/word?version=c&amp;id=1H\" title=\"Show this on SHEBANQ\"><span class=\"txtu hbo\">הָ</span></a></div></div><div class=\"contnr c0 trm rtl  hl\" ><div class=\"lbl c0 trm hl\" ><a href=\"#\" class=\"nd\">45649</a> <a class=\" txtu hbo\" target=\"_blank\" href=\"https://shebanq.ancient-data.org/hebrew/word?version=c&amp;id=1ORBn\" title=\"Show this on SHEBANQ\"><span class=\"txtu hbo\">עֲרְבַּ֖יִם </span></a></div></div></div></div></div></div></div></div></div>ESV: and when Aaron sets up the lamps at twilight , he shall burn it , a regular incense offering before the Lord throughout your generations .<br>"
   ]
  },
  {
   "cell_type": "code",
   "execution_count": null,
   "metadata": {},
   "outputs": [],
   "source": [
    "save(436732,\n",
    "\n",
    "{'functions': ['simultaneous'],\n",
    " 'preps': [['BJN/', 45647]],\n",
    " 'quals': ['durative'],\n",
    " 'quants': [['NUMQ', 45649]],\n",
    " 'refs': [['THE', 45648]],\n",
    " 'slots': [45647, 45648, 45649],\n",
    " 'times': [45649]}\n",
    "\n",
    ")"
   ]
  },
  {
   "cell_type": "markdown",
   "metadata": {},
   "source": [
    "<div class=\"tfsechead rtl\"><a target=\"_blank\" href=\"https://shebanq.ancient-data.org/hebrew/text?book=Exodus&amp;chapter=30&amp;verse=10&amp;version=c&amp;mr=m&amp;qw=q&amp;tp=txt_p&amp;tr=hb&amp;wget=v&amp;qget=v&amp;nget=vt\" title=\"Show this on SHEBANQ\" sec=\"Exodus 30:10\">Exodus 30:10</a></div><div class=\"rtl children\"><div class=\"contnr c2  rtl  \" ><div class=\"lbl c2  \" ><a href=\"#\" class=\"nd\">clause:436737</a></div><div class=\"children hor wrap rtl\"><div class=\"contnr c1  rtl  \" ><div class=\"lbl c1  \" ><a href=\"#\" class=\"nd\">clause_atom:525096</a></div><div class=\"children hor wrap rtl\"><div class=\"contnr c1  rtl  \" ><div class=\"lbl c1  \" ><a href=\"#\" class=\"nd\">phrase_atom:933703</a></div><div class=\"children hor wrap rtl\"><div class=\"contnr c0 trm rtl  \" ><div class=\"lbl c0 trm \" ><a href=\"#\" class=\"nd\">45672</a> <a class=\" txtu hbo\" target=\"_blank\" href=\"https://shebanq.ancient-data.org/hebrew/word?version=c&amp;id=1W\" title=\"Show this on SHEBANQ\"><span class=\"txtu hbo\">וְ</span></a></div></div></div></div><div class=\"contnr c1  rtl  \" ><div class=\"lbl c1  \" ><a href=\"#\" class=\"nd\">phrase_atom:933704</a></div><div class=\"children hor wrap rtl\"><div class=\"contnr c0 trm rtl  \" ><div class=\"lbl c0 trm \" ><a href=\"#\" class=\"nd\">45673</a> <a class=\" txtu hbo\" target=\"_blank\" href=\"https://shebanq.ancient-data.org/hebrew/word?version=c&amp;id=1KPRv\" title=\"Show this on SHEBANQ\"><span class=\"txtu hbo\">כִפֶּ֤ר </span></a></div></div></div></div><div class=\"contnr c1  rtl  \" ><div class=\"lbl c1  \" ><a href=\"#\" class=\"nd\">phrase_atom:933705</a></div><div class=\"children hor wrap rtl\"><div class=\"contnr c0 trm rtl  \" ><div class=\"lbl c0 trm \" ><a href=\"#\" class=\"nd\">45674</a> <a class=\" txtu hbo\" target=\"_blank\" href=\"https://shebanq.ancient-data.org/hebrew/word?version=c&amp;id=1AHRNn\" title=\"Show this on SHEBANQ\"><span class=\"txtu hbo\">אַהֲרֹן֙ </span></a></div></div></div></div><div class=\"contnr c1  rtl  \" ><div class=\"lbl c1  \" ><a href=\"#\" class=\"nd\">phrase_atom:933706</a></div><div class=\"children hor wrap rtl\"><div class=\"contnr c0 trm rtl  \" ><div class=\"lbl c0 trm \" ><a href=\"#\" class=\"nd\">45675</a> <a class=\" txtu hbo\" target=\"_blank\" href=\"https://shebanq.ancient-data.org/hebrew/word?version=c&amp;id=1OL\" title=\"Show this on SHEBANQ\"><span class=\"txtu hbo\">עַל־</span></a></div></div><div class=\"contnr c0 trm rtl  \" ><div class=\"lbl c0 trm \" ><a href=\"#\" class=\"nd\">45676</a> <a class=\" txtu hbo\" target=\"_blank\" href=\"https://shebanq.ancient-data.org/hebrew/word?version=c&amp;id=1QRNn\" title=\"Show this on SHEBANQ\"><span class=\"txtu hbo\">קַרְנֹתָ֔יו </span></a></div></div></div></div><div class=\"contnr c1  rtl  \" ><div class=\"lbl c1  \" ><a href=\"#\" class=\"nd\">phrase_atom:933707</a></div><div class=\"children hor wrap rtl\"><div class=\"contnr c0 trm rtl  hl\" ><div class=\"lbl c0 trm hl\" ><a href=\"#\" class=\"nd\">45677</a> <a class=\" txtu hbo\" target=\"_blank\" href=\"https://shebanq.ancient-data.org/hebrew/word?version=c&amp;id=1AXDn\" title=\"Show this on SHEBANQ\"><span class=\"txtu hbo\">אַחַ֖ת </span></a></div></div><div class=\"contnr c0 trm rtl  hl\" ><div class=\"lbl c0 trm hl\" ><a href=\"#\" class=\"nd\">45678</a> <a class=\" txtu hbo\" target=\"_blank\" href=\"https://shebanq.ancient-data.org/hebrew/word?version=c&amp;id=1B\" title=\"Show this on SHEBANQ\"><span class=\"txtu hbo\">בַּ</span></a></div></div><div class=\"contnr c0 trm rtl  hl\" ><div class=\"lbl c0 trm hl\" ><a href=\"#\" class=\"nd\">45679</a> <a class=\" txtu hbo\" target=\"_blank\" href=\"https://shebanq.ancient-data.org/hebrew/word?version=c&amp;id=1H\" title=\"Show this on SHEBANQ\"></a></div></div><div class=\"contnr c0 trm rtl  hl\" ><div class=\"lbl c0 trm hl\" ><a href=\"#\" class=\"nd\">45680</a> <a class=\" txtu hbo\" target=\"_blank\" href=\"https://shebanq.ancient-data.org/hebrew/word?version=c&amp;id=1CNHn\" title=\"Show this on SHEBANQ\"><span class=\"txtu hbo\">שָּׁנָ֑ה </span></a></div></div></div></div><div class=\"contnr c1  rtl  \" ><div class=\"lbl c1  \" ><a href=\"#\" class=\"nd\">phrase_atom:933708</a></div><div class=\"children hor wrap rtl\"><div class=\"contnr c0 trm rtl  \" ><div class=\"lbl c0 trm \" ><a href=\"#\" class=\"nd\">45681</a> <a class=\" txtu hbo\" target=\"_blank\" href=\"https://shebanq.ancient-data.org/hebrew/word?version=c&amp;id=1MN\" title=\"Show this on SHEBANQ\"><span class=\"txtu hbo\">מִ</span></a></div></div><div class=\"contnr c0 trm rtl  \" ><div class=\"lbl c0 trm \" ><a href=\"#\" class=\"nd\">45682</a> <a class=\" txtu hbo\" target=\"_blank\" href=\"https://shebanq.ancient-data.org/hebrew/word?version=c&amp;id=1DMn\" title=\"Show this on SHEBANQ\"><span class=\"txtu hbo\">דַּ֞ם </span></a></div></div><div class=\"contnr c0 trm rtl  \" ><div class=\"lbl c0 trm \" ><a href=\"#\" class=\"nd\">45683</a> <a class=\" txtu hbo\" target=\"_blank\" href=\"https://shebanq.ancient-data.org/hebrew/word?version=c&amp;id=1XVATn\" title=\"Show this on SHEBANQ\"><span class=\"txtu hbo\">חַטַּ֣את </span></a></div></div><div class=\"contnr c0 trm rtl  \" ><div class=\"lbl c0 trm \" ><a href=\"#\" class=\"nd\">45684</a> <a class=\" txtu hbo\" target=\"_blank\" href=\"https://shebanq.ancient-data.org/hebrew/word?version=c&amp;id=1H\" title=\"Show this on SHEBANQ\"><span class=\"txtu hbo\">הַ</span></a></div></div><div class=\"contnr c0 trm rtl  \" ><div class=\"lbl c0 trm \" ><a href=\"#\" class=\"nd\">45685</a> <a class=\" txtu hbo\" target=\"_blank\" href=\"https://shebanq.ancient-data.org/hebrew/word?version=c&amp;id=1KPRJMn\" title=\"Show this on SHEBANQ\"><span class=\"txtu hbo\">כִּפֻּרִ֗ים </span></a></div></div></div></div></div></div></div></div></div>ESV: Aaron shall make atonement on its horns once a year . With the blood of the sin offering of atonement he shall make atonement for it once in the year throughout your generations . It is most holy to the Lord . ”<br>"
   ]
  },
  {
   "cell_type": "code",
   "execution_count": null,
   "metadata": {},
   "outputs": [],
   "source": [
    "save(436737,\n",
    "\n",
    "{'functions': ['simultaneous'],\n",
    " 'slots': [45677, 45678, 45679, 45680],\n",
    " 'times': [{'NUM': {'lex': '>XD/',\n",
    "                    'parse': 45677,\n",
    "                    'phatom': 933707,\n",
    "                    'slots': [45677]},\n",
    "            'functions': ['simultaneous'],\n",
    "            'slots': [45677],\n",
    "            'times': [45677]},\n",
    "           {'functions': ['simultaneous'],\n",
    "            'preps': [['B', 45678]],\n",
    "            'quals': ['durative'],\n",
    "            'refs': [['THE', 45679]],\n",
    "            'slots': [45678, 45679, 45680],\n",
    "            'times': [45680]}]}\n",
    "\n",
    ")"
   ]
  },
  {
   "cell_type": "markdown",
   "metadata": {},
   "source": [
    "<div class=\"tfsechead rtl\"><a target=\"_blank\" href=\"https://shebanq.ancient-data.org/hebrew/text?book=Exodus&amp;chapter=30&amp;verse=10&amp;version=c&amp;mr=m&amp;qw=q&amp;tp=txt_p&amp;tr=hb&amp;wget=v&amp;qget=v&amp;nget=vt\" title=\"Show this on SHEBANQ\" sec=\"Exodus 30:10\">Exodus 30:10</a></div><div class=\"rtl children\"><div class=\"contnr c2  rtl  \" ><div class=\"lbl c2  \" ><a href=\"#\" class=\"nd\">clause:436738</a></div><div class=\"children hor wrap rtl\"><div class=\"contnr c1  rtl  \" ><div class=\"lbl c1  \" ><a href=\"#\" class=\"nd\">clause_atom:525097</a></div><div class=\"children hor wrap rtl\"><div class=\"contnr c1  rtl  \" ><div class=\"lbl c1  \" ><a href=\"#\" class=\"nd\">phrase_atom:933709</a></div><div class=\"children hor wrap rtl\"><div class=\"contnr c0 trm rtl  hl\" ><div class=\"lbl c0 trm hl\" ><a href=\"#\" class=\"nd\">45686</a> <a class=\" txtu hbo\" target=\"_blank\" href=\"https://shebanq.ancient-data.org/hebrew/word?version=c&amp;id=1AXDn\" title=\"Show this on SHEBANQ\"><span class=\"txtu hbo\">אַחַ֤ת </span></a></div></div><div class=\"contnr c0 trm rtl  hl\" ><div class=\"lbl c0 trm hl\" ><a href=\"#\" class=\"nd\">45687</a> <a class=\" txtu hbo\" target=\"_blank\" href=\"https://shebanq.ancient-data.org/hebrew/word?version=c&amp;id=1B\" title=\"Show this on SHEBANQ\"><span class=\"txtu hbo\">בַּ</span></a></div></div><div class=\"contnr c0 trm rtl  hl\" ><div class=\"lbl c0 trm hl\" ><a href=\"#\" class=\"nd\">45688</a> <a class=\" txtu hbo\" target=\"_blank\" href=\"https://shebanq.ancient-data.org/hebrew/word?version=c&amp;id=1H\" title=\"Show this on SHEBANQ\"></a></div></div><div class=\"contnr c0 trm rtl  hl\" ><div class=\"lbl c0 trm hl\" ><a href=\"#\" class=\"nd\">45689</a> <a class=\" txtu hbo\" target=\"_blank\" href=\"https://shebanq.ancient-data.org/hebrew/word?version=c&amp;id=1CNHn\" title=\"Show this on SHEBANQ\"><span class=\"txtu hbo\">שָּׁנָה֙ </span></a></div></div></div></div><div class=\"contnr c1  rtl  \" ><div class=\"lbl c1  \" ><a href=\"#\" class=\"nd\">phrase_atom:933710</a></div><div class=\"children hor wrap rtl\"><div class=\"contnr c0 trm rtl  \" ><div class=\"lbl c0 trm \" ><a href=\"#\" class=\"nd\">45690</a> <a class=\" txtu hbo\" target=\"_blank\" href=\"https://shebanq.ancient-data.org/hebrew/word?version=c&amp;id=1KPRv\" title=\"Show this on SHEBANQ\"><span class=\"txtu hbo\">יְכַפֵּ֤ר </span></a></div></div></div></div><div class=\"contnr c1  rtl  \" ><div class=\"lbl c1  \" ><a href=\"#\" class=\"nd\">phrase_atom:933711</a></div><div class=\"children hor wrap rtl\"><div class=\"contnr c0 trm rtl  \" ><div class=\"lbl c0 trm \" ><a href=\"#\" class=\"nd\">45691</a> <a class=\" txtu hbo\" target=\"_blank\" href=\"https://shebanq.ancient-data.org/hebrew/word?version=c&amp;id=1OL\" title=\"Show this on SHEBANQ\"><span class=\"txtu hbo\">עָלָיו֙ </span></a></div></div></div></div><div class=\"contnr c1  rtl  \" ><div class=\"lbl c1  \" ><a href=\"#\" class=\"nd\">phrase_atom:933712</a></div><div class=\"children hor wrap rtl\"><div class=\"contnr c0 trm rtl  \" ><div class=\"lbl c0 trm \" ><a href=\"#\" class=\"nd\">45692</a> <a class=\" txtu hbo\" target=\"_blank\" href=\"https://shebanq.ancient-data.org/hebrew/word?version=c&amp;id=1L\" title=\"Show this on SHEBANQ\"><span class=\"txtu hbo\">לְ</span></a></div></div><div class=\"contnr c0 trm rtl  \" ><div class=\"lbl c0 trm \" ><a href=\"#\" class=\"nd\">45693</a> <a class=\" txtu hbo\" target=\"_blank\" href=\"https://shebanq.ancient-data.org/hebrew/word?version=c&amp;id=1DWRn\" title=\"Show this on SHEBANQ\"><span class=\"txtu hbo\">דֹרֹ֣תֵיכֶ֔ם </span></a></div></div></div></div></div></div></div></div></div>ESV: Aaron shall make atonement on its horns once a year . With the blood of the sin offering of atonement he shall make atonement for it once in the year throughout your generations . It is most holy to the Lord . ”<br>"
   ]
  },
  {
   "cell_type": "code",
   "execution_count": null,
   "metadata": {},
   "outputs": [],
   "source": [
    "save(436738,\n",
    "\n",
    "{'functions': ['simultaneous'],\n",
    " 'slots': [45686, 45687, 45688, 45689],\n",
    " 'times': [{'NUM': {'lex': '>XD/',\n",
    "                    'parse': 45686,\n",
    "                    'phatom': 933709,\n",
    "                    'slots': [45686]},\n",
    "            'functions': ['simultaneous'],\n",
    "            'slots': [45686],\n",
    "            'times': [45686]},\n",
    "           {'functions': ['simultaneous'],\n",
    "            'preps': [['B', 45687]],\n",
    "            'quals': ['durative'],\n",
    "            'refs': [['THE', 45688]],\n",
    "            'slots': [45687, 45688, 45689],\n",
    "            'times': [45689]}]}\n",
    "\n",
    ")"
   ]
  },
  {
   "cell_type": "markdown",
   "metadata": {},
   "source": [
    "<div class=\"tfsechead rtl\"><a target=\"_blank\" href=\"https://shebanq.ancient-data.org/hebrew/text?book=Exodus&amp;chapter=31&amp;verse=15&amp;version=c&amp;mr=m&amp;qw=q&amp;tp=txt_p&amp;tr=hb&amp;wget=v&amp;qget=v&amp;nget=vt\" title=\"Show this on SHEBANQ\" sec=\"Exodus 31:15\">Exodus 31:15</a></div><div class=\"rtl children\"><div class=\"contnr c2  rtl  \" ><div class=\"lbl c2  \" ><a href=\"#\" class=\"nd\">clause:436862</a></div><div class=\"children hor wrap rtl\"><div class=\"contnr c1  rtl  \" ><div class=\"lbl c1  \" ><a href=\"#\" class=\"nd\">clause_atom:525227</a></div><div class=\"children hor wrap rtl\"><div class=\"contnr c1  rtl  \" ><div class=\"lbl c1  \" ><a href=\"#\" class=\"nd\">phrase_atom:934098</a></div><div class=\"children hor wrap rtl\"><div class=\"contnr c0 trm rtl  hl\" ><div class=\"lbl c0 trm hl\" ><a href=\"#\" class=\"nd\">46411</a> <a class=\" txtu hbo\" target=\"_blank\" href=\"https://shebanq.ancient-data.org/hebrew/word?version=c&amp;id=1CCn\" title=\"Show this on SHEBANQ\"><span class=\"txtu hbo\">שֵׁ֣שֶׁת </span></a></div></div><div class=\"contnr c0 trm rtl  hl\" ><div class=\"lbl c0 trm hl\" ><a href=\"#\" class=\"nd\">46412</a> <a class=\" txtu hbo\" target=\"_blank\" href=\"https://shebanq.ancient-data.org/hebrew/word?version=c&amp;id=1JWMn\" title=\"Show this on SHEBANQ\"><span class=\"txtu hbo\">יָמִים֮ </span></a></div></div></div></div><div class=\"contnr c1  rtl  \" ><div class=\"lbl c1  \" ><a href=\"#\" class=\"nd\">phrase_atom:934099</a></div><div class=\"children hor wrap rtl\"><div class=\"contnr c0 trm rtl  \" ><div class=\"lbl c0 trm \" ><a href=\"#\" class=\"nd\">46413</a> <a class=\" txtu hbo\" target=\"_blank\" href=\"https://shebanq.ancient-data.org/hebrew/word?version=c&amp;id=1OFHv\" title=\"Show this on SHEBANQ\"><span class=\"txtu hbo\">יֵעָשֶׂ֣ה </span></a></div></div></div></div><div class=\"contnr c1  rtl  \" ><div class=\"lbl c1  \" ><a href=\"#\" class=\"nd\">phrase_atom:934100</a></div><div class=\"children hor wrap rtl\"><div class=\"contnr c0 trm rtl  \" ><div class=\"lbl c0 trm \" ><a href=\"#\" class=\"nd\">46414</a> <a class=\" txtu hbo\" target=\"_blank\" href=\"https://shebanq.ancient-data.org/hebrew/word?version=c&amp;id=1MLAKHn\" title=\"Show this on SHEBANQ\"><span class=\"txtu hbo\">מְלָאכָה֒ </span></a></div></div></div></div></div></div></div></div></div>ESV: Six days shall work be done , but the seventh day is a Sabbath of solemn rest , holy to the Lord . Whoever does any work on the Sabbath day shall be put to death .<br>"
   ]
  },
  {
   "cell_type": "code",
   "execution_count": null,
   "metadata": {},
   "outputs": [],
   "source": [
    "save(436862,\n",
    "\n",
    "{'functions': ['atelic_ext'],\n",
    " 'quals': ['durative'],\n",
    " 'quants': [['NUMQ', 46411]],\n",
    " 'slots': [46411, 46412],\n",
    " 'times': [46412]}\n",
    "\n",
    ")"
   ]
  },
  {
   "cell_type": "markdown",
   "metadata": {},
   "source": [
    "<div class=\"tfsechead rtl\"><a target=\"_blank\" href=\"https://shebanq.ancient-data.org/hebrew/text?book=Exodus&amp;chapter=31&amp;verse=15&amp;version=c&amp;mr=m&amp;qw=q&amp;tp=txt_p&amp;tr=hb&amp;wget=v&amp;qget=v&amp;nget=vt\" title=\"Show this on SHEBANQ\" sec=\"Exodus 31:15\">Exodus 31:15</a></div><div class=\"rtl children\"><div class=\"contnr c2  rtl  \" ><div class=\"lbl c2  \" ><a href=\"#\" class=\"nd\">clause:436866</a></div><div class=\"children hor wrap rtl\"><div class=\"contnr c1  rtl  \" ><div class=\"lbl c1  \" ><a href=\"#\" class=\"nd\">clause_atom:525231</a></div><div class=\"children hor wrap rtl\"><div class=\"contnr c1  rtl  \" ><div class=\"lbl c1  \" ><a href=\"#\" class=\"nd\">phrase_atom:934107</a></div><div class=\"children hor wrap rtl\"><div class=\"contnr c0 trm rtl  \" ><div class=\"lbl c0 trm \" ><a href=\"#\" class=\"nd\">46427</a> <a class=\" txtu hbo\" target=\"_blank\" href=\"https://shebanq.ancient-data.org/hebrew/word?version=c&amp;id=1H\" title=\"Show this on SHEBANQ\"><span class=\"txtu hbo\">הָ</span></a></div></div></div></div><div class=\"contnr c1  rtl  \" ><div class=\"lbl c1  \" ><a href=\"#\" class=\"nd\">phrase_atom:934108</a></div><div class=\"children hor wrap rtl\"><div class=\"contnr c0 trm rtl  \" ><div class=\"lbl c0 trm \" ><a href=\"#\" class=\"nd\">46428</a> <a class=\" txtu hbo\" target=\"_blank\" href=\"https://shebanq.ancient-data.org/hebrew/word?version=c&amp;id=1OFHv\" title=\"Show this on SHEBANQ\"><span class=\"txtu hbo\">עֹשֶׂ֧ה </span></a></div></div></div></div><div class=\"contnr c1  rtl  \" ><div class=\"lbl c1  \" ><a href=\"#\" class=\"nd\">phrase_atom:934109</a></div><div class=\"children hor wrap rtl\"><div class=\"contnr c0 trm rtl  \" ><div class=\"lbl c0 trm \" ><a href=\"#\" class=\"nd\">46429</a> <a class=\" txtu hbo\" target=\"_blank\" href=\"https://shebanq.ancient-data.org/hebrew/word?version=c&amp;id=1MLAKHn\" title=\"Show this on SHEBANQ\"><span class=\"txtu hbo\">מְלָאכָ֛ה </span></a></div></div></div></div><div class=\"contnr c1  rtl  \" ><div class=\"lbl c1  \" ><a href=\"#\" class=\"nd\">phrase_atom:934110</a></div><div class=\"children hor wrap rtl\"><div class=\"contnr c0 trm rtl  hl\" ><div class=\"lbl c0 trm hl\" ><a href=\"#\" class=\"nd\">46430</a> <a class=\" txtu hbo\" target=\"_blank\" href=\"https://shebanq.ancient-data.org/hebrew/word?version=c&amp;id=1B\" title=\"Show this on SHEBANQ\"><span class=\"txtu hbo\">בְּ</span></a></div></div><div class=\"contnr c0 trm rtl  hl\" ><div class=\"lbl c0 trm hl\" ><a href=\"#\" class=\"nd\">46431</a> <a class=\" txtu hbo\" target=\"_blank\" href=\"https://shebanq.ancient-data.org/hebrew/word?version=c&amp;id=1JWMn\" title=\"Show this on SHEBANQ\"><span class=\"txtu hbo\">יֹ֥ום </span></a></div></div><div class=\"contnr c0 trm rtl  hl\" ><div class=\"lbl c0 trm hl\" ><a href=\"#\" class=\"nd\">46432</a> <a class=\" txtu hbo\" target=\"_blank\" href=\"https://shebanq.ancient-data.org/hebrew/word?version=c&amp;id=1H\" title=\"Show this on SHEBANQ\"><span class=\"txtu hbo\">הַ</span></a></div></div><div class=\"contnr c0 trm rtl  hl\" ><div class=\"lbl c0 trm hl\" ><a href=\"#\" class=\"nd\">46433</a> <a class=\" txtu hbo\" target=\"_blank\" href=\"https://shebanq.ancient-data.org/hebrew/word?version=c&amp;id=1CBTn\" title=\"Show this on SHEBANQ\"><span class=\"txtu hbo\">שַּׁבָּ֖ת </span></a></div></div></div></div></div></div></div></div></div>ESV: Six days shall work be done , but the seventh day is a Sabbath of solemn rest , holy to the Lord . Whoever does any work on the Sabbath day shall be put to death .<br>"
   ]
  },
  {
   "cell_type": "code",
   "execution_count": null,
   "metadata": {},
   "outputs": [],
   "source": [
    "save(436866,\n",
    "\n",
    "{'functions': ['simultaneous'],\n",
    " 'preps': [['B', 46430]],\n",
    " 'refs': [['GEN', [46432, 46433, 'DEF']]],\n",
    " 'slots': [46430, 46431, 46432, 46433],\n",
    " 'times': [46431]}\n",
    "\n",
    ")"
   ]
  },
  {
   "cell_type": "markdown",
   "metadata": {},
   "source": [
    "<div class=\"tfsechead rtl\"><a target=\"_blank\" href=\"https://shebanq.ancient-data.org/hebrew/text?book=Exodus&amp;chapter=31&amp;verse=17&amp;version=c&amp;mr=m&amp;qw=q&amp;tp=txt_p&amp;tr=hb&amp;wget=v&amp;qget=v&amp;nget=vt\" title=\"Show this on SHEBANQ\" sec=\"Exodus 31:17\">Exodus 31:17</a></div><div class=\"rtl children\"><div class=\"contnr c2  rtl  \" ><div class=\"lbl c2  \" ><a href=\"#\" class=\"nd\">clause:436869</a></div><div class=\"children hor wrap rtl\"><div class=\"contnr c1  rtl  \" ><div class=\"lbl c1  \" ><a href=\"#\" class=\"nd\">clause_atom:525235</a></div><div class=\"children hor wrap rtl\"><div class=\"contnr c1  rtl  \" ><div class=\"lbl c1  \" ><a href=\"#\" class=\"nd\">phrase_atom:934121</a></div><div class=\"children hor wrap rtl\"><div class=\"contnr c0 trm rtl  \" ><div class=\"lbl c0 trm \" ><a href=\"#\" class=\"nd\">46452</a> <a class=\" txtu hbo\" target=\"_blank\" href=\"https://shebanq.ancient-data.org/hebrew/word?version=c&amp;id=1BJNn\" title=\"Show this on SHEBANQ\"><span class=\"txtu hbo\">בֵּינִ֗י </span></a></div></div><div class=\"contnr c0 trm rtl  \" ><div class=\"lbl c0 trm \" ><a href=\"#\" class=\"nd\">46453</a> <a class=\" txtu hbo\" target=\"_blank\" href=\"https://shebanq.ancient-data.org/hebrew/word?version=c&amp;id=1W\" title=\"Show this on SHEBANQ\"><span class=\"txtu hbo\">וּ</span></a></div></div><div class=\"contnr c0 trm rtl  \" ><div class=\"lbl c0 trm \" ><a href=\"#\" class=\"nd\">46454</a> <a class=\" txtu hbo\" target=\"_blank\" href=\"https://shebanq.ancient-data.org/hebrew/word?version=c&amp;id=1BJNn\" title=\"Show this on SHEBANQ\"><span class=\"txtu hbo\">בֵין֙ </span></a></div></div><div class=\"contnr c0 trm rtl  \" ><div class=\"lbl c0 trm \" ><a href=\"#\" class=\"nd\">46455</a> <a class=\" txtu hbo\" target=\"_blank\" href=\"https://shebanq.ancient-data.org/hebrew/word?version=c&amp;id=1BNn\" title=\"Show this on SHEBANQ\"><span class=\"txtu hbo\">בְּנֵ֣י </span></a></div></div><div class=\"contnr c0 trm rtl  \" ><div class=\"lbl c0 trm \" ><a href=\"#\" class=\"nd\">46456</a> <a class=\" txtu hbo\" target=\"_blank\" href=\"https://shebanq.ancient-data.org/hebrew/word?version=c&amp;id=1JFRALn\" title=\"Show this on SHEBANQ\"><span class=\"txtu hbo\">יִשְׂרָאֵ֔ל </span></a></div></div></div></div><div class=\"contnr c1  rtl  \" ><div class=\"lbl c1  \" ><a href=\"#\" class=\"nd\">phrase_atom:934122</a></div><div class=\"children hor wrap rtl\"><div class=\"contnr c0 trm rtl  \" ><div class=\"lbl c0 trm \" ><a href=\"#\" class=\"nd\">46457</a> <a class=\" txtu hbo\" target=\"_blank\" href=\"https://shebanq.ancient-data.org/hebrew/word?version=c&amp;id=1AWTn\" title=\"Show this on SHEBANQ\"><span class=\"txtu hbo\">אֹ֥ות </span></a></div></div></div></div><div class=\"contnr c1  rtl  \" ><div class=\"lbl c1  \" ><a href=\"#\" class=\"nd\">phrase_atom:934123</a></div><div class=\"children hor wrap rtl\"><div class=\"contnr c0 trm rtl  \" ><div class=\"lbl c0 trm \" ><a href=\"#\" class=\"nd\">46458</a> <a class=\" txtu hbo\" target=\"_blank\" href=\"https://shebanq.ancient-data.org/hebrew/word?version=c&amp;id=1HJA\" title=\"Show this on SHEBANQ\"><span class=\"txtu hbo\">הִ֖וא </span></a></div></div></div></div><div class=\"contnr c1  rtl  \" ><div class=\"lbl c1  \" ><a href=\"#\" class=\"nd\">phrase_atom:934124</a></div><div class=\"children hor wrap rtl\"><div class=\"contnr c0 trm rtl  hl\" ><div class=\"lbl c0 trm hl\" ><a href=\"#\" class=\"nd\">46459</a> <a class=\" txtu hbo\" target=\"_blank\" href=\"https://shebanq.ancient-data.org/hebrew/word?version=c&amp;id=1L\" title=\"Show this on SHEBANQ\"><span class=\"txtu hbo\">לְ</span></a></div></div><div class=\"contnr c0 trm rtl  hl\" ><div class=\"lbl c0 trm hl\" ><a href=\"#\" class=\"nd\">46460</a> <a class=\" txtu hbo\" target=\"_blank\" href=\"https://shebanq.ancient-data.org/hebrew/word?version=c&amp;id=1OWLMn\" title=\"Show this on SHEBANQ\"><span class=\"txtu hbo\">עֹלָ֑ם </span></a></div></div></div></div></div></div></div></div></div>ESV: It is a sign forever between me and the people of Israel that in six days the Lord made heaven and earth , and on the seventh day he rested and was refreshed . ’ ”<br>"
   ]
  },
  {
   "cell_type": "code",
   "execution_count": null,
   "metadata": {},
   "outputs": [],
   "source": [
    "save(436869,\n",
    "\n",
    "{'functions': ['anterior_dur, simultaneous'],\n",
    " 'preps': [['L', 46459]],\n",
    " 'quals': ['durative'],\n",
    " 'slots': [46459, 46460],\n",
    " 'times': [46460]}\n",
    "\n",
    ")"
   ]
  },
  {
   "cell_type": "markdown",
   "metadata": {},
   "source": [
    "<div class=\"tfsechead rtl\"><a target=\"_blank\" href=\"https://shebanq.ancient-data.org/hebrew/text?book=Exodus&amp;chapter=31&amp;verse=17&amp;version=c&amp;mr=m&amp;qw=q&amp;tp=txt_p&amp;tr=hb&amp;wget=v&amp;qget=v&amp;nget=vt\" title=\"Show this on SHEBANQ\" sec=\"Exodus 31:17\">Exodus 31:17</a></div><div class=\"rtl children\"><div class=\"contnr c2  rtl  \" ><div class=\"lbl c2  \" ><a href=\"#\" class=\"nd\">clause:436870</a></div><div class=\"children hor wrap rtl\"><div class=\"contnr c1  rtl  \" ><div class=\"lbl c1  \" ><a href=\"#\" class=\"nd\">clause_atom:525236</a></div><div class=\"children hor wrap rtl\"><div class=\"contnr c1  rtl  \" ><div class=\"lbl c1  \" ><a href=\"#\" class=\"nd\">phrase_atom:934125</a></div><div class=\"children hor wrap rtl\"><div class=\"contnr c0 trm rtl  \" ><div class=\"lbl c0 trm \" ><a href=\"#\" class=\"nd\">46461</a> <a class=\" txtu hbo\" target=\"_blank\" href=\"https://shebanq.ancient-data.org/hebrew/word?version=c&amp;id=1KJ\" title=\"Show this on SHEBANQ\"><span class=\"txtu hbo\">כִּי־</span></a></div></div></div></div><div class=\"contnr c1  rtl  \" ><div class=\"lbl c1  \" ><a href=\"#\" class=\"nd\">phrase_atom:934126</a></div><div class=\"children hor wrap rtl\"><div class=\"contnr c0 trm rtl  hl\" ><div class=\"lbl c0 trm hl\" ><a href=\"#\" class=\"nd\">46462</a> <a class=\" txtu hbo\" target=\"_blank\" href=\"https://shebanq.ancient-data.org/hebrew/word?version=c&amp;id=1CCn\" title=\"Show this on SHEBANQ\"><span class=\"txtu hbo\">שֵׁ֣שֶׁת </span></a></div></div><div class=\"contnr c0 trm rtl  hl\" ><div class=\"lbl c0 trm hl\" ><a href=\"#\" class=\"nd\">46463</a> <a class=\" txtu hbo\" target=\"_blank\" href=\"https://shebanq.ancient-data.org/hebrew/word?version=c&amp;id=1JWMn\" title=\"Show this on SHEBANQ\"><span class=\"txtu hbo\">יָמִ֗ים </span></a></div></div></div></div><div class=\"contnr c1  rtl  \" ><div class=\"lbl c1  \" ><a href=\"#\" class=\"nd\">phrase_atom:934127</a></div><div class=\"children hor wrap rtl\"><div class=\"contnr c0 trm rtl  \" ><div class=\"lbl c0 trm \" ><a href=\"#\" class=\"nd\">46464</a> <a class=\" txtu hbo\" target=\"_blank\" href=\"https://shebanq.ancient-data.org/hebrew/word?version=c&amp;id=1OFHv\" title=\"Show this on SHEBANQ\"><span class=\"txtu hbo\">עָשָׂ֤ה </span></a></div></div></div></div><div class=\"contnr c1  rtl  \" ><div class=\"lbl c1  \" ><a href=\"#\" class=\"nd\">phrase_atom:934128</a></div><div class=\"children hor wrap rtl\"><div class=\"contnr c0 trm rtl  \" ><div class=\"lbl c0 trm \" ><a href=\"#\" class=\"nd\">46465</a> <a class=\" txtu hbo\" target=\"_blank\" href=\"https://shebanq.ancient-data.org/hebrew/word?version=c&amp;id=1JHWHn\" title=\"Show this on SHEBANQ\"><span class=\"txtu hbo\">יְהוָה֙ </span></a></div></div></div></div><div class=\"contnr c1  rtl  \" ><div class=\"lbl c1  \" ><a href=\"#\" class=\"nd\">phrase_atom:934129</a></div><div class=\"children hor wrap rtl\"><div class=\"contnr c0 trm rtl  \" ><div class=\"lbl c0 trm \" ><a href=\"#\" class=\"nd\">46466</a> <a class=\" txtu hbo\" target=\"_blank\" href=\"https://shebanq.ancient-data.org/hebrew/word?version=c&amp;id=1AT\" title=\"Show this on SHEBANQ\"><span class=\"txtu hbo\">אֶת־</span></a></div></div><div class=\"contnr c0 trm rtl  \" ><div class=\"lbl c0 trm \" ><a href=\"#\" class=\"nd\">46467</a> <a class=\" txtu hbo\" target=\"_blank\" href=\"https://shebanq.ancient-data.org/hebrew/word?version=c&amp;id=1H\" title=\"Show this on SHEBANQ\"><span class=\"txtu hbo\">הַ</span></a></div></div><div class=\"contnr c0 trm rtl  \" ><div class=\"lbl c0 trm \" ><a href=\"#\" class=\"nd\">46468</a> <a class=\" txtu hbo\" target=\"_blank\" href=\"https://shebanq.ancient-data.org/hebrew/word?version=c&amp;id=1CMJMn\" title=\"Show this on SHEBANQ\"><span class=\"txtu hbo\">שָּׁמַ֣יִם </span></a></div></div><div class=\"contnr c0 trm rtl  \" ><div class=\"lbl c0 trm \" ><a href=\"#\" class=\"nd\">46469</a> <a class=\" txtu hbo\" target=\"_blank\" href=\"https://shebanq.ancient-data.org/hebrew/word?version=c&amp;id=1W\" title=\"Show this on SHEBANQ\"><span class=\"txtu hbo\">וְ</span></a></div></div><div class=\"contnr c0 trm rtl  \" ><div class=\"lbl c0 trm \" ><a href=\"#\" class=\"nd\">46470</a> <a class=\" txtu hbo\" target=\"_blank\" href=\"https://shebanq.ancient-data.org/hebrew/word?version=c&amp;id=1AT\" title=\"Show this on SHEBANQ\"><span class=\"txtu hbo\">אֶת־</span></a></div></div><div class=\"contnr c0 trm rtl  \" ><div class=\"lbl c0 trm \" ><a href=\"#\" class=\"nd\">46471</a> <a class=\" txtu hbo\" target=\"_blank\" href=\"https://shebanq.ancient-data.org/hebrew/word?version=c&amp;id=1H\" title=\"Show this on SHEBANQ\"><span class=\"txtu hbo\">הָ</span></a></div></div><div class=\"contnr c0 trm rtl  \" ><div class=\"lbl c0 trm \" ><a href=\"#\" class=\"nd\">46472</a> <a class=\" txtu hbo\" target=\"_blank\" href=\"https://shebanq.ancient-data.org/hebrew/word?version=c&amp;id=1ARYn\" title=\"Show this on SHEBANQ\"><span class=\"txtu hbo\">אָ֔רֶץ </span></a></div></div></div></div></div></div></div></div></div>ESV: It is a sign forever between me and the people of Israel that in six days the Lord made heaven and earth , and on the seventh day he rested and was refreshed . ’ ”<br>"
   ]
  },
  {
   "cell_type": "code",
   "execution_count": null,
   "metadata": {},
   "outputs": [],
   "source": [
    "save(436870,\n",
    "\n",
    "{'functions': ['atelic_ext'],\n",
    " 'quals': ['durative'],\n",
    " 'quants': [['NUMQ', 46462]],\n",
    " 'slots': [46462, 46463],\n",
    " 'times': [46463]}\n",
    "\n",
    ")"
   ]
  },
  {
   "cell_type": "markdown",
   "metadata": {},
   "source": [
    "<div class=\"tfsechead rtl\"><a target=\"_blank\" href=\"https://shebanq.ancient-data.org/hebrew/text?book=Exodus&amp;chapter=32&amp;verse=5&amp;version=c&amp;mr=m&amp;qw=q&amp;tp=txt_p&amp;tr=hb&amp;wget=v&amp;qget=v&amp;nget=vt\" title=\"Show this on SHEBANQ\" sec=\"Exodus 32:5\">Exodus 32:5</a></div><div class=\"rtl children\"><div class=\"contnr c2  rtl  \" ><div class=\"lbl c2  \" ><a href=\"#\" class=\"nd\">clause:436907</a></div><div class=\"children hor wrap rtl\"><div class=\"contnr c1  rtl  \" ><div class=\"lbl c1  \" ><a href=\"#\" class=\"nd\">clause_atom:525274</a></div><div class=\"children hor wrap rtl\"><div class=\"contnr c1  rtl  \" ><div class=\"lbl c1  \" ><a href=\"#\" class=\"nd\">phrase_atom:934231</a></div><div class=\"children hor wrap rtl\"><div class=\"contnr c0 trm rtl  \" ><div class=\"lbl c0 trm \" ><a href=\"#\" class=\"nd\">46619</a> <a class=\" txtu hbo\" target=\"_blank\" href=\"https://shebanq.ancient-data.org/hebrew/word?version=c&amp;id=1XGn\" title=\"Show this on SHEBANQ\"><span class=\"txtu hbo\">חַ֥ג </span></a></div></div></div></div><div class=\"contnr c1  rtl  \" ><div class=\"lbl c1  \" ><a href=\"#\" class=\"nd\">phrase_atom:934232</a></div><div class=\"children hor wrap rtl\"><div class=\"contnr c0 trm rtl  \" ><div class=\"lbl c0 trm \" ><a href=\"#\" class=\"nd\">46620</a> <a class=\" txtu hbo\" target=\"_blank\" href=\"https://shebanq.ancient-data.org/hebrew/word?version=c&amp;id=1L\" title=\"Show this on SHEBANQ\"><span class=\"txtu hbo\">לַ</span></a></div></div><div class=\"contnr c0 trm rtl  \" ><div class=\"lbl c0 trm \" ><a href=\"#\" class=\"nd\">46621</a> <a class=\" txtu hbo\" target=\"_blank\" href=\"https://shebanq.ancient-data.org/hebrew/word?version=c&amp;id=1JHWHn\" title=\"Show this on SHEBANQ\"><span class=\"txtu hbo\">יהוָ֖ה </span></a></div></div></div></div><div class=\"contnr c1  rtl  \" ><div class=\"lbl c1  \" ><a href=\"#\" class=\"nd\">phrase_atom:934233</a></div><div class=\"children hor wrap rtl\"><div class=\"contnr c0 trm rtl  hl\" ><div class=\"lbl c0 trm hl\" ><a href=\"#\" class=\"nd\">46622</a> <a class=\" txtu hbo\" target=\"_blank\" href=\"https://shebanq.ancient-data.org/hebrew/word?version=c&amp;id=1MXRn\" title=\"Show this on SHEBANQ\"><span class=\"txtu hbo\">מָחָֽר׃ </span></a></div></div></div></div></div></div></div></div></div>ESV: When Aaron saw this , he built an altar before it . And Aaron made proclamation and said , “ Tomorrow shall be a feast to the Lord . ”<br>"
   ]
  },
  {
   "cell_type": "code",
   "execution_count": null,
   "metadata": {},
   "outputs": [],
   "source": [
    "save(436907,\n",
    "\n",
    "{'functions': ['simultaneous'],\n",
    " 'refs': [['DEICTIC', 46622]],\n",
    " 'slots': [46622],\n",
    " 'tenses': [['FUT', 46622]],\n",
    " 'times': [46622]}\n",
    "\n",
    ")"
   ]
  },
  {
   "cell_type": "markdown",
   "metadata": {},
   "source": [
    "<div class=\"tfsechead rtl\"><a target=\"_blank\" href=\"https://shebanq.ancient-data.org/hebrew/text?book=Exodus&amp;chapter=32&amp;verse=6&amp;version=c&amp;mr=m&amp;qw=q&amp;tp=txt_p&amp;tr=hb&amp;wget=v&amp;qget=v&amp;nget=vt\" title=\"Show this on SHEBANQ\" sec=\"Exodus 32:6\">Exodus 32:6</a></div><div class=\"rtl children\"><div class=\"contnr c2  rtl  \" ><div class=\"lbl c2  \" ><a href=\"#\" class=\"nd\">clause:436908</a></div><div class=\"children hor wrap rtl\"><div class=\"contnr c1  rtl  \" ><div class=\"lbl c1  \" ><a href=\"#\" class=\"nd\">clause_atom:525275</a></div><div class=\"children hor wrap rtl\"><div class=\"contnr c1  rtl  \" ><div class=\"lbl c1  \" ><a href=\"#\" class=\"nd\">phrase_atom:934234</a></div><div class=\"children hor wrap rtl\"><div class=\"contnr c0 trm rtl  \" ><div class=\"lbl c0 trm \" ><a href=\"#\" class=\"nd\">46623</a> <a class=\" txtu hbo\" target=\"_blank\" href=\"https://shebanq.ancient-data.org/hebrew/word?version=c&amp;id=1W\" title=\"Show this on SHEBANQ\"><span class=\"txtu hbo\">וַ</span></a></div></div></div></div><div class=\"contnr c1  rtl  \" ><div class=\"lbl c1  \" ><a href=\"#\" class=\"nd\">phrase_atom:934235</a></div><div class=\"children hor wrap rtl\"><div class=\"contnr c0 trm rtl  \" ><div class=\"lbl c0 trm \" ><a href=\"#\" class=\"nd\">46624</a> <a class=\" txtu hbo\" target=\"_blank\" href=\"https://shebanq.ancient-data.org/hebrew/word?version=c&amp;id=1CKMv\" title=\"Show this on SHEBANQ\"><span class=\"txtu hbo\">יַּשְׁכִּ֨ימוּ֙ </span></a></div></div></div></div><div class=\"contnr c1  rtl  \" ><div class=\"lbl c1  \" ><a href=\"#\" class=\"nd\">phrase_atom:934236</a></div><div class=\"children hor wrap rtl\"><div class=\"contnr c0 trm rtl  hl\" ><div class=\"lbl c0 trm hl\" ><a href=\"#\" class=\"nd\">46625</a> <a class=\" txtu hbo\" target=\"_blank\" href=\"https://shebanq.ancient-data.org/hebrew/word?version=c&amp;id=1MN\" title=\"Show this on SHEBANQ\"><span class=\"txtu hbo\">מִֽ</span></a></div></div><div class=\"contnr c0 trm rtl  hl\" ><div class=\"lbl c0 trm hl\" ><a href=\"#\" class=\"nd\">46626</a> <a class=\" txtu hbo\" target=\"_blank\" href=\"https://shebanq.ancient-data.org/hebrew/word?version=c&amp;id=1MXRTn\" title=\"Show this on SHEBANQ\"><span class=\"txtu hbo\">מָּחֳרָ֔ת </span></a></div></div></div></div></div></div></div></div></div>ESV: And they rose up early the next day and offered burnt offerings and brought peace offerings . And the people sat down to eat and drink and rose up to play .<br>"
   ]
  },
  {
   "cell_type": "code",
   "execution_count": null,
   "metadata": {},
   "outputs": [],
   "source": [
    "save(436908,\n",
    "\n",
    "{'functions': ['posterior, posterior_dur'],\n",
    " 'preps': [['MN', 46625]],\n",
    " 'slots': [46625, 46626],\n",
    " 'times': [46626]}\n",
    "\n",
    ")"
   ]
  },
  {
   "cell_type": "markdown",
   "metadata": {},
   "source": [
    "<div class=\"tfsechead rtl\"><a target=\"_blank\" href=\"https://shebanq.ancient-data.org/hebrew/text?book=Exodus&amp;chapter=32&amp;verse=10&amp;version=c&amp;mr=m&amp;qw=q&amp;tp=txt_p&amp;tr=hb&amp;wget=v&amp;qget=v&amp;nget=vt\" title=\"Show this on SHEBANQ\" sec=\"Exodus 32:10\">Exodus 32:10</a></div><div class=\"rtl children\"><div class=\"contnr c2  rtl  \" ><div class=\"lbl c2  \" ><a href=\"#\" class=\"nd\">clause:436934</a></div><div class=\"children hor wrap rtl\"><div class=\"contnr c1  rtl  \" ><div class=\"lbl c1  \" ><a href=\"#\" class=\"nd\">clause_atom:525301</a></div><div class=\"children hor wrap rtl\"><div class=\"contnr c1  rtl  \" ><div class=\"lbl c1  \" ><a href=\"#\" class=\"nd\">phrase_atom:934297</a></div><div class=\"children hor wrap rtl\"><div class=\"contnr c0 trm rtl  \" ><div class=\"lbl c0 trm \" ><a href=\"#\" class=\"nd\">46704</a> <a class=\" txtu hbo\" target=\"_blank\" href=\"https://shebanq.ancient-data.org/hebrew/word?version=c&amp;id=1W\" title=\"Show this on SHEBANQ\"><span class=\"txtu hbo\">וְ</span></a></div></div></div></div><div class=\"contnr c1  rtl  \" ><div class=\"lbl c1  \" ><a href=\"#\" class=\"nd\">phrase_atom:934298</a></div><div class=\"children hor wrap rtl\"><div class=\"contnr c0 trm rtl  hl\" ><div class=\"lbl c0 trm hl\" ><a href=\"#\" class=\"nd\">46705</a> <a class=\" txtu hbo\" target=\"_blank\" href=\"https://shebanq.ancient-data.org/hebrew/word?version=c&amp;id=1OTH\" title=\"Show this on SHEBANQ\"><span class=\"txtu hbo\">עַתָּה֙ </span></a></div></div></div></div></div></div></div></div></div>ESV: Now therefore let me alone , that my wrath may burn hot against them and I may consume them , in order that I may make a great nation of you . ”<br>"
   ]
  },
  {
   "cell_type": "code",
   "execution_count": null,
   "metadata": {},
   "outputs": [],
   "source": [
    "save(436934,\n",
    "\n",
    "{'functions': ['simultaneous'],\n",
    " 'refs': [['DEICTIC', 46705]],\n",
    " 'slots': [46705],\n",
    " 'tenses': [['PRES', 46705]],\n",
    " 'times': [46705]}\n",
    "\n",
    ")"
   ]
  },
  {
   "cell_type": "markdown",
   "metadata": {},
   "source": [
    "<div class=\"tfsechead rtl\"><a target=\"_blank\" href=\"https://shebanq.ancient-data.org/hebrew/text?book=Exodus&amp;chapter=32&amp;verse=13&amp;version=c&amp;mr=m&amp;qw=q&amp;tp=txt_p&amp;tr=hb&amp;wget=v&amp;qget=v&amp;nget=vt\" title=\"Show this on SHEBANQ\" sec=\"Exodus 32:13\">Exodus 32:13</a></div><div class=\"rtl children\"><div class=\"contnr c2  rtl  \" ><div class=\"lbl c2  \" ><a href=\"#\" class=\"nd\">clause:436957</a></div><div class=\"children hor wrap rtl\"><div class=\"contnr c1  rtl  \" ><div class=\"lbl c1  \" ><a href=\"#\" class=\"nd\">clause_atom:525326</a></div><div class=\"children hor wrap rtl\"><div class=\"contnr c1  rtl  \" ><div class=\"lbl c1  \" ><a href=\"#\" class=\"nd\">phrase_atom:934364</a></div><div class=\"children hor wrap rtl\"><div class=\"contnr c0 trm rtl  \" ><div class=\"lbl c0 trm \" ><a href=\"#\" class=\"nd\">46814</a> <a class=\" txtu hbo\" target=\"_blank\" href=\"https://shebanq.ancient-data.org/hebrew/word?version=c&amp;id=1W\" title=\"Show this on SHEBANQ\"><span class=\"txtu hbo\">וְ</span></a></div></div></div></div><div class=\"contnr c1  rtl  \" ><div class=\"lbl c1  \" ><a href=\"#\" class=\"nd\">phrase_atom:934365</a></div><div class=\"children hor wrap rtl\"><div class=\"contnr c0 trm rtl  \" ><div class=\"lbl c0 trm \" ><a href=\"#\" class=\"nd\">46815</a> <a class=\" txtu hbo\" target=\"_blank\" href=\"https://shebanq.ancient-data.org/hebrew/word?version=c&amp;id=1NXLv\" title=\"Show this on SHEBANQ\"><span class=\"txtu hbo\">נָחֲל֖וּ </span></a></div></div></div></div><div class=\"contnr c1  rtl  \" ><div class=\"lbl c1  \" ><a href=\"#\" class=\"nd\">phrase_atom:934366</a></div><div class=\"children hor wrap rtl\"><div class=\"contnr c0 trm rtl  hl\" ><div class=\"lbl c0 trm hl\" ><a href=\"#\" class=\"nd\">46816</a> <a class=\" txtu hbo\" target=\"_blank\" href=\"https://shebanq.ancient-data.org/hebrew/word?version=c&amp;id=1L\" title=\"Show this on SHEBANQ\"><span class=\"txtu hbo\">לְ</span></a></div></div><div class=\"contnr c0 trm rtl  hl\" ><div class=\"lbl c0 trm hl\" ><a href=\"#\" class=\"nd\">46817</a> <a class=\" txtu hbo\" target=\"_blank\" href=\"https://shebanq.ancient-data.org/hebrew/word?version=c&amp;id=1OWLMn\" title=\"Show this on SHEBANQ\"><span class=\"txtu hbo\">עֹלָֽם׃ </span></a></div></div></div></div></div></div></div></div></div>ESV: Remember Abraham , Isaac , and Israel , your servants , to whom you swore by your own self , and said to them , ‘ I will multiply your offspring as the stars of heaven , and all this land that I have promised I will give to your offspring , and they shall inherit it forever . ’ ”<br>"
   ]
  },
  {
   "cell_type": "code",
   "execution_count": null,
   "metadata": {},
   "outputs": [],
   "source": [
    "save(436957,\n",
    "\n",
    "{'functions': ['anterior_dur, simultaneous'],\n",
    " 'preps': [['L', 46816]],\n",
    " 'quals': ['durative'],\n",
    " 'slots': [46816, 46817],\n",
    " 'times': [46817]}\n",
    "\n",
    ")"
   ]
  },
  {
   "cell_type": "markdown",
   "metadata": {},
   "source": [
    "<div class=\"tfsechead rtl\"><a target=\"_blank\" href=\"https://shebanq.ancient-data.org/hebrew/text?book=Exodus&amp;chapter=32&amp;verse=28&amp;version=c&amp;mr=m&amp;qw=q&amp;tp=txt_p&amp;tr=hb&amp;wget=v&amp;qget=v&amp;nget=vt\" title=\"Show this on SHEBANQ\" sec=\"Exodus 32:28\">Exodus 32:28</a></div><div class=\"rtl children\"><div class=\"contnr c2  rtl  \" ><div class=\"lbl c2  \" ><a href=\"#\" class=\"nd\">clause:437030</a></div><div class=\"children hor wrap rtl\"><div class=\"contnr c1  rtl  \" ><div class=\"lbl c1  \" ><a href=\"#\" class=\"nd\">clause_atom:525399</a></div><div class=\"children hor wrap rtl\"><div class=\"contnr c1  rtl  \" ><div class=\"lbl c1  \" ><a href=\"#\" class=\"nd\">phrase_atom:934573</a></div><div class=\"children hor wrap rtl\"><div class=\"contnr c0 trm rtl  \" ><div class=\"lbl c0 trm \" ><a href=\"#\" class=\"nd\">47123</a> <a class=\" txtu hbo\" target=\"_blank\" href=\"https://shebanq.ancient-data.org/hebrew/word?version=c&amp;id=1W\" title=\"Show this on SHEBANQ\"><span class=\"txtu hbo\">וַ</span></a></div></div></div></div><div class=\"contnr c1  rtl  \" ><div class=\"lbl c1  \" ><a href=\"#\" class=\"nd\">phrase_atom:934574</a></div><div class=\"children hor wrap rtl\"><div class=\"contnr c0 trm rtl  \" ><div class=\"lbl c0 trm \" ><a href=\"#\" class=\"nd\">47124</a> <a class=\" txtu hbo\" target=\"_blank\" href=\"https://shebanq.ancient-data.org/hebrew/word?version=c&amp;id=1NPLv\" title=\"Show this on SHEBANQ\"><span class=\"txtu hbo\">יִּפֹּ֤ל </span></a></div></div></div></div><div class=\"contnr c1  rtl  \" ><div class=\"lbl c1  \" ><a href=\"#\" class=\"nd\">phrase_atom:934575</a></div><div class=\"children hor wrap rtl\"><div class=\"contnr c0 trm rtl  \" ><div class=\"lbl c0 trm \" ><a href=\"#\" class=\"nd\">47125</a> <a class=\" txtu hbo\" target=\"_blank\" href=\"https://shebanq.ancient-data.org/hebrew/word?version=c&amp;id=1MN\" title=\"Show this on SHEBANQ\"><span class=\"txtu hbo\">מִן־</span></a></div></div><div class=\"contnr c0 trm rtl  \" ><div class=\"lbl c0 trm \" ><a href=\"#\" class=\"nd\">47126</a> <a class=\" txtu hbo\" target=\"_blank\" href=\"https://shebanq.ancient-data.org/hebrew/word?version=c&amp;id=1H\" title=\"Show this on SHEBANQ\"><span class=\"txtu hbo\">הָ</span></a></div></div><div class=\"contnr c0 trm rtl  \" ><div class=\"lbl c0 trm \" ><a href=\"#\" class=\"nd\">47127</a> <a class=\" txtu hbo\" target=\"_blank\" href=\"https://shebanq.ancient-data.org/hebrew/word?version=c&amp;id=1OMn\" title=\"Show this on SHEBANQ\"><span class=\"txtu hbo\">עָם֙ </span></a></div></div></div></div><div class=\"contnr c1  rtl  \" ><div class=\"lbl c1  \" ><a href=\"#\" class=\"nd\">phrase_atom:934576</a></div><div class=\"children hor wrap rtl\"><div class=\"contnr c0 trm rtl  hl\" ><div class=\"lbl c0 trm hl\" ><a href=\"#\" class=\"nd\">47128</a> <a class=\" txtu hbo\" target=\"_blank\" href=\"https://shebanq.ancient-data.org/hebrew/word?version=c&amp;id=1B\" title=\"Show this on SHEBANQ\"><span class=\"txtu hbo\">בַּ</span></a></div></div><div class=\"contnr c0 trm rtl  hl\" ><div class=\"lbl c0 trm hl\" ><a href=\"#\" class=\"nd\">47129</a> <a class=\" txtu hbo\" target=\"_blank\" href=\"https://shebanq.ancient-data.org/hebrew/word?version=c&amp;id=1H\" title=\"Show this on SHEBANQ\"></a></div></div><div class=\"contnr c0 trm rtl  hl\" ><div class=\"lbl c0 trm hl\" ><a href=\"#\" class=\"nd\">47130</a> <a class=\" txtu hbo\" target=\"_blank\" href=\"https://shebanq.ancient-data.org/hebrew/word?version=c&amp;id=1JWMn\" title=\"Show this on SHEBANQ\"><span class=\"txtu hbo\">יֹּ֣ום </span></a></div></div><div class=\"contnr c0 trm rtl  \" ><div class=\"lbl c0 trm \" ><a href=\"#\" class=\"nd\">47131</a> <a class=\" txtu hbo\" target=\"_blank\" href=\"https://shebanq.ancient-data.org/hebrew/word?version=c&amp;id=1H\" title=\"Show this on SHEBANQ\"><span class=\"txtu hbo\">הַ</span></a></div></div><div class=\"contnr c0 trm rtl  hl\" ><div class=\"lbl c0 trm hl\" ><a href=\"#\" class=\"nd\">47132</a> <a class=\" txtu hbo\" target=\"_blank\" href=\"https://shebanq.ancient-data.org/hebrew/word?version=c&amp;id=1HWA\" title=\"Show this on SHEBANQ\"><span class=\"txtu hbo\">ה֔וּא </span></a></div></div></div></div><div class=\"contnr c1  rtl  \" ><div class=\"lbl c1  \" ><a href=\"#\" class=\"nd\">phrase_atom:934577</a></div><div class=\"children hor wrap rtl\"><div class=\"contnr c0 trm rtl  \" ><div class=\"lbl c0 trm \" ><a href=\"#\" class=\"nd\">47133</a> <a class=\" txtu hbo\" target=\"_blank\" href=\"https://shebanq.ancient-data.org/hebrew/word?version=c&amp;id=1K\" title=\"Show this on SHEBANQ\"><span class=\"txtu hbo\">כִּ</span></a></div></div><div class=\"contnr c0 trm rtl  \" ><div class=\"lbl c0 trm \" ><a href=\"#\" class=\"nd\">47134</a> <a class=\" txtu hbo\" target=\"_blank\" href=\"https://shebanq.ancient-data.org/hebrew/word?version=c&amp;id=1CLCn\" title=\"Show this on SHEBANQ\"><span class=\"txtu hbo\">שְׁלֹ֥שֶׁת </span></a></div></div><div class=\"contnr c0 trm rtl  \" ><div class=\"lbl c0 trm \" ><a href=\"#\" class=\"nd\">47135</a> <a class=\" txtu hbo\" target=\"_blank\" href=\"https://shebanq.ancient-data.org/hebrew/word?version=c&amp;id=1ALPin\" title=\"Show this on SHEBANQ\"><span class=\"txtu hbo\">אַלְפֵ֖י </span></a></div></div><div class=\"contnr c0 trm rtl  \" ><div class=\"lbl c0 trm \" ><a href=\"#\" class=\"nd\">47136</a> <a class=\" txtu hbo\" target=\"_blank\" href=\"https://shebanq.ancient-data.org/hebrew/word?version=c&amp;id=1AJCn\" title=\"Show this on SHEBANQ\"><span class=\"txtu hbo\">אִֽישׁ׃ </span></a></div></div></div></div></div></div></div></div></div>ESV: And the sons of Levi did according to the word of Moses . And that day about three thousand men of the people fell .<br>"
   ]
  },
  {
   "cell_type": "code",
   "execution_count": null,
   "metadata": {},
   "outputs": [],
   "source": [
    "save(437030,\n",
    "\n",
    "{'functions': ['simultaneous'],\n",
    " 'preps': [['B', 47128]],\n",
    " 'refs': [['THAT', 47132], ['THE', 47129]],\n",
    " 'slots': [47128, 47129, 47130, 47132],\n",
    " 'times': [47130]}\n",
    "\n",
    ")"
   ]
  },
  {
   "cell_type": "markdown",
   "metadata": {},
   "source": [
    "<div class=\"tfsechead rtl\"><a target=\"_blank\" href=\"https://shebanq.ancient-data.org/hebrew/text?book=Exodus&amp;chapter=32&amp;verse=29&amp;version=c&amp;mr=m&amp;qw=q&amp;tp=txt_p&amp;tr=hb&amp;wget=v&amp;qget=v&amp;nget=vt\" title=\"Show this on SHEBANQ\" sec=\"Exodus 32:29\">Exodus 32:29</a></div><div class=\"rtl children\"><div class=\"contnr c2  rtl  \" ><div class=\"lbl c2  \" ><a href=\"#\" class=\"nd\">clause:437032</a></div><div class=\"children hor wrap rtl\"><div class=\"contnr c1  rtl  \" ><div class=\"lbl c1  \" ><a href=\"#\" class=\"nd\">clause_atom:525401</a></div><div class=\"children hor wrap rtl\"><div class=\"contnr c1  rtl  \" ><div class=\"lbl c1  \" ><a href=\"#\" class=\"nd\">phrase_atom:934581</a></div><div class=\"children hor wrap rtl\"><div class=\"contnr c0 trm rtl  \" ><div class=\"lbl c0 trm \" ><a href=\"#\" class=\"nd\">47140</a> <a class=\" txtu hbo\" target=\"_blank\" href=\"https://shebanq.ancient-data.org/hebrew/word?version=c&amp;id=1MLAv\" title=\"Show this on SHEBANQ\"><span class=\"txtu hbo\">מִלְא֨וּ </span></a></div></div></div></div><div class=\"contnr c1  rtl  \" ><div class=\"lbl c1  \" ><a href=\"#\" class=\"nd\">phrase_atom:934582</a></div><div class=\"children hor wrap rtl\"><div class=\"contnr c0 trm rtl  \" ><div class=\"lbl c0 trm \" ><a href=\"#\" class=\"nd\">47141</a> <a class=\" txtu hbo\" target=\"_blank\" href=\"https://shebanq.ancient-data.org/hebrew/word?version=c&amp;id=1JDn\" title=\"Show this on SHEBANQ\"><span class=\"txtu hbo\">יֶדְכֶ֤ם </span></a></div></div></div></div><div class=\"contnr c1  rtl  \" ><div class=\"lbl c1  \" ><a href=\"#\" class=\"nd\">phrase_atom:934583</a></div><div class=\"children hor wrap rtl\"><div class=\"contnr c0 trm rtl  hl\" ><div class=\"lbl c0 trm hl\" ><a href=\"#\" class=\"nd\">47142</a> <a class=\" txtu hbo\" target=\"_blank\" href=\"https://shebanq.ancient-data.org/hebrew/word?version=c&amp;id=1H\" title=\"Show this on SHEBANQ\"><span class=\"txtu hbo\">הַ</span></a></div></div><div class=\"contnr c0 trm rtl  hl\" ><div class=\"lbl c0 trm hl\" ><a href=\"#\" class=\"nd\">47143</a> <a class=\" txtu hbo\" target=\"_blank\" href=\"https://shebanq.ancient-data.org/hebrew/word?version=c&amp;id=1JWMn\" title=\"Show this on SHEBANQ\"><span class=\"txtu hbo\">יֹּום֙ </span></a></div></div></div></div><div class=\"contnr c1  rtl  \" ><div class=\"lbl c1  \" ><a href=\"#\" class=\"nd\">phrase_atom:934584</a></div><div class=\"children hor wrap rtl\"><div class=\"contnr c0 trm rtl  \" ><div class=\"lbl c0 trm \" ><a href=\"#\" class=\"nd\">47144</a> <a class=\" txtu hbo\" target=\"_blank\" href=\"https://shebanq.ancient-data.org/hebrew/word?version=c&amp;id=1L\" title=\"Show this on SHEBANQ\"><span class=\"txtu hbo\">לַֽ</span></a></div></div><div class=\"contnr c0 trm rtl  \" ><div class=\"lbl c0 trm \" ><a href=\"#\" class=\"nd\">47145</a> <a class=\" txtu hbo\" target=\"_blank\" href=\"https://shebanq.ancient-data.org/hebrew/word?version=c&amp;id=1JHWHn\" title=\"Show this on SHEBANQ\"><span class=\"txtu hbo\">יהוָ֔ה </span></a></div></div></div></div></div></div></div></div></div>ESV: And Moses said , “ Today you have been ordained for the service of the Lord , each one at the cost of his son and of his brother , so that he might bestow a blessing upon you this day . ”<br>"
   ]
  },
  {
   "cell_type": "code",
   "execution_count": null,
   "metadata": {},
   "outputs": [],
   "source": [
    "save(437032,\n",
    "\n",
    "{'functions': ['simultaneous'],\n",
    " 'refs': [['THE', 47142]],\n",
    " 'slots': [47142, 47143],\n",
    " 'times': [47143]}\n",
    "\n",
    ")"
   ]
  },
  {
   "cell_type": "markdown",
   "metadata": {},
   "source": [
    "<div class=\"tfsechead rtl\"><a target=\"_blank\" href=\"https://shebanq.ancient-data.org/hebrew/text?book=Exodus&amp;chapter=32&amp;verse=29&amp;version=c&amp;mr=m&amp;qw=q&amp;tp=txt_p&amp;tr=hb&amp;wget=v&amp;qget=v&amp;nget=vt\" title=\"Show this on SHEBANQ\" sec=\"Exodus 32:29\">Exodus 32:29</a></div><div class=\"rtl children\"><div class=\"contnr c2  rtl  \" ><div class=\"lbl c2  \" ><a href=\"#\" class=\"nd\">clause:437034</a></div><div class=\"children hor wrap rtl\"><div class=\"contnr c1  rtl  \" ><div class=\"lbl c1  \" ><a href=\"#\" class=\"nd\">clause_atom:525403</a></div><div class=\"children hor wrap rtl\"><div class=\"contnr c1  rtl  \" ><div class=\"lbl c1  \" ><a href=\"#\" class=\"nd\">phrase_atom:934588</a></div><div class=\"children hor wrap rtl\"><div class=\"contnr c0 trm rtl  \" ><div class=\"lbl c0 trm \" ><a href=\"#\" class=\"nd\">47153</a> <a class=\" txtu hbo\" target=\"_blank\" href=\"https://shebanq.ancient-data.org/hebrew/word?version=c&amp;id=1W\" title=\"Show this on SHEBANQ\"><span class=\"txtu hbo\">וְ</span></a></div></div></div></div><div class=\"contnr c1  rtl  \" ><div class=\"lbl c1  \" ><a href=\"#\" class=\"nd\">phrase_atom:934589</a></div><div class=\"children hor wrap rtl\"><div class=\"contnr c0 trm rtl  \" ><div class=\"lbl c0 trm \" ><a href=\"#\" class=\"nd\">47154</a> <a class=\" txtu hbo\" target=\"_blank\" href=\"https://shebanq.ancient-data.org/hebrew/word?version=c&amp;id=1L\" title=\"Show this on SHEBANQ\"><span class=\"txtu hbo\">לָ</span></a></div></div><div class=\"contnr c0 trm rtl  \" ><div class=\"lbl c0 trm \" ><a href=\"#\" class=\"nd\">47155</a> <a class=\" txtu hbo\" target=\"_blank\" href=\"https://shebanq.ancient-data.org/hebrew/word?version=c&amp;id=1NTNv\" title=\"Show this on SHEBANQ\"><span class=\"txtu hbo\">תֵ֧ת </span></a></div></div></div></div><div class=\"contnr c1  rtl  \" ><div class=\"lbl c1  \" ><a href=\"#\" class=\"nd\">phrase_atom:934590</a></div><div class=\"children hor wrap rtl\"><div class=\"contnr c0 trm rtl  \" ><div class=\"lbl c0 trm \" ><a href=\"#\" class=\"nd\">47156</a> <a class=\" txtu hbo\" target=\"_blank\" href=\"https://shebanq.ancient-data.org/hebrew/word?version=c&amp;id=1OL\" title=\"Show this on SHEBANQ\"><span class=\"txtu hbo\">עֲלֵיכֶ֛ם </span></a></div></div></div></div><div class=\"contnr c1  rtl  \" ><div class=\"lbl c1  \" ><a href=\"#\" class=\"nd\">phrase_atom:934591</a></div><div class=\"children hor wrap rtl\"><div class=\"contnr c0 trm rtl  hl\" ><div class=\"lbl c0 trm hl\" ><a href=\"#\" class=\"nd\">47157</a> <a class=\" txtu hbo\" target=\"_blank\" href=\"https://shebanq.ancient-data.org/hebrew/word?version=c&amp;id=1H\" title=\"Show this on SHEBANQ\"><span class=\"txtu hbo\">הַ</span></a></div></div><div class=\"contnr c0 trm rtl  hl\" ><div class=\"lbl c0 trm hl\" ><a href=\"#\" class=\"nd\">47158</a> <a class=\" txtu hbo\" target=\"_blank\" href=\"https://shebanq.ancient-data.org/hebrew/word?version=c&amp;id=1JWMn\" title=\"Show this on SHEBANQ\"><span class=\"txtu hbo\">יֹּ֖ום </span></a></div></div></div></div><div class=\"contnr c1  rtl  \" ><div class=\"lbl c1  \" ><a href=\"#\" class=\"nd\">phrase_atom:934592</a></div><div class=\"children hor wrap rtl\"><div class=\"contnr c0 trm rtl  \" ><div class=\"lbl c0 trm \" ><a href=\"#\" class=\"nd\">47159</a> <a class=\" txtu hbo\" target=\"_blank\" href=\"https://shebanq.ancient-data.org/hebrew/word?version=c&amp;id=1BRKHn\" title=\"Show this on SHEBANQ\"><span class=\"txtu hbo\">בְּרָכָֽה׃ </span></a></div></div></div></div></div></div></div></div></div>ESV: And Moses said , “ Today you have been ordained for the service of the Lord , each one at the cost of his son and of his brother , so that he might bestow a blessing upon you this day . ”<br>"
   ]
  },
  {
   "cell_type": "code",
   "execution_count": null,
   "metadata": {},
   "outputs": [],
   "source": [
    "save(437034,\n",
    "\n",
    "{'functions': ['simultaneous'],\n",
    " 'refs': [['THE', 47157]],\n",
    " 'slots': [47157, 47158],\n",
    " 'times': [47158]}\n",
    "\n",
    ")"
   ]
  },
  {
   "cell_type": "markdown",
   "metadata": {},
   "source": [
    "<div class=\"tfsechead rtl\"><a target=\"_blank\" href=\"https://shebanq.ancient-data.org/hebrew/text?book=Exodus&amp;chapter=32&amp;verse=30&amp;version=c&amp;mr=m&amp;qw=q&amp;tp=txt_p&amp;tr=hb&amp;wget=v&amp;qget=v&amp;nget=vt\" title=\"Show this on SHEBANQ\" sec=\"Exodus 32:30\">Exodus 32:30</a></div><div class=\"rtl children\"><div class=\"contnr c2  rtl  \" ><div class=\"lbl c2  \" ><a href=\"#\" class=\"nd\">clause:437035</a></div><div class=\"children hor wrap rtl\"><div class=\"contnr c1  rtl  \" ><div class=\"lbl c1  \" ><a href=\"#\" class=\"nd\">clause_atom:525404</a></div><div class=\"children hor wrap rtl\"><div class=\"contnr c1  rtl  \" ><div class=\"lbl c1  \" ><a href=\"#\" class=\"nd\">phrase_atom:934593</a></div><div class=\"children hor wrap rtl\"><div class=\"contnr c0 trm rtl  \" ><div class=\"lbl c0 trm \" ><a href=\"#\" class=\"nd\">47160</a> <a class=\" txtu hbo\" target=\"_blank\" href=\"https://shebanq.ancient-data.org/hebrew/word?version=c&amp;id=1W\" title=\"Show this on SHEBANQ\"><span class=\"txtu hbo\">וַ</span></a></div></div></div></div><div class=\"contnr c1  rtl  \" ><div class=\"lbl c1  \" ><a href=\"#\" class=\"nd\">phrase_atom:934594</a></div><div class=\"children hor wrap rtl\"><div class=\"contnr c0 trm rtl  \" ><div class=\"lbl c0 trm \" ><a href=\"#\" class=\"nd\">47161</a> <a class=\" txtu hbo\" target=\"_blank\" href=\"https://shebanq.ancient-data.org/hebrew/word?version=c&amp;id=1HJHv\" title=\"Show this on SHEBANQ\"><span class=\"txtu hbo\">יְהִי֙ </span></a></div></div></div></div><div class=\"contnr c1  rtl  \" ><div class=\"lbl c1  \" ><a href=\"#\" class=\"nd\">phrase_atom:934595</a></div><div class=\"children hor wrap rtl\"><div class=\"contnr c0 trm rtl  hl\" ><div class=\"lbl c0 trm hl\" ><a href=\"#\" class=\"nd\">47162</a> <a class=\" txtu hbo\" target=\"_blank\" href=\"https://shebanq.ancient-data.org/hebrew/word?version=c&amp;id=1MN\" title=\"Show this on SHEBANQ\"><span class=\"txtu hbo\">מִֽ</span></a></div></div><div class=\"contnr c0 trm rtl  hl\" ><div class=\"lbl c0 trm hl\" ><a href=\"#\" class=\"nd\">47163</a> <a class=\" txtu hbo\" target=\"_blank\" href=\"https://shebanq.ancient-data.org/hebrew/word?version=c&amp;id=1MXRTn\" title=\"Show this on SHEBANQ\"><span class=\"txtu hbo\">מָּחֳרָ֔ת </span></a></div></div></div></div></div></div></div></div></div>ESV: The next day Moses said to the people , “ You have sinned a great sin . And now I will go up to the Lord . perhaps I can make atonement for your sin . ”<br>"
   ]
  },
  {
   "cell_type": "code",
   "execution_count": null,
   "metadata": {},
   "outputs": [],
   "source": [
    "save(437035,\n",
    "\n",
    "{'functions': ['posterior, posterior_dur'],\n",
    " 'preps': [['MN', 47162]],\n",
    " 'slots': [47162, 47163],\n",
    " 'times': [47163]}\n",
    "\n",
    ")"
   ]
  },
  {
   "cell_type": "markdown",
   "metadata": {},
   "source": [
    "<div class=\"tfsechead rtl\"><a target=\"_blank\" href=\"https://shebanq.ancient-data.org/hebrew/text?book=Exodus&amp;chapter=32&amp;verse=30&amp;version=c&amp;mr=m&amp;qw=q&amp;tp=txt_p&amp;tr=hb&amp;wget=v&amp;qget=v&amp;nget=vt\" title=\"Show this on SHEBANQ\" sec=\"Exodus 32:30\">Exodus 32:30</a></div><div class=\"rtl children\"><div class=\"contnr c2  rtl  \" ><div class=\"lbl c2  \" ><a href=\"#\" class=\"nd\">clause:437038</a></div><div class=\"children hor wrap rtl\"><div class=\"contnr c1  rtl  \" ><div class=\"lbl c1  \" ><a href=\"#\" class=\"nd\">clause_atom:525407</a></div><div class=\"children hor wrap rtl\"><div class=\"contnr c1  rtl  \" ><div class=\"lbl c1  \" ><a href=\"#\" class=\"nd\">phrase_atom:934603</a></div><div class=\"children hor wrap rtl\"><div class=\"contnr c0 trm rtl  \" ><div class=\"lbl c0 trm \" ><a href=\"#\" class=\"nd\">47174</a> <a class=\" txtu hbo\" target=\"_blank\" href=\"https://shebanq.ancient-data.org/hebrew/word?version=c&amp;id=1W\" title=\"Show this on SHEBANQ\"><span class=\"txtu hbo\">וְ</span></a></div></div></div></div><div class=\"contnr c1  rtl  \" ><div class=\"lbl c1  \" ><a href=\"#\" class=\"nd\">phrase_atom:934604</a></div><div class=\"children hor wrap rtl\"><div class=\"contnr c0 trm rtl  hl\" ><div class=\"lbl c0 trm hl\" ><a href=\"#\" class=\"nd\">47175</a> <a class=\" txtu hbo\" target=\"_blank\" href=\"https://shebanq.ancient-data.org/hebrew/word?version=c&amp;id=1OTH\" title=\"Show this on SHEBANQ\"><span class=\"txtu hbo\">עַתָּה֙ </span></a></div></div></div></div></div></div></div></div></div>ESV: The next day Moses said to the people , “ You have sinned a great sin . And now I will go up to the Lord . perhaps I can make atonement for your sin . ”<br>"
   ]
  },
  {
   "cell_type": "code",
   "execution_count": null,
   "metadata": {},
   "outputs": [],
   "source": [
    "save(437038,\n",
    "\n",
    "{'functions': ['simultaneous'],\n",
    " 'refs': [['DEICTIC', 47175]],\n",
    " 'slots': [47175],\n",
    " 'tenses': [['PRES', 47175]],\n",
    " 'times': [47175]}\n",
    "\n",
    ")"
   ]
  },
  {
   "cell_type": "markdown",
   "metadata": {},
   "source": [
    "<div class=\"tfsechead rtl\"><a target=\"_blank\" href=\"https://shebanq.ancient-data.org/hebrew/text?book=Exodus&amp;chapter=32&amp;verse=32&amp;version=c&amp;mr=m&amp;qw=q&amp;tp=txt_p&amp;tr=hb&amp;wget=v&amp;qget=v&amp;nget=vt\" title=\"Show this on SHEBANQ\" sec=\"Exodus 32:32\">Exodus 32:32</a></div><div class=\"rtl children\"><div class=\"contnr c2  rtl  \" ><div class=\"lbl c2  \" ><a href=\"#\" class=\"nd\">clause:437045</a></div><div class=\"children hor wrap rtl\"><div class=\"contnr c1  rtl  \" ><div class=\"lbl c1  \" ><a href=\"#\" class=\"nd\">clause_atom:525414</a></div><div class=\"children hor wrap rtl\"><div class=\"contnr c1  rtl  \" ><div class=\"lbl c1  \" ><a href=\"#\" class=\"nd\">phrase_atom:934624</a></div><div class=\"children hor wrap rtl\"><div class=\"contnr c0 trm rtl  \" ><div class=\"lbl c0 trm \" ><a href=\"#\" class=\"nd\">47203</a> <a class=\" txtu hbo\" target=\"_blank\" href=\"https://shebanq.ancient-data.org/hebrew/word?version=c&amp;id=1W\" title=\"Show this on SHEBANQ\"><span class=\"txtu hbo\">וְ</span></a></div></div></div></div><div class=\"contnr c1  rtl  \" ><div class=\"lbl c1  \" ><a href=\"#\" class=\"nd\">phrase_atom:934625</a></div><div class=\"children hor wrap rtl\"><div class=\"contnr c0 trm rtl  hl\" ><div class=\"lbl c0 trm hl\" ><a href=\"#\" class=\"nd\">47204</a> <a class=\" txtu hbo\" target=\"_blank\" href=\"https://shebanq.ancient-data.org/hebrew/word?version=c&amp;id=1OTH\" title=\"Show this on SHEBANQ\"><span class=\"txtu hbo\">עַתָּ֖ה </span></a></div></div></div></div></div></div></div></div></div>ESV: But now , if you will forgive their sin — but if not , please blot me out of your book that you have written . ”<br>"
   ]
  },
  {
   "cell_type": "code",
   "execution_count": null,
   "metadata": {},
   "outputs": [],
   "source": [
    "save(437045,\n",
    "\n",
    "{'functions': ['simultaneous'],\n",
    " 'refs': [['DEICTIC', 47204]],\n",
    " 'slots': [47204],\n",
    " 'tenses': [['PRES', 47204]],\n",
    " 'times': [47204]}\n",
    "\n",
    ")"
   ]
  },
  {
   "cell_type": "markdown",
   "metadata": {},
   "source": [
    "<div class=\"tfsechead rtl\"><a target=\"_blank\" href=\"https://shebanq.ancient-data.org/hebrew/text?book=Exodus&amp;chapter=32&amp;verse=34&amp;version=c&amp;mr=m&amp;qw=q&amp;tp=txt_p&amp;tr=hb&amp;wget=v&amp;qget=v&amp;nget=vt\" title=\"Show this on SHEBANQ\" sec=\"Exodus 32:34\">Exodus 32:34</a></div><div class=\"rtl children\"><div class=\"contnr c2  rtl  \" ><div class=\"lbl c2  \" ><a href=\"#\" class=\"nd\">clause:437054</a></div><div class=\"children hor wrap rtl\"><div class=\"contnr c1  rtl  \" ><div class=\"lbl c1  \" ><a href=\"#\" class=\"nd\">clause_atom:525423</a></div><div class=\"children hor wrap rtl\"><div class=\"contnr c1  rtl  \" ><div class=\"lbl c1  \" ><a href=\"#\" class=\"nd\">phrase_atom:934647</a></div><div class=\"children hor wrap rtl\"><div class=\"contnr c0 trm rtl  \" ><div class=\"lbl c0 trm \" ><a href=\"#\" class=\"nd\">47229</a> <a class=\" txtu hbo\" target=\"_blank\" href=\"https://shebanq.ancient-data.org/hebrew/word?version=c&amp;id=1W\" title=\"Show this on SHEBANQ\"><span class=\"txtu hbo\">וְ</span></a></div></div></div></div><div class=\"contnr c1  rtl  \" ><div class=\"lbl c1  \" ><a href=\"#\" class=\"nd\">phrase_atom:934648</a></div><div class=\"children hor wrap rtl\"><div class=\"contnr c0 trm rtl  hl\" ><div class=\"lbl c0 trm hl\" ><a href=\"#\" class=\"nd\">47230</a> <a class=\" txtu hbo\" target=\"_blank\" href=\"https://shebanq.ancient-data.org/hebrew/word?version=c&amp;id=1OTH\" title=\"Show this on SHEBANQ\"><span class=\"txtu hbo\">עַתָּ֞ה </span></a></div></div></div></div></div></div></div></div></div>ESV: But now go , lead the people to the place about which I have spoken to you . behold , my angel shall go before you . Nevertheless , in the day when I visit , I will visit their sin upon them . ”<br>"
   ]
  },
  {
   "cell_type": "code",
   "execution_count": null,
   "metadata": {},
   "outputs": [],
   "source": [
    "save(437054,\n",
    "\n",
    "{'functions': ['simultaneous'],\n",
    " 'refs': [['DEICTIC', 47230]],\n",
    " 'slots': [47230],\n",
    " 'tenses': [['PRES', 47230]],\n",
    " 'times': [47230]}\n",
    "\n",
    ")"
   ]
  },
  {
   "cell_type": "markdown",
   "metadata": {},
   "source": [
    "<div class=\"tfsechead rtl\"><a target=\"_blank\" href=\"https://shebanq.ancient-data.org/hebrew/text?book=Exodus&amp;chapter=33&amp;verse=5&amp;version=c&amp;mr=m&amp;qw=q&amp;tp=txt_p&amp;tr=hb&amp;wget=v&amp;qget=v&amp;nget=vt\" title=\"Show this on SHEBANQ\" sec=\"Exodus 33:5\">Exodus 33:5</a></div><div class=\"rtl children\"><div class=\"contnr c2  rtl  \" ><div class=\"lbl c2  \" ><a href=\"#\" class=\"nd\">clause:437084</a></div><div class=\"children hor wrap rtl\"><div class=\"contnr c1  rtl  \" ><div class=\"lbl c1  \" ><a href=\"#\" class=\"nd\">clause_atom:525455</a></div><div class=\"children hor wrap rtl\"><div class=\"contnr c1  rtl  \" ><div class=\"lbl c1  \" ><a href=\"#\" class=\"nd\">phrase_atom:934731</a></div><div class=\"children hor wrap rtl\"><div class=\"contnr c0 trm rtl  hl\" ><div class=\"lbl c0 trm hl\" ><a href=\"#\" class=\"nd\">47379</a> <a class=\" txtu hbo\" target=\"_blank\" href=\"https://shebanq.ancient-data.org/hebrew/word?version=c&amp;id=1RGOn\" title=\"Show this on SHEBANQ\"><span class=\"txtu hbo\">רֶ֧גַע </span></a></div></div><div class=\"contnr c0 trm rtl  hl\" ><div class=\"lbl c0 trm hl\" ><a href=\"#\" class=\"nd\">47380</a> <a class=\" txtu hbo\" target=\"_blank\" href=\"https://shebanq.ancient-data.org/hebrew/word?version=c&amp;id=1AXDn\" title=\"Show this on SHEBANQ\"><span class=\"txtu hbo\">אֶחָ֛ד </span></a></div></div></div></div><div class=\"contnr c1  rtl  \" ><div class=\"lbl c1  \" ><a href=\"#\" class=\"nd\">phrase_atom:934732</a></div><div class=\"children hor wrap rtl\"><div class=\"contnr c0 trm rtl  \" ><div class=\"lbl c0 trm \" ><a href=\"#\" class=\"nd\">47381</a> <a class=\" txtu hbo\" target=\"_blank\" href=\"https://shebanq.ancient-data.org/hebrew/word?version=c&amp;id=1OLHv\" title=\"Show this on SHEBANQ\"><span class=\"txtu hbo\">אֶֽעֱלֶ֥ה </span></a></div></div></div></div><div class=\"contnr c1  rtl  \" ><div class=\"lbl c1  \" ><a href=\"#\" class=\"nd\">phrase_atom:934733</a></div><div class=\"children hor wrap rtl\"><div class=\"contnr c0 trm rtl  \" ><div class=\"lbl c0 trm \" ><a href=\"#\" class=\"nd\">47382</a> <a class=\" txtu hbo\" target=\"_blank\" href=\"https://shebanq.ancient-data.org/hebrew/word?version=c&amp;id=1B\" title=\"Show this on SHEBANQ\"><span class=\"txtu hbo\">בְ</span></a></div></div><div class=\"contnr c0 trm rtl  \" ><div class=\"lbl c0 trm \" ><a href=\"#\" class=\"nd\">47383</a> <a class=\" txtu hbo\" target=\"_blank\" href=\"https://shebanq.ancient-data.org/hebrew/word?version=c&amp;id=1QRBn\" title=\"Show this on SHEBANQ\"><span class=\"txtu hbo\">קִרְבְּךָ֖ </span></a></div></div></div></div></div></div></div></div></div>ESV: For the Lord had said to Moses , “ Say to the people of Israel , ‘ You are a stiff-necked people . if for a single moment I should go up among you , I would consume you . So now take off your ornaments , that I may know what to do with you . ’ ”<br>"
   ]
  },
  {
   "cell_type": "code",
   "execution_count": null,
   "metadata": {},
   "outputs": [],
   "source": [
    "save(437084,\n",
    "\n",
    "{'functions': ['atelic_ext, simultaneous'],\n",
    " 'quants': [['NUMQ', 47380]],\n",
    " 'slots': [47379, 47380],\n",
    " 'times': [47379]}\n",
    "\n",
    ")"
   ]
  },
  {
   "cell_type": "markdown",
   "metadata": {},
   "source": [
    "<div class=\"tfsechead rtl\"><a target=\"_blank\" href=\"https://shebanq.ancient-data.org/hebrew/text?book=Exodus&amp;chapter=33&amp;verse=5&amp;version=c&amp;mr=m&amp;qw=q&amp;tp=txt_p&amp;tr=hb&amp;wget=v&amp;qget=v&amp;nget=vt\" title=\"Show this on SHEBANQ\" sec=\"Exodus 33:5\">Exodus 33:5</a></div><div class=\"rtl children\"><div class=\"contnr c2  rtl  \" ><div class=\"lbl c2  \" ><a href=\"#\" class=\"nd\">clause:437086</a></div><div class=\"children hor wrap rtl\"><div class=\"contnr c1  rtl  \" ><div class=\"lbl c1  \" ><a href=\"#\" class=\"nd\">clause_atom:525457</a></div><div class=\"children hor wrap rtl\"><div class=\"contnr c1  rtl  \" ><div class=\"lbl c1  \" ><a href=\"#\" class=\"nd\">phrase_atom:934736</a></div><div class=\"children hor wrap rtl\"><div class=\"contnr c0 trm rtl  \" ><div class=\"lbl c0 trm \" ><a href=\"#\" class=\"nd\">47386</a> <a class=\" txtu hbo\" target=\"_blank\" href=\"https://shebanq.ancient-data.org/hebrew/word?version=c&amp;id=1W\" title=\"Show this on SHEBANQ\"><span class=\"txtu hbo\">וְ</span></a></div></div></div></div><div class=\"contnr c1  rtl  \" ><div class=\"lbl c1  \" ><a href=\"#\" class=\"nd\">phrase_atom:934737</a></div><div class=\"children hor wrap rtl\"><div class=\"contnr c0 trm rtl  hl\" ><div class=\"lbl c0 trm hl\" ><a href=\"#\" class=\"nd\">47387</a> <a class=\" txtu hbo\" target=\"_blank\" href=\"https://shebanq.ancient-data.org/hebrew/word?version=c&amp;id=1OTH\" title=\"Show this on SHEBANQ\"><span class=\"txtu hbo\">עַתָּ֗ה </span></a></div></div></div></div></div></div></div></div></div>ESV: For the Lord had said to Moses , “ Say to the people of Israel , ‘ You are a stiff-necked people . if for a single moment I should go up among you , I would consume you . So now take off your ornaments , that I may know what to do with you . ’ ”<br>"
   ]
  },
  {
   "cell_type": "code",
   "execution_count": null,
   "metadata": {},
   "outputs": [],
   "source": [
    "save(437086,\n",
    "\n",
    "{'functions': ['simultaneous'],\n",
    " 'refs': [['DEICTIC', 47387]],\n",
    " 'slots': [47387],\n",
    " 'tenses': [['PRES', 47387]],\n",
    " 'times': [47387]}\n",
    "\n",
    ")"
   ]
  },
  {
   "cell_type": "markdown",
   "metadata": {},
   "source": [
    "<div class=\"tfsechead rtl\"><a target=\"_blank\" href=\"https://shebanq.ancient-data.org/hebrew/text?book=Exodus&amp;chapter=33&amp;verse=13&amp;version=c&amp;mr=m&amp;qw=q&amp;tp=txt_p&amp;tr=hb&amp;wget=v&amp;qget=v&amp;nget=vt\" title=\"Show this on SHEBANQ\" sec=\"Exodus 33:13\">Exodus 33:13</a></div><div class=\"rtl children\"><div class=\"contnr c2  rtl  \" ><div class=\"lbl c2  \" ><a href=\"#\" class=\"nd\">clause:437129</a></div><div class=\"children hor wrap rtl\"><div class=\"contnr c1  rtl  \" ><div class=\"lbl c1  \" ><a href=\"#\" class=\"nd\">clause_atom:525501</a></div><div class=\"children hor wrap rtl\"><div class=\"contnr c1  rtl  \" ><div class=\"lbl c1  \" ><a href=\"#\" class=\"nd\">phrase_atom:934866</a></div><div class=\"children hor wrap rtl\"><div class=\"contnr c0 trm rtl  \" ><div class=\"lbl c0 trm \" ><a href=\"#\" class=\"nd\">47578</a> <a class=\" txtu hbo\" target=\"_blank\" href=\"https://shebanq.ancient-data.org/hebrew/word?version=c&amp;id=1W\" title=\"Show this on SHEBANQ\"><span class=\"txtu hbo\">וְ</span></a></div></div></div></div><div class=\"contnr c1  rtl  \" ><div class=\"lbl c1  \" ><a href=\"#\" class=\"nd\">phrase_atom:934867</a></div><div class=\"children hor wrap rtl\"><div class=\"contnr c0 trm rtl  hl\" ><div class=\"lbl c0 trm hl\" ><a href=\"#\" class=\"nd\">47579</a> <a class=\" txtu hbo\" target=\"_blank\" href=\"https://shebanq.ancient-data.org/hebrew/word?version=c&amp;id=1OTH\" title=\"Show this on SHEBANQ\"><span class=\"txtu hbo\">עַתָּ֡ה </span></a></div></div></div></div></div></div></div></div></div>ESV: Now therefore , if I have found favor in your sight , please show me now your ways , that I may know you in order to find favor in your sight . Consider too that this nation is your people . ”<br>"
   ]
  },
  {
   "cell_type": "code",
   "execution_count": null,
   "metadata": {},
   "outputs": [],
   "source": [
    "save(437129,\n",
    "\n",
    "{'functions': ['simultaneous'],\n",
    " 'refs': [['DEICTIC', 47579]],\n",
    " 'slots': [47579],\n",
    " 'tenses': [['PRES', 47579]],\n",
    " 'times': [47579]}\n",
    "\n",
    ")"
   ]
  },
  {
   "cell_type": "markdown",
   "metadata": {},
   "source": [
    "<div class=\"tfsechead rtl\"><a target=\"_blank\" href=\"https://shebanq.ancient-data.org/hebrew/text?book=Exodus&amp;chapter=34&amp;verse=2&amp;version=c&amp;mr=m&amp;qw=q&amp;tp=txt_p&amp;tr=hb&amp;wget=v&amp;qget=v&amp;nget=vt\" title=\"Show this on SHEBANQ\" sec=\"Exodus 34:2\">Exodus 34:2</a></div><div class=\"rtl children\"><div class=\"contnr c2  rtl  \" ><div class=\"lbl c2  \" ><a href=\"#\" class=\"nd\">clause:437183</a></div><div class=\"children hor wrap rtl\"><div class=\"contnr c1  rtl  \" ><div class=\"lbl c1  \" ><a href=\"#\" class=\"nd\">clause_atom:525556</a></div><div class=\"children hor wrap rtl\"><div class=\"contnr c1  rtl  \" ><div class=\"lbl c1  \" ><a href=\"#\" class=\"nd\">phrase_atom:935021</a></div><div class=\"children hor wrap rtl\"><div class=\"contnr c0 trm rtl  \" ><div class=\"lbl c0 trm \" ><a href=\"#\" class=\"nd\">47794</a> <a class=\" txtu hbo\" target=\"_blank\" href=\"https://shebanq.ancient-data.org/hebrew/word?version=c&amp;id=1W\" title=\"Show this on SHEBANQ\"><span class=\"txtu hbo\">וֶ</span></a></div></div></div></div><div class=\"contnr c1  rtl  \" ><div class=\"lbl c1  \" ><a href=\"#\" class=\"nd\">phrase_atom:935022</a></div><div class=\"children hor wrap rtl\"><div class=\"contnr c0 trm rtl  \" ><div class=\"lbl c0 trm \" ><a href=\"#\" class=\"nd\">47795</a> <a class=\" txtu hbo\" target=\"_blank\" href=\"https://shebanq.ancient-data.org/hebrew/word?version=c&amp;id=1HJHv\" title=\"Show this on SHEBANQ\"><span class=\"txtu hbo\">הְיֵ֥ה </span></a></div></div></div></div><div class=\"contnr c1  rtl  \" ><div class=\"lbl c1  \" ><a href=\"#\" class=\"nd\">phrase_atom:935023</a></div><div class=\"children hor wrap rtl\"><div class=\"contnr c0 trm rtl  \" ><div class=\"lbl c0 trm \" ><a href=\"#\" class=\"nd\">47796</a> <a class=\" txtu hbo\" target=\"_blank\" href=\"https://shebanq.ancient-data.org/hebrew/word?version=c&amp;id=1KWNv\" title=\"Show this on SHEBANQ\"><span class=\"txtu hbo\">נָכֹ֖ון </span></a></div></div></div></div><div class=\"contnr c1  rtl  \" ><div class=\"lbl c1  \" ><a href=\"#\" class=\"nd\">phrase_atom:935024</a></div><div class=\"children hor wrap rtl\"><div class=\"contnr c0 trm rtl  hl\" ><div class=\"lbl c0 trm hl\" ><a href=\"#\" class=\"nd\">47797</a> <a class=\" txtu hbo\" target=\"_blank\" href=\"https://shebanq.ancient-data.org/hebrew/word?version=c&amp;id=1L\" title=\"Show this on SHEBANQ\"><span class=\"txtu hbo\">לַ</span></a></div></div><div class=\"contnr c0 trm rtl  hl\" ><div class=\"lbl c0 trm hl\" ><a href=\"#\" class=\"nd\">47798</a> <a class=\" txtu hbo\" target=\"_blank\" href=\"https://shebanq.ancient-data.org/hebrew/word?version=c&amp;id=1H\" title=\"Show this on SHEBANQ\"></a></div></div><div class=\"contnr c0 trm rtl  hl\" ><div class=\"lbl c0 trm hl\" ><a href=\"#\" class=\"nd\">47799</a> <a class=\" txtu hbo\" target=\"_blank\" href=\"https://shebanq.ancient-data.org/hebrew/word?version=c&amp;id=1BQRin\" title=\"Show this on SHEBANQ\"><span class=\"txtu hbo\">בֹּ֑קֶר </span></a></div></div></div></div></div></div></div></div></div>ESV: Be ready by the morning , and come up in the morning to Mount Sinai , and present yourself there to me on the top of the mountain .<br>"
   ]
  },
  {
   "cell_type": "code",
   "execution_count": null,
   "metadata": {},
   "outputs": [],
   "source": [
    "save(437183,\n",
    "\n",
    "{'functions': ['anterior_dur, simultaneous'],\n",
    " 'preps': [['L', 47797]],\n",
    " 'refs': [['THE', 47798]],\n",
    " 'slots': [47797, 47798, 47799],\n",
    " 'times': [47799]}\n",
    "\n",
    ")"
   ]
  },
  {
   "cell_type": "markdown",
   "metadata": {},
   "source": [
    "<div class=\"tfsechead rtl\"><a target=\"_blank\" href=\"https://shebanq.ancient-data.org/hebrew/text?book=Exodus&amp;chapter=34&amp;verse=2&amp;version=c&amp;mr=m&amp;qw=q&amp;tp=txt_p&amp;tr=hb&amp;wget=v&amp;qget=v&amp;nget=vt\" title=\"Show this on SHEBANQ\" sec=\"Exodus 34:2\">Exodus 34:2</a></div><div class=\"rtl children\"><div class=\"contnr c2  rtl  \" ><div class=\"lbl c2  \" ><a href=\"#\" class=\"nd\">clause:437184</a></div><div class=\"children hor wrap rtl\"><div class=\"contnr c1  rtl  \" ><div class=\"lbl c1  \" ><a href=\"#\" class=\"nd\">clause_atom:525557</a></div><div class=\"children hor wrap rtl\"><div class=\"contnr c1  rtl  \" ><div class=\"lbl c1  \" ><a href=\"#\" class=\"nd\">phrase_atom:935025</a></div><div class=\"children hor wrap rtl\"><div class=\"contnr c0 trm rtl  \" ><div class=\"lbl c0 trm \" ><a href=\"#\" class=\"nd\">47800</a> <a class=\" txtu hbo\" target=\"_blank\" href=\"https://shebanq.ancient-data.org/hebrew/word?version=c&amp;id=1W\" title=\"Show this on SHEBANQ\"><span class=\"txtu hbo\">וְ</span></a></div></div></div></div><div class=\"contnr c1  rtl  \" ><div class=\"lbl c1  \" ><a href=\"#\" class=\"nd\">phrase_atom:935026</a></div><div class=\"children hor wrap rtl\"><div class=\"contnr c0 trm rtl  \" ><div class=\"lbl c0 trm \" ><a href=\"#\" class=\"nd\">47801</a> <a class=\" txtu hbo\" target=\"_blank\" href=\"https://shebanq.ancient-data.org/hebrew/word?version=c&amp;id=1OLHv\" title=\"Show this on SHEBANQ\"><span class=\"txtu hbo\">עָלִ֤יתָ </span></a></div></div></div></div><div class=\"contnr c1  rtl  \" ><div class=\"lbl c1  \" ><a href=\"#\" class=\"nd\">phrase_atom:935027</a></div><div class=\"children hor wrap rtl\"><div class=\"contnr c0 trm rtl  hl\" ><div class=\"lbl c0 trm hl\" ><a href=\"#\" class=\"nd\">47802</a> <a class=\" txtu hbo\" target=\"_blank\" href=\"https://shebanq.ancient-data.org/hebrew/word?version=c&amp;id=1B\" title=\"Show this on SHEBANQ\"><span class=\"txtu hbo\">בַ</span></a></div></div><div class=\"contnr c0 trm rtl  hl\" ><div class=\"lbl c0 trm hl\" ><a href=\"#\" class=\"nd\">47803</a> <a class=\" txtu hbo\" target=\"_blank\" href=\"https://shebanq.ancient-data.org/hebrew/word?version=c&amp;id=1H\" title=\"Show this on SHEBANQ\"></a></div></div><div class=\"contnr c0 trm rtl  hl\" ><div class=\"lbl c0 trm hl\" ><a href=\"#\" class=\"nd\">47804</a> <a class=\" txtu hbo\" target=\"_blank\" href=\"https://shebanq.ancient-data.org/hebrew/word?version=c&amp;id=1BQRin\" title=\"Show this on SHEBANQ\"><span class=\"txtu hbo\">בֹּ֨קֶר֙ </span></a></div></div></div></div><div class=\"contnr c1  rtl  \" ><div class=\"lbl c1  \" ><a href=\"#\" class=\"nd\">phrase_atom:935028</a></div><div class=\"children hor wrap rtl\"><div class=\"contnr c0 trm rtl  \" ><div class=\"lbl c0 trm \" ><a href=\"#\" class=\"nd\">47805</a> <a class=\" txtu hbo\" target=\"_blank\" href=\"https://shebanq.ancient-data.org/hebrew/word?version=c&amp;id=1AL\" title=\"Show this on SHEBANQ\"><span class=\"txtu hbo\">אֶל־</span></a></div></div><div class=\"contnr c0 trm rtl  \" ><div class=\"lbl c0 trm \" ><a href=\"#\" class=\"nd\">47806</a> <a class=\" txtu hbo\" target=\"_blank\" href=\"https://shebanq.ancient-data.org/hebrew/word?version=c&amp;id=1HRn\" title=\"Show this on SHEBANQ\"><span class=\"txtu hbo\">הַ֣ר </span></a></div></div><div class=\"contnr c0 trm rtl  \" ><div class=\"lbl c0 trm \" ><a href=\"#\" class=\"nd\">47807</a> <a class=\" txtu hbo\" target=\"_blank\" href=\"https://shebanq.ancient-data.org/hebrew/word?version=c&amp;id=1SJNJin\" title=\"Show this on SHEBANQ\"><span class=\"txtu hbo\">סִינַ֔י </span></a></div></div></div></div></div></div></div></div></div>ESV: Be ready by the morning , and come up in the morning to Mount Sinai , and present yourself there to me on the top of the mountain .<br>"
   ]
  },
  {
   "cell_type": "code",
   "execution_count": null,
   "metadata": {},
   "outputs": [],
   "source": [
    "save(437184,\n",
    "\n",
    "{'functions': ['simultaneous'],\n",
    " 'preps': [['B', 47802]],\n",
    " 'refs': [['THE', 47803]],\n",
    " 'slots': [47802, 47803, 47804],\n",
    " 'times': [47804]}\n",
    "\n",
    ")"
   ]
  },
  {
   "cell_type": "markdown",
   "metadata": {},
   "source": [
    "<div class=\"tfsechead rtl\"><a target=\"_blank\" href=\"https://shebanq.ancient-data.org/hebrew/text?book=Exodus&amp;chapter=34&amp;verse=4&amp;version=c&amp;mr=m&amp;qw=q&amp;tp=txt_p&amp;tr=hb&amp;wget=v&amp;qget=v&amp;nget=vt\" title=\"Show this on SHEBANQ\" sec=\"Exodus 34:4\">Exodus 34:4</a></div><div class=\"rtl children\"><div class=\"contnr c2  rtl  \" ><div class=\"lbl c2  \" ><a href=\"#\" class=\"nd\">clause:437190</a></div><div class=\"children hor wrap rtl\"><div class=\"contnr c1  rtl  \" ><div class=\"lbl c1  \" ><a href=\"#\" class=\"nd\">clause_atom:525563</a></div><div class=\"children hor wrap rtl\"><div class=\"contnr c1  rtl  \" ><div class=\"lbl c1  \" ><a href=\"#\" class=\"nd\">phrase_atom:935052</a></div><div class=\"children hor wrap rtl\"><div class=\"contnr c0 trm rtl  \" ><div class=\"lbl c0 trm \" ><a href=\"#\" class=\"nd\">47852</a> <a class=\" txtu hbo\" target=\"_blank\" href=\"https://shebanq.ancient-data.org/hebrew/word?version=c&amp;id=1W\" title=\"Show this on SHEBANQ\"><span class=\"txtu hbo\">וַ</span></a></div></div></div></div><div class=\"contnr c1  rtl  \" ><div class=\"lbl c1  \" ><a href=\"#\" class=\"nd\">phrase_atom:935053</a></div><div class=\"children hor wrap rtl\"><div class=\"contnr c0 trm rtl  \" ><div class=\"lbl c0 trm \" ><a href=\"#\" class=\"nd\">47853</a> <a class=\" txtu hbo\" target=\"_blank\" href=\"https://shebanq.ancient-data.org/hebrew/word?version=c&amp;id=1CKMv\" title=\"Show this on SHEBANQ\"><span class=\"txtu hbo\">יַּשְׁכֵּ֨ם </span></a></div></div></div></div><div class=\"contnr c1  rtl  \" ><div class=\"lbl c1  \" ><a href=\"#\" class=\"nd\">phrase_atom:935054</a></div><div class=\"children hor wrap rtl\"><div class=\"contnr c0 trm rtl  \" ><div class=\"lbl c0 trm \" ><a href=\"#\" class=\"nd\">47854</a> <a class=\" txtu hbo\" target=\"_blank\" href=\"https://shebanq.ancient-data.org/hebrew/word?version=c&amp;id=1MCHin\" title=\"Show this on SHEBANQ\"><span class=\"txtu hbo\">מֹשֶׁ֤ה </span></a></div></div></div></div><div class=\"contnr c1  rtl  \" ><div class=\"lbl c1  \" ><a href=\"#\" class=\"nd\">phrase_atom:935055</a></div><div class=\"children hor wrap rtl\"><div class=\"contnr c0 trm rtl  hl\" ><div class=\"lbl c0 trm hl\" ><a href=\"#\" class=\"nd\">47855</a> <a class=\" txtu hbo\" target=\"_blank\" href=\"https://shebanq.ancient-data.org/hebrew/word?version=c&amp;id=1B\" title=\"Show this on SHEBANQ\"><span class=\"txtu hbo\">בַ</span></a></div></div><div class=\"contnr c0 trm rtl  hl\" ><div class=\"lbl c0 trm hl\" ><a href=\"#\" class=\"nd\">47856</a> <a class=\" txtu hbo\" target=\"_blank\" href=\"https://shebanq.ancient-data.org/hebrew/word?version=c&amp;id=1H\" title=\"Show this on SHEBANQ\"></a></div></div><div class=\"contnr c0 trm rtl  hl\" ><div class=\"lbl c0 trm hl\" ><a href=\"#\" class=\"nd\">47857</a> <a class=\" txtu hbo\" target=\"_blank\" href=\"https://shebanq.ancient-data.org/hebrew/word?version=c&amp;id=1BQRin\" title=\"Show this on SHEBANQ\"><span class=\"txtu hbo\">בֹּ֨קֶר֙ </span></a></div></div></div></div></div></div></div></div></div>ESV: So Moses cut two tablets of stone like the first . And he rose early in the morning and went up on Mount Sinai , as the Lord had commanded him , and took in his hand two tablets of stone .<br>"
   ]
  },
  {
   "cell_type": "code",
   "execution_count": null,
   "metadata": {},
   "outputs": [],
   "source": [
    "save(437190,\n",
    "\n",
    "{'functions': ['simultaneous'],\n",
    " 'preps': [['B', 47855]],\n",
    " 'refs': [['THE', 47856]],\n",
    " 'slots': [47855, 47856, 47857],\n",
    " 'times': [47857]}\n",
    "\n",
    ")"
   ]
  },
  {
   "cell_type": "markdown",
   "metadata": {},
   "source": [
    "<div class=\"tfsechead rtl\"><a target=\"_blank\" href=\"https://shebanq.ancient-data.org/hebrew/text?book=Exodus&amp;chapter=34&amp;verse=11&amp;version=c&amp;mr=m&amp;qw=q&amp;tp=txt_p&amp;tr=hb&amp;wget=v&amp;qget=v&amp;nget=vt\" title=\"Show this on SHEBANQ\" sec=\"Exodus 34:11\">Exodus 34:11</a></div><div class=\"rtl children\"><div class=\"contnr c2  rtl  \" ><div class=\"lbl c2  \" ><a href=\"#\" class=\"nd\">clause:437225</a></div><div class=\"children hor wrap rtl\"><div class=\"contnr c1  rtl  \" ><div class=\"lbl c1  \" ><a href=\"#\" class=\"nd\">clause_atom:525599</a></div><div class=\"children hor wrap rtl\"><div class=\"contnr c1  rtl  \" ><div class=\"lbl c1  \" ><a href=\"#\" class=\"nd\">phrase_atom:935157</a></div><div class=\"children hor wrap rtl\"><div class=\"contnr c0 trm rtl  \" ><div class=\"lbl c0 trm \" ><a href=\"#\" class=\"nd\">48019</a> <a class=\" txtu hbo\" target=\"_blank\" href=\"https://shebanq.ancient-data.org/hebrew/word?version=c&amp;id=1AT\" title=\"Show this on SHEBANQ\"><span class=\"txtu hbo\">אֵ֛ת </span></a></div></div><div class=\"contnr c0 trm rtl  \" ><div class=\"lbl c0 trm \" ><a href=\"#\" class=\"nd\">48020</a> <a class=\" txtu hbo\" target=\"_blank\" href=\"https://shebanq.ancient-data.org/hebrew/word?version=c&amp;id=1ACR\" title=\"Show this on SHEBANQ\"><span class=\"txtu hbo\">אֲשֶׁ֥ר </span></a></div></div></div></div><div class=\"contnr c1  rtl  \" ><div class=\"lbl c1  \" ><a href=\"#\" class=\"nd\">phrase_atom:935158</a></div><div class=\"children hor wrap rtl\"><div class=\"contnr c0 trm rtl  \" ><div class=\"lbl c0 trm \" ><a href=\"#\" class=\"nd\">48021</a> <a class=\" txtu hbo\" target=\"_blank\" href=\"https://shebanq.ancient-data.org/hebrew/word?version=c&amp;id=1ANKJ\" title=\"Show this on SHEBANQ\"><span class=\"txtu hbo\">אָנֹכִ֖י </span></a></div></div></div></div><div class=\"contnr c1  rtl  \" ><div class=\"lbl c1  \" ><a href=\"#\" class=\"nd\">phrase_atom:935159</a></div><div class=\"children hor wrap rtl\"><div class=\"contnr c0 trm rtl  \" ><div class=\"lbl c0 trm \" ><a href=\"#\" class=\"nd\">48022</a> <a class=\" txtu hbo\" target=\"_blank\" href=\"https://shebanq.ancient-data.org/hebrew/word?version=c&amp;id=1YWHv\" title=\"Show this on SHEBANQ\"><span class=\"txtu hbo\">מְצַוְּךָ֣ </span></a></div></div></div></div><div class=\"contnr c1  rtl  \" ><div class=\"lbl c1  \" ><a href=\"#\" class=\"nd\">phrase_atom:935160</a></div><div class=\"children hor wrap rtl\"><div class=\"contnr c0 trm rtl  hl\" ><div class=\"lbl c0 trm hl\" ><a href=\"#\" class=\"nd\">48023</a> <a class=\" txtu hbo\" target=\"_blank\" href=\"https://shebanq.ancient-data.org/hebrew/word?version=c&amp;id=1H\" title=\"Show this on SHEBANQ\"><span class=\"txtu hbo\">הַ</span></a></div></div><div class=\"contnr c0 trm rtl  hl\" ><div class=\"lbl c0 trm hl\" ><a href=\"#\" class=\"nd\">48024</a> <a class=\" txtu hbo\" target=\"_blank\" href=\"https://shebanq.ancient-data.org/hebrew/word?version=c&amp;id=1JWMn\" title=\"Show this on SHEBANQ\"><span class=\"txtu hbo\">יֹּ֑ום </span></a></div></div></div></div></div></div></div></div></div>ESV: “ Observe what I command you this day . Behold , I will drive out before you the Amorites , the Canaanites , the Hittites , the Perizzites , the Hivites , and the Jebusites .<br>"
   ]
  },
  {
   "cell_type": "code",
   "execution_count": null,
   "metadata": {},
   "outputs": [],
   "source": [
    "save(437225,\n",
    "\n",
    "{'functions': ['simultaneous'],\n",
    " 'refs': [['THE', 48023]],\n",
    " 'slots': [48023, 48024],\n",
    " 'times': [48024]}\n",
    "\n",
    ")"
   ]
  },
  {
   "cell_type": "markdown",
   "metadata": {},
   "source": [
    "<div class=\"tfsechead rtl\"><a target=\"_blank\" href=\"https://shebanq.ancient-data.org/hebrew/text?book=Exodus&amp;chapter=34&amp;verse=18&amp;version=c&amp;mr=m&amp;qw=q&amp;tp=txt_p&amp;tr=hb&amp;wget=v&amp;qget=v&amp;nget=vt\" title=\"Show this on SHEBANQ\" sec=\"Exodus 34:18\">Exodus 34:18</a></div><div class=\"rtl children\"><div class=\"contnr c2  rtl  \" ><div class=\"lbl c2  \" ><a href=\"#\" class=\"nd\">clause:437248</a></div><div class=\"children hor wrap rtl\"><div class=\"contnr c1  rtl  \" ><div class=\"lbl c1  \" ><a href=\"#\" class=\"nd\">clause_atom:525622</a></div><div class=\"children hor wrap rtl\"><div class=\"contnr c1  rtl  \" ><div class=\"lbl c1  \" ><a href=\"#\" class=\"nd\">phrase_atom:935232</a></div><div class=\"children hor wrap rtl\"><div class=\"contnr c0 trm rtl  hl\" ><div class=\"lbl c0 trm hl\" ><a href=\"#\" class=\"nd\">48140</a> <a class=\" txtu hbo\" target=\"_blank\" href=\"https://shebanq.ancient-data.org/hebrew/word?version=c&amp;id=1CBOn\" title=\"Show this on SHEBANQ\"><span class=\"txtu hbo\">שִׁבְעַ֨ת </span></a></div></div><div class=\"contnr c0 trm rtl  hl\" ><div class=\"lbl c0 trm hl\" ><a href=\"#\" class=\"nd\">48141</a> <a class=\" txtu hbo\" target=\"_blank\" href=\"https://shebanq.ancient-data.org/hebrew/word?version=c&amp;id=1JWMn\" title=\"Show this on SHEBANQ\"><span class=\"txtu hbo\">יָמִ֜ים </span></a></div></div></div></div><div class=\"contnr c1  rtl  \" ><div class=\"lbl c1  \" ><a href=\"#\" class=\"nd\">phrase_atom:935233</a></div><div class=\"children hor wrap rtl\"><div class=\"contnr c0 trm rtl  \" ><div class=\"lbl c0 trm \" ><a href=\"#\" class=\"nd\">48142</a> <a class=\" txtu hbo\" target=\"_blank\" href=\"https://shebanq.ancient-data.org/hebrew/word?version=c&amp;id=1AKLv\" title=\"Show this on SHEBANQ\"><span class=\"txtu hbo\">תֹּאכַ֤ל </span></a></div></div></div></div><div class=\"contnr c1  rtl  \" ><div class=\"lbl c1  \" ><a href=\"#\" class=\"nd\">phrase_atom:935234</a></div><div class=\"children hor wrap rtl\"><div class=\"contnr c0 trm rtl  \" ><div class=\"lbl c0 trm \" ><a href=\"#\" class=\"nd\">48143</a> <a class=\" txtu hbo\" target=\"_blank\" href=\"https://shebanq.ancient-data.org/hebrew/word?version=c&amp;id=1MYHn\" title=\"Show this on SHEBANQ\"><span class=\"txtu hbo\">מַצֹּות֙ </span></a></div></div></div></div></div></div></div></div></div>ESV: “ You shall keep the Feast of Unleavened Bread . Seven days you shall eat unleavened bread , as I commanded you , at the time appointed in the month Abib , for in the month Abib you came out from Egypt .<br>"
   ]
  },
  {
   "cell_type": "code",
   "execution_count": null,
   "metadata": {},
   "outputs": [],
   "source": [
    "save(437248,\n",
    "\n",
    "{'functions': ['atelic_ext'],\n",
    " 'quals': ['durative'],\n",
    " 'quants': [['NUMQ', 48140]],\n",
    " 'slots': [48140, 48141],\n",
    " 'times': [48141]}\n",
    "\n",
    ")"
   ]
  },
  {
   "cell_type": "markdown",
   "metadata": {},
   "source": [
    "<div class=\"tfsechead rtl\"><a target=\"_blank\" href=\"https://shebanq.ancient-data.org/hebrew/text?book=Exodus&amp;chapter=34&amp;verse=18&amp;version=c&amp;mr=m&amp;qw=q&amp;tp=txt_p&amp;tr=hb&amp;wget=v&amp;qget=v&amp;nget=vt\" title=\"Show this on SHEBANQ\" sec=\"Exodus 34:18\">Exodus 34:18</a></div><div class=\"rtl children\"><div class=\"contnr c2  rtl  \" ><div class=\"lbl c2  \" ><a href=\"#\" class=\"nd\">clause:437249</a></div><div class=\"children hor wrap rtl\"><div class=\"contnr c1  rtl  \" ><div class=\"lbl c1  \" ><a href=\"#\" class=\"nd\">clause_atom:525623</a></div><div class=\"children hor wrap rtl\"><div class=\"contnr c1  rtl  \" ><div class=\"lbl c1  \" ><a href=\"#\" class=\"nd\">phrase_atom:935235</a></div><div class=\"children hor wrap rtl\"><div class=\"contnr c0 trm rtl  \" ><div class=\"lbl c0 trm \" ><a href=\"#\" class=\"nd\">48144</a> <a class=\" txtu hbo\" target=\"_blank\" href=\"https://shebanq.ancient-data.org/hebrew/word?version=c&amp;id=1ACR\" title=\"Show this on SHEBANQ\"><span class=\"txtu hbo\">אֲשֶׁ֣ר </span></a></div></div></div></div><div class=\"contnr c1  rtl  \" ><div class=\"lbl c1  \" ><a href=\"#\" class=\"nd\">phrase_atom:935236</a></div><div class=\"children hor wrap rtl\"><div class=\"contnr c0 trm rtl  \" ><div class=\"lbl c0 trm \" ><a href=\"#\" class=\"nd\">48145</a> <a class=\" txtu hbo\" target=\"_blank\" href=\"https://shebanq.ancient-data.org/hebrew/word?version=c&amp;id=1YWHv\" title=\"Show this on SHEBANQ\"><span class=\"txtu hbo\">צִוִּיתִ֔ךָ </span></a></div></div></div></div><div class=\"contnr c1  rtl  \" ><div class=\"lbl c1  \" ><a href=\"#\" class=\"nd\">phrase_atom:935237</a></div><div class=\"children hor wrap rtl\"><div class=\"contnr c0 trm rtl  hl\" ><div class=\"lbl c0 trm hl\" ><a href=\"#\" class=\"nd\">48146</a> <a class=\" txtu hbo\" target=\"_blank\" href=\"https://shebanq.ancient-data.org/hebrew/word?version=c&amp;id=1L\" title=\"Show this on SHEBANQ\"><span class=\"txtu hbo\">לְ</span></a></div></div><div class=\"contnr c0 trm rtl  hl\" ><div class=\"lbl c0 trm hl\" ><a href=\"#\" class=\"nd\">48147</a> <a class=\" txtu hbo\" target=\"_blank\" href=\"https://shebanq.ancient-data.org/hebrew/word?version=c&amp;id=1MWODn\" title=\"Show this on SHEBANQ\"><span class=\"txtu hbo\">מֹועֵ֖ד </span></a></div></div><div class=\"contnr c0 trm rtl  hl\" ><div class=\"lbl c0 trm hl\" ><a href=\"#\" class=\"nd\">48148</a> <a class=\" txtu hbo\" target=\"_blank\" href=\"https://shebanq.ancient-data.org/hebrew/word?version=c&amp;id=1XDCin\" title=\"Show this on SHEBANQ\"><span class=\"txtu hbo\">חֹ֣דֶשׁ </span></a></div></div><div class=\"contnr c0 trm rtl  hl\" ><div class=\"lbl c0 trm hl\" ><a href=\"#\" class=\"nd\">48149</a> <a class=\" txtu hbo\" target=\"_blank\" href=\"https://shebanq.ancient-data.org/hebrew/word?version=c&amp;id=1H\" title=\"Show this on SHEBANQ\"><span class=\"txtu hbo\">הָ</span></a></div></div><div class=\"contnr c0 trm rtl  hl\" ><div class=\"lbl c0 trm hl\" ><a href=\"#\" class=\"nd\">48150</a> <a class=\" txtu hbo\" target=\"_blank\" href=\"https://shebanq.ancient-data.org/hebrew/word?version=c&amp;id=1ABJBn\" title=\"Show this on SHEBANQ\"><span class=\"txtu hbo\">אָבִ֑יב </span></a></div></div></div></div></div></div></div></div></div>ESV: “ You shall keep the Feast of Unleavened Bread . Seven days you shall eat unleavened bread , as I commanded you , at the time appointed in the month Abib , for in the month Abib you came out from Egypt .<br>"
   ]
  },
  {
   "cell_type": "code",
   "execution_count": null,
   "metadata": {},
   "outputs": [],
   "source": [
    "save(437249,\n",
    "\n",
    "{'functions': ['anterior_dur, simultaneous'],\n",
    " 'preps': [['L', 48146]],\n",
    " 'refs': [['GEN', [[48149, 48150, 'DEF'], 48148, 'GP']]],\n",
    " 'slots': [48146, 48147, 48148, 48149, 48150],\n",
    " 'times': [48147]}\n",
    "\n",
    ")"
   ]
  },
  {
   "cell_type": "markdown",
   "metadata": {},
   "source": [
    "<div class=\"tfsechead rtl\"><a target=\"_blank\" href=\"https://shebanq.ancient-data.org/hebrew/text?book=Exodus&amp;chapter=34&amp;verse=18&amp;version=c&amp;mr=m&amp;qw=q&amp;tp=txt_p&amp;tr=hb&amp;wget=v&amp;qget=v&amp;nget=vt\" title=\"Show this on SHEBANQ\" sec=\"Exodus 34:18\">Exodus 34:18</a></div><div class=\"rtl children\"><div class=\"contnr c2  rtl  \" ><div class=\"lbl c2  \" ><a href=\"#\" class=\"nd\">clause:437250</a></div><div class=\"children hor wrap rtl\"><div class=\"contnr c1  rtl  \" ><div class=\"lbl c1  \" ><a href=\"#\" class=\"nd\">clause_atom:525624</a></div><div class=\"children hor wrap rtl\"><div class=\"contnr c1  rtl  \" ><div class=\"lbl c1  \" ><a href=\"#\" class=\"nd\">phrase_atom:935238</a></div><div class=\"children hor wrap rtl\"><div class=\"contnr c0 trm rtl  \" ><div class=\"lbl c0 trm \" ><a href=\"#\" class=\"nd\">48151</a> <a class=\" txtu hbo\" target=\"_blank\" href=\"https://shebanq.ancient-data.org/hebrew/word?version=c&amp;id=1KJ\" title=\"Show this on SHEBANQ\"><span class=\"txtu hbo\">כִּ֚י </span></a></div></div></div></div><div class=\"contnr c1  rtl  \" ><div class=\"lbl c1  \" ><a href=\"#\" class=\"nd\">phrase_atom:935239</a></div><div class=\"children hor wrap rtl\"><div class=\"contnr c0 trm rtl  hl\" ><div class=\"lbl c0 trm hl\" ><a href=\"#\" class=\"nd\">48152</a> <a class=\" txtu hbo\" target=\"_blank\" href=\"https://shebanq.ancient-data.org/hebrew/word?version=c&amp;id=1B\" title=\"Show this on SHEBANQ\"><span class=\"txtu hbo\">בְּ</span></a></div></div><div class=\"contnr c0 trm rtl  hl\" ><div class=\"lbl c0 trm hl\" ><a href=\"#\" class=\"nd\">48153</a> <a class=\" txtu hbo\" target=\"_blank\" href=\"https://shebanq.ancient-data.org/hebrew/word?version=c&amp;id=1XDCin\" title=\"Show this on SHEBANQ\"><span class=\"txtu hbo\">חֹ֣דֶשׁ </span></a></div></div><div class=\"contnr c0 trm rtl  hl\" ><div class=\"lbl c0 trm hl\" ><a href=\"#\" class=\"nd\">48154</a> <a class=\" txtu hbo\" target=\"_blank\" href=\"https://shebanq.ancient-data.org/hebrew/word?version=c&amp;id=1H\" title=\"Show this on SHEBANQ\"><span class=\"txtu hbo\">הָֽ</span></a></div></div><div class=\"contnr c0 trm rtl  hl\" ><div class=\"lbl c0 trm hl\" ><a href=\"#\" class=\"nd\">48155</a> <a class=\" txtu hbo\" target=\"_blank\" href=\"https://shebanq.ancient-data.org/hebrew/word?version=c&amp;id=1ABJBn\" title=\"Show this on SHEBANQ\"><span class=\"txtu hbo\">אָבִ֔יב </span></a></div></div></div></div><div class=\"contnr c1  rtl  \" ><div class=\"lbl c1  \" ><a href=\"#\" class=\"nd\">phrase_atom:935240</a></div><div class=\"children hor wrap rtl\"><div class=\"contnr c0 trm rtl  \" ><div class=\"lbl c0 trm \" ><a href=\"#\" class=\"nd\">48156</a> <a class=\" txtu hbo\" target=\"_blank\" href=\"https://shebanq.ancient-data.org/hebrew/word?version=c&amp;id=1JYAv\" title=\"Show this on SHEBANQ\"><span class=\"txtu hbo\">יָצָ֖אתָ </span></a></div></div></div></div><div class=\"contnr c1  rtl  \" ><div class=\"lbl c1  \" ><a href=\"#\" class=\"nd\">phrase_atom:935241</a></div><div class=\"children hor wrap rtl\"><div class=\"contnr c0 trm rtl  \" ><div class=\"lbl c0 trm \" ><a href=\"#\" class=\"nd\">48157</a> <a class=\" txtu hbo\" target=\"_blank\" href=\"https://shebanq.ancient-data.org/hebrew/word?version=c&amp;id=1MN\" title=\"Show this on SHEBANQ\"><span class=\"txtu hbo\">מִ</span></a></div></div><div class=\"contnr c0 trm rtl  \" ><div class=\"lbl c0 trm \" ><a href=\"#\" class=\"nd\">48158</a> <a class=\" txtu hbo\" target=\"_blank\" href=\"https://shebanq.ancient-data.org/hebrew/word?version=c&amp;id=1MYRJMn\" title=\"Show this on SHEBANQ\"><span class=\"txtu hbo\">מִּצְרָֽיִם׃ </span></a></div></div></div></div></div></div></div></div></div>ESV: “ You shall keep the Feast of Unleavened Bread . Seven days you shall eat unleavened bread , as I commanded you , at the time appointed in the month Abib , for in the month Abib you came out from Egypt .<br>"
   ]
  },
  {
   "cell_type": "code",
   "execution_count": null,
   "metadata": {},
   "outputs": [],
   "source": [
    "save(437250,\n",
    "\n",
    "{'functions': ['simultaneous'],\n",
    " 'preps': [['B', 48152]],\n",
    " 'refs': [['GEN', [48154, 48155, 'DEF']]],\n",
    " 'slots': [48152, 48153, 48154, 48155],\n",
    " 'times': [48153]}\n",
    "\n",
    ")"
   ]
  },
  {
   "cell_type": "markdown",
   "metadata": {},
   "source": [
    "<div class=\"tfsechead rtl\"><a target=\"_blank\" href=\"https://shebanq.ancient-data.org/hebrew/text?book=Exodus&amp;chapter=34&amp;verse=21&amp;version=c&amp;mr=m&amp;qw=q&amp;tp=txt_p&amp;tr=hb&amp;wget=v&amp;qget=v&amp;nget=vt\" title=\"Show this on SHEBANQ\" sec=\"Exodus 34:21\">Exodus 34:21</a></div><div class=\"rtl children\"><div class=\"contnr c2  rtl  \" ><div class=\"lbl c2  \" ><a href=\"#\" class=\"nd\">clause:437259</a></div><div class=\"children hor wrap rtl\"><div class=\"contnr c1  rtl  \" ><div class=\"lbl c1  \" ><a href=\"#\" class=\"nd\">clause_atom:525633</a></div><div class=\"children hor wrap rtl\"><div class=\"contnr c1  rtl  \" ><div class=\"lbl c1  \" ><a href=\"#\" class=\"nd\">phrase_atom:935265</a></div><div class=\"children hor wrap rtl\"><div class=\"contnr c0 trm rtl  hl\" ><div class=\"lbl c0 trm hl\" ><a href=\"#\" class=\"nd\">48192</a> <a class=\" txtu hbo\" target=\"_blank\" href=\"https://shebanq.ancient-data.org/hebrew/word?version=c&amp;id=1CCn\" title=\"Show this on SHEBANQ\"><span class=\"txtu hbo\">שֵׁ֤שֶׁת </span></a></div></div><div class=\"contnr c0 trm rtl  hl\" ><div class=\"lbl c0 trm hl\" ><a href=\"#\" class=\"nd\">48193</a> <a class=\" txtu hbo\" target=\"_blank\" href=\"https://shebanq.ancient-data.org/hebrew/word?version=c&amp;id=1JWMn\" title=\"Show this on SHEBANQ\"><span class=\"txtu hbo\">יָמִים֙ </span></a></div></div></div></div><div class=\"contnr c1  rtl  \" ><div class=\"lbl c1  \" ><a href=\"#\" class=\"nd\">phrase_atom:935266</a></div><div class=\"children hor wrap rtl\"><div class=\"contnr c0 trm rtl  \" ><div class=\"lbl c0 trm \" ><a href=\"#\" class=\"nd\">48194</a> <a class=\" txtu hbo\" target=\"_blank\" href=\"https://shebanq.ancient-data.org/hebrew/word?version=c&amp;id=1OBDv\" title=\"Show this on SHEBANQ\"><span class=\"txtu hbo\">תַּעֲבֹ֔ד </span></a></div></div></div></div></div></div></div></div></div>ESV: “ Six days you shall work , but on the seventh day you shall rest . In plowing time and in harvest you shall rest .<br>"
   ]
  },
  {
   "cell_type": "code",
   "execution_count": null,
   "metadata": {},
   "outputs": [],
   "source": [
    "save(437259,\n",
    "\n",
    "{'functions': ['atelic_ext'],\n",
    " 'quals': ['durative'],\n",
    " 'quants': [['NUMQ', 48192]],\n",
    " 'slots': [48192, 48193],\n",
    " 'times': [48193]}\n",
    "\n",
    ")"
   ]
  },
  {
   "cell_type": "markdown",
   "metadata": {},
   "source": [
    "<div class=\"tfsechead rtl\"><a target=\"_blank\" href=\"https://shebanq.ancient-data.org/hebrew/text?book=Exodus&amp;chapter=34&amp;verse=21&amp;version=c&amp;mr=m&amp;qw=q&amp;tp=txt_p&amp;tr=hb&amp;wget=v&amp;qget=v&amp;nget=vt\" title=\"Show this on SHEBANQ\" sec=\"Exodus 34:21\">Exodus 34:21</a></div><div class=\"rtl children\"><div class=\"contnr c2  rtl  \" ><div class=\"lbl c2  \" ><a href=\"#\" class=\"nd\">clause:437260</a></div><div class=\"children hor wrap rtl\"><div class=\"contnr c1  rtl  \" ><div class=\"lbl c1  \" ><a href=\"#\" class=\"nd\">clause_atom:525634</a></div><div class=\"children hor wrap rtl\"><div class=\"contnr c1  rtl  \" ><div class=\"lbl c1  \" ><a href=\"#\" class=\"nd\">phrase_atom:935267</a></div><div class=\"children hor wrap rtl\"><div class=\"contnr c0 trm rtl  \" ><div class=\"lbl c0 trm \" ><a href=\"#\" class=\"nd\">48195</a> <a class=\" txtu hbo\" target=\"_blank\" href=\"https://shebanq.ancient-data.org/hebrew/word?version=c&amp;id=1W\" title=\"Show this on SHEBANQ\"><span class=\"txtu hbo\">וּ</span></a></div></div></div></div><div class=\"contnr c1  rtl  \" ><div class=\"lbl c1  \" ><a href=\"#\" class=\"nd\">phrase_atom:935268</a></div><div class=\"children hor wrap rtl\"><div class=\"contnr c0 trm rtl  hl\" ><div class=\"lbl c0 trm hl\" ><a href=\"#\" class=\"nd\">48196</a> <a class=\" txtu hbo\" target=\"_blank\" href=\"https://shebanq.ancient-data.org/hebrew/word?version=c&amp;id=1B\" title=\"Show this on SHEBANQ\"><span class=\"txtu hbo\">בַ</span></a></div></div><div class=\"contnr c0 trm rtl  hl\" ><div class=\"lbl c0 trm hl\" ><a href=\"#\" class=\"nd\">48197</a> <a class=\" txtu hbo\" target=\"_blank\" href=\"https://shebanq.ancient-data.org/hebrew/word?version=c&amp;id=1H\" title=\"Show this on SHEBANQ\"></a></div></div><div class=\"contnr c0 trm rtl  hl\" ><div class=\"lbl c0 trm hl\" ><a href=\"#\" class=\"nd\">48198</a> <a class=\" txtu hbo\" target=\"_blank\" href=\"https://shebanq.ancient-data.org/hebrew/word?version=c&amp;id=1JWMn\" title=\"Show this on SHEBANQ\"><span class=\"txtu hbo\">יֹּ֥ום </span></a></div></div><div class=\"contnr c0 trm rtl  \" ><div class=\"lbl c0 trm \" ><a href=\"#\" class=\"nd\">48199</a> <a class=\" txtu hbo\" target=\"_blank\" href=\"https://shebanq.ancient-data.org/hebrew/word?version=c&amp;id=1H\" title=\"Show this on SHEBANQ\"><span class=\"txtu hbo\">הַ</span></a></div></div><div class=\"contnr c0 trm rtl  hl\" ><div class=\"lbl c0 trm hl\" ><a href=\"#\" class=\"nd\">48200</a> <a class=\" txtu hbo\" target=\"_blank\" href=\"https://shebanq.ancient-data.org/hebrew/word?version=c&amp;id=1CBJOJn\" title=\"Show this on SHEBANQ\"><span class=\"txtu hbo\">שְּׁבִיעִ֖י </span></a></div></div></div></div><div class=\"contnr c1  rtl  \" ><div class=\"lbl c1  \" ><a href=\"#\" class=\"nd\">phrase_atom:935269</a></div><div class=\"children hor wrap rtl\"><div class=\"contnr c0 trm rtl  \" ><div class=\"lbl c0 trm \" ><a href=\"#\" class=\"nd\">48201</a> <a class=\" txtu hbo\" target=\"_blank\" href=\"https://shebanq.ancient-data.org/hebrew/word?version=c&amp;id=1CBTv\" title=\"Show this on SHEBANQ\"><span class=\"txtu hbo\">תִּשְׁבֹּ֑ת </span></a></div></div></div></div></div></div></div></div></div>ESV: “ Six days you shall work , but on the seventh day you shall rest . In plowing time and in harvest you shall rest .<br>"
   ]
  },
  {
   "cell_type": "code",
   "execution_count": null,
   "metadata": {},
   "outputs": [],
   "source": [
    "save(437260,\n",
    "\n",
    "{'functions': ['simultaneous'],\n",
    " 'preps': [['B', 48196]],\n",
    " 'refs': [['ORDN', 48200], ['THE', 48197]],\n",
    " 'slots': [48196, 48197, 48198, 48200],\n",
    " 'times': [48198]}\n",
    "\n",
    ")"
   ]
  },
  {
   "cell_type": "markdown",
   "metadata": {},
   "source": [
    "<div class=\"tfsechead rtl\"><a target=\"_blank\" href=\"https://shebanq.ancient-data.org/hebrew/text?book=Exodus&amp;chapter=34&amp;verse=21&amp;version=c&amp;mr=m&amp;qw=q&amp;tp=txt_p&amp;tr=hb&amp;wget=v&amp;qget=v&amp;nget=vt\" title=\"Show this on SHEBANQ\" sec=\"Exodus 34:21\">Exodus 34:21</a></div><div class=\"rtl children\"><div class=\"contnr c2  rtl  \" ><div class=\"lbl c2  \" ><a href=\"#\" class=\"nd\">clause:437261</a></div><div class=\"children hor wrap rtl\"><div class=\"contnr c1  rtl  \" ><div class=\"lbl c1  \" ><a href=\"#\" class=\"nd\">clause_atom:525635</a></div><div class=\"children hor wrap rtl\"><div class=\"contnr c1  rtl  \" ><div class=\"lbl c1  \" ><a href=\"#\" class=\"nd\">phrase_atom:935270</a></div><div class=\"children hor wrap rtl\"><div class=\"contnr c0 trm rtl  hl\" ><div class=\"lbl c0 trm hl\" ><a href=\"#\" class=\"nd\">48202</a> <a class=\" txtu hbo\" target=\"_blank\" href=\"https://shebanq.ancient-data.org/hebrew/word?version=c&amp;id=1B\" title=\"Show this on SHEBANQ\"><span class=\"txtu hbo\">בֶּ</span></a></div></div><div class=\"contnr c0 trm rtl  hl\" ><div class=\"lbl c0 trm hl\" ><a href=\"#\" class=\"nd\">48203</a> <a class=\" txtu hbo\" target=\"_blank\" href=\"https://shebanq.ancient-data.org/hebrew/word?version=c&amp;id=1H\" title=\"Show this on SHEBANQ\"></a></div></div><div class=\"contnr c0 trm rtl  hl\" ><div class=\"lbl c0 trm hl\" ><a href=\"#\" class=\"nd\">48204</a> <a class=\" txtu hbo\" target=\"_blank\" href=\"https://shebanq.ancient-data.org/hebrew/word?version=c&amp;id=1XRJCn\" title=\"Show this on SHEBANQ\"><span class=\"txtu hbo\">חָרִ֥ישׁ </span></a></div></div><div class=\"contnr c0 trm rtl  \" ><div class=\"lbl c0 trm \" ><a href=\"#\" class=\"nd\">48205</a> <a class=\" txtu hbo\" target=\"_blank\" href=\"https://shebanq.ancient-data.org/hebrew/word?version=c&amp;id=1W\" title=\"Show this on SHEBANQ\"><span class=\"txtu hbo\">וּ</span></a></div></div><div class=\"contnr c0 trm rtl  hl\" ><div class=\"lbl c0 trm hl\" ><a href=\"#\" class=\"nd\">48206</a> <a class=\" txtu hbo\" target=\"_blank\" href=\"https://shebanq.ancient-data.org/hebrew/word?version=c&amp;id=1B\" title=\"Show this on SHEBANQ\"><span class=\"txtu hbo\">בַ</span></a></div></div><div class=\"contnr c0 trm rtl  hl\" ><div class=\"lbl c0 trm hl\" ><a href=\"#\" class=\"nd\">48207</a> <a class=\" txtu hbo\" target=\"_blank\" href=\"https://shebanq.ancient-data.org/hebrew/word?version=c&amp;id=1H\" title=\"Show this on SHEBANQ\"></a></div></div><div class=\"contnr c0 trm rtl  hl\" ><div class=\"lbl c0 trm hl\" ><a href=\"#\" class=\"nd\">48208</a> <a class=\" txtu hbo\" target=\"_blank\" href=\"https://shebanq.ancient-data.org/hebrew/word?version=c&amp;id=1QYJRn\" title=\"Show this on SHEBANQ\"><span class=\"txtu hbo\">קָּצִ֖יר </span></a></div></div></div></div><div class=\"contnr c1  rtl  \" ><div class=\"lbl c1  \" ><a href=\"#\" class=\"nd\">phrase_atom:935271</a></div><div class=\"children hor wrap rtl\"><div class=\"contnr c0 trm rtl  \" ><div class=\"lbl c0 trm \" ><a href=\"#\" class=\"nd\">48209</a> <a class=\" txtu hbo\" target=\"_blank\" href=\"https://shebanq.ancient-data.org/hebrew/word?version=c&amp;id=1CBTv\" title=\"Show this on SHEBANQ\"><span class=\"txtu hbo\">תִּשְׁבֹּֽת׃ </span></a></div></div></div></div></div></div></div></div></div>ESV: “ Six days you shall work , but on the seventh day you shall rest . In plowing time and in harvest you shall rest .<br>"
   ]
  },
  {
   "cell_type": "code",
   "execution_count": null,
   "metadata": {},
   "outputs": [],
   "source": [
    "save(437261,\n",
    "\n",
    "{'functions': ['simul_habitual, multi_simul'],\n",
    " 'quals': ['iterative'],\n",
    " 'slots': [48202, 48203, 48204, 48206, 48207, 48208],\n",
    " 'times': [{'functions': ['simultaneous'],\n",
    "            'preps': [['B', 48202]],\n",
    "            'refs': [['THE', 48203]],\n",
    "            'slots': [48202, 48203, 48204],\n",
    "            'times': [48204]},\n",
    "           {'functions': ['simultaneous'],\n",
    "            'preps': [['B', 48206]],\n",
    "            'refs': [['THE', 48207]],\n",
    "            'slots': [48206, 48207, 48208],\n",
    "            'times': [48208]}]}\n",
    "\n",
    ")"
   ]
  },
  {
   "cell_type": "markdown",
   "metadata": {},
   "source": [
    "<div class=\"tfsechead rtl\"><a target=\"_blank\" href=\"https://shebanq.ancient-data.org/hebrew/text?book=Exodus&amp;chapter=34&amp;verse=28&amp;version=c&amp;mr=m&amp;qw=q&amp;tp=txt_p&amp;tr=hb&amp;wget=v&amp;qget=v&amp;nget=vt\" title=\"Show this on SHEBANQ\" sec=\"Exodus 34:28\">Exodus 34:28</a></div><div class=\"rtl children\"><div class=\"contnr c2  rtl  \" ><div class=\"lbl c2  \" ><a href=\"#\" class=\"nd\">clause:437277</a></div><div class=\"children hor wrap rtl\"><div class=\"contnr c1  rtl  \" ><div class=\"lbl c1  \" ><a href=\"#\" class=\"nd\">clause_atom:525652</a></div><div class=\"children hor wrap rtl\"><div class=\"contnr c1  rtl  \" ><div class=\"lbl c1  \" ><a href=\"#\" class=\"nd\">phrase_atom:935336</a></div><div class=\"children hor wrap rtl\"><div class=\"contnr c0 trm rtl  \" ><div class=\"lbl c0 trm \" ><a href=\"#\" class=\"nd\">48322</a> <a class=\" txtu hbo\" target=\"_blank\" href=\"https://shebanq.ancient-data.org/hebrew/word?version=c&amp;id=1W\" title=\"Show this on SHEBANQ\"><span class=\"txtu hbo\">וַֽ</span></a></div></div></div></div><div class=\"contnr c1  rtl  \" ><div class=\"lbl c1  \" ><a href=\"#\" class=\"nd\">phrase_atom:935337</a></div><div class=\"children hor wrap rtl\"><div class=\"contnr c0 trm rtl  \" ><div class=\"lbl c0 trm \" ><a href=\"#\" class=\"nd\">48323</a> <a class=\" txtu hbo\" target=\"_blank\" href=\"https://shebanq.ancient-data.org/hebrew/word?version=c&amp;id=1HJHv\" title=\"Show this on SHEBANQ\"><span class=\"txtu hbo\">יְהִי־</span></a></div></div></div></div><div class=\"contnr c1  rtl  \" ><div class=\"lbl c1  \" ><a href=\"#\" class=\"nd\">phrase_atom:935338</a></div><div class=\"children hor wrap rtl\"><div class=\"contnr c0 trm rtl  \" ><div class=\"lbl c0 trm \" ><a href=\"#\" class=\"nd\">48324</a> <a class=\" txtu hbo\" target=\"_blank\" href=\"https://shebanq.ancient-data.org/hebrew/word?version=c&amp;id=1CM\" title=\"Show this on SHEBANQ\"><span class=\"txtu hbo\">שָׁ֣ם </span></a></div></div></div></div><div class=\"contnr c1  rtl  \" ><div class=\"lbl c1  \" ><a href=\"#\" class=\"nd\">phrase_atom:935339</a></div><div class=\"children hor wrap rtl\"><div class=\"contnr c0 trm rtl  \" ><div class=\"lbl c0 trm \" ><a href=\"#\" class=\"nd\">48325</a> <a class=\" txtu hbo\" target=\"_blank\" href=\"https://shebanq.ancient-data.org/hebrew/word?version=c&amp;id=1OM\" title=\"Show this on SHEBANQ\"><span class=\"txtu hbo\">עִם־</span></a></div></div><div class=\"contnr c0 trm rtl  \" ><div class=\"lbl c0 trm \" ><a href=\"#\" class=\"nd\">48326</a> <a class=\" txtu hbo\" target=\"_blank\" href=\"https://shebanq.ancient-data.org/hebrew/word?version=c&amp;id=1JHWHn\" title=\"Show this on SHEBANQ\"><span class=\"txtu hbo\">יְהוָ֗ה </span></a></div></div></div></div><div class=\"contnr c1  rtl  \" ><div class=\"lbl c1  \" ><a href=\"#\" class=\"nd\">phrase_atom:935340</a></div><div class=\"children hor wrap rtl\"><div class=\"contnr c0 trm rtl  hl\" ><div class=\"lbl c0 trm hl\" ><a href=\"#\" class=\"nd\">48327</a> <a class=\" txtu hbo\" target=\"_blank\" href=\"https://shebanq.ancient-data.org/hebrew/word?version=c&amp;id=1ARBOn\" title=\"Show this on SHEBANQ\"><span class=\"txtu hbo\">אַרְבָּעִ֥ים </span></a></div></div><div class=\"contnr c0 trm rtl  hl\" ><div class=\"lbl c0 trm hl\" ><a href=\"#\" class=\"nd\">48328</a> <a class=\" txtu hbo\" target=\"_blank\" href=\"https://shebanq.ancient-data.org/hebrew/word?version=c&amp;id=1JWMn\" title=\"Show this on SHEBANQ\"><span class=\"txtu hbo\">יֹום֙ </span></a></div></div><div class=\"contnr c0 trm rtl  \" ><div class=\"lbl c0 trm \" ><a href=\"#\" class=\"nd\">48329</a> <a class=\" txtu hbo\" target=\"_blank\" href=\"https://shebanq.ancient-data.org/hebrew/word?version=c&amp;id=1W\" title=\"Show this on SHEBANQ\"><span class=\"txtu hbo\">וְ</span></a></div></div><div class=\"contnr c0 trm rtl  hl\" ><div class=\"lbl c0 trm hl\" ><a href=\"#\" class=\"nd\">48330</a> <a class=\" txtu hbo\" target=\"_blank\" href=\"https://shebanq.ancient-data.org/hebrew/word?version=c&amp;id=1ARBOn\" title=\"Show this on SHEBANQ\"><span class=\"txtu hbo\">אַרְבָּעִ֣ים </span></a></div></div><div class=\"contnr c0 trm rtl  hl\" ><div class=\"lbl c0 trm hl\" ><a href=\"#\" class=\"nd\">48331</a> <a class=\" txtu hbo\" target=\"_blank\" href=\"https://shebanq.ancient-data.org/hebrew/word?version=c&amp;id=1LJLHn\" title=\"Show this on SHEBANQ\"><span class=\"txtu hbo\">לַ֔יְלָה </span></a></div></div></div></div></div></div></div></div></div>ESV: So he was there with the Lord forty days and forty nights . He neither ate bread nor drank water . And he wrote on the tablets the words of the covenant , the Ten Commandments .<br>"
   ]
  },
  {
   "cell_type": "code",
   "execution_count": null,
   "metadata": {},
   "outputs": [],
   "source": [
    "save(437277,\n",
    "\n",
    "{'functions': ['atelic_ext'],\n",
    " 'quals': ['durative'],\n",
    " 'slots': [48327, 48328, 48330, 48331],\n",
    " 'times': [{'quals': ['durative'],\n",
    "            'quants': [['NUMQ', 48327]],\n",
    "            'slots': [48327, 48328],\n",
    "            'times': [48328]},\n",
    "           {'quals': ['durative'],\n",
    "            'quants': [['NUMQ', 48330]],\n",
    "            'slots': [48330, 48331],\n",
    "            'times': [48331]}]}\n",
    "\n",
    ")"
   ]
  },
  {
   "cell_type": "markdown",
   "metadata": {},
   "source": [
    "<div class=\"tfsechead rtl\"><a target=\"_blank\" href=\"https://shebanq.ancient-data.org/hebrew/text?book=Exodus&amp;chapter=34&amp;verse=32&amp;version=c&amp;mr=m&amp;qw=q&amp;tp=txt_p&amp;tr=hb&amp;wget=v&amp;qget=v&amp;nget=vt\" title=\"Show this on SHEBANQ\" sec=\"Exodus 34:32\">Exodus 34:32</a></div><div class=\"rtl children\"><div class=\"contnr c2  rtl  \" ><div class=\"lbl c2  \" ><a href=\"#\" class=\"nd\">clause:437295</a></div><div class=\"children hor wrap rtl\"><div class=\"contnr c1  rtl  \" ><div class=\"lbl c1  \" ><a href=\"#\" class=\"nd\">clause_atom:525670</a></div><div class=\"children hor wrap rtl\"><div class=\"contnr c1  rtl  \" ><div class=\"lbl c1  \" ><a href=\"#\" class=\"nd\">phrase_atom:935397</a></div><div class=\"children hor wrap rtl\"><div class=\"contnr c0 trm rtl  \" ><div class=\"lbl c0 trm \" ><a href=\"#\" class=\"nd\">48421</a> <a class=\" txtu hbo\" target=\"_blank\" href=\"https://shebanq.ancient-data.org/hebrew/word?version=c&amp;id=1W\" title=\"Show this on SHEBANQ\"><span class=\"txtu hbo\">וְ</span></a></div></div></div></div><div class=\"contnr c1  rtl  \" ><div class=\"lbl c1  \" ><a href=\"#\" class=\"nd\">phrase_atom:935398</a></div><div class=\"children hor wrap rtl\"><div class=\"contnr c0 trm rtl  hl\" ><div class=\"lbl c0 trm hl\" ><a href=\"#\" class=\"nd\">48422</a> <a class=\" txtu hbo\" target=\"_blank\" href=\"https://shebanq.ancient-data.org/hebrew/word?version=c&amp;id=1AXRn\" title=\"Show this on SHEBANQ\"><span class=\"txtu hbo\">אַחֲרֵי־</span></a></div></div><div class=\"contnr c0 trm rtl  hl\" ><div class=\"lbl c0 trm hl\" ><a href=\"#\" class=\"nd\">48423</a> <a class=\" txtu hbo\" target=\"_blank\" href=\"https://shebanq.ancient-data.org/hebrew/word?version=c&amp;id=1KN\" title=\"Show this on SHEBANQ\"><span class=\"txtu hbo\">כֵ֥ן </span></a></div></div></div></div><div class=\"contnr c1  rtl  \" ><div class=\"lbl c1  \" ><a href=\"#\" class=\"nd\">phrase_atom:935399</a></div><div class=\"children hor wrap rtl\"><div class=\"contnr c0 trm rtl  \" ><div class=\"lbl c0 trm \" ><a href=\"#\" class=\"nd\">48424</a> <a class=\" txtu hbo\" target=\"_blank\" href=\"https://shebanq.ancient-data.org/hebrew/word?version=c&amp;id=1NGCv\" title=\"Show this on SHEBANQ\"><span class=\"txtu hbo\">נִגְּשׁ֖וּ </span></a></div></div></div></div><div class=\"contnr c1  rtl  \" ><div class=\"lbl c1  \" ><a href=\"#\" class=\"nd\">phrase_atom:935400</a></div><div class=\"children hor wrap rtl\"><div class=\"contnr c0 trm rtl  \" ><div class=\"lbl c0 trm \" ><a href=\"#\" class=\"nd\">48425</a> <a class=\" txtu hbo\" target=\"_blank\" href=\"https://shebanq.ancient-data.org/hebrew/word?version=c&amp;id=1KLn\" title=\"Show this on SHEBANQ\"><span class=\"txtu hbo\">כָּל־</span></a></div></div><div class=\"contnr c0 trm rtl  \" ><div class=\"lbl c0 trm \" ><a href=\"#\" class=\"nd\">48426</a> <a class=\" txtu hbo\" target=\"_blank\" href=\"https://shebanq.ancient-data.org/hebrew/word?version=c&amp;id=1BNn\" title=\"Show this on SHEBANQ\"><span class=\"txtu hbo\">בְּנֵ֣י </span></a></div></div><div class=\"contnr c0 trm rtl  \" ><div class=\"lbl c0 trm \" ><a href=\"#\" class=\"nd\">48427</a> <a class=\" txtu hbo\" target=\"_blank\" href=\"https://shebanq.ancient-data.org/hebrew/word?version=c&amp;id=1JFRALn\" title=\"Show this on SHEBANQ\"><span class=\"txtu hbo\">יִשְׂרָאֵ֑ל </span></a></div></div></div></div></div></div></div></div></div>ESV: Afterward all the people of Israel came near , and he commanded them all that the Lord had spoken with him in Mount Sinai .<br>"
   ]
  },
  {
   "cell_type": "code",
   "execution_count": null,
   "metadata": {},
   "outputs": [],
   "source": [
    "save(437295,\n",
    "\n",
    "{'functions': ['posterior'],\n",
    " 'preps': [['>XR/', 48422]],\n",
    " 'refs': [['DEICTIC', 48423]],\n",
    " 'slots': [48422, 48423],\n",
    " 'times': [48423]}\n",
    "\n",
    ")"
   ]
  },
  {
   "cell_type": "markdown",
   "metadata": {},
   "source": [
    "<div class=\"tfsechead rtl\"><a target=\"_blank\" href=\"https://shebanq.ancient-data.org/hebrew/text?book=Exodus&amp;chapter=35&amp;verse=2&amp;version=c&amp;mr=m&amp;qw=q&amp;tp=txt_p&amp;tr=hb&amp;wget=v&amp;qget=v&amp;nget=vt\" title=\"Show this on SHEBANQ\" sec=\"Exodus 35:2\">Exodus 35:2</a></div><div class=\"rtl children\"><div class=\"contnr c2  rtl  \" ><div class=\"lbl c2  \" ><a href=\"#\" class=\"nd\">clause:437318</a></div><div class=\"children hor wrap rtl\"><div class=\"contnr c1  rtl  \" ><div class=\"lbl c1  \" ><a href=\"#\" class=\"nd\">clause_atom:525694</a></div><div class=\"children hor wrap rtl\"><div class=\"contnr c1  rtl  \" ><div class=\"lbl c1  \" ><a href=\"#\" class=\"nd\">phrase_atom:935463</a></div><div class=\"children hor wrap rtl\"><div class=\"contnr c0 trm rtl  hl\" ><div class=\"lbl c0 trm hl\" ><a href=\"#\" class=\"nd\">48521</a> <a class=\" txtu hbo\" target=\"_blank\" href=\"https://shebanq.ancient-data.org/hebrew/word?version=c&amp;id=1CCn\" title=\"Show this on SHEBANQ\"><span class=\"txtu hbo\">שֵׁ֣שֶׁת </span></a></div></div><div class=\"contnr c0 trm rtl  hl\" ><div class=\"lbl c0 trm hl\" ><a href=\"#\" class=\"nd\">48522</a> <a class=\" txtu hbo\" target=\"_blank\" href=\"https://shebanq.ancient-data.org/hebrew/word?version=c&amp;id=1JWMn\" title=\"Show this on SHEBANQ\"><span class=\"txtu hbo\">יָמִים֮ </span></a></div></div></div></div><div class=\"contnr c1  rtl  \" ><div class=\"lbl c1  \" ><a href=\"#\" class=\"nd\">phrase_atom:935464</a></div><div class=\"children hor wrap rtl\"><div class=\"contnr c0 trm rtl  \" ><div class=\"lbl c0 trm \" ><a href=\"#\" class=\"nd\">48523</a> <a class=\" txtu hbo\" target=\"_blank\" href=\"https://shebanq.ancient-data.org/hebrew/word?version=c&amp;id=1OFHv\" title=\"Show this on SHEBANQ\"><span class=\"txtu hbo\">תֵּעָשֶׂ֣ה </span></a></div></div></div></div><div class=\"contnr c1  rtl  \" ><div class=\"lbl c1  \" ><a href=\"#\" class=\"nd\">phrase_atom:935465</a></div><div class=\"children hor wrap rtl\"><div class=\"contnr c0 trm rtl  \" ><div class=\"lbl c0 trm \" ><a href=\"#\" class=\"nd\">48524</a> <a class=\" txtu hbo\" target=\"_blank\" href=\"https://shebanq.ancient-data.org/hebrew/word?version=c&amp;id=1MLAKHn\" title=\"Show this on SHEBANQ\"><span class=\"txtu hbo\">מְלָאכָה֒ </span></a></div></div></div></div></div></div></div></div></div>ESV: Six days work shall be done , but on the seventh day you shall have a Sabbath of solemn rest , holy to the Lord . Whoever does any work on it shall be put to death .<br>"
   ]
  },
  {
   "cell_type": "code",
   "execution_count": null,
   "metadata": {},
   "outputs": [],
   "source": [
    "save(437318,\n",
    "\n",
    "{'functions': ['atelic_ext'],\n",
    " 'quals': ['durative'],\n",
    " 'quants': [['NUMQ', 48521]],\n",
    " 'slots': [48521, 48522],\n",
    " 'times': [48522]}\n",
    "\n",
    ")"
   ]
  },
  {
   "cell_type": "markdown",
   "metadata": {},
   "source": [
    "<div class=\"tfsechead rtl\"><a target=\"_blank\" href=\"https://shebanq.ancient-data.org/hebrew/text?book=Exodus&amp;chapter=35&amp;verse=2&amp;version=c&amp;mr=m&amp;qw=q&amp;tp=txt_p&amp;tr=hb&amp;wget=v&amp;qget=v&amp;nget=vt\" title=\"Show this on SHEBANQ\" sec=\"Exodus 35:2\">Exodus 35:2</a></div><div class=\"rtl children\"><div class=\"contnr c2  rtl  \" ><div class=\"lbl c2  \" ><a href=\"#\" class=\"nd\">clause:437319</a></div><div class=\"children hor wrap rtl\"><div class=\"contnr c1  rtl  \" ><div class=\"lbl c1  \" ><a href=\"#\" class=\"nd\">clause_atom:525695</a></div><div class=\"children hor wrap rtl\"><div class=\"contnr c1  rtl  \" ><div class=\"lbl c1  \" ><a href=\"#\" class=\"nd\">phrase_atom:935466</a></div><div class=\"children hor wrap rtl\"><div class=\"contnr c0 trm rtl  \" ><div class=\"lbl c0 trm \" ><a href=\"#\" class=\"nd\">48525</a> <a class=\" txtu hbo\" target=\"_blank\" href=\"https://shebanq.ancient-data.org/hebrew/word?version=c&amp;id=1W\" title=\"Show this on SHEBANQ\"><span class=\"txtu hbo\">וּ</span></a></div></div></div></div><div class=\"contnr c1  rtl  \" ><div class=\"lbl c1  \" ><a href=\"#\" class=\"nd\">phrase_atom:935467</a></div><div class=\"children hor wrap rtl\"><div class=\"contnr c0 trm rtl  hl\" ><div class=\"lbl c0 trm hl\" ><a href=\"#\" class=\"nd\">48526</a> <a class=\" txtu hbo\" target=\"_blank\" href=\"https://shebanq.ancient-data.org/hebrew/word?version=c&amp;id=1B\" title=\"Show this on SHEBANQ\"><span class=\"txtu hbo\">בַ</span></a></div></div><div class=\"contnr c0 trm rtl  hl\" ><div class=\"lbl c0 trm hl\" ><a href=\"#\" class=\"nd\">48527</a> <a class=\" txtu hbo\" target=\"_blank\" href=\"https://shebanq.ancient-data.org/hebrew/word?version=c&amp;id=1H\" title=\"Show this on SHEBANQ\"></a></div></div><div class=\"contnr c0 trm rtl  hl\" ><div class=\"lbl c0 trm hl\" ><a href=\"#\" class=\"nd\">48528</a> <a class=\" txtu hbo\" target=\"_blank\" href=\"https://shebanq.ancient-data.org/hebrew/word?version=c&amp;id=1JWMn\" title=\"Show this on SHEBANQ\"><span class=\"txtu hbo\">יֹּ֣ום </span></a></div></div><div class=\"contnr c0 trm rtl  \" ><div class=\"lbl c0 trm \" ><a href=\"#\" class=\"nd\">48529</a> <a class=\" txtu hbo\" target=\"_blank\" href=\"https://shebanq.ancient-data.org/hebrew/word?version=c&amp;id=1H\" title=\"Show this on SHEBANQ\"><span class=\"txtu hbo\">הַ</span></a></div></div><div class=\"contnr c0 trm rtl  hl\" ><div class=\"lbl c0 trm hl\" ><a href=\"#\" class=\"nd\">48530</a> <a class=\" txtu hbo\" target=\"_blank\" href=\"https://shebanq.ancient-data.org/hebrew/word?version=c&amp;id=1CBJOJn\" title=\"Show this on SHEBANQ\"><span class=\"txtu hbo\">שְּׁבִיעִ֗י </span></a></div></div></div></div><div class=\"contnr c1  rtl  \" ><div class=\"lbl c1  \" ><a href=\"#\" class=\"nd\">phrase_atom:935468</a></div><div class=\"children hor wrap rtl\"><div class=\"contnr c0 trm rtl  \" ><div class=\"lbl c0 trm \" ><a href=\"#\" class=\"nd\">48531</a> <a class=\" txtu hbo\" target=\"_blank\" href=\"https://shebanq.ancient-data.org/hebrew/word?version=c&amp;id=1HJHv\" title=\"Show this on SHEBANQ\"><span class=\"txtu hbo\">יִהְיֶ֨ה </span></a></div></div></div></div><div class=\"contnr c1  rtl  \" ><div class=\"lbl c1  \" ><a href=\"#\" class=\"nd\">phrase_atom:935469</a></div><div class=\"children hor wrap rtl\"><div class=\"contnr c0 trm rtl  \" ><div class=\"lbl c0 trm \" ><a href=\"#\" class=\"nd\">48532</a> <a class=\" txtu hbo\" target=\"_blank\" href=\"https://shebanq.ancient-data.org/hebrew/word?version=c&amp;id=1L\" title=\"Show this on SHEBANQ\"><span class=\"txtu hbo\">לָכֶ֥ם </span></a></div></div></div></div><div class=\"contnr c1  rtl  \" ><div class=\"lbl c1  \" ><a href=\"#\" class=\"nd\">phrase_atom:935470</a></div><div class=\"children hor wrap rtl\"><div class=\"contnr c0 trm rtl  \" ><div class=\"lbl c0 trm \" ><a href=\"#\" class=\"nd\">48533</a> <a class=\" txtu hbo\" target=\"_blank\" href=\"https://shebanq.ancient-data.org/hebrew/word?version=c&amp;id=1QDCn\" title=\"Show this on SHEBANQ\"><span class=\"txtu hbo\">קֹ֛דֶשׁ </span></a></div></div></div></div><div class=\"contnr c1  rtl  \" ><div class=\"lbl c1  \" ><a href=\"#\" class=\"nd\">phrase_atom:935471</a></div><div class=\"children hor wrap rtl\"><div class=\"contnr c0 trm rtl  \" ><div class=\"lbl c0 trm \" ><a href=\"#\" class=\"nd\">48534</a> <a class=\" txtu hbo\" target=\"_blank\" href=\"https://shebanq.ancient-data.org/hebrew/word?version=c&amp;id=1CBTn\" title=\"Show this on SHEBANQ\"><span class=\"txtu hbo\">שַׁבַּ֥ת </span></a></div></div><div class=\"contnr c0 trm rtl  \" ><div class=\"lbl c0 trm \" ><a href=\"#\" class=\"nd\">48535</a> <a class=\" txtu hbo\" target=\"_blank\" href=\"https://shebanq.ancient-data.org/hebrew/word?version=c&amp;id=1CBTWNn\" title=\"Show this on SHEBANQ\"><span class=\"txtu hbo\">שַׁבָּתֹ֖ון </span></a></div></div></div></div><div class=\"contnr c1  rtl  \" ><div class=\"lbl c1  \" ><a href=\"#\" class=\"nd\">phrase_atom:935472</a></div><div class=\"children hor wrap rtl\"><div class=\"contnr c0 trm rtl  \" ><div class=\"lbl c0 trm \" ><a href=\"#\" class=\"nd\">48536</a> <a class=\" txtu hbo\" target=\"_blank\" href=\"https://shebanq.ancient-data.org/hebrew/word?version=c&amp;id=1L\" title=\"Show this on SHEBANQ\"><span class=\"txtu hbo\">לַ</span></a></div></div><div class=\"contnr c0 trm rtl  \" ><div class=\"lbl c0 trm \" ><a href=\"#\" class=\"nd\">48537</a> <a class=\" txtu hbo\" target=\"_blank\" href=\"https://shebanq.ancient-data.org/hebrew/word?version=c&amp;id=1JHWHn\" title=\"Show this on SHEBANQ\"><span class=\"txtu hbo\">יהוָ֑ה </span></a></div></div></div></div></div></div></div></div></div>ESV: Six days work shall be done , but on the seventh day you shall have a Sabbath of solemn rest , holy to the Lord . Whoever does any work on it shall be put to death .<br>"
   ]
  },
  {
   "cell_type": "code",
   "execution_count": null,
   "metadata": {},
   "outputs": [],
   "source": [
    "save(437319,\n",
    "\n",
    "{'functions': ['simultaneous'],\n",
    " 'preps': [['B', 48526]],\n",
    " 'refs': [['ORDN', 48530], ['THE', 48527]],\n",
    " 'slots': [48526, 48527, 48528, 48530],\n",
    " 'times': [48528]}\n",
    "\n",
    ")"
   ]
  },
  {
   "cell_type": "markdown",
   "metadata": {},
   "source": [
    "<div class=\"tfsechead rtl\"><a target=\"_blank\" href=\"https://shebanq.ancient-data.org/hebrew/text?book=Exodus&amp;chapter=35&amp;verse=3&amp;version=c&amp;mr=m&amp;qw=q&amp;tp=txt_p&amp;tr=hb&amp;wget=v&amp;qget=v&amp;nget=vt\" title=\"Show this on SHEBANQ\" sec=\"Exodus 35:3\">Exodus 35:3</a></div><div class=\"rtl children\"><div class=\"contnr c2  rtl  \" ><div class=\"lbl c2  \" ><a href=\"#\" class=\"nd\">clause:437322</a></div><div class=\"children hor wrap rtl\"><div class=\"contnr c1  rtl  \" ><div class=\"lbl c1  \" ><a href=\"#\" class=\"nd\">clause_atom:525699</a></div><div class=\"children hor wrap rtl\"><div class=\"contnr c1  rtl  \" ><div class=\"lbl c1  \" ><a href=\"#\" class=\"nd\">phrase_atom:935479</a></div><div class=\"children hor wrap rtl\"><div class=\"contnr c0 trm rtl  \" ><div class=\"lbl c0 trm \" ><a href=\"#\" class=\"nd\">48544</a> <a class=\" txtu hbo\" target=\"_blank\" href=\"https://shebanq.ancient-data.org/hebrew/word?version=c&amp;id=1LA\" title=\"Show this on SHEBANQ\"><span class=\"txtu hbo\">לֹא־</span></a></div></div></div></div><div class=\"contnr c1  rtl  \" ><div class=\"lbl c1  \" ><a href=\"#\" class=\"nd\">phrase_atom:935480</a></div><div class=\"children hor wrap rtl\"><div class=\"contnr c0 trm rtl  \" ><div class=\"lbl c0 trm \" ><a href=\"#\" class=\"nd\">48545</a> <a class=\" txtu hbo\" target=\"_blank\" href=\"https://shebanq.ancient-data.org/hebrew/word?version=c&amp;id=1BORv\" title=\"Show this on SHEBANQ\"><span class=\"txtu hbo\">תְבַעֲר֣וּ </span></a></div></div></div></div><div class=\"contnr c1  rtl  \" ><div class=\"lbl c1  \" ><a href=\"#\" class=\"nd\">phrase_atom:935481</a></div><div class=\"children hor wrap rtl\"><div class=\"contnr c0 trm rtl  \" ><div class=\"lbl c0 trm \" ><a href=\"#\" class=\"nd\">48546</a> <a class=\" txtu hbo\" target=\"_blank\" href=\"https://shebanq.ancient-data.org/hebrew/word?version=c&amp;id=1ACn\" title=\"Show this on SHEBANQ\"><span class=\"txtu hbo\">אֵ֔שׁ </span></a></div></div></div></div><div class=\"contnr c1  rtl  \" ><div class=\"lbl c1  \" ><a href=\"#\" class=\"nd\">phrase_atom:935482</a></div><div class=\"children hor wrap rtl\"><div class=\"contnr c0 trm rtl  \" ><div class=\"lbl c0 trm \" ><a href=\"#\" class=\"nd\">48547</a> <a class=\" txtu hbo\" target=\"_blank\" href=\"https://shebanq.ancient-data.org/hebrew/word?version=c&amp;id=1B\" title=\"Show this on SHEBANQ\"><span class=\"txtu hbo\">בְּ</span></a></div></div><div class=\"contnr c0 trm rtl  \" ><div class=\"lbl c0 trm \" ><a href=\"#\" class=\"nd\">48548</a> <a class=\" txtu hbo\" target=\"_blank\" href=\"https://shebanq.ancient-data.org/hebrew/word?version=c&amp;id=1KLn\" title=\"Show this on SHEBANQ\"><span class=\"txtu hbo\">כֹ֖ל </span></a></div></div><div class=\"contnr c0 trm rtl  \" ><div class=\"lbl c0 trm \" ><a href=\"#\" class=\"nd\">48549</a> <a class=\" txtu hbo\" target=\"_blank\" href=\"https://shebanq.ancient-data.org/hebrew/word?version=c&amp;id=1MWCBn\" title=\"Show this on SHEBANQ\"><span class=\"txtu hbo\">מֹשְׁבֹֽתֵיכֶ֑ם </span></a></div></div></div></div><div class=\"contnr c1  rtl  \" ><div class=\"lbl c1  \" ><a href=\"#\" class=\"nd\">phrase_atom:935483</a></div><div class=\"children hor wrap rtl\"><div class=\"contnr c0 trm rtl  hl\" ><div class=\"lbl c0 trm hl\" ><a href=\"#\" class=\"nd\">48550</a> <a class=\" txtu hbo\" target=\"_blank\" href=\"https://shebanq.ancient-data.org/hebrew/word?version=c&amp;id=1B\" title=\"Show this on SHEBANQ\"><span class=\"txtu hbo\">בְּ</span></a></div></div><div class=\"contnr c0 trm rtl  hl\" ><div class=\"lbl c0 trm hl\" ><a href=\"#\" class=\"nd\">48551</a> <a class=\" txtu hbo\" target=\"_blank\" href=\"https://shebanq.ancient-data.org/hebrew/word?version=c&amp;id=1JWMn\" title=\"Show this on SHEBANQ\"><span class=\"txtu hbo\">יֹ֖ום </span></a></div></div><div class=\"contnr c0 trm rtl  hl\" ><div class=\"lbl c0 trm hl\" ><a href=\"#\" class=\"nd\">48552</a> <a class=\" txtu hbo\" target=\"_blank\" href=\"https://shebanq.ancient-data.org/hebrew/word?version=c&amp;id=1H\" title=\"Show this on SHEBANQ\"><span class=\"txtu hbo\">הַ</span></a></div></div><div class=\"contnr c0 trm rtl  hl\" ><div class=\"lbl c0 trm hl\" ><a href=\"#\" class=\"nd\">48553</a> <a class=\" txtu hbo\" target=\"_blank\" href=\"https://shebanq.ancient-data.org/hebrew/word?version=c&amp;id=1CBTn\" title=\"Show this on SHEBANQ\"><span class=\"txtu hbo\">שַּׁבָּֽת׃ פ </span></a></div></div></div></div></div></div></div></div></div>ESV: You shall kindle no fire in all your dwelling places on the Sabbath day . ”<br>"
   ]
  },
  {
   "cell_type": "code",
   "execution_count": null,
   "metadata": {},
   "outputs": [],
   "source": [
    "save(437322,\n",
    "\n",
    "{'functions': ['simultaneous'],\n",
    " 'preps': [['B', 48550]],\n",
    " 'refs': [['GEN', [48552, 48553, 'DEF']]],\n",
    " 'slots': [48550, 48551, 48552, 48553],\n",
    " 'times': [48551]}\n",
    "\n",
    ")"
   ]
  },
  {
   "cell_type": "markdown",
   "metadata": {},
   "source": [
    "<div class=\"tfsechead rtl\"><a target=\"_blank\" href=\"https://shebanq.ancient-data.org/hebrew/text?book=Exodus&amp;chapter=36&amp;verse=3&amp;version=c&amp;mr=m&amp;qw=q&amp;tp=txt_p&amp;tr=hb&amp;wget=v&amp;qget=v&amp;nget=vt\" title=\"Show this on SHEBANQ\" sec=\"Exodus 36:3\">Exodus 36:3</a></div><div class=\"rtl children\"><div class=\"contnr c2  rtl  \" ><div class=\"lbl c2  \" ><a href=\"#\" class=\"nd\">clause:437404</a></div><div class=\"children hor wrap rtl\"><div class=\"contnr c1  rtl  \" ><div class=\"lbl c1  \" ><a href=\"#\" class=\"nd\">clause_atom:525791</a></div><div class=\"children hor wrap rtl\"><div class=\"contnr c1  rtl  \" ><div class=\"lbl c1  \" ><a href=\"#\" class=\"nd\">phrase_atom:935734</a></div><div class=\"children hor wrap rtl\"><div class=\"contnr c0 trm rtl  \" ><div class=\"lbl c0 trm \" ><a href=\"#\" class=\"nd\">49248</a> <a class=\" txtu hbo\" target=\"_blank\" href=\"https://shebanq.ancient-data.org/hebrew/word?version=c&amp;id=1W\" title=\"Show this on SHEBANQ\"><span class=\"txtu hbo\">וְ֠</span></a></div></div></div></div><div class=\"contnr c1  rtl  \" ><div class=\"lbl c1  \" ><a href=\"#\" class=\"nd\">phrase_atom:935735</a></div><div class=\"children hor wrap rtl\"><div class=\"contnr c0 trm rtl  \" ><div class=\"lbl c0 trm \" ><a href=\"#\" class=\"nd\">49249</a> <a class=\" txtu hbo\" target=\"_blank\" href=\"https://shebanq.ancient-data.org/hebrew/word?version=c&amp;id=1HM\" title=\"Show this on SHEBANQ\"><span class=\"txtu hbo\">הֵם </span></a></div></div></div></div><div class=\"contnr c1  rtl  \" ><div class=\"lbl c1  \" ><a href=\"#\" class=\"nd\">phrase_atom:935736</a></div><div class=\"children hor wrap rtl\"><div class=\"contnr c0 trm rtl  \" ><div class=\"lbl c0 trm \" ><a href=\"#\" class=\"nd\">49250</a> <a class=\" txtu hbo\" target=\"_blank\" href=\"https://shebanq.ancient-data.org/hebrew/word?version=c&amp;id=1BWAv\" title=\"Show this on SHEBANQ\"><span class=\"txtu hbo\">הֵבִ֨יאוּ </span></a></div></div></div></div><div class=\"contnr c1  rtl  \" ><div class=\"lbl c1  \" ><a href=\"#\" class=\"nd\">phrase_atom:935737</a></div><div class=\"children hor wrap rtl\"><div class=\"contnr c0 trm rtl  \" ><div class=\"lbl c0 trm \" ><a href=\"#\" class=\"nd\">49251</a> <a class=\" txtu hbo\" target=\"_blank\" href=\"https://shebanq.ancient-data.org/hebrew/word?version=c&amp;id=1AL\" title=\"Show this on SHEBANQ\"><span class=\"txtu hbo\">אֵלָ֥יו </span></a></div></div></div></div><div class=\"contnr c1  rtl  \" ><div class=\"lbl c1  \" ><a href=\"#\" class=\"nd\">phrase_atom:935738</a></div><div class=\"children hor wrap rtl\"><div class=\"contnr c0 trm rtl  \" ><div class=\"lbl c0 trm \" ><a href=\"#\" class=\"nd\">49252</a> <a class=\" txtu hbo\" target=\"_blank\" href=\"https://shebanq.ancient-data.org/hebrew/word?version=c&amp;id=1OWDn\" title=\"Show this on SHEBANQ\"><span class=\"txtu hbo\">עֹ֛וד </span></a></div></div></div></div><div class=\"contnr c1  rtl  \" ><div class=\"lbl c1  \" ><a href=\"#\" class=\"nd\">phrase_atom:935739</a></div><div class=\"children hor wrap rtl\"><div class=\"contnr c0 trm rtl  \" ><div class=\"lbl c0 trm \" ><a href=\"#\" class=\"nd\">49253</a> <a class=\" txtu hbo\" target=\"_blank\" href=\"https://shebanq.ancient-data.org/hebrew/word?version=c&amp;id=1NDBHn\" title=\"Show this on SHEBANQ\"><span class=\"txtu hbo\">נְדָבָ֖ה </span></a></div></div></div></div><div class=\"contnr c1  rtl  \" ><div class=\"lbl c1  \" ><a href=\"#\" class=\"nd\">phrase_atom:935740</a></div><div class=\"children hor wrap rtl\"><div class=\"contnr c0 trm rtl  hl\" ><div class=\"lbl c0 trm hl\" ><a href=\"#\" class=\"nd\">49254</a> <a class=\" txtu hbo\" target=\"_blank\" href=\"https://shebanq.ancient-data.org/hebrew/word?version=c&amp;id=1B\" title=\"Show this on SHEBANQ\"><span class=\"txtu hbo\">בַּ</span></a></div></div><div class=\"contnr c0 trm rtl  hl\" ><div class=\"lbl c0 trm hl\" ><a href=\"#\" class=\"nd\">49255</a> <a class=\" txtu hbo\" target=\"_blank\" href=\"https://shebanq.ancient-data.org/hebrew/word?version=c&amp;id=1H\" title=\"Show this on SHEBANQ\"></a></div></div><div class=\"contnr c0 trm rtl  hl\" ><div class=\"lbl c0 trm hl\" ><a href=\"#\" class=\"nd\">49256</a> <a class=\" txtu hbo\" target=\"_blank\" href=\"https://shebanq.ancient-data.org/hebrew/word?version=c&amp;id=1BQRin\" title=\"Show this on SHEBANQ\"><span class=\"txtu hbo\">בֹּ֥קֶר </span></a></div></div><div class=\"contnr c0 trm rtl  hl\" ><div class=\"lbl c0 trm hl\" ><a href=\"#\" class=\"nd\">49257</a> <a class=\" txtu hbo\" target=\"_blank\" href=\"https://shebanq.ancient-data.org/hebrew/word?version=c&amp;id=1B\" title=\"Show this on SHEBANQ\"><span class=\"txtu hbo\">בַּ</span></a></div></div><div class=\"contnr c0 trm rtl  hl\" ><div class=\"lbl c0 trm hl\" ><a href=\"#\" class=\"nd\">49258</a> <a class=\" txtu hbo\" target=\"_blank\" href=\"https://shebanq.ancient-data.org/hebrew/word?version=c&amp;id=1H\" title=\"Show this on SHEBANQ\"></a></div></div><div class=\"contnr c0 trm rtl  hl\" ><div class=\"lbl c0 trm hl\" ><a href=\"#\" class=\"nd\">49259</a> <a class=\" txtu hbo\" target=\"_blank\" href=\"https://shebanq.ancient-data.org/hebrew/word?version=c&amp;id=1BQRin\" title=\"Show this on SHEBANQ\"><span class=\"txtu hbo\">בֹּֽקֶר׃ </span></a></div></div></div></div></div></div></div></div></div>ESV: And they received from Moses all the contribution that the people of Israel had brought for doing the work on the sanctuary . They still kept bringing him freewill offerings every morning ,<br>"
   ]
  },
  {
   "cell_type": "code",
   "execution_count": null,
   "metadata": {},
   "outputs": [],
   "source": [
    "save(437404,\n",
    "\n",
    "{'functions': ['simul_habitual, multi_simul'],\n",
    " 'quals': ['iterative'],\n",
    " 'slots': [49254, 49255, 49256, 49257, 49258, 49259],\n",
    " 'times': [{'functions': ['simultaneous'],\n",
    "            'preps': [['B', 49254]],\n",
    "            'refs': [['THE', 49255]],\n",
    "            'slots': [49254, 49255, 49256],\n",
    "            'times': [49256]},\n",
    "           {'duplicate': True,\n",
    "            'functions': ['simultaneous'],\n",
    "            'preps': [['B', 49257]],\n",
    "            'refs': [['THE', 49258]],\n",
    "            'slots': [49257, 49258, 49259],\n",
    "            'times': [49259]}]}\n",
    "\n",
    ")"
   ]
  },
  {
   "cell_type": "markdown",
   "metadata": {},
   "source": [
    "<div class=\"tfsechead rtl\"><a target=\"_blank\" href=\"https://shebanq.ancient-data.org/hebrew/text?book=Exodus&amp;chapter=40&amp;verse=2&amp;version=c&amp;mr=m&amp;qw=q&amp;tp=txt_p&amp;tr=hb&amp;wget=v&amp;qget=v&amp;nget=vt\" title=\"Show this on SHEBANQ\" sec=\"Exodus 40:2\">Exodus 40:2</a></div><div class=\"rtl children\"><div class=\"contnr c2  rtl  \" ><div class=\"lbl c2  \" ><a href=\"#\" class=\"nd\">clause:437770</a></div><div class=\"children hor wrap rtl\"><div class=\"contnr c1  rtl  \" ><div class=\"lbl c1  \" ><a href=\"#\" class=\"nd\">clause_atom:526167</a></div><div class=\"children hor wrap rtl\"><div class=\"contnr c1  rtl  \" ><div class=\"lbl c1  \" ><a href=\"#\" class=\"nd\">phrase_atom:936940</a></div><div class=\"children hor wrap rtl\"><div class=\"contnr c0 trm rtl  hl\" ><div class=\"lbl c0 trm hl\" ><a href=\"#\" class=\"nd\">51869</a> <a class=\" txtu hbo\" target=\"_blank\" href=\"https://shebanq.ancient-data.org/hebrew/word?version=c&amp;id=1B\" title=\"Show this on SHEBANQ\"><span class=\"txtu hbo\">בְּ</span></a></div></div><div class=\"contnr c0 trm rtl  hl\" ><div class=\"lbl c0 trm hl\" ><a href=\"#\" class=\"nd\">51870</a> <a class=\" txtu hbo\" target=\"_blank\" href=\"https://shebanq.ancient-data.org/hebrew/word?version=c&amp;id=1JWMn\" title=\"Show this on SHEBANQ\"><span class=\"txtu hbo\">יֹום־</span></a></div></div><div class=\"contnr c0 trm rtl  hl\" ><div class=\"lbl c0 trm hl\" ><a href=\"#\" class=\"nd\">51871</a> <a class=\" txtu hbo\" target=\"_blank\" href=\"https://shebanq.ancient-data.org/hebrew/word?version=c&amp;id=1H\" title=\"Show this on SHEBANQ\"><span class=\"txtu hbo\">הַ</span></a></div></div><div class=\"contnr c0 trm rtl  hl\" ><div class=\"lbl c0 trm hl\" ><a href=\"#\" class=\"nd\">51872</a> <a class=\" txtu hbo\" target=\"_blank\" href=\"https://shebanq.ancient-data.org/hebrew/word?version=c&amp;id=1XDCin\" title=\"Show this on SHEBANQ\"><span class=\"txtu hbo\">חֹ֥דֶשׁ </span></a></div></div><div class=\"contnr c0 trm rtl  hl\" ><div class=\"lbl c0 trm hl\" ><a href=\"#\" class=\"nd\">51873</a> <a class=\" txtu hbo\" target=\"_blank\" href=\"https://shebanq.ancient-data.org/hebrew/word?version=c&amp;id=1H\" title=\"Show this on SHEBANQ\"><span class=\"txtu hbo\">הָ</span></a></div></div><div class=\"contnr c0 trm rtl  hl\" ><div class=\"lbl c0 trm hl\" ><a href=\"#\" class=\"nd\">51874</a> <a class=\" txtu hbo\" target=\"_blank\" href=\"https://shebanq.ancient-data.org/hebrew/word?version=c&amp;id=1RACWNn\" title=\"Show this on SHEBANQ\"><span class=\"txtu hbo\">רִאשֹׁ֖ון </span></a></div></div></div></div><div class=\"contnr c1  rtl  \" ><div class=\"lbl c1  \" ><a href=\"#\" class=\"nd\">phrase_atom:936941</a></div><div class=\"children hor wrap rtl\"><div class=\"contnr c0 trm rtl  hl\" ><div class=\"lbl c0 trm hl\" ><a href=\"#\" class=\"nd\">51875</a> <a class=\" txtu hbo\" target=\"_blank\" href=\"https://shebanq.ancient-data.org/hebrew/word?version=c&amp;id=1B\" title=\"Show this on SHEBANQ\"><span class=\"txtu hbo\">בְּ</span></a></div></div><div class=\"contnr c0 trm rtl  hl\" ><div class=\"lbl c0 trm hl\" ><a href=\"#\" class=\"nd\">51876</a> <a class=\" txtu hbo\" target=\"_blank\" href=\"https://shebanq.ancient-data.org/hebrew/word?version=c&amp;id=1AXDn\" title=\"Show this on SHEBANQ\"><span class=\"txtu hbo\">אֶחָ֣ד </span></a></div></div></div></div><div class=\"contnr c1  rtl  \" ><div class=\"lbl c1  \" ><a href=\"#\" class=\"nd\">phrase_atom:936942</a></div><div class=\"children hor wrap rtl\"><div class=\"contnr c0 trm rtl  hl\" ><div class=\"lbl c0 trm hl\" ><a href=\"#\" class=\"nd\">51877</a> <a class=\" txtu hbo\" target=\"_blank\" href=\"https://shebanq.ancient-data.org/hebrew/word?version=c&amp;id=1L\" title=\"Show this on SHEBANQ\"><span class=\"txtu hbo\">לַ</span></a></div></div><div class=\"contnr c0 trm rtl  hl\" ><div class=\"lbl c0 trm hl\" ><a href=\"#\" class=\"nd\">51878</a> <a class=\" txtu hbo\" target=\"_blank\" href=\"https://shebanq.ancient-data.org/hebrew/word?version=c&amp;id=1H\" title=\"Show this on SHEBANQ\"></a></div></div><div class=\"contnr c0 trm rtl  hl\" ><div class=\"lbl c0 trm hl\" ><a href=\"#\" class=\"nd\">51879</a> <a class=\" txtu hbo\" target=\"_blank\" href=\"https://shebanq.ancient-data.org/hebrew/word?version=c&amp;id=1XDCin\" title=\"Show this on SHEBANQ\"><span class=\"txtu hbo\">חֹ֑דֶשׁ </span></a></div></div></div></div><div class=\"contnr c1  rtl  \" ><div class=\"lbl c1  \" ><a href=\"#\" class=\"nd\">phrase_atom:936943</a></div><div class=\"children hor wrap rtl\"><div class=\"contnr c0 trm rtl  \" ><div class=\"lbl c0 trm \" ><a href=\"#\" class=\"nd\">51880</a> <a class=\" txtu hbo\" target=\"_blank\" href=\"https://shebanq.ancient-data.org/hebrew/word?version=c&amp;id=1QWMv\" title=\"Show this on SHEBANQ\"><span class=\"txtu hbo\">תָּקִ֕ים </span></a></div></div></div></div><div class=\"contnr c1  rtl  \" ><div class=\"lbl c1  \" ><a href=\"#\" class=\"nd\">phrase_atom:936944</a></div><div class=\"children hor wrap rtl\"><div class=\"contnr c0 trm rtl  \" ><div class=\"lbl c0 trm \" ><a href=\"#\" class=\"nd\">51881</a> <a class=\" txtu hbo\" target=\"_blank\" href=\"https://shebanq.ancient-data.org/hebrew/word?version=c&amp;id=1AT\" title=\"Show this on SHEBANQ\"><span class=\"txtu hbo\">אֶת־</span></a></div></div><div class=\"contnr c0 trm rtl  \" ><div class=\"lbl c0 trm \" ><a href=\"#\" class=\"nd\">51882</a> <a class=\" txtu hbo\" target=\"_blank\" href=\"https://shebanq.ancient-data.org/hebrew/word?version=c&amp;id=1MCKNn\" title=\"Show this on SHEBANQ\"><span class=\"txtu hbo\">מִשְׁכַּ֖ן </span></a></div></div><div class=\"contnr c0 trm rtl  \" ><div class=\"lbl c0 trm \" ><a href=\"#\" class=\"nd\">51883</a> <a class=\" txtu hbo\" target=\"_blank\" href=\"https://shebanq.ancient-data.org/hebrew/word?version=c&amp;id=1AHLn\" title=\"Show this on SHEBANQ\"><span class=\"txtu hbo\">אֹ֥הֶל </span></a></div></div><div class=\"contnr c0 trm rtl  \" ><div class=\"lbl c0 trm \" ><a href=\"#\" class=\"nd\">51884</a> <a class=\" txtu hbo\" target=\"_blank\" href=\"https://shebanq.ancient-data.org/hebrew/word?version=c&amp;id=1MWODn\" title=\"Show this on SHEBANQ\"><span class=\"txtu hbo\">מֹועֵֽד׃ </span></a></div></div></div></div></div></div></div></div></div>ESV: “ On the first day of the first month you shall erect the tabernacle of the tent of meeting .<br>"
   ]
  },
  {
   "cell_type": "code",
   "execution_count": null,
   "metadata": {},
   "outputs": [],
   "source": [
    "save(437770,\n",
    "\n",
    "{'functions': ['multi_simul'],\n",
    " 'slots': [51869,\n",
    "           51870,\n",
    "           51871,\n",
    "           51872,\n",
    "           51873,\n",
    "           51874,\n",
    "           51875,\n",
    "           51876,\n",
    "           51877,\n",
    "           51878,\n",
    "           51879],\n",
    " 'times': [{'functions': ['simultaneous'],\n",
    "            'preps': [['B', 51869]],\n",
    "            'refs': [['GEN',\n",
    "                      [[51873, 51874, 'DEF'], [51871, 51872, 'DEF'], 'APPO']]],\n",
    "            'slots': [51869, 51870, 51871, 51872, 51873, 51874],\n",
    "            'times': [51870]},\n",
    "           {'functions': ['simultaneous'],\n",
    "            'preps': [['B', 51875]],\n",
    "            'refs': [['MONTH',\n",
    "                      {'functions': ['reference'],\n",
    "                       'preps': [['L', 51877]],\n",
    "                       'ref': 'MONTH',\n",
    "                       'refs': [['THE', 51878]],\n",
    "                       'slots': [51877, 51878, 51879],\n",
    "                       'times': [51879]}],\n",
    "                     ['CALNUM', 51876]],\n",
    "            'slots': [51875, 51876, 51877, 51878, 51879],\n",
    "            'times': [51876]}]}\n",
    "\n",
    ")"
   ]
  },
  {
   "cell_type": "markdown",
   "metadata": {},
   "source": [
    "<div class=\"tfsechead rtl\"><a target=\"_blank\" href=\"https://shebanq.ancient-data.org/hebrew/text?book=Exodus&amp;chapter=40&amp;verse=15&amp;version=c&amp;mr=m&amp;qw=q&amp;tp=txt_p&amp;tr=hb&amp;wget=v&amp;qget=v&amp;nget=vt\" title=\"Show this on SHEBANQ\" sec=\"Exodus 40:15\">Exodus 40:15</a></div><div class=\"rtl children\"><div class=\"contnr c2  rtl  \" ><div class=\"lbl c2  \" ><a href=\"#\" class=\"nd\">clause:437806</a></div><div class=\"children hor wrap rtl\"><div class=\"contnr c1  rtl  \" ><div class=\"lbl c1  \" ><a href=\"#\" class=\"nd\">clause_atom:526203</a></div><div class=\"children hor wrap rtl\"><div class=\"contnr c1  rtl  \" ><div class=\"lbl c1  \" ><a href=\"#\" class=\"nd\">phrase_atom:937062</a></div><div class=\"children hor wrap rtl\"><div class=\"contnr c0 trm rtl  \" ><div class=\"lbl c0 trm \" ><a href=\"#\" class=\"nd\">52094</a> <a class=\" txtu hbo\" target=\"_blank\" href=\"https://shebanq.ancient-data.org/hebrew/word?version=c&amp;id=1L\" title=\"Show this on SHEBANQ\"><span class=\"txtu hbo\">לִ</span></a></div></div><div class=\"contnr c0 trm rtl  \" ><div class=\"lbl c0 trm \" ><a href=\"#\" class=\"nd\">52095</a> <a class=\" txtu hbo\" target=\"_blank\" href=\"https://shebanq.ancient-data.org/hebrew/word?version=c&amp;id=1HJHv\" title=\"Show this on SHEBANQ\"><span class=\"txtu hbo\">הְיֹ֨ת </span></a></div></div></div></div><div class=\"contnr c1  rtl  \" ><div class=\"lbl c1  \" ><a href=\"#\" class=\"nd\">phrase_atom:937063</a></div><div class=\"children hor wrap rtl\"><div class=\"contnr c0 trm rtl  \" ><div class=\"lbl c0 trm \" ><a href=\"#\" class=\"nd\">52096</a> <a class=\" txtu hbo\" target=\"_blank\" href=\"https://shebanq.ancient-data.org/hebrew/word?version=c&amp;id=1L\" title=\"Show this on SHEBANQ\"><span class=\"txtu hbo\">לָהֶ֧ם </span></a></div></div></div></div><div class=\"contnr c1  rtl  \" ><div class=\"lbl c1  \" ><a href=\"#\" class=\"nd\">phrase_atom:937064</a></div><div class=\"children hor wrap rtl\"><div class=\"contnr c0 trm rtl  \" ><div class=\"lbl c0 trm \" ><a href=\"#\" class=\"nd\">52097</a> <a class=\" txtu hbo\" target=\"_blank\" href=\"https://shebanq.ancient-data.org/hebrew/word?version=c&amp;id=1MCXHin\" title=\"Show this on SHEBANQ\"><span class=\"txtu hbo\">מָשְׁחָתָ֛ם </span></a></div></div></div></div><div class=\"contnr c1  rtl  \" ><div class=\"lbl c1  \" ><a href=\"#\" class=\"nd\">phrase_atom:937065</a></div><div class=\"children hor wrap rtl\"><div class=\"contnr c0 trm rtl  \" ><div class=\"lbl c0 trm \" ><a href=\"#\" class=\"nd\">52098</a> <a class=\" txtu hbo\" target=\"_blank\" href=\"https://shebanq.ancient-data.org/hebrew/word?version=c&amp;id=1L\" title=\"Show this on SHEBANQ\"><span class=\"txtu hbo\">לִ</span></a></div></div><div class=\"contnr c0 trm rtl  \" ><div class=\"lbl c0 trm \" ><a href=\"#\" class=\"nd\">52099</a> <a class=\" txtu hbo\" target=\"_blank\" href=\"https://shebanq.ancient-data.org/hebrew/word?version=c&amp;id=1KHNHn\" title=\"Show this on SHEBANQ\"><span class=\"txtu hbo\">כְהֻנַּ֥ת </span></a></div></div><div class=\"contnr c0 trm rtl  \" ><div class=\"lbl c0 trm \" ><a href=\"#\" class=\"nd\">52100</a> <a class=\" txtu hbo\" target=\"_blank\" href=\"https://shebanq.ancient-data.org/hebrew/word?version=c&amp;id=1OWLMn\" title=\"Show this on SHEBANQ\"><span class=\"txtu hbo\">עֹולָ֖ם </span></a></div></div></div></div><div class=\"contnr c1  rtl  \" ><div class=\"lbl c1  \" ><a href=\"#\" class=\"nd\">phrase_atom:937066</a></div><div class=\"children hor wrap rtl\"><div class=\"contnr c0 trm rtl  hl\" ><div class=\"lbl c0 trm hl\" ><a href=\"#\" class=\"nd\">52101</a> <a class=\" txtu hbo\" target=\"_blank\" href=\"https://shebanq.ancient-data.org/hebrew/word?version=c&amp;id=1L\" title=\"Show this on SHEBANQ\"><span class=\"txtu hbo\">לְ</span></a></div></div><div class=\"contnr c0 trm rtl  hl\" ><div class=\"lbl c0 trm hl\" ><a href=\"#\" class=\"nd\">52102</a> <a class=\" txtu hbo\" target=\"_blank\" href=\"https://shebanq.ancient-data.org/hebrew/word?version=c&amp;id=1DWRn\" title=\"Show this on SHEBANQ\"><span class=\"txtu hbo\">דֹרֹתָֽם׃ </span></a></div></div></div></div></div></div></div></div></div>ESV: and anoint them , as you anointed their father , that they may serve me as priests . And their anointing shall admit them to a perpetual priesthood throughout their generations . ”<br>"
   ]
  },
  {
   "cell_type": "code",
   "execution_count": null,
   "metadata": {},
   "outputs": [],
   "source": [
    "save(437806,\n",
    "\n",
    "{'functions': ['anterior_dur, simultaneous'],\n",
    " 'preps': [['L', 52101]],\n",
    " 'quals': ['durative'],\n",
    " 'refs': [['SFX', 52102]],\n",
    " 'slots': [52101, 52102],\n",
    " 'times': [52102]}\n",
    "\n",
    ")"
   ]
  },
  {
   "cell_type": "markdown",
   "metadata": {},
   "source": [
    "<div class=\"tfsechead rtl\"><a target=\"_blank\" href=\"https://shebanq.ancient-data.org/hebrew/text?book=Exodus&amp;chapter=40&amp;verse=17&amp;version=c&amp;mr=m&amp;qw=q&amp;tp=txt_p&amp;tr=hb&amp;wget=v&amp;qget=v&amp;nget=vt\" title=\"Show this on SHEBANQ\" sec=\"Exodus 40:17\">Exodus 40:17</a></div><div class=\"rtl children\"><div class=\"contnr c2  rtl  \" ><div class=\"lbl c2  \" ><a href=\"#\" class=\"nd\">clause:437812</a></div><div class=\"children hor wrap rtl\"><div class=\"contnr c1  rtl  \" ><div class=\"lbl c1  \" ><a href=\"#\" class=\"nd\">clause_atom:526209</a></div><div class=\"children hor wrap rtl\"><div class=\"contnr c1  rtl  \" ><div class=\"lbl c1  \" ><a href=\"#\" class=\"nd\">phrase_atom:937079</a></div><div class=\"children hor wrap rtl\"><div class=\"contnr c0 trm rtl  hl\" ><div class=\"lbl c0 trm hl\" ><a href=\"#\" class=\"nd\">52116</a> <a class=\" txtu hbo\" target=\"_blank\" href=\"https://shebanq.ancient-data.org/hebrew/word?version=c&amp;id=1B\" title=\"Show this on SHEBANQ\"><span class=\"txtu hbo\">בַּ</span></a></div></div><div class=\"contnr c0 trm rtl  hl\" ><div class=\"lbl c0 trm hl\" ><a href=\"#\" class=\"nd\">52117</a> <a class=\" txtu hbo\" target=\"_blank\" href=\"https://shebanq.ancient-data.org/hebrew/word?version=c&amp;id=1H\" title=\"Show this on SHEBANQ\"></a></div></div><div class=\"contnr c0 trm rtl  hl\" ><div class=\"lbl c0 trm hl\" ><a href=\"#\" class=\"nd\">52118</a> <a class=\" txtu hbo\" target=\"_blank\" href=\"https://shebanq.ancient-data.org/hebrew/word?version=c&amp;id=1XDCin\" title=\"Show this on SHEBANQ\"><span class=\"txtu hbo\">חֹ֧דֶשׁ </span></a></div></div><div class=\"contnr c0 trm rtl  \" ><div class=\"lbl c0 trm \" ><a href=\"#\" class=\"nd\">52119</a> <a class=\" txtu hbo\" target=\"_blank\" href=\"https://shebanq.ancient-data.org/hebrew/word?version=c&amp;id=1H\" title=\"Show this on SHEBANQ\"><span class=\"txtu hbo\">הָ</span></a></div></div><div class=\"contnr c0 trm rtl  hl\" ><div class=\"lbl c0 trm hl\" ><a href=\"#\" class=\"nd\">52120</a> <a class=\" txtu hbo\" target=\"_blank\" href=\"https://shebanq.ancient-data.org/hebrew/word?version=c&amp;id=1RACWNn\" title=\"Show this on SHEBANQ\"><span class=\"txtu hbo\">רִאשֹׁ֛ון </span></a></div></div></div></div><div class=\"contnr c1  rtl  \" ><div class=\"lbl c1  \" ><a href=\"#\" class=\"nd\">phrase_atom:937080</a></div><div class=\"children hor wrap rtl\"><div class=\"contnr c0 trm rtl  hl\" ><div class=\"lbl c0 trm hl\" ><a href=\"#\" class=\"nd\">52121</a> <a class=\" txtu hbo\" target=\"_blank\" href=\"https://shebanq.ancient-data.org/hebrew/word?version=c&amp;id=1B\" title=\"Show this on SHEBANQ\"><span class=\"txtu hbo\">בַּ</span></a></div></div><div class=\"contnr c0 trm rtl  hl\" ><div class=\"lbl c0 trm hl\" ><a href=\"#\" class=\"nd\">52122</a> <a class=\" txtu hbo\" target=\"_blank\" href=\"https://shebanq.ancient-data.org/hebrew/word?version=c&amp;id=1H\" title=\"Show this on SHEBANQ\"></a></div></div><div class=\"contnr c0 trm rtl  hl\" ><div class=\"lbl c0 trm hl\" ><a href=\"#\" class=\"nd\">52123</a> <a class=\" txtu hbo\" target=\"_blank\" href=\"https://shebanq.ancient-data.org/hebrew/word?version=c&amp;id=1CNHn\" title=\"Show this on SHEBANQ\"><span class=\"txtu hbo\">שָּׁנָ֥ה </span></a></div></div><div class=\"contnr c0 trm rtl  \" ><div class=\"lbl c0 trm \" ><a href=\"#\" class=\"nd\">52124</a> <a class=\" txtu hbo\" target=\"_blank\" href=\"https://shebanq.ancient-data.org/hebrew/word?version=c&amp;id=1H\" title=\"Show this on SHEBANQ\"><span class=\"txtu hbo\">הַ</span></a></div></div><div class=\"contnr c0 trm rtl  hl\" ><div class=\"lbl c0 trm hl\" ><a href=\"#\" class=\"nd\">52125</a> <a class=\" txtu hbo\" target=\"_blank\" href=\"https://shebanq.ancient-data.org/hebrew/word?version=c&amp;id=1CNJn\" title=\"Show this on SHEBANQ\"><span class=\"txtu hbo\">שֵּׁנִ֖ית </span></a></div></div></div></div><div class=\"contnr c1  rtl  \" ><div class=\"lbl c1  \" ><a href=\"#\" class=\"nd\">phrase_atom:937081</a></div><div class=\"children hor wrap rtl\"><div class=\"contnr c0 trm rtl  hl\" ><div class=\"lbl c0 trm hl\" ><a href=\"#\" class=\"nd\">52126</a> <a class=\" txtu hbo\" target=\"_blank\" href=\"https://shebanq.ancient-data.org/hebrew/word?version=c&amp;id=1B\" title=\"Show this on SHEBANQ\"><span class=\"txtu hbo\">בְּ</span></a></div></div><div class=\"contnr c0 trm rtl  hl\" ><div class=\"lbl c0 trm hl\" ><a href=\"#\" class=\"nd\">52127</a> <a class=\" txtu hbo\" target=\"_blank\" href=\"https://shebanq.ancient-data.org/hebrew/word?version=c&amp;id=1AXDn\" title=\"Show this on SHEBANQ\"><span class=\"txtu hbo\">אֶחָ֣ד </span></a></div></div></div></div><div class=\"contnr c1  rtl  \" ><div class=\"lbl c1  \" ><a href=\"#\" class=\"nd\">phrase_atom:937082</a></div><div class=\"children hor wrap rtl\"><div class=\"contnr c0 trm rtl  hl\" ><div class=\"lbl c0 trm hl\" ><a href=\"#\" class=\"nd\">52128</a> <a class=\" txtu hbo\" target=\"_blank\" href=\"https://shebanq.ancient-data.org/hebrew/word?version=c&amp;id=1L\" title=\"Show this on SHEBANQ\"><span class=\"txtu hbo\">לַ</span></a></div></div><div class=\"contnr c0 trm rtl  hl\" ><div class=\"lbl c0 trm hl\" ><a href=\"#\" class=\"nd\">52129</a> <a class=\" txtu hbo\" target=\"_blank\" href=\"https://shebanq.ancient-data.org/hebrew/word?version=c&amp;id=1H\" title=\"Show this on SHEBANQ\"></a></div></div><div class=\"contnr c0 trm rtl  hl\" ><div class=\"lbl c0 trm hl\" ><a href=\"#\" class=\"nd\">52130</a> <a class=\" txtu hbo\" target=\"_blank\" href=\"https://shebanq.ancient-data.org/hebrew/word?version=c&amp;id=1XDCin\" title=\"Show this on SHEBANQ\"><span class=\"txtu hbo\">חֹ֑דֶשׁ </span></a></div></div></div></div><div class=\"contnr c1  rtl  \" ><div class=\"lbl c1  \" ><a href=\"#\" class=\"nd\">phrase_atom:937083</a></div><div class=\"children hor wrap rtl\"><div class=\"contnr c0 trm rtl  \" ><div class=\"lbl c0 trm \" ><a href=\"#\" class=\"nd\">52131</a> <a class=\" txtu hbo\" target=\"_blank\" href=\"https://shebanq.ancient-data.org/hebrew/word?version=c&amp;id=1QWMv\" title=\"Show this on SHEBANQ\"><span class=\"txtu hbo\">הוּקַ֖ם </span></a></div></div></div></div><div class=\"contnr c1  rtl  \" ><div class=\"lbl c1  \" ><a href=\"#\" class=\"nd\">phrase_atom:937084</a></div><div class=\"children hor wrap rtl\"><div class=\"contnr c0 trm rtl  \" ><div class=\"lbl c0 trm \" ><a href=\"#\" class=\"nd\">52132</a> <a class=\" txtu hbo\" target=\"_blank\" href=\"https://shebanq.ancient-data.org/hebrew/word?version=c&amp;id=1H\" title=\"Show this on SHEBANQ\"><span class=\"txtu hbo\">הַ</span></a></div></div><div class=\"contnr c0 trm rtl  \" ><div class=\"lbl c0 trm \" ><a href=\"#\" class=\"nd\">52133</a> <a class=\" txtu hbo\" target=\"_blank\" href=\"https://shebanq.ancient-data.org/hebrew/word?version=c&amp;id=1MCKNn\" title=\"Show this on SHEBANQ\"><span class=\"txtu hbo\">מִּשְׁכָּֽן׃ </span></a></div></div></div></div></div></div></div></div></div>ESV: In the first month in the second year , on the first day of the month , the tabernacle was erected .<br>"
   ]
  },
  {
   "cell_type": "code",
   "execution_count": null,
   "metadata": {},
   "outputs": [],
   "source": [
    "save(437812,\n",
    "\n",
    "{'functions': ['cal_simul'],\n",
    " 'slots': [52116,\n",
    "           52117,\n",
    "           52118,\n",
    "           52120,\n",
    "           52121,\n",
    "           52122,\n",
    "           52123,\n",
    "           52125,\n",
    "           52126,\n",
    "           52127,\n",
    "           52128,\n",
    "           52129,\n",
    "           52130],\n",
    " 'times': [{'functions': ['simultaneous'],\n",
    "            'preps': [['B', 52116]],\n",
    "            'refs': [['ORDN', 52120], ['THE', 52117]],\n",
    "            'slots': [52116, 52117, 52118, 52120],\n",
    "            'times': [52118]},\n",
    "           {'functions': ['simultaneous'],\n",
    "            'preps': [['B', 52121]],\n",
    "            'refs': [['ORDN', 52125], ['THE', 52122]],\n",
    "            'slots': [52121, 52122, 52123, 52125],\n",
    "            'times': [52123]},\n",
    "           {'functions': ['simultaneous'],\n",
    "            'preps': [['B', 52126]],\n",
    "            'refs': [['MONTH',\n",
    "                      {'functions': ['reference'],\n",
    "                       'preps': [['L', 52128]],\n",
    "                       'ref': 'MONTH',\n",
    "                       'refs': [['THE', 52129]],\n",
    "                       'slots': [52128, 52129, 52130],\n",
    "                       'times': [52130]}],\n",
    "                     ['CALNUM', 52127]],\n",
    "            'slots': [52126, 52127, 52128, 52129, 52130],\n",
    "            'times': [52127]}]}\n",
    "\n",
    ")"
   ]
  },
  {
   "cell_type": "markdown",
   "metadata": {},
   "source": [
    "<div class=\"tfsechead rtl\"><a target=\"_blank\" href=\"https://shebanq.ancient-data.org/hebrew/text?book=Exodus&amp;chapter=40&amp;verse=38&amp;version=c&amp;mr=m&amp;qw=q&amp;tp=txt_p&amp;tr=hb&amp;wget=v&amp;qget=v&amp;nget=vt\" title=\"Show this on SHEBANQ\" sec=\"Exodus 40:38\">Exodus 40:38</a></div><div class=\"rtl children\"><div class=\"contnr c2  rtl  \" ><div class=\"lbl c2  \" ><a href=\"#\" class=\"nd\">clause:437864</a></div><div class=\"children hor wrap rtl\"><div class=\"contnr c1  rtl  \" ><div class=\"lbl c1  \" ><a href=\"#\" class=\"nd\">clause_atom:526262</a></div><div class=\"children hor wrap rtl\"><div class=\"contnr c1  rtl  \" ><div class=\"lbl c1  \" ><a href=\"#\" class=\"nd\">phrase_atom:937279</a></div><div class=\"children hor wrap rtl\"><div class=\"contnr c0 trm rtl  \" ><div class=\"lbl c0 trm \" ><a href=\"#\" class=\"nd\">52492</a> <a class=\" txtu hbo\" target=\"_blank\" href=\"https://shebanq.ancient-data.org/hebrew/word?version=c&amp;id=1KJ\" title=\"Show this on SHEBANQ\"><span class=\"txtu hbo\">כִּי֩ </span></a></div></div></div></div><div class=\"contnr c1  rtl  \" ><div class=\"lbl c1  \" ><a href=\"#\" class=\"nd\">phrase_atom:937280</a></div><div class=\"children hor wrap rtl\"><div class=\"contnr c0 trm rtl  \" ><div class=\"lbl c0 trm \" ><a href=\"#\" class=\"nd\">52493</a> <a class=\" txtu hbo\" target=\"_blank\" href=\"https://shebanq.ancient-data.org/hebrew/word?version=c&amp;id=1ONNn\" title=\"Show this on SHEBANQ\"><span class=\"txtu hbo\">עֲנַ֨ן </span></a></div></div><div class=\"contnr c0 trm rtl  \" ><div class=\"lbl c0 trm \" ><a href=\"#\" class=\"nd\">52494</a> <a class=\" txtu hbo\" target=\"_blank\" href=\"https://shebanq.ancient-data.org/hebrew/word?version=c&amp;id=1JHWHn\" title=\"Show this on SHEBANQ\"><span class=\"txtu hbo\">יְהוָ֤ה </span></a></div></div></div></div><div class=\"contnr c1  rtl  \" ><div class=\"lbl c1  \" ><a href=\"#\" class=\"nd\">phrase_atom:937281</a></div><div class=\"children hor wrap rtl\"><div class=\"contnr c0 trm rtl  \" ><div class=\"lbl c0 trm \" ><a href=\"#\" class=\"nd\">52495</a> <a class=\" txtu hbo\" target=\"_blank\" href=\"https://shebanq.ancient-data.org/hebrew/word?version=c&amp;id=1OL\" title=\"Show this on SHEBANQ\"><span class=\"txtu hbo\">עַֽל־</span></a></div></div><div class=\"contnr c0 trm rtl  \" ><div class=\"lbl c0 trm \" ><a href=\"#\" class=\"nd\">52496</a> <a class=\" txtu hbo\" target=\"_blank\" href=\"https://shebanq.ancient-data.org/hebrew/word?version=c&amp;id=1H\" title=\"Show this on SHEBANQ\"><span class=\"txtu hbo\">הַ</span></a></div></div><div class=\"contnr c0 trm rtl  \" ><div class=\"lbl c0 trm \" ><a href=\"#\" class=\"nd\">52497</a> <a class=\" txtu hbo\" target=\"_blank\" href=\"https://shebanq.ancient-data.org/hebrew/word?version=c&amp;id=1MCKNn\" title=\"Show this on SHEBANQ\"><span class=\"txtu hbo\">מִּשְׁכָּן֙ </span></a></div></div></div></div><div class=\"contnr c1  rtl  \" ><div class=\"lbl c1  \" ><a href=\"#\" class=\"nd\">phrase_atom:937282</a></div><div class=\"children hor wrap rtl\"><div class=\"contnr c0 trm rtl  hl\" ><div class=\"lbl c0 trm hl\" ><a href=\"#\" class=\"nd\">52498</a> <a class=\" txtu hbo\" target=\"_blank\" href=\"https://shebanq.ancient-data.org/hebrew/word?version=c&amp;id=1JWMM\" title=\"Show this on SHEBANQ\"><span class=\"txtu hbo\">יֹומָ֔ם </span></a></div></div></div></div></div></div></div></div></div>ESV: For the cloud of the Lord was on the tabernacle by day , and fire was in it by night , in the sight of all the house of Israel throughout all their journeys .<br>"
   ]
  },
  {
   "cell_type": "code",
   "execution_count": null,
   "metadata": {},
   "outputs": [],
   "source": [
    "save(437864,\n",
    "\n",
    "{'functions': ['atelic_ext'],\n",
    " 'quals': ['durative'],\n",
    " 'slots': [52498],\n",
    " 'times': [52498]}\n",
    "\n",
    ")"
   ]
  },
  {
   "cell_type": "markdown",
   "metadata": {},
   "source": [
    "<div class=\"tfsechead rtl\"><a target=\"_blank\" href=\"https://shebanq.ancient-data.org/hebrew/text?book=Exodus&amp;chapter=40&amp;verse=38&amp;version=c&amp;mr=m&amp;qw=q&amp;tp=txt_p&amp;tr=hb&amp;wget=v&amp;qget=v&amp;nget=vt\" title=\"Show this on SHEBANQ\" sec=\"Exodus 40:38\">Exodus 40:38</a></div><div class=\"rtl children\"><div class=\"contnr c2  rtl  \" ><div class=\"lbl c2  \" ><a href=\"#\" class=\"nd\">clause:437865</a></div><div class=\"children hor wrap rtl\"><div class=\"contnr c1  rtl  \" ><div class=\"lbl c1  \" ><a href=\"#\" class=\"nd\">clause_atom:526263</a></div><div class=\"children hor wrap rtl\"><div class=\"contnr c1  rtl  \" ><div class=\"lbl c1  \" ><a href=\"#\" class=\"nd\">phrase_atom:937283</a></div><div class=\"children hor wrap rtl\"><div class=\"contnr c0 trm rtl  \" ><div class=\"lbl c0 trm \" ><a href=\"#\" class=\"nd\">52499</a> <a class=\" txtu hbo\" target=\"_blank\" href=\"https://shebanq.ancient-data.org/hebrew/word?version=c&amp;id=1W\" title=\"Show this on SHEBANQ\"><span class=\"txtu hbo\">וְ</span></a></div></div></div></div><div class=\"contnr c1  rtl  \" ><div class=\"lbl c1  \" ><a href=\"#\" class=\"nd\">phrase_atom:937284</a></div><div class=\"children hor wrap rtl\"><div class=\"contnr c0 trm rtl  \" ><div class=\"lbl c0 trm \" ><a href=\"#\" class=\"nd\">52500</a> <a class=\" txtu hbo\" target=\"_blank\" href=\"https://shebanq.ancient-data.org/hebrew/word?version=c&amp;id=1ACn\" title=\"Show this on SHEBANQ\"><span class=\"txtu hbo\">אֵ֕שׁ </span></a></div></div></div></div><div class=\"contnr c1  rtl  \" ><div class=\"lbl c1  \" ><a href=\"#\" class=\"nd\">phrase_atom:937285</a></div><div class=\"children hor wrap rtl\"><div class=\"contnr c0 trm rtl  \" ><div class=\"lbl c0 trm \" ><a href=\"#\" class=\"nd\">52501</a> <a class=\" txtu hbo\" target=\"_blank\" href=\"https://shebanq.ancient-data.org/hebrew/word?version=c&amp;id=1HJHv\" title=\"Show this on SHEBANQ\"><span class=\"txtu hbo\">תִּהְיֶ֥ה </span></a></div></div></div></div><div class=\"contnr c1  rtl  \" ><div class=\"lbl c1  \" ><a href=\"#\" class=\"nd\">phrase_atom:937286</a></div><div class=\"children hor wrap rtl\"><div class=\"contnr c0 trm rtl  hl\" ><div class=\"lbl c0 trm hl\" ><a href=\"#\" class=\"nd\">52502</a> <a class=\" txtu hbo\" target=\"_blank\" href=\"https://shebanq.ancient-data.org/hebrew/word?version=c&amp;id=1LJLHn\" title=\"Show this on SHEBANQ\"><span class=\"txtu hbo\">לַ֖יְלָה </span></a></div></div></div></div><div class=\"contnr c1  rtl  \" ><div class=\"lbl c1  \" ><a href=\"#\" class=\"nd\">phrase_atom:937287</a></div><div class=\"children hor wrap rtl\"><div class=\"contnr c0 trm rtl  \" ><div class=\"lbl c0 trm \" ><a href=\"#\" class=\"nd\">52503</a> <a class=\" txtu hbo\" target=\"_blank\" href=\"https://shebanq.ancient-data.org/hebrew/word?version=c&amp;id=1B\" title=\"Show this on SHEBANQ\"><span class=\"txtu hbo\">בֹּ֑ו </span></a></div></div></div></div><div class=\"contnr c1  rtl  \" ><div class=\"lbl c1  \" ><a href=\"#\" class=\"nd\">phrase_atom:937288</a></div><div class=\"children hor wrap rtl\"><div class=\"contnr c0 trm rtl  \" ><div class=\"lbl c0 trm \" ><a href=\"#\" class=\"nd\">52504</a> <a class=\" txtu hbo\" target=\"_blank\" href=\"https://shebanq.ancient-data.org/hebrew/word?version=c&amp;id=1L\" title=\"Show this on SHEBANQ\"><span class=\"txtu hbo\">לְ</span></a></div></div><div class=\"contnr c0 trm rtl  \" ><div class=\"lbl c0 trm \" ><a href=\"#\" class=\"nd\">52505</a> <a class=\" txtu hbo\" target=\"_blank\" href=\"https://shebanq.ancient-data.org/hebrew/word?version=c&amp;id=1OJNn\" title=\"Show this on SHEBANQ\"><span class=\"txtu hbo\">עֵינֵ֥י </span></a></div></div><div class=\"contnr c0 trm rtl  \" ><div class=\"lbl c0 trm \" ><a href=\"#\" class=\"nd\">52506</a> <a class=\" txtu hbo\" target=\"_blank\" href=\"https://shebanq.ancient-data.org/hebrew/word?version=c&amp;id=1KLn\" title=\"Show this on SHEBANQ\"><span class=\"txtu hbo\">כָל־</span></a></div></div><div class=\"contnr c0 trm rtl  \" ><div class=\"lbl c0 trm \" ><a href=\"#\" class=\"nd\">52507</a> <a class=\" txtu hbo\" target=\"_blank\" href=\"https://shebanq.ancient-data.org/hebrew/word?version=c&amp;id=1BJTn\" title=\"Show this on SHEBANQ\"><span class=\"txtu hbo\">בֵּֽית־</span></a></div></div><div class=\"contnr c0 trm rtl  \" ><div class=\"lbl c0 trm \" ><a href=\"#\" class=\"nd\">52508</a> <a class=\" txtu hbo\" target=\"_blank\" href=\"https://shebanq.ancient-data.org/hebrew/word?version=c&amp;id=1JFRALn\" title=\"Show this on SHEBANQ\"><span class=\"txtu hbo\">יִשְׂרָאֵ֖ל </span></a></div></div></div></div><div class=\"contnr c1  rtl  \" ><div class=\"lbl c1  \" ><a href=\"#\" class=\"nd\">phrase_atom:937289</a></div><div class=\"children hor wrap rtl\"><div class=\"contnr c0 trm rtl  \" ><div class=\"lbl c0 trm \" ><a href=\"#\" class=\"nd\">52509</a> <a class=\" txtu hbo\" target=\"_blank\" href=\"https://shebanq.ancient-data.org/hebrew/word?version=c&amp;id=1B\" title=\"Show this on SHEBANQ\"><span class=\"txtu hbo\">בְּ</span></a></div></div><div class=\"contnr c0 trm rtl  \" ><div class=\"lbl c0 trm \" ><a href=\"#\" class=\"nd\">52510</a> <a class=\" txtu hbo\" target=\"_blank\" href=\"https://shebanq.ancient-data.org/hebrew/word?version=c&amp;id=1KLn\" title=\"Show this on SHEBANQ\"><span class=\"txtu hbo\">כָל־</span></a></div></div><div class=\"contnr c0 trm rtl  \" ><div class=\"lbl c0 trm \" ><a href=\"#\" class=\"nd\">52511</a> <a class=\" txtu hbo\" target=\"_blank\" href=\"https://shebanq.ancient-data.org/hebrew/word?version=c&amp;id=1MSOn\" title=\"Show this on SHEBANQ\"><span class=\"txtu hbo\">מַסְעֵיהֶֽם׃ </span></a></div></div></div></div></div></div></div></div></div>ESV: For the cloud of the Lord was on the tabernacle by day , and fire was in it by night , in the sight of all the house of Israel throughout all their journeys .<br>"
   ]
  },
  {
   "cell_type": "code",
   "execution_count": null,
   "metadata": {},
   "outputs": [],
   "source": [
    "save(437865,\n",
    "\n",
    "{'functions': ['simultaneous'], 'slots': [52502], 'times': [52502]}\n",
    "\n",
    ")"
   ]
  },
  {
   "cell_type": "markdown",
   "metadata": {},
   "source": [
    "<div class=\"tfsechead rtl\"><a target=\"_blank\" href=\"https://shebanq.ancient-data.org/hebrew/text?book=Leviticus&amp;chapter=6&amp;verse=2&amp;version=c&amp;mr=m&amp;qw=q&amp;tp=txt_p&amp;tr=hb&amp;wget=v&amp;qget=v&amp;nget=vt\" title=\"Show this on SHEBANQ\" sec=\"Leviticus 6:2\">Leviticus 6:2</a></div><div class=\"rtl children\"><div class=\"contnr c2  rtl  \" ><div class=\"lbl c2  \" ><a href=\"#\" class=\"nd\">clause:438280</a></div><div class=\"children hor wrap rtl\"><div class=\"contnr c1  rtl  \" ><div class=\"lbl c1  \" ><a href=\"#\" class=\"nd\">clause_atom:526701</a></div><div class=\"children hor wrap rtl\"><div class=\"contnr c1  rtl  \" ><div class=\"lbl c1  \" ><a href=\"#\" class=\"nd\">phrase_atom:938706</a></div><div class=\"children hor wrap rtl\"><div class=\"contnr c0 trm rtl  \" ><div class=\"lbl c0 trm \" ><a href=\"#\" class=\"nd\">54917</a> <a class=\" txtu hbo\" target=\"_blank\" href=\"https://shebanq.ancient-data.org/hebrew/word?version=c&amp;id=1OL\" title=\"Show this on SHEBANQ\"><span class=\"txtu hbo\">עַל֩ </span></a></div></div><div class=\"contnr c0 trm rtl  \" ><div class=\"lbl c0 trm \" ><a href=\"#\" class=\"nd\">54918</a> <a class=\" txtu hbo\" target=\"_blank\" href=\"https://shebanq.ancient-data.org/hebrew/word?version=c&amp;id=1MWQDHn\" title=\"Show this on SHEBANQ\"><span class=\"txtu hbo\">מֹוקְדָ֨ה </span></a></div></div></div></div><div class=\"contnr c1  rtl  \" ><div class=\"lbl c1  \" ><a href=\"#\" class=\"nd\">phrase_atom:938707</a></div><div class=\"children hor wrap rtl\"><div class=\"contnr c0 trm rtl  \" ><div class=\"lbl c0 trm \" ><a href=\"#\" class=\"nd\">54919</a> <a class=\" txtu hbo\" target=\"_blank\" href=\"https://shebanq.ancient-data.org/hebrew/word?version=c&amp;id=1OL\" title=\"Show this on SHEBANQ\"><span class=\"txtu hbo\">עַל־</span></a></div></div><div class=\"contnr c0 trm rtl  \" ><div class=\"lbl c0 trm \" ><a href=\"#\" class=\"nd\">54920</a> <a class=\" txtu hbo\" target=\"_blank\" href=\"https://shebanq.ancient-data.org/hebrew/word?version=c&amp;id=1H\" title=\"Show this on SHEBANQ\"><span class=\"txtu hbo\">הַ</span></a></div></div><div class=\"contnr c0 trm rtl  \" ><div class=\"lbl c0 trm \" ><a href=\"#\" class=\"nd\">54921</a> <a class=\" txtu hbo\" target=\"_blank\" href=\"https://shebanq.ancient-data.org/hebrew/word?version=c&amp;id=1MZBXn\" title=\"Show this on SHEBANQ\"><span class=\"txtu hbo\">מִּזְבֵּ֤חַ </span></a></div></div></div></div><div class=\"contnr c1  rtl  \" ><div class=\"lbl c1  \" ><a href=\"#\" class=\"nd\">phrase_atom:938708</a></div><div class=\"children hor wrap rtl\"><div class=\"contnr c0 trm rtl  hl\" ><div class=\"lbl c0 trm hl\" ><a href=\"#\" class=\"nd\">54922</a> <a class=\" txtu hbo\" target=\"_blank\" href=\"https://shebanq.ancient-data.org/hebrew/word?version=c&amp;id=1KLn\" title=\"Show this on SHEBANQ\"><span class=\"txtu hbo\">כָּל־</span></a></div></div><div class=\"contnr c0 trm rtl  hl\" ><div class=\"lbl c0 trm hl\" ><a href=\"#\" class=\"nd\">54923</a> <a class=\" txtu hbo\" target=\"_blank\" href=\"https://shebanq.ancient-data.org/hebrew/word?version=c&amp;id=1H\" title=\"Show this on SHEBANQ\"><span class=\"txtu hbo\">הַ</span></a></div></div><div class=\"contnr c0 trm rtl  hl\" ><div class=\"lbl c0 trm hl\" ><a href=\"#\" class=\"nd\">54924</a> <a class=\" txtu hbo\" target=\"_blank\" href=\"https://shebanq.ancient-data.org/hebrew/word?version=c&amp;id=1LJLHn\" title=\"Show this on SHEBANQ\"><span class=\"txtu hbo\">לַּ֨יְלָה֙ </span></a></div></div></div></div><div class=\"contnr c1  rtl  \" ><div class=\"lbl c1  \" ><a href=\"#\" class=\"nd\">phrase_atom:938709</a></div><div class=\"children hor wrap rtl\"><div class=\"contnr c0 trm rtl  hl\" ><div class=\"lbl c0 trm hl\" ><a href=\"#\" class=\"nd\">54925</a> <a class=\" txtu hbo\" target=\"_blank\" href=\"https://shebanq.ancient-data.org/hebrew/word?version=c&amp;id=1OD\" title=\"Show this on SHEBANQ\"><span class=\"txtu hbo\">עַד־</span></a></div></div><div class=\"contnr c0 trm rtl  hl\" ><div class=\"lbl c0 trm hl\" ><a href=\"#\" class=\"nd\">54926</a> <a class=\" txtu hbo\" target=\"_blank\" href=\"https://shebanq.ancient-data.org/hebrew/word?version=c&amp;id=1H\" title=\"Show this on SHEBANQ\"><span class=\"txtu hbo\">הַ</span></a></div></div><div class=\"contnr c0 trm rtl  hl\" ><div class=\"lbl c0 trm hl\" ><a href=\"#\" class=\"nd\">54927</a> <a class=\" txtu hbo\" target=\"_blank\" href=\"https://shebanq.ancient-data.org/hebrew/word?version=c&amp;id=1BQRin\" title=\"Show this on SHEBANQ\"><span class=\"txtu hbo\">בֹּ֔קֶר </span></a></div></div></div></div></div></div></div></div></div>ESV: “ If anyone sins and commits a breach of faith against the Lord by deceiving his neighbor in a matter of deposit or security , or through robbery , or if he has oppressed his neighbor<br>"
   ]
  },
  {
   "cell_type": "code",
   "execution_count": null,
   "metadata": {},
   "outputs": [],
   "source": [
    "save(438280,\n",
    "\n",
    "{'functions': ['dur_to_end'],\n",
    " 'quals': ['duration'],\n",
    " 'slots': [54922, 54923, 54924, 54925, 54926, 54927],\n",
    " 'times': [{'functions': ['atelic_ext'],\n",
    "            'quals': ['durative'],\n",
    "            'quants': [['ALL', 54922]],\n",
    "            'refs': [['THE', 54923]],\n",
    "            'slots': [54922, 54923, 54924],\n",
    "            'times': [54924]},\n",
    "           {'functions': ['anterior_dur'],\n",
    "            'preps': [['<D', 54925]],\n",
    "            'quals': ['durative'],\n",
    "            'refs': [['THE', 54926]],\n",
    "            'slots': [54925, 54926, 54927],\n",
    "            'times': [54927]}]}\n",
    "\n",
    ")"
   ]
  },
  {
   "cell_type": "markdown",
   "metadata": {},
   "source": [
    "<div class=\"tfsechead rtl\"><a target=\"_blank\" href=\"https://shebanq.ancient-data.org/hebrew/text?book=Leviticus&amp;chapter=6&amp;verse=5&amp;version=c&amp;mr=m&amp;qw=q&amp;tp=txt_p&amp;tr=hb&amp;wget=v&amp;qget=v&amp;nget=vt\" title=\"Show this on SHEBANQ\" sec=\"Leviticus 6:5\">Leviticus 6:5</a></div><div class=\"rtl children\"><div class=\"contnr c2  rtl  \" ><div class=\"lbl c2  \" ><a href=\"#\" class=\"nd\">clause:438293</a></div><div class=\"children hor wrap rtl\"><div class=\"contnr c1  rtl  \" ><div class=\"lbl c1  \" ><a href=\"#\" class=\"nd\">clause_atom:526714</a></div><div class=\"children hor wrap rtl\"><div class=\"contnr c1  rtl  \" ><div class=\"lbl c1  \" ><a href=\"#\" class=\"nd\">phrase_atom:938753</a></div><div class=\"children hor wrap rtl\"><div class=\"contnr c0 trm rtl  \" ><div class=\"lbl c0 trm \" ><a href=\"#\" class=\"nd\">54998</a> <a class=\" txtu hbo\" target=\"_blank\" href=\"https://shebanq.ancient-data.org/hebrew/word?version=c&amp;id=1W\" title=\"Show this on SHEBANQ\"><span class=\"txtu hbo\">וּ</span></a></div></div></div></div><div class=\"contnr c1  rtl  \" ><div class=\"lbl c1  \" ><a href=\"#\" class=\"nd\">phrase_atom:938754</a></div><div class=\"children hor wrap rtl\"><div class=\"contnr c0 trm rtl  \" ><div class=\"lbl c0 trm \" ><a href=\"#\" class=\"nd\">54999</a> <a class=\" txtu hbo\" target=\"_blank\" href=\"https://shebanq.ancient-data.org/hebrew/word?version=c&amp;id=1BORv\" title=\"Show this on SHEBANQ\"><span class=\"txtu hbo\">בִעֵ֨ר </span></a></div></div></div></div><div class=\"contnr c1  rtl  \" ><div class=\"lbl c1  \" ><a href=\"#\" class=\"nd\">phrase_atom:938755</a></div><div class=\"children hor wrap rtl\"><div class=\"contnr c0 trm rtl  \" ><div class=\"lbl c0 trm \" ><a href=\"#\" class=\"nd\">55000</a> <a class=\" txtu hbo\" target=\"_blank\" href=\"https://shebanq.ancient-data.org/hebrew/word?version=c&amp;id=1OL\" title=\"Show this on SHEBANQ\"><span class=\"txtu hbo\">עָלֶ֧יהָ </span></a></div></div></div></div><div class=\"contnr c1  rtl  \" ><div class=\"lbl c1  \" ><a href=\"#\" class=\"nd\">phrase_atom:938756</a></div><div class=\"children hor wrap rtl\"><div class=\"contnr c0 trm rtl  \" ><div class=\"lbl c0 trm \" ><a href=\"#\" class=\"nd\">55001</a> <a class=\" txtu hbo\" target=\"_blank\" href=\"https://shebanq.ancient-data.org/hebrew/word?version=c&amp;id=1H\" title=\"Show this on SHEBANQ\"><span class=\"txtu hbo\">הַ</span></a></div></div><div class=\"contnr c0 trm rtl  \" ><div class=\"lbl c0 trm \" ><a href=\"#\" class=\"nd\">55002</a> <a class=\" txtu hbo\" target=\"_blank\" href=\"https://shebanq.ancient-data.org/hebrew/word?version=c&amp;id=1KHNn\" title=\"Show this on SHEBANQ\"><span class=\"txtu hbo\">כֹּהֵ֛ן </span></a></div></div></div></div><div class=\"contnr c1  rtl  \" ><div class=\"lbl c1  \" ><a href=\"#\" class=\"nd\">phrase_atom:938757</a></div><div class=\"children hor wrap rtl\"><div class=\"contnr c0 trm rtl  \" ><div class=\"lbl c0 trm \" ><a href=\"#\" class=\"nd\">55003</a> <a class=\" txtu hbo\" target=\"_blank\" href=\"https://shebanq.ancient-data.org/hebrew/word?version=c&amp;id=1OYn\" title=\"Show this on SHEBANQ\"><span class=\"txtu hbo\">עֵצִ֖ים </span></a></div></div></div></div><div class=\"contnr c1  rtl  \" ><div class=\"lbl c1  \" ><a href=\"#\" class=\"nd\">phrase_atom:938758</a></div><div class=\"children hor wrap rtl\"><div class=\"contnr c0 trm rtl  hl\" ><div class=\"lbl c0 trm hl\" ><a href=\"#\" class=\"nd\">55004</a> <a class=\" txtu hbo\" target=\"_blank\" href=\"https://shebanq.ancient-data.org/hebrew/word?version=c&amp;id=1B\" title=\"Show this on SHEBANQ\"><span class=\"txtu hbo\">בַּ</span></a></div></div><div class=\"contnr c0 trm rtl  hl\" ><div class=\"lbl c0 trm hl\" ><a href=\"#\" class=\"nd\">55005</a> <a class=\" txtu hbo\" target=\"_blank\" href=\"https://shebanq.ancient-data.org/hebrew/word?version=c&amp;id=1H\" title=\"Show this on SHEBANQ\"></a></div></div><div class=\"contnr c0 trm rtl  hl\" ><div class=\"lbl c0 trm hl\" ><a href=\"#\" class=\"nd\">55006</a> <a class=\" txtu hbo\" target=\"_blank\" href=\"https://shebanq.ancient-data.org/hebrew/word?version=c&amp;id=1BQRin\" title=\"Show this on SHEBANQ\"><span class=\"txtu hbo\">בֹּ֣קֶר </span></a></div></div><div class=\"contnr c0 trm rtl  hl\" ><div class=\"lbl c0 trm hl\" ><a href=\"#\" class=\"nd\">55007</a> <a class=\" txtu hbo\" target=\"_blank\" href=\"https://shebanq.ancient-data.org/hebrew/word?version=c&amp;id=1B\" title=\"Show this on SHEBANQ\"><span class=\"txtu hbo\">בַּ</span></a></div></div><div class=\"contnr c0 trm rtl  hl\" ><div class=\"lbl c0 trm hl\" ><a href=\"#\" class=\"nd\">55008</a> <a class=\" txtu hbo\" target=\"_blank\" href=\"https://shebanq.ancient-data.org/hebrew/word?version=c&amp;id=1H\" title=\"Show this on SHEBANQ\"></a></div></div><div class=\"contnr c0 trm rtl  hl\" ><div class=\"lbl c0 trm hl\" ><a href=\"#\" class=\"nd\">55009</a> <a class=\" txtu hbo\" target=\"_blank\" href=\"https://shebanq.ancient-data.org/hebrew/word?version=c&amp;id=1BQRin\" title=\"Show this on SHEBANQ\"><span class=\"txtu hbo\">בֹּ֑קֶר </span></a></div></div></div></div></div></div></div></div></div>ESV: or anything about which he has sworn falsely , he shall restore it in full and shall add a fifth to it , and give it to him to whom it belongs on the day he realizes his guilt .<br>"
   ]
  },
  {
   "cell_type": "code",
   "execution_count": null,
   "metadata": {},
   "outputs": [],
   "source": [
    "save(438293,\n",
    "\n",
    "{'functions': ['simul_habitual, multi_simul'],\n",
    " 'quals': ['iterative'],\n",
    " 'slots': [55004, 55005, 55006, 55007, 55008, 55009],\n",
    " 'times': [{'functions': ['simultaneous'],\n",
    "            'preps': [['B', 55004]],\n",
    "            'refs': [['THE', 55005]],\n",
    "            'slots': [55004, 55005, 55006],\n",
    "            'times': [55006]},\n",
    "           {'duplicate': True,\n",
    "            'functions': ['simultaneous'],\n",
    "            'preps': [['B', 55007]],\n",
    "            'refs': [['THE', 55008]],\n",
    "            'slots': [55007, 55008, 55009],\n",
    "            'times': [55009]}]}\n",
    "\n",
    ")"
   ]
  },
  {
   "cell_type": "markdown",
   "metadata": {},
   "source": [
    "<div class=\"tfsechead rtl\"><a target=\"_blank\" href=\"https://shebanq.ancient-data.org/hebrew/text?book=Leviticus&amp;chapter=7&amp;verse=15&amp;version=c&amp;mr=m&amp;qw=q&amp;tp=txt_p&amp;tr=hb&amp;wget=v&amp;qget=v&amp;nget=vt\" title=\"Show this on SHEBANQ\" sec=\"Leviticus 7:15\">Leviticus 7:15</a></div><div class=\"rtl children\"><div class=\"contnr c2  rtl  \" ><div class=\"lbl c2  \" ><a href=\"#\" class=\"nd\">clause:438413</a></div><div class=\"children hor wrap rtl\"><div class=\"contnr c1  rtl  \" ><div class=\"lbl c1  \" ><a href=\"#\" class=\"nd\">clause_atom:526850</a></div><div class=\"children hor wrap rtl\"><div class=\"contnr c1  rtl  \" ><div class=\"lbl c1  \" ><a href=\"#\" class=\"nd\">phrase_atom:939089</a></div><div class=\"children hor wrap rtl\"><div class=\"contnr c0 trm rtl  \" ><div class=\"lbl c0 trm \" ><a href=\"#\" class=\"nd\">55568</a> <a class=\" txtu hbo\" target=\"_blank\" href=\"https://shebanq.ancient-data.org/hebrew/word?version=c&amp;id=1W\" title=\"Show this on SHEBANQ\"><span class=\"txtu hbo\">וּ</span></a></div></div></div></div><div class=\"contnr c1  rtl  \" ><div class=\"lbl c1  \" ><a href=\"#\" class=\"nd\">phrase_atom:939090</a></div><div class=\"children hor wrap rtl\"><div class=\"contnr c0 trm rtl  \" ><div class=\"lbl c0 trm \" ><a href=\"#\" class=\"nd\">55569</a> <a class=\" txtu hbo\" target=\"_blank\" href=\"https://shebanq.ancient-data.org/hebrew/word?version=c&amp;id=1BFRn\" title=\"Show this on SHEBANQ\"><span class=\"txtu hbo\">בְשַׂ֗ר </span></a></div></div><div class=\"contnr c0 trm rtl  \" ><div class=\"lbl c0 trm \" ><a href=\"#\" class=\"nd\">55570</a> <a class=\" txtu hbo\" target=\"_blank\" href=\"https://shebanq.ancient-data.org/hebrew/word?version=c&amp;id=1ZBXn\" title=\"Show this on SHEBANQ\"><span class=\"txtu hbo\">זֶ֚בַח </span></a></div></div><div class=\"contnr c0 trm rtl  \" ><div class=\"lbl c0 trm \" ><a href=\"#\" class=\"nd\">55571</a> <a class=\" txtu hbo\" target=\"_blank\" href=\"https://shebanq.ancient-data.org/hebrew/word?version=c&amp;id=1TWDHn\" title=\"Show this on SHEBANQ\"><span class=\"txtu hbo\">תֹּודַ֣ת </span></a></div></div><div class=\"contnr c0 trm rtl  \" ><div class=\"lbl c0 trm \" ><a href=\"#\" class=\"nd\">55572</a> <a class=\" txtu hbo\" target=\"_blank\" href=\"https://shebanq.ancient-data.org/hebrew/word?version=c&amp;id=1CLMn\" title=\"Show this on SHEBANQ\"><span class=\"txtu hbo\">שְׁלָמָ֔יו </span></a></div></div></div></div><div class=\"contnr c1  rtl  \" ><div class=\"lbl c1  \" ><a href=\"#\" class=\"nd\">phrase_atom:939091</a></div><div class=\"children hor wrap rtl\"><div class=\"contnr c0 trm rtl  hl\" ><div class=\"lbl c0 trm hl\" ><a href=\"#\" class=\"nd\">55573</a> <a class=\" txtu hbo\" target=\"_blank\" href=\"https://shebanq.ancient-data.org/hebrew/word?version=c&amp;id=1B\" title=\"Show this on SHEBANQ\"><span class=\"txtu hbo\">בְּ</span></a></div></div><div class=\"contnr c0 trm rtl  hl\" ><div class=\"lbl c0 trm hl\" ><a href=\"#\" class=\"nd\">55574</a> <a class=\" txtu hbo\" target=\"_blank\" href=\"https://shebanq.ancient-data.org/hebrew/word?version=c&amp;id=1JWMn\" title=\"Show this on SHEBANQ\"><span class=\"txtu hbo\">יֹ֥ום </span></a></div></div><div class=\"contnr c0 trm rtl  hl\" ><div class=\"lbl c0 trm hl\" ><a href=\"#\" class=\"nd\">55575</a> <a class=\" txtu hbo\" target=\"_blank\" href=\"https://shebanq.ancient-data.org/hebrew/word?version=c&amp;id=1QRBNn\" title=\"Show this on SHEBANQ\"><span class=\"txtu hbo\">קָרְבָּנֹ֖ו </span></a></div></div></div></div><div class=\"contnr c1  rtl  \" ><div class=\"lbl c1  \" ><a href=\"#\" class=\"nd\">phrase_atom:939092</a></div><div class=\"children hor wrap rtl\"><div class=\"contnr c0 trm rtl  \" ><div class=\"lbl c0 trm \" ><a href=\"#\" class=\"nd\">55576</a> <a class=\" txtu hbo\" target=\"_blank\" href=\"https://shebanq.ancient-data.org/hebrew/word?version=c&amp;id=1AKLv\" title=\"Show this on SHEBANQ\"><span class=\"txtu hbo\">יֵאָכֵ֑ל </span></a></div></div></div></div></div></div></div></div></div>ESV: And the flesh of the sacrifice of his peace offerings for thanksgiving shall be eaten on the day of his offering . He shall not leave any of it until the morning .<br>"
   ]
  },
  {
   "cell_type": "code",
   "execution_count": null,
   "metadata": {},
   "outputs": [],
   "source": [
    "save(438413,\n",
    "\n",
    "{'functions': ['simultaneous'],\n",
    " 'preps': [['B', 55573]],\n",
    " 'refs': [['GEN', 55575]],\n",
    " 'slots': [55573, 55574, 55575],\n",
    " 'times': [55574]}\n",
    "\n",
    ")"
   ]
  },
  {
   "cell_type": "markdown",
   "metadata": {},
   "source": [
    "<div class=\"tfsechead rtl\"><a target=\"_blank\" href=\"https://shebanq.ancient-data.org/hebrew/text?book=Leviticus&amp;chapter=7&amp;verse=15&amp;version=c&amp;mr=m&amp;qw=q&amp;tp=txt_p&amp;tr=hb&amp;wget=v&amp;qget=v&amp;nget=vt\" title=\"Show this on SHEBANQ\" sec=\"Leviticus 7:15\">Leviticus 7:15</a></div><div class=\"rtl children\"><div class=\"contnr c2  rtl  \" ><div class=\"lbl c2  \" ><a href=\"#\" class=\"nd\">clause:438414</a></div><div class=\"children hor wrap rtl\"><div class=\"contnr c1  rtl  \" ><div class=\"lbl c1  \" ><a href=\"#\" class=\"nd\">clause_atom:526851</a></div><div class=\"children hor wrap rtl\"><div class=\"contnr c1  rtl  \" ><div class=\"lbl c1  \" ><a href=\"#\" class=\"nd\">phrase_atom:939093</a></div><div class=\"children hor wrap rtl\"><div class=\"contnr c0 trm rtl  \" ><div class=\"lbl c0 trm \" ><a href=\"#\" class=\"nd\">55577</a> <a class=\" txtu hbo\" target=\"_blank\" href=\"https://shebanq.ancient-data.org/hebrew/word?version=c&amp;id=1LA\" title=\"Show this on SHEBANQ\"><span class=\"txtu hbo\">לֹֽא־</span></a></div></div></div></div><div class=\"contnr c1  rtl  \" ><div class=\"lbl c1  \" ><a href=\"#\" class=\"nd\">phrase_atom:939094</a></div><div class=\"children hor wrap rtl\"><div class=\"contnr c0 trm rtl  \" ><div class=\"lbl c0 trm \" ><a href=\"#\" class=\"nd\">55578</a> <a class=\" txtu hbo\" target=\"_blank\" href=\"https://shebanq.ancient-data.org/hebrew/word?version=c&amp;id=1NWXv\" title=\"Show this on SHEBANQ\"><span class=\"txtu hbo\">יַנִּ֥יחַ </span></a></div></div></div></div><div class=\"contnr c1  rtl  \" ><div class=\"lbl c1  \" ><a href=\"#\" class=\"nd\">phrase_atom:939095</a></div><div class=\"children hor wrap rtl\"><div class=\"contnr c0 trm rtl  \" ><div class=\"lbl c0 trm \" ><a href=\"#\" class=\"nd\">55579</a> <a class=\" txtu hbo\" target=\"_blank\" href=\"https://shebanq.ancient-data.org/hebrew/word?version=c&amp;id=1MN\" title=\"Show this on SHEBANQ\"><span class=\"txtu hbo\">מִמֶּ֖נּוּ </span></a></div></div></div></div><div class=\"contnr c1  rtl  \" ><div class=\"lbl c1  \" ><a href=\"#\" class=\"nd\">phrase_atom:939096</a></div><div class=\"children hor wrap rtl\"><div class=\"contnr c0 trm rtl  hl\" ><div class=\"lbl c0 trm hl\" ><a href=\"#\" class=\"nd\">55580</a> <a class=\" txtu hbo\" target=\"_blank\" href=\"https://shebanq.ancient-data.org/hebrew/word?version=c&amp;id=1OD\" title=\"Show this on SHEBANQ\"><span class=\"txtu hbo\">עַד־</span></a></div></div><div class=\"contnr c0 trm rtl  hl\" ><div class=\"lbl c0 trm hl\" ><a href=\"#\" class=\"nd\">55581</a> <a class=\" txtu hbo\" target=\"_blank\" href=\"https://shebanq.ancient-data.org/hebrew/word?version=c&amp;id=1BQRin\" title=\"Show this on SHEBANQ\"><span class=\"txtu hbo\">בֹּֽקֶר׃ </span></a></div></div></div></div></div></div></div></div></div>ESV: And the flesh of the sacrifice of his peace offerings for thanksgiving shall be eaten on the day of his offering . He shall not leave any of it until the morning .<br>"
   ]
  },
  {
   "cell_type": "code",
   "execution_count": null,
   "metadata": {},
   "outputs": [],
   "source": [
    "save(438414,\n",
    "\n",
    "{'functions': ['anterior_dur'],\n",
    " 'preps': [['<D', 55580]],\n",
    " 'quals': ['durative'],\n",
    " 'slots': [55580, 55581],\n",
    " 'times': [55581]}\n",
    "\n",
    ")"
   ]
  },
  {
   "cell_type": "markdown",
   "metadata": {},
   "source": [
    "<div class=\"tfsechead rtl\"><a target=\"_blank\" href=\"https://shebanq.ancient-data.org/hebrew/text?book=Leviticus&amp;chapter=7&amp;verse=17&amp;version=c&amp;mr=m&amp;qw=q&amp;tp=txt_p&amp;tr=hb&amp;wget=v&amp;qget=v&amp;nget=vt\" title=\"Show this on SHEBANQ\" sec=\"Leviticus 7:17\">Leviticus 7:17</a></div><div class=\"rtl children\"><div class=\"contnr c2  rtl  \" ><div class=\"lbl c2  \" ><a href=\"#\" class=\"nd\">clause:438422</a></div><div class=\"children hor wrap rtl\"><div class=\"contnr c1  rtl  \" ><div class=\"lbl c1  \" ><a href=\"#\" class=\"nd\">clause_atom:526861</a></div><div class=\"children hor wrap rtl\"><div class=\"contnr c1  rtl  \" ><div class=\"lbl c1  \" ><a href=\"#\" class=\"nd\">phrase_atom:939113</a></div><div class=\"children hor wrap rtl\"><div class=\"contnr c0 trm rtl  \" ><div class=\"lbl c0 trm \" ><a href=\"#\" class=\"nd\">55604</a> <a class=\" txtu hbo\" target=\"_blank\" href=\"https://shebanq.ancient-data.org/hebrew/word?version=c&amp;id=1H\" title=\"Show this on SHEBANQ\"><span class=\"txtu hbo\">הַ</span></a></div></div></div></div><div class=\"contnr c1  rtl  \" ><div class=\"lbl c1  \" ><a href=\"#\" class=\"nd\">phrase_atom:939114</a></div><div class=\"children hor wrap rtl\"><div class=\"contnr c0 trm rtl  \" ><div class=\"lbl c0 trm \" ><a href=\"#\" class=\"nd\">55605</a> <a class=\" txtu hbo\" target=\"_blank\" href=\"https://shebanq.ancient-data.org/hebrew/word?version=c&amp;id=1JTRv\" title=\"Show this on SHEBANQ\"><span class=\"txtu hbo\">נֹּותָ֖ר </span></a></div></div></div></div><div class=\"contnr c1  rtl  \" ><div class=\"lbl c1  \" ><a href=\"#\" class=\"nd\">phrase_atom:939115</a></div><div class=\"children hor wrap rtl\"><div class=\"contnr c0 trm rtl  \" ><div class=\"lbl c0 trm \" ><a href=\"#\" class=\"nd\">55606</a> <a class=\" txtu hbo\" target=\"_blank\" href=\"https://shebanq.ancient-data.org/hebrew/word?version=c&amp;id=1MN\" title=\"Show this on SHEBANQ\"><span class=\"txtu hbo\">מִ</span></a></div></div><div class=\"contnr c0 trm rtl  \" ><div class=\"lbl c0 trm \" ><a href=\"#\" class=\"nd\">55607</a> <a class=\" txtu hbo\" target=\"_blank\" href=\"https://shebanq.ancient-data.org/hebrew/word?version=c&amp;id=1BFRn\" title=\"Show this on SHEBANQ\"><span class=\"txtu hbo\">בְּשַׂ֣ר </span></a></div></div><div class=\"contnr c0 trm rtl  \" ><div class=\"lbl c0 trm \" ><a href=\"#\" class=\"nd\">55608</a> <a class=\" txtu hbo\" target=\"_blank\" href=\"https://shebanq.ancient-data.org/hebrew/word?version=c&amp;id=1H\" title=\"Show this on SHEBANQ\"><span class=\"txtu hbo\">הַ</span></a></div></div><div class=\"contnr c0 trm rtl  \" ><div class=\"lbl c0 trm \" ><a href=\"#\" class=\"nd\">55609</a> <a class=\" txtu hbo\" target=\"_blank\" href=\"https://shebanq.ancient-data.org/hebrew/word?version=c&amp;id=1ZBXn\" title=\"Show this on SHEBANQ\"><span class=\"txtu hbo\">זָּ֑בַח </span></a></div></div></div></div><div class=\"contnr c1  rtl  \" ><div class=\"lbl c1  \" ><a href=\"#\" class=\"nd\">phrase_atom:939116</a></div><div class=\"children hor wrap rtl\"><div class=\"contnr c0 trm rtl  hl\" ><div class=\"lbl c0 trm hl\" ><a href=\"#\" class=\"nd\">55610</a> <a class=\" txtu hbo\" target=\"_blank\" href=\"https://shebanq.ancient-data.org/hebrew/word?version=c&amp;id=1B\" title=\"Show this on SHEBANQ\"><span class=\"txtu hbo\">בַּ</span></a></div></div><div class=\"contnr c0 trm rtl  hl\" ><div class=\"lbl c0 trm hl\" ><a href=\"#\" class=\"nd\">55611</a> <a class=\" txtu hbo\" target=\"_blank\" href=\"https://shebanq.ancient-data.org/hebrew/word?version=c&amp;id=1H\" title=\"Show this on SHEBANQ\"></a></div></div><div class=\"contnr c0 trm rtl  hl\" ><div class=\"lbl c0 trm hl\" ><a href=\"#\" class=\"nd\">55612</a> <a class=\" txtu hbo\" target=\"_blank\" href=\"https://shebanq.ancient-data.org/hebrew/word?version=c&amp;id=1JWMn\" title=\"Show this on SHEBANQ\"><span class=\"txtu hbo\">יֹּום֙ </span></a></div></div><div class=\"contnr c0 trm rtl  \" ><div class=\"lbl c0 trm \" ><a href=\"#\" class=\"nd\">55613</a> <a class=\" txtu hbo\" target=\"_blank\" href=\"https://shebanq.ancient-data.org/hebrew/word?version=c&amp;id=1H\" title=\"Show this on SHEBANQ\"><span class=\"txtu hbo\">הַ</span></a></div></div><div class=\"contnr c0 trm rtl  hl\" ><div class=\"lbl c0 trm hl\" ><a href=\"#\" class=\"nd\">55614</a> <a class=\" txtu hbo\" target=\"_blank\" href=\"https://shebanq.ancient-data.org/hebrew/word?version=c&amp;id=1CLJCJn\" title=\"Show this on SHEBANQ\"><span class=\"txtu hbo\">שְּׁלִישִׁ֔י </span></a></div></div></div></div></div></div></div></div></div>ESV: But what remains of the flesh of the sacrifice on the third day shall be burned up with fire .<br>"
   ]
  },
  {
   "cell_type": "code",
   "execution_count": null,
   "metadata": {},
   "outputs": [],
   "source": [
    "save(438422,\n",
    "\n",
    "{'functions': ['simultaneous'],\n",
    " 'preps': [['B', 55610]],\n",
    " 'refs': [['ORDN', 55614], ['THE', 55611]],\n",
    " 'slots': [55610, 55611, 55612, 55614],\n",
    " 'times': [55612]}\n",
    "\n",
    ")"
   ]
  },
  {
   "cell_type": "markdown",
   "metadata": {},
   "source": [
    "<div class=\"tfsechead rtl\"><a target=\"_blank\" href=\"https://shebanq.ancient-data.org/hebrew/text?book=Leviticus&amp;chapter=7&amp;verse=18&amp;version=c&amp;mr=m&amp;qw=q&amp;tp=txt_p&amp;tr=hb&amp;wget=v&amp;qget=v&amp;nget=vt\" title=\"Show this on SHEBANQ\" sec=\"Leviticus 7:18\">Leviticus 7:18</a></div><div class=\"rtl children\"><div class=\"contnr c2  rtl  \" ><div class=\"lbl c2  \" ><a href=\"#\" class=\"nd\">clause:438423</a></div><div class=\"children hor wrap rtl\"><div class=\"contnr c1  rtl  \" ><div class=\"lbl c1  \" ><a href=\"#\" class=\"nd\">clause_atom:526863</a></div><div class=\"children hor wrap rtl\"><div class=\"contnr c1  rtl  \" ><div class=\"lbl c1  \" ><a href=\"#\" class=\"nd\">phrase_atom:939119</a></div><div class=\"children hor wrap rtl\"><div class=\"contnr c0 trm rtl  \" ><div class=\"lbl c0 trm \" ><a href=\"#\" class=\"nd\">55619</a> <a class=\" txtu hbo\" target=\"_blank\" href=\"https://shebanq.ancient-data.org/hebrew/word?version=c&amp;id=1W\" title=\"Show this on SHEBANQ\"><span class=\"txtu hbo\">וְ</span></a></div></div></div></div><div class=\"contnr c1  rtl  \" ><div class=\"lbl c1  \" ><a href=\"#\" class=\"nd\">phrase_atom:939120</a></div><div class=\"children hor wrap rtl\"><div class=\"contnr c0 trm rtl  \" ><div class=\"lbl c0 trm \" ><a href=\"#\" class=\"nd\">55620</a> <a class=\" txtu hbo\" target=\"_blank\" href=\"https://shebanq.ancient-data.org/hebrew/word?version=c&amp;id=1AM\" title=\"Show this on SHEBANQ\"><span class=\"txtu hbo\">אִ֣ם </span></a></div></div></div></div><div class=\"contnr c1  rtl  \" ><div class=\"lbl c1  \" ><a href=\"#\" class=\"nd\">phrase_atom:939121</a></div><div class=\"children hor wrap rtl\"><div class=\"contnr c0 trm rtl  \" ><div class=\"lbl c0 trm \" ><a href=\"#\" class=\"nd\">55621</a> <a class=\" txtu hbo\" target=\"_blank\" href=\"https://shebanq.ancient-data.org/hebrew/word?version=c&amp;id=1AKLv\" title=\"Show this on SHEBANQ\"><span class=\"txtu hbo\">הֵאָכֹ֣ל </span></a></div></div></div></div><div class=\"contnr c1  rtl  \" ><div class=\"lbl c1  \" ><a href=\"#\" class=\"nd\">phrase_atom:939122</a></div><div class=\"children hor wrap rtl\"><div class=\"contnr c0 trm rtl  \" ><div class=\"lbl c0 trm \" ><a href=\"#\" class=\"nd\">55622</a> <a class=\" txtu hbo\" target=\"_blank\" href=\"https://shebanq.ancient-data.org/hebrew/word?version=c&amp;id=1AKLv\" title=\"Show this on SHEBANQ\"><span class=\"txtu hbo\">יֵ֠אָכֵל </span></a></div></div></div></div><div class=\"contnr c1  rtl  \" ><div class=\"lbl c1  \" ><a href=\"#\" class=\"nd\">phrase_atom:939123</a></div><div class=\"children hor wrap rtl\"><div class=\"contnr c0 trm rtl  \" ><div class=\"lbl c0 trm \" ><a href=\"#\" class=\"nd\">55623</a> <a class=\" txtu hbo\" target=\"_blank\" href=\"https://shebanq.ancient-data.org/hebrew/word?version=c&amp;id=1MN\" title=\"Show this on SHEBANQ\"><span class=\"txtu hbo\">מִ</span></a></div></div><div class=\"contnr c0 trm rtl  \" ><div class=\"lbl c0 trm \" ><a href=\"#\" class=\"nd\">55624</a> <a class=\" txtu hbo\" target=\"_blank\" href=\"https://shebanq.ancient-data.org/hebrew/word?version=c&amp;id=1BFRn\" title=\"Show this on SHEBANQ\"><span class=\"txtu hbo\">בְּשַׂר־</span></a></div></div><div class=\"contnr c0 trm rtl  \" ><div class=\"lbl c0 trm \" ><a href=\"#\" class=\"nd\">55625</a> <a class=\" txtu hbo\" target=\"_blank\" href=\"https://shebanq.ancient-data.org/hebrew/word?version=c&amp;id=1ZBXn\" title=\"Show this on SHEBANQ\"><span class=\"txtu hbo\">זֶ֨בַח </span></a></div></div><div class=\"contnr c0 trm rtl  \" ><div class=\"lbl c0 trm \" ><a href=\"#\" class=\"nd\">55626</a> <a class=\" txtu hbo\" target=\"_blank\" href=\"https://shebanq.ancient-data.org/hebrew/word?version=c&amp;id=1CLMn\" title=\"Show this on SHEBANQ\"><span class=\"txtu hbo\">שְׁלָמָ֜יו </span></a></div></div></div></div><div class=\"contnr c1  rtl  \" ><div class=\"lbl c1  \" ><a href=\"#\" class=\"nd\">phrase_atom:939124</a></div><div class=\"children hor wrap rtl\"><div class=\"contnr c0 trm rtl  hl\" ><div class=\"lbl c0 trm hl\" ><a href=\"#\" class=\"nd\">55627</a> <a class=\" txtu hbo\" target=\"_blank\" href=\"https://shebanq.ancient-data.org/hebrew/word?version=c&amp;id=1B\" title=\"Show this on SHEBANQ\"><span class=\"txtu hbo\">בַּ</span></a></div></div><div class=\"contnr c0 trm rtl  hl\" ><div class=\"lbl c0 trm hl\" ><a href=\"#\" class=\"nd\">55628</a> <a class=\" txtu hbo\" target=\"_blank\" href=\"https://shebanq.ancient-data.org/hebrew/word?version=c&amp;id=1H\" title=\"Show this on SHEBANQ\"></a></div></div><div class=\"contnr c0 trm rtl  hl\" ><div class=\"lbl c0 trm hl\" ><a href=\"#\" class=\"nd\">55629</a> <a class=\" txtu hbo\" target=\"_blank\" href=\"https://shebanq.ancient-data.org/hebrew/word?version=c&amp;id=1JWMn\" title=\"Show this on SHEBANQ\"><span class=\"txtu hbo\">יֹּ֣ום </span></a></div></div><div class=\"contnr c0 trm rtl  \" ><div class=\"lbl c0 trm \" ><a href=\"#\" class=\"nd\">55630</a> <a class=\" txtu hbo\" target=\"_blank\" href=\"https://shebanq.ancient-data.org/hebrew/word?version=c&amp;id=1H\" title=\"Show this on SHEBANQ\"><span class=\"txtu hbo\">הַ</span></a></div></div><div class=\"contnr c0 trm rtl  hl\" ><div class=\"lbl c0 trm hl\" ><a href=\"#\" class=\"nd\">55631</a> <a class=\" txtu hbo\" target=\"_blank\" href=\"https://shebanq.ancient-data.org/hebrew/word?version=c&amp;id=1CLJCJn\" title=\"Show this on SHEBANQ\"><span class=\"txtu hbo\">שְּׁלִישִׁי֮ </span></a></div></div></div></div></div></div></div></div></div>ESV: If any of the flesh of the sacrifice of his peace offering is eaten on the third day , he who offers it shall not be accepted , neither shall it be credited to him . It is tainted , and he who eats of it shall bear his iniquity .<br>"
   ]
  },
  {
   "cell_type": "code",
   "execution_count": null,
   "metadata": {},
   "outputs": [],
   "source": [
    "save(438423,\n",
    "\n",
    "{'functions': ['simultaneous'],\n",
    " 'preps': [['B', 55627]],\n",
    " 'refs': [['ORDN', 55631], ['THE', 55628]],\n",
    " 'slots': [55627, 55628, 55629, 55631],\n",
    " 'times': [55629]}\n",
    "\n",
    ")"
   ]
  },
  {
   "cell_type": "markdown",
   "metadata": {},
   "source": [
    "<div class=\"tfsechead rtl\"><a target=\"_blank\" href=\"https://shebanq.ancient-data.org/hebrew/text?book=Leviticus&amp;chapter=8&amp;verse=33&amp;version=c&amp;mr=m&amp;qw=q&amp;tp=txt_p&amp;tr=hb&amp;wget=v&amp;qget=v&amp;nget=vt\" title=\"Show this on SHEBANQ\" sec=\"Leviticus 8:33\">Leviticus 8:33</a></div><div class=\"rtl children\"><div class=\"contnr c2  rtl  \" ><div class=\"lbl c2  \" ><a href=\"#\" class=\"nd\">clause:438594</a></div><div class=\"children hor wrap rtl\"><div class=\"contnr c1  rtl  \" ><div class=\"lbl c1  \" ><a href=\"#\" class=\"nd\">clause_atom:527042</a></div><div class=\"children hor wrap rtl\"><div class=\"contnr c1  rtl  \" ><div class=\"lbl c1  \" ><a href=\"#\" class=\"nd\">phrase_atom:939706</a></div><div class=\"children hor wrap rtl\"><div class=\"contnr c0 trm rtl  \" ><div class=\"lbl c0 trm \" ><a href=\"#\" class=\"nd\">56820</a> <a class=\" txtu hbo\" target=\"_blank\" href=\"https://shebanq.ancient-data.org/hebrew/word?version=c&amp;id=1KJ\" title=\"Show this on SHEBANQ\"><span class=\"txtu hbo\">כִּ֚י </span></a></div></div></div></div><div class=\"contnr c1  rtl  \" ><div class=\"lbl c1  \" ><a href=\"#\" class=\"nd\">phrase_atom:939707</a></div><div class=\"children hor wrap rtl\"><div class=\"contnr c0 trm rtl  hl\" ><div class=\"lbl c0 trm hl\" ><a href=\"#\" class=\"nd\">56821</a> <a class=\" txtu hbo\" target=\"_blank\" href=\"https://shebanq.ancient-data.org/hebrew/word?version=c&amp;id=1CBOn\" title=\"Show this on SHEBANQ\"><span class=\"txtu hbo\">שִׁבְעַ֣ת </span></a></div></div><div class=\"contnr c0 trm rtl  hl\" ><div class=\"lbl c0 trm hl\" ><a href=\"#\" class=\"nd\">56822</a> <a class=\" txtu hbo\" target=\"_blank\" href=\"https://shebanq.ancient-data.org/hebrew/word?version=c&amp;id=1JWMn\" title=\"Show this on SHEBANQ\"><span class=\"txtu hbo\">יָמִ֔ים </span></a></div></div></div></div><div class=\"contnr c1  rtl  \" ><div class=\"lbl c1  \" ><a href=\"#\" class=\"nd\">phrase_atom:939708</a></div><div class=\"children hor wrap rtl\"><div class=\"contnr c0 trm rtl  \" ><div class=\"lbl c0 trm \" ><a href=\"#\" class=\"nd\">56823</a> <a class=\" txtu hbo\" target=\"_blank\" href=\"https://shebanq.ancient-data.org/hebrew/word?version=c&amp;id=1MLAv\" title=\"Show this on SHEBANQ\"><span class=\"txtu hbo\">יְמַלֵּ֖א </span></a></div></div></div></div><div class=\"contnr c1  rtl  \" ><div class=\"lbl c1  \" ><a href=\"#\" class=\"nd\">phrase_atom:939709</a></div><div class=\"children hor wrap rtl\"><div class=\"contnr c0 trm rtl  \" ><div class=\"lbl c0 trm \" ><a href=\"#\" class=\"nd\">56824</a> <a class=\" txtu hbo\" target=\"_blank\" href=\"https://shebanq.ancient-data.org/hebrew/word?version=c&amp;id=1AT\" title=\"Show this on SHEBANQ\"><span class=\"txtu hbo\">אֶת־</span></a></div></div><div class=\"contnr c0 trm rtl  \" ><div class=\"lbl c0 trm \" ><a href=\"#\" class=\"nd\">56825</a> <a class=\" txtu hbo\" target=\"_blank\" href=\"https://shebanq.ancient-data.org/hebrew/word?version=c&amp;id=1JDn\" title=\"Show this on SHEBANQ\"><span class=\"txtu hbo\">יֶדְכֶֽם׃ </span></a></div></div></div></div></div></div></div></div></div>ESV: And you shall not go outside the entrance of the tent of meeting for seven days , until the days of your ordination are completed , for it will take seven days to ordain you .<br>"
   ]
  },
  {
   "cell_type": "code",
   "execution_count": null,
   "metadata": {},
   "outputs": [],
   "source": [
    "save(438594,\n",
    "\n",
    "{'functions': ['atelic_ext'],\n",
    " 'quals': ['durative'],\n",
    " 'quants': [['NUMQ', 56821]],\n",
    " 'slots': [56821, 56822],\n",
    " 'times': [56822]}\n",
    "\n",
    ")"
   ]
  },
  {
   "cell_type": "markdown",
   "metadata": {},
   "source": [
    "<div class=\"tfsechead rtl\"><a target=\"_blank\" href=\"https://shebanq.ancient-data.org/hebrew/text?book=Leviticus&amp;chapter=8&amp;verse=34&amp;version=c&amp;mr=m&amp;qw=q&amp;tp=txt_p&amp;tr=hb&amp;wget=v&amp;qget=v&amp;nget=vt\" title=\"Show this on SHEBANQ\" sec=\"Leviticus 8:34\">Leviticus 8:34</a></div><div class=\"rtl children\"><div class=\"contnr c2  rtl  \" ><div class=\"lbl c2  \" ><a href=\"#\" class=\"nd\">clause:438595</a></div><div class=\"children hor wrap rtl\"><div class=\"contnr c1  rtl  \" ><div class=\"lbl c1  \" ><a href=\"#\" class=\"nd\">clause_atom:527043</a></div><div class=\"children hor wrap rtl\"><div class=\"contnr c1  rtl  \" ><div class=\"lbl c1  \" ><a href=\"#\" class=\"nd\">phrase_atom:939710</a></div><div class=\"children hor wrap rtl\"><div class=\"contnr c0 trm rtl  \" ><div class=\"lbl c0 trm \" ><a href=\"#\" class=\"nd\">56826</a> <a class=\" txtu hbo\" target=\"_blank\" href=\"https://shebanq.ancient-data.org/hebrew/word?version=c&amp;id=1K\" title=\"Show this on SHEBANQ\"><span class=\"txtu hbo\">כַּ</span></a></div></div><div class=\"contnr c0 trm rtl  \" ><div class=\"lbl c0 trm \" ><a href=\"#\" class=\"nd\">56827</a> <a class=\" txtu hbo\" target=\"_blank\" href=\"https://shebanq.ancient-data.org/hebrew/word?version=c&amp;id=1ACR\" title=\"Show this on SHEBANQ\"><span class=\"txtu hbo\">אֲשֶׁ֥ר </span></a></div></div></div></div><div class=\"contnr c1  rtl  \" ><div class=\"lbl c1  \" ><a href=\"#\" class=\"nd\">phrase_atom:939711</a></div><div class=\"children hor wrap rtl\"><div class=\"contnr c0 trm rtl  \" ><div class=\"lbl c0 trm \" ><a href=\"#\" class=\"nd\">56828</a> <a class=\" txtu hbo\" target=\"_blank\" href=\"https://shebanq.ancient-data.org/hebrew/word?version=c&amp;id=1OFHv\" title=\"Show this on SHEBANQ\"><span class=\"txtu hbo\">עָשָׂ֖ה </span></a></div></div></div></div><div class=\"contnr c1  rtl  \" ><div class=\"lbl c1  \" ><a href=\"#\" class=\"nd\">phrase_atom:939712</a></div><div class=\"children hor wrap rtl\"><div class=\"contnr c0 trm rtl  hl\" ><div class=\"lbl c0 trm hl\" ><a href=\"#\" class=\"nd\">56829</a> <a class=\" txtu hbo\" target=\"_blank\" href=\"https://shebanq.ancient-data.org/hebrew/word?version=c&amp;id=1B\" title=\"Show this on SHEBANQ\"><span class=\"txtu hbo\">בַּ</span></a></div></div><div class=\"contnr c0 trm rtl  hl\" ><div class=\"lbl c0 trm hl\" ><a href=\"#\" class=\"nd\">56830</a> <a class=\" txtu hbo\" target=\"_blank\" href=\"https://shebanq.ancient-data.org/hebrew/word?version=c&amp;id=1H\" title=\"Show this on SHEBANQ\"></a></div></div><div class=\"contnr c0 trm rtl  hl\" ><div class=\"lbl c0 trm hl\" ><a href=\"#\" class=\"nd\">56831</a> <a class=\" txtu hbo\" target=\"_blank\" href=\"https://shebanq.ancient-data.org/hebrew/word?version=c&amp;id=1JWMn\" title=\"Show this on SHEBANQ\"><span class=\"txtu hbo\">יֹּ֣ום </span></a></div></div><div class=\"contnr c0 trm rtl  \" ><div class=\"lbl c0 trm \" ><a href=\"#\" class=\"nd\">56832</a> <a class=\" txtu hbo\" target=\"_blank\" href=\"https://shebanq.ancient-data.org/hebrew/word?version=c&amp;id=1H\" title=\"Show this on SHEBANQ\"><span class=\"txtu hbo\">הַ</span></a></div></div><div class=\"contnr c0 trm rtl  hl\" ><div class=\"lbl c0 trm hl\" ><a href=\"#\" class=\"nd\">56833</a> <a class=\" txtu hbo\" target=\"_blank\" href=\"https://shebanq.ancient-data.org/hebrew/word?version=c&amp;id=1ZH\" title=\"Show this on SHEBANQ\"><span class=\"txtu hbo\">זֶּ֑ה </span></a></div></div></div></div></div></div></div></div></div>ESV: As has been done today , the Lord has commanded to be done to make atonement for you .<br>"
   ]
  },
  {
   "cell_type": "code",
   "execution_count": null,
   "metadata": {},
   "outputs": [],
   "source": [
    "save(438595,\n",
    "\n",
    "{'functions': ['simultaneous'],\n",
    " 'preps': [['B', 56829]],\n",
    " 'refs': [['THIS', 56833], ['THE', 56830]],\n",
    " 'slots': [56829, 56830, 56831, 56833],\n",
    " 'times': [56831]}\n",
    "\n",
    ")"
   ]
  },
  {
   "cell_type": "markdown",
   "metadata": {},
   "source": [
    "<div class=\"tfsechead rtl\"><a target=\"_blank\" href=\"https://shebanq.ancient-data.org/hebrew/text?book=Leviticus&amp;chapter=8&amp;verse=35&amp;version=c&amp;mr=m&amp;qw=q&amp;tp=txt_p&amp;tr=hb&amp;wget=v&amp;qget=v&amp;nget=vt\" title=\"Show this on SHEBANQ\" sec=\"Leviticus 8:35\">Leviticus 8:35</a></div><div class=\"rtl children\"><div class=\"contnr c2  rtl  \" ><div class=\"lbl c2  \" ><a href=\"#\" class=\"nd\">clause:438599</a></div><div class=\"children hor wrap rtl\"><div class=\"contnr c1  rtl  \" ><div class=\"lbl c1  \" ><a href=\"#\" class=\"nd\">clause_atom:527047</a></div><div class=\"children hor wrap rtl\"><div class=\"contnr c1  rtl  \" ><div class=\"lbl c1  \" ><a href=\"#\" class=\"nd\">phrase_atom:939718</a></div><div class=\"children hor wrap rtl\"><div class=\"contnr c0 trm rtl  \" ><div class=\"lbl c0 trm \" ><a href=\"#\" class=\"nd\">56841</a> <a class=\" txtu hbo\" target=\"_blank\" href=\"https://shebanq.ancient-data.org/hebrew/word?version=c&amp;id=1W\" title=\"Show this on SHEBANQ\"><span class=\"txtu hbo\">וּ</span></a></div></div></div></div><div class=\"contnr c1  rtl  \" ><div class=\"lbl c1  \" ><a href=\"#\" class=\"nd\">phrase_atom:939719</a></div><div class=\"children hor wrap rtl\"><div class=\"contnr c0 trm rtl  \" ><div class=\"lbl c0 trm \" ><a href=\"#\" class=\"nd\">56842</a> <a class=\" txtu hbo\" target=\"_blank\" href=\"https://shebanq.ancient-data.org/hebrew/word?version=c&amp;id=1PTXn\" title=\"Show this on SHEBANQ\"><span class=\"txtu hbo\">פֶתַח֩ </span></a></div></div><div class=\"contnr c0 trm rtl  \" ><div class=\"lbl c0 trm \" ><a href=\"#\" class=\"nd\">56843</a> <a class=\" txtu hbo\" target=\"_blank\" href=\"https://shebanq.ancient-data.org/hebrew/word?version=c&amp;id=1AHLn\" title=\"Show this on SHEBANQ\"><span class=\"txtu hbo\">אֹ֨הֶל </span></a></div></div><div class=\"contnr c0 trm rtl  \" ><div class=\"lbl c0 trm \" ><a href=\"#\" class=\"nd\">56844</a> <a class=\" txtu hbo\" target=\"_blank\" href=\"https://shebanq.ancient-data.org/hebrew/word?version=c&amp;id=1MWODn\" title=\"Show this on SHEBANQ\"><span class=\"txtu hbo\">מֹועֵ֜ד </span></a></div></div></div></div><div class=\"contnr c1  rtl  \" ><div class=\"lbl c1  \" ><a href=\"#\" class=\"nd\">phrase_atom:939720</a></div><div class=\"children hor wrap rtl\"><div class=\"contnr c0 trm rtl  \" ><div class=\"lbl c0 trm \" ><a href=\"#\" class=\"nd\">56845</a> <a class=\" txtu hbo\" target=\"_blank\" href=\"https://shebanq.ancient-data.org/hebrew/word?version=c&amp;id=1JCBv\" title=\"Show this on SHEBANQ\"><span class=\"txtu hbo\">תֵּשְׁב֨וּ </span></a></div></div></div></div><div class=\"contnr c1  rtl  \" ><div class=\"lbl c1  \" ><a href=\"#\" class=\"nd\">phrase_atom:939721</a></div><div class=\"children hor wrap rtl\"><div class=\"contnr c0 trm rtl  hl\" ><div class=\"lbl c0 trm hl\" ><a href=\"#\" class=\"nd\">56846</a> <a class=\" txtu hbo\" target=\"_blank\" href=\"https://shebanq.ancient-data.org/hebrew/word?version=c&amp;id=1JWMM\" title=\"Show this on SHEBANQ\"><span class=\"txtu hbo\">יֹומָ֤ם </span></a></div></div><div class=\"contnr c0 trm rtl  \" ><div class=\"lbl c0 trm \" ><a href=\"#\" class=\"nd\">56847</a> <a class=\" txtu hbo\" target=\"_blank\" href=\"https://shebanq.ancient-data.org/hebrew/word?version=c&amp;id=1W\" title=\"Show this on SHEBANQ\"><span class=\"txtu hbo\">וָ</span></a></div></div><div class=\"contnr c0 trm rtl  hl\" ><div class=\"lbl c0 trm hl\" ><a href=\"#\" class=\"nd\">56848</a> <a class=\" txtu hbo\" target=\"_blank\" href=\"https://shebanq.ancient-data.org/hebrew/word?version=c&amp;id=1LJLHn\" title=\"Show this on SHEBANQ\"><span class=\"txtu hbo\">לַ֨יְלָה֙ </span></a></div></div></div></div><div class=\"contnr c1  rtl  \" ><div class=\"lbl c1  \" ><a href=\"#\" class=\"nd\">phrase_atom:939722</a></div><div class=\"children hor wrap rtl\"><div class=\"contnr c0 trm rtl  hl\" ><div class=\"lbl c0 trm hl\" ><a href=\"#\" class=\"nd\">56849</a> <a class=\" txtu hbo\" target=\"_blank\" href=\"https://shebanq.ancient-data.org/hebrew/word?version=c&amp;id=1CBOn\" title=\"Show this on SHEBANQ\"><span class=\"txtu hbo\">שִׁבְעַ֣ת </span></a></div></div><div class=\"contnr c0 trm rtl  hl\" ><div class=\"lbl c0 trm hl\" ><a href=\"#\" class=\"nd\">56850</a> <a class=\" txtu hbo\" target=\"_blank\" href=\"https://shebanq.ancient-data.org/hebrew/word?version=c&amp;id=1JWMn\" title=\"Show this on SHEBANQ\"><span class=\"txtu hbo\">יָמִ֔ים </span></a></div></div></div></div></div></div></div></div></div>ESV: At the entrance of the tent of meeting you shall remain day and night for seven days , performing what the Lord has charged , so that you do not die , for so I have been commanded . ”<br>"
   ]
  },
  {
   "cell_type": "code",
   "execution_count": null,
   "metadata": {},
   "outputs": [],
   "source": [
    "save(438599,\n",
    "\n",
    "{'functions': ['atelic_ext'],\n",
    " 'slots': [56846, 56848, 56849, 56850],\n",
    " 'times': [{'functions': ['atelic_ext'],\n",
    "            'quals': ['durative'],\n",
    "            'slots': [56846, 56848],\n",
    "            'times': [{'quals': ['durative'],\n",
    "                       'slots': [56846],\n",
    "                       'times': [56846]},\n",
    "                      {'slots': [56848], 'times': [56848]}]},\n",
    "           {'functions': ['atelic_ext'],\n",
    "            'quals': ['durative'],\n",
    "            'quants': [['NUMQ', 56849]],\n",
    "            'slots': [56849, 56850],\n",
    "            'times': [56850]}]}\n",
    "\n",
    ")"
   ]
  },
  {
   "cell_type": "markdown",
   "metadata": {},
   "source": [
    "<div class=\"tfsechead rtl\"><a target=\"_blank\" href=\"https://shebanq.ancient-data.org/hebrew/text?book=Leviticus&amp;chapter=9&amp;verse=1&amp;version=c&amp;mr=m&amp;qw=q&amp;tp=txt_p&amp;tr=hb&amp;wget=v&amp;qget=v&amp;nget=vt\" title=\"Show this on SHEBANQ\" sec=\"Leviticus 9:1\">Leviticus 9:1</a></div><div class=\"rtl children\"><div class=\"contnr c2  rtl  \" ><div class=\"lbl c2  \" ><a href=\"#\" class=\"nd\">clause:438605</a></div><div class=\"children hor wrap rtl\"><div class=\"contnr c1  rtl  \" ><div class=\"lbl c1  \" ><a href=\"#\" class=\"nd\">clause_atom:527053</a></div><div class=\"children hor wrap rtl\"><div class=\"contnr c1  rtl  \" ><div class=\"lbl c1  \" ><a href=\"#\" class=\"nd\">phrase_atom:939740</a></div><div class=\"children hor wrap rtl\"><div class=\"contnr c0 trm rtl  \" ><div class=\"lbl c0 trm \" ><a href=\"#\" class=\"nd\">56877</a> <a class=\" txtu hbo\" target=\"_blank\" href=\"https://shebanq.ancient-data.org/hebrew/word?version=c&amp;id=1W\" title=\"Show this on SHEBANQ\"><span class=\"txtu hbo\">וַ</span></a></div></div></div></div><div class=\"contnr c1  rtl  \" ><div class=\"lbl c1  \" ><a href=\"#\" class=\"nd\">phrase_atom:939741</a></div><div class=\"children hor wrap rtl\"><div class=\"contnr c0 trm rtl  \" ><div class=\"lbl c0 trm \" ><a href=\"#\" class=\"nd\">56878</a> <a class=\" txtu hbo\" target=\"_blank\" href=\"https://shebanq.ancient-data.org/hebrew/word?version=c&amp;id=1HJHv\" title=\"Show this on SHEBANQ\"><span class=\"txtu hbo\">יְהִי֙ </span></a></div></div></div></div><div class=\"contnr c1  rtl  \" ><div class=\"lbl c1  \" ><a href=\"#\" class=\"nd\">phrase_atom:939742</a></div><div class=\"children hor wrap rtl\"><div class=\"contnr c0 trm rtl  hl\" ><div class=\"lbl c0 trm hl\" ><a href=\"#\" class=\"nd\">56879</a> <a class=\" txtu hbo\" target=\"_blank\" href=\"https://shebanq.ancient-data.org/hebrew/word?version=c&amp;id=1B\" title=\"Show this on SHEBANQ\"><span class=\"txtu hbo\">בַּ</span></a></div></div><div class=\"contnr c0 trm rtl  hl\" ><div class=\"lbl c0 trm hl\" ><a href=\"#\" class=\"nd\">56880</a> <a class=\" txtu hbo\" target=\"_blank\" href=\"https://shebanq.ancient-data.org/hebrew/word?version=c&amp;id=1H\" title=\"Show this on SHEBANQ\"></a></div></div><div class=\"contnr c0 trm rtl  hl\" ><div class=\"lbl c0 trm hl\" ><a href=\"#\" class=\"nd\">56881</a> <a class=\" txtu hbo\" target=\"_blank\" href=\"https://shebanq.ancient-data.org/hebrew/word?version=c&amp;id=1JWMn\" title=\"Show this on SHEBANQ\"><span class=\"txtu hbo\">יֹּ֣ום </span></a></div></div><div class=\"contnr c0 trm rtl  \" ><div class=\"lbl c0 trm \" ><a href=\"#\" class=\"nd\">56882</a> <a class=\" txtu hbo\" target=\"_blank\" href=\"https://shebanq.ancient-data.org/hebrew/word?version=c&amp;id=1H\" title=\"Show this on SHEBANQ\"><span class=\"txtu hbo\">הַ</span></a></div></div><div class=\"contnr c0 trm rtl  hl\" ><div class=\"lbl c0 trm hl\" ><a href=\"#\" class=\"nd\">56883</a> <a class=\" txtu hbo\" target=\"_blank\" href=\"https://shebanq.ancient-data.org/hebrew/word?version=c&amp;id=1CMJNJn\" title=\"Show this on SHEBANQ\"><span class=\"txtu hbo\">שְּׁמִינִ֔י </span></a></div></div></div></div></div></div></div></div></div>ESV: On the eighth day Moses called Aaron and his sons and the elders of Israel ,<br>"
   ]
  },
  {
   "cell_type": "code",
   "execution_count": null,
   "metadata": {},
   "outputs": [],
   "source": [
    "save(438605,\n",
    "\n",
    "{'functions': ['simultaneous'],\n",
    " 'preps': [['B', 56879]],\n",
    " 'refs': [['ORDN', 56883], ['THE', 56880]],\n",
    " 'slots': [56879, 56880, 56881, 56883],\n",
    " 'times': [56881]}\n",
    "\n",
    ")"
   ]
  },
  {
   "cell_type": "markdown",
   "metadata": {},
   "source": [
    "<div class=\"tfsechead rtl\"><a target=\"_blank\" href=\"https://shebanq.ancient-data.org/hebrew/text?book=Leviticus&amp;chapter=9&amp;verse=4&amp;version=c&amp;mr=m&amp;qw=q&amp;tp=txt_p&amp;tr=hb&amp;wget=v&amp;qget=v&amp;nget=vt\" title=\"Show this on SHEBANQ\" sec=\"Leviticus 9:4\">Leviticus 9:4</a></div><div class=\"rtl children\"><div class=\"contnr c2  rtl  \" ><div class=\"lbl c2  \" ><a href=\"#\" class=\"nd\">clause:438617</a></div><div class=\"children hor wrap rtl\"><div class=\"contnr c1  rtl  \" ><div class=\"lbl c1  \" ><a href=\"#\" class=\"nd\">clause_atom:527065</a></div><div class=\"children hor wrap rtl\"><div class=\"contnr c1  rtl  \" ><div class=\"lbl c1  \" ><a href=\"#\" class=\"nd\">phrase_atom:939774</a></div><div class=\"children hor wrap rtl\"><div class=\"contnr c0 trm rtl  \" ><div class=\"lbl c0 trm \" ><a href=\"#\" class=\"nd\">56954</a> <a class=\" txtu hbo\" target=\"_blank\" href=\"https://shebanq.ancient-data.org/hebrew/word?version=c&amp;id=1KJ\" title=\"Show this on SHEBANQ\"><span class=\"txtu hbo\">כִּ֣י </span></a></div></div></div></div><div class=\"contnr c1  rtl  \" ><div class=\"lbl c1  \" ><a href=\"#\" class=\"nd\">phrase_atom:939775</a></div><div class=\"children hor wrap rtl\"><div class=\"contnr c0 trm rtl  hl\" ><div class=\"lbl c0 trm hl\" ><a href=\"#\" class=\"nd\">56955</a> <a class=\" txtu hbo\" target=\"_blank\" href=\"https://shebanq.ancient-data.org/hebrew/word?version=c&amp;id=1H\" title=\"Show this on SHEBANQ\"><span class=\"txtu hbo\">הַ</span></a></div></div><div class=\"contnr c0 trm rtl  hl\" ><div class=\"lbl c0 trm hl\" ><a href=\"#\" class=\"nd\">56956</a> <a class=\" txtu hbo\" target=\"_blank\" href=\"https://shebanq.ancient-data.org/hebrew/word?version=c&amp;id=1JWMn\" title=\"Show this on SHEBANQ\"><span class=\"txtu hbo\">יֹּ֔ום </span></a></div></div></div></div><div class=\"contnr c1  rtl  \" ><div class=\"lbl c1  \" ><a href=\"#\" class=\"nd\">phrase_atom:939776</a></div><div class=\"children hor wrap rtl\"><div class=\"contnr c0 trm rtl  \" ><div class=\"lbl c0 trm \" ><a href=\"#\" class=\"nd\">56957</a> <a class=\" txtu hbo\" target=\"_blank\" href=\"https://shebanq.ancient-data.org/hebrew/word?version=c&amp;id=1JHWHn\" title=\"Show this on SHEBANQ\"><span class=\"txtu hbo\">יְהוָ֖ה </span></a></div></div></div></div><div class=\"contnr c1  rtl  \" ><div class=\"lbl c1  \" ><a href=\"#\" class=\"nd\">phrase_atom:939777</a></div><div class=\"children hor wrap rtl\"><div class=\"contnr c0 trm rtl  \" ><div class=\"lbl c0 trm \" ><a href=\"#\" class=\"nd\">56958</a> <a class=\" txtu hbo\" target=\"_blank\" href=\"https://shebanq.ancient-data.org/hebrew/word?version=c&amp;id=1RAHv\" title=\"Show this on SHEBANQ\"><span class=\"txtu hbo\">נִרְאָ֥ה </span></a></div></div></div></div><div class=\"contnr c1  rtl  \" ><div class=\"lbl c1  \" ><a href=\"#\" class=\"nd\">phrase_atom:939778</a></div><div class=\"children hor wrap rtl\"><div class=\"contnr c0 trm rtl  \" ><div class=\"lbl c0 trm \" ><a href=\"#\" class=\"nd\">56959</a> <a class=\" txtu hbo\" target=\"_blank\" href=\"https://shebanq.ancient-data.org/hebrew/word?version=c&amp;id=1AL\" title=\"Show this on SHEBANQ\"><span class=\"txtu hbo\">אֲלֵיכֶֽם׃ </span></a></div></div></div></div></div></div></div></div></div>ESV: and an ox and a ram for peace offerings , to sacrifice before the Lord , and a grain offering mixed with oil , for today the Lord will appear to you . ’ ”<br>"
   ]
  },
  {
   "cell_type": "code",
   "execution_count": null,
   "metadata": {},
   "outputs": [],
   "source": [
    "save(438617,\n",
    "\n",
    "{'functions': ['simultaneous'],\n",
    " 'refs': [['THE', 56955]],\n",
    " 'slots': [56955, 56956],\n",
    " 'times': [56956]}\n",
    "\n",
    ")"
   ]
  },
  {
   "cell_type": "markdown",
   "metadata": {},
   "source": [
    "<div class=\"tfsechead rtl\"><a target=\"_blank\" href=\"https://shebanq.ancient-data.org/hebrew/text?book=Leviticus&amp;chapter=10&amp;verse=19&amp;version=c&amp;mr=m&amp;qw=q&amp;tp=txt_p&amp;tr=hb&amp;wget=v&amp;qget=v&amp;nget=vt\" title=\"Show this on SHEBANQ\" sec=\"Leviticus 10:19\">Leviticus 10:19</a></div><div class=\"rtl children\"><div class=\"contnr c2  rtl  \" ><div class=\"lbl c2  \" ><a href=\"#\" class=\"nd\">clause:438755</a></div><div class=\"children hor wrap rtl\"><div class=\"contnr c1  rtl  \" ><div class=\"lbl c1  \" ><a href=\"#\" class=\"nd\">clause_atom:527204</a></div><div class=\"children hor wrap rtl\"><div class=\"contnr c1  rtl  \" ><div class=\"lbl c1  \" ><a href=\"#\" class=\"nd\">phrase_atom:940242</a></div><div class=\"children hor wrap rtl\"><div class=\"contnr c0 trm rtl  \" ><div class=\"lbl c0 trm \" ><a href=\"#\" class=\"nd\">57810</a> <a class=\" txtu hbo\" target=\"_blank\" href=\"https://shebanq.ancient-data.org/hebrew/word?version=c&amp;id=1HN\" title=\"Show this on SHEBANQ\"><span class=\"txtu hbo\">הֵ֣ן </span></a></div></div></div></div><div class=\"contnr c1  rtl  \" ><div class=\"lbl c1  \" ><a href=\"#\" class=\"nd\">phrase_atom:940243</a></div><div class=\"children hor wrap rtl\"><div class=\"contnr c0 trm rtl  hl\" ><div class=\"lbl c0 trm hl\" ><a href=\"#\" class=\"nd\">57811</a> <a class=\" txtu hbo\" target=\"_blank\" href=\"https://shebanq.ancient-data.org/hebrew/word?version=c&amp;id=1H\" title=\"Show this on SHEBANQ\"><span class=\"txtu hbo\">הַ֠</span></a></div></div><div class=\"contnr c0 trm rtl  hl\" ><div class=\"lbl c0 trm hl\" ><a href=\"#\" class=\"nd\">57812</a> <a class=\" txtu hbo\" target=\"_blank\" href=\"https://shebanq.ancient-data.org/hebrew/word?version=c&amp;id=1JWMn\" title=\"Show this on SHEBANQ\"><span class=\"txtu hbo\">יֹּום </span></a></div></div></div></div><div class=\"contnr c1  rtl  \" ><div class=\"lbl c1  \" ><a href=\"#\" class=\"nd\">phrase_atom:940244</a></div><div class=\"children hor wrap rtl\"><div class=\"contnr c0 trm rtl  \" ><div class=\"lbl c0 trm \" ><a href=\"#\" class=\"nd\">57813</a> <a class=\" txtu hbo\" target=\"_blank\" href=\"https://shebanq.ancient-data.org/hebrew/word?version=c&amp;id=1QRBv\" title=\"Show this on SHEBANQ\"><span class=\"txtu hbo\">הִקְרִ֨יבוּ </span></a></div></div></div></div><div class=\"contnr c1  rtl  \" ><div class=\"lbl c1  \" ><a href=\"#\" class=\"nd\">phrase_atom:940245</a></div><div class=\"children hor wrap rtl\"><div class=\"contnr c0 trm rtl  \" ><div class=\"lbl c0 trm \" ><a href=\"#\" class=\"nd\">57814</a> <a class=\" txtu hbo\" target=\"_blank\" href=\"https://shebanq.ancient-data.org/hebrew/word?version=c&amp;id=1AT\" title=\"Show this on SHEBANQ\"><span class=\"txtu hbo\">אֶת־</span></a></div></div><div class=\"contnr c0 trm rtl  \" ><div class=\"lbl c0 trm \" ><a href=\"#\" class=\"nd\">57815</a> <a class=\" txtu hbo\" target=\"_blank\" href=\"https://shebanq.ancient-data.org/hebrew/word?version=c&amp;id=1XVATn\" title=\"Show this on SHEBANQ\"><span class=\"txtu hbo\">חַטָּאתָ֤ם </span></a></div></div><div class=\"contnr c0 trm rtl  \" ><div class=\"lbl c0 trm \" ><a href=\"#\" class=\"nd\">57816</a> <a class=\" txtu hbo\" target=\"_blank\" href=\"https://shebanq.ancient-data.org/hebrew/word?version=c&amp;id=1W\" title=\"Show this on SHEBANQ\"><span class=\"txtu hbo\">וְ</span></a></div></div><div class=\"contnr c0 trm rtl  \" ><div class=\"lbl c0 trm \" ><a href=\"#\" class=\"nd\">57817</a> <a class=\" txtu hbo\" target=\"_blank\" href=\"https://shebanq.ancient-data.org/hebrew/word?version=c&amp;id=1AT\" title=\"Show this on SHEBANQ\"><span class=\"txtu hbo\">אֶת־</span></a></div></div><div class=\"contnr c0 trm rtl  \" ><div class=\"lbl c0 trm \" ><a href=\"#\" class=\"nd\">57818</a> <a class=\" txtu hbo\" target=\"_blank\" href=\"https://shebanq.ancient-data.org/hebrew/word?version=c&amp;id=1OLHn\" title=\"Show this on SHEBANQ\"><span class=\"txtu hbo\">עֹֽלָתָם֙ </span></a></div></div></div></div><div class=\"contnr c1  rtl  \" ><div class=\"lbl c1  \" ><a href=\"#\" class=\"nd\">phrase_atom:940246</a></div><div class=\"children hor wrap rtl\"><div class=\"contnr c0 trm rtl  \" ><div class=\"lbl c0 trm \" ><a href=\"#\" class=\"nd\">57819</a> <a class=\" txtu hbo\" target=\"_blank\" href=\"https://shebanq.ancient-data.org/hebrew/word?version=c&amp;id=1L\" title=\"Show this on SHEBANQ\"><span class=\"txtu hbo\">לִ</span></a></div></div><div class=\"contnr c0 trm rtl  \" ><div class=\"lbl c0 trm \" ><a href=\"#\" class=\"nd\">57820</a> <a class=\" txtu hbo\" target=\"_blank\" href=\"https://shebanq.ancient-data.org/hebrew/word?version=c&amp;id=1PNHn\" title=\"Show this on SHEBANQ\"><span class=\"txtu hbo\">פְנֵ֣י </span></a></div></div><div class=\"contnr c0 trm rtl  \" ><div class=\"lbl c0 trm \" ><a href=\"#\" class=\"nd\">57821</a> <a class=\" txtu hbo\" target=\"_blank\" href=\"https://shebanq.ancient-data.org/hebrew/word?version=c&amp;id=1JHWHn\" title=\"Show this on SHEBANQ\"><span class=\"txtu hbo\">יְהוָ֔ה </span></a></div></div></div></div></div></div></div></div></div>ESV: And Aaron said to Moses , “ Behold , today they have offered their sin offering and their burnt offering before the Lord , and yet such things as these have happened to me ! If I had eaten the sin offering today , would the Lord have approved ? ”<br>"
   ]
  },
  {
   "cell_type": "code",
   "execution_count": null,
   "metadata": {},
   "outputs": [],
   "source": [
    "save(438755,\n",
    "\n",
    "{'functions': ['simultaneous'],\n",
    " 'refs': [['THE', 57811]],\n",
    " 'slots': [57811, 57812],\n",
    " 'times': [57812]}\n",
    "\n",
    ")"
   ]
  },
  {
   "cell_type": "markdown",
   "metadata": {},
   "source": [
    "<div class=\"tfsechead rtl\"><a target=\"_blank\" href=\"https://shebanq.ancient-data.org/hebrew/text?book=Leviticus&amp;chapter=10&amp;verse=19&amp;version=c&amp;mr=m&amp;qw=q&amp;tp=txt_p&amp;tr=hb&amp;wget=v&amp;qget=v&amp;nget=vt\" title=\"Show this on SHEBANQ\" sec=\"Leviticus 10:19\">Leviticus 10:19</a></div><div class=\"rtl children\"><div class=\"contnr c2  rtl  \" ><div class=\"lbl c2  \" ><a href=\"#\" class=\"nd\">clause:438757</a></div><div class=\"children hor wrap rtl\"><div class=\"contnr c1  rtl  \" ><div class=\"lbl c1  \" ><a href=\"#\" class=\"nd\">clause_atom:527206</a></div><div class=\"children hor wrap rtl\"><div class=\"contnr c1  rtl  \" ><div class=\"lbl c1  \" ><a href=\"#\" class=\"nd\">phrase_atom:940251</a></div><div class=\"children hor wrap rtl\"><div class=\"contnr c0 trm rtl  \" ><div class=\"lbl c0 trm \" ><a href=\"#\" class=\"nd\">57827</a> <a class=\" txtu hbo\" target=\"_blank\" href=\"https://shebanq.ancient-data.org/hebrew/word?version=c&amp;id=1W\" title=\"Show this on SHEBANQ\"><span class=\"txtu hbo\">וְ</span></a></div></div></div></div><div class=\"contnr c1  rtl  \" ><div class=\"lbl c1  \" ><a href=\"#\" class=\"nd\">phrase_atom:940252</a></div><div class=\"children hor wrap rtl\"><div class=\"contnr c0 trm rtl  \" ><div class=\"lbl c0 trm \" ><a href=\"#\" class=\"nd\">57828</a> <a class=\" txtu hbo\" target=\"_blank\" href=\"https://shebanq.ancient-data.org/hebrew/word?version=c&amp;id=1AKLv\" title=\"Show this on SHEBANQ\"><span class=\"txtu hbo\">אָכַ֤לְתִּי </span></a></div></div></div></div><div class=\"contnr c1  rtl  \" ><div class=\"lbl c1  \" ><a href=\"#\" class=\"nd\">phrase_atom:940253</a></div><div class=\"children hor wrap rtl\"><div class=\"contnr c0 trm rtl  \" ><div class=\"lbl c0 trm \" ><a href=\"#\" class=\"nd\">57829</a> <a class=\" txtu hbo\" target=\"_blank\" href=\"https://shebanq.ancient-data.org/hebrew/word?version=c&amp;id=1XVATn\" title=\"Show this on SHEBANQ\"><span class=\"txtu hbo\">חַטָּאת֙ </span></a></div></div></div></div><div class=\"contnr c1  rtl  \" ><div class=\"lbl c1  \" ><a href=\"#\" class=\"nd\">phrase_atom:940254</a></div><div class=\"children hor wrap rtl\"><div class=\"contnr c0 trm rtl  hl\" ><div class=\"lbl c0 trm hl\" ><a href=\"#\" class=\"nd\">57830</a> <a class=\" txtu hbo\" target=\"_blank\" href=\"https://shebanq.ancient-data.org/hebrew/word?version=c&amp;id=1H\" title=\"Show this on SHEBANQ\"><span class=\"txtu hbo\">הַ</span></a></div></div><div class=\"contnr c0 trm rtl  hl\" ><div class=\"lbl c0 trm hl\" ><a href=\"#\" class=\"nd\">57831</a> <a class=\" txtu hbo\" target=\"_blank\" href=\"https://shebanq.ancient-data.org/hebrew/word?version=c&amp;id=1JWMn\" title=\"Show this on SHEBANQ\"><span class=\"txtu hbo\">יֹּ֔ום </span></a></div></div></div></div></div></div></div></div></div>ESV: And Aaron said to Moses , “ Behold , today they have offered their sin offering and their burnt offering before the Lord , and yet such things as these have happened to me ! If I had eaten the sin offering today , would the Lord have approved ? ”<br>"
   ]
  },
  {
   "cell_type": "code",
   "execution_count": null,
   "metadata": {},
   "outputs": [],
   "source": [
    "save(438757,\n",
    "\n",
    "{'functions': ['simultaneous'],\n",
    " 'refs': [['THE', 57830]],\n",
    " 'slots': [57830, 57831],\n",
    " 'times': [57831]}\n",
    "\n",
    ")"
   ]
  },
  {
   "cell_type": "markdown",
   "metadata": {},
   "source": [
    "<div class=\"tfsechead rtl\"><a target=\"_blank\" href=\"https://shebanq.ancient-data.org/hebrew/text?book=Leviticus&amp;chapter=11&amp;verse=24&amp;version=c&amp;mr=m&amp;qw=q&amp;tp=txt_p&amp;tr=hb&amp;wget=v&amp;qget=v&amp;nget=vt\" title=\"Show this on SHEBANQ\" sec=\"Leviticus 11:24\">Leviticus 11:24</a></div><div class=\"rtl children\"><div class=\"contnr c2  rtl l \" ><div class=\"lbl c2  \" ><a href=\"#\" class=\"nd\">clause:438832</a></div><div class=\"children hor wrap rtl\"><div class=\"contnr c1  rtl  \" ><div class=\"lbl c1  \" ><a href=\"#\" class=\"nd\">clause_atom:527284</a></div><div class=\"children hor wrap rtl\"><div class=\"contnr c1  rtl  \" ><div class=\"lbl c1  \" ><a href=\"#\" class=\"nd\">phrase_atom:940473</a></div><div class=\"children hor wrap rtl\"><div class=\"contnr c0 trm rtl  \" ><div class=\"lbl c0 trm \" ><a href=\"#\" class=\"nd\">58239</a> <a class=\" txtu hbo\" target=\"_blank\" href=\"https://shebanq.ancient-data.org/hebrew/word?version=c&amp;id=1KLn\" title=\"Show this on SHEBANQ\"><span class=\"txtu hbo\">כָּל־</span></a></div></div></div></div></div></div></div></div><div class=\"contnr c2  rtl r \" ><div class=\"lbl c2  \" ><a href=\"#\" class=\"nd\">clause:438832</a></div><div class=\"children hor wrap rtl\"><div class=\"contnr c1  rtl  \" ><div class=\"lbl c1  \" ><a href=\"#\" class=\"nd\">clause_atom:527286</a></div><div class=\"children hor wrap rtl\"><div class=\"contnr c1  rtl  \" ><div class=\"lbl c1  \" ><a href=\"#\" class=\"nd\">phrase_atom:940477</a></div><div class=\"children hor wrap rtl\"><div class=\"contnr c0 trm rtl  \" ><div class=\"lbl c0 trm \" ><a href=\"#\" class=\"nd\">58244</a> <a class=\" txtu hbo\" target=\"_blank\" href=\"https://shebanq.ancient-data.org/hebrew/word?version=c&amp;id=1VMAv\" title=\"Show this on SHEBANQ\"><span class=\"txtu hbo\">יִטְמָ֥א </span></a></div></div></div></div><div class=\"contnr c1  rtl  \" ><div class=\"lbl c1  \" ><a href=\"#\" class=\"nd\">phrase_atom:940478</a></div><div class=\"children hor wrap rtl\"><div class=\"contnr c0 trm rtl  hl\" ><div class=\"lbl c0 trm hl\" ><a href=\"#\" class=\"nd\">58245</a> <a class=\" txtu hbo\" target=\"_blank\" href=\"https://shebanq.ancient-data.org/hebrew/word?version=c&amp;id=1OD\" title=\"Show this on SHEBANQ\"><span class=\"txtu hbo\">עַד־</span></a></div></div><div class=\"contnr c0 trm rtl  hl\" ><div class=\"lbl c0 trm hl\" ><a href=\"#\" class=\"nd\">58246</a> <a class=\" txtu hbo\" target=\"_blank\" href=\"https://shebanq.ancient-data.org/hebrew/word?version=c&amp;id=1H\" title=\"Show this on SHEBANQ\"><span class=\"txtu hbo\">הָ</span></a></div></div><div class=\"contnr c0 trm rtl  hl\" ><div class=\"lbl c0 trm hl\" ><a href=\"#\" class=\"nd\">58247</a> <a class=\" txtu hbo\" target=\"_blank\" href=\"https://shebanq.ancient-data.org/hebrew/word?version=c&amp;id=1ORBn\" title=\"Show this on SHEBANQ\"><span class=\"txtu hbo\">עָֽרֶב׃ </span></a></div></div></div></div></div></div></div></div></div>ESV: “ And by these you shall become unclean . Whoever touches their carcass shall be unclean until the evening ,<br>"
   ]
  },
  {
   "cell_type": "code",
   "execution_count": null,
   "metadata": {},
   "outputs": [],
   "source": [
    "save(438832,\n",
    "\n",
    "{'functions': ['anterior_dur'],\n",
    " 'preps': [['<D', 58245]],\n",
    " 'quals': ['durative'],\n",
    " 'refs': [['THE', 58246]],\n",
    " 'slots': [58245, 58246, 58247],\n",
    " 'times': [58247]}\n",
    "\n",
    ")"
   ]
  },
  {
   "cell_type": "markdown",
   "metadata": {},
   "source": [
    "<div class=\"tfsechead rtl\"><a target=\"_blank\" href=\"https://shebanq.ancient-data.org/hebrew/text?book=Leviticus&amp;chapter=11&amp;verse=25&amp;version=c&amp;mr=m&amp;qw=q&amp;tp=txt_p&amp;tr=hb&amp;wget=v&amp;qget=v&amp;nget=vt\" title=\"Show this on SHEBANQ\" sec=\"Leviticus 11:25\">Leviticus 11:25</a></div><div class=\"rtl children\"><div class=\"contnr c2  rtl  \" ><div class=\"lbl c2  \" ><a href=\"#\" class=\"nd\">clause:438836</a></div><div class=\"children hor wrap rtl\"><div class=\"contnr c1  rtl  \" ><div class=\"lbl c1  \" ><a href=\"#\" class=\"nd\">clause_atom:527290</a></div><div class=\"children hor wrap rtl\"><div class=\"contnr c1  rtl  \" ><div class=\"lbl c1  \" ><a href=\"#\" class=\"nd\">phrase_atom:940486</a></div><div class=\"children hor wrap rtl\"><div class=\"contnr c0 trm rtl  \" ><div class=\"lbl c0 trm \" ><a href=\"#\" class=\"nd\">58256</a> <a class=\" txtu hbo\" target=\"_blank\" href=\"https://shebanq.ancient-data.org/hebrew/word?version=c&amp;id=1W\" title=\"Show this on SHEBANQ\"><span class=\"txtu hbo\">וְ</span></a></div></div></div></div><div class=\"contnr c1  rtl  \" ><div class=\"lbl c1  \" ><a href=\"#\" class=\"nd\">phrase_atom:940487</a></div><div class=\"children hor wrap rtl\"><div class=\"contnr c0 trm rtl  \" ><div class=\"lbl c0 trm \" ><a href=\"#\" class=\"nd\">58257</a> <a class=\" txtu hbo\" target=\"_blank\" href=\"https://shebanq.ancient-data.org/hebrew/word?version=c&amp;id=1VMAv\" title=\"Show this on SHEBANQ\"><span class=\"txtu hbo\">טָמֵ֥א </span></a></div></div></div></div><div class=\"contnr c1  rtl  \" ><div class=\"lbl c1  \" ><a href=\"#\" class=\"nd\">phrase_atom:940488</a></div><div class=\"children hor wrap rtl\"><div class=\"contnr c0 trm rtl  hl\" ><div class=\"lbl c0 trm hl\" ><a href=\"#\" class=\"nd\">58258</a> <a class=\" txtu hbo\" target=\"_blank\" href=\"https://shebanq.ancient-data.org/hebrew/word?version=c&amp;id=1OD\" title=\"Show this on SHEBANQ\"><span class=\"txtu hbo\">עַד־</span></a></div></div><div class=\"contnr c0 trm rtl  hl\" ><div class=\"lbl c0 trm hl\" ><a href=\"#\" class=\"nd\">58259</a> <a class=\" txtu hbo\" target=\"_blank\" href=\"https://shebanq.ancient-data.org/hebrew/word?version=c&amp;id=1H\" title=\"Show this on SHEBANQ\"><span class=\"txtu hbo\">הָ</span></a></div></div><div class=\"contnr c0 trm rtl  hl\" ><div class=\"lbl c0 trm hl\" ><a href=\"#\" class=\"nd\">58260</a> <a class=\" txtu hbo\" target=\"_blank\" href=\"https://shebanq.ancient-data.org/hebrew/word?version=c&amp;id=1ORBn\" title=\"Show this on SHEBANQ\"><span class=\"txtu hbo\">עָֽרֶב׃ </span></a></div></div></div></div></div></div></div></div></div>ESV: and whoever carries any part of their carcass shall wash his clothes and be unclean until the evening .<br>"
   ]
  },
  {
   "cell_type": "code",
   "execution_count": null,
   "metadata": {},
   "outputs": [],
   "source": [
    "save(438836,\n",
    "\n",
    "{'functions': ['anterior_dur'],\n",
    " 'preps': [['<D', 58258]],\n",
    " 'quals': ['durative'],\n",
    " 'refs': [['THE', 58259]],\n",
    " 'slots': [58258, 58259, 58260],\n",
    " 'times': [58260]}\n",
    "\n",
    ")"
   ]
  },
  {
   "cell_type": "markdown",
   "metadata": {},
   "source": [
    "<div class=\"tfsechead rtl\"><a target=\"_blank\" href=\"https://shebanq.ancient-data.org/hebrew/text?book=Leviticus&amp;chapter=11&amp;verse=27&amp;version=c&amp;mr=m&amp;qw=q&amp;tp=txt_p&amp;tr=hb&amp;wget=v&amp;qget=v&amp;nget=vt\" title=\"Show this on SHEBANQ\" sec=\"Leviticus 11:27\">Leviticus 11:27</a></div><div class=\"rtl children\"><div class=\"contnr c2  rtl l \" ><div class=\"lbl c2  \" ><a href=\"#\" class=\"nd\">clause:438848</a></div><div class=\"children hor wrap rtl\"><div class=\"contnr c1  rtl  \" ><div class=\"lbl c1  \" ><a href=\"#\" class=\"nd\">clause_atom:527304</a></div><div class=\"children hor wrap rtl\"><div class=\"contnr c1  rtl  \" ><div class=\"lbl c1  \" ><a href=\"#\" class=\"nd\">phrase_atom:940521</a></div><div class=\"children hor wrap rtl\"><div class=\"contnr c0 trm rtl  \" ><div class=\"lbl c0 trm \" ><a href=\"#\" class=\"nd\">58301</a> <a class=\" txtu hbo\" target=\"_blank\" href=\"https://shebanq.ancient-data.org/hebrew/word?version=c&amp;id=1KLn\" title=\"Show this on SHEBANQ\"><span class=\"txtu hbo\">כָּל־</span></a></div></div></div></div></div></div></div></div><div class=\"contnr c2  rtl r \" ><div class=\"lbl c2  \" ><a href=\"#\" class=\"nd\">clause:438848</a></div><div class=\"children hor wrap rtl\"><div class=\"contnr c1  rtl  \" ><div class=\"lbl c1  \" ><a href=\"#\" class=\"nd\">clause_atom:527306</a></div><div class=\"children hor wrap rtl\"><div class=\"contnr c1  rtl  \" ><div class=\"lbl c1  \" ><a href=\"#\" class=\"nd\">phrase_atom:940525</a></div><div class=\"children hor wrap rtl\"><div class=\"contnr c0 trm rtl  \" ><div class=\"lbl c0 trm \" ><a href=\"#\" class=\"nd\">58306</a> <a class=\" txtu hbo\" target=\"_blank\" href=\"https://shebanq.ancient-data.org/hebrew/word?version=c&amp;id=1VMAv\" title=\"Show this on SHEBANQ\"><span class=\"txtu hbo\">יִטְמָ֥א </span></a></div></div></div></div><div class=\"contnr c1  rtl  \" ><div class=\"lbl c1  \" ><a href=\"#\" class=\"nd\">phrase_atom:940526</a></div><div class=\"children hor wrap rtl\"><div class=\"contnr c0 trm rtl  hl\" ><div class=\"lbl c0 trm hl\" ><a href=\"#\" class=\"nd\">58307</a> <a class=\" txtu hbo\" target=\"_blank\" href=\"https://shebanq.ancient-data.org/hebrew/word?version=c&amp;id=1OD\" title=\"Show this on SHEBANQ\"><span class=\"txtu hbo\">עַד־</span></a></div></div><div class=\"contnr c0 trm rtl  hl\" ><div class=\"lbl c0 trm hl\" ><a href=\"#\" class=\"nd\">58308</a> <a class=\" txtu hbo\" target=\"_blank\" href=\"https://shebanq.ancient-data.org/hebrew/word?version=c&amp;id=1H\" title=\"Show this on SHEBANQ\"><span class=\"txtu hbo\">הָ</span></a></div></div><div class=\"contnr c0 trm rtl  hl\" ><div class=\"lbl c0 trm hl\" ><a href=\"#\" class=\"nd\">58309</a> <a class=\" txtu hbo\" target=\"_blank\" href=\"https://shebanq.ancient-data.org/hebrew/word?version=c&amp;id=1ORBn\" title=\"Show this on SHEBANQ\"><span class=\"txtu hbo\">עָֽרֶב׃ </span></a></div></div></div></div></div></div></div></div></div>ESV: And all that walk on their paws , among the animals that go on all fours , are unclean to you . Whoever touches their carcass shall be unclean until the evening ,<br>"
   ]
  },
  {
   "cell_type": "code",
   "execution_count": null,
   "metadata": {},
   "outputs": [],
   "source": [
    "save(438848,\n",
    "\n",
    "{'functions': ['anterior_dur'],\n",
    " 'preps': [['<D', 58307]],\n",
    " 'quals': ['durative'],\n",
    " 'refs': [['THE', 58308]],\n",
    " 'slots': [58307, 58308, 58309],\n",
    " 'times': [58309]}\n",
    "\n",
    ")"
   ]
  },
  {
   "cell_type": "markdown",
   "metadata": {},
   "source": [
    "<div class=\"tfsechead rtl\"><a target=\"_blank\" href=\"https://shebanq.ancient-data.org/hebrew/text?book=Leviticus&amp;chapter=11&amp;verse=28&amp;version=c&amp;mr=m&amp;qw=q&amp;tp=txt_p&amp;tr=hb&amp;wget=v&amp;qget=v&amp;nget=vt\" title=\"Show this on SHEBANQ\" sec=\"Leviticus 11:28\">Leviticus 11:28</a></div><div class=\"rtl children\"><div class=\"contnr c2  rtl  \" ><div class=\"lbl c2  \" ><a href=\"#\" class=\"nd\">clause:438852</a></div><div class=\"children hor wrap rtl\"><div class=\"contnr c1  rtl  \" ><div class=\"lbl c1  \" ><a href=\"#\" class=\"nd\">clause_atom:527310</a></div><div class=\"children hor wrap rtl\"><div class=\"contnr c1  rtl  \" ><div class=\"lbl c1  \" ><a href=\"#\" class=\"nd\">phrase_atom:940533</a></div><div class=\"children hor wrap rtl\"><div class=\"contnr c0 trm rtl  \" ><div class=\"lbl c0 trm \" ><a href=\"#\" class=\"nd\">58317</a> <a class=\" txtu hbo\" target=\"_blank\" href=\"https://shebanq.ancient-data.org/hebrew/word?version=c&amp;id=1W\" title=\"Show this on SHEBANQ\"><span class=\"txtu hbo\">וְ</span></a></div></div></div></div><div class=\"contnr c1  rtl  \" ><div class=\"lbl c1  \" ><a href=\"#\" class=\"nd\">phrase_atom:940534</a></div><div class=\"children hor wrap rtl\"><div class=\"contnr c0 trm rtl  \" ><div class=\"lbl c0 trm \" ><a href=\"#\" class=\"nd\">58318</a> <a class=\" txtu hbo\" target=\"_blank\" href=\"https://shebanq.ancient-data.org/hebrew/word?version=c&amp;id=1VMAv\" title=\"Show this on SHEBANQ\"><span class=\"txtu hbo\">טָמֵ֣א </span></a></div></div></div></div><div class=\"contnr c1  rtl  \" ><div class=\"lbl c1  \" ><a href=\"#\" class=\"nd\">phrase_atom:940535</a></div><div class=\"children hor wrap rtl\"><div class=\"contnr c0 trm rtl  hl\" ><div class=\"lbl c0 trm hl\" ><a href=\"#\" class=\"nd\">58319</a> <a class=\" txtu hbo\" target=\"_blank\" href=\"https://shebanq.ancient-data.org/hebrew/word?version=c&amp;id=1OD\" title=\"Show this on SHEBANQ\"><span class=\"txtu hbo\">עַד־</span></a></div></div><div class=\"contnr c0 trm rtl  hl\" ><div class=\"lbl c0 trm hl\" ><a href=\"#\" class=\"nd\">58320</a> <a class=\" txtu hbo\" target=\"_blank\" href=\"https://shebanq.ancient-data.org/hebrew/word?version=c&amp;id=1H\" title=\"Show this on SHEBANQ\"><span class=\"txtu hbo\">הָ</span></a></div></div><div class=\"contnr c0 trm rtl  hl\" ><div class=\"lbl c0 trm hl\" ><a href=\"#\" class=\"nd\">58321</a> <a class=\" txtu hbo\" target=\"_blank\" href=\"https://shebanq.ancient-data.org/hebrew/word?version=c&amp;id=1ORBn\" title=\"Show this on SHEBANQ\"><span class=\"txtu hbo\">עָ֑רֶב </span></a></div></div></div></div></div></div></div></div></div>ESV: and he who carries their carcass shall wash his clothes and be unclean until the evening . they are unclean to you .<br>"
   ]
  },
  {
   "cell_type": "code",
   "execution_count": null,
   "metadata": {},
   "outputs": [],
   "source": [
    "save(438852,\n",
    "\n",
    "{'functions': ['anterior_dur'],\n",
    " 'preps': [['<D', 58319]],\n",
    " 'quals': ['durative'],\n",
    " 'refs': [['THE', 58320]],\n",
    " 'slots': [58319, 58320, 58321],\n",
    " 'times': [58321]}\n",
    "\n",
    ")"
   ]
  },
  {
   "cell_type": "markdown",
   "metadata": {},
   "source": [
    "<div class=\"tfsechead rtl\"><a target=\"_blank\" href=\"https://shebanq.ancient-data.org/hebrew/text?book=Leviticus&amp;chapter=11&amp;verse=31&amp;version=c&amp;mr=m&amp;qw=q&amp;tp=txt_p&amp;tr=hb&amp;wget=v&amp;qget=v&amp;nget=vt\" title=\"Show this on SHEBANQ\" sec=\"Leviticus 11:31\">Leviticus 11:31</a></div><div class=\"rtl children\"><div class=\"contnr c2  rtl l \" ><div class=\"lbl c2  \" ><a href=\"#\" class=\"nd\">clause:438859</a></div><div class=\"children hor wrap rtl\"><div class=\"contnr c1  rtl  \" ><div class=\"lbl c1  \" ><a href=\"#\" class=\"nd\">clause_atom:527317</a></div><div class=\"children hor wrap rtl\"><div class=\"contnr c1  rtl  \" ><div class=\"lbl c1  \" ><a href=\"#\" class=\"nd\">phrase_atom:940555</a></div><div class=\"children hor wrap rtl\"><div class=\"contnr c0 trm rtl  \" ><div class=\"lbl c0 trm \" ><a href=\"#\" class=\"nd\">58371</a> <a class=\" txtu hbo\" target=\"_blank\" href=\"https://shebanq.ancient-data.org/hebrew/word?version=c&amp;id=1KLn\" title=\"Show this on SHEBANQ\"><span class=\"txtu hbo\">כָּל־</span></a></div></div></div></div></div></div></div></div><div class=\"contnr c2  rtl r \" ><div class=\"lbl c2  \" ><a href=\"#\" class=\"nd\">clause:438859</a></div><div class=\"children hor wrap rtl\"><div class=\"contnr c1  rtl  \" ><div class=\"lbl c1  \" ><a href=\"#\" class=\"nd\">clause_atom:527319</a></div><div class=\"children hor wrap rtl\"><div class=\"contnr c1  rtl  \" ><div class=\"lbl c1  \" ><a href=\"#\" class=\"nd\">phrase_atom:940560</a></div><div class=\"children hor wrap rtl\"><div class=\"contnr c0 trm rtl  \" ><div class=\"lbl c0 trm \" ><a href=\"#\" class=\"nd\">58377</a> <a class=\" txtu hbo\" target=\"_blank\" href=\"https://shebanq.ancient-data.org/hebrew/word?version=c&amp;id=1VMAv\" title=\"Show this on SHEBANQ\"><span class=\"txtu hbo\">יִטְמָ֥א </span></a></div></div></div></div><div class=\"contnr c1  rtl  \" ><div class=\"lbl c1  \" ><a href=\"#\" class=\"nd\">phrase_atom:940561</a></div><div class=\"children hor wrap rtl\"><div class=\"contnr c0 trm rtl  hl\" ><div class=\"lbl c0 trm hl\" ><a href=\"#\" class=\"nd\">58378</a> <a class=\" txtu hbo\" target=\"_blank\" href=\"https://shebanq.ancient-data.org/hebrew/word?version=c&amp;id=1OD\" title=\"Show this on SHEBANQ\"><span class=\"txtu hbo\">עַד־</span></a></div></div><div class=\"contnr c0 trm rtl  hl\" ><div class=\"lbl c0 trm hl\" ><a href=\"#\" class=\"nd\">58379</a> <a class=\" txtu hbo\" target=\"_blank\" href=\"https://shebanq.ancient-data.org/hebrew/word?version=c&amp;id=1H\" title=\"Show this on SHEBANQ\"><span class=\"txtu hbo\">הָ</span></a></div></div><div class=\"contnr c0 trm rtl  hl\" ><div class=\"lbl c0 trm hl\" ><a href=\"#\" class=\"nd\">58380</a> <a class=\" txtu hbo\" target=\"_blank\" href=\"https://shebanq.ancient-data.org/hebrew/word?version=c&amp;id=1ORBn\" title=\"Show this on SHEBANQ\"><span class=\"txtu hbo\">עָֽרֶב׃ </span></a></div></div></div></div></div></div></div></div></div>ESV: These are unclean to you among all that swarm . Whoever touches them when they are dead shall be unclean until the evening .<br>"
   ]
  },
  {
   "cell_type": "code",
   "execution_count": null,
   "metadata": {},
   "outputs": [],
   "source": [
    "save(438859,\n",
    "\n",
    "{'functions': ['anterior_dur'],\n",
    " 'preps': [['<D', 58378]],\n",
    " 'quals': ['durative'],\n",
    " 'refs': [['THE', 58379]],\n",
    " 'slots': [58378, 58379, 58380],\n",
    " 'times': [58380]}\n",
    "\n",
    ")"
   ]
  },
  {
   "cell_type": "markdown",
   "metadata": {},
   "source": [
    "<div class=\"tfsechead rtl\"><a target=\"_blank\" href=\"https://shebanq.ancient-data.org/hebrew/text?book=Leviticus&amp;chapter=11&amp;verse=32&amp;version=c&amp;mr=m&amp;qw=q&amp;tp=txt_p&amp;tr=hb&amp;wget=v&amp;qget=v&amp;nget=vt\" title=\"Show this on SHEBANQ\" sec=\"Leviticus 11:32\">Leviticus 11:32</a></div><div class=\"rtl children\"><div class=\"contnr c2  rtl  \" ><div class=\"lbl c2  \" ><a href=\"#\" class=\"nd\">clause:438865</a></div><div class=\"children hor wrap rtl\"><div class=\"contnr c1  rtl  \" ><div class=\"lbl c1  \" ><a href=\"#\" class=\"nd\">clause_atom:527326</a></div><div class=\"children hor wrap rtl\"><div class=\"contnr c1  rtl  \" ><div class=\"lbl c1  \" ><a href=\"#\" class=\"nd\">phrase_atom:940578</a></div><div class=\"children hor wrap rtl\"><div class=\"contnr c0 trm rtl  \" ><div class=\"lbl c0 trm \" ><a href=\"#\" class=\"nd\">58410</a> <a class=\" txtu hbo\" target=\"_blank\" href=\"https://shebanq.ancient-data.org/hebrew/word?version=c&amp;id=1W\" title=\"Show this on SHEBANQ\"><span class=\"txtu hbo\">וְ</span></a></div></div></div></div><div class=\"contnr c1  rtl  \" ><div class=\"lbl c1  \" ><a href=\"#\" class=\"nd\">phrase_atom:940579</a></div><div class=\"children hor wrap rtl\"><div class=\"contnr c0 trm rtl  \" ><div class=\"lbl c0 trm \" ><a href=\"#\" class=\"nd\">58411</a> <a class=\" txtu hbo\" target=\"_blank\" href=\"https://shebanq.ancient-data.org/hebrew/word?version=c&amp;id=1VMAv\" title=\"Show this on SHEBANQ\"><span class=\"txtu hbo\">טָמֵ֥א </span></a></div></div></div></div><div class=\"contnr c1  rtl  \" ><div class=\"lbl c1  \" ><a href=\"#\" class=\"nd\">phrase_atom:940580</a></div><div class=\"children hor wrap rtl\"><div class=\"contnr c0 trm rtl  hl\" ><div class=\"lbl c0 trm hl\" ><a href=\"#\" class=\"nd\">58412</a> <a class=\" txtu hbo\" target=\"_blank\" href=\"https://shebanq.ancient-data.org/hebrew/word?version=c&amp;id=1OD\" title=\"Show this on SHEBANQ\"><span class=\"txtu hbo\">עַד־</span></a></div></div><div class=\"contnr c0 trm rtl  hl\" ><div class=\"lbl c0 trm hl\" ><a href=\"#\" class=\"nd\">58413</a> <a class=\" txtu hbo\" target=\"_blank\" href=\"https://shebanq.ancient-data.org/hebrew/word?version=c&amp;id=1H\" title=\"Show this on SHEBANQ\"><span class=\"txtu hbo\">הָ</span></a></div></div><div class=\"contnr c0 trm rtl  hl\" ><div class=\"lbl c0 trm hl\" ><a href=\"#\" class=\"nd\">58414</a> <a class=\" txtu hbo\" target=\"_blank\" href=\"https://shebanq.ancient-data.org/hebrew/word?version=c&amp;id=1ORBn\" title=\"Show this on SHEBANQ\"><span class=\"txtu hbo\">עֶ֖רֶב </span></a></div></div></div></div></div></div></div></div></div>ESV: And anything on which any of them falls when they are dead shall be unclean , whether it is an article of wood or a garment or a skin or a sack , any article that is used for any purpose . It must be put into water , and it shall be unclean until the evening . then it shall be clean .<br>"
   ]
  },
  {
   "cell_type": "code",
   "execution_count": null,
   "metadata": {},
   "outputs": [],
   "source": [
    "save(438865,\n",
    "\n",
    "{'functions': ['anterior_dur'],\n",
    " 'preps': [['<D', 58412]],\n",
    " 'quals': ['durative'],\n",
    " 'refs': [['THE', 58413]],\n",
    " 'slots': [58412, 58413, 58414],\n",
    " 'times': [58414]}\n",
    "\n",
    ")"
   ]
  },
  {
   "cell_type": "markdown",
   "metadata": {},
   "source": [
    "<div class=\"tfsechead rtl\"><a target=\"_blank\" href=\"https://shebanq.ancient-data.org/hebrew/text?book=Leviticus&amp;chapter=11&amp;verse=39&amp;version=c&amp;mr=m&amp;qw=q&amp;tp=txt_p&amp;tr=hb&amp;wget=v&amp;qget=v&amp;nget=vt\" title=\"Show this on SHEBANQ\" sec=\"Leviticus 11:39\">Leviticus 11:39</a></div><div class=\"rtl children\"><div class=\"contnr c2  rtl  \" ><div class=\"lbl c2  \" ><a href=\"#\" class=\"nd\">clause:438894</a></div><div class=\"children hor wrap rtl\"><div class=\"contnr c1  rtl  \" ><div class=\"lbl c1  \" ><a href=\"#\" class=\"nd\">clause_atom:527360</a></div><div class=\"children hor wrap rtl\"><div class=\"contnr c1  rtl  \" ><div class=\"lbl c1  \" ><a href=\"#\" class=\"nd\">phrase_atom:940665</a></div><div class=\"children hor wrap rtl\"><div class=\"contnr c0 trm rtl  \" ><div class=\"lbl c0 trm \" ><a href=\"#\" class=\"nd\">58527</a> <a class=\" txtu hbo\" target=\"_blank\" href=\"https://shebanq.ancient-data.org/hebrew/word?version=c&amp;id=1VMAv\" title=\"Show this on SHEBANQ\"><span class=\"txtu hbo\">יִטְמָ֥א </span></a></div></div></div></div><div class=\"contnr c1  rtl  \" ><div class=\"lbl c1  \" ><a href=\"#\" class=\"nd\">phrase_atom:940666</a></div><div class=\"children hor wrap rtl\"><div class=\"contnr c0 trm rtl  hl\" ><div class=\"lbl c0 trm hl\" ><a href=\"#\" class=\"nd\">58528</a> <a class=\" txtu hbo\" target=\"_blank\" href=\"https://shebanq.ancient-data.org/hebrew/word?version=c&amp;id=1OD\" title=\"Show this on SHEBANQ\"><span class=\"txtu hbo\">עַד־</span></a></div></div><div class=\"contnr c0 trm rtl  hl\" ><div class=\"lbl c0 trm hl\" ><a href=\"#\" class=\"nd\">58529</a> <a class=\" txtu hbo\" target=\"_blank\" href=\"https://shebanq.ancient-data.org/hebrew/word?version=c&amp;id=1H\" title=\"Show this on SHEBANQ\"><span class=\"txtu hbo\">הָ</span></a></div></div><div class=\"contnr c0 trm rtl  hl\" ><div class=\"lbl c0 trm hl\" ><a href=\"#\" class=\"nd\">58530</a> <a class=\" txtu hbo\" target=\"_blank\" href=\"https://shebanq.ancient-data.org/hebrew/word?version=c&amp;id=1ORBn\" title=\"Show this on SHEBANQ\"><span class=\"txtu hbo\">עָֽרֶב׃ </span></a></div></div></div></div></div></div></div></div></div>ESV: “ And if any animal which you may eat dies , whoever touches its carcass shall be unclean until the evening ,<br>"
   ]
  },
  {
   "cell_type": "code",
   "execution_count": null,
   "metadata": {},
   "outputs": [],
   "source": [
    "save(438894,\n",
    "\n",
    "{'functions': ['anterior_dur'],\n",
    " 'preps': [['<D', 58528]],\n",
    " 'quals': ['durative'],\n",
    " 'refs': [['THE', 58529]],\n",
    " 'slots': [58528, 58529, 58530],\n",
    " 'times': [58530]}\n",
    "\n",
    ")"
   ]
  },
  {
   "cell_type": "markdown",
   "metadata": {},
   "source": [
    "<div class=\"tfsechead rtl\"><a target=\"_blank\" href=\"https://shebanq.ancient-data.org/hebrew/text?book=Leviticus&amp;chapter=11&amp;verse=40&amp;version=c&amp;mr=m&amp;qw=q&amp;tp=txt_p&amp;tr=hb&amp;wget=v&amp;qget=v&amp;nget=vt\" title=\"Show this on SHEBANQ\" sec=\"Leviticus 11:40\">Leviticus 11:40</a></div><div class=\"rtl children\"><div class=\"contnr c2  rtl  \" ><div class=\"lbl c2  \" ><a href=\"#\" class=\"nd\">clause:438897</a></div><div class=\"children hor wrap rtl\"><div class=\"contnr c1  rtl  \" ><div class=\"lbl c1  \" ><a href=\"#\" class=\"nd\">clause_atom:527364</a></div><div class=\"children hor wrap rtl\"><div class=\"contnr c1  rtl  \" ><div class=\"lbl c1  \" ><a href=\"#\" class=\"nd\">phrase_atom:940673</a></div><div class=\"children hor wrap rtl\"><div class=\"contnr c0 trm rtl  \" ><div class=\"lbl c0 trm \" ><a href=\"#\" class=\"nd\">58538</a> <a class=\" txtu hbo\" target=\"_blank\" href=\"https://shebanq.ancient-data.org/hebrew/word?version=c&amp;id=1W\" title=\"Show this on SHEBANQ\"><span class=\"txtu hbo\">וְ</span></a></div></div></div></div><div class=\"contnr c1  rtl  \" ><div class=\"lbl c1  \" ><a href=\"#\" class=\"nd\">phrase_atom:940674</a></div><div class=\"children hor wrap rtl\"><div class=\"contnr c0 trm rtl  \" ><div class=\"lbl c0 trm \" ><a href=\"#\" class=\"nd\">58539</a> <a class=\" txtu hbo\" target=\"_blank\" href=\"https://shebanq.ancient-data.org/hebrew/word?version=c&amp;id=1VMAv\" title=\"Show this on SHEBANQ\"><span class=\"txtu hbo\">טָמֵ֣א </span></a></div></div></div></div><div class=\"contnr c1  rtl  \" ><div class=\"lbl c1  \" ><a href=\"#\" class=\"nd\">phrase_atom:940675</a></div><div class=\"children hor wrap rtl\"><div class=\"contnr c0 trm rtl  hl\" ><div class=\"lbl c0 trm hl\" ><a href=\"#\" class=\"nd\">58540</a> <a class=\" txtu hbo\" target=\"_blank\" href=\"https://shebanq.ancient-data.org/hebrew/word?version=c&amp;id=1OD\" title=\"Show this on SHEBANQ\"><span class=\"txtu hbo\">עַד־</span></a></div></div><div class=\"contnr c0 trm rtl  hl\" ><div class=\"lbl c0 trm hl\" ><a href=\"#\" class=\"nd\">58541</a> <a class=\" txtu hbo\" target=\"_blank\" href=\"https://shebanq.ancient-data.org/hebrew/word?version=c&amp;id=1H\" title=\"Show this on SHEBANQ\"><span class=\"txtu hbo\">הָ</span></a></div></div><div class=\"contnr c0 trm rtl  hl\" ><div class=\"lbl c0 trm hl\" ><a href=\"#\" class=\"nd\">58542</a> <a class=\" txtu hbo\" target=\"_blank\" href=\"https://shebanq.ancient-data.org/hebrew/word?version=c&amp;id=1ORBn\" title=\"Show this on SHEBANQ\"><span class=\"txtu hbo\">עָ֑רֶב </span></a></div></div></div></div></div></div></div></div></div>ESV: and whoever eats of its carcass shall wash his clothes and be unclean until the evening . And whoever carries the carcass shall wash his clothes and be unclean until the evening .<br>"
   ]
  },
  {
   "cell_type": "code",
   "execution_count": null,
   "metadata": {},
   "outputs": [],
   "source": [
    "save(438897,\n",
    "\n",
    "{'functions': ['anterior_dur'],\n",
    " 'preps': [['<D', 58540]],\n",
    " 'quals': ['durative'],\n",
    " 'refs': [['THE', 58541]],\n",
    " 'slots': [58540, 58541, 58542],\n",
    " 'times': [58542]}\n",
    "\n",
    ")"
   ]
  },
  {
   "cell_type": "markdown",
   "metadata": {},
   "source": [
    "<div class=\"tfsechead rtl\"><a target=\"_blank\" href=\"https://shebanq.ancient-data.org/hebrew/text?book=Leviticus&amp;chapter=11&amp;verse=40&amp;version=c&amp;mr=m&amp;qw=q&amp;tp=txt_p&amp;tr=hb&amp;wget=v&amp;qget=v&amp;nget=vt\" title=\"Show this on SHEBANQ\" sec=\"Leviticus 11:40\">Leviticus 11:40</a></div><div class=\"rtl children\"><div class=\"contnr c2  rtl  \" ><div class=\"lbl c2  \" ><a href=\"#\" class=\"nd\">clause:438900</a></div><div class=\"children hor wrap rtl\"><div class=\"contnr c1  rtl  \" ><div class=\"lbl c1  \" ><a href=\"#\" class=\"nd\">clause_atom:527368</a></div><div class=\"children hor wrap rtl\"><div class=\"contnr c1  rtl  \" ><div class=\"lbl c1  \" ><a href=\"#\" class=\"nd\">phrase_atom:940682</a></div><div class=\"children hor wrap rtl\"><div class=\"contnr c0 trm rtl  \" ><div class=\"lbl c0 trm \" ><a href=\"#\" class=\"nd\">58550</a> <a class=\" txtu hbo\" target=\"_blank\" href=\"https://shebanq.ancient-data.org/hebrew/word?version=c&amp;id=1W\" title=\"Show this on SHEBANQ\"><span class=\"txtu hbo\">וְ</span></a></div></div></div></div><div class=\"contnr c1  rtl  \" ><div class=\"lbl c1  \" ><a href=\"#\" class=\"nd\">phrase_atom:940683</a></div><div class=\"children hor wrap rtl\"><div class=\"contnr c0 trm rtl  \" ><div class=\"lbl c0 trm \" ><a href=\"#\" class=\"nd\">58551</a> <a class=\" txtu hbo\" target=\"_blank\" href=\"https://shebanq.ancient-data.org/hebrew/word?version=c&amp;id=1VMAv\" title=\"Show this on SHEBANQ\"><span class=\"txtu hbo\">טָמֵ֥א </span></a></div></div></div></div><div class=\"contnr c1  rtl  \" ><div class=\"lbl c1  \" ><a href=\"#\" class=\"nd\">phrase_atom:940684</a></div><div class=\"children hor wrap rtl\"><div class=\"contnr c0 trm rtl  hl\" ><div class=\"lbl c0 trm hl\" ><a href=\"#\" class=\"nd\">58552</a> <a class=\" txtu hbo\" target=\"_blank\" href=\"https://shebanq.ancient-data.org/hebrew/word?version=c&amp;id=1OD\" title=\"Show this on SHEBANQ\"><span class=\"txtu hbo\">עַד־</span></a></div></div><div class=\"contnr c0 trm rtl  hl\" ><div class=\"lbl c0 trm hl\" ><a href=\"#\" class=\"nd\">58553</a> <a class=\" txtu hbo\" target=\"_blank\" href=\"https://shebanq.ancient-data.org/hebrew/word?version=c&amp;id=1H\" title=\"Show this on SHEBANQ\"><span class=\"txtu hbo\">הָ</span></a></div></div><div class=\"contnr c0 trm rtl  hl\" ><div class=\"lbl c0 trm hl\" ><a href=\"#\" class=\"nd\">58554</a> <a class=\" txtu hbo\" target=\"_blank\" href=\"https://shebanq.ancient-data.org/hebrew/word?version=c&amp;id=1ORBn\" title=\"Show this on SHEBANQ\"><span class=\"txtu hbo\">עָֽרֶב׃ </span></a></div></div></div></div></div></div></div></div></div>ESV: and whoever eats of its carcass shall wash his clothes and be unclean until the evening . And whoever carries the carcass shall wash his clothes and be unclean until the evening .<br>"
   ]
  },
  {
   "cell_type": "code",
   "execution_count": null,
   "metadata": {},
   "outputs": [],
   "source": [
    "save(438900,\n",
    "\n",
    "{'functions': ['anterior_dur'],\n",
    " 'preps': [['<D', 58552]],\n",
    " 'quals': ['durative'],\n",
    " 'refs': [['THE', 58553]],\n",
    " 'slots': [58552, 58553, 58554],\n",
    " 'times': [58554]}\n",
    "\n",
    ")"
   ]
  },
  {
   "cell_type": "markdown",
   "metadata": {},
   "source": [
    "<div class=\"tfsechead rtl\"><a target=\"_blank\" href=\"https://shebanq.ancient-data.org/hebrew/text?book=Leviticus&amp;chapter=12&amp;verse=2&amp;version=c&amp;mr=m&amp;qw=q&amp;tp=txt_p&amp;tr=hb&amp;wget=v&amp;qget=v&amp;nget=vt\" title=\"Show this on SHEBANQ\" sec=\"Leviticus 12:2\">Leviticus 12:2</a></div><div class=\"rtl children\"><div class=\"contnr c2  rtl  \" ><div class=\"lbl c2  \" ><a href=\"#\" class=\"nd\">clause:438941</a></div><div class=\"children hor wrap rtl\"><div class=\"contnr c1  rtl  \" ><div class=\"lbl c1  \" ><a href=\"#\" class=\"nd\">clause_atom:527412</a></div><div class=\"children hor wrap rtl\"><div class=\"contnr c1  rtl  \" ><div class=\"lbl c1  \" ><a href=\"#\" class=\"nd\">phrase_atom:940797</a></div><div class=\"children hor wrap rtl\"><div class=\"contnr c0 trm rtl  \" ><div class=\"lbl c0 trm \" ><a href=\"#\" class=\"nd\">58725</a> <a class=\" txtu hbo\" target=\"_blank\" href=\"https://shebanq.ancient-data.org/hebrew/word?version=c&amp;id=1W\" title=\"Show this on SHEBANQ\"><span class=\"txtu hbo\">וְ</span></a></div></div></div></div><div class=\"contnr c1  rtl  \" ><div class=\"lbl c1  \" ><a href=\"#\" class=\"nd\">phrase_atom:940798</a></div><div class=\"children hor wrap rtl\"><div class=\"contnr c0 trm rtl  \" ><div class=\"lbl c0 trm \" ><a href=\"#\" class=\"nd\">58726</a> <a class=\" txtu hbo\" target=\"_blank\" href=\"https://shebanq.ancient-data.org/hebrew/word?version=c&amp;id=1VMAv\" title=\"Show this on SHEBANQ\"><span class=\"txtu hbo\">טָֽמְאָה֙ </span></a></div></div></div></div><div class=\"contnr c1  rtl  \" ><div class=\"lbl c1  \" ><a href=\"#\" class=\"nd\">phrase_atom:940799</a></div><div class=\"children hor wrap rtl\"><div class=\"contnr c0 trm rtl  hl\" ><div class=\"lbl c0 trm hl\" ><a href=\"#\" class=\"nd\">58727</a> <a class=\" txtu hbo\" target=\"_blank\" href=\"https://shebanq.ancient-data.org/hebrew/word?version=c&amp;id=1CBOn\" title=\"Show this on SHEBANQ\"><span class=\"txtu hbo\">שִׁבְעַ֣ת </span></a></div></div><div class=\"contnr c0 trm rtl  hl\" ><div class=\"lbl c0 trm hl\" ><a href=\"#\" class=\"nd\">58728</a> <a class=\" txtu hbo\" target=\"_blank\" href=\"https://shebanq.ancient-data.org/hebrew/word?version=c&amp;id=1JWMn\" title=\"Show this on SHEBANQ\"><span class=\"txtu hbo\">יָמִ֔ים </span></a></div></div></div></div></div></div></div></div></div>ESV: “ Speak to the people of Israel , saying , ‘ If a woman conceives and bears a male child , then she shall be unclean seven days . As at the time of her menstruation , she shall be unclean .<br>"
   ]
  },
  {
   "cell_type": "code",
   "execution_count": null,
   "metadata": {},
   "outputs": [],
   "source": [
    "save(438941,\n",
    "\n",
    "{'functions': ['atelic_ext'],\n",
    " 'quals': ['durative'],\n",
    " 'quants': [['NUMQ', 58727]],\n",
    " 'slots': [58727, 58728],\n",
    " 'times': [58728]}\n",
    "\n",
    ")"
   ]
  },
  {
   "cell_type": "markdown",
   "metadata": {},
   "source": [
    "<div class=\"tfsechead rtl\"><a target=\"_blank\" href=\"https://shebanq.ancient-data.org/hebrew/text?book=Leviticus&amp;chapter=12&amp;verse=3&amp;version=c&amp;mr=m&amp;qw=q&amp;tp=txt_p&amp;tr=hb&amp;wget=v&amp;qget=v&amp;nget=vt\" title=\"Show this on SHEBANQ\" sec=\"Leviticus 12:3\">Leviticus 12:3</a></div><div class=\"rtl children\"><div class=\"contnr c2  rtl  \" ><div class=\"lbl c2  \" ><a href=\"#\" class=\"nd\">clause:438943</a></div><div class=\"children hor wrap rtl\"><div class=\"contnr c1  rtl  \" ><div class=\"lbl c1  \" ><a href=\"#\" class=\"nd\">clause_atom:527414</a></div><div class=\"children hor wrap rtl\"><div class=\"contnr c1  rtl  \" ><div class=\"lbl c1  \" ><a href=\"#\" class=\"nd\">phrase_atom:940802</a></div><div class=\"children hor wrap rtl\"><div class=\"contnr c0 trm rtl  \" ><div class=\"lbl c0 trm \" ><a href=\"#\" class=\"nd\">58734</a> <a class=\" txtu hbo\" target=\"_blank\" href=\"https://shebanq.ancient-data.org/hebrew/word?version=c&amp;id=1W\" title=\"Show this on SHEBANQ\"><span class=\"txtu hbo\">וּ</span></a></div></div></div></div><div class=\"contnr c1  rtl  \" ><div class=\"lbl c1  \" ><a href=\"#\" class=\"nd\">phrase_atom:940803</a></div><div class=\"children hor wrap rtl\"><div class=\"contnr c0 trm rtl  hl\" ><div class=\"lbl c0 trm hl\" ><a href=\"#\" class=\"nd\">58735</a> <a class=\" txtu hbo\" target=\"_blank\" href=\"https://shebanq.ancient-data.org/hebrew/word?version=c&amp;id=1B\" title=\"Show this on SHEBANQ\"><span class=\"txtu hbo\">בַ</span></a></div></div><div class=\"contnr c0 trm rtl  hl\" ><div class=\"lbl c0 trm hl\" ><a href=\"#\" class=\"nd\">58736</a> <a class=\" txtu hbo\" target=\"_blank\" href=\"https://shebanq.ancient-data.org/hebrew/word?version=c&amp;id=1H\" title=\"Show this on SHEBANQ\"></a></div></div><div class=\"contnr c0 trm rtl  hl\" ><div class=\"lbl c0 trm hl\" ><a href=\"#\" class=\"nd\">58737</a> <a class=\" txtu hbo\" target=\"_blank\" href=\"https://shebanq.ancient-data.org/hebrew/word?version=c&amp;id=1JWMn\" title=\"Show this on SHEBANQ\"><span class=\"txtu hbo\">יֹּ֖ום </span></a></div></div><div class=\"contnr c0 trm rtl  \" ><div class=\"lbl c0 trm \" ><a href=\"#\" class=\"nd\">58738</a> <a class=\" txtu hbo\" target=\"_blank\" href=\"https://shebanq.ancient-data.org/hebrew/word?version=c&amp;id=1H\" title=\"Show this on SHEBANQ\"><span class=\"txtu hbo\">הַ</span></a></div></div><div class=\"contnr c0 trm rtl  hl\" ><div class=\"lbl c0 trm hl\" ><a href=\"#\" class=\"nd\">58739</a> <a class=\" txtu hbo\" target=\"_blank\" href=\"https://shebanq.ancient-data.org/hebrew/word?version=c&amp;id=1CMJNJn\" title=\"Show this on SHEBANQ\"><span class=\"txtu hbo\">שְּׁמִינִ֑י </span></a></div></div></div></div><div class=\"contnr c1  rtl  \" ><div class=\"lbl c1  \" ><a href=\"#\" class=\"nd\">phrase_atom:940804</a></div><div class=\"children hor wrap rtl\"><div class=\"contnr c0 trm rtl  \" ><div class=\"lbl c0 trm \" ><a href=\"#\" class=\"nd\">58740</a> <a class=\" txtu hbo\" target=\"_blank\" href=\"https://shebanq.ancient-data.org/hebrew/word?version=c&amp;id=1MWLv\" title=\"Show this on SHEBANQ\"><span class=\"txtu hbo\">יִמֹּ֖ול </span></a></div></div></div></div><div class=\"contnr c1  rtl  \" ><div class=\"lbl c1  \" ><a href=\"#\" class=\"nd\">phrase_atom:940805</a></div><div class=\"children hor wrap rtl\"><div class=\"contnr c0 trm rtl  \" ><div class=\"lbl c0 trm \" ><a href=\"#\" class=\"nd\">58741</a> <a class=\" txtu hbo\" target=\"_blank\" href=\"https://shebanq.ancient-data.org/hebrew/word?version=c&amp;id=1BFRn\" title=\"Show this on SHEBANQ\"><span class=\"txtu hbo\">בְּשַׂ֥ר </span></a></div></div><div class=\"contnr c0 trm rtl  \" ><div class=\"lbl c0 trm \" ><a href=\"#\" class=\"nd\">58742</a> <a class=\" txtu hbo\" target=\"_blank\" href=\"https://shebanq.ancient-data.org/hebrew/word?version=c&amp;id=1ORLHn\" title=\"Show this on SHEBANQ\"><span class=\"txtu hbo\">עָרְלָתֹֽו׃ </span></a></div></div></div></div></div></div></div></div></div>ESV: And on the eighth day the flesh of his foreskin shall be circumcised .<br>"
   ]
  },
  {
   "cell_type": "code",
   "execution_count": null,
   "metadata": {},
   "outputs": [],
   "source": [
    "save(438943,\n",
    "\n",
    "{'functions': ['simultaneous'],\n",
    " 'preps': [['B', 58735]],\n",
    " 'refs': [['ORDN', 58739], ['THE', 58736]],\n",
    " 'slots': [58735, 58736, 58737, 58739],\n",
    " 'times': [58737]}\n",
    "\n",
    ")"
   ]
  },
  {
   "cell_type": "markdown",
   "metadata": {},
   "source": [
    "<div class=\"tfsechead rtl\"><a target=\"_blank\" href=\"https://shebanq.ancient-data.org/hebrew/text?book=Leviticus&amp;chapter=12&amp;verse=4&amp;version=c&amp;mr=m&amp;qw=q&amp;tp=txt_p&amp;tr=hb&amp;wget=v&amp;qget=v&amp;nget=vt\" title=\"Show this on SHEBANQ\" sec=\"Leviticus 12:4\">Leviticus 12:4</a></div><div class=\"rtl children\"><div class=\"contnr c2  rtl  \" ><div class=\"lbl c2  \" ><a href=\"#\" class=\"nd\">clause:438944</a></div><div class=\"children hor wrap rtl\"><div class=\"contnr c1  rtl  \" ><div class=\"lbl c1  \" ><a href=\"#\" class=\"nd\">clause_atom:527415</a></div><div class=\"children hor wrap rtl\"><div class=\"contnr c1  rtl  \" ><div class=\"lbl c1  \" ><a href=\"#\" class=\"nd\">phrase_atom:940806</a></div><div class=\"children hor wrap rtl\"><div class=\"contnr c0 trm rtl  \" ><div class=\"lbl c0 trm \" ><a href=\"#\" class=\"nd\">58743</a> <a class=\" txtu hbo\" target=\"_blank\" href=\"https://shebanq.ancient-data.org/hebrew/word?version=c&amp;id=1W\" title=\"Show this on SHEBANQ\"><span class=\"txtu hbo\">וּ</span></a></div></div></div></div><div class=\"contnr c1  rtl  \" ><div class=\"lbl c1  \" ><a href=\"#\" class=\"nd\">phrase_atom:940807</a></div><div class=\"children hor wrap rtl\"><div class=\"contnr c0 trm rtl  hl\" ><div class=\"lbl c0 trm hl\" ><a href=\"#\" class=\"nd\">58744</a> <a class=\" txtu hbo\" target=\"_blank\" href=\"https://shebanq.ancient-data.org/hebrew/word?version=c&amp;id=1CLCn\" title=\"Show this on SHEBANQ\"><span class=\"txtu hbo\">שְׁלֹשִׁ֥ים </span></a></div></div><div class=\"contnr c0 trm rtl  hl\" ><div class=\"lbl c0 trm hl\" ><a href=\"#\" class=\"nd\">58745</a> <a class=\" txtu hbo\" target=\"_blank\" href=\"https://shebanq.ancient-data.org/hebrew/word?version=c&amp;id=1JWMn\" title=\"Show this on SHEBANQ\"><span class=\"txtu hbo\">יֹום֙ </span></a></div></div><div class=\"contnr c0 trm rtl  \" ><div class=\"lbl c0 trm \" ><a href=\"#\" class=\"nd\">58746</a> <a class=\" txtu hbo\" target=\"_blank\" href=\"https://shebanq.ancient-data.org/hebrew/word?version=c&amp;id=1W\" title=\"Show this on SHEBANQ\"><span class=\"txtu hbo\">וּ</span></a></div></div><div class=\"contnr c0 trm rtl  hl\" ><div class=\"lbl c0 trm hl\" ><a href=\"#\" class=\"nd\">58747</a> <a class=\" txtu hbo\" target=\"_blank\" href=\"https://shebanq.ancient-data.org/hebrew/word?version=c&amp;id=1CLCn\" title=\"Show this on SHEBANQ\"><span class=\"txtu hbo\">שְׁלֹ֣שֶׁת </span></a></div></div><div class=\"contnr c0 trm rtl  hl\" ><div class=\"lbl c0 trm hl\" ><a href=\"#\" class=\"nd\">58748</a> <a class=\" txtu hbo\" target=\"_blank\" href=\"https://shebanq.ancient-data.org/hebrew/word?version=c&amp;id=1JWMn\" title=\"Show this on SHEBANQ\"><span class=\"txtu hbo\">יָמִ֔ים </span></a></div></div></div></div><div class=\"contnr c1  rtl  \" ><div class=\"lbl c1  \" ><a href=\"#\" class=\"nd\">phrase_atom:940808</a></div><div class=\"children hor wrap rtl\"><div class=\"contnr c0 trm rtl  \" ><div class=\"lbl c0 trm \" ><a href=\"#\" class=\"nd\">58749</a> <a class=\" txtu hbo\" target=\"_blank\" href=\"https://shebanq.ancient-data.org/hebrew/word?version=c&amp;id=1JCBv\" title=\"Show this on SHEBANQ\"><span class=\"txtu hbo\">תֵּשֵׁ֖ב </span></a></div></div></div></div><div class=\"contnr c1  rtl  \" ><div class=\"lbl c1  \" ><a href=\"#\" class=\"nd\">phrase_atom:940809</a></div><div class=\"children hor wrap rtl\"><div class=\"contnr c0 trm rtl  \" ><div class=\"lbl c0 trm \" ><a href=\"#\" class=\"nd\">58750</a> <a class=\" txtu hbo\" target=\"_blank\" href=\"https://shebanq.ancient-data.org/hebrew/word?version=c&amp;id=1B\" title=\"Show this on SHEBANQ\"><span class=\"txtu hbo\">בִּ</span></a></div></div><div class=\"contnr c0 trm rtl  \" ><div class=\"lbl c0 trm \" ><a href=\"#\" class=\"nd\">58751</a> <a class=\" txtu hbo\" target=\"_blank\" href=\"https://shebanq.ancient-data.org/hebrew/word?version=c&amp;id=1DMn\" title=\"Show this on SHEBANQ\"><span class=\"txtu hbo\">דְמֵ֣י </span></a></div></div><div class=\"contnr c0 trm rtl  \" ><div class=\"lbl c0 trm \" ><a href=\"#\" class=\"nd\">58752</a> <a class=\" txtu hbo\" target=\"_blank\" href=\"https://shebanq.ancient-data.org/hebrew/word?version=c&amp;id=1VHRHn\" title=\"Show this on SHEBANQ\"><span class=\"txtu hbo\">טָהֳרָ֑ה </span></a></div></div></div></div></div></div></div></div></div>ESV: Then she shall continue for thirty-three days in the blood of her purifying . She shall not touch anything holy , nor come into the sanctuary , until the days of her purifying are completed .<br>"
   ]
  },
  {
   "cell_type": "code",
   "execution_count": null,
   "metadata": {},
   "outputs": [],
   "source": [
    "save(438944,\n",
    "\n",
    "{'functions': ['atelic_ext'],\n",
    " 'quals': ['durative'],\n",
    " 'slots': [58744, 58745, 58747, 58748],\n",
    " 'times': [{'quals': ['durative'],\n",
    "            'quants': [['NUMQ', 58744]],\n",
    "            'slots': [58744, 58745],\n",
    "            'times': [58745]},\n",
    "           {'quals': ['durative'],\n",
    "            'quants': [['NUMQ', 58747]],\n",
    "            'slots': [58747, 58748],\n",
    "            'times': [58748]}]}\n",
    "\n",
    ")"
   ]
  },
  {
   "cell_type": "markdown",
   "metadata": {},
   "source": [
    "<div class=\"tfsechead rtl\"><a target=\"_blank\" href=\"https://shebanq.ancient-data.org/hebrew/text?book=Leviticus&amp;chapter=12&amp;verse=5&amp;version=c&amp;mr=m&amp;qw=q&amp;tp=txt_p&amp;tr=hb&amp;wget=v&amp;qget=v&amp;nget=vt\" title=\"Show this on SHEBANQ\" sec=\"Leviticus 12:5\">Leviticus 12:5</a></div><div class=\"rtl children\"><div class=\"contnr c2  rtl  \" ><div class=\"lbl c2  \" ><a href=\"#\" class=\"nd\">clause:438949</a></div><div class=\"children hor wrap rtl\"><div class=\"contnr c1  rtl  \" ><div class=\"lbl c1  \" ><a href=\"#\" class=\"nd\">clause_atom:527420</a></div><div class=\"children hor wrap rtl\"><div class=\"contnr c1  rtl  \" ><div class=\"lbl c1  \" ><a href=\"#\" class=\"nd\">phrase_atom:940823</a></div><div class=\"children hor wrap rtl\"><div class=\"contnr c0 trm rtl  \" ><div class=\"lbl c0 trm \" ><a href=\"#\" class=\"nd\">58772</a> <a class=\" txtu hbo\" target=\"_blank\" href=\"https://shebanq.ancient-data.org/hebrew/word?version=c&amp;id=1W\" title=\"Show this on SHEBANQ\"><span class=\"txtu hbo\">וְ</span></a></div></div></div></div><div class=\"contnr c1  rtl  \" ><div class=\"lbl c1  \" ><a href=\"#\" class=\"nd\">phrase_atom:940824</a></div><div class=\"children hor wrap rtl\"><div class=\"contnr c0 trm rtl  \" ><div class=\"lbl c0 trm \" ><a href=\"#\" class=\"nd\">58773</a> <a class=\" txtu hbo\" target=\"_blank\" href=\"https://shebanq.ancient-data.org/hebrew/word?version=c&amp;id=1VMAv\" title=\"Show this on SHEBANQ\"><span class=\"txtu hbo\">טָמְאָ֥ה </span></a></div></div></div></div><div class=\"contnr c1  rtl  \" ><div class=\"lbl c1  \" ><a href=\"#\" class=\"nd\">phrase_atom:940825</a></div><div class=\"children hor wrap rtl\"><div class=\"contnr c0 trm rtl  hl\" ><div class=\"lbl c0 trm hl\" ><a href=\"#\" class=\"nd\">58774</a> <a class=\" txtu hbo\" target=\"_blank\" href=\"https://shebanq.ancient-data.org/hebrew/word?version=c&amp;id=1CBWOn\" title=\"Show this on SHEBANQ\"><span class=\"txtu hbo\">שְׁבֻעַ֖יִם </span></a></div></div></div></div><div class=\"contnr c1  rtl  \" ><div class=\"lbl c1  \" ><a href=\"#\" class=\"nd\">phrase_atom:940826</a></div><div class=\"children hor wrap rtl\"><div class=\"contnr c0 trm rtl  \" ><div class=\"lbl c0 trm \" ><a href=\"#\" class=\"nd\">58775</a> <a class=\" txtu hbo\" target=\"_blank\" href=\"https://shebanq.ancient-data.org/hebrew/word?version=c&amp;id=1K\" title=\"Show this on SHEBANQ\"><span class=\"txtu hbo\">כְּ</span></a></div></div><div class=\"contnr c0 trm rtl  \" ><div class=\"lbl c0 trm \" ><a href=\"#\" class=\"nd\">58776</a> <a class=\" txtu hbo\" target=\"_blank\" href=\"https://shebanq.ancient-data.org/hebrew/word?version=c&amp;id=1NDHn\" title=\"Show this on SHEBANQ\"><span class=\"txtu hbo\">נִדָּתָ֑הּ </span></a></div></div></div></div></div></div></div></div></div>ESV: But if she bears a female child , then she shall be unclean two weeks , as in her menstruation . And she shall continue in the blood of her purifying for sixty-six days .<br>"
   ]
  },
  {
   "cell_type": "code",
   "execution_count": null,
   "metadata": {},
   "outputs": [],
   "source": [
    "save(438949,\n",
    "\n",
    "{'functions': ['atelic_ext'],\n",
    " 'quals': ['durative'],\n",
    " 'quants': [['NUMQ', 58774]],\n",
    " 'slots': [58774],\n",
    " 'times': [58774]}\n",
    "\n",
    ")"
   ]
  },
  {
   "cell_type": "markdown",
   "metadata": {},
   "source": [
    "<div class=\"tfsechead rtl\"><a target=\"_blank\" href=\"https://shebanq.ancient-data.org/hebrew/text?book=Leviticus&amp;chapter=12&amp;verse=5&amp;version=c&amp;mr=m&amp;qw=q&amp;tp=txt_p&amp;tr=hb&amp;wget=v&amp;qget=v&amp;nget=vt\" title=\"Show this on SHEBANQ\" sec=\"Leviticus 12:5\">Leviticus 12:5</a></div><div class=\"rtl children\"><div class=\"contnr c2  rtl  \" ><div class=\"lbl c2  \" ><a href=\"#\" class=\"nd\">clause:438950</a></div><div class=\"children hor wrap rtl\"><div class=\"contnr c1  rtl  \" ><div class=\"lbl c1  \" ><a href=\"#\" class=\"nd\">clause_atom:527421</a></div><div class=\"children hor wrap rtl\"><div class=\"contnr c1  rtl  \" ><div class=\"lbl c1  \" ><a href=\"#\" class=\"nd\">phrase_atom:940827</a></div><div class=\"children hor wrap rtl\"><div class=\"contnr c0 trm rtl  \" ><div class=\"lbl c0 trm \" ><a href=\"#\" class=\"nd\">58777</a> <a class=\" txtu hbo\" target=\"_blank\" href=\"https://shebanq.ancient-data.org/hebrew/word?version=c&amp;id=1W\" title=\"Show this on SHEBANQ\"><span class=\"txtu hbo\">וְ</span></a></div></div></div></div><div class=\"contnr c1  rtl  \" ><div class=\"lbl c1  \" ><a href=\"#\" class=\"nd\">phrase_atom:940828</a></div><div class=\"children hor wrap rtl\"><div class=\"contnr c0 trm rtl  hl\" ><div class=\"lbl c0 trm hl\" ><a href=\"#\" class=\"nd\">58778</a> <a class=\" txtu hbo\" target=\"_blank\" href=\"https://shebanq.ancient-data.org/hebrew/word?version=c&amp;id=1CCn\" title=\"Show this on SHEBANQ\"><span class=\"txtu hbo\">שִׁשִּׁ֥ים </span></a></div></div><div class=\"contnr c0 trm rtl  hl\" ><div class=\"lbl c0 trm hl\" ><a href=\"#\" class=\"nd\">58779</a> <a class=\" txtu hbo\" target=\"_blank\" href=\"https://shebanq.ancient-data.org/hebrew/word?version=c&amp;id=1JWMn\" title=\"Show this on SHEBANQ\"><span class=\"txtu hbo\">יֹום֙ </span></a></div></div><div class=\"contnr c0 trm rtl  \" ><div class=\"lbl c0 trm \" ><a href=\"#\" class=\"nd\">58780</a> <a class=\" txtu hbo\" target=\"_blank\" href=\"https://shebanq.ancient-data.org/hebrew/word?version=c&amp;id=1W\" title=\"Show this on SHEBANQ\"><span class=\"txtu hbo\">וְ</span></a></div></div><div class=\"contnr c0 trm rtl  hl\" ><div class=\"lbl c0 trm hl\" ><a href=\"#\" class=\"nd\">58781</a> <a class=\" txtu hbo\" target=\"_blank\" href=\"https://shebanq.ancient-data.org/hebrew/word?version=c&amp;id=1CCn\" title=\"Show this on SHEBANQ\"><span class=\"txtu hbo\">שֵׁ֣שֶׁת </span></a></div></div><div class=\"contnr c0 trm rtl  hl\" ><div class=\"lbl c0 trm hl\" ><a href=\"#\" class=\"nd\">58782</a> <a class=\" txtu hbo\" target=\"_blank\" href=\"https://shebanq.ancient-data.org/hebrew/word?version=c&amp;id=1JWMn\" title=\"Show this on SHEBANQ\"><span class=\"txtu hbo\">יָמִ֔ים </span></a></div></div></div></div><div class=\"contnr c1  rtl  \" ><div class=\"lbl c1  \" ><a href=\"#\" class=\"nd\">phrase_atom:940829</a></div><div class=\"children hor wrap rtl\"><div class=\"contnr c0 trm rtl  \" ><div class=\"lbl c0 trm \" ><a href=\"#\" class=\"nd\">58783</a> <a class=\" txtu hbo\" target=\"_blank\" href=\"https://shebanq.ancient-data.org/hebrew/word?version=c&amp;id=1JCBv\" title=\"Show this on SHEBANQ\"><span class=\"txtu hbo\">תֵּשֵׁ֖ב </span></a></div></div></div></div><div class=\"contnr c1  rtl  \" ><div class=\"lbl c1  \" ><a href=\"#\" class=\"nd\">phrase_atom:940830</a></div><div class=\"children hor wrap rtl\"><div class=\"contnr c0 trm rtl  \" ><div class=\"lbl c0 trm \" ><a href=\"#\" class=\"nd\">58784</a> <a class=\" txtu hbo\" target=\"_blank\" href=\"https://shebanq.ancient-data.org/hebrew/word?version=c&amp;id=1OL\" title=\"Show this on SHEBANQ\"><span class=\"txtu hbo\">עַל־</span></a></div></div><div class=\"contnr c0 trm rtl  \" ><div class=\"lbl c0 trm \" ><a href=\"#\" class=\"nd\">58785</a> <a class=\" txtu hbo\" target=\"_blank\" href=\"https://shebanq.ancient-data.org/hebrew/word?version=c&amp;id=1DMn\" title=\"Show this on SHEBANQ\"><span class=\"txtu hbo\">דְּמֵ֥י </span></a></div></div><div class=\"contnr c0 trm rtl  \" ><div class=\"lbl c0 trm \" ><a href=\"#\" class=\"nd\">58786</a> <a class=\" txtu hbo\" target=\"_blank\" href=\"https://shebanq.ancient-data.org/hebrew/word?version=c&amp;id=1VHRHn\" title=\"Show this on SHEBANQ\"><span class=\"txtu hbo\">טָהֳרָֽה׃ </span></a></div></div></div></div></div></div></div></div></div>ESV: But if she bears a female child , then she shall be unclean two weeks , as in her menstruation . And she shall continue in the blood of her purifying for sixty-six days .<br>"
   ]
  },
  {
   "cell_type": "code",
   "execution_count": null,
   "metadata": {},
   "outputs": [],
   "source": [
    "save(438950,\n",
    "\n",
    "{'functions': ['atelic_ext'],\n",
    " 'quals': ['durative'],\n",
    " 'slots': [58778, 58779, 58781, 58782],\n",
    " 'times': [{'quals': ['durative'],\n",
    "            'quants': [['NUMQ', 58778]],\n",
    "            'slots': [58778, 58779],\n",
    "            'times': [58779]},\n",
    "           {'quals': ['durative'],\n",
    "            'quants': [['NUMQ', 58781]],\n",
    "            'slots': [58781, 58782],\n",
    "            'times': [58782]}]}\n",
    "\n",
    ")"
   ]
  },
  {
   "cell_type": "markdown",
   "metadata": {},
   "source": [
    "<div class=\"tfsechead rtl\"><a target=\"_blank\" href=\"https://shebanq.ancient-data.org/hebrew/text?book=Leviticus&amp;chapter=13&amp;verse=4&amp;version=c&amp;mr=m&amp;qw=q&amp;tp=txt_p&amp;tr=hb&amp;wget=v&amp;qget=v&amp;nget=vt\" title=\"Show this on SHEBANQ\" sec=\"Leviticus 13:4\">Leviticus 13:4</a></div><div class=\"rtl children\"><div class=\"contnr c2  rtl  \" ><div class=\"lbl c2  \" ><a href=\"#\" class=\"nd\">clause:438979</a></div><div class=\"children hor wrap rtl\"><div class=\"contnr c1  rtl  \" ><div class=\"lbl c1  \" ><a href=\"#\" class=\"nd\">clause_atom:527451</a></div><div class=\"children hor wrap rtl\"><div class=\"contnr c1  rtl  \" ><div class=\"lbl c1  \" ><a href=\"#\" class=\"nd\">phrase_atom:940936</a></div><div class=\"children hor wrap rtl\"><div class=\"contnr c0 trm rtl  \" ><div class=\"lbl c0 trm \" ><a href=\"#\" class=\"nd\">58968</a> <a class=\" txtu hbo\" target=\"_blank\" href=\"https://shebanq.ancient-data.org/hebrew/word?version=c&amp;id=1W\" title=\"Show this on SHEBANQ\"><span class=\"txtu hbo\">וְ</span></a></div></div></div></div><div class=\"contnr c1  rtl  \" ><div class=\"lbl c1  \" ><a href=\"#\" class=\"nd\">phrase_atom:940937</a></div><div class=\"children hor wrap rtl\"><div class=\"contnr c0 trm rtl  \" ><div class=\"lbl c0 trm \" ><a href=\"#\" class=\"nd\">58969</a> <a class=\" txtu hbo\" target=\"_blank\" href=\"https://shebanq.ancient-data.org/hebrew/word?version=c&amp;id=1SGRv\" title=\"Show this on SHEBANQ\"><span class=\"txtu hbo\">הִסְגִּ֧יר </span></a></div></div></div></div><div class=\"contnr c1  rtl  \" ><div class=\"lbl c1  \" ><a href=\"#\" class=\"nd\">phrase_atom:940938</a></div><div class=\"children hor wrap rtl\"><div class=\"contnr c0 trm rtl  \" ><div class=\"lbl c0 trm \" ><a href=\"#\" class=\"nd\">58970</a> <a class=\" txtu hbo\" target=\"_blank\" href=\"https://shebanq.ancient-data.org/hebrew/word?version=c&amp;id=1H\" title=\"Show this on SHEBANQ\"><span class=\"txtu hbo\">הַ</span></a></div></div><div class=\"contnr c0 trm rtl  \" ><div class=\"lbl c0 trm \" ><a href=\"#\" class=\"nd\">58971</a> <a class=\" txtu hbo\" target=\"_blank\" href=\"https://shebanq.ancient-data.org/hebrew/word?version=c&amp;id=1KHNn\" title=\"Show this on SHEBANQ\"><span class=\"txtu hbo\">כֹּהֵ֛ן </span></a></div></div></div></div><div class=\"contnr c1  rtl  \" ><div class=\"lbl c1  \" ><a href=\"#\" class=\"nd\">phrase_atom:940939</a></div><div class=\"children hor wrap rtl\"><div class=\"contnr c0 trm rtl  \" ><div class=\"lbl c0 trm \" ><a href=\"#\" class=\"nd\">58972</a> <a class=\" txtu hbo\" target=\"_blank\" href=\"https://shebanq.ancient-data.org/hebrew/word?version=c&amp;id=1AT\" title=\"Show this on SHEBANQ\"><span class=\"txtu hbo\">אֶת־</span></a></div></div><div class=\"contnr c0 trm rtl  \" ><div class=\"lbl c0 trm \" ><a href=\"#\" class=\"nd\">58973</a> <a class=\" txtu hbo\" target=\"_blank\" href=\"https://shebanq.ancient-data.org/hebrew/word?version=c&amp;id=1H\" title=\"Show this on SHEBANQ\"><span class=\"txtu hbo\">הַ</span></a></div></div><div class=\"contnr c0 trm rtl  \" ><div class=\"lbl c0 trm \" ><a href=\"#\" class=\"nd\">58974</a> <a class=\" txtu hbo\" target=\"_blank\" href=\"https://shebanq.ancient-data.org/hebrew/word?version=c&amp;id=1NGOn\" title=\"Show this on SHEBANQ\"><span class=\"txtu hbo\">נֶּ֖גַע </span></a></div></div></div></div><div class=\"contnr c1  rtl  \" ><div class=\"lbl c1  \" ><a href=\"#\" class=\"nd\">phrase_atom:940940</a></div><div class=\"children hor wrap rtl\"><div class=\"contnr c0 trm rtl  hl\" ><div class=\"lbl c0 trm hl\" ><a href=\"#\" class=\"nd\">58975</a> <a class=\" txtu hbo\" target=\"_blank\" href=\"https://shebanq.ancient-data.org/hebrew/word?version=c&amp;id=1CBOn\" title=\"Show this on SHEBANQ\"><span class=\"txtu hbo\">שִׁבְעַ֥ת </span></a></div></div><div class=\"contnr c0 trm rtl  hl\" ><div class=\"lbl c0 trm hl\" ><a href=\"#\" class=\"nd\">58976</a> <a class=\" txtu hbo\" target=\"_blank\" href=\"https://shebanq.ancient-data.org/hebrew/word?version=c&amp;id=1JWMn\" title=\"Show this on SHEBANQ\"><span class=\"txtu hbo\">יָמִֽים׃ </span></a></div></div></div></div></div></div></div></div></div>ESV: But if the spot is white in the skin of his body and appears no deeper than the skin , and the hair in it has not turned white , the priest shall shut up the diseased person for seven days .<br>"
   ]
  },
  {
   "cell_type": "code",
   "execution_count": null,
   "metadata": {},
   "outputs": [],
   "source": [
    "save(438979,\n",
    "\n",
    "{'functions': ['atelic_ext'],\n",
    " 'quals': ['durative'],\n",
    " 'quants': [['NUMQ', 58975]],\n",
    " 'slots': [58975, 58976],\n",
    " 'times': [58976]}\n",
    "\n",
    ")"
   ]
  },
  {
   "cell_type": "markdown",
   "metadata": {},
   "source": [
    "<div class=\"tfsechead rtl\"><a target=\"_blank\" href=\"https://shebanq.ancient-data.org/hebrew/text?book=Leviticus&amp;chapter=13&amp;verse=5&amp;version=c&amp;mr=m&amp;qw=q&amp;tp=txt_p&amp;tr=hb&amp;wget=v&amp;qget=v&amp;nget=vt\" title=\"Show this on SHEBANQ\" sec=\"Leviticus 13:5\">Leviticus 13:5</a></div><div class=\"rtl children\"><div class=\"contnr c2  rtl  \" ><div class=\"lbl c2  \" ><a href=\"#\" class=\"nd\">clause:438980</a></div><div class=\"children hor wrap rtl\"><div class=\"contnr c1  rtl  \" ><div class=\"lbl c1  \" ><a href=\"#\" class=\"nd\">clause_atom:527452</a></div><div class=\"children hor wrap rtl\"><div class=\"contnr c1  rtl  \" ><div class=\"lbl c1  \" ><a href=\"#\" class=\"nd\">phrase_atom:940941</a></div><div class=\"children hor wrap rtl\"><div class=\"contnr c0 trm rtl  \" ><div class=\"lbl c0 trm \" ><a href=\"#\" class=\"nd\">58977</a> <a class=\" txtu hbo\" target=\"_blank\" href=\"https://shebanq.ancient-data.org/hebrew/word?version=c&amp;id=1W\" title=\"Show this on SHEBANQ\"><span class=\"txtu hbo\">וְ</span></a></div></div></div></div><div class=\"contnr c1  rtl  \" ><div class=\"lbl c1  \" ><a href=\"#\" class=\"nd\">phrase_atom:940942</a></div><div class=\"children hor wrap rtl\"><div class=\"contnr c0 trm rtl  \" ><div class=\"lbl c0 trm \" ><a href=\"#\" class=\"nd\">58978</a> <a class=\" txtu hbo\" target=\"_blank\" href=\"https://shebanq.ancient-data.org/hebrew/word?version=c&amp;id=1RAHv\" title=\"Show this on SHEBANQ\"><span class=\"txtu hbo\">רָאָ֣הוּ </span></a></div></div></div></div><div class=\"contnr c1  rtl  \" ><div class=\"lbl c1  \" ><a href=\"#\" class=\"nd\">phrase_atom:940943</a></div><div class=\"children hor wrap rtl\"><div class=\"contnr c0 trm rtl  \" ><div class=\"lbl c0 trm \" ><a href=\"#\" class=\"nd\">58979</a> <a class=\" txtu hbo\" target=\"_blank\" href=\"https://shebanq.ancient-data.org/hebrew/word?version=c&amp;id=1H\" title=\"Show this on SHEBANQ\"><span class=\"txtu hbo\">הַ</span></a></div></div><div class=\"contnr c0 trm rtl  \" ><div class=\"lbl c0 trm \" ><a href=\"#\" class=\"nd\">58980</a> <a class=\" txtu hbo\" target=\"_blank\" href=\"https://shebanq.ancient-data.org/hebrew/word?version=c&amp;id=1KHNn\" title=\"Show this on SHEBANQ\"><span class=\"txtu hbo\">כֹּהֵן֮ </span></a></div></div></div></div><div class=\"contnr c1  rtl  \" ><div class=\"lbl c1  \" ><a href=\"#\" class=\"nd\">phrase_atom:940944</a></div><div class=\"children hor wrap rtl\"><div class=\"contnr c0 trm rtl  hl\" ><div class=\"lbl c0 trm hl\" ><a href=\"#\" class=\"nd\">58981</a> <a class=\" txtu hbo\" target=\"_blank\" href=\"https://shebanq.ancient-data.org/hebrew/word?version=c&amp;id=1B\" title=\"Show this on SHEBANQ\"><span class=\"txtu hbo\">בַּ</span></a></div></div><div class=\"contnr c0 trm rtl  hl\" ><div class=\"lbl c0 trm hl\" ><a href=\"#\" class=\"nd\">58982</a> <a class=\" txtu hbo\" target=\"_blank\" href=\"https://shebanq.ancient-data.org/hebrew/word?version=c&amp;id=1H\" title=\"Show this on SHEBANQ\"></a></div></div><div class=\"contnr c0 trm rtl  hl\" ><div class=\"lbl c0 trm hl\" ><a href=\"#\" class=\"nd\">58983</a> <a class=\" txtu hbo\" target=\"_blank\" href=\"https://shebanq.ancient-data.org/hebrew/word?version=c&amp;id=1JWMn\" title=\"Show this on SHEBANQ\"><span class=\"txtu hbo\">יֹּ֣ום </span></a></div></div><div class=\"contnr c0 trm rtl  \" ><div class=\"lbl c0 trm \" ><a href=\"#\" class=\"nd\">58984</a> <a class=\" txtu hbo\" target=\"_blank\" href=\"https://shebanq.ancient-data.org/hebrew/word?version=c&amp;id=1H\" title=\"Show this on SHEBANQ\"><span class=\"txtu hbo\">הַ</span></a></div></div><div class=\"contnr c0 trm rtl  hl\" ><div class=\"lbl c0 trm hl\" ><a href=\"#\" class=\"nd\">58985</a> <a class=\" txtu hbo\" target=\"_blank\" href=\"https://shebanq.ancient-data.org/hebrew/word?version=c&amp;id=1CBJOJn\" title=\"Show this on SHEBANQ\"><span class=\"txtu hbo\">שְּׁבִיעִי֒ </span></a></div></div></div></div></div></div></div></div></div>ESV: And the priest shall examine him on the seventh day , and if in his eyes the disease is checked and the disease has not spread in the skin , then the priest shall shut him up for another seven days .<br>"
   ]
  },
  {
   "cell_type": "code",
   "execution_count": null,
   "metadata": {},
   "outputs": [],
   "source": [
    "save(438980,\n",
    "\n",
    "{'functions': ['simultaneous'],\n",
    " 'preps': [['B', 58981]],\n",
    " 'refs': [['ORDN', 58985], ['THE', 58982]],\n",
    " 'slots': [58981, 58982, 58983, 58985],\n",
    " 'times': [58983]}\n",
    "\n",
    ")"
   ]
  },
  {
   "cell_type": "markdown",
   "metadata": {},
   "source": [
    "<div class=\"tfsechead rtl\"><a target=\"_blank\" href=\"https://shebanq.ancient-data.org/hebrew/text?book=Leviticus&amp;chapter=13&amp;verse=5&amp;version=c&amp;mr=m&amp;qw=q&amp;tp=txt_p&amp;tr=hb&amp;wget=v&amp;qget=v&amp;nget=vt\" title=\"Show this on SHEBANQ\" sec=\"Leviticus 13:5\">Leviticus 13:5</a></div><div class=\"rtl children\"><div class=\"contnr c2  rtl  \" ><div class=\"lbl c2  \" ><a href=\"#\" class=\"nd\">clause:438983</a></div><div class=\"children hor wrap rtl\"><div class=\"contnr c1  rtl  \" ><div class=\"lbl c1  \" ><a href=\"#\" class=\"nd\">clause_atom:527455</a></div><div class=\"children hor wrap rtl\"><div class=\"contnr c1  rtl  \" ><div class=\"lbl c1  \" ><a href=\"#\" class=\"nd\">phrase_atom:940954</a></div><div class=\"children hor wrap rtl\"><div class=\"contnr c0 trm rtl  \" ><div class=\"lbl c0 trm \" ><a href=\"#\" class=\"nd\">59000</a> <a class=\" txtu hbo\" target=\"_blank\" href=\"https://shebanq.ancient-data.org/hebrew/word?version=c&amp;id=1W\" title=\"Show this on SHEBANQ\"><span class=\"txtu hbo\">וְ</span></a></div></div></div></div><div class=\"contnr c1  rtl  \" ><div class=\"lbl c1  \" ><a href=\"#\" class=\"nd\">phrase_atom:940955</a></div><div class=\"children hor wrap rtl\"><div class=\"contnr c0 trm rtl  \" ><div class=\"lbl c0 trm \" ><a href=\"#\" class=\"nd\">59001</a> <a class=\" txtu hbo\" target=\"_blank\" href=\"https://shebanq.ancient-data.org/hebrew/word?version=c&amp;id=1SGRv\" title=\"Show this on SHEBANQ\"><span class=\"txtu hbo\">הִסְגִּירֹ֧ו </span></a></div></div></div></div><div class=\"contnr c1  rtl  \" ><div class=\"lbl c1  \" ><a href=\"#\" class=\"nd\">phrase_atom:940956</a></div><div class=\"children hor wrap rtl\"><div class=\"contnr c0 trm rtl  \" ><div class=\"lbl c0 trm \" ><a href=\"#\" class=\"nd\">59002</a> <a class=\" txtu hbo\" target=\"_blank\" href=\"https://shebanq.ancient-data.org/hebrew/word?version=c&amp;id=1H\" title=\"Show this on SHEBANQ\"><span class=\"txtu hbo\">הַ</span></a></div></div><div class=\"contnr c0 trm rtl  \" ><div class=\"lbl c0 trm \" ><a href=\"#\" class=\"nd\">59003</a> <a class=\" txtu hbo\" target=\"_blank\" href=\"https://shebanq.ancient-data.org/hebrew/word?version=c&amp;id=1KHNn\" title=\"Show this on SHEBANQ\"><span class=\"txtu hbo\">כֹּהֵ֛ן </span></a></div></div></div></div><div class=\"contnr c1  rtl  \" ><div class=\"lbl c1  \" ><a href=\"#\" class=\"nd\">phrase_atom:940957</a></div><div class=\"children hor wrap rtl\"><div class=\"contnr c0 trm rtl  hl\" ><div class=\"lbl c0 trm hl\" ><a href=\"#\" class=\"nd\">59004</a> <a class=\" txtu hbo\" target=\"_blank\" href=\"https://shebanq.ancient-data.org/hebrew/word?version=c&amp;id=1CBOn\" title=\"Show this on SHEBANQ\"><span class=\"txtu hbo\">שִׁבְעַ֥ת </span></a></div></div><div class=\"contnr c0 trm rtl  hl\" ><div class=\"lbl c0 trm hl\" ><a href=\"#\" class=\"nd\">59005</a> <a class=\" txtu hbo\" target=\"_blank\" href=\"https://shebanq.ancient-data.org/hebrew/word?version=c&amp;id=1JWMn\" title=\"Show this on SHEBANQ\"><span class=\"txtu hbo\">יָמִ֖ים </span></a></div></div></div></div><div class=\"contnr c1  rtl  \" ><div class=\"lbl c1  \" ><a href=\"#\" class=\"nd\">phrase_atom:940958</a></div><div class=\"children hor wrap rtl\"><div class=\"contnr c0 trm rtl  \" ><div class=\"lbl c0 trm \" ><a href=\"#\" class=\"nd\">59006</a> <a class=\" txtu hbo\" target=\"_blank\" href=\"https://shebanq.ancient-data.org/hebrew/word?version=c&amp;id=1CNJn\" title=\"Show this on SHEBANQ\"><span class=\"txtu hbo\">שֵׁנִֽית׃ </span></a></div></div></div></div></div></div></div></div></div>ESV: And the priest shall examine him on the seventh day , and if in his eyes the disease is checked and the disease has not spread in the skin , then the priest shall shut him up for another seven days .<br>"
   ]
  },
  {
   "cell_type": "code",
   "execution_count": null,
   "metadata": {},
   "outputs": [],
   "source": [
    "save(438983,\n",
    "\n",
    "{'functions': ['atelic_ext'],\n",
    " 'quals': ['durative'],\n",
    " 'quants': [['NUMQ', 59004]],\n",
    " 'slots': [59004, 59005],\n",
    " 'times': [59005]}\n",
    "\n",
    ")"
   ]
  },
  {
   "cell_type": "markdown",
   "metadata": {},
   "source": [
    "<div class=\"tfsechead rtl\"><a target=\"_blank\" href=\"https://shebanq.ancient-data.org/hebrew/text?book=Leviticus&amp;chapter=13&amp;verse=6&amp;version=c&amp;mr=m&amp;qw=q&amp;tp=txt_p&amp;tr=hb&amp;wget=v&amp;qget=v&amp;nget=vt\" title=\"Show this on SHEBANQ\" sec=\"Leviticus 13:6\">Leviticus 13:6</a></div><div class=\"rtl children\"><div class=\"contnr c2  rtl  \" ><div class=\"lbl c2  \" ><a href=\"#\" class=\"nd\">clause:438984</a></div><div class=\"children hor wrap rtl\"><div class=\"contnr c1  rtl  \" ><div class=\"lbl c1  \" ><a href=\"#\" class=\"nd\">clause_atom:527456</a></div><div class=\"children hor wrap rtl\"><div class=\"contnr c1  rtl  \" ><div class=\"lbl c1  \" ><a href=\"#\" class=\"nd\">phrase_atom:940959</a></div><div class=\"children hor wrap rtl\"><div class=\"contnr c0 trm rtl  \" ><div class=\"lbl c0 trm \" ><a href=\"#\" class=\"nd\">59007</a> <a class=\" txtu hbo\" target=\"_blank\" href=\"https://shebanq.ancient-data.org/hebrew/word?version=c&amp;id=1W\" title=\"Show this on SHEBANQ\"><span class=\"txtu hbo\">וְ</span></a></div></div></div></div><div class=\"contnr c1  rtl  \" ><div class=\"lbl c1  \" ><a href=\"#\" class=\"nd\">phrase_atom:940960</a></div><div class=\"children hor wrap rtl\"><div class=\"contnr c0 trm rtl  \" ><div class=\"lbl c0 trm \" ><a href=\"#\" class=\"nd\">59008</a> <a class=\" txtu hbo\" target=\"_blank\" href=\"https://shebanq.ancient-data.org/hebrew/word?version=c&amp;id=1RAHv\" title=\"Show this on SHEBANQ\"><span class=\"txtu hbo\">רָאָה֩ </span></a></div></div></div></div><div class=\"contnr c1  rtl  \" ><div class=\"lbl c1  \" ><a href=\"#\" class=\"nd\">phrase_atom:940961</a></div><div class=\"children hor wrap rtl\"><div class=\"contnr c0 trm rtl  \" ><div class=\"lbl c0 trm \" ><a href=\"#\" class=\"nd\">59009</a> <a class=\" txtu hbo\" target=\"_blank\" href=\"https://shebanq.ancient-data.org/hebrew/word?version=c&amp;id=1H\" title=\"Show this on SHEBANQ\"><span class=\"txtu hbo\">הַ</span></a></div></div><div class=\"contnr c0 trm rtl  \" ><div class=\"lbl c0 trm \" ><a href=\"#\" class=\"nd\">59010</a> <a class=\" txtu hbo\" target=\"_blank\" href=\"https://shebanq.ancient-data.org/hebrew/word?version=c&amp;id=1KHNn\" title=\"Show this on SHEBANQ\"><span class=\"txtu hbo\">כֹּהֵ֨ן </span></a></div></div></div></div><div class=\"contnr c1  rtl  \" ><div class=\"lbl c1  \" ><a href=\"#\" class=\"nd\">phrase_atom:940962</a></div><div class=\"children hor wrap rtl\"><div class=\"contnr c0 trm rtl  \" ><div class=\"lbl c0 trm \" ><a href=\"#\" class=\"nd\">59011</a> <a class=\" txtu hbo\" target=\"_blank\" href=\"https://shebanq.ancient-data.org/hebrew/word?version=c&amp;id=1AT\" title=\"Show this on SHEBANQ\"><span class=\"txtu hbo\">אֹתֹ֜ו </span></a></div></div></div></div><div class=\"contnr c1  rtl  \" ><div class=\"lbl c1  \" ><a href=\"#\" class=\"nd\">phrase_atom:940963</a></div><div class=\"children hor wrap rtl\"><div class=\"contnr c0 trm rtl  hl\" ><div class=\"lbl c0 trm hl\" ><a href=\"#\" class=\"nd\">59012</a> <a class=\" txtu hbo\" target=\"_blank\" href=\"https://shebanq.ancient-data.org/hebrew/word?version=c&amp;id=1B\" title=\"Show this on SHEBANQ\"><span class=\"txtu hbo\">בַּ</span></a></div></div><div class=\"contnr c0 trm rtl  hl\" ><div class=\"lbl c0 trm hl\" ><a href=\"#\" class=\"nd\">59013</a> <a class=\" txtu hbo\" target=\"_blank\" href=\"https://shebanq.ancient-data.org/hebrew/word?version=c&amp;id=1H\" title=\"Show this on SHEBANQ\"></a></div></div><div class=\"contnr c0 trm rtl  hl\" ><div class=\"lbl c0 trm hl\" ><a href=\"#\" class=\"nd\">59014</a> <a class=\" txtu hbo\" target=\"_blank\" href=\"https://shebanq.ancient-data.org/hebrew/word?version=c&amp;id=1JWMn\" title=\"Show this on SHEBANQ\"><span class=\"txtu hbo\">יֹּ֣ום </span></a></div></div><div class=\"contnr c0 trm rtl  \" ><div class=\"lbl c0 trm \" ><a href=\"#\" class=\"nd\">59015</a> <a class=\" txtu hbo\" target=\"_blank\" href=\"https://shebanq.ancient-data.org/hebrew/word?version=c&amp;id=1H\" title=\"Show this on SHEBANQ\"><span class=\"txtu hbo\">הַ</span></a></div></div><div class=\"contnr c0 trm rtl  hl\" ><div class=\"lbl c0 trm hl\" ><a href=\"#\" class=\"nd\">59016</a> <a class=\" txtu hbo\" target=\"_blank\" href=\"https://shebanq.ancient-data.org/hebrew/word?version=c&amp;id=1CBJOJn\" title=\"Show this on SHEBANQ\"><span class=\"txtu hbo\">שְּׁבִיעִי֮ </span></a></div></div></div></div><div class=\"contnr c1  rtl  \" ><div class=\"lbl c1  \" ><a href=\"#\" class=\"nd\">phrase_atom:940964</a></div><div class=\"children hor wrap rtl\"><div class=\"contnr c0 trm rtl  \" ><div class=\"lbl c0 trm \" ><a href=\"#\" class=\"nd\">59017</a> <a class=\" txtu hbo\" target=\"_blank\" href=\"https://shebanq.ancient-data.org/hebrew/word?version=c&amp;id=1CNJn\" title=\"Show this on SHEBANQ\"><span class=\"txtu hbo\">שֵׁנִית֒ </span></a></div></div></div></div></div></div></div></div></div>ESV: And the priest shall examine him again on the seventh day , and if the diseased area has faded and the disease has not spread in the skin , then the priest shall pronounce him clean . it is only an eruption . And he shall wash his clothes and be clean .<br>"
   ]
  },
  {
   "cell_type": "code",
   "execution_count": null,
   "metadata": {},
   "outputs": [],
   "source": [
    "save(438984,\n",
    "\n",
    "{'functions': ['simultaneous'],\n",
    " 'preps': [['B', 59012]],\n",
    " 'refs': [['ORDN', 59016], ['THE', 59013]],\n",
    " 'slots': [59012, 59013, 59014, 59016],\n",
    " 'times': [59014]}\n",
    "\n",
    ")"
   ]
  },
  {
   "cell_type": "markdown",
   "metadata": {},
   "source": [
    "<div class=\"tfsechead rtl\"><a target=\"_blank\" href=\"https://shebanq.ancient-data.org/hebrew/text?book=Leviticus&amp;chapter=13&amp;verse=21&amp;version=c&amp;mr=m&amp;qw=q&amp;tp=txt_p&amp;tr=hb&amp;wget=v&amp;qget=v&amp;nget=vt\" title=\"Show this on SHEBANQ\" sec=\"Leviticus 13:21\">Leviticus 13:21</a></div><div class=\"rtl children\"><div class=\"contnr c2  rtl  \" ><div class=\"lbl c2  \" ><a href=\"#\" class=\"nd\">clause:439051</a></div><div class=\"children hor wrap rtl\"><div class=\"contnr c1  rtl  \" ><div class=\"lbl c1  \" ><a href=\"#\" class=\"nd\">clause_atom:527524</a></div><div class=\"children hor wrap rtl\"><div class=\"contnr c1  rtl  \" ><div class=\"lbl c1  \" ><a href=\"#\" class=\"nd\">phrase_atom:941163</a></div><div class=\"children hor wrap rtl\"><div class=\"contnr c0 trm rtl  \" ><div class=\"lbl c0 trm \" ><a href=\"#\" class=\"nd\">59318</a> <a class=\" txtu hbo\" target=\"_blank\" href=\"https://shebanq.ancient-data.org/hebrew/word?version=c&amp;id=1W\" title=\"Show this on SHEBANQ\"><span class=\"txtu hbo\">וְ</span></a></div></div></div></div><div class=\"contnr c1  rtl  \" ><div class=\"lbl c1  \" ><a href=\"#\" class=\"nd\">phrase_atom:941164</a></div><div class=\"children hor wrap rtl\"><div class=\"contnr c0 trm rtl  \" ><div class=\"lbl c0 trm \" ><a href=\"#\" class=\"nd\">59319</a> <a class=\" txtu hbo\" target=\"_blank\" href=\"https://shebanq.ancient-data.org/hebrew/word?version=c&amp;id=1SGRv\" title=\"Show this on SHEBANQ\"><span class=\"txtu hbo\">הִסְגִּירֹ֥ו </span></a></div></div></div></div><div class=\"contnr c1  rtl  \" ><div class=\"lbl c1  \" ><a href=\"#\" class=\"nd\">phrase_atom:941165</a></div><div class=\"children hor wrap rtl\"><div class=\"contnr c0 trm rtl  \" ><div class=\"lbl c0 trm \" ><a href=\"#\" class=\"nd\">59320</a> <a class=\" txtu hbo\" target=\"_blank\" href=\"https://shebanq.ancient-data.org/hebrew/word?version=c&amp;id=1H\" title=\"Show this on SHEBANQ\"><span class=\"txtu hbo\">הַ</span></a></div></div><div class=\"contnr c0 trm rtl  \" ><div class=\"lbl c0 trm \" ><a href=\"#\" class=\"nd\">59321</a> <a class=\" txtu hbo\" target=\"_blank\" href=\"https://shebanq.ancient-data.org/hebrew/word?version=c&amp;id=1KHNn\" title=\"Show this on SHEBANQ\"><span class=\"txtu hbo\">כֹּהֵ֖ן </span></a></div></div></div></div><div class=\"contnr c1  rtl  \" ><div class=\"lbl c1  \" ><a href=\"#\" class=\"nd\">phrase_atom:941166</a></div><div class=\"children hor wrap rtl\"><div class=\"contnr c0 trm rtl  hl\" ><div class=\"lbl c0 trm hl\" ><a href=\"#\" class=\"nd\">59322</a> <a class=\" txtu hbo\" target=\"_blank\" href=\"https://shebanq.ancient-data.org/hebrew/word?version=c&amp;id=1CBOn\" title=\"Show this on SHEBANQ\"><span class=\"txtu hbo\">שִׁבְעַ֥ת </span></a></div></div><div class=\"contnr c0 trm rtl  hl\" ><div class=\"lbl c0 trm hl\" ><a href=\"#\" class=\"nd\">59323</a> <a class=\" txtu hbo\" target=\"_blank\" href=\"https://shebanq.ancient-data.org/hebrew/word?version=c&amp;id=1JWMn\" title=\"Show this on SHEBANQ\"><span class=\"txtu hbo\">יָמִֽים׃ </span></a></div></div></div></div></div></div></div></div></div>ESV: But if the priest examines it and there is no white hair in it and it is not deeper than the skin , but has faded , then the priest shall shut him up seven days .<br>"
   ]
  },
  {
   "cell_type": "code",
   "execution_count": null,
   "metadata": {},
   "outputs": [],
   "source": [
    "save(439051,\n",
    "\n",
    "{'functions': ['atelic_ext'],\n",
    " 'quals': ['durative'],\n",
    " 'quants': [['NUMQ', 59322]],\n",
    " 'slots': [59322, 59323],\n",
    " 'times': [59323]}\n",
    "\n",
    ")"
   ]
  },
  {
   "cell_type": "markdown",
   "metadata": {},
   "source": [
    "<div class=\"tfsechead rtl\"><a target=\"_blank\" href=\"https://shebanq.ancient-data.org/hebrew/text?book=Leviticus&amp;chapter=13&amp;verse=26&amp;version=c&amp;mr=m&amp;qw=q&amp;tp=txt_p&amp;tr=hb&amp;wget=v&amp;qget=v&amp;nget=vt\" title=\"Show this on SHEBANQ\" sec=\"Leviticus 13:26\">Leviticus 13:26</a></div><div class=\"rtl children\"><div class=\"contnr c2  rtl  \" ><div class=\"lbl c2  \" ><a href=\"#\" class=\"nd\">clause:439075</a></div><div class=\"children hor wrap rtl\"><div class=\"contnr c1  rtl  \" ><div class=\"lbl c1  \" ><a href=\"#\" class=\"nd\">clause_atom:527548</a></div><div class=\"children hor wrap rtl\"><div class=\"contnr c1  rtl  \" ><div class=\"lbl c1  \" ><a href=\"#\" class=\"nd\">phrase_atom:941240</a></div><div class=\"children hor wrap rtl\"><div class=\"contnr c0 trm rtl  \" ><div class=\"lbl c0 trm \" ><a href=\"#\" class=\"nd\">59427</a> <a class=\" txtu hbo\" target=\"_blank\" href=\"https://shebanq.ancient-data.org/hebrew/word?version=c&amp;id=1W\" title=\"Show this on SHEBANQ\"><span class=\"txtu hbo\">וְ</span></a></div></div></div></div><div class=\"contnr c1  rtl  \" ><div class=\"lbl c1  \" ><a href=\"#\" class=\"nd\">phrase_atom:941241</a></div><div class=\"children hor wrap rtl\"><div class=\"contnr c0 trm rtl  \" ><div class=\"lbl c0 trm \" ><a href=\"#\" class=\"nd\">59428</a> <a class=\" txtu hbo\" target=\"_blank\" href=\"https://shebanq.ancient-data.org/hebrew/word?version=c&amp;id=1SGRv\" title=\"Show this on SHEBANQ\"><span class=\"txtu hbo\">הִסְגִּירֹ֥ו </span></a></div></div></div></div><div class=\"contnr c1  rtl  \" ><div class=\"lbl c1  \" ><a href=\"#\" class=\"nd\">phrase_atom:941242</a></div><div class=\"children hor wrap rtl\"><div class=\"contnr c0 trm rtl  \" ><div class=\"lbl c0 trm \" ><a href=\"#\" class=\"nd\">59429</a> <a class=\" txtu hbo\" target=\"_blank\" href=\"https://shebanq.ancient-data.org/hebrew/word?version=c&amp;id=1H\" title=\"Show this on SHEBANQ\"><span class=\"txtu hbo\">הַ</span></a></div></div><div class=\"contnr c0 trm rtl  \" ><div class=\"lbl c0 trm \" ><a href=\"#\" class=\"nd\">59430</a> <a class=\" txtu hbo\" target=\"_blank\" href=\"https://shebanq.ancient-data.org/hebrew/word?version=c&amp;id=1KHNn\" title=\"Show this on SHEBANQ\"><span class=\"txtu hbo\">כֹּהֵ֖ן </span></a></div></div></div></div><div class=\"contnr c1  rtl  \" ><div class=\"lbl c1  \" ><a href=\"#\" class=\"nd\">phrase_atom:941243</a></div><div class=\"children hor wrap rtl\"><div class=\"contnr c0 trm rtl  hl\" ><div class=\"lbl c0 trm hl\" ><a href=\"#\" class=\"nd\">59431</a> <a class=\" txtu hbo\" target=\"_blank\" href=\"https://shebanq.ancient-data.org/hebrew/word?version=c&amp;id=1CBOn\" title=\"Show this on SHEBANQ\"><span class=\"txtu hbo\">שִׁבְעַ֥ת </span></a></div></div><div class=\"contnr c0 trm rtl  hl\" ><div class=\"lbl c0 trm hl\" ><a href=\"#\" class=\"nd\">59432</a> <a class=\" txtu hbo\" target=\"_blank\" href=\"https://shebanq.ancient-data.org/hebrew/word?version=c&amp;id=1JWMn\" title=\"Show this on SHEBANQ\"><span class=\"txtu hbo\">יָמִֽים׃ </span></a></div></div></div></div></div></div></div></div></div>ESV: But if the priest examines it and there is no white hair in the spot and it is no deeper than the skin , but has faded , the priest shall shut him up seven days ,<br>"
   ]
  },
  {
   "cell_type": "code",
   "execution_count": null,
   "metadata": {},
   "outputs": [],
   "source": [
    "save(439075,\n",
    "\n",
    "{'functions': ['atelic_ext'],\n",
    " 'quals': ['durative'],\n",
    " 'quants': [['NUMQ', 59431]],\n",
    " 'slots': [59431, 59432],\n",
    " 'times': [59432]}\n",
    "\n",
    ")"
   ]
  },
  {
   "cell_type": "markdown",
   "metadata": {},
   "source": [
    "<div class=\"tfsechead rtl\"><a target=\"_blank\" href=\"https://shebanq.ancient-data.org/hebrew/text?book=Leviticus&amp;chapter=13&amp;verse=27&amp;version=c&amp;mr=m&amp;qw=q&amp;tp=txt_p&amp;tr=hb&amp;wget=v&amp;qget=v&amp;nget=vt\" title=\"Show this on SHEBANQ\" sec=\"Leviticus 13:27\">Leviticus 13:27</a></div><div class=\"rtl children\"><div class=\"contnr c2  rtl  \" ><div class=\"lbl c2  \" ><a href=\"#\" class=\"nd\">clause:439076</a></div><div class=\"children hor wrap rtl\"><div class=\"contnr c1  rtl  \" ><div class=\"lbl c1  \" ><a href=\"#\" class=\"nd\">clause_atom:527549</a></div><div class=\"children hor wrap rtl\"><div class=\"contnr c1  rtl  \" ><div class=\"lbl c1  \" ><a href=\"#\" class=\"nd\">phrase_atom:941244</a></div><div class=\"children hor wrap rtl\"><div class=\"contnr c0 trm rtl  \" ><div class=\"lbl c0 trm \" ><a href=\"#\" class=\"nd\">59433</a> <a class=\" txtu hbo\" target=\"_blank\" href=\"https://shebanq.ancient-data.org/hebrew/word?version=c&amp;id=1W\" title=\"Show this on SHEBANQ\"><span class=\"txtu hbo\">וְ</span></a></div></div></div></div><div class=\"contnr c1  rtl  \" ><div class=\"lbl c1  \" ><a href=\"#\" class=\"nd\">phrase_atom:941245</a></div><div class=\"children hor wrap rtl\"><div class=\"contnr c0 trm rtl  \" ><div class=\"lbl c0 trm \" ><a href=\"#\" class=\"nd\">59434</a> <a class=\" txtu hbo\" target=\"_blank\" href=\"https://shebanq.ancient-data.org/hebrew/word?version=c&amp;id=1RAHv\" title=\"Show this on SHEBANQ\"><span class=\"txtu hbo\">רָאָ֥הוּ </span></a></div></div></div></div><div class=\"contnr c1  rtl  \" ><div class=\"lbl c1  \" ><a href=\"#\" class=\"nd\">phrase_atom:941246</a></div><div class=\"children hor wrap rtl\"><div class=\"contnr c0 trm rtl  \" ><div class=\"lbl c0 trm \" ><a href=\"#\" class=\"nd\">59435</a> <a class=\" txtu hbo\" target=\"_blank\" href=\"https://shebanq.ancient-data.org/hebrew/word?version=c&amp;id=1H\" title=\"Show this on SHEBANQ\"><span class=\"txtu hbo\">הַ</span></a></div></div><div class=\"contnr c0 trm rtl  \" ><div class=\"lbl c0 trm \" ><a href=\"#\" class=\"nd\">59436</a> <a class=\" txtu hbo\" target=\"_blank\" href=\"https://shebanq.ancient-data.org/hebrew/word?version=c&amp;id=1KHNn\" title=\"Show this on SHEBANQ\"><span class=\"txtu hbo\">כֹּהֵ֖ן </span></a></div></div></div></div><div class=\"contnr c1  rtl  \" ><div class=\"lbl c1  \" ><a href=\"#\" class=\"nd\">phrase_atom:941247</a></div><div class=\"children hor wrap rtl\"><div class=\"contnr c0 trm rtl  hl\" ><div class=\"lbl c0 trm hl\" ><a href=\"#\" class=\"nd\">59437</a> <a class=\" txtu hbo\" target=\"_blank\" href=\"https://shebanq.ancient-data.org/hebrew/word?version=c&amp;id=1B\" title=\"Show this on SHEBANQ\"><span class=\"txtu hbo\">בַּ</span></a></div></div><div class=\"contnr c0 trm rtl  hl\" ><div class=\"lbl c0 trm hl\" ><a href=\"#\" class=\"nd\">59438</a> <a class=\" txtu hbo\" target=\"_blank\" href=\"https://shebanq.ancient-data.org/hebrew/word?version=c&amp;id=1H\" title=\"Show this on SHEBANQ\"></a></div></div><div class=\"contnr c0 trm rtl  hl\" ><div class=\"lbl c0 trm hl\" ><a href=\"#\" class=\"nd\">59439</a> <a class=\" txtu hbo\" target=\"_blank\" href=\"https://shebanq.ancient-data.org/hebrew/word?version=c&amp;id=1JWMn\" title=\"Show this on SHEBANQ\"><span class=\"txtu hbo\">יֹּ֣ום </span></a></div></div><div class=\"contnr c0 trm rtl  \" ><div class=\"lbl c0 trm \" ><a href=\"#\" class=\"nd\">59440</a> <a class=\" txtu hbo\" target=\"_blank\" href=\"https://shebanq.ancient-data.org/hebrew/word?version=c&amp;id=1H\" title=\"Show this on SHEBANQ\"><span class=\"txtu hbo\">הַ</span></a></div></div><div class=\"contnr c0 trm rtl  hl\" ><div class=\"lbl c0 trm hl\" ><a href=\"#\" class=\"nd\">59441</a> <a class=\" txtu hbo\" target=\"_blank\" href=\"https://shebanq.ancient-data.org/hebrew/word?version=c&amp;id=1CBJOJn\" title=\"Show this on SHEBANQ\"><span class=\"txtu hbo\">שְּׁבִיעִ֑י </span></a></div></div></div></div></div></div></div></div></div>ESV: and the priest shall examine him the seventh day . If it is spreading in the skin , then the priest shall pronounce him unclean . it is a case of leprous disease .<br>"
   ]
  },
  {
   "cell_type": "code",
   "execution_count": null,
   "metadata": {},
   "outputs": [],
   "source": [
    "save(439076,\n",
    "\n",
    "{'functions': ['simultaneous'],\n",
    " 'preps': [['B', 59437]],\n",
    " 'refs': [['ORDN', 59441], ['THE', 59438]],\n",
    " 'slots': [59437, 59438, 59439, 59441],\n",
    " 'times': [59439]}\n",
    "\n",
    ")"
   ]
  },
  {
   "cell_type": "markdown",
   "metadata": {},
   "source": [
    "<div class=\"tfsechead rtl\"><a target=\"_blank\" href=\"https://shebanq.ancient-data.org/hebrew/text?book=Leviticus&amp;chapter=13&amp;verse=31&amp;version=c&amp;mr=m&amp;qw=q&amp;tp=txt_p&amp;tr=hb&amp;wget=v&amp;qget=v&amp;nget=vt\" title=\"Show this on SHEBANQ\" sec=\"Leviticus 13:31\">Leviticus 13:31</a></div><div class=\"rtl children\"><div class=\"contnr c2  rtl  \" ><div class=\"lbl c2  \" ><a href=\"#\" class=\"nd\">clause:439099</a></div><div class=\"children hor wrap rtl\"><div class=\"contnr c1  rtl  \" ><div class=\"lbl c1  \" ><a href=\"#\" class=\"nd\">clause_atom:527572</a></div><div class=\"children hor wrap rtl\"><div class=\"contnr c1  rtl  \" ><div class=\"lbl c1  \" ><a href=\"#\" class=\"nd\">phrase_atom:941319</a></div><div class=\"children hor wrap rtl\"><div class=\"contnr c0 trm rtl  \" ><div class=\"lbl c0 trm \" ><a href=\"#\" class=\"nd\">59551</a> <a class=\" txtu hbo\" target=\"_blank\" href=\"https://shebanq.ancient-data.org/hebrew/word?version=c&amp;id=1W\" title=\"Show this on SHEBANQ\"><span class=\"txtu hbo\">וְ</span></a></div></div></div></div><div class=\"contnr c1  rtl  \" ><div class=\"lbl c1  \" ><a href=\"#\" class=\"nd\">phrase_atom:941320</a></div><div class=\"children hor wrap rtl\"><div class=\"contnr c0 trm rtl  \" ><div class=\"lbl c0 trm \" ><a href=\"#\" class=\"nd\">59552</a> <a class=\" txtu hbo\" target=\"_blank\" href=\"https://shebanq.ancient-data.org/hebrew/word?version=c&amp;id=1SGRv\" title=\"Show this on SHEBANQ\"><span class=\"txtu hbo\">הִסְגִּ֧יר </span></a></div></div></div></div><div class=\"contnr c1  rtl  \" ><div class=\"lbl c1  \" ><a href=\"#\" class=\"nd\">phrase_atom:941321</a></div><div class=\"children hor wrap rtl\"><div class=\"contnr c0 trm rtl  \" ><div class=\"lbl c0 trm \" ><a href=\"#\" class=\"nd\">59553</a> <a class=\" txtu hbo\" target=\"_blank\" href=\"https://shebanq.ancient-data.org/hebrew/word?version=c&amp;id=1H\" title=\"Show this on SHEBANQ\"><span class=\"txtu hbo\">הַ</span></a></div></div><div class=\"contnr c0 trm rtl  \" ><div class=\"lbl c0 trm \" ><a href=\"#\" class=\"nd\">59554</a> <a class=\" txtu hbo\" target=\"_blank\" href=\"https://shebanq.ancient-data.org/hebrew/word?version=c&amp;id=1KHNn\" title=\"Show this on SHEBANQ\"><span class=\"txtu hbo\">כֹּהֵ֛ן </span></a></div></div></div></div><div class=\"contnr c1  rtl  \" ><div class=\"lbl c1  \" ><a href=\"#\" class=\"nd\">phrase_atom:941322</a></div><div class=\"children hor wrap rtl\"><div class=\"contnr c0 trm rtl  \" ><div class=\"lbl c0 trm \" ><a href=\"#\" class=\"nd\">59555</a> <a class=\" txtu hbo\" target=\"_blank\" href=\"https://shebanq.ancient-data.org/hebrew/word?version=c&amp;id=1AT\" title=\"Show this on SHEBANQ\"><span class=\"txtu hbo\">אֶת־</span></a></div></div><div class=\"contnr c0 trm rtl  \" ><div class=\"lbl c0 trm \" ><a href=\"#\" class=\"nd\">59556</a> <a class=\" txtu hbo\" target=\"_blank\" href=\"https://shebanq.ancient-data.org/hebrew/word?version=c&amp;id=1NGOn\" title=\"Show this on SHEBANQ\"><span class=\"txtu hbo\">נֶ֥גַע </span></a></div></div><div class=\"contnr c0 trm rtl  \" ><div class=\"lbl c0 trm \" ><a href=\"#\" class=\"nd\">59557</a> <a class=\" txtu hbo\" target=\"_blank\" href=\"https://shebanq.ancient-data.org/hebrew/word?version=c&amp;id=1H\" title=\"Show this on SHEBANQ\"><span class=\"txtu hbo\">הַ</span></a></div></div><div class=\"contnr c0 trm rtl  \" ><div class=\"lbl c0 trm \" ><a href=\"#\" class=\"nd\">59558</a> <a class=\" txtu hbo\" target=\"_blank\" href=\"https://shebanq.ancient-data.org/hebrew/word?version=c&amp;id=1NTQn\" title=\"Show this on SHEBANQ\"><span class=\"txtu hbo\">נֶּ֖תֶק </span></a></div></div></div></div><div class=\"contnr c1  rtl  \" ><div class=\"lbl c1  \" ><a href=\"#\" class=\"nd\">phrase_atom:941323</a></div><div class=\"children hor wrap rtl\"><div class=\"contnr c0 trm rtl  hl\" ><div class=\"lbl c0 trm hl\" ><a href=\"#\" class=\"nd\">59559</a> <a class=\" txtu hbo\" target=\"_blank\" href=\"https://shebanq.ancient-data.org/hebrew/word?version=c&amp;id=1CBOn\" title=\"Show this on SHEBANQ\"><span class=\"txtu hbo\">שִׁבְעַ֥ת </span></a></div></div><div class=\"contnr c0 trm rtl  hl\" ><div class=\"lbl c0 trm hl\" ><a href=\"#\" class=\"nd\">59560</a> <a class=\" txtu hbo\" target=\"_blank\" href=\"https://shebanq.ancient-data.org/hebrew/word?version=c&amp;id=1JWMn\" title=\"Show this on SHEBANQ\"><span class=\"txtu hbo\">יָמִֽים׃ </span></a></div></div></div></div></div></div></div></div></div>ESV: And if the priest examines the itching disease and it appears no deeper than the skin and there is no black hair in it , then the priest shall shut up the person with the itching disease for seven days ,<br>"
   ]
  },
  {
   "cell_type": "code",
   "execution_count": null,
   "metadata": {},
   "outputs": [],
   "source": [
    "save(439099,\n",
    "\n",
    "{'functions': ['atelic_ext'],\n",
    " 'quals': ['durative'],\n",
    " 'quants': [['NUMQ', 59559]],\n",
    " 'slots': [59559, 59560],\n",
    " 'times': [59560]}\n",
    "\n",
    ")"
   ]
  },
  {
   "cell_type": "markdown",
   "metadata": {},
   "source": [
    "<div class=\"tfsechead rtl\"><a target=\"_blank\" href=\"https://shebanq.ancient-data.org/hebrew/text?book=Leviticus&amp;chapter=13&amp;verse=32&amp;version=c&amp;mr=m&amp;qw=q&amp;tp=txt_p&amp;tr=hb&amp;wget=v&amp;qget=v&amp;nget=vt\" title=\"Show this on SHEBANQ\" sec=\"Leviticus 13:32\">Leviticus 13:32</a></div><div class=\"rtl children\"><div class=\"contnr c2  rtl  \" ><div class=\"lbl c2  \" ><a href=\"#\" class=\"nd\">clause:439100</a></div><div class=\"children hor wrap rtl\"><div class=\"contnr c1  rtl  \" ><div class=\"lbl c1  \" ><a href=\"#\" class=\"nd\">clause_atom:527573</a></div><div class=\"children hor wrap rtl\"><div class=\"contnr c1  rtl  \" ><div class=\"lbl c1  \" ><a href=\"#\" class=\"nd\">phrase_atom:941324</a></div><div class=\"children hor wrap rtl\"><div class=\"contnr c0 trm rtl  \" ><div class=\"lbl c0 trm \" ><a href=\"#\" class=\"nd\">59561</a> <a class=\" txtu hbo\" target=\"_blank\" href=\"https://shebanq.ancient-data.org/hebrew/word?version=c&amp;id=1W\" title=\"Show this on SHEBANQ\"><span class=\"txtu hbo\">וְ</span></a></div></div></div></div><div class=\"contnr c1  rtl  \" ><div class=\"lbl c1  \" ><a href=\"#\" class=\"nd\">phrase_atom:941325</a></div><div class=\"children hor wrap rtl\"><div class=\"contnr c0 trm rtl  \" ><div class=\"lbl c0 trm \" ><a href=\"#\" class=\"nd\">59562</a> <a class=\" txtu hbo\" target=\"_blank\" href=\"https://shebanq.ancient-data.org/hebrew/word?version=c&amp;id=1RAHv\" title=\"Show this on SHEBANQ\"><span class=\"txtu hbo\">רָאָ֨ה </span></a></div></div></div></div><div class=\"contnr c1  rtl  \" ><div class=\"lbl c1  \" ><a href=\"#\" class=\"nd\">phrase_atom:941326</a></div><div class=\"children hor wrap rtl\"><div class=\"contnr c0 trm rtl  \" ><div class=\"lbl c0 trm \" ><a href=\"#\" class=\"nd\">59563</a> <a class=\" txtu hbo\" target=\"_blank\" href=\"https://shebanq.ancient-data.org/hebrew/word?version=c&amp;id=1H\" title=\"Show this on SHEBANQ\"><span class=\"txtu hbo\">הַ</span></a></div></div><div class=\"contnr c0 trm rtl  \" ><div class=\"lbl c0 trm \" ><a href=\"#\" class=\"nd\">59564</a> <a class=\" txtu hbo\" target=\"_blank\" href=\"https://shebanq.ancient-data.org/hebrew/word?version=c&amp;id=1KHNn\" title=\"Show this on SHEBANQ\"><span class=\"txtu hbo\">כֹּהֵ֣ן </span></a></div></div></div></div><div class=\"contnr c1  rtl  \" ><div class=\"lbl c1  \" ><a href=\"#\" class=\"nd\">phrase_atom:941327</a></div><div class=\"children hor wrap rtl\"><div class=\"contnr c0 trm rtl  \" ><div class=\"lbl c0 trm \" ><a href=\"#\" class=\"nd\">59565</a> <a class=\" txtu hbo\" target=\"_blank\" href=\"https://shebanq.ancient-data.org/hebrew/word?version=c&amp;id=1AT\" title=\"Show this on SHEBANQ\"><span class=\"txtu hbo\">אֶת־</span></a></div></div><div class=\"contnr c0 trm rtl  \" ><div class=\"lbl c0 trm \" ><a href=\"#\" class=\"nd\">59566</a> <a class=\" txtu hbo\" target=\"_blank\" href=\"https://shebanq.ancient-data.org/hebrew/word?version=c&amp;id=1H\" title=\"Show this on SHEBANQ\"><span class=\"txtu hbo\">הַ</span></a></div></div><div class=\"contnr c0 trm rtl  \" ><div class=\"lbl c0 trm \" ><a href=\"#\" class=\"nd\">59567</a> <a class=\" txtu hbo\" target=\"_blank\" href=\"https://shebanq.ancient-data.org/hebrew/word?version=c&amp;id=1NGOn\" title=\"Show this on SHEBANQ\"><span class=\"txtu hbo\">נֶּגַע֮ </span></a></div></div></div></div><div class=\"contnr c1  rtl  \" ><div class=\"lbl c1  \" ><a href=\"#\" class=\"nd\">phrase_atom:941328</a></div><div class=\"children hor wrap rtl\"><div class=\"contnr c0 trm rtl  hl\" ><div class=\"lbl c0 trm hl\" ><a href=\"#\" class=\"nd\">59568</a> <a class=\" txtu hbo\" target=\"_blank\" href=\"https://shebanq.ancient-data.org/hebrew/word?version=c&amp;id=1B\" title=\"Show this on SHEBANQ\"><span class=\"txtu hbo\">בַּ</span></a></div></div><div class=\"contnr c0 trm rtl  hl\" ><div class=\"lbl c0 trm hl\" ><a href=\"#\" class=\"nd\">59569</a> <a class=\" txtu hbo\" target=\"_blank\" href=\"https://shebanq.ancient-data.org/hebrew/word?version=c&amp;id=1H\" title=\"Show this on SHEBANQ\"></a></div></div><div class=\"contnr c0 trm rtl  hl\" ><div class=\"lbl c0 trm hl\" ><a href=\"#\" class=\"nd\">59570</a> <a class=\" txtu hbo\" target=\"_blank\" href=\"https://shebanq.ancient-data.org/hebrew/word?version=c&amp;id=1JWMn\" title=\"Show this on SHEBANQ\"><span class=\"txtu hbo\">יֹּ֣ום </span></a></div></div><div class=\"contnr c0 trm rtl  \" ><div class=\"lbl c0 trm \" ><a href=\"#\" class=\"nd\">59571</a> <a class=\" txtu hbo\" target=\"_blank\" href=\"https://shebanq.ancient-data.org/hebrew/word?version=c&amp;id=1H\" title=\"Show this on SHEBANQ\"><span class=\"txtu hbo\">הַ</span></a></div></div><div class=\"contnr c0 trm rtl  hl\" ><div class=\"lbl c0 trm hl\" ><a href=\"#\" class=\"nd\">59572</a> <a class=\" txtu hbo\" target=\"_blank\" href=\"https://shebanq.ancient-data.org/hebrew/word?version=c&amp;id=1CBJOJn\" title=\"Show this on SHEBANQ\"><span class=\"txtu hbo\">שְּׁבִיעִי֒ </span></a></div></div></div></div></div></div></div></div></div>ESV: and on the seventh day the priest shall examine the disease . If the itch has not spread , and there is in it no yellow hair , and the itch appears to be no deeper than the skin ,<br>"
   ]
  },
  {
   "cell_type": "code",
   "execution_count": null,
   "metadata": {},
   "outputs": [],
   "source": [
    "save(439100,\n",
    "\n",
    "{'functions': ['simultaneous'],\n",
    " 'preps': [['B', 59568]],\n",
    " 'refs': [['ORDN', 59572], ['THE', 59569]],\n",
    " 'slots': [59568, 59569, 59570, 59572],\n",
    " 'times': [59570]}\n",
    "\n",
    ")"
   ]
  }
 ],
 "metadata": {},
 "nbformat": 4,
 "nbformat_minor": 4
}
