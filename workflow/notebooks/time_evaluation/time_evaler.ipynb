{
 "cells": [
  {
   "cell_type": "markdown",
   "metadata": {},
   "source": [
    "# Evaluation of Time Parsings"
   ]
  },
  {
   "cell_type": "code",
   "execution_count": 1,
   "metadata": {},
   "outputs": [],
   "source": [
    "from tf.app import use\n",
    "import json\n",
    "\n",
    "with open('../../../results/parsing/time_parsings.json', 'r') as infile:\n",
    "    time_parsings = json.load(infile)"
   ]
  },
  {
   "cell_type": "code",
   "execution_count": 3,
   "metadata": {},
   "outputs": [
    {
     "data": {
      "text/plain": [
       "[('427553',\n",
       "  {'times': [2],\n",
       "   'slots': [1, 2],\n",
       "   'refs': [],\n",
       "   'quals': ['point?'],\n",
       "   'quants': [],\n",
       "   'functions': ['simultaneous'],\n",
       "   'preps': [['B', 1]]}),\n",
       " ('427680',\n",
       "  {'times': [689],\n",
       "   'slots': [687, 688, 689],\n",
       "   'refs': [['THE', 688]],\n",
       "   'quals': ['point?'],\n",
       "   'quants': [],\n",
       "   'functions': ['simultaneous'],\n",
       "   'preps': [['B', 687]]}),\n",
       " ('427682',\n",
       "  {'times': [699],\n",
       "   'slots': [697, 698, 699],\n",
       "   'refs': [['THE', 698]],\n",
       "   'quals': ['point?'],\n",
       "   'quants': [],\n",
       "   'functions': ['simultaneous'],\n",
       "   'preps': [['B', 697]]}),\n",
       " ('427693',\n",
       "  {'times': [750],\n",
       "   'slots': [750],\n",
       "   'refs': [],\n",
       "   'quals': ['point?'],\n",
       "   'quants': [],\n",
       "   'functions': ['anterior']}),\n",
       " ('427694',\n",
       "  {'times': [760],\n",
       "   'slots': [760],\n",
       "   'refs': [],\n",
       "   'quals': ['point?'],\n",
       "   'quants': [],\n",
       "   'functions': ['anterior']})]"
      ]
     },
     "execution_count": 3,
     "metadata": {},
     "output_type": "execute_result"
    }
   ],
   "source": [
    "list(time_parsings.items())[:5]"
   ]
  },
  {
   "cell_type": "markdown",
   "metadata": {},
   "source": [
    "# Build Experimental Notebook\n",
    "\n",
    "I'd like to consider using notebooks as a way to display time taggings \n",
    "and edit their code manually. Notebooks provide the best way to blend the \n",
    "code of the time parsings with the HTML of the Hebrew TF objects I'd like to\n",
    "visualize for the evaluation process."
   ]
  },
  {
   "cell_type": "code",
   "execution_count": 4,
   "metadata": {},
   "outputs": [],
   "source": [
    "import nbformat as nbf"
   ]
  },
  {
   "cell_type": "markdown",
   "metadata": {},
   "source": [
    "<div class=\"section rtl\"><a target=\"_blank\" href=\"https://shebanq.ancient-data.org/hebrew/text?book=Josua&amp;chapter=20&amp;verse=5&amp;version=c&amp;mr=m&amp;qw=q&amp;tp=txt_p&amp;tr=hb&amp;wget=v&amp;qget=v&amp;nget=vt\" title=\"Show this on SHEBANQ\" sec=\"Joshua 20:5\">Joshua 20:5</a></div><div class=\"rtl children\"><div class=\"contnr c2  rtl  \" ><div class=\"lbl c2  \" ><a href=\"#\" class=\"nd\">clause:450602</a></div><div class=\"children hor wrap rtl\"><div class=\"contnr c1  rtl  \" ><div class=\"lbl c1  \" ><a href=\"#\" class=\"nd\">phrase:721414</a></div><div class=\"children hor wrap rtl\"><div class=\"contnr c0 trm rtl  \" ><div class=\"lbl c0 trm \" ><a href=\"#\" class=\"nd\">124239</a> <a class=\" txtu hbo\" target=\"_blank\" href=\"https://shebanq.ancient-data.org/hebrew/word?version=c&amp;id=1W\" title=\"Show this on SHEBANQ\"><span class=\"txtu hbo\">וְ</span></a></div><div class=\\'features\\'><span class=\"pdp xft\" ><span class=\"f\">pdp=</span>conj</span></div></div></div></div><div class=\"contnr c1  rtl  \" ><div class=\"lbl c1  \" ><a href=\"#\" class=\"nd\">phrase:721415</a></div><div class=\"children hor wrap rtl\"><div class=\"contnr c0 trm rtl  \" ><div class=\"lbl c0 trm \" ><a href=\"#\" class=\"nd\">124240</a> <a class=\" txtu hbo\" target=\"_blank\" href=\"https://shebanq.ancient-data.org/hebrew/word?version=c&amp;id=1LA\" title=\"Show this on SHEBANQ\"><span class=\"txtu hbo\">לֹֽא־</span></a></div><div class=\\'features\\'><span class=\"pdp xft\" ><span class=\"f\">pdp=</span>nega</span></div></div></div></div><div class=\"contnr c1  rtl  \" ><div class=\"lbl c1  \" ><a href=\"#\" class=\"nd\">phrase:721416</a></div><div class=\"children hor wrap rtl\"><div class=\"contnr c0 trm rtl  \" ><div class=\"lbl c0 trm \" ><a href=\"#\" class=\"nd\">124241</a> <a class=\" txtu hbo\" target=\"_blank\" href=\"https://shebanq.ancient-data.org/hebrew/word?version=c&amp;id=1FNAv\" title=\"Show this on SHEBANQ\"><span class=\"txtu hbo\">שֹׂנֵ֥א </span></a></div><div class=\\'features\\'><span class=\"pdp xft\" ><span class=\"f\">pdp=</span>verb</span><span class=\"st xft\" ><span class=\"f\">st=</span>a</span></div></div></div></div><div class=\"contnr c1  rtl  \" ><div class=\"lbl c1  \" ><a href=\"#\" class=\"nd\">phrase:721417</a></div><div class=\"children hor wrap rtl\"><div class=\"contnr c0 trm rtl  \" ><div class=\"lbl c0 trm \" ><a href=\"#\" class=\"nd\">124242</a> <a class=\" txtu hbo\" target=\"_blank\" href=\"https://shebanq.ancient-data.org/hebrew/word?version=c&amp;id=1HWA\" title=\"Show this on SHEBANQ\"><span class=\"txtu hbo\">ה֛וּא </span></a></div><div class=\\'features\\'><span class=\"pdp xft\" ><span class=\"f\">pdp=</span>prps</span></div></div></div></div><div class=\"contnr c1  rtl  \" ><div class=\"lbl c1  \" ><a href=\"#\" class=\"nd\">phrase:721418</a></div><div class=\"children hor wrap rtl\"><div class=\"contnr c0 trm rtl  \" ><div class=\"lbl c0 trm \" ><a href=\"#\" class=\"nd\">124243</a> <a class=\" txtu hbo\" target=\"_blank\" href=\"https://shebanq.ancient-data.org/hebrew/word?version=c&amp;id=1L\" title=\"Show this on SHEBANQ\"><span class=\"txtu hbo\">לֹ֖ו </span></a></div><div class=\\'features\\'><span class=\"pdp xft\" ><span class=\"f\">pdp=</span>prep</span></div></div></div></div><div class=\"contnr c1  rtl  \" ><div class=\"lbl c1  \" ><a href=\"#\" class=\"nd\">phrase:721419</a></div><div class=\"children hor wrap rtl\"><div class=\"contnr c0 trm rtl  hl\" ><div class=\"lbl c0 trm hl\" ><a href=\"#\" class=\"nd\">124244</a> <a class=\" txtu hbo\" target=\"_blank\" href=\"https://shebanq.ancient-data.org/hebrew/word?version=c&amp;id=1MN\" title=\"Show this on SHEBANQ\"><span class=\"txtu hbo\">מִ</span></a></div><div class=\\'features\\'><span class=\"pdp xft\" ><span class=\"f\">pdp=</span>prep</span></div></div><div class=\"contnr c0 trm rtl  hl\" ><div class=\"lbl c0 trm hl\" ><a href=\"#\" class=\"nd\">124245</a> <a class=\" txtu hbo\" target=\"_blank\" href=\"https://shebanq.ancient-data.org/hebrew/word?version=c&amp;id=1TMWLn\" title=\"Show this on SHEBANQ\"><span class=\"txtu hbo\">תְּמֹ֥ול </span></a></div><div class=\\'features\\'><span class=\"pdp xft\" ><span class=\"f\">pdp=</span>subs</span><span class=\"st xft\" ><span class=\"f\">st=</span>a</span></div></div><div class=\"contnr c0 trm rtl  hl\" ><div class=\"lbl c0 trm hl\" ><a href=\"#\" class=\"nd\">124246</a> <a class=\" txtu hbo\" target=\"_blank\" href=\"https://shebanq.ancient-data.org/hebrew/word?version=c&amp;id=1CLCWMn\" title=\"Show this on SHEBANQ\"><span class=\"txtu hbo\">שִׁלְשֹֽׁום׃ </span></a></div><div class=\\'features\\'><span class=\"pdp xft\" ><span class=\"f\">pdp=</span>subs</span><span class=\"st xft\" ><span class=\"f\">st=</span>a</span></div></div></div></div></div></div></div>"
   ]
  },
  {
   "cell_type": "code",
   "execution_count": null,
   "metadata": {},
   "outputs": [],
   "source": []
  }
 ],
 "metadata": {
  "kernelspec": {
   "display_name": "Python 3",
   "language": "python",
   "name": "python3"
  },
  "language_info": {
   "codemirror_mode": {
    "name": "ipython",
    "version": 3
   },
   "file_extension": ".py",
   "mimetype": "text/x-python",
   "name": "python",
   "nbconvert_exporter": "python",
   "pygments_lexer": "ipython3",
   "version": "3.8.5"
  }
 },
 "nbformat": 4,
 "nbformat_minor": 4
}
