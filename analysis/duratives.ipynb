{
 "cells": [
  {
   "cell_type": "markdown",
   "metadata": {},
   "source": [
    "# Verb Collocations with Atelic Time Duration Adverbials:\n",
    "## A Collostructional Approach\n",
    "\n",
    "In this notebook, I develop procedures to select and analyze atelic, durative time phrases within Biblical Hebrew. In English these phrases are communicated with the \"for\" construction: e.g. X happened for three days. These phrases are important since they are used in telicity tests for lexical aspect. The fundamental assumption is that atelic durative time phrases do not normally combine with telic verb lexemes:\n",
    "\n",
    "> Durative adverbials also have an aspectual feature: they state specific bounds of a situation. They are compatible with durative atelic verb constellations and statives, and incompatible with durative telic verb constellations...(Smith, *The Parameter of Aspect*, 1997: 113)\n",
    "\n",
    "In Fuhs' 2010 study, [\"The Aspectual Coercion of the English Durative Adverbial,\"](https://philpapers.org/rec/FUHTAC) he tests this assumption using collostruction analysis. This method, developed by Stefanowitsch and Gries ([see description here](http://www.linguistics.ucsb.edu/faculty/stgries/research/2003_AS-STG_Collostructions_IJCL.pdf)), tests the collocational preferences between a given construction and other lexical items. Those preferences are measured through a statistical test for significance, the Fisher's Exact test. Fuhs finds that 75% of the verb lexemes found to be statistically associated with atelic durative time adverbials do indeed have atelic aspect. Yet 25% of the verbs were truly telic. Fuhs also checks whether these 25% occur in the progressive aspect, which can construe telic action duratively. He finds that they do not, meaning that these cases are truly telic verb lexemes being construed as atelic. These findings suggest that the relationship between temporal adverbials and lexical aspect is more complex than is sometimes understood. \n",
    "\n",
    "In this notebook, I seek to apply Fuhs' methodology to the atelic durative time adverbials of Biblical Hebrew, to see whether his results are paralleled in the Biblical Hebrew data. The first step is to identify which forms in Biblical Hebrew indicate atelic, durative functions. The ETCBC Hebrew syntax database indicates adjunct phrases with a function of communicating \"Time.\" For this pilot study, these phrases will serve as the primary target of investigation.\n",
    "\n",
    "In [the exploratory analysis](SBH_time_expressions.ipynb), I found that noun-phrase based time adverbials have two primary forms: NPs governed by a preposition (PP), and bare NPs. Amongst these two groups are further divisions between noun phrases modified with a quantifier or a demonstrative (including the demonstrative ה). A preliminary search leading up to this pilot study futher found that the durative atelic time construction in Biblical Hebrew appears to be conveyed by bare NP's without any demonstrative element, often with quantification or plurality. While demonstratives or prepositions locate an event within a metaphorical space (e.g. this = near, that = far), bare noun phrases have no element which pinpoints a point or range along a timeline. Quantifiers and plural endings, by contrast, only serve to modify the length of time duration, and do not indicate positionality along a timeline. The result, then, is that the functional emphasis on time adverbials without prepositions or demonstratives falls on the duration itself. \n",
    "\n",
    "That durative, atelic time constructions in Biblical Hebrew are not directionally marked makes Biblical Hebrew similar to most other world languages, as Haspelmath observes:\n",
    "\n",
    "> The most striking tendency observed in the expression of atelic-extent adverbials is the cross-linguistic tendency for zero expression or expression by means of a \"minimal case\". (Haspelmath 1997: 120)\n",
    "\n",
    "Haspelmath points out that English is among a few other Indo-European languages that employ a preposition such as \"for\" to indicate atelic duration, while the majority use the zero-marking described above."
   ]
  },
  {
   "cell_type": "code",
   "execution_count": 1,
   "metadata": {},
   "outputs": [
    {
     "name": "stdout",
     "output_type": "stream",
     "text": [
      "TF app is up-to-date.\n",
      "Using annotation/app-bhsa commit 7f353d587f4befb6efe1742831e28f301d2b3cea (=latest)\n",
      "  in /Users/cody/text-fabric-data/__apps__/bhsa.\n",
      "Using etcbc/bhsa/tf - c rv1.6 in /Users/cody/text-fabric-data\n",
      "Using etcbc/phono/tf - c r1.2 in /Users/cody/text-fabric-data\n",
      "Using etcbc/parallels/tf - c r1.2 in /Users/cody/text-fabric-data\n",
      "Using etcbc/heads/tf - c rv.1.11 in /Users/cody/text-fabric-data\n",
      "Using CambridgeSemiticsLab/BH_time_collocations/tf - c rv1.1 in /Users/cody/text-fabric-data\n"
     ]
    },
    {
     "data": {
      "text/markdown": [
       "**Documentation:** <a target=\"_blank\" href=\"https://etcbc.github.io/bhsa\" title=\"provenance of BHSA = Biblia Hebraica Stuttgartensia Amstelodamensis\">BHSA</a> <a target=\"_blank\" href=\"https://annotation.github.io/text-fabric/Writing/Hebrew\" title=\"('Hebrew characters and transcriptions',)\">Character table</a> <a target=\"_blank\" href=\"https://etcbc.github.io/bhsa/features/hebrew/c/0_home.html\" title=\"BHSA feature documentation\">Feature docs</a> <a target=\"_blank\" href=\"https://github.com/annotation/app-bhsa\" title=\"bhsa API documentation\">bhsa API</a> <a target=\"_blank\" href=\"https://annotation.github.io/text-fabric/Api/Fabric/\" title=\"text-fabric-api\">Text-Fabric API 7.4.6</a> <a target=\"_blank\" href=\"https://annotation.github.io/text-fabric/Use/Search/\" title=\"Search Templates Introduction and Reference\">Search Reference</a>"
      ],
      "text/plain": [
       "<IPython.core.display.Markdown object>"
      ]
     },
     "metadata": {},
     "output_type": "display_data"
    },
    {
     "data": {
      "text/html": [
       "<details open><summary><b>Loaded features</b>:</summary>\n",
       "<p><b>BHSA = Biblia Hebraica Stuttgartensia Amstelodamensis</b>: <a target=\"_blank\" href=\"https://etcbc.github.io/bhsa/features/hebrew/c/book.html\" title=\"/Users/cody/text-fabric-data/etcbc/bhsa/tf/c/book.tf\">book</a>  <a target=\"_blank\" href=\"https://etcbc.github.io/bhsa/features/hebrew/c/book@ll.html\" title=\"/Users/cody/text-fabric-data/etcbc/bhsa/tf/c/book@am.tf\">book@ll</a>  <a target=\"_blank\" href=\"https://etcbc.github.io/bhsa/features/hebrew/c/chapter.html\" title=\"/Users/cody/text-fabric-data/etcbc/bhsa/tf/c/chapter.tf\">chapter</a>  <a target=\"_blank\" href=\"https://etcbc.github.io/bhsa/features/hebrew/c/code.html\" title=\"/Users/cody/text-fabric-data/etcbc/bhsa/tf/c/code.tf\">code</a>  <a target=\"_blank\" href=\"https://etcbc.github.io/bhsa/features/hebrew/c/det.html\" title=\"/Users/cody/text-fabric-data/etcbc/bhsa/tf/c/det.tf\">det</a>  <a target=\"_blank\" href=\"https://etcbc.github.io/bhsa/features/hebrew/c/freq_lex.html\" title=\"/Users/cody/text-fabric-data/etcbc/bhsa/tf/c/freq_lex.tf\">freq_lex</a>  <a target=\"_blank\" href=\"https://etcbc.github.io/bhsa/features/hebrew/c/function.html\" title=\"/Users/cody/text-fabric-data/etcbc/bhsa/tf/c/function.tf\">function</a>  <a target=\"_blank\" href=\"https://etcbc.github.io/bhsa/features/hebrew/c/g_word.html\" title=\"/Users/cody/text-fabric-data/etcbc/bhsa/tf/c/g_word.tf\">g_word</a>  <a target=\"_blank\" href=\"https://etcbc.github.io/bhsa/features/hebrew/c/g_word_utf8.html\" title=\"/Users/cody/text-fabric-data/etcbc/bhsa/tf/c/g_word_utf8.tf\">g_word_utf8</a>  <a target=\"_blank\" href=\"https://etcbc.github.io/bhsa/features/hebrew/c/gloss.html\" title=\"/Users/cody/text-fabric-data/etcbc/bhsa/tf/c/gloss.tf\">gloss</a>  <a target=\"_blank\" href=\"https://etcbc.github.io/bhsa/features/hebrew/c/gn.html\" title=\"/Users/cody/text-fabric-data/etcbc/bhsa/tf/c/gn.tf\">gn</a>  <a target=\"_blank\" href=\"https://etcbc.github.io/bhsa/features/hebrew/c/label.html\" title=\"/Users/cody/text-fabric-data/etcbc/bhsa/tf/c/label.tf\">label</a>  <a target=\"_blank\" href=\"https://etcbc.github.io/bhsa/features/hebrew/c/language.html\" title=\"/Users/cody/text-fabric-data/etcbc/bhsa/tf/c/language.tf\">language</a>  <a target=\"_blank\" href=\"https://etcbc.github.io/bhsa/features/hebrew/c/lex.html\" title=\"/Users/cody/text-fabric-data/etcbc/bhsa/tf/c/lex.tf\">lex</a>  <a target=\"_blank\" href=\"https://etcbc.github.io/bhsa/features/hebrew/c/lex_utf8.html\" title=\"/Users/cody/text-fabric-data/etcbc/bhsa/tf/c/lex_utf8.tf\">lex_utf8</a>  <a target=\"_blank\" href=\"https://etcbc.github.io/bhsa/features/hebrew/c/ls.html\" title=\"/Users/cody/text-fabric-data/etcbc/bhsa/tf/c/ls.tf\">ls</a>  <a target=\"_blank\" href=\"https://etcbc.github.io/bhsa/features/hebrew/c/nametype.html\" title=\"/Users/cody/text-fabric-data/etcbc/bhsa/tf/c/nametype.tf\">nametype</a>  <a target=\"_blank\" href=\"https://etcbc.github.io/bhsa/features/hebrew/c/nu.html\" title=\"/Users/cody/text-fabric-data/etcbc/bhsa/tf/c/nu.tf\">nu</a>  <a target=\"_blank\" href=\"https://etcbc.github.io/bhsa/features/hebrew/c/number.html\" title=\"/Users/cody/text-fabric-data/etcbc/bhsa/tf/c/number.tf\">number</a>  <a target=\"_blank\" href=\"https://etcbc.github.io/bhsa/features/hebrew/c/otype.html\" title=\"/Users/cody/text-fabric-data/etcbc/bhsa/tf/c/otype.tf\">otype</a>  <a target=\"_blank\" href=\"https://etcbc.github.io/bhsa/features/hebrew/c/pdp.html\" title=\"/Users/cody/text-fabric-data/etcbc/bhsa/tf/c/pdp.tf\">pdp</a>  <a target=\"_blank\" href=\"https://etcbc.github.io/bhsa/features/hebrew/c/prs_gn.html\" title=\"/Users/cody/text-fabric-data/etcbc/bhsa/tf/c/prs_gn.tf\">prs_gn</a>  <a target=\"_blank\" href=\"https://etcbc.github.io/bhsa/features/hebrew/c/prs_nu.html\" title=\"/Users/cody/text-fabric-data/etcbc/bhsa/tf/c/prs_nu.tf\">prs_nu</a>  <a target=\"_blank\" href=\"https://etcbc.github.io/bhsa/features/hebrew/c/prs_ps.html\" title=\"/Users/cody/text-fabric-data/etcbc/bhsa/tf/c/prs_ps.tf\">prs_ps</a>  <a target=\"_blank\" href=\"https://etcbc.github.io/bhsa/features/hebrew/c/ps.html\" title=\"/Users/cody/text-fabric-data/etcbc/bhsa/tf/c/ps.tf\">ps</a>  <a target=\"_blank\" href=\"https://etcbc.github.io/bhsa/features/hebrew/c/qere.html\" title=\"/Users/cody/text-fabric-data/etcbc/bhsa/tf/c/qere.tf\">qere</a>  <a target=\"_blank\" href=\"https://etcbc.github.io/bhsa/features/hebrew/c/qere_trailer.html\" title=\"/Users/cody/text-fabric-data/etcbc/bhsa/tf/c/qere_trailer.tf\">qere_trailer</a>  <a target=\"_blank\" href=\"https://etcbc.github.io/bhsa/features/hebrew/c/qere_trailer_utf8.html\" title=\"/Users/cody/text-fabric-data/etcbc/bhsa/tf/c/qere_trailer_utf8.tf\">qere_trailer_utf8</a>  <a target=\"_blank\" href=\"https://etcbc.github.io/bhsa/features/hebrew/c/qere_utf8.html\" title=\"/Users/cody/text-fabric-data/etcbc/bhsa/tf/c/qere_utf8.tf\">qere_utf8</a>  <a target=\"_blank\" href=\"https://etcbc.github.io/bhsa/features/hebrew/c/rank_lex.html\" title=\"/Users/cody/text-fabric-data/etcbc/bhsa/tf/c/rank_lex.tf\">rank_lex</a>  <a target=\"_blank\" href=\"https://etcbc.github.io/bhsa/features/hebrew/c/rela.html\" title=\"/Users/cody/text-fabric-data/etcbc/bhsa/tf/c/rela.tf\">rela</a>  <a target=\"_blank\" href=\"https://etcbc.github.io/bhsa/features/hebrew/c/sp.html\" title=\"/Users/cody/text-fabric-data/etcbc/bhsa/tf/c/sp.tf\">sp</a>  <a target=\"_blank\" href=\"https://etcbc.github.io/bhsa/features/hebrew/c/st.html\" title=\"/Users/cody/text-fabric-data/etcbc/bhsa/tf/c/st.tf\">st</a>  <a target=\"_blank\" href=\"https://etcbc.github.io/bhsa/features/hebrew/c/trailer.html\" title=\"/Users/cody/text-fabric-data/etcbc/bhsa/tf/c/trailer.tf\">trailer</a>  <a target=\"_blank\" href=\"https://etcbc.github.io/bhsa/features/hebrew/c/trailer_utf8.html\" title=\"/Users/cody/text-fabric-data/etcbc/bhsa/tf/c/trailer_utf8.tf\">trailer_utf8</a>  <a target=\"_blank\" href=\"https://etcbc.github.io/bhsa/features/hebrew/c/txt.html\" title=\"/Users/cody/text-fabric-data/etcbc/bhsa/tf/c/txt.tf\">txt</a>  <a target=\"_blank\" href=\"https://etcbc.github.io/bhsa/features/hebrew/c/typ.html\" title=\"/Users/cody/text-fabric-data/etcbc/bhsa/tf/c/typ.tf\">typ</a>  <a target=\"_blank\" href=\"https://etcbc.github.io/bhsa/features/hebrew/c/verse.html\" title=\"/Users/cody/text-fabric-data/etcbc/bhsa/tf/c/verse.tf\">verse</a>  <a target=\"_blank\" href=\"https://etcbc.github.io/bhsa/features/hebrew/c/voc_lex.html\" title=\"/Users/cody/text-fabric-data/etcbc/bhsa/tf/c/voc_lex.tf\">voc_lex</a>  <a target=\"_blank\" href=\"https://etcbc.github.io/bhsa/features/hebrew/c/voc_lex_utf8.html\" title=\"/Users/cody/text-fabric-data/etcbc/bhsa/tf/c/voc_lex_utf8.tf\">voc_lex_utf8</a>  <a target=\"_blank\" href=\"https://etcbc.github.io/bhsa/features/hebrew/c/vs.html\" title=\"/Users/cody/text-fabric-data/etcbc/bhsa/tf/c/vs.tf\">vs</a>  <a target=\"_blank\" href=\"https://etcbc.github.io/bhsa/features/hebrew/c/vt.html\" title=\"/Users/cody/text-fabric-data/etcbc/bhsa/tf/c/vt.tf\">vt</a>  <b><i><a target=\"_blank\" href=\"https://etcbc.github.io/bhsa/features/hebrew/c/mother.html\" title=\"/Users/cody/text-fabric-data/etcbc/bhsa/tf/c/mother.tf\">mother</a></i></b>  <b><i><a target=\"_blank\" href=\"https://etcbc.github.io/bhsa/features/hebrew/c/oslots.html\" title=\"/Users/cody/text-fabric-data/etcbc/bhsa/tf/c/oslots.tf\">oslots</a></i></b> </p><p><b>CambridgeSemiticsLab/BH_time_collocations/tf</b>: <a target=\"_blank\" href=\"https://github.com/CambridgeSemiticsLab/BH_time_collocations/tree/master/tf\" title=\"/Users/cody/text-fabric-data/CambridgeSemiticsLab/BH_time_collocations/tf/c/AdjuAssoc.tf\">AdjuAssoc</a>  <a target=\"_blank\" href=\"https://github.com/CambridgeSemiticsLab/BH_time_collocations/tree/master/tf\" title=\"/Users/cody/text-fabric-data/CambridgeSemiticsLab/BH_time_collocations/tf/c/CmplAssoc.tf\">CmplAssoc</a>  <a target=\"_blank\" href=\"https://github.com/CambridgeSemiticsLab/BH_time_collocations/tree/master/tf\" title=\"/Users/cody/text-fabric-data/CambridgeSemiticsLab/BH_time_collocations/tf/c/ConjAssoc.tf\">ConjAssoc</a>  <a target=\"_blank\" href=\"https://github.com/CambridgeSemiticsLab/BH_time_collocations/tree/master/tf\" title=\"/Users/cody/text-fabric-data/CambridgeSemiticsLab/BH_time_collocations/tf/c/EPPrAssoc.tf\">EPPrAssoc</a>  <a target=\"_blank\" href=\"https://github.com/CambridgeSemiticsLab/BH_time_collocations/tree/master/tf\" title=\"/Users/cody/text-fabric-data/CambridgeSemiticsLab/BH_time_collocations/tf/c/ExstAssoc.tf\">ExstAssoc</a>  <a target=\"_blank\" href=\"https://github.com/CambridgeSemiticsLab/BH_time_collocations/tree/master/tf\" title=\"/Users/cody/text-fabric-data/CambridgeSemiticsLab/BH_time_collocations/tf/c/FrntAssoc.tf\">FrntAssoc</a>  <a target=\"_blank\" href=\"https://github.com/CambridgeSemiticsLab/BH_time_collocations/tree/master/tf\" title=\"/Users/cody/text-fabric-data/CambridgeSemiticsLab/BH_time_collocations/tf/c/IntjAssoc.tf\">IntjAssoc</a>  <a target=\"_blank\" href=\"https://github.com/CambridgeSemiticsLab/BH_time_collocations/tree/master/tf\" title=\"/Users/cody/text-fabric-data/CambridgeSemiticsLab/BH_time_collocations/tf/c/LocaAssoc.tf\">LocaAssoc</a>  <a target=\"_blank\" href=\"https://github.com/CambridgeSemiticsLab/BH_time_collocations/tree/master/tf\" title=\"/Users/cody/text-fabric-data/CambridgeSemiticsLab/BH_time_collocations/tf/c/ModiAssoc.tf\">ModiAssoc</a>  <a target=\"_blank\" href=\"https://github.com/CambridgeSemiticsLab/BH_time_collocations/tree/master/tf\" title=\"/Users/cody/text-fabric-data/CambridgeSemiticsLab/BH_time_collocations/tf/c/NCopAssoc.tf\">NCopAssoc</a>  <a target=\"_blank\" href=\"https://github.com/CambridgeSemiticsLab/BH_time_collocations/tree/master/tf\" title=\"/Users/cody/text-fabric-data/CambridgeSemiticsLab/BH_time_collocations/tf/c/NegaAssoc.tf\">NegaAssoc</a>  <a target=\"_blank\" href=\"https://github.com/CambridgeSemiticsLab/BH_time_collocations/tree/master/tf\" title=\"/Users/cody/text-fabric-data/CambridgeSemiticsLab/BH_time_collocations/tf/c/ObjcAssoc.tf\">ObjcAssoc</a>  <a target=\"_blank\" href=\"https://github.com/CambridgeSemiticsLab/BH_time_collocations/tree/master/tf\" title=\"/Users/cody/text-fabric-data/CambridgeSemiticsLab/BH_time_collocations/tf/c/PrAdAssoc.tf\">PrAdAssoc</a>  <a target=\"_blank\" href=\"https://github.com/CambridgeSemiticsLab/BH_time_collocations/tree/master/tf\" title=\"/Users/cody/text-fabric-data/CambridgeSemiticsLab/BH_time_collocations/tf/c/PrcSAssoc.tf\">PrcSAssoc</a>  <a target=\"_blank\" href=\"https://github.com/CambridgeSemiticsLab/BH_time_collocations/tree/master/tf\" title=\"/Users/cody/text-fabric-data/CambridgeSemiticsLab/BH_time_collocations/tf/c/PreCAssoc.tf\">PreCAssoc</a>  <a target=\"_blank\" href=\"https://github.com/CambridgeSemiticsLab/BH_time_collocations/tree/master/tf\" title=\"/Users/cody/text-fabric-data/CambridgeSemiticsLab/BH_time_collocations/tf/c/PredAssoc.tf\">PredAssoc</a>  <a target=\"_blank\" href=\"https://github.com/CambridgeSemiticsLab/BH_time_collocations/tree/master/tf\" title=\"/Users/cody/text-fabric-data/CambridgeSemiticsLab/BH_time_collocations/tf/c/QuesAssoc.tf\">QuesAssoc</a>  <a target=\"_blank\" href=\"https://github.com/CambridgeSemiticsLab/BH_time_collocations/tree/master/tf\" title=\"/Users/cody/text-fabric-data/CambridgeSemiticsLab/BH_time_collocations/tf/c/RelaAssoc.tf\">RelaAssoc</a>  <a target=\"_blank\" href=\"https://github.com/CambridgeSemiticsLab/BH_time_collocations/tree/master/tf\" title=\"/Users/cody/text-fabric-data/CambridgeSemiticsLab/BH_time_collocations/tf/c/SubjAssoc.tf\">SubjAssoc</a>  <a target=\"_blank\" href=\"https://github.com/CambridgeSemiticsLab/BH_time_collocations/tree/master/tf\" title=\"/Users/cody/text-fabric-data/CambridgeSemiticsLab/BH_time_collocations/tf/c/TimeAssoc.tf\">TimeAssoc</a>  <a target=\"_blank\" href=\"https://github.com/CambridgeSemiticsLab/BH_time_collocations/tree/master/tf\" title=\"/Users/cody/text-fabric-data/CambridgeSemiticsLab/BH_time_collocations/tf/c/VoctAssoc.tf\">VoctAssoc</a> </p><p><b>etcbc/heads/tf</b>: <a target=\"_blank\" href=\"https://github.com/etcbc/heads/tree/master/tf\" title=\"/Users/cody/text-fabric-data/etcbc/heads/tf/c/sem_set.tf\">sem_set</a>  <b><i><a target=\"_blank\" href=\"https://github.com/etcbc/heads/tree/master/tf\" title=\"/Users/cody/text-fabric-data/etcbc/heads/tf/c/head.tf\">head</a></i></b>  <b><i><a target=\"_blank\" href=\"https://github.com/etcbc/heads/tree/master/tf\" title=\"/Users/cody/text-fabric-data/etcbc/heads/tf/c/nhead.tf\">nhead</a></i></b>  <b><i><a target=\"_blank\" href=\"https://github.com/etcbc/heads/tree/master/tf\" title=\"/Users/cody/text-fabric-data/etcbc/heads/tf/c/obj_prep.tf\">obj_prep</a></i></b> </p><p><b>Parallel Passages</b>: <b><i><a target=\"_blank\" href=\"https://nbviewer.jupyter.org/github/etcbc/parallels/blob/master/programs/parallels.ipynb\" title=\"/Users/cody/text-fabric-data/etcbc/parallels/tf/c/crossref.tf\">crossref</a></i></b> </p><p><b>Phonetic Transcriptions</b>: <a target=\"_blank\" href=\"https://nbviewer.jupyter.org/github/etcbc/phono/blob/master/programs/phono.ipynb\" title=\"/Users/cody/text-fabric-data/etcbc/phono/tf/c/phono.tf\">phono</a>  <a target=\"_blank\" href=\"https://nbviewer.jupyter.org/github/etcbc/phono/blob/master/programs/phono.ipynb\" title=\"/Users/cody/text-fabric-data/etcbc/phono/tf/c/phono_trailer.tf\">phono_trailer</a> </p></details>"
      ],
      "text/plain": [
       "<IPython.core.display.HTML object>"
      ]
     },
     "metadata": {},
     "output_type": "display_data"
    },
    {
     "data": {
      "text/html": [
       "<style>\n",
       "@font-face {\n",
       "  font-family: \"Ezra SIL\";\n",
       "  src: url('https://github.com/annotation/text-fabric/blob/master/tf/server/static/fonts/SILEOT.ttf?raw=true');\n",
       "  src: url('https://github.com/annotation/text-fabric/blob/master/tf/server/static/fonts/SILEOT.woff?raw=true') format('woff');\n",
       "}\n",
       ".features {\n",
       "    font-family: monospace;\n",
       "    font-size: medium;\n",
       "    font-weight: bold;\n",
       "    color: #0a6611;\n",
       "    display: flex;\n",
       "    flex-flow: column nowrap;\n",
       "    padding: 0.1em;\n",
       "    margin: 0.1em;\n",
       "    direction: ltr;\n",
       "}\n",
       ".features div,.features span {\n",
       "    padding: 0;\n",
       "    margin: -0.1rem 0;\n",
       "}\n",
       ".features .f {\n",
       "    font-family: sans-serif;\n",
       "    font-size: x-small;\n",
       "    font-weight: normal;\n",
       "    color: #5555bb;\n",
       "}\n",
       ".features .xft {\n",
       "  color: #000000;\n",
       "  background-color: #eeeeee;\n",
       "  font-size: medium;\n",
       "  margin: 0.1em 0em;\n",
       "}\n",
       ".features .xft .f {\n",
       "  color: #000000;\n",
       "  background-color: #eeeeee;\n",
       "  font-style: italic;\n",
       "  font-size: small;\n",
       "  font-weight: normal;\n",
       "}\n",
       ".ltr {\n",
       "    direction: ltr ! important;\n",
       "}\n",
       ".verse {\n",
       "    display: flex;\n",
       "    flex-flow: row wrap;\n",
       "    direction: rtl;\n",
       "}\n",
       ".vl {\n",
       "    display: flex;\n",
       "    flex-flow: column nowrap;\n",
       "    justify-content: flex-end;\n",
       "    align-items: flex-end;\n",
       "    direction: ltr;\n",
       "    width: 100%;\n",
       "}\n",
       ".outeritem {\n",
       "    display: flex;\n",
       "    flex-flow: row wrap;\n",
       "    direction: rtl;\n",
       "}\n",
       ".sentence,.clause,.phrase {\n",
       "    margin-top: -1.2em;\n",
       "    margin-left: 1em;\n",
       "    background: #ffffff none repeat scroll 0 0;\n",
       "    padding: 0 0.3em;\n",
       "    border-style: solid;\n",
       "    border-radius: 0.2em;\n",
       "    font-size: small;\n",
       "    display: block;\n",
       "    width: fit-content;\n",
       "    max-width: fit-content;\n",
       "    direction: ltr;\n",
       "}\n",
       ".atoms {\n",
       "    display: flex;\n",
       "    flex-flow: row wrap;\n",
       "    margin: 0.3em;\n",
       "    padding: 0.3em;\n",
       "    direction: rtl;\n",
       "    background-color: #ffffff;\n",
       "}\n",
       ".satom,.catom,.patom {\n",
       "    margin: 0.3em;\n",
       "    padding: 0.3em;\n",
       "    border-radius: 0.3em;\n",
       "    border-style: solid;\n",
       "    display: flex;\n",
       "    flex-flow: column nowrap;\n",
       "    direction: rtl;\n",
       "    background-color: #ffffff;\n",
       "}\n",
       ".sentence {\n",
       "    border-color: #aa3333;\n",
       "    border-width: 1px;\n",
       "}\n",
       ".clause {\n",
       "    border-color: #aaaa33;\n",
       "    border-width: 1px;\n",
       "}\n",
       ".phrase {\n",
       "    border-color: #33aaaa;\n",
       "    border-width: 1px;\n",
       "}\n",
       ".satom {\n",
       "    border-color: #aa3333;\n",
       "    border-width: 4px;\n",
       "}\n",
       ".catom {\n",
       "    border-color: #aaaa33;\n",
       "    border-width: 3px;\n",
       "}\n",
       ".patom {\n",
       "    border-color: #33aaaa;\n",
       "    border-width: 3px;\n",
       "}\n",
       ".word {\n",
       "    padding: 0.1em;\n",
       "    margin: 0.1em;\n",
       "    border-radius: 0.1em;\n",
       "    border: 1px solid #cccccc;\n",
       "    display: flex;\n",
       "    flex-flow: column nowrap;\n",
       "    direction: rtl;\n",
       "    background-color: #ffffff;\n",
       "}\n",
       ".lextp {\n",
       "    padding: 0.1em;\n",
       "    margin: 0.1em;\n",
       "    border-radius: 0.1em;\n",
       "    border: 2px solid #888888;\n",
       "    width: fit-content;\n",
       "    display: flex;\n",
       "    flex-flow: column nowrap;\n",
       "    direction: rtl;\n",
       "    background-color: #ffffff;\n",
       "}\n",
       ".occs {\n",
       "    font-size: x-small;\n",
       "}\n",
       ".satom.l,.catom.l,.patom.l {\n",
       "    border-left-style: dotted\n",
       "}\n",
       ".satom.r,.catom.r,.patom.r {\n",
       "    border-right-style: dotted\n",
       "}\n",
       ".satom.lno,.catom.lno,.patom.lno {\n",
       "    border-left-style: none\n",
       "}\n",
       ".satom.rno,.catom.rno,.patom.rno {\n",
       "    border-right-style: none\n",
       "}\n",
       ".tr,.tr a:visited,.tr a:link {\n",
       "    font-family: sans-serif;\n",
       "    font-size: large;\n",
       "    color: #000044;\n",
       "    direction: ltr;\n",
       "    text-decoration: none;\n",
       "}\n",
       ".trb,.trb a:visited,.trb a:link {\n",
       "    font-family: sans-serif;\n",
       "    font-size: normal;\n",
       "    direction: ltr;\n",
       "    text-decoration: none;\n",
       "}\n",
       ".prb,.prb a:visited,.prb a:link {\n",
       "    font-family: sans-serif;\n",
       "    font-size: large;\n",
       "    direction: ltr;\n",
       "    text-decoration: none;\n",
       "}\n",
       ".h,.h a:visited,.h a:link {\n",
       "    font-family: \"Ezra SIL\", \"SBL Hebrew\", sans-serif;\n",
       "    font-size: large;\n",
       "    color: #000044;\n",
       "    direction: rtl;\n",
       "    text-decoration: none;\n",
       "}\n",
       ".hb,.hb a:visited,.hb a:link {\n",
       "    font-family: \"Ezra SIL\", \"SBL Hebrew\", sans-serif;\n",
       "    font-size: large;\n",
       "    line-height: 2;\n",
       "    direction: rtl;\n",
       "    text-decoration: none;\n",
       "}\n",
       ".vn {\n",
       "  font-size: small !important;\n",
       "  padding-right: 1em;\n",
       "}\n",
       ".rela,.function,.typ {\n",
       "    font-family: monospace;\n",
       "    font-size: small;\n",
       "    color: #0000bb;\n",
       "}\n",
       ".pdp,.pdp a:visited,.pdp a:link {\n",
       "    font-family: monospace;\n",
       "    font-size: medium;\n",
       "    color: #0000bb;\n",
       "    text-decoration: none;\n",
       "}\n",
       ".voc_lex {\n",
       "    font-family: monospace;\n",
       "    font-size: medium;\n",
       "    color: #0000bb;\n",
       "}\n",
       ".vs {\n",
       "    font-family: monospace;\n",
       "    font-size: medium;\n",
       "    font-weight: bold;\n",
       "    color: #0000bb;\n",
       "}\n",
       ".vt {\n",
       "    font-family: monospace;\n",
       "    font-size: medium;\n",
       "    font-weight: bold;\n",
       "    color: #0000bb;\n",
       "}\n",
       ".gloss {\n",
       "    font-family: sans-serif;\n",
       "    font-size: small;\n",
       "    font-weight: normal;\n",
       "    color: #444444;\n",
       "}\n",
       ".vrs {\n",
       "    font-family: sans-serif;\n",
       "    font-size: small;\n",
       "    font-weight: bold;\n",
       "    color: #444444;\n",
       "}\n",
       ".nd {\n",
       "    font-family: monospace;\n",
       "    font-size: x-small;\n",
       "    color: #999999;\n",
       "}\n",
       ".hl {\n",
       "    background-color: #ffee66;\n",
       "}\n",
       "span.hldot {\n",
       "\tbackground-color: var(--hl-strong);\n",
       "\tborder: 0.2rem solid var(--hl-rim);\n",
       "\tborder-radius: 0.4rem;\n",
       "\t/*\n",
       "\tdisplay: inline-block;\n",
       "\twidth: 0.8rem;\n",
       "\theight: 0.8rem;\n",
       "\t*/\n",
       "}\n",
       "span.hl {\n",
       "\tbackground-color: var(--hl-strong);\n",
       "\tborder-width: 0;\n",
       "\tborder-radius: 0.1rem;\n",
       "\tborder-style: solid;\n",
       "}\n",
       "\n",
       "span.hlup {\n",
       "\tborder-color: var(--hl-dark);\n",
       "\tborder-width: 0.1rem;\n",
       "\tborder-style: solid;\n",
       "\tborder-radius: 0.2rem;\n",
       "  padding: 0.2rem;\n",
       "}\n",
       "\n",
       ":root {\n",
       "\t--hl-strong:        hsla( 60, 100%,  70%, 0.9  );\n",
       "\t--hl-rim:           hsla( 55, 100%,  60%, 0.9  );\n",
       "\t--hl-dark:          hsla( 55, 100%,  40%, 0.9  );\n",
       "}\n",
       "</style>"
      ],
      "text/plain": [
       "<IPython.core.display.HTML object>"
      ]
     },
     "metadata": {},
     "output_type": "display_data"
    },
    {
     "data": {
      "text/html": [
       "<details open><summary><b>API members</b>:</summary>\n",
       "<a target=\"_blank\" href=\"https://annotation.github.io/text-fabric/Api/Computed/#computed-data\" title=\"doc\">C Computed</a>, <a target=\"_blank\" href=\"https://annotation.github.io/text-fabric/Api/Computed/#computed-data\" title=\"doc\">Call AllComputeds</a>, <a target=\"_blank\" href=\"https://annotation.github.io/text-fabric/Api/Computed/#computed-data\" title=\"doc\">Cs ComputedString</a><br/>\n",
       "<a target=\"_blank\" href=\"https://annotation.github.io/text-fabric/Api/Features/#edge-features\" title=\"doc\">E Edge</a>, <a target=\"_blank\" href=\"https://annotation.github.io/text-fabric/Api/Features/#edge-features\" title=\"doc\">Eall AllEdges</a>, <a target=\"_blank\" href=\"https://annotation.github.io/text-fabric/Api/Features/#edge-features\" title=\"doc\">Es EdgeString</a><br/>\n",
       "<a target=\"_blank\" href=\"https://annotation.github.io/text-fabric/Api/Fabric/#loading\" title=\"doc\">ensureLoaded</a>, <a target=\"_blank\" href=\"https://annotation.github.io/text-fabric/Api/Fabric/#loading\" title=\"doc\">TF</a>, <a target=\"_blank\" href=\"https://annotation.github.io/text-fabric/Api/Fabric/#loading\" title=\"doc\">ignored</a>, <a target=\"_blank\" href=\"https://annotation.github.io/text-fabric/Api/Fabric/#loading\" title=\"doc\">loadLog</a><br/>\n",
       "<a target=\"_blank\" href=\"https://annotation.github.io/text-fabric/Api/Locality/#locality\" title=\"doc\">L Locality</a><br/>\n",
       "<a target=\"_blank\" href=\"https://annotation.github.io/text-fabric/Api/Misc/#messaging\" title=\"doc\">cache</a>, <a target=\"_blank\" href=\"https://annotation.github.io/text-fabric/Api/Misc/#messaging\" title=\"doc\">error</a>, <a target=\"_blank\" href=\"https://annotation.github.io/text-fabric/Api/Misc/#messaging\" title=\"doc\">indent</a>, <a target=\"_blank\" href=\"https://annotation.github.io/text-fabric/Api/Misc/#messaging\" title=\"doc\">info</a>, <a target=\"_blank\" href=\"https://annotation.github.io/text-fabric/Api/Misc/#messaging\" title=\"doc\">reset</a><br/>\n",
       "<a target=\"_blank\" href=\"https://annotation.github.io/text-fabric/Api/Nodes/#navigating-nodes\" title=\"doc\">N Nodes</a>, <a target=\"_blank\" href=\"https://annotation.github.io/text-fabric/Api/Nodes/#navigating-nodes\" title=\"doc\">sortKey</a>, <a target=\"_blank\" href=\"https://annotation.github.io/text-fabric/Api/Nodes/#navigating-nodes\" title=\"doc\">sortKeyTuple</a>, <a target=\"_blank\" href=\"https://annotation.github.io/text-fabric/Api/Nodes/#navigating-nodes\" title=\"doc\">otypeRank</a>, <a target=\"_blank\" href=\"https://annotation.github.io/text-fabric/Api/Nodes/#navigating-nodes\" title=\"doc\">sortNodes</a><br/>\n",
       "<a target=\"_blank\" href=\"https://annotation.github.io/text-fabric/Api/Features/#node-features\" title=\"doc\">F Feature</a>, <a target=\"_blank\" href=\"https://annotation.github.io/text-fabric/Api/Features/#node-features\" title=\"doc\">Fall AllFeatures</a>, <a target=\"_blank\" href=\"https://annotation.github.io/text-fabric/Api/Features/#node-features\" title=\"doc\">Fs FeatureString</a><br/>\n",
       "<a target=\"_blank\" href=\"https://annotation.github.io/text-fabric/Api/Search/#search\" title=\"doc\">S Search</a><br/>\n",
       "<a target=\"_blank\" href=\"https://annotation.github.io/text-fabric/Api/Text/#text\" title=\"doc\">T Text</a></details>"
      ],
      "text/plain": [
       "<IPython.core.display.HTML object>"
      ]
     },
     "metadata": {},
     "output_type": "display_data"
    },
    {
     "name": "stdout",
     "output_type": "stream",
     "text": [
      "  0.00s loading features ...\n",
      "  0.01s All additional features loaded - for details use loadLog()\n"
     ]
    }
   ],
   "source": [
    "# ETCBC's BHSA data\n",
    "from tf.app import use\n",
    "\n",
    "# stats & data-containers\n",
    "import collections, random\n",
    "import pandas as pd\n",
    "import numpy as np\n",
    "import scipy.stats as stats\n",
    "from pyscripts.significance import contingency_table, apply_fishers\n",
    "\n",
    "# data visualizations\n",
    "import seaborn as sns\n",
    "sns.set(font_scale=1.5, style='whitegrid')\n",
    "import matplotlib.pyplot as plt\n",
    "from IPython.display import display, HTML\n",
    "\n",
    "# load BHSA and heads data\n",
    "A = use('bhsa', mod='etcbc/heads/tf,CambridgeSemiticsLab/BH_time_collocations/tf', hoist=globals())\n",
    "A.displaySetup(condenseType='clause') # configure Hebrew display\n",
    "TF.load('g_cons_utf8 trailer_utf8', add=True)"
   ]
  },
  {
   "cell_type": "code",
   "execution_count": 2,
   "metadata": {},
   "outputs": [],
   "source": [
    "def reverse_hb(hb_text):\n",
    "    return ''.join(reversed(hb_text))\n",
    "\n",
    "def barplot_counts(count_dict, title='', reverse_labels=False, size=(8, 6), text_size=14, rotation=None):\n",
    "    '''\n",
    "    Makes simple barplot from collections.Counter type objects.\n",
    "    '''\n",
    "    \n",
    "    count_df = pd.DataFrame.from_dict(count_dict, orient='index', columns=['count']).sort_values(ascending=False, by='count')\n",
    "    n_bars = list(range(0, count_df.shape[0]))\n",
    "    x_labels = [''.join(reversed(prep)) for prep in count_df.index] if reverse_labels else count_df.index\n",
    "    plt.figure(figsize=size)\n",
    "    sns.barplot(n_bars, count_df['count'], color='darkblue')\n",
    "    plt.xticks(n_bars, x_labels, size=text_size, rotation=rotation)\n",
    "    plt.yticks(size=text_size)\n",
    "    plt.title(title, size=text_size)\n",
    "    plt.ylabel('count', size=text_size)\n",
    "    plt.show()\n",
    "    return count_df"
   ]
  },
  {
   "cell_type": "markdown",
   "metadata": {},
   "source": [
    "## Functional Clustering\n",
    "\n",
    "In order to compare the durative function to other functions, we need to validate whether the unmarked forms discussed above truly cluster together as distinguished from other functions. Additionally, in order to test significance between a verbal lexeme and a function, we need to gather contingency data for other functions in the Hebrew Bible. \n",
    "\n",
    "In this section, I lay out an approach to semantic clustering, which is based in part on the methods I applied in [a study of noun semantics](www.codykingham.com/nouns2018). In that study, nouns were clustered together based on the similarities of their syntactic and lexical contexts. In this study, we already know that the selected phrases have an identical semantic function of indicating Time, but we want to further distinguish species, especially aspectual connotations, amongst the time phrases. When comparing nouns, one can count contexts with respect to a given lexeme. But how does one count contexts with respect to a phrase function?\n",
    "\n",
    "In the intial [SBH_time_expressions](SBH_time_expressions.ipynb) study, we saw a few important divisions within the SBH materials. Let's have a look at the distributions within the whole Hebrew Bible."
   ]
  },
  {
   "cell_type": "code",
   "execution_count": 3,
   "metadata": {},
   "outputs": [
    {
     "name": "stdout",
     "output_type": "stream",
     "text": [
      "4080 time phrases found...\n",
      "\n",
      "\n"
     ]
    },
    {
     "data": {
      "image/png": "[encoded data removed]",
      "text/plain": [
       "<Figure size 576x432 with 1 Axes>"
      ]
     },
     "metadata": {
      "needs_background": "light"
     },
     "output_type": "display_data"
    },
    {
     "data": {
      "text/html": [
       "<div>\n",
       "<style scoped>\n",
       "    .dataframe tbody tr th:only-of-type {\n",
       "        vertical-align: middle;\n",
       "    }\n",
       "\n",
       "    .dataframe tbody tr th {\n",
       "        vertical-align: top;\n",
       "    }\n",
       "\n",
       "    .dataframe thead th {\n",
       "        text-align: right;\n",
       "    }\n",
       "</style>\n",
       "<table border=\"1\" class=\"dataframe\">\n",
       "  <thead>\n",
       "    <tr style=\"text-align: right;\">\n",
       "      <th></th>\n",
       "      <th>count</th>\n",
       "    </tr>\n",
       "  </thead>\n",
       "  <tbody>\n",
       "    <tr>\n",
       "      <th>PP</th>\n",
       "      <td>2507</td>\n",
       "    </tr>\n",
       "    <tr>\n",
       "      <th>NP</th>\n",
       "      <td>905</td>\n",
       "    </tr>\n",
       "    <tr>\n",
       "      <th>AdvP</th>\n",
       "      <td>668</td>\n",
       "    </tr>\n",
       "  </tbody>\n",
       "</table>\n",
       "</div>"
      ],
      "text/plain": [
       "      count\n",
       "PP     2507\n",
       "NP      905\n",
       "AdvP    668"
      ]
     },
     "metadata": {},
     "output_type": "display_data"
    }
   ],
   "source": [
    "phrase_type = A.search('''\n",
    "\n",
    "phrase function=Time\n",
    "\n",
    "''', shallow=True, silent=True)\n",
    "\n",
    "print(len(phrase_type), 'time phrases found...\\n\\n')\n",
    "\n",
    "p_type_count = collections.Counter()\n",
    "for phrase in phrase_type:\n",
    "    p_type_count[F.typ.v(phrase)] += 1\n",
    "    \n",
    "p_type_count = barplot_counts(p_type_count, title='Phrase Types in Time Phrases')\n",
    "    \n",
    "display(p_type_count)"
   ]
  },
  {
   "cell_type": "code",
   "execution_count": 4,
   "metadata": {},
   "outputs": [
    {
     "name": "stdout",
     "output_type": "stream",
     "text": [
      "2589 time prepositions found...\n",
      "\n",
      "\n"
     ]
    },
    {
     "data": {
      "image/png": "[encoded data removed]",
      "text/plain": [
       "<Figure size 576x432 with 1 Axes>"
      ]
     },
     "metadata": {
      "needs_background": "light"
     },
     "output_type": "display_data"
    },
    {
     "data": {
      "text/html": [
       "<div>\n",
       "<style scoped>\n",
       "    .dataframe tbody tr th:only-of-type {\n",
       "        vertical-align: middle;\n",
       "    }\n",
       "\n",
       "    .dataframe tbody tr th {\n",
       "        vertical-align: top;\n",
       "    }\n",
       "\n",
       "    .dataframe thead th {\n",
       "        text-align: right;\n",
       "    }\n",
       "</style>\n",
       "<table border=\"1\" class=\"dataframe\">\n",
       "  <thead>\n",
       "    <tr style=\"text-align: right;\">\n",
       "      <th></th>\n",
       "      <th>count</th>\n",
       "    </tr>\n",
       "  </thead>\n",
       "  <tbody>\n",
       "    <tr>\n",
       "      <th>ב</th>\n",
       "      <td>1429</td>\n",
       "    </tr>\n",
       "    <tr>\n",
       "      <th>עד</th>\n",
       "      <td>370</td>\n",
       "    </tr>\n",
       "    <tr>\n",
       "      <th>ל</th>\n",
       "      <td>349</td>\n",
       "    </tr>\n",
       "    <tr>\n",
       "      <th>מן</th>\n",
       "      <td>229</td>\n",
       "    </tr>\n",
       "    <tr>\n",
       "      <th>אחר</th>\n",
       "      <td>135</td>\n",
       "    </tr>\n",
       "    <tr>\n",
       "      <th>כ</th>\n",
       "      <td>55</td>\n",
       "    </tr>\n",
       "    <tr>\n",
       "      <th>בין</th>\n",
       "      <td>11</td>\n",
       "    </tr>\n",
       "    <tr>\n",
       "      <th>את</th>\n",
       "      <td>3</td>\n",
       "    </tr>\n",
       "    <tr>\n",
       "      <th>באתר</th>\n",
       "      <td>3</td>\n",
       "    </tr>\n",
       "    <tr>\n",
       "      <th>על</th>\n",
       "      <td>2</td>\n",
       "    </tr>\n",
       "    <tr>\n",
       "      <th>בלת</th>\n",
       "      <td>1</td>\n",
       "    </tr>\n",
       "    <tr>\n",
       "      <th>אל</th>\n",
       "      <td>1</td>\n",
       "    </tr>\n",
       "    <tr>\n",
       "      <th>עם</th>\n",
       "      <td>1</td>\n",
       "    </tr>\n",
       "  </tbody>\n",
       "</table>\n",
       "</div>"
      ],
      "text/plain": [
       "      count\n",
       "ב      1429\n",
       "עד      370\n",
       "ל       349\n",
       "מן      229\n",
       "אחר     135\n",
       "כ        55\n",
       "בין      11\n",
       "את        3\n",
       "באתר      3\n",
       "על        2\n",
       "בלת       1\n",
       "אל        1\n",
       "עם        1"
      ]
     },
     "metadata": {},
     "output_type": "display_data"
    }
   ],
   "source": [
    "prep_lexes = A.search('''\n",
    "\n",
    "phrase function=Time typ=PP\n",
    "    <head- word pdp=prep\n",
    "\n",
    "''', silent=True)\n",
    "\n",
    "print(len(prep_lexes), 'time prepositions found...\\n\\n')\n",
    "\n",
    "prep_count = collections.Counter()\n",
    "\n",
    "for res in prep_lexes:\n",
    "    prep_count[F.lex_utf8.v(res[1])] += 1\n",
    "\n",
    "prep_count = barplot_counts(prep_count, 'Lexemes of PP in Time Phrases', reverse_labels=True, text_size=16)\n",
    "    \n",
    "display(prep_count)"
   ]
  },
  {
   "cell_type": "code",
   "execution_count": 6,
   "metadata": {},
   "outputs": [
    {
     "data": {
      "text/html": [
       "<h5>total number of tokens: 246</h5>"
      ],
      "text/plain": [
       "<IPython.core.display.HTML object>"
      ]
     },
     "metadata": {},
     "output_type": "display_data"
    },
    {
     "name": "stdout",
     "output_type": "stream",
     "text": [
      "\n",
      "\n",
      "\n"
     ]
    },
    {
     "data": {
      "image/png": "[encoded data removed]",
      "text/plain": [
       "<Figure size 576x432 with 1 Axes>"
      ]
     },
     "metadata": {
      "needs_background": "light"
     },
     "output_type": "display_data"
    },
    {
     "data": {
      "image/png": "[encoded data removed]",
      "text/plain": [
       "<Figure size 1296x432 with 1 Axes>"
      ]
     },
     "metadata": {
      "needs_background": "light"
     },
     "output_type": "display_data"
    },
    {
     "data": {
      "text/html": [
       "<div>\n",
       "<style scoped>\n",
       "    .dataframe tbody tr th:only-of-type {\n",
       "        vertical-align: middle;\n",
       "    }\n",
       "\n",
       "    .dataframe tbody tr th {\n",
       "        vertical-align: top;\n",
       "    }\n",
       "\n",
       "    .dataframe thead th {\n",
       "        text-align: right;\n",
       "    }\n",
       "</style>\n",
       "<table border=\"1\" class=\"dataframe\">\n",
       "  <thead>\n",
       "    <tr style=\"text-align: right;\">\n",
       "      <th></th>\n",
       "      <th>count</th>\n",
       "    </tr>\n",
       "  </thead>\n",
       "  <tbody>\n",
       "    <tr>\n",
       "      <th>ה.יום</th>\n",
       "      <td>192</td>\n",
       "    </tr>\n",
       "    <tr>\n",
       "      <th>שׁבעת.ימים</th>\n",
       "      <td>66</td>\n",
       "    </tr>\n",
       "    <tr>\n",
       "      <th>כל.ה.ימים</th>\n",
       "      <td>44</td>\n",
       "    </tr>\n",
       "    <tr>\n",
       "      <th>כל.ה.יום</th>\n",
       "      <td>42</td>\n",
       "    </tr>\n",
       "    <tr>\n",
       "      <th>ה.יום.ה.זה</th>\n",
       "      <td>29</td>\n",
       "    </tr>\n",
       "    <tr>\n",
       "      <th>ארבעים.שׁנה</th>\n",
       "      <td>24</td>\n",
       "    </tr>\n",
       "    <tr>\n",
       "      <th>ה.לילה</th>\n",
       "      <td>21</td>\n",
       "    </tr>\n",
       "    <tr>\n",
       "      <th>ימים.רבים</th>\n",
       "      <td>18</td>\n",
       "    </tr>\n",
       "    <tr>\n",
       "      <th>שׁשׁת.ימים</th>\n",
       "      <td>14</td>\n",
       "    </tr>\n",
       "    <tr>\n",
       "      <th>שׁלשׁת.ימים</th>\n",
       "      <td>12</td>\n",
       "    </tr>\n",
       "    <tr>\n",
       "      <th>שׁשׁ.שׁנים</th>\n",
       "      <td>12</td>\n",
       "    </tr>\n",
       "    <tr>\n",
       "      <th>כל.ה.לילה</th>\n",
       "      <td>12</td>\n",
       "    </tr>\n",
       "    <tr>\n",
       "      <th>שׁבע.שׁנים</th>\n",
       "      <td>12</td>\n",
       "    </tr>\n",
       "    <tr>\n",
       "      <th>כל.ימי.חייו</th>\n",
       "      <td>9</td>\n",
       "    </tr>\n",
       "    <tr>\n",
       "      <th>כל.ימי</th>\n",
       "      <td>9</td>\n",
       "    </tr>\n",
       "    <tr>\n",
       "      <th>ארבעים.יום.ו.ארבעים.לילה</th>\n",
       "      <td>8</td>\n",
       "    </tr>\n",
       "    <tr>\n",
       "      <th>כל.ימיו</th>\n",
       "      <td>8</td>\n",
       "    </tr>\n",
       "    <tr>\n",
       "      <th>שׁלשׁ.שׁנים</th>\n",
       "      <td>8</td>\n",
       "    </tr>\n",
       "    <tr>\n",
       "      <th>שׁלשׁה.חדשׁים</th>\n",
       "      <td>7</td>\n",
       "    </tr>\n",
       "    <tr>\n",
       "      <th>כל.ימי.חייך</th>\n",
       "      <td>7</td>\n",
       "    </tr>\n",
       "    <tr>\n",
       "      <th>עולם</th>\n",
       "      <td>6</td>\n",
       "    </tr>\n",
       "    <tr>\n",
       "      <th>שׁשׁ.עשׂרה.שׁנה</th>\n",
       "      <td>6</td>\n",
       "    </tr>\n",
       "    <tr>\n",
       "      <th>ימים</th>\n",
       "      <td>6</td>\n",
       "    </tr>\n",
       "    <tr>\n",
       "      <th>שׁבעים.שׁנה</th>\n",
       "      <td>6</td>\n",
       "    </tr>\n",
       "    <tr>\n",
       "      <th>יום.יום</th>\n",
       "      <td>6</td>\n",
       "    </tr>\n",
       "  </tbody>\n",
       "</table>\n",
       "</div>"
      ],
      "text/plain": [
       "                          count\n",
       "ה.יום                       192\n",
       "שׁבעת.ימים                   66\n",
       "כל.ה.ימים                    44\n",
       "כל.ה.יום                     42\n",
       "ה.יום.ה.זה                   29\n",
       "ארבעים.שׁנה                  24\n",
       "ה.לילה                       21\n",
       "ימים.רבים                    18\n",
       "שׁשׁת.ימים                   14\n",
       "שׁלשׁת.ימים                  12\n",
       "שׁשׁ.שׁנים                   12\n",
       "כל.ה.לילה                    12\n",
       "שׁבע.שׁנים                   12\n",
       "כל.ימי.חייו                   9\n",
       "כל.ימי                        9\n",
       "ארבעים.יום.ו.ארבעים.לילה      8\n",
       "כל.ימיו                       8\n",
       "שׁלשׁ.שׁנים                   8\n",
       "שׁלשׁה.חדשׁים                 7\n",
       "כל.ימי.חייך                   7\n",
       "עולם                          6\n",
       "שׁשׁ.עשׂרה.שׁנה               6\n",
       "ימים                          6\n",
       "שׁבעים.שׁנה                   6\n",
       "יום.יום                       6"
      ]
     },
     "metadata": {},
     "output_type": "display_data"
    }
   ],
   "source": [
    "np_time = A.search('phrase function=Time typ=NP', shallow=True, silent=True)\n",
    "\n",
    "np_surface = collections.Counter()\n",
    "\n",
    "for noun_p in np_time:\n",
    "    text = '.'.join(F.g_cons_utf8.v(w) for w in L.d(noun_p, 'word'))\n",
    "    np_surface[text] += 1\n",
    "    \n",
    "display(HTML(f'<h5>total number of tokens: {len(np_surface)}</h5>'))\n",
    "print('\\n\\n')\n",
    "plt.figure(figsize=(8, 6))\n",
    "plt.plot(np.arange(len(np_surface)), sorted(np_surface.values(), reverse=True), color='darkblue')\n",
    "plt.title('Zipfian Distribution: NP Time Phrase Token Rank by Frequency', size=16)\n",
    "plt.xlabel('rank', size=16)\n",
    "plt.ylabel('frequency', size=16)\n",
    "    \n",
    "np_surface_ct = barplot_counts(dict(np_surface.most_common(25)), \n",
    "                               size=(18, 6), \n",
    "                               reverse_labels=True, \n",
    "                               title='Top 25 NP Time Phrase Tokens by Frequency',\n",
    "                               rotation='vertical', \n",
    "                               text_size=20)\n",
    "\n",
    "display(np_surface_ct)"
   ]
  },
  {
   "cell_type": "markdown",
   "metadata": {},
   "source": [
    "There seem to be essentially three main groups in these top surface forms: 1. those marked with a quantifier, such as a cardinal number or כל, plurality, but also with repetition as in יום יום, and 2. those marked mainly with ה or a demonstrative. Note also that יום dominates this list, 3. completely unmarked time as represented by עולם.\n",
    "\n",
    "Let's see how much of the data these three groups account for."
   ]
  },
  {
   "cell_type": "code",
   "execution_count": 53,
   "metadata": {},
   "outputs": [
    {
     "name": "stdout",
     "output_type": "stream",
     "text": [
      "searching total NP time phrases...\n",
      "  0.27s 905 results\n",
      "searching quantified...\n",
      "  1.42s 615 results\n",
      "searching demonstratives...\n",
      "  0.67s 251 results\n",
      "searching unmarked...\n",
      "  1.05s 12 results\n",
      "\n",
      "found: 875 / 905\n"
     ]
    }
   ],
   "source": [
    "# all\n",
    "print('searching total NP time phrases...')\n",
    "all_np_time = A.search('phrase function=Time typ=NP', shallow=True)\n",
    "\n",
    "print('searching quantified...')\n",
    "# group 1, quantified\n",
    "quant_np = A.search('''\n",
    "\n",
    "p:phrase function=Time typ=NP\n",
    "/with/\n",
    "    word sem_set=quant\n",
    "/or/\n",
    "    word nu=pl|du\n",
    "/or/\n",
    "    w1:word\n",
    "    w2:word\n",
    "    p <head- w1\n",
    "    p <head- w2\n",
    "    w1 # w2\n",
    "    \n",
    "lex\n",
    "    w1\n",
    "    w2\n",
    "/-/\n",
    "    \n",
    "''', shallow=True)\n",
    "\n",
    "print('searching demonstratives...')\n",
    "# group 2, demonstrated\n",
    "demon_np = A.search('''\n",
    "\n",
    "phrase function=Time typ=NP\n",
    "/with/\n",
    "    word pdp=prde\n",
    "/or/\n",
    "    =: word pdp=art\n",
    "/-/\n",
    "\n",
    "/without/\n",
    "    word sem_set=quant\n",
    "/-/\n",
    "''', shallow=True)\n",
    "\n",
    "print('searching unmarked...')\n",
    "# group 3, unmarked\n",
    "unmarked_np = A.search('''\n",
    "\n",
    "p:phrase function=Time typ=NP\n",
    "/with/\n",
    "    <head- w1:word nu#pl|du\n",
    "    p =: w1\n",
    "    p := w1\n",
    "/-/\n",
    "''', shallow=True)\n",
    "\n",
    "found_results = set(quant_np)|set(demon_np)|set(unmarked_np)\n",
    "\n",
    "print()\n",
    "print(f'found: {len(found_results)} / {len(all_np_time)}')"
   ]
  },
  {
   "cell_type": "code",
   "execution_count": 54,
   "metadata": {},
   "outputs": [
    {
     "name": "stdout",
     "output_type": "stream",
     "text": [
      "overlap between sets:\n",
      "quant\n",
      "\tdemon: 3\n",
      "\tunmarked: 0\n",
      "demon\n",
      "\tquant: 3\n",
      "\tunmarked: 0\n",
      "unmarked\n",
      "\tquant: 0\n",
      "\tdemon: 0\n"
     ]
    }
   ],
   "source": [
    "groups = {'quant': quant_np, 'demon': demon_np, 'unmarked':unmarked_np}\n",
    "\n",
    "print('overlap between sets:')\n",
    "for groupi, resi in groups.items():\n",
    "    print(groupi)\n",
    "    for groupj, resj in groups.items():\n",
    "        \n",
    "        if groupi == groupj:\n",
    "            continue\n",
    "            \n",
    "        print(f'\\t{groupj}: {len(set(resi)&set(resj))}')"
   ]
  },
  {
   "cell_type": "code",
   "execution_count": 58,
   "metadata": {},
   "outputs": [
    {
     "data": {
      "text/plain": [
       "30"
      ]
     },
     "execution_count": 58,
     "metadata": {},
     "output_type": "execute_result"
    }
   ],
   "source": [
    "len(set(all_np_time)-found_results)"
   ]
  },
  {
   "cell_type": "markdown",
   "metadata": {},
   "source": [
    "**NOTES**\n",
    "\n",
    "These groupings indeed distinguish the most amongst the dataset, though the patterns include a diverse group of searches, putting plurals and quantifieds together, for instance. These should probably be separated out into individual groups. "
   ]
  },
  {
   "cell_type": "markdown",
   "metadata": {},
   "source": [
    "## Building Test Sets"
   ]
  },
  {
   "cell_type": "code",
   "execution_count": 21,
   "metadata": {},
   "outputs": [
    {
     "name": "stdout",
     "output_type": "stream",
     "text": [
      "  0.72s 199 results\n"
     ]
    }
   ],
   "source": [
    "durative = A.search('''\n",
    "\n",
    "clause\n",
    "/without/\n",
    "    phrase function=Objc|Cmpl\n",
    "/-/\n",
    "\n",
    "    phrase function=Pred|PreS\n",
    "    phrase function=Time typ=NP\n",
    "    /without/\n",
    "        word pdp=prep|prde|advb\n",
    "    /-/\n",
    "    /without/\n",
    "        =: word pdp=art\n",
    "    /-/\n",
    "''')"
   ]
  },
  {
   "cell_type": "code",
   "execution_count": 61,
   "metadata": {},
   "outputs": [],
   "source": [
    "#A.show(durative, withNodes=True, start=100, end=200)"
   ]
  },
  {
   "cell_type": "code",
   "execution_count": 29,
   "metadata": {},
   "outputs": [
    {
     "name": "stdout",
     "output_type": "stream",
     "text": [
      "  1.24s 414 results\n"
     ]
    }
   ],
   "source": [
    "simultaneous = A.search('''\n",
    "\n",
    "clause\n",
    "/without/\n",
    "    phrase function=Objc|Cmpl\n",
    "/-/\n",
    "\n",
    "    phrase function=Pred|PreS\n",
    "    phrase function=Time typ=PP\n",
    "    /without/\n",
    "        word pdp=prde|advb\n",
    "    /-/\n",
    "        <head- word lex=B\n",
    "''')"
   ]
  },
  {
   "cell_type": "code",
   "execution_count": 62,
   "metadata": {},
   "outputs": [],
   "source": [
    "#A.show(simultaneous, withNodes=True, start=0, end=100)"
   ]
  },
  {
   "cell_type": "code",
   "execution_count": 32,
   "metadata": {},
   "outputs": [
    {
     "name": "stdout",
     "output_type": "stream",
     "text": [
      "  1.12s 222 results\n"
     ]
    }
   ],
   "source": [
    "demonstrative = A.search('''\n",
    "\n",
    "clause\n",
    "/without/\n",
    "    phrase function=Objc|Cmpl\n",
    "/-/\n",
    "\n",
    "    phrase function=Pred|PreS\n",
    "    phrase function=Time\n",
    "    /without/\n",
    "        word pdp=advb\n",
    "    /-/\n",
    "        word pdp=prde\n",
    "    \n",
    "''')"
   ]
  },
  {
   "cell_type": "code",
   "execution_count": 63,
   "metadata": {},
   "outputs": [],
   "source": [
    "#A.show(demonstrative, withNodes=True, start=0, end=100)"
   ]
  },
  {
   "cell_type": "markdown",
   "metadata": {},
   "source": [
    "### Distinguishing from \"Purposive Extent\"\n",
    "The atelic time duration is closely related to the \"purposive extent,\" a function illustrated by the construction:\n",
    "\n",
    "> Sibylle went to Paris for five years. (Haspelmath 1997: 128)\n",
    "\n",
    "Haspelmath explains further:\n",
    "\n",
    "> In purposive-extent constructions, the verbal event is not atelic, but the adverbial measures the length of the state resulting from this event. (Haspelmath 1997: 128)\n",
    "\n",
    "Fuhs describes his method of dealing with this construction:\n",
    "\n",
    "> In coding, I followed Smith’s suggestion to classify single for-phrases as instances of the durative construction, whereas in double marking, the second phrase was coded as a ‘purpositive extend’ [sic] (Haspelmath 1997: 128; Smith 1997: 114). After manually clearing the set, a total of 671 true instances of the English Durative Adverbial remained, which occurred in clauses in which no other aspect constructions in the periphery were present that could influence the predicate construal. This set was then used for a Collostructional Analysis. (Fuhs 2010: 145)\n",
    "\n",
    "This procedure is the most vulnerable aspect of Fuhs's study. The purposive extent can occur without the doubling mentioned by Smith. This means that most of these cases would have to be manually sorted, and Fuhs himself would have had to decide whether a time phrase was purposive or not. Smith's criteria for purposive extent presents a circularity issue for Fuhs's manual sorting procedure:\n",
    "\n",
    "> What triggers the shift [from telic event to atelic] is the incompatibility between the value of the verb constellations (telic) and the adverbials (atelic). (Smith 1997: 113).\n",
    "\n",
    "Yet, the \"compatibility\" between the verb and the adverbials is precisely what Fuhs intends to measure. If he had used these notions in his manual sorting, they would might have affected the dataset he obtains."
   ]
  },
  {
   "cell_type": "markdown",
   "metadata": {},
   "source": [
    "### From...To Durations (מן...עד)"
   ]
  }
 ],
 "metadata": {
  "kernelspec": {
   "display_name": "Python 3",
   "language": "python",
   "name": "python3"
  },
  "language_info": {
   "codemirror_mode": {
    "name": "ipython",
    "version": 3
   },
   "file_extension": ".py",
   "mimetype": "text/x-python",
   "name": "python",
   "nbconvert_exporter": "python",
   "pygments_lexer": "ipython3",
   "version": "3.7.0"
  }
 },
 "nbformat": 4,
 "nbformat_minor": 2
}
