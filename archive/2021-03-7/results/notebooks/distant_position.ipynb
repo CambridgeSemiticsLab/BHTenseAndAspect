{
 "cells": [
  {
   "cell_type": "markdown",
   "metadata": {},
   "source": [
    "*best viewed in [nbviewer](https://nbviewer.jupyter.org/github/CambridgeSemiticsLab/BH_time_collocations/blob/master/results/notebooks/distant_position.ipynb)*"
   ]
  },
  {
   "cell_type": "markdown",
   "metadata": {},
   "source": [
    "# Investigating the Distant Position and Tenses\n",
    "## (ביום ההוא)\n",
    "### Cody Kingham\n",
    "<a href=\"../../docs/sponsors.md\"><img height=200px width=200px align=\"left\" src=\"../../docs/images/CambridgeU_BW.png\"></a>"
   ]
  },
  {
   "cell_type": "code",
   "execution_count": 1,
   "metadata": {},
   "outputs": [
    {
     "name": "stdout",
     "output_type": "stream",
     "text": [
      "last updated:\n",
      "Thu 12 Mar 2020 11:27:20 GMT\n"
     ]
    }
   ],
   "source": [
    "! echo \"last updated:\"; date"
   ]
  },
  {
   "cell_type": "markdown",
   "metadata": {},
   "source": [
    "## Introduction\n",
    "\n",
    "In this notebook we seek to examine phrases that indicate distant position. These were briefly examined in [demonstrative_tenses.ipynb](demonstrative_tenses.ipynb), which likewise included demonstratives expressed with duration, e.g. עד היום הזה, but did not exclusively focus on positional adverbials, e.g. ביום ההוא.\n",
    "\n",
    "### \"that\" future or present?\n",
    "\n",
    "One of the motivations of the time adverbial study is to better understand the verb tenses. Is inherent verb tense a large factor in collocation patterns of future/past time adverbials? One of the challenges in using demonstrative adverbials for this task is that they only indicate distance not direction. Presumably other factors, especially the main verb tense, would intervene to provide directionality. But in this study it is precisely the verb tense we want to understand better through the lens of the time adverbials. Is there then a way to avoid circularly labeling some adverbials as \"future\" and others as \"past?\n",
    "\n",
    "#### Clustering based on context\n",
    "\n",
    "One way to mitigate the circularity is to rely on the combined frequency of other verbs within the context of a distant adverbial. For instance, instead of only paying attention to the verb used alongside with the adverbial, record what verb forms are found around a given context. Those contexts can then be clustered based on the proportional representation of certain verb types. In theory, future and past contexts will cluster together.\n",
    "\n",
    "One potential problem is that even good clusters would not prove that a given passage is \"past\" or \"future\". In the end, it must be human intuition that is used as the final judge. But with coherent clusters we could at least support the argument for a classification. We could also potentially isolate contexts where an unexpected verb form is found alongside an adverbial. \n",
    "\n",
    "<hr>"
   ]
  },
  {
   "cell_type": "markdown",
   "metadata": {},
   "source": [
    "# Python\n",
    "\n",
    "Now we import the modules and data needed for the analysis."
   ]
  },
  {
   "cell_type": "code",
   "execution_count": 69,
   "metadata": {},
   "outputs": [
    {
     "data": {
      "text/html": [
       "<style>\n",
       "@font-face {\n",
       "  font-family: \"Ezra SIL\";\n",
       "  src:\n",
       "    local(\"SILEOT.ttf\"),\n",
       "    url(\"https://github.com/annotation/text-fabric/blob/master/tf/server/static/fonts/SILEOT.woff?raw=true\");\n",
       "}\n",
       ".features {\n",
       "    font-family: monospace;\n",
       "    font-size: medium;\n",
       "    font-weight: bold;\n",
       "    color: #0a6611;\n",
       "    display: flex;\n",
       "    flex-flow: column nowrap;\n",
       "    padding: 0.1em;\n",
       "    margin: 0.1em;\n",
       "    direction: ltr;\n",
       "}\n",
       ".features div,.features span {\n",
       "    padding: 0;\n",
       "    margin: -0.1rem 0;\n",
       "}\n",
       ".features .f {\n",
       "    font-family: sans-serif;\n",
       "    font-size: x-small;\n",
       "    font-weight: normal;\n",
       "    color: #5555bb;\n",
       "}\n",
       ".features .xft {\n",
       "  color: #000000;\n",
       "  background-color: #eeeeee;\n",
       "  font-size: medium;\n",
       "  margin: 0.1em 0em;\n",
       "}\n",
       ".features .xft .f {\n",
       "  color: #000000;\n",
       "  background-color: #eeeeee;\n",
       "  font-style: italic;\n",
       "  font-size: small;\n",
       "  font-weight: normal;\n",
       "}\n",
       ".ltr {\n",
       "    direction: ltr ! important;\n",
       "}\n",
       ".verse {\n",
       "    display: flex;\n",
       "    flex-flow: row wrap;\n",
       "    direction: rtl;\n",
       "}\n",
       ".vl {\n",
       "    display: flex;\n",
       "    flex-flow: column nowrap;\n",
       "    justify-content: flex-end;\n",
       "    align-items: flex-end;\n",
       "    direction: ltr;\n",
       "    width: 100%;\n",
       "}\n",
       ".outeritem {\n",
       "    display: flex;\n",
       "    flex-flow: row wrap;\n",
       "    direction: rtl;\n",
       "}\n",
       ".sentence,.clause,.phrase {\n",
       "    margin-top: -1.2em;\n",
       "    margin-left: 1em;\n",
       "    background: #ffffff none repeat scroll 0 0;\n",
       "    padding: 0 0.3em;\n",
       "    border-style: solid;\n",
       "    border-radius: 0.2em;\n",
       "    font-size: small;\n",
       "    display: block;\n",
       "    width: fit-content;\n",
       "    max-width: fit-content;\n",
       "    direction: ltr;\n",
       "}\n",
       ".atoms {\n",
       "    display: flex;\n",
       "    flex-flow: row wrap;\n",
       "    margin: 0.3em;\n",
       "    padding: 0.3em;\n",
       "    direction: rtl;\n",
       "    background-color: #ffffff;\n",
       "}\n",
       ".satom,.catom,.patom {\n",
       "    margin: 0.3em;\n",
       "    padding: 0.3em;\n",
       "    border-radius: 0.3em;\n",
       "    border-style: solid;\n",
       "    display: flex;\n",
       "    flex-flow: column nowrap;\n",
       "    direction: rtl;\n",
       "    background-color: #ffffff;\n",
       "}\n",
       ".sentence {\n",
       "    border-color: #aa3333;\n",
       "    border-width: 1px;\n",
       "}\n",
       ".clause {\n",
       "    border-color: #aaaa33;\n",
       "    border-width: 1px;\n",
       "}\n",
       ".phrase {\n",
       "    border-color: #33aaaa;\n",
       "    border-width: 1px;\n",
       "}\n",
       ".satom {\n",
       "    border-color: #aa3333;\n",
       "    border-width: 4px;\n",
       "}\n",
       ".catom {\n",
       "    border-color: #aaaa33;\n",
       "    border-width: 3px;\n",
       "}\n",
       ".patom {\n",
       "    border-color: #33aaaa;\n",
       "    border-width: 3px;\n",
       "}\n",
       ".word {\n",
       "    padding: 0.1em;\n",
       "    margin: 0.1em;\n",
       "    border-radius: 0.1em;\n",
       "    border: 1px solid #cccccc;\n",
       "    display: flex;\n",
       "    flex-flow: column nowrap;\n",
       "    direction: rtl;\n",
       "    background-color: #ffffff;\n",
       "}\n",
       ".lextp {\n",
       "    padding: 0.1em;\n",
       "    margin: 0.1em;\n",
       "    border-radius: 0.1em;\n",
       "    border: 2px solid #888888;\n",
       "    width: fit-content;\n",
       "    display: flex;\n",
       "    flex-flow: column nowrap;\n",
       "    direction: rtl;\n",
       "    background-color: #ffffff;\n",
       "}\n",
       ".occs {\n",
       "    font-size: x-small;\n",
       "}\n",
       ".satom.l,.catom.l,.patom.l {\n",
       "    border-left-style: dotted\n",
       "}\n",
       ".satom.r,.catom.r,.patom.r {\n",
       "    border-right-style: dotted\n",
       "}\n",
       ".satom.lno,.catom.lno,.patom.lno {\n",
       "    border-left-style: none\n",
       "}\n",
       ".satom.rno,.catom.rno,.patom.rno {\n",
       "    border-right-style: none\n",
       "}\n",
       ".tr,.tr a:visited,.tr a:link {\n",
       "    font-family: sans-serif;\n",
       "    font-size: large;\n",
       "    color: #000044;\n",
       "    direction: ltr;\n",
       "    text-decoration: none;\n",
       "}\n",
       ".trb,.trb a:visited,.trb a:link {\n",
       "    font-family: sans-serif;\n",
       "    font-size: normal;\n",
       "    direction: ltr;\n",
       "    text-decoration: none;\n",
       "}\n",
       ".prb,.prb a:visited,.prb a:link {\n",
       "    font-family: sans-serif;\n",
       "    font-size: large;\n",
       "    direction: ltr;\n",
       "    text-decoration: none;\n",
       "}\n",
       ".h,.h a:visited,.h a:link {\n",
       "    font-family: \"Ezra SIL\", \"SBL Hebrew\", sans-serif;\n",
       "    font-size: large;\n",
       "    color: #000044;\n",
       "    direction: rtl;\n",
       "    text-decoration: none;\n",
       "}\n",
       ".hb,.hb a:visited,.hb a:link {\n",
       "    font-family: \"Ezra SIL\", \"SBL Hebrew\", sans-serif;\n",
       "    font-size: large;\n",
       "    line-height: 2;\n",
       "    direction: rtl;\n",
       "    text-decoration: none;\n",
       "}\n",
       ".vn {\n",
       "  font-size: small !important;\n",
       "  padding-right: 1em;\n",
       "}\n",
       ".rela,.function,.typ {\n",
       "    font-family: monospace;\n",
       "    font-size: small;\n",
       "    color: #0000bb;\n",
       "}\n",
       ".pdp,.pdp a:visited,.pdp a:link {\n",
       "    font-family: monospace;\n",
       "    font-size: medium;\n",
       "    color: #0000bb;\n",
       "    text-decoration: none;\n",
       "}\n",
       ".voc_lex {\n",
       "    font-family: monospace;\n",
       "    font-size: medium;\n",
       "    color: #0000bb;\n",
       "}\n",
       ".vs {\n",
       "    font-family: monospace;\n",
       "    font-size: medium;\n",
       "    font-weight: bold;\n",
       "    color: #0000bb;\n",
       "}\n",
       ".vt {\n",
       "    font-family: monospace;\n",
       "    font-size: medium;\n",
       "    font-weight: bold;\n",
       "    color: #0000bb;\n",
       "}\n",
       ".gloss {\n",
       "    font-family: sans-serif;\n",
       "    font-size: small;\n",
       "    font-weight: normal;\n",
       "    color: #444444;\n",
       "}\n",
       ".vrs {\n",
       "    font-family: sans-serif;\n",
       "    font-size: small;\n",
       "    font-weight: bold;\n",
       "    color: #444444;\n",
       "}\n",
       ".nd {\n",
       "    font-family: monospace;\n",
       "    font-size: x-small;\n",
       "    color: #999999;\n",
       "}\n",
       ".hl {\n",
       "    background-color: #ffee66;\n",
       "}\n",
       "\n",
       "tr.tf, td.tf, th.tf {\n",
       "  text-align: left;\n",
       "}\n",
       "\n",
       "span.hldot {\n",
       "\tbackground-color: var(--hl-strong);\n",
       "\tborder: 0.2rem solid var(--hl-rim);\n",
       "\tborder-radius: 0.4rem;\n",
       "\t/*\n",
       "\tdisplay: inline-block;\n",
       "\twidth: 0.8rem;\n",
       "\theight: 0.8rem;\n",
       "\t*/\n",
       "}\n",
       "span.hl {\n",
       "\tbackground-color: var(--hl-strong);\n",
       "\tborder-width: 0;\n",
       "\tborder-radius: 0.1rem;\n",
       "\tborder-style: solid;\n",
       "}\n",
       "\n",
       "span.hlup {\n",
       "\tborder-color: var(--hl-dark);\n",
       "\tborder-width: 0.1rem;\n",
       "\tborder-style: solid;\n",
       "\tborder-radius: 0.2rem;\n",
       "  padding: 0.2rem;\n",
       "}\n",
       "\n",
       ":root {\n",
       "\t--hl-strong:        hsla( 60, 100%,  70%, 0.9  );\n",
       "\t--hl-rim:           hsla( 55, 100%,  60%, 0.9  );\n",
       "\t--hl-dark:          hsla( 55, 100%,  40%, 0.9  );\n",
       "}\n",
       "</style>"
      ],
      "text/plain": [
       "<IPython.core.display.HTML object>"
      ]
     },
     "metadata": {},
     "output_type": "display_data"
    }
   ],
   "source": [
    "# standard & data science packages\n",
    "import collections\n",
    "import pandas as pd\n",
    "import numpy as np\n",
    "import matplotlib.pyplot as plt\n",
    "from matplotlib import rcParams\n",
    "rcParams['font.serif'] = ['SBL Biblit']\n",
    "import seaborn as sns\n",
    "from bidi.algorithm import get_display # bi-directional text support for plotting\n",
    "from paths import main_table, figs\n",
    "fig_path = figs.joinpath('distant_position/')\n",
    "\n",
    "# custom packages (see /tools)\n",
    "from tf_tools.load import load_tf\n",
    "from positions import Walker\n",
    "from stats.significance import contingency_table, apply_fishers\n",
    "from stats.pca import apply_pca\n",
    "\n",
    "# launch Text-Fabric with custom data\n",
    "TF, API, A = load_tf(features='domain',silent='deep')\n",
    "A.displaySetup(condenseType='phrase')\n",
    "F, E, T, L = A.api.F, A.api.E, A.api.T, A.api.L # corpus analysis methods\n",
    "\n",
    "# load and set up project dataset\n",
    "times_full = pd.read_csv(main_table, sep='\\t')\n",
    "times_full.set_index(['node'], inplace=True)\n",
    "times = times_full[~times_full.classi.str.contains('component')] # select singles"
   ]
  },
  {
   "cell_type": "markdown",
   "metadata": {},
   "source": [
    "## Isolate and examine distant positional adverbials"
   ]
  },
  {
   "cell_type": "code",
   "execution_count": 3,
   "metadata": {},
   "outputs": [
    {
     "data": {
      "text/plain": [
       "(311, 35)"
      ]
     },
     "execution_count": 3,
     "metadata": {},
     "output_type": "execute_result"
    }
   ],
   "source": [
    "distant_positions = times[(times.leading_prep == 'ב') & (times.demon_dist == 'far')]\n",
    "\n",
    "distant_positions.shape"
   ]
  },
  {
   "cell_type": "markdown",
   "metadata": {},
   "source": [
    "So we have 311 distant positional adverbials. We can look at a sampling:"
   ]
  },
  {
   "cell_type": "code",
   "execution_count": 4,
   "metadata": {},
   "outputs": [
    {
     "data": {
      "text/html": [
       "<div>\n",
       "<style scoped>\n",
       "    .dataframe tbody tr th:only-of-type {\n",
       "        vertical-align: middle;\n",
       "    }\n",
       "\n",
       "    .dataframe tbody tr th {\n",
       "        vertical-align: top;\n",
       "    }\n",
       "\n",
       "    .dataframe thead th {\n",
       "        text-align: right;\n",
       "    }\n",
       "</style>\n",
       "<table border=\"1\" class=\"dataframe\">\n",
       "  <thead>\n",
       "    <tr style=\"text-align: right;\">\n",
       "      <th></th>\n",
       "      <th>ref</th>\n",
       "      <th>text</th>\n",
       "      <th>clause</th>\n",
       "    </tr>\n",
       "    <tr>\n",
       "      <th>node</th>\n",
       "      <th></th>\n",
       "      <th></th>\n",
       "      <th></th>\n",
       "    </tr>\n",
       "  </thead>\n",
       "  <tbody>\n",
       "    <tr>\n",
       "      <th>1446905</th>\n",
       "      <td>Gen 15:18</td>\n",
       "      <td>בַּיֹּ֣ום הַה֗וּא</td>\n",
       "      <td>בַּיֹּ֣ום הַה֗וּא כָּרַ֧ת יְהוָ֛ה אֶת־אַבְרָ֖ם...</td>\n",
       "    </tr>\n",
       "    <tr>\n",
       "      <th>1446925</th>\n",
       "      <td>Gen 19:35</td>\n",
       "      <td>גַּ֣ם בַּלַּ֧יְלָה הַה֛וּא</td>\n",
       "      <td>וַתַּשְׁקֶ֜יןָ גַּ֣ם בַּלַּ֧יְלָה הַה֛וּא אֶת־...</td>\n",
       "    </tr>\n",
       "    <tr>\n",
       "      <th>1446934</th>\n",
       "      <td>Gen 21:22</td>\n",
       "      <td>בָּעֵ֣ת הַהִ֔וא</td>\n",
       "      <td>וַֽיְהִי֙ בָּעֵ֣ת הַהִ֔וא</td>\n",
       "    </tr>\n",
       "    <tr>\n",
       "      <th>1446960</th>\n",
       "      <td>Gen 26:12</td>\n",
       "      <td>בַּשָּׁנָ֥ה הַהִ֖וא</td>\n",
       "      <td>וַיִּמְצָ֛א בַּשָּׁנָ֥ה הַהִ֖וא מֵאָ֣ה שְׁעָרִ...</td>\n",
       "    </tr>\n",
       "    <tr>\n",
       "      <th>1446965</th>\n",
       "      <td>Gen 26:24</td>\n",
       "      <td>בַּלַּ֣יְלָה הַה֔וּא</td>\n",
       "      <td>וַיֵּרָ֨א אֵלָ֤יו יְהוָה֙ בַּלַּ֣יְלָה הַה֔וּא</td>\n",
       "    </tr>\n",
       "    <tr>\n",
       "      <th>1446967</th>\n",
       "      <td>Gen 26:32</td>\n",
       "      <td>בַּיֹּ֣ום הַה֗וּא</td>\n",
       "      <td>וַיְהִ֣י׀ בַּיֹּ֣ום הַה֗וּא</td>\n",
       "    </tr>\n",
       "    <tr>\n",
       "      <th>1447004</th>\n",
       "      <td>Gen 30:35</td>\n",
       "      <td>בַּיֹּום֩ הַה֨וּא</td>\n",
       "      <td>וַיָּ֣סַר בַּיֹּום֩ הַה֨וּא אֶת־הַתְּיָשִׁ֜ים ...</td>\n",
       "    </tr>\n",
       "    <tr>\n",
       "      <th>1447024</th>\n",
       "      <td>Gen 32:14</td>\n",
       "      <td>בַּלַּ֣יְלָה הַה֑וּא</td>\n",
       "      <td>וַיָּ֥לֶן שָׁ֖ם בַּלַּ֣יְלָה הַה֑וּא</td>\n",
       "    </tr>\n",
       "    <tr>\n",
       "      <th>1447026</th>\n",
       "      <td>Gen 32:22</td>\n",
       "      <td>בַּלַּֽיְלָה־הַה֖וּא</td>\n",
       "      <td>וְה֛וּא לָ֥ן בַּלַּֽיְלָה־הַה֖וּא בַּֽמַּחֲנֶֽה׃</td>\n",
       "    </tr>\n",
       "    <tr>\n",
       "      <th>1447033</th>\n",
       "      <td>Gen 33:16</td>\n",
       "      <td>בַּיֹּ֨ום הַה֥וּא</td>\n",
       "      <td>וַיָּשָׁב֩ בַּיֹּ֨ום הַה֥וּא עֵשָׂ֛ו לְדַרְכֹּ...</td>\n",
       "    </tr>\n",
       "    <tr>\n",
       "      <th>1447046</th>\n",
       "      <td>Gen 38:1</td>\n",
       "      <td>בָּעֵ֣ת הַהִ֔וא</td>\n",
       "      <td>וַֽיְהִי֙ בָּעֵ֣ת הַהִ֔וא</td>\n",
       "    </tr>\n",
       "    <tr>\n",
       "      <th>1447097</th>\n",
       "      <td>Gen 47:17</td>\n",
       "      <td>בַּשָּׁנָ֖ה הַהִֽוא׃</td>\n",
       "      <td>וַיְנַהֲלֵ֤ם בַּלֶּ֨חֶם֙ בְּכָל־מִקְנֵהֶ֔ם בַּ...</td>\n",
       "    </tr>\n",
       "    <tr>\n",
       "      <th>1447108</th>\n",
       "      <td>Gen 48:20</td>\n",
       "      <td>בַּיֹּ֣ום הַהוּא֮</td>\n",
       "      <td>וַיְבָ֨רֲכֵ֜ם בַּיֹּ֣ום הַהוּא֮</td>\n",
       "    </tr>\n",
       "    <tr>\n",
       "      <th>1447123</th>\n",
       "      <td>Exod 2:11</td>\n",
       "      <td>בַּיָּמִ֣ים הָהֵ֗ם</td>\n",
       "      <td>וַיְהִ֣י׀ בַּיָּמִ֣ים הָהֵ֗ם</td>\n",
       "    </tr>\n",
       "    <tr>\n",
       "      <th>1447139</th>\n",
       "      <td>Exod 5:6</td>\n",
       "      <td>בַּיֹּ֣ום הַה֑וּא</td>\n",
       "      <td>וַיְצַ֥ו פַּרְעֹ֖ה בַּיֹּ֣ום הַה֑וּא אֶת־הַנֹּ...</td>\n",
       "    </tr>\n",
       "    <tr>\n",
       "      <th>1447150</th>\n",
       "      <td>Exod 8:18</td>\n",
       "      <td>בַיֹּ֨ום הַה֜וּא</td>\n",
       "      <td>וְהִפְלֵיתִי֩ בַיֹּ֨ום הַה֜וּא אֶת־אֶ֣רֶץ גֹּ֗...</td>\n",
       "    </tr>\n",
       "    <tr>\n",
       "      <th>1447214</th>\n",
       "      <td>Exod 13:8</td>\n",
       "      <td>בַּיֹּ֥ום הַה֖וּא</td>\n",
       "      <td>וְהִגַּדְתָּ֣ לְבִנְךָ֔ בַּיֹּ֥ום הַה֖וּא</td>\n",
       "    </tr>\n",
       "    <tr>\n",
       "      <th>1447230</th>\n",
       "      <td>Exod 14:30</td>\n",
       "      <td>בַּיֹּ֥ום הַה֛וּא</td>\n",
       "      <td>וַיֹּ֨ושַׁע יְהוָ֜ה בַּיֹּ֥ום הַה֛וּא אֶת־יִשׂ...</td>\n",
       "    </tr>\n",
       "    <tr>\n",
       "      <th>1447330</th>\n",
       "      <td>Exod 32:28</td>\n",
       "      <td>בַּיֹּ֣ום הַה֔וּא</td>\n",
       "      <td>וַיִּפֹּ֤ל מִן־הָעָם֙ בַּיֹּ֣ום הַה֔וּא כִּשְׁ...</td>\n",
       "    </tr>\n",
       "    <tr>\n",
       "      <th>1447488</th>\n",
       "      <td>Lev 22:30</td>\n",
       "      <td>בַּיֹּ֤ום הַהוּא֙</td>\n",
       "      <td>בַּיֹּ֤ום הַהוּא֙ יֵאָכֵ֔ל</td>\n",
       "    </tr>\n",
       "    <tr>\n",
       "      <th>1447547</th>\n",
       "      <td>Lev 27:23</td>\n",
       "      <td>בַּיֹּ֣ום הַה֔וּא</td>\n",
       "      <td>וְנָתַ֤ן אֶת־הָעֶרְכְּךָ֙ בַּיֹּ֣ום הַה֔וּא</td>\n",
       "    </tr>\n",
       "    <tr>\n",
       "      <th>1447564</th>\n",
       "      <td>Num 6:11</td>\n",
       "      <td>בַּיֹּ֥ום הַהֽוּא׃</td>\n",
       "      <td>וְקִדַּ֥שׁ אֶת־רֹאשֹׁ֖ו בַּיֹּ֥ום הַהֽוּא׃</td>\n",
       "    </tr>\n",
       "    <tr>\n",
       "      <th>1447589</th>\n",
       "      <td>Num 9:6</td>\n",
       "      <td>בַּיֹּ֣ום הַה֑וּא</td>\n",
       "      <td>לַעֲשֹׂת־הַפֶּ֖סַח בַּיֹּ֣ום הַה֑וּא</td>\n",
       "    </tr>\n",
       "    <tr>\n",
       "      <th>1447590</th>\n",
       "      <td>Num 9:6</td>\n",
       "      <td>בַּיֹּ֥ום הַהֽוּא׃</td>\n",
       "      <td>וַֽיִּקְרְב֞וּ לִפְנֵ֥י מֹשֶׁ֛ה וְלִפְנֵ֥י אַה...</td>\n",
       "    </tr>\n",
       "    <tr>\n",
       "      <th>1447628</th>\n",
       "      <td>Num 14:1</td>\n",
       "      <td>בַּלַּ֥יְלָה הַהֽוּא׃</td>\n",
       "      <td>וַיִּבְכּ֥וּ הָעָ֖ם בַּלַּ֥יְלָה הַהֽוּא׃</td>\n",
       "    </tr>\n",
       "    <tr>\n",
       "      <th>1447673</th>\n",
       "      <td>Num 22:4</td>\n",
       "      <td>בָּעֵ֥ת הַהִֽוא׃</td>\n",
       "      <td>וּבָלָ֧ק בֶּן־צִפֹּ֛ור מֶ֥לֶךְ לְמֹואָ֖ב בָּעֵ...</td>\n",
       "    </tr>\n",
       "    <tr>\n",
       "      <th>1447735</th>\n",
       "      <td>Num 32:10</td>\n",
       "      <td>בַּיֹּ֣ום הַה֑וּא</td>\n",
       "      <td>וַיִּֽחַר־אַ֥ף יְהוָ֖ה בַּיֹּ֣ום הַה֑וּא</td>\n",
       "    </tr>\n",
       "    <tr>\n",
       "      <th>1447748</th>\n",
       "      <td>Deut 1:9</td>\n",
       "      <td>בָּעֵ֥ת הַהִ֖וא</td>\n",
       "      <td>וָאֹמַ֣ר אֲלֵכֶ֔ם בָּעֵ֥ת הַהִ֖וא</td>\n",
       "    </tr>\n",
       "    <tr>\n",
       "      <th>1447750</th>\n",
       "      <td>Deut 1:16</td>\n",
       "      <td>בָּעֵ֥ת הַהִ֖וא</td>\n",
       "      <td>וָאֲצַוֶּה֙ אֶת־שֹׁ֣פְטֵיכֶ֔ם בָּעֵ֥ת הַהִ֖וא</td>\n",
       "    </tr>\n",
       "    <tr>\n",
       "      <th>1447751</th>\n",
       "      <td>Deut 1:18</td>\n",
       "      <td>בָּעֵ֣ת הַהִ֑וא</td>\n",
       "      <td>וָאֲצַוֶּ֥ה אֶתְכֶ֖ם בָּעֵ֣ת הַהִ֑וא אֵ֥ת כָּל...</td>\n",
       "    </tr>\n",
       "    <tr>\n",
       "      <th>1447764</th>\n",
       "      <td>Deut 2:34</td>\n",
       "      <td>בָּעֵ֣ת הַהִ֔וא</td>\n",
       "      <td>וַנִּלְכֹּ֤ד אֶת־כָּל־עָרָיו֙ בָּעֵ֣ת הַהִ֔וא</td>\n",
       "    </tr>\n",
       "    <tr>\n",
       "      <th>1447765</th>\n",
       "      <td>Deut 3:4</td>\n",
       "      <td>בָּעֵ֣ת הַהִ֔וא</td>\n",
       "      <td>וַנִּלְכֹּ֤ד אֶת־כָּל־עָרָיו֙ בָּעֵ֣ת הַהִ֔וא</td>\n",
       "    </tr>\n",
       "    <tr>\n",
       "      <th>1447766</th>\n",
       "      <td>Deut 3:8</td>\n",
       "      <td>בָּעֵ֤ת הַהִוא֙</td>\n",
       "      <td>וַנִּקַּ֞ח בָּעֵ֤ת הַהִוא֙ אֶת־הָאָ֔רֶץ מִיַּ֗...</td>\n",
       "    </tr>\n",
       "    <tr>\n",
       "      <th>1447767</th>\n",
       "      <td>Deut 3:12</td>\n",
       "      <td>בָּעֵ֣ת הַהִ֑וא</td>\n",
       "      <td>וְאֶת־הָאָ֧רֶץ הַזֹּ֛את יָרַ֖שְׁנוּ בָּעֵ֣ת הַ...</td>\n",
       "    </tr>\n",
       "    <tr>\n",
       "      <th>1447769</th>\n",
       "      <td>Deut 3:18</td>\n",
       "      <td>בָּעֵ֥ת הַהִ֖וא</td>\n",
       "      <td>וָאֲצַ֣ו אֶתְכֶ֔ם בָּעֵ֥ת הַהִ֖וא</td>\n",
       "    </tr>\n",
       "    <tr>\n",
       "      <th>1447770</th>\n",
       "      <td>Deut 3:21</td>\n",
       "      <td>בָּעֵ֥ת הַהִ֖וא</td>\n",
       "      <td>וְאֶת־יְהֹושׁ֣וּעַ צִוֵּ֔יתִי בָּעֵ֥ת הַהִ֖וא</td>\n",
       "    </tr>\n",
       "    <tr>\n",
       "      <th>1447771</th>\n",
       "      <td>Deut 3:23</td>\n",
       "      <td>בָּעֵ֥ת הַהִ֖וא</td>\n",
       "      <td>וָאֶתְחַנַּ֖ן אֶל־יְהוָ֑ה בָּעֵ֥ת הַהִ֖וא</td>\n",
       "    </tr>\n",
       "    <tr>\n",
       "      <th>1447778</th>\n",
       "      <td>Deut 4:14</td>\n",
       "      <td>בָּעֵ֣ת הַהִ֔וא</td>\n",
       "      <td>וְאֹתִ֞י צִוָּ֤ה יְהוָה֙ בָּעֵ֣ת הַהִ֔וא</td>\n",
       "    </tr>\n",
       "    <tr>\n",
       "      <th>1447790</th>\n",
       "      <td>Deut 5:5</td>\n",
       "      <td>בָּעֵ֣ת הַהִ֔וא</td>\n",
       "      <td>אָ֠נֹכִי עֹמֵ֨ד בֵּין־יְהוָ֤ה וּבֵֽינֵיכֶם֙ בּ...</td>\n",
       "    </tr>\n",
       "    <tr>\n",
       "      <th>1447821</th>\n",
       "      <td>Deut 9:20</td>\n",
       "      <td>בָּעֵ֥ת הַהִֽוא׃</td>\n",
       "      <td>וָֽאֶתְפַּלֵּ֛ל גַּם־בְּעַ֥ד אַהֲרֹ֖ן בָּעֵ֥ת ...</td>\n",
       "    </tr>\n",
       "  </tbody>\n",
       "</table>\n",
       "</div>"
      ],
      "text/plain": [
       "                ref                         text  \\\n",
       "node                                               \n",
       "1446905   Gen 15:18           בַּיֹּ֣ום הַה֗וּא    \n",
       "1446925   Gen 19:35  גַּ֣ם בַּלַּ֧יְלָה הַה֛וּא    \n",
       "1446934   Gen 21:22             בָּעֵ֣ת הַהִ֔וא    \n",
       "1446960   Gen 26:12         בַּשָּׁנָ֥ה הַהִ֖וא    \n",
       "1446965   Gen 26:24        בַּלַּ֣יְלָה הַה֔וּא    \n",
       "1446967   Gen 26:32           בַּיֹּ֣ום הַה֗וּא    \n",
       "1447004   Gen 30:35           בַּיֹּום֩ הַה֨וּא    \n",
       "1447024   Gen 32:14        בַּלַּ֣יְלָה הַה֑וּא    \n",
       "1447026   Gen 32:22        בַּלַּֽיְלָה־הַה֖וּא    \n",
       "1447033   Gen 33:16           בַּיֹּ֨ום הַה֥וּא    \n",
       "1447046    Gen 38:1             בָּעֵ֣ת הַהִ֔וא    \n",
       "1447097   Gen 47:17        בַּשָּׁנָ֖ה הַהִֽוא׃    \n",
       "1447108   Gen 48:20           בַּיֹּ֣ום הַהוּא֮    \n",
       "1447123   Exod 2:11          בַּיָּמִ֣ים הָהֵ֗ם    \n",
       "1447139    Exod 5:6           בַּיֹּ֣ום הַה֑וּא    \n",
       "1447150   Exod 8:18            בַיֹּ֨ום הַה֜וּא    \n",
       "1447214   Exod 13:8           בַּיֹּ֥ום הַה֖וּא    \n",
       "1447230  Exod 14:30           בַּיֹּ֥ום הַה֛וּא    \n",
       "1447330  Exod 32:28           בַּיֹּ֣ום הַה֔וּא    \n",
       "1447488   Lev 22:30           בַּיֹּ֤ום הַהוּא֙    \n",
       "1447547   Lev 27:23           בַּיֹּ֣ום הַה֔וּא    \n",
       "1447564    Num 6:11          בַּיֹּ֥ום הַהֽוּא׃    \n",
       "1447589     Num 9:6           בַּיֹּ֣ום הַה֑וּא    \n",
       "1447590     Num 9:6          בַּיֹּ֥ום הַהֽוּא׃    \n",
       "1447628    Num 14:1       בַּלַּ֥יְלָה הַהֽוּא׃    \n",
       "1447673    Num 22:4            בָּעֵ֥ת הַהִֽוא׃    \n",
       "1447735   Num 32:10           בַּיֹּ֣ום הַה֑וּא    \n",
       "1447748    Deut 1:9             בָּעֵ֥ת הַהִ֖וא    \n",
       "1447750   Deut 1:16             בָּעֵ֥ת הַהִ֖וא    \n",
       "1447751   Deut 1:18             בָּעֵ֣ת הַהִ֑וא    \n",
       "1447764   Deut 2:34             בָּעֵ֣ת הַהִ֔וא    \n",
       "1447765    Deut 3:4             בָּעֵ֣ת הַהִ֔וא    \n",
       "1447766    Deut 3:8             בָּעֵ֤ת הַהִוא֙    \n",
       "1447767   Deut 3:12             בָּעֵ֣ת הַהִ֑וא    \n",
       "1447769   Deut 3:18             בָּעֵ֥ת הַהִ֖וא    \n",
       "1447770   Deut 3:21             בָּעֵ֥ת הַהִ֖וא    \n",
       "1447771   Deut 3:23             בָּעֵ֥ת הַהִ֖וא    \n",
       "1447778   Deut 4:14             בָּעֵ֣ת הַהִ֔וא    \n",
       "1447790    Deut 5:5             בָּעֵ֣ת הַהִ֔וא    \n",
       "1447821   Deut 9:20            בָּעֵ֥ת הַהִֽוא׃    \n",
       "\n",
       "                                                    clause  \n",
       "node                                                        \n",
       "1446905  בַּיֹּ֣ום הַה֗וּא כָּרַ֧ת יְהוָ֛ה אֶת־אַבְרָ֖ם...  \n",
       "1446925  וַתַּשְׁקֶ֜יןָ גַּ֣ם בַּלַּ֧יְלָה הַה֛וּא אֶת־...  \n",
       "1446934                         וַֽיְהִי֙ בָּעֵ֣ת הַהִ֔וא   \n",
       "1446960  וַיִּמְצָ֛א בַּשָּׁנָ֥ה הַהִ֖וא מֵאָ֣ה שְׁעָרִ...  \n",
       "1446965    וַיֵּרָ֨א אֵלָ֤יו יְהוָה֙ בַּלַּ֣יְלָה הַה֔וּא   \n",
       "1446967                       וַיְהִ֣י׀ בַּיֹּ֣ום הַה֗וּא   \n",
       "1447004  וַיָּ֣סַר בַּיֹּום֩ הַה֨וּא אֶת־הַתְּיָשִׁ֜ים ...  \n",
       "1447024              וַיָּ֥לֶן שָׁ֖ם בַּלַּ֣יְלָה הַה֑וּא   \n",
       "1447026  וְה֛וּא לָ֥ן בַּלַּֽיְלָה־הַה֖וּא בַּֽמַּחֲנֶֽה׃   \n",
       "1447033  וַיָּשָׁב֩ בַּיֹּ֨ום הַה֥וּא עֵשָׂ֛ו לְדַרְכֹּ...  \n",
       "1447046                         וַֽיְהִי֙ בָּעֵ֣ת הַהִ֔וא   \n",
       "1447097  וַיְנַהֲלֵ֤ם בַּלֶּ֨חֶם֙ בְּכָל־מִקְנֵהֶ֔ם בַּ...  \n",
       "1447108                   וַיְבָ֨רֲכֵ֜ם בַּיֹּ֣ום הַהוּא֮   \n",
       "1447123                      וַיְהִ֣י׀ בַּיָּמִ֣ים הָהֵ֗ם   \n",
       "1447139  וַיְצַ֥ו פַּרְעֹ֖ה בַּיֹּ֣ום הַה֑וּא אֶת־הַנֹּ...  \n",
       "1447150  וְהִפְלֵיתִי֩ בַיֹּ֨ום הַה֜וּא אֶת־אֶ֣רֶץ גֹּ֗...  \n",
       "1447214         וְהִגַּדְתָּ֣ לְבִנְךָ֔ בַּיֹּ֥ום הַה֖וּא   \n",
       "1447230  וַיֹּ֨ושַׁע יְהוָ֜ה בַּיֹּ֥ום הַה֛וּא אֶת־יִשׂ...  \n",
       "1447330  וַיִּפֹּ֤ל מִן־הָעָם֙ בַּיֹּ֣ום הַה֔וּא כִּשְׁ...  \n",
       "1447488                        בַּיֹּ֤ום הַהוּא֙ יֵאָכֵ֔ל   \n",
       "1447547       וְנָתַ֤ן אֶת־הָעֶרְכְּךָ֙ בַּיֹּ֣ום הַה֔וּא   \n",
       "1447564        וְקִדַּ֥שׁ אֶת־רֹאשֹׁ֖ו בַּיֹּ֥ום הַהֽוּא׃   \n",
       "1447589              לַעֲשֹׂת־הַפֶּ֖סַח בַּיֹּ֣ום הַה֑וּא   \n",
       "1447590  וַֽיִּקְרְב֞וּ לִפְנֵ֥י מֹשֶׁ֛ה וְלִפְנֵ֥י אַה...  \n",
       "1447628         וַיִּבְכּ֥וּ הָעָ֖ם בַּלַּ֥יְלָה הַהֽוּא׃   \n",
       "1447673  וּבָלָ֧ק בֶּן־צִפֹּ֛ור מֶ֥לֶךְ לְמֹואָ֖ב בָּעֵ...  \n",
       "1447735          וַיִּֽחַר־אַ֥ף יְהוָ֖ה בַּיֹּ֣ום הַה֑וּא   \n",
       "1447748                 וָאֹמַ֣ר אֲלֵכֶ֔ם בָּעֵ֥ת הַהִ֖וא   \n",
       "1447750     וָאֲצַוֶּה֙ אֶת־שֹׁ֣פְטֵיכֶ֔ם בָּעֵ֥ת הַהִ֖וא   \n",
       "1447751  וָאֲצַוֶּ֥ה אֶתְכֶ֖ם בָּעֵ֣ת הַהִ֑וא אֵ֥ת כָּל...  \n",
       "1447764     וַנִּלְכֹּ֤ד אֶת־כָּל־עָרָיו֙ בָּעֵ֣ת הַהִ֔וא   \n",
       "1447765     וַנִּלְכֹּ֤ד אֶת־כָּל־עָרָיו֙ בָּעֵ֣ת הַהִ֔וא   \n",
       "1447766  וַנִּקַּ֞ח בָּעֵ֤ת הַהִוא֙ אֶת־הָאָ֔רֶץ מִיַּ֗...  \n",
       "1447767  וְאֶת־הָאָ֧רֶץ הַזֹּ֛את יָרַ֖שְׁנוּ בָּעֵ֣ת הַ...  \n",
       "1447769                 וָאֲצַ֣ו אֶתְכֶ֔ם בָּעֵ֥ת הַהִ֖וא   \n",
       "1447770     וְאֶת־יְהֹושׁ֣וּעַ צִוֵּ֔יתִי בָּעֵ֥ת הַהִ֖וא   \n",
       "1447771         וָאֶתְחַנַּ֖ן אֶל־יְהוָ֑ה בָּעֵ֥ת הַהִ֖וא   \n",
       "1447778          וְאֹתִ֞י צִוָּ֤ה יְהוָה֙ בָּעֵ֣ת הַהִ֔וא   \n",
       "1447790  אָ֠נֹכִי עֹמֵ֨ד בֵּין־יְהוָ֤ה וּבֵֽינֵיכֶם֙ בּ...  \n",
       "1447821  וָֽאֶתְפַּלֵּ֛ל גַּם־בְּעַ֥ד אַהֲרֹ֖ן בָּעֵ֥ת ...  "
      ]
     },
     "execution_count": 4,
     "metadata": {},
     "output_type": "execute_result"
    }
   ],
   "source": [
    "distant_positions[['ref', 'text', 'clause']].head(40)"
   ]
  },
  {
   "cell_type": "markdown",
   "metadata": {},
   "source": [
    "We will also make one additional requirement: we only want those cases where the main verb tense is not infinitival or imperatival."
   ]
  },
  {
   "cell_type": "code",
   "execution_count": 5,
   "metadata": {},
   "outputs": [
    {
     "data": {
      "text/plain": [
       "(298, 35)"
      ]
     },
     "execution_count": 5,
     "metadata": {},
     "output_type": "execute_result"
    }
   ],
   "source": [
    "dist_data = distant_positions[distant_positions.tense.isin(['wyqtl', 'yqtl', 'qtl', 'wqtl', 'ptcp'])]\n",
    "\n",
    "dist_data.shape"
   ]
  },
  {
   "cell_type": "markdown",
   "metadata": {},
   "source": [
    "We've still kept a large sample of the data. That is good."
   ]
  },
  {
   "cell_type": "markdown",
   "metadata": {},
   "source": [
    "## Context-based clustering \n",
    "\n",
    "We now have ~300 cases of distant positional adverbials ready for processing. Instead of classifying each one as \"future\" or \"past\", we want the adverbials to \"tell us\" where they belong based on the types of contexts they appear in.\n",
    "\n",
    "In order to do this, we'll collect data about the kinds of verbs which occur within the passage of a given target adverbial. We can use a contextual window to do this. In such a case, we will collect 5 verbs on either side of the adverbial. The verbs should come from independent clauses (e.g. not relative clauses). We can use the BHSA data to exclude dependent clauses. In some cases we may not have enough data for a given context, for instance if an adverbial occurs towards the end of a book. We can temporarily set these cases aside."
   ]
  },
  {
   "cell_type": "code",
   "execution_count": 6,
   "metadata": {},
   "outputs": [],
   "source": [
    "def good_clause(clause):\n",
    "    \"\"\"Validate verbal, independent, clauses\"\"\"\n",
    "    requirements = [\n",
    "        F.rela.v(clause) == 'NA',\n",
    "        F.kind.v(clause) == 'VC',\n",
    "    ]\n",
    "    if all(requirements):\n",
    "        return clause\n",
    "    \n",
    "#class go_decider:\n",
    "#    def __init__(self, start_clause):\n",
    "#        self.domain = F.domain.v(start_clause)\n",
    "#    def keep_walking(self, clause):\n",
    "#        \"\"\"Decide whether to continue with a walk.\n",
    "#    \n",
    "#        Walks will be stopped when quotation boundary crossed\n",
    "#        \"\"\"\n",
    "#        if self.domain == 'Q' and F.domain.v(clause) != 'Q':\n",
    "#            return False\n",
    "#        elif self.domain != 'Q' and F.domain.v(clause) == 'Q':\n",
    "#            return False\n",
    "#        else:\n",
    "#            return True"
   ]
  },
  {
   "cell_type": "code",
   "execution_count": 9,
   "metadata": {},
   "outputs": [],
   "source": [
    "contexts = {}\n",
    "bad_contexts = {}\n",
    "quotations = 0\n",
    "\n",
    "for ta in dist_data.index:\n",
    "    ta_clause = L.u(ta,'clause')[0]\n",
    "    book = L.u(ta,'book')[0]\n",
    "    book_clauses = L.d(book,'clause')\n",
    "    wk = Walker(ta_clause, book_clauses)\n",
    "    \n",
    "    context = []\n",
    "    window = 3\n",
    "    for direction in (wk.back, wk.ahead):\n",
    "        direction_clauses = []\n",
    "        for cl in direction(good_clause, every=True, go=lambda a: True):\n",
    "            if len(direction_clauses) < window:\n",
    "                direction_clauses.append(cl)\n",
    "            else:\n",
    "                context.extend(direction_clauses)\n",
    "                break\n",
    "                \n",
    "    if len(context) == window*2:\n",
    "        # check contexts for quotation bounds\n",
    "        domains = set(F.domain.v(cl) for cl in context)\n",
    "        if 'Q' in domains and domains.issubset({'Q'}):\n",
    "            contexts[ta] = context\n",
    "            quotations += 1\n",
    "        elif 'Q' in domains:\n",
    "            bad_contexts[ta] = context\n",
    "        else:\n",
    "            contexts[ta] = context\n",
    "    else:\n",
    "        bad_contexts[ta] = context"
   ]
  },
  {
   "cell_type": "code",
   "execution_count": 11,
   "metadata": {},
   "outputs": [
    {
     "name": "stdout",
     "output_type": "stream",
     "text": [
      "87 quotations logged\n"
     ]
    }
   ],
   "source": [
    "print(f'{quotations} quotations logged')"
   ]
  },
  {
   "cell_type": "code",
   "execution_count": 12,
   "metadata": {},
   "outputs": [
    {
     "data": {
      "text/plain": [
       "163"
      ]
     },
     "execution_count": 12,
     "metadata": {},
     "output_type": "execute_result"
    }
   ],
   "source": [
    "len(contexts)"
   ]
  },
  {
   "cell_type": "code",
   "execution_count": 13,
   "metadata": {},
   "outputs": [
    {
     "data": {
      "text/plain": [
       "135"
      ]
     },
     "execution_count": 13,
     "metadata": {},
     "output_type": "execute_result"
    }
   ],
   "source": [
    "len(bad_contexts)"
   ]
  },
  {
   "cell_type": "code",
   "execution_count": 14,
   "metadata": {},
   "outputs": [
    {
     "data": {
      "text/plain": [
       "dict_keys([1446967, 1447150, 1447214, 1447230, 1447488, 1447547, 1447564, 1447748, 1447764, 1447766, 1447767, 1447790, 1447821, 1447824, 1447910, 1447947, 1447948, 1447949, 1448009, 1448021, 1448036, 1448038, 1448041, 1448057, 1448070, 1448073, 1448074, 1448078, 1448081, 1448156, 1448159, 1448207, 1448219, 1448280, 1448298, 1448310, 1448311, 1448317, 1448342, 1448353, 1448362, 1448363, 1448367, 1448431, 1448465, 1448490, 1448568, 1448584, 1448596, 1448714, 1448715, 1448769, 1448850, 1448851, 1448878, 1448994, 1449042, 1449106, 1449110, 1449159, 1449178, 1449179, 1449183, 1449199, 1449200, 1449201, 1449202, 1449212, 1449214, 1449217, 1449233, 1449234, 1449240, 1449241, 1449242, 1449243, 1449244, 1449251, 1449253, 1449255, 1449256, 1449262, 1449266, 1449267, 1449277, 1449278, 1449279, 1449286, 1449290, 1449294, 1449462, 1449465, 1449467, 1449469, 1449470, 1449474, 1449557, 1449574, 1449577, 1449609, 1449640, 1449641, 1449662, 1449666, 1449667, 1449673, 1449759, 1449766, 1449767, 1449783, 1449827, 1449828, 1449832, 1449835, 1449857, 1449887, 1449890, 1449892, 1449939, 1449946, 1449950, 1449961, 1449964, 1449966, 1449990, 1450001, 1450024, 1450025, 1450026, 1450033, 1450037, 1450062, 1450075, 1450090, 1450091, 1450092, 1450094, 1450095, 1450096, 1450106, 1450108, 1450110, 1450112, 1450114, 1450440, 1450690, 1450765, 1450772, 1450774, 1450800, 1450868, 1450902, 1450903, 1450906, 1451029, 1451093, 1451100, 1451137, 1451167, 1451174, 1451203, 1451220, 1451221])"
      ]
     },
     "execution_count": 14,
     "metadata": {},
     "output_type": "execute_result"
    }
   ],
   "source": [
    "contexts.keys()"
   ]
  },
  {
   "cell_type": "code",
   "execution_count": 18,
   "metadata": {},
   "outputs": [],
   "source": [
    "context_counts = collections.defaultdict(lambda:collections.Counter())\n",
    "\n",
    "for ta, context in contexts.items():\n",
    "    for cl in context:\n",
    "        # get pred phrases for verbs\n",
    "        preds = [ph for ph in L.d(cl, 'phrase') if F.function.v(ph) in {'Pred','PreO','PreS'}]\n",
    "        verbs = [w for w in L.d(cl,'word') if F.pdp.v(w) == 'verb']\n",
    "        if preds:\n",
    "            verb = next(w for w in L.d(preds[0],'word') if F.pdp.v(w) == 'verb')\n",
    "        else:\n",
    "            verb = next(iter(verbs))\n",
    "        tense = F.vt.v(verb)\n",
    "        if not tense.startswith('inf'):\n",
    "            context_counts[ta][tense] += 1"
   ]
  },
  {
   "cell_type": "code",
   "execution_count": 19,
   "metadata": {},
   "outputs": [
    {
     "data": {
      "text/plain": [
       "Counter({'wqtl': 3, 'impv': 1, 'qtl': 2})"
      ]
     },
     "execution_count": 19,
     "metadata": {},
     "output_type": "execute_result"
    }
   ],
   "source": [
    "context_counts[1450025]"
   ]
  },
  {
   "cell_type": "code",
   "execution_count": 20,
   "metadata": {},
   "outputs": [
    {
     "data": {
      "text/html": [
       "<div>\n",
       "<style scoped>\n",
       "    .dataframe tbody tr th:only-of-type {\n",
       "        vertical-align: middle;\n",
       "    }\n",
       "\n",
       "    .dataframe tbody tr th {\n",
       "        vertical-align: top;\n",
       "    }\n",
       "\n",
       "    .dataframe thead th {\n",
       "        text-align: right;\n",
       "    }\n",
       "</style>\n",
       "<table border=\"1\" class=\"dataframe\">\n",
       "  <thead>\n",
       "    <tr style=\"text-align: right;\">\n",
       "      <th></th>\n",
       "      <th>wyqtl</th>\n",
       "      <th>wqtl</th>\n",
       "      <th>ptca</th>\n",
       "      <th>yqtl</th>\n",
       "      <th>qtl</th>\n",
       "      <th>impv</th>\n",
       "      <th>ptcp</th>\n",
       "    </tr>\n",
       "  </thead>\n",
       "  <tbody>\n",
       "    <tr>\n",
       "      <th>1446967</th>\n",
       "      <td>6.0</td>\n",
       "      <td>0.0</td>\n",
       "      <td>0.0</td>\n",
       "      <td>0.0</td>\n",
       "      <td>0.0</td>\n",
       "      <td>0.0</td>\n",
       "      <td>0.0</td>\n",
       "    </tr>\n",
       "    <tr>\n",
       "      <th>1447230</th>\n",
       "      <td>4.0</td>\n",
       "      <td>0.0</td>\n",
       "      <td>0.0</td>\n",
       "      <td>0.0</td>\n",
       "      <td>2.0</td>\n",
       "      <td>0.0</td>\n",
       "      <td>0.0</td>\n",
       "    </tr>\n",
       "    <tr>\n",
       "      <th>1447764</th>\n",
       "      <td>4.0</td>\n",
       "      <td>0.0</td>\n",
       "      <td>0.0</td>\n",
       "      <td>0.0</td>\n",
       "      <td>2.0</td>\n",
       "      <td>0.0</td>\n",
       "      <td>0.0</td>\n",
       "    </tr>\n",
       "    <tr>\n",
       "      <th>1447766</th>\n",
       "      <td>1.0</td>\n",
       "      <td>0.0</td>\n",
       "      <td>0.0</td>\n",
       "      <td>2.0</td>\n",
       "      <td>2.0</td>\n",
       "      <td>0.0</td>\n",
       "      <td>0.0</td>\n",
       "    </tr>\n",
       "    <tr>\n",
       "      <th>1447821</th>\n",
       "      <td>3.0</td>\n",
       "      <td>0.0</td>\n",
       "      <td>0.0</td>\n",
       "      <td>0.0</td>\n",
       "      <td>3.0</td>\n",
       "      <td>0.0</td>\n",
       "      <td>0.0</td>\n",
       "    </tr>\n",
       "  </tbody>\n",
       "</table>\n",
       "</div>"
      ],
      "text/plain": [
       "         wyqtl  wqtl  ptca  yqtl  qtl  impv  ptcp\n",
       "1446967    6.0   0.0   0.0   0.0  0.0   0.0   0.0\n",
       "1447230    4.0   0.0   0.0   0.0  2.0   0.0   0.0\n",
       "1447764    4.0   0.0   0.0   0.0  2.0   0.0   0.0\n",
       "1447766    1.0   0.0   0.0   2.0  2.0   0.0   0.0\n",
       "1447821    3.0   0.0   0.0   0.0  3.0   0.0   0.0"
      ]
     },
     "execution_count": 20,
     "metadata": {},
     "output_type": "execute_result"
    }
   ],
   "source": [
    "con_counts = pd.DataFrame.from_dict(context_counts, orient='index').fillna(0)\n",
    "\n",
    "con_counts.head()"
   ]
  },
  {
   "cell_type": "code",
   "execution_count": 21,
   "metadata": {},
   "outputs": [
    {
     "data": {
      "text/plain": [
       "(163, 7)"
      ]
     },
     "execution_count": 21,
     "metadata": {},
     "output_type": "execute_result"
    }
   ],
   "source": [
    "con_counts.shape"
   ]
  },
  {
   "cell_type": "markdown",
   "metadata": {},
   "source": [
    "Now we normalize the counts with a simple ratio."
   ]
  },
  {
   "cell_type": "code",
   "execution_count": 22,
   "metadata": {},
   "outputs": [
    {
     "data": {
      "text/html": [
       "<div>\n",
       "<style scoped>\n",
       "    .dataframe tbody tr th:only-of-type {\n",
       "        vertical-align: middle;\n",
       "    }\n",
       "\n",
       "    .dataframe tbody tr th {\n",
       "        vertical-align: top;\n",
       "    }\n",
       "\n",
       "    .dataframe thead th {\n",
       "        text-align: right;\n",
       "    }\n",
       "</style>\n",
       "<table border=\"1\" class=\"dataframe\">\n",
       "  <thead>\n",
       "    <tr style=\"text-align: right;\">\n",
       "      <th></th>\n",
       "      <th>wyqtl</th>\n",
       "      <th>wqtl</th>\n",
       "      <th>ptca</th>\n",
       "      <th>yqtl</th>\n",
       "      <th>qtl</th>\n",
       "      <th>impv</th>\n",
       "      <th>ptcp</th>\n",
       "    </tr>\n",
       "  </thead>\n",
       "  <tbody>\n",
       "    <tr>\n",
       "      <th>1446967</th>\n",
       "      <td>1.000000</td>\n",
       "      <td>0.0</td>\n",
       "      <td>0.0</td>\n",
       "      <td>0.0</td>\n",
       "      <td>0.000000</td>\n",
       "      <td>0.0</td>\n",
       "      <td>0.0</td>\n",
       "    </tr>\n",
       "    <tr>\n",
       "      <th>1447230</th>\n",
       "      <td>0.666667</td>\n",
       "      <td>0.0</td>\n",
       "      <td>0.0</td>\n",
       "      <td>0.0</td>\n",
       "      <td>0.333333</td>\n",
       "      <td>0.0</td>\n",
       "      <td>0.0</td>\n",
       "    </tr>\n",
       "    <tr>\n",
       "      <th>1447764</th>\n",
       "      <td>0.666667</td>\n",
       "      <td>0.0</td>\n",
       "      <td>0.0</td>\n",
       "      <td>0.0</td>\n",
       "      <td>0.333333</td>\n",
       "      <td>0.0</td>\n",
       "      <td>0.0</td>\n",
       "    </tr>\n",
       "    <tr>\n",
       "      <th>1447766</th>\n",
       "      <td>0.200000</td>\n",
       "      <td>0.0</td>\n",
       "      <td>0.0</td>\n",
       "      <td>0.4</td>\n",
       "      <td>0.400000</td>\n",
       "      <td>0.0</td>\n",
       "      <td>0.0</td>\n",
       "    </tr>\n",
       "    <tr>\n",
       "      <th>1447821</th>\n",
       "      <td>0.500000</td>\n",
       "      <td>0.0</td>\n",
       "      <td>0.0</td>\n",
       "      <td>0.0</td>\n",
       "      <td>0.500000</td>\n",
       "      <td>0.0</td>\n",
       "      <td>0.0</td>\n",
       "    </tr>\n",
       "  </tbody>\n",
       "</table>\n",
       "</div>"
      ],
      "text/plain": [
       "            wyqtl  wqtl  ptca  yqtl       qtl  impv  ptcp\n",
       "1446967  1.000000   0.0   0.0   0.0  0.000000   0.0   0.0\n",
       "1447230  0.666667   0.0   0.0   0.0  0.333333   0.0   0.0\n",
       "1447764  0.666667   0.0   0.0   0.0  0.333333   0.0   0.0\n",
       "1447766  0.200000   0.0   0.0   0.4  0.400000   0.0   0.0\n",
       "1447821  0.500000   0.0   0.0   0.0  0.500000   0.0   0.0"
      ]
     },
     "execution_count": 22,
     "metadata": {},
     "output_type": "execute_result"
    }
   ],
   "source": [
    "con_ratios = con_counts.div(con_counts.sum(1), axis=0)\n",
    "\n",
    "con_ratios.head()"
   ]
  },
  {
   "cell_type": "markdown",
   "metadata": {},
   "source": [
    "## Principle Component Cluster"
   ]
  },
  {
   "cell_type": "code",
   "execution_count": 26,
   "metadata": {},
   "outputs": [
    {
     "data": {
      "image/png": "[encoded data removed]",
      "text/plain": [
       "<Figure size 576x432 with 1 Axes>"
      ]
     },
     "metadata": {
      "needs_background": "light"
     },
     "output_type": "display_data"
    }
   ],
   "source": [
    "components, loadings = apply_pca(con_ratios, 0, 1)"
   ]
  },
  {
   "cell_type": "code",
   "execution_count": 29,
   "metadata": {},
   "outputs": [
    {
     "data": {
      "text/html": [
       "<div>\n",
       "<style scoped>\n",
       "    .dataframe tbody tr th:only-of-type {\n",
       "        vertical-align: middle;\n",
       "    }\n",
       "\n",
       "    .dataframe tbody tr th {\n",
       "        vertical-align: top;\n",
       "    }\n",
       "\n",
       "    .dataframe thead th {\n",
       "        text-align: right;\n",
       "    }\n",
       "</style>\n",
       "<table border=\"1\" class=\"dataframe\">\n",
       "  <thead>\n",
       "    <tr style=\"text-align: right;\">\n",
       "      <th></th>\n",
       "      <th>PC1</th>\n",
       "      <th>PC2</th>\n",
       "      <th>PC3</th>\n",
       "      <th>PC4</th>\n",
       "      <th>PC5</th>\n",
       "      <th>PC6</th>\n",
       "      <th>PC7</th>\n",
       "    </tr>\n",
       "  </thead>\n",
       "  <tbody>\n",
       "    <tr>\n",
       "      <th>1446967</th>\n",
       "      <td>0.758548</td>\n",
       "      <td>-0.383174</td>\n",
       "      <td>-0.109888</td>\n",
       "      <td>-0.061601</td>\n",
       "      <td>0.015624</td>\n",
       "      <td>-0.000605</td>\n",
       "      <td>-8.613452e-17</td>\n",
       "    </tr>\n",
       "    <tr>\n",
       "      <th>1447230</th>\n",
       "      <td>0.542203</td>\n",
       "      <td>0.015954</td>\n",
       "      <td>0.014583</td>\n",
       "      <td>-0.069455</td>\n",
       "      <td>-0.008016</td>\n",
       "      <td>-0.001123</td>\n",
       "      <td>-2.368447e-17</td>\n",
       "    </tr>\n",
       "    <tr>\n",
       "      <th>1447764</th>\n",
       "      <td>0.542203</td>\n",
       "      <td>0.015954</td>\n",
       "      <td>0.014583</td>\n",
       "      <td>-0.069455</td>\n",
       "      <td>-0.008016</td>\n",
       "      <td>-0.001123</td>\n",
       "      <td>-2.368447e-17</td>\n",
       "    </tr>\n",
       "    <tr>\n",
       "      <th>1447766</th>\n",
       "      <td>-0.008785</td>\n",
       "      <td>0.221329</td>\n",
       "      <td>-0.175919</td>\n",
       "      <td>-0.071653</td>\n",
       "      <td>-0.020637</td>\n",
       "      <td>-0.000282</td>\n",
       "      <td>4.743919e-17</td>\n",
       "    </tr>\n",
       "    <tr>\n",
       "      <th>1447821</th>\n",
       "      <td>0.434030</td>\n",
       "      <td>0.215519</td>\n",
       "      <td>0.076818</td>\n",
       "      <td>-0.073382</td>\n",
       "      <td>-0.019836</td>\n",
       "      <td>-0.001381</td>\n",
       "      <td>6.305170e-17</td>\n",
       "    </tr>\n",
       "  </tbody>\n",
       "</table>\n",
       "</div>"
      ],
      "text/plain": [
       "              PC1       PC2       PC3       PC4       PC5       PC6  \\\n",
       "1446967  0.758548 -0.383174 -0.109888 -0.061601  0.015624 -0.000605   \n",
       "1447230  0.542203  0.015954  0.014583 -0.069455 -0.008016 -0.001123   \n",
       "1447764  0.542203  0.015954  0.014583 -0.069455 -0.008016 -0.001123   \n",
       "1447766 -0.008785  0.221329 -0.175919 -0.071653 -0.020637 -0.000282   \n",
       "1447821  0.434030  0.215519  0.076818 -0.073382 -0.019836 -0.001381   \n",
       "\n",
       "                  PC7  \n",
       "1446967 -8.613452e-17  \n",
       "1447230 -2.368447e-17  \n",
       "1447764 -2.368447e-17  \n",
       "1447766  4.743919e-17  \n",
       "1447821  6.305170e-17  "
      ]
     },
     "execution_count": 29,
     "metadata": {},
     "output_type": "execute_result"
    }
   ],
   "source": [
    "components.head()"
   ]
  },
  {
   "cell_type": "code",
   "execution_count": 30,
   "metadata": {},
   "outputs": [
    {
     "data": {
      "text/html": [
       "<div>\n",
       "<style scoped>\n",
       "    .dataframe tbody tr th:only-of-type {\n",
       "        vertical-align: middle;\n",
       "    }\n",
       "\n",
       "    .dataframe tbody tr th {\n",
       "        vertical-align: top;\n",
       "    }\n",
       "\n",
       "    .dataframe thead th {\n",
       "        text-align: right;\n",
       "    }\n",
       "</style>\n",
       "<table border=\"1\" class=\"dataframe\">\n",
       "  <thead>\n",
       "    <tr style=\"text-align: right;\">\n",
       "      <th></th>\n",
       "      <th>wyqtl</th>\n",
       "      <th>wqtl</th>\n",
       "      <th>ptca</th>\n",
       "      <th>yqtl</th>\n",
       "      <th>qtl</th>\n",
       "      <th>impv</th>\n",
       "      <th>ptcp</th>\n",
       "    </tr>\n",
       "  </thead>\n",
       "  <tbody>\n",
       "    <tr>\n",
       "      <th>1</th>\n",
       "      <td>0.329248</td>\n",
       "      <td>-0.163016</td>\n",
       "      <td>0.009688</td>\n",
       "      <td>-0.215602</td>\n",
       "      <td>0.050647</td>\n",
       "      <td>-0.011662</td>\n",
       "      <td>0.000696</td>\n",
       "    </tr>\n",
       "    <tr>\n",
       "      <th>2</th>\n",
       "      <td>-0.107164</td>\n",
       "      <td>-0.120245</td>\n",
       "      <td>0.007426</td>\n",
       "      <td>-0.018585</td>\n",
       "      <td>0.230753</td>\n",
       "      <td>0.007278</td>\n",
       "      <td>0.000537</td>\n",
       "    </tr>\n",
       "    <tr>\n",
       "      <th>3</th>\n",
       "      <td>-0.037736</td>\n",
       "      <td>0.147397</td>\n",
       "      <td>-0.007418</td>\n",
       "      <td>-0.159055</td>\n",
       "      <td>0.046392</td>\n",
       "      <td>0.010122</td>\n",
       "      <td>0.000297</td>\n",
       "    </tr>\n",
       "    <tr>\n",
       "      <th>4</th>\n",
       "      <td>-0.026562</td>\n",
       "      <td>-0.021852</td>\n",
       "      <td>0.098160</td>\n",
       "      <td>-0.026737</td>\n",
       "      <td>-0.029187</td>\n",
       "      <td>0.004710</td>\n",
       "      <td>0.001469</td>\n",
       "    </tr>\n",
       "    <tr>\n",
       "      <th>5</th>\n",
       "      <td>-0.009567</td>\n",
       "      <td>-0.015130</td>\n",
       "      <td>-0.016580</td>\n",
       "      <td>-0.011022</td>\n",
       "      <td>-0.014799</td>\n",
       "      <td>0.067130</td>\n",
       "      <td>-0.000032</td>\n",
       "    </tr>\n",
       "  </tbody>\n",
       "</table>\n",
       "</div>"
      ],
      "text/plain": [
       "      wyqtl      wqtl      ptca      yqtl       qtl      impv      ptcp\n",
       "1  0.329248 -0.163016  0.009688 -0.215602  0.050647 -0.011662  0.000696\n",
       "2 -0.107164 -0.120245  0.007426 -0.018585  0.230753  0.007278  0.000537\n",
       "3 -0.037736  0.147397 -0.007418 -0.159055  0.046392  0.010122  0.000297\n",
       "4 -0.026562 -0.021852  0.098160 -0.026737 -0.029187  0.004710  0.001469\n",
       "5 -0.009567 -0.015130 -0.016580 -0.011022 -0.014799  0.067130 -0.000032"
      ]
     },
     "execution_count": 30,
     "metadata": {},
     "output_type": "execute_result"
    }
   ],
   "source": [
    "loadings.head()"
   ]
  },
  {
   "cell_type": "code",
   "execution_count": 64,
   "metadata": {},
   "outputs": [
    {
     "data": {
      "text/plain": [
       "1    0.329248\n",
       "2   -0.107164\n",
       "Name: wyqtl, dtype: float64"
      ]
     },
     "execution_count": 64,
     "metadata": {},
     "output_type": "execute_result"
    }
   ],
   "source": [
    "loadings['wyqtl'][:2]"
   ]
  },
  {
   "cell_type": "code",
   "execution_count": 73,
   "metadata": {},
   "outputs": [
    {
     "data": {
      "image/png": "[encoded data removed]",
      "text/plain": [
       "<Figure size 720x576 with 1 Axes>"
      ]
     },
     "metadata": {
      "needs_background": "light"
     },
     "output_type": "display_data"
    }
   ],
   "source": [
    "x,y = components.iloc[:,:2].values.T\n",
    "\n",
    "fig, ax = plt.subplots(figsize=(10,8))\n",
    "ax.scatter(x, y, color='', edgecolor='black', linewidth=0.8, s=30)\n",
    "ax.axhline(color='black', linewidth=0.5)\n",
    "ax.axvline(color='black', linewidth=0.5)\n",
    "ax.set_xlabel('PC1')\n",
    "ax.set_ylabel('PC2')\n",
    "\n",
    "for feature in loadings.columns:\n",
    "    fx,fy = loadings[feature][:2]\n",
    "    if abs(fx) > 0.04 or abs(fy) > 0.04:\n",
    "        ax.arrow(0,0, fx, fy, color='blue', linewidth=0.5)\n",
    "        ax.text(fx,fy, feature, color='blue')\n",
    "\n",
    "plt.savefig(fig_path.joinpath('contextual_clustering.png'), dpi=300, bbox_inches='tight')\n",
    "plt.title('Contextual Clustering of Time Adverbials based on Verb Contexts')\n",
    "plt.show()"
   ]
  },
  {
   "cell_type": "markdown",
   "metadata": {},
   "source": [
    "### Examining results\n",
    "\n",
    "We have two clear larger clusters and separation happening between adverbials with a stronger preference for wayyiqtol from those that prefer yiqtol and weqatal. \n",
    "\n",
    "Let's look at some of the results closer to the center. These lie somewhere between $[-0.1, 0.1]$"
   ]
  },
  {
   "cell_type": "code",
   "execution_count": 103,
   "metadata": {},
   "outputs": [
    {
     "name": "stdout",
     "output_type": "stream",
     "text": [
      "Context for adverbial 1447766\n",
      "PC1   -0.008785\n",
      "PC2    0.221329\n",
      "Name: 1447766, dtype: float64\n",
      "Counter({'qtl': 2, 'yqtl': 2, 'wyqtl': 1})\n"
     ]
    },
    {
     "data": {
      "text/html": [
       "<a href=\"https://shebanq.ancient-data.org/hebrew/text?book=Deuteronomium&amp;chapter=3&amp;verse=6&amp;version=c&amp;mr=m&amp;qw=q&amp;tp=txt_p&amp;tr=hb&amp;wget=v&amp;qget=v&amp;nget=vt\" title=\"show this passage in SHEBANQ\" sec=\"Deuteronomy 3:6\">Deuteronomy 3:6</a>&nbsp;<span class=\"hb\">וַנַּחֲרֵ֣ם אֹותָ֔ם </span>"
      ],
      "text/plain": [
       "<IPython.core.display.HTML object>"
      ]
     },
     "metadata": {},
     "output_type": "display_data"
    },
    {
     "data": {
      "text/html": [
       "<a href=\"https://shebanq.ancient-data.org/hebrew/text?book=Deuteronomium&amp;chapter=3&amp;verse=6&amp;version=c&amp;mr=m&amp;qw=q&amp;tp=txt_p&amp;tr=hb&amp;wget=v&amp;qget=v&amp;nget=vt\" title=\"show this passage in SHEBANQ\" sec=\"Deuteronomy 3:6\">Deuteronomy 3:6</a>&nbsp;<span class=\"hb\">הַחֲרֵם֙ כָּל־עִ֣יר מְתִ֔ם הַנָּשִׁ֖ים וְהַטָּֽף׃ </span>"
      ],
      "text/plain": [
       "<IPython.core.display.HTML object>"
      ]
     },
     "metadata": {},
     "output_type": "display_data"
    },
    {
     "data": {
      "text/html": [
       "<a href=\"https://shebanq.ancient-data.org/hebrew/text?book=Deuteronomium&amp;chapter=3&amp;verse=7&amp;version=c&amp;mr=m&amp;qw=q&amp;tp=txt_p&amp;tr=hb&amp;wget=v&amp;qget=v&amp;nget=vt\" title=\"show this passage in SHEBANQ\" sec=\"Deuteronomy 3:7\">Deuteronomy 3:7</a>&nbsp;<span class=\"hb\">וְכָל־הַבְּהֵמָ֛ה וּשְׁלַ֥ל הֶעָרִ֖ים בַּזֹּ֥ונוּ לָֽנוּ׃ </span>"
      ],
      "text/plain": [
       "<IPython.core.display.HTML object>"
      ]
     },
     "metadata": {},
     "output_type": "display_data"
    },
    {
     "data": {
      "text/html": [
       "<a href=\"https://shebanq.ancient-data.org/hebrew/text?book=Deuteronomium&amp;chapter=3&amp;verse=8&amp;version=c&amp;mr=m&amp;qw=q&amp;tp=txt_p&amp;tr=hb&amp;wget=v&amp;qget=v&amp;nget=vt\" title=\"show this passage in SHEBANQ\" sec=\"Deuteronomy 3:8\">Deuteronomy 3:8</a>&nbsp;<span class=\"hb\">וַנִּקַּ֞ח <span  class=\"hl\" >בָּ</span><span  class=\"hl\" ></span><span  class=\"hl\" >עֵ֤ת </span><span  class=\"hl\" >הַ</span><span  class=\"hl\" >הִוא֙ </span>אֶת־הָאָ֔רֶץ מִיַּ֗ד שְׁנֵי֙ מַלְכֵ֣י הָאֱמֹרִ֔י מִנַּ֥חַל אַרְנֹ֖ן עַד־הַ֥ר חֶרְמֹֽון׃ </span>"
      ],
      "text/plain": [
       "<IPython.core.display.HTML object>"
      ]
     },
     "metadata": {},
     "output_type": "display_data"
    },
    {
     "data": {
      "text/html": [
       "<a href=\"https://shebanq.ancient-data.org/hebrew/text?book=Deuteronomium&amp;chapter=3&amp;verse=9&amp;version=c&amp;mr=m&amp;qw=q&amp;tp=txt_p&amp;tr=hb&amp;wget=v&amp;qget=v&amp;nget=vt\" title=\"show this passage in SHEBANQ\" sec=\"Deuteronomy 3:9\">Deuteronomy 3:9</a>&nbsp;<span class=\"hb\">צִידֹנִ֛ים יִקְרְא֥וּ לְחֶרְמֹ֖ון שִׂרְיֹ֑ן </span>"
      ],
      "text/plain": [
       "<IPython.core.display.HTML object>"
      ]
     },
     "metadata": {},
     "output_type": "display_data"
    },
    {
     "data": {
      "text/html": [
       "<a href=\"https://shebanq.ancient-data.org/hebrew/text?book=Deuteronomium&amp;chapter=3&amp;verse=9&amp;version=c&amp;mr=m&amp;qw=q&amp;tp=txt_p&amp;tr=hb&amp;wget=v&amp;qget=v&amp;nget=vt\" title=\"show this passage in SHEBANQ\" sec=\"Deuteronomy 3:9\">Deuteronomy 3:9</a>&nbsp;<span class=\"hb\">וְהָ֣אֱמֹרִ֔י יִקְרְאוּ־לֹ֖ו שְׂנִֽיר׃ </span>"
      ],
      "text/plain": [
       "<IPython.core.display.HTML object>"
      ]
     },
     "metadata": {},
     "output_type": "display_data"
    },
    {
     "data": {
      "text/html": [
       "<a href=\"https://shebanq.ancient-data.org/hebrew/text?book=Deuteronomium&amp;chapter=3&amp;verse=11&amp;version=c&amp;mr=m&amp;qw=q&amp;tp=txt_p&amp;tr=hb&amp;wget=v&amp;qget=v&amp;nget=vt\" title=\"show this passage in SHEBANQ\" sec=\"Deuteronomy 3:11\">Deuteronomy 3:11</a>&nbsp;<span class=\"hb\">כִּ֣י רַק־עֹ֞וג מֶ֣לֶךְ הַבָּשָׁ֗ן נִשְׁאַר֮ מִיֶּ֣תֶר הָרְפָאִים֒ </span>"
      ],
      "text/plain": [
       "<IPython.core.display.HTML object>"
      ]
     },
     "metadata": {},
     "output_type": "display_data"
    },
    {
     "name": "stdout",
     "output_type": "stream",
     "text": [
      "\n",
      "Context for adverbial 1447790\n",
      "PC1    0.006136\n",
      "PC2    0.666959\n",
      "Name: 1447790, dtype: float64\n",
      "Counter({'qtl': 5, 'yqtl': 1})\n"
     ]
    },
    {
     "data": {
      "text/html": [
       "<a href=\"https://shebanq.ancient-data.org/hebrew/text?book=Deuteronomium&amp;chapter=5&amp;verse=2&amp;version=c&amp;mr=m&amp;qw=q&amp;tp=txt_p&amp;tr=hb&amp;wget=v&amp;qget=v&amp;nget=vt\" title=\"show this passage in SHEBANQ\" sec=\"Deuteronomy 5:2\">Deuteronomy 5:2</a>&nbsp;<span class=\"hb\">יְהוָ֣ה אֱלֹהֵ֗ינוּ כָּרַ֥ת עִמָּ֛נוּ בְּרִ֖ית בְּחֹרֵֽב׃ </span>"
      ],
      "text/plain": [
       "<IPython.core.display.HTML object>"
      ]
     },
     "metadata": {},
     "output_type": "display_data"
    },
    {
     "data": {
      "text/html": [
       "<a href=\"https://shebanq.ancient-data.org/hebrew/text?book=Deuteronomium&amp;chapter=5&amp;verse=3&amp;version=c&amp;mr=m&amp;qw=q&amp;tp=txt_p&amp;tr=hb&amp;wget=v&amp;qget=v&amp;nget=vt\" title=\"show this passage in SHEBANQ\" sec=\"Deuteronomy 5:3\">Deuteronomy 5:3</a>&nbsp;<span class=\"hb\">לֹ֣א אֶת־אֲבֹתֵ֔ינוּ כָּרַ֥ת יְהוָ֖ה אֶת־הַבְּרִ֣ית הַזֹּ֑את </span>"
      ],
      "text/plain": [
       "<IPython.core.display.HTML object>"
      ]
     },
     "metadata": {},
     "output_type": "display_data"
    },
    {
     "data": {
      "text/html": [
       "<a href=\"https://shebanq.ancient-data.org/hebrew/text?book=Deuteronomium&amp;chapter=5&amp;verse=4&amp;version=c&amp;mr=m&amp;qw=q&amp;tp=txt_p&amp;tr=hb&amp;wget=v&amp;qget=v&amp;nget=vt\" title=\"show this passage in SHEBANQ\" sec=\"Deuteronomy 5:4\">Deuteronomy 5:4</a>&nbsp;<span class=\"hb\">פָּנִ֣ים׀ בְּפָנִ֗ים דִּבֶּ֨ר יְהוָ֧ה עִמָּכֶ֛ם בָּהָ֖ר מִתֹּ֥וךְ הָאֵֽשׁ׃ </span>"
      ],
      "text/plain": [
       "<IPython.core.display.HTML object>"
      ]
     },
     "metadata": {},
     "output_type": "display_data"
    },
    {
     "data": {
      "text/html": [
       "<a href=\"https://shebanq.ancient-data.org/hebrew/text?book=Deuteronomium&amp;chapter=5&amp;verse=5&amp;version=c&amp;mr=m&amp;qw=q&amp;tp=txt_p&amp;tr=hb&amp;wget=v&amp;qget=v&amp;nget=vt\" title=\"show this passage in SHEBANQ\" sec=\"Deuteronomy 5:5\">Deuteronomy 5:5</a>&nbsp;<span class=\"hb\">אָ֠נֹכִי עֹמֵ֨ד בֵּין־יְהוָ֤ה וּבֵֽינֵיכֶם֙ <span  class=\"hl\" >בָּ</span><span  class=\"hl\" ></span><span  class=\"hl\" >עֵ֣ת </span><span  class=\"hl\" >הַ</span><span  class=\"hl\" >הִ֔וא </span></span>"
      ],
      "text/plain": [
       "<IPython.core.display.HTML object>"
      ]
     },
     "metadata": {},
     "output_type": "display_data"
    },
    {
     "data": {
      "text/html": [
       "<a href=\"https://shebanq.ancient-data.org/hebrew/text?book=Deuteronomium&amp;chapter=5&amp;verse=5&amp;version=c&amp;mr=m&amp;qw=q&amp;tp=txt_p&amp;tr=hb&amp;wget=v&amp;qget=v&amp;nget=vt\" title=\"show this passage in SHEBANQ\" sec=\"Deuteronomy 5:5\">Deuteronomy 5:5</a>&nbsp;<span class=\"hb\">כִּ֤י יְרֵאתֶם֙ מִפְּנֵ֣י הָאֵ֔שׁ </span>"
      ],
      "text/plain": [
       "<IPython.core.display.HTML object>"
      ]
     },
     "metadata": {},
     "output_type": "display_data"
    },
    {
     "data": {
      "text/html": [
       "<a href=\"https://shebanq.ancient-data.org/hebrew/text?book=Deuteronomium&amp;chapter=5&amp;verse=5&amp;version=c&amp;mr=m&amp;qw=q&amp;tp=txt_p&amp;tr=hb&amp;wget=v&amp;qget=v&amp;nget=vt\" title=\"show this passage in SHEBANQ\" sec=\"Deuteronomy 5:5\">Deuteronomy 5:5</a>&nbsp;<span class=\"hb\">וְלֹֽא־עֲלִיתֶ֥ם בָּהָ֖ר </span>"
      ],
      "text/plain": [
       "<IPython.core.display.HTML object>"
      ]
     },
     "metadata": {},
     "output_type": "display_data"
    },
    {
     "data": {
      "text/html": [
       "<a href=\"https://shebanq.ancient-data.org/hebrew/text?book=Deuteronomium&amp;chapter=5&amp;verse=7&amp;version=c&amp;mr=m&amp;qw=q&amp;tp=txt_p&amp;tr=hb&amp;wget=v&amp;qget=v&amp;nget=vt\" title=\"show this passage in SHEBANQ\" sec=\"Deuteronomy 5:7\">Deuteronomy 5:7</a>&nbsp;<span class=\"hb\">לֹ֣א יִהְיֶ֥ה־לְךָ֛֩ אֱלֹהִ֥֨ים אֲחֵרִ֖֜ים עַל־פָּנָֽ֗יַ׃ </span>"
      ],
      "text/plain": [
       "<IPython.core.display.HTML object>"
      ]
     },
     "metadata": {},
     "output_type": "display_data"
    },
    {
     "name": "stdout",
     "output_type": "stream",
     "text": [
      "\n",
      "Context for adverbial 1447948\n",
      "PC1    0.006136\n",
      "PC2    0.666959\n",
      "Name: 1447948, dtype: float64\n",
      "Counter({'qtl': 5, 'yqtl': 1})\n"
     ]
    },
    {
     "data": {
      "text/html": [
       "<a href=\"https://shebanq.ancient-data.org/hebrew/text?book=Deuteronomium&amp;chapter=31&amp;verse=17&amp;version=c&amp;mr=m&amp;qw=q&amp;tp=txt_p&amp;tr=hb&amp;wget=v&amp;qget=v&amp;nget=vt\" title=\"show this passage in SHEBANQ\" sec=\"Deuteronomy 31:17\">Deuteronomy 31:17</a>&nbsp;<span class=\"hb\">וְהִסְתַּרְתִּ֨י פָנַ֤י מֵהֶם֙ </span>"
      ],
      "text/plain": [
       "<IPython.core.display.HTML object>"
      ]
     },
     "metadata": {},
     "output_type": "display_data"
    },
    {
     "data": {
      "text/html": [
       "<a href=\"https://shebanq.ancient-data.org/hebrew/text?book=Deuteronomium&amp;chapter=31&amp;verse=17&amp;version=c&amp;mr=m&amp;qw=q&amp;tp=txt_p&amp;tr=hb&amp;wget=v&amp;qget=v&amp;nget=vt\" title=\"show this passage in SHEBANQ\" sec=\"Deuteronomy 31:17\">Deuteronomy 31:17</a>&nbsp;<span class=\"hb\">וְהָיָ֣ה </span>"
      ],
      "text/plain": [
       "<IPython.core.display.HTML object>"
      ]
     },
     "metadata": {},
     "output_type": "display_data"
    },
    {
     "data": {
      "text/html": [
       "<a href=\"https://shebanq.ancient-data.org/hebrew/text?book=Deuteronomium&amp;chapter=31&amp;verse=17&amp;version=c&amp;mr=m&amp;qw=q&amp;tp=txt_p&amp;tr=hb&amp;wget=v&amp;qget=v&amp;nget=vt\" title=\"show this passage in SHEBANQ\" sec=\"Deuteronomy 31:17\">Deuteronomy 31:17</a>&nbsp;<span class=\"hb\">וּמְצָאֻ֛הוּ רָעֹ֥ות רַבֹּ֖ות וְצָרֹ֑ות </span>"
      ],
      "text/plain": [
       "<IPython.core.display.HTML object>"
      ]
     },
     "metadata": {},
     "output_type": "display_data"
    },
    {
     "data": {
      "text/html": [
       "<a href=\"https://shebanq.ancient-data.org/hebrew/text?book=Deuteronomium&amp;chapter=31&amp;verse=17&amp;version=c&amp;mr=m&amp;qw=q&amp;tp=txt_p&amp;tr=hb&amp;wget=v&amp;qget=v&amp;nget=vt\" title=\"show this passage in SHEBANQ\" sec=\"Deuteronomy 31:17\">Deuteronomy 31:17</a>&nbsp;<span class=\"hb\">וְאָמַר֙ <span  class=\"hl\" >בַּ</span><span  class=\"hl\" ></span><span  class=\"hl\" >יֹּ֣ום </span><span  class=\"hl\" >הַ</span><span  class=\"hl\" >ה֔וּא </span></span>"
      ],
      "text/plain": [
       "<IPython.core.display.HTML object>"
      ]
     },
     "metadata": {},
     "output_type": "display_data"
    },
    {
     "data": {
      "text/html": [
       "<a href=\"https://shebanq.ancient-data.org/hebrew/text?book=Deuteronomium&amp;chapter=31&amp;verse=17&amp;version=c&amp;mr=m&amp;qw=q&amp;tp=txt_p&amp;tr=hb&amp;wget=v&amp;qget=v&amp;nget=vt\" title=\"show this passage in SHEBANQ\" sec=\"Deuteronomy 31:17\">Deuteronomy 31:17</a>&nbsp;<span class=\"hb\">הֲלֹ֗א מְצָא֖וּנִי הָרָעֹ֥ות הָאֵֽלֶּה׃ </span>"
      ],
      "text/plain": [
       "<IPython.core.display.HTML object>"
      ]
     },
     "metadata": {},
     "output_type": "display_data"
    },
    {
     "data": {
      "text/html": [
       "<a href=\"https://shebanq.ancient-data.org/hebrew/text?book=Deuteronomium&amp;chapter=31&amp;verse=18&amp;version=c&amp;mr=m&amp;qw=q&amp;tp=txt_p&amp;tr=hb&amp;wget=v&amp;qget=v&amp;nget=vt\" title=\"show this passage in SHEBANQ\" sec=\"Deuteronomy 31:18\">Deuteronomy 31:18</a>&nbsp;<span class=\"hb\">וְאָנֹכִ֗י הַסְתֵּ֨ר אַסְתִּ֤יר פָּנַי֙ בַּיֹּ֣ום הַה֔וּא עַ֥ל כָּל־הָרָעָ֖ה </span>"
      ],
      "text/plain": [
       "<IPython.core.display.HTML object>"
      ]
     },
     "metadata": {},
     "output_type": "display_data"
    },
    {
     "data": {
      "text/html": [
       "<a href=\"https://shebanq.ancient-data.org/hebrew/text?book=Deuteronomium&amp;chapter=31&amp;verse=18&amp;version=c&amp;mr=m&amp;qw=q&amp;tp=txt_p&amp;tr=hb&amp;wget=v&amp;qget=v&amp;nget=vt\" title=\"show this passage in SHEBANQ\" sec=\"Deuteronomy 31:18\">Deuteronomy 31:18</a>&nbsp;<span class=\"hb\">כִּ֣י פָנָ֔ה אֶל־אֱלֹהִ֖ים אֲחֵרִֽים׃ </span>"
      ],
      "text/plain": [
       "<IPython.core.display.HTML object>"
      ]
     },
     "metadata": {},
     "output_type": "display_data"
    },
    {
     "name": "stdout",
     "output_type": "stream",
     "text": [
      "\n",
      "Context for adverbial 1447949\n",
      "PC1    0.061126\n",
      "PC2    0.550255\n",
      "Name: 1447949, dtype: float64\n",
      "Counter({'qtl': 4, 'impv': 2})\n"
     ]
    },
    {
     "data": {
      "text/html": [
       "<a href=\"https://shebanq.ancient-data.org/hebrew/text?book=Deuteronomium&amp;chapter=31&amp;verse=17&amp;version=c&amp;mr=m&amp;qw=q&amp;tp=txt_p&amp;tr=hb&amp;wget=v&amp;qget=v&amp;nget=vt\" title=\"show this passage in SHEBANQ\" sec=\"Deuteronomy 31:17\">Deuteronomy 31:17</a>&nbsp;<span class=\"hb\">וּמְצָאֻ֛הוּ רָעֹ֥ות רַבֹּ֖ות וְצָרֹ֑ות </span>"
      ],
      "text/plain": [
       "<IPython.core.display.HTML object>"
      ]
     },
     "metadata": {},
     "output_type": "display_data"
    },
    {
     "data": {
      "text/html": [
       "<a href=\"https://shebanq.ancient-data.org/hebrew/text?book=Deuteronomium&amp;chapter=31&amp;verse=17&amp;version=c&amp;mr=m&amp;qw=q&amp;tp=txt_p&amp;tr=hb&amp;wget=v&amp;qget=v&amp;nget=vt\" title=\"show this passage in SHEBANQ\" sec=\"Deuteronomy 31:17\">Deuteronomy 31:17</a>&nbsp;<span class=\"hb\">וְאָמַר֙ בַּיֹּ֣ום הַה֔וּא </span>"
      ],
      "text/plain": [
       "<IPython.core.display.HTML object>"
      ]
     },
     "metadata": {},
     "output_type": "display_data"
    },
    {
     "data": {
      "text/html": [
       "<a href=\"https://shebanq.ancient-data.org/hebrew/text?book=Deuteronomium&amp;chapter=31&amp;verse=17&amp;version=c&amp;mr=m&amp;qw=q&amp;tp=txt_p&amp;tr=hb&amp;wget=v&amp;qget=v&amp;nget=vt\" title=\"show this passage in SHEBANQ\" sec=\"Deuteronomy 31:17\">Deuteronomy 31:17</a>&nbsp;<span class=\"hb\">הֲלֹ֗א מְצָא֖וּנִי הָרָעֹ֥ות הָאֵֽלֶּה׃ </span>"
      ],
      "text/plain": [
       "<IPython.core.display.HTML object>"
      ]
     },
     "metadata": {},
     "output_type": "display_data"
    },
    {
     "data": {
      "text/html": [
       "<a href=\"https://shebanq.ancient-data.org/hebrew/text?book=Deuteronomium&amp;chapter=31&amp;verse=18&amp;version=c&amp;mr=m&amp;qw=q&amp;tp=txt_p&amp;tr=hb&amp;wget=v&amp;qget=v&amp;nget=vt\" title=\"show this passage in SHEBANQ\" sec=\"Deuteronomy 31:18\">Deuteronomy 31:18</a>&nbsp;<span class=\"hb\">וְאָנֹכִ֗י הַסְתֵּ֨ר אַסְתִּ֤יר פָּנַי֙ <span  class=\"hl\" >בַּ</span><span  class=\"hl\" ></span><span  class=\"hl\" >יֹּ֣ום </span><span  class=\"hl\" >הַ</span><span  class=\"hl\" >ה֔וּא </span>עַ֥ל כָּל־הָרָעָ֖ה </span>"
      ],
      "text/plain": [
       "<IPython.core.display.HTML object>"
      ]
     },
     "metadata": {},
     "output_type": "display_data"
    },
    {
     "data": {
      "text/html": [
       "<a href=\"https://shebanq.ancient-data.org/hebrew/text?book=Deuteronomium&amp;chapter=31&amp;verse=18&amp;version=c&amp;mr=m&amp;qw=q&amp;tp=txt_p&amp;tr=hb&amp;wget=v&amp;qget=v&amp;nget=vt\" title=\"show this passage in SHEBANQ\" sec=\"Deuteronomy 31:18\">Deuteronomy 31:18</a>&nbsp;<span class=\"hb\">כִּ֣י פָנָ֔ה אֶל־אֱלֹהִ֖ים אֲחֵרִֽים׃ </span>"
      ],
      "text/plain": [
       "<IPython.core.display.HTML object>"
      ]
     },
     "metadata": {},
     "output_type": "display_data"
    },
    {
     "data": {
      "text/html": [
       "<a href=\"https://shebanq.ancient-data.org/hebrew/text?book=Deuteronomium&amp;chapter=31&amp;verse=19&amp;version=c&amp;mr=m&amp;qw=q&amp;tp=txt_p&amp;tr=hb&amp;wget=v&amp;qget=v&amp;nget=vt\" title=\"show this passage in SHEBANQ\" sec=\"Deuteronomy 31:19\">Deuteronomy 31:19</a>&nbsp;<span class=\"hb\">כִּתְב֤וּ לָכֶם֙ אֶת־הַשִּׁירָ֣ה הַזֹּ֔את </span>"
      ],
      "text/plain": [
       "<IPython.core.display.HTML object>"
      ]
     },
     "metadata": {},
     "output_type": "display_data"
    },
    {
     "data": {
      "text/html": [
       "<a href=\"https://shebanq.ancient-data.org/hebrew/text?book=Deuteronomium&amp;chapter=31&amp;verse=19&amp;version=c&amp;mr=m&amp;qw=q&amp;tp=txt_p&amp;tr=hb&amp;wget=v&amp;qget=v&amp;nget=vt\" title=\"show this passage in SHEBANQ\" sec=\"Deuteronomy 31:19\">Deuteronomy 31:19</a>&nbsp;<span class=\"hb\">וְלַמְּדָ֥הּ אֶת־בְּנֵי־יִשְׂרָאֵ֖ל </span>"
      ],
      "text/plain": [
       "<IPython.core.display.HTML object>"
      ]
     },
     "metadata": {},
     "output_type": "display_data"
    },
    {
     "name": "stdout",
     "output_type": "stream",
     "text": [
      "\n",
      "Context for adverbial 1448342\n",
      "PC1   -0.041574\n",
      "PC2    0.271288\n",
      "Name: 1448342, dtype: float64\n",
      "Counter({'ptca': 3, 'qtl': 2, 'yqtl': 1})\n"
     ]
    },
    {
     "data": {
      "text/html": [
       "<a href=\"https://shebanq.ancient-data.org/hebrew/text?book=Samuel_I&amp;chapter=3&amp;verse=1&amp;version=c&amp;mr=m&amp;qw=q&amp;tp=txt_p&amp;tr=hb&amp;wget=v&amp;qget=v&amp;nget=vt\" title=\"show this passage in SHEBANQ\" sec=\"1_Samuel 3:1\">1_Samuel 3:1</a>&nbsp;<span class=\"hb\">וְהַנַּ֧עַר שְׁמוּאֵ֛ל מְשָׁרֵ֥ת אֶת־יְהוָ֖ה לִפְנֵ֣י עֵלִ֑י </span>"
      ],
      "text/plain": [
       "<IPython.core.display.HTML object>"
      ]
     },
     "metadata": {},
     "output_type": "display_data"
    },
    {
     "data": {
      "text/html": [
       "<a href=\"https://shebanq.ancient-data.org/hebrew/text?book=Samuel_I&amp;chapter=3&amp;verse=1&amp;version=c&amp;mr=m&amp;qw=q&amp;tp=txt_p&amp;tr=hb&amp;wget=v&amp;qget=v&amp;nget=vt\" title=\"show this passage in SHEBANQ\" sec=\"1_Samuel 3:1\">1_Samuel 3:1</a>&nbsp;<span class=\"hb\">וּדְבַר־יְהוָ֗ה הָיָ֤ה יָקָר֙ בַּיָּמִ֣ים הָהֵ֔ם </span>"
      ],
      "text/plain": [
       "<IPython.core.display.HTML object>"
      ]
     },
     "metadata": {},
     "output_type": "display_data"
    },
    {
     "data": {
      "text/html": [
       "<a href=\"https://shebanq.ancient-data.org/hebrew/text?book=Samuel_I&amp;chapter=3&amp;verse=1&amp;version=c&amp;mr=m&amp;qw=q&amp;tp=txt_p&amp;tr=hb&amp;wget=v&amp;qget=v&amp;nget=vt\" title=\"show this passage in SHEBANQ\" sec=\"1_Samuel 3:1\">1_Samuel 3:1</a>&nbsp;<span class=\"hb\">אֵ֥ין חָזֹ֖ון נִפְרָֽץ׃ ס </span>"
      ],
      "text/plain": [
       "<IPython.core.display.HTML object>"
      ]
     },
     "metadata": {},
     "output_type": "display_data"
    },
    {
     "data": {
      "text/html": [
       "<a href=\"https://shebanq.ancient-data.org/hebrew/text?book=Samuel_I&amp;chapter=3&amp;verse=2&amp;version=c&amp;mr=m&amp;qw=q&amp;tp=txt_p&amp;tr=hb&amp;wget=v&amp;qget=v&amp;nget=vt\" title=\"show this passage in SHEBANQ\" sec=\"1_Samuel 3:2\">1_Samuel 3:2</a>&nbsp;<span class=\"hb\">וַֽיְהִי֙ <span  class=\"hl\" >בַּ</span><span  class=\"hl\" ></span><span  class=\"hl\" >יֹּ֣ום </span><span  class=\"hl\" >הַ</span><span  class=\"hl\" >ה֔וּא </span></span>"
      ],
      "text/plain": [
       "<IPython.core.display.HTML object>"
      ]
     },
     "metadata": {},
     "output_type": "display_data"
    },
    {
     "data": {
      "text/html": [
       "<a href=\"https://shebanq.ancient-data.org/hebrew/text?book=Samuel_I&amp;chapter=3&amp;verse=2&amp;version=c&amp;mr=m&amp;qw=q&amp;tp=txt_p&amp;tr=hb&amp;wget=v&amp;qget=v&amp;nget=vt\" title=\"show this passage in SHEBANQ\" sec=\"1_Samuel 3:2\">1_Samuel 3:2</a>&nbsp;<span class=\"hb\">וְעֵלִ֖י שֹׁכֵ֣ב בִּמְקֹמֹ֑ו </span>"
      ],
      "text/plain": [
       "<IPython.core.display.HTML object>"
      ]
     },
     "metadata": {},
     "output_type": "display_data"
    },
    {
     "data": {
      "text/html": [
       "<a href=\"https://shebanq.ancient-data.org/hebrew/text?book=Samuel_I&amp;chapter=3&amp;verse=2&amp;version=c&amp;mr=m&amp;qw=q&amp;tp=txt_p&amp;tr=hb&amp;wget=v&amp;qget=v&amp;nget=vt\" title=\"show this passage in SHEBANQ\" sec=\"1_Samuel 3:2\">1_Samuel 3:2</a>&nbsp;<span class=\"hb\">וְעֵינָיו֙ הֵחֵ֣לּוּ </span>"
      ],
      "text/plain": [
       "<IPython.core.display.HTML object>"
      ]
     },
     "metadata": {},
     "output_type": "display_data"
    },
    {
     "data": {
      "text/html": [
       "<a href=\"https://shebanq.ancient-data.org/hebrew/text?book=Samuel_I&amp;chapter=3&amp;verse=2&amp;version=c&amp;mr=m&amp;qw=q&amp;tp=txt_p&amp;tr=hb&amp;wget=v&amp;qget=v&amp;nget=vt\" title=\"show this passage in SHEBANQ\" sec=\"1_Samuel 3:2\">1_Samuel 3:2</a>&nbsp;<span class=\"hb\">לֹ֥א יוּכַ֖ל </span>"
      ],
      "text/plain": [
       "<IPython.core.display.HTML object>"
      ]
     },
     "metadata": {},
     "output_type": "display_data"
    },
    {
     "name": "stdout",
     "output_type": "stream",
     "text": [
      "\n",
      "Context for adverbial 1449266\n",
      "PC1   -0.097241\n",
      "PC2    0.519707\n",
      "Name: 1449266, dtype: float64\n",
      "Counter({'qtl': 4, 'yqtl': 2})\n"
     ]
    },
    {
     "data": {
      "text/html": [
       "<a href=\"https://shebanq.ancient-data.org/hebrew/text?book=Jesaia&amp;chapter=25&amp;verse=8&amp;version=c&amp;mr=m&amp;qw=q&amp;tp=txt_p&amp;tr=hb&amp;wget=v&amp;qget=v&amp;nget=vt\" title=\"show this passage in SHEBANQ\" sec=\"Isaiah 25:8\">Isaiah 25:8</a>&nbsp;<span class=\"hb\">וּמָחָ֨ה אֲדֹנָ֧י יְהוִ֛ה דִּמְעָ֖ה מֵעַ֣ל כָּל־פָּנִ֑ים </span>"
      ],
      "text/plain": [
       "<IPython.core.display.HTML object>"
      ]
     },
     "metadata": {},
     "output_type": "display_data"
    },
    {
     "data": {
      "text/html": [
       "<a href=\"https://shebanq.ancient-data.org/hebrew/text?book=Jesaia&amp;chapter=25&amp;verse=8&amp;version=c&amp;mr=m&amp;qw=q&amp;tp=txt_p&amp;tr=hb&amp;wget=v&amp;qget=v&amp;nget=vt\" title=\"show this passage in SHEBANQ\" sec=\"Isaiah 25:8\">Isaiah 25:8</a>&nbsp;<span class=\"hb\">וְחֶרְפַּ֣ת עַמֹּ֗ו יָסִיר֙ מֵעַ֣ל כָּל־הָאָ֔רֶץ </span>"
      ],
      "text/plain": [
       "<IPython.core.display.HTML object>"
      ]
     },
     "metadata": {},
     "output_type": "display_data"
    },
    {
     "data": {
      "text/html": [
       "<a href=\"https://shebanq.ancient-data.org/hebrew/text?book=Jesaia&amp;chapter=25&amp;verse=8&amp;version=c&amp;mr=m&amp;qw=q&amp;tp=txt_p&amp;tr=hb&amp;wget=v&amp;qget=v&amp;nget=vt\" title=\"show this passage in SHEBANQ\" sec=\"Isaiah 25:8\">Isaiah 25:8</a>&nbsp;<span class=\"hb\">כִּ֥י יְהוָ֖ה דִּבֵּֽר׃ פ </span>"
      ],
      "text/plain": [
       "<IPython.core.display.HTML object>"
      ]
     },
     "metadata": {},
     "output_type": "display_data"
    },
    {
     "data": {
      "text/html": [
       "<a href=\"https://shebanq.ancient-data.org/hebrew/text?book=Jesaia&amp;chapter=25&amp;verse=9&amp;version=c&amp;mr=m&amp;qw=q&amp;tp=txt_p&amp;tr=hb&amp;wget=v&amp;qget=v&amp;nget=vt\" title=\"show this passage in SHEBANQ\" sec=\"Isaiah 25:9\">Isaiah 25:9</a>&nbsp;<span class=\"hb\">וְאָמַר֙ <span  class=\"hl\" >בַּ</span><span  class=\"hl\" ></span><span  class=\"hl\" >יֹּ֣ום </span><span  class=\"hl\" >הַ</span><span  class=\"hl\" >ה֔וּא </span></span>"
      ],
      "text/plain": [
       "<IPython.core.display.HTML object>"
      ]
     },
     "metadata": {},
     "output_type": "display_data"
    },
    {
     "data": {
      "text/html": [
       "<a href=\"https://shebanq.ancient-data.org/hebrew/text?book=Jesaia&amp;chapter=25&amp;verse=9&amp;version=c&amp;mr=m&amp;qw=q&amp;tp=txt_p&amp;tr=hb&amp;wget=v&amp;qget=v&amp;nget=vt\" title=\"show this passage in SHEBANQ\" sec=\"Isaiah 25:9\">Isaiah 25:9</a>&nbsp;<span class=\"hb\">קִוִּ֥ינוּ לֹ֖ו </span>"
      ],
      "text/plain": [
       "<IPython.core.display.HTML object>"
      ]
     },
     "metadata": {},
     "output_type": "display_data"
    },
    {
     "data": {
      "text/html": [
       "<a href=\"https://shebanq.ancient-data.org/hebrew/text?book=Jesaia&amp;chapter=25&amp;verse=9&amp;version=c&amp;mr=m&amp;qw=q&amp;tp=txt_p&amp;tr=hb&amp;wget=v&amp;qget=v&amp;nget=vt\" title=\"show this passage in SHEBANQ\" sec=\"Isaiah 25:9\">Isaiah 25:9</a>&nbsp;<span class=\"hb\">וְיֹֽושִׁיעֵ֑נוּ </span>"
      ],
      "text/plain": [
       "<IPython.core.display.HTML object>"
      ]
     },
     "metadata": {},
     "output_type": "display_data"
    },
    {
     "data": {
      "text/html": [
       "<a href=\"https://shebanq.ancient-data.org/hebrew/text?book=Jesaia&amp;chapter=25&amp;verse=9&amp;version=c&amp;mr=m&amp;qw=q&amp;tp=txt_p&amp;tr=hb&amp;wget=v&amp;qget=v&amp;nget=vt\" title=\"show this passage in SHEBANQ\" sec=\"Isaiah 25:9\">Isaiah 25:9</a>&nbsp;<span class=\"hb\">קִוִּ֣ינוּ לֹ֔ו </span>"
      ],
      "text/plain": [
       "<IPython.core.display.HTML object>"
      ]
     },
     "metadata": {},
     "output_type": "display_data"
    },
    {
     "name": "stdout",
     "output_type": "stream",
     "text": [
      "\n",
      "Context for adverbial 1449279\n",
      "PC1   -0.076824\n",
      "PC2    0.459669\n",
      "Name: 1449279, dtype: float64\n",
      "Counter({'qtl': 4, 'wqtl': 1, 'yqtl': 1})\n"
     ]
    },
    {
     "data": {
      "text/html": [
       "<a href=\"https://shebanq.ancient-data.org/hebrew/text?book=Jesaia&amp;chapter=28&amp;verse=2&amp;version=c&amp;mr=m&amp;qw=q&amp;tp=txt_p&amp;tr=hb&amp;wget=v&amp;qget=v&amp;nget=vt\" title=\"show this passage in SHEBANQ\" sec=\"Isaiah 28:2\">Isaiah 28:2</a>&nbsp;<span class=\"hb\">כְּזֶ֥רֶם בָּרָ֖ד שַׂ֣עַר קָ֑טֶב כְּ֠זֶרֶם מַ֣יִם כַּבִּירִ֥ים שֹׁטְפִ֛ים הִנִּ֥יחַ לָאָ֖רֶץ בְּיָֽד׃ </span>"
      ],
      "text/plain": [
       "<IPython.core.display.HTML object>"
      ]
     },
     "metadata": {},
     "output_type": "display_data"
    },
    {
     "data": {
      "text/html": [
       "<a href=\"https://shebanq.ancient-data.org/hebrew/text?book=Jesaia&amp;chapter=28&amp;verse=3&amp;version=c&amp;mr=m&amp;qw=q&amp;tp=txt_p&amp;tr=hb&amp;wget=v&amp;qget=v&amp;nget=vt\" title=\"show this passage in SHEBANQ\" sec=\"Isaiah 28:3\">Isaiah 28:3</a>&nbsp;<span class=\"hb\">בְּרַגְלַ֖יִם תֵּֽרָמַ֑סְנָה עֲטֶ֥רֶת גֵּא֖וּת שִׁכֹּורֵ֥י אֶפְרָֽיִם׃ </span>"
      ],
      "text/plain": [
       "<IPython.core.display.HTML object>"
      ]
     },
     "metadata": {},
     "output_type": "display_data"
    },
    {
     "data": {
      "text/html": [
       "<a href=\"https://shebanq.ancient-data.org/hebrew/text?book=Jesaia&amp;chapter=28&amp;verse=4&amp;version=c&amp;mr=m&amp;qw=q&amp;tp=txt_p&amp;tr=hb&amp;wget=v&amp;qget=v&amp;nget=vt\" title=\"show this passage in SHEBANQ\" sec=\"Isaiah 28:4\">Isaiah 28:4</a>&nbsp;<span class=\"hb\">וְֽהָ֨יְתָ֜ה צִיצַ֤ת נֹבֵל֙ צְבִ֣י תִפְאַרְתֹּ֔ו כְּבִכּוּרָהּ֙ בְּטֶ֣רֶם קַ֔יִץ </span>"
      ],
      "text/plain": [
       "<IPython.core.display.HTML object>"
      ]
     },
     "metadata": {},
     "output_type": "display_data"
    },
    {
     "data": {
      "text/html": [
       "<a href=\"https://shebanq.ancient-data.org/hebrew/text?book=Jesaia&amp;chapter=28&amp;verse=5&amp;version=c&amp;mr=m&amp;qw=q&amp;tp=txt_p&amp;tr=hb&amp;wget=v&amp;qget=v&amp;nget=vt\" title=\"show this passage in SHEBANQ\" sec=\"Isaiah 28:5\">Isaiah 28:5</a>&nbsp;<span class=\"hb\"><span  class=\"hl\" >בַּ</span><span  class=\"hl\" ></span><span  class=\"hl\" >יֹּ֣ום </span><span  class=\"hl\" >הַ</span><span  class=\"hl\" >ה֗וּא </span>יִֽהְיֶה֙ יְהוָ֣ה צְבָאֹ֔ות לַעֲטֶ֣רֶת צְבִ֔י וְלִצְפִירַ֖ת תִּפְאָרָ֑ה לִשְׁאָ֖ר עַמֹּֽו׃ </span>"
      ],
      "text/plain": [
       "<IPython.core.display.HTML object>"
      ]
     },
     "metadata": {},
     "output_type": "display_data"
    },
    {
     "data": {
      "text/html": [
       "<a href=\"https://shebanq.ancient-data.org/hebrew/text?book=Jesaia&amp;chapter=28&amp;verse=7&amp;version=c&amp;mr=m&amp;qw=q&amp;tp=txt_p&amp;tr=hb&amp;wget=v&amp;qget=v&amp;nget=vt\" title=\"show this passage in SHEBANQ\" sec=\"Isaiah 28:7\">Isaiah 28:7</a>&nbsp;<span class=\"hb\">וְגַם־אֵ֨לֶּה֙ בַּיַּ֣יִן שָׁג֔וּ </span>"
      ],
      "text/plain": [
       "<IPython.core.display.HTML object>"
      ]
     },
     "metadata": {},
     "output_type": "display_data"
    },
    {
     "data": {
      "text/html": [
       "<a href=\"https://shebanq.ancient-data.org/hebrew/text?book=Jesaia&amp;chapter=28&amp;verse=7&amp;version=c&amp;mr=m&amp;qw=q&amp;tp=txt_p&amp;tr=hb&amp;wget=v&amp;qget=v&amp;nget=vt\" title=\"show this passage in SHEBANQ\" sec=\"Isaiah 28:7\">Isaiah 28:7</a>&nbsp;<span class=\"hb\">וּבַשֵּׁכָ֖ר תָּע֑וּ </span>"
      ],
      "text/plain": [
       "<IPython.core.display.HTML object>"
      ]
     },
     "metadata": {},
     "output_type": "display_data"
    },
    {
     "data": {
      "text/html": [
       "<a href=\"https://shebanq.ancient-data.org/hebrew/text?book=Jesaia&amp;chapter=28&amp;verse=7&amp;version=c&amp;mr=m&amp;qw=q&amp;tp=txt_p&amp;tr=hb&amp;wget=v&amp;qget=v&amp;nget=vt\" title=\"show this passage in SHEBANQ\" sec=\"Isaiah 28:7\">Isaiah 28:7</a>&nbsp;<span class=\"hb\">כֹּהֵ֣ן וְנָבִיא֩ שָׁג֨וּ בַשֵּׁכָ֜ר </span>"
      ],
      "text/plain": [
       "<IPython.core.display.HTML object>"
      ]
     },
     "metadata": {},
     "output_type": "display_data"
    },
    {
     "name": "stdout",
     "output_type": "stream",
     "text": [
      "\n",
      "Context for adverbial 1449759\n",
      "PC1   -0.014540\n",
      "PC2    0.637508\n",
      "Name: 1449759, dtype: float64\n",
      "Counter({'qtl': 4, 'yqtl': 1})\n"
     ]
    },
    {
     "data": {
      "text/html": [
       "<a href=\"https://shebanq.ancient-data.org/hebrew/text?book=Ezechiel&amp;chapter=23&amp;verse=38&amp;version=c&amp;mr=m&amp;qw=q&amp;tp=txt_p&amp;tr=hb&amp;wget=v&amp;qget=v&amp;nget=vt\" title=\"show this passage in SHEBANQ\" sec=\"Ezekiel 23:38\">Ezekiel 23:38</a>&nbsp;<span class=\"hb\">טִמְּא֤וּ אֶת־מִקְדָּשִׁי֙ בַּיֹּ֣ום הַה֔וּא </span>"
      ],
      "text/plain": [
       "<IPython.core.display.HTML object>"
      ]
     },
     "metadata": {},
     "output_type": "display_data"
    },
    {
     "data": {
      "text/html": [
       "<a href=\"https://shebanq.ancient-data.org/hebrew/text?book=Ezechiel&amp;chapter=23&amp;verse=38&amp;version=c&amp;mr=m&amp;qw=q&amp;tp=txt_p&amp;tr=hb&amp;wget=v&amp;qget=v&amp;nget=vt\" title=\"show this passage in SHEBANQ\" sec=\"Ezekiel 23:38\">Ezekiel 23:38</a>&nbsp;<span class=\"hb\">וְאֶת־שַׁבְּתֹותַ֖י חִלֵּֽלוּ׃ </span>"
      ],
      "text/plain": [
       "<IPython.core.display.HTML object>"
      ]
     },
     "metadata": {},
     "output_type": "display_data"
    },
    {
     "data": {
      "text/html": [
       "<a href=\"https://shebanq.ancient-data.org/hebrew/text?book=Ezechiel&amp;chapter=23&amp;verse=39&amp;version=c&amp;mr=m&amp;qw=q&amp;tp=txt_p&amp;tr=hb&amp;wget=v&amp;qget=v&amp;nget=vt\" title=\"show this passage in SHEBANQ\" sec=\"Ezekiel 23:39\">Ezekiel 23:39</a>&nbsp;<span class=\"hb\">וּֽבְשַׁחֲטָ֤ם אֶת־בְּנֵיהֶם֙ לְגִלּ֣וּלֵיהֶ֔ם </span>"
      ],
      "text/plain": [
       "<IPython.core.display.HTML object>"
      ]
     },
     "metadata": {},
     "output_type": "display_data"
    },
    {
     "data": {
      "text/html": [
       "<a href=\"https://shebanq.ancient-data.org/hebrew/text?book=Ezechiel&amp;chapter=23&amp;verse=39&amp;version=c&amp;mr=m&amp;qw=q&amp;tp=txt_p&amp;tr=hb&amp;wget=v&amp;qget=v&amp;nget=vt\" title=\"show this passage in SHEBANQ\" sec=\"Ezekiel 23:39\">Ezekiel 23:39</a>&nbsp;<span class=\"hb\">וַיָּבֹ֧אוּ אֶל־מִקְדָּשִׁ֛י <span  class=\"hl\" >בַּ</span><span  class=\"hl\" ></span><span  class=\"hl\" >יֹּ֥ום </span><span  class=\"hl\" >הַ</span><span  class=\"hl\" >ה֖וּא </span></span>"
      ],
      "text/plain": [
       "<IPython.core.display.HTML object>"
      ]
     },
     "metadata": {},
     "output_type": "display_data"
    },
    {
     "data": {
      "text/html": [
       "<a href=\"https://shebanq.ancient-data.org/hebrew/text?book=Ezechiel&amp;chapter=23&amp;verse=39&amp;version=c&amp;mr=m&amp;qw=q&amp;tp=txt_p&amp;tr=hb&amp;wget=v&amp;qget=v&amp;nget=vt\" title=\"show this passage in SHEBANQ\" sec=\"Ezekiel 23:39\">Ezekiel 23:39</a>&nbsp;<span class=\"hb\">וְהִנֵּה־כֹ֥ה עָשׂ֖וּ בְּתֹ֥וךְ בֵּיתִֽי׃ </span>"
      ],
      "text/plain": [
       "<IPython.core.display.HTML object>"
      ]
     },
     "metadata": {},
     "output_type": "display_data"
    },
    {
     "data": {
      "text/html": [
       "<a href=\"https://shebanq.ancient-data.org/hebrew/text?book=Ezechiel&amp;chapter=23&amp;verse=40&amp;version=c&amp;mr=m&amp;qw=q&amp;tp=txt_p&amp;tr=hb&amp;wget=v&amp;qget=v&amp;nget=vt\" title=\"show this passage in SHEBANQ\" sec=\"Ezekiel 23:40\">Ezekiel 23:40</a>&nbsp;<span class=\"hb\">וְאַ֗ף כִּ֤י תִשְׁלַ֨חְנָה֙ לַֽאֲנָשִׁ֔ים </span>"
      ],
      "text/plain": [
       "<IPython.core.display.HTML object>"
      ]
     },
     "metadata": {},
     "output_type": "display_data"
    },
    {
     "data": {
      "text/html": [
       "<a href=\"https://shebanq.ancient-data.org/hebrew/text?book=Ezechiel&amp;chapter=23&amp;verse=40&amp;version=c&amp;mr=m&amp;qw=q&amp;tp=txt_p&amp;tr=hb&amp;wget=v&amp;qget=v&amp;nget=vt\" title=\"show this passage in SHEBANQ\" sec=\"Ezekiel 23:40\">Ezekiel 23:40</a>&nbsp;<span class=\"hb\">וְהִנֵּה־בָ֔אוּ </span>"
      ],
      "text/plain": [
       "<IPython.core.display.HTML object>"
      ]
     },
     "metadata": {},
     "output_type": "display_data"
    },
    {
     "name": "stdout",
     "output_type": "stream",
     "text": [
      "\n",
      "Context for adverbial 1450106\n",
      "PC1    0.006136\n",
      "PC2    0.666959\n",
      "Name: 1450106, dtype: float64\n",
      "Counter({'qtl': 5, 'yqtl': 1})\n"
     ]
    },
    {
     "data": {
      "text/html": [
       "<a href=\"https://shebanq.ancient-data.org/hebrew/text?book=Sacharia&amp;chapter=14&amp;verse=5&amp;version=c&amp;mr=m&amp;qw=q&amp;tp=txt_p&amp;tr=hb&amp;wget=v&amp;qget=v&amp;nget=vt\" title=\"show this passage in SHEBANQ\" sec=\"Zechariah 14:5\">Zechariah 14:5</a>&nbsp;<span class=\"hb\">וְנַסְתֶּ֗ם </span>"
      ],
      "text/plain": [
       "<IPython.core.display.HTML object>"
      ]
     },
     "metadata": {},
     "output_type": "display_data"
    },
    {
     "data": {
      "text/html": [
       "<a href=\"https://shebanq.ancient-data.org/hebrew/text?book=Sacharia&amp;chapter=14&amp;verse=5&amp;version=c&amp;mr=m&amp;qw=q&amp;tp=txt_p&amp;tr=hb&amp;wget=v&amp;qget=v&amp;nget=vt\" title=\"show this passage in SHEBANQ\" sec=\"Zechariah 14:5\">Zechariah 14:5</a>&nbsp;<span class=\"hb\">וּבָא֙ יְהוָ֣ה אֱלֹהַ֔י </span>"
      ],
      "text/plain": [
       "<IPython.core.display.HTML object>"
      ]
     },
     "metadata": {},
     "output_type": "display_data"
    },
    {
     "data": {
      "text/html": [
       "<a href=\"https://shebanq.ancient-data.org/hebrew/text?book=Sacharia&amp;chapter=14&amp;verse=6&amp;version=c&amp;mr=m&amp;qw=q&amp;tp=txt_p&amp;tr=hb&amp;wget=v&amp;qget=v&amp;nget=vt\" title=\"show this passage in SHEBANQ\" sec=\"Zechariah 14:6\">Zechariah 14:6</a>&nbsp;<span class=\"hb\">וְהָיָ֖ה </span>"
      ],
      "text/plain": [
       "<IPython.core.display.HTML object>"
      ]
     },
     "metadata": {},
     "output_type": "display_data"
    },
    {
     "data": {
      "text/html": [
       "<a href=\"https://shebanq.ancient-data.org/hebrew/text?book=Sacharia&amp;chapter=14&amp;verse=6&amp;version=c&amp;mr=m&amp;qw=q&amp;tp=txt_p&amp;tr=hb&amp;wget=v&amp;qget=v&amp;nget=vt\" title=\"show this passage in SHEBANQ\" sec=\"Zechariah 14:6\">Zechariah 14:6</a>&nbsp;<span class=\"hb\"><span  class=\"hl\" >בַּ</span><span  class=\"hl\" ></span><span  class=\"hl\" >יֹּ֣ום </span><span  class=\"hl\" >הַ</span><span  class=\"hl\" >ה֑וּא </span>לֹֽא־יִהְיֶ֣ה אֹ֔ור יְקָרֹ֖ות וְקִפָּאֹֽון׃</span>"
      ],
      "text/plain": [
       "<IPython.core.display.HTML object>"
      ]
     },
     "metadata": {},
     "output_type": "display_data"
    },
    {
     "data": {
      "text/html": [
       "<a href=\"https://shebanq.ancient-data.org/hebrew/text?book=Sacharia&amp;chapter=14&amp;verse=7&amp;version=c&amp;mr=m&amp;qw=q&amp;tp=txt_p&amp;tr=hb&amp;wget=v&amp;qget=v&amp;nget=vt\" title=\"show this passage in SHEBANQ\" sec=\"Zechariah 14:7\">Zechariah 14:7</a>&nbsp;<span class=\"hb\">וְהָיָ֣ה </span>"
      ],
      "text/plain": [
       "<IPython.core.display.HTML object>"
      ]
     },
     "metadata": {},
     "output_type": "display_data"
    },
    {
     "data": {
      "text/html": [
       "<a href=\"https://shebanq.ancient-data.org/hebrew/text?book=Sacharia&amp;chapter=14&amp;verse=7&amp;version=c&amp;mr=m&amp;qw=q&amp;tp=txt_p&amp;tr=hb&amp;wget=v&amp;qget=v&amp;nget=vt\" title=\"show this passage in SHEBANQ\" sec=\"Zechariah 14:7\">Zechariah 14:7</a>&nbsp;<span class=\"hb\">וְהָיָ֥ה </span>"
      ],
      "text/plain": [
       "<IPython.core.display.HTML object>"
      ]
     },
     "metadata": {},
     "output_type": "display_data"
    },
    {
     "data": {
      "text/html": [
       "<a href=\"https://shebanq.ancient-data.org/hebrew/text?book=Sacharia&amp;chapter=14&amp;verse=7&amp;version=c&amp;mr=m&amp;qw=q&amp;tp=txt_p&amp;tr=hb&amp;wget=v&amp;qget=v&amp;nget=vt\" title=\"show this passage in SHEBANQ\" sec=\"Zechariah 14:7\">Zechariah 14:7</a>&nbsp;<span class=\"hb\">לְעֵֽת־עֶ֖רֶב יִֽהְיֶה־אֹֽור׃ </span>"
      ],
      "text/plain": [
       "<IPython.core.display.HTML object>"
      ]
     },
     "metadata": {},
     "output_type": "display_data"
    },
    {
     "name": "stdout",
     "output_type": "stream",
     "text": [
      "\n"
     ]
    }
   ],
   "source": [
    "fuzzy_borders = components.loc[(components.PC1 > -0.1)&(components.PC1 < 0.1)]\n",
    "\n",
    "def show_contexts(ta_iterable):\n",
    "    for ta in sorted(ta_iterable):\n",
    "        context = contexts[ta]\n",
    "        show_context = sorted(context + [L.u(ta,'clause')[0]])\n",
    "        highlights = L.d(ta,'word')\n",
    "        print(f'Context for adverbial {ta}')\n",
    "        print(components.loc[ta][:2])\n",
    "        print(context_counts[ta])\n",
    "        for cl in show_context:\n",
    "            A.plain(cl, highlights=highlights, isLinked=False)\n",
    "        print()\n",
    "        \n",
    "show_contexts(fuzzy_borders.index)"
   ]
  },
  {
   "cell_type": "code",
   "execution_count": null,
   "metadata": {},
   "outputs": [],
   "source": []
  }
 ],
 "metadata": {
  "kernelspec": {
   "display_name": "Python 3",
   "language": "python",
   "name": "python3"
  },
  "language_info": {
   "codemirror_mode": {
    "name": "ipython",
    "version": 3
   },
   "file_extension": ".py",
   "mimetype": "text/x-python",
   "name": "python",
   "nbconvert_exporter": "python",
   "pygments_lexer": "ipython3",
   "version": "3.8.0"
  }
 },
 "nbformat": 4,
 "nbformat_minor": 4
}
