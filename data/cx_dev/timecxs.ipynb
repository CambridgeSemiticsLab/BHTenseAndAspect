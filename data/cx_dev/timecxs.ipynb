{
 "cells": [
  {
   "cell_type": "markdown",
   "metadata": {},
   "source": [
    "# Composing Time Constructions\n",
    "\n",
    "The current method for isolating phrase heads ([here](https://nbviewer.jupyter.org/github/ETCBC/heads/blob/master/phrase_heads.ipynb)) requires strenuous and ineloquent processing of BHSA subphrase relations. The subphrases are not always consistently encoded and suffer from numerous exceptional cases. The result is that the method is rather convoluted and ineloquent.\n",
    "\n",
    "This notebook will explore the possibility of disconnecting semantic head analysis from the ETCBC subphrase encoding. \n",
    "\n",
    "A \"semantic\" head is the primary content word of a phrase, following Croft's \"Primary Information Bearing Unit\":\n",
    "\n",
    "> **The noun and the verb are the PRIMARY INFORMATION_BEARING UNITS (PIBUs) of the phrase and clause respectively. In common parlance, they are the content words. PIBUs have major informational content that functional elements such as articles and [auxiliaries] do not have. (Croft, *Radical Construction Grammar*, 2001, 258; see also Shead, *Radical Frame Semantics and Biblical Hebrew*, 104)**\n",
    "\n",
    "> **A (semantic) head is the profile equivalent that is the primary information-bearing unit, that is, the most contentful item that most closely profiles the same kind of thing that the whole constituent profiles. (ibid., 259)**\n",
    "\n",
    "Croft also provides an additional criterion to \"profile equivalence\":\n",
    "\n",
    "> **If the criterion of profile equivalence produces two candidates for headhood, the less schematic meaning is the PIBU; that is, the PIBU is the one with the narrower extension, in the formal semantic sense of that term (ibid., 259)**\n",
    "\n",
    "## Inquiry\n",
    "\n",
    "Can we isolate semantic phrase heads in BHSA using only the phrase_atom and phrase limits? This question indeed means that we  take the phrase_atom/phrase boundaries for granted. Empirically, the validity of BHSA phrase boundaries needs to be tested. But for now, the exercise of isolating semantic phrase heads could be seen as the first step towards reproducible phrase boundaries.\n",
    "\n",
    "## Basic Concepts\n",
    "\n",
    "A semantic head will most often stand in a syntactically independent position. For Hebrew nominal phrases, that essentially means a word which is not precided by a construct, and which is semantically central (excluding attributive slots (e.g. H + noun + H + ATTRIBUTIVE) or an adjectival slots (e.g. noun + noun as in אישׁ טוב).\n",
    "\n",
    "Quantifier expressions present unique cases, which may be syntactically independent but semantically secondary. These are expressed through specialized lexical items such as cardinal numbers and qualitative quantifiers (e.g.  \"כל\" and \"חצי\").\n",
    "\n",
    "Another complication is the use of nouns as prepositional items. Such uses can be seen with words like פני \"face\" such as לפני \"in front,\" and even words like ראשׁ as in ראשׁ החדשׁ \"beginning of the month.\" \n",
    "\n",
    "Other expressions of quantity, quality, and function provide similar complexities. These cases have to be specified in advance.\n",
    "\n",
    "### Ambiguity\n",
    "\n",
    "Considerable ambiguity is present in several of cases:\n",
    "\n",
    "**`A B and C`**<br>\n",
    "Given A, B, C == nominal words. Is their relationship `A // B // C` or `A+B // C`. In other words: **what is the relationship of two adjacent nominal words given a list?** Is B a descriptor of A or is it an independent element? \n",
    "\n",
    "**`A of B and C`**<br>\n",
    "Is it, `(A of B) // (C)` or `(A of (B // C)`\n",
    "\n",
    "Or even:\n",
    "\n",
    "**`A of B C and D`**<br>\n",
    "This pattern combines elements from both ambiguous cases.\n",
    "\n",
    "To address these ambiguities we will apply a battery of disambiguation attempts. Some of those attempts will draw from corpus data, i.e. do we ever see `B and C` with the conjunction explicitly elsewhere in the corpus? Or do we ever see a `A of C` excplicitly in the corpus? Accents may also play a role: do we see a conjunctive or disjunctive accent between `B C`? \n",
    "\n",
    "## Prerequisites\n",
    "\n",
    "A number of pre-defined word sets are needed for processing quantification and ambiguous adjacency. These sets are made available in the form of `wsets`, a dictionary containing word sets that are calculated in to the `wordsets` directory of this repository. The following wordsets have been defined:\n",
    "\n",
    "* nominals – a set of word nodes with parts of speech and participles that have the potential to function as nominalized elements. The selected parts of speech are quite permissive: `{'subs', 'nmpr', 'adjv', 'advb', 'prde', 'prps', 'prin', 'inrg'}`. Since parts of speech are not taken as universal linguistic categories but only summaries of language-specific word tendencies (cf. Croft, *Radical Construction Grammar*, 2001), we consider that almost any part of speech can be used in a nominal pattern (or construction). There are some upper limits to this assumption, though. For instance, we exclude cojunctions, articles, prepositions, and negators. \n",
    "* prepositions – a word set consisting of words with a part of speech category of `prep`, a lexical set (`ls`) feature of `ppre` (\"potential preposition\"), as well as a select group of nouns like פני \"face\" which have been processed for prepositionality. \n",
    "* quantifiers - consists of word nodes that are cardinal numbers or qualitative quantifiers such as כל.\n",
    "* mword – mapping from a word to its phonological word group (\"masoretic word\"); joins words on maqqeph and ø space\n",
    "* accent_type – a mapping from a word to its accent type: conjunctive or disjunctive\n",
    "* conj_pairs – a dict of observed conjunction pairings of lexemes in the corpus: `A & B`\n",
    "* cons_pairs – a dict of observed construct pairings of lexemes in the corpus: `A of B`\n",
    "* mom – mapping from word node to its mother word node for a specified relationship: `mom[A]['coord'] = B`\n",
    "* kid – opposite of mom; mapping from word to its children nodes for a relationship: `kid[A]['cons'] = B`\n",
    "\n",
    "**Let's get started**. We load the necessary functions and BHSA data (straight from source)."
   ]
  },
  {
   "cell_type": "code",
   "execution_count": 1,
   "metadata": {},
   "outputs": [
    {
     "name": "stdout",
     "output_type": "stream",
     "text": [
      "This is Text-Fabric 7.8.12\n",
      "Api reference : https://annotation.github.io/text-fabric/Api/Fabric/\n",
      "\n",
      "123 features found and 6 ignored\n",
      "  0.00s loading features ...\n",
      "   |     0.00s No structure info in otext, the structure part of the T-API cannot be used\n",
      "  8.03s All features loaded/computed - for details use loadLog()\n"
     ]
    },
    {
     "data": {
      "text/html": [
       "<style>\n",
       "@font-face {\n",
       "  font-family: \"Ezra SIL\";\n",
       "  src:\n",
       "    local(\"SILEOT.ttf\"),\n",
       "    url(\"https://github.com/annotation/text-fabric/blob/master/tf/server/static/fonts/SILEOT.woff?raw=true\");\n",
       "}\n",
       ".features {\n",
       "    font-family: monospace;\n",
       "    font-size: medium;\n",
       "    font-weight: bold;\n",
       "    color: #0a6611;\n",
       "    display: flex;\n",
       "    flex-flow: column nowrap;\n",
       "    padding: 0.1em;\n",
       "    margin: 0.1em;\n",
       "    direction: ltr;\n",
       "}\n",
       ".features div,.features span {\n",
       "    padding: 0;\n",
       "    margin: -0.1rem 0;\n",
       "}\n",
       ".features .f {\n",
       "    font-family: sans-serif;\n",
       "    font-size: x-small;\n",
       "    font-weight: normal;\n",
       "    color: #5555bb;\n",
       "}\n",
       ".features .xft {\n",
       "  color: #000000;\n",
       "  background-color: #eeeeee;\n",
       "  font-size: medium;\n",
       "  margin: 0.1em 0em;\n",
       "}\n",
       ".features .xft .f {\n",
       "  color: #000000;\n",
       "  background-color: #eeeeee;\n",
       "  font-style: italic;\n",
       "  font-size: small;\n",
       "  font-weight: normal;\n",
       "}\n",
       ".ltr {\n",
       "    direction: ltr ! important;\n",
       "}\n",
       ".verse {\n",
       "    display: flex;\n",
       "    flex-flow: row wrap;\n",
       "    direction: rtl;\n",
       "}\n",
       ".vl {\n",
       "    display: flex;\n",
       "    flex-flow: column nowrap;\n",
       "    justify-content: flex-end;\n",
       "    align-items: flex-end;\n",
       "    direction: ltr;\n",
       "    width: 100%;\n",
       "}\n",
       ".outeritem {\n",
       "    display: flex;\n",
       "    flex-flow: row wrap;\n",
       "    direction: rtl;\n",
       "}\n",
       ".sentence,.clause,.phrase {\n",
       "    margin-top: -1.2em;\n",
       "    margin-left: 1em;\n",
       "    background: #ffffff none repeat scroll 0 0;\n",
       "    padding: 0 0.3em;\n",
       "    border-style: solid;\n",
       "    border-radius: 0.2em;\n",
       "    font-size: small;\n",
       "    display: block;\n",
       "    width: fit-content;\n",
       "    max-width: fit-content;\n",
       "    direction: ltr;\n",
       "}\n",
       ".atoms {\n",
       "    display: flex;\n",
       "    flex-flow: row wrap;\n",
       "    margin: 0.3em;\n",
       "    padding: 0.3em;\n",
       "    direction: rtl;\n",
       "    background-color: #ffffff;\n",
       "}\n",
       ".satom,.catom,.patom {\n",
       "    margin: 0.3em;\n",
       "    padding: 0.3em;\n",
       "    border-radius: 0.3em;\n",
       "    border-style: solid;\n",
       "    display: flex;\n",
       "    flex-flow: column nowrap;\n",
       "    direction: rtl;\n",
       "    background-color: #ffffff;\n",
       "}\n",
       ".sentence {\n",
       "    border-color: #aa3333;\n",
       "    border-width: 1px;\n",
       "}\n",
       ".clause {\n",
       "    border-color: #aaaa33;\n",
       "    border-width: 1px;\n",
       "}\n",
       ".phrase {\n",
       "    border-color: #33aaaa;\n",
       "    border-width: 1px;\n",
       "}\n",
       ".satom {\n",
       "    border-color: #aa3333;\n",
       "    border-width: 4px;\n",
       "}\n",
       ".catom {\n",
       "    border-color: #aaaa33;\n",
       "    border-width: 3px;\n",
       "}\n",
       ".patom {\n",
       "    border-color: #33aaaa;\n",
       "    border-width: 3px;\n",
       "}\n",
       ".word {\n",
       "    padding: 0.1em;\n",
       "    margin: 0.1em;\n",
       "    border-radius: 0.1em;\n",
       "    border: 1px solid #cccccc;\n",
       "    display: flex;\n",
       "    flex-flow: column nowrap;\n",
       "    direction: rtl;\n",
       "    background-color: #ffffff;\n",
       "}\n",
       ".lextp {\n",
       "    padding: 0.1em;\n",
       "    margin: 0.1em;\n",
       "    border-radius: 0.1em;\n",
       "    border: 2px solid #888888;\n",
       "    width: fit-content;\n",
       "    display: flex;\n",
       "    flex-flow: column nowrap;\n",
       "    direction: rtl;\n",
       "    background-color: #ffffff;\n",
       "}\n",
       ".occs {\n",
       "    font-size: x-small;\n",
       "}\n",
       ".satom.l,.catom.l,.patom.l {\n",
       "    border-left-style: dotted\n",
       "}\n",
       ".satom.r,.catom.r,.patom.r {\n",
       "    border-right-style: dotted\n",
       "}\n",
       ".satom.lno,.catom.lno,.patom.lno {\n",
       "    border-left-style: none\n",
       "}\n",
       ".satom.rno,.catom.rno,.patom.rno {\n",
       "    border-right-style: none\n",
       "}\n",
       ".tr,.tr a:visited,.tr a:link {\n",
       "    font-family: sans-serif;\n",
       "    font-size: large;\n",
       "    color: #000044;\n",
       "    direction: ltr;\n",
       "    text-decoration: none;\n",
       "}\n",
       ".trb,.trb a:visited,.trb a:link {\n",
       "    font-family: sans-serif;\n",
       "    font-size: normal;\n",
       "    direction: ltr;\n",
       "    text-decoration: none;\n",
       "}\n",
       ".prb,.prb a:visited,.prb a:link {\n",
       "    font-family: sans-serif;\n",
       "    font-size: large;\n",
       "    direction: ltr;\n",
       "    text-decoration: none;\n",
       "}\n",
       ".h,.h a:visited,.h a:link {\n",
       "    font-family: \"Ezra SIL\", \"SBL Hebrew\", sans-serif;\n",
       "    font-size: large;\n",
       "    color: #000044;\n",
       "    direction: rtl;\n",
       "    text-decoration: none;\n",
       "}\n",
       ".hb,.hb a:visited,.hb a:link {\n",
       "    font-family: \"Ezra SIL\", \"SBL Hebrew\", sans-serif;\n",
       "    font-size: large;\n",
       "    line-height: 2;\n",
       "    direction: rtl;\n",
       "    text-decoration: none;\n",
       "}\n",
       ".vn {\n",
       "  font-size: small !important;\n",
       "  padding-right: 1em;\n",
       "}\n",
       ".rela,.function,.typ {\n",
       "    font-family: monospace;\n",
       "    font-size: small;\n",
       "    color: #0000bb;\n",
       "}\n",
       ".pdp,.pdp a:visited,.pdp a:link {\n",
       "    font-family: monospace;\n",
       "    font-size: medium;\n",
       "    color: #0000bb;\n",
       "    text-decoration: none;\n",
       "}\n",
       ".voc_lex {\n",
       "    font-family: monospace;\n",
       "    font-size: medium;\n",
       "    color: #0000bb;\n",
       "}\n",
       ".vs {\n",
       "    font-family: monospace;\n",
       "    font-size: medium;\n",
       "    font-weight: bold;\n",
       "    color: #0000bb;\n",
       "}\n",
       ".vt {\n",
       "    font-family: monospace;\n",
       "    font-size: medium;\n",
       "    font-weight: bold;\n",
       "    color: #0000bb;\n",
       "}\n",
       ".gloss {\n",
       "    font-family: sans-serif;\n",
       "    font-size: small;\n",
       "    font-weight: normal;\n",
       "    color: #444444;\n",
       "}\n",
       ".vrs {\n",
       "    font-family: sans-serif;\n",
       "    font-size: small;\n",
       "    font-weight: bold;\n",
       "    color: #444444;\n",
       "}\n",
       ".nd {\n",
       "    font-family: monospace;\n",
       "    font-size: x-small;\n",
       "    color: #999999;\n",
       "}\n",
       ".hl {\n",
       "    background-color: #ffee66;\n",
       "}\n",
       "\n",
       "tr.tf, td.tf, th.tf {\n",
       "  text-align: left;\n",
       "}\n",
       "\n",
       "span.hldot {\n",
       "\tbackground-color: var(--hl-strong);\n",
       "\tborder: 0.2rem solid var(--hl-rim);\n",
       "\tborder-radius: 0.4rem;\n",
       "\t/*\n",
       "\tdisplay: inline-block;\n",
       "\twidth: 0.8rem;\n",
       "\theight: 0.8rem;\n",
       "\t*/\n",
       "}\n",
       "span.hl {\n",
       "\tbackground-color: var(--hl-strong);\n",
       "\tborder-width: 0;\n",
       "\tborder-radius: 0.1rem;\n",
       "\tborder-style: solid;\n",
       "}\n",
       "\n",
       "span.hlup {\n",
       "\tborder-color: var(--hl-dark);\n",
       "\tborder-width: 0.1rem;\n",
       "\tborder-style: solid;\n",
       "\tborder-radius: 0.2rem;\n",
       "  padding: 0.2rem;\n",
       "}\n",
       "\n",
       ":root {\n",
       "\t--hl-strong:        hsla( 60, 100%,  70%, 0.9  );\n",
       "\t--hl-rim:           hsla( 55, 100%,  60%, 0.9  );\n",
       "\t--hl-dark:          hsla( 55, 100%,  40%, 0.9  );\n",
       "}\n",
       "</style>"
      ],
      "text/plain": [
       "<IPython.core.display.HTML object>"
      ]
     },
     "metadata": {},
     "output_type": "display_data"
    }
   ],
   "source": [
    "import sys\n",
    "import collections\n",
    "import pickle\n",
    "import random\n",
    "import re\n",
    "import itertools\n",
    "import copy\n",
    "from IPython.display import display, HTML\n",
    "from datetime import datetime\n",
    "from pprint import pprint\n",
    "from tf.app import use\n",
    "from tf.fabric import Fabric\n",
    "from tools.locations import data_locations\n",
    "\n",
    "# load custom wordsets\n",
    "wsets = pickle.load(open('wordsets/wsets.pickle', 'rb'))\n",
    "\n",
    "# load custom BHSA data + heads\n",
    "TF = Fabric(locations=data_locations.values())\n",
    "load_features = ['g_cons_utf8', 'trailer_utf8', 'label', 'lex',\n",
    "                 'role', 'rela', 'typ', 'function', 'language',\n",
    "                 'pdp', 'gloss', 'vs', 'vt', 'nhead', 'head', \n",
    "                 'mother', 'nu', 'prs', 'sem_set', 'ls', 'st',\n",
    "                 'kind', 'top_assoc', 'number', 'obj_prep',\n",
    "                 'embed', 'freq_lex', 'sp']\n",
    "api = TF.load(' '.join(load_features))\n",
    "F, E, T, L = api.F, api.E, api.T, api.L # shortform TF methods\n",
    "\n",
    "A = use('bhsa', api=api, silent=True)\n",
    "A.displaySetup(condenseType='phrase', withNodes=True, extraFeatures='st')"
   ]
  },
  {
   "cell_type": "markdown",
   "metadata": {},
   "source": [
    "### Wordsets"
   ]
  },
  {
   "cell_type": "code",
   "execution_count": 2,
   "metadata": {},
   "outputs": [
    {
     "data": {
      "text/plain": [
       "dict_keys(['noms', 'preps', 'quants', 'accent_type', 'mwords', 'conj_pairs', 'cons_pairs'])"
      ]
     },
     "execution_count": 2,
     "metadata": {},
     "output_type": "execute_result"
    }
   ],
   "source": [
    "wsets.keys()"
   ]
  },
  {
   "cell_type": "code",
   "execution_count": 3,
   "metadata": {},
   "outputs": [
    {
     "data": {
      "text/plain": [
       "['>JC/', 'KL/', 'BN/', 'TPF[', 'MZBX/', 'B>R/', '<T/', 'XRB/', 'RWX/', 'MLK/']"
      ]
     },
     "execution_count": 3,
     "metadata": {},
     "output_type": "execute_result"
    }
   ],
   "source": [
    "list(wsets['cons_pairs'].keys())[:10]"
   ]
  },
  {
   "cell_type": "code",
   "execution_count": 4,
   "metadata": {},
   "outputs": [],
   "source": [
    "#wsets['conj_pairs']['>JC/']"
   ]
  },
  {
   "cell_type": "markdown",
   "metadata": {},
   "source": [
    "# Machinery\n",
    "\n",
    "We could use some machinery to do the hard work of looking in and around a node. In the older approach we used TF search templates. But these are not very efficient at scale, and they are always bound by the limits of the query language. I take another approach here: a set of classes that specify locations and directions within a specified context."
   ]
  },
  {
   "cell_type": "code",
   "execution_count": 5,
   "metadata": {},
   "outputs": [],
   "source": [
    "from tools.langtools import Positions, Walker, Dummy"
   ]
  },
  {
   "cell_type": "markdown",
   "metadata": {},
   "source": [
    "## `Positions`"
   ]
  },
  {
   "cell_type": "markdown",
   "metadata": {},
   "source": [
    "The `Positions` class enables concise access to adjacent nodes within a given context. This allows us to write algorithms with query-like efficiency with all of the power of Python. "
   ]
  },
  {
   "cell_type": "markdown",
   "metadata": {},
   "source": [
    "This class is instantiated on a word node and can provide contextual look-up data for a given word. For example, given a phrase containing the following word nodes:\n",
    "\n",
    "> (189681, 189682, **189683**, 189684, 189685, 189686) <br>\n",
    "\n",
    "representing the following phrase (space separated for clarity):\n",
    "\n",
    "> ב שׁנת **שׁלשׁים** ו שׁמנה שׁנה\n",
    "\n",
    "Given that the bolded node, `189683` is our `source` word, we instantiate the class, feeding in the node, the \"phrase_atom\" string (which is the context we want to search within), and an instance of Text-Fabric (`tf`):"
   ]
  },
  {
   "cell_type": "code",
   "execution_count": 6,
   "metadata": {},
   "outputs": [],
   "source": [
    "      #    source node    context  TF instance  \n",
    "      #         |            |       |\n",
    "P = Positions(189683, 'phrase_atom', A).get"
   ]
  },
  {
   "cell_type": "markdown",
   "metadata": {},
   "source": [
    "If we want to obtain the word adjacent one space forward, we simply ask `P` for `1`, which gives us the next word in the phrase."
   ]
  },
  {
   "cell_type": "code",
   "execution_count": 7,
   "metadata": {},
   "outputs": [
    {
     "data": {
      "text/plain": [
       "189684"
      ]
     },
     "execution_count": 7,
     "metadata": {},
     "output_type": "execute_result"
    }
   ],
   "source": [
    "P(1)"
   ]
  },
  {
   "cell_type": "markdown",
   "metadata": {},
   "source": [
    "If we try to ask for 4 words forward, we go beyond the bounds of the phrase. But `P` handles this by returning nothing:"
   ]
  },
  {
   "cell_type": "code",
   "execution_count": 8,
   "metadata": {},
   "outputs": [],
   "source": [
    "P(4)"
   ]
  },
  {
   "cell_type": "markdown",
   "metadata": {},
   "source": [
    "To look back one word, we simply give a negative value:"
   ]
  },
  {
   "cell_type": "code",
   "execution_count": 9,
   "metadata": {},
   "outputs": [
    {
     "data": {
      "text/plain": [
       "189682"
      ]
     },
     "execution_count": 9,
     "metadata": {},
     "output_type": "execute_result"
    }
   ],
   "source": [
    "P(-1)"
   ]
  },
  {
   "cell_type": "markdown",
   "metadata": {},
   "source": [
    "Finally, `P` can be used to quickly call features on these words. For instance, in order to get the lexeme of the word two words in front of `189683`:"
   ]
  },
  {
   "cell_type": "code",
   "execution_count": 10,
   "metadata": {},
   "outputs": [
    {
     "data": {
      "text/plain": [
       "'CMNH/'"
      ]
     },
     "execution_count": 10,
     "metadata": {},
     "output_type": "execute_result"
    }
   ],
   "source": [
    "P(2,'lex')"
   ]
  },
  {
   "cell_type": "markdown",
   "metadata": {},
   "source": [
    "And if we want to get a number of features, we can just add other features to the arguments. The result is a feature set:"
   ]
  },
  {
   "cell_type": "code",
   "execution_count": 11,
   "metadata": {},
   "outputs": [
    {
     "data": {
      "text/plain": [
       "{'CMNH/', 'sg'}"
      ]
     },
     "execution_count": 11,
     "metadata": {},
     "output_type": "execute_result"
    }
   ],
   "source": [
    "P(2, 'lex', 'nu')"
   ]
  },
  {
   "cell_type": "markdown",
   "metadata": {},
   "source": [
    "`P` can also handle features on the source node itself by giving a positionality of `0`:"
   ]
  },
  {
   "cell_type": "code",
   "execution_count": 12,
   "metadata": {},
   "outputs": [
    {
     "data": {
      "text/plain": [
       "'CLC/'"
      ]
     },
     "execution_count": 12,
     "metadata": {},
     "output_type": "execute_result"
    }
   ],
   "source": [
    "P(0, 'lex')"
   ]
  },
  {
   "cell_type": "markdown",
   "metadata": {},
   "source": [
    "## `Walker`\n",
    "\n",
    "`Walker` performs a similar function to `Positions`, except it is ambiguous to exact positions, walking either `ahead` or `back` from the source to a target node in the context. A function must be supplied that returns `True` on the target node.\n",
    "\n",
    "We instantiate the `Walker` using the same source and context as above."
   ]
  },
  {
   "cell_type": "code",
   "execution_count": 13,
   "metadata": {},
   "outputs": [],
   "source": [
    "      #  source node    context  TF instance  \n",
    "      #       |            |       |\n",
    "Wk = Walker(189683, 'phrase_atom', A)"
   ]
  },
  {
   "cell_type": "markdown",
   "metadata": {},
   "source": [
    "`Walker` is demonstrated below with the same word. A simple `lambda` function is used to test for the lexeme. In the example below, we find the first word ahead of `189683` that is a cardinal number:"
   ]
  },
  {
   "cell_type": "code",
   "execution_count": 14,
   "metadata": {},
   "outputs": [
    {
     "data": {
      "text/plain": [
       "189685"
      ]
     },
     "execution_count": 14,
     "metadata": {},
     "output_type": "execute_result"
    }
   ],
   "source": [
    "Wk.ahead(lambda w: F.ls.v(w) == 'card')"
   ]
  },
  {
   "cell_type": "markdown",
   "metadata": {},
   "source": [
    "An alternative demonstrates the `None` returned on the lack of a valid match."
   ]
  },
  {
   "cell_type": "code",
   "execution_count": 15,
   "metadata": {},
   "outputs": [],
   "source": [
    "Wk.ahead(lambda w: F.ls.v(w) == 'BOOGABOOGA')"
   ]
  },
  {
   "cell_type": "markdown",
   "metadata": {},
   "source": [
    "Another example wherein we walk backwards to the preposition:"
   ]
  },
  {
   "cell_type": "code",
   "execution_count": 16,
   "metadata": {},
   "outputs": [
    {
     "data": {
      "text/plain": [
       "189681"
      ]
     },
     "execution_count": 16,
     "metadata": {},
     "output_type": "execute_result"
    }
   ],
   "source": [
    "Wk.back(lambda w: F.sp.v(w) == 'prep')"
   ]
  },
  {
   "cell_type": "markdown",
   "metadata": {},
   "source": [
    "We can also specify that the walk should be interrupted under certain conditions with a `stop` function. In this case we walk forward to the next cardinal number, but the walk is interrupted when the `stop` function detects a conjunction."
   ]
  },
  {
   "cell_type": "code",
   "execution_count": 17,
   "metadata": {},
   "outputs": [],
   "source": [
    "Wk.ahead(lambda w: F.ls.v(w) == 'card',\n",
    "         stop=lambda w: F.sp.v(w) == 'conj')"
   ]
  },
  {
   "cell_type": "markdown",
   "metadata": {},
   "source": [
    "We can also specify the opposite with a `go` function argument, which defines the nodes that allowed to intervene between `source` and `target`. Below we specify that *only* a conjunction should intervene."
   ]
  },
  {
   "cell_type": "code",
   "execution_count": 18,
   "metadata": {},
   "outputs": [
    {
     "data": {
      "text/plain": [
       "189685"
      ]
     },
     "execution_count": 18,
     "metadata": {},
     "output_type": "execute_result"
    }
   ],
   "source": [
    "Wk.ahead(lambda w: F.ls.v(w) == 'card',\n",
    "         go=lambda w: F.sp.v(w) == 'conj')"
   ]
  },
  {
   "cell_type": "markdown",
   "metadata": {},
   "source": [
    "The `go` and `stop` functions can be as permissive or strict as desired.\n",
    "\n",
    "Finally, we can tell `Walker` that the output of the validation function should be returned instead of the node itself with the optional argument `output=True`:"
   ]
  },
  {
   "cell_type": "code",
   "execution_count": 19,
   "metadata": {},
   "outputs": [
    {
     "data": {
      "text/plain": [
       "'card'"
      ]
     },
     "execution_count": 19,
     "metadata": {},
     "output_type": "execute_result"
    }
   ],
   "source": [
    "val_funct = lambda w: F.ls.v(w) if F.ls.v(w)=='card' else None\n",
    "\n",
    "Wk.ahead(val_funct, output=True)"
   ]
  },
  {
   "cell_type": "markdown",
   "metadata": {},
   "source": [
    "This ability is useful for certain tests."
   ]
  },
  {
   "cell_type": "markdown",
   "metadata": {},
   "source": [
    "## `Dummy`\n",
    "\n",
    "When writing conditions and logic, we want an object that passively receives `NoneType`s or zero `int`s without throwing errors. Such an object should also return `None` to reflect its `False` value. `Dummy`, provides such functionality. `Dummy` can receive all of the arguments, kwargs, and function calls as a `Positions` or `Walker` object. But it returns absolutely nothing. Ouch."
   ]
  },
  {
   "cell_type": "code",
   "execution_count": 20,
   "metadata": {},
   "outputs": [],
   "source": [
    "D = Dummy(None, 'phrase_atom', A)"
   ]
  },
  {
   "cell_type": "markdown",
   "metadata": {},
   "source": [
    "The function call below returns `None`:"
   ]
  },
  {
   "cell_type": "code",
   "execution_count": 21,
   "metadata": {},
   "outputs": [],
   "source": [
    "D.get(1)"
   ]
  },
  {
   "cell_type": "markdown",
   "metadata": {},
   "source": [
    "As does this:"
   ]
  },
  {
   "cell_type": "code",
   "execution_count": 22,
   "metadata": {},
   "outputs": [],
   "source": [
    "D.get(1, 'lex')"
   ]
  },
  {
   "cell_type": "markdown",
   "metadata": {},
   "source": [
    "And even this:"
   ]
  },
  {
   "cell_type": "code",
   "execution_count": 23,
   "metadata": {},
   "outputs": [],
   "source": [
    "D.ahead(1)"
   ]
  },
  {
   "cell_type": "markdown",
   "metadata": {},
   "source": [
    "`D` is essentially a souless void that consumes whatever you throw at it and gives nothing in return."
   ]
  },
  {
   "cell_type": "markdown",
   "metadata": {},
   "source": [
    "For safe-calls on a `Position` or `Walker` object, assign nodes to it via a function with a `Dummy` given on null nodes:"
   ]
  },
  {
   "cell_type": "code",
   "execution_count": 24,
   "metadata": {},
   "outputs": [],
   "source": [
    "def getPos(node, context, tf):\n",
    "    \"\"\"A function to get Positions safely.\"\"\"\n",
    "    if node:\n",
    "        return Positions(node, context, tf)\n",
    "    else:\n",
    "        return Dummy() # <- give dummy on empty node"
   ]
  },
  {
   "cell_type": "markdown",
   "metadata": {},
   "source": [
    "So:"
   ]
  },
  {
   "cell_type": "code",
   "execution_count": 25,
   "metadata": {},
   "outputs": [],
   "source": [
    "P = getPos(None, 'phrase_atom', A)\n",
    "P.get(1)"
   ]
  },
  {
   "cell_type": "markdown",
   "metadata": {},
   "source": [
    "Or:"
   ]
  },
  {
   "cell_type": "code",
   "execution_count": 26,
   "metadata": {},
   "outputs": [
    {
     "data": {
      "text/plain": [
       "2"
      ]
     },
     "execution_count": 26,
     "metadata": {},
     "output_type": "execute_result"
    }
   ],
   "source": [
    "P = getPos(1, 'phrase_atom', A)\n",
    "P.get(1)"
   ]
  },
  {
   "cell_type": "markdown",
   "metadata": {},
   "source": [
    "# Need for Semantic Data\n",
    "\n",
    "The accurate processing of word connections depends on fuller semantic data than BHSA provides. Future semantic data could be stored in a similar way to word sets (`wsets`). \n",
    "\n",
    "For example, in the two phrases\n",
    "\n",
    "> (Exod 25:39) ככר זהב טהור <br>\n",
    "> (2 Sam 24:24) בכסף שקלים חמשׁים\n",
    "\n",
    "we see that זהב and כסף, despite being in two different positions with two different words indicates a kind of \"composed of\" semantic concept: \"round gold\" (i.e. round composed of gold) and \"silver shekels\" (shekels composed of silver). To process these kinds of links, we need a list of nouns that often function as \"material.\" But this is only the beginning. Many other words will have specific semantic values that motivate their syntactic behavior. Such a scope lies outside the bounds of this author's current project on Hebrew time phrases.\n",
    "\n",
    "## A Compromise: Time Phrases\n",
    "\n",
    "Since constructing these semantic classes is vastly time consuming, I want to start with a smaller set of cases. I will instead focus on parsing connections within time phrases for now. This is because I am analyzing time phrases in my current ongoing PhD project. "
   ]
  },
  {
   "cell_type": "code",
   "execution_count": 27,
   "metadata": {},
   "outputs": [],
   "source": [
    "def disjoint(ph):\n",
    "    \"\"\"Isolate phrases with gaps.\"\"\"\n",
    "    ph = L.d(ph,'word')\n",
    "    for w in ph:\n",
    "        if ph[-1] == w:\n",
    "            break\n",
    "        elif (ph[ph.index(w)+1] - w) > 1:\n",
    "            return True"
   ]
  },
  {
   "cell_type": "code",
   "execution_count": 28,
   "metadata": {},
   "outputs": [
    {
     "name": "stdout",
     "output_type": "stream",
     "text": [
      "2102 phrases ready\n"
     ]
    }
   ],
   "source": [
    "alltimes = [\n",
    "    ph for ph in F.otype.s('timephrase') \n",
    "        if len(L.d(ph, 'word')) > 2\n",
    "]\n",
    "    \n",
    "timephrases = [ph for ph in alltimes if not disjoint(ph)]\n",
    "\n",
    "print(f'{len(timephrases)} phrases ready')"
   ]
  },
  {
   "cell_type": "markdown",
   "metadata": {},
   "source": [
    "## Search & Display Functions\n",
    "\n",
    "The functions below allow for fast searching and displaying of queries using the `Positions` class. The searches rely on the `Grammar` class, described further below."
   ]
  },
  {
   "cell_type": "code",
   "execution_count": 106,
   "metadata": {},
   "outputs": [],
   "source": [
    "def prettyconds(cases):\n",
    "    '''\n",
    "    Iterate through an explain dict for a rela\n",
    "    and print out all of checked conditions.\n",
    "    '''\n",
    "    for case in cases:\n",
    "        print('cnds:')\n",
    "        for cond, value in case['conds'].items():\n",
    "            print('{:<30} {:>30}'.format(cond, str(value)))\n",
    "        \n",
    "        print()\n",
    "        \n",
    "def showmatch(cx):\n",
    "    '''\n",
    "    Displays a match from a Grammar test.\n",
    "    '''\n",
    "    showcontext = tuple(set(L.u(s, 'phrase')[0] for s in cx.slots))\n",
    "    timephrase = L.u(list(cx.slots)[0], 'timephrase')[0]\n",
    "        \n",
    "    if not cx:\n",
    "        print('NO MATCHES')\n",
    "        print('-'*20)\n",
    "        A.prettyTuple(showcontext, extraFeatures='sp st', withNodes=True, seq=cx)\n",
    "        #prettyconds(cx.conds)\n",
    "        return None\n",
    "\n",
    "    colors = itertools.cycle(['pink', 'lightblue', \n",
    "                              'yellow', 'lightgreen'])\n",
    "    highlights = {}\n",
    "    role2color = {}\n",
    "    \n",
    "    for role, slots in cx.role2slots.items():\n",
    "        color = next(colors)\n",
    "        role2color[role] = color\n",
    "        for slot in slots:\n",
    "            highlights[slot] = color\n",
    "    \n",
    "    A.prettyTuple(\n",
    "        showcontext, \n",
    "        extraFeatures='sp st', \n",
    "        withNodes=True, \n",
    "        seq=cx, \n",
    "        highlights=highlights\n",
    "    )\n",
    "    # reveal color meanings\n",
    "    for role,color in role2color.items():\n",
    "        colmean = '<div style=\"background: {}; text-align: center\">{}</div>'.format(color, role)\n",
    "        display(HTML(colmean))\n",
    "    \n",
    "    pprint(cx.unfoldroles(), indent=4)\n",
    "    print()\n",
    "    \n",
    "    #prettyconds(cx.cases)\n",
    "    display(HTML('<hr>'))\n",
    "        \n",
    "def test_search(relastr, show=10, end=None, name='', phrases=None):\n",
    "    '''\n",
    "    Searches phrases with the specified relation \n",
    "    and prints out their descriptive explanation.\n",
    "    '''\n",
    "    \n",
    "    start = datetime.now()\n",
    "    print('beginning search')\n",
    "    \n",
    "    # build a convenient test set of words\n",
    "    phrases = phrases or [ph for ph in F.otype.s('phrase_atom') \n",
    "                   if F.typ.v(ph) in {'NP', 'PP'}\n",
    "                   and len(L.d(ph, 'word')) > 1\n",
    "              ]\n",
    "    words = [w for ph in phrases for w in L.d(ph, 'word')]\n",
    "    \n",
    "    # random shuffle to get good diversity of examples\n",
    "    random.shuffle(words)\n",
    "    \n",
    "    # set up grammar\n",
    "    G = NounGrammar(wsets, A)\n",
    "    \n",
    "    matches = []\n",
    "    append = matches.append\n",
    "    \n",
    "    # iterate and find matches on words\n",
    "    for i,w in enumerate(words):\n",
    "\n",
    "        # update every 5000 iterations\n",
    "        if i%5000 == 0:\n",
    "            print(f'\\t{len(matches)} found ({i}/{len(words)})')\n",
    "        \n",
    "        # run grammar search\n",
    "        test = G.tests[relastr](w)\n",
    "        \n",
    "        # save results\n",
    "        if test['match']:\n",
    "            if not name:\n",
    "                append(test)\n",
    "            elif test['match']['name'] == name:\n",
    "                append(test)\n",
    "            \n",
    "        # stop at end\n",
    "        if len(matches) == end:\n",
    "            break\n",
    "        \n",
    "        \n",
    "    # display\n",
    "    print('done at', datetime.now() - start)\n",
    "    print(len(matches), 'matches found...')\n",
    "    print('showing', end)\n",
    "    \n",
    "    for match in matches[:show]:\n",
    "        showmatch(match)"
   ]
  },
  {
   "cell_type": "markdown",
   "metadata": {},
   "source": [
    "## Constructions classes\n",
    "\n",
    "While `Positions` provides concise access to context, A `Constructions` class contains a series of functions which test a bunch of conditions. The conditions are formed by testing word `Positions`. An example of a `Constructions` class is provided below."
   ]
  },
  {
   "cell_type": "code",
   "execution_count": 72,
   "metadata": {},
   "outputs": [],
   "source": [
    "class Bunch(object):\n",
    "    \"\"\"Stores variables for shorthand and safe access.\"\"\"\n",
    "    def __init__(self, vardict):\n",
    "        \"\"\"Initialize variables object with dict.\"\"\"\n",
    "        self.dict = vardict\n",
    "        for k,v in vardict.items():\n",
    "            setattr(self, k, v)\n",
    "    def __getattr__(self, name):\n",
    "        return None\n",
    "    def __deepcopy__(self, memo=None):\n",
    "        \"\"\"Handle deep copy errors by instancing a diff Bunch object.\"\"\"\n",
    "        return Bunch(self.dict)\n",
    "    \n",
    "class Construction(object):\n",
    "    \"\"\"A linguistic construction and its attributes.\"\"\"\n",
    "    \n",
    "    def __init__(self, **specs):\n",
    "        \"\"\"Initialize construction item.\n",
    "        \n",
    "        **specs:\n",
    "            name: A name for the construction.\n",
    "            roles: A dict which maps roles\n",
    "                to either another Construction item\n",
    "                or to a Text-Fabric word node.\n",
    "            cases: A tuple containing condition dicts\n",
    "                that were evaluated when processing this\n",
    "                Construction. Key is string containing condition,\n",
    "                value is Boolean.\n",
    "            conds: A condition dict containing all of the\n",
    "                conditions that evaluated to True to validate\n",
    "                this Construction.\n",
    "        \"\"\"\n",
    "        self.match = specs.get('match', {})\n",
    "        self.name = specs.get('name', '')\n",
    "        self.pattern = specs.get('pattern', specs.get('name', ''))\n",
    "        self.roles = Bunch(specs.get('roles', {}))\n",
    "        self.inherits = specs.get('inherits', set())\n",
    "        self.conds = specs.get('conds', {})\n",
    "        self.cases = specs.get('cases', tuple())\n",
    "        self.role2slots = collections.defaultdict(set)\n",
    "        self.slots = set()\n",
    "        self.mapslots(self.roles.dict)\n",
    "        self.slots = set(sorted(self.slots)) # sort slots\n",
    "        self.slots2role = {\n",
    "            tuple(sorted(slots)):role \n",
    "                for role, slots in self.role2slots.items()\n",
    "        }\n",
    "        \n",
    "    def __bool__(self):\n",
    "        if self.match:\n",
    "            return True\n",
    "        else:\n",
    "            return False\n",
    "        \n",
    "    def __str__(self):\n",
    "        if self:\n",
    "            return f'CX {self.name} {self.slots}'\n",
    "        else:\n",
    "            return ''\n",
    "        \n",
    "    def __repr__(self):\n",
    "        if self:\n",
    "            return f'CX {self.name} {self.slots}'\n",
    "        else:\n",
    "            return ''\n",
    "            \n",
    "    def mapslots(self, rolesdict, rolename=None):\n",
    "        \"\"\"Recursively map all slots to top embedding role name.\n",
    "\n",
    "        Match items contain a roles key which can contain\n",
    "        any number of other match items. This function maps\n",
    "        all constituent words (Text-Fabric \"slots\") to their\n",
    "        top-level linguistic unit (linguistic role).\n",
    "        \"\"\"\n",
    "        for role, item in rolesdict.items():\n",
    "            if type(item) == Construction:\n",
    "                self.mapslots(\n",
    "                    item.roles.dict,\n",
    "                    rolename=rolename or role\n",
    "                )\n",
    "            elif type(item) == int:\n",
    "                self.role2slots[rolename or role].add(item)\n",
    "                self.slots.add(item)\n",
    "\n",
    "    def updaterole(self, role, item):\n",
    "        \"\"\"Updates the role.\"\"\"\n",
    "        setattr(self.roles, role, item)\n",
    "        self.roles.dict[role] = item\n",
    "        \n",
    "        # update slots \n",
    "        \n",
    "        # delete previous slots2role for this role\n",
    "        oldslots = tuple(sorted(self.role2slots[role]))\n",
    "        del self.slots2role[oldslots]\n",
    "        \n",
    "        if type(item) == Construction:\n",
    "            self.slots |= item.slots    \n",
    "            self.role2slots[role] = item.slots\n",
    "            self.slots2role[tuple(sorted(item.slots))] = role\n",
    "        elif type(item) == int:\n",
    "            self.slots.add(item)\n",
    "            self.role2slots[role] = item\n",
    "            self.slots2role[(item,)] = role\n",
    "            \n",
    "    def getslotrole(self, slot):\n",
    "        \"\"\"Returns the role to which a slot belongs to.\"\"\"\n",
    "        for role, slots in self.role2slots.items():\n",
    "            if slot in slots:\n",
    "                return role\n",
    "    \n",
    "    def unfoldroles(self, cx=None):\n",
    "        \"\"\"Return all contained construction roles as a dict.\n",
    "\n",
    "        Recursively calls down into construction objects to convert\n",
    "        to role.dict with TF slots.\n",
    "        \"\"\"\n",
    "        cx = cx or self\n",
    "        roledict={}\n",
    "        roledict['__cx__'] = cx.name\n",
    "        for role, item in cx.roles.dict.items():\n",
    "            if type(item) == Construction :\n",
    "                roledict[role] = self.unfoldroles(item)\n",
    "            elif type(item) == int:\n",
    "                roledict[role] = item\n",
    "        return roledict\n",
    "\n",
    "    \n",
    "class CXbuilder(object):\n",
    "    \"\"\"Identifies and builds constructions using Text-Fabric nodes.\"\"\"\n",
    "    \n",
    "    def __init__(self, semsets, tf, **kwargs):\n",
    "        \"\"\"Initialize Constructions object.\n",
    "        \n",
    "        Arguments:\n",
    "            semsets: A dictionary containing semantic\n",
    "                sets. Key should be the name of the set.\n",
    "                Value is a set of TF nodes.\n",
    "            tf: An instance of Text-Fabric.\n",
    "            \n",
    "        **kwargs:\n",
    "            context: the context that contains the node in \n",
    "            which to run the attribute tests.\n",
    "        \"\"\"\n",
    "        self.tf = tf\n",
    "        self.F, self.T, self.L = tf.api.F, tf.api.T, tf.api.L\n",
    "        self.context = kwargs.get('context', 'phrase_atom')\n",
    "        self.semsets = Bunch(semsets)\n",
    "        self.cxs = tuple()\n",
    "    \n",
    "    def getP(self, node):\n",
    "        \"\"\"Get Positions object for a TF node.\n",
    "        \n",
    "        Return Dummy object if not node.\n",
    "        \"\"\"\n",
    "        if not node:\n",
    "            return Dummy()\n",
    "        return Positions(node, self.context, self.tf).get\n",
    "    \n",
    "    def getWk(self, node):\n",
    "        \"\"\"Get Walker object for a TF word node.\n",
    "        \n",
    "        Return Dummy object if not node.\n",
    "        \"\"\"\n",
    "        if not node:\n",
    "            return Dummy()\n",
    "        return Walker(node, self.context, self.tf)\n",
    "    \n",
    "    def test(self, *cases):\n",
    "        \"\"\"Populate Construction obj based on a cases's all Truth value.\n",
    "        \n",
    "        The last-matching case will be used to populate\n",
    "        a Construction object. This allows more complex\n",
    "        cases to take precedence over simpler ones.\n",
    "        \n",
    "        Args:\n",
    "            cases: an arbitrary number of dictionaries,\n",
    "                each of which contains a string key that\n",
    "                describes the test and a test that evals \n",
    "                to a Boolean.\n",
    "        \n",
    "        Returns:\n",
    "            a populated or blank Construction object\n",
    "        \"\"\"\n",
    "        \n",
    "        # find cases where all cnds == True\n",
    "        test = [\n",
    "            case for case in cases\n",
    "                if all(case['conds'].values())\n",
    "                    and all(case['roles'].keys())\n",
    "        ]\n",
    "        \n",
    "        # return last test\n",
    "        if test:\n",
    "            return Construction(\n",
    "                match=test[-1],\n",
    "                cases=cases,\n",
    "                **test[-1]\n",
    "            )\n",
    "        else:\n",
    "            return Construction(cases=cases, **cases[0])\n",
    "        \n",
    "    def findall(self, n):\n",
    "        \"\"\"Runs analysis for all constructions with a node.\n",
    "        \n",
    "        Returns as dict with test:result as key:value.\n",
    "        \"\"\"\n",
    "        results = []\n",
    "        for funct in self.cxs:\n",
    "            cx = funct(n)\n",
    "            if cx:\n",
    "                results.append(cx)\n",
    "        return results"
   ]
  },
  {
   "cell_type": "code",
   "execution_count": 91,
   "metadata": {},
   "outputs": [],
   "source": [
    "class NounConstructions(CXbuilder):\n",
    "    \"\"\"Class for defining noun constructions.\"\"\"\n",
    "    \n",
    "    def __init__(self, wsets, tf):\n",
    "        \n",
    "        \"\"\"Initialize with Constructions attribs/methods.\"\"\"\n",
    "        CXbuilder.__init__(self, wsets, tf, context='timephrase')\n",
    "        \n",
    "        # map cx searches for full analyses\n",
    "        self.cxs = (\n",
    "            self.defi,\n",
    "            self.card_chain,\n",
    "            self.adjv,\n",
    "            self.advb,\n",
    "            self.attrib,\n",
    "            self.geni,\n",
    "            self.numb,\n",
    "            self.prep,\n",
    "        )\n",
    "\n",
    "    def defi(self, w):\n",
    "        \"\"\"Matches a definite construction.\"\"\"\n",
    "        \n",
    "        P = self.getP(w)\n",
    "        \n",
    "        return self.test( \n",
    "            {\n",
    "                'name': 'defi',\n",
    "                'roles': {'defi': w, 'head': P(1)},\n",
    "                'conds': {\n",
    "\n",
    "                    'F.sp.v(w) == art':\n",
    "                        self.F.sp.v(w) == 'art',\n",
    "\n",
    "                    'bool(P(1))':\n",
    "                        bool(P(1))\n",
    "                }\n",
    "            }\n",
    "        )\n",
    "    \n",
    "    def prep(self, w):\n",
    "        \"\"\"Matches a preposition with a modified element.\"\"\"\n",
    "                \n",
    "        P = self.getP(w)\n",
    "        \n",
    "        return self.test(\n",
    "            {\n",
    "                'name': 'prep',\n",
    "                'roles': {'prep':w, 'head': P(1)},\n",
    "                'conds': {\n",
    "\n",
    "                    'w in preps':\n",
    "                        w in self.semsets.preps,\n",
    "\n",
    "                    'F.prs.v(w) == absent':\n",
    "                        self.F.prs.v(w) == 'absent',\n",
    "                    \n",
    "                    'bool(P(1))':\n",
    "                        bool(P(1)),\n",
    "                }\n",
    "            }\n",
    "        )\n",
    "        \n",
    "    def geni(self, w):\n",
    "        \"\"\"Queries for \"genitive\" relations on a word.\"\"\"\n",
    "        \n",
    "        P = self.getP(w)\n",
    "        sm = self.semsets\n",
    "        \n",
    "        return self.test(\n",
    "            {\n",
    "                'name': 'geni',\n",
    "                'roles': {'geni': P(0), 'head': P(-1)},\n",
    "                'conds': {\n",
    "\n",
    "                    'P(-1, st) == c': \n",
    "                        P(-1,'st') == 'c',\n",
    "\n",
    "                    'P(-1) not in quants|preps': \n",
    "                        P(-1) not in sm.quants|sm.preps,\n",
    "                }\n",
    "            }\n",
    "        )\n",
    "\n",
    "    def advb(self, w):\n",
    "        \"\"\"Match and adverb and its mod.\"\"\"\n",
    "        \n",
    "        P = self.getP(w)\n",
    "        \n",
    "        return self.test(\n",
    "           {\n",
    "                'name': 'advb',\n",
    "                'roles': {'advb': w, 'head': P(1)},\n",
    "                'conds': {\n",
    "                    'F.sp.v(w) == advb':\n",
    "                        self.F.sp.v(w) == 'advb',\n",
    "                    'P(1) in noms':\n",
    "                        P(1) in self.semsets.noms,\n",
    "                }\n",
    "            }\n",
    "        )\n",
    "    \n",
    "    def adjv(self, w):\n",
    "        \"\"\"Matches a word serving as an adjective.\"\"\"\n",
    "        \n",
    "        P = self.getP(w)\n",
    "        F = self.F\n",
    "        sm = self.semsets\n",
    "        \n",
    "        # check for recursive adjective matches \n",
    "        a2match = self.adjv(P(-1)) if P(-1) else Construction()\n",
    "        a2match_head = a2match.roles.head\n",
    "        \n",
    "        common = {\n",
    "            'P(-1) in noms':\n",
    "                P(-1) in sm.noms,\n",
    "            \n",
    "            'P(-1, st) & {NA, a}': \n",
    "                P(-1,'st') in {'NA', 'a'},   \n",
    "            \n",
    "            'P(-1) not in {quants|preps}':\n",
    "                P(-1) not in sm.quants|sm.preps,\n",
    "        }\n",
    "                \n",
    "        tests = (\n",
    "            \n",
    "            {\n",
    "                'name': 'adjv',\n",
    "                'pattern': 'adjv (1x)',\n",
    "                'roles': {'adjv':w, 'head': P(-1)},\n",
    "                'conds': dict(common, **{\n",
    "                    'F.sp.v(w) in {adjv, verb}':\n",
    "                        F.sp.v(w) in {'adjv', 'verb'},\n",
    "                })\n",
    "            },\n",
    "            {\n",
    "                'name': 'adjv',\n",
    "                'pattern': 'adjv (2x)',\n",
    "                'roles': {'adjv': P(0), 'head': a2match_head},\n",
    "                'conds': dict(common, **{\n",
    "                    \n",
    "                    'P(0,sp) in {adjv, verb}':\n",
    "                        P(0,'sp') in {'adjv', 'verb'},\n",
    "                    \n",
    "                     'self.adjv(P(-1)) and target != P(0)':\n",
    "                        bool(a2match) and a2match_head != P(0)\n",
    "                })\n",
    "            }\n",
    "        )\n",
    "\n",
    "        return self.test(*tests)\n",
    "     \n",
    "    def attrib(self, w):\n",
    "        \"\"\"Identify elements in a attrib construction.\n",
    "        \n",
    "        In Hebrew this construction typically consists of four slots:\n",
    "            > ה + A + ה + B\n",
    "        Attrib identifies each of these elements and labels them.\n",
    "        A is assumed to be the head, or modified, element and B\n",
    "        is assumed to be an adjectival element.\n",
    "        \"\"\"\n",
    "        \n",
    "        sm = self.semsets\n",
    "        \n",
    "        # CX consists of two constituent cxs\n",
    "        # start walk from head of first match\n",
    "        defi1 = self.defi(w)\n",
    "        d1head = defi1.roles.head\n",
    "        Wk = self.getWk(d1head)\n",
    "\n",
    "        # walk to next valid defi match\n",
    "        # and allow adjectives to intervene:\n",
    "        defi2 = Wk.ahead(\n",
    "            lambda n: self.defi(n),\n",
    "            go=lambda n: self.F.sp.v(n)=='adjv',\n",
    "            output=True\n",
    "        ) if Wk else Construction()\n",
    "        defi2 = defi2 or Construction()\n",
    "                \n",
    "        return self.test(\n",
    "            {\n",
    "                'name': 'attrib',\n",
    "                'roles': {'head': defi1, 'attrib': defi2},\n",
    "                'conds': {\n",
    "                    'bool(defi1)':\n",
    "                        bool(defi1),\n",
    "                    'bool(defi2)':\n",
    "                        bool(defi2), \n",
    "                    'defi2[roles][head] not in quants':\n",
    "                        defi2.roles.head not in sm.quants\n",
    "                }\n",
    "            }\n",
    "        )\n",
    "        \n",
    "    def numb(self, w):\n",
    "        \"\"\"Defines numerical relations with an non-quant word\n",
    "        \n",
    "        Often but not always indicates quantification as other\n",
    "        semantic relations are possible.\n",
    "        \"\"\"\n",
    "\n",
    "        P = self.getP(w)\n",
    "        Wk = self.getWk(w)\n",
    "        sm = self.semsets\n",
    "        is_nom = (lambda n: n in sm.noms and n not in sm.quants)\n",
    "        behind_nom = Wk.back(is_nom, go=lambda n: F.sp.v(n)=='art') \n",
    "\n",
    "        return self.test(\n",
    "        \n",
    "            {\n",
    "                'name': 'numb',\n",
    "                'pattern': 'numbered forward',\n",
    "                'roles': {'numb': w, 'head': P(1)},\n",
    "                'conds': {\n",
    "                    \n",
    "                    'w in quants':\n",
    "                        w in sm.quants,\n",
    "\n",
    "                    'bool(P(1))':\n",
    "                        bool(P(1)),\n",
    "                    \n",
    "                    'P(1,sp) != conj':\n",
    "                        P(1,'sp') != 'conj',\n",
    "                    \n",
    "                    'P(1) not in quants|preps':\n",
    "                        P(1) not in sm.quants|sm.preps,\n",
    "                },\n",
    "            },  \n",
    "            {\n",
    "                'name': 'numb',\n",
    "                'pattern': 'numbered backward',\n",
    "                'roles': {'numb': w, 'head': behind_nom},\n",
    "                'conds': {\n",
    "                    \n",
    "                    'w in quants':\n",
    "                        w in sm.quants,\n",
    "                    \n",
    "                    'not Wk.ahead(is_nominal)':\n",
    "                        not Wk.ahead(is_nom),\n",
    "                    \n",
    "                    'bool(Wk.back(is_nominal))':\n",
    "                        bool(behind_nom)\n",
    "                }\n",
    "            }\n",
    "        )\n",
    "        \n",
    "    def card_chain(self, w):\n",
    "        \"\"\"Defines cardinal number chain constructions\"\"\"\n",
    "        \n",
    "        P = self.getP(w)\n",
    "        F = self.F\n",
    "        \n",
    "        return self.test(\n",
    "            {\n",
    "                'name': 'card_chain',\n",
    "                'pattern': 'adjacent',\n",
    "                'roles': {'card':w, 'head':P(-1)},\n",
    "                'conds': {\n",
    "                    \n",
    "                    'F.ls.v(w) == card':\n",
    "                        F.ls.v(w) == 'card',\n",
    "                    'P(-1,ls) == card':\n",
    "                        P(-1,'ls') == 'card',                    \n",
    "                }\n",
    "            },\n",
    "            {\n",
    "                'name': 'card_chain',\n",
    "                'pattern': 'conjunctive',\n",
    "                'roles': {'card': w, 'head': P(-2), 'conj': P(-1)},\n",
    "                'conds': {\n",
    "                    'F.ls.v(w) == card':\n",
    "                        F.ls.v(w) == 'card',\n",
    "                    'P(-1,lex) == W':\n",
    "                        P(-1,'lex') == 'W',\n",
    "                    'P(-2,ls) == card':\n",
    "                        P(-2,'ls') == 'card',   \n",
    "                }\n",
    "            }\n",
    "        )"
   ]
  },
  {
   "cell_type": "code",
   "execution_count": 92,
   "metadata": {},
   "outputs": [],
   "source": [
    "G = NounConstructions(wsets, A)\n",
    "test = G.numb(93743)"
   ]
  },
  {
   "cell_type": "code",
   "execution_count": 93,
   "metadata": {},
   "outputs": [
    {
     "name": "stdout",
     "output_type": "stream",
     "text": [
      "1447661\n",
      "NO MATCHES\n",
      "--------------------\n"
     ]
    },
    {
     "data": {
      "text/html": [
       "<p><b>result</b> <i></i></p>"
      ],
      "text/plain": [
       "<IPython.core.display.HTML object>"
      ]
     },
     "metadata": {},
     "output_type": "display_data"
    },
    {
     "data": {
      "text/html": [
       "<a href=\"https://shebanq.ancient-data.org/hebrew/text?book=Deuteronomium&amp;chapter=1&amp;verse=46&amp;version=c&amp;mr=m&amp;qw=q&amp;tp=txt_p&amp;tr=hb&amp;wget=v&amp;qget=v&amp;nget=vt\" title=\"show this passage in SHEBANQ\" sec=\"Deuteronomy 1:46\">Deuteronomy 1:46</a>\n",
       "<div class=\"atoms  \" >\n",
       "<a href=\"#\" class=\"nd\">704739</a>\n",
       "\n",
       "\n",
       "\n",
       "<div class=\"patom  l \" >\n",
       "\n",
       "    <div class=\"phrase \" >\n",
       "        <a href=\"https://shebanq.ancient-data.org/hebrew/text?book=Deuteronomium&amp;chapter=1&amp;verse=46&amp;version=c&amp;mr=m&amp;qw=q&amp;tp=txt_p&amp;tr=hb&amp;wget=v&amp;qget=v&amp;nget=vt\" title=\"Deuteronomy 1:46\" sec=\"Deuteronomy 1:46\">phrase</a> <a href=\"#\" class=\"nd\">704739</a>  <span class=\"function\">Time</span> <span class=\"typ\">NP</span>\n",
       "    </div>\n",
       "    <div class=\"atoms\">\n",
       "\n",
       "<div class=\"word  \" >\n",
       "<a href=\"#\" class=\"nd\">93742</a>\n",
       "<div class=\"h\"><a target=\"_blank\" href=\"https://shebanq.ancient-data.org/hebrew/word?version=c&amp;id=1JWMn\" title=\"show this lexeme in SHEBANQ\">יָמִ֣ים </a></div>\n",
       "<div class=\"features\"> <span class=\"pdp\"><a href=\"https://shebanq.ancient-data.org/hebrew/text?book=Deuteronomium&amp;chapter=1&amp;verse=46&amp;version=c&amp;mr=m&amp;qw=q&amp;tp=txt_p&amp;tr=hb&amp;wget=v&amp;qget=v&amp;nget=vt\" title=\"Deuteronomy 1:46\" sec=\"Deuteronomy 1:46\">subs</a></span> <span class=\"gloss\">day</span> <span class=\"sp xft\"><span class=\"f\">sp=</span>subs</span> <span class=\"st xft\"><span class=\"f\">st=</span>a</span></div>\n",
       "\n",
       "\n",
       "</div>\n",
       "\n",
       "<div class=\"word  \" >\n",
       "<a href=\"#\" class=\"nd\">93743</a>\n",
       "<div class=\"h\"><a target=\"_blank\" href=\"https://shebanq.ancient-data.org/hebrew/word?version=c&amp;id=1RBn\" title=\"show this lexeme in SHEBANQ\">רַבִּ֑ים </a></div>\n",
       "<div class=\"features\"> <span class=\"pdp\"><a href=\"https://shebanq.ancient-data.org/hebrew/text?book=Deuteronomium&amp;chapter=1&amp;verse=46&amp;version=c&amp;mr=m&amp;qw=q&amp;tp=txt_p&amp;tr=hb&amp;wget=v&amp;qget=v&amp;nget=vt\" title=\"Deuteronomy 1:46\" sec=\"Deuteronomy 1:46\">adjv</a></span> <span class=\"gloss\">much</span> <span class=\"sp xft\"><span class=\"f\">sp=</span>adjv</span> <span class=\"st xft\"><span class=\"f\">st=</span>a</span></div>\n",
       "\n",
       "\n",
       "</div>\n",
       "\n",
       "\n",
       "    </div>\n",
       "\n",
       "\n",
       "</div>\n",
       "\n",
       "<div class=\"patom  r \" >\n",
       "\n",
       "    <div class=\"phrase \" >\n",
       "        <a href=\"https://shebanq.ancient-data.org/hebrew/text?book=Deuteronomium&amp;chapter=1&amp;verse=46&amp;version=c&amp;mr=m&amp;qw=q&amp;tp=txt_p&amp;tr=hb&amp;wget=v&amp;qget=v&amp;nget=vt\" title=\"Deuteronomy 1:46\" sec=\"Deuteronomy 1:46\">phrase</a> <a href=\"#\" class=\"nd\">704739</a>  <span class=\"function\">Time</span> <span class=\"typ\">NP|PP</span>\n",
       "    </div>\n",
       "    <div class=\"atoms\">\n",
       "\n",
       "<div class=\"word  \" >\n",
       "<a href=\"#\" class=\"nd\">93744</a>\n",
       "<div class=\"h\"><a target=\"_blank\" href=\"https://shebanq.ancient-data.org/hebrew/word?version=c&amp;id=1K\" title=\"show this lexeme in SHEBANQ\">כַּ</a></div>\n",
       "<div class=\"features\"> <span class=\"pdp\"><a href=\"https://shebanq.ancient-data.org/hebrew/text?book=Deuteronomium&amp;chapter=1&amp;verse=46&amp;version=c&amp;mr=m&amp;qw=q&amp;tp=txt_p&amp;tr=hb&amp;wget=v&amp;qget=v&amp;nget=vt\" title=\"Deuteronomy 1:46\" sec=\"Deuteronomy 1:46\">prep</a></span> <span class=\"gloss\">as</span> <span class=\"sp xft\"><span class=\"f\">sp=</span>prep</span></div>\n",
       "\n",
       "\n",
       "</div>\n",
       "\n",
       "<div class=\"word  \" >\n",
       "<a href=\"#\" class=\"nd\">93745</a>\n",
       "<div class=\"h\"><a target=\"_blank\" href=\"https://shebanq.ancient-data.org/hebrew/word?version=c&amp;id=1H\" title=\"show this lexeme in SHEBANQ\"></a></div>\n",
       "<div class=\"features\"> <span class=\"pdp\"><a href=\"https://shebanq.ancient-data.org/hebrew/text?book=Deuteronomium&amp;chapter=1&amp;verse=46&amp;version=c&amp;mr=m&amp;qw=q&amp;tp=txt_p&amp;tr=hb&amp;wget=v&amp;qget=v&amp;nget=vt\" title=\"Deuteronomy 1:46\" sec=\"Deuteronomy 1:46\">art</a></span> <span class=\"gloss\">the</span> <span class=\"sp xft\"><span class=\"f\">sp=</span>art</span></div>\n",
       "\n",
       "\n",
       "</div>\n",
       "\n",
       "<div class=\"word  \" >\n",
       "<a href=\"#\" class=\"nd\">93746</a>\n",
       "<div class=\"h\"><a target=\"_blank\" href=\"https://shebanq.ancient-data.org/hebrew/word?version=c&amp;id=1JWMn\" title=\"show this lexeme in SHEBANQ\">יָּמִ֖ים </a></div>\n",
       "<div class=\"features\"> <span class=\"pdp\"><a href=\"https://shebanq.ancient-data.org/hebrew/text?book=Deuteronomium&amp;chapter=1&amp;verse=46&amp;version=c&amp;mr=m&amp;qw=q&amp;tp=txt_p&amp;tr=hb&amp;wget=v&amp;qget=v&amp;nget=vt\" title=\"Deuteronomy 1:46\" sec=\"Deuteronomy 1:46\">subs</a></span> <span class=\"gloss\">day</span> <span class=\"sp xft\"><span class=\"f\">sp=</span>subs</span> <span class=\"st xft\"><span class=\"f\">st=</span>a</span></div>\n",
       "\n",
       "\n",
       "</div>\n",
       "\n",
       "\n",
       "    </div>\n",
       "\n",
       "\n",
       "</div>\n",
       "\n",
       "\n",
       "</div>\n"
      ],
      "text/plain": [
       "<IPython.core.display.HTML object>"
      ]
     },
     "metadata": {},
     "output_type": "display_data"
    }
   ],
   "source": [
    "showmatch(test)"
   ]
  },
  {
   "cell_type": "code",
   "execution_count": 94,
   "metadata": {},
   "outputs": [],
   "source": [
    "#test_search('cons', name='', show=100, end=50, phrases=timephrases)"
   ]
  },
  {
   "cell_type": "markdown",
   "metadata": {},
   "source": [
    "## Combine Constructions\n",
    "\n",
    "For now we have delimited a set of standard noun constructions. But there are many overlapping or incomplete constructions. For instance, a prepositional construction consisting of the following phrase (space-separated for accuracy):\n",
    "\n",
    "> ב ה יום\n",
    "\n",
    "The prepositional construction, as it stands, will only recognize the first word in front of the preposition, yielding the following construction:\n",
    "\n",
    "> ב ה\n",
    "\n",
    "The reason is because ה must **first** be united with its remaining elements. We need an **order of operations** to complete this procedure. That is, a list of global priorities that tells the chunker algorithm what parts to merge first. The beginning or ends of overlapping constructions can subsequently be used to link the parts together. For instance, not only do we have a preposition construction, we also have a definite construction which recognizes:\n",
    "\n",
    "> ה יום\n",
    "\n",
    "If the definite construction has priority over the preposition construction, the algorithm can gather all of the requisite pieces before placing it in relation to the preposition.\n",
    "\n",
    "### Set Logic\n",
    "\n",
    "We can use set logic to determine when constructions overlap in their containing slots. Constructions that are wholly contained in another construction might also need to be abolished. That is the case with the attributive adjective construction for instance:\n",
    "\n",
    "> ה יום ה שׁבעי\n",
    "\n",
    "This construction already calls the definite construction as a condition for existence and contains it in its `slots` attribute. In this case, the algorithm should not create two separate instances of the definite constructions.\n",
    "\n",
    "### Build Constructions\n",
    "\n",
    "Before we can make the chunks, we need to run the `NounConstructions` builder on the corpus. We do that below and store the resulting `Construction` objects in a phrase2construction mapping. This takes approximately 2 mins on a 2017 Macbook pro."
   ]
  },
  {
   "cell_type": "code",
   "execution_count": 116,
   "metadata": {},
   "outputs": [
    {
     "name": "stdout",
     "output_type": "stream",
     "text": [
      "0:00:00.000038 beginning analysis...\n",
      "\t0:00:35.382412\tdone with iter 500/2102\n",
      "\t0:01:06.092399\tdone with iter 1000/2102\n",
      "\t0:01:45.049456\tdone with iter 1500/2102\n",
      "\t0:02:16.174337\tdone with iter 2000/2102\n",
      "0:02:23.882673\tCOMPLETE\n"
     ]
    }
   ],
   "source": [
    "phrase2cx = collections.defaultdict(list)\n",
    "nocxs = []\n",
    "\n",
    "G = NounConstructions(wsets, A)\n",
    "\n",
    "# time it\n",
    "start = datetime.now()\n",
    "\n",
    "print(f'{datetime.now()-start} beginning analysis...')\n",
    "\n",
    "for i, phrase in enumerate(timephrases):\n",
    "     \n",
    "    # analyze all known relas\n",
    "    for w in L.d(phrase, 'word'):\n",
    "        constructions = G.findall(w)\n",
    "        if constructions:\n",
    "            phrase2cx[phrase].extend(constructions)\n",
    "        \n",
    "    # save those phrases that have no matching constructions\n",
    "    if phrase not in phrase2cx:\n",
    "        nocxs.append(phrase)\n",
    "        \n",
    "    # report status\n",
    "    if i % 500 == 0 and i:\n",
    "        print(f'\\t{datetime.now()-start}\\tdone with iter {i}/{len(timephrases)}')\n",
    "        \n",
    "print(f'{datetime.now()-start}\\tCOMPLETE')"
   ]
  },
  {
   "cell_type": "code",
   "execution_count": 96,
   "metadata": {},
   "outputs": [],
   "source": [
    "def sort_cxs(cxlist):\n",
    "    \"\"\"Sort constructions based on order of priority.\"\"\"\n",
    "    order = ['attrib', 'defi', 'adjv', 'card_chain', 'numb', 'geni', 'prep']\n",
    "    sort = sorted(\n",
    "        (order.index(cx.name),) + tuple(cx.slots) + (cx,) for cx in cxlist\n",
    "    )\n",
    "    return [item[-1] for item in sort]\n",
    "\n",
    "def buildclusters(cxlist):\n",
    "    \"\"\"Find all overlapping constructions\"\"\"\n",
    "    \n",
    "    clusters = []\n",
    "    cxlist = [i for i in cxlist] # protect overwrite\n",
    "    \n",
    "    # iterate until no more intersections found\n",
    "    thiscluster = [cxlist.pop(0)]\n",
    "    theseslots = set(s for s in thiscluster[0].slots)\n",
    "    \n",
    "    # loop continues as it snowballs and picks up slots\n",
    "    # loop stops when a complete loop produces no other matches\n",
    "    while cxlist:\n",
    "        \n",
    "        matched = False # whether loop was successful\n",
    "        \n",
    "        for cx in cxlist:\n",
    "            if theseslots & cx.slots:\n",
    "                thiscluster.append(cx)\n",
    "                theseslots |= cx.slots\n",
    "                matched = True\n",
    "        \n",
    "        cxlist = [cx for cx in cxlist if cx not in thiscluster]\n",
    "        \n",
    "        # assemble loop\n",
    "        if not matched:\n",
    "            clusters.append(thiscluster)\n",
    "            thiscluster = [cxlist.pop(0)]\n",
    "            theseslots = set(s for s in thiscluster[0].slots)\n",
    "            \n",
    "    clusters.append(thiscluster)\n",
    "            \n",
    "    return clusters\n",
    "\n",
    "def arrange_cxs(cxlist):\n",
    "    \"\"\"Clusters and orders constructions.\"\"\"\n",
    "    return [sort_cxs(clist) for clist in buildclusters(cxlist)]\n",
    "\n",
    "def weaveCX(cxlist, cx=None):\n",
    "    \"\"\"Weave together constructions on their intersections.\"\"\"\n",
    "    \n",
    "    # the search is complete, stop here\n",
    "    if not cxlist:\n",
    "        return cx\n",
    "    elif cx is None and len(cxlist) == 1:\n",
    "        return cxlist[0]\n",
    "    \n",
    "    # Copy constructions and operate on copies\n",
    "    cx1 = cx or copy.deepcopy(cxlist.pop(0))\n",
    "    cx2 = copy.deepcopy(cxlist.pop(0))\n",
    "    \n",
    "    # get first slot of intersection between cx1 and 2\n",
    "    # get that slot's role in both cxs\n",
    "    link = next(iter(cx1.slots & cx2.slots), None)\n",
    "    link_cx1role = cx1.getslotrole(link)\n",
    "    link_cx2role = cx2.getslotrole(link)\n",
    "    \n",
    "    # connect broken links\n",
    "    if not link:\n",
    "        sys.stderr.write(f'No explicit link between {cx1} and {cx2}\\n')\n",
    "        cx2 = weaveCX(cxlist, cx2) # compile the rest of the cx\n",
    "        sys.stderr.write(f'\\tattempt connect {cx1} and {cx2}')\n",
    "        return weaveCX([cx2], cx1) # attempt to connect cx1 and 2 again\n",
    "        \n",
    "    # discard cx2 if fully covered by cx1\n",
    "    if cx1.slots.issuperset(cx2.slots):\n",
    "        return weaveCX(cxlist, cx1)\n",
    "    \n",
    "    # replace role in cx1 with cx2\n",
    "    elif (\n",
    "        link_cx1role != 'head'\n",
    "        and link_cx2role == 'head'\n",
    "        and not (cx1.slots - cx2.slots) # expand not shrink\n",
    "    ):\n",
    "        cx1.updaterole(link_cx1role, cx2)\n",
    "        return weaveCX(cxlist, cx1)\n",
    "        \n",
    "    # replace the role in cx2 with cx1\n",
    "    elif (\n",
    "        link_cx1role != 'head'\n",
    "        and link_cx2role != 'head' or (cx1.slots - cx2.slots)\n",
    "    ):\n",
    "        cx2.updaterole(link_cx2role, cx1)\n",
    "        return weaveCX(cxlist, cx2)\n",
    "    \n",
    "def getcxs(phrase_atom):\n",
    "    \"\"\"Gather constructions mapped to phrase atoms.\"\"\"\n",
    "    cxlists = arrange_cxs(phrase2cx[phrase_atom])\n",
    "    for cxlist in cxlists:\n",
    "        yield weaveCX(cxlist)"
   ]
  },
  {
   "cell_type": "code",
   "execution_count": 97,
   "metadata": {},
   "outputs": [
    {
     "data": {
      "text/plain": [
       "[CX defi {118563, 118564}, CX numb {118562, 118563}]"
      ]
     },
     "execution_count": 97,
     "metadata": {},
     "output_type": "execute_result"
    }
   ],
   "source": [
    "test = 1447932\n",
    "\n",
    "arranged = arrange_cxs(phrase2cx[test])[0]\n",
    "\n",
    "arranged"
   ]
  },
  {
   "cell_type": "code",
   "execution_count": 98,
   "metadata": {},
   "outputs": [
    {
     "name": "stdout",
     "output_type": "stream",
     "text": [
      "1447932\n"
     ]
    },
    {
     "data": {
      "text/html": [
       "<p><b>result</b> <i>CX numb {118562, 118563, 118564}</i></p>"
      ],
      "text/plain": [
       "<IPython.core.display.HTML object>"
      ]
     },
     "metadata": {},
     "output_type": "display_data"
    },
    {
     "data": {
      "text/html": [
       "<a href=\"https://shebanq.ancient-data.org/hebrew/text?book=Josua&amp;chapter=10&amp;verse=9&amp;version=c&amp;mr=m&amp;qw=q&amp;tp=txt_p&amp;tr=hb&amp;wget=v&amp;qget=v&amp;nget=vt\" title=\"show this passage in SHEBANQ\" sec=\"Joshua 10:9\">Joshua 10:9</a>\n",
       "<div class=\"atoms  \" >\n",
       "<a href=\"#\" class=\"nd\">718846</a>\n",
       "\n",
       "\n",
       "\n",
       "<div class=\"patom  \" >\n",
       "\n",
       "    <div class=\"phrase \" >\n",
       "        <a href=\"https://shebanq.ancient-data.org/hebrew/text?book=Josua&amp;chapter=10&amp;verse=9&amp;version=c&amp;mr=m&amp;qw=q&amp;tp=txt_p&amp;tr=hb&amp;wget=v&amp;qget=v&amp;nget=vt\" title=\"Joshua 10:9\" sec=\"Joshua 10:9\">phrase</a> <a href=\"#\" class=\"nd\">718846</a>  <span class=\"function\">Time</span> <span class=\"typ\">NP</span>\n",
       "    </div>\n",
       "    <div class=\"atoms\">\n",
       "\n",
       "<div class=\"word  hl\"  style=\"background-color: pink;\" >\n",
       "<a href=\"#\" class=\"nd\">118562</a>\n",
       "<div class=\"h\"><a target=\"_blank\" href=\"https://shebanq.ancient-data.org/hebrew/word?version=c&amp;id=1KLn\" title=\"show this lexeme in SHEBANQ\">כָּל־</a></div>\n",
       "<div class=\"features\"> <span class=\"pdp\"><a href=\"https://shebanq.ancient-data.org/hebrew/text?book=Josua&amp;chapter=10&amp;verse=9&amp;version=c&amp;mr=m&amp;qw=q&amp;tp=txt_p&amp;tr=hb&amp;wget=v&amp;qget=v&amp;nget=vt\" title=\"Joshua 10:9\" sec=\"Joshua 10:9\">subs</a></span> <span class=\"gloss\">whole</span> <span class=\"sp xft\"><span class=\"f\">sp=</span>subs</span> <span class=\"st xft\"><span class=\"f\">st=</span>c</span></div>\n",
       "\n",
       "\n",
       "</div>\n",
       "\n",
       "<div class=\"word  hl\"  style=\"background-color: lightblue;\" >\n",
       "<a href=\"#\" class=\"nd\">118563</a>\n",
       "<div class=\"h\"><a target=\"_blank\" href=\"https://shebanq.ancient-data.org/hebrew/word?version=c&amp;id=1H\" title=\"show this lexeme in SHEBANQ\">הַ</a></div>\n",
       "<div class=\"features\"> <span class=\"pdp\"><a href=\"https://shebanq.ancient-data.org/hebrew/text?book=Josua&amp;chapter=10&amp;verse=9&amp;version=c&amp;mr=m&amp;qw=q&amp;tp=txt_p&amp;tr=hb&amp;wget=v&amp;qget=v&amp;nget=vt\" title=\"Joshua 10:9\" sec=\"Joshua 10:9\">art</a></span> <span class=\"gloss\">the</span> <span class=\"sp xft\"><span class=\"f\">sp=</span>art</span></div>\n",
       "\n",
       "\n",
       "</div>\n",
       "\n",
       "<div class=\"word  hl\"  style=\"background-color: lightblue;\" >\n",
       "<a href=\"#\" class=\"nd\">118564</a>\n",
       "<div class=\"h\"><a target=\"_blank\" href=\"https://shebanq.ancient-data.org/hebrew/word?version=c&amp;id=1LJLHn\" title=\"show this lexeme in SHEBANQ\">לַּ֕יְלָה </a></div>\n",
       "<div class=\"features\"> <span class=\"pdp\"><a href=\"https://shebanq.ancient-data.org/hebrew/text?book=Josua&amp;chapter=10&amp;verse=9&amp;version=c&amp;mr=m&amp;qw=q&amp;tp=txt_p&amp;tr=hb&amp;wget=v&amp;qget=v&amp;nget=vt\" title=\"Joshua 10:9\" sec=\"Joshua 10:9\">subs</a></span> <span class=\"gloss\">night</span> <span class=\"sp xft\"><span class=\"f\">sp=</span>subs</span> <span class=\"st xft\"><span class=\"f\">st=</span>a</span></div>\n",
       "\n",
       "\n",
       "</div>\n",
       "\n",
       "\n",
       "    </div>\n",
       "\n",
       "\n",
       "</div>\n",
       "\n",
       "\n",
       "</div>\n"
      ],
      "text/plain": [
       "<IPython.core.display.HTML object>"
      ]
     },
     "metadata": {},
     "output_type": "display_data"
    },
    {
     "data": {
      "text/html": [
       "<div style=\"background: pink; text-align: center\">numb</div>"
      ],
      "text/plain": [
       "<IPython.core.display.HTML object>"
      ]
     },
     "metadata": {},
     "output_type": "display_data"
    },
    {
     "data": {
      "text/html": [
       "<div style=\"background: lightblue; text-align: center\">head</div>"
      ],
      "text/plain": [
       "<IPython.core.display.HTML object>"
      ]
     },
     "metadata": {},
     "output_type": "display_data"
    },
    {
     "name": "stdout",
     "output_type": "stream",
     "text": [
      "{   '__cx__': 'numb',\n",
      "    'head': {'__cx__': 'defi', 'defi': 118563, 'head': 118564},\n",
      "    'numb': 118562}\n",
      "\n"
     ]
    },
    {
     "data": {
      "text/html": [
       "<hr>"
      ],
      "text/plain": [
       "<IPython.core.display.HTML object>"
      ]
     },
     "metadata": {},
     "output_type": "display_data"
    }
   ],
   "source": [
    "for m in getcxs(test):\n",
    "    showmatch(m)"
   ]
  },
  {
   "cell_type": "markdown",
   "metadata": {},
   "source": [
    "## Testing Construction Builds"
   ]
  },
  {
   "cell_type": "markdown",
   "metadata": {},
   "source": [
    "### Find Gaps\n",
    "\n",
    "We now look for phrases wherein there are gaps, i.e., words that are unaccounted for (excluding conjunctions)."
   ]
  },
  {
   "cell_type": "code",
   "execution_count": null,
   "metadata": {},
   "outputs": [],
   "source": [
    "for ph in "
   ]
  },
  {
   "cell_type": "code",
   "execution_count": 114,
   "metadata": {},
   "outputs": [],
   "source": [
    "shuff = [ph for ph in phrase2cx.keys() \n",
    "            if len(L.d(ph, 'word')) > 2\n",
    "        ]\n",
    "\n",
    "random.shuffle(shuff)"
   ]
  },
  {
   "cell_type": "code",
   "execution_count": 115,
   "metadata": {},
   "outputs": [
    {
     "name": "stdout",
     "output_type": "stream",
     "text": [
      "1448617\n"
     ]
    },
    {
     "name": "stderr",
     "output_type": "stream",
     "text": [
      "No explicit link between CX defi {178843, 178844} and CX prep {178841, 178842}\n",
      "\tattempt connect CX defi {178843, 178844} and CX prep {178841, 178842, 178843}"
     ]
    },
    {
     "data": {
      "text/html": [
       "<p><b>result</b> <i>CX prep {178841, 178842, 178843, 178844}</i></p>"
      ],
      "text/plain": [
       "<IPython.core.display.HTML object>"
      ]
     },
     "metadata": {},
     "output_type": "display_data"
    },
    {
     "data": {
      "text/html": [
       "<a href=\"https://shebanq.ancient-data.org/hebrew/text?book=Reges_I&amp;chapter=3&amp;verse=20&amp;version=c&amp;mr=m&amp;qw=q&amp;tp=txt_p&amp;tr=hb&amp;wget=v&amp;qget=v&amp;nget=vt\" title=\"show this passage in SHEBANQ\" sec=\"1_Kings 3:20\">1_Kings 3:20</a>\n",
       "<div class=\"atoms  \" >\n",
       "<a href=\"#\" class=\"nd\">755055</a>\n",
       "\n",
       "\n",
       "\n",
       "<div class=\"patom  \" >\n",
       "\n",
       "    <div class=\"phrase \" >\n",
       "        <a href=\"https://shebanq.ancient-data.org/hebrew/text?book=Reges_I&amp;chapter=3&amp;verse=20&amp;version=c&amp;mr=m&amp;qw=q&amp;tp=txt_p&amp;tr=hb&amp;wget=v&amp;qget=v&amp;nget=vt\" title=\"1_Kings 3:20\" sec=\"1_Kings 3:20\">phrase</a> <a href=\"#\" class=\"nd\">755055</a>  <span class=\"function\">Time</span> <span class=\"typ\">PP</span>\n",
       "    </div>\n",
       "    <div class=\"atoms\">\n",
       "\n",
       "<div class=\"word  hl\"  style=\"background-color: pink;\" >\n",
       "<a href=\"#\" class=\"nd\">178841</a>\n",
       "<div class=\"h\"><a target=\"_blank\" href=\"https://shebanq.ancient-data.org/hebrew/word?version=c&amp;id=1B\" title=\"show this lexeme in SHEBANQ\">בְּ</a></div>\n",
       "<div class=\"features\"> <span class=\"pdp\"><a href=\"https://shebanq.ancient-data.org/hebrew/text?book=Reges_I&amp;chapter=3&amp;verse=20&amp;version=c&amp;mr=m&amp;qw=q&amp;tp=txt_p&amp;tr=hb&amp;wget=v&amp;qget=v&amp;nget=vt\" title=\"1_Kings 3:20\" sec=\"1_Kings 3:20\">prep</a></span> <span class=\"gloss\">in</span> <span class=\"sp xft\"><span class=\"f\">sp=</span>prep</span></div>\n",
       "\n",
       "\n",
       "</div>\n",
       "\n",
       "<div class=\"word  hl\"  style=\"background-color: pink;\" >\n",
       "<a href=\"#\" class=\"nd\">178842</a>\n",
       "<div class=\"h\"><a target=\"_blank\" href=\"https://shebanq.ancient-data.org/hebrew/word?version=c&amp;id=1TWKn\" title=\"show this lexeme in SHEBANQ\">תֹ֨וךְ </a></div>\n",
       "<div class=\"features\"> <span class=\"pdp\"><a href=\"https://shebanq.ancient-data.org/hebrew/text?book=Reges_I&amp;chapter=3&amp;verse=20&amp;version=c&amp;mr=m&amp;qw=q&amp;tp=txt_p&amp;tr=hb&amp;wget=v&amp;qget=v&amp;nget=vt\" title=\"1_Kings 3:20\" sec=\"1_Kings 3:20\">subs</a></span> <span class=\"gloss\">midst</span> <span class=\"sp xft\"><span class=\"f\">sp=</span>subs</span> <span class=\"st xft\"><span class=\"f\">st=</span>c</span></div>\n",
       "\n",
       "\n",
       "</div>\n",
       "\n",
       "<div class=\"word  hl\"  style=\"background-color: lightblue;\" >\n",
       "<a href=\"#\" class=\"nd\">178843</a>\n",
       "<div class=\"h\"><a target=\"_blank\" href=\"https://shebanq.ancient-data.org/hebrew/word?version=c&amp;id=1H\" title=\"show this lexeme in SHEBANQ\">הַ</a></div>\n",
       "<div class=\"features\"> <span class=\"pdp\"><a href=\"https://shebanq.ancient-data.org/hebrew/text?book=Reges_I&amp;chapter=3&amp;verse=20&amp;version=c&amp;mr=m&amp;qw=q&amp;tp=txt_p&amp;tr=hb&amp;wget=v&amp;qget=v&amp;nget=vt\" title=\"1_Kings 3:20\" sec=\"1_Kings 3:20\">art</a></span> <span class=\"gloss\">the</span> <span class=\"sp xft\"><span class=\"f\">sp=</span>art</span></div>\n",
       "\n",
       "\n",
       "</div>\n",
       "\n",
       "<div class=\"word  hl\"  style=\"background-color: lightblue;\" >\n",
       "<a href=\"#\" class=\"nd\">178844</a>\n",
       "<div class=\"h\"><a target=\"_blank\" href=\"https://shebanq.ancient-data.org/hebrew/word?version=c&amp;id=1LJLHn\" title=\"show this lexeme in SHEBANQ\">לַּ֜יְלָה </a></div>\n",
       "<div class=\"features\"> <span class=\"pdp\"><a href=\"https://shebanq.ancient-data.org/hebrew/text?book=Reges_I&amp;chapter=3&amp;verse=20&amp;version=c&amp;mr=m&amp;qw=q&amp;tp=txt_p&amp;tr=hb&amp;wget=v&amp;qget=v&amp;nget=vt\" title=\"1_Kings 3:20\" sec=\"1_Kings 3:20\">subs</a></span> <span class=\"gloss\">night</span> <span class=\"sp xft\"><span class=\"f\">sp=</span>subs</span> <span class=\"st xft\"><span class=\"f\">st=</span>a</span></div>\n",
       "\n",
       "\n",
       "</div>\n",
       "\n",
       "\n",
       "    </div>\n",
       "\n",
       "\n",
       "</div>\n",
       "\n",
       "\n",
       "</div>\n"
      ],
      "text/plain": [
       "<IPython.core.display.HTML object>"
      ]
     },
     "metadata": {},
     "output_type": "display_data"
    },
    {
     "data": {
      "text/html": [
       "<div style=\"background: pink; text-align: center\">prep</div>"
      ],
      "text/plain": [
       "<IPython.core.display.HTML object>"
      ]
     },
     "metadata": {},
     "output_type": "display_data"
    },
    {
     "data": {
      "text/html": [
       "<div style=\"background: lightblue; text-align: center\">head</div>"
      ],
      "text/plain": [
       "<IPython.core.display.HTML object>"
      ]
     },
     "metadata": {},
     "output_type": "display_data"
    },
    {
     "name": "stdout",
     "output_type": "stream",
     "text": [
      "{   '__cx__': 'prep',\n",
      "    'head': {'__cx__': 'defi', 'defi': 178843, 'head': 178844},\n",
      "    'prep': {'__cx__': 'prep', 'head': 178842, 'prep': 178841}}\n",
      "\n"
     ]
    },
    {
     "data": {
      "text/html": [
       "<hr>"
      ],
      "text/plain": [
       "<IPython.core.display.HTML object>"
      ]
     },
     "metadata": {},
     "output_type": "display_data"
    },
    {
     "name": "stdout",
     "output_type": "stream",
     "text": [
      "\n",
      "1447299\n"
     ]
    },
    {
     "data": {
      "text/html": [
       "<p><b>result</b> <i>CX prep {49256, 49254, 49255}</i></p>"
      ],
      "text/plain": [
       "<IPython.core.display.HTML object>"
      ]
     },
     "metadata": {},
     "output_type": "display_data"
    },
    {
     "data": {
      "text/html": [
       "<a href=\"https://shebanq.ancient-data.org/hebrew/text?book=Exodus&amp;chapter=36&amp;verse=3&amp;version=c&amp;mr=m&amp;qw=q&amp;tp=txt_p&amp;tr=hb&amp;wget=v&amp;qget=v&amp;nget=vt\" title=\"show this passage in SHEBANQ\" sec=\"Exodus 36:3\">Exodus 36:3</a>\n",
       "<div class=\"atoms  \" >\n",
       "<a href=\"#\" class=\"nd\">681309</a>\n",
       "\n",
       "\n",
       "\n",
       "<div class=\"patom  \" >\n",
       "\n",
       "    <div class=\"phrase \" >\n",
       "        <a href=\"https://shebanq.ancient-data.org/hebrew/text?book=Exodus&amp;chapter=36&amp;verse=3&amp;version=c&amp;mr=m&amp;qw=q&amp;tp=txt_p&amp;tr=hb&amp;wget=v&amp;qget=v&amp;nget=vt\" title=\"Exodus 36:3\" sec=\"Exodus 36:3\">phrase</a> <a href=\"#\" class=\"nd\">681309</a>  <span class=\"function\">Time</span> <span class=\"typ\">PP</span>\n",
       "    </div>\n",
       "    <div class=\"atoms\">\n",
       "\n",
       "<div class=\"word  hl\"  style=\"background-color: pink;\" >\n",
       "<a href=\"#\" class=\"nd\">49254</a>\n",
       "<div class=\"h\"><a target=\"_blank\" href=\"https://shebanq.ancient-data.org/hebrew/word?version=c&amp;id=1B\" title=\"show this lexeme in SHEBANQ\">בַּ</a></div>\n",
       "<div class=\"features\"> <span class=\"pdp\"><a href=\"https://shebanq.ancient-data.org/hebrew/text?book=Exodus&amp;chapter=36&amp;verse=3&amp;version=c&amp;mr=m&amp;qw=q&amp;tp=txt_p&amp;tr=hb&amp;wget=v&amp;qget=v&amp;nget=vt\" title=\"Exodus 36:3\" sec=\"Exodus 36:3\">prep</a></span> <span class=\"gloss\">in</span> <span class=\"sp xft\"><span class=\"f\">sp=</span>prep</span></div>\n",
       "\n",
       "\n",
       "</div>\n",
       "\n",
       "<div class=\"word  hl\"  style=\"background-color: lightblue;\" >\n",
       "<a href=\"#\" class=\"nd\">49255</a>\n",
       "<div class=\"h\"><a target=\"_blank\" href=\"https://shebanq.ancient-data.org/hebrew/word?version=c&amp;id=1H\" title=\"show this lexeme in SHEBANQ\"></a></div>\n",
       "<div class=\"features\"> <span class=\"pdp\"><a href=\"https://shebanq.ancient-data.org/hebrew/text?book=Exodus&amp;chapter=36&amp;verse=3&amp;version=c&amp;mr=m&amp;qw=q&amp;tp=txt_p&amp;tr=hb&amp;wget=v&amp;qget=v&amp;nget=vt\" title=\"Exodus 36:3\" sec=\"Exodus 36:3\">art</a></span> <span class=\"gloss\">the</span> <span class=\"sp xft\"><span class=\"f\">sp=</span>art</span></div>\n",
       "\n",
       "\n",
       "</div>\n",
       "\n",
       "<div class=\"word  hl\"  style=\"background-color: lightblue;\" >\n",
       "<a href=\"#\" class=\"nd\">49256</a>\n",
       "<div class=\"h\"><a target=\"_blank\" href=\"https://shebanq.ancient-data.org/hebrew/word?version=c&amp;id=1BQRin\" title=\"show this lexeme in SHEBANQ\">בֹּ֥קֶר </a></div>\n",
       "<div class=\"features\"> <span class=\"pdp\"><a href=\"https://shebanq.ancient-data.org/hebrew/text?book=Exodus&amp;chapter=36&amp;verse=3&amp;version=c&amp;mr=m&amp;qw=q&amp;tp=txt_p&amp;tr=hb&amp;wget=v&amp;qget=v&amp;nget=vt\" title=\"Exodus 36:3\" sec=\"Exodus 36:3\">subs</a></span> <span class=\"gloss\">morning</span> <span class=\"sp xft\"><span class=\"f\">sp=</span>subs</span> <span class=\"st xft\"><span class=\"f\">st=</span>a</span></div>\n",
       "\n",
       "\n",
       "</div>\n",
       "\n",
       "<div class=\"word  \" >\n",
       "<a href=\"#\" class=\"nd\">49257</a>\n",
       "<div class=\"h\"><a target=\"_blank\" href=\"https://shebanq.ancient-data.org/hebrew/word?version=c&amp;id=1B\" title=\"show this lexeme in SHEBANQ\">בַּ</a></div>\n",
       "<div class=\"features\"> <span class=\"pdp\"><a href=\"https://shebanq.ancient-data.org/hebrew/text?book=Exodus&amp;chapter=36&amp;verse=3&amp;version=c&amp;mr=m&amp;qw=q&amp;tp=txt_p&amp;tr=hb&amp;wget=v&amp;qget=v&amp;nget=vt\" title=\"Exodus 36:3\" sec=\"Exodus 36:3\">prep</a></span> <span class=\"gloss\">in</span> <span class=\"sp xft\"><span class=\"f\">sp=</span>prep</span></div>\n",
       "\n",
       "\n",
       "</div>\n",
       "\n",
       "<div class=\"word  \" >\n",
       "<a href=\"#\" class=\"nd\">49258</a>\n",
       "<div class=\"h\"><a target=\"_blank\" href=\"https://shebanq.ancient-data.org/hebrew/word?version=c&amp;id=1H\" title=\"show this lexeme in SHEBANQ\"></a></div>\n",
       "<div class=\"features\"> <span class=\"pdp\"><a href=\"https://shebanq.ancient-data.org/hebrew/text?book=Exodus&amp;chapter=36&amp;verse=3&amp;version=c&amp;mr=m&amp;qw=q&amp;tp=txt_p&amp;tr=hb&amp;wget=v&amp;qget=v&amp;nget=vt\" title=\"Exodus 36:3\" sec=\"Exodus 36:3\">art</a></span> <span class=\"gloss\">the</span> <span class=\"sp xft\"><span class=\"f\">sp=</span>art</span></div>\n",
       "\n",
       "\n",
       "</div>\n",
       "\n",
       "<div class=\"word  \" >\n",
       "<a href=\"#\" class=\"nd\">49259</a>\n",
       "<div class=\"h\"><a target=\"_blank\" href=\"https://shebanq.ancient-data.org/hebrew/word?version=c&amp;id=1BQRin\" title=\"show this lexeme in SHEBANQ\">בֹּֽקֶר׃ </a></div>\n",
       "<div class=\"features\"> <span class=\"pdp\"><a href=\"https://shebanq.ancient-data.org/hebrew/text?book=Exodus&amp;chapter=36&amp;verse=3&amp;version=c&amp;mr=m&amp;qw=q&amp;tp=txt_p&amp;tr=hb&amp;wget=v&amp;qget=v&amp;nget=vt\" title=\"Exodus 36:3\" sec=\"Exodus 36:3\">subs</a></span> <span class=\"gloss\">morning</span> <span class=\"sp xft\"><span class=\"f\">sp=</span>subs</span> <span class=\"st xft\"><span class=\"f\">st=</span>a</span></div>\n",
       "\n",
       "\n",
       "</div>\n",
       "\n",
       "\n",
       "    </div>\n",
       "\n",
       "\n",
       "</div>\n",
       "\n",
       "\n",
       "</div>\n"
      ],
      "text/plain": [
       "<IPython.core.display.HTML object>"
      ]
     },
     "metadata": {},
     "output_type": "display_data"
    },
    {
     "data": {
      "text/html": [
       "<div style=\"background: pink; text-align: center\">prep</div>"
      ],
      "text/plain": [
       "<IPython.core.display.HTML object>"
      ]
     },
     "metadata": {},
     "output_type": "display_data"
    },
    {
     "data": {
      "text/html": [
       "<div style=\"background: lightblue; text-align: center\">head</div>"
      ],
      "text/plain": [
       "<IPython.core.display.HTML object>"
      ]
     },
     "metadata": {},
     "output_type": "display_data"
    },
    {
     "name": "stdout",
     "output_type": "stream",
     "text": [
      "{   '__cx__': 'prep',\n",
      "    'head': {'__cx__': 'defi', 'defi': 49255, 'head': 49256},\n",
      "    'prep': 49254}\n",
      "\n"
     ]
    },
    {
     "data": {
      "text/html": [
       "<hr>"
      ],
      "text/plain": [
       "<IPython.core.display.HTML object>"
      ]
     },
     "metadata": {},
     "output_type": "display_data"
    },
    {
     "data": {
      "text/html": [
       "<p><b>result</b> <i>CX prep {49257, 49258, 49259}</i></p>"
      ],
      "text/plain": [
       "<IPython.core.display.HTML object>"
      ]
     },
     "metadata": {},
     "output_type": "display_data"
    },
    {
     "data": {
      "text/html": [
       "<a href=\"https://shebanq.ancient-data.org/hebrew/text?book=Exodus&amp;chapter=36&amp;verse=3&amp;version=c&amp;mr=m&amp;qw=q&amp;tp=txt_p&amp;tr=hb&amp;wget=v&amp;qget=v&amp;nget=vt\" title=\"show this passage in SHEBANQ\" sec=\"Exodus 36:3\">Exodus 36:3</a>\n",
       "<div class=\"atoms  \" >\n",
       "<a href=\"#\" class=\"nd\">681309</a>\n",
       "\n",
       "\n",
       "\n",
       "<div class=\"patom  \" >\n",
       "\n",
       "    <div class=\"phrase \" >\n",
       "        <a href=\"https://shebanq.ancient-data.org/hebrew/text?book=Exodus&amp;chapter=36&amp;verse=3&amp;version=c&amp;mr=m&amp;qw=q&amp;tp=txt_p&amp;tr=hb&amp;wget=v&amp;qget=v&amp;nget=vt\" title=\"Exodus 36:3\" sec=\"Exodus 36:3\">phrase</a> <a href=\"#\" class=\"nd\">681309</a>  <span class=\"function\">Time</span> <span class=\"typ\">PP</span>\n",
       "    </div>\n",
       "    <div class=\"atoms\">\n",
       "\n",
       "<div class=\"word  \" >\n",
       "<a href=\"#\" class=\"nd\">49254</a>\n",
       "<div class=\"h\"><a target=\"_blank\" href=\"https://shebanq.ancient-data.org/hebrew/word?version=c&amp;id=1B\" title=\"show this lexeme in SHEBANQ\">בַּ</a></div>\n",
       "<div class=\"features\"> <span class=\"pdp\"><a href=\"https://shebanq.ancient-data.org/hebrew/text?book=Exodus&amp;chapter=36&amp;verse=3&amp;version=c&amp;mr=m&amp;qw=q&amp;tp=txt_p&amp;tr=hb&amp;wget=v&amp;qget=v&amp;nget=vt\" title=\"Exodus 36:3\" sec=\"Exodus 36:3\">prep</a></span> <span class=\"gloss\">in</span> <span class=\"sp xft\"><span class=\"f\">sp=</span>prep</span></div>\n",
       "\n",
       "\n",
       "</div>\n",
       "\n",
       "<div class=\"word  \" >\n",
       "<a href=\"#\" class=\"nd\">49255</a>\n",
       "<div class=\"h\"><a target=\"_blank\" href=\"https://shebanq.ancient-data.org/hebrew/word?version=c&amp;id=1H\" title=\"show this lexeme in SHEBANQ\"></a></div>\n",
       "<div class=\"features\"> <span class=\"pdp\"><a href=\"https://shebanq.ancient-data.org/hebrew/text?book=Exodus&amp;chapter=36&amp;verse=3&amp;version=c&amp;mr=m&amp;qw=q&amp;tp=txt_p&amp;tr=hb&amp;wget=v&amp;qget=v&amp;nget=vt\" title=\"Exodus 36:3\" sec=\"Exodus 36:3\">art</a></span> <span class=\"gloss\">the</span> <span class=\"sp xft\"><span class=\"f\">sp=</span>art</span></div>\n",
       "\n",
       "\n",
       "</div>\n",
       "\n",
       "<div class=\"word  \" >\n",
       "<a href=\"#\" class=\"nd\">49256</a>\n",
       "<div class=\"h\"><a target=\"_blank\" href=\"https://shebanq.ancient-data.org/hebrew/word?version=c&amp;id=1BQRin\" title=\"show this lexeme in SHEBANQ\">בֹּ֥קֶר </a></div>\n",
       "<div class=\"features\"> <span class=\"pdp\"><a href=\"https://shebanq.ancient-data.org/hebrew/text?book=Exodus&amp;chapter=36&amp;verse=3&amp;version=c&amp;mr=m&amp;qw=q&amp;tp=txt_p&amp;tr=hb&amp;wget=v&amp;qget=v&amp;nget=vt\" title=\"Exodus 36:3\" sec=\"Exodus 36:3\">subs</a></span> <span class=\"gloss\">morning</span> <span class=\"sp xft\"><span class=\"f\">sp=</span>subs</span> <span class=\"st xft\"><span class=\"f\">st=</span>a</span></div>\n",
       "\n",
       "\n",
       "</div>\n",
       "\n",
       "<div class=\"word  hl\"  style=\"background-color: pink;\" >\n",
       "<a href=\"#\" class=\"nd\">49257</a>\n",
       "<div class=\"h\"><a target=\"_blank\" href=\"https://shebanq.ancient-data.org/hebrew/word?version=c&amp;id=1B\" title=\"show this lexeme in SHEBANQ\">בַּ</a></div>\n",
       "<div class=\"features\"> <span class=\"pdp\"><a href=\"https://shebanq.ancient-data.org/hebrew/text?book=Exodus&amp;chapter=36&amp;verse=3&amp;version=c&amp;mr=m&amp;qw=q&amp;tp=txt_p&amp;tr=hb&amp;wget=v&amp;qget=v&amp;nget=vt\" title=\"Exodus 36:3\" sec=\"Exodus 36:3\">prep</a></span> <span class=\"gloss\">in</span> <span class=\"sp xft\"><span class=\"f\">sp=</span>prep</span></div>\n",
       "\n",
       "\n",
       "</div>\n",
       "\n",
       "<div class=\"word  hl\"  style=\"background-color: lightblue;\" >\n",
       "<a href=\"#\" class=\"nd\">49258</a>\n",
       "<div class=\"h\"><a target=\"_blank\" href=\"https://shebanq.ancient-data.org/hebrew/word?version=c&amp;id=1H\" title=\"show this lexeme in SHEBANQ\"></a></div>\n",
       "<div class=\"features\"> <span class=\"pdp\"><a href=\"https://shebanq.ancient-data.org/hebrew/text?book=Exodus&amp;chapter=36&amp;verse=3&amp;version=c&amp;mr=m&amp;qw=q&amp;tp=txt_p&amp;tr=hb&amp;wget=v&amp;qget=v&amp;nget=vt\" title=\"Exodus 36:3\" sec=\"Exodus 36:3\">art</a></span> <span class=\"gloss\">the</span> <span class=\"sp xft\"><span class=\"f\">sp=</span>art</span></div>\n",
       "\n",
       "\n",
       "</div>\n",
       "\n",
       "<div class=\"word  hl\"  style=\"background-color: lightblue;\" >\n",
       "<a href=\"#\" class=\"nd\">49259</a>\n",
       "<div class=\"h\"><a target=\"_blank\" href=\"https://shebanq.ancient-data.org/hebrew/word?version=c&amp;id=1BQRin\" title=\"show this lexeme in SHEBANQ\">בֹּֽקֶר׃ </a></div>\n",
       "<div class=\"features\"> <span class=\"pdp\"><a href=\"https://shebanq.ancient-data.org/hebrew/text?book=Exodus&amp;chapter=36&amp;verse=3&amp;version=c&amp;mr=m&amp;qw=q&amp;tp=txt_p&amp;tr=hb&amp;wget=v&amp;qget=v&amp;nget=vt\" title=\"Exodus 36:3\" sec=\"Exodus 36:3\">subs</a></span> <span class=\"gloss\">morning</span> <span class=\"sp xft\"><span class=\"f\">sp=</span>subs</span> <span class=\"st xft\"><span class=\"f\">st=</span>a</span></div>\n",
       "\n",
       "\n",
       "</div>\n",
       "\n",
       "\n",
       "    </div>\n",
       "\n",
       "\n",
       "</div>\n",
       "\n",
       "\n",
       "</div>\n"
      ],
      "text/plain": [
       "<IPython.core.display.HTML object>"
      ]
     },
     "metadata": {},
     "output_type": "display_data"
    },
    {
     "data": {
      "text/html": [
       "<div style=\"background: pink; text-align: center\">prep</div>"
      ],
      "text/plain": [
       "<IPython.core.display.HTML object>"
      ]
     },
     "metadata": {},
     "output_type": "display_data"
    },
    {
     "data": {
      "text/html": [
       "<div style=\"background: lightblue; text-align: center\">head</div>"
      ],
      "text/plain": [
       "<IPython.core.display.HTML object>"
      ]
     },
     "metadata": {},
     "output_type": "display_data"
    },
    {
     "name": "stdout",
     "output_type": "stream",
     "text": [
      "{   '__cx__': 'prep',\n",
      "    'head': {'__cx__': 'defi', 'defi': 49258, 'head': 49259},\n",
      "    'prep': 49257}\n",
      "\n"
     ]
    },
    {
     "data": {
      "text/html": [
       "<hr>"
      ],
      "text/plain": [
       "<IPython.core.display.HTML object>"
      ]
     },
     "metadata": {},
     "output_type": "display_data"
    },
    {
     "name": "stdout",
     "output_type": "stream",
     "text": [
      "\n",
      "1447035\n"
     ]
    },
    {
     "name": "stderr",
     "output_type": "stream",
     "text": [
      "No explicit link between CX defi {23013, 23014} and CX numb {23011, 23012}\n",
      "\tattempt connect CX defi {23013, 23014} and CX prep {23010, 23011, 23012, 23013}"
     ]
    },
    {
     "data": {
      "text/html": [
       "<p><b>result</b> <i>CX prep {23010, 23011, 23012, 23013, 23014}</i></p>"
      ],
      "text/plain": [
       "<IPython.core.display.HTML object>"
      ]
     },
     "metadata": {},
     "output_type": "display_data"
    },
    {
     "data": {
      "text/html": [
       "<a href=\"https://shebanq.ancient-data.org/hebrew/text?book=Genesis&amp;chapter=41&amp;verse=36&amp;version=c&amp;mr=m&amp;qw=q&amp;tp=txt_p&amp;tr=hb&amp;wget=v&amp;qget=v&amp;nget=vt\" title=\"show this passage in SHEBANQ\" sec=\"Genesis 41:36\">Genesis 41:36</a>\n",
       "<div class=\"atoms  \" >\n",
       "<a href=\"#\" class=\"nd\">665769</a>\n",
       "\n",
       "\n",
       "\n",
       "<div class=\"patom  \" >\n",
       "\n",
       "    <div class=\"phrase \" >\n",
       "        <a href=\"https://shebanq.ancient-data.org/hebrew/text?book=Genesis&amp;chapter=41&amp;verse=36&amp;version=c&amp;mr=m&amp;qw=q&amp;tp=txt_p&amp;tr=hb&amp;wget=v&amp;qget=v&amp;nget=vt\" title=\"Genesis 41:36\" sec=\"Genesis 41:36\">phrase</a> <a href=\"#\" class=\"nd\">665769</a>  <span class=\"function\">Time</span> <span class=\"typ\">PP</span>\n",
       "    </div>\n",
       "    <div class=\"atoms\">\n",
       "\n",
       "<div class=\"word  hl\"  style=\"background-color: pink;\" >\n",
       "<a href=\"#\" class=\"nd\">23010</a>\n",
       "<div class=\"h\"><a target=\"_blank\" href=\"https://shebanq.ancient-data.org/hebrew/word?version=c&amp;id=1L\" title=\"show this lexeme in SHEBANQ\">לְ</a></div>\n",
       "<div class=\"features\"> <span class=\"pdp\"><a href=\"https://shebanq.ancient-data.org/hebrew/text?book=Genesis&amp;chapter=41&amp;verse=36&amp;version=c&amp;mr=m&amp;qw=q&amp;tp=txt_p&amp;tr=hb&amp;wget=v&amp;qget=v&amp;nget=vt\" title=\"Genesis 41:36\" sec=\"Genesis 41:36\">prep</a></span> <span class=\"gloss\">to</span> <span class=\"sp xft\"><span class=\"f\">sp=</span>prep</span></div>\n",
       "\n",
       "\n",
       "</div>\n",
       "\n",
       "<div class=\"word  \" >\n",
       "<a href=\"#\" class=\"nd\">23011</a>\n",
       "<div class=\"h\"><a target=\"_blank\" href=\"https://shebanq.ancient-data.org/hebrew/word?version=c&amp;id=1CBOn\" title=\"show this lexeme in SHEBANQ\">שֶׁ֨בַע֙ </a></div>\n",
       "<div class=\"features\"> <span class=\"pdp\"><a href=\"https://shebanq.ancient-data.org/hebrew/text?book=Genesis&amp;chapter=41&amp;verse=36&amp;version=c&amp;mr=m&amp;qw=q&amp;tp=txt_p&amp;tr=hb&amp;wget=v&amp;qget=v&amp;nget=vt\" title=\"Genesis 41:36\" sec=\"Genesis 41:36\">subs</a></span> <span class=\"gloss\">seven</span> <span class=\"sp xft\"><span class=\"f\">sp=</span>subs</span> <span class=\"st xft\"><span class=\"f\">st=</span>a</span></div>\n",
       "\n",
       "\n",
       "</div>\n",
       "\n",
       "<div class=\"word  \" >\n",
       "<a href=\"#\" class=\"nd\">23012</a>\n",
       "<div class=\"h\"><a target=\"_blank\" href=\"https://shebanq.ancient-data.org/hebrew/word?version=c&amp;id=1CNHn\" title=\"show this lexeme in SHEBANQ\">שְׁנֵ֣י </a></div>\n",
       "<div class=\"features\"> <span class=\"pdp\"><a href=\"https://shebanq.ancient-data.org/hebrew/text?book=Genesis&amp;chapter=41&amp;verse=36&amp;version=c&amp;mr=m&amp;qw=q&amp;tp=txt_p&amp;tr=hb&amp;wget=v&amp;qget=v&amp;nget=vt\" title=\"Genesis 41:36\" sec=\"Genesis 41:36\">subs</a></span> <span class=\"gloss\">year</span> <span class=\"sp xft\"><span class=\"f\">sp=</span>subs</span> <span class=\"st xft\"><span class=\"f\">st=</span>c</span></div>\n",
       "\n",
       "\n",
       "</div>\n",
       "\n",
       "<div class=\"word  hl\"  style=\"background-color: lightblue;\" >\n",
       "<a href=\"#\" class=\"nd\">23013</a>\n",
       "<div class=\"h\"><a target=\"_blank\" href=\"https://shebanq.ancient-data.org/hebrew/word?version=c&amp;id=1H\" title=\"show this lexeme in SHEBANQ\">הָ</a></div>\n",
       "<div class=\"features\"> <span class=\"pdp\"><a href=\"https://shebanq.ancient-data.org/hebrew/text?book=Genesis&amp;chapter=41&amp;verse=36&amp;version=c&amp;mr=m&amp;qw=q&amp;tp=txt_p&amp;tr=hb&amp;wget=v&amp;qget=v&amp;nget=vt\" title=\"Genesis 41:36\" sec=\"Genesis 41:36\">art</a></span> <span class=\"gloss\">the</span> <span class=\"sp xft\"><span class=\"f\">sp=</span>art</span></div>\n",
       "\n",
       "\n",
       "</div>\n",
       "\n",
       "<div class=\"word  hl\"  style=\"background-color: lightblue;\" >\n",
       "<a href=\"#\" class=\"nd\">23014</a>\n",
       "<div class=\"h\"><a target=\"_blank\" href=\"https://shebanq.ancient-data.org/hebrew/word?version=c&amp;id=1ROBn\" title=\"show this lexeme in SHEBANQ\">רָעָ֔ב </a></div>\n",
       "<div class=\"features\"> <span class=\"pdp\"><a href=\"https://shebanq.ancient-data.org/hebrew/text?book=Genesis&amp;chapter=41&amp;verse=36&amp;version=c&amp;mr=m&amp;qw=q&amp;tp=txt_p&amp;tr=hb&amp;wget=v&amp;qget=v&amp;nget=vt\" title=\"Genesis 41:36\" sec=\"Genesis 41:36\">subs</a></span> <span class=\"gloss\">hunger</span> <span class=\"sp xft\"><span class=\"f\">sp=</span>subs</span> <span class=\"st xft\"><span class=\"f\">st=</span>a</span></div>\n",
       "\n",
       "\n",
       "</div>\n",
       "\n",
       "\n",
       "    </div>\n",
       "\n",
       "\n",
       "</div>\n",
       "\n",
       "\n",
       "</div>\n"
      ],
      "text/plain": [
       "<IPython.core.display.HTML object>"
      ]
     },
     "metadata": {},
     "output_type": "display_data"
    },
    {
     "data": {
      "text/html": [
       "<div style=\"background: pink; text-align: center\">prep</div>"
      ],
      "text/plain": [
       "<IPython.core.display.HTML object>"
      ]
     },
     "metadata": {},
     "output_type": "display_data"
    },
    {
     "data": {
      "text/html": [
       "<div style=\"background: lightblue; text-align: center\">head</div>"
      ],
      "text/plain": [
       "<IPython.core.display.HTML object>"
      ]
     },
     "metadata": {},
     "output_type": "display_data"
    },
    {
     "name": "stdout",
     "output_type": "stream",
     "text": [
      "{   '__cx__': 'prep',\n",
      "    'head': {'__cx__': 'defi', 'defi': 23013, 'head': 23014},\n",
      "    'prep': 23010}\n",
      "\n"
     ]
    },
    {
     "data": {
      "text/html": [
       "<hr>"
      ],
      "text/plain": [
       "<IPython.core.display.HTML object>"
      ]
     },
     "metadata": {},
     "output_type": "display_data"
    },
    {
     "name": "stdout",
     "output_type": "stream",
     "text": [
      "\n",
      "1446955\n"
     ]
    },
    {
     "data": {
      "text/html": [
       "<p><b>result</b> <i>CX prep {13802, 13803, 13804}</i></p>"
      ],
      "text/plain": [
       "<IPython.core.display.HTML object>"
      ]
     },
     "metadata": {},
     "output_type": "display_data"
    },
    {
     "data": {
      "text/html": [
       "<a href=\"https://shebanq.ancient-data.org/hebrew/text?book=Genesis&amp;chapter=27&amp;verse=10&amp;version=c&amp;mr=m&amp;qw=q&amp;tp=txt_p&amp;tr=hb&amp;wget=v&amp;qget=v&amp;nget=vt\" title=\"show this passage in SHEBANQ\" sec=\"Genesis 27:10\">Genesis 27:10</a>\n",
       "<div class=\"atoms  \" >\n",
       "<a href=\"#\" class=\"nd\">659783</a>\n",
       "\n",
       "\n",
       "\n",
       "<div class=\"patom  \" >\n",
       "\n",
       "    <div class=\"phrase \" >\n",
       "        <a href=\"https://shebanq.ancient-data.org/hebrew/text?book=Genesis&amp;chapter=27&amp;verse=10&amp;version=c&amp;mr=m&amp;qw=q&amp;tp=txt_p&amp;tr=hb&amp;wget=v&amp;qget=v&amp;nget=vt\" title=\"Genesis 27:10\" sec=\"Genesis 27:10\">phrase</a> <a href=\"#\" class=\"nd\">659783</a>  <span class=\"function\">Time</span> <span class=\"typ\">PP</span>\n",
       "    </div>\n",
       "    <div class=\"atoms\">\n",
       "\n",
       "<div class=\"word  hl\"  style=\"background-color: pink;\" >\n",
       "<a href=\"#\" class=\"nd\">13802</a>\n",
       "<div class=\"h\"><a target=\"_blank\" href=\"https://shebanq.ancient-data.org/hebrew/word?version=c&amp;id=1L\" title=\"show this lexeme in SHEBANQ\">לִ</a></div>\n",
       "<div class=\"features\"> <span class=\"pdp\"><a href=\"https://shebanq.ancient-data.org/hebrew/text?book=Genesis&amp;chapter=27&amp;verse=10&amp;version=c&amp;mr=m&amp;qw=q&amp;tp=txt_p&amp;tr=hb&amp;wget=v&amp;qget=v&amp;nget=vt\" title=\"Genesis 27:10\" sec=\"Genesis 27:10\">prep</a></span> <span class=\"gloss\">to</span> <span class=\"sp xft\"><span class=\"f\">sp=</span>prep</span></div>\n",
       "\n",
       "\n",
       "</div>\n",
       "\n",
       "<div class=\"word  hl\"  style=\"background-color: pink;\" >\n",
       "<a href=\"#\" class=\"nd\">13803</a>\n",
       "<div class=\"h\"><a target=\"_blank\" href=\"https://shebanq.ancient-data.org/hebrew/word?version=c&amp;id=1PNHn\" title=\"show this lexeme in SHEBANQ\">פְנֵ֥י </a></div>\n",
       "<div class=\"features\"> <span class=\"pdp\"><a href=\"https://shebanq.ancient-data.org/hebrew/text?book=Genesis&amp;chapter=27&amp;verse=10&amp;version=c&amp;mr=m&amp;qw=q&amp;tp=txt_p&amp;tr=hb&amp;wget=v&amp;qget=v&amp;nget=vt\" title=\"Genesis 27:10\" sec=\"Genesis 27:10\">subs</a></span> <span class=\"gloss\">face</span> <span class=\"sp xft\"><span class=\"f\">sp=</span>subs</span> <span class=\"st xft\"><span class=\"f\">st=</span>c</span></div>\n",
       "\n",
       "\n",
       "</div>\n",
       "\n",
       "<div class=\"word  hl\"  style=\"background-color: lightblue;\" >\n",
       "<a href=\"#\" class=\"nd\">13804</a>\n",
       "<div class=\"h\"><a target=\"_blank\" href=\"https://shebanq.ancient-data.org/hebrew/word?version=c&amp;id=1MWTn\" title=\"show this lexeme in SHEBANQ\">מֹותֹֽו׃ </a></div>\n",
       "<div class=\"features\"> <span class=\"pdp\"><a href=\"https://shebanq.ancient-data.org/hebrew/text?book=Genesis&amp;chapter=27&amp;verse=10&amp;version=c&amp;mr=m&amp;qw=q&amp;tp=txt_p&amp;tr=hb&amp;wget=v&amp;qget=v&amp;nget=vt\" title=\"Genesis 27:10\" sec=\"Genesis 27:10\">subs</a></span> <span class=\"gloss\">death</span> <span class=\"sp xft\"><span class=\"f\">sp=</span>subs</span> <span class=\"st xft\"><span class=\"f\">st=</span>a</span></div>\n",
       "\n",
       "\n",
       "</div>\n",
       "\n",
       "\n",
       "    </div>\n",
       "\n",
       "\n",
       "</div>\n",
       "\n",
       "\n",
       "</div>\n"
      ],
      "text/plain": [
       "<IPython.core.display.HTML object>"
      ]
     },
     "metadata": {},
     "output_type": "display_data"
    },
    {
     "data": {
      "text/html": [
       "<div style=\"background: pink; text-align: center\">prep</div>"
      ],
      "text/plain": [
       "<IPython.core.display.HTML object>"
      ]
     },
     "metadata": {},
     "output_type": "display_data"
    },
    {
     "data": {
      "text/html": [
       "<div style=\"background: lightblue; text-align: center\">head</div>"
      ],
      "text/plain": [
       "<IPython.core.display.HTML object>"
      ]
     },
     "metadata": {},
     "output_type": "display_data"
    },
    {
     "name": "stdout",
     "output_type": "stream",
     "text": [
      "{   '__cx__': 'prep',\n",
      "    'head': 13804,\n",
      "    'prep': {'__cx__': 'prep', 'head': 13803, 'prep': 13802}}\n",
      "\n"
     ]
    },
    {
     "data": {
      "text/html": [
       "<hr>"
      ],
      "text/plain": [
       "<IPython.core.display.HTML object>"
      ]
     },
     "metadata": {},
     "output_type": "display_data"
    },
    {
     "name": "stdout",
     "output_type": "stream",
     "text": [
      "\n",
      "1448815\n"
     ]
    },
    {
     "data": {
      "text/html": [
       "<p><b>result</b> <i>CX prep {199936, 199934, 199935}</i></p>"
      ],
      "text/plain": [
       "<IPython.core.display.HTML object>"
      ]
     },
     "metadata": {},
     "output_type": "display_data"
    },
    {
     "data": {
      "text/html": [
       "<a href=\"https://shebanq.ancient-data.org/hebrew/text?book=Reges_II&amp;chapter=8&amp;verse=16&amp;version=c&amp;mr=m&amp;qw=q&amp;tp=txt_p&amp;tr=hb&amp;wget=v&amp;qget=v&amp;nget=vt\" title=\"show this passage in SHEBANQ\" sec=\"2_Kings 8:16\">2_Kings 8:16</a>\n",
       "<div class=\"atoms  \" >\n",
       "<a href=\"#\" class=\"nd\">767562</a>\n",
       "\n",
       "\n",
       "\n",
       "<div class=\"patom  l \" >\n",
       "\n",
       "    <div class=\"phrase \" >\n",
       "        <a href=\"https://shebanq.ancient-data.org/hebrew/text?book=Reges_II&amp;chapter=8&amp;verse=16&amp;version=c&amp;mr=m&amp;qw=q&amp;tp=txt_p&amp;tr=hb&amp;wget=v&amp;qget=v&amp;nget=vt\" title=\"2_Kings 8:16\" sec=\"2_Kings 8:16\">phrase</a> <a href=\"#\" class=\"nd\">767562</a>  <span class=\"function\">Time</span> <span class=\"typ\">PP</span>\n",
       "    </div>\n",
       "    <div class=\"atoms\">\n",
       "\n",
       "<div class=\"word  hl\"  style=\"background-color: pink;\" >\n",
       "<a href=\"#\" class=\"nd\">199934</a>\n",
       "<div class=\"h\"><a target=\"_blank\" href=\"https://shebanq.ancient-data.org/hebrew/word?version=c&amp;id=1B\" title=\"show this lexeme in SHEBANQ\">בִ</a></div>\n",
       "<div class=\"features\"> <span class=\"pdp\"><a href=\"https://shebanq.ancient-data.org/hebrew/text?book=Reges_II&amp;chapter=8&amp;verse=16&amp;version=c&amp;mr=m&amp;qw=q&amp;tp=txt_p&amp;tr=hb&amp;wget=v&amp;qget=v&amp;nget=vt\" title=\"2_Kings 8:16\" sec=\"2_Kings 8:16\">prep</a></span> <span class=\"gloss\">in</span> <span class=\"sp xft\"><span class=\"f\">sp=</span>prep</span></div>\n",
       "\n",
       "\n",
       "</div>\n",
       "\n",
       "<div class=\"word  hl\"  style=\"background-color: lightblue;\" >\n",
       "<a href=\"#\" class=\"nd\">199935</a>\n",
       "<div class=\"h\"><a target=\"_blank\" href=\"https://shebanq.ancient-data.org/hebrew/word?version=c&amp;id=1CNHn\" title=\"show this lexeme in SHEBANQ\">שְׁנַ֣ת </a></div>\n",
       "<div class=\"features\"> <span class=\"pdp\"><a href=\"https://shebanq.ancient-data.org/hebrew/text?book=Reges_II&amp;chapter=8&amp;verse=16&amp;version=c&amp;mr=m&amp;qw=q&amp;tp=txt_p&amp;tr=hb&amp;wget=v&amp;qget=v&amp;nget=vt\" title=\"2_Kings 8:16\" sec=\"2_Kings 8:16\">subs</a></span> <span class=\"gloss\">year</span> <span class=\"sp xft\"><span class=\"f\">sp=</span>subs</span> <span class=\"st xft\"><span class=\"f\">st=</span>c</span></div>\n",
       "\n",
       "\n",
       "</div>\n",
       "\n",
       "<div class=\"word  hl\"  style=\"background-color: lightblue;\" >\n",
       "<a href=\"#\" class=\"nd\">199936</a>\n",
       "<div class=\"h\"><a target=\"_blank\" href=\"https://shebanq.ancient-data.org/hebrew/word?version=c&amp;id=1XMCn\" title=\"show this lexeme in SHEBANQ\">חָמֵ֗שׁ </a></div>\n",
       "<div class=\"features\"> <span class=\"pdp\"><a href=\"https://shebanq.ancient-data.org/hebrew/text?book=Reges_II&amp;chapter=8&amp;verse=16&amp;version=c&amp;mr=m&amp;qw=q&amp;tp=txt_p&amp;tr=hb&amp;wget=v&amp;qget=v&amp;nget=vt\" title=\"2_Kings 8:16\" sec=\"2_Kings 8:16\">subs</a></span> <span class=\"gloss\">five</span> <span class=\"sp xft\"><span class=\"f\">sp=</span>subs</span> <span class=\"st xft\"><span class=\"f\">st=</span>a</span></div>\n",
       "\n",
       "\n",
       "</div>\n",
       "\n",
       "\n",
       "    </div>\n",
       "\n",
       "\n",
       "</div>\n",
       "\n",
       "<div class=\"patom  r l \" >\n",
       "\n",
       "    <div class=\"phrase \" >\n",
       "        <a href=\"https://shebanq.ancient-data.org/hebrew/text?book=Reges_II&amp;chapter=8&amp;verse=16&amp;version=c&amp;mr=m&amp;qw=q&amp;tp=txt_p&amp;tr=hb&amp;wget=v&amp;qget=v&amp;nget=vt\" title=\"2_Kings 8:16\" sec=\"2_Kings 8:16\">phrase</a> <a href=\"#\" class=\"nd\">767562</a>  <span class=\"function\">Time</span> <span class=\"typ\">PP</span>\n",
       "    </div>\n",
       "    <div class=\"atoms\">\n",
       "\n",
       "<div class=\"word  \" >\n",
       "<a href=\"#\" class=\"nd\">199937</a>\n",
       "<div class=\"h\"><a target=\"_blank\" href=\"https://shebanq.ancient-data.org/hebrew/word?version=c&amp;id=1L\" title=\"show this lexeme in SHEBANQ\">לְ</a></div>\n",
       "<div class=\"features\"> <span class=\"pdp\"><a href=\"https://shebanq.ancient-data.org/hebrew/text?book=Reges_II&amp;chapter=8&amp;verse=16&amp;version=c&amp;mr=m&amp;qw=q&amp;tp=txt_p&amp;tr=hb&amp;wget=v&amp;qget=v&amp;nget=vt\" title=\"2_Kings 8:16\" sec=\"2_Kings 8:16\">prep</a></span> <span class=\"gloss\">to</span> <span class=\"sp xft\"><span class=\"f\">sp=</span>prep</span></div>\n",
       "\n",
       "\n",
       "</div>\n",
       "\n",
       "<div class=\"word  \" >\n",
       "<a href=\"#\" class=\"nd\">199938</a>\n",
       "<div class=\"h\"><a target=\"_blank\" href=\"https://shebanq.ancient-data.org/hebrew/word?version=c&amp;id=1JWRMn\" title=\"show this lexeme in SHEBANQ\">יֹורָ֤ם </a></div>\n",
       "<div class=\"features\"> <span class=\"pdp\"><a href=\"https://shebanq.ancient-data.org/hebrew/text?book=Reges_II&amp;chapter=8&amp;verse=16&amp;version=c&amp;mr=m&amp;qw=q&amp;tp=txt_p&amp;tr=hb&amp;wget=v&amp;qget=v&amp;nget=vt\" title=\"2_Kings 8:16\" sec=\"2_Kings 8:16\">nmpr</a></span> <span class=\"gloss\">Joram</span> <span class=\"sp xft\"><span class=\"f\">sp=</span>nmpr</span> <span class=\"st xft\"><span class=\"f\">st=</span>a</span></div>\n",
       "\n",
       "\n",
       "</div>\n",
       "\n",
       "\n",
       "    </div>\n",
       "\n",
       "\n",
       "</div>\n",
       "\n",
       "<div class=\"patom  r l \" >\n",
       "\n",
       "    <div class=\"phrase \" >\n",
       "        <a href=\"https://shebanq.ancient-data.org/hebrew/text?book=Reges_II&amp;chapter=8&amp;verse=16&amp;version=c&amp;mr=m&amp;qw=q&amp;tp=txt_p&amp;tr=hb&amp;wget=v&amp;qget=v&amp;nget=vt\" title=\"2_Kings 8:16\" sec=\"2_Kings 8:16\">phrase</a> <a href=\"#\" class=\"nd\">767562</a>  <span class=\"function\">Time</span> <span class=\"typ\">PP|NP</span>\n",
       "    </div>\n",
       "    <div class=\"atoms\">\n",
       "\n",
       "<div class=\"word  \" >\n",
       "<a href=\"#\" class=\"nd\">199939</a>\n",
       "<div class=\"h\"><a target=\"_blank\" href=\"https://shebanq.ancient-data.org/hebrew/word?version=c&amp;id=1BNn\" title=\"show this lexeme in SHEBANQ\">בֶּן־</a></div>\n",
       "<div class=\"features\"> <span class=\"pdp\"><a href=\"https://shebanq.ancient-data.org/hebrew/text?book=Reges_II&amp;chapter=8&amp;verse=16&amp;version=c&amp;mr=m&amp;qw=q&amp;tp=txt_p&amp;tr=hb&amp;wget=v&amp;qget=v&amp;nget=vt\" title=\"2_Kings 8:16\" sec=\"2_Kings 8:16\">subs</a></span> <span class=\"gloss\">son</span> <span class=\"sp xft\"><span class=\"f\">sp=</span>subs</span> <span class=\"st xft\"><span class=\"f\">st=</span>c</span></div>\n",
       "\n",
       "\n",
       "</div>\n",
       "\n",
       "<div class=\"word  \" >\n",
       "<a href=\"#\" class=\"nd\">199940</a>\n",
       "<div class=\"h\"><a target=\"_blank\" href=\"https://shebanq.ancient-data.org/hebrew/word?version=c&amp;id=1AXABn\" title=\"show this lexeme in SHEBANQ\">אַחְאָב֙ </a></div>\n",
       "<div class=\"features\"> <span class=\"pdp\"><a href=\"https://shebanq.ancient-data.org/hebrew/text?book=Reges_II&amp;chapter=8&amp;verse=16&amp;version=c&amp;mr=m&amp;qw=q&amp;tp=txt_p&amp;tr=hb&amp;wget=v&amp;qget=v&amp;nget=vt\" title=\"2_Kings 8:16\" sec=\"2_Kings 8:16\">nmpr</a></span> <span class=\"gloss\">Ahab</span> <span class=\"sp xft\"><span class=\"f\">sp=</span>nmpr</span> <span class=\"st xft\"><span class=\"f\">st=</span>a</span></div>\n",
       "\n",
       "\n",
       "</div>\n",
       "\n",
       "\n",
       "    </div>\n",
       "\n",
       "\n",
       "</div>\n",
       "\n",
       "<div class=\"patom  r \" >\n",
       "\n",
       "    <div class=\"phrase \" >\n",
       "        <a href=\"https://shebanq.ancient-data.org/hebrew/text?book=Reges_II&amp;chapter=8&amp;verse=16&amp;version=c&amp;mr=m&amp;qw=q&amp;tp=txt_p&amp;tr=hb&amp;wget=v&amp;qget=v&amp;nget=vt\" title=\"2_Kings 8:16\" sec=\"2_Kings 8:16\">phrase</a> <a href=\"#\" class=\"nd\">767562</a>  <span class=\"function\">Time</span> <span class=\"typ\">PP|NP</span>\n",
       "    </div>\n",
       "    <div class=\"atoms\">\n",
       "\n",
       "<div class=\"word  \" >\n",
       "<a href=\"#\" class=\"nd\">199941</a>\n",
       "<div class=\"h\"><a target=\"_blank\" href=\"https://shebanq.ancient-data.org/hebrew/word?version=c&amp;id=1MLKn\" title=\"show this lexeme in SHEBANQ\">מֶ֣לֶךְ </a></div>\n",
       "<div class=\"features\"> <span class=\"pdp\"><a href=\"https://shebanq.ancient-data.org/hebrew/text?book=Reges_II&amp;chapter=8&amp;verse=16&amp;version=c&amp;mr=m&amp;qw=q&amp;tp=txt_p&amp;tr=hb&amp;wget=v&amp;qget=v&amp;nget=vt\" title=\"2_Kings 8:16\" sec=\"2_Kings 8:16\">subs</a></span> <span class=\"gloss\">king</span> <span class=\"sp xft\"><span class=\"f\">sp=</span>subs</span> <span class=\"st xft\"><span class=\"f\">st=</span>c</span></div>\n",
       "\n",
       "\n",
       "</div>\n",
       "\n",
       "<div class=\"word  \" >\n",
       "<a href=\"#\" class=\"nd\">199942</a>\n",
       "<div class=\"h\"><a target=\"_blank\" href=\"https://shebanq.ancient-data.org/hebrew/word?version=c&amp;id=1JFRALn\" title=\"show this lexeme in SHEBANQ\">יִשְׂרָאֵ֔ל </a></div>\n",
       "<div class=\"features\"> <span class=\"pdp\"><a href=\"https://shebanq.ancient-data.org/hebrew/text?book=Reges_II&amp;chapter=8&amp;verse=16&amp;version=c&amp;mr=m&amp;qw=q&amp;tp=txt_p&amp;tr=hb&amp;wget=v&amp;qget=v&amp;nget=vt\" title=\"2_Kings 8:16\" sec=\"2_Kings 8:16\">nmpr</a></span> <span class=\"gloss\">Israel</span> <span class=\"sp xft\"><span class=\"f\">sp=</span>nmpr</span> <span class=\"st xft\"><span class=\"f\">st=</span>a</span></div>\n",
       "\n",
       "\n",
       "</div>\n",
       "\n",
       "\n",
       "    </div>\n",
       "\n",
       "\n",
       "</div>\n",
       "\n",
       "\n",
       "</div>\n"
      ],
      "text/plain": [
       "<IPython.core.display.HTML object>"
      ]
     },
     "metadata": {},
     "output_type": "display_data"
    },
    {
     "data": {
      "text/html": [
       "<div style=\"background: pink; text-align: center\">prep</div>"
      ],
      "text/plain": [
       "<IPython.core.display.HTML object>"
      ]
     },
     "metadata": {},
     "output_type": "display_data"
    },
    {
     "data": {
      "text/html": [
       "<div style=\"background: lightblue; text-align: center\">head</div>"
      ],
      "text/plain": [
       "<IPython.core.display.HTML object>"
      ]
     },
     "metadata": {},
     "output_type": "display_data"
    },
    {
     "name": "stdout",
     "output_type": "stream",
     "text": [
      "{   '__cx__': 'prep',\n",
      "    'head': {'__cx__': 'geni', 'geni': 199936, 'head': 199935},\n",
      "    'prep': 199934}\n",
      "\n"
     ]
    },
    {
     "data": {
      "text/html": [
       "<hr>"
      ],
      "text/plain": [
       "<IPython.core.display.HTML object>"
      ]
     },
     "metadata": {},
     "output_type": "display_data"
    },
    {
     "data": {
      "text/html": [
       "<p><b>result</b> <i>CX prep {199937, 199938}</i></p>"
      ],
      "text/plain": [
       "<IPython.core.display.HTML object>"
      ]
     },
     "metadata": {},
     "output_type": "display_data"
    },
    {
     "data": {
      "text/html": [
       "<a href=\"https://shebanq.ancient-data.org/hebrew/text?book=Reges_II&amp;chapter=8&amp;verse=16&amp;version=c&amp;mr=m&amp;qw=q&amp;tp=txt_p&amp;tr=hb&amp;wget=v&amp;qget=v&amp;nget=vt\" title=\"show this passage in SHEBANQ\" sec=\"2_Kings 8:16\">2_Kings 8:16</a>\n",
       "<div class=\"atoms  \" >\n",
       "<a href=\"#\" class=\"nd\">767562</a>\n",
       "\n",
       "\n",
       "\n",
       "<div class=\"patom  l \" >\n",
       "\n",
       "    <div class=\"phrase \" >\n",
       "        <a href=\"https://shebanq.ancient-data.org/hebrew/text?book=Reges_II&amp;chapter=8&amp;verse=16&amp;version=c&amp;mr=m&amp;qw=q&amp;tp=txt_p&amp;tr=hb&amp;wget=v&amp;qget=v&amp;nget=vt\" title=\"2_Kings 8:16\" sec=\"2_Kings 8:16\">phrase</a> <a href=\"#\" class=\"nd\">767562</a>  <span class=\"function\">Time</span> <span class=\"typ\">PP</span>\n",
       "    </div>\n",
       "    <div class=\"atoms\">\n",
       "\n",
       "<div class=\"word  \" >\n",
       "<a href=\"#\" class=\"nd\">199934</a>\n",
       "<div class=\"h\"><a target=\"_blank\" href=\"https://shebanq.ancient-data.org/hebrew/word?version=c&amp;id=1B\" title=\"show this lexeme in SHEBANQ\">בִ</a></div>\n",
       "<div class=\"features\"> <span class=\"pdp\"><a href=\"https://shebanq.ancient-data.org/hebrew/text?book=Reges_II&amp;chapter=8&amp;verse=16&amp;version=c&amp;mr=m&amp;qw=q&amp;tp=txt_p&amp;tr=hb&amp;wget=v&amp;qget=v&amp;nget=vt\" title=\"2_Kings 8:16\" sec=\"2_Kings 8:16\">prep</a></span> <span class=\"gloss\">in</span> <span class=\"sp xft\"><span class=\"f\">sp=</span>prep</span></div>\n",
       "\n",
       "\n",
       "</div>\n",
       "\n",
       "<div class=\"word  \" >\n",
       "<a href=\"#\" class=\"nd\">199935</a>\n",
       "<div class=\"h\"><a target=\"_blank\" href=\"https://shebanq.ancient-data.org/hebrew/word?version=c&amp;id=1CNHn\" title=\"show this lexeme in SHEBANQ\">שְׁנַ֣ת </a></div>\n",
       "<div class=\"features\"> <span class=\"pdp\"><a href=\"https://shebanq.ancient-data.org/hebrew/text?book=Reges_II&amp;chapter=8&amp;verse=16&amp;version=c&amp;mr=m&amp;qw=q&amp;tp=txt_p&amp;tr=hb&amp;wget=v&amp;qget=v&amp;nget=vt\" title=\"2_Kings 8:16\" sec=\"2_Kings 8:16\">subs</a></span> <span class=\"gloss\">year</span> <span class=\"sp xft\"><span class=\"f\">sp=</span>subs</span> <span class=\"st xft\"><span class=\"f\">st=</span>c</span></div>\n",
       "\n",
       "\n",
       "</div>\n",
       "\n",
       "<div class=\"word  \" >\n",
       "<a href=\"#\" class=\"nd\">199936</a>\n",
       "<div class=\"h\"><a target=\"_blank\" href=\"https://shebanq.ancient-data.org/hebrew/word?version=c&amp;id=1XMCn\" title=\"show this lexeme in SHEBANQ\">חָמֵ֗שׁ </a></div>\n",
       "<div class=\"features\"> <span class=\"pdp\"><a href=\"https://shebanq.ancient-data.org/hebrew/text?book=Reges_II&amp;chapter=8&amp;verse=16&amp;version=c&amp;mr=m&amp;qw=q&amp;tp=txt_p&amp;tr=hb&amp;wget=v&amp;qget=v&amp;nget=vt\" title=\"2_Kings 8:16\" sec=\"2_Kings 8:16\">subs</a></span> <span class=\"gloss\">five</span> <span class=\"sp xft\"><span class=\"f\">sp=</span>subs</span> <span class=\"st xft\"><span class=\"f\">st=</span>a</span></div>\n",
       "\n",
       "\n",
       "</div>\n",
       "\n",
       "\n",
       "    </div>\n",
       "\n",
       "\n",
       "</div>\n",
       "\n",
       "<div class=\"patom  r l \" >\n",
       "\n",
       "    <div class=\"phrase \" >\n",
       "        <a href=\"https://shebanq.ancient-data.org/hebrew/text?book=Reges_II&amp;chapter=8&amp;verse=16&amp;version=c&amp;mr=m&amp;qw=q&amp;tp=txt_p&amp;tr=hb&amp;wget=v&amp;qget=v&amp;nget=vt\" title=\"2_Kings 8:16\" sec=\"2_Kings 8:16\">phrase</a> <a href=\"#\" class=\"nd\">767562</a>  <span class=\"function\">Time</span> <span class=\"typ\">PP</span>\n",
       "    </div>\n",
       "    <div class=\"atoms\">\n",
       "\n",
       "<div class=\"word  hl\"  style=\"background-color: pink;\" >\n",
       "<a href=\"#\" class=\"nd\">199937</a>\n",
       "<div class=\"h\"><a target=\"_blank\" href=\"https://shebanq.ancient-data.org/hebrew/word?version=c&amp;id=1L\" title=\"show this lexeme in SHEBANQ\">לְ</a></div>\n",
       "<div class=\"features\"> <span class=\"pdp\"><a href=\"https://shebanq.ancient-data.org/hebrew/text?book=Reges_II&amp;chapter=8&amp;verse=16&amp;version=c&amp;mr=m&amp;qw=q&amp;tp=txt_p&amp;tr=hb&amp;wget=v&amp;qget=v&amp;nget=vt\" title=\"2_Kings 8:16\" sec=\"2_Kings 8:16\">prep</a></span> <span class=\"gloss\">to</span> <span class=\"sp xft\"><span class=\"f\">sp=</span>prep</span></div>\n",
       "\n",
       "\n",
       "</div>\n",
       "\n",
       "<div class=\"word  hl\"  style=\"background-color: lightblue;\" >\n",
       "<a href=\"#\" class=\"nd\">199938</a>\n",
       "<div class=\"h\"><a target=\"_blank\" href=\"https://shebanq.ancient-data.org/hebrew/word?version=c&amp;id=1JWRMn\" title=\"show this lexeme in SHEBANQ\">יֹורָ֤ם </a></div>\n",
       "<div class=\"features\"> <span class=\"pdp\"><a href=\"https://shebanq.ancient-data.org/hebrew/text?book=Reges_II&amp;chapter=8&amp;verse=16&amp;version=c&amp;mr=m&amp;qw=q&amp;tp=txt_p&amp;tr=hb&amp;wget=v&amp;qget=v&amp;nget=vt\" title=\"2_Kings 8:16\" sec=\"2_Kings 8:16\">nmpr</a></span> <span class=\"gloss\">Joram</span> <span class=\"sp xft\"><span class=\"f\">sp=</span>nmpr</span> <span class=\"st xft\"><span class=\"f\">st=</span>a</span></div>\n",
       "\n",
       "\n",
       "</div>\n",
       "\n",
       "\n",
       "    </div>\n",
       "\n",
       "\n",
       "</div>\n",
       "\n",
       "<div class=\"patom  r l \" >\n",
       "\n",
       "    <div class=\"phrase \" >\n",
       "        <a href=\"https://shebanq.ancient-data.org/hebrew/text?book=Reges_II&amp;chapter=8&amp;verse=16&amp;version=c&amp;mr=m&amp;qw=q&amp;tp=txt_p&amp;tr=hb&amp;wget=v&amp;qget=v&amp;nget=vt\" title=\"2_Kings 8:16\" sec=\"2_Kings 8:16\">phrase</a> <a href=\"#\" class=\"nd\">767562</a>  <span class=\"function\">Time</span> <span class=\"typ\">PP|NP</span>\n",
       "    </div>\n",
       "    <div class=\"atoms\">\n",
       "\n",
       "<div class=\"word  \" >\n",
       "<a href=\"#\" class=\"nd\">199939</a>\n",
       "<div class=\"h\"><a target=\"_blank\" href=\"https://shebanq.ancient-data.org/hebrew/word?version=c&amp;id=1BNn\" title=\"show this lexeme in SHEBANQ\">בֶּן־</a></div>\n",
       "<div class=\"features\"> <span class=\"pdp\"><a href=\"https://shebanq.ancient-data.org/hebrew/text?book=Reges_II&amp;chapter=8&amp;verse=16&amp;version=c&amp;mr=m&amp;qw=q&amp;tp=txt_p&amp;tr=hb&amp;wget=v&amp;qget=v&amp;nget=vt\" title=\"2_Kings 8:16\" sec=\"2_Kings 8:16\">subs</a></span> <span class=\"gloss\">son</span> <span class=\"sp xft\"><span class=\"f\">sp=</span>subs</span> <span class=\"st xft\"><span class=\"f\">st=</span>c</span></div>\n",
       "\n",
       "\n",
       "</div>\n",
       "\n",
       "<div class=\"word  \" >\n",
       "<a href=\"#\" class=\"nd\">199940</a>\n",
       "<div class=\"h\"><a target=\"_blank\" href=\"https://shebanq.ancient-data.org/hebrew/word?version=c&amp;id=1AXABn\" title=\"show this lexeme in SHEBANQ\">אַחְאָב֙ </a></div>\n",
       "<div class=\"features\"> <span class=\"pdp\"><a href=\"https://shebanq.ancient-data.org/hebrew/text?book=Reges_II&amp;chapter=8&amp;verse=16&amp;version=c&amp;mr=m&amp;qw=q&amp;tp=txt_p&amp;tr=hb&amp;wget=v&amp;qget=v&amp;nget=vt\" title=\"2_Kings 8:16\" sec=\"2_Kings 8:16\">nmpr</a></span> <span class=\"gloss\">Ahab</span> <span class=\"sp xft\"><span class=\"f\">sp=</span>nmpr</span> <span class=\"st xft\"><span class=\"f\">st=</span>a</span></div>\n",
       "\n",
       "\n",
       "</div>\n",
       "\n",
       "\n",
       "    </div>\n",
       "\n",
       "\n",
       "</div>\n",
       "\n",
       "<div class=\"patom  r \" >\n",
       "\n",
       "    <div class=\"phrase \" >\n",
       "        <a href=\"https://shebanq.ancient-data.org/hebrew/text?book=Reges_II&amp;chapter=8&amp;verse=16&amp;version=c&amp;mr=m&amp;qw=q&amp;tp=txt_p&amp;tr=hb&amp;wget=v&amp;qget=v&amp;nget=vt\" title=\"2_Kings 8:16\" sec=\"2_Kings 8:16\">phrase</a> <a href=\"#\" class=\"nd\">767562</a>  <span class=\"function\">Time</span> <span class=\"typ\">PP|NP</span>\n",
       "    </div>\n",
       "    <div class=\"atoms\">\n",
       "\n",
       "<div class=\"word  \" >\n",
       "<a href=\"#\" class=\"nd\">199941</a>\n",
       "<div class=\"h\"><a target=\"_blank\" href=\"https://shebanq.ancient-data.org/hebrew/word?version=c&amp;id=1MLKn\" title=\"show this lexeme in SHEBANQ\">מֶ֣לֶךְ </a></div>\n",
       "<div class=\"features\"> <span class=\"pdp\"><a href=\"https://shebanq.ancient-data.org/hebrew/text?book=Reges_II&amp;chapter=8&amp;verse=16&amp;version=c&amp;mr=m&amp;qw=q&amp;tp=txt_p&amp;tr=hb&amp;wget=v&amp;qget=v&amp;nget=vt\" title=\"2_Kings 8:16\" sec=\"2_Kings 8:16\">subs</a></span> <span class=\"gloss\">king</span> <span class=\"sp xft\"><span class=\"f\">sp=</span>subs</span> <span class=\"st xft\"><span class=\"f\">st=</span>c</span></div>\n",
       "\n",
       "\n",
       "</div>\n",
       "\n",
       "<div class=\"word  \" >\n",
       "<a href=\"#\" class=\"nd\">199942</a>\n",
       "<div class=\"h\"><a target=\"_blank\" href=\"https://shebanq.ancient-data.org/hebrew/word?version=c&amp;id=1JFRALn\" title=\"show this lexeme in SHEBANQ\">יִשְׂרָאֵ֔ל </a></div>\n",
       "<div class=\"features\"> <span class=\"pdp\"><a href=\"https://shebanq.ancient-data.org/hebrew/text?book=Reges_II&amp;chapter=8&amp;verse=16&amp;version=c&amp;mr=m&amp;qw=q&amp;tp=txt_p&amp;tr=hb&amp;wget=v&amp;qget=v&amp;nget=vt\" title=\"2_Kings 8:16\" sec=\"2_Kings 8:16\">nmpr</a></span> <span class=\"gloss\">Israel</span> <span class=\"sp xft\"><span class=\"f\">sp=</span>nmpr</span> <span class=\"st xft\"><span class=\"f\">st=</span>a</span></div>\n",
       "\n",
       "\n",
       "</div>\n",
       "\n",
       "\n",
       "    </div>\n",
       "\n",
       "\n",
       "</div>\n",
       "\n",
       "\n",
       "</div>\n"
      ],
      "text/plain": [
       "<IPython.core.display.HTML object>"
      ]
     },
     "metadata": {},
     "output_type": "display_data"
    },
    {
     "data": {
      "text/html": [
       "<div style=\"background: pink; text-align: center\">prep</div>"
      ],
      "text/plain": [
       "<IPython.core.display.HTML object>"
      ]
     },
     "metadata": {},
     "output_type": "display_data"
    },
    {
     "data": {
      "text/html": [
       "<div style=\"background: lightblue; text-align: center\">head</div>"
      ],
      "text/plain": [
       "<IPython.core.display.HTML object>"
      ]
     },
     "metadata": {},
     "output_type": "display_data"
    },
    {
     "name": "stdout",
     "output_type": "stream",
     "text": [
      "{'__cx__': 'prep', 'head': 199938, 'prep': 199937}\n",
      "\n"
     ]
    },
    {
     "data": {
      "text/html": [
       "<hr>"
      ],
      "text/plain": [
       "<IPython.core.display.HTML object>"
      ]
     },
     "metadata": {},
     "output_type": "display_data"
    },
    {
     "data": {
      "text/html": [
       "<p><b>result</b> <i>CX geni {199939, 199940}</i></p>"
      ],
      "text/plain": [
       "<IPython.core.display.HTML object>"
      ]
     },
     "metadata": {},
     "output_type": "display_data"
    },
    {
     "data": {
      "text/html": [
       "<a href=\"https://shebanq.ancient-data.org/hebrew/text?book=Reges_II&amp;chapter=8&amp;verse=16&amp;version=c&amp;mr=m&amp;qw=q&amp;tp=txt_p&amp;tr=hb&amp;wget=v&amp;qget=v&amp;nget=vt\" title=\"show this passage in SHEBANQ\" sec=\"2_Kings 8:16\">2_Kings 8:16</a>\n",
       "<div class=\"atoms  \" >\n",
       "<a href=\"#\" class=\"nd\">767562</a>\n",
       "\n",
       "\n",
       "\n",
       "<div class=\"patom  l \" >\n",
       "\n",
       "    <div class=\"phrase \" >\n",
       "        <a href=\"https://shebanq.ancient-data.org/hebrew/text?book=Reges_II&amp;chapter=8&amp;verse=16&amp;version=c&amp;mr=m&amp;qw=q&amp;tp=txt_p&amp;tr=hb&amp;wget=v&amp;qget=v&amp;nget=vt\" title=\"2_Kings 8:16\" sec=\"2_Kings 8:16\">phrase</a> <a href=\"#\" class=\"nd\">767562</a>  <span class=\"function\">Time</span> <span class=\"typ\">PP</span>\n",
       "    </div>\n",
       "    <div class=\"atoms\">\n",
       "\n",
       "<div class=\"word  \" >\n",
       "<a href=\"#\" class=\"nd\">199934</a>\n",
       "<div class=\"h\"><a target=\"_blank\" href=\"https://shebanq.ancient-data.org/hebrew/word?version=c&amp;id=1B\" title=\"show this lexeme in SHEBANQ\">בִ</a></div>\n",
       "<div class=\"features\"> <span class=\"pdp\"><a href=\"https://shebanq.ancient-data.org/hebrew/text?book=Reges_II&amp;chapter=8&amp;verse=16&amp;version=c&amp;mr=m&amp;qw=q&amp;tp=txt_p&amp;tr=hb&amp;wget=v&amp;qget=v&amp;nget=vt\" title=\"2_Kings 8:16\" sec=\"2_Kings 8:16\">prep</a></span> <span class=\"gloss\">in</span> <span class=\"sp xft\"><span class=\"f\">sp=</span>prep</span></div>\n",
       "\n",
       "\n",
       "</div>\n",
       "\n",
       "<div class=\"word  \" >\n",
       "<a href=\"#\" class=\"nd\">199935</a>\n",
       "<div class=\"h\"><a target=\"_blank\" href=\"https://shebanq.ancient-data.org/hebrew/word?version=c&amp;id=1CNHn\" title=\"show this lexeme in SHEBANQ\">שְׁנַ֣ת </a></div>\n",
       "<div class=\"features\"> <span class=\"pdp\"><a href=\"https://shebanq.ancient-data.org/hebrew/text?book=Reges_II&amp;chapter=8&amp;verse=16&amp;version=c&amp;mr=m&amp;qw=q&amp;tp=txt_p&amp;tr=hb&amp;wget=v&amp;qget=v&amp;nget=vt\" title=\"2_Kings 8:16\" sec=\"2_Kings 8:16\">subs</a></span> <span class=\"gloss\">year</span> <span class=\"sp xft\"><span class=\"f\">sp=</span>subs</span> <span class=\"st xft\"><span class=\"f\">st=</span>c</span></div>\n",
       "\n",
       "\n",
       "</div>\n",
       "\n",
       "<div class=\"word  \" >\n",
       "<a href=\"#\" class=\"nd\">199936</a>\n",
       "<div class=\"h\"><a target=\"_blank\" href=\"https://shebanq.ancient-data.org/hebrew/word?version=c&amp;id=1XMCn\" title=\"show this lexeme in SHEBANQ\">חָמֵ֗שׁ </a></div>\n",
       "<div class=\"features\"> <span class=\"pdp\"><a href=\"https://shebanq.ancient-data.org/hebrew/text?book=Reges_II&amp;chapter=8&amp;verse=16&amp;version=c&amp;mr=m&amp;qw=q&amp;tp=txt_p&amp;tr=hb&amp;wget=v&amp;qget=v&amp;nget=vt\" title=\"2_Kings 8:16\" sec=\"2_Kings 8:16\">subs</a></span> <span class=\"gloss\">five</span> <span class=\"sp xft\"><span class=\"f\">sp=</span>subs</span> <span class=\"st xft\"><span class=\"f\">st=</span>a</span></div>\n",
       "\n",
       "\n",
       "</div>\n",
       "\n",
       "\n",
       "    </div>\n",
       "\n",
       "\n",
       "</div>\n",
       "\n",
       "<div class=\"patom  r l \" >\n",
       "\n",
       "    <div class=\"phrase \" >\n",
       "        <a href=\"https://shebanq.ancient-data.org/hebrew/text?book=Reges_II&amp;chapter=8&amp;verse=16&amp;version=c&amp;mr=m&amp;qw=q&amp;tp=txt_p&amp;tr=hb&amp;wget=v&amp;qget=v&amp;nget=vt\" title=\"2_Kings 8:16\" sec=\"2_Kings 8:16\">phrase</a> <a href=\"#\" class=\"nd\">767562</a>  <span class=\"function\">Time</span> <span class=\"typ\">PP</span>\n",
       "    </div>\n",
       "    <div class=\"atoms\">\n",
       "\n",
       "<div class=\"word  \" >\n",
       "<a href=\"#\" class=\"nd\">199937</a>\n",
       "<div class=\"h\"><a target=\"_blank\" href=\"https://shebanq.ancient-data.org/hebrew/word?version=c&amp;id=1L\" title=\"show this lexeme in SHEBANQ\">לְ</a></div>\n",
       "<div class=\"features\"> <span class=\"pdp\"><a href=\"https://shebanq.ancient-data.org/hebrew/text?book=Reges_II&amp;chapter=8&amp;verse=16&amp;version=c&amp;mr=m&amp;qw=q&amp;tp=txt_p&amp;tr=hb&amp;wget=v&amp;qget=v&amp;nget=vt\" title=\"2_Kings 8:16\" sec=\"2_Kings 8:16\">prep</a></span> <span class=\"gloss\">to</span> <span class=\"sp xft\"><span class=\"f\">sp=</span>prep</span></div>\n",
       "\n",
       "\n",
       "</div>\n",
       "\n",
       "<div class=\"word  \" >\n",
       "<a href=\"#\" class=\"nd\">199938</a>\n",
       "<div class=\"h\"><a target=\"_blank\" href=\"https://shebanq.ancient-data.org/hebrew/word?version=c&amp;id=1JWRMn\" title=\"show this lexeme in SHEBANQ\">יֹורָ֤ם </a></div>\n",
       "<div class=\"features\"> <span class=\"pdp\"><a href=\"https://shebanq.ancient-data.org/hebrew/text?book=Reges_II&amp;chapter=8&amp;verse=16&amp;version=c&amp;mr=m&amp;qw=q&amp;tp=txt_p&amp;tr=hb&amp;wget=v&amp;qget=v&amp;nget=vt\" title=\"2_Kings 8:16\" sec=\"2_Kings 8:16\">nmpr</a></span> <span class=\"gloss\">Joram</span> <span class=\"sp xft\"><span class=\"f\">sp=</span>nmpr</span> <span class=\"st xft\"><span class=\"f\">st=</span>a</span></div>\n",
       "\n",
       "\n",
       "</div>\n",
       "\n",
       "\n",
       "    </div>\n",
       "\n",
       "\n",
       "</div>\n",
       "\n",
       "<div class=\"patom  r l \" >\n",
       "\n",
       "    <div class=\"phrase \" >\n",
       "        <a href=\"https://shebanq.ancient-data.org/hebrew/text?book=Reges_II&amp;chapter=8&amp;verse=16&amp;version=c&amp;mr=m&amp;qw=q&amp;tp=txt_p&amp;tr=hb&amp;wget=v&amp;qget=v&amp;nget=vt\" title=\"2_Kings 8:16\" sec=\"2_Kings 8:16\">phrase</a> <a href=\"#\" class=\"nd\">767562</a>  <span class=\"function\">Time</span> <span class=\"typ\">PP|NP</span>\n",
       "    </div>\n",
       "    <div class=\"atoms\">\n",
       "\n",
       "<div class=\"word  hl\"  style=\"background-color: lightblue;\" >\n",
       "<a href=\"#\" class=\"nd\">199939</a>\n",
       "<div class=\"h\"><a target=\"_blank\" href=\"https://shebanq.ancient-data.org/hebrew/word?version=c&amp;id=1BNn\" title=\"show this lexeme in SHEBANQ\">בֶּן־</a></div>\n",
       "<div class=\"features\"> <span class=\"pdp\"><a href=\"https://shebanq.ancient-data.org/hebrew/text?book=Reges_II&amp;chapter=8&amp;verse=16&amp;version=c&amp;mr=m&amp;qw=q&amp;tp=txt_p&amp;tr=hb&amp;wget=v&amp;qget=v&amp;nget=vt\" title=\"2_Kings 8:16\" sec=\"2_Kings 8:16\">subs</a></span> <span class=\"gloss\">son</span> <span class=\"sp xft\"><span class=\"f\">sp=</span>subs</span> <span class=\"st xft\"><span class=\"f\">st=</span>c</span></div>\n",
       "\n",
       "\n",
       "</div>\n",
       "\n",
       "<div class=\"word  hl\"  style=\"background-color: pink;\" >\n",
       "<a href=\"#\" class=\"nd\">199940</a>\n",
       "<div class=\"h\"><a target=\"_blank\" href=\"https://shebanq.ancient-data.org/hebrew/word?version=c&amp;id=1AXABn\" title=\"show this lexeme in SHEBANQ\">אַחְאָב֙ </a></div>\n",
       "<div class=\"features\"> <span class=\"pdp\"><a href=\"https://shebanq.ancient-data.org/hebrew/text?book=Reges_II&amp;chapter=8&amp;verse=16&amp;version=c&amp;mr=m&amp;qw=q&amp;tp=txt_p&amp;tr=hb&amp;wget=v&amp;qget=v&amp;nget=vt\" title=\"2_Kings 8:16\" sec=\"2_Kings 8:16\">nmpr</a></span> <span class=\"gloss\">Ahab</span> <span class=\"sp xft\"><span class=\"f\">sp=</span>nmpr</span> <span class=\"st xft\"><span class=\"f\">st=</span>a</span></div>\n",
       "\n",
       "\n",
       "</div>\n",
       "\n",
       "\n",
       "    </div>\n",
       "\n",
       "\n",
       "</div>\n",
       "\n",
       "<div class=\"patom  r \" >\n",
       "\n",
       "    <div class=\"phrase \" >\n",
       "        <a href=\"https://shebanq.ancient-data.org/hebrew/text?book=Reges_II&amp;chapter=8&amp;verse=16&amp;version=c&amp;mr=m&amp;qw=q&amp;tp=txt_p&amp;tr=hb&amp;wget=v&amp;qget=v&amp;nget=vt\" title=\"2_Kings 8:16\" sec=\"2_Kings 8:16\">phrase</a> <a href=\"#\" class=\"nd\">767562</a>  <span class=\"function\">Time</span> <span class=\"typ\">PP|NP</span>\n",
       "    </div>\n",
       "    <div class=\"atoms\">\n",
       "\n",
       "<div class=\"word  \" >\n",
       "<a href=\"#\" class=\"nd\">199941</a>\n",
       "<div class=\"h\"><a target=\"_blank\" href=\"https://shebanq.ancient-data.org/hebrew/word?version=c&amp;id=1MLKn\" title=\"show this lexeme in SHEBANQ\">מֶ֣לֶךְ </a></div>\n",
       "<div class=\"features\"> <span class=\"pdp\"><a href=\"https://shebanq.ancient-data.org/hebrew/text?book=Reges_II&amp;chapter=8&amp;verse=16&amp;version=c&amp;mr=m&amp;qw=q&amp;tp=txt_p&amp;tr=hb&amp;wget=v&amp;qget=v&amp;nget=vt\" title=\"2_Kings 8:16\" sec=\"2_Kings 8:16\">subs</a></span> <span class=\"gloss\">king</span> <span class=\"sp xft\"><span class=\"f\">sp=</span>subs</span> <span class=\"st xft\"><span class=\"f\">st=</span>c</span></div>\n",
       "\n",
       "\n",
       "</div>\n",
       "\n",
       "<div class=\"word  \" >\n",
       "<a href=\"#\" class=\"nd\">199942</a>\n",
       "<div class=\"h\"><a target=\"_blank\" href=\"https://shebanq.ancient-data.org/hebrew/word?version=c&amp;id=1JFRALn\" title=\"show this lexeme in SHEBANQ\">יִשְׂרָאֵ֔ל </a></div>\n",
       "<div class=\"features\"> <span class=\"pdp\"><a href=\"https://shebanq.ancient-data.org/hebrew/text?book=Reges_II&amp;chapter=8&amp;verse=16&amp;version=c&amp;mr=m&amp;qw=q&amp;tp=txt_p&amp;tr=hb&amp;wget=v&amp;qget=v&amp;nget=vt\" title=\"2_Kings 8:16\" sec=\"2_Kings 8:16\">nmpr</a></span> <span class=\"gloss\">Israel</span> <span class=\"sp xft\"><span class=\"f\">sp=</span>nmpr</span> <span class=\"st xft\"><span class=\"f\">st=</span>a</span></div>\n",
       "\n",
       "\n",
       "</div>\n",
       "\n",
       "\n",
       "    </div>\n",
       "\n",
       "\n",
       "</div>\n",
       "\n",
       "\n",
       "</div>\n"
      ],
      "text/plain": [
       "<IPython.core.display.HTML object>"
      ]
     },
     "metadata": {},
     "output_type": "display_data"
    },
    {
     "data": {
      "text/html": [
       "<div style=\"background: pink; text-align: center\">geni</div>"
      ],
      "text/plain": [
       "<IPython.core.display.HTML object>"
      ]
     },
     "metadata": {},
     "output_type": "display_data"
    },
    {
     "data": {
      "text/html": [
       "<div style=\"background: lightblue; text-align: center\">head</div>"
      ],
      "text/plain": [
       "<IPython.core.display.HTML object>"
      ]
     },
     "metadata": {},
     "output_type": "display_data"
    },
    {
     "name": "stdout",
     "output_type": "stream",
     "text": [
      "{'__cx__': 'geni', 'geni': 199940, 'head': 199939}\n",
      "\n"
     ]
    },
    {
     "data": {
      "text/html": [
       "<hr>"
      ],
      "text/plain": [
       "<IPython.core.display.HTML object>"
      ]
     },
     "metadata": {},
     "output_type": "display_data"
    },
    {
     "data": {
      "text/html": [
       "<p><b>result</b> <i>CX geni {199941, 199942}</i></p>"
      ],
      "text/plain": [
       "<IPython.core.display.HTML object>"
      ]
     },
     "metadata": {},
     "output_type": "display_data"
    },
    {
     "data": {
      "text/html": [
       "<a href=\"https://shebanq.ancient-data.org/hebrew/text?book=Reges_II&amp;chapter=8&amp;verse=16&amp;version=c&amp;mr=m&amp;qw=q&amp;tp=txt_p&amp;tr=hb&amp;wget=v&amp;qget=v&amp;nget=vt\" title=\"show this passage in SHEBANQ\" sec=\"2_Kings 8:16\">2_Kings 8:16</a>\n",
       "<div class=\"atoms  \" >\n",
       "<a href=\"#\" class=\"nd\">767562</a>\n",
       "\n",
       "\n",
       "\n",
       "<div class=\"patom  l \" >\n",
       "\n",
       "    <div class=\"phrase \" >\n",
       "        <a href=\"https://shebanq.ancient-data.org/hebrew/text?book=Reges_II&amp;chapter=8&amp;verse=16&amp;version=c&amp;mr=m&amp;qw=q&amp;tp=txt_p&amp;tr=hb&amp;wget=v&amp;qget=v&amp;nget=vt\" title=\"2_Kings 8:16\" sec=\"2_Kings 8:16\">phrase</a> <a href=\"#\" class=\"nd\">767562</a>  <span class=\"function\">Time</span> <span class=\"typ\">PP</span>\n",
       "    </div>\n",
       "    <div class=\"atoms\">\n",
       "\n",
       "<div class=\"word  \" >\n",
       "<a href=\"#\" class=\"nd\">199934</a>\n",
       "<div class=\"h\"><a target=\"_blank\" href=\"https://shebanq.ancient-data.org/hebrew/word?version=c&amp;id=1B\" title=\"show this lexeme in SHEBANQ\">בִ</a></div>\n",
       "<div class=\"features\"> <span class=\"pdp\"><a href=\"https://shebanq.ancient-data.org/hebrew/text?book=Reges_II&amp;chapter=8&amp;verse=16&amp;version=c&amp;mr=m&amp;qw=q&amp;tp=txt_p&amp;tr=hb&amp;wget=v&amp;qget=v&amp;nget=vt\" title=\"2_Kings 8:16\" sec=\"2_Kings 8:16\">prep</a></span> <span class=\"gloss\">in</span> <span class=\"sp xft\"><span class=\"f\">sp=</span>prep</span></div>\n",
       "\n",
       "\n",
       "</div>\n",
       "\n",
       "<div class=\"word  \" >\n",
       "<a href=\"#\" class=\"nd\">199935</a>\n",
       "<div class=\"h\"><a target=\"_blank\" href=\"https://shebanq.ancient-data.org/hebrew/word?version=c&amp;id=1CNHn\" title=\"show this lexeme in SHEBANQ\">שְׁנַ֣ת </a></div>\n",
       "<div class=\"features\"> <span class=\"pdp\"><a href=\"https://shebanq.ancient-data.org/hebrew/text?book=Reges_II&amp;chapter=8&amp;verse=16&amp;version=c&amp;mr=m&amp;qw=q&amp;tp=txt_p&amp;tr=hb&amp;wget=v&amp;qget=v&amp;nget=vt\" title=\"2_Kings 8:16\" sec=\"2_Kings 8:16\">subs</a></span> <span class=\"gloss\">year</span> <span class=\"sp xft\"><span class=\"f\">sp=</span>subs</span> <span class=\"st xft\"><span class=\"f\">st=</span>c</span></div>\n",
       "\n",
       "\n",
       "</div>\n",
       "\n",
       "<div class=\"word  \" >\n",
       "<a href=\"#\" class=\"nd\">199936</a>\n",
       "<div class=\"h\"><a target=\"_blank\" href=\"https://shebanq.ancient-data.org/hebrew/word?version=c&amp;id=1XMCn\" title=\"show this lexeme in SHEBANQ\">חָמֵ֗שׁ </a></div>\n",
       "<div class=\"features\"> <span class=\"pdp\"><a href=\"https://shebanq.ancient-data.org/hebrew/text?book=Reges_II&amp;chapter=8&amp;verse=16&amp;version=c&amp;mr=m&amp;qw=q&amp;tp=txt_p&amp;tr=hb&amp;wget=v&amp;qget=v&amp;nget=vt\" title=\"2_Kings 8:16\" sec=\"2_Kings 8:16\">subs</a></span> <span class=\"gloss\">five</span> <span class=\"sp xft\"><span class=\"f\">sp=</span>subs</span> <span class=\"st xft\"><span class=\"f\">st=</span>a</span></div>\n",
       "\n",
       "\n",
       "</div>\n",
       "\n",
       "\n",
       "    </div>\n",
       "\n",
       "\n",
       "</div>\n",
       "\n",
       "<div class=\"patom  r l \" >\n",
       "\n",
       "    <div class=\"phrase \" >\n",
       "        <a href=\"https://shebanq.ancient-data.org/hebrew/text?book=Reges_II&amp;chapter=8&amp;verse=16&amp;version=c&amp;mr=m&amp;qw=q&amp;tp=txt_p&amp;tr=hb&amp;wget=v&amp;qget=v&amp;nget=vt\" title=\"2_Kings 8:16\" sec=\"2_Kings 8:16\">phrase</a> <a href=\"#\" class=\"nd\">767562</a>  <span class=\"function\">Time</span> <span class=\"typ\">PP</span>\n",
       "    </div>\n",
       "    <div class=\"atoms\">\n",
       "\n",
       "<div class=\"word  \" >\n",
       "<a href=\"#\" class=\"nd\">199937</a>\n",
       "<div class=\"h\"><a target=\"_blank\" href=\"https://shebanq.ancient-data.org/hebrew/word?version=c&amp;id=1L\" title=\"show this lexeme in SHEBANQ\">לְ</a></div>\n",
       "<div class=\"features\"> <span class=\"pdp\"><a href=\"https://shebanq.ancient-data.org/hebrew/text?book=Reges_II&amp;chapter=8&amp;verse=16&amp;version=c&amp;mr=m&amp;qw=q&amp;tp=txt_p&amp;tr=hb&amp;wget=v&amp;qget=v&amp;nget=vt\" title=\"2_Kings 8:16\" sec=\"2_Kings 8:16\">prep</a></span> <span class=\"gloss\">to</span> <span class=\"sp xft\"><span class=\"f\">sp=</span>prep</span></div>\n",
       "\n",
       "\n",
       "</div>\n",
       "\n",
       "<div class=\"word  \" >\n",
       "<a href=\"#\" class=\"nd\">199938</a>\n",
       "<div class=\"h\"><a target=\"_blank\" href=\"https://shebanq.ancient-data.org/hebrew/word?version=c&amp;id=1JWRMn\" title=\"show this lexeme in SHEBANQ\">יֹורָ֤ם </a></div>\n",
       "<div class=\"features\"> <span class=\"pdp\"><a href=\"https://shebanq.ancient-data.org/hebrew/text?book=Reges_II&amp;chapter=8&amp;verse=16&amp;version=c&amp;mr=m&amp;qw=q&amp;tp=txt_p&amp;tr=hb&amp;wget=v&amp;qget=v&amp;nget=vt\" title=\"2_Kings 8:16\" sec=\"2_Kings 8:16\">nmpr</a></span> <span class=\"gloss\">Joram</span> <span class=\"sp xft\"><span class=\"f\">sp=</span>nmpr</span> <span class=\"st xft\"><span class=\"f\">st=</span>a</span></div>\n",
       "\n",
       "\n",
       "</div>\n",
       "\n",
       "\n",
       "    </div>\n",
       "\n",
       "\n",
       "</div>\n",
       "\n",
       "<div class=\"patom  r l \" >\n",
       "\n",
       "    <div class=\"phrase \" >\n",
       "        <a href=\"https://shebanq.ancient-data.org/hebrew/text?book=Reges_II&amp;chapter=8&amp;verse=16&amp;version=c&amp;mr=m&amp;qw=q&amp;tp=txt_p&amp;tr=hb&amp;wget=v&amp;qget=v&amp;nget=vt\" title=\"2_Kings 8:16\" sec=\"2_Kings 8:16\">phrase</a> <a href=\"#\" class=\"nd\">767562</a>  <span class=\"function\">Time</span> <span class=\"typ\">PP|NP</span>\n",
       "    </div>\n",
       "    <div class=\"atoms\">\n",
       "\n",
       "<div class=\"word  \" >\n",
       "<a href=\"#\" class=\"nd\">199939</a>\n",
       "<div class=\"h\"><a target=\"_blank\" href=\"https://shebanq.ancient-data.org/hebrew/word?version=c&amp;id=1BNn\" title=\"show this lexeme in SHEBANQ\">בֶּן־</a></div>\n",
       "<div class=\"features\"> <span class=\"pdp\"><a href=\"https://shebanq.ancient-data.org/hebrew/text?book=Reges_II&amp;chapter=8&amp;verse=16&amp;version=c&amp;mr=m&amp;qw=q&amp;tp=txt_p&amp;tr=hb&amp;wget=v&amp;qget=v&amp;nget=vt\" title=\"2_Kings 8:16\" sec=\"2_Kings 8:16\">subs</a></span> <span class=\"gloss\">son</span> <span class=\"sp xft\"><span class=\"f\">sp=</span>subs</span> <span class=\"st xft\"><span class=\"f\">st=</span>c</span></div>\n",
       "\n",
       "\n",
       "</div>\n",
       "\n",
       "<div class=\"word  \" >\n",
       "<a href=\"#\" class=\"nd\">199940</a>\n",
       "<div class=\"h\"><a target=\"_blank\" href=\"https://shebanq.ancient-data.org/hebrew/word?version=c&amp;id=1AXABn\" title=\"show this lexeme in SHEBANQ\">אַחְאָב֙ </a></div>\n",
       "<div class=\"features\"> <span class=\"pdp\"><a href=\"https://shebanq.ancient-data.org/hebrew/text?book=Reges_II&amp;chapter=8&amp;verse=16&amp;version=c&amp;mr=m&amp;qw=q&amp;tp=txt_p&amp;tr=hb&amp;wget=v&amp;qget=v&amp;nget=vt\" title=\"2_Kings 8:16\" sec=\"2_Kings 8:16\">nmpr</a></span> <span class=\"gloss\">Ahab</span> <span class=\"sp xft\"><span class=\"f\">sp=</span>nmpr</span> <span class=\"st xft\"><span class=\"f\">st=</span>a</span></div>\n",
       "\n",
       "\n",
       "</div>\n",
       "\n",
       "\n",
       "    </div>\n",
       "\n",
       "\n",
       "</div>\n",
       "\n",
       "<div class=\"patom  r \" >\n",
       "\n",
       "    <div class=\"phrase \" >\n",
       "        <a href=\"https://shebanq.ancient-data.org/hebrew/text?book=Reges_II&amp;chapter=8&amp;verse=16&amp;version=c&amp;mr=m&amp;qw=q&amp;tp=txt_p&amp;tr=hb&amp;wget=v&amp;qget=v&amp;nget=vt\" title=\"2_Kings 8:16\" sec=\"2_Kings 8:16\">phrase</a> <a href=\"#\" class=\"nd\">767562</a>  <span class=\"function\">Time</span> <span class=\"typ\">PP|NP</span>\n",
       "    </div>\n",
       "    <div class=\"atoms\">\n",
       "\n",
       "<div class=\"word  hl\"  style=\"background-color: lightblue;\" >\n",
       "<a href=\"#\" class=\"nd\">199941</a>\n",
       "<div class=\"h\"><a target=\"_blank\" href=\"https://shebanq.ancient-data.org/hebrew/word?version=c&amp;id=1MLKn\" title=\"show this lexeme in SHEBANQ\">מֶ֣לֶךְ </a></div>\n",
       "<div class=\"features\"> <span class=\"pdp\"><a href=\"https://shebanq.ancient-data.org/hebrew/text?book=Reges_II&amp;chapter=8&amp;verse=16&amp;version=c&amp;mr=m&amp;qw=q&amp;tp=txt_p&amp;tr=hb&amp;wget=v&amp;qget=v&amp;nget=vt\" title=\"2_Kings 8:16\" sec=\"2_Kings 8:16\">subs</a></span> <span class=\"gloss\">king</span> <span class=\"sp xft\"><span class=\"f\">sp=</span>subs</span> <span class=\"st xft\"><span class=\"f\">st=</span>c</span></div>\n",
       "\n",
       "\n",
       "</div>\n",
       "\n",
       "<div class=\"word  hl\"  style=\"background-color: pink;\" >\n",
       "<a href=\"#\" class=\"nd\">199942</a>\n",
       "<div class=\"h\"><a target=\"_blank\" href=\"https://shebanq.ancient-data.org/hebrew/word?version=c&amp;id=1JFRALn\" title=\"show this lexeme in SHEBANQ\">יִשְׂרָאֵ֔ל </a></div>\n",
       "<div class=\"features\"> <span class=\"pdp\"><a href=\"https://shebanq.ancient-data.org/hebrew/text?book=Reges_II&amp;chapter=8&amp;verse=16&amp;version=c&amp;mr=m&amp;qw=q&amp;tp=txt_p&amp;tr=hb&amp;wget=v&amp;qget=v&amp;nget=vt\" title=\"2_Kings 8:16\" sec=\"2_Kings 8:16\">nmpr</a></span> <span class=\"gloss\">Israel</span> <span class=\"sp xft\"><span class=\"f\">sp=</span>nmpr</span> <span class=\"st xft\"><span class=\"f\">st=</span>a</span></div>\n",
       "\n",
       "\n",
       "</div>\n",
       "\n",
       "\n",
       "    </div>\n",
       "\n",
       "\n",
       "</div>\n",
       "\n",
       "\n",
       "</div>\n"
      ],
      "text/plain": [
       "<IPython.core.display.HTML object>"
      ]
     },
     "metadata": {},
     "output_type": "display_data"
    },
    {
     "data": {
      "text/html": [
       "<div style=\"background: pink; text-align: center\">geni</div>"
      ],
      "text/plain": [
       "<IPython.core.display.HTML object>"
      ]
     },
     "metadata": {},
     "output_type": "display_data"
    },
    {
     "data": {
      "text/html": [
       "<div style=\"background: lightblue; text-align: center\">head</div>"
      ],
      "text/plain": [
       "<IPython.core.display.HTML object>"
      ]
     },
     "metadata": {},
     "output_type": "display_data"
    },
    {
     "name": "stdout",
     "output_type": "stream",
     "text": [
      "{'__cx__': 'geni', 'geni': 199942, 'head': 199941}\n",
      "\n"
     ]
    },
    {
     "data": {
      "text/html": [
       "<hr>"
      ],
      "text/plain": [
       "<IPython.core.display.HTML object>"
      ]
     },
     "metadata": {},
     "output_type": "display_data"
    },
    {
     "name": "stdout",
     "output_type": "stream",
     "text": [
      "\n",
      "1449728\n"
     ]
    },
    {
     "data": {
      "text/html": [
       "<p><b>result</b> <i>CX prep {313529, 313530, 313531}</i></p>"
      ],
      "text/plain": [
       "<IPython.core.display.HTML object>"
      ]
     },
     "metadata": {},
     "output_type": "display_data"
    },
    {
     "data": {
      "text/html": [
       "<a href=\"https://shebanq.ancient-data.org/hebrew/text?book=Psalmi&amp;chapter=21&amp;verse=10&amp;version=c&amp;mr=m&amp;qw=q&amp;tp=txt_p&amp;tr=hb&amp;wget=v&amp;qget=v&amp;nget=vt\" title=\"show this passage in SHEBANQ\" sec=\"Psalms 21:10\">Psalms 21:10</a>\n",
       "<div class=\"atoms  \" >\n",
       "<a href=\"#\" class=\"nd\">837384</a>\n",
       "\n",
       "\n",
       "\n",
       "<div class=\"patom  \" >\n",
       "\n",
       "    <div class=\"phrase \" >\n",
       "        <a href=\"https://shebanq.ancient-data.org/hebrew/text?book=Psalmi&amp;chapter=21&amp;verse=10&amp;version=c&amp;mr=m&amp;qw=q&amp;tp=txt_p&amp;tr=hb&amp;wget=v&amp;qget=v&amp;nget=vt\" title=\"Psalms 21:10\" sec=\"Psalms 21:10\">phrase</a> <a href=\"#\" class=\"nd\">837384</a>  <span class=\"function\">Time</span> <span class=\"typ\">PP</span>\n",
       "    </div>\n",
       "    <div class=\"atoms\">\n",
       "\n",
       "<div class=\"word  hl\"  style=\"background-color: pink;\" >\n",
       "<a href=\"#\" class=\"nd\">313529</a>\n",
       "<div class=\"h\"><a target=\"_blank\" href=\"https://shebanq.ancient-data.org/hebrew/word?version=c&amp;id=1L\" title=\"show this lexeme in SHEBANQ\">לְ</a></div>\n",
       "<div class=\"features\"> <span class=\"pdp\"><a href=\"https://shebanq.ancient-data.org/hebrew/text?book=Psalmi&amp;chapter=21&amp;verse=10&amp;version=c&amp;mr=m&amp;qw=q&amp;tp=txt_p&amp;tr=hb&amp;wget=v&amp;qget=v&amp;nget=vt\" title=\"Psalms 21:10\" sec=\"Psalms 21:10\">prep</a></span> <span class=\"gloss\">to</span> <span class=\"sp xft\"><span class=\"f\">sp=</span>prep</span></div>\n",
       "\n",
       "\n",
       "</div>\n",
       "\n",
       "<div class=\"word  hl\"  style=\"background-color: lightblue;\" >\n",
       "<a href=\"#\" class=\"nd\">313530</a>\n",
       "<div class=\"h\"><a target=\"_blank\" href=\"https://shebanq.ancient-data.org/hebrew/word?version=c&amp;id=1OTn\" title=\"show this lexeme in SHEBANQ\">עֵ֪ת </a></div>\n",
       "<div class=\"features\"> <span class=\"pdp\"><a href=\"https://shebanq.ancient-data.org/hebrew/text?book=Psalmi&amp;chapter=21&amp;verse=10&amp;version=c&amp;mr=m&amp;qw=q&amp;tp=txt_p&amp;tr=hb&amp;wget=v&amp;qget=v&amp;nget=vt\" title=\"Psalms 21:10\" sec=\"Psalms 21:10\">subs</a></span> <span class=\"gloss\">time</span> <span class=\"sp xft\"><span class=\"f\">sp=</span>subs</span> <span class=\"st xft\"><span class=\"f\">st=</span>c</span></div>\n",
       "\n",
       "\n",
       "</div>\n",
       "\n",
       "<div class=\"word  hl\"  style=\"background-color: lightblue;\" >\n",
       "<a href=\"#\" class=\"nd\">313531</a>\n",
       "<div class=\"h\"><a target=\"_blank\" href=\"https://shebanq.ancient-data.org/hebrew/word?version=c&amp;id=1PNHn\" title=\"show this lexeme in SHEBANQ\">פָּ֫נֶ֥יךָ </a></div>\n",
       "<div class=\"features\"> <span class=\"pdp\"><a href=\"https://shebanq.ancient-data.org/hebrew/text?book=Psalmi&amp;chapter=21&amp;verse=10&amp;version=c&amp;mr=m&amp;qw=q&amp;tp=txt_p&amp;tr=hb&amp;wget=v&amp;qget=v&amp;nget=vt\" title=\"Psalms 21:10\" sec=\"Psalms 21:10\">subs</a></span> <span class=\"gloss\">face</span> <span class=\"sp xft\"><span class=\"f\">sp=</span>subs</span> <span class=\"st xft\"><span class=\"f\">st=</span>a</span></div>\n",
       "\n",
       "\n",
       "</div>\n",
       "\n",
       "\n",
       "    </div>\n",
       "\n",
       "\n",
       "</div>\n",
       "\n",
       "\n",
       "</div>\n"
      ],
      "text/plain": [
       "<IPython.core.display.HTML object>"
      ]
     },
     "metadata": {},
     "output_type": "display_data"
    },
    {
     "data": {
      "text/html": [
       "<div style=\"background: pink; text-align: center\">prep</div>"
      ],
      "text/plain": [
       "<IPython.core.display.HTML object>"
      ]
     },
     "metadata": {},
     "output_type": "display_data"
    },
    {
     "data": {
      "text/html": [
       "<div style=\"background: lightblue; text-align: center\">head</div>"
      ],
      "text/plain": [
       "<IPython.core.display.HTML object>"
      ]
     },
     "metadata": {},
     "output_type": "display_data"
    },
    {
     "name": "stdout",
     "output_type": "stream",
     "text": [
      "{   '__cx__': 'prep',\n",
      "    'head': {'__cx__': 'geni', 'geni': 313531, 'head': 313530},\n",
      "    'prep': 313529}\n",
      "\n"
     ]
    },
    {
     "data": {
      "text/html": [
       "<hr>"
      ],
      "text/plain": [
       "<IPython.core.display.HTML object>"
      ]
     },
     "metadata": {},
     "output_type": "display_data"
    },
    {
     "name": "stdout",
     "output_type": "stream",
     "text": [
      "\n",
      "1448296\n"
     ]
    },
    {
     "data": {
      "text/html": [
       "<p><b>result</b> <i>CX prep {151025, 151026, 151027}</i></p>"
      ],
      "text/plain": [
       "<IPython.core.display.HTML object>"
      ]
     },
     "metadata": {},
     "output_type": "display_data"
    },
    {
     "data": {
      "text/html": [
       "<a href=\"https://shebanq.ancient-data.org/hebrew/text?book=Samuel_I&amp;chapter=17&amp;verse=12&amp;version=c&amp;mr=m&amp;qw=q&amp;tp=txt_p&amp;tr=hb&amp;wget=v&amp;qget=v&amp;nget=vt\" title=\"show this passage in SHEBANQ\" sec=\"1_Samuel 17:12\">1_Samuel 17:12</a>\n",
       "<div class=\"atoms  \" >\n",
       "<a href=\"#\" class=\"nd\">737689</a>\n",
       "\n",
       "\n",
       "\n",
       "<div class=\"patom  \" >\n",
       "\n",
       "    <div class=\"phrase \" >\n",
       "        <a href=\"https://shebanq.ancient-data.org/hebrew/text?book=Samuel_I&amp;chapter=17&amp;verse=12&amp;version=c&amp;mr=m&amp;qw=q&amp;tp=txt_p&amp;tr=hb&amp;wget=v&amp;qget=v&amp;nget=vt\" title=\"1_Samuel 17:12\" sec=\"1_Samuel 17:12\">phrase</a> <a href=\"#\" class=\"nd\">737689</a>  <span class=\"function\">Time</span> <span class=\"typ\">PP</span>\n",
       "    </div>\n",
       "    <div class=\"atoms\">\n",
       "\n",
       "<div class=\"word  hl\"  style=\"background-color: pink;\" >\n",
       "<a href=\"#\" class=\"nd\">151025</a>\n",
       "<div class=\"h\"><a target=\"_blank\" href=\"https://shebanq.ancient-data.org/hebrew/word?version=c&amp;id=1B\" title=\"show this lexeme in SHEBANQ\">בִּ</a></div>\n",
       "<div class=\"features\"> <span class=\"pdp\"><a href=\"https://shebanq.ancient-data.org/hebrew/text?book=Samuel_I&amp;chapter=17&amp;verse=12&amp;version=c&amp;mr=m&amp;qw=q&amp;tp=txt_p&amp;tr=hb&amp;wget=v&amp;qget=v&amp;nget=vt\" title=\"1_Samuel 17:12\" sec=\"1_Samuel 17:12\">prep</a></span> <span class=\"gloss\">in</span> <span class=\"sp xft\"><span class=\"f\">sp=</span>prep</span></div>\n",
       "\n",
       "\n",
       "</div>\n",
       "\n",
       "<div class=\"word  hl\"  style=\"background-color: lightblue;\" >\n",
       "<a href=\"#\" class=\"nd\">151026</a>\n",
       "<div class=\"h\"><a target=\"_blank\" href=\"https://shebanq.ancient-data.org/hebrew/word?version=c&amp;id=1JWMn\" title=\"show this lexeme in SHEBANQ\">ימֵ֣י </a></div>\n",
       "<div class=\"features\"> <span class=\"pdp\"><a href=\"https://shebanq.ancient-data.org/hebrew/text?book=Samuel_I&amp;chapter=17&amp;verse=12&amp;version=c&amp;mr=m&amp;qw=q&amp;tp=txt_p&amp;tr=hb&amp;wget=v&amp;qget=v&amp;nget=vt\" title=\"1_Samuel 17:12\" sec=\"1_Samuel 17:12\">subs</a></span> <span class=\"gloss\">day</span> <span class=\"sp xft\"><span class=\"f\">sp=</span>subs</span> <span class=\"st xft\"><span class=\"f\">st=</span>c</span></div>\n",
       "\n",
       "\n",
       "</div>\n",
       "\n",
       "<div class=\"word  hl\"  style=\"background-color: lightblue;\" >\n",
       "<a href=\"#\" class=\"nd\">151027</a>\n",
       "<div class=\"h\"><a target=\"_blank\" href=\"https://shebanq.ancient-data.org/hebrew/word?version=c&amp;id=1CAWLin\" title=\"show this lexeme in SHEBANQ\">שָׁא֔וּל </a></div>\n",
       "<div class=\"features\"> <span class=\"pdp\"><a href=\"https://shebanq.ancient-data.org/hebrew/text?book=Samuel_I&amp;chapter=17&amp;verse=12&amp;version=c&amp;mr=m&amp;qw=q&amp;tp=txt_p&amp;tr=hb&amp;wget=v&amp;qget=v&amp;nget=vt\" title=\"1_Samuel 17:12\" sec=\"1_Samuel 17:12\">nmpr</a></span> <span class=\"gloss\">Saul</span> <span class=\"sp xft\"><span class=\"f\">sp=</span>nmpr</span> <span class=\"st xft\"><span class=\"f\">st=</span>a</span></div>\n",
       "\n",
       "\n",
       "</div>\n",
       "\n",
       "\n",
       "    </div>\n",
       "\n",
       "\n",
       "</div>\n",
       "\n",
       "\n",
       "</div>\n"
      ],
      "text/plain": [
       "<IPython.core.display.HTML object>"
      ]
     },
     "metadata": {},
     "output_type": "display_data"
    },
    {
     "data": {
      "text/html": [
       "<div style=\"background: pink; text-align: center\">prep</div>"
      ],
      "text/plain": [
       "<IPython.core.display.HTML object>"
      ]
     },
     "metadata": {},
     "output_type": "display_data"
    },
    {
     "data": {
      "text/html": [
       "<div style=\"background: lightblue; text-align: center\">head</div>"
      ],
      "text/plain": [
       "<IPython.core.display.HTML object>"
      ]
     },
     "metadata": {},
     "output_type": "display_data"
    },
    {
     "name": "stdout",
     "output_type": "stream",
     "text": [
      "{   '__cx__': 'prep',\n",
      "    'head': {'__cx__': 'geni', 'geni': 151027, 'head': 151026},\n",
      "    'prep': 151025}\n",
      "\n"
     ]
    },
    {
     "data": {
      "text/html": [
       "<hr>"
      ],
      "text/plain": [
       "<IPython.core.display.HTML object>"
      ]
     },
     "metadata": {},
     "output_type": "display_data"
    },
    {
     "name": "stdout",
     "output_type": "stream",
     "text": [
      "\n",
      "1448852\n"
     ]
    },
    {
     "data": {
      "text/html": [
       "<p><b>result</b> <i>CX numb {203653, 203654, 203655, 203656}</i></p>"
      ],
      "text/plain": [
       "<IPython.core.display.HTML object>"
      ]
     },
     "metadata": {},
     "output_type": "display_data"
    },
    {
     "data": {
      "text/html": [
       "<a href=\"https://shebanq.ancient-data.org/hebrew/text?book=Reges_II&amp;chapter=14&amp;verse=2&amp;version=c&amp;mr=m&amp;qw=q&amp;tp=txt_p&amp;tr=hb&amp;wget=v&amp;qget=v&amp;nget=vt\" title=\"show this passage in SHEBANQ\" sec=\"2_Kings 14:2\">2_Kings 14:2</a>\n",
       "<div class=\"atoms  \" >\n",
       "<a href=\"#\" class=\"nd\">769692</a>\n",
       "\n",
       "\n",
       "\n",
       "<div class=\"patom  \" >\n",
       "\n",
       "    <div class=\"phrase \" >\n",
       "        <a href=\"https://shebanq.ancient-data.org/hebrew/text?book=Reges_II&amp;chapter=14&amp;verse=2&amp;version=c&amp;mr=m&amp;qw=q&amp;tp=txt_p&amp;tr=hb&amp;wget=v&amp;qget=v&amp;nget=vt\" title=\"2_Kings 14:2\" sec=\"2_Kings 14:2\">phrase</a> <a href=\"#\" class=\"nd\">769692</a>  <span class=\"function\">Time</span> <span class=\"typ\">NP</span>\n",
       "    </div>\n",
       "    <div class=\"atoms\">\n",
       "\n",
       "<div class=\"word  hl\"  style=\"background-color: pink;\" >\n",
       "<a href=\"#\" class=\"nd\">203653</a>\n",
       "<div class=\"h\"><a target=\"_blank\" href=\"https://shebanq.ancient-data.org/hebrew/word?version=c&amp;id=1OFRJMn\" title=\"show this lexeme in SHEBANQ\">עֶשְׂרִ֤ים </a></div>\n",
       "<div class=\"features\"> <span class=\"pdp\"><a href=\"https://shebanq.ancient-data.org/hebrew/text?book=Reges_II&amp;chapter=14&amp;verse=2&amp;version=c&amp;mr=m&amp;qw=q&amp;tp=txt_p&amp;tr=hb&amp;wget=v&amp;qget=v&amp;nget=vt\" title=\"2_Kings 14:2\" sec=\"2_Kings 14:2\">subs</a></span> <span class=\"gloss\">twenty</span> <span class=\"sp xft\"><span class=\"f\">sp=</span>subs</span> <span class=\"st xft\"><span class=\"f\">st=</span>a</span></div>\n",
       "\n",
       "\n",
       "</div>\n",
       "\n",
       "<div class=\"word  hl\"  style=\"background-color: pink;\" >\n",
       "<a href=\"#\" class=\"nd\">203654</a>\n",
       "<div class=\"h\"><a target=\"_blank\" href=\"https://shebanq.ancient-data.org/hebrew/word?version=c&amp;id=1W\" title=\"show this lexeme in SHEBANQ\">וָ</a></div>\n",
       "<div class=\"features\"> <span class=\"pdp\"><a href=\"https://shebanq.ancient-data.org/hebrew/text?book=Reges_II&amp;chapter=14&amp;verse=2&amp;version=c&amp;mr=m&amp;qw=q&amp;tp=txt_p&amp;tr=hb&amp;wget=v&amp;qget=v&amp;nget=vt\" title=\"2_Kings 14:2\" sec=\"2_Kings 14:2\">conj</a></span> <span class=\"gloss\">and</span> <span class=\"sp xft\"><span class=\"f\">sp=</span>conj</span></div>\n",
       "\n",
       "\n",
       "</div>\n",
       "\n",
       "<div class=\"word  hl\"  style=\"background-color: pink;\" >\n",
       "<a href=\"#\" class=\"nd\">203655</a>\n",
       "<div class=\"h\"><a target=\"_blank\" href=\"https://shebanq.ancient-data.org/hebrew/word?version=c&amp;id=1TCOn\" title=\"show this lexeme in SHEBANQ\">תֵ֨שַׁע֙ </a></div>\n",
       "<div class=\"features\"> <span class=\"pdp\"><a href=\"https://shebanq.ancient-data.org/hebrew/text?book=Reges_II&amp;chapter=14&amp;verse=2&amp;version=c&amp;mr=m&amp;qw=q&amp;tp=txt_p&amp;tr=hb&amp;wget=v&amp;qget=v&amp;nget=vt\" title=\"2_Kings 14:2\" sec=\"2_Kings 14:2\">subs</a></span> <span class=\"gloss\">nine</span> <span class=\"sp xft\"><span class=\"f\">sp=</span>subs</span> <span class=\"st xft\"><span class=\"f\">st=</span>a</span></div>\n",
       "\n",
       "\n",
       "</div>\n",
       "\n",
       "<div class=\"word  hl\"  style=\"background-color: lightblue;\" >\n",
       "<a href=\"#\" class=\"nd\">203656</a>\n",
       "<div class=\"h\"><a target=\"_blank\" href=\"https://shebanq.ancient-data.org/hebrew/word?version=c&amp;id=1CNHn\" title=\"show this lexeme in SHEBANQ\">שָׁנָ֔ה </a></div>\n",
       "<div class=\"features\"> <span class=\"pdp\"><a href=\"https://shebanq.ancient-data.org/hebrew/text?book=Reges_II&amp;chapter=14&amp;verse=2&amp;version=c&amp;mr=m&amp;qw=q&amp;tp=txt_p&amp;tr=hb&amp;wget=v&amp;qget=v&amp;nget=vt\" title=\"2_Kings 14:2\" sec=\"2_Kings 14:2\">subs</a></span> <span class=\"gloss\">year</span> <span class=\"sp xft\"><span class=\"f\">sp=</span>subs</span> <span class=\"st xft\"><span class=\"f\">st=</span>a</span></div>\n",
       "\n",
       "\n",
       "</div>\n",
       "\n",
       "\n",
       "    </div>\n",
       "\n",
       "\n",
       "</div>\n",
       "\n",
       "\n",
       "</div>\n"
      ],
      "text/plain": [
       "<IPython.core.display.HTML object>"
      ]
     },
     "metadata": {},
     "output_type": "display_data"
    },
    {
     "data": {
      "text/html": [
       "<div style=\"background: pink; text-align: center\">numb</div>"
      ],
      "text/plain": [
       "<IPython.core.display.HTML object>"
      ]
     },
     "metadata": {},
     "output_type": "display_data"
    },
    {
     "data": {
      "text/html": [
       "<div style=\"background: lightblue; text-align: center\">head</div>"
      ],
      "text/plain": [
       "<IPython.core.display.HTML object>"
      ]
     },
     "metadata": {},
     "output_type": "display_data"
    },
    {
     "name": "stdout",
     "output_type": "stream",
     "text": [
      "{   '__cx__': 'numb',\n",
      "    'head': 203656,\n",
      "    'numb': {   '__cx__': 'card_chain',\n",
      "                'card': 203655,\n",
      "                'conj': 203654,\n",
      "                'head': 203653}}\n",
      "\n"
     ]
    },
    {
     "data": {
      "text/html": [
       "<hr>"
      ],
      "text/plain": [
       "<IPython.core.display.HTML object>"
      ]
     },
     "metadata": {},
     "output_type": "display_data"
    },
    {
     "name": "stdout",
     "output_type": "stream",
     "text": [
      "\n",
      "1450471\n"
     ]
    },
    {
     "data": {
      "text/html": [
       "<p><b>result</b> <i>CX prep {403409, 403410, 403411}</i></p>"
      ],
      "text/plain": [
       "<IPython.core.display.HTML object>"
      ]
     },
     "metadata": {},
     "output_type": "display_data"
    },
    {
     "data": {
      "text/html": [
       "<a href=\"https://shebanq.ancient-data.org/hebrew/text?book=Chronica_I&amp;chapter=23&amp;verse=30&amp;version=c&amp;mr=m&amp;qw=q&amp;tp=txt_p&amp;tr=hb&amp;wget=v&amp;qget=v&amp;nget=vt\" title=\"show this passage in SHEBANQ\" sec=\"1_Chronicles 23:30\">1_Chronicles 23:30</a>\n",
       "<div class=\"atoms  \" >\n",
       "<a href=\"#\" class=\"nd\">893242</a>\n",
       "\n",
       "\n",
       "\n",
       "<div class=\"patom  \" >\n",
       "\n",
       "    <div class=\"phrase \" >\n",
       "        <a href=\"https://shebanq.ancient-data.org/hebrew/text?book=Chronica_I&amp;chapter=23&amp;verse=30&amp;version=c&amp;mr=m&amp;qw=q&amp;tp=txt_p&amp;tr=hb&amp;wget=v&amp;qget=v&amp;nget=vt\" title=\"1_Chronicles 23:30\" sec=\"1_Chronicles 23:30\">phrase</a> <a href=\"#\" class=\"nd\">893242</a>  <span class=\"function\">Time</span> <span class=\"typ\">PP</span>\n",
       "    </div>\n",
       "    <div class=\"atoms\">\n",
       "\n",
       "<div class=\"word  hl\"  style=\"background-color: pink;\" >\n",
       "<a href=\"#\" class=\"nd\">403409</a>\n",
       "<div class=\"h\"><a target=\"_blank\" href=\"https://shebanq.ancient-data.org/hebrew/word?version=c&amp;id=1L\" title=\"show this lexeme in SHEBANQ\">לָ</a></div>\n",
       "<div class=\"features\"> <span class=\"pdp\"><a href=\"https://shebanq.ancient-data.org/hebrew/text?book=Chronica_I&amp;chapter=23&amp;verse=30&amp;version=c&amp;mr=m&amp;qw=q&amp;tp=txt_p&amp;tr=hb&amp;wget=v&amp;qget=v&amp;nget=vt\" title=\"1_Chronicles 23:30\" sec=\"1_Chronicles 23:30\">prep</a></span> <span class=\"gloss\">to</span> <span class=\"sp xft\"><span class=\"f\">sp=</span>prep</span></div>\n",
       "\n",
       "\n",
       "</div>\n",
       "\n",
       "<div class=\"word  hl\"  style=\"background-color: lightblue;\" >\n",
       "<a href=\"#\" class=\"nd\">403410</a>\n",
       "<div class=\"h\"><a target=\"_blank\" href=\"https://shebanq.ancient-data.org/hebrew/word?version=c&amp;id=1H\" title=\"show this lexeme in SHEBANQ\"></a></div>\n",
       "<div class=\"features\"> <span class=\"pdp\"><a href=\"https://shebanq.ancient-data.org/hebrew/text?book=Chronica_I&amp;chapter=23&amp;verse=30&amp;version=c&amp;mr=m&amp;qw=q&amp;tp=txt_p&amp;tr=hb&amp;wget=v&amp;qget=v&amp;nget=vt\" title=\"1_Chronicles 23:30\" sec=\"1_Chronicles 23:30\">art</a></span> <span class=\"gloss\">the</span> <span class=\"sp xft\"><span class=\"f\">sp=</span>art</span></div>\n",
       "\n",
       "\n",
       "</div>\n",
       "\n",
       "<div class=\"word  hl\"  style=\"background-color: lightblue;\" >\n",
       "<a href=\"#\" class=\"nd\">403411</a>\n",
       "<div class=\"h\"><a target=\"_blank\" href=\"https://shebanq.ancient-data.org/hebrew/word?version=c&amp;id=1ORBn\" title=\"show this lexeme in SHEBANQ\">עָֽרֶב׃ </a></div>\n",
       "<div class=\"features\"> <span class=\"pdp\"><a href=\"https://shebanq.ancient-data.org/hebrew/text?book=Chronica_I&amp;chapter=23&amp;verse=30&amp;version=c&amp;mr=m&amp;qw=q&amp;tp=txt_p&amp;tr=hb&amp;wget=v&amp;qget=v&amp;nget=vt\" title=\"1_Chronicles 23:30\" sec=\"1_Chronicles 23:30\">subs</a></span> <span class=\"gloss\">evening</span> <span class=\"sp xft\"><span class=\"f\">sp=</span>subs</span> <span class=\"st xft\"><span class=\"f\">st=</span>a</span></div>\n",
       "\n",
       "\n",
       "</div>\n",
       "\n",
       "\n",
       "    </div>\n",
       "\n",
       "\n",
       "</div>\n",
       "\n",
       "\n",
       "</div>\n"
      ],
      "text/plain": [
       "<IPython.core.display.HTML object>"
      ]
     },
     "metadata": {},
     "output_type": "display_data"
    },
    {
     "data": {
      "text/html": [
       "<div style=\"background: pink; text-align: center\">prep</div>"
      ],
      "text/plain": [
       "<IPython.core.display.HTML object>"
      ]
     },
     "metadata": {},
     "output_type": "display_data"
    },
    {
     "data": {
      "text/html": [
       "<div style=\"background: lightblue; text-align: center\">head</div>"
      ],
      "text/plain": [
       "<IPython.core.display.HTML object>"
      ]
     },
     "metadata": {},
     "output_type": "display_data"
    },
    {
     "name": "stdout",
     "output_type": "stream",
     "text": [
      "{   '__cx__': 'prep',\n",
      "    'head': {'__cx__': 'defi', 'defi': 403410, 'head': 403411},\n",
      "    'prep': 403409}\n",
      "\n"
     ]
    },
    {
     "data": {
      "text/html": [
       "<hr>"
      ],
      "text/plain": [
       "<IPython.core.display.HTML object>"
      ]
     },
     "metadata": {},
     "output_type": "display_data"
    },
    {
     "name": "stdout",
     "output_type": "stream",
     "text": [
      "\n",
      "1447900\n"
     ]
    },
    {
     "data": {
      "text/html": [
       "<p><b>result</b> <i>CX prep {116242, 116243, 116244}</i></p>"
      ],
      "text/plain": [
       "<IPython.core.display.HTML object>"
      ]
     },
     "metadata": {},
     "output_type": "display_data"
    },
    {
     "data": {
      "text/html": [
       "<a href=\"https://shebanq.ancient-data.org/hebrew/text?book=Josua&amp;chapter=7&amp;verse=6&amp;version=c&amp;mr=m&amp;qw=q&amp;tp=txt_p&amp;tr=hb&amp;wget=v&amp;qget=v&amp;nget=vt\" title=\"show this passage in SHEBANQ\" sec=\"Joshua 7:6\">Joshua 7:6</a>\n",
       "<div class=\"atoms  \" >\n",
       "<a href=\"#\" class=\"nd\">717564</a>\n",
       "\n",
       "\n",
       "\n",
       "<div class=\"patom  \" >\n",
       "\n",
       "    <div class=\"phrase \" >\n",
       "        <a href=\"https://shebanq.ancient-data.org/hebrew/text?book=Josua&amp;chapter=7&amp;verse=6&amp;version=c&amp;mr=m&amp;qw=q&amp;tp=txt_p&amp;tr=hb&amp;wget=v&amp;qget=v&amp;nget=vt\" title=\"Joshua 7:6\" sec=\"Joshua 7:6\">phrase</a> <a href=\"#\" class=\"nd\">717564</a>  <span class=\"function\">Time</span> <span class=\"typ\">PP</span>\n",
       "    </div>\n",
       "    <div class=\"atoms\">\n",
       "\n",
       "<div class=\"word  hl\"  style=\"background-color: pink;\" >\n",
       "<a href=\"#\" class=\"nd\">116242</a>\n",
       "<div class=\"h\"><a target=\"_blank\" href=\"https://shebanq.ancient-data.org/hebrew/word?version=c&amp;id=1OD\" title=\"show this lexeme in SHEBANQ\">עַד־</a></div>\n",
       "<div class=\"features\"> <span class=\"pdp\"><a href=\"https://shebanq.ancient-data.org/hebrew/text?book=Josua&amp;chapter=7&amp;verse=6&amp;version=c&amp;mr=m&amp;qw=q&amp;tp=txt_p&amp;tr=hb&amp;wget=v&amp;qget=v&amp;nget=vt\" title=\"Joshua 7:6\" sec=\"Joshua 7:6\">prep</a></span> <span class=\"gloss\">unto</span> <span class=\"sp xft\"><span class=\"f\">sp=</span>prep</span></div>\n",
       "\n",
       "\n",
       "</div>\n",
       "\n",
       "<div class=\"word  hl\"  style=\"background-color: lightblue;\" >\n",
       "<a href=\"#\" class=\"nd\">116243</a>\n",
       "<div class=\"h\"><a target=\"_blank\" href=\"https://shebanq.ancient-data.org/hebrew/word?version=c&amp;id=1H\" title=\"show this lexeme in SHEBANQ\">הָ</a></div>\n",
       "<div class=\"features\"> <span class=\"pdp\"><a href=\"https://shebanq.ancient-data.org/hebrew/text?book=Josua&amp;chapter=7&amp;verse=6&amp;version=c&amp;mr=m&amp;qw=q&amp;tp=txt_p&amp;tr=hb&amp;wget=v&amp;qget=v&amp;nget=vt\" title=\"Joshua 7:6\" sec=\"Joshua 7:6\">art</a></span> <span class=\"gloss\">the</span> <span class=\"sp xft\"><span class=\"f\">sp=</span>art</span></div>\n",
       "\n",
       "\n",
       "</div>\n",
       "\n",
       "<div class=\"word  hl\"  style=\"background-color: lightblue;\" >\n",
       "<a href=\"#\" class=\"nd\">116244</a>\n",
       "<div class=\"h\"><a target=\"_blank\" href=\"https://shebanq.ancient-data.org/hebrew/word?version=c&amp;id=1ORBn\" title=\"show this lexeme in SHEBANQ\">עֶ֔רֶב </a></div>\n",
       "<div class=\"features\"> <span class=\"pdp\"><a href=\"https://shebanq.ancient-data.org/hebrew/text?book=Josua&amp;chapter=7&amp;verse=6&amp;version=c&amp;mr=m&amp;qw=q&amp;tp=txt_p&amp;tr=hb&amp;wget=v&amp;qget=v&amp;nget=vt\" title=\"Joshua 7:6\" sec=\"Joshua 7:6\">subs</a></span> <span class=\"gloss\">evening</span> <span class=\"sp xft\"><span class=\"f\">sp=</span>subs</span> <span class=\"st xft\"><span class=\"f\">st=</span>a</span></div>\n",
       "\n",
       "\n",
       "</div>\n",
       "\n",
       "\n",
       "    </div>\n",
       "\n",
       "\n",
       "</div>\n",
       "\n",
       "\n",
       "</div>\n"
      ],
      "text/plain": [
       "<IPython.core.display.HTML object>"
      ]
     },
     "metadata": {},
     "output_type": "display_data"
    },
    {
     "data": {
      "text/html": [
       "<div style=\"background: pink; text-align: center\">prep</div>"
      ],
      "text/plain": [
       "<IPython.core.display.HTML object>"
      ]
     },
     "metadata": {},
     "output_type": "display_data"
    },
    {
     "data": {
      "text/html": [
       "<div style=\"background: lightblue; text-align: center\">head</div>"
      ],
      "text/plain": [
       "<IPython.core.display.HTML object>"
      ]
     },
     "metadata": {},
     "output_type": "display_data"
    },
    {
     "name": "stdout",
     "output_type": "stream",
     "text": [
      "{   '__cx__': 'prep',\n",
      "    'head': {'__cx__': 'defi', 'defi': 116243, 'head': 116244},\n",
      "    'prep': 116242}\n",
      "\n"
     ]
    },
    {
     "data": {
      "text/html": [
       "<hr>"
      ],
      "text/plain": [
       "<IPython.core.display.HTML object>"
      ]
     },
     "metadata": {},
     "output_type": "display_data"
    },
    {
     "name": "stdout",
     "output_type": "stream",
     "text": [
      "\n",
      "1448997\n"
     ]
    },
    {
     "data": {
      "text/html": [
       "<p><b>result</b> <i>CX prep {218419, 218420, 218421, 218422, 218423}</i></p>"
      ],
      "text/plain": [
       "<IPython.core.display.HTML object>"
      ]
     },
     "metadata": {},
     "output_type": "display_data"
    },
    {
     "data": {
      "text/html": [
       "<a href=\"https://shebanq.ancient-data.org/hebrew/text?book=Jesaia&amp;chapter=19&amp;verse=18&amp;version=c&amp;mr=m&amp;qw=q&amp;tp=txt_p&amp;tr=hb&amp;wget=v&amp;qget=v&amp;nget=vt\" title=\"show this passage in SHEBANQ\" sec=\"Isaiah 19:18\">Isaiah 19:18</a>\n",
       "<div class=\"atoms  \" >\n",
       "<a href=\"#\" class=\"nd\">778004</a>\n",
       "\n",
       "\n",
       "\n",
       "<div class=\"patom  \" >\n",
       "\n",
       "    <div class=\"phrase \" >\n",
       "        <a href=\"https://shebanq.ancient-data.org/hebrew/text?book=Jesaia&amp;chapter=19&amp;verse=18&amp;version=c&amp;mr=m&amp;qw=q&amp;tp=txt_p&amp;tr=hb&amp;wget=v&amp;qget=v&amp;nget=vt\" title=\"Isaiah 19:18\" sec=\"Isaiah 19:18\">phrase</a> <a href=\"#\" class=\"nd\">778004</a>  <span class=\"function\">Time</span> <span class=\"typ\">PP</span>\n",
       "    </div>\n",
       "    <div class=\"atoms\">\n",
       "\n",
       "<div class=\"word  hl\"  style=\"background-color: pink;\" >\n",
       "<a href=\"#\" class=\"nd\">218419</a>\n",
       "<div class=\"h\"><a target=\"_blank\" href=\"https://shebanq.ancient-data.org/hebrew/word?version=c&amp;id=1B\" title=\"show this lexeme in SHEBANQ\">בַּ</a></div>\n",
       "<div class=\"features\"> <span class=\"pdp\"><a href=\"https://shebanq.ancient-data.org/hebrew/text?book=Jesaia&amp;chapter=19&amp;verse=18&amp;version=c&amp;mr=m&amp;qw=q&amp;tp=txt_p&amp;tr=hb&amp;wget=v&amp;qget=v&amp;nget=vt\" title=\"Isaiah 19:18\" sec=\"Isaiah 19:18\">prep</a></span> <span class=\"gloss\">in</span> <span class=\"sp xft\"><span class=\"f\">sp=</span>prep</span></div>\n",
       "\n",
       "\n",
       "</div>\n",
       "\n",
       "<div class=\"word  hl\"  style=\"background-color: lightblue;\" >\n",
       "<a href=\"#\" class=\"nd\">218420</a>\n",
       "<div class=\"h\"><a target=\"_blank\" href=\"https://shebanq.ancient-data.org/hebrew/word?version=c&amp;id=1H\" title=\"show this lexeme in SHEBANQ\"></a></div>\n",
       "<div class=\"features\"> <span class=\"pdp\"><a href=\"https://shebanq.ancient-data.org/hebrew/text?book=Jesaia&amp;chapter=19&amp;verse=18&amp;version=c&amp;mr=m&amp;qw=q&amp;tp=txt_p&amp;tr=hb&amp;wget=v&amp;qget=v&amp;nget=vt\" title=\"Isaiah 19:18\" sec=\"Isaiah 19:18\">art</a></span> <span class=\"gloss\">the</span> <span class=\"sp xft\"><span class=\"f\">sp=</span>art</span></div>\n",
       "\n",
       "\n",
       "</div>\n",
       "\n",
       "<div class=\"word  hl\"  style=\"background-color: lightblue;\" >\n",
       "<a href=\"#\" class=\"nd\">218421</a>\n",
       "<div class=\"h\"><a target=\"_blank\" href=\"https://shebanq.ancient-data.org/hebrew/word?version=c&amp;id=1JWMn\" title=\"show this lexeme in SHEBANQ\">יֹּ֣ום </a></div>\n",
       "<div class=\"features\"> <span class=\"pdp\"><a href=\"https://shebanq.ancient-data.org/hebrew/text?book=Jesaia&amp;chapter=19&amp;verse=18&amp;version=c&amp;mr=m&amp;qw=q&amp;tp=txt_p&amp;tr=hb&amp;wget=v&amp;qget=v&amp;nget=vt\" title=\"Isaiah 19:18\" sec=\"Isaiah 19:18\">subs</a></span> <span class=\"gloss\">day</span> <span class=\"sp xft\"><span class=\"f\">sp=</span>subs</span> <span class=\"st xft\"><span class=\"f\">st=</span>a</span></div>\n",
       "\n",
       "\n",
       "</div>\n",
       "\n",
       "<div class=\"word  hl\"  style=\"background-color: lightblue;\" >\n",
       "<a href=\"#\" class=\"nd\">218422</a>\n",
       "<div class=\"h\"><a target=\"_blank\" href=\"https://shebanq.ancient-data.org/hebrew/word?version=c&amp;id=1H\" title=\"show this lexeme in SHEBANQ\">הַ</a></div>\n",
       "<div class=\"features\"> <span class=\"pdp\"><a href=\"https://shebanq.ancient-data.org/hebrew/text?book=Jesaia&amp;chapter=19&amp;verse=18&amp;version=c&amp;mr=m&amp;qw=q&amp;tp=txt_p&amp;tr=hb&amp;wget=v&amp;qget=v&amp;nget=vt\" title=\"Isaiah 19:18\" sec=\"Isaiah 19:18\">art</a></span> <span class=\"gloss\">the</span> <span class=\"sp xft\"><span class=\"f\">sp=</span>art</span></div>\n",
       "\n",
       "\n",
       "</div>\n",
       "\n",
       "<div class=\"word  hl\"  style=\"background-color: lightblue;\" >\n",
       "<a href=\"#\" class=\"nd\">218423</a>\n",
       "<div class=\"h\"><a target=\"_blank\" href=\"https://shebanq.ancient-data.org/hebrew/word?version=c&amp;id=1HWA\" title=\"show this lexeme in SHEBANQ\">ה֡וּא </a></div>\n",
       "<div class=\"features\"> <span class=\"pdp\"><a href=\"https://shebanq.ancient-data.org/hebrew/text?book=Jesaia&amp;chapter=19&amp;verse=18&amp;version=c&amp;mr=m&amp;qw=q&amp;tp=txt_p&amp;tr=hb&amp;wget=v&amp;qget=v&amp;nget=vt\" title=\"Isaiah 19:18\" sec=\"Isaiah 19:18\">prde</a></span> <span class=\"gloss\">he</span> <span class=\"sp xft\"><span class=\"f\">sp=</span>prps</span></div>\n",
       "\n",
       "\n",
       "</div>\n",
       "\n",
       "\n",
       "    </div>\n",
       "\n",
       "\n",
       "</div>\n",
       "\n",
       "\n",
       "</div>\n"
      ],
      "text/plain": [
       "<IPython.core.display.HTML object>"
      ]
     },
     "metadata": {},
     "output_type": "display_data"
    },
    {
     "data": {
      "text/html": [
       "<div style=\"background: pink; text-align: center\">prep</div>"
      ],
      "text/plain": [
       "<IPython.core.display.HTML object>"
      ]
     },
     "metadata": {},
     "output_type": "display_data"
    },
    {
     "data": {
      "text/html": [
       "<div style=\"background: lightblue; text-align: center\">head</div>"
      ],
      "text/plain": [
       "<IPython.core.display.HTML object>"
      ]
     },
     "metadata": {},
     "output_type": "display_data"
    },
    {
     "name": "stdout",
     "output_type": "stream",
     "text": [
      "{   '__cx__': 'prep',\n",
      "    'head': {   '__cx__': 'attrib',\n",
      "                'attrib': {'__cx__': 'defi', 'defi': 218422, 'head': 218423},\n",
      "                'head': {'__cx__': 'defi', 'defi': 218420, 'head': 218421}},\n",
      "    'prep': 218419}\n",
      "\n"
     ]
    },
    {
     "data": {
      "text/html": [
       "<hr>"
      ],
      "text/plain": [
       "<IPython.core.display.HTML object>"
      ]
     },
     "metadata": {},
     "output_type": "display_data"
    },
    {
     "name": "stdout",
     "output_type": "stream",
     "text": [
      "\n",
      "1447373\n"
     ]
    },
    {
     "data": {
      "text/html": [
       "<p><b>result</b> <i>CX prep {61672, 61673, 61671}</i></p>"
      ],
      "text/plain": [
       "<IPython.core.display.HTML object>"
      ]
     },
     "metadata": {},
     "output_type": "display_data"
    },
    {
     "data": {
      "text/html": [
       "<a href=\"https://shebanq.ancient-data.org/hebrew/text?book=Leviticus&amp;chapter=15&amp;verse=10&amp;version=c&amp;mr=m&amp;qw=q&amp;tp=txt_p&amp;tr=hb&amp;wget=v&amp;qget=v&amp;nget=vt\" title=\"show this passage in SHEBANQ\" sec=\"Leviticus 15:10\">Leviticus 15:10</a>\n",
       "<div class=\"atoms  \" >\n",
       "<a href=\"#\" class=\"nd\">687595</a>\n",
       "\n",
       "\n",
       "\n",
       "<div class=\"patom  \" >\n",
       "\n",
       "    <div class=\"phrase \" >\n",
       "        <a href=\"https://shebanq.ancient-data.org/hebrew/text?book=Leviticus&amp;chapter=15&amp;verse=10&amp;version=c&amp;mr=m&amp;qw=q&amp;tp=txt_p&amp;tr=hb&amp;wget=v&amp;qget=v&amp;nget=vt\" title=\"Leviticus 15:10\" sec=\"Leviticus 15:10\">phrase</a> <a href=\"#\" class=\"nd\">687595</a>  <span class=\"function\">Time</span> <span class=\"typ\">PP</span>\n",
       "    </div>\n",
       "    <div class=\"atoms\">\n",
       "\n",
       "<div class=\"word  hl\"  style=\"background-color: pink;\" >\n",
       "<a href=\"#\" class=\"nd\">61671</a>\n",
       "<div class=\"h\"><a target=\"_blank\" href=\"https://shebanq.ancient-data.org/hebrew/word?version=c&amp;id=1OD\" title=\"show this lexeme in SHEBANQ\">עַד־</a></div>\n",
       "<div class=\"features\"> <span class=\"pdp\"><a href=\"https://shebanq.ancient-data.org/hebrew/text?book=Leviticus&amp;chapter=15&amp;verse=10&amp;version=c&amp;mr=m&amp;qw=q&amp;tp=txt_p&amp;tr=hb&amp;wget=v&amp;qget=v&amp;nget=vt\" title=\"Leviticus 15:10\" sec=\"Leviticus 15:10\">prep</a></span> <span class=\"gloss\">unto</span> <span class=\"sp xft\"><span class=\"f\">sp=</span>prep</span></div>\n",
       "\n",
       "\n",
       "</div>\n",
       "\n",
       "<div class=\"word  hl\"  style=\"background-color: lightblue;\" >\n",
       "<a href=\"#\" class=\"nd\">61672</a>\n",
       "<div class=\"h\"><a target=\"_blank\" href=\"https://shebanq.ancient-data.org/hebrew/word?version=c&amp;id=1H\" title=\"show this lexeme in SHEBANQ\">הָ</a></div>\n",
       "<div class=\"features\"> <span class=\"pdp\"><a href=\"https://shebanq.ancient-data.org/hebrew/text?book=Leviticus&amp;chapter=15&amp;verse=10&amp;version=c&amp;mr=m&amp;qw=q&amp;tp=txt_p&amp;tr=hb&amp;wget=v&amp;qget=v&amp;nget=vt\" title=\"Leviticus 15:10\" sec=\"Leviticus 15:10\">art</a></span> <span class=\"gloss\">the</span> <span class=\"sp xft\"><span class=\"f\">sp=</span>art</span></div>\n",
       "\n",
       "\n",
       "</div>\n",
       "\n",
       "<div class=\"word  hl\"  style=\"background-color: lightblue;\" >\n",
       "<a href=\"#\" class=\"nd\">61673</a>\n",
       "<div class=\"h\"><a target=\"_blank\" href=\"https://shebanq.ancient-data.org/hebrew/word?version=c&amp;id=1ORBn\" title=\"show this lexeme in SHEBANQ\">עָ֑רֶב </a></div>\n",
       "<div class=\"features\"> <span class=\"pdp\"><a href=\"https://shebanq.ancient-data.org/hebrew/text?book=Leviticus&amp;chapter=15&amp;verse=10&amp;version=c&amp;mr=m&amp;qw=q&amp;tp=txt_p&amp;tr=hb&amp;wget=v&amp;qget=v&amp;nget=vt\" title=\"Leviticus 15:10\" sec=\"Leviticus 15:10\">subs</a></span> <span class=\"gloss\">evening</span> <span class=\"sp xft\"><span class=\"f\">sp=</span>subs</span> <span class=\"st xft\"><span class=\"f\">st=</span>a</span></div>\n",
       "\n",
       "\n",
       "</div>\n",
       "\n",
       "\n",
       "    </div>\n",
       "\n",
       "\n",
       "</div>\n",
       "\n",
       "\n",
       "</div>\n"
      ],
      "text/plain": [
       "<IPython.core.display.HTML object>"
      ]
     },
     "metadata": {},
     "output_type": "display_data"
    },
    {
     "data": {
      "text/html": [
       "<div style=\"background: pink; text-align: center\">prep</div>"
      ],
      "text/plain": [
       "<IPython.core.display.HTML object>"
      ]
     },
     "metadata": {},
     "output_type": "display_data"
    },
    {
     "data": {
      "text/html": [
       "<div style=\"background: lightblue; text-align: center\">head</div>"
      ],
      "text/plain": [
       "<IPython.core.display.HTML object>"
      ]
     },
     "metadata": {},
     "output_type": "display_data"
    },
    {
     "name": "stdout",
     "output_type": "stream",
     "text": [
      "{   '__cx__': 'prep',\n",
      "    'head': {'__cx__': 'defi', 'defi': 61672, 'head': 61673},\n",
      "    'prep': 61671}\n",
      "\n"
     ]
    },
    {
     "data": {
      "text/html": [
       "<hr>"
      ],
      "text/plain": [
       "<IPython.core.display.HTML object>"
      ]
     },
     "metadata": {},
     "output_type": "display_data"
    },
    {
     "name": "stdout",
     "output_type": "stream",
     "text": [
      "\n",
      "1447222\n"
     ]
    },
    {
     "data": {
      "text/html": [
       "<p><b>result</b> <i>CX prep {39280, 39276, 39277, 39278, 39279}</i></p>"
      ],
      "text/plain": [
       "<IPython.core.display.HTML object>"
      ]
     },
     "metadata": {},
     "output_type": "display_data"
    },
    {
     "data": {
      "text/html": [
       "<a href=\"https://shebanq.ancient-data.org/hebrew/text?book=Exodus&amp;chapter=19&amp;verse=11&amp;version=c&amp;mr=m&amp;qw=q&amp;tp=txt_p&amp;tr=hb&amp;wget=v&amp;qget=v&amp;nget=vt\" title=\"show this passage in SHEBANQ\" sec=\"Exodus 19:11\">Exodus 19:11</a>\n",
       "<div class=\"atoms  \" >\n",
       "<a href=\"#\" class=\"nd\">675869</a>\n",
       "\n",
       "\n",
       "\n",
       "<div class=\"patom  \" >\n",
       "\n",
       "    <div class=\"phrase \" >\n",
       "        <a href=\"https://shebanq.ancient-data.org/hebrew/text?book=Exodus&amp;chapter=19&amp;verse=11&amp;version=c&amp;mr=m&amp;qw=q&amp;tp=txt_p&amp;tr=hb&amp;wget=v&amp;qget=v&amp;nget=vt\" title=\"Exodus 19:11\" sec=\"Exodus 19:11\">phrase</a> <a href=\"#\" class=\"nd\">675869</a>  <span class=\"function\">Time</span> <span class=\"typ\">PP</span>\n",
       "    </div>\n",
       "    <div class=\"atoms\">\n",
       "\n",
       "<div class=\"word  hl\"  style=\"background-color: pink;\" >\n",
       "<a href=\"#\" class=\"nd\">39276</a>\n",
       "<div class=\"h\"><a target=\"_blank\" href=\"https://shebanq.ancient-data.org/hebrew/word?version=c&amp;id=1L\" title=\"show this lexeme in SHEBANQ\">לַ</a></div>\n",
       "<div class=\"features\"> <span class=\"pdp\"><a href=\"https://shebanq.ancient-data.org/hebrew/text?book=Exodus&amp;chapter=19&amp;verse=11&amp;version=c&amp;mr=m&amp;qw=q&amp;tp=txt_p&amp;tr=hb&amp;wget=v&amp;qget=v&amp;nget=vt\" title=\"Exodus 19:11\" sec=\"Exodus 19:11\">prep</a></span> <span class=\"gloss\">to</span> <span class=\"sp xft\"><span class=\"f\">sp=</span>prep</span></div>\n",
       "\n",
       "\n",
       "</div>\n",
       "\n",
       "<div class=\"word  hl\"  style=\"background-color: lightblue;\" >\n",
       "<a href=\"#\" class=\"nd\">39277</a>\n",
       "<div class=\"h\"><a target=\"_blank\" href=\"https://shebanq.ancient-data.org/hebrew/word?version=c&amp;id=1H\" title=\"show this lexeme in SHEBANQ\"></a></div>\n",
       "<div class=\"features\"> <span class=\"pdp\"><a href=\"https://shebanq.ancient-data.org/hebrew/text?book=Exodus&amp;chapter=19&amp;verse=11&amp;version=c&amp;mr=m&amp;qw=q&amp;tp=txt_p&amp;tr=hb&amp;wget=v&amp;qget=v&amp;nget=vt\" title=\"Exodus 19:11\" sec=\"Exodus 19:11\">art</a></span> <span class=\"gloss\">the</span> <span class=\"sp xft\"><span class=\"f\">sp=</span>art</span></div>\n",
       "\n",
       "\n",
       "</div>\n",
       "\n",
       "<div class=\"word  hl\"  style=\"background-color: lightblue;\" >\n",
       "<a href=\"#\" class=\"nd\">39278</a>\n",
       "<div class=\"h\"><a target=\"_blank\" href=\"https://shebanq.ancient-data.org/hebrew/word?version=c&amp;id=1JWMn\" title=\"show this lexeme in SHEBANQ\">יֹּ֣ום </a></div>\n",
       "<div class=\"features\"> <span class=\"pdp\"><a href=\"https://shebanq.ancient-data.org/hebrew/text?book=Exodus&amp;chapter=19&amp;verse=11&amp;version=c&amp;mr=m&amp;qw=q&amp;tp=txt_p&amp;tr=hb&amp;wget=v&amp;qget=v&amp;nget=vt\" title=\"Exodus 19:11\" sec=\"Exodus 19:11\">subs</a></span> <span class=\"gloss\">day</span> <span class=\"sp xft\"><span class=\"f\">sp=</span>subs</span> <span class=\"st xft\"><span class=\"f\">st=</span>a</span></div>\n",
       "\n",
       "\n",
       "</div>\n",
       "\n",
       "<div class=\"word  hl\"  style=\"background-color: lightblue;\" >\n",
       "<a href=\"#\" class=\"nd\">39279</a>\n",
       "<div class=\"h\"><a target=\"_blank\" href=\"https://shebanq.ancient-data.org/hebrew/word?version=c&amp;id=1H\" title=\"show this lexeme in SHEBANQ\">הַ</a></div>\n",
       "<div class=\"features\"> <span class=\"pdp\"><a href=\"https://shebanq.ancient-data.org/hebrew/text?book=Exodus&amp;chapter=19&amp;verse=11&amp;version=c&amp;mr=m&amp;qw=q&amp;tp=txt_p&amp;tr=hb&amp;wget=v&amp;qget=v&amp;nget=vt\" title=\"Exodus 19:11\" sec=\"Exodus 19:11\">art</a></span> <span class=\"gloss\">the</span> <span class=\"sp xft\"><span class=\"f\">sp=</span>art</span></div>\n",
       "\n",
       "\n",
       "</div>\n",
       "\n",
       "<div class=\"word  hl\"  style=\"background-color: lightblue;\" >\n",
       "<a href=\"#\" class=\"nd\">39280</a>\n",
       "<div class=\"h\"><a target=\"_blank\" href=\"https://shebanq.ancient-data.org/hebrew/word?version=c&amp;id=1CLJCJn\" title=\"show this lexeme in SHEBANQ\">שְּׁלִישִׁ֑י </a></div>\n",
       "<div class=\"features\"> <span class=\"pdp\"><a href=\"https://shebanq.ancient-data.org/hebrew/text?book=Exodus&amp;chapter=19&amp;verse=11&amp;version=c&amp;mr=m&amp;qw=q&amp;tp=txt_p&amp;tr=hb&amp;wget=v&amp;qget=v&amp;nget=vt\" title=\"Exodus 19:11\" sec=\"Exodus 19:11\">adjv</a></span> <span class=\"gloss\">third</span> <span class=\"sp xft\"><span class=\"f\">sp=</span>adjv</span> <span class=\"st xft\"><span class=\"f\">st=</span>a</span></div>\n",
       "\n",
       "\n",
       "</div>\n",
       "\n",
       "\n",
       "    </div>\n",
       "\n",
       "\n",
       "</div>\n",
       "\n",
       "\n",
       "</div>\n"
      ],
      "text/plain": [
       "<IPython.core.display.HTML object>"
      ]
     },
     "metadata": {},
     "output_type": "display_data"
    },
    {
     "data": {
      "text/html": [
       "<div style=\"background: pink; text-align: center\">prep</div>"
      ],
      "text/plain": [
       "<IPython.core.display.HTML object>"
      ]
     },
     "metadata": {},
     "output_type": "display_data"
    },
    {
     "data": {
      "text/html": [
       "<div style=\"background: lightblue; text-align: center\">head</div>"
      ],
      "text/plain": [
       "<IPython.core.display.HTML object>"
      ]
     },
     "metadata": {},
     "output_type": "display_data"
    },
    {
     "name": "stdout",
     "output_type": "stream",
     "text": [
      "{   '__cx__': 'prep',\n",
      "    'head': {   '__cx__': 'attrib',\n",
      "                'attrib': {'__cx__': 'defi', 'defi': 39279, 'head': 39280},\n",
      "                'head': {'__cx__': 'defi', 'defi': 39277, 'head': 39278}},\n",
      "    'prep': 39276}\n",
      "\n"
     ]
    },
    {
     "data": {
      "text/html": [
       "<hr>"
      ],
      "text/plain": [
       "<IPython.core.display.HTML object>"
      ]
     },
     "metadata": {},
     "output_type": "display_data"
    },
    {
     "name": "stdout",
     "output_type": "stream",
     "text": [
      "\n",
      "1449266\n"
     ]
    },
    {
     "data": {
      "text/html": [
       "<p><b>result</b> <i>CX prep {249466, 249467, 249468, 249469, 249470}</i></p>"
      ],
      "text/plain": [
       "<IPython.core.display.HTML object>"
      ]
     },
     "metadata": {},
     "output_type": "display_data"
    },
    {
     "data": {
      "text/html": [
       "<a href=\"https://shebanq.ancient-data.org/hebrew/text?book=Jeremia&amp;chapter=28&amp;verse=17&amp;version=c&amp;mr=m&amp;qw=q&amp;tp=txt_p&amp;tr=hb&amp;wget=v&amp;qget=v&amp;nget=vt\" title=\"show this passage in SHEBANQ\" sec=\"Jeremiah 28:17\">Jeremiah 28:17</a>\n",
       "<div class=\"atoms  \" >\n",
       "<a href=\"#\" class=\"nd\">798128</a>\n",
       "\n",
       "\n",
       "\n",
       "<div class=\"patom  l \" >\n",
       "\n",
       "    <div class=\"phrase \" >\n",
       "        <a href=\"https://shebanq.ancient-data.org/hebrew/text?book=Jeremia&amp;chapter=28&amp;verse=17&amp;version=c&amp;mr=m&amp;qw=q&amp;tp=txt_p&amp;tr=hb&amp;wget=v&amp;qget=v&amp;nget=vt\" title=\"Jeremiah 28:17\" sec=\"Jeremiah 28:17\">phrase</a> <a href=\"#\" class=\"nd\">798128</a>  <span class=\"function\">Time</span> <span class=\"typ\">PP</span>\n",
       "    </div>\n",
       "    <div class=\"atoms\">\n",
       "\n",
       "<div class=\"word  hl\"  style=\"background-color: pink;\" >\n",
       "<a href=\"#\" class=\"nd\">249466</a>\n",
       "<div class=\"h\"><a target=\"_blank\" href=\"https://shebanq.ancient-data.org/hebrew/word?version=c&amp;id=1B\" title=\"show this lexeme in SHEBANQ\">בַּ</a></div>\n",
       "<div class=\"features\"> <span class=\"pdp\"><a href=\"https://shebanq.ancient-data.org/hebrew/text?book=Jeremia&amp;chapter=28&amp;verse=17&amp;version=c&amp;mr=m&amp;qw=q&amp;tp=txt_p&amp;tr=hb&amp;wget=v&amp;qget=v&amp;nget=vt\" title=\"Jeremiah 28:17\" sec=\"Jeremiah 28:17\">prep</a></span> <span class=\"gloss\">in</span> <span class=\"sp xft\"><span class=\"f\">sp=</span>prep</span></div>\n",
       "\n",
       "\n",
       "</div>\n",
       "\n",
       "<div class=\"word  hl\"  style=\"background-color: lightblue;\" >\n",
       "<a href=\"#\" class=\"nd\">249467</a>\n",
       "<div class=\"h\"><a target=\"_blank\" href=\"https://shebanq.ancient-data.org/hebrew/word?version=c&amp;id=1H\" title=\"show this lexeme in SHEBANQ\"></a></div>\n",
       "<div class=\"features\"> <span class=\"pdp\"><a href=\"https://shebanq.ancient-data.org/hebrew/text?book=Jeremia&amp;chapter=28&amp;verse=17&amp;version=c&amp;mr=m&amp;qw=q&amp;tp=txt_p&amp;tr=hb&amp;wget=v&amp;qget=v&amp;nget=vt\" title=\"Jeremiah 28:17\" sec=\"Jeremiah 28:17\">art</a></span> <span class=\"gloss\">the</span> <span class=\"sp xft\"><span class=\"f\">sp=</span>art</span></div>\n",
       "\n",
       "\n",
       "</div>\n",
       "\n",
       "<div class=\"word  hl\"  style=\"background-color: lightblue;\" >\n",
       "<a href=\"#\" class=\"nd\">249468</a>\n",
       "<div class=\"h\"><a target=\"_blank\" href=\"https://shebanq.ancient-data.org/hebrew/word?version=c&amp;id=1CNHn\" title=\"show this lexeme in SHEBANQ\">שָּׁנָ֣ה </a></div>\n",
       "<div class=\"features\"> <span class=\"pdp\"><a href=\"https://shebanq.ancient-data.org/hebrew/text?book=Jeremia&amp;chapter=28&amp;verse=17&amp;version=c&amp;mr=m&amp;qw=q&amp;tp=txt_p&amp;tr=hb&amp;wget=v&amp;qget=v&amp;nget=vt\" title=\"Jeremiah 28:17\" sec=\"Jeremiah 28:17\">subs</a></span> <span class=\"gloss\">year</span> <span class=\"sp xft\"><span class=\"f\">sp=</span>subs</span> <span class=\"st xft\"><span class=\"f\">st=</span>a</span></div>\n",
       "\n",
       "\n",
       "</div>\n",
       "\n",
       "<div class=\"word  hl\"  style=\"background-color: lightblue;\" >\n",
       "<a href=\"#\" class=\"nd\">249469</a>\n",
       "<div class=\"h\"><a target=\"_blank\" href=\"https://shebanq.ancient-data.org/hebrew/word?version=c&amp;id=1H\" title=\"show this lexeme in SHEBANQ\">הַ</a></div>\n",
       "<div class=\"features\"> <span class=\"pdp\"><a href=\"https://shebanq.ancient-data.org/hebrew/text?book=Jeremia&amp;chapter=28&amp;verse=17&amp;version=c&amp;mr=m&amp;qw=q&amp;tp=txt_p&amp;tr=hb&amp;wget=v&amp;qget=v&amp;nget=vt\" title=\"Jeremiah 28:17\" sec=\"Jeremiah 28:17\">art</a></span> <span class=\"gloss\">the</span> <span class=\"sp xft\"><span class=\"f\">sp=</span>art</span></div>\n",
       "\n",
       "\n",
       "</div>\n",
       "\n",
       "<div class=\"word  hl\"  style=\"background-color: lightblue;\" >\n",
       "<a href=\"#\" class=\"nd\">249470</a>\n",
       "<div class=\"h\"><a target=\"_blank\" href=\"https://shebanq.ancient-data.org/hebrew/word?version=c&amp;id=1HJA\" title=\"show this lexeme in SHEBANQ\">הִ֑יא </a></div>\n",
       "<div class=\"features\"> <span class=\"pdp\"><a href=\"https://shebanq.ancient-data.org/hebrew/text?book=Jeremia&amp;chapter=28&amp;verse=17&amp;version=c&amp;mr=m&amp;qw=q&amp;tp=txt_p&amp;tr=hb&amp;wget=v&amp;qget=v&amp;nget=vt\" title=\"Jeremiah 28:17\" sec=\"Jeremiah 28:17\">prde</a></span> <span class=\"gloss\">she</span> <span class=\"sp xft\"><span class=\"f\">sp=</span>prps</span></div>\n",
       "\n",
       "\n",
       "</div>\n",
       "\n",
       "\n",
       "    </div>\n",
       "\n",
       "\n",
       "</div>\n",
       "\n",
       "<div class=\"patom  r \" >\n",
       "\n",
       "    <div class=\"phrase \" >\n",
       "        <a href=\"https://shebanq.ancient-data.org/hebrew/text?book=Jeremia&amp;chapter=28&amp;verse=17&amp;version=c&amp;mr=m&amp;qw=q&amp;tp=txt_p&amp;tr=hb&amp;wget=v&amp;qget=v&amp;nget=vt\" title=\"Jeremiah 28:17\" sec=\"Jeremiah 28:17\">phrase</a> <a href=\"#\" class=\"nd\">798128</a>  <span class=\"function\">Time</span> <span class=\"typ\">PP</span>\n",
       "    </div>\n",
       "    <div class=\"atoms\">\n",
       "\n",
       "<div class=\"word  \" >\n",
       "<a href=\"#\" class=\"nd\">249471</a>\n",
       "<div class=\"h\"><a target=\"_blank\" href=\"https://shebanq.ancient-data.org/hebrew/word?version=c&amp;id=1B\" title=\"show this lexeme in SHEBANQ\">בַּ</a></div>\n",
       "<div class=\"features\"> <span class=\"pdp\"><a href=\"https://shebanq.ancient-data.org/hebrew/text?book=Jeremia&amp;chapter=28&amp;verse=17&amp;version=c&amp;mr=m&amp;qw=q&amp;tp=txt_p&amp;tr=hb&amp;wget=v&amp;qget=v&amp;nget=vt\" title=\"Jeremiah 28:17\" sec=\"Jeremiah 28:17\">prep</a></span> <span class=\"gloss\">in</span> <span class=\"sp xft\"><span class=\"f\">sp=</span>prep</span></div>\n",
       "\n",
       "\n",
       "</div>\n",
       "\n",
       "<div class=\"word  \" >\n",
       "<a href=\"#\" class=\"nd\">249472</a>\n",
       "<div class=\"h\"><a target=\"_blank\" href=\"https://shebanq.ancient-data.org/hebrew/word?version=c&amp;id=1H\" title=\"show this lexeme in SHEBANQ\"></a></div>\n",
       "<div class=\"features\"> <span class=\"pdp\"><a href=\"https://shebanq.ancient-data.org/hebrew/text?book=Jeremia&amp;chapter=28&amp;verse=17&amp;version=c&amp;mr=m&amp;qw=q&amp;tp=txt_p&amp;tr=hb&amp;wget=v&amp;qget=v&amp;nget=vt\" title=\"Jeremiah 28:17\" sec=\"Jeremiah 28:17\">art</a></span> <span class=\"gloss\">the</span> <span class=\"sp xft\"><span class=\"f\">sp=</span>art</span></div>\n",
       "\n",
       "\n",
       "</div>\n",
       "\n",
       "<div class=\"word  \" >\n",
       "<a href=\"#\" class=\"nd\">249473</a>\n",
       "<div class=\"h\"><a target=\"_blank\" href=\"https://shebanq.ancient-data.org/hebrew/word?version=c&amp;id=1XDCin\" title=\"show this lexeme in SHEBANQ\">חֹ֖דֶשׁ </a></div>\n",
       "<div class=\"features\"> <span class=\"pdp\"><a href=\"https://shebanq.ancient-data.org/hebrew/text?book=Jeremia&amp;chapter=28&amp;verse=17&amp;version=c&amp;mr=m&amp;qw=q&amp;tp=txt_p&amp;tr=hb&amp;wget=v&amp;qget=v&amp;nget=vt\" title=\"Jeremiah 28:17\" sec=\"Jeremiah 28:17\">subs</a></span> <span class=\"gloss\">month</span> <span class=\"sp xft\"><span class=\"f\">sp=</span>subs</span> <span class=\"st xft\"><span class=\"f\">st=</span>a</span></div>\n",
       "\n",
       "\n",
       "</div>\n",
       "\n",
       "<div class=\"word  \" >\n",
       "<a href=\"#\" class=\"nd\">249474</a>\n",
       "<div class=\"h\"><a target=\"_blank\" href=\"https://shebanq.ancient-data.org/hebrew/word?version=c&amp;id=1H\" title=\"show this lexeme in SHEBANQ\">הַ</a></div>\n",
       "<div class=\"features\"> <span class=\"pdp\"><a href=\"https://shebanq.ancient-data.org/hebrew/text?book=Jeremia&amp;chapter=28&amp;verse=17&amp;version=c&amp;mr=m&amp;qw=q&amp;tp=txt_p&amp;tr=hb&amp;wget=v&amp;qget=v&amp;nget=vt\" title=\"Jeremiah 28:17\" sec=\"Jeremiah 28:17\">art</a></span> <span class=\"gloss\">the</span> <span class=\"sp xft\"><span class=\"f\">sp=</span>art</span></div>\n",
       "\n",
       "\n",
       "</div>\n",
       "\n",
       "<div class=\"word  \" >\n",
       "<a href=\"#\" class=\"nd\">249475</a>\n",
       "<div class=\"h\"><a target=\"_blank\" href=\"https://shebanq.ancient-data.org/hebrew/word?version=c&amp;id=1CBJOJn\" title=\"show this lexeme in SHEBANQ\">שְּׁבִיעִֽי׃ פ </a></div>\n",
       "<div class=\"features\"> <span class=\"pdp\"><a href=\"https://shebanq.ancient-data.org/hebrew/text?book=Jeremia&amp;chapter=28&amp;verse=17&amp;version=c&amp;mr=m&amp;qw=q&amp;tp=txt_p&amp;tr=hb&amp;wget=v&amp;qget=v&amp;nget=vt\" title=\"Jeremiah 28:17\" sec=\"Jeremiah 28:17\">adjv</a></span> <span class=\"gloss\">seventh</span> <span class=\"sp xft\"><span class=\"f\">sp=</span>adjv</span> <span class=\"st xft\"><span class=\"f\">st=</span>a</span></div>\n",
       "\n",
       "\n",
       "</div>\n",
       "\n",
       "\n",
       "    </div>\n",
       "\n",
       "\n",
       "</div>\n",
       "\n",
       "\n",
       "</div>\n"
      ],
      "text/plain": [
       "<IPython.core.display.HTML object>"
      ]
     },
     "metadata": {},
     "output_type": "display_data"
    },
    {
     "data": {
      "text/html": [
       "<div style=\"background: pink; text-align: center\">prep</div>"
      ],
      "text/plain": [
       "<IPython.core.display.HTML object>"
      ]
     },
     "metadata": {},
     "output_type": "display_data"
    },
    {
     "data": {
      "text/html": [
       "<div style=\"background: lightblue; text-align: center\">head</div>"
      ],
      "text/plain": [
       "<IPython.core.display.HTML object>"
      ]
     },
     "metadata": {},
     "output_type": "display_data"
    },
    {
     "name": "stdout",
     "output_type": "stream",
     "text": [
      "{   '__cx__': 'prep',\n",
      "    'head': {   '__cx__': 'attrib',\n",
      "                'attrib': {'__cx__': 'defi', 'defi': 249469, 'head': 249470},\n",
      "                'head': {'__cx__': 'defi', 'defi': 249467, 'head': 249468}},\n",
      "    'prep': 249466}\n",
      "\n"
     ]
    },
    {
     "data": {
      "text/html": [
       "<hr>"
      ],
      "text/plain": [
       "<IPython.core.display.HTML object>"
      ]
     },
     "metadata": {},
     "output_type": "display_data"
    },
    {
     "data": {
      "text/html": [
       "<p><b>result</b> <i>CX prep {249472, 249473, 249474, 249475, 249471}</i></p>"
      ],
      "text/plain": [
       "<IPython.core.display.HTML object>"
      ]
     },
     "metadata": {},
     "output_type": "display_data"
    },
    {
     "data": {
      "text/html": [
       "<a href=\"https://shebanq.ancient-data.org/hebrew/text?book=Jeremia&amp;chapter=28&amp;verse=17&amp;version=c&amp;mr=m&amp;qw=q&amp;tp=txt_p&amp;tr=hb&amp;wget=v&amp;qget=v&amp;nget=vt\" title=\"show this passage in SHEBANQ\" sec=\"Jeremiah 28:17\">Jeremiah 28:17</a>\n",
       "<div class=\"atoms  \" >\n",
       "<a href=\"#\" class=\"nd\">798128</a>\n",
       "\n",
       "\n",
       "\n",
       "<div class=\"patom  l \" >\n",
       "\n",
       "    <div class=\"phrase \" >\n",
       "        <a href=\"https://shebanq.ancient-data.org/hebrew/text?book=Jeremia&amp;chapter=28&amp;verse=17&amp;version=c&amp;mr=m&amp;qw=q&amp;tp=txt_p&amp;tr=hb&amp;wget=v&amp;qget=v&amp;nget=vt\" title=\"Jeremiah 28:17\" sec=\"Jeremiah 28:17\">phrase</a> <a href=\"#\" class=\"nd\">798128</a>  <span class=\"function\">Time</span> <span class=\"typ\">PP</span>\n",
       "    </div>\n",
       "    <div class=\"atoms\">\n",
       "\n",
       "<div class=\"word  \" >\n",
       "<a href=\"#\" class=\"nd\">249466</a>\n",
       "<div class=\"h\"><a target=\"_blank\" href=\"https://shebanq.ancient-data.org/hebrew/word?version=c&amp;id=1B\" title=\"show this lexeme in SHEBANQ\">בַּ</a></div>\n",
       "<div class=\"features\"> <span class=\"pdp\"><a href=\"https://shebanq.ancient-data.org/hebrew/text?book=Jeremia&amp;chapter=28&amp;verse=17&amp;version=c&amp;mr=m&amp;qw=q&amp;tp=txt_p&amp;tr=hb&amp;wget=v&amp;qget=v&amp;nget=vt\" title=\"Jeremiah 28:17\" sec=\"Jeremiah 28:17\">prep</a></span> <span class=\"gloss\">in</span> <span class=\"sp xft\"><span class=\"f\">sp=</span>prep</span></div>\n",
       "\n",
       "\n",
       "</div>\n",
       "\n",
       "<div class=\"word  \" >\n",
       "<a href=\"#\" class=\"nd\">249467</a>\n",
       "<div class=\"h\"><a target=\"_blank\" href=\"https://shebanq.ancient-data.org/hebrew/word?version=c&amp;id=1H\" title=\"show this lexeme in SHEBANQ\"></a></div>\n",
       "<div class=\"features\"> <span class=\"pdp\"><a href=\"https://shebanq.ancient-data.org/hebrew/text?book=Jeremia&amp;chapter=28&amp;verse=17&amp;version=c&amp;mr=m&amp;qw=q&amp;tp=txt_p&amp;tr=hb&amp;wget=v&amp;qget=v&amp;nget=vt\" title=\"Jeremiah 28:17\" sec=\"Jeremiah 28:17\">art</a></span> <span class=\"gloss\">the</span> <span class=\"sp xft\"><span class=\"f\">sp=</span>art</span></div>\n",
       "\n",
       "\n",
       "</div>\n",
       "\n",
       "<div class=\"word  \" >\n",
       "<a href=\"#\" class=\"nd\">249468</a>\n",
       "<div class=\"h\"><a target=\"_blank\" href=\"https://shebanq.ancient-data.org/hebrew/word?version=c&amp;id=1CNHn\" title=\"show this lexeme in SHEBANQ\">שָּׁנָ֣ה </a></div>\n",
       "<div class=\"features\"> <span class=\"pdp\"><a href=\"https://shebanq.ancient-data.org/hebrew/text?book=Jeremia&amp;chapter=28&amp;verse=17&amp;version=c&amp;mr=m&amp;qw=q&amp;tp=txt_p&amp;tr=hb&amp;wget=v&amp;qget=v&amp;nget=vt\" title=\"Jeremiah 28:17\" sec=\"Jeremiah 28:17\">subs</a></span> <span class=\"gloss\">year</span> <span class=\"sp xft\"><span class=\"f\">sp=</span>subs</span> <span class=\"st xft\"><span class=\"f\">st=</span>a</span></div>\n",
       "\n",
       "\n",
       "</div>\n",
       "\n",
       "<div class=\"word  \" >\n",
       "<a href=\"#\" class=\"nd\">249469</a>\n",
       "<div class=\"h\"><a target=\"_blank\" href=\"https://shebanq.ancient-data.org/hebrew/word?version=c&amp;id=1H\" title=\"show this lexeme in SHEBANQ\">הַ</a></div>\n",
       "<div class=\"features\"> <span class=\"pdp\"><a href=\"https://shebanq.ancient-data.org/hebrew/text?book=Jeremia&amp;chapter=28&amp;verse=17&amp;version=c&amp;mr=m&amp;qw=q&amp;tp=txt_p&amp;tr=hb&amp;wget=v&amp;qget=v&amp;nget=vt\" title=\"Jeremiah 28:17\" sec=\"Jeremiah 28:17\">art</a></span> <span class=\"gloss\">the</span> <span class=\"sp xft\"><span class=\"f\">sp=</span>art</span></div>\n",
       "\n",
       "\n",
       "</div>\n",
       "\n",
       "<div class=\"word  \" >\n",
       "<a href=\"#\" class=\"nd\">249470</a>\n",
       "<div class=\"h\"><a target=\"_blank\" href=\"https://shebanq.ancient-data.org/hebrew/word?version=c&amp;id=1HJA\" title=\"show this lexeme in SHEBANQ\">הִ֑יא </a></div>\n",
       "<div class=\"features\"> <span class=\"pdp\"><a href=\"https://shebanq.ancient-data.org/hebrew/text?book=Jeremia&amp;chapter=28&amp;verse=17&amp;version=c&amp;mr=m&amp;qw=q&amp;tp=txt_p&amp;tr=hb&amp;wget=v&amp;qget=v&amp;nget=vt\" title=\"Jeremiah 28:17\" sec=\"Jeremiah 28:17\">prde</a></span> <span class=\"gloss\">she</span> <span class=\"sp xft\"><span class=\"f\">sp=</span>prps</span></div>\n",
       "\n",
       "\n",
       "</div>\n",
       "\n",
       "\n",
       "    </div>\n",
       "\n",
       "\n",
       "</div>\n",
       "\n",
       "<div class=\"patom  r \" >\n",
       "\n",
       "    <div class=\"phrase \" >\n",
       "        <a href=\"https://shebanq.ancient-data.org/hebrew/text?book=Jeremia&amp;chapter=28&amp;verse=17&amp;version=c&amp;mr=m&amp;qw=q&amp;tp=txt_p&amp;tr=hb&amp;wget=v&amp;qget=v&amp;nget=vt\" title=\"Jeremiah 28:17\" sec=\"Jeremiah 28:17\">phrase</a> <a href=\"#\" class=\"nd\">798128</a>  <span class=\"function\">Time</span> <span class=\"typ\">PP</span>\n",
       "    </div>\n",
       "    <div class=\"atoms\">\n",
       "\n",
       "<div class=\"word  hl\"  style=\"background-color: pink;\" >\n",
       "<a href=\"#\" class=\"nd\">249471</a>\n",
       "<div class=\"h\"><a target=\"_blank\" href=\"https://shebanq.ancient-data.org/hebrew/word?version=c&amp;id=1B\" title=\"show this lexeme in SHEBANQ\">בַּ</a></div>\n",
       "<div class=\"features\"> <span class=\"pdp\"><a href=\"https://shebanq.ancient-data.org/hebrew/text?book=Jeremia&amp;chapter=28&amp;verse=17&amp;version=c&amp;mr=m&amp;qw=q&amp;tp=txt_p&amp;tr=hb&amp;wget=v&amp;qget=v&amp;nget=vt\" title=\"Jeremiah 28:17\" sec=\"Jeremiah 28:17\">prep</a></span> <span class=\"gloss\">in</span> <span class=\"sp xft\"><span class=\"f\">sp=</span>prep</span></div>\n",
       "\n",
       "\n",
       "</div>\n",
       "\n",
       "<div class=\"word  hl\"  style=\"background-color: lightblue;\" >\n",
       "<a href=\"#\" class=\"nd\">249472</a>\n",
       "<div class=\"h\"><a target=\"_blank\" href=\"https://shebanq.ancient-data.org/hebrew/word?version=c&amp;id=1H\" title=\"show this lexeme in SHEBANQ\"></a></div>\n",
       "<div class=\"features\"> <span class=\"pdp\"><a href=\"https://shebanq.ancient-data.org/hebrew/text?book=Jeremia&amp;chapter=28&amp;verse=17&amp;version=c&amp;mr=m&amp;qw=q&amp;tp=txt_p&amp;tr=hb&amp;wget=v&amp;qget=v&amp;nget=vt\" title=\"Jeremiah 28:17\" sec=\"Jeremiah 28:17\">art</a></span> <span class=\"gloss\">the</span> <span class=\"sp xft\"><span class=\"f\">sp=</span>art</span></div>\n",
       "\n",
       "\n",
       "</div>\n",
       "\n",
       "<div class=\"word  hl\"  style=\"background-color: lightblue;\" >\n",
       "<a href=\"#\" class=\"nd\">249473</a>\n",
       "<div class=\"h\"><a target=\"_blank\" href=\"https://shebanq.ancient-data.org/hebrew/word?version=c&amp;id=1XDCin\" title=\"show this lexeme in SHEBANQ\">חֹ֖דֶשׁ </a></div>\n",
       "<div class=\"features\"> <span class=\"pdp\"><a href=\"https://shebanq.ancient-data.org/hebrew/text?book=Jeremia&amp;chapter=28&amp;verse=17&amp;version=c&amp;mr=m&amp;qw=q&amp;tp=txt_p&amp;tr=hb&amp;wget=v&amp;qget=v&amp;nget=vt\" title=\"Jeremiah 28:17\" sec=\"Jeremiah 28:17\">subs</a></span> <span class=\"gloss\">month</span> <span class=\"sp xft\"><span class=\"f\">sp=</span>subs</span> <span class=\"st xft\"><span class=\"f\">st=</span>a</span></div>\n",
       "\n",
       "\n",
       "</div>\n",
       "\n",
       "<div class=\"word  hl\"  style=\"background-color: lightblue;\" >\n",
       "<a href=\"#\" class=\"nd\">249474</a>\n",
       "<div class=\"h\"><a target=\"_blank\" href=\"https://shebanq.ancient-data.org/hebrew/word?version=c&amp;id=1H\" title=\"show this lexeme in SHEBANQ\">הַ</a></div>\n",
       "<div class=\"features\"> <span class=\"pdp\"><a href=\"https://shebanq.ancient-data.org/hebrew/text?book=Jeremia&amp;chapter=28&amp;verse=17&amp;version=c&amp;mr=m&amp;qw=q&amp;tp=txt_p&amp;tr=hb&amp;wget=v&amp;qget=v&amp;nget=vt\" title=\"Jeremiah 28:17\" sec=\"Jeremiah 28:17\">art</a></span> <span class=\"gloss\">the</span> <span class=\"sp xft\"><span class=\"f\">sp=</span>art</span></div>\n",
       "\n",
       "\n",
       "</div>\n",
       "\n",
       "<div class=\"word  hl\"  style=\"background-color: lightblue;\" >\n",
       "<a href=\"#\" class=\"nd\">249475</a>\n",
       "<div class=\"h\"><a target=\"_blank\" href=\"https://shebanq.ancient-data.org/hebrew/word?version=c&amp;id=1CBJOJn\" title=\"show this lexeme in SHEBANQ\">שְּׁבִיעִֽי׃ פ </a></div>\n",
       "<div class=\"features\"> <span class=\"pdp\"><a href=\"https://shebanq.ancient-data.org/hebrew/text?book=Jeremia&amp;chapter=28&amp;verse=17&amp;version=c&amp;mr=m&amp;qw=q&amp;tp=txt_p&amp;tr=hb&amp;wget=v&amp;qget=v&amp;nget=vt\" title=\"Jeremiah 28:17\" sec=\"Jeremiah 28:17\">adjv</a></span> <span class=\"gloss\">seventh</span> <span class=\"sp xft\"><span class=\"f\">sp=</span>adjv</span> <span class=\"st xft\"><span class=\"f\">st=</span>a</span></div>\n",
       "\n",
       "\n",
       "</div>\n",
       "\n",
       "\n",
       "    </div>\n",
       "\n",
       "\n",
       "</div>\n",
       "\n",
       "\n",
       "</div>\n"
      ],
      "text/plain": [
       "<IPython.core.display.HTML object>"
      ]
     },
     "metadata": {},
     "output_type": "display_data"
    },
    {
     "data": {
      "text/html": [
       "<div style=\"background: pink; text-align: center\">prep</div>"
      ],
      "text/plain": [
       "<IPython.core.display.HTML object>"
      ]
     },
     "metadata": {},
     "output_type": "display_data"
    },
    {
     "data": {
      "text/html": [
       "<div style=\"background: lightblue; text-align: center\">head</div>"
      ],
      "text/plain": [
       "<IPython.core.display.HTML object>"
      ]
     },
     "metadata": {},
     "output_type": "display_data"
    },
    {
     "name": "stdout",
     "output_type": "stream",
     "text": [
      "{   '__cx__': 'prep',\n",
      "    'head': {   '__cx__': 'attrib',\n",
      "                'attrib': {'__cx__': 'defi', 'defi': 249474, 'head': 249475},\n",
      "                'head': {'__cx__': 'defi', 'defi': 249472, 'head': 249473}},\n",
      "    'prep': 249471}\n",
      "\n"
     ]
    },
    {
     "data": {
      "text/html": [
       "<hr>"
      ],
      "text/plain": [
       "<IPython.core.display.HTML object>"
      ]
     },
     "metadata": {},
     "output_type": "display_data"
    },
    {
     "name": "stdout",
     "output_type": "stream",
     "text": [
      "\n",
      "1446855\n"
     ]
    },
    {
     "data": {
      "text/html": [
       "<p><b>result</b> <i>CX prep {3840, 3836, 3837, 3838, 3839}</i></p>"
      ],
      "text/plain": [
       "<IPython.core.display.HTML object>"
      ]
     },
     "metadata": {},
     "output_type": "display_data"
    },
    {
     "data": {
      "text/html": [
       "<a href=\"https://shebanq.ancient-data.org/hebrew/text?book=Genesis&amp;chapter=8&amp;verse=14&amp;version=c&amp;mr=m&amp;qw=q&amp;tp=txt_p&amp;tr=hb&amp;wget=v&amp;qget=v&amp;nget=vt\" title=\"show this passage in SHEBANQ\" sec=\"Genesis 8:14\">Genesis 8:14</a>\n",
       "<div class=\"atoms  \" >\n",
       "<a href=\"#\" class=\"nd\">653676</a>\n",
       "\n",
       "\n",
       "\n",
       "<div class=\"patom  \" >\n",
       "\n",
       "    <div class=\"phrase \" >\n",
       "        <a href=\"https://shebanq.ancient-data.org/hebrew/text?book=Genesis&amp;chapter=8&amp;verse=14&amp;version=c&amp;mr=m&amp;qw=q&amp;tp=txt_p&amp;tr=hb&amp;wget=v&amp;qget=v&amp;nget=vt\" title=\"Genesis 8:14\" sec=\"Genesis 8:14\">phrase</a> <a href=\"#\" class=\"nd\">653676</a>  <span class=\"function\">Time</span> <span class=\"typ\">PP</span>\n",
       "    </div>\n",
       "    <div class=\"atoms\">\n",
       "\n",
       "<div class=\"word  hl\"  style=\"background-color: pink;\" >\n",
       "<a href=\"#\" class=\"nd\">3836</a>\n",
       "<div class=\"h\"><a target=\"_blank\" href=\"https://shebanq.ancient-data.org/hebrew/word?version=c&amp;id=1B\" title=\"show this lexeme in SHEBANQ\">בַ</a></div>\n",
       "<div class=\"features\"> <span class=\"pdp\"><a href=\"https://shebanq.ancient-data.org/hebrew/text?book=Genesis&amp;chapter=8&amp;verse=14&amp;version=c&amp;mr=m&amp;qw=q&amp;tp=txt_p&amp;tr=hb&amp;wget=v&amp;qget=v&amp;nget=vt\" title=\"Genesis 8:14\" sec=\"Genesis 8:14\">prep</a></span> <span class=\"gloss\">in</span> <span class=\"sp xft\"><span class=\"f\">sp=</span>prep</span></div>\n",
       "\n",
       "\n",
       "</div>\n",
       "\n",
       "<div class=\"word  hl\"  style=\"background-color: lightblue;\" >\n",
       "<a href=\"#\" class=\"nd\">3837</a>\n",
       "<div class=\"h\"><a target=\"_blank\" href=\"https://shebanq.ancient-data.org/hebrew/word?version=c&amp;id=1H\" title=\"show this lexeme in SHEBANQ\"></a></div>\n",
       "<div class=\"features\"> <span class=\"pdp\"><a href=\"https://shebanq.ancient-data.org/hebrew/text?book=Genesis&amp;chapter=8&amp;verse=14&amp;version=c&amp;mr=m&amp;qw=q&amp;tp=txt_p&amp;tr=hb&amp;wget=v&amp;qget=v&amp;nget=vt\" title=\"Genesis 8:14\" sec=\"Genesis 8:14\">art</a></span> <span class=\"gloss\">the</span> <span class=\"sp xft\"><span class=\"f\">sp=</span>art</span></div>\n",
       "\n",
       "\n",
       "</div>\n",
       "\n",
       "<div class=\"word  hl\"  style=\"background-color: lightblue;\" >\n",
       "<a href=\"#\" class=\"nd\">3838</a>\n",
       "<div class=\"h\"><a target=\"_blank\" href=\"https://shebanq.ancient-data.org/hebrew/word?version=c&amp;id=1XDCin\" title=\"show this lexeme in SHEBANQ\">חֹ֨דֶשׁ֙ </a></div>\n",
       "<div class=\"features\"> <span class=\"pdp\"><a href=\"https://shebanq.ancient-data.org/hebrew/text?book=Genesis&amp;chapter=8&amp;verse=14&amp;version=c&amp;mr=m&amp;qw=q&amp;tp=txt_p&amp;tr=hb&amp;wget=v&amp;qget=v&amp;nget=vt\" title=\"Genesis 8:14\" sec=\"Genesis 8:14\">subs</a></span> <span class=\"gloss\">month</span> <span class=\"sp xft\"><span class=\"f\">sp=</span>subs</span> <span class=\"st xft\"><span class=\"f\">st=</span>a</span></div>\n",
       "\n",
       "\n",
       "</div>\n",
       "\n",
       "<div class=\"word  hl\"  style=\"background-color: lightblue;\" >\n",
       "<a href=\"#\" class=\"nd\">3839</a>\n",
       "<div class=\"h\"><a target=\"_blank\" href=\"https://shebanq.ancient-data.org/hebrew/word?version=c&amp;id=1H\" title=\"show this lexeme in SHEBANQ\">הַ</a></div>\n",
       "<div class=\"features\"> <span class=\"pdp\"><a href=\"https://shebanq.ancient-data.org/hebrew/text?book=Genesis&amp;chapter=8&amp;verse=14&amp;version=c&amp;mr=m&amp;qw=q&amp;tp=txt_p&amp;tr=hb&amp;wget=v&amp;qget=v&amp;nget=vt\" title=\"Genesis 8:14\" sec=\"Genesis 8:14\">art</a></span> <span class=\"gloss\">the</span> <span class=\"sp xft\"><span class=\"f\">sp=</span>art</span></div>\n",
       "\n",
       "\n",
       "</div>\n",
       "\n",
       "<div class=\"word  hl\"  style=\"background-color: lightblue;\" >\n",
       "<a href=\"#\" class=\"nd\">3840</a>\n",
       "<div class=\"h\"><a target=\"_blank\" href=\"https://shebanq.ancient-data.org/hebrew/word?version=c&amp;id=1CNJn\" title=\"show this lexeme in SHEBANQ\">שֵּׁנִ֔י </a></div>\n",
       "<div class=\"features\"> <span class=\"pdp\"><a href=\"https://shebanq.ancient-data.org/hebrew/text?book=Genesis&amp;chapter=8&amp;verse=14&amp;version=c&amp;mr=m&amp;qw=q&amp;tp=txt_p&amp;tr=hb&amp;wget=v&amp;qget=v&amp;nget=vt\" title=\"Genesis 8:14\" sec=\"Genesis 8:14\">adjv</a></span> <span class=\"gloss\">second</span> <span class=\"sp xft\"><span class=\"f\">sp=</span>adjv</span> <span class=\"st xft\"><span class=\"f\">st=</span>a</span></div>\n",
       "\n",
       "\n",
       "</div>\n",
       "\n",
       "\n",
       "    </div>\n",
       "\n",
       "\n",
       "</div>\n",
       "\n",
       "\n",
       "</div>\n"
      ],
      "text/plain": [
       "<IPython.core.display.HTML object>"
      ]
     },
     "metadata": {},
     "output_type": "display_data"
    },
    {
     "data": {
      "text/html": [
       "<div style=\"background: pink; text-align: center\">prep</div>"
      ],
      "text/plain": [
       "<IPython.core.display.HTML object>"
      ]
     },
     "metadata": {},
     "output_type": "display_data"
    },
    {
     "data": {
      "text/html": [
       "<div style=\"background: lightblue; text-align: center\">head</div>"
      ],
      "text/plain": [
       "<IPython.core.display.HTML object>"
      ]
     },
     "metadata": {},
     "output_type": "display_data"
    },
    {
     "name": "stdout",
     "output_type": "stream",
     "text": [
      "{   '__cx__': 'prep',\n",
      "    'head': {   '__cx__': 'attrib',\n",
      "                'attrib': {'__cx__': 'defi', 'defi': 3839, 'head': 3840},\n",
      "                'head': {'__cx__': 'defi', 'defi': 3837, 'head': 3838}},\n",
      "    'prep': 3836}\n",
      "\n"
     ]
    },
    {
     "data": {
      "text/html": [
       "<hr>"
      ],
      "text/plain": [
       "<IPython.core.display.HTML object>"
      ]
     },
     "metadata": {},
     "output_type": "display_data"
    },
    {
     "data": {
      "text/html": [
       "<p><b>result</b> <i>CX prep {3841, 3842, 3843, 3844, 3845}</i></p>"
      ],
      "text/plain": [
       "<IPython.core.display.HTML object>"
      ]
     },
     "metadata": {},
     "output_type": "display_data"
    },
    {
     "data": {
      "text/html": [
       "<a href=\"https://shebanq.ancient-data.org/hebrew/text?book=Genesis&amp;chapter=8&amp;verse=14&amp;version=c&amp;mr=m&amp;qw=q&amp;tp=txt_p&amp;tr=hb&amp;wget=v&amp;qget=v&amp;nget=vt\" title=\"show this passage in SHEBANQ\" sec=\"Genesis 8:14\">Genesis 8:14</a>\n",
       "<div class=\"atoms  \" >\n",
       "<a href=\"#\" class=\"nd\">653677</a>\n",
       "\n",
       "\n",
       "\n",
       "<div class=\"patom  l \" >\n",
       "\n",
       "    <div class=\"phrase \" >\n",
       "        <a href=\"https://shebanq.ancient-data.org/hebrew/text?book=Genesis&amp;chapter=8&amp;verse=14&amp;version=c&amp;mr=m&amp;qw=q&amp;tp=txt_p&amp;tr=hb&amp;wget=v&amp;qget=v&amp;nget=vt\" title=\"Genesis 8:14\" sec=\"Genesis 8:14\">phrase</a> <a href=\"#\" class=\"nd\">653677</a>  <span class=\"function\">Time</span> <span class=\"typ\">PP</span>\n",
       "    </div>\n",
       "    <div class=\"atoms\">\n",
       "\n",
       "<div class=\"word  hl\"  style=\"background-color: pink;\" >\n",
       "<a href=\"#\" class=\"nd\">3841</a>\n",
       "<div class=\"h\"><a target=\"_blank\" href=\"https://shebanq.ancient-data.org/hebrew/word?version=c&amp;id=1B\" title=\"show this lexeme in SHEBANQ\">בְּ</a></div>\n",
       "<div class=\"features\"> <span class=\"pdp\"><a href=\"https://shebanq.ancient-data.org/hebrew/text?book=Genesis&amp;chapter=8&amp;verse=14&amp;version=c&amp;mr=m&amp;qw=q&amp;tp=txt_p&amp;tr=hb&amp;wget=v&amp;qget=v&amp;nget=vt\" title=\"Genesis 8:14\" sec=\"Genesis 8:14\">prep</a></span> <span class=\"gloss\">in</span> <span class=\"sp xft\"><span class=\"f\">sp=</span>prep</span></div>\n",
       "\n",
       "\n",
       "</div>\n",
       "\n",
       "<div class=\"word  hl\"  style=\"background-color: lightblue;\" >\n",
       "<a href=\"#\" class=\"nd\">3842</a>\n",
       "<div class=\"h\"><a target=\"_blank\" href=\"https://shebanq.ancient-data.org/hebrew/word?version=c&amp;id=1CBOn\" title=\"show this lexeme in SHEBANQ\">שִׁבְעָ֧ה </a></div>\n",
       "<div class=\"features\"> <span class=\"pdp\"><a href=\"https://shebanq.ancient-data.org/hebrew/text?book=Genesis&amp;chapter=8&amp;verse=14&amp;version=c&amp;mr=m&amp;qw=q&amp;tp=txt_p&amp;tr=hb&amp;wget=v&amp;qget=v&amp;nget=vt\" title=\"Genesis 8:14\" sec=\"Genesis 8:14\">subs</a></span> <span class=\"gloss\">seven</span> <span class=\"sp xft\"><span class=\"f\">sp=</span>subs</span> <span class=\"st xft\"><span class=\"f\">st=</span>a</span></div>\n",
       "\n",
       "\n",
       "</div>\n",
       "\n",
       "<div class=\"word  hl\"  style=\"background-color: lightblue;\" >\n",
       "<a href=\"#\" class=\"nd\">3843</a>\n",
       "<div class=\"h\"><a target=\"_blank\" href=\"https://shebanq.ancient-data.org/hebrew/word?version=c&amp;id=1W\" title=\"show this lexeme in SHEBANQ\">וְ</a></div>\n",
       "<div class=\"features\"> <span class=\"pdp\"><a href=\"https://shebanq.ancient-data.org/hebrew/text?book=Genesis&amp;chapter=8&amp;verse=14&amp;version=c&amp;mr=m&amp;qw=q&amp;tp=txt_p&amp;tr=hb&amp;wget=v&amp;qget=v&amp;nget=vt\" title=\"Genesis 8:14\" sec=\"Genesis 8:14\">conj</a></span> <span class=\"gloss\">and</span> <span class=\"sp xft\"><span class=\"f\">sp=</span>conj</span></div>\n",
       "\n",
       "\n",
       "</div>\n",
       "\n",
       "<div class=\"word  hl\"  style=\"background-color: lightblue;\" >\n",
       "<a href=\"#\" class=\"nd\">3844</a>\n",
       "<div class=\"h\"><a target=\"_blank\" href=\"https://shebanq.ancient-data.org/hebrew/word?version=c&amp;id=1OFRJMn\" title=\"show this lexeme in SHEBANQ\">עֶשְׂרִ֛ים </a></div>\n",
       "<div class=\"features\"> <span class=\"pdp\"><a href=\"https://shebanq.ancient-data.org/hebrew/text?book=Genesis&amp;chapter=8&amp;verse=14&amp;version=c&amp;mr=m&amp;qw=q&amp;tp=txt_p&amp;tr=hb&amp;wget=v&amp;qget=v&amp;nget=vt\" title=\"Genesis 8:14\" sec=\"Genesis 8:14\">subs</a></span> <span class=\"gloss\">twenty</span> <span class=\"sp xft\"><span class=\"f\">sp=</span>subs</span> <span class=\"st xft\"><span class=\"f\">st=</span>a</span></div>\n",
       "\n",
       "\n",
       "</div>\n",
       "\n",
       "<div class=\"word  hl\"  style=\"background-color: lightblue;\" >\n",
       "<a href=\"#\" class=\"nd\">3845</a>\n",
       "<div class=\"h\"><a target=\"_blank\" href=\"https://shebanq.ancient-data.org/hebrew/word?version=c&amp;id=1JWMn\" title=\"show this lexeme in SHEBANQ\">יֹ֖ום </a></div>\n",
       "<div class=\"features\"> <span class=\"pdp\"><a href=\"https://shebanq.ancient-data.org/hebrew/text?book=Genesis&amp;chapter=8&amp;verse=14&amp;version=c&amp;mr=m&amp;qw=q&amp;tp=txt_p&amp;tr=hb&amp;wget=v&amp;qget=v&amp;nget=vt\" title=\"Genesis 8:14\" sec=\"Genesis 8:14\">subs</a></span> <span class=\"gloss\">day</span> <span class=\"sp xft\"><span class=\"f\">sp=</span>subs</span> <span class=\"st xft\"><span class=\"f\">st=</span>a</span></div>\n",
       "\n",
       "\n",
       "</div>\n",
       "\n",
       "\n",
       "    </div>\n",
       "\n",
       "\n",
       "</div>\n",
       "\n",
       "<div class=\"patom  r \" >\n",
       "\n",
       "    <div class=\"phrase \" >\n",
       "        <a href=\"https://shebanq.ancient-data.org/hebrew/text?book=Genesis&amp;chapter=8&amp;verse=14&amp;version=c&amp;mr=m&amp;qw=q&amp;tp=txt_p&amp;tr=hb&amp;wget=v&amp;qget=v&amp;nget=vt\" title=\"Genesis 8:14\" sec=\"Genesis 8:14\">phrase</a> <a href=\"#\" class=\"nd\">653677</a>  <span class=\"function\">Time</span> <span class=\"typ\">PP</span>\n",
       "    </div>\n",
       "    <div class=\"atoms\">\n",
       "\n",
       "<div class=\"word  \" >\n",
       "<a href=\"#\" class=\"nd\">3846</a>\n",
       "<div class=\"h\"><a target=\"_blank\" href=\"https://shebanq.ancient-data.org/hebrew/word?version=c&amp;id=1L\" title=\"show this lexeme in SHEBANQ\">לַ</a></div>\n",
       "<div class=\"features\"> <span class=\"pdp\"><a href=\"https://shebanq.ancient-data.org/hebrew/text?book=Genesis&amp;chapter=8&amp;verse=14&amp;version=c&amp;mr=m&amp;qw=q&amp;tp=txt_p&amp;tr=hb&amp;wget=v&amp;qget=v&amp;nget=vt\" title=\"Genesis 8:14\" sec=\"Genesis 8:14\">prep</a></span> <span class=\"gloss\">to</span> <span class=\"sp xft\"><span class=\"f\">sp=</span>prep</span></div>\n",
       "\n",
       "\n",
       "</div>\n",
       "\n",
       "<div class=\"word  \" >\n",
       "<a href=\"#\" class=\"nd\">3847</a>\n",
       "<div class=\"h\"><a target=\"_blank\" href=\"https://shebanq.ancient-data.org/hebrew/word?version=c&amp;id=1H\" title=\"show this lexeme in SHEBANQ\"></a></div>\n",
       "<div class=\"features\"> <span class=\"pdp\"><a href=\"https://shebanq.ancient-data.org/hebrew/text?book=Genesis&amp;chapter=8&amp;verse=14&amp;version=c&amp;mr=m&amp;qw=q&amp;tp=txt_p&amp;tr=hb&amp;wget=v&amp;qget=v&amp;nget=vt\" title=\"Genesis 8:14\" sec=\"Genesis 8:14\">art</a></span> <span class=\"gloss\">the</span> <span class=\"sp xft\"><span class=\"f\">sp=</span>art</span></div>\n",
       "\n",
       "\n",
       "</div>\n",
       "\n",
       "<div class=\"word  \" >\n",
       "<a href=\"#\" class=\"nd\">3848</a>\n",
       "<div class=\"h\"><a target=\"_blank\" href=\"https://shebanq.ancient-data.org/hebrew/word?version=c&amp;id=1XDCin\" title=\"show this lexeme in SHEBANQ\">חֹ֑דֶשׁ </a></div>\n",
       "<div class=\"features\"> <span class=\"pdp\"><a href=\"https://shebanq.ancient-data.org/hebrew/text?book=Genesis&amp;chapter=8&amp;verse=14&amp;version=c&amp;mr=m&amp;qw=q&amp;tp=txt_p&amp;tr=hb&amp;wget=v&amp;qget=v&amp;nget=vt\" title=\"Genesis 8:14\" sec=\"Genesis 8:14\">subs</a></span> <span class=\"gloss\">month</span> <span class=\"sp xft\"><span class=\"f\">sp=</span>subs</span> <span class=\"st xft\"><span class=\"f\">st=</span>a</span></div>\n",
       "\n",
       "\n",
       "</div>\n",
       "\n",
       "\n",
       "    </div>\n",
       "\n",
       "\n",
       "</div>\n",
       "\n",
       "\n",
       "</div>\n"
      ],
      "text/plain": [
       "<IPython.core.display.HTML object>"
      ]
     },
     "metadata": {},
     "output_type": "display_data"
    },
    {
     "data": {
      "text/html": [
       "<div style=\"background: pink; text-align: center\">prep</div>"
      ],
      "text/plain": [
       "<IPython.core.display.HTML object>"
      ]
     },
     "metadata": {},
     "output_type": "display_data"
    },
    {
     "data": {
      "text/html": [
       "<div style=\"background: lightblue; text-align: center\">head</div>"
      ],
      "text/plain": [
       "<IPython.core.display.HTML object>"
      ]
     },
     "metadata": {},
     "output_type": "display_data"
    },
    {
     "name": "stdout",
     "output_type": "stream",
     "text": [
      "{   '__cx__': 'prep',\n",
      "    'head': {   '__cx__': 'numb',\n",
      "                'head': 3845,\n",
      "                'numb': {   '__cx__': 'card_chain',\n",
      "                            'card': 3844,\n",
      "                            'conj': 3843,\n",
      "                            'head': 3842}},\n",
      "    'prep': 3841}\n",
      "\n"
     ]
    },
    {
     "data": {
      "text/html": [
       "<hr>"
      ],
      "text/plain": [
       "<IPython.core.display.HTML object>"
      ]
     },
     "metadata": {},
     "output_type": "display_data"
    },
    {
     "data": {
      "text/html": [
       "<p><b>result</b> <i>CX prep {3848, 3846, 3847}</i></p>"
      ],
      "text/plain": [
       "<IPython.core.display.HTML object>"
      ]
     },
     "metadata": {},
     "output_type": "display_data"
    },
    {
     "data": {
      "text/html": [
       "<a href=\"https://shebanq.ancient-data.org/hebrew/text?book=Genesis&amp;chapter=8&amp;verse=14&amp;version=c&amp;mr=m&amp;qw=q&amp;tp=txt_p&amp;tr=hb&amp;wget=v&amp;qget=v&amp;nget=vt\" title=\"show this passage in SHEBANQ\" sec=\"Genesis 8:14\">Genesis 8:14</a>\n",
       "<div class=\"atoms  \" >\n",
       "<a href=\"#\" class=\"nd\">653677</a>\n",
       "\n",
       "\n",
       "\n",
       "<div class=\"patom  l \" >\n",
       "\n",
       "    <div class=\"phrase \" >\n",
       "        <a href=\"https://shebanq.ancient-data.org/hebrew/text?book=Genesis&amp;chapter=8&amp;verse=14&amp;version=c&amp;mr=m&amp;qw=q&amp;tp=txt_p&amp;tr=hb&amp;wget=v&amp;qget=v&amp;nget=vt\" title=\"Genesis 8:14\" sec=\"Genesis 8:14\">phrase</a> <a href=\"#\" class=\"nd\">653677</a>  <span class=\"function\">Time</span> <span class=\"typ\">PP</span>\n",
       "    </div>\n",
       "    <div class=\"atoms\">\n",
       "\n",
       "<div class=\"word  \" >\n",
       "<a href=\"#\" class=\"nd\">3841</a>\n",
       "<div class=\"h\"><a target=\"_blank\" href=\"https://shebanq.ancient-data.org/hebrew/word?version=c&amp;id=1B\" title=\"show this lexeme in SHEBANQ\">בְּ</a></div>\n",
       "<div class=\"features\"> <span class=\"pdp\"><a href=\"https://shebanq.ancient-data.org/hebrew/text?book=Genesis&amp;chapter=8&amp;verse=14&amp;version=c&amp;mr=m&amp;qw=q&amp;tp=txt_p&amp;tr=hb&amp;wget=v&amp;qget=v&amp;nget=vt\" title=\"Genesis 8:14\" sec=\"Genesis 8:14\">prep</a></span> <span class=\"gloss\">in</span> <span class=\"sp xft\"><span class=\"f\">sp=</span>prep</span></div>\n",
       "\n",
       "\n",
       "</div>\n",
       "\n",
       "<div class=\"word  \" >\n",
       "<a href=\"#\" class=\"nd\">3842</a>\n",
       "<div class=\"h\"><a target=\"_blank\" href=\"https://shebanq.ancient-data.org/hebrew/word?version=c&amp;id=1CBOn\" title=\"show this lexeme in SHEBANQ\">שִׁבְעָ֧ה </a></div>\n",
       "<div class=\"features\"> <span class=\"pdp\"><a href=\"https://shebanq.ancient-data.org/hebrew/text?book=Genesis&amp;chapter=8&amp;verse=14&amp;version=c&amp;mr=m&amp;qw=q&amp;tp=txt_p&amp;tr=hb&amp;wget=v&amp;qget=v&amp;nget=vt\" title=\"Genesis 8:14\" sec=\"Genesis 8:14\">subs</a></span> <span class=\"gloss\">seven</span> <span class=\"sp xft\"><span class=\"f\">sp=</span>subs</span> <span class=\"st xft\"><span class=\"f\">st=</span>a</span></div>\n",
       "\n",
       "\n",
       "</div>\n",
       "\n",
       "<div class=\"word  \" >\n",
       "<a href=\"#\" class=\"nd\">3843</a>\n",
       "<div class=\"h\"><a target=\"_blank\" href=\"https://shebanq.ancient-data.org/hebrew/word?version=c&amp;id=1W\" title=\"show this lexeme in SHEBANQ\">וְ</a></div>\n",
       "<div class=\"features\"> <span class=\"pdp\"><a href=\"https://shebanq.ancient-data.org/hebrew/text?book=Genesis&amp;chapter=8&amp;verse=14&amp;version=c&amp;mr=m&amp;qw=q&amp;tp=txt_p&amp;tr=hb&amp;wget=v&amp;qget=v&amp;nget=vt\" title=\"Genesis 8:14\" sec=\"Genesis 8:14\">conj</a></span> <span class=\"gloss\">and</span> <span class=\"sp xft\"><span class=\"f\">sp=</span>conj</span></div>\n",
       "\n",
       "\n",
       "</div>\n",
       "\n",
       "<div class=\"word  \" >\n",
       "<a href=\"#\" class=\"nd\">3844</a>\n",
       "<div class=\"h\"><a target=\"_blank\" href=\"https://shebanq.ancient-data.org/hebrew/word?version=c&amp;id=1OFRJMn\" title=\"show this lexeme in SHEBANQ\">עֶשְׂרִ֛ים </a></div>\n",
       "<div class=\"features\"> <span class=\"pdp\"><a href=\"https://shebanq.ancient-data.org/hebrew/text?book=Genesis&amp;chapter=8&amp;verse=14&amp;version=c&amp;mr=m&amp;qw=q&amp;tp=txt_p&amp;tr=hb&amp;wget=v&amp;qget=v&amp;nget=vt\" title=\"Genesis 8:14\" sec=\"Genesis 8:14\">subs</a></span> <span class=\"gloss\">twenty</span> <span class=\"sp xft\"><span class=\"f\">sp=</span>subs</span> <span class=\"st xft\"><span class=\"f\">st=</span>a</span></div>\n",
       "\n",
       "\n",
       "</div>\n",
       "\n",
       "<div class=\"word  \" >\n",
       "<a href=\"#\" class=\"nd\">3845</a>\n",
       "<div class=\"h\"><a target=\"_blank\" href=\"https://shebanq.ancient-data.org/hebrew/word?version=c&amp;id=1JWMn\" title=\"show this lexeme in SHEBANQ\">יֹ֖ום </a></div>\n",
       "<div class=\"features\"> <span class=\"pdp\"><a href=\"https://shebanq.ancient-data.org/hebrew/text?book=Genesis&amp;chapter=8&amp;verse=14&amp;version=c&amp;mr=m&amp;qw=q&amp;tp=txt_p&amp;tr=hb&amp;wget=v&amp;qget=v&amp;nget=vt\" title=\"Genesis 8:14\" sec=\"Genesis 8:14\">subs</a></span> <span class=\"gloss\">day</span> <span class=\"sp xft\"><span class=\"f\">sp=</span>subs</span> <span class=\"st xft\"><span class=\"f\">st=</span>a</span></div>\n",
       "\n",
       "\n",
       "</div>\n",
       "\n",
       "\n",
       "    </div>\n",
       "\n",
       "\n",
       "</div>\n",
       "\n",
       "<div class=\"patom  r \" >\n",
       "\n",
       "    <div class=\"phrase \" >\n",
       "        <a href=\"https://shebanq.ancient-data.org/hebrew/text?book=Genesis&amp;chapter=8&amp;verse=14&amp;version=c&amp;mr=m&amp;qw=q&amp;tp=txt_p&amp;tr=hb&amp;wget=v&amp;qget=v&amp;nget=vt\" title=\"Genesis 8:14\" sec=\"Genesis 8:14\">phrase</a> <a href=\"#\" class=\"nd\">653677</a>  <span class=\"function\">Time</span> <span class=\"typ\">PP</span>\n",
       "    </div>\n",
       "    <div class=\"atoms\">\n",
       "\n",
       "<div class=\"word  hl\"  style=\"background-color: pink;\" >\n",
       "<a href=\"#\" class=\"nd\">3846</a>\n",
       "<div class=\"h\"><a target=\"_blank\" href=\"https://shebanq.ancient-data.org/hebrew/word?version=c&amp;id=1L\" title=\"show this lexeme in SHEBANQ\">לַ</a></div>\n",
       "<div class=\"features\"> <span class=\"pdp\"><a href=\"https://shebanq.ancient-data.org/hebrew/text?book=Genesis&amp;chapter=8&amp;verse=14&amp;version=c&amp;mr=m&amp;qw=q&amp;tp=txt_p&amp;tr=hb&amp;wget=v&amp;qget=v&amp;nget=vt\" title=\"Genesis 8:14\" sec=\"Genesis 8:14\">prep</a></span> <span class=\"gloss\">to</span> <span class=\"sp xft\"><span class=\"f\">sp=</span>prep</span></div>\n",
       "\n",
       "\n",
       "</div>\n",
       "\n",
       "<div class=\"word  hl\"  style=\"background-color: lightblue;\" >\n",
       "<a href=\"#\" class=\"nd\">3847</a>\n",
       "<div class=\"h\"><a target=\"_blank\" href=\"https://shebanq.ancient-data.org/hebrew/word?version=c&amp;id=1H\" title=\"show this lexeme in SHEBANQ\"></a></div>\n",
       "<div class=\"features\"> <span class=\"pdp\"><a href=\"https://shebanq.ancient-data.org/hebrew/text?book=Genesis&amp;chapter=8&amp;verse=14&amp;version=c&amp;mr=m&amp;qw=q&amp;tp=txt_p&amp;tr=hb&amp;wget=v&amp;qget=v&amp;nget=vt\" title=\"Genesis 8:14\" sec=\"Genesis 8:14\">art</a></span> <span class=\"gloss\">the</span> <span class=\"sp xft\"><span class=\"f\">sp=</span>art</span></div>\n",
       "\n",
       "\n",
       "</div>\n",
       "\n",
       "<div class=\"word  hl\"  style=\"background-color: lightblue;\" >\n",
       "<a href=\"#\" class=\"nd\">3848</a>\n",
       "<div class=\"h\"><a target=\"_blank\" href=\"https://shebanq.ancient-data.org/hebrew/word?version=c&amp;id=1XDCin\" title=\"show this lexeme in SHEBANQ\">חֹ֑דֶשׁ </a></div>\n",
       "<div class=\"features\"> <span class=\"pdp\"><a href=\"https://shebanq.ancient-data.org/hebrew/text?book=Genesis&amp;chapter=8&amp;verse=14&amp;version=c&amp;mr=m&amp;qw=q&amp;tp=txt_p&amp;tr=hb&amp;wget=v&amp;qget=v&amp;nget=vt\" title=\"Genesis 8:14\" sec=\"Genesis 8:14\">subs</a></span> <span class=\"gloss\">month</span> <span class=\"sp xft\"><span class=\"f\">sp=</span>subs</span> <span class=\"st xft\"><span class=\"f\">st=</span>a</span></div>\n",
       "\n",
       "\n",
       "</div>\n",
       "\n",
       "\n",
       "    </div>\n",
       "\n",
       "\n",
       "</div>\n",
       "\n",
       "\n",
       "</div>\n"
      ],
      "text/plain": [
       "<IPython.core.display.HTML object>"
      ]
     },
     "metadata": {},
     "output_type": "display_data"
    },
    {
     "data": {
      "text/html": [
       "<div style=\"background: pink; text-align: center\">prep</div>"
      ],
      "text/plain": [
       "<IPython.core.display.HTML object>"
      ]
     },
     "metadata": {},
     "output_type": "display_data"
    },
    {
     "data": {
      "text/html": [
       "<div style=\"background: lightblue; text-align: center\">head</div>"
      ],
      "text/plain": [
       "<IPython.core.display.HTML object>"
      ]
     },
     "metadata": {},
     "output_type": "display_data"
    },
    {
     "name": "stdout",
     "output_type": "stream",
     "text": [
      "{   '__cx__': 'prep',\n",
      "    'head': {'__cx__': 'defi', 'defi': 3847, 'head': 3848},\n",
      "    'prep': 3846}\n",
      "\n"
     ]
    },
    {
     "data": {
      "text/html": [
       "<hr>"
      ],
      "text/plain": [
       "<IPython.core.display.HTML object>"
      ]
     },
     "metadata": {},
     "output_type": "display_data"
    },
    {
     "name": "stdout",
     "output_type": "stream",
     "text": [
      "\n",
      "1447538\n"
     ]
    },
    {
     "data": {
      "text/html": [
       "<p><b>result</b> <i>CX numb {77507, 77508, 77509, 77510, 77511}</i></p>"
      ],
      "text/plain": [
       "<IPython.core.display.HTML object>"
      ]
     },
     "metadata": {},
     "output_type": "display_data"
    },
    {
     "data": {
      "text/html": [
       "<a href=\"https://shebanq.ancient-data.org/hebrew/text?book=Numeri&amp;chapter=11&amp;verse=32&amp;version=c&amp;mr=m&amp;qw=q&amp;tp=txt_p&amp;tr=hb&amp;wget=v&amp;qget=v&amp;nget=vt\" title=\"show this passage in SHEBANQ\" sec=\"Numbers 11:32\">Numbers 11:32</a>\n",
       "<div class=\"atoms  \" >\n",
       "<a href=\"#\" class=\"nd\">695933</a>\n",
       "\n",
       "\n",
       "\n",
       "<div class=\"patom  \" >\n",
       "\n",
       "    <div class=\"phrase \" >\n",
       "        <a href=\"https://shebanq.ancient-data.org/hebrew/text?book=Numeri&amp;chapter=11&amp;verse=32&amp;version=c&amp;mr=m&amp;qw=q&amp;tp=txt_p&amp;tr=hb&amp;wget=v&amp;qget=v&amp;nget=vt\" title=\"Numbers 11:32\" sec=\"Numbers 11:32\">phrase</a> <a href=\"#\" class=\"nd\">695933</a>  <span class=\"function\">Time</span> <span class=\"typ\">NP</span>\n",
       "    </div>\n",
       "    <div class=\"atoms\">\n",
       "\n",
       "<div class=\"word  hl\"  style=\"background-color: pink;\" >\n",
       "<a href=\"#\" class=\"nd\">77507</a>\n",
       "<div class=\"h\"><a target=\"_blank\" href=\"https://shebanq.ancient-data.org/hebrew/word?version=c&amp;id=1KLn\" title=\"show this lexeme in SHEBANQ\">כָּל־</a></div>\n",
       "<div class=\"features\"> <span class=\"pdp\"><a href=\"https://shebanq.ancient-data.org/hebrew/text?book=Numeri&amp;chapter=11&amp;verse=32&amp;version=c&amp;mr=m&amp;qw=q&amp;tp=txt_p&amp;tr=hb&amp;wget=v&amp;qget=v&amp;nget=vt\" title=\"Numbers 11:32\" sec=\"Numbers 11:32\">subs</a></span> <span class=\"gloss\">whole</span> <span class=\"sp xft\"><span class=\"f\">sp=</span>subs</span> <span class=\"st xft\"><span class=\"f\">st=</span>c</span></div>\n",
       "\n",
       "\n",
       "</div>\n",
       "\n",
       "<div class=\"word  hl\"  style=\"background-color: lightblue;\" >\n",
       "<a href=\"#\" class=\"nd\">77508</a>\n",
       "<div class=\"h\"><a target=\"_blank\" href=\"https://shebanq.ancient-data.org/hebrew/word?version=c&amp;id=1H\" title=\"show this lexeme in SHEBANQ\">הַ</a></div>\n",
       "<div class=\"features\"> <span class=\"pdp\"><a href=\"https://shebanq.ancient-data.org/hebrew/text?book=Numeri&amp;chapter=11&amp;verse=32&amp;version=c&amp;mr=m&amp;qw=q&amp;tp=txt_p&amp;tr=hb&amp;wget=v&amp;qget=v&amp;nget=vt\" title=\"Numbers 11:32\" sec=\"Numbers 11:32\">art</a></span> <span class=\"gloss\">the</span> <span class=\"sp xft\"><span class=\"f\">sp=</span>art</span></div>\n",
       "\n",
       "\n",
       "</div>\n",
       "\n",
       "<div class=\"word  hl\"  style=\"background-color: lightblue;\" >\n",
       "<a href=\"#\" class=\"nd\">77509</a>\n",
       "<div class=\"h\"><a target=\"_blank\" href=\"https://shebanq.ancient-data.org/hebrew/word?version=c&amp;id=1JWMn\" title=\"show this lexeme in SHEBANQ\">יֹּום֩ </a></div>\n",
       "<div class=\"features\"> <span class=\"pdp\"><a href=\"https://shebanq.ancient-data.org/hebrew/text?book=Numeri&amp;chapter=11&amp;verse=32&amp;version=c&amp;mr=m&amp;qw=q&amp;tp=txt_p&amp;tr=hb&amp;wget=v&amp;qget=v&amp;nget=vt\" title=\"Numbers 11:32\" sec=\"Numbers 11:32\">subs</a></span> <span class=\"gloss\">day</span> <span class=\"sp xft\"><span class=\"f\">sp=</span>subs</span> <span class=\"st xft\"><span class=\"f\">st=</span>a</span></div>\n",
       "\n",
       "\n",
       "</div>\n",
       "\n",
       "<div class=\"word  hl\"  style=\"background-color: lightblue;\" >\n",
       "<a href=\"#\" class=\"nd\">77510</a>\n",
       "<div class=\"h\"><a target=\"_blank\" href=\"https://shebanq.ancient-data.org/hebrew/word?version=c&amp;id=1H\" title=\"show this lexeme in SHEBANQ\">הַ</a></div>\n",
       "<div class=\"features\"> <span class=\"pdp\"><a href=\"https://shebanq.ancient-data.org/hebrew/text?book=Numeri&amp;chapter=11&amp;verse=32&amp;version=c&amp;mr=m&amp;qw=q&amp;tp=txt_p&amp;tr=hb&amp;wget=v&amp;qget=v&amp;nget=vt\" title=\"Numbers 11:32\" sec=\"Numbers 11:32\">art</a></span> <span class=\"gloss\">the</span> <span class=\"sp xft\"><span class=\"f\">sp=</span>art</span></div>\n",
       "\n",
       "\n",
       "</div>\n",
       "\n",
       "<div class=\"word  hl\"  style=\"background-color: lightblue;\" >\n",
       "<a href=\"#\" class=\"nd\">77511</a>\n",
       "<div class=\"h\"><a target=\"_blank\" href=\"https://shebanq.ancient-data.org/hebrew/word?version=c&amp;id=1HWA\" title=\"show this lexeme in SHEBANQ\">ה֨וּא </a></div>\n",
       "<div class=\"features\"> <span class=\"pdp\"><a href=\"https://shebanq.ancient-data.org/hebrew/text?book=Numeri&amp;chapter=11&amp;verse=32&amp;version=c&amp;mr=m&amp;qw=q&amp;tp=txt_p&amp;tr=hb&amp;wget=v&amp;qget=v&amp;nget=vt\" title=\"Numbers 11:32\" sec=\"Numbers 11:32\">prde</a></span> <span class=\"gloss\">he</span> <span class=\"sp xft\"><span class=\"f\">sp=</span>prps</span></div>\n",
       "\n",
       "\n",
       "</div>\n",
       "\n",
       "<div class=\"word  \" >\n",
       "<a href=\"#\" class=\"nd\">77512</a>\n",
       "<div class=\"h\"><a target=\"_blank\" href=\"https://shebanq.ancient-data.org/hebrew/word?version=c&amp;id=1W\" title=\"show this lexeme in SHEBANQ\">וְ</a></div>\n",
       "<div class=\"features\"> <span class=\"pdp\"><a href=\"https://shebanq.ancient-data.org/hebrew/text?book=Numeri&amp;chapter=11&amp;verse=32&amp;version=c&amp;mr=m&amp;qw=q&amp;tp=txt_p&amp;tr=hb&amp;wget=v&amp;qget=v&amp;nget=vt\" title=\"Numbers 11:32\" sec=\"Numbers 11:32\">conj</a></span> <span class=\"gloss\">and</span> <span class=\"sp xft\"><span class=\"f\">sp=</span>conj</span></div>\n",
       "\n",
       "\n",
       "</div>\n",
       "\n",
       "<div class=\"word  \" >\n",
       "<a href=\"#\" class=\"nd\">77513</a>\n",
       "<div class=\"h\"><a target=\"_blank\" href=\"https://shebanq.ancient-data.org/hebrew/word?version=c&amp;id=1KLn\" title=\"show this lexeme in SHEBANQ\">כָל־</a></div>\n",
       "<div class=\"features\"> <span class=\"pdp\"><a href=\"https://shebanq.ancient-data.org/hebrew/text?book=Numeri&amp;chapter=11&amp;verse=32&amp;version=c&amp;mr=m&amp;qw=q&amp;tp=txt_p&amp;tr=hb&amp;wget=v&amp;qget=v&amp;nget=vt\" title=\"Numbers 11:32\" sec=\"Numbers 11:32\">subs</a></span> <span class=\"gloss\">whole</span> <span class=\"sp xft\"><span class=\"f\">sp=</span>subs</span> <span class=\"st xft\"><span class=\"f\">st=</span>c</span></div>\n",
       "\n",
       "\n",
       "</div>\n",
       "\n",
       "<div class=\"word  \" >\n",
       "<a href=\"#\" class=\"nd\">77514</a>\n",
       "<div class=\"h\"><a target=\"_blank\" href=\"https://shebanq.ancient-data.org/hebrew/word?version=c&amp;id=1H\" title=\"show this lexeme in SHEBANQ\">הַ</a></div>\n",
       "<div class=\"features\"> <span class=\"pdp\"><a href=\"https://shebanq.ancient-data.org/hebrew/text?book=Numeri&amp;chapter=11&amp;verse=32&amp;version=c&amp;mr=m&amp;qw=q&amp;tp=txt_p&amp;tr=hb&amp;wget=v&amp;qget=v&amp;nget=vt\" title=\"Numbers 11:32\" sec=\"Numbers 11:32\">art</a></span> <span class=\"gloss\">the</span> <span class=\"sp xft\"><span class=\"f\">sp=</span>art</span></div>\n",
       "\n",
       "\n",
       "</div>\n",
       "\n",
       "<div class=\"word  \" >\n",
       "<a href=\"#\" class=\"nd\">77515</a>\n",
       "<div class=\"h\"><a target=\"_blank\" href=\"https://shebanq.ancient-data.org/hebrew/word?version=c&amp;id=1LJLHn\" title=\"show this lexeme in SHEBANQ\">לַּ֜יְלָה </a></div>\n",
       "<div class=\"features\"> <span class=\"pdp\"><a href=\"https://shebanq.ancient-data.org/hebrew/text?book=Numeri&amp;chapter=11&amp;verse=32&amp;version=c&amp;mr=m&amp;qw=q&amp;tp=txt_p&amp;tr=hb&amp;wget=v&amp;qget=v&amp;nget=vt\" title=\"Numbers 11:32\" sec=\"Numbers 11:32\">subs</a></span> <span class=\"gloss\">night</span> <span class=\"sp xft\"><span class=\"f\">sp=</span>subs</span> <span class=\"st xft\"><span class=\"f\">st=</span>a</span></div>\n",
       "\n",
       "\n",
       "</div>\n",
       "\n",
       "<div class=\"word  \" >\n",
       "<a href=\"#\" class=\"nd\">77516</a>\n",
       "<div class=\"h\"><a target=\"_blank\" href=\"https://shebanq.ancient-data.org/hebrew/word?version=c&amp;id=1W\" title=\"show this lexeme in SHEBANQ\">וְ</a></div>\n",
       "<div class=\"features\"> <span class=\"pdp\"><a href=\"https://shebanq.ancient-data.org/hebrew/text?book=Numeri&amp;chapter=11&amp;verse=32&amp;version=c&amp;mr=m&amp;qw=q&amp;tp=txt_p&amp;tr=hb&amp;wget=v&amp;qget=v&amp;nget=vt\" title=\"Numbers 11:32\" sec=\"Numbers 11:32\">conj</a></span> <span class=\"gloss\">and</span> <span class=\"sp xft\"><span class=\"f\">sp=</span>conj</span></div>\n",
       "\n",
       "\n",
       "</div>\n",
       "\n",
       "<div class=\"word  \" >\n",
       "<a href=\"#\" class=\"nd\">77517</a>\n",
       "<div class=\"h\"><a target=\"_blank\" href=\"https://shebanq.ancient-data.org/hebrew/word?version=c&amp;id=1KLn\" title=\"show this lexeme in SHEBANQ\">כֹ֣ל׀ </a></div>\n",
       "<div class=\"features\"> <span class=\"pdp\"><a href=\"https://shebanq.ancient-data.org/hebrew/text?book=Numeri&amp;chapter=11&amp;verse=32&amp;version=c&amp;mr=m&amp;qw=q&amp;tp=txt_p&amp;tr=hb&amp;wget=v&amp;qget=v&amp;nget=vt\" title=\"Numbers 11:32\" sec=\"Numbers 11:32\">subs</a></span> <span class=\"gloss\">whole</span> <span class=\"sp xft\"><span class=\"f\">sp=</span>subs</span> <span class=\"st xft\"><span class=\"f\">st=</span>c</span></div>\n",
       "\n",
       "\n",
       "</div>\n",
       "\n",
       "<div class=\"word  \" >\n",
       "<a href=\"#\" class=\"nd\">77518</a>\n",
       "<div class=\"h\"><a target=\"_blank\" href=\"https://shebanq.ancient-data.org/hebrew/word?version=c&amp;id=1JWMn\" title=\"show this lexeme in SHEBANQ\">יֹ֣ום </a></div>\n",
       "<div class=\"features\"> <span class=\"pdp\"><a href=\"https://shebanq.ancient-data.org/hebrew/text?book=Numeri&amp;chapter=11&amp;verse=32&amp;version=c&amp;mr=m&amp;qw=q&amp;tp=txt_p&amp;tr=hb&amp;wget=v&amp;qget=v&amp;nget=vt\" title=\"Numbers 11:32\" sec=\"Numbers 11:32\">subs</a></span> <span class=\"gloss\">day</span> <span class=\"sp xft\"><span class=\"f\">sp=</span>subs</span> <span class=\"st xft\"><span class=\"f\">st=</span>c</span></div>\n",
       "\n",
       "\n",
       "</div>\n",
       "\n",
       "<div class=\"word  \" >\n",
       "<a href=\"#\" class=\"nd\">77519</a>\n",
       "<div class=\"h\"><a target=\"_blank\" href=\"https://shebanq.ancient-data.org/hebrew/word?version=c&amp;id=1H\" title=\"show this lexeme in SHEBANQ\">הַֽ</a></div>\n",
       "<div class=\"features\"> <span class=\"pdp\"><a href=\"https://shebanq.ancient-data.org/hebrew/text?book=Numeri&amp;chapter=11&amp;verse=32&amp;version=c&amp;mr=m&amp;qw=q&amp;tp=txt_p&amp;tr=hb&amp;wget=v&amp;qget=v&amp;nget=vt\" title=\"Numbers 11:32\" sec=\"Numbers 11:32\">art</a></span> <span class=\"gloss\">the</span> <span class=\"sp xft\"><span class=\"f\">sp=</span>art</span></div>\n",
       "\n",
       "\n",
       "</div>\n",
       "\n",
       "<div class=\"word  \" >\n",
       "<a href=\"#\" class=\"nd\">77520</a>\n",
       "<div class=\"h\"><a target=\"_blank\" href=\"https://shebanq.ancient-data.org/hebrew/word?version=c&amp;id=1MXRTn\" title=\"show this lexeme in SHEBANQ\">מָּחֳרָ֗ת </a></div>\n",
       "<div class=\"features\"> <span class=\"pdp\"><a href=\"https://shebanq.ancient-data.org/hebrew/text?book=Numeri&amp;chapter=11&amp;verse=32&amp;version=c&amp;mr=m&amp;qw=q&amp;tp=txt_p&amp;tr=hb&amp;wget=v&amp;qget=v&amp;nget=vt\" title=\"Numbers 11:32\" sec=\"Numbers 11:32\">subs</a></span> <span class=\"gloss\">next day</span> <span class=\"sp xft\"><span class=\"f\">sp=</span>subs</span> <span class=\"st xft\"><span class=\"f\">st=</span>a</span></div>\n",
       "\n",
       "\n",
       "</div>\n",
       "\n",
       "\n",
       "    </div>\n",
       "\n",
       "\n",
       "</div>\n",
       "\n",
       "\n",
       "</div>\n"
      ],
      "text/plain": [
       "<IPython.core.display.HTML object>"
      ]
     },
     "metadata": {},
     "output_type": "display_data"
    },
    {
     "data": {
      "text/html": [
       "<div style=\"background: pink; text-align: center\">numb</div>"
      ],
      "text/plain": [
       "<IPython.core.display.HTML object>"
      ]
     },
     "metadata": {},
     "output_type": "display_data"
    },
    {
     "data": {
      "text/html": [
       "<div style=\"background: lightblue; text-align: center\">head</div>"
      ],
      "text/plain": [
       "<IPython.core.display.HTML object>"
      ]
     },
     "metadata": {},
     "output_type": "display_data"
    },
    {
     "name": "stdout",
     "output_type": "stream",
     "text": [
      "{   '__cx__': 'numb',\n",
      "    'head': {   '__cx__': 'attrib',\n",
      "                'attrib': {'__cx__': 'defi', 'defi': 77510, 'head': 77511},\n",
      "                'head': {'__cx__': 'defi', 'defi': 77508, 'head': 77509}},\n",
      "    'numb': 77507}\n",
      "\n"
     ]
    },
    {
     "data": {
      "text/html": [
       "<hr>"
      ],
      "text/plain": [
       "<IPython.core.display.HTML object>"
      ]
     },
     "metadata": {},
     "output_type": "display_data"
    },
    {
     "data": {
      "text/html": [
       "<p><b>result</b> <i>CX numb {77513, 77514, 77515}</i></p>"
      ],
      "text/plain": [
       "<IPython.core.display.HTML object>"
      ]
     },
     "metadata": {},
     "output_type": "display_data"
    },
    {
     "data": {
      "text/html": [
       "<a href=\"https://shebanq.ancient-data.org/hebrew/text?book=Numeri&amp;chapter=11&amp;verse=32&amp;version=c&amp;mr=m&amp;qw=q&amp;tp=txt_p&amp;tr=hb&amp;wget=v&amp;qget=v&amp;nget=vt\" title=\"show this passage in SHEBANQ\" sec=\"Numbers 11:32\">Numbers 11:32</a>\n",
       "<div class=\"atoms  \" >\n",
       "<a href=\"#\" class=\"nd\">695933</a>\n",
       "\n",
       "\n",
       "\n",
       "<div class=\"patom  \" >\n",
       "\n",
       "    <div class=\"phrase \" >\n",
       "        <a href=\"https://shebanq.ancient-data.org/hebrew/text?book=Numeri&amp;chapter=11&amp;verse=32&amp;version=c&amp;mr=m&amp;qw=q&amp;tp=txt_p&amp;tr=hb&amp;wget=v&amp;qget=v&amp;nget=vt\" title=\"Numbers 11:32\" sec=\"Numbers 11:32\">phrase</a> <a href=\"#\" class=\"nd\">695933</a>  <span class=\"function\">Time</span> <span class=\"typ\">NP</span>\n",
       "    </div>\n",
       "    <div class=\"atoms\">\n",
       "\n",
       "<div class=\"word  \" >\n",
       "<a href=\"#\" class=\"nd\">77507</a>\n",
       "<div class=\"h\"><a target=\"_blank\" href=\"https://shebanq.ancient-data.org/hebrew/word?version=c&amp;id=1KLn\" title=\"show this lexeme in SHEBANQ\">כָּל־</a></div>\n",
       "<div class=\"features\"> <span class=\"pdp\"><a href=\"https://shebanq.ancient-data.org/hebrew/text?book=Numeri&amp;chapter=11&amp;verse=32&amp;version=c&amp;mr=m&amp;qw=q&amp;tp=txt_p&amp;tr=hb&amp;wget=v&amp;qget=v&amp;nget=vt\" title=\"Numbers 11:32\" sec=\"Numbers 11:32\">subs</a></span> <span class=\"gloss\">whole</span> <span class=\"sp xft\"><span class=\"f\">sp=</span>subs</span> <span class=\"st xft\"><span class=\"f\">st=</span>c</span></div>\n",
       "\n",
       "\n",
       "</div>\n",
       "\n",
       "<div class=\"word  \" >\n",
       "<a href=\"#\" class=\"nd\">77508</a>\n",
       "<div class=\"h\"><a target=\"_blank\" href=\"https://shebanq.ancient-data.org/hebrew/word?version=c&amp;id=1H\" title=\"show this lexeme in SHEBANQ\">הַ</a></div>\n",
       "<div class=\"features\"> <span class=\"pdp\"><a href=\"https://shebanq.ancient-data.org/hebrew/text?book=Numeri&amp;chapter=11&amp;verse=32&amp;version=c&amp;mr=m&amp;qw=q&amp;tp=txt_p&amp;tr=hb&amp;wget=v&amp;qget=v&amp;nget=vt\" title=\"Numbers 11:32\" sec=\"Numbers 11:32\">art</a></span> <span class=\"gloss\">the</span> <span class=\"sp xft\"><span class=\"f\">sp=</span>art</span></div>\n",
       "\n",
       "\n",
       "</div>\n",
       "\n",
       "<div class=\"word  \" >\n",
       "<a href=\"#\" class=\"nd\">77509</a>\n",
       "<div class=\"h\"><a target=\"_blank\" href=\"https://shebanq.ancient-data.org/hebrew/word?version=c&amp;id=1JWMn\" title=\"show this lexeme in SHEBANQ\">יֹּום֩ </a></div>\n",
       "<div class=\"features\"> <span class=\"pdp\"><a href=\"https://shebanq.ancient-data.org/hebrew/text?book=Numeri&amp;chapter=11&amp;verse=32&amp;version=c&amp;mr=m&amp;qw=q&amp;tp=txt_p&amp;tr=hb&amp;wget=v&amp;qget=v&amp;nget=vt\" title=\"Numbers 11:32\" sec=\"Numbers 11:32\">subs</a></span> <span class=\"gloss\">day</span> <span class=\"sp xft\"><span class=\"f\">sp=</span>subs</span> <span class=\"st xft\"><span class=\"f\">st=</span>a</span></div>\n",
       "\n",
       "\n",
       "</div>\n",
       "\n",
       "<div class=\"word  \" >\n",
       "<a href=\"#\" class=\"nd\">77510</a>\n",
       "<div class=\"h\"><a target=\"_blank\" href=\"https://shebanq.ancient-data.org/hebrew/word?version=c&amp;id=1H\" title=\"show this lexeme in SHEBANQ\">הַ</a></div>\n",
       "<div class=\"features\"> <span class=\"pdp\"><a href=\"https://shebanq.ancient-data.org/hebrew/text?book=Numeri&amp;chapter=11&amp;verse=32&amp;version=c&amp;mr=m&amp;qw=q&amp;tp=txt_p&amp;tr=hb&amp;wget=v&amp;qget=v&amp;nget=vt\" title=\"Numbers 11:32\" sec=\"Numbers 11:32\">art</a></span> <span class=\"gloss\">the</span> <span class=\"sp xft\"><span class=\"f\">sp=</span>art</span></div>\n",
       "\n",
       "\n",
       "</div>\n",
       "\n",
       "<div class=\"word  \" >\n",
       "<a href=\"#\" class=\"nd\">77511</a>\n",
       "<div class=\"h\"><a target=\"_blank\" href=\"https://shebanq.ancient-data.org/hebrew/word?version=c&amp;id=1HWA\" title=\"show this lexeme in SHEBANQ\">ה֨וּא </a></div>\n",
       "<div class=\"features\"> <span class=\"pdp\"><a href=\"https://shebanq.ancient-data.org/hebrew/text?book=Numeri&amp;chapter=11&amp;verse=32&amp;version=c&amp;mr=m&amp;qw=q&amp;tp=txt_p&amp;tr=hb&amp;wget=v&amp;qget=v&amp;nget=vt\" title=\"Numbers 11:32\" sec=\"Numbers 11:32\">prde</a></span> <span class=\"gloss\">he</span> <span class=\"sp xft\"><span class=\"f\">sp=</span>prps</span></div>\n",
       "\n",
       "\n",
       "</div>\n",
       "\n",
       "<div class=\"word  \" >\n",
       "<a href=\"#\" class=\"nd\">77512</a>\n",
       "<div class=\"h\"><a target=\"_blank\" href=\"https://shebanq.ancient-data.org/hebrew/word?version=c&amp;id=1W\" title=\"show this lexeme in SHEBANQ\">וְ</a></div>\n",
       "<div class=\"features\"> <span class=\"pdp\"><a href=\"https://shebanq.ancient-data.org/hebrew/text?book=Numeri&amp;chapter=11&amp;verse=32&amp;version=c&amp;mr=m&amp;qw=q&amp;tp=txt_p&amp;tr=hb&amp;wget=v&amp;qget=v&amp;nget=vt\" title=\"Numbers 11:32\" sec=\"Numbers 11:32\">conj</a></span> <span class=\"gloss\">and</span> <span class=\"sp xft\"><span class=\"f\">sp=</span>conj</span></div>\n",
       "\n",
       "\n",
       "</div>\n",
       "\n",
       "<div class=\"word  hl\"  style=\"background-color: pink;\" >\n",
       "<a href=\"#\" class=\"nd\">77513</a>\n",
       "<div class=\"h\"><a target=\"_blank\" href=\"https://shebanq.ancient-data.org/hebrew/word?version=c&amp;id=1KLn\" title=\"show this lexeme in SHEBANQ\">כָל־</a></div>\n",
       "<div class=\"features\"> <span class=\"pdp\"><a href=\"https://shebanq.ancient-data.org/hebrew/text?book=Numeri&amp;chapter=11&amp;verse=32&amp;version=c&amp;mr=m&amp;qw=q&amp;tp=txt_p&amp;tr=hb&amp;wget=v&amp;qget=v&amp;nget=vt\" title=\"Numbers 11:32\" sec=\"Numbers 11:32\">subs</a></span> <span class=\"gloss\">whole</span> <span class=\"sp xft\"><span class=\"f\">sp=</span>subs</span> <span class=\"st xft\"><span class=\"f\">st=</span>c</span></div>\n",
       "\n",
       "\n",
       "</div>\n",
       "\n",
       "<div class=\"word  hl\"  style=\"background-color: lightblue;\" >\n",
       "<a href=\"#\" class=\"nd\">77514</a>\n",
       "<div class=\"h\"><a target=\"_blank\" href=\"https://shebanq.ancient-data.org/hebrew/word?version=c&amp;id=1H\" title=\"show this lexeme in SHEBANQ\">הַ</a></div>\n",
       "<div class=\"features\"> <span class=\"pdp\"><a href=\"https://shebanq.ancient-data.org/hebrew/text?book=Numeri&amp;chapter=11&amp;verse=32&amp;version=c&amp;mr=m&amp;qw=q&amp;tp=txt_p&amp;tr=hb&amp;wget=v&amp;qget=v&amp;nget=vt\" title=\"Numbers 11:32\" sec=\"Numbers 11:32\">art</a></span> <span class=\"gloss\">the</span> <span class=\"sp xft\"><span class=\"f\">sp=</span>art</span></div>\n",
       "\n",
       "\n",
       "</div>\n",
       "\n",
       "<div class=\"word  hl\"  style=\"background-color: lightblue;\" >\n",
       "<a href=\"#\" class=\"nd\">77515</a>\n",
       "<div class=\"h\"><a target=\"_blank\" href=\"https://shebanq.ancient-data.org/hebrew/word?version=c&amp;id=1LJLHn\" title=\"show this lexeme in SHEBANQ\">לַּ֜יְלָה </a></div>\n",
       "<div class=\"features\"> <span class=\"pdp\"><a href=\"https://shebanq.ancient-data.org/hebrew/text?book=Numeri&amp;chapter=11&amp;verse=32&amp;version=c&amp;mr=m&amp;qw=q&amp;tp=txt_p&amp;tr=hb&amp;wget=v&amp;qget=v&amp;nget=vt\" title=\"Numbers 11:32\" sec=\"Numbers 11:32\">subs</a></span> <span class=\"gloss\">night</span> <span class=\"sp xft\"><span class=\"f\">sp=</span>subs</span> <span class=\"st xft\"><span class=\"f\">st=</span>a</span></div>\n",
       "\n",
       "\n",
       "</div>\n",
       "\n",
       "<div class=\"word  \" >\n",
       "<a href=\"#\" class=\"nd\">77516</a>\n",
       "<div class=\"h\"><a target=\"_blank\" href=\"https://shebanq.ancient-data.org/hebrew/word?version=c&amp;id=1W\" title=\"show this lexeme in SHEBANQ\">וְ</a></div>\n",
       "<div class=\"features\"> <span class=\"pdp\"><a href=\"https://shebanq.ancient-data.org/hebrew/text?book=Numeri&amp;chapter=11&amp;verse=32&amp;version=c&amp;mr=m&amp;qw=q&amp;tp=txt_p&amp;tr=hb&amp;wget=v&amp;qget=v&amp;nget=vt\" title=\"Numbers 11:32\" sec=\"Numbers 11:32\">conj</a></span> <span class=\"gloss\">and</span> <span class=\"sp xft\"><span class=\"f\">sp=</span>conj</span></div>\n",
       "\n",
       "\n",
       "</div>\n",
       "\n",
       "<div class=\"word  \" >\n",
       "<a href=\"#\" class=\"nd\">77517</a>\n",
       "<div class=\"h\"><a target=\"_blank\" href=\"https://shebanq.ancient-data.org/hebrew/word?version=c&amp;id=1KLn\" title=\"show this lexeme in SHEBANQ\">כֹ֣ל׀ </a></div>\n",
       "<div class=\"features\"> <span class=\"pdp\"><a href=\"https://shebanq.ancient-data.org/hebrew/text?book=Numeri&amp;chapter=11&amp;verse=32&amp;version=c&amp;mr=m&amp;qw=q&amp;tp=txt_p&amp;tr=hb&amp;wget=v&amp;qget=v&amp;nget=vt\" title=\"Numbers 11:32\" sec=\"Numbers 11:32\">subs</a></span> <span class=\"gloss\">whole</span> <span class=\"sp xft\"><span class=\"f\">sp=</span>subs</span> <span class=\"st xft\"><span class=\"f\">st=</span>c</span></div>\n",
       "\n",
       "\n",
       "</div>\n",
       "\n",
       "<div class=\"word  \" >\n",
       "<a href=\"#\" class=\"nd\">77518</a>\n",
       "<div class=\"h\"><a target=\"_blank\" href=\"https://shebanq.ancient-data.org/hebrew/word?version=c&amp;id=1JWMn\" title=\"show this lexeme in SHEBANQ\">יֹ֣ום </a></div>\n",
       "<div class=\"features\"> <span class=\"pdp\"><a href=\"https://shebanq.ancient-data.org/hebrew/text?book=Numeri&amp;chapter=11&amp;verse=32&amp;version=c&amp;mr=m&amp;qw=q&amp;tp=txt_p&amp;tr=hb&amp;wget=v&amp;qget=v&amp;nget=vt\" title=\"Numbers 11:32\" sec=\"Numbers 11:32\">subs</a></span> <span class=\"gloss\">day</span> <span class=\"sp xft\"><span class=\"f\">sp=</span>subs</span> <span class=\"st xft\"><span class=\"f\">st=</span>c</span></div>\n",
       "\n",
       "\n",
       "</div>\n",
       "\n",
       "<div class=\"word  \" >\n",
       "<a href=\"#\" class=\"nd\">77519</a>\n",
       "<div class=\"h\"><a target=\"_blank\" href=\"https://shebanq.ancient-data.org/hebrew/word?version=c&amp;id=1H\" title=\"show this lexeme in SHEBANQ\">הַֽ</a></div>\n",
       "<div class=\"features\"> <span class=\"pdp\"><a href=\"https://shebanq.ancient-data.org/hebrew/text?book=Numeri&amp;chapter=11&amp;verse=32&amp;version=c&amp;mr=m&amp;qw=q&amp;tp=txt_p&amp;tr=hb&amp;wget=v&amp;qget=v&amp;nget=vt\" title=\"Numbers 11:32\" sec=\"Numbers 11:32\">art</a></span> <span class=\"gloss\">the</span> <span class=\"sp xft\"><span class=\"f\">sp=</span>art</span></div>\n",
       "\n",
       "\n",
       "</div>\n",
       "\n",
       "<div class=\"word  \" >\n",
       "<a href=\"#\" class=\"nd\">77520</a>\n",
       "<div class=\"h\"><a target=\"_blank\" href=\"https://shebanq.ancient-data.org/hebrew/word?version=c&amp;id=1MXRTn\" title=\"show this lexeme in SHEBANQ\">מָּחֳרָ֗ת </a></div>\n",
       "<div class=\"features\"> <span class=\"pdp\"><a href=\"https://shebanq.ancient-data.org/hebrew/text?book=Numeri&amp;chapter=11&amp;verse=32&amp;version=c&amp;mr=m&amp;qw=q&amp;tp=txt_p&amp;tr=hb&amp;wget=v&amp;qget=v&amp;nget=vt\" title=\"Numbers 11:32\" sec=\"Numbers 11:32\">subs</a></span> <span class=\"gloss\">next day</span> <span class=\"sp xft\"><span class=\"f\">sp=</span>subs</span> <span class=\"st xft\"><span class=\"f\">st=</span>a</span></div>\n",
       "\n",
       "\n",
       "</div>\n",
       "\n",
       "\n",
       "    </div>\n",
       "\n",
       "\n",
       "</div>\n",
       "\n",
       "\n",
       "</div>\n"
      ],
      "text/plain": [
       "<IPython.core.display.HTML object>"
      ]
     },
     "metadata": {},
     "output_type": "display_data"
    },
    {
     "data": {
      "text/html": [
       "<div style=\"background: pink; text-align: center\">numb</div>"
      ],
      "text/plain": [
       "<IPython.core.display.HTML object>"
      ]
     },
     "metadata": {},
     "output_type": "display_data"
    },
    {
     "data": {
      "text/html": [
       "<div style=\"background: lightblue; text-align: center\">head</div>"
      ],
      "text/plain": [
       "<IPython.core.display.HTML object>"
      ]
     },
     "metadata": {},
     "output_type": "display_data"
    },
    {
     "name": "stdout",
     "output_type": "stream",
     "text": [
      "{   '__cx__': 'numb',\n",
      "    'head': {'__cx__': 'defi', 'defi': 77514, 'head': 77515},\n",
      "    'numb': 77513}\n",
      "\n"
     ]
    },
    {
     "data": {
      "text/html": [
       "<hr>"
      ],
      "text/plain": [
       "<IPython.core.display.HTML object>"
      ]
     },
     "metadata": {},
     "output_type": "display_data"
    },
    {
     "name": "stderr",
     "output_type": "stream",
     "text": [
      "No explicit link between CX defi {77520, 77519} and CX numb {77517, 77518}\n",
      "\tattempt connect CX defi {77520, 77519} and CX geni {77517, 77518, 77519}"
     ]
    },
    {
     "data": {
      "text/html": [
       "<p><b>result</b> <i>CX geni {77520, 77517, 77518, 77519}</i></p>"
      ],
      "text/plain": [
       "<IPython.core.display.HTML object>"
      ]
     },
     "metadata": {},
     "output_type": "display_data"
    },
    {
     "data": {
      "text/html": [
       "<a href=\"https://shebanq.ancient-data.org/hebrew/text?book=Numeri&amp;chapter=11&amp;verse=32&amp;version=c&amp;mr=m&amp;qw=q&amp;tp=txt_p&amp;tr=hb&amp;wget=v&amp;qget=v&amp;nget=vt\" title=\"show this passage in SHEBANQ\" sec=\"Numbers 11:32\">Numbers 11:32</a>\n",
       "<div class=\"atoms  \" >\n",
       "<a href=\"#\" class=\"nd\">695933</a>\n",
       "\n",
       "\n",
       "\n",
       "<div class=\"patom  \" >\n",
       "\n",
       "    <div class=\"phrase \" >\n",
       "        <a href=\"https://shebanq.ancient-data.org/hebrew/text?book=Numeri&amp;chapter=11&amp;verse=32&amp;version=c&amp;mr=m&amp;qw=q&amp;tp=txt_p&amp;tr=hb&amp;wget=v&amp;qget=v&amp;nget=vt\" title=\"Numbers 11:32\" sec=\"Numbers 11:32\">phrase</a> <a href=\"#\" class=\"nd\">695933</a>  <span class=\"function\">Time</span> <span class=\"typ\">NP</span>\n",
       "    </div>\n",
       "    <div class=\"atoms\">\n",
       "\n",
       "<div class=\"word  \" >\n",
       "<a href=\"#\" class=\"nd\">77507</a>\n",
       "<div class=\"h\"><a target=\"_blank\" href=\"https://shebanq.ancient-data.org/hebrew/word?version=c&amp;id=1KLn\" title=\"show this lexeme in SHEBANQ\">כָּל־</a></div>\n",
       "<div class=\"features\"> <span class=\"pdp\"><a href=\"https://shebanq.ancient-data.org/hebrew/text?book=Numeri&amp;chapter=11&amp;verse=32&amp;version=c&amp;mr=m&amp;qw=q&amp;tp=txt_p&amp;tr=hb&amp;wget=v&amp;qget=v&amp;nget=vt\" title=\"Numbers 11:32\" sec=\"Numbers 11:32\">subs</a></span> <span class=\"gloss\">whole</span> <span class=\"sp xft\"><span class=\"f\">sp=</span>subs</span> <span class=\"st xft\"><span class=\"f\">st=</span>c</span></div>\n",
       "\n",
       "\n",
       "</div>\n",
       "\n",
       "<div class=\"word  \" >\n",
       "<a href=\"#\" class=\"nd\">77508</a>\n",
       "<div class=\"h\"><a target=\"_blank\" href=\"https://shebanq.ancient-data.org/hebrew/word?version=c&amp;id=1H\" title=\"show this lexeme in SHEBANQ\">הַ</a></div>\n",
       "<div class=\"features\"> <span class=\"pdp\"><a href=\"https://shebanq.ancient-data.org/hebrew/text?book=Numeri&amp;chapter=11&amp;verse=32&amp;version=c&amp;mr=m&amp;qw=q&amp;tp=txt_p&amp;tr=hb&amp;wget=v&amp;qget=v&amp;nget=vt\" title=\"Numbers 11:32\" sec=\"Numbers 11:32\">art</a></span> <span class=\"gloss\">the</span> <span class=\"sp xft\"><span class=\"f\">sp=</span>art</span></div>\n",
       "\n",
       "\n",
       "</div>\n",
       "\n",
       "<div class=\"word  \" >\n",
       "<a href=\"#\" class=\"nd\">77509</a>\n",
       "<div class=\"h\"><a target=\"_blank\" href=\"https://shebanq.ancient-data.org/hebrew/word?version=c&amp;id=1JWMn\" title=\"show this lexeme in SHEBANQ\">יֹּום֩ </a></div>\n",
       "<div class=\"features\"> <span class=\"pdp\"><a href=\"https://shebanq.ancient-data.org/hebrew/text?book=Numeri&amp;chapter=11&amp;verse=32&amp;version=c&amp;mr=m&amp;qw=q&amp;tp=txt_p&amp;tr=hb&amp;wget=v&amp;qget=v&amp;nget=vt\" title=\"Numbers 11:32\" sec=\"Numbers 11:32\">subs</a></span> <span class=\"gloss\">day</span> <span class=\"sp xft\"><span class=\"f\">sp=</span>subs</span> <span class=\"st xft\"><span class=\"f\">st=</span>a</span></div>\n",
       "\n",
       "\n",
       "</div>\n",
       "\n",
       "<div class=\"word  \" >\n",
       "<a href=\"#\" class=\"nd\">77510</a>\n",
       "<div class=\"h\"><a target=\"_blank\" href=\"https://shebanq.ancient-data.org/hebrew/word?version=c&amp;id=1H\" title=\"show this lexeme in SHEBANQ\">הַ</a></div>\n",
       "<div class=\"features\"> <span class=\"pdp\"><a href=\"https://shebanq.ancient-data.org/hebrew/text?book=Numeri&amp;chapter=11&amp;verse=32&amp;version=c&amp;mr=m&amp;qw=q&amp;tp=txt_p&amp;tr=hb&amp;wget=v&amp;qget=v&amp;nget=vt\" title=\"Numbers 11:32\" sec=\"Numbers 11:32\">art</a></span> <span class=\"gloss\">the</span> <span class=\"sp xft\"><span class=\"f\">sp=</span>art</span></div>\n",
       "\n",
       "\n",
       "</div>\n",
       "\n",
       "<div class=\"word  \" >\n",
       "<a href=\"#\" class=\"nd\">77511</a>\n",
       "<div class=\"h\"><a target=\"_blank\" href=\"https://shebanq.ancient-data.org/hebrew/word?version=c&amp;id=1HWA\" title=\"show this lexeme in SHEBANQ\">ה֨וּא </a></div>\n",
       "<div class=\"features\"> <span class=\"pdp\"><a href=\"https://shebanq.ancient-data.org/hebrew/text?book=Numeri&amp;chapter=11&amp;verse=32&amp;version=c&amp;mr=m&amp;qw=q&amp;tp=txt_p&amp;tr=hb&amp;wget=v&amp;qget=v&amp;nget=vt\" title=\"Numbers 11:32\" sec=\"Numbers 11:32\">prde</a></span> <span class=\"gloss\">he</span> <span class=\"sp xft\"><span class=\"f\">sp=</span>prps</span></div>\n",
       "\n",
       "\n",
       "</div>\n",
       "\n",
       "<div class=\"word  \" >\n",
       "<a href=\"#\" class=\"nd\">77512</a>\n",
       "<div class=\"h\"><a target=\"_blank\" href=\"https://shebanq.ancient-data.org/hebrew/word?version=c&amp;id=1W\" title=\"show this lexeme in SHEBANQ\">וְ</a></div>\n",
       "<div class=\"features\"> <span class=\"pdp\"><a href=\"https://shebanq.ancient-data.org/hebrew/text?book=Numeri&amp;chapter=11&amp;verse=32&amp;version=c&amp;mr=m&amp;qw=q&amp;tp=txt_p&amp;tr=hb&amp;wget=v&amp;qget=v&amp;nget=vt\" title=\"Numbers 11:32\" sec=\"Numbers 11:32\">conj</a></span> <span class=\"gloss\">and</span> <span class=\"sp xft\"><span class=\"f\">sp=</span>conj</span></div>\n",
       "\n",
       "\n",
       "</div>\n",
       "\n",
       "<div class=\"word  \" >\n",
       "<a href=\"#\" class=\"nd\">77513</a>\n",
       "<div class=\"h\"><a target=\"_blank\" href=\"https://shebanq.ancient-data.org/hebrew/word?version=c&amp;id=1KLn\" title=\"show this lexeme in SHEBANQ\">כָל־</a></div>\n",
       "<div class=\"features\"> <span class=\"pdp\"><a href=\"https://shebanq.ancient-data.org/hebrew/text?book=Numeri&amp;chapter=11&amp;verse=32&amp;version=c&amp;mr=m&amp;qw=q&amp;tp=txt_p&amp;tr=hb&amp;wget=v&amp;qget=v&amp;nget=vt\" title=\"Numbers 11:32\" sec=\"Numbers 11:32\">subs</a></span> <span class=\"gloss\">whole</span> <span class=\"sp xft\"><span class=\"f\">sp=</span>subs</span> <span class=\"st xft\"><span class=\"f\">st=</span>c</span></div>\n",
       "\n",
       "\n",
       "</div>\n",
       "\n",
       "<div class=\"word  \" >\n",
       "<a href=\"#\" class=\"nd\">77514</a>\n",
       "<div class=\"h\"><a target=\"_blank\" href=\"https://shebanq.ancient-data.org/hebrew/word?version=c&amp;id=1H\" title=\"show this lexeme in SHEBANQ\">הַ</a></div>\n",
       "<div class=\"features\"> <span class=\"pdp\"><a href=\"https://shebanq.ancient-data.org/hebrew/text?book=Numeri&amp;chapter=11&amp;verse=32&amp;version=c&amp;mr=m&amp;qw=q&amp;tp=txt_p&amp;tr=hb&amp;wget=v&amp;qget=v&amp;nget=vt\" title=\"Numbers 11:32\" sec=\"Numbers 11:32\">art</a></span> <span class=\"gloss\">the</span> <span class=\"sp xft\"><span class=\"f\">sp=</span>art</span></div>\n",
       "\n",
       "\n",
       "</div>\n",
       "\n",
       "<div class=\"word  \" >\n",
       "<a href=\"#\" class=\"nd\">77515</a>\n",
       "<div class=\"h\"><a target=\"_blank\" href=\"https://shebanq.ancient-data.org/hebrew/word?version=c&amp;id=1LJLHn\" title=\"show this lexeme in SHEBANQ\">לַּ֜יְלָה </a></div>\n",
       "<div class=\"features\"> <span class=\"pdp\"><a href=\"https://shebanq.ancient-data.org/hebrew/text?book=Numeri&amp;chapter=11&amp;verse=32&amp;version=c&amp;mr=m&amp;qw=q&amp;tp=txt_p&amp;tr=hb&amp;wget=v&amp;qget=v&amp;nget=vt\" title=\"Numbers 11:32\" sec=\"Numbers 11:32\">subs</a></span> <span class=\"gloss\">night</span> <span class=\"sp xft\"><span class=\"f\">sp=</span>subs</span> <span class=\"st xft\"><span class=\"f\">st=</span>a</span></div>\n",
       "\n",
       "\n",
       "</div>\n",
       "\n",
       "<div class=\"word  \" >\n",
       "<a href=\"#\" class=\"nd\">77516</a>\n",
       "<div class=\"h\"><a target=\"_blank\" href=\"https://shebanq.ancient-data.org/hebrew/word?version=c&amp;id=1W\" title=\"show this lexeme in SHEBANQ\">וְ</a></div>\n",
       "<div class=\"features\"> <span class=\"pdp\"><a href=\"https://shebanq.ancient-data.org/hebrew/text?book=Numeri&amp;chapter=11&amp;verse=32&amp;version=c&amp;mr=m&amp;qw=q&amp;tp=txt_p&amp;tr=hb&amp;wget=v&amp;qget=v&amp;nget=vt\" title=\"Numbers 11:32\" sec=\"Numbers 11:32\">conj</a></span> <span class=\"gloss\">and</span> <span class=\"sp xft\"><span class=\"f\">sp=</span>conj</span></div>\n",
       "\n",
       "\n",
       "</div>\n",
       "\n",
       "<div class=\"word  hl\"  style=\"background-color: lightblue;\" >\n",
       "<a href=\"#\" class=\"nd\">77517</a>\n",
       "<div class=\"h\"><a target=\"_blank\" href=\"https://shebanq.ancient-data.org/hebrew/word?version=c&amp;id=1KLn\" title=\"show this lexeme in SHEBANQ\">כֹ֣ל׀ </a></div>\n",
       "<div class=\"features\"> <span class=\"pdp\"><a href=\"https://shebanq.ancient-data.org/hebrew/text?book=Numeri&amp;chapter=11&amp;verse=32&amp;version=c&amp;mr=m&amp;qw=q&amp;tp=txt_p&amp;tr=hb&amp;wget=v&amp;qget=v&amp;nget=vt\" title=\"Numbers 11:32\" sec=\"Numbers 11:32\">subs</a></span> <span class=\"gloss\">whole</span> <span class=\"sp xft\"><span class=\"f\">sp=</span>subs</span> <span class=\"st xft\"><span class=\"f\">st=</span>c</span></div>\n",
       "\n",
       "\n",
       "</div>\n",
       "\n",
       "<div class=\"word  hl\"  style=\"background-color: lightblue;\" >\n",
       "<a href=\"#\" class=\"nd\">77518</a>\n",
       "<div class=\"h\"><a target=\"_blank\" href=\"https://shebanq.ancient-data.org/hebrew/word?version=c&amp;id=1JWMn\" title=\"show this lexeme in SHEBANQ\">יֹ֣ום </a></div>\n",
       "<div class=\"features\"> <span class=\"pdp\"><a href=\"https://shebanq.ancient-data.org/hebrew/text?book=Numeri&amp;chapter=11&amp;verse=32&amp;version=c&amp;mr=m&amp;qw=q&amp;tp=txt_p&amp;tr=hb&amp;wget=v&amp;qget=v&amp;nget=vt\" title=\"Numbers 11:32\" sec=\"Numbers 11:32\">subs</a></span> <span class=\"gloss\">day</span> <span class=\"sp xft\"><span class=\"f\">sp=</span>subs</span> <span class=\"st xft\"><span class=\"f\">st=</span>c</span></div>\n",
       "\n",
       "\n",
       "</div>\n",
       "\n",
       "<div class=\"word  hl\"  style=\"background-color: pink;\" >\n",
       "<a href=\"#\" class=\"nd\">77519</a>\n",
       "<div class=\"h\"><a target=\"_blank\" href=\"https://shebanq.ancient-data.org/hebrew/word?version=c&amp;id=1H\" title=\"show this lexeme in SHEBANQ\">הַֽ</a></div>\n",
       "<div class=\"features\"> <span class=\"pdp\"><a href=\"https://shebanq.ancient-data.org/hebrew/text?book=Numeri&amp;chapter=11&amp;verse=32&amp;version=c&amp;mr=m&amp;qw=q&amp;tp=txt_p&amp;tr=hb&amp;wget=v&amp;qget=v&amp;nget=vt\" title=\"Numbers 11:32\" sec=\"Numbers 11:32\">art</a></span> <span class=\"gloss\">the</span> <span class=\"sp xft\"><span class=\"f\">sp=</span>art</span></div>\n",
       "\n",
       "\n",
       "</div>\n",
       "\n",
       "<div class=\"word  hl\"  style=\"background-color: pink;\" >\n",
       "<a href=\"#\" class=\"nd\">77520</a>\n",
       "<div class=\"h\"><a target=\"_blank\" href=\"https://shebanq.ancient-data.org/hebrew/word?version=c&amp;id=1MXRTn\" title=\"show this lexeme in SHEBANQ\">מָּחֳרָ֗ת </a></div>\n",
       "<div class=\"features\"> <span class=\"pdp\"><a href=\"https://shebanq.ancient-data.org/hebrew/text?book=Numeri&amp;chapter=11&amp;verse=32&amp;version=c&amp;mr=m&amp;qw=q&amp;tp=txt_p&amp;tr=hb&amp;wget=v&amp;qget=v&amp;nget=vt\" title=\"Numbers 11:32\" sec=\"Numbers 11:32\">subs</a></span> <span class=\"gloss\">next day</span> <span class=\"sp xft\"><span class=\"f\">sp=</span>subs</span> <span class=\"st xft\"><span class=\"f\">st=</span>a</span></div>\n",
       "\n",
       "\n",
       "</div>\n",
       "\n",
       "\n",
       "    </div>\n",
       "\n",
       "\n",
       "</div>\n",
       "\n",
       "\n",
       "</div>\n"
      ],
      "text/plain": [
       "<IPython.core.display.HTML object>"
      ]
     },
     "metadata": {},
     "output_type": "display_data"
    },
    {
     "data": {
      "text/html": [
       "<div style=\"background: pink; text-align: center\">geni</div>"
      ],
      "text/plain": [
       "<IPython.core.display.HTML object>"
      ]
     },
     "metadata": {},
     "output_type": "display_data"
    },
    {
     "data": {
      "text/html": [
       "<div style=\"background: lightblue; text-align: center\">head</div>"
      ],
      "text/plain": [
       "<IPython.core.display.HTML object>"
      ]
     },
     "metadata": {},
     "output_type": "display_data"
    },
    {
     "name": "stdout",
     "output_type": "stream",
     "text": [
      "{   '__cx__': 'geni',\n",
      "    'geni': {'__cx__': 'defi', 'defi': 77519, 'head': 77520},\n",
      "    'head': {'__cx__': 'numb', 'head': 77518, 'numb': 77517}}\n",
      "\n"
     ]
    },
    {
     "data": {
      "text/html": [
       "<hr>"
      ],
      "text/plain": [
       "<IPython.core.display.HTML object>"
      ]
     },
     "metadata": {},
     "output_type": "display_data"
    },
    {
     "name": "stdout",
     "output_type": "stream",
     "text": [
      "\n",
      "1448963\n"
     ]
    },
    {
     "data": {
      "text/html": [
       "<p><b>result</b> <i>CX prep {214555, 214556, 214557, 214558, 214559}</i></p>"
      ],
      "text/plain": [
       "<IPython.core.display.HTML object>"
      ]
     },
     "metadata": {},
     "output_type": "display_data"
    },
    {
     "data": {
      "text/html": [
       "<a href=\"https://shebanq.ancient-data.org/hebrew/text?book=Jesaia&amp;chapter=7&amp;verse=18&amp;version=c&amp;mr=m&amp;qw=q&amp;tp=txt_p&amp;tr=hb&amp;wget=v&amp;qget=v&amp;nget=vt\" title=\"show this passage in SHEBANQ\" sec=\"Isaiah 7:18\">Isaiah 7:18</a>\n",
       "<div class=\"atoms  \" >\n",
       "<a href=\"#\" class=\"nd\">775624</a>\n",
       "\n",
       "\n",
       "\n",
       "<div class=\"patom  \" >\n",
       "\n",
       "    <div class=\"phrase \" >\n",
       "        <a href=\"https://shebanq.ancient-data.org/hebrew/text?book=Jesaia&amp;chapter=7&amp;verse=18&amp;version=c&amp;mr=m&amp;qw=q&amp;tp=txt_p&amp;tr=hb&amp;wget=v&amp;qget=v&amp;nget=vt\" title=\"Isaiah 7:18\" sec=\"Isaiah 7:18\">phrase</a> <a href=\"#\" class=\"nd\">775624</a>  <span class=\"function\">Time</span> <span class=\"typ\">PP</span>\n",
       "    </div>\n",
       "    <div class=\"atoms\">\n",
       "\n",
       "<div class=\"word  hl\"  style=\"background-color: pink;\" >\n",
       "<a href=\"#\" class=\"nd\">214555</a>\n",
       "<div class=\"h\"><a target=\"_blank\" href=\"https://shebanq.ancient-data.org/hebrew/word?version=c&amp;id=1B\" title=\"show this lexeme in SHEBANQ\">בַּ</a></div>\n",
       "<div class=\"features\"> <span class=\"pdp\"><a href=\"https://shebanq.ancient-data.org/hebrew/text?book=Jesaia&amp;chapter=7&amp;verse=18&amp;version=c&amp;mr=m&amp;qw=q&amp;tp=txt_p&amp;tr=hb&amp;wget=v&amp;qget=v&amp;nget=vt\" title=\"Isaiah 7:18\" sec=\"Isaiah 7:18\">prep</a></span> <span class=\"gloss\">in</span> <span class=\"sp xft\"><span class=\"f\">sp=</span>prep</span></div>\n",
       "\n",
       "\n",
       "</div>\n",
       "\n",
       "<div class=\"word  hl\"  style=\"background-color: lightblue;\" >\n",
       "<a href=\"#\" class=\"nd\">214556</a>\n",
       "<div class=\"h\"><a target=\"_blank\" href=\"https://shebanq.ancient-data.org/hebrew/word?version=c&amp;id=1H\" title=\"show this lexeme in SHEBANQ\"></a></div>\n",
       "<div class=\"features\"> <span class=\"pdp\"><a href=\"https://shebanq.ancient-data.org/hebrew/text?book=Jesaia&amp;chapter=7&amp;verse=18&amp;version=c&amp;mr=m&amp;qw=q&amp;tp=txt_p&amp;tr=hb&amp;wget=v&amp;qget=v&amp;nget=vt\" title=\"Isaiah 7:18\" sec=\"Isaiah 7:18\">art</a></span> <span class=\"gloss\">the</span> <span class=\"sp xft\"><span class=\"f\">sp=</span>art</span></div>\n",
       "\n",
       "\n",
       "</div>\n",
       "\n",
       "<div class=\"word  hl\"  style=\"background-color: lightblue;\" >\n",
       "<a href=\"#\" class=\"nd\">214557</a>\n",
       "<div class=\"h\"><a target=\"_blank\" href=\"https://shebanq.ancient-data.org/hebrew/word?version=c&amp;id=1JWMn\" title=\"show this lexeme in SHEBANQ\">יֹּ֣ום </a></div>\n",
       "<div class=\"features\"> <span class=\"pdp\"><a href=\"https://shebanq.ancient-data.org/hebrew/text?book=Jesaia&amp;chapter=7&amp;verse=18&amp;version=c&amp;mr=m&amp;qw=q&amp;tp=txt_p&amp;tr=hb&amp;wget=v&amp;qget=v&amp;nget=vt\" title=\"Isaiah 7:18\" sec=\"Isaiah 7:18\">subs</a></span> <span class=\"gloss\">day</span> <span class=\"sp xft\"><span class=\"f\">sp=</span>subs</span> <span class=\"st xft\"><span class=\"f\">st=</span>a</span></div>\n",
       "\n",
       "\n",
       "</div>\n",
       "\n",
       "<div class=\"word  hl\"  style=\"background-color: lightblue;\" >\n",
       "<a href=\"#\" class=\"nd\">214558</a>\n",
       "<div class=\"h\"><a target=\"_blank\" href=\"https://shebanq.ancient-data.org/hebrew/word?version=c&amp;id=1H\" title=\"show this lexeme in SHEBANQ\">הַ</a></div>\n",
       "<div class=\"features\"> <span class=\"pdp\"><a href=\"https://shebanq.ancient-data.org/hebrew/text?book=Jesaia&amp;chapter=7&amp;verse=18&amp;version=c&amp;mr=m&amp;qw=q&amp;tp=txt_p&amp;tr=hb&amp;wget=v&amp;qget=v&amp;nget=vt\" title=\"Isaiah 7:18\" sec=\"Isaiah 7:18\">art</a></span> <span class=\"gloss\">the</span> <span class=\"sp xft\"><span class=\"f\">sp=</span>art</span></div>\n",
       "\n",
       "\n",
       "</div>\n",
       "\n",
       "<div class=\"word  hl\"  style=\"background-color: lightblue;\" >\n",
       "<a href=\"#\" class=\"nd\">214559</a>\n",
       "<div class=\"h\"><a target=\"_blank\" href=\"https://shebanq.ancient-data.org/hebrew/word?version=c&amp;id=1HWA\" title=\"show this lexeme in SHEBANQ\">ה֗וּא </a></div>\n",
       "<div class=\"features\"> <span class=\"pdp\"><a href=\"https://shebanq.ancient-data.org/hebrew/text?book=Jesaia&amp;chapter=7&amp;verse=18&amp;version=c&amp;mr=m&amp;qw=q&amp;tp=txt_p&amp;tr=hb&amp;wget=v&amp;qget=v&amp;nget=vt\" title=\"Isaiah 7:18\" sec=\"Isaiah 7:18\">prde</a></span> <span class=\"gloss\">he</span> <span class=\"sp xft\"><span class=\"f\">sp=</span>prps</span></div>\n",
       "\n",
       "\n",
       "</div>\n",
       "\n",
       "\n",
       "    </div>\n",
       "\n",
       "\n",
       "</div>\n",
       "\n",
       "\n",
       "</div>\n"
      ],
      "text/plain": [
       "<IPython.core.display.HTML object>"
      ]
     },
     "metadata": {},
     "output_type": "display_data"
    },
    {
     "data": {
      "text/html": [
       "<div style=\"background: pink; text-align: center\">prep</div>"
      ],
      "text/plain": [
       "<IPython.core.display.HTML object>"
      ]
     },
     "metadata": {},
     "output_type": "display_data"
    },
    {
     "data": {
      "text/html": [
       "<div style=\"background: lightblue; text-align: center\">head</div>"
      ],
      "text/plain": [
       "<IPython.core.display.HTML object>"
      ]
     },
     "metadata": {},
     "output_type": "display_data"
    },
    {
     "name": "stdout",
     "output_type": "stream",
     "text": [
      "{   '__cx__': 'prep',\n",
      "    'head': {   '__cx__': 'attrib',\n",
      "                'attrib': {'__cx__': 'defi', 'defi': 214558, 'head': 214559},\n",
      "                'head': {'__cx__': 'defi', 'defi': 214556, 'head': 214557}},\n",
      "    'prep': 214555}\n",
      "\n"
     ]
    },
    {
     "data": {
      "text/html": [
       "<hr>"
      ],
      "text/plain": [
       "<IPython.core.display.HTML object>"
      ]
     },
     "metadata": {},
     "output_type": "display_data"
    },
    {
     "name": "stdout",
     "output_type": "stream",
     "text": [
      "\n",
      "1449649\n"
     ]
    },
    {
     "data": {
      "text/html": [
       "<p><b>result</b> <i>CX prep {307127, 307128, 307129, 307130, 307131}</i></p>"
      ],
      "text/plain": [
       "<IPython.core.display.HTML object>"
      ]
     },
     "metadata": {},
     "output_type": "display_data"
    },
    {
     "data": {
      "text/html": [
       "<a href=\"https://shebanq.ancient-data.org/hebrew/text?book=Sacharia&amp;chapter=8&amp;verse=9&amp;version=c&amp;mr=m&amp;qw=q&amp;tp=txt_p&amp;tr=hb&amp;wget=v&amp;qget=v&amp;nget=vt\" title=\"show this passage in SHEBANQ\" sec=\"Zechariah 8:9\">Zechariah 8:9</a>\n",
       "<div class=\"atoms  \" >\n",
       "<a href=\"#\" class=\"nd\">833150</a>\n",
       "\n",
       "\n",
       "\n",
       "<div class=\"patom  \" >\n",
       "\n",
       "    <div class=\"phrase \" >\n",
       "        <a href=\"https://shebanq.ancient-data.org/hebrew/text?book=Sacharia&amp;chapter=8&amp;verse=9&amp;version=c&amp;mr=m&amp;qw=q&amp;tp=txt_p&amp;tr=hb&amp;wget=v&amp;qget=v&amp;nget=vt\" title=\"Zechariah 8:9\" sec=\"Zechariah 8:9\">phrase</a> <a href=\"#\" class=\"nd\">833150</a>  <span class=\"function\">Time</span> <span class=\"typ\">PP</span>\n",
       "    </div>\n",
       "    <div class=\"atoms\">\n",
       "\n",
       "<div class=\"word  hl\"  style=\"background-color: pink;\" >\n",
       "<a href=\"#\" class=\"nd\">307127</a>\n",
       "<div class=\"h\"><a target=\"_blank\" href=\"https://shebanq.ancient-data.org/hebrew/word?version=c&amp;id=1B\" title=\"show this lexeme in SHEBANQ\">בַּ</a></div>\n",
       "<div class=\"features\"> <span class=\"pdp\"><a href=\"https://shebanq.ancient-data.org/hebrew/text?book=Sacharia&amp;chapter=8&amp;verse=9&amp;version=c&amp;mr=m&amp;qw=q&amp;tp=txt_p&amp;tr=hb&amp;wget=v&amp;qget=v&amp;nget=vt\" title=\"Zechariah 8:9\" sec=\"Zechariah 8:9\">prep</a></span> <span class=\"gloss\">in</span> <span class=\"sp xft\"><span class=\"f\">sp=</span>prep</span></div>\n",
       "\n",
       "\n",
       "</div>\n",
       "\n",
       "<div class=\"word  hl\"  style=\"background-color: lightblue;\" >\n",
       "<a href=\"#\" class=\"nd\">307128</a>\n",
       "<div class=\"h\"><a target=\"_blank\" href=\"https://shebanq.ancient-data.org/hebrew/word?version=c&amp;id=1H\" title=\"show this lexeme in SHEBANQ\"></a></div>\n",
       "<div class=\"features\"> <span class=\"pdp\"><a href=\"https://shebanq.ancient-data.org/hebrew/text?book=Sacharia&amp;chapter=8&amp;verse=9&amp;version=c&amp;mr=m&amp;qw=q&amp;tp=txt_p&amp;tr=hb&amp;wget=v&amp;qget=v&amp;nget=vt\" title=\"Zechariah 8:9\" sec=\"Zechariah 8:9\">art</a></span> <span class=\"gloss\">the</span> <span class=\"sp xft\"><span class=\"f\">sp=</span>art</span></div>\n",
       "\n",
       "\n",
       "</div>\n",
       "\n",
       "<div class=\"word  hl\"  style=\"background-color: lightblue;\" >\n",
       "<a href=\"#\" class=\"nd\">307129</a>\n",
       "<div class=\"h\"><a target=\"_blank\" href=\"https://shebanq.ancient-data.org/hebrew/word?version=c&amp;id=1JWMn\" title=\"show this lexeme in SHEBANQ\">יָּמִ֣ים </a></div>\n",
       "<div class=\"features\"> <span class=\"pdp\"><a href=\"https://shebanq.ancient-data.org/hebrew/text?book=Sacharia&amp;chapter=8&amp;verse=9&amp;version=c&amp;mr=m&amp;qw=q&amp;tp=txt_p&amp;tr=hb&amp;wget=v&amp;qget=v&amp;nget=vt\" title=\"Zechariah 8:9\" sec=\"Zechariah 8:9\">subs</a></span> <span class=\"gloss\">day</span> <span class=\"sp xft\"><span class=\"f\">sp=</span>subs</span> <span class=\"st xft\"><span class=\"f\">st=</span>a</span></div>\n",
       "\n",
       "\n",
       "</div>\n",
       "\n",
       "<div class=\"word  hl\"  style=\"background-color: lightblue;\" >\n",
       "<a href=\"#\" class=\"nd\">307130</a>\n",
       "<div class=\"h\"><a target=\"_blank\" href=\"https://shebanq.ancient-data.org/hebrew/word?version=c&amp;id=1H\" title=\"show this lexeme in SHEBANQ\">הָ</a></div>\n",
       "<div class=\"features\"> <span class=\"pdp\"><a href=\"https://shebanq.ancient-data.org/hebrew/text?book=Sacharia&amp;chapter=8&amp;verse=9&amp;version=c&amp;mr=m&amp;qw=q&amp;tp=txt_p&amp;tr=hb&amp;wget=v&amp;qget=v&amp;nget=vt\" title=\"Zechariah 8:9\" sec=\"Zechariah 8:9\">art</a></span> <span class=\"gloss\">the</span> <span class=\"sp xft\"><span class=\"f\">sp=</span>art</span></div>\n",
       "\n",
       "\n",
       "</div>\n",
       "\n",
       "<div class=\"word  hl\"  style=\"background-color: lightblue;\" >\n",
       "<a href=\"#\" class=\"nd\">307131</a>\n",
       "<div class=\"h\"><a target=\"_blank\" href=\"https://shebanq.ancient-data.org/hebrew/word?version=c&amp;id=1ALH\" title=\"show this lexeme in SHEBANQ\">אֵ֔לֶּה </a></div>\n",
       "<div class=\"features\"> <span class=\"pdp\"><a href=\"https://shebanq.ancient-data.org/hebrew/text?book=Sacharia&amp;chapter=8&amp;verse=9&amp;version=c&amp;mr=m&amp;qw=q&amp;tp=txt_p&amp;tr=hb&amp;wget=v&amp;qget=v&amp;nget=vt\" title=\"Zechariah 8:9\" sec=\"Zechariah 8:9\">prde</a></span> <span class=\"gloss\">these</span> <span class=\"sp xft\"><span class=\"f\">sp=</span>prde</span></div>\n",
       "\n",
       "\n",
       "</div>\n",
       "\n",
       "\n",
       "    </div>\n",
       "\n",
       "\n",
       "</div>\n",
       "\n",
       "\n",
       "</div>\n"
      ],
      "text/plain": [
       "<IPython.core.display.HTML object>"
      ]
     },
     "metadata": {},
     "output_type": "display_data"
    },
    {
     "data": {
      "text/html": [
       "<div style=\"background: pink; text-align: center\">prep</div>"
      ],
      "text/plain": [
       "<IPython.core.display.HTML object>"
      ]
     },
     "metadata": {},
     "output_type": "display_data"
    },
    {
     "data": {
      "text/html": [
       "<div style=\"background: lightblue; text-align: center\">head</div>"
      ],
      "text/plain": [
       "<IPython.core.display.HTML object>"
      ]
     },
     "metadata": {},
     "output_type": "display_data"
    },
    {
     "name": "stdout",
     "output_type": "stream",
     "text": [
      "{   '__cx__': 'prep',\n",
      "    'head': {   '__cx__': 'attrib',\n",
      "                'attrib': {'__cx__': 'defi', 'defi': 307130, 'head': 307131},\n",
      "                'head': {'__cx__': 'defi', 'defi': 307128, 'head': 307129}},\n",
      "    'prep': 307127}\n",
      "\n"
     ]
    },
    {
     "data": {
      "text/html": [
       "<hr>"
      ],
      "text/plain": [
       "<IPython.core.display.HTML object>"
      ]
     },
     "metadata": {},
     "output_type": "display_data"
    },
    {
     "name": "stdout",
     "output_type": "stream",
     "text": [
      "\n",
      "1446871\n"
     ]
    },
    {
     "data": {
      "text/html": [
       "<p><b>result</b> <i>CX numb {5226, 5227, 5228, 5229}</i></p>"
      ],
      "text/plain": [
       "<IPython.core.display.HTML object>"
      ]
     },
     "metadata": {},
     "output_type": "display_data"
    },
    {
     "data": {
      "text/html": [
       "<a href=\"https://shebanq.ancient-data.org/hebrew/text?book=Genesis&amp;chapter=11&amp;verse=16&amp;version=c&amp;mr=m&amp;qw=q&amp;tp=txt_p&amp;tr=hb&amp;wget=v&amp;qget=v&amp;nget=vt\" title=\"show this passage in SHEBANQ\" sec=\"Genesis 11:16\">Genesis 11:16</a>\n",
       "<div class=\"atoms  \" >\n",
       "<a href=\"#\" class=\"nd\">654370</a>\n",
       "\n",
       "\n",
       "\n",
       "<div class=\"patom  \" >\n",
       "\n",
       "    <div class=\"phrase \" >\n",
       "        <a href=\"https://shebanq.ancient-data.org/hebrew/text?book=Genesis&amp;chapter=11&amp;verse=16&amp;version=c&amp;mr=m&amp;qw=q&amp;tp=txt_p&amp;tr=hb&amp;wget=v&amp;qget=v&amp;nget=vt\" title=\"Genesis 11:16\" sec=\"Genesis 11:16\">phrase</a> <a href=\"#\" class=\"nd\">654370</a>  <span class=\"function\">Time</span> <span class=\"typ\">NP</span>\n",
       "    </div>\n",
       "    <div class=\"atoms\">\n",
       "\n",
       "<div class=\"word  hl\"  style=\"background-color: pink;\" >\n",
       "<a href=\"#\" class=\"nd\">5226</a>\n",
       "<div class=\"h\"><a target=\"_blank\" href=\"https://shebanq.ancient-data.org/hebrew/word?version=c&amp;id=1ARBOn\" title=\"show this lexeme in SHEBANQ\">אַרְבַּ֥ע </a></div>\n",
       "<div class=\"features\"> <span class=\"pdp\"><a href=\"https://shebanq.ancient-data.org/hebrew/text?book=Genesis&amp;chapter=11&amp;verse=16&amp;version=c&amp;mr=m&amp;qw=q&amp;tp=txt_p&amp;tr=hb&amp;wget=v&amp;qget=v&amp;nget=vt\" title=\"Genesis 11:16\" sec=\"Genesis 11:16\">subs</a></span> <span class=\"gloss\">four</span> <span class=\"sp xft\"><span class=\"f\">sp=</span>subs</span> <span class=\"st xft\"><span class=\"f\">st=</span>a</span></div>\n",
       "\n",
       "\n",
       "</div>\n",
       "\n",
       "<div class=\"word  hl\"  style=\"background-color: pink;\" >\n",
       "<a href=\"#\" class=\"nd\">5227</a>\n",
       "<div class=\"h\"><a target=\"_blank\" href=\"https://shebanq.ancient-data.org/hebrew/word?version=c&amp;id=1W\" title=\"show this lexeme in SHEBANQ\">וּ</a></div>\n",
       "<div class=\"features\"> <span class=\"pdp\"><a href=\"https://shebanq.ancient-data.org/hebrew/text?book=Genesis&amp;chapter=11&amp;verse=16&amp;version=c&amp;mr=m&amp;qw=q&amp;tp=txt_p&amp;tr=hb&amp;wget=v&amp;qget=v&amp;nget=vt\" title=\"Genesis 11:16\" sec=\"Genesis 11:16\">conj</a></span> <span class=\"gloss\">and</span> <span class=\"sp xft\"><span class=\"f\">sp=</span>conj</span></div>\n",
       "\n",
       "\n",
       "</div>\n",
       "\n",
       "<div class=\"word  hl\"  style=\"background-color: pink;\" >\n",
       "<a href=\"#\" class=\"nd\">5228</a>\n",
       "<div class=\"h\"><a target=\"_blank\" href=\"https://shebanq.ancient-data.org/hebrew/word?version=c&amp;id=1CLCn\" title=\"show this lexeme in SHEBANQ\">שְׁלֹשִׁ֖ים </a></div>\n",
       "<div class=\"features\"> <span class=\"pdp\"><a href=\"https://shebanq.ancient-data.org/hebrew/text?book=Genesis&amp;chapter=11&amp;verse=16&amp;version=c&amp;mr=m&amp;qw=q&amp;tp=txt_p&amp;tr=hb&amp;wget=v&amp;qget=v&amp;nget=vt\" title=\"Genesis 11:16\" sec=\"Genesis 11:16\">subs</a></span> <span class=\"gloss\">three</span> <span class=\"sp xft\"><span class=\"f\">sp=</span>subs</span> <span class=\"st xft\"><span class=\"f\">st=</span>a</span></div>\n",
       "\n",
       "\n",
       "</div>\n",
       "\n",
       "<div class=\"word  hl\"  style=\"background-color: lightblue;\" >\n",
       "<a href=\"#\" class=\"nd\">5229</a>\n",
       "<div class=\"h\"><a target=\"_blank\" href=\"https://shebanq.ancient-data.org/hebrew/word?version=c&amp;id=1CNHn\" title=\"show this lexeme in SHEBANQ\">שָׁנָ֑ה </a></div>\n",
       "<div class=\"features\"> <span class=\"pdp\"><a href=\"https://shebanq.ancient-data.org/hebrew/text?book=Genesis&amp;chapter=11&amp;verse=16&amp;version=c&amp;mr=m&amp;qw=q&amp;tp=txt_p&amp;tr=hb&amp;wget=v&amp;qget=v&amp;nget=vt\" title=\"Genesis 11:16\" sec=\"Genesis 11:16\">subs</a></span> <span class=\"gloss\">year</span> <span class=\"sp xft\"><span class=\"f\">sp=</span>subs</span> <span class=\"st xft\"><span class=\"f\">st=</span>a</span></div>\n",
       "\n",
       "\n",
       "</div>\n",
       "\n",
       "\n",
       "    </div>\n",
       "\n",
       "\n",
       "</div>\n",
       "\n",
       "\n",
       "</div>\n"
      ],
      "text/plain": [
       "<IPython.core.display.HTML object>"
      ]
     },
     "metadata": {},
     "output_type": "display_data"
    },
    {
     "data": {
      "text/html": [
       "<div style=\"background: pink; text-align: center\">numb</div>"
      ],
      "text/plain": [
       "<IPython.core.display.HTML object>"
      ]
     },
     "metadata": {},
     "output_type": "display_data"
    },
    {
     "data": {
      "text/html": [
       "<div style=\"background: lightblue; text-align: center\">head</div>"
      ],
      "text/plain": [
       "<IPython.core.display.HTML object>"
      ]
     },
     "metadata": {},
     "output_type": "display_data"
    },
    {
     "name": "stdout",
     "output_type": "stream",
     "text": [
      "{   '__cx__': 'numb',\n",
      "    'head': 5229,\n",
      "    'numb': {'__cx__': 'card_chain', 'card': 5228, 'conj': 5227, 'head': 5226}}\n",
      "\n"
     ]
    },
    {
     "data": {
      "text/html": [
       "<hr>"
      ],
      "text/plain": [
       "<IPython.core.display.HTML object>"
      ]
     },
     "metadata": {},
     "output_type": "display_data"
    },
    {
     "name": "stdout",
     "output_type": "stream",
     "text": [
      "\n",
      "1448486\n"
     ]
    },
    {
     "data": {
      "text/html": [
       "<p><b>result</b> <i>CX prep {166043, 166044, 166045}</i></p>"
      ],
      "text/plain": [
       "<IPython.core.display.HTML object>"
      ]
     },
     "metadata": {},
     "output_type": "display_data"
    },
    {
     "data": {
      "text/html": [
       "<a href=\"https://shebanq.ancient-data.org/hebrew/text?book=Samuel_II&amp;chapter=11&amp;verse=14&amp;version=c&amp;mr=m&amp;qw=q&amp;tp=txt_p&amp;tr=hb&amp;wget=v&amp;qget=v&amp;nget=vt\" title=\"show this passage in SHEBANQ\" sec=\"2_Samuel 11:14\">2_Samuel 11:14</a>\n",
       "<div class=\"atoms  \" >\n",
       "<a href=\"#\" class=\"nd\">747133</a>\n",
       "\n",
       "\n",
       "\n",
       "<div class=\"patom  \" >\n",
       "\n",
       "    <div class=\"phrase \" >\n",
       "        <a href=\"https://shebanq.ancient-data.org/hebrew/text?book=Samuel_II&amp;chapter=11&amp;verse=14&amp;version=c&amp;mr=m&amp;qw=q&amp;tp=txt_p&amp;tr=hb&amp;wget=v&amp;qget=v&amp;nget=vt\" title=\"2_Samuel 11:14\" sec=\"2_Samuel 11:14\">phrase</a> <a href=\"#\" class=\"nd\">747133</a>  <span class=\"function\">Time</span> <span class=\"typ\">PP</span>\n",
       "    </div>\n",
       "    <div class=\"atoms\">\n",
       "\n",
       "<div class=\"word  hl\"  style=\"background-color: pink;\" >\n",
       "<a href=\"#\" class=\"nd\">166043</a>\n",
       "<div class=\"h\"><a target=\"_blank\" href=\"https://shebanq.ancient-data.org/hebrew/word?version=c&amp;id=1B\" title=\"show this lexeme in SHEBANQ\">בַ</a></div>\n",
       "<div class=\"features\"> <span class=\"pdp\"><a href=\"https://shebanq.ancient-data.org/hebrew/text?book=Samuel_II&amp;chapter=11&amp;verse=14&amp;version=c&amp;mr=m&amp;qw=q&amp;tp=txt_p&amp;tr=hb&amp;wget=v&amp;qget=v&amp;nget=vt\" title=\"2_Samuel 11:14\" sec=\"2_Samuel 11:14\">prep</a></span> <span class=\"gloss\">in</span> <span class=\"sp xft\"><span class=\"f\">sp=</span>prep</span></div>\n",
       "\n",
       "\n",
       "</div>\n",
       "\n",
       "<div class=\"word  hl\"  style=\"background-color: lightblue;\" >\n",
       "<a href=\"#\" class=\"nd\">166044</a>\n",
       "<div class=\"h\"><a target=\"_blank\" href=\"https://shebanq.ancient-data.org/hebrew/word?version=c&amp;id=1H\" title=\"show this lexeme in SHEBANQ\"></a></div>\n",
       "<div class=\"features\"> <span class=\"pdp\"><a href=\"https://shebanq.ancient-data.org/hebrew/text?book=Samuel_II&amp;chapter=11&amp;verse=14&amp;version=c&amp;mr=m&amp;qw=q&amp;tp=txt_p&amp;tr=hb&amp;wget=v&amp;qget=v&amp;nget=vt\" title=\"2_Samuel 11:14\" sec=\"2_Samuel 11:14\">art</a></span> <span class=\"gloss\">the</span> <span class=\"sp xft\"><span class=\"f\">sp=</span>art</span></div>\n",
       "\n",
       "\n",
       "</div>\n",
       "\n",
       "<div class=\"word  hl\"  style=\"background-color: lightblue;\" >\n",
       "<a href=\"#\" class=\"nd\">166045</a>\n",
       "<div class=\"h\"><a target=\"_blank\" href=\"https://shebanq.ancient-data.org/hebrew/word?version=c&amp;id=1BQRin\" title=\"show this lexeme in SHEBANQ\">בֹּ֔קֶר </a></div>\n",
       "<div class=\"features\"> <span class=\"pdp\"><a href=\"https://shebanq.ancient-data.org/hebrew/text?book=Samuel_II&amp;chapter=11&amp;verse=14&amp;version=c&amp;mr=m&amp;qw=q&amp;tp=txt_p&amp;tr=hb&amp;wget=v&amp;qget=v&amp;nget=vt\" title=\"2_Samuel 11:14\" sec=\"2_Samuel 11:14\">subs</a></span> <span class=\"gloss\">morning</span> <span class=\"sp xft\"><span class=\"f\">sp=</span>subs</span> <span class=\"st xft\"><span class=\"f\">st=</span>a</span></div>\n",
       "\n",
       "\n",
       "</div>\n",
       "\n",
       "\n",
       "    </div>\n",
       "\n",
       "\n",
       "</div>\n",
       "\n",
       "\n",
       "</div>\n"
      ],
      "text/plain": [
       "<IPython.core.display.HTML object>"
      ]
     },
     "metadata": {},
     "output_type": "display_data"
    },
    {
     "data": {
      "text/html": [
       "<div style=\"background: pink; text-align: center\">prep</div>"
      ],
      "text/plain": [
       "<IPython.core.display.HTML object>"
      ]
     },
     "metadata": {},
     "output_type": "display_data"
    },
    {
     "data": {
      "text/html": [
       "<div style=\"background: lightblue; text-align: center\">head</div>"
      ],
      "text/plain": [
       "<IPython.core.display.HTML object>"
      ]
     },
     "metadata": {},
     "output_type": "display_data"
    },
    {
     "name": "stdout",
     "output_type": "stream",
     "text": [
      "{   '__cx__': 'prep',\n",
      "    'head': {'__cx__': 'defi', 'defi': 166044, 'head': 166045},\n",
      "    'prep': 166043}\n",
      "\n"
     ]
    },
    {
     "data": {
      "text/html": [
       "<hr>"
      ],
      "text/plain": [
       "<IPython.core.display.HTML object>"
      ]
     },
     "metadata": {},
     "output_type": "display_data"
    },
    {
     "name": "stdout",
     "output_type": "stream",
     "text": [
      "\n",
      "1449607\n"
     ]
    },
    {
     "data": {
      "text/html": [
       "<p><b>result</b> <i>CX prep {303254, 303255, 303256, 303257, 303258}</i></p>"
      ],
      "text/plain": [
       "<IPython.core.display.HTML object>"
      ]
     },
     "metadata": {},
     "output_type": "display_data"
    },
    {
     "data": {
      "text/html": [
       "<a href=\"https://shebanq.ancient-data.org/hebrew/text?book=Zephania&amp;chapter=1&amp;verse=9&amp;version=c&amp;mr=m&amp;qw=q&amp;tp=txt_p&amp;tr=hb&amp;wget=v&amp;qget=v&amp;nget=vt\" title=\"show this passage in SHEBANQ\" sec=\"Zephaniah 1:9\">Zephaniah 1:9</a>\n",
       "<div class=\"atoms  \" >\n",
       "<a href=\"#\" class=\"nd\">830883</a>\n",
       "\n",
       "\n",
       "\n",
       "<div class=\"patom  \" >\n",
       "\n",
       "    <div class=\"phrase \" >\n",
       "        <a href=\"https://shebanq.ancient-data.org/hebrew/text?book=Zephania&amp;chapter=1&amp;verse=9&amp;version=c&amp;mr=m&amp;qw=q&amp;tp=txt_p&amp;tr=hb&amp;wget=v&amp;qget=v&amp;nget=vt\" title=\"Zephaniah 1:9\" sec=\"Zephaniah 1:9\">phrase</a> <a href=\"#\" class=\"nd\">830883</a>  <span class=\"function\">Time</span> <span class=\"typ\">PP</span>\n",
       "    </div>\n",
       "    <div class=\"atoms\">\n",
       "\n",
       "<div class=\"word  hl\"  style=\"background-color: pink;\" >\n",
       "<a href=\"#\" class=\"nd\">303254</a>\n",
       "<div class=\"h\"><a target=\"_blank\" href=\"https://shebanq.ancient-data.org/hebrew/word?version=c&amp;id=1B\" title=\"show this lexeme in SHEBANQ\">בַּ</a></div>\n",
       "<div class=\"features\"> <span class=\"pdp\"><a href=\"https://shebanq.ancient-data.org/hebrew/text?book=Zephania&amp;chapter=1&amp;verse=9&amp;version=c&amp;mr=m&amp;qw=q&amp;tp=txt_p&amp;tr=hb&amp;wget=v&amp;qget=v&amp;nget=vt\" title=\"Zephaniah 1:9\" sec=\"Zephaniah 1:9\">prep</a></span> <span class=\"gloss\">in</span> <span class=\"sp xft\"><span class=\"f\">sp=</span>prep</span></div>\n",
       "\n",
       "\n",
       "</div>\n",
       "\n",
       "<div class=\"word  hl\"  style=\"background-color: lightblue;\" >\n",
       "<a href=\"#\" class=\"nd\">303255</a>\n",
       "<div class=\"h\"><a target=\"_blank\" href=\"https://shebanq.ancient-data.org/hebrew/word?version=c&amp;id=1H\" title=\"show this lexeme in SHEBANQ\"></a></div>\n",
       "<div class=\"features\"> <span class=\"pdp\"><a href=\"https://shebanq.ancient-data.org/hebrew/text?book=Zephania&amp;chapter=1&amp;verse=9&amp;version=c&amp;mr=m&amp;qw=q&amp;tp=txt_p&amp;tr=hb&amp;wget=v&amp;qget=v&amp;nget=vt\" title=\"Zephaniah 1:9\" sec=\"Zephaniah 1:9\">art</a></span> <span class=\"gloss\">the</span> <span class=\"sp xft\"><span class=\"f\">sp=</span>art</span></div>\n",
       "\n",
       "\n",
       "</div>\n",
       "\n",
       "<div class=\"word  hl\"  style=\"background-color: lightblue;\" >\n",
       "<a href=\"#\" class=\"nd\">303256</a>\n",
       "<div class=\"h\"><a target=\"_blank\" href=\"https://shebanq.ancient-data.org/hebrew/word?version=c&amp;id=1JWMn\" title=\"show this lexeme in SHEBANQ\">יֹּ֣ום </a></div>\n",
       "<div class=\"features\"> <span class=\"pdp\"><a href=\"https://shebanq.ancient-data.org/hebrew/text?book=Zephania&amp;chapter=1&amp;verse=9&amp;version=c&amp;mr=m&amp;qw=q&amp;tp=txt_p&amp;tr=hb&amp;wget=v&amp;qget=v&amp;nget=vt\" title=\"Zephaniah 1:9\" sec=\"Zephaniah 1:9\">subs</a></span> <span class=\"gloss\">day</span> <span class=\"sp xft\"><span class=\"f\">sp=</span>subs</span> <span class=\"st xft\"><span class=\"f\">st=</span>a</span></div>\n",
       "\n",
       "\n",
       "</div>\n",
       "\n",
       "<div class=\"word  hl\"  style=\"background-color: lightblue;\" >\n",
       "<a href=\"#\" class=\"nd\">303257</a>\n",
       "<div class=\"h\"><a target=\"_blank\" href=\"https://shebanq.ancient-data.org/hebrew/word?version=c&amp;id=1H\" title=\"show this lexeme in SHEBANQ\">הַ</a></div>\n",
       "<div class=\"features\"> <span class=\"pdp\"><a href=\"https://shebanq.ancient-data.org/hebrew/text?book=Zephania&amp;chapter=1&amp;verse=9&amp;version=c&amp;mr=m&amp;qw=q&amp;tp=txt_p&amp;tr=hb&amp;wget=v&amp;qget=v&amp;nget=vt\" title=\"Zephaniah 1:9\" sec=\"Zephaniah 1:9\">art</a></span> <span class=\"gloss\">the</span> <span class=\"sp xft\"><span class=\"f\">sp=</span>art</span></div>\n",
       "\n",
       "\n",
       "</div>\n",
       "\n",
       "<div class=\"word  hl\"  style=\"background-color: lightblue;\" >\n",
       "<a href=\"#\" class=\"nd\">303258</a>\n",
       "<div class=\"h\"><a target=\"_blank\" href=\"https://shebanq.ancient-data.org/hebrew/word?version=c&amp;id=1HWA\" title=\"show this lexeme in SHEBANQ\">ה֑וּא </a></div>\n",
       "<div class=\"features\"> <span class=\"pdp\"><a href=\"https://shebanq.ancient-data.org/hebrew/text?book=Zephania&amp;chapter=1&amp;verse=9&amp;version=c&amp;mr=m&amp;qw=q&amp;tp=txt_p&amp;tr=hb&amp;wget=v&amp;qget=v&amp;nget=vt\" title=\"Zephaniah 1:9\" sec=\"Zephaniah 1:9\">prde</a></span> <span class=\"gloss\">he</span> <span class=\"sp xft\"><span class=\"f\">sp=</span>prps</span></div>\n",
       "\n",
       "\n",
       "</div>\n",
       "\n",
       "\n",
       "    </div>\n",
       "\n",
       "\n",
       "</div>\n",
       "\n",
       "\n",
       "</div>\n"
      ],
      "text/plain": [
       "<IPython.core.display.HTML object>"
      ]
     },
     "metadata": {},
     "output_type": "display_data"
    },
    {
     "data": {
      "text/html": [
       "<div style=\"background: pink; text-align: center\">prep</div>"
      ],
      "text/plain": [
       "<IPython.core.display.HTML object>"
      ]
     },
     "metadata": {},
     "output_type": "display_data"
    },
    {
     "data": {
      "text/html": [
       "<div style=\"background: lightblue; text-align: center\">head</div>"
      ],
      "text/plain": [
       "<IPython.core.display.HTML object>"
      ]
     },
     "metadata": {},
     "output_type": "display_data"
    },
    {
     "name": "stdout",
     "output_type": "stream",
     "text": [
      "{   '__cx__': 'prep',\n",
      "    'head': {   '__cx__': 'attrib',\n",
      "                'attrib': {'__cx__': 'defi', 'defi': 303257, 'head': 303258},\n",
      "                'head': {'__cx__': 'defi', 'defi': 303255, 'head': 303256}},\n",
      "    'prep': 303254}\n",
      "\n"
     ]
    },
    {
     "data": {
      "text/html": [
       "<hr>"
      ],
      "text/plain": [
       "<IPython.core.display.HTML object>"
      ]
     },
     "metadata": {},
     "output_type": "display_data"
    },
    {
     "name": "stdout",
     "output_type": "stream",
     "text": [
      "\n",
      "1448413\n"
     ]
    },
    {
     "data": {
      "text/html": [
       "<p><b>result</b> <i>CX prep {160306, 160307, 160308, 160309, 160310}</i></p>"
      ],
      "text/plain": [
       "<IPython.core.display.HTML object>"
      ]
     },
     "metadata": {},
     "output_type": "display_data"
    },
    {
     "data": {
      "text/html": [
       "<a href=\"https://shebanq.ancient-data.org/hebrew/text?book=Samuel_I&amp;chapter=31&amp;verse=6&amp;version=c&amp;mr=m&amp;qw=q&amp;tp=txt_p&amp;tr=hb&amp;wget=v&amp;qget=v&amp;nget=vt\" title=\"show this passage in SHEBANQ\" sec=\"1_Samuel 31:6\">1_Samuel 31:6</a>\n",
       "<div class=\"atoms  \" >\n",
       "<a href=\"#\" class=\"nd\">743703</a>\n",
       "\n",
       "\n",
       "\n",
       "<div class=\"patom  \" >\n",
       "\n",
       "    <div class=\"phrase \" >\n",
       "        <a href=\"https://shebanq.ancient-data.org/hebrew/text?book=Samuel_I&amp;chapter=31&amp;verse=6&amp;version=c&amp;mr=m&amp;qw=q&amp;tp=txt_p&amp;tr=hb&amp;wget=v&amp;qget=v&amp;nget=vt\" title=\"1_Samuel 31:6\" sec=\"1_Samuel 31:6\">phrase</a> <a href=\"#\" class=\"nd\">743703</a>  <span class=\"function\">Time</span> <span class=\"typ\">PP</span>\n",
       "    </div>\n",
       "    <div class=\"atoms\">\n",
       "\n",
       "<div class=\"word  hl\"  style=\"background-color: pink;\" >\n",
       "<a href=\"#\" class=\"nd\">160306</a>\n",
       "<div class=\"h\"><a target=\"_blank\" href=\"https://shebanq.ancient-data.org/hebrew/word?version=c&amp;id=1B\" title=\"show this lexeme in SHEBANQ\">בַּ</a></div>\n",
       "<div class=\"features\"> <span class=\"pdp\"><a href=\"https://shebanq.ancient-data.org/hebrew/text?book=Samuel_I&amp;chapter=31&amp;verse=6&amp;version=c&amp;mr=m&amp;qw=q&amp;tp=txt_p&amp;tr=hb&amp;wget=v&amp;qget=v&amp;nget=vt\" title=\"1_Samuel 31:6\" sec=\"1_Samuel 31:6\">prep</a></span> <span class=\"gloss\">in</span> <span class=\"sp xft\"><span class=\"f\">sp=</span>prep</span></div>\n",
       "\n",
       "\n",
       "</div>\n",
       "\n",
       "<div class=\"word  hl\"  style=\"background-color: lightblue;\" >\n",
       "<a href=\"#\" class=\"nd\">160307</a>\n",
       "<div class=\"h\"><a target=\"_blank\" href=\"https://shebanq.ancient-data.org/hebrew/word?version=c&amp;id=1H\" title=\"show this lexeme in SHEBANQ\"></a></div>\n",
       "<div class=\"features\"> <span class=\"pdp\"><a href=\"https://shebanq.ancient-data.org/hebrew/text?book=Samuel_I&amp;chapter=31&amp;verse=6&amp;version=c&amp;mr=m&amp;qw=q&amp;tp=txt_p&amp;tr=hb&amp;wget=v&amp;qget=v&amp;nget=vt\" title=\"1_Samuel 31:6\" sec=\"1_Samuel 31:6\">art</a></span> <span class=\"gloss\">the</span> <span class=\"sp xft\"><span class=\"f\">sp=</span>art</span></div>\n",
       "\n",
       "\n",
       "</div>\n",
       "\n",
       "<div class=\"word  hl\"  style=\"background-color: lightblue;\" >\n",
       "<a href=\"#\" class=\"nd\">160308</a>\n",
       "<div class=\"h\"><a target=\"_blank\" href=\"https://shebanq.ancient-data.org/hebrew/word?version=c&amp;id=1JWMn\" title=\"show this lexeme in SHEBANQ\">יֹּ֥ום </a></div>\n",
       "<div class=\"features\"> <span class=\"pdp\"><a href=\"https://shebanq.ancient-data.org/hebrew/text?book=Samuel_I&amp;chapter=31&amp;verse=6&amp;version=c&amp;mr=m&amp;qw=q&amp;tp=txt_p&amp;tr=hb&amp;wget=v&amp;qget=v&amp;nget=vt\" title=\"1_Samuel 31:6\" sec=\"1_Samuel 31:6\">subs</a></span> <span class=\"gloss\">day</span> <span class=\"sp xft\"><span class=\"f\">sp=</span>subs</span> <span class=\"st xft\"><span class=\"f\">st=</span>a</span></div>\n",
       "\n",
       "\n",
       "</div>\n",
       "\n",
       "<div class=\"word  hl\"  style=\"background-color: lightblue;\" >\n",
       "<a href=\"#\" class=\"nd\">160309</a>\n",
       "<div class=\"h\"><a target=\"_blank\" href=\"https://shebanq.ancient-data.org/hebrew/word?version=c&amp;id=1H\" title=\"show this lexeme in SHEBANQ\">הַ</a></div>\n",
       "<div class=\"features\"> <span class=\"pdp\"><a href=\"https://shebanq.ancient-data.org/hebrew/text?book=Samuel_I&amp;chapter=31&amp;verse=6&amp;version=c&amp;mr=m&amp;qw=q&amp;tp=txt_p&amp;tr=hb&amp;wget=v&amp;qget=v&amp;nget=vt\" title=\"1_Samuel 31:6\" sec=\"1_Samuel 31:6\">art</a></span> <span class=\"gloss\">the</span> <span class=\"sp xft\"><span class=\"f\">sp=</span>art</span></div>\n",
       "\n",
       "\n",
       "</div>\n",
       "\n",
       "<div class=\"word  hl\"  style=\"background-color: lightblue;\" >\n",
       "<a href=\"#\" class=\"nd\">160310</a>\n",
       "<div class=\"h\"><a target=\"_blank\" href=\"https://shebanq.ancient-data.org/hebrew/word?version=c&amp;id=1HWA\" title=\"show this lexeme in SHEBANQ\">ה֖וּא </a></div>\n",
       "<div class=\"features\"> <span class=\"pdp\"><a href=\"https://shebanq.ancient-data.org/hebrew/text?book=Samuel_I&amp;chapter=31&amp;verse=6&amp;version=c&amp;mr=m&amp;qw=q&amp;tp=txt_p&amp;tr=hb&amp;wget=v&amp;qget=v&amp;nget=vt\" title=\"1_Samuel 31:6\" sec=\"1_Samuel 31:6\">prde</a></span> <span class=\"gloss\">he</span> <span class=\"sp xft\"><span class=\"f\">sp=</span>prps</span></div>\n",
       "\n",
       "\n",
       "</div>\n",
       "\n",
       "\n",
       "    </div>\n",
       "\n",
       "\n",
       "</div>\n",
       "\n",
       "\n",
       "</div>\n"
      ],
      "text/plain": [
       "<IPython.core.display.HTML object>"
      ]
     },
     "metadata": {},
     "output_type": "display_data"
    },
    {
     "data": {
      "text/html": [
       "<div style=\"background: pink; text-align: center\">prep</div>"
      ],
      "text/plain": [
       "<IPython.core.display.HTML object>"
      ]
     },
     "metadata": {},
     "output_type": "display_data"
    },
    {
     "data": {
      "text/html": [
       "<div style=\"background: lightblue; text-align: center\">head</div>"
      ],
      "text/plain": [
       "<IPython.core.display.HTML object>"
      ]
     },
     "metadata": {},
     "output_type": "display_data"
    },
    {
     "name": "stdout",
     "output_type": "stream",
     "text": [
      "{   '__cx__': 'prep',\n",
      "    'head': {   '__cx__': 'attrib',\n",
      "                'attrib': {'__cx__': 'defi', 'defi': 160309, 'head': 160310},\n",
      "                'head': {'__cx__': 'defi', 'defi': 160307, 'head': 160308}},\n",
      "    'prep': 160306}\n",
      "\n"
     ]
    },
    {
     "data": {
      "text/html": [
       "<hr>"
      ],
      "text/plain": [
       "<IPython.core.display.HTML object>"
      ]
     },
     "metadata": {},
     "output_type": "display_data"
    },
    {
     "name": "stdout",
     "output_type": "stream",
     "text": [
      "\n",
      "1449704\n"
     ]
    },
    {
     "data": {
      "text/html": [
       "<p><b>result</b> <i>CX prep {311771, 311772}</i></p>"
      ],
      "text/plain": [
       "<IPython.core.display.HTML object>"
      ]
     },
     "metadata": {},
     "output_type": "display_data"
    },
    {
     "data": {
      "text/html": [
       "<a href=\"https://shebanq.ancient-data.org/hebrew/text?book=Psalmi&amp;chapter=10&amp;verse=1&amp;version=c&amp;mr=m&amp;qw=q&amp;tp=txt_p&amp;tr=hb&amp;wget=v&amp;qget=v&amp;nget=vt\" title=\"show this passage in SHEBANQ\" sec=\"Psalms 10:1\">Psalms 10:1</a>\n",
       "<div class=\"atoms  \" >\n",
       "<a href=\"#\" class=\"nd\">836152</a>\n",
       "\n",
       "\n",
       "\n",
       "<div class=\"patom  l \" >\n",
       "\n",
       "    <div class=\"phrase \" >\n",
       "        <a href=\"https://shebanq.ancient-data.org/hebrew/text?book=Psalmi&amp;chapter=10&amp;verse=1&amp;version=c&amp;mr=m&amp;qw=q&amp;tp=txt_p&amp;tr=hb&amp;wget=v&amp;qget=v&amp;nget=vt\" title=\"Psalms 10:1\" sec=\"Psalms 10:1\">phrase</a> <a href=\"#\" class=\"nd\">836152</a>  <span class=\"function\">Time</span> <span class=\"typ\">PP</span>\n",
       "    </div>\n",
       "    <div class=\"atoms\">\n",
       "\n",
       "<div class=\"word  hl\"  style=\"background-color: pink;\" >\n",
       "<a href=\"#\" class=\"nd\">311771</a>\n",
       "<div class=\"h\"><a target=\"_blank\" href=\"https://shebanq.ancient-data.org/hebrew/word?version=c&amp;id=1L\" title=\"show this lexeme in SHEBANQ\">לְ</a></div>\n",
       "<div class=\"features\"> <span class=\"pdp\"><a href=\"https://shebanq.ancient-data.org/hebrew/text?book=Psalmi&amp;chapter=10&amp;verse=1&amp;version=c&amp;mr=m&amp;qw=q&amp;tp=txt_p&amp;tr=hb&amp;wget=v&amp;qget=v&amp;nget=vt\" title=\"Psalms 10:1\" sec=\"Psalms 10:1\">prep</a></span> <span class=\"gloss\">to</span> <span class=\"sp xft\"><span class=\"f\">sp=</span>prep</span></div>\n",
       "\n",
       "\n",
       "</div>\n",
       "\n",
       "<div class=\"word  hl\"  style=\"background-color: lightblue;\" >\n",
       "<a href=\"#\" class=\"nd\">311772</a>\n",
       "<div class=\"h\"><a target=\"_blank\" href=\"https://shebanq.ancient-data.org/hebrew/word?version=c&amp;id=1OTn\" title=\"show this lexeme in SHEBANQ\">עִתֹּ֥ות </a></div>\n",
       "<div class=\"features\"> <span class=\"pdp\"><a href=\"https://shebanq.ancient-data.org/hebrew/text?book=Psalmi&amp;chapter=10&amp;verse=1&amp;version=c&amp;mr=m&amp;qw=q&amp;tp=txt_p&amp;tr=hb&amp;wget=v&amp;qget=v&amp;nget=vt\" title=\"Psalms 10:1\" sec=\"Psalms 10:1\">subs</a></span> <span class=\"gloss\">time</span> <span class=\"sp xft\"><span class=\"f\">sp=</span>subs</span> <span class=\"st xft\"><span class=\"f\">st=</span>a</span></div>\n",
       "\n",
       "\n",
       "</div>\n",
       "\n",
       "\n",
       "    </div>\n",
       "\n",
       "\n",
       "</div>\n",
       "\n",
       "<div class=\"patom  r \" >\n",
       "\n",
       "    <div class=\"phrase \" >\n",
       "        <a href=\"https://shebanq.ancient-data.org/hebrew/text?book=Psalmi&amp;chapter=10&amp;verse=1&amp;version=c&amp;mr=m&amp;qw=q&amp;tp=txt_p&amp;tr=hb&amp;wget=v&amp;qget=v&amp;nget=vt\" title=\"Psalms 10:1\" sec=\"Psalms 10:1\">phrase</a> <a href=\"#\" class=\"nd\">836152</a>  <span class=\"function\">Time</span> <span class=\"typ\">PP</span>\n",
       "    </div>\n",
       "    <div class=\"atoms\">\n",
       "\n",
       "<div class=\"word  \" >\n",
       "<a href=\"#\" class=\"nd\">311773</a>\n",
       "<div class=\"h\"><a target=\"_blank\" href=\"https://shebanq.ancient-data.org/hebrew/word?version=c&amp;id=1B\" title=\"show this lexeme in SHEBANQ\">בַּ</a></div>\n",
       "<div class=\"features\"> <span class=\"pdp\"><a href=\"https://shebanq.ancient-data.org/hebrew/text?book=Psalmi&amp;chapter=10&amp;verse=1&amp;version=c&amp;mr=m&amp;qw=q&amp;tp=txt_p&amp;tr=hb&amp;wget=v&amp;qget=v&amp;nget=vt\" title=\"Psalms 10:1\" sec=\"Psalms 10:1\">prep</a></span> <span class=\"gloss\">in</span> <span class=\"sp xft\"><span class=\"f\">sp=</span>prep</span></div>\n",
       "\n",
       "\n",
       "</div>\n",
       "\n",
       "<div class=\"word  \" >\n",
       "<a href=\"#\" class=\"nd\">311774</a>\n",
       "<div class=\"h\"><a target=\"_blank\" href=\"https://shebanq.ancient-data.org/hebrew/word?version=c&amp;id=1H\" title=\"show this lexeme in SHEBANQ\"></a></div>\n",
       "<div class=\"features\"> <span class=\"pdp\"><a href=\"https://shebanq.ancient-data.org/hebrew/text?book=Psalmi&amp;chapter=10&amp;verse=1&amp;version=c&amp;mr=m&amp;qw=q&amp;tp=txt_p&amp;tr=hb&amp;wget=v&amp;qget=v&amp;nget=vt\" title=\"Psalms 10:1\" sec=\"Psalms 10:1\">art</a></span> <span class=\"gloss\">the</span> <span class=\"sp xft\"><span class=\"f\">sp=</span>art</span></div>\n",
       "\n",
       "\n",
       "</div>\n",
       "\n",
       "<div class=\"word  \" >\n",
       "<a href=\"#\" class=\"nd\">311775</a>\n",
       "<div class=\"h\"><a target=\"_blank\" href=\"https://shebanq.ancient-data.org/hebrew/word?version=c&amp;id=1YRHn\" title=\"show this lexeme in SHEBANQ\">צָּרָֽה׃ </a></div>\n",
       "<div class=\"features\"> <span class=\"pdp\"><a href=\"https://shebanq.ancient-data.org/hebrew/text?book=Psalmi&amp;chapter=10&amp;verse=1&amp;version=c&amp;mr=m&amp;qw=q&amp;tp=txt_p&amp;tr=hb&amp;wget=v&amp;qget=v&amp;nget=vt\" title=\"Psalms 10:1\" sec=\"Psalms 10:1\">subs</a></span> <span class=\"gloss\">distress</span> <span class=\"sp xft\"><span class=\"f\">sp=</span>subs</span> <span class=\"st xft\"><span class=\"f\">st=</span>a</span></div>\n",
       "\n",
       "\n",
       "</div>\n",
       "\n",
       "\n",
       "    </div>\n",
       "\n",
       "\n",
       "</div>\n",
       "\n",
       "\n",
       "</div>\n"
      ],
      "text/plain": [
       "<IPython.core.display.HTML object>"
      ]
     },
     "metadata": {},
     "output_type": "display_data"
    },
    {
     "data": {
      "text/html": [
       "<div style=\"background: pink; text-align: center\">prep</div>"
      ],
      "text/plain": [
       "<IPython.core.display.HTML object>"
      ]
     },
     "metadata": {},
     "output_type": "display_data"
    },
    {
     "data": {
      "text/html": [
       "<div style=\"background: lightblue; text-align: center\">head</div>"
      ],
      "text/plain": [
       "<IPython.core.display.HTML object>"
      ]
     },
     "metadata": {},
     "output_type": "display_data"
    },
    {
     "name": "stdout",
     "output_type": "stream",
     "text": [
      "{'__cx__': 'prep', 'head': 311772, 'prep': 311771}\n",
      "\n"
     ]
    },
    {
     "data": {
      "text/html": [
       "<hr>"
      ],
      "text/plain": [
       "<IPython.core.display.HTML object>"
      ]
     },
     "metadata": {},
     "output_type": "display_data"
    },
    {
     "data": {
      "text/html": [
       "<p><b>result</b> <i>CX prep {311773, 311774, 311775}</i></p>"
      ],
      "text/plain": [
       "<IPython.core.display.HTML object>"
      ]
     },
     "metadata": {},
     "output_type": "display_data"
    },
    {
     "data": {
      "text/html": [
       "<a href=\"https://shebanq.ancient-data.org/hebrew/text?book=Psalmi&amp;chapter=10&amp;verse=1&amp;version=c&amp;mr=m&amp;qw=q&amp;tp=txt_p&amp;tr=hb&amp;wget=v&amp;qget=v&amp;nget=vt\" title=\"show this passage in SHEBANQ\" sec=\"Psalms 10:1\">Psalms 10:1</a>\n",
       "<div class=\"atoms  \" >\n",
       "<a href=\"#\" class=\"nd\">836152</a>\n",
       "\n",
       "\n",
       "\n",
       "<div class=\"patom  l \" >\n",
       "\n",
       "    <div class=\"phrase \" >\n",
       "        <a href=\"https://shebanq.ancient-data.org/hebrew/text?book=Psalmi&amp;chapter=10&amp;verse=1&amp;version=c&amp;mr=m&amp;qw=q&amp;tp=txt_p&amp;tr=hb&amp;wget=v&amp;qget=v&amp;nget=vt\" title=\"Psalms 10:1\" sec=\"Psalms 10:1\">phrase</a> <a href=\"#\" class=\"nd\">836152</a>  <span class=\"function\">Time</span> <span class=\"typ\">PP</span>\n",
       "    </div>\n",
       "    <div class=\"atoms\">\n",
       "\n",
       "<div class=\"word  \" >\n",
       "<a href=\"#\" class=\"nd\">311771</a>\n",
       "<div class=\"h\"><a target=\"_blank\" href=\"https://shebanq.ancient-data.org/hebrew/word?version=c&amp;id=1L\" title=\"show this lexeme in SHEBANQ\">לְ</a></div>\n",
       "<div class=\"features\"> <span class=\"pdp\"><a href=\"https://shebanq.ancient-data.org/hebrew/text?book=Psalmi&amp;chapter=10&amp;verse=1&amp;version=c&amp;mr=m&amp;qw=q&amp;tp=txt_p&amp;tr=hb&amp;wget=v&amp;qget=v&amp;nget=vt\" title=\"Psalms 10:1\" sec=\"Psalms 10:1\">prep</a></span> <span class=\"gloss\">to</span> <span class=\"sp xft\"><span class=\"f\">sp=</span>prep</span></div>\n",
       "\n",
       "\n",
       "</div>\n",
       "\n",
       "<div class=\"word  \" >\n",
       "<a href=\"#\" class=\"nd\">311772</a>\n",
       "<div class=\"h\"><a target=\"_blank\" href=\"https://shebanq.ancient-data.org/hebrew/word?version=c&amp;id=1OTn\" title=\"show this lexeme in SHEBANQ\">עִתֹּ֥ות </a></div>\n",
       "<div class=\"features\"> <span class=\"pdp\"><a href=\"https://shebanq.ancient-data.org/hebrew/text?book=Psalmi&amp;chapter=10&amp;verse=1&amp;version=c&amp;mr=m&amp;qw=q&amp;tp=txt_p&amp;tr=hb&amp;wget=v&amp;qget=v&amp;nget=vt\" title=\"Psalms 10:1\" sec=\"Psalms 10:1\">subs</a></span> <span class=\"gloss\">time</span> <span class=\"sp xft\"><span class=\"f\">sp=</span>subs</span> <span class=\"st xft\"><span class=\"f\">st=</span>a</span></div>\n",
       "\n",
       "\n",
       "</div>\n",
       "\n",
       "\n",
       "    </div>\n",
       "\n",
       "\n",
       "</div>\n",
       "\n",
       "<div class=\"patom  r \" >\n",
       "\n",
       "    <div class=\"phrase \" >\n",
       "        <a href=\"https://shebanq.ancient-data.org/hebrew/text?book=Psalmi&amp;chapter=10&amp;verse=1&amp;version=c&amp;mr=m&amp;qw=q&amp;tp=txt_p&amp;tr=hb&amp;wget=v&amp;qget=v&amp;nget=vt\" title=\"Psalms 10:1\" sec=\"Psalms 10:1\">phrase</a> <a href=\"#\" class=\"nd\">836152</a>  <span class=\"function\">Time</span> <span class=\"typ\">PP</span>\n",
       "    </div>\n",
       "    <div class=\"atoms\">\n",
       "\n",
       "<div class=\"word  hl\"  style=\"background-color: pink;\" >\n",
       "<a href=\"#\" class=\"nd\">311773</a>\n",
       "<div class=\"h\"><a target=\"_blank\" href=\"https://shebanq.ancient-data.org/hebrew/word?version=c&amp;id=1B\" title=\"show this lexeme in SHEBANQ\">בַּ</a></div>\n",
       "<div class=\"features\"> <span class=\"pdp\"><a href=\"https://shebanq.ancient-data.org/hebrew/text?book=Psalmi&amp;chapter=10&amp;verse=1&amp;version=c&amp;mr=m&amp;qw=q&amp;tp=txt_p&amp;tr=hb&amp;wget=v&amp;qget=v&amp;nget=vt\" title=\"Psalms 10:1\" sec=\"Psalms 10:1\">prep</a></span> <span class=\"gloss\">in</span> <span class=\"sp xft\"><span class=\"f\">sp=</span>prep</span></div>\n",
       "\n",
       "\n",
       "</div>\n",
       "\n",
       "<div class=\"word  hl\"  style=\"background-color: lightblue;\" >\n",
       "<a href=\"#\" class=\"nd\">311774</a>\n",
       "<div class=\"h\"><a target=\"_blank\" href=\"https://shebanq.ancient-data.org/hebrew/word?version=c&amp;id=1H\" title=\"show this lexeme in SHEBANQ\"></a></div>\n",
       "<div class=\"features\"> <span class=\"pdp\"><a href=\"https://shebanq.ancient-data.org/hebrew/text?book=Psalmi&amp;chapter=10&amp;verse=1&amp;version=c&amp;mr=m&amp;qw=q&amp;tp=txt_p&amp;tr=hb&amp;wget=v&amp;qget=v&amp;nget=vt\" title=\"Psalms 10:1\" sec=\"Psalms 10:1\">art</a></span> <span class=\"gloss\">the</span> <span class=\"sp xft\"><span class=\"f\">sp=</span>art</span></div>\n",
       "\n",
       "\n",
       "</div>\n",
       "\n",
       "<div class=\"word  hl\"  style=\"background-color: lightblue;\" >\n",
       "<a href=\"#\" class=\"nd\">311775</a>\n",
       "<div class=\"h\"><a target=\"_blank\" href=\"https://shebanq.ancient-data.org/hebrew/word?version=c&amp;id=1YRHn\" title=\"show this lexeme in SHEBANQ\">צָּרָֽה׃ </a></div>\n",
       "<div class=\"features\"> <span class=\"pdp\"><a href=\"https://shebanq.ancient-data.org/hebrew/text?book=Psalmi&amp;chapter=10&amp;verse=1&amp;version=c&amp;mr=m&amp;qw=q&amp;tp=txt_p&amp;tr=hb&amp;wget=v&amp;qget=v&amp;nget=vt\" title=\"Psalms 10:1\" sec=\"Psalms 10:1\">subs</a></span> <span class=\"gloss\">distress</span> <span class=\"sp xft\"><span class=\"f\">sp=</span>subs</span> <span class=\"st xft\"><span class=\"f\">st=</span>a</span></div>\n",
       "\n",
       "\n",
       "</div>\n",
       "\n",
       "\n",
       "    </div>\n",
       "\n",
       "\n",
       "</div>\n",
       "\n",
       "\n",
       "</div>\n"
      ],
      "text/plain": [
       "<IPython.core.display.HTML object>"
      ]
     },
     "metadata": {},
     "output_type": "display_data"
    },
    {
     "data": {
      "text/html": [
       "<div style=\"background: pink; text-align: center\">prep</div>"
      ],
      "text/plain": [
       "<IPython.core.display.HTML object>"
      ]
     },
     "metadata": {},
     "output_type": "display_data"
    },
    {
     "data": {
      "text/html": [
       "<div style=\"background: lightblue; text-align: center\">head</div>"
      ],
      "text/plain": [
       "<IPython.core.display.HTML object>"
      ]
     },
     "metadata": {},
     "output_type": "display_data"
    },
    {
     "name": "stdout",
     "output_type": "stream",
     "text": [
      "{   '__cx__': 'prep',\n",
      "    'head': {'__cx__': 'defi', 'defi': 311774, 'head': 311775},\n",
      "    'prep': 311773}\n",
      "\n"
     ]
    },
    {
     "data": {
      "text/html": [
       "<hr>"
      ],
      "text/plain": [
       "<IPython.core.display.HTML object>"
      ]
     },
     "metadata": {},
     "output_type": "display_data"
    },
    {
     "name": "stdout",
     "output_type": "stream",
     "text": [
      "\n",
      "1447129\n"
     ]
    },
    {
     "data": {
      "text/html": [
       "<p><b>result</b> <i>CX prep {34532, 34533, 34534, 34535}</i></p>"
      ],
      "text/plain": [
       "<IPython.core.display.HTML object>"
      ]
     },
     "metadata": {},
     "output_type": "display_data"
    },
    {
     "data": {
      "text/html": [
       "<a href=\"https://shebanq.ancient-data.org/hebrew/text?book=Exodus&amp;chapter=11&amp;verse=4&amp;version=c&amp;mr=m&amp;qw=q&amp;tp=txt_p&amp;tr=hb&amp;wget=v&amp;qget=v&amp;nget=vt\" title=\"show this passage in SHEBANQ\" sec=\"Exodus 11:4\">Exodus 11:4</a>\n",
       "<div class=\"atoms  \" >\n",
       "<a href=\"#\" class=\"nd\">673042</a>\n",
       "\n",
       "\n",
       "\n",
       "<div class=\"patom  \" >\n",
       "\n",
       "    <div class=\"phrase \" >\n",
       "        <a href=\"https://shebanq.ancient-data.org/hebrew/text?book=Exodus&amp;chapter=11&amp;verse=4&amp;version=c&amp;mr=m&amp;qw=q&amp;tp=txt_p&amp;tr=hb&amp;wget=v&amp;qget=v&amp;nget=vt\" title=\"Exodus 11:4\" sec=\"Exodus 11:4\">phrase</a> <a href=\"#\" class=\"nd\">673042</a>  <span class=\"function\">Time</span> <span class=\"typ\">PP</span>\n",
       "    </div>\n",
       "    <div class=\"atoms\">\n",
       "\n",
       "<div class=\"word  hl\"  style=\"background-color: pink;\" >\n",
       "<a href=\"#\" class=\"nd\">34532</a>\n",
       "<div class=\"h\"><a target=\"_blank\" href=\"https://shebanq.ancient-data.org/hebrew/word?version=c&amp;id=1K\" title=\"show this lexeme in SHEBANQ\">כַּ</a></div>\n",
       "<div class=\"features\"> <span class=\"pdp\"><a href=\"https://shebanq.ancient-data.org/hebrew/text?book=Exodus&amp;chapter=11&amp;verse=4&amp;version=c&amp;mr=m&amp;qw=q&amp;tp=txt_p&amp;tr=hb&amp;wget=v&amp;qget=v&amp;nget=vt\" title=\"Exodus 11:4\" sec=\"Exodus 11:4\">prep</a></span> <span class=\"gloss\">as</span> <span class=\"sp xft\"><span class=\"f\">sp=</span>prep</span></div>\n",
       "\n",
       "\n",
       "</div>\n",
       "\n",
       "<div class=\"word  hl\"  style=\"background-color: lightblue;\" >\n",
       "<a href=\"#\" class=\"nd\">34533</a>\n",
       "<div class=\"h\"><a target=\"_blank\" href=\"https://shebanq.ancient-data.org/hebrew/word?version=c&amp;id=1XYWTn\" title=\"show this lexeme in SHEBANQ\">חֲצֹ֣ת </a></div>\n",
       "<div class=\"features\"> <span class=\"pdp\"><a href=\"https://shebanq.ancient-data.org/hebrew/text?book=Exodus&amp;chapter=11&amp;verse=4&amp;version=c&amp;mr=m&amp;qw=q&amp;tp=txt_p&amp;tr=hb&amp;wget=v&amp;qget=v&amp;nget=vt\" title=\"Exodus 11:4\" sec=\"Exodus 11:4\">subs</a></span> <span class=\"gloss\">middle</span> <span class=\"sp xft\"><span class=\"f\">sp=</span>subs</span> <span class=\"st xft\"><span class=\"f\">st=</span>c</span></div>\n",
       "\n",
       "\n",
       "</div>\n",
       "\n",
       "<div class=\"word  hl\"  style=\"background-color: lightblue;\" >\n",
       "<a href=\"#\" class=\"nd\">34534</a>\n",
       "<div class=\"h\"><a target=\"_blank\" href=\"https://shebanq.ancient-data.org/hebrew/word?version=c&amp;id=1H\" title=\"show this lexeme in SHEBANQ\">הַ</a></div>\n",
       "<div class=\"features\"> <span class=\"pdp\"><a href=\"https://shebanq.ancient-data.org/hebrew/text?book=Exodus&amp;chapter=11&amp;verse=4&amp;version=c&amp;mr=m&amp;qw=q&amp;tp=txt_p&amp;tr=hb&amp;wget=v&amp;qget=v&amp;nget=vt\" title=\"Exodus 11:4\" sec=\"Exodus 11:4\">art</a></span> <span class=\"gloss\">the</span> <span class=\"sp xft\"><span class=\"f\">sp=</span>art</span></div>\n",
       "\n",
       "\n",
       "</div>\n",
       "\n",
       "<div class=\"word  hl\"  style=\"background-color: lightblue;\" >\n",
       "<a href=\"#\" class=\"nd\">34535</a>\n",
       "<div class=\"h\"><a target=\"_blank\" href=\"https://shebanq.ancient-data.org/hebrew/word?version=c&amp;id=1LJLHn\" title=\"show this lexeme in SHEBANQ\">לַּ֔יְלָה </a></div>\n",
       "<div class=\"features\"> <span class=\"pdp\"><a href=\"https://shebanq.ancient-data.org/hebrew/text?book=Exodus&amp;chapter=11&amp;verse=4&amp;version=c&amp;mr=m&amp;qw=q&amp;tp=txt_p&amp;tr=hb&amp;wget=v&amp;qget=v&amp;nget=vt\" title=\"Exodus 11:4\" sec=\"Exodus 11:4\">subs</a></span> <span class=\"gloss\">night</span> <span class=\"sp xft\"><span class=\"f\">sp=</span>subs</span> <span class=\"st xft\"><span class=\"f\">st=</span>a</span></div>\n",
       "\n",
       "\n",
       "</div>\n",
       "\n",
       "\n",
       "    </div>\n",
       "\n",
       "\n",
       "</div>\n",
       "\n",
       "\n",
       "</div>\n"
      ],
      "text/plain": [
       "<IPython.core.display.HTML object>"
      ]
     },
     "metadata": {},
     "output_type": "display_data"
    },
    {
     "data": {
      "text/html": [
       "<div style=\"background: pink; text-align: center\">prep</div>"
      ],
      "text/plain": [
       "<IPython.core.display.HTML object>"
      ]
     },
     "metadata": {},
     "output_type": "display_data"
    },
    {
     "data": {
      "text/html": [
       "<div style=\"background: lightblue; text-align: center\">head</div>"
      ],
      "text/plain": [
       "<IPython.core.display.HTML object>"
      ]
     },
     "metadata": {},
     "output_type": "display_data"
    },
    {
     "name": "stdout",
     "output_type": "stream",
     "text": [
      "{   '__cx__': 'prep',\n",
      "    'head': {   '__cx__': 'geni',\n",
      "                'geni': {'__cx__': 'defi', 'defi': 34534, 'head': 34535},\n",
      "                'head': 34533},\n",
      "    'prep': 34532}\n",
      "\n"
     ]
    },
    {
     "data": {
      "text/html": [
       "<hr>"
      ],
      "text/plain": [
       "<IPython.core.display.HTML object>"
      ]
     },
     "metadata": {},
     "output_type": "display_data"
    },
    {
     "name": "stdout",
     "output_type": "stream",
     "text": [
      "\n",
      "1448778\n"
     ]
    },
    {
     "data": {
      "text/html": [
       "<p><b>result</b> <i>CX prep {195852, 195853, 195854, 195855}</i></p>"
      ],
      "text/plain": [
       "<IPython.core.display.HTML object>"
      ]
     },
     "metadata": {},
     "output_type": "display_data"
    },
    {
     "data": {
      "text/html": [
       "<a href=\"https://shebanq.ancient-data.org/hebrew/text?book=Reges_II&amp;chapter=3&amp;verse=1&amp;version=c&amp;mr=m&amp;qw=q&amp;tp=txt_p&amp;tr=hb&amp;wget=v&amp;qget=v&amp;nget=vt\" title=\"show this passage in SHEBANQ\" sec=\"2_Kings 3:1\">2_Kings 3:1</a>\n",
       "<div class=\"atoms  \" >\n",
       "<a href=\"#\" class=\"nd\">764828</a>\n",
       "\n",
       "\n",
       "\n",
       "<div class=\"patom  l \" >\n",
       "\n",
       "    <div class=\"phrase \" >\n",
       "        <a href=\"https://shebanq.ancient-data.org/hebrew/text?book=Reges_II&amp;chapter=3&amp;verse=1&amp;version=c&amp;mr=m&amp;qw=q&amp;tp=txt_p&amp;tr=hb&amp;wget=v&amp;qget=v&amp;nget=vt\" title=\"2_Kings 3:1\" sec=\"2_Kings 3:1\">phrase</a> <a href=\"#\" class=\"nd\">764828</a>  <span class=\"function\">Time</span> <span class=\"typ\">PP</span>\n",
       "    </div>\n",
       "    <div class=\"atoms\">\n",
       "\n",
       "<div class=\"word  hl\"  style=\"background-color: pink;\" >\n",
       "<a href=\"#\" class=\"nd\">195852</a>\n",
       "<div class=\"h\"><a target=\"_blank\" href=\"https://shebanq.ancient-data.org/hebrew/word?version=c&amp;id=1B\" title=\"show this lexeme in SHEBANQ\">בִּ</a></div>\n",
       "<div class=\"features\"> <span class=\"pdp\"><a href=\"https://shebanq.ancient-data.org/hebrew/text?book=Reges_II&amp;chapter=3&amp;verse=1&amp;version=c&amp;mr=m&amp;qw=q&amp;tp=txt_p&amp;tr=hb&amp;wget=v&amp;qget=v&amp;nget=vt\" title=\"2_Kings 3:1\" sec=\"2_Kings 3:1\">prep</a></span> <span class=\"gloss\">in</span> <span class=\"sp xft\"><span class=\"f\">sp=</span>prep</span></div>\n",
       "\n",
       "\n",
       "</div>\n",
       "\n",
       "<div class=\"word  hl\"  style=\"background-color: lightblue;\" >\n",
       "<a href=\"#\" class=\"nd\">195853</a>\n",
       "<div class=\"h\"><a target=\"_blank\" href=\"https://shebanq.ancient-data.org/hebrew/word?version=c&amp;id=1CNHn\" title=\"show this lexeme in SHEBANQ\">שְׁנַת֙ </a></div>\n",
       "<div class=\"features\"> <span class=\"pdp\"><a href=\"https://shebanq.ancient-data.org/hebrew/text?book=Reges_II&amp;chapter=3&amp;verse=1&amp;version=c&amp;mr=m&amp;qw=q&amp;tp=txt_p&amp;tr=hb&amp;wget=v&amp;qget=v&amp;nget=vt\" title=\"2_Kings 3:1\" sec=\"2_Kings 3:1\">subs</a></span> <span class=\"gloss\">year</span> <span class=\"sp xft\"><span class=\"f\">sp=</span>subs</span> <span class=\"st xft\"><span class=\"f\">st=</span>c</span></div>\n",
       "\n",
       "\n",
       "</div>\n",
       "\n",
       "<div class=\"word  hl\"  style=\"background-color: lightblue;\" >\n",
       "<a href=\"#\" class=\"nd\">195854</a>\n",
       "<div class=\"h\"><a target=\"_blank\" href=\"https://shebanq.ancient-data.org/hebrew/word?version=c&amp;id=1CMNHn\" title=\"show this lexeme in SHEBANQ\">שְׁמֹנֶ֣ה </a></div>\n",
       "<div class=\"features\"> <span class=\"pdp\"><a href=\"https://shebanq.ancient-data.org/hebrew/text?book=Reges_II&amp;chapter=3&amp;verse=1&amp;version=c&amp;mr=m&amp;qw=q&amp;tp=txt_p&amp;tr=hb&amp;wget=v&amp;qget=v&amp;nget=vt\" title=\"2_Kings 3:1\" sec=\"2_Kings 3:1\">subs</a></span> <span class=\"gloss\">eight</span> <span class=\"sp xft\"><span class=\"f\">sp=</span>subs</span> <span class=\"st xft\"><span class=\"f\">st=</span>a</span></div>\n",
       "\n",
       "\n",
       "</div>\n",
       "\n",
       "<div class=\"word  hl\"  style=\"background-color: lightblue;\" >\n",
       "<a href=\"#\" class=\"nd\">195855</a>\n",
       "<div class=\"h\"><a target=\"_blank\" href=\"https://shebanq.ancient-data.org/hebrew/word?version=c&amp;id=1OFRHn\" title=\"show this lexeme in SHEBANQ\">עֶשְׂרֵ֔ה </a></div>\n",
       "<div class=\"features\"> <span class=\"pdp\"><a href=\"https://shebanq.ancient-data.org/hebrew/text?book=Reges_II&amp;chapter=3&amp;verse=1&amp;version=c&amp;mr=m&amp;qw=q&amp;tp=txt_p&amp;tr=hb&amp;wget=v&amp;qget=v&amp;nget=vt\" title=\"2_Kings 3:1\" sec=\"2_Kings 3:1\">subs</a></span> <span class=\"gloss\">-teen</span> <span class=\"sp xft\"><span class=\"f\">sp=</span>subs</span> <span class=\"st xft\"><span class=\"f\">st=</span>a</span></div>\n",
       "\n",
       "\n",
       "</div>\n",
       "\n",
       "\n",
       "    </div>\n",
       "\n",
       "\n",
       "</div>\n",
       "\n",
       "<div class=\"patom  r l \" >\n",
       "\n",
       "    <div class=\"phrase \" >\n",
       "        <a href=\"https://shebanq.ancient-data.org/hebrew/text?book=Reges_II&amp;chapter=3&amp;verse=1&amp;version=c&amp;mr=m&amp;qw=q&amp;tp=txt_p&amp;tr=hb&amp;wget=v&amp;qget=v&amp;nget=vt\" title=\"2_Kings 3:1\" sec=\"2_Kings 3:1\">phrase</a> <a href=\"#\" class=\"nd\">764828</a>  <span class=\"function\">Time</span> <span class=\"typ\">PP</span>\n",
       "    </div>\n",
       "    <div class=\"atoms\">\n",
       "\n",
       "<div class=\"word  \" >\n",
       "<a href=\"#\" class=\"nd\">195856</a>\n",
       "<div class=\"h\"><a target=\"_blank\" href=\"https://shebanq.ancient-data.org/hebrew/word?version=c&amp;id=1L\" title=\"show this lexeme in SHEBANQ\">לִ</a></div>\n",
       "<div class=\"features\"> <span class=\"pdp\"><a href=\"https://shebanq.ancient-data.org/hebrew/text?book=Reges_II&amp;chapter=3&amp;verse=1&amp;version=c&amp;mr=m&amp;qw=q&amp;tp=txt_p&amp;tr=hb&amp;wget=v&amp;qget=v&amp;nget=vt\" title=\"2_Kings 3:1\" sec=\"2_Kings 3:1\">prep</a></span> <span class=\"gloss\">to</span> <span class=\"sp xft\"><span class=\"f\">sp=</span>prep</span></div>\n",
       "\n",
       "\n",
       "</div>\n",
       "\n",
       "<div class=\"word  \" >\n",
       "<a href=\"#\" class=\"nd\">195857</a>\n",
       "<div class=\"h\"><a target=\"_blank\" href=\"https://shebanq.ancient-data.org/hebrew/word?version=c&amp;id=1JHWCPVn\" title=\"show this lexeme in SHEBANQ\">יהֹושָׁפָ֖ט </a></div>\n",
       "<div class=\"features\"> <span class=\"pdp\"><a href=\"https://shebanq.ancient-data.org/hebrew/text?book=Reges_II&amp;chapter=3&amp;verse=1&amp;version=c&amp;mr=m&amp;qw=q&amp;tp=txt_p&amp;tr=hb&amp;wget=v&amp;qget=v&amp;nget=vt\" title=\"2_Kings 3:1\" sec=\"2_Kings 3:1\">nmpr</a></span> <span class=\"gloss\">Jehoshaphat</span> <span class=\"sp xft\"><span class=\"f\">sp=</span>nmpr</span> <span class=\"st xft\"><span class=\"f\">st=</span>a</span></div>\n",
       "\n",
       "\n",
       "</div>\n",
       "\n",
       "\n",
       "    </div>\n",
       "\n",
       "\n",
       "</div>\n",
       "\n",
       "<div class=\"patom  r \" >\n",
       "\n",
       "    <div class=\"phrase \" >\n",
       "        <a href=\"https://shebanq.ancient-data.org/hebrew/text?book=Reges_II&amp;chapter=3&amp;verse=1&amp;version=c&amp;mr=m&amp;qw=q&amp;tp=txt_p&amp;tr=hb&amp;wget=v&amp;qget=v&amp;nget=vt\" title=\"2_Kings 3:1\" sec=\"2_Kings 3:1\">phrase</a> <a href=\"#\" class=\"nd\">764828</a>  <span class=\"function\">Time</span> <span class=\"typ\">PP|NP</span>\n",
       "    </div>\n",
       "    <div class=\"atoms\">\n",
       "\n",
       "<div class=\"word  \" >\n",
       "<a href=\"#\" class=\"nd\">195858</a>\n",
       "<div class=\"h\"><a target=\"_blank\" href=\"https://shebanq.ancient-data.org/hebrew/word?version=c&amp;id=1MLKn\" title=\"show this lexeme in SHEBANQ\">מֶ֣לֶךְ </a></div>\n",
       "<div class=\"features\"> <span class=\"pdp\"><a href=\"https://shebanq.ancient-data.org/hebrew/text?book=Reges_II&amp;chapter=3&amp;verse=1&amp;version=c&amp;mr=m&amp;qw=q&amp;tp=txt_p&amp;tr=hb&amp;wget=v&amp;qget=v&amp;nget=vt\" title=\"2_Kings 3:1\" sec=\"2_Kings 3:1\">subs</a></span> <span class=\"gloss\">king</span> <span class=\"sp xft\"><span class=\"f\">sp=</span>subs</span> <span class=\"st xft\"><span class=\"f\">st=</span>c</span></div>\n",
       "\n",
       "\n",
       "</div>\n",
       "\n",
       "<div class=\"word  \" >\n",
       "<a href=\"#\" class=\"nd\">195859</a>\n",
       "<div class=\"h\"><a target=\"_blank\" href=\"https://shebanq.ancient-data.org/hebrew/word?version=c&amp;id=1JHWDHn\" title=\"show this lexeme in SHEBANQ\">יְהוּדָ֑ה </a></div>\n",
       "<div class=\"features\"> <span class=\"pdp\"><a href=\"https://shebanq.ancient-data.org/hebrew/text?book=Reges_II&amp;chapter=3&amp;verse=1&amp;version=c&amp;mr=m&amp;qw=q&amp;tp=txt_p&amp;tr=hb&amp;wget=v&amp;qget=v&amp;nget=vt\" title=\"2_Kings 3:1\" sec=\"2_Kings 3:1\">nmpr</a></span> <span class=\"gloss\">Judah</span> <span class=\"sp xft\"><span class=\"f\">sp=</span>nmpr</span> <span class=\"st xft\"><span class=\"f\">st=</span>a</span></div>\n",
       "\n",
       "\n",
       "</div>\n",
       "\n",
       "\n",
       "    </div>\n",
       "\n",
       "\n",
       "</div>\n",
       "\n",
       "\n",
       "</div>\n"
      ],
      "text/plain": [
       "<IPython.core.display.HTML object>"
      ]
     },
     "metadata": {},
     "output_type": "display_data"
    },
    {
     "data": {
      "text/html": [
       "<div style=\"background: pink; text-align: center\">prep</div>"
      ],
      "text/plain": [
       "<IPython.core.display.HTML object>"
      ]
     },
     "metadata": {},
     "output_type": "display_data"
    },
    {
     "data": {
      "text/html": [
       "<div style=\"background: lightblue; text-align: center\">head</div>"
      ],
      "text/plain": [
       "<IPython.core.display.HTML object>"
      ]
     },
     "metadata": {},
     "output_type": "display_data"
    },
    {
     "name": "stdout",
     "output_type": "stream",
     "text": [
      "{   '__cx__': 'prep',\n",
      "    'head': {   '__cx__': 'geni',\n",
      "                'geni': {   '__cx__': 'card_chain',\n",
      "                            'card': 195855,\n",
      "                            'head': 195854},\n",
      "                'head': 195853},\n",
      "    'prep': 195852}\n",
      "\n"
     ]
    },
    {
     "data": {
      "text/html": [
       "<hr>"
      ],
      "text/plain": [
       "<IPython.core.display.HTML object>"
      ]
     },
     "metadata": {},
     "output_type": "display_data"
    },
    {
     "data": {
      "text/html": [
       "<p><b>result</b> <i>CX prep {195856, 195857}</i></p>"
      ],
      "text/plain": [
       "<IPython.core.display.HTML object>"
      ]
     },
     "metadata": {},
     "output_type": "display_data"
    },
    {
     "data": {
      "text/html": [
       "<a href=\"https://shebanq.ancient-data.org/hebrew/text?book=Reges_II&amp;chapter=3&amp;verse=1&amp;version=c&amp;mr=m&amp;qw=q&amp;tp=txt_p&amp;tr=hb&amp;wget=v&amp;qget=v&amp;nget=vt\" title=\"show this passage in SHEBANQ\" sec=\"2_Kings 3:1\">2_Kings 3:1</a>\n",
       "<div class=\"atoms  \" >\n",
       "<a href=\"#\" class=\"nd\">764828</a>\n",
       "\n",
       "\n",
       "\n",
       "<div class=\"patom  l \" >\n",
       "\n",
       "    <div class=\"phrase \" >\n",
       "        <a href=\"https://shebanq.ancient-data.org/hebrew/text?book=Reges_II&amp;chapter=3&amp;verse=1&amp;version=c&amp;mr=m&amp;qw=q&amp;tp=txt_p&amp;tr=hb&amp;wget=v&amp;qget=v&amp;nget=vt\" title=\"2_Kings 3:1\" sec=\"2_Kings 3:1\">phrase</a> <a href=\"#\" class=\"nd\">764828</a>  <span class=\"function\">Time</span> <span class=\"typ\">PP</span>\n",
       "    </div>\n",
       "    <div class=\"atoms\">\n",
       "\n",
       "<div class=\"word  \" >\n",
       "<a href=\"#\" class=\"nd\">195852</a>\n",
       "<div class=\"h\"><a target=\"_blank\" href=\"https://shebanq.ancient-data.org/hebrew/word?version=c&amp;id=1B\" title=\"show this lexeme in SHEBANQ\">בִּ</a></div>\n",
       "<div class=\"features\"> <span class=\"pdp\"><a href=\"https://shebanq.ancient-data.org/hebrew/text?book=Reges_II&amp;chapter=3&amp;verse=1&amp;version=c&amp;mr=m&amp;qw=q&amp;tp=txt_p&amp;tr=hb&amp;wget=v&amp;qget=v&amp;nget=vt\" title=\"2_Kings 3:1\" sec=\"2_Kings 3:1\">prep</a></span> <span class=\"gloss\">in</span> <span class=\"sp xft\"><span class=\"f\">sp=</span>prep</span></div>\n",
       "\n",
       "\n",
       "</div>\n",
       "\n",
       "<div class=\"word  \" >\n",
       "<a href=\"#\" class=\"nd\">195853</a>\n",
       "<div class=\"h\"><a target=\"_blank\" href=\"https://shebanq.ancient-data.org/hebrew/word?version=c&amp;id=1CNHn\" title=\"show this lexeme in SHEBANQ\">שְׁנַת֙ </a></div>\n",
       "<div class=\"features\"> <span class=\"pdp\"><a href=\"https://shebanq.ancient-data.org/hebrew/text?book=Reges_II&amp;chapter=3&amp;verse=1&amp;version=c&amp;mr=m&amp;qw=q&amp;tp=txt_p&amp;tr=hb&amp;wget=v&amp;qget=v&amp;nget=vt\" title=\"2_Kings 3:1\" sec=\"2_Kings 3:1\">subs</a></span> <span class=\"gloss\">year</span> <span class=\"sp xft\"><span class=\"f\">sp=</span>subs</span> <span class=\"st xft\"><span class=\"f\">st=</span>c</span></div>\n",
       "\n",
       "\n",
       "</div>\n",
       "\n",
       "<div class=\"word  \" >\n",
       "<a href=\"#\" class=\"nd\">195854</a>\n",
       "<div class=\"h\"><a target=\"_blank\" href=\"https://shebanq.ancient-data.org/hebrew/word?version=c&amp;id=1CMNHn\" title=\"show this lexeme in SHEBANQ\">שְׁמֹנֶ֣ה </a></div>\n",
       "<div class=\"features\"> <span class=\"pdp\"><a href=\"https://shebanq.ancient-data.org/hebrew/text?book=Reges_II&amp;chapter=3&amp;verse=1&amp;version=c&amp;mr=m&amp;qw=q&amp;tp=txt_p&amp;tr=hb&amp;wget=v&amp;qget=v&amp;nget=vt\" title=\"2_Kings 3:1\" sec=\"2_Kings 3:1\">subs</a></span> <span class=\"gloss\">eight</span> <span class=\"sp xft\"><span class=\"f\">sp=</span>subs</span> <span class=\"st xft\"><span class=\"f\">st=</span>a</span></div>\n",
       "\n",
       "\n",
       "</div>\n",
       "\n",
       "<div class=\"word  \" >\n",
       "<a href=\"#\" class=\"nd\">195855</a>\n",
       "<div class=\"h\"><a target=\"_blank\" href=\"https://shebanq.ancient-data.org/hebrew/word?version=c&amp;id=1OFRHn\" title=\"show this lexeme in SHEBANQ\">עֶשְׂרֵ֔ה </a></div>\n",
       "<div class=\"features\"> <span class=\"pdp\"><a href=\"https://shebanq.ancient-data.org/hebrew/text?book=Reges_II&amp;chapter=3&amp;verse=1&amp;version=c&amp;mr=m&amp;qw=q&amp;tp=txt_p&amp;tr=hb&amp;wget=v&amp;qget=v&amp;nget=vt\" title=\"2_Kings 3:1\" sec=\"2_Kings 3:1\">subs</a></span> <span class=\"gloss\">-teen</span> <span class=\"sp xft\"><span class=\"f\">sp=</span>subs</span> <span class=\"st xft\"><span class=\"f\">st=</span>a</span></div>\n",
       "\n",
       "\n",
       "</div>\n",
       "\n",
       "\n",
       "    </div>\n",
       "\n",
       "\n",
       "</div>\n",
       "\n",
       "<div class=\"patom  r l \" >\n",
       "\n",
       "    <div class=\"phrase \" >\n",
       "        <a href=\"https://shebanq.ancient-data.org/hebrew/text?book=Reges_II&amp;chapter=3&amp;verse=1&amp;version=c&amp;mr=m&amp;qw=q&amp;tp=txt_p&amp;tr=hb&amp;wget=v&amp;qget=v&amp;nget=vt\" title=\"2_Kings 3:1\" sec=\"2_Kings 3:1\">phrase</a> <a href=\"#\" class=\"nd\">764828</a>  <span class=\"function\">Time</span> <span class=\"typ\">PP</span>\n",
       "    </div>\n",
       "    <div class=\"atoms\">\n",
       "\n",
       "<div class=\"word  hl\"  style=\"background-color: pink;\" >\n",
       "<a href=\"#\" class=\"nd\">195856</a>\n",
       "<div class=\"h\"><a target=\"_blank\" href=\"https://shebanq.ancient-data.org/hebrew/word?version=c&amp;id=1L\" title=\"show this lexeme in SHEBANQ\">לִ</a></div>\n",
       "<div class=\"features\"> <span class=\"pdp\"><a href=\"https://shebanq.ancient-data.org/hebrew/text?book=Reges_II&amp;chapter=3&amp;verse=1&amp;version=c&amp;mr=m&amp;qw=q&amp;tp=txt_p&amp;tr=hb&amp;wget=v&amp;qget=v&amp;nget=vt\" title=\"2_Kings 3:1\" sec=\"2_Kings 3:1\">prep</a></span> <span class=\"gloss\">to</span> <span class=\"sp xft\"><span class=\"f\">sp=</span>prep</span></div>\n",
       "\n",
       "\n",
       "</div>\n",
       "\n",
       "<div class=\"word  hl\"  style=\"background-color: lightblue;\" >\n",
       "<a href=\"#\" class=\"nd\">195857</a>\n",
       "<div class=\"h\"><a target=\"_blank\" href=\"https://shebanq.ancient-data.org/hebrew/word?version=c&amp;id=1JHWCPVn\" title=\"show this lexeme in SHEBANQ\">יהֹושָׁפָ֖ט </a></div>\n",
       "<div class=\"features\"> <span class=\"pdp\"><a href=\"https://shebanq.ancient-data.org/hebrew/text?book=Reges_II&amp;chapter=3&amp;verse=1&amp;version=c&amp;mr=m&amp;qw=q&amp;tp=txt_p&amp;tr=hb&amp;wget=v&amp;qget=v&amp;nget=vt\" title=\"2_Kings 3:1\" sec=\"2_Kings 3:1\">nmpr</a></span> <span class=\"gloss\">Jehoshaphat</span> <span class=\"sp xft\"><span class=\"f\">sp=</span>nmpr</span> <span class=\"st xft\"><span class=\"f\">st=</span>a</span></div>\n",
       "\n",
       "\n",
       "</div>\n",
       "\n",
       "\n",
       "    </div>\n",
       "\n",
       "\n",
       "</div>\n",
       "\n",
       "<div class=\"patom  r \" >\n",
       "\n",
       "    <div class=\"phrase \" >\n",
       "        <a href=\"https://shebanq.ancient-data.org/hebrew/text?book=Reges_II&amp;chapter=3&amp;verse=1&amp;version=c&amp;mr=m&amp;qw=q&amp;tp=txt_p&amp;tr=hb&amp;wget=v&amp;qget=v&amp;nget=vt\" title=\"2_Kings 3:1\" sec=\"2_Kings 3:1\">phrase</a> <a href=\"#\" class=\"nd\">764828</a>  <span class=\"function\">Time</span> <span class=\"typ\">PP|NP</span>\n",
       "    </div>\n",
       "    <div class=\"atoms\">\n",
       "\n",
       "<div class=\"word  \" >\n",
       "<a href=\"#\" class=\"nd\">195858</a>\n",
       "<div class=\"h\"><a target=\"_blank\" href=\"https://shebanq.ancient-data.org/hebrew/word?version=c&amp;id=1MLKn\" title=\"show this lexeme in SHEBANQ\">מֶ֣לֶךְ </a></div>\n",
       "<div class=\"features\"> <span class=\"pdp\"><a href=\"https://shebanq.ancient-data.org/hebrew/text?book=Reges_II&amp;chapter=3&amp;verse=1&amp;version=c&amp;mr=m&amp;qw=q&amp;tp=txt_p&amp;tr=hb&amp;wget=v&amp;qget=v&amp;nget=vt\" title=\"2_Kings 3:1\" sec=\"2_Kings 3:1\">subs</a></span> <span class=\"gloss\">king</span> <span class=\"sp xft\"><span class=\"f\">sp=</span>subs</span> <span class=\"st xft\"><span class=\"f\">st=</span>c</span></div>\n",
       "\n",
       "\n",
       "</div>\n",
       "\n",
       "<div class=\"word  \" >\n",
       "<a href=\"#\" class=\"nd\">195859</a>\n",
       "<div class=\"h\"><a target=\"_blank\" href=\"https://shebanq.ancient-data.org/hebrew/word?version=c&amp;id=1JHWDHn\" title=\"show this lexeme in SHEBANQ\">יְהוּדָ֑ה </a></div>\n",
       "<div class=\"features\"> <span class=\"pdp\"><a href=\"https://shebanq.ancient-data.org/hebrew/text?book=Reges_II&amp;chapter=3&amp;verse=1&amp;version=c&amp;mr=m&amp;qw=q&amp;tp=txt_p&amp;tr=hb&amp;wget=v&amp;qget=v&amp;nget=vt\" title=\"2_Kings 3:1\" sec=\"2_Kings 3:1\">nmpr</a></span> <span class=\"gloss\">Judah</span> <span class=\"sp xft\"><span class=\"f\">sp=</span>nmpr</span> <span class=\"st xft\"><span class=\"f\">st=</span>a</span></div>\n",
       "\n",
       "\n",
       "</div>\n",
       "\n",
       "\n",
       "    </div>\n",
       "\n",
       "\n",
       "</div>\n",
       "\n",
       "\n",
       "</div>\n"
      ],
      "text/plain": [
       "<IPython.core.display.HTML object>"
      ]
     },
     "metadata": {},
     "output_type": "display_data"
    },
    {
     "data": {
      "text/html": [
       "<div style=\"background: pink; text-align: center\">prep</div>"
      ],
      "text/plain": [
       "<IPython.core.display.HTML object>"
      ]
     },
     "metadata": {},
     "output_type": "display_data"
    },
    {
     "data": {
      "text/html": [
       "<div style=\"background: lightblue; text-align: center\">head</div>"
      ],
      "text/plain": [
       "<IPython.core.display.HTML object>"
      ]
     },
     "metadata": {},
     "output_type": "display_data"
    },
    {
     "name": "stdout",
     "output_type": "stream",
     "text": [
      "{'__cx__': 'prep', 'head': 195857, 'prep': 195856}\n",
      "\n"
     ]
    },
    {
     "data": {
      "text/html": [
       "<hr>"
      ],
      "text/plain": [
       "<IPython.core.display.HTML object>"
      ]
     },
     "metadata": {},
     "output_type": "display_data"
    },
    {
     "data": {
      "text/html": [
       "<p><b>result</b> <i>CX geni {195858, 195859}</i></p>"
      ],
      "text/plain": [
       "<IPython.core.display.HTML object>"
      ]
     },
     "metadata": {},
     "output_type": "display_data"
    },
    {
     "data": {
      "text/html": [
       "<a href=\"https://shebanq.ancient-data.org/hebrew/text?book=Reges_II&amp;chapter=3&amp;verse=1&amp;version=c&amp;mr=m&amp;qw=q&amp;tp=txt_p&amp;tr=hb&amp;wget=v&amp;qget=v&amp;nget=vt\" title=\"show this passage in SHEBANQ\" sec=\"2_Kings 3:1\">2_Kings 3:1</a>\n",
       "<div class=\"atoms  \" >\n",
       "<a href=\"#\" class=\"nd\">764828</a>\n",
       "\n",
       "\n",
       "\n",
       "<div class=\"patom  l \" >\n",
       "\n",
       "    <div class=\"phrase \" >\n",
       "        <a href=\"https://shebanq.ancient-data.org/hebrew/text?book=Reges_II&amp;chapter=3&amp;verse=1&amp;version=c&amp;mr=m&amp;qw=q&amp;tp=txt_p&amp;tr=hb&amp;wget=v&amp;qget=v&amp;nget=vt\" title=\"2_Kings 3:1\" sec=\"2_Kings 3:1\">phrase</a> <a href=\"#\" class=\"nd\">764828</a>  <span class=\"function\">Time</span> <span class=\"typ\">PP</span>\n",
       "    </div>\n",
       "    <div class=\"atoms\">\n",
       "\n",
       "<div class=\"word  \" >\n",
       "<a href=\"#\" class=\"nd\">195852</a>\n",
       "<div class=\"h\"><a target=\"_blank\" href=\"https://shebanq.ancient-data.org/hebrew/word?version=c&amp;id=1B\" title=\"show this lexeme in SHEBANQ\">בִּ</a></div>\n",
       "<div class=\"features\"> <span class=\"pdp\"><a href=\"https://shebanq.ancient-data.org/hebrew/text?book=Reges_II&amp;chapter=3&amp;verse=1&amp;version=c&amp;mr=m&amp;qw=q&amp;tp=txt_p&amp;tr=hb&amp;wget=v&amp;qget=v&amp;nget=vt\" title=\"2_Kings 3:1\" sec=\"2_Kings 3:1\">prep</a></span> <span class=\"gloss\">in</span> <span class=\"sp xft\"><span class=\"f\">sp=</span>prep</span></div>\n",
       "\n",
       "\n",
       "</div>\n",
       "\n",
       "<div class=\"word  \" >\n",
       "<a href=\"#\" class=\"nd\">195853</a>\n",
       "<div class=\"h\"><a target=\"_blank\" href=\"https://shebanq.ancient-data.org/hebrew/word?version=c&amp;id=1CNHn\" title=\"show this lexeme in SHEBANQ\">שְׁנַת֙ </a></div>\n",
       "<div class=\"features\"> <span class=\"pdp\"><a href=\"https://shebanq.ancient-data.org/hebrew/text?book=Reges_II&amp;chapter=3&amp;verse=1&amp;version=c&amp;mr=m&amp;qw=q&amp;tp=txt_p&amp;tr=hb&amp;wget=v&amp;qget=v&amp;nget=vt\" title=\"2_Kings 3:1\" sec=\"2_Kings 3:1\">subs</a></span> <span class=\"gloss\">year</span> <span class=\"sp xft\"><span class=\"f\">sp=</span>subs</span> <span class=\"st xft\"><span class=\"f\">st=</span>c</span></div>\n",
       "\n",
       "\n",
       "</div>\n",
       "\n",
       "<div class=\"word  \" >\n",
       "<a href=\"#\" class=\"nd\">195854</a>\n",
       "<div class=\"h\"><a target=\"_blank\" href=\"https://shebanq.ancient-data.org/hebrew/word?version=c&amp;id=1CMNHn\" title=\"show this lexeme in SHEBANQ\">שְׁמֹנֶ֣ה </a></div>\n",
       "<div class=\"features\"> <span class=\"pdp\"><a href=\"https://shebanq.ancient-data.org/hebrew/text?book=Reges_II&amp;chapter=3&amp;verse=1&amp;version=c&amp;mr=m&amp;qw=q&amp;tp=txt_p&amp;tr=hb&amp;wget=v&amp;qget=v&amp;nget=vt\" title=\"2_Kings 3:1\" sec=\"2_Kings 3:1\">subs</a></span> <span class=\"gloss\">eight</span> <span class=\"sp xft\"><span class=\"f\">sp=</span>subs</span> <span class=\"st xft\"><span class=\"f\">st=</span>a</span></div>\n",
       "\n",
       "\n",
       "</div>\n",
       "\n",
       "<div class=\"word  \" >\n",
       "<a href=\"#\" class=\"nd\">195855</a>\n",
       "<div class=\"h\"><a target=\"_blank\" href=\"https://shebanq.ancient-data.org/hebrew/word?version=c&amp;id=1OFRHn\" title=\"show this lexeme in SHEBANQ\">עֶשְׂרֵ֔ה </a></div>\n",
       "<div class=\"features\"> <span class=\"pdp\"><a href=\"https://shebanq.ancient-data.org/hebrew/text?book=Reges_II&amp;chapter=3&amp;verse=1&amp;version=c&amp;mr=m&amp;qw=q&amp;tp=txt_p&amp;tr=hb&amp;wget=v&amp;qget=v&amp;nget=vt\" title=\"2_Kings 3:1\" sec=\"2_Kings 3:1\">subs</a></span> <span class=\"gloss\">-teen</span> <span class=\"sp xft\"><span class=\"f\">sp=</span>subs</span> <span class=\"st xft\"><span class=\"f\">st=</span>a</span></div>\n",
       "\n",
       "\n",
       "</div>\n",
       "\n",
       "\n",
       "    </div>\n",
       "\n",
       "\n",
       "</div>\n",
       "\n",
       "<div class=\"patom  r l \" >\n",
       "\n",
       "    <div class=\"phrase \" >\n",
       "        <a href=\"https://shebanq.ancient-data.org/hebrew/text?book=Reges_II&amp;chapter=3&amp;verse=1&amp;version=c&amp;mr=m&amp;qw=q&amp;tp=txt_p&amp;tr=hb&amp;wget=v&amp;qget=v&amp;nget=vt\" title=\"2_Kings 3:1\" sec=\"2_Kings 3:1\">phrase</a> <a href=\"#\" class=\"nd\">764828</a>  <span class=\"function\">Time</span> <span class=\"typ\">PP</span>\n",
       "    </div>\n",
       "    <div class=\"atoms\">\n",
       "\n",
       "<div class=\"word  \" >\n",
       "<a href=\"#\" class=\"nd\">195856</a>\n",
       "<div class=\"h\"><a target=\"_blank\" href=\"https://shebanq.ancient-data.org/hebrew/word?version=c&amp;id=1L\" title=\"show this lexeme in SHEBANQ\">לִ</a></div>\n",
       "<div class=\"features\"> <span class=\"pdp\"><a href=\"https://shebanq.ancient-data.org/hebrew/text?book=Reges_II&amp;chapter=3&amp;verse=1&amp;version=c&amp;mr=m&amp;qw=q&amp;tp=txt_p&amp;tr=hb&amp;wget=v&amp;qget=v&amp;nget=vt\" title=\"2_Kings 3:1\" sec=\"2_Kings 3:1\">prep</a></span> <span class=\"gloss\">to</span> <span class=\"sp xft\"><span class=\"f\">sp=</span>prep</span></div>\n",
       "\n",
       "\n",
       "</div>\n",
       "\n",
       "<div class=\"word  \" >\n",
       "<a href=\"#\" class=\"nd\">195857</a>\n",
       "<div class=\"h\"><a target=\"_blank\" href=\"https://shebanq.ancient-data.org/hebrew/word?version=c&amp;id=1JHWCPVn\" title=\"show this lexeme in SHEBANQ\">יהֹושָׁפָ֖ט </a></div>\n",
       "<div class=\"features\"> <span class=\"pdp\"><a href=\"https://shebanq.ancient-data.org/hebrew/text?book=Reges_II&amp;chapter=3&amp;verse=1&amp;version=c&amp;mr=m&amp;qw=q&amp;tp=txt_p&amp;tr=hb&amp;wget=v&amp;qget=v&amp;nget=vt\" title=\"2_Kings 3:1\" sec=\"2_Kings 3:1\">nmpr</a></span> <span class=\"gloss\">Jehoshaphat</span> <span class=\"sp xft\"><span class=\"f\">sp=</span>nmpr</span> <span class=\"st xft\"><span class=\"f\">st=</span>a</span></div>\n",
       "\n",
       "\n",
       "</div>\n",
       "\n",
       "\n",
       "    </div>\n",
       "\n",
       "\n",
       "</div>\n",
       "\n",
       "<div class=\"patom  r \" >\n",
       "\n",
       "    <div class=\"phrase \" >\n",
       "        <a href=\"https://shebanq.ancient-data.org/hebrew/text?book=Reges_II&amp;chapter=3&amp;verse=1&amp;version=c&amp;mr=m&amp;qw=q&amp;tp=txt_p&amp;tr=hb&amp;wget=v&amp;qget=v&amp;nget=vt\" title=\"2_Kings 3:1\" sec=\"2_Kings 3:1\">phrase</a> <a href=\"#\" class=\"nd\">764828</a>  <span class=\"function\">Time</span> <span class=\"typ\">PP|NP</span>\n",
       "    </div>\n",
       "    <div class=\"atoms\">\n",
       "\n",
       "<div class=\"word  hl\"  style=\"background-color: lightblue;\" >\n",
       "<a href=\"#\" class=\"nd\">195858</a>\n",
       "<div class=\"h\"><a target=\"_blank\" href=\"https://shebanq.ancient-data.org/hebrew/word?version=c&amp;id=1MLKn\" title=\"show this lexeme in SHEBANQ\">מֶ֣לֶךְ </a></div>\n",
       "<div class=\"features\"> <span class=\"pdp\"><a href=\"https://shebanq.ancient-data.org/hebrew/text?book=Reges_II&amp;chapter=3&amp;verse=1&amp;version=c&amp;mr=m&amp;qw=q&amp;tp=txt_p&amp;tr=hb&amp;wget=v&amp;qget=v&amp;nget=vt\" title=\"2_Kings 3:1\" sec=\"2_Kings 3:1\">subs</a></span> <span class=\"gloss\">king</span> <span class=\"sp xft\"><span class=\"f\">sp=</span>subs</span> <span class=\"st xft\"><span class=\"f\">st=</span>c</span></div>\n",
       "\n",
       "\n",
       "</div>\n",
       "\n",
       "<div class=\"word  hl\"  style=\"background-color: pink;\" >\n",
       "<a href=\"#\" class=\"nd\">195859</a>\n",
       "<div class=\"h\"><a target=\"_blank\" href=\"https://shebanq.ancient-data.org/hebrew/word?version=c&amp;id=1JHWDHn\" title=\"show this lexeme in SHEBANQ\">יְהוּדָ֑ה </a></div>\n",
       "<div class=\"features\"> <span class=\"pdp\"><a href=\"https://shebanq.ancient-data.org/hebrew/text?book=Reges_II&amp;chapter=3&amp;verse=1&amp;version=c&amp;mr=m&amp;qw=q&amp;tp=txt_p&amp;tr=hb&amp;wget=v&amp;qget=v&amp;nget=vt\" title=\"2_Kings 3:1\" sec=\"2_Kings 3:1\">nmpr</a></span> <span class=\"gloss\">Judah</span> <span class=\"sp xft\"><span class=\"f\">sp=</span>nmpr</span> <span class=\"st xft\"><span class=\"f\">st=</span>a</span></div>\n",
       "\n",
       "\n",
       "</div>\n",
       "\n",
       "\n",
       "    </div>\n",
       "\n",
       "\n",
       "</div>\n",
       "\n",
       "\n",
       "</div>\n"
      ],
      "text/plain": [
       "<IPython.core.display.HTML object>"
      ]
     },
     "metadata": {},
     "output_type": "display_data"
    },
    {
     "data": {
      "text/html": [
       "<div style=\"background: pink; text-align: center\">geni</div>"
      ],
      "text/plain": [
       "<IPython.core.display.HTML object>"
      ]
     },
     "metadata": {},
     "output_type": "display_data"
    },
    {
     "data": {
      "text/html": [
       "<div style=\"background: lightblue; text-align: center\">head</div>"
      ],
      "text/plain": [
       "<IPython.core.display.HTML object>"
      ]
     },
     "metadata": {},
     "output_type": "display_data"
    },
    {
     "name": "stdout",
     "output_type": "stream",
     "text": [
      "{'__cx__': 'geni', 'geni': 195859, 'head': 195858}\n",
      "\n"
     ]
    },
    {
     "data": {
      "text/html": [
       "<hr>"
      ],
      "text/plain": [
       "<IPython.core.display.HTML object>"
      ]
     },
     "metadata": {},
     "output_type": "display_data"
    },
    {
     "name": "stdout",
     "output_type": "stream",
     "text": [
      "\n"
     ]
    }
   ],
   "source": [
    "for phrase in shuff[:25]:\n",
    "    print(phrase)\n",
    "    for cx in getcxs(phrase):\n",
    "        showmatch(cx)\n",
    "    print()"
   ]
  },
  {
   "cell_type": "code",
   "execution_count": null,
   "metadata": {},
   "outputs": [],
   "source": []
  }
 ],
 "metadata": {
  "kernelspec": {
   "display_name": "Python 3",
   "language": "python",
   "name": "python3"
  },
  "language_info": {
   "codemirror_mode": {
    "name": "ipython",
    "version": 3
   },
   "file_extension": ".py",
   "mimetype": "text/x-python",
   "name": "python",
   "nbconvert_exporter": "python",
   "pygments_lexer": "ipython3",
   "version": "3.7.0"
  }
 },
 "nbformat": 4,
 "nbformat_minor": 2
}
