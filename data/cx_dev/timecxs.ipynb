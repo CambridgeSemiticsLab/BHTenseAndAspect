{
 "cells": [
  {
   "cell_type": "markdown",
   "metadata": {},
   "source": [
    "# Composing Time Constructions\n",
    "\n",
    "The current method for isolating phrase heads ([here](https://nbviewer.jupyter.org/github/ETCBC/heads/blob/master/phrase_heads.ipynb)) requires strenuous and ineloquent processing of BHSA subphrase relations. The subphrases are not always consistently encoded and suffer from numerous exceptional cases. The result is that the method is rather convoluted and ineloquent.\n",
    "\n",
    "This notebook will explore the possibility of disconnecting semantic head analysis from the ETCBC subphrase encoding. \n",
    "\n",
    "A \"semantic\" head is the primary content word of a phrase, following Croft's \"Primary Information Bearing Unit\":\n",
    "\n",
    "> **The noun and the verb are the PRIMARY INFORMATION_BEARING UNITS (PIBUs) of the phrase and clause respectively. In common parlance, they are the content words. PIBUs have major informational content that functional elements such as articles and [auxiliaries] do not have. (Croft, *Radical Construction Grammar*, 2001, 258; see also Shead, *Radical Frame Semantics and Biblical Hebrew*, 104)**\n",
    "\n",
    "> **A (semantic) head is the profile equivalent that is the primary information-bearing unit, that is, the most contentful item that most closely profiles the same kind of thing that the whole constituent profiles. (ibid., 259)**\n",
    "\n",
    "Croft also provides an additional criterion to \"profile equivalence\":\n",
    "\n",
    "> **If the criterion of profile equivalence produces two candidates for headhood, the less schematic meaning is the PIBU; that is, the PIBU is the one with the narrower extension, in the formal semantic sense of that term (ibid., 259)**\n",
    "\n",
    "## Inquiry\n",
    "\n",
    "Can we isolate semantic phrase heads in BHSA using only the phrase_atom and phrase limits? This question indeed means that we  take the phrase_atom/phrase boundaries for granted. Empirically, the validity of BHSA phrase boundaries needs to be tested. But for now, the exercise of isolating semantic phrase heads could be seen as the first step towards reproducible phrase boundaries.\n",
    "\n",
    "## Basic Concepts\n",
    "\n",
    "A semantic head will most often stand in a syntactically independent position. For Hebrew nominal phrases, that essentially means a word which is not precided by a construct, and which is semantically central (excluding attributive slots (e.g. H + noun + H + ATTRIBUTIVE) or an adjectival slots (e.g. noun + noun as in אישׁ טוב).\n",
    "\n",
    "Quantifier expressions present unique cases, which may be syntactically independent but semantically secondary. These are expressed through specialized lexical items such as cardinal numbers and qualitative quantifiers (e.g.  \"כל\" and \"חצי\").\n",
    "\n",
    "Another complication is the use of nouns as prepositional items. Such uses can be seen with words like פני \"face\" such as לפני \"in front,\" and even words like ראשׁ as in ראשׁ החדשׁ \"beginning of the month.\" \n",
    "\n",
    "Other expressions of quantity, quality, and function provide similar complexities. These cases have to be specified in advance.\n",
    "\n",
    "### Ambiguity\n",
    "\n",
    "Considerable ambiguity is present in several of cases:\n",
    "\n",
    "**`A B and C`**<br>\n",
    "Given A, B, C == nominal words. Is their relationship `A // B // C` or `A+B // C`. In other words: **what is the relationship of two adjacent nominal words given a list?** Is B a descriptor of A or is it an independent element? \n",
    "\n",
    "**`A of B and C`**<br>\n",
    "Is it, `(A of B) // (C)` or `(A of (B // C)`\n",
    "\n",
    "Or even:\n",
    "\n",
    "**`A of B C and D`**<br>\n",
    "This pattern combines elements from both ambiguous cases.\n",
    "\n",
    "To address these ambiguities we will apply a battery of disambiguation attempts. Some of those attempts will draw from corpus data, i.e. do we ever see `B and C` with the conjunction explicitly elsewhere in the corpus? Or do we ever see a `A of C` excplicitly in the corpus? Accents may also play a role: do we see a conjunctive or disjunctive accent between `B C`? \n",
    "\n",
    "## Prerequisites\n",
    "\n",
    "A number of pre-defined word sets are needed for processing quantification and ambiguous adjacency. These sets are made available in the form of `wsets`, a dictionary containing word sets that are calculated in to the `wordsets` directory of this repository. The following wordsets have been defined:\n",
    "\n",
    "* nominals – a set of word nodes with parts of speech and participles that have the potential to function as nominalized elements. The selected parts of speech are quite permissive: `{'subs', 'nmpr', 'adjv', 'advb', 'prde', 'prps', 'prin', 'inrg'}`. Since parts of speech are not taken as universal linguistic categories but only summaries of language-specific word tendencies (cf. Croft, *Radical Construction Grammar*, 2001), we consider that almost any part of speech can be used in a nominal pattern (or construction). There are some upper limits to this assumption, though. For instance, we exclude cojunctions, articles, prepositions, and negators. \n",
    "* prepositions – a word set consisting of words with a part of speech category of `prep`, a lexical set (`ls`) feature of `ppre` (\"potential preposition\"), as well as a select group of nouns like פני \"face\" which have been processed for prepositionality. \n",
    "* quantifiers - consists of word nodes that are cardinal numbers or qualitative quantifiers such as כל.\n",
    "* mword – mapping from a word to its phonological word group (\"masoretic word\"); joins words on maqqeph and ø space\n",
    "* accent_type – a mapping from a word to its accent type: conjunctive or disjunctive\n",
    "* conj_pairs – a dict of observed conjunction pairings of lexemes in the corpus: `A & B`\n",
    "* cons_pairs – a dict of observed construct pairings of lexemes in the corpus: `A of B`\n",
    "* mom – mapping from word node to its mother word node for a specified relationship: `mom[A]['coord'] = B`\n",
    "* kid – opposite of mom; mapping from word to its children nodes for a relationship: `kid[A]['cons'] = B`\n",
    "\n",
    "**Let's get started**. We load the necessary functions and BHSA data (straight from source)."
   ]
  },
  {
   "cell_type": "code",
   "execution_count": 1,
   "metadata": {},
   "outputs": [
    {
     "name": "stdout",
     "output_type": "stream",
     "text": [
      "This is Text-Fabric 7.8.12\n",
      "Api reference : https://annotation.github.io/text-fabric/Api/Fabric/\n",
      "\n",
      "123 features found and 6 ignored\n",
      "  0.00s loading features ...\n",
      "   |     0.00s No structure info in otext, the structure part of the T-API cannot be used\n",
      "  9.80s All features loaded/computed - for details use loadLog()\n"
     ]
    },
    {
     "data": {
      "text/html": [
       "<style>\n",
       "@font-face {\n",
       "  font-family: \"Ezra SIL\";\n",
       "  src:\n",
       "    local(\"SILEOT.ttf\"),\n",
       "    url(\"https://github.com/annotation/text-fabric/blob/master/tf/server/static/fonts/SILEOT.woff?raw=true\");\n",
       "}\n",
       ".features {\n",
       "    font-family: monospace;\n",
       "    font-size: medium;\n",
       "    font-weight: bold;\n",
       "    color: #0a6611;\n",
       "    display: flex;\n",
       "    flex-flow: column nowrap;\n",
       "    padding: 0.1em;\n",
       "    margin: 0.1em;\n",
       "    direction: ltr;\n",
       "}\n",
       ".features div,.features span {\n",
       "    padding: 0;\n",
       "    margin: -0.1rem 0;\n",
       "}\n",
       ".features .f {\n",
       "    font-family: sans-serif;\n",
       "    font-size: x-small;\n",
       "    font-weight: normal;\n",
       "    color: #5555bb;\n",
       "}\n",
       ".features .xft {\n",
       "  color: #000000;\n",
       "  background-color: #eeeeee;\n",
       "  font-size: medium;\n",
       "  margin: 0.1em 0em;\n",
       "}\n",
       ".features .xft .f {\n",
       "  color: #000000;\n",
       "  background-color: #eeeeee;\n",
       "  font-style: italic;\n",
       "  font-size: small;\n",
       "  font-weight: normal;\n",
       "}\n",
       ".ltr {\n",
       "    direction: ltr ! important;\n",
       "}\n",
       ".verse {\n",
       "    display: flex;\n",
       "    flex-flow: row wrap;\n",
       "    direction: rtl;\n",
       "}\n",
       ".vl {\n",
       "    display: flex;\n",
       "    flex-flow: column nowrap;\n",
       "    justify-content: flex-end;\n",
       "    align-items: flex-end;\n",
       "    direction: ltr;\n",
       "    width: 100%;\n",
       "}\n",
       ".outeritem {\n",
       "    display: flex;\n",
       "    flex-flow: row wrap;\n",
       "    direction: rtl;\n",
       "}\n",
       ".sentence,.clause,.phrase {\n",
       "    margin-top: -1.2em;\n",
       "    margin-left: 1em;\n",
       "    background: #ffffff none repeat scroll 0 0;\n",
       "    padding: 0 0.3em;\n",
       "    border-style: solid;\n",
       "    border-radius: 0.2em;\n",
       "    font-size: small;\n",
       "    display: block;\n",
       "    width: fit-content;\n",
       "    max-width: fit-content;\n",
       "    direction: ltr;\n",
       "}\n",
       ".atoms {\n",
       "    display: flex;\n",
       "    flex-flow: row wrap;\n",
       "    margin: 0.3em;\n",
       "    padding: 0.3em;\n",
       "    direction: rtl;\n",
       "    background-color: #ffffff;\n",
       "}\n",
       ".satom,.catom,.patom {\n",
       "    margin: 0.3em;\n",
       "    padding: 0.3em;\n",
       "    border-radius: 0.3em;\n",
       "    border-style: solid;\n",
       "    display: flex;\n",
       "    flex-flow: column nowrap;\n",
       "    direction: rtl;\n",
       "    background-color: #ffffff;\n",
       "}\n",
       ".sentence {\n",
       "    border-color: #aa3333;\n",
       "    border-width: 1px;\n",
       "}\n",
       ".clause {\n",
       "    border-color: #aaaa33;\n",
       "    border-width: 1px;\n",
       "}\n",
       ".phrase {\n",
       "    border-color: #33aaaa;\n",
       "    border-width: 1px;\n",
       "}\n",
       ".satom {\n",
       "    border-color: #aa3333;\n",
       "    border-width: 4px;\n",
       "}\n",
       ".catom {\n",
       "    border-color: #aaaa33;\n",
       "    border-width: 3px;\n",
       "}\n",
       ".patom {\n",
       "    border-color: #33aaaa;\n",
       "    border-width: 3px;\n",
       "}\n",
       ".word {\n",
       "    padding: 0.1em;\n",
       "    margin: 0.1em;\n",
       "    border-radius: 0.1em;\n",
       "    border: 1px solid #cccccc;\n",
       "    display: flex;\n",
       "    flex-flow: column nowrap;\n",
       "    direction: rtl;\n",
       "    background-color: #ffffff;\n",
       "}\n",
       ".lextp {\n",
       "    padding: 0.1em;\n",
       "    margin: 0.1em;\n",
       "    border-radius: 0.1em;\n",
       "    border: 2px solid #888888;\n",
       "    width: fit-content;\n",
       "    display: flex;\n",
       "    flex-flow: column nowrap;\n",
       "    direction: rtl;\n",
       "    background-color: #ffffff;\n",
       "}\n",
       ".occs {\n",
       "    font-size: x-small;\n",
       "}\n",
       ".satom.l,.catom.l,.patom.l {\n",
       "    border-left-style: dotted\n",
       "}\n",
       ".satom.r,.catom.r,.patom.r {\n",
       "    border-right-style: dotted\n",
       "}\n",
       ".satom.lno,.catom.lno,.patom.lno {\n",
       "    border-left-style: none\n",
       "}\n",
       ".satom.rno,.catom.rno,.patom.rno {\n",
       "    border-right-style: none\n",
       "}\n",
       ".tr,.tr a:visited,.tr a:link {\n",
       "    font-family: sans-serif;\n",
       "    font-size: large;\n",
       "    color: #000044;\n",
       "    direction: ltr;\n",
       "    text-decoration: none;\n",
       "}\n",
       ".trb,.trb a:visited,.trb a:link {\n",
       "    font-family: sans-serif;\n",
       "    font-size: normal;\n",
       "    direction: ltr;\n",
       "    text-decoration: none;\n",
       "}\n",
       ".prb,.prb a:visited,.prb a:link {\n",
       "    font-family: sans-serif;\n",
       "    font-size: large;\n",
       "    direction: ltr;\n",
       "    text-decoration: none;\n",
       "}\n",
       ".h,.h a:visited,.h a:link {\n",
       "    font-family: \"Ezra SIL\", \"SBL Hebrew\", sans-serif;\n",
       "    font-size: large;\n",
       "    color: #000044;\n",
       "    direction: rtl;\n",
       "    text-decoration: none;\n",
       "}\n",
       ".hb,.hb a:visited,.hb a:link {\n",
       "    font-family: \"Ezra SIL\", \"SBL Hebrew\", sans-serif;\n",
       "    font-size: large;\n",
       "    line-height: 2;\n",
       "    direction: rtl;\n",
       "    text-decoration: none;\n",
       "}\n",
       ".vn {\n",
       "  font-size: small !important;\n",
       "  padding-right: 1em;\n",
       "}\n",
       ".rela,.function,.typ {\n",
       "    font-family: monospace;\n",
       "    font-size: small;\n",
       "    color: #0000bb;\n",
       "}\n",
       ".pdp,.pdp a:visited,.pdp a:link {\n",
       "    font-family: monospace;\n",
       "    font-size: medium;\n",
       "    color: #0000bb;\n",
       "    text-decoration: none;\n",
       "}\n",
       ".voc_lex {\n",
       "    font-family: monospace;\n",
       "    font-size: medium;\n",
       "    color: #0000bb;\n",
       "}\n",
       ".vs {\n",
       "    font-family: monospace;\n",
       "    font-size: medium;\n",
       "    font-weight: bold;\n",
       "    color: #0000bb;\n",
       "}\n",
       ".vt {\n",
       "    font-family: monospace;\n",
       "    font-size: medium;\n",
       "    font-weight: bold;\n",
       "    color: #0000bb;\n",
       "}\n",
       ".gloss {\n",
       "    font-family: sans-serif;\n",
       "    font-size: small;\n",
       "    font-weight: normal;\n",
       "    color: #444444;\n",
       "}\n",
       ".vrs {\n",
       "    font-family: sans-serif;\n",
       "    font-size: small;\n",
       "    font-weight: bold;\n",
       "    color: #444444;\n",
       "}\n",
       ".nd {\n",
       "    font-family: monospace;\n",
       "    font-size: x-small;\n",
       "    color: #999999;\n",
       "}\n",
       ".hl {\n",
       "    background-color: #ffee66;\n",
       "}\n",
       "\n",
       "tr.tf, td.tf, th.tf {\n",
       "  text-align: left;\n",
       "}\n",
       "\n",
       "span.hldot {\n",
       "\tbackground-color: var(--hl-strong);\n",
       "\tborder: 0.2rem solid var(--hl-rim);\n",
       "\tborder-radius: 0.4rem;\n",
       "\t/*\n",
       "\tdisplay: inline-block;\n",
       "\twidth: 0.8rem;\n",
       "\theight: 0.8rem;\n",
       "\t*/\n",
       "}\n",
       "span.hl {\n",
       "\tbackground-color: var(--hl-strong);\n",
       "\tborder-width: 0;\n",
       "\tborder-radius: 0.1rem;\n",
       "\tborder-style: solid;\n",
       "}\n",
       "\n",
       "span.hlup {\n",
       "\tborder-color: var(--hl-dark);\n",
       "\tborder-width: 0.1rem;\n",
       "\tborder-style: solid;\n",
       "\tborder-radius: 0.2rem;\n",
       "  padding: 0.2rem;\n",
       "}\n",
       "\n",
       ":root {\n",
       "\t--hl-strong:        hsla( 60, 100%,  70%, 0.9  );\n",
       "\t--hl-rim:           hsla( 55, 100%,  60%, 0.9  );\n",
       "\t--hl-dark:          hsla( 55, 100%,  40%, 0.9  );\n",
       "}\n",
       "</style>"
      ],
      "text/plain": [
       "<IPython.core.display.HTML object>"
      ]
     },
     "metadata": {},
     "output_type": "display_data"
    }
   ],
   "source": [
    "import sys\n",
    "import collections\n",
    "import pickle\n",
    "import random\n",
    "import re\n",
    "import itertools\n",
    "import copy\n",
    "import numpy as np\n",
    "from IPython.display import display, HTML\n",
    "from datetime import datetime\n",
    "from pprint import pprint\n",
    "from tf.app import use\n",
    "from tf.fabric import Fabric\n",
    "from tools.locations import data_locations\n",
    "\n",
    "# load semantic vectors\n",
    "with open('semvector.pickle', 'rb') as infile: \n",
    "    semdist = pickle.load(infile)\n",
    "\n",
    "# load custom BHSA data + heads\n",
    "TF = Fabric(locations=data_locations.values())\n",
    "load_features = ['g_cons_utf8', 'trailer_utf8', 'label', 'lex',\n",
    "                 'role', 'rela', 'typ', 'function', 'language',\n",
    "                 'pdp', 'gloss', 'vs', 'vt', 'nhead', 'head', \n",
    "                 'mother', 'nu', 'prs', 'sem_set', 'ls', 'st',\n",
    "                 'kind', 'top_assoc', 'number', 'obj_prep',\n",
    "                 'embed', 'freq_lex', 'sp']\n",
    "api = TF.load(' '.join(load_features))\n",
    "F, E, T, L = api.F, api.E, api.T, api.L # shortform TF methods\n",
    "\n",
    "A = use('bhsa', api=api, silent=True)\n",
    "A.displaySetup(condenseType='phrase', withNodes=True, extraFeatures='st')"
   ]
  },
  {
   "cell_type": "markdown",
   "metadata": {},
   "source": [
    "# Machinery\n",
    "\n",
    "We could use some machinery to do the hard work of looking in and around a node. In the older approach we used TF search templates. But these are not very efficient at scale, and they are always bound by the limits of the query language. I take another approach here: a set of classes that specify locations and directions within a specified context."
   ]
  },
  {
   "cell_type": "code",
   "execution_count": 2,
   "metadata": {},
   "outputs": [],
   "source": [
    "from tools.langtools import Positions, PositionsTF, Walker, Dummy"
   ]
  },
  {
   "cell_type": "markdown",
   "metadata": {},
   "source": [
    "## `Positions(TF)`"
   ]
  },
  {
   "cell_type": "markdown",
   "metadata": {},
   "source": [
    "The `Positions` class enables concise access to adjacent nodes within a given context. This allows us to write algorithms with query-like efficiency with all of the power of Python. "
   ]
  },
  {
   "cell_type": "markdown",
   "metadata": {},
   "source": [
    "This class is instantiated on a word node and can provide contextual look-up data for a given word. For example, given a phrase containing the following word nodes:\n",
    "\n",
    "> (189681, 189682, **189683**, 189684, 189685, 189686) <br>\n",
    "\n",
    "representing the following phrase (space separated for clarity):\n",
    "\n",
    "> ב שׁנת **שׁלשׁים** ו שׁמנה שׁנה\n",
    "\n",
    "Given that the bolded node, `189683` is our `source` word, we instantiate the class, feeding in the node, the \"phrase_atom\" string (which is the context we want to search within), and an instance of Text-Fabric (`tf`):"
   ]
  },
  {
   "cell_type": "code",
   "execution_count": 3,
   "metadata": {},
   "outputs": [],
   "source": [
    "      #    source node    context  TF instance  \n",
    "      #         |            |       |\n",
    "P = PositionsTF(189683, 'phrase_atom', A).get"
   ]
  },
  {
   "cell_type": "markdown",
   "metadata": {},
   "source": [
    "If we want to obtain the word adjacent one space forward, we simply ask `P` for `1`, which gives us the next word in the phrase."
   ]
  },
  {
   "cell_type": "code",
   "execution_count": 4,
   "metadata": {},
   "outputs": [
    {
     "data": {
      "text/plain": [
       "189684"
      ]
     },
     "execution_count": 4,
     "metadata": {},
     "output_type": "execute_result"
    }
   ],
   "source": [
    "P(1)"
   ]
  },
  {
   "cell_type": "markdown",
   "metadata": {},
   "source": [
    "If we try to ask for 4 words forward, we go beyond the bounds of the phrase. But `P` handles this by returning nothing:"
   ]
  },
  {
   "cell_type": "code",
   "execution_count": 5,
   "metadata": {},
   "outputs": [],
   "source": [
    "P(4)"
   ]
  },
  {
   "cell_type": "markdown",
   "metadata": {},
   "source": [
    "To look back one word, we simply give a negative value:"
   ]
  },
  {
   "cell_type": "code",
   "execution_count": 6,
   "metadata": {},
   "outputs": [
    {
     "data": {
      "text/plain": [
       "189682"
      ]
     },
     "execution_count": 6,
     "metadata": {},
     "output_type": "execute_result"
    }
   ],
   "source": [
    "P(-1)"
   ]
  },
  {
   "cell_type": "markdown",
   "metadata": {},
   "source": [
    "Finally, `P` can be used to quickly call features on these words. For instance, in order to get the lexeme of the word two words in front of `189683`:"
   ]
  },
  {
   "cell_type": "code",
   "execution_count": 7,
   "metadata": {},
   "outputs": [
    {
     "data": {
      "text/plain": [
       "'CMNH/'"
      ]
     },
     "execution_count": 7,
     "metadata": {},
     "output_type": "execute_result"
    }
   ],
   "source": [
    "P(2,'lex')"
   ]
  },
  {
   "cell_type": "markdown",
   "metadata": {},
   "source": [
    "And if we want to get a number of features, we can just add other features to the arguments. The result is a feature set:"
   ]
  },
  {
   "cell_type": "code",
   "execution_count": 8,
   "metadata": {},
   "outputs": [
    {
     "data": {
      "text/plain": [
       "{'CMNH/', 'sg'}"
      ]
     },
     "execution_count": 8,
     "metadata": {},
     "output_type": "execute_result"
    }
   ],
   "source": [
    "P(2, 'lex', 'nu')"
   ]
  },
  {
   "cell_type": "markdown",
   "metadata": {},
   "source": [
    "`P` can also handle features on the source node itself by giving a positionality of `0`:"
   ]
  },
  {
   "cell_type": "code",
   "execution_count": 9,
   "metadata": {},
   "outputs": [
    {
     "data": {
      "text/plain": [
       "'CLC/'"
      ]
     },
     "execution_count": 9,
     "metadata": {},
     "output_type": "execute_result"
    }
   ],
   "source": [
    "P(0, 'lex')"
   ]
  },
  {
   "cell_type": "markdown",
   "metadata": {},
   "source": [
    "### `Positions` also exists in a non-TF version\n",
    "\n",
    "When the non-tf version of `Positions` is provided any iterable, it can perform the same functions."
   ]
  },
  {
   "cell_type": "code",
   "execution_count": 10,
   "metadata": {},
   "outputs": [],
   "source": [
    "test_ps = ['The', 'good', 'dog', 'jumped.']\n",
    "\n",
    "P = Positions('good', test_ps).get"
   ]
  },
  {
   "cell_type": "code",
   "execution_count": 11,
   "metadata": {},
   "outputs": [
    {
     "data": {
      "text/plain": [
       "'dog'"
      ]
     },
     "execution_count": 11,
     "metadata": {},
     "output_type": "execute_result"
    }
   ],
   "source": [
    "P(1)"
   ]
  },
  {
   "cell_type": "markdown",
   "metadata": {},
   "source": [
    "Positions can perform a function on the result with an option `do`. In the example below, the word two words ahead is found and an upper-case function is called on the string."
   ]
  },
  {
   "cell_type": "code",
   "execution_count": 12,
   "metadata": {},
   "outputs": [
    {
     "data": {
      "text/plain": [
       "'JUMPED.'"
      ]
     },
     "execution_count": 12,
     "metadata": {},
     "output_type": "execute_result"
    }
   ],
   "source": [
    "P(2, do=lambda w: w.upper())"
   ]
  },
  {
   "cell_type": "markdown",
   "metadata": {},
   "source": [
    "The non-tf version of `Positions` makes it possible to do positionality searches with any ordered list of Python objects that represent linguistic units."
   ]
  },
  {
   "cell_type": "markdown",
   "metadata": {},
   "source": [
    "## `Walker`\n",
    "\n",
    "`Walker` performs a similar function to `Positions`, except it is ambiguous to exact positions, walking either `ahead` or `back` from the source to a target node in the context. A function must be supplied that returns `True` on the target node.\n",
    "\n",
    "We instantiate the `Walker` using the same source and context as above."
   ]
  },
  {
   "cell_type": "code",
   "execution_count": 13,
   "metadata": {},
   "outputs": [],
   "source": [
    "source = 189683\n",
    "# get words inside source's phrase_atom\n",
    "positions = L.d(\n",
    "    L.u(189683,'phrase_atom')[0], 'word'\n",
    ")\n",
    "\n",
    "Wk = Walker(source, positions)"
   ]
  },
  {
   "cell_type": "markdown",
   "metadata": {},
   "source": [
    "`Walker` is demonstrated below with the same word. A simple `lambda` function is used to test for the lexeme. In the example below, we find the first word ahead of `189683` that is a cardinal number:"
   ]
  },
  {
   "cell_type": "code",
   "execution_count": 14,
   "metadata": {},
   "outputs": [
    {
     "data": {
      "text/plain": [
       "189685"
      ]
     },
     "execution_count": 14,
     "metadata": {},
     "output_type": "execute_result"
    }
   ],
   "source": [
    "Wk.ahead(lambda w: F.ls.v(w) == 'card')"
   ]
  },
  {
   "cell_type": "markdown",
   "metadata": {},
   "source": [
    "An alternative demonstrates the `None` returned on the lack of a valid match."
   ]
  },
  {
   "cell_type": "code",
   "execution_count": 15,
   "metadata": {},
   "outputs": [],
   "source": [
    "Wk.ahead(lambda w: F.ls.v(w) == 'BOOGABOOGA')"
   ]
  },
  {
   "cell_type": "markdown",
   "metadata": {},
   "source": [
    "Another example wherein we walk backwards to the preposition:"
   ]
  },
  {
   "cell_type": "code",
   "execution_count": 16,
   "metadata": {},
   "outputs": [
    {
     "data": {
      "text/plain": [
       "189681"
      ]
     },
     "execution_count": 16,
     "metadata": {},
     "output_type": "execute_result"
    }
   ],
   "source": [
    "Wk.back(lambda w: F.sp.v(w) == 'prep')"
   ]
  },
  {
   "cell_type": "markdown",
   "metadata": {},
   "source": [
    "We can also specify that the walk should be interrupted under certain conditions with a `stop` function. In this case we walk forward to the next cardinal number, but the walk is interrupted when the `stop` function detects a conjunction."
   ]
  },
  {
   "cell_type": "code",
   "execution_count": 17,
   "metadata": {},
   "outputs": [],
   "source": [
    "Wk.ahead(lambda w: F.ls.v(w) == 'card',\n",
    "         stop=lambda w: F.sp.v(w) == 'conj')"
   ]
  },
  {
   "cell_type": "markdown",
   "metadata": {},
   "source": [
    "We can also specify the opposite with a `go` function argument, which defines the nodes that allowed to intervene between `source` and `target`. Below we specify that *only* a conjunction should intervene."
   ]
  },
  {
   "cell_type": "code",
   "execution_count": 18,
   "metadata": {},
   "outputs": [
    {
     "data": {
      "text/plain": [
       "189685"
      ]
     },
     "execution_count": 18,
     "metadata": {},
     "output_type": "execute_result"
    }
   ],
   "source": [
    "Wk.ahead(lambda w: F.ls.v(w) == 'card',\n",
    "         go=lambda w: F.sp.v(w) == 'conj')"
   ]
  },
  {
   "cell_type": "markdown",
   "metadata": {},
   "source": [
    "The `go` and `stop` functions can be as permissive or strict as desired.\n",
    "\n",
    "Finally, we can tell `Walker` that the output of the validation function should be returned instead of the node itself with the optional argument `output=True`:"
   ]
  },
  {
   "cell_type": "code",
   "execution_count": 19,
   "metadata": {},
   "outputs": [
    {
     "data": {
      "text/plain": [
       "'card'"
      ]
     },
     "execution_count": 19,
     "metadata": {},
     "output_type": "execute_result"
    }
   ],
   "source": [
    "val_funct = lambda w: F.ls.v(w) if F.ls.v(w)=='card' else None\n",
    "\n",
    "Wk.ahead(val_funct, output=True)"
   ]
  },
  {
   "cell_type": "markdown",
   "metadata": {},
   "source": [
    "This ability is useful for certain tests."
   ]
  },
  {
   "cell_type": "markdown",
   "metadata": {},
   "source": [
    "Like `Positions`, `Walker` can be used in non-TF contexts:"
   ]
  },
  {
   "cell_type": "code",
   "execution_count": 20,
   "metadata": {},
   "outputs": [],
   "source": [
    "test_ps = ['The', 'bad', 'cat', 'swatted.']\n",
    "\n",
    "Wk_notf = Walker('bad', test_ps)"
   ]
  },
  {
   "cell_type": "code",
   "execution_count": 21,
   "metadata": {},
   "outputs": [
    {
     "data": {
      "text/plain": [
       "'swatted.'"
      ]
     },
     "execution_count": 21,
     "metadata": {},
     "output_type": "execute_result"
    }
   ],
   "source": [
    "Wk_notf.ahead(lambda w: w.startswith('sw'))"
   ]
  },
  {
   "cell_type": "markdown",
   "metadata": {},
   "source": [
    "### Returning All Results along Path\n",
    "\n",
    "`Walker` can also return all results along the path by toggling `every=True`"
   ]
  },
  {
   "cell_type": "code",
   "execution_count": 22,
   "metadata": {},
   "outputs": [
    {
     "data": {
      "text/plain": [
       "['cat', 'swatted.']"
      ]
     },
     "execution_count": 22,
     "metadata": {},
     "output_type": "execute_result"
    }
   ],
   "source": [
    "Wk_notf.ahead(lambda w: type(w)==str, every=True)"
   ]
  },
  {
   "cell_type": "markdown",
   "metadata": {},
   "source": [
    "## `Dummy`\n",
    "\n",
    "When writing conditions and logic, we want an object that passively receives `NoneType`s or zero `int`s without throwing errors. Such an object should also return `None` to reflect its `False` value. `Dummy`, provides such functionality. `Dummy` can receive all of the arguments, kwargs, and function calls as a `Positions` or `Walker` object. But it returns absolutely nothing. Ouch."
   ]
  },
  {
   "cell_type": "code",
   "execution_count": 23,
   "metadata": {},
   "outputs": [],
   "source": [
    "D = Dummy(None, 'phrase_atom', A)"
   ]
  },
  {
   "cell_type": "markdown",
   "metadata": {},
   "source": [
    "The function call below returns `None`:"
   ]
  },
  {
   "cell_type": "code",
   "execution_count": 24,
   "metadata": {},
   "outputs": [],
   "source": [
    "D.get(1)"
   ]
  },
  {
   "cell_type": "markdown",
   "metadata": {},
   "source": [
    "As does this:"
   ]
  },
  {
   "cell_type": "code",
   "execution_count": 25,
   "metadata": {},
   "outputs": [],
   "source": [
    "D.get(1, 'lex')"
   ]
  },
  {
   "cell_type": "markdown",
   "metadata": {},
   "source": [
    "And even this:"
   ]
  },
  {
   "cell_type": "code",
   "execution_count": 26,
   "metadata": {},
   "outputs": [],
   "source": [
    "D.ahead(1)"
   ]
  },
  {
   "cell_type": "markdown",
   "metadata": {},
   "source": [
    "`D` is essentially a souless void that consumes whatever you throw at it and gives nothing in return."
   ]
  },
  {
   "cell_type": "markdown",
   "metadata": {},
   "source": [
    "For safe-calls on a `Position` or `Walker` object, assign nodes to it via a function with a `Dummy` given on null nodes:"
   ]
  },
  {
   "cell_type": "code",
   "execution_count": 27,
   "metadata": {},
   "outputs": [],
   "source": [
    "def getPos(node, context, tf):\n",
    "    \"\"\"A function to get Positions safely.\"\"\"\n",
    "    if node:\n",
    "        return PositionsTF(node, context, tf)\n",
    "    else:\n",
    "        return Dummy() # <- give dummy on empty node"
   ]
  },
  {
   "cell_type": "markdown",
   "metadata": {},
   "source": [
    "So:"
   ]
  },
  {
   "cell_type": "code",
   "execution_count": 28,
   "metadata": {},
   "outputs": [],
   "source": [
    "P = getPos(None, 'phrase_atom', A)\n",
    "P.get(1)"
   ]
  },
  {
   "cell_type": "markdown",
   "metadata": {},
   "source": [
    "Or:"
   ]
  },
  {
   "cell_type": "code",
   "execution_count": 29,
   "metadata": {},
   "outputs": [
    {
     "data": {
      "text/plain": [
       "2"
      ]
     },
     "execution_count": 29,
     "metadata": {},
     "output_type": "execute_result"
    }
   ],
   "source": [
    "P = getPos(1, 'phrase_atom', A)\n",
    "P.get(1)"
   ]
  },
  {
   "cell_type": "markdown",
   "metadata": {},
   "source": [
    "# Need for Semantic Data\n",
    "\n",
    "The accurate processing of word connections depends on fuller semantic data than BHSA provides. Future semantic data could be stored in a similar way to word sets (`wsets`). \n",
    "\n",
    "For example, in the two phrases\n",
    "\n",
    "> (Exod 25:39) ככר זהב טהור <br>\n",
    "> (2 Sam 24:24) בכסף שקלים חמשׁים\n",
    "\n",
    "we see that זהב and כסף, despite being in two different positions with two different words indicates a kind of \"composed of\" semantic concept: \"round gold\" (i.e. round composed of gold) and \"silver shekels\" (shekels composed of silver). To process these kinds of links, we need a list of nouns that often function as \"material.\" But this is only the beginning. Many other words will have specific semantic values that motivate their syntactic behavior. Such a scope lies outside the bounds of this author's current project on Hebrew time phrases.\n",
    "\n",
    "## A Compromise: Time Phrases\n",
    "\n",
    "Since constructing these semantic classes is vastly time consuming, I want to start with a smaller set of cases. I will instead focus on parsing connections within time phrases for now. This is because I am analyzing time phrases in my current ongoing PhD project. "
   ]
  },
  {
   "cell_type": "code",
   "execution_count": 30,
   "metadata": {},
   "outputs": [],
   "source": [
    "def disjoint(ph):\n",
    "    \"\"\"Isolate phrases with gaps.\"\"\"\n",
    "    ph = L.d(ph,'word')\n",
    "    for w in ph:\n",
    "        if ph[-1] == w:\n",
    "            break\n",
    "        elif (ph[ph.index(w)+1] - w) > 1:\n",
    "            return True"
   ]
  },
  {
   "cell_type": "code",
   "execution_count": 31,
   "metadata": {},
   "outputs": [
    {
     "name": "stdout",
     "output_type": "stream",
     "text": [
      "3864 phrases ready\n"
     ]
    }
   ],
   "source": [
    "alltimes = [\n",
    "    ph for ph in F.otype.s('timephrase') \n",
    "]\n",
    "    \n",
    "timephrases = [ph for ph in alltimes if not disjoint(ph)]\n",
    "\n",
    "print(f'{len(timephrases)} phrases ready')"
   ]
  },
  {
   "cell_type": "markdown",
   "metadata": {},
   "source": [
    "## Search & Display Functions\n",
    "\n",
    "The functions below allow for fast searching and displaying of queries using a `Construction` object, described in the next section."
   ]
  },
  {
   "cell_type": "code",
   "execution_count": 127,
   "metadata": {},
   "outputs": [],
   "source": [
    "def pretty(obj, condense='phrase', **kwargs):\n",
    "    \"\"\"Show a linguistic object that is not native to TF app.\"\"\"\n",
    "    index = kwargs.get('index')\n",
    "    kwargs = {k:v for k,v in kwargs.items() if k not in {'index'}}\n",
    "    show = L.d(obj, condense) if index is None else (L.d(obj, condense)[index],)\n",
    "    print(show, not index, index)\n",
    "    A.prettyTuple(show, seq=kwargs.get('seq', obj), **kwargs)\n",
    "\n",
    "def prettyconds(cx):\n",
    "    '''\n",
    "    Iterate through an explain dict for a rela\n",
    "    and print out all of checked conditions.\n",
    "    '''\n",
    "    for smallcx in cx.unfoldcxs():\n",
    "        print(f'-- {smallcx} --')\n",
    "        for case in smallcx.cases:\n",
    "            print(f'pattern: {case.get(\"pattern\", case[\"name\"])}')\n",
    "            for cond, value in case['conds'].items():\n",
    "                print('{:<30} {:>30}'.format(cond, str(value)))\n",
    "            print()\n",
    "        \n",
    "def showcx(cx, **kwargs):\n",
    "    \"\"\"Display a construction object with TF.\n",
    "    \n",
    "    Calls TF.show() with HTML highlights for \n",
    "    words/stretch of words that serve a role\n",
    "    within the construction. \n",
    "    \"\"\"\n",
    "    \n",
    "    # get slots for display\n",
    "    refslots = cx.slots if cx.slots else cx.element.slots\n",
    "    showcontext = tuple(set(L.u(s, 'phrase')[0] for s in refslots))\n",
    "    timephrase = L.u(list(refslots)[0], 'timephrase')[0]        \n",
    "\n",
    "    if not cx:\n",
    "        print('NO MATCHES')\n",
    "        print('-'*20)\n",
    "        A.prettyTuple(showcontext, extraFeatures='sp st', withNodes=True, seq=f'{timephrase} -> {cx}')\n",
    "        if kwargs.get('conds'):\n",
    "            prettyconds(cx)\n",
    "        return None\n",
    "\n",
    "    colors = itertools.cycle([\n",
    "        '#96ceb4', '#ffeead', '#ffcc5c', '#ff6f69',\n",
    "        '#bccad6', '#8d9db6', '#667292', '#f1e3dd',\n",
    "    ])\n",
    "    highlights = {}\n",
    "    role2color = {}\n",
    "    \n",
    "    for role, slots in cx.role2slots.items():\n",
    "        color = next(colors)\n",
    "        role2color[role] = color\n",
    "        for slot in slots:\n",
    "            highlights[slot] = color\n",
    "    \n",
    "    A.prettyTuple(\n",
    "        showcontext, \n",
    "        extraFeatures=kwargs.get('extraFeatures', 'sp st lex'), \n",
    "        withNodes=True, \n",
    "        seq=f'{timephrase} -> {cx}', \n",
    "        highlights=highlights\n",
    "    )\n",
    "    # reveal color meanings\n",
    "    for role,color in role2color.items():\n",
    "        colmean = '<div style=\"background: {}; text-align: center\">{}</div>'.format(color, role)\n",
    "        display(HTML(colmean))\n",
    "    \n",
    "    pprint(cx.unfoldroles(), indent=4)\n",
    "    print()\n",
    "    if kwargs.get('conds'):\n",
    "        prettyconds(cx)\n",
    "    display(HTML('<hr>'))\n",
    "        \n",
    "def test_search(\n",
    "    elements, cxtest, \n",
    "    pattern='', \n",
    "    show=None, \n",
    "    end=None, \n",
    "    shuffle=True,\n",
    "    updatei=1000,\n",
    "    select=None,\n",
    "    **kwargs\n",
    "):\n",
    "    '''\n",
    "    Searches phrases with the specified relation \n",
    "    and prints out their descriptive explanation.\n",
    "    '''\n",
    "    \n",
    "    start = datetime.now()\n",
    "    print('beginning search')\n",
    "    \n",
    "    # random shuffle to get good diversity of examples\n",
    "    if shuffle:\n",
    "        random.shuffle(elements)\n",
    "    matches = []\n",
    "    \n",
    "    # iterate and find matches on words\n",
    "    for i,el in enumerate(elements):\n",
    "\n",
    "        # update every 5000 iterations\n",
    "        if i%updatei == 0:\n",
    "            print(f'\\t{len(matches)} found ({i}/{len(elements)})')\n",
    "        \n",
    "        # run test for construction\n",
    "        test = cxtest(el)\n",
    "        \n",
    "        # save results\n",
    "        if test:\n",
    "            if pattern:\n",
    "                if test.pattern == pattern:\n",
    "                    matches.append(test)\n",
    "            else:\n",
    "                matches.append(test)\n",
    "            \n",
    "        # stop at end\n",
    "        if end and len(matches) == end:\n",
    "            break\n",
    "        \n",
    "    # display\n",
    "    print('done at', datetime.now() - start)\n",
    "    print(len(matches), 'matches found...')\n",
    "    if show:\n",
    "        print(f'showing top {show}')\n",
    "    \n",
    "    # option for filtering results\n",
    "    if select:\n",
    "        matches = [m for m in matches if select(m)]\n",
    "        print(f'\\tresults filtered to {len(matches)}')\n",
    "    \n",
    "    for match in matches[:show]:\n",
    "        showcx(match, **kwargs)"
   ]
  },
  {
   "cell_type": "markdown",
   "metadata": {},
   "source": [
    "## Construction Classes\n",
    "\n",
    "* `Construction` - an object that represents a linguistic construction; the class records roles and the words that occupy them, as well as has methods for accessing and retrieving data on embedded roles/other constructions\n",
    "* `CXBuilder` - matches conditions to build `Construction` objects; populates them with requisite data"
   ]
  },
  {
   "cell_type": "code",
   "execution_count": 33,
   "metadata": {},
   "outputs": [],
   "source": [
    "class Bunch(object):\n",
    "    \"\"\"Stores variables for shorthand and safe access.\n",
    "    \n",
    "    Like a dot-dictionary.\n",
    "    \"\"\"\n",
    "    def __init__(self, vardict):\n",
    "        \"\"\"Initialize variables object with dict.\"\"\"\n",
    "        self.dict = vardict\n",
    "        for k,v in vardict.items():\n",
    "            setattr(self, k, v)\n",
    "    def __getattr__(self, name):\n",
    "        return None\n",
    "    def __deepcopy__(self, memo=None):\n",
    "        \"\"\"Handle deep copy errors by instancing a diff Bunch object.\"\"\"\n",
    "        return Bunch({k:v for k,v in self.dict.items()})\n",
    "    \n",
    "class Construction(object):\n",
    "    \"\"\"A linguistic construction and its attributes.\"\"\"\n",
    "    \n",
    "    def __init__(self, **specs):\n",
    "        \"\"\"Initialize construction item.\n",
    "        \n",
    "        **specs:\n",
    "            name: A name for the construction.\n",
    "            roles: A dict which maps roles\n",
    "                to either another Construction item\n",
    "                or to a Text-Fabric word node.\n",
    "            cases: A tuple containing condition dicts\n",
    "                that were evaluated when processing this\n",
    "                Construction. Key is string containing condition,\n",
    "                value is Boolean.\n",
    "            conds: A condition dict containing all of the\n",
    "                conditions that evaluated to True to validate\n",
    "                this Construction.\n",
    "        \"\"\"\n",
    "        for k,v in specs.items():\n",
    "            setattr(self, k, v)\n",
    "        self.match = specs.get('match', {})\n",
    "        self.name = specs.get('name', '')\n",
    "        self.kind = specs.get('kind', '')\n",
    "        self.pattern = specs.get('pattern', specs.get('name', ''))\n",
    "        self.roles = Bunch(specs.get('roles', {}))\n",
    "        self.conds = specs.get('conds', {})\n",
    "        self.cases = specs.get('cases', tuple())\n",
    "        self.indexslots()\n",
    "        \n",
    "    def __bool__(self):\n",
    "        \"\"\"Determine truth value of CX.\"\"\"\n",
    "        if self.match:\n",
    "            return True\n",
    "        else:\n",
    "            return False\n",
    "        \n",
    "    def __repr__(self):\n",
    "        \"\"\"Display CX name with slots.\"\"\"\n",
    "        if self:\n",
    "            return f'CX {self.name} {self.slots}'\n",
    "        else:\n",
    "            return '{CX EMPTY}'\n",
    "            \n",
    "    def __eq__(self, other):\n",
    "        \"\"\"Determine slot/role-based equality between CXs.\"\"\"\n",
    "        if (\n",
    "            self.slots2role == other.slots2role\n",
    "            and self.name == other.name\n",
    "        ):\n",
    "            return True\n",
    "        else:\n",
    "            return False\n",
    "        \n",
    "    def __hash__(self):\n",
    "        return hash(\n",
    "            (\n",
    "                self.name, \n",
    "                 tuple(self.slots2role.items())\n",
    "            )\n",
    "        )\n",
    "    \n",
    "    def __int__(self):\n",
    "        \"\"\"Provide integers for first slot in cx.\n",
    "        \n",
    "        Most relevant for word-level CXs and for\n",
    "        using TF methods on those objects.\n",
    "        \"\"\"\n",
    "        return next(iter(sorted(self.slots)), 0)\n",
    "        \n",
    "    def __contains__(self, cx):\n",
    "        \"\"\"Determine whether certain CX is contained in this one.\"\"\"\n",
    "        return cx in list(self.unfoldcxs())\n",
    "\n",
    "    def mapslots(self, rolesdict, rolename=None):\n",
    "        \"\"\"Recursively map all slots to top embedding role name.\n",
    "\n",
    "        Match items contain a roles key which can contain\n",
    "        any number of other match items. This function maps\n",
    "        all constituent words (Text-Fabric \"slots\") to their\n",
    "        top-level linguistic unit (linguistic role).\n",
    "        \"\"\"\n",
    "        for role, item in rolesdict.items():\n",
    "            if type(item) == Construction:\n",
    "                self.mapslots(\n",
    "                    item.roles.dict,\n",
    "                    rolename=rolename or role\n",
    "                )\n",
    "            elif type(item) == int:\n",
    "                self.role2slots[rolename or role].add(item)\n",
    "                self.slots.add(item)   \n",
    "            \n",
    "    def indexslots(self):\n",
    "        \"\"\"Indexes slots contained in this CX.\"\"\"\n",
    "        self.role2slots = collections.defaultdict(set)\n",
    "        self.slots = set()\n",
    "        self.mapslots(self.roles.dict) # populates role2slots and slots\n",
    "        self.slots = set(sorted(self.slots)) # sort slots\n",
    "        self.slots2role = {\n",
    "            tuple(sorted(slots)):role \n",
    "                for role, slots in self.role2slots.items()\n",
    "        }  \n",
    "      \n",
    "    def unfoldroles(self, cx=None):\n",
    "        \"\"\"Return all contained construction roles as a dict.\n",
    "\n",
    "        Recursively calls down into construction objects to convert\n",
    "        to role.dict with TF slots.\n",
    "        \"\"\"\n",
    "        cx = cx or self\n",
    "        roledict={}\n",
    "        roledict['__cx__'] = cx.name\n",
    "        for role, item in cx.roles.dict.items():\n",
    "            if type(item) == Construction:\n",
    "                roledict[role] = self.unfoldroles(item)\n",
    "            elif type(item) == int:\n",
    "                roledict[role] = item\n",
    "        return roledict\n",
    "    \n",
    "    def unfoldrole(self, role, cx=None):\n",
    "        \"\"\"Return a role that is recursively embedded.\n",
    "        \n",
    "        e.g.\n",
    "        head\n",
    "            head\n",
    "                head\n",
    "        \"\"\"\n",
    "        cx = cx or self\n",
    "        for findrole, item in cx.roles.dict.items():\n",
    "            if findrole == role:\n",
    "                yield item\n",
    "                if (\n",
    "                    type(item) == Construction\n",
    "                    and role in item.roles.dict\n",
    "                ):\n",
    "                    yield from self.unfoldrole(role, cx=item)\n",
    "\n",
    "        \n",
    "    def unfoldcxs(self, cx=None):\n",
    "        \"\"\"Return all contained constructions with flattened structure.\n",
    "        \n",
    "        Recursively calls down into construction objects and yields them.\n",
    "        \"\"\"\n",
    "        cx = cx if cx is not None else self\n",
    "        yield cx\n",
    "        for role, item in cx.roles.dict.items():\n",
    "            if type(item) == Construction:\n",
    "                yield from self.unfoldcxs(item)  \n",
    "    \n",
    "    def unfoldcxpath(self, slots):\n",
    "        \"\"\"Return all contained constructions along a path.\n",
    "\n",
    "        Recursively calls down into construction objects and yields them.\n",
    "        \"\"\"\n",
    "        cx_path = []\n",
    "        for cx in self.unfoldcxs():\n",
    "            if set(slots).issubset(cx.slots):\n",
    "                cx_path.append(cx)\n",
    "        return cx_path\n",
    "                \n",
    "    def slots2cx(self, slottuple):\n",
    "        \"\"\"Return the embedded Construction to which a span of slots belong\"\"\"\n",
    "        for cx in self.unfoldcxs():\n",
    "            for slots, role in cx.slots2role.items():\n",
    "                if slots == slottuple:\n",
    "                    return cx\n",
    "    \n",
    "    def getslotrole(self, slot):\n",
    "        \"\"\"Returns the role to which a slot belongs to.\"\"\"\n",
    "        for role, slots in self.role2slots.items():\n",
    "            if slot in slots:\n",
    "                return role\n",
    "                \n",
    "    def updaterole(self, role, newitem):\n",
    "        \"\"\"Updates a role in the CX.\"\"\"\n",
    "        setattr(self.roles, role, newitem)\n",
    "        self.roles.dict[role] = newitem\n",
    "        self.indexslots() # remap slots"
   ]
  },
  {
   "cell_type": "code",
   "execution_count": 34,
   "metadata": {},
   "outputs": [],
   "source": [
    "class CXbuilder(object):\n",
    "    \"\"\"Identifies and builds constructions using Text-Fabric nodes.\"\"\"\n",
    "    \n",
    "    def __init__(self):\n",
    "        \"\"\"Initialize CXbuilder, giving methods for CX detection.\"\"\"\n",
    "        \n",
    "        # cache matched constructions for backreferences\n",
    "        self.cache = collections.defaultdict(\n",
    "            lambda: collections.defaultdict()\n",
    "        )\n",
    "        \n",
    "        # NB: objects below should be overwritten \n",
    "        # and configured for the particular cxs needed\n",
    "        self.cxs = tuple()\n",
    "        self.yieldsto = {} \n",
    "        \n",
    "        # for drip-bucket categories\n",
    "        self.dripbucket = tuple()\n",
    "    \n",
    "    def debugmess(self, msg, toggle):\n",
    "        \"\"\"Prints debugging messages if toggled.\"\"\"\n",
    "        if toggle:\n",
    "            sys.stderr.write(msg+'\\n')\n",
    "    \n",
    "    def cxcache(self, element, name, method):\n",
    "        \"\"\"Get cx from cache or run.\"\"\"\n",
    "        try:\n",
    "            return self.cache[element][name]\n",
    "        except KeyError:\n",
    "            return method(element)\n",
    "    \n",
    "    def test(self, *cases):\n",
    "        \"\"\"Populate Construction obj based on a cases's all Truth value.\n",
    "        \n",
    "        The last-matching case will be used to populate\n",
    "        a Construction object. This allows more complex\n",
    "        cases to take precedence over simpler ones.\n",
    "        \n",
    "        Args:\n",
    "            cases: an arbitrary number of dictionaries,\n",
    "                each of which contains a string key that\n",
    "                describes the test and a test that evals \n",
    "                to a Boolean.\n",
    "        \n",
    "        Returns:\n",
    "            a populated or blank Construction object\n",
    "        \"\"\"\n",
    "        \n",
    "        # find cases where all cnds == True\n",
    "        test = [\n",
    "            case for case in cases\n",
    "                if all(case['conds'].values())\n",
    "                    and all(case['roles'].values())\n",
    "        ]\n",
    "        \n",
    "        # return last test\n",
    "        if test:\n",
    "            cx = Construction(\n",
    "                match=test[-1],\n",
    "                cases=cases,\n",
    "                **test[-1]\n",
    "            )\n",
    "            self.cache[cx.element][cx.name] = cx\n",
    "            return cx\n",
    "        else:\n",
    "            return Construction(cases=cases, **cases[0])\n",
    "        \n",
    "    def findall(self, element):\n",
    "        \"\"\"Runs analysis for all constructions with an element.\n",
    "        \n",
    "        Returns as dict with test:result as key:value.\n",
    "        \"\"\"\n",
    "        results = []\n",
    "        \n",
    "        # add cxs from this builder\n",
    "        for funct in self.cxs:\n",
    "            cx = funct(element)\n",
    "            if cx:\n",
    "                results.append(cx)\n",
    "        \n",
    "        # apply drip-bucket categories\n",
    "        if not results:\n",
    "            for funct in self.dripbucket:\n",
    "                cx = funct(element)\n",
    "                if cx:\n",
    "                    results.append(cx)\n",
    "        \n",
    "        return results\n",
    "                        \n",
    "    def sortbyslot(self, cxlist):\n",
    "        \"\"\"Sort constructions by order of contained slots.\"\"\"\n",
    "        sort = sorted(\n",
    "            ((sorted(cx.slots), cx) for cx in cxlist),\n",
    "            key=lambda k: k[0]\n",
    "        )\n",
    "        return [cx[-1] for cx in sort]\n",
    "    \n",
    "    def clusterCXs(self, cxlist):\n",
    "        \"\"\"Cluster constructions which overlap in their slots/roles.\n",
    "\n",
    "        Overlapping constructions form a graph wherein the constructions \n",
    "        are nodes and the overlaps are edges. This algorithm retrieves all \n",
    "        interconnected constructions. It does so with a recursive check \n",
    "        for overlapping slot sets. Merging the slot sets produces new \n",
    "        overlaps. The algorithm passes over all constructions until no \n",
    "        further overlaps are detected.\n",
    "\n",
    "        Args:\n",
    "            cxlist: list of Construction objects\n",
    "\n",
    "        Returns:\n",
    "            list of lists, where each embedded list \n",
    "            is a cluster of overlapping constructions.\n",
    "        \"\"\"\n",
    "\n",
    "        clusters = []\n",
    "        cxlist = [i for i in cxlist] # operate on copy\n",
    "\n",
    "        # iterate until no more intersections found\n",
    "        thiscluster = [cxlist.pop(0)]\n",
    "        theseslots = set(s for s in thiscluster[0].slots)\n",
    "\n",
    "        # loop continues as it snowballs and picks up slots\n",
    "        # loop stops when a complete loop produces no other matches\n",
    "        while cxlist:\n",
    "\n",
    "            matched = False # whether loop was successful\n",
    "\n",
    "            for cx in cxlist:\n",
    "                if theseslots & cx.slots:\n",
    "                    thiscluster.append(cx)\n",
    "                    theseslots |= cx.slots\n",
    "                    matched = True\n",
    "\n",
    "            # cxlist shrinks; when empty, it stops loop\n",
    "            cxlist = [\n",
    "                cx for cx in cxlist \n",
    "                    if cx not in thiscluster\n",
    "            ]\n",
    "\n",
    "            # assemble loop\n",
    "            if not matched:\n",
    "                clusters.append(thiscluster)\n",
    "                thiscluster = [cxlist.pop(0)]\n",
    "                theseslots = set(s for s in thiscluster[0].slots)\n",
    "        \n",
    "        # add last cluster\n",
    "        clusters.append(thiscluster)\n",
    "\n",
    "        return clusters\n",
    "\n",
    "    def test_yield(self, cx1, cx2):\n",
    "        \"\"\"Determine whether to submit a cx1 to cx2.\"\"\"\n",
    "        \n",
    "        # get name or class yields\n",
    "        cx1yields = self.yieldsto.get(\n",
    "            cx1.name,\n",
    "            self.yieldsto.get(cx1.kind, set())\n",
    "        )\n",
    "        # test yields\n",
    "        if type(cx1yields) == set:\n",
    "            return bool({cx2.name, cx2.kind} & cx1yields)\n",
    "        elif type(cx1yields) == bool:\n",
    "            return cx1yields\n",
    "           \n",
    "    def weaveCX(self, cxlist, cx=None, debug=False):\n",
    "        \"\"\"Weave together constructions on their intersections.\n",
    "\n",
    "        Overlapping constructions form a graph wherein constructions \n",
    "        are nodes and the overlaps are edges. The graph indicates\n",
    "        that the constructions function together as one single unit.\n",
    "        weaveCX combines all constructions into a single one. Moving\n",
    "        from right-to-left (Hebrew), the function consumes and subsumes\n",
    "        subsequent constructions to previous ones. The result is a \n",
    "        single unit with embedding based on the order of consumption.\n",
    "        Roles in previous constructions are thus expanded into the \n",
    "        constructions of their subsequent constituents.\n",
    "        \n",
    "        For instance, take the following phrase in English:\n",
    "        \n",
    "            >    \"to the dog\"\n",
    "            \n",
    "        Say a CXbuilder object contains basic noun patterns and can\n",
    "        recognize the following contained constructions:\n",
    "        \n",
    "            >    cx Preposition: ('prep', to), ('obj', the),\n",
    "            >    cx Definite: ('art', the), ('noun', dog)\n",
    "        \n",
    "        When the words of the constructions are compared, an overlap\n",
    "        can be seen:\n",
    "        \n",
    "            >    cx Preposition:    to  the\n",
    "            >    cx Definite:           the  dog\n",
    "        \n",
    "        The overlap in this case is \"the\". The overlap suggests that\n",
    "        the slot filled by \"the\" in the Preposition construction \n",
    "        should be expanded. This can be done by remapping the role\n",
    "        filled by \"the\" alone to the subsequent Definite construction.\n",
    "        This results in embedding:\n",
    "        \n",
    "            >    cx Preposition: ('prep', to), \n",
    "                                 ('obj', cx Definite: ('art', the), \n",
    "                                                      ('noun', dog))\n",
    "        \n",
    "        weaveCX accomplishes this by calling the updaterole method native\n",
    "        to Construction objects. The end result is a list of merged \n",
    "        constructions that contain embedding.\n",
    "        \n",
    "        Args: \n",
    "            cxlist: a list of constructions pre-sorted for word order;\n",
    "                the list shrinks throughout recursive iteration until\n",
    "                the job is finished\n",
    "            cx: a construction object to begin/continue analysis on\n",
    "            debug: an option to display debugging messages for when \n",
    "                things go wrong 🤪\n",
    "                \n",
    "        Prerequisites:\n",
    "            self.yieldsto: A dictionary in CXbuilder that tells weaveCX\n",
    "                to subsume one construction into another regardless of\n",
    "                word order. Key is name of submissive construction, value\n",
    "                is a set of dominating constructions. Important for, e.g., \n",
    "                cases of quantification where a head-noun might be preceded \n",
    "                by a chain of quantifiers but should still be at the top of \n",
    "                the structure since it is more semantically prominent.\n",
    "                \n",
    "        Returns:\n",
    "            a list of composed constructions\n",
    "        \"\"\"\n",
    "        debugmess = self.debugmess\n",
    "        \n",
    "        debugmess(f'\\nReceived {cx} with cxlist {cxlist}', debug)\n",
    "\n",
    "        # the search is complete, stop here\n",
    "        if not cxlist:\n",
    "            debugmess(f'\\tSearch complete with {cx} with roles: {cx.roles.dict}', debug)\n",
    "            return cx\n",
    "        \n",
    "        # or no search necessary, stop here\n",
    "        elif cx is None and len(cxlist) == 1:\n",
    "            debugmess(f'\\tSearch complete with {cxlist[0]} with roles: {cxlist[0].roles.dict}', debug)\n",
    "            return cxlist[0]\n",
    "\n",
    "        # Copy constructions and operate on copies\n",
    "        cx1 = cx or copy.deepcopy(cxlist.pop(0))\n",
    "        cx2 = copy.deepcopy(cxlist.pop(0))\n",
    "        debugmess(f'\\t comparing {cx1} & {cx2}', debug)\n",
    "\n",
    "        # replace cx1 if already contained in cx2\n",
    "        if (cx1 in cx2):\n",
    "            debugmess(f'\\t Discarding cx1 because cx2 already contains it...', debug)\n",
    "            return self.weaveCX(cxlist, cx2, debug=debug)\n",
    "\n",
    "        # get first slot of intersection between cx1 and 2\n",
    "        # get that slot's role in both cxs\n",
    "        link = tuple(sorted(cx1.slots & cx2.slots))\n",
    "        debugmess(f'\\t link is {link}', debug)\n",
    "\n",
    "        # retrieve lowest-contained construction with link\n",
    "        cx1link = cx1.slots2cx(link)\n",
    "        debugmess(f'\\t\\t cx1link is {cx1link}', debug)\n",
    "\n",
    "        # submit cx1 to cx2 if cx2 is semantically dominant\n",
    "        if self.test_yield(cx1link, cx2):\n",
    "\n",
    "            debugmess(f'\\t cx2 is semantically dominant over cx1...', debug)\n",
    "\n",
    "            link1path = list(cx1.unfoldcxpath(cx1link.slots))[:-1]\n",
    "            debugmess(f'\\t\\t searching {link1path}', debug)\n",
    "\n",
    "            # submit until cx2's dominance ends\n",
    "            while (\n",
    "                link1path\n",
    "                and self.test_yield(link1path[-1], cx2)\n",
    "            ):\n",
    "                cx1link = link1path.pop()\n",
    "\n",
    "            debugmess(f'\\t\\t cx1link iterated upward to {cx1link}', debug)\n",
    "\n",
    "            # subsume cx1 to cx2\n",
    "            debugmess(f'\\t\\t cx2 role [{cx2.slots2role[link]}] remapping to {cx1link}...', debug)\n",
    "            cx2.updaterole(cx2.slots2role[link], cx1link)\n",
    "            debugmess(f'\\t\\t remapping done with {cx2} containing roles {cx2.roles.dict}', debug)     \n",
    "\n",
    "            # subsume cx2 to enclosing cx\n",
    "            bigcx = link1path[-1] if link1path else None \n",
    "            if bigcx:\n",
    "                debugmess(f'\\t assigning cx2 {cx2} to bigcx {bigcx}', debug)\n",
    "                \n",
    "                #return self.weaveCX([cx2]+cxlist, bigcx, debug=debug)\n",
    "                \n",
    "                biglink = tuple(sorted(cx1link.slots & bigcx.slots))\n",
    "                bigrole = bigcx.slots2role[biglink]\n",
    "                debugmess(f'\\t\\t big role [{bigrole}] remapping to {cx2}...', debug)\n",
    "                bigcx.updaterole(bigrole, cx2)\n",
    "                cx1.indexslots()\n",
    "                return self.weaveCX(cxlist, cx1, debug=debug)\n",
    "\n",
    "            # or continue with cx2\n",
    "            else:\n",
    "                debugmess(f'\\t\\t moving on with cx2 as new primary: {cx2}', debug)\n",
    "                return self.weaveCX(cxlist, cx2, debug=debug)\n",
    "        \n",
    "        # submit cx2 to cx1\n",
    "        else:\n",
    "            linkcx1 = cx1.slots2cx(link)\n",
    "            debugmess(f'\\t submitting {cx2} to {linkcx1}...', debug)\n",
    "            linkrole1 = linkcx1.slots2role[link]\n",
    "            debugmess(f'\\t\\t role [{linkrole1}] remapping to {cx2}...', debug)\n",
    "            linkcx1.updaterole(linkrole1, cx2)\n",
    "            cx1.indexslots()\n",
    "            debugmess(f'\\t\\t remapping done with {linkcx1} containing roles {linkcx1.roles.dict}', debug)\n",
    "            return self.weaveCX(cxlist, cx1, debug=debug)\n",
    "    \n",
    "    def analyzestretch(self, stretch, debug=False):\n",
    "        \"\"\"Analyze an entire stretch of a linguistic unit.\n",
    "        \n",
    "        Applies construction tests for every constituent \n",
    "        and merges all overlapping constructions into a \n",
    "        single construction.\n",
    "        \n",
    "        Args:\n",
    "            stretch: an iterable containing elements that\n",
    "                are tested by construction tests to build\n",
    "                Construction objects. e.g. stretch might be \n",
    "                a list of TF word nodes.\n",
    "            debug: option to display debuggin messages\n",
    "        \n",
    "        Returns:\n",
    "            list of merged constructions\n",
    "        \"\"\"\n",
    "        \n",
    "        # match elements to constructions based on tests\n",
    "        rawcxs = [\n",
    "            match for element in stretch\n",
    "                for match in self.findall(element)\n",
    "                    if match\n",
    "        ]\n",
    "        \n",
    "        self.debugmess(f'rawcxs found: {rawcxs}...', debug)\n",
    "        \n",
    "        # return empty results\n",
    "        if not rawcxs:\n",
    "            self.debugmess(f'!no cx pattern matches! returning []', debug)\n",
    "            return []\n",
    "            \n",
    "        # cluster and sort matched constructions\n",
    "        clsort = [\n",
    "            self.sortbyslot(cxlist)\n",
    "                for cxlist in self.clusterCXs(rawcxs)    \n",
    "        ]\n",
    "    \n",
    "        self.debugmess(f'cxs clustered into: {clsort}...', debug)\n",
    "    \n",
    "        self.debugmess(f'Beginning weaveCX method...', debug)\n",
    "        # merge overlapping constructions\n",
    "        cxs = [\n",
    "            self.weaveCX(cluster, debug=debug)\n",
    "                for cluster in clsort\n",
    "        ]\n",
    "        \n",
    "        return cxs"
   ]
  },
  {
   "cell_type": "markdown",
   "metadata": {},
   "source": [
    "### CXbuilder with Text-Fabric Methods"
   ]
  },
  {
   "cell_type": "code",
   "execution_count": 35,
   "metadata": {},
   "outputs": [],
   "source": [
    "class CXbuilderTF(CXbuilder):\n",
    "    \"\"\"Build Constructions with TF integration.\"\"\"\n",
    "    \n",
    "    def __init__(self, tf, **kwargs):\n",
    "        \n",
    "        # set up TF data for tests\n",
    "        self.tf = tf\n",
    "        self.F, self.T, self.L = tf.api.F, tf.api.T, tf.api.L\n",
    "        self.context = kwargs.get('context', 'timephrase')\n",
    "        \n",
    "        # set up CXbuilder\n",
    "        CXbuilder.__init__(self)\n",
    "\n",
    "    def getP(self, node):\n",
    "        \"\"\"Get Positions object for a TF node.\n",
    "        \n",
    "        Return Dummy object if not node.\n",
    "        \"\"\"\n",
    "        if not node:\n",
    "            return Dummy()\n",
    "        return PositionsTF(node, self.context, self.tf).get\n",
    "    \n",
    "    def getWk(self, node):\n",
    "        \"\"\"Get Walker object for a TF word node.\n",
    "        \n",
    "        Return Dummy object if not node.\n",
    "        \"\"\"\n",
    "        if not node:\n",
    "            return Dummy()\n",
    "        \n",
    "        # format tf things to send\n",
    "        thisotype = self.F.otype.v(node)\n",
    "        context = self.L.u(node, self.context)[0]\n",
    "        positions = self.L.d(context, thisotype)        \n",
    "        return Walker(node, positions)"
   ]
  },
  {
   "cell_type": "markdown",
   "metadata": {},
   "source": [
    "## Word Constructions\n",
    "\n",
    "The `wordConstructions` builder class recognizes word semantic classes and types based on provided criteria."
   ]
  },
  {
   "cell_type": "code",
   "execution_count": 36,
   "metadata": {},
   "outputs": [],
   "source": [
    "class wordConstructions(CXbuilderTF):\n",
    "    \"\"\"Build word constructions.\"\"\"\n",
    "    \n",
    "    def __init__(self, tf, **kwargs):\n",
    "        \n",
    "        \"\"\"Initialize with Constructions attribs/methods.\"\"\"\n",
    "        CXbuilderTF.__init__(self, tf, **kwargs)\n",
    "        \n",
    "        # Order matters! More specific meanings last\n",
    "        self.cxs = (\n",
    "            self.prep,\n",
    "            self.qual_quant,\n",
    "            self.card,\n",
    "            self.ordn,\n",
    "            self.name,\n",
    "            self.cont_ptcp,\n",
    "        )\n",
    "        \n",
    "        self.dripbucket = (\n",
    "            self.pos,\n",
    "        )\n",
    "        \n",
    "        self.kind = 'word_cx'\n",
    "    \n",
    "    def cxdict(self, slotlist):\n",
    "        \"\"\"Map all TF word slots to a construction.\n",
    "        \n",
    "        Method returns a dictionary of slot:cx\n",
    "        mappings.\n",
    "        \"\"\"\n",
    "        \n",
    "        slot2cx = {}\n",
    "        for w in slotlist:\n",
    "            for cx in self.findall(w):\n",
    "                slot2cx[w] = cx\n",
    "    \n",
    "        return slot2cx\n",
    "    \n",
    "    def pos(self, w):\n",
    "        \"\"\"A drip-bucket part of speech CX.\n",
    "        \n",
    "        The standard ETCBC feature is pdp,\n",
    "        which is \"phrase-dependent part of\n",
    "        speech.\" I.e. it is a contextually\n",
    "        sensive pos label.\n",
    "        \"\"\"\n",
    "        \n",
    "        F = self.F\n",
    "        \n",
    "        # map\n",
    "        pdplabel = {\n",
    "            'subs': 'cont',\n",
    "            'adjv': 'cont',\n",
    "            'advb': 'cont',\n",
    "        }\n",
    "        pdp = F.pdp.v(w)\n",
    "        \n",
    "        return self.test(\n",
    "            {\n",
    "                'element': w,\n",
    "                'name': f'{pdplabel.get(pdp, pdp)}',\n",
    "                'kind': self.kind,\n",
    "                'roles': {'head': w},\n",
    "                'conds': {\n",
    "                    f'bool(F.pdp.v({w}))':\n",
    "                        bool(F.pdp.v(w)),\n",
    "                }\n",
    "            }\n",
    "        )\n",
    "    \n",
    "    def prep(self, w):\n",
    "        \"\"\"A preposition word.\"\"\"\n",
    "        \n",
    "        P = self.getP(w)\n",
    "        F = self.F\n",
    "        name = 'prep'\n",
    "        roles = {'head': w}\n",
    "        return self.test(\n",
    "            {\n",
    "                'element': w,\n",
    "                'name': name,\n",
    "                'kind': self.kind,\n",
    "                'pattern': 'ETCBC pdp',\n",
    "                'roles': roles,\n",
    "                'conds': {\n",
    "                    'F.pdp.v(w) == prep':\n",
    "                        F.pdp.v(w) == 'prep',\n",
    "                }\n",
    "            },\n",
    "            {\n",
    "                'element': w,\n",
    "                'name': name,\n",
    "                'kind': self.kind,\n",
    "                'pattern': 'ETCBC ppre words',\n",
    "                'roles': roles,\n",
    "                'conds': {\n",
    "                    'F.ls.v(w) == ppre':\n",
    "                        F.ls.v(w) == 'ppre',\n",
    "                    'F.lex.v(w) != DRK/':\n",
    "                        F.lex.v(w) != 'DRK/',\n",
    "                }\n",
    "            },\n",
    "            {\n",
    "                'element': w,\n",
    "                'name': name,\n",
    "                'kind': self.kind,\n",
    "                'pattern': 'R>C/',\n",
    "                'roles': roles,\n",
    "                'conds': {\n",
    "                    'F.lex.v(w) == R>C/':\n",
    "                        F.lex.v(w) == 'R>C/',\n",
    "                    'F.st.v(w) == c':\n",
    "                        F.st.v(w) == 'c',\n",
    "                    'P(-1,pdp) == prep':\n",
    "                        P(-1,'pdp') == 'prep',\n",
    "                    'phrase is adverbial':\n",
    "                        F.function.v(\n",
    "                            L.u(w,'phrase')[0]\n",
    "                        ) in {\n",
    "                            'Time', 'Adju', \n",
    "                            'Cmpl', 'Loca',\n",
    "                        },\n",
    "                }\n",
    "            },\n",
    "            {\n",
    "                'element': w,\n",
    "                'name': name,\n",
    "                'kind': self.kind,\n",
    "                'pattern': 'construct lexs',\n",
    "                'roles': roles,\n",
    "                'conds': {\n",
    "                    'F.lex.v(w) in lexset':\n",
    "                        F.lex.v(w) in {\n",
    "                            'PNH/','TWK/', \n",
    "                            'QY/', 'QYH=/', \n",
    "                            'QYT/', '<WD/'\n",
    "                        },\n",
    "                    'F.prs.v(w) == absent':\n",
    "                        F.prs.v(w) == 'absent',\n",
    "                    'F.st.v(w) == c':\n",
    "                        F.st.v(w) == 'c'\n",
    "                }\n",
    "            },\n",
    "            {\n",
    "                'element': w,\n",
    "                'name': name,\n",
    "                'kind': self.kind,\n",
    "                'pattern': 'L+BD',\n",
    "                'roles': roles,\n",
    "                'conds': {\n",
    "                    'F.lex.v(w) == BD/':\n",
    "                        F.lex.v(w) == 'BD/',\n",
    "                    'P(-1,lex) == L':\n",
    "                        P(-1,'lex') == 'L',\n",
    "                }\n",
    "            },\n",
    "            {\n",
    "                'element': w,\n",
    "                'name': name,\n",
    "                'kind': self.kind,\n",
    "                'pattern': '>XRJT/',\n",
    "                'roles': roles,\n",
    "                'conds': {\n",
    "                    'F.lex.v(w) == >XRJT/':\n",
    "                        F.lex.v(w) == '>XRJT/',\n",
    "                    'F.st.v(w) == c':\n",
    "                        F.st.v(w) == 'c',\n",
    "                    'P(1,lex) or P(2,lex) not >JWB|RC</':\n",
    "                        not {\n",
    "                            P(1,'lex'), P(2,'lex')\n",
    "                        } & {\n",
    "                            '>JWB/', 'RC</'\n",
    "                        }\n",
    "                }\n",
    "            },\n",
    "            {\n",
    "                'element': w,\n",
    "                'name': name,\n",
    "                'kind': self.kind,\n",
    "                'pattern': '<YM/ time',\n",
    "                'roles': roles,\n",
    "                'conds': {\n",
    "                    'F.lex.v(w) == <YM/':\n",
    "                        F.lex.v(w) == '<YM/',\n",
    "                    'F.st.v(w) == c':\n",
    "                        F.st.v(w) == 'c',\n",
    "                    'F.function.v(phrase) == Time':\n",
    "                        F.function.v(\n",
    "                            L.u(w,'phrase')[0]\n",
    "                        ) == 'Time',\n",
    "                }\n",
    "            }\n",
    "        )\n",
    "    \n",
    "    def name(self, w):\n",
    "        \"\"\"A name word (i.e. proper noun).\"\"\"\n",
    "        return self.test(\n",
    "            {\n",
    "                'element': w,\n",
    "                'name': 'name',\n",
    "                'kind': self.kind,\n",
    "                'roles': {'head': w},\n",
    "                'conds': {\n",
    "                    'F.pdp.v(w) == nmpr':\n",
    "                        self.F.pdp.v(w) == 'nmpr'\n",
    "                }\n",
    "            }\n",
    "        )\n",
    "    \n",
    "    def cont_ptcp(self, w):\n",
    "        \"\"\"A content word participle.\n",
    "        \n",
    "        A participle which can potentially\n",
    "        function like a \"noun\" i.e. a content word.\n",
    "        \"\"\"\n",
    "        \n",
    "        F = self.F\n",
    "        \n",
    "        return self.test(\n",
    "            {\n",
    "                'element': w,\n",
    "                'name': 'content',\n",
    "                'kind': self.kind,\n",
    "                'pattern': 'participle',\n",
    "                'roles': {'head': w},\n",
    "                'conds': {\n",
    "                    'F.sp.v(w) == verb':\n",
    "                        F.sp.v(w) == 'verb',\n",
    "                    'F.vt.v(w) in {ptcp, ptca}':\n",
    "                        F.vt.v(w) in {'ptcp', 'ptca'},\n",
    "                }\n",
    "            },\n",
    "        )    \n",
    "    \n",
    "    def card(self, w):\n",
    "        \"\"\"A cardinal number.\"\"\"\n",
    "        \n",
    "        F = self.F\n",
    "        P = self.getP(w)\n",
    "        name = 'card'\n",
    "        roles = {'head': w}\n",
    "        \n",
    "        return self.test(\n",
    "            {\n",
    "                'element': w,\n",
    "                'name': name,\n",
    "                'kind': self.kind,\n",
    "                'roles': roles,\n",
    "                'conds': {\n",
    "                    'F.ls.v(w) == card':\n",
    "                        F.ls.v(w) == 'card',\n",
    "                }\n",
    "            },\n",
    "        )\n",
    "    \n",
    "    def ordn(self, w):\n",
    "        \"\"\"An ordinal word.\"\"\"\n",
    "        \n",
    "        F = self.F\n",
    "        P = self.getP(w)\n",
    "        roles = {'head': w}\n",
    "        \n",
    "        return self.test(\n",
    "            {\n",
    "                'element': w,\n",
    "                'name': 'ordn',\n",
    "                'kind': self.kind,\n",
    "                'pattern': 'ETCBC ls',\n",
    "                'roles': roles,\n",
    "                'conds': {\n",
    "                    'F.ls.v(w) == ordn':\n",
    "                        F.ls.v(w) == 'ordn',\n",
    "                }\n",
    "            },\n",
    "        )\n",
    "    \n",
    "    def qual_quant(self, w):\n",
    "        \"\"\"A qualitative quantifier word.\"\"\"\n",
    "        \n",
    "        F = self.F\n",
    "        P = self.getP(w)\n",
    "        name = 'qquant'\n",
    "        roles = {'head': w}\n",
    "        \n",
    "        return self.test(\n",
    "            {\n",
    "                'element': w,\n",
    "                'name': name,\n",
    "                'kind': self.kind,\n",
    "                'pattern': 'qualitative',\n",
    "                'roles': roles,\n",
    "                'conds': {\n",
    "                    f'{F.lex.v(w)} in lexset':\n",
    "                        F.lex.v(w) in {\n",
    "                            'KL/', 'M<V/', 'JTR/',\n",
    "                            'XYJ/', 'C>R=/', 'MSPR/', \n",
    "                            'RB/', 'RB=/',\n",
    "                        },\n",
    "                }\n",
    "            },\n",
    "            {\n",
    "                'element': w,\n",
    "                'name': name,\n",
    "                'kind': self.kind,\n",
    "                'pattern': 'portion',\n",
    "                'roles': roles,\n",
    "                'conds': {\n",
    "                    f'{F.lex.v(w)} in lexset':\n",
    "                        F.lex.v(w) in {\n",
    "                            'M<FR/', '<FRWN/',\n",
    "                            'XMJCJT/',\n",
    "                        },\n",
    "                }\n",
    "            },\n",
    "        )"
   ]
  },
  {
   "cell_type": "markdown",
   "metadata": {},
   "source": [
    "## \"TP\" Constructions\n",
    "\n",
    "The `TPConstructions` class prepares Time Phrase constructions."
   ]
  },
  {
   "cell_type": "code",
   "execution_count": 37,
   "metadata": {},
   "outputs": [],
   "source": [
    "class TPConstructions(CXbuilderTF):\n",
    "    \"\"\"Class for building time phrase constructions.\"\"\"\n",
    "    \n",
    "    def __init__(self, wordcxs, tf, **kwargs):\n",
    "        \n",
    "        \"\"\"Initialize with Constructions attribs/methods.\"\"\"\n",
    "        CXbuilderTF.__init__(self, tf, **kwargs)\n",
    "        \n",
    "        self.words = wordcxs\n",
    "        \n",
    "        # map cx searches for full analyses\n",
    "        self.cxs = (\n",
    "            self.defi,\n",
    "            self.card_chain,\n",
    "            self.demon,\n",
    "            self.adjv,\n",
    "            self.advb,\n",
    "            self.attrib,\n",
    "            self.geni,\n",
    "            self.numb,\n",
    "            self.prep,\n",
    "        )\n",
    "        \n",
    "        self.dripbucket = (\n",
    "            self.wordphrase,\n",
    "        )\n",
    "        \n",
    "        self.kind = 'TP_construction'\n",
    "        \n",
    "        # submit these cxs to cx in set \n",
    "        self.yieldsto = {\n",
    "            'card_chain': {'numb_ph'},\n",
    "            'word_cx': {self.kind}\n",
    "        }\n",
    "        \n",
    "    def word(self, w):\n",
    "        \"\"\"Safely get word CX\"\"\"\n",
    "        return self.words.get(w, Construction())\n",
    "        \n",
    "    def wordphrase(self, w):\n",
    "        \"\"\"A phrase construction for one word.\n",
    "        \n",
    "        Returns first matching word cx for a word.\n",
    "        \"\"\"\n",
    "        return self.word(w)\n",
    "        \n",
    "    def defi(self, w):\n",
    "        \"\"\"Matches a definite construction.\"\"\"\n",
    "        \n",
    "        P = self.getP(w)\n",
    "        \n",
    "        return self.test( \n",
    "            {\n",
    "                'element': w,\n",
    "                'name': 'defi_ph',\n",
    "                'kind': self.kind,\n",
    "                'roles': {'art': self.word(w), 'head': self.word(P(1))},\n",
    "                'conds': {\n",
    "\n",
    "                    f'F.sp.v({w}) == art':\n",
    "                        self.F.sp.v(w) == 'art',\n",
    "\n",
    "                    'bool(P(1))':\n",
    "                        bool(P(1))\n",
    "                }\n",
    "            }\n",
    "        )\n",
    "    \n",
    "    def prep(self, w):\n",
    "        \"\"\"Matches a preposition with a modified element.\"\"\"\n",
    "                \n",
    "        P = self.getP(w)\n",
    "        \n",
    "        return self.test(\n",
    "            {\n",
    "                'element': w,\n",
    "                'name': 'prep_ph',\n",
    "                'kind': self.kind,\n",
    "                'roles': {'prep':self.word(w), 'head':self.word(P(1))},\n",
    "                'conds': {\n",
    "\n",
    "                    f'({w}).name == prep':\n",
    "                        self.word(w).name == 'prep',\n",
    "\n",
    "                    f'F.prs.v({w}) == absent':\n",
    "                        self.F.prs.v(w) == 'absent',\n",
    "                    \n",
    "                    'bool(P(1))':\n",
    "                        bool(P(1)),\n",
    "                }\n",
    "            }\n",
    "        )\n",
    "        \n",
    "    def geni(self, w):\n",
    "        \"\"\"Queries for \"genitive\" relations on a word.\"\"\"\n",
    "        \n",
    "        P = self.getP(w)\n",
    "        word = self.word\n",
    "        \n",
    "        return self.test(\n",
    "            {\n",
    "                'element': w,\n",
    "                'name': 'geni_ph',\n",
    "                'kind': self.kind,\n",
    "                'roles': {'geni': self.word(w), 'head': self.word(P(-1))},\n",
    "                'conds': {\n",
    "\n",
    "                    'P(-1, st) == c': \n",
    "                        P(-1,'st') == 'c',\n",
    "\n",
    "                    'P(-1).name not in {qquant,card}':\n",
    "                        word(P(-1)).name not in {'qquant','card'},\n",
    "                    \n",
    "                    'P(-1).name != prep':\n",
    "                        word(P(-1)).name != 'prep',\n",
    "                }\n",
    "            }\n",
    "        )\n",
    "\n",
    "    def advb(self, w):\n",
    "        \"\"\"Match and adverb and its mod.\"\"\"\n",
    "        \n",
    "        P = self.getP(w)\n",
    "        word = self.word\n",
    "        \n",
    "        return self.test(\n",
    "           {\n",
    "                'element': w,\n",
    "                'name': 'advb_ph',\n",
    "                'kind': self.kind,\n",
    "                'roles': {'advb': word(w), 'head': word(P(1))},\n",
    "                'conds': {\n",
    "                    f'F.sp.v({w}) == advb':\n",
    "                        self.F.sp.v(w) == 'advb',\n",
    "                    'P(-1,sp) != art':\n",
    "                        P(-1,'sp') != 'art',\n",
    "                    'bool(P(1))':\n",
    "                        bool(P(1)),\n",
    "                    'P(1,sp) != conj': # ensure not a nominal use\n",
    "                        P(1,'sp') != 'conj',\n",
    "                    'P(-1).name != prep': # ensure not nominal\n",
    "                        word(P(-1)).name != 'prep',\n",
    "                    f'F.lex.v({F.lex.v(w)}) not in noadvb_set':\n",
    "                        F.lex.v(w) not in {'JWMM'},\n",
    "                }\n",
    "            }\n",
    "        )\n",
    "    \n",
    "    def adjv(self, w):\n",
    "        \"\"\"Matches a word serving as an adjective.\"\"\"\n",
    "        \n",
    "        P = self.getP(w)\n",
    "        F = self.F\n",
    "        word = self.word\n",
    "        name = 'adjv_ph'\n",
    "        \n",
    "        # check for recursive adjective matches \n",
    "        a2match = self.adjv(P(-1)) if P(-1) else Construction()\n",
    "        a2match_head = int(a2match.roles.head) if a2match else 0\n",
    "        \n",
    "        common = {\n",
    "            \n",
    "            'w.name not in {qquant,card}':\n",
    "                word(w).name not in {'qquant','card'},\n",
    "            \n",
    "            'P(-1).name == cont':\n",
    "                word(P(-1)).name == 'cont',\n",
    "                        \n",
    "            'P(-1, st) & {NA, a}': \n",
    "                P(-1,'st') in {'NA', 'a'},   \n",
    "            \n",
    "            'P(-1).name != quant':\n",
    "                word(P(-1)).name != 'quant',\n",
    "            \n",
    "            'P(-1).name != prep':\n",
    "                word(P(-1)).name != 'prep',\n",
    "        }\n",
    "                \n",
    "        tests = (\n",
    "            \n",
    "            {\n",
    "                'element': w,\n",
    "                'name': name,\n",
    "                'kind': self.kind,\n",
    "                'pattern': 'adjv (1x)',\n",
    "                'roles': {'adjv':word(w), 'head': word(P(-1))},\n",
    "                'conds': dict(common, **{\n",
    "                    'F.sp.v(w) in {adjv, verb}':\n",
    "                        F.sp.v(w) in {'adjv', 'verb'},\n",
    "                })\n",
    "            },\n",
    "            {\n",
    "                'element': w,\n",
    "                'name': name,\n",
    "                'kind': self.kind,\n",
    "                'pattern': 'adjv (2x)',\n",
    "                'roles': {'adjv': word(w), 'head': word(a2match_head)},\n",
    "                'conds': dict(common, **{\n",
    "                    \n",
    "                    'F.sp.v(w) in {adjv, verb}':\n",
    "                        F.sp.v(w) in {'adjv', 'verb'},\n",
    "                    \n",
    "                     'self.adjv(P(-1)) and target != P(0)':\n",
    "                        bool(a2match) and a2match_head != P(0)\n",
    "                })\n",
    "            }\n",
    "        )\n",
    "\n",
    "        return self.test(*tests)\n",
    "     \n",
    "    def attrib(self, w):\n",
    "        \"\"\"Identify elements in a attrib construction.\n",
    "        \n",
    "        In Hebrew this construction typically consists of four slots:\n",
    "            > ה + A + ה + B\n",
    "        Attrib identifies each of these elements and labels them.\n",
    "        A is assumed to be the head, or modified, element and B\n",
    "        is assumed to be an adjectival element.\n",
    "        \"\"\"\n",
    "                \n",
    "        # CX consists of two constituent cxs\n",
    "        # start walk from head of first match\n",
    "        defi1 = self.defi(w)\n",
    "        d1head = int(defi1.roles.head)        \n",
    "        Wk = self.getWk(d1head)\n",
    "\n",
    "        # walk to next valid defi match\n",
    "        # and allow adjectives to intervene:\n",
    "        defi2 = Wk.ahead(\n",
    "            lambda n: self.defi(n),\n",
    "            go=lambda n: self.F.sp.v(n)=='adjv',\n",
    "            output=True\n",
    "        ) if Wk else Construction()\n",
    "        defi2 = defi2 or Construction()\n",
    "                \n",
    "        return self.test(\n",
    "            {\n",
    "                'element': w,\n",
    "                'name': 'attrib_ph',\n",
    "                'kind': self.kind,\n",
    "                'roles': {'head': defi1, 'attrib': defi2},\n",
    "                'conds': {\n",
    "                    'bool(defi1)':\n",
    "                        bool(defi1),\n",
    "                    'bool(defi2)':\n",
    "                        bool(defi2), \n",
    "                }\n",
    "            }\n",
    "        )\n",
    "        \n",
    "    def numb(self, w):\n",
    "        \"\"\"Defines numerical relations with an non-quant word.\n",
    "        \n",
    "        Often but not always indicates quantification as other\n",
    "        semantic relations are possible.\n",
    "        \"\"\"\n",
    "\n",
    "        P = self.getP(w)\n",
    "        Wk = self.getWk(w)\n",
    "        word = self.word\n",
    "        is_nom = (\n",
    "            lambda n: word(n).name == 'cont'\n",
    "        )\n",
    "        is_prep = (\n",
    "            lambda n: word(n).name == 'prep'\n",
    "        )\n",
    "        behind_nom = Wk.back(is_nom, stop=lambda n: not is_nom(n)) \n",
    "        \n",
    "        return self.test(\n",
    "        \n",
    "            {\n",
    "                'element': w,\n",
    "                'name': 'numb_ph',\n",
    "                'kind': self.kind,\n",
    "                'pattern': 'numbered forward',\n",
    "                'roles': {'numb': word(w), 'head': word(P(1))},\n",
    "                'conds': {\n",
    "                    \n",
    "                    'w.name in {qquant,card}':\n",
    "                     word(w).name in {'qquant', 'card'},\n",
    "                    \n",
    "                    'bool(P(1))':\n",
    "                        bool(P(1)),\n",
    "                    \n",
    "                    'P(1,sp) != conj':\n",
    "                        P(1,'sp') != 'conj',\n",
    "                    \n",
    "                    'P(1).name not in {qquant,card,prep}':\n",
    "                        word(P(1)).name not in {'qquant','card','prep'},\n",
    "        \n",
    "                    'P(-1,sp) != art':\n",
    "                        P(-1,'sp') != 'art',\n",
    "                },\n",
    "            },  \n",
    "            {\n",
    "                'element': w,\n",
    "                'name': 'numb_ph',\n",
    "                'kind': self.kind,\n",
    "                'pattern': 'numbered backward',\n",
    "                'roles': {'numb': word(w), 'head': word(behind_nom)},\n",
    "                'conds': {\n",
    "                    \n",
    "                    'w.name in {qquant,card}':\n",
    "                        word(w).name in {'qquant','card'},\n",
    "                    \n",
    "                    'not Wk.ahead(is_nominal)':\n",
    "                        not Wk.ahead(is_nom, stop=is_prep),\n",
    "                    \n",
    "                    'bool(Wk.back(is_nominal))':\n",
    "                        bool(behind_nom),\n",
    "                    \n",
    "                    'F.st.v(behind_nom) in {a, NA}':\n",
    "                        self.F.st.v(behind_nom) in {'a', 'NA'},\n",
    "                }\n",
    "            }\n",
    "        )\n",
    "        \n",
    "    def card_chain(self, w):\n",
    "        \"\"\"Defines cardinal number chain constructions\"\"\"\n",
    "        \n",
    "        P = self.getP(w)\n",
    "        F = self.F\n",
    "        word = self.word\n",
    "        \n",
    "        return self.test(\n",
    "            {\n",
    "                'element': w,\n",
    "                'name': 'card_chain',\n",
    "                'kind': self.kind,\n",
    "                'pattern': 'adjacent',\n",
    "                'roles': {'card':word(w), 'head':word(P(-1))},\n",
    "                'conds': {\n",
    "                    \n",
    "                    'F.ls.v(w) == card':\n",
    "                        F.ls.v(w) == 'card',\n",
    "                    'P(-1,ls) == card':\n",
    "                        P(-1,'ls') == 'card',                    \n",
    "                }\n",
    "            },\n",
    "            {\n",
    "                'element': w,\n",
    "                'name': 'card_chain',\n",
    "                'kind': self.kind,\n",
    "                'pattern': 'conjunctive',\n",
    "                'roles': {'card': word(w), 'head': word(P(-2)), 'conj': word(P(-1))},\n",
    "                'conds': {\n",
    "                    'F.ls.v(w) == card':\n",
    "                        F.ls.v(w) == 'card',\n",
    "                    'P(-1,lex) == W':\n",
    "                        P(-1,'lex') == 'W',\n",
    "                    'P(-2,ls) == card':\n",
    "                        P(-2,'ls') == 'card',   \n",
    "                }\n",
    "            }\n",
    "        )\n",
    "    \n",
    "    def demon(self, w):\n",
    "        \"\"\"Defines an adjacent demonstrative construction.\"\"\"\n",
    "        \n",
    "        P = self.getP(w)\n",
    "        word = self.word\n",
    "        F = self.F\n",
    "        name = 'demon_ph'\n",
    "        \n",
    "        return self.test(\n",
    "            {\n",
    "                'element': w,\n",
    "                'name': name,\n",
    "                'kind': self.kind,\n",
    "                'pattern': 'adjacent forward',\n",
    "                'roles': {'demon': word(w), 'head': word(P(1))},\n",
    "                'conds': {\n",
    "                    'prde in {F.pdp.v(w), F.sp.v(w)}':\n",
    "                        'prde' in {F.pdp.v(w), F.sp.v(w)},\n",
    "                    \n",
    "                    'P(-1,sp) != art': # ensure not part of attrib pattern\n",
    "                        P(-1,'sp') != 'art',\n",
    "                    \n",
    "                    'P(-1).name != prep':\n",
    "                        word(P(-1)).name != 'prep',\n",
    "                    \n",
    "                    'bool(P(1))':\n",
    "                        bool(P(1)),\n",
    "                    \n",
    "                    'P(1).name == cont':\n",
    "                        word(P(1)).name == 'cont',\n",
    "                }\n",
    "            },\n",
    "            {\n",
    "                'element': w,\n",
    "                'name': name,\n",
    "                'kind': self.kind,\n",
    "                'pattern': 'adjacent back',\n",
    "                'roles': {'demon':word(w), 'head':word(P(-1))},\n",
    "                'conds': {\n",
    "                    'prde in {F.pdp.v(w), F.sp.v(w)}':\n",
    "                        'prde' in {F.pdp.v(w), F.sp.v(w)},\n",
    "                    \n",
    "                    'P(-1).name not in {prep,qquant,card}':\n",
    "                        word(P(-1)).name not in {'prep','qquant','card'},\n",
    "                    \n",
    "                    'P(-1,sp) == subs':\n",
    "                        P(-1,'sp') == 'subs',\n",
    "                }\n",
    "            }\n",
    "        )"
   ]
  },
  {
   "cell_type": "markdown",
   "metadata": {},
   "source": [
    "### Load Constructions"
   ]
  },
  {
   "cell_type": "code",
   "execution_count": 38,
   "metadata": {},
   "outputs": [
    {
     "name": "stdout",
     "output_type": "stream",
     "text": [
      "Beginning word construction analysis...\n",
      "\t0:00:03.043908 COMPLETE \t[ 12887 ] words loaded\n"
     ]
    }
   ],
   "source": [
    "words = wordConstructions(A) # word CX builder\n",
    "\n",
    "# analyze all matches; return as dict\n",
    "start = datetime.now()\n",
    "print(f'Beginning word construction analysis...')\n",
    "wordcxs = words.cxdict(\n",
    "    s for tp in timephrases\n",
    "        for s in L.d(tp,'word')\n",
    ")\n",
    "print(f'\\t{datetime.now() - start} COMPLETE \\t[ {len(wordcxs)} ] words loaded')"
   ]
  },
  {
   "cell_type": "code",
   "execution_count": 39,
   "metadata": {},
   "outputs": [],
   "source": [
    "# time phrase CX builder\n",
    "tpc = TPConstructions(wordcxs, A)"
   ]
  },
  {
   "cell_type": "markdown",
   "metadata": {},
   "source": [
    "### TO FIX:"
   ]
  },
  {
   "cell_type": "code",
   "execution_count": 40,
   "metadata": {},
   "outputs": [
    {
     "name": "stdout",
     "output_type": "stream",
     "text": [
      "(687822, 687823) True None\n"
     ]
    },
    {
     "data": {
      "text/html": [
       "<p><b>result</b> <i>1447386</i></p>"
      ],
      "text/plain": [
       "<IPython.core.display.HTML object>"
      ]
     },
     "metadata": {},
     "output_type": "display_data"
    },
    {
     "data": {
      "text/html": [
       "<a href=\"https://shebanq.ancient-data.org/hebrew/text?book=Leviticus&amp;chapter=15&amp;verse=25&amp;version=c&amp;mr=m&amp;qw=q&amp;tp=txt_p&amp;tr=hb&amp;wget=v&amp;qget=v&amp;nget=vt\" title=\"show this passage in SHEBANQ\" sec=\"Leviticus 15:25\">Leviticus 15:25</a>\n",
       "<div class=\"atoms  \" >\n",
       "<a href=\"#\" class=\"nd\">687822</a>\n",
       "\n",
       "\n",
       "\n",
       "<div class=\"patom  \" >\n",
       "\n",
       "    <div class=\"phrase \" >\n",
       "        <a href=\"https://shebanq.ancient-data.org/hebrew/text?book=Leviticus&amp;chapter=15&amp;verse=25&amp;version=c&amp;mr=m&amp;qw=q&amp;tp=txt_p&amp;tr=hb&amp;wget=v&amp;qget=v&amp;nget=vt\" title=\"Leviticus 15:25\" sec=\"Leviticus 15:25\">phrase</a> <a href=\"#\" class=\"nd\">687822</a>  <span class=\"function\">Time</span> <span class=\"typ\">NP</span>\n",
       "    </div>\n",
       "    <div class=\"atoms\">\n",
       "\n",
       "<div class=\"word  \" >\n",
       "<a href=\"#\" class=\"nd\">61994</a>\n",
       "<div class=\"h\"><a target=\"_blank\" href=\"https://shebanq.ancient-data.org/hebrew/word?version=c&amp;id=1JWMn\" title=\"show this lexeme in SHEBANQ\">יָמִ֣ים </a></div>\n",
       "<div class=\"features\"> <span class=\"pdp\"><a href=\"https://shebanq.ancient-data.org/hebrew/text?book=Leviticus&amp;chapter=15&amp;verse=25&amp;version=c&amp;mr=m&amp;qw=q&amp;tp=txt_p&amp;tr=hb&amp;wget=v&amp;qget=v&amp;nget=vt\" title=\"Leviticus 15:25\" sec=\"Leviticus 15:25\">subs</a></span> <span class=\"gloss\">day</span> <span class=\"st xft\"><span class=\"f\">st=</span>a</span></div>\n",
       "\n",
       "\n",
       "</div>\n",
       "\n",
       "<div class=\"word  \" >\n",
       "<a href=\"#\" class=\"nd\">61995</a>\n",
       "<div class=\"h\"><a target=\"_blank\" href=\"https://shebanq.ancient-data.org/hebrew/word?version=c&amp;id=1RBn\" title=\"show this lexeme in SHEBANQ\">רַבִּ֗ים </a></div>\n",
       "<div class=\"features\"> <span class=\"pdp\"><a href=\"https://shebanq.ancient-data.org/hebrew/text?book=Leviticus&amp;chapter=15&amp;verse=25&amp;version=c&amp;mr=m&amp;qw=q&amp;tp=txt_p&amp;tr=hb&amp;wget=v&amp;qget=v&amp;nget=vt\" title=\"Leviticus 15:25\" sec=\"Leviticus 15:25\">adjv</a></span> <span class=\"gloss\">much</span> <span class=\"st xft\"><span class=\"f\">st=</span>a</span></div>\n",
       "\n",
       "\n",
       "</div>\n",
       "\n",
       "\n",
       "    </div>\n",
       "\n",
       "\n",
       "</div>\n",
       "\n",
       "\n",
       "</div>\n"
      ],
      "text/plain": [
       "<IPython.core.display.HTML object>"
      ]
     },
     "metadata": {},
     "output_type": "display_data"
    },
    {
     "data": {
      "text/html": [
       "<a href=\"https://shebanq.ancient-data.org/hebrew/text?book=Leviticus&amp;chapter=15&amp;verse=25&amp;version=c&amp;mr=m&amp;qw=q&amp;tp=txt_p&amp;tr=hb&amp;wget=v&amp;qget=v&amp;nget=vt\" title=\"show this passage in SHEBANQ\" sec=\"Leviticus 15:25\">Leviticus 15:25</a>\n",
       "<div class=\"atoms  \" >\n",
       "<a href=\"#\" class=\"nd\">687823</a>\n",
       "\n",
       "\n",
       "\n",
       "<div class=\"patom  \" >\n",
       "\n",
       "    <div class=\"phrase \" >\n",
       "        <a href=\"https://shebanq.ancient-data.org/hebrew/text?book=Leviticus&amp;chapter=15&amp;verse=25&amp;version=c&amp;mr=m&amp;qw=q&amp;tp=txt_p&amp;tr=hb&amp;wget=v&amp;qget=v&amp;nget=vt\" title=\"Leviticus 15:25\" sec=\"Leviticus 15:25\">phrase</a> <a href=\"#\" class=\"nd\">687823</a>  <span class=\"function\">Time</span> <span class=\"typ\">PP</span>\n",
       "    </div>\n",
       "    <div class=\"atoms\">\n",
       "\n",
       "<div class=\"word  \" >\n",
       "<a href=\"#\" class=\"nd\">61996</a>\n",
       "<div class=\"h\"><a target=\"_blank\" href=\"https://shebanq.ancient-data.org/hebrew/word?version=c&amp;id=1B\" title=\"show this lexeme in SHEBANQ\">בְּ</a></div>\n",
       "<div class=\"features\"> <span class=\"pdp\"><a href=\"https://shebanq.ancient-data.org/hebrew/text?book=Leviticus&amp;chapter=15&amp;verse=25&amp;version=c&amp;mr=m&amp;qw=q&amp;tp=txt_p&amp;tr=hb&amp;wget=v&amp;qget=v&amp;nget=vt\" title=\"Leviticus 15:25\" sec=\"Leviticus 15:25\">prep</a></span> <span class=\"gloss\">in</span></div>\n",
       "\n",
       "\n",
       "</div>\n",
       "\n",
       "<div class=\"word  \" >\n",
       "<a href=\"#\" class=\"nd\">61997</a>\n",
       "<div class=\"h\"><a target=\"_blank\" href=\"https://shebanq.ancient-data.org/hebrew/word?version=c&amp;id=1LA\" title=\"show this lexeme in SHEBANQ\">לֹא֙ </a></div>\n",
       "<div class=\"features\"> <span class=\"pdp\"><a href=\"https://shebanq.ancient-data.org/hebrew/text?book=Leviticus&amp;chapter=15&amp;verse=25&amp;version=c&amp;mr=m&amp;qw=q&amp;tp=txt_p&amp;tr=hb&amp;wget=v&amp;qget=v&amp;nget=vt\" title=\"Leviticus 15:25\" sec=\"Leviticus 15:25\">nega</a></span> <span class=\"gloss\">not</span></div>\n",
       "\n",
       "\n",
       "</div>\n",
       "\n",
       "<div class=\"word  \" >\n",
       "<a href=\"#\" class=\"nd\">61998</a>\n",
       "<div class=\"h\"><a target=\"_blank\" href=\"https://shebanq.ancient-data.org/hebrew/word?version=c&amp;id=1OTn\" title=\"show this lexeme in SHEBANQ\">עֶת־</a></div>\n",
       "<div class=\"features\"> <span class=\"pdp\"><a href=\"https://shebanq.ancient-data.org/hebrew/text?book=Leviticus&amp;chapter=15&amp;verse=25&amp;version=c&amp;mr=m&amp;qw=q&amp;tp=txt_p&amp;tr=hb&amp;wget=v&amp;qget=v&amp;nget=vt\" title=\"Leviticus 15:25\" sec=\"Leviticus 15:25\">subs</a></span> <span class=\"gloss\">time</span> <span class=\"st xft\"><span class=\"f\">st=</span>c</span></div>\n",
       "\n",
       "\n",
       "</div>\n",
       "\n",
       "<div class=\"word  \" >\n",
       "<a href=\"#\" class=\"nd\">61999</a>\n",
       "<div class=\"h\"><a target=\"_blank\" href=\"https://shebanq.ancient-data.org/hebrew/word?version=c&amp;id=1NDHn\" title=\"show this lexeme in SHEBANQ\">נִדָּתָ֔הּ </a></div>\n",
       "<div class=\"features\"> <span class=\"pdp\"><a href=\"https://shebanq.ancient-data.org/hebrew/text?book=Leviticus&amp;chapter=15&amp;verse=25&amp;version=c&amp;mr=m&amp;qw=q&amp;tp=txt_p&amp;tr=hb&amp;wget=v&amp;qget=v&amp;nget=vt\" title=\"Leviticus 15:25\" sec=\"Leviticus 15:25\">subs</a></span> <span class=\"gloss\">menstruation</span> <span class=\"st xft\"><span class=\"f\">st=</span>a</span></div>\n",
       "\n",
       "\n",
       "</div>\n",
       "\n",
       "\n",
       "    </div>\n",
       "\n",
       "\n",
       "</div>\n",
       "\n",
       "\n",
       "</div>\n"
      ],
      "text/plain": [
       "<IPython.core.display.HTML object>"
      ]
     },
     "metadata": {},
     "output_type": "display_data"
    }
   ],
   "source": [
    "pretty(1447386)"
   ]
  },
  {
   "cell_type": "markdown",
   "metadata": {},
   "source": [
    "NB: L> is marked as the object of the preposition"
   ]
  },
  {
   "cell_type": "markdown",
   "metadata": {},
   "source": [
    "### Small Tests"
   ]
  },
  {
   "cell_type": "code",
   "execution_count": 41,
   "metadata": {},
   "outputs": [
    {
     "name": "stdout",
     "output_type": "stream",
     "text": [
      "NO MATCHES\n",
      "--------------------\n"
     ]
    },
    {
     "data": {
      "text/html": [
       "<p><b>result</b> <i>1448360 -> {CX EMPTY}</i></p>"
      ],
      "text/plain": [
       "<IPython.core.display.HTML object>"
      ]
     },
     "metadata": {},
     "output_type": "display_data"
    },
    {
     "data": {
      "text/html": [
       "<a href=\"https://shebanq.ancient-data.org/hebrew/text?book=Samuel_I&amp;chapter=25&amp;verse=16&amp;version=c&amp;mr=m&amp;qw=q&amp;tp=txt_p&amp;tr=hb&amp;wget=v&amp;qget=v&amp;nget=vt\" title=\"show this passage in SHEBANQ\" sec=\"1_Samuel 25:16\">1_Samuel 25:16</a>\n",
       "<div class=\"atoms  \" >\n",
       "<a href=\"#\" class=\"nd\">741485</a>\n",
       "\n",
       "\n",
       "\n",
       "<div class=\"patom  l \" >\n",
       "\n",
       "    <div class=\"phrase \" >\n",
       "        <a href=\"https://shebanq.ancient-data.org/hebrew/text?book=Samuel_I&amp;chapter=25&amp;verse=16&amp;version=c&amp;mr=m&amp;qw=q&amp;tp=txt_p&amp;tr=hb&amp;wget=v&amp;qget=v&amp;nget=vt\" title=\"1_Samuel 25:16\" sec=\"1_Samuel 25:16\">phrase</a> <a href=\"#\" class=\"nd\">741485</a>  <span class=\"function\">Time</span> <span class=\"typ\">AdvP</span>\n",
       "    </div>\n",
       "    <div class=\"atoms\">\n",
       "\n",
       "<div class=\"word  \" >\n",
       "<a href=\"#\" class=\"nd\">156845</a>\n",
       "<div class=\"h\"><a target=\"_blank\" href=\"https://shebanq.ancient-data.org/hebrew/word?version=c&amp;id=1GM\" title=\"show this lexeme in SHEBANQ\">גַּם־</a></div>\n",
       "<div class=\"features\"> <span class=\"pdp\"><a href=\"https://shebanq.ancient-data.org/hebrew/text?book=Samuel_I&amp;chapter=25&amp;verse=16&amp;version=c&amp;mr=m&amp;qw=q&amp;tp=txt_p&amp;tr=hb&amp;wget=v&amp;qget=v&amp;nget=vt\" title=\"1_Samuel 25:16\" sec=\"1_Samuel 25:16\">advb</a></span> <span class=\"gloss\">even</span> <span class=\"sp xft\"><span class=\"f\">sp=</span>advb</span></div>\n",
       "\n",
       "\n",
       "</div>\n",
       "\n",
       "<div class=\"word  \" >\n",
       "<a href=\"#\" class=\"nd\">156846</a>\n",
       "<div class=\"h\"><a target=\"_blank\" href=\"https://shebanq.ancient-data.org/hebrew/word?version=c&amp;id=1LJLHn\" title=\"show this lexeme in SHEBANQ\">לַ֖יְלָה </a></div>\n",
       "<div class=\"features\"> <span class=\"pdp\"><a href=\"https://shebanq.ancient-data.org/hebrew/text?book=Samuel_I&amp;chapter=25&amp;verse=16&amp;version=c&amp;mr=m&amp;qw=q&amp;tp=txt_p&amp;tr=hb&amp;wget=v&amp;qget=v&amp;nget=vt\" title=\"1_Samuel 25:16\" sec=\"1_Samuel 25:16\">advb</a></span> <span class=\"gloss\">night</span> <span class=\"sp xft\"><span class=\"f\">sp=</span>subs</span> <span class=\"st xft\"><span class=\"f\">st=</span>a</span></div>\n",
       "\n",
       "\n",
       "</div>\n",
       "\n",
       "<div class=\"word  \" >\n",
       "<a href=\"#\" class=\"nd\">156847</a>\n",
       "<div class=\"h\"><a target=\"_blank\" href=\"https://shebanq.ancient-data.org/hebrew/word?version=c&amp;id=1GM\" title=\"show this lexeme in SHEBANQ\">גַּם־</a></div>\n",
       "<div class=\"features\"> <span class=\"pdp\"><a href=\"https://shebanq.ancient-data.org/hebrew/text?book=Samuel_I&amp;chapter=25&amp;verse=16&amp;version=c&amp;mr=m&amp;qw=q&amp;tp=txt_p&amp;tr=hb&amp;wget=v&amp;qget=v&amp;nget=vt\" title=\"1_Samuel 25:16\" sec=\"1_Samuel 25:16\">advb</a></span> <span class=\"gloss\">even</span> <span class=\"sp xft\"><span class=\"f\">sp=</span>advb</span></div>\n",
       "\n",
       "\n",
       "</div>\n",
       "\n",
       "<div class=\"word  \" >\n",
       "<a href=\"#\" class=\"nd\">156848</a>\n",
       "<div class=\"h\"><a target=\"_blank\" href=\"https://shebanq.ancient-data.org/hebrew/word?version=c&amp;id=1JWMM\" title=\"show this lexeme in SHEBANQ\">יֹומָ֑ם </a></div>\n",
       "<div class=\"features\"> <span class=\"pdp\"><a href=\"https://shebanq.ancient-data.org/hebrew/text?book=Samuel_I&amp;chapter=25&amp;verse=16&amp;version=c&amp;mr=m&amp;qw=q&amp;tp=txt_p&amp;tr=hb&amp;wget=v&amp;qget=v&amp;nget=vt\" title=\"1_Samuel 25:16\" sec=\"1_Samuel 25:16\">advb</a></span> <span class=\"gloss\">by day</span> <span class=\"sp xft\"><span class=\"f\">sp=</span>advb</span></div>\n",
       "\n",
       "\n",
       "</div>\n",
       "\n",
       "\n",
       "    </div>\n",
       "\n",
       "\n",
       "</div>\n",
       "\n",
       "<div class=\"patom  r \" >\n",
       "\n",
       "    <div class=\"phrase \" >\n",
       "        <a href=\"https://shebanq.ancient-data.org/hebrew/text?book=Samuel_I&amp;chapter=25&amp;verse=16&amp;version=c&amp;mr=m&amp;qw=q&amp;tp=txt_p&amp;tr=hb&amp;wget=v&amp;qget=v&amp;nget=vt\" title=\"1_Samuel 25:16\" sec=\"1_Samuel 25:16\">phrase</a> <a href=\"#\" class=\"nd\">741485</a>  <span class=\"function\">Time</span> <span class=\"typ\">AdvP|NP</span>\n",
       "    </div>\n",
       "    <div class=\"atoms\">\n",
       "\n",
       "<div class=\"word  \" >\n",
       "<a href=\"#\" class=\"nd\">156849</a>\n",
       "<div class=\"h\"><a target=\"_blank\" href=\"https://shebanq.ancient-data.org/hebrew/word?version=c&amp;id=1KLn\" title=\"show this lexeme in SHEBANQ\">כָּל־</a></div>\n",
       "<div class=\"features\"> <span class=\"pdp\"><a href=\"https://shebanq.ancient-data.org/hebrew/text?book=Samuel_I&amp;chapter=25&amp;verse=16&amp;version=c&amp;mr=m&amp;qw=q&amp;tp=txt_p&amp;tr=hb&amp;wget=v&amp;qget=v&amp;nget=vt\" title=\"1_Samuel 25:16\" sec=\"1_Samuel 25:16\">subs</a></span> <span class=\"gloss\">whole</span> <span class=\"sp xft\"><span class=\"f\">sp=</span>subs</span> <span class=\"st xft\"><span class=\"f\">st=</span>c</span></div>\n",
       "\n",
       "\n",
       "</div>\n",
       "\n",
       "<div class=\"word  \" >\n",
       "<a href=\"#\" class=\"nd\">156850</a>\n",
       "<div class=\"h\"><a target=\"_blank\" href=\"https://shebanq.ancient-data.org/hebrew/word?version=c&amp;id=1JWMn\" title=\"show this lexeme in SHEBANQ\">יְמֵ֛י </a></div>\n",
       "<div class=\"features\"> <span class=\"pdp\"><a href=\"https://shebanq.ancient-data.org/hebrew/text?book=Samuel_I&amp;chapter=25&amp;verse=16&amp;version=c&amp;mr=m&amp;qw=q&amp;tp=txt_p&amp;tr=hb&amp;wget=v&amp;qget=v&amp;nget=vt\" title=\"1_Samuel 25:16\" sec=\"1_Samuel 25:16\">subs</a></span> <span class=\"gloss\">day</span> <span class=\"sp xft\"><span class=\"f\">sp=</span>subs</span> <span class=\"st xft\"><span class=\"f\">st=</span>c</span></div>\n",
       "\n",
       "\n",
       "</div>\n",
       "\n",
       "\n",
       "    </div>\n",
       "\n",
       "\n",
       "</div>\n",
       "\n",
       "\n",
       "</div>\n"
      ],
      "text/plain": [
       "<IPython.core.display.HTML object>"
      ]
     },
     "metadata": {},
     "output_type": "display_data"
    },
    {
     "name": "stdout",
     "output_type": "stream",
     "text": [
      "-- {CX EMPTY} --\n",
      "pattern: advb_ph\n",
      "F.sp.v(156848) == advb                                   True\n",
      "P(-1,sp) != art                                          True\n",
      "bool(P(1))                                               True\n",
      "P(1,sp) != conj                                          True\n",
      "P(-1).name != prep                                       True\n",
      "F.lex.v(JWMM) not in noadvb_set                          False\n",
      "\n",
      "-- CX cont {156848} --\n",
      "pattern: cont\n",
      "bool(F.pdp.v(156848))                                    True\n",
      "\n",
      "-- CX qquant {156849} --\n",
      "pattern: qualitative\n",
      "KL/ in lexset                                            True\n",
      "\n",
      "pattern: portion\n",
      "KL/ in lexset                                           False\n",
      "\n"
     ]
    }
   ],
   "source": [
    "test_small = tpc.advb(156848)\n",
    "showcx(test_small, conds=True)"
   ]
  },
  {
   "cell_type": "markdown",
   "metadata": {},
   "source": [
    "### Stretch Tests"
   ]
  },
  {
   "cell_type": "code",
   "execution_count": 42,
   "metadata": {},
   "outputs": [],
   "source": [
    "# test = tpc.analyzestretch(L.d(1450368, 'word'), debug=True)\n",
    "\n",
    "# for res in test:\n",
    "#     showcx(res, conds=True)"
   ]
  },
  {
   "cell_type": "markdown",
   "metadata": {},
   "source": [
    "### Pattern Searches"
   ]
  },
  {
   "cell_type": "code",
   "execution_count": 43,
   "metadata": {},
   "outputs": [],
   "source": [
    "# words = [w for ph in timephrases for w in L.d(ph, 'word')]\n",
    "\n",
    "# test_search(words, words.ordinal, pattern='', show=100, end=10)"
   ]
  },
  {
   "cell_type": "markdown",
   "metadata": {},
   "source": [
    "### Testing on Random Phrases"
   ]
  },
  {
   "cell_type": "code",
   "execution_count": 44,
   "metadata": {},
   "outputs": [],
   "source": [
    "shuff = [k for k in timephrases\n",
    "            if len(L.d(k,'word')) > 4]\n",
    "random.shuffle(shuff)"
   ]
  },
  {
   "cell_type": "code",
   "execution_count": 45,
   "metadata": {},
   "outputs": [],
   "source": [
    "# for phrase in shuff[:50]:\n",
    "    \n",
    "#     print('analyzing', phrase)\n",
    "#     elements = L.d(phrase,'word')\n",
    "    \n",
    "#     try:\n",
    "#         cxs = tpc.analyzestretch(elements)\n",
    "#         if cxs:\n",
    "#             for cx in cxs:\n",
    "#                 showcx(cx, refslots=elements)\n",
    "#         else:\n",
    "#             showcx(Construction(), refslots=elements)\n",
    "    \n",
    "#     except:\n",
    "#         sys.stderr.write(f'\\nFAIL...running with debug...\\n')\n",
    "#         pretty(phrase)\n",
    "#         tpc.analyzestretch(elements, debug=True)\n",
    "#         raise Exception('...debug complete...')"
   ]
  },
  {
   "cell_type": "markdown",
   "metadata": {},
   "source": [
    "### Testing on All Timephrases"
   ]
  },
  {
   "cell_type": "code",
   "execution_count": 46,
   "metadata": {},
   "outputs": [
    {
     "name": "stdout",
     "output_type": "stream",
     "text": [
      "0:00:00.000035 beginning analysis...\n",
      "\t0:00:02.662806\tdone with iter 500/3864\n",
      "\t0:00:05.531925\tdone with iter 1000/3864\n",
      "\t0:00:07.903858\tdone with iter 1500/3864\n",
      "\t0:00:10.759296\tdone with iter 2000/3864\n",
      "\t0:00:13.755017\tdone with iter 2500/3864\n",
      "\t0:00:16.128230\tdone with iter 3000/3864\n",
      "\t0:00:17.810537\tdone with iter 3500/3864\n",
      "0:00:19.435430\tCOMPLETE\n",
      "--------------------\n",
      "3864 phrases matched with Constructions...\n",
      "0 phrases not yet matched with Constructions...\n"
     ]
    }
   ],
   "source": [
    "phrase2cxs = collections.defaultdict(list)\n",
    "nocxs = []\n",
    "\n",
    "# time it\n",
    "start = datetime.now()\n",
    "\n",
    "print(f'{datetime.now()-start} beginning analysis...')\n",
    "\n",
    "for i, phrase in enumerate(timephrases):\n",
    "     \n",
    "    # analyze all known relas\n",
    "    elements = L.d(phrase,'word')\n",
    "    \n",
    "    # analyze with debug exceptions\n",
    "    try:\n",
    "        cxs = tpc.analyzestretch(elements)\n",
    "    except:\n",
    "        sys.stderr.write(f'\\nFAIL...running with debug...\\n')\n",
    "        pretty(phrase)\n",
    "        tpc.analyzestretch(elements, debug=True)\n",
    "        raise Exception('...debug complete...')\n",
    "\n",
    "    # save those phrases that have no matching constructions\n",
    "    if not cxs:\n",
    "        nocxs.append(phrase)\n",
    "    else:\n",
    "        phrase2cxs[phrase] = cxs\n",
    "        \n",
    "    # report status\n",
    "    if i % 500 == 0 and i:\n",
    "        print(f'\\t{datetime.now()-start}\\tdone with iter {i}/{len(timephrases)}')\n",
    "        \n",
    "print(f'{datetime.now()-start}\\tCOMPLETE')\n",
    "print('-'*20)\n",
    "print(f'{len(phrase2cxs)} phrases matched with Constructions...')\n",
    "print(f'{len(nocxs)} phrases not yet matched with Constructions...')"
   ]
  },
  {
   "cell_type": "markdown",
   "metadata": {},
   "source": [
    "## Closing Gaps\n",
    "\n",
    "### Identify Gaps\n",
    "\n",
    "Find timephrases that contain un-covered words besides waw conjunctions."
   ]
  },
  {
   "cell_type": "code",
   "execution_count": 47,
   "metadata": {},
   "outputs": [
    {
     "name": "stdout",
     "output_type": "stream",
     "text": [
      "0 gapped phrases logged...\n"
     ]
    }
   ],
   "source": [
    "gapped = []\n",
    "tested = []\n",
    "\n",
    "for ph, cxs in phrase2cxs.items():\n",
    "    \n",
    "    tested.append(ph)\n",
    "    \n",
    "    ph_slots = set(\n",
    "        s for s in L.d(ph,'word')\n",
    "    )\n",
    "    cx_slots = set(\n",
    "        s for cx in cxs\n",
    "            for s in cx.slots\n",
    "    )\n",
    "    \n",
    "    if ph_slots.difference(cx_slots):\n",
    "        gapped.append(cxs)\n",
    "        \n",
    "print(f'{len(gapped)} gapped phrases logged...')"
   ]
  },
  {
   "cell_type": "code",
   "execution_count": 48,
   "metadata": {},
   "outputs": [],
   "source": [
    "for gp in gapped[:25]:\n",
    "    for cx in gp:\n",
    "        showcx(cx)"
   ]
  },
  {
   "cell_type": "markdown",
   "metadata": {},
   "source": [
    "## Connecting Constructions\n",
    "\n",
    "Developing a CXbuilder to connect all constructions in a phrase."
   ]
  },
  {
   "cell_type": "code",
   "execution_count": 168,
   "metadata": {},
   "outputs": [],
   "source": [
    "class CXbuilderPH(CXbuilder):\n",
    "    \"\"\"Build complete phrase constructions.\"\"\"\n",
    "    \n",
    "    def __init__(self, phrase2cxs, tf):\n",
    "        CXbuilder.__init__(self)\n",
    "        \n",
    "        # set up tf methods\n",
    "        self.tf = tf\n",
    "        self.F, self.T, self.L = tf.api.F, tf.api.T, tf.api.L\n",
    "        \n",
    "        # map cx to phrase node for context retrieval\n",
    "        self.cx2phrase = {\n",
    "            cx:ph \n",
    "                for ph in phrase2cxs\n",
    "                    for cx in phrase2cxs[ph]\n",
    "        }\n",
    "        \n",
    "        self.phrase2cxs = phrase2cxs\n",
    "        \n",
    "        self.cxs = (        \n",
    "            self.plusprep,\n",
    "            self.adjacent\n",
    "        )\n",
    "        self.dripbucket = (\n",
    "            self.cxph,\n",
    "        )\n",
    "        \n",
    "        self.kind = 'phrase'\n",
    "        \n",
    "    def get_context(self, cx):\n",
    "        \"\"\"Get context for a given cx.\"\"\"\n",
    "        phrase = self.cx2phrase.get(cx, None)\n",
    "        if phrase:\n",
    "            return self.phrase2cxs[phrase]\n",
    "        else:\n",
    "            return tuple()\n",
    "        \n",
    "    def getP(self, cx):\n",
    "        \"\"\"Index positions on phrase context\"\"\"\n",
    "        positions = self.get_context(cx)\n",
    "        if positions:\n",
    "            return Positions(\n",
    "                cx, positions, default=Construction()\n",
    "            ).get\n",
    "        else:\n",
    "            return Dummy\n",
    "\n",
    "    def getWk(self, cx):\n",
    "        \"\"\"Index walks on phrase context\"\"\"\n",
    "        positions = self.get_context(cx)\n",
    "        if positions:\n",
    "            return Walker(cx, positions)\n",
    "        else:\n",
    "            return Dummy\n",
    "    \n",
    "    def getindex(\n",
    "        self, indexable, index, \n",
    "        default=Construction()\n",
    "    ):\n",
    "        \"\"\"Safe indexing\"\"\"\n",
    "        try:\n",
    "            return indexable[index]\n",
    "        except:\n",
    "            return default\n",
    "    \n",
    "    def getname(self, cx):\n",
    "        \"\"\"Get a cx name\"\"\"\n",
    "        return cx.name\n",
    "    \n",
    "    def getkind(self, cx):\n",
    "        \"\"\"Get a cx kind.\"\"\"\n",
    "        return cx.kind\n",
    "    \n",
    "    def getrole(self, cx, role, index=-1):\n",
    "        \"\"\"Get a cx role or empty cx.\n",
    "        \n",
    "        e.g. getrole(head,cx)\n",
    "        \"\"\"\n",
    "        cands = list(cx.unfoldrole(role))\n",
    "        return(\n",
    "            cands[index]\n",
    "            if cands\n",
    "            else Construction()\n",
    "        )\n",
    "    \n",
    "    def cxph(self, cx):\n",
    "        \"\"\"Dripbucket function that returns cx as is.\"\"\"\n",
    "        return cx\n",
    "    \n",
    "    def plusprep(self, cx):\n",
    "        \"\"\"Find phrase+prep CXs\"\"\"\n",
    "        \n",
    "        P = self.getP(cx)\n",
    "                \n",
    "        return self.test(\n",
    "            {\n",
    "                'element': cx,\n",
    "                'name': '+prep',\n",
    "                'kind': self.kind,\n",
    "                'roles': {'+prep': cx, 'head': P(-1)},\n",
    "                'conds': {\n",
    "                    'cx.name == prep_ph':\n",
    "                        cx.name == 'prep_ph',\n",
    "                    'bool(P(-1))':\n",
    "                        bool(P(-1)),\n",
    "                    'P(-1,name) != conj':\n",
    "                        P(-1).name != 'conj',\n",
    "                }\n",
    "            }\n",
    "        )\n",
    "    \n",
    "    def adjacent(self, cx):\n",
    "        \"\"\"Find adjacent CXs\"\"\"\n",
    "        \n",
    "        P = self.getP(cx)\n",
    "        \n",
    "        return self.test(\n",
    "            {\n",
    "                'element': cx,\n",
    "                'name': 'adjacent',\n",
    "                'kind': self.kind,\n",
    "                'roles': {'phrase1':cx, 'phrase2':P(1)},\n",
    "                'conds': {\n",
    "                    'cx.name not in {conj,prep}':\n",
    "                        cx.name not in {'conj','prep_ph'},\n",
    "                    'bool(P(1))':\n",
    "                        bool(P(1)),\n",
    "                    'P(1,name) not in {conj, prep_ph}':\n",
    "                        P(1,self.getname) not in {'conj','prep_ph'},\n",
    "                    'not appo_name(P(1))':\n",
    "                        not (self.appo_name(P(1)) if P(1) else False),\n",
    "                    'not appo_name(cx)':\n",
    "                        not self.appo_name(cx),\n",
    "                }\n",
    "            }\n",
    "        \n",
    "        )\n",
    "    \n",
    "    def appo_name(self, cx):\n",
    "        \"\"\"Apposition of name\"\"\"\n",
    "        \n",
    "        P = self.getP(cx)\n",
    "        \n",
    "        cxhead = self.getrole(cx, 'head')\n",
    "        \n",
    "        # get very last embedded cx in P(-1)\n",
    "        namecx = self.getindex(\n",
    "            self.sortbyslot(P(-1).unfoldcxs()),\n",
    "            -1\n",
    "        )\n",
    "        \n",
    "        # get slots for tests\n",
    "        first_slot = sorted(cx.slots)[0] # of this cx\n",
    "        head_slot = int(cxhead) if cxhead else 0\n",
    "        name_slot = int(namecx) if namecx else 0\n",
    "        \n",
    "        return self.test(\n",
    "        \n",
    "            {\n",
    "                'element': cx,\n",
    "                'name': 'appo_name',\n",
    "                'kind': self.kind,\n",
    "                'roles': {'name': cx, 'head':namecx},\n",
    "                'conds': {\n",
    "                    \n",
    "                    'cx(head).name == cont':\n",
    "                        cxhead.name == 'cont',\n",
    "                    \n",
    "                    'cx.name not in {prep_ph}':\n",
    "                        cx.name not in {'prep_ph'},\n",
    "                    \n",
    "                    'bool(P(-1))':\n",
    "                        bool(P(-1)),\n",
    "                    \n",
    "                    'backcx.name == name':\n",
    "                        namecx.name == 'name',\n",
    "                    \n",
    "                    f'F.nu.v({head_slot}) == F.nu.v({name_slot})':\n",
    "                        F.nu.v(head_slot) == F.nu.v(name_slot),\n",
    "                    \n",
    "                    'head_slot == first_slot or first_slot==art':\n",
    "                        (\n",
    "                            head_slot == first_slot\n",
    "                            or self.F.sp.v(first_slot) == 'art'\n",
    "                        ),\n",
    "                    \n",
    "                    # NB:\n",
    "                    # rule below reveals the need to be able to say\n",
    "                    # what head_slot should be; i.e., the lexeme should\n",
    "                    # be semantically consistent with the ID of the proper name\n",
    "                    # if person, head_slot should ~ person, etc.\n",
    "                    'F.lex.v(head_slot) not in timeword set':\n",
    "                        F.lex.v(head_slot) not in {'CNH/'}\n",
    "                }\n",
    "            }\n",
    "        )\n",
    "    \n",
    "    def coord(self, cx):\n",
    "        \"\"\"A coordinate construction.\n",
    "        \n",
    "        In order to match a coordinate cx, we need to determine\n",
    "        which item in the previous phrase this cx belongs with. \n",
    "        This is done using a semantic vector space, which can\n",
    "        quantify the approximate semantic distance between the\n",
    "        heads of this cx and a candidate cx.\n",
    "        \n",
    "        Criteria utilized in validating a coordinate cx between\n",
    "        an origin cx and a candidate cx are the following:\n",
    "            TODO: fill in\n",
    "        \"\"\"\n",
    "        \n",
    "        P = self.getP(cx)\n",
    "        Wk = self.getWk(cx)\n",
    "        \n",
    "        head1 = self.getrole(cx,'head')\n",
    "                \n",
    "        head1lex = F.lex.v(head1)\n",
    "        \n",
    "        # get all cxs behind this one that match in name\n",
    "        # a fall-back option is given in default=[P(-2)]\n",
    "        cx_behinds = Wk.back(\n",
    "            lambda c: c.name == cx.name, \n",
    "            default=[P(-2)],\n",
    "            every=True,\n",
    "            stop=lambda c: c.name == 'conj' and (c != P(-1))\n",
    "        )\n",
    "        \n",
    "        # map each back-cx to its last slot\n",
    "        cx2last = {\n",
    "            cxb:self.getindex(sorted(cxb.slots), -1, 0)\n",
    "                for cxb in cx_behinds\n",
    "        }\n",
    "        \n",
    "        # find coordinate candidate subphrases\n",
    "        cx_subphrases = [\n",
    "            cxsp for cx_back in cx_behinds\n",
    "                for cxsp in cx_back.unfoldcxs()\n",
    "                    if cx2last[cx_back] in cxsp.slots\n",
    "                    and cxsp.roles.head\n",
    "        ]\n",
    "        \n",
    "        # get subphrase heads\n",
    "        cx2heads = [\n",
    "            (cxsp, self.getrole(cxsp,'head'))\n",
    "                for cxsp in cx_subphrases\n",
    "        ]\n",
    "                \n",
    "        # sort on a set of priorities\n",
    "        # the default sort behavior is used (least to greatest)\n",
    "        # thus when a bigger value should be more important, \n",
    "        # a negative is added to the number\n",
    "        cxpriority = sorted(\n",
    "            (\n",
    "                0 if cxsp.name == cx.name else 1, # equality in name\n",
    "                semdist.get(head1lex,{}).get(F.lex.v(headsp), np.inf), # semantic distance\n",
    "                -len(cxsp.slots),           # negative prioritizes longer\n",
    "                -next(iter(cxsp.slots), 0), # slot distance\n",
    "                (head1, headsp), # heads for conds report\n",
    "                cxsp\n",
    "            )\n",
    "                for cxsp,headsp in cx2heads\n",
    "        )\n",
    "        \n",
    "        # select the first priority candidate\n",
    "        cand = next(iter(cxpriority), (0,0,Construction()))\n",
    "        \n",
    "        # add data for conds report / debugging\n",
    "        data = collections.defaultdict(str)\n",
    "        for namescore,dist,leng,lslot,heads,cxp in cxpriority:\n",
    "            # name equality\n",
    "            data['namescore'] += f'\\n\\t{cxp} namescore: {namescore}'\n",
    "            # semantic distance\n",
    "            data['semdists'] += (\n",
    "                f'\\n\\t{round(dist, 2)}, {F.lex.v(heads[0])} ~ {F.lex.v(heads[1])}, {cxp}'\n",
    "            )\n",
    "            # size of cx\n",
    "            data['size'] += f'\\n\\t{cxp} length: {abs(leng)}'\n",
    "            # dist of last slot\n",
    "            data['lslot'] += f'\\n\\t{cxp} last slot: {abs(lslot)}'\n",
    "    \n",
    "        \n",
    "        return self.test(\n",
    "            {\n",
    "                'element': cx,\n",
    "                'name': 'coord',\n",
    "                'kind': self.kind,\n",
    "                'roles': {'part2':cx, 'conj': P(-1), 'part1': cand[-1]},\n",
    "                'conds': {\n",
    "                    'P(-1).name == conj':\n",
    "                        P(-1).name == 'conj',\n",
    "                    'bool(cand)':\n",
    "                        bool(cand[-1]),\n",
    "                    f'name matches {data[\"namescore\"]}\\n':\n",
    "                        bool(cxpriority),\n",
    "                    f'is shortest sem. distance of {data[\"semdists\"]}\\n':\n",
    "                        bool(cxpriority),\n",
    "                    f'is longest length of: {data[\"size\"]}\\n':\n",
    "                        bool(cxpriority),\n",
    "                    f'is closest last slot of: {data[\"lslot\"]}\\n':\n",
    "                        bool(cxpriority)\n",
    "                }\n",
    "            }\n",
    "            \n",
    "            # NB Need a separate pattern for word-level connections\n",
    "            # e.g. יום ולילה are missed by above pattern due to head1 rela\n",
    "        )"
   ]
  },
  {
   "cell_type": "markdown",
   "metadata": {},
   "source": [
    "## Tests"
   ]
  },
  {
   "cell_type": "code",
   "execution_count": 169,
   "metadata": {},
   "outputs": [],
   "source": [
    "cxp = CXbuilderPH(phrase2cxs, A)"
   ]
  },
  {
   "cell_type": "markdown",
   "metadata": {},
   "source": [
    "### Small Tests"
   ]
  },
  {
   "cell_type": "markdown",
   "metadata": {},
   "source": [
    "### Test Case Below\n",
    "\n",
    "Below I test out a series of procedures for testing coordinate candidates. There are three essential criteria for evaluating a candidate:\n",
    "\n",
    "    1. candidate is head of a phrase which is adjacent to origin\n",
    "    2. candidate is more semantically similar (sim=cosine distance in vector space) to origin than other candidates\n",
    "    3. the largest of the candidate's headed phrases is selected\n",
    "    \n",
    "Below such a possible procedure is tested:"
   ]
  },
  {
   "cell_type": "code",
   "execution_count": 170,
   "metadata": {},
   "outputs": [
    {
     "data": {
      "text/plain": [
       "[CX defi_ph {39266, 39267}, CX conj {39268}, CX cont {39269}]"
      ]
     },
     "execution_count": 170,
     "metadata": {},
     "output_type": "execute_result"
    }
   ],
   "source": [
    "testph = phrase2cxs[1447221]\n",
    "\n",
    "testph"
   ]
  },
  {
   "cell_type": "code",
   "execution_count": 171,
   "metadata": {},
   "outputs": [
    {
     "data": {
      "text/html": [
       "<p><b>result</b> <i>1447221 -> CX coord {39267, 39268, 39269}</i></p>"
      ],
      "text/plain": [
       "<IPython.core.display.HTML object>"
      ]
     },
     "metadata": {},
     "output_type": "display_data"
    },
    {
     "data": {
      "text/html": [
       "<a href=\"https://shebanq.ancient-data.org/hebrew/text?book=Exodus&amp;chapter=19&amp;verse=10&amp;version=c&amp;mr=m&amp;qw=q&amp;tp=txt_p&amp;tr=hb&amp;wget=v&amp;qget=v&amp;nget=vt\" title=\"show this passage in SHEBANQ\" sec=\"Exodus 19:10\">Exodus 19:10</a>\n",
       "<div class=\"atoms  \" >\n",
       "<a href=\"#\" class=\"nd\">675862</a>\n",
       "\n",
       "\n",
       "\n",
       "<div class=\"patom  \" >\n",
       "\n",
       "    <div class=\"phrase \" >\n",
       "        <a href=\"https://shebanq.ancient-data.org/hebrew/text?book=Exodus&amp;chapter=19&amp;verse=10&amp;version=c&amp;mr=m&amp;qw=q&amp;tp=txt_p&amp;tr=hb&amp;wget=v&amp;qget=v&amp;nget=vt\" title=\"Exodus 19:10\" sec=\"Exodus 19:10\">phrase</a> <a href=\"#\" class=\"nd\">675862</a>  <span class=\"function\">Time</span> <span class=\"typ\">NP</span>\n",
       "    </div>\n",
       "    <div class=\"atoms\">\n",
       "\n",
       "<div class=\"word  \" >\n",
       "<a href=\"#\" class=\"nd\">39266</a>\n",
       "<div class=\"h\"><a target=\"_blank\" href=\"https://shebanq.ancient-data.org/hebrew/word?version=c&amp;id=1H\" title=\"show this lexeme in SHEBANQ\">הַ</a></div>\n",
       "<div class=\"features\"> <span class=\"pdp\"><a href=\"https://shebanq.ancient-data.org/hebrew/text?book=Exodus&amp;chapter=19&amp;verse=10&amp;version=c&amp;mr=m&amp;qw=q&amp;tp=txt_p&amp;tr=hb&amp;wget=v&amp;qget=v&amp;nget=vt\" title=\"Exodus 19:10\" sec=\"Exodus 19:10\">art</a></span> <span class=\"gloss\">the</span> <span class=\"lex xft\"><span class=\"f\">lex=</span>H</span> <span class=\"sp xft\"><span class=\"f\">sp=</span>art</span></div>\n",
       "\n",
       "\n",
       "</div>\n",
       "\n",
       "<div class=\"word  hl\"  style=\"background-color: #ffcc5c;\" >\n",
       "<a href=\"#\" class=\"nd\">39267</a>\n",
       "<div class=\"h\"><a target=\"_blank\" href=\"https://shebanq.ancient-data.org/hebrew/word?version=c&amp;id=1JWMn\" title=\"show this lexeme in SHEBANQ\">יֹּ֖ום </a></div>\n",
       "<div class=\"features\"> <span class=\"pdp\"><a href=\"https://shebanq.ancient-data.org/hebrew/text?book=Exodus&amp;chapter=19&amp;verse=10&amp;version=c&amp;mr=m&amp;qw=q&amp;tp=txt_p&amp;tr=hb&amp;wget=v&amp;qget=v&amp;nget=vt\" title=\"Exodus 19:10\" sec=\"Exodus 19:10\">subs</a></span> <span class=\"gloss\">day</span> <span class=\"lex xft\"><span class=\"f\">lex=</span>JWM/</span> <span class=\"sp xft\"><span class=\"f\">sp=</span>subs</span> <span class=\"st xft\"><span class=\"f\">st=</span>a</span></div>\n",
       "\n",
       "\n",
       "</div>\n",
       "\n",
       "<div class=\"word  hl\"  style=\"background-color: #ffeead;\" >\n",
       "<a href=\"#\" class=\"nd\">39268</a>\n",
       "<div class=\"h\"><a target=\"_blank\" href=\"https://shebanq.ancient-data.org/hebrew/word?version=c&amp;id=1W\" title=\"show this lexeme in SHEBANQ\">וּ</a></div>\n",
       "<div class=\"features\"> <span class=\"pdp\"><a href=\"https://shebanq.ancient-data.org/hebrew/text?book=Exodus&amp;chapter=19&amp;verse=10&amp;version=c&amp;mr=m&amp;qw=q&amp;tp=txt_p&amp;tr=hb&amp;wget=v&amp;qget=v&amp;nget=vt\" title=\"Exodus 19:10\" sec=\"Exodus 19:10\">conj</a></span> <span class=\"gloss\">and</span> <span class=\"lex xft\"><span class=\"f\">lex=</span>W</span> <span class=\"sp xft\"><span class=\"f\">sp=</span>conj</span></div>\n",
       "\n",
       "\n",
       "</div>\n",
       "\n",
       "<div class=\"word  hl\"  style=\"background-color: #96ceb4;\" >\n",
       "<a href=\"#\" class=\"nd\">39269</a>\n",
       "<div class=\"h\"><a target=\"_blank\" href=\"https://shebanq.ancient-data.org/hebrew/word?version=c&amp;id=1MXRn\" title=\"show this lexeme in SHEBANQ\">מָחָ֑ר </a></div>\n",
       "<div class=\"features\"> <span class=\"pdp\"><a href=\"https://shebanq.ancient-data.org/hebrew/text?book=Exodus&amp;chapter=19&amp;verse=10&amp;version=c&amp;mr=m&amp;qw=q&amp;tp=txt_p&amp;tr=hb&amp;wget=v&amp;qget=v&amp;nget=vt\" title=\"Exodus 19:10\" sec=\"Exodus 19:10\">subs</a></span> <span class=\"gloss\">next day</span> <span class=\"lex xft\"><span class=\"f\">lex=</span>MXR/</span> <span class=\"sp xft\"><span class=\"f\">sp=</span>subs</span> <span class=\"st xft\"><span class=\"f\">st=</span>a</span></div>\n",
       "\n",
       "\n",
       "</div>\n",
       "\n",
       "\n",
       "    </div>\n",
       "\n",
       "\n",
       "</div>\n",
       "\n",
       "\n",
       "</div>\n"
      ],
      "text/plain": [
       "<IPython.core.display.HTML object>"
      ]
     },
     "metadata": {},
     "output_type": "display_data"
    },
    {
     "data": {
      "text/html": [
       "<div style=\"background: #96ceb4; text-align: center\">part2</div>"
      ],
      "text/plain": [
       "<IPython.core.display.HTML object>"
      ]
     },
     "metadata": {},
     "output_type": "display_data"
    },
    {
     "data": {
      "text/html": [
       "<div style=\"background: #ffeead; text-align: center\">conj</div>"
      ],
      "text/plain": [
       "<IPython.core.display.HTML object>"
      ]
     },
     "metadata": {},
     "output_type": "display_data"
    },
    {
     "data": {
      "text/html": [
       "<div style=\"background: #ffcc5c; text-align: center\">part1</div>"
      ],
      "text/plain": [
       "<IPython.core.display.HTML object>"
      ]
     },
     "metadata": {},
     "output_type": "display_data"
    },
    {
     "name": "stdout",
     "output_type": "stream",
     "text": [
      "{   '__cx__': 'coord',\n",
      "    'conj': {'__cx__': 'conj', 'head': 39268},\n",
      "    'part1': {'__cx__': 'cont', 'head': 39267},\n",
      "    'part2': {'__cx__': 'cont', 'head': 39269}}\n",
      "\n",
      "-- CX coord {39267, 39268, 39269} --\n",
      "pattern: coord\n",
      "P(-1).name == conj                                       True\n",
      "bool(cand)                                               True\n",
      "name matches \n",
      "\tCX cont {39267} namescore: 0\n",
      "\tCX defi_ph {39266, 39267} namescore: 1\n",
      "                           True\n",
      "is shortest sem. distance of \n",
      "\t0.99, MXR/ ~ JWM/, CX cont {39267}\n",
      "\t0.99, MXR/ ~ JWM/, CX defi_ph {39266, 39267}\n",
      "                           True\n",
      "is longest length of: \n",
      "\tCX cont {39267} length: 1\n",
      "\tCX defi_ph {39266, 39267} length: 2\n",
      "                           True\n",
      "is closest last slot of: \n",
      "\tCX cont {39267} last slot: 39267\n",
      "\tCX defi_ph {39266, 39267} last slot: 39266\n",
      "                           True\n",
      "\n",
      "-- CX cont {39269} --\n",
      "pattern: cont\n",
      "bool(F.pdp.v(39269))                                     True\n",
      "\n",
      "-- CX conj {39268} --\n",
      "pattern: conj\n",
      "bool(F.pdp.v(39268))                                     True\n",
      "\n",
      "-- CX cont {39267} --\n",
      "pattern: cont\n",
      "bool(F.pdp.v(39267))                                     True\n",
      "\n"
     ]
    },
    {
     "data": {
      "text/html": [
       "<hr>"
      ],
      "text/plain": [
       "<IPython.core.display.HTML object>"
      ]
     },
     "metadata": {},
     "output_type": "display_data"
    }
   ],
   "source": [
    "test = cxp.coord(testph[-1])\n",
    "\n",
    "showcx(test, conds=True)"
   ]
  },
  {
   "cell_type": "markdown",
   "metadata": {},
   "source": [
    "# Stretch Tests"
   ]
  },
  {
   "cell_type": "code",
   "execution_count": 172,
   "metadata": {},
   "outputs": [],
   "source": [
    "# test = cxp.analyzestretch(phrase2cxs[1449168], debug=True)\n",
    "# for res in test:\n",
    "#     showcx(res, conds=False)"
   ]
  },
  {
   "cell_type": "code",
   "execution_count": 173,
   "metadata": {},
   "outputs": [],
   "source": [
    "def filt_gaps(cx):\n",
    "    \"\"\"Isolate cxs with gaps\"\"\"\n",
    "    timephrase = L.u(next(iter(cx.slots)),'phrase')[0]\n",
    "    if set(L.d(timephrase,'word')) - cx.slots:\n",
    "        return True\n",
    "    else:\n",
    "        return False"
   ]
  },
  {
   "cell_type": "markdown",
   "metadata": {},
   "source": [
    "### Pattern Matches"
   ]
  },
  {
   "cell_type": "code",
   "execution_count": 174,
   "metadata": {},
   "outputs": [
    {
     "name": "stdout",
     "output_type": "stream",
     "text": [
      "beginning search\n",
      "\t0 found (0/4890)\n",
      "\t44 found (1000/4890)\n",
      "\t65 found (2000/4890)\n",
      "\t93 found (3000/4890)\n",
      "\t151 found (4000/4890)\n",
      "done at 0:00:00.339549\n",
      "195 matches found...\n",
      "\tresults filtered to 77\n"
     ]
    },
    {
     "data": {
      "text/html": [
       "<p><b>result</b> <i>1446888 -> CX coord {6225, 6226, 6222}</i></p>"
      ],
      "text/plain": [
       "<IPython.core.display.HTML object>"
      ]
     },
     "metadata": {},
     "output_type": "display_data"
    },
    {
     "data": {
      "text/html": [
       "<a href=\"https://shebanq.ancient-data.org/hebrew/text?book=Genesis&amp;chapter=14&amp;verse=1&amp;version=c&amp;mr=m&amp;qw=q&amp;tp=txt_p&amp;tr=hb&amp;wget=v&amp;qget=v&amp;nget=vt\" title=\"show this passage in SHEBANQ\" sec=\"Genesis 14:1\">Genesis 14:1</a>\n",
       "<div class=\"atoms  \" >\n",
       "<a href=\"#\" class=\"nd\">654967</a>\n",
       "\n",
       "\n",
       "\n",
       "<div class=\"patom  l \" >\n",
       "\n",
       "    <div class=\"phrase \" >\n",
       "        <a href=\"https://shebanq.ancient-data.org/hebrew/text?book=Genesis&amp;chapter=14&amp;verse=1&amp;version=c&amp;mr=m&amp;qw=q&amp;tp=txt_p&amp;tr=hb&amp;wget=v&amp;qget=v&amp;nget=vt\" title=\"Genesis 14:1\" sec=\"Genesis 14:1\">phrase</a> <a href=\"#\" class=\"nd\">654967</a>  <span class=\"function\">Time</span> <span class=\"typ\">PP</span>\n",
       "    </div>\n",
       "    <div class=\"atoms\">\n",
       "\n",
       "<div class=\"word  \" >\n",
       "<a href=\"#\" class=\"nd\">6214</a>\n",
       "<div class=\"h\"><a target=\"_blank\" href=\"https://shebanq.ancient-data.org/hebrew/word?version=c&amp;id=1B\" title=\"show this lexeme in SHEBANQ\">בִּ</a></div>\n",
       "<div class=\"features\"> <span class=\"pdp\"><a href=\"https://shebanq.ancient-data.org/hebrew/text?book=Genesis&amp;chapter=14&amp;verse=1&amp;version=c&amp;mr=m&amp;qw=q&amp;tp=txt_p&amp;tr=hb&amp;wget=v&amp;qget=v&amp;nget=vt\" title=\"Genesis 14:1\" sec=\"Genesis 14:1\">prep</a></span> <span class=\"gloss\">in</span> <span class=\"lex xft\"><span class=\"f\">lex=</span>B</span></div>\n",
       "\n",
       "\n",
       "</div>\n",
       "\n",
       "<div class=\"word  \" >\n",
       "<a href=\"#\" class=\"nd\">6215</a>\n",
       "<div class=\"h\"><a target=\"_blank\" href=\"https://shebanq.ancient-data.org/hebrew/word?version=c&amp;id=1JWMn\" title=\"show this lexeme in SHEBANQ\">ימֵי֙ </a></div>\n",
       "<div class=\"features\"> <span class=\"pdp\"><a href=\"https://shebanq.ancient-data.org/hebrew/text?book=Genesis&amp;chapter=14&amp;verse=1&amp;version=c&amp;mr=m&amp;qw=q&amp;tp=txt_p&amp;tr=hb&amp;wget=v&amp;qget=v&amp;nget=vt\" title=\"Genesis 14:1\" sec=\"Genesis 14:1\">subs</a></span> <span class=\"gloss\">day</span> <span class=\"lex xft\"><span class=\"f\">lex=</span>JWM/</span></div>\n",
       "\n",
       "\n",
       "</div>\n",
       "\n",
       "<div class=\"word  \" >\n",
       "<a href=\"#\" class=\"nd\">6216</a>\n",
       "<div class=\"h\"><a target=\"_blank\" href=\"https://shebanq.ancient-data.org/hebrew/word?version=c&amp;id=1AMRPLn\" title=\"show this lexeme in SHEBANQ\">אַמְרָפֶ֣ל </a></div>\n",
       "<div class=\"features\"> <span class=\"pdp\"><a href=\"https://shebanq.ancient-data.org/hebrew/text?book=Genesis&amp;chapter=14&amp;verse=1&amp;version=c&amp;mr=m&amp;qw=q&amp;tp=txt_p&amp;tr=hb&amp;wget=v&amp;qget=v&amp;nget=vt\" title=\"Genesis 14:1\" sec=\"Genesis 14:1\">nmpr</a></span> <span class=\"gloss\">Amraphel</span> <span class=\"lex xft\"><span class=\"f\">lex=</span>>MRPL/</span></div>\n",
       "\n",
       "\n",
       "</div>\n",
       "\n",
       "\n",
       "    </div>\n",
       "\n",
       "\n",
       "</div>\n",
       "\n",
       "<div class=\"patom  r l \" >\n",
       "\n",
       "    <div class=\"phrase \" >\n",
       "        <a href=\"https://shebanq.ancient-data.org/hebrew/text?book=Genesis&amp;chapter=14&amp;verse=1&amp;version=c&amp;mr=m&amp;qw=q&amp;tp=txt_p&amp;tr=hb&amp;wget=v&amp;qget=v&amp;nget=vt\" title=\"Genesis 14:1\" sec=\"Genesis 14:1\">phrase</a> <a href=\"#\" class=\"nd\">654967</a>  <span class=\"function\">Time</span> <span class=\"typ\">PP|NP</span>\n",
       "    </div>\n",
       "    <div class=\"atoms\">\n",
       "\n",
       "<div class=\"word  \" >\n",
       "<a href=\"#\" class=\"nd\">6217</a>\n",
       "<div class=\"h\"><a target=\"_blank\" href=\"https://shebanq.ancient-data.org/hebrew/word?version=c&amp;id=1MLKn\" title=\"show this lexeme in SHEBANQ\">מֶֽלֶךְ־</a></div>\n",
       "<div class=\"features\"> <span class=\"pdp\"><a href=\"https://shebanq.ancient-data.org/hebrew/text?book=Genesis&amp;chapter=14&amp;verse=1&amp;version=c&amp;mr=m&amp;qw=q&amp;tp=txt_p&amp;tr=hb&amp;wget=v&amp;qget=v&amp;nget=vt\" title=\"Genesis 14:1\" sec=\"Genesis 14:1\">subs</a></span> <span class=\"gloss\">king</span> <span class=\"lex xft\"><span class=\"f\">lex=</span>MLK/</span></div>\n",
       "\n",
       "\n",
       "</div>\n",
       "\n",
       "<div class=\"word  \" >\n",
       "<a href=\"#\" class=\"nd\">6218</a>\n",
       "<div class=\"h\"><a target=\"_blank\" href=\"https://shebanq.ancient-data.org/hebrew/word?version=c&amp;id=1CNORn\" title=\"show this lexeme in SHEBANQ\">שִׁנְעָ֔ר </a></div>\n",
       "<div class=\"features\"> <span class=\"pdp\"><a href=\"https://shebanq.ancient-data.org/hebrew/text?book=Genesis&amp;chapter=14&amp;verse=1&amp;version=c&amp;mr=m&amp;qw=q&amp;tp=txt_p&amp;tr=hb&amp;wget=v&amp;qget=v&amp;nget=vt\" title=\"Genesis 14:1\" sec=\"Genesis 14:1\">nmpr</a></span> <span class=\"gloss\">Shinar</span> <span class=\"lex xft\"><span class=\"f\">lex=</span>CN&lt;R/</span></div>\n",
       "\n",
       "\n",
       "</div>\n",
       "\n",
       "\n",
       "    </div>\n",
       "\n",
       "\n",
       "</div>\n",
       "\n",
       "<div class=\"patom  r l \" >\n",
       "\n",
       "    <div class=\"phrase \" >\n",
       "        <a href=\"https://shebanq.ancient-data.org/hebrew/text?book=Genesis&amp;chapter=14&amp;verse=1&amp;version=c&amp;mr=m&amp;qw=q&amp;tp=txt_p&amp;tr=hb&amp;wget=v&amp;qget=v&amp;nget=vt\" title=\"Genesis 14:1\" sec=\"Genesis 14:1\">phrase</a> <a href=\"#\" class=\"nd\">654967</a>  <span class=\"function\">Time</span> <span class=\"typ\">PP|PrNP</span>\n",
       "    </div>\n",
       "    <div class=\"atoms\">\n",
       "\n",
       "<div class=\"word  \" >\n",
       "<a href=\"#\" class=\"nd\">6219</a>\n",
       "<div class=\"h\"><a target=\"_blank\" href=\"https://shebanq.ancient-data.org/hebrew/word?version=c&amp;id=1ARJWKn\" title=\"show this lexeme in SHEBANQ\">אַרְיֹ֖וךְ </a></div>\n",
       "<div class=\"features\"> <span class=\"pdp\"><a href=\"https://shebanq.ancient-data.org/hebrew/text?book=Genesis&amp;chapter=14&amp;verse=1&amp;version=c&amp;mr=m&amp;qw=q&amp;tp=txt_p&amp;tr=hb&amp;wget=v&amp;qget=v&amp;nget=vt\" title=\"Genesis 14:1\" sec=\"Genesis 14:1\">nmpr</a></span> <span class=\"gloss\">Arioch</span> <span class=\"lex xft\"><span class=\"f\">lex=</span>>RJWK/</span></div>\n",
       "\n",
       "\n",
       "</div>\n",
       "\n",
       "\n",
       "    </div>\n",
       "\n",
       "\n",
       "</div>\n",
       "\n",
       "<div class=\"patom  r l \" >\n",
       "\n",
       "    <div class=\"phrase \" >\n",
       "        <a href=\"https://shebanq.ancient-data.org/hebrew/text?book=Genesis&amp;chapter=14&amp;verse=1&amp;version=c&amp;mr=m&amp;qw=q&amp;tp=txt_p&amp;tr=hb&amp;wget=v&amp;qget=v&amp;nget=vt\" title=\"Genesis 14:1\" sec=\"Genesis 14:1\">phrase</a> <a href=\"#\" class=\"nd\">654967</a>  <span class=\"function\">Time</span> <span class=\"typ\">PP|NP</span>\n",
       "    </div>\n",
       "    <div class=\"atoms\">\n",
       "\n",
       "<div class=\"word  \" >\n",
       "<a href=\"#\" class=\"nd\">6220</a>\n",
       "<div class=\"h\"><a target=\"_blank\" href=\"https://shebanq.ancient-data.org/hebrew/word?version=c&amp;id=1MLKn\" title=\"show this lexeme in SHEBANQ\">מֶ֣לֶךְ </a></div>\n",
       "<div class=\"features\"> <span class=\"pdp\"><a href=\"https://shebanq.ancient-data.org/hebrew/text?book=Genesis&amp;chapter=14&amp;verse=1&amp;version=c&amp;mr=m&amp;qw=q&amp;tp=txt_p&amp;tr=hb&amp;wget=v&amp;qget=v&amp;nget=vt\" title=\"Genesis 14:1\" sec=\"Genesis 14:1\">subs</a></span> <span class=\"gloss\">king</span> <span class=\"lex xft\"><span class=\"f\">lex=</span>MLK/</span></div>\n",
       "\n",
       "\n",
       "</div>\n",
       "\n",
       "<div class=\"word  \" >\n",
       "<a href=\"#\" class=\"nd\">6221</a>\n",
       "<div class=\"h\"><a target=\"_blank\" href=\"https://shebanq.ancient-data.org/hebrew/word?version=c&amp;id=1ALSRn\" title=\"show this lexeme in SHEBANQ\">אֶלָּסָ֑ר </a></div>\n",
       "<div class=\"features\"> <span class=\"pdp\"><a href=\"https://shebanq.ancient-data.org/hebrew/text?book=Genesis&amp;chapter=14&amp;verse=1&amp;version=c&amp;mr=m&amp;qw=q&amp;tp=txt_p&amp;tr=hb&amp;wget=v&amp;qget=v&amp;nget=vt\" title=\"Genesis 14:1\" sec=\"Genesis 14:1\">nmpr</a></span> <span class=\"gloss\">Ellasar</span> <span class=\"lex xft\"><span class=\"f\">lex=</span>>LSR/</span></div>\n",
       "\n",
       "\n",
       "</div>\n",
       "\n",
       "\n",
       "    </div>\n",
       "\n",
       "\n",
       "</div>\n",
       "\n",
       "<div class=\"patom  r l \" >\n",
       "\n",
       "    <div class=\"phrase \" >\n",
       "        <a href=\"https://shebanq.ancient-data.org/hebrew/text?book=Genesis&amp;chapter=14&amp;verse=1&amp;version=c&amp;mr=m&amp;qw=q&amp;tp=txt_p&amp;tr=hb&amp;wget=v&amp;qget=v&amp;nget=vt\" title=\"Genesis 14:1\" sec=\"Genesis 14:1\">phrase</a> <a href=\"#\" class=\"nd\">654967</a>  <span class=\"function\">Time</span> <span class=\"typ\">PP|PrNP</span>\n",
       "    </div>\n",
       "    <div class=\"atoms\">\n",
       "\n",
       "<div class=\"word  hl\"  style=\"background-color: #ffcc5c;\" >\n",
       "<a href=\"#\" class=\"nd\">6222</a>\n",
       "<div class=\"h\"><a target=\"_blank\" href=\"https://shebanq.ancient-data.org/hebrew/word?version=c&amp;id=1KDRLOMRn\" title=\"show this lexeme in SHEBANQ\">כְּדָרְלָעֹ֨מֶר֙ </a></div>\n",
       "<div class=\"features\"> <span class=\"pdp\"><a href=\"https://shebanq.ancient-data.org/hebrew/text?book=Genesis&amp;chapter=14&amp;verse=1&amp;version=c&amp;mr=m&amp;qw=q&amp;tp=txt_p&amp;tr=hb&amp;wget=v&amp;qget=v&amp;nget=vt\" title=\"Genesis 14:1\" sec=\"Genesis 14:1\">nmpr</a></span> <span class=\"gloss\">Kedorlaomer</span> <span class=\"lex xft\"><span class=\"f\">lex=</span>KDRL&lt;MR/</span></div>\n",
       "\n",
       "\n",
       "</div>\n",
       "\n",
       "\n",
       "    </div>\n",
       "\n",
       "\n",
       "</div>\n",
       "\n",
       "<div class=\"patom  r l \" >\n",
       "\n",
       "    <div class=\"phrase \" >\n",
       "        <a href=\"https://shebanq.ancient-data.org/hebrew/text?book=Genesis&amp;chapter=14&amp;verse=1&amp;version=c&amp;mr=m&amp;qw=q&amp;tp=txt_p&amp;tr=hb&amp;wget=v&amp;qget=v&amp;nget=vt\" title=\"Genesis 14:1\" sec=\"Genesis 14:1\">phrase</a> <a href=\"#\" class=\"nd\">654967</a>  <span class=\"function\">Time</span> <span class=\"typ\">PP|NP</span>\n",
       "    </div>\n",
       "    <div class=\"atoms\">\n",
       "\n",
       "<div class=\"word  \" >\n",
       "<a href=\"#\" class=\"nd\">6223</a>\n",
       "<div class=\"h\"><a target=\"_blank\" href=\"https://shebanq.ancient-data.org/hebrew/word?version=c&amp;id=1MLKn\" title=\"show this lexeme in SHEBANQ\">מֶ֣לֶךְ </a></div>\n",
       "<div class=\"features\"> <span class=\"pdp\"><a href=\"https://shebanq.ancient-data.org/hebrew/text?book=Genesis&amp;chapter=14&amp;verse=1&amp;version=c&amp;mr=m&amp;qw=q&amp;tp=txt_p&amp;tr=hb&amp;wget=v&amp;qget=v&amp;nget=vt\" title=\"Genesis 14:1\" sec=\"Genesis 14:1\">subs</a></span> <span class=\"gloss\">king</span> <span class=\"lex xft\"><span class=\"f\">lex=</span>MLK/</span></div>\n",
       "\n",
       "\n",
       "</div>\n",
       "\n",
       "<div class=\"word  \" >\n",
       "<a href=\"#\" class=\"nd\">6224</a>\n",
       "<div class=\"h\"><a target=\"_blank\" href=\"https://shebanq.ancient-data.org/hebrew/word?version=c&amp;id=1OJLMn\" title=\"show this lexeme in SHEBANQ\">עֵילָ֔ם </a></div>\n",
       "<div class=\"features\"> <span class=\"pdp\"><a href=\"https://shebanq.ancient-data.org/hebrew/text?book=Genesis&amp;chapter=14&amp;verse=1&amp;version=c&amp;mr=m&amp;qw=q&amp;tp=txt_p&amp;tr=hb&amp;wget=v&amp;qget=v&amp;nget=vt\" title=\"Genesis 14:1\" sec=\"Genesis 14:1\">nmpr</a></span> <span class=\"gloss\">Elam</span> <span class=\"lex xft\"><span class=\"f\">lex=</span>&lt;JLM/</span></div>\n",
       "\n",
       "\n",
       "</div>\n",
       "\n",
       "\n",
       "    </div>\n",
       "\n",
       "\n",
       "</div>\n",
       "\n",
       "<div class=\"patom  r l \" >\n",
       "\n",
       "    <div class=\"phrase \" >\n",
       "        <a href=\"https://shebanq.ancient-data.org/hebrew/text?book=Genesis&amp;chapter=14&amp;verse=1&amp;version=c&amp;mr=m&amp;qw=q&amp;tp=txt_p&amp;tr=hb&amp;wget=v&amp;qget=v&amp;nget=vt\" title=\"Genesis 14:1\" sec=\"Genesis 14:1\">phrase</a> <a href=\"#\" class=\"nd\">654967</a>  <span class=\"function\">Time</span> <span class=\"typ\">PP|CP</span>\n",
       "    </div>\n",
       "    <div class=\"atoms\">\n",
       "\n",
       "<div class=\"word  hl\"  style=\"background-color: #ffeead;\" >\n",
       "<a href=\"#\" class=\"nd\">6225</a>\n",
       "<div class=\"h\"><a target=\"_blank\" href=\"https://shebanq.ancient-data.org/hebrew/word?version=c&amp;id=1W\" title=\"show this lexeme in SHEBANQ\">וְ</a></div>\n",
       "<div class=\"features\"> <span class=\"pdp\"><a href=\"https://shebanq.ancient-data.org/hebrew/text?book=Genesis&amp;chapter=14&amp;verse=1&amp;version=c&amp;mr=m&amp;qw=q&amp;tp=txt_p&amp;tr=hb&amp;wget=v&amp;qget=v&amp;nget=vt\" title=\"Genesis 14:1\" sec=\"Genesis 14:1\">conj</a></span> <span class=\"gloss\">and</span> <span class=\"lex xft\"><span class=\"f\">lex=</span>W</span></div>\n",
       "\n",
       "\n",
       "</div>\n",
       "\n",
       "\n",
       "    </div>\n",
       "\n",
       "\n",
       "</div>\n",
       "\n",
       "<div class=\"patom  r l \" >\n",
       "\n",
       "    <div class=\"phrase \" >\n",
       "        <a href=\"https://shebanq.ancient-data.org/hebrew/text?book=Genesis&amp;chapter=14&amp;verse=1&amp;version=c&amp;mr=m&amp;qw=q&amp;tp=txt_p&amp;tr=hb&amp;wget=v&amp;qget=v&amp;nget=vt\" title=\"Genesis 14:1\" sec=\"Genesis 14:1\">phrase</a> <a href=\"#\" class=\"nd\">654967</a>  <span class=\"function\">Time</span> <span class=\"typ\">PP|PrNP</span>\n",
       "    </div>\n",
       "    <div class=\"atoms\">\n",
       "\n",
       "<div class=\"word  hl\"  style=\"background-color: #96ceb4;\" >\n",
       "<a href=\"#\" class=\"nd\">6226</a>\n",
       "<div class=\"h\"><a target=\"_blank\" href=\"https://shebanq.ancient-data.org/hebrew/word?version=c&amp;id=1TDOLn\" title=\"show this lexeme in SHEBANQ\">תִדְעָ֖ל </a></div>\n",
       "<div class=\"features\"> <span class=\"pdp\"><a href=\"https://shebanq.ancient-data.org/hebrew/text?book=Genesis&amp;chapter=14&amp;verse=1&amp;version=c&amp;mr=m&amp;qw=q&amp;tp=txt_p&amp;tr=hb&amp;wget=v&amp;qget=v&amp;nget=vt\" title=\"Genesis 14:1\" sec=\"Genesis 14:1\">nmpr</a></span> <span class=\"gloss\">Tidal</span> <span class=\"lex xft\"><span class=\"f\">lex=</span>TD&lt;L/</span></div>\n",
       "\n",
       "\n",
       "</div>\n",
       "\n",
       "\n",
       "    </div>\n",
       "\n",
       "\n",
       "</div>\n",
       "\n",
       "<div class=\"patom  r \" >\n",
       "\n",
       "    <div class=\"phrase \" >\n",
       "        <a href=\"https://shebanq.ancient-data.org/hebrew/text?book=Genesis&amp;chapter=14&amp;verse=1&amp;version=c&amp;mr=m&amp;qw=q&amp;tp=txt_p&amp;tr=hb&amp;wget=v&amp;qget=v&amp;nget=vt\" title=\"Genesis 14:1\" sec=\"Genesis 14:1\">phrase</a> <a href=\"#\" class=\"nd\">654967</a>  <span class=\"function\">Time</span> <span class=\"typ\">PP|NP</span>\n",
       "    </div>\n",
       "    <div class=\"atoms\">\n",
       "\n",
       "<div class=\"word  \" >\n",
       "<a href=\"#\" class=\"nd\">6227</a>\n",
       "<div class=\"h\"><a target=\"_blank\" href=\"https://shebanq.ancient-data.org/hebrew/word?version=c&amp;id=1MLKn\" title=\"show this lexeme in SHEBANQ\">מֶ֥לֶךְ </a></div>\n",
       "<div class=\"features\"> <span class=\"pdp\"><a href=\"https://shebanq.ancient-data.org/hebrew/text?book=Genesis&amp;chapter=14&amp;verse=1&amp;version=c&amp;mr=m&amp;qw=q&amp;tp=txt_p&amp;tr=hb&amp;wget=v&amp;qget=v&amp;nget=vt\" title=\"Genesis 14:1\" sec=\"Genesis 14:1\">subs</a></span> <span class=\"gloss\">king</span> <span class=\"lex xft\"><span class=\"f\">lex=</span>MLK/</span></div>\n",
       "\n",
       "\n",
       "</div>\n",
       "\n",
       "<div class=\"word  \" >\n",
       "<a href=\"#\" class=\"nd\">6228</a>\n",
       "<div class=\"h\"><a target=\"_blank\" href=\"https://shebanq.ancient-data.org/hebrew/word?version=c&amp;id=1GWJMn\" title=\"show this lexeme in SHEBANQ\">גֹּויִֽם׃ </a></div>\n",
       "<div class=\"features\"> <span class=\"pdp\"><a href=\"https://shebanq.ancient-data.org/hebrew/text?book=Genesis&amp;chapter=14&amp;verse=1&amp;version=c&amp;mr=m&amp;qw=q&amp;tp=txt_p&amp;tr=hb&amp;wget=v&amp;qget=v&amp;nget=vt\" title=\"Genesis 14:1\" sec=\"Genesis 14:1\">nmpr</a></span> <span class=\"gloss\">Goyim</span> <span class=\"lex xft\"><span class=\"f\">lex=</span>GWJM/</span></div>\n",
       "\n",
       "\n",
       "</div>\n",
       "\n",
       "\n",
       "    </div>\n",
       "\n",
       "\n",
       "</div>\n",
       "\n",
       "\n",
       "</div>\n"
      ],
      "text/plain": [
       "<IPython.core.display.HTML object>"
      ]
     },
     "metadata": {},
     "output_type": "display_data"
    },
    {
     "data": {
      "text/html": [
       "<div style=\"background: #96ceb4; text-align: center\">part2</div>"
      ],
      "text/plain": [
       "<IPython.core.display.HTML object>"
      ]
     },
     "metadata": {},
     "output_type": "display_data"
    },
    {
     "data": {
      "text/html": [
       "<div style=\"background: #ffeead; text-align: center\">conj</div>"
      ],
      "text/plain": [
       "<IPython.core.display.HTML object>"
      ]
     },
     "metadata": {},
     "output_type": "display_data"
    },
    {
     "data": {
      "text/html": [
       "<div style=\"background: #ffcc5c; text-align: center\">part1</div>"
      ],
      "text/plain": [
       "<IPython.core.display.HTML object>"
      ]
     },
     "metadata": {},
     "output_type": "display_data"
    },
    {
     "name": "stdout",
     "output_type": "stream",
     "text": [
      "{   '__cx__': 'coord',\n",
      "    'conj': {'__cx__': 'conj', 'head': 6225},\n",
      "    'part1': {'__cx__': 'name', 'head': 6222},\n",
      "    'part2': {'__cx__': 'name', 'head': 6226}}\n",
      "\n"
     ]
    },
    {
     "data": {
      "text/html": [
       "<hr>"
      ],
      "text/plain": [
       "<IPython.core.display.HTML object>"
      ]
     },
     "metadata": {},
     "output_type": "display_data"
    },
    {
     "data": {
      "text/html": [
       "<p><b>result</b> <i>1447180 -> CX coord {37139, 37140, 37141}</i></p>"
      ],
      "text/plain": [
       "<IPython.core.display.HTML object>"
      ]
     },
     "metadata": {},
     "output_type": "display_data"
    },
    {
     "data": {
      "text/html": [
       "<a href=\"https://shebanq.ancient-data.org/hebrew/text?book=Exodus&amp;chapter=15&amp;verse=18&amp;version=c&amp;mr=m&amp;qw=q&amp;tp=txt_p&amp;tr=hb&amp;wget=v&amp;qget=v&amp;nget=vt\" title=\"show this passage in SHEBANQ\" sec=\"Exodus 15:18\">Exodus 15:18</a>\n",
       "<div class=\"atoms  \" >\n",
       "<a href=\"#\" class=\"nd\">674538</a>\n",
       "\n",
       "\n",
       "\n",
       "<div class=\"patom  \" >\n",
       "\n",
       "    <div class=\"phrase \" >\n",
       "        <a href=\"https://shebanq.ancient-data.org/hebrew/text?book=Exodus&amp;chapter=15&amp;verse=18&amp;version=c&amp;mr=m&amp;qw=q&amp;tp=txt_p&amp;tr=hb&amp;wget=v&amp;qget=v&amp;nget=vt\" title=\"Exodus 15:18\" sec=\"Exodus 15:18\">phrase</a> <a href=\"#\" class=\"nd\">674538</a>  <span class=\"function\">Time</span> <span class=\"typ\">PP</span>\n",
       "    </div>\n",
       "    <div class=\"atoms\">\n",
       "\n",
       "<div class=\"word  \" >\n",
       "<a href=\"#\" class=\"nd\">37138</a>\n",
       "<div class=\"h\"><a target=\"_blank\" href=\"https://shebanq.ancient-data.org/hebrew/word?version=c&amp;id=1L\" title=\"show this lexeme in SHEBANQ\">לְ</a></div>\n",
       "<div class=\"features\"> <span class=\"pdp\"><a href=\"https://shebanq.ancient-data.org/hebrew/text?book=Exodus&amp;chapter=15&amp;verse=18&amp;version=c&amp;mr=m&amp;qw=q&amp;tp=txt_p&amp;tr=hb&amp;wget=v&amp;qget=v&amp;nget=vt\" title=\"Exodus 15:18\" sec=\"Exodus 15:18\">prep</a></span> <span class=\"gloss\">to</span> <span class=\"lex xft\"><span class=\"f\">lex=</span>L</span></div>\n",
       "\n",
       "\n",
       "</div>\n",
       "\n",
       "<div class=\"word  hl\"  style=\"background-color: #ffcc5c;\" >\n",
       "<a href=\"#\" class=\"nd\">37139</a>\n",
       "<div class=\"h\"><a target=\"_blank\" href=\"https://shebanq.ancient-data.org/hebrew/word?version=c&amp;id=1OWLMn\" title=\"show this lexeme in SHEBANQ\">עֹלָ֥ם </a></div>\n",
       "<div class=\"features\"> <span class=\"pdp\"><a href=\"https://shebanq.ancient-data.org/hebrew/text?book=Exodus&amp;chapter=15&amp;verse=18&amp;version=c&amp;mr=m&amp;qw=q&amp;tp=txt_p&amp;tr=hb&amp;wget=v&amp;qget=v&amp;nget=vt\" title=\"Exodus 15:18\" sec=\"Exodus 15:18\">subs</a></span> <span class=\"gloss\">eternity</span> <span class=\"lex xft\"><span class=\"f\">lex=</span>&lt;WLM/</span></div>\n",
       "\n",
       "\n",
       "</div>\n",
       "\n",
       "<div class=\"word  hl\"  style=\"background-color: #ffeead;\" >\n",
       "<a href=\"#\" class=\"nd\">37140</a>\n",
       "<div class=\"h\"><a target=\"_blank\" href=\"https://shebanq.ancient-data.org/hebrew/word?version=c&amp;id=1W\" title=\"show this lexeme in SHEBANQ\">וָ</a></div>\n",
       "<div class=\"features\"> <span class=\"pdp\"><a href=\"https://shebanq.ancient-data.org/hebrew/text?book=Exodus&amp;chapter=15&amp;verse=18&amp;version=c&amp;mr=m&amp;qw=q&amp;tp=txt_p&amp;tr=hb&amp;wget=v&amp;qget=v&amp;nget=vt\" title=\"Exodus 15:18\" sec=\"Exodus 15:18\">conj</a></span> <span class=\"gloss\">and</span> <span class=\"lex xft\"><span class=\"f\">lex=</span>W</span></div>\n",
       "\n",
       "\n",
       "</div>\n",
       "\n",
       "<div class=\"word  hl\"  style=\"background-color: #96ceb4;\" >\n",
       "<a href=\"#\" class=\"nd\">37141</a>\n",
       "<div class=\"h\"><a target=\"_blank\" href=\"https://shebanq.ancient-data.org/hebrew/word?version=c&amp;id=1ODn\" title=\"show this lexeme in SHEBANQ\">עֶֽד׃ </a></div>\n",
       "<div class=\"features\"> <span class=\"pdp\"><a href=\"https://shebanq.ancient-data.org/hebrew/text?book=Exodus&amp;chapter=15&amp;verse=18&amp;version=c&amp;mr=m&amp;qw=q&amp;tp=txt_p&amp;tr=hb&amp;wget=v&amp;qget=v&amp;nget=vt\" title=\"Exodus 15:18\" sec=\"Exodus 15:18\">subs</a></span> <span class=\"gloss\">future</span> <span class=\"lex xft\"><span class=\"f\">lex=</span>&lt;D/</span></div>\n",
       "\n",
       "\n",
       "</div>\n",
       "\n",
       "\n",
       "    </div>\n",
       "\n",
       "\n",
       "</div>\n",
       "\n",
       "\n",
       "</div>\n"
      ],
      "text/plain": [
       "<IPython.core.display.HTML object>"
      ]
     },
     "metadata": {},
     "output_type": "display_data"
    },
    {
     "data": {
      "text/html": [
       "<div style=\"background: #96ceb4; text-align: center\">part2</div>"
      ],
      "text/plain": [
       "<IPython.core.display.HTML object>"
      ]
     },
     "metadata": {},
     "output_type": "display_data"
    },
    {
     "data": {
      "text/html": [
       "<div style=\"background: #ffeead; text-align: center\">conj</div>"
      ],
      "text/plain": [
       "<IPython.core.display.HTML object>"
      ]
     },
     "metadata": {},
     "output_type": "display_data"
    },
    {
     "data": {
      "text/html": [
       "<div style=\"background: #ffcc5c; text-align: center\">part1</div>"
      ],
      "text/plain": [
       "<IPython.core.display.HTML object>"
      ]
     },
     "metadata": {},
     "output_type": "display_data"
    },
    {
     "name": "stdout",
     "output_type": "stream",
     "text": [
      "{   '__cx__': 'coord',\n",
      "    'conj': {'__cx__': 'conj', 'head': 37140},\n",
      "    'part1': {'__cx__': 'cont', 'head': 37139},\n",
      "    'part2': {'__cx__': 'cont', 'head': 37141}}\n",
      "\n"
     ]
    },
    {
     "data": {
      "text/html": [
       "<hr>"
      ],
      "text/plain": [
       "<IPython.core.display.HTML object>"
      ]
     },
     "metadata": {},
     "output_type": "display_data"
    },
    {
     "data": {
      "text/html": [
       "<p><b>result</b> <i>1447221 -> CX coord {39267, 39268, 39269}</i></p>"
      ],
      "text/plain": [
       "<IPython.core.display.HTML object>"
      ]
     },
     "metadata": {},
     "output_type": "display_data"
    },
    {
     "data": {
      "text/html": [
       "<a href=\"https://shebanq.ancient-data.org/hebrew/text?book=Exodus&amp;chapter=19&amp;verse=10&amp;version=c&amp;mr=m&amp;qw=q&amp;tp=txt_p&amp;tr=hb&amp;wget=v&amp;qget=v&amp;nget=vt\" title=\"show this passage in SHEBANQ\" sec=\"Exodus 19:10\">Exodus 19:10</a>\n",
       "<div class=\"atoms  \" >\n",
       "<a href=\"#\" class=\"nd\">675862</a>\n",
       "\n",
       "\n",
       "\n",
       "<div class=\"patom  \" >\n",
       "\n",
       "    <div class=\"phrase \" >\n",
       "        <a href=\"https://shebanq.ancient-data.org/hebrew/text?book=Exodus&amp;chapter=19&amp;verse=10&amp;version=c&amp;mr=m&amp;qw=q&amp;tp=txt_p&amp;tr=hb&amp;wget=v&amp;qget=v&amp;nget=vt\" title=\"Exodus 19:10\" sec=\"Exodus 19:10\">phrase</a> <a href=\"#\" class=\"nd\">675862</a>  <span class=\"function\">Time</span> <span class=\"typ\">NP</span>\n",
       "    </div>\n",
       "    <div class=\"atoms\">\n",
       "\n",
       "<div class=\"word  \" >\n",
       "<a href=\"#\" class=\"nd\">39266</a>\n",
       "<div class=\"h\"><a target=\"_blank\" href=\"https://shebanq.ancient-data.org/hebrew/word?version=c&amp;id=1H\" title=\"show this lexeme in SHEBANQ\">הַ</a></div>\n",
       "<div class=\"features\"> <span class=\"pdp\"><a href=\"https://shebanq.ancient-data.org/hebrew/text?book=Exodus&amp;chapter=19&amp;verse=10&amp;version=c&amp;mr=m&amp;qw=q&amp;tp=txt_p&amp;tr=hb&amp;wget=v&amp;qget=v&amp;nget=vt\" title=\"Exodus 19:10\" sec=\"Exodus 19:10\">art</a></span> <span class=\"gloss\">the</span> <span class=\"lex xft\"><span class=\"f\">lex=</span>H</span></div>\n",
       "\n",
       "\n",
       "</div>\n",
       "\n",
       "<div class=\"word  hl\"  style=\"background-color: #ffcc5c;\" >\n",
       "<a href=\"#\" class=\"nd\">39267</a>\n",
       "<div class=\"h\"><a target=\"_blank\" href=\"https://shebanq.ancient-data.org/hebrew/word?version=c&amp;id=1JWMn\" title=\"show this lexeme in SHEBANQ\">יֹּ֖ום </a></div>\n",
       "<div class=\"features\"> <span class=\"pdp\"><a href=\"https://shebanq.ancient-data.org/hebrew/text?book=Exodus&amp;chapter=19&amp;verse=10&amp;version=c&amp;mr=m&amp;qw=q&amp;tp=txt_p&amp;tr=hb&amp;wget=v&amp;qget=v&amp;nget=vt\" title=\"Exodus 19:10\" sec=\"Exodus 19:10\">subs</a></span> <span class=\"gloss\">day</span> <span class=\"lex xft\"><span class=\"f\">lex=</span>JWM/</span></div>\n",
       "\n",
       "\n",
       "</div>\n",
       "\n",
       "<div class=\"word  hl\"  style=\"background-color: #ffeead;\" >\n",
       "<a href=\"#\" class=\"nd\">39268</a>\n",
       "<div class=\"h\"><a target=\"_blank\" href=\"https://shebanq.ancient-data.org/hebrew/word?version=c&amp;id=1W\" title=\"show this lexeme in SHEBANQ\">וּ</a></div>\n",
       "<div class=\"features\"> <span class=\"pdp\"><a href=\"https://shebanq.ancient-data.org/hebrew/text?book=Exodus&amp;chapter=19&amp;verse=10&amp;version=c&amp;mr=m&amp;qw=q&amp;tp=txt_p&amp;tr=hb&amp;wget=v&amp;qget=v&amp;nget=vt\" title=\"Exodus 19:10\" sec=\"Exodus 19:10\">conj</a></span> <span class=\"gloss\">and</span> <span class=\"lex xft\"><span class=\"f\">lex=</span>W</span></div>\n",
       "\n",
       "\n",
       "</div>\n",
       "\n",
       "<div class=\"word  hl\"  style=\"background-color: #96ceb4;\" >\n",
       "<a href=\"#\" class=\"nd\">39269</a>\n",
       "<div class=\"h\"><a target=\"_blank\" href=\"https://shebanq.ancient-data.org/hebrew/word?version=c&amp;id=1MXRn\" title=\"show this lexeme in SHEBANQ\">מָחָ֑ר </a></div>\n",
       "<div class=\"features\"> <span class=\"pdp\"><a href=\"https://shebanq.ancient-data.org/hebrew/text?book=Exodus&amp;chapter=19&amp;verse=10&amp;version=c&amp;mr=m&amp;qw=q&amp;tp=txt_p&amp;tr=hb&amp;wget=v&amp;qget=v&amp;nget=vt\" title=\"Exodus 19:10\" sec=\"Exodus 19:10\">subs</a></span> <span class=\"gloss\">next day</span> <span class=\"lex xft\"><span class=\"f\">lex=</span>MXR/</span></div>\n",
       "\n",
       "\n",
       "</div>\n",
       "\n",
       "\n",
       "    </div>\n",
       "\n",
       "\n",
       "</div>\n",
       "\n",
       "\n",
       "</div>\n"
      ],
      "text/plain": [
       "<IPython.core.display.HTML object>"
      ]
     },
     "metadata": {},
     "output_type": "display_data"
    },
    {
     "data": {
      "text/html": [
       "<div style=\"background: #96ceb4; text-align: center\">part2</div>"
      ],
      "text/plain": [
       "<IPython.core.display.HTML object>"
      ]
     },
     "metadata": {},
     "output_type": "display_data"
    },
    {
     "data": {
      "text/html": [
       "<div style=\"background: #ffeead; text-align: center\">conj</div>"
      ],
      "text/plain": [
       "<IPython.core.display.HTML object>"
      ]
     },
     "metadata": {},
     "output_type": "display_data"
    },
    {
     "data": {
      "text/html": [
       "<div style=\"background: #ffcc5c; text-align: center\">part1</div>"
      ],
      "text/plain": [
       "<IPython.core.display.HTML object>"
      ]
     },
     "metadata": {},
     "output_type": "display_data"
    },
    {
     "name": "stdout",
     "output_type": "stream",
     "text": [
      "{   '__cx__': 'coord',\n",
      "    'conj': {'__cx__': 'conj', 'head': 39268},\n",
      "    'part1': {'__cx__': 'cont', 'head': 39267},\n",
      "    'part2': {'__cx__': 'cont', 'head': 39269}}\n",
      "\n"
     ]
    },
    {
     "data": {
      "text/html": [
       "<hr>"
      ],
      "text/plain": [
       "<IPython.core.display.HTML object>"
      ]
     },
     "metadata": {},
     "output_type": "display_data"
    },
    {
     "data": {
      "text/html": [
       "<p><b>result</b> <i>1447412 -> CX coord {65860, 65861, 65862, 65863}</i></p>"
      ],
      "text/plain": [
       "<IPython.core.display.HTML object>"
      ]
     },
     "metadata": {},
     "output_type": "display_data"
    },
    {
     "data": {
      "text/html": [
       "<a href=\"https://shebanq.ancient-data.org/hebrew/text?book=Leviticus&amp;chapter=22&amp;verse=27&amp;version=c&amp;mr=m&amp;qw=q&amp;tp=txt_p&amp;tr=hb&amp;wget=v&amp;qget=v&amp;nget=vt\" title=\"show this passage in SHEBANQ\" sec=\"Leviticus 22:27\">Leviticus 22:27</a>\n",
       "<div class=\"atoms  \" >\n",
       "<a href=\"#\" class=\"nd\">690126</a>\n",
       "\n",
       "\n",
       "\n",
       "<div class=\"patom  l \" >\n",
       "\n",
       "    <div class=\"phrase \" >\n",
       "        <a href=\"https://shebanq.ancient-data.org/hebrew/text?book=Leviticus&amp;chapter=22&amp;verse=27&amp;version=c&amp;mr=m&amp;qw=q&amp;tp=txt_p&amp;tr=hb&amp;wget=v&amp;qget=v&amp;nget=vt\" title=\"Leviticus 22:27\" sec=\"Leviticus 22:27\">phrase</a> <a href=\"#\" class=\"nd\">690126</a>  <span class=\"function\">Time</span> <span class=\"typ\">PP</span>\n",
       "    </div>\n",
       "    <div class=\"atoms\">\n",
       "\n",
       "<div class=\"word  \" >\n",
       "<a href=\"#\" class=\"nd\">65858</a>\n",
       "<div class=\"h\"><a target=\"_blank\" href=\"https://shebanq.ancient-data.org/hebrew/word?version=c&amp;id=1MN\" title=\"show this lexeme in SHEBANQ\">מִ</a></div>\n",
       "<div class=\"features\"> <span class=\"pdp\"><a href=\"https://shebanq.ancient-data.org/hebrew/text?book=Leviticus&amp;chapter=22&amp;verse=27&amp;version=c&amp;mr=m&amp;qw=q&amp;tp=txt_p&amp;tr=hb&amp;wget=v&amp;qget=v&amp;nget=vt\" title=\"Leviticus 22:27\" sec=\"Leviticus 22:27\">prep</a></span> <span class=\"gloss\">from</span> <span class=\"lex xft\"><span class=\"f\">lex=</span>MN</span></div>\n",
       "\n",
       "\n",
       "</div>\n",
       "\n",
       "<div class=\"word  \" >\n",
       "<a href=\"#\" class=\"nd\">65859</a>\n",
       "<div class=\"h\"><a target=\"_blank\" href=\"https://shebanq.ancient-data.org/hebrew/word?version=c&amp;id=1JWMn\" title=\"show this lexeme in SHEBANQ\">יֹּ֤ום </a></div>\n",
       "<div class=\"features\"> <span class=\"pdp\"><a href=\"https://shebanq.ancient-data.org/hebrew/text?book=Leviticus&amp;chapter=22&amp;verse=27&amp;version=c&amp;mr=m&amp;qw=q&amp;tp=txt_p&amp;tr=hb&amp;wget=v&amp;qget=v&amp;nget=vt\" title=\"Leviticus 22:27\" sec=\"Leviticus 22:27\">subs</a></span> <span class=\"gloss\">day</span> <span class=\"lex xft\"><span class=\"f\">lex=</span>JWM/</span></div>\n",
       "\n",
       "\n",
       "</div>\n",
       "\n",
       "<div class=\"word  hl\"  style=\"background-color: #ffcc5c;\" >\n",
       "<a href=\"#\" class=\"nd\">65860</a>\n",
       "<div class=\"h\"><a target=\"_blank\" href=\"https://shebanq.ancient-data.org/hebrew/word?version=c&amp;id=1H\" title=\"show this lexeme in SHEBANQ\">הַ</a></div>\n",
       "<div class=\"features\"> <span class=\"pdp\"><a href=\"https://shebanq.ancient-data.org/hebrew/text?book=Leviticus&amp;chapter=22&amp;verse=27&amp;version=c&amp;mr=m&amp;qw=q&amp;tp=txt_p&amp;tr=hb&amp;wget=v&amp;qget=v&amp;nget=vt\" title=\"Leviticus 22:27\" sec=\"Leviticus 22:27\">art</a></span> <span class=\"gloss\">the</span> <span class=\"lex xft\"><span class=\"f\">lex=</span>H</span></div>\n",
       "\n",
       "\n",
       "</div>\n",
       "\n",
       "<div class=\"word  hl\"  style=\"background-color: #ffcc5c;\" >\n",
       "<a href=\"#\" class=\"nd\">65861</a>\n",
       "<div class=\"h\"><a target=\"_blank\" href=\"https://shebanq.ancient-data.org/hebrew/word?version=c&amp;id=1CMJNJn\" title=\"show this lexeme in SHEBANQ\">שְּׁמִינִי֙ </a></div>\n",
       "<div class=\"features\"> <span class=\"pdp\"><a href=\"https://shebanq.ancient-data.org/hebrew/text?book=Leviticus&amp;chapter=22&amp;verse=27&amp;version=c&amp;mr=m&amp;qw=q&amp;tp=txt_p&amp;tr=hb&amp;wget=v&amp;qget=v&amp;nget=vt\" title=\"Leviticus 22:27\" sec=\"Leviticus 22:27\">subs</a></span> <span class=\"gloss\">eighth</span> <span class=\"lex xft\"><span class=\"f\">lex=</span>CMJNJ/</span></div>\n",
       "\n",
       "\n",
       "</div>\n",
       "\n",
       "\n",
       "    </div>\n",
       "\n",
       "\n",
       "</div>\n",
       "\n",
       "<div class=\"patom  r l \" >\n",
       "\n",
       "    <div class=\"phrase \" >\n",
       "        <a href=\"https://shebanq.ancient-data.org/hebrew/text?book=Leviticus&amp;chapter=22&amp;verse=27&amp;version=c&amp;mr=m&amp;qw=q&amp;tp=txt_p&amp;tr=hb&amp;wget=v&amp;qget=v&amp;nget=vt\" title=\"Leviticus 22:27\" sec=\"Leviticus 22:27\">phrase</a> <a href=\"#\" class=\"nd\">690126</a>  <span class=\"function\">Time</span> <span class=\"typ\">PP|CP</span>\n",
       "    </div>\n",
       "    <div class=\"atoms\">\n",
       "\n",
       "<div class=\"word  hl\"  style=\"background-color: #ffeead;\" >\n",
       "<a href=\"#\" class=\"nd\">65862</a>\n",
       "<div class=\"h\"><a target=\"_blank\" href=\"https://shebanq.ancient-data.org/hebrew/word?version=c&amp;id=1W\" title=\"show this lexeme in SHEBANQ\">וָ</a></div>\n",
       "<div class=\"features\"> <span class=\"pdp\"><a href=\"https://shebanq.ancient-data.org/hebrew/text?book=Leviticus&amp;chapter=22&amp;verse=27&amp;version=c&amp;mr=m&amp;qw=q&amp;tp=txt_p&amp;tr=hb&amp;wget=v&amp;qget=v&amp;nget=vt\" title=\"Leviticus 22:27\" sec=\"Leviticus 22:27\">conj</a></span> <span class=\"gloss\">and</span> <span class=\"lex xft\"><span class=\"f\">lex=</span>W</span></div>\n",
       "\n",
       "\n",
       "</div>\n",
       "\n",
       "\n",
       "    </div>\n",
       "\n",
       "\n",
       "</div>\n",
       "\n",
       "<div class=\"patom  r \" >\n",
       "\n",
       "    <div class=\"phrase \" >\n",
       "        <a href=\"https://shebanq.ancient-data.org/hebrew/text?book=Leviticus&amp;chapter=22&amp;verse=27&amp;version=c&amp;mr=m&amp;qw=q&amp;tp=txt_p&amp;tr=hb&amp;wget=v&amp;qget=v&amp;nget=vt\" title=\"Leviticus 22:27\" sec=\"Leviticus 22:27\">phrase</a> <a href=\"#\" class=\"nd\">690126</a>  <span class=\"function\">Time</span> <span class=\"typ\">PP|AdvP</span>\n",
       "    </div>\n",
       "    <div class=\"atoms\">\n",
       "\n",
       "<div class=\"word  hl\"  style=\"background-color: #96ceb4;\" >\n",
       "<a href=\"#\" class=\"nd\">65863</a>\n",
       "<div class=\"h\"><a target=\"_blank\" href=\"https://shebanq.ancient-data.org/hebrew/word?version=c&amp;id=1HLAH\" title=\"show this lexeme in SHEBANQ\">הָ֔לְאָה </a></div>\n",
       "<div class=\"features\"> <span class=\"pdp\"><a href=\"https://shebanq.ancient-data.org/hebrew/text?book=Leviticus&amp;chapter=22&amp;verse=27&amp;version=c&amp;mr=m&amp;qw=q&amp;tp=txt_p&amp;tr=hb&amp;wget=v&amp;qget=v&amp;nget=vt\" title=\"Leviticus 22:27\" sec=\"Leviticus 22:27\">advb</a></span> <span class=\"gloss\">further</span> <span class=\"lex xft\"><span class=\"f\">lex=</span>HL>H</span></div>\n",
       "\n",
       "\n",
       "</div>\n",
       "\n",
       "\n",
       "    </div>\n",
       "\n",
       "\n",
       "</div>\n",
       "\n",
       "\n",
       "</div>\n"
      ],
      "text/plain": [
       "<IPython.core.display.HTML object>"
      ]
     },
     "metadata": {},
     "output_type": "display_data"
    },
    {
     "data": {
      "text/html": [
       "<div style=\"background: #96ceb4; text-align: center\">part2</div>"
      ],
      "text/plain": [
       "<IPython.core.display.HTML object>"
      ]
     },
     "metadata": {},
     "output_type": "display_data"
    },
    {
     "data": {
      "text/html": [
       "<div style=\"background: #ffeead; text-align: center\">conj</div>"
      ],
      "text/plain": [
       "<IPython.core.display.HTML object>"
      ]
     },
     "metadata": {},
     "output_type": "display_data"
    },
    {
     "data": {
      "text/html": [
       "<div style=\"background: #ffcc5c; text-align: center\">part1</div>"
      ],
      "text/plain": [
       "<IPython.core.display.HTML object>"
      ]
     },
     "metadata": {},
     "output_type": "display_data"
    },
    {
     "name": "stdout",
     "output_type": "stream",
     "text": [
      "{   '__cx__': 'coord',\n",
      "    'conj': {'__cx__': 'conj', 'head': 65862},\n",
      "    'part1': {   '__cx__': 'defi_ph',\n",
      "                 'art': {'__cx__': 'art', 'head': 65860},\n",
      "                 'head': {'__cx__': 'ordn', 'head': 65861}},\n",
      "    'part2': {'__cx__': 'cont', 'head': 65863}}\n",
      "\n"
     ]
    },
    {
     "data": {
      "text/html": [
       "<hr>"
      ],
      "text/plain": [
       "<IPython.core.display.HTML object>"
      ]
     },
     "metadata": {},
     "output_type": "display_data"
    },
    {
     "data": {
      "text/html": [
       "<p><b>result</b> <i>1447524 -> CX coord {76224, 76222, 76223}</i></p>"
      ],
      "text/plain": [
       "<IPython.core.display.HTML object>"
      ]
     },
     "metadata": {},
     "output_type": "display_data"
    },
    {
     "data": {
      "text/html": [
       "<a href=\"https://shebanq.ancient-data.org/hebrew/text?book=Numeri&amp;chapter=9&amp;verse=22&amp;version=c&amp;mr=m&amp;qw=q&amp;tp=txt_p&amp;tr=hb&amp;wget=v&amp;qget=v&amp;nget=vt\" title=\"show this passage in SHEBANQ\" sec=\"Numbers 9:22\">Numbers 9:22</a>\n",
       "<div class=\"atoms  \" >\n",
       "<a href=\"#\" class=\"nd\">695155</a>\n",
       "\n",
       "\n",
       "\n",
       "<div class=\"patom  \" >\n",
       "\n",
       "    <div class=\"phrase \" >\n",
       "        <a href=\"https://shebanq.ancient-data.org/hebrew/text?book=Numeri&amp;chapter=9&amp;verse=22&amp;version=c&amp;mr=m&amp;qw=q&amp;tp=txt_p&amp;tr=hb&amp;wget=v&amp;qget=v&amp;nget=vt\" title=\"Numbers 9:22\" sec=\"Numbers 9:22\">phrase</a> <a href=\"#\" class=\"nd\">695155</a>  <span class=\"function\">Time</span> <span class=\"typ\">NP</span>\n",
       "    </div>\n",
       "    <div class=\"atoms\">\n",
       "\n",
       "<div class=\"word  hl\"  style=\"background-color: #ffcc5c;\" >\n",
       "<a href=\"#\" class=\"nd\">76222</a>\n",
       "<div class=\"h\"><a target=\"_blank\" href=\"https://shebanq.ancient-data.org/hebrew/word?version=c&amp;id=1JWMn\" title=\"show this lexeme in SHEBANQ\">יֹמַ֜יִם </a></div>\n",
       "<div class=\"features\"> <span class=\"pdp\"><a href=\"https://shebanq.ancient-data.org/hebrew/text?book=Numeri&amp;chapter=9&amp;verse=22&amp;version=c&amp;mr=m&amp;qw=q&amp;tp=txt_p&amp;tr=hb&amp;wget=v&amp;qget=v&amp;nget=vt\" title=\"Numbers 9:22\" sec=\"Numbers 9:22\">subs</a></span> <span class=\"gloss\">day</span> <span class=\"lex xft\"><span class=\"f\">lex=</span>JWM/</span></div>\n",
       "\n",
       "\n",
       "</div>\n",
       "\n",
       "<div class=\"word  hl\"  style=\"background-color: #ffeead;\" >\n",
       "<a href=\"#\" class=\"nd\">76223</a>\n",
       "<div class=\"h\"><a target=\"_blank\" href=\"https://shebanq.ancient-data.org/hebrew/word?version=c&amp;id=1AW\" title=\"show this lexeme in SHEBANQ\">אֹו־</a></div>\n",
       "<div class=\"features\"> <span class=\"pdp\"><a href=\"https://shebanq.ancient-data.org/hebrew/text?book=Numeri&amp;chapter=9&amp;verse=22&amp;version=c&amp;mr=m&amp;qw=q&amp;tp=txt_p&amp;tr=hb&amp;wget=v&amp;qget=v&amp;nget=vt\" title=\"Numbers 9:22\" sec=\"Numbers 9:22\">conj</a></span> <span class=\"gloss\">or</span> <span class=\"lex xft\"><span class=\"f\">lex=</span>>W</span></div>\n",
       "\n",
       "\n",
       "</div>\n",
       "\n",
       "<div class=\"word  hl\"  style=\"background-color: #96ceb4;\" >\n",
       "<a href=\"#\" class=\"nd\">76224</a>\n",
       "<div class=\"h\"><a target=\"_blank\" href=\"https://shebanq.ancient-data.org/hebrew/word?version=c&amp;id=1XDCin\" title=\"show this lexeme in SHEBANQ\">חֹ֣דֶשׁ </a></div>\n",
       "<div class=\"features\"> <span class=\"pdp\"><a href=\"https://shebanq.ancient-data.org/hebrew/text?book=Numeri&amp;chapter=9&amp;verse=22&amp;version=c&amp;mr=m&amp;qw=q&amp;tp=txt_p&amp;tr=hb&amp;wget=v&amp;qget=v&amp;nget=vt\" title=\"Numbers 9:22\" sec=\"Numbers 9:22\">subs</a></span> <span class=\"gloss\">month</span> <span class=\"lex xft\"><span class=\"f\">lex=</span>XDC=/</span></div>\n",
       "\n",
       "\n",
       "</div>\n",
       "\n",
       "<div class=\"word  \" >\n",
       "<a href=\"#\" class=\"nd\">76225</a>\n",
       "<div class=\"h\"><a target=\"_blank\" href=\"https://shebanq.ancient-data.org/hebrew/word?version=c&amp;id=1AW\" title=\"show this lexeme in SHEBANQ\">אֹו־</a></div>\n",
       "<div class=\"features\"> <span class=\"pdp\"><a href=\"https://shebanq.ancient-data.org/hebrew/text?book=Numeri&amp;chapter=9&amp;verse=22&amp;version=c&amp;mr=m&amp;qw=q&amp;tp=txt_p&amp;tr=hb&amp;wget=v&amp;qget=v&amp;nget=vt\" title=\"Numbers 9:22\" sec=\"Numbers 9:22\">conj</a></span> <span class=\"gloss\">or</span> <span class=\"lex xft\"><span class=\"f\">lex=</span>>W</span></div>\n",
       "\n",
       "\n",
       "</div>\n",
       "\n",
       "<div class=\"word  \" >\n",
       "<a href=\"#\" class=\"nd\">76226</a>\n",
       "<div class=\"h\"><a target=\"_blank\" href=\"https://shebanq.ancient-data.org/hebrew/word?version=c&amp;id=1JWMn\" title=\"show this lexeme in SHEBANQ\">יָמִ֗ים </a></div>\n",
       "<div class=\"features\"> <span class=\"pdp\"><a href=\"https://shebanq.ancient-data.org/hebrew/text?book=Numeri&amp;chapter=9&amp;verse=22&amp;version=c&amp;mr=m&amp;qw=q&amp;tp=txt_p&amp;tr=hb&amp;wget=v&amp;qget=v&amp;nget=vt\" title=\"Numbers 9:22\" sec=\"Numbers 9:22\">subs</a></span> <span class=\"gloss\">day</span> <span class=\"lex xft\"><span class=\"f\">lex=</span>JWM/</span></div>\n",
       "\n",
       "\n",
       "</div>\n",
       "\n",
       "\n",
       "    </div>\n",
       "\n",
       "\n",
       "</div>\n",
       "\n",
       "\n",
       "</div>\n"
      ],
      "text/plain": [
       "<IPython.core.display.HTML object>"
      ]
     },
     "metadata": {},
     "output_type": "display_data"
    },
    {
     "data": {
      "text/html": [
       "<div style=\"background: #96ceb4; text-align: center\">part2</div>"
      ],
      "text/plain": [
       "<IPython.core.display.HTML object>"
      ]
     },
     "metadata": {},
     "output_type": "display_data"
    },
    {
     "data": {
      "text/html": [
       "<div style=\"background: #ffeead; text-align: center\">conj</div>"
      ],
      "text/plain": [
       "<IPython.core.display.HTML object>"
      ]
     },
     "metadata": {},
     "output_type": "display_data"
    },
    {
     "data": {
      "text/html": [
       "<div style=\"background: #ffcc5c; text-align: center\">part1</div>"
      ],
      "text/plain": [
       "<IPython.core.display.HTML object>"
      ]
     },
     "metadata": {},
     "output_type": "display_data"
    },
    {
     "name": "stdout",
     "output_type": "stream",
     "text": [
      "{   '__cx__': 'coord',\n",
      "    'conj': {'__cx__': 'conj', 'head': 76223},\n",
      "    'part1': {'__cx__': 'cont', 'head': 76222},\n",
      "    'part2': {'__cx__': 'cont', 'head': 76224}}\n",
      "\n"
     ]
    },
    {
     "data": {
      "text/html": [
       "<hr>"
      ],
      "text/plain": [
       "<IPython.core.display.HTML object>"
      ]
     },
     "metadata": {},
     "output_type": "display_data"
    },
    {
     "data": {
      "text/html": [
       "<p><b>result</b> <i>1447524 -> CX coord {76224, 76225, 76226}</i></p>"
      ],
      "text/plain": [
       "<IPython.core.display.HTML object>"
      ]
     },
     "metadata": {},
     "output_type": "display_data"
    },
    {
     "data": {
      "text/html": [
       "<a href=\"https://shebanq.ancient-data.org/hebrew/text?book=Numeri&amp;chapter=9&amp;verse=22&amp;version=c&amp;mr=m&amp;qw=q&amp;tp=txt_p&amp;tr=hb&amp;wget=v&amp;qget=v&amp;nget=vt\" title=\"show this passage in SHEBANQ\" sec=\"Numbers 9:22\">Numbers 9:22</a>\n",
       "<div class=\"atoms  \" >\n",
       "<a href=\"#\" class=\"nd\">695155</a>\n",
       "\n",
       "\n",
       "\n",
       "<div class=\"patom  \" >\n",
       "\n",
       "    <div class=\"phrase \" >\n",
       "        <a href=\"https://shebanq.ancient-data.org/hebrew/text?book=Numeri&amp;chapter=9&amp;verse=22&amp;version=c&amp;mr=m&amp;qw=q&amp;tp=txt_p&amp;tr=hb&amp;wget=v&amp;qget=v&amp;nget=vt\" title=\"Numbers 9:22\" sec=\"Numbers 9:22\">phrase</a> <a href=\"#\" class=\"nd\">695155</a>  <span class=\"function\">Time</span> <span class=\"typ\">NP</span>\n",
       "    </div>\n",
       "    <div class=\"atoms\">\n",
       "\n",
       "<div class=\"word  \" >\n",
       "<a href=\"#\" class=\"nd\">76222</a>\n",
       "<div class=\"h\"><a target=\"_blank\" href=\"https://shebanq.ancient-data.org/hebrew/word?version=c&amp;id=1JWMn\" title=\"show this lexeme in SHEBANQ\">יֹמַ֜יִם </a></div>\n",
       "<div class=\"features\"> <span class=\"pdp\"><a href=\"https://shebanq.ancient-data.org/hebrew/text?book=Numeri&amp;chapter=9&amp;verse=22&amp;version=c&amp;mr=m&amp;qw=q&amp;tp=txt_p&amp;tr=hb&amp;wget=v&amp;qget=v&amp;nget=vt\" title=\"Numbers 9:22\" sec=\"Numbers 9:22\">subs</a></span> <span class=\"gloss\">day</span> <span class=\"lex xft\"><span class=\"f\">lex=</span>JWM/</span></div>\n",
       "\n",
       "\n",
       "</div>\n",
       "\n",
       "<div class=\"word  \" >\n",
       "<a href=\"#\" class=\"nd\">76223</a>\n",
       "<div class=\"h\"><a target=\"_blank\" href=\"https://shebanq.ancient-data.org/hebrew/word?version=c&amp;id=1AW\" title=\"show this lexeme in SHEBANQ\">אֹו־</a></div>\n",
       "<div class=\"features\"> <span class=\"pdp\"><a href=\"https://shebanq.ancient-data.org/hebrew/text?book=Numeri&amp;chapter=9&amp;verse=22&amp;version=c&amp;mr=m&amp;qw=q&amp;tp=txt_p&amp;tr=hb&amp;wget=v&amp;qget=v&amp;nget=vt\" title=\"Numbers 9:22\" sec=\"Numbers 9:22\">conj</a></span> <span class=\"gloss\">or</span> <span class=\"lex xft\"><span class=\"f\">lex=</span>>W</span></div>\n",
       "\n",
       "\n",
       "</div>\n",
       "\n",
       "<div class=\"word  hl\"  style=\"background-color: #ffcc5c;\" >\n",
       "<a href=\"#\" class=\"nd\">76224</a>\n",
       "<div class=\"h\"><a target=\"_blank\" href=\"https://shebanq.ancient-data.org/hebrew/word?version=c&amp;id=1XDCin\" title=\"show this lexeme in SHEBANQ\">חֹ֣דֶשׁ </a></div>\n",
       "<div class=\"features\"> <span class=\"pdp\"><a href=\"https://shebanq.ancient-data.org/hebrew/text?book=Numeri&amp;chapter=9&amp;verse=22&amp;version=c&amp;mr=m&amp;qw=q&amp;tp=txt_p&amp;tr=hb&amp;wget=v&amp;qget=v&amp;nget=vt\" title=\"Numbers 9:22\" sec=\"Numbers 9:22\">subs</a></span> <span class=\"gloss\">month</span> <span class=\"lex xft\"><span class=\"f\">lex=</span>XDC=/</span></div>\n",
       "\n",
       "\n",
       "</div>\n",
       "\n",
       "<div class=\"word  hl\"  style=\"background-color: #ffeead;\" >\n",
       "<a href=\"#\" class=\"nd\">76225</a>\n",
       "<div class=\"h\"><a target=\"_blank\" href=\"https://shebanq.ancient-data.org/hebrew/word?version=c&amp;id=1AW\" title=\"show this lexeme in SHEBANQ\">אֹו־</a></div>\n",
       "<div class=\"features\"> <span class=\"pdp\"><a href=\"https://shebanq.ancient-data.org/hebrew/text?book=Numeri&amp;chapter=9&amp;verse=22&amp;version=c&amp;mr=m&amp;qw=q&amp;tp=txt_p&amp;tr=hb&amp;wget=v&amp;qget=v&amp;nget=vt\" title=\"Numbers 9:22\" sec=\"Numbers 9:22\">conj</a></span> <span class=\"gloss\">or</span> <span class=\"lex xft\"><span class=\"f\">lex=</span>>W</span></div>\n",
       "\n",
       "\n",
       "</div>\n",
       "\n",
       "<div class=\"word  hl\"  style=\"background-color: #96ceb4;\" >\n",
       "<a href=\"#\" class=\"nd\">76226</a>\n",
       "<div class=\"h\"><a target=\"_blank\" href=\"https://shebanq.ancient-data.org/hebrew/word?version=c&amp;id=1JWMn\" title=\"show this lexeme in SHEBANQ\">יָמִ֗ים </a></div>\n",
       "<div class=\"features\"> <span class=\"pdp\"><a href=\"https://shebanq.ancient-data.org/hebrew/text?book=Numeri&amp;chapter=9&amp;verse=22&amp;version=c&amp;mr=m&amp;qw=q&amp;tp=txt_p&amp;tr=hb&amp;wget=v&amp;qget=v&amp;nget=vt\" title=\"Numbers 9:22\" sec=\"Numbers 9:22\">subs</a></span> <span class=\"gloss\">day</span> <span class=\"lex xft\"><span class=\"f\">lex=</span>JWM/</span></div>\n",
       "\n",
       "\n",
       "</div>\n",
       "\n",
       "\n",
       "    </div>\n",
       "\n",
       "\n",
       "</div>\n",
       "\n",
       "\n",
       "</div>\n"
      ],
      "text/plain": [
       "<IPython.core.display.HTML object>"
      ]
     },
     "metadata": {},
     "output_type": "display_data"
    },
    {
     "data": {
      "text/html": [
       "<div style=\"background: #96ceb4; text-align: center\">part2</div>"
      ],
      "text/plain": [
       "<IPython.core.display.HTML object>"
      ]
     },
     "metadata": {},
     "output_type": "display_data"
    },
    {
     "data": {
      "text/html": [
       "<div style=\"background: #ffeead; text-align: center\">conj</div>"
      ],
      "text/plain": [
       "<IPython.core.display.HTML object>"
      ]
     },
     "metadata": {},
     "output_type": "display_data"
    },
    {
     "data": {
      "text/html": [
       "<div style=\"background: #ffcc5c; text-align: center\">part1</div>"
      ],
      "text/plain": [
       "<IPython.core.display.HTML object>"
      ]
     },
     "metadata": {},
     "output_type": "display_data"
    },
    {
     "name": "stdout",
     "output_type": "stream",
     "text": [
      "{   '__cx__': 'coord',\n",
      "    'conj': {'__cx__': 'conj', 'head': 76225},\n",
      "    'part1': {'__cx__': 'cont', 'head': 76224},\n",
      "    'part2': {'__cx__': 'cont', 'head': 76226}}\n",
      "\n"
     ]
    },
    {
     "data": {
      "text/html": [
       "<hr>"
      ],
      "text/plain": [
       "<IPython.core.display.HTML object>"
      ]
     },
     "metadata": {},
     "output_type": "display_data"
    },
    {
     "data": {
      "text/html": [
       "<p><b>result</b> <i>1447525 -> CX coord {76398, 76399, 76400, 76401, 76402, 76403}</i></p>"
      ],
      "text/plain": [
       "<IPython.core.display.HTML object>"
      ]
     },
     "metadata": {},
     "output_type": "display_data"
    },
    {
     "data": {
      "text/html": [
       "<a href=\"https://shebanq.ancient-data.org/hebrew/text?book=Numeri&amp;chapter=10&amp;verse=10&amp;version=c&amp;mr=m&amp;qw=q&amp;tp=txt_p&amp;tr=hb&amp;wget=v&amp;qget=v&amp;nget=vt\" title=\"show this passage in SHEBANQ\" sec=\"Numbers 10:10\">Numbers 10:10</a>\n",
       "<div class=\"atoms  \" >\n",
       "<a href=\"#\" class=\"nd\">695264</a>\n",
       "\n",
       "\n",
       "\n",
       "<div class=\"patom  \" >\n",
       "\n",
       "    <div class=\"phrase \" >\n",
       "        <a href=\"https://shebanq.ancient-data.org/hebrew/text?book=Numeri&amp;chapter=10&amp;verse=10&amp;version=c&amp;mr=m&amp;qw=q&amp;tp=txt_p&amp;tr=hb&amp;wget=v&amp;qget=v&amp;nget=vt\" title=\"Numbers 10:10\" sec=\"Numbers 10:10\">phrase</a> <a href=\"#\" class=\"nd\">695264</a>  <span class=\"function\">Time</span> <span class=\"typ\">PP</span>\n",
       "    </div>\n",
       "    <div class=\"atoms\">\n",
       "\n",
       "<div class=\"word  hl\"  style=\"background-color: #ffcc5c;\" >\n",
       "<a href=\"#\" class=\"nd\">76398</a>\n",
       "<div class=\"h\"><a target=\"_blank\" href=\"https://shebanq.ancient-data.org/hebrew/word?version=c&amp;id=1B\" title=\"show this lexeme in SHEBANQ\">בְ</a></div>\n",
       "<div class=\"features\"> <span class=\"pdp\"><a href=\"https://shebanq.ancient-data.org/hebrew/text?book=Numeri&amp;chapter=10&amp;verse=10&amp;version=c&amp;mr=m&amp;qw=q&amp;tp=txt_p&amp;tr=hb&amp;wget=v&amp;qget=v&amp;nget=vt\" title=\"Numbers 10:10\" sec=\"Numbers 10:10\">prep</a></span> <span class=\"gloss\">in</span> <span class=\"lex xft\"><span class=\"f\">lex=</span>B</span></div>\n",
       "\n",
       "\n",
       "</div>\n",
       "\n",
       "<div class=\"word  hl\"  style=\"background-color: #ffcc5c;\" >\n",
       "<a href=\"#\" class=\"nd\">76399</a>\n",
       "<div class=\"h\"><a target=\"_blank\" href=\"https://shebanq.ancient-data.org/hebrew/word?version=c&amp;id=1JWMn\" title=\"show this lexeme in SHEBANQ\">יֹ֨ום </a></div>\n",
       "<div class=\"features\"> <span class=\"pdp\"><a href=\"https://shebanq.ancient-data.org/hebrew/text?book=Numeri&amp;chapter=10&amp;verse=10&amp;version=c&amp;mr=m&amp;qw=q&amp;tp=txt_p&amp;tr=hb&amp;wget=v&amp;qget=v&amp;nget=vt\" title=\"Numbers 10:10\" sec=\"Numbers 10:10\">subs</a></span> <span class=\"gloss\">day</span> <span class=\"lex xft\"><span class=\"f\">lex=</span>JWM/</span></div>\n",
       "\n",
       "\n",
       "</div>\n",
       "\n",
       "<div class=\"word  hl\"  style=\"background-color: #ffcc5c;\" >\n",
       "<a href=\"#\" class=\"nd\">76400</a>\n",
       "<div class=\"h\"><a target=\"_blank\" href=\"https://shebanq.ancient-data.org/hebrew/word?version=c&amp;id=1FMXHn\" title=\"show this lexeme in SHEBANQ\">שִׂמְחַתְכֶ֥ם </a></div>\n",
       "<div class=\"features\"> <span class=\"pdp\"><a href=\"https://shebanq.ancient-data.org/hebrew/text?book=Numeri&amp;chapter=10&amp;verse=10&amp;version=c&amp;mr=m&amp;qw=q&amp;tp=txt_p&amp;tr=hb&amp;wget=v&amp;qget=v&amp;nget=vt\" title=\"Numbers 10:10\" sec=\"Numbers 10:10\">subs</a></span> <span class=\"gloss\">joy</span> <span class=\"lex xft\"><span class=\"f\">lex=</span>FMXH/</span></div>\n",
       "\n",
       "\n",
       "</div>\n",
       "\n",
       "<div class=\"word  hl\"  style=\"background-color: #ffeead;\" >\n",
       "<a href=\"#\" class=\"nd\">76401</a>\n",
       "<div class=\"h\"><a target=\"_blank\" href=\"https://shebanq.ancient-data.org/hebrew/word?version=c&amp;id=1W\" title=\"show this lexeme in SHEBANQ\">וּֽ</a></div>\n",
       "<div class=\"features\"> <span class=\"pdp\"><a href=\"https://shebanq.ancient-data.org/hebrew/text?book=Numeri&amp;chapter=10&amp;verse=10&amp;version=c&amp;mr=m&amp;qw=q&amp;tp=txt_p&amp;tr=hb&amp;wget=v&amp;qget=v&amp;nget=vt\" title=\"Numbers 10:10\" sec=\"Numbers 10:10\">conj</a></span> <span class=\"gloss\">and</span> <span class=\"lex xft\"><span class=\"f\">lex=</span>W</span></div>\n",
       "\n",
       "\n",
       "</div>\n",
       "\n",
       "<div class=\"word  hl\"  style=\"background-color: #96ceb4;\" >\n",
       "<a href=\"#\" class=\"nd\">76402</a>\n",
       "<div class=\"h\"><a target=\"_blank\" href=\"https://shebanq.ancient-data.org/hebrew/word?version=c&amp;id=1B\" title=\"show this lexeme in SHEBANQ\">בְ</a></div>\n",
       "<div class=\"features\"> <span class=\"pdp\"><a href=\"https://shebanq.ancient-data.org/hebrew/text?book=Numeri&amp;chapter=10&amp;verse=10&amp;version=c&amp;mr=m&amp;qw=q&amp;tp=txt_p&amp;tr=hb&amp;wget=v&amp;qget=v&amp;nget=vt\" title=\"Numbers 10:10\" sec=\"Numbers 10:10\">prep</a></span> <span class=\"gloss\">in</span> <span class=\"lex xft\"><span class=\"f\">lex=</span>B</span></div>\n",
       "\n",
       "\n",
       "</div>\n",
       "\n",
       "<div class=\"word  hl\"  style=\"background-color: #96ceb4;\" >\n",
       "<a href=\"#\" class=\"nd\">76403</a>\n",
       "<div class=\"h\"><a target=\"_blank\" href=\"https://shebanq.ancient-data.org/hebrew/word?version=c&amp;id=1MWODn\" title=\"show this lexeme in SHEBANQ\">מֹועֲדֵיכֶם֮ </a></div>\n",
       "<div class=\"features\"> <span class=\"pdp\"><a href=\"https://shebanq.ancient-data.org/hebrew/text?book=Numeri&amp;chapter=10&amp;verse=10&amp;version=c&amp;mr=m&amp;qw=q&amp;tp=txt_p&amp;tr=hb&amp;wget=v&amp;qget=v&amp;nget=vt\" title=\"Numbers 10:10\" sec=\"Numbers 10:10\">subs</a></span> <span class=\"gloss\">appointment</span> <span class=\"lex xft\"><span class=\"f\">lex=</span>MW&lt;D/</span></div>\n",
       "\n",
       "\n",
       "</div>\n",
       "\n",
       "<div class=\"word  \" >\n",
       "<a href=\"#\" class=\"nd\">76404</a>\n",
       "<div class=\"h\"><a target=\"_blank\" href=\"https://shebanq.ancient-data.org/hebrew/word?version=c&amp;id=1W\" title=\"show this lexeme in SHEBANQ\">וּ</a></div>\n",
       "<div class=\"features\"> <span class=\"pdp\"><a href=\"https://shebanq.ancient-data.org/hebrew/text?book=Numeri&amp;chapter=10&amp;verse=10&amp;version=c&amp;mr=m&amp;qw=q&amp;tp=txt_p&amp;tr=hb&amp;wget=v&amp;qget=v&amp;nget=vt\" title=\"Numbers 10:10\" sec=\"Numbers 10:10\">conj</a></span> <span class=\"gloss\">and</span> <span class=\"lex xft\"><span class=\"f\">lex=</span>W</span></div>\n",
       "\n",
       "\n",
       "</div>\n",
       "\n",
       "<div class=\"word  \" >\n",
       "<a href=\"#\" class=\"nd\">76405</a>\n",
       "<div class=\"h\"><a target=\"_blank\" href=\"https://shebanq.ancient-data.org/hebrew/word?version=c&amp;id=1B\" title=\"show this lexeme in SHEBANQ\">בְ</a></div>\n",
       "<div class=\"features\"> <span class=\"pdp\"><a href=\"https://shebanq.ancient-data.org/hebrew/text?book=Numeri&amp;chapter=10&amp;verse=10&amp;version=c&amp;mr=m&amp;qw=q&amp;tp=txt_p&amp;tr=hb&amp;wget=v&amp;qget=v&amp;nget=vt\" title=\"Numbers 10:10\" sec=\"Numbers 10:10\">prep</a></span> <span class=\"gloss\">in</span> <span class=\"lex xft\"><span class=\"f\">lex=</span>B</span></div>\n",
       "\n",
       "\n",
       "</div>\n",
       "\n",
       "<div class=\"word  \" >\n",
       "<a href=\"#\" class=\"nd\">76406</a>\n",
       "<div class=\"h\"><a target=\"_blank\" href=\"https://shebanq.ancient-data.org/hebrew/word?version=c&amp;id=1RACn\" title=\"show this lexeme in SHEBANQ\">רָאשֵׁ֣י </a></div>\n",
       "<div class=\"features\"> <span class=\"pdp\"><a href=\"https://shebanq.ancient-data.org/hebrew/text?book=Numeri&amp;chapter=10&amp;verse=10&amp;version=c&amp;mr=m&amp;qw=q&amp;tp=txt_p&amp;tr=hb&amp;wget=v&amp;qget=v&amp;nget=vt\" title=\"Numbers 10:10\" sec=\"Numbers 10:10\">subs</a></span> <span class=\"gloss\">head</span> <span class=\"lex xft\"><span class=\"f\">lex=</span>R>C/</span></div>\n",
       "\n",
       "\n",
       "</div>\n",
       "\n",
       "<div class=\"word  \" >\n",
       "<a href=\"#\" class=\"nd\">76407</a>\n",
       "<div class=\"h\"><a target=\"_blank\" href=\"https://shebanq.ancient-data.org/hebrew/word?version=c&amp;id=1XDCin\" title=\"show this lexeme in SHEBANQ\">חָדְשֵׁיכֶם֒ </a></div>\n",
       "<div class=\"features\"> <span class=\"pdp\"><a href=\"https://shebanq.ancient-data.org/hebrew/text?book=Numeri&amp;chapter=10&amp;verse=10&amp;version=c&amp;mr=m&amp;qw=q&amp;tp=txt_p&amp;tr=hb&amp;wget=v&amp;qget=v&amp;nget=vt\" title=\"Numbers 10:10\" sec=\"Numbers 10:10\">subs</a></span> <span class=\"gloss\">month</span> <span class=\"lex xft\"><span class=\"f\">lex=</span>XDC=/</span></div>\n",
       "\n",
       "\n",
       "</div>\n",
       "\n",
       "\n",
       "    </div>\n",
       "\n",
       "\n",
       "</div>\n",
       "\n",
       "\n",
       "</div>\n"
      ],
      "text/plain": [
       "<IPython.core.display.HTML object>"
      ]
     },
     "metadata": {},
     "output_type": "display_data"
    },
    {
     "data": {
      "text/html": [
       "<div style=\"background: #96ceb4; text-align: center\">part2</div>"
      ],
      "text/plain": [
       "<IPython.core.display.HTML object>"
      ]
     },
     "metadata": {},
     "output_type": "display_data"
    },
    {
     "data": {
      "text/html": [
       "<div style=\"background: #ffeead; text-align: center\">conj</div>"
      ],
      "text/plain": [
       "<IPython.core.display.HTML object>"
      ]
     },
     "metadata": {},
     "output_type": "display_data"
    },
    {
     "data": {
      "text/html": [
       "<div style=\"background: #ffcc5c; text-align: center\">part1</div>"
      ],
      "text/plain": [
       "<IPython.core.display.HTML object>"
      ]
     },
     "metadata": {},
     "output_type": "display_data"
    },
    {
     "name": "stdout",
     "output_type": "stream",
     "text": [
      "{   '__cx__': 'coord',\n",
      "    'conj': {'__cx__': 'conj', 'head': 76401},\n",
      "    'part1': {   '__cx__': 'prep_ph',\n",
      "                 'head': {   '__cx__': 'geni_ph',\n",
      "                             'geni': {'__cx__': 'cont', 'head': 76400},\n",
      "                             'head': {'__cx__': 'cont', 'head': 76399}},\n",
      "                 'prep': {'__cx__': 'prep', 'head': 76398}},\n",
      "    'part2': {   '__cx__': 'prep_ph',\n",
      "                 'head': {'__cx__': 'cont', 'head': 76403},\n",
      "                 'prep': {'__cx__': 'prep', 'head': 76402}}}\n",
      "\n"
     ]
    },
    {
     "data": {
      "text/html": [
       "<hr>"
      ],
      "text/plain": [
       "<IPython.core.display.HTML object>"
      ]
     },
     "metadata": {},
     "output_type": "display_data"
    },
    {
     "data": {
      "text/html": [
       "<p><b>result</b> <i>1447525 -> CX coord {76402, 76403, 76404, 76405, 76406, 76407}</i></p>"
      ],
      "text/plain": [
       "<IPython.core.display.HTML object>"
      ]
     },
     "metadata": {},
     "output_type": "display_data"
    },
    {
     "data": {
      "text/html": [
       "<a href=\"https://shebanq.ancient-data.org/hebrew/text?book=Numeri&amp;chapter=10&amp;verse=10&amp;version=c&amp;mr=m&amp;qw=q&amp;tp=txt_p&amp;tr=hb&amp;wget=v&amp;qget=v&amp;nget=vt\" title=\"show this passage in SHEBANQ\" sec=\"Numbers 10:10\">Numbers 10:10</a>\n",
       "<div class=\"atoms  \" >\n",
       "<a href=\"#\" class=\"nd\">695264</a>\n",
       "\n",
       "\n",
       "\n",
       "<div class=\"patom  \" >\n",
       "\n",
       "    <div class=\"phrase \" >\n",
       "        <a href=\"https://shebanq.ancient-data.org/hebrew/text?book=Numeri&amp;chapter=10&amp;verse=10&amp;version=c&amp;mr=m&amp;qw=q&amp;tp=txt_p&amp;tr=hb&amp;wget=v&amp;qget=v&amp;nget=vt\" title=\"Numbers 10:10\" sec=\"Numbers 10:10\">phrase</a> <a href=\"#\" class=\"nd\">695264</a>  <span class=\"function\">Time</span> <span class=\"typ\">PP</span>\n",
       "    </div>\n",
       "    <div class=\"atoms\">\n",
       "\n",
       "<div class=\"word  \" >\n",
       "<a href=\"#\" class=\"nd\">76398</a>\n",
       "<div class=\"h\"><a target=\"_blank\" href=\"https://shebanq.ancient-data.org/hebrew/word?version=c&amp;id=1B\" title=\"show this lexeme in SHEBANQ\">בְ</a></div>\n",
       "<div class=\"features\"> <span class=\"pdp\"><a href=\"https://shebanq.ancient-data.org/hebrew/text?book=Numeri&amp;chapter=10&amp;verse=10&amp;version=c&amp;mr=m&amp;qw=q&amp;tp=txt_p&amp;tr=hb&amp;wget=v&amp;qget=v&amp;nget=vt\" title=\"Numbers 10:10\" sec=\"Numbers 10:10\">prep</a></span> <span class=\"gloss\">in</span> <span class=\"lex xft\"><span class=\"f\">lex=</span>B</span></div>\n",
       "\n",
       "\n",
       "</div>\n",
       "\n",
       "<div class=\"word  \" >\n",
       "<a href=\"#\" class=\"nd\">76399</a>\n",
       "<div class=\"h\"><a target=\"_blank\" href=\"https://shebanq.ancient-data.org/hebrew/word?version=c&amp;id=1JWMn\" title=\"show this lexeme in SHEBANQ\">יֹ֨ום </a></div>\n",
       "<div class=\"features\"> <span class=\"pdp\"><a href=\"https://shebanq.ancient-data.org/hebrew/text?book=Numeri&amp;chapter=10&amp;verse=10&amp;version=c&amp;mr=m&amp;qw=q&amp;tp=txt_p&amp;tr=hb&amp;wget=v&amp;qget=v&amp;nget=vt\" title=\"Numbers 10:10\" sec=\"Numbers 10:10\">subs</a></span> <span class=\"gloss\">day</span> <span class=\"lex xft\"><span class=\"f\">lex=</span>JWM/</span></div>\n",
       "\n",
       "\n",
       "</div>\n",
       "\n",
       "<div class=\"word  \" >\n",
       "<a href=\"#\" class=\"nd\">76400</a>\n",
       "<div class=\"h\"><a target=\"_blank\" href=\"https://shebanq.ancient-data.org/hebrew/word?version=c&amp;id=1FMXHn\" title=\"show this lexeme in SHEBANQ\">שִׂמְחַתְכֶ֥ם </a></div>\n",
       "<div class=\"features\"> <span class=\"pdp\"><a href=\"https://shebanq.ancient-data.org/hebrew/text?book=Numeri&amp;chapter=10&amp;verse=10&amp;version=c&amp;mr=m&amp;qw=q&amp;tp=txt_p&amp;tr=hb&amp;wget=v&amp;qget=v&amp;nget=vt\" title=\"Numbers 10:10\" sec=\"Numbers 10:10\">subs</a></span> <span class=\"gloss\">joy</span> <span class=\"lex xft\"><span class=\"f\">lex=</span>FMXH/</span></div>\n",
       "\n",
       "\n",
       "</div>\n",
       "\n",
       "<div class=\"word  \" >\n",
       "<a href=\"#\" class=\"nd\">76401</a>\n",
       "<div class=\"h\"><a target=\"_blank\" href=\"https://shebanq.ancient-data.org/hebrew/word?version=c&amp;id=1W\" title=\"show this lexeme in SHEBANQ\">וּֽ</a></div>\n",
       "<div class=\"features\"> <span class=\"pdp\"><a href=\"https://shebanq.ancient-data.org/hebrew/text?book=Numeri&amp;chapter=10&amp;verse=10&amp;version=c&amp;mr=m&amp;qw=q&amp;tp=txt_p&amp;tr=hb&amp;wget=v&amp;qget=v&amp;nget=vt\" title=\"Numbers 10:10\" sec=\"Numbers 10:10\">conj</a></span> <span class=\"gloss\">and</span> <span class=\"lex xft\"><span class=\"f\">lex=</span>W</span></div>\n",
       "\n",
       "\n",
       "</div>\n",
       "\n",
       "<div class=\"word  hl\"  style=\"background-color: #ffcc5c;\" >\n",
       "<a href=\"#\" class=\"nd\">76402</a>\n",
       "<div class=\"h\"><a target=\"_blank\" href=\"https://shebanq.ancient-data.org/hebrew/word?version=c&amp;id=1B\" title=\"show this lexeme in SHEBANQ\">בְ</a></div>\n",
       "<div class=\"features\"> <span class=\"pdp\"><a href=\"https://shebanq.ancient-data.org/hebrew/text?book=Numeri&amp;chapter=10&amp;verse=10&amp;version=c&amp;mr=m&amp;qw=q&amp;tp=txt_p&amp;tr=hb&amp;wget=v&amp;qget=v&amp;nget=vt\" title=\"Numbers 10:10\" sec=\"Numbers 10:10\">prep</a></span> <span class=\"gloss\">in</span> <span class=\"lex xft\"><span class=\"f\">lex=</span>B</span></div>\n",
       "\n",
       "\n",
       "</div>\n",
       "\n",
       "<div class=\"word  hl\"  style=\"background-color: #ffcc5c;\" >\n",
       "<a href=\"#\" class=\"nd\">76403</a>\n",
       "<div class=\"h\"><a target=\"_blank\" href=\"https://shebanq.ancient-data.org/hebrew/word?version=c&amp;id=1MWODn\" title=\"show this lexeme in SHEBANQ\">מֹועֲדֵיכֶם֮ </a></div>\n",
       "<div class=\"features\"> <span class=\"pdp\"><a href=\"https://shebanq.ancient-data.org/hebrew/text?book=Numeri&amp;chapter=10&amp;verse=10&amp;version=c&amp;mr=m&amp;qw=q&amp;tp=txt_p&amp;tr=hb&amp;wget=v&amp;qget=v&amp;nget=vt\" title=\"Numbers 10:10\" sec=\"Numbers 10:10\">subs</a></span> <span class=\"gloss\">appointment</span> <span class=\"lex xft\"><span class=\"f\">lex=</span>MW&lt;D/</span></div>\n",
       "\n",
       "\n",
       "</div>\n",
       "\n",
       "<div class=\"word  hl\"  style=\"background-color: #ffeead;\" >\n",
       "<a href=\"#\" class=\"nd\">76404</a>\n",
       "<div class=\"h\"><a target=\"_blank\" href=\"https://shebanq.ancient-data.org/hebrew/word?version=c&amp;id=1W\" title=\"show this lexeme in SHEBANQ\">וּ</a></div>\n",
       "<div class=\"features\"> <span class=\"pdp\"><a href=\"https://shebanq.ancient-data.org/hebrew/text?book=Numeri&amp;chapter=10&amp;verse=10&amp;version=c&amp;mr=m&amp;qw=q&amp;tp=txt_p&amp;tr=hb&amp;wget=v&amp;qget=v&amp;nget=vt\" title=\"Numbers 10:10\" sec=\"Numbers 10:10\">conj</a></span> <span class=\"gloss\">and</span> <span class=\"lex xft\"><span class=\"f\">lex=</span>W</span></div>\n",
       "\n",
       "\n",
       "</div>\n",
       "\n",
       "<div class=\"word  hl\"  style=\"background-color: #96ceb4;\" >\n",
       "<a href=\"#\" class=\"nd\">76405</a>\n",
       "<div class=\"h\"><a target=\"_blank\" href=\"https://shebanq.ancient-data.org/hebrew/word?version=c&amp;id=1B\" title=\"show this lexeme in SHEBANQ\">בְ</a></div>\n",
       "<div class=\"features\"> <span class=\"pdp\"><a href=\"https://shebanq.ancient-data.org/hebrew/text?book=Numeri&amp;chapter=10&amp;verse=10&amp;version=c&amp;mr=m&amp;qw=q&amp;tp=txt_p&amp;tr=hb&amp;wget=v&amp;qget=v&amp;nget=vt\" title=\"Numbers 10:10\" sec=\"Numbers 10:10\">prep</a></span> <span class=\"gloss\">in</span> <span class=\"lex xft\"><span class=\"f\">lex=</span>B</span></div>\n",
       "\n",
       "\n",
       "</div>\n",
       "\n",
       "<div class=\"word  hl\"  style=\"background-color: #96ceb4;\" >\n",
       "<a href=\"#\" class=\"nd\">76406</a>\n",
       "<div class=\"h\"><a target=\"_blank\" href=\"https://shebanq.ancient-data.org/hebrew/word?version=c&amp;id=1RACn\" title=\"show this lexeme in SHEBANQ\">רָאשֵׁ֣י </a></div>\n",
       "<div class=\"features\"> <span class=\"pdp\"><a href=\"https://shebanq.ancient-data.org/hebrew/text?book=Numeri&amp;chapter=10&amp;verse=10&amp;version=c&amp;mr=m&amp;qw=q&amp;tp=txt_p&amp;tr=hb&amp;wget=v&amp;qget=v&amp;nget=vt\" title=\"Numbers 10:10\" sec=\"Numbers 10:10\">subs</a></span> <span class=\"gloss\">head</span> <span class=\"lex xft\"><span class=\"f\">lex=</span>R>C/</span></div>\n",
       "\n",
       "\n",
       "</div>\n",
       "\n",
       "<div class=\"word  hl\"  style=\"background-color: #96ceb4;\" >\n",
       "<a href=\"#\" class=\"nd\">76407</a>\n",
       "<div class=\"h\"><a target=\"_blank\" href=\"https://shebanq.ancient-data.org/hebrew/word?version=c&amp;id=1XDCin\" title=\"show this lexeme in SHEBANQ\">חָדְשֵׁיכֶם֒ </a></div>\n",
       "<div class=\"features\"> <span class=\"pdp\"><a href=\"https://shebanq.ancient-data.org/hebrew/text?book=Numeri&amp;chapter=10&amp;verse=10&amp;version=c&amp;mr=m&amp;qw=q&amp;tp=txt_p&amp;tr=hb&amp;wget=v&amp;qget=v&amp;nget=vt\" title=\"Numbers 10:10\" sec=\"Numbers 10:10\">subs</a></span> <span class=\"gloss\">month</span> <span class=\"lex xft\"><span class=\"f\">lex=</span>XDC=/</span></div>\n",
       "\n",
       "\n",
       "</div>\n",
       "\n",
       "\n",
       "    </div>\n",
       "\n",
       "\n",
       "</div>\n",
       "\n",
       "\n",
       "</div>\n"
      ],
      "text/plain": [
       "<IPython.core.display.HTML object>"
      ]
     },
     "metadata": {},
     "output_type": "display_data"
    },
    {
     "data": {
      "text/html": [
       "<div style=\"background: #96ceb4; text-align: center\">part2</div>"
      ],
      "text/plain": [
       "<IPython.core.display.HTML object>"
      ]
     },
     "metadata": {},
     "output_type": "display_data"
    },
    {
     "data": {
      "text/html": [
       "<div style=\"background: #ffeead; text-align: center\">conj</div>"
      ],
      "text/plain": [
       "<IPython.core.display.HTML object>"
      ]
     },
     "metadata": {},
     "output_type": "display_data"
    },
    {
     "data": {
      "text/html": [
       "<div style=\"background: #ffcc5c; text-align: center\">part1</div>"
      ],
      "text/plain": [
       "<IPython.core.display.HTML object>"
      ]
     },
     "metadata": {},
     "output_type": "display_data"
    },
    {
     "name": "stdout",
     "output_type": "stream",
     "text": [
      "{   '__cx__': 'coord',\n",
      "    'conj': {'__cx__': 'conj', 'head': 76404},\n",
      "    'part1': {   '__cx__': 'prep_ph',\n",
      "                 'head': {'__cx__': 'cont', 'head': 76403},\n",
      "                 'prep': {'__cx__': 'prep', 'head': 76402}},\n",
      "    'part2': {   '__cx__': 'prep_ph',\n",
      "                 'head': {   '__cx__': 'prep_ph',\n",
      "                             'head': {'__cx__': 'cont', 'head': 76407},\n",
      "                             'prep': {'__cx__': 'prep', 'head': 76406}},\n",
      "                 'prep': {'__cx__': 'prep', 'head': 76405}}}\n",
      "\n"
     ]
    },
    {
     "data": {
      "text/html": [
       "<hr>"
      ],
      "text/plain": [
       "<IPython.core.display.HTML object>"
      ]
     },
     "metadata": {},
     "output_type": "display_data"
    },
    {
     "data": {
      "text/html": [
       "<p><b>result</b> <i>1447538 -> CX coord {77507, 77508, 77509, 77510, 77511, 77512, 77513, 77514, 77515}</i></p>"
      ],
      "text/plain": [
       "<IPython.core.display.HTML object>"
      ]
     },
     "metadata": {},
     "output_type": "display_data"
    },
    {
     "data": {
      "text/html": [
       "<a href=\"https://shebanq.ancient-data.org/hebrew/text?book=Numeri&amp;chapter=11&amp;verse=32&amp;version=c&amp;mr=m&amp;qw=q&amp;tp=txt_p&amp;tr=hb&amp;wget=v&amp;qget=v&amp;nget=vt\" title=\"show this passage in SHEBANQ\" sec=\"Numbers 11:32\">Numbers 11:32</a>\n",
       "<div class=\"atoms  \" >\n",
       "<a href=\"#\" class=\"nd\">695933</a>\n",
       "\n",
       "\n",
       "\n",
       "<div class=\"patom  \" >\n",
       "\n",
       "    <div class=\"phrase \" >\n",
       "        <a href=\"https://shebanq.ancient-data.org/hebrew/text?book=Numeri&amp;chapter=11&amp;verse=32&amp;version=c&amp;mr=m&amp;qw=q&amp;tp=txt_p&amp;tr=hb&amp;wget=v&amp;qget=v&amp;nget=vt\" title=\"Numbers 11:32\" sec=\"Numbers 11:32\">phrase</a> <a href=\"#\" class=\"nd\">695933</a>  <span class=\"function\">Time</span> <span class=\"typ\">NP</span>\n",
       "    </div>\n",
       "    <div class=\"atoms\">\n",
       "\n",
       "<div class=\"word  hl\"  style=\"background-color: #ffcc5c;\" >\n",
       "<a href=\"#\" class=\"nd\">77507</a>\n",
       "<div class=\"h\"><a target=\"_blank\" href=\"https://shebanq.ancient-data.org/hebrew/word?version=c&amp;id=1KLn\" title=\"show this lexeme in SHEBANQ\">כָּל־</a></div>\n",
       "<div class=\"features\"> <span class=\"pdp\"><a href=\"https://shebanq.ancient-data.org/hebrew/text?book=Numeri&amp;chapter=11&amp;verse=32&amp;version=c&amp;mr=m&amp;qw=q&amp;tp=txt_p&amp;tr=hb&amp;wget=v&amp;qget=v&amp;nget=vt\" title=\"Numbers 11:32\" sec=\"Numbers 11:32\">subs</a></span> <span class=\"gloss\">whole</span> <span class=\"lex xft\"><span class=\"f\">lex=</span>KL/</span></div>\n",
       "\n",
       "\n",
       "</div>\n",
       "\n",
       "<div class=\"word  hl\"  style=\"background-color: #ffcc5c;\" >\n",
       "<a href=\"#\" class=\"nd\">77508</a>\n",
       "<div class=\"h\"><a target=\"_blank\" href=\"https://shebanq.ancient-data.org/hebrew/word?version=c&amp;id=1H\" title=\"show this lexeme in SHEBANQ\">הַ</a></div>\n",
       "<div class=\"features\"> <span class=\"pdp\"><a href=\"https://shebanq.ancient-data.org/hebrew/text?book=Numeri&amp;chapter=11&amp;verse=32&amp;version=c&amp;mr=m&amp;qw=q&amp;tp=txt_p&amp;tr=hb&amp;wget=v&amp;qget=v&amp;nget=vt\" title=\"Numbers 11:32\" sec=\"Numbers 11:32\">art</a></span> <span class=\"gloss\">the</span> <span class=\"lex xft\"><span class=\"f\">lex=</span>H</span></div>\n",
       "\n",
       "\n",
       "</div>\n",
       "\n",
       "<div class=\"word  hl\"  style=\"background-color: #ffcc5c;\" >\n",
       "<a href=\"#\" class=\"nd\">77509</a>\n",
       "<div class=\"h\"><a target=\"_blank\" href=\"https://shebanq.ancient-data.org/hebrew/word?version=c&amp;id=1JWMn\" title=\"show this lexeme in SHEBANQ\">יֹּום֩ </a></div>\n",
       "<div class=\"features\"> <span class=\"pdp\"><a href=\"https://shebanq.ancient-data.org/hebrew/text?book=Numeri&amp;chapter=11&amp;verse=32&amp;version=c&amp;mr=m&amp;qw=q&amp;tp=txt_p&amp;tr=hb&amp;wget=v&amp;qget=v&amp;nget=vt\" title=\"Numbers 11:32\" sec=\"Numbers 11:32\">subs</a></span> <span class=\"gloss\">day</span> <span class=\"lex xft\"><span class=\"f\">lex=</span>JWM/</span></div>\n",
       "\n",
       "\n",
       "</div>\n",
       "\n",
       "<div class=\"word  hl\"  style=\"background-color: #ffcc5c;\" >\n",
       "<a href=\"#\" class=\"nd\">77510</a>\n",
       "<div class=\"h\"><a target=\"_blank\" href=\"https://shebanq.ancient-data.org/hebrew/word?version=c&amp;id=1H\" title=\"show this lexeme in SHEBANQ\">הַ</a></div>\n",
       "<div class=\"features\"> <span class=\"pdp\"><a href=\"https://shebanq.ancient-data.org/hebrew/text?book=Numeri&amp;chapter=11&amp;verse=32&amp;version=c&amp;mr=m&amp;qw=q&amp;tp=txt_p&amp;tr=hb&amp;wget=v&amp;qget=v&amp;nget=vt\" title=\"Numbers 11:32\" sec=\"Numbers 11:32\">art</a></span> <span class=\"gloss\">the</span> <span class=\"lex xft\"><span class=\"f\">lex=</span>H</span></div>\n",
       "\n",
       "\n",
       "</div>\n",
       "\n",
       "<div class=\"word  hl\"  style=\"background-color: #ffcc5c;\" >\n",
       "<a href=\"#\" class=\"nd\">77511</a>\n",
       "<div class=\"h\"><a target=\"_blank\" href=\"https://shebanq.ancient-data.org/hebrew/word?version=c&amp;id=1HWA\" title=\"show this lexeme in SHEBANQ\">ה֨וּא </a></div>\n",
       "<div class=\"features\"> <span class=\"pdp\"><a href=\"https://shebanq.ancient-data.org/hebrew/text?book=Numeri&amp;chapter=11&amp;verse=32&amp;version=c&amp;mr=m&amp;qw=q&amp;tp=txt_p&amp;tr=hb&amp;wget=v&amp;qget=v&amp;nget=vt\" title=\"Numbers 11:32\" sec=\"Numbers 11:32\">prde</a></span> <span class=\"gloss\">he</span> <span class=\"lex xft\"><span class=\"f\">lex=</span>HW></span></div>\n",
       "\n",
       "\n",
       "</div>\n",
       "\n",
       "<div class=\"word  hl\"  style=\"background-color: #ffeead;\" >\n",
       "<a href=\"#\" class=\"nd\">77512</a>\n",
       "<div class=\"h\"><a target=\"_blank\" href=\"https://shebanq.ancient-data.org/hebrew/word?version=c&amp;id=1W\" title=\"show this lexeme in SHEBANQ\">וְ</a></div>\n",
       "<div class=\"features\"> <span class=\"pdp\"><a href=\"https://shebanq.ancient-data.org/hebrew/text?book=Numeri&amp;chapter=11&amp;verse=32&amp;version=c&amp;mr=m&amp;qw=q&amp;tp=txt_p&amp;tr=hb&amp;wget=v&amp;qget=v&amp;nget=vt\" title=\"Numbers 11:32\" sec=\"Numbers 11:32\">conj</a></span> <span class=\"gloss\">and</span> <span class=\"lex xft\"><span class=\"f\">lex=</span>W</span></div>\n",
       "\n",
       "\n",
       "</div>\n",
       "\n",
       "<div class=\"word  hl\"  style=\"background-color: #96ceb4;\" >\n",
       "<a href=\"#\" class=\"nd\">77513</a>\n",
       "<div class=\"h\"><a target=\"_blank\" href=\"https://shebanq.ancient-data.org/hebrew/word?version=c&amp;id=1KLn\" title=\"show this lexeme in SHEBANQ\">כָל־</a></div>\n",
       "<div class=\"features\"> <span class=\"pdp\"><a href=\"https://shebanq.ancient-data.org/hebrew/text?book=Numeri&amp;chapter=11&amp;verse=32&amp;version=c&amp;mr=m&amp;qw=q&amp;tp=txt_p&amp;tr=hb&amp;wget=v&amp;qget=v&amp;nget=vt\" title=\"Numbers 11:32\" sec=\"Numbers 11:32\">subs</a></span> <span class=\"gloss\">whole</span> <span class=\"lex xft\"><span class=\"f\">lex=</span>KL/</span></div>\n",
       "\n",
       "\n",
       "</div>\n",
       "\n",
       "<div class=\"word  hl\"  style=\"background-color: #96ceb4;\" >\n",
       "<a href=\"#\" class=\"nd\">77514</a>\n",
       "<div class=\"h\"><a target=\"_blank\" href=\"https://shebanq.ancient-data.org/hebrew/word?version=c&amp;id=1H\" title=\"show this lexeme in SHEBANQ\">הַ</a></div>\n",
       "<div class=\"features\"> <span class=\"pdp\"><a href=\"https://shebanq.ancient-data.org/hebrew/text?book=Numeri&amp;chapter=11&amp;verse=32&amp;version=c&amp;mr=m&amp;qw=q&amp;tp=txt_p&amp;tr=hb&amp;wget=v&amp;qget=v&amp;nget=vt\" title=\"Numbers 11:32\" sec=\"Numbers 11:32\">art</a></span> <span class=\"gloss\">the</span> <span class=\"lex xft\"><span class=\"f\">lex=</span>H</span></div>\n",
       "\n",
       "\n",
       "</div>\n",
       "\n",
       "<div class=\"word  hl\"  style=\"background-color: #96ceb4;\" >\n",
       "<a href=\"#\" class=\"nd\">77515</a>\n",
       "<div class=\"h\"><a target=\"_blank\" href=\"https://shebanq.ancient-data.org/hebrew/word?version=c&amp;id=1LJLHn\" title=\"show this lexeme in SHEBANQ\">לַּ֜יְלָה </a></div>\n",
       "<div class=\"features\"> <span class=\"pdp\"><a href=\"https://shebanq.ancient-data.org/hebrew/text?book=Numeri&amp;chapter=11&amp;verse=32&amp;version=c&amp;mr=m&amp;qw=q&amp;tp=txt_p&amp;tr=hb&amp;wget=v&amp;qget=v&amp;nget=vt\" title=\"Numbers 11:32\" sec=\"Numbers 11:32\">subs</a></span> <span class=\"gloss\">night</span> <span class=\"lex xft\"><span class=\"f\">lex=</span>LJLH/</span></div>\n",
       "\n",
       "\n",
       "</div>\n",
       "\n",
       "<div class=\"word  \" >\n",
       "<a href=\"#\" class=\"nd\">77516</a>\n",
       "<div class=\"h\"><a target=\"_blank\" href=\"https://shebanq.ancient-data.org/hebrew/word?version=c&amp;id=1W\" title=\"show this lexeme in SHEBANQ\">וְ</a></div>\n",
       "<div class=\"features\"> <span class=\"pdp\"><a href=\"https://shebanq.ancient-data.org/hebrew/text?book=Numeri&amp;chapter=11&amp;verse=32&amp;version=c&amp;mr=m&amp;qw=q&amp;tp=txt_p&amp;tr=hb&amp;wget=v&amp;qget=v&amp;nget=vt\" title=\"Numbers 11:32\" sec=\"Numbers 11:32\">conj</a></span> <span class=\"gloss\">and</span> <span class=\"lex xft\"><span class=\"f\">lex=</span>W</span></div>\n",
       "\n",
       "\n",
       "</div>\n",
       "\n",
       "<div class=\"word  \" >\n",
       "<a href=\"#\" class=\"nd\">77517</a>\n",
       "<div class=\"h\"><a target=\"_blank\" href=\"https://shebanq.ancient-data.org/hebrew/word?version=c&amp;id=1KLn\" title=\"show this lexeme in SHEBANQ\">כֹ֣ל׀ </a></div>\n",
       "<div class=\"features\"> <span class=\"pdp\"><a href=\"https://shebanq.ancient-data.org/hebrew/text?book=Numeri&amp;chapter=11&amp;verse=32&amp;version=c&amp;mr=m&amp;qw=q&amp;tp=txt_p&amp;tr=hb&amp;wget=v&amp;qget=v&amp;nget=vt\" title=\"Numbers 11:32\" sec=\"Numbers 11:32\">subs</a></span> <span class=\"gloss\">whole</span> <span class=\"lex xft\"><span class=\"f\">lex=</span>KL/</span></div>\n",
       "\n",
       "\n",
       "</div>\n",
       "\n",
       "<div class=\"word  \" >\n",
       "<a href=\"#\" class=\"nd\">77518</a>\n",
       "<div class=\"h\"><a target=\"_blank\" href=\"https://shebanq.ancient-data.org/hebrew/word?version=c&amp;id=1JWMn\" title=\"show this lexeme in SHEBANQ\">יֹ֣ום </a></div>\n",
       "<div class=\"features\"> <span class=\"pdp\"><a href=\"https://shebanq.ancient-data.org/hebrew/text?book=Numeri&amp;chapter=11&amp;verse=32&amp;version=c&amp;mr=m&amp;qw=q&amp;tp=txt_p&amp;tr=hb&amp;wget=v&amp;qget=v&amp;nget=vt\" title=\"Numbers 11:32\" sec=\"Numbers 11:32\">subs</a></span> <span class=\"gloss\">day</span> <span class=\"lex xft\"><span class=\"f\">lex=</span>JWM/</span></div>\n",
       "\n",
       "\n",
       "</div>\n",
       "\n",
       "<div class=\"word  \" >\n",
       "<a href=\"#\" class=\"nd\">77519</a>\n",
       "<div class=\"h\"><a target=\"_blank\" href=\"https://shebanq.ancient-data.org/hebrew/word?version=c&amp;id=1H\" title=\"show this lexeme in SHEBANQ\">הַֽ</a></div>\n",
       "<div class=\"features\"> <span class=\"pdp\"><a href=\"https://shebanq.ancient-data.org/hebrew/text?book=Numeri&amp;chapter=11&amp;verse=32&amp;version=c&amp;mr=m&amp;qw=q&amp;tp=txt_p&amp;tr=hb&amp;wget=v&amp;qget=v&amp;nget=vt\" title=\"Numbers 11:32\" sec=\"Numbers 11:32\">art</a></span> <span class=\"gloss\">the</span> <span class=\"lex xft\"><span class=\"f\">lex=</span>H</span></div>\n",
       "\n",
       "\n",
       "</div>\n",
       "\n",
       "<div class=\"word  \" >\n",
       "<a href=\"#\" class=\"nd\">77520</a>\n",
       "<div class=\"h\"><a target=\"_blank\" href=\"https://shebanq.ancient-data.org/hebrew/word?version=c&amp;id=1MXRTn\" title=\"show this lexeme in SHEBANQ\">מָּחֳרָ֗ת </a></div>\n",
       "<div class=\"features\"> <span class=\"pdp\"><a href=\"https://shebanq.ancient-data.org/hebrew/text?book=Numeri&amp;chapter=11&amp;verse=32&amp;version=c&amp;mr=m&amp;qw=q&amp;tp=txt_p&amp;tr=hb&amp;wget=v&amp;qget=v&amp;nget=vt\" title=\"Numbers 11:32\" sec=\"Numbers 11:32\">subs</a></span> <span class=\"gloss\">next day</span> <span class=\"lex xft\"><span class=\"f\">lex=</span>MXRT/</span></div>\n",
       "\n",
       "\n",
       "</div>\n",
       "\n",
       "\n",
       "    </div>\n",
       "\n",
       "\n",
       "</div>\n",
       "\n",
       "\n",
       "</div>\n"
      ],
      "text/plain": [
       "<IPython.core.display.HTML object>"
      ]
     },
     "metadata": {},
     "output_type": "display_data"
    },
    {
     "data": {
      "text/html": [
       "<div style=\"background: #96ceb4; text-align: center\">part2</div>"
      ],
      "text/plain": [
       "<IPython.core.display.HTML object>"
      ]
     },
     "metadata": {},
     "output_type": "display_data"
    },
    {
     "data": {
      "text/html": [
       "<div style=\"background: #ffeead; text-align: center\">conj</div>"
      ],
      "text/plain": [
       "<IPython.core.display.HTML object>"
      ]
     },
     "metadata": {},
     "output_type": "display_data"
    },
    {
     "data": {
      "text/html": [
       "<div style=\"background: #ffcc5c; text-align: center\">part1</div>"
      ],
      "text/plain": [
       "<IPython.core.display.HTML object>"
      ]
     },
     "metadata": {},
     "output_type": "display_data"
    },
    {
     "name": "stdout",
     "output_type": "stream",
     "text": [
      "{   '__cx__': 'coord',\n",
      "    'conj': {'__cx__': 'conj', 'head': 77512},\n",
      "    'part1': {   '__cx__': 'numb_ph',\n",
      "                 'head': {   '__cx__': 'attrib_ph',\n",
      "                             'attrib': {   '__cx__': 'defi_ph',\n",
      "                                           'art': {   '__cx__': 'art',\n",
      "                                                      'head': 77510},\n",
      "                                           'head': {   '__cx__': 'prde',\n",
      "                                                       'head': 77511}},\n",
      "                             'head': {   '__cx__': 'defi_ph',\n",
      "                                         'art': {   '__cx__': 'art',\n",
      "                                                    'head': 77508},\n",
      "                                         'head': {   '__cx__': 'cont',\n",
      "                                                     'head': 77509}}},\n",
      "                 'numb': {'__cx__': 'qquant', 'head': 77507}},\n",
      "    'part2': {   '__cx__': 'numb_ph',\n",
      "                 'head': {   '__cx__': 'defi_ph',\n",
      "                             'art': {'__cx__': 'art', 'head': 77514},\n",
      "                             'head': {'__cx__': 'cont', 'head': 77515}},\n",
      "                 'numb': {'__cx__': 'qquant', 'head': 77513}}}\n",
      "\n"
     ]
    },
    {
     "data": {
      "text/html": [
       "<hr>"
      ],
      "text/plain": [
       "<IPython.core.display.HTML object>"
      ]
     },
     "metadata": {},
     "output_type": "display_data"
    },
    {
     "data": {
      "text/html": [
       "<p><b>result</b> <i>1447538 -> CX coord {77513, 77514, 77515, 77516, 77517, 77518, 77519, 77520}</i></p>"
      ],
      "text/plain": [
       "<IPython.core.display.HTML object>"
      ]
     },
     "metadata": {},
     "output_type": "display_data"
    },
    {
     "data": {
      "text/html": [
       "<a href=\"https://shebanq.ancient-data.org/hebrew/text?book=Numeri&amp;chapter=11&amp;verse=32&amp;version=c&amp;mr=m&amp;qw=q&amp;tp=txt_p&amp;tr=hb&amp;wget=v&amp;qget=v&amp;nget=vt\" title=\"show this passage in SHEBANQ\" sec=\"Numbers 11:32\">Numbers 11:32</a>\n",
       "<div class=\"atoms  \" >\n",
       "<a href=\"#\" class=\"nd\">695933</a>\n",
       "\n",
       "\n",
       "\n",
       "<div class=\"patom  \" >\n",
       "\n",
       "    <div class=\"phrase \" >\n",
       "        <a href=\"https://shebanq.ancient-data.org/hebrew/text?book=Numeri&amp;chapter=11&amp;verse=32&amp;version=c&amp;mr=m&amp;qw=q&amp;tp=txt_p&amp;tr=hb&amp;wget=v&amp;qget=v&amp;nget=vt\" title=\"Numbers 11:32\" sec=\"Numbers 11:32\">phrase</a> <a href=\"#\" class=\"nd\">695933</a>  <span class=\"function\">Time</span> <span class=\"typ\">NP</span>\n",
       "    </div>\n",
       "    <div class=\"atoms\">\n",
       "\n",
       "<div class=\"word  \" >\n",
       "<a href=\"#\" class=\"nd\">77507</a>\n",
       "<div class=\"h\"><a target=\"_blank\" href=\"https://shebanq.ancient-data.org/hebrew/word?version=c&amp;id=1KLn\" title=\"show this lexeme in SHEBANQ\">כָּל־</a></div>\n",
       "<div class=\"features\"> <span class=\"pdp\"><a href=\"https://shebanq.ancient-data.org/hebrew/text?book=Numeri&amp;chapter=11&amp;verse=32&amp;version=c&amp;mr=m&amp;qw=q&amp;tp=txt_p&amp;tr=hb&amp;wget=v&amp;qget=v&amp;nget=vt\" title=\"Numbers 11:32\" sec=\"Numbers 11:32\">subs</a></span> <span class=\"gloss\">whole</span> <span class=\"lex xft\"><span class=\"f\">lex=</span>KL/</span></div>\n",
       "\n",
       "\n",
       "</div>\n",
       "\n",
       "<div class=\"word  \" >\n",
       "<a href=\"#\" class=\"nd\">77508</a>\n",
       "<div class=\"h\"><a target=\"_blank\" href=\"https://shebanq.ancient-data.org/hebrew/word?version=c&amp;id=1H\" title=\"show this lexeme in SHEBANQ\">הַ</a></div>\n",
       "<div class=\"features\"> <span class=\"pdp\"><a href=\"https://shebanq.ancient-data.org/hebrew/text?book=Numeri&amp;chapter=11&amp;verse=32&amp;version=c&amp;mr=m&amp;qw=q&amp;tp=txt_p&amp;tr=hb&amp;wget=v&amp;qget=v&amp;nget=vt\" title=\"Numbers 11:32\" sec=\"Numbers 11:32\">art</a></span> <span class=\"gloss\">the</span> <span class=\"lex xft\"><span class=\"f\">lex=</span>H</span></div>\n",
       "\n",
       "\n",
       "</div>\n",
       "\n",
       "<div class=\"word  \" >\n",
       "<a href=\"#\" class=\"nd\">77509</a>\n",
       "<div class=\"h\"><a target=\"_blank\" href=\"https://shebanq.ancient-data.org/hebrew/word?version=c&amp;id=1JWMn\" title=\"show this lexeme in SHEBANQ\">יֹּום֩ </a></div>\n",
       "<div class=\"features\"> <span class=\"pdp\"><a href=\"https://shebanq.ancient-data.org/hebrew/text?book=Numeri&amp;chapter=11&amp;verse=32&amp;version=c&amp;mr=m&amp;qw=q&amp;tp=txt_p&amp;tr=hb&amp;wget=v&amp;qget=v&amp;nget=vt\" title=\"Numbers 11:32\" sec=\"Numbers 11:32\">subs</a></span> <span class=\"gloss\">day</span> <span class=\"lex xft\"><span class=\"f\">lex=</span>JWM/</span></div>\n",
       "\n",
       "\n",
       "</div>\n",
       "\n",
       "<div class=\"word  \" >\n",
       "<a href=\"#\" class=\"nd\">77510</a>\n",
       "<div class=\"h\"><a target=\"_blank\" href=\"https://shebanq.ancient-data.org/hebrew/word?version=c&amp;id=1H\" title=\"show this lexeme in SHEBANQ\">הַ</a></div>\n",
       "<div class=\"features\"> <span class=\"pdp\"><a href=\"https://shebanq.ancient-data.org/hebrew/text?book=Numeri&amp;chapter=11&amp;verse=32&amp;version=c&amp;mr=m&amp;qw=q&amp;tp=txt_p&amp;tr=hb&amp;wget=v&amp;qget=v&amp;nget=vt\" title=\"Numbers 11:32\" sec=\"Numbers 11:32\">art</a></span> <span class=\"gloss\">the</span> <span class=\"lex xft\"><span class=\"f\">lex=</span>H</span></div>\n",
       "\n",
       "\n",
       "</div>\n",
       "\n",
       "<div class=\"word  \" >\n",
       "<a href=\"#\" class=\"nd\">77511</a>\n",
       "<div class=\"h\"><a target=\"_blank\" href=\"https://shebanq.ancient-data.org/hebrew/word?version=c&amp;id=1HWA\" title=\"show this lexeme in SHEBANQ\">ה֨וּא </a></div>\n",
       "<div class=\"features\"> <span class=\"pdp\"><a href=\"https://shebanq.ancient-data.org/hebrew/text?book=Numeri&amp;chapter=11&amp;verse=32&amp;version=c&amp;mr=m&amp;qw=q&amp;tp=txt_p&amp;tr=hb&amp;wget=v&amp;qget=v&amp;nget=vt\" title=\"Numbers 11:32\" sec=\"Numbers 11:32\">prde</a></span> <span class=\"gloss\">he</span> <span class=\"lex xft\"><span class=\"f\">lex=</span>HW></span></div>\n",
       "\n",
       "\n",
       "</div>\n",
       "\n",
       "<div class=\"word  \" >\n",
       "<a href=\"#\" class=\"nd\">77512</a>\n",
       "<div class=\"h\"><a target=\"_blank\" href=\"https://shebanq.ancient-data.org/hebrew/word?version=c&amp;id=1W\" title=\"show this lexeme in SHEBANQ\">וְ</a></div>\n",
       "<div class=\"features\"> <span class=\"pdp\"><a href=\"https://shebanq.ancient-data.org/hebrew/text?book=Numeri&amp;chapter=11&amp;verse=32&amp;version=c&amp;mr=m&amp;qw=q&amp;tp=txt_p&amp;tr=hb&amp;wget=v&amp;qget=v&amp;nget=vt\" title=\"Numbers 11:32\" sec=\"Numbers 11:32\">conj</a></span> <span class=\"gloss\">and</span> <span class=\"lex xft\"><span class=\"f\">lex=</span>W</span></div>\n",
       "\n",
       "\n",
       "</div>\n",
       "\n",
       "<div class=\"word  hl\"  style=\"background-color: #ffcc5c;\" >\n",
       "<a href=\"#\" class=\"nd\">77513</a>\n",
       "<div class=\"h\"><a target=\"_blank\" href=\"https://shebanq.ancient-data.org/hebrew/word?version=c&amp;id=1KLn\" title=\"show this lexeme in SHEBANQ\">כָל־</a></div>\n",
       "<div class=\"features\"> <span class=\"pdp\"><a href=\"https://shebanq.ancient-data.org/hebrew/text?book=Numeri&amp;chapter=11&amp;verse=32&amp;version=c&amp;mr=m&amp;qw=q&amp;tp=txt_p&amp;tr=hb&amp;wget=v&amp;qget=v&amp;nget=vt\" title=\"Numbers 11:32\" sec=\"Numbers 11:32\">subs</a></span> <span class=\"gloss\">whole</span> <span class=\"lex xft\"><span class=\"f\">lex=</span>KL/</span></div>\n",
       "\n",
       "\n",
       "</div>\n",
       "\n",
       "<div class=\"word  hl\"  style=\"background-color: #ffcc5c;\" >\n",
       "<a href=\"#\" class=\"nd\">77514</a>\n",
       "<div class=\"h\"><a target=\"_blank\" href=\"https://shebanq.ancient-data.org/hebrew/word?version=c&amp;id=1H\" title=\"show this lexeme in SHEBANQ\">הַ</a></div>\n",
       "<div class=\"features\"> <span class=\"pdp\"><a href=\"https://shebanq.ancient-data.org/hebrew/text?book=Numeri&amp;chapter=11&amp;verse=32&amp;version=c&amp;mr=m&amp;qw=q&amp;tp=txt_p&amp;tr=hb&amp;wget=v&amp;qget=v&amp;nget=vt\" title=\"Numbers 11:32\" sec=\"Numbers 11:32\">art</a></span> <span class=\"gloss\">the</span> <span class=\"lex xft\"><span class=\"f\">lex=</span>H</span></div>\n",
       "\n",
       "\n",
       "</div>\n",
       "\n",
       "<div class=\"word  hl\"  style=\"background-color: #ffcc5c;\" >\n",
       "<a href=\"#\" class=\"nd\">77515</a>\n",
       "<div class=\"h\"><a target=\"_blank\" href=\"https://shebanq.ancient-data.org/hebrew/word?version=c&amp;id=1LJLHn\" title=\"show this lexeme in SHEBANQ\">לַּ֜יְלָה </a></div>\n",
       "<div class=\"features\"> <span class=\"pdp\"><a href=\"https://shebanq.ancient-data.org/hebrew/text?book=Numeri&amp;chapter=11&amp;verse=32&amp;version=c&amp;mr=m&amp;qw=q&amp;tp=txt_p&amp;tr=hb&amp;wget=v&amp;qget=v&amp;nget=vt\" title=\"Numbers 11:32\" sec=\"Numbers 11:32\">subs</a></span> <span class=\"gloss\">night</span> <span class=\"lex xft\"><span class=\"f\">lex=</span>LJLH/</span></div>\n",
       "\n",
       "\n",
       "</div>\n",
       "\n",
       "<div class=\"word  hl\"  style=\"background-color: #ffeead;\" >\n",
       "<a href=\"#\" class=\"nd\">77516</a>\n",
       "<div class=\"h\"><a target=\"_blank\" href=\"https://shebanq.ancient-data.org/hebrew/word?version=c&amp;id=1W\" title=\"show this lexeme in SHEBANQ\">וְ</a></div>\n",
       "<div class=\"features\"> <span class=\"pdp\"><a href=\"https://shebanq.ancient-data.org/hebrew/text?book=Numeri&amp;chapter=11&amp;verse=32&amp;version=c&amp;mr=m&amp;qw=q&amp;tp=txt_p&amp;tr=hb&amp;wget=v&amp;qget=v&amp;nget=vt\" title=\"Numbers 11:32\" sec=\"Numbers 11:32\">conj</a></span> <span class=\"gloss\">and</span> <span class=\"lex xft\"><span class=\"f\">lex=</span>W</span></div>\n",
       "\n",
       "\n",
       "</div>\n",
       "\n",
       "<div class=\"word  hl\"  style=\"background-color: #96ceb4;\" >\n",
       "<a href=\"#\" class=\"nd\">77517</a>\n",
       "<div class=\"h\"><a target=\"_blank\" href=\"https://shebanq.ancient-data.org/hebrew/word?version=c&amp;id=1KLn\" title=\"show this lexeme in SHEBANQ\">כֹ֣ל׀ </a></div>\n",
       "<div class=\"features\"> <span class=\"pdp\"><a href=\"https://shebanq.ancient-data.org/hebrew/text?book=Numeri&amp;chapter=11&amp;verse=32&amp;version=c&amp;mr=m&amp;qw=q&amp;tp=txt_p&amp;tr=hb&amp;wget=v&amp;qget=v&amp;nget=vt\" title=\"Numbers 11:32\" sec=\"Numbers 11:32\">subs</a></span> <span class=\"gloss\">whole</span> <span class=\"lex xft\"><span class=\"f\">lex=</span>KL/</span></div>\n",
       "\n",
       "\n",
       "</div>\n",
       "\n",
       "<div class=\"word  hl\"  style=\"background-color: #96ceb4;\" >\n",
       "<a href=\"#\" class=\"nd\">77518</a>\n",
       "<div class=\"h\"><a target=\"_blank\" href=\"https://shebanq.ancient-data.org/hebrew/word?version=c&amp;id=1JWMn\" title=\"show this lexeme in SHEBANQ\">יֹ֣ום </a></div>\n",
       "<div class=\"features\"> <span class=\"pdp\"><a href=\"https://shebanq.ancient-data.org/hebrew/text?book=Numeri&amp;chapter=11&amp;verse=32&amp;version=c&amp;mr=m&amp;qw=q&amp;tp=txt_p&amp;tr=hb&amp;wget=v&amp;qget=v&amp;nget=vt\" title=\"Numbers 11:32\" sec=\"Numbers 11:32\">subs</a></span> <span class=\"gloss\">day</span> <span class=\"lex xft\"><span class=\"f\">lex=</span>JWM/</span></div>\n",
       "\n",
       "\n",
       "</div>\n",
       "\n",
       "<div class=\"word  hl\"  style=\"background-color: #96ceb4;\" >\n",
       "<a href=\"#\" class=\"nd\">77519</a>\n",
       "<div class=\"h\"><a target=\"_blank\" href=\"https://shebanq.ancient-data.org/hebrew/word?version=c&amp;id=1H\" title=\"show this lexeme in SHEBANQ\">הַֽ</a></div>\n",
       "<div class=\"features\"> <span class=\"pdp\"><a href=\"https://shebanq.ancient-data.org/hebrew/text?book=Numeri&amp;chapter=11&amp;verse=32&amp;version=c&amp;mr=m&amp;qw=q&amp;tp=txt_p&amp;tr=hb&amp;wget=v&amp;qget=v&amp;nget=vt\" title=\"Numbers 11:32\" sec=\"Numbers 11:32\">art</a></span> <span class=\"gloss\">the</span> <span class=\"lex xft\"><span class=\"f\">lex=</span>H</span></div>\n",
       "\n",
       "\n",
       "</div>\n",
       "\n",
       "<div class=\"word  hl\"  style=\"background-color: #96ceb4;\" >\n",
       "<a href=\"#\" class=\"nd\">77520</a>\n",
       "<div class=\"h\"><a target=\"_blank\" href=\"https://shebanq.ancient-data.org/hebrew/word?version=c&amp;id=1MXRTn\" title=\"show this lexeme in SHEBANQ\">מָּחֳרָ֗ת </a></div>\n",
       "<div class=\"features\"> <span class=\"pdp\"><a href=\"https://shebanq.ancient-data.org/hebrew/text?book=Numeri&amp;chapter=11&amp;verse=32&amp;version=c&amp;mr=m&amp;qw=q&amp;tp=txt_p&amp;tr=hb&amp;wget=v&amp;qget=v&amp;nget=vt\" title=\"Numbers 11:32\" sec=\"Numbers 11:32\">subs</a></span> <span class=\"gloss\">next day</span> <span class=\"lex xft\"><span class=\"f\">lex=</span>MXRT/</span></div>\n",
       "\n",
       "\n",
       "</div>\n",
       "\n",
       "\n",
       "    </div>\n",
       "\n",
       "\n",
       "</div>\n",
       "\n",
       "\n",
       "</div>\n"
      ],
      "text/plain": [
       "<IPython.core.display.HTML object>"
      ]
     },
     "metadata": {},
     "output_type": "display_data"
    },
    {
     "data": {
      "text/html": [
       "<div style=\"background: #96ceb4; text-align: center\">part2</div>"
      ],
      "text/plain": [
       "<IPython.core.display.HTML object>"
      ]
     },
     "metadata": {},
     "output_type": "display_data"
    },
    {
     "data": {
      "text/html": [
       "<div style=\"background: #ffeead; text-align: center\">conj</div>"
      ],
      "text/plain": [
       "<IPython.core.display.HTML object>"
      ]
     },
     "metadata": {},
     "output_type": "display_data"
    },
    {
     "data": {
      "text/html": [
       "<div style=\"background: #ffcc5c; text-align: center\">part1</div>"
      ],
      "text/plain": [
       "<IPython.core.display.HTML object>"
      ]
     },
     "metadata": {},
     "output_type": "display_data"
    },
    {
     "name": "stdout",
     "output_type": "stream",
     "text": [
      "{   '__cx__': 'coord',\n",
      "    'conj': {'__cx__': 'conj', 'head': 77516},\n",
      "    'part1': {   '__cx__': 'numb_ph',\n",
      "                 'head': {   '__cx__': 'defi_ph',\n",
      "                             'art': {'__cx__': 'art', 'head': 77514},\n",
      "                             'head': {'__cx__': 'cont', 'head': 77515}},\n",
      "                 'numb': {'__cx__': 'qquant', 'head': 77513}},\n",
      "    'part2': {   '__cx__': 'numb_ph',\n",
      "                 'head': {   '__cx__': 'geni_ph',\n",
      "                             'geni': {   '__cx__': 'defi_ph',\n",
      "                                         'art': {   '__cx__': 'art',\n",
      "                                                    'head': 77519},\n",
      "                                         'head': {   '__cx__': 'cont',\n",
      "                                                     'head': 77520}},\n",
      "                             'head': {'__cx__': 'cont', 'head': 77518}},\n",
      "                 'numb': {'__cx__': 'qquant', 'head': 77517}}}\n",
      "\n"
     ]
    },
    {
     "data": {
      "text/html": [
       "<hr>"
      ],
      "text/plain": [
       "<IPython.core.display.HTML object>"
      ]
     },
     "metadata": {},
     "output_type": "display_data"
    },
    {
     "data": {
      "text/html": [
       "<p><b>result</b> <i>1447715 -> CX coord {98690, 98691, 98692, 98693, 98694}</i></p>"
      ],
      "text/plain": [
       "<IPython.core.display.HTML object>"
      ]
     },
     "metadata": {},
     "output_type": "display_data"
    },
    {
     "data": {
      "text/html": [
       "<a href=\"https://shebanq.ancient-data.org/hebrew/text?book=Deuteronomium&amp;chapter=9&amp;verse=11&amp;version=c&amp;mr=m&amp;qw=q&amp;tp=txt_p&amp;tr=hb&amp;wget=v&amp;qget=v&amp;nget=vt\" title=\"show this passage in SHEBANQ\" sec=\"Deuteronomy 9:11\">Deuteronomy 9:11</a>\n",
       "<div class=\"atoms  \" >\n",
       "<a href=\"#\" class=\"nd\">707446</a>\n",
       "\n",
       "\n",
       "\n",
       "<div class=\"patom  \" >\n",
       "\n",
       "    <div class=\"phrase \" >\n",
       "        <a href=\"https://shebanq.ancient-data.org/hebrew/text?book=Deuteronomium&amp;chapter=9&amp;verse=11&amp;version=c&amp;mr=m&amp;qw=q&amp;tp=txt_p&amp;tr=hb&amp;wget=v&amp;qget=v&amp;nget=vt\" title=\"Deuteronomy 9:11\" sec=\"Deuteronomy 9:11\">phrase</a> <a href=\"#\" class=\"nd\">707446</a>  <span class=\"function\">Time</span> <span class=\"typ\">PP</span>\n",
       "    </div>\n",
       "    <div class=\"atoms\">\n",
       "\n",
       "<div class=\"word  \" >\n",
       "<a href=\"#\" class=\"nd\">98688</a>\n",
       "<div class=\"h\"><a target=\"_blank\" href=\"https://shebanq.ancient-data.org/hebrew/word?version=c&amp;id=1MN\" title=\"show this lexeme in SHEBANQ\">מִ</a></div>\n",
       "<div class=\"features\"> <span class=\"pdp\"><a href=\"https://shebanq.ancient-data.org/hebrew/text?book=Deuteronomium&amp;chapter=9&amp;verse=11&amp;version=c&amp;mr=m&amp;qw=q&amp;tp=txt_p&amp;tr=hb&amp;wget=v&amp;qget=v&amp;nget=vt\" title=\"Deuteronomy 9:11\" sec=\"Deuteronomy 9:11\">prep</a></span> <span class=\"gloss\">from</span> <span class=\"lex xft\"><span class=\"f\">lex=</span>MN</span></div>\n",
       "\n",
       "\n",
       "</div>\n",
       "\n",
       "<div class=\"word  \" >\n",
       "<a href=\"#\" class=\"nd\">98689</a>\n",
       "<div class=\"h\"><a target=\"_blank\" href=\"https://shebanq.ancient-data.org/hebrew/word?version=c&amp;id=1QYn\" title=\"show this lexeme in SHEBANQ\">קֵּץ֙ </a></div>\n",
       "<div class=\"features\"> <span class=\"pdp\"><a href=\"https://shebanq.ancient-data.org/hebrew/text?book=Deuteronomium&amp;chapter=9&amp;verse=11&amp;version=c&amp;mr=m&amp;qw=q&amp;tp=txt_p&amp;tr=hb&amp;wget=v&amp;qget=v&amp;nget=vt\" title=\"Deuteronomy 9:11\" sec=\"Deuteronomy 9:11\">subs</a></span> <span class=\"gloss\">end</span> <span class=\"lex xft\"><span class=\"f\">lex=</span>QY/</span></div>\n",
       "\n",
       "\n",
       "</div>\n",
       "\n",
       "<div class=\"word  hl\"  style=\"background-color: #ffcc5c;\" >\n",
       "<a href=\"#\" class=\"nd\">98690</a>\n",
       "<div class=\"h\"><a target=\"_blank\" href=\"https://shebanq.ancient-data.org/hebrew/word?version=c&amp;id=1ARBOn\" title=\"show this lexeme in SHEBANQ\">אַרְבָּעִ֣ים </a></div>\n",
       "<div class=\"features\"> <span class=\"pdp\"><a href=\"https://shebanq.ancient-data.org/hebrew/text?book=Deuteronomium&amp;chapter=9&amp;verse=11&amp;version=c&amp;mr=m&amp;qw=q&amp;tp=txt_p&amp;tr=hb&amp;wget=v&amp;qget=v&amp;nget=vt\" title=\"Deuteronomy 9:11\" sec=\"Deuteronomy 9:11\">subs</a></span> <span class=\"gloss\">four</span> <span class=\"lex xft\"><span class=\"f\">lex=</span>>RB&lt;/</span></div>\n",
       "\n",
       "\n",
       "</div>\n",
       "\n",
       "<div class=\"word  hl\"  style=\"background-color: #ffcc5c;\" >\n",
       "<a href=\"#\" class=\"nd\">98691</a>\n",
       "<div class=\"h\"><a target=\"_blank\" href=\"https://shebanq.ancient-data.org/hebrew/word?version=c&amp;id=1JWMn\" title=\"show this lexeme in SHEBANQ\">יֹ֔ום </a></div>\n",
       "<div class=\"features\"> <span class=\"pdp\"><a href=\"https://shebanq.ancient-data.org/hebrew/text?book=Deuteronomium&amp;chapter=9&amp;verse=11&amp;version=c&amp;mr=m&amp;qw=q&amp;tp=txt_p&amp;tr=hb&amp;wget=v&amp;qget=v&amp;nget=vt\" title=\"Deuteronomy 9:11\" sec=\"Deuteronomy 9:11\">subs</a></span> <span class=\"gloss\">day</span> <span class=\"lex xft\"><span class=\"f\">lex=</span>JWM/</span></div>\n",
       "\n",
       "\n",
       "</div>\n",
       "\n",
       "<div class=\"word  hl\"  style=\"background-color: #ffeead;\" >\n",
       "<a href=\"#\" class=\"nd\">98692</a>\n",
       "<div class=\"h\"><a target=\"_blank\" href=\"https://shebanq.ancient-data.org/hebrew/word?version=c&amp;id=1W\" title=\"show this lexeme in SHEBANQ\">וְ</a></div>\n",
       "<div class=\"features\"> <span class=\"pdp\"><a href=\"https://shebanq.ancient-data.org/hebrew/text?book=Deuteronomium&amp;chapter=9&amp;verse=11&amp;version=c&amp;mr=m&amp;qw=q&amp;tp=txt_p&amp;tr=hb&amp;wget=v&amp;qget=v&amp;nget=vt\" title=\"Deuteronomy 9:11\" sec=\"Deuteronomy 9:11\">conj</a></span> <span class=\"gloss\">and</span> <span class=\"lex xft\"><span class=\"f\">lex=</span>W</span></div>\n",
       "\n",
       "\n",
       "</div>\n",
       "\n",
       "<div class=\"word  hl\"  style=\"background-color: #96ceb4;\" >\n",
       "<a href=\"#\" class=\"nd\">98693</a>\n",
       "<div class=\"h\"><a target=\"_blank\" href=\"https://shebanq.ancient-data.org/hebrew/word?version=c&amp;id=1ARBOn\" title=\"show this lexeme in SHEBANQ\">אַרְבָּעִ֖ים </a></div>\n",
       "<div class=\"features\"> <span class=\"pdp\"><a href=\"https://shebanq.ancient-data.org/hebrew/text?book=Deuteronomium&amp;chapter=9&amp;verse=11&amp;version=c&amp;mr=m&amp;qw=q&amp;tp=txt_p&amp;tr=hb&amp;wget=v&amp;qget=v&amp;nget=vt\" title=\"Deuteronomy 9:11\" sec=\"Deuteronomy 9:11\">subs</a></span> <span class=\"gloss\">four</span> <span class=\"lex xft\"><span class=\"f\">lex=</span>>RB&lt;/</span></div>\n",
       "\n",
       "\n",
       "</div>\n",
       "\n",
       "<div class=\"word  hl\"  style=\"background-color: #96ceb4;\" >\n",
       "<a href=\"#\" class=\"nd\">98694</a>\n",
       "<div class=\"h\"><a target=\"_blank\" href=\"https://shebanq.ancient-data.org/hebrew/word?version=c&amp;id=1LJLHn\" title=\"show this lexeme in SHEBANQ\">לָ֑יְלָה </a></div>\n",
       "<div class=\"features\"> <span class=\"pdp\"><a href=\"https://shebanq.ancient-data.org/hebrew/text?book=Deuteronomium&amp;chapter=9&amp;verse=11&amp;version=c&amp;mr=m&amp;qw=q&amp;tp=txt_p&amp;tr=hb&amp;wget=v&amp;qget=v&amp;nget=vt\" title=\"Deuteronomy 9:11\" sec=\"Deuteronomy 9:11\">subs</a></span> <span class=\"gloss\">night</span> <span class=\"lex xft\"><span class=\"f\">lex=</span>LJLH/</span></div>\n",
       "\n",
       "\n",
       "</div>\n",
       "\n",
       "\n",
       "    </div>\n",
       "\n",
       "\n",
       "</div>\n",
       "\n",
       "\n",
       "</div>\n"
      ],
      "text/plain": [
       "<IPython.core.display.HTML object>"
      ]
     },
     "metadata": {},
     "output_type": "display_data"
    },
    {
     "data": {
      "text/html": [
       "<div style=\"background: #96ceb4; text-align: center\">part2</div>"
      ],
      "text/plain": [
       "<IPython.core.display.HTML object>"
      ]
     },
     "metadata": {},
     "output_type": "display_data"
    },
    {
     "data": {
      "text/html": [
       "<div style=\"background: #ffeead; text-align: center\">conj</div>"
      ],
      "text/plain": [
       "<IPython.core.display.HTML object>"
      ]
     },
     "metadata": {},
     "output_type": "display_data"
    },
    {
     "data": {
      "text/html": [
       "<div style=\"background: #ffcc5c; text-align: center\">part1</div>"
      ],
      "text/plain": [
       "<IPython.core.display.HTML object>"
      ]
     },
     "metadata": {},
     "output_type": "display_data"
    },
    {
     "name": "stdout",
     "output_type": "stream",
     "text": [
      "{   '__cx__': 'coord',\n",
      "    'conj': {'__cx__': 'conj', 'head': 98692},\n",
      "    'part1': {   '__cx__': 'numb_ph',\n",
      "                 'head': {'__cx__': 'cont', 'head': 98691},\n",
      "                 'numb': {'__cx__': 'card', 'head': 98690}},\n",
      "    'part2': {   '__cx__': 'numb_ph',\n",
      "                 'head': {'__cx__': 'cont', 'head': 98694},\n",
      "                 'numb': {'__cx__': 'card', 'head': 98693}}}\n",
      "\n"
     ]
    },
    {
     "data": {
      "text/html": [
       "<hr>"
      ],
      "text/plain": [
       "<IPython.core.display.HTML object>"
      ]
     },
     "metadata": {},
     "output_type": "display_data"
    },
    {
     "data": {
      "text/html": [
       "<p><b>result</b> <i>1448410 -> CX coord {159824, 159825, 159826, 159827, 159828, 159829, 159830}</i></p>"
      ],
      "text/plain": [
       "<IPython.core.display.HTML object>"
      ]
     },
     "metadata": {},
     "output_type": "display_data"
    },
    {
     "data": {
      "text/html": [
       "<a href=\"https://shebanq.ancient-data.org/hebrew/text?book=Samuel_I&amp;chapter=30&amp;verse=17&amp;version=c&amp;mr=m&amp;qw=q&amp;tp=txt_p&amp;tr=hb&amp;wget=v&amp;qget=v&amp;nget=vt\" title=\"show this passage in SHEBANQ\" sec=\"1_Samuel 30:17\">1_Samuel 30:17</a>\n",
       "<div class=\"atoms  \" >\n",
       "<a href=\"#\" class=\"nd\">743428</a>\n",
       "\n",
       "\n",
       "\n",
       "<div class=\"patom  l \" >\n",
       "\n",
       "    <div class=\"phrase \" >\n",
       "        <a href=\"https://shebanq.ancient-data.org/hebrew/text?book=Samuel_I&amp;chapter=30&amp;verse=17&amp;version=c&amp;mr=m&amp;qw=q&amp;tp=txt_p&amp;tr=hb&amp;wget=v&amp;qget=v&amp;nget=vt\" title=\"1_Samuel 30:17\" sec=\"1_Samuel 30:17\">phrase</a> <a href=\"#\" class=\"nd\">743428</a>  <span class=\"function\">Time</span> <span class=\"typ\">PP</span>\n",
       "    </div>\n",
       "    <div class=\"atoms\">\n",
       "\n",
       "<div class=\"word  hl\"  style=\"background-color: #ffcc5c;\" >\n",
       "<a href=\"#\" class=\"nd\">159824</a>\n",
       "<div class=\"h\"><a target=\"_blank\" href=\"https://shebanq.ancient-data.org/hebrew/word?version=c&amp;id=1MN\" title=\"show this lexeme in SHEBANQ\">מֵ</a></div>\n",
       "<div class=\"features\"> <span class=\"pdp\"><a href=\"https://shebanq.ancient-data.org/hebrew/text?book=Samuel_I&amp;chapter=30&amp;verse=17&amp;version=c&amp;mr=m&amp;qw=q&amp;tp=txt_p&amp;tr=hb&amp;wget=v&amp;qget=v&amp;nget=vt\" title=\"1_Samuel 30:17\" sec=\"1_Samuel 30:17\">prep</a></span> <span class=\"gloss\">from</span> <span class=\"lex xft\"><span class=\"f\">lex=</span>MN</span></div>\n",
       "\n",
       "\n",
       "</div>\n",
       "\n",
       "<div class=\"word  hl\"  style=\"background-color: #ffcc5c;\" >\n",
       "<a href=\"#\" class=\"nd\">159825</a>\n",
       "<div class=\"h\"><a target=\"_blank\" href=\"https://shebanq.ancient-data.org/hebrew/word?version=c&amp;id=1H\" title=\"show this lexeme in SHEBANQ\">הַ</a></div>\n",
       "<div class=\"features\"> <span class=\"pdp\"><a href=\"https://shebanq.ancient-data.org/hebrew/text?book=Samuel_I&amp;chapter=30&amp;verse=17&amp;version=c&amp;mr=m&amp;qw=q&amp;tp=txt_p&amp;tr=hb&amp;wget=v&amp;qget=v&amp;nget=vt\" title=\"1_Samuel 30:17\" sec=\"1_Samuel 30:17\">art</a></span> <span class=\"gloss\">the</span> <span class=\"lex xft\"><span class=\"f\">lex=</span>H</span></div>\n",
       "\n",
       "\n",
       "</div>\n",
       "\n",
       "<div class=\"word  hl\"  style=\"background-color: #ffcc5c;\" >\n",
       "<a href=\"#\" class=\"nd\">159826</a>\n",
       "<div class=\"h\"><a target=\"_blank\" href=\"https://shebanq.ancient-data.org/hebrew/word?version=c&amp;id=1NCPn\" title=\"show this lexeme in SHEBANQ\">נֶּ֥שֶׁף </a></div>\n",
       "<div class=\"features\"> <span class=\"pdp\"><a href=\"https://shebanq.ancient-data.org/hebrew/text?book=Samuel_I&amp;chapter=30&amp;verse=17&amp;version=c&amp;mr=m&amp;qw=q&amp;tp=txt_p&amp;tr=hb&amp;wget=v&amp;qget=v&amp;nget=vt\" title=\"1_Samuel 30:17\" sec=\"1_Samuel 30:17\">subs</a></span> <span class=\"gloss\">breeze</span> <span class=\"lex xft\"><span class=\"f\">lex=</span>NCP/</span></div>\n",
       "\n",
       "\n",
       "</div>\n",
       "\n",
       "<div class=\"word  hl\"  style=\"background-color: #ffeead;\" >\n",
       "<a href=\"#\" class=\"nd\">159827</a>\n",
       "<div class=\"h\"><a target=\"_blank\" href=\"https://shebanq.ancient-data.org/hebrew/word?version=c&amp;id=1W\" title=\"show this lexeme in SHEBANQ\">וְ</a></div>\n",
       "<div class=\"features\"> <span class=\"pdp\"><a href=\"https://shebanq.ancient-data.org/hebrew/text?book=Samuel_I&amp;chapter=30&amp;verse=17&amp;version=c&amp;mr=m&amp;qw=q&amp;tp=txt_p&amp;tr=hb&amp;wget=v&amp;qget=v&amp;nget=vt\" title=\"1_Samuel 30:17\" sec=\"1_Samuel 30:17\">conj</a></span> <span class=\"gloss\">and</span> <span class=\"lex xft\"><span class=\"f\">lex=</span>W</span></div>\n",
       "\n",
       "\n",
       "</div>\n",
       "\n",
       "<div class=\"word  hl\"  style=\"background-color: #96ceb4;\" >\n",
       "<a href=\"#\" class=\"nd\">159828</a>\n",
       "<div class=\"h\"><a target=\"_blank\" href=\"https://shebanq.ancient-data.org/hebrew/word?version=c&amp;id=1OD\" title=\"show this lexeme in SHEBANQ\">עַד־</a></div>\n",
       "<div class=\"features\"> <span class=\"pdp\"><a href=\"https://shebanq.ancient-data.org/hebrew/text?book=Samuel_I&amp;chapter=30&amp;verse=17&amp;version=c&amp;mr=m&amp;qw=q&amp;tp=txt_p&amp;tr=hb&amp;wget=v&amp;qget=v&amp;nget=vt\" title=\"1_Samuel 30:17\" sec=\"1_Samuel 30:17\">prep</a></span> <span class=\"gloss\">unto</span> <span class=\"lex xft\"><span class=\"f\">lex=</span>&lt;D</span></div>\n",
       "\n",
       "\n",
       "</div>\n",
       "\n",
       "<div class=\"word  hl\"  style=\"background-color: #96ceb4;\" >\n",
       "<a href=\"#\" class=\"nd\">159829</a>\n",
       "<div class=\"h\"><a target=\"_blank\" href=\"https://shebanq.ancient-data.org/hebrew/word?version=c&amp;id=1H\" title=\"show this lexeme in SHEBANQ\">הָ</a></div>\n",
       "<div class=\"features\"> <span class=\"pdp\"><a href=\"https://shebanq.ancient-data.org/hebrew/text?book=Samuel_I&amp;chapter=30&amp;verse=17&amp;version=c&amp;mr=m&amp;qw=q&amp;tp=txt_p&amp;tr=hb&amp;wget=v&amp;qget=v&amp;nget=vt\" title=\"1_Samuel 30:17\" sec=\"1_Samuel 30:17\">art</a></span> <span class=\"gloss\">the</span> <span class=\"lex xft\"><span class=\"f\">lex=</span>H</span></div>\n",
       "\n",
       "\n",
       "</div>\n",
       "\n",
       "<div class=\"word  hl\"  style=\"background-color: #96ceb4;\" >\n",
       "<a href=\"#\" class=\"nd\">159830</a>\n",
       "<div class=\"h\"><a target=\"_blank\" href=\"https://shebanq.ancient-data.org/hebrew/word?version=c&amp;id=1ORBn\" title=\"show this lexeme in SHEBANQ\">עֶ֖רֶב </a></div>\n",
       "<div class=\"features\"> <span class=\"pdp\"><a href=\"https://shebanq.ancient-data.org/hebrew/text?book=Samuel_I&amp;chapter=30&amp;verse=17&amp;version=c&amp;mr=m&amp;qw=q&amp;tp=txt_p&amp;tr=hb&amp;wget=v&amp;qget=v&amp;nget=vt\" title=\"1_Samuel 30:17\" sec=\"1_Samuel 30:17\">subs</a></span> <span class=\"gloss\">evening</span> <span class=\"lex xft\"><span class=\"f\">lex=</span>&lt;RB/</span></div>\n",
       "\n",
       "\n",
       "</div>\n",
       "\n",
       "\n",
       "    </div>\n",
       "\n",
       "\n",
       "</div>\n",
       "\n",
       "<div class=\"patom  r \" >\n",
       "\n",
       "    <div class=\"phrase \" >\n",
       "        <a href=\"https://shebanq.ancient-data.org/hebrew/text?book=Samuel_I&amp;chapter=30&amp;verse=17&amp;version=c&amp;mr=m&amp;qw=q&amp;tp=txt_p&amp;tr=hb&amp;wget=v&amp;qget=v&amp;nget=vt\" title=\"1_Samuel 30:17\" sec=\"1_Samuel 30:17\">phrase</a> <a href=\"#\" class=\"nd\">743428</a>  <span class=\"function\">Time</span> <span class=\"typ\">PP</span>\n",
       "    </div>\n",
       "    <div class=\"atoms\">\n",
       "\n",
       "<div class=\"word  \" >\n",
       "<a href=\"#\" class=\"nd\">159831</a>\n",
       "<div class=\"h\"><a target=\"_blank\" href=\"https://shebanq.ancient-data.org/hebrew/word?version=c&amp;id=1L\" title=\"show this lexeme in SHEBANQ\">לְ</a></div>\n",
       "<div class=\"features\"> <span class=\"pdp\"><a href=\"https://shebanq.ancient-data.org/hebrew/text?book=Samuel_I&amp;chapter=30&amp;verse=17&amp;version=c&amp;mr=m&amp;qw=q&amp;tp=txt_p&amp;tr=hb&amp;wget=v&amp;qget=v&amp;nget=vt\" title=\"1_Samuel 30:17\" sec=\"1_Samuel 30:17\">prep</a></span> <span class=\"gloss\">to</span> <span class=\"lex xft\"><span class=\"f\">lex=</span>L</span></div>\n",
       "\n",
       "\n",
       "</div>\n",
       "\n",
       "<div class=\"word  \" >\n",
       "<a href=\"#\" class=\"nd\">159832</a>\n",
       "<div class=\"h\"><a target=\"_blank\" href=\"https://shebanq.ancient-data.org/hebrew/word?version=c&amp;id=1MXRTn\" title=\"show this lexeme in SHEBANQ\">מָֽחֳרָתָ֑ם </a></div>\n",
       "<div class=\"features\"> <span class=\"pdp\"><a href=\"https://shebanq.ancient-data.org/hebrew/text?book=Samuel_I&amp;chapter=30&amp;verse=17&amp;version=c&amp;mr=m&amp;qw=q&amp;tp=txt_p&amp;tr=hb&amp;wget=v&amp;qget=v&amp;nget=vt\" title=\"1_Samuel 30:17\" sec=\"1_Samuel 30:17\">subs</a></span> <span class=\"gloss\">next day</span> <span class=\"lex xft\"><span class=\"f\">lex=</span>MXRT/</span></div>\n",
       "\n",
       "\n",
       "</div>\n",
       "\n",
       "\n",
       "    </div>\n",
       "\n",
       "\n",
       "</div>\n",
       "\n",
       "\n",
       "</div>\n"
      ],
      "text/plain": [
       "<IPython.core.display.HTML object>"
      ]
     },
     "metadata": {},
     "output_type": "display_data"
    },
    {
     "data": {
      "text/html": [
       "<div style=\"background: #96ceb4; text-align: center\">part2</div>"
      ],
      "text/plain": [
       "<IPython.core.display.HTML object>"
      ]
     },
     "metadata": {},
     "output_type": "display_data"
    },
    {
     "data": {
      "text/html": [
       "<div style=\"background: #ffeead; text-align: center\">conj</div>"
      ],
      "text/plain": [
       "<IPython.core.display.HTML object>"
      ]
     },
     "metadata": {},
     "output_type": "display_data"
    },
    {
     "data": {
      "text/html": [
       "<div style=\"background: #ffcc5c; text-align: center\">part1</div>"
      ],
      "text/plain": [
       "<IPython.core.display.HTML object>"
      ]
     },
     "metadata": {},
     "output_type": "display_data"
    },
    {
     "name": "stdout",
     "output_type": "stream",
     "text": [
      "{   '__cx__': 'coord',\n",
      "    'conj': {'__cx__': 'conj', 'head': 159827},\n",
      "    'part1': {   '__cx__': 'prep_ph',\n",
      "                 'head': {   '__cx__': 'defi_ph',\n",
      "                             'art': {'__cx__': 'art', 'head': 159825},\n",
      "                             'head': {'__cx__': 'cont', 'head': 159826}},\n",
      "                 'prep': {'__cx__': 'prep', 'head': 159824}},\n",
      "    'part2': {   '__cx__': 'prep_ph',\n",
      "                 'head': {   '__cx__': 'defi_ph',\n",
      "                             'art': {'__cx__': 'art', 'head': 159829},\n",
      "                             'head': {'__cx__': 'cont', 'head': 159830}},\n",
      "                 'prep': {'__cx__': 'prep', 'head': 159828}}}\n",
      "\n"
     ]
    },
    {
     "data": {
      "text/html": [
       "<hr>"
      ],
      "text/plain": [
       "<IPython.core.display.HTML object>"
      ]
     },
     "metadata": {},
     "output_type": "display_data"
    },
    {
     "data": {
      "text/html": [
       "<p><b>result</b> <i>1448574 -> CX coord {175608, 175609, 175610, 175611, 175612}</i></p>"
      ],
      "text/plain": [
       "<IPython.core.display.HTML object>"
      ]
     },
     "metadata": {},
     "output_type": "display_data"
    },
    {
     "data": {
      "text/html": [
       "<a href=\"https://shebanq.ancient-data.org/hebrew/text?book=Samuel_II&amp;chapter=24&amp;verse=8&amp;version=c&amp;mr=m&amp;qw=q&amp;tp=txt_p&amp;tr=hb&amp;wget=v&amp;qget=v&amp;nget=vt\" title=\"show this passage in SHEBANQ\" sec=\"2_Samuel 24:8\">2_Samuel 24:8</a>\n",
       "<div class=\"atoms  \" >\n",
       "<a href=\"#\" class=\"nd\">753081</a>\n",
       "\n",
       "\n",
       "\n",
       "<div class=\"patom  \" >\n",
       "\n",
       "    <div class=\"phrase \" >\n",
       "        <a href=\"https://shebanq.ancient-data.org/hebrew/text?book=Samuel_II&amp;chapter=24&amp;verse=8&amp;version=c&amp;mr=m&amp;qw=q&amp;tp=txt_p&amp;tr=hb&amp;wget=v&amp;qget=v&amp;nget=vt\" title=\"2_Samuel 24:8\" sec=\"2_Samuel 24:8\">phrase</a> <a href=\"#\" class=\"nd\">753081</a>  <span class=\"function\">Time</span> <span class=\"typ\">PP</span>\n",
       "    </div>\n",
       "    <div class=\"atoms\">\n",
       "\n",
       "<div class=\"word  \" >\n",
       "<a href=\"#\" class=\"nd\">175606</a>\n",
       "<div class=\"h\"><a target=\"_blank\" href=\"https://shebanq.ancient-data.org/hebrew/word?version=c&amp;id=1MN\" title=\"show this lexeme in SHEBANQ\">מִ</a></div>\n",
       "<div class=\"features\"> <span class=\"pdp\"><a href=\"https://shebanq.ancient-data.org/hebrew/text?book=Samuel_II&amp;chapter=24&amp;verse=8&amp;version=c&amp;mr=m&amp;qw=q&amp;tp=txt_p&amp;tr=hb&amp;wget=v&amp;qget=v&amp;nget=vt\" title=\"2_Samuel 24:8\" sec=\"2_Samuel 24:8\">prep</a></span> <span class=\"gloss\">from</span> <span class=\"lex xft\"><span class=\"f\">lex=</span>MN</span></div>\n",
       "\n",
       "\n",
       "</div>\n",
       "\n",
       "<div class=\"word  \" >\n",
       "<a href=\"#\" class=\"nd\">175607</a>\n",
       "<div class=\"h\"><a target=\"_blank\" href=\"https://shebanq.ancient-data.org/hebrew/word?version=c&amp;id=1QYHin\" title=\"show this lexeme in SHEBANQ\">קְצֵ֨ה </a></div>\n",
       "<div class=\"features\"> <span class=\"pdp\"><a href=\"https://shebanq.ancient-data.org/hebrew/text?book=Samuel_II&amp;chapter=24&amp;verse=8&amp;version=c&amp;mr=m&amp;qw=q&amp;tp=txt_p&amp;tr=hb&amp;wget=v&amp;qget=v&amp;nget=vt\" title=\"2_Samuel 24:8\" sec=\"2_Samuel 24:8\">subs</a></span> <span class=\"gloss\">end</span> <span class=\"lex xft\"><span class=\"f\">lex=</span>QYH=/</span></div>\n",
       "\n",
       "\n",
       "</div>\n",
       "\n",
       "<div class=\"word  hl\"  style=\"background-color: #ffcc5c;\" >\n",
       "<a href=\"#\" class=\"nd\">175608</a>\n",
       "<div class=\"h\"><a target=\"_blank\" href=\"https://shebanq.ancient-data.org/hebrew/word?version=c&amp;id=1TCOn\" title=\"show this lexeme in SHEBANQ\">תִשְׁעָ֧ה </a></div>\n",
       "<div class=\"features\"> <span class=\"pdp\"><a href=\"https://shebanq.ancient-data.org/hebrew/text?book=Samuel_II&amp;chapter=24&amp;verse=8&amp;version=c&amp;mr=m&amp;qw=q&amp;tp=txt_p&amp;tr=hb&amp;wget=v&amp;qget=v&amp;nget=vt\" title=\"2_Samuel 24:8\" sec=\"2_Samuel 24:8\">subs</a></span> <span class=\"gloss\">nine</span> <span class=\"lex xft\"><span class=\"f\">lex=</span>TC&lt;/</span></div>\n",
       "\n",
       "\n",
       "</div>\n",
       "\n",
       "<div class=\"word  hl\"  style=\"background-color: #ffcc5c;\" >\n",
       "<a href=\"#\" class=\"nd\">175609</a>\n",
       "<div class=\"h\"><a target=\"_blank\" href=\"https://shebanq.ancient-data.org/hebrew/word?version=c&amp;id=1XDCin\" title=\"show this lexeme in SHEBANQ\">חֳדָשִׁ֛ים </a></div>\n",
       "<div class=\"features\"> <span class=\"pdp\"><a href=\"https://shebanq.ancient-data.org/hebrew/text?book=Samuel_II&amp;chapter=24&amp;verse=8&amp;version=c&amp;mr=m&amp;qw=q&amp;tp=txt_p&amp;tr=hb&amp;wget=v&amp;qget=v&amp;nget=vt\" title=\"2_Samuel 24:8\" sec=\"2_Samuel 24:8\">subs</a></span> <span class=\"gloss\">month</span> <span class=\"lex xft\"><span class=\"f\">lex=</span>XDC=/</span></div>\n",
       "\n",
       "\n",
       "</div>\n",
       "\n",
       "<div class=\"word  hl\"  style=\"background-color: #ffeead;\" >\n",
       "<a href=\"#\" class=\"nd\">175610</a>\n",
       "<div class=\"h\"><a target=\"_blank\" href=\"https://shebanq.ancient-data.org/hebrew/word?version=c&amp;id=1W\" title=\"show this lexeme in SHEBANQ\">וְ</a></div>\n",
       "<div class=\"features\"> <span class=\"pdp\"><a href=\"https://shebanq.ancient-data.org/hebrew/text?book=Samuel_II&amp;chapter=24&amp;verse=8&amp;version=c&amp;mr=m&amp;qw=q&amp;tp=txt_p&amp;tr=hb&amp;wget=v&amp;qget=v&amp;nget=vt\" title=\"2_Samuel 24:8\" sec=\"2_Samuel 24:8\">conj</a></span> <span class=\"gloss\">and</span> <span class=\"lex xft\"><span class=\"f\">lex=</span>W</span></div>\n",
       "\n",
       "\n",
       "</div>\n",
       "\n",
       "<div class=\"word  hl\"  style=\"background-color: #96ceb4;\" >\n",
       "<a href=\"#\" class=\"nd\">175611</a>\n",
       "<div class=\"h\"><a target=\"_blank\" href=\"https://shebanq.ancient-data.org/hebrew/word?version=c&amp;id=1OFRJMn\" title=\"show this lexeme in SHEBANQ\">עֶשְׂרִ֥ים </a></div>\n",
       "<div class=\"features\"> <span class=\"pdp\"><a href=\"https://shebanq.ancient-data.org/hebrew/text?book=Samuel_II&amp;chapter=24&amp;verse=8&amp;version=c&amp;mr=m&amp;qw=q&amp;tp=txt_p&amp;tr=hb&amp;wget=v&amp;qget=v&amp;nget=vt\" title=\"2_Samuel 24:8\" sec=\"2_Samuel 24:8\">subs</a></span> <span class=\"gloss\">twenty</span> <span class=\"lex xft\"><span class=\"f\">lex=</span>&lt;FRJM/</span></div>\n",
       "\n",
       "\n",
       "</div>\n",
       "\n",
       "<div class=\"word  hl\"  style=\"background-color: #96ceb4;\" >\n",
       "<a href=\"#\" class=\"nd\">175612</a>\n",
       "<div class=\"h\"><a target=\"_blank\" href=\"https://shebanq.ancient-data.org/hebrew/word?version=c&amp;id=1JWMn\" title=\"show this lexeme in SHEBANQ\">יֹ֖ום </a></div>\n",
       "<div class=\"features\"> <span class=\"pdp\"><a href=\"https://shebanq.ancient-data.org/hebrew/text?book=Samuel_II&amp;chapter=24&amp;verse=8&amp;version=c&amp;mr=m&amp;qw=q&amp;tp=txt_p&amp;tr=hb&amp;wget=v&amp;qget=v&amp;nget=vt\" title=\"2_Samuel 24:8\" sec=\"2_Samuel 24:8\">subs</a></span> <span class=\"gloss\">day</span> <span class=\"lex xft\"><span class=\"f\">lex=</span>JWM/</span></div>\n",
       "\n",
       "\n",
       "</div>\n",
       "\n",
       "\n",
       "    </div>\n",
       "\n",
       "\n",
       "</div>\n",
       "\n",
       "\n",
       "</div>\n"
      ],
      "text/plain": [
       "<IPython.core.display.HTML object>"
      ]
     },
     "metadata": {},
     "output_type": "display_data"
    },
    {
     "data": {
      "text/html": [
       "<div style=\"background: #96ceb4; text-align: center\">part2</div>"
      ],
      "text/plain": [
       "<IPython.core.display.HTML object>"
      ]
     },
     "metadata": {},
     "output_type": "display_data"
    },
    {
     "data": {
      "text/html": [
       "<div style=\"background: #ffeead; text-align: center\">conj</div>"
      ],
      "text/plain": [
       "<IPython.core.display.HTML object>"
      ]
     },
     "metadata": {},
     "output_type": "display_data"
    },
    {
     "data": {
      "text/html": [
       "<div style=\"background: #ffcc5c; text-align: center\">part1</div>"
      ],
      "text/plain": [
       "<IPython.core.display.HTML object>"
      ]
     },
     "metadata": {},
     "output_type": "display_data"
    },
    {
     "name": "stdout",
     "output_type": "stream",
     "text": [
      "{   '__cx__': 'coord',\n",
      "    'conj': {'__cx__': 'conj', 'head': 175610},\n",
      "    'part1': {   '__cx__': 'numb_ph',\n",
      "                 'head': {'__cx__': 'cont', 'head': 175609},\n",
      "                 'numb': {'__cx__': 'card', 'head': 175608}},\n",
      "    'part2': {   '__cx__': 'numb_ph',\n",
      "                 'head': {'__cx__': 'cont', 'head': 175612},\n",
      "                 'numb': {'__cx__': 'card', 'head': 175611}}}\n",
      "\n"
     ]
    },
    {
     "data": {
      "text/html": [
       "<hr>"
      ],
      "text/plain": [
       "<IPython.core.display.HTML object>"
      ]
     },
     "metadata": {},
     "output_type": "display_data"
    },
    {
     "data": {
      "text/html": [
       "<p><b>result</b> <i>1448631 -> CX coord {180064, 180065, 180066, 180067, 180068, 180063}</i></p>"
      ],
      "text/plain": [
       "<IPython.core.display.HTML object>"
      ]
     },
     "metadata": {},
     "output_type": "display_data"
    },
    {
     "data": {
      "text/html": [
       "<a href=\"https://shebanq.ancient-data.org/hebrew/text?book=Reges_I&amp;chapter=6&amp;verse=1&amp;version=c&amp;mr=m&amp;qw=q&amp;tp=txt_p&amp;tr=hb&amp;wget=v&amp;qget=v&amp;nget=vt\" title=\"show this passage in SHEBANQ\" sec=\"1_Kings 6:1\">1_Kings 6:1</a>\n",
       "<div class=\"atoms  \" >\n",
       "<a href=\"#\" class=\"nd\">755676</a>\n",
       "\n",
       "\n",
       "\n",
       "<div class=\"patom  \" >\n",
       "\n",
       "    <div class=\"phrase \" >\n",
       "        <a href=\"https://shebanq.ancient-data.org/hebrew/text?book=Reges_I&amp;chapter=6&amp;verse=1&amp;version=c&amp;mr=m&amp;qw=q&amp;tp=txt_p&amp;tr=hb&amp;wget=v&amp;qget=v&amp;nget=vt\" title=\"1_Kings 6:1\" sec=\"1_Kings 6:1\">phrase</a> <a href=\"#\" class=\"nd\">755676</a>  <span class=\"function\">Time</span> <span class=\"typ\">PP</span>\n",
       "    </div>\n",
       "    <div class=\"atoms\">\n",
       "\n",
       "<div class=\"word  \" >\n",
       "<a href=\"#\" class=\"nd\">180062</a>\n",
       "<div class=\"h\"><a target=\"_blank\" href=\"https://shebanq.ancient-data.org/hebrew/word?version=c&amp;id=1B\" title=\"show this lexeme in SHEBANQ\">בִ</a></div>\n",
       "<div class=\"features\"> <span class=\"pdp\"><a href=\"https://shebanq.ancient-data.org/hebrew/text?book=Reges_I&amp;chapter=6&amp;verse=1&amp;version=c&amp;mr=m&amp;qw=q&amp;tp=txt_p&amp;tr=hb&amp;wget=v&amp;qget=v&amp;nget=vt\" title=\"1_Kings 6:1\" sec=\"1_Kings 6:1\">prep</a></span> <span class=\"gloss\">in</span> <span class=\"lex xft\"><span class=\"f\">lex=</span>B</span></div>\n",
       "\n",
       "\n",
       "</div>\n",
       "\n",
       "<div class=\"word  hl\"  style=\"background-color: #ffcc5c;\" >\n",
       "<a href=\"#\" class=\"nd\">180063</a>\n",
       "<div class=\"h\"><a target=\"_blank\" href=\"https://shebanq.ancient-data.org/hebrew/word?version=c&amp;id=1CMNHn\" title=\"show this lexeme in SHEBANQ\">שְׁמֹונִ֣ים </a></div>\n",
       "<div class=\"features\"> <span class=\"pdp\"><a href=\"https://shebanq.ancient-data.org/hebrew/text?book=Reges_I&amp;chapter=6&amp;verse=1&amp;version=c&amp;mr=m&amp;qw=q&amp;tp=txt_p&amp;tr=hb&amp;wget=v&amp;qget=v&amp;nget=vt\" title=\"1_Kings 6:1\" sec=\"1_Kings 6:1\">subs</a></span> <span class=\"gloss\">eight</span> <span class=\"lex xft\"><span class=\"f\">lex=</span>CMNH/</span></div>\n",
       "\n",
       "\n",
       "</div>\n",
       "\n",
       "<div class=\"word  hl\"  style=\"background-color: #ffcc5c;\" >\n",
       "<a href=\"#\" class=\"nd\">180064</a>\n",
       "<div class=\"h\"><a target=\"_blank\" href=\"https://shebanq.ancient-data.org/hebrew/word?version=c&amp;id=1CNHn\" title=\"show this lexeme in SHEBANQ\">שָׁנָ֣ה </a></div>\n",
       "<div class=\"features\"> <span class=\"pdp\"><a href=\"https://shebanq.ancient-data.org/hebrew/text?book=Reges_I&amp;chapter=6&amp;verse=1&amp;version=c&amp;mr=m&amp;qw=q&amp;tp=txt_p&amp;tr=hb&amp;wget=v&amp;qget=v&amp;nget=vt\" title=\"1_Kings 6:1\" sec=\"1_Kings 6:1\">subs</a></span> <span class=\"gloss\">year</span> <span class=\"lex xft\"><span class=\"f\">lex=</span>CNH/</span></div>\n",
       "\n",
       "\n",
       "</div>\n",
       "\n",
       "<div class=\"word  hl\"  style=\"background-color: #ffeead;\" >\n",
       "<a href=\"#\" class=\"nd\">180065</a>\n",
       "<div class=\"h\"><a target=\"_blank\" href=\"https://shebanq.ancient-data.org/hebrew/word?version=c&amp;id=1W\" title=\"show this lexeme in SHEBANQ\">וְ</a></div>\n",
       "<div class=\"features\"> <span class=\"pdp\"><a href=\"https://shebanq.ancient-data.org/hebrew/text?book=Reges_I&amp;chapter=6&amp;verse=1&amp;version=c&amp;mr=m&amp;qw=q&amp;tp=txt_p&amp;tr=hb&amp;wget=v&amp;qget=v&amp;nget=vt\" title=\"1_Kings 6:1\" sec=\"1_Kings 6:1\">conj</a></span> <span class=\"gloss\">and</span> <span class=\"lex xft\"><span class=\"f\">lex=</span>W</span></div>\n",
       "\n",
       "\n",
       "</div>\n",
       "\n",
       "<div class=\"word  hl\"  style=\"background-color: #96ceb4;\" >\n",
       "<a href=\"#\" class=\"nd\">180066</a>\n",
       "<div class=\"h\"><a target=\"_blank\" href=\"https://shebanq.ancient-data.org/hebrew/word?version=c&amp;id=1ARBOn\" title=\"show this lexeme in SHEBANQ\">אַרְבַּ֣ע </a></div>\n",
       "<div class=\"features\"> <span class=\"pdp\"><a href=\"https://shebanq.ancient-data.org/hebrew/text?book=Reges_I&amp;chapter=6&amp;verse=1&amp;version=c&amp;mr=m&amp;qw=q&amp;tp=txt_p&amp;tr=hb&amp;wget=v&amp;qget=v&amp;nget=vt\" title=\"1_Kings 6:1\" sec=\"1_Kings 6:1\">subs</a></span> <span class=\"gloss\">four</span> <span class=\"lex xft\"><span class=\"f\">lex=</span>>RB&lt;/</span></div>\n",
       "\n",
       "\n",
       "</div>\n",
       "\n",
       "<div class=\"word  hl\"  style=\"background-color: #96ceb4;\" >\n",
       "<a href=\"#\" class=\"nd\">180067</a>\n",
       "<div class=\"h\"><a target=\"_blank\" href=\"https://shebanq.ancient-data.org/hebrew/word?version=c&amp;id=1MAHn\" title=\"show this lexeme in SHEBANQ\">מֵאֹ֣ות </a></div>\n",
       "<div class=\"features\"> <span class=\"pdp\"><a href=\"https://shebanq.ancient-data.org/hebrew/text?book=Reges_I&amp;chapter=6&amp;verse=1&amp;version=c&amp;mr=m&amp;qw=q&amp;tp=txt_p&amp;tr=hb&amp;wget=v&amp;qget=v&amp;nget=vt\" title=\"1_Kings 6:1\" sec=\"1_Kings 6:1\">subs</a></span> <span class=\"gloss\">hundred</span> <span class=\"lex xft\"><span class=\"f\">lex=</span>M>H/</span></div>\n",
       "\n",
       "\n",
       "</div>\n",
       "\n",
       "<div class=\"word  hl\"  style=\"background-color: #96ceb4;\" >\n",
       "<a href=\"#\" class=\"nd\">180068</a>\n",
       "<div class=\"h\"><a target=\"_blank\" href=\"https://shebanq.ancient-data.org/hebrew/word?version=c&amp;id=1CNHn\" title=\"show this lexeme in SHEBANQ\">שָׁנָ֡ה </a></div>\n",
       "<div class=\"features\"> <span class=\"pdp\"><a href=\"https://shebanq.ancient-data.org/hebrew/text?book=Reges_I&amp;chapter=6&amp;verse=1&amp;version=c&amp;mr=m&amp;qw=q&amp;tp=txt_p&amp;tr=hb&amp;wget=v&amp;qget=v&amp;nget=vt\" title=\"1_Kings 6:1\" sec=\"1_Kings 6:1\">subs</a></span> <span class=\"gloss\">year</span> <span class=\"lex xft\"><span class=\"f\">lex=</span>CNH/</span></div>\n",
       "\n",
       "\n",
       "</div>\n",
       "\n",
       "\n",
       "    </div>\n",
       "\n",
       "\n",
       "</div>\n",
       "\n",
       "\n",
       "</div>\n"
      ],
      "text/plain": [
       "<IPython.core.display.HTML object>"
      ]
     },
     "metadata": {},
     "output_type": "display_data"
    },
    {
     "data": {
      "text/html": [
       "<div style=\"background: #96ceb4; text-align: center\">part2</div>"
      ],
      "text/plain": [
       "<IPython.core.display.HTML object>"
      ]
     },
     "metadata": {},
     "output_type": "display_data"
    },
    {
     "data": {
      "text/html": [
       "<div style=\"background: #ffeead; text-align: center\">conj</div>"
      ],
      "text/plain": [
       "<IPython.core.display.HTML object>"
      ]
     },
     "metadata": {},
     "output_type": "display_data"
    },
    {
     "data": {
      "text/html": [
       "<div style=\"background: #ffcc5c; text-align: center\">part1</div>"
      ],
      "text/plain": [
       "<IPython.core.display.HTML object>"
      ]
     },
     "metadata": {},
     "output_type": "display_data"
    },
    {
     "name": "stdout",
     "output_type": "stream",
     "text": [
      "{   '__cx__': 'coord',\n",
      "    'conj': {'__cx__': 'conj', 'head': 180065},\n",
      "    'part1': {   '__cx__': 'numb_ph',\n",
      "                 'head': {'__cx__': 'cont', 'head': 180064},\n",
      "                 'numb': {'__cx__': 'card', 'head': 180063}},\n",
      "    'part2': {   '__cx__': 'numb_ph',\n",
      "                 'head': {'__cx__': 'cont', 'head': 180068},\n",
      "                 'numb': {   '__cx__': 'card_chain',\n",
      "                             'card': {'__cx__': 'card', 'head': 180067},\n",
      "                             'head': {'__cx__': 'card', 'head': 180066}}}}\n",
      "\n"
     ]
    },
    {
     "data": {
      "text/html": [
       "<hr>"
      ],
      "text/plain": [
       "<IPython.core.display.HTML object>"
      ]
     },
     "metadata": {},
     "output_type": "display_data"
    },
    {
     "data": {
      "text/html": [
       "<p><b>result</b> <i>1448653 -> CX coord {183621, 183622, 183623, 183624, 183625}</i></p>"
      ],
      "text/plain": [
       "<IPython.core.display.HTML object>"
      ]
     },
     "metadata": {},
     "output_type": "display_data"
    },
    {
     "data": {
      "text/html": [
       "<a href=\"https://shebanq.ancient-data.org/hebrew/text?book=Reges_I&amp;chapter=8&amp;verse=65&amp;version=c&amp;mr=m&amp;qw=q&amp;tp=txt_p&amp;tr=hb&amp;wget=v&amp;qget=v&amp;nget=vt\" title=\"show this passage in SHEBANQ\" sec=\"1_Kings 8:65\">1_Kings 8:65</a>\n",
       "<div class=\"atoms  \" >\n",
       "<a href=\"#\" class=\"nd\">757366</a>\n",
       "\n",
       "\n",
       "\n",
       "<div class=\"patom  l \" >\n",
       "\n",
       "    <div class=\"phrase \" >\n",
       "        <a href=\"https://shebanq.ancient-data.org/hebrew/text?book=Reges_I&amp;chapter=8&amp;verse=65&amp;version=c&amp;mr=m&amp;qw=q&amp;tp=txt_p&amp;tr=hb&amp;wget=v&amp;qget=v&amp;nget=vt\" title=\"1_Kings 8:65\" sec=\"1_Kings 8:65\">phrase</a> <a href=\"#\" class=\"nd\">757366</a>  <span class=\"function\">Time</span> <span class=\"typ\">NP</span>\n",
       "    </div>\n",
       "    <div class=\"atoms\">\n",
       "\n",
       "<div class=\"word  hl\"  style=\"background-color: #ffcc5c;\" >\n",
       "<a href=\"#\" class=\"nd\">183621</a>\n",
       "<div class=\"h\"><a target=\"_blank\" href=\"https://shebanq.ancient-data.org/hebrew/word?version=c&amp;id=1CBOn\" title=\"show this lexeme in SHEBANQ\">שִׁבְעַ֥ת </a></div>\n",
       "<div class=\"features\"> <span class=\"pdp\"><a href=\"https://shebanq.ancient-data.org/hebrew/text?book=Reges_I&amp;chapter=8&amp;verse=65&amp;version=c&amp;mr=m&amp;qw=q&amp;tp=txt_p&amp;tr=hb&amp;wget=v&amp;qget=v&amp;nget=vt\" title=\"1_Kings 8:65\" sec=\"1_Kings 8:65\">subs</a></span> <span class=\"gloss\">seven</span> <span class=\"lex xft\"><span class=\"f\">lex=</span>CB&lt;/</span></div>\n",
       "\n",
       "\n",
       "</div>\n",
       "\n",
       "<div class=\"word  hl\"  style=\"background-color: #ffcc5c;\" >\n",
       "<a href=\"#\" class=\"nd\">183622</a>\n",
       "<div class=\"h\"><a target=\"_blank\" href=\"https://shebanq.ancient-data.org/hebrew/word?version=c&amp;id=1JWMn\" title=\"show this lexeme in SHEBANQ\">יָמִ֖ים </a></div>\n",
       "<div class=\"features\"> <span class=\"pdp\"><a href=\"https://shebanq.ancient-data.org/hebrew/text?book=Reges_I&amp;chapter=8&amp;verse=65&amp;version=c&amp;mr=m&amp;qw=q&amp;tp=txt_p&amp;tr=hb&amp;wget=v&amp;qget=v&amp;nget=vt\" title=\"1_Kings 8:65\" sec=\"1_Kings 8:65\">subs</a></span> <span class=\"gloss\">day</span> <span class=\"lex xft\"><span class=\"f\">lex=</span>JWM/</span></div>\n",
       "\n",
       "\n",
       "</div>\n",
       "\n",
       "<div class=\"word  hl\"  style=\"background-color: #ffeead;\" >\n",
       "<a href=\"#\" class=\"nd\">183623</a>\n",
       "<div class=\"h\"><a target=\"_blank\" href=\"https://shebanq.ancient-data.org/hebrew/word?version=c&amp;id=1W\" title=\"show this lexeme in SHEBANQ\">וְ</a></div>\n",
       "<div class=\"features\"> <span class=\"pdp\"><a href=\"https://shebanq.ancient-data.org/hebrew/text?book=Reges_I&amp;chapter=8&amp;verse=65&amp;version=c&amp;mr=m&amp;qw=q&amp;tp=txt_p&amp;tr=hb&amp;wget=v&amp;qget=v&amp;nget=vt\" title=\"1_Kings 8:65\" sec=\"1_Kings 8:65\">conj</a></span> <span class=\"gloss\">and</span> <span class=\"lex xft\"><span class=\"f\">lex=</span>W</span></div>\n",
       "\n",
       "\n",
       "</div>\n",
       "\n",
       "<div class=\"word  hl\"  style=\"background-color: #96ceb4;\" >\n",
       "<a href=\"#\" class=\"nd\">183624</a>\n",
       "<div class=\"h\"><a target=\"_blank\" href=\"https://shebanq.ancient-data.org/hebrew/word?version=c&amp;id=1CBOn\" title=\"show this lexeme in SHEBANQ\">שִׁבְעַ֣ת </a></div>\n",
       "<div class=\"features\"> <span class=\"pdp\"><a href=\"https://shebanq.ancient-data.org/hebrew/text?book=Reges_I&amp;chapter=8&amp;verse=65&amp;version=c&amp;mr=m&amp;qw=q&amp;tp=txt_p&amp;tr=hb&amp;wget=v&amp;qget=v&amp;nget=vt\" title=\"1_Kings 8:65\" sec=\"1_Kings 8:65\">subs</a></span> <span class=\"gloss\">seven</span> <span class=\"lex xft\"><span class=\"f\">lex=</span>CB&lt;/</span></div>\n",
       "\n",
       "\n",
       "</div>\n",
       "\n",
       "<div class=\"word  hl\"  style=\"background-color: #96ceb4;\" >\n",
       "<a href=\"#\" class=\"nd\">183625</a>\n",
       "<div class=\"h\"><a target=\"_blank\" href=\"https://shebanq.ancient-data.org/hebrew/word?version=c&amp;id=1JWMn\" title=\"show this lexeme in SHEBANQ\">יָמִ֑ים </a></div>\n",
       "<div class=\"features\"> <span class=\"pdp\"><a href=\"https://shebanq.ancient-data.org/hebrew/text?book=Reges_I&amp;chapter=8&amp;verse=65&amp;version=c&amp;mr=m&amp;qw=q&amp;tp=txt_p&amp;tr=hb&amp;wget=v&amp;qget=v&amp;nget=vt\" title=\"1_Kings 8:65\" sec=\"1_Kings 8:65\">subs</a></span> <span class=\"gloss\">day</span> <span class=\"lex xft\"><span class=\"f\">lex=</span>JWM/</span></div>\n",
       "\n",
       "\n",
       "</div>\n",
       "\n",
       "\n",
       "    </div>\n",
       "\n",
       "\n",
       "</div>\n",
       "\n",
       "<div class=\"patom  r \" >\n",
       "\n",
       "    <div class=\"phrase \" >\n",
       "        <a href=\"https://shebanq.ancient-data.org/hebrew/text?book=Reges_I&amp;chapter=8&amp;verse=65&amp;version=c&amp;mr=m&amp;qw=q&amp;tp=txt_p&amp;tr=hb&amp;wget=v&amp;qget=v&amp;nget=vt\" title=\"1_Kings 8:65\" sec=\"1_Kings 8:65\">phrase</a> <a href=\"#\" class=\"nd\">757366</a>  <span class=\"function\">Time</span> <span class=\"typ\">NP</span>\n",
       "    </div>\n",
       "    <div class=\"atoms\">\n",
       "\n",
       "<div class=\"word  \" >\n",
       "<a href=\"#\" class=\"nd\">183626</a>\n",
       "<div class=\"h\"><a target=\"_blank\" href=\"https://shebanq.ancient-data.org/hebrew/word?version=c&amp;id=1ARBOn\" title=\"show this lexeme in SHEBANQ\">אַרְבָּעָ֥ה </a></div>\n",
       "<div class=\"features\"> <span class=\"pdp\"><a href=\"https://shebanq.ancient-data.org/hebrew/text?book=Reges_I&amp;chapter=8&amp;verse=65&amp;version=c&amp;mr=m&amp;qw=q&amp;tp=txt_p&amp;tr=hb&amp;wget=v&amp;qget=v&amp;nget=vt\" title=\"1_Kings 8:65\" sec=\"1_Kings 8:65\">subs</a></span> <span class=\"gloss\">four</span> <span class=\"lex xft\"><span class=\"f\">lex=</span>>RB&lt;/</span></div>\n",
       "\n",
       "\n",
       "</div>\n",
       "\n",
       "<div class=\"word  \" >\n",
       "<a href=\"#\" class=\"nd\">183627</a>\n",
       "<div class=\"h\"><a target=\"_blank\" href=\"https://shebanq.ancient-data.org/hebrew/word?version=c&amp;id=1OFRn\" title=\"show this lexeme in SHEBANQ\">עָשָׂ֖ר </a></div>\n",
       "<div class=\"features\"> <span class=\"pdp\"><a href=\"https://shebanq.ancient-data.org/hebrew/text?book=Reges_I&amp;chapter=8&amp;verse=65&amp;version=c&amp;mr=m&amp;qw=q&amp;tp=txt_p&amp;tr=hb&amp;wget=v&amp;qget=v&amp;nget=vt\" title=\"1_Kings 8:65\" sec=\"1_Kings 8:65\">subs</a></span> <span class=\"gloss\">-teen</span> <span class=\"lex xft\"><span class=\"f\">lex=</span>&lt;FR/</span></div>\n",
       "\n",
       "\n",
       "</div>\n",
       "\n",
       "<div class=\"word  \" >\n",
       "<a href=\"#\" class=\"nd\">183628</a>\n",
       "<div class=\"h\"><a target=\"_blank\" href=\"https://shebanq.ancient-data.org/hebrew/word?version=c&amp;id=1JWMn\" title=\"show this lexeme in SHEBANQ\">יֹֽום׃ </a></div>\n",
       "<div class=\"features\"> <span class=\"pdp\"><a href=\"https://shebanq.ancient-data.org/hebrew/text?book=Reges_I&amp;chapter=8&amp;verse=65&amp;version=c&amp;mr=m&amp;qw=q&amp;tp=txt_p&amp;tr=hb&amp;wget=v&amp;qget=v&amp;nget=vt\" title=\"1_Kings 8:65\" sec=\"1_Kings 8:65\">subs</a></span> <span class=\"gloss\">day</span> <span class=\"lex xft\"><span class=\"f\">lex=</span>JWM/</span></div>\n",
       "\n",
       "\n",
       "</div>\n",
       "\n",
       "\n",
       "    </div>\n",
       "\n",
       "\n",
       "</div>\n",
       "\n",
       "\n",
       "</div>\n"
      ],
      "text/plain": [
       "<IPython.core.display.HTML object>"
      ]
     },
     "metadata": {},
     "output_type": "display_data"
    },
    {
     "data": {
      "text/html": [
       "<div style=\"background: #96ceb4; text-align: center\">part2</div>"
      ],
      "text/plain": [
       "<IPython.core.display.HTML object>"
      ]
     },
     "metadata": {},
     "output_type": "display_data"
    },
    {
     "data": {
      "text/html": [
       "<div style=\"background: #ffeead; text-align: center\">conj</div>"
      ],
      "text/plain": [
       "<IPython.core.display.HTML object>"
      ]
     },
     "metadata": {},
     "output_type": "display_data"
    },
    {
     "data": {
      "text/html": [
       "<div style=\"background: #ffcc5c; text-align: center\">part1</div>"
      ],
      "text/plain": [
       "<IPython.core.display.HTML object>"
      ]
     },
     "metadata": {},
     "output_type": "display_data"
    },
    {
     "name": "stdout",
     "output_type": "stream",
     "text": [
      "{   '__cx__': 'coord',\n",
      "    'conj': {'__cx__': 'conj', 'head': 183623},\n",
      "    'part1': {   '__cx__': 'numb_ph',\n",
      "                 'head': {'__cx__': 'cont', 'head': 183622},\n",
      "                 'numb': {'__cx__': 'card', 'head': 183621}},\n",
      "    'part2': {   '__cx__': 'numb_ph',\n",
      "                 'head': {'__cx__': 'cont', 'head': 183625},\n",
      "                 'numb': {'__cx__': 'card', 'head': 183624}}}\n",
      "\n"
     ]
    },
    {
     "data": {
      "text/html": [
       "<hr>"
      ],
      "text/plain": [
       "<IPython.core.display.HTML object>"
      ]
     },
     "metadata": {},
     "output_type": "display_data"
    },
    {
     "data": {
      "text/html": [
       "<p><b>result</b> <i>1448980 -> CX coord {216777, 216778, 216779}</i></p>"
      ],
      "text/plain": [
       "<IPython.core.display.HTML object>"
      ]
     },
     "metadata": {},
     "output_type": "display_data"
    },
    {
     "data": {
      "text/html": [
       "<a href=\"https://shebanq.ancient-data.org/hebrew/text?book=Jesaia&amp;chapter=13&amp;verse=20&amp;version=c&amp;mr=m&amp;qw=q&amp;tp=txt_p&amp;tr=hb&amp;wget=v&amp;qget=v&amp;nget=vt\" title=\"show this passage in SHEBANQ\" sec=\"Isaiah 13:20\">Isaiah 13:20</a>\n",
       "<div class=\"atoms  \" >\n",
       "<a href=\"#\" class=\"nd\">776963</a>\n",
       "\n",
       "\n",
       "\n",
       "<div class=\"patom  \" >\n",
       "\n",
       "    <div class=\"phrase \" >\n",
       "        <a href=\"https://shebanq.ancient-data.org/hebrew/text?book=Jesaia&amp;chapter=13&amp;verse=20&amp;version=c&amp;mr=m&amp;qw=q&amp;tp=txt_p&amp;tr=hb&amp;wget=v&amp;qget=v&amp;nget=vt\" title=\"Isaiah 13:20\" sec=\"Isaiah 13:20\">phrase</a> <a href=\"#\" class=\"nd\">776963</a>  <span class=\"function\">Time</span> <span class=\"typ\">PP</span>\n",
       "    </div>\n",
       "    <div class=\"atoms\">\n",
       "\n",
       "<div class=\"word  \" >\n",
       "<a href=\"#\" class=\"nd\">216776</a>\n",
       "<div class=\"h\"><a target=\"_blank\" href=\"https://shebanq.ancient-data.org/hebrew/word?version=c&amp;id=1OD\" title=\"show this lexeme in SHEBANQ\">עַד־</a></div>\n",
       "<div class=\"features\"> <span class=\"pdp\"><a href=\"https://shebanq.ancient-data.org/hebrew/text?book=Jesaia&amp;chapter=13&amp;verse=20&amp;version=c&amp;mr=m&amp;qw=q&amp;tp=txt_p&amp;tr=hb&amp;wget=v&amp;qget=v&amp;nget=vt\" title=\"Isaiah 13:20\" sec=\"Isaiah 13:20\">prep</a></span> <span class=\"gloss\">unto</span> <span class=\"lex xft\"><span class=\"f\">lex=</span>&lt;D</span></div>\n",
       "\n",
       "\n",
       "</div>\n",
       "\n",
       "<div class=\"word  hl\"  style=\"background-color: #ffcc5c;\" >\n",
       "<a href=\"#\" class=\"nd\">216777</a>\n",
       "<div class=\"h\"><a target=\"_blank\" href=\"https://shebanq.ancient-data.org/hebrew/word?version=c&amp;id=1DWRn\" title=\"show this lexeme in SHEBANQ\">דֹּ֣ור </a></div>\n",
       "<div class=\"features\"> <span class=\"pdp\"><a href=\"https://shebanq.ancient-data.org/hebrew/text?book=Jesaia&amp;chapter=13&amp;verse=20&amp;version=c&amp;mr=m&amp;qw=q&amp;tp=txt_p&amp;tr=hb&amp;wget=v&amp;qget=v&amp;nget=vt\" title=\"Isaiah 13:20\" sec=\"Isaiah 13:20\">subs</a></span> <span class=\"gloss\">generation</span> <span class=\"lex xft\"><span class=\"f\">lex=</span>DWR/</span></div>\n",
       "\n",
       "\n",
       "</div>\n",
       "\n",
       "<div class=\"word  hl\"  style=\"background-color: #ffeead;\" >\n",
       "<a href=\"#\" class=\"nd\">216778</a>\n",
       "<div class=\"h\"><a target=\"_blank\" href=\"https://shebanq.ancient-data.org/hebrew/word?version=c&amp;id=1W\" title=\"show this lexeme in SHEBANQ\">וָ</a></div>\n",
       "<div class=\"features\"> <span class=\"pdp\"><a href=\"https://shebanq.ancient-data.org/hebrew/text?book=Jesaia&amp;chapter=13&amp;verse=20&amp;version=c&amp;mr=m&amp;qw=q&amp;tp=txt_p&amp;tr=hb&amp;wget=v&amp;qget=v&amp;nget=vt\" title=\"Isaiah 13:20\" sec=\"Isaiah 13:20\">conj</a></span> <span class=\"gloss\">and</span> <span class=\"lex xft\"><span class=\"f\">lex=</span>W</span></div>\n",
       "\n",
       "\n",
       "</div>\n",
       "\n",
       "<div class=\"word  hl\"  style=\"background-color: #96ceb4;\" >\n",
       "<a href=\"#\" class=\"nd\">216779</a>\n",
       "<div class=\"h\"><a target=\"_blank\" href=\"https://shebanq.ancient-data.org/hebrew/word?version=c&amp;id=1DWRn\" title=\"show this lexeme in SHEBANQ\">דֹ֑ור </a></div>\n",
       "<div class=\"features\"> <span class=\"pdp\"><a href=\"https://shebanq.ancient-data.org/hebrew/text?book=Jesaia&amp;chapter=13&amp;verse=20&amp;version=c&amp;mr=m&amp;qw=q&amp;tp=txt_p&amp;tr=hb&amp;wget=v&amp;qget=v&amp;nget=vt\" title=\"Isaiah 13:20\" sec=\"Isaiah 13:20\">subs</a></span> <span class=\"gloss\">generation</span> <span class=\"lex xft\"><span class=\"f\">lex=</span>DWR/</span></div>\n",
       "\n",
       "\n",
       "</div>\n",
       "\n",
       "\n",
       "    </div>\n",
       "\n",
       "\n",
       "</div>\n",
       "\n",
       "\n",
       "</div>\n"
      ],
      "text/plain": [
       "<IPython.core.display.HTML object>"
      ]
     },
     "metadata": {},
     "output_type": "display_data"
    },
    {
     "data": {
      "text/html": [
       "<div style=\"background: #96ceb4; text-align: center\">part2</div>"
      ],
      "text/plain": [
       "<IPython.core.display.HTML object>"
      ]
     },
     "metadata": {},
     "output_type": "display_data"
    },
    {
     "data": {
      "text/html": [
       "<div style=\"background: #ffeead; text-align: center\">conj</div>"
      ],
      "text/plain": [
       "<IPython.core.display.HTML object>"
      ]
     },
     "metadata": {},
     "output_type": "display_data"
    },
    {
     "data": {
      "text/html": [
       "<div style=\"background: #ffcc5c; text-align: center\">part1</div>"
      ],
      "text/plain": [
       "<IPython.core.display.HTML object>"
      ]
     },
     "metadata": {},
     "output_type": "display_data"
    },
    {
     "name": "stdout",
     "output_type": "stream",
     "text": [
      "{   '__cx__': 'coord',\n",
      "    'conj': {'__cx__': 'conj', 'head': 216778},\n",
      "    'part1': {'__cx__': 'cont', 'head': 216777},\n",
      "    'part2': {'__cx__': 'cont', 'head': 216779}}\n",
      "\n"
     ]
    },
    {
     "data": {
      "text/html": [
       "<hr>"
      ],
      "text/plain": [
       "<IPython.core.display.HTML object>"
      ]
     },
     "metadata": {},
     "output_type": "display_data"
    },
    {
     "data": {
      "text/html": [
       "<p><b>result</b> <i>1448994 -> CX coord {217904, 217905, 217902, 217903}</i></p>"
      ],
      "text/plain": [
       "<IPython.core.display.HTML object>"
      ]
     },
     "metadata": {},
     "output_type": "display_data"
    },
    {
     "data": {
      "text/html": [
       "<a href=\"https://shebanq.ancient-data.org/hebrew/text?book=Jesaia&amp;chapter=17&amp;verse=11&amp;version=c&amp;mr=m&amp;qw=q&amp;tp=txt_p&amp;tr=hb&amp;wget=v&amp;qget=v&amp;nget=vt\" title=\"show this passage in SHEBANQ\" sec=\"Isaiah 17:11\">Isaiah 17:11</a>\n",
       "<div class=\"atoms  \" >\n",
       "<a href=\"#\" class=\"nd\">777703</a>\n",
       "\n",
       "\n",
       "\n",
       "<div class=\"patom  \" >\n",
       "\n",
       "    <div class=\"phrase \" >\n",
       "        <a href=\"https://shebanq.ancient-data.org/hebrew/text?book=Jesaia&amp;chapter=17&amp;verse=11&amp;version=c&amp;mr=m&amp;qw=q&amp;tp=txt_p&amp;tr=hb&amp;wget=v&amp;qget=v&amp;nget=vt\" title=\"Isaiah 17:11\" sec=\"Isaiah 17:11\">phrase</a> <a href=\"#\" class=\"nd\">777703</a>  <span class=\"function\">Time</span> <span class=\"typ\">PP</span>\n",
       "    </div>\n",
       "    <div class=\"atoms\">\n",
       "\n",
       "<div class=\"word  \" >\n",
       "<a href=\"#\" class=\"nd\">217900</a>\n",
       "<div class=\"h\"><a target=\"_blank\" href=\"https://shebanq.ancient-data.org/hebrew/word?version=c&amp;id=1B\" title=\"show this lexeme in SHEBANQ\">בְּ</a></div>\n",
       "<div class=\"features\"> <span class=\"pdp\"><a href=\"https://shebanq.ancient-data.org/hebrew/text?book=Jesaia&amp;chapter=17&amp;verse=11&amp;version=c&amp;mr=m&amp;qw=q&amp;tp=txt_p&amp;tr=hb&amp;wget=v&amp;qget=v&amp;nget=vt\" title=\"Isaiah 17:11\" sec=\"Isaiah 17:11\">prep</a></span> <span class=\"gloss\">in</span> <span class=\"lex xft\"><span class=\"f\">lex=</span>B</span></div>\n",
       "\n",
       "\n",
       "</div>\n",
       "\n",
       "<div class=\"word  \" >\n",
       "<a href=\"#\" class=\"nd\">217901</a>\n",
       "<div class=\"h\"><a target=\"_blank\" href=\"https://shebanq.ancient-data.org/hebrew/word?version=c&amp;id=1JWMn\" title=\"show this lexeme in SHEBANQ\">יֹ֥ום </a></div>\n",
       "<div class=\"features\"> <span class=\"pdp\"><a href=\"https://shebanq.ancient-data.org/hebrew/text?book=Jesaia&amp;chapter=17&amp;verse=11&amp;version=c&amp;mr=m&amp;qw=q&amp;tp=txt_p&amp;tr=hb&amp;wget=v&amp;qget=v&amp;nget=vt\" title=\"Isaiah 17:11\" sec=\"Isaiah 17:11\">subs</a></span> <span class=\"gloss\">day</span> <span class=\"lex xft\"><span class=\"f\">lex=</span>JWM/</span></div>\n",
       "\n",
       "\n",
       "</div>\n",
       "\n",
       "<div class=\"word  hl\"  style=\"background-color: #ffcc5c;\" >\n",
       "<a href=\"#\" class=\"nd\">217902</a>\n",
       "<div class=\"h\"><a target=\"_blank\" href=\"https://shebanq.ancient-data.org/hebrew/word?version=c&amp;id=1XLHv\" title=\"show this lexeme in SHEBANQ\">נַחֲלָ֖ה </a></div>\n",
       "<div class=\"features\"> <span class=\"pdp\"><a href=\"https://shebanq.ancient-data.org/hebrew/text?book=Jesaia&amp;chapter=17&amp;verse=11&amp;version=c&amp;mr=m&amp;qw=q&amp;tp=txt_p&amp;tr=hb&amp;wget=v&amp;qget=v&amp;nget=vt\" title=\"Isaiah 17:11\" sec=\"Isaiah 17:11\">subs</a></span> <span class=\"gloss\">become weak</span> <span class=\"vs\">nif</span> <span class=\"vt\">ptca</span> <span class=\"lex xft\"><span class=\"f\">lex=</span>XLH[</span></div>\n",
       "\n",
       "\n",
       "</div>\n",
       "\n",
       "<div class=\"word  hl\"  style=\"background-color: #ffeead;\" >\n",
       "<a href=\"#\" class=\"nd\">217903</a>\n",
       "<div class=\"h\"><a target=\"_blank\" href=\"https://shebanq.ancient-data.org/hebrew/word?version=c&amp;id=1W\" title=\"show this lexeme in SHEBANQ\">וּ</a></div>\n",
       "<div class=\"features\"> <span class=\"pdp\"><a href=\"https://shebanq.ancient-data.org/hebrew/text?book=Jesaia&amp;chapter=17&amp;verse=11&amp;version=c&amp;mr=m&amp;qw=q&amp;tp=txt_p&amp;tr=hb&amp;wget=v&amp;qget=v&amp;nget=vt\" title=\"Isaiah 17:11\" sec=\"Isaiah 17:11\">conj</a></span> <span class=\"gloss\">and</span> <span class=\"lex xft\"><span class=\"f\">lex=</span>W</span></div>\n",
       "\n",
       "\n",
       "</div>\n",
       "\n",
       "<div class=\"word  hl\"  style=\"background-color: #96ceb4;\" >\n",
       "<a href=\"#\" class=\"nd\">217904</a>\n",
       "<div class=\"h\"><a target=\"_blank\" href=\"https://shebanq.ancient-data.org/hebrew/word?version=c&amp;id=1KABn\" title=\"show this lexeme in SHEBANQ\">כְאֵ֥ב </a></div>\n",
       "<div class=\"features\"> <span class=\"pdp\"><a href=\"https://shebanq.ancient-data.org/hebrew/text?book=Jesaia&amp;chapter=17&amp;verse=11&amp;version=c&amp;mr=m&amp;qw=q&amp;tp=txt_p&amp;tr=hb&amp;wget=v&amp;qget=v&amp;nget=vt\" title=\"Isaiah 17:11\" sec=\"Isaiah 17:11\">subs</a></span> <span class=\"gloss\">pain</span> <span class=\"lex xft\"><span class=\"f\">lex=</span>K>B/</span></div>\n",
       "\n",
       "\n",
       "</div>\n",
       "\n",
       "<div class=\"word  hl\"  style=\"background-color: #96ceb4;\" >\n",
       "<a href=\"#\" class=\"nd\">217905</a>\n",
       "<div class=\"h\"><a target=\"_blank\" href=\"https://shebanq.ancient-data.org/hebrew/word?version=c&amp;id=1ANWCin\" title=\"show this lexeme in SHEBANQ\">אָנֽוּשׁ׃ ס </a></div>\n",
       "<div class=\"features\"> <span class=\"pdp\"><a href=\"https://shebanq.ancient-data.org/hebrew/text?book=Jesaia&amp;chapter=17&amp;verse=11&amp;version=c&amp;mr=m&amp;qw=q&amp;tp=txt_p&amp;tr=hb&amp;wget=v&amp;qget=v&amp;nget=vt\" title=\"Isaiah 17:11\" sec=\"Isaiah 17:11\">adjv</a></span> <span class=\"gloss\">incurable</span> <span class=\"lex xft\"><span class=\"f\">lex=</span>>NWC=/</span></div>\n",
       "\n",
       "\n",
       "</div>\n",
       "\n",
       "\n",
       "    </div>\n",
       "\n",
       "\n",
       "</div>\n",
       "\n",
       "\n",
       "</div>\n"
      ],
      "text/plain": [
       "<IPython.core.display.HTML object>"
      ]
     },
     "metadata": {},
     "output_type": "display_data"
    },
    {
     "data": {
      "text/html": [
       "<div style=\"background: #96ceb4; text-align: center\">part2</div>"
      ],
      "text/plain": [
       "<IPython.core.display.HTML object>"
      ]
     },
     "metadata": {},
     "output_type": "display_data"
    },
    {
     "data": {
      "text/html": [
       "<div style=\"background: #ffeead; text-align: center\">conj</div>"
      ],
      "text/plain": [
       "<IPython.core.display.HTML object>"
      ]
     },
     "metadata": {},
     "output_type": "display_data"
    },
    {
     "data": {
      "text/html": [
       "<div style=\"background: #ffcc5c; text-align: center\">part1</div>"
      ],
      "text/plain": [
       "<IPython.core.display.HTML object>"
      ]
     },
     "metadata": {},
     "output_type": "display_data"
    },
    {
     "name": "stdout",
     "output_type": "stream",
     "text": [
      "{   '__cx__': 'coord',\n",
      "    'conj': {'__cx__': 'conj', 'head': 217903},\n",
      "    'part1': {'__cx__': 'content', 'head': 217902},\n",
      "    'part2': {   '__cx__': 'adjv_ph',\n",
      "                 'adjv': {'__cx__': 'cont', 'head': 217905},\n",
      "                 'head': {'__cx__': 'cont', 'head': 217904}}}\n",
      "\n"
     ]
    },
    {
     "data": {
      "text/html": [
       "<hr>"
      ],
      "text/plain": [
       "<IPython.core.display.HTML object>"
      ]
     },
     "metadata": {},
     "output_type": "display_data"
    },
    {
     "data": {
      "text/html": [
       "<p><b>result</b> <i>1449060 -> CX coord {223561, 223562, 223563}</i></p>"
      ],
      "text/plain": [
       "<IPython.core.display.HTML object>"
      ]
     },
     "metadata": {},
     "output_type": "display_data"
    },
    {
     "data": {
      "text/html": [
       "<a href=\"https://shebanq.ancient-data.org/hebrew/text?book=Jesaia&amp;chapter=34&amp;verse=17&amp;version=c&amp;mr=m&amp;qw=q&amp;tp=txt_p&amp;tr=hb&amp;wget=v&amp;qget=v&amp;nget=vt\" title=\"show this passage in SHEBANQ\" sec=\"Isaiah 34:17\">Isaiah 34:17</a>\n",
       "<div class=\"atoms  \" >\n",
       "<a href=\"#\" class=\"nd\">781247</a>\n",
       "\n",
       "\n",
       "\n",
       "<div class=\"patom  \" >\n",
       "\n",
       "    <div class=\"phrase \" >\n",
       "        <a href=\"https://shebanq.ancient-data.org/hebrew/text?book=Jesaia&amp;chapter=34&amp;verse=17&amp;version=c&amp;mr=m&amp;qw=q&amp;tp=txt_p&amp;tr=hb&amp;wget=v&amp;qget=v&amp;nget=vt\" title=\"Isaiah 34:17\" sec=\"Isaiah 34:17\">phrase</a> <a href=\"#\" class=\"nd\">781247</a>  <span class=\"function\">Time</span> <span class=\"typ\">PP</span>\n",
       "    </div>\n",
       "    <div class=\"atoms\">\n",
       "\n",
       "<div class=\"word  \" >\n",
       "<a href=\"#\" class=\"nd\">223560</a>\n",
       "<div class=\"h\"><a target=\"_blank\" href=\"https://shebanq.ancient-data.org/hebrew/word?version=c&amp;id=1L\" title=\"show this lexeme in SHEBANQ\">לְ</a></div>\n",
       "<div class=\"features\"> <span class=\"pdp\"><a href=\"https://shebanq.ancient-data.org/hebrew/text?book=Jesaia&amp;chapter=34&amp;verse=17&amp;version=c&amp;mr=m&amp;qw=q&amp;tp=txt_p&amp;tr=hb&amp;wget=v&amp;qget=v&amp;nget=vt\" title=\"Isaiah 34:17\" sec=\"Isaiah 34:17\">prep</a></span> <span class=\"gloss\">to</span> <span class=\"lex xft\"><span class=\"f\">lex=</span>L</span></div>\n",
       "\n",
       "\n",
       "</div>\n",
       "\n",
       "<div class=\"word  hl\"  style=\"background-color: #ffcc5c;\" >\n",
       "<a href=\"#\" class=\"nd\">223561</a>\n",
       "<div class=\"h\"><a target=\"_blank\" href=\"https://shebanq.ancient-data.org/hebrew/word?version=c&amp;id=1DWRn\" title=\"show this lexeme in SHEBANQ\">דֹ֥ור </a></div>\n",
       "<div class=\"features\"> <span class=\"pdp\"><a href=\"https://shebanq.ancient-data.org/hebrew/text?book=Jesaia&amp;chapter=34&amp;verse=17&amp;version=c&amp;mr=m&amp;qw=q&amp;tp=txt_p&amp;tr=hb&amp;wget=v&amp;qget=v&amp;nget=vt\" title=\"Isaiah 34:17\" sec=\"Isaiah 34:17\">subs</a></span> <span class=\"gloss\">generation</span> <span class=\"lex xft\"><span class=\"f\">lex=</span>DWR/</span></div>\n",
       "\n",
       "\n",
       "</div>\n",
       "\n",
       "<div class=\"word  hl\"  style=\"background-color: #ffeead;\" >\n",
       "<a href=\"#\" class=\"nd\">223562</a>\n",
       "<div class=\"h\"><a target=\"_blank\" href=\"https://shebanq.ancient-data.org/hebrew/word?version=c&amp;id=1W\" title=\"show this lexeme in SHEBANQ\">וָ</a></div>\n",
       "<div class=\"features\"> <span class=\"pdp\"><a href=\"https://shebanq.ancient-data.org/hebrew/text?book=Jesaia&amp;chapter=34&amp;verse=17&amp;version=c&amp;mr=m&amp;qw=q&amp;tp=txt_p&amp;tr=hb&amp;wget=v&amp;qget=v&amp;nget=vt\" title=\"Isaiah 34:17\" sec=\"Isaiah 34:17\">conj</a></span> <span class=\"gloss\">and</span> <span class=\"lex xft\"><span class=\"f\">lex=</span>W</span></div>\n",
       "\n",
       "\n",
       "</div>\n",
       "\n",
       "<div class=\"word  hl\"  style=\"background-color: #96ceb4;\" >\n",
       "<a href=\"#\" class=\"nd\">223563</a>\n",
       "<div class=\"h\"><a target=\"_blank\" href=\"https://shebanq.ancient-data.org/hebrew/word?version=c&amp;id=1DWRn\" title=\"show this lexeme in SHEBANQ\">דֹ֖ור </a></div>\n",
       "<div class=\"features\"> <span class=\"pdp\"><a href=\"https://shebanq.ancient-data.org/hebrew/text?book=Jesaia&amp;chapter=34&amp;verse=17&amp;version=c&amp;mr=m&amp;qw=q&amp;tp=txt_p&amp;tr=hb&amp;wget=v&amp;qget=v&amp;nget=vt\" title=\"Isaiah 34:17\" sec=\"Isaiah 34:17\">subs</a></span> <span class=\"gloss\">generation</span> <span class=\"lex xft\"><span class=\"f\">lex=</span>DWR/</span></div>\n",
       "\n",
       "\n",
       "</div>\n",
       "\n",
       "\n",
       "    </div>\n",
       "\n",
       "\n",
       "</div>\n",
       "\n",
       "\n",
       "</div>\n"
      ],
      "text/plain": [
       "<IPython.core.display.HTML object>"
      ]
     },
     "metadata": {},
     "output_type": "display_data"
    },
    {
     "data": {
      "text/html": [
       "<div style=\"background: #96ceb4; text-align: center\">part2</div>"
      ],
      "text/plain": [
       "<IPython.core.display.HTML object>"
      ]
     },
     "metadata": {},
     "output_type": "display_data"
    },
    {
     "data": {
      "text/html": [
       "<div style=\"background: #ffeead; text-align: center\">conj</div>"
      ],
      "text/plain": [
       "<IPython.core.display.HTML object>"
      ]
     },
     "metadata": {},
     "output_type": "display_data"
    },
    {
     "data": {
      "text/html": [
       "<div style=\"background: #ffcc5c; text-align: center\">part1</div>"
      ],
      "text/plain": [
       "<IPython.core.display.HTML object>"
      ]
     },
     "metadata": {},
     "output_type": "display_data"
    },
    {
     "name": "stdout",
     "output_type": "stream",
     "text": [
      "{   '__cx__': 'coord',\n",
      "    'conj': {'__cx__': 'conj', 'head': 223562},\n",
      "    'part1': {'__cx__': 'cont', 'head': 223561},\n",
      "    'part2': {'__cx__': 'cont', 'head': 223563}}\n",
      "\n"
     ]
    },
    {
     "data": {
      "text/html": [
       "<hr>"
      ],
      "text/plain": [
       "<IPython.core.display.HTML object>"
      ]
     },
     "metadata": {},
     "output_type": "display_data"
    },
    {
     "data": {
      "text/html": [
       "<p><b>result</b> <i>1449167 -> CX coord {234956, 234957, 234958, 234961, 234962, 234963, 234964}</i></p>"
      ],
      "text/plain": [
       "<IPython.core.display.HTML object>"
      ]
     },
     "metadata": {},
     "output_type": "display_data"
    },
    {
     "data": {
      "text/html": [
       "<a href=\"https://shebanq.ancient-data.org/hebrew/text?book=Jesaia&amp;chapter=66&amp;verse=23&amp;version=c&amp;mr=m&amp;qw=q&amp;tp=txt_p&amp;tr=hb&amp;wget=v&amp;qget=v&amp;nget=vt\" title=\"show this passage in SHEBANQ\" sec=\"Isaiah 66:23\">Isaiah 66:23</a>\n",
       "<div class=\"atoms  \" >\n",
       "<a href=\"#\" class=\"nd\">789309</a>\n",
       "\n",
       "\n",
       "\n",
       "<div class=\"patom  l \" >\n",
       "\n",
       "    <div class=\"phrase \" >\n",
       "        <a href=\"https://shebanq.ancient-data.org/hebrew/text?book=Jesaia&amp;chapter=66&amp;verse=23&amp;version=c&amp;mr=m&amp;qw=q&amp;tp=txt_p&amp;tr=hb&amp;wget=v&amp;qget=v&amp;nget=vt\" title=\"Isaiah 66:23\" sec=\"Isaiah 66:23\">phrase</a> <a href=\"#\" class=\"nd\">789309</a>  <span class=\"function\">Time</span> <span class=\"typ\">PP</span>\n",
       "    </div>\n",
       "    <div class=\"atoms\">\n",
       "\n",
       "<div class=\"word  hl\"  style=\"background-color: #ffcc5c;\" >\n",
       "<a href=\"#\" class=\"nd\">234956</a>\n",
       "<div class=\"h\"><a target=\"_blank\" href=\"https://shebanq.ancient-data.org/hebrew/word?version=c&amp;id=1MN\" title=\"show this lexeme in SHEBANQ\">מִֽ</a></div>\n",
       "<div class=\"features\"> <span class=\"pdp\"><a href=\"https://shebanq.ancient-data.org/hebrew/text?book=Jesaia&amp;chapter=66&amp;verse=23&amp;version=c&amp;mr=m&amp;qw=q&amp;tp=txt_p&amp;tr=hb&amp;wget=v&amp;qget=v&amp;nget=vt\" title=\"Isaiah 66:23\" sec=\"Isaiah 66:23\">prep</a></span> <span class=\"gloss\">from</span> <span class=\"lex xft\"><span class=\"f\">lex=</span>MN</span></div>\n",
       "\n",
       "\n",
       "</div>\n",
       "\n",
       "<div class=\"word  hl\"  style=\"background-color: #ffcc5c;\" >\n",
       "<a href=\"#\" class=\"nd\">234957</a>\n",
       "<div class=\"h\"><a target=\"_blank\" href=\"https://shebanq.ancient-data.org/hebrew/word?version=c&amp;id=1DJn\" title=\"show this lexeme in SHEBANQ\">דֵּי־</a></div>\n",
       "<div class=\"features\"> <span class=\"pdp\"><a href=\"https://shebanq.ancient-data.org/hebrew/text?book=Jesaia&amp;chapter=66&amp;verse=23&amp;version=c&amp;mr=m&amp;qw=q&amp;tp=txt_p&amp;tr=hb&amp;wget=v&amp;qget=v&amp;nget=vt\" title=\"Isaiah 66:23\" sec=\"Isaiah 66:23\">subs</a></span> <span class=\"gloss\">sufficiency</span> <span class=\"lex xft\"><span class=\"f\">lex=</span>DJ/</span></div>\n",
       "\n",
       "\n",
       "</div>\n",
       "\n",
       "<div class=\"word  hl\"  style=\"background-color: #ffcc5c;\" >\n",
       "<a href=\"#\" class=\"nd\">234958</a>\n",
       "<div class=\"h\"><a target=\"_blank\" href=\"https://shebanq.ancient-data.org/hebrew/word?version=c&amp;id=1XDCin\" title=\"show this lexeme in SHEBANQ\">חֹ֨דֶשׁ֙ </a></div>\n",
       "<div class=\"features\"> <span class=\"pdp\"><a href=\"https://shebanq.ancient-data.org/hebrew/text?book=Jesaia&amp;chapter=66&amp;verse=23&amp;version=c&amp;mr=m&amp;qw=q&amp;tp=txt_p&amp;tr=hb&amp;wget=v&amp;qget=v&amp;nget=vt\" title=\"Isaiah 66:23\" sec=\"Isaiah 66:23\">subs</a></span> <span class=\"gloss\">month</span> <span class=\"lex xft\"><span class=\"f\">lex=</span>XDC=/</span></div>\n",
       "\n",
       "\n",
       "</div>\n",
       "\n",
       "\n",
       "    </div>\n",
       "\n",
       "\n",
       "</div>\n",
       "\n",
       "<div class=\"patom  r l \" >\n",
       "\n",
       "    <div class=\"phrase \" >\n",
       "        <a href=\"https://shebanq.ancient-data.org/hebrew/text?book=Jesaia&amp;chapter=66&amp;verse=23&amp;version=c&amp;mr=m&amp;qw=q&amp;tp=txt_p&amp;tr=hb&amp;wget=v&amp;qget=v&amp;nget=vt\" title=\"Isaiah 66:23\" sec=\"Isaiah 66:23\">phrase</a> <a href=\"#\" class=\"nd\">789309</a>  <span class=\"function\">Time</span> <span class=\"typ\">PP</span>\n",
       "    </div>\n",
       "    <div class=\"atoms\">\n",
       "\n",
       "<div class=\"word  \" >\n",
       "<a href=\"#\" class=\"nd\">234959</a>\n",
       "<div class=\"h\"><a target=\"_blank\" href=\"https://shebanq.ancient-data.org/hebrew/word?version=c&amp;id=1B\" title=\"show this lexeme in SHEBANQ\">בְּ</a></div>\n",
       "<div class=\"features\"> <span class=\"pdp\"><a href=\"https://shebanq.ancient-data.org/hebrew/text?book=Jesaia&amp;chapter=66&amp;verse=23&amp;version=c&amp;mr=m&amp;qw=q&amp;tp=txt_p&amp;tr=hb&amp;wget=v&amp;qget=v&amp;nget=vt\" title=\"Isaiah 66:23\" sec=\"Isaiah 66:23\">prep</a></span> <span class=\"gloss\">in</span> <span class=\"lex xft\"><span class=\"f\">lex=</span>B</span></div>\n",
       "\n",
       "\n",
       "</div>\n",
       "\n",
       "<div class=\"word  \" >\n",
       "<a href=\"#\" class=\"nd\">234960</a>\n",
       "<div class=\"h\"><a target=\"_blank\" href=\"https://shebanq.ancient-data.org/hebrew/word?version=c&amp;id=1XDCin\" title=\"show this lexeme in SHEBANQ\">חָדְשֹׁ֔ו </a></div>\n",
       "<div class=\"features\"> <span class=\"pdp\"><a href=\"https://shebanq.ancient-data.org/hebrew/text?book=Jesaia&amp;chapter=66&amp;verse=23&amp;version=c&amp;mr=m&amp;qw=q&amp;tp=txt_p&amp;tr=hb&amp;wget=v&amp;qget=v&amp;nget=vt\" title=\"Isaiah 66:23\" sec=\"Isaiah 66:23\">subs</a></span> <span class=\"gloss\">month</span> <span class=\"lex xft\"><span class=\"f\">lex=</span>XDC=/</span></div>\n",
       "\n",
       "\n",
       "</div>\n",
       "\n",
       "\n",
       "    </div>\n",
       "\n",
       "\n",
       "</div>\n",
       "\n",
       "<div class=\"patom  r l \" >\n",
       "\n",
       "    <div class=\"phrase \" >\n",
       "        <a href=\"https://shebanq.ancient-data.org/hebrew/text?book=Jesaia&amp;chapter=66&amp;verse=23&amp;version=c&amp;mr=m&amp;qw=q&amp;tp=txt_p&amp;tr=hb&amp;wget=v&amp;qget=v&amp;nget=vt\" title=\"Isaiah 66:23\" sec=\"Isaiah 66:23\">phrase</a> <a href=\"#\" class=\"nd\">789309</a>  <span class=\"function\">Time</span> <span class=\"typ\">PP|CP</span>\n",
       "    </div>\n",
       "    <div class=\"atoms\">\n",
       "\n",
       "<div class=\"word  hl\"  style=\"background-color: #ffeead;\" >\n",
       "<a href=\"#\" class=\"nd\">234961</a>\n",
       "<div class=\"h\"><a target=\"_blank\" href=\"https://shebanq.ancient-data.org/hebrew/word?version=c&amp;id=1W\" title=\"show this lexeme in SHEBANQ\">וּ</a></div>\n",
       "<div class=\"features\"> <span class=\"pdp\"><a href=\"https://shebanq.ancient-data.org/hebrew/text?book=Jesaia&amp;chapter=66&amp;verse=23&amp;version=c&amp;mr=m&amp;qw=q&amp;tp=txt_p&amp;tr=hb&amp;wget=v&amp;qget=v&amp;nget=vt\" title=\"Isaiah 66:23\" sec=\"Isaiah 66:23\">conj</a></span> <span class=\"gloss\">and</span> <span class=\"lex xft\"><span class=\"f\">lex=</span>W</span></div>\n",
       "\n",
       "\n",
       "</div>\n",
       "\n",
       "\n",
       "    </div>\n",
       "\n",
       "\n",
       "</div>\n",
       "\n",
       "<div class=\"patom  r l \" >\n",
       "\n",
       "    <div class=\"phrase \" >\n",
       "        <a href=\"https://shebanq.ancient-data.org/hebrew/text?book=Jesaia&amp;chapter=66&amp;verse=23&amp;version=c&amp;mr=m&amp;qw=q&amp;tp=txt_p&amp;tr=hb&amp;wget=v&amp;qget=v&amp;nget=vt\" title=\"Isaiah 66:23\" sec=\"Isaiah 66:23\">phrase</a> <a href=\"#\" class=\"nd\">789309</a>  <span class=\"function\">Time</span> <span class=\"typ\">PP</span>\n",
       "    </div>\n",
       "    <div class=\"atoms\">\n",
       "\n",
       "<div class=\"word  hl\"  style=\"background-color: #96ceb4;\" >\n",
       "<a href=\"#\" class=\"nd\">234962</a>\n",
       "<div class=\"h\"><a target=\"_blank\" href=\"https://shebanq.ancient-data.org/hebrew/word?version=c&amp;id=1MN\" title=\"show this lexeme in SHEBANQ\">מִ</a></div>\n",
       "<div class=\"features\"> <span class=\"pdp\"><a href=\"https://shebanq.ancient-data.org/hebrew/text?book=Jesaia&amp;chapter=66&amp;verse=23&amp;version=c&amp;mr=m&amp;qw=q&amp;tp=txt_p&amp;tr=hb&amp;wget=v&amp;qget=v&amp;nget=vt\" title=\"Isaiah 66:23\" sec=\"Isaiah 66:23\">prep</a></span> <span class=\"gloss\">from</span> <span class=\"lex xft\"><span class=\"f\">lex=</span>MN</span></div>\n",
       "\n",
       "\n",
       "</div>\n",
       "\n",
       "<div class=\"word  hl\"  style=\"background-color: #96ceb4;\" >\n",
       "<a href=\"#\" class=\"nd\">234963</a>\n",
       "<div class=\"h\"><a target=\"_blank\" href=\"https://shebanq.ancient-data.org/hebrew/word?version=c&amp;id=1DJn\" title=\"show this lexeme in SHEBANQ\">דֵּ֥י </a></div>\n",
       "<div class=\"features\"> <span class=\"pdp\"><a href=\"https://shebanq.ancient-data.org/hebrew/text?book=Jesaia&amp;chapter=66&amp;verse=23&amp;version=c&amp;mr=m&amp;qw=q&amp;tp=txt_p&amp;tr=hb&amp;wget=v&amp;qget=v&amp;nget=vt\" title=\"Isaiah 66:23\" sec=\"Isaiah 66:23\">subs</a></span> <span class=\"gloss\">sufficiency</span> <span class=\"lex xft\"><span class=\"f\">lex=</span>DJ/</span></div>\n",
       "\n",
       "\n",
       "</div>\n",
       "\n",
       "<div class=\"word  hl\"  style=\"background-color: #96ceb4;\" >\n",
       "<a href=\"#\" class=\"nd\">234964</a>\n",
       "<div class=\"h\"><a target=\"_blank\" href=\"https://shebanq.ancient-data.org/hebrew/word?version=c&amp;id=1CBTn\" title=\"show this lexeme in SHEBANQ\">שַׁבָּ֖ת </a></div>\n",
       "<div class=\"features\"> <span class=\"pdp\"><a href=\"https://shebanq.ancient-data.org/hebrew/text?book=Jesaia&amp;chapter=66&amp;verse=23&amp;version=c&amp;mr=m&amp;qw=q&amp;tp=txt_p&amp;tr=hb&amp;wget=v&amp;qget=v&amp;nget=vt\" title=\"Isaiah 66:23\" sec=\"Isaiah 66:23\">subs</a></span> <span class=\"gloss\">sabbath</span> <span class=\"lex xft\"><span class=\"f\">lex=</span>CBT/</span></div>\n",
       "\n",
       "\n",
       "</div>\n",
       "\n",
       "\n",
       "    </div>\n",
       "\n",
       "\n",
       "</div>\n",
       "\n",
       "<div class=\"patom  r \" >\n",
       "\n",
       "    <div class=\"phrase \" >\n",
       "        <a href=\"https://shebanq.ancient-data.org/hebrew/text?book=Jesaia&amp;chapter=66&amp;verse=23&amp;version=c&amp;mr=m&amp;qw=q&amp;tp=txt_p&amp;tr=hb&amp;wget=v&amp;qget=v&amp;nget=vt\" title=\"Isaiah 66:23\" sec=\"Isaiah 66:23\">phrase</a> <a href=\"#\" class=\"nd\">789309</a>  <span class=\"function\">Time</span> <span class=\"typ\">PP</span>\n",
       "    </div>\n",
       "    <div class=\"atoms\">\n",
       "\n",
       "<div class=\"word  \" >\n",
       "<a href=\"#\" class=\"nd\">234965</a>\n",
       "<div class=\"h\"><a target=\"_blank\" href=\"https://shebanq.ancient-data.org/hebrew/word?version=c&amp;id=1B\" title=\"show this lexeme in SHEBANQ\">בְּ</a></div>\n",
       "<div class=\"features\"> <span class=\"pdp\"><a href=\"https://shebanq.ancient-data.org/hebrew/text?book=Jesaia&amp;chapter=66&amp;verse=23&amp;version=c&amp;mr=m&amp;qw=q&amp;tp=txt_p&amp;tr=hb&amp;wget=v&amp;qget=v&amp;nget=vt\" title=\"Isaiah 66:23\" sec=\"Isaiah 66:23\">prep</a></span> <span class=\"gloss\">in</span> <span class=\"lex xft\"><span class=\"f\">lex=</span>B</span></div>\n",
       "\n",
       "\n",
       "</div>\n",
       "\n",
       "<div class=\"word  \" >\n",
       "<a href=\"#\" class=\"nd\">234966</a>\n",
       "<div class=\"h\"><a target=\"_blank\" href=\"https://shebanq.ancient-data.org/hebrew/word?version=c&amp;id=1CBTn\" title=\"show this lexeme in SHEBANQ\">שַׁבַּתֹּ֑ו </a></div>\n",
       "<div class=\"features\"> <span class=\"pdp\"><a href=\"https://shebanq.ancient-data.org/hebrew/text?book=Jesaia&amp;chapter=66&amp;verse=23&amp;version=c&amp;mr=m&amp;qw=q&amp;tp=txt_p&amp;tr=hb&amp;wget=v&amp;qget=v&amp;nget=vt\" title=\"Isaiah 66:23\" sec=\"Isaiah 66:23\">subs</a></span> <span class=\"gloss\">sabbath</span> <span class=\"lex xft\"><span class=\"f\">lex=</span>CBT/</span></div>\n",
       "\n",
       "\n",
       "</div>\n",
       "\n",
       "\n",
       "    </div>\n",
       "\n",
       "\n",
       "</div>\n",
       "\n",
       "\n",
       "</div>\n"
      ],
      "text/plain": [
       "<IPython.core.display.HTML object>"
      ]
     },
     "metadata": {},
     "output_type": "display_data"
    },
    {
     "data": {
      "text/html": [
       "<div style=\"background: #96ceb4; text-align: center\">part2</div>"
      ],
      "text/plain": [
       "<IPython.core.display.HTML object>"
      ]
     },
     "metadata": {},
     "output_type": "display_data"
    },
    {
     "data": {
      "text/html": [
       "<div style=\"background: #ffeead; text-align: center\">conj</div>"
      ],
      "text/plain": [
       "<IPython.core.display.HTML object>"
      ]
     },
     "metadata": {},
     "output_type": "display_data"
    },
    {
     "data": {
      "text/html": [
       "<div style=\"background: #ffcc5c; text-align: center\">part1</div>"
      ],
      "text/plain": [
       "<IPython.core.display.HTML object>"
      ]
     },
     "metadata": {},
     "output_type": "display_data"
    },
    {
     "name": "stdout",
     "output_type": "stream",
     "text": [
      "{   '__cx__': 'coord',\n",
      "    'conj': {'__cx__': 'conj', 'head': 234961},\n",
      "    'part1': {   '__cx__': 'prep_ph',\n",
      "                 'head': {   '__cx__': 'geni_ph',\n",
      "                             'geni': {'__cx__': 'cont', 'head': 234958},\n",
      "                             'head': {'__cx__': 'cont', 'head': 234957}},\n",
      "                 'prep': {'__cx__': 'prep', 'head': 234956}},\n",
      "    'part2': {   '__cx__': 'prep_ph',\n",
      "                 'head': {   '__cx__': 'geni_ph',\n",
      "                             'geni': {'__cx__': 'cont', 'head': 234964},\n",
      "                             'head': {'__cx__': 'cont', 'head': 234963}},\n",
      "                 'prep': {'__cx__': 'prep', 'head': 234962}}}\n",
      "\n"
     ]
    },
    {
     "data": {
      "text/html": [
       "<hr>"
      ],
      "text/plain": [
       "<IPython.core.display.HTML object>"
      ]
     },
     "metadata": {},
     "output_type": "display_data"
    },
    {
     "data": {
      "text/html": [
       "<p><b>result</b> <i>1449248 -> CX coord {247040, 247041, 247042, 247049, 247050, 247051, 247052, 247053, 247054, 247039}</i></p>"
      ],
      "text/plain": [
       "<IPython.core.display.HTML object>"
      ]
     },
     "metadata": {},
     "output_type": "display_data"
    },
    {
     "data": {
      "text/html": [
       "<a href=\"https://shebanq.ancient-data.org/hebrew/text?book=Jeremia&amp;chapter=25&amp;verse=3&amp;version=c&amp;mr=m&amp;qw=q&amp;tp=txt_p&amp;tr=hb&amp;wget=v&amp;qget=v&amp;nget=vt\" title=\"show this passage in SHEBANQ\" sec=\"Jeremiah 25:3\">Jeremiah 25:3</a>\n",
       "<div class=\"atoms  \" >\n",
       "<a href=\"#\" class=\"nd\">796970</a>\n",
       "\n",
       "\n",
       "\n",
       "<div class=\"patom  l \" >\n",
       "\n",
       "    <div class=\"phrase \" >\n",
       "        <a href=\"https://shebanq.ancient-data.org/hebrew/text?book=Jeremia&amp;chapter=25&amp;verse=3&amp;version=c&amp;mr=m&amp;qw=q&amp;tp=txt_p&amp;tr=hb&amp;wget=v&amp;qget=v&amp;nget=vt\" title=\"Jeremiah 25:3\" sec=\"Jeremiah 25:3\">phrase</a> <a href=\"#\" class=\"nd\">796970</a>  <span class=\"function\">Time</span> <span class=\"typ\">PP</span>\n",
       "    </div>\n",
       "    <div class=\"atoms\">\n",
       "\n",
       "<div class=\"word  hl\"  style=\"background-color: #ffcc5c;\" >\n",
       "<a href=\"#\" class=\"nd\">247039</a>\n",
       "<div class=\"h\"><a target=\"_blank\" href=\"https://shebanq.ancient-data.org/hebrew/word?version=c&amp;id=1MN\" title=\"show this lexeme in SHEBANQ\">מִן־</a></div>\n",
       "<div class=\"features\"> <span class=\"pdp\"><a href=\"https://shebanq.ancient-data.org/hebrew/text?book=Jeremia&amp;chapter=25&amp;verse=3&amp;version=c&amp;mr=m&amp;qw=q&amp;tp=txt_p&amp;tr=hb&amp;wget=v&amp;qget=v&amp;nget=vt\" title=\"Jeremiah 25:3\" sec=\"Jeremiah 25:3\">prep</a></span> <span class=\"gloss\">from</span> <span class=\"lex xft\"><span class=\"f\">lex=</span>MN</span></div>\n",
       "\n",
       "\n",
       "</div>\n",
       "\n",
       "<div class=\"word  hl\"  style=\"background-color: #ffcc5c;\" >\n",
       "<a href=\"#\" class=\"nd\">247040</a>\n",
       "<div class=\"h\"><a target=\"_blank\" href=\"https://shebanq.ancient-data.org/hebrew/word?version=c&amp;id=1CLCn\" title=\"show this lexeme in SHEBANQ\">שְׁלֹ֣שׁ </a></div>\n",
       "<div class=\"features\"> <span class=\"pdp\"><a href=\"https://shebanq.ancient-data.org/hebrew/text?book=Jeremia&amp;chapter=25&amp;verse=3&amp;version=c&amp;mr=m&amp;qw=q&amp;tp=txt_p&amp;tr=hb&amp;wget=v&amp;qget=v&amp;nget=vt\" title=\"Jeremiah 25:3\" sec=\"Jeremiah 25:3\">subs</a></span> <span class=\"gloss\">three</span> <span class=\"lex xft\"><span class=\"f\">lex=</span>CLC/</span></div>\n",
       "\n",
       "\n",
       "</div>\n",
       "\n",
       "<div class=\"word  hl\"  style=\"background-color: #ffcc5c;\" >\n",
       "<a href=\"#\" class=\"nd\">247041</a>\n",
       "<div class=\"h\"><a target=\"_blank\" href=\"https://shebanq.ancient-data.org/hebrew/word?version=c&amp;id=1OFRHn\" title=\"show this lexeme in SHEBANQ\">עֶשְׂרֵ֣ה </a></div>\n",
       "<div class=\"features\"> <span class=\"pdp\"><a href=\"https://shebanq.ancient-data.org/hebrew/text?book=Jeremia&amp;chapter=25&amp;verse=3&amp;version=c&amp;mr=m&amp;qw=q&amp;tp=txt_p&amp;tr=hb&amp;wget=v&amp;qget=v&amp;nget=vt\" title=\"Jeremiah 25:3\" sec=\"Jeremiah 25:3\">subs</a></span> <span class=\"gloss\">-teen</span> <span class=\"lex xft\"><span class=\"f\">lex=</span>&lt;FRH/</span></div>\n",
       "\n",
       "\n",
       "</div>\n",
       "\n",
       "<div class=\"word  hl\"  style=\"background-color: #ffcc5c;\" >\n",
       "<a href=\"#\" class=\"nd\">247042</a>\n",
       "<div class=\"h\"><a target=\"_blank\" href=\"https://shebanq.ancient-data.org/hebrew/word?version=c&amp;id=1CNHn\" title=\"show this lexeme in SHEBANQ\">שָׁנָ֡ה </a></div>\n",
       "<div class=\"features\"> <span class=\"pdp\"><a href=\"https://shebanq.ancient-data.org/hebrew/text?book=Jeremia&amp;chapter=25&amp;verse=3&amp;version=c&amp;mr=m&amp;qw=q&amp;tp=txt_p&amp;tr=hb&amp;wget=v&amp;qget=v&amp;nget=vt\" title=\"Jeremiah 25:3\" sec=\"Jeremiah 25:3\">subs</a></span> <span class=\"gloss\">year</span> <span class=\"lex xft\"><span class=\"f\">lex=</span>CNH/</span></div>\n",
       "\n",
       "\n",
       "</div>\n",
       "\n",
       "\n",
       "    </div>\n",
       "\n",
       "\n",
       "</div>\n",
       "\n",
       "<div class=\"patom  r l \" >\n",
       "\n",
       "    <div class=\"phrase \" >\n",
       "        <a href=\"https://shebanq.ancient-data.org/hebrew/text?book=Jeremia&amp;chapter=25&amp;verse=3&amp;version=c&amp;mr=m&amp;qw=q&amp;tp=txt_p&amp;tr=hb&amp;wget=v&amp;qget=v&amp;nget=vt\" title=\"Jeremiah 25:3\" sec=\"Jeremiah 25:3\">phrase</a> <a href=\"#\" class=\"nd\">796970</a>  <span class=\"function\">Time</span> <span class=\"typ\">PP</span>\n",
       "    </div>\n",
       "    <div class=\"atoms\">\n",
       "\n",
       "<div class=\"word  \" >\n",
       "<a href=\"#\" class=\"nd\">247043</a>\n",
       "<div class=\"h\"><a target=\"_blank\" href=\"https://shebanq.ancient-data.org/hebrew/word?version=c&amp;id=1L\" title=\"show this lexeme in SHEBANQ\">לְ</a></div>\n",
       "<div class=\"features\"> <span class=\"pdp\"><a href=\"https://shebanq.ancient-data.org/hebrew/text?book=Jeremia&amp;chapter=25&amp;verse=3&amp;version=c&amp;mr=m&amp;qw=q&amp;tp=txt_p&amp;tr=hb&amp;wget=v&amp;qget=v&amp;nget=vt\" title=\"Jeremiah 25:3\" sec=\"Jeremiah 25:3\">prep</a></span> <span class=\"gloss\">to</span> <span class=\"lex xft\"><span class=\"f\">lex=</span>L</span></div>\n",
       "\n",
       "\n",
       "</div>\n",
       "\n",
       "<div class=\"word  \" >\n",
       "<a href=\"#\" class=\"nd\">247044</a>\n",
       "<div class=\"h\"><a target=\"_blank\" href=\"https://shebanq.ancient-data.org/hebrew/word?version=c&amp;id=1JACJHWn\" title=\"show this lexeme in SHEBANQ\">יֹאשִׁיָּ֣הוּ </a></div>\n",
       "<div class=\"features\"> <span class=\"pdp\"><a href=\"https://shebanq.ancient-data.org/hebrew/text?book=Jeremia&amp;chapter=25&amp;verse=3&amp;version=c&amp;mr=m&amp;qw=q&amp;tp=txt_p&amp;tr=hb&amp;wget=v&amp;qget=v&amp;nget=vt\" title=\"Jeremiah 25:3\" sec=\"Jeremiah 25:3\">nmpr</a></span> <span class=\"gloss\">Josiah</span> <span class=\"lex xft\"><span class=\"f\">lex=</span>J>CJHW/</span></div>\n",
       "\n",
       "\n",
       "</div>\n",
       "\n",
       "\n",
       "    </div>\n",
       "\n",
       "\n",
       "</div>\n",
       "\n",
       "<div class=\"patom  r l \" >\n",
       "\n",
       "    <div class=\"phrase \" >\n",
       "        <a href=\"https://shebanq.ancient-data.org/hebrew/text?book=Jeremia&amp;chapter=25&amp;verse=3&amp;version=c&amp;mr=m&amp;qw=q&amp;tp=txt_p&amp;tr=hb&amp;wget=v&amp;qget=v&amp;nget=vt\" title=\"Jeremiah 25:3\" sec=\"Jeremiah 25:3\">phrase</a> <a href=\"#\" class=\"nd\">796970</a>  <span class=\"function\">Time</span> <span class=\"typ\">PP|NP</span>\n",
       "    </div>\n",
       "    <div class=\"atoms\">\n",
       "\n",
       "<div class=\"word  \" >\n",
       "<a href=\"#\" class=\"nd\">247045</a>\n",
       "<div class=\"h\"><a target=\"_blank\" href=\"https://shebanq.ancient-data.org/hebrew/word?version=c&amp;id=1BNn\" title=\"show this lexeme in SHEBANQ\">בֶן־</a></div>\n",
       "<div class=\"features\"> <span class=\"pdp\"><a href=\"https://shebanq.ancient-data.org/hebrew/text?book=Jeremia&amp;chapter=25&amp;verse=3&amp;version=c&amp;mr=m&amp;qw=q&amp;tp=txt_p&amp;tr=hb&amp;wget=v&amp;qget=v&amp;nget=vt\" title=\"Jeremiah 25:3\" sec=\"Jeremiah 25:3\">subs</a></span> <span class=\"gloss\">son</span> <span class=\"lex xft\"><span class=\"f\">lex=</span>BN/</span></div>\n",
       "\n",
       "\n",
       "</div>\n",
       "\n",
       "<div class=\"word  \" >\n",
       "<a href=\"#\" class=\"nd\">247046</a>\n",
       "<div class=\"h\"><a target=\"_blank\" href=\"https://shebanq.ancient-data.org/hebrew/word?version=c&amp;id=1AMWNiin\" title=\"show this lexeme in SHEBANQ\">אָמֹון֩ </a></div>\n",
       "<div class=\"features\"> <span class=\"pdp\"><a href=\"https://shebanq.ancient-data.org/hebrew/text?book=Jeremia&amp;chapter=25&amp;verse=3&amp;version=c&amp;mr=m&amp;qw=q&amp;tp=txt_p&amp;tr=hb&amp;wget=v&amp;qget=v&amp;nget=vt\" title=\"Jeremiah 25:3\" sec=\"Jeremiah 25:3\">nmpr</a></span> <span class=\"gloss\">Amon</span> <span class=\"lex xft\"><span class=\"f\">lex=</span>>MWN==/</span></div>\n",
       "\n",
       "\n",
       "</div>\n",
       "\n",
       "\n",
       "    </div>\n",
       "\n",
       "\n",
       "</div>\n",
       "\n",
       "<div class=\"patom  r l \" >\n",
       "\n",
       "    <div class=\"phrase \" >\n",
       "        <a href=\"https://shebanq.ancient-data.org/hebrew/text?book=Jeremia&amp;chapter=25&amp;verse=3&amp;version=c&amp;mr=m&amp;qw=q&amp;tp=txt_p&amp;tr=hb&amp;wget=v&amp;qget=v&amp;nget=vt\" title=\"Jeremiah 25:3\" sec=\"Jeremiah 25:3\">phrase</a> <a href=\"#\" class=\"nd\">796970</a>  <span class=\"function\">Time</span> <span class=\"typ\">PP|NP</span>\n",
       "    </div>\n",
       "    <div class=\"atoms\">\n",
       "\n",
       "<div class=\"word  \" >\n",
       "<a href=\"#\" class=\"nd\">247047</a>\n",
       "<div class=\"h\"><a target=\"_blank\" href=\"https://shebanq.ancient-data.org/hebrew/word?version=c&amp;id=1MLKn\" title=\"show this lexeme in SHEBANQ\">מֶ֨לֶךְ </a></div>\n",
       "<div class=\"features\"> <span class=\"pdp\"><a href=\"https://shebanq.ancient-data.org/hebrew/text?book=Jeremia&amp;chapter=25&amp;verse=3&amp;version=c&amp;mr=m&amp;qw=q&amp;tp=txt_p&amp;tr=hb&amp;wget=v&amp;qget=v&amp;nget=vt\" title=\"Jeremiah 25:3\" sec=\"Jeremiah 25:3\">subs</a></span> <span class=\"gloss\">king</span> <span class=\"lex xft\"><span class=\"f\">lex=</span>MLK/</span></div>\n",
       "\n",
       "\n",
       "</div>\n",
       "\n",
       "<div class=\"word  \" >\n",
       "<a href=\"#\" class=\"nd\">247048</a>\n",
       "<div class=\"h\"><a target=\"_blank\" href=\"https://shebanq.ancient-data.org/hebrew/word?version=c&amp;id=1JHWDHn\" title=\"show this lexeme in SHEBANQ\">יְהוּדָ֜ה </a></div>\n",
       "<div class=\"features\"> <span class=\"pdp\"><a href=\"https://shebanq.ancient-data.org/hebrew/text?book=Jeremia&amp;chapter=25&amp;verse=3&amp;version=c&amp;mr=m&amp;qw=q&amp;tp=txt_p&amp;tr=hb&amp;wget=v&amp;qget=v&amp;nget=vt\" title=\"Jeremiah 25:3\" sec=\"Jeremiah 25:3\">nmpr</a></span> <span class=\"gloss\">Judah</span> <span class=\"lex xft\"><span class=\"f\">lex=</span>JHWDH/</span></div>\n",
       "\n",
       "\n",
       "</div>\n",
       "\n",
       "\n",
       "    </div>\n",
       "\n",
       "\n",
       "</div>\n",
       "\n",
       "<div class=\"patom  r l \" >\n",
       "\n",
       "    <div class=\"phrase \" >\n",
       "        <a href=\"https://shebanq.ancient-data.org/hebrew/text?book=Jeremia&amp;chapter=25&amp;verse=3&amp;version=c&amp;mr=m&amp;qw=q&amp;tp=txt_p&amp;tr=hb&amp;wget=v&amp;qget=v&amp;nget=vt\" title=\"Jeremiah 25:3\" sec=\"Jeremiah 25:3\">phrase</a> <a href=\"#\" class=\"nd\">796970</a>  <span class=\"function\">Time</span> <span class=\"typ\">PP|CP</span>\n",
       "    </div>\n",
       "    <div class=\"atoms\">\n",
       "\n",
       "<div class=\"word  hl\"  style=\"background-color: #ffeead;\" >\n",
       "<a href=\"#\" class=\"nd\">247049</a>\n",
       "<div class=\"h\"><a target=\"_blank\" href=\"https://shebanq.ancient-data.org/hebrew/word?version=c&amp;id=1W\" title=\"show this lexeme in SHEBANQ\">וְ</a></div>\n",
       "<div class=\"features\"> <span class=\"pdp\"><a href=\"https://shebanq.ancient-data.org/hebrew/text?book=Jeremia&amp;chapter=25&amp;verse=3&amp;version=c&amp;mr=m&amp;qw=q&amp;tp=txt_p&amp;tr=hb&amp;wget=v&amp;qget=v&amp;nget=vt\" title=\"Jeremiah 25:3\" sec=\"Jeremiah 25:3\">conj</a></span> <span class=\"gloss\">and</span> <span class=\"lex xft\"><span class=\"f\">lex=</span>W</span></div>\n",
       "\n",
       "\n",
       "</div>\n",
       "\n",
       "\n",
       "    </div>\n",
       "\n",
       "\n",
       "</div>\n",
       "\n",
       "<div class=\"patom  r \" >\n",
       "\n",
       "    <div class=\"phrase \" >\n",
       "        <a href=\"https://shebanq.ancient-data.org/hebrew/text?book=Jeremia&amp;chapter=25&amp;verse=3&amp;version=c&amp;mr=m&amp;qw=q&amp;tp=txt_p&amp;tr=hb&amp;wget=v&amp;qget=v&amp;nget=vt\" title=\"Jeremiah 25:3\" sec=\"Jeremiah 25:3\">phrase</a> <a href=\"#\" class=\"nd\">796970</a>  <span class=\"function\">Time</span> <span class=\"typ\">PP</span>\n",
       "    </div>\n",
       "    <div class=\"atoms\">\n",
       "\n",
       "<div class=\"word  hl\"  style=\"background-color: #96ceb4;\" >\n",
       "<a href=\"#\" class=\"nd\">247050</a>\n",
       "<div class=\"h\"><a target=\"_blank\" href=\"https://shebanq.ancient-data.org/hebrew/word?version=c&amp;id=1OD\" title=\"show this lexeme in SHEBANQ\">עַ֣ד׀ </a></div>\n",
       "<div class=\"features\"> <span class=\"pdp\"><a href=\"https://shebanq.ancient-data.org/hebrew/text?book=Jeremia&amp;chapter=25&amp;verse=3&amp;version=c&amp;mr=m&amp;qw=q&amp;tp=txt_p&amp;tr=hb&amp;wget=v&amp;qget=v&amp;nget=vt\" title=\"Jeremiah 25:3\" sec=\"Jeremiah 25:3\">prep</a></span> <span class=\"gloss\">unto</span> <span class=\"lex xft\"><span class=\"f\">lex=</span>&lt;D</span></div>\n",
       "\n",
       "\n",
       "</div>\n",
       "\n",
       "<div class=\"word  hl\"  style=\"background-color: #96ceb4;\" >\n",
       "<a href=\"#\" class=\"nd\">247051</a>\n",
       "<div class=\"h\"><a target=\"_blank\" href=\"https://shebanq.ancient-data.org/hebrew/word?version=c&amp;id=1H\" title=\"show this lexeme in SHEBANQ\">הַ</a></div>\n",
       "<div class=\"features\"> <span class=\"pdp\"><a href=\"https://shebanq.ancient-data.org/hebrew/text?book=Jeremia&amp;chapter=25&amp;verse=3&amp;version=c&amp;mr=m&amp;qw=q&amp;tp=txt_p&amp;tr=hb&amp;wget=v&amp;qget=v&amp;nget=vt\" title=\"Jeremiah 25:3\" sec=\"Jeremiah 25:3\">art</a></span> <span class=\"gloss\">the</span> <span class=\"lex xft\"><span class=\"f\">lex=</span>H</span></div>\n",
       "\n",
       "\n",
       "</div>\n",
       "\n",
       "<div class=\"word  hl\"  style=\"background-color: #96ceb4;\" >\n",
       "<a href=\"#\" class=\"nd\">247052</a>\n",
       "<div class=\"h\"><a target=\"_blank\" href=\"https://shebanq.ancient-data.org/hebrew/word?version=c&amp;id=1JWMn\" title=\"show this lexeme in SHEBANQ\">יֹּ֣ום </a></div>\n",
       "<div class=\"features\"> <span class=\"pdp\"><a href=\"https://shebanq.ancient-data.org/hebrew/text?book=Jeremia&amp;chapter=25&amp;verse=3&amp;version=c&amp;mr=m&amp;qw=q&amp;tp=txt_p&amp;tr=hb&amp;wget=v&amp;qget=v&amp;nget=vt\" title=\"Jeremiah 25:3\" sec=\"Jeremiah 25:3\">subs</a></span> <span class=\"gloss\">day</span> <span class=\"lex xft\"><span class=\"f\">lex=</span>JWM/</span></div>\n",
       "\n",
       "\n",
       "</div>\n",
       "\n",
       "<div class=\"word  hl\"  style=\"background-color: #96ceb4;\" >\n",
       "<a href=\"#\" class=\"nd\">247053</a>\n",
       "<div class=\"h\"><a target=\"_blank\" href=\"https://shebanq.ancient-data.org/hebrew/word?version=c&amp;id=1H\" title=\"show this lexeme in SHEBANQ\">הַ</a></div>\n",
       "<div class=\"features\"> <span class=\"pdp\"><a href=\"https://shebanq.ancient-data.org/hebrew/text?book=Jeremia&amp;chapter=25&amp;verse=3&amp;version=c&amp;mr=m&amp;qw=q&amp;tp=txt_p&amp;tr=hb&amp;wget=v&amp;qget=v&amp;nget=vt\" title=\"Jeremiah 25:3\" sec=\"Jeremiah 25:3\">art</a></span> <span class=\"gloss\">the</span> <span class=\"lex xft\"><span class=\"f\">lex=</span>H</span></div>\n",
       "\n",
       "\n",
       "</div>\n",
       "\n",
       "<div class=\"word  hl\"  style=\"background-color: #96ceb4;\" >\n",
       "<a href=\"#\" class=\"nd\">247054</a>\n",
       "<div class=\"h\"><a target=\"_blank\" href=\"https://shebanq.ancient-data.org/hebrew/word?version=c&amp;id=1ZH\" title=\"show this lexeme in SHEBANQ\">זֶּ֗ה </a></div>\n",
       "<div class=\"features\"> <span class=\"pdp\"><a href=\"https://shebanq.ancient-data.org/hebrew/text?book=Jeremia&amp;chapter=25&amp;verse=3&amp;version=c&amp;mr=m&amp;qw=q&amp;tp=txt_p&amp;tr=hb&amp;wget=v&amp;qget=v&amp;nget=vt\" title=\"Jeremiah 25:3\" sec=\"Jeremiah 25:3\">prde</a></span> <span class=\"gloss\">this</span> <span class=\"lex xft\"><span class=\"f\">lex=</span>ZH</span></div>\n",
       "\n",
       "\n",
       "</div>\n",
       "\n",
       "\n",
       "    </div>\n",
       "\n",
       "\n",
       "</div>\n",
       "\n",
       "\n",
       "</div>\n"
      ],
      "text/plain": [
       "<IPython.core.display.HTML object>"
      ]
     },
     "metadata": {},
     "output_type": "display_data"
    },
    {
     "data": {
      "text/html": [
       "<div style=\"background: #96ceb4; text-align: center\">part2</div>"
      ],
      "text/plain": [
       "<IPython.core.display.HTML object>"
      ]
     },
     "metadata": {},
     "output_type": "display_data"
    },
    {
     "data": {
      "text/html": [
       "<div style=\"background: #ffeead; text-align: center\">conj</div>"
      ],
      "text/plain": [
       "<IPython.core.display.HTML object>"
      ]
     },
     "metadata": {},
     "output_type": "display_data"
    },
    {
     "data": {
      "text/html": [
       "<div style=\"background: #ffcc5c; text-align: center\">part1</div>"
      ],
      "text/plain": [
       "<IPython.core.display.HTML object>"
      ]
     },
     "metadata": {},
     "output_type": "display_data"
    },
    {
     "name": "stdout",
     "output_type": "stream",
     "text": [
      "{   '__cx__': 'coord',\n",
      "    'conj': {'__cx__': 'conj', 'head': 247049},\n",
      "    'part1': {   '__cx__': 'prep_ph',\n",
      "                 'head': {   '__cx__': 'numb_ph',\n",
      "                             'head': {'__cx__': 'cont', 'head': 247042},\n",
      "                             'numb': {   '__cx__': 'card_chain',\n",
      "                                         'card': {   '__cx__': 'card',\n",
      "                                                     'head': 247041},\n",
      "                                         'head': {   '__cx__': 'card',\n",
      "                                                     'head': 247040}}},\n",
      "                 'prep': {'__cx__': 'prep', 'head': 247039}},\n",
      "    'part2': {   '__cx__': 'prep_ph',\n",
      "                 'head': {   '__cx__': 'attrib_ph',\n",
      "                             'attrib': {   '__cx__': 'defi_ph',\n",
      "                                           'art': {   '__cx__': 'art',\n",
      "                                                      'head': 247053},\n",
      "                                           'head': {   '__cx__': 'prde',\n",
      "                                                       'head': 247054}},\n",
      "                             'head': {   '__cx__': 'defi_ph',\n",
      "                                         'art': {   '__cx__': 'art',\n",
      "                                                    'head': 247051},\n",
      "                                         'head': {   '__cx__': 'cont',\n",
      "                                                     'head': 247052}}},\n",
      "                 'prep': {'__cx__': 'prep', 'head': 247050}}}\n",
      "\n"
     ]
    },
    {
     "data": {
      "text/html": [
       "<hr>"
      ],
      "text/plain": [
       "<IPython.core.display.HTML object>"
      ]
     },
     "metadata": {},
     "output_type": "display_data"
    },
    {
     "data": {
      "text/html": [
       "<p><b>result</b> <i>1449347 -> CX coord {262592, 262590, 262591}</i></p>"
      ],
      "text/plain": [
       "<IPython.core.display.HTML object>"
      ]
     },
     "metadata": {},
     "output_type": "display_data"
    },
    {
     "data": {
      "text/html": [
       "<a href=\"https://shebanq.ancient-data.org/hebrew/text?book=Jeremia&amp;chapter=50&amp;verse=39&amp;version=c&amp;mr=m&amp;qw=q&amp;tp=txt_p&amp;tr=hb&amp;wget=v&amp;qget=v&amp;nget=vt\" title=\"show this passage in SHEBANQ\" sec=\"Jeremiah 50:39\">Jeremiah 50:39</a>\n",
       "<div class=\"atoms  \" >\n",
       "<a href=\"#\" class=\"nd\">805550</a>\n",
       "\n",
       "\n",
       "\n",
       "<div class=\"patom  \" >\n",
       "\n",
       "    <div class=\"phrase \" >\n",
       "        <a href=\"https://shebanq.ancient-data.org/hebrew/text?book=Jeremia&amp;chapter=50&amp;verse=39&amp;version=c&amp;mr=m&amp;qw=q&amp;tp=txt_p&amp;tr=hb&amp;wget=v&amp;qget=v&amp;nget=vt\" title=\"Jeremiah 50:39\" sec=\"Jeremiah 50:39\">phrase</a> <a href=\"#\" class=\"nd\">805550</a>  <span class=\"function\">Time</span> <span class=\"typ\">PP</span>\n",
       "    </div>\n",
       "    <div class=\"atoms\">\n",
       "\n",
       "<div class=\"word  \" >\n",
       "<a href=\"#\" class=\"nd\">262589</a>\n",
       "<div class=\"h\"><a target=\"_blank\" href=\"https://shebanq.ancient-data.org/hebrew/word?version=c&amp;id=1OD\" title=\"show this lexeme in SHEBANQ\">עַד־</a></div>\n",
       "<div class=\"features\"> <span class=\"pdp\"><a href=\"https://shebanq.ancient-data.org/hebrew/text?book=Jeremia&amp;chapter=50&amp;verse=39&amp;version=c&amp;mr=m&amp;qw=q&amp;tp=txt_p&amp;tr=hb&amp;wget=v&amp;qget=v&amp;nget=vt\" title=\"Jeremiah 50:39\" sec=\"Jeremiah 50:39\">prep</a></span> <span class=\"gloss\">unto</span> <span class=\"lex xft\"><span class=\"f\">lex=</span>&lt;D</span></div>\n",
       "\n",
       "\n",
       "</div>\n",
       "\n",
       "<div class=\"word  hl\"  style=\"background-color: #ffcc5c;\" >\n",
       "<a href=\"#\" class=\"nd\">262590</a>\n",
       "<div class=\"h\"><a target=\"_blank\" href=\"https://shebanq.ancient-data.org/hebrew/word?version=c&amp;id=1DWRn\" title=\"show this lexeme in SHEBANQ\">דֹּ֥ור </a></div>\n",
       "<div class=\"features\"> <span class=\"pdp\"><a href=\"https://shebanq.ancient-data.org/hebrew/text?book=Jeremia&amp;chapter=50&amp;verse=39&amp;version=c&amp;mr=m&amp;qw=q&amp;tp=txt_p&amp;tr=hb&amp;wget=v&amp;qget=v&amp;nget=vt\" title=\"Jeremiah 50:39\" sec=\"Jeremiah 50:39\">subs</a></span> <span class=\"gloss\">generation</span> <span class=\"lex xft\"><span class=\"f\">lex=</span>DWR/</span></div>\n",
       "\n",
       "\n",
       "</div>\n",
       "\n",
       "<div class=\"word  hl\"  style=\"background-color: #ffeead;\" >\n",
       "<a href=\"#\" class=\"nd\">262591</a>\n",
       "<div class=\"h\"><a target=\"_blank\" href=\"https://shebanq.ancient-data.org/hebrew/word?version=c&amp;id=1W\" title=\"show this lexeme in SHEBANQ\">וָ</a></div>\n",
       "<div class=\"features\"> <span class=\"pdp\"><a href=\"https://shebanq.ancient-data.org/hebrew/text?book=Jeremia&amp;chapter=50&amp;verse=39&amp;version=c&amp;mr=m&amp;qw=q&amp;tp=txt_p&amp;tr=hb&amp;wget=v&amp;qget=v&amp;nget=vt\" title=\"Jeremiah 50:39\" sec=\"Jeremiah 50:39\">conj</a></span> <span class=\"gloss\">and</span> <span class=\"lex xft\"><span class=\"f\">lex=</span>W</span></div>\n",
       "\n",
       "\n",
       "</div>\n",
       "\n",
       "<div class=\"word  hl\"  style=\"background-color: #96ceb4;\" >\n",
       "<a href=\"#\" class=\"nd\">262592</a>\n",
       "<div class=\"h\"><a target=\"_blank\" href=\"https://shebanq.ancient-data.org/hebrew/word?version=c&amp;id=1DWRn\" title=\"show this lexeme in SHEBANQ\">דֹֽור׃ </a></div>\n",
       "<div class=\"features\"> <span class=\"pdp\"><a href=\"https://shebanq.ancient-data.org/hebrew/text?book=Jeremia&amp;chapter=50&amp;verse=39&amp;version=c&amp;mr=m&amp;qw=q&amp;tp=txt_p&amp;tr=hb&amp;wget=v&amp;qget=v&amp;nget=vt\" title=\"Jeremiah 50:39\" sec=\"Jeremiah 50:39\">subs</a></span> <span class=\"gloss\">generation</span> <span class=\"lex xft\"><span class=\"f\">lex=</span>DWR/</span></div>\n",
       "\n",
       "\n",
       "</div>\n",
       "\n",
       "\n",
       "    </div>\n",
       "\n",
       "\n",
       "</div>\n",
       "\n",
       "\n",
       "</div>\n"
      ],
      "text/plain": [
       "<IPython.core.display.HTML object>"
      ]
     },
     "metadata": {},
     "output_type": "display_data"
    },
    {
     "data": {
      "text/html": [
       "<div style=\"background: #96ceb4; text-align: center\">part2</div>"
      ],
      "text/plain": [
       "<IPython.core.display.HTML object>"
      ]
     },
     "metadata": {},
     "output_type": "display_data"
    },
    {
     "data": {
      "text/html": [
       "<div style=\"background: #ffeead; text-align: center\">conj</div>"
      ],
      "text/plain": [
       "<IPython.core.display.HTML object>"
      ]
     },
     "metadata": {},
     "output_type": "display_data"
    },
    {
     "data": {
      "text/html": [
       "<div style=\"background: #ffcc5c; text-align: center\">part1</div>"
      ],
      "text/plain": [
       "<IPython.core.display.HTML object>"
      ]
     },
     "metadata": {},
     "output_type": "display_data"
    },
    {
     "name": "stdout",
     "output_type": "stream",
     "text": [
      "{   '__cx__': 'coord',\n",
      "    'conj': {'__cx__': 'conj', 'head': 262591},\n",
      "    'part1': {'__cx__': 'cont', 'head': 262590},\n",
      "    'part2': {'__cx__': 'cont', 'head': 262592}}\n",
      "\n"
     ]
    },
    {
     "data": {
      "text/html": [
       "<hr>"
      ],
      "text/plain": [
       "<IPython.core.display.HTML object>"
      ]
     },
     "metadata": {},
     "output_type": "display_data"
    },
    {
     "data": {
      "text/html": [
       "<p><b>result</b> <i>1449433 -> CX coord {281784, 281785, 281786}</i></p>"
      ],
      "text/plain": [
       "<IPython.core.display.HTML object>"
      ]
     },
     "metadata": {},
     "output_type": "display_data"
    },
    {
     "data": {
      "text/html": [
       "<a href=\"https://shebanq.ancient-data.org/hebrew/text?book=Ezechiel&amp;chapter=34&amp;verse=12&amp;version=c&amp;mr=m&amp;qw=q&amp;tp=txt_p&amp;tr=hb&amp;wget=v&amp;qget=v&amp;nget=vt\" title=\"show this passage in SHEBANQ\" sec=\"Ezekiel 34:12\">Ezekiel 34:12</a>\n",
       "<div class=\"atoms  \" >\n",
       "<a href=\"#\" class=\"nd\">817713</a>\n",
       "\n",
       "\n",
       "\n",
       "<div class=\"patom  \" >\n",
       "\n",
       "    <div class=\"phrase \" >\n",
       "        <a href=\"https://shebanq.ancient-data.org/hebrew/text?book=Ezechiel&amp;chapter=34&amp;verse=12&amp;version=c&amp;mr=m&amp;qw=q&amp;tp=txt_p&amp;tr=hb&amp;wget=v&amp;qget=v&amp;nget=vt\" title=\"Ezekiel 34:12\" sec=\"Ezekiel 34:12\">phrase</a> <a href=\"#\" class=\"nd\">817713</a>  <span class=\"function\">Time</span> <span class=\"typ\">PP</span>\n",
       "    </div>\n",
       "    <div class=\"atoms\">\n",
       "\n",
       "<div class=\"word  \" >\n",
       "<a href=\"#\" class=\"nd\">281782</a>\n",
       "<div class=\"h\"><a target=\"_blank\" href=\"https://shebanq.ancient-data.org/hebrew/word?version=c&amp;id=1B\" title=\"show this lexeme in SHEBANQ\">בְּ</a></div>\n",
       "<div class=\"features\"> <span class=\"pdp\"><a href=\"https://shebanq.ancient-data.org/hebrew/text?book=Ezechiel&amp;chapter=34&amp;verse=12&amp;version=c&amp;mr=m&amp;qw=q&amp;tp=txt_p&amp;tr=hb&amp;wget=v&amp;qget=v&amp;nget=vt\" title=\"Ezekiel 34:12\" sec=\"Ezekiel 34:12\">prep</a></span> <span class=\"gloss\">in</span> <span class=\"lex xft\"><span class=\"f\">lex=</span>B</span></div>\n",
       "\n",
       "\n",
       "</div>\n",
       "\n",
       "<div class=\"word  \" >\n",
       "<a href=\"#\" class=\"nd\">281783</a>\n",
       "<div class=\"h\"><a target=\"_blank\" href=\"https://shebanq.ancient-data.org/hebrew/word?version=c&amp;id=1JWMn\" title=\"show this lexeme in SHEBANQ\">יֹ֥ום </a></div>\n",
       "<div class=\"features\"> <span class=\"pdp\"><a href=\"https://shebanq.ancient-data.org/hebrew/text?book=Ezechiel&amp;chapter=34&amp;verse=12&amp;version=c&amp;mr=m&amp;qw=q&amp;tp=txt_p&amp;tr=hb&amp;wget=v&amp;qget=v&amp;nget=vt\" title=\"Ezekiel 34:12\" sec=\"Ezekiel 34:12\">subs</a></span> <span class=\"gloss\">day</span> <span class=\"lex xft\"><span class=\"f\">lex=</span>JWM/</span></div>\n",
       "\n",
       "\n",
       "</div>\n",
       "\n",
       "<div class=\"word  hl\"  style=\"background-color: #ffcc5c;\" >\n",
       "<a href=\"#\" class=\"nd\">281784</a>\n",
       "<div class=\"h\"><a target=\"_blank\" href=\"https://shebanq.ancient-data.org/hebrew/word?version=c&amp;id=1ONNn\" title=\"show this lexeme in SHEBANQ\">עָנָ֖ן </a></div>\n",
       "<div class=\"features\"> <span class=\"pdp\"><a href=\"https://shebanq.ancient-data.org/hebrew/text?book=Ezechiel&amp;chapter=34&amp;verse=12&amp;version=c&amp;mr=m&amp;qw=q&amp;tp=txt_p&amp;tr=hb&amp;wget=v&amp;qget=v&amp;nget=vt\" title=\"Ezekiel 34:12\" sec=\"Ezekiel 34:12\">subs</a></span> <span class=\"gloss\">cloud</span> <span class=\"lex xft\"><span class=\"f\">lex=</span>&lt;NN/</span></div>\n",
       "\n",
       "\n",
       "</div>\n",
       "\n",
       "<div class=\"word  hl\"  style=\"background-color: #ffeead;\" >\n",
       "<a href=\"#\" class=\"nd\">281785</a>\n",
       "<div class=\"h\"><a target=\"_blank\" href=\"https://shebanq.ancient-data.org/hebrew/word?version=c&amp;id=1W\" title=\"show this lexeme in SHEBANQ\">וַ</a></div>\n",
       "<div class=\"features\"> <span class=\"pdp\"><a href=\"https://shebanq.ancient-data.org/hebrew/text?book=Ezechiel&amp;chapter=34&amp;verse=12&amp;version=c&amp;mr=m&amp;qw=q&amp;tp=txt_p&amp;tr=hb&amp;wget=v&amp;qget=v&amp;nget=vt\" title=\"Ezekiel 34:12\" sec=\"Ezekiel 34:12\">conj</a></span> <span class=\"gloss\">and</span> <span class=\"lex xft\"><span class=\"f\">lex=</span>W</span></div>\n",
       "\n",
       "\n",
       "</div>\n",
       "\n",
       "<div class=\"word  hl\"  style=\"background-color: #96ceb4;\" >\n",
       "<a href=\"#\" class=\"nd\">281786</a>\n",
       "<div class=\"h\"><a target=\"_blank\" href=\"https://shebanq.ancient-data.org/hebrew/word?version=c&amp;id=1ORPLn\" title=\"show this lexeme in SHEBANQ\">עֲרָפֶֽל׃ </a></div>\n",
       "<div class=\"features\"> <span class=\"pdp\"><a href=\"https://shebanq.ancient-data.org/hebrew/text?book=Ezechiel&amp;chapter=34&amp;verse=12&amp;version=c&amp;mr=m&amp;qw=q&amp;tp=txt_p&amp;tr=hb&amp;wget=v&amp;qget=v&amp;nget=vt\" title=\"Ezekiel 34:12\" sec=\"Ezekiel 34:12\">subs</a></span> <span class=\"gloss\">darkness</span> <span class=\"lex xft\"><span class=\"f\">lex=</span>&lt;RPL/</span></div>\n",
       "\n",
       "\n",
       "</div>\n",
       "\n",
       "\n",
       "    </div>\n",
       "\n",
       "\n",
       "</div>\n",
       "\n",
       "\n",
       "</div>\n"
      ],
      "text/plain": [
       "<IPython.core.display.HTML object>"
      ]
     },
     "metadata": {},
     "output_type": "display_data"
    },
    {
     "data": {
      "text/html": [
       "<div style=\"background: #96ceb4; text-align: center\">part2</div>"
      ],
      "text/plain": [
       "<IPython.core.display.HTML object>"
      ]
     },
     "metadata": {},
     "output_type": "display_data"
    },
    {
     "data": {
      "text/html": [
       "<div style=\"background: #ffeead; text-align: center\">conj</div>"
      ],
      "text/plain": [
       "<IPython.core.display.HTML object>"
      ]
     },
     "metadata": {},
     "output_type": "display_data"
    },
    {
     "data": {
      "text/html": [
       "<div style=\"background: #ffcc5c; text-align: center\">part1</div>"
      ],
      "text/plain": [
       "<IPython.core.display.HTML object>"
      ]
     },
     "metadata": {},
     "output_type": "display_data"
    },
    {
     "name": "stdout",
     "output_type": "stream",
     "text": [
      "{   '__cx__': 'coord',\n",
      "    'conj': {'__cx__': 'conj', 'head': 281785},\n",
      "    'part1': {'__cx__': 'cont', 'head': 281784},\n",
      "    'part2': {'__cx__': 'cont', 'head': 281786}}\n",
      "\n"
     ]
    },
    {
     "data": {
      "text/html": [
       "<hr>"
      ],
      "text/plain": [
       "<IPython.core.display.HTML object>"
      ]
     },
     "metadata": {},
     "output_type": "display_data"
    },
    {
     "data": {
      "text/html": [
       "<p><b>result</b> <i>1449460 -> CX coord {287715, 287716, 287717, 287718}</i></p>"
      ],
      "text/plain": [
       "<IPython.core.display.HTML object>"
      ]
     },
     "metadata": {},
     "output_type": "display_data"
    },
    {
     "data": {
      "text/html": [
       "<a href=\"https://shebanq.ancient-data.org/hebrew/text?book=Ezechiel&amp;chapter=43&amp;verse=27&amp;version=c&amp;mr=m&amp;qw=q&amp;tp=txt_p&amp;tr=hb&amp;wget=v&amp;qget=v&amp;nget=vt\" title=\"show this passage in SHEBANQ\" sec=\"Ezekiel 43:27\">Ezekiel 43:27</a>\n",
       "<div class=\"atoms  \" >\n",
       "<a href=\"#\" class=\"nd\">820983</a>\n",
       "\n",
       "\n",
       "\n",
       "<div class=\"patom  l \" >\n",
       "\n",
       "    <div class=\"phrase \" >\n",
       "        <a href=\"https://shebanq.ancient-data.org/hebrew/text?book=Ezechiel&amp;chapter=43&amp;verse=27&amp;version=c&amp;mr=m&amp;qw=q&amp;tp=txt_p&amp;tr=hb&amp;wget=v&amp;qget=v&amp;nget=vt\" title=\"Ezekiel 43:27\" sec=\"Ezekiel 43:27\">phrase</a> <a href=\"#\" class=\"nd\">820983</a>  <span class=\"function\">Time</span> <span class=\"typ\">PP</span>\n",
       "    </div>\n",
       "    <div class=\"atoms\">\n",
       "\n",
       "<div class=\"word  \" >\n",
       "<a href=\"#\" class=\"nd\">287712</a>\n",
       "<div class=\"h\"><a target=\"_blank\" href=\"https://shebanq.ancient-data.org/hebrew/word?version=c&amp;id=1B\" title=\"show this lexeme in SHEBANQ\">בַ</a></div>\n",
       "<div class=\"features\"> <span class=\"pdp\"><a href=\"https://shebanq.ancient-data.org/hebrew/text?book=Ezechiel&amp;chapter=43&amp;verse=27&amp;version=c&amp;mr=m&amp;qw=q&amp;tp=txt_p&amp;tr=hb&amp;wget=v&amp;qget=v&amp;nget=vt\" title=\"Ezekiel 43:27\" sec=\"Ezekiel 43:27\">prep</a></span> <span class=\"gloss\">in</span> <span class=\"lex xft\"><span class=\"f\">lex=</span>B</span></div>\n",
       "\n",
       "\n",
       "</div>\n",
       "\n",
       "<div class=\"word  \" >\n",
       "<a href=\"#\" class=\"nd\">287713</a>\n",
       "<div class=\"h\"><a target=\"_blank\" href=\"https://shebanq.ancient-data.org/hebrew/word?version=c&amp;id=1H\" title=\"show this lexeme in SHEBANQ\"></a></div>\n",
       "<div class=\"features\"> <span class=\"pdp\"><a href=\"https://shebanq.ancient-data.org/hebrew/text?book=Ezechiel&amp;chapter=43&amp;verse=27&amp;version=c&amp;mr=m&amp;qw=q&amp;tp=txt_p&amp;tr=hb&amp;wget=v&amp;qget=v&amp;nget=vt\" title=\"Ezekiel 43:27\" sec=\"Ezekiel 43:27\">art</a></span> <span class=\"gloss\">the</span> <span class=\"lex xft\"><span class=\"f\">lex=</span>H</span></div>\n",
       "\n",
       "\n",
       "</div>\n",
       "\n",
       "<div class=\"word  \" >\n",
       "<a href=\"#\" class=\"nd\">287714</a>\n",
       "<div class=\"h\"><a target=\"_blank\" href=\"https://shebanq.ancient-data.org/hebrew/word?version=c&amp;id=1JWMn\" title=\"show this lexeme in SHEBANQ\">יֹּ֨ום </a></div>\n",
       "<div class=\"features\"> <span class=\"pdp\"><a href=\"https://shebanq.ancient-data.org/hebrew/text?book=Ezechiel&amp;chapter=43&amp;verse=27&amp;version=c&amp;mr=m&amp;qw=q&amp;tp=txt_p&amp;tr=hb&amp;wget=v&amp;qget=v&amp;nget=vt\" title=\"Ezekiel 43:27\" sec=\"Ezekiel 43:27\">subs</a></span> <span class=\"gloss\">day</span> <span class=\"lex xft\"><span class=\"f\">lex=</span>JWM/</span></div>\n",
       "\n",
       "\n",
       "</div>\n",
       "\n",
       "<div class=\"word  hl\"  style=\"background-color: #ffcc5c;\" >\n",
       "<a href=\"#\" class=\"nd\">287715</a>\n",
       "<div class=\"h\"><a target=\"_blank\" href=\"https://shebanq.ancient-data.org/hebrew/word?version=c&amp;id=1H\" title=\"show this lexeme in SHEBANQ\">הַ</a></div>\n",
       "<div class=\"features\"> <span class=\"pdp\"><a href=\"https://shebanq.ancient-data.org/hebrew/text?book=Ezechiel&amp;chapter=43&amp;verse=27&amp;version=c&amp;mr=m&amp;qw=q&amp;tp=txt_p&amp;tr=hb&amp;wget=v&amp;qget=v&amp;nget=vt\" title=\"Ezekiel 43:27\" sec=\"Ezekiel 43:27\">art</a></span> <span class=\"gloss\">the</span> <span class=\"lex xft\"><span class=\"f\">lex=</span>H</span></div>\n",
       "\n",
       "\n",
       "</div>\n",
       "\n",
       "<div class=\"word  hl\"  style=\"background-color: #ffcc5c;\" >\n",
       "<a href=\"#\" class=\"nd\">287716</a>\n",
       "<div class=\"h\"><a target=\"_blank\" href=\"https://shebanq.ancient-data.org/hebrew/word?version=c&amp;id=1CMJNJn\" title=\"show this lexeme in SHEBANQ\">שְּׁמִינִ֜י </a></div>\n",
       "<div class=\"features\"> <span class=\"pdp\"><a href=\"https://shebanq.ancient-data.org/hebrew/text?book=Ezechiel&amp;chapter=43&amp;verse=27&amp;version=c&amp;mr=m&amp;qw=q&amp;tp=txt_p&amp;tr=hb&amp;wget=v&amp;qget=v&amp;nget=vt\" title=\"Ezekiel 43:27\" sec=\"Ezekiel 43:27\">adjv</a></span> <span class=\"gloss\">eighth</span> <span class=\"lex xft\"><span class=\"f\">lex=</span>CMJNJ/</span></div>\n",
       "\n",
       "\n",
       "</div>\n",
       "\n",
       "\n",
       "    </div>\n",
       "\n",
       "\n",
       "</div>\n",
       "\n",
       "<div class=\"patom  r l \" >\n",
       "\n",
       "    <div class=\"phrase \" >\n",
       "        <a href=\"https://shebanq.ancient-data.org/hebrew/text?book=Ezechiel&amp;chapter=43&amp;verse=27&amp;version=c&amp;mr=m&amp;qw=q&amp;tp=txt_p&amp;tr=hb&amp;wget=v&amp;qget=v&amp;nget=vt\" title=\"Ezekiel 43:27\" sec=\"Ezekiel 43:27\">phrase</a> <a href=\"#\" class=\"nd\">820983</a>  <span class=\"function\">Time</span> <span class=\"typ\">PP|CP</span>\n",
       "    </div>\n",
       "    <div class=\"atoms\">\n",
       "\n",
       "<div class=\"word  hl\"  style=\"background-color: #ffeead;\" >\n",
       "<a href=\"#\" class=\"nd\">287717</a>\n",
       "<div class=\"h\"><a target=\"_blank\" href=\"https://shebanq.ancient-data.org/hebrew/word?version=c&amp;id=1W\" title=\"show this lexeme in SHEBANQ\">וָ</a></div>\n",
       "<div class=\"features\"> <span class=\"pdp\"><a href=\"https://shebanq.ancient-data.org/hebrew/text?book=Ezechiel&amp;chapter=43&amp;verse=27&amp;version=c&amp;mr=m&amp;qw=q&amp;tp=txt_p&amp;tr=hb&amp;wget=v&amp;qget=v&amp;nget=vt\" title=\"Ezekiel 43:27\" sec=\"Ezekiel 43:27\">conj</a></span> <span class=\"gloss\">and</span> <span class=\"lex xft\"><span class=\"f\">lex=</span>W</span></div>\n",
       "\n",
       "\n",
       "</div>\n",
       "\n",
       "\n",
       "    </div>\n",
       "\n",
       "\n",
       "</div>\n",
       "\n",
       "<div class=\"patom  r \" >\n",
       "\n",
       "    <div class=\"phrase \" >\n",
       "        <a href=\"https://shebanq.ancient-data.org/hebrew/text?book=Ezechiel&amp;chapter=43&amp;verse=27&amp;version=c&amp;mr=m&amp;qw=q&amp;tp=txt_p&amp;tr=hb&amp;wget=v&amp;qget=v&amp;nget=vt\" title=\"Ezekiel 43:27\" sec=\"Ezekiel 43:27\">phrase</a> <a href=\"#\" class=\"nd\">820983</a>  <span class=\"function\">Time</span> <span class=\"typ\">PP|AdvP</span>\n",
       "    </div>\n",
       "    <div class=\"atoms\">\n",
       "\n",
       "<div class=\"word  hl\"  style=\"background-color: #96ceb4;\" >\n",
       "<a href=\"#\" class=\"nd\">287718</a>\n",
       "<div class=\"h\"><a target=\"_blank\" href=\"https://shebanq.ancient-data.org/hebrew/word?version=c&amp;id=1HLAH\" title=\"show this lexeme in SHEBANQ\">הָ֗לְאָה </a></div>\n",
       "<div class=\"features\"> <span class=\"pdp\"><a href=\"https://shebanq.ancient-data.org/hebrew/text?book=Ezechiel&amp;chapter=43&amp;verse=27&amp;version=c&amp;mr=m&amp;qw=q&amp;tp=txt_p&amp;tr=hb&amp;wget=v&amp;qget=v&amp;nget=vt\" title=\"Ezekiel 43:27\" sec=\"Ezekiel 43:27\">advb</a></span> <span class=\"gloss\">further</span> <span class=\"lex xft\"><span class=\"f\">lex=</span>HL>H</span></div>\n",
       "\n",
       "\n",
       "</div>\n",
       "\n",
       "\n",
       "    </div>\n",
       "\n",
       "\n",
       "</div>\n",
       "\n",
       "\n",
       "</div>\n"
      ],
      "text/plain": [
       "<IPython.core.display.HTML object>"
      ]
     },
     "metadata": {},
     "output_type": "display_data"
    },
    {
     "data": {
      "text/html": [
       "<div style=\"background: #96ceb4; text-align: center\">part2</div>"
      ],
      "text/plain": [
       "<IPython.core.display.HTML object>"
      ]
     },
     "metadata": {},
     "output_type": "display_data"
    },
    {
     "data": {
      "text/html": [
       "<div style=\"background: #ffeead; text-align: center\">conj</div>"
      ],
      "text/plain": [
       "<IPython.core.display.HTML object>"
      ]
     },
     "metadata": {},
     "output_type": "display_data"
    },
    {
     "data": {
      "text/html": [
       "<div style=\"background: #ffcc5c; text-align: center\">part1</div>"
      ],
      "text/plain": [
       "<IPython.core.display.HTML object>"
      ]
     },
     "metadata": {},
     "output_type": "display_data"
    },
    {
     "name": "stdout",
     "output_type": "stream",
     "text": [
      "{   '__cx__': 'coord',\n",
      "    'conj': {'__cx__': 'conj', 'head': 287717},\n",
      "    'part1': {   '__cx__': 'defi_ph',\n",
      "                 'art': {'__cx__': 'art', 'head': 287715},\n",
      "                 'head': {'__cx__': 'ordn', 'head': 287716}},\n",
      "    'part2': {'__cx__': 'cont', 'head': 287718}}\n",
      "\n"
     ]
    },
    {
     "data": {
      "text/html": [
       "<hr>"
      ],
      "text/plain": [
       "<IPython.core.display.HTML object>"
      ]
     },
     "metadata": {},
     "output_type": "display_data"
    },
    {
     "data": {
      "text/html": [
       "<p><b>result</b> <i>1449463 -> CX coord {288840, 288841, 288842, 288843, 288844, 288845, 288846}</i></p>"
      ],
      "text/plain": [
       "<IPython.core.display.HTML object>"
      ]
     },
     "metadata": {},
     "output_type": "display_data"
    },
    {
     "data": {
      "text/html": [
       "<a href=\"https://shebanq.ancient-data.org/hebrew/text?book=Ezechiel&amp;chapter=45&amp;verse=17&amp;version=c&amp;mr=m&amp;qw=q&amp;tp=txt_p&amp;tr=hb&amp;wget=v&amp;qget=v&amp;nget=vt\" title=\"show this passage in SHEBANQ\" sec=\"Ezekiel 45:17\">Ezekiel 45:17</a>\n",
       "<div class=\"atoms  \" >\n",
       "<a href=\"#\" class=\"nd\">821526</a>\n",
       "\n",
       "\n",
       "\n",
       "<div class=\"patom  l \" >\n",
       "\n",
       "    <div class=\"phrase \" >\n",
       "        <a href=\"https://shebanq.ancient-data.org/hebrew/text?book=Ezechiel&amp;chapter=45&amp;verse=17&amp;version=c&amp;mr=m&amp;qw=q&amp;tp=txt_p&amp;tr=hb&amp;wget=v&amp;qget=v&amp;nget=vt\" title=\"Ezekiel 45:17\" sec=\"Ezekiel 45:17\">phrase</a> <a href=\"#\" class=\"nd\">821526</a>  <span class=\"function\">Time</span> <span class=\"typ\">PP</span>\n",
       "    </div>\n",
       "    <div class=\"atoms\">\n",
       "\n",
       "<div class=\"word  hl\"  style=\"background-color: #ffcc5c;\" >\n",
       "<a href=\"#\" class=\"nd\">288840</a>\n",
       "<div class=\"h\"><a target=\"_blank\" href=\"https://shebanq.ancient-data.org/hebrew/word?version=c&amp;id=1B\" title=\"show this lexeme in SHEBANQ\">בַּ</a></div>\n",
       "<div class=\"features\"> <span class=\"pdp\"><a href=\"https://shebanq.ancient-data.org/hebrew/text?book=Ezechiel&amp;chapter=45&amp;verse=17&amp;version=c&amp;mr=m&amp;qw=q&amp;tp=txt_p&amp;tr=hb&amp;wget=v&amp;qget=v&amp;nget=vt\" title=\"Ezekiel 45:17\" sec=\"Ezekiel 45:17\">prep</a></span> <span class=\"gloss\">in</span> <span class=\"lex xft\"><span class=\"f\">lex=</span>B</span></div>\n",
       "\n",
       "\n",
       "</div>\n",
       "\n",
       "<div class=\"word  hl\"  style=\"background-color: #ffcc5c;\" >\n",
       "<a href=\"#\" class=\"nd\">288841</a>\n",
       "<div class=\"h\"><a target=\"_blank\" href=\"https://shebanq.ancient-data.org/hebrew/word?version=c&amp;id=1H\" title=\"show this lexeme in SHEBANQ\"></a></div>\n",
       "<div class=\"features\"> <span class=\"pdp\"><a href=\"https://shebanq.ancient-data.org/hebrew/text?book=Ezechiel&amp;chapter=45&amp;verse=17&amp;version=c&amp;mr=m&amp;qw=q&amp;tp=txt_p&amp;tr=hb&amp;wget=v&amp;qget=v&amp;nget=vt\" title=\"Ezekiel 45:17\" sec=\"Ezekiel 45:17\">art</a></span> <span class=\"gloss\">the</span> <span class=\"lex xft\"><span class=\"f\">lex=</span>H</span></div>\n",
       "\n",
       "\n",
       "</div>\n",
       "\n",
       "<div class=\"word  hl\"  style=\"background-color: #ffcc5c;\" >\n",
       "<a href=\"#\" class=\"nd\">288842</a>\n",
       "<div class=\"h\"><a target=\"_blank\" href=\"https://shebanq.ancient-data.org/hebrew/word?version=c&amp;id=1XGn\" title=\"show this lexeme in SHEBANQ\">חַגִּ֤ים </a></div>\n",
       "<div class=\"features\"> <span class=\"pdp\"><a href=\"https://shebanq.ancient-data.org/hebrew/text?book=Ezechiel&amp;chapter=45&amp;verse=17&amp;version=c&amp;mr=m&amp;qw=q&amp;tp=txt_p&amp;tr=hb&amp;wget=v&amp;qget=v&amp;nget=vt\" title=\"Ezekiel 45:17\" sec=\"Ezekiel 45:17\">subs</a></span> <span class=\"gloss\">festival</span> <span class=\"lex xft\"><span class=\"f\">lex=</span>XG/</span></div>\n",
       "\n",
       "\n",
       "</div>\n",
       "\n",
       "<div class=\"word  hl\"  style=\"background-color: #ffeead;\" >\n",
       "<a href=\"#\" class=\"nd\">288843</a>\n",
       "<div class=\"h\"><a target=\"_blank\" href=\"https://shebanq.ancient-data.org/hebrew/word?version=c&amp;id=1W\" title=\"show this lexeme in SHEBANQ\">וּ</a></div>\n",
       "<div class=\"features\"> <span class=\"pdp\"><a href=\"https://shebanq.ancient-data.org/hebrew/text?book=Ezechiel&amp;chapter=45&amp;verse=17&amp;version=c&amp;mr=m&amp;qw=q&amp;tp=txt_p&amp;tr=hb&amp;wget=v&amp;qget=v&amp;nget=vt\" title=\"Ezekiel 45:17\" sec=\"Ezekiel 45:17\">conj</a></span> <span class=\"gloss\">and</span> <span class=\"lex xft\"><span class=\"f\">lex=</span>W</span></div>\n",
       "\n",
       "\n",
       "</div>\n",
       "\n",
       "<div class=\"word  hl\"  style=\"background-color: #96ceb4;\" >\n",
       "<a href=\"#\" class=\"nd\">288844</a>\n",
       "<div class=\"h\"><a target=\"_blank\" href=\"https://shebanq.ancient-data.org/hebrew/word?version=c&amp;id=1B\" title=\"show this lexeme in SHEBANQ\">בֶ</a></div>\n",
       "<div class=\"features\"> <span class=\"pdp\"><a href=\"https://shebanq.ancient-data.org/hebrew/text?book=Ezechiel&amp;chapter=45&amp;verse=17&amp;version=c&amp;mr=m&amp;qw=q&amp;tp=txt_p&amp;tr=hb&amp;wget=v&amp;qget=v&amp;nget=vt\" title=\"Ezekiel 45:17\" sec=\"Ezekiel 45:17\">prep</a></span> <span class=\"gloss\">in</span> <span class=\"lex xft\"><span class=\"f\">lex=</span>B</span></div>\n",
       "\n",
       "\n",
       "</div>\n",
       "\n",
       "<div class=\"word  hl\"  style=\"background-color: #96ceb4;\" >\n",
       "<a href=\"#\" class=\"nd\">288845</a>\n",
       "<div class=\"h\"><a target=\"_blank\" href=\"https://shebanq.ancient-data.org/hebrew/word?version=c&amp;id=1H\" title=\"show this lexeme in SHEBANQ\"></a></div>\n",
       "<div class=\"features\"> <span class=\"pdp\"><a href=\"https://shebanq.ancient-data.org/hebrew/text?book=Ezechiel&amp;chapter=45&amp;verse=17&amp;version=c&amp;mr=m&amp;qw=q&amp;tp=txt_p&amp;tr=hb&amp;wget=v&amp;qget=v&amp;nget=vt\" title=\"Ezekiel 45:17\" sec=\"Ezekiel 45:17\">art</a></span> <span class=\"gloss\">the</span> <span class=\"lex xft\"><span class=\"f\">lex=</span>H</span></div>\n",
       "\n",
       "\n",
       "</div>\n",
       "\n",
       "<div class=\"word  hl\"  style=\"background-color: #96ceb4;\" >\n",
       "<a href=\"#\" class=\"nd\">288846</a>\n",
       "<div class=\"h\"><a target=\"_blank\" href=\"https://shebanq.ancient-data.org/hebrew/word?version=c&amp;id=1XDCin\" title=\"show this lexeme in SHEBANQ\">חֳדָשִׁים֙ </a></div>\n",
       "<div class=\"features\"> <span class=\"pdp\"><a href=\"https://shebanq.ancient-data.org/hebrew/text?book=Ezechiel&amp;chapter=45&amp;verse=17&amp;version=c&amp;mr=m&amp;qw=q&amp;tp=txt_p&amp;tr=hb&amp;wget=v&amp;qget=v&amp;nget=vt\" title=\"Ezekiel 45:17\" sec=\"Ezekiel 45:17\">subs</a></span> <span class=\"gloss\">month</span> <span class=\"lex xft\"><span class=\"f\">lex=</span>XDC=/</span></div>\n",
       "\n",
       "\n",
       "</div>\n",
       "\n",
       "<div class=\"word  \" >\n",
       "<a href=\"#\" class=\"nd\">288847</a>\n",
       "<div class=\"h\"><a target=\"_blank\" href=\"https://shebanq.ancient-data.org/hebrew/word?version=c&amp;id=1W\" title=\"show this lexeme in SHEBANQ\">וּ</a></div>\n",
       "<div class=\"features\"> <span class=\"pdp\"><a href=\"https://shebanq.ancient-data.org/hebrew/text?book=Ezechiel&amp;chapter=45&amp;verse=17&amp;version=c&amp;mr=m&amp;qw=q&amp;tp=txt_p&amp;tr=hb&amp;wget=v&amp;qget=v&amp;nget=vt\" title=\"Ezekiel 45:17\" sec=\"Ezekiel 45:17\">conj</a></span> <span class=\"gloss\">and</span> <span class=\"lex xft\"><span class=\"f\">lex=</span>W</span></div>\n",
       "\n",
       "\n",
       "</div>\n",
       "\n",
       "<div class=\"word  \" >\n",
       "<a href=\"#\" class=\"nd\">288848</a>\n",
       "<div class=\"h\"><a target=\"_blank\" href=\"https://shebanq.ancient-data.org/hebrew/word?version=c&amp;id=1B\" title=\"show this lexeme in SHEBANQ\">בַ</a></div>\n",
       "<div class=\"features\"> <span class=\"pdp\"><a href=\"https://shebanq.ancient-data.org/hebrew/text?book=Ezechiel&amp;chapter=45&amp;verse=17&amp;version=c&amp;mr=m&amp;qw=q&amp;tp=txt_p&amp;tr=hb&amp;wget=v&amp;qget=v&amp;nget=vt\" title=\"Ezekiel 45:17\" sec=\"Ezekiel 45:17\">prep</a></span> <span class=\"gloss\">in</span> <span class=\"lex xft\"><span class=\"f\">lex=</span>B</span></div>\n",
       "\n",
       "\n",
       "</div>\n",
       "\n",
       "<div class=\"word  \" >\n",
       "<a href=\"#\" class=\"nd\">288849</a>\n",
       "<div class=\"h\"><a target=\"_blank\" href=\"https://shebanq.ancient-data.org/hebrew/word?version=c&amp;id=1H\" title=\"show this lexeme in SHEBANQ\"></a></div>\n",
       "<div class=\"features\"> <span class=\"pdp\"><a href=\"https://shebanq.ancient-data.org/hebrew/text?book=Ezechiel&amp;chapter=45&amp;verse=17&amp;version=c&amp;mr=m&amp;qw=q&amp;tp=txt_p&amp;tr=hb&amp;wget=v&amp;qget=v&amp;nget=vt\" title=\"Ezekiel 45:17\" sec=\"Ezekiel 45:17\">art</a></span> <span class=\"gloss\">the</span> <span class=\"lex xft\"><span class=\"f\">lex=</span>H</span></div>\n",
       "\n",
       "\n",
       "</div>\n",
       "\n",
       "<div class=\"word  \" >\n",
       "<a href=\"#\" class=\"nd\">288850</a>\n",
       "<div class=\"h\"><a target=\"_blank\" href=\"https://shebanq.ancient-data.org/hebrew/word?version=c&amp;id=1CBTn\" title=\"show this lexeme in SHEBANQ\">שַּׁבָּתֹ֔ות </a></div>\n",
       "<div class=\"features\"> <span class=\"pdp\"><a href=\"https://shebanq.ancient-data.org/hebrew/text?book=Ezechiel&amp;chapter=45&amp;verse=17&amp;version=c&amp;mr=m&amp;qw=q&amp;tp=txt_p&amp;tr=hb&amp;wget=v&amp;qget=v&amp;nget=vt\" title=\"Ezekiel 45:17\" sec=\"Ezekiel 45:17\">subs</a></span> <span class=\"gloss\">sabbath</span> <span class=\"lex xft\"><span class=\"f\">lex=</span>CBT/</span></div>\n",
       "\n",
       "\n",
       "</div>\n",
       "\n",
       "\n",
       "    </div>\n",
       "\n",
       "\n",
       "</div>\n",
       "\n",
       "<div class=\"patom  r \" >\n",
       "\n",
       "    <div class=\"phrase \" >\n",
       "        <a href=\"https://shebanq.ancient-data.org/hebrew/text?book=Ezechiel&amp;chapter=45&amp;verse=17&amp;version=c&amp;mr=m&amp;qw=q&amp;tp=txt_p&amp;tr=hb&amp;wget=v&amp;qget=v&amp;nget=vt\" title=\"Ezekiel 45:17\" sec=\"Ezekiel 45:17\">phrase</a> <a href=\"#\" class=\"nd\">821526</a>  <span class=\"function\">Time</span> <span class=\"typ\">PP</span>\n",
       "    </div>\n",
       "    <div class=\"atoms\">\n",
       "\n",
       "<div class=\"word  \" >\n",
       "<a href=\"#\" class=\"nd\">288851</a>\n",
       "<div class=\"h\"><a target=\"_blank\" href=\"https://shebanq.ancient-data.org/hebrew/word?version=c&amp;id=1B\" title=\"show this lexeme in SHEBANQ\">בְּ</a></div>\n",
       "<div class=\"features\"> <span class=\"pdp\"><a href=\"https://shebanq.ancient-data.org/hebrew/text?book=Ezechiel&amp;chapter=45&amp;verse=17&amp;version=c&amp;mr=m&amp;qw=q&amp;tp=txt_p&amp;tr=hb&amp;wget=v&amp;qget=v&amp;nget=vt\" title=\"Ezekiel 45:17\" sec=\"Ezekiel 45:17\">prep</a></span> <span class=\"gloss\">in</span> <span class=\"lex xft\"><span class=\"f\">lex=</span>B</span></div>\n",
       "\n",
       "\n",
       "</div>\n",
       "\n",
       "<div class=\"word  \" >\n",
       "<a href=\"#\" class=\"nd\">288852</a>\n",
       "<div class=\"h\"><a target=\"_blank\" href=\"https://shebanq.ancient-data.org/hebrew/word?version=c&amp;id=1KLn\" title=\"show this lexeme in SHEBANQ\">כָֽל־</a></div>\n",
       "<div class=\"features\"> <span class=\"pdp\"><a href=\"https://shebanq.ancient-data.org/hebrew/text?book=Ezechiel&amp;chapter=45&amp;verse=17&amp;version=c&amp;mr=m&amp;qw=q&amp;tp=txt_p&amp;tr=hb&amp;wget=v&amp;qget=v&amp;nget=vt\" title=\"Ezekiel 45:17\" sec=\"Ezekiel 45:17\">subs</a></span> <span class=\"gloss\">whole</span> <span class=\"lex xft\"><span class=\"f\">lex=</span>KL/</span></div>\n",
       "\n",
       "\n",
       "</div>\n",
       "\n",
       "<div class=\"word  \" >\n",
       "<a href=\"#\" class=\"nd\">288853</a>\n",
       "<div class=\"h\"><a target=\"_blank\" href=\"https://shebanq.ancient-data.org/hebrew/word?version=c&amp;id=1MWODn\" title=\"show this lexeme in SHEBANQ\">מֹועֲדֵ֖י </a></div>\n",
       "<div class=\"features\"> <span class=\"pdp\"><a href=\"https://shebanq.ancient-data.org/hebrew/text?book=Ezechiel&amp;chapter=45&amp;verse=17&amp;version=c&amp;mr=m&amp;qw=q&amp;tp=txt_p&amp;tr=hb&amp;wget=v&amp;qget=v&amp;nget=vt\" title=\"Ezekiel 45:17\" sec=\"Ezekiel 45:17\">subs</a></span> <span class=\"gloss\">appointment</span> <span class=\"lex xft\"><span class=\"f\">lex=</span>MW&lt;D/</span></div>\n",
       "\n",
       "\n",
       "</div>\n",
       "\n",
       "<div class=\"word  \" >\n",
       "<a href=\"#\" class=\"nd\">288854</a>\n",
       "<div class=\"h\"><a target=\"_blank\" href=\"https://shebanq.ancient-data.org/hebrew/word?version=c&amp;id=1BJTn\" title=\"show this lexeme in SHEBANQ\">בֵּ֣ית </a></div>\n",
       "<div class=\"features\"> <span class=\"pdp\"><a href=\"https://shebanq.ancient-data.org/hebrew/text?book=Ezechiel&amp;chapter=45&amp;verse=17&amp;version=c&amp;mr=m&amp;qw=q&amp;tp=txt_p&amp;tr=hb&amp;wget=v&amp;qget=v&amp;nget=vt\" title=\"Ezekiel 45:17\" sec=\"Ezekiel 45:17\">subs</a></span> <span class=\"gloss\">house</span> <span class=\"lex xft\"><span class=\"f\">lex=</span>BJT/</span></div>\n",
       "\n",
       "\n",
       "</div>\n",
       "\n",
       "<div class=\"word  \" >\n",
       "<a href=\"#\" class=\"nd\">288855</a>\n",
       "<div class=\"h\"><a target=\"_blank\" href=\"https://shebanq.ancient-data.org/hebrew/word?version=c&amp;id=1JFRALn\" title=\"show this lexeme in SHEBANQ\">יִשְׂרָאֵ֑ל </a></div>\n",
       "<div class=\"features\"> <span class=\"pdp\"><a href=\"https://shebanq.ancient-data.org/hebrew/text?book=Ezechiel&amp;chapter=45&amp;verse=17&amp;version=c&amp;mr=m&amp;qw=q&amp;tp=txt_p&amp;tr=hb&amp;wget=v&amp;qget=v&amp;nget=vt\" title=\"Ezekiel 45:17\" sec=\"Ezekiel 45:17\">nmpr</a></span> <span class=\"gloss\">Israel</span> <span class=\"lex xft\"><span class=\"f\">lex=</span>JFR>L/</span></div>\n",
       "\n",
       "\n",
       "</div>\n",
       "\n",
       "\n",
       "    </div>\n",
       "\n",
       "\n",
       "</div>\n",
       "\n",
       "\n",
       "</div>\n"
      ],
      "text/plain": [
       "<IPython.core.display.HTML object>"
      ]
     },
     "metadata": {},
     "output_type": "display_data"
    },
    {
     "data": {
      "text/html": [
       "<div style=\"background: #96ceb4; text-align: center\">part2</div>"
      ],
      "text/plain": [
       "<IPython.core.display.HTML object>"
      ]
     },
     "metadata": {},
     "output_type": "display_data"
    },
    {
     "data": {
      "text/html": [
       "<div style=\"background: #ffeead; text-align: center\">conj</div>"
      ],
      "text/plain": [
       "<IPython.core.display.HTML object>"
      ]
     },
     "metadata": {},
     "output_type": "display_data"
    },
    {
     "data": {
      "text/html": [
       "<div style=\"background: #ffcc5c; text-align: center\">part1</div>"
      ],
      "text/plain": [
       "<IPython.core.display.HTML object>"
      ]
     },
     "metadata": {},
     "output_type": "display_data"
    },
    {
     "name": "stdout",
     "output_type": "stream",
     "text": [
      "{   '__cx__': 'coord',\n",
      "    'conj': {'__cx__': 'conj', 'head': 288843},\n",
      "    'part1': {   '__cx__': 'prep_ph',\n",
      "                 'head': {   '__cx__': 'defi_ph',\n",
      "                             'art': {'__cx__': 'art', 'head': 288841},\n",
      "                             'head': {'__cx__': 'cont', 'head': 288842}},\n",
      "                 'prep': {'__cx__': 'prep', 'head': 288840}},\n",
      "    'part2': {   '__cx__': 'prep_ph',\n",
      "                 'head': {   '__cx__': 'defi_ph',\n",
      "                             'art': {'__cx__': 'art', 'head': 288845},\n",
      "                             'head': {'__cx__': 'cont', 'head': 288846}},\n",
      "                 'prep': {'__cx__': 'prep', 'head': 288844}}}\n",
      "\n"
     ]
    },
    {
     "data": {
      "text/html": [
       "<hr>"
      ],
      "text/plain": [
       "<IPython.core.display.HTML object>"
      ]
     },
     "metadata": {},
     "output_type": "display_data"
    },
    {
     "data": {
      "text/html": [
       "<p><b>result</b> <i>1449463 -> CX coord {288844, 288845, 288846, 288847, 288848, 288849, 288850}</i></p>"
      ],
      "text/plain": [
       "<IPython.core.display.HTML object>"
      ]
     },
     "metadata": {},
     "output_type": "display_data"
    },
    {
     "data": {
      "text/html": [
       "<a href=\"https://shebanq.ancient-data.org/hebrew/text?book=Ezechiel&amp;chapter=45&amp;verse=17&amp;version=c&amp;mr=m&amp;qw=q&amp;tp=txt_p&amp;tr=hb&amp;wget=v&amp;qget=v&amp;nget=vt\" title=\"show this passage in SHEBANQ\" sec=\"Ezekiel 45:17\">Ezekiel 45:17</a>\n",
       "<div class=\"atoms  \" >\n",
       "<a href=\"#\" class=\"nd\">821526</a>\n",
       "\n",
       "\n",
       "\n",
       "<div class=\"patom  l \" >\n",
       "\n",
       "    <div class=\"phrase \" >\n",
       "        <a href=\"https://shebanq.ancient-data.org/hebrew/text?book=Ezechiel&amp;chapter=45&amp;verse=17&amp;version=c&amp;mr=m&amp;qw=q&amp;tp=txt_p&amp;tr=hb&amp;wget=v&amp;qget=v&amp;nget=vt\" title=\"Ezekiel 45:17\" sec=\"Ezekiel 45:17\">phrase</a> <a href=\"#\" class=\"nd\">821526</a>  <span class=\"function\">Time</span> <span class=\"typ\">PP</span>\n",
       "    </div>\n",
       "    <div class=\"atoms\">\n",
       "\n",
       "<div class=\"word  \" >\n",
       "<a href=\"#\" class=\"nd\">288840</a>\n",
       "<div class=\"h\"><a target=\"_blank\" href=\"https://shebanq.ancient-data.org/hebrew/word?version=c&amp;id=1B\" title=\"show this lexeme in SHEBANQ\">בַּ</a></div>\n",
       "<div class=\"features\"> <span class=\"pdp\"><a href=\"https://shebanq.ancient-data.org/hebrew/text?book=Ezechiel&amp;chapter=45&amp;verse=17&amp;version=c&amp;mr=m&amp;qw=q&amp;tp=txt_p&amp;tr=hb&amp;wget=v&amp;qget=v&amp;nget=vt\" title=\"Ezekiel 45:17\" sec=\"Ezekiel 45:17\">prep</a></span> <span class=\"gloss\">in</span> <span class=\"lex xft\"><span class=\"f\">lex=</span>B</span></div>\n",
       "\n",
       "\n",
       "</div>\n",
       "\n",
       "<div class=\"word  \" >\n",
       "<a href=\"#\" class=\"nd\">288841</a>\n",
       "<div class=\"h\"><a target=\"_blank\" href=\"https://shebanq.ancient-data.org/hebrew/word?version=c&amp;id=1H\" title=\"show this lexeme in SHEBANQ\"></a></div>\n",
       "<div class=\"features\"> <span class=\"pdp\"><a href=\"https://shebanq.ancient-data.org/hebrew/text?book=Ezechiel&amp;chapter=45&amp;verse=17&amp;version=c&amp;mr=m&amp;qw=q&amp;tp=txt_p&amp;tr=hb&amp;wget=v&amp;qget=v&amp;nget=vt\" title=\"Ezekiel 45:17\" sec=\"Ezekiel 45:17\">art</a></span> <span class=\"gloss\">the</span> <span class=\"lex xft\"><span class=\"f\">lex=</span>H</span></div>\n",
       "\n",
       "\n",
       "</div>\n",
       "\n",
       "<div class=\"word  \" >\n",
       "<a href=\"#\" class=\"nd\">288842</a>\n",
       "<div class=\"h\"><a target=\"_blank\" href=\"https://shebanq.ancient-data.org/hebrew/word?version=c&amp;id=1XGn\" title=\"show this lexeme in SHEBANQ\">חַגִּ֤ים </a></div>\n",
       "<div class=\"features\"> <span class=\"pdp\"><a href=\"https://shebanq.ancient-data.org/hebrew/text?book=Ezechiel&amp;chapter=45&amp;verse=17&amp;version=c&amp;mr=m&amp;qw=q&amp;tp=txt_p&amp;tr=hb&amp;wget=v&amp;qget=v&amp;nget=vt\" title=\"Ezekiel 45:17\" sec=\"Ezekiel 45:17\">subs</a></span> <span class=\"gloss\">festival</span> <span class=\"lex xft\"><span class=\"f\">lex=</span>XG/</span></div>\n",
       "\n",
       "\n",
       "</div>\n",
       "\n",
       "<div class=\"word  \" >\n",
       "<a href=\"#\" class=\"nd\">288843</a>\n",
       "<div class=\"h\"><a target=\"_blank\" href=\"https://shebanq.ancient-data.org/hebrew/word?version=c&amp;id=1W\" title=\"show this lexeme in SHEBANQ\">וּ</a></div>\n",
       "<div class=\"features\"> <span class=\"pdp\"><a href=\"https://shebanq.ancient-data.org/hebrew/text?book=Ezechiel&amp;chapter=45&amp;verse=17&amp;version=c&amp;mr=m&amp;qw=q&amp;tp=txt_p&amp;tr=hb&amp;wget=v&amp;qget=v&amp;nget=vt\" title=\"Ezekiel 45:17\" sec=\"Ezekiel 45:17\">conj</a></span> <span class=\"gloss\">and</span> <span class=\"lex xft\"><span class=\"f\">lex=</span>W</span></div>\n",
       "\n",
       "\n",
       "</div>\n",
       "\n",
       "<div class=\"word  hl\"  style=\"background-color: #ffcc5c;\" >\n",
       "<a href=\"#\" class=\"nd\">288844</a>\n",
       "<div class=\"h\"><a target=\"_blank\" href=\"https://shebanq.ancient-data.org/hebrew/word?version=c&amp;id=1B\" title=\"show this lexeme in SHEBANQ\">בֶ</a></div>\n",
       "<div class=\"features\"> <span class=\"pdp\"><a href=\"https://shebanq.ancient-data.org/hebrew/text?book=Ezechiel&amp;chapter=45&amp;verse=17&amp;version=c&amp;mr=m&amp;qw=q&amp;tp=txt_p&amp;tr=hb&amp;wget=v&amp;qget=v&amp;nget=vt\" title=\"Ezekiel 45:17\" sec=\"Ezekiel 45:17\">prep</a></span> <span class=\"gloss\">in</span> <span class=\"lex xft\"><span class=\"f\">lex=</span>B</span></div>\n",
       "\n",
       "\n",
       "</div>\n",
       "\n",
       "<div class=\"word  hl\"  style=\"background-color: #ffcc5c;\" >\n",
       "<a href=\"#\" class=\"nd\">288845</a>\n",
       "<div class=\"h\"><a target=\"_blank\" href=\"https://shebanq.ancient-data.org/hebrew/word?version=c&amp;id=1H\" title=\"show this lexeme in SHEBANQ\"></a></div>\n",
       "<div class=\"features\"> <span class=\"pdp\"><a href=\"https://shebanq.ancient-data.org/hebrew/text?book=Ezechiel&amp;chapter=45&amp;verse=17&amp;version=c&amp;mr=m&amp;qw=q&amp;tp=txt_p&amp;tr=hb&amp;wget=v&amp;qget=v&amp;nget=vt\" title=\"Ezekiel 45:17\" sec=\"Ezekiel 45:17\">art</a></span> <span class=\"gloss\">the</span> <span class=\"lex xft\"><span class=\"f\">lex=</span>H</span></div>\n",
       "\n",
       "\n",
       "</div>\n",
       "\n",
       "<div class=\"word  hl\"  style=\"background-color: #ffcc5c;\" >\n",
       "<a href=\"#\" class=\"nd\">288846</a>\n",
       "<div class=\"h\"><a target=\"_blank\" href=\"https://shebanq.ancient-data.org/hebrew/word?version=c&amp;id=1XDCin\" title=\"show this lexeme in SHEBANQ\">חֳדָשִׁים֙ </a></div>\n",
       "<div class=\"features\"> <span class=\"pdp\"><a href=\"https://shebanq.ancient-data.org/hebrew/text?book=Ezechiel&amp;chapter=45&amp;verse=17&amp;version=c&amp;mr=m&amp;qw=q&amp;tp=txt_p&amp;tr=hb&amp;wget=v&amp;qget=v&amp;nget=vt\" title=\"Ezekiel 45:17\" sec=\"Ezekiel 45:17\">subs</a></span> <span class=\"gloss\">month</span> <span class=\"lex xft\"><span class=\"f\">lex=</span>XDC=/</span></div>\n",
       "\n",
       "\n",
       "</div>\n",
       "\n",
       "<div class=\"word  hl\"  style=\"background-color: #ffeead;\" >\n",
       "<a href=\"#\" class=\"nd\">288847</a>\n",
       "<div class=\"h\"><a target=\"_blank\" href=\"https://shebanq.ancient-data.org/hebrew/word?version=c&amp;id=1W\" title=\"show this lexeme in SHEBANQ\">וּ</a></div>\n",
       "<div class=\"features\"> <span class=\"pdp\"><a href=\"https://shebanq.ancient-data.org/hebrew/text?book=Ezechiel&amp;chapter=45&amp;verse=17&amp;version=c&amp;mr=m&amp;qw=q&amp;tp=txt_p&amp;tr=hb&amp;wget=v&amp;qget=v&amp;nget=vt\" title=\"Ezekiel 45:17\" sec=\"Ezekiel 45:17\">conj</a></span> <span class=\"gloss\">and</span> <span class=\"lex xft\"><span class=\"f\">lex=</span>W</span></div>\n",
       "\n",
       "\n",
       "</div>\n",
       "\n",
       "<div class=\"word  hl\"  style=\"background-color: #96ceb4;\" >\n",
       "<a href=\"#\" class=\"nd\">288848</a>\n",
       "<div class=\"h\"><a target=\"_blank\" href=\"https://shebanq.ancient-data.org/hebrew/word?version=c&amp;id=1B\" title=\"show this lexeme in SHEBANQ\">בַ</a></div>\n",
       "<div class=\"features\"> <span class=\"pdp\"><a href=\"https://shebanq.ancient-data.org/hebrew/text?book=Ezechiel&amp;chapter=45&amp;verse=17&amp;version=c&amp;mr=m&amp;qw=q&amp;tp=txt_p&amp;tr=hb&amp;wget=v&amp;qget=v&amp;nget=vt\" title=\"Ezekiel 45:17\" sec=\"Ezekiel 45:17\">prep</a></span> <span class=\"gloss\">in</span> <span class=\"lex xft\"><span class=\"f\">lex=</span>B</span></div>\n",
       "\n",
       "\n",
       "</div>\n",
       "\n",
       "<div class=\"word  hl\"  style=\"background-color: #96ceb4;\" >\n",
       "<a href=\"#\" class=\"nd\">288849</a>\n",
       "<div class=\"h\"><a target=\"_blank\" href=\"https://shebanq.ancient-data.org/hebrew/word?version=c&amp;id=1H\" title=\"show this lexeme in SHEBANQ\"></a></div>\n",
       "<div class=\"features\"> <span class=\"pdp\"><a href=\"https://shebanq.ancient-data.org/hebrew/text?book=Ezechiel&amp;chapter=45&amp;verse=17&amp;version=c&amp;mr=m&amp;qw=q&amp;tp=txt_p&amp;tr=hb&amp;wget=v&amp;qget=v&amp;nget=vt\" title=\"Ezekiel 45:17\" sec=\"Ezekiel 45:17\">art</a></span> <span class=\"gloss\">the</span> <span class=\"lex xft\"><span class=\"f\">lex=</span>H</span></div>\n",
       "\n",
       "\n",
       "</div>\n",
       "\n",
       "<div class=\"word  hl\"  style=\"background-color: #96ceb4;\" >\n",
       "<a href=\"#\" class=\"nd\">288850</a>\n",
       "<div class=\"h\"><a target=\"_blank\" href=\"https://shebanq.ancient-data.org/hebrew/word?version=c&amp;id=1CBTn\" title=\"show this lexeme in SHEBANQ\">שַּׁבָּתֹ֔ות </a></div>\n",
       "<div class=\"features\"> <span class=\"pdp\"><a href=\"https://shebanq.ancient-data.org/hebrew/text?book=Ezechiel&amp;chapter=45&amp;verse=17&amp;version=c&amp;mr=m&amp;qw=q&amp;tp=txt_p&amp;tr=hb&amp;wget=v&amp;qget=v&amp;nget=vt\" title=\"Ezekiel 45:17\" sec=\"Ezekiel 45:17\">subs</a></span> <span class=\"gloss\">sabbath</span> <span class=\"lex xft\"><span class=\"f\">lex=</span>CBT/</span></div>\n",
       "\n",
       "\n",
       "</div>\n",
       "\n",
       "\n",
       "    </div>\n",
       "\n",
       "\n",
       "</div>\n",
       "\n",
       "<div class=\"patom  r \" >\n",
       "\n",
       "    <div class=\"phrase \" >\n",
       "        <a href=\"https://shebanq.ancient-data.org/hebrew/text?book=Ezechiel&amp;chapter=45&amp;verse=17&amp;version=c&amp;mr=m&amp;qw=q&amp;tp=txt_p&amp;tr=hb&amp;wget=v&amp;qget=v&amp;nget=vt\" title=\"Ezekiel 45:17\" sec=\"Ezekiel 45:17\">phrase</a> <a href=\"#\" class=\"nd\">821526</a>  <span class=\"function\">Time</span> <span class=\"typ\">PP</span>\n",
       "    </div>\n",
       "    <div class=\"atoms\">\n",
       "\n",
       "<div class=\"word  \" >\n",
       "<a href=\"#\" class=\"nd\">288851</a>\n",
       "<div class=\"h\"><a target=\"_blank\" href=\"https://shebanq.ancient-data.org/hebrew/word?version=c&amp;id=1B\" title=\"show this lexeme in SHEBANQ\">בְּ</a></div>\n",
       "<div class=\"features\"> <span class=\"pdp\"><a href=\"https://shebanq.ancient-data.org/hebrew/text?book=Ezechiel&amp;chapter=45&amp;verse=17&amp;version=c&amp;mr=m&amp;qw=q&amp;tp=txt_p&amp;tr=hb&amp;wget=v&amp;qget=v&amp;nget=vt\" title=\"Ezekiel 45:17\" sec=\"Ezekiel 45:17\">prep</a></span> <span class=\"gloss\">in</span> <span class=\"lex xft\"><span class=\"f\">lex=</span>B</span></div>\n",
       "\n",
       "\n",
       "</div>\n",
       "\n",
       "<div class=\"word  \" >\n",
       "<a href=\"#\" class=\"nd\">288852</a>\n",
       "<div class=\"h\"><a target=\"_blank\" href=\"https://shebanq.ancient-data.org/hebrew/word?version=c&amp;id=1KLn\" title=\"show this lexeme in SHEBANQ\">כָֽל־</a></div>\n",
       "<div class=\"features\"> <span class=\"pdp\"><a href=\"https://shebanq.ancient-data.org/hebrew/text?book=Ezechiel&amp;chapter=45&amp;verse=17&amp;version=c&amp;mr=m&amp;qw=q&amp;tp=txt_p&amp;tr=hb&amp;wget=v&amp;qget=v&amp;nget=vt\" title=\"Ezekiel 45:17\" sec=\"Ezekiel 45:17\">subs</a></span> <span class=\"gloss\">whole</span> <span class=\"lex xft\"><span class=\"f\">lex=</span>KL/</span></div>\n",
       "\n",
       "\n",
       "</div>\n",
       "\n",
       "<div class=\"word  \" >\n",
       "<a href=\"#\" class=\"nd\">288853</a>\n",
       "<div class=\"h\"><a target=\"_blank\" href=\"https://shebanq.ancient-data.org/hebrew/word?version=c&amp;id=1MWODn\" title=\"show this lexeme in SHEBANQ\">מֹועֲדֵ֖י </a></div>\n",
       "<div class=\"features\"> <span class=\"pdp\"><a href=\"https://shebanq.ancient-data.org/hebrew/text?book=Ezechiel&amp;chapter=45&amp;verse=17&amp;version=c&amp;mr=m&amp;qw=q&amp;tp=txt_p&amp;tr=hb&amp;wget=v&amp;qget=v&amp;nget=vt\" title=\"Ezekiel 45:17\" sec=\"Ezekiel 45:17\">subs</a></span> <span class=\"gloss\">appointment</span> <span class=\"lex xft\"><span class=\"f\">lex=</span>MW&lt;D/</span></div>\n",
       "\n",
       "\n",
       "</div>\n",
       "\n",
       "<div class=\"word  \" >\n",
       "<a href=\"#\" class=\"nd\">288854</a>\n",
       "<div class=\"h\"><a target=\"_blank\" href=\"https://shebanq.ancient-data.org/hebrew/word?version=c&amp;id=1BJTn\" title=\"show this lexeme in SHEBANQ\">בֵּ֣ית </a></div>\n",
       "<div class=\"features\"> <span class=\"pdp\"><a href=\"https://shebanq.ancient-data.org/hebrew/text?book=Ezechiel&amp;chapter=45&amp;verse=17&amp;version=c&amp;mr=m&amp;qw=q&amp;tp=txt_p&amp;tr=hb&amp;wget=v&amp;qget=v&amp;nget=vt\" title=\"Ezekiel 45:17\" sec=\"Ezekiel 45:17\">subs</a></span> <span class=\"gloss\">house</span> <span class=\"lex xft\"><span class=\"f\">lex=</span>BJT/</span></div>\n",
       "\n",
       "\n",
       "</div>\n",
       "\n",
       "<div class=\"word  \" >\n",
       "<a href=\"#\" class=\"nd\">288855</a>\n",
       "<div class=\"h\"><a target=\"_blank\" href=\"https://shebanq.ancient-data.org/hebrew/word?version=c&amp;id=1JFRALn\" title=\"show this lexeme in SHEBANQ\">יִשְׂרָאֵ֑ל </a></div>\n",
       "<div class=\"features\"> <span class=\"pdp\"><a href=\"https://shebanq.ancient-data.org/hebrew/text?book=Ezechiel&amp;chapter=45&amp;verse=17&amp;version=c&amp;mr=m&amp;qw=q&amp;tp=txt_p&amp;tr=hb&amp;wget=v&amp;qget=v&amp;nget=vt\" title=\"Ezekiel 45:17\" sec=\"Ezekiel 45:17\">nmpr</a></span> <span class=\"gloss\">Israel</span> <span class=\"lex xft\"><span class=\"f\">lex=</span>JFR>L/</span></div>\n",
       "\n",
       "\n",
       "</div>\n",
       "\n",
       "\n",
       "    </div>\n",
       "\n",
       "\n",
       "</div>\n",
       "\n",
       "\n",
       "</div>\n"
      ],
      "text/plain": [
       "<IPython.core.display.HTML object>"
      ]
     },
     "metadata": {},
     "output_type": "display_data"
    },
    {
     "data": {
      "text/html": [
       "<div style=\"background: #96ceb4; text-align: center\">part2</div>"
      ],
      "text/plain": [
       "<IPython.core.display.HTML object>"
      ]
     },
     "metadata": {},
     "output_type": "display_data"
    },
    {
     "data": {
      "text/html": [
       "<div style=\"background: #ffeead; text-align: center\">conj</div>"
      ],
      "text/plain": [
       "<IPython.core.display.HTML object>"
      ]
     },
     "metadata": {},
     "output_type": "display_data"
    },
    {
     "data": {
      "text/html": [
       "<div style=\"background: #ffcc5c; text-align: center\">part1</div>"
      ],
      "text/plain": [
       "<IPython.core.display.HTML object>"
      ]
     },
     "metadata": {},
     "output_type": "display_data"
    },
    {
     "name": "stdout",
     "output_type": "stream",
     "text": [
      "{   '__cx__': 'coord',\n",
      "    'conj': {'__cx__': 'conj', 'head': 288847},\n",
      "    'part1': {   '__cx__': 'prep_ph',\n",
      "                 'head': {   '__cx__': 'defi_ph',\n",
      "                             'art': {'__cx__': 'art', 'head': 288845},\n",
      "                             'head': {'__cx__': 'cont', 'head': 288846}},\n",
      "                 'prep': {'__cx__': 'prep', 'head': 288844}},\n",
      "    'part2': {   '__cx__': 'prep_ph',\n",
      "                 'head': {   '__cx__': 'defi_ph',\n",
      "                             'art': {'__cx__': 'art', 'head': 288849},\n",
      "                             'head': {'__cx__': 'cont', 'head': 288850}},\n",
      "                 'prep': {'__cx__': 'prep', 'head': 288848}}}\n",
      "\n"
     ]
    },
    {
     "data": {
      "text/html": [
       "<hr>"
      ],
      "text/plain": [
       "<IPython.core.display.HTML object>"
      ]
     },
     "metadata": {},
     "output_type": "display_data"
    },
    {
     "data": {
      "text/html": [
       "<p><b>result</b> <i>1449489 -> CX coord {290927, 290928, 290929, 290935, 290936, 290937, 290938}</i></p>"
      ],
      "text/plain": [
       "<IPython.core.display.HTML object>"
      ]
     },
     "metadata": {},
     "output_type": "display_data"
    },
    {
     "data": {
      "text/html": [
       "<a href=\"https://shebanq.ancient-data.org/hebrew/text?book=Hosea&amp;chapter=1&amp;verse=1&amp;version=c&amp;mr=m&amp;qw=q&amp;tp=txt_p&amp;tr=hb&amp;wget=v&amp;qget=v&amp;nget=vt\" title=\"show this passage in SHEBANQ\" sec=\"Hosea 1:1\">Hosea 1:1</a>\n",
       "<div class=\"atoms  \" >\n",
       "<a href=\"#\" class=\"nd\">822523</a>\n",
       "\n",
       "\n",
       "\n",
       "<div class=\"patom  l \" >\n",
       "\n",
       "    <div class=\"phrase \" >\n",
       "        <a href=\"https://shebanq.ancient-data.org/hebrew/text?book=Hosea&amp;chapter=1&amp;verse=1&amp;version=c&amp;mr=m&amp;qw=q&amp;tp=txt_p&amp;tr=hb&amp;wget=v&amp;qget=v&amp;nget=vt\" title=\"Hosea 1:1\" sec=\"Hosea 1:1\">phrase</a> <a href=\"#\" class=\"nd\">822523</a>  <span class=\"function\">Time</span> <span class=\"typ\">PP</span>\n",
       "    </div>\n",
       "    <div class=\"atoms\">\n",
       "\n",
       "<div class=\"word  hl\"  style=\"background-color: #ffcc5c;\" >\n",
       "<a href=\"#\" class=\"nd\">290927</a>\n",
       "<div class=\"h\"><a target=\"_blank\" href=\"https://shebanq.ancient-data.org/hebrew/word?version=c&amp;id=1B\" title=\"show this lexeme in SHEBANQ\">בִּ</a></div>\n",
       "<div class=\"features\"> <span class=\"pdp\"><a href=\"https://shebanq.ancient-data.org/hebrew/text?book=Hosea&amp;chapter=1&amp;verse=1&amp;version=c&amp;mr=m&amp;qw=q&amp;tp=txt_p&amp;tr=hb&amp;wget=v&amp;qget=v&amp;nget=vt\" title=\"Hosea 1:1\" sec=\"Hosea 1:1\">prep</a></span> <span class=\"gloss\">in</span> <span class=\"lex xft\"><span class=\"f\">lex=</span>B</span></div>\n",
       "\n",
       "\n",
       "</div>\n",
       "\n",
       "<div class=\"word  hl\"  style=\"background-color: #ffcc5c;\" >\n",
       "<a href=\"#\" class=\"nd\">290928</a>\n",
       "<div class=\"h\"><a target=\"_blank\" href=\"https://shebanq.ancient-data.org/hebrew/word?version=c&amp;id=1JWMn\" title=\"show this lexeme in SHEBANQ\">ימֵ֨י </a></div>\n",
       "<div class=\"features\"> <span class=\"pdp\"><a href=\"https://shebanq.ancient-data.org/hebrew/text?book=Hosea&amp;chapter=1&amp;verse=1&amp;version=c&amp;mr=m&amp;qw=q&amp;tp=txt_p&amp;tr=hb&amp;wget=v&amp;qget=v&amp;nget=vt\" title=\"Hosea 1:1\" sec=\"Hosea 1:1\">subs</a></span> <span class=\"gloss\">day</span> <span class=\"lex xft\"><span class=\"f\">lex=</span>JWM/</span></div>\n",
       "\n",
       "\n",
       "</div>\n",
       "\n",
       "<div class=\"word  hl\"  style=\"background-color: #ffcc5c;\" >\n",
       "<a href=\"#\" class=\"nd\">290929</a>\n",
       "<div class=\"h\"><a target=\"_blank\" href=\"https://shebanq.ancient-data.org/hebrew/word?version=c&amp;id=1OZJHn\" title=\"show this lexeme in SHEBANQ\">עֻזִּיָּ֥ה </a></div>\n",
       "<div class=\"features\"> <span class=\"pdp\"><a href=\"https://shebanq.ancient-data.org/hebrew/text?book=Hosea&amp;chapter=1&amp;verse=1&amp;version=c&amp;mr=m&amp;qw=q&amp;tp=txt_p&amp;tr=hb&amp;wget=v&amp;qget=v&amp;nget=vt\" title=\"Hosea 1:1\" sec=\"Hosea 1:1\">nmpr</a></span> <span class=\"gloss\">Uzziah</span> <span class=\"lex xft\"><span class=\"f\">lex=</span>&lt;ZJH/</span></div>\n",
       "\n",
       "\n",
       "</div>\n",
       "\n",
       "<div class=\"word  \" >\n",
       "<a href=\"#\" class=\"nd\">290930</a>\n",
       "<div class=\"h\"><a target=\"_blank\" href=\"https://shebanq.ancient-data.org/hebrew/word?version=c&amp;id=1JWTMn\" title=\"show this lexeme in SHEBANQ\">יֹותָ֛ם </a></div>\n",
       "<div class=\"features\"> <span class=\"pdp\"><a href=\"https://shebanq.ancient-data.org/hebrew/text?book=Hosea&amp;chapter=1&amp;verse=1&amp;version=c&amp;mr=m&amp;qw=q&amp;tp=txt_p&amp;tr=hb&amp;wget=v&amp;qget=v&amp;nget=vt\" title=\"Hosea 1:1\" sec=\"Hosea 1:1\">nmpr</a></span> <span class=\"gloss\">Jotham</span> <span class=\"lex xft\"><span class=\"f\">lex=</span>JWTM/</span></div>\n",
       "\n",
       "\n",
       "</div>\n",
       "\n",
       "<div class=\"word  \" >\n",
       "<a href=\"#\" class=\"nd\">290931</a>\n",
       "<div class=\"h\"><a target=\"_blank\" href=\"https://shebanq.ancient-data.org/hebrew/word?version=c&amp;id=1AXZin\" title=\"show this lexeme in SHEBANQ\">אָחָ֥ז </a></div>\n",
       "<div class=\"features\"> <span class=\"pdp\"><a href=\"https://shebanq.ancient-data.org/hebrew/text?book=Hosea&amp;chapter=1&amp;verse=1&amp;version=c&amp;mr=m&amp;qw=q&amp;tp=txt_p&amp;tr=hb&amp;wget=v&amp;qget=v&amp;nget=vt\" title=\"Hosea 1:1\" sec=\"Hosea 1:1\">nmpr</a></span> <span class=\"gloss\">Ahaz</span> <span class=\"lex xft\"><span class=\"f\">lex=</span>>XZ=/</span></div>\n",
       "\n",
       "\n",
       "</div>\n",
       "\n",
       "<div class=\"word  \" >\n",
       "<a href=\"#\" class=\"nd\">290932</a>\n",
       "<div class=\"h\"><a target=\"_blank\" href=\"https://shebanq.ancient-data.org/hebrew/word?version=c&amp;id=1JXZQJHn\" title=\"show this lexeme in SHEBANQ\">יְחִזְקִיָּ֖ה </a></div>\n",
       "<div class=\"features\"> <span class=\"pdp\"><a href=\"https://shebanq.ancient-data.org/hebrew/text?book=Hosea&amp;chapter=1&amp;verse=1&amp;version=c&amp;mr=m&amp;qw=q&amp;tp=txt_p&amp;tr=hb&amp;wget=v&amp;qget=v&amp;nget=vt\" title=\"Hosea 1:1\" sec=\"Hosea 1:1\">nmpr</a></span> <span class=\"gloss\">Hezekiah</span> <span class=\"lex xft\"><span class=\"f\">lex=</span>JXZQJH/</span></div>\n",
       "\n",
       "\n",
       "</div>\n",
       "\n",
       "\n",
       "    </div>\n",
       "\n",
       "\n",
       "</div>\n",
       "\n",
       "<div class=\"patom  r l \" >\n",
       "\n",
       "    <div class=\"phrase \" >\n",
       "        <a href=\"https://shebanq.ancient-data.org/hebrew/text?book=Hosea&amp;chapter=1&amp;verse=1&amp;version=c&amp;mr=m&amp;qw=q&amp;tp=txt_p&amp;tr=hb&amp;wget=v&amp;qget=v&amp;nget=vt\" title=\"Hosea 1:1\" sec=\"Hosea 1:1\">phrase</a> <a href=\"#\" class=\"nd\">822523</a>  <span class=\"function\">Time</span> <span class=\"typ\">PP|NP</span>\n",
       "    </div>\n",
       "    <div class=\"atoms\">\n",
       "\n",
       "<div class=\"word  \" >\n",
       "<a href=\"#\" class=\"nd\">290933</a>\n",
       "<div class=\"h\"><a target=\"_blank\" href=\"https://shebanq.ancient-data.org/hebrew/word?version=c&amp;id=1MLKn\" title=\"show this lexeme in SHEBANQ\">מַלְכֵ֣י </a></div>\n",
       "<div class=\"features\"> <span class=\"pdp\"><a href=\"https://shebanq.ancient-data.org/hebrew/text?book=Hosea&amp;chapter=1&amp;verse=1&amp;version=c&amp;mr=m&amp;qw=q&amp;tp=txt_p&amp;tr=hb&amp;wget=v&amp;qget=v&amp;nget=vt\" title=\"Hosea 1:1\" sec=\"Hosea 1:1\">subs</a></span> <span class=\"gloss\">king</span> <span class=\"lex xft\"><span class=\"f\">lex=</span>MLK/</span></div>\n",
       "\n",
       "\n",
       "</div>\n",
       "\n",
       "<div class=\"word  \" >\n",
       "<a href=\"#\" class=\"nd\">290934</a>\n",
       "<div class=\"h\"><a target=\"_blank\" href=\"https://shebanq.ancient-data.org/hebrew/word?version=c&amp;id=1JHWDHn\" title=\"show this lexeme in SHEBANQ\">יְהוּדָ֑ה </a></div>\n",
       "<div class=\"features\"> <span class=\"pdp\"><a href=\"https://shebanq.ancient-data.org/hebrew/text?book=Hosea&amp;chapter=1&amp;verse=1&amp;version=c&amp;mr=m&amp;qw=q&amp;tp=txt_p&amp;tr=hb&amp;wget=v&amp;qget=v&amp;nget=vt\" title=\"Hosea 1:1\" sec=\"Hosea 1:1\">nmpr</a></span> <span class=\"gloss\">Judah</span> <span class=\"lex xft\"><span class=\"f\">lex=</span>JHWDH/</span></div>\n",
       "\n",
       "\n",
       "</div>\n",
       "\n",
       "\n",
       "    </div>\n",
       "\n",
       "\n",
       "</div>\n",
       "\n",
       "<div class=\"patom  r l \" >\n",
       "\n",
       "    <div class=\"phrase \" >\n",
       "        <a href=\"https://shebanq.ancient-data.org/hebrew/text?book=Hosea&amp;chapter=1&amp;verse=1&amp;version=c&amp;mr=m&amp;qw=q&amp;tp=txt_p&amp;tr=hb&amp;wget=v&amp;qget=v&amp;nget=vt\" title=\"Hosea 1:1\" sec=\"Hosea 1:1\">phrase</a> <a href=\"#\" class=\"nd\">822523</a>  <span class=\"function\">Time</span> <span class=\"typ\">PP|CP</span>\n",
       "    </div>\n",
       "    <div class=\"atoms\">\n",
       "\n",
       "<div class=\"word  hl\"  style=\"background-color: #ffeead;\" >\n",
       "<a href=\"#\" class=\"nd\">290935</a>\n",
       "<div class=\"h\"><a target=\"_blank\" href=\"https://shebanq.ancient-data.org/hebrew/word?version=c&amp;id=1W\" title=\"show this lexeme in SHEBANQ\">וּ</a></div>\n",
       "<div class=\"features\"> <span class=\"pdp\"><a href=\"https://shebanq.ancient-data.org/hebrew/text?book=Hosea&amp;chapter=1&amp;verse=1&amp;version=c&amp;mr=m&amp;qw=q&amp;tp=txt_p&amp;tr=hb&amp;wget=v&amp;qget=v&amp;nget=vt\" title=\"Hosea 1:1\" sec=\"Hosea 1:1\">conj</a></span> <span class=\"gloss\">and</span> <span class=\"lex xft\"><span class=\"f\">lex=</span>W</span></div>\n",
       "\n",
       "\n",
       "</div>\n",
       "\n",
       "\n",
       "    </div>\n",
       "\n",
       "\n",
       "</div>\n",
       "\n",
       "<div class=\"patom  r l \" >\n",
       "\n",
       "    <div class=\"phrase \" >\n",
       "        <a href=\"https://shebanq.ancient-data.org/hebrew/text?book=Hosea&amp;chapter=1&amp;verse=1&amp;version=c&amp;mr=m&amp;qw=q&amp;tp=txt_p&amp;tr=hb&amp;wget=v&amp;qget=v&amp;nget=vt\" title=\"Hosea 1:1\" sec=\"Hosea 1:1\">phrase</a> <a href=\"#\" class=\"nd\">822523</a>  <span class=\"function\">Time</span> <span class=\"typ\">PP</span>\n",
       "    </div>\n",
       "    <div class=\"atoms\">\n",
       "\n",
       "<div class=\"word  hl\"  style=\"background-color: #96ceb4;\" >\n",
       "<a href=\"#\" class=\"nd\">290936</a>\n",
       "<div class=\"h\"><a target=\"_blank\" href=\"https://shebanq.ancient-data.org/hebrew/word?version=c&amp;id=1B\" title=\"show this lexeme in SHEBANQ\">בִ</a></div>\n",
       "<div class=\"features\"> <span class=\"pdp\"><a href=\"https://shebanq.ancient-data.org/hebrew/text?book=Hosea&amp;chapter=1&amp;verse=1&amp;version=c&amp;mr=m&amp;qw=q&amp;tp=txt_p&amp;tr=hb&amp;wget=v&amp;qget=v&amp;nget=vt\" title=\"Hosea 1:1\" sec=\"Hosea 1:1\">prep</a></span> <span class=\"gloss\">in</span> <span class=\"lex xft\"><span class=\"f\">lex=</span>B</span></div>\n",
       "\n",
       "\n",
       "</div>\n",
       "\n",
       "<div class=\"word  hl\"  style=\"background-color: #96ceb4;\" >\n",
       "<a href=\"#\" class=\"nd\">290937</a>\n",
       "<div class=\"h\"><a target=\"_blank\" href=\"https://shebanq.ancient-data.org/hebrew/word?version=c&amp;id=1JWMn\" title=\"show this lexeme in SHEBANQ\">ימֵ֛י </a></div>\n",
       "<div class=\"features\"> <span class=\"pdp\"><a href=\"https://shebanq.ancient-data.org/hebrew/text?book=Hosea&amp;chapter=1&amp;verse=1&amp;version=c&amp;mr=m&amp;qw=q&amp;tp=txt_p&amp;tr=hb&amp;wget=v&amp;qget=v&amp;nget=vt\" title=\"Hosea 1:1\" sec=\"Hosea 1:1\">subs</a></span> <span class=\"gloss\">day</span> <span class=\"lex xft\"><span class=\"f\">lex=</span>JWM/</span></div>\n",
       "\n",
       "\n",
       "</div>\n",
       "\n",
       "<div class=\"word  hl\"  style=\"background-color: #96ceb4;\" >\n",
       "<a href=\"#\" class=\"nd\">290938</a>\n",
       "<div class=\"h\"><a target=\"_blank\" href=\"https://shebanq.ancient-data.org/hebrew/word?version=c&amp;id=1JRBOMn\" title=\"show this lexeme in SHEBANQ\">יָרָבְעָ֥ם </a></div>\n",
       "<div class=\"features\"> <span class=\"pdp\"><a href=\"https://shebanq.ancient-data.org/hebrew/text?book=Hosea&amp;chapter=1&amp;verse=1&amp;version=c&amp;mr=m&amp;qw=q&amp;tp=txt_p&amp;tr=hb&amp;wget=v&amp;qget=v&amp;nget=vt\" title=\"Hosea 1:1\" sec=\"Hosea 1:1\">nmpr</a></span> <span class=\"gloss\">Jeroboam</span> <span class=\"lex xft\"><span class=\"f\">lex=</span>JRB&lt;M/</span></div>\n",
       "\n",
       "\n",
       "</div>\n",
       "\n",
       "\n",
       "    </div>\n",
       "\n",
       "\n",
       "</div>\n",
       "\n",
       "<div class=\"patom  r l \" >\n",
       "\n",
       "    <div class=\"phrase \" >\n",
       "        <a href=\"https://shebanq.ancient-data.org/hebrew/text?book=Hosea&amp;chapter=1&amp;verse=1&amp;version=c&amp;mr=m&amp;qw=q&amp;tp=txt_p&amp;tr=hb&amp;wget=v&amp;qget=v&amp;nget=vt\" title=\"Hosea 1:1\" sec=\"Hosea 1:1\">phrase</a> <a href=\"#\" class=\"nd\">822523</a>  <span class=\"function\">Time</span> <span class=\"typ\">PP|NP</span>\n",
       "    </div>\n",
       "    <div class=\"atoms\">\n",
       "\n",
       "<div class=\"word  \" >\n",
       "<a href=\"#\" class=\"nd\">290939</a>\n",
       "<div class=\"h\"><a target=\"_blank\" href=\"https://shebanq.ancient-data.org/hebrew/word?version=c&amp;id=1BNn\" title=\"show this lexeme in SHEBANQ\">בֶּן־</a></div>\n",
       "<div class=\"features\"> <span class=\"pdp\"><a href=\"https://shebanq.ancient-data.org/hebrew/text?book=Hosea&amp;chapter=1&amp;verse=1&amp;version=c&amp;mr=m&amp;qw=q&amp;tp=txt_p&amp;tr=hb&amp;wget=v&amp;qget=v&amp;nget=vt\" title=\"Hosea 1:1\" sec=\"Hosea 1:1\">subs</a></span> <span class=\"gloss\">son</span> <span class=\"lex xft\"><span class=\"f\">lex=</span>BN/</span></div>\n",
       "\n",
       "\n",
       "</div>\n",
       "\n",
       "<div class=\"word  \" >\n",
       "<a href=\"#\" class=\"nd\">290940</a>\n",
       "<div class=\"h\"><a target=\"_blank\" href=\"https://shebanq.ancient-data.org/hebrew/word?version=c&amp;id=1JWACn\" title=\"show this lexeme in SHEBANQ\">יֹואָ֖שׁ </a></div>\n",
       "<div class=\"features\"> <span class=\"pdp\"><a href=\"https://shebanq.ancient-data.org/hebrew/text?book=Hosea&amp;chapter=1&amp;verse=1&amp;version=c&amp;mr=m&amp;qw=q&amp;tp=txt_p&amp;tr=hb&amp;wget=v&amp;qget=v&amp;nget=vt\" title=\"Hosea 1:1\" sec=\"Hosea 1:1\">nmpr</a></span> <span class=\"gloss\">Joash</span> <span class=\"lex xft\"><span class=\"f\">lex=</span>JW>C/</span></div>\n",
       "\n",
       "\n",
       "</div>\n",
       "\n",
       "\n",
       "    </div>\n",
       "\n",
       "\n",
       "</div>\n",
       "\n",
       "<div class=\"patom  r \" >\n",
       "\n",
       "    <div class=\"phrase \" >\n",
       "        <a href=\"https://shebanq.ancient-data.org/hebrew/text?book=Hosea&amp;chapter=1&amp;verse=1&amp;version=c&amp;mr=m&amp;qw=q&amp;tp=txt_p&amp;tr=hb&amp;wget=v&amp;qget=v&amp;nget=vt\" title=\"Hosea 1:1\" sec=\"Hosea 1:1\">phrase</a> <a href=\"#\" class=\"nd\">822523</a>  <span class=\"function\">Time</span> <span class=\"typ\">PP|NP</span>\n",
       "    </div>\n",
       "    <div class=\"atoms\">\n",
       "\n",
       "<div class=\"word  \" >\n",
       "<a href=\"#\" class=\"nd\">290941</a>\n",
       "<div class=\"h\"><a target=\"_blank\" href=\"https://shebanq.ancient-data.org/hebrew/word?version=c&amp;id=1MLKn\" title=\"show this lexeme in SHEBANQ\">מֶ֥לֶךְ </a></div>\n",
       "<div class=\"features\"> <span class=\"pdp\"><a href=\"https://shebanq.ancient-data.org/hebrew/text?book=Hosea&amp;chapter=1&amp;verse=1&amp;version=c&amp;mr=m&amp;qw=q&amp;tp=txt_p&amp;tr=hb&amp;wget=v&amp;qget=v&amp;nget=vt\" title=\"Hosea 1:1\" sec=\"Hosea 1:1\">subs</a></span> <span class=\"gloss\">king</span> <span class=\"lex xft\"><span class=\"f\">lex=</span>MLK/</span></div>\n",
       "\n",
       "\n",
       "</div>\n",
       "\n",
       "<div class=\"word  \" >\n",
       "<a href=\"#\" class=\"nd\">290942</a>\n",
       "<div class=\"h\"><a target=\"_blank\" href=\"https://shebanq.ancient-data.org/hebrew/word?version=c&amp;id=1JFRALn\" title=\"show this lexeme in SHEBANQ\">יִשְׂרָאֵֽל׃ </a></div>\n",
       "<div class=\"features\"> <span class=\"pdp\"><a href=\"https://shebanq.ancient-data.org/hebrew/text?book=Hosea&amp;chapter=1&amp;verse=1&amp;version=c&amp;mr=m&amp;qw=q&amp;tp=txt_p&amp;tr=hb&amp;wget=v&amp;qget=v&amp;nget=vt\" title=\"Hosea 1:1\" sec=\"Hosea 1:1\">nmpr</a></span> <span class=\"gloss\">Israel</span> <span class=\"lex xft\"><span class=\"f\">lex=</span>JFR>L/</span></div>\n",
       "\n",
       "\n",
       "</div>\n",
       "\n",
       "\n",
       "    </div>\n",
       "\n",
       "\n",
       "</div>\n",
       "\n",
       "\n",
       "</div>\n"
      ],
      "text/plain": [
       "<IPython.core.display.HTML object>"
      ]
     },
     "metadata": {},
     "output_type": "display_data"
    },
    {
     "data": {
      "text/html": [
       "<div style=\"background: #96ceb4; text-align: center\">part2</div>"
      ],
      "text/plain": [
       "<IPython.core.display.HTML object>"
      ]
     },
     "metadata": {},
     "output_type": "display_data"
    },
    {
     "data": {
      "text/html": [
       "<div style=\"background: #ffeead; text-align: center\">conj</div>"
      ],
      "text/plain": [
       "<IPython.core.display.HTML object>"
      ]
     },
     "metadata": {},
     "output_type": "display_data"
    },
    {
     "data": {
      "text/html": [
       "<div style=\"background: #ffcc5c; text-align: center\">part1</div>"
      ],
      "text/plain": [
       "<IPython.core.display.HTML object>"
      ]
     },
     "metadata": {},
     "output_type": "display_data"
    },
    {
     "name": "stdout",
     "output_type": "stream",
     "text": [
      "{   '__cx__': 'coord',\n",
      "    'conj': {'__cx__': 'conj', 'head': 290935},\n",
      "    'part1': {   '__cx__': 'prep_ph',\n",
      "                 'head': {   '__cx__': 'geni_ph',\n",
      "                             'geni': {'__cx__': 'name', 'head': 290929},\n",
      "                             'head': {'__cx__': 'cont', 'head': 290928}},\n",
      "                 'prep': {'__cx__': 'prep', 'head': 290927}},\n",
      "    'part2': {   '__cx__': 'prep_ph',\n",
      "                 'head': {   '__cx__': 'geni_ph',\n",
      "                             'geni': {'__cx__': 'name', 'head': 290938},\n",
      "                             'head': {'__cx__': 'cont', 'head': 290937}},\n",
      "                 'prep': {'__cx__': 'prep', 'head': 290936}}}\n",
      "\n"
     ]
    },
    {
     "data": {
      "text/html": [
       "<hr>"
      ],
      "text/plain": [
       "<IPython.core.display.HTML object>"
      ]
     },
     "metadata": {},
     "output_type": "display_data"
    },
    {
     "data": {
      "text/html": [
       "<p><b>result</b> <i>1449530 -> CX coord {294410, 294411, 294412}</i></p>"
      ],
      "text/plain": [
       "<IPython.core.display.HTML object>"
      ]
     },
     "metadata": {},
     "output_type": "display_data"
    },
    {
     "data": {
      "text/html": [
       "<a href=\"https://shebanq.ancient-data.org/hebrew/text?book=Joel&amp;chapter=2&amp;verse=2&amp;version=c&amp;mr=m&amp;qw=q&amp;tp=txt_p&amp;tr=hb&amp;wget=v&amp;qget=v&amp;nget=vt\" title=\"show this passage in SHEBANQ\" sec=\"Joel 2:2\">Joel 2:2</a>\n",
       "<div class=\"atoms  \" >\n",
       "<a href=\"#\" class=\"nd\">824970</a>\n",
       "\n",
       "\n",
       "\n",
       "<div class=\"patom  \" >\n",
       "\n",
       "    <div class=\"phrase \" >\n",
       "        <a href=\"https://shebanq.ancient-data.org/hebrew/text?book=Joel&amp;chapter=2&amp;verse=2&amp;version=c&amp;mr=m&amp;qw=q&amp;tp=txt_p&amp;tr=hb&amp;wget=v&amp;qget=v&amp;nget=vt\" title=\"Joel 2:2\" sec=\"Joel 2:2\">phrase</a> <a href=\"#\" class=\"nd\">824970</a>  <span class=\"function\">Time</span> <span class=\"typ\">PP</span>\n",
       "    </div>\n",
       "    <div class=\"atoms\">\n",
       "\n",
       "<div class=\"word  \" >\n",
       "<a href=\"#\" class=\"nd\">294408</a>\n",
       "<div class=\"h\"><a target=\"_blank\" href=\"https://shebanq.ancient-data.org/hebrew/word?version=c&amp;id=1OD\" title=\"show this lexeme in SHEBANQ\">עַד־</a></div>\n",
       "<div class=\"features\"> <span class=\"pdp\"><a href=\"https://shebanq.ancient-data.org/hebrew/text?book=Joel&amp;chapter=2&amp;verse=2&amp;version=c&amp;mr=m&amp;qw=q&amp;tp=txt_p&amp;tr=hb&amp;wget=v&amp;qget=v&amp;nget=vt\" title=\"Joel 2:2\" sec=\"Joel 2:2\">prep</a></span> <span class=\"gloss\">unto</span> <span class=\"lex xft\"><span class=\"f\">lex=</span>&lt;D</span></div>\n",
       "\n",
       "\n",
       "</div>\n",
       "\n",
       "<div class=\"word  \" >\n",
       "<a href=\"#\" class=\"nd\">294409</a>\n",
       "<div class=\"h\"><a target=\"_blank\" href=\"https://shebanq.ancient-data.org/hebrew/word?version=c&amp;id=1CNHn\" title=\"show this lexeme in SHEBANQ\">שְׁנֵ֖י </a></div>\n",
       "<div class=\"features\"> <span class=\"pdp\"><a href=\"https://shebanq.ancient-data.org/hebrew/text?book=Joel&amp;chapter=2&amp;verse=2&amp;version=c&amp;mr=m&amp;qw=q&amp;tp=txt_p&amp;tr=hb&amp;wget=v&amp;qget=v&amp;nget=vt\" title=\"Joel 2:2\" sec=\"Joel 2:2\">subs</a></span> <span class=\"gloss\">year</span> <span class=\"lex xft\"><span class=\"f\">lex=</span>CNH/</span></div>\n",
       "\n",
       "\n",
       "</div>\n",
       "\n",
       "<div class=\"word  hl\"  style=\"background-color: #ffcc5c;\" >\n",
       "<a href=\"#\" class=\"nd\">294410</a>\n",
       "<div class=\"h\"><a target=\"_blank\" href=\"https://shebanq.ancient-data.org/hebrew/word?version=c&amp;id=1DWRn\" title=\"show this lexeme in SHEBANQ\">דֹּ֥ור </a></div>\n",
       "<div class=\"features\"> <span class=\"pdp\"><a href=\"https://shebanq.ancient-data.org/hebrew/text?book=Joel&amp;chapter=2&amp;verse=2&amp;version=c&amp;mr=m&amp;qw=q&amp;tp=txt_p&amp;tr=hb&amp;wget=v&amp;qget=v&amp;nget=vt\" title=\"Joel 2:2\" sec=\"Joel 2:2\">subs</a></span> <span class=\"gloss\">generation</span> <span class=\"lex xft\"><span class=\"f\">lex=</span>DWR/</span></div>\n",
       "\n",
       "\n",
       "</div>\n",
       "\n",
       "<div class=\"word  hl\"  style=\"background-color: #ffeead;\" >\n",
       "<a href=\"#\" class=\"nd\">294411</a>\n",
       "<div class=\"h\"><a target=\"_blank\" href=\"https://shebanq.ancient-data.org/hebrew/word?version=c&amp;id=1W\" title=\"show this lexeme in SHEBANQ\">וָ</a></div>\n",
       "<div class=\"features\"> <span class=\"pdp\"><a href=\"https://shebanq.ancient-data.org/hebrew/text?book=Joel&amp;chapter=2&amp;verse=2&amp;version=c&amp;mr=m&amp;qw=q&amp;tp=txt_p&amp;tr=hb&amp;wget=v&amp;qget=v&amp;nget=vt\" title=\"Joel 2:2\" sec=\"Joel 2:2\">conj</a></span> <span class=\"gloss\">and</span> <span class=\"lex xft\"><span class=\"f\">lex=</span>W</span></div>\n",
       "\n",
       "\n",
       "</div>\n",
       "\n",
       "<div class=\"word  hl\"  style=\"background-color: #96ceb4;\" >\n",
       "<a href=\"#\" class=\"nd\">294412</a>\n",
       "<div class=\"h\"><a target=\"_blank\" href=\"https://shebanq.ancient-data.org/hebrew/word?version=c&amp;id=1DWRn\" title=\"show this lexeme in SHEBANQ\">דֹֽור׃ </a></div>\n",
       "<div class=\"features\"> <span class=\"pdp\"><a href=\"https://shebanq.ancient-data.org/hebrew/text?book=Joel&amp;chapter=2&amp;verse=2&amp;version=c&amp;mr=m&amp;qw=q&amp;tp=txt_p&amp;tr=hb&amp;wget=v&amp;qget=v&amp;nget=vt\" title=\"Joel 2:2\" sec=\"Joel 2:2\">subs</a></span> <span class=\"gloss\">generation</span> <span class=\"lex xft\"><span class=\"f\">lex=</span>DWR/</span></div>\n",
       "\n",
       "\n",
       "</div>\n",
       "\n",
       "\n",
       "    </div>\n",
       "\n",
       "\n",
       "</div>\n",
       "\n",
       "\n",
       "</div>\n"
      ],
      "text/plain": [
       "<IPython.core.display.HTML object>"
      ]
     },
     "metadata": {},
     "output_type": "display_data"
    },
    {
     "data": {
      "text/html": [
       "<div style=\"background: #96ceb4; text-align: center\">part2</div>"
      ],
      "text/plain": [
       "<IPython.core.display.HTML object>"
      ]
     },
     "metadata": {},
     "output_type": "display_data"
    },
    {
     "data": {
      "text/html": [
       "<div style=\"background: #ffeead; text-align: center\">conj</div>"
      ],
      "text/plain": [
       "<IPython.core.display.HTML object>"
      ]
     },
     "metadata": {},
     "output_type": "display_data"
    },
    {
     "data": {
      "text/html": [
       "<div style=\"background: #ffcc5c; text-align: center\">part1</div>"
      ],
      "text/plain": [
       "<IPython.core.display.HTML object>"
      ]
     },
     "metadata": {},
     "output_type": "display_data"
    },
    {
     "name": "stdout",
     "output_type": "stream",
     "text": [
      "{   '__cx__': 'coord',\n",
      "    'conj': {'__cx__': 'conj', 'head': 294411},\n",
      "    'part1': {'__cx__': 'cont', 'head': 294410},\n",
      "    'part2': {'__cx__': 'cont', 'head': 294412}}\n",
      "\n"
     ]
    },
    {
     "data": {
      "text/html": [
       "<hr>"
      ],
      "text/plain": [
       "<IPython.core.display.HTML object>"
      ]
     },
     "metadata": {},
     "output_type": "display_data"
    },
    {
     "data": {
      "text/html": [
       "<p><b>result</b> <i>1449539 -> CX coord {295370, 295371, 295372}</i></p>"
      ],
      "text/plain": [
       "<IPython.core.display.HTML object>"
      ]
     },
     "metadata": {},
     "output_type": "display_data"
    },
    {
     "data": {
      "text/html": [
       "<a href=\"https://shebanq.ancient-data.org/hebrew/text?book=Joel&amp;chapter=4&amp;verse=20&amp;version=c&amp;mr=m&amp;qw=q&amp;tp=txt_p&amp;tr=hb&amp;wget=v&amp;qget=v&amp;nget=vt\" title=\"show this passage in SHEBANQ\" sec=\"Joel 4:20\">Joel 4:20</a>\n",
       "<div class=\"atoms  \" >\n",
       "<a href=\"#\" class=\"nd\">825573</a>\n",
       "\n",
       "\n",
       "\n",
       "<div class=\"patom  \" >\n",
       "\n",
       "    <div class=\"phrase \" >\n",
       "        <a href=\"https://shebanq.ancient-data.org/hebrew/text?book=Joel&amp;chapter=4&amp;verse=20&amp;version=c&amp;mr=m&amp;qw=q&amp;tp=txt_p&amp;tr=hb&amp;wget=v&amp;qget=v&amp;nget=vt\" title=\"Joel 4:20\" sec=\"Joel 4:20\">phrase</a> <a href=\"#\" class=\"nd\">825573</a>  <span class=\"function\">Time</span> <span class=\"typ\">PP</span>\n",
       "    </div>\n",
       "    <div class=\"atoms\">\n",
       "\n",
       "<div class=\"word  \" >\n",
       "<a href=\"#\" class=\"nd\">295369</a>\n",
       "<div class=\"h\"><a target=\"_blank\" href=\"https://shebanq.ancient-data.org/hebrew/word?version=c&amp;id=1L\" title=\"show this lexeme in SHEBANQ\">לְ</a></div>\n",
       "<div class=\"features\"> <span class=\"pdp\"><a href=\"https://shebanq.ancient-data.org/hebrew/text?book=Joel&amp;chapter=4&amp;verse=20&amp;version=c&amp;mr=m&amp;qw=q&amp;tp=txt_p&amp;tr=hb&amp;wget=v&amp;qget=v&amp;nget=vt\" title=\"Joel 4:20\" sec=\"Joel 4:20\">prep</a></span> <span class=\"gloss\">to</span> <span class=\"lex xft\"><span class=\"f\">lex=</span>L</span></div>\n",
       "\n",
       "\n",
       "</div>\n",
       "\n",
       "<div class=\"word  hl\"  style=\"background-color: #ffcc5c;\" >\n",
       "<a href=\"#\" class=\"nd\">295370</a>\n",
       "<div class=\"h\"><a target=\"_blank\" href=\"https://shebanq.ancient-data.org/hebrew/word?version=c&amp;id=1DWRn\" title=\"show this lexeme in SHEBANQ\">דֹ֥ור </a></div>\n",
       "<div class=\"features\"> <span class=\"pdp\"><a href=\"https://shebanq.ancient-data.org/hebrew/text?book=Joel&amp;chapter=4&amp;verse=20&amp;version=c&amp;mr=m&amp;qw=q&amp;tp=txt_p&amp;tr=hb&amp;wget=v&amp;qget=v&amp;nget=vt\" title=\"Joel 4:20\" sec=\"Joel 4:20\">subs</a></span> <span class=\"gloss\">generation</span> <span class=\"lex xft\"><span class=\"f\">lex=</span>DWR/</span></div>\n",
       "\n",
       "\n",
       "</div>\n",
       "\n",
       "<div class=\"word  hl\"  style=\"background-color: #ffeead;\" >\n",
       "<a href=\"#\" class=\"nd\">295371</a>\n",
       "<div class=\"h\"><a target=\"_blank\" href=\"https://shebanq.ancient-data.org/hebrew/word?version=c&amp;id=1W\" title=\"show this lexeme in SHEBANQ\">וָ</a></div>\n",
       "<div class=\"features\"> <span class=\"pdp\"><a href=\"https://shebanq.ancient-data.org/hebrew/text?book=Joel&amp;chapter=4&amp;verse=20&amp;version=c&amp;mr=m&amp;qw=q&amp;tp=txt_p&amp;tr=hb&amp;wget=v&amp;qget=v&amp;nget=vt\" title=\"Joel 4:20\" sec=\"Joel 4:20\">conj</a></span> <span class=\"gloss\">and</span> <span class=\"lex xft\"><span class=\"f\">lex=</span>W</span></div>\n",
       "\n",
       "\n",
       "</div>\n",
       "\n",
       "<div class=\"word  hl\"  style=\"background-color: #96ceb4;\" >\n",
       "<a href=\"#\" class=\"nd\">295372</a>\n",
       "<div class=\"h\"><a target=\"_blank\" href=\"https://shebanq.ancient-data.org/hebrew/word?version=c&amp;id=1DWRn\" title=\"show this lexeme in SHEBANQ\">דֹֽור׃ </a></div>\n",
       "<div class=\"features\"> <span class=\"pdp\"><a href=\"https://shebanq.ancient-data.org/hebrew/text?book=Joel&amp;chapter=4&amp;verse=20&amp;version=c&amp;mr=m&amp;qw=q&amp;tp=txt_p&amp;tr=hb&amp;wget=v&amp;qget=v&amp;nget=vt\" title=\"Joel 4:20\" sec=\"Joel 4:20\">subs</a></span> <span class=\"gloss\">generation</span> <span class=\"lex xft\"><span class=\"f\">lex=</span>DWR/</span></div>\n",
       "\n",
       "\n",
       "</div>\n",
       "\n",
       "\n",
       "    </div>\n",
       "\n",
       "\n",
       "</div>\n",
       "\n",
       "\n",
       "</div>\n"
      ],
      "text/plain": [
       "<IPython.core.display.HTML object>"
      ]
     },
     "metadata": {},
     "output_type": "display_data"
    },
    {
     "data": {
      "text/html": [
       "<div style=\"background: #96ceb4; text-align: center\">part2</div>"
      ],
      "text/plain": [
       "<IPython.core.display.HTML object>"
      ]
     },
     "metadata": {},
     "output_type": "display_data"
    },
    {
     "data": {
      "text/html": [
       "<div style=\"background: #ffeead; text-align: center\">conj</div>"
      ],
      "text/plain": [
       "<IPython.core.display.HTML object>"
      ]
     },
     "metadata": {},
     "output_type": "display_data"
    },
    {
     "data": {
      "text/html": [
       "<div style=\"background: #ffcc5c; text-align: center\">part1</div>"
      ],
      "text/plain": [
       "<IPython.core.display.HTML object>"
      ]
     },
     "metadata": {},
     "output_type": "display_data"
    },
    {
     "name": "stdout",
     "output_type": "stream",
     "text": [
      "{   '__cx__': 'coord',\n",
      "    'conj': {'__cx__': 'conj', 'head': 295371},\n",
      "    'part1': {'__cx__': 'cont', 'head': 295370},\n",
      "    'part2': {'__cx__': 'cont', 'head': 295372}}\n",
      "\n"
     ]
    },
    {
     "data": {
      "text/html": [
       "<hr>"
      ],
      "text/plain": [
       "<IPython.core.display.HTML object>"
      ]
     },
     "metadata": {},
     "output_type": "display_data"
    },
    {
     "data": {
      "text/html": [
       "<p><b>result</b> <i>1449540 -> CX coord {295396, 295397, 295398, 295401, 295402, 295403, 295404}</i></p>"
      ],
      "text/plain": [
       "<IPython.core.display.HTML object>"
      ]
     },
     "metadata": {},
     "output_type": "display_data"
    },
    {
     "data": {
      "text/html": [
       "<a href=\"https://shebanq.ancient-data.org/hebrew/text?book=Amos&amp;chapter=1&amp;verse=1&amp;version=c&amp;mr=m&amp;qw=q&amp;tp=txt_p&amp;tr=hb&amp;wget=v&amp;qget=v&amp;nget=vt\" title=\"show this passage in SHEBANQ\" sec=\"Amos 1:1\">Amos 1:1</a>\n",
       "<div class=\"atoms  \" >\n",
       "<a href=\"#\" class=\"nd\">825590</a>\n",
       "\n",
       "\n",
       "\n",
       "<div class=\"patom  l \" >\n",
       "\n",
       "    <div class=\"phrase \" >\n",
       "        <a href=\"https://shebanq.ancient-data.org/hebrew/text?book=Amos&amp;chapter=1&amp;verse=1&amp;version=c&amp;mr=m&amp;qw=q&amp;tp=txt_p&amp;tr=hb&amp;wget=v&amp;qget=v&amp;nget=vt\" title=\"Amos 1:1\" sec=\"Amos 1:1\">phrase</a> <a href=\"#\" class=\"nd\">825590</a>  <span class=\"function\">Time</span> <span class=\"typ\">PP</span>\n",
       "    </div>\n",
       "    <div class=\"atoms\">\n",
       "\n",
       "<div class=\"word  hl\"  style=\"background-color: #ffcc5c;\" >\n",
       "<a href=\"#\" class=\"nd\">295396</a>\n",
       "<div class=\"h\"><a target=\"_blank\" href=\"https://shebanq.ancient-data.org/hebrew/word?version=c&amp;id=1B\" title=\"show this lexeme in SHEBANQ\">בִּ</a></div>\n",
       "<div class=\"features\"> <span class=\"pdp\"><a href=\"https://shebanq.ancient-data.org/hebrew/text?book=Amos&amp;chapter=1&amp;verse=1&amp;version=c&amp;mr=m&amp;qw=q&amp;tp=txt_p&amp;tr=hb&amp;wget=v&amp;qget=v&amp;nget=vt\" title=\"Amos 1:1\" sec=\"Amos 1:1\">prep</a></span> <span class=\"gloss\">in</span> <span class=\"lex xft\"><span class=\"f\">lex=</span>B</span></div>\n",
       "\n",
       "\n",
       "</div>\n",
       "\n",
       "<div class=\"word  hl\"  style=\"background-color: #ffcc5c;\" >\n",
       "<a href=\"#\" class=\"nd\">295397</a>\n",
       "<div class=\"h\"><a target=\"_blank\" href=\"https://shebanq.ancient-data.org/hebrew/word?version=c&amp;id=1JWMn\" title=\"show this lexeme in SHEBANQ\">ימֵ֣י׀ </a></div>\n",
       "<div class=\"features\"> <span class=\"pdp\"><a href=\"https://shebanq.ancient-data.org/hebrew/text?book=Amos&amp;chapter=1&amp;verse=1&amp;version=c&amp;mr=m&amp;qw=q&amp;tp=txt_p&amp;tr=hb&amp;wget=v&amp;qget=v&amp;nget=vt\" title=\"Amos 1:1\" sec=\"Amos 1:1\">subs</a></span> <span class=\"gloss\">day</span> <span class=\"lex xft\"><span class=\"f\">lex=</span>JWM/</span></div>\n",
       "\n",
       "\n",
       "</div>\n",
       "\n",
       "<div class=\"word  hl\"  style=\"background-color: #ffcc5c;\" >\n",
       "<a href=\"#\" class=\"nd\">295398</a>\n",
       "<div class=\"h\"><a target=\"_blank\" href=\"https://shebanq.ancient-data.org/hebrew/word?version=c&amp;id=1OZJHn\" title=\"show this lexeme in SHEBANQ\">עֻזִּיָּ֣ה </a></div>\n",
       "<div class=\"features\"> <span class=\"pdp\"><a href=\"https://shebanq.ancient-data.org/hebrew/text?book=Amos&amp;chapter=1&amp;verse=1&amp;version=c&amp;mr=m&amp;qw=q&amp;tp=txt_p&amp;tr=hb&amp;wget=v&amp;qget=v&amp;nget=vt\" title=\"Amos 1:1\" sec=\"Amos 1:1\">nmpr</a></span> <span class=\"gloss\">Uzziah</span> <span class=\"lex xft\"><span class=\"f\">lex=</span>&lt;ZJH/</span></div>\n",
       "\n",
       "\n",
       "</div>\n",
       "\n",
       "\n",
       "    </div>\n",
       "\n",
       "\n",
       "</div>\n",
       "\n",
       "<div class=\"patom  r l \" >\n",
       "\n",
       "    <div class=\"phrase \" >\n",
       "        <a href=\"https://shebanq.ancient-data.org/hebrew/text?book=Amos&amp;chapter=1&amp;verse=1&amp;version=c&amp;mr=m&amp;qw=q&amp;tp=txt_p&amp;tr=hb&amp;wget=v&amp;qget=v&amp;nget=vt\" title=\"Amos 1:1\" sec=\"Amos 1:1\">phrase</a> <a href=\"#\" class=\"nd\">825590</a>  <span class=\"function\">Time</span> <span class=\"typ\">PP|NP</span>\n",
       "    </div>\n",
       "    <div class=\"atoms\">\n",
       "\n",
       "<div class=\"word  \" >\n",
       "<a href=\"#\" class=\"nd\">295399</a>\n",
       "<div class=\"h\"><a target=\"_blank\" href=\"https://shebanq.ancient-data.org/hebrew/word?version=c&amp;id=1MLKn\" title=\"show this lexeme in SHEBANQ\">מֶֽלֶךְ־</a></div>\n",
       "<div class=\"features\"> <span class=\"pdp\"><a href=\"https://shebanq.ancient-data.org/hebrew/text?book=Amos&amp;chapter=1&amp;verse=1&amp;version=c&amp;mr=m&amp;qw=q&amp;tp=txt_p&amp;tr=hb&amp;wget=v&amp;qget=v&amp;nget=vt\" title=\"Amos 1:1\" sec=\"Amos 1:1\">subs</a></span> <span class=\"gloss\">king</span> <span class=\"lex xft\"><span class=\"f\">lex=</span>MLK/</span></div>\n",
       "\n",
       "\n",
       "</div>\n",
       "\n",
       "<div class=\"word  \" >\n",
       "<a href=\"#\" class=\"nd\">295400</a>\n",
       "<div class=\"h\"><a target=\"_blank\" href=\"https://shebanq.ancient-data.org/hebrew/word?version=c&amp;id=1JHWDHn\" title=\"show this lexeme in SHEBANQ\">יְהוּדָ֗ה </a></div>\n",
       "<div class=\"features\"> <span class=\"pdp\"><a href=\"https://shebanq.ancient-data.org/hebrew/text?book=Amos&amp;chapter=1&amp;verse=1&amp;version=c&amp;mr=m&amp;qw=q&amp;tp=txt_p&amp;tr=hb&amp;wget=v&amp;qget=v&amp;nget=vt\" title=\"Amos 1:1\" sec=\"Amos 1:1\">nmpr</a></span> <span class=\"gloss\">Judah</span> <span class=\"lex xft\"><span class=\"f\">lex=</span>JHWDH/</span></div>\n",
       "\n",
       "\n",
       "</div>\n",
       "\n",
       "\n",
       "    </div>\n",
       "\n",
       "\n",
       "</div>\n",
       "\n",
       "<div class=\"patom  r l \" >\n",
       "\n",
       "    <div class=\"phrase \" >\n",
       "        <a href=\"https://shebanq.ancient-data.org/hebrew/text?book=Amos&amp;chapter=1&amp;verse=1&amp;version=c&amp;mr=m&amp;qw=q&amp;tp=txt_p&amp;tr=hb&amp;wget=v&amp;qget=v&amp;nget=vt\" title=\"Amos 1:1\" sec=\"Amos 1:1\">phrase</a> <a href=\"#\" class=\"nd\">825590</a>  <span class=\"function\">Time</span> <span class=\"typ\">PP|CP</span>\n",
       "    </div>\n",
       "    <div class=\"atoms\">\n",
       "\n",
       "<div class=\"word  hl\"  style=\"background-color: #ffeead;\" >\n",
       "<a href=\"#\" class=\"nd\">295401</a>\n",
       "<div class=\"h\"><a target=\"_blank\" href=\"https://shebanq.ancient-data.org/hebrew/word?version=c&amp;id=1W\" title=\"show this lexeme in SHEBANQ\">וּ</a></div>\n",
       "<div class=\"features\"> <span class=\"pdp\"><a href=\"https://shebanq.ancient-data.org/hebrew/text?book=Amos&amp;chapter=1&amp;verse=1&amp;version=c&amp;mr=m&amp;qw=q&amp;tp=txt_p&amp;tr=hb&amp;wget=v&amp;qget=v&amp;nget=vt\" title=\"Amos 1:1\" sec=\"Amos 1:1\">conj</a></span> <span class=\"gloss\">and</span> <span class=\"lex xft\"><span class=\"f\">lex=</span>W</span></div>\n",
       "\n",
       "\n",
       "</div>\n",
       "\n",
       "\n",
       "    </div>\n",
       "\n",
       "\n",
       "</div>\n",
       "\n",
       "<div class=\"patom  r l \" >\n",
       "\n",
       "    <div class=\"phrase \" >\n",
       "        <a href=\"https://shebanq.ancient-data.org/hebrew/text?book=Amos&amp;chapter=1&amp;verse=1&amp;version=c&amp;mr=m&amp;qw=q&amp;tp=txt_p&amp;tr=hb&amp;wget=v&amp;qget=v&amp;nget=vt\" title=\"Amos 1:1\" sec=\"Amos 1:1\">phrase</a> <a href=\"#\" class=\"nd\">825590</a>  <span class=\"function\">Time</span> <span class=\"typ\">PP</span>\n",
       "    </div>\n",
       "    <div class=\"atoms\">\n",
       "\n",
       "<div class=\"word  hl\"  style=\"background-color: #96ceb4;\" >\n",
       "<a href=\"#\" class=\"nd\">295402</a>\n",
       "<div class=\"h\"><a target=\"_blank\" href=\"https://shebanq.ancient-data.org/hebrew/word?version=c&amp;id=1B\" title=\"show this lexeme in SHEBANQ\">בִ</a></div>\n",
       "<div class=\"features\"> <span class=\"pdp\"><a href=\"https://shebanq.ancient-data.org/hebrew/text?book=Amos&amp;chapter=1&amp;verse=1&amp;version=c&amp;mr=m&amp;qw=q&amp;tp=txt_p&amp;tr=hb&amp;wget=v&amp;qget=v&amp;nget=vt\" title=\"Amos 1:1\" sec=\"Amos 1:1\">prep</a></span> <span class=\"gloss\">in</span> <span class=\"lex xft\"><span class=\"f\">lex=</span>B</span></div>\n",
       "\n",
       "\n",
       "</div>\n",
       "\n",
       "<div class=\"word  hl\"  style=\"background-color: #96ceb4;\" >\n",
       "<a href=\"#\" class=\"nd\">295403</a>\n",
       "<div class=\"h\"><a target=\"_blank\" href=\"https://shebanq.ancient-data.org/hebrew/word?version=c&amp;id=1JWMn\" title=\"show this lexeme in SHEBANQ\">ימֵ֞י </a></div>\n",
       "<div class=\"features\"> <span class=\"pdp\"><a href=\"https://shebanq.ancient-data.org/hebrew/text?book=Amos&amp;chapter=1&amp;verse=1&amp;version=c&amp;mr=m&amp;qw=q&amp;tp=txt_p&amp;tr=hb&amp;wget=v&amp;qget=v&amp;nget=vt\" title=\"Amos 1:1\" sec=\"Amos 1:1\">subs</a></span> <span class=\"gloss\">day</span> <span class=\"lex xft\"><span class=\"f\">lex=</span>JWM/</span></div>\n",
       "\n",
       "\n",
       "</div>\n",
       "\n",
       "<div class=\"word  hl\"  style=\"background-color: #96ceb4;\" >\n",
       "<a href=\"#\" class=\"nd\">295404</a>\n",
       "<div class=\"h\"><a target=\"_blank\" href=\"https://shebanq.ancient-data.org/hebrew/word?version=c&amp;id=1JRBOMn\" title=\"show this lexeme in SHEBANQ\">יָרָבְעָ֤ם </a></div>\n",
       "<div class=\"features\"> <span class=\"pdp\"><a href=\"https://shebanq.ancient-data.org/hebrew/text?book=Amos&amp;chapter=1&amp;verse=1&amp;version=c&amp;mr=m&amp;qw=q&amp;tp=txt_p&amp;tr=hb&amp;wget=v&amp;qget=v&amp;nget=vt\" title=\"Amos 1:1\" sec=\"Amos 1:1\">nmpr</a></span> <span class=\"gloss\">Jeroboam</span> <span class=\"lex xft\"><span class=\"f\">lex=</span>JRB&lt;M/</span></div>\n",
       "\n",
       "\n",
       "</div>\n",
       "\n",
       "\n",
       "    </div>\n",
       "\n",
       "\n",
       "</div>\n",
       "\n",
       "<div class=\"patom  r l \" >\n",
       "\n",
       "    <div class=\"phrase \" >\n",
       "        <a href=\"https://shebanq.ancient-data.org/hebrew/text?book=Amos&amp;chapter=1&amp;verse=1&amp;version=c&amp;mr=m&amp;qw=q&amp;tp=txt_p&amp;tr=hb&amp;wget=v&amp;qget=v&amp;nget=vt\" title=\"Amos 1:1\" sec=\"Amos 1:1\">phrase</a> <a href=\"#\" class=\"nd\">825590</a>  <span class=\"function\">Time</span> <span class=\"typ\">PP|NP</span>\n",
       "    </div>\n",
       "    <div class=\"atoms\">\n",
       "\n",
       "<div class=\"word  \" >\n",
       "<a href=\"#\" class=\"nd\">295405</a>\n",
       "<div class=\"h\"><a target=\"_blank\" href=\"https://shebanq.ancient-data.org/hebrew/word?version=c&amp;id=1BNn\" title=\"show this lexeme in SHEBANQ\">בֶּן־</a></div>\n",
       "<div class=\"features\"> <span class=\"pdp\"><a href=\"https://shebanq.ancient-data.org/hebrew/text?book=Amos&amp;chapter=1&amp;verse=1&amp;version=c&amp;mr=m&amp;qw=q&amp;tp=txt_p&amp;tr=hb&amp;wget=v&amp;qget=v&amp;nget=vt\" title=\"Amos 1:1\" sec=\"Amos 1:1\">subs</a></span> <span class=\"gloss\">son</span> <span class=\"lex xft\"><span class=\"f\">lex=</span>BN/</span></div>\n",
       "\n",
       "\n",
       "</div>\n",
       "\n",
       "<div class=\"word  \" >\n",
       "<a href=\"#\" class=\"nd\">295406</a>\n",
       "<div class=\"h\"><a target=\"_blank\" href=\"https://shebanq.ancient-data.org/hebrew/word?version=c&amp;id=1JWACn\" title=\"show this lexeme in SHEBANQ\">יֹואָשׁ֙ </a></div>\n",
       "<div class=\"features\"> <span class=\"pdp\"><a href=\"https://shebanq.ancient-data.org/hebrew/text?book=Amos&amp;chapter=1&amp;verse=1&amp;version=c&amp;mr=m&amp;qw=q&amp;tp=txt_p&amp;tr=hb&amp;wget=v&amp;qget=v&amp;nget=vt\" title=\"Amos 1:1\" sec=\"Amos 1:1\">nmpr</a></span> <span class=\"gloss\">Joash</span> <span class=\"lex xft\"><span class=\"f\">lex=</span>JW>C/</span></div>\n",
       "\n",
       "\n",
       "</div>\n",
       "\n",
       "\n",
       "    </div>\n",
       "\n",
       "\n",
       "</div>\n",
       "\n",
       "<div class=\"patom  r \" >\n",
       "\n",
       "    <div class=\"phrase \" >\n",
       "        <a href=\"https://shebanq.ancient-data.org/hebrew/text?book=Amos&amp;chapter=1&amp;verse=1&amp;version=c&amp;mr=m&amp;qw=q&amp;tp=txt_p&amp;tr=hb&amp;wget=v&amp;qget=v&amp;nget=vt\" title=\"Amos 1:1\" sec=\"Amos 1:1\">phrase</a> <a href=\"#\" class=\"nd\">825590</a>  <span class=\"function\">Time</span> <span class=\"typ\">PP|NP</span>\n",
       "    </div>\n",
       "    <div class=\"atoms\">\n",
       "\n",
       "<div class=\"word  \" >\n",
       "<a href=\"#\" class=\"nd\">295407</a>\n",
       "<div class=\"h\"><a target=\"_blank\" href=\"https://shebanq.ancient-data.org/hebrew/word?version=c&amp;id=1MLKn\" title=\"show this lexeme in SHEBANQ\">מֶ֣לֶךְ </a></div>\n",
       "<div class=\"features\"> <span class=\"pdp\"><a href=\"https://shebanq.ancient-data.org/hebrew/text?book=Amos&amp;chapter=1&amp;verse=1&amp;version=c&amp;mr=m&amp;qw=q&amp;tp=txt_p&amp;tr=hb&amp;wget=v&amp;qget=v&amp;nget=vt\" title=\"Amos 1:1\" sec=\"Amos 1:1\">subs</a></span> <span class=\"gloss\">king</span> <span class=\"lex xft\"><span class=\"f\">lex=</span>MLK/</span></div>\n",
       "\n",
       "\n",
       "</div>\n",
       "\n",
       "<div class=\"word  \" >\n",
       "<a href=\"#\" class=\"nd\">295408</a>\n",
       "<div class=\"h\"><a target=\"_blank\" href=\"https://shebanq.ancient-data.org/hebrew/word?version=c&amp;id=1JFRALn\" title=\"show this lexeme in SHEBANQ\">יִשְׂרָאֵ֔ל </a></div>\n",
       "<div class=\"features\"> <span class=\"pdp\"><a href=\"https://shebanq.ancient-data.org/hebrew/text?book=Amos&amp;chapter=1&amp;verse=1&amp;version=c&amp;mr=m&amp;qw=q&amp;tp=txt_p&amp;tr=hb&amp;wget=v&amp;qget=v&amp;nget=vt\" title=\"Amos 1:1\" sec=\"Amos 1:1\">nmpr</a></span> <span class=\"gloss\">Israel</span> <span class=\"lex xft\"><span class=\"f\">lex=</span>JFR>L/</span></div>\n",
       "\n",
       "\n",
       "</div>\n",
       "\n",
       "\n",
       "    </div>\n",
       "\n",
       "\n",
       "</div>\n",
       "\n",
       "\n",
       "</div>\n"
      ],
      "text/plain": [
       "<IPython.core.display.HTML object>"
      ]
     },
     "metadata": {},
     "output_type": "display_data"
    },
    {
     "data": {
      "text/html": [
       "<div style=\"background: #96ceb4; text-align: center\">part2</div>"
      ],
      "text/plain": [
       "<IPython.core.display.HTML object>"
      ]
     },
     "metadata": {},
     "output_type": "display_data"
    },
    {
     "data": {
      "text/html": [
       "<div style=\"background: #ffeead; text-align: center\">conj</div>"
      ],
      "text/plain": [
       "<IPython.core.display.HTML object>"
      ]
     },
     "metadata": {},
     "output_type": "display_data"
    },
    {
     "data": {
      "text/html": [
       "<div style=\"background: #ffcc5c; text-align: center\">part1</div>"
      ],
      "text/plain": [
       "<IPython.core.display.HTML object>"
      ]
     },
     "metadata": {},
     "output_type": "display_data"
    },
    {
     "name": "stdout",
     "output_type": "stream",
     "text": [
      "{   '__cx__': 'coord',\n",
      "    'conj': {'__cx__': 'conj', 'head': 295401},\n",
      "    'part1': {   '__cx__': 'prep_ph',\n",
      "                 'head': {   '__cx__': 'geni_ph',\n",
      "                             'geni': {'__cx__': 'name', 'head': 295398},\n",
      "                             'head': {'__cx__': 'cont', 'head': 295397}},\n",
      "                 'prep': {'__cx__': 'prep', 'head': 295396}},\n",
      "    'part2': {   '__cx__': 'prep_ph',\n",
      "                 'head': {   '__cx__': 'geni_ph',\n",
      "                             'geni': {'__cx__': 'name', 'head': 295404},\n",
      "                             'head': {'__cx__': 'cont', 'head': 295403}},\n",
      "                 'prep': {'__cx__': 'prep', 'head': 295402}}}\n",
      "\n"
     ]
    },
    {
     "data": {
      "text/html": [
       "<hr>"
      ],
      "text/plain": [
       "<IPython.core.display.HTML object>"
      ]
     },
     "metadata": {},
     "output_type": "display_data"
    },
    {
     "data": {
      "text/html": [
       "<p><b>result</b> <i>1449583 -> CX coord {300416, 300414, 300415}</i></p>"
      ],
      "text/plain": [
       "<IPython.core.display.HTML object>"
      ]
     },
     "metadata": {},
     "output_type": "display_data"
    },
    {
     "data": {
      "text/html": [
       "<a href=\"https://shebanq.ancient-data.org/hebrew/text?book=Micha&amp;chapter=4&amp;verse=5&amp;version=c&amp;mr=m&amp;qw=q&amp;tp=txt_p&amp;tr=hb&amp;wget=v&amp;qget=v&amp;nget=vt\" title=\"show this passage in SHEBANQ\" sec=\"Micah 4:5\">Micah 4:5</a>\n",
       "<div class=\"atoms  \" >\n",
       "<a href=\"#\" class=\"nd\">828939</a>\n",
       "\n",
       "\n",
       "\n",
       "<div class=\"patom  \" >\n",
       "\n",
       "    <div class=\"phrase \" >\n",
       "        <a href=\"https://shebanq.ancient-data.org/hebrew/text?book=Micha&amp;chapter=4&amp;verse=5&amp;version=c&amp;mr=m&amp;qw=q&amp;tp=txt_p&amp;tr=hb&amp;wget=v&amp;qget=v&amp;nget=vt\" title=\"Micah 4:5\" sec=\"Micah 4:5\">phrase</a> <a href=\"#\" class=\"nd\">828939</a>  <span class=\"function\">Time</span> <span class=\"typ\">PP</span>\n",
       "    </div>\n",
       "    <div class=\"atoms\">\n",
       "\n",
       "<div class=\"word  \" >\n",
       "<a href=\"#\" class=\"nd\">300413</a>\n",
       "<div class=\"h\"><a target=\"_blank\" href=\"https://shebanq.ancient-data.org/hebrew/word?version=c&amp;id=1L\" title=\"show this lexeme in SHEBANQ\">לְ</a></div>\n",
       "<div class=\"features\"> <span class=\"pdp\"><a href=\"https://shebanq.ancient-data.org/hebrew/text?book=Micha&amp;chapter=4&amp;verse=5&amp;version=c&amp;mr=m&amp;qw=q&amp;tp=txt_p&amp;tr=hb&amp;wget=v&amp;qget=v&amp;nget=vt\" title=\"Micah 4:5\" sec=\"Micah 4:5\">prep</a></span> <span class=\"gloss\">to</span> <span class=\"lex xft\"><span class=\"f\">lex=</span>L</span></div>\n",
       "\n",
       "\n",
       "</div>\n",
       "\n",
       "<div class=\"word  hl\"  style=\"background-color: #ffcc5c;\" >\n",
       "<a href=\"#\" class=\"nd\">300414</a>\n",
       "<div class=\"h\"><a target=\"_blank\" href=\"https://shebanq.ancient-data.org/hebrew/word?version=c&amp;id=1OWLMn\" title=\"show this lexeme in SHEBANQ\">עֹולָ֥ם </a></div>\n",
       "<div class=\"features\"> <span class=\"pdp\"><a href=\"https://shebanq.ancient-data.org/hebrew/text?book=Micha&amp;chapter=4&amp;verse=5&amp;version=c&amp;mr=m&amp;qw=q&amp;tp=txt_p&amp;tr=hb&amp;wget=v&amp;qget=v&amp;nget=vt\" title=\"Micah 4:5\" sec=\"Micah 4:5\">subs</a></span> <span class=\"gloss\">eternity</span> <span class=\"lex xft\"><span class=\"f\">lex=</span>&lt;WLM/</span></div>\n",
       "\n",
       "\n",
       "</div>\n",
       "\n",
       "<div class=\"word  hl\"  style=\"background-color: #ffeead;\" >\n",
       "<a href=\"#\" class=\"nd\">300415</a>\n",
       "<div class=\"h\"><a target=\"_blank\" href=\"https://shebanq.ancient-data.org/hebrew/word?version=c&amp;id=1W\" title=\"show this lexeme in SHEBANQ\">וָ</a></div>\n",
       "<div class=\"features\"> <span class=\"pdp\"><a href=\"https://shebanq.ancient-data.org/hebrew/text?book=Micha&amp;chapter=4&amp;verse=5&amp;version=c&amp;mr=m&amp;qw=q&amp;tp=txt_p&amp;tr=hb&amp;wget=v&amp;qget=v&amp;nget=vt\" title=\"Micah 4:5\" sec=\"Micah 4:5\">conj</a></span> <span class=\"gloss\">and</span> <span class=\"lex xft\"><span class=\"f\">lex=</span>W</span></div>\n",
       "\n",
       "\n",
       "</div>\n",
       "\n",
       "<div class=\"word  hl\"  style=\"background-color: #96ceb4;\" >\n",
       "<a href=\"#\" class=\"nd\">300416</a>\n",
       "<div class=\"h\"><a target=\"_blank\" href=\"https://shebanq.ancient-data.org/hebrew/word?version=c&amp;id=1ODn\" title=\"show this lexeme in SHEBANQ\">עֶֽד׃ פ </a></div>\n",
       "<div class=\"features\"> <span class=\"pdp\"><a href=\"https://shebanq.ancient-data.org/hebrew/text?book=Micha&amp;chapter=4&amp;verse=5&amp;version=c&amp;mr=m&amp;qw=q&amp;tp=txt_p&amp;tr=hb&amp;wget=v&amp;qget=v&amp;nget=vt\" title=\"Micah 4:5\" sec=\"Micah 4:5\">subs</a></span> <span class=\"gloss\">future</span> <span class=\"lex xft\"><span class=\"f\">lex=</span>&lt;D/</span></div>\n",
       "\n",
       "\n",
       "</div>\n",
       "\n",
       "\n",
       "    </div>\n",
       "\n",
       "\n",
       "</div>\n",
       "\n",
       "\n",
       "</div>\n"
      ],
      "text/plain": [
       "<IPython.core.display.HTML object>"
      ]
     },
     "metadata": {},
     "output_type": "display_data"
    },
    {
     "data": {
      "text/html": [
       "<div style=\"background: #96ceb4; text-align: center\">part2</div>"
      ],
      "text/plain": [
       "<IPython.core.display.HTML object>"
      ]
     },
     "metadata": {},
     "output_type": "display_data"
    },
    {
     "data": {
      "text/html": [
       "<div style=\"background: #ffeead; text-align: center\">conj</div>"
      ],
      "text/plain": [
       "<IPython.core.display.HTML object>"
      ]
     },
     "metadata": {},
     "output_type": "display_data"
    },
    {
     "data": {
      "text/html": [
       "<div style=\"background: #ffcc5c; text-align: center\">part1</div>"
      ],
      "text/plain": [
       "<IPython.core.display.HTML object>"
      ]
     },
     "metadata": {},
     "output_type": "display_data"
    },
    {
     "name": "stdout",
     "output_type": "stream",
     "text": [
      "{   '__cx__': 'coord',\n",
      "    'conj': {'__cx__': 'conj', 'head': 300415},\n",
      "    'part1': {'__cx__': 'cont', 'head': 300414},\n",
      "    'part2': {'__cx__': 'cont', 'head': 300416}}\n",
      "\n"
     ]
    },
    {
     "data": {
      "text/html": [
       "<hr>"
      ],
      "text/plain": [
       "<IPython.core.display.HTML object>"
      ]
     },
     "metadata": {},
     "output_type": "display_data"
    },
    {
     "data": {
      "text/html": [
       "<p><b>result</b> <i>1449628 -> CX coord {304856, 304857, 304858, 304859, 304860, 304861, 304862}</i></p>"
      ],
      "text/plain": [
       "<IPython.core.display.HTML object>"
      ]
     },
     "metadata": {},
     "output_type": "display_data"
    },
    {
     "data": {
      "text/html": [
       "<a href=\"https://shebanq.ancient-data.org/hebrew/text?book=Haggai&amp;chapter=2&amp;verse=18&amp;version=c&amp;mr=m&amp;qw=q&amp;tp=txt_p&amp;tr=hb&amp;wget=v&amp;qget=v&amp;nget=vt\" title=\"show this passage in SHEBANQ\" sec=\"Haggai 2:18\">Haggai 2:18</a>\n",
       "<div class=\"atoms  \" >\n",
       "<a href=\"#\" class=\"nd\">831763</a>\n",
       "\n",
       "\n",
       "\n",
       "<div class=\"patom  l \" >\n",
       "\n",
       "    <div class=\"phrase \" >\n",
       "        <a href=\"https://shebanq.ancient-data.org/hebrew/text?book=Haggai&amp;chapter=2&amp;verse=18&amp;version=c&amp;mr=m&amp;qw=q&amp;tp=txt_p&amp;tr=hb&amp;wget=v&amp;qget=v&amp;nget=vt\" title=\"Haggai 2:18\" sec=\"Haggai 2:18\">phrase</a> <a href=\"#\" class=\"nd\">831763</a>  <span class=\"function\">Time</span> <span class=\"typ\">PP</span>\n",
       "    </div>\n",
       "    <div class=\"atoms\">\n",
       "\n",
       "<div class=\"word  hl\"  style=\"background-color: #ffcc5c;\" >\n",
       "<a href=\"#\" class=\"nd\">304856</a>\n",
       "<div class=\"h\"><a target=\"_blank\" href=\"https://shebanq.ancient-data.org/hebrew/word?version=c&amp;id=1MN\" title=\"show this lexeme in SHEBANQ\">מִן־</a></div>\n",
       "<div class=\"features\"> <span class=\"pdp\"><a href=\"https://shebanq.ancient-data.org/hebrew/text?book=Haggai&amp;chapter=2&amp;verse=18&amp;version=c&amp;mr=m&amp;qw=q&amp;tp=txt_p&amp;tr=hb&amp;wget=v&amp;qget=v&amp;nget=vt\" title=\"Haggai 2:18\" sec=\"Haggai 2:18\">prep</a></span> <span class=\"gloss\">from</span> <span class=\"lex xft\"><span class=\"f\">lex=</span>MN</span></div>\n",
       "\n",
       "\n",
       "</div>\n",
       "\n",
       "<div class=\"word  hl\"  style=\"background-color: #ffcc5c;\" >\n",
       "<a href=\"#\" class=\"nd\">304857</a>\n",
       "<div class=\"h\"><a target=\"_blank\" href=\"https://shebanq.ancient-data.org/hebrew/word?version=c&amp;id=1H\" title=\"show this lexeme in SHEBANQ\">הַ</a></div>\n",
       "<div class=\"features\"> <span class=\"pdp\"><a href=\"https://shebanq.ancient-data.org/hebrew/text?book=Haggai&amp;chapter=2&amp;verse=18&amp;version=c&amp;mr=m&amp;qw=q&amp;tp=txt_p&amp;tr=hb&amp;wget=v&amp;qget=v&amp;nget=vt\" title=\"Haggai 2:18\" sec=\"Haggai 2:18\">art</a></span> <span class=\"gloss\">the</span> <span class=\"lex xft\"><span class=\"f\">lex=</span>H</span></div>\n",
       "\n",
       "\n",
       "</div>\n",
       "\n",
       "<div class=\"word  hl\"  style=\"background-color: #ffcc5c;\" >\n",
       "<a href=\"#\" class=\"nd\">304858</a>\n",
       "<div class=\"h\"><a target=\"_blank\" href=\"https://shebanq.ancient-data.org/hebrew/word?version=c&amp;id=1JWMn\" title=\"show this lexeme in SHEBANQ\">יֹּ֥ום </a></div>\n",
       "<div class=\"features\"> <span class=\"pdp\"><a href=\"https://shebanq.ancient-data.org/hebrew/text?book=Haggai&amp;chapter=2&amp;verse=18&amp;version=c&amp;mr=m&amp;qw=q&amp;tp=txt_p&amp;tr=hb&amp;wget=v&amp;qget=v&amp;nget=vt\" title=\"Haggai 2:18\" sec=\"Haggai 2:18\">subs</a></span> <span class=\"gloss\">day</span> <span class=\"lex xft\"><span class=\"f\">lex=</span>JWM/</span></div>\n",
       "\n",
       "\n",
       "</div>\n",
       "\n",
       "<div class=\"word  hl\"  style=\"background-color: #ffcc5c;\" >\n",
       "<a href=\"#\" class=\"nd\">304859</a>\n",
       "<div class=\"h\"><a target=\"_blank\" href=\"https://shebanq.ancient-data.org/hebrew/word?version=c&amp;id=1H\" title=\"show this lexeme in SHEBANQ\">הַ</a></div>\n",
       "<div class=\"features\"> <span class=\"pdp\"><a href=\"https://shebanq.ancient-data.org/hebrew/text?book=Haggai&amp;chapter=2&amp;verse=18&amp;version=c&amp;mr=m&amp;qw=q&amp;tp=txt_p&amp;tr=hb&amp;wget=v&amp;qget=v&amp;nget=vt\" title=\"Haggai 2:18\" sec=\"Haggai 2:18\">art</a></span> <span class=\"gloss\">the</span> <span class=\"lex xft\"><span class=\"f\">lex=</span>H</span></div>\n",
       "\n",
       "\n",
       "</div>\n",
       "\n",
       "<div class=\"word  hl\"  style=\"background-color: #ffcc5c;\" >\n",
       "<a href=\"#\" class=\"nd\">304860</a>\n",
       "<div class=\"h\"><a target=\"_blank\" href=\"https://shebanq.ancient-data.org/hebrew/word?version=c&amp;id=1ZH\" title=\"show this lexeme in SHEBANQ\">זֶּ֖ה </a></div>\n",
       "<div class=\"features\"> <span class=\"pdp\"><a href=\"https://shebanq.ancient-data.org/hebrew/text?book=Haggai&amp;chapter=2&amp;verse=18&amp;version=c&amp;mr=m&amp;qw=q&amp;tp=txt_p&amp;tr=hb&amp;wget=v&amp;qget=v&amp;nget=vt\" title=\"Haggai 2:18\" sec=\"Haggai 2:18\">prde</a></span> <span class=\"gloss\">this</span> <span class=\"lex xft\"><span class=\"f\">lex=</span>ZH</span></div>\n",
       "\n",
       "\n",
       "</div>\n",
       "\n",
       "\n",
       "    </div>\n",
       "\n",
       "\n",
       "</div>\n",
       "\n",
       "<div class=\"patom  r l \" >\n",
       "\n",
       "    <div class=\"phrase \" >\n",
       "        <a href=\"https://shebanq.ancient-data.org/hebrew/text?book=Haggai&amp;chapter=2&amp;verse=18&amp;version=c&amp;mr=m&amp;qw=q&amp;tp=txt_p&amp;tr=hb&amp;wget=v&amp;qget=v&amp;nget=vt\" title=\"Haggai 2:18\" sec=\"Haggai 2:18\">phrase</a> <a href=\"#\" class=\"nd\">831763</a>  <span class=\"function\">Time</span> <span class=\"typ\">PP|CP</span>\n",
       "    </div>\n",
       "    <div class=\"atoms\">\n",
       "\n",
       "<div class=\"word  hl\"  style=\"background-color: #ffeead;\" >\n",
       "<a href=\"#\" class=\"nd\">304861</a>\n",
       "<div class=\"h\"><a target=\"_blank\" href=\"https://shebanq.ancient-data.org/hebrew/word?version=c&amp;id=1W\" title=\"show this lexeme in SHEBANQ\">וָ</a></div>\n",
       "<div class=\"features\"> <span class=\"pdp\"><a href=\"https://shebanq.ancient-data.org/hebrew/text?book=Haggai&amp;chapter=2&amp;verse=18&amp;version=c&amp;mr=m&amp;qw=q&amp;tp=txt_p&amp;tr=hb&amp;wget=v&amp;qget=v&amp;nget=vt\" title=\"Haggai 2:18\" sec=\"Haggai 2:18\">conj</a></span> <span class=\"gloss\">and</span> <span class=\"lex xft\"><span class=\"f\">lex=</span>W</span></div>\n",
       "\n",
       "\n",
       "</div>\n",
       "\n",
       "\n",
       "    </div>\n",
       "\n",
       "\n",
       "</div>\n",
       "\n",
       "<div class=\"patom  r l \" >\n",
       "\n",
       "    <div class=\"phrase \" >\n",
       "        <a href=\"https://shebanq.ancient-data.org/hebrew/text?book=Haggai&amp;chapter=2&amp;verse=18&amp;version=c&amp;mr=m&amp;qw=q&amp;tp=txt_p&amp;tr=hb&amp;wget=v&amp;qget=v&amp;nget=vt\" title=\"Haggai 2:18\" sec=\"Haggai 2:18\">phrase</a> <a href=\"#\" class=\"nd\">831763</a>  <span class=\"function\">Time</span> <span class=\"typ\">PP|AdvP</span>\n",
       "    </div>\n",
       "    <div class=\"atoms\">\n",
       "\n",
       "<div class=\"word  hl\"  style=\"background-color: #96ceb4;\" >\n",
       "<a href=\"#\" class=\"nd\">304862</a>\n",
       "<div class=\"h\"><a target=\"_blank\" href=\"https://shebanq.ancient-data.org/hebrew/word?version=c&amp;id=1MOLn\" title=\"show this lexeme in SHEBANQ\">מָ֑עְלָה </a></div>\n",
       "<div class=\"features\"> <span class=\"pdp\"><a href=\"https://shebanq.ancient-data.org/hebrew/text?book=Haggai&amp;chapter=2&amp;verse=18&amp;version=c&amp;mr=m&amp;qw=q&amp;tp=txt_p&amp;tr=hb&amp;wget=v&amp;qget=v&amp;nget=vt\" title=\"Haggai 2:18\" sec=\"Haggai 2:18\">subs</a></span> <span class=\"gloss\">top</span> <span class=\"lex xft\"><span class=\"f\">lex=</span>M&lt;L/</span></div>\n",
       "\n",
       "\n",
       "</div>\n",
       "\n",
       "\n",
       "    </div>\n",
       "\n",
       "\n",
       "</div>\n",
       "\n",
       "<div class=\"patom  r l \" >\n",
       "\n",
       "    <div class=\"phrase \" >\n",
       "        <a href=\"https://shebanq.ancient-data.org/hebrew/text?book=Haggai&amp;chapter=2&amp;verse=18&amp;version=c&amp;mr=m&amp;qw=q&amp;tp=txt_p&amp;tr=hb&amp;wget=v&amp;qget=v&amp;nget=vt\" title=\"Haggai 2:18\" sec=\"Haggai 2:18\">phrase</a> <a href=\"#\" class=\"nd\">831763</a>  <span class=\"function\">Time</span> <span class=\"typ\">PP</span>\n",
       "    </div>\n",
       "    <div class=\"atoms\">\n",
       "\n",
       "<div class=\"word  \" >\n",
       "<a href=\"#\" class=\"nd\">304863</a>\n",
       "<div class=\"h\"><a target=\"_blank\" href=\"https://shebanq.ancient-data.org/hebrew/word?version=c&amp;id=1MN\" title=\"show this lexeme in SHEBANQ\">מִ</a></div>\n",
       "<div class=\"features\"> <span class=\"pdp\"><a href=\"https://shebanq.ancient-data.org/hebrew/text?book=Haggai&amp;chapter=2&amp;verse=18&amp;version=c&amp;mr=m&amp;qw=q&amp;tp=txt_p&amp;tr=hb&amp;wget=v&amp;qget=v&amp;nget=vt\" title=\"Haggai 2:18\" sec=\"Haggai 2:18\">prep</a></span> <span class=\"gloss\">from</span> <span class=\"lex xft\"><span class=\"f\">lex=</span>MN</span></div>\n",
       "\n",
       "\n",
       "</div>\n",
       "\n",
       "<div class=\"word  \" >\n",
       "<a href=\"#\" class=\"nd\">304864</a>\n",
       "<div class=\"h\"><a target=\"_blank\" href=\"https://shebanq.ancient-data.org/hebrew/word?version=c&amp;id=1JWMn\" title=\"show this lexeme in SHEBANQ\">יֹּום֩ </a></div>\n",
       "<div class=\"features\"> <span class=\"pdp\"><a href=\"https://shebanq.ancient-data.org/hebrew/text?book=Haggai&amp;chapter=2&amp;verse=18&amp;version=c&amp;mr=m&amp;qw=q&amp;tp=txt_p&amp;tr=hb&amp;wget=v&amp;qget=v&amp;nget=vt\" title=\"Haggai 2:18\" sec=\"Haggai 2:18\">subs</a></span> <span class=\"gloss\">day</span> <span class=\"lex xft\"><span class=\"f\">lex=</span>JWM/</span></div>\n",
       "\n",
       "\n",
       "</div>\n",
       "\n",
       "<div class=\"word  \" >\n",
       "<a href=\"#\" class=\"nd\">304865</a>\n",
       "<div class=\"h\"><a target=\"_blank\" href=\"https://shebanq.ancient-data.org/hebrew/word?version=c&amp;id=1OFRJMn\" title=\"show this lexeme in SHEBANQ\">עֶשְׂרִ֨ים </a></div>\n",
       "<div class=\"features\"> <span class=\"pdp\"><a href=\"https://shebanq.ancient-data.org/hebrew/text?book=Haggai&amp;chapter=2&amp;verse=18&amp;version=c&amp;mr=m&amp;qw=q&amp;tp=txt_p&amp;tr=hb&amp;wget=v&amp;qget=v&amp;nget=vt\" title=\"Haggai 2:18\" sec=\"Haggai 2:18\">subs</a></span> <span class=\"gloss\">twenty</span> <span class=\"lex xft\"><span class=\"f\">lex=</span>&lt;FRJM/</span></div>\n",
       "\n",
       "\n",
       "</div>\n",
       "\n",
       "<div class=\"word  \" >\n",
       "<a href=\"#\" class=\"nd\">304866</a>\n",
       "<div class=\"h\"><a target=\"_blank\" href=\"https://shebanq.ancient-data.org/hebrew/word?version=c&amp;id=1W\" title=\"show this lexeme in SHEBANQ\">וְ</a></div>\n",
       "<div class=\"features\"> <span class=\"pdp\"><a href=\"https://shebanq.ancient-data.org/hebrew/text?book=Haggai&amp;chapter=2&amp;verse=18&amp;version=c&amp;mr=m&amp;qw=q&amp;tp=txt_p&amp;tr=hb&amp;wget=v&amp;qget=v&amp;nget=vt\" title=\"Haggai 2:18\" sec=\"Haggai 2:18\">conj</a></span> <span class=\"gloss\">and</span> <span class=\"lex xft\"><span class=\"f\">lex=</span>W</span></div>\n",
       "\n",
       "\n",
       "</div>\n",
       "\n",
       "<div class=\"word  \" >\n",
       "<a href=\"#\" class=\"nd\">304867</a>\n",
       "<div class=\"h\"><a target=\"_blank\" href=\"https://shebanq.ancient-data.org/hebrew/word?version=c&amp;id=1ARBOn\" title=\"show this lexeme in SHEBANQ\">אַרְבָּעָ֜ה </a></div>\n",
       "<div class=\"features\"> <span class=\"pdp\"><a href=\"https://shebanq.ancient-data.org/hebrew/text?book=Haggai&amp;chapter=2&amp;verse=18&amp;version=c&amp;mr=m&amp;qw=q&amp;tp=txt_p&amp;tr=hb&amp;wget=v&amp;qget=v&amp;nget=vt\" title=\"Haggai 2:18\" sec=\"Haggai 2:18\">subs</a></span> <span class=\"gloss\">four</span> <span class=\"lex xft\"><span class=\"f\">lex=</span>>RB&lt;/</span></div>\n",
       "\n",
       "\n",
       "</div>\n",
       "\n",
       "\n",
       "    </div>\n",
       "\n",
       "\n",
       "</div>\n",
       "\n",
       "<div class=\"patom  r l \" >\n",
       "\n",
       "    <div class=\"phrase \" >\n",
       "        <a href=\"https://shebanq.ancient-data.org/hebrew/text?book=Haggai&amp;chapter=2&amp;verse=18&amp;version=c&amp;mr=m&amp;qw=q&amp;tp=txt_p&amp;tr=hb&amp;wget=v&amp;qget=v&amp;nget=vt\" title=\"Haggai 2:18\" sec=\"Haggai 2:18\">phrase</a> <a href=\"#\" class=\"nd\">831763</a>  <span class=\"function\">Time</span> <span class=\"typ\">PP</span>\n",
       "    </div>\n",
       "    <div class=\"atoms\">\n",
       "\n",
       "<div class=\"word  \" >\n",
       "<a href=\"#\" class=\"nd\">304868</a>\n",
       "<div class=\"h\"><a target=\"_blank\" href=\"https://shebanq.ancient-data.org/hebrew/word?version=c&amp;id=1L\" title=\"show this lexeme in SHEBANQ\">לַ</a></div>\n",
       "<div class=\"features\"> <span class=\"pdp\"><a href=\"https://shebanq.ancient-data.org/hebrew/text?book=Haggai&amp;chapter=2&amp;verse=18&amp;version=c&amp;mr=m&amp;qw=q&amp;tp=txt_p&amp;tr=hb&amp;wget=v&amp;qget=v&amp;nget=vt\" title=\"Haggai 2:18\" sec=\"Haggai 2:18\">prep</a></span> <span class=\"gloss\">to</span> <span class=\"lex xft\"><span class=\"f\">lex=</span>L</span></div>\n",
       "\n",
       "\n",
       "</div>\n",
       "\n",
       "<div class=\"word  \" >\n",
       "<a href=\"#\" class=\"nd\">304869</a>\n",
       "<div class=\"h\"><a target=\"_blank\" href=\"https://shebanq.ancient-data.org/hebrew/word?version=c&amp;id=1H\" title=\"show this lexeme in SHEBANQ\"></a></div>\n",
       "<div class=\"features\"> <span class=\"pdp\"><a href=\"https://shebanq.ancient-data.org/hebrew/text?book=Haggai&amp;chapter=2&amp;verse=18&amp;version=c&amp;mr=m&amp;qw=q&amp;tp=txt_p&amp;tr=hb&amp;wget=v&amp;qget=v&amp;nget=vt\" title=\"Haggai 2:18\" sec=\"Haggai 2:18\">art</a></span> <span class=\"gloss\">the</span> <span class=\"lex xft\"><span class=\"f\">lex=</span>H</span></div>\n",
       "\n",
       "\n",
       "</div>\n",
       "\n",
       "<div class=\"word  \" >\n",
       "<a href=\"#\" class=\"nd\">304870</a>\n",
       "<div class=\"h\"><a target=\"_blank\" href=\"https://shebanq.ancient-data.org/hebrew/word?version=c&amp;id=1TCJOJn\" title=\"show this lexeme in SHEBANQ\">תְּשִׁיעִ֗י </a></div>\n",
       "<div class=\"features\"> <span class=\"pdp\"><a href=\"https://shebanq.ancient-data.org/hebrew/text?book=Haggai&amp;chapter=2&amp;verse=18&amp;version=c&amp;mr=m&amp;qw=q&amp;tp=txt_p&amp;tr=hb&amp;wget=v&amp;qget=v&amp;nget=vt\" title=\"Haggai 2:18\" sec=\"Haggai 2:18\">subs</a></span> <span class=\"gloss\">ninth</span> <span class=\"lex xft\"><span class=\"f\">lex=</span>TCJ&lt;J/</span></div>\n",
       "\n",
       "\n",
       "</div>\n",
       "\n",
       "\n",
       "    </div>\n",
       "\n",
       "\n",
       "</div>\n",
       "\n",
       "<div class=\"patom  r \" >\n",
       "\n",
       "    <div class=\"phrase \" >\n",
       "        <a href=\"https://shebanq.ancient-data.org/hebrew/text?book=Haggai&amp;chapter=2&amp;verse=18&amp;version=c&amp;mr=m&amp;qw=q&amp;tp=txt_p&amp;tr=hb&amp;wget=v&amp;qget=v&amp;nget=vt\" title=\"Haggai 2:18\" sec=\"Haggai 2:18\">phrase</a> <a href=\"#\" class=\"nd\">831763</a>  <span class=\"function\">Time</span> <span class=\"typ\">PP</span>\n",
       "    </div>\n",
       "    <div class=\"atoms\">\n",
       "\n",
       "<div class=\"word  \" >\n",
       "<a href=\"#\" class=\"nd\">304871</a>\n",
       "<div class=\"h\"><a target=\"_blank\" href=\"https://shebanq.ancient-data.org/hebrew/word?version=c&amp;id=1L\" title=\"show this lexeme in SHEBANQ\">לְ</a></div>\n",
       "<div class=\"features\"> <span class=\"pdp\"><a href=\"https://shebanq.ancient-data.org/hebrew/text?book=Haggai&amp;chapter=2&amp;verse=18&amp;version=c&amp;mr=m&amp;qw=q&amp;tp=txt_p&amp;tr=hb&amp;wget=v&amp;qget=v&amp;nget=vt\" title=\"Haggai 2:18\" sec=\"Haggai 2:18\">prep</a></span> <span class=\"gloss\">to</span> <span class=\"lex xft\"><span class=\"f\">lex=</span>L</span></div>\n",
       "\n",
       "\n",
       "</div>\n",
       "\n",
       "<div class=\"word  \" >\n",
       "<a href=\"#\" class=\"nd\">304872</a>\n",
       "<div class=\"h\"><a target=\"_blank\" href=\"https://shebanq.ancient-data.org/hebrew/word?version=c&amp;id=1MN\" title=\"show this lexeme in SHEBANQ\">מִן־</a></div>\n",
       "<div class=\"features\"> <span class=\"pdp\"><a href=\"https://shebanq.ancient-data.org/hebrew/text?book=Haggai&amp;chapter=2&amp;verse=18&amp;version=c&amp;mr=m&amp;qw=q&amp;tp=txt_p&amp;tr=hb&amp;wget=v&amp;qget=v&amp;nget=vt\" title=\"Haggai 2:18\" sec=\"Haggai 2:18\">prep</a></span> <span class=\"gloss\">from</span> <span class=\"lex xft\"><span class=\"f\">lex=</span>MN</span></div>\n",
       "\n",
       "\n",
       "</div>\n",
       "\n",
       "<div class=\"word  \" >\n",
       "<a href=\"#\" class=\"nd\">304873</a>\n",
       "<div class=\"h\"><a target=\"_blank\" href=\"https://shebanq.ancient-data.org/hebrew/word?version=c&amp;id=1H\" title=\"show this lexeme in SHEBANQ\">הַ</a></div>\n",
       "<div class=\"features\"> <span class=\"pdp\"><a href=\"https://shebanq.ancient-data.org/hebrew/text?book=Haggai&amp;chapter=2&amp;verse=18&amp;version=c&amp;mr=m&amp;qw=q&amp;tp=txt_p&amp;tr=hb&amp;wget=v&amp;qget=v&amp;nget=vt\" title=\"Haggai 2:18\" sec=\"Haggai 2:18\">art</a></span> <span class=\"gloss\">the</span> <span class=\"lex xft\"><span class=\"f\">lex=</span>H</span></div>\n",
       "\n",
       "\n",
       "</div>\n",
       "\n",
       "<div class=\"word  \" >\n",
       "<a href=\"#\" class=\"nd\">304874</a>\n",
       "<div class=\"h\"><a target=\"_blank\" href=\"https://shebanq.ancient-data.org/hebrew/word?version=c&amp;id=1JWMn\" title=\"show this lexeme in SHEBANQ\">יֹּ֛ום </a></div>\n",
       "<div class=\"features\"> <span class=\"pdp\"><a href=\"https://shebanq.ancient-data.org/hebrew/text?book=Haggai&amp;chapter=2&amp;verse=18&amp;version=c&amp;mr=m&amp;qw=q&amp;tp=txt_p&amp;tr=hb&amp;wget=v&amp;qget=v&amp;nget=vt\" title=\"Haggai 2:18\" sec=\"Haggai 2:18\">subs</a></span> <span class=\"gloss\">day</span> <span class=\"lex xft\"><span class=\"f\">lex=</span>JWM/</span></div>\n",
       "\n",
       "\n",
       "</div>\n",
       "\n",
       "\n",
       "    </div>\n",
       "\n",
       "\n",
       "</div>\n",
       "\n",
       "\n",
       "</div>\n"
      ],
      "text/plain": [
       "<IPython.core.display.HTML object>"
      ]
     },
     "metadata": {},
     "output_type": "display_data"
    },
    {
     "data": {
      "text/html": [
       "<div style=\"background: #96ceb4; text-align: center\">part2</div>"
      ],
      "text/plain": [
       "<IPython.core.display.HTML object>"
      ]
     },
     "metadata": {},
     "output_type": "display_data"
    },
    {
     "data": {
      "text/html": [
       "<div style=\"background: #ffeead; text-align: center\">conj</div>"
      ],
      "text/plain": [
       "<IPython.core.display.HTML object>"
      ]
     },
     "metadata": {},
     "output_type": "display_data"
    },
    {
     "data": {
      "text/html": [
       "<div style=\"background: #ffcc5c; text-align: center\">part1</div>"
      ],
      "text/plain": [
       "<IPython.core.display.HTML object>"
      ]
     },
     "metadata": {},
     "output_type": "display_data"
    },
    {
     "name": "stdout",
     "output_type": "stream",
     "text": [
      "{   '__cx__': 'coord',\n",
      "    'conj': {'__cx__': 'conj', 'head': 304861},\n",
      "    'part1': {   '__cx__': 'prep_ph',\n",
      "                 'head': {   '__cx__': 'attrib_ph',\n",
      "                             'attrib': {   '__cx__': 'defi_ph',\n",
      "                                           'art': {   '__cx__': 'art',\n",
      "                                                      'head': 304859},\n",
      "                                           'head': {   '__cx__': 'prde',\n",
      "                                                       'head': 304860}},\n",
      "                             'head': {   '__cx__': 'defi_ph',\n",
      "                                         'art': {   '__cx__': 'art',\n",
      "                                                    'head': 304857},\n",
      "                                         'head': {   '__cx__': 'cont',\n",
      "                                                     'head': 304858}}},\n",
      "                 'prep': {'__cx__': 'prep', 'head': 304856}},\n",
      "    'part2': {'__cx__': 'cont', 'head': 304862}}\n",
      "\n"
     ]
    },
    {
     "data": {
      "text/html": [
       "<hr>"
      ],
      "text/plain": [
       "<IPython.core.display.HTML object>"
      ]
     },
     "metadata": {},
     "output_type": "display_data"
    },
    {
     "data": {
      "text/html": [
       "<p><b>result</b> <i>1449699 -> CX coord {311608, 311609, 311610}</i></p>"
      ],
      "text/plain": [
       "<IPython.core.display.HTML object>"
      ]
     },
     "metadata": {},
     "output_type": "display_data"
    },
    {
     "data": {
      "text/html": [
       "<a href=\"https://shebanq.ancient-data.org/hebrew/text?book=Psalmi&amp;chapter=9&amp;verse=6&amp;version=c&amp;mr=m&amp;qw=q&amp;tp=txt_p&amp;tr=hb&amp;wget=v&amp;qget=v&amp;nget=vt\" title=\"show this passage in SHEBANQ\" sec=\"Psalms 9:6\">Psalms 9:6</a>\n",
       "<div class=\"atoms  \" >\n",
       "<a href=\"#\" class=\"nd\">836030</a>\n",
       "\n",
       "\n",
       "\n",
       "<div class=\"patom  \" >\n",
       "\n",
       "    <div class=\"phrase \" >\n",
       "        <a href=\"https://shebanq.ancient-data.org/hebrew/text?book=Psalmi&amp;chapter=9&amp;verse=6&amp;version=c&amp;mr=m&amp;qw=q&amp;tp=txt_p&amp;tr=hb&amp;wget=v&amp;qget=v&amp;nget=vt\" title=\"Psalms 9:6\" sec=\"Psalms 9:6\">phrase</a> <a href=\"#\" class=\"nd\">836030</a>  <span class=\"function\">Time</span> <span class=\"typ\">PP</span>\n",
       "    </div>\n",
       "    <div class=\"atoms\">\n",
       "\n",
       "<div class=\"word  \" >\n",
       "<a href=\"#\" class=\"nd\">311607</a>\n",
       "<div class=\"h\"><a target=\"_blank\" href=\"https://shebanq.ancient-data.org/hebrew/word?version=c&amp;id=1L\" title=\"show this lexeme in SHEBANQ\">לְ</a></div>\n",
       "<div class=\"features\"> <span class=\"pdp\"><a href=\"https://shebanq.ancient-data.org/hebrew/text?book=Psalmi&amp;chapter=9&amp;verse=6&amp;version=c&amp;mr=m&amp;qw=q&amp;tp=txt_p&amp;tr=hb&amp;wget=v&amp;qget=v&amp;nget=vt\" title=\"Psalms 9:6\" sec=\"Psalms 9:6\">prep</a></span> <span class=\"gloss\">to</span> <span class=\"lex xft\"><span class=\"f\">lex=</span>L</span></div>\n",
       "\n",
       "\n",
       "</div>\n",
       "\n",
       "<div class=\"word  hl\"  style=\"background-color: #ffcc5c;\" >\n",
       "<a href=\"#\" class=\"nd\">311608</a>\n",
       "<div class=\"h\"><a target=\"_blank\" href=\"https://shebanq.ancient-data.org/hebrew/word?version=c&amp;id=1OWLMn\" title=\"show this lexeme in SHEBANQ\">עֹולָ֥ם </a></div>\n",
       "<div class=\"features\"> <span class=\"pdp\"><a href=\"https://shebanq.ancient-data.org/hebrew/text?book=Psalmi&amp;chapter=9&amp;verse=6&amp;version=c&amp;mr=m&amp;qw=q&amp;tp=txt_p&amp;tr=hb&amp;wget=v&amp;qget=v&amp;nget=vt\" title=\"Psalms 9:6\" sec=\"Psalms 9:6\">subs</a></span> <span class=\"gloss\">eternity</span> <span class=\"lex xft\"><span class=\"f\">lex=</span>&lt;WLM/</span></div>\n",
       "\n",
       "\n",
       "</div>\n",
       "\n",
       "<div class=\"word  hl\"  style=\"background-color: #ffeead;\" >\n",
       "<a href=\"#\" class=\"nd\">311609</a>\n",
       "<div class=\"h\"><a target=\"_blank\" href=\"https://shebanq.ancient-data.org/hebrew/word?version=c&amp;id=1W\" title=\"show this lexeme in SHEBANQ\">וָ</a></div>\n",
       "<div class=\"features\"> <span class=\"pdp\"><a href=\"https://shebanq.ancient-data.org/hebrew/text?book=Psalmi&amp;chapter=9&amp;verse=6&amp;version=c&amp;mr=m&amp;qw=q&amp;tp=txt_p&amp;tr=hb&amp;wget=v&amp;qget=v&amp;nget=vt\" title=\"Psalms 9:6\" sec=\"Psalms 9:6\">conj</a></span> <span class=\"gloss\">and</span> <span class=\"lex xft\"><span class=\"f\">lex=</span>W</span></div>\n",
       "\n",
       "\n",
       "</div>\n",
       "\n",
       "<div class=\"word  hl\"  style=\"background-color: #96ceb4;\" >\n",
       "<a href=\"#\" class=\"nd\">311610</a>\n",
       "<div class=\"h\"><a target=\"_blank\" href=\"https://shebanq.ancient-data.org/hebrew/word?version=c&amp;id=1ODn\" title=\"show this lexeme in SHEBANQ\">עֶֽד׃ </a></div>\n",
       "<div class=\"features\"> <span class=\"pdp\"><a href=\"https://shebanq.ancient-data.org/hebrew/text?book=Psalmi&amp;chapter=9&amp;verse=6&amp;version=c&amp;mr=m&amp;qw=q&amp;tp=txt_p&amp;tr=hb&amp;wget=v&amp;qget=v&amp;nget=vt\" title=\"Psalms 9:6\" sec=\"Psalms 9:6\">subs</a></span> <span class=\"gloss\">future</span> <span class=\"lex xft\"><span class=\"f\">lex=</span>&lt;D/</span></div>\n",
       "\n",
       "\n",
       "</div>\n",
       "\n",
       "\n",
       "    </div>\n",
       "\n",
       "\n",
       "</div>\n",
       "\n",
       "\n",
       "</div>\n"
      ],
      "text/plain": [
       "<IPython.core.display.HTML object>"
      ]
     },
     "metadata": {},
     "output_type": "display_data"
    },
    {
     "data": {
      "text/html": [
       "<div style=\"background: #96ceb4; text-align: center\">part2</div>"
      ],
      "text/plain": [
       "<IPython.core.display.HTML object>"
      ]
     },
     "metadata": {},
     "output_type": "display_data"
    },
    {
     "data": {
      "text/html": [
       "<div style=\"background: #ffeead; text-align: center\">conj</div>"
      ],
      "text/plain": [
       "<IPython.core.display.HTML object>"
      ]
     },
     "metadata": {},
     "output_type": "display_data"
    },
    {
     "data": {
      "text/html": [
       "<div style=\"background: #ffcc5c; text-align: center\">part1</div>"
      ],
      "text/plain": [
       "<IPython.core.display.HTML object>"
      ]
     },
     "metadata": {},
     "output_type": "display_data"
    },
    {
     "name": "stdout",
     "output_type": "stream",
     "text": [
      "{   '__cx__': 'coord',\n",
      "    'conj': {'__cx__': 'conj', 'head': 311609},\n",
      "    'part1': {'__cx__': 'cont', 'head': 311608},\n",
      "    'part2': {'__cx__': 'cont', 'head': 311610}}\n",
      "\n"
     ]
    },
    {
     "data": {
      "text/html": [
       "<hr>"
      ],
      "text/plain": [
       "<IPython.core.display.HTML object>"
      ]
     },
     "metadata": {},
     "output_type": "display_data"
    },
    {
     "data": {
      "text/html": [
       "<p><b>result</b> <i>1449706 -> CX coord {311826, 311827, 311828}</i></p>"
      ],
      "text/plain": [
       "<IPython.core.display.HTML object>"
      ]
     },
     "metadata": {},
     "output_type": "display_data"
    },
    {
     "data": {
      "text/html": [
       "<a href=\"https://shebanq.ancient-data.org/hebrew/text?book=Psalmi&amp;chapter=10&amp;verse=6&amp;version=c&amp;mr=m&amp;qw=q&amp;tp=txt_p&amp;tr=hb&amp;wget=v&amp;qget=v&amp;nget=vt\" title=\"show this passage in SHEBANQ\" sec=\"Psalms 10:6\">Psalms 10:6</a>\n",
       "<div class=\"atoms  \" >\n",
       "<a href=\"#\" class=\"nd\">836189</a>\n",
       "\n",
       "\n",
       "\n",
       "<div class=\"patom  \" >\n",
       "\n",
       "    <div class=\"phrase \" >\n",
       "        <a href=\"https://shebanq.ancient-data.org/hebrew/text?book=Psalmi&amp;chapter=10&amp;verse=6&amp;version=c&amp;mr=m&amp;qw=q&amp;tp=txt_p&amp;tr=hb&amp;wget=v&amp;qget=v&amp;nget=vt\" title=\"Psalms 10:6\" sec=\"Psalms 10:6\">phrase</a> <a href=\"#\" class=\"nd\">836189</a>  <span class=\"function\">Time</span> <span class=\"typ\">PP</span>\n",
       "    </div>\n",
       "    <div class=\"atoms\">\n",
       "\n",
       "<div class=\"word  \" >\n",
       "<a href=\"#\" class=\"nd\">311825</a>\n",
       "<div class=\"h\"><a target=\"_blank\" href=\"https://shebanq.ancient-data.org/hebrew/word?version=c&amp;id=1L\" title=\"show this lexeme in SHEBANQ\">לְ</a></div>\n",
       "<div class=\"features\"> <span class=\"pdp\"><a href=\"https://shebanq.ancient-data.org/hebrew/text?book=Psalmi&amp;chapter=10&amp;verse=6&amp;version=c&amp;mr=m&amp;qw=q&amp;tp=txt_p&amp;tr=hb&amp;wget=v&amp;qget=v&amp;nget=vt\" title=\"Psalms 10:6\" sec=\"Psalms 10:6\">prep</a></span> <span class=\"gloss\">to</span> <span class=\"lex xft\"><span class=\"f\">lex=</span>L</span></div>\n",
       "\n",
       "\n",
       "</div>\n",
       "\n",
       "<div class=\"word  hl\"  style=\"background-color: #ffcc5c;\" >\n",
       "<a href=\"#\" class=\"nd\">311826</a>\n",
       "<div class=\"h\"><a target=\"_blank\" href=\"https://shebanq.ancient-data.org/hebrew/word?version=c&amp;id=1DWRn\" title=\"show this lexeme in SHEBANQ\">דֹ֥ר </a></div>\n",
       "<div class=\"features\"> <span class=\"pdp\"><a href=\"https://shebanq.ancient-data.org/hebrew/text?book=Psalmi&amp;chapter=10&amp;verse=6&amp;version=c&amp;mr=m&amp;qw=q&amp;tp=txt_p&amp;tr=hb&amp;wget=v&amp;qget=v&amp;nget=vt\" title=\"Psalms 10:6\" sec=\"Psalms 10:6\">subs</a></span> <span class=\"gloss\">generation</span> <span class=\"lex xft\"><span class=\"f\">lex=</span>DWR/</span></div>\n",
       "\n",
       "\n",
       "</div>\n",
       "\n",
       "<div class=\"word  hl\"  style=\"background-color: #ffeead;\" >\n",
       "<a href=\"#\" class=\"nd\">311827</a>\n",
       "<div class=\"h\"><a target=\"_blank\" href=\"https://shebanq.ancient-data.org/hebrew/word?version=c&amp;id=1W\" title=\"show this lexeme in SHEBANQ\">וָ֝</a></div>\n",
       "<div class=\"features\"> <span class=\"pdp\"><a href=\"https://shebanq.ancient-data.org/hebrew/text?book=Psalmi&amp;chapter=10&amp;verse=6&amp;version=c&amp;mr=m&amp;qw=q&amp;tp=txt_p&amp;tr=hb&amp;wget=v&amp;qget=v&amp;nget=vt\" title=\"Psalms 10:6\" sec=\"Psalms 10:6\">conj</a></span> <span class=\"gloss\">and</span> <span class=\"lex xft\"><span class=\"f\">lex=</span>W</span></div>\n",
       "\n",
       "\n",
       "</div>\n",
       "\n",
       "<div class=\"word  hl\"  style=\"background-color: #96ceb4;\" >\n",
       "<a href=\"#\" class=\"nd\">311828</a>\n",
       "<div class=\"h\"><a target=\"_blank\" href=\"https://shebanq.ancient-data.org/hebrew/word?version=c&amp;id=1DWRn\" title=\"show this lexeme in SHEBANQ\">דֹ֗ר </a></div>\n",
       "<div class=\"features\"> <span class=\"pdp\"><a href=\"https://shebanq.ancient-data.org/hebrew/text?book=Psalmi&amp;chapter=10&amp;verse=6&amp;version=c&amp;mr=m&amp;qw=q&amp;tp=txt_p&amp;tr=hb&amp;wget=v&amp;qget=v&amp;nget=vt\" title=\"Psalms 10:6\" sec=\"Psalms 10:6\">subs</a></span> <span class=\"gloss\">generation</span> <span class=\"lex xft\"><span class=\"f\">lex=</span>DWR/</span></div>\n",
       "\n",
       "\n",
       "</div>\n",
       "\n",
       "\n",
       "    </div>\n",
       "\n",
       "\n",
       "</div>\n",
       "\n",
       "\n",
       "</div>\n"
      ],
      "text/plain": [
       "<IPython.core.display.HTML object>"
      ]
     },
     "metadata": {},
     "output_type": "display_data"
    },
    {
     "data": {
      "text/html": [
       "<div style=\"background: #96ceb4; text-align: center\">part2</div>"
      ],
      "text/plain": [
       "<IPython.core.display.HTML object>"
      ]
     },
     "metadata": {},
     "output_type": "display_data"
    },
    {
     "data": {
      "text/html": [
       "<div style=\"background: #ffeead; text-align: center\">conj</div>"
      ],
      "text/plain": [
       "<IPython.core.display.HTML object>"
      ]
     },
     "metadata": {},
     "output_type": "display_data"
    },
    {
     "data": {
      "text/html": [
       "<div style=\"background: #ffcc5c; text-align: center\">part1</div>"
      ],
      "text/plain": [
       "<IPython.core.display.HTML object>"
      ]
     },
     "metadata": {},
     "output_type": "display_data"
    },
    {
     "name": "stdout",
     "output_type": "stream",
     "text": [
      "{   '__cx__': 'coord',\n",
      "    'conj': {'__cx__': 'conj', 'head': 311827},\n",
      "    'part1': {'__cx__': 'cont', 'head': 311826},\n",
      "    'part2': {'__cx__': 'cont', 'head': 311828}}\n",
      "\n"
     ]
    },
    {
     "data": {
      "text/html": [
       "<hr>"
      ],
      "text/plain": [
       "<IPython.core.display.HTML object>"
      ]
     },
     "metadata": {},
     "output_type": "display_data"
    },
    {
     "data": {
      "text/html": [
       "<p><b>result</b> <i>1449745 -> CX coord {315468, 315469, 315470}</i></p>"
      ],
      "text/plain": [
       "<IPython.core.display.HTML object>"
      ]
     },
     "metadata": {},
     "output_type": "display_data"
    },
    {
     "data": {
      "text/html": [
       "<a href=\"https://shebanq.ancient-data.org/hebrew/text?book=Psalmi&amp;chapter=33&amp;verse=11&amp;version=c&amp;mr=m&amp;qw=q&amp;tp=txt_p&amp;tr=hb&amp;wget=v&amp;qget=v&amp;nget=vt\" title=\"show this passage in SHEBANQ\" sec=\"Psalms 33:11\">Psalms 33:11</a>\n",
       "<div class=\"atoms  \" >\n",
       "<a href=\"#\" class=\"nd\">838748</a>\n",
       "\n",
       "\n",
       "\n",
       "<div class=\"patom  \" >\n",
       "\n",
       "    <div class=\"phrase \" >\n",
       "        <a href=\"https://shebanq.ancient-data.org/hebrew/text?book=Psalmi&amp;chapter=33&amp;verse=11&amp;version=c&amp;mr=m&amp;qw=q&amp;tp=txt_p&amp;tr=hb&amp;wget=v&amp;qget=v&amp;nget=vt\" title=\"Psalms 33:11\" sec=\"Psalms 33:11\">phrase</a> <a href=\"#\" class=\"nd\">838748</a>  <span class=\"function\">Time</span> <span class=\"typ\">PP</span>\n",
       "    </div>\n",
       "    <div class=\"atoms\">\n",
       "\n",
       "<div class=\"word  \" >\n",
       "<a href=\"#\" class=\"nd\">315467</a>\n",
       "<div class=\"h\"><a target=\"_blank\" href=\"https://shebanq.ancient-data.org/hebrew/word?version=c&amp;id=1L\" title=\"show this lexeme in SHEBANQ\">לְ</a></div>\n",
       "<div class=\"features\"> <span class=\"pdp\"><a href=\"https://shebanq.ancient-data.org/hebrew/text?book=Psalmi&amp;chapter=33&amp;verse=11&amp;version=c&amp;mr=m&amp;qw=q&amp;tp=txt_p&amp;tr=hb&amp;wget=v&amp;qget=v&amp;nget=vt\" title=\"Psalms 33:11\" sec=\"Psalms 33:11\">prep</a></span> <span class=\"gloss\">to</span> <span class=\"lex xft\"><span class=\"f\">lex=</span>L</span></div>\n",
       "\n",
       "\n",
       "</div>\n",
       "\n",
       "<div class=\"word  hl\"  style=\"background-color: #ffcc5c;\" >\n",
       "<a href=\"#\" class=\"nd\">315468</a>\n",
       "<div class=\"h\"><a target=\"_blank\" href=\"https://shebanq.ancient-data.org/hebrew/word?version=c&amp;id=1DWRn\" title=\"show this lexeme in SHEBANQ\">דֹ֣ר </a></div>\n",
       "<div class=\"features\"> <span class=\"pdp\"><a href=\"https://shebanq.ancient-data.org/hebrew/text?book=Psalmi&amp;chapter=33&amp;verse=11&amp;version=c&amp;mr=m&amp;qw=q&amp;tp=txt_p&amp;tr=hb&amp;wget=v&amp;qget=v&amp;nget=vt\" title=\"Psalms 33:11\" sec=\"Psalms 33:11\">subs</a></span> <span class=\"gloss\">generation</span> <span class=\"lex xft\"><span class=\"f\">lex=</span>DWR/</span></div>\n",
       "\n",
       "\n",
       "</div>\n",
       "\n",
       "<div class=\"word  hl\"  style=\"background-color: #ffeead;\" >\n",
       "<a href=\"#\" class=\"nd\">315469</a>\n",
       "<div class=\"h\"><a target=\"_blank\" href=\"https://shebanq.ancient-data.org/hebrew/word?version=c&amp;id=1W\" title=\"show this lexeme in SHEBANQ\">וָ</a></div>\n",
       "<div class=\"features\"> <span class=\"pdp\"><a href=\"https://shebanq.ancient-data.org/hebrew/text?book=Psalmi&amp;chapter=33&amp;verse=11&amp;version=c&amp;mr=m&amp;qw=q&amp;tp=txt_p&amp;tr=hb&amp;wget=v&amp;qget=v&amp;nget=vt\" title=\"Psalms 33:11\" sec=\"Psalms 33:11\">conj</a></span> <span class=\"gloss\">and</span> <span class=\"lex xft\"><span class=\"f\">lex=</span>W</span></div>\n",
       "\n",
       "\n",
       "</div>\n",
       "\n",
       "<div class=\"word  hl\"  style=\"background-color: #96ceb4;\" >\n",
       "<a href=\"#\" class=\"nd\">315470</a>\n",
       "<div class=\"h\"><a target=\"_blank\" href=\"https://shebanq.ancient-data.org/hebrew/word?version=c&amp;id=1DWRn\" title=\"show this lexeme in SHEBANQ\">דֹֽר׃ </a></div>\n",
       "<div class=\"features\"> <span class=\"pdp\"><a href=\"https://shebanq.ancient-data.org/hebrew/text?book=Psalmi&amp;chapter=33&amp;verse=11&amp;version=c&amp;mr=m&amp;qw=q&amp;tp=txt_p&amp;tr=hb&amp;wget=v&amp;qget=v&amp;nget=vt\" title=\"Psalms 33:11\" sec=\"Psalms 33:11\">subs</a></span> <span class=\"gloss\">generation</span> <span class=\"lex xft\"><span class=\"f\">lex=</span>DWR/</span></div>\n",
       "\n",
       "\n",
       "</div>\n",
       "\n",
       "\n",
       "    </div>\n",
       "\n",
       "\n",
       "</div>\n",
       "\n",
       "\n",
       "</div>\n"
      ],
      "text/plain": [
       "<IPython.core.display.HTML object>"
      ]
     },
     "metadata": {},
     "output_type": "display_data"
    },
    {
     "data": {
      "text/html": [
       "<div style=\"background: #96ceb4; text-align: center\">part2</div>"
      ],
      "text/plain": [
       "<IPython.core.display.HTML object>"
      ]
     },
     "metadata": {},
     "output_type": "display_data"
    },
    {
     "data": {
      "text/html": [
       "<div style=\"background: #ffeead; text-align: center\">conj</div>"
      ],
      "text/plain": [
       "<IPython.core.display.HTML object>"
      ]
     },
     "metadata": {},
     "output_type": "display_data"
    },
    {
     "data": {
      "text/html": [
       "<div style=\"background: #ffcc5c; text-align: center\">part1</div>"
      ],
      "text/plain": [
       "<IPython.core.display.HTML object>"
      ]
     },
     "metadata": {},
     "output_type": "display_data"
    },
    {
     "name": "stdout",
     "output_type": "stream",
     "text": [
      "{   '__cx__': 'coord',\n",
      "    'conj': {'__cx__': 'conj', 'head': 315469},\n",
      "    'part1': {'__cx__': 'cont', 'head': 315468},\n",
      "    'part2': {'__cx__': 'cont', 'head': 315470}}\n",
      "\n"
     ]
    },
    {
     "data": {
      "text/html": [
       "<hr>"
      ],
      "text/plain": [
       "<IPython.core.display.HTML object>"
      ]
     },
     "metadata": {},
     "output_type": "display_data"
    },
    {
     "data": {
      "text/html": [
       "<p><b>result</b> <i>1449774 -> CX coord {318075, 318076, 318077}</i></p>"
      ],
      "text/plain": [
       "<IPython.core.display.HTML object>"
      ]
     },
     "metadata": {},
     "output_type": "display_data"
    },
    {
     "data": {
      "text/html": [
       "<a href=\"https://shebanq.ancient-data.org/hebrew/text?book=Psalmi&amp;chapter=45&amp;verse=18&amp;version=c&amp;mr=m&amp;qw=q&amp;tp=txt_p&amp;tr=hb&amp;wget=v&amp;qget=v&amp;nget=vt\" title=\"show this passage in SHEBANQ\" sec=\"Psalms 45:18\">Psalms 45:18</a>\n",
       "<div class=\"atoms  \" >\n",
       "<a href=\"#\" class=\"nd\">840634</a>\n",
       "\n",
       "\n",
       "\n",
       "<div class=\"patom  \" >\n",
       "\n",
       "    <div class=\"phrase \" >\n",
       "        <a href=\"https://shebanq.ancient-data.org/hebrew/text?book=Psalmi&amp;chapter=45&amp;verse=18&amp;version=c&amp;mr=m&amp;qw=q&amp;tp=txt_p&amp;tr=hb&amp;wget=v&amp;qget=v&amp;nget=vt\" title=\"Psalms 45:18\" sec=\"Psalms 45:18\">phrase</a> <a href=\"#\" class=\"nd\">840634</a>  <span class=\"function\">Time</span> <span class=\"typ\">PP</span>\n",
       "    </div>\n",
       "    <div class=\"atoms\">\n",
       "\n",
       "<div class=\"word  \" >\n",
       "<a href=\"#\" class=\"nd\">318074</a>\n",
       "<div class=\"h\"><a target=\"_blank\" href=\"https://shebanq.ancient-data.org/hebrew/word?version=c&amp;id=1L\" title=\"show this lexeme in SHEBANQ\">לְ</a></div>\n",
       "<div class=\"features\"> <span class=\"pdp\"><a href=\"https://shebanq.ancient-data.org/hebrew/text?book=Psalmi&amp;chapter=45&amp;verse=18&amp;version=c&amp;mr=m&amp;qw=q&amp;tp=txt_p&amp;tr=hb&amp;wget=v&amp;qget=v&amp;nget=vt\" title=\"Psalms 45:18\" sec=\"Psalms 45:18\">prep</a></span> <span class=\"gloss\">to</span> <span class=\"lex xft\"><span class=\"f\">lex=</span>L</span></div>\n",
       "\n",
       "\n",
       "</div>\n",
       "\n",
       "<div class=\"word  hl\"  style=\"background-color: #ffcc5c;\" >\n",
       "<a href=\"#\" class=\"nd\">318075</a>\n",
       "<div class=\"h\"><a target=\"_blank\" href=\"https://shebanq.ancient-data.org/hebrew/word?version=c&amp;id=1OWLMn\" title=\"show this lexeme in SHEBANQ\">עֹלָ֥ם </a></div>\n",
       "<div class=\"features\"> <span class=\"pdp\"><a href=\"https://shebanq.ancient-data.org/hebrew/text?book=Psalmi&amp;chapter=45&amp;verse=18&amp;version=c&amp;mr=m&amp;qw=q&amp;tp=txt_p&amp;tr=hb&amp;wget=v&amp;qget=v&amp;nget=vt\" title=\"Psalms 45:18\" sec=\"Psalms 45:18\">subs</a></span> <span class=\"gloss\">eternity</span> <span class=\"lex xft\"><span class=\"f\">lex=</span>&lt;WLM/</span></div>\n",
       "\n",
       "\n",
       "</div>\n",
       "\n",
       "<div class=\"word  hl\"  style=\"background-color: #ffeead;\" >\n",
       "<a href=\"#\" class=\"nd\">318076</a>\n",
       "<div class=\"h\"><a target=\"_blank\" href=\"https://shebanq.ancient-data.org/hebrew/word?version=c&amp;id=1W\" title=\"show this lexeme in SHEBANQ\">וָ</a></div>\n",
       "<div class=\"features\"> <span class=\"pdp\"><a href=\"https://shebanq.ancient-data.org/hebrew/text?book=Psalmi&amp;chapter=45&amp;verse=18&amp;version=c&amp;mr=m&amp;qw=q&amp;tp=txt_p&amp;tr=hb&amp;wget=v&amp;qget=v&amp;nget=vt\" title=\"Psalms 45:18\" sec=\"Psalms 45:18\">conj</a></span> <span class=\"gloss\">and</span> <span class=\"lex xft\"><span class=\"f\">lex=</span>W</span></div>\n",
       "\n",
       "\n",
       "</div>\n",
       "\n",
       "<div class=\"word  hl\"  style=\"background-color: #96ceb4;\" >\n",
       "<a href=\"#\" class=\"nd\">318077</a>\n",
       "<div class=\"h\"><a target=\"_blank\" href=\"https://shebanq.ancient-data.org/hebrew/word?version=c&amp;id=1ODn\" title=\"show this lexeme in SHEBANQ\">עֶֽד׃ </a></div>\n",
       "<div class=\"features\"> <span class=\"pdp\"><a href=\"https://shebanq.ancient-data.org/hebrew/text?book=Psalmi&amp;chapter=45&amp;verse=18&amp;version=c&amp;mr=m&amp;qw=q&amp;tp=txt_p&amp;tr=hb&amp;wget=v&amp;qget=v&amp;nget=vt\" title=\"Psalms 45:18\" sec=\"Psalms 45:18\">subs</a></span> <span class=\"gloss\">future</span> <span class=\"lex xft\"><span class=\"f\">lex=</span>&lt;D/</span></div>\n",
       "\n",
       "\n",
       "</div>\n",
       "\n",
       "\n",
       "    </div>\n",
       "\n",
       "\n",
       "</div>\n",
       "\n",
       "\n",
       "</div>\n"
      ],
      "text/plain": [
       "<IPython.core.display.HTML object>"
      ]
     },
     "metadata": {},
     "output_type": "display_data"
    },
    {
     "data": {
      "text/html": [
       "<div style=\"background: #96ceb4; text-align: center\">part2</div>"
      ],
      "text/plain": [
       "<IPython.core.display.HTML object>"
      ]
     },
     "metadata": {},
     "output_type": "display_data"
    },
    {
     "data": {
      "text/html": [
       "<div style=\"background: #ffeead; text-align: center\">conj</div>"
      ],
      "text/plain": [
       "<IPython.core.display.HTML object>"
      ]
     },
     "metadata": {},
     "output_type": "display_data"
    },
    {
     "data": {
      "text/html": [
       "<div style=\"background: #ffcc5c; text-align: center\">part1</div>"
      ],
      "text/plain": [
       "<IPython.core.display.HTML object>"
      ]
     },
     "metadata": {},
     "output_type": "display_data"
    },
    {
     "name": "stdout",
     "output_type": "stream",
     "text": [
      "{   '__cx__': 'coord',\n",
      "    'conj': {'__cx__': 'conj', 'head': 318076},\n",
      "    'part1': {'__cx__': 'cont', 'head': 318075},\n",
      "    'part2': {'__cx__': 'cont', 'head': 318077}}\n",
      "\n"
     ]
    },
    {
     "data": {
      "text/html": [
       "<hr>"
      ],
      "text/plain": [
       "<IPython.core.display.HTML object>"
      ]
     },
     "metadata": {},
     "output_type": "display_data"
    },
    {
     "data": {
      "text/html": [
       "<p><b>result</b> <i>1449789 -> CX coord {319529, 319530, 319531}</i></p>"
      ],
      "text/plain": [
       "<IPython.core.display.HTML object>"
      ]
     },
     "metadata": {},
     "output_type": "display_data"
    },
    {
     "data": {
      "text/html": [
       "<a href=\"https://shebanq.ancient-data.org/hebrew/text?book=Psalmi&amp;chapter=55&amp;verse=18&amp;version=c&amp;mr=m&amp;qw=q&amp;tp=txt_p&amp;tr=hb&amp;wget=v&amp;qget=v&amp;nget=vt\" title=\"show this passage in SHEBANQ\" sec=\"Psalms 55:18\">Psalms 55:18</a>\n",
       "<div class=\"atoms  \" >\n",
       "<a href=\"#\" class=\"nd\">841661</a>\n",
       "\n",
       "\n",
       "\n",
       "<div class=\"patom  \" >\n",
       "\n",
       "    <div class=\"phrase \" >\n",
       "        <a href=\"https://shebanq.ancient-data.org/hebrew/text?book=Psalmi&amp;chapter=55&amp;verse=18&amp;version=c&amp;mr=m&amp;qw=q&amp;tp=txt_p&amp;tr=hb&amp;wget=v&amp;qget=v&amp;nget=vt\" title=\"Psalms 55:18\" sec=\"Psalms 55:18\">phrase</a> <a href=\"#\" class=\"nd\">841661</a>  <span class=\"function\">Time</span> <span class=\"typ\">NP</span>\n",
       "    </div>\n",
       "    <div class=\"atoms\">\n",
       "\n",
       "<div class=\"word  hl\"  style=\"background-color: #ffcc5c;\" >\n",
       "<a href=\"#\" class=\"nd\">319529</a>\n",
       "<div class=\"h\"><a target=\"_blank\" href=\"https://shebanq.ancient-data.org/hebrew/word?version=c&amp;id=1ORBn\" title=\"show this lexeme in SHEBANQ\">עֶ֤רֶב </a></div>\n",
       "<div class=\"features\"> <span class=\"pdp\"><a href=\"https://shebanq.ancient-data.org/hebrew/text?book=Psalmi&amp;chapter=55&amp;verse=18&amp;version=c&amp;mr=m&amp;qw=q&amp;tp=txt_p&amp;tr=hb&amp;wget=v&amp;qget=v&amp;nget=vt\" title=\"Psalms 55:18\" sec=\"Psalms 55:18\">subs</a></span> <span class=\"gloss\">evening</span> <span class=\"lex xft\"><span class=\"f\">lex=</span>&lt;RB/</span></div>\n",
       "\n",
       "\n",
       "</div>\n",
       "\n",
       "<div class=\"word  hl\"  style=\"background-color: #ffeead;\" >\n",
       "<a href=\"#\" class=\"nd\">319530</a>\n",
       "<div class=\"h\"><a target=\"_blank\" href=\"https://shebanq.ancient-data.org/hebrew/word?version=c&amp;id=1W\" title=\"show this lexeme in SHEBANQ\">וָ</a></div>\n",
       "<div class=\"features\"> <span class=\"pdp\"><a href=\"https://shebanq.ancient-data.org/hebrew/text?book=Psalmi&amp;chapter=55&amp;verse=18&amp;version=c&amp;mr=m&amp;qw=q&amp;tp=txt_p&amp;tr=hb&amp;wget=v&amp;qget=v&amp;nget=vt\" title=\"Psalms 55:18\" sec=\"Psalms 55:18\">conj</a></span> <span class=\"gloss\">and</span> <span class=\"lex xft\"><span class=\"f\">lex=</span>W</span></div>\n",
       "\n",
       "\n",
       "</div>\n",
       "\n",
       "<div class=\"word  hl\"  style=\"background-color: #96ceb4;\" >\n",
       "<a href=\"#\" class=\"nd\">319531</a>\n",
       "<div class=\"h\"><a target=\"_blank\" href=\"https://shebanq.ancient-data.org/hebrew/word?version=c&amp;id=1BQRin\" title=\"show this lexeme in SHEBANQ\">בֹ֣קֶר </a></div>\n",
       "<div class=\"features\"> <span class=\"pdp\"><a href=\"https://shebanq.ancient-data.org/hebrew/text?book=Psalmi&amp;chapter=55&amp;verse=18&amp;version=c&amp;mr=m&amp;qw=q&amp;tp=txt_p&amp;tr=hb&amp;wget=v&amp;qget=v&amp;nget=vt\" title=\"Psalms 55:18\" sec=\"Psalms 55:18\">subs</a></span> <span class=\"gloss\">morning</span> <span class=\"lex xft\"><span class=\"f\">lex=</span>BQR=/</span></div>\n",
       "\n",
       "\n",
       "</div>\n",
       "\n",
       "<div class=\"word  \" >\n",
       "<a href=\"#\" class=\"nd\">319532</a>\n",
       "<div class=\"h\"><a target=\"_blank\" href=\"https://shebanq.ancient-data.org/hebrew/word?version=c&amp;id=1W\" title=\"show this lexeme in SHEBANQ\">וְ֭</a></div>\n",
       "<div class=\"features\"> <span class=\"pdp\"><a href=\"https://shebanq.ancient-data.org/hebrew/text?book=Psalmi&amp;chapter=55&amp;verse=18&amp;version=c&amp;mr=m&amp;qw=q&amp;tp=txt_p&amp;tr=hb&amp;wget=v&amp;qget=v&amp;nget=vt\" title=\"Psalms 55:18\" sec=\"Psalms 55:18\">conj</a></span> <span class=\"gloss\">and</span> <span class=\"lex xft\"><span class=\"f\">lex=</span>W</span></div>\n",
       "\n",
       "\n",
       "</div>\n",
       "\n",
       "<div class=\"word  \" >\n",
       "<a href=\"#\" class=\"nd\">319533</a>\n",
       "<div class=\"h\"><a target=\"_blank\" href=\"https://shebanq.ancient-data.org/hebrew/word?version=c&amp;id=1YHRJMn\" title=\"show this lexeme in SHEBANQ\">צָהֳרַיִם </a></div>\n",
       "<div class=\"features\"> <span class=\"pdp\"><a href=\"https://shebanq.ancient-data.org/hebrew/text?book=Psalmi&amp;chapter=55&amp;verse=18&amp;version=c&amp;mr=m&amp;qw=q&amp;tp=txt_p&amp;tr=hb&amp;wget=v&amp;qget=v&amp;nget=vt\" title=\"Psalms 55:18\" sec=\"Psalms 55:18\">subs</a></span> <span class=\"gloss\">noon</span> <span class=\"lex xft\"><span class=\"f\">lex=</span>YHRJM/</span></div>\n",
       "\n",
       "\n",
       "</div>\n",
       "\n",
       "\n",
       "    </div>\n",
       "\n",
       "\n",
       "</div>\n",
       "\n",
       "\n",
       "</div>\n"
      ],
      "text/plain": [
       "<IPython.core.display.HTML object>"
      ]
     },
     "metadata": {},
     "output_type": "display_data"
    },
    {
     "data": {
      "text/html": [
       "<div style=\"background: #96ceb4; text-align: center\">part2</div>"
      ],
      "text/plain": [
       "<IPython.core.display.HTML object>"
      ]
     },
     "metadata": {},
     "output_type": "display_data"
    },
    {
     "data": {
      "text/html": [
       "<div style=\"background: #ffeead; text-align: center\">conj</div>"
      ],
      "text/plain": [
       "<IPython.core.display.HTML object>"
      ]
     },
     "metadata": {},
     "output_type": "display_data"
    },
    {
     "data": {
      "text/html": [
       "<div style=\"background: #ffcc5c; text-align: center\">part1</div>"
      ],
      "text/plain": [
       "<IPython.core.display.HTML object>"
      ]
     },
     "metadata": {},
     "output_type": "display_data"
    },
    {
     "name": "stdout",
     "output_type": "stream",
     "text": [
      "{   '__cx__': 'coord',\n",
      "    'conj': {'__cx__': 'conj', 'head': 319530},\n",
      "    'part1': {'__cx__': 'cont', 'head': 319529},\n",
      "    'part2': {'__cx__': 'cont', 'head': 319531}}\n",
      "\n"
     ]
    },
    {
     "data": {
      "text/html": [
       "<hr>"
      ],
      "text/plain": [
       "<IPython.core.display.HTML object>"
      ]
     },
     "metadata": {},
     "output_type": "display_data"
    },
    {
     "data": {
      "text/html": [
       "<p><b>result</b> <i>1449789 -> CX coord {319531, 319532, 319533}</i></p>"
      ],
      "text/plain": [
       "<IPython.core.display.HTML object>"
      ]
     },
     "metadata": {},
     "output_type": "display_data"
    },
    {
     "data": {
      "text/html": [
       "<a href=\"https://shebanq.ancient-data.org/hebrew/text?book=Psalmi&amp;chapter=55&amp;verse=18&amp;version=c&amp;mr=m&amp;qw=q&amp;tp=txt_p&amp;tr=hb&amp;wget=v&amp;qget=v&amp;nget=vt\" title=\"show this passage in SHEBANQ\" sec=\"Psalms 55:18\">Psalms 55:18</a>\n",
       "<div class=\"atoms  \" >\n",
       "<a href=\"#\" class=\"nd\">841661</a>\n",
       "\n",
       "\n",
       "\n",
       "<div class=\"patom  \" >\n",
       "\n",
       "    <div class=\"phrase \" >\n",
       "        <a href=\"https://shebanq.ancient-data.org/hebrew/text?book=Psalmi&amp;chapter=55&amp;verse=18&amp;version=c&amp;mr=m&amp;qw=q&amp;tp=txt_p&amp;tr=hb&amp;wget=v&amp;qget=v&amp;nget=vt\" title=\"Psalms 55:18\" sec=\"Psalms 55:18\">phrase</a> <a href=\"#\" class=\"nd\">841661</a>  <span class=\"function\">Time</span> <span class=\"typ\">NP</span>\n",
       "    </div>\n",
       "    <div class=\"atoms\">\n",
       "\n",
       "<div class=\"word  \" >\n",
       "<a href=\"#\" class=\"nd\">319529</a>\n",
       "<div class=\"h\"><a target=\"_blank\" href=\"https://shebanq.ancient-data.org/hebrew/word?version=c&amp;id=1ORBn\" title=\"show this lexeme in SHEBANQ\">עֶ֤רֶב </a></div>\n",
       "<div class=\"features\"> <span class=\"pdp\"><a href=\"https://shebanq.ancient-data.org/hebrew/text?book=Psalmi&amp;chapter=55&amp;verse=18&amp;version=c&amp;mr=m&amp;qw=q&amp;tp=txt_p&amp;tr=hb&amp;wget=v&amp;qget=v&amp;nget=vt\" title=\"Psalms 55:18\" sec=\"Psalms 55:18\">subs</a></span> <span class=\"gloss\">evening</span> <span class=\"lex xft\"><span class=\"f\">lex=</span>&lt;RB/</span></div>\n",
       "\n",
       "\n",
       "</div>\n",
       "\n",
       "<div class=\"word  \" >\n",
       "<a href=\"#\" class=\"nd\">319530</a>\n",
       "<div class=\"h\"><a target=\"_blank\" href=\"https://shebanq.ancient-data.org/hebrew/word?version=c&amp;id=1W\" title=\"show this lexeme in SHEBANQ\">וָ</a></div>\n",
       "<div class=\"features\"> <span class=\"pdp\"><a href=\"https://shebanq.ancient-data.org/hebrew/text?book=Psalmi&amp;chapter=55&amp;verse=18&amp;version=c&amp;mr=m&amp;qw=q&amp;tp=txt_p&amp;tr=hb&amp;wget=v&amp;qget=v&amp;nget=vt\" title=\"Psalms 55:18\" sec=\"Psalms 55:18\">conj</a></span> <span class=\"gloss\">and</span> <span class=\"lex xft\"><span class=\"f\">lex=</span>W</span></div>\n",
       "\n",
       "\n",
       "</div>\n",
       "\n",
       "<div class=\"word  hl\"  style=\"background-color: #ffcc5c;\" >\n",
       "<a href=\"#\" class=\"nd\">319531</a>\n",
       "<div class=\"h\"><a target=\"_blank\" href=\"https://shebanq.ancient-data.org/hebrew/word?version=c&amp;id=1BQRin\" title=\"show this lexeme in SHEBANQ\">בֹ֣קֶר </a></div>\n",
       "<div class=\"features\"> <span class=\"pdp\"><a href=\"https://shebanq.ancient-data.org/hebrew/text?book=Psalmi&amp;chapter=55&amp;verse=18&amp;version=c&amp;mr=m&amp;qw=q&amp;tp=txt_p&amp;tr=hb&amp;wget=v&amp;qget=v&amp;nget=vt\" title=\"Psalms 55:18\" sec=\"Psalms 55:18\">subs</a></span> <span class=\"gloss\">morning</span> <span class=\"lex xft\"><span class=\"f\">lex=</span>BQR=/</span></div>\n",
       "\n",
       "\n",
       "</div>\n",
       "\n",
       "<div class=\"word  hl\"  style=\"background-color: #ffeead;\" >\n",
       "<a href=\"#\" class=\"nd\">319532</a>\n",
       "<div class=\"h\"><a target=\"_blank\" href=\"https://shebanq.ancient-data.org/hebrew/word?version=c&amp;id=1W\" title=\"show this lexeme in SHEBANQ\">וְ֭</a></div>\n",
       "<div class=\"features\"> <span class=\"pdp\"><a href=\"https://shebanq.ancient-data.org/hebrew/text?book=Psalmi&amp;chapter=55&amp;verse=18&amp;version=c&amp;mr=m&amp;qw=q&amp;tp=txt_p&amp;tr=hb&amp;wget=v&amp;qget=v&amp;nget=vt\" title=\"Psalms 55:18\" sec=\"Psalms 55:18\">conj</a></span> <span class=\"gloss\">and</span> <span class=\"lex xft\"><span class=\"f\">lex=</span>W</span></div>\n",
       "\n",
       "\n",
       "</div>\n",
       "\n",
       "<div class=\"word  hl\"  style=\"background-color: #96ceb4;\" >\n",
       "<a href=\"#\" class=\"nd\">319533</a>\n",
       "<div class=\"h\"><a target=\"_blank\" href=\"https://shebanq.ancient-data.org/hebrew/word?version=c&amp;id=1YHRJMn\" title=\"show this lexeme in SHEBANQ\">צָהֳרַיִם </a></div>\n",
       "<div class=\"features\"> <span class=\"pdp\"><a href=\"https://shebanq.ancient-data.org/hebrew/text?book=Psalmi&amp;chapter=55&amp;verse=18&amp;version=c&amp;mr=m&amp;qw=q&amp;tp=txt_p&amp;tr=hb&amp;wget=v&amp;qget=v&amp;nget=vt\" title=\"Psalms 55:18\" sec=\"Psalms 55:18\">subs</a></span> <span class=\"gloss\">noon</span> <span class=\"lex xft\"><span class=\"f\">lex=</span>YHRJM/</span></div>\n",
       "\n",
       "\n",
       "</div>\n",
       "\n",
       "\n",
       "    </div>\n",
       "\n",
       "\n",
       "</div>\n",
       "\n",
       "\n",
       "</div>\n"
      ],
      "text/plain": [
       "<IPython.core.display.HTML object>"
      ]
     },
     "metadata": {},
     "output_type": "display_data"
    },
    {
     "data": {
      "text/html": [
       "<div style=\"background: #96ceb4; text-align: center\">part2</div>"
      ],
      "text/plain": [
       "<IPython.core.display.HTML object>"
      ]
     },
     "metadata": {},
     "output_type": "display_data"
    },
    {
     "data": {
      "text/html": [
       "<div style=\"background: #ffeead; text-align: center\">conj</div>"
      ],
      "text/plain": [
       "<IPython.core.display.HTML object>"
      ]
     },
     "metadata": {},
     "output_type": "display_data"
    },
    {
     "data": {
      "text/html": [
       "<div style=\"background: #ffcc5c; text-align: center\">part1</div>"
      ],
      "text/plain": [
       "<IPython.core.display.HTML object>"
      ]
     },
     "metadata": {},
     "output_type": "display_data"
    },
    {
     "name": "stdout",
     "output_type": "stream",
     "text": [
      "{   '__cx__': 'coord',\n",
      "    'conj': {'__cx__': 'conj', 'head': 319532},\n",
      "    'part1': {'__cx__': 'cont', 'head': 319531},\n",
      "    'part2': {'__cx__': 'cont', 'head': 319533}}\n",
      "\n"
     ]
    },
    {
     "data": {
      "text/html": [
       "<hr>"
      ],
      "text/plain": [
       "<IPython.core.display.HTML object>"
      ]
     },
     "metadata": {},
     "output_type": "display_data"
    },
    {
     "data": {
      "text/html": [
       "<p><b>result</b> <i>1449841 -> CX coord {323341, 323342, 323343}</i></p>"
      ],
      "text/plain": [
       "<IPython.core.display.HTML object>"
      ]
     },
     "metadata": {},
     "output_type": "display_data"
    },
    {
     "data": {
      "text/html": [
       "<a href=\"https://shebanq.ancient-data.org/hebrew/text?book=Psalmi&amp;chapter=77&amp;verse=9&amp;version=c&amp;mr=m&amp;qw=q&amp;tp=txt_p&amp;tr=hb&amp;wget=v&amp;qget=v&amp;nget=vt\" title=\"show this passage in SHEBANQ\" sec=\"Psalms 77:9\">Psalms 77:9</a>\n",
       "<div class=\"atoms  \" >\n",
       "<a href=\"#\" class=\"nd\">844340</a>\n",
       "\n",
       "\n",
       "\n",
       "<div class=\"patom  \" >\n",
       "\n",
       "    <div class=\"phrase \" >\n",
       "        <a href=\"https://shebanq.ancient-data.org/hebrew/text?book=Psalmi&amp;chapter=77&amp;verse=9&amp;version=c&amp;mr=m&amp;qw=q&amp;tp=txt_p&amp;tr=hb&amp;wget=v&amp;qget=v&amp;nget=vt\" title=\"Psalms 77:9\" sec=\"Psalms 77:9\">phrase</a> <a href=\"#\" class=\"nd\">844340</a>  <span class=\"function\">Time</span> <span class=\"typ\">PP</span>\n",
       "    </div>\n",
       "    <div class=\"atoms\">\n",
       "\n",
       "<div class=\"word  \" >\n",
       "<a href=\"#\" class=\"nd\">323340</a>\n",
       "<div class=\"h\"><a target=\"_blank\" href=\"https://shebanq.ancient-data.org/hebrew/word?version=c&amp;id=1L\" title=\"show this lexeme in SHEBANQ\">לְ</a></div>\n",
       "<div class=\"features\"> <span class=\"pdp\"><a href=\"https://shebanq.ancient-data.org/hebrew/text?book=Psalmi&amp;chapter=77&amp;verse=9&amp;version=c&amp;mr=m&amp;qw=q&amp;tp=txt_p&amp;tr=hb&amp;wget=v&amp;qget=v&amp;nget=vt\" title=\"Psalms 77:9\" sec=\"Psalms 77:9\">prep</a></span> <span class=\"gloss\">to</span> <span class=\"lex xft\"><span class=\"f\">lex=</span>L</span></div>\n",
       "\n",
       "\n",
       "</div>\n",
       "\n",
       "<div class=\"word  hl\"  style=\"background-color: #ffcc5c;\" >\n",
       "<a href=\"#\" class=\"nd\">323341</a>\n",
       "<div class=\"h\"><a target=\"_blank\" href=\"https://shebanq.ancient-data.org/hebrew/word?version=c&amp;id=1DWRn\" title=\"show this lexeme in SHEBANQ\">דֹ֣ר </a></div>\n",
       "<div class=\"features\"> <span class=\"pdp\"><a href=\"https://shebanq.ancient-data.org/hebrew/text?book=Psalmi&amp;chapter=77&amp;verse=9&amp;version=c&amp;mr=m&amp;qw=q&amp;tp=txt_p&amp;tr=hb&amp;wget=v&amp;qget=v&amp;nget=vt\" title=\"Psalms 77:9\" sec=\"Psalms 77:9\">subs</a></span> <span class=\"gloss\">generation</span> <span class=\"lex xft\"><span class=\"f\">lex=</span>DWR/</span></div>\n",
       "\n",
       "\n",
       "</div>\n",
       "\n",
       "<div class=\"word  hl\"  style=\"background-color: #ffeead;\" >\n",
       "<a href=\"#\" class=\"nd\">323342</a>\n",
       "<div class=\"h\"><a target=\"_blank\" href=\"https://shebanq.ancient-data.org/hebrew/word?version=c&amp;id=1W\" title=\"show this lexeme in SHEBANQ\">וָ</a></div>\n",
       "<div class=\"features\"> <span class=\"pdp\"><a href=\"https://shebanq.ancient-data.org/hebrew/text?book=Psalmi&amp;chapter=77&amp;verse=9&amp;version=c&amp;mr=m&amp;qw=q&amp;tp=txt_p&amp;tr=hb&amp;wget=v&amp;qget=v&amp;nget=vt\" title=\"Psalms 77:9\" sec=\"Psalms 77:9\">conj</a></span> <span class=\"gloss\">and</span> <span class=\"lex xft\"><span class=\"f\">lex=</span>W</span></div>\n",
       "\n",
       "\n",
       "</div>\n",
       "\n",
       "<div class=\"word  hl\"  style=\"background-color: #96ceb4;\" >\n",
       "<a href=\"#\" class=\"nd\">323343</a>\n",
       "<div class=\"h\"><a target=\"_blank\" href=\"https://shebanq.ancient-data.org/hebrew/word?version=c&amp;id=1DWRn\" title=\"show this lexeme in SHEBANQ\">דֹֽר׃ </a></div>\n",
       "<div class=\"features\"> <span class=\"pdp\"><a href=\"https://shebanq.ancient-data.org/hebrew/text?book=Psalmi&amp;chapter=77&amp;verse=9&amp;version=c&amp;mr=m&amp;qw=q&amp;tp=txt_p&amp;tr=hb&amp;wget=v&amp;qget=v&amp;nget=vt\" title=\"Psalms 77:9\" sec=\"Psalms 77:9\">subs</a></span> <span class=\"gloss\">generation</span> <span class=\"lex xft\"><span class=\"f\">lex=</span>DWR/</span></div>\n",
       "\n",
       "\n",
       "</div>\n",
       "\n",
       "\n",
       "    </div>\n",
       "\n",
       "\n",
       "</div>\n",
       "\n",
       "\n",
       "</div>\n"
      ],
      "text/plain": [
       "<IPython.core.display.HTML object>"
      ]
     },
     "metadata": {},
     "output_type": "display_data"
    },
    {
     "data": {
      "text/html": [
       "<div style=\"background: #96ceb4; text-align: center\">part2</div>"
      ],
      "text/plain": [
       "<IPython.core.display.HTML object>"
      ]
     },
     "metadata": {},
     "output_type": "display_data"
    },
    {
     "data": {
      "text/html": [
       "<div style=\"background: #ffeead; text-align: center\">conj</div>"
      ],
      "text/plain": [
       "<IPython.core.display.HTML object>"
      ]
     },
     "metadata": {},
     "output_type": "display_data"
    },
    {
     "data": {
      "text/html": [
       "<div style=\"background: #ffcc5c; text-align: center\">part1</div>"
      ],
      "text/plain": [
       "<IPython.core.display.HTML object>"
      ]
     },
     "metadata": {},
     "output_type": "display_data"
    },
    {
     "name": "stdout",
     "output_type": "stream",
     "text": [
      "{   '__cx__': 'coord',\n",
      "    'conj': {'__cx__': 'conj', 'head': 323342},\n",
      "    'part1': {'__cx__': 'cont', 'head': 323341},\n",
      "    'part2': {'__cx__': 'cont', 'head': 323343}}\n",
      "\n"
     ]
    },
    {
     "data": {
      "text/html": [
       "<hr>"
      ],
      "text/plain": [
       "<IPython.core.display.HTML object>"
      ]
     },
     "metadata": {},
     "output_type": "display_data"
    },
    {
     "data": {
      "text/html": [
       "<p><b>result</b> <i>1449848 -> CX coord {324403, 324404, 324405}</i></p>"
      ],
      "text/plain": [
       "<IPython.core.display.HTML object>"
      ]
     },
     "metadata": {},
     "output_type": "display_data"
    },
    {
     "data": {
      "text/html": [
       "<a href=\"https://shebanq.ancient-data.org/hebrew/text?book=Psalmi&amp;chapter=79&amp;verse=13&amp;version=c&amp;mr=m&amp;qw=q&amp;tp=txt_p&amp;tr=hb&amp;wget=v&amp;qget=v&amp;nget=vt\" title=\"show this passage in SHEBANQ\" sec=\"Psalms 79:13\">Psalms 79:13</a>\n",
       "<div class=\"atoms  \" >\n",
       "<a href=\"#\" class=\"nd\">845077</a>\n",
       "\n",
       "\n",
       "\n",
       "<div class=\"patom  \" >\n",
       "\n",
       "    <div class=\"phrase \" >\n",
       "        <a href=\"https://shebanq.ancient-data.org/hebrew/text?book=Psalmi&amp;chapter=79&amp;verse=13&amp;version=c&amp;mr=m&amp;qw=q&amp;tp=txt_p&amp;tr=hb&amp;wget=v&amp;qget=v&amp;nget=vt\" title=\"Psalms 79:13\" sec=\"Psalms 79:13\">phrase</a> <a href=\"#\" class=\"nd\">845077</a>  <span class=\"function\">Time</span> <span class=\"typ\">PP</span>\n",
       "    </div>\n",
       "    <div class=\"atoms\">\n",
       "\n",
       "<div class=\"word  \" >\n",
       "<a href=\"#\" class=\"nd\">324402</a>\n",
       "<div class=\"h\"><a target=\"_blank\" href=\"https://shebanq.ancient-data.org/hebrew/word?version=c&amp;id=1L\" title=\"show this lexeme in SHEBANQ\">לְ</a></div>\n",
       "<div class=\"features\"> <span class=\"pdp\"><a href=\"https://shebanq.ancient-data.org/hebrew/text?book=Psalmi&amp;chapter=79&amp;verse=13&amp;version=c&amp;mr=m&amp;qw=q&amp;tp=txt_p&amp;tr=hb&amp;wget=v&amp;qget=v&amp;nget=vt\" title=\"Psalms 79:13\" sec=\"Psalms 79:13\">prep</a></span> <span class=\"gloss\">to</span> <span class=\"lex xft\"><span class=\"f\">lex=</span>L</span></div>\n",
       "\n",
       "\n",
       "</div>\n",
       "\n",
       "<div class=\"word  hl\"  style=\"background-color: #ffcc5c;\" >\n",
       "<a href=\"#\" class=\"nd\">324403</a>\n",
       "<div class=\"h\"><a target=\"_blank\" href=\"https://shebanq.ancient-data.org/hebrew/word?version=c&amp;id=1DWRn\" title=\"show this lexeme in SHEBANQ\">דֹ֥ר </a></div>\n",
       "<div class=\"features\"> <span class=\"pdp\"><a href=\"https://shebanq.ancient-data.org/hebrew/text?book=Psalmi&amp;chapter=79&amp;verse=13&amp;version=c&amp;mr=m&amp;qw=q&amp;tp=txt_p&amp;tr=hb&amp;wget=v&amp;qget=v&amp;nget=vt\" title=\"Psalms 79:13\" sec=\"Psalms 79:13\">subs</a></span> <span class=\"gloss\">generation</span> <span class=\"lex xft\"><span class=\"f\">lex=</span>DWR/</span></div>\n",
       "\n",
       "\n",
       "</div>\n",
       "\n",
       "<div class=\"word  hl\"  style=\"background-color: #ffeead;\" >\n",
       "<a href=\"#\" class=\"nd\">324404</a>\n",
       "<div class=\"h\"><a target=\"_blank\" href=\"https://shebanq.ancient-data.org/hebrew/word?version=c&amp;id=1W\" title=\"show this lexeme in SHEBANQ\">וָ</a></div>\n",
       "<div class=\"features\"> <span class=\"pdp\"><a href=\"https://shebanq.ancient-data.org/hebrew/text?book=Psalmi&amp;chapter=79&amp;verse=13&amp;version=c&amp;mr=m&amp;qw=q&amp;tp=txt_p&amp;tr=hb&amp;wget=v&amp;qget=v&amp;nget=vt\" title=\"Psalms 79:13\" sec=\"Psalms 79:13\">conj</a></span> <span class=\"gloss\">and</span> <span class=\"lex xft\"><span class=\"f\">lex=</span>W</span></div>\n",
       "\n",
       "\n",
       "</div>\n",
       "\n",
       "<div class=\"word  hl\"  style=\"background-color: #96ceb4;\" >\n",
       "<a href=\"#\" class=\"nd\">324405</a>\n",
       "<div class=\"h\"><a target=\"_blank\" href=\"https://shebanq.ancient-data.org/hebrew/word?version=c&amp;id=1DWRn\" title=\"show this lexeme in SHEBANQ\">דֹ֑ר </a></div>\n",
       "<div class=\"features\"> <span class=\"pdp\"><a href=\"https://shebanq.ancient-data.org/hebrew/text?book=Psalmi&amp;chapter=79&amp;verse=13&amp;version=c&amp;mr=m&amp;qw=q&amp;tp=txt_p&amp;tr=hb&amp;wget=v&amp;qget=v&amp;nget=vt\" title=\"Psalms 79:13\" sec=\"Psalms 79:13\">subs</a></span> <span class=\"gloss\">generation</span> <span class=\"lex xft\"><span class=\"f\">lex=</span>DWR/</span></div>\n",
       "\n",
       "\n",
       "</div>\n",
       "\n",
       "\n",
       "    </div>\n",
       "\n",
       "\n",
       "</div>\n",
       "\n",
       "\n",
       "</div>\n"
      ],
      "text/plain": [
       "<IPython.core.display.HTML object>"
      ]
     },
     "metadata": {},
     "output_type": "display_data"
    },
    {
     "data": {
      "text/html": [
       "<div style=\"background: #96ceb4; text-align: center\">part2</div>"
      ],
      "text/plain": [
       "<IPython.core.display.HTML object>"
      ]
     },
     "metadata": {},
     "output_type": "display_data"
    },
    {
     "data": {
      "text/html": [
       "<div style=\"background: #ffeead; text-align: center\">conj</div>"
      ],
      "text/plain": [
       "<IPython.core.display.HTML object>"
      ]
     },
     "metadata": {},
     "output_type": "display_data"
    },
    {
     "data": {
      "text/html": [
       "<div style=\"background: #ffcc5c; text-align: center\">part1</div>"
      ],
      "text/plain": [
       "<IPython.core.display.HTML object>"
      ]
     },
     "metadata": {},
     "output_type": "display_data"
    },
    {
     "name": "stdout",
     "output_type": "stream",
     "text": [
      "{   '__cx__': 'coord',\n",
      "    'conj': {'__cx__': 'conj', 'head': 324404},\n",
      "    'part1': {'__cx__': 'cont', 'head': 324403},\n",
      "    'part2': {'__cx__': 'cont', 'head': 324405}}\n",
      "\n"
     ]
    },
    {
     "data": {
      "text/html": [
       "<hr>"
      ],
      "text/plain": [
       "<IPython.core.display.HTML object>"
      ]
     },
     "metadata": {},
     "output_type": "display_data"
    },
    {
     "data": {
      "text/html": [
       "<p><b>result</b> <i>1449855 -> CX coord {325193, 325194, 325195}</i></p>"
      ],
      "text/plain": [
       "<IPython.core.display.HTML object>"
      ]
     },
     "metadata": {},
     "output_type": "display_data"
    },
    {
     "data": {
      "text/html": [
       "<a href=\"https://shebanq.ancient-data.org/hebrew/text?book=Psalmi&amp;chapter=85&amp;verse=6&amp;version=c&amp;mr=m&amp;qw=q&amp;tp=txt_p&amp;tr=hb&amp;wget=v&amp;qget=v&amp;nget=vt\" title=\"show this passage in SHEBANQ\" sec=\"Psalms 85:6\">Psalms 85:6</a>\n",
       "<div class=\"atoms  \" >\n",
       "<a href=\"#\" class=\"nd\">845599</a>\n",
       "\n",
       "\n",
       "\n",
       "<div class=\"patom  \" >\n",
       "\n",
       "    <div class=\"phrase \" >\n",
       "        <a href=\"https://shebanq.ancient-data.org/hebrew/text?book=Psalmi&amp;chapter=85&amp;verse=6&amp;version=c&amp;mr=m&amp;qw=q&amp;tp=txt_p&amp;tr=hb&amp;wget=v&amp;qget=v&amp;nget=vt\" title=\"Psalms 85:6\" sec=\"Psalms 85:6\">phrase</a> <a href=\"#\" class=\"nd\">845599</a>  <span class=\"function\">Time</span> <span class=\"typ\">PP</span>\n",
       "    </div>\n",
       "    <div class=\"atoms\">\n",
       "\n",
       "<div class=\"word  \" >\n",
       "<a href=\"#\" class=\"nd\">325192</a>\n",
       "<div class=\"h\"><a target=\"_blank\" href=\"https://shebanq.ancient-data.org/hebrew/word?version=c&amp;id=1L\" title=\"show this lexeme in SHEBANQ\">לְ</a></div>\n",
       "<div class=\"features\"> <span class=\"pdp\"><a href=\"https://shebanq.ancient-data.org/hebrew/text?book=Psalmi&amp;chapter=85&amp;verse=6&amp;version=c&amp;mr=m&amp;qw=q&amp;tp=txt_p&amp;tr=hb&amp;wget=v&amp;qget=v&amp;nget=vt\" title=\"Psalms 85:6\" sec=\"Psalms 85:6\">prep</a></span> <span class=\"gloss\">to</span> <span class=\"lex xft\"><span class=\"f\">lex=</span>L</span></div>\n",
       "\n",
       "\n",
       "</div>\n",
       "\n",
       "<div class=\"word  hl\"  style=\"background-color: #ffcc5c;\" >\n",
       "<a href=\"#\" class=\"nd\">325193</a>\n",
       "<div class=\"h\"><a target=\"_blank\" href=\"https://shebanq.ancient-data.org/hebrew/word?version=c&amp;id=1DWRn\" title=\"show this lexeme in SHEBANQ\">דֹ֣ר </a></div>\n",
       "<div class=\"features\"> <span class=\"pdp\"><a href=\"https://shebanq.ancient-data.org/hebrew/text?book=Psalmi&amp;chapter=85&amp;verse=6&amp;version=c&amp;mr=m&amp;qw=q&amp;tp=txt_p&amp;tr=hb&amp;wget=v&amp;qget=v&amp;nget=vt\" title=\"Psalms 85:6\" sec=\"Psalms 85:6\">subs</a></span> <span class=\"gloss\">generation</span> <span class=\"lex xft\"><span class=\"f\">lex=</span>DWR/</span></div>\n",
       "\n",
       "\n",
       "</div>\n",
       "\n",
       "<div class=\"word  hl\"  style=\"background-color: #ffeead;\" >\n",
       "<a href=\"#\" class=\"nd\">325194</a>\n",
       "<div class=\"h\"><a target=\"_blank\" href=\"https://shebanq.ancient-data.org/hebrew/word?version=c&amp;id=1W\" title=\"show this lexeme in SHEBANQ\">וָ</a></div>\n",
       "<div class=\"features\"> <span class=\"pdp\"><a href=\"https://shebanq.ancient-data.org/hebrew/text?book=Psalmi&amp;chapter=85&amp;verse=6&amp;version=c&amp;mr=m&amp;qw=q&amp;tp=txt_p&amp;tr=hb&amp;wget=v&amp;qget=v&amp;nget=vt\" title=\"Psalms 85:6\" sec=\"Psalms 85:6\">conj</a></span> <span class=\"gloss\">and</span> <span class=\"lex xft\"><span class=\"f\">lex=</span>W</span></div>\n",
       "\n",
       "\n",
       "</div>\n",
       "\n",
       "<div class=\"word  hl\"  style=\"background-color: #96ceb4;\" >\n",
       "<a href=\"#\" class=\"nd\">325195</a>\n",
       "<div class=\"h\"><a target=\"_blank\" href=\"https://shebanq.ancient-data.org/hebrew/word?version=c&amp;id=1DWRn\" title=\"show this lexeme in SHEBANQ\">דֹֽר׃ </a></div>\n",
       "<div class=\"features\"> <span class=\"pdp\"><a href=\"https://shebanq.ancient-data.org/hebrew/text?book=Psalmi&amp;chapter=85&amp;verse=6&amp;version=c&amp;mr=m&amp;qw=q&amp;tp=txt_p&amp;tr=hb&amp;wget=v&amp;qget=v&amp;nget=vt\" title=\"Psalms 85:6\" sec=\"Psalms 85:6\">subs</a></span> <span class=\"gloss\">generation</span> <span class=\"lex xft\"><span class=\"f\">lex=</span>DWR/</span></div>\n",
       "\n",
       "\n",
       "</div>\n",
       "\n",
       "\n",
       "    </div>\n",
       "\n",
       "\n",
       "</div>\n",
       "\n",
       "\n",
       "</div>\n"
      ],
      "text/plain": [
       "<IPython.core.display.HTML object>"
      ]
     },
     "metadata": {},
     "output_type": "display_data"
    },
    {
     "data": {
      "text/html": [
       "<div style=\"background: #96ceb4; text-align: center\">part2</div>"
      ],
      "text/plain": [
       "<IPython.core.display.HTML object>"
      ]
     },
     "metadata": {},
     "output_type": "display_data"
    },
    {
     "data": {
      "text/html": [
       "<div style=\"background: #ffeead; text-align: center\">conj</div>"
      ],
      "text/plain": [
       "<IPython.core.display.HTML object>"
      ]
     },
     "metadata": {},
     "output_type": "display_data"
    },
    {
     "data": {
      "text/html": [
       "<div style=\"background: #ffcc5c; text-align: center\">part1</div>"
      ],
      "text/plain": [
       "<IPython.core.display.HTML object>"
      ]
     },
     "metadata": {},
     "output_type": "display_data"
    },
    {
     "name": "stdout",
     "output_type": "stream",
     "text": [
      "{   '__cx__': 'coord',\n",
      "    'conj': {'__cx__': 'conj', 'head': 325194},\n",
      "    'part1': {'__cx__': 'cont', 'head': 325193},\n",
      "    'part2': {'__cx__': 'cont', 'head': 325195}}\n",
      "\n"
     ]
    },
    {
     "data": {
      "text/html": [
       "<hr>"
      ],
      "text/plain": [
       "<IPython.core.display.HTML object>"
      ]
     },
     "metadata": {},
     "output_type": "display_data"
    },
    {
     "data": {
      "text/html": [
       "<p><b>result</b> <i>1449865 -> CX coord {325732, 325733, 325734}</i></p>"
      ],
      "text/plain": [
       "<IPython.core.display.HTML object>"
      ]
     },
     "metadata": {},
     "output_type": "display_data"
    },
    {
     "data": {
      "text/html": [
       "<a href=\"https://shebanq.ancient-data.org/hebrew/text?book=Psalmi&amp;chapter=89&amp;verse=2&amp;version=c&amp;mr=m&amp;qw=q&amp;tp=txt_p&amp;tr=hb&amp;wget=v&amp;qget=v&amp;nget=vt\" title=\"show this passage in SHEBANQ\" sec=\"Psalms 89:2\">Psalms 89:2</a>\n",
       "<div class=\"atoms  \" >\n",
       "<a href=\"#\" class=\"nd\">845981</a>\n",
       "\n",
       "\n",
       "\n",
       "<div class=\"patom  \" >\n",
       "\n",
       "    <div class=\"phrase \" >\n",
       "        <a href=\"https://shebanq.ancient-data.org/hebrew/text?book=Psalmi&amp;chapter=89&amp;verse=2&amp;version=c&amp;mr=m&amp;qw=q&amp;tp=txt_p&amp;tr=hb&amp;wget=v&amp;qget=v&amp;nget=vt\" title=\"Psalms 89:2\" sec=\"Psalms 89:2\">phrase</a> <a href=\"#\" class=\"nd\">845981</a>  <span class=\"function\">Time</span> <span class=\"typ\">PP</span>\n",
       "    </div>\n",
       "    <div class=\"atoms\">\n",
       "\n",
       "<div class=\"word  \" >\n",
       "<a href=\"#\" class=\"nd\">325731</a>\n",
       "<div class=\"h\"><a target=\"_blank\" href=\"https://shebanq.ancient-data.org/hebrew/word?version=c&amp;id=1L\" title=\"show this lexeme in SHEBANQ\">לְ</a></div>\n",
       "<div class=\"features\"> <span class=\"pdp\"><a href=\"https://shebanq.ancient-data.org/hebrew/text?book=Psalmi&amp;chapter=89&amp;verse=2&amp;version=c&amp;mr=m&amp;qw=q&amp;tp=txt_p&amp;tr=hb&amp;wget=v&amp;qget=v&amp;nget=vt\" title=\"Psalms 89:2\" sec=\"Psalms 89:2\">prep</a></span> <span class=\"gloss\">to</span> <span class=\"lex xft\"><span class=\"f\">lex=</span>L</span></div>\n",
       "\n",
       "\n",
       "</div>\n",
       "\n",
       "<div class=\"word  hl\"  style=\"background-color: #ffcc5c;\" >\n",
       "<a href=\"#\" class=\"nd\">325732</a>\n",
       "<div class=\"h\"><a target=\"_blank\" href=\"https://shebanq.ancient-data.org/hebrew/word?version=c&amp;id=1DWRn\" title=\"show this lexeme in SHEBANQ\">דֹ֥ר </a></div>\n",
       "<div class=\"features\"> <span class=\"pdp\"><a href=\"https://shebanq.ancient-data.org/hebrew/text?book=Psalmi&amp;chapter=89&amp;verse=2&amp;version=c&amp;mr=m&amp;qw=q&amp;tp=txt_p&amp;tr=hb&amp;wget=v&amp;qget=v&amp;nget=vt\" title=\"Psalms 89:2\" sec=\"Psalms 89:2\">subs</a></span> <span class=\"gloss\">generation</span> <span class=\"lex xft\"><span class=\"f\">lex=</span>DWR/</span></div>\n",
       "\n",
       "\n",
       "</div>\n",
       "\n",
       "<div class=\"word  hl\"  style=\"background-color: #ffeead;\" >\n",
       "<a href=\"#\" class=\"nd\">325733</a>\n",
       "<div class=\"h\"><a target=\"_blank\" href=\"https://shebanq.ancient-data.org/hebrew/word?version=c&amp;id=1W\" title=\"show this lexeme in SHEBANQ\">וָ</a></div>\n",
       "<div class=\"features\"> <span class=\"pdp\"><a href=\"https://shebanq.ancient-data.org/hebrew/text?book=Psalmi&amp;chapter=89&amp;verse=2&amp;version=c&amp;mr=m&amp;qw=q&amp;tp=txt_p&amp;tr=hb&amp;wget=v&amp;qget=v&amp;nget=vt\" title=\"Psalms 89:2\" sec=\"Psalms 89:2\">conj</a></span> <span class=\"gloss\">and</span> <span class=\"lex xft\"><span class=\"f\">lex=</span>W</span></div>\n",
       "\n",
       "\n",
       "</div>\n",
       "\n",
       "<div class=\"word  hl\"  style=\"background-color: #96ceb4;\" >\n",
       "<a href=\"#\" class=\"nd\">325734</a>\n",
       "<div class=\"h\"><a target=\"_blank\" href=\"https://shebanq.ancient-data.org/hebrew/word?version=c&amp;id=1DWRn\" title=\"show this lexeme in SHEBANQ\">דֹ֓ר׀ </a></div>\n",
       "<div class=\"features\"> <span class=\"pdp\"><a href=\"https://shebanq.ancient-data.org/hebrew/text?book=Psalmi&amp;chapter=89&amp;verse=2&amp;version=c&amp;mr=m&amp;qw=q&amp;tp=txt_p&amp;tr=hb&amp;wget=v&amp;qget=v&amp;nget=vt\" title=\"Psalms 89:2\" sec=\"Psalms 89:2\">subs</a></span> <span class=\"gloss\">generation</span> <span class=\"lex xft\"><span class=\"f\">lex=</span>DWR/</span></div>\n",
       "\n",
       "\n",
       "</div>\n",
       "\n",
       "\n",
       "    </div>\n",
       "\n",
       "\n",
       "</div>\n",
       "\n",
       "\n",
       "</div>\n"
      ],
      "text/plain": [
       "<IPython.core.display.HTML object>"
      ]
     },
     "metadata": {},
     "output_type": "display_data"
    },
    {
     "data": {
      "text/html": [
       "<div style=\"background: #96ceb4; text-align: center\">part2</div>"
      ],
      "text/plain": [
       "<IPython.core.display.HTML object>"
      ]
     },
     "metadata": {},
     "output_type": "display_data"
    },
    {
     "data": {
      "text/html": [
       "<div style=\"background: #ffeead; text-align: center\">conj</div>"
      ],
      "text/plain": [
       "<IPython.core.display.HTML object>"
      ]
     },
     "metadata": {},
     "output_type": "display_data"
    },
    {
     "data": {
      "text/html": [
       "<div style=\"background: #ffcc5c; text-align: center\">part1</div>"
      ],
      "text/plain": [
       "<IPython.core.display.HTML object>"
      ]
     },
     "metadata": {},
     "output_type": "display_data"
    },
    {
     "name": "stdout",
     "output_type": "stream",
     "text": [
      "{   '__cx__': 'coord',\n",
      "    'conj': {'__cx__': 'conj', 'head': 325733},\n",
      "    'part1': {'__cx__': 'cont', 'head': 325732},\n",
      "    'part2': {'__cx__': 'cont', 'head': 325734}}\n",
      "\n"
     ]
    },
    {
     "data": {
      "text/html": [
       "<hr>"
      ],
      "text/plain": [
       "<IPython.core.display.HTML object>"
      ]
     },
     "metadata": {},
     "output_type": "display_data"
    },
    {
     "data": {
      "text/html": [
       "<p><b>result</b> <i>1449868 -> CX coord {325763, 325764, 325765}</i></p>"
      ],
      "text/plain": [
       "<IPython.core.display.HTML object>"
      ]
     },
     "metadata": {},
     "output_type": "display_data"
    },
    {
     "data": {
      "text/html": [
       "<a href=\"https://shebanq.ancient-data.org/hebrew/text?book=Psalmi&amp;chapter=89&amp;verse=5&amp;version=c&amp;mr=m&amp;qw=q&amp;tp=txt_p&amp;tr=hb&amp;wget=v&amp;qget=v&amp;nget=vt\" title=\"show this passage in SHEBANQ\" sec=\"Psalms 89:5\">Psalms 89:5</a>\n",
       "<div class=\"atoms  \" >\n",
       "<a href=\"#\" class=\"nd\">846004</a>\n",
       "\n",
       "\n",
       "\n",
       "<div class=\"patom  \" >\n",
       "\n",
       "    <div class=\"phrase \" >\n",
       "        <a href=\"https://shebanq.ancient-data.org/hebrew/text?book=Psalmi&amp;chapter=89&amp;verse=5&amp;version=c&amp;mr=m&amp;qw=q&amp;tp=txt_p&amp;tr=hb&amp;wget=v&amp;qget=v&amp;nget=vt\" title=\"Psalms 89:5\" sec=\"Psalms 89:5\">phrase</a> <a href=\"#\" class=\"nd\">846004</a>  <span class=\"function\">Time</span> <span class=\"typ\">PP</span>\n",
       "    </div>\n",
       "    <div class=\"atoms\">\n",
       "\n",
       "<div class=\"word  \" >\n",
       "<a href=\"#\" class=\"nd\">325762</a>\n",
       "<div class=\"h\"><a target=\"_blank\" href=\"https://shebanq.ancient-data.org/hebrew/word?version=c&amp;id=1L\" title=\"show this lexeme in SHEBANQ\">לְ</a></div>\n",
       "<div class=\"features\"> <span class=\"pdp\"><a href=\"https://shebanq.ancient-data.org/hebrew/text?book=Psalmi&amp;chapter=89&amp;verse=5&amp;version=c&amp;mr=m&amp;qw=q&amp;tp=txt_p&amp;tr=hb&amp;wget=v&amp;qget=v&amp;nget=vt\" title=\"Psalms 89:5\" sec=\"Psalms 89:5\">prep</a></span> <span class=\"gloss\">to</span> <span class=\"lex xft\"><span class=\"f\">lex=</span>L</span></div>\n",
       "\n",
       "\n",
       "</div>\n",
       "\n",
       "<div class=\"word  hl\"  style=\"background-color: #ffcc5c;\" >\n",
       "<a href=\"#\" class=\"nd\">325763</a>\n",
       "<div class=\"h\"><a target=\"_blank\" href=\"https://shebanq.ancient-data.org/hebrew/word?version=c&amp;id=1DWRn\" title=\"show this lexeme in SHEBANQ\">דֹר־</a></div>\n",
       "<div class=\"features\"> <span class=\"pdp\"><a href=\"https://shebanq.ancient-data.org/hebrew/text?book=Psalmi&amp;chapter=89&amp;verse=5&amp;version=c&amp;mr=m&amp;qw=q&amp;tp=txt_p&amp;tr=hb&amp;wget=v&amp;qget=v&amp;nget=vt\" title=\"Psalms 89:5\" sec=\"Psalms 89:5\">subs</a></span> <span class=\"gloss\">generation</span> <span class=\"lex xft\"><span class=\"f\">lex=</span>DWR/</span></div>\n",
       "\n",
       "\n",
       "</div>\n",
       "\n",
       "<div class=\"word  hl\"  style=\"background-color: #ffeead;\" >\n",
       "<a href=\"#\" class=\"nd\">325764</a>\n",
       "<div class=\"h\"><a target=\"_blank\" href=\"https://shebanq.ancient-data.org/hebrew/word?version=c&amp;id=1W\" title=\"show this lexeme in SHEBANQ\">וָ</a></div>\n",
       "<div class=\"features\"> <span class=\"pdp\"><a href=\"https://shebanq.ancient-data.org/hebrew/text?book=Psalmi&amp;chapter=89&amp;verse=5&amp;version=c&amp;mr=m&amp;qw=q&amp;tp=txt_p&amp;tr=hb&amp;wget=v&amp;qget=v&amp;nget=vt\" title=\"Psalms 89:5\" sec=\"Psalms 89:5\">conj</a></span> <span class=\"gloss\">and</span> <span class=\"lex xft\"><span class=\"f\">lex=</span>W</span></div>\n",
       "\n",
       "\n",
       "</div>\n",
       "\n",
       "<div class=\"word  hl\"  style=\"background-color: #96ceb4;\" >\n",
       "<a href=\"#\" class=\"nd\">325765</a>\n",
       "<div class=\"h\"><a target=\"_blank\" href=\"https://shebanq.ancient-data.org/hebrew/word?version=c&amp;id=1DWRn\" title=\"show this lexeme in SHEBANQ\">דֹ֖ור </a></div>\n",
       "<div class=\"features\"> <span class=\"pdp\"><a href=\"https://shebanq.ancient-data.org/hebrew/text?book=Psalmi&amp;chapter=89&amp;verse=5&amp;version=c&amp;mr=m&amp;qw=q&amp;tp=txt_p&amp;tr=hb&amp;wget=v&amp;qget=v&amp;nget=vt\" title=\"Psalms 89:5\" sec=\"Psalms 89:5\">subs</a></span> <span class=\"gloss\">generation</span> <span class=\"lex xft\"><span class=\"f\">lex=</span>DWR/</span></div>\n",
       "\n",
       "\n",
       "</div>\n",
       "\n",
       "\n",
       "    </div>\n",
       "\n",
       "\n",
       "</div>\n",
       "\n",
       "\n",
       "</div>\n"
      ],
      "text/plain": [
       "<IPython.core.display.HTML object>"
      ]
     },
     "metadata": {},
     "output_type": "display_data"
    },
    {
     "data": {
      "text/html": [
       "<div style=\"background: #96ceb4; text-align: center\">part2</div>"
      ],
      "text/plain": [
       "<IPython.core.display.HTML object>"
      ]
     },
     "metadata": {},
     "output_type": "display_data"
    },
    {
     "data": {
      "text/html": [
       "<div style=\"background: #ffeead; text-align: center\">conj</div>"
      ],
      "text/plain": [
       "<IPython.core.display.HTML object>"
      ]
     },
     "metadata": {},
     "output_type": "display_data"
    },
    {
     "data": {
      "text/html": [
       "<div style=\"background: #ffcc5c; text-align: center\">part1</div>"
      ],
      "text/plain": [
       "<IPython.core.display.HTML object>"
      ]
     },
     "metadata": {},
     "output_type": "display_data"
    },
    {
     "name": "stdout",
     "output_type": "stream",
     "text": [
      "{   '__cx__': 'coord',\n",
      "    'conj': {'__cx__': 'conj', 'head': 325764},\n",
      "    'part1': {'__cx__': 'cont', 'head': 325763},\n",
      "    'part2': {'__cx__': 'cont', 'head': 325765}}\n",
      "\n"
     ]
    },
    {
     "data": {
      "text/html": [
       "<hr>"
      ],
      "text/plain": [
       "<IPython.core.display.HTML object>"
      ]
     },
     "metadata": {},
     "output_type": "display_data"
    },
    {
     "data": {
      "text/html": [
       "<p><b>result</b> <i>1449874 -> CX coord {326232, 326233, 326231}</i></p>"
      ],
      "text/plain": [
       "<IPython.core.display.HTML object>"
      ]
     },
     "metadata": {},
     "output_type": "display_data"
    },
    {
     "data": {
      "text/html": [
       "<a href=\"https://shebanq.ancient-data.org/hebrew/text?book=Psalmi&amp;chapter=90&amp;verse=1&amp;version=c&amp;mr=m&amp;qw=q&amp;tp=txt_p&amp;tr=hb&amp;wget=v&amp;qget=v&amp;nget=vt\" title=\"show this passage in SHEBANQ\" sec=\"Psalms 90:1\">Psalms 90:1</a>\n",
       "<div class=\"atoms  \" >\n",
       "<a href=\"#\" class=\"nd\">846333</a>\n",
       "\n",
       "\n",
       "\n",
       "<div class=\"patom  \" >\n",
       "\n",
       "    <div class=\"phrase \" >\n",
       "        <a href=\"https://shebanq.ancient-data.org/hebrew/text?book=Psalmi&amp;chapter=90&amp;verse=1&amp;version=c&amp;mr=m&amp;qw=q&amp;tp=txt_p&amp;tr=hb&amp;wget=v&amp;qget=v&amp;nget=vt\" title=\"Psalms 90:1\" sec=\"Psalms 90:1\">phrase</a> <a href=\"#\" class=\"nd\">846333</a>  <span class=\"function\">Time</span> <span class=\"typ\">PP</span>\n",
       "    </div>\n",
       "    <div class=\"atoms\">\n",
       "\n",
       "<div class=\"word  \" >\n",
       "<a href=\"#\" class=\"nd\">326230</a>\n",
       "<div class=\"h\"><a target=\"_blank\" href=\"https://shebanq.ancient-data.org/hebrew/word?version=c&amp;id=1B\" title=\"show this lexeme in SHEBANQ\">בְּ</a></div>\n",
       "<div class=\"features\"> <span class=\"pdp\"><a href=\"https://shebanq.ancient-data.org/hebrew/text?book=Psalmi&amp;chapter=90&amp;verse=1&amp;version=c&amp;mr=m&amp;qw=q&amp;tp=txt_p&amp;tr=hb&amp;wget=v&amp;qget=v&amp;nget=vt\" title=\"Psalms 90:1\" sec=\"Psalms 90:1\">prep</a></span> <span class=\"gloss\">in</span> <span class=\"lex xft\"><span class=\"f\">lex=</span>B</span></div>\n",
       "\n",
       "\n",
       "</div>\n",
       "\n",
       "<div class=\"word  hl\"  style=\"background-color: #ffcc5c;\" >\n",
       "<a href=\"#\" class=\"nd\">326231</a>\n",
       "<div class=\"h\"><a target=\"_blank\" href=\"https://shebanq.ancient-data.org/hebrew/word?version=c&amp;id=1DWRn\" title=\"show this lexeme in SHEBANQ\">דֹ֣ר </a></div>\n",
       "<div class=\"features\"> <span class=\"pdp\"><a href=\"https://shebanq.ancient-data.org/hebrew/text?book=Psalmi&amp;chapter=90&amp;verse=1&amp;version=c&amp;mr=m&amp;qw=q&amp;tp=txt_p&amp;tr=hb&amp;wget=v&amp;qget=v&amp;nget=vt\" title=\"Psalms 90:1\" sec=\"Psalms 90:1\">subs</a></span> <span class=\"gloss\">generation</span> <span class=\"lex xft\"><span class=\"f\">lex=</span>DWR/</span></div>\n",
       "\n",
       "\n",
       "</div>\n",
       "\n",
       "<div class=\"word  hl\"  style=\"background-color: #ffeead;\" >\n",
       "<a href=\"#\" class=\"nd\">326232</a>\n",
       "<div class=\"h\"><a target=\"_blank\" href=\"https://shebanq.ancient-data.org/hebrew/word?version=c&amp;id=1W\" title=\"show this lexeme in SHEBANQ\">וָ</a></div>\n",
       "<div class=\"features\"> <span class=\"pdp\"><a href=\"https://shebanq.ancient-data.org/hebrew/text?book=Psalmi&amp;chapter=90&amp;verse=1&amp;version=c&amp;mr=m&amp;qw=q&amp;tp=txt_p&amp;tr=hb&amp;wget=v&amp;qget=v&amp;nget=vt\" title=\"Psalms 90:1\" sec=\"Psalms 90:1\">conj</a></span> <span class=\"gloss\">and</span> <span class=\"lex xft\"><span class=\"f\">lex=</span>W</span></div>\n",
       "\n",
       "\n",
       "</div>\n",
       "\n",
       "<div class=\"word  hl\"  style=\"background-color: #96ceb4;\" >\n",
       "<a href=\"#\" class=\"nd\">326233</a>\n",
       "<div class=\"h\"><a target=\"_blank\" href=\"https://shebanq.ancient-data.org/hebrew/word?version=c&amp;id=1DWRn\" title=\"show this lexeme in SHEBANQ\">דֹֽר׃ </a></div>\n",
       "<div class=\"features\"> <span class=\"pdp\"><a href=\"https://shebanq.ancient-data.org/hebrew/text?book=Psalmi&amp;chapter=90&amp;verse=1&amp;version=c&amp;mr=m&amp;qw=q&amp;tp=txt_p&amp;tr=hb&amp;wget=v&amp;qget=v&amp;nget=vt\" title=\"Psalms 90:1\" sec=\"Psalms 90:1\">subs</a></span> <span class=\"gloss\">generation</span> <span class=\"lex xft\"><span class=\"f\">lex=</span>DWR/</span></div>\n",
       "\n",
       "\n",
       "</div>\n",
       "\n",
       "\n",
       "    </div>\n",
       "\n",
       "\n",
       "</div>\n",
       "\n",
       "\n",
       "</div>\n"
      ],
      "text/plain": [
       "<IPython.core.display.HTML object>"
      ]
     },
     "metadata": {},
     "output_type": "display_data"
    },
    {
     "data": {
      "text/html": [
       "<div style=\"background: #96ceb4; text-align: center\">part2</div>"
      ],
      "text/plain": [
       "<IPython.core.display.HTML object>"
      ]
     },
     "metadata": {},
     "output_type": "display_data"
    },
    {
     "data": {
      "text/html": [
       "<div style=\"background: #ffeead; text-align: center\">conj</div>"
      ],
      "text/plain": [
       "<IPython.core.display.HTML object>"
      ]
     },
     "metadata": {},
     "output_type": "display_data"
    },
    {
     "data": {
      "text/html": [
       "<div style=\"background: #ffcc5c; text-align: center\">part1</div>"
      ],
      "text/plain": [
       "<IPython.core.display.HTML object>"
      ]
     },
     "metadata": {},
     "output_type": "display_data"
    },
    {
     "name": "stdout",
     "output_type": "stream",
     "text": [
      "{   '__cx__': 'coord',\n",
      "    'conj': {'__cx__': 'conj', 'head': 326232},\n",
      "    'part1': {'__cx__': 'cont', 'head': 326231},\n",
      "    'part2': {'__cx__': 'cont', 'head': 326233}}\n",
      "\n"
     ]
    },
    {
     "data": {
      "text/html": [
       "<hr>"
      ],
      "text/plain": [
       "<IPython.core.display.HTML object>"
      ]
     },
     "metadata": {},
     "output_type": "display_data"
    },
    {
     "data": {
      "text/html": [
       "<p><b>result</b> <i>1449911 -> CX coord {329266, 329267, 329268}</i></p>"
      ],
      "text/plain": [
       "<IPython.core.display.HTML object>"
      ]
     },
     "metadata": {},
     "output_type": "display_data"
    },
    {
     "data": {
      "text/html": [
       "<a href=\"https://shebanq.ancient-data.org/hebrew/text?book=Psalmi&amp;chapter=106&amp;verse=31&amp;version=c&amp;mr=m&amp;qw=q&amp;tp=txt_p&amp;tr=hb&amp;wget=v&amp;qget=v&amp;nget=vt\" title=\"show this passage in SHEBANQ\" sec=\"Psalms 106:31\">Psalms 106:31</a>\n",
       "<div class=\"atoms  \" >\n",
       "<a href=\"#\" class=\"nd\">848402</a>\n",
       "\n",
       "\n",
       "\n",
       "<div class=\"patom  l \" >\n",
       "\n",
       "    <div class=\"phrase \" >\n",
       "        <a href=\"https://shebanq.ancient-data.org/hebrew/text?book=Psalmi&amp;chapter=106&amp;verse=31&amp;version=c&amp;mr=m&amp;qw=q&amp;tp=txt_p&amp;tr=hb&amp;wget=v&amp;qget=v&amp;nget=vt\" title=\"Psalms 106:31\" sec=\"Psalms 106:31\">phrase</a> <a href=\"#\" class=\"nd\">848402</a>  <span class=\"function\">Time</span> <span class=\"typ\">PP</span>\n",
       "    </div>\n",
       "    <div class=\"atoms\">\n",
       "\n",
       "<div class=\"word  \" >\n",
       "<a href=\"#\" class=\"nd\">329265</a>\n",
       "<div class=\"h\"><a target=\"_blank\" href=\"https://shebanq.ancient-data.org/hebrew/word?version=c&amp;id=1L\" title=\"show this lexeme in SHEBANQ\">לְ</a></div>\n",
       "<div class=\"features\"> <span class=\"pdp\"><a href=\"https://shebanq.ancient-data.org/hebrew/text?book=Psalmi&amp;chapter=106&amp;verse=31&amp;version=c&amp;mr=m&amp;qw=q&amp;tp=txt_p&amp;tr=hb&amp;wget=v&amp;qget=v&amp;nget=vt\" title=\"Psalms 106:31\" sec=\"Psalms 106:31\">prep</a></span> <span class=\"gloss\">to</span> <span class=\"lex xft\"><span class=\"f\">lex=</span>L</span></div>\n",
       "\n",
       "\n",
       "</div>\n",
       "\n",
       "<div class=\"word  hl\"  style=\"background-color: #ffcc5c;\" >\n",
       "<a href=\"#\" class=\"nd\">329266</a>\n",
       "<div class=\"h\"><a target=\"_blank\" href=\"https://shebanq.ancient-data.org/hebrew/word?version=c&amp;id=1DWRn\" title=\"show this lexeme in SHEBANQ\">דֹ֥ר </a></div>\n",
       "<div class=\"features\"> <span class=\"pdp\"><a href=\"https://shebanq.ancient-data.org/hebrew/text?book=Psalmi&amp;chapter=106&amp;verse=31&amp;version=c&amp;mr=m&amp;qw=q&amp;tp=txt_p&amp;tr=hb&amp;wget=v&amp;qget=v&amp;nget=vt\" title=\"Psalms 106:31\" sec=\"Psalms 106:31\">subs</a></span> <span class=\"gloss\">generation</span> <span class=\"lex xft\"><span class=\"f\">lex=</span>DWR/</span></div>\n",
       "\n",
       "\n",
       "</div>\n",
       "\n",
       "<div class=\"word  hl\"  style=\"background-color: #ffeead;\" >\n",
       "<a href=\"#\" class=\"nd\">329267</a>\n",
       "<div class=\"h\"><a target=\"_blank\" href=\"https://shebanq.ancient-data.org/hebrew/word?version=c&amp;id=1W\" title=\"show this lexeme in SHEBANQ\">וָ֝</a></div>\n",
       "<div class=\"features\"> <span class=\"pdp\"><a href=\"https://shebanq.ancient-data.org/hebrew/text?book=Psalmi&amp;chapter=106&amp;verse=31&amp;version=c&amp;mr=m&amp;qw=q&amp;tp=txt_p&amp;tr=hb&amp;wget=v&amp;qget=v&amp;nget=vt\" title=\"Psalms 106:31\" sec=\"Psalms 106:31\">conj</a></span> <span class=\"gloss\">and</span> <span class=\"lex xft\"><span class=\"f\">lex=</span>W</span></div>\n",
       "\n",
       "\n",
       "</div>\n",
       "\n",
       "<div class=\"word  hl\"  style=\"background-color: #96ceb4;\" >\n",
       "<a href=\"#\" class=\"nd\">329268</a>\n",
       "<div class=\"h\"><a target=\"_blank\" href=\"https://shebanq.ancient-data.org/hebrew/word?version=c&amp;id=1DWRn\" title=\"show this lexeme in SHEBANQ\">דֹ֗ר </a></div>\n",
       "<div class=\"features\"> <span class=\"pdp\"><a href=\"https://shebanq.ancient-data.org/hebrew/text?book=Psalmi&amp;chapter=106&amp;verse=31&amp;version=c&amp;mr=m&amp;qw=q&amp;tp=txt_p&amp;tr=hb&amp;wget=v&amp;qget=v&amp;nget=vt\" title=\"Psalms 106:31\" sec=\"Psalms 106:31\">subs</a></span> <span class=\"gloss\">generation</span> <span class=\"lex xft\"><span class=\"f\">lex=</span>DWR/</span></div>\n",
       "\n",
       "\n",
       "</div>\n",
       "\n",
       "\n",
       "    </div>\n",
       "\n",
       "\n",
       "</div>\n",
       "\n",
       "<div class=\"patom  r \" >\n",
       "\n",
       "    <div class=\"phrase \" >\n",
       "        <a href=\"https://shebanq.ancient-data.org/hebrew/text?book=Psalmi&amp;chapter=106&amp;verse=31&amp;version=c&amp;mr=m&amp;qw=q&amp;tp=txt_p&amp;tr=hb&amp;wget=v&amp;qget=v&amp;nget=vt\" title=\"Psalms 106:31\" sec=\"Psalms 106:31\">phrase</a> <a href=\"#\" class=\"nd\">848402</a>  <span class=\"function\">Time</span> <span class=\"typ\">PP</span>\n",
       "    </div>\n",
       "    <div class=\"atoms\">\n",
       "\n",
       "<div class=\"word  \" >\n",
       "<a href=\"#\" class=\"nd\">329269</a>\n",
       "<div class=\"h\"><a target=\"_blank\" href=\"https://shebanq.ancient-data.org/hebrew/word?version=c&amp;id=1OD\" title=\"show this lexeme in SHEBANQ\">עַד־</a></div>\n",
       "<div class=\"features\"> <span class=\"pdp\"><a href=\"https://shebanq.ancient-data.org/hebrew/text?book=Psalmi&amp;chapter=106&amp;verse=31&amp;version=c&amp;mr=m&amp;qw=q&amp;tp=txt_p&amp;tr=hb&amp;wget=v&amp;qget=v&amp;nget=vt\" title=\"Psalms 106:31\" sec=\"Psalms 106:31\">prep</a></span> <span class=\"gloss\">unto</span> <span class=\"lex xft\"><span class=\"f\">lex=</span>&lt;D</span></div>\n",
       "\n",
       "\n",
       "</div>\n",
       "\n",
       "<div class=\"word  \" >\n",
       "<a href=\"#\" class=\"nd\">329270</a>\n",
       "<div class=\"h\"><a target=\"_blank\" href=\"https://shebanq.ancient-data.org/hebrew/word?version=c&amp;id=1OWLMn\" title=\"show this lexeme in SHEBANQ\">עֹולָֽם׃ </a></div>\n",
       "<div class=\"features\"> <span class=\"pdp\"><a href=\"https://shebanq.ancient-data.org/hebrew/text?book=Psalmi&amp;chapter=106&amp;verse=31&amp;version=c&amp;mr=m&amp;qw=q&amp;tp=txt_p&amp;tr=hb&amp;wget=v&amp;qget=v&amp;nget=vt\" title=\"Psalms 106:31\" sec=\"Psalms 106:31\">subs</a></span> <span class=\"gloss\">eternity</span> <span class=\"lex xft\"><span class=\"f\">lex=</span>&lt;WLM/</span></div>\n",
       "\n",
       "\n",
       "</div>\n",
       "\n",
       "\n",
       "    </div>\n",
       "\n",
       "\n",
       "</div>\n",
       "\n",
       "\n",
       "</div>\n"
      ],
      "text/plain": [
       "<IPython.core.display.HTML object>"
      ]
     },
     "metadata": {},
     "output_type": "display_data"
    },
    {
     "data": {
      "text/html": [
       "<div style=\"background: #96ceb4; text-align: center\">part2</div>"
      ],
      "text/plain": [
       "<IPython.core.display.HTML object>"
      ]
     },
     "metadata": {},
     "output_type": "display_data"
    },
    {
     "data": {
      "text/html": [
       "<div style=\"background: #ffeead; text-align: center\">conj</div>"
      ],
      "text/plain": [
       "<IPython.core.display.HTML object>"
      ]
     },
     "metadata": {},
     "output_type": "display_data"
    },
    {
     "data": {
      "text/html": [
       "<div style=\"background: #ffcc5c; text-align: center\">part1</div>"
      ],
      "text/plain": [
       "<IPython.core.display.HTML object>"
      ]
     },
     "metadata": {},
     "output_type": "display_data"
    },
    {
     "name": "stdout",
     "output_type": "stream",
     "text": [
      "{   '__cx__': 'coord',\n",
      "    'conj': {'__cx__': 'conj', 'head': 329267},\n",
      "    'part1': {'__cx__': 'cont', 'head': 329266},\n",
      "    'part2': {'__cx__': 'cont', 'head': 329268}}\n",
      "\n"
     ]
    },
    {
     "data": {
      "text/html": [
       "<hr>"
      ],
      "text/plain": [
       "<IPython.core.display.HTML object>"
      ]
     },
     "metadata": {},
     "output_type": "display_data"
    },
    {
     "data": {
      "text/html": [
       "<p><b>result</b> <i>1449927 -> CX coord {331644, 331645, 331646}</i></p>"
      ],
      "text/plain": [
       "<IPython.core.display.HTML object>"
      ]
     },
     "metadata": {},
     "output_type": "display_data"
    },
    {
     "data": {
      "text/html": [
       "<a href=\"https://shebanq.ancient-data.org/hebrew/text?book=Psalmi&amp;chapter=119&amp;verse=44&amp;version=c&amp;mr=m&amp;qw=q&amp;tp=txt_p&amp;tr=hb&amp;wget=v&amp;qget=v&amp;nget=vt\" title=\"show this passage in SHEBANQ\" sec=\"Psalms 119:44\">Psalms 119:44</a>\n",
       "<div class=\"atoms  \" >\n",
       "<a href=\"#\" class=\"nd\">850017</a>\n",
       "\n",
       "\n",
       "\n",
       "<div class=\"patom  \" >\n",
       "\n",
       "    <div class=\"phrase \" >\n",
       "        <a href=\"https://shebanq.ancient-data.org/hebrew/text?book=Psalmi&amp;chapter=119&amp;verse=44&amp;version=c&amp;mr=m&amp;qw=q&amp;tp=txt_p&amp;tr=hb&amp;wget=v&amp;qget=v&amp;nget=vt\" title=\"Psalms 119:44\" sec=\"Psalms 119:44\">phrase</a> <a href=\"#\" class=\"nd\">850017</a>  <span class=\"function\">Time</span> <span class=\"typ\">PP</span>\n",
       "    </div>\n",
       "    <div class=\"atoms\">\n",
       "\n",
       "<div class=\"word  \" >\n",
       "<a href=\"#\" class=\"nd\">331643</a>\n",
       "<div class=\"h\"><a target=\"_blank\" href=\"https://shebanq.ancient-data.org/hebrew/word?version=c&amp;id=1L\" title=\"show this lexeme in SHEBANQ\">לְ</a></div>\n",
       "<div class=\"features\"> <span class=\"pdp\"><a href=\"https://shebanq.ancient-data.org/hebrew/text?book=Psalmi&amp;chapter=119&amp;verse=44&amp;version=c&amp;mr=m&amp;qw=q&amp;tp=txt_p&amp;tr=hb&amp;wget=v&amp;qget=v&amp;nget=vt\" title=\"Psalms 119:44\" sec=\"Psalms 119:44\">prep</a></span> <span class=\"gloss\">to</span> <span class=\"lex xft\"><span class=\"f\">lex=</span>L</span></div>\n",
       "\n",
       "\n",
       "</div>\n",
       "\n",
       "<div class=\"word  hl\"  style=\"background-color: #ffcc5c;\" >\n",
       "<a href=\"#\" class=\"nd\">331644</a>\n",
       "<div class=\"h\"><a target=\"_blank\" href=\"https://shebanq.ancient-data.org/hebrew/word?version=c&amp;id=1OWLMn\" title=\"show this lexeme in SHEBANQ\">עֹולָ֥ם </a></div>\n",
       "<div class=\"features\"> <span class=\"pdp\"><a href=\"https://shebanq.ancient-data.org/hebrew/text?book=Psalmi&amp;chapter=119&amp;verse=44&amp;version=c&amp;mr=m&amp;qw=q&amp;tp=txt_p&amp;tr=hb&amp;wget=v&amp;qget=v&amp;nget=vt\" title=\"Psalms 119:44\" sec=\"Psalms 119:44\">subs</a></span> <span class=\"gloss\">eternity</span> <span class=\"lex xft\"><span class=\"f\">lex=</span>&lt;WLM/</span></div>\n",
       "\n",
       "\n",
       "</div>\n",
       "\n",
       "<div class=\"word  hl\"  style=\"background-color: #ffeead;\" >\n",
       "<a href=\"#\" class=\"nd\">331645</a>\n",
       "<div class=\"h\"><a target=\"_blank\" href=\"https://shebanq.ancient-data.org/hebrew/word?version=c&amp;id=1W\" title=\"show this lexeme in SHEBANQ\">וָ</a></div>\n",
       "<div class=\"features\"> <span class=\"pdp\"><a href=\"https://shebanq.ancient-data.org/hebrew/text?book=Psalmi&amp;chapter=119&amp;verse=44&amp;version=c&amp;mr=m&amp;qw=q&amp;tp=txt_p&amp;tr=hb&amp;wget=v&amp;qget=v&amp;nget=vt\" title=\"Psalms 119:44\" sec=\"Psalms 119:44\">conj</a></span> <span class=\"gloss\">and</span> <span class=\"lex xft\"><span class=\"f\">lex=</span>W</span></div>\n",
       "\n",
       "\n",
       "</div>\n",
       "\n",
       "<div class=\"word  hl\"  style=\"background-color: #96ceb4;\" >\n",
       "<a href=\"#\" class=\"nd\">331646</a>\n",
       "<div class=\"h\"><a target=\"_blank\" href=\"https://shebanq.ancient-data.org/hebrew/word?version=c&amp;id=1ODn\" title=\"show this lexeme in SHEBANQ\">עֶֽד׃ </a></div>\n",
       "<div class=\"features\"> <span class=\"pdp\"><a href=\"https://shebanq.ancient-data.org/hebrew/text?book=Psalmi&amp;chapter=119&amp;verse=44&amp;version=c&amp;mr=m&amp;qw=q&amp;tp=txt_p&amp;tr=hb&amp;wget=v&amp;qget=v&amp;nget=vt\" title=\"Psalms 119:44\" sec=\"Psalms 119:44\">subs</a></span> <span class=\"gloss\">future</span> <span class=\"lex xft\"><span class=\"f\">lex=</span>&lt;D/</span></div>\n",
       "\n",
       "\n",
       "</div>\n",
       "\n",
       "\n",
       "    </div>\n",
       "\n",
       "\n",
       "</div>\n",
       "\n",
       "\n",
       "</div>\n"
      ],
      "text/plain": [
       "<IPython.core.display.HTML object>"
      ]
     },
     "metadata": {},
     "output_type": "display_data"
    },
    {
     "data": {
      "text/html": [
       "<div style=\"background: #96ceb4; text-align: center\">part2</div>"
      ],
      "text/plain": [
       "<IPython.core.display.HTML object>"
      ]
     },
     "metadata": {},
     "output_type": "display_data"
    },
    {
     "data": {
      "text/html": [
       "<div style=\"background: #ffeead; text-align: center\">conj</div>"
      ],
      "text/plain": [
       "<IPython.core.display.HTML object>"
      ]
     },
     "metadata": {},
     "output_type": "display_data"
    },
    {
     "data": {
      "text/html": [
       "<div style=\"background: #ffcc5c; text-align: center\">part1</div>"
      ],
      "text/plain": [
       "<IPython.core.display.HTML object>"
      ]
     },
     "metadata": {},
     "output_type": "display_data"
    },
    {
     "name": "stdout",
     "output_type": "stream",
     "text": [
      "{   '__cx__': 'coord',\n",
      "    'conj': {'__cx__': 'conj', 'head': 331645},\n",
      "    'part1': {'__cx__': 'cont', 'head': 331644},\n",
      "    'part2': {'__cx__': 'cont', 'head': 331646}}\n",
      "\n"
     ]
    },
    {
     "data": {
      "text/html": [
       "<hr>"
      ],
      "text/plain": [
       "<IPython.core.display.HTML object>"
      ]
     },
     "metadata": {},
     "output_type": "display_data"
    },
    {
     "data": {
      "text/html": [
       "<p><b>result</b> <i>1449953 -> CX coord {335250, 335251, 335252}</i></p>"
      ],
      "text/plain": [
       "<IPython.core.display.HTML object>"
      ]
     },
     "metadata": {},
     "output_type": "display_data"
    },
    {
     "data": {
      "text/html": [
       "<a href=\"https://shebanq.ancient-data.org/hebrew/text?book=Psalmi&amp;chapter=145&amp;verse=1&amp;version=c&amp;mr=m&amp;qw=q&amp;tp=txt_p&amp;tr=hb&amp;wget=v&amp;qget=v&amp;nget=vt\" title=\"show this passage in SHEBANQ\" sec=\"Psalms 145:1\">Psalms 145:1</a>\n",
       "<div class=\"atoms  \" >\n",
       "<a href=\"#\" class=\"nd\">852568</a>\n",
       "\n",
       "\n",
       "\n",
       "<div class=\"patom  \" >\n",
       "\n",
       "    <div class=\"phrase \" >\n",
       "        <a href=\"https://shebanq.ancient-data.org/hebrew/text?book=Psalmi&amp;chapter=145&amp;verse=1&amp;version=c&amp;mr=m&amp;qw=q&amp;tp=txt_p&amp;tr=hb&amp;wget=v&amp;qget=v&amp;nget=vt\" title=\"Psalms 145:1\" sec=\"Psalms 145:1\">phrase</a> <a href=\"#\" class=\"nd\">852568</a>  <span class=\"function\">Time</span> <span class=\"typ\">PP</span>\n",
       "    </div>\n",
       "    <div class=\"atoms\">\n",
       "\n",
       "<div class=\"word  \" >\n",
       "<a href=\"#\" class=\"nd\">335249</a>\n",
       "<div class=\"h\"><a target=\"_blank\" href=\"https://shebanq.ancient-data.org/hebrew/word?version=c&amp;id=1L\" title=\"show this lexeme in SHEBANQ\">לְ</a></div>\n",
       "<div class=\"features\"> <span class=\"pdp\"><a href=\"https://shebanq.ancient-data.org/hebrew/text?book=Psalmi&amp;chapter=145&amp;verse=1&amp;version=c&amp;mr=m&amp;qw=q&amp;tp=txt_p&amp;tr=hb&amp;wget=v&amp;qget=v&amp;nget=vt\" title=\"Psalms 145:1\" sec=\"Psalms 145:1\">prep</a></span> <span class=\"gloss\">to</span> <span class=\"lex xft\"><span class=\"f\">lex=</span>L</span></div>\n",
       "\n",
       "\n",
       "</div>\n",
       "\n",
       "<div class=\"word  hl\"  style=\"background-color: #ffcc5c;\" >\n",
       "<a href=\"#\" class=\"nd\">335250</a>\n",
       "<div class=\"h\"><a target=\"_blank\" href=\"https://shebanq.ancient-data.org/hebrew/word?version=c&amp;id=1OWLMn\" title=\"show this lexeme in SHEBANQ\">עֹולָ֥ם </a></div>\n",
       "<div class=\"features\"> <span class=\"pdp\"><a href=\"https://shebanq.ancient-data.org/hebrew/text?book=Psalmi&amp;chapter=145&amp;verse=1&amp;version=c&amp;mr=m&amp;qw=q&amp;tp=txt_p&amp;tr=hb&amp;wget=v&amp;qget=v&amp;nget=vt\" title=\"Psalms 145:1\" sec=\"Psalms 145:1\">subs</a></span> <span class=\"gloss\">eternity</span> <span class=\"lex xft\"><span class=\"f\">lex=</span>&lt;WLM/</span></div>\n",
       "\n",
       "\n",
       "</div>\n",
       "\n",
       "<div class=\"word  hl\"  style=\"background-color: #ffeead;\" >\n",
       "<a href=\"#\" class=\"nd\">335251</a>\n",
       "<div class=\"h\"><a target=\"_blank\" href=\"https://shebanq.ancient-data.org/hebrew/word?version=c&amp;id=1W\" title=\"show this lexeme in SHEBANQ\">וָ</a></div>\n",
       "<div class=\"features\"> <span class=\"pdp\"><a href=\"https://shebanq.ancient-data.org/hebrew/text?book=Psalmi&amp;chapter=145&amp;verse=1&amp;version=c&amp;mr=m&amp;qw=q&amp;tp=txt_p&amp;tr=hb&amp;wget=v&amp;qget=v&amp;nget=vt\" title=\"Psalms 145:1\" sec=\"Psalms 145:1\">conj</a></span> <span class=\"gloss\">and</span> <span class=\"lex xft\"><span class=\"f\">lex=</span>W</span></div>\n",
       "\n",
       "\n",
       "</div>\n",
       "\n",
       "<div class=\"word  hl\"  style=\"background-color: #96ceb4;\" >\n",
       "<a href=\"#\" class=\"nd\">335252</a>\n",
       "<div class=\"h\"><a target=\"_blank\" href=\"https://shebanq.ancient-data.org/hebrew/word?version=c&amp;id=1ODn\" title=\"show this lexeme in SHEBANQ\">עֶֽד׃ </a></div>\n",
       "<div class=\"features\"> <span class=\"pdp\"><a href=\"https://shebanq.ancient-data.org/hebrew/text?book=Psalmi&amp;chapter=145&amp;verse=1&amp;version=c&amp;mr=m&amp;qw=q&amp;tp=txt_p&amp;tr=hb&amp;wget=v&amp;qget=v&amp;nget=vt\" title=\"Psalms 145:1\" sec=\"Psalms 145:1\">subs</a></span> <span class=\"gloss\">future</span> <span class=\"lex xft\"><span class=\"f\">lex=</span>&lt;D/</span></div>\n",
       "\n",
       "\n",
       "</div>\n",
       "\n",
       "\n",
       "    </div>\n",
       "\n",
       "\n",
       "</div>\n",
       "\n",
       "\n",
       "</div>\n"
      ],
      "text/plain": [
       "<IPython.core.display.HTML object>"
      ]
     },
     "metadata": {},
     "output_type": "display_data"
    },
    {
     "data": {
      "text/html": [
       "<div style=\"background: #96ceb4; text-align: center\">part2</div>"
      ],
      "text/plain": [
       "<IPython.core.display.HTML object>"
      ]
     },
     "metadata": {},
     "output_type": "display_data"
    },
    {
     "data": {
      "text/html": [
       "<div style=\"background: #ffeead; text-align: center\">conj</div>"
      ],
      "text/plain": [
       "<IPython.core.display.HTML object>"
      ]
     },
     "metadata": {},
     "output_type": "display_data"
    },
    {
     "data": {
      "text/html": [
       "<div style=\"background: #ffcc5c; text-align: center\">part1</div>"
      ],
      "text/plain": [
       "<IPython.core.display.HTML object>"
      ]
     },
     "metadata": {},
     "output_type": "display_data"
    },
    {
     "name": "stdout",
     "output_type": "stream",
     "text": [
      "{   '__cx__': 'coord',\n",
      "    'conj': {'__cx__': 'conj', 'head': 335251},\n",
      "    'part1': {'__cx__': 'cont', 'head': 335250},\n",
      "    'part2': {'__cx__': 'cont', 'head': 335252}}\n",
      "\n"
     ]
    },
    {
     "data": {
      "text/html": [
       "<hr>"
      ],
      "text/plain": [
       "<IPython.core.display.HTML object>"
      ]
     },
     "metadata": {},
     "output_type": "display_data"
    },
    {
     "data": {
      "text/html": [
       "<p><b>result</b> <i>1449955 -> CX coord {335261, 335262, 335263}</i></p>"
      ],
      "text/plain": [
       "<IPython.core.display.HTML object>"
      ]
     },
     "metadata": {},
     "output_type": "display_data"
    },
    {
     "data": {
      "text/html": [
       "<a href=\"https://shebanq.ancient-data.org/hebrew/text?book=Psalmi&amp;chapter=145&amp;verse=2&amp;version=c&amp;mr=m&amp;qw=q&amp;tp=txt_p&amp;tr=hb&amp;wget=v&amp;qget=v&amp;nget=vt\" title=\"show this passage in SHEBANQ\" sec=\"Psalms 145:2\">Psalms 145:2</a>\n",
       "<div class=\"atoms  \" >\n",
       "<a href=\"#\" class=\"nd\">852574</a>\n",
       "\n",
       "\n",
       "\n",
       "<div class=\"patom  \" >\n",
       "\n",
       "    <div class=\"phrase \" >\n",
       "        <a href=\"https://shebanq.ancient-data.org/hebrew/text?book=Psalmi&amp;chapter=145&amp;verse=2&amp;version=c&amp;mr=m&amp;qw=q&amp;tp=txt_p&amp;tr=hb&amp;wget=v&amp;qget=v&amp;nget=vt\" title=\"Psalms 145:2\" sec=\"Psalms 145:2\">phrase</a> <a href=\"#\" class=\"nd\">852574</a>  <span class=\"function\">Time</span> <span class=\"typ\">PP</span>\n",
       "    </div>\n",
       "    <div class=\"atoms\">\n",
       "\n",
       "<div class=\"word  \" >\n",
       "<a href=\"#\" class=\"nd\">335260</a>\n",
       "<div class=\"h\"><a target=\"_blank\" href=\"https://shebanq.ancient-data.org/hebrew/word?version=c&amp;id=1L\" title=\"show this lexeme in SHEBANQ\">לְ</a></div>\n",
       "<div class=\"features\"> <span class=\"pdp\"><a href=\"https://shebanq.ancient-data.org/hebrew/text?book=Psalmi&amp;chapter=145&amp;verse=2&amp;version=c&amp;mr=m&amp;qw=q&amp;tp=txt_p&amp;tr=hb&amp;wget=v&amp;qget=v&amp;nget=vt\" title=\"Psalms 145:2\" sec=\"Psalms 145:2\">prep</a></span> <span class=\"gloss\">to</span> <span class=\"lex xft\"><span class=\"f\">lex=</span>L</span></div>\n",
       "\n",
       "\n",
       "</div>\n",
       "\n",
       "<div class=\"word  hl\"  style=\"background-color: #ffcc5c;\" >\n",
       "<a href=\"#\" class=\"nd\">335261</a>\n",
       "<div class=\"h\"><a target=\"_blank\" href=\"https://shebanq.ancient-data.org/hebrew/word?version=c&amp;id=1OWLMn\" title=\"show this lexeme in SHEBANQ\">עֹולָ֥ם </a></div>\n",
       "<div class=\"features\"> <span class=\"pdp\"><a href=\"https://shebanq.ancient-data.org/hebrew/text?book=Psalmi&amp;chapter=145&amp;verse=2&amp;version=c&amp;mr=m&amp;qw=q&amp;tp=txt_p&amp;tr=hb&amp;wget=v&amp;qget=v&amp;nget=vt\" title=\"Psalms 145:2\" sec=\"Psalms 145:2\">subs</a></span> <span class=\"gloss\">eternity</span> <span class=\"lex xft\"><span class=\"f\">lex=</span>&lt;WLM/</span></div>\n",
       "\n",
       "\n",
       "</div>\n",
       "\n",
       "<div class=\"word  hl\"  style=\"background-color: #ffeead;\" >\n",
       "<a href=\"#\" class=\"nd\">335262</a>\n",
       "<div class=\"h\"><a target=\"_blank\" href=\"https://shebanq.ancient-data.org/hebrew/word?version=c&amp;id=1W\" title=\"show this lexeme in SHEBANQ\">וָ</a></div>\n",
       "<div class=\"features\"> <span class=\"pdp\"><a href=\"https://shebanq.ancient-data.org/hebrew/text?book=Psalmi&amp;chapter=145&amp;verse=2&amp;version=c&amp;mr=m&amp;qw=q&amp;tp=txt_p&amp;tr=hb&amp;wget=v&amp;qget=v&amp;nget=vt\" title=\"Psalms 145:2\" sec=\"Psalms 145:2\">conj</a></span> <span class=\"gloss\">and</span> <span class=\"lex xft\"><span class=\"f\">lex=</span>W</span></div>\n",
       "\n",
       "\n",
       "</div>\n",
       "\n",
       "<div class=\"word  hl\"  style=\"background-color: #96ceb4;\" >\n",
       "<a href=\"#\" class=\"nd\">335263</a>\n",
       "<div class=\"h\"><a target=\"_blank\" href=\"https://shebanq.ancient-data.org/hebrew/word?version=c&amp;id=1ODn\" title=\"show this lexeme in SHEBANQ\">עֶֽד׃ </a></div>\n",
       "<div class=\"features\"> <span class=\"pdp\"><a href=\"https://shebanq.ancient-data.org/hebrew/text?book=Psalmi&amp;chapter=145&amp;verse=2&amp;version=c&amp;mr=m&amp;qw=q&amp;tp=txt_p&amp;tr=hb&amp;wget=v&amp;qget=v&amp;nget=vt\" title=\"Psalms 145:2\" sec=\"Psalms 145:2\">subs</a></span> <span class=\"gloss\">future</span> <span class=\"lex xft\"><span class=\"f\">lex=</span>&lt;D/</span></div>\n",
       "\n",
       "\n",
       "</div>\n",
       "\n",
       "\n",
       "    </div>\n",
       "\n",
       "\n",
       "</div>\n",
       "\n",
       "\n",
       "</div>\n"
      ],
      "text/plain": [
       "<IPython.core.display.HTML object>"
      ]
     },
     "metadata": {},
     "output_type": "display_data"
    },
    {
     "data": {
      "text/html": [
       "<div style=\"background: #96ceb4; text-align: center\">part2</div>"
      ],
      "text/plain": [
       "<IPython.core.display.HTML object>"
      ]
     },
     "metadata": {},
     "output_type": "display_data"
    },
    {
     "data": {
      "text/html": [
       "<div style=\"background: #ffeead; text-align: center\">conj</div>"
      ],
      "text/plain": [
       "<IPython.core.display.HTML object>"
      ]
     },
     "metadata": {},
     "output_type": "display_data"
    },
    {
     "data": {
      "text/html": [
       "<div style=\"background: #ffcc5c; text-align: center\">part1</div>"
      ],
      "text/plain": [
       "<IPython.core.display.HTML object>"
      ]
     },
     "metadata": {},
     "output_type": "display_data"
    },
    {
     "name": "stdout",
     "output_type": "stream",
     "text": [
      "{   '__cx__': 'coord',\n",
      "    'conj': {'__cx__': 'conj', 'head': 335262},\n",
      "    'part1': {'__cx__': 'cont', 'head': 335261},\n",
      "    'part2': {'__cx__': 'cont', 'head': 335263}}\n",
      "\n"
     ]
    },
    {
     "data": {
      "text/html": [
       "<hr>"
      ],
      "text/plain": [
       "<IPython.core.display.HTML object>"
      ]
     },
     "metadata": {},
     "output_type": "display_data"
    },
    {
     "data": {
      "text/html": [
       "<p><b>result</b> <i>1449957 -> CX coord {335442, 335443, 335444}</i></p>"
      ],
      "text/plain": [
       "<IPython.core.display.HTML object>"
      ]
     },
     "metadata": {},
     "output_type": "display_data"
    },
    {
     "data": {
      "text/html": [
       "<a href=\"https://shebanq.ancient-data.org/hebrew/text?book=Psalmi&amp;chapter=145&amp;verse=21&amp;version=c&amp;mr=m&amp;qw=q&amp;tp=txt_p&amp;tr=hb&amp;wget=v&amp;qget=v&amp;nget=vt\" title=\"show this passage in SHEBANQ\" sec=\"Psalms 145:21\">Psalms 145:21</a>\n",
       "<div class=\"atoms  \" >\n",
       "<a href=\"#\" class=\"nd\">852691</a>\n",
       "\n",
       "\n",
       "\n",
       "<div class=\"patom  \" >\n",
       "\n",
       "    <div class=\"phrase \" >\n",
       "        <a href=\"https://shebanq.ancient-data.org/hebrew/text?book=Psalmi&amp;chapter=145&amp;verse=21&amp;version=c&amp;mr=m&amp;qw=q&amp;tp=txt_p&amp;tr=hb&amp;wget=v&amp;qget=v&amp;nget=vt\" title=\"Psalms 145:21\" sec=\"Psalms 145:21\">phrase</a> <a href=\"#\" class=\"nd\">852691</a>  <span class=\"function\">Time</span> <span class=\"typ\">PP</span>\n",
       "    </div>\n",
       "    <div class=\"atoms\">\n",
       "\n",
       "<div class=\"word  \" >\n",
       "<a href=\"#\" class=\"nd\">335441</a>\n",
       "<div class=\"h\"><a target=\"_blank\" href=\"https://shebanq.ancient-data.org/hebrew/word?version=c&amp;id=1L\" title=\"show this lexeme in SHEBANQ\">לְ</a></div>\n",
       "<div class=\"features\"> <span class=\"pdp\"><a href=\"https://shebanq.ancient-data.org/hebrew/text?book=Psalmi&amp;chapter=145&amp;verse=21&amp;version=c&amp;mr=m&amp;qw=q&amp;tp=txt_p&amp;tr=hb&amp;wget=v&amp;qget=v&amp;nget=vt\" title=\"Psalms 145:21\" sec=\"Psalms 145:21\">prep</a></span> <span class=\"gloss\">to</span> <span class=\"lex xft\"><span class=\"f\">lex=</span>L</span></div>\n",
       "\n",
       "\n",
       "</div>\n",
       "\n",
       "<div class=\"word  hl\"  style=\"background-color: #ffcc5c;\" >\n",
       "<a href=\"#\" class=\"nd\">335442</a>\n",
       "<div class=\"h\"><a target=\"_blank\" href=\"https://shebanq.ancient-data.org/hebrew/word?version=c&amp;id=1OWLMn\" title=\"show this lexeme in SHEBANQ\">עֹולָ֥ם </a></div>\n",
       "<div class=\"features\"> <span class=\"pdp\"><a href=\"https://shebanq.ancient-data.org/hebrew/text?book=Psalmi&amp;chapter=145&amp;verse=21&amp;version=c&amp;mr=m&amp;qw=q&amp;tp=txt_p&amp;tr=hb&amp;wget=v&amp;qget=v&amp;nget=vt\" title=\"Psalms 145:21\" sec=\"Psalms 145:21\">subs</a></span> <span class=\"gloss\">eternity</span> <span class=\"lex xft\"><span class=\"f\">lex=</span>&lt;WLM/</span></div>\n",
       "\n",
       "\n",
       "</div>\n",
       "\n",
       "<div class=\"word  hl\"  style=\"background-color: #ffeead;\" >\n",
       "<a href=\"#\" class=\"nd\">335443</a>\n",
       "<div class=\"h\"><a target=\"_blank\" href=\"https://shebanq.ancient-data.org/hebrew/word?version=c&amp;id=1W\" title=\"show this lexeme in SHEBANQ\">וָ</a></div>\n",
       "<div class=\"features\"> <span class=\"pdp\"><a href=\"https://shebanq.ancient-data.org/hebrew/text?book=Psalmi&amp;chapter=145&amp;verse=21&amp;version=c&amp;mr=m&amp;qw=q&amp;tp=txt_p&amp;tr=hb&amp;wget=v&amp;qget=v&amp;nget=vt\" title=\"Psalms 145:21\" sec=\"Psalms 145:21\">conj</a></span> <span class=\"gloss\">and</span> <span class=\"lex xft\"><span class=\"f\">lex=</span>W</span></div>\n",
       "\n",
       "\n",
       "</div>\n",
       "\n",
       "<div class=\"word  hl\"  style=\"background-color: #96ceb4;\" >\n",
       "<a href=\"#\" class=\"nd\">335444</a>\n",
       "<div class=\"h\"><a target=\"_blank\" href=\"https://shebanq.ancient-data.org/hebrew/word?version=c&amp;id=1ODn\" title=\"show this lexeme in SHEBANQ\">עֶֽד׃ </a></div>\n",
       "<div class=\"features\"> <span class=\"pdp\"><a href=\"https://shebanq.ancient-data.org/hebrew/text?book=Psalmi&amp;chapter=145&amp;verse=21&amp;version=c&amp;mr=m&amp;qw=q&amp;tp=txt_p&amp;tr=hb&amp;wget=v&amp;qget=v&amp;nget=vt\" title=\"Psalms 145:21\" sec=\"Psalms 145:21\">subs</a></span> <span class=\"gloss\">future</span> <span class=\"lex xft\"><span class=\"f\">lex=</span>&lt;D/</span></div>\n",
       "\n",
       "\n",
       "</div>\n",
       "\n",
       "\n",
       "    </div>\n",
       "\n",
       "\n",
       "</div>\n",
       "\n",
       "\n",
       "</div>\n"
      ],
      "text/plain": [
       "<IPython.core.display.HTML object>"
      ]
     },
     "metadata": {},
     "output_type": "display_data"
    },
    {
     "data": {
      "text/html": [
       "<div style=\"background: #96ceb4; text-align: center\">part2</div>"
      ],
      "text/plain": [
       "<IPython.core.display.HTML object>"
      ]
     },
     "metadata": {},
     "output_type": "display_data"
    },
    {
     "data": {
      "text/html": [
       "<div style=\"background: #ffeead; text-align: center\">conj</div>"
      ],
      "text/plain": [
       "<IPython.core.display.HTML object>"
      ]
     },
     "metadata": {},
     "output_type": "display_data"
    },
    {
     "data": {
      "text/html": [
       "<div style=\"background: #ffcc5c; text-align: center\">part1</div>"
      ],
      "text/plain": [
       "<IPython.core.display.HTML object>"
      ]
     },
     "metadata": {},
     "output_type": "display_data"
    },
    {
     "name": "stdout",
     "output_type": "stream",
     "text": [
      "{   '__cx__': 'coord',\n",
      "    'conj': {'__cx__': 'conj', 'head': 335443},\n",
      "    'part1': {'__cx__': 'cont', 'head': 335442},\n",
      "    'part2': {'__cx__': 'cont', 'head': 335444}}\n",
      "\n"
     ]
    },
    {
     "data": {
      "text/html": [
       "<hr>"
      ],
      "text/plain": [
       "<IPython.core.display.HTML object>"
      ]
     },
     "metadata": {},
     "output_type": "display_data"
    },
    {
     "data": {
      "text/html": [
       "<p><b>result</b> <i>1450039 -> CX coord {348667, 348668, 348663}</i></p>"
      ],
      "text/plain": [
       "<IPython.core.display.HTML object>"
      ]
     },
     "metadata": {},
     "output_type": "display_data"
    },
    {
     "data": {
      "text/html": [
       "<a href=\"https://shebanq.ancient-data.org/hebrew/text?book=Proverbia&amp;chapter=7&amp;verse=9&amp;version=c&amp;mr=m&amp;qw=q&amp;tp=txt_p&amp;tr=hb&amp;wget=v&amp;qget=v&amp;nget=vt\" title=\"show this passage in SHEBANQ\" sec=\"Proverbs 7:9\">Proverbs 7:9</a>\n",
       "<div class=\"atoms  \" >\n",
       "<a href=\"#\" class=\"nd\">862564</a>\n",
       "\n",
       "\n",
       "\n",
       "<div class=\"patom  l \" >\n",
       "\n",
       "    <div class=\"phrase \" >\n",
       "        <a href=\"https://shebanq.ancient-data.org/hebrew/text?book=Proverbia&amp;chapter=7&amp;verse=9&amp;version=c&amp;mr=m&amp;qw=q&amp;tp=txt_p&amp;tr=hb&amp;wget=v&amp;qget=v&amp;nget=vt\" title=\"Proverbs 7:9\" sec=\"Proverbs 7:9\">phrase</a> <a href=\"#\" class=\"nd\">862564</a>  <span class=\"function\">Time</span> <span class=\"typ\">PP</span>\n",
       "    </div>\n",
       "    <div class=\"atoms\">\n",
       "\n",
       "<div class=\"word  \" >\n",
       "<a href=\"#\" class=\"nd\">348659</a>\n",
       "<div class=\"h\"><a target=\"_blank\" href=\"https://shebanq.ancient-data.org/hebrew/word?version=c&amp;id=1B\" title=\"show this lexeme in SHEBANQ\">בְּ</a></div>\n",
       "<div class=\"features\"> <span class=\"pdp\"><a href=\"https://shebanq.ancient-data.org/hebrew/text?book=Proverbia&amp;chapter=7&amp;verse=9&amp;version=c&amp;mr=m&amp;qw=q&amp;tp=txt_p&amp;tr=hb&amp;wget=v&amp;qget=v&amp;nget=vt\" title=\"Proverbs 7:9\" sec=\"Proverbs 7:9\">prep</a></span> <span class=\"gloss\">in</span> <span class=\"lex xft\"><span class=\"f\">lex=</span>B</span></div>\n",
       "\n",
       "\n",
       "</div>\n",
       "\n",
       "<div class=\"word  \" >\n",
       "<a href=\"#\" class=\"nd\">348660</a>\n",
       "<div class=\"h\"><a target=\"_blank\" href=\"https://shebanq.ancient-data.org/hebrew/word?version=c&amp;id=1NCPn\" title=\"show this lexeme in SHEBANQ\">נֶֽשֶׁף־</a></div>\n",
       "<div class=\"features\"> <span class=\"pdp\"><a href=\"https://shebanq.ancient-data.org/hebrew/text?book=Proverbia&amp;chapter=7&amp;verse=9&amp;version=c&amp;mr=m&amp;qw=q&amp;tp=txt_p&amp;tr=hb&amp;wget=v&amp;qget=v&amp;nget=vt\" title=\"Proverbs 7:9\" sec=\"Proverbs 7:9\">subs</a></span> <span class=\"gloss\">breeze</span> <span class=\"lex xft\"><span class=\"f\">lex=</span>NCP/</span></div>\n",
       "\n",
       "\n",
       "</div>\n",
       "\n",
       "\n",
       "    </div>\n",
       "\n",
       "\n",
       "</div>\n",
       "\n",
       "<div class=\"patom  r l \" >\n",
       "\n",
       "    <div class=\"phrase \" >\n",
       "        <a href=\"https://shebanq.ancient-data.org/hebrew/text?book=Proverbia&amp;chapter=7&amp;verse=9&amp;version=c&amp;mr=m&amp;qw=q&amp;tp=txt_p&amp;tr=hb&amp;wget=v&amp;qget=v&amp;nget=vt\" title=\"Proverbs 7:9\" sec=\"Proverbs 7:9\">phrase</a> <a href=\"#\" class=\"nd\">862564</a>  <span class=\"function\">Time</span> <span class=\"typ\">PP</span>\n",
       "    </div>\n",
       "    <div class=\"atoms\">\n",
       "\n",
       "<div class=\"word  \" >\n",
       "<a href=\"#\" class=\"nd\">348661</a>\n",
       "<div class=\"h\"><a target=\"_blank\" href=\"https://shebanq.ancient-data.org/hebrew/word?version=c&amp;id=1B\" title=\"show this lexeme in SHEBANQ\">בְּ</a></div>\n",
       "<div class=\"features\"> <span class=\"pdp\"><a href=\"https://shebanq.ancient-data.org/hebrew/text?book=Proverbia&amp;chapter=7&amp;verse=9&amp;version=c&amp;mr=m&amp;qw=q&amp;tp=txt_p&amp;tr=hb&amp;wget=v&amp;qget=v&amp;nget=vt\" title=\"Proverbs 7:9\" sec=\"Proverbs 7:9\">prep</a></span> <span class=\"gloss\">in</span> <span class=\"lex xft\"><span class=\"f\">lex=</span>B</span></div>\n",
       "\n",
       "\n",
       "</div>\n",
       "\n",
       "<div class=\"word  \" >\n",
       "<a href=\"#\" class=\"nd\">348662</a>\n",
       "<div class=\"h\"><a target=\"_blank\" href=\"https://shebanq.ancient-data.org/hebrew/word?version=c&amp;id=1ORBn\" title=\"show this lexeme in SHEBANQ\">עֶ֥רֶב </a></div>\n",
       "<div class=\"features\"> <span class=\"pdp\"><a href=\"https://shebanq.ancient-data.org/hebrew/text?book=Proverbia&amp;chapter=7&amp;verse=9&amp;version=c&amp;mr=m&amp;qw=q&amp;tp=txt_p&amp;tr=hb&amp;wget=v&amp;qget=v&amp;nget=vt\" title=\"Proverbs 7:9\" sec=\"Proverbs 7:9\">subs</a></span> <span class=\"gloss\">evening</span> <span class=\"lex xft\"><span class=\"f\">lex=</span>&lt;RB/</span></div>\n",
       "\n",
       "\n",
       "</div>\n",
       "\n",
       "<div class=\"word  hl\"  style=\"background-color: #ffcc5c;\" >\n",
       "<a href=\"#\" class=\"nd\">348663</a>\n",
       "<div class=\"h\"><a target=\"_blank\" href=\"https://shebanq.ancient-data.org/hebrew/word?version=c&amp;id=1JWMn\" title=\"show this lexeme in SHEBANQ\">יֹ֑ום </a></div>\n",
       "<div class=\"features\"> <span class=\"pdp\"><a href=\"https://shebanq.ancient-data.org/hebrew/text?book=Proverbia&amp;chapter=7&amp;verse=9&amp;version=c&amp;mr=m&amp;qw=q&amp;tp=txt_p&amp;tr=hb&amp;wget=v&amp;qget=v&amp;nget=vt\" title=\"Proverbs 7:9\" sec=\"Proverbs 7:9\">subs</a></span> <span class=\"gloss\">day</span> <span class=\"lex xft\"><span class=\"f\">lex=</span>JWM/</span></div>\n",
       "\n",
       "\n",
       "</div>\n",
       "\n",
       "\n",
       "    </div>\n",
       "\n",
       "\n",
       "</div>\n",
       "\n",
       "<div class=\"patom  r \" >\n",
       "\n",
       "    <div class=\"phrase \" >\n",
       "        <a href=\"https://shebanq.ancient-data.org/hebrew/text?book=Proverbia&amp;chapter=7&amp;verse=9&amp;version=c&amp;mr=m&amp;qw=q&amp;tp=txt_p&amp;tr=hb&amp;wget=v&amp;qget=v&amp;nget=vt\" title=\"Proverbs 7:9\" sec=\"Proverbs 7:9\">phrase</a> <a href=\"#\" class=\"nd\">862564</a>  <span class=\"function\">Time</span> <span class=\"typ\">PP</span>\n",
       "    </div>\n",
       "    <div class=\"atoms\">\n",
       "\n",
       "<div class=\"word  \" >\n",
       "<a href=\"#\" class=\"nd\">348664</a>\n",
       "<div class=\"h\"><a target=\"_blank\" href=\"https://shebanq.ancient-data.org/hebrew/word?version=c&amp;id=1B\" title=\"show this lexeme in SHEBANQ\">בְּ</a></div>\n",
       "<div class=\"features\"> <span class=\"pdp\"><a href=\"https://shebanq.ancient-data.org/hebrew/text?book=Proverbia&amp;chapter=7&amp;verse=9&amp;version=c&amp;mr=m&amp;qw=q&amp;tp=txt_p&amp;tr=hb&amp;wget=v&amp;qget=v&amp;nget=vt\" title=\"Proverbs 7:9\" sec=\"Proverbs 7:9\">prep</a></span> <span class=\"gloss\">in</span> <span class=\"lex xft\"><span class=\"f\">lex=</span>B</span></div>\n",
       "\n",
       "\n",
       "</div>\n",
       "\n",
       "<div class=\"word  \" >\n",
       "<a href=\"#\" class=\"nd\">348665</a>\n",
       "<div class=\"h\"><a target=\"_blank\" href=\"https://shebanq.ancient-data.org/hebrew/word?version=c&amp;id=1AJCWNn\" title=\"show this lexeme in SHEBANQ\">אִישֹׁ֥ון </a></div>\n",
       "<div class=\"features\"> <span class=\"pdp\"><a href=\"https://shebanq.ancient-data.org/hebrew/text?book=Proverbia&amp;chapter=7&amp;verse=9&amp;version=c&amp;mr=m&amp;qw=q&amp;tp=txt_p&amp;tr=hb&amp;wget=v&amp;qget=v&amp;nget=vt\" title=\"Proverbs 7:9\" sec=\"Proverbs 7:9\">subs</a></span> <span class=\"gloss\">pupil of eye</span> <span class=\"lex xft\"><span class=\"f\">lex=</span>>JCWN/</span></div>\n",
       "\n",
       "\n",
       "</div>\n",
       "\n",
       "<div class=\"word  \" >\n",
       "<a href=\"#\" class=\"nd\">348666</a>\n",
       "<div class=\"h\"><a target=\"_blank\" href=\"https://shebanq.ancient-data.org/hebrew/word?version=c&amp;id=1LJLHn\" title=\"show this lexeme in SHEBANQ\">לַ֝֗יְלָה </a></div>\n",
       "<div class=\"features\"> <span class=\"pdp\"><a href=\"https://shebanq.ancient-data.org/hebrew/text?book=Proverbia&amp;chapter=7&amp;verse=9&amp;version=c&amp;mr=m&amp;qw=q&amp;tp=txt_p&amp;tr=hb&amp;wget=v&amp;qget=v&amp;nget=vt\" title=\"Proverbs 7:9\" sec=\"Proverbs 7:9\">subs</a></span> <span class=\"gloss\">night</span> <span class=\"lex xft\"><span class=\"f\">lex=</span>LJLH/</span></div>\n",
       "\n",
       "\n",
       "</div>\n",
       "\n",
       "<div class=\"word  hl\"  style=\"background-color: #ffeead;\" >\n",
       "<a href=\"#\" class=\"nd\">348667</a>\n",
       "<div class=\"h\"><a target=\"_blank\" href=\"https://shebanq.ancient-data.org/hebrew/word?version=c&amp;id=1W\" title=\"show this lexeme in SHEBANQ\">וַ</a></div>\n",
       "<div class=\"features\"> <span class=\"pdp\"><a href=\"https://shebanq.ancient-data.org/hebrew/text?book=Proverbia&amp;chapter=7&amp;verse=9&amp;version=c&amp;mr=m&amp;qw=q&amp;tp=txt_p&amp;tr=hb&amp;wget=v&amp;qget=v&amp;nget=vt\" title=\"Proverbs 7:9\" sec=\"Proverbs 7:9\">conj</a></span> <span class=\"gloss\">and</span> <span class=\"lex xft\"><span class=\"f\">lex=</span>W</span></div>\n",
       "\n",
       "\n",
       "</div>\n",
       "\n",
       "<div class=\"word  hl\"  style=\"background-color: #96ceb4;\" >\n",
       "<a href=\"#\" class=\"nd\">348668</a>\n",
       "<div class=\"h\"><a target=\"_blank\" href=\"https://shebanq.ancient-data.org/hebrew/word?version=c&amp;id=1APLHn\" title=\"show this lexeme in SHEBANQ\">אֲפֵלָֽה׃ </a></div>\n",
       "<div class=\"features\"> <span class=\"pdp\"><a href=\"https://shebanq.ancient-data.org/hebrew/text?book=Proverbia&amp;chapter=7&amp;verse=9&amp;version=c&amp;mr=m&amp;qw=q&amp;tp=txt_p&amp;tr=hb&amp;wget=v&amp;qget=v&amp;nget=vt\" title=\"Proverbs 7:9\" sec=\"Proverbs 7:9\">subs</a></span> <span class=\"gloss\">darkness</span> <span class=\"lex xft\"><span class=\"f\">lex=</span>>PLH/</span></div>\n",
       "\n",
       "\n",
       "</div>\n",
       "\n",
       "\n",
       "    </div>\n",
       "\n",
       "\n",
       "</div>\n",
       "\n",
       "\n",
       "</div>\n"
      ],
      "text/plain": [
       "<IPython.core.display.HTML object>"
      ]
     },
     "metadata": {},
     "output_type": "display_data"
    },
    {
     "data": {
      "text/html": [
       "<div style=\"background: #96ceb4; text-align: center\">part2</div>"
      ],
      "text/plain": [
       "<IPython.core.display.HTML object>"
      ]
     },
     "metadata": {},
     "output_type": "display_data"
    },
    {
     "data": {
      "text/html": [
       "<div style=\"background: #ffeead; text-align: center\">conj</div>"
      ],
      "text/plain": [
       "<IPython.core.display.HTML object>"
      ]
     },
     "metadata": {},
     "output_type": "display_data"
    },
    {
     "data": {
      "text/html": [
       "<div style=\"background: #ffcc5c; text-align: center\">part1</div>"
      ],
      "text/plain": [
       "<IPython.core.display.HTML object>"
      ]
     },
     "metadata": {},
     "output_type": "display_data"
    },
    {
     "name": "stdout",
     "output_type": "stream",
     "text": [
      "{   '__cx__': 'coord',\n",
      "    'conj': {'__cx__': 'conj', 'head': 348667},\n",
      "    'part1': {'__cx__': 'cont', 'head': 348663},\n",
      "    'part2': {'__cx__': 'cont', 'head': 348668}}\n",
      "\n"
     ]
    },
    {
     "data": {
      "text/html": [
       "<hr>"
      ],
      "text/plain": [
       "<IPython.core.display.HTML object>"
      ]
     },
     "metadata": {},
     "output_type": "display_data"
    },
    {
     "data": {
      "text/html": [
       "<p><b>result</b> <i>1450075 -> CX coord {356365, 356366, 356369, 356370, 356371}</i></p>"
      ],
      "text/plain": [
       "<IPython.core.display.HTML object>"
      ]
     },
     "metadata": {},
     "output_type": "display_data"
    },
    {
     "data": {
      "text/html": [
       "<a href=\"https://shebanq.ancient-data.org/hebrew/text?book=Ruth&amp;chapter=2&amp;verse=7&amp;version=c&amp;mr=m&amp;qw=q&amp;tp=txt_p&amp;tr=hb&amp;wget=v&amp;qget=v&amp;nget=vt\" title=\"show this passage in SHEBANQ\" sec=\"Ruth 2:7\">Ruth 2:7</a>\n",
       "<div class=\"atoms  \" >\n",
       "<a href=\"#\" class=\"nd\">867934</a>\n",
       "\n",
       "\n",
       "\n",
       "<div class=\"patom  l \" >\n",
       "\n",
       "    <div class=\"phrase \" >\n",
       "        <a href=\"https://shebanq.ancient-data.org/hebrew/text?book=Ruth&amp;chapter=2&amp;verse=7&amp;version=c&amp;mr=m&amp;qw=q&amp;tp=txt_p&amp;tr=hb&amp;wget=v&amp;qget=v&amp;nget=vt\" title=\"Ruth 2:7\" sec=\"Ruth 2:7\">phrase</a> <a href=\"#\" class=\"nd\">867934</a>  <span class=\"function\">Time</span> <span class=\"typ\">PP</span>\n",
       "    </div>\n",
       "    <div class=\"atoms\">\n",
       "\n",
       "<div class=\"word  hl\"  style=\"background-color: #ffcc5c;\" >\n",
       "<a href=\"#\" class=\"nd\">356365</a>\n",
       "<div class=\"h\"><a target=\"_blank\" href=\"https://shebanq.ancient-data.org/hebrew/word?version=c&amp;id=1MN\" title=\"show this lexeme in SHEBANQ\">מֵ</a></div>\n",
       "<div class=\"features\"> <span class=\"pdp\"><a href=\"https://shebanq.ancient-data.org/hebrew/text?book=Ruth&amp;chapter=2&amp;verse=7&amp;version=c&amp;mr=m&amp;qw=q&amp;tp=txt_p&amp;tr=hb&amp;wget=v&amp;qget=v&amp;nget=vt\" title=\"Ruth 2:7\" sec=\"Ruth 2:7\">prep</a></span> <span class=\"gloss\">from</span> <span class=\"lex xft\"><span class=\"f\">lex=</span>MN</span></div>\n",
       "\n",
       "\n",
       "</div>\n",
       "\n",
       "<div class=\"word  hl\"  style=\"background-color: #ffcc5c;\" >\n",
       "<a href=\"#\" class=\"nd\">356366</a>\n",
       "<div class=\"h\"><a target=\"_blank\" href=\"https://shebanq.ancient-data.org/hebrew/word?version=c&amp;id=1AZ\" title=\"show this lexeme in SHEBANQ\">אָ֤ז </a></div>\n",
       "<div class=\"features\"> <span class=\"pdp\"><a href=\"https://shebanq.ancient-data.org/hebrew/text?book=Ruth&amp;chapter=2&amp;verse=7&amp;version=c&amp;mr=m&amp;qw=q&amp;tp=txt_p&amp;tr=hb&amp;wget=v&amp;qget=v&amp;nget=vt\" title=\"Ruth 2:7\" sec=\"Ruth 2:7\">advb</a></span> <span class=\"gloss\">then</span> <span class=\"lex xft\"><span class=\"f\">lex=</span>>Z</span></div>\n",
       "\n",
       "\n",
       "</div>\n",
       "\n",
       "<div class=\"word  \" >\n",
       "<a href=\"#\" class=\"nd\">356367</a>\n",
       "<div class=\"h\"><a target=\"_blank\" href=\"https://shebanq.ancient-data.org/hebrew/word?version=c&amp;id=1H\" title=\"show this lexeme in SHEBANQ\">הַ</a></div>\n",
       "<div class=\"features\"> <span class=\"pdp\"><a href=\"https://shebanq.ancient-data.org/hebrew/text?book=Ruth&amp;chapter=2&amp;verse=7&amp;version=c&amp;mr=m&amp;qw=q&amp;tp=txt_p&amp;tr=hb&amp;wget=v&amp;qget=v&amp;nget=vt\" title=\"Ruth 2:7\" sec=\"Ruth 2:7\">art</a></span> <span class=\"gloss\">the</span> <span class=\"lex xft\"><span class=\"f\">lex=</span>H</span></div>\n",
       "\n",
       "\n",
       "</div>\n",
       "\n",
       "<div class=\"word  \" >\n",
       "<a href=\"#\" class=\"nd\">356368</a>\n",
       "<div class=\"h\"><a target=\"_blank\" href=\"https://shebanq.ancient-data.org/hebrew/word?version=c&amp;id=1BQRin\" title=\"show this lexeme in SHEBANQ\">בֹּ֨קֶר֙ </a></div>\n",
       "<div class=\"features\"> <span class=\"pdp\"><a href=\"https://shebanq.ancient-data.org/hebrew/text?book=Ruth&amp;chapter=2&amp;verse=7&amp;version=c&amp;mr=m&amp;qw=q&amp;tp=txt_p&amp;tr=hb&amp;wget=v&amp;qget=v&amp;nget=vt\" title=\"Ruth 2:7\" sec=\"Ruth 2:7\">subs</a></span> <span class=\"gloss\">morning</span> <span class=\"lex xft\"><span class=\"f\">lex=</span>BQR=/</span></div>\n",
       "\n",
       "\n",
       "</div>\n",
       "\n",
       "\n",
       "    </div>\n",
       "\n",
       "\n",
       "</div>\n",
       "\n",
       "<div class=\"patom  r l \" >\n",
       "\n",
       "    <div class=\"phrase \" >\n",
       "        <a href=\"https://shebanq.ancient-data.org/hebrew/text?book=Ruth&amp;chapter=2&amp;verse=7&amp;version=c&amp;mr=m&amp;qw=q&amp;tp=txt_p&amp;tr=hb&amp;wget=v&amp;qget=v&amp;nget=vt\" title=\"Ruth 2:7\" sec=\"Ruth 2:7\">phrase</a> <a href=\"#\" class=\"nd\">867934</a>  <span class=\"function\">Time</span> <span class=\"typ\">PP|CP</span>\n",
       "    </div>\n",
       "    <div class=\"atoms\">\n",
       "\n",
       "<div class=\"word  hl\"  style=\"background-color: #ffeead;\" >\n",
       "<a href=\"#\" class=\"nd\">356369</a>\n",
       "<div class=\"h\"><a target=\"_blank\" href=\"https://shebanq.ancient-data.org/hebrew/word?version=c&amp;id=1W\" title=\"show this lexeme in SHEBANQ\">וְ</a></div>\n",
       "<div class=\"features\"> <span class=\"pdp\"><a href=\"https://shebanq.ancient-data.org/hebrew/text?book=Ruth&amp;chapter=2&amp;verse=7&amp;version=c&amp;mr=m&amp;qw=q&amp;tp=txt_p&amp;tr=hb&amp;wget=v&amp;qget=v&amp;nget=vt\" title=\"Ruth 2:7\" sec=\"Ruth 2:7\">conj</a></span> <span class=\"gloss\">and</span> <span class=\"lex xft\"><span class=\"f\">lex=</span>W</span></div>\n",
       "\n",
       "\n",
       "</div>\n",
       "\n",
       "\n",
       "    </div>\n",
       "\n",
       "\n",
       "</div>\n",
       "\n",
       "<div class=\"patom  r \" >\n",
       "\n",
       "    <div class=\"phrase \" >\n",
       "        <a href=\"https://shebanq.ancient-data.org/hebrew/text?book=Ruth&amp;chapter=2&amp;verse=7&amp;version=c&amp;mr=m&amp;qw=q&amp;tp=txt_p&amp;tr=hb&amp;wget=v&amp;qget=v&amp;nget=vt\" title=\"Ruth 2:7\" sec=\"Ruth 2:7\">phrase</a> <a href=\"#\" class=\"nd\">867934</a>  <span class=\"function\">Time</span> <span class=\"typ\">PP</span>\n",
       "    </div>\n",
       "    <div class=\"atoms\">\n",
       "\n",
       "<div class=\"word  hl\"  style=\"background-color: #96ceb4;\" >\n",
       "<a href=\"#\" class=\"nd\">356370</a>\n",
       "<div class=\"h\"><a target=\"_blank\" href=\"https://shebanq.ancient-data.org/hebrew/word?version=c&amp;id=1OD\" title=\"show this lexeme in SHEBANQ\">עַד־</a></div>\n",
       "<div class=\"features\"> <span class=\"pdp\"><a href=\"https://shebanq.ancient-data.org/hebrew/text?book=Ruth&amp;chapter=2&amp;verse=7&amp;version=c&amp;mr=m&amp;qw=q&amp;tp=txt_p&amp;tr=hb&amp;wget=v&amp;qget=v&amp;nget=vt\" title=\"Ruth 2:7\" sec=\"Ruth 2:7\">prep</a></span> <span class=\"gloss\">unto</span> <span class=\"lex xft\"><span class=\"f\">lex=</span>&lt;D</span></div>\n",
       "\n",
       "\n",
       "</div>\n",
       "\n",
       "<div class=\"word  hl\"  style=\"background-color: #96ceb4;\" >\n",
       "<a href=\"#\" class=\"nd\">356371</a>\n",
       "<div class=\"h\"><a target=\"_blank\" href=\"https://shebanq.ancient-data.org/hebrew/word?version=c&amp;id=1OTH\" title=\"show this lexeme in SHEBANQ\">עַ֔תָּה </a></div>\n",
       "<div class=\"features\"> <span class=\"pdp\"><a href=\"https://shebanq.ancient-data.org/hebrew/text?book=Ruth&amp;chapter=2&amp;verse=7&amp;version=c&amp;mr=m&amp;qw=q&amp;tp=txt_p&amp;tr=hb&amp;wget=v&amp;qget=v&amp;nget=vt\" title=\"Ruth 2:7\" sec=\"Ruth 2:7\">advb</a></span> <span class=\"gloss\">now</span> <span class=\"lex xft\"><span class=\"f\">lex=</span>&lt;TH</span></div>\n",
       "\n",
       "\n",
       "</div>\n",
       "\n",
       "\n",
       "    </div>\n",
       "\n",
       "\n",
       "</div>\n",
       "\n",
       "\n",
       "</div>\n"
      ],
      "text/plain": [
       "<IPython.core.display.HTML object>"
      ]
     },
     "metadata": {},
     "output_type": "display_data"
    },
    {
     "data": {
      "text/html": [
       "<div style=\"background: #96ceb4; text-align: center\">part2</div>"
      ],
      "text/plain": [
       "<IPython.core.display.HTML object>"
      ]
     },
     "metadata": {},
     "output_type": "display_data"
    },
    {
     "data": {
      "text/html": [
       "<div style=\"background: #ffeead; text-align: center\">conj</div>"
      ],
      "text/plain": [
       "<IPython.core.display.HTML object>"
      ]
     },
     "metadata": {},
     "output_type": "display_data"
    },
    {
     "data": {
      "text/html": [
       "<div style=\"background: #ffcc5c; text-align: center\">part1</div>"
      ],
      "text/plain": [
       "<IPython.core.display.HTML object>"
      ]
     },
     "metadata": {},
     "output_type": "display_data"
    },
    {
     "name": "stdout",
     "output_type": "stream",
     "text": [
      "{   '__cx__': 'coord',\n",
      "    'conj': {'__cx__': 'conj', 'head': 356369},\n",
      "    'part1': {   '__cx__': 'prep_ph',\n",
      "                 'head': {'__cx__': 'cont', 'head': 356366},\n",
      "                 'prep': {'__cx__': 'prep', 'head': 356365}},\n",
      "    'part2': {   '__cx__': 'prep_ph',\n",
      "                 'head': {'__cx__': 'cont', 'head': 356371},\n",
      "                 'prep': {'__cx__': 'prep', 'head': 356370}}}\n",
      "\n"
     ]
    },
    {
     "data": {
      "text/html": [
       "<hr>"
      ],
      "text/plain": [
       "<IPython.core.display.HTML object>"
      ]
     },
     "metadata": {},
     "output_type": "display_data"
    },
    {
     "data": {
      "text/html": [
       "<p><b>result</b> <i>1450118 -> CX coord {362244, 362245, 362246, 362247, 362248, 362249, 362250}</i></p>"
      ],
      "text/plain": [
       "<IPython.core.display.HTML object>"
      ]
     },
     "metadata": {},
     "output_type": "display_data"
    },
    {
     "data": {
      "text/html": [
       "<a href=\"https://shebanq.ancient-data.org/hebrew/text?book=Ecclesiastes&amp;chapter=8&amp;verse=16&amp;version=c&amp;mr=m&amp;qw=q&amp;tp=txt_p&amp;tr=hb&amp;wget=v&amp;qget=v&amp;nget=vt\" title=\"show this passage in SHEBANQ\" sec=\"Ecclesiastes 8:16\">Ecclesiastes 8:16</a>\n",
       "<div class=\"atoms  \" >\n",
       "<a href=\"#\" class=\"nd\">871805</a>\n",
       "\n",
       "\n",
       "\n",
       "<div class=\"patom  \" >\n",
       "\n",
       "    <div class=\"phrase \" >\n",
       "        <a href=\"https://shebanq.ancient-data.org/hebrew/text?book=Ecclesiastes&amp;chapter=8&amp;verse=16&amp;version=c&amp;mr=m&amp;qw=q&amp;tp=txt_p&amp;tr=hb&amp;wget=v&amp;qget=v&amp;nget=vt\" title=\"Ecclesiastes 8:16\" sec=\"Ecclesiastes 8:16\">phrase</a> <a href=\"#\" class=\"nd\">871805</a>  <span class=\"function\">Time</span> <span class=\"typ\">PP</span>\n",
       "    </div>\n",
       "    <div class=\"atoms\">\n",
       "\n",
       "<div class=\"word  \" >\n",
       "<a href=\"#\" class=\"nd\">362243</a>\n",
       "<div class=\"h\"><a target=\"_blank\" href=\"https://shebanq.ancient-data.org/hebrew/word?version=c&amp;id=1GM\" title=\"show this lexeme in SHEBANQ\">גַ֤ם </a></div>\n",
       "<div class=\"features\"> <span class=\"pdp\"><a href=\"https://shebanq.ancient-data.org/hebrew/text?book=Ecclesiastes&amp;chapter=8&amp;verse=16&amp;version=c&amp;mr=m&amp;qw=q&amp;tp=txt_p&amp;tr=hb&amp;wget=v&amp;qget=v&amp;nget=vt\" title=\"Ecclesiastes 8:16\" sec=\"Ecclesiastes 8:16\">advb</a></span> <span class=\"gloss\">even</span> <span class=\"lex xft\"><span class=\"f\">lex=</span>GM</span></div>\n",
       "\n",
       "\n",
       "</div>\n",
       "\n",
       "<div class=\"word  hl\"  style=\"background-color: #ffcc5c;\" >\n",
       "<a href=\"#\" class=\"nd\">362244</a>\n",
       "<div class=\"h\"><a target=\"_blank\" href=\"https://shebanq.ancient-data.org/hebrew/word?version=c&amp;id=1B\" title=\"show this lexeme in SHEBANQ\">בַּ</a></div>\n",
       "<div class=\"features\"> <span class=\"pdp\"><a href=\"https://shebanq.ancient-data.org/hebrew/text?book=Ecclesiastes&amp;chapter=8&amp;verse=16&amp;version=c&amp;mr=m&amp;qw=q&amp;tp=txt_p&amp;tr=hb&amp;wget=v&amp;qget=v&amp;nget=vt\" title=\"Ecclesiastes 8:16\" sec=\"Ecclesiastes 8:16\">prep</a></span> <span class=\"gloss\">in</span> <span class=\"lex xft\"><span class=\"f\">lex=</span>B</span></div>\n",
       "\n",
       "\n",
       "</div>\n",
       "\n",
       "<div class=\"word  hl\"  style=\"background-color: #ffcc5c;\" >\n",
       "<a href=\"#\" class=\"nd\">362245</a>\n",
       "<div class=\"h\"><a target=\"_blank\" href=\"https://shebanq.ancient-data.org/hebrew/word?version=c&amp;id=1H\" title=\"show this lexeme in SHEBANQ\"></a></div>\n",
       "<div class=\"features\"> <span class=\"pdp\"><a href=\"https://shebanq.ancient-data.org/hebrew/text?book=Ecclesiastes&amp;chapter=8&amp;verse=16&amp;version=c&amp;mr=m&amp;qw=q&amp;tp=txt_p&amp;tr=hb&amp;wget=v&amp;qget=v&amp;nget=vt\" title=\"Ecclesiastes 8:16\" sec=\"Ecclesiastes 8:16\">art</a></span> <span class=\"gloss\">the</span> <span class=\"lex xft\"><span class=\"f\">lex=</span>H</span></div>\n",
       "\n",
       "\n",
       "</div>\n",
       "\n",
       "<div class=\"word  hl\"  style=\"background-color: #ffcc5c;\" >\n",
       "<a href=\"#\" class=\"nd\">362246</a>\n",
       "<div class=\"h\"><a target=\"_blank\" href=\"https://shebanq.ancient-data.org/hebrew/word?version=c&amp;id=1JWMn\" title=\"show this lexeme in SHEBANQ\">יֹּום֙ </a></div>\n",
       "<div class=\"features\"> <span class=\"pdp\"><a href=\"https://shebanq.ancient-data.org/hebrew/text?book=Ecclesiastes&amp;chapter=8&amp;verse=16&amp;version=c&amp;mr=m&amp;qw=q&amp;tp=txt_p&amp;tr=hb&amp;wget=v&amp;qget=v&amp;nget=vt\" title=\"Ecclesiastes 8:16\" sec=\"Ecclesiastes 8:16\">subs</a></span> <span class=\"gloss\">day</span> <span class=\"lex xft\"><span class=\"f\">lex=</span>JWM/</span></div>\n",
       "\n",
       "\n",
       "</div>\n",
       "\n",
       "<div class=\"word  hl\"  style=\"background-color: #ffeead;\" >\n",
       "<a href=\"#\" class=\"nd\">362247</a>\n",
       "<div class=\"h\"><a target=\"_blank\" href=\"https://shebanq.ancient-data.org/hebrew/word?version=c&amp;id=1W\" title=\"show this lexeme in SHEBANQ\">וּ</a></div>\n",
       "<div class=\"features\"> <span class=\"pdp\"><a href=\"https://shebanq.ancient-data.org/hebrew/text?book=Ecclesiastes&amp;chapter=8&amp;verse=16&amp;version=c&amp;mr=m&amp;qw=q&amp;tp=txt_p&amp;tr=hb&amp;wget=v&amp;qget=v&amp;nget=vt\" title=\"Ecclesiastes 8:16\" sec=\"Ecclesiastes 8:16\">conj</a></span> <span class=\"gloss\">and</span> <span class=\"lex xft\"><span class=\"f\">lex=</span>W</span></div>\n",
       "\n",
       "\n",
       "</div>\n",
       "\n",
       "<div class=\"word  hl\"  style=\"background-color: #96ceb4;\" >\n",
       "<a href=\"#\" class=\"nd\">362248</a>\n",
       "<div class=\"h\"><a target=\"_blank\" href=\"https://shebanq.ancient-data.org/hebrew/word?version=c&amp;id=1B\" title=\"show this lexeme in SHEBANQ\">בַ</a></div>\n",
       "<div class=\"features\"> <span class=\"pdp\"><a href=\"https://shebanq.ancient-data.org/hebrew/text?book=Ecclesiastes&amp;chapter=8&amp;verse=16&amp;version=c&amp;mr=m&amp;qw=q&amp;tp=txt_p&amp;tr=hb&amp;wget=v&amp;qget=v&amp;nget=vt\" title=\"Ecclesiastes 8:16\" sec=\"Ecclesiastes 8:16\">prep</a></span> <span class=\"gloss\">in</span> <span class=\"lex xft\"><span class=\"f\">lex=</span>B</span></div>\n",
       "\n",
       "\n",
       "</div>\n",
       "\n",
       "<div class=\"word  hl\"  style=\"background-color: #96ceb4;\" >\n",
       "<a href=\"#\" class=\"nd\">362249</a>\n",
       "<div class=\"h\"><a target=\"_blank\" href=\"https://shebanq.ancient-data.org/hebrew/word?version=c&amp;id=1H\" title=\"show this lexeme in SHEBANQ\"></a></div>\n",
       "<div class=\"features\"> <span class=\"pdp\"><a href=\"https://shebanq.ancient-data.org/hebrew/text?book=Ecclesiastes&amp;chapter=8&amp;verse=16&amp;version=c&amp;mr=m&amp;qw=q&amp;tp=txt_p&amp;tr=hb&amp;wget=v&amp;qget=v&amp;nget=vt\" title=\"Ecclesiastes 8:16\" sec=\"Ecclesiastes 8:16\">art</a></span> <span class=\"gloss\">the</span> <span class=\"lex xft\"><span class=\"f\">lex=</span>H</span></div>\n",
       "\n",
       "\n",
       "</div>\n",
       "\n",
       "<div class=\"word  hl\"  style=\"background-color: #96ceb4;\" >\n",
       "<a href=\"#\" class=\"nd\">362250</a>\n",
       "<div class=\"h\"><a target=\"_blank\" href=\"https://shebanq.ancient-data.org/hebrew/word?version=c&amp;id=1LJLHn\" title=\"show this lexeme in SHEBANQ\">לַּ֔יְלָה </a></div>\n",
       "<div class=\"features\"> <span class=\"pdp\"><a href=\"https://shebanq.ancient-data.org/hebrew/text?book=Ecclesiastes&amp;chapter=8&amp;verse=16&amp;version=c&amp;mr=m&amp;qw=q&amp;tp=txt_p&amp;tr=hb&amp;wget=v&amp;qget=v&amp;nget=vt\" title=\"Ecclesiastes 8:16\" sec=\"Ecclesiastes 8:16\">subs</a></span> <span class=\"gloss\">night</span> <span class=\"lex xft\"><span class=\"f\">lex=</span>LJLH/</span></div>\n",
       "\n",
       "\n",
       "</div>\n",
       "\n",
       "\n",
       "    </div>\n",
       "\n",
       "\n",
       "</div>\n",
       "\n",
       "\n",
       "</div>\n"
      ],
      "text/plain": [
       "<IPython.core.display.HTML object>"
      ]
     },
     "metadata": {},
     "output_type": "display_data"
    },
    {
     "data": {
      "text/html": [
       "<div style=\"background: #96ceb4; text-align: center\">part2</div>"
      ],
      "text/plain": [
       "<IPython.core.display.HTML object>"
      ]
     },
     "metadata": {},
     "output_type": "display_data"
    },
    {
     "data": {
      "text/html": [
       "<div style=\"background: #ffeead; text-align: center\">conj</div>"
      ],
      "text/plain": [
       "<IPython.core.display.HTML object>"
      ]
     },
     "metadata": {},
     "output_type": "display_data"
    },
    {
     "data": {
      "text/html": [
       "<div style=\"background: #ffcc5c; text-align: center\">part1</div>"
      ],
      "text/plain": [
       "<IPython.core.display.HTML object>"
      ]
     },
     "metadata": {},
     "output_type": "display_data"
    },
    {
     "name": "stdout",
     "output_type": "stream",
     "text": [
      "{   '__cx__': 'coord',\n",
      "    'conj': {'__cx__': 'conj', 'head': 362247},\n",
      "    'part1': {   '__cx__': 'prep_ph',\n",
      "                 'head': {   '__cx__': 'defi_ph',\n",
      "                             'art': {'__cx__': 'art', 'head': 362245},\n",
      "                             'head': {'__cx__': 'cont', 'head': 362246}},\n",
      "                 'prep': {'__cx__': 'prep', 'head': 362244}},\n",
      "    'part2': {   '__cx__': 'prep_ph',\n",
      "                 'head': {   '__cx__': 'defi_ph',\n",
      "                             'art': {'__cx__': 'art', 'head': 362249},\n",
      "                             'head': {'__cx__': 'cont', 'head': 362250}},\n",
      "                 'prep': {'__cx__': 'prep', 'head': 362248}}}\n",
      "\n"
     ]
    },
    {
     "data": {
      "text/html": [
       "<hr>"
      ],
      "text/plain": [
       "<IPython.core.display.HTML object>"
      ]
     },
     "metadata": {},
     "output_type": "display_data"
    },
    {
     "data": {
      "text/html": [
       "<p><b>result</b> <i>1450131 -> CX coord {363636, 363637, 363638}</i></p>"
      ],
      "text/plain": [
       "<IPython.core.display.HTML object>"
      ]
     },
     "metadata": {},
     "output_type": "display_data"
    },
    {
     "data": {
      "text/html": [
       "<a href=\"https://shebanq.ancient-data.org/hebrew/text?book=Threni&amp;chapter=1&amp;verse=7&amp;version=c&amp;mr=m&amp;qw=q&amp;tp=txt_p&amp;tr=hb&amp;wget=v&amp;qget=v&amp;nget=vt\" title=\"show this passage in SHEBANQ\" sec=\"Lamentations 1:7\">Lamentations 1:7</a>\n",
       "<div class=\"atoms  \" >\n",
       "<a href=\"#\" class=\"nd\">872677</a>\n",
       "\n",
       "\n",
       "\n",
       "<div class=\"patom  \" >\n",
       "\n",
       "    <div class=\"phrase \" >\n",
       "        <a href=\"https://shebanq.ancient-data.org/hebrew/text?book=Threni&amp;chapter=1&amp;verse=7&amp;version=c&amp;mr=m&amp;qw=q&amp;tp=txt_p&amp;tr=hb&amp;wget=v&amp;qget=v&amp;nget=vt\" title=\"Lamentations 1:7\" sec=\"Lamentations 1:7\">phrase</a> <a href=\"#\" class=\"nd\">872677</a>  <span class=\"function\">Time</span> <span class=\"typ\">NP</span>\n",
       "    </div>\n",
       "    <div class=\"atoms\">\n",
       "\n",
       "<div class=\"word  \" >\n",
       "<a href=\"#\" class=\"nd\">363635</a>\n",
       "<div class=\"h\"><a target=\"_blank\" href=\"https://shebanq.ancient-data.org/hebrew/word?version=c&amp;id=1JWMn\" title=\"show this lexeme in SHEBANQ\">יְמֵ֤י </a></div>\n",
       "<div class=\"features\"> <span class=\"pdp\"><a href=\"https://shebanq.ancient-data.org/hebrew/text?book=Threni&amp;chapter=1&amp;verse=7&amp;version=c&amp;mr=m&amp;qw=q&amp;tp=txt_p&amp;tr=hb&amp;wget=v&amp;qget=v&amp;nget=vt\" title=\"Lamentations 1:7\" sec=\"Lamentations 1:7\">subs</a></span> <span class=\"gloss\">day</span> <span class=\"lex xft\"><span class=\"f\">lex=</span>JWM/</span></div>\n",
       "\n",
       "\n",
       "</div>\n",
       "\n",
       "<div class=\"word  hl\"  style=\"background-color: #ffcc5c;\" >\n",
       "<a href=\"#\" class=\"nd\">363636</a>\n",
       "<div class=\"h\"><a target=\"_blank\" href=\"https://shebanq.ancient-data.org/hebrew/word?version=c&amp;id=1ONJin\" title=\"show this lexeme in SHEBANQ\">עָנְיָהּ֙ </a></div>\n",
       "<div class=\"features\"> <span class=\"pdp\"><a href=\"https://shebanq.ancient-data.org/hebrew/text?book=Threni&amp;chapter=1&amp;verse=7&amp;version=c&amp;mr=m&amp;qw=q&amp;tp=txt_p&amp;tr=hb&amp;wget=v&amp;qget=v&amp;nget=vt\" title=\"Lamentations 1:7\" sec=\"Lamentations 1:7\">subs</a></span> <span class=\"gloss\">poverty</span> <span class=\"lex xft\"><span class=\"f\">lex=</span>&lt;NJ=/</span></div>\n",
       "\n",
       "\n",
       "</div>\n",
       "\n",
       "<div class=\"word  hl\"  style=\"background-color: #ffeead;\" >\n",
       "<a href=\"#\" class=\"nd\">363637</a>\n",
       "<div class=\"h\"><a target=\"_blank\" href=\"https://shebanq.ancient-data.org/hebrew/word?version=c&amp;id=1W\" title=\"show this lexeme in SHEBANQ\">וּ</a></div>\n",
       "<div class=\"features\"> <span class=\"pdp\"><a href=\"https://shebanq.ancient-data.org/hebrew/text?book=Threni&amp;chapter=1&amp;verse=7&amp;version=c&amp;mr=m&amp;qw=q&amp;tp=txt_p&amp;tr=hb&amp;wget=v&amp;qget=v&amp;nget=vt\" title=\"Lamentations 1:7\" sec=\"Lamentations 1:7\">conj</a></span> <span class=\"gloss\">and</span> <span class=\"lex xft\"><span class=\"f\">lex=</span>W</span></div>\n",
       "\n",
       "\n",
       "</div>\n",
       "\n",
       "<div class=\"word  hl\"  style=\"background-color: #96ceb4;\" >\n",
       "<a href=\"#\" class=\"nd\">363638</a>\n",
       "<div class=\"h\"><a target=\"_blank\" href=\"https://shebanq.ancient-data.org/hebrew/word?version=c&amp;id=1MRWDn\" title=\"show this lexeme in SHEBANQ\">מְרוּדֶ֔יהָ </a></div>\n",
       "<div class=\"features\"> <span class=\"pdp\"><a href=\"https://shebanq.ancient-data.org/hebrew/text?book=Threni&amp;chapter=1&amp;verse=7&amp;version=c&amp;mr=m&amp;qw=q&amp;tp=txt_p&amp;tr=hb&amp;wget=v&amp;qget=v&amp;nget=vt\" title=\"Lamentations 1:7\" sec=\"Lamentations 1:7\">subs</a></span> <span class=\"gloss\">homelessness</span> <span class=\"lex xft\"><span class=\"f\">lex=</span>MRWD/</span></div>\n",
       "\n",
       "\n",
       "</div>\n",
       "\n",
       "\n",
       "    </div>\n",
       "\n",
       "\n",
       "</div>\n",
       "\n",
       "\n",
       "</div>\n"
      ],
      "text/plain": [
       "<IPython.core.display.HTML object>"
      ]
     },
     "metadata": {},
     "output_type": "display_data"
    },
    {
     "data": {
      "text/html": [
       "<div style=\"background: #96ceb4; text-align: center\">part2</div>"
      ],
      "text/plain": [
       "<IPython.core.display.HTML object>"
      ]
     },
     "metadata": {},
     "output_type": "display_data"
    },
    {
     "data": {
      "text/html": [
       "<div style=\"background: #ffeead; text-align: center\">conj</div>"
      ],
      "text/plain": [
       "<IPython.core.display.HTML object>"
      ]
     },
     "metadata": {},
     "output_type": "display_data"
    },
    {
     "data": {
      "text/html": [
       "<div style=\"background: #ffcc5c; text-align: center\">part1</div>"
      ],
      "text/plain": [
       "<IPython.core.display.HTML object>"
      ]
     },
     "metadata": {},
     "output_type": "display_data"
    },
    {
     "name": "stdout",
     "output_type": "stream",
     "text": [
      "{   '__cx__': 'coord',\n",
      "    'conj': {'__cx__': 'conj', 'head': 363637},\n",
      "    'part1': {'__cx__': 'cont', 'head': 363636},\n",
      "    'part2': {'__cx__': 'cont', 'head': 363638}}\n",
      "\n"
     ]
    },
    {
     "data": {
      "text/html": [
       "<hr>"
      ],
      "text/plain": [
       "<IPython.core.display.HTML object>"
      ]
     },
     "metadata": {},
     "output_type": "display_data"
    },
    {
     "data": {
      "text/html": [
       "<p><b>result</b> <i>1450156 -> CX coord {366181, 366182, 366183}</i></p>"
      ],
      "text/plain": [
       "<IPython.core.display.HTML object>"
      ]
     },
     "metadata": {},
     "output_type": "display_data"
    },
    {
     "data": {
      "text/html": [
       "<a href=\"https://shebanq.ancient-data.org/hebrew/text?book=Esther&amp;chapter=2&amp;verse=7&amp;version=c&amp;mr=m&amp;qw=q&amp;tp=txt_p&amp;tr=hb&amp;wget=v&amp;qget=v&amp;nget=vt\" title=\"show this passage in SHEBANQ\" sec=\"Esther 2:7\">Esther 2:7</a>\n",
       "<div class=\"atoms  \" >\n",
       "<a href=\"#\" class=\"nd\">874237</a>\n",
       "\n",
       "\n",
       "\n",
       "<div class=\"patom  \" >\n",
       "\n",
       "    <div class=\"phrase \" >\n",
       "        <a href=\"https://shebanq.ancient-data.org/hebrew/text?book=Esther&amp;chapter=2&amp;verse=7&amp;version=c&amp;mr=m&amp;qw=q&amp;tp=txt_p&amp;tr=hb&amp;wget=v&amp;qget=v&amp;nget=vt\" title=\"Esther 2:7\" sec=\"Esther 2:7\">phrase</a> <a href=\"#\" class=\"nd\">874237</a>  <span class=\"function\">Time</span> <span class=\"typ\">PP</span>\n",
       "    </div>\n",
       "    <div class=\"atoms\">\n",
       "\n",
       "<div class=\"word  \" >\n",
       "<a href=\"#\" class=\"nd\">366179</a>\n",
       "<div class=\"h\"><a target=\"_blank\" href=\"https://shebanq.ancient-data.org/hebrew/word?version=c&amp;id=1B\" title=\"show this lexeme in SHEBANQ\">בְ</a></div>\n",
       "<div class=\"features\"> <span class=\"pdp\"><a href=\"https://shebanq.ancient-data.org/hebrew/text?book=Esther&amp;chapter=2&amp;verse=7&amp;version=c&amp;mr=m&amp;qw=q&amp;tp=txt_p&amp;tr=hb&amp;wget=v&amp;qget=v&amp;nget=vt\" title=\"Esther 2:7\" sec=\"Esther 2:7\">prep</a></span> <span class=\"gloss\">in</span> <span class=\"lex xft\"><span class=\"f\">lex=</span>B</span></div>\n",
       "\n",
       "\n",
       "</div>\n",
       "\n",
       "<div class=\"word  \" >\n",
       "<a href=\"#\" class=\"nd\">366180</a>\n",
       "<div class=\"h\"><a target=\"_blank\" href=\"https://shebanq.ancient-data.org/hebrew/word?version=c&amp;id=1MWTn\" title=\"show this lexeme in SHEBANQ\">מֹ֤ות </a></div>\n",
       "<div class=\"features\"> <span class=\"pdp\"><a href=\"https://shebanq.ancient-data.org/hebrew/text?book=Esther&amp;chapter=2&amp;verse=7&amp;version=c&amp;mr=m&amp;qw=q&amp;tp=txt_p&amp;tr=hb&amp;wget=v&amp;qget=v&amp;nget=vt\" title=\"Esther 2:7\" sec=\"Esther 2:7\">subs</a></span> <span class=\"gloss\">death</span> <span class=\"lex xft\"><span class=\"f\">lex=</span>MWT/</span></div>\n",
       "\n",
       "\n",
       "</div>\n",
       "\n",
       "<div class=\"word  hl\"  style=\"background-color: #ffcc5c;\" >\n",
       "<a href=\"#\" class=\"nd\">366181</a>\n",
       "<div class=\"h\"><a target=\"_blank\" href=\"https://shebanq.ancient-data.org/hebrew/word?version=c&amp;id=1ABn\" title=\"show this lexeme in SHEBANQ\">אָבִ֨יהָ֙ </a></div>\n",
       "<div class=\"features\"> <span class=\"pdp\"><a href=\"https://shebanq.ancient-data.org/hebrew/text?book=Esther&amp;chapter=2&amp;verse=7&amp;version=c&amp;mr=m&amp;qw=q&amp;tp=txt_p&amp;tr=hb&amp;wget=v&amp;qget=v&amp;nget=vt\" title=\"Esther 2:7\" sec=\"Esther 2:7\">subs</a></span> <span class=\"gloss\">father</span> <span class=\"lex xft\"><span class=\"f\">lex=</span>>B/</span></div>\n",
       "\n",
       "\n",
       "</div>\n",
       "\n",
       "<div class=\"word  hl\"  style=\"background-color: #ffeead;\" >\n",
       "<a href=\"#\" class=\"nd\">366182</a>\n",
       "<div class=\"h\"><a target=\"_blank\" href=\"https://shebanq.ancient-data.org/hebrew/word?version=c&amp;id=1W\" title=\"show this lexeme in SHEBANQ\">וְ</a></div>\n",
       "<div class=\"features\"> <span class=\"pdp\"><a href=\"https://shebanq.ancient-data.org/hebrew/text?book=Esther&amp;chapter=2&amp;verse=7&amp;version=c&amp;mr=m&amp;qw=q&amp;tp=txt_p&amp;tr=hb&amp;wget=v&amp;qget=v&amp;nget=vt\" title=\"Esther 2:7\" sec=\"Esther 2:7\">conj</a></span> <span class=\"gloss\">and</span> <span class=\"lex xft\"><span class=\"f\">lex=</span>W</span></div>\n",
       "\n",
       "\n",
       "</div>\n",
       "\n",
       "<div class=\"word  hl\"  style=\"background-color: #96ceb4;\" >\n",
       "<a href=\"#\" class=\"nd\">366183</a>\n",
       "<div class=\"h\"><a target=\"_blank\" href=\"https://shebanq.ancient-data.org/hebrew/word?version=c&amp;id=1AMn\" title=\"show this lexeme in SHEBANQ\">אִמָּ֔הּ </a></div>\n",
       "<div class=\"features\"> <span class=\"pdp\"><a href=\"https://shebanq.ancient-data.org/hebrew/text?book=Esther&amp;chapter=2&amp;verse=7&amp;version=c&amp;mr=m&amp;qw=q&amp;tp=txt_p&amp;tr=hb&amp;wget=v&amp;qget=v&amp;nget=vt\" title=\"Esther 2:7\" sec=\"Esther 2:7\">subs</a></span> <span class=\"gloss\">mother</span> <span class=\"lex xft\"><span class=\"f\">lex=</span>>M/</span></div>\n",
       "\n",
       "\n",
       "</div>\n",
       "\n",
       "\n",
       "    </div>\n",
       "\n",
       "\n",
       "</div>\n",
       "\n",
       "\n",
       "</div>\n"
      ],
      "text/plain": [
       "<IPython.core.display.HTML object>"
      ]
     },
     "metadata": {},
     "output_type": "display_data"
    },
    {
     "data": {
      "text/html": [
       "<div style=\"background: #96ceb4; text-align: center\">part2</div>"
      ],
      "text/plain": [
       "<IPython.core.display.HTML object>"
      ]
     },
     "metadata": {},
     "output_type": "display_data"
    },
    {
     "data": {
      "text/html": [
       "<div style=\"background: #ffeead; text-align: center\">conj</div>"
      ],
      "text/plain": [
       "<IPython.core.display.HTML object>"
      ]
     },
     "metadata": {},
     "output_type": "display_data"
    },
    {
     "data": {
      "text/html": [
       "<div style=\"background: #ffcc5c; text-align: center\">part1</div>"
      ],
      "text/plain": [
       "<IPython.core.display.HTML object>"
      ]
     },
     "metadata": {},
     "output_type": "display_data"
    },
    {
     "name": "stdout",
     "output_type": "stream",
     "text": [
      "{   '__cx__': 'coord',\n",
      "    'conj': {'__cx__': 'conj', 'head': 366182},\n",
      "    'part1': {'__cx__': 'cont', 'head': 366181},\n",
      "    'part2': {'__cx__': 'cont', 'head': 366183}}\n",
      "\n"
     ]
    },
    {
     "data": {
      "text/html": [
       "<hr>"
      ],
      "text/plain": [
       "<IPython.core.display.HTML object>"
      ]
     },
     "metadata": {},
     "output_type": "display_data"
    },
    {
     "data": {
      "text/html": [
       "<p><b>result</b> <i>1450157 -> CX coord {366288, 366286, 366287}</i></p>"
      ],
      "text/plain": [
       "<IPython.core.display.HTML object>"
      ]
     },
     "metadata": {},
     "output_type": "display_data"
    },
    {
     "data": {
      "text/html": [
       "<a href=\"https://shebanq.ancient-data.org/hebrew/text?book=Esther&amp;chapter=2&amp;verse=11&amp;version=c&amp;mr=m&amp;qw=q&amp;tp=txt_p&amp;tr=hb&amp;wget=v&amp;qget=v&amp;nget=vt\" title=\"show this passage in SHEBANQ\" sec=\"Esther 2:11\">Esther 2:11</a>\n",
       "<div class=\"atoms  \" >\n",
       "<a href=\"#\" class=\"nd\">874289</a>\n",
       "\n",
       "\n",
       "\n",
       "<div class=\"patom  \" >\n",
       "\n",
       "    <div class=\"phrase \" >\n",
       "        <a href=\"https://shebanq.ancient-data.org/hebrew/text?book=Esther&amp;chapter=2&amp;verse=11&amp;version=c&amp;mr=m&amp;qw=q&amp;tp=txt_p&amp;tr=hb&amp;wget=v&amp;qget=v&amp;nget=vt\" title=\"Esther 2:11\" sec=\"Esther 2:11\">phrase</a> <a href=\"#\" class=\"nd\">874289</a>  <span class=\"function\">Time</span> <span class=\"typ\">PP</span>\n",
       "    </div>\n",
       "    <div class=\"atoms\">\n",
       "\n",
       "<div class=\"word  \" >\n",
       "<a href=\"#\" class=\"nd\">366284</a>\n",
       "<div class=\"h\"><a target=\"_blank\" href=\"https://shebanq.ancient-data.org/hebrew/word?version=c&amp;id=1B\" title=\"show this lexeme in SHEBANQ\">בְ</a></div>\n",
       "<div class=\"features\"> <span class=\"pdp\"><a href=\"https://shebanq.ancient-data.org/hebrew/text?book=Esther&amp;chapter=2&amp;verse=11&amp;version=c&amp;mr=m&amp;qw=q&amp;tp=txt_p&amp;tr=hb&amp;wget=v&amp;qget=v&amp;nget=vt\" title=\"Esther 2:11\" sec=\"Esther 2:11\">prep</a></span> <span class=\"gloss\">in</span> <span class=\"lex xft\"><span class=\"f\">lex=</span>B</span></div>\n",
       "\n",
       "\n",
       "</div>\n",
       "\n",
       "<div class=\"word  \" >\n",
       "<a href=\"#\" class=\"nd\">366285</a>\n",
       "<div class=\"h\"><a target=\"_blank\" href=\"https://shebanq.ancient-data.org/hebrew/word?version=c&amp;id=1KLn\" title=\"show this lexeme in SHEBANQ\">כָל־</a></div>\n",
       "<div class=\"features\"> <span class=\"pdp\"><a href=\"https://shebanq.ancient-data.org/hebrew/text?book=Esther&amp;chapter=2&amp;verse=11&amp;version=c&amp;mr=m&amp;qw=q&amp;tp=txt_p&amp;tr=hb&amp;wget=v&amp;qget=v&amp;nget=vt\" title=\"Esther 2:11\" sec=\"Esther 2:11\">subs</a></span> <span class=\"gloss\">whole</span> <span class=\"lex xft\"><span class=\"f\">lex=</span>KL/</span></div>\n",
       "\n",
       "\n",
       "</div>\n",
       "\n",
       "<div class=\"word  hl\"  style=\"background-color: #ffcc5c;\" >\n",
       "<a href=\"#\" class=\"nd\">366286</a>\n",
       "<div class=\"h\"><a target=\"_blank\" href=\"https://shebanq.ancient-data.org/hebrew/word?version=c&amp;id=1JWMn\" title=\"show this lexeme in SHEBANQ\">יֹ֣ום </a></div>\n",
       "<div class=\"features\"> <span class=\"pdp\"><a href=\"https://shebanq.ancient-data.org/hebrew/text?book=Esther&amp;chapter=2&amp;verse=11&amp;version=c&amp;mr=m&amp;qw=q&amp;tp=txt_p&amp;tr=hb&amp;wget=v&amp;qget=v&amp;nget=vt\" title=\"Esther 2:11\" sec=\"Esther 2:11\">subs</a></span> <span class=\"gloss\">day</span> <span class=\"lex xft\"><span class=\"f\">lex=</span>JWM/</span></div>\n",
       "\n",
       "\n",
       "</div>\n",
       "\n",
       "<div class=\"word  hl\"  style=\"background-color: #ffeead;\" >\n",
       "<a href=\"#\" class=\"nd\">366287</a>\n",
       "<div class=\"h\"><a target=\"_blank\" href=\"https://shebanq.ancient-data.org/hebrew/word?version=c&amp;id=1W\" title=\"show this lexeme in SHEBANQ\">וָ</a></div>\n",
       "<div class=\"features\"> <span class=\"pdp\"><a href=\"https://shebanq.ancient-data.org/hebrew/text?book=Esther&amp;chapter=2&amp;verse=11&amp;version=c&amp;mr=m&amp;qw=q&amp;tp=txt_p&amp;tr=hb&amp;wget=v&amp;qget=v&amp;nget=vt\" title=\"Esther 2:11\" sec=\"Esther 2:11\">conj</a></span> <span class=\"gloss\">and</span> <span class=\"lex xft\"><span class=\"f\">lex=</span>W</span></div>\n",
       "\n",
       "\n",
       "</div>\n",
       "\n",
       "<div class=\"word  hl\"  style=\"background-color: #96ceb4;\" >\n",
       "<a href=\"#\" class=\"nd\">366288</a>\n",
       "<div class=\"h\"><a target=\"_blank\" href=\"https://shebanq.ancient-data.org/hebrew/word?version=c&amp;id=1JWMn\" title=\"show this lexeme in SHEBANQ\">יֹ֔ום </a></div>\n",
       "<div class=\"features\"> <span class=\"pdp\"><a href=\"https://shebanq.ancient-data.org/hebrew/text?book=Esther&amp;chapter=2&amp;verse=11&amp;version=c&amp;mr=m&amp;qw=q&amp;tp=txt_p&amp;tr=hb&amp;wget=v&amp;qget=v&amp;nget=vt\" title=\"Esther 2:11\" sec=\"Esther 2:11\">subs</a></span> <span class=\"gloss\">day</span> <span class=\"lex xft\"><span class=\"f\">lex=</span>JWM/</span></div>\n",
       "\n",
       "\n",
       "</div>\n",
       "\n",
       "\n",
       "    </div>\n",
       "\n",
       "\n",
       "</div>\n",
       "\n",
       "\n",
       "</div>\n"
      ],
      "text/plain": [
       "<IPython.core.display.HTML object>"
      ]
     },
     "metadata": {},
     "output_type": "display_data"
    },
    {
     "data": {
      "text/html": [
       "<div style=\"background: #96ceb4; text-align: center\">part2</div>"
      ],
      "text/plain": [
       "<IPython.core.display.HTML object>"
      ]
     },
     "metadata": {},
     "output_type": "display_data"
    },
    {
     "data": {
      "text/html": [
       "<div style=\"background: #ffeead; text-align: center\">conj</div>"
      ],
      "text/plain": [
       "<IPython.core.display.HTML object>"
      ]
     },
     "metadata": {},
     "output_type": "display_data"
    },
    {
     "data": {
      "text/html": [
       "<div style=\"background: #ffcc5c; text-align: center\">part1</div>"
      ],
      "text/plain": [
       "<IPython.core.display.HTML object>"
      ]
     },
     "metadata": {},
     "output_type": "display_data"
    },
    {
     "name": "stdout",
     "output_type": "stream",
     "text": [
      "{   '__cx__': 'coord',\n",
      "    'conj': {'__cx__': 'conj', 'head': 366287},\n",
      "    'part1': {'__cx__': 'cont', 'head': 366286},\n",
      "    'part2': {'__cx__': 'cont', 'head': 366288}}\n",
      "\n"
     ]
    },
    {
     "data": {
      "text/html": [
       "<hr>"
      ],
      "text/plain": [
       "<IPython.core.display.HTML object>"
      ]
     },
     "metadata": {},
     "output_type": "display_data"
    },
    {
     "data": {
      "text/html": [
       "<p><b>result</b> <i>1450170 -> CX coord {366831, 366832, 366833, 366834, 366835}</i></p>"
      ],
      "text/plain": [
       "<IPython.core.display.HTML object>"
      ]
     },
     "metadata": {},
     "output_type": "display_data"
    },
    {
     "data": {
      "text/html": [
       "<a href=\"https://shebanq.ancient-data.org/hebrew/text?book=Esther&amp;chapter=3&amp;verse=7&amp;version=c&amp;mr=m&amp;qw=q&amp;tp=txt_p&amp;tr=hb&amp;wget=v&amp;qget=v&amp;nget=vt\" title=\"show this passage in SHEBANQ\" sec=\"Esther 3:7\">Esther 3:7</a>\n",
       "<div class=\"atoms  \" >\n",
       "<a href=\"#\" class=\"nd\">874577</a>\n",
       "\n",
       "\n",
       "\n",
       "<div class=\"patom  l \" >\n",
       "\n",
       "    <div class=\"phrase \" >\n",
       "        <a href=\"https://shebanq.ancient-data.org/hebrew/text?book=Esther&amp;chapter=3&amp;verse=7&amp;version=c&amp;mr=m&amp;qw=q&amp;tp=txt_p&amp;tr=hb&amp;wget=v&amp;qget=v&amp;nget=vt\" title=\"Esther 3:7\" sec=\"Esther 3:7\">phrase</a> <a href=\"#\" class=\"nd\">874577</a>  <span class=\"function\">Time</span> <span class=\"typ\">PP</span>\n",
       "    </div>\n",
       "    <div class=\"atoms\">\n",
       "\n",
       "<div class=\"word  \" >\n",
       "<a href=\"#\" class=\"nd\">366829</a>\n",
       "<div class=\"h\"><a target=\"_blank\" href=\"https://shebanq.ancient-data.org/hebrew/word?version=c&amp;id=1MN\" title=\"show this lexeme in SHEBANQ\">מִ</a></div>\n",
       "<div class=\"features\"> <span class=\"pdp\"><a href=\"https://shebanq.ancient-data.org/hebrew/text?book=Esther&amp;chapter=3&amp;verse=7&amp;version=c&amp;mr=m&amp;qw=q&amp;tp=txt_p&amp;tr=hb&amp;wget=v&amp;qget=v&amp;nget=vt\" title=\"Esther 3:7\" sec=\"Esther 3:7\">prep</a></span> <span class=\"gloss\">from</span> <span class=\"lex xft\"><span class=\"f\">lex=</span>MN</span></div>\n",
       "\n",
       "\n",
       "</div>\n",
       "\n",
       "<div class=\"word  \" >\n",
       "<a href=\"#\" class=\"nd\">366830</a>\n",
       "<div class=\"h\"><a target=\"_blank\" href=\"https://shebanq.ancient-data.org/hebrew/word?version=c&amp;id=1JWMn\" title=\"show this lexeme in SHEBANQ\">יֹּ֧ום׀ </a></div>\n",
       "<div class=\"features\"> <span class=\"pdp\"><a href=\"https://shebanq.ancient-data.org/hebrew/text?book=Esther&amp;chapter=3&amp;verse=7&amp;version=c&amp;mr=m&amp;qw=q&amp;tp=txt_p&amp;tr=hb&amp;wget=v&amp;qget=v&amp;nget=vt\" title=\"Esther 3:7\" sec=\"Esther 3:7\">subs</a></span> <span class=\"gloss\">day</span> <span class=\"lex xft\"><span class=\"f\">lex=</span>JWM/</span></div>\n",
       "\n",
       "\n",
       "</div>\n",
       "\n",
       "\n",
       "    </div>\n",
       "\n",
       "\n",
       "</div>\n",
       "\n",
       "<div class=\"patom  r l \" >\n",
       "\n",
       "    <div class=\"phrase \" >\n",
       "        <a href=\"https://shebanq.ancient-data.org/hebrew/text?book=Esther&amp;chapter=3&amp;verse=7&amp;version=c&amp;mr=m&amp;qw=q&amp;tp=txt_p&amp;tr=hb&amp;wget=v&amp;qget=v&amp;nget=vt\" title=\"Esther 3:7\" sec=\"Esther 3:7\">phrase</a> <a href=\"#\" class=\"nd\">874577</a>  <span class=\"function\">Time</span> <span class=\"typ\">PP</span>\n",
       "    </div>\n",
       "    <div class=\"atoms\">\n",
       "\n",
       "<div class=\"word  hl\"  style=\"background-color: #ffcc5c;\" >\n",
       "<a href=\"#\" class=\"nd\">366831</a>\n",
       "<div class=\"h\"><a target=\"_blank\" href=\"https://shebanq.ancient-data.org/hebrew/word?version=c&amp;id=1L\" title=\"show this lexeme in SHEBANQ\">לְ</a></div>\n",
       "<div class=\"features\"> <span class=\"pdp\"><a href=\"https://shebanq.ancient-data.org/hebrew/text?book=Esther&amp;chapter=3&amp;verse=7&amp;version=c&amp;mr=m&amp;qw=q&amp;tp=txt_p&amp;tr=hb&amp;wget=v&amp;qget=v&amp;nget=vt\" title=\"Esther 3:7\" sec=\"Esther 3:7\">prep</a></span> <span class=\"gloss\">to</span> <span class=\"lex xft\"><span class=\"f\">lex=</span>L</span></div>\n",
       "\n",
       "\n",
       "</div>\n",
       "\n",
       "<div class=\"word  hl\"  style=\"background-color: #ffcc5c;\" >\n",
       "<a href=\"#\" class=\"nd\">366832</a>\n",
       "<div class=\"h\"><a target=\"_blank\" href=\"https://shebanq.ancient-data.org/hebrew/word?version=c&amp;id=1JWMn\" title=\"show this lexeme in SHEBANQ\">יֹ֛ום </a></div>\n",
       "<div class=\"features\"> <span class=\"pdp\"><a href=\"https://shebanq.ancient-data.org/hebrew/text?book=Esther&amp;chapter=3&amp;verse=7&amp;version=c&amp;mr=m&amp;qw=q&amp;tp=txt_p&amp;tr=hb&amp;wget=v&amp;qget=v&amp;nget=vt\" title=\"Esther 3:7\" sec=\"Esther 3:7\">subs</a></span> <span class=\"gloss\">day</span> <span class=\"lex xft\"><span class=\"f\">lex=</span>JWM/</span></div>\n",
       "\n",
       "\n",
       "</div>\n",
       "\n",
       "\n",
       "    </div>\n",
       "\n",
       "\n",
       "</div>\n",
       "\n",
       "<div class=\"patom  r l \" >\n",
       "\n",
       "    <div class=\"phrase \" >\n",
       "        <a href=\"https://shebanq.ancient-data.org/hebrew/text?book=Esther&amp;chapter=3&amp;verse=7&amp;version=c&amp;mr=m&amp;qw=q&amp;tp=txt_p&amp;tr=hb&amp;wget=v&amp;qget=v&amp;nget=vt\" title=\"Esther 3:7\" sec=\"Esther 3:7\">phrase</a> <a href=\"#\" class=\"nd\">874577</a>  <span class=\"function\">Time</span> <span class=\"typ\">PP|CP</span>\n",
       "    </div>\n",
       "    <div class=\"atoms\">\n",
       "\n",
       "<div class=\"word  hl\"  style=\"background-color: #ffeead;\" >\n",
       "<a href=\"#\" class=\"nd\">366833</a>\n",
       "<div class=\"h\"><a target=\"_blank\" href=\"https://shebanq.ancient-data.org/hebrew/word?version=c&amp;id=1W\" title=\"show this lexeme in SHEBANQ\">וּ</a></div>\n",
       "<div class=\"features\"> <span class=\"pdp\"><a href=\"https://shebanq.ancient-data.org/hebrew/text?book=Esther&amp;chapter=3&amp;verse=7&amp;version=c&amp;mr=m&amp;qw=q&amp;tp=txt_p&amp;tr=hb&amp;wget=v&amp;qget=v&amp;nget=vt\" title=\"Esther 3:7\" sec=\"Esther 3:7\">conj</a></span> <span class=\"gloss\">and</span> <span class=\"lex xft\"><span class=\"f\">lex=</span>W</span></div>\n",
       "\n",
       "\n",
       "</div>\n",
       "\n",
       "\n",
       "    </div>\n",
       "\n",
       "\n",
       "</div>\n",
       "\n",
       "<div class=\"patom  r l \" >\n",
       "\n",
       "    <div class=\"phrase \" >\n",
       "        <a href=\"https://shebanq.ancient-data.org/hebrew/text?book=Esther&amp;chapter=3&amp;verse=7&amp;version=c&amp;mr=m&amp;qw=q&amp;tp=txt_p&amp;tr=hb&amp;wget=v&amp;qget=v&amp;nget=vt\" title=\"Esther 3:7\" sec=\"Esther 3:7\">phrase</a> <a href=\"#\" class=\"nd\">874577</a>  <span class=\"function\">Time</span> <span class=\"typ\">PP</span>\n",
       "    </div>\n",
       "    <div class=\"atoms\">\n",
       "\n",
       "<div class=\"word  hl\"  style=\"background-color: #96ceb4;\" >\n",
       "<a href=\"#\" class=\"nd\">366834</a>\n",
       "<div class=\"h\"><a target=\"_blank\" href=\"https://shebanq.ancient-data.org/hebrew/word?version=c&amp;id=1MN\" title=\"show this lexeme in SHEBANQ\">מֵ</a></div>\n",
       "<div class=\"features\"> <span class=\"pdp\"><a href=\"https://shebanq.ancient-data.org/hebrew/text?book=Esther&amp;chapter=3&amp;verse=7&amp;version=c&amp;mr=m&amp;qw=q&amp;tp=txt_p&amp;tr=hb&amp;wget=v&amp;qget=v&amp;nget=vt\" title=\"Esther 3:7\" sec=\"Esther 3:7\">prep</a></span> <span class=\"gloss\">from</span> <span class=\"lex xft\"><span class=\"f\">lex=</span>MN</span></div>\n",
       "\n",
       "\n",
       "</div>\n",
       "\n",
       "<div class=\"word  hl\"  style=\"background-color: #96ceb4;\" >\n",
       "<a href=\"#\" class=\"nd\">366835</a>\n",
       "<div class=\"h\"><a target=\"_blank\" href=\"https://shebanq.ancient-data.org/hebrew/word?version=c&amp;id=1XDCin\" title=\"show this lexeme in SHEBANQ\">חֹ֛דֶשׁ </a></div>\n",
       "<div class=\"features\"> <span class=\"pdp\"><a href=\"https://shebanq.ancient-data.org/hebrew/text?book=Esther&amp;chapter=3&amp;verse=7&amp;version=c&amp;mr=m&amp;qw=q&amp;tp=txt_p&amp;tr=hb&amp;wget=v&amp;qget=v&amp;nget=vt\" title=\"Esther 3:7\" sec=\"Esther 3:7\">subs</a></span> <span class=\"gloss\">month</span> <span class=\"lex xft\"><span class=\"f\">lex=</span>XDC=/</span></div>\n",
       "\n",
       "\n",
       "</div>\n",
       "\n",
       "\n",
       "    </div>\n",
       "\n",
       "\n",
       "</div>\n",
       "\n",
       "<div class=\"patom  r \" >\n",
       "\n",
       "    <div class=\"phrase \" >\n",
       "        <a href=\"https://shebanq.ancient-data.org/hebrew/text?book=Esther&amp;chapter=3&amp;verse=7&amp;version=c&amp;mr=m&amp;qw=q&amp;tp=txt_p&amp;tr=hb&amp;wget=v&amp;qget=v&amp;nget=vt\" title=\"Esther 3:7\" sec=\"Esther 3:7\">phrase</a> <a href=\"#\" class=\"nd\">874577</a>  <span class=\"function\">Time</span> <span class=\"typ\">PP</span>\n",
       "    </div>\n",
       "    <div class=\"atoms\">\n",
       "\n",
       "<div class=\"word  \" >\n",
       "<a href=\"#\" class=\"nd\">366836</a>\n",
       "<div class=\"h\"><a target=\"_blank\" href=\"https://shebanq.ancient-data.org/hebrew/word?version=c&amp;id=1L\" title=\"show this lexeme in SHEBANQ\">לְ</a></div>\n",
       "<div class=\"features\"> <span class=\"pdp\"><a href=\"https://shebanq.ancient-data.org/hebrew/text?book=Esther&amp;chapter=3&amp;verse=7&amp;version=c&amp;mr=m&amp;qw=q&amp;tp=txt_p&amp;tr=hb&amp;wget=v&amp;qget=v&amp;nget=vt\" title=\"Esther 3:7\" sec=\"Esther 3:7\">prep</a></span> <span class=\"gloss\">to</span> <span class=\"lex xft\"><span class=\"f\">lex=</span>L</span></div>\n",
       "\n",
       "\n",
       "</div>\n",
       "\n",
       "<div class=\"word  \" >\n",
       "<a href=\"#\" class=\"nd\">366837</a>\n",
       "<div class=\"h\"><a target=\"_blank\" href=\"https://shebanq.ancient-data.org/hebrew/word?version=c&amp;id=1XDCin\" title=\"show this lexeme in SHEBANQ\">חֹ֥דֶשׁ </a></div>\n",
       "<div class=\"features\"> <span class=\"pdp\"><a href=\"https://shebanq.ancient-data.org/hebrew/text?book=Esther&amp;chapter=3&amp;verse=7&amp;version=c&amp;mr=m&amp;qw=q&amp;tp=txt_p&amp;tr=hb&amp;wget=v&amp;qget=v&amp;nget=vt\" title=\"Esther 3:7\" sec=\"Esther 3:7\">subs</a></span> <span class=\"gloss\">month</span> <span class=\"lex xft\"><span class=\"f\">lex=</span>XDC=/</span></div>\n",
       "\n",
       "\n",
       "</div>\n",
       "\n",
       "<div class=\"word  \" >\n",
       "<a href=\"#\" class=\"nd\">366838</a>\n",
       "<div class=\"h\"><a target=\"_blank\" href=\"https://shebanq.ancient-data.org/hebrew/word?version=c&amp;id=1CNJMn\" title=\"show this lexeme in SHEBANQ\">שְׁנֵים־</a></div>\n",
       "<div class=\"features\"> <span class=\"pdp\"><a href=\"https://shebanq.ancient-data.org/hebrew/text?book=Esther&amp;chapter=3&amp;verse=7&amp;version=c&amp;mr=m&amp;qw=q&amp;tp=txt_p&amp;tr=hb&amp;wget=v&amp;qget=v&amp;nget=vt\" title=\"Esther 3:7\" sec=\"Esther 3:7\">subs</a></span> <span class=\"gloss\">two</span> <span class=\"lex xft\"><span class=\"f\">lex=</span>CNJM/</span></div>\n",
       "\n",
       "\n",
       "</div>\n",
       "\n",
       "<div class=\"word  \" >\n",
       "<a href=\"#\" class=\"nd\">366839</a>\n",
       "<div class=\"h\"><a target=\"_blank\" href=\"https://shebanq.ancient-data.org/hebrew/word?version=c&amp;id=1OFRn\" title=\"show this lexeme in SHEBANQ\">עָשָׂ֖ר </a></div>\n",
       "<div class=\"features\"> <span class=\"pdp\"><a href=\"https://shebanq.ancient-data.org/hebrew/text?book=Esther&amp;chapter=3&amp;verse=7&amp;version=c&amp;mr=m&amp;qw=q&amp;tp=txt_p&amp;tr=hb&amp;wget=v&amp;qget=v&amp;nget=vt\" title=\"Esther 3:7\" sec=\"Esther 3:7\">subs</a></span> <span class=\"gloss\">-teen</span> <span class=\"lex xft\"><span class=\"f\">lex=</span>&lt;FR/</span></div>\n",
       "\n",
       "\n",
       "</div>\n",
       "\n",
       "\n",
       "    </div>\n",
       "\n",
       "\n",
       "</div>\n",
       "\n",
       "\n",
       "</div>\n"
      ],
      "text/plain": [
       "<IPython.core.display.HTML object>"
      ]
     },
     "metadata": {},
     "output_type": "display_data"
    },
    {
     "data": {
      "text/html": [
       "<div style=\"background: #96ceb4; text-align: center\">part2</div>"
      ],
      "text/plain": [
       "<IPython.core.display.HTML object>"
      ]
     },
     "metadata": {},
     "output_type": "display_data"
    },
    {
     "data": {
      "text/html": [
       "<div style=\"background: #ffeead; text-align: center\">conj</div>"
      ],
      "text/plain": [
       "<IPython.core.display.HTML object>"
      ]
     },
     "metadata": {},
     "output_type": "display_data"
    },
    {
     "data": {
      "text/html": [
       "<div style=\"background: #ffcc5c; text-align: center\">part1</div>"
      ],
      "text/plain": [
       "<IPython.core.display.HTML object>"
      ]
     },
     "metadata": {},
     "output_type": "display_data"
    },
    {
     "name": "stdout",
     "output_type": "stream",
     "text": [
      "{   '__cx__': 'coord',\n",
      "    'conj': {'__cx__': 'conj', 'head': 366833},\n",
      "    'part1': {   '__cx__': 'prep_ph',\n",
      "                 'head': {'__cx__': 'cont', 'head': 366832},\n",
      "                 'prep': {'__cx__': 'prep', 'head': 366831}},\n",
      "    'part2': {   '__cx__': 'prep_ph',\n",
      "                 'head': {'__cx__': 'cont', 'head': 366835},\n",
      "                 'prep': {'__cx__': 'prep', 'head': 366834}}}\n",
      "\n"
     ]
    },
    {
     "data": {
      "text/html": [
       "<hr>"
      ],
      "text/plain": [
       "<IPython.core.display.HTML object>"
      ]
     },
     "metadata": {},
     "output_type": "display_data"
    },
    {
     "data": {
      "text/html": [
       "<p><b>result</b> <i>1450199 -> CX coord {369581, 369582, 369583, 369585, 369586, 369587, 369588}</i></p>"
      ],
      "text/plain": [
       "<IPython.core.display.HTML object>"
      ]
     },
     "metadata": {},
     "output_type": "display_data"
    },
    {
     "data": {
      "text/html": [
       "<a href=\"https://shebanq.ancient-data.org/hebrew/text?book=Esther&amp;chapter=9&amp;verse=18&amp;version=c&amp;mr=m&amp;qw=q&amp;tp=txt_p&amp;tr=hb&amp;wget=v&amp;qget=v&amp;nget=vt\" title=\"show this passage in SHEBANQ\" sec=\"Esther 9:18\">Esther 9:18</a>\n",
       "<div class=\"atoms  \" >\n",
       "<a href=\"#\" class=\"nd\">876011</a>\n",
       "\n",
       "\n",
       "\n",
       "<div class=\"patom  l \" >\n",
       "\n",
       "    <div class=\"phrase \" >\n",
       "        <a href=\"https://shebanq.ancient-data.org/hebrew/text?book=Esther&amp;chapter=9&amp;verse=18&amp;version=c&amp;mr=m&amp;qw=q&amp;tp=txt_p&amp;tr=hb&amp;wget=v&amp;qget=v&amp;nget=vt\" title=\"Esther 9:18\" sec=\"Esther 9:18\">phrase</a> <a href=\"#\" class=\"nd\">876011</a>  <span class=\"function\">Time</span> <span class=\"typ\">PP</span>\n",
       "    </div>\n",
       "    <div class=\"atoms\">\n",
       "\n",
       "<div class=\"word  hl\"  style=\"background-color: #ffcc5c;\" >\n",
       "<a href=\"#\" class=\"nd\">369581</a>\n",
       "<div class=\"h\"><a target=\"_blank\" href=\"https://shebanq.ancient-data.org/hebrew/word?version=c&amp;id=1B\" title=\"show this lexeme in SHEBANQ\">בִּ</a></div>\n",
       "<div class=\"features\"> <span class=\"pdp\"><a href=\"https://shebanq.ancient-data.org/hebrew/text?book=Esther&amp;chapter=9&amp;verse=18&amp;version=c&amp;mr=m&amp;qw=q&amp;tp=txt_p&amp;tr=hb&amp;wget=v&amp;qget=v&amp;nget=vt\" title=\"Esther 9:18\" sec=\"Esther 9:18\">prep</a></span> <span class=\"gloss\">in</span> <span class=\"lex xft\"><span class=\"f\">lex=</span>B</span></div>\n",
       "\n",
       "\n",
       "</div>\n",
       "\n",
       "<div class=\"word  hl\"  style=\"background-color: #ffcc5c;\" >\n",
       "<a href=\"#\" class=\"nd\">369582</a>\n",
       "<div class=\"h\"><a target=\"_blank\" href=\"https://shebanq.ancient-data.org/hebrew/word?version=c&amp;id=1CLCn\" title=\"show this lexeme in SHEBANQ\">שְׁלֹשָׁ֤ה </a></div>\n",
       "<div class=\"features\"> <span class=\"pdp\"><a href=\"https://shebanq.ancient-data.org/hebrew/text?book=Esther&amp;chapter=9&amp;verse=18&amp;version=c&amp;mr=m&amp;qw=q&amp;tp=txt_p&amp;tr=hb&amp;wget=v&amp;qget=v&amp;nget=vt\" title=\"Esther 9:18\" sec=\"Esther 9:18\">subs</a></span> <span class=\"gloss\">three</span> <span class=\"lex xft\"><span class=\"f\">lex=</span>CLC/</span></div>\n",
       "\n",
       "\n",
       "</div>\n",
       "\n",
       "<div class=\"word  hl\"  style=\"background-color: #ffcc5c;\" >\n",
       "<a href=\"#\" class=\"nd\">369583</a>\n",
       "<div class=\"h\"><a target=\"_blank\" href=\"https://shebanq.ancient-data.org/hebrew/word?version=c&amp;id=1OFRn\" title=\"show this lexeme in SHEBANQ\">עָשָׂר֙ </a></div>\n",
       "<div class=\"features\"> <span class=\"pdp\"><a href=\"https://shebanq.ancient-data.org/hebrew/text?book=Esther&amp;chapter=9&amp;verse=18&amp;version=c&amp;mr=m&amp;qw=q&amp;tp=txt_p&amp;tr=hb&amp;wget=v&amp;qget=v&amp;nget=vt\" title=\"Esther 9:18\" sec=\"Esther 9:18\">subs</a></span> <span class=\"gloss\">-teen</span> <span class=\"lex xft\"><span class=\"f\">lex=</span>&lt;FR/</span></div>\n",
       "\n",
       "\n",
       "</div>\n",
       "\n",
       "\n",
       "    </div>\n",
       "\n",
       "\n",
       "</div>\n",
       "\n",
       "<div class=\"patom  r l \" >\n",
       "\n",
       "    <div class=\"phrase \" >\n",
       "        <a href=\"https://shebanq.ancient-data.org/hebrew/text?book=Esther&amp;chapter=9&amp;verse=18&amp;version=c&amp;mr=m&amp;qw=q&amp;tp=txt_p&amp;tr=hb&amp;wget=v&amp;qget=v&amp;nget=vt\" title=\"Esther 9:18\" sec=\"Esther 9:18\">phrase</a> <a href=\"#\" class=\"nd\">876011</a>  <span class=\"function\">Time</span> <span class=\"typ\">PP</span>\n",
       "    </div>\n",
       "    <div class=\"atoms\">\n",
       "\n",
       "<div class=\"word  \" >\n",
       "<a href=\"#\" class=\"nd\">369584</a>\n",
       "<div class=\"h\"><a target=\"_blank\" href=\"https://shebanq.ancient-data.org/hebrew/word?version=c&amp;id=1B\" title=\"show this lexeme in SHEBANQ\">בֹּ֔ו </a></div>\n",
       "<div class=\"features\"> <span class=\"pdp\"><a href=\"https://shebanq.ancient-data.org/hebrew/text?book=Esther&amp;chapter=9&amp;verse=18&amp;version=c&amp;mr=m&amp;qw=q&amp;tp=txt_p&amp;tr=hb&amp;wget=v&amp;qget=v&amp;nget=vt\" title=\"Esther 9:18\" sec=\"Esther 9:18\">prep</a></span> <span class=\"gloss\">in</span> <span class=\"lex xft\"><span class=\"f\">lex=</span>B</span></div>\n",
       "\n",
       "\n",
       "</div>\n",
       "\n",
       "\n",
       "    </div>\n",
       "\n",
       "\n",
       "</div>\n",
       "\n",
       "<div class=\"patom  r l \" >\n",
       "\n",
       "    <div class=\"phrase \" >\n",
       "        <a href=\"https://shebanq.ancient-data.org/hebrew/text?book=Esther&amp;chapter=9&amp;verse=18&amp;version=c&amp;mr=m&amp;qw=q&amp;tp=txt_p&amp;tr=hb&amp;wget=v&amp;qget=v&amp;nget=vt\" title=\"Esther 9:18\" sec=\"Esther 9:18\">phrase</a> <a href=\"#\" class=\"nd\">876011</a>  <span class=\"function\">Time</span> <span class=\"typ\">PP|CP</span>\n",
       "    </div>\n",
       "    <div class=\"atoms\">\n",
       "\n",
       "<div class=\"word  hl\"  style=\"background-color: #ffeead;\" >\n",
       "<a href=\"#\" class=\"nd\">369585</a>\n",
       "<div class=\"h\"><a target=\"_blank\" href=\"https://shebanq.ancient-data.org/hebrew/word?version=c&amp;id=1W\" title=\"show this lexeme in SHEBANQ\">וּ</a></div>\n",
       "<div class=\"features\"> <span class=\"pdp\"><a href=\"https://shebanq.ancient-data.org/hebrew/text?book=Esther&amp;chapter=9&amp;verse=18&amp;version=c&amp;mr=m&amp;qw=q&amp;tp=txt_p&amp;tr=hb&amp;wget=v&amp;qget=v&amp;nget=vt\" title=\"Esther 9:18\" sec=\"Esther 9:18\">conj</a></span> <span class=\"gloss\">and</span> <span class=\"lex xft\"><span class=\"f\">lex=</span>W</span></div>\n",
       "\n",
       "\n",
       "</div>\n",
       "\n",
       "\n",
       "    </div>\n",
       "\n",
       "\n",
       "</div>\n",
       "\n",
       "<div class=\"patom  r l \" >\n",
       "\n",
       "    <div class=\"phrase \" >\n",
       "        <a href=\"https://shebanq.ancient-data.org/hebrew/text?book=Esther&amp;chapter=9&amp;verse=18&amp;version=c&amp;mr=m&amp;qw=q&amp;tp=txt_p&amp;tr=hb&amp;wget=v&amp;qget=v&amp;nget=vt\" title=\"Esther 9:18\" sec=\"Esther 9:18\">phrase</a> <a href=\"#\" class=\"nd\">876011</a>  <span class=\"function\">Time</span> <span class=\"typ\">PP</span>\n",
       "    </div>\n",
       "    <div class=\"atoms\">\n",
       "\n",
       "<div class=\"word  hl\"  style=\"background-color: #96ceb4;\" >\n",
       "<a href=\"#\" class=\"nd\">369586</a>\n",
       "<div class=\"h\"><a target=\"_blank\" href=\"https://shebanq.ancient-data.org/hebrew/word?version=c&amp;id=1B\" title=\"show this lexeme in SHEBANQ\">בְ</a></div>\n",
       "<div class=\"features\"> <span class=\"pdp\"><a href=\"https://shebanq.ancient-data.org/hebrew/text?book=Esther&amp;chapter=9&amp;verse=18&amp;version=c&amp;mr=m&amp;qw=q&amp;tp=txt_p&amp;tr=hb&amp;wget=v&amp;qget=v&amp;nget=vt\" title=\"Esther 9:18\" sec=\"Esther 9:18\">prep</a></span> <span class=\"gloss\">in</span> <span class=\"lex xft\"><span class=\"f\">lex=</span>B</span></div>\n",
       "\n",
       "\n",
       "</div>\n",
       "\n",
       "<div class=\"word  hl\"  style=\"background-color: #96ceb4;\" >\n",
       "<a href=\"#\" class=\"nd\">369587</a>\n",
       "<div class=\"h\"><a target=\"_blank\" href=\"https://shebanq.ancient-data.org/hebrew/word?version=c&amp;id=1ARBOn\" title=\"show this lexeme in SHEBANQ\">אַרְבָּעָ֥ה </a></div>\n",
       "<div class=\"features\"> <span class=\"pdp\"><a href=\"https://shebanq.ancient-data.org/hebrew/text?book=Esther&amp;chapter=9&amp;verse=18&amp;version=c&amp;mr=m&amp;qw=q&amp;tp=txt_p&amp;tr=hb&amp;wget=v&amp;qget=v&amp;nget=vt\" title=\"Esther 9:18\" sec=\"Esther 9:18\">subs</a></span> <span class=\"gloss\">four</span> <span class=\"lex xft\"><span class=\"f\">lex=</span>>RB&lt;/</span></div>\n",
       "\n",
       "\n",
       "</div>\n",
       "\n",
       "<div class=\"word  hl\"  style=\"background-color: #96ceb4;\" >\n",
       "<a href=\"#\" class=\"nd\">369588</a>\n",
       "<div class=\"h\"><a target=\"_blank\" href=\"https://shebanq.ancient-data.org/hebrew/word?version=c&amp;id=1OFRn\" title=\"show this lexeme in SHEBANQ\">עָשָׂ֖ר </a></div>\n",
       "<div class=\"features\"> <span class=\"pdp\"><a href=\"https://shebanq.ancient-data.org/hebrew/text?book=Esther&amp;chapter=9&amp;verse=18&amp;version=c&amp;mr=m&amp;qw=q&amp;tp=txt_p&amp;tr=hb&amp;wget=v&amp;qget=v&amp;nget=vt\" title=\"Esther 9:18\" sec=\"Esther 9:18\">subs</a></span> <span class=\"gloss\">-teen</span> <span class=\"lex xft\"><span class=\"f\">lex=</span>&lt;FR/</span></div>\n",
       "\n",
       "\n",
       "</div>\n",
       "\n",
       "\n",
       "    </div>\n",
       "\n",
       "\n",
       "</div>\n",
       "\n",
       "<div class=\"patom  r \" >\n",
       "\n",
       "    <div class=\"phrase \" >\n",
       "        <a href=\"https://shebanq.ancient-data.org/hebrew/text?book=Esther&amp;chapter=9&amp;verse=18&amp;version=c&amp;mr=m&amp;qw=q&amp;tp=txt_p&amp;tr=hb&amp;wget=v&amp;qget=v&amp;nget=vt\" title=\"Esther 9:18\" sec=\"Esther 9:18\">phrase</a> <a href=\"#\" class=\"nd\">876011</a>  <span class=\"function\">Time</span> <span class=\"typ\">PP</span>\n",
       "    </div>\n",
       "    <div class=\"atoms\">\n",
       "\n",
       "<div class=\"word  \" >\n",
       "<a href=\"#\" class=\"nd\">369589</a>\n",
       "<div class=\"h\"><a target=\"_blank\" href=\"https://shebanq.ancient-data.org/hebrew/word?version=c&amp;id=1B\" title=\"show this lexeme in SHEBANQ\">בֹּ֑ו </a></div>\n",
       "<div class=\"features\"> <span class=\"pdp\"><a href=\"https://shebanq.ancient-data.org/hebrew/text?book=Esther&amp;chapter=9&amp;verse=18&amp;version=c&amp;mr=m&amp;qw=q&amp;tp=txt_p&amp;tr=hb&amp;wget=v&amp;qget=v&amp;nget=vt\" title=\"Esther 9:18\" sec=\"Esther 9:18\">prep</a></span> <span class=\"gloss\">in</span> <span class=\"lex xft\"><span class=\"f\">lex=</span>B</span></div>\n",
       "\n",
       "\n",
       "</div>\n",
       "\n",
       "\n",
       "    </div>\n",
       "\n",
       "\n",
       "</div>\n",
       "\n",
       "\n",
       "</div>\n"
      ],
      "text/plain": [
       "<IPython.core.display.HTML object>"
      ]
     },
     "metadata": {},
     "output_type": "display_data"
    },
    {
     "data": {
      "text/html": [
       "<div style=\"background: #96ceb4; text-align: center\">part2</div>"
      ],
      "text/plain": [
       "<IPython.core.display.HTML object>"
      ]
     },
     "metadata": {},
     "output_type": "display_data"
    },
    {
     "data": {
      "text/html": [
       "<div style=\"background: #ffeead; text-align: center\">conj</div>"
      ],
      "text/plain": [
       "<IPython.core.display.HTML object>"
      ]
     },
     "metadata": {},
     "output_type": "display_data"
    },
    {
     "data": {
      "text/html": [
       "<div style=\"background: #ffcc5c; text-align: center\">part1</div>"
      ],
      "text/plain": [
       "<IPython.core.display.HTML object>"
      ]
     },
     "metadata": {},
     "output_type": "display_data"
    },
    {
     "name": "stdout",
     "output_type": "stream",
     "text": [
      "{   '__cx__': 'coord',\n",
      "    'conj': {'__cx__': 'conj', 'head': 369585},\n",
      "    'part1': {   '__cx__': 'prep_ph',\n",
      "                 'head': {   '__cx__': 'card_chain',\n",
      "                             'card': {'__cx__': 'card', 'head': 369583},\n",
      "                             'head': {'__cx__': 'card', 'head': 369582}},\n",
      "                 'prep': {'__cx__': 'prep', 'head': 369581}},\n",
      "    'part2': {   '__cx__': 'prep_ph',\n",
      "                 'head': {   '__cx__': 'card_chain',\n",
      "                             'card': {'__cx__': 'card', 'head': 369588},\n",
      "                             'head': {'__cx__': 'card', 'head': 369587}},\n",
      "                 'prep': {'__cx__': 'prep', 'head': 369586}}}\n",
      "\n"
     ]
    },
    {
     "data": {
      "text/html": [
       "<hr>"
      ],
      "text/plain": [
       "<IPython.core.display.HTML object>"
      ]
     },
     "metadata": {},
     "output_type": "display_data"
    },
    {
     "data": {
      "text/html": [
       "<p><b>result</b> <i>1450201 -> CX coord {369683, 369684, 369685}</i></p>"
      ],
      "text/plain": [
       "<IPython.core.display.HTML object>"
      ]
     },
     "metadata": {},
     "output_type": "display_data"
    },
    {
     "data": {
      "text/html": [
       "<a href=\"https://shebanq.ancient-data.org/hebrew/text?book=Esther&amp;chapter=9&amp;verse=21&amp;version=c&amp;mr=m&amp;qw=q&amp;tp=txt_p&amp;tr=hb&amp;wget=v&amp;qget=v&amp;nget=vt\" title=\"show this passage in SHEBANQ\" sec=\"Esther 9:21\">Esther 9:21</a>\n",
       "<div class=\"atoms  \" >\n",
       "<a href=\"#\" class=\"nd\">876049</a>\n",
       "\n",
       "\n",
       "\n",
       "<div class=\"patom  \" >\n",
       "\n",
       "    <div class=\"phrase \" >\n",
       "        <a href=\"https://shebanq.ancient-data.org/hebrew/text?book=Esther&amp;chapter=9&amp;verse=21&amp;version=c&amp;mr=m&amp;qw=q&amp;tp=txt_p&amp;tr=hb&amp;wget=v&amp;qget=v&amp;nget=vt\" title=\"Esther 9:21\" sec=\"Esther 9:21\">phrase</a> <a href=\"#\" class=\"nd\">876049</a>  <span class=\"function\">Time</span> <span class=\"typ\">PP</span>\n",
       "    </div>\n",
       "    <div class=\"atoms\">\n",
       "\n",
       "<div class=\"word  \" >\n",
       "<a href=\"#\" class=\"nd\">369681</a>\n",
       "<div class=\"h\"><a target=\"_blank\" href=\"https://shebanq.ancient-data.org/hebrew/word?version=c&amp;id=1B\" title=\"show this lexeme in SHEBANQ\">בְּ</a></div>\n",
       "<div class=\"features\"> <span class=\"pdp\"><a href=\"https://shebanq.ancient-data.org/hebrew/text?book=Esther&amp;chapter=9&amp;verse=21&amp;version=c&amp;mr=m&amp;qw=q&amp;tp=txt_p&amp;tr=hb&amp;wget=v&amp;qget=v&amp;nget=vt\" title=\"Esther 9:21\" sec=\"Esther 9:21\">prep</a></span> <span class=\"gloss\">in</span> <span class=\"lex xft\"><span class=\"f\">lex=</span>B</span></div>\n",
       "\n",
       "\n",
       "</div>\n",
       "\n",
       "<div class=\"word  \" >\n",
       "<a href=\"#\" class=\"nd\">369682</a>\n",
       "<div class=\"h\"><a target=\"_blank\" href=\"https://shebanq.ancient-data.org/hebrew/word?version=c&amp;id=1KLn\" title=\"show this lexeme in SHEBANQ\">כָל־</a></div>\n",
       "<div class=\"features\"> <span class=\"pdp\"><a href=\"https://shebanq.ancient-data.org/hebrew/text?book=Esther&amp;chapter=9&amp;verse=21&amp;version=c&amp;mr=m&amp;qw=q&amp;tp=txt_p&amp;tr=hb&amp;wget=v&amp;qget=v&amp;nget=vt\" title=\"Esther 9:21\" sec=\"Esther 9:21\">subs</a></span> <span class=\"gloss\">whole</span> <span class=\"lex xft\"><span class=\"f\">lex=</span>KL/</span></div>\n",
       "\n",
       "\n",
       "</div>\n",
       "\n",
       "<div class=\"word  hl\"  style=\"background-color: #ffcc5c;\" >\n",
       "<a href=\"#\" class=\"nd\">369683</a>\n",
       "<div class=\"h\"><a target=\"_blank\" href=\"https://shebanq.ancient-data.org/hebrew/word?version=c&amp;id=1CNHn\" title=\"show this lexeme in SHEBANQ\">שָׁנָ֖ה </a></div>\n",
       "<div class=\"features\"> <span class=\"pdp\"><a href=\"https://shebanq.ancient-data.org/hebrew/text?book=Esther&amp;chapter=9&amp;verse=21&amp;version=c&amp;mr=m&amp;qw=q&amp;tp=txt_p&amp;tr=hb&amp;wget=v&amp;qget=v&amp;nget=vt\" title=\"Esther 9:21\" sec=\"Esther 9:21\">subs</a></span> <span class=\"gloss\">year</span> <span class=\"lex xft\"><span class=\"f\">lex=</span>CNH/</span></div>\n",
       "\n",
       "\n",
       "</div>\n",
       "\n",
       "<div class=\"word  hl\"  style=\"background-color: #ffeead;\" >\n",
       "<a href=\"#\" class=\"nd\">369684</a>\n",
       "<div class=\"h\"><a target=\"_blank\" href=\"https://shebanq.ancient-data.org/hebrew/word?version=c&amp;id=1W\" title=\"show this lexeme in SHEBANQ\">וְ</a></div>\n",
       "<div class=\"features\"> <span class=\"pdp\"><a href=\"https://shebanq.ancient-data.org/hebrew/text?book=Esther&amp;chapter=9&amp;verse=21&amp;version=c&amp;mr=m&amp;qw=q&amp;tp=txt_p&amp;tr=hb&amp;wget=v&amp;qget=v&amp;nget=vt\" title=\"Esther 9:21\" sec=\"Esther 9:21\">conj</a></span> <span class=\"gloss\">and</span> <span class=\"lex xft\"><span class=\"f\">lex=</span>W</span></div>\n",
       "\n",
       "\n",
       "</div>\n",
       "\n",
       "<div class=\"word  hl\"  style=\"background-color: #96ceb4;\" >\n",
       "<a href=\"#\" class=\"nd\">369685</a>\n",
       "<div class=\"h\"><a target=\"_blank\" href=\"https://shebanq.ancient-data.org/hebrew/word?version=c&amp;id=1CNHn\" title=\"show this lexeme in SHEBANQ\">שָׁנָֽה׃ </a></div>\n",
       "<div class=\"features\"> <span class=\"pdp\"><a href=\"https://shebanq.ancient-data.org/hebrew/text?book=Esther&amp;chapter=9&amp;verse=21&amp;version=c&amp;mr=m&amp;qw=q&amp;tp=txt_p&amp;tr=hb&amp;wget=v&amp;qget=v&amp;nget=vt\" title=\"Esther 9:21\" sec=\"Esther 9:21\">subs</a></span> <span class=\"gloss\">year</span> <span class=\"lex xft\"><span class=\"f\">lex=</span>CNH/</span></div>\n",
       "\n",
       "\n",
       "</div>\n",
       "\n",
       "\n",
       "    </div>\n",
       "\n",
       "\n",
       "</div>\n",
       "\n",
       "\n",
       "</div>\n"
      ],
      "text/plain": [
       "<IPython.core.display.HTML object>"
      ]
     },
     "metadata": {},
     "output_type": "display_data"
    },
    {
     "data": {
      "text/html": [
       "<div style=\"background: #96ceb4; text-align: center\">part2</div>"
      ],
      "text/plain": [
       "<IPython.core.display.HTML object>"
      ]
     },
     "metadata": {},
     "output_type": "display_data"
    },
    {
     "data": {
      "text/html": [
       "<div style=\"background: #ffeead; text-align: center\">conj</div>"
      ],
      "text/plain": [
       "<IPython.core.display.HTML object>"
      ]
     },
     "metadata": {},
     "output_type": "display_data"
    },
    {
     "data": {
      "text/html": [
       "<div style=\"background: #ffcc5c; text-align: center\">part1</div>"
      ],
      "text/plain": [
       "<IPython.core.display.HTML object>"
      ]
     },
     "metadata": {},
     "output_type": "display_data"
    },
    {
     "name": "stdout",
     "output_type": "stream",
     "text": [
      "{   '__cx__': 'coord',\n",
      "    'conj': {'__cx__': 'conj', 'head': 369684},\n",
      "    'part1': {'__cx__': 'cont', 'head': 369683},\n",
      "    'part2': {'__cx__': 'cont', 'head': 369685}}\n",
      "\n"
     ]
    },
    {
     "data": {
      "text/html": [
       "<hr>"
      ],
      "text/plain": [
       "<IPython.core.display.HTML object>"
      ]
     },
     "metadata": {},
     "output_type": "display_data"
    },
    {
     "data": {
      "text/html": [
       "<p><b>result</b> <i>1450202 -> CX coord {369868, 369869, 369870}</i></p>"
      ],
      "text/plain": [
       "<IPython.core.display.HTML object>"
      ]
     },
     "metadata": {},
     "output_type": "display_data"
    },
    {
     "data": {
      "text/html": [
       "<a href=\"https://shebanq.ancient-data.org/hebrew/text?book=Esther&amp;chapter=9&amp;verse=27&amp;version=c&amp;mr=m&amp;qw=q&amp;tp=txt_p&amp;tr=hb&amp;wget=v&amp;qget=v&amp;nget=vt\" title=\"show this passage in SHEBANQ\" sec=\"Esther 9:27\">Esther 9:27</a>\n",
       "<div class=\"atoms  \" >\n",
       "<a href=\"#\" class=\"nd\">876142</a>\n",
       "\n",
       "\n",
       "\n",
       "<div class=\"patom  \" >\n",
       "\n",
       "    <div class=\"phrase \" >\n",
       "        <a href=\"https://shebanq.ancient-data.org/hebrew/text?book=Esther&amp;chapter=9&amp;verse=27&amp;version=c&amp;mr=m&amp;qw=q&amp;tp=txt_p&amp;tr=hb&amp;wget=v&amp;qget=v&amp;nget=vt\" title=\"Esther 9:27\" sec=\"Esther 9:27\">phrase</a> <a href=\"#\" class=\"nd\">876142</a>  <span class=\"function\">Time</span> <span class=\"typ\">PP</span>\n",
       "    </div>\n",
       "    <div class=\"atoms\">\n",
       "\n",
       "<div class=\"word  \" >\n",
       "<a href=\"#\" class=\"nd\">369866</a>\n",
       "<div class=\"h\"><a target=\"_blank\" href=\"https://shebanq.ancient-data.org/hebrew/word?version=c&amp;id=1B\" title=\"show this lexeme in SHEBANQ\">בְּ</a></div>\n",
       "<div class=\"features\"> <span class=\"pdp\"><a href=\"https://shebanq.ancient-data.org/hebrew/text?book=Esther&amp;chapter=9&amp;verse=27&amp;version=c&amp;mr=m&amp;qw=q&amp;tp=txt_p&amp;tr=hb&amp;wget=v&amp;qget=v&amp;nget=vt\" title=\"Esther 9:27\" sec=\"Esther 9:27\">prep</a></span> <span class=\"gloss\">in</span> <span class=\"lex xft\"><span class=\"f\">lex=</span>B</span></div>\n",
       "\n",
       "\n",
       "</div>\n",
       "\n",
       "<div class=\"word  \" >\n",
       "<a href=\"#\" class=\"nd\">369867</a>\n",
       "<div class=\"h\"><a target=\"_blank\" href=\"https://shebanq.ancient-data.org/hebrew/word?version=c&amp;id=1KLn\" title=\"show this lexeme in SHEBANQ\">כָל־</a></div>\n",
       "<div class=\"features\"> <span class=\"pdp\"><a href=\"https://shebanq.ancient-data.org/hebrew/text?book=Esther&amp;chapter=9&amp;verse=27&amp;version=c&amp;mr=m&amp;qw=q&amp;tp=txt_p&amp;tr=hb&amp;wget=v&amp;qget=v&amp;nget=vt\" title=\"Esther 9:27\" sec=\"Esther 9:27\">subs</a></span> <span class=\"gloss\">whole</span> <span class=\"lex xft\"><span class=\"f\">lex=</span>KL/</span></div>\n",
       "\n",
       "\n",
       "</div>\n",
       "\n",
       "<div class=\"word  hl\"  style=\"background-color: #ffcc5c;\" >\n",
       "<a href=\"#\" class=\"nd\">369868</a>\n",
       "<div class=\"h\"><a target=\"_blank\" href=\"https://shebanq.ancient-data.org/hebrew/word?version=c&amp;id=1CNHn\" title=\"show this lexeme in SHEBANQ\">שָׁנָ֖ה </a></div>\n",
       "<div class=\"features\"> <span class=\"pdp\"><a href=\"https://shebanq.ancient-data.org/hebrew/text?book=Esther&amp;chapter=9&amp;verse=27&amp;version=c&amp;mr=m&amp;qw=q&amp;tp=txt_p&amp;tr=hb&amp;wget=v&amp;qget=v&amp;nget=vt\" title=\"Esther 9:27\" sec=\"Esther 9:27\">subs</a></span> <span class=\"gloss\">year</span> <span class=\"lex xft\"><span class=\"f\">lex=</span>CNH/</span></div>\n",
       "\n",
       "\n",
       "</div>\n",
       "\n",
       "<div class=\"word  hl\"  style=\"background-color: #ffeead;\" >\n",
       "<a href=\"#\" class=\"nd\">369869</a>\n",
       "<div class=\"h\"><a target=\"_blank\" href=\"https://shebanq.ancient-data.org/hebrew/word?version=c&amp;id=1W\" title=\"show this lexeme in SHEBANQ\">וְ</a></div>\n",
       "<div class=\"features\"> <span class=\"pdp\"><a href=\"https://shebanq.ancient-data.org/hebrew/text?book=Esther&amp;chapter=9&amp;verse=27&amp;version=c&amp;mr=m&amp;qw=q&amp;tp=txt_p&amp;tr=hb&amp;wget=v&amp;qget=v&amp;nget=vt\" title=\"Esther 9:27\" sec=\"Esther 9:27\">conj</a></span> <span class=\"gloss\">and</span> <span class=\"lex xft\"><span class=\"f\">lex=</span>W</span></div>\n",
       "\n",
       "\n",
       "</div>\n",
       "\n",
       "<div class=\"word  hl\"  style=\"background-color: #96ceb4;\" >\n",
       "<a href=\"#\" class=\"nd\">369870</a>\n",
       "<div class=\"h\"><a target=\"_blank\" href=\"https://shebanq.ancient-data.org/hebrew/word?version=c&amp;id=1CNHn\" title=\"show this lexeme in SHEBANQ\">שָׁנָֽה׃ </a></div>\n",
       "<div class=\"features\"> <span class=\"pdp\"><a href=\"https://shebanq.ancient-data.org/hebrew/text?book=Esther&amp;chapter=9&amp;verse=27&amp;version=c&amp;mr=m&amp;qw=q&amp;tp=txt_p&amp;tr=hb&amp;wget=v&amp;qget=v&amp;nget=vt\" title=\"Esther 9:27\" sec=\"Esther 9:27\">subs</a></span> <span class=\"gloss\">year</span> <span class=\"lex xft\"><span class=\"f\">lex=</span>CNH/</span></div>\n",
       "\n",
       "\n",
       "</div>\n",
       "\n",
       "\n",
       "    </div>\n",
       "\n",
       "\n",
       "</div>\n",
       "\n",
       "\n",
       "</div>\n"
      ],
      "text/plain": [
       "<IPython.core.display.HTML object>"
      ]
     },
     "metadata": {},
     "output_type": "display_data"
    },
    {
     "data": {
      "text/html": [
       "<div style=\"background: #96ceb4; text-align: center\">part2</div>"
      ],
      "text/plain": [
       "<IPython.core.display.HTML object>"
      ]
     },
     "metadata": {},
     "output_type": "display_data"
    },
    {
     "data": {
      "text/html": [
       "<div style=\"background: #ffeead; text-align: center\">conj</div>"
      ],
      "text/plain": [
       "<IPython.core.display.HTML object>"
      ]
     },
     "metadata": {},
     "output_type": "display_data"
    },
    {
     "data": {
      "text/html": [
       "<div style=\"background: #ffcc5c; text-align: center\">part1</div>"
      ],
      "text/plain": [
       "<IPython.core.display.HTML object>"
      ]
     },
     "metadata": {},
     "output_type": "display_data"
    },
    {
     "name": "stdout",
     "output_type": "stream",
     "text": [
      "{   '__cx__': 'coord',\n",
      "    'conj': {'__cx__': 'conj', 'head': 369869},\n",
      "    'part1': {'__cx__': 'cont', 'head': 369868},\n",
      "    'part2': {'__cx__': 'cont', 'head': 369870}}\n",
      "\n"
     ]
    },
    {
     "data": {
      "text/html": [
       "<hr>"
      ],
      "text/plain": [
       "<IPython.core.display.HTML object>"
      ]
     },
     "metadata": {},
     "output_type": "display_data"
    },
    {
     "data": {
      "text/html": [
       "<p><b>result</b> <i>1450250 -> CX coord {377952, 377950, 377951}</i></p>"
      ],
      "text/plain": [
       "<IPython.core.display.HTML object>"
      ]
     },
     "metadata": {},
     "output_type": "display_data"
    },
    {
     "data": {
      "text/html": [
       "<a href=\"https://shebanq.ancient-data.org/hebrew/text?book=Daniel&amp;chapter=12&amp;verse=3&amp;version=c&amp;mr=m&amp;qw=q&amp;tp=txt_p&amp;tr=hb&amp;wget=v&amp;qget=v&amp;nget=vt\" title=\"show this passage in SHEBANQ\" sec=\"Daniel 12:3\">Daniel 12:3</a>\n",
       "<div class=\"atoms  \" >\n",
       "<a href=\"#\" class=\"nd\">881178</a>\n",
       "\n",
       "\n",
       "\n",
       "<div class=\"patom  \" >\n",
       "\n",
       "    <div class=\"phrase \" >\n",
       "        <a href=\"https://shebanq.ancient-data.org/hebrew/text?book=Daniel&amp;chapter=12&amp;verse=3&amp;version=c&amp;mr=m&amp;qw=q&amp;tp=txt_p&amp;tr=hb&amp;wget=v&amp;qget=v&amp;nget=vt\" title=\"Daniel 12:3\" sec=\"Daniel 12:3\">phrase</a> <a href=\"#\" class=\"nd\">881178</a>  <span class=\"function\">Time</span> <span class=\"typ\">PP</span>\n",
       "    </div>\n",
       "    <div class=\"atoms\">\n",
       "\n",
       "<div class=\"word  \" >\n",
       "<a href=\"#\" class=\"nd\">377949</a>\n",
       "<div class=\"h\"><a target=\"_blank\" href=\"https://shebanq.ancient-data.org/hebrew/word?version=c&amp;id=1L\" title=\"show this lexeme in SHEBANQ\">לְ</a></div>\n",
       "<div class=\"features\"> <span class=\"pdp\"><a href=\"https://shebanq.ancient-data.org/hebrew/text?book=Daniel&amp;chapter=12&amp;verse=3&amp;version=c&amp;mr=m&amp;qw=q&amp;tp=txt_p&amp;tr=hb&amp;wget=v&amp;qget=v&amp;nget=vt\" title=\"Daniel 12:3\" sec=\"Daniel 12:3\">prep</a></span> <span class=\"gloss\">to</span> <span class=\"lex xft\"><span class=\"f\">lex=</span>L</span></div>\n",
       "\n",
       "\n",
       "</div>\n",
       "\n",
       "<div class=\"word  hl\"  style=\"background-color: #ffcc5c;\" >\n",
       "<a href=\"#\" class=\"nd\">377950</a>\n",
       "<div class=\"h\"><a target=\"_blank\" href=\"https://shebanq.ancient-data.org/hebrew/word?version=c&amp;id=1OWLMn\" title=\"show this lexeme in SHEBANQ\">עֹולָ֥ם </a></div>\n",
       "<div class=\"features\"> <span class=\"pdp\"><a href=\"https://shebanq.ancient-data.org/hebrew/text?book=Daniel&amp;chapter=12&amp;verse=3&amp;version=c&amp;mr=m&amp;qw=q&amp;tp=txt_p&amp;tr=hb&amp;wget=v&amp;qget=v&amp;nget=vt\" title=\"Daniel 12:3\" sec=\"Daniel 12:3\">subs</a></span> <span class=\"gloss\">eternity</span> <span class=\"lex xft\"><span class=\"f\">lex=</span>&lt;WLM/</span></div>\n",
       "\n",
       "\n",
       "</div>\n",
       "\n",
       "<div class=\"word  hl\"  style=\"background-color: #ffeead;\" >\n",
       "<a href=\"#\" class=\"nd\">377951</a>\n",
       "<div class=\"h\"><a target=\"_blank\" href=\"https://shebanq.ancient-data.org/hebrew/word?version=c&amp;id=1W\" title=\"show this lexeme in SHEBANQ\">וָ</a></div>\n",
       "<div class=\"features\"> <span class=\"pdp\"><a href=\"https://shebanq.ancient-data.org/hebrew/text?book=Daniel&amp;chapter=12&amp;verse=3&amp;version=c&amp;mr=m&amp;qw=q&amp;tp=txt_p&amp;tr=hb&amp;wget=v&amp;qget=v&amp;nget=vt\" title=\"Daniel 12:3\" sec=\"Daniel 12:3\">conj</a></span> <span class=\"gloss\">and</span> <span class=\"lex xft\"><span class=\"f\">lex=</span>W</span></div>\n",
       "\n",
       "\n",
       "</div>\n",
       "\n",
       "<div class=\"word  hl\"  style=\"background-color: #96ceb4;\" >\n",
       "<a href=\"#\" class=\"nd\">377952</a>\n",
       "<div class=\"h\"><a target=\"_blank\" href=\"https://shebanq.ancient-data.org/hebrew/word?version=c&amp;id=1ODn\" title=\"show this lexeme in SHEBANQ\">עֶֽד׃ פ </a></div>\n",
       "<div class=\"features\"> <span class=\"pdp\"><a href=\"https://shebanq.ancient-data.org/hebrew/text?book=Daniel&amp;chapter=12&amp;verse=3&amp;version=c&amp;mr=m&amp;qw=q&amp;tp=txt_p&amp;tr=hb&amp;wget=v&amp;qget=v&amp;nget=vt\" title=\"Daniel 12:3\" sec=\"Daniel 12:3\">subs</a></span> <span class=\"gloss\">future</span> <span class=\"lex xft\"><span class=\"f\">lex=</span>&lt;D/</span></div>\n",
       "\n",
       "\n",
       "</div>\n",
       "\n",
       "\n",
       "    </div>\n",
       "\n",
       "\n",
       "</div>\n",
       "\n",
       "\n",
       "</div>\n"
      ],
      "text/plain": [
       "<IPython.core.display.HTML object>"
      ]
     },
     "metadata": {},
     "output_type": "display_data"
    },
    {
     "data": {
      "text/html": [
       "<div style=\"background: #96ceb4; text-align: center\">part2</div>"
      ],
      "text/plain": [
       "<IPython.core.display.HTML object>"
      ]
     },
     "metadata": {},
     "output_type": "display_data"
    },
    {
     "data": {
      "text/html": [
       "<div style=\"background: #ffeead; text-align: center\">conj</div>"
      ],
      "text/plain": [
       "<IPython.core.display.HTML object>"
      ]
     },
     "metadata": {},
     "output_type": "display_data"
    },
    {
     "data": {
      "text/html": [
       "<div style=\"background: #ffcc5c; text-align: center\">part1</div>"
      ],
      "text/plain": [
       "<IPython.core.display.HTML object>"
      ]
     },
     "metadata": {},
     "output_type": "display_data"
    },
    {
     "name": "stdout",
     "output_type": "stream",
     "text": [
      "{   '__cx__': 'coord',\n",
      "    'conj': {'__cx__': 'conj', 'head': 377951},\n",
      "    'part1': {'__cx__': 'cont', 'head': 377950},\n",
      "    'part2': {'__cx__': 'cont', 'head': 377952}}\n",
      "\n"
     ]
    },
    {
     "data": {
      "text/html": [
       "<hr>"
      ],
      "text/plain": [
       "<IPython.core.display.HTML object>"
      ]
     },
     "metadata": {},
     "output_type": "display_data"
    },
    {
     "data": {
      "text/html": [
       "<p><b>result</b> <i>1450252 -> CX coord {378048, 378046, 378047}</i></p>"
      ],
      "text/plain": [
       "<IPython.core.display.HTML object>"
      ]
     },
     "metadata": {},
     "output_type": "display_data"
    },
    {
     "data": {
      "text/html": [
       "<a href=\"https://shebanq.ancient-data.org/hebrew/text?book=Daniel&amp;chapter=12&amp;verse=7&amp;version=c&amp;mr=m&amp;qw=q&amp;tp=txt_p&amp;tr=hb&amp;wget=v&amp;qget=v&amp;nget=vt\" title=\"show this passage in SHEBANQ\" sec=\"Daniel 12:7\">Daniel 12:7</a>\n",
       "<div class=\"atoms  \" >\n",
       "<a href=\"#\" class=\"nd\">881227</a>\n",
       "\n",
       "\n",
       "\n",
       "<div class=\"patom  \" >\n",
       "\n",
       "    <div class=\"phrase \" >\n",
       "        <a href=\"https://shebanq.ancient-data.org/hebrew/text?book=Daniel&amp;chapter=12&amp;verse=7&amp;version=c&amp;mr=m&amp;qw=q&amp;tp=txt_p&amp;tr=hb&amp;wget=v&amp;qget=v&amp;nget=vt\" title=\"Daniel 12:7\" sec=\"Daniel 12:7\">phrase</a> <a href=\"#\" class=\"nd\">881227</a>  <span class=\"function\">Time</span> <span class=\"typ\">PP</span>\n",
       "    </div>\n",
       "    <div class=\"atoms\">\n",
       "\n",
       "<div class=\"word  \" >\n",
       "<a href=\"#\" class=\"nd\">378044</a>\n",
       "<div class=\"h\"><a target=\"_blank\" href=\"https://shebanq.ancient-data.org/hebrew/word?version=c&amp;id=1L\" title=\"show this lexeme in SHEBANQ\">לְ</a></div>\n",
       "<div class=\"features\"> <span class=\"pdp\"><a href=\"https://shebanq.ancient-data.org/hebrew/text?book=Daniel&amp;chapter=12&amp;verse=7&amp;version=c&amp;mr=m&amp;qw=q&amp;tp=txt_p&amp;tr=hb&amp;wget=v&amp;qget=v&amp;nget=vt\" title=\"Daniel 12:7\" sec=\"Daniel 12:7\">prep</a></span> <span class=\"gloss\">to</span> <span class=\"lex xft\"><span class=\"f\">lex=</span>L</span></div>\n",
       "\n",
       "\n",
       "</div>\n",
       "\n",
       "<div class=\"word  \" >\n",
       "<a href=\"#\" class=\"nd\">378045</a>\n",
       "<div class=\"h\"><a target=\"_blank\" href=\"https://shebanq.ancient-data.org/hebrew/word?version=c&amp;id=1MWODn\" title=\"show this lexeme in SHEBANQ\">מֹועֵ֨ד </a></div>\n",
       "<div class=\"features\"> <span class=\"pdp\"><a href=\"https://shebanq.ancient-data.org/hebrew/text?book=Daniel&amp;chapter=12&amp;verse=7&amp;version=c&amp;mr=m&amp;qw=q&amp;tp=txt_p&amp;tr=hb&amp;wget=v&amp;qget=v&amp;nget=vt\" title=\"Daniel 12:7\" sec=\"Daniel 12:7\">subs</a></span> <span class=\"gloss\">appointment</span> <span class=\"lex xft\"><span class=\"f\">lex=</span>MW&lt;D/</span></div>\n",
       "\n",
       "\n",
       "</div>\n",
       "\n",
       "<div class=\"word  hl\"  style=\"background-color: #ffcc5c;\" >\n",
       "<a href=\"#\" class=\"nd\">378046</a>\n",
       "<div class=\"h\"><a target=\"_blank\" href=\"https://shebanq.ancient-data.org/hebrew/word?version=c&amp;id=1MWODn\" title=\"show this lexeme in SHEBANQ\">מֹֽועֲדִ֜ים </a></div>\n",
       "<div class=\"features\"> <span class=\"pdp\"><a href=\"https://shebanq.ancient-data.org/hebrew/text?book=Daniel&amp;chapter=12&amp;verse=7&amp;version=c&amp;mr=m&amp;qw=q&amp;tp=txt_p&amp;tr=hb&amp;wget=v&amp;qget=v&amp;nget=vt\" title=\"Daniel 12:7\" sec=\"Daniel 12:7\">subs</a></span> <span class=\"gloss\">appointment</span> <span class=\"lex xft\"><span class=\"f\">lex=</span>MW&lt;D/</span></div>\n",
       "\n",
       "\n",
       "</div>\n",
       "\n",
       "<div class=\"word  hl\"  style=\"background-color: #ffeead;\" >\n",
       "<a href=\"#\" class=\"nd\">378047</a>\n",
       "<div class=\"h\"><a target=\"_blank\" href=\"https://shebanq.ancient-data.org/hebrew/word?version=c&amp;id=1W\" title=\"show this lexeme in SHEBANQ\">וָ</a></div>\n",
       "<div class=\"features\"> <span class=\"pdp\"><a href=\"https://shebanq.ancient-data.org/hebrew/text?book=Daniel&amp;chapter=12&amp;verse=7&amp;version=c&amp;mr=m&amp;qw=q&amp;tp=txt_p&amp;tr=hb&amp;wget=v&amp;qget=v&amp;nget=vt\" title=\"Daniel 12:7\" sec=\"Daniel 12:7\">conj</a></span> <span class=\"gloss\">and</span> <span class=\"lex xft\"><span class=\"f\">lex=</span>W</span></div>\n",
       "\n",
       "\n",
       "</div>\n",
       "\n",
       "<div class=\"word  hl\"  style=\"background-color: #96ceb4;\" >\n",
       "<a href=\"#\" class=\"nd\">378048</a>\n",
       "<div class=\"h\"><a target=\"_blank\" href=\"https://shebanq.ancient-data.org/hebrew/word?version=c&amp;id=1XYJn\" title=\"show this lexeme in SHEBANQ\">חֵ֗צִי </a></div>\n",
       "<div class=\"features\"> <span class=\"pdp\"><a href=\"https://shebanq.ancient-data.org/hebrew/text?book=Daniel&amp;chapter=12&amp;verse=7&amp;version=c&amp;mr=m&amp;qw=q&amp;tp=txt_p&amp;tr=hb&amp;wget=v&amp;qget=v&amp;nget=vt\" title=\"Daniel 12:7\" sec=\"Daniel 12:7\">subs</a></span> <span class=\"gloss\">half</span> <span class=\"lex xft\"><span class=\"f\">lex=</span>XYJ/</span></div>\n",
       "\n",
       "\n",
       "</div>\n",
       "\n",
       "\n",
       "    </div>\n",
       "\n",
       "\n",
       "</div>\n",
       "\n",
       "\n",
       "</div>\n"
      ],
      "text/plain": [
       "<IPython.core.display.HTML object>"
      ]
     },
     "metadata": {},
     "output_type": "display_data"
    },
    {
     "data": {
      "text/html": [
       "<div style=\"background: #96ceb4; text-align: center\">part2</div>"
      ],
      "text/plain": [
       "<IPython.core.display.HTML object>"
      ]
     },
     "metadata": {},
     "output_type": "display_data"
    },
    {
     "data": {
      "text/html": [
       "<div style=\"background: #ffeead; text-align: center\">conj</div>"
      ],
      "text/plain": [
       "<IPython.core.display.HTML object>"
      ]
     },
     "metadata": {},
     "output_type": "display_data"
    },
    {
     "data": {
      "text/html": [
       "<div style=\"background: #ffcc5c; text-align: center\">part1</div>"
      ],
      "text/plain": [
       "<IPython.core.display.HTML object>"
      ]
     },
     "metadata": {},
     "output_type": "display_data"
    },
    {
     "name": "stdout",
     "output_type": "stream",
     "text": [
      "{   '__cx__': 'coord',\n",
      "    'conj': {'__cx__': 'conj', 'head': 378047},\n",
      "    'part1': {'__cx__': 'cont', 'head': 378046},\n",
      "    'part2': {'__cx__': 'qquant', 'head': 378048}}\n",
      "\n"
     ]
    },
    {
     "data": {
      "text/html": [
       "<hr>"
      ],
      "text/plain": [
       "<IPython.core.display.HTML object>"
      ]
     },
     "metadata": {},
     "output_type": "display_data"
    },
    {
     "data": {
      "text/html": [
       "<p><b>result</b> <i>1450263 -> CX coord {379618, 379619, 379620, 379621, 379622, 379623}</i></p>"
      ],
      "text/plain": [
       "<IPython.core.display.HTML object>"
      ]
     },
     "metadata": {},
     "output_type": "display_data"
    },
    {
     "data": {
      "text/html": [
       "<a href=\"https://shebanq.ancient-data.org/hebrew/text?book=Esra&amp;chapter=4&amp;verse=5&amp;version=c&amp;mr=m&amp;qw=q&amp;tp=txt_p&amp;tr=hb&amp;wget=v&amp;qget=v&amp;nget=vt\" title=\"show this passage in SHEBANQ\" sec=\"Ezra 4:5\">Ezra 4:5</a>\n",
       "<div class=\"atoms  \" >\n",
       "<a href=\"#\" class=\"nd\">881852</a>\n",
       "\n",
       "\n",
       "\n",
       "<div class=\"patom  l \" >\n",
       "\n",
       "    <div class=\"phrase \" >\n",
       "        <a href=\"https://shebanq.ancient-data.org/hebrew/text?book=Esra&amp;chapter=4&amp;verse=5&amp;version=c&amp;mr=m&amp;qw=q&amp;tp=txt_p&amp;tr=hb&amp;wget=v&amp;qget=v&amp;nget=vt\" title=\"Ezra 4:5\" sec=\"Ezra 4:5\">phrase</a> <a href=\"#\" class=\"nd\">881852</a>  <span class=\"function\">Time</span> <span class=\"typ\">NP</span>\n",
       "    </div>\n",
       "    <div class=\"atoms\">\n",
       "\n",
       "<div class=\"word  \" >\n",
       "<a href=\"#\" class=\"nd\">379615</a>\n",
       "<div class=\"h\"><a target=\"_blank\" href=\"https://shebanq.ancient-data.org/hebrew/word?version=c&amp;id=1KLn\" title=\"show this lexeme in SHEBANQ\">כָּל־</a></div>\n",
       "<div class=\"features\"> <span class=\"pdp\"><a href=\"https://shebanq.ancient-data.org/hebrew/text?book=Esra&amp;chapter=4&amp;verse=5&amp;version=c&amp;mr=m&amp;qw=q&amp;tp=txt_p&amp;tr=hb&amp;wget=v&amp;qget=v&amp;nget=vt\" title=\"Ezra 4:5\" sec=\"Ezra 4:5\">subs</a></span> <span class=\"gloss\">whole</span> <span class=\"lex xft\"><span class=\"f\">lex=</span>KL/</span></div>\n",
       "\n",
       "\n",
       "</div>\n",
       "\n",
       "<div class=\"word  \" >\n",
       "<a href=\"#\" class=\"nd\">379616</a>\n",
       "<div class=\"h\"><a target=\"_blank\" href=\"https://shebanq.ancient-data.org/hebrew/word?version=c&amp;id=1JWMn\" title=\"show this lexeme in SHEBANQ\">יְמֵ֗י </a></div>\n",
       "<div class=\"features\"> <span class=\"pdp\"><a href=\"https://shebanq.ancient-data.org/hebrew/text?book=Esra&amp;chapter=4&amp;verse=5&amp;version=c&amp;mr=m&amp;qw=q&amp;tp=txt_p&amp;tr=hb&amp;wget=v&amp;qget=v&amp;nget=vt\" title=\"Ezra 4:5\" sec=\"Ezra 4:5\">subs</a></span> <span class=\"gloss\">day</span> <span class=\"lex xft\"><span class=\"f\">lex=</span>JWM/</span></div>\n",
       "\n",
       "\n",
       "</div>\n",
       "\n",
       "<div class=\"word  \" >\n",
       "<a href=\"#\" class=\"nd\">379617</a>\n",
       "<div class=\"h\"><a target=\"_blank\" href=\"https://shebanq.ancient-data.org/hebrew/word?version=c&amp;id=1KWRCn\" title=\"show this lexeme in SHEBANQ\">כֹּ֚ורֶשׁ </a></div>\n",
       "<div class=\"features\"> <span class=\"pdp\"><a href=\"https://shebanq.ancient-data.org/hebrew/text?book=Esra&amp;chapter=4&amp;verse=5&amp;version=c&amp;mr=m&amp;qw=q&amp;tp=txt_p&amp;tr=hb&amp;wget=v&amp;qget=v&amp;nget=vt\" title=\"Ezra 4:5\" sec=\"Ezra 4:5\">nmpr</a></span> <span class=\"gloss\">Cyrus</span> <span class=\"lex xft\"><span class=\"f\">lex=</span>KWRC/</span></div>\n",
       "\n",
       "\n",
       "</div>\n",
       "\n",
       "\n",
       "    </div>\n",
       "\n",
       "\n",
       "</div>\n",
       "\n",
       "<div class=\"patom  r l \" >\n",
       "\n",
       "    <div class=\"phrase \" >\n",
       "        <a href=\"https://shebanq.ancient-data.org/hebrew/text?book=Esra&amp;chapter=4&amp;verse=5&amp;version=c&amp;mr=m&amp;qw=q&amp;tp=txt_p&amp;tr=hb&amp;wget=v&amp;qget=v&amp;nget=vt\" title=\"Ezra 4:5\" sec=\"Ezra 4:5\">phrase</a> <a href=\"#\" class=\"nd\">881852</a>  <span class=\"function\">Time</span> <span class=\"typ\">NP</span>\n",
       "    </div>\n",
       "    <div class=\"atoms\">\n",
       "\n",
       "<div class=\"word  hl\"  style=\"background-color: #ffcc5c;\" >\n",
       "<a href=\"#\" class=\"nd\">379618</a>\n",
       "<div class=\"h\"><a target=\"_blank\" href=\"https://shebanq.ancient-data.org/hebrew/word?version=c&amp;id=1MLKn\" title=\"show this lexeme in SHEBANQ\">מֶ֣לֶךְ </a></div>\n",
       "<div class=\"features\"> <span class=\"pdp\"><a href=\"https://shebanq.ancient-data.org/hebrew/text?book=Esra&amp;chapter=4&amp;verse=5&amp;version=c&amp;mr=m&amp;qw=q&amp;tp=txt_p&amp;tr=hb&amp;wget=v&amp;qget=v&amp;nget=vt\" title=\"Ezra 4:5\" sec=\"Ezra 4:5\">subs</a></span> <span class=\"gloss\">king</span> <span class=\"lex xft\"><span class=\"f\">lex=</span>MLK/</span></div>\n",
       "\n",
       "\n",
       "</div>\n",
       "\n",
       "<div class=\"word  hl\"  style=\"background-color: #ffcc5c;\" >\n",
       "<a href=\"#\" class=\"nd\">379619</a>\n",
       "<div class=\"h\"><a target=\"_blank\" href=\"https://shebanq.ancient-data.org/hebrew/word?version=c&amp;id=1PRSin\" title=\"show this lexeme in SHEBANQ\">פָּרַ֔ס </a></div>\n",
       "<div class=\"features\"> <span class=\"pdp\"><a href=\"https://shebanq.ancient-data.org/hebrew/text?book=Esra&amp;chapter=4&amp;verse=5&amp;version=c&amp;mr=m&amp;qw=q&amp;tp=txt_p&amp;tr=hb&amp;wget=v&amp;qget=v&amp;nget=vt\" title=\"Ezra 4:5\" sec=\"Ezra 4:5\">nmpr</a></span> <span class=\"gloss\">Persia</span> <span class=\"lex xft\"><span class=\"f\">lex=</span>PRS=/</span></div>\n",
       "\n",
       "\n",
       "</div>\n",
       "\n",
       "\n",
       "    </div>\n",
       "\n",
       "\n",
       "</div>\n",
       "\n",
       "<div class=\"patom  r l \" >\n",
       "\n",
       "    <div class=\"phrase \" >\n",
       "        <a href=\"https://shebanq.ancient-data.org/hebrew/text?book=Esra&amp;chapter=4&amp;verse=5&amp;version=c&amp;mr=m&amp;qw=q&amp;tp=txt_p&amp;tr=hb&amp;wget=v&amp;qget=v&amp;nget=vt\" title=\"Ezra 4:5\" sec=\"Ezra 4:5\">phrase</a> <a href=\"#\" class=\"nd\">881852</a>  <span class=\"function\">Time</span> <span class=\"typ\">NP|CP</span>\n",
       "    </div>\n",
       "    <div class=\"atoms\">\n",
       "\n",
       "<div class=\"word  hl\"  style=\"background-color: #ffeead;\" >\n",
       "<a href=\"#\" class=\"nd\">379620</a>\n",
       "<div class=\"h\"><a target=\"_blank\" href=\"https://shebanq.ancient-data.org/hebrew/word?version=c&amp;id=1W\" title=\"show this lexeme in SHEBANQ\">וְ</a></div>\n",
       "<div class=\"features\"> <span class=\"pdp\"><a href=\"https://shebanq.ancient-data.org/hebrew/text?book=Esra&amp;chapter=4&amp;verse=5&amp;version=c&amp;mr=m&amp;qw=q&amp;tp=txt_p&amp;tr=hb&amp;wget=v&amp;qget=v&amp;nget=vt\" title=\"Ezra 4:5\" sec=\"Ezra 4:5\">conj</a></span> <span class=\"gloss\">and</span> <span class=\"lex xft\"><span class=\"f\">lex=</span>W</span></div>\n",
       "\n",
       "\n",
       "</div>\n",
       "\n",
       "\n",
       "    </div>\n",
       "\n",
       "\n",
       "</div>\n",
       "\n",
       "<div class=\"patom  r l \" >\n",
       "\n",
       "    <div class=\"phrase \" >\n",
       "        <a href=\"https://shebanq.ancient-data.org/hebrew/text?book=Esra&amp;chapter=4&amp;verse=5&amp;version=c&amp;mr=m&amp;qw=q&amp;tp=txt_p&amp;tr=hb&amp;wget=v&amp;qget=v&amp;nget=vt\" title=\"Ezra 4:5\" sec=\"Ezra 4:5\">phrase</a> <a href=\"#\" class=\"nd\">881852</a>  <span class=\"function\">Time</span> <span class=\"typ\">NP|PP</span>\n",
       "    </div>\n",
       "    <div class=\"atoms\">\n",
       "\n",
       "<div class=\"word  hl\"  style=\"background-color: #96ceb4;\" >\n",
       "<a href=\"#\" class=\"nd\">379621</a>\n",
       "<div class=\"h\"><a target=\"_blank\" href=\"https://shebanq.ancient-data.org/hebrew/word?version=c&amp;id=1OD\" title=\"show this lexeme in SHEBANQ\">עַד־</a></div>\n",
       "<div class=\"features\"> <span class=\"pdp\"><a href=\"https://shebanq.ancient-data.org/hebrew/text?book=Esra&amp;chapter=4&amp;verse=5&amp;version=c&amp;mr=m&amp;qw=q&amp;tp=txt_p&amp;tr=hb&amp;wget=v&amp;qget=v&amp;nget=vt\" title=\"Ezra 4:5\" sec=\"Ezra 4:5\">prep</a></span> <span class=\"gloss\">unto</span> <span class=\"lex xft\"><span class=\"f\">lex=</span>&lt;D</span></div>\n",
       "\n",
       "\n",
       "</div>\n",
       "\n",
       "<div class=\"word  hl\"  style=\"background-color: #96ceb4;\" >\n",
       "<a href=\"#\" class=\"nd\">379622</a>\n",
       "<div class=\"h\"><a target=\"_blank\" href=\"https://shebanq.ancient-data.org/hebrew/word?version=c&amp;id=1MLKWTn\" title=\"show this lexeme in SHEBANQ\">מַלְכ֖וּת </a></div>\n",
       "<div class=\"features\"> <span class=\"pdp\"><a href=\"https://shebanq.ancient-data.org/hebrew/text?book=Esra&amp;chapter=4&amp;verse=5&amp;version=c&amp;mr=m&amp;qw=q&amp;tp=txt_p&amp;tr=hb&amp;wget=v&amp;qget=v&amp;nget=vt\" title=\"Ezra 4:5\" sec=\"Ezra 4:5\">subs</a></span> <span class=\"gloss\">kingship</span> <span class=\"lex xft\"><span class=\"f\">lex=</span>MLKWT/</span></div>\n",
       "\n",
       "\n",
       "</div>\n",
       "\n",
       "<div class=\"word  hl\"  style=\"background-color: #96ceb4;\" >\n",
       "<a href=\"#\" class=\"nd\">379623</a>\n",
       "<div class=\"h\"><a target=\"_blank\" href=\"https://shebanq.ancient-data.org/hebrew/word?version=c&amp;id=1DRJWCn\" title=\"show this lexeme in SHEBANQ\">דָּרְיָ֥וֶשׁ </a></div>\n",
       "<div class=\"features\"> <span class=\"pdp\"><a href=\"https://shebanq.ancient-data.org/hebrew/text?book=Esra&amp;chapter=4&amp;verse=5&amp;version=c&amp;mr=m&amp;qw=q&amp;tp=txt_p&amp;tr=hb&amp;wget=v&amp;qget=v&amp;nget=vt\" title=\"Ezra 4:5\" sec=\"Ezra 4:5\">nmpr</a></span> <span class=\"gloss\">Darius</span> <span class=\"lex xft\"><span class=\"f\">lex=</span>DRJWC/</span></div>\n",
       "\n",
       "\n",
       "</div>\n",
       "\n",
       "\n",
       "    </div>\n",
       "\n",
       "\n",
       "</div>\n",
       "\n",
       "<div class=\"patom  r \" >\n",
       "\n",
       "    <div class=\"phrase \" >\n",
       "        <a href=\"https://shebanq.ancient-data.org/hebrew/text?book=Esra&amp;chapter=4&amp;verse=5&amp;version=c&amp;mr=m&amp;qw=q&amp;tp=txt_p&amp;tr=hb&amp;wget=v&amp;qget=v&amp;nget=vt\" title=\"Ezra 4:5\" sec=\"Ezra 4:5\">phrase</a> <a href=\"#\" class=\"nd\">881852</a>  <span class=\"function\">Time</span> <span class=\"typ\">NP</span>\n",
       "    </div>\n",
       "    <div class=\"atoms\">\n",
       "\n",
       "<div class=\"word  \" >\n",
       "<a href=\"#\" class=\"nd\">379624</a>\n",
       "<div class=\"h\"><a target=\"_blank\" href=\"https://shebanq.ancient-data.org/hebrew/word?version=c&amp;id=1MLKn\" title=\"show this lexeme in SHEBANQ\">מֶֽלֶךְ־</a></div>\n",
       "<div class=\"features\"> <span class=\"pdp\"><a href=\"https://shebanq.ancient-data.org/hebrew/text?book=Esra&amp;chapter=4&amp;verse=5&amp;version=c&amp;mr=m&amp;qw=q&amp;tp=txt_p&amp;tr=hb&amp;wget=v&amp;qget=v&amp;nget=vt\" title=\"Ezra 4:5\" sec=\"Ezra 4:5\">subs</a></span> <span class=\"gloss\">king</span> <span class=\"lex xft\"><span class=\"f\">lex=</span>MLK/</span></div>\n",
       "\n",
       "\n",
       "</div>\n",
       "\n",
       "<div class=\"word  \" >\n",
       "<a href=\"#\" class=\"nd\">379625</a>\n",
       "<div class=\"h\"><a target=\"_blank\" href=\"https://shebanq.ancient-data.org/hebrew/word?version=c&amp;id=1PRSin\" title=\"show this lexeme in SHEBANQ\">פָּרָֽס׃ </a></div>\n",
       "<div class=\"features\"> <span class=\"pdp\"><a href=\"https://shebanq.ancient-data.org/hebrew/text?book=Esra&amp;chapter=4&amp;verse=5&amp;version=c&amp;mr=m&amp;qw=q&amp;tp=txt_p&amp;tr=hb&amp;wget=v&amp;qget=v&amp;nget=vt\" title=\"Ezra 4:5\" sec=\"Ezra 4:5\">nmpr</a></span> <span class=\"gloss\">Persia</span> <span class=\"lex xft\"><span class=\"f\">lex=</span>PRS=/</span></div>\n",
       "\n",
       "\n",
       "</div>\n",
       "\n",
       "\n",
       "    </div>\n",
       "\n",
       "\n",
       "</div>\n",
       "\n",
       "\n",
       "</div>\n"
      ],
      "text/plain": [
       "<IPython.core.display.HTML object>"
      ]
     },
     "metadata": {},
     "output_type": "display_data"
    },
    {
     "data": {
      "text/html": [
       "<div style=\"background: #96ceb4; text-align: center\">part2</div>"
      ],
      "text/plain": [
       "<IPython.core.display.HTML object>"
      ]
     },
     "metadata": {},
     "output_type": "display_data"
    },
    {
     "data": {
      "text/html": [
       "<div style=\"background: #ffeead; text-align: center\">conj</div>"
      ],
      "text/plain": [
       "<IPython.core.display.HTML object>"
      ]
     },
     "metadata": {},
     "output_type": "display_data"
    },
    {
     "data": {
      "text/html": [
       "<div style=\"background: #ffcc5c; text-align: center\">part1</div>"
      ],
      "text/plain": [
       "<IPython.core.display.HTML object>"
      ]
     },
     "metadata": {},
     "output_type": "display_data"
    },
    {
     "name": "stdout",
     "output_type": "stream",
     "text": [
      "{   '__cx__': 'coord',\n",
      "    'conj': {'__cx__': 'conj', 'head': 379620},\n",
      "    'part1': {   '__cx__': 'geni_ph',\n",
      "                 'geni': {'__cx__': 'name', 'head': 379619},\n",
      "                 'head': {'__cx__': 'cont', 'head': 379618}},\n",
      "    'part2': {   '__cx__': 'prep_ph',\n",
      "                 'head': {   '__cx__': 'geni_ph',\n",
      "                             'geni': {'__cx__': 'name', 'head': 379623},\n",
      "                             'head': {'__cx__': 'cont', 'head': 379622}},\n",
      "                 'prep': {'__cx__': 'prep', 'head': 379621}}}\n",
      "\n"
     ]
    },
    {
     "data": {
      "text/html": [
       "<hr>"
      ],
      "text/plain": [
       "<IPython.core.display.HTML object>"
      ]
     },
     "metadata": {},
     "output_type": "display_data"
    },
    {
     "data": {
      "text/html": [
       "<p><b>result</b> <i>1450333 -> CX coord {385736, 385737, 385738, 385739, 385740, 385741, 385742, 385743, 385744}</i></p>"
      ],
      "text/plain": [
       "<IPython.core.display.HTML object>"
      ]
     },
     "metadata": {},
     "output_type": "display_data"
    },
    {
     "data": {
      "text/html": [
       "<a href=\"https://shebanq.ancient-data.org/hebrew/text?book=Nehemia&amp;chapter=5&amp;verse=14&amp;version=c&amp;mr=m&amp;qw=q&amp;tp=txt_p&amp;tr=hb&amp;wget=v&amp;qget=v&amp;nget=vt\" title=\"show this passage in SHEBANQ\" sec=\"Nehemiah 5:14\">Nehemiah 5:14</a>\n",
       "<div class=\"atoms  \" >\n",
       "<a href=\"#\" class=\"nd\">884936</a>\n",
       "\n",
       "\n",
       "\n",
       "<div class=\"patom  l \" >\n",
       "\n",
       "    <div class=\"phrase \" >\n",
       "        <a href=\"https://shebanq.ancient-data.org/hebrew/text?book=Nehemia&amp;chapter=5&amp;verse=14&amp;version=c&amp;mr=m&amp;qw=q&amp;tp=txt_p&amp;tr=hb&amp;wget=v&amp;qget=v&amp;nget=vt\" title=\"Nehemiah 5:14\" sec=\"Nehemiah 5:14\">phrase</a> <a href=\"#\" class=\"nd\">884936</a>  <span class=\"function\">Time</span> <span class=\"typ\">PP</span>\n",
       "    </div>\n",
       "    <div class=\"atoms\">\n",
       "\n",
       "<div class=\"word  hl\"  style=\"background-color: #ffcc5c;\" >\n",
       "<a href=\"#\" class=\"nd\">385736</a>\n",
       "<div class=\"h\"><a target=\"_blank\" href=\"https://shebanq.ancient-data.org/hebrew/word?version=c&amp;id=1MN\" title=\"show this lexeme in SHEBANQ\">מִ</a></div>\n",
       "<div class=\"features\"> <span class=\"pdp\"><a href=\"https://shebanq.ancient-data.org/hebrew/text?book=Nehemia&amp;chapter=5&amp;verse=14&amp;version=c&amp;mr=m&amp;qw=q&amp;tp=txt_p&amp;tr=hb&amp;wget=v&amp;qget=v&amp;nget=vt\" title=\"Nehemiah 5:14\" sec=\"Nehemiah 5:14\">prep</a></span> <span class=\"gloss\">from</span> <span class=\"lex xft\"><span class=\"f\">lex=</span>MN</span></div>\n",
       "\n",
       "\n",
       "</div>\n",
       "\n",
       "<div class=\"word  hl\"  style=\"background-color: #ffcc5c;\" >\n",
       "<a href=\"#\" class=\"nd\">385737</a>\n",
       "<div class=\"h\"><a target=\"_blank\" href=\"https://shebanq.ancient-data.org/hebrew/word?version=c&amp;id=1CNHn\" title=\"show this lexeme in SHEBANQ\">שְּׁנַ֣ת </a></div>\n",
       "<div class=\"features\"> <span class=\"pdp\"><a href=\"https://shebanq.ancient-data.org/hebrew/text?book=Nehemia&amp;chapter=5&amp;verse=14&amp;version=c&amp;mr=m&amp;qw=q&amp;tp=txt_p&amp;tr=hb&amp;wget=v&amp;qget=v&amp;nget=vt\" title=\"Nehemiah 5:14\" sec=\"Nehemiah 5:14\">subs</a></span> <span class=\"gloss\">year</span> <span class=\"lex xft\"><span class=\"f\">lex=</span>CNH/</span></div>\n",
       "\n",
       "\n",
       "</div>\n",
       "\n",
       "<div class=\"word  hl\"  style=\"background-color: #ffcc5c;\" >\n",
       "<a href=\"#\" class=\"nd\">385738</a>\n",
       "<div class=\"h\"><a target=\"_blank\" href=\"https://shebanq.ancient-data.org/hebrew/word?version=c&amp;id=1OFRJMn\" title=\"show this lexeme in SHEBANQ\">עֶשְׂרִ֗ים </a></div>\n",
       "<div class=\"features\"> <span class=\"pdp\"><a href=\"https://shebanq.ancient-data.org/hebrew/text?book=Nehemia&amp;chapter=5&amp;verse=14&amp;version=c&amp;mr=m&amp;qw=q&amp;tp=txt_p&amp;tr=hb&amp;wget=v&amp;qget=v&amp;nget=vt\" title=\"Nehemiah 5:14\" sec=\"Nehemiah 5:14\">subs</a></span> <span class=\"gloss\">twenty</span> <span class=\"lex xft\"><span class=\"f\">lex=</span>&lt;FRJM/</span></div>\n",
       "\n",
       "\n",
       "</div>\n",
       "\n",
       "<div class=\"word  hl\"  style=\"background-color: #ffeead;\" >\n",
       "<a href=\"#\" class=\"nd\">385739</a>\n",
       "<div class=\"h\"><a target=\"_blank\" href=\"https://shebanq.ancient-data.org/hebrew/word?version=c&amp;id=1W\" title=\"show this lexeme in SHEBANQ\">וְ֠</a></div>\n",
       "<div class=\"features\"> <span class=\"pdp\"><a href=\"https://shebanq.ancient-data.org/hebrew/text?book=Nehemia&amp;chapter=5&amp;verse=14&amp;version=c&amp;mr=m&amp;qw=q&amp;tp=txt_p&amp;tr=hb&amp;wget=v&amp;qget=v&amp;nget=vt\" title=\"Nehemiah 5:14\" sec=\"Nehemiah 5:14\">conj</a></span> <span class=\"gloss\">and</span> <span class=\"lex xft\"><span class=\"f\">lex=</span>W</span></div>\n",
       "\n",
       "\n",
       "</div>\n",
       "\n",
       "<div class=\"word  hl\"  style=\"background-color: #96ceb4;\" >\n",
       "<a href=\"#\" class=\"nd\">385740</a>\n",
       "<div class=\"h\"><a target=\"_blank\" href=\"https://shebanq.ancient-data.org/hebrew/word?version=c&amp;id=1OD\" title=\"show this lexeme in SHEBANQ\">עַד </a></div>\n",
       "<div class=\"features\"> <span class=\"pdp\"><a href=\"https://shebanq.ancient-data.org/hebrew/text?book=Nehemia&amp;chapter=5&amp;verse=14&amp;version=c&amp;mr=m&amp;qw=q&amp;tp=txt_p&amp;tr=hb&amp;wget=v&amp;qget=v&amp;nget=vt\" title=\"Nehemiah 5:14\" sec=\"Nehemiah 5:14\">prep</a></span> <span class=\"gloss\">unto</span> <span class=\"lex xft\"><span class=\"f\">lex=</span>&lt;D</span></div>\n",
       "\n",
       "\n",
       "</div>\n",
       "\n",
       "<div class=\"word  hl\"  style=\"background-color: #96ceb4;\" >\n",
       "<a href=\"#\" class=\"nd\">385741</a>\n",
       "<div class=\"h\"><a target=\"_blank\" href=\"https://shebanq.ancient-data.org/hebrew/word?version=c&amp;id=1CNHn\" title=\"show this lexeme in SHEBANQ\">שְׁנַ֨ת </a></div>\n",
       "<div class=\"features\"> <span class=\"pdp\"><a href=\"https://shebanq.ancient-data.org/hebrew/text?book=Nehemia&amp;chapter=5&amp;verse=14&amp;version=c&amp;mr=m&amp;qw=q&amp;tp=txt_p&amp;tr=hb&amp;wget=v&amp;qget=v&amp;nget=vt\" title=\"Nehemiah 5:14\" sec=\"Nehemiah 5:14\">subs</a></span> <span class=\"gloss\">year</span> <span class=\"lex xft\"><span class=\"f\">lex=</span>CNH/</span></div>\n",
       "\n",
       "\n",
       "</div>\n",
       "\n",
       "<div class=\"word  hl\"  style=\"background-color: #96ceb4;\" >\n",
       "<a href=\"#\" class=\"nd\">385742</a>\n",
       "<div class=\"h\"><a target=\"_blank\" href=\"https://shebanq.ancient-data.org/hebrew/word?version=c&amp;id=1CLCn\" title=\"show this lexeme in SHEBANQ\">שְׁלֹשִׁ֤ים </a></div>\n",
       "<div class=\"features\"> <span class=\"pdp\"><a href=\"https://shebanq.ancient-data.org/hebrew/text?book=Nehemia&amp;chapter=5&amp;verse=14&amp;version=c&amp;mr=m&amp;qw=q&amp;tp=txt_p&amp;tr=hb&amp;wget=v&amp;qget=v&amp;nget=vt\" title=\"Nehemiah 5:14\" sec=\"Nehemiah 5:14\">subs</a></span> <span class=\"gloss\">three</span> <span class=\"lex xft\"><span class=\"f\">lex=</span>CLC/</span></div>\n",
       "\n",
       "\n",
       "</div>\n",
       "\n",
       "<div class=\"word  hl\"  style=\"background-color: #96ceb4;\" >\n",
       "<a href=\"#\" class=\"nd\">385743</a>\n",
       "<div class=\"h\"><a target=\"_blank\" href=\"https://shebanq.ancient-data.org/hebrew/word?version=c&amp;id=1W\" title=\"show this lexeme in SHEBANQ\">וּ</a></div>\n",
       "<div class=\"features\"> <span class=\"pdp\"><a href=\"https://shebanq.ancient-data.org/hebrew/text?book=Nehemia&amp;chapter=5&amp;verse=14&amp;version=c&amp;mr=m&amp;qw=q&amp;tp=txt_p&amp;tr=hb&amp;wget=v&amp;qget=v&amp;nget=vt\" title=\"Nehemiah 5:14\" sec=\"Nehemiah 5:14\">conj</a></span> <span class=\"gloss\">and</span> <span class=\"lex xft\"><span class=\"f\">lex=</span>W</span></div>\n",
       "\n",
       "\n",
       "</div>\n",
       "\n",
       "<div class=\"word  hl\"  style=\"background-color: #96ceb4;\" >\n",
       "<a href=\"#\" class=\"nd\">385744</a>\n",
       "<div class=\"h\"><a target=\"_blank\" href=\"https://shebanq.ancient-data.org/hebrew/word?version=c&amp;id=1CNJMn\" title=\"show this lexeme in SHEBANQ\">שְׁתַּ֨יִם֙ </a></div>\n",
       "<div class=\"features\"> <span class=\"pdp\"><a href=\"https://shebanq.ancient-data.org/hebrew/text?book=Nehemia&amp;chapter=5&amp;verse=14&amp;version=c&amp;mr=m&amp;qw=q&amp;tp=txt_p&amp;tr=hb&amp;wget=v&amp;qget=v&amp;nget=vt\" title=\"Nehemiah 5:14\" sec=\"Nehemiah 5:14\">subs</a></span> <span class=\"gloss\">two</span> <span class=\"lex xft\"><span class=\"f\">lex=</span>CNJM/</span></div>\n",
       "\n",
       "\n",
       "</div>\n",
       "\n",
       "\n",
       "    </div>\n",
       "\n",
       "\n",
       "</div>\n",
       "\n",
       "<div class=\"patom  r l \" >\n",
       "\n",
       "    <div class=\"phrase \" >\n",
       "        <a href=\"https://shebanq.ancient-data.org/hebrew/text?book=Nehemia&amp;chapter=5&amp;verse=14&amp;version=c&amp;mr=m&amp;qw=q&amp;tp=txt_p&amp;tr=hb&amp;wget=v&amp;qget=v&amp;nget=vt\" title=\"Nehemiah 5:14\" sec=\"Nehemiah 5:14\">phrase</a> <a href=\"#\" class=\"nd\">884936</a>  <span class=\"function\">Time</span> <span class=\"typ\">PP</span>\n",
       "    </div>\n",
       "    <div class=\"atoms\">\n",
       "\n",
       "<div class=\"word  \" >\n",
       "<a href=\"#\" class=\"nd\">385745</a>\n",
       "<div class=\"h\"><a target=\"_blank\" href=\"https://shebanq.ancient-data.org/hebrew/word?version=c&amp;id=1L\" title=\"show this lexeme in SHEBANQ\">לְ</a></div>\n",
       "<div class=\"features\"> <span class=\"pdp\"><a href=\"https://shebanq.ancient-data.org/hebrew/text?book=Nehemia&amp;chapter=5&amp;verse=14&amp;version=c&amp;mr=m&amp;qw=q&amp;tp=txt_p&amp;tr=hb&amp;wget=v&amp;qget=v&amp;nget=vt\" title=\"Nehemiah 5:14\" sec=\"Nehemiah 5:14\">prep</a></span> <span class=\"gloss\">to</span> <span class=\"lex xft\"><span class=\"f\">lex=</span>L</span></div>\n",
       "\n",
       "\n",
       "</div>\n",
       "\n",
       "<div class=\"word  \" >\n",
       "<a href=\"#\" class=\"nd\">385746</a>\n",
       "<div class=\"h\"><a target=\"_blank\" href=\"https://shebanq.ancient-data.org/hebrew/word?version=c&amp;id=1ARTXCSTAn\" title=\"show this lexeme in SHEBANQ\">אַרְתַּחְשַׁ֣סְתְּא </a></div>\n",
       "<div class=\"features\"> <span class=\"pdp\"><a href=\"https://shebanq.ancient-data.org/hebrew/text?book=Nehemia&amp;chapter=5&amp;verse=14&amp;version=c&amp;mr=m&amp;qw=q&amp;tp=txt_p&amp;tr=hb&amp;wget=v&amp;qget=v&amp;nget=vt\" title=\"Nehemiah 5:14\" sec=\"Nehemiah 5:14\">nmpr</a></span> <span class=\"gloss\">Artaxerxes</span> <span class=\"lex xft\"><span class=\"f\">lex=</span>>RTXCST>/</span></div>\n",
       "\n",
       "\n",
       "</div>\n",
       "\n",
       "\n",
       "    </div>\n",
       "\n",
       "\n",
       "</div>\n",
       "\n",
       "<div class=\"patom  r l \" >\n",
       "\n",
       "    <div class=\"phrase \" >\n",
       "        <a href=\"https://shebanq.ancient-data.org/hebrew/text?book=Nehemia&amp;chapter=5&amp;verse=14&amp;version=c&amp;mr=m&amp;qw=q&amp;tp=txt_p&amp;tr=hb&amp;wget=v&amp;qget=v&amp;nget=vt\" title=\"Nehemiah 5:14\" sec=\"Nehemiah 5:14\">phrase</a> <a href=\"#\" class=\"nd\">884936</a>  <span class=\"function\">Time</span> <span class=\"typ\">PP|NP</span>\n",
       "    </div>\n",
       "    <div class=\"atoms\">\n",
       "\n",
       "<div class=\"word  \" >\n",
       "<a href=\"#\" class=\"nd\">385747</a>\n",
       "<div class=\"h\"><a target=\"_blank\" href=\"https://shebanq.ancient-data.org/hebrew/word?version=c&amp;id=1H\" title=\"show this lexeme in SHEBANQ\">הַ</a></div>\n",
       "<div class=\"features\"> <span class=\"pdp\"><a href=\"https://shebanq.ancient-data.org/hebrew/text?book=Nehemia&amp;chapter=5&amp;verse=14&amp;version=c&amp;mr=m&amp;qw=q&amp;tp=txt_p&amp;tr=hb&amp;wget=v&amp;qget=v&amp;nget=vt\" title=\"Nehemiah 5:14\" sec=\"Nehemiah 5:14\">art</a></span> <span class=\"gloss\">the</span> <span class=\"lex xft\"><span class=\"f\">lex=</span>H</span></div>\n",
       "\n",
       "\n",
       "</div>\n",
       "\n",
       "<div class=\"word  \" >\n",
       "<a href=\"#\" class=\"nd\">385748</a>\n",
       "<div class=\"h\"><a target=\"_blank\" href=\"https://shebanq.ancient-data.org/hebrew/word?version=c&amp;id=1MLKn\" title=\"show this lexeme in SHEBANQ\">מֶּ֔לֶךְ </a></div>\n",
       "<div class=\"features\"> <span class=\"pdp\"><a href=\"https://shebanq.ancient-data.org/hebrew/text?book=Nehemia&amp;chapter=5&amp;verse=14&amp;version=c&amp;mr=m&amp;qw=q&amp;tp=txt_p&amp;tr=hb&amp;wget=v&amp;qget=v&amp;nget=vt\" title=\"Nehemiah 5:14\" sec=\"Nehemiah 5:14\">subs</a></span> <span class=\"gloss\">king</span> <span class=\"lex xft\"><span class=\"f\">lex=</span>MLK/</span></div>\n",
       "\n",
       "\n",
       "</div>\n",
       "\n",
       "\n",
       "    </div>\n",
       "\n",
       "\n",
       "</div>\n",
       "\n",
       "<div class=\"patom  r \" >\n",
       "\n",
       "    <div class=\"phrase \" >\n",
       "        <a href=\"https://shebanq.ancient-data.org/hebrew/text?book=Nehemia&amp;chapter=5&amp;verse=14&amp;version=c&amp;mr=m&amp;qw=q&amp;tp=txt_p&amp;tr=hb&amp;wget=v&amp;qget=v&amp;nget=vt\" title=\"Nehemiah 5:14\" sec=\"Nehemiah 5:14\">phrase</a> <a href=\"#\" class=\"nd\">884936</a>  <span class=\"function\">Time</span> <span class=\"typ\">PP|NP</span>\n",
       "    </div>\n",
       "    <div class=\"atoms\">\n",
       "\n",
       "<div class=\"word  \" >\n",
       "<a href=\"#\" class=\"nd\">385749</a>\n",
       "<div class=\"h\"><a target=\"_blank\" href=\"https://shebanq.ancient-data.org/hebrew/word?version=c&amp;id=1CNHn\" title=\"show this lexeme in SHEBANQ\">שָׁנִ֖ים </a></div>\n",
       "<div class=\"features\"> <span class=\"pdp\"><a href=\"https://shebanq.ancient-data.org/hebrew/text?book=Nehemia&amp;chapter=5&amp;verse=14&amp;version=c&amp;mr=m&amp;qw=q&amp;tp=txt_p&amp;tr=hb&amp;wget=v&amp;qget=v&amp;nget=vt\" title=\"Nehemiah 5:14\" sec=\"Nehemiah 5:14\">subs</a></span> <span class=\"gloss\">year</span> <span class=\"lex xft\"><span class=\"f\">lex=</span>CNH/</span></div>\n",
       "\n",
       "\n",
       "</div>\n",
       "\n",
       "<div class=\"word  \" >\n",
       "<a href=\"#\" class=\"nd\">385750</a>\n",
       "<div class=\"h\"><a target=\"_blank\" href=\"https://shebanq.ancient-data.org/hebrew/word?version=c&amp;id=1CNJMn\" title=\"show this lexeme in SHEBANQ\">שְׁתֵּ֣ים </a></div>\n",
       "<div class=\"features\"> <span class=\"pdp\"><a href=\"https://shebanq.ancient-data.org/hebrew/text?book=Nehemia&amp;chapter=5&amp;verse=14&amp;version=c&amp;mr=m&amp;qw=q&amp;tp=txt_p&amp;tr=hb&amp;wget=v&amp;qget=v&amp;nget=vt\" title=\"Nehemiah 5:14\" sec=\"Nehemiah 5:14\">subs</a></span> <span class=\"gloss\">two</span> <span class=\"lex xft\"><span class=\"f\">lex=</span>CNJM/</span></div>\n",
       "\n",
       "\n",
       "</div>\n",
       "\n",
       "<div class=\"word  \" >\n",
       "<a href=\"#\" class=\"nd\">385751</a>\n",
       "<div class=\"h\"><a target=\"_blank\" href=\"https://shebanq.ancient-data.org/hebrew/word?version=c&amp;id=1OFRHn\" title=\"show this lexeme in SHEBANQ\">עֶשְׂרֵ֑ה </a></div>\n",
       "<div class=\"features\"> <span class=\"pdp\"><a href=\"https://shebanq.ancient-data.org/hebrew/text?book=Nehemia&amp;chapter=5&amp;verse=14&amp;version=c&amp;mr=m&amp;qw=q&amp;tp=txt_p&amp;tr=hb&amp;wget=v&amp;qget=v&amp;nget=vt\" title=\"Nehemiah 5:14\" sec=\"Nehemiah 5:14\">subs</a></span> <span class=\"gloss\">-teen</span> <span class=\"lex xft\"><span class=\"f\">lex=</span>&lt;FRH/</span></div>\n",
       "\n",
       "\n",
       "</div>\n",
       "\n",
       "\n",
       "    </div>\n",
       "\n",
       "\n",
       "</div>\n",
       "\n",
       "\n",
       "</div>\n"
      ],
      "text/plain": [
       "<IPython.core.display.HTML object>"
      ]
     },
     "metadata": {},
     "output_type": "display_data"
    },
    {
     "data": {
      "text/html": [
       "<div style=\"background: #96ceb4; text-align: center\">part2</div>"
      ],
      "text/plain": [
       "<IPython.core.display.HTML object>"
      ]
     },
     "metadata": {},
     "output_type": "display_data"
    },
    {
     "data": {
      "text/html": [
       "<div style=\"background: #ffeead; text-align: center\">conj</div>"
      ],
      "text/plain": [
       "<IPython.core.display.HTML object>"
      ]
     },
     "metadata": {},
     "output_type": "display_data"
    },
    {
     "data": {
      "text/html": [
       "<div style=\"background: #ffcc5c; text-align: center\">part1</div>"
      ],
      "text/plain": [
       "<IPython.core.display.HTML object>"
      ]
     },
     "metadata": {},
     "output_type": "display_data"
    },
    {
     "name": "stdout",
     "output_type": "stream",
     "text": [
      "{   '__cx__': 'coord',\n",
      "    'conj': {'__cx__': 'conj', 'head': 385739},\n",
      "    'part1': {   '__cx__': 'prep_ph',\n",
      "                 'head': {   '__cx__': 'geni_ph',\n",
      "                             'geni': {'__cx__': 'card', 'head': 385738},\n",
      "                             'head': {'__cx__': 'cont', 'head': 385737}},\n",
      "                 'prep': {'__cx__': 'prep', 'head': 385736}},\n",
      "    'part2': {   '__cx__': 'prep_ph',\n",
      "                 'head': {   '__cx__': 'geni_ph',\n",
      "                             'geni': {   '__cx__': 'card_chain',\n",
      "                                         'card': {   '__cx__': 'card',\n",
      "                                                     'head': 385744},\n",
      "                                         'conj': {   '__cx__': 'conj',\n",
      "                                                     'head': 385743},\n",
      "                                         'head': {   '__cx__': 'card',\n",
      "                                                     'head': 385742}},\n",
      "                             'head': {'__cx__': 'cont', 'head': 385741}},\n",
      "                 'prep': {'__cx__': 'prep', 'head': 385740}}}\n",
      "\n"
     ]
    },
    {
     "data": {
      "text/html": [
       "<hr>"
      ],
      "text/plain": [
       "<IPython.core.display.HTML object>"
      ]
     },
     "metadata": {},
     "output_type": "display_data"
    },
    {
     "data": {
      "text/html": [
       "<p><b>result</b> <i>1450372 -> CX coord {389944, 389942, 389943}</i></p>"
      ],
      "text/plain": [
       "<IPython.core.display.HTML object>"
      ]
     },
     "metadata": {},
     "output_type": "display_data"
    },
    {
     "data": {
      "text/html": [
       "<a href=\"https://shebanq.ancient-data.org/hebrew/text?book=Nehemia&amp;chapter=12&amp;verse=22&amp;version=c&amp;mr=m&amp;qw=q&amp;tp=txt_p&amp;tr=hb&amp;wget=v&amp;qget=v&amp;nget=vt\" title=\"show this passage in SHEBANQ\" sec=\"Nehemiah 12:22\">Nehemiah 12:22</a>\n",
       "<div class=\"atoms  \" >\n",
       "<a href=\"#\" class=\"nd\">886832</a>\n",
       "\n",
       "\n",
       "\n",
       "<div class=\"patom  \" >\n",
       "\n",
       "    <div class=\"phrase \" >\n",
       "        <a href=\"https://shebanq.ancient-data.org/hebrew/text?book=Nehemia&amp;chapter=12&amp;verse=22&amp;version=c&amp;mr=m&amp;qw=q&amp;tp=txt_p&amp;tr=hb&amp;wget=v&amp;qget=v&amp;nget=vt\" title=\"Nehemiah 12:22\" sec=\"Nehemiah 12:22\">phrase</a> <a href=\"#\" class=\"nd\">886832</a>  <span class=\"function\">Time</span> <span class=\"typ\">PP</span>\n",
       "    </div>\n",
       "    <div class=\"atoms\">\n",
       "\n",
       "<div class=\"word  \" >\n",
       "<a href=\"#\" class=\"nd\">389939</a>\n",
       "<div class=\"h\"><a target=\"_blank\" href=\"https://shebanq.ancient-data.org/hebrew/word?version=c&amp;id=1B\" title=\"show this lexeme in SHEBANQ\">בִּ</a></div>\n",
       "<div class=\"features\"> <span class=\"pdp\"><a href=\"https://shebanq.ancient-data.org/hebrew/text?book=Nehemia&amp;chapter=12&amp;verse=22&amp;version=c&amp;mr=m&amp;qw=q&amp;tp=txt_p&amp;tr=hb&amp;wget=v&amp;qget=v&amp;nget=vt\" title=\"Nehemiah 12:22\" sec=\"Nehemiah 12:22\">prep</a></span> <span class=\"gloss\">in</span> <span class=\"lex xft\"><span class=\"f\">lex=</span>B</span></div>\n",
       "\n",
       "\n",
       "</div>\n",
       "\n",
       "<div class=\"word  \" >\n",
       "<a href=\"#\" class=\"nd\">389940</a>\n",
       "<div class=\"h\"><a target=\"_blank\" href=\"https://shebanq.ancient-data.org/hebrew/word?version=c&amp;id=1JWMn\" title=\"show this lexeme in SHEBANQ\">ימֵ֨י </a></div>\n",
       "<div class=\"features\"> <span class=\"pdp\"><a href=\"https://shebanq.ancient-data.org/hebrew/text?book=Nehemia&amp;chapter=12&amp;verse=22&amp;version=c&amp;mr=m&amp;qw=q&amp;tp=txt_p&amp;tr=hb&amp;wget=v&amp;qget=v&amp;nget=vt\" title=\"Nehemiah 12:22\" sec=\"Nehemiah 12:22\">subs</a></span> <span class=\"gloss\">day</span> <span class=\"lex xft\"><span class=\"f\">lex=</span>JWM/</span></div>\n",
       "\n",
       "\n",
       "</div>\n",
       "\n",
       "<div class=\"word  \" >\n",
       "<a href=\"#\" class=\"nd\">389941</a>\n",
       "<div class=\"h\"><a target=\"_blank\" href=\"https://shebanq.ancient-data.org/hebrew/word?version=c&amp;id=1ALJCJBn\" title=\"show this lexeme in SHEBANQ\">אֶלְיָשִׁ֜יב </a></div>\n",
       "<div class=\"features\"> <span class=\"pdp\"><a href=\"https://shebanq.ancient-data.org/hebrew/text?book=Nehemia&amp;chapter=12&amp;verse=22&amp;version=c&amp;mr=m&amp;qw=q&amp;tp=txt_p&amp;tr=hb&amp;wget=v&amp;qget=v&amp;nget=vt\" title=\"Nehemiah 12:22\" sec=\"Nehemiah 12:22\">nmpr</a></span> <span class=\"gloss\">Eliashib</span> <span class=\"lex xft\"><span class=\"f\">lex=</span>>LJCJB/</span></div>\n",
       "\n",
       "\n",
       "</div>\n",
       "\n",
       "<div class=\"word  hl\"  style=\"background-color: #ffcc5c;\" >\n",
       "<a href=\"#\" class=\"nd\">389942</a>\n",
       "<div class=\"h\"><a target=\"_blank\" href=\"https://shebanq.ancient-data.org/hebrew/word?version=c&amp;id=1JWJDOn\" title=\"show this lexeme in SHEBANQ\">יֹויָדָ֤ע </a></div>\n",
       "<div class=\"features\"> <span class=\"pdp\"><a href=\"https://shebanq.ancient-data.org/hebrew/text?book=Nehemia&amp;chapter=12&amp;verse=22&amp;version=c&amp;mr=m&amp;qw=q&amp;tp=txt_p&amp;tr=hb&amp;wget=v&amp;qget=v&amp;nget=vt\" title=\"Nehemiah 12:22\" sec=\"Nehemiah 12:22\">nmpr</a></span> <span class=\"gloss\">Joiada</span> <span class=\"lex xft\"><span class=\"f\">lex=</span>JWJD&lt;/</span></div>\n",
       "\n",
       "\n",
       "</div>\n",
       "\n",
       "<div class=\"word  hl\"  style=\"background-color: #ffeead;\" >\n",
       "<a href=\"#\" class=\"nd\">389943</a>\n",
       "<div class=\"h\"><a target=\"_blank\" href=\"https://shebanq.ancient-data.org/hebrew/word?version=c&amp;id=1W\" title=\"show this lexeme in SHEBANQ\">וְ</a></div>\n",
       "<div class=\"features\"> <span class=\"pdp\"><a href=\"https://shebanq.ancient-data.org/hebrew/text?book=Nehemia&amp;chapter=12&amp;verse=22&amp;version=c&amp;mr=m&amp;qw=q&amp;tp=txt_p&amp;tr=hb&amp;wget=v&amp;qget=v&amp;nget=vt\" title=\"Nehemiah 12:22\" sec=\"Nehemiah 12:22\">conj</a></span> <span class=\"gloss\">and</span> <span class=\"lex xft\"><span class=\"f\">lex=</span>W</span></div>\n",
       "\n",
       "\n",
       "</div>\n",
       "\n",
       "<div class=\"word  hl\"  style=\"background-color: #96ceb4;\" >\n",
       "<a href=\"#\" class=\"nd\">389944</a>\n",
       "<div class=\"h\"><a target=\"_blank\" href=\"https://shebanq.ancient-data.org/hebrew/word?version=c&amp;id=1JWXNNn\" title=\"show this lexeme in SHEBANQ\">יֹוחָנָן֙ </a></div>\n",
       "<div class=\"features\"> <span class=\"pdp\"><a href=\"https://shebanq.ancient-data.org/hebrew/text?book=Nehemia&amp;chapter=12&amp;verse=22&amp;version=c&amp;mr=m&amp;qw=q&amp;tp=txt_p&amp;tr=hb&amp;wget=v&amp;qget=v&amp;nget=vt\" title=\"Nehemiah 12:22\" sec=\"Nehemiah 12:22\">nmpr</a></span> <span class=\"gloss\">Johanan</span> <span class=\"lex xft\"><span class=\"f\">lex=</span>JWXNN/</span></div>\n",
       "\n",
       "\n",
       "</div>\n",
       "\n",
       "<div class=\"word  \" >\n",
       "<a href=\"#\" class=\"nd\">389945</a>\n",
       "<div class=\"h\"><a target=\"_blank\" href=\"https://shebanq.ancient-data.org/hebrew/word?version=c&amp;id=1W\" title=\"show this lexeme in SHEBANQ\">וְ</a></div>\n",
       "<div class=\"features\"> <span class=\"pdp\"><a href=\"https://shebanq.ancient-data.org/hebrew/text?book=Nehemia&amp;chapter=12&amp;verse=22&amp;version=c&amp;mr=m&amp;qw=q&amp;tp=txt_p&amp;tr=hb&amp;wget=v&amp;qget=v&amp;nget=vt\" title=\"Nehemiah 12:22\" sec=\"Nehemiah 12:22\">conj</a></span> <span class=\"gloss\">and</span> <span class=\"lex xft\"><span class=\"f\">lex=</span>W</span></div>\n",
       "\n",
       "\n",
       "</div>\n",
       "\n",
       "<div class=\"word  \" >\n",
       "<a href=\"#\" class=\"nd\">389946</a>\n",
       "<div class=\"h\"><a target=\"_blank\" href=\"https://shebanq.ancient-data.org/hebrew/word?version=c&amp;id=1JDWOn\" title=\"show this lexeme in SHEBANQ\">יַדּ֔וּעַ </a></div>\n",
       "<div class=\"features\"> <span class=\"pdp\"><a href=\"https://shebanq.ancient-data.org/hebrew/text?book=Nehemia&amp;chapter=12&amp;verse=22&amp;version=c&amp;mr=m&amp;qw=q&amp;tp=txt_p&amp;tr=hb&amp;wget=v&amp;qget=v&amp;nget=vt\" title=\"Nehemiah 12:22\" sec=\"Nehemiah 12:22\">nmpr</a></span> <span class=\"gloss\">Jaddua</span> <span class=\"lex xft\"><span class=\"f\">lex=</span>JDW&lt;/</span></div>\n",
       "\n",
       "\n",
       "</div>\n",
       "\n",
       "\n",
       "    </div>\n",
       "\n",
       "\n",
       "</div>\n",
       "\n",
       "\n",
       "</div>\n"
      ],
      "text/plain": [
       "<IPython.core.display.HTML object>"
      ]
     },
     "metadata": {},
     "output_type": "display_data"
    },
    {
     "data": {
      "text/html": [
       "<div style=\"background: #96ceb4; text-align: center\">part2</div>"
      ],
      "text/plain": [
       "<IPython.core.display.HTML object>"
      ]
     },
     "metadata": {},
     "output_type": "display_data"
    },
    {
     "data": {
      "text/html": [
       "<div style=\"background: #ffeead; text-align: center\">conj</div>"
      ],
      "text/plain": [
       "<IPython.core.display.HTML object>"
      ]
     },
     "metadata": {},
     "output_type": "display_data"
    },
    {
     "data": {
      "text/html": [
       "<div style=\"background: #ffcc5c; text-align: center\">part1</div>"
      ],
      "text/plain": [
       "<IPython.core.display.HTML object>"
      ]
     },
     "metadata": {},
     "output_type": "display_data"
    },
    {
     "name": "stdout",
     "output_type": "stream",
     "text": [
      "{   '__cx__': 'coord',\n",
      "    'conj': {'__cx__': 'conj', 'head': 389943},\n",
      "    'part1': {'__cx__': 'name', 'head': 389942},\n",
      "    'part2': {'__cx__': 'name', 'head': 389944}}\n",
      "\n"
     ]
    },
    {
     "data": {
      "text/html": [
       "<hr>"
      ],
      "text/plain": [
       "<IPython.core.display.HTML object>"
      ]
     },
     "metadata": {},
     "output_type": "display_data"
    },
    {
     "data": {
      "text/html": [
       "<p><b>result</b> <i>1450372 -> CX coord {389944, 389945, 389946}</i></p>"
      ],
      "text/plain": [
       "<IPython.core.display.HTML object>"
      ]
     },
     "metadata": {},
     "output_type": "display_data"
    },
    {
     "data": {
      "text/html": [
       "<a href=\"https://shebanq.ancient-data.org/hebrew/text?book=Nehemia&amp;chapter=12&amp;verse=22&amp;version=c&amp;mr=m&amp;qw=q&amp;tp=txt_p&amp;tr=hb&amp;wget=v&amp;qget=v&amp;nget=vt\" title=\"show this passage in SHEBANQ\" sec=\"Nehemiah 12:22\">Nehemiah 12:22</a>\n",
       "<div class=\"atoms  \" >\n",
       "<a href=\"#\" class=\"nd\">886832</a>\n",
       "\n",
       "\n",
       "\n",
       "<div class=\"patom  \" >\n",
       "\n",
       "    <div class=\"phrase \" >\n",
       "        <a href=\"https://shebanq.ancient-data.org/hebrew/text?book=Nehemia&amp;chapter=12&amp;verse=22&amp;version=c&amp;mr=m&amp;qw=q&amp;tp=txt_p&amp;tr=hb&amp;wget=v&amp;qget=v&amp;nget=vt\" title=\"Nehemiah 12:22\" sec=\"Nehemiah 12:22\">phrase</a> <a href=\"#\" class=\"nd\">886832</a>  <span class=\"function\">Time</span> <span class=\"typ\">PP</span>\n",
       "    </div>\n",
       "    <div class=\"atoms\">\n",
       "\n",
       "<div class=\"word  \" >\n",
       "<a href=\"#\" class=\"nd\">389939</a>\n",
       "<div class=\"h\"><a target=\"_blank\" href=\"https://shebanq.ancient-data.org/hebrew/word?version=c&amp;id=1B\" title=\"show this lexeme in SHEBANQ\">בִּ</a></div>\n",
       "<div class=\"features\"> <span class=\"pdp\"><a href=\"https://shebanq.ancient-data.org/hebrew/text?book=Nehemia&amp;chapter=12&amp;verse=22&amp;version=c&amp;mr=m&amp;qw=q&amp;tp=txt_p&amp;tr=hb&amp;wget=v&amp;qget=v&amp;nget=vt\" title=\"Nehemiah 12:22\" sec=\"Nehemiah 12:22\">prep</a></span> <span class=\"gloss\">in</span> <span class=\"lex xft\"><span class=\"f\">lex=</span>B</span></div>\n",
       "\n",
       "\n",
       "</div>\n",
       "\n",
       "<div class=\"word  \" >\n",
       "<a href=\"#\" class=\"nd\">389940</a>\n",
       "<div class=\"h\"><a target=\"_blank\" href=\"https://shebanq.ancient-data.org/hebrew/word?version=c&amp;id=1JWMn\" title=\"show this lexeme in SHEBANQ\">ימֵ֨י </a></div>\n",
       "<div class=\"features\"> <span class=\"pdp\"><a href=\"https://shebanq.ancient-data.org/hebrew/text?book=Nehemia&amp;chapter=12&amp;verse=22&amp;version=c&amp;mr=m&amp;qw=q&amp;tp=txt_p&amp;tr=hb&amp;wget=v&amp;qget=v&amp;nget=vt\" title=\"Nehemiah 12:22\" sec=\"Nehemiah 12:22\">subs</a></span> <span class=\"gloss\">day</span> <span class=\"lex xft\"><span class=\"f\">lex=</span>JWM/</span></div>\n",
       "\n",
       "\n",
       "</div>\n",
       "\n",
       "<div class=\"word  \" >\n",
       "<a href=\"#\" class=\"nd\">389941</a>\n",
       "<div class=\"h\"><a target=\"_blank\" href=\"https://shebanq.ancient-data.org/hebrew/word?version=c&amp;id=1ALJCJBn\" title=\"show this lexeme in SHEBANQ\">אֶלְיָשִׁ֜יב </a></div>\n",
       "<div class=\"features\"> <span class=\"pdp\"><a href=\"https://shebanq.ancient-data.org/hebrew/text?book=Nehemia&amp;chapter=12&amp;verse=22&amp;version=c&amp;mr=m&amp;qw=q&amp;tp=txt_p&amp;tr=hb&amp;wget=v&amp;qget=v&amp;nget=vt\" title=\"Nehemiah 12:22\" sec=\"Nehemiah 12:22\">nmpr</a></span> <span class=\"gloss\">Eliashib</span> <span class=\"lex xft\"><span class=\"f\">lex=</span>>LJCJB/</span></div>\n",
       "\n",
       "\n",
       "</div>\n",
       "\n",
       "<div class=\"word  \" >\n",
       "<a href=\"#\" class=\"nd\">389942</a>\n",
       "<div class=\"h\"><a target=\"_blank\" href=\"https://shebanq.ancient-data.org/hebrew/word?version=c&amp;id=1JWJDOn\" title=\"show this lexeme in SHEBANQ\">יֹויָדָ֤ע </a></div>\n",
       "<div class=\"features\"> <span class=\"pdp\"><a href=\"https://shebanq.ancient-data.org/hebrew/text?book=Nehemia&amp;chapter=12&amp;verse=22&amp;version=c&amp;mr=m&amp;qw=q&amp;tp=txt_p&amp;tr=hb&amp;wget=v&amp;qget=v&amp;nget=vt\" title=\"Nehemiah 12:22\" sec=\"Nehemiah 12:22\">nmpr</a></span> <span class=\"gloss\">Joiada</span> <span class=\"lex xft\"><span class=\"f\">lex=</span>JWJD&lt;/</span></div>\n",
       "\n",
       "\n",
       "</div>\n",
       "\n",
       "<div class=\"word  \" >\n",
       "<a href=\"#\" class=\"nd\">389943</a>\n",
       "<div class=\"h\"><a target=\"_blank\" href=\"https://shebanq.ancient-data.org/hebrew/word?version=c&amp;id=1W\" title=\"show this lexeme in SHEBANQ\">וְ</a></div>\n",
       "<div class=\"features\"> <span class=\"pdp\"><a href=\"https://shebanq.ancient-data.org/hebrew/text?book=Nehemia&amp;chapter=12&amp;verse=22&amp;version=c&amp;mr=m&amp;qw=q&amp;tp=txt_p&amp;tr=hb&amp;wget=v&amp;qget=v&amp;nget=vt\" title=\"Nehemiah 12:22\" sec=\"Nehemiah 12:22\">conj</a></span> <span class=\"gloss\">and</span> <span class=\"lex xft\"><span class=\"f\">lex=</span>W</span></div>\n",
       "\n",
       "\n",
       "</div>\n",
       "\n",
       "<div class=\"word  hl\"  style=\"background-color: #ffcc5c;\" >\n",
       "<a href=\"#\" class=\"nd\">389944</a>\n",
       "<div class=\"h\"><a target=\"_blank\" href=\"https://shebanq.ancient-data.org/hebrew/word?version=c&amp;id=1JWXNNn\" title=\"show this lexeme in SHEBANQ\">יֹוחָנָן֙ </a></div>\n",
       "<div class=\"features\"> <span class=\"pdp\"><a href=\"https://shebanq.ancient-data.org/hebrew/text?book=Nehemia&amp;chapter=12&amp;verse=22&amp;version=c&amp;mr=m&amp;qw=q&amp;tp=txt_p&amp;tr=hb&amp;wget=v&amp;qget=v&amp;nget=vt\" title=\"Nehemiah 12:22\" sec=\"Nehemiah 12:22\">nmpr</a></span> <span class=\"gloss\">Johanan</span> <span class=\"lex xft\"><span class=\"f\">lex=</span>JWXNN/</span></div>\n",
       "\n",
       "\n",
       "</div>\n",
       "\n",
       "<div class=\"word  hl\"  style=\"background-color: #ffeead;\" >\n",
       "<a href=\"#\" class=\"nd\">389945</a>\n",
       "<div class=\"h\"><a target=\"_blank\" href=\"https://shebanq.ancient-data.org/hebrew/word?version=c&amp;id=1W\" title=\"show this lexeme in SHEBANQ\">וְ</a></div>\n",
       "<div class=\"features\"> <span class=\"pdp\"><a href=\"https://shebanq.ancient-data.org/hebrew/text?book=Nehemia&amp;chapter=12&amp;verse=22&amp;version=c&amp;mr=m&amp;qw=q&amp;tp=txt_p&amp;tr=hb&amp;wget=v&amp;qget=v&amp;nget=vt\" title=\"Nehemiah 12:22\" sec=\"Nehemiah 12:22\">conj</a></span> <span class=\"gloss\">and</span> <span class=\"lex xft\"><span class=\"f\">lex=</span>W</span></div>\n",
       "\n",
       "\n",
       "</div>\n",
       "\n",
       "<div class=\"word  hl\"  style=\"background-color: #96ceb4;\" >\n",
       "<a href=\"#\" class=\"nd\">389946</a>\n",
       "<div class=\"h\"><a target=\"_blank\" href=\"https://shebanq.ancient-data.org/hebrew/word?version=c&amp;id=1JDWOn\" title=\"show this lexeme in SHEBANQ\">יַדּ֔וּעַ </a></div>\n",
       "<div class=\"features\"> <span class=\"pdp\"><a href=\"https://shebanq.ancient-data.org/hebrew/text?book=Nehemia&amp;chapter=12&amp;verse=22&amp;version=c&amp;mr=m&amp;qw=q&amp;tp=txt_p&amp;tr=hb&amp;wget=v&amp;qget=v&amp;nget=vt\" title=\"Nehemiah 12:22\" sec=\"Nehemiah 12:22\">nmpr</a></span> <span class=\"gloss\">Jaddua</span> <span class=\"lex xft\"><span class=\"f\">lex=</span>JDW&lt;/</span></div>\n",
       "\n",
       "\n",
       "</div>\n",
       "\n",
       "\n",
       "    </div>\n",
       "\n",
       "\n",
       "</div>\n",
       "\n",
       "\n",
       "</div>\n"
      ],
      "text/plain": [
       "<IPython.core.display.HTML object>"
      ]
     },
     "metadata": {},
     "output_type": "display_data"
    },
    {
     "data": {
      "text/html": [
       "<div style=\"background: #96ceb4; text-align: center\">part2</div>"
      ],
      "text/plain": [
       "<IPython.core.display.HTML object>"
      ]
     },
     "metadata": {},
     "output_type": "display_data"
    },
    {
     "data": {
      "text/html": [
       "<div style=\"background: #ffeead; text-align: center\">conj</div>"
      ],
      "text/plain": [
       "<IPython.core.display.HTML object>"
      ]
     },
     "metadata": {},
     "output_type": "display_data"
    },
    {
     "data": {
      "text/html": [
       "<div style=\"background: #ffcc5c; text-align: center\">part1</div>"
      ],
      "text/plain": [
       "<IPython.core.display.HTML object>"
      ]
     },
     "metadata": {},
     "output_type": "display_data"
    },
    {
     "name": "stdout",
     "output_type": "stream",
     "text": [
      "{   '__cx__': 'coord',\n",
      "    'conj': {'__cx__': 'conj', 'head': 389945},\n",
      "    'part1': {'__cx__': 'name', 'head': 389944},\n",
      "    'part2': {'__cx__': 'name', 'head': 389946}}\n",
      "\n"
     ]
    },
    {
     "data": {
      "text/html": [
       "<hr>"
      ],
      "text/plain": [
       "<IPython.core.display.HTML object>"
      ]
     },
     "metadata": {},
     "output_type": "display_data"
    },
    {
     "data": {
      "text/html": [
       "<p><b>result</b> <i>1450375 -> CX coord {390018, 390019, 390020, 390025, 390026, 390027, 390028}</i></p>"
      ],
      "text/plain": [
       "<IPython.core.display.HTML object>"
      ]
     },
     "metadata": {},
     "output_type": "display_data"
    },
    {
     "data": {
      "text/html": [
       "<a href=\"https://shebanq.ancient-data.org/hebrew/text?book=Nehemia&amp;chapter=12&amp;verse=26&amp;version=c&amp;mr=m&amp;qw=q&amp;tp=txt_p&amp;tr=hb&amp;wget=v&amp;qget=v&amp;nget=vt\" title=\"show this passage in SHEBANQ\" sec=\"Nehemiah 12:26\">Nehemiah 12:26</a>\n",
       "<div class=\"atoms  \" >\n",
       "<a href=\"#\" class=\"nd\">886858</a>\n",
       "\n",
       "\n",
       "\n",
       "<div class=\"patom  l \" >\n",
       "\n",
       "    <div class=\"phrase \" >\n",
       "        <a href=\"https://shebanq.ancient-data.org/hebrew/text?book=Nehemia&amp;chapter=12&amp;verse=26&amp;version=c&amp;mr=m&amp;qw=q&amp;tp=txt_p&amp;tr=hb&amp;wget=v&amp;qget=v&amp;nget=vt\" title=\"Nehemiah 12:26\" sec=\"Nehemiah 12:26\">phrase</a> <a href=\"#\" class=\"nd\">886858</a>  <span class=\"function\">Time</span> <span class=\"typ\">PP</span>\n",
       "    </div>\n",
       "    <div class=\"atoms\">\n",
       "\n",
       "<div class=\"word  hl\"  style=\"background-color: #ffcc5c;\" >\n",
       "<a href=\"#\" class=\"nd\">390018</a>\n",
       "<div class=\"h\"><a target=\"_blank\" href=\"https://shebanq.ancient-data.org/hebrew/word?version=c&amp;id=1B\" title=\"show this lexeme in SHEBANQ\">בִּ</a></div>\n",
       "<div class=\"features\"> <span class=\"pdp\"><a href=\"https://shebanq.ancient-data.org/hebrew/text?book=Nehemia&amp;chapter=12&amp;verse=26&amp;version=c&amp;mr=m&amp;qw=q&amp;tp=txt_p&amp;tr=hb&amp;wget=v&amp;qget=v&amp;nget=vt\" title=\"Nehemiah 12:26\" sec=\"Nehemiah 12:26\">prep</a></span> <span class=\"gloss\">in</span> <span class=\"lex xft\"><span class=\"f\">lex=</span>B</span></div>\n",
       "\n",
       "\n",
       "</div>\n",
       "\n",
       "<div class=\"word  hl\"  style=\"background-color: #ffcc5c;\" >\n",
       "<a href=\"#\" class=\"nd\">390019</a>\n",
       "<div class=\"h\"><a target=\"_blank\" href=\"https://shebanq.ancient-data.org/hebrew/word?version=c&amp;id=1JWMn\" title=\"show this lexeme in SHEBANQ\">ימֵ֛י </a></div>\n",
       "<div class=\"features\"> <span class=\"pdp\"><a href=\"https://shebanq.ancient-data.org/hebrew/text?book=Nehemia&amp;chapter=12&amp;verse=26&amp;version=c&amp;mr=m&amp;qw=q&amp;tp=txt_p&amp;tr=hb&amp;wget=v&amp;qget=v&amp;nget=vt\" title=\"Nehemiah 12:26\" sec=\"Nehemiah 12:26\">subs</a></span> <span class=\"gloss\">day</span> <span class=\"lex xft\"><span class=\"f\">lex=</span>JWM/</span></div>\n",
       "\n",
       "\n",
       "</div>\n",
       "\n",
       "<div class=\"word  hl\"  style=\"background-color: #ffcc5c;\" >\n",
       "<a href=\"#\" class=\"nd\">390020</a>\n",
       "<div class=\"h\"><a target=\"_blank\" href=\"https://shebanq.ancient-data.org/hebrew/word?version=c&amp;id=1JWJQJMn\" title=\"show this lexeme in SHEBANQ\">יֹויָקִ֥ים </a></div>\n",
       "<div class=\"features\"> <span class=\"pdp\"><a href=\"https://shebanq.ancient-data.org/hebrew/text?book=Nehemia&amp;chapter=12&amp;verse=26&amp;version=c&amp;mr=m&amp;qw=q&amp;tp=txt_p&amp;tr=hb&amp;wget=v&amp;qget=v&amp;nget=vt\" title=\"Nehemiah 12:26\" sec=\"Nehemiah 12:26\">nmpr</a></span> <span class=\"gloss\">Joiakim</span> <span class=\"lex xft\"><span class=\"f\">lex=</span>JWJQJM/</span></div>\n",
       "\n",
       "\n",
       "</div>\n",
       "\n",
       "\n",
       "    </div>\n",
       "\n",
       "\n",
       "</div>\n",
       "\n",
       "<div class=\"patom  r l \" >\n",
       "\n",
       "    <div class=\"phrase \" >\n",
       "        <a href=\"https://shebanq.ancient-data.org/hebrew/text?book=Nehemia&amp;chapter=12&amp;verse=26&amp;version=c&amp;mr=m&amp;qw=q&amp;tp=txt_p&amp;tr=hb&amp;wget=v&amp;qget=v&amp;nget=vt\" title=\"Nehemiah 12:26\" sec=\"Nehemiah 12:26\">phrase</a> <a href=\"#\" class=\"nd\">886858</a>  <span class=\"function\">Time</span> <span class=\"typ\">PP|NP</span>\n",
       "    </div>\n",
       "    <div class=\"atoms\">\n",
       "\n",
       "<div class=\"word  \" >\n",
       "<a href=\"#\" class=\"nd\">390021</a>\n",
       "<div class=\"h\"><a target=\"_blank\" href=\"https://shebanq.ancient-data.org/hebrew/word?version=c&amp;id=1BNn\" title=\"show this lexeme in SHEBANQ\">בֶּן־</a></div>\n",
       "<div class=\"features\"> <span class=\"pdp\"><a href=\"https://shebanq.ancient-data.org/hebrew/text?book=Nehemia&amp;chapter=12&amp;verse=26&amp;version=c&amp;mr=m&amp;qw=q&amp;tp=txt_p&amp;tr=hb&amp;wget=v&amp;qget=v&amp;nget=vt\" title=\"Nehemiah 12:26\" sec=\"Nehemiah 12:26\">subs</a></span> <span class=\"gloss\">son</span> <span class=\"lex xft\"><span class=\"f\">lex=</span>BN/</span></div>\n",
       "\n",
       "\n",
       "</div>\n",
       "\n",
       "<div class=\"word  \" >\n",
       "<a href=\"#\" class=\"nd\">390022</a>\n",
       "<div class=\"h\"><a target=\"_blank\" href=\"https://shebanq.ancient-data.org/hebrew/word?version=c&amp;id=1JCWOn\" title=\"show this lexeme in SHEBANQ\">יֵשׁ֖וּעַ </a></div>\n",
       "<div class=\"features\"> <span class=\"pdp\"><a href=\"https://shebanq.ancient-data.org/hebrew/text?book=Nehemia&amp;chapter=12&amp;verse=26&amp;version=c&amp;mr=m&amp;qw=q&amp;tp=txt_p&amp;tr=hb&amp;wget=v&amp;qget=v&amp;nget=vt\" title=\"Nehemiah 12:26\" sec=\"Nehemiah 12:26\">nmpr</a></span> <span class=\"gloss\">Jeshua</span> <span class=\"lex xft\"><span class=\"f\">lex=</span>JCW&lt;/</span></div>\n",
       "\n",
       "\n",
       "</div>\n",
       "\n",
       "\n",
       "    </div>\n",
       "\n",
       "\n",
       "</div>\n",
       "\n",
       "<div class=\"patom  r l \" >\n",
       "\n",
       "    <div class=\"phrase \" >\n",
       "        <a href=\"https://shebanq.ancient-data.org/hebrew/text?book=Nehemia&amp;chapter=12&amp;verse=26&amp;version=c&amp;mr=m&amp;qw=q&amp;tp=txt_p&amp;tr=hb&amp;wget=v&amp;qget=v&amp;nget=vt\" title=\"Nehemiah 12:26\" sec=\"Nehemiah 12:26\">phrase</a> <a href=\"#\" class=\"nd\">886858</a>  <span class=\"function\">Time</span> <span class=\"typ\">PP|NP</span>\n",
       "    </div>\n",
       "    <div class=\"atoms\">\n",
       "\n",
       "<div class=\"word  \" >\n",
       "<a href=\"#\" class=\"nd\">390023</a>\n",
       "<div class=\"h\"><a target=\"_blank\" href=\"https://shebanq.ancient-data.org/hebrew/word?version=c&amp;id=1BNn\" title=\"show this lexeme in SHEBANQ\">בֶּן־</a></div>\n",
       "<div class=\"features\"> <span class=\"pdp\"><a href=\"https://shebanq.ancient-data.org/hebrew/text?book=Nehemia&amp;chapter=12&amp;verse=26&amp;version=c&amp;mr=m&amp;qw=q&amp;tp=txt_p&amp;tr=hb&amp;wget=v&amp;qget=v&amp;nget=vt\" title=\"Nehemiah 12:26\" sec=\"Nehemiah 12:26\">subs</a></span> <span class=\"gloss\">son</span> <span class=\"lex xft\"><span class=\"f\">lex=</span>BN/</span></div>\n",
       "\n",
       "\n",
       "</div>\n",
       "\n",
       "<div class=\"word  \" >\n",
       "<a href=\"#\" class=\"nd\">390024</a>\n",
       "<div class=\"h\"><a target=\"_blank\" href=\"https://shebanq.ancient-data.org/hebrew/word?version=c&amp;id=1JWYDQn\" title=\"show this lexeme in SHEBANQ\">יֹוצָדָ֑ק </a></div>\n",
       "<div class=\"features\"> <span class=\"pdp\"><a href=\"https://shebanq.ancient-data.org/hebrew/text?book=Nehemia&amp;chapter=12&amp;verse=26&amp;version=c&amp;mr=m&amp;qw=q&amp;tp=txt_p&amp;tr=hb&amp;wget=v&amp;qget=v&amp;nget=vt\" title=\"Nehemiah 12:26\" sec=\"Nehemiah 12:26\">nmpr</a></span> <span class=\"gloss\">Jozadak</span> <span class=\"lex xft\"><span class=\"f\">lex=</span>JWYDQ/</span></div>\n",
       "\n",
       "\n",
       "</div>\n",
       "\n",
       "\n",
       "    </div>\n",
       "\n",
       "\n",
       "</div>\n",
       "\n",
       "<div class=\"patom  r l \" >\n",
       "\n",
       "    <div class=\"phrase \" >\n",
       "        <a href=\"https://shebanq.ancient-data.org/hebrew/text?book=Nehemia&amp;chapter=12&amp;verse=26&amp;version=c&amp;mr=m&amp;qw=q&amp;tp=txt_p&amp;tr=hb&amp;wget=v&amp;qget=v&amp;nget=vt\" title=\"Nehemiah 12:26\" sec=\"Nehemiah 12:26\">phrase</a> <a href=\"#\" class=\"nd\">886858</a>  <span class=\"function\">Time</span> <span class=\"typ\">PP|CP</span>\n",
       "    </div>\n",
       "    <div class=\"atoms\">\n",
       "\n",
       "<div class=\"word  hl\"  style=\"background-color: #ffeead;\" >\n",
       "<a href=\"#\" class=\"nd\">390025</a>\n",
       "<div class=\"h\"><a target=\"_blank\" href=\"https://shebanq.ancient-data.org/hebrew/word?version=c&amp;id=1W\" title=\"show this lexeme in SHEBANQ\">וּ</a></div>\n",
       "<div class=\"features\"> <span class=\"pdp\"><a href=\"https://shebanq.ancient-data.org/hebrew/text?book=Nehemia&amp;chapter=12&amp;verse=26&amp;version=c&amp;mr=m&amp;qw=q&amp;tp=txt_p&amp;tr=hb&amp;wget=v&amp;qget=v&amp;nget=vt\" title=\"Nehemiah 12:26\" sec=\"Nehemiah 12:26\">conj</a></span> <span class=\"gloss\">and</span> <span class=\"lex xft\"><span class=\"f\">lex=</span>W</span></div>\n",
       "\n",
       "\n",
       "</div>\n",
       "\n",
       "\n",
       "    </div>\n",
       "\n",
       "\n",
       "</div>\n",
       "\n",
       "<div class=\"patom  r l \" >\n",
       "\n",
       "    <div class=\"phrase \" >\n",
       "        <a href=\"https://shebanq.ancient-data.org/hebrew/text?book=Nehemia&amp;chapter=12&amp;verse=26&amp;version=c&amp;mr=m&amp;qw=q&amp;tp=txt_p&amp;tr=hb&amp;wget=v&amp;qget=v&amp;nget=vt\" title=\"Nehemiah 12:26\" sec=\"Nehemiah 12:26\">phrase</a> <a href=\"#\" class=\"nd\">886858</a>  <span class=\"function\">Time</span> <span class=\"typ\">PP</span>\n",
       "    </div>\n",
       "    <div class=\"atoms\">\n",
       "\n",
       "<div class=\"word  hl\"  style=\"background-color: #96ceb4;\" >\n",
       "<a href=\"#\" class=\"nd\">390026</a>\n",
       "<div class=\"h\"><a target=\"_blank\" href=\"https://shebanq.ancient-data.org/hebrew/word?version=c&amp;id=1B\" title=\"show this lexeme in SHEBANQ\">בִ</a></div>\n",
       "<div class=\"features\"> <span class=\"pdp\"><a href=\"https://shebanq.ancient-data.org/hebrew/text?book=Nehemia&amp;chapter=12&amp;verse=26&amp;version=c&amp;mr=m&amp;qw=q&amp;tp=txt_p&amp;tr=hb&amp;wget=v&amp;qget=v&amp;nget=vt\" title=\"Nehemiah 12:26\" sec=\"Nehemiah 12:26\">prep</a></span> <span class=\"gloss\">in</span> <span class=\"lex xft\"><span class=\"f\">lex=</span>B</span></div>\n",
       "\n",
       "\n",
       "</div>\n",
       "\n",
       "<div class=\"word  hl\"  style=\"background-color: #96ceb4;\" >\n",
       "<a href=\"#\" class=\"nd\">390027</a>\n",
       "<div class=\"h\"><a target=\"_blank\" href=\"https://shebanq.ancient-data.org/hebrew/word?version=c&amp;id=1JWMn\" title=\"show this lexeme in SHEBANQ\">ימֵי֙ </a></div>\n",
       "<div class=\"features\"> <span class=\"pdp\"><a href=\"https://shebanq.ancient-data.org/hebrew/text?book=Nehemia&amp;chapter=12&amp;verse=26&amp;version=c&amp;mr=m&amp;qw=q&amp;tp=txt_p&amp;tr=hb&amp;wget=v&amp;qget=v&amp;nget=vt\" title=\"Nehemiah 12:26\" sec=\"Nehemiah 12:26\">subs</a></span> <span class=\"gloss\">day</span> <span class=\"lex xft\"><span class=\"f\">lex=</span>JWM/</span></div>\n",
       "\n",
       "\n",
       "</div>\n",
       "\n",
       "<div class=\"word  hl\"  style=\"background-color: #96ceb4;\" >\n",
       "<a href=\"#\" class=\"nd\">390028</a>\n",
       "<div class=\"h\"><a target=\"_blank\" href=\"https://shebanq.ancient-data.org/hebrew/word?version=c&amp;id=1NXMJHn\" title=\"show this lexeme in SHEBANQ\">נְחֶמְיָ֣ה </a></div>\n",
       "<div class=\"features\"> <span class=\"pdp\"><a href=\"https://shebanq.ancient-data.org/hebrew/text?book=Nehemia&amp;chapter=12&amp;verse=26&amp;version=c&amp;mr=m&amp;qw=q&amp;tp=txt_p&amp;tr=hb&amp;wget=v&amp;qget=v&amp;nget=vt\" title=\"Nehemiah 12:26\" sec=\"Nehemiah 12:26\">nmpr</a></span> <span class=\"gloss\">Nehemiah</span> <span class=\"lex xft\"><span class=\"f\">lex=</span>NXMJH/</span></div>\n",
       "\n",
       "\n",
       "</div>\n",
       "\n",
       "\n",
       "    </div>\n",
       "\n",
       "\n",
       "</div>\n",
       "\n",
       "<div class=\"patom  r l \" >\n",
       "\n",
       "    <div class=\"phrase \" >\n",
       "        <a href=\"https://shebanq.ancient-data.org/hebrew/text?book=Nehemia&amp;chapter=12&amp;verse=26&amp;version=c&amp;mr=m&amp;qw=q&amp;tp=txt_p&amp;tr=hb&amp;wget=v&amp;qget=v&amp;nget=vt\" title=\"Nehemiah 12:26\" sec=\"Nehemiah 12:26\">phrase</a> <a href=\"#\" class=\"nd\">886858</a>  <span class=\"function\">Time</span> <span class=\"typ\">PP|NP</span>\n",
       "    </div>\n",
       "    <div class=\"atoms\">\n",
       "\n",
       "<div class=\"word  \" >\n",
       "<a href=\"#\" class=\"nd\">390029</a>\n",
       "<div class=\"h\"><a target=\"_blank\" href=\"https://shebanq.ancient-data.org/hebrew/word?version=c&amp;id=1H\" title=\"show this lexeme in SHEBANQ\">הַ</a></div>\n",
       "<div class=\"features\"> <span class=\"pdp\"><a href=\"https://shebanq.ancient-data.org/hebrew/text?book=Nehemia&amp;chapter=12&amp;verse=26&amp;version=c&amp;mr=m&amp;qw=q&amp;tp=txt_p&amp;tr=hb&amp;wget=v&amp;qget=v&amp;nget=vt\" title=\"Nehemiah 12:26\" sec=\"Nehemiah 12:26\">art</a></span> <span class=\"gloss\">the</span> <span class=\"lex xft\"><span class=\"f\">lex=</span>H</span></div>\n",
       "\n",
       "\n",
       "</div>\n",
       "\n",
       "<div class=\"word  \" >\n",
       "<a href=\"#\" class=\"nd\">390030</a>\n",
       "<div class=\"h\"><a target=\"_blank\" href=\"https://shebanq.ancient-data.org/hebrew/word?version=c&amp;id=1PXHn\" title=\"show this lexeme in SHEBANQ\">פֶּחָ֔ה </a></div>\n",
       "<div class=\"features\"> <span class=\"pdp\"><a href=\"https://shebanq.ancient-data.org/hebrew/text?book=Nehemia&amp;chapter=12&amp;verse=26&amp;version=c&amp;mr=m&amp;qw=q&amp;tp=txt_p&amp;tr=hb&amp;wget=v&amp;qget=v&amp;nget=vt\" title=\"Nehemiah 12:26\" sec=\"Nehemiah 12:26\">subs</a></span> <span class=\"gloss\">governor</span> <span class=\"lex xft\"><span class=\"f\">lex=</span>PXH/</span></div>\n",
       "\n",
       "\n",
       "</div>\n",
       "\n",
       "\n",
       "    </div>\n",
       "\n",
       "\n",
       "</div>\n",
       "\n",
       "<div class=\"patom  r l \" >\n",
       "\n",
       "    <div class=\"phrase \" >\n",
       "        <a href=\"https://shebanq.ancient-data.org/hebrew/text?book=Nehemia&amp;chapter=12&amp;verse=26&amp;version=c&amp;mr=m&amp;qw=q&amp;tp=txt_p&amp;tr=hb&amp;wget=v&amp;qget=v&amp;nget=vt\" title=\"Nehemiah 12:26\" sec=\"Nehemiah 12:26\">phrase</a> <a href=\"#\" class=\"nd\">886858</a>  <span class=\"function\">Time</span> <span class=\"typ\">PP|CP</span>\n",
       "    </div>\n",
       "    <div class=\"atoms\">\n",
       "\n",
       "<div class=\"word  \" >\n",
       "<a href=\"#\" class=\"nd\">390031</a>\n",
       "<div class=\"h\"><a target=\"_blank\" href=\"https://shebanq.ancient-data.org/hebrew/word?version=c&amp;id=1W\" title=\"show this lexeme in SHEBANQ\">וְ</a></div>\n",
       "<div class=\"features\"> <span class=\"pdp\"><a href=\"https://shebanq.ancient-data.org/hebrew/text?book=Nehemia&amp;chapter=12&amp;verse=26&amp;version=c&amp;mr=m&amp;qw=q&amp;tp=txt_p&amp;tr=hb&amp;wget=v&amp;qget=v&amp;nget=vt\" title=\"Nehemiah 12:26\" sec=\"Nehemiah 12:26\">conj</a></span> <span class=\"gloss\">and</span> <span class=\"lex xft\"><span class=\"f\">lex=</span>W</span></div>\n",
       "\n",
       "\n",
       "</div>\n",
       "\n",
       "\n",
       "    </div>\n",
       "\n",
       "\n",
       "</div>\n",
       "\n",
       "<div class=\"patom  r l \" >\n",
       "\n",
       "    <div class=\"phrase \" >\n",
       "        <a href=\"https://shebanq.ancient-data.org/hebrew/text?book=Nehemia&amp;chapter=12&amp;verse=26&amp;version=c&amp;mr=m&amp;qw=q&amp;tp=txt_p&amp;tr=hb&amp;wget=v&amp;qget=v&amp;nget=vt\" title=\"Nehemiah 12:26\" sec=\"Nehemiah 12:26\">phrase</a> <a href=\"#\" class=\"nd\">886858</a>  <span class=\"function\">Time</span> <span class=\"typ\">PP|PrNP</span>\n",
       "    </div>\n",
       "    <div class=\"atoms\">\n",
       "\n",
       "<div class=\"word  \" >\n",
       "<a href=\"#\" class=\"nd\">390032</a>\n",
       "<div class=\"h\"><a target=\"_blank\" href=\"https://shebanq.ancient-data.org/hebrew/word?version=c&amp;id=1OZRAn\" title=\"show this lexeme in SHEBANQ\">עֶזְרָ֥א </a></div>\n",
       "<div class=\"features\"> <span class=\"pdp\"><a href=\"https://shebanq.ancient-data.org/hebrew/text?book=Nehemia&amp;chapter=12&amp;verse=26&amp;version=c&amp;mr=m&amp;qw=q&amp;tp=txt_p&amp;tr=hb&amp;wget=v&amp;qget=v&amp;nget=vt\" title=\"Nehemiah 12:26\" sec=\"Nehemiah 12:26\">nmpr</a></span> <span class=\"gloss\">Ezra</span> <span class=\"lex xft\"><span class=\"f\">lex=</span>&lt;ZR>/</span></div>\n",
       "\n",
       "\n",
       "</div>\n",
       "\n",
       "\n",
       "    </div>\n",
       "\n",
       "\n",
       "</div>\n",
       "\n",
       "<div class=\"patom  r l \" >\n",
       "\n",
       "    <div class=\"phrase \" >\n",
       "        <a href=\"https://shebanq.ancient-data.org/hebrew/text?book=Nehemia&amp;chapter=12&amp;verse=26&amp;version=c&amp;mr=m&amp;qw=q&amp;tp=txt_p&amp;tr=hb&amp;wget=v&amp;qget=v&amp;nget=vt\" title=\"Nehemiah 12:26\" sec=\"Nehemiah 12:26\">phrase</a> <a href=\"#\" class=\"nd\">886858</a>  <span class=\"function\">Time</span> <span class=\"typ\">PP|NP</span>\n",
       "    </div>\n",
       "    <div class=\"atoms\">\n",
       "\n",
       "<div class=\"word  \" >\n",
       "<a href=\"#\" class=\"nd\">390033</a>\n",
       "<div class=\"h\"><a target=\"_blank\" href=\"https://shebanq.ancient-data.org/hebrew/word?version=c&amp;id=1H\" title=\"show this lexeme in SHEBANQ\">הַ</a></div>\n",
       "<div class=\"features\"> <span class=\"pdp\"><a href=\"https://shebanq.ancient-data.org/hebrew/text?book=Nehemia&amp;chapter=12&amp;verse=26&amp;version=c&amp;mr=m&amp;qw=q&amp;tp=txt_p&amp;tr=hb&amp;wget=v&amp;qget=v&amp;nget=vt\" title=\"Nehemiah 12:26\" sec=\"Nehemiah 12:26\">art</a></span> <span class=\"gloss\">the</span> <span class=\"lex xft\"><span class=\"f\">lex=</span>H</span></div>\n",
       "\n",
       "\n",
       "</div>\n",
       "\n",
       "<div class=\"word  \" >\n",
       "<a href=\"#\" class=\"nd\">390034</a>\n",
       "<div class=\"h\"><a target=\"_blank\" href=\"https://shebanq.ancient-data.org/hebrew/word?version=c&amp;id=1KHNn\" title=\"show this lexeme in SHEBANQ\">כֹּהֵ֖ן </a></div>\n",
       "<div class=\"features\"> <span class=\"pdp\"><a href=\"https://shebanq.ancient-data.org/hebrew/text?book=Nehemia&amp;chapter=12&amp;verse=26&amp;version=c&amp;mr=m&amp;qw=q&amp;tp=txt_p&amp;tr=hb&amp;wget=v&amp;qget=v&amp;nget=vt\" title=\"Nehemiah 12:26\" sec=\"Nehemiah 12:26\">subs</a></span> <span class=\"gloss\">priest</span> <span class=\"lex xft\"><span class=\"f\">lex=</span>KHN/</span></div>\n",
       "\n",
       "\n",
       "</div>\n",
       "\n",
       "\n",
       "    </div>\n",
       "\n",
       "\n",
       "</div>\n",
       "\n",
       "<div class=\"patom  r \" >\n",
       "\n",
       "    <div class=\"phrase \" >\n",
       "        <a href=\"https://shebanq.ancient-data.org/hebrew/text?book=Nehemia&amp;chapter=12&amp;verse=26&amp;version=c&amp;mr=m&amp;qw=q&amp;tp=txt_p&amp;tr=hb&amp;wget=v&amp;qget=v&amp;nget=vt\" title=\"Nehemiah 12:26\" sec=\"Nehemiah 12:26\">phrase</a> <a href=\"#\" class=\"nd\">886858</a>  <span class=\"function\">Time</span> <span class=\"typ\">PP|NP</span>\n",
       "    </div>\n",
       "    <div class=\"atoms\">\n",
       "\n",
       "<div class=\"word  \" >\n",
       "<a href=\"#\" class=\"nd\">390035</a>\n",
       "<div class=\"h\"><a target=\"_blank\" href=\"https://shebanq.ancient-data.org/hebrew/word?version=c&amp;id=1H\" title=\"show this lexeme in SHEBANQ\">הַ</a></div>\n",
       "<div class=\"features\"> <span class=\"pdp\"><a href=\"https://shebanq.ancient-data.org/hebrew/text?book=Nehemia&amp;chapter=12&amp;verse=26&amp;version=c&amp;mr=m&amp;qw=q&amp;tp=txt_p&amp;tr=hb&amp;wget=v&amp;qget=v&amp;nget=vt\" title=\"Nehemiah 12:26\" sec=\"Nehemiah 12:26\">art</a></span> <span class=\"gloss\">the</span> <span class=\"lex xft\"><span class=\"f\">lex=</span>H</span></div>\n",
       "\n",
       "\n",
       "</div>\n",
       "\n",
       "<div class=\"word  \" >\n",
       "<a href=\"#\" class=\"nd\">390036</a>\n",
       "<div class=\"h\"><a target=\"_blank\" href=\"https://shebanq.ancient-data.org/hebrew/word?version=c&amp;id=1SPRin\" title=\"show this lexeme in SHEBANQ\">סֹּופֵֽר׃ פ </a></div>\n",
       "<div class=\"features\"> <span class=\"pdp\"><a href=\"https://shebanq.ancient-data.org/hebrew/text?book=Nehemia&amp;chapter=12&amp;verse=26&amp;version=c&amp;mr=m&amp;qw=q&amp;tp=txt_p&amp;tr=hb&amp;wget=v&amp;qget=v&amp;nget=vt\" title=\"Nehemiah 12:26\" sec=\"Nehemiah 12:26\">subs</a></span> <span class=\"gloss\">scribe</span> <span class=\"lex xft\"><span class=\"f\">lex=</span>SPR=/</span></div>\n",
       "\n",
       "\n",
       "</div>\n",
       "\n",
       "\n",
       "    </div>\n",
       "\n",
       "\n",
       "</div>\n",
       "\n",
       "\n",
       "</div>\n"
      ],
      "text/plain": [
       "<IPython.core.display.HTML object>"
      ]
     },
     "metadata": {},
     "output_type": "display_data"
    },
    {
     "data": {
      "text/html": [
       "<div style=\"background: #96ceb4; text-align: center\">part2</div>"
      ],
      "text/plain": [
       "<IPython.core.display.HTML object>"
      ]
     },
     "metadata": {},
     "output_type": "display_data"
    },
    {
     "data": {
      "text/html": [
       "<div style=\"background: #ffeead; text-align: center\">conj</div>"
      ],
      "text/plain": [
       "<IPython.core.display.HTML object>"
      ]
     },
     "metadata": {},
     "output_type": "display_data"
    },
    {
     "data": {
      "text/html": [
       "<div style=\"background: #ffcc5c; text-align: center\">part1</div>"
      ],
      "text/plain": [
       "<IPython.core.display.HTML object>"
      ]
     },
     "metadata": {},
     "output_type": "display_data"
    },
    {
     "name": "stdout",
     "output_type": "stream",
     "text": [
      "{   '__cx__': 'coord',\n",
      "    'conj': {'__cx__': 'conj', 'head': 390025},\n",
      "    'part1': {   '__cx__': 'prep_ph',\n",
      "                 'head': {   '__cx__': 'geni_ph',\n",
      "                             'geni': {'__cx__': 'name', 'head': 390020},\n",
      "                             'head': {'__cx__': 'cont', 'head': 390019}},\n",
      "                 'prep': {'__cx__': 'prep', 'head': 390018}},\n",
      "    'part2': {   '__cx__': 'prep_ph',\n",
      "                 'head': {   '__cx__': 'geni_ph',\n",
      "                             'geni': {'__cx__': 'name', 'head': 390028},\n",
      "                             'head': {'__cx__': 'cont', 'head': 390027}},\n",
      "                 'prep': {'__cx__': 'prep', 'head': 390026}}}\n",
      "\n"
     ]
    },
    {
     "data": {
      "text/html": [
       "<hr>"
      ],
      "text/plain": [
       "<IPython.core.display.HTML object>"
      ]
     },
     "metadata": {},
     "output_type": "display_data"
    },
    {
     "data": {
      "text/html": [
       "<p><b>result</b> <i>1450375 -> CX coord {390032, 390029, 390030, 390031}</i></p>"
      ],
      "text/plain": [
       "<IPython.core.display.HTML object>"
      ]
     },
     "metadata": {},
     "output_type": "display_data"
    },
    {
     "data": {
      "text/html": [
       "<a href=\"https://shebanq.ancient-data.org/hebrew/text?book=Nehemia&amp;chapter=12&amp;verse=26&amp;version=c&amp;mr=m&amp;qw=q&amp;tp=txt_p&amp;tr=hb&amp;wget=v&amp;qget=v&amp;nget=vt\" title=\"show this passage in SHEBANQ\" sec=\"Nehemiah 12:26\">Nehemiah 12:26</a>\n",
       "<div class=\"atoms  \" >\n",
       "<a href=\"#\" class=\"nd\">886858</a>\n",
       "\n",
       "\n",
       "\n",
       "<div class=\"patom  l \" >\n",
       "\n",
       "    <div class=\"phrase \" >\n",
       "        <a href=\"https://shebanq.ancient-data.org/hebrew/text?book=Nehemia&amp;chapter=12&amp;verse=26&amp;version=c&amp;mr=m&amp;qw=q&amp;tp=txt_p&amp;tr=hb&amp;wget=v&amp;qget=v&amp;nget=vt\" title=\"Nehemiah 12:26\" sec=\"Nehemiah 12:26\">phrase</a> <a href=\"#\" class=\"nd\">886858</a>  <span class=\"function\">Time</span> <span class=\"typ\">PP</span>\n",
       "    </div>\n",
       "    <div class=\"atoms\">\n",
       "\n",
       "<div class=\"word  \" >\n",
       "<a href=\"#\" class=\"nd\">390018</a>\n",
       "<div class=\"h\"><a target=\"_blank\" href=\"https://shebanq.ancient-data.org/hebrew/word?version=c&amp;id=1B\" title=\"show this lexeme in SHEBANQ\">בִּ</a></div>\n",
       "<div class=\"features\"> <span class=\"pdp\"><a href=\"https://shebanq.ancient-data.org/hebrew/text?book=Nehemia&amp;chapter=12&amp;verse=26&amp;version=c&amp;mr=m&amp;qw=q&amp;tp=txt_p&amp;tr=hb&amp;wget=v&amp;qget=v&amp;nget=vt\" title=\"Nehemiah 12:26\" sec=\"Nehemiah 12:26\">prep</a></span> <span class=\"gloss\">in</span> <span class=\"lex xft\"><span class=\"f\">lex=</span>B</span></div>\n",
       "\n",
       "\n",
       "</div>\n",
       "\n",
       "<div class=\"word  \" >\n",
       "<a href=\"#\" class=\"nd\">390019</a>\n",
       "<div class=\"h\"><a target=\"_blank\" href=\"https://shebanq.ancient-data.org/hebrew/word?version=c&amp;id=1JWMn\" title=\"show this lexeme in SHEBANQ\">ימֵ֛י </a></div>\n",
       "<div class=\"features\"> <span class=\"pdp\"><a href=\"https://shebanq.ancient-data.org/hebrew/text?book=Nehemia&amp;chapter=12&amp;verse=26&amp;version=c&amp;mr=m&amp;qw=q&amp;tp=txt_p&amp;tr=hb&amp;wget=v&amp;qget=v&amp;nget=vt\" title=\"Nehemiah 12:26\" sec=\"Nehemiah 12:26\">subs</a></span> <span class=\"gloss\">day</span> <span class=\"lex xft\"><span class=\"f\">lex=</span>JWM/</span></div>\n",
       "\n",
       "\n",
       "</div>\n",
       "\n",
       "<div class=\"word  \" >\n",
       "<a href=\"#\" class=\"nd\">390020</a>\n",
       "<div class=\"h\"><a target=\"_blank\" href=\"https://shebanq.ancient-data.org/hebrew/word?version=c&amp;id=1JWJQJMn\" title=\"show this lexeme in SHEBANQ\">יֹויָקִ֥ים </a></div>\n",
       "<div class=\"features\"> <span class=\"pdp\"><a href=\"https://shebanq.ancient-data.org/hebrew/text?book=Nehemia&amp;chapter=12&amp;verse=26&amp;version=c&amp;mr=m&amp;qw=q&amp;tp=txt_p&amp;tr=hb&amp;wget=v&amp;qget=v&amp;nget=vt\" title=\"Nehemiah 12:26\" sec=\"Nehemiah 12:26\">nmpr</a></span> <span class=\"gloss\">Joiakim</span> <span class=\"lex xft\"><span class=\"f\">lex=</span>JWJQJM/</span></div>\n",
       "\n",
       "\n",
       "</div>\n",
       "\n",
       "\n",
       "    </div>\n",
       "\n",
       "\n",
       "</div>\n",
       "\n",
       "<div class=\"patom  r l \" >\n",
       "\n",
       "    <div class=\"phrase \" >\n",
       "        <a href=\"https://shebanq.ancient-data.org/hebrew/text?book=Nehemia&amp;chapter=12&amp;verse=26&amp;version=c&amp;mr=m&amp;qw=q&amp;tp=txt_p&amp;tr=hb&amp;wget=v&amp;qget=v&amp;nget=vt\" title=\"Nehemiah 12:26\" sec=\"Nehemiah 12:26\">phrase</a> <a href=\"#\" class=\"nd\">886858</a>  <span class=\"function\">Time</span> <span class=\"typ\">PP|NP</span>\n",
       "    </div>\n",
       "    <div class=\"atoms\">\n",
       "\n",
       "<div class=\"word  \" >\n",
       "<a href=\"#\" class=\"nd\">390021</a>\n",
       "<div class=\"h\"><a target=\"_blank\" href=\"https://shebanq.ancient-data.org/hebrew/word?version=c&amp;id=1BNn\" title=\"show this lexeme in SHEBANQ\">בֶּן־</a></div>\n",
       "<div class=\"features\"> <span class=\"pdp\"><a href=\"https://shebanq.ancient-data.org/hebrew/text?book=Nehemia&amp;chapter=12&amp;verse=26&amp;version=c&amp;mr=m&amp;qw=q&amp;tp=txt_p&amp;tr=hb&amp;wget=v&amp;qget=v&amp;nget=vt\" title=\"Nehemiah 12:26\" sec=\"Nehemiah 12:26\">subs</a></span> <span class=\"gloss\">son</span> <span class=\"lex xft\"><span class=\"f\">lex=</span>BN/</span></div>\n",
       "\n",
       "\n",
       "</div>\n",
       "\n",
       "<div class=\"word  \" >\n",
       "<a href=\"#\" class=\"nd\">390022</a>\n",
       "<div class=\"h\"><a target=\"_blank\" href=\"https://shebanq.ancient-data.org/hebrew/word?version=c&amp;id=1JCWOn\" title=\"show this lexeme in SHEBANQ\">יֵשׁ֖וּעַ </a></div>\n",
       "<div class=\"features\"> <span class=\"pdp\"><a href=\"https://shebanq.ancient-data.org/hebrew/text?book=Nehemia&amp;chapter=12&amp;verse=26&amp;version=c&amp;mr=m&amp;qw=q&amp;tp=txt_p&amp;tr=hb&amp;wget=v&amp;qget=v&amp;nget=vt\" title=\"Nehemiah 12:26\" sec=\"Nehemiah 12:26\">nmpr</a></span> <span class=\"gloss\">Jeshua</span> <span class=\"lex xft\"><span class=\"f\">lex=</span>JCW&lt;/</span></div>\n",
       "\n",
       "\n",
       "</div>\n",
       "\n",
       "\n",
       "    </div>\n",
       "\n",
       "\n",
       "</div>\n",
       "\n",
       "<div class=\"patom  r l \" >\n",
       "\n",
       "    <div class=\"phrase \" >\n",
       "        <a href=\"https://shebanq.ancient-data.org/hebrew/text?book=Nehemia&amp;chapter=12&amp;verse=26&amp;version=c&amp;mr=m&amp;qw=q&amp;tp=txt_p&amp;tr=hb&amp;wget=v&amp;qget=v&amp;nget=vt\" title=\"Nehemiah 12:26\" sec=\"Nehemiah 12:26\">phrase</a> <a href=\"#\" class=\"nd\">886858</a>  <span class=\"function\">Time</span> <span class=\"typ\">PP|NP</span>\n",
       "    </div>\n",
       "    <div class=\"atoms\">\n",
       "\n",
       "<div class=\"word  \" >\n",
       "<a href=\"#\" class=\"nd\">390023</a>\n",
       "<div class=\"h\"><a target=\"_blank\" href=\"https://shebanq.ancient-data.org/hebrew/word?version=c&amp;id=1BNn\" title=\"show this lexeme in SHEBANQ\">בֶּן־</a></div>\n",
       "<div class=\"features\"> <span class=\"pdp\"><a href=\"https://shebanq.ancient-data.org/hebrew/text?book=Nehemia&amp;chapter=12&amp;verse=26&amp;version=c&amp;mr=m&amp;qw=q&amp;tp=txt_p&amp;tr=hb&amp;wget=v&amp;qget=v&amp;nget=vt\" title=\"Nehemiah 12:26\" sec=\"Nehemiah 12:26\">subs</a></span> <span class=\"gloss\">son</span> <span class=\"lex xft\"><span class=\"f\">lex=</span>BN/</span></div>\n",
       "\n",
       "\n",
       "</div>\n",
       "\n",
       "<div class=\"word  \" >\n",
       "<a href=\"#\" class=\"nd\">390024</a>\n",
       "<div class=\"h\"><a target=\"_blank\" href=\"https://shebanq.ancient-data.org/hebrew/word?version=c&amp;id=1JWYDQn\" title=\"show this lexeme in SHEBANQ\">יֹוצָדָ֑ק </a></div>\n",
       "<div class=\"features\"> <span class=\"pdp\"><a href=\"https://shebanq.ancient-data.org/hebrew/text?book=Nehemia&amp;chapter=12&amp;verse=26&amp;version=c&amp;mr=m&amp;qw=q&amp;tp=txt_p&amp;tr=hb&amp;wget=v&amp;qget=v&amp;nget=vt\" title=\"Nehemiah 12:26\" sec=\"Nehemiah 12:26\">nmpr</a></span> <span class=\"gloss\">Jozadak</span> <span class=\"lex xft\"><span class=\"f\">lex=</span>JWYDQ/</span></div>\n",
       "\n",
       "\n",
       "</div>\n",
       "\n",
       "\n",
       "    </div>\n",
       "\n",
       "\n",
       "</div>\n",
       "\n",
       "<div class=\"patom  r l \" >\n",
       "\n",
       "    <div class=\"phrase \" >\n",
       "        <a href=\"https://shebanq.ancient-data.org/hebrew/text?book=Nehemia&amp;chapter=12&amp;verse=26&amp;version=c&amp;mr=m&amp;qw=q&amp;tp=txt_p&amp;tr=hb&amp;wget=v&amp;qget=v&amp;nget=vt\" title=\"Nehemiah 12:26\" sec=\"Nehemiah 12:26\">phrase</a> <a href=\"#\" class=\"nd\">886858</a>  <span class=\"function\">Time</span> <span class=\"typ\">PP|CP</span>\n",
       "    </div>\n",
       "    <div class=\"atoms\">\n",
       "\n",
       "<div class=\"word  \" >\n",
       "<a href=\"#\" class=\"nd\">390025</a>\n",
       "<div class=\"h\"><a target=\"_blank\" href=\"https://shebanq.ancient-data.org/hebrew/word?version=c&amp;id=1W\" title=\"show this lexeme in SHEBANQ\">וּ</a></div>\n",
       "<div class=\"features\"> <span class=\"pdp\"><a href=\"https://shebanq.ancient-data.org/hebrew/text?book=Nehemia&amp;chapter=12&amp;verse=26&amp;version=c&amp;mr=m&amp;qw=q&amp;tp=txt_p&amp;tr=hb&amp;wget=v&amp;qget=v&amp;nget=vt\" title=\"Nehemiah 12:26\" sec=\"Nehemiah 12:26\">conj</a></span> <span class=\"gloss\">and</span> <span class=\"lex xft\"><span class=\"f\">lex=</span>W</span></div>\n",
       "\n",
       "\n",
       "</div>\n",
       "\n",
       "\n",
       "    </div>\n",
       "\n",
       "\n",
       "</div>\n",
       "\n",
       "<div class=\"patom  r l \" >\n",
       "\n",
       "    <div class=\"phrase \" >\n",
       "        <a href=\"https://shebanq.ancient-data.org/hebrew/text?book=Nehemia&amp;chapter=12&amp;verse=26&amp;version=c&amp;mr=m&amp;qw=q&amp;tp=txt_p&amp;tr=hb&amp;wget=v&amp;qget=v&amp;nget=vt\" title=\"Nehemiah 12:26\" sec=\"Nehemiah 12:26\">phrase</a> <a href=\"#\" class=\"nd\">886858</a>  <span class=\"function\">Time</span> <span class=\"typ\">PP</span>\n",
       "    </div>\n",
       "    <div class=\"atoms\">\n",
       "\n",
       "<div class=\"word  \" >\n",
       "<a href=\"#\" class=\"nd\">390026</a>\n",
       "<div class=\"h\"><a target=\"_blank\" href=\"https://shebanq.ancient-data.org/hebrew/word?version=c&amp;id=1B\" title=\"show this lexeme in SHEBANQ\">בִ</a></div>\n",
       "<div class=\"features\"> <span class=\"pdp\"><a href=\"https://shebanq.ancient-data.org/hebrew/text?book=Nehemia&amp;chapter=12&amp;verse=26&amp;version=c&amp;mr=m&amp;qw=q&amp;tp=txt_p&amp;tr=hb&amp;wget=v&amp;qget=v&amp;nget=vt\" title=\"Nehemiah 12:26\" sec=\"Nehemiah 12:26\">prep</a></span> <span class=\"gloss\">in</span> <span class=\"lex xft\"><span class=\"f\">lex=</span>B</span></div>\n",
       "\n",
       "\n",
       "</div>\n",
       "\n",
       "<div class=\"word  \" >\n",
       "<a href=\"#\" class=\"nd\">390027</a>\n",
       "<div class=\"h\"><a target=\"_blank\" href=\"https://shebanq.ancient-data.org/hebrew/word?version=c&amp;id=1JWMn\" title=\"show this lexeme in SHEBANQ\">ימֵי֙ </a></div>\n",
       "<div class=\"features\"> <span class=\"pdp\"><a href=\"https://shebanq.ancient-data.org/hebrew/text?book=Nehemia&amp;chapter=12&amp;verse=26&amp;version=c&amp;mr=m&amp;qw=q&amp;tp=txt_p&amp;tr=hb&amp;wget=v&amp;qget=v&amp;nget=vt\" title=\"Nehemiah 12:26\" sec=\"Nehemiah 12:26\">subs</a></span> <span class=\"gloss\">day</span> <span class=\"lex xft\"><span class=\"f\">lex=</span>JWM/</span></div>\n",
       "\n",
       "\n",
       "</div>\n",
       "\n",
       "<div class=\"word  \" >\n",
       "<a href=\"#\" class=\"nd\">390028</a>\n",
       "<div class=\"h\"><a target=\"_blank\" href=\"https://shebanq.ancient-data.org/hebrew/word?version=c&amp;id=1NXMJHn\" title=\"show this lexeme in SHEBANQ\">נְחֶמְיָ֣ה </a></div>\n",
       "<div class=\"features\"> <span class=\"pdp\"><a href=\"https://shebanq.ancient-data.org/hebrew/text?book=Nehemia&amp;chapter=12&amp;verse=26&amp;version=c&amp;mr=m&amp;qw=q&amp;tp=txt_p&amp;tr=hb&amp;wget=v&amp;qget=v&amp;nget=vt\" title=\"Nehemiah 12:26\" sec=\"Nehemiah 12:26\">nmpr</a></span> <span class=\"gloss\">Nehemiah</span> <span class=\"lex xft\"><span class=\"f\">lex=</span>NXMJH/</span></div>\n",
       "\n",
       "\n",
       "</div>\n",
       "\n",
       "\n",
       "    </div>\n",
       "\n",
       "\n",
       "</div>\n",
       "\n",
       "<div class=\"patom  r l \" >\n",
       "\n",
       "    <div class=\"phrase \" >\n",
       "        <a href=\"https://shebanq.ancient-data.org/hebrew/text?book=Nehemia&amp;chapter=12&amp;verse=26&amp;version=c&amp;mr=m&amp;qw=q&amp;tp=txt_p&amp;tr=hb&amp;wget=v&amp;qget=v&amp;nget=vt\" title=\"Nehemiah 12:26\" sec=\"Nehemiah 12:26\">phrase</a> <a href=\"#\" class=\"nd\">886858</a>  <span class=\"function\">Time</span> <span class=\"typ\">PP|NP</span>\n",
       "    </div>\n",
       "    <div class=\"atoms\">\n",
       "\n",
       "<div class=\"word  hl\"  style=\"background-color: #ffcc5c;\" >\n",
       "<a href=\"#\" class=\"nd\">390029</a>\n",
       "<div class=\"h\"><a target=\"_blank\" href=\"https://shebanq.ancient-data.org/hebrew/word?version=c&amp;id=1H\" title=\"show this lexeme in SHEBANQ\">הַ</a></div>\n",
       "<div class=\"features\"> <span class=\"pdp\"><a href=\"https://shebanq.ancient-data.org/hebrew/text?book=Nehemia&amp;chapter=12&amp;verse=26&amp;version=c&amp;mr=m&amp;qw=q&amp;tp=txt_p&amp;tr=hb&amp;wget=v&amp;qget=v&amp;nget=vt\" title=\"Nehemiah 12:26\" sec=\"Nehemiah 12:26\">art</a></span> <span class=\"gloss\">the</span> <span class=\"lex xft\"><span class=\"f\">lex=</span>H</span></div>\n",
       "\n",
       "\n",
       "</div>\n",
       "\n",
       "<div class=\"word  hl\"  style=\"background-color: #ffcc5c;\" >\n",
       "<a href=\"#\" class=\"nd\">390030</a>\n",
       "<div class=\"h\"><a target=\"_blank\" href=\"https://shebanq.ancient-data.org/hebrew/word?version=c&amp;id=1PXHn\" title=\"show this lexeme in SHEBANQ\">פֶּחָ֔ה </a></div>\n",
       "<div class=\"features\"> <span class=\"pdp\"><a href=\"https://shebanq.ancient-data.org/hebrew/text?book=Nehemia&amp;chapter=12&amp;verse=26&amp;version=c&amp;mr=m&amp;qw=q&amp;tp=txt_p&amp;tr=hb&amp;wget=v&amp;qget=v&amp;nget=vt\" title=\"Nehemiah 12:26\" sec=\"Nehemiah 12:26\">subs</a></span> <span class=\"gloss\">governor</span> <span class=\"lex xft\"><span class=\"f\">lex=</span>PXH/</span></div>\n",
       "\n",
       "\n",
       "</div>\n",
       "\n",
       "\n",
       "    </div>\n",
       "\n",
       "\n",
       "</div>\n",
       "\n",
       "<div class=\"patom  r l \" >\n",
       "\n",
       "    <div class=\"phrase \" >\n",
       "        <a href=\"https://shebanq.ancient-data.org/hebrew/text?book=Nehemia&amp;chapter=12&amp;verse=26&amp;version=c&amp;mr=m&amp;qw=q&amp;tp=txt_p&amp;tr=hb&amp;wget=v&amp;qget=v&amp;nget=vt\" title=\"Nehemiah 12:26\" sec=\"Nehemiah 12:26\">phrase</a> <a href=\"#\" class=\"nd\">886858</a>  <span class=\"function\">Time</span> <span class=\"typ\">PP|CP</span>\n",
       "    </div>\n",
       "    <div class=\"atoms\">\n",
       "\n",
       "<div class=\"word  hl\"  style=\"background-color: #ffeead;\" >\n",
       "<a href=\"#\" class=\"nd\">390031</a>\n",
       "<div class=\"h\"><a target=\"_blank\" href=\"https://shebanq.ancient-data.org/hebrew/word?version=c&amp;id=1W\" title=\"show this lexeme in SHEBANQ\">וְ</a></div>\n",
       "<div class=\"features\"> <span class=\"pdp\"><a href=\"https://shebanq.ancient-data.org/hebrew/text?book=Nehemia&amp;chapter=12&amp;verse=26&amp;version=c&amp;mr=m&amp;qw=q&amp;tp=txt_p&amp;tr=hb&amp;wget=v&amp;qget=v&amp;nget=vt\" title=\"Nehemiah 12:26\" sec=\"Nehemiah 12:26\">conj</a></span> <span class=\"gloss\">and</span> <span class=\"lex xft\"><span class=\"f\">lex=</span>W</span></div>\n",
       "\n",
       "\n",
       "</div>\n",
       "\n",
       "\n",
       "    </div>\n",
       "\n",
       "\n",
       "</div>\n",
       "\n",
       "<div class=\"patom  r l \" >\n",
       "\n",
       "    <div class=\"phrase \" >\n",
       "        <a href=\"https://shebanq.ancient-data.org/hebrew/text?book=Nehemia&amp;chapter=12&amp;verse=26&amp;version=c&amp;mr=m&amp;qw=q&amp;tp=txt_p&amp;tr=hb&amp;wget=v&amp;qget=v&amp;nget=vt\" title=\"Nehemiah 12:26\" sec=\"Nehemiah 12:26\">phrase</a> <a href=\"#\" class=\"nd\">886858</a>  <span class=\"function\">Time</span> <span class=\"typ\">PP|PrNP</span>\n",
       "    </div>\n",
       "    <div class=\"atoms\">\n",
       "\n",
       "<div class=\"word  hl\"  style=\"background-color: #96ceb4;\" >\n",
       "<a href=\"#\" class=\"nd\">390032</a>\n",
       "<div class=\"h\"><a target=\"_blank\" href=\"https://shebanq.ancient-data.org/hebrew/word?version=c&amp;id=1OZRAn\" title=\"show this lexeme in SHEBANQ\">עֶזְרָ֥א </a></div>\n",
       "<div class=\"features\"> <span class=\"pdp\"><a href=\"https://shebanq.ancient-data.org/hebrew/text?book=Nehemia&amp;chapter=12&amp;verse=26&amp;version=c&amp;mr=m&amp;qw=q&amp;tp=txt_p&amp;tr=hb&amp;wget=v&amp;qget=v&amp;nget=vt\" title=\"Nehemiah 12:26\" sec=\"Nehemiah 12:26\">nmpr</a></span> <span class=\"gloss\">Ezra</span> <span class=\"lex xft\"><span class=\"f\">lex=</span>&lt;ZR>/</span></div>\n",
       "\n",
       "\n",
       "</div>\n",
       "\n",
       "\n",
       "    </div>\n",
       "\n",
       "\n",
       "</div>\n",
       "\n",
       "<div class=\"patom  r l \" >\n",
       "\n",
       "    <div class=\"phrase \" >\n",
       "        <a href=\"https://shebanq.ancient-data.org/hebrew/text?book=Nehemia&amp;chapter=12&amp;verse=26&amp;version=c&amp;mr=m&amp;qw=q&amp;tp=txt_p&amp;tr=hb&amp;wget=v&amp;qget=v&amp;nget=vt\" title=\"Nehemiah 12:26\" sec=\"Nehemiah 12:26\">phrase</a> <a href=\"#\" class=\"nd\">886858</a>  <span class=\"function\">Time</span> <span class=\"typ\">PP|NP</span>\n",
       "    </div>\n",
       "    <div class=\"atoms\">\n",
       "\n",
       "<div class=\"word  \" >\n",
       "<a href=\"#\" class=\"nd\">390033</a>\n",
       "<div class=\"h\"><a target=\"_blank\" href=\"https://shebanq.ancient-data.org/hebrew/word?version=c&amp;id=1H\" title=\"show this lexeme in SHEBANQ\">הַ</a></div>\n",
       "<div class=\"features\"> <span class=\"pdp\"><a href=\"https://shebanq.ancient-data.org/hebrew/text?book=Nehemia&amp;chapter=12&amp;verse=26&amp;version=c&amp;mr=m&amp;qw=q&amp;tp=txt_p&amp;tr=hb&amp;wget=v&amp;qget=v&amp;nget=vt\" title=\"Nehemiah 12:26\" sec=\"Nehemiah 12:26\">art</a></span> <span class=\"gloss\">the</span> <span class=\"lex xft\"><span class=\"f\">lex=</span>H</span></div>\n",
       "\n",
       "\n",
       "</div>\n",
       "\n",
       "<div class=\"word  \" >\n",
       "<a href=\"#\" class=\"nd\">390034</a>\n",
       "<div class=\"h\"><a target=\"_blank\" href=\"https://shebanq.ancient-data.org/hebrew/word?version=c&amp;id=1KHNn\" title=\"show this lexeme in SHEBANQ\">כֹּהֵ֖ן </a></div>\n",
       "<div class=\"features\"> <span class=\"pdp\"><a href=\"https://shebanq.ancient-data.org/hebrew/text?book=Nehemia&amp;chapter=12&amp;verse=26&amp;version=c&amp;mr=m&amp;qw=q&amp;tp=txt_p&amp;tr=hb&amp;wget=v&amp;qget=v&amp;nget=vt\" title=\"Nehemiah 12:26\" sec=\"Nehemiah 12:26\">subs</a></span> <span class=\"gloss\">priest</span> <span class=\"lex xft\"><span class=\"f\">lex=</span>KHN/</span></div>\n",
       "\n",
       "\n",
       "</div>\n",
       "\n",
       "\n",
       "    </div>\n",
       "\n",
       "\n",
       "</div>\n",
       "\n",
       "<div class=\"patom  r \" >\n",
       "\n",
       "    <div class=\"phrase \" >\n",
       "        <a href=\"https://shebanq.ancient-data.org/hebrew/text?book=Nehemia&amp;chapter=12&amp;verse=26&amp;version=c&amp;mr=m&amp;qw=q&amp;tp=txt_p&amp;tr=hb&amp;wget=v&amp;qget=v&amp;nget=vt\" title=\"Nehemiah 12:26\" sec=\"Nehemiah 12:26\">phrase</a> <a href=\"#\" class=\"nd\">886858</a>  <span class=\"function\">Time</span> <span class=\"typ\">PP|NP</span>\n",
       "    </div>\n",
       "    <div class=\"atoms\">\n",
       "\n",
       "<div class=\"word  \" >\n",
       "<a href=\"#\" class=\"nd\">390035</a>\n",
       "<div class=\"h\"><a target=\"_blank\" href=\"https://shebanq.ancient-data.org/hebrew/word?version=c&amp;id=1H\" title=\"show this lexeme in SHEBANQ\">הַ</a></div>\n",
       "<div class=\"features\"> <span class=\"pdp\"><a href=\"https://shebanq.ancient-data.org/hebrew/text?book=Nehemia&amp;chapter=12&amp;verse=26&amp;version=c&amp;mr=m&amp;qw=q&amp;tp=txt_p&amp;tr=hb&amp;wget=v&amp;qget=v&amp;nget=vt\" title=\"Nehemiah 12:26\" sec=\"Nehemiah 12:26\">art</a></span> <span class=\"gloss\">the</span> <span class=\"lex xft\"><span class=\"f\">lex=</span>H</span></div>\n",
       "\n",
       "\n",
       "</div>\n",
       "\n",
       "<div class=\"word  \" >\n",
       "<a href=\"#\" class=\"nd\">390036</a>\n",
       "<div class=\"h\"><a target=\"_blank\" href=\"https://shebanq.ancient-data.org/hebrew/word?version=c&amp;id=1SPRin\" title=\"show this lexeme in SHEBANQ\">סֹּופֵֽר׃ פ </a></div>\n",
       "<div class=\"features\"> <span class=\"pdp\"><a href=\"https://shebanq.ancient-data.org/hebrew/text?book=Nehemia&amp;chapter=12&amp;verse=26&amp;version=c&amp;mr=m&amp;qw=q&amp;tp=txt_p&amp;tr=hb&amp;wget=v&amp;qget=v&amp;nget=vt\" title=\"Nehemiah 12:26\" sec=\"Nehemiah 12:26\">subs</a></span> <span class=\"gloss\">scribe</span> <span class=\"lex xft\"><span class=\"f\">lex=</span>SPR=/</span></div>\n",
       "\n",
       "\n",
       "</div>\n",
       "\n",
       "\n",
       "    </div>\n",
       "\n",
       "\n",
       "</div>\n",
       "\n",
       "\n",
       "</div>\n"
      ],
      "text/plain": [
       "<IPython.core.display.HTML object>"
      ]
     },
     "metadata": {},
     "output_type": "display_data"
    },
    {
     "data": {
      "text/html": [
       "<div style=\"background: #96ceb4; text-align: center\">part2</div>"
      ],
      "text/plain": [
       "<IPython.core.display.HTML object>"
      ]
     },
     "metadata": {},
     "output_type": "display_data"
    },
    {
     "data": {
      "text/html": [
       "<div style=\"background: #ffeead; text-align: center\">conj</div>"
      ],
      "text/plain": [
       "<IPython.core.display.HTML object>"
      ]
     },
     "metadata": {},
     "output_type": "display_data"
    },
    {
     "data": {
      "text/html": [
       "<div style=\"background: #ffcc5c; text-align: center\">part1</div>"
      ],
      "text/plain": [
       "<IPython.core.display.HTML object>"
      ]
     },
     "metadata": {},
     "output_type": "display_data"
    },
    {
     "name": "stdout",
     "output_type": "stream",
     "text": [
      "{   '__cx__': 'coord',\n",
      "    'conj': {'__cx__': 'conj', 'head': 390031},\n",
      "    'part1': {   '__cx__': 'defi_ph',\n",
      "                 'art': {'__cx__': 'art', 'head': 390029},\n",
      "                 'head': {'__cx__': 'cont', 'head': 390030}},\n",
      "    'part2': {'__cx__': 'name', 'head': 390032}}\n",
      "\n"
     ]
    },
    {
     "data": {
      "text/html": [
       "<hr>"
      ],
      "text/plain": [
       "<IPython.core.display.HTML object>"
      ]
     },
     "metadata": {},
     "output_type": "display_data"
    },
    {
     "data": {
      "text/html": [
       "<p><b>result</b> <i>1450378 -> CX coord {390469, 390470, 390471}</i></p>"
      ],
      "text/plain": [
       "<IPython.core.display.HTML object>"
      ]
     },
     "metadata": {},
     "output_type": "display_data"
    },
    {
     "data": {
      "text/html": [
       "<a href=\"https://shebanq.ancient-data.org/hebrew/text?book=Nehemia&amp;chapter=12&amp;verse=46&amp;version=c&amp;mr=m&amp;qw=q&amp;tp=txt_p&amp;tr=hb&amp;wget=v&amp;qget=v&amp;nget=vt\" title=\"show this passage in SHEBANQ\" sec=\"Nehemiah 12:46\">Nehemiah 12:46</a>\n",
       "<div class=\"atoms  \" >\n",
       "<a href=\"#\" class=\"nd\">886999</a>\n",
       "\n",
       "\n",
       "\n",
       "<div class=\"patom  l \" >\n",
       "\n",
       "    <div class=\"phrase \" >\n",
       "        <a href=\"https://shebanq.ancient-data.org/hebrew/text?book=Nehemia&amp;chapter=12&amp;verse=46&amp;version=c&amp;mr=m&amp;qw=q&amp;tp=txt_p&amp;tr=hb&amp;wget=v&amp;qget=v&amp;nget=vt\" title=\"Nehemiah 12:46\" sec=\"Nehemiah 12:46\">phrase</a> <a href=\"#\" class=\"nd\">886999</a>  <span class=\"function\">Time</span> <span class=\"typ\">PP</span>\n",
       "    </div>\n",
       "    <div class=\"atoms\">\n",
       "\n",
       "<div class=\"word  \" >\n",
       "<a href=\"#\" class=\"nd\">390467</a>\n",
       "<div class=\"h\"><a target=\"_blank\" href=\"https://shebanq.ancient-data.org/hebrew/word?version=c&amp;id=1B\" title=\"show this lexeme in SHEBANQ\">בִ</a></div>\n",
       "<div class=\"features\"> <span class=\"pdp\"><a href=\"https://shebanq.ancient-data.org/hebrew/text?book=Nehemia&amp;chapter=12&amp;verse=46&amp;version=c&amp;mr=m&amp;qw=q&amp;tp=txt_p&amp;tr=hb&amp;wget=v&amp;qget=v&amp;nget=vt\" title=\"Nehemiah 12:46\" sec=\"Nehemiah 12:46\">prep</a></span> <span class=\"gloss\">in</span> <span class=\"lex xft\"><span class=\"f\">lex=</span>B</span></div>\n",
       "\n",
       "\n",
       "</div>\n",
       "\n",
       "<div class=\"word  \" >\n",
       "<a href=\"#\" class=\"nd\">390468</a>\n",
       "<div class=\"h\"><a target=\"_blank\" href=\"https://shebanq.ancient-data.org/hebrew/word?version=c&amp;id=1JWMn\" title=\"show this lexeme in SHEBANQ\">ימֵ֥י </a></div>\n",
       "<div class=\"features\"> <span class=\"pdp\"><a href=\"https://shebanq.ancient-data.org/hebrew/text?book=Nehemia&amp;chapter=12&amp;verse=46&amp;version=c&amp;mr=m&amp;qw=q&amp;tp=txt_p&amp;tr=hb&amp;wget=v&amp;qget=v&amp;nget=vt\" title=\"Nehemiah 12:46\" sec=\"Nehemiah 12:46\">subs</a></span> <span class=\"gloss\">day</span> <span class=\"lex xft\"><span class=\"f\">lex=</span>JWM/</span></div>\n",
       "\n",
       "\n",
       "</div>\n",
       "\n",
       "<div class=\"word  hl\"  style=\"background-color: #ffcc5c;\" >\n",
       "<a href=\"#\" class=\"nd\">390469</a>\n",
       "<div class=\"h\"><a target=\"_blank\" href=\"https://shebanq.ancient-data.org/hebrew/word?version=c&amp;id=1DWDiin\" title=\"show this lexeme in SHEBANQ\">דָוִ֛יד </a></div>\n",
       "<div class=\"features\"> <span class=\"pdp\"><a href=\"https://shebanq.ancient-data.org/hebrew/text?book=Nehemia&amp;chapter=12&amp;verse=46&amp;version=c&amp;mr=m&amp;qw=q&amp;tp=txt_p&amp;tr=hb&amp;wget=v&amp;qget=v&amp;nget=vt\" title=\"Nehemiah 12:46\" sec=\"Nehemiah 12:46\">nmpr</a></span> <span class=\"gloss\">David</span> <span class=\"lex xft\"><span class=\"f\">lex=</span>DWD==/</span></div>\n",
       "\n",
       "\n",
       "</div>\n",
       "\n",
       "<div class=\"word  hl\"  style=\"background-color: #ffeead;\" >\n",
       "<a href=\"#\" class=\"nd\">390470</a>\n",
       "<div class=\"h\"><a target=\"_blank\" href=\"https://shebanq.ancient-data.org/hebrew/word?version=c&amp;id=1W\" title=\"show this lexeme in SHEBANQ\">וְ</a></div>\n",
       "<div class=\"features\"> <span class=\"pdp\"><a href=\"https://shebanq.ancient-data.org/hebrew/text?book=Nehemia&amp;chapter=12&amp;verse=46&amp;version=c&amp;mr=m&amp;qw=q&amp;tp=txt_p&amp;tr=hb&amp;wget=v&amp;qget=v&amp;nget=vt\" title=\"Nehemiah 12:46\" sec=\"Nehemiah 12:46\">conj</a></span> <span class=\"gloss\">and</span> <span class=\"lex xft\"><span class=\"f\">lex=</span>W</span></div>\n",
       "\n",
       "\n",
       "</div>\n",
       "\n",
       "<div class=\"word  hl\"  style=\"background-color: #96ceb4;\" >\n",
       "<a href=\"#\" class=\"nd\">390471</a>\n",
       "<div class=\"h\"><a target=\"_blank\" href=\"https://shebanq.ancient-data.org/hebrew/word?version=c&amp;id=1ASPiin\" title=\"show this lexeme in SHEBANQ\">אָסָ֖ף </a></div>\n",
       "<div class=\"features\"> <span class=\"pdp\"><a href=\"https://shebanq.ancient-data.org/hebrew/text?book=Nehemia&amp;chapter=12&amp;verse=46&amp;version=c&amp;mr=m&amp;qw=q&amp;tp=txt_p&amp;tr=hb&amp;wget=v&amp;qget=v&amp;nget=vt\" title=\"Nehemiah 12:46\" sec=\"Nehemiah 12:46\">nmpr</a></span> <span class=\"gloss\">Asaph</span> <span class=\"lex xft\"><span class=\"f\">lex=</span>>SP==/</span></div>\n",
       "\n",
       "\n",
       "</div>\n",
       "\n",
       "\n",
       "    </div>\n",
       "\n",
       "\n",
       "</div>\n",
       "\n",
       "<div class=\"patom  r \" >\n",
       "\n",
       "    <div class=\"phrase \" >\n",
       "        <a href=\"https://shebanq.ancient-data.org/hebrew/text?book=Nehemia&amp;chapter=12&amp;verse=46&amp;version=c&amp;mr=m&amp;qw=q&amp;tp=txt_p&amp;tr=hb&amp;wget=v&amp;qget=v&amp;nget=vt\" title=\"Nehemiah 12:46\" sec=\"Nehemiah 12:46\">phrase</a> <a href=\"#\" class=\"nd\">886999</a>  <span class=\"function\">Time</span> <span class=\"typ\">PP</span>\n",
       "    </div>\n",
       "    <div class=\"atoms\">\n",
       "\n",
       "<div class=\"word  \" >\n",
       "<a href=\"#\" class=\"nd\">390472</a>\n",
       "<div class=\"h\"><a target=\"_blank\" href=\"https://shebanq.ancient-data.org/hebrew/word?version=c&amp;id=1MN\" title=\"show this lexeme in SHEBANQ\">מִ</a></div>\n",
       "<div class=\"features\"> <span class=\"pdp\"><a href=\"https://shebanq.ancient-data.org/hebrew/text?book=Nehemia&amp;chapter=12&amp;verse=46&amp;version=c&amp;mr=m&amp;qw=q&amp;tp=txt_p&amp;tr=hb&amp;wget=v&amp;qget=v&amp;nget=vt\" title=\"Nehemiah 12:46\" sec=\"Nehemiah 12:46\">prep</a></span> <span class=\"gloss\">from</span> <span class=\"lex xft\"><span class=\"f\">lex=</span>MN</span></div>\n",
       "\n",
       "\n",
       "</div>\n",
       "\n",
       "<div class=\"word  \" >\n",
       "<a href=\"#\" class=\"nd\">390473</a>\n",
       "<div class=\"h\"><a target=\"_blank\" href=\"https://shebanq.ancient-data.org/hebrew/word?version=c&amp;id=1QDMn\" title=\"show this lexeme in SHEBANQ\">קֶּ֑דֶם </a></div>\n",
       "<div class=\"features\"> <span class=\"pdp\"><a href=\"https://shebanq.ancient-data.org/hebrew/text?book=Nehemia&amp;chapter=12&amp;verse=46&amp;version=c&amp;mr=m&amp;qw=q&amp;tp=txt_p&amp;tr=hb&amp;wget=v&amp;qget=v&amp;nget=vt\" title=\"Nehemiah 12:46\" sec=\"Nehemiah 12:46\">subs</a></span> <span class=\"gloss\">front</span> <span class=\"lex xft\"><span class=\"f\">lex=</span>QDM/</span></div>\n",
       "\n",
       "\n",
       "</div>\n",
       "\n",
       "\n",
       "    </div>\n",
       "\n",
       "\n",
       "</div>\n",
       "\n",
       "\n",
       "</div>\n"
      ],
      "text/plain": [
       "<IPython.core.display.HTML object>"
      ]
     },
     "metadata": {},
     "output_type": "display_data"
    },
    {
     "data": {
      "text/html": [
       "<div style=\"background: #96ceb4; text-align: center\">part2</div>"
      ],
      "text/plain": [
       "<IPython.core.display.HTML object>"
      ]
     },
     "metadata": {},
     "output_type": "display_data"
    },
    {
     "data": {
      "text/html": [
       "<div style=\"background: #ffeead; text-align: center\">conj</div>"
      ],
      "text/plain": [
       "<IPython.core.display.HTML object>"
      ]
     },
     "metadata": {},
     "output_type": "display_data"
    },
    {
     "data": {
      "text/html": [
       "<div style=\"background: #ffcc5c; text-align: center\">part1</div>"
      ],
      "text/plain": [
       "<IPython.core.display.HTML object>"
      ]
     },
     "metadata": {},
     "output_type": "display_data"
    },
    {
     "name": "stdout",
     "output_type": "stream",
     "text": [
      "{   '__cx__': 'coord',\n",
      "    'conj': {'__cx__': 'conj', 'head': 390470},\n",
      "    'part1': {'__cx__': 'name', 'head': 390469},\n",
      "    'part2': {'__cx__': 'name', 'head': 390471}}\n",
      "\n"
     ]
    },
    {
     "data": {
      "text/html": [
       "<hr>"
      ],
      "text/plain": [
       "<IPython.core.display.HTML object>"
      ]
     },
     "metadata": {},
     "output_type": "display_data"
    },
    {
     "data": {
      "text/html": [
       "<p><b>result</b> <i>1450405 -> CX coord {393711, 393712, 393713, 393716, 393717, 393718, 393719}</i></p>"
      ],
      "text/plain": [
       "<IPython.core.display.HTML object>"
      ]
     },
     "metadata": {},
     "output_type": "display_data"
    },
    {
     "data": {
      "text/html": [
       "<a href=\"https://shebanq.ancient-data.org/hebrew/text?book=Chronica_I&amp;chapter=5&amp;verse=17&amp;version=c&amp;mr=m&amp;qw=q&amp;tp=txt_p&amp;tr=hb&amp;wget=v&amp;qget=v&amp;nget=vt\" title=\"show this passage in SHEBANQ\" sec=\"1_Chronicles 5:17\">1_Chronicles 5:17</a>\n",
       "<div class=\"atoms  \" >\n",
       "<a href=\"#\" class=\"nd\">888514</a>\n",
       "\n",
       "\n",
       "\n",
       "<div class=\"patom  l \" >\n",
       "\n",
       "    <div class=\"phrase \" >\n",
       "        <a href=\"https://shebanq.ancient-data.org/hebrew/text?book=Chronica_I&amp;chapter=5&amp;verse=17&amp;version=c&amp;mr=m&amp;qw=q&amp;tp=txt_p&amp;tr=hb&amp;wget=v&amp;qget=v&amp;nget=vt\" title=\"1_Chronicles 5:17\" sec=\"1_Chronicles 5:17\">phrase</a> <a href=\"#\" class=\"nd\">888514</a>  <span class=\"function\">Time</span> <span class=\"typ\">PP</span>\n",
       "    </div>\n",
       "    <div class=\"atoms\">\n",
       "\n",
       "<div class=\"word  hl\"  style=\"background-color: #ffcc5c;\" >\n",
       "<a href=\"#\" class=\"nd\">393711</a>\n",
       "<div class=\"h\"><a target=\"_blank\" href=\"https://shebanq.ancient-data.org/hebrew/word?version=c&amp;id=1B\" title=\"show this lexeme in SHEBANQ\">בִּ</a></div>\n",
       "<div class=\"features\"> <span class=\"pdp\"><a href=\"https://shebanq.ancient-data.org/hebrew/text?book=Chronica_I&amp;chapter=5&amp;verse=17&amp;version=c&amp;mr=m&amp;qw=q&amp;tp=txt_p&amp;tr=hb&amp;wget=v&amp;qget=v&amp;nget=vt\" title=\"1_Chronicles 5:17\" sec=\"1_Chronicles 5:17\">prep</a></span> <span class=\"gloss\">in</span> <span class=\"lex xft\"><span class=\"f\">lex=</span>B</span></div>\n",
       "\n",
       "\n",
       "</div>\n",
       "\n",
       "<div class=\"word  hl\"  style=\"background-color: #ffcc5c;\" >\n",
       "<a href=\"#\" class=\"nd\">393712</a>\n",
       "<div class=\"h\"><a target=\"_blank\" href=\"https://shebanq.ancient-data.org/hebrew/word?version=c&amp;id=1JWMn\" title=\"show this lexeme in SHEBANQ\">ימֵ֖י </a></div>\n",
       "<div class=\"features\"> <span class=\"pdp\"><a href=\"https://shebanq.ancient-data.org/hebrew/text?book=Chronica_I&amp;chapter=5&amp;verse=17&amp;version=c&amp;mr=m&amp;qw=q&amp;tp=txt_p&amp;tr=hb&amp;wget=v&amp;qget=v&amp;nget=vt\" title=\"1_Chronicles 5:17\" sec=\"1_Chronicles 5:17\">subs</a></span> <span class=\"gloss\">day</span> <span class=\"lex xft\"><span class=\"f\">lex=</span>JWM/</span></div>\n",
       "\n",
       "\n",
       "</div>\n",
       "\n",
       "<div class=\"word  hl\"  style=\"background-color: #ffcc5c;\" >\n",
       "<a href=\"#\" class=\"nd\">393713</a>\n",
       "<div class=\"h\"><a target=\"_blank\" href=\"https://shebanq.ancient-data.org/hebrew/word?version=c&amp;id=1JWTMn\" title=\"show this lexeme in SHEBANQ\">יֹותָ֣ם </a></div>\n",
       "<div class=\"features\"> <span class=\"pdp\"><a href=\"https://shebanq.ancient-data.org/hebrew/text?book=Chronica_I&amp;chapter=5&amp;verse=17&amp;version=c&amp;mr=m&amp;qw=q&amp;tp=txt_p&amp;tr=hb&amp;wget=v&amp;qget=v&amp;nget=vt\" title=\"1_Chronicles 5:17\" sec=\"1_Chronicles 5:17\">nmpr</a></span> <span class=\"gloss\">Jotham</span> <span class=\"lex xft\"><span class=\"f\">lex=</span>JWTM/</span></div>\n",
       "\n",
       "\n",
       "</div>\n",
       "\n",
       "\n",
       "    </div>\n",
       "\n",
       "\n",
       "</div>\n",
       "\n",
       "<div class=\"patom  r l \" >\n",
       "\n",
       "    <div class=\"phrase \" >\n",
       "        <a href=\"https://shebanq.ancient-data.org/hebrew/text?book=Chronica_I&amp;chapter=5&amp;verse=17&amp;version=c&amp;mr=m&amp;qw=q&amp;tp=txt_p&amp;tr=hb&amp;wget=v&amp;qget=v&amp;nget=vt\" title=\"1_Chronicles 5:17\" sec=\"1_Chronicles 5:17\">phrase</a> <a href=\"#\" class=\"nd\">888514</a>  <span class=\"function\">Time</span> <span class=\"typ\">PP|NP</span>\n",
       "    </div>\n",
       "    <div class=\"atoms\">\n",
       "\n",
       "<div class=\"word  \" >\n",
       "<a href=\"#\" class=\"nd\">393714</a>\n",
       "<div class=\"h\"><a target=\"_blank\" href=\"https://shebanq.ancient-data.org/hebrew/word?version=c&amp;id=1MLKn\" title=\"show this lexeme in SHEBANQ\">מֶֽלֶךְ־</a></div>\n",
       "<div class=\"features\"> <span class=\"pdp\"><a href=\"https://shebanq.ancient-data.org/hebrew/text?book=Chronica_I&amp;chapter=5&amp;verse=17&amp;version=c&amp;mr=m&amp;qw=q&amp;tp=txt_p&amp;tr=hb&amp;wget=v&amp;qget=v&amp;nget=vt\" title=\"1_Chronicles 5:17\" sec=\"1_Chronicles 5:17\">subs</a></span> <span class=\"gloss\">king</span> <span class=\"lex xft\"><span class=\"f\">lex=</span>MLK/</span></div>\n",
       "\n",
       "\n",
       "</div>\n",
       "\n",
       "<div class=\"word  \" >\n",
       "<a href=\"#\" class=\"nd\">393715</a>\n",
       "<div class=\"h\"><a target=\"_blank\" href=\"https://shebanq.ancient-data.org/hebrew/word?version=c&amp;id=1JHWDHn\" title=\"show this lexeme in SHEBANQ\">יְהוּדָ֑ה </a></div>\n",
       "<div class=\"features\"> <span class=\"pdp\"><a href=\"https://shebanq.ancient-data.org/hebrew/text?book=Chronica_I&amp;chapter=5&amp;verse=17&amp;version=c&amp;mr=m&amp;qw=q&amp;tp=txt_p&amp;tr=hb&amp;wget=v&amp;qget=v&amp;nget=vt\" title=\"1_Chronicles 5:17\" sec=\"1_Chronicles 5:17\">nmpr</a></span> <span class=\"gloss\">Judah</span> <span class=\"lex xft\"><span class=\"f\">lex=</span>JHWDH/</span></div>\n",
       "\n",
       "\n",
       "</div>\n",
       "\n",
       "\n",
       "    </div>\n",
       "\n",
       "\n",
       "</div>\n",
       "\n",
       "<div class=\"patom  r l \" >\n",
       "\n",
       "    <div class=\"phrase \" >\n",
       "        <a href=\"https://shebanq.ancient-data.org/hebrew/text?book=Chronica_I&amp;chapter=5&amp;verse=17&amp;version=c&amp;mr=m&amp;qw=q&amp;tp=txt_p&amp;tr=hb&amp;wget=v&amp;qget=v&amp;nget=vt\" title=\"1_Chronicles 5:17\" sec=\"1_Chronicles 5:17\">phrase</a> <a href=\"#\" class=\"nd\">888514</a>  <span class=\"function\">Time</span> <span class=\"typ\">PP|CP</span>\n",
       "    </div>\n",
       "    <div class=\"atoms\">\n",
       "\n",
       "<div class=\"word  hl\"  style=\"background-color: #ffeead;\" >\n",
       "<a href=\"#\" class=\"nd\">393716</a>\n",
       "<div class=\"h\"><a target=\"_blank\" href=\"https://shebanq.ancient-data.org/hebrew/word?version=c&amp;id=1W\" title=\"show this lexeme in SHEBANQ\">וּ</a></div>\n",
       "<div class=\"features\"> <span class=\"pdp\"><a href=\"https://shebanq.ancient-data.org/hebrew/text?book=Chronica_I&amp;chapter=5&amp;verse=17&amp;version=c&amp;mr=m&amp;qw=q&amp;tp=txt_p&amp;tr=hb&amp;wget=v&amp;qget=v&amp;nget=vt\" title=\"1_Chronicles 5:17\" sec=\"1_Chronicles 5:17\">conj</a></span> <span class=\"gloss\">and</span> <span class=\"lex xft\"><span class=\"f\">lex=</span>W</span></div>\n",
       "\n",
       "\n",
       "</div>\n",
       "\n",
       "\n",
       "    </div>\n",
       "\n",
       "\n",
       "</div>\n",
       "\n",
       "<div class=\"patom  r l \" >\n",
       "\n",
       "    <div class=\"phrase \" >\n",
       "        <a href=\"https://shebanq.ancient-data.org/hebrew/text?book=Chronica_I&amp;chapter=5&amp;verse=17&amp;version=c&amp;mr=m&amp;qw=q&amp;tp=txt_p&amp;tr=hb&amp;wget=v&amp;qget=v&amp;nget=vt\" title=\"1_Chronicles 5:17\" sec=\"1_Chronicles 5:17\">phrase</a> <a href=\"#\" class=\"nd\">888514</a>  <span class=\"function\">Time</span> <span class=\"typ\">PP</span>\n",
       "    </div>\n",
       "    <div class=\"atoms\">\n",
       "\n",
       "<div class=\"word  hl\"  style=\"background-color: #96ceb4;\" >\n",
       "<a href=\"#\" class=\"nd\">393717</a>\n",
       "<div class=\"h\"><a target=\"_blank\" href=\"https://shebanq.ancient-data.org/hebrew/word?version=c&amp;id=1B\" title=\"show this lexeme in SHEBANQ\">בִ</a></div>\n",
       "<div class=\"features\"> <span class=\"pdp\"><a href=\"https://shebanq.ancient-data.org/hebrew/text?book=Chronica_I&amp;chapter=5&amp;verse=17&amp;version=c&amp;mr=m&amp;qw=q&amp;tp=txt_p&amp;tr=hb&amp;wget=v&amp;qget=v&amp;nget=vt\" title=\"1_Chronicles 5:17\" sec=\"1_Chronicles 5:17\">prep</a></span> <span class=\"gloss\">in</span> <span class=\"lex xft\"><span class=\"f\">lex=</span>B</span></div>\n",
       "\n",
       "\n",
       "</div>\n",
       "\n",
       "<div class=\"word  hl\"  style=\"background-color: #96ceb4;\" >\n",
       "<a href=\"#\" class=\"nd\">393718</a>\n",
       "<div class=\"h\"><a target=\"_blank\" href=\"https://shebanq.ancient-data.org/hebrew/word?version=c&amp;id=1JWMn\" title=\"show this lexeme in SHEBANQ\">ימֵ֖י </a></div>\n",
       "<div class=\"features\"> <span class=\"pdp\"><a href=\"https://shebanq.ancient-data.org/hebrew/text?book=Chronica_I&amp;chapter=5&amp;verse=17&amp;version=c&amp;mr=m&amp;qw=q&amp;tp=txt_p&amp;tr=hb&amp;wget=v&amp;qget=v&amp;nget=vt\" title=\"1_Chronicles 5:17\" sec=\"1_Chronicles 5:17\">subs</a></span> <span class=\"gloss\">day</span> <span class=\"lex xft\"><span class=\"f\">lex=</span>JWM/</span></div>\n",
       "\n",
       "\n",
       "</div>\n",
       "\n",
       "<div class=\"word  hl\"  style=\"background-color: #96ceb4;\" >\n",
       "<a href=\"#\" class=\"nd\">393719</a>\n",
       "<div class=\"h\"><a target=\"_blank\" href=\"https://shebanq.ancient-data.org/hebrew/word?version=c&amp;id=1JRBOMn\" title=\"show this lexeme in SHEBANQ\">יָרָבְעָ֥ם </a></div>\n",
       "<div class=\"features\"> <span class=\"pdp\"><a href=\"https://shebanq.ancient-data.org/hebrew/text?book=Chronica_I&amp;chapter=5&amp;verse=17&amp;version=c&amp;mr=m&amp;qw=q&amp;tp=txt_p&amp;tr=hb&amp;wget=v&amp;qget=v&amp;nget=vt\" title=\"1_Chronicles 5:17\" sec=\"1_Chronicles 5:17\">nmpr</a></span> <span class=\"gloss\">Jeroboam</span> <span class=\"lex xft\"><span class=\"f\">lex=</span>JRB&lt;M/</span></div>\n",
       "\n",
       "\n",
       "</div>\n",
       "\n",
       "\n",
       "    </div>\n",
       "\n",
       "\n",
       "</div>\n",
       "\n",
       "<div class=\"patom  r \" >\n",
       "\n",
       "    <div class=\"phrase \" >\n",
       "        <a href=\"https://shebanq.ancient-data.org/hebrew/text?book=Chronica_I&amp;chapter=5&amp;verse=17&amp;version=c&amp;mr=m&amp;qw=q&amp;tp=txt_p&amp;tr=hb&amp;wget=v&amp;qget=v&amp;nget=vt\" title=\"1_Chronicles 5:17\" sec=\"1_Chronicles 5:17\">phrase</a> <a href=\"#\" class=\"nd\">888514</a>  <span class=\"function\">Time</span> <span class=\"typ\">PP|NP</span>\n",
       "    </div>\n",
       "    <div class=\"atoms\">\n",
       "\n",
       "<div class=\"word  \" >\n",
       "<a href=\"#\" class=\"nd\">393720</a>\n",
       "<div class=\"h\"><a target=\"_blank\" href=\"https://shebanq.ancient-data.org/hebrew/word?version=c&amp;id=1MLKn\" title=\"show this lexeme in SHEBANQ\">מֶֽלֶךְ־</a></div>\n",
       "<div class=\"features\"> <span class=\"pdp\"><a href=\"https://shebanq.ancient-data.org/hebrew/text?book=Chronica_I&amp;chapter=5&amp;verse=17&amp;version=c&amp;mr=m&amp;qw=q&amp;tp=txt_p&amp;tr=hb&amp;wget=v&amp;qget=v&amp;nget=vt\" title=\"1_Chronicles 5:17\" sec=\"1_Chronicles 5:17\">subs</a></span> <span class=\"gloss\">king</span> <span class=\"lex xft\"><span class=\"f\">lex=</span>MLK/</span></div>\n",
       "\n",
       "\n",
       "</div>\n",
       "\n",
       "<div class=\"word  \" >\n",
       "<a href=\"#\" class=\"nd\">393721</a>\n",
       "<div class=\"h\"><a target=\"_blank\" href=\"https://shebanq.ancient-data.org/hebrew/word?version=c&amp;id=1JFRALn\" title=\"show this lexeme in SHEBANQ\">יִשְׂרָאֵֽל׃ פ </a></div>\n",
       "<div class=\"features\"> <span class=\"pdp\"><a href=\"https://shebanq.ancient-data.org/hebrew/text?book=Chronica_I&amp;chapter=5&amp;verse=17&amp;version=c&amp;mr=m&amp;qw=q&amp;tp=txt_p&amp;tr=hb&amp;wget=v&amp;qget=v&amp;nget=vt\" title=\"1_Chronicles 5:17\" sec=\"1_Chronicles 5:17\">nmpr</a></span> <span class=\"gloss\">Israel</span> <span class=\"lex xft\"><span class=\"f\">lex=</span>JFR>L/</span></div>\n",
       "\n",
       "\n",
       "</div>\n",
       "\n",
       "\n",
       "    </div>\n",
       "\n",
       "\n",
       "</div>\n",
       "\n",
       "\n",
       "</div>\n"
      ],
      "text/plain": [
       "<IPython.core.display.HTML object>"
      ]
     },
     "metadata": {},
     "output_type": "display_data"
    },
    {
     "data": {
      "text/html": [
       "<div style=\"background: #96ceb4; text-align: center\">part2</div>"
      ],
      "text/plain": [
       "<IPython.core.display.HTML object>"
      ]
     },
     "metadata": {},
     "output_type": "display_data"
    },
    {
     "data": {
      "text/html": [
       "<div style=\"background: #ffeead; text-align: center\">conj</div>"
      ],
      "text/plain": [
       "<IPython.core.display.HTML object>"
      ]
     },
     "metadata": {},
     "output_type": "display_data"
    },
    {
     "data": {
      "text/html": [
       "<div style=\"background: #ffcc5c; text-align: center\">part1</div>"
      ],
      "text/plain": [
       "<IPython.core.display.HTML object>"
      ]
     },
     "metadata": {},
     "output_type": "display_data"
    },
    {
     "name": "stdout",
     "output_type": "stream",
     "text": [
      "{   '__cx__': 'coord',\n",
      "    'conj': {'__cx__': 'conj', 'head': 393716},\n",
      "    'part1': {   '__cx__': 'prep_ph',\n",
      "                 'head': {   '__cx__': 'geni_ph',\n",
      "                             'geni': {'__cx__': 'name', 'head': 393713},\n",
      "                             'head': {'__cx__': 'cont', 'head': 393712}},\n",
      "                 'prep': {'__cx__': 'prep', 'head': 393711}},\n",
      "    'part2': {   '__cx__': 'prep_ph',\n",
      "                 'head': {   '__cx__': 'geni_ph',\n",
      "                             'geni': {'__cx__': 'name', 'head': 393719},\n",
      "                             'head': {'__cx__': 'cont', 'head': 393718}},\n",
      "                 'prep': {'__cx__': 'prep', 'head': 393717}}}\n",
      "\n"
     ]
    },
    {
     "data": {
      "text/html": [
       "<hr>"
      ],
      "text/plain": [
       "<IPython.core.display.HTML object>"
      ]
     },
     "metadata": {},
     "output_type": "display_data"
    },
    {
     "data": {
      "text/html": [
       "<p><b>result</b> <i>1450435 -> CX coord {400148, 400149, 400150, 400151, 400152, 400153, 400154}</i></p>"
      ],
      "text/plain": [
       "<IPython.core.display.HTML object>"
      ]
     },
     "metadata": {},
     "output_type": "display_data"
    },
    {
     "data": {
      "text/html": [
       "<a href=\"https://shebanq.ancient-data.org/hebrew/text?book=Chronica_I&amp;chapter=16&amp;verse=40&amp;version=c&amp;mr=m&amp;qw=q&amp;tp=txt_p&amp;tr=hb&amp;wget=v&amp;qget=v&amp;nget=vt\" title=\"show this passage in SHEBANQ\" sec=\"1_Chronicles 16:40\">1_Chronicles 16:40</a>\n",
       "<div class=\"atoms  \" >\n",
       "<a href=\"#\" class=\"nd\">891357</a>\n",
       "\n",
       "\n",
       "\n",
       "<div class=\"patom  l \" >\n",
       "\n",
       "    <div class=\"phrase \" >\n",
       "        <a href=\"https://shebanq.ancient-data.org/hebrew/text?book=Chronica_I&amp;chapter=16&amp;verse=40&amp;version=c&amp;mr=m&amp;qw=q&amp;tp=txt_p&amp;tr=hb&amp;wget=v&amp;qget=v&amp;nget=vt\" title=\"1_Chronicles 16:40\" sec=\"1_Chronicles 16:40\">phrase</a> <a href=\"#\" class=\"nd\">891357</a>  <span class=\"function\">Time</span> <span class=\"typ\">AdvP</span>\n",
       "    </div>\n",
       "    <div class=\"atoms\">\n",
       "\n",
       "<div class=\"word  \" >\n",
       "<a href=\"#\" class=\"nd\">400147</a>\n",
       "<div class=\"h\"><a target=\"_blank\" href=\"https://shebanq.ancient-data.org/hebrew/word?version=c&amp;id=1TMJDn\" title=\"show this lexeme in SHEBANQ\">תָּמִ֖יד </a></div>\n",
       "<div class=\"features\"> <span class=\"pdp\"><a href=\"https://shebanq.ancient-data.org/hebrew/text?book=Chronica_I&amp;chapter=16&amp;verse=40&amp;version=c&amp;mr=m&amp;qw=q&amp;tp=txt_p&amp;tr=hb&amp;wget=v&amp;qget=v&amp;nget=vt\" title=\"1_Chronicles 16:40\" sec=\"1_Chronicles 16:40\">advb</a></span> <span class=\"gloss\">continuity</span> <span class=\"lex xft\"><span class=\"f\">lex=</span>TMJD/</span></div>\n",
       "\n",
       "\n",
       "</div>\n",
       "\n",
       "\n",
       "    </div>\n",
       "\n",
       "\n",
       "</div>\n",
       "\n",
       "<div class=\"patom  r \" >\n",
       "\n",
       "    <div class=\"phrase \" >\n",
       "        <a href=\"https://shebanq.ancient-data.org/hebrew/text?book=Chronica_I&amp;chapter=16&amp;verse=40&amp;version=c&amp;mr=m&amp;qw=q&amp;tp=txt_p&amp;tr=hb&amp;wget=v&amp;qget=v&amp;nget=vt\" title=\"1_Chronicles 16:40\" sec=\"1_Chronicles 16:40\">phrase</a> <a href=\"#\" class=\"nd\">891357</a>  <span class=\"function\">Time</span> <span class=\"typ\">AdvP|PP</span>\n",
       "    </div>\n",
       "    <div class=\"atoms\">\n",
       "\n",
       "<div class=\"word  hl\"  style=\"background-color: #ffcc5c;\" >\n",
       "<a href=\"#\" class=\"nd\">400148</a>\n",
       "<div class=\"h\"><a target=\"_blank\" href=\"https://shebanq.ancient-data.org/hebrew/word?version=c&amp;id=1L\" title=\"show this lexeme in SHEBANQ\">לַ</a></div>\n",
       "<div class=\"features\"> <span class=\"pdp\"><a href=\"https://shebanq.ancient-data.org/hebrew/text?book=Chronica_I&amp;chapter=16&amp;verse=40&amp;version=c&amp;mr=m&amp;qw=q&amp;tp=txt_p&amp;tr=hb&amp;wget=v&amp;qget=v&amp;nget=vt\" title=\"1_Chronicles 16:40\" sec=\"1_Chronicles 16:40\">prep</a></span> <span class=\"gloss\">to</span> <span class=\"lex xft\"><span class=\"f\">lex=</span>L</span></div>\n",
       "\n",
       "\n",
       "</div>\n",
       "\n",
       "<div class=\"word  hl\"  style=\"background-color: #ffcc5c;\" >\n",
       "<a href=\"#\" class=\"nd\">400149</a>\n",
       "<div class=\"h\"><a target=\"_blank\" href=\"https://shebanq.ancient-data.org/hebrew/word?version=c&amp;id=1H\" title=\"show this lexeme in SHEBANQ\"></a></div>\n",
       "<div class=\"features\"> <span class=\"pdp\"><a href=\"https://shebanq.ancient-data.org/hebrew/text?book=Chronica_I&amp;chapter=16&amp;verse=40&amp;version=c&amp;mr=m&amp;qw=q&amp;tp=txt_p&amp;tr=hb&amp;wget=v&amp;qget=v&amp;nget=vt\" title=\"1_Chronicles 16:40\" sec=\"1_Chronicles 16:40\">art</a></span> <span class=\"gloss\">the</span> <span class=\"lex xft\"><span class=\"f\">lex=</span>H</span></div>\n",
       "\n",
       "\n",
       "</div>\n",
       "\n",
       "<div class=\"word  hl\"  style=\"background-color: #ffcc5c;\" >\n",
       "<a href=\"#\" class=\"nd\">400150</a>\n",
       "<div class=\"h\"><a target=\"_blank\" href=\"https://shebanq.ancient-data.org/hebrew/word?version=c&amp;id=1BQRin\" title=\"show this lexeme in SHEBANQ\">בֹּ֣קֶר </a></div>\n",
       "<div class=\"features\"> <span class=\"pdp\"><a href=\"https://shebanq.ancient-data.org/hebrew/text?book=Chronica_I&amp;chapter=16&amp;verse=40&amp;version=c&amp;mr=m&amp;qw=q&amp;tp=txt_p&amp;tr=hb&amp;wget=v&amp;qget=v&amp;nget=vt\" title=\"1_Chronicles 16:40\" sec=\"1_Chronicles 16:40\">subs</a></span> <span class=\"gloss\">morning</span> <span class=\"lex xft\"><span class=\"f\">lex=</span>BQR=/</span></div>\n",
       "\n",
       "\n",
       "</div>\n",
       "\n",
       "<div class=\"word  hl\"  style=\"background-color: #ffeead;\" >\n",
       "<a href=\"#\" class=\"nd\">400151</a>\n",
       "<div class=\"h\"><a target=\"_blank\" href=\"https://shebanq.ancient-data.org/hebrew/word?version=c&amp;id=1W\" title=\"show this lexeme in SHEBANQ\">וְ</a></div>\n",
       "<div class=\"features\"> <span class=\"pdp\"><a href=\"https://shebanq.ancient-data.org/hebrew/text?book=Chronica_I&amp;chapter=16&amp;verse=40&amp;version=c&amp;mr=m&amp;qw=q&amp;tp=txt_p&amp;tr=hb&amp;wget=v&amp;qget=v&amp;nget=vt\" title=\"1_Chronicles 16:40\" sec=\"1_Chronicles 16:40\">conj</a></span> <span class=\"gloss\">and</span> <span class=\"lex xft\"><span class=\"f\">lex=</span>W</span></div>\n",
       "\n",
       "\n",
       "</div>\n",
       "\n",
       "<div class=\"word  hl\"  style=\"background-color: #96ceb4;\" >\n",
       "<a href=\"#\" class=\"nd\">400152</a>\n",
       "<div class=\"h\"><a target=\"_blank\" href=\"https://shebanq.ancient-data.org/hebrew/word?version=c&amp;id=1L\" title=\"show this lexeme in SHEBANQ\">לָ</a></div>\n",
       "<div class=\"features\"> <span class=\"pdp\"><a href=\"https://shebanq.ancient-data.org/hebrew/text?book=Chronica_I&amp;chapter=16&amp;verse=40&amp;version=c&amp;mr=m&amp;qw=q&amp;tp=txt_p&amp;tr=hb&amp;wget=v&amp;qget=v&amp;nget=vt\" title=\"1_Chronicles 16:40\" sec=\"1_Chronicles 16:40\">prep</a></span> <span class=\"gloss\">to</span> <span class=\"lex xft\"><span class=\"f\">lex=</span>L</span></div>\n",
       "\n",
       "\n",
       "</div>\n",
       "\n",
       "<div class=\"word  hl\"  style=\"background-color: #96ceb4;\" >\n",
       "<a href=\"#\" class=\"nd\">400153</a>\n",
       "<div class=\"h\"><a target=\"_blank\" href=\"https://shebanq.ancient-data.org/hebrew/word?version=c&amp;id=1H\" title=\"show this lexeme in SHEBANQ\"></a></div>\n",
       "<div class=\"features\"> <span class=\"pdp\"><a href=\"https://shebanq.ancient-data.org/hebrew/text?book=Chronica_I&amp;chapter=16&amp;verse=40&amp;version=c&amp;mr=m&amp;qw=q&amp;tp=txt_p&amp;tr=hb&amp;wget=v&amp;qget=v&amp;nget=vt\" title=\"1_Chronicles 16:40\" sec=\"1_Chronicles 16:40\">art</a></span> <span class=\"gloss\">the</span> <span class=\"lex xft\"><span class=\"f\">lex=</span>H</span></div>\n",
       "\n",
       "\n",
       "</div>\n",
       "\n",
       "<div class=\"word  hl\"  style=\"background-color: #96ceb4;\" >\n",
       "<a href=\"#\" class=\"nd\">400154</a>\n",
       "<div class=\"h\"><a target=\"_blank\" href=\"https://shebanq.ancient-data.org/hebrew/word?version=c&amp;id=1ORBn\" title=\"show this lexeme in SHEBANQ\">עָ֑רֶב </a></div>\n",
       "<div class=\"features\"> <span class=\"pdp\"><a href=\"https://shebanq.ancient-data.org/hebrew/text?book=Chronica_I&amp;chapter=16&amp;verse=40&amp;version=c&amp;mr=m&amp;qw=q&amp;tp=txt_p&amp;tr=hb&amp;wget=v&amp;qget=v&amp;nget=vt\" title=\"1_Chronicles 16:40\" sec=\"1_Chronicles 16:40\">subs</a></span> <span class=\"gloss\">evening</span> <span class=\"lex xft\"><span class=\"f\">lex=</span>&lt;RB/</span></div>\n",
       "\n",
       "\n",
       "</div>\n",
       "\n",
       "\n",
       "    </div>\n",
       "\n",
       "\n",
       "</div>\n",
       "\n",
       "\n",
       "</div>\n"
      ],
      "text/plain": [
       "<IPython.core.display.HTML object>"
      ]
     },
     "metadata": {},
     "output_type": "display_data"
    },
    {
     "data": {
      "text/html": [
       "<div style=\"background: #96ceb4; text-align: center\">part2</div>"
      ],
      "text/plain": [
       "<IPython.core.display.HTML object>"
      ]
     },
     "metadata": {},
     "output_type": "display_data"
    },
    {
     "data": {
      "text/html": [
       "<div style=\"background: #ffeead; text-align: center\">conj</div>"
      ],
      "text/plain": [
       "<IPython.core.display.HTML object>"
      ]
     },
     "metadata": {},
     "output_type": "display_data"
    },
    {
     "data": {
      "text/html": [
       "<div style=\"background: #ffcc5c; text-align: center\">part1</div>"
      ],
      "text/plain": [
       "<IPython.core.display.HTML object>"
      ]
     },
     "metadata": {},
     "output_type": "display_data"
    },
    {
     "name": "stdout",
     "output_type": "stream",
     "text": [
      "{   '__cx__': 'coord',\n",
      "    'conj': {'__cx__': 'conj', 'head': 400151},\n",
      "    'part1': {   '__cx__': 'prep_ph',\n",
      "                 'head': {   '__cx__': 'defi_ph',\n",
      "                             'art': {'__cx__': 'art', 'head': 400149},\n",
      "                             'head': {'__cx__': 'cont', 'head': 400150}},\n",
      "                 'prep': {'__cx__': 'prep', 'head': 400148}},\n",
      "    'part2': {   '__cx__': 'prep_ph',\n",
      "                 'head': {   '__cx__': 'defi_ph',\n",
      "                             'art': {'__cx__': 'art', 'head': 400153},\n",
      "                             'head': {'__cx__': 'cont', 'head': 400154}},\n",
      "                 'prep': {'__cx__': 'prep', 'head': 400152}}}\n",
      "\n"
     ]
    },
    {
     "data": {
      "text/html": [
       "<hr>"
      ],
      "text/plain": [
       "<IPython.core.display.HTML object>"
      ]
     },
     "metadata": {},
     "output_type": "display_data"
    },
    {
     "data": {
      "text/html": [
       "<p><b>result</b> <i>1450493 -> CX coord {407319, 407320, 407321, 407322, 407323, 407324, 407325}</i></p>"
      ],
      "text/plain": [
       "<IPython.core.display.HTML object>"
      ]
     },
     "metadata": {},
     "output_type": "display_data"
    },
    {
     "data": {
      "text/html": [
       "<a href=\"https://shebanq.ancient-data.org/hebrew/text?book=Chronica_II&amp;chapter=2&amp;verse=3&amp;version=c&amp;mr=m&amp;qw=q&amp;tp=txt_p&amp;tr=hb&amp;wget=v&amp;qget=v&amp;nget=vt\" title=\"show this passage in SHEBANQ\" sec=\"2_Chronicles 2:3\">2_Chronicles 2:3</a>\n",
       "<div class=\"atoms  \" >\n",
       "<a href=\"#\" class=\"nd\">894851</a>\n",
       "\n",
       "\n",
       "\n",
       "<div class=\"patom  l \" >\n",
       "\n",
       "    <div class=\"phrase \" >\n",
       "        <a href=\"https://shebanq.ancient-data.org/hebrew/text?book=Chronica_II&amp;chapter=2&amp;verse=3&amp;version=c&amp;mr=m&amp;qw=q&amp;tp=txt_p&amp;tr=hb&amp;wget=v&amp;qget=v&amp;nget=vt\" title=\"2_Chronicles 2:3\" sec=\"2_Chronicles 2:3\">phrase</a> <a href=\"#\" class=\"nd\">894851</a>  <span class=\"function\">Time</span> <span class=\"typ\">PP</span>\n",
       "    </div>\n",
       "    <div class=\"atoms\">\n",
       "\n",
       "<div class=\"word  hl\"  style=\"background-color: #ffcc5c;\" >\n",
       "<a href=\"#\" class=\"nd\">407319</a>\n",
       "<div class=\"h\"><a target=\"_blank\" href=\"https://shebanq.ancient-data.org/hebrew/word?version=c&amp;id=1L\" title=\"show this lexeme in SHEBANQ\">לַ</a></div>\n",
       "<div class=\"features\"> <span class=\"pdp\"><a href=\"https://shebanq.ancient-data.org/hebrew/text?book=Chronica_II&amp;chapter=2&amp;verse=3&amp;version=c&amp;mr=m&amp;qw=q&amp;tp=txt_p&amp;tr=hb&amp;wget=v&amp;qget=v&amp;nget=vt\" title=\"2_Chronicles 2:3\" sec=\"2_Chronicles 2:3\">prep</a></span> <span class=\"gloss\">to</span> <span class=\"lex xft\"><span class=\"f\">lex=</span>L</span></div>\n",
       "\n",
       "\n",
       "</div>\n",
       "\n",
       "<div class=\"word  hl\"  style=\"background-color: #ffcc5c;\" >\n",
       "<a href=\"#\" class=\"nd\">407320</a>\n",
       "<div class=\"h\"><a target=\"_blank\" href=\"https://shebanq.ancient-data.org/hebrew/word?version=c&amp;id=1H\" title=\"show this lexeme in SHEBANQ\"></a></div>\n",
       "<div class=\"features\"> <span class=\"pdp\"><a href=\"https://shebanq.ancient-data.org/hebrew/text?book=Chronica_II&amp;chapter=2&amp;verse=3&amp;version=c&amp;mr=m&amp;qw=q&amp;tp=txt_p&amp;tr=hb&amp;wget=v&amp;qget=v&amp;nget=vt\" title=\"2_Chronicles 2:3\" sec=\"2_Chronicles 2:3\">art</a></span> <span class=\"gloss\">the</span> <span class=\"lex xft\"><span class=\"f\">lex=</span>H</span></div>\n",
       "\n",
       "\n",
       "</div>\n",
       "\n",
       "<div class=\"word  hl\"  style=\"background-color: #ffcc5c;\" >\n",
       "<a href=\"#\" class=\"nd\">407321</a>\n",
       "<div class=\"h\"><a target=\"_blank\" href=\"https://shebanq.ancient-data.org/hebrew/word?version=c&amp;id=1CBTn\" title=\"show this lexeme in SHEBANQ\">שַּׁבָּתֹות֙ </a></div>\n",
       "<div class=\"features\"> <span class=\"pdp\"><a href=\"https://shebanq.ancient-data.org/hebrew/text?book=Chronica_II&amp;chapter=2&amp;verse=3&amp;version=c&amp;mr=m&amp;qw=q&amp;tp=txt_p&amp;tr=hb&amp;wget=v&amp;qget=v&amp;nget=vt\" title=\"2_Chronicles 2:3\" sec=\"2_Chronicles 2:3\">subs</a></span> <span class=\"gloss\">sabbath</span> <span class=\"lex xft\"><span class=\"f\">lex=</span>CBT/</span></div>\n",
       "\n",
       "\n",
       "</div>\n",
       "\n",
       "<div class=\"word  hl\"  style=\"background-color: #ffeead;\" >\n",
       "<a href=\"#\" class=\"nd\">407322</a>\n",
       "<div class=\"h\"><a target=\"_blank\" href=\"https://shebanq.ancient-data.org/hebrew/word?version=c&amp;id=1W\" title=\"show this lexeme in SHEBANQ\">וְ</a></div>\n",
       "<div class=\"features\"> <span class=\"pdp\"><a href=\"https://shebanq.ancient-data.org/hebrew/text?book=Chronica_II&amp;chapter=2&amp;verse=3&amp;version=c&amp;mr=m&amp;qw=q&amp;tp=txt_p&amp;tr=hb&amp;wget=v&amp;qget=v&amp;nget=vt\" title=\"2_Chronicles 2:3\" sec=\"2_Chronicles 2:3\">conj</a></span> <span class=\"gloss\">and</span> <span class=\"lex xft\"><span class=\"f\">lex=</span>W</span></div>\n",
       "\n",
       "\n",
       "</div>\n",
       "\n",
       "<div class=\"word  hl\"  style=\"background-color: #96ceb4;\" >\n",
       "<a href=\"#\" class=\"nd\">407323</a>\n",
       "<div class=\"h\"><a target=\"_blank\" href=\"https://shebanq.ancient-data.org/hebrew/word?version=c&amp;id=1L\" title=\"show this lexeme in SHEBANQ\">לֶ֣</a></div>\n",
       "<div class=\"features\"> <span class=\"pdp\"><a href=\"https://shebanq.ancient-data.org/hebrew/text?book=Chronica_II&amp;chapter=2&amp;verse=3&amp;version=c&amp;mr=m&amp;qw=q&amp;tp=txt_p&amp;tr=hb&amp;wget=v&amp;qget=v&amp;nget=vt\" title=\"2_Chronicles 2:3\" sec=\"2_Chronicles 2:3\">prep</a></span> <span class=\"gloss\">to</span> <span class=\"lex xft\"><span class=\"f\">lex=</span>L</span></div>\n",
       "\n",
       "\n",
       "</div>\n",
       "\n",
       "<div class=\"word  hl\"  style=\"background-color: #96ceb4;\" >\n",
       "<a href=\"#\" class=\"nd\">407324</a>\n",
       "<div class=\"h\"><a target=\"_blank\" href=\"https://shebanq.ancient-data.org/hebrew/word?version=c&amp;id=1H\" title=\"show this lexeme in SHEBANQ\"></a></div>\n",
       "<div class=\"features\"> <span class=\"pdp\"><a href=\"https://shebanq.ancient-data.org/hebrew/text?book=Chronica_II&amp;chapter=2&amp;verse=3&amp;version=c&amp;mr=m&amp;qw=q&amp;tp=txt_p&amp;tr=hb&amp;wget=v&amp;qget=v&amp;nget=vt\" title=\"2_Chronicles 2:3\" sec=\"2_Chronicles 2:3\">art</a></span> <span class=\"gloss\">the</span> <span class=\"lex xft\"><span class=\"f\">lex=</span>H</span></div>\n",
       "\n",
       "\n",
       "</div>\n",
       "\n",
       "<div class=\"word  hl\"  style=\"background-color: #96ceb4;\" >\n",
       "<a href=\"#\" class=\"nd\">407325</a>\n",
       "<div class=\"h\"><a target=\"_blank\" href=\"https://shebanq.ancient-data.org/hebrew/word?version=c&amp;id=1XDCin\" title=\"show this lexeme in SHEBANQ\">חֳדָשִׁ֔ים </a></div>\n",
       "<div class=\"features\"> <span class=\"pdp\"><a href=\"https://shebanq.ancient-data.org/hebrew/text?book=Chronica_II&amp;chapter=2&amp;verse=3&amp;version=c&amp;mr=m&amp;qw=q&amp;tp=txt_p&amp;tr=hb&amp;wget=v&amp;qget=v&amp;nget=vt\" title=\"2_Chronicles 2:3\" sec=\"2_Chronicles 2:3\">subs</a></span> <span class=\"gloss\">month</span> <span class=\"lex xft\"><span class=\"f\">lex=</span>XDC=/</span></div>\n",
       "\n",
       "\n",
       "</div>\n",
       "\n",
       "<div class=\"word  \" >\n",
       "<a href=\"#\" class=\"nd\">407326</a>\n",
       "<div class=\"h\"><a target=\"_blank\" href=\"https://shebanq.ancient-data.org/hebrew/word?version=c&amp;id=1W\" title=\"show this lexeme in SHEBANQ\">וּֽ</a></div>\n",
       "<div class=\"features\"> <span class=\"pdp\"><a href=\"https://shebanq.ancient-data.org/hebrew/text?book=Chronica_II&amp;chapter=2&amp;verse=3&amp;version=c&amp;mr=m&amp;qw=q&amp;tp=txt_p&amp;tr=hb&amp;wget=v&amp;qget=v&amp;nget=vt\" title=\"2_Chronicles 2:3\" sec=\"2_Chronicles 2:3\">conj</a></span> <span class=\"gloss\">and</span> <span class=\"lex xft\"><span class=\"f\">lex=</span>W</span></div>\n",
       "\n",
       "\n",
       "</div>\n",
       "\n",
       "<div class=\"word  \" >\n",
       "<a href=\"#\" class=\"nd\">407327</a>\n",
       "<div class=\"h\"><a target=\"_blank\" href=\"https://shebanq.ancient-data.org/hebrew/word?version=c&amp;id=1L\" title=\"show this lexeme in SHEBANQ\">לְ</a></div>\n",
       "<div class=\"features\"> <span class=\"pdp\"><a href=\"https://shebanq.ancient-data.org/hebrew/text?book=Chronica_II&amp;chapter=2&amp;verse=3&amp;version=c&amp;mr=m&amp;qw=q&amp;tp=txt_p&amp;tr=hb&amp;wget=v&amp;qget=v&amp;nget=vt\" title=\"2_Chronicles 2:3\" sec=\"2_Chronicles 2:3\">prep</a></span> <span class=\"gloss\">to</span> <span class=\"lex xft\"><span class=\"f\">lex=</span>L</span></div>\n",
       "\n",
       "\n",
       "</div>\n",
       "\n",
       "<div class=\"word  \" >\n",
       "<a href=\"#\" class=\"nd\">407328</a>\n",
       "<div class=\"h\"><a target=\"_blank\" href=\"https://shebanq.ancient-data.org/hebrew/word?version=c&amp;id=1MWODn\" title=\"show this lexeme in SHEBANQ\">מֹועֲדֵ֖י </a></div>\n",
       "<div class=\"features\"> <span class=\"pdp\"><a href=\"https://shebanq.ancient-data.org/hebrew/text?book=Chronica_II&amp;chapter=2&amp;verse=3&amp;version=c&amp;mr=m&amp;qw=q&amp;tp=txt_p&amp;tr=hb&amp;wget=v&amp;qget=v&amp;nget=vt\" title=\"2_Chronicles 2:3\" sec=\"2_Chronicles 2:3\">subs</a></span> <span class=\"gloss\">appointment</span> <span class=\"lex xft\"><span class=\"f\">lex=</span>MW&lt;D/</span></div>\n",
       "\n",
       "\n",
       "</div>\n",
       "\n",
       "<div class=\"word  \" >\n",
       "<a href=\"#\" class=\"nd\">407329</a>\n",
       "<div class=\"h\"><a target=\"_blank\" href=\"https://shebanq.ancient-data.org/hebrew/word?version=c&amp;id=1JHWHn\" title=\"show this lexeme in SHEBANQ\">יְהוָ֣ה </a></div>\n",
       "<div class=\"features\"> <span class=\"pdp\"><a href=\"https://shebanq.ancient-data.org/hebrew/text?book=Chronica_II&amp;chapter=2&amp;verse=3&amp;version=c&amp;mr=m&amp;qw=q&amp;tp=txt_p&amp;tr=hb&amp;wget=v&amp;qget=v&amp;nget=vt\" title=\"2_Chronicles 2:3\" sec=\"2_Chronicles 2:3\">nmpr</a></span> <span class=\"gloss\">YHWH</span> <span class=\"lex xft\"><span class=\"f\">lex=</span>JHWH/</span></div>\n",
       "\n",
       "\n",
       "</div>\n",
       "\n",
       "\n",
       "    </div>\n",
       "\n",
       "\n",
       "</div>\n",
       "\n",
       "<div class=\"patom  r \" >\n",
       "\n",
       "    <div class=\"phrase \" >\n",
       "        <a href=\"https://shebanq.ancient-data.org/hebrew/text?book=Chronica_II&amp;chapter=2&amp;verse=3&amp;version=c&amp;mr=m&amp;qw=q&amp;tp=txt_p&amp;tr=hb&amp;wget=v&amp;qget=v&amp;nget=vt\" title=\"2_Chronicles 2:3\" sec=\"2_Chronicles 2:3\">phrase</a> <a href=\"#\" class=\"nd\">894851</a>  <span class=\"function\">Time</span> <span class=\"typ\">PP|NP</span>\n",
       "    </div>\n",
       "    <div class=\"atoms\">\n",
       "\n",
       "<div class=\"word  \" >\n",
       "<a href=\"#\" class=\"nd\">407330</a>\n",
       "<div class=\"h\"><a target=\"_blank\" href=\"https://shebanq.ancient-data.org/hebrew/word?version=c&amp;id=1ALHJMn\" title=\"show this lexeme in SHEBANQ\">אֱלֹהֵ֑ינוּ </a></div>\n",
       "<div class=\"features\"> <span class=\"pdp\"><a href=\"https://shebanq.ancient-data.org/hebrew/text?book=Chronica_II&amp;chapter=2&amp;verse=3&amp;version=c&amp;mr=m&amp;qw=q&amp;tp=txt_p&amp;tr=hb&amp;wget=v&amp;qget=v&amp;nget=vt\" title=\"2_Chronicles 2:3\" sec=\"2_Chronicles 2:3\">subs</a></span> <span class=\"gloss\">god(s)</span> <span class=\"lex xft\"><span class=\"f\">lex=</span>>LHJM/</span></div>\n",
       "\n",
       "\n",
       "</div>\n",
       "\n",
       "\n",
       "    </div>\n",
       "\n",
       "\n",
       "</div>\n",
       "\n",
       "\n",
       "</div>\n"
      ],
      "text/plain": [
       "<IPython.core.display.HTML object>"
      ]
     },
     "metadata": {},
     "output_type": "display_data"
    },
    {
     "data": {
      "text/html": [
       "<div style=\"background: #96ceb4; text-align: center\">part2</div>"
      ],
      "text/plain": [
       "<IPython.core.display.HTML object>"
      ]
     },
     "metadata": {},
     "output_type": "display_data"
    },
    {
     "data": {
      "text/html": [
       "<div style=\"background: #ffeead; text-align: center\">conj</div>"
      ],
      "text/plain": [
       "<IPython.core.display.HTML object>"
      ]
     },
     "metadata": {},
     "output_type": "display_data"
    },
    {
     "data": {
      "text/html": [
       "<div style=\"background: #ffcc5c; text-align: center\">part1</div>"
      ],
      "text/plain": [
       "<IPython.core.display.HTML object>"
      ]
     },
     "metadata": {},
     "output_type": "display_data"
    },
    {
     "name": "stdout",
     "output_type": "stream",
     "text": [
      "{   '__cx__': 'coord',\n",
      "    'conj': {'__cx__': 'conj', 'head': 407322},\n",
      "    'part1': {   '__cx__': 'prep_ph',\n",
      "                 'head': {   '__cx__': 'defi_ph',\n",
      "                             'art': {'__cx__': 'art', 'head': 407320},\n",
      "                             'head': {'__cx__': 'cont', 'head': 407321}},\n",
      "                 'prep': {'__cx__': 'prep', 'head': 407319}},\n",
      "    'part2': {   '__cx__': 'prep_ph',\n",
      "                 'head': {   '__cx__': 'defi_ph',\n",
      "                             'art': {'__cx__': 'art', 'head': 407324},\n",
      "                             'head': {'__cx__': 'cont', 'head': 407325}},\n",
      "                 'prep': {'__cx__': 'prep', 'head': 407323}}}\n",
      "\n"
     ]
    },
    {
     "data": {
      "text/html": [
       "<hr>"
      ],
      "text/plain": [
       "<IPython.core.display.HTML object>"
      ]
     },
     "metadata": {},
     "output_type": "display_data"
    },
    {
     "data": {
      "text/html": [
       "<p><b>result</b> <i>1450493 -> CX coord {407328, 407329, 407323, 407324, 407325, 407326, 407327}</i></p>"
      ],
      "text/plain": [
       "<IPython.core.display.HTML object>"
      ]
     },
     "metadata": {},
     "output_type": "display_data"
    },
    {
     "data": {
      "text/html": [
       "<a href=\"https://shebanq.ancient-data.org/hebrew/text?book=Chronica_II&amp;chapter=2&amp;verse=3&amp;version=c&amp;mr=m&amp;qw=q&amp;tp=txt_p&amp;tr=hb&amp;wget=v&amp;qget=v&amp;nget=vt\" title=\"show this passage in SHEBANQ\" sec=\"2_Chronicles 2:3\">2_Chronicles 2:3</a>\n",
       "<div class=\"atoms  \" >\n",
       "<a href=\"#\" class=\"nd\">894851</a>\n",
       "\n",
       "\n",
       "\n",
       "<div class=\"patom  l \" >\n",
       "\n",
       "    <div class=\"phrase \" >\n",
       "        <a href=\"https://shebanq.ancient-data.org/hebrew/text?book=Chronica_II&amp;chapter=2&amp;verse=3&amp;version=c&amp;mr=m&amp;qw=q&amp;tp=txt_p&amp;tr=hb&amp;wget=v&amp;qget=v&amp;nget=vt\" title=\"2_Chronicles 2:3\" sec=\"2_Chronicles 2:3\">phrase</a> <a href=\"#\" class=\"nd\">894851</a>  <span class=\"function\">Time</span> <span class=\"typ\">PP</span>\n",
       "    </div>\n",
       "    <div class=\"atoms\">\n",
       "\n",
       "<div class=\"word  \" >\n",
       "<a href=\"#\" class=\"nd\">407319</a>\n",
       "<div class=\"h\"><a target=\"_blank\" href=\"https://shebanq.ancient-data.org/hebrew/word?version=c&amp;id=1L\" title=\"show this lexeme in SHEBANQ\">לַ</a></div>\n",
       "<div class=\"features\"> <span class=\"pdp\"><a href=\"https://shebanq.ancient-data.org/hebrew/text?book=Chronica_II&amp;chapter=2&amp;verse=3&amp;version=c&amp;mr=m&amp;qw=q&amp;tp=txt_p&amp;tr=hb&amp;wget=v&amp;qget=v&amp;nget=vt\" title=\"2_Chronicles 2:3\" sec=\"2_Chronicles 2:3\">prep</a></span> <span class=\"gloss\">to</span> <span class=\"lex xft\"><span class=\"f\">lex=</span>L</span></div>\n",
       "\n",
       "\n",
       "</div>\n",
       "\n",
       "<div class=\"word  \" >\n",
       "<a href=\"#\" class=\"nd\">407320</a>\n",
       "<div class=\"h\"><a target=\"_blank\" href=\"https://shebanq.ancient-data.org/hebrew/word?version=c&amp;id=1H\" title=\"show this lexeme in SHEBANQ\"></a></div>\n",
       "<div class=\"features\"> <span class=\"pdp\"><a href=\"https://shebanq.ancient-data.org/hebrew/text?book=Chronica_II&amp;chapter=2&amp;verse=3&amp;version=c&amp;mr=m&amp;qw=q&amp;tp=txt_p&amp;tr=hb&amp;wget=v&amp;qget=v&amp;nget=vt\" title=\"2_Chronicles 2:3\" sec=\"2_Chronicles 2:3\">art</a></span> <span class=\"gloss\">the</span> <span class=\"lex xft\"><span class=\"f\">lex=</span>H</span></div>\n",
       "\n",
       "\n",
       "</div>\n",
       "\n",
       "<div class=\"word  \" >\n",
       "<a href=\"#\" class=\"nd\">407321</a>\n",
       "<div class=\"h\"><a target=\"_blank\" href=\"https://shebanq.ancient-data.org/hebrew/word?version=c&amp;id=1CBTn\" title=\"show this lexeme in SHEBANQ\">שַּׁבָּתֹות֙ </a></div>\n",
       "<div class=\"features\"> <span class=\"pdp\"><a href=\"https://shebanq.ancient-data.org/hebrew/text?book=Chronica_II&amp;chapter=2&amp;verse=3&amp;version=c&amp;mr=m&amp;qw=q&amp;tp=txt_p&amp;tr=hb&amp;wget=v&amp;qget=v&amp;nget=vt\" title=\"2_Chronicles 2:3\" sec=\"2_Chronicles 2:3\">subs</a></span> <span class=\"gloss\">sabbath</span> <span class=\"lex xft\"><span class=\"f\">lex=</span>CBT/</span></div>\n",
       "\n",
       "\n",
       "</div>\n",
       "\n",
       "<div class=\"word  \" >\n",
       "<a href=\"#\" class=\"nd\">407322</a>\n",
       "<div class=\"h\"><a target=\"_blank\" href=\"https://shebanq.ancient-data.org/hebrew/word?version=c&amp;id=1W\" title=\"show this lexeme in SHEBANQ\">וְ</a></div>\n",
       "<div class=\"features\"> <span class=\"pdp\"><a href=\"https://shebanq.ancient-data.org/hebrew/text?book=Chronica_II&amp;chapter=2&amp;verse=3&amp;version=c&amp;mr=m&amp;qw=q&amp;tp=txt_p&amp;tr=hb&amp;wget=v&amp;qget=v&amp;nget=vt\" title=\"2_Chronicles 2:3\" sec=\"2_Chronicles 2:3\">conj</a></span> <span class=\"gloss\">and</span> <span class=\"lex xft\"><span class=\"f\">lex=</span>W</span></div>\n",
       "\n",
       "\n",
       "</div>\n",
       "\n",
       "<div class=\"word  hl\"  style=\"background-color: #ffcc5c;\" >\n",
       "<a href=\"#\" class=\"nd\">407323</a>\n",
       "<div class=\"h\"><a target=\"_blank\" href=\"https://shebanq.ancient-data.org/hebrew/word?version=c&amp;id=1L\" title=\"show this lexeme in SHEBANQ\">לֶ֣</a></div>\n",
       "<div class=\"features\"> <span class=\"pdp\"><a href=\"https://shebanq.ancient-data.org/hebrew/text?book=Chronica_II&amp;chapter=2&amp;verse=3&amp;version=c&amp;mr=m&amp;qw=q&amp;tp=txt_p&amp;tr=hb&amp;wget=v&amp;qget=v&amp;nget=vt\" title=\"2_Chronicles 2:3\" sec=\"2_Chronicles 2:3\">prep</a></span> <span class=\"gloss\">to</span> <span class=\"lex xft\"><span class=\"f\">lex=</span>L</span></div>\n",
       "\n",
       "\n",
       "</div>\n",
       "\n",
       "<div class=\"word  hl\"  style=\"background-color: #ffcc5c;\" >\n",
       "<a href=\"#\" class=\"nd\">407324</a>\n",
       "<div class=\"h\"><a target=\"_blank\" href=\"https://shebanq.ancient-data.org/hebrew/word?version=c&amp;id=1H\" title=\"show this lexeme in SHEBANQ\"></a></div>\n",
       "<div class=\"features\"> <span class=\"pdp\"><a href=\"https://shebanq.ancient-data.org/hebrew/text?book=Chronica_II&amp;chapter=2&amp;verse=3&amp;version=c&amp;mr=m&amp;qw=q&amp;tp=txt_p&amp;tr=hb&amp;wget=v&amp;qget=v&amp;nget=vt\" title=\"2_Chronicles 2:3\" sec=\"2_Chronicles 2:3\">art</a></span> <span class=\"gloss\">the</span> <span class=\"lex xft\"><span class=\"f\">lex=</span>H</span></div>\n",
       "\n",
       "\n",
       "</div>\n",
       "\n",
       "<div class=\"word  hl\"  style=\"background-color: #ffcc5c;\" >\n",
       "<a href=\"#\" class=\"nd\">407325</a>\n",
       "<div class=\"h\"><a target=\"_blank\" href=\"https://shebanq.ancient-data.org/hebrew/word?version=c&amp;id=1XDCin\" title=\"show this lexeme in SHEBANQ\">חֳדָשִׁ֔ים </a></div>\n",
       "<div class=\"features\"> <span class=\"pdp\"><a href=\"https://shebanq.ancient-data.org/hebrew/text?book=Chronica_II&amp;chapter=2&amp;verse=3&amp;version=c&amp;mr=m&amp;qw=q&amp;tp=txt_p&amp;tr=hb&amp;wget=v&amp;qget=v&amp;nget=vt\" title=\"2_Chronicles 2:3\" sec=\"2_Chronicles 2:3\">subs</a></span> <span class=\"gloss\">month</span> <span class=\"lex xft\"><span class=\"f\">lex=</span>XDC=/</span></div>\n",
       "\n",
       "\n",
       "</div>\n",
       "\n",
       "<div class=\"word  hl\"  style=\"background-color: #ffeead;\" >\n",
       "<a href=\"#\" class=\"nd\">407326</a>\n",
       "<div class=\"h\"><a target=\"_blank\" href=\"https://shebanq.ancient-data.org/hebrew/word?version=c&amp;id=1W\" title=\"show this lexeme in SHEBANQ\">וּֽ</a></div>\n",
       "<div class=\"features\"> <span class=\"pdp\"><a href=\"https://shebanq.ancient-data.org/hebrew/text?book=Chronica_II&amp;chapter=2&amp;verse=3&amp;version=c&amp;mr=m&amp;qw=q&amp;tp=txt_p&amp;tr=hb&amp;wget=v&amp;qget=v&amp;nget=vt\" title=\"2_Chronicles 2:3\" sec=\"2_Chronicles 2:3\">conj</a></span> <span class=\"gloss\">and</span> <span class=\"lex xft\"><span class=\"f\">lex=</span>W</span></div>\n",
       "\n",
       "\n",
       "</div>\n",
       "\n",
       "<div class=\"word  hl\"  style=\"background-color: #96ceb4;\" >\n",
       "<a href=\"#\" class=\"nd\">407327</a>\n",
       "<div class=\"h\"><a target=\"_blank\" href=\"https://shebanq.ancient-data.org/hebrew/word?version=c&amp;id=1L\" title=\"show this lexeme in SHEBANQ\">לְ</a></div>\n",
       "<div class=\"features\"> <span class=\"pdp\"><a href=\"https://shebanq.ancient-data.org/hebrew/text?book=Chronica_II&amp;chapter=2&amp;verse=3&amp;version=c&amp;mr=m&amp;qw=q&amp;tp=txt_p&amp;tr=hb&amp;wget=v&amp;qget=v&amp;nget=vt\" title=\"2_Chronicles 2:3\" sec=\"2_Chronicles 2:3\">prep</a></span> <span class=\"gloss\">to</span> <span class=\"lex xft\"><span class=\"f\">lex=</span>L</span></div>\n",
       "\n",
       "\n",
       "</div>\n",
       "\n",
       "<div class=\"word  hl\"  style=\"background-color: #96ceb4;\" >\n",
       "<a href=\"#\" class=\"nd\">407328</a>\n",
       "<div class=\"h\"><a target=\"_blank\" href=\"https://shebanq.ancient-data.org/hebrew/word?version=c&amp;id=1MWODn\" title=\"show this lexeme in SHEBANQ\">מֹועֲדֵ֖י </a></div>\n",
       "<div class=\"features\"> <span class=\"pdp\"><a href=\"https://shebanq.ancient-data.org/hebrew/text?book=Chronica_II&amp;chapter=2&amp;verse=3&amp;version=c&amp;mr=m&amp;qw=q&amp;tp=txt_p&amp;tr=hb&amp;wget=v&amp;qget=v&amp;nget=vt\" title=\"2_Chronicles 2:3\" sec=\"2_Chronicles 2:3\">subs</a></span> <span class=\"gloss\">appointment</span> <span class=\"lex xft\"><span class=\"f\">lex=</span>MW&lt;D/</span></div>\n",
       "\n",
       "\n",
       "</div>\n",
       "\n",
       "<div class=\"word  hl\"  style=\"background-color: #96ceb4;\" >\n",
       "<a href=\"#\" class=\"nd\">407329</a>\n",
       "<div class=\"h\"><a target=\"_blank\" href=\"https://shebanq.ancient-data.org/hebrew/word?version=c&amp;id=1JHWHn\" title=\"show this lexeme in SHEBANQ\">יְהוָ֣ה </a></div>\n",
       "<div class=\"features\"> <span class=\"pdp\"><a href=\"https://shebanq.ancient-data.org/hebrew/text?book=Chronica_II&amp;chapter=2&amp;verse=3&amp;version=c&amp;mr=m&amp;qw=q&amp;tp=txt_p&amp;tr=hb&amp;wget=v&amp;qget=v&amp;nget=vt\" title=\"2_Chronicles 2:3\" sec=\"2_Chronicles 2:3\">nmpr</a></span> <span class=\"gloss\">YHWH</span> <span class=\"lex xft\"><span class=\"f\">lex=</span>JHWH/</span></div>\n",
       "\n",
       "\n",
       "</div>\n",
       "\n",
       "\n",
       "    </div>\n",
       "\n",
       "\n",
       "</div>\n",
       "\n",
       "<div class=\"patom  r \" >\n",
       "\n",
       "    <div class=\"phrase \" >\n",
       "        <a href=\"https://shebanq.ancient-data.org/hebrew/text?book=Chronica_II&amp;chapter=2&amp;verse=3&amp;version=c&amp;mr=m&amp;qw=q&amp;tp=txt_p&amp;tr=hb&amp;wget=v&amp;qget=v&amp;nget=vt\" title=\"2_Chronicles 2:3\" sec=\"2_Chronicles 2:3\">phrase</a> <a href=\"#\" class=\"nd\">894851</a>  <span class=\"function\">Time</span> <span class=\"typ\">PP|NP</span>\n",
       "    </div>\n",
       "    <div class=\"atoms\">\n",
       "\n",
       "<div class=\"word  \" >\n",
       "<a href=\"#\" class=\"nd\">407330</a>\n",
       "<div class=\"h\"><a target=\"_blank\" href=\"https://shebanq.ancient-data.org/hebrew/word?version=c&amp;id=1ALHJMn\" title=\"show this lexeme in SHEBANQ\">אֱלֹהֵ֑ינוּ </a></div>\n",
       "<div class=\"features\"> <span class=\"pdp\"><a href=\"https://shebanq.ancient-data.org/hebrew/text?book=Chronica_II&amp;chapter=2&amp;verse=3&amp;version=c&amp;mr=m&amp;qw=q&amp;tp=txt_p&amp;tr=hb&amp;wget=v&amp;qget=v&amp;nget=vt\" title=\"2_Chronicles 2:3\" sec=\"2_Chronicles 2:3\">subs</a></span> <span class=\"gloss\">god(s)</span> <span class=\"lex xft\"><span class=\"f\">lex=</span>>LHJM/</span></div>\n",
       "\n",
       "\n",
       "</div>\n",
       "\n",
       "\n",
       "    </div>\n",
       "\n",
       "\n",
       "</div>\n",
       "\n",
       "\n",
       "</div>\n"
      ],
      "text/plain": [
       "<IPython.core.display.HTML object>"
      ]
     },
     "metadata": {},
     "output_type": "display_data"
    },
    {
     "data": {
      "text/html": [
       "<div style=\"background: #96ceb4; text-align: center\">part2</div>"
      ],
      "text/plain": [
       "<IPython.core.display.HTML object>"
      ]
     },
     "metadata": {},
     "output_type": "display_data"
    },
    {
     "data": {
      "text/html": [
       "<div style=\"background: #ffeead; text-align: center\">conj</div>"
      ],
      "text/plain": [
       "<IPython.core.display.HTML object>"
      ]
     },
     "metadata": {},
     "output_type": "display_data"
    },
    {
     "data": {
      "text/html": [
       "<div style=\"background: #ffcc5c; text-align: center\">part1</div>"
      ],
      "text/plain": [
       "<IPython.core.display.HTML object>"
      ]
     },
     "metadata": {},
     "output_type": "display_data"
    },
    {
     "name": "stdout",
     "output_type": "stream",
     "text": [
      "{   '__cx__': 'coord',\n",
      "    'conj': {'__cx__': 'conj', 'head': 407326},\n",
      "    'part1': {   '__cx__': 'prep_ph',\n",
      "                 'head': {   '__cx__': 'defi_ph',\n",
      "                             'art': {'__cx__': 'art', 'head': 407324},\n",
      "                             'head': {'__cx__': 'cont', 'head': 407325}},\n",
      "                 'prep': {'__cx__': 'prep', 'head': 407323}},\n",
      "    'part2': {   '__cx__': 'prep_ph',\n",
      "                 'head': {   '__cx__': 'geni_ph',\n",
      "                             'geni': {'__cx__': 'name', 'head': 407329},\n",
      "                             'head': {'__cx__': 'cont', 'head': 407328}},\n",
      "                 'prep': {'__cx__': 'prep', 'head': 407327}}}\n",
      "\n"
     ]
    },
    {
     "data": {
      "text/html": [
       "<hr>"
      ],
      "text/plain": [
       "<IPython.core.display.HTML object>"
      ]
     },
     "metadata": {},
     "output_type": "display_data"
    },
    {
     "data": {
      "text/html": [
       "<p><b>result</b> <i>1450521 -> CX coord {410880, 410874, 410875, 410876, 410877, 410878, 410879}</i></p>"
      ],
      "text/plain": [
       "<IPython.core.display.HTML object>"
      ]
     },
     "metadata": {},
     "output_type": "display_data"
    },
    {
     "data": {
      "text/html": [
       "<a href=\"https://shebanq.ancient-data.org/hebrew/text?book=Chronica_II&amp;chapter=8&amp;verse=13&amp;version=c&amp;mr=m&amp;qw=q&amp;tp=txt_p&amp;tr=hb&amp;wget=v&amp;qget=v&amp;nget=vt\" title=\"show this passage in SHEBANQ\" sec=\"2_Chronicles 8:13\">2_Chronicles 8:13</a>\n",
       "<div class=\"atoms  \" >\n",
       "<a href=\"#\" class=\"nd\">896665</a>\n",
       "\n",
       "\n",
       "\n",
       "<div class=\"patom  l \" >\n",
       "\n",
       "    <div class=\"phrase \" >\n",
       "        <a href=\"https://shebanq.ancient-data.org/hebrew/text?book=Chronica_II&amp;chapter=8&amp;verse=13&amp;version=c&amp;mr=m&amp;qw=q&amp;tp=txt_p&amp;tr=hb&amp;wget=v&amp;qget=v&amp;nget=vt\" title=\"2_Chronicles 8:13\" sec=\"2_Chronicles 8:13\">phrase</a> <a href=\"#\" class=\"nd\">896665</a>  <span class=\"function\">Time</span> <span class=\"typ\">PP</span>\n",
       "    </div>\n",
       "    <div class=\"atoms\">\n",
       "\n",
       "<div class=\"word  hl\"  style=\"background-color: #ffcc5c;\" >\n",
       "<a href=\"#\" class=\"nd\">410874</a>\n",
       "<div class=\"h\"><a target=\"_blank\" href=\"https://shebanq.ancient-data.org/hebrew/word?version=c&amp;id=1L\" title=\"show this lexeme in SHEBANQ\">לַ</a></div>\n",
       "<div class=\"features\"> <span class=\"pdp\"><a href=\"https://shebanq.ancient-data.org/hebrew/text?book=Chronica_II&amp;chapter=8&amp;verse=13&amp;version=c&amp;mr=m&amp;qw=q&amp;tp=txt_p&amp;tr=hb&amp;wget=v&amp;qget=v&amp;nget=vt\" title=\"2_Chronicles 8:13\" sec=\"2_Chronicles 8:13\">prep</a></span> <span class=\"gloss\">to</span> <span class=\"lex xft\"><span class=\"f\">lex=</span>L</span></div>\n",
       "\n",
       "\n",
       "</div>\n",
       "\n",
       "<div class=\"word  hl\"  style=\"background-color: #ffcc5c;\" >\n",
       "<a href=\"#\" class=\"nd\">410875</a>\n",
       "<div class=\"h\"><a target=\"_blank\" href=\"https://shebanq.ancient-data.org/hebrew/word?version=c&amp;id=1H\" title=\"show this lexeme in SHEBANQ\"></a></div>\n",
       "<div class=\"features\"> <span class=\"pdp\"><a href=\"https://shebanq.ancient-data.org/hebrew/text?book=Chronica_II&amp;chapter=8&amp;verse=13&amp;version=c&amp;mr=m&amp;qw=q&amp;tp=txt_p&amp;tr=hb&amp;wget=v&amp;qget=v&amp;nget=vt\" title=\"2_Chronicles 8:13\" sec=\"2_Chronicles 8:13\">art</a></span> <span class=\"gloss\">the</span> <span class=\"lex xft\"><span class=\"f\">lex=</span>H</span></div>\n",
       "\n",
       "\n",
       "</div>\n",
       "\n",
       "<div class=\"word  hl\"  style=\"background-color: #ffcc5c;\" >\n",
       "<a href=\"#\" class=\"nd\">410876</a>\n",
       "<div class=\"h\"><a target=\"_blank\" href=\"https://shebanq.ancient-data.org/hebrew/word?version=c&amp;id=1CBTn\" title=\"show this lexeme in SHEBANQ\">שַּׁבָּתֹות֙ </a></div>\n",
       "<div class=\"features\"> <span class=\"pdp\"><a href=\"https://shebanq.ancient-data.org/hebrew/text?book=Chronica_II&amp;chapter=8&amp;verse=13&amp;version=c&amp;mr=m&amp;qw=q&amp;tp=txt_p&amp;tr=hb&amp;wget=v&amp;qget=v&amp;nget=vt\" title=\"2_Chronicles 8:13\" sec=\"2_Chronicles 8:13\">subs</a></span> <span class=\"gloss\">sabbath</span> <span class=\"lex xft\"><span class=\"f\">lex=</span>CBT/</span></div>\n",
       "\n",
       "\n",
       "</div>\n",
       "\n",
       "<div class=\"word  hl\"  style=\"background-color: #ffeead;\" >\n",
       "<a href=\"#\" class=\"nd\">410877</a>\n",
       "<div class=\"h\"><a target=\"_blank\" href=\"https://shebanq.ancient-data.org/hebrew/word?version=c&amp;id=1W\" title=\"show this lexeme in SHEBANQ\">וְ</a></div>\n",
       "<div class=\"features\"> <span class=\"pdp\"><a href=\"https://shebanq.ancient-data.org/hebrew/text?book=Chronica_II&amp;chapter=8&amp;verse=13&amp;version=c&amp;mr=m&amp;qw=q&amp;tp=txt_p&amp;tr=hb&amp;wget=v&amp;qget=v&amp;nget=vt\" title=\"2_Chronicles 8:13\" sec=\"2_Chronicles 8:13\">conj</a></span> <span class=\"gloss\">and</span> <span class=\"lex xft\"><span class=\"f\">lex=</span>W</span></div>\n",
       "\n",
       "\n",
       "</div>\n",
       "\n",
       "<div class=\"word  hl\"  style=\"background-color: #96ceb4;\" >\n",
       "<a href=\"#\" class=\"nd\">410878</a>\n",
       "<div class=\"h\"><a target=\"_blank\" href=\"https://shebanq.ancient-data.org/hebrew/word?version=c&amp;id=1L\" title=\"show this lexeme in SHEBANQ\">לֶ֣</a></div>\n",
       "<div class=\"features\"> <span class=\"pdp\"><a href=\"https://shebanq.ancient-data.org/hebrew/text?book=Chronica_II&amp;chapter=8&amp;verse=13&amp;version=c&amp;mr=m&amp;qw=q&amp;tp=txt_p&amp;tr=hb&amp;wget=v&amp;qget=v&amp;nget=vt\" title=\"2_Chronicles 8:13\" sec=\"2_Chronicles 8:13\">prep</a></span> <span class=\"gloss\">to</span> <span class=\"lex xft\"><span class=\"f\">lex=</span>L</span></div>\n",
       "\n",
       "\n",
       "</div>\n",
       "\n",
       "<div class=\"word  hl\"  style=\"background-color: #96ceb4;\" >\n",
       "<a href=\"#\" class=\"nd\">410879</a>\n",
       "<div class=\"h\"><a target=\"_blank\" href=\"https://shebanq.ancient-data.org/hebrew/word?version=c&amp;id=1H\" title=\"show this lexeme in SHEBANQ\"></a></div>\n",
       "<div class=\"features\"> <span class=\"pdp\"><a href=\"https://shebanq.ancient-data.org/hebrew/text?book=Chronica_II&amp;chapter=8&amp;verse=13&amp;version=c&amp;mr=m&amp;qw=q&amp;tp=txt_p&amp;tr=hb&amp;wget=v&amp;qget=v&amp;nget=vt\" title=\"2_Chronicles 8:13\" sec=\"2_Chronicles 8:13\">art</a></span> <span class=\"gloss\">the</span> <span class=\"lex xft\"><span class=\"f\">lex=</span>H</span></div>\n",
       "\n",
       "\n",
       "</div>\n",
       "\n",
       "<div class=\"word  hl\"  style=\"background-color: #96ceb4;\" >\n",
       "<a href=\"#\" class=\"nd\">410880</a>\n",
       "<div class=\"h\"><a target=\"_blank\" href=\"https://shebanq.ancient-data.org/hebrew/word?version=c&amp;id=1XDCin\" title=\"show this lexeme in SHEBANQ\">חֳדָשִׁ֔ים </a></div>\n",
       "<div class=\"features\"> <span class=\"pdp\"><a href=\"https://shebanq.ancient-data.org/hebrew/text?book=Chronica_II&amp;chapter=8&amp;verse=13&amp;version=c&amp;mr=m&amp;qw=q&amp;tp=txt_p&amp;tr=hb&amp;wget=v&amp;qget=v&amp;nget=vt\" title=\"2_Chronicles 8:13\" sec=\"2_Chronicles 8:13\">subs</a></span> <span class=\"gloss\">month</span> <span class=\"lex xft\"><span class=\"f\">lex=</span>XDC=/</span></div>\n",
       "\n",
       "\n",
       "</div>\n",
       "\n",
       "<div class=\"word  \" >\n",
       "<a href=\"#\" class=\"nd\">410881</a>\n",
       "<div class=\"h\"><a target=\"_blank\" href=\"https://shebanq.ancient-data.org/hebrew/word?version=c&amp;id=1W\" title=\"show this lexeme in SHEBANQ\">וְ</a></div>\n",
       "<div class=\"features\"> <span class=\"pdp\"><a href=\"https://shebanq.ancient-data.org/hebrew/text?book=Chronica_II&amp;chapter=8&amp;verse=13&amp;version=c&amp;mr=m&amp;qw=q&amp;tp=txt_p&amp;tr=hb&amp;wget=v&amp;qget=v&amp;nget=vt\" title=\"2_Chronicles 8:13\" sec=\"2_Chronicles 8:13\">conj</a></span> <span class=\"gloss\">and</span> <span class=\"lex xft\"><span class=\"f\">lex=</span>W</span></div>\n",
       "\n",
       "\n",
       "</div>\n",
       "\n",
       "<div class=\"word  \" >\n",
       "<a href=\"#\" class=\"nd\">410882</a>\n",
       "<div class=\"h\"><a target=\"_blank\" href=\"https://shebanq.ancient-data.org/hebrew/word?version=c&amp;id=1L\" title=\"show this lexeme in SHEBANQ\">לַ</a></div>\n",
       "<div class=\"features\"> <span class=\"pdp\"><a href=\"https://shebanq.ancient-data.org/hebrew/text?book=Chronica_II&amp;chapter=8&amp;verse=13&amp;version=c&amp;mr=m&amp;qw=q&amp;tp=txt_p&amp;tr=hb&amp;wget=v&amp;qget=v&amp;nget=vt\" title=\"2_Chronicles 8:13\" sec=\"2_Chronicles 8:13\">prep</a></span> <span class=\"gloss\">to</span> <span class=\"lex xft\"><span class=\"f\">lex=</span>L</span></div>\n",
       "\n",
       "\n",
       "</div>\n",
       "\n",
       "<div class=\"word  \" >\n",
       "<a href=\"#\" class=\"nd\">410883</a>\n",
       "<div class=\"h\"><a target=\"_blank\" href=\"https://shebanq.ancient-data.org/hebrew/word?version=c&amp;id=1H\" title=\"show this lexeme in SHEBANQ\"></a></div>\n",
       "<div class=\"features\"> <span class=\"pdp\"><a href=\"https://shebanq.ancient-data.org/hebrew/text?book=Chronica_II&amp;chapter=8&amp;verse=13&amp;version=c&amp;mr=m&amp;qw=q&amp;tp=txt_p&amp;tr=hb&amp;wget=v&amp;qget=v&amp;nget=vt\" title=\"2_Chronicles 8:13\" sec=\"2_Chronicles 8:13\">art</a></span> <span class=\"gloss\">the</span> <span class=\"lex xft\"><span class=\"f\">lex=</span>H</span></div>\n",
       "\n",
       "\n",
       "</div>\n",
       "\n",
       "<div class=\"word  \" >\n",
       "<a href=\"#\" class=\"nd\">410884</a>\n",
       "<div class=\"h\"><a target=\"_blank\" href=\"https://shebanq.ancient-data.org/hebrew/word?version=c&amp;id=1MWODn\" title=\"show this lexeme in SHEBANQ\">מֹּ֣ועֲדֹ֔ות </a></div>\n",
       "<div class=\"features\"> <span class=\"pdp\"><a href=\"https://shebanq.ancient-data.org/hebrew/text?book=Chronica_II&amp;chapter=8&amp;verse=13&amp;version=c&amp;mr=m&amp;qw=q&amp;tp=txt_p&amp;tr=hb&amp;wget=v&amp;qget=v&amp;nget=vt\" title=\"2_Chronicles 8:13\" sec=\"2_Chronicles 8:13\">subs</a></span> <span class=\"gloss\">appointment</span> <span class=\"lex xft\"><span class=\"f\">lex=</span>MW&lt;D/</span></div>\n",
       "\n",
       "\n",
       "</div>\n",
       "\n",
       "\n",
       "    </div>\n",
       "\n",
       "\n",
       "</div>\n",
       "\n",
       "<div class=\"patom  r l \" >\n",
       "\n",
       "    <div class=\"phrase \" >\n",
       "        <a href=\"https://shebanq.ancient-data.org/hebrew/text?book=Chronica_II&amp;chapter=8&amp;verse=13&amp;version=c&amp;mr=m&amp;qw=q&amp;tp=txt_p&amp;tr=hb&amp;wget=v&amp;qget=v&amp;nget=vt\" title=\"2_Chronicles 8:13\" sec=\"2_Chronicles 8:13\">phrase</a> <a href=\"#\" class=\"nd\">896665</a>  <span class=\"function\">Time</span> <span class=\"typ\">PP|NP</span>\n",
       "    </div>\n",
       "    <div class=\"atoms\">\n",
       "\n",
       "<div class=\"word  \" >\n",
       "<a href=\"#\" class=\"nd\">410885</a>\n",
       "<div class=\"h\"><a target=\"_blank\" href=\"https://shebanq.ancient-data.org/hebrew/word?version=c&amp;id=1CLCn\" title=\"show this lexeme in SHEBANQ\">שָׁלֹ֥ושׁ </a></div>\n",
       "<div class=\"features\"> <span class=\"pdp\"><a href=\"https://shebanq.ancient-data.org/hebrew/text?book=Chronica_II&amp;chapter=8&amp;verse=13&amp;version=c&amp;mr=m&amp;qw=q&amp;tp=txt_p&amp;tr=hb&amp;wget=v&amp;qget=v&amp;nget=vt\" title=\"2_Chronicles 8:13\" sec=\"2_Chronicles 8:13\">subs</a></span> <span class=\"gloss\">three</span> <span class=\"lex xft\"><span class=\"f\">lex=</span>CLC/</span></div>\n",
       "\n",
       "\n",
       "</div>\n",
       "\n",
       "<div class=\"word  \" >\n",
       "<a href=\"#\" class=\"nd\">410886</a>\n",
       "<div class=\"h\"><a target=\"_blank\" href=\"https://shebanq.ancient-data.org/hebrew/word?version=c&amp;id=1POMn\" title=\"show this lexeme in SHEBANQ\">פְּעָמִ֖ים </a></div>\n",
       "<div class=\"features\"> <span class=\"pdp\"><a href=\"https://shebanq.ancient-data.org/hebrew/text?book=Chronica_II&amp;chapter=8&amp;verse=13&amp;version=c&amp;mr=m&amp;qw=q&amp;tp=txt_p&amp;tr=hb&amp;wget=v&amp;qget=v&amp;nget=vt\" title=\"2_Chronicles 8:13\" sec=\"2_Chronicles 8:13\">subs</a></span> <span class=\"gloss\">foot</span> <span class=\"lex xft\"><span class=\"f\">lex=</span>P&lt;M/</span></div>\n",
       "\n",
       "\n",
       "</div>\n",
       "\n",
       "\n",
       "    </div>\n",
       "\n",
       "\n",
       "</div>\n",
       "\n",
       "<div class=\"patom  r l \" >\n",
       "\n",
       "    <div class=\"phrase \" >\n",
       "        <a href=\"https://shebanq.ancient-data.org/hebrew/text?book=Chronica_II&amp;chapter=8&amp;verse=13&amp;version=c&amp;mr=m&amp;qw=q&amp;tp=txt_p&amp;tr=hb&amp;wget=v&amp;qget=v&amp;nget=vt\" title=\"2_Chronicles 8:13\" sec=\"2_Chronicles 8:13\">phrase</a> <a href=\"#\" class=\"nd\">896665</a>  <span class=\"function\">Time</span> <span class=\"typ\">PP</span>\n",
       "    </div>\n",
       "    <div class=\"atoms\">\n",
       "\n",
       "<div class=\"word  \" >\n",
       "<a href=\"#\" class=\"nd\">410887</a>\n",
       "<div class=\"h\"><a target=\"_blank\" href=\"https://shebanq.ancient-data.org/hebrew/word?version=c&amp;id=1B\" title=\"show this lexeme in SHEBANQ\">בַּ</a></div>\n",
       "<div class=\"features\"> <span class=\"pdp\"><a href=\"https://shebanq.ancient-data.org/hebrew/text?book=Chronica_II&amp;chapter=8&amp;verse=13&amp;version=c&amp;mr=m&amp;qw=q&amp;tp=txt_p&amp;tr=hb&amp;wget=v&amp;qget=v&amp;nget=vt\" title=\"2_Chronicles 8:13\" sec=\"2_Chronicles 8:13\">prep</a></span> <span class=\"gloss\">in</span> <span class=\"lex xft\"><span class=\"f\">lex=</span>B</span></div>\n",
       "\n",
       "\n",
       "</div>\n",
       "\n",
       "<div class=\"word  \" >\n",
       "<a href=\"#\" class=\"nd\">410888</a>\n",
       "<div class=\"h\"><a target=\"_blank\" href=\"https://shebanq.ancient-data.org/hebrew/word?version=c&amp;id=1H\" title=\"show this lexeme in SHEBANQ\"></a></div>\n",
       "<div class=\"features\"> <span class=\"pdp\"><a href=\"https://shebanq.ancient-data.org/hebrew/text?book=Chronica_II&amp;chapter=8&amp;verse=13&amp;version=c&amp;mr=m&amp;qw=q&amp;tp=txt_p&amp;tr=hb&amp;wget=v&amp;qget=v&amp;nget=vt\" title=\"2_Chronicles 8:13\" sec=\"2_Chronicles 8:13\">art</a></span> <span class=\"gloss\">the</span> <span class=\"lex xft\"><span class=\"f\">lex=</span>H</span></div>\n",
       "\n",
       "\n",
       "</div>\n",
       "\n",
       "<div class=\"word  \" >\n",
       "<a href=\"#\" class=\"nd\">410889</a>\n",
       "<div class=\"h\"><a target=\"_blank\" href=\"https://shebanq.ancient-data.org/hebrew/word?version=c&amp;id=1CNHn\" title=\"show this lexeme in SHEBANQ\">שָּׁנָ֑ה </a></div>\n",
       "<div class=\"features\"> <span class=\"pdp\"><a href=\"https://shebanq.ancient-data.org/hebrew/text?book=Chronica_II&amp;chapter=8&amp;verse=13&amp;version=c&amp;mr=m&amp;qw=q&amp;tp=txt_p&amp;tr=hb&amp;wget=v&amp;qget=v&amp;nget=vt\" title=\"2_Chronicles 8:13\" sec=\"2_Chronicles 8:13\">subs</a></span> <span class=\"gloss\">year</span> <span class=\"lex xft\"><span class=\"f\">lex=</span>CNH/</span></div>\n",
       "\n",
       "\n",
       "</div>\n",
       "\n",
       "\n",
       "    </div>\n",
       "\n",
       "\n",
       "</div>\n",
       "\n",
       "<div class=\"patom  r \" >\n",
       "\n",
       "    <div class=\"phrase \" >\n",
       "        <a href=\"https://shebanq.ancient-data.org/hebrew/text?book=Chronica_II&amp;chapter=8&amp;verse=13&amp;version=c&amp;mr=m&amp;qw=q&amp;tp=txt_p&amp;tr=hb&amp;wget=v&amp;qget=v&amp;nget=vt\" title=\"2_Chronicles 8:13\" sec=\"2_Chronicles 8:13\">phrase</a> <a href=\"#\" class=\"nd\">896665</a>  <span class=\"function\">Time</span> <span class=\"typ\">PP</span>\n",
       "    </div>\n",
       "    <div class=\"atoms\">\n",
       "\n",
       "<div class=\"word  \" >\n",
       "<a href=\"#\" class=\"nd\">410890</a>\n",
       "<div class=\"h\"><a target=\"_blank\" href=\"https://shebanq.ancient-data.org/hebrew/word?version=c&amp;id=1B\" title=\"show this lexeme in SHEBANQ\">בְּ</a></div>\n",
       "<div class=\"features\"> <span class=\"pdp\"><a href=\"https://shebanq.ancient-data.org/hebrew/text?book=Chronica_II&amp;chapter=8&amp;verse=13&amp;version=c&amp;mr=m&amp;qw=q&amp;tp=txt_p&amp;tr=hb&amp;wget=v&amp;qget=v&amp;nget=vt\" title=\"2_Chronicles 8:13\" sec=\"2_Chronicles 8:13\">prep</a></span> <span class=\"gloss\">in</span> <span class=\"lex xft\"><span class=\"f\">lex=</span>B</span></div>\n",
       "\n",
       "\n",
       "</div>\n",
       "\n",
       "<div class=\"word  \" >\n",
       "<a href=\"#\" class=\"nd\">410891</a>\n",
       "<div class=\"h\"><a target=\"_blank\" href=\"https://shebanq.ancient-data.org/hebrew/word?version=c&amp;id=1XGn\" title=\"show this lexeme in SHEBANQ\">חַ֧ג </a></div>\n",
       "<div class=\"features\"> <span class=\"pdp\"><a href=\"https://shebanq.ancient-data.org/hebrew/text?book=Chronica_II&amp;chapter=8&amp;verse=13&amp;version=c&amp;mr=m&amp;qw=q&amp;tp=txt_p&amp;tr=hb&amp;wget=v&amp;qget=v&amp;nget=vt\" title=\"2_Chronicles 8:13\" sec=\"2_Chronicles 8:13\">subs</a></span> <span class=\"gloss\">festival</span> <span class=\"lex xft\"><span class=\"f\">lex=</span>XG/</span></div>\n",
       "\n",
       "\n",
       "</div>\n",
       "\n",
       "<div class=\"word  \" >\n",
       "<a href=\"#\" class=\"nd\">410892</a>\n",
       "<div class=\"h\"><a target=\"_blank\" href=\"https://shebanq.ancient-data.org/hebrew/word?version=c&amp;id=1H\" title=\"show this lexeme in SHEBANQ\">הַ</a></div>\n",
       "<div class=\"features\"> <span class=\"pdp\"><a href=\"https://shebanq.ancient-data.org/hebrew/text?book=Chronica_II&amp;chapter=8&amp;verse=13&amp;version=c&amp;mr=m&amp;qw=q&amp;tp=txt_p&amp;tr=hb&amp;wget=v&amp;qget=v&amp;nget=vt\" title=\"2_Chronicles 8:13\" sec=\"2_Chronicles 8:13\">art</a></span> <span class=\"gloss\">the</span> <span class=\"lex xft\"><span class=\"f\">lex=</span>H</span></div>\n",
       "\n",
       "\n",
       "</div>\n",
       "\n",
       "<div class=\"word  \" >\n",
       "<a href=\"#\" class=\"nd\">410893</a>\n",
       "<div class=\"h\"><a target=\"_blank\" href=\"https://shebanq.ancient-data.org/hebrew/word?version=c&amp;id=1MYHn\" title=\"show this lexeme in SHEBANQ\">מַּצֹּ֛ות </a></div>\n",
       "<div class=\"features\"> <span class=\"pdp\"><a href=\"https://shebanq.ancient-data.org/hebrew/text?book=Chronica_II&amp;chapter=8&amp;verse=13&amp;version=c&amp;mr=m&amp;qw=q&amp;tp=txt_p&amp;tr=hb&amp;wget=v&amp;qget=v&amp;nget=vt\" title=\"2_Chronicles 8:13\" sec=\"2_Chronicles 8:13\">subs</a></span> <span class=\"gloss\">matzo</span> <span class=\"lex xft\"><span class=\"f\">lex=</span>MYH/</span></div>\n",
       "\n",
       "\n",
       "</div>\n",
       "\n",
       "<div class=\"word  \" >\n",
       "<a href=\"#\" class=\"nd\">410894</a>\n",
       "<div class=\"h\"><a target=\"_blank\" href=\"https://shebanq.ancient-data.org/hebrew/word?version=c&amp;id=1W\" title=\"show this lexeme in SHEBANQ\">וּ</a></div>\n",
       "<div class=\"features\"> <span class=\"pdp\"><a href=\"https://shebanq.ancient-data.org/hebrew/text?book=Chronica_II&amp;chapter=8&amp;verse=13&amp;version=c&amp;mr=m&amp;qw=q&amp;tp=txt_p&amp;tr=hb&amp;wget=v&amp;qget=v&amp;nget=vt\" title=\"2_Chronicles 8:13\" sec=\"2_Chronicles 8:13\">conj</a></span> <span class=\"gloss\">and</span> <span class=\"lex xft\"><span class=\"f\">lex=</span>W</span></div>\n",
       "\n",
       "\n",
       "</div>\n",
       "\n",
       "<div class=\"word  \" >\n",
       "<a href=\"#\" class=\"nd\">410895</a>\n",
       "<div class=\"h\"><a target=\"_blank\" href=\"https://shebanq.ancient-data.org/hebrew/word?version=c&amp;id=1B\" title=\"show this lexeme in SHEBANQ\">בְ</a></div>\n",
       "<div class=\"features\"> <span class=\"pdp\"><a href=\"https://shebanq.ancient-data.org/hebrew/text?book=Chronica_II&amp;chapter=8&amp;verse=13&amp;version=c&amp;mr=m&amp;qw=q&amp;tp=txt_p&amp;tr=hb&amp;wget=v&amp;qget=v&amp;nget=vt\" title=\"2_Chronicles 8:13\" sec=\"2_Chronicles 8:13\">prep</a></span> <span class=\"gloss\">in</span> <span class=\"lex xft\"><span class=\"f\">lex=</span>B</span></div>\n",
       "\n",
       "\n",
       "</div>\n",
       "\n",
       "<div class=\"word  \" >\n",
       "<a href=\"#\" class=\"nd\">410896</a>\n",
       "<div class=\"h\"><a target=\"_blank\" href=\"https://shebanq.ancient-data.org/hebrew/word?version=c&amp;id=1XGn\" title=\"show this lexeme in SHEBANQ\">חַ֥ג </a></div>\n",
       "<div class=\"features\"> <span class=\"pdp\"><a href=\"https://shebanq.ancient-data.org/hebrew/text?book=Chronica_II&amp;chapter=8&amp;verse=13&amp;version=c&amp;mr=m&amp;qw=q&amp;tp=txt_p&amp;tr=hb&amp;wget=v&amp;qget=v&amp;nget=vt\" title=\"2_Chronicles 8:13\" sec=\"2_Chronicles 8:13\">subs</a></span> <span class=\"gloss\">festival</span> <span class=\"lex xft\"><span class=\"f\">lex=</span>XG/</span></div>\n",
       "\n",
       "\n",
       "</div>\n",
       "\n",
       "<div class=\"word  \" >\n",
       "<a href=\"#\" class=\"nd\">410897</a>\n",
       "<div class=\"h\"><a target=\"_blank\" href=\"https://shebanq.ancient-data.org/hebrew/word?version=c&amp;id=1H\" title=\"show this lexeme in SHEBANQ\">הַ</a></div>\n",
       "<div class=\"features\"> <span class=\"pdp\"><a href=\"https://shebanq.ancient-data.org/hebrew/text?book=Chronica_II&amp;chapter=8&amp;verse=13&amp;version=c&amp;mr=m&amp;qw=q&amp;tp=txt_p&amp;tr=hb&amp;wget=v&amp;qget=v&amp;nget=vt\" title=\"2_Chronicles 8:13\" sec=\"2_Chronicles 8:13\">art</a></span> <span class=\"gloss\">the</span> <span class=\"lex xft\"><span class=\"f\">lex=</span>H</span></div>\n",
       "\n",
       "\n",
       "</div>\n",
       "\n",
       "<div class=\"word  \" >\n",
       "<a href=\"#\" class=\"nd\">410898</a>\n",
       "<div class=\"h\"><a target=\"_blank\" href=\"https://shebanq.ancient-data.org/hebrew/word?version=c&amp;id=1CBWOn\" title=\"show this lexeme in SHEBANQ\">שָּׁבֻעֹ֖ות </a></div>\n",
       "<div class=\"features\"> <span class=\"pdp\"><a href=\"https://shebanq.ancient-data.org/hebrew/text?book=Chronica_II&amp;chapter=8&amp;verse=13&amp;version=c&amp;mr=m&amp;qw=q&amp;tp=txt_p&amp;tr=hb&amp;wget=v&amp;qget=v&amp;nget=vt\" title=\"2_Chronicles 8:13\" sec=\"2_Chronicles 8:13\">subs</a></span> <span class=\"gloss\">week</span> <span class=\"lex xft\"><span class=\"f\">lex=</span>CBW&lt;/</span></div>\n",
       "\n",
       "\n",
       "</div>\n",
       "\n",
       "<div class=\"word  \" >\n",
       "<a href=\"#\" class=\"nd\">410899</a>\n",
       "<div class=\"h\"><a target=\"_blank\" href=\"https://shebanq.ancient-data.org/hebrew/word?version=c&amp;id=1W\" title=\"show this lexeme in SHEBANQ\">וּ</a></div>\n",
       "<div class=\"features\"> <span class=\"pdp\"><a href=\"https://shebanq.ancient-data.org/hebrew/text?book=Chronica_II&amp;chapter=8&amp;verse=13&amp;version=c&amp;mr=m&amp;qw=q&amp;tp=txt_p&amp;tr=hb&amp;wget=v&amp;qget=v&amp;nget=vt\" title=\"2_Chronicles 8:13\" sec=\"2_Chronicles 8:13\">conj</a></span> <span class=\"gloss\">and</span> <span class=\"lex xft\"><span class=\"f\">lex=</span>W</span></div>\n",
       "\n",
       "\n",
       "</div>\n",
       "\n",
       "<div class=\"word  \" >\n",
       "<a href=\"#\" class=\"nd\">410900</a>\n",
       "<div class=\"h\"><a target=\"_blank\" href=\"https://shebanq.ancient-data.org/hebrew/word?version=c&amp;id=1B\" title=\"show this lexeme in SHEBANQ\">בְ</a></div>\n",
       "<div class=\"features\"> <span class=\"pdp\"><a href=\"https://shebanq.ancient-data.org/hebrew/text?book=Chronica_II&amp;chapter=8&amp;verse=13&amp;version=c&amp;mr=m&amp;qw=q&amp;tp=txt_p&amp;tr=hb&amp;wget=v&amp;qget=v&amp;nget=vt\" title=\"2_Chronicles 8:13\" sec=\"2_Chronicles 8:13\">prep</a></span> <span class=\"gloss\">in</span> <span class=\"lex xft\"><span class=\"f\">lex=</span>B</span></div>\n",
       "\n",
       "\n",
       "</div>\n",
       "\n",
       "<div class=\"word  \" >\n",
       "<a href=\"#\" class=\"nd\">410901</a>\n",
       "<div class=\"h\"><a target=\"_blank\" href=\"https://shebanq.ancient-data.org/hebrew/word?version=c&amp;id=1XGn\" title=\"show this lexeme in SHEBANQ\">חַ֥ג </a></div>\n",
       "<div class=\"features\"> <span class=\"pdp\"><a href=\"https://shebanq.ancient-data.org/hebrew/text?book=Chronica_II&amp;chapter=8&amp;verse=13&amp;version=c&amp;mr=m&amp;qw=q&amp;tp=txt_p&amp;tr=hb&amp;wget=v&amp;qget=v&amp;nget=vt\" title=\"2_Chronicles 8:13\" sec=\"2_Chronicles 8:13\">subs</a></span> <span class=\"gloss\">festival</span> <span class=\"lex xft\"><span class=\"f\">lex=</span>XG/</span></div>\n",
       "\n",
       "\n",
       "</div>\n",
       "\n",
       "<div class=\"word  \" >\n",
       "<a href=\"#\" class=\"nd\">410902</a>\n",
       "<div class=\"h\"><a target=\"_blank\" href=\"https://shebanq.ancient-data.org/hebrew/word?version=c&amp;id=1H\" title=\"show this lexeme in SHEBANQ\">הַ</a></div>\n",
       "<div class=\"features\"> <span class=\"pdp\"><a href=\"https://shebanq.ancient-data.org/hebrew/text?book=Chronica_II&amp;chapter=8&amp;verse=13&amp;version=c&amp;mr=m&amp;qw=q&amp;tp=txt_p&amp;tr=hb&amp;wget=v&amp;qget=v&amp;nget=vt\" title=\"2_Chronicles 8:13\" sec=\"2_Chronicles 8:13\">art</a></span> <span class=\"gloss\">the</span> <span class=\"lex xft\"><span class=\"f\">lex=</span>H</span></div>\n",
       "\n",
       "\n",
       "</div>\n",
       "\n",
       "<div class=\"word  \" >\n",
       "<a href=\"#\" class=\"nd\">410903</a>\n",
       "<div class=\"h\"><a target=\"_blank\" href=\"https://shebanq.ancient-data.org/hebrew/word?version=c&amp;id=1SKHn\" title=\"show this lexeme in SHEBANQ\">סֻּכֹּֽות׃ </a></div>\n",
       "<div class=\"features\"> <span class=\"pdp\"><a href=\"https://shebanq.ancient-data.org/hebrew/text?book=Chronica_II&amp;chapter=8&amp;verse=13&amp;version=c&amp;mr=m&amp;qw=q&amp;tp=txt_p&amp;tr=hb&amp;wget=v&amp;qget=v&amp;nget=vt\" title=\"2_Chronicles 8:13\" sec=\"2_Chronicles 8:13\">subs</a></span> <span class=\"gloss\">cover of foliage</span> <span class=\"lex xft\"><span class=\"f\">lex=</span>SKH/</span></div>\n",
       "\n",
       "\n",
       "</div>\n",
       "\n",
       "\n",
       "    </div>\n",
       "\n",
       "\n",
       "</div>\n",
       "\n",
       "\n",
       "</div>\n"
      ],
      "text/plain": [
       "<IPython.core.display.HTML object>"
      ]
     },
     "metadata": {},
     "output_type": "display_data"
    },
    {
     "data": {
      "text/html": [
       "<div style=\"background: #96ceb4; text-align: center\">part2</div>"
      ],
      "text/plain": [
       "<IPython.core.display.HTML object>"
      ]
     },
     "metadata": {},
     "output_type": "display_data"
    },
    {
     "data": {
      "text/html": [
       "<div style=\"background: #ffeead; text-align: center\">conj</div>"
      ],
      "text/plain": [
       "<IPython.core.display.HTML object>"
      ]
     },
     "metadata": {},
     "output_type": "display_data"
    },
    {
     "data": {
      "text/html": [
       "<div style=\"background: #ffcc5c; text-align: center\">part1</div>"
      ],
      "text/plain": [
       "<IPython.core.display.HTML object>"
      ]
     },
     "metadata": {},
     "output_type": "display_data"
    },
    {
     "name": "stdout",
     "output_type": "stream",
     "text": [
      "{   '__cx__': 'coord',\n",
      "    'conj': {'__cx__': 'conj', 'head': 410877},\n",
      "    'part1': {   '__cx__': 'prep_ph',\n",
      "                 'head': {   '__cx__': 'defi_ph',\n",
      "                             'art': {'__cx__': 'art', 'head': 410875},\n",
      "                             'head': {'__cx__': 'cont', 'head': 410876}},\n",
      "                 'prep': {'__cx__': 'prep', 'head': 410874}},\n",
      "    'part2': {   '__cx__': 'prep_ph',\n",
      "                 'head': {   '__cx__': 'defi_ph',\n",
      "                             'art': {'__cx__': 'art', 'head': 410879},\n",
      "                             'head': {'__cx__': 'cont', 'head': 410880}},\n",
      "                 'prep': {'__cx__': 'prep', 'head': 410878}}}\n",
      "\n"
     ]
    },
    {
     "data": {
      "text/html": [
       "<hr>"
      ],
      "text/plain": [
       "<IPython.core.display.HTML object>"
      ]
     },
     "metadata": {},
     "output_type": "display_data"
    },
    {
     "data": {
      "text/html": [
       "<p><b>result</b> <i>1450521 -> CX coord {410880, 410881, 410882, 410883, 410884, 410878, 410879}</i></p>"
      ],
      "text/plain": [
       "<IPython.core.display.HTML object>"
      ]
     },
     "metadata": {},
     "output_type": "display_data"
    },
    {
     "data": {
      "text/html": [
       "<a href=\"https://shebanq.ancient-data.org/hebrew/text?book=Chronica_II&amp;chapter=8&amp;verse=13&amp;version=c&amp;mr=m&amp;qw=q&amp;tp=txt_p&amp;tr=hb&amp;wget=v&amp;qget=v&amp;nget=vt\" title=\"show this passage in SHEBANQ\" sec=\"2_Chronicles 8:13\">2_Chronicles 8:13</a>\n",
       "<div class=\"atoms  \" >\n",
       "<a href=\"#\" class=\"nd\">896665</a>\n",
       "\n",
       "\n",
       "\n",
       "<div class=\"patom  l \" >\n",
       "\n",
       "    <div class=\"phrase \" >\n",
       "        <a href=\"https://shebanq.ancient-data.org/hebrew/text?book=Chronica_II&amp;chapter=8&amp;verse=13&amp;version=c&amp;mr=m&amp;qw=q&amp;tp=txt_p&amp;tr=hb&amp;wget=v&amp;qget=v&amp;nget=vt\" title=\"2_Chronicles 8:13\" sec=\"2_Chronicles 8:13\">phrase</a> <a href=\"#\" class=\"nd\">896665</a>  <span class=\"function\">Time</span> <span class=\"typ\">PP</span>\n",
       "    </div>\n",
       "    <div class=\"atoms\">\n",
       "\n",
       "<div class=\"word  \" >\n",
       "<a href=\"#\" class=\"nd\">410874</a>\n",
       "<div class=\"h\"><a target=\"_blank\" href=\"https://shebanq.ancient-data.org/hebrew/word?version=c&amp;id=1L\" title=\"show this lexeme in SHEBANQ\">לַ</a></div>\n",
       "<div class=\"features\"> <span class=\"pdp\"><a href=\"https://shebanq.ancient-data.org/hebrew/text?book=Chronica_II&amp;chapter=8&amp;verse=13&amp;version=c&amp;mr=m&amp;qw=q&amp;tp=txt_p&amp;tr=hb&amp;wget=v&amp;qget=v&amp;nget=vt\" title=\"2_Chronicles 8:13\" sec=\"2_Chronicles 8:13\">prep</a></span> <span class=\"gloss\">to</span> <span class=\"lex xft\"><span class=\"f\">lex=</span>L</span></div>\n",
       "\n",
       "\n",
       "</div>\n",
       "\n",
       "<div class=\"word  \" >\n",
       "<a href=\"#\" class=\"nd\">410875</a>\n",
       "<div class=\"h\"><a target=\"_blank\" href=\"https://shebanq.ancient-data.org/hebrew/word?version=c&amp;id=1H\" title=\"show this lexeme in SHEBANQ\"></a></div>\n",
       "<div class=\"features\"> <span class=\"pdp\"><a href=\"https://shebanq.ancient-data.org/hebrew/text?book=Chronica_II&amp;chapter=8&amp;verse=13&amp;version=c&amp;mr=m&amp;qw=q&amp;tp=txt_p&amp;tr=hb&amp;wget=v&amp;qget=v&amp;nget=vt\" title=\"2_Chronicles 8:13\" sec=\"2_Chronicles 8:13\">art</a></span> <span class=\"gloss\">the</span> <span class=\"lex xft\"><span class=\"f\">lex=</span>H</span></div>\n",
       "\n",
       "\n",
       "</div>\n",
       "\n",
       "<div class=\"word  \" >\n",
       "<a href=\"#\" class=\"nd\">410876</a>\n",
       "<div class=\"h\"><a target=\"_blank\" href=\"https://shebanq.ancient-data.org/hebrew/word?version=c&amp;id=1CBTn\" title=\"show this lexeme in SHEBANQ\">שַּׁבָּתֹות֙ </a></div>\n",
       "<div class=\"features\"> <span class=\"pdp\"><a href=\"https://shebanq.ancient-data.org/hebrew/text?book=Chronica_II&amp;chapter=8&amp;verse=13&amp;version=c&amp;mr=m&amp;qw=q&amp;tp=txt_p&amp;tr=hb&amp;wget=v&amp;qget=v&amp;nget=vt\" title=\"2_Chronicles 8:13\" sec=\"2_Chronicles 8:13\">subs</a></span> <span class=\"gloss\">sabbath</span> <span class=\"lex xft\"><span class=\"f\">lex=</span>CBT/</span></div>\n",
       "\n",
       "\n",
       "</div>\n",
       "\n",
       "<div class=\"word  \" >\n",
       "<a href=\"#\" class=\"nd\">410877</a>\n",
       "<div class=\"h\"><a target=\"_blank\" href=\"https://shebanq.ancient-data.org/hebrew/word?version=c&amp;id=1W\" title=\"show this lexeme in SHEBANQ\">וְ</a></div>\n",
       "<div class=\"features\"> <span class=\"pdp\"><a href=\"https://shebanq.ancient-data.org/hebrew/text?book=Chronica_II&amp;chapter=8&amp;verse=13&amp;version=c&amp;mr=m&amp;qw=q&amp;tp=txt_p&amp;tr=hb&amp;wget=v&amp;qget=v&amp;nget=vt\" title=\"2_Chronicles 8:13\" sec=\"2_Chronicles 8:13\">conj</a></span> <span class=\"gloss\">and</span> <span class=\"lex xft\"><span class=\"f\">lex=</span>W</span></div>\n",
       "\n",
       "\n",
       "</div>\n",
       "\n",
       "<div class=\"word  hl\"  style=\"background-color: #ffcc5c;\" >\n",
       "<a href=\"#\" class=\"nd\">410878</a>\n",
       "<div class=\"h\"><a target=\"_blank\" href=\"https://shebanq.ancient-data.org/hebrew/word?version=c&amp;id=1L\" title=\"show this lexeme in SHEBANQ\">לֶ֣</a></div>\n",
       "<div class=\"features\"> <span class=\"pdp\"><a href=\"https://shebanq.ancient-data.org/hebrew/text?book=Chronica_II&amp;chapter=8&amp;verse=13&amp;version=c&amp;mr=m&amp;qw=q&amp;tp=txt_p&amp;tr=hb&amp;wget=v&amp;qget=v&amp;nget=vt\" title=\"2_Chronicles 8:13\" sec=\"2_Chronicles 8:13\">prep</a></span> <span class=\"gloss\">to</span> <span class=\"lex xft\"><span class=\"f\">lex=</span>L</span></div>\n",
       "\n",
       "\n",
       "</div>\n",
       "\n",
       "<div class=\"word  hl\"  style=\"background-color: #ffcc5c;\" >\n",
       "<a href=\"#\" class=\"nd\">410879</a>\n",
       "<div class=\"h\"><a target=\"_blank\" href=\"https://shebanq.ancient-data.org/hebrew/word?version=c&amp;id=1H\" title=\"show this lexeme in SHEBANQ\"></a></div>\n",
       "<div class=\"features\"> <span class=\"pdp\"><a href=\"https://shebanq.ancient-data.org/hebrew/text?book=Chronica_II&amp;chapter=8&amp;verse=13&amp;version=c&amp;mr=m&amp;qw=q&amp;tp=txt_p&amp;tr=hb&amp;wget=v&amp;qget=v&amp;nget=vt\" title=\"2_Chronicles 8:13\" sec=\"2_Chronicles 8:13\">art</a></span> <span class=\"gloss\">the</span> <span class=\"lex xft\"><span class=\"f\">lex=</span>H</span></div>\n",
       "\n",
       "\n",
       "</div>\n",
       "\n",
       "<div class=\"word  hl\"  style=\"background-color: #ffcc5c;\" >\n",
       "<a href=\"#\" class=\"nd\">410880</a>\n",
       "<div class=\"h\"><a target=\"_blank\" href=\"https://shebanq.ancient-data.org/hebrew/word?version=c&amp;id=1XDCin\" title=\"show this lexeme in SHEBANQ\">חֳדָשִׁ֔ים </a></div>\n",
       "<div class=\"features\"> <span class=\"pdp\"><a href=\"https://shebanq.ancient-data.org/hebrew/text?book=Chronica_II&amp;chapter=8&amp;verse=13&amp;version=c&amp;mr=m&amp;qw=q&amp;tp=txt_p&amp;tr=hb&amp;wget=v&amp;qget=v&amp;nget=vt\" title=\"2_Chronicles 8:13\" sec=\"2_Chronicles 8:13\">subs</a></span> <span class=\"gloss\">month</span> <span class=\"lex xft\"><span class=\"f\">lex=</span>XDC=/</span></div>\n",
       "\n",
       "\n",
       "</div>\n",
       "\n",
       "<div class=\"word  hl\"  style=\"background-color: #ffeead;\" >\n",
       "<a href=\"#\" class=\"nd\">410881</a>\n",
       "<div class=\"h\"><a target=\"_blank\" href=\"https://shebanq.ancient-data.org/hebrew/word?version=c&amp;id=1W\" title=\"show this lexeme in SHEBANQ\">וְ</a></div>\n",
       "<div class=\"features\"> <span class=\"pdp\"><a href=\"https://shebanq.ancient-data.org/hebrew/text?book=Chronica_II&amp;chapter=8&amp;verse=13&amp;version=c&amp;mr=m&amp;qw=q&amp;tp=txt_p&amp;tr=hb&amp;wget=v&amp;qget=v&amp;nget=vt\" title=\"2_Chronicles 8:13\" sec=\"2_Chronicles 8:13\">conj</a></span> <span class=\"gloss\">and</span> <span class=\"lex xft\"><span class=\"f\">lex=</span>W</span></div>\n",
       "\n",
       "\n",
       "</div>\n",
       "\n",
       "<div class=\"word  hl\"  style=\"background-color: #96ceb4;\" >\n",
       "<a href=\"#\" class=\"nd\">410882</a>\n",
       "<div class=\"h\"><a target=\"_blank\" href=\"https://shebanq.ancient-data.org/hebrew/word?version=c&amp;id=1L\" title=\"show this lexeme in SHEBANQ\">לַ</a></div>\n",
       "<div class=\"features\"> <span class=\"pdp\"><a href=\"https://shebanq.ancient-data.org/hebrew/text?book=Chronica_II&amp;chapter=8&amp;verse=13&amp;version=c&amp;mr=m&amp;qw=q&amp;tp=txt_p&amp;tr=hb&amp;wget=v&amp;qget=v&amp;nget=vt\" title=\"2_Chronicles 8:13\" sec=\"2_Chronicles 8:13\">prep</a></span> <span class=\"gloss\">to</span> <span class=\"lex xft\"><span class=\"f\">lex=</span>L</span></div>\n",
       "\n",
       "\n",
       "</div>\n",
       "\n",
       "<div class=\"word  hl\"  style=\"background-color: #96ceb4;\" >\n",
       "<a href=\"#\" class=\"nd\">410883</a>\n",
       "<div class=\"h\"><a target=\"_blank\" href=\"https://shebanq.ancient-data.org/hebrew/word?version=c&amp;id=1H\" title=\"show this lexeme in SHEBANQ\"></a></div>\n",
       "<div class=\"features\"> <span class=\"pdp\"><a href=\"https://shebanq.ancient-data.org/hebrew/text?book=Chronica_II&amp;chapter=8&amp;verse=13&amp;version=c&amp;mr=m&amp;qw=q&amp;tp=txt_p&amp;tr=hb&amp;wget=v&amp;qget=v&amp;nget=vt\" title=\"2_Chronicles 8:13\" sec=\"2_Chronicles 8:13\">art</a></span> <span class=\"gloss\">the</span> <span class=\"lex xft\"><span class=\"f\">lex=</span>H</span></div>\n",
       "\n",
       "\n",
       "</div>\n",
       "\n",
       "<div class=\"word  hl\"  style=\"background-color: #96ceb4;\" >\n",
       "<a href=\"#\" class=\"nd\">410884</a>\n",
       "<div class=\"h\"><a target=\"_blank\" href=\"https://shebanq.ancient-data.org/hebrew/word?version=c&amp;id=1MWODn\" title=\"show this lexeme in SHEBANQ\">מֹּ֣ועֲדֹ֔ות </a></div>\n",
       "<div class=\"features\"> <span class=\"pdp\"><a href=\"https://shebanq.ancient-data.org/hebrew/text?book=Chronica_II&amp;chapter=8&amp;verse=13&amp;version=c&amp;mr=m&amp;qw=q&amp;tp=txt_p&amp;tr=hb&amp;wget=v&amp;qget=v&amp;nget=vt\" title=\"2_Chronicles 8:13\" sec=\"2_Chronicles 8:13\">subs</a></span> <span class=\"gloss\">appointment</span> <span class=\"lex xft\"><span class=\"f\">lex=</span>MW&lt;D/</span></div>\n",
       "\n",
       "\n",
       "</div>\n",
       "\n",
       "\n",
       "    </div>\n",
       "\n",
       "\n",
       "</div>\n",
       "\n",
       "<div class=\"patom  r l \" >\n",
       "\n",
       "    <div class=\"phrase \" >\n",
       "        <a href=\"https://shebanq.ancient-data.org/hebrew/text?book=Chronica_II&amp;chapter=8&amp;verse=13&amp;version=c&amp;mr=m&amp;qw=q&amp;tp=txt_p&amp;tr=hb&amp;wget=v&amp;qget=v&amp;nget=vt\" title=\"2_Chronicles 8:13\" sec=\"2_Chronicles 8:13\">phrase</a> <a href=\"#\" class=\"nd\">896665</a>  <span class=\"function\">Time</span> <span class=\"typ\">PP|NP</span>\n",
       "    </div>\n",
       "    <div class=\"atoms\">\n",
       "\n",
       "<div class=\"word  \" >\n",
       "<a href=\"#\" class=\"nd\">410885</a>\n",
       "<div class=\"h\"><a target=\"_blank\" href=\"https://shebanq.ancient-data.org/hebrew/word?version=c&amp;id=1CLCn\" title=\"show this lexeme in SHEBANQ\">שָׁלֹ֥ושׁ </a></div>\n",
       "<div class=\"features\"> <span class=\"pdp\"><a href=\"https://shebanq.ancient-data.org/hebrew/text?book=Chronica_II&amp;chapter=8&amp;verse=13&amp;version=c&amp;mr=m&amp;qw=q&amp;tp=txt_p&amp;tr=hb&amp;wget=v&amp;qget=v&amp;nget=vt\" title=\"2_Chronicles 8:13\" sec=\"2_Chronicles 8:13\">subs</a></span> <span class=\"gloss\">three</span> <span class=\"lex xft\"><span class=\"f\">lex=</span>CLC/</span></div>\n",
       "\n",
       "\n",
       "</div>\n",
       "\n",
       "<div class=\"word  \" >\n",
       "<a href=\"#\" class=\"nd\">410886</a>\n",
       "<div class=\"h\"><a target=\"_blank\" href=\"https://shebanq.ancient-data.org/hebrew/word?version=c&amp;id=1POMn\" title=\"show this lexeme in SHEBANQ\">פְּעָמִ֖ים </a></div>\n",
       "<div class=\"features\"> <span class=\"pdp\"><a href=\"https://shebanq.ancient-data.org/hebrew/text?book=Chronica_II&amp;chapter=8&amp;verse=13&amp;version=c&amp;mr=m&amp;qw=q&amp;tp=txt_p&amp;tr=hb&amp;wget=v&amp;qget=v&amp;nget=vt\" title=\"2_Chronicles 8:13\" sec=\"2_Chronicles 8:13\">subs</a></span> <span class=\"gloss\">foot</span> <span class=\"lex xft\"><span class=\"f\">lex=</span>P&lt;M/</span></div>\n",
       "\n",
       "\n",
       "</div>\n",
       "\n",
       "\n",
       "    </div>\n",
       "\n",
       "\n",
       "</div>\n",
       "\n",
       "<div class=\"patom  r l \" >\n",
       "\n",
       "    <div class=\"phrase \" >\n",
       "        <a href=\"https://shebanq.ancient-data.org/hebrew/text?book=Chronica_II&amp;chapter=8&amp;verse=13&amp;version=c&amp;mr=m&amp;qw=q&amp;tp=txt_p&amp;tr=hb&amp;wget=v&amp;qget=v&amp;nget=vt\" title=\"2_Chronicles 8:13\" sec=\"2_Chronicles 8:13\">phrase</a> <a href=\"#\" class=\"nd\">896665</a>  <span class=\"function\">Time</span> <span class=\"typ\">PP</span>\n",
       "    </div>\n",
       "    <div class=\"atoms\">\n",
       "\n",
       "<div class=\"word  \" >\n",
       "<a href=\"#\" class=\"nd\">410887</a>\n",
       "<div class=\"h\"><a target=\"_blank\" href=\"https://shebanq.ancient-data.org/hebrew/word?version=c&amp;id=1B\" title=\"show this lexeme in SHEBANQ\">בַּ</a></div>\n",
       "<div class=\"features\"> <span class=\"pdp\"><a href=\"https://shebanq.ancient-data.org/hebrew/text?book=Chronica_II&amp;chapter=8&amp;verse=13&amp;version=c&amp;mr=m&amp;qw=q&amp;tp=txt_p&amp;tr=hb&amp;wget=v&amp;qget=v&amp;nget=vt\" title=\"2_Chronicles 8:13\" sec=\"2_Chronicles 8:13\">prep</a></span> <span class=\"gloss\">in</span> <span class=\"lex xft\"><span class=\"f\">lex=</span>B</span></div>\n",
       "\n",
       "\n",
       "</div>\n",
       "\n",
       "<div class=\"word  \" >\n",
       "<a href=\"#\" class=\"nd\">410888</a>\n",
       "<div class=\"h\"><a target=\"_blank\" href=\"https://shebanq.ancient-data.org/hebrew/word?version=c&amp;id=1H\" title=\"show this lexeme in SHEBANQ\"></a></div>\n",
       "<div class=\"features\"> <span class=\"pdp\"><a href=\"https://shebanq.ancient-data.org/hebrew/text?book=Chronica_II&amp;chapter=8&amp;verse=13&amp;version=c&amp;mr=m&amp;qw=q&amp;tp=txt_p&amp;tr=hb&amp;wget=v&amp;qget=v&amp;nget=vt\" title=\"2_Chronicles 8:13\" sec=\"2_Chronicles 8:13\">art</a></span> <span class=\"gloss\">the</span> <span class=\"lex xft\"><span class=\"f\">lex=</span>H</span></div>\n",
       "\n",
       "\n",
       "</div>\n",
       "\n",
       "<div class=\"word  \" >\n",
       "<a href=\"#\" class=\"nd\">410889</a>\n",
       "<div class=\"h\"><a target=\"_blank\" href=\"https://shebanq.ancient-data.org/hebrew/word?version=c&amp;id=1CNHn\" title=\"show this lexeme in SHEBANQ\">שָּׁנָ֑ה </a></div>\n",
       "<div class=\"features\"> <span class=\"pdp\"><a href=\"https://shebanq.ancient-data.org/hebrew/text?book=Chronica_II&amp;chapter=8&amp;verse=13&amp;version=c&amp;mr=m&amp;qw=q&amp;tp=txt_p&amp;tr=hb&amp;wget=v&amp;qget=v&amp;nget=vt\" title=\"2_Chronicles 8:13\" sec=\"2_Chronicles 8:13\">subs</a></span> <span class=\"gloss\">year</span> <span class=\"lex xft\"><span class=\"f\">lex=</span>CNH/</span></div>\n",
       "\n",
       "\n",
       "</div>\n",
       "\n",
       "\n",
       "    </div>\n",
       "\n",
       "\n",
       "</div>\n",
       "\n",
       "<div class=\"patom  r \" >\n",
       "\n",
       "    <div class=\"phrase \" >\n",
       "        <a href=\"https://shebanq.ancient-data.org/hebrew/text?book=Chronica_II&amp;chapter=8&amp;verse=13&amp;version=c&amp;mr=m&amp;qw=q&amp;tp=txt_p&amp;tr=hb&amp;wget=v&amp;qget=v&amp;nget=vt\" title=\"2_Chronicles 8:13\" sec=\"2_Chronicles 8:13\">phrase</a> <a href=\"#\" class=\"nd\">896665</a>  <span class=\"function\">Time</span> <span class=\"typ\">PP</span>\n",
       "    </div>\n",
       "    <div class=\"atoms\">\n",
       "\n",
       "<div class=\"word  \" >\n",
       "<a href=\"#\" class=\"nd\">410890</a>\n",
       "<div class=\"h\"><a target=\"_blank\" href=\"https://shebanq.ancient-data.org/hebrew/word?version=c&amp;id=1B\" title=\"show this lexeme in SHEBANQ\">בְּ</a></div>\n",
       "<div class=\"features\"> <span class=\"pdp\"><a href=\"https://shebanq.ancient-data.org/hebrew/text?book=Chronica_II&amp;chapter=8&amp;verse=13&amp;version=c&amp;mr=m&amp;qw=q&amp;tp=txt_p&amp;tr=hb&amp;wget=v&amp;qget=v&amp;nget=vt\" title=\"2_Chronicles 8:13\" sec=\"2_Chronicles 8:13\">prep</a></span> <span class=\"gloss\">in</span> <span class=\"lex xft\"><span class=\"f\">lex=</span>B</span></div>\n",
       "\n",
       "\n",
       "</div>\n",
       "\n",
       "<div class=\"word  \" >\n",
       "<a href=\"#\" class=\"nd\">410891</a>\n",
       "<div class=\"h\"><a target=\"_blank\" href=\"https://shebanq.ancient-data.org/hebrew/word?version=c&amp;id=1XGn\" title=\"show this lexeme in SHEBANQ\">חַ֧ג </a></div>\n",
       "<div class=\"features\"> <span class=\"pdp\"><a href=\"https://shebanq.ancient-data.org/hebrew/text?book=Chronica_II&amp;chapter=8&amp;verse=13&amp;version=c&amp;mr=m&amp;qw=q&amp;tp=txt_p&amp;tr=hb&amp;wget=v&amp;qget=v&amp;nget=vt\" title=\"2_Chronicles 8:13\" sec=\"2_Chronicles 8:13\">subs</a></span> <span class=\"gloss\">festival</span> <span class=\"lex xft\"><span class=\"f\">lex=</span>XG/</span></div>\n",
       "\n",
       "\n",
       "</div>\n",
       "\n",
       "<div class=\"word  \" >\n",
       "<a href=\"#\" class=\"nd\">410892</a>\n",
       "<div class=\"h\"><a target=\"_blank\" href=\"https://shebanq.ancient-data.org/hebrew/word?version=c&amp;id=1H\" title=\"show this lexeme in SHEBANQ\">הַ</a></div>\n",
       "<div class=\"features\"> <span class=\"pdp\"><a href=\"https://shebanq.ancient-data.org/hebrew/text?book=Chronica_II&amp;chapter=8&amp;verse=13&amp;version=c&amp;mr=m&amp;qw=q&amp;tp=txt_p&amp;tr=hb&amp;wget=v&amp;qget=v&amp;nget=vt\" title=\"2_Chronicles 8:13\" sec=\"2_Chronicles 8:13\">art</a></span> <span class=\"gloss\">the</span> <span class=\"lex xft\"><span class=\"f\">lex=</span>H</span></div>\n",
       "\n",
       "\n",
       "</div>\n",
       "\n",
       "<div class=\"word  \" >\n",
       "<a href=\"#\" class=\"nd\">410893</a>\n",
       "<div class=\"h\"><a target=\"_blank\" href=\"https://shebanq.ancient-data.org/hebrew/word?version=c&amp;id=1MYHn\" title=\"show this lexeme in SHEBANQ\">מַּצֹּ֛ות </a></div>\n",
       "<div class=\"features\"> <span class=\"pdp\"><a href=\"https://shebanq.ancient-data.org/hebrew/text?book=Chronica_II&amp;chapter=8&amp;verse=13&amp;version=c&amp;mr=m&amp;qw=q&amp;tp=txt_p&amp;tr=hb&amp;wget=v&amp;qget=v&amp;nget=vt\" title=\"2_Chronicles 8:13\" sec=\"2_Chronicles 8:13\">subs</a></span> <span class=\"gloss\">matzo</span> <span class=\"lex xft\"><span class=\"f\">lex=</span>MYH/</span></div>\n",
       "\n",
       "\n",
       "</div>\n",
       "\n",
       "<div class=\"word  \" >\n",
       "<a href=\"#\" class=\"nd\">410894</a>\n",
       "<div class=\"h\"><a target=\"_blank\" href=\"https://shebanq.ancient-data.org/hebrew/word?version=c&amp;id=1W\" title=\"show this lexeme in SHEBANQ\">וּ</a></div>\n",
       "<div class=\"features\"> <span class=\"pdp\"><a href=\"https://shebanq.ancient-data.org/hebrew/text?book=Chronica_II&amp;chapter=8&amp;verse=13&amp;version=c&amp;mr=m&amp;qw=q&amp;tp=txt_p&amp;tr=hb&amp;wget=v&amp;qget=v&amp;nget=vt\" title=\"2_Chronicles 8:13\" sec=\"2_Chronicles 8:13\">conj</a></span> <span class=\"gloss\">and</span> <span class=\"lex xft\"><span class=\"f\">lex=</span>W</span></div>\n",
       "\n",
       "\n",
       "</div>\n",
       "\n",
       "<div class=\"word  \" >\n",
       "<a href=\"#\" class=\"nd\">410895</a>\n",
       "<div class=\"h\"><a target=\"_blank\" href=\"https://shebanq.ancient-data.org/hebrew/word?version=c&amp;id=1B\" title=\"show this lexeme in SHEBANQ\">בְ</a></div>\n",
       "<div class=\"features\"> <span class=\"pdp\"><a href=\"https://shebanq.ancient-data.org/hebrew/text?book=Chronica_II&amp;chapter=8&amp;verse=13&amp;version=c&amp;mr=m&amp;qw=q&amp;tp=txt_p&amp;tr=hb&amp;wget=v&amp;qget=v&amp;nget=vt\" title=\"2_Chronicles 8:13\" sec=\"2_Chronicles 8:13\">prep</a></span> <span class=\"gloss\">in</span> <span class=\"lex xft\"><span class=\"f\">lex=</span>B</span></div>\n",
       "\n",
       "\n",
       "</div>\n",
       "\n",
       "<div class=\"word  \" >\n",
       "<a href=\"#\" class=\"nd\">410896</a>\n",
       "<div class=\"h\"><a target=\"_blank\" href=\"https://shebanq.ancient-data.org/hebrew/word?version=c&amp;id=1XGn\" title=\"show this lexeme in SHEBANQ\">חַ֥ג </a></div>\n",
       "<div class=\"features\"> <span class=\"pdp\"><a href=\"https://shebanq.ancient-data.org/hebrew/text?book=Chronica_II&amp;chapter=8&amp;verse=13&amp;version=c&amp;mr=m&amp;qw=q&amp;tp=txt_p&amp;tr=hb&amp;wget=v&amp;qget=v&amp;nget=vt\" title=\"2_Chronicles 8:13\" sec=\"2_Chronicles 8:13\">subs</a></span> <span class=\"gloss\">festival</span> <span class=\"lex xft\"><span class=\"f\">lex=</span>XG/</span></div>\n",
       "\n",
       "\n",
       "</div>\n",
       "\n",
       "<div class=\"word  \" >\n",
       "<a href=\"#\" class=\"nd\">410897</a>\n",
       "<div class=\"h\"><a target=\"_blank\" href=\"https://shebanq.ancient-data.org/hebrew/word?version=c&amp;id=1H\" title=\"show this lexeme in SHEBANQ\">הַ</a></div>\n",
       "<div class=\"features\"> <span class=\"pdp\"><a href=\"https://shebanq.ancient-data.org/hebrew/text?book=Chronica_II&amp;chapter=8&amp;verse=13&amp;version=c&amp;mr=m&amp;qw=q&amp;tp=txt_p&amp;tr=hb&amp;wget=v&amp;qget=v&amp;nget=vt\" title=\"2_Chronicles 8:13\" sec=\"2_Chronicles 8:13\">art</a></span> <span class=\"gloss\">the</span> <span class=\"lex xft\"><span class=\"f\">lex=</span>H</span></div>\n",
       "\n",
       "\n",
       "</div>\n",
       "\n",
       "<div class=\"word  \" >\n",
       "<a href=\"#\" class=\"nd\">410898</a>\n",
       "<div class=\"h\"><a target=\"_blank\" href=\"https://shebanq.ancient-data.org/hebrew/word?version=c&amp;id=1CBWOn\" title=\"show this lexeme in SHEBANQ\">שָּׁבֻעֹ֖ות </a></div>\n",
       "<div class=\"features\"> <span class=\"pdp\"><a href=\"https://shebanq.ancient-data.org/hebrew/text?book=Chronica_II&amp;chapter=8&amp;verse=13&amp;version=c&amp;mr=m&amp;qw=q&amp;tp=txt_p&amp;tr=hb&amp;wget=v&amp;qget=v&amp;nget=vt\" title=\"2_Chronicles 8:13\" sec=\"2_Chronicles 8:13\">subs</a></span> <span class=\"gloss\">week</span> <span class=\"lex xft\"><span class=\"f\">lex=</span>CBW&lt;/</span></div>\n",
       "\n",
       "\n",
       "</div>\n",
       "\n",
       "<div class=\"word  \" >\n",
       "<a href=\"#\" class=\"nd\">410899</a>\n",
       "<div class=\"h\"><a target=\"_blank\" href=\"https://shebanq.ancient-data.org/hebrew/word?version=c&amp;id=1W\" title=\"show this lexeme in SHEBANQ\">וּ</a></div>\n",
       "<div class=\"features\"> <span class=\"pdp\"><a href=\"https://shebanq.ancient-data.org/hebrew/text?book=Chronica_II&amp;chapter=8&amp;verse=13&amp;version=c&amp;mr=m&amp;qw=q&amp;tp=txt_p&amp;tr=hb&amp;wget=v&amp;qget=v&amp;nget=vt\" title=\"2_Chronicles 8:13\" sec=\"2_Chronicles 8:13\">conj</a></span> <span class=\"gloss\">and</span> <span class=\"lex xft\"><span class=\"f\">lex=</span>W</span></div>\n",
       "\n",
       "\n",
       "</div>\n",
       "\n",
       "<div class=\"word  \" >\n",
       "<a href=\"#\" class=\"nd\">410900</a>\n",
       "<div class=\"h\"><a target=\"_blank\" href=\"https://shebanq.ancient-data.org/hebrew/word?version=c&amp;id=1B\" title=\"show this lexeme in SHEBANQ\">בְ</a></div>\n",
       "<div class=\"features\"> <span class=\"pdp\"><a href=\"https://shebanq.ancient-data.org/hebrew/text?book=Chronica_II&amp;chapter=8&amp;verse=13&amp;version=c&amp;mr=m&amp;qw=q&amp;tp=txt_p&amp;tr=hb&amp;wget=v&amp;qget=v&amp;nget=vt\" title=\"2_Chronicles 8:13\" sec=\"2_Chronicles 8:13\">prep</a></span> <span class=\"gloss\">in</span> <span class=\"lex xft\"><span class=\"f\">lex=</span>B</span></div>\n",
       "\n",
       "\n",
       "</div>\n",
       "\n",
       "<div class=\"word  \" >\n",
       "<a href=\"#\" class=\"nd\">410901</a>\n",
       "<div class=\"h\"><a target=\"_blank\" href=\"https://shebanq.ancient-data.org/hebrew/word?version=c&amp;id=1XGn\" title=\"show this lexeme in SHEBANQ\">חַ֥ג </a></div>\n",
       "<div class=\"features\"> <span class=\"pdp\"><a href=\"https://shebanq.ancient-data.org/hebrew/text?book=Chronica_II&amp;chapter=8&amp;verse=13&amp;version=c&amp;mr=m&amp;qw=q&amp;tp=txt_p&amp;tr=hb&amp;wget=v&amp;qget=v&amp;nget=vt\" title=\"2_Chronicles 8:13\" sec=\"2_Chronicles 8:13\">subs</a></span> <span class=\"gloss\">festival</span> <span class=\"lex xft\"><span class=\"f\">lex=</span>XG/</span></div>\n",
       "\n",
       "\n",
       "</div>\n",
       "\n",
       "<div class=\"word  \" >\n",
       "<a href=\"#\" class=\"nd\">410902</a>\n",
       "<div class=\"h\"><a target=\"_blank\" href=\"https://shebanq.ancient-data.org/hebrew/word?version=c&amp;id=1H\" title=\"show this lexeme in SHEBANQ\">הַ</a></div>\n",
       "<div class=\"features\"> <span class=\"pdp\"><a href=\"https://shebanq.ancient-data.org/hebrew/text?book=Chronica_II&amp;chapter=8&amp;verse=13&amp;version=c&amp;mr=m&amp;qw=q&amp;tp=txt_p&amp;tr=hb&amp;wget=v&amp;qget=v&amp;nget=vt\" title=\"2_Chronicles 8:13\" sec=\"2_Chronicles 8:13\">art</a></span> <span class=\"gloss\">the</span> <span class=\"lex xft\"><span class=\"f\">lex=</span>H</span></div>\n",
       "\n",
       "\n",
       "</div>\n",
       "\n",
       "<div class=\"word  \" >\n",
       "<a href=\"#\" class=\"nd\">410903</a>\n",
       "<div class=\"h\"><a target=\"_blank\" href=\"https://shebanq.ancient-data.org/hebrew/word?version=c&amp;id=1SKHn\" title=\"show this lexeme in SHEBANQ\">סֻּכֹּֽות׃ </a></div>\n",
       "<div class=\"features\"> <span class=\"pdp\"><a href=\"https://shebanq.ancient-data.org/hebrew/text?book=Chronica_II&amp;chapter=8&amp;verse=13&amp;version=c&amp;mr=m&amp;qw=q&amp;tp=txt_p&amp;tr=hb&amp;wget=v&amp;qget=v&amp;nget=vt\" title=\"2_Chronicles 8:13\" sec=\"2_Chronicles 8:13\">subs</a></span> <span class=\"gloss\">cover of foliage</span> <span class=\"lex xft\"><span class=\"f\">lex=</span>SKH/</span></div>\n",
       "\n",
       "\n",
       "</div>\n",
       "\n",
       "\n",
       "    </div>\n",
       "\n",
       "\n",
       "</div>\n",
       "\n",
       "\n",
       "</div>\n"
      ],
      "text/plain": [
       "<IPython.core.display.HTML object>"
      ]
     },
     "metadata": {},
     "output_type": "display_data"
    },
    {
     "data": {
      "text/html": [
       "<div style=\"background: #96ceb4; text-align: center\">part2</div>"
      ],
      "text/plain": [
       "<IPython.core.display.HTML object>"
      ]
     },
     "metadata": {},
     "output_type": "display_data"
    },
    {
     "data": {
      "text/html": [
       "<div style=\"background: #ffeead; text-align: center\">conj</div>"
      ],
      "text/plain": [
       "<IPython.core.display.HTML object>"
      ]
     },
     "metadata": {},
     "output_type": "display_data"
    },
    {
     "data": {
      "text/html": [
       "<div style=\"background: #ffcc5c; text-align: center\">part1</div>"
      ],
      "text/plain": [
       "<IPython.core.display.HTML object>"
      ]
     },
     "metadata": {},
     "output_type": "display_data"
    },
    {
     "name": "stdout",
     "output_type": "stream",
     "text": [
      "{   '__cx__': 'coord',\n",
      "    'conj': {'__cx__': 'conj', 'head': 410881},\n",
      "    'part1': {   '__cx__': 'prep_ph',\n",
      "                 'head': {   '__cx__': 'defi_ph',\n",
      "                             'art': {'__cx__': 'art', 'head': 410879},\n",
      "                             'head': {'__cx__': 'cont', 'head': 410880}},\n",
      "                 'prep': {'__cx__': 'prep', 'head': 410878}},\n",
      "    'part2': {   '__cx__': 'prep_ph',\n",
      "                 'head': {   '__cx__': 'defi_ph',\n",
      "                             'art': {'__cx__': 'art', 'head': 410883},\n",
      "                             'head': {'__cx__': 'cont', 'head': 410884}},\n",
      "                 'prep': {'__cx__': 'prep', 'head': 410882}}}\n",
      "\n"
     ]
    },
    {
     "data": {
      "text/html": [
       "<hr>"
      ],
      "text/plain": [
       "<IPython.core.display.HTML object>"
      ]
     },
     "metadata": {},
     "output_type": "display_data"
    },
    {
     "data": {
      "text/html": [
       "<p><b>result</b> <i>1450521 -> CX coord {410890, 410891, 410892, 410893, 410894, 410895, 410896, 410897, 410898}</i></p>"
      ],
      "text/plain": [
       "<IPython.core.display.HTML object>"
      ]
     },
     "metadata": {},
     "output_type": "display_data"
    },
    {
     "data": {
      "text/html": [
       "<a href=\"https://shebanq.ancient-data.org/hebrew/text?book=Chronica_II&amp;chapter=8&amp;verse=13&amp;version=c&amp;mr=m&amp;qw=q&amp;tp=txt_p&amp;tr=hb&amp;wget=v&amp;qget=v&amp;nget=vt\" title=\"show this passage in SHEBANQ\" sec=\"2_Chronicles 8:13\">2_Chronicles 8:13</a>\n",
       "<div class=\"atoms  \" >\n",
       "<a href=\"#\" class=\"nd\">896665</a>\n",
       "\n",
       "\n",
       "\n",
       "<div class=\"patom  l \" >\n",
       "\n",
       "    <div class=\"phrase \" >\n",
       "        <a href=\"https://shebanq.ancient-data.org/hebrew/text?book=Chronica_II&amp;chapter=8&amp;verse=13&amp;version=c&amp;mr=m&amp;qw=q&amp;tp=txt_p&amp;tr=hb&amp;wget=v&amp;qget=v&amp;nget=vt\" title=\"2_Chronicles 8:13\" sec=\"2_Chronicles 8:13\">phrase</a> <a href=\"#\" class=\"nd\">896665</a>  <span class=\"function\">Time</span> <span class=\"typ\">PP</span>\n",
       "    </div>\n",
       "    <div class=\"atoms\">\n",
       "\n",
       "<div class=\"word  \" >\n",
       "<a href=\"#\" class=\"nd\">410874</a>\n",
       "<div class=\"h\"><a target=\"_blank\" href=\"https://shebanq.ancient-data.org/hebrew/word?version=c&amp;id=1L\" title=\"show this lexeme in SHEBANQ\">לַ</a></div>\n",
       "<div class=\"features\"> <span class=\"pdp\"><a href=\"https://shebanq.ancient-data.org/hebrew/text?book=Chronica_II&amp;chapter=8&amp;verse=13&amp;version=c&amp;mr=m&amp;qw=q&amp;tp=txt_p&amp;tr=hb&amp;wget=v&amp;qget=v&amp;nget=vt\" title=\"2_Chronicles 8:13\" sec=\"2_Chronicles 8:13\">prep</a></span> <span class=\"gloss\">to</span> <span class=\"lex xft\"><span class=\"f\">lex=</span>L</span></div>\n",
       "\n",
       "\n",
       "</div>\n",
       "\n",
       "<div class=\"word  \" >\n",
       "<a href=\"#\" class=\"nd\">410875</a>\n",
       "<div class=\"h\"><a target=\"_blank\" href=\"https://shebanq.ancient-data.org/hebrew/word?version=c&amp;id=1H\" title=\"show this lexeme in SHEBANQ\"></a></div>\n",
       "<div class=\"features\"> <span class=\"pdp\"><a href=\"https://shebanq.ancient-data.org/hebrew/text?book=Chronica_II&amp;chapter=8&amp;verse=13&amp;version=c&amp;mr=m&amp;qw=q&amp;tp=txt_p&amp;tr=hb&amp;wget=v&amp;qget=v&amp;nget=vt\" title=\"2_Chronicles 8:13\" sec=\"2_Chronicles 8:13\">art</a></span> <span class=\"gloss\">the</span> <span class=\"lex xft\"><span class=\"f\">lex=</span>H</span></div>\n",
       "\n",
       "\n",
       "</div>\n",
       "\n",
       "<div class=\"word  \" >\n",
       "<a href=\"#\" class=\"nd\">410876</a>\n",
       "<div class=\"h\"><a target=\"_blank\" href=\"https://shebanq.ancient-data.org/hebrew/word?version=c&amp;id=1CBTn\" title=\"show this lexeme in SHEBANQ\">שַּׁבָּתֹות֙ </a></div>\n",
       "<div class=\"features\"> <span class=\"pdp\"><a href=\"https://shebanq.ancient-data.org/hebrew/text?book=Chronica_II&amp;chapter=8&amp;verse=13&amp;version=c&amp;mr=m&amp;qw=q&amp;tp=txt_p&amp;tr=hb&amp;wget=v&amp;qget=v&amp;nget=vt\" title=\"2_Chronicles 8:13\" sec=\"2_Chronicles 8:13\">subs</a></span> <span class=\"gloss\">sabbath</span> <span class=\"lex xft\"><span class=\"f\">lex=</span>CBT/</span></div>\n",
       "\n",
       "\n",
       "</div>\n",
       "\n",
       "<div class=\"word  \" >\n",
       "<a href=\"#\" class=\"nd\">410877</a>\n",
       "<div class=\"h\"><a target=\"_blank\" href=\"https://shebanq.ancient-data.org/hebrew/word?version=c&amp;id=1W\" title=\"show this lexeme in SHEBANQ\">וְ</a></div>\n",
       "<div class=\"features\"> <span class=\"pdp\"><a href=\"https://shebanq.ancient-data.org/hebrew/text?book=Chronica_II&amp;chapter=8&amp;verse=13&amp;version=c&amp;mr=m&amp;qw=q&amp;tp=txt_p&amp;tr=hb&amp;wget=v&amp;qget=v&amp;nget=vt\" title=\"2_Chronicles 8:13\" sec=\"2_Chronicles 8:13\">conj</a></span> <span class=\"gloss\">and</span> <span class=\"lex xft\"><span class=\"f\">lex=</span>W</span></div>\n",
       "\n",
       "\n",
       "</div>\n",
       "\n",
       "<div class=\"word  \" >\n",
       "<a href=\"#\" class=\"nd\">410878</a>\n",
       "<div class=\"h\"><a target=\"_blank\" href=\"https://shebanq.ancient-data.org/hebrew/word?version=c&amp;id=1L\" title=\"show this lexeme in SHEBANQ\">לֶ֣</a></div>\n",
       "<div class=\"features\"> <span class=\"pdp\"><a href=\"https://shebanq.ancient-data.org/hebrew/text?book=Chronica_II&amp;chapter=8&amp;verse=13&amp;version=c&amp;mr=m&amp;qw=q&amp;tp=txt_p&amp;tr=hb&amp;wget=v&amp;qget=v&amp;nget=vt\" title=\"2_Chronicles 8:13\" sec=\"2_Chronicles 8:13\">prep</a></span> <span class=\"gloss\">to</span> <span class=\"lex xft\"><span class=\"f\">lex=</span>L</span></div>\n",
       "\n",
       "\n",
       "</div>\n",
       "\n",
       "<div class=\"word  \" >\n",
       "<a href=\"#\" class=\"nd\">410879</a>\n",
       "<div class=\"h\"><a target=\"_blank\" href=\"https://shebanq.ancient-data.org/hebrew/word?version=c&amp;id=1H\" title=\"show this lexeme in SHEBANQ\"></a></div>\n",
       "<div class=\"features\"> <span class=\"pdp\"><a href=\"https://shebanq.ancient-data.org/hebrew/text?book=Chronica_II&amp;chapter=8&amp;verse=13&amp;version=c&amp;mr=m&amp;qw=q&amp;tp=txt_p&amp;tr=hb&amp;wget=v&amp;qget=v&amp;nget=vt\" title=\"2_Chronicles 8:13\" sec=\"2_Chronicles 8:13\">art</a></span> <span class=\"gloss\">the</span> <span class=\"lex xft\"><span class=\"f\">lex=</span>H</span></div>\n",
       "\n",
       "\n",
       "</div>\n",
       "\n",
       "<div class=\"word  \" >\n",
       "<a href=\"#\" class=\"nd\">410880</a>\n",
       "<div class=\"h\"><a target=\"_blank\" href=\"https://shebanq.ancient-data.org/hebrew/word?version=c&amp;id=1XDCin\" title=\"show this lexeme in SHEBANQ\">חֳדָשִׁ֔ים </a></div>\n",
       "<div class=\"features\"> <span class=\"pdp\"><a href=\"https://shebanq.ancient-data.org/hebrew/text?book=Chronica_II&amp;chapter=8&amp;verse=13&amp;version=c&amp;mr=m&amp;qw=q&amp;tp=txt_p&amp;tr=hb&amp;wget=v&amp;qget=v&amp;nget=vt\" title=\"2_Chronicles 8:13\" sec=\"2_Chronicles 8:13\">subs</a></span> <span class=\"gloss\">month</span> <span class=\"lex xft\"><span class=\"f\">lex=</span>XDC=/</span></div>\n",
       "\n",
       "\n",
       "</div>\n",
       "\n",
       "<div class=\"word  \" >\n",
       "<a href=\"#\" class=\"nd\">410881</a>\n",
       "<div class=\"h\"><a target=\"_blank\" href=\"https://shebanq.ancient-data.org/hebrew/word?version=c&amp;id=1W\" title=\"show this lexeme in SHEBANQ\">וְ</a></div>\n",
       "<div class=\"features\"> <span class=\"pdp\"><a href=\"https://shebanq.ancient-data.org/hebrew/text?book=Chronica_II&amp;chapter=8&amp;verse=13&amp;version=c&amp;mr=m&amp;qw=q&amp;tp=txt_p&amp;tr=hb&amp;wget=v&amp;qget=v&amp;nget=vt\" title=\"2_Chronicles 8:13\" sec=\"2_Chronicles 8:13\">conj</a></span> <span class=\"gloss\">and</span> <span class=\"lex xft\"><span class=\"f\">lex=</span>W</span></div>\n",
       "\n",
       "\n",
       "</div>\n",
       "\n",
       "<div class=\"word  \" >\n",
       "<a href=\"#\" class=\"nd\">410882</a>\n",
       "<div class=\"h\"><a target=\"_blank\" href=\"https://shebanq.ancient-data.org/hebrew/word?version=c&amp;id=1L\" title=\"show this lexeme in SHEBANQ\">לַ</a></div>\n",
       "<div class=\"features\"> <span class=\"pdp\"><a href=\"https://shebanq.ancient-data.org/hebrew/text?book=Chronica_II&amp;chapter=8&amp;verse=13&amp;version=c&amp;mr=m&amp;qw=q&amp;tp=txt_p&amp;tr=hb&amp;wget=v&amp;qget=v&amp;nget=vt\" title=\"2_Chronicles 8:13\" sec=\"2_Chronicles 8:13\">prep</a></span> <span class=\"gloss\">to</span> <span class=\"lex xft\"><span class=\"f\">lex=</span>L</span></div>\n",
       "\n",
       "\n",
       "</div>\n",
       "\n",
       "<div class=\"word  \" >\n",
       "<a href=\"#\" class=\"nd\">410883</a>\n",
       "<div class=\"h\"><a target=\"_blank\" href=\"https://shebanq.ancient-data.org/hebrew/word?version=c&amp;id=1H\" title=\"show this lexeme in SHEBANQ\"></a></div>\n",
       "<div class=\"features\"> <span class=\"pdp\"><a href=\"https://shebanq.ancient-data.org/hebrew/text?book=Chronica_II&amp;chapter=8&amp;verse=13&amp;version=c&amp;mr=m&amp;qw=q&amp;tp=txt_p&amp;tr=hb&amp;wget=v&amp;qget=v&amp;nget=vt\" title=\"2_Chronicles 8:13\" sec=\"2_Chronicles 8:13\">art</a></span> <span class=\"gloss\">the</span> <span class=\"lex xft\"><span class=\"f\">lex=</span>H</span></div>\n",
       "\n",
       "\n",
       "</div>\n",
       "\n",
       "<div class=\"word  \" >\n",
       "<a href=\"#\" class=\"nd\">410884</a>\n",
       "<div class=\"h\"><a target=\"_blank\" href=\"https://shebanq.ancient-data.org/hebrew/word?version=c&amp;id=1MWODn\" title=\"show this lexeme in SHEBANQ\">מֹּ֣ועֲדֹ֔ות </a></div>\n",
       "<div class=\"features\"> <span class=\"pdp\"><a href=\"https://shebanq.ancient-data.org/hebrew/text?book=Chronica_II&amp;chapter=8&amp;verse=13&amp;version=c&amp;mr=m&amp;qw=q&amp;tp=txt_p&amp;tr=hb&amp;wget=v&amp;qget=v&amp;nget=vt\" title=\"2_Chronicles 8:13\" sec=\"2_Chronicles 8:13\">subs</a></span> <span class=\"gloss\">appointment</span> <span class=\"lex xft\"><span class=\"f\">lex=</span>MW&lt;D/</span></div>\n",
       "\n",
       "\n",
       "</div>\n",
       "\n",
       "\n",
       "    </div>\n",
       "\n",
       "\n",
       "</div>\n",
       "\n",
       "<div class=\"patom  r l \" >\n",
       "\n",
       "    <div class=\"phrase \" >\n",
       "        <a href=\"https://shebanq.ancient-data.org/hebrew/text?book=Chronica_II&amp;chapter=8&amp;verse=13&amp;version=c&amp;mr=m&amp;qw=q&amp;tp=txt_p&amp;tr=hb&amp;wget=v&amp;qget=v&amp;nget=vt\" title=\"2_Chronicles 8:13\" sec=\"2_Chronicles 8:13\">phrase</a> <a href=\"#\" class=\"nd\">896665</a>  <span class=\"function\">Time</span> <span class=\"typ\">PP|NP</span>\n",
       "    </div>\n",
       "    <div class=\"atoms\">\n",
       "\n",
       "<div class=\"word  \" >\n",
       "<a href=\"#\" class=\"nd\">410885</a>\n",
       "<div class=\"h\"><a target=\"_blank\" href=\"https://shebanq.ancient-data.org/hebrew/word?version=c&amp;id=1CLCn\" title=\"show this lexeme in SHEBANQ\">שָׁלֹ֥ושׁ </a></div>\n",
       "<div class=\"features\"> <span class=\"pdp\"><a href=\"https://shebanq.ancient-data.org/hebrew/text?book=Chronica_II&amp;chapter=8&amp;verse=13&amp;version=c&amp;mr=m&amp;qw=q&amp;tp=txt_p&amp;tr=hb&amp;wget=v&amp;qget=v&amp;nget=vt\" title=\"2_Chronicles 8:13\" sec=\"2_Chronicles 8:13\">subs</a></span> <span class=\"gloss\">three</span> <span class=\"lex xft\"><span class=\"f\">lex=</span>CLC/</span></div>\n",
       "\n",
       "\n",
       "</div>\n",
       "\n",
       "<div class=\"word  \" >\n",
       "<a href=\"#\" class=\"nd\">410886</a>\n",
       "<div class=\"h\"><a target=\"_blank\" href=\"https://shebanq.ancient-data.org/hebrew/word?version=c&amp;id=1POMn\" title=\"show this lexeme in SHEBANQ\">פְּעָמִ֖ים </a></div>\n",
       "<div class=\"features\"> <span class=\"pdp\"><a href=\"https://shebanq.ancient-data.org/hebrew/text?book=Chronica_II&amp;chapter=8&amp;verse=13&amp;version=c&amp;mr=m&amp;qw=q&amp;tp=txt_p&amp;tr=hb&amp;wget=v&amp;qget=v&amp;nget=vt\" title=\"2_Chronicles 8:13\" sec=\"2_Chronicles 8:13\">subs</a></span> <span class=\"gloss\">foot</span> <span class=\"lex xft\"><span class=\"f\">lex=</span>P&lt;M/</span></div>\n",
       "\n",
       "\n",
       "</div>\n",
       "\n",
       "\n",
       "    </div>\n",
       "\n",
       "\n",
       "</div>\n",
       "\n",
       "<div class=\"patom  r l \" >\n",
       "\n",
       "    <div class=\"phrase \" >\n",
       "        <a href=\"https://shebanq.ancient-data.org/hebrew/text?book=Chronica_II&amp;chapter=8&amp;verse=13&amp;version=c&amp;mr=m&amp;qw=q&amp;tp=txt_p&amp;tr=hb&amp;wget=v&amp;qget=v&amp;nget=vt\" title=\"2_Chronicles 8:13\" sec=\"2_Chronicles 8:13\">phrase</a> <a href=\"#\" class=\"nd\">896665</a>  <span class=\"function\">Time</span> <span class=\"typ\">PP</span>\n",
       "    </div>\n",
       "    <div class=\"atoms\">\n",
       "\n",
       "<div class=\"word  \" >\n",
       "<a href=\"#\" class=\"nd\">410887</a>\n",
       "<div class=\"h\"><a target=\"_blank\" href=\"https://shebanq.ancient-data.org/hebrew/word?version=c&amp;id=1B\" title=\"show this lexeme in SHEBANQ\">בַּ</a></div>\n",
       "<div class=\"features\"> <span class=\"pdp\"><a href=\"https://shebanq.ancient-data.org/hebrew/text?book=Chronica_II&amp;chapter=8&amp;verse=13&amp;version=c&amp;mr=m&amp;qw=q&amp;tp=txt_p&amp;tr=hb&amp;wget=v&amp;qget=v&amp;nget=vt\" title=\"2_Chronicles 8:13\" sec=\"2_Chronicles 8:13\">prep</a></span> <span class=\"gloss\">in</span> <span class=\"lex xft\"><span class=\"f\">lex=</span>B</span></div>\n",
       "\n",
       "\n",
       "</div>\n",
       "\n",
       "<div class=\"word  \" >\n",
       "<a href=\"#\" class=\"nd\">410888</a>\n",
       "<div class=\"h\"><a target=\"_blank\" href=\"https://shebanq.ancient-data.org/hebrew/word?version=c&amp;id=1H\" title=\"show this lexeme in SHEBANQ\"></a></div>\n",
       "<div class=\"features\"> <span class=\"pdp\"><a href=\"https://shebanq.ancient-data.org/hebrew/text?book=Chronica_II&amp;chapter=8&amp;verse=13&amp;version=c&amp;mr=m&amp;qw=q&amp;tp=txt_p&amp;tr=hb&amp;wget=v&amp;qget=v&amp;nget=vt\" title=\"2_Chronicles 8:13\" sec=\"2_Chronicles 8:13\">art</a></span> <span class=\"gloss\">the</span> <span class=\"lex xft\"><span class=\"f\">lex=</span>H</span></div>\n",
       "\n",
       "\n",
       "</div>\n",
       "\n",
       "<div class=\"word  \" >\n",
       "<a href=\"#\" class=\"nd\">410889</a>\n",
       "<div class=\"h\"><a target=\"_blank\" href=\"https://shebanq.ancient-data.org/hebrew/word?version=c&amp;id=1CNHn\" title=\"show this lexeme in SHEBANQ\">שָּׁנָ֑ה </a></div>\n",
       "<div class=\"features\"> <span class=\"pdp\"><a href=\"https://shebanq.ancient-data.org/hebrew/text?book=Chronica_II&amp;chapter=8&amp;verse=13&amp;version=c&amp;mr=m&amp;qw=q&amp;tp=txt_p&amp;tr=hb&amp;wget=v&amp;qget=v&amp;nget=vt\" title=\"2_Chronicles 8:13\" sec=\"2_Chronicles 8:13\">subs</a></span> <span class=\"gloss\">year</span> <span class=\"lex xft\"><span class=\"f\">lex=</span>CNH/</span></div>\n",
       "\n",
       "\n",
       "</div>\n",
       "\n",
       "\n",
       "    </div>\n",
       "\n",
       "\n",
       "</div>\n",
       "\n",
       "<div class=\"patom  r \" >\n",
       "\n",
       "    <div class=\"phrase \" >\n",
       "        <a href=\"https://shebanq.ancient-data.org/hebrew/text?book=Chronica_II&amp;chapter=8&amp;verse=13&amp;version=c&amp;mr=m&amp;qw=q&amp;tp=txt_p&amp;tr=hb&amp;wget=v&amp;qget=v&amp;nget=vt\" title=\"2_Chronicles 8:13\" sec=\"2_Chronicles 8:13\">phrase</a> <a href=\"#\" class=\"nd\">896665</a>  <span class=\"function\">Time</span> <span class=\"typ\">PP</span>\n",
       "    </div>\n",
       "    <div class=\"atoms\">\n",
       "\n",
       "<div class=\"word  hl\"  style=\"background-color: #ffcc5c;\" >\n",
       "<a href=\"#\" class=\"nd\">410890</a>\n",
       "<div class=\"h\"><a target=\"_blank\" href=\"https://shebanq.ancient-data.org/hebrew/word?version=c&amp;id=1B\" title=\"show this lexeme in SHEBANQ\">בְּ</a></div>\n",
       "<div class=\"features\"> <span class=\"pdp\"><a href=\"https://shebanq.ancient-data.org/hebrew/text?book=Chronica_II&amp;chapter=8&amp;verse=13&amp;version=c&amp;mr=m&amp;qw=q&amp;tp=txt_p&amp;tr=hb&amp;wget=v&amp;qget=v&amp;nget=vt\" title=\"2_Chronicles 8:13\" sec=\"2_Chronicles 8:13\">prep</a></span> <span class=\"gloss\">in</span> <span class=\"lex xft\"><span class=\"f\">lex=</span>B</span></div>\n",
       "\n",
       "\n",
       "</div>\n",
       "\n",
       "<div class=\"word  hl\"  style=\"background-color: #ffcc5c;\" >\n",
       "<a href=\"#\" class=\"nd\">410891</a>\n",
       "<div class=\"h\"><a target=\"_blank\" href=\"https://shebanq.ancient-data.org/hebrew/word?version=c&amp;id=1XGn\" title=\"show this lexeme in SHEBANQ\">חַ֧ג </a></div>\n",
       "<div class=\"features\"> <span class=\"pdp\"><a href=\"https://shebanq.ancient-data.org/hebrew/text?book=Chronica_II&amp;chapter=8&amp;verse=13&amp;version=c&amp;mr=m&amp;qw=q&amp;tp=txt_p&amp;tr=hb&amp;wget=v&amp;qget=v&amp;nget=vt\" title=\"2_Chronicles 8:13\" sec=\"2_Chronicles 8:13\">subs</a></span> <span class=\"gloss\">festival</span> <span class=\"lex xft\"><span class=\"f\">lex=</span>XG/</span></div>\n",
       "\n",
       "\n",
       "</div>\n",
       "\n",
       "<div class=\"word  hl\"  style=\"background-color: #ffcc5c;\" >\n",
       "<a href=\"#\" class=\"nd\">410892</a>\n",
       "<div class=\"h\"><a target=\"_blank\" href=\"https://shebanq.ancient-data.org/hebrew/word?version=c&amp;id=1H\" title=\"show this lexeme in SHEBANQ\">הַ</a></div>\n",
       "<div class=\"features\"> <span class=\"pdp\"><a href=\"https://shebanq.ancient-data.org/hebrew/text?book=Chronica_II&amp;chapter=8&amp;verse=13&amp;version=c&amp;mr=m&amp;qw=q&amp;tp=txt_p&amp;tr=hb&amp;wget=v&amp;qget=v&amp;nget=vt\" title=\"2_Chronicles 8:13\" sec=\"2_Chronicles 8:13\">art</a></span> <span class=\"gloss\">the</span> <span class=\"lex xft\"><span class=\"f\">lex=</span>H</span></div>\n",
       "\n",
       "\n",
       "</div>\n",
       "\n",
       "<div class=\"word  hl\"  style=\"background-color: #ffcc5c;\" >\n",
       "<a href=\"#\" class=\"nd\">410893</a>\n",
       "<div class=\"h\"><a target=\"_blank\" href=\"https://shebanq.ancient-data.org/hebrew/word?version=c&amp;id=1MYHn\" title=\"show this lexeme in SHEBANQ\">מַּצֹּ֛ות </a></div>\n",
       "<div class=\"features\"> <span class=\"pdp\"><a href=\"https://shebanq.ancient-data.org/hebrew/text?book=Chronica_II&amp;chapter=8&amp;verse=13&amp;version=c&amp;mr=m&amp;qw=q&amp;tp=txt_p&amp;tr=hb&amp;wget=v&amp;qget=v&amp;nget=vt\" title=\"2_Chronicles 8:13\" sec=\"2_Chronicles 8:13\">subs</a></span> <span class=\"gloss\">matzo</span> <span class=\"lex xft\"><span class=\"f\">lex=</span>MYH/</span></div>\n",
       "\n",
       "\n",
       "</div>\n",
       "\n",
       "<div class=\"word  hl\"  style=\"background-color: #ffeead;\" >\n",
       "<a href=\"#\" class=\"nd\">410894</a>\n",
       "<div class=\"h\"><a target=\"_blank\" href=\"https://shebanq.ancient-data.org/hebrew/word?version=c&amp;id=1W\" title=\"show this lexeme in SHEBANQ\">וּ</a></div>\n",
       "<div class=\"features\"> <span class=\"pdp\"><a href=\"https://shebanq.ancient-data.org/hebrew/text?book=Chronica_II&amp;chapter=8&amp;verse=13&amp;version=c&amp;mr=m&amp;qw=q&amp;tp=txt_p&amp;tr=hb&amp;wget=v&amp;qget=v&amp;nget=vt\" title=\"2_Chronicles 8:13\" sec=\"2_Chronicles 8:13\">conj</a></span> <span class=\"gloss\">and</span> <span class=\"lex xft\"><span class=\"f\">lex=</span>W</span></div>\n",
       "\n",
       "\n",
       "</div>\n",
       "\n",
       "<div class=\"word  hl\"  style=\"background-color: #96ceb4;\" >\n",
       "<a href=\"#\" class=\"nd\">410895</a>\n",
       "<div class=\"h\"><a target=\"_blank\" href=\"https://shebanq.ancient-data.org/hebrew/word?version=c&amp;id=1B\" title=\"show this lexeme in SHEBANQ\">בְ</a></div>\n",
       "<div class=\"features\"> <span class=\"pdp\"><a href=\"https://shebanq.ancient-data.org/hebrew/text?book=Chronica_II&amp;chapter=8&amp;verse=13&amp;version=c&amp;mr=m&amp;qw=q&amp;tp=txt_p&amp;tr=hb&amp;wget=v&amp;qget=v&amp;nget=vt\" title=\"2_Chronicles 8:13\" sec=\"2_Chronicles 8:13\">prep</a></span> <span class=\"gloss\">in</span> <span class=\"lex xft\"><span class=\"f\">lex=</span>B</span></div>\n",
       "\n",
       "\n",
       "</div>\n",
       "\n",
       "<div class=\"word  hl\"  style=\"background-color: #96ceb4;\" >\n",
       "<a href=\"#\" class=\"nd\">410896</a>\n",
       "<div class=\"h\"><a target=\"_blank\" href=\"https://shebanq.ancient-data.org/hebrew/word?version=c&amp;id=1XGn\" title=\"show this lexeme in SHEBANQ\">חַ֥ג </a></div>\n",
       "<div class=\"features\"> <span class=\"pdp\"><a href=\"https://shebanq.ancient-data.org/hebrew/text?book=Chronica_II&amp;chapter=8&amp;verse=13&amp;version=c&amp;mr=m&amp;qw=q&amp;tp=txt_p&amp;tr=hb&amp;wget=v&amp;qget=v&amp;nget=vt\" title=\"2_Chronicles 8:13\" sec=\"2_Chronicles 8:13\">subs</a></span> <span class=\"gloss\">festival</span> <span class=\"lex xft\"><span class=\"f\">lex=</span>XG/</span></div>\n",
       "\n",
       "\n",
       "</div>\n",
       "\n",
       "<div class=\"word  hl\"  style=\"background-color: #96ceb4;\" >\n",
       "<a href=\"#\" class=\"nd\">410897</a>\n",
       "<div class=\"h\"><a target=\"_blank\" href=\"https://shebanq.ancient-data.org/hebrew/word?version=c&amp;id=1H\" title=\"show this lexeme in SHEBANQ\">הַ</a></div>\n",
       "<div class=\"features\"> <span class=\"pdp\"><a href=\"https://shebanq.ancient-data.org/hebrew/text?book=Chronica_II&amp;chapter=8&amp;verse=13&amp;version=c&amp;mr=m&amp;qw=q&amp;tp=txt_p&amp;tr=hb&amp;wget=v&amp;qget=v&amp;nget=vt\" title=\"2_Chronicles 8:13\" sec=\"2_Chronicles 8:13\">art</a></span> <span class=\"gloss\">the</span> <span class=\"lex xft\"><span class=\"f\">lex=</span>H</span></div>\n",
       "\n",
       "\n",
       "</div>\n",
       "\n",
       "<div class=\"word  hl\"  style=\"background-color: #96ceb4;\" >\n",
       "<a href=\"#\" class=\"nd\">410898</a>\n",
       "<div class=\"h\"><a target=\"_blank\" href=\"https://shebanq.ancient-data.org/hebrew/word?version=c&amp;id=1CBWOn\" title=\"show this lexeme in SHEBANQ\">שָּׁבֻעֹ֖ות </a></div>\n",
       "<div class=\"features\"> <span class=\"pdp\"><a href=\"https://shebanq.ancient-data.org/hebrew/text?book=Chronica_II&amp;chapter=8&amp;verse=13&amp;version=c&amp;mr=m&amp;qw=q&amp;tp=txt_p&amp;tr=hb&amp;wget=v&amp;qget=v&amp;nget=vt\" title=\"2_Chronicles 8:13\" sec=\"2_Chronicles 8:13\">subs</a></span> <span class=\"gloss\">week</span> <span class=\"lex xft\"><span class=\"f\">lex=</span>CBW&lt;/</span></div>\n",
       "\n",
       "\n",
       "</div>\n",
       "\n",
       "<div class=\"word  \" >\n",
       "<a href=\"#\" class=\"nd\">410899</a>\n",
       "<div class=\"h\"><a target=\"_blank\" href=\"https://shebanq.ancient-data.org/hebrew/word?version=c&amp;id=1W\" title=\"show this lexeme in SHEBANQ\">וּ</a></div>\n",
       "<div class=\"features\"> <span class=\"pdp\"><a href=\"https://shebanq.ancient-data.org/hebrew/text?book=Chronica_II&amp;chapter=8&amp;verse=13&amp;version=c&amp;mr=m&amp;qw=q&amp;tp=txt_p&amp;tr=hb&amp;wget=v&amp;qget=v&amp;nget=vt\" title=\"2_Chronicles 8:13\" sec=\"2_Chronicles 8:13\">conj</a></span> <span class=\"gloss\">and</span> <span class=\"lex xft\"><span class=\"f\">lex=</span>W</span></div>\n",
       "\n",
       "\n",
       "</div>\n",
       "\n",
       "<div class=\"word  \" >\n",
       "<a href=\"#\" class=\"nd\">410900</a>\n",
       "<div class=\"h\"><a target=\"_blank\" href=\"https://shebanq.ancient-data.org/hebrew/word?version=c&amp;id=1B\" title=\"show this lexeme in SHEBANQ\">בְ</a></div>\n",
       "<div class=\"features\"> <span class=\"pdp\"><a href=\"https://shebanq.ancient-data.org/hebrew/text?book=Chronica_II&amp;chapter=8&amp;verse=13&amp;version=c&amp;mr=m&amp;qw=q&amp;tp=txt_p&amp;tr=hb&amp;wget=v&amp;qget=v&amp;nget=vt\" title=\"2_Chronicles 8:13\" sec=\"2_Chronicles 8:13\">prep</a></span> <span class=\"gloss\">in</span> <span class=\"lex xft\"><span class=\"f\">lex=</span>B</span></div>\n",
       "\n",
       "\n",
       "</div>\n",
       "\n",
       "<div class=\"word  \" >\n",
       "<a href=\"#\" class=\"nd\">410901</a>\n",
       "<div class=\"h\"><a target=\"_blank\" href=\"https://shebanq.ancient-data.org/hebrew/word?version=c&amp;id=1XGn\" title=\"show this lexeme in SHEBANQ\">חַ֥ג </a></div>\n",
       "<div class=\"features\"> <span class=\"pdp\"><a href=\"https://shebanq.ancient-data.org/hebrew/text?book=Chronica_II&amp;chapter=8&amp;verse=13&amp;version=c&amp;mr=m&amp;qw=q&amp;tp=txt_p&amp;tr=hb&amp;wget=v&amp;qget=v&amp;nget=vt\" title=\"2_Chronicles 8:13\" sec=\"2_Chronicles 8:13\">subs</a></span> <span class=\"gloss\">festival</span> <span class=\"lex xft\"><span class=\"f\">lex=</span>XG/</span></div>\n",
       "\n",
       "\n",
       "</div>\n",
       "\n",
       "<div class=\"word  \" >\n",
       "<a href=\"#\" class=\"nd\">410902</a>\n",
       "<div class=\"h\"><a target=\"_blank\" href=\"https://shebanq.ancient-data.org/hebrew/word?version=c&amp;id=1H\" title=\"show this lexeme in SHEBANQ\">הַ</a></div>\n",
       "<div class=\"features\"> <span class=\"pdp\"><a href=\"https://shebanq.ancient-data.org/hebrew/text?book=Chronica_II&amp;chapter=8&amp;verse=13&amp;version=c&amp;mr=m&amp;qw=q&amp;tp=txt_p&amp;tr=hb&amp;wget=v&amp;qget=v&amp;nget=vt\" title=\"2_Chronicles 8:13\" sec=\"2_Chronicles 8:13\">art</a></span> <span class=\"gloss\">the</span> <span class=\"lex xft\"><span class=\"f\">lex=</span>H</span></div>\n",
       "\n",
       "\n",
       "</div>\n",
       "\n",
       "<div class=\"word  \" >\n",
       "<a href=\"#\" class=\"nd\">410903</a>\n",
       "<div class=\"h\"><a target=\"_blank\" href=\"https://shebanq.ancient-data.org/hebrew/word?version=c&amp;id=1SKHn\" title=\"show this lexeme in SHEBANQ\">סֻּכֹּֽות׃ </a></div>\n",
       "<div class=\"features\"> <span class=\"pdp\"><a href=\"https://shebanq.ancient-data.org/hebrew/text?book=Chronica_II&amp;chapter=8&amp;verse=13&amp;version=c&amp;mr=m&amp;qw=q&amp;tp=txt_p&amp;tr=hb&amp;wget=v&amp;qget=v&amp;nget=vt\" title=\"2_Chronicles 8:13\" sec=\"2_Chronicles 8:13\">subs</a></span> <span class=\"gloss\">cover of foliage</span> <span class=\"lex xft\"><span class=\"f\">lex=</span>SKH/</span></div>\n",
       "\n",
       "\n",
       "</div>\n",
       "\n",
       "\n",
       "    </div>\n",
       "\n",
       "\n",
       "</div>\n",
       "\n",
       "\n",
       "</div>\n"
      ],
      "text/plain": [
       "<IPython.core.display.HTML object>"
      ]
     },
     "metadata": {},
     "output_type": "display_data"
    },
    {
     "data": {
      "text/html": [
       "<div style=\"background: #96ceb4; text-align: center\">part2</div>"
      ],
      "text/plain": [
       "<IPython.core.display.HTML object>"
      ]
     },
     "metadata": {},
     "output_type": "display_data"
    },
    {
     "data": {
      "text/html": [
       "<div style=\"background: #ffeead; text-align: center\">conj</div>"
      ],
      "text/plain": [
       "<IPython.core.display.HTML object>"
      ]
     },
     "metadata": {},
     "output_type": "display_data"
    },
    {
     "data": {
      "text/html": [
       "<div style=\"background: #ffcc5c; text-align: center\">part1</div>"
      ],
      "text/plain": [
       "<IPython.core.display.HTML object>"
      ]
     },
     "metadata": {},
     "output_type": "display_data"
    },
    {
     "name": "stdout",
     "output_type": "stream",
     "text": [
      "{   '__cx__': 'coord',\n",
      "    'conj': {'__cx__': 'conj', 'head': 410894},\n",
      "    'part1': {   '__cx__': 'prep_ph',\n",
      "                 'head': {   '__cx__': 'geni_ph',\n",
      "                             'geni': {   '__cx__': 'defi_ph',\n",
      "                                         'art': {   '__cx__': 'art',\n",
      "                                                    'head': 410892},\n",
      "                                         'head': {   '__cx__': 'cont',\n",
      "                                                     'head': 410893}},\n",
      "                             'head': {'__cx__': 'cont', 'head': 410891}},\n",
      "                 'prep': {'__cx__': 'prep', 'head': 410890}},\n",
      "    'part2': {   '__cx__': 'prep_ph',\n",
      "                 'head': {   '__cx__': 'geni_ph',\n",
      "                             'geni': {   '__cx__': 'defi_ph',\n",
      "                                         'art': {   '__cx__': 'art',\n",
      "                                                    'head': 410897},\n",
      "                                         'head': {   '__cx__': 'cont',\n",
      "                                                     'head': 410898}},\n",
      "                             'head': {'__cx__': 'cont', 'head': 410896}},\n",
      "                 'prep': {'__cx__': 'prep', 'head': 410895}}}\n",
      "\n"
     ]
    },
    {
     "data": {
      "text/html": [
       "<hr>"
      ],
      "text/plain": [
       "<IPython.core.display.HTML object>"
      ]
     },
     "metadata": {},
     "output_type": "display_data"
    },
    {
     "data": {
      "text/html": [
       "<p><b>result</b> <i>1450521 -> CX coord {410895, 410896, 410897, 410898, 410899, 410900, 410901, 410902, 410903}</i></p>"
      ],
      "text/plain": [
       "<IPython.core.display.HTML object>"
      ]
     },
     "metadata": {},
     "output_type": "display_data"
    },
    {
     "data": {
      "text/html": [
       "<a href=\"https://shebanq.ancient-data.org/hebrew/text?book=Chronica_II&amp;chapter=8&amp;verse=13&amp;version=c&amp;mr=m&amp;qw=q&amp;tp=txt_p&amp;tr=hb&amp;wget=v&amp;qget=v&amp;nget=vt\" title=\"show this passage in SHEBANQ\" sec=\"2_Chronicles 8:13\">2_Chronicles 8:13</a>\n",
       "<div class=\"atoms  \" >\n",
       "<a href=\"#\" class=\"nd\">896665</a>\n",
       "\n",
       "\n",
       "\n",
       "<div class=\"patom  l \" >\n",
       "\n",
       "    <div class=\"phrase \" >\n",
       "        <a href=\"https://shebanq.ancient-data.org/hebrew/text?book=Chronica_II&amp;chapter=8&amp;verse=13&amp;version=c&amp;mr=m&amp;qw=q&amp;tp=txt_p&amp;tr=hb&amp;wget=v&amp;qget=v&amp;nget=vt\" title=\"2_Chronicles 8:13\" sec=\"2_Chronicles 8:13\">phrase</a> <a href=\"#\" class=\"nd\">896665</a>  <span class=\"function\">Time</span> <span class=\"typ\">PP</span>\n",
       "    </div>\n",
       "    <div class=\"atoms\">\n",
       "\n",
       "<div class=\"word  \" >\n",
       "<a href=\"#\" class=\"nd\">410874</a>\n",
       "<div class=\"h\"><a target=\"_blank\" href=\"https://shebanq.ancient-data.org/hebrew/word?version=c&amp;id=1L\" title=\"show this lexeme in SHEBANQ\">לַ</a></div>\n",
       "<div class=\"features\"> <span class=\"pdp\"><a href=\"https://shebanq.ancient-data.org/hebrew/text?book=Chronica_II&amp;chapter=8&amp;verse=13&amp;version=c&amp;mr=m&amp;qw=q&amp;tp=txt_p&amp;tr=hb&amp;wget=v&amp;qget=v&amp;nget=vt\" title=\"2_Chronicles 8:13\" sec=\"2_Chronicles 8:13\">prep</a></span> <span class=\"gloss\">to</span> <span class=\"lex xft\"><span class=\"f\">lex=</span>L</span></div>\n",
       "\n",
       "\n",
       "</div>\n",
       "\n",
       "<div class=\"word  \" >\n",
       "<a href=\"#\" class=\"nd\">410875</a>\n",
       "<div class=\"h\"><a target=\"_blank\" href=\"https://shebanq.ancient-data.org/hebrew/word?version=c&amp;id=1H\" title=\"show this lexeme in SHEBANQ\"></a></div>\n",
       "<div class=\"features\"> <span class=\"pdp\"><a href=\"https://shebanq.ancient-data.org/hebrew/text?book=Chronica_II&amp;chapter=8&amp;verse=13&amp;version=c&amp;mr=m&amp;qw=q&amp;tp=txt_p&amp;tr=hb&amp;wget=v&amp;qget=v&amp;nget=vt\" title=\"2_Chronicles 8:13\" sec=\"2_Chronicles 8:13\">art</a></span> <span class=\"gloss\">the</span> <span class=\"lex xft\"><span class=\"f\">lex=</span>H</span></div>\n",
       "\n",
       "\n",
       "</div>\n",
       "\n",
       "<div class=\"word  \" >\n",
       "<a href=\"#\" class=\"nd\">410876</a>\n",
       "<div class=\"h\"><a target=\"_blank\" href=\"https://shebanq.ancient-data.org/hebrew/word?version=c&amp;id=1CBTn\" title=\"show this lexeme in SHEBANQ\">שַּׁבָּתֹות֙ </a></div>\n",
       "<div class=\"features\"> <span class=\"pdp\"><a href=\"https://shebanq.ancient-data.org/hebrew/text?book=Chronica_II&amp;chapter=8&amp;verse=13&amp;version=c&amp;mr=m&amp;qw=q&amp;tp=txt_p&amp;tr=hb&amp;wget=v&amp;qget=v&amp;nget=vt\" title=\"2_Chronicles 8:13\" sec=\"2_Chronicles 8:13\">subs</a></span> <span class=\"gloss\">sabbath</span> <span class=\"lex xft\"><span class=\"f\">lex=</span>CBT/</span></div>\n",
       "\n",
       "\n",
       "</div>\n",
       "\n",
       "<div class=\"word  \" >\n",
       "<a href=\"#\" class=\"nd\">410877</a>\n",
       "<div class=\"h\"><a target=\"_blank\" href=\"https://shebanq.ancient-data.org/hebrew/word?version=c&amp;id=1W\" title=\"show this lexeme in SHEBANQ\">וְ</a></div>\n",
       "<div class=\"features\"> <span class=\"pdp\"><a href=\"https://shebanq.ancient-data.org/hebrew/text?book=Chronica_II&amp;chapter=8&amp;verse=13&amp;version=c&amp;mr=m&amp;qw=q&amp;tp=txt_p&amp;tr=hb&amp;wget=v&amp;qget=v&amp;nget=vt\" title=\"2_Chronicles 8:13\" sec=\"2_Chronicles 8:13\">conj</a></span> <span class=\"gloss\">and</span> <span class=\"lex xft\"><span class=\"f\">lex=</span>W</span></div>\n",
       "\n",
       "\n",
       "</div>\n",
       "\n",
       "<div class=\"word  \" >\n",
       "<a href=\"#\" class=\"nd\">410878</a>\n",
       "<div class=\"h\"><a target=\"_blank\" href=\"https://shebanq.ancient-data.org/hebrew/word?version=c&amp;id=1L\" title=\"show this lexeme in SHEBANQ\">לֶ֣</a></div>\n",
       "<div class=\"features\"> <span class=\"pdp\"><a href=\"https://shebanq.ancient-data.org/hebrew/text?book=Chronica_II&amp;chapter=8&amp;verse=13&amp;version=c&amp;mr=m&amp;qw=q&amp;tp=txt_p&amp;tr=hb&amp;wget=v&amp;qget=v&amp;nget=vt\" title=\"2_Chronicles 8:13\" sec=\"2_Chronicles 8:13\">prep</a></span> <span class=\"gloss\">to</span> <span class=\"lex xft\"><span class=\"f\">lex=</span>L</span></div>\n",
       "\n",
       "\n",
       "</div>\n",
       "\n",
       "<div class=\"word  \" >\n",
       "<a href=\"#\" class=\"nd\">410879</a>\n",
       "<div class=\"h\"><a target=\"_blank\" href=\"https://shebanq.ancient-data.org/hebrew/word?version=c&amp;id=1H\" title=\"show this lexeme in SHEBANQ\"></a></div>\n",
       "<div class=\"features\"> <span class=\"pdp\"><a href=\"https://shebanq.ancient-data.org/hebrew/text?book=Chronica_II&amp;chapter=8&amp;verse=13&amp;version=c&amp;mr=m&amp;qw=q&amp;tp=txt_p&amp;tr=hb&amp;wget=v&amp;qget=v&amp;nget=vt\" title=\"2_Chronicles 8:13\" sec=\"2_Chronicles 8:13\">art</a></span> <span class=\"gloss\">the</span> <span class=\"lex xft\"><span class=\"f\">lex=</span>H</span></div>\n",
       "\n",
       "\n",
       "</div>\n",
       "\n",
       "<div class=\"word  \" >\n",
       "<a href=\"#\" class=\"nd\">410880</a>\n",
       "<div class=\"h\"><a target=\"_blank\" href=\"https://shebanq.ancient-data.org/hebrew/word?version=c&amp;id=1XDCin\" title=\"show this lexeme in SHEBANQ\">חֳדָשִׁ֔ים </a></div>\n",
       "<div class=\"features\"> <span class=\"pdp\"><a href=\"https://shebanq.ancient-data.org/hebrew/text?book=Chronica_II&amp;chapter=8&amp;verse=13&amp;version=c&amp;mr=m&amp;qw=q&amp;tp=txt_p&amp;tr=hb&amp;wget=v&amp;qget=v&amp;nget=vt\" title=\"2_Chronicles 8:13\" sec=\"2_Chronicles 8:13\">subs</a></span> <span class=\"gloss\">month</span> <span class=\"lex xft\"><span class=\"f\">lex=</span>XDC=/</span></div>\n",
       "\n",
       "\n",
       "</div>\n",
       "\n",
       "<div class=\"word  \" >\n",
       "<a href=\"#\" class=\"nd\">410881</a>\n",
       "<div class=\"h\"><a target=\"_blank\" href=\"https://shebanq.ancient-data.org/hebrew/word?version=c&amp;id=1W\" title=\"show this lexeme in SHEBANQ\">וְ</a></div>\n",
       "<div class=\"features\"> <span class=\"pdp\"><a href=\"https://shebanq.ancient-data.org/hebrew/text?book=Chronica_II&amp;chapter=8&amp;verse=13&amp;version=c&amp;mr=m&amp;qw=q&amp;tp=txt_p&amp;tr=hb&amp;wget=v&amp;qget=v&amp;nget=vt\" title=\"2_Chronicles 8:13\" sec=\"2_Chronicles 8:13\">conj</a></span> <span class=\"gloss\">and</span> <span class=\"lex xft\"><span class=\"f\">lex=</span>W</span></div>\n",
       "\n",
       "\n",
       "</div>\n",
       "\n",
       "<div class=\"word  \" >\n",
       "<a href=\"#\" class=\"nd\">410882</a>\n",
       "<div class=\"h\"><a target=\"_blank\" href=\"https://shebanq.ancient-data.org/hebrew/word?version=c&amp;id=1L\" title=\"show this lexeme in SHEBANQ\">לַ</a></div>\n",
       "<div class=\"features\"> <span class=\"pdp\"><a href=\"https://shebanq.ancient-data.org/hebrew/text?book=Chronica_II&amp;chapter=8&amp;verse=13&amp;version=c&amp;mr=m&amp;qw=q&amp;tp=txt_p&amp;tr=hb&amp;wget=v&amp;qget=v&amp;nget=vt\" title=\"2_Chronicles 8:13\" sec=\"2_Chronicles 8:13\">prep</a></span> <span class=\"gloss\">to</span> <span class=\"lex xft\"><span class=\"f\">lex=</span>L</span></div>\n",
       "\n",
       "\n",
       "</div>\n",
       "\n",
       "<div class=\"word  \" >\n",
       "<a href=\"#\" class=\"nd\">410883</a>\n",
       "<div class=\"h\"><a target=\"_blank\" href=\"https://shebanq.ancient-data.org/hebrew/word?version=c&amp;id=1H\" title=\"show this lexeme in SHEBANQ\"></a></div>\n",
       "<div class=\"features\"> <span class=\"pdp\"><a href=\"https://shebanq.ancient-data.org/hebrew/text?book=Chronica_II&amp;chapter=8&amp;verse=13&amp;version=c&amp;mr=m&amp;qw=q&amp;tp=txt_p&amp;tr=hb&amp;wget=v&amp;qget=v&amp;nget=vt\" title=\"2_Chronicles 8:13\" sec=\"2_Chronicles 8:13\">art</a></span> <span class=\"gloss\">the</span> <span class=\"lex xft\"><span class=\"f\">lex=</span>H</span></div>\n",
       "\n",
       "\n",
       "</div>\n",
       "\n",
       "<div class=\"word  \" >\n",
       "<a href=\"#\" class=\"nd\">410884</a>\n",
       "<div class=\"h\"><a target=\"_blank\" href=\"https://shebanq.ancient-data.org/hebrew/word?version=c&amp;id=1MWODn\" title=\"show this lexeme in SHEBANQ\">מֹּ֣ועֲדֹ֔ות </a></div>\n",
       "<div class=\"features\"> <span class=\"pdp\"><a href=\"https://shebanq.ancient-data.org/hebrew/text?book=Chronica_II&amp;chapter=8&amp;verse=13&amp;version=c&amp;mr=m&amp;qw=q&amp;tp=txt_p&amp;tr=hb&amp;wget=v&amp;qget=v&amp;nget=vt\" title=\"2_Chronicles 8:13\" sec=\"2_Chronicles 8:13\">subs</a></span> <span class=\"gloss\">appointment</span> <span class=\"lex xft\"><span class=\"f\">lex=</span>MW&lt;D/</span></div>\n",
       "\n",
       "\n",
       "</div>\n",
       "\n",
       "\n",
       "    </div>\n",
       "\n",
       "\n",
       "</div>\n",
       "\n",
       "<div class=\"patom  r l \" >\n",
       "\n",
       "    <div class=\"phrase \" >\n",
       "        <a href=\"https://shebanq.ancient-data.org/hebrew/text?book=Chronica_II&amp;chapter=8&amp;verse=13&amp;version=c&amp;mr=m&amp;qw=q&amp;tp=txt_p&amp;tr=hb&amp;wget=v&amp;qget=v&amp;nget=vt\" title=\"2_Chronicles 8:13\" sec=\"2_Chronicles 8:13\">phrase</a> <a href=\"#\" class=\"nd\">896665</a>  <span class=\"function\">Time</span> <span class=\"typ\">PP|NP</span>\n",
       "    </div>\n",
       "    <div class=\"atoms\">\n",
       "\n",
       "<div class=\"word  \" >\n",
       "<a href=\"#\" class=\"nd\">410885</a>\n",
       "<div class=\"h\"><a target=\"_blank\" href=\"https://shebanq.ancient-data.org/hebrew/word?version=c&amp;id=1CLCn\" title=\"show this lexeme in SHEBANQ\">שָׁלֹ֥ושׁ </a></div>\n",
       "<div class=\"features\"> <span class=\"pdp\"><a href=\"https://shebanq.ancient-data.org/hebrew/text?book=Chronica_II&amp;chapter=8&amp;verse=13&amp;version=c&amp;mr=m&amp;qw=q&amp;tp=txt_p&amp;tr=hb&amp;wget=v&amp;qget=v&amp;nget=vt\" title=\"2_Chronicles 8:13\" sec=\"2_Chronicles 8:13\">subs</a></span> <span class=\"gloss\">three</span> <span class=\"lex xft\"><span class=\"f\">lex=</span>CLC/</span></div>\n",
       "\n",
       "\n",
       "</div>\n",
       "\n",
       "<div class=\"word  \" >\n",
       "<a href=\"#\" class=\"nd\">410886</a>\n",
       "<div class=\"h\"><a target=\"_blank\" href=\"https://shebanq.ancient-data.org/hebrew/word?version=c&amp;id=1POMn\" title=\"show this lexeme in SHEBANQ\">פְּעָמִ֖ים </a></div>\n",
       "<div class=\"features\"> <span class=\"pdp\"><a href=\"https://shebanq.ancient-data.org/hebrew/text?book=Chronica_II&amp;chapter=8&amp;verse=13&amp;version=c&amp;mr=m&amp;qw=q&amp;tp=txt_p&amp;tr=hb&amp;wget=v&amp;qget=v&amp;nget=vt\" title=\"2_Chronicles 8:13\" sec=\"2_Chronicles 8:13\">subs</a></span> <span class=\"gloss\">foot</span> <span class=\"lex xft\"><span class=\"f\">lex=</span>P&lt;M/</span></div>\n",
       "\n",
       "\n",
       "</div>\n",
       "\n",
       "\n",
       "    </div>\n",
       "\n",
       "\n",
       "</div>\n",
       "\n",
       "<div class=\"patom  r l \" >\n",
       "\n",
       "    <div class=\"phrase \" >\n",
       "        <a href=\"https://shebanq.ancient-data.org/hebrew/text?book=Chronica_II&amp;chapter=8&amp;verse=13&amp;version=c&amp;mr=m&amp;qw=q&amp;tp=txt_p&amp;tr=hb&amp;wget=v&amp;qget=v&amp;nget=vt\" title=\"2_Chronicles 8:13\" sec=\"2_Chronicles 8:13\">phrase</a> <a href=\"#\" class=\"nd\">896665</a>  <span class=\"function\">Time</span> <span class=\"typ\">PP</span>\n",
       "    </div>\n",
       "    <div class=\"atoms\">\n",
       "\n",
       "<div class=\"word  \" >\n",
       "<a href=\"#\" class=\"nd\">410887</a>\n",
       "<div class=\"h\"><a target=\"_blank\" href=\"https://shebanq.ancient-data.org/hebrew/word?version=c&amp;id=1B\" title=\"show this lexeme in SHEBANQ\">בַּ</a></div>\n",
       "<div class=\"features\"> <span class=\"pdp\"><a href=\"https://shebanq.ancient-data.org/hebrew/text?book=Chronica_II&amp;chapter=8&amp;verse=13&amp;version=c&amp;mr=m&amp;qw=q&amp;tp=txt_p&amp;tr=hb&amp;wget=v&amp;qget=v&amp;nget=vt\" title=\"2_Chronicles 8:13\" sec=\"2_Chronicles 8:13\">prep</a></span> <span class=\"gloss\">in</span> <span class=\"lex xft\"><span class=\"f\">lex=</span>B</span></div>\n",
       "\n",
       "\n",
       "</div>\n",
       "\n",
       "<div class=\"word  \" >\n",
       "<a href=\"#\" class=\"nd\">410888</a>\n",
       "<div class=\"h\"><a target=\"_blank\" href=\"https://shebanq.ancient-data.org/hebrew/word?version=c&amp;id=1H\" title=\"show this lexeme in SHEBANQ\"></a></div>\n",
       "<div class=\"features\"> <span class=\"pdp\"><a href=\"https://shebanq.ancient-data.org/hebrew/text?book=Chronica_II&amp;chapter=8&amp;verse=13&amp;version=c&amp;mr=m&amp;qw=q&amp;tp=txt_p&amp;tr=hb&amp;wget=v&amp;qget=v&amp;nget=vt\" title=\"2_Chronicles 8:13\" sec=\"2_Chronicles 8:13\">art</a></span> <span class=\"gloss\">the</span> <span class=\"lex xft\"><span class=\"f\">lex=</span>H</span></div>\n",
       "\n",
       "\n",
       "</div>\n",
       "\n",
       "<div class=\"word  \" >\n",
       "<a href=\"#\" class=\"nd\">410889</a>\n",
       "<div class=\"h\"><a target=\"_blank\" href=\"https://shebanq.ancient-data.org/hebrew/word?version=c&amp;id=1CNHn\" title=\"show this lexeme in SHEBANQ\">שָּׁנָ֑ה </a></div>\n",
       "<div class=\"features\"> <span class=\"pdp\"><a href=\"https://shebanq.ancient-data.org/hebrew/text?book=Chronica_II&amp;chapter=8&amp;verse=13&amp;version=c&amp;mr=m&amp;qw=q&amp;tp=txt_p&amp;tr=hb&amp;wget=v&amp;qget=v&amp;nget=vt\" title=\"2_Chronicles 8:13\" sec=\"2_Chronicles 8:13\">subs</a></span> <span class=\"gloss\">year</span> <span class=\"lex xft\"><span class=\"f\">lex=</span>CNH/</span></div>\n",
       "\n",
       "\n",
       "</div>\n",
       "\n",
       "\n",
       "    </div>\n",
       "\n",
       "\n",
       "</div>\n",
       "\n",
       "<div class=\"patom  r \" >\n",
       "\n",
       "    <div class=\"phrase \" >\n",
       "        <a href=\"https://shebanq.ancient-data.org/hebrew/text?book=Chronica_II&amp;chapter=8&amp;verse=13&amp;version=c&amp;mr=m&amp;qw=q&amp;tp=txt_p&amp;tr=hb&amp;wget=v&amp;qget=v&amp;nget=vt\" title=\"2_Chronicles 8:13\" sec=\"2_Chronicles 8:13\">phrase</a> <a href=\"#\" class=\"nd\">896665</a>  <span class=\"function\">Time</span> <span class=\"typ\">PP</span>\n",
       "    </div>\n",
       "    <div class=\"atoms\">\n",
       "\n",
       "<div class=\"word  \" >\n",
       "<a href=\"#\" class=\"nd\">410890</a>\n",
       "<div class=\"h\"><a target=\"_blank\" href=\"https://shebanq.ancient-data.org/hebrew/word?version=c&amp;id=1B\" title=\"show this lexeme in SHEBANQ\">בְּ</a></div>\n",
       "<div class=\"features\"> <span class=\"pdp\"><a href=\"https://shebanq.ancient-data.org/hebrew/text?book=Chronica_II&amp;chapter=8&amp;verse=13&amp;version=c&amp;mr=m&amp;qw=q&amp;tp=txt_p&amp;tr=hb&amp;wget=v&amp;qget=v&amp;nget=vt\" title=\"2_Chronicles 8:13\" sec=\"2_Chronicles 8:13\">prep</a></span> <span class=\"gloss\">in</span> <span class=\"lex xft\"><span class=\"f\">lex=</span>B</span></div>\n",
       "\n",
       "\n",
       "</div>\n",
       "\n",
       "<div class=\"word  \" >\n",
       "<a href=\"#\" class=\"nd\">410891</a>\n",
       "<div class=\"h\"><a target=\"_blank\" href=\"https://shebanq.ancient-data.org/hebrew/word?version=c&amp;id=1XGn\" title=\"show this lexeme in SHEBANQ\">חַ֧ג </a></div>\n",
       "<div class=\"features\"> <span class=\"pdp\"><a href=\"https://shebanq.ancient-data.org/hebrew/text?book=Chronica_II&amp;chapter=8&amp;verse=13&amp;version=c&amp;mr=m&amp;qw=q&amp;tp=txt_p&amp;tr=hb&amp;wget=v&amp;qget=v&amp;nget=vt\" title=\"2_Chronicles 8:13\" sec=\"2_Chronicles 8:13\">subs</a></span> <span class=\"gloss\">festival</span> <span class=\"lex xft\"><span class=\"f\">lex=</span>XG/</span></div>\n",
       "\n",
       "\n",
       "</div>\n",
       "\n",
       "<div class=\"word  \" >\n",
       "<a href=\"#\" class=\"nd\">410892</a>\n",
       "<div class=\"h\"><a target=\"_blank\" href=\"https://shebanq.ancient-data.org/hebrew/word?version=c&amp;id=1H\" title=\"show this lexeme in SHEBANQ\">הַ</a></div>\n",
       "<div class=\"features\"> <span class=\"pdp\"><a href=\"https://shebanq.ancient-data.org/hebrew/text?book=Chronica_II&amp;chapter=8&amp;verse=13&amp;version=c&amp;mr=m&amp;qw=q&amp;tp=txt_p&amp;tr=hb&amp;wget=v&amp;qget=v&amp;nget=vt\" title=\"2_Chronicles 8:13\" sec=\"2_Chronicles 8:13\">art</a></span> <span class=\"gloss\">the</span> <span class=\"lex xft\"><span class=\"f\">lex=</span>H</span></div>\n",
       "\n",
       "\n",
       "</div>\n",
       "\n",
       "<div class=\"word  \" >\n",
       "<a href=\"#\" class=\"nd\">410893</a>\n",
       "<div class=\"h\"><a target=\"_blank\" href=\"https://shebanq.ancient-data.org/hebrew/word?version=c&amp;id=1MYHn\" title=\"show this lexeme in SHEBANQ\">מַּצֹּ֛ות </a></div>\n",
       "<div class=\"features\"> <span class=\"pdp\"><a href=\"https://shebanq.ancient-data.org/hebrew/text?book=Chronica_II&amp;chapter=8&amp;verse=13&amp;version=c&amp;mr=m&amp;qw=q&amp;tp=txt_p&amp;tr=hb&amp;wget=v&amp;qget=v&amp;nget=vt\" title=\"2_Chronicles 8:13\" sec=\"2_Chronicles 8:13\">subs</a></span> <span class=\"gloss\">matzo</span> <span class=\"lex xft\"><span class=\"f\">lex=</span>MYH/</span></div>\n",
       "\n",
       "\n",
       "</div>\n",
       "\n",
       "<div class=\"word  \" >\n",
       "<a href=\"#\" class=\"nd\">410894</a>\n",
       "<div class=\"h\"><a target=\"_blank\" href=\"https://shebanq.ancient-data.org/hebrew/word?version=c&amp;id=1W\" title=\"show this lexeme in SHEBANQ\">וּ</a></div>\n",
       "<div class=\"features\"> <span class=\"pdp\"><a href=\"https://shebanq.ancient-data.org/hebrew/text?book=Chronica_II&amp;chapter=8&amp;verse=13&amp;version=c&amp;mr=m&amp;qw=q&amp;tp=txt_p&amp;tr=hb&amp;wget=v&amp;qget=v&amp;nget=vt\" title=\"2_Chronicles 8:13\" sec=\"2_Chronicles 8:13\">conj</a></span> <span class=\"gloss\">and</span> <span class=\"lex xft\"><span class=\"f\">lex=</span>W</span></div>\n",
       "\n",
       "\n",
       "</div>\n",
       "\n",
       "<div class=\"word  hl\"  style=\"background-color: #ffcc5c;\" >\n",
       "<a href=\"#\" class=\"nd\">410895</a>\n",
       "<div class=\"h\"><a target=\"_blank\" href=\"https://shebanq.ancient-data.org/hebrew/word?version=c&amp;id=1B\" title=\"show this lexeme in SHEBANQ\">בְ</a></div>\n",
       "<div class=\"features\"> <span class=\"pdp\"><a href=\"https://shebanq.ancient-data.org/hebrew/text?book=Chronica_II&amp;chapter=8&amp;verse=13&amp;version=c&amp;mr=m&amp;qw=q&amp;tp=txt_p&amp;tr=hb&amp;wget=v&amp;qget=v&amp;nget=vt\" title=\"2_Chronicles 8:13\" sec=\"2_Chronicles 8:13\">prep</a></span> <span class=\"gloss\">in</span> <span class=\"lex xft\"><span class=\"f\">lex=</span>B</span></div>\n",
       "\n",
       "\n",
       "</div>\n",
       "\n",
       "<div class=\"word  hl\"  style=\"background-color: #ffcc5c;\" >\n",
       "<a href=\"#\" class=\"nd\">410896</a>\n",
       "<div class=\"h\"><a target=\"_blank\" href=\"https://shebanq.ancient-data.org/hebrew/word?version=c&amp;id=1XGn\" title=\"show this lexeme in SHEBANQ\">חַ֥ג </a></div>\n",
       "<div class=\"features\"> <span class=\"pdp\"><a href=\"https://shebanq.ancient-data.org/hebrew/text?book=Chronica_II&amp;chapter=8&amp;verse=13&amp;version=c&amp;mr=m&amp;qw=q&amp;tp=txt_p&amp;tr=hb&amp;wget=v&amp;qget=v&amp;nget=vt\" title=\"2_Chronicles 8:13\" sec=\"2_Chronicles 8:13\">subs</a></span> <span class=\"gloss\">festival</span> <span class=\"lex xft\"><span class=\"f\">lex=</span>XG/</span></div>\n",
       "\n",
       "\n",
       "</div>\n",
       "\n",
       "<div class=\"word  hl\"  style=\"background-color: #ffcc5c;\" >\n",
       "<a href=\"#\" class=\"nd\">410897</a>\n",
       "<div class=\"h\"><a target=\"_blank\" href=\"https://shebanq.ancient-data.org/hebrew/word?version=c&amp;id=1H\" title=\"show this lexeme in SHEBANQ\">הַ</a></div>\n",
       "<div class=\"features\"> <span class=\"pdp\"><a href=\"https://shebanq.ancient-data.org/hebrew/text?book=Chronica_II&amp;chapter=8&amp;verse=13&amp;version=c&amp;mr=m&amp;qw=q&amp;tp=txt_p&amp;tr=hb&amp;wget=v&amp;qget=v&amp;nget=vt\" title=\"2_Chronicles 8:13\" sec=\"2_Chronicles 8:13\">art</a></span> <span class=\"gloss\">the</span> <span class=\"lex xft\"><span class=\"f\">lex=</span>H</span></div>\n",
       "\n",
       "\n",
       "</div>\n",
       "\n",
       "<div class=\"word  hl\"  style=\"background-color: #ffcc5c;\" >\n",
       "<a href=\"#\" class=\"nd\">410898</a>\n",
       "<div class=\"h\"><a target=\"_blank\" href=\"https://shebanq.ancient-data.org/hebrew/word?version=c&amp;id=1CBWOn\" title=\"show this lexeme in SHEBANQ\">שָּׁבֻעֹ֖ות </a></div>\n",
       "<div class=\"features\"> <span class=\"pdp\"><a href=\"https://shebanq.ancient-data.org/hebrew/text?book=Chronica_II&amp;chapter=8&amp;verse=13&amp;version=c&amp;mr=m&amp;qw=q&amp;tp=txt_p&amp;tr=hb&amp;wget=v&amp;qget=v&amp;nget=vt\" title=\"2_Chronicles 8:13\" sec=\"2_Chronicles 8:13\">subs</a></span> <span class=\"gloss\">week</span> <span class=\"lex xft\"><span class=\"f\">lex=</span>CBW&lt;/</span></div>\n",
       "\n",
       "\n",
       "</div>\n",
       "\n",
       "<div class=\"word  hl\"  style=\"background-color: #ffeead;\" >\n",
       "<a href=\"#\" class=\"nd\">410899</a>\n",
       "<div class=\"h\"><a target=\"_blank\" href=\"https://shebanq.ancient-data.org/hebrew/word?version=c&amp;id=1W\" title=\"show this lexeme in SHEBANQ\">וּ</a></div>\n",
       "<div class=\"features\"> <span class=\"pdp\"><a href=\"https://shebanq.ancient-data.org/hebrew/text?book=Chronica_II&amp;chapter=8&amp;verse=13&amp;version=c&amp;mr=m&amp;qw=q&amp;tp=txt_p&amp;tr=hb&amp;wget=v&amp;qget=v&amp;nget=vt\" title=\"2_Chronicles 8:13\" sec=\"2_Chronicles 8:13\">conj</a></span> <span class=\"gloss\">and</span> <span class=\"lex xft\"><span class=\"f\">lex=</span>W</span></div>\n",
       "\n",
       "\n",
       "</div>\n",
       "\n",
       "<div class=\"word  hl\"  style=\"background-color: #96ceb4;\" >\n",
       "<a href=\"#\" class=\"nd\">410900</a>\n",
       "<div class=\"h\"><a target=\"_blank\" href=\"https://shebanq.ancient-data.org/hebrew/word?version=c&amp;id=1B\" title=\"show this lexeme in SHEBANQ\">בְ</a></div>\n",
       "<div class=\"features\"> <span class=\"pdp\"><a href=\"https://shebanq.ancient-data.org/hebrew/text?book=Chronica_II&amp;chapter=8&amp;verse=13&amp;version=c&amp;mr=m&amp;qw=q&amp;tp=txt_p&amp;tr=hb&amp;wget=v&amp;qget=v&amp;nget=vt\" title=\"2_Chronicles 8:13\" sec=\"2_Chronicles 8:13\">prep</a></span> <span class=\"gloss\">in</span> <span class=\"lex xft\"><span class=\"f\">lex=</span>B</span></div>\n",
       "\n",
       "\n",
       "</div>\n",
       "\n",
       "<div class=\"word  hl\"  style=\"background-color: #96ceb4;\" >\n",
       "<a href=\"#\" class=\"nd\">410901</a>\n",
       "<div class=\"h\"><a target=\"_blank\" href=\"https://shebanq.ancient-data.org/hebrew/word?version=c&amp;id=1XGn\" title=\"show this lexeme in SHEBANQ\">חַ֥ג </a></div>\n",
       "<div class=\"features\"> <span class=\"pdp\"><a href=\"https://shebanq.ancient-data.org/hebrew/text?book=Chronica_II&amp;chapter=8&amp;verse=13&amp;version=c&amp;mr=m&amp;qw=q&amp;tp=txt_p&amp;tr=hb&amp;wget=v&amp;qget=v&amp;nget=vt\" title=\"2_Chronicles 8:13\" sec=\"2_Chronicles 8:13\">subs</a></span> <span class=\"gloss\">festival</span> <span class=\"lex xft\"><span class=\"f\">lex=</span>XG/</span></div>\n",
       "\n",
       "\n",
       "</div>\n",
       "\n",
       "<div class=\"word  hl\"  style=\"background-color: #96ceb4;\" >\n",
       "<a href=\"#\" class=\"nd\">410902</a>\n",
       "<div class=\"h\"><a target=\"_blank\" href=\"https://shebanq.ancient-data.org/hebrew/word?version=c&amp;id=1H\" title=\"show this lexeme in SHEBANQ\">הַ</a></div>\n",
       "<div class=\"features\"> <span class=\"pdp\"><a href=\"https://shebanq.ancient-data.org/hebrew/text?book=Chronica_II&amp;chapter=8&amp;verse=13&amp;version=c&amp;mr=m&amp;qw=q&amp;tp=txt_p&amp;tr=hb&amp;wget=v&amp;qget=v&amp;nget=vt\" title=\"2_Chronicles 8:13\" sec=\"2_Chronicles 8:13\">art</a></span> <span class=\"gloss\">the</span> <span class=\"lex xft\"><span class=\"f\">lex=</span>H</span></div>\n",
       "\n",
       "\n",
       "</div>\n",
       "\n",
       "<div class=\"word  hl\"  style=\"background-color: #96ceb4;\" >\n",
       "<a href=\"#\" class=\"nd\">410903</a>\n",
       "<div class=\"h\"><a target=\"_blank\" href=\"https://shebanq.ancient-data.org/hebrew/word?version=c&amp;id=1SKHn\" title=\"show this lexeme in SHEBANQ\">סֻּכֹּֽות׃ </a></div>\n",
       "<div class=\"features\"> <span class=\"pdp\"><a href=\"https://shebanq.ancient-data.org/hebrew/text?book=Chronica_II&amp;chapter=8&amp;verse=13&amp;version=c&amp;mr=m&amp;qw=q&amp;tp=txt_p&amp;tr=hb&amp;wget=v&amp;qget=v&amp;nget=vt\" title=\"2_Chronicles 8:13\" sec=\"2_Chronicles 8:13\">subs</a></span> <span class=\"gloss\">cover of foliage</span> <span class=\"lex xft\"><span class=\"f\">lex=</span>SKH/</span></div>\n",
       "\n",
       "\n",
       "</div>\n",
       "\n",
       "\n",
       "    </div>\n",
       "\n",
       "\n",
       "</div>\n",
       "\n",
       "\n",
       "</div>\n"
      ],
      "text/plain": [
       "<IPython.core.display.HTML object>"
      ]
     },
     "metadata": {},
     "output_type": "display_data"
    },
    {
     "data": {
      "text/html": [
       "<div style=\"background: #96ceb4; text-align: center\">part2</div>"
      ],
      "text/plain": [
       "<IPython.core.display.HTML object>"
      ]
     },
     "metadata": {},
     "output_type": "display_data"
    },
    {
     "data": {
      "text/html": [
       "<div style=\"background: #ffeead; text-align: center\">conj</div>"
      ],
      "text/plain": [
       "<IPython.core.display.HTML object>"
      ]
     },
     "metadata": {},
     "output_type": "display_data"
    },
    {
     "data": {
      "text/html": [
       "<div style=\"background: #ffcc5c; text-align: center\">part1</div>"
      ],
      "text/plain": [
       "<IPython.core.display.HTML object>"
      ]
     },
     "metadata": {},
     "output_type": "display_data"
    },
    {
     "name": "stdout",
     "output_type": "stream",
     "text": [
      "{   '__cx__': 'coord',\n",
      "    'conj': {'__cx__': 'conj', 'head': 410899},\n",
      "    'part1': {   '__cx__': 'prep_ph',\n",
      "                 'head': {   '__cx__': 'geni_ph',\n",
      "                             'geni': {   '__cx__': 'defi_ph',\n",
      "                                         'art': {   '__cx__': 'art',\n",
      "                                                    'head': 410897},\n",
      "                                         'head': {   '__cx__': 'cont',\n",
      "                                                     'head': 410898}},\n",
      "                             'head': {'__cx__': 'cont', 'head': 410896}},\n",
      "                 'prep': {'__cx__': 'prep', 'head': 410895}},\n",
      "    'part2': {   '__cx__': 'prep_ph',\n",
      "                 'head': {   '__cx__': 'geni_ph',\n",
      "                             'geni': {   '__cx__': 'defi_ph',\n",
      "                                         'art': {   '__cx__': 'art',\n",
      "                                                    'head': 410902},\n",
      "                                         'head': {   '__cx__': 'cont',\n",
      "                                                     'head': 410903}},\n",
      "                             'head': {'__cx__': 'cont', 'head': 410901}},\n",
      "                 'prep': {'__cx__': 'prep', 'head': 410900}}}\n",
      "\n"
     ]
    },
    {
     "data": {
      "text/html": [
       "<hr>"
      ],
      "text/plain": [
       "<IPython.core.display.HTML object>"
      ]
     },
     "metadata": {},
     "output_type": "display_data"
    },
    {
     "data": {
      "text/html": [
       "<p><b>result</b> <i>1450546 -> CX coord {413216, 413217, 413218, 413219, 413220, 413214, 413215}</i></p>"
      ],
      "text/plain": [
       "<IPython.core.display.HTML object>"
      ]
     },
     "metadata": {},
     "output_type": "display_data"
    },
    {
     "data": {
      "text/html": [
       "<a href=\"https://shebanq.ancient-data.org/hebrew/text?book=Chronica_II&amp;chapter=13&amp;verse=11&amp;version=c&amp;mr=m&amp;qw=q&amp;tp=txt_p&amp;tr=hb&amp;wget=v&amp;qget=v&amp;nget=vt\" title=\"show this passage in SHEBANQ\" sec=\"2_Chronicles 13:11\">2_Chronicles 13:11</a>\n",
       "<div class=\"atoms  \" >\n",
       "<a href=\"#\" class=\"nd\">897856</a>\n",
       "\n",
       "\n",
       "\n",
       "<div class=\"patom  \" >\n",
       "\n",
       "    <div class=\"phrase \" >\n",
       "        <a href=\"https://shebanq.ancient-data.org/hebrew/text?book=Chronica_II&amp;chapter=13&amp;verse=11&amp;version=c&amp;mr=m&amp;qw=q&amp;tp=txt_p&amp;tr=hb&amp;wget=v&amp;qget=v&amp;nget=vt\" title=\"2_Chronicles 13:11\" sec=\"2_Chronicles 13:11\">phrase</a> <a href=\"#\" class=\"nd\">897856</a>  <span class=\"function\">Time</span> <span class=\"typ\">PP</span>\n",
       "    </div>\n",
       "    <div class=\"atoms\">\n",
       "\n",
       "<div class=\"word  \" >\n",
       "<a href=\"#\" class=\"nd\">413211</a>\n",
       "<div class=\"h\"><a target=\"_blank\" href=\"https://shebanq.ancient-data.org/hebrew/word?version=c&amp;id=1B\" title=\"show this lexeme in SHEBANQ\">בַּ</a></div>\n",
       "<div class=\"features\"> <span class=\"pdp\"><a href=\"https://shebanq.ancient-data.org/hebrew/text?book=Chronica_II&amp;chapter=13&amp;verse=11&amp;version=c&amp;mr=m&amp;qw=q&amp;tp=txt_p&amp;tr=hb&amp;wget=v&amp;qget=v&amp;nget=vt\" title=\"2_Chronicles 13:11\" sec=\"2_Chronicles 13:11\">prep</a></span> <span class=\"gloss\">in</span> <span class=\"lex xft\"><span class=\"f\">lex=</span>B</span></div>\n",
       "\n",
       "\n",
       "</div>\n",
       "\n",
       "<div class=\"word  \" >\n",
       "<a href=\"#\" class=\"nd\">413212</a>\n",
       "<div class=\"h\"><a target=\"_blank\" href=\"https://shebanq.ancient-data.org/hebrew/word?version=c&amp;id=1H\" title=\"show this lexeme in SHEBANQ\"></a></div>\n",
       "<div class=\"features\"> <span class=\"pdp\"><a href=\"https://shebanq.ancient-data.org/hebrew/text?book=Chronica_II&amp;chapter=13&amp;verse=11&amp;version=c&amp;mr=m&amp;qw=q&amp;tp=txt_p&amp;tr=hb&amp;wget=v&amp;qget=v&amp;nget=vt\" title=\"2_Chronicles 13:11\" sec=\"2_Chronicles 13:11\">art</a></span> <span class=\"gloss\">the</span> <span class=\"lex xft\"><span class=\"f\">lex=</span>H</span></div>\n",
       "\n",
       "\n",
       "</div>\n",
       "\n",
       "<div class=\"word  \" >\n",
       "<a href=\"#\" class=\"nd\">413213</a>\n",
       "<div class=\"h\"><a target=\"_blank\" href=\"https://shebanq.ancient-data.org/hebrew/word?version=c&amp;id=1BQRin\" title=\"show this lexeme in SHEBANQ\">בֹּֽקֶר־</a></div>\n",
       "<div class=\"features\"> <span class=\"pdp\"><a href=\"https://shebanq.ancient-data.org/hebrew/text?book=Chronica_II&amp;chapter=13&amp;verse=11&amp;version=c&amp;mr=m&amp;qw=q&amp;tp=txt_p&amp;tr=hb&amp;wget=v&amp;qget=v&amp;nget=vt\" title=\"2_Chronicles 13:11\" sec=\"2_Chronicles 13:11\">subs</a></span> <span class=\"gloss\">morning</span> <span class=\"lex xft\"><span class=\"f\">lex=</span>BQR=/</span></div>\n",
       "\n",
       "\n",
       "</div>\n",
       "\n",
       "<div class=\"word  hl\"  style=\"background-color: #ffcc5c;\" >\n",
       "<a href=\"#\" class=\"nd\">413214</a>\n",
       "<div class=\"h\"><a target=\"_blank\" href=\"https://shebanq.ancient-data.org/hebrew/word?version=c&amp;id=1B\" title=\"show this lexeme in SHEBANQ\">בַּ</a></div>\n",
       "<div class=\"features\"> <span class=\"pdp\"><a href=\"https://shebanq.ancient-data.org/hebrew/text?book=Chronica_II&amp;chapter=13&amp;verse=11&amp;version=c&amp;mr=m&amp;qw=q&amp;tp=txt_p&amp;tr=hb&amp;wget=v&amp;qget=v&amp;nget=vt\" title=\"2_Chronicles 13:11\" sec=\"2_Chronicles 13:11\">prep</a></span> <span class=\"gloss\">in</span> <span class=\"lex xft\"><span class=\"f\">lex=</span>B</span></div>\n",
       "\n",
       "\n",
       "</div>\n",
       "\n",
       "<div class=\"word  hl\"  style=\"background-color: #ffcc5c;\" >\n",
       "<a href=\"#\" class=\"nd\">413215</a>\n",
       "<div class=\"h\"><a target=\"_blank\" href=\"https://shebanq.ancient-data.org/hebrew/word?version=c&amp;id=1H\" title=\"show this lexeme in SHEBANQ\"></a></div>\n",
       "<div class=\"features\"> <span class=\"pdp\"><a href=\"https://shebanq.ancient-data.org/hebrew/text?book=Chronica_II&amp;chapter=13&amp;verse=11&amp;version=c&amp;mr=m&amp;qw=q&amp;tp=txt_p&amp;tr=hb&amp;wget=v&amp;qget=v&amp;nget=vt\" title=\"2_Chronicles 13:11\" sec=\"2_Chronicles 13:11\">art</a></span> <span class=\"gloss\">the</span> <span class=\"lex xft\"><span class=\"f\">lex=</span>H</span></div>\n",
       "\n",
       "\n",
       "</div>\n",
       "\n",
       "<div class=\"word  hl\"  style=\"background-color: #ffcc5c;\" >\n",
       "<a href=\"#\" class=\"nd\">413216</a>\n",
       "<div class=\"h\"><a target=\"_blank\" href=\"https://shebanq.ancient-data.org/hebrew/word?version=c&amp;id=1BQRin\" title=\"show this lexeme in SHEBANQ\">בֹּ֣קֶר </a></div>\n",
       "<div class=\"features\"> <span class=\"pdp\"><a href=\"https://shebanq.ancient-data.org/hebrew/text?book=Chronica_II&amp;chapter=13&amp;verse=11&amp;version=c&amp;mr=m&amp;qw=q&amp;tp=txt_p&amp;tr=hb&amp;wget=v&amp;qget=v&amp;nget=vt\" title=\"2_Chronicles 13:11\" sec=\"2_Chronicles 13:11\">subs</a></span> <span class=\"gloss\">morning</span> <span class=\"lex xft\"><span class=\"f\">lex=</span>BQR=/</span></div>\n",
       "\n",
       "\n",
       "</div>\n",
       "\n",
       "<div class=\"word  hl\"  style=\"background-color: #ffeead;\" >\n",
       "<a href=\"#\" class=\"nd\">413217</a>\n",
       "<div class=\"h\"><a target=\"_blank\" href=\"https://shebanq.ancient-data.org/hebrew/word?version=c&amp;id=1W\" title=\"show this lexeme in SHEBANQ\">וּ</a></div>\n",
       "<div class=\"features\"> <span class=\"pdp\"><a href=\"https://shebanq.ancient-data.org/hebrew/text?book=Chronica_II&amp;chapter=13&amp;verse=11&amp;version=c&amp;mr=m&amp;qw=q&amp;tp=txt_p&amp;tr=hb&amp;wget=v&amp;qget=v&amp;nget=vt\" title=\"2_Chronicles 13:11\" sec=\"2_Chronicles 13:11\">conj</a></span> <span class=\"gloss\">and</span> <span class=\"lex xft\"><span class=\"f\">lex=</span>W</span></div>\n",
       "\n",
       "\n",
       "</div>\n",
       "\n",
       "<div class=\"word  hl\"  style=\"background-color: #96ceb4;\" >\n",
       "<a href=\"#\" class=\"nd\">413218</a>\n",
       "<div class=\"h\"><a target=\"_blank\" href=\"https://shebanq.ancient-data.org/hebrew/word?version=c&amp;id=1B\" title=\"show this lexeme in SHEBANQ\">בָ</a></div>\n",
       "<div class=\"features\"> <span class=\"pdp\"><a href=\"https://shebanq.ancient-data.org/hebrew/text?book=Chronica_II&amp;chapter=13&amp;verse=11&amp;version=c&amp;mr=m&amp;qw=q&amp;tp=txt_p&amp;tr=hb&amp;wget=v&amp;qget=v&amp;nget=vt\" title=\"2_Chronicles 13:11\" sec=\"2_Chronicles 13:11\">prep</a></span> <span class=\"gloss\">in</span> <span class=\"lex xft\"><span class=\"f\">lex=</span>B</span></div>\n",
       "\n",
       "\n",
       "</div>\n",
       "\n",
       "<div class=\"word  hl\"  style=\"background-color: #96ceb4;\" >\n",
       "<a href=\"#\" class=\"nd\">413219</a>\n",
       "<div class=\"h\"><a target=\"_blank\" href=\"https://shebanq.ancient-data.org/hebrew/word?version=c&amp;id=1H\" title=\"show this lexeme in SHEBANQ\"></a></div>\n",
       "<div class=\"features\"> <span class=\"pdp\"><a href=\"https://shebanq.ancient-data.org/hebrew/text?book=Chronica_II&amp;chapter=13&amp;verse=11&amp;version=c&amp;mr=m&amp;qw=q&amp;tp=txt_p&amp;tr=hb&amp;wget=v&amp;qget=v&amp;nget=vt\" title=\"2_Chronicles 13:11\" sec=\"2_Chronicles 13:11\">art</a></span> <span class=\"gloss\">the</span> <span class=\"lex xft\"><span class=\"f\">lex=</span>H</span></div>\n",
       "\n",
       "\n",
       "</div>\n",
       "\n",
       "<div class=\"word  hl\"  style=\"background-color: #96ceb4;\" >\n",
       "<a href=\"#\" class=\"nd\">413220</a>\n",
       "<div class=\"h\"><a target=\"_blank\" href=\"https://shebanq.ancient-data.org/hebrew/word?version=c&amp;id=1ORBn\" title=\"show this lexeme in SHEBANQ\">עֶֽרֶב־</a></div>\n",
       "<div class=\"features\"> <span class=\"pdp\"><a href=\"https://shebanq.ancient-data.org/hebrew/text?book=Chronica_II&amp;chapter=13&amp;verse=11&amp;version=c&amp;mr=m&amp;qw=q&amp;tp=txt_p&amp;tr=hb&amp;wget=v&amp;qget=v&amp;nget=vt\" title=\"2_Chronicles 13:11\" sec=\"2_Chronicles 13:11\">subs</a></span> <span class=\"gloss\">evening</span> <span class=\"lex xft\"><span class=\"f\">lex=</span>&lt;RB/</span></div>\n",
       "\n",
       "\n",
       "</div>\n",
       "\n",
       "<div class=\"word  \" >\n",
       "<a href=\"#\" class=\"nd\">413221</a>\n",
       "<div class=\"h\"><a target=\"_blank\" href=\"https://shebanq.ancient-data.org/hebrew/word?version=c&amp;id=1B\" title=\"show this lexeme in SHEBANQ\">בָּ</a></div>\n",
       "<div class=\"features\"> <span class=\"pdp\"><a href=\"https://shebanq.ancient-data.org/hebrew/text?book=Chronica_II&amp;chapter=13&amp;verse=11&amp;version=c&amp;mr=m&amp;qw=q&amp;tp=txt_p&amp;tr=hb&amp;wget=v&amp;qget=v&amp;nget=vt\" title=\"2_Chronicles 13:11\" sec=\"2_Chronicles 13:11\">prep</a></span> <span class=\"gloss\">in</span> <span class=\"lex xft\"><span class=\"f\">lex=</span>B</span></div>\n",
       "\n",
       "\n",
       "</div>\n",
       "\n",
       "<div class=\"word  \" >\n",
       "<a href=\"#\" class=\"nd\">413222</a>\n",
       "<div class=\"h\"><a target=\"_blank\" href=\"https://shebanq.ancient-data.org/hebrew/word?version=c&amp;id=1H\" title=\"show this lexeme in SHEBANQ\"></a></div>\n",
       "<div class=\"features\"> <span class=\"pdp\"><a href=\"https://shebanq.ancient-data.org/hebrew/text?book=Chronica_II&amp;chapter=13&amp;verse=11&amp;version=c&amp;mr=m&amp;qw=q&amp;tp=txt_p&amp;tr=hb&amp;wget=v&amp;qget=v&amp;nget=vt\" title=\"2_Chronicles 13:11\" sec=\"2_Chronicles 13:11\">art</a></span> <span class=\"gloss\">the</span> <span class=\"lex xft\"><span class=\"f\">lex=</span>H</span></div>\n",
       "\n",
       "\n",
       "</div>\n",
       "\n",
       "<div class=\"word  \" >\n",
       "<a href=\"#\" class=\"nd\">413223</a>\n",
       "<div class=\"h\"><a target=\"_blank\" href=\"https://shebanq.ancient-data.org/hebrew/word?version=c&amp;id=1ORBn\" title=\"show this lexeme in SHEBANQ\">עֶ֣רֶב </a></div>\n",
       "<div class=\"features\"> <span class=\"pdp\"><a href=\"https://shebanq.ancient-data.org/hebrew/text?book=Chronica_II&amp;chapter=13&amp;verse=11&amp;version=c&amp;mr=m&amp;qw=q&amp;tp=txt_p&amp;tr=hb&amp;wget=v&amp;qget=v&amp;nget=vt\" title=\"2_Chronicles 13:11\" sec=\"2_Chronicles 13:11\">subs</a></span> <span class=\"gloss\">evening</span> <span class=\"lex xft\"><span class=\"f\">lex=</span>&lt;RB/</span></div>\n",
       "\n",
       "\n",
       "</div>\n",
       "\n",
       "\n",
       "    </div>\n",
       "\n",
       "\n",
       "</div>\n",
       "\n",
       "\n",
       "</div>\n"
      ],
      "text/plain": [
       "<IPython.core.display.HTML object>"
      ]
     },
     "metadata": {},
     "output_type": "display_data"
    },
    {
     "data": {
      "text/html": [
       "<div style=\"background: #96ceb4; text-align: center\">part2</div>"
      ],
      "text/plain": [
       "<IPython.core.display.HTML object>"
      ]
     },
     "metadata": {},
     "output_type": "display_data"
    },
    {
     "data": {
      "text/html": [
       "<div style=\"background: #ffeead; text-align: center\">conj</div>"
      ],
      "text/plain": [
       "<IPython.core.display.HTML object>"
      ]
     },
     "metadata": {},
     "output_type": "display_data"
    },
    {
     "data": {
      "text/html": [
       "<div style=\"background: #ffcc5c; text-align: center\">part1</div>"
      ],
      "text/plain": [
       "<IPython.core.display.HTML object>"
      ]
     },
     "metadata": {},
     "output_type": "display_data"
    },
    {
     "name": "stdout",
     "output_type": "stream",
     "text": [
      "{   '__cx__': 'coord',\n",
      "    'conj': {'__cx__': 'conj', 'head': 413217},\n",
      "    'part1': {   '__cx__': 'prep_ph',\n",
      "                 'head': {   '__cx__': 'defi_ph',\n",
      "                             'art': {'__cx__': 'art', 'head': 413215},\n",
      "                             'head': {'__cx__': 'cont', 'head': 413216}},\n",
      "                 'prep': {'__cx__': 'prep', 'head': 413214}},\n",
      "    'part2': {   '__cx__': 'prep_ph',\n",
      "                 'head': {   '__cx__': 'defi_ph',\n",
      "                             'art': {'__cx__': 'art', 'head': 413219},\n",
      "                             'head': {'__cx__': 'cont', 'head': 413220}},\n",
      "                 'prep': {'__cx__': 'prep', 'head': 413218}}}\n",
      "\n"
     ]
    },
    {
     "data": {
      "text/html": [
       "<hr>"
      ],
      "text/plain": [
       "<IPython.core.display.HTML object>"
      ]
     },
     "metadata": {},
     "output_type": "display_data"
    },
    {
     "data": {
      "text/html": [
       "<p><b>result</b> <i>1450618 -> CX coord {420263, 420264, 420265, 420266, 420267}</i></p>"
      ],
      "text/plain": [
       "<IPython.core.display.HTML object>"
      ]
     },
     "metadata": {},
     "output_type": "display_data"
    },
    {
     "data": {
      "text/html": [
       "<a href=\"https://shebanq.ancient-data.org/hebrew/text?book=Chronica_II&amp;chapter=27&amp;verse=5&amp;version=c&amp;mr=m&amp;qw=q&amp;tp=txt_p&amp;tr=hb&amp;wget=v&amp;qget=v&amp;nget=vt\" title=\"show this passage in SHEBANQ\" sec=\"2_Chronicles 27:5\">2_Chronicles 27:5</a>\n",
       "<div class=\"atoms  \" >\n",
       "<a href=\"#\" class=\"nd\">901653</a>\n",
       "\n",
       "\n",
       "\n",
       "<div class=\"patom  \" >\n",
       "\n",
       "    <div class=\"phrase \" >\n",
       "        <a href=\"https://shebanq.ancient-data.org/hebrew/text?book=Chronica_II&amp;chapter=27&amp;verse=5&amp;version=c&amp;mr=m&amp;qw=q&amp;tp=txt_p&amp;tr=hb&amp;wget=v&amp;qget=v&amp;nget=vt\" title=\"2_Chronicles 27:5\" sec=\"2_Chronicles 27:5\">phrase</a> <a href=\"#\" class=\"nd\">901653</a>  <span class=\"function\">Time</span> <span class=\"typ\">PP</span>\n",
       "    </div>\n",
       "    <div class=\"atoms\">\n",
       "\n",
       "<div class=\"word  \" >\n",
       "<a href=\"#\" class=\"nd\">420260</a>\n",
       "<div class=\"h\"><a target=\"_blank\" href=\"https://shebanq.ancient-data.org/hebrew/word?version=c&amp;id=1B\" title=\"show this lexeme in SHEBANQ\">בַ</a></div>\n",
       "<div class=\"features\"> <span class=\"pdp\"><a href=\"https://shebanq.ancient-data.org/hebrew/text?book=Chronica_II&amp;chapter=27&amp;verse=5&amp;version=c&amp;mr=m&amp;qw=q&amp;tp=txt_p&amp;tr=hb&amp;wget=v&amp;qget=v&amp;nget=vt\" title=\"2_Chronicles 27:5\" sec=\"2_Chronicles 27:5\">prep</a></span> <span class=\"gloss\">in</span> <span class=\"lex xft\"><span class=\"f\">lex=</span>B</span></div>\n",
       "\n",
       "\n",
       "</div>\n",
       "\n",
       "<div class=\"word  \" >\n",
       "<a href=\"#\" class=\"nd\">420261</a>\n",
       "<div class=\"h\"><a target=\"_blank\" href=\"https://shebanq.ancient-data.org/hebrew/word?version=c&amp;id=1H\" title=\"show this lexeme in SHEBANQ\"></a></div>\n",
       "<div class=\"features\"> <span class=\"pdp\"><a href=\"https://shebanq.ancient-data.org/hebrew/text?book=Chronica_II&amp;chapter=27&amp;verse=5&amp;version=c&amp;mr=m&amp;qw=q&amp;tp=txt_p&amp;tr=hb&amp;wget=v&amp;qget=v&amp;nget=vt\" title=\"2_Chronicles 27:5\" sec=\"2_Chronicles 27:5\">art</a></span> <span class=\"gloss\">the</span> <span class=\"lex xft\"><span class=\"f\">lex=</span>H</span></div>\n",
       "\n",
       "\n",
       "</div>\n",
       "\n",
       "<div class=\"word  \" >\n",
       "<a href=\"#\" class=\"nd\">420262</a>\n",
       "<div class=\"h\"><a target=\"_blank\" href=\"https://shebanq.ancient-data.org/hebrew/word?version=c&amp;id=1CNHn\" title=\"show this lexeme in SHEBANQ\">שָּׁנָ֥ה </a></div>\n",
       "<div class=\"features\"> <span class=\"pdp\"><a href=\"https://shebanq.ancient-data.org/hebrew/text?book=Chronica_II&amp;chapter=27&amp;verse=5&amp;version=c&amp;mr=m&amp;qw=q&amp;tp=txt_p&amp;tr=hb&amp;wget=v&amp;qget=v&amp;nget=vt\" title=\"2_Chronicles 27:5\" sec=\"2_Chronicles 27:5\">subs</a></span> <span class=\"gloss\">year</span> <span class=\"lex xft\"><span class=\"f\">lex=</span>CNH/</span></div>\n",
       "\n",
       "\n",
       "</div>\n",
       "\n",
       "<div class=\"word  hl\"  style=\"background-color: #ffcc5c;\" >\n",
       "<a href=\"#\" class=\"nd\">420263</a>\n",
       "<div class=\"h\"><a target=\"_blank\" href=\"https://shebanq.ancient-data.org/hebrew/word?version=c&amp;id=1H\" title=\"show this lexeme in SHEBANQ\">הַ</a></div>\n",
       "<div class=\"features\"> <span class=\"pdp\"><a href=\"https://shebanq.ancient-data.org/hebrew/text?book=Chronica_II&amp;chapter=27&amp;verse=5&amp;version=c&amp;mr=m&amp;qw=q&amp;tp=txt_p&amp;tr=hb&amp;wget=v&amp;qget=v&amp;nget=vt\" title=\"2_Chronicles 27:5\" sec=\"2_Chronicles 27:5\">art</a></span> <span class=\"gloss\">the</span> <span class=\"lex xft\"><span class=\"f\">lex=</span>H</span></div>\n",
       "\n",
       "\n",
       "</div>\n",
       "\n",
       "<div class=\"word  hl\"  style=\"background-color: #ffcc5c;\" >\n",
       "<a href=\"#\" class=\"nd\">420264</a>\n",
       "<div class=\"h\"><a target=\"_blank\" href=\"https://shebanq.ancient-data.org/hebrew/word?version=c&amp;id=1CNJn\" title=\"show this lexeme in SHEBANQ\">שֵּׁנִ֖ית </a></div>\n",
       "<div class=\"features\"> <span class=\"pdp\"><a href=\"https://shebanq.ancient-data.org/hebrew/text?book=Chronica_II&amp;chapter=27&amp;verse=5&amp;version=c&amp;mr=m&amp;qw=q&amp;tp=txt_p&amp;tr=hb&amp;wget=v&amp;qget=v&amp;nget=vt\" title=\"2_Chronicles 27:5\" sec=\"2_Chronicles 27:5\">adjv</a></span> <span class=\"gloss\">second</span> <span class=\"lex xft\"><span class=\"f\">lex=</span>CNJ/</span></div>\n",
       "\n",
       "\n",
       "</div>\n",
       "\n",
       "<div class=\"word  hl\"  style=\"background-color: #ffeead;\" >\n",
       "<a href=\"#\" class=\"nd\">420265</a>\n",
       "<div class=\"h\"><a target=\"_blank\" href=\"https://shebanq.ancient-data.org/hebrew/word?version=c&amp;id=1W\" title=\"show this lexeme in SHEBANQ\">וְ</a></div>\n",
       "<div class=\"features\"> <span class=\"pdp\"><a href=\"https://shebanq.ancient-data.org/hebrew/text?book=Chronica_II&amp;chapter=27&amp;verse=5&amp;version=c&amp;mr=m&amp;qw=q&amp;tp=txt_p&amp;tr=hb&amp;wget=v&amp;qget=v&amp;nget=vt\" title=\"2_Chronicles 27:5\" sec=\"2_Chronicles 27:5\">conj</a></span> <span class=\"gloss\">and</span> <span class=\"lex xft\"><span class=\"f\">lex=</span>W</span></div>\n",
       "\n",
       "\n",
       "</div>\n",
       "\n",
       "<div class=\"word  hl\"  style=\"background-color: #96ceb4;\" >\n",
       "<a href=\"#\" class=\"nd\">420266</a>\n",
       "<div class=\"h\"><a target=\"_blank\" href=\"https://shebanq.ancient-data.org/hebrew/word?version=c&amp;id=1H\" title=\"show this lexeme in SHEBANQ\">הַ</a></div>\n",
       "<div class=\"features\"> <span class=\"pdp\"><a href=\"https://shebanq.ancient-data.org/hebrew/text?book=Chronica_II&amp;chapter=27&amp;verse=5&amp;version=c&amp;mr=m&amp;qw=q&amp;tp=txt_p&amp;tr=hb&amp;wget=v&amp;qget=v&amp;nget=vt\" title=\"2_Chronicles 27:5\" sec=\"2_Chronicles 27:5\">art</a></span> <span class=\"gloss\">the</span> <span class=\"lex xft\"><span class=\"f\">lex=</span>H</span></div>\n",
       "\n",
       "\n",
       "</div>\n",
       "\n",
       "<div class=\"word  hl\"  style=\"background-color: #96ceb4;\" >\n",
       "<a href=\"#\" class=\"nd\">420267</a>\n",
       "<div class=\"h\"><a target=\"_blank\" href=\"https://shebanq.ancient-data.org/hebrew/word?version=c&amp;id=1CLJCJn\" title=\"show this lexeme in SHEBANQ\">שְּׁלִשִֽׁית׃ </a></div>\n",
       "<div class=\"features\"> <span class=\"pdp\"><a href=\"https://shebanq.ancient-data.org/hebrew/text?book=Chronica_II&amp;chapter=27&amp;verse=5&amp;version=c&amp;mr=m&amp;qw=q&amp;tp=txt_p&amp;tr=hb&amp;wget=v&amp;qget=v&amp;nget=vt\" title=\"2_Chronicles 27:5\" sec=\"2_Chronicles 27:5\">adjv</a></span> <span class=\"gloss\">third</span> <span class=\"lex xft\"><span class=\"f\">lex=</span>CLJCJ/</span></div>\n",
       "\n",
       "\n",
       "</div>\n",
       "\n",
       "\n",
       "    </div>\n",
       "\n",
       "\n",
       "</div>\n",
       "\n",
       "\n",
       "</div>\n"
      ],
      "text/plain": [
       "<IPython.core.display.HTML object>"
      ]
     },
     "metadata": {},
     "output_type": "display_data"
    },
    {
     "data": {
      "text/html": [
       "<div style=\"background: #96ceb4; text-align: center\">part2</div>"
      ],
      "text/plain": [
       "<IPython.core.display.HTML object>"
      ]
     },
     "metadata": {},
     "output_type": "display_data"
    },
    {
     "data": {
      "text/html": [
       "<div style=\"background: #ffeead; text-align: center\">conj</div>"
      ],
      "text/plain": [
       "<IPython.core.display.HTML object>"
      ]
     },
     "metadata": {},
     "output_type": "display_data"
    },
    {
     "data": {
      "text/html": [
       "<div style=\"background: #ffcc5c; text-align: center\">part1</div>"
      ],
      "text/plain": [
       "<IPython.core.display.HTML object>"
      ]
     },
     "metadata": {},
     "output_type": "display_data"
    },
    {
     "name": "stdout",
     "output_type": "stream",
     "text": [
      "{   '__cx__': 'coord',\n",
      "    'conj': {'__cx__': 'conj', 'head': 420265},\n",
      "    'part1': {   '__cx__': 'defi_ph',\n",
      "                 'art': {'__cx__': 'art', 'head': 420263},\n",
      "                 'head': {'__cx__': 'ordn', 'head': 420264}},\n",
      "    'part2': {   '__cx__': 'defi_ph',\n",
      "                 'art': {'__cx__': 'art', 'head': 420266},\n",
      "                 'head': {'__cx__': 'ordn', 'head': 420267}}}\n",
      "\n"
     ]
    },
    {
     "data": {
      "text/html": [
       "<hr>"
      ],
      "text/plain": [
       "<IPython.core.display.HTML object>"
      ]
     },
     "metadata": {},
     "output_type": "display_data"
    }
   ],
   "source": [
    "elements = [\n",
    "    cx for ph in list(phrase2cxs.values())\n",
    "        for cx in ph\n",
    "]\n",
    "\n",
    "test_search(\n",
    "    elements, \n",
    "    cxp.coord, \n",
    "    pattern='', \n",
    "    shuffle=False,\n",
    "    select=filt_gaps,\n",
    "    extraFeatures='lex',\n",
    ")"
   ]
  },
  {
   "cell_type": "code",
   "execution_count": null,
   "metadata": {},
   "outputs": [],
   "source": []
  }
 ],
 "metadata": {
  "kernelspec": {
   "display_name": "Python 3",
   "language": "python",
   "name": "python3"
  },
  "language_info": {
   "codemirror_mode": {
    "name": "ipython",
    "version": 3
   },
   "file_extension": ".py",
   "mimetype": "text/x-python",
   "name": "python",
   "nbconvert_exporter": "python",
   "pygments_lexer": "ipython3",
   "version": "3.7.3"
  }
 },
 "nbformat": 4,
 "nbformat_minor": 4
}
