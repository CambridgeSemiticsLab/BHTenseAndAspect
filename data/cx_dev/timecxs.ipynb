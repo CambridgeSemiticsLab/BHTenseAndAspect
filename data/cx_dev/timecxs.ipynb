{
 "cells": [
  {
   "cell_type": "markdown",
   "metadata": {},
   "source": [
    "# Composing Time Constructions\n",
    "\n",
    "The current method for isolating phrase heads ([here](https://nbviewer.jupyter.org/github/ETCBC/heads/blob/master/phrase_heads.ipynb)) requires strenuous and ineloquent processing of BHSA subphrase relations. The subphrases are not always consistently encoded and suffer from numerous exceptional cases. The result is that the method is rather convoluted and ineloquent.\n",
    "\n",
    "This notebook will explore the possibility of disconnecting semantic head analysis from the ETCBC subphrase encoding. \n",
    "\n",
    "A \"semantic\" head is the primary content word of a phrase, following Croft's \"Primary Information Bearing Unit\":\n",
    "\n",
    "> **The noun and the verb are the PRIMARY INFORMATION_BEARING UNITS (PIBUs) of the phrase and clause respectively. In common parlance, they are the content words. PIBUs have major informational content that functional elements such as articles and [auxiliaries] do not have. (Croft, *Radical Construction Grammar*, 2001, 258; see also Shead, *Radical Frame Semantics and Biblical Hebrew*, 104)**\n",
    "\n",
    "> **A (semantic) head is the profile equivalent that is the primary information-bearing unit, that is, the most contentful item that most closely profiles the same kind of thing that the whole constituent profiles. (ibid., 259)**\n",
    "\n",
    "Croft also provides an additional criterion to \"profile equivalence\":\n",
    "\n",
    "> **If the criterion of profile equivalence produces two candidates for headhood, the less schematic meaning is the PIBU; that is, the PIBU is the one with the narrower extension, in the formal semantic sense of that term (ibid., 259)**\n",
    "\n",
    "## Inquiry\n",
    "\n",
    "Can we isolate semantic phrase heads in BHSA using only the phrase_atom and phrase limits? This question indeed means that we  take the phrase_atom/phrase boundaries for granted. Empirically, the validity of BHSA phrase boundaries needs to be tested. But for now, the exercise of isolating semantic phrase heads could be seen as the first step towards reproducible phrase boundaries.\n",
    "\n",
    "## Basic Concepts\n",
    "\n",
    "A semantic head will most often stand in a syntactically independent position. For Hebrew nominal phrases, that essentially means a word which is not precided by a construct, and which is semantically central (excluding attributive slots (e.g. H + noun + H + ATTRIBUTIVE) or an adjectival slots (e.g. noun + noun as in אישׁ טוב).\n",
    "\n",
    "Quantifier expressions present unique cases, which may be syntactically independent but semantically secondary. These are expressed through specialized lexical items such as cardinal numbers and qualitative quantifiers (e.g.  \"כל\" and \"חצי\").\n",
    "\n",
    "Another complication is the use of nouns as prepositional items. Such uses can be seen with words like פני \"face\" such as לפני \"in front,\" and even words like ראשׁ as in ראשׁ החדשׁ \"beginning of the month.\" \n",
    "\n",
    "Other expressions of quantity, quality, and function provide similar complexities. These cases have to be specified in advance.\n",
    "\n",
    "### Ambiguity\n",
    "\n",
    "Considerable ambiguity is present in several of cases:\n",
    "\n",
    "**`A B and C`**<br>\n",
    "Given A, B, C == nominal words. Is their relationship `A // B // C` or `A+B // C`. In other words: **what is the relationship of two adjacent nominal words given a list?** Is B a descriptor of A or is it an independent element? \n",
    "\n",
    "**`A of B and C`**<br>\n",
    "Is it, `(A of B) // (C)` or `(A of (B // C)`\n",
    "\n",
    "Or even:\n",
    "\n",
    "**`A of B C and D`**<br>\n",
    "This pattern combines elements from both ambiguous cases.\n",
    "\n",
    "To address these ambiguities we will apply a battery of disambiguation attempts. Some of those attempts will draw from corpus data, i.e. do we ever see `B and C` with the conjunction explicitly elsewhere in the corpus? Or do we ever see a `A of C` excplicitly in the corpus? Accents may also play a role: do we see a conjunctive or disjunctive accent between `B C`? \n",
    "\n",
    "## Prerequisites\n",
    "\n",
    "A number of pre-defined word sets are needed for processing quantification and ambiguous adjacency. These sets are made available in the form of `wsets`, a dictionary containing word sets that are calculated in to the `wordsets` directory of this repository. The following wordsets have been defined:\n",
    "\n",
    "* nominals – a set of word nodes with parts of speech and participles that have the potential to function as nominalized elements. The selected parts of speech are quite permissive: `{'subs', 'nmpr', 'adjv', 'advb', 'prde', 'prps', 'prin', 'inrg'}`. Since parts of speech are not taken as universal linguistic categories but only summaries of language-specific word tendencies (cf. Croft, *Radical Construction Grammar*, 2001), we consider that almost any part of speech can be used in a nominal pattern (or construction). There are some upper limits to this assumption, though. For instance, we exclude cojunctions, articles, prepositions, and negators. \n",
    "* prepositions – a word set consisting of words with a part of speech category of `prep`, a lexical set (`ls`) feature of `ppre` (\"potential preposition\"), as well as a select group of nouns like פני \"face\" which have been processed for prepositionality. \n",
    "* quantifiers - consists of word nodes that are cardinal numbers or qualitative quantifiers such as כל.\n",
    "* mword – mapping from a word to its phonological word group (\"masoretic word\"); joins words on maqqeph and ø space\n",
    "* accent_type – a mapping from a word to its accent type: conjunctive or disjunctive\n",
    "* conj_pairs – a dict of observed conjunction pairings of lexemes in the corpus: `A & B`\n",
    "* cons_pairs – a dict of observed construct pairings of lexemes in the corpus: `A of B`\n",
    "* mom – mapping from word node to its mother word node for a specified relationship: `mom[A]['coord'] = B`\n",
    "* kid – opposite of mom; mapping from word to its children nodes for a relationship: `kid[A]['cons'] = B`\n",
    "\n",
    "**Let's get started**. We load the necessary functions and BHSA data (straight from source)."
   ]
  },
  {
   "cell_type": "code",
   "execution_count": 1,
   "metadata": {},
   "outputs": [
    {
     "name": "stdout",
     "output_type": "stream",
     "text": [
      "This is Text-Fabric 7.8.12\n",
      "Api reference : https://annotation.github.io/text-fabric/Api/Fabric/\n",
      "\n",
      "123 features found and 6 ignored\n",
      "  0.00s loading features ...\n",
      "   |     0.00s No structure info in otext, the structure part of the T-API cannot be used\n",
      "  7.74s All features loaded/computed - for details use loadLog()\n"
     ]
    },
    {
     "data": {
      "text/html": [
       "<style>\n",
       "@font-face {\n",
       "  font-family: \"Ezra SIL\";\n",
       "  src:\n",
       "    local(\"SILEOT.ttf\"),\n",
       "    url(\"https://github.com/annotation/text-fabric/blob/master/tf/server/static/fonts/SILEOT.woff?raw=true\");\n",
       "}\n",
       ".features {\n",
       "    font-family: monospace;\n",
       "    font-size: medium;\n",
       "    font-weight: bold;\n",
       "    color: #0a6611;\n",
       "    display: flex;\n",
       "    flex-flow: column nowrap;\n",
       "    padding: 0.1em;\n",
       "    margin: 0.1em;\n",
       "    direction: ltr;\n",
       "}\n",
       ".features div,.features span {\n",
       "    padding: 0;\n",
       "    margin: -0.1rem 0;\n",
       "}\n",
       ".features .f {\n",
       "    font-family: sans-serif;\n",
       "    font-size: x-small;\n",
       "    font-weight: normal;\n",
       "    color: #5555bb;\n",
       "}\n",
       ".features .xft {\n",
       "  color: #000000;\n",
       "  background-color: #eeeeee;\n",
       "  font-size: medium;\n",
       "  margin: 0.1em 0em;\n",
       "}\n",
       ".features .xft .f {\n",
       "  color: #000000;\n",
       "  background-color: #eeeeee;\n",
       "  font-style: italic;\n",
       "  font-size: small;\n",
       "  font-weight: normal;\n",
       "}\n",
       ".ltr {\n",
       "    direction: ltr ! important;\n",
       "}\n",
       ".verse {\n",
       "    display: flex;\n",
       "    flex-flow: row wrap;\n",
       "    direction: rtl;\n",
       "}\n",
       ".vl {\n",
       "    display: flex;\n",
       "    flex-flow: column nowrap;\n",
       "    justify-content: flex-end;\n",
       "    align-items: flex-end;\n",
       "    direction: ltr;\n",
       "    width: 100%;\n",
       "}\n",
       ".outeritem {\n",
       "    display: flex;\n",
       "    flex-flow: row wrap;\n",
       "    direction: rtl;\n",
       "}\n",
       ".sentence,.clause,.phrase {\n",
       "    margin-top: -1.2em;\n",
       "    margin-left: 1em;\n",
       "    background: #ffffff none repeat scroll 0 0;\n",
       "    padding: 0 0.3em;\n",
       "    border-style: solid;\n",
       "    border-radius: 0.2em;\n",
       "    font-size: small;\n",
       "    display: block;\n",
       "    width: fit-content;\n",
       "    max-width: fit-content;\n",
       "    direction: ltr;\n",
       "}\n",
       ".atoms {\n",
       "    display: flex;\n",
       "    flex-flow: row wrap;\n",
       "    margin: 0.3em;\n",
       "    padding: 0.3em;\n",
       "    direction: rtl;\n",
       "    background-color: #ffffff;\n",
       "}\n",
       ".satom,.catom,.patom {\n",
       "    margin: 0.3em;\n",
       "    padding: 0.3em;\n",
       "    border-radius: 0.3em;\n",
       "    border-style: solid;\n",
       "    display: flex;\n",
       "    flex-flow: column nowrap;\n",
       "    direction: rtl;\n",
       "    background-color: #ffffff;\n",
       "}\n",
       ".sentence {\n",
       "    border-color: #aa3333;\n",
       "    border-width: 1px;\n",
       "}\n",
       ".clause {\n",
       "    border-color: #aaaa33;\n",
       "    border-width: 1px;\n",
       "}\n",
       ".phrase {\n",
       "    border-color: #33aaaa;\n",
       "    border-width: 1px;\n",
       "}\n",
       ".satom {\n",
       "    border-color: #aa3333;\n",
       "    border-width: 4px;\n",
       "}\n",
       ".catom {\n",
       "    border-color: #aaaa33;\n",
       "    border-width: 3px;\n",
       "}\n",
       ".patom {\n",
       "    border-color: #33aaaa;\n",
       "    border-width: 3px;\n",
       "}\n",
       ".word {\n",
       "    padding: 0.1em;\n",
       "    margin: 0.1em;\n",
       "    border-radius: 0.1em;\n",
       "    border: 1px solid #cccccc;\n",
       "    display: flex;\n",
       "    flex-flow: column nowrap;\n",
       "    direction: rtl;\n",
       "    background-color: #ffffff;\n",
       "}\n",
       ".lextp {\n",
       "    padding: 0.1em;\n",
       "    margin: 0.1em;\n",
       "    border-radius: 0.1em;\n",
       "    border: 2px solid #888888;\n",
       "    width: fit-content;\n",
       "    display: flex;\n",
       "    flex-flow: column nowrap;\n",
       "    direction: rtl;\n",
       "    background-color: #ffffff;\n",
       "}\n",
       ".occs {\n",
       "    font-size: x-small;\n",
       "}\n",
       ".satom.l,.catom.l,.patom.l {\n",
       "    border-left-style: dotted\n",
       "}\n",
       ".satom.r,.catom.r,.patom.r {\n",
       "    border-right-style: dotted\n",
       "}\n",
       ".satom.lno,.catom.lno,.patom.lno {\n",
       "    border-left-style: none\n",
       "}\n",
       ".satom.rno,.catom.rno,.patom.rno {\n",
       "    border-right-style: none\n",
       "}\n",
       ".tr,.tr a:visited,.tr a:link {\n",
       "    font-family: sans-serif;\n",
       "    font-size: large;\n",
       "    color: #000044;\n",
       "    direction: ltr;\n",
       "    text-decoration: none;\n",
       "}\n",
       ".trb,.trb a:visited,.trb a:link {\n",
       "    font-family: sans-serif;\n",
       "    font-size: normal;\n",
       "    direction: ltr;\n",
       "    text-decoration: none;\n",
       "}\n",
       ".prb,.prb a:visited,.prb a:link {\n",
       "    font-family: sans-serif;\n",
       "    font-size: large;\n",
       "    direction: ltr;\n",
       "    text-decoration: none;\n",
       "}\n",
       ".h,.h a:visited,.h a:link {\n",
       "    font-family: \"Ezra SIL\", \"SBL Hebrew\", sans-serif;\n",
       "    font-size: large;\n",
       "    color: #000044;\n",
       "    direction: rtl;\n",
       "    text-decoration: none;\n",
       "}\n",
       ".hb,.hb a:visited,.hb a:link {\n",
       "    font-family: \"Ezra SIL\", \"SBL Hebrew\", sans-serif;\n",
       "    font-size: large;\n",
       "    line-height: 2;\n",
       "    direction: rtl;\n",
       "    text-decoration: none;\n",
       "}\n",
       ".vn {\n",
       "  font-size: small !important;\n",
       "  padding-right: 1em;\n",
       "}\n",
       ".rela,.function,.typ {\n",
       "    font-family: monospace;\n",
       "    font-size: small;\n",
       "    color: #0000bb;\n",
       "}\n",
       ".pdp,.pdp a:visited,.pdp a:link {\n",
       "    font-family: monospace;\n",
       "    font-size: medium;\n",
       "    color: #0000bb;\n",
       "    text-decoration: none;\n",
       "}\n",
       ".voc_lex {\n",
       "    font-family: monospace;\n",
       "    font-size: medium;\n",
       "    color: #0000bb;\n",
       "}\n",
       ".vs {\n",
       "    font-family: monospace;\n",
       "    font-size: medium;\n",
       "    font-weight: bold;\n",
       "    color: #0000bb;\n",
       "}\n",
       ".vt {\n",
       "    font-family: monospace;\n",
       "    font-size: medium;\n",
       "    font-weight: bold;\n",
       "    color: #0000bb;\n",
       "}\n",
       ".gloss {\n",
       "    font-family: sans-serif;\n",
       "    font-size: small;\n",
       "    font-weight: normal;\n",
       "    color: #444444;\n",
       "}\n",
       ".vrs {\n",
       "    font-family: sans-serif;\n",
       "    font-size: small;\n",
       "    font-weight: bold;\n",
       "    color: #444444;\n",
       "}\n",
       ".nd {\n",
       "    font-family: monospace;\n",
       "    font-size: x-small;\n",
       "    color: #999999;\n",
       "}\n",
       ".hl {\n",
       "    background-color: #ffee66;\n",
       "}\n",
       "\n",
       "tr.tf, td.tf, th.tf {\n",
       "  text-align: left;\n",
       "}\n",
       "\n",
       "span.hldot {\n",
       "\tbackground-color: var(--hl-strong);\n",
       "\tborder: 0.2rem solid var(--hl-rim);\n",
       "\tborder-radius: 0.4rem;\n",
       "\t/*\n",
       "\tdisplay: inline-block;\n",
       "\twidth: 0.8rem;\n",
       "\theight: 0.8rem;\n",
       "\t*/\n",
       "}\n",
       "span.hl {\n",
       "\tbackground-color: var(--hl-strong);\n",
       "\tborder-width: 0;\n",
       "\tborder-radius: 0.1rem;\n",
       "\tborder-style: solid;\n",
       "}\n",
       "\n",
       "span.hlup {\n",
       "\tborder-color: var(--hl-dark);\n",
       "\tborder-width: 0.1rem;\n",
       "\tborder-style: solid;\n",
       "\tborder-radius: 0.2rem;\n",
       "  padding: 0.2rem;\n",
       "}\n",
       "\n",
       ":root {\n",
       "\t--hl-strong:        hsla( 60, 100%,  70%, 0.9  );\n",
       "\t--hl-rim:           hsla( 55, 100%,  60%, 0.9  );\n",
       "\t--hl-dark:          hsla( 55, 100%,  40%, 0.9  );\n",
       "}\n",
       "</style>"
      ],
      "text/plain": [
       "<IPython.core.display.HTML object>"
      ]
     },
     "metadata": {},
     "output_type": "display_data"
    }
   ],
   "source": [
    "import sys\n",
    "import collections\n",
    "import pickle\n",
    "import random\n",
    "import re\n",
    "import itertools\n",
    "import copy\n",
    "from IPython.display import display, HTML\n",
    "from datetime import datetime\n",
    "from pprint import pprint\n",
    "from tf.app import use\n",
    "from tf.fabric import Fabric\n",
    "from tools.locations import data_locations\n",
    "\n",
    "# load custom wordsets\n",
    "wsets = pickle.load(open('wordsets/wsets.pickle', 'rb'))\n",
    "\n",
    "# load custom BHSA data + heads\n",
    "TF = Fabric(locations=data_locations.values())\n",
    "load_features = ['g_cons_utf8', 'trailer_utf8', 'label', 'lex',\n",
    "                 'role', 'rela', 'typ', 'function', 'language',\n",
    "                 'pdp', 'gloss', 'vs', 'vt', 'nhead', 'head', \n",
    "                 'mother', 'nu', 'prs', 'sem_set', 'ls', 'st',\n",
    "                 'kind', 'top_assoc', 'number', 'obj_prep',\n",
    "                 'embed', 'freq_lex', 'sp']\n",
    "api = TF.load(' '.join(load_features))\n",
    "F, E, T, L = api.F, api.E, api.T, api.L # shortform TF methods\n",
    "\n",
    "A = use('bhsa', api=api, silent=True)\n",
    "A.displaySetup(condenseType='phrase', withNodes=True, extraFeatures='st')"
   ]
  },
  {
   "cell_type": "markdown",
   "metadata": {},
   "source": [
    "### Wordsets"
   ]
  },
  {
   "cell_type": "code",
   "execution_count": 2,
   "metadata": {},
   "outputs": [
    {
     "data": {
      "text/plain": [
       "dict_keys(['noms', 'preps', 'quants', 'accent_type', 'mwords', 'conj_pairs', 'cons_pairs'])"
      ]
     },
     "execution_count": 2,
     "metadata": {},
     "output_type": "execute_result"
    }
   ],
   "source": [
    "wsets.keys()"
   ]
  },
  {
   "cell_type": "code",
   "execution_count": 3,
   "metadata": {},
   "outputs": [
    {
     "data": {
      "text/plain": [
       "['>JC/', 'KL/', 'BN/', 'TPF[', 'MZBX/', 'B>R/', '<T/', 'XRB/', 'RWX/', 'MLK/']"
      ]
     },
     "execution_count": 3,
     "metadata": {},
     "output_type": "execute_result"
    }
   ],
   "source": [
    "list(wsets['cons_pairs'].keys())[:10]"
   ]
  },
  {
   "cell_type": "code",
   "execution_count": 4,
   "metadata": {},
   "outputs": [],
   "source": [
    "#wsets['conj_pairs']['>JC/']"
   ]
  },
  {
   "cell_type": "markdown",
   "metadata": {},
   "source": [
    "# Machinery\n",
    "\n",
    "We could use some machinery to do the hard work of looking in and around a node. In the older approach we used TF search templates. But these are not very efficient at scale, and they are always bound by the limits of the query language. I take another approach here: a set of classes that specify locations and directions within a specified context."
   ]
  },
  {
   "cell_type": "code",
   "execution_count": 5,
   "metadata": {},
   "outputs": [],
   "source": [
    "from tools.langtools import Positions, Walker, Dummy"
   ]
  },
  {
   "cell_type": "markdown",
   "metadata": {},
   "source": [
    "## `Positions`"
   ]
  },
  {
   "cell_type": "markdown",
   "metadata": {},
   "source": [
    "The `Positions` class enables concise access to adjacent nodes within a given context. This allows us to write algorithms with query-like efficiency with all of the power of Python. "
   ]
  },
  {
   "cell_type": "markdown",
   "metadata": {},
   "source": [
    "This class is instantiated on a word node and can provide contextual look-up data for a given word. For example, given a phrase containing the following word nodes:\n",
    "\n",
    "> (189681, 189682, **189683**, 189684, 189685, 189686) <br>\n",
    "\n",
    "representing the following phrase (space separated for clarity):\n",
    "\n",
    "> ב שׁנת **שׁלשׁים** ו שׁמנה שׁנה\n",
    "\n",
    "Given that the bolded node, `189683` is our `source` word, we instantiate the class, feeding in the node, the \"phrase_atom\" string (which is the context we want to search within), and an instance of Text-Fabric (`tf`):"
   ]
  },
  {
   "cell_type": "code",
   "execution_count": 6,
   "metadata": {},
   "outputs": [],
   "source": [
    "      #    source node    context  TF instance  \n",
    "      #         |            |       |\n",
    "P = Positions(189683, 'phrase_atom', A).get"
   ]
  },
  {
   "cell_type": "markdown",
   "metadata": {},
   "source": [
    "If we want to obtain the word adjacent one space forward, we simply ask `P` for `1`, which gives us the next word in the phrase."
   ]
  },
  {
   "cell_type": "code",
   "execution_count": 7,
   "metadata": {},
   "outputs": [
    {
     "data": {
      "text/plain": [
       "189684"
      ]
     },
     "execution_count": 7,
     "metadata": {},
     "output_type": "execute_result"
    }
   ],
   "source": [
    "P(1)"
   ]
  },
  {
   "cell_type": "markdown",
   "metadata": {},
   "source": [
    "If we try to ask for 4 words forward, we go beyond the bounds of the phrase. But `P` handles this by returning nothing:"
   ]
  },
  {
   "cell_type": "code",
   "execution_count": 8,
   "metadata": {},
   "outputs": [],
   "source": [
    "P(4)"
   ]
  },
  {
   "cell_type": "markdown",
   "metadata": {},
   "source": [
    "To look back one word, we simply give a negative value:"
   ]
  },
  {
   "cell_type": "code",
   "execution_count": 9,
   "metadata": {},
   "outputs": [
    {
     "data": {
      "text/plain": [
       "189682"
      ]
     },
     "execution_count": 9,
     "metadata": {},
     "output_type": "execute_result"
    }
   ],
   "source": [
    "P(-1)"
   ]
  },
  {
   "cell_type": "markdown",
   "metadata": {},
   "source": [
    "Finally, `P` can be used to quickly call features on these words. For instance, in order to get the lexeme of the word two words in front of `189683`:"
   ]
  },
  {
   "cell_type": "code",
   "execution_count": 10,
   "metadata": {},
   "outputs": [
    {
     "data": {
      "text/plain": [
       "'CMNH/'"
      ]
     },
     "execution_count": 10,
     "metadata": {},
     "output_type": "execute_result"
    }
   ],
   "source": [
    "P(2,'lex')"
   ]
  },
  {
   "cell_type": "markdown",
   "metadata": {},
   "source": [
    "And if we want to get a number of features, we can just add other features to the arguments. The result is a feature set:"
   ]
  },
  {
   "cell_type": "code",
   "execution_count": 11,
   "metadata": {},
   "outputs": [
    {
     "data": {
      "text/plain": [
       "{'CMNH/', 'sg'}"
      ]
     },
     "execution_count": 11,
     "metadata": {},
     "output_type": "execute_result"
    }
   ],
   "source": [
    "P(2, 'lex', 'nu')"
   ]
  },
  {
   "cell_type": "markdown",
   "metadata": {},
   "source": [
    "`P` can also handle features on the source node itself by giving a positionality of `0`:"
   ]
  },
  {
   "cell_type": "code",
   "execution_count": 12,
   "metadata": {},
   "outputs": [
    {
     "data": {
      "text/plain": [
       "'CLC/'"
      ]
     },
     "execution_count": 12,
     "metadata": {},
     "output_type": "execute_result"
    }
   ],
   "source": [
    "P(0, 'lex')"
   ]
  },
  {
   "cell_type": "markdown",
   "metadata": {},
   "source": [
    "## `Walker`\n",
    "\n",
    "`Walker` performs a similar function to `Positions`, except it is ambiguous to exact positions, walking either `ahead` or `back` from the source to a target node in the context. A function must be supplied that returns `True` on the target node.\n",
    "\n",
    "We instantiate the `Walker` using the same source and context as above."
   ]
  },
  {
   "cell_type": "code",
   "execution_count": 13,
   "metadata": {},
   "outputs": [],
   "source": [
    "      #  source node    context  TF instance  \n",
    "      #       |            |       |\n",
    "Wk = Walker(189683, 'phrase_atom', A)"
   ]
  },
  {
   "cell_type": "markdown",
   "metadata": {},
   "source": [
    "`Walker` is demonstrated below with the same word. A simple `lambda` function is used to test for the lexeme. In the example below, we find the first word ahead of `189683` that is a cardinal number:"
   ]
  },
  {
   "cell_type": "code",
   "execution_count": 14,
   "metadata": {},
   "outputs": [
    {
     "data": {
      "text/plain": [
       "189685"
      ]
     },
     "execution_count": 14,
     "metadata": {},
     "output_type": "execute_result"
    }
   ],
   "source": [
    "Wk.ahead(lambda w: F.ls.v(w) == 'card')"
   ]
  },
  {
   "cell_type": "markdown",
   "metadata": {},
   "source": [
    "An alternative demonstrates the `None` returned on the lack of a valid match."
   ]
  },
  {
   "cell_type": "code",
   "execution_count": 15,
   "metadata": {},
   "outputs": [],
   "source": [
    "Wk.ahead(lambda w: F.ls.v(w) == 'BOOGABOOGA')"
   ]
  },
  {
   "cell_type": "markdown",
   "metadata": {},
   "source": [
    "Another example wherein we walk backwards to the preposition:"
   ]
  },
  {
   "cell_type": "code",
   "execution_count": 16,
   "metadata": {},
   "outputs": [
    {
     "data": {
      "text/plain": [
       "189681"
      ]
     },
     "execution_count": 16,
     "metadata": {},
     "output_type": "execute_result"
    }
   ],
   "source": [
    "Wk.back(lambda w: F.sp.v(w) == 'prep')"
   ]
  },
  {
   "cell_type": "markdown",
   "metadata": {},
   "source": [
    "We can also specify that the walk should be interrupted under certain conditions with a `stop` function. In this case we walk forward to the next cardinal number, but the walk is interrupted when the `stop` function detects a conjunction."
   ]
  },
  {
   "cell_type": "code",
   "execution_count": 17,
   "metadata": {},
   "outputs": [],
   "source": [
    "Wk.ahead(lambda w: F.ls.v(w) == 'card',\n",
    "         stop=lambda w: F.sp.v(w) == 'conj')"
   ]
  },
  {
   "cell_type": "markdown",
   "metadata": {},
   "source": [
    "We can also specify the opposite with a `go` function argument, which defines the nodes that allowed to intervene between `source` and `target`. Below we specify that *only* a conjunction should intervene."
   ]
  },
  {
   "cell_type": "code",
   "execution_count": 18,
   "metadata": {},
   "outputs": [
    {
     "data": {
      "text/plain": [
       "189685"
      ]
     },
     "execution_count": 18,
     "metadata": {},
     "output_type": "execute_result"
    }
   ],
   "source": [
    "Wk.ahead(lambda w: F.ls.v(w) == 'card',\n",
    "         go=lambda w: F.sp.v(w) == 'conj')"
   ]
  },
  {
   "cell_type": "markdown",
   "metadata": {},
   "source": [
    "The `go` and `stop` functions can be as permissive or strict as desired.\n",
    "\n",
    "Finally, we can tell `Walker` that the output of the validation function should be returned instead of the node itself with the optional argument `output=True`:"
   ]
  },
  {
   "cell_type": "code",
   "execution_count": 19,
   "metadata": {},
   "outputs": [
    {
     "data": {
      "text/plain": [
       "'card'"
      ]
     },
     "execution_count": 19,
     "metadata": {},
     "output_type": "execute_result"
    }
   ],
   "source": [
    "val_funct = lambda w: F.ls.v(w) if F.ls.v(w)=='card' else None\n",
    "\n",
    "Wk.ahead(val_funct, output=True)"
   ]
  },
  {
   "cell_type": "markdown",
   "metadata": {},
   "source": [
    "This ability is useful for certain tests."
   ]
  },
  {
   "cell_type": "markdown",
   "metadata": {},
   "source": [
    "## `Dummy`\n",
    "\n",
    "When writing conditions and logic, we want an object that passively receives `NoneType`s or zero `int`s without throwing errors. Such an object should also return `None` to reflect its `False` value. `Dummy`, provides such functionality. `Dummy` can receive all of the arguments, kwargs, and function calls as a `Positions` or `Walker` object. But it returns absolutely nothing. Ouch."
   ]
  },
  {
   "cell_type": "code",
   "execution_count": 20,
   "metadata": {},
   "outputs": [],
   "source": [
    "D = Dummy(None, 'phrase_atom', A)"
   ]
  },
  {
   "cell_type": "markdown",
   "metadata": {},
   "source": [
    "The function call below returns `None`:"
   ]
  },
  {
   "cell_type": "code",
   "execution_count": 21,
   "metadata": {},
   "outputs": [],
   "source": [
    "D.get(1)"
   ]
  },
  {
   "cell_type": "markdown",
   "metadata": {},
   "source": [
    "As does this:"
   ]
  },
  {
   "cell_type": "code",
   "execution_count": 22,
   "metadata": {},
   "outputs": [],
   "source": [
    "D.get(1, 'lex')"
   ]
  },
  {
   "cell_type": "markdown",
   "metadata": {},
   "source": [
    "And even this:"
   ]
  },
  {
   "cell_type": "code",
   "execution_count": 23,
   "metadata": {},
   "outputs": [],
   "source": [
    "D.ahead(1)"
   ]
  },
  {
   "cell_type": "markdown",
   "metadata": {},
   "source": [
    "`D` is essentially a souless void that consumes whatever you throw at it and gives nothing in return."
   ]
  },
  {
   "cell_type": "markdown",
   "metadata": {},
   "source": [
    "For safe-calls on a `Position` or `Walker` object, assign nodes to it via a function with a `Dummy` given on null nodes:"
   ]
  },
  {
   "cell_type": "code",
   "execution_count": 24,
   "metadata": {},
   "outputs": [],
   "source": [
    "def getPos(node, context, tf):\n",
    "    \"\"\"A function to get Positions safely.\"\"\"\n",
    "    if node:\n",
    "        return Positions(node, context, tf)\n",
    "    else:\n",
    "        return Dummy() # <- give dummy on empty node"
   ]
  },
  {
   "cell_type": "markdown",
   "metadata": {},
   "source": [
    "So:"
   ]
  },
  {
   "cell_type": "code",
   "execution_count": 25,
   "metadata": {},
   "outputs": [],
   "source": [
    "P = getPos(None, 'phrase_atom', A)\n",
    "P.get(1)"
   ]
  },
  {
   "cell_type": "markdown",
   "metadata": {},
   "source": [
    "Or:"
   ]
  },
  {
   "cell_type": "code",
   "execution_count": 26,
   "metadata": {},
   "outputs": [
    {
     "data": {
      "text/plain": [
       "2"
      ]
     },
     "execution_count": 26,
     "metadata": {},
     "output_type": "execute_result"
    }
   ],
   "source": [
    "P = getPos(1, 'phrase_atom', A)\n",
    "P.get(1)"
   ]
  },
  {
   "cell_type": "markdown",
   "metadata": {},
   "source": [
    "# Need for Semantic Data\n",
    "\n",
    "The accurate processing of word connections depends on fuller semantic data than BHSA provides. Future semantic data could be stored in a similar way to word sets (`wsets`). \n",
    "\n",
    "For example, in the two phrases\n",
    "\n",
    "> (Exod 25:39) ככר זהב טהור <br>\n",
    "> (2 Sam 24:24) בכסף שקלים חמשׁים\n",
    "\n",
    "we see that זהב and כסף, despite being in two different positions with two different words indicates a kind of \"composed of\" semantic concept: \"round gold\" (i.e. round composed of gold) and \"silver shekels\" (shekels composed of silver). To process these kinds of links, we need a list of nouns that often function as \"material.\" But this is only the beginning. Many other words will have specific semantic values that motivate their syntactic behavior. Such a scope lies outside the bounds of this author's current project on Hebrew time phrases.\n",
    "\n",
    "## A Compromise: Time Phrases\n",
    "\n",
    "Since constructing these semantic classes is vastly time consuming, I want to start with a smaller set of cases. I will instead focus on parsing connections within time phrases for now. This is because I am analyzing time phrases in my current ongoing PhD project. "
   ]
  },
  {
   "cell_type": "code",
   "execution_count": 27,
   "metadata": {},
   "outputs": [],
   "source": [
    "def disjoint(ph):\n",
    "    \"\"\"Isolate phrases with gaps.\"\"\"\n",
    "    ph = L.d(ph,'word')\n",
    "    for w in ph:\n",
    "        if ph[-1] == w:\n",
    "            break\n",
    "        elif (ph[ph.index(w)+1] - w) > 1:\n",
    "            return True"
   ]
  },
  {
   "cell_type": "code",
   "execution_count": 28,
   "metadata": {},
   "outputs": [
    {
     "name": "stdout",
     "output_type": "stream",
     "text": [
      "2102 phrases ready\n"
     ]
    }
   ],
   "source": [
    "alltimes = [\n",
    "    ph for ph in F.otype.s('timephrase') \n",
    "        if len(L.d(ph, 'word')) > 2\n",
    "]\n",
    "    \n",
    "timephrases = [ph for ph in alltimes if not disjoint(ph)]\n",
    "\n",
    "print(f'{len(timephrases)} phrases ready')"
   ]
  },
  {
   "cell_type": "markdown",
   "metadata": {},
   "source": [
    "## Search & Display Functions\n",
    "\n",
    "The functions below allow for fast searching and displaying of queries using the `Positions` class. The searches rely on the `Grammar` class, described further below."
   ]
  },
  {
   "cell_type": "code",
   "execution_count": 29,
   "metadata": {},
   "outputs": [],
   "source": [
    "def pretty(obj, condense='phrase', **kwargs):\n",
    "    \"\"\"Show a linguistic object that is not native to TF app.\"\"\"\n",
    "    index = kwargs.get('index')\n",
    "    kwargs = {k:v for k,v in kwargs.items() if k not in {'index'}}\n",
    "    show = L.d(obj, condense) if index is None else (L.d(obj, condense)[index],)\n",
    "    print(show, not index, index)\n",
    "    A.prettyTuple(show, seq=kwargs.get('seq', obj), **kwargs)\n",
    "\n",
    "def prettyconds(cases):\n",
    "    '''\n",
    "    Iterate through an explain dict for a rela\n",
    "    and print out all of checked conditions.\n",
    "    '''\n",
    "    for case in cases:\n",
    "        print('cnds:')\n",
    "        for cond, value in case['conds'].items():\n",
    "            print('{:<30} {:>30}'.format(cond, str(value)))\n",
    "        \n",
    "        print()\n",
    "        \n",
    "def showmatch(cx):\n",
    "    '''\n",
    "    Displays a match from a Grammar test.\n",
    "    '''\n",
    "    showcontext = tuple(set(L.u(s, 'phrase')[0] for s in cx.slots))\n",
    "    timephrase = L.u(list(cx.slots)[0], 'timephrase')[0]\n",
    "        \n",
    "    if not cx:\n",
    "        print('NO MATCHES')\n",
    "        print('-'*20)\n",
    "        A.prettyTuple(showcontext, extraFeatures='sp st', withNodes=True, seq=f'{timephrase} -> {cx}')\n",
    "        #prettyconds(cx.conds)\n",
    "        return None\n",
    "\n",
    "    colors = itertools.cycle(['pink', 'lightblue', \n",
    "                              'yellow', 'lightgreen'])\n",
    "    highlights = {}\n",
    "    role2color = {}\n",
    "    \n",
    "    for role, slots in cx.role2slots.items():\n",
    "        color = next(colors)\n",
    "        role2color[role] = color\n",
    "        for slot in slots:\n",
    "            highlights[slot] = color\n",
    "    \n",
    "    A.prettyTuple(\n",
    "        showcontext, \n",
    "        extraFeatures='sp st', \n",
    "        withNodes=True, \n",
    "        seq=f'{timephrase} -> {cx}', \n",
    "        highlights=highlights\n",
    "    )\n",
    "    # reveal color meanings\n",
    "    for role,color in role2color.items():\n",
    "        colmean = '<div style=\"background: {}; text-align: center\">{}</div>'.format(color, role)\n",
    "        display(HTML(colmean))\n",
    "    \n",
    "    pprint(cx.unfoldroles(), indent=4)\n",
    "    print()\n",
    "    \n",
    "    prettyconds(cx.cases)\n",
    "    display(HTML('<hr>'))\n",
    "        \n",
    "def test_search(cxtest, show=10, end=None, pattern=''):\n",
    "    '''\n",
    "    Searches phrases with the specified relation \n",
    "    and prints out their descriptive explanation.\n",
    "    '''\n",
    "    \n",
    "    start = datetime.now()\n",
    "    print('beginning search')\n",
    "    \n",
    "    # build a convenient test set of words\n",
    "    phrases = list(F.otype.s('timephrase'))\n",
    "    words = [w for ph in phrases for w in L.d(ph, 'word')]\n",
    "    \n",
    "    # random shuffle to get good diversity of examples\n",
    "    random.shuffle(words)\n",
    "    \n",
    "    # set up grammar\n",
    "    G = NounConstructions(wsets, A)\n",
    "    \n",
    "    matches = []\n",
    "    append = matches.append\n",
    "    \n",
    "    # iterate and find matches on words\n",
    "    for i,w in enumerate(words):\n",
    "\n",
    "        # update every 5000 iterations\n",
    "        if i%5000 == 0:\n",
    "            print(f'\\t{len(matches)} found ({i}/{len(words)})')\n",
    "        \n",
    "        # run test for construction\n",
    "        test = cxtest(w)\n",
    "        \n",
    "        # save results\n",
    "        if test:\n",
    "            if pattern:\n",
    "                if test.pattern == pattern:\n",
    "                    append(test)\n",
    "            else:\n",
    "                append(test)\n",
    "            \n",
    "        # stop at end\n",
    "        if len(matches) == end:\n",
    "            break\n",
    "        \n",
    "    # display\n",
    "    print('done at', datetime.now() - start)\n",
    "    print(len(matches), 'matches found...')\n",
    "    print('showing', end)\n",
    "    \n",
    "    for match in matches[:show]:\n",
    "        showmatch(match)"
   ]
  },
  {
   "cell_type": "markdown",
   "metadata": {},
   "source": [
    "## Constructions classes\n",
    "\n",
    "While `Positions` provides concise access to context, A `Constructions` class contains a series of functions which test a bunch of conditions. The conditions are formed by testing word `Positions`. An example of a `Constructions` class is provided below."
   ]
  },
  {
   "cell_type": "code",
   "execution_count": 86,
   "metadata": {},
   "outputs": [],
   "source": [
    "class Bunch(object):\n",
    "    \"\"\"Stores variables for shorthand and safe access.\"\"\"\n",
    "    def __init__(self, vardict):\n",
    "        \"\"\"Initialize variables object with dict.\"\"\"\n",
    "        self.dict = vardict\n",
    "        for k,v in vardict.items():\n",
    "            setattr(self, k, v)\n",
    "    def __getattr__(self, name):\n",
    "        return None\n",
    "    def __deepcopy__(self, memo=None):\n",
    "        \"\"\"Handle deep copy errors by instancing a diff Bunch object.\"\"\"\n",
    "        return Bunch({k:v for k,v in self.dict.items()})\n",
    "    \n",
    "class Construction(object):\n",
    "    \"\"\"A linguistic construction and its attributes.\"\"\"\n",
    "    \n",
    "    def __init__(self, **specs):\n",
    "        \"\"\"Initialize construction item.\n",
    "        \n",
    "        **specs:\n",
    "            name: A name for the construction.\n",
    "            roles: A dict which maps roles\n",
    "                to either another Construction item\n",
    "                or to a Text-Fabric word node.\n",
    "            cases: A tuple containing condition dicts\n",
    "                that were evaluated when processing this\n",
    "                Construction. Key is string containing condition,\n",
    "                value is Boolean.\n",
    "            conds: A condition dict containing all of the\n",
    "                conditions that evaluated to True to validate\n",
    "                this Construction.\n",
    "        \"\"\"\n",
    "        self.match = specs.get('match', {})\n",
    "        self.name = specs.get('name', '')\n",
    "        self.pattern = specs.get('pattern', specs.get('name', ''))\n",
    "        self.roles = Bunch(specs.get('roles', {}))\n",
    "        self.conds = specs.get('conds', {})\n",
    "        self.cases = specs.get('cases', tuple())\n",
    "        self.indexslots()\n",
    "        \n",
    "    def __bool__(self):\n",
    "        if self.match:\n",
    "            return True\n",
    "        else:\n",
    "            return False\n",
    "        \n",
    "    def __str__(self):\n",
    "        if self:\n",
    "            return f'CX {self.name} {self.slots}'\n",
    "        else:\n",
    "            return ''\n",
    "        \n",
    "    def __repr__(self):\n",
    "        if self:\n",
    "            return f'CX {self.name} {self.slots}'\n",
    "        else:\n",
    "            return ''\n",
    "            \n",
    "    def mapslots(self, rolesdict, rolename=None):\n",
    "        \"\"\"Recursively map all slots to top embedding role name.\n",
    "\n",
    "        Match items contain a roles key which can contain\n",
    "        any number of other match items. This function maps\n",
    "        all constituent words (Text-Fabric \"slots\") to their\n",
    "        top-level linguistic unit (linguistic role).\n",
    "        \"\"\"\n",
    "        for role, item in rolesdict.items():\n",
    "            if type(item) == Construction:\n",
    "                self.mapslots(\n",
    "                    item.roles.dict,\n",
    "                    rolename=rolename or role\n",
    "                )\n",
    "            elif type(item) == int:\n",
    "                self.role2slots[rolename or role].add(item)\n",
    "                self.slots.add(item)\n",
    "\n",
    "    def indexslots(self):\n",
    "        \"\"\"Indexes slots contained in this CX.\"\"\"\n",
    "        self.role2slots = collections.defaultdict(set)\n",
    "        self.slots = set()\n",
    "        self.mapslots(self.roles.dict)\n",
    "        self.slots = set(sorted(self.slots)) # sort slots\n",
    "        self.slots2role = {\n",
    "            tuple(sorted(slots)):role \n",
    "                for role, slots in self.role2slots.items()\n",
    "        }\n",
    "                \n",
    "    def updaterole(self, role, item):\n",
    "        \"\"\"Updates the role.\"\"\"\n",
    "        setattr(self.roles, role, item)\n",
    "        self.roles.dict[role] = item\n",
    "        self.indexslots()\n",
    "            \n",
    "    def getslotrole(self, slot):\n",
    "        \"\"\"Returns the role to which a slot belongs to.\"\"\"\n",
    "        for role, slots in self.role2slots.items():\n",
    "            if slot in slots:\n",
    "                return role\n",
    "    \n",
    "    def unfoldroles(self, cx=None):\n",
    "        \"\"\"Return all contained construction roles as a dict.\n",
    "\n",
    "        Recursively calls down into construction objects to convert\n",
    "        to role.dict with TF slots.\n",
    "        \"\"\"\n",
    "        cx = cx or self\n",
    "        roledict={}\n",
    "        roledict['__cx__'] = cx.name\n",
    "        for role, item in cx.roles.dict.items():\n",
    "            if type(item) == Construction :\n",
    "                roledict[role] = self.unfoldroles(item)\n",
    "            elif type(item) == int:\n",
    "                roledict[role] = item\n",
    "        return roledict\n",
    "    \n",
    "    def unfoldcxs(self, cx=None):\n",
    "        \"\"\"Return all contained constructions with flattened structure.\n",
    "        \n",
    "        Recursively calls down into construction objects and yields them.\n",
    "        \"\"\"\n",
    "        cx = cx or self\n",
    "        yield cx\n",
    "        for role, item in cx.roles.dict.items():\n",
    "            if type(item) == Construction :\n",
    "                yield from self.unfoldcxs(item)\n",
    "                \n",
    "    def unfoldcxpath(self, slots):\n",
    "        \"\"\"Return all contained constructions along a path.\n",
    "\n",
    "        Recursively calls down into construction objects and yields them.\n",
    "        \"\"\"\n",
    "        cx_path = []\n",
    "        for cx in self.unfoldcxs():\n",
    "            if set(slots).issubset(cx.slots):\n",
    "                cx_path.append(cx)\n",
    "        return cx_path\n",
    "                \n",
    "    def slots2cx(self, slottuple):\n",
    "        \"\"\"Return the embedded Construction to which a span of slots belong\"\"\"\n",
    "        for cx in self.unfoldcxs():\n",
    "            for slots, role in cx.slots2role.items():\n",
    "                if slots == slottuple:\n",
    "                    return cx"
   ]
  },
  {
   "cell_type": "code",
   "execution_count": 87,
   "metadata": {},
   "outputs": [],
   "source": [
    "class CXbuilder(object):\n",
    "    \"\"\"Identifies and builds constructions using Text-Fabric nodes.\"\"\"\n",
    "    \n",
    "    def __init__(self, semsets, tf, **kwargs):\n",
    "        \"\"\"Initialize Constructions object.\n",
    "        \n",
    "        Arguments:\n",
    "            semsets: A dictionary containing semantic\n",
    "                sets. Key should be the name of the set.\n",
    "                Value is a set of TF nodes.\n",
    "            tf: An instance of Text-Fabric.\n",
    "            \n",
    "        **kwargs:\n",
    "            context: the context that contains the node in \n",
    "            which to run the attribute tests.\n",
    "        \"\"\"\n",
    "        self.tf = tf\n",
    "        self.F, self.T, self.L = tf.api.F, tf.api.T, tf.api.L\n",
    "        self.context = kwargs.get('context', 'phrase_atom')\n",
    "        self.semsets = Bunch(semsets)\n",
    "        self.cxs = tuple()\n",
    "    \n",
    "    def getP(self, node):\n",
    "        \"\"\"Get Positions object for a TF node.\n",
    "        \n",
    "        Return Dummy object if not node.\n",
    "        \"\"\"\n",
    "        if not node:\n",
    "            return Dummy()\n",
    "        return Positions(node, self.context, self.tf).get\n",
    "    \n",
    "    def getWk(self, node):\n",
    "        \"\"\"Get Walker object for a TF word node.\n",
    "        \n",
    "        Return Dummy object if not node.\n",
    "        \"\"\"\n",
    "        if not node:\n",
    "            return Dummy()\n",
    "        return Walker(node, self.context, self.tf)\n",
    "    \n",
    "    def test(self, *cases):\n",
    "        \"\"\"Populate Construction obj based on a cases's all Truth value.\n",
    "        \n",
    "        The last-matching case will be used to populate\n",
    "        a Construction object. This allows more complex\n",
    "        cases to take precedence over simpler ones.\n",
    "        \n",
    "        Args:\n",
    "            cases: an arbitrary number of dictionaries,\n",
    "                each of which contains a string key that\n",
    "                describes the test and a test that evals \n",
    "                to a Boolean.\n",
    "        \n",
    "        Returns:\n",
    "            a populated or blank Construction object\n",
    "        \"\"\"\n",
    "        \n",
    "        # find cases where all cnds == True\n",
    "        test = [\n",
    "            case for case in cases\n",
    "                if all(case['conds'].values())\n",
    "                    and all(case['roles'].keys())\n",
    "        ]\n",
    "        \n",
    "        # return last test\n",
    "        if test:\n",
    "            return Construction(\n",
    "                match=test[-1],\n",
    "                cases=cases,\n",
    "                **test[-1]\n",
    "            )\n",
    "        else:\n",
    "            return Construction(cases=cases, **cases[0])\n",
    "        \n",
    "    def findall(self, n):\n",
    "        \"\"\"Runs analysis for all constructions with a node.\n",
    "        \n",
    "        Returns as dict with test:result as key:value.\n",
    "        \"\"\"\n",
    "        results = []\n",
    "        for funct in self.cxs:\n",
    "            cx = funct(n)\n",
    "            if cx:\n",
    "                results.append(cx)\n",
    "        return results\n",
    "    \n",
    "    def analyzeunit(self, n):\n",
    "        \"\"\"Analyze an entire stretch of a TF linguistic unit.\"\"\"\n",
    "        constructions = []\n",
    "        for w in self.L.d(n, 'word'):\n",
    "            constructions.extend(self.findall(w))"
   ]
  },
  {
   "cell_type": "code",
   "execution_count": 88,
   "metadata": {},
   "outputs": [],
   "source": [
    "class NounConstructions(CXbuilder):\n",
    "    \"\"\"Class for defining noun constructions.\"\"\"\n",
    "    \n",
    "    def __init__(self, wsets, tf):\n",
    "        \n",
    "        \"\"\"Initialize with Constructions attribs/methods.\"\"\"\n",
    "        CXbuilder.__init__(self, wsets, tf, context='timephrase')\n",
    "        \n",
    "        # map cx searches for full analyses\n",
    "        self.cxs = (\n",
    "            self.defi,\n",
    "            self.card_chain,\n",
    "            self.demon,\n",
    "            self.adjv,\n",
    "            self.advb,\n",
    "            self.attrib,\n",
    "            self.geni,\n",
    "            self.numb,\n",
    "            self.prep,\n",
    "        )\n",
    "\n",
    "    def defi(self, w):\n",
    "        \"\"\"Matches a definite construction.\"\"\"\n",
    "        \n",
    "        P = self.getP(w)\n",
    "        \n",
    "        return self.test( \n",
    "            {\n",
    "                'name': 'defi',\n",
    "                'roles': {'defi': w, 'head': P(1)},\n",
    "                'conds': {\n",
    "\n",
    "                    'F.sp.v(w) == art':\n",
    "                        self.F.sp.v(w) == 'art',\n",
    "\n",
    "                    'bool(P(1))':\n",
    "                        bool(P(1))\n",
    "                }\n",
    "            }\n",
    "        )\n",
    "    \n",
    "    def prep(self, w):\n",
    "        \"\"\"Matches a preposition with a modified element.\"\"\"\n",
    "                \n",
    "        P = self.getP(w)\n",
    "        \n",
    "        return self.test(\n",
    "            {\n",
    "                'name': 'prep',\n",
    "                'roles': {'prep':w, 'head': P(1)},\n",
    "                'conds': {\n",
    "\n",
    "                    'w in preps':\n",
    "                        w in self.semsets.preps,\n",
    "\n",
    "                    'F.prs.v(w) == absent':\n",
    "                        self.F.prs.v(w) == 'absent',\n",
    "                    \n",
    "                    'bool(P(1))':\n",
    "                        bool(P(1)),\n",
    "                }\n",
    "            }\n",
    "        )\n",
    "        \n",
    "    def geni(self, w):\n",
    "        \"\"\"Queries for \"genitive\" relations on a word.\"\"\"\n",
    "        \n",
    "        P = self.getP(w)\n",
    "        sm = self.semsets\n",
    "        \n",
    "        return self.test(\n",
    "            {\n",
    "                'name': 'geni',\n",
    "                'roles': {'geni': P(0), 'head': P(-1)},\n",
    "                'conds': {\n",
    "\n",
    "                    'P(-1, st) == c': \n",
    "                        P(-1,'st') == 'c',\n",
    "\n",
    "                    'P(-1) not in quants|preps': \n",
    "                        P(-1) not in sm.quants|sm.preps,\n",
    "                }\n",
    "            }\n",
    "        )\n",
    "\n",
    "    def advb(self, w):\n",
    "        \"\"\"Match and adverb and its mod.\"\"\"\n",
    "        \n",
    "        P = self.getP(w)\n",
    "        \n",
    "        return self.test(\n",
    "           {\n",
    "                'name': 'advb',\n",
    "                'roles': {'advb': w, 'head': P(1)},\n",
    "                'conds': {\n",
    "                    'F.sp.v(w) == advb':\n",
    "                        self.F.sp.v(w) == 'advb',\n",
    "                    'P(1) in noms':\n",
    "                        P(1) in self.semsets.noms,\n",
    "                }\n",
    "            }\n",
    "        )\n",
    "    \n",
    "    def adjv(self, w):\n",
    "        \"\"\"Matches a word serving as an adjective.\"\"\"\n",
    "        \n",
    "        P = self.getP(w)\n",
    "        F = self.F\n",
    "        sm = self.semsets\n",
    "        \n",
    "        # check for recursive adjective matches \n",
    "        a2match = self.adjv(P(-1)) if P(-1) else Construction()\n",
    "        a2match_head = a2match.roles.head\n",
    "        \n",
    "        common = {\n",
    "            \n",
    "            'w not in quants':\n",
    "                w not in sm.quants,\n",
    "            \n",
    "            'P(-1) in noms':\n",
    "                P(-1) in sm.noms,\n",
    "            \n",
    "            'P(-1, st) & {NA, a}': \n",
    "                P(-1,'st') in {'NA', 'a'},   \n",
    "            \n",
    "            'P(-1) not in {quants|preps}':\n",
    "                P(-1) not in sm.quants|sm.preps,\n",
    "        }\n",
    "                \n",
    "        tests = (\n",
    "            \n",
    "            {\n",
    "                'name': 'adjv',\n",
    "                'pattern': 'adjv (1x)',\n",
    "                'roles': {'adjv':w, 'head': P(-1)},\n",
    "                'conds': dict(common, **{\n",
    "                    'F.sp.v(w) in {adjv, verb}':\n",
    "                        F.sp.v(w) in {'adjv', 'verb'},\n",
    "                })\n",
    "            },\n",
    "            {\n",
    "                'name': 'adjv',\n",
    "                'pattern': 'adjv (2x)',\n",
    "                'roles': {'adjv': P(0), 'head': a2match_head},\n",
    "                'conds': dict(common, **{\n",
    "                    \n",
    "                    'P(0,sp) in {adjv, verb}':\n",
    "                        P(0,'sp') in {'adjv', 'verb'},\n",
    "                    \n",
    "                     'self.adjv(P(-1)) and target != P(0)':\n",
    "                        bool(a2match) and a2match_head != P(0)\n",
    "                })\n",
    "            }\n",
    "        )\n",
    "\n",
    "        return self.test(*tests)\n",
    "     \n",
    "    def attrib(self, w):\n",
    "        \"\"\"Identify elements in a attrib construction.\n",
    "        \n",
    "        In Hebrew this construction typically consists of four slots:\n",
    "            > ה + A + ה + B\n",
    "        Attrib identifies each of these elements and labels them.\n",
    "        A is assumed to be the head, or modified, element and B\n",
    "        is assumed to be an adjectival element.\n",
    "        \"\"\"\n",
    "        \n",
    "        sm = self.semsets\n",
    "        \n",
    "        # CX consists of two constituent cxs\n",
    "        # start walk from head of first match\n",
    "        defi1 = self.defi(w)\n",
    "        d1head = defi1.roles.head\n",
    "        Wk = self.getWk(d1head)\n",
    "\n",
    "        # walk to next valid defi match\n",
    "        # and allow adjectives to intervene:\n",
    "        defi2 = Wk.ahead(\n",
    "            lambda n: self.defi(n),\n",
    "            go=lambda n: self.F.sp.v(n)=='adjv',\n",
    "            output=True\n",
    "        ) if Wk else Construction()\n",
    "        defi2 = defi2 or Construction()\n",
    "                \n",
    "        return self.test(\n",
    "            {\n",
    "                'name': 'attrib',\n",
    "                'roles': {'head': defi1, 'attrib': defi2},\n",
    "                'conds': {\n",
    "                    'bool(defi1)':\n",
    "                        bool(defi1),\n",
    "                    'bool(defi2)':\n",
    "                        bool(defi2), \n",
    "                }\n",
    "            }\n",
    "        )\n",
    "        \n",
    "    def numb(self, w):\n",
    "        \"\"\"Defines numerical relations with an non-quant word.\n",
    "        \n",
    "        Often but not always indicates quantification as other\n",
    "        semantic relations are possible.\n",
    "        \"\"\"\n",
    "\n",
    "        P = self.getP(w)\n",
    "        Wk = self.getWk(w)\n",
    "        sm = self.semsets\n",
    "        is_nom = (lambda n: n in sm.noms and n not in sm.quants)\n",
    "        behind_nom = Wk.back(is_nom, go=lambda n: F.sp.v(n)=='art') \n",
    "\n",
    "        return self.test(\n",
    "        \n",
    "            {\n",
    "                'name': 'numb',\n",
    "                'pattern': 'numbered forward',\n",
    "                'roles': {'numb': w, 'head': P(1)},\n",
    "                'conds': {\n",
    "                    \n",
    "                    'w in quants':\n",
    "                        w in sm.quants,\n",
    "\n",
    "                    'bool(P(1))':\n",
    "                        bool(P(1)),\n",
    "                    \n",
    "                    'P(1,sp) != conj':\n",
    "                        P(1,'sp') != 'conj',\n",
    "                    \n",
    "                    'P(1) not in quants|preps':\n",
    "                        P(1) not in sm.quants|sm.preps,\n",
    "                },\n",
    "            },  \n",
    "            {\n",
    "                'name': 'numb',\n",
    "                'pattern': 'numbered backward',\n",
    "                'roles': {'numb': w, 'head': behind_nom},\n",
    "                'conds': {\n",
    "                    \n",
    "                    'w in quants':\n",
    "                        w in sm.quants,\n",
    "                    \n",
    "                    'not Wk.ahead(is_nominal)':\n",
    "                        not Wk.ahead(is_nom),\n",
    "                    \n",
    "                    'bool(Wk.back(is_nominal))':\n",
    "                        bool(behind_nom)\n",
    "                }\n",
    "            }\n",
    "        )\n",
    "        \n",
    "    def card_chain(self, w):\n",
    "        \"\"\"Defines cardinal number chain constructions\"\"\"\n",
    "        \n",
    "        P = self.getP(w)\n",
    "        F = self.F\n",
    "        \n",
    "        return self.test(\n",
    "            {\n",
    "                'name': 'card_chain',\n",
    "                'pattern': 'adjacent',\n",
    "                'roles': {'card':w, 'head':P(-1)},\n",
    "                'conds': {\n",
    "                    \n",
    "                    'F.ls.v(w) == card':\n",
    "                        F.ls.v(w) == 'card',\n",
    "                    'P(-1,ls) == card':\n",
    "                        P(-1,'ls') == 'card',                    \n",
    "                }\n",
    "            },\n",
    "            {\n",
    "                'name': 'card_chain',\n",
    "                'pattern': 'conjunctive',\n",
    "                'roles': {'card': w, 'head': P(-2), 'conj': P(-1)},\n",
    "                'conds': {\n",
    "                    'F.ls.v(w) == card':\n",
    "                        F.ls.v(w) == 'card',\n",
    "                    'P(-1,lex) == W':\n",
    "                        P(-1,'lex') == 'W',\n",
    "                    'P(-2,ls) == card':\n",
    "                        P(-2,'ls') == 'card',   \n",
    "                }\n",
    "            }\n",
    "        )\n",
    "    \n",
    "    def demon(self, w):\n",
    "        \"\"\"Defines a direct demonstrative construction.\"\"\"\n",
    "        \n",
    "        P = self.getP(w)\n",
    "        sm = self.semsets\n",
    "        \n",
    "        return self.test(\n",
    "            {\n",
    "                'name': 'demon',\n",
    "                'pattern': 'adjacent forward',\n",
    "                'roles': {'demon': w, 'head': P(1)},\n",
    "                'conds': {\n",
    "                    'F.sp.v(w) == prde':\n",
    "                        self.F.sp.v(w) == 'prde',\n",
    "                    'P(-1,sp) != art': # ensure not part of attrib pattern\n",
    "                        P(-1,'sp') != 'art',\n",
    "                    'P(-1) not in preps': # ensure not a part of particle\n",
    "                        P(-1) not in sm.preps,\n",
    "                    'bool(P(1))':\n",
    "                        bool(P(1)),\n",
    "                    'P(1) in noms':\n",
    "                        P(1) in sm.noms,\n",
    "                }\n",
    "            }\n",
    "        )"
   ]
  },
  {
   "cell_type": "code",
   "execution_count": 89,
   "metadata": {},
   "outputs": [],
   "source": [
    "G = NounConstructions(wsets, A)\n",
    "test = G.attrib(180817)"
   ]
  },
  {
   "cell_type": "code",
   "execution_count": 90,
   "metadata": {},
   "outputs": [
    {
     "data": {
      "text/html": [
       "<p><b>result</b> <i>1448635 -> CX attrib {180817, 180818, 180819, 180820}</i></p>"
      ],
      "text/plain": [
       "<IPython.core.display.HTML object>"
      ]
     },
     "metadata": {},
     "output_type": "display_data"
    },
    {
     "data": {
      "text/html": [
       "<a href=\"https://shebanq.ancient-data.org/hebrew/text?book=Reges_I&amp;chapter=6&amp;verse=38&amp;version=c&amp;mr=m&amp;qw=q&amp;tp=txt_p&amp;tr=hb&amp;wget=v&amp;qget=v&amp;nget=vt\" title=\"show this passage in SHEBANQ\" sec=\"1_Kings 6:38\">1_Kings 6:38</a>\n",
       "<div class=\"atoms  \" >\n",
       "<a href=\"#\" class=\"nd\">756022</a>\n",
       "\n",
       "\n",
       "\n",
       "<div class=\"patom  l \" >\n",
       "\n",
       "    <div class=\"phrase \" >\n",
       "        <a href=\"https://shebanq.ancient-data.org/hebrew/text?book=Reges_I&amp;chapter=6&amp;verse=38&amp;version=c&amp;mr=m&amp;qw=q&amp;tp=txt_p&amp;tr=hb&amp;wget=v&amp;qget=v&amp;nget=vt\" title=\"1_Kings 6:38\" sec=\"1_Kings 6:38\">phrase</a> <a href=\"#\" class=\"nd\">756022</a>  <span class=\"function\">Time</span> <span class=\"typ\">PP</span>\n",
       "    </div>\n",
       "    <div class=\"atoms\">\n",
       "\n",
       "<div class=\"word  \" >\n",
       "<a href=\"#\" class=\"nd\">180816</a>\n",
       "<div class=\"h\"><a target=\"_blank\" href=\"https://shebanq.ancient-data.org/hebrew/word?version=c&amp;id=1B\" title=\"show this lexeme in SHEBANQ\">בַ</a></div>\n",
       "<div class=\"features\"> <span class=\"pdp\"><a href=\"https://shebanq.ancient-data.org/hebrew/text?book=Reges_I&amp;chapter=6&amp;verse=38&amp;version=c&amp;mr=m&amp;qw=q&amp;tp=txt_p&amp;tr=hb&amp;wget=v&amp;qget=v&amp;nget=vt\" title=\"1_Kings 6:38\" sec=\"1_Kings 6:38\">prep</a></span> <span class=\"gloss\">in</span> <span class=\"sp xft\"><span class=\"f\">sp=</span>prep</span></div>\n",
       "\n",
       "\n",
       "</div>\n",
       "\n",
       "<div class=\"word  hl\"  style=\"background-color: pink;\" >\n",
       "<a href=\"#\" class=\"nd\">180817</a>\n",
       "<div class=\"h\"><a target=\"_blank\" href=\"https://shebanq.ancient-data.org/hebrew/word?version=c&amp;id=1H\" title=\"show this lexeme in SHEBANQ\"></a></div>\n",
       "<div class=\"features\"> <span class=\"pdp\"><a href=\"https://shebanq.ancient-data.org/hebrew/text?book=Reges_I&amp;chapter=6&amp;verse=38&amp;version=c&amp;mr=m&amp;qw=q&amp;tp=txt_p&amp;tr=hb&amp;wget=v&amp;qget=v&amp;nget=vt\" title=\"1_Kings 6:38\" sec=\"1_Kings 6:38\">art</a></span> <span class=\"gloss\">the</span> <span class=\"sp xft\"><span class=\"f\">sp=</span>art</span></div>\n",
       "\n",
       "\n",
       "</div>\n",
       "\n",
       "<div class=\"word  hl\"  style=\"background-color: pink;\" >\n",
       "<a href=\"#\" class=\"nd\">180818</a>\n",
       "<div class=\"h\"><a target=\"_blank\" href=\"https://shebanq.ancient-data.org/hebrew/word?version=c&amp;id=1CNHn\" title=\"show this lexeme in SHEBANQ\">שָּׁנָה֩ </a></div>\n",
       "<div class=\"features\"> <span class=\"pdp\"><a href=\"https://shebanq.ancient-data.org/hebrew/text?book=Reges_I&amp;chapter=6&amp;verse=38&amp;version=c&amp;mr=m&amp;qw=q&amp;tp=txt_p&amp;tr=hb&amp;wget=v&amp;qget=v&amp;nget=vt\" title=\"1_Kings 6:38\" sec=\"1_Kings 6:38\">subs</a></span> <span class=\"gloss\">year</span> <span class=\"sp xft\"><span class=\"f\">sp=</span>subs</span> <span class=\"st xft\"><span class=\"f\">st=</span>a</span></div>\n",
       "\n",
       "\n",
       "</div>\n",
       "\n",
       "<div class=\"word  hl\"  style=\"background-color: lightblue;\" >\n",
       "<a href=\"#\" class=\"nd\">180819</a>\n",
       "<div class=\"h\"><a target=\"_blank\" href=\"https://shebanq.ancient-data.org/hebrew/word?version=c&amp;id=1H\" title=\"show this lexeme in SHEBANQ\">הָ</a></div>\n",
       "<div class=\"features\"> <span class=\"pdp\"><a href=\"https://shebanq.ancient-data.org/hebrew/text?book=Reges_I&amp;chapter=6&amp;verse=38&amp;version=c&amp;mr=m&amp;qw=q&amp;tp=txt_p&amp;tr=hb&amp;wget=v&amp;qget=v&amp;nget=vt\" title=\"1_Kings 6:38\" sec=\"1_Kings 6:38\">art</a></span> <span class=\"gloss\">the</span> <span class=\"sp xft\"><span class=\"f\">sp=</span>art</span></div>\n",
       "\n",
       "\n",
       "</div>\n",
       "\n",
       "<div class=\"word  hl\"  style=\"background-color: lightblue;\" >\n",
       "<a href=\"#\" class=\"nd\">180820</a>\n",
       "<div class=\"h\"><a target=\"_blank\" href=\"https://shebanq.ancient-data.org/hebrew/word?version=c&amp;id=1AXDn\" title=\"show this lexeme in SHEBANQ\">אַחַ֨ת </a></div>\n",
       "<div class=\"features\"> <span class=\"pdp\"><a href=\"https://shebanq.ancient-data.org/hebrew/text?book=Reges_I&amp;chapter=6&amp;verse=38&amp;version=c&amp;mr=m&amp;qw=q&amp;tp=txt_p&amp;tr=hb&amp;wget=v&amp;qget=v&amp;nget=vt\" title=\"1_Kings 6:38\" sec=\"1_Kings 6:38\">subs</a></span> <span class=\"gloss\">one</span> <span class=\"sp xft\"><span class=\"f\">sp=</span>subs</span> <span class=\"st xft\"><span class=\"f\">st=</span>c</span></div>\n",
       "\n",
       "\n",
       "</div>\n",
       "\n",
       "<div class=\"word  \" >\n",
       "<a href=\"#\" class=\"nd\">180821</a>\n",
       "<div class=\"h\"><a target=\"_blank\" href=\"https://shebanq.ancient-data.org/hebrew/word?version=c&amp;id=1OFRHn\" title=\"show this lexeme in SHEBANQ\">עֶשְׂרֵ֜ה </a></div>\n",
       "<div class=\"features\"> <span class=\"pdp\"><a href=\"https://shebanq.ancient-data.org/hebrew/text?book=Reges_I&amp;chapter=6&amp;verse=38&amp;version=c&amp;mr=m&amp;qw=q&amp;tp=txt_p&amp;tr=hb&amp;wget=v&amp;qget=v&amp;nget=vt\" title=\"1_Kings 6:38\" sec=\"1_Kings 6:38\">subs</a></span> <span class=\"gloss\">-teen</span> <span class=\"sp xft\"><span class=\"f\">sp=</span>subs</span> <span class=\"st xft\"><span class=\"f\">st=</span>a</span></div>\n",
       "\n",
       "\n",
       "</div>\n",
       "\n",
       "\n",
       "    </div>\n",
       "\n",
       "\n",
       "</div>\n",
       "\n",
       "<div class=\"patom  r \" >\n",
       "\n",
       "    <div class=\"phrase \" >\n",
       "        <a href=\"https://shebanq.ancient-data.org/hebrew/text?book=Reges_I&amp;chapter=6&amp;verse=38&amp;version=c&amp;mr=m&amp;qw=q&amp;tp=txt_p&amp;tr=hb&amp;wget=v&amp;qget=v&amp;nget=vt\" title=\"1_Kings 6:38\" sec=\"1_Kings 6:38\">phrase</a> <a href=\"#\" class=\"nd\">756022</a>  <span class=\"function\">Time</span> <span class=\"typ\">PP</span>\n",
       "    </div>\n",
       "    <div class=\"atoms\">\n",
       "\n",
       "<div class=\"word  \" >\n",
       "<a href=\"#\" class=\"nd\">180822</a>\n",
       "<div class=\"h\"><a target=\"_blank\" href=\"https://shebanq.ancient-data.org/hebrew/word?version=c&amp;id=1B\" title=\"show this lexeme in SHEBANQ\">בְּ</a></div>\n",
       "<div class=\"features\"> <span class=\"pdp\"><a href=\"https://shebanq.ancient-data.org/hebrew/text?book=Reges_I&amp;chapter=6&amp;verse=38&amp;version=c&amp;mr=m&amp;qw=q&amp;tp=txt_p&amp;tr=hb&amp;wget=v&amp;qget=v&amp;nget=vt\" title=\"1_Kings 6:38\" sec=\"1_Kings 6:38\">prep</a></span> <span class=\"gloss\">in</span> <span class=\"sp xft\"><span class=\"f\">sp=</span>prep</span></div>\n",
       "\n",
       "\n",
       "</div>\n",
       "\n",
       "<div class=\"word  \" >\n",
       "<a href=\"#\" class=\"nd\">180823</a>\n",
       "<div class=\"h\"><a target=\"_blank\" href=\"https://shebanq.ancient-data.org/hebrew/word?version=c&amp;id=1JRXn\" title=\"show this lexeme in SHEBANQ\">יֶ֣רַח </a></div>\n",
       "<div class=\"features\"> <span class=\"pdp\"><a href=\"https://shebanq.ancient-data.org/hebrew/text?book=Reges_I&amp;chapter=6&amp;verse=38&amp;version=c&amp;mr=m&amp;qw=q&amp;tp=txt_p&amp;tr=hb&amp;wget=v&amp;qget=v&amp;nget=vt\" title=\"1_Kings 6:38\" sec=\"1_Kings 6:38\">subs</a></span> <span class=\"gloss\">month</span> <span class=\"sp xft\"><span class=\"f\">sp=</span>subs</span> <span class=\"st xft\"><span class=\"f\">st=</span>c</span></div>\n",
       "\n",
       "\n",
       "</div>\n",
       "\n",
       "<div class=\"word  \" >\n",
       "<a href=\"#\" class=\"nd\">180824</a>\n",
       "<div class=\"h\"><a target=\"_blank\" href=\"https://shebanq.ancient-data.org/hebrew/word?version=c&amp;id=1BWLin\" title=\"show this lexeme in SHEBANQ\">בּ֗וּל </a></div>\n",
       "<div class=\"features\"> <span class=\"pdp\"><a href=\"https://shebanq.ancient-data.org/hebrew/text?book=Reges_I&amp;chapter=6&amp;verse=38&amp;version=c&amp;mr=m&amp;qw=q&amp;tp=txt_p&amp;tr=hb&amp;wget=v&amp;qget=v&amp;nget=vt\" title=\"1_Kings 6:38\" sec=\"1_Kings 6:38\">nmpr</a></span> <span class=\"gloss\">Bul</span> <span class=\"sp xft\"><span class=\"f\">sp=</span>nmpr</span> <span class=\"st xft\"><span class=\"f\">st=</span>a</span></div>\n",
       "\n",
       "\n",
       "</div>\n",
       "\n",
       "\n",
       "    </div>\n",
       "\n",
       "\n",
       "</div>\n",
       "\n",
       "\n",
       "</div>\n"
      ],
      "text/plain": [
       "<IPython.core.display.HTML object>"
      ]
     },
     "metadata": {},
     "output_type": "display_data"
    },
    {
     "data": {
      "text/html": [
       "<div style=\"background: pink; text-align: center\">head</div>"
      ],
      "text/plain": [
       "<IPython.core.display.HTML object>"
      ]
     },
     "metadata": {},
     "output_type": "display_data"
    },
    {
     "data": {
      "text/html": [
       "<div style=\"background: lightblue; text-align: center\">attrib</div>"
      ],
      "text/plain": [
       "<IPython.core.display.HTML object>"
      ]
     },
     "metadata": {},
     "output_type": "display_data"
    },
    {
     "name": "stdout",
     "output_type": "stream",
     "text": [
      "{   '__cx__': 'attrib',\n",
      "    'attrib': {'__cx__': 'defi', 'defi': 180819, 'head': 180820},\n",
      "    'head': {'__cx__': 'defi', 'defi': 180817, 'head': 180818}}\n",
      "\n",
      "cnds:\n",
      "bool(defi1)                                              True\n",
      "bool(defi2)                                              True\n",
      "\n"
     ]
    },
    {
     "data": {
      "text/html": [
       "<hr>"
      ],
      "text/plain": [
       "<IPython.core.display.HTML object>"
      ]
     },
     "metadata": {},
     "output_type": "display_data"
    }
   ],
   "source": [
    "showmatch(test)"
   ]
  },
  {
   "cell_type": "code",
   "execution_count": 91,
   "metadata": {},
   "outputs": [
    {
     "name": "stdout",
     "output_type": "stream",
     "text": [
      "cnds:\n",
      "bool(defi1)                                              True\n",
      "bool(defi2)                                              True\n",
      "\n"
     ]
    }
   ],
   "source": [
    "prettyconds(test.cases)"
   ]
  },
  {
   "cell_type": "code",
   "execution_count": 92,
   "metadata": {},
   "outputs": [],
   "source": [
    "#test_search(G.attrib, show=100, end=50)"
   ]
  },
  {
   "cell_type": "markdown",
   "metadata": {},
   "source": [
    "## Combine Constructions\n",
    "\n",
    "For now we have delimited a set of standard noun constructions. But there are many overlapping or incomplete constructions. For instance, a prepositional construction consisting of the following phrase (space-separated for accuracy):\n",
    "\n",
    "> ב ה יום\n",
    "\n",
    "The prepositional construction, as it stands, will only recognize the first word in front of the preposition, yielding the following construction:\n",
    "\n",
    "> ב ה\n",
    "\n",
    "The reason is because ה must **first** be united with its remaining elements. We need an **order of operations** to complete this procedure. That is, a list of global priorities that tells the chunker algorithm what parts to merge first. The beginning or ends of overlapping constructions can subsequently be used to link the parts together. For instance, not only do we have a preposition construction, we also have a definite construction which recognizes:\n",
    "\n",
    "> ה יום\n",
    "\n",
    "If the definite construction has priority over the preposition construction, the algorithm can gather all of the requisite pieces before placing it in relation to the preposition.\n",
    "\n",
    "### Set Logic\n",
    "\n",
    "We can use set logic to determine when constructions overlap in their containing slots. Constructions that are wholly contained in another construction might also need to be abolished. That is the case with the attributive adjective construction for instance:\n",
    "\n",
    "> ה יום ה שׁבעי\n",
    "\n",
    "This construction already calls the definite construction as a condition for existence and contains it in its `slots` attribute. In this case, the algorithm should not create two separate instances of the definite constructions.\n",
    "\n",
    "### Build Constructions\n",
    "\n",
    "Before we can make the chunks, we need to run the `NounConstructions` builder on the corpus. We do that below and store the resulting `Construction` objects in a phrase2construction mapping. This takes approximately 2 mins on a 2017 Macbook pro."
   ]
  },
  {
   "cell_type": "code",
   "execution_count": 93,
   "metadata": {},
   "outputs": [
    {
     "name": "stdout",
     "output_type": "stream",
     "text": [
      "0:00:00.000057 beginning analysis...\n",
      "\t0:00:38.949823\tdone with iter 500/2102\n",
      "\t0:01:08.330231\tdone with iter 1000/2102\n",
      "\t0:01:47.944242\tdone with iter 1500/2102\n",
      "\t0:02:19.833174\tdone with iter 2000/2102\n",
      "0:02:27.650900\tCOMPLETE\n"
     ]
    }
   ],
   "source": [
    "phrase2cx = collections.defaultdict(list)\n",
    "nocxs = []\n",
    "\n",
    "G = NounConstructions(wsets, A)\n",
    "\n",
    "# time it\n",
    "start = datetime.now()\n",
    "\n",
    "print(f'{datetime.now()-start} beginning analysis...')\n",
    "\n",
    "for i, phrase in enumerate(timephrases):\n",
    "     \n",
    "    # analyze all known relas\n",
    "    for w in L.d(phrase, 'word'):\n",
    "        constructions = G.findall(w)\n",
    "        if constructions:\n",
    "            phrase2cx[phrase].extend(constructions)\n",
    "        \n",
    "    # save those phrases that have no matching constructions\n",
    "    if phrase not in phrase2cx:\n",
    "        nocxs.append(phrase)\n",
    "        \n",
    "    # report status\n",
    "    if i % 500 == 0 and i:\n",
    "        print(f'\\t{datetime.now()-start}\\tdone with iter {i}/{len(timephrases)}')\n",
    "        \n",
    "print(f'{datetime.now()-start}\\tCOMPLETE')"
   ]
  },
  {
   "cell_type": "code",
   "execution_count": 94,
   "metadata": {},
   "outputs": [
    {
     "name": "stdout",
     "output_type": "stream",
     "text": [
      "2073 phrases matched with Constructions...\n",
      "29 phrases not yet matched with Constructions...\n"
     ]
    }
   ],
   "source": [
    "print(f'{len(phrase2cx)} phrases matched with Constructions...')\n",
    "print(f'{len(nocxs)} phrases not yet matched with Constructions...')"
   ]
  },
  {
   "cell_type": "code",
   "execution_count": 95,
   "metadata": {},
   "outputs": [],
   "source": [
    "def sort_cxs(cxlist):\n",
    "    \"\"\"Construct a bottom-up path for construction merging.\n",
    "\n",
    "    Overlapping constructions should be combined at their\n",
    "    point of intersection, with one construction taking on\n",
    "    the role of the other. Linguistically speaking this can\n",
    "    be thought of as \"slot filling,\" where another construction\n",
    "    comes to fill the slot or role of a another. \n",
    "\n",
    "    Slot filling can follow a path of priority, or precendence,\n",
    "    where more preminent constructions take priority.\n",
    "\n",
    "    For instance, \n",
    "    [CX attrib {115232, 115233, 115230, 115231},\n",
    "     CX prep {115228, 115229},\n",
    "     CX prep {115229, 115230}]\n",
    "    \"\"\"\n",
    "\n",
    "    order = {\n",
    "        'attrib': 1, \n",
    "        'card_chain': 2, \n",
    "        'numb': 3,\n",
    "        'defi': 3,\n",
    "        'adjv': 3, \n",
    "        'advb': 3,\n",
    "        'demon': 3, \n",
    "        'geni': 4, \n",
    "        'prep': 5,\n",
    "    }\n",
    "\n",
    "    sort = sorted(\n",
    "        (\n",
    "            (\n",
    "                (order[cx.name],) + tuple(sorted(-s for s in cx.slots)),\n",
    "            ) + (cx,) for cx in cxlist\n",
    "        )\n",
    "    , key=lambda k: k[0])\n",
    "\n",
    "    return [item[-1] for item in sort]\n",
    "\n",
    "def buildclusters(cxlist):\n",
    "    \"\"\"Find all overlapping constructions\"\"\"\n",
    "    \n",
    "    clusters = []\n",
    "    cxlist = [i for i in cxlist] # protect overwrite\n",
    "    \n",
    "    # iterate until no more intersections found\n",
    "    thiscluster = [cxlist.pop(0)]\n",
    "    theseslots = set(s for s in thiscluster[0].slots)\n",
    "    \n",
    "    # loop continues as it snowballs and picks up slots\n",
    "    # loop stops when a complete loop produces no other matches\n",
    "    while cxlist:\n",
    "        \n",
    "        matched = False # whether loop was successful\n",
    "        \n",
    "        for cx in cxlist:\n",
    "            if theseslots & cx.slots:\n",
    "                thiscluster.append(cx)\n",
    "                theseslots |= cx.slots\n",
    "                matched = True\n",
    "        \n",
    "        cxlist = [cx for cx in cxlist if cx not in thiscluster]\n",
    "        \n",
    "        # assemble loop\n",
    "        if not matched:\n",
    "            clusters.append(thiscluster)\n",
    "            thiscluster = [cxlist.pop(0)]\n",
    "            theseslots = set(s for s in thiscluster[0].slots)\n",
    "            \n",
    "    clusters.append(thiscluster)\n",
    "            \n",
    "    return clusters\n",
    "\n",
    "def arrange_cxs(cxlist):\n",
    "    \"\"\"Clusters and orders constructions.\"\"\"\n",
    "    return [sort_cxs(clist) for clist in buildclusters(cxlist)]\n",
    "            \n",
    "def getcxs(phrase, debug=False):\n",
    "    \"\"\"Gather constructions mapped to nodes.\"\"\"\n",
    "    cxlists = arrange_cxs(phrase2cx[phrase])\n",
    "    for cxlist in cxlists:\n",
    "        yield weaveCX(cxlist, debug=debug)\n",
    "    \n",
    "def debugmess(msg, toggle):\n",
    "    \"\"\"Prints debugging messages if toggled.\"\"\"\n",
    "    if toggle:\n",
    "        sys.stderr.write(msg+'\\n')\n",
    "            \n",
    "def weaveCX(cxlist, cx=None, debug=False, stopatgap=False):\n",
    "    \"\"\"Weave together constructions on their intersections.\"\"\"\n",
    "                \n",
    "    debugmess(f'\\nReceived {cx} with cxlist {cxlist}', debug)\n",
    "        \n",
    "    # the search is complete, stop here\n",
    "    if not cxlist:\n",
    "        debugmess(f'\\tSearch complete with {cx} with roles: {cx.roles.dict}', debug)\n",
    "        return cx\n",
    "    # or no search necessary, stop here\n",
    "    elif cx is None and len(cxlist) == 1:\n",
    "        return cxlist[0]\n",
    "    \n",
    "    # Copy constructions and operate on copies\n",
    "    cx1 = cx or copy.deepcopy(cxlist.pop(0))\n",
    "    cx2 = copy.deepcopy(cxlist.pop(0))\n",
    "    \n",
    "    debugmess(f'\\t comparing {cx1} & {cx2}', debug)\n",
    "        \n",
    "    # discard cx2 if fully covered by cx1\n",
    "    if cx1.slots.issuperset(cx2.slots):\n",
    "        debugmess(f'\\t discarding {cx2} since it is covered', debug)\n",
    "        return weaveCX(cxlist, cx1, debug=debug)\n",
    "        \n",
    "    # get first slot of intersection between cx1 and 2\n",
    "    # get that slot's role in both cxs\n",
    "    link = tuple(sorted(cx1.slots & cx2.slots))\n",
    "    \n",
    "    debugmess(f'\\t link is {link}', debug)\n",
    "    \n",
    "    # fix gaps by continuing onwards\n",
    "    if not link and not stopatgap:\n",
    "        debugmess(f'\\n**** Attempting to reforge link ****', debug)        \n",
    "        cx2 = weaveCX(cxlist, cx2, debug=debug, stopatgap=True)\n",
    "        debugmess(f'\\n**** cx2 structure built into: {cx2} ****', debug)\n",
    "        return weaveCX([cx2]+cxlist, cx1, debug=debug)\n",
    "    \n",
    "    elif not link and stopatgap:\n",
    "        cxlist.insert(0, cx2)\n",
    "        debugmess(f'\\n**** Stopped at gap {cx1}****', debug)\n",
    "        return cx1\n",
    "    \n",
    "    linkcx1 = cx1.slots2cx(link)\n",
    "    linkcx2 = cx2.slots2cx(link)\n",
    "    link2role = linkcx2.slots2role[link]\n",
    "    link1role = linkcx1.slots2role[link]\n",
    "    \n",
    "    debugmess(f'\\t\\t link cx1 is {linkcx1}', debug)\n",
    "    debugmess(f'\\t\\t link cx2 is {linkcx2}', debug)\n",
    "    debugmess(f'\\t\\t\\t link role in cx1 is {link1role}', debug)\n",
    "    debugmess(f'\\t\\t\\t link role in cx2 is {link2role}', debug)\n",
    "    \n",
    "    # replace role in cx2 with all of cx1    \n",
    "    debugmess(f'\\t replacing role [{link2role}] in cx2 with cx1 [{cx1}]', debug)\n",
    "    linkcx2.updaterole(link2role, cx1)\n",
    "    debugmess(f'\\t\\t result is {cx2} with roles: {cx2.roles.dict}', debug)\n",
    "    return weaveCX(cxlist, cx2, debug=debug, stopatgap=stopatgap)"
   ]
  },
  {
   "cell_type": "code",
   "execution_count": 96,
   "metadata": {},
   "outputs": [],
   "source": [
    "def sortbyslot(cxlist):\n",
    "    \"\"\"Sort constructions by order of slots.\"\"\"\n",
    "    sort = sorted((sorted(cx.slots), cx) for cx in cxlist)\n",
    "    return [cx[-1] for cx in sort]\n",
    "\n",
    "yieldsto = {\n",
    "    'card_chain': {'numb'}\n",
    "}\n",
    "\n",
    "def weaveCX(cxlist, cx=None, debug=False):\n",
    "    \"\"\"Weave together constructions on their intersections.\n",
    "    \n",
    "    TODO: Describe\n",
    "    \"\"\"\n",
    "                \n",
    "    debugmess(f'\\nReceived {cx} with cxlist {cxlist}', debug)\n",
    "        \n",
    "    # the search is complete, stop here\n",
    "    if not cxlist:\n",
    "        debugmess(f'\\tSearch complete with {cx} with roles: {cx.roles.dict}', debug)\n",
    "        return cx\n",
    "    # or no search necessary, stop here\n",
    "    elif cx is None and len(cxlist) == 1:\n",
    "        debugmess(f'\\tSearch complete with {cx} with roles: {cx.roles.dict}', debug)\n",
    "        return cxlist[0]\n",
    "    \n",
    "    # Copy constructions and operate on copies\n",
    "    cx1 = cx or copy.deepcopy(cxlist.pop(0))\n",
    "    cx2 = copy.deepcopy(cxlist.pop(0))\n",
    "    debugmess(f'\\t comparing {cx1} & {cx2}', debug)\n",
    "        \n",
    "    # discard cx2 if fully covered by cx1\n",
    "    # TODO: do equivalency search instead\n",
    "    if cx1.slots.issuperset(cx2.slots):\n",
    "        debugmess(f'\\t discarding {cx2} since it is covered', debug)\n",
    "        return weaveCX(cxlist, cx1, debug=debug)\n",
    "        \n",
    "    # get first slot of intersection between cx1 and 2\n",
    "    # get that slot's role in both cxs\n",
    "    link = tuple(sorted(cx1.slots & cx2.slots))\n",
    "    debugmess(f'\\t link is {link}', debug)\n",
    "    \n",
    "    # retrieve lowest-contained construction with link\n",
    "    cx1link = cx1.slots2cx(link)\n",
    "    debugmess(f'\\t\\t cx1link is {cx1link}', debug)\n",
    "    \n",
    "    # submit cx1 to cx2 if cx2 is semantically dominant\n",
    "    yields2 = lambda cx1, cx2: cx2.name in yieldsto.get(cx1.name, set())\n",
    "    if yields2(cx1link, cx2):\n",
    "        \n",
    "        debugmess(f'\\t cx2 is semantically dominant over cx1...', debug)\n",
    "        \n",
    "        link1path = list(cx1.unfoldcxpath(cx1link.slots))[:-1]\n",
    "        debugmess(f'\\t\\t searching {link1path}', debug)\n",
    "        \n",
    "        # submit until cx2's dominance ends\n",
    "        while (\n",
    "            yields2(link1path[-1], cx2)\n",
    "            and link1path\n",
    "        ):\n",
    "            cx1link = link1path.pop()\n",
    "        \n",
    "        debugmess(f'\\t\\t cx1link iterated upward to {cx1link}', debug)\n",
    "        \n",
    "        # subsume cx1 to cx2\n",
    "        debugmess(f'\\t\\t cx2 role [{cx2.slots2role[link]}] remapping to {cx1link}...', debug)\n",
    "        cx2.updaterole(cx2.slots2role[link], cx1link)\n",
    "        debugmess(f'\\t\\t remapping done with {cx2} containing roles {cx2.roles.dict}', debug)     \n",
    "                \n",
    "        # subsume cx2 to enclosing cx\n",
    "        bigcx = link1path[-1] if link1path else None \n",
    "        if bigcx:\n",
    "            debugmess(f'\\t assigning cx2 {cx2} to bigcx {bigcx}', debug)\n",
    "            biglink = tuple(sorted(cx1link.slots & bigcx.slots))\n",
    "            bigrole = bigcx.slots2role[biglink]\n",
    "            debugmess(f'\\t\\t big role [{bigrole}] remapping to {cx2}...', debug)\n",
    "            bigcx.updaterole(bigrole, cx2)\n",
    "            cx1.indexslots()\n",
    "            return weaveCX(cxlist, cx1, debug=debug)\n",
    "            \n",
    "        # or continue with cx2\n",
    "        else:\n",
    "            debugmess(f'\\t\\t moving on with cx2 as new primary: {cx2}', debug)\n",
    "            return weaveCX(cxlist, cx2, debug=debug)\n",
    "        \n",
    "    # submit cx2 to cx1\n",
    "    else:\n",
    "        linkcx1 = cx1.slots2cx(link)\n",
    "        debugmess(f'\\t submitting {cx2} to {linkcx1}...', debug)\n",
    "        linkrole1 = linkcx1.slots2role[link]\n",
    "        debugmess(f'\\t\\t role [{linkrole1}] remapping to {cx2}...', debug)\n",
    "        linkcx1.updaterole(linkrole1, cx2)\n",
    "        cx1.indexslots()\n",
    "        debugmess(f'\\t\\t remapping done with {linkcx1} containing roles {linkcx1.roles.dict}', debug)\n",
    "        return weaveCX(cxlist, cx1, debug=debug)"
   ]
  },
  {
   "cell_type": "code",
   "execution_count": 138,
   "metadata": {},
   "outputs": [
    {
     "name": "stdout",
     "output_type": "stream",
     "text": [
      "(819153,) True 0\n"
     ]
    },
    {
     "data": {
      "text/html": [
       "<p><b>result</b> <i>1449442</i></p>"
      ],
      "text/plain": [
       "<IPython.core.display.HTML object>"
      ]
     },
     "metadata": {},
     "output_type": "display_data"
    },
    {
     "data": {
      "text/html": [
       "<a href=\"https://shebanq.ancient-data.org/hebrew/text?book=Ezechiel&amp;chapter=38&amp;verse=10&amp;version=c&amp;mr=m&amp;qw=q&amp;tp=txt_p&amp;tr=hb&amp;wget=v&amp;qget=v&amp;nget=vt\" title=\"show this passage in SHEBANQ\" sec=\"Ezekiel 38:10\">Ezekiel 38:10</a>\n",
       "<div class=\"atoms  \" >\n",
       "<a href=\"#\" class=\"nd\">819153</a>\n",
       "\n",
       "\n",
       "\n",
       "<div class=\"patom  \" >\n",
       "\n",
       "    <div class=\"phrase \" >\n",
       "        <a href=\"https://shebanq.ancient-data.org/hebrew/text?book=Ezechiel&amp;chapter=38&amp;verse=10&amp;version=c&amp;mr=m&amp;qw=q&amp;tp=txt_p&amp;tr=hb&amp;wget=v&amp;qget=v&amp;nget=vt\" title=\"Ezekiel 38:10\" sec=\"Ezekiel 38:10\">phrase</a> <a href=\"#\" class=\"nd\">819153</a>  <span class=\"function\">Time</span> <span class=\"typ\">PP</span>\n",
       "    </div>\n",
       "    <div class=\"atoms\">\n",
       "\n",
       "<div class=\"word  \" >\n",
       "<a href=\"#\" class=\"nd\">283994</a>\n",
       "<div class=\"h\"><a target=\"_blank\" href=\"https://shebanq.ancient-data.org/hebrew/word?version=c&amp;id=1B\" title=\"show this lexeme in SHEBANQ\">בַּ</a></div>\n",
       "<div class=\"features\"> <span class=\"pdp\"><a href=\"https://shebanq.ancient-data.org/hebrew/text?book=Ezechiel&amp;chapter=38&amp;verse=10&amp;version=c&amp;mr=m&amp;qw=q&amp;tp=txt_p&amp;tr=hb&amp;wget=v&amp;qget=v&amp;nget=vt\" title=\"Ezekiel 38:10\" sec=\"Ezekiel 38:10\">prep</a></span> <span class=\"gloss\">in</span></div>\n",
       "\n",
       "\n",
       "</div>\n",
       "\n",
       "<div class=\"word  \" >\n",
       "<a href=\"#\" class=\"nd\">283995</a>\n",
       "<div class=\"h\"><a target=\"_blank\" href=\"https://shebanq.ancient-data.org/hebrew/word?version=c&amp;id=1H\" title=\"show this lexeme in SHEBANQ\"></a></div>\n",
       "<div class=\"features\"> <span class=\"pdp\"><a href=\"https://shebanq.ancient-data.org/hebrew/text?book=Ezechiel&amp;chapter=38&amp;verse=10&amp;version=c&amp;mr=m&amp;qw=q&amp;tp=txt_p&amp;tr=hb&amp;wget=v&amp;qget=v&amp;nget=vt\" title=\"Ezekiel 38:10\" sec=\"Ezekiel 38:10\">art</a></span> <span class=\"gloss\">the</span></div>\n",
       "\n",
       "\n",
       "</div>\n",
       "\n",
       "<div class=\"word  \" >\n",
       "<a href=\"#\" class=\"nd\">283996</a>\n",
       "<div class=\"h\"><a target=\"_blank\" href=\"https://shebanq.ancient-data.org/hebrew/word?version=c&amp;id=1JWMn\" title=\"show this lexeme in SHEBANQ\">יֹּ֣ום </a></div>\n",
       "<div class=\"features\"> <span class=\"pdp\"><a href=\"https://shebanq.ancient-data.org/hebrew/text?book=Ezechiel&amp;chapter=38&amp;verse=10&amp;version=c&amp;mr=m&amp;qw=q&amp;tp=txt_p&amp;tr=hb&amp;wget=v&amp;qget=v&amp;nget=vt\" title=\"Ezekiel 38:10\" sec=\"Ezekiel 38:10\">subs</a></span> <span class=\"gloss\">day</span> <span class=\"st xft\"><span class=\"f\">st=</span>a</span></div>\n",
       "\n",
       "\n",
       "</div>\n",
       "\n",
       "<div class=\"word  \" >\n",
       "<a href=\"#\" class=\"nd\">283997</a>\n",
       "<div class=\"h\"><a target=\"_blank\" href=\"https://shebanq.ancient-data.org/hebrew/word?version=c&amp;id=1H\" title=\"show this lexeme in SHEBANQ\">הַ</a></div>\n",
       "<div class=\"features\"> <span class=\"pdp\"><a href=\"https://shebanq.ancient-data.org/hebrew/text?book=Ezechiel&amp;chapter=38&amp;verse=10&amp;version=c&amp;mr=m&amp;qw=q&amp;tp=txt_p&amp;tr=hb&amp;wget=v&amp;qget=v&amp;nget=vt\" title=\"Ezekiel 38:10\" sec=\"Ezekiel 38:10\">art</a></span> <span class=\"gloss\">the</span></div>\n",
       "\n",
       "\n",
       "</div>\n",
       "\n",
       "<div class=\"word  \" >\n",
       "<a href=\"#\" class=\"nd\">283998</a>\n",
       "<div class=\"h\"><a target=\"_blank\" href=\"https://shebanq.ancient-data.org/hebrew/word?version=c&amp;id=1HWA\" title=\"show this lexeme in SHEBANQ\">ה֗וּא </a></div>\n",
       "<div class=\"features\"> <span class=\"pdp\"><a href=\"https://shebanq.ancient-data.org/hebrew/text?book=Ezechiel&amp;chapter=38&amp;verse=10&amp;version=c&amp;mr=m&amp;qw=q&amp;tp=txt_p&amp;tr=hb&amp;wget=v&amp;qget=v&amp;nget=vt\" title=\"Ezekiel 38:10\" sec=\"Ezekiel 38:10\">prde</a></span> <span class=\"gloss\">he</span></div>\n",
       "\n",
       "\n",
       "</div>\n",
       "\n",
       "\n",
       "    </div>\n",
       "\n",
       "\n",
       "</div>\n",
       "\n",
       "\n",
       "</div>\n"
      ],
      "text/plain": [
       "<IPython.core.display.HTML object>"
      ]
     },
     "metadata": {},
     "output_type": "display_data"
    }
   ],
   "source": [
    "tests = (\n",
    "    1446854, 1447886, 1450222, \n",
    "    1450112, 1449463, 1449440,\n",
    "    1449442\n",
    ")\n",
    "\n",
    "test = tests[6]\n",
    "\n",
    "pretty(test, index=0)"
   ]
  },
  {
   "cell_type": "code",
   "execution_count": 133,
   "metadata": {},
   "outputs": [
    {
     "data": {
      "text/plain": [
       "[CX attrib {283995, 283996, 283997, 283998},\n",
       " CX defi {283997, 283998},\n",
       " CX defi {283995, 283996},\n",
       " CX prep {283994, 283995}]"
      ]
     },
     "execution_count": 133,
     "metadata": {},
     "output_type": "execute_result"
    }
   ],
   "source": [
    "arranged = arrange_cxs(phrase2cx[test])[0]\n",
    "\n",
    "arranged"
   ]
  },
  {
   "cell_type": "code",
   "execution_count": 134,
   "metadata": {},
   "outputs": [
    {
     "data": {
      "text/plain": [
       "[CX prep {283994, 283995},\n",
       " CX defi {283995, 283996},\n",
       " CX attrib {283995, 283996, 283997, 283998},\n",
       " CX defi {283997, 283998}]"
      ]
     },
     "execution_count": 134,
     "metadata": {},
     "output_type": "execute_result"
    }
   ],
   "source": [
    "arranged = sortbyslot(arranged)\n",
    "\n",
    "arranged"
   ]
  },
  {
   "cell_type": "markdown",
   "metadata": {},
   "source": [
    "### TODO:\n",
    "\n",
    "Decide how to assign precedence without breaking links."
   ]
  },
  {
   "cell_type": "code",
   "execution_count": 135,
   "metadata": {},
   "outputs": [
    {
     "name": "stderr",
     "output_type": "stream",
     "text": [
      "\n",
      "Received None with cxlist [CX prep {283994, 283995}, CX defi {283995, 283996}, CX attrib {283995, 283996, 283997, 283998}, CX defi {283997, 283998}]\n",
      "\t comparing CX prep {283994, 283995} & CX defi {283995, 283996}\n",
      "\t link is (283995,)\n",
      "\t\t cx1link is CX prep {283994, 283995}\n",
      "\t submitting CX defi {283995, 283996} to CX prep {283994, 283995}...\n",
      "\t\t role [head] remapping to CX defi {283995, 283996}...\n",
      "\t\t remapping done with CX prep {283994, 283995, 283996} containing roles {'prep': 283994, 'head': CX defi {283995, 283996}}\n",
      "\n",
      "Received CX prep {283994, 283995, 283996} with cxlist [CX attrib {283995, 283996, 283997, 283998}, CX defi {283997, 283998}]\n",
      "\t comparing CX prep {283994, 283995, 283996} & CX attrib {283995, 283996, 283997, 283998}\n",
      "\t link is (283995, 283996)\n",
      "\t\t cx1link is CX prep {283994, 283995, 283996}\n",
      "\t submitting CX attrib {283995, 283996, 283997, 283998} to CX prep {283994, 283995, 283996}...\n",
      "\t\t role [head] remapping to CX attrib {283995, 283996, 283997, 283998}...\n",
      "\t\t remapping done with CX prep {283994, 283995, 283996, 283997, 283998} containing roles {'prep': 283994, 'head': CX attrib {283995, 283996, 283997, 283998}}\n",
      "\n",
      "Received CX prep {283994, 283995, 283996, 283997, 283998} with cxlist [CX defi {283997, 283998}]\n",
      "\t comparing CX prep {283994, 283995, 283996, 283997, 283998} & CX defi {283997, 283998}\n",
      "\t discarding CX defi {283997, 283998} since it is covered\n",
      "\n",
      "Received CX prep {283994, 283995, 283996, 283997, 283998} with cxlist []\n",
      "\tSearch complete with CX prep {283994, 283995, 283996, 283997, 283998} with roles: {'prep': 283994, 'head': CX attrib {283995, 283996, 283997, 283998}}\n"
     ]
    }
   ],
   "source": [
    "match = weaveCX(arranged, debug=True)"
   ]
  },
  {
   "cell_type": "code",
   "execution_count": 136,
   "metadata": {},
   "outputs": [
    {
     "data": {
      "text/html": [
       "<p><b>result</b> <i>1449442 -> CX prep {283994, 283995, 283996, 283997, 283998}</i></p>"
      ],
      "text/plain": [
       "<IPython.core.display.HTML object>"
      ]
     },
     "metadata": {},
     "output_type": "display_data"
    },
    {
     "data": {
      "text/html": [
       "<a href=\"https://shebanq.ancient-data.org/hebrew/text?book=Ezechiel&amp;chapter=38&amp;verse=10&amp;version=c&amp;mr=m&amp;qw=q&amp;tp=txt_p&amp;tr=hb&amp;wget=v&amp;qget=v&amp;nget=vt\" title=\"show this passage in SHEBANQ\" sec=\"Ezekiel 38:10\">Ezekiel 38:10</a>\n",
       "<div class=\"atoms  \" >\n",
       "<a href=\"#\" class=\"nd\">819153</a>\n",
       "\n",
       "\n",
       "\n",
       "<div class=\"patom  \" >\n",
       "\n",
       "    <div class=\"phrase \" >\n",
       "        <a href=\"https://shebanq.ancient-data.org/hebrew/text?book=Ezechiel&amp;chapter=38&amp;verse=10&amp;version=c&amp;mr=m&amp;qw=q&amp;tp=txt_p&amp;tr=hb&amp;wget=v&amp;qget=v&amp;nget=vt\" title=\"Ezekiel 38:10\" sec=\"Ezekiel 38:10\">phrase</a> <a href=\"#\" class=\"nd\">819153</a>  <span class=\"function\">Time</span> <span class=\"typ\">PP</span>\n",
       "    </div>\n",
       "    <div class=\"atoms\">\n",
       "\n",
       "<div class=\"word  hl\"  style=\"background-color: pink;\" >\n",
       "<a href=\"#\" class=\"nd\">283994</a>\n",
       "<div class=\"h\"><a target=\"_blank\" href=\"https://shebanq.ancient-data.org/hebrew/word?version=c&amp;id=1B\" title=\"show this lexeme in SHEBANQ\">בַּ</a></div>\n",
       "<div class=\"features\"> <span class=\"pdp\"><a href=\"https://shebanq.ancient-data.org/hebrew/text?book=Ezechiel&amp;chapter=38&amp;verse=10&amp;version=c&amp;mr=m&amp;qw=q&amp;tp=txt_p&amp;tr=hb&amp;wget=v&amp;qget=v&amp;nget=vt\" title=\"Ezekiel 38:10\" sec=\"Ezekiel 38:10\">prep</a></span> <span class=\"gloss\">in</span> <span class=\"sp xft\"><span class=\"f\">sp=</span>prep</span></div>\n",
       "\n",
       "\n",
       "</div>\n",
       "\n",
       "<div class=\"word  hl\"  style=\"background-color: lightblue;\" >\n",
       "<a href=\"#\" class=\"nd\">283995</a>\n",
       "<div class=\"h\"><a target=\"_blank\" href=\"https://shebanq.ancient-data.org/hebrew/word?version=c&amp;id=1H\" title=\"show this lexeme in SHEBANQ\"></a></div>\n",
       "<div class=\"features\"> <span class=\"pdp\"><a href=\"https://shebanq.ancient-data.org/hebrew/text?book=Ezechiel&amp;chapter=38&amp;verse=10&amp;version=c&amp;mr=m&amp;qw=q&amp;tp=txt_p&amp;tr=hb&amp;wget=v&amp;qget=v&amp;nget=vt\" title=\"Ezekiel 38:10\" sec=\"Ezekiel 38:10\">art</a></span> <span class=\"gloss\">the</span> <span class=\"sp xft\"><span class=\"f\">sp=</span>art</span></div>\n",
       "\n",
       "\n",
       "</div>\n",
       "\n",
       "<div class=\"word  hl\"  style=\"background-color: lightblue;\" >\n",
       "<a href=\"#\" class=\"nd\">283996</a>\n",
       "<div class=\"h\"><a target=\"_blank\" href=\"https://shebanq.ancient-data.org/hebrew/word?version=c&amp;id=1JWMn\" title=\"show this lexeme in SHEBANQ\">יֹּ֣ום </a></div>\n",
       "<div class=\"features\"> <span class=\"pdp\"><a href=\"https://shebanq.ancient-data.org/hebrew/text?book=Ezechiel&amp;chapter=38&amp;verse=10&amp;version=c&amp;mr=m&amp;qw=q&amp;tp=txt_p&amp;tr=hb&amp;wget=v&amp;qget=v&amp;nget=vt\" title=\"Ezekiel 38:10\" sec=\"Ezekiel 38:10\">subs</a></span> <span class=\"gloss\">day</span> <span class=\"sp xft\"><span class=\"f\">sp=</span>subs</span> <span class=\"st xft\"><span class=\"f\">st=</span>a</span></div>\n",
       "\n",
       "\n",
       "</div>\n",
       "\n",
       "<div class=\"word  hl\"  style=\"background-color: lightblue;\" >\n",
       "<a href=\"#\" class=\"nd\">283997</a>\n",
       "<div class=\"h\"><a target=\"_blank\" href=\"https://shebanq.ancient-data.org/hebrew/word?version=c&amp;id=1H\" title=\"show this lexeme in SHEBANQ\">הַ</a></div>\n",
       "<div class=\"features\"> <span class=\"pdp\"><a href=\"https://shebanq.ancient-data.org/hebrew/text?book=Ezechiel&amp;chapter=38&amp;verse=10&amp;version=c&amp;mr=m&amp;qw=q&amp;tp=txt_p&amp;tr=hb&amp;wget=v&amp;qget=v&amp;nget=vt\" title=\"Ezekiel 38:10\" sec=\"Ezekiel 38:10\">art</a></span> <span class=\"gloss\">the</span> <span class=\"sp xft\"><span class=\"f\">sp=</span>art</span></div>\n",
       "\n",
       "\n",
       "</div>\n",
       "\n",
       "<div class=\"word  hl\"  style=\"background-color: lightblue;\" >\n",
       "<a href=\"#\" class=\"nd\">283998</a>\n",
       "<div class=\"h\"><a target=\"_blank\" href=\"https://shebanq.ancient-data.org/hebrew/word?version=c&amp;id=1HWA\" title=\"show this lexeme in SHEBANQ\">ה֗וּא </a></div>\n",
       "<div class=\"features\"> <span class=\"pdp\"><a href=\"https://shebanq.ancient-data.org/hebrew/text?book=Ezechiel&amp;chapter=38&amp;verse=10&amp;version=c&amp;mr=m&amp;qw=q&amp;tp=txt_p&amp;tr=hb&amp;wget=v&amp;qget=v&amp;nget=vt\" title=\"Ezekiel 38:10\" sec=\"Ezekiel 38:10\">prde</a></span> <span class=\"gloss\">he</span> <span class=\"sp xft\"><span class=\"f\">sp=</span>prps</span></div>\n",
       "\n",
       "\n",
       "</div>\n",
       "\n",
       "\n",
       "    </div>\n",
       "\n",
       "\n",
       "</div>\n",
       "\n",
       "\n",
       "</div>\n"
      ],
      "text/plain": [
       "<IPython.core.display.HTML object>"
      ]
     },
     "metadata": {},
     "output_type": "display_data"
    },
    {
     "data": {
      "text/html": [
       "<div style=\"background: pink; text-align: center\">prep</div>"
      ],
      "text/plain": [
       "<IPython.core.display.HTML object>"
      ]
     },
     "metadata": {},
     "output_type": "display_data"
    },
    {
     "data": {
      "text/html": [
       "<div style=\"background: lightblue; text-align: center\">head</div>"
      ],
      "text/plain": [
       "<IPython.core.display.HTML object>"
      ]
     },
     "metadata": {},
     "output_type": "display_data"
    },
    {
     "name": "stdout",
     "output_type": "stream",
     "text": [
      "{   '__cx__': 'prep',\n",
      "    'head': {   '__cx__': 'attrib',\n",
      "                'attrib': {'__cx__': 'defi', 'defi': 283997, 'head': 283998},\n",
      "                'head': {'__cx__': 'defi', 'defi': 283995, 'head': 283996}},\n",
      "    'prep': 283994}\n",
      "\n",
      "cnds:\n",
      "w in preps                                               True\n",
      "F.prs.v(w) == absent                                     True\n",
      "bool(P(1))                                               True\n",
      "\n"
     ]
    },
    {
     "data": {
      "text/html": [
       "<hr>"
      ],
      "text/plain": [
       "<IPython.core.display.HTML object>"
      ]
     },
     "metadata": {},
     "output_type": "display_data"
    }
   ],
   "source": [
    "showmatch(match)"
   ]
  },
  {
   "cell_type": "code",
   "execution_count": 177,
   "metadata": {},
   "outputs": [
    {
     "data": {
      "text/plain": [
       "[CX prep {283994, 283995, 283996, 283997, 283998},\n",
       " CX attrib {283995, 283996, 283997, 283998},\n",
       " CX defi {283995, 283996},\n",
       " CX defi {283997, 283998}]"
      ]
     },
     "execution_count": 177,
     "metadata": {},
     "output_type": "execute_result"
    }
   ],
   "source": [
    "list(match.unfoldcxs())"
   ]
  },
  {
   "cell_type": "code",
   "execution_count": 181,
   "metadata": {},
   "outputs": [
    {
     "data": {
      "text/plain": [
       "[CX attrib {283995, 283996, 283997, 283998},\n",
       " CX prep {283994, 283995, 283996, 283997, 283998}]"
      ]
     },
     "execution_count": 181,
     "metadata": {},
     "output_type": "execute_result"
    }
   ],
   "source": [
    "list(reversed(match.unfoldcxpath({283995, 283996, 283997, 283998})))"
   ]
  },
  {
   "cell_type": "code",
   "execution_count": 108,
   "metadata": {},
   "outputs": [],
   "source": [
    "# matches = []\n",
    "# for m in getcxs(test, debug=True):\n",
    "#     print('trying', m)\n",
    "#     showmatch(m)\n",
    "#     matches.append(m)"
   ]
  },
  {
   "cell_type": "markdown",
   "metadata": {},
   "source": [
    "## Test Cases"
   ]
  },
  {
   "cell_type": "code",
   "execution_count": 109,
   "metadata": {},
   "outputs": [
    {
     "data": {
      "text/html": [
       "<a href=\"https://shebanq.ancient-data.org/hebrew/text?book=Reges_I&amp;chapter=16&amp;verse=29&amp;version=c&amp;mr=m&amp;qw=q&amp;tp=txt_p&amp;tr=hb&amp;wget=v&amp;qget=v&amp;nget=vt\" title=\"show this passage in SHEBANQ\" sec=\"1_Kings 16:29\">1_Kings 16:29</a>\n",
       "<div class=\"patom  l \" >\n",
       "\n",
       "    <div class=\"phrase \" >\n",
       "        <a href=\"https://shebanq.ancient-data.org/hebrew/text?book=Reges_I&amp;chapter=16&amp;verse=29&amp;version=c&amp;mr=m&amp;qw=q&amp;tp=txt_p&amp;tr=hb&amp;wget=v&amp;qget=v&amp;nget=vt\" title=\"1_Kings 16:29\" sec=\"1_Kings 16:29\">phrase</a> <a href=\"#\" class=\"nd\">760754</a>  <span class=\"function\">Time</span> <span class=\"typ\">PP</span>\n",
       "    </div>\n",
       "    <div class=\"atoms\">\n",
       "\n",
       "<div class=\"word  \" >\n",
       "<a href=\"#\" class=\"nd\">189681</a>\n",
       "<div class=\"h\"><a target=\"_blank\" href=\"https://shebanq.ancient-data.org/hebrew/word?version=c&amp;id=1B\" title=\"show this lexeme in SHEBANQ\">בִּ</a></div>\n",
       "<div class=\"features\"> <span class=\"pdp\"><a href=\"https://shebanq.ancient-data.org/hebrew/text?book=Reges_I&amp;chapter=16&amp;verse=29&amp;version=c&amp;mr=m&amp;qw=q&amp;tp=txt_p&amp;tr=hb&amp;wget=v&amp;qget=v&amp;nget=vt\" title=\"1_Kings 16:29\" sec=\"1_Kings 16:29\">prep</a></span> <span class=\"gloss\">in</span></div>\n",
       "\n",
       "\n",
       "</div>\n",
       "\n",
       "<div class=\"word  \" >\n",
       "<a href=\"#\" class=\"nd\">189682</a>\n",
       "<div class=\"h\"><a target=\"_blank\" href=\"https://shebanq.ancient-data.org/hebrew/word?version=c&amp;id=1CNHn\" title=\"show this lexeme in SHEBANQ\">שְׁנַ֨ת </a></div>\n",
       "<div class=\"features\"> <span class=\"pdp\"><a href=\"https://shebanq.ancient-data.org/hebrew/text?book=Reges_I&amp;chapter=16&amp;verse=29&amp;version=c&amp;mr=m&amp;qw=q&amp;tp=txt_p&amp;tr=hb&amp;wget=v&amp;qget=v&amp;nget=vt\" title=\"1_Kings 16:29\" sec=\"1_Kings 16:29\">subs</a></span> <span class=\"gloss\">year</span> <span class=\"st xft\"><span class=\"f\">st=</span>c</span></div>\n",
       "\n",
       "\n",
       "</div>\n",
       "\n",
       "<div class=\"word  \" >\n",
       "<a href=\"#\" class=\"nd\">189683</a>\n",
       "<div class=\"h\"><a target=\"_blank\" href=\"https://shebanq.ancient-data.org/hebrew/word?version=c&amp;id=1CLCn\" title=\"show this lexeme in SHEBANQ\">שְׁלֹשִׁ֤ים </a></div>\n",
       "<div class=\"features\"> <span class=\"pdp\"><a href=\"https://shebanq.ancient-data.org/hebrew/text?book=Reges_I&amp;chapter=16&amp;verse=29&amp;version=c&amp;mr=m&amp;qw=q&amp;tp=txt_p&amp;tr=hb&amp;wget=v&amp;qget=v&amp;nget=vt\" title=\"1_Kings 16:29\" sec=\"1_Kings 16:29\">subs</a></span> <span class=\"gloss\">three</span> <span class=\"st xft\"><span class=\"f\">st=</span>a</span></div>\n",
       "\n",
       "\n",
       "</div>\n",
       "\n",
       "<div class=\"word  \" >\n",
       "<a href=\"#\" class=\"nd\">189684</a>\n",
       "<div class=\"h\"><a target=\"_blank\" href=\"https://shebanq.ancient-data.org/hebrew/word?version=c&amp;id=1W\" title=\"show this lexeme in SHEBANQ\">וּ</a></div>\n",
       "<div class=\"features\"> <span class=\"pdp\"><a href=\"https://shebanq.ancient-data.org/hebrew/text?book=Reges_I&amp;chapter=16&amp;verse=29&amp;version=c&amp;mr=m&amp;qw=q&amp;tp=txt_p&amp;tr=hb&amp;wget=v&amp;qget=v&amp;nget=vt\" title=\"1_Kings 16:29\" sec=\"1_Kings 16:29\">conj</a></span> <span class=\"gloss\">and</span></div>\n",
       "\n",
       "\n",
       "</div>\n",
       "\n",
       "<div class=\"word  \" >\n",
       "<a href=\"#\" class=\"nd\">189685</a>\n",
       "<div class=\"h\"><a target=\"_blank\" href=\"https://shebanq.ancient-data.org/hebrew/word?version=c&amp;id=1CMNHn\" title=\"show this lexeme in SHEBANQ\">שְׁמֹנֶה֙ </a></div>\n",
       "<div class=\"features\"> <span class=\"pdp\"><a href=\"https://shebanq.ancient-data.org/hebrew/text?book=Reges_I&amp;chapter=16&amp;verse=29&amp;version=c&amp;mr=m&amp;qw=q&amp;tp=txt_p&amp;tr=hb&amp;wget=v&amp;qget=v&amp;nget=vt\" title=\"1_Kings 16:29\" sec=\"1_Kings 16:29\">subs</a></span> <span class=\"gloss\">eight</span> <span class=\"st xft\"><span class=\"f\">st=</span>a</span></div>\n",
       "\n",
       "\n",
       "</div>\n",
       "\n",
       "<div class=\"word  \" >\n",
       "<a href=\"#\" class=\"nd\">189686</a>\n",
       "<div class=\"h\"><a target=\"_blank\" href=\"https://shebanq.ancient-data.org/hebrew/word?version=c&amp;id=1CNHn\" title=\"show this lexeme in SHEBANQ\">שָׁנָ֔ה </a></div>\n",
       "<div class=\"features\"> <span class=\"pdp\"><a href=\"https://shebanq.ancient-data.org/hebrew/text?book=Reges_I&amp;chapter=16&amp;verse=29&amp;version=c&amp;mr=m&amp;qw=q&amp;tp=txt_p&amp;tr=hb&amp;wget=v&amp;qget=v&amp;nget=vt\" title=\"1_Kings 16:29\" sec=\"1_Kings 16:29\">subs</a></span> <span class=\"gloss\">year</span> <span class=\"st xft\"><span class=\"f\">st=</span>a</span></div>\n",
       "\n",
       "\n",
       "</div>\n",
       "\n",
       "\n",
       "    </div>\n",
       "\n",
       "\n",
       "</div>\n"
      ],
      "text/plain": [
       "<IPython.core.display.HTML object>"
      ]
     },
     "metadata": {},
     "output_type": "display_data"
    }
   ],
   "source": [
    "A.pretty(1020587)"
   ]
  },
  {
   "cell_type": "code",
   "execution_count": 628,
   "metadata": {},
   "outputs": [
    {
     "data": {
      "text/plain": [
       "[[CX card_chain {189683, 189684, 189685},\n",
       "  CX numb {189685, 189686},\n",
       "  CX geni {189682, 189683},\n",
       "  CX prep {189681, 189682}],\n",
       " [CX prep {189688, 189687}],\n",
       " [CX geni {189689, 189690}]]"
      ]
     },
     "execution_count": 628,
     "metadata": {},
     "output_type": "execute_result"
    }
   ],
   "source": [
    "arrange_cxs(phrase2cx[L.u(1020587,'timephrase')[0]])"
   ]
  },
  {
   "cell_type": "code",
   "execution_count": 629,
   "metadata": {},
   "outputs": [
    {
     "data": {
      "text/html": [
       "<a href=\"https://shebanq.ancient-data.org/hebrew/text?book=Genesis&amp;chapter=8&amp;verse=13&amp;version=c&amp;mr=m&amp;qw=q&amp;tp=txt_p&amp;tr=hb&amp;wget=v&amp;qget=v&amp;nget=vt\" title=\"show this passage in SHEBANQ\" sec=\"Genesis 8:13\">Genesis 8:13</a>\n",
       "<div class=\"patom  \" >\n",
       "\n",
       "    <div class=\"phrase \" >\n",
       "        <a href=\"https://shebanq.ancient-data.org/hebrew/text?book=Genesis&amp;chapter=8&amp;verse=13&amp;version=c&amp;mr=m&amp;qw=q&amp;tp=txt_p&amp;tr=hb&amp;wget=v&amp;qget=v&amp;nget=vt\" title=\"Genesis 8:13\" sec=\"Genesis 8:13\">phrase</a> <a href=\"#\" class=\"nd\">653659</a>  <span class=\"function\">Time</span> <span class=\"typ\">PP</span>\n",
       "    </div>\n",
       "    <div class=\"atoms\">\n",
       "\n",
       "<div class=\"word  \" >\n",
       "<a href=\"#\" class=\"nd\">3799</a>\n",
       "<div class=\"h\"><a target=\"_blank\" href=\"https://shebanq.ancient-data.org/hebrew/word?version=c&amp;id=1B\" title=\"show this lexeme in SHEBANQ\">בְּ</a></div>\n",
       "<div class=\"features\"> <span class=\"pdp\"><a href=\"https://shebanq.ancient-data.org/hebrew/text?book=Genesis&amp;chapter=8&amp;verse=13&amp;version=c&amp;mr=m&amp;qw=q&amp;tp=txt_p&amp;tr=hb&amp;wget=v&amp;qget=v&amp;nget=vt\" title=\"Genesis 8:13\" sec=\"Genesis 8:13\">prep</a></span> <span class=\"gloss\">in</span></div>\n",
       "\n",
       "\n",
       "</div>\n",
       "\n",
       "<div class=\"word  \" >\n",
       "<a href=\"#\" class=\"nd\">3800</a>\n",
       "<div class=\"h\"><a target=\"_blank\" href=\"https://shebanq.ancient-data.org/hebrew/word?version=c&amp;id=1AXDn\" title=\"show this lexeme in SHEBANQ\">אַחַ֨ת </a></div>\n",
       "<div class=\"features\"> <span class=\"pdp\"><a href=\"https://shebanq.ancient-data.org/hebrew/text?book=Genesis&amp;chapter=8&amp;verse=13&amp;version=c&amp;mr=m&amp;qw=q&amp;tp=txt_p&amp;tr=hb&amp;wget=v&amp;qget=v&amp;nget=vt\" title=\"Genesis 8:13\" sec=\"Genesis 8:13\">subs</a></span> <span class=\"gloss\">one</span> <span class=\"st xft\"><span class=\"f\">st=</span>a</span></div>\n",
       "\n",
       "\n",
       "</div>\n",
       "\n",
       "<div class=\"word  \" >\n",
       "<a href=\"#\" class=\"nd\">3801</a>\n",
       "<div class=\"h\"><a target=\"_blank\" href=\"https://shebanq.ancient-data.org/hebrew/word?version=c&amp;id=1W\" title=\"show this lexeme in SHEBANQ\">וְ</a></div>\n",
       "<div class=\"features\"> <span class=\"pdp\"><a href=\"https://shebanq.ancient-data.org/hebrew/text?book=Genesis&amp;chapter=8&amp;verse=13&amp;version=c&amp;mr=m&amp;qw=q&amp;tp=txt_p&amp;tr=hb&amp;wget=v&amp;qget=v&amp;nget=vt\" title=\"Genesis 8:13\" sec=\"Genesis 8:13\">conj</a></span> <span class=\"gloss\">and</span></div>\n",
       "\n",
       "\n",
       "</div>\n",
       "\n",
       "<div class=\"word  \" >\n",
       "<a href=\"#\" class=\"nd\">3802</a>\n",
       "<div class=\"h\"><a target=\"_blank\" href=\"https://shebanq.ancient-data.org/hebrew/word?version=c&amp;id=1CCn\" title=\"show this lexeme in SHEBANQ\">שֵׁשׁ־</a></div>\n",
       "<div class=\"features\"> <span class=\"pdp\"><a href=\"https://shebanq.ancient-data.org/hebrew/text?book=Genesis&amp;chapter=8&amp;verse=13&amp;version=c&amp;mr=m&amp;qw=q&amp;tp=txt_p&amp;tr=hb&amp;wget=v&amp;qget=v&amp;nget=vt\" title=\"Genesis 8:13\" sec=\"Genesis 8:13\">subs</a></span> <span class=\"gloss\">six</span> <span class=\"st xft\"><span class=\"f\">st=</span>c</span></div>\n",
       "\n",
       "\n",
       "</div>\n",
       "\n",
       "<div class=\"word  \" >\n",
       "<a href=\"#\" class=\"nd\">3803</a>\n",
       "<div class=\"h\"><a target=\"_blank\" href=\"https://shebanq.ancient-data.org/hebrew/word?version=c&amp;id=1MAHn\" title=\"show this lexeme in SHEBANQ\">מֵאֹ֜ות </a></div>\n",
       "<div class=\"features\"> <span class=\"pdp\"><a href=\"https://shebanq.ancient-data.org/hebrew/text?book=Genesis&amp;chapter=8&amp;verse=13&amp;version=c&amp;mr=m&amp;qw=q&amp;tp=txt_p&amp;tr=hb&amp;wget=v&amp;qget=v&amp;nget=vt\" title=\"Genesis 8:13\" sec=\"Genesis 8:13\">subs</a></span> <span class=\"gloss\">hundred</span> <span class=\"st xft\"><span class=\"f\">st=</span>a</span></div>\n",
       "\n",
       "\n",
       "</div>\n",
       "\n",
       "<div class=\"word  \" >\n",
       "<a href=\"#\" class=\"nd\">3804</a>\n",
       "<div class=\"h\"><a target=\"_blank\" href=\"https://shebanq.ancient-data.org/hebrew/word?version=c&amp;id=1CNHn\" title=\"show this lexeme in SHEBANQ\">שָׁנָ֗ה </a></div>\n",
       "<div class=\"features\"> <span class=\"pdp\"><a href=\"https://shebanq.ancient-data.org/hebrew/text?book=Genesis&amp;chapter=8&amp;verse=13&amp;version=c&amp;mr=m&amp;qw=q&amp;tp=txt_p&amp;tr=hb&amp;wget=v&amp;qget=v&amp;nget=vt\" title=\"Genesis 8:13\" sec=\"Genesis 8:13\">subs</a></span> <span class=\"gloss\">year</span> <span class=\"st xft\"><span class=\"f\">st=</span>a</span></div>\n",
       "\n",
       "\n",
       "</div>\n",
       "\n",
       "\n",
       "    </div>\n",
       "\n",
       "\n",
       "</div>\n"
      ],
      "text/plain": [
       "<IPython.core.display.HTML object>"
      ]
     },
     "metadata": {},
     "output_type": "display_data"
    }
   ],
   "source": [
    "A.pretty(906959)"
   ]
  },
  {
   "cell_type": "code",
   "execution_count": 630,
   "metadata": {},
   "outputs": [
    {
     "name": "stdout",
     "output_type": "stream",
     "text": [
      "1446854\n"
     ]
    },
    {
     "data": {
      "text/plain": [
       "[[CX card_chain {3802, 3803},\n",
       "  CX card_chain {3800, 3801, 3802},\n",
       "  CX numb {3803, 3804},\n",
       "  CX prep {3800, 3799}],\n",
       " [CX defi {3806, 3807}, CX prep {3805, 3806}],\n",
       " [CX prep {3808, 3809}],\n",
       " [CX defi {3811, 3812}, CX prep {3810, 3811}]]"
      ]
     },
     "execution_count": 630,
     "metadata": {},
     "output_type": "execute_result"
    }
   ],
   "source": [
    "cx_906959 = L.u(906959, 'timephrase')[0]\n",
    "print(cx_906959)\n",
    "\n",
    "arrange_cxs(phrase2cx[cx_906959])"
   ]
  },
  {
   "cell_type": "code",
   "execution_count": 631,
   "metadata": {},
   "outputs": [
    {
     "data": {
      "text/html": [
       "<a href=\"https://shebanq.ancient-data.org/hebrew/text?book=Genesis&amp;chapter=2&amp;verse=2&amp;version=c&amp;mr=m&amp;qw=q&amp;tp=txt_p&amp;tr=hb&amp;wget=v&amp;qget=v&amp;nget=vt\" title=\"show this passage in SHEBANQ\" sec=\"Genesis 2:2\">Genesis 2:2</a>\n",
       "<div class=\"patom  \" >\n",
       "\n",
       "    <div class=\"phrase \" >\n",
       "        <a href=\"https://shebanq.ancient-data.org/hebrew/text?book=Genesis&amp;chapter=2&amp;verse=2&amp;version=c&amp;mr=m&amp;qw=q&amp;tp=txt_p&amp;tr=hb&amp;wget=v&amp;qget=v&amp;nget=vt\" title=\"Genesis 2:2\" sec=\"Genesis 2:2\">phrase</a> <a href=\"#\" class=\"nd\">651923</a>  <span class=\"function\">Time</span> <span class=\"typ\">PP</span>\n",
       "    </div>\n",
       "    <div class=\"atoms\">\n",
       "\n",
       "<div class=\"word  \" >\n",
       "<a href=\"#\" class=\"nd\">687</a>\n",
       "<div class=\"h\"><a target=\"_blank\" href=\"https://shebanq.ancient-data.org/hebrew/word?version=c&amp;id=1B\" title=\"show this lexeme in SHEBANQ\">בַּ</a></div>\n",
       "<div class=\"features\"> <span class=\"pdp\"><a href=\"https://shebanq.ancient-data.org/hebrew/text?book=Genesis&amp;chapter=2&amp;verse=2&amp;version=c&amp;mr=m&amp;qw=q&amp;tp=txt_p&amp;tr=hb&amp;wget=v&amp;qget=v&amp;nget=vt\" title=\"Genesis 2:2\" sec=\"Genesis 2:2\">prep</a></span> <span class=\"gloss\">in</span></div>\n",
       "\n",
       "\n",
       "</div>\n",
       "\n",
       "<div class=\"word  \" >\n",
       "<a href=\"#\" class=\"nd\">688</a>\n",
       "<div class=\"h\"><a target=\"_blank\" href=\"https://shebanq.ancient-data.org/hebrew/word?version=c&amp;id=1H\" title=\"show this lexeme in SHEBANQ\"></a></div>\n",
       "<div class=\"features\"> <span class=\"pdp\"><a href=\"https://shebanq.ancient-data.org/hebrew/text?book=Genesis&amp;chapter=2&amp;verse=2&amp;version=c&amp;mr=m&amp;qw=q&amp;tp=txt_p&amp;tr=hb&amp;wget=v&amp;qget=v&amp;nget=vt\" title=\"Genesis 2:2\" sec=\"Genesis 2:2\">art</a></span> <span class=\"gloss\">the</span></div>\n",
       "\n",
       "\n",
       "</div>\n",
       "\n",
       "<div class=\"word  \" >\n",
       "<a href=\"#\" class=\"nd\">689</a>\n",
       "<div class=\"h\"><a target=\"_blank\" href=\"https://shebanq.ancient-data.org/hebrew/word?version=c&amp;id=1JWMn\" title=\"show this lexeme in SHEBANQ\">יֹּ֣ום </a></div>\n",
       "<div class=\"features\"> <span class=\"pdp\"><a href=\"https://shebanq.ancient-data.org/hebrew/text?book=Genesis&amp;chapter=2&amp;verse=2&amp;version=c&amp;mr=m&amp;qw=q&amp;tp=txt_p&amp;tr=hb&amp;wget=v&amp;qget=v&amp;nget=vt\" title=\"Genesis 2:2\" sec=\"Genesis 2:2\">subs</a></span> <span class=\"gloss\">day</span> <span class=\"st xft\"><span class=\"f\">st=</span>a</span></div>\n",
       "\n",
       "\n",
       "</div>\n",
       "\n",
       "<div class=\"word  \" >\n",
       "<a href=\"#\" class=\"nd\">690</a>\n",
       "<div class=\"h\"><a target=\"_blank\" href=\"https://shebanq.ancient-data.org/hebrew/word?version=c&amp;id=1H\" title=\"show this lexeme in SHEBANQ\">הַ</a></div>\n",
       "<div class=\"features\"> <span class=\"pdp\"><a href=\"https://shebanq.ancient-data.org/hebrew/text?book=Genesis&amp;chapter=2&amp;verse=2&amp;version=c&amp;mr=m&amp;qw=q&amp;tp=txt_p&amp;tr=hb&amp;wget=v&amp;qget=v&amp;nget=vt\" title=\"Genesis 2:2\" sec=\"Genesis 2:2\">art</a></span> <span class=\"gloss\">the</span></div>\n",
       "\n",
       "\n",
       "</div>\n",
       "\n",
       "<div class=\"word  \" >\n",
       "<a href=\"#\" class=\"nd\">691</a>\n",
       "<div class=\"h\"><a target=\"_blank\" href=\"https://shebanq.ancient-data.org/hebrew/word?version=c&amp;id=1CBJOJn\" title=\"show this lexeme in SHEBANQ\">שְּׁבִיעִ֔י </a></div>\n",
       "<div class=\"features\"> <span class=\"pdp\"><a href=\"https://shebanq.ancient-data.org/hebrew/text?book=Genesis&amp;chapter=2&amp;verse=2&amp;version=c&amp;mr=m&amp;qw=q&amp;tp=txt_p&amp;tr=hb&amp;wget=v&amp;qget=v&amp;nget=vt\" title=\"Genesis 2:2\" sec=\"Genesis 2:2\">adjv</a></span> <span class=\"gloss\">seventh</span> <span class=\"st xft\"><span class=\"f\">st=</span>a</span></div>\n",
       "\n",
       "\n",
       "</div>\n",
       "\n",
       "\n",
       "    </div>\n",
       "\n",
       "\n",
       "</div>\n"
      ],
      "text/plain": [
       "<IPython.core.display.HTML object>"
      ]
     },
     "metadata": {},
     "output_type": "display_data"
    }
   ],
   "source": [
    "A.pretty(905154)"
   ]
  },
  {
   "cell_type": "code",
   "execution_count": 632,
   "metadata": {},
   "outputs": [
    {
     "name": "stdout",
     "output_type": "stream",
     "text": [
      "1446801\n"
     ]
    },
    {
     "data": {
      "text/plain": [
       "[[CX attrib {688, 689, 690, 691},\n",
       "  CX defi {690, 691},\n",
       "  CX defi {688, 689},\n",
       "  CX prep {688, 687}]]"
      ]
     },
     "execution_count": 632,
     "metadata": {},
     "output_type": "execute_result"
    }
   ],
   "source": [
    "cx_905154 = L.u(905154, 'timephrase')[0]\n",
    "print(cx_905154)\n",
    "\n",
    "arrange_cxs(phrase2cx[cx_905154])"
   ]
  },
  {
   "cell_type": "code",
   "execution_count": 633,
   "metadata": {},
   "outputs": [
    {
     "data": {
      "text/html": [
       "<a href=\"https://shebanq.ancient-data.org/hebrew/text?book=Josua&amp;chapter=5&amp;verse=11&amp;version=c&amp;mr=m&amp;qw=q&amp;tp=txt_p&amp;tr=hb&amp;wget=v&amp;qget=v&amp;nget=vt\" title=\"show this passage in SHEBANQ\" sec=\"Joshua 5:11\">Joshua 5:11</a>\n",
       "<div class=\"patom  \" >\n",
       "\n",
       "    <div class=\"phrase \" >\n",
       "        <a href=\"https://shebanq.ancient-data.org/hebrew/text?book=Josua&amp;chapter=5&amp;verse=11&amp;version=c&amp;mr=m&amp;qw=q&amp;tp=txt_p&amp;tr=hb&amp;wget=v&amp;qget=v&amp;nget=vt\" title=\"Joshua 5:11\" sec=\"Joshua 5:11\">phrase</a> <a href=\"#\" class=\"nd\">717001</a>  <span class=\"function\">Time</span> <span class=\"typ\">PP</span>\n",
       "    </div>\n",
       "    <div class=\"atoms\">\n",
       "\n",
       "<div class=\"word  \" >\n",
       "<a href=\"#\" class=\"nd\">115228</a>\n",
       "<div class=\"h\"><a target=\"_blank\" href=\"https://shebanq.ancient-data.org/hebrew/word?version=c&amp;id=1B\" title=\"show this lexeme in SHEBANQ\">בְּ</a></div>\n",
       "<div class=\"features\"> <span class=\"pdp\"><a href=\"https://shebanq.ancient-data.org/hebrew/text?book=Josua&amp;chapter=5&amp;verse=11&amp;version=c&amp;mr=m&amp;qw=q&amp;tp=txt_p&amp;tr=hb&amp;wget=v&amp;qget=v&amp;nget=vt\" title=\"Joshua 5:11\" sec=\"Joshua 5:11\">prep</a></span> <span class=\"gloss\">in</span></div>\n",
       "\n",
       "\n",
       "</div>\n",
       "\n",
       "<div class=\"word  \" >\n",
       "<a href=\"#\" class=\"nd\">115229</a>\n",
       "<div class=\"h\"><a target=\"_blank\" href=\"https://shebanq.ancient-data.org/hebrew/word?version=c&amp;id=1OYMn\" title=\"show this lexeme in SHEBANQ\">עֶ֖צֶם </a></div>\n",
       "<div class=\"features\"> <span class=\"pdp\"><a href=\"https://shebanq.ancient-data.org/hebrew/text?book=Josua&amp;chapter=5&amp;verse=11&amp;version=c&amp;mr=m&amp;qw=q&amp;tp=txt_p&amp;tr=hb&amp;wget=v&amp;qget=v&amp;nget=vt\" title=\"Joshua 5:11\" sec=\"Joshua 5:11\">subs</a></span> <span class=\"gloss\">bone</span> <span class=\"st xft\"><span class=\"f\">st=</span>c</span></div>\n",
       "\n",
       "\n",
       "</div>\n",
       "\n",
       "<div class=\"word  \" >\n",
       "<a href=\"#\" class=\"nd\">115230</a>\n",
       "<div class=\"h\"><a target=\"_blank\" href=\"https://shebanq.ancient-data.org/hebrew/word?version=c&amp;id=1H\" title=\"show this lexeme in SHEBANQ\">הַ</a></div>\n",
       "<div class=\"features\"> <span class=\"pdp\"><a href=\"https://shebanq.ancient-data.org/hebrew/text?book=Josua&amp;chapter=5&amp;verse=11&amp;version=c&amp;mr=m&amp;qw=q&amp;tp=txt_p&amp;tr=hb&amp;wget=v&amp;qget=v&amp;nget=vt\" title=\"Joshua 5:11\" sec=\"Joshua 5:11\">art</a></span> <span class=\"gloss\">the</span></div>\n",
       "\n",
       "\n",
       "</div>\n",
       "\n",
       "<div class=\"word  \" >\n",
       "<a href=\"#\" class=\"nd\">115231</a>\n",
       "<div class=\"h\"><a target=\"_blank\" href=\"https://shebanq.ancient-data.org/hebrew/word?version=c&amp;id=1JWMn\" title=\"show this lexeme in SHEBANQ\">יֹּ֥ום </a></div>\n",
       "<div class=\"features\"> <span class=\"pdp\"><a href=\"https://shebanq.ancient-data.org/hebrew/text?book=Josua&amp;chapter=5&amp;verse=11&amp;version=c&amp;mr=m&amp;qw=q&amp;tp=txt_p&amp;tr=hb&amp;wget=v&amp;qget=v&amp;nget=vt\" title=\"Joshua 5:11\" sec=\"Joshua 5:11\">subs</a></span> <span class=\"gloss\">day</span> <span class=\"st xft\"><span class=\"f\">st=</span>a</span></div>\n",
       "\n",
       "\n",
       "</div>\n",
       "\n",
       "<div class=\"word  \" >\n",
       "<a href=\"#\" class=\"nd\">115232</a>\n",
       "<div class=\"h\"><a target=\"_blank\" href=\"https://shebanq.ancient-data.org/hebrew/word?version=c&amp;id=1H\" title=\"show this lexeme in SHEBANQ\">הַ</a></div>\n",
       "<div class=\"features\"> <span class=\"pdp\"><a href=\"https://shebanq.ancient-data.org/hebrew/text?book=Josua&amp;chapter=5&amp;verse=11&amp;version=c&amp;mr=m&amp;qw=q&amp;tp=txt_p&amp;tr=hb&amp;wget=v&amp;qget=v&amp;nget=vt\" title=\"Joshua 5:11\" sec=\"Joshua 5:11\">art</a></span> <span class=\"gloss\">the</span></div>\n",
       "\n",
       "\n",
       "</div>\n",
       "\n",
       "<div class=\"word  \" >\n",
       "<a href=\"#\" class=\"nd\">115233</a>\n",
       "<div class=\"h\"><a target=\"_blank\" href=\"https://shebanq.ancient-data.org/hebrew/word?version=c&amp;id=1ZH\" title=\"show this lexeme in SHEBANQ\">זֶּֽה׃ </a></div>\n",
       "<div class=\"features\"> <span class=\"pdp\"><a href=\"https://shebanq.ancient-data.org/hebrew/text?book=Josua&amp;chapter=5&amp;verse=11&amp;version=c&amp;mr=m&amp;qw=q&amp;tp=txt_p&amp;tr=hb&amp;wget=v&amp;qget=v&amp;nget=vt\" title=\"Joshua 5:11\" sec=\"Joshua 5:11\">prde</a></span> <span class=\"gloss\">this</span></div>\n",
       "\n",
       "\n",
       "</div>\n",
       "\n",
       "\n",
       "    </div>\n",
       "\n",
       "\n",
       "</div>\n"
      ],
      "text/plain": [
       "<IPython.core.display.HTML object>"
      ]
     },
     "metadata": {},
     "output_type": "display_data"
    }
   ],
   "source": [
    "A.pretty(974016)"
   ]
  },
  {
   "cell_type": "code",
   "execution_count": 634,
   "metadata": {},
   "outputs": [
    {
     "name": "stdout",
     "output_type": "stream",
     "text": [
      "1447886\n"
     ]
    },
    {
     "data": {
      "text/plain": [
       "[[CX attrib {115232, 115233, 115230, 115231},\n",
       "  CX defi {115232, 115233},\n",
       "  CX defi {115230, 115231},\n",
       "  CX prep {115229, 115230},\n",
       "  CX prep {115228, 115229}]]"
      ]
     },
     "execution_count": 634,
     "metadata": {},
     "output_type": "execute_result"
    }
   ],
   "source": [
    "cx_974016 = L.u(974016, 'timephrase')[0]\n",
    "print(cx_974016)\n",
    "arrange_cxs(phrase2cx[cx_974016])"
   ]
  },
  {
   "cell_type": "markdown",
   "metadata": {},
   "source": [
    "## Testing Construction Builds"
   ]
  },
  {
   "cell_type": "markdown",
   "metadata": {},
   "source": [
    "### No Matches"
   ]
  },
  {
   "cell_type": "code",
   "execution_count": 635,
   "metadata": {},
   "outputs": [],
   "source": [
    "# for ph in nocxs:\n",
    "#     pretty(ph, extraFeatures='sp')"
   ]
  },
  {
   "cell_type": "markdown",
   "metadata": {},
   "source": [
    "### Gaps"
   ]
  },
  {
   "cell_type": "code",
   "execution_count": 110,
   "metadata": {},
   "outputs": [
    {
     "name": "stdout",
     "output_type": "stream",
     "text": [
      "0:00:00.000030 beginning analysis...\n",
      "0:00:00.841444 COMPLETE.\n"
     ]
    }
   ],
   "source": [
    "# analyze all phrases\n",
    "\n",
    "cxanalyzed = {}\n",
    "\n",
    "start = datetime.now()\n",
    "\n",
    "print(f'{datetime.now()-start} beginning analysis...')\n",
    "\n",
    "analyze = list(phrase2cx.keys())\n",
    "random.shuffle(analyze)\n",
    "\n",
    "for ph in analyze:\n",
    "\n",
    "    try:\n",
    "        # get analyzed phrases\n",
    "        cxanalyzed[ph] = list(getcxs(ph))\n",
    "    except:\n",
    "        raise Exception(f'Fail on {ph}')\n",
    "    \n",
    "    # report status\n",
    "    if i % 500 == 0 and i:\n",
    "        print(f'\\t{datetime.now()-start}\\tdone with iter {i}/{len(timephrases)}')\n",
    "\n",
    "print(f'{datetime.now()-start} COMPLETE.')"
   ]
  },
  {
   "cell_type": "code",
   "execution_count": 111,
   "metadata": {},
   "outputs": [
    {
     "data": {
      "text/plain": [
       "2073"
      ]
     },
     "execution_count": 111,
     "metadata": {},
     "output_type": "execute_result"
    }
   ],
   "source": [
    "len(cxanalyzed)"
   ]
  },
  {
   "cell_type": "markdown",
   "metadata": {},
   "source": [
    "### Testing on Randoms"
   ]
  },
  {
   "cell_type": "code",
   "execution_count": 113,
   "metadata": {},
   "outputs": [],
   "source": [
    "shuff = [k for k in cxanalyzed]\n",
    "random.shuffle(shuff)"
   ]
  },
  {
   "cell_type": "code",
   "execution_count": 114,
   "metadata": {},
   "outputs": [
    {
     "name": "stdout",
     "output_type": "stream",
     "text": [
      "1449596\n"
     ]
    },
    {
     "data": {
      "text/html": [
       "<p><b>result</b> <i>1449596 -> CX prep {301545, 301546, 301547}</i></p>"
      ],
      "text/plain": [
       "<IPython.core.display.HTML object>"
      ]
     },
     "metadata": {},
     "output_type": "display_data"
    },
    {
     "data": {
      "text/html": [
       "<a href=\"https://shebanq.ancient-data.org/hebrew/text?book=Nahum&amp;chapter=1&amp;verse=7&amp;version=c&amp;mr=m&amp;qw=q&amp;tp=txt_p&amp;tr=hb&amp;wget=v&amp;qget=v&amp;nget=vt\" title=\"show this passage in SHEBANQ\" sec=\"Nahum 1:7\">Nahum 1:7</a>\n",
       "<div class=\"atoms  \" >\n",
       "<a href=\"#\" class=\"nd\">829689</a>\n",
       "\n",
       "\n",
       "\n",
       "<div class=\"patom  \" >\n",
       "\n",
       "    <div class=\"phrase \" >\n",
       "        <a href=\"https://shebanq.ancient-data.org/hebrew/text?book=Nahum&amp;chapter=1&amp;verse=7&amp;version=c&amp;mr=m&amp;qw=q&amp;tp=txt_p&amp;tr=hb&amp;wget=v&amp;qget=v&amp;nget=vt\" title=\"Nahum 1:7\" sec=\"Nahum 1:7\">phrase</a> <a href=\"#\" class=\"nd\">829689</a>  <span class=\"function\">Time</span> <span class=\"typ\">PP</span>\n",
       "    </div>\n",
       "    <div class=\"atoms\">\n",
       "\n",
       "<div class=\"word  hl\"  style=\"background-color: pink;\" >\n",
       "<a href=\"#\" class=\"nd\">301545</a>\n",
       "<div class=\"h\"><a target=\"_blank\" href=\"https://shebanq.ancient-data.org/hebrew/word?version=c&amp;id=1B\" title=\"show this lexeme in SHEBANQ\">בְּ</a></div>\n",
       "<div class=\"features\"> <span class=\"pdp\"><a href=\"https://shebanq.ancient-data.org/hebrew/text?book=Nahum&amp;chapter=1&amp;verse=7&amp;version=c&amp;mr=m&amp;qw=q&amp;tp=txt_p&amp;tr=hb&amp;wget=v&amp;qget=v&amp;nget=vt\" title=\"Nahum 1:7\" sec=\"Nahum 1:7\">prep</a></span> <span class=\"gloss\">in</span> <span class=\"sp xft\"><span class=\"f\">sp=</span>prep</span></div>\n",
       "\n",
       "\n",
       "</div>\n",
       "\n",
       "<div class=\"word  hl\"  style=\"background-color: lightblue;\" >\n",
       "<a href=\"#\" class=\"nd\">301546</a>\n",
       "<div class=\"h\"><a target=\"_blank\" href=\"https://shebanq.ancient-data.org/hebrew/word?version=c&amp;id=1JWMn\" title=\"show this lexeme in SHEBANQ\">יֹ֣ום </a></div>\n",
       "<div class=\"features\"> <span class=\"pdp\"><a href=\"https://shebanq.ancient-data.org/hebrew/text?book=Nahum&amp;chapter=1&amp;verse=7&amp;version=c&amp;mr=m&amp;qw=q&amp;tp=txt_p&amp;tr=hb&amp;wget=v&amp;qget=v&amp;nget=vt\" title=\"Nahum 1:7\" sec=\"Nahum 1:7\">subs</a></span> <span class=\"gloss\">day</span> <span class=\"sp xft\"><span class=\"f\">sp=</span>subs</span> <span class=\"st xft\"><span class=\"f\">st=</span>c</span></div>\n",
       "\n",
       "\n",
       "</div>\n",
       "\n",
       "<div class=\"word  hl\"  style=\"background-color: lightblue;\" >\n",
       "<a href=\"#\" class=\"nd\">301547</a>\n",
       "<div class=\"h\"><a target=\"_blank\" href=\"https://shebanq.ancient-data.org/hebrew/word?version=c&amp;id=1YRHn\" title=\"show this lexeme in SHEBANQ\">צָרָ֑ה </a></div>\n",
       "<div class=\"features\"> <span class=\"pdp\"><a href=\"https://shebanq.ancient-data.org/hebrew/text?book=Nahum&amp;chapter=1&amp;verse=7&amp;version=c&amp;mr=m&amp;qw=q&amp;tp=txt_p&amp;tr=hb&amp;wget=v&amp;qget=v&amp;nget=vt\" title=\"Nahum 1:7\" sec=\"Nahum 1:7\">subs</a></span> <span class=\"gloss\">distress</span> <span class=\"sp xft\"><span class=\"f\">sp=</span>subs</span> <span class=\"st xft\"><span class=\"f\">st=</span>a</span></div>\n",
       "\n",
       "\n",
       "</div>\n",
       "\n",
       "\n",
       "    </div>\n",
       "\n",
       "\n",
       "</div>\n",
       "\n",
       "\n",
       "</div>\n"
      ],
      "text/plain": [
       "<IPython.core.display.HTML object>"
      ]
     },
     "metadata": {},
     "output_type": "display_data"
    },
    {
     "data": {
      "text/html": [
       "<div style=\"background: pink; text-align: center\">prep</div>"
      ],
      "text/plain": [
       "<IPython.core.display.HTML object>"
      ]
     },
     "metadata": {},
     "output_type": "display_data"
    },
    {
     "data": {
      "text/html": [
       "<div style=\"background: lightblue; text-align: center\">head</div>"
      ],
      "text/plain": [
       "<IPython.core.display.HTML object>"
      ]
     },
     "metadata": {},
     "output_type": "display_data"
    },
    {
     "name": "stdout",
     "output_type": "stream",
     "text": [
      "{   '__cx__': 'prep',\n",
      "    'head': {'__cx__': 'geni', 'geni': 301547, 'head': 301546},\n",
      "    'prep': 301545}\n",
      "\n",
      "cnds:\n",
      "w in preps                                               True\n",
      "F.prs.v(w) == absent                                     True\n",
      "bool(P(1))                                               True\n",
      "\n"
     ]
    },
    {
     "data": {
      "text/html": [
       "<hr>"
      ],
      "text/plain": [
       "<IPython.core.display.HTML object>"
      ]
     },
     "metadata": {},
     "output_type": "display_data"
    },
    {
     "name": "stdout",
     "output_type": "stream",
     "text": [
      "\n",
      "1447021\n"
     ]
    },
    {
     "data": {
      "text/html": [
       "<p><b>result</b> <i>1447021 -> CX prep {22016, 22014, 22015}</i></p>"
      ],
      "text/plain": [
       "<IPython.core.display.HTML object>"
      ]
     },
     "metadata": {},
     "output_type": "display_data"
    },
    {
     "data": {
      "text/html": [
       "<a href=\"https://shebanq.ancient-data.org/hebrew/text?book=Genesis&amp;chapter=40&amp;verse=6&amp;version=c&amp;mr=m&amp;qw=q&amp;tp=txt_p&amp;tr=hb&amp;wget=v&amp;qget=v&amp;nget=vt\" title=\"show this passage in SHEBANQ\" sec=\"Genesis 40:6\">Genesis 40:6</a>\n",
       "<div class=\"atoms  \" >\n",
       "<a href=\"#\" class=\"nd\">665195</a>\n",
       "\n",
       "\n",
       "\n",
       "<div class=\"patom  \" >\n",
       "\n",
       "    <div class=\"phrase \" >\n",
       "        <a href=\"https://shebanq.ancient-data.org/hebrew/text?book=Genesis&amp;chapter=40&amp;verse=6&amp;version=c&amp;mr=m&amp;qw=q&amp;tp=txt_p&amp;tr=hb&amp;wget=v&amp;qget=v&amp;nget=vt\" title=\"Genesis 40:6\" sec=\"Genesis 40:6\">phrase</a> <a href=\"#\" class=\"nd\">665195</a>  <span class=\"function\">Time</span> <span class=\"typ\">PP</span>\n",
       "    </div>\n",
       "    <div class=\"atoms\">\n",
       "\n",
       "<div class=\"word  hl\"  style=\"background-color: pink;\" >\n",
       "<a href=\"#\" class=\"nd\">22014</a>\n",
       "<div class=\"h\"><a target=\"_blank\" href=\"https://shebanq.ancient-data.org/hebrew/word?version=c&amp;id=1B\" title=\"show this lexeme in SHEBANQ\">בַּ</a></div>\n",
       "<div class=\"features\"> <span class=\"pdp\"><a href=\"https://shebanq.ancient-data.org/hebrew/text?book=Genesis&amp;chapter=40&amp;verse=6&amp;version=c&amp;mr=m&amp;qw=q&amp;tp=txt_p&amp;tr=hb&amp;wget=v&amp;qget=v&amp;nget=vt\" title=\"Genesis 40:6\" sec=\"Genesis 40:6\">prep</a></span> <span class=\"gloss\">in</span> <span class=\"sp xft\"><span class=\"f\">sp=</span>prep</span></div>\n",
       "\n",
       "\n",
       "</div>\n",
       "\n",
       "<div class=\"word  hl\"  style=\"background-color: lightblue;\" >\n",
       "<a href=\"#\" class=\"nd\">22015</a>\n",
       "<div class=\"h\"><a target=\"_blank\" href=\"https://shebanq.ancient-data.org/hebrew/word?version=c&amp;id=1H\" title=\"show this lexeme in SHEBANQ\"></a></div>\n",
       "<div class=\"features\"> <span class=\"pdp\"><a href=\"https://shebanq.ancient-data.org/hebrew/text?book=Genesis&amp;chapter=40&amp;verse=6&amp;version=c&amp;mr=m&amp;qw=q&amp;tp=txt_p&amp;tr=hb&amp;wget=v&amp;qget=v&amp;nget=vt\" title=\"Genesis 40:6\" sec=\"Genesis 40:6\">art</a></span> <span class=\"gloss\">the</span> <span class=\"sp xft\"><span class=\"f\">sp=</span>art</span></div>\n",
       "\n",
       "\n",
       "</div>\n",
       "\n",
       "<div class=\"word  hl\"  style=\"background-color: lightblue;\" >\n",
       "<a href=\"#\" class=\"nd\">22016</a>\n",
       "<div class=\"h\"><a target=\"_blank\" href=\"https://shebanq.ancient-data.org/hebrew/word?version=c&amp;id=1BQRin\" title=\"show this lexeme in SHEBANQ\">בֹּ֑קֶר </a></div>\n",
       "<div class=\"features\"> <span class=\"pdp\"><a href=\"https://shebanq.ancient-data.org/hebrew/text?book=Genesis&amp;chapter=40&amp;verse=6&amp;version=c&amp;mr=m&amp;qw=q&amp;tp=txt_p&amp;tr=hb&amp;wget=v&amp;qget=v&amp;nget=vt\" title=\"Genesis 40:6\" sec=\"Genesis 40:6\">subs</a></span> <span class=\"gloss\">morning</span> <span class=\"sp xft\"><span class=\"f\">sp=</span>subs</span> <span class=\"st xft\"><span class=\"f\">st=</span>a</span></div>\n",
       "\n",
       "\n",
       "</div>\n",
       "\n",
       "\n",
       "    </div>\n",
       "\n",
       "\n",
       "</div>\n",
       "\n",
       "\n",
       "</div>\n"
      ],
      "text/plain": [
       "<IPython.core.display.HTML object>"
      ]
     },
     "metadata": {},
     "output_type": "display_data"
    },
    {
     "data": {
      "text/html": [
       "<div style=\"background: pink; text-align: center\">prep</div>"
      ],
      "text/plain": [
       "<IPython.core.display.HTML object>"
      ]
     },
     "metadata": {},
     "output_type": "display_data"
    },
    {
     "data": {
      "text/html": [
       "<div style=\"background: lightblue; text-align: center\">head</div>"
      ],
      "text/plain": [
       "<IPython.core.display.HTML object>"
      ]
     },
     "metadata": {},
     "output_type": "display_data"
    },
    {
     "name": "stdout",
     "output_type": "stream",
     "text": [
      "{   '__cx__': 'prep',\n",
      "    'head': {'__cx__': 'defi', 'defi': 22015, 'head': 22016},\n",
      "    'prep': 22014}\n",
      "\n",
      "cnds:\n",
      "w in preps                                               True\n",
      "F.prs.v(w) == absent                                     True\n",
      "bool(P(1))                                               True\n",
      "\n"
     ]
    },
    {
     "data": {
      "text/html": [
       "<hr>"
      ],
      "text/plain": [
       "<IPython.core.display.HTML object>"
      ]
     },
     "metadata": {},
     "output_type": "display_data"
    },
    {
     "name": "stdout",
     "output_type": "stream",
     "text": [
      "\n",
      "1449110\n"
     ]
    },
    {
     "data": {
      "text/html": [
       "<p><b>result</b> <i>1449110 -> CX prep {228746, 228747, 228748}</i></p>"
      ],
      "text/plain": [
       "<IPython.core.display.HTML object>"
      ]
     },
     "metadata": {},
     "output_type": "display_data"
    },
    {
     "data": {
      "text/html": [
       "<a href=\"https://shebanq.ancient-data.org/hebrew/text?book=Jesaia&amp;chapter=47&amp;verse=13&amp;version=c&amp;mr=m&amp;qw=q&amp;tp=txt_p&amp;tr=hb&amp;wget=v&amp;qget=v&amp;nget=vt\" title=\"show this passage in SHEBANQ\" sec=\"Isaiah 47:13\">Isaiah 47:13</a>\n",
       "<div class=\"atoms  \" >\n",
       "<a href=\"#\" class=\"nd\">784896</a>\n",
       "\n",
       "\n",
       "\n",
       "<div class=\"patom  \" >\n",
       "\n",
       "    <div class=\"phrase \" >\n",
       "        <a href=\"https://shebanq.ancient-data.org/hebrew/text?book=Jesaia&amp;chapter=47&amp;verse=13&amp;version=c&amp;mr=m&amp;qw=q&amp;tp=txt_p&amp;tr=hb&amp;wget=v&amp;qget=v&amp;nget=vt\" title=\"Isaiah 47:13\" sec=\"Isaiah 47:13\">phrase</a> <a href=\"#\" class=\"nd\">784896</a>  <span class=\"function\">Time</span> <span class=\"typ\">PP</span>\n",
       "    </div>\n",
       "    <div class=\"atoms\">\n",
       "\n",
       "<div class=\"word  hl\"  style=\"background-color: pink;\" >\n",
       "<a href=\"#\" class=\"nd\">228746</a>\n",
       "<div class=\"h\"><a target=\"_blank\" href=\"https://shebanq.ancient-data.org/hebrew/word?version=c&amp;id=1L\" title=\"show this lexeme in SHEBANQ\">לֶ</a></div>\n",
       "<div class=\"features\"> <span class=\"pdp\"><a href=\"https://shebanq.ancient-data.org/hebrew/text?book=Jesaia&amp;chapter=47&amp;verse=13&amp;version=c&amp;mr=m&amp;qw=q&amp;tp=txt_p&amp;tr=hb&amp;wget=v&amp;qget=v&amp;nget=vt\" title=\"Isaiah 47:13\" sec=\"Isaiah 47:13\">prep</a></span> <span class=\"gloss\">to</span> <span class=\"sp xft\"><span class=\"f\">sp=</span>prep</span></div>\n",
       "\n",
       "\n",
       "</div>\n",
       "\n",
       "<div class=\"word  hl\"  style=\"background-color: lightblue;\" >\n",
       "<a href=\"#\" class=\"nd\">228747</a>\n",
       "<div class=\"h\"><a target=\"_blank\" href=\"https://shebanq.ancient-data.org/hebrew/word?version=c&amp;id=1H\" title=\"show this lexeme in SHEBANQ\"></a></div>\n",
       "<div class=\"features\"> <span class=\"pdp\"><a href=\"https://shebanq.ancient-data.org/hebrew/text?book=Jesaia&amp;chapter=47&amp;verse=13&amp;version=c&amp;mr=m&amp;qw=q&amp;tp=txt_p&amp;tr=hb&amp;wget=v&amp;qget=v&amp;nget=vt\" title=\"Isaiah 47:13\" sec=\"Isaiah 47:13\">art</a></span> <span class=\"gloss\">the</span> <span class=\"sp xft\"><span class=\"f\">sp=</span>art</span></div>\n",
       "\n",
       "\n",
       "</div>\n",
       "\n",
       "<div class=\"word  hl\"  style=\"background-color: lightblue;\" >\n",
       "<a href=\"#\" class=\"nd\">228748</a>\n",
       "<div class=\"h\"><a target=\"_blank\" href=\"https://shebanq.ancient-data.org/hebrew/word?version=c&amp;id=1XDCin\" title=\"show this lexeme in SHEBANQ\">חֳדָשִׁ֔ים </a></div>\n",
       "<div class=\"features\"> <span class=\"pdp\"><a href=\"https://shebanq.ancient-data.org/hebrew/text?book=Jesaia&amp;chapter=47&amp;verse=13&amp;version=c&amp;mr=m&amp;qw=q&amp;tp=txt_p&amp;tr=hb&amp;wget=v&amp;qget=v&amp;nget=vt\" title=\"Isaiah 47:13\" sec=\"Isaiah 47:13\">subs</a></span> <span class=\"gloss\">month</span> <span class=\"sp xft\"><span class=\"f\">sp=</span>subs</span> <span class=\"st xft\"><span class=\"f\">st=</span>a</span></div>\n",
       "\n",
       "\n",
       "</div>\n",
       "\n",
       "\n",
       "    </div>\n",
       "\n",
       "\n",
       "</div>\n",
       "\n",
       "\n",
       "</div>\n"
      ],
      "text/plain": [
       "<IPython.core.display.HTML object>"
      ]
     },
     "metadata": {},
     "output_type": "display_data"
    },
    {
     "data": {
      "text/html": [
       "<div style=\"background: pink; text-align: center\">prep</div>"
      ],
      "text/plain": [
       "<IPython.core.display.HTML object>"
      ]
     },
     "metadata": {},
     "output_type": "display_data"
    },
    {
     "data": {
      "text/html": [
       "<div style=\"background: lightblue; text-align: center\">head</div>"
      ],
      "text/plain": [
       "<IPython.core.display.HTML object>"
      ]
     },
     "metadata": {},
     "output_type": "display_data"
    },
    {
     "name": "stdout",
     "output_type": "stream",
     "text": [
      "{   '__cx__': 'prep',\n",
      "    'head': {'__cx__': 'defi', 'defi': 228747, 'head': 228748},\n",
      "    'prep': 228746}\n",
      "\n",
      "cnds:\n",
      "w in preps                                               True\n",
      "F.prs.v(w) == absent                                     True\n",
      "bool(P(1))                                               True\n",
      "\n"
     ]
    },
    {
     "data": {
      "text/html": [
       "<hr>"
      ],
      "text/plain": [
       "<IPython.core.display.HTML object>"
      ]
     },
     "metadata": {},
     "output_type": "display_data"
    },
    {
     "name": "stdout",
     "output_type": "stream",
     "text": [
      "\n",
      "1446826\n"
     ]
    },
    {
     "data": {
      "text/html": [
       "<p><b>result</b> <i>1446826 -> CX numb {2371, 2372, 2373, 2374}</i></p>"
      ],
      "text/plain": [
       "<IPython.core.display.HTML object>"
      ]
     },
     "metadata": {},
     "output_type": "display_data"
    },
    {
     "data": {
      "text/html": [
       "<a href=\"https://shebanq.ancient-data.org/hebrew/text?book=Genesis&amp;chapter=5&amp;verse=18&amp;version=c&amp;mr=m&amp;qw=q&amp;tp=txt_p&amp;tr=hb&amp;wget=v&amp;qget=v&amp;nget=vt\" title=\"show this passage in SHEBANQ\" sec=\"Genesis 5:18\">Genesis 5:18</a>\n",
       "<div class=\"atoms  \" >\n",
       "<a href=\"#\" class=\"nd\">652958</a>\n",
       "\n",
       "\n",
       "\n",
       "<div class=\"patom  \" >\n",
       "\n",
       "    <div class=\"phrase \" >\n",
       "        <a href=\"https://shebanq.ancient-data.org/hebrew/text?book=Genesis&amp;chapter=5&amp;verse=18&amp;version=c&amp;mr=m&amp;qw=q&amp;tp=txt_p&amp;tr=hb&amp;wget=v&amp;qget=v&amp;nget=vt\" title=\"Genesis 5:18\" sec=\"Genesis 5:18\">phrase</a> <a href=\"#\" class=\"nd\">652958</a>  <span class=\"function\">Time</span> <span class=\"typ\">NP</span>\n",
       "    </div>\n",
       "    <div class=\"atoms\">\n",
       "\n",
       "<div class=\"word  hl\"  style=\"background-color: pink;\" >\n",
       "<a href=\"#\" class=\"nd\">2371</a>\n",
       "<div class=\"h\"><a target=\"_blank\" href=\"https://shebanq.ancient-data.org/hebrew/word?version=c&amp;id=1CNJMn\" title=\"show this lexeme in SHEBANQ\">שְׁתַּ֧יִם </a></div>\n",
       "<div class=\"features\"> <span class=\"pdp\"><a href=\"https://shebanq.ancient-data.org/hebrew/text?book=Genesis&amp;chapter=5&amp;verse=18&amp;version=c&amp;mr=m&amp;qw=q&amp;tp=txt_p&amp;tr=hb&amp;wget=v&amp;qget=v&amp;nget=vt\" title=\"Genesis 5:18\" sec=\"Genesis 5:18\">subs</a></span> <span class=\"gloss\">two</span> <span class=\"sp xft\"><span class=\"f\">sp=</span>subs</span> <span class=\"st xft\"><span class=\"f\">st=</span>a</span></div>\n",
       "\n",
       "\n",
       "</div>\n",
       "\n",
       "<div class=\"word  hl\"  style=\"background-color: pink;\" >\n",
       "<a href=\"#\" class=\"nd\">2372</a>\n",
       "<div class=\"h\"><a target=\"_blank\" href=\"https://shebanq.ancient-data.org/hebrew/word?version=c&amp;id=1W\" title=\"show this lexeme in SHEBANQ\">וְ</a></div>\n",
       "<div class=\"features\"> <span class=\"pdp\"><a href=\"https://shebanq.ancient-data.org/hebrew/text?book=Genesis&amp;chapter=5&amp;verse=18&amp;version=c&amp;mr=m&amp;qw=q&amp;tp=txt_p&amp;tr=hb&amp;wget=v&amp;qget=v&amp;nget=vt\" title=\"Genesis 5:18\" sec=\"Genesis 5:18\">conj</a></span> <span class=\"gloss\">and</span> <span class=\"sp xft\"><span class=\"f\">sp=</span>conj</span></div>\n",
       "\n",
       "\n",
       "</div>\n",
       "\n",
       "<div class=\"word  hl\"  style=\"background-color: pink;\" >\n",
       "<a href=\"#\" class=\"nd\">2373</a>\n",
       "<div class=\"h\"><a target=\"_blank\" href=\"https://shebanq.ancient-data.org/hebrew/word?version=c&amp;id=1CCn\" title=\"show this lexeme in SHEBANQ\">שִׁשִּׁ֛ים </a></div>\n",
       "<div class=\"features\"> <span class=\"pdp\"><a href=\"https://shebanq.ancient-data.org/hebrew/text?book=Genesis&amp;chapter=5&amp;verse=18&amp;version=c&amp;mr=m&amp;qw=q&amp;tp=txt_p&amp;tr=hb&amp;wget=v&amp;qget=v&amp;nget=vt\" title=\"Genesis 5:18\" sec=\"Genesis 5:18\">subs</a></span> <span class=\"gloss\">six</span> <span class=\"sp xft\"><span class=\"f\">sp=</span>subs</span> <span class=\"st xft\"><span class=\"f\">st=</span>a</span></div>\n",
       "\n",
       "\n",
       "</div>\n",
       "\n",
       "<div class=\"word  hl\"  style=\"background-color: lightblue;\" >\n",
       "<a href=\"#\" class=\"nd\">2374</a>\n",
       "<div class=\"h\"><a target=\"_blank\" href=\"https://shebanq.ancient-data.org/hebrew/word?version=c&amp;id=1CNHn\" title=\"show this lexeme in SHEBANQ\">שָׁנָ֖ה </a></div>\n",
       "<div class=\"features\"> <span class=\"pdp\"><a href=\"https://shebanq.ancient-data.org/hebrew/text?book=Genesis&amp;chapter=5&amp;verse=18&amp;version=c&amp;mr=m&amp;qw=q&amp;tp=txt_p&amp;tr=hb&amp;wget=v&amp;qget=v&amp;nget=vt\" title=\"Genesis 5:18\" sec=\"Genesis 5:18\">subs</a></span> <span class=\"gloss\">year</span> <span class=\"sp xft\"><span class=\"f\">sp=</span>subs</span> <span class=\"st xft\"><span class=\"f\">st=</span>a</span></div>\n",
       "\n",
       "\n",
       "</div>\n",
       "\n",
       "<div class=\"word  \" >\n",
       "<a href=\"#\" class=\"nd\">2375</a>\n",
       "<div class=\"h\"><a target=\"_blank\" href=\"https://shebanq.ancient-data.org/hebrew/word?version=c&amp;id=1W\" title=\"show this lexeme in SHEBANQ\">וּ</a></div>\n",
       "<div class=\"features\"> <span class=\"pdp\"><a href=\"https://shebanq.ancient-data.org/hebrew/text?book=Genesis&amp;chapter=5&amp;verse=18&amp;version=c&amp;mr=m&amp;qw=q&amp;tp=txt_p&amp;tr=hb&amp;wget=v&amp;qget=v&amp;nget=vt\" title=\"Genesis 5:18\" sec=\"Genesis 5:18\">conj</a></span> <span class=\"gloss\">and</span> <span class=\"sp xft\"><span class=\"f\">sp=</span>conj</span></div>\n",
       "\n",
       "\n",
       "</div>\n",
       "\n",
       "<div class=\"word  \" >\n",
       "<a href=\"#\" class=\"nd\">2376</a>\n",
       "<div class=\"h\"><a target=\"_blank\" href=\"https://shebanq.ancient-data.org/hebrew/word?version=c&amp;id=1MAHn\" title=\"show this lexeme in SHEBANQ\">מְאַ֣ת </a></div>\n",
       "<div class=\"features\"> <span class=\"pdp\"><a href=\"https://shebanq.ancient-data.org/hebrew/text?book=Genesis&amp;chapter=5&amp;verse=18&amp;version=c&amp;mr=m&amp;qw=q&amp;tp=txt_p&amp;tr=hb&amp;wget=v&amp;qget=v&amp;nget=vt\" title=\"Genesis 5:18\" sec=\"Genesis 5:18\">subs</a></span> <span class=\"gloss\">hundred</span> <span class=\"sp xft\"><span class=\"f\">sp=</span>subs</span> <span class=\"st xft\"><span class=\"f\">st=</span>c</span></div>\n",
       "\n",
       "\n",
       "</div>\n",
       "\n",
       "<div class=\"word  \" >\n",
       "<a href=\"#\" class=\"nd\">2377</a>\n",
       "<div class=\"h\"><a target=\"_blank\" href=\"https://shebanq.ancient-data.org/hebrew/word?version=c&amp;id=1CNHn\" title=\"show this lexeme in SHEBANQ\">שָׁנָ֑ה </a></div>\n",
       "<div class=\"features\"> <span class=\"pdp\"><a href=\"https://shebanq.ancient-data.org/hebrew/text?book=Genesis&amp;chapter=5&amp;verse=18&amp;version=c&amp;mr=m&amp;qw=q&amp;tp=txt_p&amp;tr=hb&amp;wget=v&amp;qget=v&amp;nget=vt\" title=\"Genesis 5:18\" sec=\"Genesis 5:18\">subs</a></span> <span class=\"gloss\">year</span> <span class=\"sp xft\"><span class=\"f\">sp=</span>subs</span> <span class=\"st xft\"><span class=\"f\">st=</span>a</span></div>\n",
       "\n",
       "\n",
       "</div>\n",
       "\n",
       "\n",
       "    </div>\n",
       "\n",
       "\n",
       "</div>\n",
       "\n",
       "\n",
       "</div>\n"
      ],
      "text/plain": [
       "<IPython.core.display.HTML object>"
      ]
     },
     "metadata": {},
     "output_type": "display_data"
    },
    {
     "data": {
      "text/html": [
       "<div style=\"background: pink; text-align: center\">numb</div>"
      ],
      "text/plain": [
       "<IPython.core.display.HTML object>"
      ]
     },
     "metadata": {},
     "output_type": "display_data"
    },
    {
     "data": {
      "text/html": [
       "<div style=\"background: lightblue; text-align: center\">head</div>"
      ],
      "text/plain": [
       "<IPython.core.display.HTML object>"
      ]
     },
     "metadata": {},
     "output_type": "display_data"
    },
    {
     "name": "stdout",
     "output_type": "stream",
     "text": [
      "{   '__cx__': 'numb',\n",
      "    'head': 2374,\n",
      "    'numb': {'__cx__': 'card_chain', 'card': 2373, 'conj': 2372, 'head': 2371}}\n",
      "\n",
      "cnds:\n",
      "w in quants                                              True\n",
      "bool(P(1))                                               True\n",
      "P(1,sp) != conj                                          True\n",
      "P(1) not in quants|preps                                 True\n",
      "\n",
      "cnds:\n",
      "w in quants                                              True\n",
      "not Wk.ahead(is_nominal)                                False\n",
      "bool(Wk.back(is_nominal))                               False\n",
      "\n"
     ]
    },
    {
     "data": {
      "text/html": [
       "<hr>"
      ],
      "text/plain": [
       "<IPython.core.display.HTML object>"
      ]
     },
     "metadata": {},
     "output_type": "display_data"
    },
    {
     "data": {
      "text/html": [
       "<p><b>result</b> <i>1446826 -> CX numb {2376, 2377}</i></p>"
      ],
      "text/plain": [
       "<IPython.core.display.HTML object>"
      ]
     },
     "metadata": {},
     "output_type": "display_data"
    },
    {
     "data": {
      "text/html": [
       "<a href=\"https://shebanq.ancient-data.org/hebrew/text?book=Genesis&amp;chapter=5&amp;verse=18&amp;version=c&amp;mr=m&amp;qw=q&amp;tp=txt_p&amp;tr=hb&amp;wget=v&amp;qget=v&amp;nget=vt\" title=\"show this passage in SHEBANQ\" sec=\"Genesis 5:18\">Genesis 5:18</a>\n",
       "<div class=\"atoms  \" >\n",
       "<a href=\"#\" class=\"nd\">652958</a>\n",
       "\n",
       "\n",
       "\n",
       "<div class=\"patom  \" >\n",
       "\n",
       "    <div class=\"phrase \" >\n",
       "        <a href=\"https://shebanq.ancient-data.org/hebrew/text?book=Genesis&amp;chapter=5&amp;verse=18&amp;version=c&amp;mr=m&amp;qw=q&amp;tp=txt_p&amp;tr=hb&amp;wget=v&amp;qget=v&amp;nget=vt\" title=\"Genesis 5:18\" sec=\"Genesis 5:18\">phrase</a> <a href=\"#\" class=\"nd\">652958</a>  <span class=\"function\">Time</span> <span class=\"typ\">NP</span>\n",
       "    </div>\n",
       "    <div class=\"atoms\">\n",
       "\n",
       "<div class=\"word  \" >\n",
       "<a href=\"#\" class=\"nd\">2371</a>\n",
       "<div class=\"h\"><a target=\"_blank\" href=\"https://shebanq.ancient-data.org/hebrew/word?version=c&amp;id=1CNJMn\" title=\"show this lexeme in SHEBANQ\">שְׁתַּ֧יִם </a></div>\n",
       "<div class=\"features\"> <span class=\"pdp\"><a href=\"https://shebanq.ancient-data.org/hebrew/text?book=Genesis&amp;chapter=5&amp;verse=18&amp;version=c&amp;mr=m&amp;qw=q&amp;tp=txt_p&amp;tr=hb&amp;wget=v&amp;qget=v&amp;nget=vt\" title=\"Genesis 5:18\" sec=\"Genesis 5:18\">subs</a></span> <span class=\"gloss\">two</span> <span class=\"sp xft\"><span class=\"f\">sp=</span>subs</span> <span class=\"st xft\"><span class=\"f\">st=</span>a</span></div>\n",
       "\n",
       "\n",
       "</div>\n",
       "\n",
       "<div class=\"word  \" >\n",
       "<a href=\"#\" class=\"nd\">2372</a>\n",
       "<div class=\"h\"><a target=\"_blank\" href=\"https://shebanq.ancient-data.org/hebrew/word?version=c&amp;id=1W\" title=\"show this lexeme in SHEBANQ\">וְ</a></div>\n",
       "<div class=\"features\"> <span class=\"pdp\"><a href=\"https://shebanq.ancient-data.org/hebrew/text?book=Genesis&amp;chapter=5&amp;verse=18&amp;version=c&amp;mr=m&amp;qw=q&amp;tp=txt_p&amp;tr=hb&amp;wget=v&amp;qget=v&amp;nget=vt\" title=\"Genesis 5:18\" sec=\"Genesis 5:18\">conj</a></span> <span class=\"gloss\">and</span> <span class=\"sp xft\"><span class=\"f\">sp=</span>conj</span></div>\n",
       "\n",
       "\n",
       "</div>\n",
       "\n",
       "<div class=\"word  \" >\n",
       "<a href=\"#\" class=\"nd\">2373</a>\n",
       "<div class=\"h\"><a target=\"_blank\" href=\"https://shebanq.ancient-data.org/hebrew/word?version=c&amp;id=1CCn\" title=\"show this lexeme in SHEBANQ\">שִׁשִּׁ֛ים </a></div>\n",
       "<div class=\"features\"> <span class=\"pdp\"><a href=\"https://shebanq.ancient-data.org/hebrew/text?book=Genesis&amp;chapter=5&amp;verse=18&amp;version=c&amp;mr=m&amp;qw=q&amp;tp=txt_p&amp;tr=hb&amp;wget=v&amp;qget=v&amp;nget=vt\" title=\"Genesis 5:18\" sec=\"Genesis 5:18\">subs</a></span> <span class=\"gloss\">six</span> <span class=\"sp xft\"><span class=\"f\">sp=</span>subs</span> <span class=\"st xft\"><span class=\"f\">st=</span>a</span></div>\n",
       "\n",
       "\n",
       "</div>\n",
       "\n",
       "<div class=\"word  \" >\n",
       "<a href=\"#\" class=\"nd\">2374</a>\n",
       "<div class=\"h\"><a target=\"_blank\" href=\"https://shebanq.ancient-data.org/hebrew/word?version=c&amp;id=1CNHn\" title=\"show this lexeme in SHEBANQ\">שָׁנָ֖ה </a></div>\n",
       "<div class=\"features\"> <span class=\"pdp\"><a href=\"https://shebanq.ancient-data.org/hebrew/text?book=Genesis&amp;chapter=5&amp;verse=18&amp;version=c&amp;mr=m&amp;qw=q&amp;tp=txt_p&amp;tr=hb&amp;wget=v&amp;qget=v&amp;nget=vt\" title=\"Genesis 5:18\" sec=\"Genesis 5:18\">subs</a></span> <span class=\"gloss\">year</span> <span class=\"sp xft\"><span class=\"f\">sp=</span>subs</span> <span class=\"st xft\"><span class=\"f\">st=</span>a</span></div>\n",
       "\n",
       "\n",
       "</div>\n",
       "\n",
       "<div class=\"word  \" >\n",
       "<a href=\"#\" class=\"nd\">2375</a>\n",
       "<div class=\"h\"><a target=\"_blank\" href=\"https://shebanq.ancient-data.org/hebrew/word?version=c&amp;id=1W\" title=\"show this lexeme in SHEBANQ\">וּ</a></div>\n",
       "<div class=\"features\"> <span class=\"pdp\"><a href=\"https://shebanq.ancient-data.org/hebrew/text?book=Genesis&amp;chapter=5&amp;verse=18&amp;version=c&amp;mr=m&amp;qw=q&amp;tp=txt_p&amp;tr=hb&amp;wget=v&amp;qget=v&amp;nget=vt\" title=\"Genesis 5:18\" sec=\"Genesis 5:18\">conj</a></span> <span class=\"gloss\">and</span> <span class=\"sp xft\"><span class=\"f\">sp=</span>conj</span></div>\n",
       "\n",
       "\n",
       "</div>\n",
       "\n",
       "<div class=\"word  hl\"  style=\"background-color: pink;\" >\n",
       "<a href=\"#\" class=\"nd\">2376</a>\n",
       "<div class=\"h\"><a target=\"_blank\" href=\"https://shebanq.ancient-data.org/hebrew/word?version=c&amp;id=1MAHn\" title=\"show this lexeme in SHEBANQ\">מְאַ֣ת </a></div>\n",
       "<div class=\"features\"> <span class=\"pdp\"><a href=\"https://shebanq.ancient-data.org/hebrew/text?book=Genesis&amp;chapter=5&amp;verse=18&amp;version=c&amp;mr=m&amp;qw=q&amp;tp=txt_p&amp;tr=hb&amp;wget=v&amp;qget=v&amp;nget=vt\" title=\"Genesis 5:18\" sec=\"Genesis 5:18\">subs</a></span> <span class=\"gloss\">hundred</span> <span class=\"sp xft\"><span class=\"f\">sp=</span>subs</span> <span class=\"st xft\"><span class=\"f\">st=</span>c</span></div>\n",
       "\n",
       "\n",
       "</div>\n",
       "\n",
       "<div class=\"word  hl\"  style=\"background-color: lightblue;\" >\n",
       "<a href=\"#\" class=\"nd\">2377</a>\n",
       "<div class=\"h\"><a target=\"_blank\" href=\"https://shebanq.ancient-data.org/hebrew/word?version=c&amp;id=1CNHn\" title=\"show this lexeme in SHEBANQ\">שָׁנָ֑ה </a></div>\n",
       "<div class=\"features\"> <span class=\"pdp\"><a href=\"https://shebanq.ancient-data.org/hebrew/text?book=Genesis&amp;chapter=5&amp;verse=18&amp;version=c&amp;mr=m&amp;qw=q&amp;tp=txt_p&amp;tr=hb&amp;wget=v&amp;qget=v&amp;nget=vt\" title=\"Genesis 5:18\" sec=\"Genesis 5:18\">subs</a></span> <span class=\"gloss\">year</span> <span class=\"sp xft\"><span class=\"f\">sp=</span>subs</span> <span class=\"st xft\"><span class=\"f\">st=</span>a</span></div>\n",
       "\n",
       "\n",
       "</div>\n",
       "\n",
       "\n",
       "    </div>\n",
       "\n",
       "\n",
       "</div>\n",
       "\n",
       "\n",
       "</div>\n"
      ],
      "text/plain": [
       "<IPython.core.display.HTML object>"
      ]
     },
     "metadata": {},
     "output_type": "display_data"
    },
    {
     "data": {
      "text/html": [
       "<div style=\"background: pink; text-align: center\">numb</div>"
      ],
      "text/plain": [
       "<IPython.core.display.HTML object>"
      ]
     },
     "metadata": {},
     "output_type": "display_data"
    },
    {
     "data": {
      "text/html": [
       "<div style=\"background: lightblue; text-align: center\">head</div>"
      ],
      "text/plain": [
       "<IPython.core.display.HTML object>"
      ]
     },
     "metadata": {},
     "output_type": "display_data"
    },
    {
     "name": "stdout",
     "output_type": "stream",
     "text": [
      "{'__cx__': 'numb', 'head': 2377, 'numb': 2376}\n",
      "\n",
      "cnds:\n",
      "w in quants                                              True\n",
      "bool(P(1))                                               True\n",
      "P(1,sp) != conj                                          True\n",
      "P(1) not in quants|preps                                 True\n",
      "\n",
      "cnds:\n",
      "w in quants                                              True\n",
      "not Wk.ahead(is_nominal)                                False\n",
      "bool(Wk.back(is_nominal))                               False\n",
      "\n"
     ]
    },
    {
     "data": {
      "text/html": [
       "<hr>"
      ],
      "text/plain": [
       "<IPython.core.display.HTML object>"
      ]
     },
     "metadata": {},
     "output_type": "display_data"
    },
    {
     "name": "stdout",
     "output_type": "stream",
     "text": [
      "\n",
      "1450236\n"
     ]
    },
    {
     "data": {
      "text/html": [
       "<p><b>result</b> <i>1450236 -> CX prep {377026, 377027, 377028}</i></p>"
      ],
      "text/plain": [
       "<IPython.core.display.HTML object>"
      ]
     },
     "metadata": {},
     "output_type": "display_data"
    },
    {
     "data": {
      "text/html": [
       "<a href=\"https://shebanq.ancient-data.org/hebrew/text?book=Daniel&amp;chapter=11&amp;verse=6&amp;version=c&amp;mr=m&amp;qw=q&amp;tp=txt_p&amp;tr=hb&amp;wget=v&amp;qget=v&amp;nget=vt\" title=\"show this passage in SHEBANQ\" sec=\"Daniel 11:6\">Daniel 11:6</a>\n",
       "<div class=\"atoms  \" >\n",
       "<a href=\"#\" class=\"nd\">880604</a>\n",
       "\n",
       "\n",
       "\n",
       "<div class=\"patom  \" >\n",
       "\n",
       "    <div class=\"phrase \" >\n",
       "        <a href=\"https://shebanq.ancient-data.org/hebrew/text?book=Daniel&amp;chapter=11&amp;verse=6&amp;version=c&amp;mr=m&amp;qw=q&amp;tp=txt_p&amp;tr=hb&amp;wget=v&amp;qget=v&amp;nget=vt\" title=\"Daniel 11:6\" sec=\"Daniel 11:6\">phrase</a> <a href=\"#\" class=\"nd\">880604</a>  <span class=\"function\">Time</span> <span class=\"typ\">PP</span>\n",
       "    </div>\n",
       "    <div class=\"atoms\">\n",
       "\n",
       "<div class=\"word  hl\"  style=\"background-color: pink;\" >\n",
       "<a href=\"#\" class=\"nd\">377026</a>\n",
       "<div class=\"h\"><a target=\"_blank\" href=\"https://shebanq.ancient-data.org/hebrew/word?version=c&amp;id=1L\" title=\"show this lexeme in SHEBANQ\">לְ</a></div>\n",
       "<div class=\"features\"> <span class=\"pdp\"><a href=\"https://shebanq.ancient-data.org/hebrew/text?book=Daniel&amp;chapter=11&amp;verse=6&amp;version=c&amp;mr=m&amp;qw=q&amp;tp=txt_p&amp;tr=hb&amp;wget=v&amp;qget=v&amp;nget=vt\" title=\"Daniel 11:6\" sec=\"Daniel 11:6\">prep</a></span> <span class=\"gloss\">to</span> <span class=\"sp xft\"><span class=\"f\">sp=</span>prep</span></div>\n",
       "\n",
       "\n",
       "</div>\n",
       "\n",
       "<div class=\"word  hl\"  style=\"background-color: lightblue;\" >\n",
       "<a href=\"#\" class=\"nd\">377027</a>\n",
       "<div class=\"h\"><a target=\"_blank\" href=\"https://shebanq.ancient-data.org/hebrew/word?version=c&amp;id=1QYn\" title=\"show this lexeme in SHEBANQ\">קֵ֤ץ </a></div>\n",
       "<div class=\"features\"> <span class=\"pdp\"><a href=\"https://shebanq.ancient-data.org/hebrew/text?book=Daniel&amp;chapter=11&amp;verse=6&amp;version=c&amp;mr=m&amp;qw=q&amp;tp=txt_p&amp;tr=hb&amp;wget=v&amp;qget=v&amp;nget=vt\" title=\"Daniel 11:6\" sec=\"Daniel 11:6\">subs</a></span> <span class=\"gloss\">end</span> <span class=\"sp xft\"><span class=\"f\">sp=</span>subs</span> <span class=\"st xft\"><span class=\"f\">st=</span>c</span></div>\n",
       "\n",
       "\n",
       "</div>\n",
       "\n",
       "<div class=\"word  hl\"  style=\"background-color: lightblue;\" >\n",
       "<a href=\"#\" class=\"nd\">377028</a>\n",
       "<div class=\"h\"><a target=\"_blank\" href=\"https://shebanq.ancient-data.org/hebrew/word?version=c&amp;id=1CNHn\" title=\"show this lexeme in SHEBANQ\">שָׁנִים֙ </a></div>\n",
       "<div class=\"features\"> <span class=\"pdp\"><a href=\"https://shebanq.ancient-data.org/hebrew/text?book=Daniel&amp;chapter=11&amp;verse=6&amp;version=c&amp;mr=m&amp;qw=q&amp;tp=txt_p&amp;tr=hb&amp;wget=v&amp;qget=v&amp;nget=vt\" title=\"Daniel 11:6\" sec=\"Daniel 11:6\">subs</a></span> <span class=\"gloss\">year</span> <span class=\"sp xft\"><span class=\"f\">sp=</span>subs</span> <span class=\"st xft\"><span class=\"f\">st=</span>a</span></div>\n",
       "\n",
       "\n",
       "</div>\n",
       "\n",
       "\n",
       "    </div>\n",
       "\n",
       "\n",
       "</div>\n",
       "\n",
       "\n",
       "</div>\n"
      ],
      "text/plain": [
       "<IPython.core.display.HTML object>"
      ]
     },
     "metadata": {},
     "output_type": "display_data"
    },
    {
     "data": {
      "text/html": [
       "<div style=\"background: pink; text-align: center\">prep</div>"
      ],
      "text/plain": [
       "<IPython.core.display.HTML object>"
      ]
     },
     "metadata": {},
     "output_type": "display_data"
    },
    {
     "data": {
      "text/html": [
       "<div style=\"background: lightblue; text-align: center\">head</div>"
      ],
      "text/plain": [
       "<IPython.core.display.HTML object>"
      ]
     },
     "metadata": {},
     "output_type": "display_data"
    },
    {
     "name": "stdout",
     "output_type": "stream",
     "text": [
      "{   '__cx__': 'prep',\n",
      "    'head': {'__cx__': 'prep', 'head': 377028, 'prep': 377027},\n",
      "    'prep': 377026}\n",
      "\n",
      "cnds:\n",
      "w in preps                                               True\n",
      "F.prs.v(w) == absent                                     True\n",
      "bool(P(1))                                               True\n",
      "\n"
     ]
    },
    {
     "data": {
      "text/html": [
       "<hr>"
      ],
      "text/plain": [
       "<IPython.core.display.HTML object>"
      ]
     },
     "metadata": {},
     "output_type": "display_data"
    },
    {
     "name": "stdout",
     "output_type": "stream",
     "text": [
      "\n",
      "1448092\n"
     ]
    },
    {
     "data": {
      "text/html": [
       "<p><b>result</b> <i>1448092 -> CX prep {135860, 135861, 135862}</i></p>"
      ],
      "text/plain": [
       "<IPython.core.display.HTML object>"
      ]
     },
     "metadata": {},
     "output_type": "display_data"
    },
    {
     "data": {
      "text/html": [
       "<a href=\"https://shebanq.ancient-data.org/hebrew/text?book=Judices&amp;chapter=13&amp;verse=7&amp;version=c&amp;mr=m&amp;qw=q&amp;tp=txt_p&amp;tr=hb&amp;wget=v&amp;qget=v&amp;nget=vt\" title=\"show this passage in SHEBANQ\" sec=\"Judges 13:7\">Judges 13:7</a>\n",
       "<div class=\"atoms  \" >\n",
       "<a href=\"#\" class=\"nd\">728026</a>\n",
       "\n",
       "\n",
       "\n",
       "<div class=\"patom  l \" >\n",
       "\n",
       "    <div class=\"phrase \" >\n",
       "        <a href=\"https://shebanq.ancient-data.org/hebrew/text?book=Judices&amp;chapter=13&amp;verse=7&amp;version=c&amp;mr=m&amp;qw=q&amp;tp=txt_p&amp;tr=hb&amp;wget=v&amp;qget=v&amp;nget=vt\" title=\"Judges 13:7\" sec=\"Judges 13:7\">phrase</a> <a href=\"#\" class=\"nd\">728026</a>  <span class=\"function\">Time</span> <span class=\"typ\">PP</span>\n",
       "    </div>\n",
       "    <div class=\"atoms\">\n",
       "\n",
       "<div class=\"word  hl\"  style=\"background-color: pink;\" >\n",
       "<a href=\"#\" class=\"nd\">135860</a>\n",
       "<div class=\"h\"><a target=\"_blank\" href=\"https://shebanq.ancient-data.org/hebrew/word?version=c&amp;id=1MN\" title=\"show this lexeme in SHEBANQ\">מִן־</a></div>\n",
       "<div class=\"features\"> <span class=\"pdp\"><a href=\"https://shebanq.ancient-data.org/hebrew/text?book=Judices&amp;chapter=13&amp;verse=7&amp;version=c&amp;mr=m&amp;qw=q&amp;tp=txt_p&amp;tr=hb&amp;wget=v&amp;qget=v&amp;nget=vt\" title=\"Judges 13:7\" sec=\"Judges 13:7\">prep</a></span> <span class=\"gloss\">from</span> <span class=\"sp xft\"><span class=\"f\">sp=</span>prep</span></div>\n",
       "\n",
       "\n",
       "</div>\n",
       "\n",
       "<div class=\"word  hl\"  style=\"background-color: lightblue;\" >\n",
       "<a href=\"#\" class=\"nd\">135861</a>\n",
       "<div class=\"h\"><a target=\"_blank\" href=\"https://shebanq.ancient-data.org/hebrew/word?version=c&amp;id=1H\" title=\"show this lexeme in SHEBANQ\">הַ</a></div>\n",
       "<div class=\"features\"> <span class=\"pdp\"><a href=\"https://shebanq.ancient-data.org/hebrew/text?book=Judices&amp;chapter=13&amp;verse=7&amp;version=c&amp;mr=m&amp;qw=q&amp;tp=txt_p&amp;tr=hb&amp;wget=v&amp;qget=v&amp;nget=vt\" title=\"Judges 13:7\" sec=\"Judges 13:7\">art</a></span> <span class=\"gloss\">the</span> <span class=\"sp xft\"><span class=\"f\">sp=</span>art</span></div>\n",
       "\n",
       "\n",
       "</div>\n",
       "\n",
       "<div class=\"word  hl\"  style=\"background-color: lightblue;\" >\n",
       "<a href=\"#\" class=\"nd\">135862</a>\n",
       "<div class=\"h\"><a target=\"_blank\" href=\"https://shebanq.ancient-data.org/hebrew/word?version=c&amp;id=1BVNn\" title=\"show this lexeme in SHEBANQ\">בֶּ֖טֶן </a></div>\n",
       "<div class=\"features\"> <span class=\"pdp\"><a href=\"https://shebanq.ancient-data.org/hebrew/text?book=Judices&amp;chapter=13&amp;verse=7&amp;version=c&amp;mr=m&amp;qw=q&amp;tp=txt_p&amp;tr=hb&amp;wget=v&amp;qget=v&amp;nget=vt\" title=\"Judges 13:7\" sec=\"Judges 13:7\">subs</a></span> <span class=\"gloss\">belly</span> <span class=\"sp xft\"><span class=\"f\">sp=</span>subs</span> <span class=\"st xft\"><span class=\"f\">st=</span>a</span></div>\n",
       "\n",
       "\n",
       "</div>\n",
       "\n",
       "\n",
       "    </div>\n",
       "\n",
       "\n",
       "</div>\n",
       "\n",
       "<div class=\"patom  r \" >\n",
       "\n",
       "    <div class=\"phrase \" >\n",
       "        <a href=\"https://shebanq.ancient-data.org/hebrew/text?book=Judices&amp;chapter=13&amp;verse=7&amp;version=c&amp;mr=m&amp;qw=q&amp;tp=txt_p&amp;tr=hb&amp;wget=v&amp;qget=v&amp;nget=vt\" title=\"Judges 13:7\" sec=\"Judges 13:7\">phrase</a> <a href=\"#\" class=\"nd\">728026</a>  <span class=\"function\">Time</span> <span class=\"typ\">PP</span>\n",
       "    </div>\n",
       "    <div class=\"atoms\">\n",
       "\n",
       "<div class=\"word  \" >\n",
       "<a href=\"#\" class=\"nd\">135863</a>\n",
       "<div class=\"h\"><a target=\"_blank\" href=\"https://shebanq.ancient-data.org/hebrew/word?version=c&amp;id=1OD\" title=\"show this lexeme in SHEBANQ\">עַד־</a></div>\n",
       "<div class=\"features\"> <span class=\"pdp\"><a href=\"https://shebanq.ancient-data.org/hebrew/text?book=Judices&amp;chapter=13&amp;verse=7&amp;version=c&amp;mr=m&amp;qw=q&amp;tp=txt_p&amp;tr=hb&amp;wget=v&amp;qget=v&amp;nget=vt\" title=\"Judges 13:7\" sec=\"Judges 13:7\">prep</a></span> <span class=\"gloss\">unto</span> <span class=\"sp xft\"><span class=\"f\">sp=</span>prep</span></div>\n",
       "\n",
       "\n",
       "</div>\n",
       "\n",
       "<div class=\"word  \" >\n",
       "<a href=\"#\" class=\"nd\">135864</a>\n",
       "<div class=\"h\"><a target=\"_blank\" href=\"https://shebanq.ancient-data.org/hebrew/word?version=c&amp;id=1JWMn\" title=\"show this lexeme in SHEBANQ\">יֹ֥ום </a></div>\n",
       "<div class=\"features\"> <span class=\"pdp\"><a href=\"https://shebanq.ancient-data.org/hebrew/text?book=Judices&amp;chapter=13&amp;verse=7&amp;version=c&amp;mr=m&amp;qw=q&amp;tp=txt_p&amp;tr=hb&amp;wget=v&amp;qget=v&amp;nget=vt\" title=\"Judges 13:7\" sec=\"Judges 13:7\">subs</a></span> <span class=\"gloss\">day</span> <span class=\"sp xft\"><span class=\"f\">sp=</span>subs</span> <span class=\"st xft\"><span class=\"f\">st=</span>c</span></div>\n",
       "\n",
       "\n",
       "</div>\n",
       "\n",
       "<div class=\"word  \" >\n",
       "<a href=\"#\" class=\"nd\">135865</a>\n",
       "<div class=\"h\"><a target=\"_blank\" href=\"https://shebanq.ancient-data.org/hebrew/word?version=c&amp;id=1MWTn\" title=\"show this lexeme in SHEBANQ\">מֹותֹֽו׃ פ </a></div>\n",
       "<div class=\"features\"> <span class=\"pdp\"><a href=\"https://shebanq.ancient-data.org/hebrew/text?book=Judices&amp;chapter=13&amp;verse=7&amp;version=c&amp;mr=m&amp;qw=q&amp;tp=txt_p&amp;tr=hb&amp;wget=v&amp;qget=v&amp;nget=vt\" title=\"Judges 13:7\" sec=\"Judges 13:7\">subs</a></span> <span class=\"gloss\">death</span> <span class=\"sp xft\"><span class=\"f\">sp=</span>subs</span> <span class=\"st xft\"><span class=\"f\">st=</span>a</span></div>\n",
       "\n",
       "\n",
       "</div>\n",
       "\n",
       "\n",
       "    </div>\n",
       "\n",
       "\n",
       "</div>\n",
       "\n",
       "\n",
       "</div>\n"
      ],
      "text/plain": [
       "<IPython.core.display.HTML object>"
      ]
     },
     "metadata": {},
     "output_type": "display_data"
    },
    {
     "data": {
      "text/html": [
       "<div style=\"background: pink; text-align: center\">prep</div>"
      ],
      "text/plain": [
       "<IPython.core.display.HTML object>"
      ]
     },
     "metadata": {},
     "output_type": "display_data"
    },
    {
     "data": {
      "text/html": [
       "<div style=\"background: lightblue; text-align: center\">head</div>"
      ],
      "text/plain": [
       "<IPython.core.display.HTML object>"
      ]
     },
     "metadata": {},
     "output_type": "display_data"
    },
    {
     "name": "stdout",
     "output_type": "stream",
     "text": [
      "{   '__cx__': 'prep',\n",
      "    'head': {'__cx__': 'defi', 'defi': 135861, 'head': 135862},\n",
      "    'prep': 135860}\n",
      "\n",
      "cnds:\n",
      "w in preps                                               True\n",
      "F.prs.v(w) == absent                                     True\n",
      "bool(P(1))                                               True\n",
      "\n"
     ]
    },
    {
     "data": {
      "text/html": [
       "<hr>"
      ],
      "text/plain": [
       "<IPython.core.display.HTML object>"
      ]
     },
     "metadata": {},
     "output_type": "display_data"
    },
    {
     "data": {
      "text/html": [
       "<p><b>result</b> <i>1448092 -> CX prep {135864, 135865, 135863}</i></p>"
      ],
      "text/plain": [
       "<IPython.core.display.HTML object>"
      ]
     },
     "metadata": {},
     "output_type": "display_data"
    },
    {
     "data": {
      "text/html": [
       "<a href=\"https://shebanq.ancient-data.org/hebrew/text?book=Judices&amp;chapter=13&amp;verse=7&amp;version=c&amp;mr=m&amp;qw=q&amp;tp=txt_p&amp;tr=hb&amp;wget=v&amp;qget=v&amp;nget=vt\" title=\"show this passage in SHEBANQ\" sec=\"Judges 13:7\">Judges 13:7</a>\n",
       "<div class=\"atoms  \" >\n",
       "<a href=\"#\" class=\"nd\">728026</a>\n",
       "\n",
       "\n",
       "\n",
       "<div class=\"patom  l \" >\n",
       "\n",
       "    <div class=\"phrase \" >\n",
       "        <a href=\"https://shebanq.ancient-data.org/hebrew/text?book=Judices&amp;chapter=13&amp;verse=7&amp;version=c&amp;mr=m&amp;qw=q&amp;tp=txt_p&amp;tr=hb&amp;wget=v&amp;qget=v&amp;nget=vt\" title=\"Judges 13:7\" sec=\"Judges 13:7\">phrase</a> <a href=\"#\" class=\"nd\">728026</a>  <span class=\"function\">Time</span> <span class=\"typ\">PP</span>\n",
       "    </div>\n",
       "    <div class=\"atoms\">\n",
       "\n",
       "<div class=\"word  \" >\n",
       "<a href=\"#\" class=\"nd\">135860</a>\n",
       "<div class=\"h\"><a target=\"_blank\" href=\"https://shebanq.ancient-data.org/hebrew/word?version=c&amp;id=1MN\" title=\"show this lexeme in SHEBANQ\">מִן־</a></div>\n",
       "<div class=\"features\"> <span class=\"pdp\"><a href=\"https://shebanq.ancient-data.org/hebrew/text?book=Judices&amp;chapter=13&amp;verse=7&amp;version=c&amp;mr=m&amp;qw=q&amp;tp=txt_p&amp;tr=hb&amp;wget=v&amp;qget=v&amp;nget=vt\" title=\"Judges 13:7\" sec=\"Judges 13:7\">prep</a></span> <span class=\"gloss\">from</span> <span class=\"sp xft\"><span class=\"f\">sp=</span>prep</span></div>\n",
       "\n",
       "\n",
       "</div>\n",
       "\n",
       "<div class=\"word  \" >\n",
       "<a href=\"#\" class=\"nd\">135861</a>\n",
       "<div class=\"h\"><a target=\"_blank\" href=\"https://shebanq.ancient-data.org/hebrew/word?version=c&amp;id=1H\" title=\"show this lexeme in SHEBANQ\">הַ</a></div>\n",
       "<div class=\"features\"> <span class=\"pdp\"><a href=\"https://shebanq.ancient-data.org/hebrew/text?book=Judices&amp;chapter=13&amp;verse=7&amp;version=c&amp;mr=m&amp;qw=q&amp;tp=txt_p&amp;tr=hb&amp;wget=v&amp;qget=v&amp;nget=vt\" title=\"Judges 13:7\" sec=\"Judges 13:7\">art</a></span> <span class=\"gloss\">the</span> <span class=\"sp xft\"><span class=\"f\">sp=</span>art</span></div>\n",
       "\n",
       "\n",
       "</div>\n",
       "\n",
       "<div class=\"word  \" >\n",
       "<a href=\"#\" class=\"nd\">135862</a>\n",
       "<div class=\"h\"><a target=\"_blank\" href=\"https://shebanq.ancient-data.org/hebrew/word?version=c&amp;id=1BVNn\" title=\"show this lexeme in SHEBANQ\">בֶּ֖טֶן </a></div>\n",
       "<div class=\"features\"> <span class=\"pdp\"><a href=\"https://shebanq.ancient-data.org/hebrew/text?book=Judices&amp;chapter=13&amp;verse=7&amp;version=c&amp;mr=m&amp;qw=q&amp;tp=txt_p&amp;tr=hb&amp;wget=v&amp;qget=v&amp;nget=vt\" title=\"Judges 13:7\" sec=\"Judges 13:7\">subs</a></span> <span class=\"gloss\">belly</span> <span class=\"sp xft\"><span class=\"f\">sp=</span>subs</span> <span class=\"st xft\"><span class=\"f\">st=</span>a</span></div>\n",
       "\n",
       "\n",
       "</div>\n",
       "\n",
       "\n",
       "    </div>\n",
       "\n",
       "\n",
       "</div>\n",
       "\n",
       "<div class=\"patom  r \" >\n",
       "\n",
       "    <div class=\"phrase \" >\n",
       "        <a href=\"https://shebanq.ancient-data.org/hebrew/text?book=Judices&amp;chapter=13&amp;verse=7&amp;version=c&amp;mr=m&amp;qw=q&amp;tp=txt_p&amp;tr=hb&amp;wget=v&amp;qget=v&amp;nget=vt\" title=\"Judges 13:7\" sec=\"Judges 13:7\">phrase</a> <a href=\"#\" class=\"nd\">728026</a>  <span class=\"function\">Time</span> <span class=\"typ\">PP</span>\n",
       "    </div>\n",
       "    <div class=\"atoms\">\n",
       "\n",
       "<div class=\"word  hl\"  style=\"background-color: pink;\" >\n",
       "<a href=\"#\" class=\"nd\">135863</a>\n",
       "<div class=\"h\"><a target=\"_blank\" href=\"https://shebanq.ancient-data.org/hebrew/word?version=c&amp;id=1OD\" title=\"show this lexeme in SHEBANQ\">עַד־</a></div>\n",
       "<div class=\"features\"> <span class=\"pdp\"><a href=\"https://shebanq.ancient-data.org/hebrew/text?book=Judices&amp;chapter=13&amp;verse=7&amp;version=c&amp;mr=m&amp;qw=q&amp;tp=txt_p&amp;tr=hb&amp;wget=v&amp;qget=v&amp;nget=vt\" title=\"Judges 13:7\" sec=\"Judges 13:7\">prep</a></span> <span class=\"gloss\">unto</span> <span class=\"sp xft\"><span class=\"f\">sp=</span>prep</span></div>\n",
       "\n",
       "\n",
       "</div>\n",
       "\n",
       "<div class=\"word  hl\"  style=\"background-color: lightblue;\" >\n",
       "<a href=\"#\" class=\"nd\">135864</a>\n",
       "<div class=\"h\"><a target=\"_blank\" href=\"https://shebanq.ancient-data.org/hebrew/word?version=c&amp;id=1JWMn\" title=\"show this lexeme in SHEBANQ\">יֹ֥ום </a></div>\n",
       "<div class=\"features\"> <span class=\"pdp\"><a href=\"https://shebanq.ancient-data.org/hebrew/text?book=Judices&amp;chapter=13&amp;verse=7&amp;version=c&amp;mr=m&amp;qw=q&amp;tp=txt_p&amp;tr=hb&amp;wget=v&amp;qget=v&amp;nget=vt\" title=\"Judges 13:7\" sec=\"Judges 13:7\">subs</a></span> <span class=\"gloss\">day</span> <span class=\"sp xft\"><span class=\"f\">sp=</span>subs</span> <span class=\"st xft\"><span class=\"f\">st=</span>c</span></div>\n",
       "\n",
       "\n",
       "</div>\n",
       "\n",
       "<div class=\"word  hl\"  style=\"background-color: lightblue;\" >\n",
       "<a href=\"#\" class=\"nd\">135865</a>\n",
       "<div class=\"h\"><a target=\"_blank\" href=\"https://shebanq.ancient-data.org/hebrew/word?version=c&amp;id=1MWTn\" title=\"show this lexeme in SHEBANQ\">מֹותֹֽו׃ פ </a></div>\n",
       "<div class=\"features\"> <span class=\"pdp\"><a href=\"https://shebanq.ancient-data.org/hebrew/text?book=Judices&amp;chapter=13&amp;verse=7&amp;version=c&amp;mr=m&amp;qw=q&amp;tp=txt_p&amp;tr=hb&amp;wget=v&amp;qget=v&amp;nget=vt\" title=\"Judges 13:7\" sec=\"Judges 13:7\">subs</a></span> <span class=\"gloss\">death</span> <span class=\"sp xft\"><span class=\"f\">sp=</span>subs</span> <span class=\"st xft\"><span class=\"f\">st=</span>a</span></div>\n",
       "\n",
       "\n",
       "</div>\n",
       "\n",
       "\n",
       "    </div>\n",
       "\n",
       "\n",
       "</div>\n",
       "\n",
       "\n",
       "</div>\n"
      ],
      "text/plain": [
       "<IPython.core.display.HTML object>"
      ]
     },
     "metadata": {},
     "output_type": "display_data"
    },
    {
     "data": {
      "text/html": [
       "<div style=\"background: pink; text-align: center\">prep</div>"
      ],
      "text/plain": [
       "<IPython.core.display.HTML object>"
      ]
     },
     "metadata": {},
     "output_type": "display_data"
    },
    {
     "data": {
      "text/html": [
       "<div style=\"background: lightblue; text-align: center\">head</div>"
      ],
      "text/plain": [
       "<IPython.core.display.HTML object>"
      ]
     },
     "metadata": {},
     "output_type": "display_data"
    },
    {
     "name": "stdout",
     "output_type": "stream",
     "text": [
      "{   '__cx__': 'prep',\n",
      "    'head': {'__cx__': 'geni', 'geni': 135865, 'head': 135864},\n",
      "    'prep': 135863}\n",
      "\n",
      "cnds:\n",
      "w in preps                                               True\n",
      "F.prs.v(w) == absent                                     True\n",
      "bool(P(1))                                               True\n",
      "\n"
     ]
    },
    {
     "data": {
      "text/html": [
       "<hr>"
      ],
      "text/plain": [
       "<IPython.core.display.HTML object>"
      ]
     },
     "metadata": {},
     "output_type": "display_data"
    },
    {
     "name": "stdout",
     "output_type": "stream",
     "text": [
      "\n",
      "1447368\n"
     ]
    },
    {
     "data": {
      "text/html": [
       "<p><b>result</b> <i>1447368 -> CX prep {61275, 61276, 61277}</i></p>"
      ],
      "text/plain": [
       "<IPython.core.display.HTML object>"
      ]
     },
     "metadata": {},
     "output_type": "display_data"
    },
    {
     "data": {
      "text/html": [
       "<a href=\"https://shebanq.ancient-data.org/hebrew/text?book=Leviticus&amp;chapter=14&amp;verse=46&amp;version=c&amp;mr=m&amp;qw=q&amp;tp=txt_p&amp;tr=hb&amp;wget=v&amp;qget=v&amp;nget=vt\" title=\"show this passage in SHEBANQ\" sec=\"Leviticus 14:46\">Leviticus 14:46</a>\n",
       "<div class=\"atoms  \" >\n",
       "<a href=\"#\" class=\"nd\">687400</a>\n",
       "\n",
       "\n",
       "\n",
       "<div class=\"patom  \" >\n",
       "\n",
       "    <div class=\"phrase \" >\n",
       "        <a href=\"https://shebanq.ancient-data.org/hebrew/text?book=Leviticus&amp;chapter=14&amp;verse=46&amp;version=c&amp;mr=m&amp;qw=q&amp;tp=txt_p&amp;tr=hb&amp;wget=v&amp;qget=v&amp;nget=vt\" title=\"Leviticus 14:46\" sec=\"Leviticus 14:46\">phrase</a> <a href=\"#\" class=\"nd\">687400</a>  <span class=\"function\">Time</span> <span class=\"typ\">PP</span>\n",
       "    </div>\n",
       "    <div class=\"atoms\">\n",
       "\n",
       "<div class=\"word  hl\"  style=\"background-color: pink;\" >\n",
       "<a href=\"#\" class=\"nd\">61275</a>\n",
       "<div class=\"h\"><a target=\"_blank\" href=\"https://shebanq.ancient-data.org/hebrew/word?version=c&amp;id=1OD\" title=\"show this lexeme in SHEBANQ\">עַד־</a></div>\n",
       "<div class=\"features\"> <span class=\"pdp\"><a href=\"https://shebanq.ancient-data.org/hebrew/text?book=Leviticus&amp;chapter=14&amp;verse=46&amp;version=c&amp;mr=m&amp;qw=q&amp;tp=txt_p&amp;tr=hb&amp;wget=v&amp;qget=v&amp;nget=vt\" title=\"Leviticus 14:46\" sec=\"Leviticus 14:46\">prep</a></span> <span class=\"gloss\">unto</span> <span class=\"sp xft\"><span class=\"f\">sp=</span>prep</span></div>\n",
       "\n",
       "\n",
       "</div>\n",
       "\n",
       "<div class=\"word  hl\"  style=\"background-color: lightblue;\" >\n",
       "<a href=\"#\" class=\"nd\">61276</a>\n",
       "<div class=\"h\"><a target=\"_blank\" href=\"https://shebanq.ancient-data.org/hebrew/word?version=c&amp;id=1H\" title=\"show this lexeme in SHEBANQ\">הָ</a></div>\n",
       "<div class=\"features\"> <span class=\"pdp\"><a href=\"https://shebanq.ancient-data.org/hebrew/text?book=Leviticus&amp;chapter=14&amp;verse=46&amp;version=c&amp;mr=m&amp;qw=q&amp;tp=txt_p&amp;tr=hb&amp;wget=v&amp;qget=v&amp;nget=vt\" title=\"Leviticus 14:46\" sec=\"Leviticus 14:46\">art</a></span> <span class=\"gloss\">the</span> <span class=\"sp xft\"><span class=\"f\">sp=</span>art</span></div>\n",
       "\n",
       "\n",
       "</div>\n",
       "\n",
       "<div class=\"word  hl\"  style=\"background-color: lightblue;\" >\n",
       "<a href=\"#\" class=\"nd\">61277</a>\n",
       "<div class=\"h\"><a target=\"_blank\" href=\"https://shebanq.ancient-data.org/hebrew/word?version=c&amp;id=1ORBn\" title=\"show this lexeme in SHEBANQ\">עָֽרֶב׃ </a></div>\n",
       "<div class=\"features\"> <span class=\"pdp\"><a href=\"https://shebanq.ancient-data.org/hebrew/text?book=Leviticus&amp;chapter=14&amp;verse=46&amp;version=c&amp;mr=m&amp;qw=q&amp;tp=txt_p&amp;tr=hb&amp;wget=v&amp;qget=v&amp;nget=vt\" title=\"Leviticus 14:46\" sec=\"Leviticus 14:46\">subs</a></span> <span class=\"gloss\">evening</span> <span class=\"sp xft\"><span class=\"f\">sp=</span>subs</span> <span class=\"st xft\"><span class=\"f\">st=</span>a</span></div>\n",
       "\n",
       "\n",
       "</div>\n",
       "\n",
       "\n",
       "    </div>\n",
       "\n",
       "\n",
       "</div>\n",
       "\n",
       "\n",
       "</div>\n"
      ],
      "text/plain": [
       "<IPython.core.display.HTML object>"
      ]
     },
     "metadata": {},
     "output_type": "display_data"
    },
    {
     "data": {
      "text/html": [
       "<div style=\"background: pink; text-align: center\">prep</div>"
      ],
      "text/plain": [
       "<IPython.core.display.HTML object>"
      ]
     },
     "metadata": {},
     "output_type": "display_data"
    },
    {
     "data": {
      "text/html": [
       "<div style=\"background: lightblue; text-align: center\">head</div>"
      ],
      "text/plain": [
       "<IPython.core.display.HTML object>"
      ]
     },
     "metadata": {},
     "output_type": "display_data"
    },
    {
     "name": "stdout",
     "output_type": "stream",
     "text": [
      "{   '__cx__': 'prep',\n",
      "    'head': {'__cx__': 'defi', 'defi': 61276, 'head': 61277},\n",
      "    'prep': 61275}\n",
      "\n",
      "cnds:\n",
      "w in preps                                               True\n",
      "F.prs.v(w) == absent                                     True\n",
      "bool(P(1))                                               True\n",
      "\n"
     ]
    },
    {
     "data": {
      "text/html": [
       "<hr>"
      ],
      "text/plain": [
       "<IPython.core.display.HTML object>"
      ]
     },
     "metadata": {},
     "output_type": "display_data"
    },
    {
     "name": "stdout",
     "output_type": "stream",
     "text": [
      "\n",
      "1450158\n"
     ]
    },
    {
     "data": {
      "text/html": [
       "<p><b>result</b> <i>1450158 -> CX numb {366328, 366329, 366327}</i></p>"
      ],
      "text/plain": [
       "<IPython.core.display.HTML object>"
      ]
     },
     "metadata": {},
     "output_type": "display_data"
    },
    {
     "data": {
      "text/html": [
       "<a href=\"https://shebanq.ancient-data.org/hebrew/text?book=Esther&amp;chapter=2&amp;verse=12&amp;version=c&amp;mr=m&amp;qw=q&amp;tp=txt_p&amp;tr=hb&amp;wget=v&amp;qget=v&amp;nget=vt\" title=\"show this passage in SHEBANQ\" sec=\"Esther 2:12\">Esther 2:12</a>\n",
       "<div class=\"atoms  \" >\n",
       "<a href=\"#\" class=\"nd\">874308</a>\n",
       "\n",
       "\n",
       "\n",
       "<div class=\"patom  \" >\n",
       "\n",
       "    <div class=\"phrase \" >\n",
       "        <a href=\"https://shebanq.ancient-data.org/hebrew/text?book=Esther&amp;chapter=2&amp;verse=12&amp;version=c&amp;mr=m&amp;qw=q&amp;tp=txt_p&amp;tr=hb&amp;wget=v&amp;qget=v&amp;nget=vt\" title=\"Esther 2:12\" sec=\"Esther 2:12\">phrase</a> <a href=\"#\" class=\"nd\">874308</a>  <span class=\"function\">Time</span> <span class=\"typ\">NP</span>\n",
       "    </div>\n",
       "    <div class=\"atoms\">\n",
       "\n",
       "<div class=\"word  hl\"  style=\"background-color: pink;\" >\n",
       "<a href=\"#\" class=\"nd\">366327</a>\n",
       "<div class=\"h\"><a target=\"_blank\" href=\"https://shebanq.ancient-data.org/hebrew/word?version=c&amp;id=1CNJMn\" title=\"show this lexeme in SHEBANQ\">שְׁנֵ֣ים </a></div>\n",
       "<div class=\"features\"> <span class=\"pdp\"><a href=\"https://shebanq.ancient-data.org/hebrew/text?book=Esther&amp;chapter=2&amp;verse=12&amp;version=c&amp;mr=m&amp;qw=q&amp;tp=txt_p&amp;tr=hb&amp;wget=v&amp;qget=v&amp;nget=vt\" title=\"Esther 2:12\" sec=\"Esther 2:12\">subs</a></span> <span class=\"gloss\">two</span> <span class=\"sp xft\"><span class=\"f\">sp=</span>subs</span> <span class=\"st xft\"><span class=\"f\">st=</span>a</span></div>\n",
       "\n",
       "\n",
       "</div>\n",
       "\n",
       "<div class=\"word  hl\"  style=\"background-color: pink;\" >\n",
       "<a href=\"#\" class=\"nd\">366328</a>\n",
       "<div class=\"h\"><a target=\"_blank\" href=\"https://shebanq.ancient-data.org/hebrew/word?version=c&amp;id=1OFRn\" title=\"show this lexeme in SHEBANQ\">עָשָׂ֣ר </a></div>\n",
       "<div class=\"features\"> <span class=\"pdp\"><a href=\"https://shebanq.ancient-data.org/hebrew/text?book=Esther&amp;chapter=2&amp;verse=12&amp;version=c&amp;mr=m&amp;qw=q&amp;tp=txt_p&amp;tr=hb&amp;wget=v&amp;qget=v&amp;nget=vt\" title=\"Esther 2:12\" sec=\"Esther 2:12\">subs</a></span> <span class=\"gloss\">-teen</span> <span class=\"sp xft\"><span class=\"f\">sp=</span>subs</span> <span class=\"st xft\"><span class=\"f\">st=</span>a</span></div>\n",
       "\n",
       "\n",
       "</div>\n",
       "\n",
       "<div class=\"word  hl\"  style=\"background-color: lightblue;\" >\n",
       "<a href=\"#\" class=\"nd\">366329</a>\n",
       "<div class=\"h\"><a target=\"_blank\" href=\"https://shebanq.ancient-data.org/hebrew/word?version=c&amp;id=1XDCin\" title=\"show this lexeme in SHEBANQ\">חֹ֔דֶשׁ </a></div>\n",
       "<div class=\"features\"> <span class=\"pdp\"><a href=\"https://shebanq.ancient-data.org/hebrew/text?book=Esther&amp;chapter=2&amp;verse=12&amp;version=c&amp;mr=m&amp;qw=q&amp;tp=txt_p&amp;tr=hb&amp;wget=v&amp;qget=v&amp;nget=vt\" title=\"Esther 2:12\" sec=\"Esther 2:12\">subs</a></span> <span class=\"gloss\">month</span> <span class=\"sp xft\"><span class=\"f\">sp=</span>subs</span> <span class=\"st xft\"><span class=\"f\">st=</span>a</span></div>\n",
       "\n",
       "\n",
       "</div>\n",
       "\n",
       "\n",
       "    </div>\n",
       "\n",
       "\n",
       "</div>\n",
       "\n",
       "\n",
       "</div>\n"
      ],
      "text/plain": [
       "<IPython.core.display.HTML object>"
      ]
     },
     "metadata": {},
     "output_type": "display_data"
    },
    {
     "data": {
      "text/html": [
       "<div style=\"background: pink; text-align: center\">numb</div>"
      ],
      "text/plain": [
       "<IPython.core.display.HTML object>"
      ]
     },
     "metadata": {},
     "output_type": "display_data"
    },
    {
     "data": {
      "text/html": [
       "<div style=\"background: lightblue; text-align: center\">head</div>"
      ],
      "text/plain": [
       "<IPython.core.display.HTML object>"
      ]
     },
     "metadata": {},
     "output_type": "display_data"
    },
    {
     "name": "stdout",
     "output_type": "stream",
     "text": [
      "{   '__cx__': 'numb',\n",
      "    'head': 366329,\n",
      "    'numb': {'__cx__': 'card_chain', 'card': 366328, 'head': 366327}}\n",
      "\n",
      "cnds:\n",
      "w in quants                                              True\n",
      "bool(P(1))                                               True\n",
      "P(1,sp) != conj                                          True\n",
      "P(1) not in quants|preps                                 True\n",
      "\n",
      "cnds:\n",
      "w in quants                                              True\n",
      "not Wk.ahead(is_nominal)                                False\n",
      "bool(Wk.back(is_nominal))                               False\n",
      "\n"
     ]
    },
    {
     "data": {
      "text/html": [
       "<hr>"
      ],
      "text/plain": [
       "<IPython.core.display.HTML object>"
      ]
     },
     "metadata": {},
     "output_type": "display_data"
    },
    {
     "name": "stdout",
     "output_type": "stream",
     "text": [
      "\n",
      "1447545\n"
     ]
    },
    {
     "data": {
      "text/html": [
       "<p><b>result</b> <i>1447545 -> CX prep {78152, 78150, 78151}</i></p>"
      ],
      "text/plain": [
       "<IPython.core.display.HTML object>"
      ]
     },
     "metadata": {},
     "output_type": "display_data"
    },
    {
     "data": {
      "text/html": [
       "<a href=\"https://shebanq.ancient-data.org/hebrew/text?book=Numeri&amp;chapter=13&amp;verse=22&amp;version=c&amp;mr=m&amp;qw=q&amp;tp=txt_p&amp;tr=hb&amp;wget=v&amp;qget=v&amp;nget=vt\" title=\"show this passage in SHEBANQ\" sec=\"Numbers 13:22\">Numbers 13:22</a>\n",
       "<div class=\"atoms  \" >\n",
       "<a href=\"#\" class=\"nd\">696332</a>\n",
       "\n",
       "\n",
       "\n",
       "<div class=\"patom  \" >\n",
       "\n",
       "    <div class=\"phrase \" >\n",
       "        <a href=\"https://shebanq.ancient-data.org/hebrew/text?book=Numeri&amp;chapter=13&amp;verse=22&amp;version=c&amp;mr=m&amp;qw=q&amp;tp=txt_p&amp;tr=hb&amp;wget=v&amp;qget=v&amp;nget=vt\" title=\"Numbers 13:22\" sec=\"Numbers 13:22\">phrase</a> <a href=\"#\" class=\"nd\">696332</a>  <span class=\"function\">Time</span> <span class=\"typ\">PP</span>\n",
       "    </div>\n",
       "    <div class=\"atoms\">\n",
       "\n",
       "<div class=\"word  hl\"  style=\"background-color: pink;\" >\n",
       "<a href=\"#\" class=\"nd\">78150</a>\n",
       "<div class=\"h\"><a target=\"_blank\" href=\"https://shebanq.ancient-data.org/hebrew/word?version=c&amp;id=1L\" title=\"show this lexeme in SHEBANQ\">לִ</a></div>\n",
       "<div class=\"features\"> <span class=\"pdp\"><a href=\"https://shebanq.ancient-data.org/hebrew/text?book=Numeri&amp;chapter=13&amp;verse=22&amp;version=c&amp;mr=m&amp;qw=q&amp;tp=txt_p&amp;tr=hb&amp;wget=v&amp;qget=v&amp;nget=vt\" title=\"Numbers 13:22\" sec=\"Numbers 13:22\">prep</a></span> <span class=\"gloss\">to</span> <span class=\"sp xft\"><span class=\"f\">sp=</span>prep</span></div>\n",
       "\n",
       "\n",
       "</div>\n",
       "\n",
       "<div class=\"word  hl\"  style=\"background-color: lightblue;\" >\n",
       "<a href=\"#\" class=\"nd\">78151</a>\n",
       "<div class=\"h\"><a target=\"_blank\" href=\"https://shebanq.ancient-data.org/hebrew/word?version=c&amp;id=1PNHn\" title=\"show this lexeme in SHEBANQ\">פְנֵ֖י </a></div>\n",
       "<div class=\"features\"> <span class=\"pdp\"><a href=\"https://shebanq.ancient-data.org/hebrew/text?book=Numeri&amp;chapter=13&amp;verse=22&amp;version=c&amp;mr=m&amp;qw=q&amp;tp=txt_p&amp;tr=hb&amp;wget=v&amp;qget=v&amp;nget=vt\" title=\"Numbers 13:22\" sec=\"Numbers 13:22\">subs</a></span> <span class=\"gloss\">face</span> <span class=\"sp xft\"><span class=\"f\">sp=</span>subs</span> <span class=\"st xft\"><span class=\"f\">st=</span>c</span></div>\n",
       "\n",
       "\n",
       "</div>\n",
       "\n",
       "<div class=\"word  hl\"  style=\"background-color: lightblue;\" >\n",
       "<a href=\"#\" class=\"nd\">78152</a>\n",
       "<div class=\"h\"><a target=\"_blank\" href=\"https://shebanq.ancient-data.org/hebrew/word?version=c&amp;id=1YONn\" title=\"show this lexeme in SHEBANQ\">צֹ֥עַן </a></div>\n",
       "<div class=\"features\"> <span class=\"pdp\"><a href=\"https://shebanq.ancient-data.org/hebrew/text?book=Numeri&amp;chapter=13&amp;verse=22&amp;version=c&amp;mr=m&amp;qw=q&amp;tp=txt_p&amp;tr=hb&amp;wget=v&amp;qget=v&amp;nget=vt\" title=\"Numbers 13:22\" sec=\"Numbers 13:22\">nmpr</a></span> <span class=\"gloss\">Zoan</span> <span class=\"sp xft\"><span class=\"f\">sp=</span>nmpr</span> <span class=\"st xft\"><span class=\"f\">st=</span>a</span></div>\n",
       "\n",
       "\n",
       "</div>\n",
       "\n",
       "<div class=\"word  \" >\n",
       "<a href=\"#\" class=\"nd\">78153</a>\n",
       "<div class=\"h\"><a target=\"_blank\" href=\"https://shebanq.ancient-data.org/hebrew/word?version=c&amp;id=1MYRJMn\" title=\"show this lexeme in SHEBANQ\">מִצְרָֽיִם׃ </a></div>\n",
       "<div class=\"features\"> <span class=\"pdp\"><a href=\"https://shebanq.ancient-data.org/hebrew/text?book=Numeri&amp;chapter=13&amp;verse=22&amp;version=c&amp;mr=m&amp;qw=q&amp;tp=txt_p&amp;tr=hb&amp;wget=v&amp;qget=v&amp;nget=vt\" title=\"Numbers 13:22\" sec=\"Numbers 13:22\">nmpr</a></span> <span class=\"gloss\">Egypt</span> <span class=\"sp xft\"><span class=\"f\">sp=</span>nmpr</span> <span class=\"st xft\"><span class=\"f\">st=</span>a</span></div>\n",
       "\n",
       "\n",
       "</div>\n",
       "\n",
       "\n",
       "    </div>\n",
       "\n",
       "\n",
       "</div>\n",
       "\n",
       "\n",
       "</div>\n"
      ],
      "text/plain": [
       "<IPython.core.display.HTML object>"
      ]
     },
     "metadata": {},
     "output_type": "display_data"
    },
    {
     "data": {
      "text/html": [
       "<div style=\"background: pink; text-align: center\">prep</div>"
      ],
      "text/plain": [
       "<IPython.core.display.HTML object>"
      ]
     },
     "metadata": {},
     "output_type": "display_data"
    },
    {
     "data": {
      "text/html": [
       "<div style=\"background: lightblue; text-align: center\">head</div>"
      ],
      "text/plain": [
       "<IPython.core.display.HTML object>"
      ]
     },
     "metadata": {},
     "output_type": "display_data"
    },
    {
     "name": "stdout",
     "output_type": "stream",
     "text": [
      "{   '__cx__': 'prep',\n",
      "    'head': {'__cx__': 'prep', 'head': 78152, 'prep': 78151},\n",
      "    'prep': 78150}\n",
      "\n",
      "cnds:\n",
      "w in preps                                               True\n",
      "F.prs.v(w) == absent                                     True\n",
      "bool(P(1))                                               True\n",
      "\n"
     ]
    },
    {
     "data": {
      "text/html": [
       "<hr>"
      ],
      "text/plain": [
       "<IPython.core.display.HTML object>"
      ]
     },
     "metadata": {},
     "output_type": "display_data"
    },
    {
     "name": "stdout",
     "output_type": "stream",
     "text": [
      "\n",
      "1450647\n"
     ]
    },
    {
     "data": {
      "text/html": [
       "<p><b>result</b> <i>1450647 -> CX prep {423080, 423081, 423082}</i></p>"
      ],
      "text/plain": [
       "<IPython.core.display.HTML object>"
      ]
     },
     "metadata": {},
     "output_type": "display_data"
    },
    {
     "data": {
      "text/html": [
       "<a href=\"https://shebanq.ancient-data.org/hebrew/text?book=Chronica_II&amp;chapter=32&amp;verse=1&amp;version=c&amp;mr=m&amp;qw=q&amp;tp=txt_p&amp;tr=hb&amp;wget=v&amp;qget=v&amp;nget=vt\" title=\"show this passage in SHEBANQ\" sec=\"2_Chronicles 32:1\">2_Chronicles 32:1</a>\n",
       "<div class=\"atoms  \" >\n",
       "<a href=\"#\" class=\"nd\">902986</a>\n",
       "\n",
       "\n",
       "\n",
       "<div class=\"patom  \" >\n",
       "\n",
       "    <div class=\"phrase \" >\n",
       "        <a href=\"https://shebanq.ancient-data.org/hebrew/text?book=Chronica_II&amp;chapter=32&amp;verse=1&amp;version=c&amp;mr=m&amp;qw=q&amp;tp=txt_p&amp;tr=hb&amp;wget=v&amp;qget=v&amp;nget=vt\" title=\"2_Chronicles 32:1\" sec=\"2_Chronicles 32:1\">phrase</a> <a href=\"#\" class=\"nd\">902986</a>  <span class=\"function\">Time</span> <span class=\"typ\">PP</span>\n",
       "    </div>\n",
       "    <div class=\"atoms\">\n",
       "\n",
       "<div class=\"word  hl\"  style=\"background-color: pink;\" >\n",
       "<a href=\"#\" class=\"nd\">423080</a>\n",
       "<div class=\"h\"><a target=\"_blank\" href=\"https://shebanq.ancient-data.org/hebrew/word?version=c&amp;id=1AXRn\" title=\"show this lexeme in SHEBANQ\">אַחֲרֵ֨י </a></div>\n",
       "<div class=\"features\"> <span class=\"pdp\"><a href=\"https://shebanq.ancient-data.org/hebrew/text?book=Chronica_II&amp;chapter=32&amp;verse=1&amp;version=c&amp;mr=m&amp;qw=q&amp;tp=txt_p&amp;tr=hb&amp;wget=v&amp;qget=v&amp;nget=vt\" title=\"2_Chronicles 32:1\" sec=\"2_Chronicles 32:1\">prep</a></span> <span class=\"gloss\">after</span> <span class=\"sp xft\"><span class=\"f\">sp=</span>subs</span> <span class=\"st xft\"><span class=\"f\">st=</span>c</span></div>\n",
       "\n",
       "\n",
       "</div>\n",
       "\n",
       "<div class=\"word  hl\"  style=\"background-color: lightblue;\" >\n",
       "<a href=\"#\" class=\"nd\">423081</a>\n",
       "<div class=\"h\"><a target=\"_blank\" href=\"https://shebanq.ancient-data.org/hebrew/word?version=c&amp;id=1H\" title=\"show this lexeme in SHEBANQ\">הַ</a></div>\n",
       "<div class=\"features\"> <span class=\"pdp\"><a href=\"https://shebanq.ancient-data.org/hebrew/text?book=Chronica_II&amp;chapter=32&amp;verse=1&amp;version=c&amp;mr=m&amp;qw=q&amp;tp=txt_p&amp;tr=hb&amp;wget=v&amp;qget=v&amp;nget=vt\" title=\"2_Chronicles 32:1\" sec=\"2_Chronicles 32:1\">art</a></span> <span class=\"gloss\">the</span> <span class=\"sp xft\"><span class=\"f\">sp=</span>art</span></div>\n",
       "\n",
       "\n",
       "</div>\n",
       "\n",
       "<div class=\"word  hl\"  style=\"background-color: lightblue;\" >\n",
       "<a href=\"#\" class=\"nd\">423082</a>\n",
       "<div class=\"h\"><a target=\"_blank\" href=\"https://shebanq.ancient-data.org/hebrew/word?version=c&amp;id=1DBRn\" title=\"show this lexeme in SHEBANQ\">דְּבָרִ֤ים </a></div>\n",
       "<div class=\"features\"> <span class=\"pdp\"><a href=\"https://shebanq.ancient-data.org/hebrew/text?book=Chronica_II&amp;chapter=32&amp;verse=1&amp;version=c&amp;mr=m&amp;qw=q&amp;tp=txt_p&amp;tr=hb&amp;wget=v&amp;qget=v&amp;nget=vt\" title=\"2_Chronicles 32:1\" sec=\"2_Chronicles 32:1\">subs</a></span> <span class=\"gloss\">word</span> <span class=\"sp xft\"><span class=\"f\">sp=</span>subs</span> <span class=\"st xft\"><span class=\"f\">st=</span>a</span></div>\n",
       "\n",
       "\n",
       "</div>\n",
       "\n",
       "<div class=\"word  \" >\n",
       "<a href=\"#\" class=\"nd\">423083</a>\n",
       "<div class=\"h\"><a target=\"_blank\" href=\"https://shebanq.ancient-data.org/hebrew/word?version=c&amp;id=1W\" title=\"show this lexeme in SHEBANQ\">וְ</a></div>\n",
       "<div class=\"features\"> <span class=\"pdp\"><a href=\"https://shebanq.ancient-data.org/hebrew/text?book=Chronica_II&amp;chapter=32&amp;verse=1&amp;version=c&amp;mr=m&amp;qw=q&amp;tp=txt_p&amp;tr=hb&amp;wget=v&amp;qget=v&amp;nget=vt\" title=\"2_Chronicles 32:1\" sec=\"2_Chronicles 32:1\">conj</a></span> <span class=\"gloss\">and</span> <span class=\"sp xft\"><span class=\"f\">sp=</span>conj</span></div>\n",
       "\n",
       "\n",
       "</div>\n",
       "\n",
       "<div class=\"word  \" >\n",
       "<a href=\"#\" class=\"nd\">423084</a>\n",
       "<div class=\"h\"><a target=\"_blank\" href=\"https://shebanq.ancient-data.org/hebrew/word?version=c&amp;id=1H\" title=\"show this lexeme in SHEBANQ\">הָ</a></div>\n",
       "<div class=\"features\"> <span class=\"pdp\"><a href=\"https://shebanq.ancient-data.org/hebrew/text?book=Chronica_II&amp;chapter=32&amp;verse=1&amp;version=c&amp;mr=m&amp;qw=q&amp;tp=txt_p&amp;tr=hb&amp;wget=v&amp;qget=v&amp;nget=vt\" title=\"2_Chronicles 32:1\" sec=\"2_Chronicles 32:1\">art</a></span> <span class=\"gloss\">the</span> <span class=\"sp xft\"><span class=\"f\">sp=</span>art</span></div>\n",
       "\n",
       "\n",
       "</div>\n",
       "\n",
       "<div class=\"word  \" >\n",
       "<a href=\"#\" class=\"nd\">423085</a>\n",
       "<div class=\"h\"><a target=\"_blank\" href=\"https://shebanq.ancient-data.org/hebrew/word?version=c&amp;id=1AMTn\" title=\"show this lexeme in SHEBANQ\">אֱמֶת֙ </a></div>\n",
       "<div class=\"features\"> <span class=\"pdp\"><a href=\"https://shebanq.ancient-data.org/hebrew/text?book=Chronica_II&amp;chapter=32&amp;verse=1&amp;version=c&amp;mr=m&amp;qw=q&amp;tp=txt_p&amp;tr=hb&amp;wget=v&amp;qget=v&amp;nget=vt\" title=\"2_Chronicles 32:1\" sec=\"2_Chronicles 32:1\">subs</a></span> <span class=\"gloss\">trustworthiness</span> <span class=\"sp xft\"><span class=\"f\">sp=</span>subs</span> <span class=\"st xft\"><span class=\"f\">st=</span>a</span></div>\n",
       "\n",
       "\n",
       "</div>\n",
       "\n",
       "<div class=\"word  \" >\n",
       "<a href=\"#\" class=\"nd\">423086</a>\n",
       "<div class=\"h\"><a target=\"_blank\" href=\"https://shebanq.ancient-data.org/hebrew/word?version=c&amp;id=1H\" title=\"show this lexeme in SHEBANQ\">הָ</a></div>\n",
       "<div class=\"features\"> <span class=\"pdp\"><a href=\"https://shebanq.ancient-data.org/hebrew/text?book=Chronica_II&amp;chapter=32&amp;verse=1&amp;version=c&amp;mr=m&amp;qw=q&amp;tp=txt_p&amp;tr=hb&amp;wget=v&amp;qget=v&amp;nget=vt\" title=\"2_Chronicles 32:1\" sec=\"2_Chronicles 32:1\">art</a></span> <span class=\"gloss\">the</span> <span class=\"sp xft\"><span class=\"f\">sp=</span>art</span></div>\n",
       "\n",
       "\n",
       "</div>\n",
       "\n",
       "<div class=\"word  \" >\n",
       "<a href=\"#\" class=\"nd\">423087</a>\n",
       "<div class=\"h\"><a target=\"_blank\" href=\"https://shebanq.ancient-data.org/hebrew/word?version=c&amp;id=1ALH\" title=\"show this lexeme in SHEBANQ\">אֵ֔לֶּה </a></div>\n",
       "<div class=\"features\"> <span class=\"pdp\"><a href=\"https://shebanq.ancient-data.org/hebrew/text?book=Chronica_II&amp;chapter=32&amp;verse=1&amp;version=c&amp;mr=m&amp;qw=q&amp;tp=txt_p&amp;tr=hb&amp;wget=v&amp;qget=v&amp;nget=vt\" title=\"2_Chronicles 32:1\" sec=\"2_Chronicles 32:1\">prde</a></span> <span class=\"gloss\">these</span> <span class=\"sp xft\"><span class=\"f\">sp=</span>prde</span></div>\n",
       "\n",
       "\n",
       "</div>\n",
       "\n",
       "\n",
       "    </div>\n",
       "\n",
       "\n",
       "</div>\n",
       "\n",
       "\n",
       "</div>\n"
      ],
      "text/plain": [
       "<IPython.core.display.HTML object>"
      ]
     },
     "metadata": {},
     "output_type": "display_data"
    },
    {
     "data": {
      "text/html": [
       "<div style=\"background: pink; text-align: center\">prep</div>"
      ],
      "text/plain": [
       "<IPython.core.display.HTML object>"
      ]
     },
     "metadata": {},
     "output_type": "display_data"
    },
    {
     "data": {
      "text/html": [
       "<div style=\"background: lightblue; text-align: center\">head</div>"
      ],
      "text/plain": [
       "<IPython.core.display.HTML object>"
      ]
     },
     "metadata": {},
     "output_type": "display_data"
    },
    {
     "name": "stdout",
     "output_type": "stream",
     "text": [
      "{   '__cx__': 'prep',\n",
      "    'head': {'__cx__': 'defi', 'defi': 423081, 'head': 423082},\n",
      "    'prep': 423080}\n",
      "\n",
      "cnds:\n",
      "w in preps                                               True\n",
      "F.prs.v(w) == absent                                     True\n",
      "bool(P(1))                                               True\n",
      "\n"
     ]
    },
    {
     "data": {
      "text/html": [
       "<hr>"
      ],
      "text/plain": [
       "<IPython.core.display.HTML object>"
      ]
     },
     "metadata": {},
     "output_type": "display_data"
    },
    {
     "data": {
      "text/html": [
       "<p><b>result</b> <i>1450647 -> CX attrib {423084, 423085, 423086, 423087}</i></p>"
      ],
      "text/plain": [
       "<IPython.core.display.HTML object>"
      ]
     },
     "metadata": {},
     "output_type": "display_data"
    },
    {
     "data": {
      "text/html": [
       "<a href=\"https://shebanq.ancient-data.org/hebrew/text?book=Chronica_II&amp;chapter=32&amp;verse=1&amp;version=c&amp;mr=m&amp;qw=q&amp;tp=txt_p&amp;tr=hb&amp;wget=v&amp;qget=v&amp;nget=vt\" title=\"show this passage in SHEBANQ\" sec=\"2_Chronicles 32:1\">2_Chronicles 32:1</a>\n",
       "<div class=\"atoms  \" >\n",
       "<a href=\"#\" class=\"nd\">902986</a>\n",
       "\n",
       "\n",
       "\n",
       "<div class=\"patom  \" >\n",
       "\n",
       "    <div class=\"phrase \" >\n",
       "        <a href=\"https://shebanq.ancient-data.org/hebrew/text?book=Chronica_II&amp;chapter=32&amp;verse=1&amp;version=c&amp;mr=m&amp;qw=q&amp;tp=txt_p&amp;tr=hb&amp;wget=v&amp;qget=v&amp;nget=vt\" title=\"2_Chronicles 32:1\" sec=\"2_Chronicles 32:1\">phrase</a> <a href=\"#\" class=\"nd\">902986</a>  <span class=\"function\">Time</span> <span class=\"typ\">PP</span>\n",
       "    </div>\n",
       "    <div class=\"atoms\">\n",
       "\n",
       "<div class=\"word  \" >\n",
       "<a href=\"#\" class=\"nd\">423080</a>\n",
       "<div class=\"h\"><a target=\"_blank\" href=\"https://shebanq.ancient-data.org/hebrew/word?version=c&amp;id=1AXRn\" title=\"show this lexeme in SHEBANQ\">אַחֲרֵ֨י </a></div>\n",
       "<div class=\"features\"> <span class=\"pdp\"><a href=\"https://shebanq.ancient-data.org/hebrew/text?book=Chronica_II&amp;chapter=32&amp;verse=1&amp;version=c&amp;mr=m&amp;qw=q&amp;tp=txt_p&amp;tr=hb&amp;wget=v&amp;qget=v&amp;nget=vt\" title=\"2_Chronicles 32:1\" sec=\"2_Chronicles 32:1\">prep</a></span> <span class=\"gloss\">after</span> <span class=\"sp xft\"><span class=\"f\">sp=</span>subs</span> <span class=\"st xft\"><span class=\"f\">st=</span>c</span></div>\n",
       "\n",
       "\n",
       "</div>\n",
       "\n",
       "<div class=\"word  \" >\n",
       "<a href=\"#\" class=\"nd\">423081</a>\n",
       "<div class=\"h\"><a target=\"_blank\" href=\"https://shebanq.ancient-data.org/hebrew/word?version=c&amp;id=1H\" title=\"show this lexeme in SHEBANQ\">הַ</a></div>\n",
       "<div class=\"features\"> <span class=\"pdp\"><a href=\"https://shebanq.ancient-data.org/hebrew/text?book=Chronica_II&amp;chapter=32&amp;verse=1&amp;version=c&amp;mr=m&amp;qw=q&amp;tp=txt_p&amp;tr=hb&amp;wget=v&amp;qget=v&amp;nget=vt\" title=\"2_Chronicles 32:1\" sec=\"2_Chronicles 32:1\">art</a></span> <span class=\"gloss\">the</span> <span class=\"sp xft\"><span class=\"f\">sp=</span>art</span></div>\n",
       "\n",
       "\n",
       "</div>\n",
       "\n",
       "<div class=\"word  \" >\n",
       "<a href=\"#\" class=\"nd\">423082</a>\n",
       "<div class=\"h\"><a target=\"_blank\" href=\"https://shebanq.ancient-data.org/hebrew/word?version=c&amp;id=1DBRn\" title=\"show this lexeme in SHEBANQ\">דְּבָרִ֤ים </a></div>\n",
       "<div class=\"features\"> <span class=\"pdp\"><a href=\"https://shebanq.ancient-data.org/hebrew/text?book=Chronica_II&amp;chapter=32&amp;verse=1&amp;version=c&amp;mr=m&amp;qw=q&amp;tp=txt_p&amp;tr=hb&amp;wget=v&amp;qget=v&amp;nget=vt\" title=\"2_Chronicles 32:1\" sec=\"2_Chronicles 32:1\">subs</a></span> <span class=\"gloss\">word</span> <span class=\"sp xft\"><span class=\"f\">sp=</span>subs</span> <span class=\"st xft\"><span class=\"f\">st=</span>a</span></div>\n",
       "\n",
       "\n",
       "</div>\n",
       "\n",
       "<div class=\"word  \" >\n",
       "<a href=\"#\" class=\"nd\">423083</a>\n",
       "<div class=\"h\"><a target=\"_blank\" href=\"https://shebanq.ancient-data.org/hebrew/word?version=c&amp;id=1W\" title=\"show this lexeme in SHEBANQ\">וְ</a></div>\n",
       "<div class=\"features\"> <span class=\"pdp\"><a href=\"https://shebanq.ancient-data.org/hebrew/text?book=Chronica_II&amp;chapter=32&amp;verse=1&amp;version=c&amp;mr=m&amp;qw=q&amp;tp=txt_p&amp;tr=hb&amp;wget=v&amp;qget=v&amp;nget=vt\" title=\"2_Chronicles 32:1\" sec=\"2_Chronicles 32:1\">conj</a></span> <span class=\"gloss\">and</span> <span class=\"sp xft\"><span class=\"f\">sp=</span>conj</span></div>\n",
       "\n",
       "\n",
       "</div>\n",
       "\n",
       "<div class=\"word  hl\"  style=\"background-color: pink;\" >\n",
       "<a href=\"#\" class=\"nd\">423084</a>\n",
       "<div class=\"h\"><a target=\"_blank\" href=\"https://shebanq.ancient-data.org/hebrew/word?version=c&amp;id=1H\" title=\"show this lexeme in SHEBANQ\">הָ</a></div>\n",
       "<div class=\"features\"> <span class=\"pdp\"><a href=\"https://shebanq.ancient-data.org/hebrew/text?book=Chronica_II&amp;chapter=32&amp;verse=1&amp;version=c&amp;mr=m&amp;qw=q&amp;tp=txt_p&amp;tr=hb&amp;wget=v&amp;qget=v&amp;nget=vt\" title=\"2_Chronicles 32:1\" sec=\"2_Chronicles 32:1\">art</a></span> <span class=\"gloss\">the</span> <span class=\"sp xft\"><span class=\"f\">sp=</span>art</span></div>\n",
       "\n",
       "\n",
       "</div>\n",
       "\n",
       "<div class=\"word  hl\"  style=\"background-color: pink;\" >\n",
       "<a href=\"#\" class=\"nd\">423085</a>\n",
       "<div class=\"h\"><a target=\"_blank\" href=\"https://shebanq.ancient-data.org/hebrew/word?version=c&amp;id=1AMTn\" title=\"show this lexeme in SHEBANQ\">אֱמֶת֙ </a></div>\n",
       "<div class=\"features\"> <span class=\"pdp\"><a href=\"https://shebanq.ancient-data.org/hebrew/text?book=Chronica_II&amp;chapter=32&amp;verse=1&amp;version=c&amp;mr=m&amp;qw=q&amp;tp=txt_p&amp;tr=hb&amp;wget=v&amp;qget=v&amp;nget=vt\" title=\"2_Chronicles 32:1\" sec=\"2_Chronicles 32:1\">subs</a></span> <span class=\"gloss\">trustworthiness</span> <span class=\"sp xft\"><span class=\"f\">sp=</span>subs</span> <span class=\"st xft\"><span class=\"f\">st=</span>a</span></div>\n",
       "\n",
       "\n",
       "</div>\n",
       "\n",
       "<div class=\"word  hl\"  style=\"background-color: lightblue;\" >\n",
       "<a href=\"#\" class=\"nd\">423086</a>\n",
       "<div class=\"h\"><a target=\"_blank\" href=\"https://shebanq.ancient-data.org/hebrew/word?version=c&amp;id=1H\" title=\"show this lexeme in SHEBANQ\">הָ</a></div>\n",
       "<div class=\"features\"> <span class=\"pdp\"><a href=\"https://shebanq.ancient-data.org/hebrew/text?book=Chronica_II&amp;chapter=32&amp;verse=1&amp;version=c&amp;mr=m&amp;qw=q&amp;tp=txt_p&amp;tr=hb&amp;wget=v&amp;qget=v&amp;nget=vt\" title=\"2_Chronicles 32:1\" sec=\"2_Chronicles 32:1\">art</a></span> <span class=\"gloss\">the</span> <span class=\"sp xft\"><span class=\"f\">sp=</span>art</span></div>\n",
       "\n",
       "\n",
       "</div>\n",
       "\n",
       "<div class=\"word  hl\"  style=\"background-color: lightblue;\" >\n",
       "<a href=\"#\" class=\"nd\">423087</a>\n",
       "<div class=\"h\"><a target=\"_blank\" href=\"https://shebanq.ancient-data.org/hebrew/word?version=c&amp;id=1ALH\" title=\"show this lexeme in SHEBANQ\">אֵ֔לֶּה </a></div>\n",
       "<div class=\"features\"> <span class=\"pdp\"><a href=\"https://shebanq.ancient-data.org/hebrew/text?book=Chronica_II&amp;chapter=32&amp;verse=1&amp;version=c&amp;mr=m&amp;qw=q&amp;tp=txt_p&amp;tr=hb&amp;wget=v&amp;qget=v&amp;nget=vt\" title=\"2_Chronicles 32:1\" sec=\"2_Chronicles 32:1\">prde</a></span> <span class=\"gloss\">these</span> <span class=\"sp xft\"><span class=\"f\">sp=</span>prde</span></div>\n",
       "\n",
       "\n",
       "</div>\n",
       "\n",
       "\n",
       "    </div>\n",
       "\n",
       "\n",
       "</div>\n",
       "\n",
       "\n",
       "</div>\n"
      ],
      "text/plain": [
       "<IPython.core.display.HTML object>"
      ]
     },
     "metadata": {},
     "output_type": "display_data"
    },
    {
     "data": {
      "text/html": [
       "<div style=\"background: pink; text-align: center\">head</div>"
      ],
      "text/plain": [
       "<IPython.core.display.HTML object>"
      ]
     },
     "metadata": {},
     "output_type": "display_data"
    },
    {
     "data": {
      "text/html": [
       "<div style=\"background: lightblue; text-align: center\">attrib</div>"
      ],
      "text/plain": [
       "<IPython.core.display.HTML object>"
      ]
     },
     "metadata": {},
     "output_type": "display_data"
    },
    {
     "name": "stdout",
     "output_type": "stream",
     "text": [
      "{   '__cx__': 'attrib',\n",
      "    'attrib': {'__cx__': 'defi', 'defi': 423086, 'head': 423087},\n",
      "    'head': {'__cx__': 'defi', 'defi': 423084, 'head': 423085}}\n",
      "\n",
      "cnds:\n",
      "bool(defi1)                                              True\n",
      "bool(defi2)                                              True\n",
      "\n"
     ]
    },
    {
     "data": {
      "text/html": [
       "<hr>"
      ],
      "text/plain": [
       "<IPython.core.display.HTML object>"
      ]
     },
     "metadata": {},
     "output_type": "display_data"
    },
    {
     "name": "stdout",
     "output_type": "stream",
     "text": [
      "\n",
      "1449618\n"
     ]
    },
    {
     "data": {
      "text/html": [
       "<p><b>result</b> <i>1449618 -> CX prep {304010, 304011, 304012, 304013, 304014}</i></p>"
      ],
      "text/plain": [
       "<IPython.core.display.HTML object>"
      ]
     },
     "metadata": {},
     "output_type": "display_data"
    },
    {
     "data": {
      "text/html": [
       "<a href=\"https://shebanq.ancient-data.org/hebrew/text?book=Zephania&amp;chapter=3&amp;verse=16&amp;version=c&amp;mr=m&amp;qw=q&amp;tp=txt_p&amp;tr=hb&amp;wget=v&amp;qget=v&amp;nget=vt\" title=\"show this passage in SHEBANQ\" sec=\"Zephaniah 3:16\">Zephaniah 3:16</a>\n",
       "<div class=\"atoms  \" >\n",
       "<a href=\"#\" class=\"nd\">831353</a>\n",
       "\n",
       "\n",
       "\n",
       "<div class=\"patom  \" >\n",
       "\n",
       "    <div class=\"phrase \" >\n",
       "        <a href=\"https://shebanq.ancient-data.org/hebrew/text?book=Zephania&amp;chapter=3&amp;verse=16&amp;version=c&amp;mr=m&amp;qw=q&amp;tp=txt_p&amp;tr=hb&amp;wget=v&amp;qget=v&amp;nget=vt\" title=\"Zephaniah 3:16\" sec=\"Zephaniah 3:16\">phrase</a> <a href=\"#\" class=\"nd\">831353</a>  <span class=\"function\">Time</span> <span class=\"typ\">PP</span>\n",
       "    </div>\n",
       "    <div class=\"atoms\">\n",
       "\n",
       "<div class=\"word  hl\"  style=\"background-color: pink;\" >\n",
       "<a href=\"#\" class=\"nd\">304010</a>\n",
       "<div class=\"h\"><a target=\"_blank\" href=\"https://shebanq.ancient-data.org/hebrew/word?version=c&amp;id=1B\" title=\"show this lexeme in SHEBANQ\">בַּ</a></div>\n",
       "<div class=\"features\"> <span class=\"pdp\"><a href=\"https://shebanq.ancient-data.org/hebrew/text?book=Zephania&amp;chapter=3&amp;verse=16&amp;version=c&amp;mr=m&amp;qw=q&amp;tp=txt_p&amp;tr=hb&amp;wget=v&amp;qget=v&amp;nget=vt\" title=\"Zephaniah 3:16\" sec=\"Zephaniah 3:16\">prep</a></span> <span class=\"gloss\">in</span> <span class=\"sp xft\"><span class=\"f\">sp=</span>prep</span></div>\n",
       "\n",
       "\n",
       "</div>\n",
       "\n",
       "<div class=\"word  hl\"  style=\"background-color: lightblue;\" >\n",
       "<a href=\"#\" class=\"nd\">304011</a>\n",
       "<div class=\"h\"><a target=\"_blank\" href=\"https://shebanq.ancient-data.org/hebrew/word?version=c&amp;id=1H\" title=\"show this lexeme in SHEBANQ\"></a></div>\n",
       "<div class=\"features\"> <span class=\"pdp\"><a href=\"https://shebanq.ancient-data.org/hebrew/text?book=Zephania&amp;chapter=3&amp;verse=16&amp;version=c&amp;mr=m&amp;qw=q&amp;tp=txt_p&amp;tr=hb&amp;wget=v&amp;qget=v&amp;nget=vt\" title=\"Zephaniah 3:16\" sec=\"Zephaniah 3:16\">art</a></span> <span class=\"gloss\">the</span> <span class=\"sp xft\"><span class=\"f\">sp=</span>art</span></div>\n",
       "\n",
       "\n",
       "</div>\n",
       "\n",
       "<div class=\"word  hl\"  style=\"background-color: lightblue;\" >\n",
       "<a href=\"#\" class=\"nd\">304012</a>\n",
       "<div class=\"h\"><a target=\"_blank\" href=\"https://shebanq.ancient-data.org/hebrew/word?version=c&amp;id=1JWMn\" title=\"show this lexeme in SHEBANQ\">יֹּ֣ום </a></div>\n",
       "<div class=\"features\"> <span class=\"pdp\"><a href=\"https://shebanq.ancient-data.org/hebrew/text?book=Zephania&amp;chapter=3&amp;verse=16&amp;version=c&amp;mr=m&amp;qw=q&amp;tp=txt_p&amp;tr=hb&amp;wget=v&amp;qget=v&amp;nget=vt\" title=\"Zephaniah 3:16\" sec=\"Zephaniah 3:16\">subs</a></span> <span class=\"gloss\">day</span> <span class=\"sp xft\"><span class=\"f\">sp=</span>subs</span> <span class=\"st xft\"><span class=\"f\">st=</span>a</span></div>\n",
       "\n",
       "\n",
       "</div>\n",
       "\n",
       "<div class=\"word  hl\"  style=\"background-color: lightblue;\" >\n",
       "<a href=\"#\" class=\"nd\">304013</a>\n",
       "<div class=\"h\"><a target=\"_blank\" href=\"https://shebanq.ancient-data.org/hebrew/word?version=c&amp;id=1H\" title=\"show this lexeme in SHEBANQ\">הַ</a></div>\n",
       "<div class=\"features\"> <span class=\"pdp\"><a href=\"https://shebanq.ancient-data.org/hebrew/text?book=Zephania&amp;chapter=3&amp;verse=16&amp;version=c&amp;mr=m&amp;qw=q&amp;tp=txt_p&amp;tr=hb&amp;wget=v&amp;qget=v&amp;nget=vt\" title=\"Zephaniah 3:16\" sec=\"Zephaniah 3:16\">art</a></span> <span class=\"gloss\">the</span> <span class=\"sp xft\"><span class=\"f\">sp=</span>art</span></div>\n",
       "\n",
       "\n",
       "</div>\n",
       "\n",
       "<div class=\"word  hl\"  style=\"background-color: lightblue;\" >\n",
       "<a href=\"#\" class=\"nd\">304014</a>\n",
       "<div class=\"h\"><a target=\"_blank\" href=\"https://shebanq.ancient-data.org/hebrew/word?version=c&amp;id=1HWA\" title=\"show this lexeme in SHEBANQ\">ה֔וּא </a></div>\n",
       "<div class=\"features\"> <span class=\"pdp\"><a href=\"https://shebanq.ancient-data.org/hebrew/text?book=Zephania&amp;chapter=3&amp;verse=16&amp;version=c&amp;mr=m&amp;qw=q&amp;tp=txt_p&amp;tr=hb&amp;wget=v&amp;qget=v&amp;nget=vt\" title=\"Zephaniah 3:16\" sec=\"Zephaniah 3:16\">prde</a></span> <span class=\"gloss\">he</span> <span class=\"sp xft\"><span class=\"f\">sp=</span>prps</span></div>\n",
       "\n",
       "\n",
       "</div>\n",
       "\n",
       "\n",
       "    </div>\n",
       "\n",
       "\n",
       "</div>\n",
       "\n",
       "\n",
       "</div>\n"
      ],
      "text/plain": [
       "<IPython.core.display.HTML object>"
      ]
     },
     "metadata": {},
     "output_type": "display_data"
    },
    {
     "data": {
      "text/html": [
       "<div style=\"background: pink; text-align: center\">prep</div>"
      ],
      "text/plain": [
       "<IPython.core.display.HTML object>"
      ]
     },
     "metadata": {},
     "output_type": "display_data"
    },
    {
     "data": {
      "text/html": [
       "<div style=\"background: lightblue; text-align: center\">head</div>"
      ],
      "text/plain": [
       "<IPython.core.display.HTML object>"
      ]
     },
     "metadata": {},
     "output_type": "display_data"
    },
    {
     "name": "stdout",
     "output_type": "stream",
     "text": [
      "{   '__cx__': 'prep',\n",
      "    'head': {   '__cx__': 'attrib',\n",
      "                'attrib': {'__cx__': 'defi', 'defi': 304013, 'head': 304014},\n",
      "                'head': {'__cx__': 'defi', 'defi': 304011, 'head': 304012}},\n",
      "    'prep': 304010}\n",
      "\n",
      "cnds:\n",
      "w in preps                                               True\n",
      "F.prs.v(w) == absent                                     True\n",
      "bool(P(1))                                               True\n",
      "\n"
     ]
    },
    {
     "data": {
      "text/html": [
       "<hr>"
      ],
      "text/plain": [
       "<IPython.core.display.HTML object>"
      ]
     },
     "metadata": {},
     "output_type": "display_data"
    },
    {
     "name": "stdout",
     "output_type": "stream",
     "text": [
      "\n",
      "1448833\n"
     ]
    },
    {
     "data": {
      "text/html": [
       "<p><b>result</b> <i>1448833 -> CX prep {201900, 201901, 201902, 201903, 201904}</i></p>"
      ],
      "text/plain": [
       "<IPython.core.display.HTML object>"
      ]
     },
     "metadata": {},
     "output_type": "display_data"
    },
    {
     "data": {
      "text/html": [
       "<a href=\"https://shebanq.ancient-data.org/hebrew/text?book=Reges_II&amp;chapter=10&amp;verse=32&amp;version=c&amp;mr=m&amp;qw=q&amp;tp=txt_p&amp;tr=hb&amp;wget=v&amp;qget=v&amp;nget=vt\" title=\"show this passage in SHEBANQ\" sec=\"2_Kings 10:32\">2_Kings 10:32</a>\n",
       "<div class=\"atoms  \" >\n",
       "<a href=\"#\" class=\"nd\">768762</a>\n",
       "\n",
       "\n",
       "\n",
       "<div class=\"patom  \" >\n",
       "\n",
       "    <div class=\"phrase \" >\n",
       "        <a href=\"https://shebanq.ancient-data.org/hebrew/text?book=Reges_II&amp;chapter=10&amp;verse=32&amp;version=c&amp;mr=m&amp;qw=q&amp;tp=txt_p&amp;tr=hb&amp;wget=v&amp;qget=v&amp;nget=vt\" title=\"2_Kings 10:32\" sec=\"2_Kings 10:32\">phrase</a> <a href=\"#\" class=\"nd\">768762</a>  <span class=\"function\">Time</span> <span class=\"typ\">PP</span>\n",
       "    </div>\n",
       "    <div class=\"atoms\">\n",
       "\n",
       "<div class=\"word  hl\"  style=\"background-color: pink;\" >\n",
       "<a href=\"#\" class=\"nd\">201900</a>\n",
       "<div class=\"h\"><a target=\"_blank\" href=\"https://shebanq.ancient-data.org/hebrew/word?version=c&amp;id=1B\" title=\"show this lexeme in SHEBANQ\">בַּ</a></div>\n",
       "<div class=\"features\"> <span class=\"pdp\"><a href=\"https://shebanq.ancient-data.org/hebrew/text?book=Reges_II&amp;chapter=10&amp;verse=32&amp;version=c&amp;mr=m&amp;qw=q&amp;tp=txt_p&amp;tr=hb&amp;wget=v&amp;qget=v&amp;nget=vt\" title=\"2_Kings 10:32\" sec=\"2_Kings 10:32\">prep</a></span> <span class=\"gloss\">in</span> <span class=\"sp xft\"><span class=\"f\">sp=</span>prep</span></div>\n",
       "\n",
       "\n",
       "</div>\n",
       "\n",
       "<div class=\"word  hl\"  style=\"background-color: lightblue;\" >\n",
       "<a href=\"#\" class=\"nd\">201901</a>\n",
       "<div class=\"h\"><a target=\"_blank\" href=\"https://shebanq.ancient-data.org/hebrew/word?version=c&amp;id=1H\" title=\"show this lexeme in SHEBANQ\"></a></div>\n",
       "<div class=\"features\"> <span class=\"pdp\"><a href=\"https://shebanq.ancient-data.org/hebrew/text?book=Reges_II&amp;chapter=10&amp;verse=32&amp;version=c&amp;mr=m&amp;qw=q&amp;tp=txt_p&amp;tr=hb&amp;wget=v&amp;qget=v&amp;nget=vt\" title=\"2_Kings 10:32\" sec=\"2_Kings 10:32\">art</a></span> <span class=\"gloss\">the</span> <span class=\"sp xft\"><span class=\"f\">sp=</span>art</span></div>\n",
       "\n",
       "\n",
       "</div>\n",
       "\n",
       "<div class=\"word  hl\"  style=\"background-color: lightblue;\" >\n",
       "<a href=\"#\" class=\"nd\">201902</a>\n",
       "<div class=\"h\"><a target=\"_blank\" href=\"https://shebanq.ancient-data.org/hebrew/word?version=c&amp;id=1JWMn\" title=\"show this lexeme in SHEBANQ\">יָּמִ֣ים </a></div>\n",
       "<div class=\"features\"> <span class=\"pdp\"><a href=\"https://shebanq.ancient-data.org/hebrew/text?book=Reges_II&amp;chapter=10&amp;verse=32&amp;version=c&amp;mr=m&amp;qw=q&amp;tp=txt_p&amp;tr=hb&amp;wget=v&amp;qget=v&amp;nget=vt\" title=\"2_Kings 10:32\" sec=\"2_Kings 10:32\">subs</a></span> <span class=\"gloss\">day</span> <span class=\"sp xft\"><span class=\"f\">sp=</span>subs</span> <span class=\"st xft\"><span class=\"f\">st=</span>a</span></div>\n",
       "\n",
       "\n",
       "</div>\n",
       "\n",
       "<div class=\"word  hl\"  style=\"background-color: lightblue;\" >\n",
       "<a href=\"#\" class=\"nd\">201903</a>\n",
       "<div class=\"h\"><a target=\"_blank\" href=\"https://shebanq.ancient-data.org/hebrew/word?version=c&amp;id=1H\" title=\"show this lexeme in SHEBANQ\">הָ</a></div>\n",
       "<div class=\"features\"> <span class=\"pdp\"><a href=\"https://shebanq.ancient-data.org/hebrew/text?book=Reges_II&amp;chapter=10&amp;verse=32&amp;version=c&amp;mr=m&amp;qw=q&amp;tp=txt_p&amp;tr=hb&amp;wget=v&amp;qget=v&amp;nget=vt\" title=\"2_Kings 10:32\" sec=\"2_Kings 10:32\">art</a></span> <span class=\"gloss\">the</span> <span class=\"sp xft\"><span class=\"f\">sp=</span>art</span></div>\n",
       "\n",
       "\n",
       "</div>\n",
       "\n",
       "<div class=\"word  hl\"  style=\"background-color: lightblue;\" >\n",
       "<a href=\"#\" class=\"nd\">201904</a>\n",
       "<div class=\"h\"><a target=\"_blank\" href=\"https://shebanq.ancient-data.org/hebrew/word?version=c&amp;id=1HM\" title=\"show this lexeme in SHEBANQ\">הֵ֔ם </a></div>\n",
       "<div class=\"features\"> <span class=\"pdp\"><a href=\"https://shebanq.ancient-data.org/hebrew/text?book=Reges_II&amp;chapter=10&amp;verse=32&amp;version=c&amp;mr=m&amp;qw=q&amp;tp=txt_p&amp;tr=hb&amp;wget=v&amp;qget=v&amp;nget=vt\" title=\"2_Kings 10:32\" sec=\"2_Kings 10:32\">prde</a></span> <span class=\"gloss\">they</span> <span class=\"sp xft\"><span class=\"f\">sp=</span>prps</span></div>\n",
       "\n",
       "\n",
       "</div>\n",
       "\n",
       "\n",
       "    </div>\n",
       "\n",
       "\n",
       "</div>\n",
       "\n",
       "\n",
       "</div>\n"
      ],
      "text/plain": [
       "<IPython.core.display.HTML object>"
      ]
     },
     "metadata": {},
     "output_type": "display_data"
    },
    {
     "data": {
      "text/html": [
       "<div style=\"background: pink; text-align: center\">prep</div>"
      ],
      "text/plain": [
       "<IPython.core.display.HTML object>"
      ]
     },
     "metadata": {},
     "output_type": "display_data"
    },
    {
     "data": {
      "text/html": [
       "<div style=\"background: lightblue; text-align: center\">head</div>"
      ],
      "text/plain": [
       "<IPython.core.display.HTML object>"
      ]
     },
     "metadata": {},
     "output_type": "display_data"
    },
    {
     "name": "stdout",
     "output_type": "stream",
     "text": [
      "{   '__cx__': 'prep',\n",
      "    'head': {   '__cx__': 'attrib',\n",
      "                'attrib': {'__cx__': 'defi', 'defi': 201903, 'head': 201904},\n",
      "                'head': {'__cx__': 'defi', 'defi': 201901, 'head': 201902}},\n",
      "    'prep': 201900}\n",
      "\n",
      "cnds:\n",
      "w in preps                                               True\n",
      "F.prs.v(w) == absent                                     True\n",
      "bool(P(1))                                               True\n",
      "\n"
     ]
    },
    {
     "data": {
      "text/html": [
       "<hr>"
      ],
      "text/plain": [
       "<IPython.core.display.HTML object>"
      ]
     },
     "metadata": {},
     "output_type": "display_data"
    },
    {
     "name": "stdout",
     "output_type": "stream",
     "text": [
      "\n",
      "1448660\n"
     ]
    },
    {
     "data": {
      "text/html": [
       "<p><b>result</b> <i>1448660 -> CX prep {184008, 184009, 184010, 184011, 184012}</i></p>"
      ],
      "text/plain": [
       "<IPython.core.display.HTML object>"
      ]
     },
     "metadata": {},
     "output_type": "display_data"
    },
    {
     "data": {
      "text/html": [
       "<a href=\"https://shebanq.ancient-data.org/hebrew/text?book=Reges_I&amp;chapter=9&amp;verse=13&amp;version=c&amp;mr=m&amp;qw=q&amp;tp=txt_p&amp;tr=hb&amp;wget=v&amp;qget=v&amp;nget=vt\" title=\"show this passage in SHEBANQ\" sec=\"1_Kings 9:13\">1_Kings 9:13</a>\n",
       "<div class=\"atoms  \" >\n",
       "<a href=\"#\" class=\"nd\">757571</a>\n",
       "\n",
       "\n",
       "\n",
       "<div class=\"patom  \" >\n",
       "\n",
       "    <div class=\"phrase \" >\n",
       "        <a href=\"https://shebanq.ancient-data.org/hebrew/text?book=Reges_I&amp;chapter=9&amp;verse=13&amp;version=c&amp;mr=m&amp;qw=q&amp;tp=txt_p&amp;tr=hb&amp;wget=v&amp;qget=v&amp;nget=vt\" title=\"1_Kings 9:13\" sec=\"1_Kings 9:13\">phrase</a> <a href=\"#\" class=\"nd\">757571</a>  <span class=\"function\">Time</span> <span class=\"typ\">PP</span>\n",
       "    </div>\n",
       "    <div class=\"atoms\">\n",
       "\n",
       "<div class=\"word  hl\"  style=\"background-color: pink;\" >\n",
       "<a href=\"#\" class=\"nd\">184008</a>\n",
       "<div class=\"h\"><a target=\"_blank\" href=\"https://shebanq.ancient-data.org/hebrew/word?version=c&amp;id=1OD\" title=\"show this lexeme in SHEBANQ\">עַ֖ד </a></div>\n",
       "<div class=\"features\"> <span class=\"pdp\"><a href=\"https://shebanq.ancient-data.org/hebrew/text?book=Reges_I&amp;chapter=9&amp;verse=13&amp;version=c&amp;mr=m&amp;qw=q&amp;tp=txt_p&amp;tr=hb&amp;wget=v&amp;qget=v&amp;nget=vt\" title=\"1_Kings 9:13\" sec=\"1_Kings 9:13\">prep</a></span> <span class=\"gloss\">unto</span> <span class=\"sp xft\"><span class=\"f\">sp=</span>prep</span></div>\n",
       "\n",
       "\n",
       "</div>\n",
       "\n",
       "<div class=\"word  hl\"  style=\"background-color: lightblue;\" >\n",
       "<a href=\"#\" class=\"nd\">184009</a>\n",
       "<div class=\"h\"><a target=\"_blank\" href=\"https://shebanq.ancient-data.org/hebrew/word?version=c&amp;id=1H\" title=\"show this lexeme in SHEBANQ\">הַ</a></div>\n",
       "<div class=\"features\"> <span class=\"pdp\"><a href=\"https://shebanq.ancient-data.org/hebrew/text?book=Reges_I&amp;chapter=9&amp;verse=13&amp;version=c&amp;mr=m&amp;qw=q&amp;tp=txt_p&amp;tr=hb&amp;wget=v&amp;qget=v&amp;nget=vt\" title=\"1_Kings 9:13\" sec=\"1_Kings 9:13\">art</a></span> <span class=\"gloss\">the</span> <span class=\"sp xft\"><span class=\"f\">sp=</span>art</span></div>\n",
       "\n",
       "\n",
       "</div>\n",
       "\n",
       "<div class=\"word  hl\"  style=\"background-color: lightblue;\" >\n",
       "<a href=\"#\" class=\"nd\">184010</a>\n",
       "<div class=\"h\"><a target=\"_blank\" href=\"https://shebanq.ancient-data.org/hebrew/word?version=c&amp;id=1JWMn\" title=\"show this lexeme in SHEBANQ\">יֹּ֥ום </a></div>\n",
       "<div class=\"features\"> <span class=\"pdp\"><a href=\"https://shebanq.ancient-data.org/hebrew/text?book=Reges_I&amp;chapter=9&amp;verse=13&amp;version=c&amp;mr=m&amp;qw=q&amp;tp=txt_p&amp;tr=hb&amp;wget=v&amp;qget=v&amp;nget=vt\" title=\"1_Kings 9:13\" sec=\"1_Kings 9:13\">subs</a></span> <span class=\"gloss\">day</span> <span class=\"sp xft\"><span class=\"f\">sp=</span>subs</span> <span class=\"st xft\"><span class=\"f\">st=</span>a</span></div>\n",
       "\n",
       "\n",
       "</div>\n",
       "\n",
       "<div class=\"word  hl\"  style=\"background-color: lightblue;\" >\n",
       "<a href=\"#\" class=\"nd\">184011</a>\n",
       "<div class=\"h\"><a target=\"_blank\" href=\"https://shebanq.ancient-data.org/hebrew/word?version=c&amp;id=1H\" title=\"show this lexeme in SHEBANQ\">הַ</a></div>\n",
       "<div class=\"features\"> <span class=\"pdp\"><a href=\"https://shebanq.ancient-data.org/hebrew/text?book=Reges_I&amp;chapter=9&amp;verse=13&amp;version=c&amp;mr=m&amp;qw=q&amp;tp=txt_p&amp;tr=hb&amp;wget=v&amp;qget=v&amp;nget=vt\" title=\"1_Kings 9:13\" sec=\"1_Kings 9:13\">art</a></span> <span class=\"gloss\">the</span> <span class=\"sp xft\"><span class=\"f\">sp=</span>art</span></div>\n",
       "\n",
       "\n",
       "</div>\n",
       "\n",
       "<div class=\"word  hl\"  style=\"background-color: lightblue;\" >\n",
       "<a href=\"#\" class=\"nd\">184012</a>\n",
       "<div class=\"h\"><a target=\"_blank\" href=\"https://shebanq.ancient-data.org/hebrew/word?version=c&amp;id=1ZH\" title=\"show this lexeme in SHEBANQ\">זֶּֽה׃ פ </a></div>\n",
       "<div class=\"features\"> <span class=\"pdp\"><a href=\"https://shebanq.ancient-data.org/hebrew/text?book=Reges_I&amp;chapter=9&amp;verse=13&amp;version=c&amp;mr=m&amp;qw=q&amp;tp=txt_p&amp;tr=hb&amp;wget=v&amp;qget=v&amp;nget=vt\" title=\"1_Kings 9:13\" sec=\"1_Kings 9:13\">prde</a></span> <span class=\"gloss\">this</span> <span class=\"sp xft\"><span class=\"f\">sp=</span>prde</span></div>\n",
       "\n",
       "\n",
       "</div>\n",
       "\n",
       "\n",
       "    </div>\n",
       "\n",
       "\n",
       "</div>\n",
       "\n",
       "\n",
       "</div>\n"
      ],
      "text/plain": [
       "<IPython.core.display.HTML object>"
      ]
     },
     "metadata": {},
     "output_type": "display_data"
    },
    {
     "data": {
      "text/html": [
       "<div style=\"background: pink; text-align: center\">prep</div>"
      ],
      "text/plain": [
       "<IPython.core.display.HTML object>"
      ]
     },
     "metadata": {},
     "output_type": "display_data"
    },
    {
     "data": {
      "text/html": [
       "<div style=\"background: lightblue; text-align: center\">head</div>"
      ],
      "text/plain": [
       "<IPython.core.display.HTML object>"
      ]
     },
     "metadata": {},
     "output_type": "display_data"
    },
    {
     "name": "stdout",
     "output_type": "stream",
     "text": [
      "{   '__cx__': 'prep',\n",
      "    'head': {   '__cx__': 'attrib',\n",
      "                'attrib': {'__cx__': 'defi', 'defi': 184011, 'head': 184012},\n",
      "                'head': {'__cx__': 'defi', 'defi': 184009, 'head': 184010}},\n",
      "    'prep': 184008}\n",
      "\n",
      "cnds:\n",
      "w in preps                                               True\n",
      "F.prs.v(w) == absent                                     True\n",
      "bool(P(1))                                               True\n",
      "\n"
     ]
    },
    {
     "data": {
      "text/html": [
       "<hr>"
      ],
      "text/plain": [
       "<IPython.core.display.HTML object>"
      ]
     },
     "metadata": {},
     "output_type": "display_data"
    },
    {
     "name": "stdout",
     "output_type": "stream",
     "text": [
      "\n",
      "1447264\n"
     ]
    },
    {
     "data": {
      "text/html": [
       "<p><b>result</b> <i>1447264 -> CX prep {45680, 45678, 45679}</i></p>"
      ],
      "text/plain": [
       "<IPython.core.display.HTML object>"
      ]
     },
     "metadata": {},
     "output_type": "display_data"
    },
    {
     "data": {
      "text/html": [
       "<a href=\"https://shebanq.ancient-data.org/hebrew/text?book=Exodus&amp;chapter=30&amp;verse=10&amp;version=c&amp;mr=m&amp;qw=q&amp;tp=txt_p&amp;tr=hb&amp;wget=v&amp;qget=v&amp;nget=vt\" title=\"show this passage in SHEBANQ\" sec=\"Exodus 30:10\">Exodus 30:10</a>\n",
       "<div class=\"atoms  \" >\n",
       "<a href=\"#\" class=\"nd\">679379</a>\n",
       "\n",
       "\n",
       "\n",
       "<div class=\"patom  \" >\n",
       "\n",
       "    <div class=\"phrase \" >\n",
       "        <a href=\"https://shebanq.ancient-data.org/hebrew/text?book=Exodus&amp;chapter=30&amp;verse=10&amp;version=c&amp;mr=m&amp;qw=q&amp;tp=txt_p&amp;tr=hb&amp;wget=v&amp;qget=v&amp;nget=vt\" title=\"Exodus 30:10\" sec=\"Exodus 30:10\">phrase</a> <a href=\"#\" class=\"nd\">679379</a>  <span class=\"function\">Time</span> <span class=\"typ\">NP</span>\n",
       "    </div>\n",
       "    <div class=\"atoms\">\n",
       "\n",
       "<div class=\"word  \" >\n",
       "<a href=\"#\" class=\"nd\">45677</a>\n",
       "<div class=\"h\"><a target=\"_blank\" href=\"https://shebanq.ancient-data.org/hebrew/word?version=c&amp;id=1AXDn\" title=\"show this lexeme in SHEBANQ\">אַחַ֖ת </a></div>\n",
       "<div class=\"features\"> <span class=\"pdp\"><a href=\"https://shebanq.ancient-data.org/hebrew/text?book=Exodus&amp;chapter=30&amp;verse=10&amp;version=c&amp;mr=m&amp;qw=q&amp;tp=txt_p&amp;tr=hb&amp;wget=v&amp;qget=v&amp;nget=vt\" title=\"Exodus 30:10\" sec=\"Exodus 30:10\">subs</a></span> <span class=\"gloss\">one</span> <span class=\"sp xft\"><span class=\"f\">sp=</span>subs</span> <span class=\"st xft\"><span class=\"f\">st=</span>c</span></div>\n",
       "\n",
       "\n",
       "</div>\n",
       "\n",
       "<div class=\"word  hl\"  style=\"background-color: pink;\" >\n",
       "<a href=\"#\" class=\"nd\">45678</a>\n",
       "<div class=\"h\"><a target=\"_blank\" href=\"https://shebanq.ancient-data.org/hebrew/word?version=c&amp;id=1B\" title=\"show this lexeme in SHEBANQ\">בַּ</a></div>\n",
       "<div class=\"features\"> <span class=\"pdp\"><a href=\"https://shebanq.ancient-data.org/hebrew/text?book=Exodus&amp;chapter=30&amp;verse=10&amp;version=c&amp;mr=m&amp;qw=q&amp;tp=txt_p&amp;tr=hb&amp;wget=v&amp;qget=v&amp;nget=vt\" title=\"Exodus 30:10\" sec=\"Exodus 30:10\">prep</a></span> <span class=\"gloss\">in</span> <span class=\"sp xft\"><span class=\"f\">sp=</span>prep</span></div>\n",
       "\n",
       "\n",
       "</div>\n",
       "\n",
       "<div class=\"word  hl\"  style=\"background-color: lightblue;\" >\n",
       "<a href=\"#\" class=\"nd\">45679</a>\n",
       "<div class=\"h\"><a target=\"_blank\" href=\"https://shebanq.ancient-data.org/hebrew/word?version=c&amp;id=1H\" title=\"show this lexeme in SHEBANQ\"></a></div>\n",
       "<div class=\"features\"> <span class=\"pdp\"><a href=\"https://shebanq.ancient-data.org/hebrew/text?book=Exodus&amp;chapter=30&amp;verse=10&amp;version=c&amp;mr=m&amp;qw=q&amp;tp=txt_p&amp;tr=hb&amp;wget=v&amp;qget=v&amp;nget=vt\" title=\"Exodus 30:10\" sec=\"Exodus 30:10\">art</a></span> <span class=\"gloss\">the</span> <span class=\"sp xft\"><span class=\"f\">sp=</span>art</span></div>\n",
       "\n",
       "\n",
       "</div>\n",
       "\n",
       "<div class=\"word  hl\"  style=\"background-color: lightblue;\" >\n",
       "<a href=\"#\" class=\"nd\">45680</a>\n",
       "<div class=\"h\"><a target=\"_blank\" href=\"https://shebanq.ancient-data.org/hebrew/word?version=c&amp;id=1CNHn\" title=\"show this lexeme in SHEBANQ\">שָּׁנָ֑ה </a></div>\n",
       "<div class=\"features\"> <span class=\"pdp\"><a href=\"https://shebanq.ancient-data.org/hebrew/text?book=Exodus&amp;chapter=30&amp;verse=10&amp;version=c&amp;mr=m&amp;qw=q&amp;tp=txt_p&amp;tr=hb&amp;wget=v&amp;qget=v&amp;nget=vt\" title=\"Exodus 30:10\" sec=\"Exodus 30:10\">subs</a></span> <span class=\"gloss\">year</span> <span class=\"sp xft\"><span class=\"f\">sp=</span>subs</span> <span class=\"st xft\"><span class=\"f\">st=</span>a</span></div>\n",
       "\n",
       "\n",
       "</div>\n",
       "\n",
       "\n",
       "    </div>\n",
       "\n",
       "\n",
       "</div>\n",
       "\n",
       "\n",
       "</div>\n"
      ],
      "text/plain": [
       "<IPython.core.display.HTML object>"
      ]
     },
     "metadata": {},
     "output_type": "display_data"
    },
    {
     "data": {
      "text/html": [
       "<div style=\"background: pink; text-align: center\">prep</div>"
      ],
      "text/plain": [
       "<IPython.core.display.HTML object>"
      ]
     },
     "metadata": {},
     "output_type": "display_data"
    },
    {
     "data": {
      "text/html": [
       "<div style=\"background: lightblue; text-align: center\">head</div>"
      ],
      "text/plain": [
       "<IPython.core.display.HTML object>"
      ]
     },
     "metadata": {},
     "output_type": "display_data"
    },
    {
     "name": "stdout",
     "output_type": "stream",
     "text": [
      "{   '__cx__': 'prep',\n",
      "    'head': {'__cx__': 'defi', 'defi': 45679, 'head': 45680},\n",
      "    'prep': 45678}\n",
      "\n",
      "cnds:\n",
      "w in preps                                               True\n",
      "F.prs.v(w) == absent                                     True\n",
      "bool(P(1))                                               True\n",
      "\n"
     ]
    },
    {
     "data": {
      "text/html": [
       "<hr>"
      ],
      "text/plain": [
       "<IPython.core.display.HTML object>"
      ]
     },
     "metadata": {},
     "output_type": "display_data"
    },
    {
     "name": "stdout",
     "output_type": "stream",
     "text": [
      "\n",
      "1448950\n"
     ]
    },
    {
     "data": {
      "text/html": [
       "<p><b>result</b> <i>1448950 -> CX prep {213292, 213293, 213294, 213295, 213296}</i></p>"
      ],
      "text/plain": [
       "<IPython.core.display.HTML object>"
      ]
     },
     "metadata": {},
     "output_type": "display_data"
    },
    {
     "data": {
      "text/html": [
       "<a href=\"https://shebanq.ancient-data.org/hebrew/text?book=Jesaia&amp;chapter=4&amp;verse=1&amp;version=c&amp;mr=m&amp;qw=q&amp;tp=txt_p&amp;tr=hb&amp;wget=v&amp;qget=v&amp;nget=vt\" title=\"show this passage in SHEBANQ\" sec=\"Isaiah 4:1\">Isaiah 4:1</a>\n",
       "<div class=\"atoms  \" >\n",
       "<a href=\"#\" class=\"nd\">774810</a>\n",
       "\n",
       "\n",
       "\n",
       "<div class=\"patom  \" >\n",
       "\n",
       "    <div class=\"phrase \" >\n",
       "        <a href=\"https://shebanq.ancient-data.org/hebrew/text?book=Jesaia&amp;chapter=4&amp;verse=1&amp;version=c&amp;mr=m&amp;qw=q&amp;tp=txt_p&amp;tr=hb&amp;wget=v&amp;qget=v&amp;nget=vt\" title=\"Isaiah 4:1\" sec=\"Isaiah 4:1\">phrase</a> <a href=\"#\" class=\"nd\">774810</a>  <span class=\"function\">Time</span> <span class=\"typ\">PP</span>\n",
       "    </div>\n",
       "    <div class=\"atoms\">\n",
       "\n",
       "<div class=\"word  hl\"  style=\"background-color: pink;\" >\n",
       "<a href=\"#\" class=\"nd\">213292</a>\n",
       "<div class=\"h\"><a target=\"_blank\" href=\"https://shebanq.ancient-data.org/hebrew/word?version=c&amp;id=1B\" title=\"show this lexeme in SHEBANQ\">בַּ</a></div>\n",
       "<div class=\"features\"> <span class=\"pdp\"><a href=\"https://shebanq.ancient-data.org/hebrew/text?book=Jesaia&amp;chapter=4&amp;verse=1&amp;version=c&amp;mr=m&amp;qw=q&amp;tp=txt_p&amp;tr=hb&amp;wget=v&amp;qget=v&amp;nget=vt\" title=\"Isaiah 4:1\" sec=\"Isaiah 4:1\">prep</a></span> <span class=\"gloss\">in</span> <span class=\"sp xft\"><span class=\"f\">sp=</span>prep</span></div>\n",
       "\n",
       "\n",
       "</div>\n",
       "\n",
       "<div class=\"word  hl\"  style=\"background-color: lightblue;\" >\n",
       "<a href=\"#\" class=\"nd\">213293</a>\n",
       "<div class=\"h\"><a target=\"_blank\" href=\"https://shebanq.ancient-data.org/hebrew/word?version=c&amp;id=1H\" title=\"show this lexeme in SHEBANQ\"></a></div>\n",
       "<div class=\"features\"> <span class=\"pdp\"><a href=\"https://shebanq.ancient-data.org/hebrew/text?book=Jesaia&amp;chapter=4&amp;verse=1&amp;version=c&amp;mr=m&amp;qw=q&amp;tp=txt_p&amp;tr=hb&amp;wget=v&amp;qget=v&amp;nget=vt\" title=\"Isaiah 4:1\" sec=\"Isaiah 4:1\">art</a></span> <span class=\"gloss\">the</span> <span class=\"sp xft\"><span class=\"f\">sp=</span>art</span></div>\n",
       "\n",
       "\n",
       "</div>\n",
       "\n",
       "<div class=\"word  hl\"  style=\"background-color: lightblue;\" >\n",
       "<a href=\"#\" class=\"nd\">213294</a>\n",
       "<div class=\"h\"><a target=\"_blank\" href=\"https://shebanq.ancient-data.org/hebrew/word?version=c&amp;id=1JWMn\" title=\"show this lexeme in SHEBANQ\">יֹּ֤ום </a></div>\n",
       "<div class=\"features\"> <span class=\"pdp\"><a href=\"https://shebanq.ancient-data.org/hebrew/text?book=Jesaia&amp;chapter=4&amp;verse=1&amp;version=c&amp;mr=m&amp;qw=q&amp;tp=txt_p&amp;tr=hb&amp;wget=v&amp;qget=v&amp;nget=vt\" title=\"Isaiah 4:1\" sec=\"Isaiah 4:1\">subs</a></span> <span class=\"gloss\">day</span> <span class=\"sp xft\"><span class=\"f\">sp=</span>subs</span> <span class=\"st xft\"><span class=\"f\">st=</span>a</span></div>\n",
       "\n",
       "\n",
       "</div>\n",
       "\n",
       "<div class=\"word  hl\"  style=\"background-color: lightblue;\" >\n",
       "<a href=\"#\" class=\"nd\">213295</a>\n",
       "<div class=\"h\"><a target=\"_blank\" href=\"https://shebanq.ancient-data.org/hebrew/word?version=c&amp;id=1H\" title=\"show this lexeme in SHEBANQ\">הַ</a></div>\n",
       "<div class=\"features\"> <span class=\"pdp\"><a href=\"https://shebanq.ancient-data.org/hebrew/text?book=Jesaia&amp;chapter=4&amp;verse=1&amp;version=c&amp;mr=m&amp;qw=q&amp;tp=txt_p&amp;tr=hb&amp;wget=v&amp;qget=v&amp;nget=vt\" title=\"Isaiah 4:1\" sec=\"Isaiah 4:1\">art</a></span> <span class=\"gloss\">the</span> <span class=\"sp xft\"><span class=\"f\">sp=</span>art</span></div>\n",
       "\n",
       "\n",
       "</div>\n",
       "\n",
       "<div class=\"word  hl\"  style=\"background-color: lightblue;\" >\n",
       "<a href=\"#\" class=\"nd\">213296</a>\n",
       "<div class=\"h\"><a target=\"_blank\" href=\"https://shebanq.ancient-data.org/hebrew/word?version=c&amp;id=1HWA\" title=\"show this lexeme in SHEBANQ\">הוּא֙ </a></div>\n",
       "<div class=\"features\"> <span class=\"pdp\"><a href=\"https://shebanq.ancient-data.org/hebrew/text?book=Jesaia&amp;chapter=4&amp;verse=1&amp;version=c&amp;mr=m&amp;qw=q&amp;tp=txt_p&amp;tr=hb&amp;wget=v&amp;qget=v&amp;nget=vt\" title=\"Isaiah 4:1\" sec=\"Isaiah 4:1\">prde</a></span> <span class=\"gloss\">he</span> <span class=\"sp xft\"><span class=\"f\">sp=</span>prps</span></div>\n",
       "\n",
       "\n",
       "</div>\n",
       "\n",
       "\n",
       "    </div>\n",
       "\n",
       "\n",
       "</div>\n",
       "\n",
       "\n",
       "</div>\n"
      ],
      "text/plain": [
       "<IPython.core.display.HTML object>"
      ]
     },
     "metadata": {},
     "output_type": "display_data"
    },
    {
     "data": {
      "text/html": [
       "<div style=\"background: pink; text-align: center\">prep</div>"
      ],
      "text/plain": [
       "<IPython.core.display.HTML object>"
      ]
     },
     "metadata": {},
     "output_type": "display_data"
    },
    {
     "data": {
      "text/html": [
       "<div style=\"background: lightblue; text-align: center\">head</div>"
      ],
      "text/plain": [
       "<IPython.core.display.HTML object>"
      ]
     },
     "metadata": {},
     "output_type": "display_data"
    },
    {
     "name": "stdout",
     "output_type": "stream",
     "text": [
      "{   '__cx__': 'prep',\n",
      "    'head': {   '__cx__': 'attrib',\n",
      "                'attrib': {'__cx__': 'defi', 'defi': 213295, 'head': 213296},\n",
      "                'head': {'__cx__': 'defi', 'defi': 213293, 'head': 213294}},\n",
      "    'prep': 213292}\n",
      "\n",
      "cnds:\n",
      "w in preps                                               True\n",
      "F.prs.v(w) == absent                                     True\n",
      "bool(P(1))                                               True\n",
      "\n"
     ]
    },
    {
     "data": {
      "text/html": [
       "<hr>"
      ],
      "text/plain": [
       "<IPython.core.display.HTML object>"
      ]
     },
     "metadata": {},
     "output_type": "display_data"
    },
    {
     "name": "stdout",
     "output_type": "stream",
     "text": [
      "\n",
      "1450299\n"
     ]
    },
    {
     "data": {
      "text/html": [
       "<p><b>result</b> <i>1450299 -> CX defi {383556, 383557}</i></p>"
      ],
      "text/plain": [
       "<IPython.core.display.HTML object>"
      ]
     },
     "metadata": {},
     "output_type": "display_data"
    },
    {
     "data": {
      "text/html": [
       "<a href=\"https://shebanq.ancient-data.org/hebrew/text?book=Nehemia&amp;chapter=1&amp;verse=6&amp;version=c&amp;mr=m&amp;qw=q&amp;tp=txt_p&amp;tr=hb&amp;wget=v&amp;qget=v&amp;nget=vt\" title=\"show this passage in SHEBANQ\" sec=\"Nehemiah 1:6\">Nehemiah 1:6</a>\n",
       "<div class=\"atoms  \" >\n",
       "<a href=\"#\" class=\"nd\">883750</a>\n",
       "\n",
       "\n",
       "\n",
       "<div class=\"patom  \" >\n",
       "\n",
       "    <div class=\"phrase \" >\n",
       "        <a href=\"https://shebanq.ancient-data.org/hebrew/text?book=Nehemia&amp;chapter=1&amp;verse=6&amp;version=c&amp;mr=m&amp;qw=q&amp;tp=txt_p&amp;tr=hb&amp;wget=v&amp;qget=v&amp;nget=vt\" title=\"Nehemiah 1:6\" sec=\"Nehemiah 1:6\">phrase</a> <a href=\"#\" class=\"nd\">883750</a>  <span class=\"function\">Time</span> <span class=\"typ\">NP</span>\n",
       "    </div>\n",
       "    <div class=\"atoms\">\n",
       "\n",
       "<div class=\"word  hl\"  style=\"background-color: pink;\" >\n",
       "<a href=\"#\" class=\"nd\">383556</a>\n",
       "<div class=\"h\"><a target=\"_blank\" href=\"https://shebanq.ancient-data.org/hebrew/word?version=c&amp;id=1H\" title=\"show this lexeme in SHEBANQ\">הַ</a></div>\n",
       "<div class=\"features\"> <span class=\"pdp\"><a href=\"https://shebanq.ancient-data.org/hebrew/text?book=Nehemia&amp;chapter=1&amp;verse=6&amp;version=c&amp;mr=m&amp;qw=q&amp;tp=txt_p&amp;tr=hb&amp;wget=v&amp;qget=v&amp;nget=vt\" title=\"Nehemiah 1:6\" sec=\"Nehemiah 1:6\">art</a></span> <span class=\"gloss\">the</span> <span class=\"sp xft\"><span class=\"f\">sp=</span>art</span></div>\n",
       "\n",
       "\n",
       "</div>\n",
       "\n",
       "<div class=\"word  hl\"  style=\"background-color: lightblue;\" >\n",
       "<a href=\"#\" class=\"nd\">383557</a>\n",
       "<div class=\"h\"><a target=\"_blank\" href=\"https://shebanq.ancient-data.org/hebrew/word?version=c&amp;id=1JWMn\" title=\"show this lexeme in SHEBANQ\">יֹּום֙ </a></div>\n",
       "<div class=\"features\"> <span class=\"pdp\"><a href=\"https://shebanq.ancient-data.org/hebrew/text?book=Nehemia&amp;chapter=1&amp;verse=6&amp;version=c&amp;mr=m&amp;qw=q&amp;tp=txt_p&amp;tr=hb&amp;wget=v&amp;qget=v&amp;nget=vt\" title=\"Nehemiah 1:6\" sec=\"Nehemiah 1:6\">subs</a></span> <span class=\"gloss\">day</span> <span class=\"sp xft\"><span class=\"f\">sp=</span>subs</span> <span class=\"st xft\"><span class=\"f\">st=</span>a</span></div>\n",
       "\n",
       "\n",
       "</div>\n",
       "\n",
       "\n",
       "    </div>\n",
       "\n",
       "\n",
       "</div>\n",
       "\n",
       "\n",
       "</div>\n"
      ],
      "text/plain": [
       "<IPython.core.display.HTML object>"
      ]
     },
     "metadata": {},
     "output_type": "display_data"
    },
    {
     "data": {
      "text/html": [
       "<div style=\"background: pink; text-align: center\">defi</div>"
      ],
      "text/plain": [
       "<IPython.core.display.HTML object>"
      ]
     },
     "metadata": {},
     "output_type": "display_data"
    },
    {
     "data": {
      "text/html": [
       "<div style=\"background: lightblue; text-align: center\">head</div>"
      ],
      "text/plain": [
       "<IPython.core.display.HTML object>"
      ]
     },
     "metadata": {},
     "output_type": "display_data"
    },
    {
     "name": "stdout",
     "output_type": "stream",
     "text": [
      "{'__cx__': 'defi', 'defi': 383556, 'head': 383557}\n",
      "\n",
      "cnds:\n",
      "F.sp.v(w) == art                                         True\n",
      "bool(P(1))                                               True\n",
      "\n"
     ]
    },
    {
     "data": {
      "text/html": [
       "<hr>"
      ],
      "text/plain": [
       "<IPython.core.display.HTML object>"
      ]
     },
     "metadata": {},
     "output_type": "display_data"
    },
    {
     "name": "stdout",
     "output_type": "stream",
     "text": [
      "\n",
      "1450064\n"
     ]
    },
    {
     "data": {
      "text/html": [
       "<p><b>result</b> <i>1450064 -> CX prep {354432, 354433, 354431}</i></p>"
      ],
      "text/plain": [
       "<IPython.core.display.HTML object>"
      ]
     },
     "metadata": {},
     "output_type": "display_data"
    },
    {
     "data": {
      "text/html": [
       "<a href=\"https://shebanq.ancient-data.org/hebrew/text?book=Proverbia&amp;chapter=27&amp;verse=14&amp;version=c&amp;mr=m&amp;qw=q&amp;tp=txt_p&amp;tr=hb&amp;wget=v&amp;qget=v&amp;nget=vt\" title=\"show this passage in SHEBANQ\" sec=\"Proverbs 27:14\">Proverbs 27:14</a>\n",
       "<div class=\"atoms  \" >\n",
       "<a href=\"#\" class=\"nd\">866547</a>\n",
       "\n",
       "\n",
       "\n",
       "<div class=\"patom  \" >\n",
       "\n",
       "    <div class=\"phrase \" >\n",
       "        <a href=\"https://shebanq.ancient-data.org/hebrew/text?book=Proverbia&amp;chapter=27&amp;verse=14&amp;version=c&amp;mr=m&amp;qw=q&amp;tp=txt_p&amp;tr=hb&amp;wget=v&amp;qget=v&amp;nget=vt\" title=\"Proverbs 27:14\" sec=\"Proverbs 27:14\">phrase</a> <a href=\"#\" class=\"nd\">866547</a>  <span class=\"function\">Time</span> <span class=\"typ\">PP</span>\n",
       "    </div>\n",
       "    <div class=\"atoms\">\n",
       "\n",
       "<div class=\"word  hl\"  style=\"background-color: pink;\" >\n",
       "<a href=\"#\" class=\"nd\">354431</a>\n",
       "<div class=\"h\"><a target=\"_blank\" href=\"https://shebanq.ancient-data.org/hebrew/word?version=c&amp;id=1B\" title=\"show this lexeme in SHEBANQ\">בַּ</a></div>\n",
       "<div class=\"features\"> <span class=\"pdp\"><a href=\"https://shebanq.ancient-data.org/hebrew/text?book=Proverbia&amp;chapter=27&amp;verse=14&amp;version=c&amp;mr=m&amp;qw=q&amp;tp=txt_p&amp;tr=hb&amp;wget=v&amp;qget=v&amp;nget=vt\" title=\"Proverbs 27:14\" sec=\"Proverbs 27:14\">prep</a></span> <span class=\"gloss\">in</span> <span class=\"sp xft\"><span class=\"f\">sp=</span>prep</span></div>\n",
       "\n",
       "\n",
       "</div>\n",
       "\n",
       "<div class=\"word  hl\"  style=\"background-color: lightblue;\" >\n",
       "<a href=\"#\" class=\"nd\">354432</a>\n",
       "<div class=\"h\"><a target=\"_blank\" href=\"https://shebanq.ancient-data.org/hebrew/word?version=c&amp;id=1H\" title=\"show this lexeme in SHEBANQ\"></a></div>\n",
       "<div class=\"features\"> <span class=\"pdp\"><a href=\"https://shebanq.ancient-data.org/hebrew/text?book=Proverbia&amp;chapter=27&amp;verse=14&amp;version=c&amp;mr=m&amp;qw=q&amp;tp=txt_p&amp;tr=hb&amp;wget=v&amp;qget=v&amp;nget=vt\" title=\"Proverbs 27:14\" sec=\"Proverbs 27:14\">art</a></span> <span class=\"gloss\">the</span> <span class=\"sp xft\"><span class=\"f\">sp=</span>art</span></div>\n",
       "\n",
       "\n",
       "</div>\n",
       "\n",
       "<div class=\"word  hl\"  style=\"background-color: lightblue;\" >\n",
       "<a href=\"#\" class=\"nd\">354433</a>\n",
       "<div class=\"h\"><a target=\"_blank\" href=\"https://shebanq.ancient-data.org/hebrew/word?version=c&amp;id=1BQRin\" title=\"show this lexeme in SHEBANQ\">בֹּ֣קֶר </a></div>\n",
       "<div class=\"features\"> <span class=\"pdp\"><a href=\"https://shebanq.ancient-data.org/hebrew/text?book=Proverbia&amp;chapter=27&amp;verse=14&amp;version=c&amp;mr=m&amp;qw=q&amp;tp=txt_p&amp;tr=hb&amp;wget=v&amp;qget=v&amp;nget=vt\" title=\"Proverbs 27:14\" sec=\"Proverbs 27:14\">subs</a></span> <span class=\"gloss\">morning</span> <span class=\"sp xft\"><span class=\"f\">sp=</span>subs</span> <span class=\"st xft\"><span class=\"f\">st=</span>a</span></div>\n",
       "\n",
       "\n",
       "</div>\n",
       "\n",
       "\n",
       "    </div>\n",
       "\n",
       "\n",
       "</div>\n",
       "\n",
       "\n",
       "</div>\n"
      ],
      "text/plain": [
       "<IPython.core.display.HTML object>"
      ]
     },
     "metadata": {},
     "output_type": "display_data"
    },
    {
     "data": {
      "text/html": [
       "<div style=\"background: pink; text-align: center\">prep</div>"
      ],
      "text/plain": [
       "<IPython.core.display.HTML object>"
      ]
     },
     "metadata": {},
     "output_type": "display_data"
    },
    {
     "data": {
      "text/html": [
       "<div style=\"background: lightblue; text-align: center\">head</div>"
      ],
      "text/plain": [
       "<IPython.core.display.HTML object>"
      ]
     },
     "metadata": {},
     "output_type": "display_data"
    },
    {
     "name": "stdout",
     "output_type": "stream",
     "text": [
      "{   '__cx__': 'prep',\n",
      "    'head': {'__cx__': 'defi', 'defi': 354432, 'head': 354433},\n",
      "    'prep': 354431}\n",
      "\n",
      "cnds:\n",
      "w in preps                                               True\n",
      "F.prs.v(w) == absent                                     True\n",
      "bool(P(1))                                               True\n",
      "\n"
     ]
    },
    {
     "data": {
      "text/html": [
       "<hr>"
      ],
      "text/plain": [
       "<IPython.core.display.HTML object>"
      ]
     },
     "metadata": {},
     "output_type": "display_data"
    },
    {
     "name": "stdout",
     "output_type": "stream",
     "text": [
      "\n",
      "1447397\n"
     ]
    },
    {
     "data": {
      "text/html": [
       "<p><b>result</b> <i>1447397 -> CX prep {62903, 62904, 62905, 62906, 62907}</i></p>"
      ],
      "text/plain": [
       "<IPython.core.display.HTML object>"
      ]
     },
     "metadata": {},
     "output_type": "display_data"
    },
    {
     "data": {
      "text/html": [
       "<a href=\"https://shebanq.ancient-data.org/hebrew/text?book=Leviticus&amp;chapter=16&amp;verse=30&amp;version=c&amp;mr=m&amp;qw=q&amp;tp=txt_p&amp;tr=hb&amp;wget=v&amp;qget=v&amp;nget=vt\" title=\"show this passage in SHEBANQ\" sec=\"Leviticus 16:30\">Leviticus 16:30</a>\n",
       "<div class=\"atoms  \" >\n",
       "<a href=\"#\" class=\"nd\">688292</a>\n",
       "\n",
       "\n",
       "\n",
       "<div class=\"patom  \" >\n",
       "\n",
       "    <div class=\"phrase \" >\n",
       "        <a href=\"https://shebanq.ancient-data.org/hebrew/text?book=Leviticus&amp;chapter=16&amp;verse=30&amp;version=c&amp;mr=m&amp;qw=q&amp;tp=txt_p&amp;tr=hb&amp;wget=v&amp;qget=v&amp;nget=vt\" title=\"Leviticus 16:30\" sec=\"Leviticus 16:30\">phrase</a> <a href=\"#\" class=\"nd\">688292</a>  <span class=\"function\">Time</span> <span class=\"typ\">PP</span>\n",
       "    </div>\n",
       "    <div class=\"atoms\">\n",
       "\n",
       "<div class=\"word  hl\"  style=\"background-color: pink;\" >\n",
       "<a href=\"#\" class=\"nd\">62903</a>\n",
       "<div class=\"h\"><a target=\"_blank\" href=\"https://shebanq.ancient-data.org/hebrew/word?version=c&amp;id=1B\" title=\"show this lexeme in SHEBANQ\">בַ</a></div>\n",
       "<div class=\"features\"> <span class=\"pdp\"><a href=\"https://shebanq.ancient-data.org/hebrew/text?book=Leviticus&amp;chapter=16&amp;verse=30&amp;version=c&amp;mr=m&amp;qw=q&amp;tp=txt_p&amp;tr=hb&amp;wget=v&amp;qget=v&amp;nget=vt\" title=\"Leviticus 16:30\" sec=\"Leviticus 16:30\">prep</a></span> <span class=\"gloss\">in</span> <span class=\"sp xft\"><span class=\"f\">sp=</span>prep</span></div>\n",
       "\n",
       "\n",
       "</div>\n",
       "\n",
       "<div class=\"word  hl\"  style=\"background-color: lightblue;\" >\n",
       "<a href=\"#\" class=\"nd\">62904</a>\n",
       "<div class=\"h\"><a target=\"_blank\" href=\"https://shebanq.ancient-data.org/hebrew/word?version=c&amp;id=1H\" title=\"show this lexeme in SHEBANQ\"></a></div>\n",
       "<div class=\"features\"> <span class=\"pdp\"><a href=\"https://shebanq.ancient-data.org/hebrew/text?book=Leviticus&amp;chapter=16&amp;verse=30&amp;version=c&amp;mr=m&amp;qw=q&amp;tp=txt_p&amp;tr=hb&amp;wget=v&amp;qget=v&amp;nget=vt\" title=\"Leviticus 16:30\" sec=\"Leviticus 16:30\">art</a></span> <span class=\"gloss\">the</span> <span class=\"sp xft\"><span class=\"f\">sp=</span>art</span></div>\n",
       "\n",
       "\n",
       "</div>\n",
       "\n",
       "<div class=\"word  hl\"  style=\"background-color: lightblue;\" >\n",
       "<a href=\"#\" class=\"nd\">62905</a>\n",
       "<div class=\"h\"><a target=\"_blank\" href=\"https://shebanq.ancient-data.org/hebrew/word?version=c&amp;id=1JWMn\" title=\"show this lexeme in SHEBANQ\">יֹּ֥ום </a></div>\n",
       "<div class=\"features\"> <span class=\"pdp\"><a href=\"https://shebanq.ancient-data.org/hebrew/text?book=Leviticus&amp;chapter=16&amp;verse=30&amp;version=c&amp;mr=m&amp;qw=q&amp;tp=txt_p&amp;tr=hb&amp;wget=v&amp;qget=v&amp;nget=vt\" title=\"Leviticus 16:30\" sec=\"Leviticus 16:30\">subs</a></span> <span class=\"gloss\">day</span> <span class=\"sp xft\"><span class=\"f\">sp=</span>subs</span> <span class=\"st xft\"><span class=\"f\">st=</span>a</span></div>\n",
       "\n",
       "\n",
       "</div>\n",
       "\n",
       "<div class=\"word  hl\"  style=\"background-color: lightblue;\" >\n",
       "<a href=\"#\" class=\"nd\">62906</a>\n",
       "<div class=\"h\"><a target=\"_blank\" href=\"https://shebanq.ancient-data.org/hebrew/word?version=c&amp;id=1H\" title=\"show this lexeme in SHEBANQ\">הַ</a></div>\n",
       "<div class=\"features\"> <span class=\"pdp\"><a href=\"https://shebanq.ancient-data.org/hebrew/text?book=Leviticus&amp;chapter=16&amp;verse=30&amp;version=c&amp;mr=m&amp;qw=q&amp;tp=txt_p&amp;tr=hb&amp;wget=v&amp;qget=v&amp;nget=vt\" title=\"Leviticus 16:30\" sec=\"Leviticus 16:30\">art</a></span> <span class=\"gloss\">the</span> <span class=\"sp xft\"><span class=\"f\">sp=</span>art</span></div>\n",
       "\n",
       "\n",
       "</div>\n",
       "\n",
       "<div class=\"word  hl\"  style=\"background-color: lightblue;\" >\n",
       "<a href=\"#\" class=\"nd\">62907</a>\n",
       "<div class=\"h\"><a target=\"_blank\" href=\"https://shebanq.ancient-data.org/hebrew/word?version=c&amp;id=1ZH\" title=\"show this lexeme in SHEBANQ\">זֶּ֛ה </a></div>\n",
       "<div class=\"features\"> <span class=\"pdp\"><a href=\"https://shebanq.ancient-data.org/hebrew/text?book=Leviticus&amp;chapter=16&amp;verse=30&amp;version=c&amp;mr=m&amp;qw=q&amp;tp=txt_p&amp;tr=hb&amp;wget=v&amp;qget=v&amp;nget=vt\" title=\"Leviticus 16:30\" sec=\"Leviticus 16:30\">prde</a></span> <span class=\"gloss\">this</span> <span class=\"sp xft\"><span class=\"f\">sp=</span>prde</span></div>\n",
       "\n",
       "\n",
       "</div>\n",
       "\n",
       "\n",
       "    </div>\n",
       "\n",
       "\n",
       "</div>\n",
       "\n",
       "\n",
       "</div>\n"
      ],
      "text/plain": [
       "<IPython.core.display.HTML object>"
      ]
     },
     "metadata": {},
     "output_type": "display_data"
    },
    {
     "data": {
      "text/html": [
       "<div style=\"background: pink; text-align: center\">prep</div>"
      ],
      "text/plain": [
       "<IPython.core.display.HTML object>"
      ]
     },
     "metadata": {},
     "output_type": "display_data"
    },
    {
     "data": {
      "text/html": [
       "<div style=\"background: lightblue; text-align: center\">head</div>"
      ],
      "text/plain": [
       "<IPython.core.display.HTML object>"
      ]
     },
     "metadata": {},
     "output_type": "display_data"
    },
    {
     "name": "stdout",
     "output_type": "stream",
     "text": [
      "{   '__cx__': 'prep',\n",
      "    'head': {   '__cx__': 'attrib',\n",
      "                'attrib': {'__cx__': 'defi', 'defi': 62906, 'head': 62907},\n",
      "                'head': {'__cx__': 'defi', 'defi': 62904, 'head': 62905}},\n",
      "    'prep': 62903}\n",
      "\n",
      "cnds:\n",
      "w in preps                                               True\n",
      "F.prs.v(w) == absent                                     True\n",
      "bool(P(1))                                               True\n",
      "\n"
     ]
    },
    {
     "data": {
      "text/html": [
       "<hr>"
      ],
      "text/plain": [
       "<IPython.core.display.HTML object>"
      ]
     },
     "metadata": {},
     "output_type": "display_data"
    },
    {
     "name": "stdout",
     "output_type": "stream",
     "text": [
      "\n",
      "1450577\n"
     ]
    },
    {
     "data": {
      "text/html": [
       "<p><b>result</b> <i>1450577 -> CX prep {416416, 416414, 416415}</i></p>"
      ],
      "text/plain": [
       "<IPython.core.display.HTML object>"
      ]
     },
     "metadata": {},
     "output_type": "display_data"
    },
    {
     "data": {
      "text/html": [
       "<a href=\"https://shebanq.ancient-data.org/hebrew/text?book=Chronica_II&amp;chapter=20&amp;verse=20&amp;version=c&amp;mr=m&amp;qw=q&amp;tp=txt_p&amp;tr=hb&amp;wget=v&amp;qget=v&amp;nget=vt\" title=\"show this passage in SHEBANQ\" sec=\"2_Chronicles 20:20\">2_Chronicles 20:20</a>\n",
       "<div class=\"atoms  \" >\n",
       "<a href=\"#\" class=\"nd\">899604</a>\n",
       "\n",
       "\n",
       "\n",
       "<div class=\"patom  \" >\n",
       "\n",
       "    <div class=\"phrase \" >\n",
       "        <a href=\"https://shebanq.ancient-data.org/hebrew/text?book=Chronica_II&amp;chapter=20&amp;verse=20&amp;version=c&amp;mr=m&amp;qw=q&amp;tp=txt_p&amp;tr=hb&amp;wget=v&amp;qget=v&amp;nget=vt\" title=\"2_Chronicles 20:20\" sec=\"2_Chronicles 20:20\">phrase</a> <a href=\"#\" class=\"nd\">899604</a>  <span class=\"function\">Time</span> <span class=\"typ\">PP</span>\n",
       "    </div>\n",
       "    <div class=\"atoms\">\n",
       "\n",
       "<div class=\"word  hl\"  style=\"background-color: pink;\" >\n",
       "<a href=\"#\" class=\"nd\">416414</a>\n",
       "<div class=\"h\"><a target=\"_blank\" href=\"https://shebanq.ancient-data.org/hebrew/word?version=c&amp;id=1B\" title=\"show this lexeme in SHEBANQ\">בַ</a></div>\n",
       "<div class=\"features\"> <span class=\"pdp\"><a href=\"https://shebanq.ancient-data.org/hebrew/text?book=Chronica_II&amp;chapter=20&amp;verse=20&amp;version=c&amp;mr=m&amp;qw=q&amp;tp=txt_p&amp;tr=hb&amp;wget=v&amp;qget=v&amp;nget=vt\" title=\"2_Chronicles 20:20\" sec=\"2_Chronicles 20:20\">prep</a></span> <span class=\"gloss\">in</span> <span class=\"sp xft\"><span class=\"f\">sp=</span>prep</span></div>\n",
       "\n",
       "\n",
       "</div>\n",
       "\n",
       "<div class=\"word  hl\"  style=\"background-color: lightblue;\" >\n",
       "<a href=\"#\" class=\"nd\">416415</a>\n",
       "<div class=\"h\"><a target=\"_blank\" href=\"https://shebanq.ancient-data.org/hebrew/word?version=c&amp;id=1H\" title=\"show this lexeme in SHEBANQ\"></a></div>\n",
       "<div class=\"features\"> <span class=\"pdp\"><a href=\"https://shebanq.ancient-data.org/hebrew/text?book=Chronica_II&amp;chapter=20&amp;verse=20&amp;version=c&amp;mr=m&amp;qw=q&amp;tp=txt_p&amp;tr=hb&amp;wget=v&amp;qget=v&amp;nget=vt\" title=\"2_Chronicles 20:20\" sec=\"2_Chronicles 20:20\">art</a></span> <span class=\"gloss\">the</span> <span class=\"sp xft\"><span class=\"f\">sp=</span>art</span></div>\n",
       "\n",
       "\n",
       "</div>\n",
       "\n",
       "<div class=\"word  hl\"  style=\"background-color: lightblue;\" >\n",
       "<a href=\"#\" class=\"nd\">416416</a>\n",
       "<div class=\"h\"><a target=\"_blank\" href=\"https://shebanq.ancient-data.org/hebrew/word?version=c&amp;id=1BQRin\" title=\"show this lexeme in SHEBANQ\">בֹּ֔קֶר </a></div>\n",
       "<div class=\"features\"> <span class=\"pdp\"><a href=\"https://shebanq.ancient-data.org/hebrew/text?book=Chronica_II&amp;chapter=20&amp;verse=20&amp;version=c&amp;mr=m&amp;qw=q&amp;tp=txt_p&amp;tr=hb&amp;wget=v&amp;qget=v&amp;nget=vt\" title=\"2_Chronicles 20:20\" sec=\"2_Chronicles 20:20\">subs</a></span> <span class=\"gloss\">morning</span> <span class=\"sp xft\"><span class=\"f\">sp=</span>subs</span> <span class=\"st xft\"><span class=\"f\">st=</span>a</span></div>\n",
       "\n",
       "\n",
       "</div>\n",
       "\n",
       "\n",
       "    </div>\n",
       "\n",
       "\n",
       "</div>\n",
       "\n",
       "\n",
       "</div>\n"
      ],
      "text/plain": [
       "<IPython.core.display.HTML object>"
      ]
     },
     "metadata": {},
     "output_type": "display_data"
    },
    {
     "data": {
      "text/html": [
       "<div style=\"background: pink; text-align: center\">prep</div>"
      ],
      "text/plain": [
       "<IPython.core.display.HTML object>"
      ]
     },
     "metadata": {},
     "output_type": "display_data"
    },
    {
     "data": {
      "text/html": [
       "<div style=\"background: lightblue; text-align: center\">head</div>"
      ],
      "text/plain": [
       "<IPython.core.display.HTML object>"
      ]
     },
     "metadata": {},
     "output_type": "display_data"
    },
    {
     "name": "stdout",
     "output_type": "stream",
     "text": [
      "{   '__cx__': 'prep',\n",
      "    'head': {'__cx__': 'defi', 'defi': 416415, 'head': 416416},\n",
      "    'prep': 416414}\n",
      "\n",
      "cnds:\n",
      "w in preps                                               True\n",
      "F.prs.v(w) == absent                                     True\n",
      "bool(P(1))                                               True\n",
      "\n"
     ]
    },
    {
     "data": {
      "text/html": [
       "<hr>"
      ],
      "text/plain": [
       "<IPython.core.display.HTML object>"
      ]
     },
     "metadata": {},
     "output_type": "display_data"
    },
    {
     "name": "stdout",
     "output_type": "stream",
     "text": [
      "\n",
      "1448040\n"
     ]
    },
    {
     "data": {
      "text/html": [
       "<p><b>result</b> <i>1448040 -> CX prep {131655, 131656, 131657, 131658, 131659}</i></p>"
      ],
      "text/plain": [
       "<IPython.core.display.HTML object>"
      ]
     },
     "metadata": {},
     "output_type": "display_data"
    },
    {
     "data": {
      "text/html": [
       "<a href=\"https://shebanq.ancient-data.org/hebrew/text?book=Judices&amp;chapter=7&amp;verse=9&amp;version=c&amp;mr=m&amp;qw=q&amp;tp=txt_p&amp;tr=hb&amp;wget=v&amp;qget=v&amp;nget=vt\" title=\"show this passage in SHEBANQ\" sec=\"Judges 7:9\">Judges 7:9</a>\n",
       "<div class=\"atoms  \" >\n",
       "<a href=\"#\" class=\"nd\">725462</a>\n",
       "\n",
       "\n",
       "\n",
       "<div class=\"patom  \" >\n",
       "\n",
       "    <div class=\"phrase \" >\n",
       "        <a href=\"https://shebanq.ancient-data.org/hebrew/text?book=Judices&amp;chapter=7&amp;verse=9&amp;version=c&amp;mr=m&amp;qw=q&amp;tp=txt_p&amp;tr=hb&amp;wget=v&amp;qget=v&amp;nget=vt\" title=\"Judges 7:9\" sec=\"Judges 7:9\">phrase</a> <a href=\"#\" class=\"nd\">725462</a>  <span class=\"function\">Time</span> <span class=\"typ\">PP</span>\n",
       "    </div>\n",
       "    <div class=\"atoms\">\n",
       "\n",
       "<div class=\"word  hl\"  style=\"background-color: pink;\" >\n",
       "<a href=\"#\" class=\"nd\">131655</a>\n",
       "<div class=\"h\"><a target=\"_blank\" href=\"https://shebanq.ancient-data.org/hebrew/word?version=c&amp;id=1B\" title=\"show this lexeme in SHEBANQ\">בַּ</a></div>\n",
       "<div class=\"features\"> <span class=\"pdp\"><a href=\"https://shebanq.ancient-data.org/hebrew/text?book=Judices&amp;chapter=7&amp;verse=9&amp;version=c&amp;mr=m&amp;qw=q&amp;tp=txt_p&amp;tr=hb&amp;wget=v&amp;qget=v&amp;nget=vt\" title=\"Judges 7:9\" sec=\"Judges 7:9\">prep</a></span> <span class=\"gloss\">in</span> <span class=\"sp xft\"><span class=\"f\">sp=</span>prep</span></div>\n",
       "\n",
       "\n",
       "</div>\n",
       "\n",
       "<div class=\"word  hl\"  style=\"background-color: lightblue;\" >\n",
       "<a href=\"#\" class=\"nd\">131656</a>\n",
       "<div class=\"h\"><a target=\"_blank\" href=\"https://shebanq.ancient-data.org/hebrew/word?version=c&amp;id=1H\" title=\"show this lexeme in SHEBANQ\"></a></div>\n",
       "<div class=\"features\"> <span class=\"pdp\"><a href=\"https://shebanq.ancient-data.org/hebrew/text?book=Judices&amp;chapter=7&amp;verse=9&amp;version=c&amp;mr=m&amp;qw=q&amp;tp=txt_p&amp;tr=hb&amp;wget=v&amp;qget=v&amp;nget=vt\" title=\"Judges 7:9\" sec=\"Judges 7:9\">art</a></span> <span class=\"gloss\">the</span> <span class=\"sp xft\"><span class=\"f\">sp=</span>art</span></div>\n",
       "\n",
       "\n",
       "</div>\n",
       "\n",
       "<div class=\"word  hl\"  style=\"background-color: lightblue;\" >\n",
       "<a href=\"#\" class=\"nd\">131657</a>\n",
       "<div class=\"h\"><a target=\"_blank\" href=\"https://shebanq.ancient-data.org/hebrew/word?version=c&amp;id=1LJLHn\" title=\"show this lexeme in SHEBANQ\">לַּ֣יְלָה </a></div>\n",
       "<div class=\"features\"> <span class=\"pdp\"><a href=\"https://shebanq.ancient-data.org/hebrew/text?book=Judices&amp;chapter=7&amp;verse=9&amp;version=c&amp;mr=m&amp;qw=q&amp;tp=txt_p&amp;tr=hb&amp;wget=v&amp;qget=v&amp;nget=vt\" title=\"Judges 7:9\" sec=\"Judges 7:9\">subs</a></span> <span class=\"gloss\">night</span> <span class=\"sp xft\"><span class=\"f\">sp=</span>subs</span> <span class=\"st xft\"><span class=\"f\">st=</span>a</span></div>\n",
       "\n",
       "\n",
       "</div>\n",
       "\n",
       "<div class=\"word  hl\"  style=\"background-color: lightblue;\" >\n",
       "<a href=\"#\" class=\"nd\">131658</a>\n",
       "<div class=\"h\"><a target=\"_blank\" href=\"https://shebanq.ancient-data.org/hebrew/word?version=c&amp;id=1H\" title=\"show this lexeme in SHEBANQ\">הַ</a></div>\n",
       "<div class=\"features\"> <span class=\"pdp\"><a href=\"https://shebanq.ancient-data.org/hebrew/text?book=Judices&amp;chapter=7&amp;verse=9&amp;version=c&amp;mr=m&amp;qw=q&amp;tp=txt_p&amp;tr=hb&amp;wget=v&amp;qget=v&amp;nget=vt\" title=\"Judges 7:9\" sec=\"Judges 7:9\">art</a></span> <span class=\"gloss\">the</span> <span class=\"sp xft\"><span class=\"f\">sp=</span>art</span></div>\n",
       "\n",
       "\n",
       "</div>\n",
       "\n",
       "<div class=\"word  hl\"  style=\"background-color: lightblue;\" >\n",
       "<a href=\"#\" class=\"nd\">131659</a>\n",
       "<div class=\"h\"><a target=\"_blank\" href=\"https://shebanq.ancient-data.org/hebrew/word?version=c&amp;id=1HWA\" title=\"show this lexeme in SHEBANQ\">ה֔וּא </a></div>\n",
       "<div class=\"features\"> <span class=\"pdp\"><a href=\"https://shebanq.ancient-data.org/hebrew/text?book=Judices&amp;chapter=7&amp;verse=9&amp;version=c&amp;mr=m&amp;qw=q&amp;tp=txt_p&amp;tr=hb&amp;wget=v&amp;qget=v&amp;nget=vt\" title=\"Judges 7:9\" sec=\"Judges 7:9\">prde</a></span> <span class=\"gloss\">he</span> <span class=\"sp xft\"><span class=\"f\">sp=</span>prps</span></div>\n",
       "\n",
       "\n",
       "</div>\n",
       "\n",
       "\n",
       "    </div>\n",
       "\n",
       "\n",
       "</div>\n",
       "\n",
       "\n",
       "</div>\n"
      ],
      "text/plain": [
       "<IPython.core.display.HTML object>"
      ]
     },
     "metadata": {},
     "output_type": "display_data"
    },
    {
     "data": {
      "text/html": [
       "<div style=\"background: pink; text-align: center\">prep</div>"
      ],
      "text/plain": [
       "<IPython.core.display.HTML object>"
      ]
     },
     "metadata": {},
     "output_type": "display_data"
    },
    {
     "data": {
      "text/html": [
       "<div style=\"background: lightblue; text-align: center\">head</div>"
      ],
      "text/plain": [
       "<IPython.core.display.HTML object>"
      ]
     },
     "metadata": {},
     "output_type": "display_data"
    },
    {
     "name": "stdout",
     "output_type": "stream",
     "text": [
      "{   '__cx__': 'prep',\n",
      "    'head': {   '__cx__': 'attrib',\n",
      "                'attrib': {'__cx__': 'defi', 'defi': 131658, 'head': 131659},\n",
      "                'head': {'__cx__': 'defi', 'defi': 131656, 'head': 131657}},\n",
      "    'prep': 131655}\n",
      "\n",
      "cnds:\n",
      "w in preps                                               True\n",
      "F.prs.v(w) == absent                                     True\n",
      "bool(P(1))                                               True\n",
      "\n"
     ]
    },
    {
     "data": {
      "text/html": [
       "<hr>"
      ],
      "text/plain": [
       "<IPython.core.display.HTML object>"
      ]
     },
     "metadata": {},
     "output_type": "display_data"
    },
    {
     "name": "stdout",
     "output_type": "stream",
     "text": [
      "\n",
      "1447727\n"
     ]
    },
    {
     "data": {
      "text/html": [
       "<p><b>result</b> <i>1447727 -> CX prep {99472, 99473, 99474, 99475, 99476}</i></p>"
      ],
      "text/plain": [
       "<IPython.core.display.HTML object>"
      ]
     },
     "metadata": {},
     "output_type": "display_data"
    },
    {
     "data": {
      "text/html": [
       "<a href=\"https://shebanq.ancient-data.org/hebrew/text?book=Deuteronomium&amp;chapter=10&amp;verse=15&amp;version=c&amp;mr=m&amp;qw=q&amp;tp=txt_p&amp;tr=hb&amp;wget=v&amp;qget=v&amp;nget=vt\" title=\"show this passage in SHEBANQ\" sec=\"Deuteronomy 10:15\">Deuteronomy 10:15</a>\n",
       "<div class=\"atoms  \" >\n",
       "<a href=\"#\" class=\"nd\">707888</a>\n",
       "\n",
       "\n",
       "\n",
       "<div class=\"patom  \" >\n",
       "\n",
       "    <div class=\"phrase \" >\n",
       "        <a href=\"https://shebanq.ancient-data.org/hebrew/text?book=Deuteronomium&amp;chapter=10&amp;verse=15&amp;version=c&amp;mr=m&amp;qw=q&amp;tp=txt_p&amp;tr=hb&amp;wget=v&amp;qget=v&amp;nget=vt\" title=\"Deuteronomy 10:15\" sec=\"Deuteronomy 10:15\">phrase</a> <a href=\"#\" class=\"nd\">707888</a>  <span class=\"function\">Time</span> <span class=\"typ\">PP</span>\n",
       "    </div>\n",
       "    <div class=\"atoms\">\n",
       "\n",
       "<div class=\"word  hl\"  style=\"background-color: pink;\" >\n",
       "<a href=\"#\" class=\"nd\">99472</a>\n",
       "<div class=\"h\"><a target=\"_blank\" href=\"https://shebanq.ancient-data.org/hebrew/word?version=c&amp;id=1K\" title=\"show this lexeme in SHEBANQ\">כַּ</a></div>\n",
       "<div class=\"features\"> <span class=\"pdp\"><a href=\"https://shebanq.ancient-data.org/hebrew/text?book=Deuteronomium&amp;chapter=10&amp;verse=15&amp;version=c&amp;mr=m&amp;qw=q&amp;tp=txt_p&amp;tr=hb&amp;wget=v&amp;qget=v&amp;nget=vt\" title=\"Deuteronomy 10:15\" sec=\"Deuteronomy 10:15\">prep</a></span> <span class=\"gloss\">as</span> <span class=\"sp xft\"><span class=\"f\">sp=</span>prep</span></div>\n",
       "\n",
       "\n",
       "</div>\n",
       "\n",
       "<div class=\"word  hl\"  style=\"background-color: lightblue;\" >\n",
       "<a href=\"#\" class=\"nd\">99473</a>\n",
       "<div class=\"h\"><a target=\"_blank\" href=\"https://shebanq.ancient-data.org/hebrew/word?version=c&amp;id=1H\" title=\"show this lexeme in SHEBANQ\"></a></div>\n",
       "<div class=\"features\"> <span class=\"pdp\"><a href=\"https://shebanq.ancient-data.org/hebrew/text?book=Deuteronomium&amp;chapter=10&amp;verse=15&amp;version=c&amp;mr=m&amp;qw=q&amp;tp=txt_p&amp;tr=hb&amp;wget=v&amp;qget=v&amp;nget=vt\" title=\"Deuteronomy 10:15\" sec=\"Deuteronomy 10:15\">art</a></span> <span class=\"gloss\">the</span> <span class=\"sp xft\"><span class=\"f\">sp=</span>art</span></div>\n",
       "\n",
       "\n",
       "</div>\n",
       "\n",
       "<div class=\"word  hl\"  style=\"background-color: lightblue;\" >\n",
       "<a href=\"#\" class=\"nd\">99474</a>\n",
       "<div class=\"h\"><a target=\"_blank\" href=\"https://shebanq.ancient-data.org/hebrew/word?version=c&amp;id=1JWMn\" title=\"show this lexeme in SHEBANQ\">יֹּ֥ום </a></div>\n",
       "<div class=\"features\"> <span class=\"pdp\"><a href=\"https://shebanq.ancient-data.org/hebrew/text?book=Deuteronomium&amp;chapter=10&amp;verse=15&amp;version=c&amp;mr=m&amp;qw=q&amp;tp=txt_p&amp;tr=hb&amp;wget=v&amp;qget=v&amp;nget=vt\" title=\"Deuteronomy 10:15\" sec=\"Deuteronomy 10:15\">subs</a></span> <span class=\"gloss\">day</span> <span class=\"sp xft\"><span class=\"f\">sp=</span>subs</span> <span class=\"st xft\"><span class=\"f\">st=</span>a</span></div>\n",
       "\n",
       "\n",
       "</div>\n",
       "\n",
       "<div class=\"word  hl\"  style=\"background-color: lightblue;\" >\n",
       "<a href=\"#\" class=\"nd\">99475</a>\n",
       "<div class=\"h\"><a target=\"_blank\" href=\"https://shebanq.ancient-data.org/hebrew/word?version=c&amp;id=1H\" title=\"show this lexeme in SHEBANQ\">הַ</a></div>\n",
       "<div class=\"features\"> <span class=\"pdp\"><a href=\"https://shebanq.ancient-data.org/hebrew/text?book=Deuteronomium&amp;chapter=10&amp;verse=15&amp;version=c&amp;mr=m&amp;qw=q&amp;tp=txt_p&amp;tr=hb&amp;wget=v&amp;qget=v&amp;nget=vt\" title=\"Deuteronomy 10:15\" sec=\"Deuteronomy 10:15\">art</a></span> <span class=\"gloss\">the</span> <span class=\"sp xft\"><span class=\"f\">sp=</span>art</span></div>\n",
       "\n",
       "\n",
       "</div>\n",
       "\n",
       "<div class=\"word  hl\"  style=\"background-color: lightblue;\" >\n",
       "<a href=\"#\" class=\"nd\">99476</a>\n",
       "<div class=\"h\"><a target=\"_blank\" href=\"https://shebanq.ancient-data.org/hebrew/word?version=c&amp;id=1ZH\" title=\"show this lexeme in SHEBANQ\">זֶּֽה׃ </a></div>\n",
       "<div class=\"features\"> <span class=\"pdp\"><a href=\"https://shebanq.ancient-data.org/hebrew/text?book=Deuteronomium&amp;chapter=10&amp;verse=15&amp;version=c&amp;mr=m&amp;qw=q&amp;tp=txt_p&amp;tr=hb&amp;wget=v&amp;qget=v&amp;nget=vt\" title=\"Deuteronomy 10:15\" sec=\"Deuteronomy 10:15\">prde</a></span> <span class=\"gloss\">this</span> <span class=\"sp xft\"><span class=\"f\">sp=</span>prde</span></div>\n",
       "\n",
       "\n",
       "</div>\n",
       "\n",
       "\n",
       "    </div>\n",
       "\n",
       "\n",
       "</div>\n",
       "\n",
       "\n",
       "</div>\n"
      ],
      "text/plain": [
       "<IPython.core.display.HTML object>"
      ]
     },
     "metadata": {},
     "output_type": "display_data"
    },
    {
     "data": {
      "text/html": [
       "<div style=\"background: pink; text-align: center\">prep</div>"
      ],
      "text/plain": [
       "<IPython.core.display.HTML object>"
      ]
     },
     "metadata": {},
     "output_type": "display_data"
    },
    {
     "data": {
      "text/html": [
       "<div style=\"background: lightblue; text-align: center\">head</div>"
      ],
      "text/plain": [
       "<IPython.core.display.HTML object>"
      ]
     },
     "metadata": {},
     "output_type": "display_data"
    },
    {
     "name": "stdout",
     "output_type": "stream",
     "text": [
      "{   '__cx__': 'prep',\n",
      "    'head': {   '__cx__': 'attrib',\n",
      "                'attrib': {'__cx__': 'defi', 'defi': 99475, 'head': 99476},\n",
      "                'head': {'__cx__': 'defi', 'defi': 99473, 'head': 99474}},\n",
      "    'prep': 99472}\n",
      "\n",
      "cnds:\n",
      "w in preps                                               True\n",
      "F.prs.v(w) == absent                                     True\n",
      "bool(P(1))                                               True\n",
      "\n"
     ]
    },
    {
     "data": {
      "text/html": [
       "<hr>"
      ],
      "text/plain": [
       "<IPython.core.display.HTML object>"
      ]
     },
     "metadata": {},
     "output_type": "display_data"
    },
    {
     "name": "stdout",
     "output_type": "stream",
     "text": [
      "\n",
      "1447669\n"
     ]
    },
    {
     "data": {
      "text/html": [
       "<p><b>result</b> <i>1447669 -> CX attrib {94216, 94217, 94214, 94215}</i></p>"
      ],
      "text/plain": [
       "<IPython.core.display.HTML object>"
      ]
     },
     "metadata": {},
     "output_type": "display_data"
    },
    {
     "data": {
      "text/html": [
       "<a href=\"https://shebanq.ancient-data.org/hebrew/text?book=Deuteronomium&amp;chapter=2&amp;verse=25&amp;version=c&amp;mr=m&amp;qw=q&amp;tp=txt_p&amp;tr=hb&amp;wget=v&amp;qget=v&amp;nget=vt\" title=\"show this passage in SHEBANQ\" sec=\"Deuteronomy 2:25\">Deuteronomy 2:25</a>\n",
       "<div class=\"atoms  \" >\n",
       "<a href=\"#\" class=\"nd\">705028</a>\n",
       "\n",
       "\n",
       "\n",
       "<div class=\"patom  \" >\n",
       "\n",
       "    <div class=\"phrase \" >\n",
       "        <a href=\"https://shebanq.ancient-data.org/hebrew/text?book=Deuteronomium&amp;chapter=2&amp;verse=25&amp;version=c&amp;mr=m&amp;qw=q&amp;tp=txt_p&amp;tr=hb&amp;wget=v&amp;qget=v&amp;nget=vt\" title=\"Deuteronomy 2:25\" sec=\"Deuteronomy 2:25\">phrase</a> <a href=\"#\" class=\"nd\">705028</a>  <span class=\"function\">Time</span> <span class=\"typ\">NP</span>\n",
       "    </div>\n",
       "    <div class=\"atoms\">\n",
       "\n",
       "<div class=\"word  hl\"  style=\"background-color: pink;\" >\n",
       "<a href=\"#\" class=\"nd\">94214</a>\n",
       "<div class=\"h\"><a target=\"_blank\" href=\"https://shebanq.ancient-data.org/hebrew/word?version=c&amp;id=1H\" title=\"show this lexeme in SHEBANQ\">הַ</a></div>\n",
       "<div class=\"features\"> <span class=\"pdp\"><a href=\"https://shebanq.ancient-data.org/hebrew/text?book=Deuteronomium&amp;chapter=2&amp;verse=25&amp;version=c&amp;mr=m&amp;qw=q&amp;tp=txt_p&amp;tr=hb&amp;wget=v&amp;qget=v&amp;nget=vt\" title=\"Deuteronomy 2:25\" sec=\"Deuteronomy 2:25\">art</a></span> <span class=\"gloss\">the</span> <span class=\"sp xft\"><span class=\"f\">sp=</span>art</span></div>\n",
       "\n",
       "\n",
       "</div>\n",
       "\n",
       "<div class=\"word  hl\"  style=\"background-color: pink;\" >\n",
       "<a href=\"#\" class=\"nd\">94215</a>\n",
       "<div class=\"h\"><a target=\"_blank\" href=\"https://shebanq.ancient-data.org/hebrew/word?version=c&amp;id=1JWMn\" title=\"show this lexeme in SHEBANQ\">יֹּ֣ום </a></div>\n",
       "<div class=\"features\"> <span class=\"pdp\"><a href=\"https://shebanq.ancient-data.org/hebrew/text?book=Deuteronomium&amp;chapter=2&amp;verse=25&amp;version=c&amp;mr=m&amp;qw=q&amp;tp=txt_p&amp;tr=hb&amp;wget=v&amp;qget=v&amp;nget=vt\" title=\"Deuteronomy 2:25\" sec=\"Deuteronomy 2:25\">subs</a></span> <span class=\"gloss\">day</span> <span class=\"sp xft\"><span class=\"f\">sp=</span>subs</span> <span class=\"st xft\"><span class=\"f\">st=</span>a</span></div>\n",
       "\n",
       "\n",
       "</div>\n",
       "\n",
       "<div class=\"word  hl\"  style=\"background-color: lightblue;\" >\n",
       "<a href=\"#\" class=\"nd\">94216</a>\n",
       "<div class=\"h\"><a target=\"_blank\" href=\"https://shebanq.ancient-data.org/hebrew/word?version=c&amp;id=1H\" title=\"show this lexeme in SHEBANQ\">הַ</a></div>\n",
       "<div class=\"features\"> <span class=\"pdp\"><a href=\"https://shebanq.ancient-data.org/hebrew/text?book=Deuteronomium&amp;chapter=2&amp;verse=25&amp;version=c&amp;mr=m&amp;qw=q&amp;tp=txt_p&amp;tr=hb&amp;wget=v&amp;qget=v&amp;nget=vt\" title=\"Deuteronomy 2:25\" sec=\"Deuteronomy 2:25\">art</a></span> <span class=\"gloss\">the</span> <span class=\"sp xft\"><span class=\"f\">sp=</span>art</span></div>\n",
       "\n",
       "\n",
       "</div>\n",
       "\n",
       "<div class=\"word  hl\"  style=\"background-color: lightblue;\" >\n",
       "<a href=\"#\" class=\"nd\">94217</a>\n",
       "<div class=\"h\"><a target=\"_blank\" href=\"https://shebanq.ancient-data.org/hebrew/word?version=c&amp;id=1ZH\" title=\"show this lexeme in SHEBANQ\">זֶּ֗ה </a></div>\n",
       "<div class=\"features\"> <span class=\"pdp\"><a href=\"https://shebanq.ancient-data.org/hebrew/text?book=Deuteronomium&amp;chapter=2&amp;verse=25&amp;version=c&amp;mr=m&amp;qw=q&amp;tp=txt_p&amp;tr=hb&amp;wget=v&amp;qget=v&amp;nget=vt\" title=\"Deuteronomy 2:25\" sec=\"Deuteronomy 2:25\">prde</a></span> <span class=\"gloss\">this</span> <span class=\"sp xft\"><span class=\"f\">sp=</span>prde</span></div>\n",
       "\n",
       "\n",
       "</div>\n",
       "\n",
       "\n",
       "    </div>\n",
       "\n",
       "\n",
       "</div>\n",
       "\n",
       "\n",
       "</div>\n"
      ],
      "text/plain": [
       "<IPython.core.display.HTML object>"
      ]
     },
     "metadata": {},
     "output_type": "display_data"
    },
    {
     "data": {
      "text/html": [
       "<div style=\"background: pink; text-align: center\">head</div>"
      ],
      "text/plain": [
       "<IPython.core.display.HTML object>"
      ]
     },
     "metadata": {},
     "output_type": "display_data"
    },
    {
     "data": {
      "text/html": [
       "<div style=\"background: lightblue; text-align: center\">attrib</div>"
      ],
      "text/plain": [
       "<IPython.core.display.HTML object>"
      ]
     },
     "metadata": {},
     "output_type": "display_data"
    },
    {
     "name": "stdout",
     "output_type": "stream",
     "text": [
      "{   '__cx__': 'attrib',\n",
      "    'attrib': {'__cx__': 'defi', 'defi': 94216, 'head': 94217},\n",
      "    'head': {'__cx__': 'defi', 'defi': 94214, 'head': 94215}}\n",
      "\n",
      "cnds:\n",
      "bool(defi1)                                              True\n",
      "bool(defi2)                                              True\n",
      "\n"
     ]
    },
    {
     "data": {
      "text/html": [
       "<hr>"
      ],
      "text/plain": [
       "<IPython.core.display.HTML object>"
      ]
     },
     "metadata": {},
     "output_type": "display_data"
    },
    {
     "name": "stdout",
     "output_type": "stream",
     "text": [
      "\n",
      "1449793\n"
     ]
    },
    {
     "data": {
      "text/html": [
       "<p><b>result</b> <i>1449793 -> CX numb {319648, 319649, 319650}</i></p>"
      ],
      "text/plain": [
       "<IPython.core.display.HTML object>"
      ]
     },
     "metadata": {},
     "output_type": "display_data"
    },
    {
     "data": {
      "text/html": [
       "<a href=\"https://shebanq.ancient-data.org/hebrew/text?book=Psalmi&amp;chapter=56&amp;verse=3&amp;version=c&amp;mr=m&amp;qw=q&amp;tp=txt_p&amp;tr=hb&amp;wget=v&amp;qget=v&amp;nget=vt\" title=\"show this passage in SHEBANQ\" sec=\"Psalms 56:3\">Psalms 56:3</a>\n",
       "<div class=\"atoms  \" >\n",
       "<a href=\"#\" class=\"nd\">841750</a>\n",
       "\n",
       "\n",
       "\n",
       "<div class=\"patom  \" >\n",
       "\n",
       "    <div class=\"phrase \" >\n",
       "        <a href=\"https://shebanq.ancient-data.org/hebrew/text?book=Psalmi&amp;chapter=56&amp;verse=3&amp;version=c&amp;mr=m&amp;qw=q&amp;tp=txt_p&amp;tr=hb&amp;wget=v&amp;qget=v&amp;nget=vt\" title=\"Psalms 56:3\" sec=\"Psalms 56:3\">phrase</a> <a href=\"#\" class=\"nd\">841750</a>  <span class=\"function\">Time</span> <span class=\"typ\">NP</span>\n",
       "    </div>\n",
       "    <div class=\"atoms\">\n",
       "\n",
       "<div class=\"word  hl\"  style=\"background-color: pink;\" >\n",
       "<a href=\"#\" class=\"nd\">319648</a>\n",
       "<div class=\"h\"><a target=\"_blank\" href=\"https://shebanq.ancient-data.org/hebrew/word?version=c&amp;id=1KLn\" title=\"show this lexeme in SHEBANQ\">כָּל־</a></div>\n",
       "<div class=\"features\"> <span class=\"pdp\"><a href=\"https://shebanq.ancient-data.org/hebrew/text?book=Psalmi&amp;chapter=56&amp;verse=3&amp;version=c&amp;mr=m&amp;qw=q&amp;tp=txt_p&amp;tr=hb&amp;wget=v&amp;qget=v&amp;nget=vt\" title=\"Psalms 56:3\" sec=\"Psalms 56:3\">subs</a></span> <span class=\"gloss\">whole</span> <span class=\"sp xft\"><span class=\"f\">sp=</span>subs</span> <span class=\"st xft\"><span class=\"f\">st=</span>c</span></div>\n",
       "\n",
       "\n",
       "</div>\n",
       "\n",
       "<div class=\"word  hl\"  style=\"background-color: lightblue;\" >\n",
       "<a href=\"#\" class=\"nd\">319649</a>\n",
       "<div class=\"h\"><a target=\"_blank\" href=\"https://shebanq.ancient-data.org/hebrew/word?version=c&amp;id=1H\" title=\"show this lexeme in SHEBANQ\">הַ</a></div>\n",
       "<div class=\"features\"> <span class=\"pdp\"><a href=\"https://shebanq.ancient-data.org/hebrew/text?book=Psalmi&amp;chapter=56&amp;verse=3&amp;version=c&amp;mr=m&amp;qw=q&amp;tp=txt_p&amp;tr=hb&amp;wget=v&amp;qget=v&amp;nget=vt\" title=\"Psalms 56:3\" sec=\"Psalms 56:3\">art</a></span> <span class=\"gloss\">the</span> <span class=\"sp xft\"><span class=\"f\">sp=</span>art</span></div>\n",
       "\n",
       "\n",
       "</div>\n",
       "\n",
       "<div class=\"word  hl\"  style=\"background-color: lightblue;\" >\n",
       "<a href=\"#\" class=\"nd\">319650</a>\n",
       "<div class=\"h\"><a target=\"_blank\" href=\"https://shebanq.ancient-data.org/hebrew/word?version=c&amp;id=1JWMn\" title=\"show this lexeme in SHEBANQ\">יֹּ֑ום </a></div>\n",
       "<div class=\"features\"> <span class=\"pdp\"><a href=\"https://shebanq.ancient-data.org/hebrew/text?book=Psalmi&amp;chapter=56&amp;verse=3&amp;version=c&amp;mr=m&amp;qw=q&amp;tp=txt_p&amp;tr=hb&amp;wget=v&amp;qget=v&amp;nget=vt\" title=\"Psalms 56:3\" sec=\"Psalms 56:3\">subs</a></span> <span class=\"gloss\">day</span> <span class=\"sp xft\"><span class=\"f\">sp=</span>subs</span> <span class=\"st xft\"><span class=\"f\">st=</span>a</span></div>\n",
       "\n",
       "\n",
       "</div>\n",
       "\n",
       "\n",
       "    </div>\n",
       "\n",
       "\n",
       "</div>\n",
       "\n",
       "\n",
       "</div>\n"
      ],
      "text/plain": [
       "<IPython.core.display.HTML object>"
      ]
     },
     "metadata": {},
     "output_type": "display_data"
    },
    {
     "data": {
      "text/html": [
       "<div style=\"background: pink; text-align: center\">numb</div>"
      ],
      "text/plain": [
       "<IPython.core.display.HTML object>"
      ]
     },
     "metadata": {},
     "output_type": "display_data"
    },
    {
     "data": {
      "text/html": [
       "<div style=\"background: lightblue; text-align: center\">head</div>"
      ],
      "text/plain": [
       "<IPython.core.display.HTML object>"
      ]
     },
     "metadata": {},
     "output_type": "display_data"
    },
    {
     "name": "stdout",
     "output_type": "stream",
     "text": [
      "{   '__cx__': 'numb',\n",
      "    'head': {'__cx__': 'defi', 'defi': 319649, 'head': 319650},\n",
      "    'numb': 319648}\n",
      "\n",
      "cnds:\n",
      "w in quants                                              True\n",
      "bool(P(1))                                               True\n",
      "P(1,sp) != conj                                          True\n",
      "P(1) not in quants|preps                                 True\n",
      "\n",
      "cnds:\n",
      "w in quants                                              True\n",
      "not Wk.ahead(is_nominal)                                False\n",
      "bool(Wk.back(is_nominal))                               False\n",
      "\n"
     ]
    },
    {
     "data": {
      "text/html": [
       "<hr>"
      ],
      "text/plain": [
       "<IPython.core.display.HTML object>"
      ]
     },
     "metadata": {},
     "output_type": "display_data"
    },
    {
     "name": "stdout",
     "output_type": "stream",
     "text": [
      "\n",
      "1449472\n"
     ]
    },
    {
     "data": {
      "text/html": [
       "<p><b>result</b> <i>1449472 -> CX numb {289049, 289050, 289051}</i></p>"
      ],
      "text/plain": [
       "<IPython.core.display.HTML object>"
      ]
     },
     "metadata": {},
     "output_type": "display_data"
    },
    {
     "data": {
      "text/html": [
       "<a href=\"https://shebanq.ancient-data.org/hebrew/text?book=Ezechiel&amp;chapter=45&amp;verse=25&amp;version=c&amp;mr=m&amp;qw=q&amp;tp=txt_p&amp;tr=hb&amp;wget=v&amp;qget=v&amp;nget=vt\" title=\"show this passage in SHEBANQ\" sec=\"Ezekiel 45:25\">Ezekiel 45:25</a>\n",
       "<div class=\"atoms  \" >\n",
       "<a href=\"#\" class=\"nd\">821591</a>\n",
       "\n",
       "\n",
       "\n",
       "<div class=\"patom  \" >\n",
       "\n",
       "    <div class=\"phrase \" >\n",
       "        <a href=\"https://shebanq.ancient-data.org/hebrew/text?book=Ezechiel&amp;chapter=45&amp;verse=25&amp;version=c&amp;mr=m&amp;qw=q&amp;tp=txt_p&amp;tr=hb&amp;wget=v&amp;qget=v&amp;nget=vt\" title=\"Ezekiel 45:25\" sec=\"Ezekiel 45:25\">phrase</a> <a href=\"#\" class=\"nd\">821591</a>  <span class=\"function\">Time</span> <span class=\"typ\">NP</span>\n",
       "    </div>\n",
       "    <div class=\"atoms\">\n",
       "\n",
       "<div class=\"word  hl\"  style=\"background-color: pink;\" >\n",
       "<a href=\"#\" class=\"nd\">289049</a>\n",
       "<div class=\"h\"><a target=\"_blank\" href=\"https://shebanq.ancient-data.org/hebrew/word?version=c&amp;id=1CBOn\" title=\"show this lexeme in SHEBANQ\">שִׁבְעַ֣ת </a></div>\n",
       "<div class=\"features\"> <span class=\"pdp\"><a href=\"https://shebanq.ancient-data.org/hebrew/text?book=Ezechiel&amp;chapter=45&amp;verse=25&amp;version=c&amp;mr=m&amp;qw=q&amp;tp=txt_p&amp;tr=hb&amp;wget=v&amp;qget=v&amp;nget=vt\" title=\"Ezekiel 45:25\" sec=\"Ezekiel 45:25\">subs</a></span> <span class=\"gloss\">seven</span> <span class=\"sp xft\"><span class=\"f\">sp=</span>subs</span> <span class=\"st xft\"><span class=\"f\">st=</span>c</span></div>\n",
       "\n",
       "\n",
       "</div>\n",
       "\n",
       "<div class=\"word  hl\"  style=\"background-color: lightblue;\" >\n",
       "<a href=\"#\" class=\"nd\">289050</a>\n",
       "<div class=\"h\"><a target=\"_blank\" href=\"https://shebanq.ancient-data.org/hebrew/word?version=c&amp;id=1H\" title=\"show this lexeme in SHEBANQ\">הַ</a></div>\n",
       "<div class=\"features\"> <span class=\"pdp\"><a href=\"https://shebanq.ancient-data.org/hebrew/text?book=Ezechiel&amp;chapter=45&amp;verse=25&amp;version=c&amp;mr=m&amp;qw=q&amp;tp=txt_p&amp;tr=hb&amp;wget=v&amp;qget=v&amp;nget=vt\" title=\"Ezekiel 45:25\" sec=\"Ezekiel 45:25\">art</a></span> <span class=\"gloss\">the</span> <span class=\"sp xft\"><span class=\"f\">sp=</span>art</span></div>\n",
       "\n",
       "\n",
       "</div>\n",
       "\n",
       "<div class=\"word  hl\"  style=\"background-color: lightblue;\" >\n",
       "<a href=\"#\" class=\"nd\">289051</a>\n",
       "<div class=\"h\"><a target=\"_blank\" href=\"https://shebanq.ancient-data.org/hebrew/word?version=c&amp;id=1JWMn\" title=\"show this lexeme in SHEBANQ\">יָּמִ֑ים </a></div>\n",
       "<div class=\"features\"> <span class=\"pdp\"><a href=\"https://shebanq.ancient-data.org/hebrew/text?book=Ezechiel&amp;chapter=45&amp;verse=25&amp;version=c&amp;mr=m&amp;qw=q&amp;tp=txt_p&amp;tr=hb&amp;wget=v&amp;qget=v&amp;nget=vt\" title=\"Ezekiel 45:25\" sec=\"Ezekiel 45:25\">subs</a></span> <span class=\"gloss\">day</span> <span class=\"sp xft\"><span class=\"f\">sp=</span>subs</span> <span class=\"st xft\"><span class=\"f\">st=</span>a</span></div>\n",
       "\n",
       "\n",
       "</div>\n",
       "\n",
       "\n",
       "    </div>\n",
       "\n",
       "\n",
       "</div>\n",
       "\n",
       "\n",
       "</div>\n"
      ],
      "text/plain": [
       "<IPython.core.display.HTML object>"
      ]
     },
     "metadata": {},
     "output_type": "display_data"
    },
    {
     "data": {
      "text/html": [
       "<div style=\"background: pink; text-align: center\">numb</div>"
      ],
      "text/plain": [
       "<IPython.core.display.HTML object>"
      ]
     },
     "metadata": {},
     "output_type": "display_data"
    },
    {
     "data": {
      "text/html": [
       "<div style=\"background: lightblue; text-align: center\">head</div>"
      ],
      "text/plain": [
       "<IPython.core.display.HTML object>"
      ]
     },
     "metadata": {},
     "output_type": "display_data"
    },
    {
     "name": "stdout",
     "output_type": "stream",
     "text": [
      "{   '__cx__': 'numb',\n",
      "    'head': {'__cx__': 'defi', 'defi': 289050, 'head': 289051},\n",
      "    'numb': 289049}\n",
      "\n",
      "cnds:\n",
      "w in quants                                              True\n",
      "bool(P(1))                                               True\n",
      "P(1,sp) != conj                                          True\n",
      "P(1) not in quants|preps                                 True\n",
      "\n",
      "cnds:\n",
      "w in quants                                              True\n",
      "not Wk.ahead(is_nominal)                                False\n",
      "bool(Wk.back(is_nominal))                               False\n",
      "\n"
     ]
    },
    {
     "data": {
      "text/html": [
       "<hr>"
      ],
      "text/plain": [
       "<IPython.core.display.HTML object>"
      ]
     },
     "metadata": {},
     "output_type": "display_data"
    },
    {
     "name": "stdout",
     "output_type": "stream",
     "text": [
      "\n",
      "1449848\n"
     ]
    },
    {
     "data": {
      "text/html": [
       "<p><b>result</b> <i>1449848 -> CX prep {324400, 324401}</i></p>"
      ],
      "text/plain": [
       "<IPython.core.display.HTML object>"
      ]
     },
     "metadata": {},
     "output_type": "display_data"
    },
    {
     "data": {
      "text/html": [
       "<a href=\"https://shebanq.ancient-data.org/hebrew/text?book=Psalmi&amp;chapter=79&amp;verse=13&amp;version=c&amp;mr=m&amp;qw=q&amp;tp=txt_p&amp;tr=hb&amp;wget=v&amp;qget=v&amp;nget=vt\" title=\"show this passage in SHEBANQ\" sec=\"Psalms 79:13\">Psalms 79:13</a>\n",
       "<div class=\"atoms  \" >\n",
       "<a href=\"#\" class=\"nd\">845076</a>\n",
       "\n",
       "\n",
       "\n",
       "<div class=\"patom  \" >\n",
       "\n",
       "    <div class=\"phrase \" >\n",
       "        <a href=\"https://shebanq.ancient-data.org/hebrew/text?book=Psalmi&amp;chapter=79&amp;verse=13&amp;version=c&amp;mr=m&amp;qw=q&amp;tp=txt_p&amp;tr=hb&amp;wget=v&amp;qget=v&amp;nget=vt\" title=\"Psalms 79:13\" sec=\"Psalms 79:13\">phrase</a> <a href=\"#\" class=\"nd\">845076</a>  <span class=\"function\">Time</span> <span class=\"typ\">PP</span>\n",
       "    </div>\n",
       "    <div class=\"atoms\">\n",
       "\n",
       "<div class=\"word  hl\"  style=\"background-color: pink;\" >\n",
       "<a href=\"#\" class=\"nd\">324400</a>\n",
       "<div class=\"h\"><a target=\"_blank\" href=\"https://shebanq.ancient-data.org/hebrew/word?version=c&amp;id=1L\" title=\"show this lexeme in SHEBANQ\">לְ</a></div>\n",
       "<div class=\"features\"> <span class=\"pdp\"><a href=\"https://shebanq.ancient-data.org/hebrew/text?book=Psalmi&amp;chapter=79&amp;verse=13&amp;version=c&amp;mr=m&amp;qw=q&amp;tp=txt_p&amp;tr=hb&amp;wget=v&amp;qget=v&amp;nget=vt\" title=\"Psalms 79:13\" sec=\"Psalms 79:13\">prep</a></span> <span class=\"gloss\">to</span> <span class=\"sp xft\"><span class=\"f\">sp=</span>prep</span></div>\n",
       "\n",
       "\n",
       "</div>\n",
       "\n",
       "<div class=\"word  hl\"  style=\"background-color: lightblue;\" >\n",
       "<a href=\"#\" class=\"nd\">324401</a>\n",
       "<div class=\"h\"><a target=\"_blank\" href=\"https://shebanq.ancient-data.org/hebrew/word?version=c&amp;id=1OWLMn\" title=\"show this lexeme in SHEBANQ\">עֹ֫ולָ֥ם </a></div>\n",
       "<div class=\"features\"> <span class=\"pdp\"><a href=\"https://shebanq.ancient-data.org/hebrew/text?book=Psalmi&amp;chapter=79&amp;verse=13&amp;version=c&amp;mr=m&amp;qw=q&amp;tp=txt_p&amp;tr=hb&amp;wget=v&amp;qget=v&amp;nget=vt\" title=\"Psalms 79:13\" sec=\"Psalms 79:13\">subs</a></span> <span class=\"gloss\">eternity</span> <span class=\"sp xft\"><span class=\"f\">sp=</span>subs</span> <span class=\"st xft\"><span class=\"f\">st=</span>a</span></div>\n",
       "\n",
       "\n",
       "</div>\n",
       "\n",
       "\n",
       "    </div>\n",
       "\n",
       "\n",
       "</div>\n",
       "\n",
       "\n",
       "</div>\n"
      ],
      "text/plain": [
       "<IPython.core.display.HTML object>"
      ]
     },
     "metadata": {},
     "output_type": "display_data"
    },
    {
     "data": {
      "text/html": [
       "<div style=\"background: pink; text-align: center\">prep</div>"
      ],
      "text/plain": [
       "<IPython.core.display.HTML object>"
      ]
     },
     "metadata": {},
     "output_type": "display_data"
    },
    {
     "data": {
      "text/html": [
       "<div style=\"background: lightblue; text-align: center\">head</div>"
      ],
      "text/plain": [
       "<IPython.core.display.HTML object>"
      ]
     },
     "metadata": {},
     "output_type": "display_data"
    },
    {
     "name": "stdout",
     "output_type": "stream",
     "text": [
      "{'__cx__': 'prep', 'head': 324401, 'prep': 324400}\n",
      "\n",
      "cnds:\n",
      "w in preps                                               True\n",
      "F.prs.v(w) == absent                                     True\n",
      "bool(P(1))                                               True\n",
      "\n"
     ]
    },
    {
     "data": {
      "text/html": [
       "<hr>"
      ],
      "text/plain": [
       "<IPython.core.display.HTML object>"
      ]
     },
     "metadata": {},
     "output_type": "display_data"
    },
    {
     "data": {
      "text/html": [
       "<p><b>result</b> <i>1449848 -> CX prep {324402, 324403}</i></p>"
      ],
      "text/plain": [
       "<IPython.core.display.HTML object>"
      ]
     },
     "metadata": {},
     "output_type": "display_data"
    },
    {
     "data": {
      "text/html": [
       "<a href=\"https://shebanq.ancient-data.org/hebrew/text?book=Psalmi&amp;chapter=79&amp;verse=13&amp;version=c&amp;mr=m&amp;qw=q&amp;tp=txt_p&amp;tr=hb&amp;wget=v&amp;qget=v&amp;nget=vt\" title=\"show this passage in SHEBANQ\" sec=\"Psalms 79:13\">Psalms 79:13</a>\n",
       "<div class=\"atoms  \" >\n",
       "<a href=\"#\" class=\"nd\">845077</a>\n",
       "\n",
       "\n",
       "\n",
       "<div class=\"patom  \" >\n",
       "\n",
       "    <div class=\"phrase \" >\n",
       "        <a href=\"https://shebanq.ancient-data.org/hebrew/text?book=Psalmi&amp;chapter=79&amp;verse=13&amp;version=c&amp;mr=m&amp;qw=q&amp;tp=txt_p&amp;tr=hb&amp;wget=v&amp;qget=v&amp;nget=vt\" title=\"Psalms 79:13\" sec=\"Psalms 79:13\">phrase</a> <a href=\"#\" class=\"nd\">845077</a>  <span class=\"function\">Time</span> <span class=\"typ\">PP</span>\n",
       "    </div>\n",
       "    <div class=\"atoms\">\n",
       "\n",
       "<div class=\"word  hl\"  style=\"background-color: pink;\" >\n",
       "<a href=\"#\" class=\"nd\">324402</a>\n",
       "<div class=\"h\"><a target=\"_blank\" href=\"https://shebanq.ancient-data.org/hebrew/word?version=c&amp;id=1L\" title=\"show this lexeme in SHEBANQ\">לְ</a></div>\n",
       "<div class=\"features\"> <span class=\"pdp\"><a href=\"https://shebanq.ancient-data.org/hebrew/text?book=Psalmi&amp;chapter=79&amp;verse=13&amp;version=c&amp;mr=m&amp;qw=q&amp;tp=txt_p&amp;tr=hb&amp;wget=v&amp;qget=v&amp;nget=vt\" title=\"Psalms 79:13\" sec=\"Psalms 79:13\">prep</a></span> <span class=\"gloss\">to</span> <span class=\"sp xft\"><span class=\"f\">sp=</span>prep</span></div>\n",
       "\n",
       "\n",
       "</div>\n",
       "\n",
       "<div class=\"word  hl\"  style=\"background-color: lightblue;\" >\n",
       "<a href=\"#\" class=\"nd\">324403</a>\n",
       "<div class=\"h\"><a target=\"_blank\" href=\"https://shebanq.ancient-data.org/hebrew/word?version=c&amp;id=1DWRn\" title=\"show this lexeme in SHEBANQ\">דֹ֥ר </a></div>\n",
       "<div class=\"features\"> <span class=\"pdp\"><a href=\"https://shebanq.ancient-data.org/hebrew/text?book=Psalmi&amp;chapter=79&amp;verse=13&amp;version=c&amp;mr=m&amp;qw=q&amp;tp=txt_p&amp;tr=hb&amp;wget=v&amp;qget=v&amp;nget=vt\" title=\"Psalms 79:13\" sec=\"Psalms 79:13\">subs</a></span> <span class=\"gloss\">generation</span> <span class=\"sp xft\"><span class=\"f\">sp=</span>subs</span> <span class=\"st xft\"><span class=\"f\">st=</span>a</span></div>\n",
       "\n",
       "\n",
       "</div>\n",
       "\n",
       "<div class=\"word  \" >\n",
       "<a href=\"#\" class=\"nd\">324404</a>\n",
       "<div class=\"h\"><a target=\"_blank\" href=\"https://shebanq.ancient-data.org/hebrew/word?version=c&amp;id=1W\" title=\"show this lexeme in SHEBANQ\">וָ</a></div>\n",
       "<div class=\"features\"> <span class=\"pdp\"><a href=\"https://shebanq.ancient-data.org/hebrew/text?book=Psalmi&amp;chapter=79&amp;verse=13&amp;version=c&amp;mr=m&amp;qw=q&amp;tp=txt_p&amp;tr=hb&amp;wget=v&amp;qget=v&amp;nget=vt\" title=\"Psalms 79:13\" sec=\"Psalms 79:13\">conj</a></span> <span class=\"gloss\">and</span> <span class=\"sp xft\"><span class=\"f\">sp=</span>conj</span></div>\n",
       "\n",
       "\n",
       "</div>\n",
       "\n",
       "<div class=\"word  \" >\n",
       "<a href=\"#\" class=\"nd\">324405</a>\n",
       "<div class=\"h\"><a target=\"_blank\" href=\"https://shebanq.ancient-data.org/hebrew/word?version=c&amp;id=1DWRn\" title=\"show this lexeme in SHEBANQ\">דֹ֑ר </a></div>\n",
       "<div class=\"features\"> <span class=\"pdp\"><a href=\"https://shebanq.ancient-data.org/hebrew/text?book=Psalmi&amp;chapter=79&amp;verse=13&amp;version=c&amp;mr=m&amp;qw=q&amp;tp=txt_p&amp;tr=hb&amp;wget=v&amp;qget=v&amp;nget=vt\" title=\"Psalms 79:13\" sec=\"Psalms 79:13\">subs</a></span> <span class=\"gloss\">generation</span> <span class=\"sp xft\"><span class=\"f\">sp=</span>subs</span> <span class=\"st xft\"><span class=\"f\">st=</span>a</span></div>\n",
       "\n",
       "\n",
       "</div>\n",
       "\n",
       "\n",
       "    </div>\n",
       "\n",
       "\n",
       "</div>\n",
       "\n",
       "\n",
       "</div>\n"
      ],
      "text/plain": [
       "<IPython.core.display.HTML object>"
      ]
     },
     "metadata": {},
     "output_type": "display_data"
    },
    {
     "data": {
      "text/html": [
       "<div style=\"background: pink; text-align: center\">prep</div>"
      ],
      "text/plain": [
       "<IPython.core.display.HTML object>"
      ]
     },
     "metadata": {},
     "output_type": "display_data"
    },
    {
     "data": {
      "text/html": [
       "<div style=\"background: lightblue; text-align: center\">head</div>"
      ],
      "text/plain": [
       "<IPython.core.display.HTML object>"
      ]
     },
     "metadata": {},
     "output_type": "display_data"
    },
    {
     "name": "stdout",
     "output_type": "stream",
     "text": [
      "{'__cx__': 'prep', 'head': 324403, 'prep': 324402}\n",
      "\n",
      "cnds:\n",
      "w in preps                                               True\n",
      "F.prs.v(w) == absent                                     True\n",
      "bool(P(1))                                               True\n",
      "\n"
     ]
    },
    {
     "data": {
      "text/html": [
       "<hr>"
      ],
      "text/plain": [
       "<IPython.core.display.HTML object>"
      ]
     },
     "metadata": {},
     "output_type": "display_data"
    },
    {
     "name": "stdout",
     "output_type": "stream",
     "text": [
      "\n"
     ]
    }
   ],
   "source": [
    "for phrase in shuff[:25]:\n",
    "    print(phrase)\n",
    "    for cx in getcxs(phrase):\n",
    "        showmatch(cx)\n",
    "    print()"
   ]
  },
  {
   "cell_type": "code",
   "execution_count": null,
   "metadata": {},
   "outputs": [],
   "source": []
  }
 ],
 "metadata": {
  "kernelspec": {
   "display_name": "Python 3",
   "language": "python",
   "name": "python3"
  },
  "language_info": {
   "codemirror_mode": {
    "name": "ipython",
    "version": 3
   },
   "file_extension": ".py",
   "mimetype": "text/x-python",
   "name": "python",
   "nbconvert_exporter": "python",
   "pygments_lexer": "ipython3",
   "version": "3.7.0"
  }
 },
 "nbformat": 4,
 "nbformat_minor": 2
}
