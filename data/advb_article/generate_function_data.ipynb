{
 "cells": [
  {
   "cell_type": "markdown",
   "metadata": {},
   "source": [
    "# Generate phrase parsings for multiple functions"
   ]
  },
  {
   "cell_type": "code",
   "execution_count": null,
   "metadata": {},
   "outputs": [],
   "source": [
    "import pickle\n",
    "import pandas as pd\n",
    "import numpy as np\n",
    "import sys\n",
    "from datetime import datetime\n",
    "import collections\n",
    "import networkx as nx\n",
    "from pathlib import Path\n",
    "\n",
    "# import custom Construction builders and rules\n",
    "from cx_analysis.search import SearchCX\n",
    "from cx_analysis.cx import Construction\n",
    "from cx_analysis.build import CXbuilder, CXbuilderTF\n",
    "import cx_analysis.graph_nav as nav\n",
    "from dataset import build_dataset\n",
    "\n",
    "# add grammar to path\n",
    "sys.path.append('../cxs')\n",
    "from word_grammar import Words\n",
    "from phrase_grammar import Subphrases\n",
    "from phrase_classes import SinglePhrase\n",
    "\n",
    "# import Text-fabric data\n",
    "import tf_tools.formatting as form\n",
    "from tf_tools.load import load_tf\n",
    "from tf_tools.tokenizers import tokenize_surface\n",
    "from tf_tools.formatting import book2sbl\n",
    "\n",
    "repo = Path('/Users/cody/github/CambridgeSemiticsLab/time_collocations')\n",
    "data_path = repo.joinpath('data/advb_article')\n",
    "\n",
    "TF, API, A = load_tf('nhead mother', hoist=globals())"
   ]
  },
  {
   "cell_type": "code",
   "execution_count": 2,
   "metadata": {},
   "outputs": [],
   "source": [
    "# configure visualizers for Construction objects\n",
    "\n",
    "cx_show = SearchCX(A)\n",
    "pretty, prettyconds, showcx, search = (\n",
    "    cx_show.pretty, cx_show.prettyconds, \n",
    "    cx_show.showcx, cx_show.search\n",
    ")"
   ]
  },
  {
   "cell_type": "code",
   "execution_count": 3,
   "metadata": {},
   "outputs": [],
   "source": [
    "test_functs = {'Time', 'Subj', 'Objc', 'Loca', 'Adju', 'Cmpl'}"
   ]
  },
  {
   "cell_type": "code",
   "execution_count": 4,
   "metadata": {},
   "outputs": [
    {
     "name": "stdout",
     "output_type": "stream",
     "text": [
      "84739 phrases selected...\n"
     ]
    }
   ],
   "source": [
    "# build testset, we only want to collect single-atomed \n",
    "# phrases with no daughter relations and only 1 head word\n",
    "\n",
    "test_phrases = []\n",
    "\n",
    "for phrase in F.otype.s('phrase'):\n",
    "    function = F.function2.v(phrase)\n",
    "    n_atoms = len(L.d(phrase, 'phrase_atom'))\n",
    "    heads = E.nhead.t(phrase)\n",
    "    n_heads = len(heads)\n",
    "    first_head = heads[0]\n",
    "    daughters = E.mother.t(phrase)\n",
    "    mothers = E.mother.f(phrase)\n",
    "    n_mothers = len(mothers)\n",
    "    n_daughters = len(daughters)\n",
    "    \n",
    "    if all([\n",
    "        function in test_functs,\n",
    "        n_atoms == 1,\n",
    "        n_heads == 1,\n",
    "        n_daughters == 0,\n",
    "        n_mothers == 0,\n",
    "        F.typ.v(phrase) not in {'InrP', 'NegP', 'InjP', 'CP', 'VP'},\n",
    "    ]):\n",
    "        test_phrases.append(phrase)\n",
    "        \n",
    "print(len(test_phrases), 'phrases selected...')"
   ]
  },
  {
   "cell_type": "code",
   "execution_count": 5,
   "metadata": {},
   "outputs": [
    {
     "data": {
      "text/plain": [
       "158671"
      ]
     },
     "execution_count": 5,
     "metadata": {},
     "output_type": "execute_result"
    }
   ],
   "source": [
    "# collect words to begin analysis with\n",
    "\n",
    "phrase_sample = test_phrases\n",
    "\n",
    "phrase_words = [    \n",
    "    word for phrase in phrase_sample\n",
    "        for word in L.d(phrase, 'word')\n",
    "]\n",
    "len(phrase_words)"
   ]
  },
  {
   "cell_type": "markdown",
   "metadata": {},
   "source": [
    "# Word Analysis"
   ]
  },
  {
   "cell_type": "code",
   "execution_count": 6,
   "metadata": {},
   "outputs": [
    {
     "name": "stdout",
     "output_type": "stream",
     "text": [
      "Beginning word construction analysis...\n",
      "\t0:01:35.870065 COMPLETE \t[ 158671 ] words loaded\n"
     ]
    }
   ],
   "source": [
    "words = Words(A, context='phrase') # word CX builder\n",
    "\n",
    "# analyze all matches; return as dict\n",
    "start = datetime.now()\n",
    "print(f'Beginning word construction analysis...')\n",
    "wordcxs = words.cxdict(phrase_words)\n",
    "print(f'\\t{datetime.now() - start} COMPLETE \\t[ {len(wordcxs)} ] words loaded')"
   ]
  },
  {
   "cell_type": "markdown",
   "metadata": {},
   "source": [
    "# Subphrase Analysis"
   ]
  },
  {
   "cell_type": "code",
   "execution_count": 7,
   "metadata": {},
   "outputs": [],
   "source": [
    "subphrases = Subphrases(wordcxs, A, context='phrase')"
   ]
  },
  {
   "cell_type": "markdown",
   "metadata": {},
   "source": [
    "### Troubleshoot"
   ]
  },
  {
   "cell_type": "code",
   "execution_count": 8,
   "metadata": {},
   "outputs": [],
   "source": [
    "# test_small = subphrases.prep(227481)\n",
    "# showcx(test_small, conds=True, condenseType='sentence')"
   ]
  },
  {
   "cell_type": "code",
   "execution_count": 9,
   "metadata": {},
   "outputs": [],
   "source": [
    "# A.search('''\n",
    "\n",
    "# phrase function=Objc|Adju\n",
    "#     word pdp=prep\n",
    "#     <: word pdp=prep prs#n/a|absent\n",
    "    \n",
    "# ''')"
   ]
  },
  {
   "cell_type": "code",
   "execution_count": 10,
   "metadata": {},
   "outputs": [],
   "source": [
    "# test = subphrases.analyzestretch(L.d(783909, 'word'), debug=True)\n",
    "\n",
    "# for res in test:\n",
    "#     showcx(res, conds=True, condenseType='phrase',)"
   ]
  },
  {
   "cell_type": "markdown",
   "metadata": {},
   "source": [
    "### Run on all phrases"
   ]
  },
  {
   "cell_type": "code",
   "execution_count": 11,
   "metadata": {},
   "outputs": [
    {
     "name": "stdout",
     "output_type": "stream",
     "text": [
      "0:00:00.000042 beginning subphrase analysis...\n",
      "\t0:00:26.189508\tdone with iter 2000/84739\n",
      "\t0:00:52.341568\tdone with iter 4000/84739\n",
      "\t0:01:18.599864\tdone with iter 6000/84739\n",
      "\t0:01:45.953206\tdone with iter 8000/84739\n",
      "\t0:02:16.074562\tdone with iter 10000/84739\n",
      "\t0:02:48.669258\tdone with iter 12000/84739\n",
      "\t0:03:16.536969\tdone with iter 14000/84739\n",
      "\t0:03:45.172717\tdone with iter 16000/84739\n",
      "\t0:04:12.636798\tdone with iter 18000/84739\n",
      "\t0:04:39.394427\tdone with iter 20000/84739\n",
      "\t0:05:08.933871\tdone with iter 22000/84739\n",
      "\t0:05:37.976384\tdone with iter 24000/84739\n",
      "\t0:06:02.594041\tdone with iter 26000/84739\n",
      "\t0:06:28.701193\tdone with iter 28000/84739\n",
      "\t0:06:52.988728\tdone with iter 30000/84739\n",
      "\t0:07:17.070217\tdone with iter 32000/84739\n",
      "\t0:07:45.440738\tdone with iter 34000/84739\n",
      "\t0:08:11.897446\tdone with iter 36000/84739\n",
      "\t0:08:36.632683\tdone with iter 38000/84739\n",
      "\t0:09:03.497871\tdone with iter 40000/84739\n",
      "\t0:09:30.464239\tdone with iter 42000/84739\n",
      "\t0:09:52.359476\tdone with iter 44000/84739\n",
      "\t0:10:14.690773\tdone with iter 46000/84739\n",
      "\t0:10:44.776756\tdone with iter 48000/84739\n",
      "\t0:11:12.986259\tdone with iter 50000/84739\n",
      "\t0:11:39.244864\tdone with iter 52000/84739\n",
      "\t0:12:02.494414\tdone with iter 54000/84739\n",
      "\t0:12:29.282413\tdone with iter 56000/84739\n",
      "\t0:12:53.298716\tdone with iter 58000/84739\n",
      "\t0:13:18.120426\tdone with iter 60000/84739\n",
      "\t0:13:41.590781\tdone with iter 62000/84739\n",
      "\t0:14:02.945351\tdone with iter 64000/84739\n",
      "\t0:14:29.329312\tdone with iter 66000/84739\n",
      "\t0:14:51.549893\tdone with iter 68000/84739\n",
      "\t0:15:12.040249\tdone with iter 70000/84739\n",
      "\t0:15:33.446284\tdone with iter 72000/84739\n",
      "\t0:15:56.829727\tdone with iter 74000/84739\n",
      "\t0:16:24.577063\tdone with iter 76000/84739\n",
      "\t0:16:52.264129\tdone with iter 78000/84739\n",
      "\t0:17:18.976111\tdone with iter 80000/84739\n",
      "\t0:17:45.711690\tdone with iter 82000/84739\n",
      "\t0:18:18.058663\tdone with iter 84000/84739\n",
      "0:18:34.804767\tCOMPLETE\n",
      "--------------------\n",
      "84690 phrases matched with Constructions...\n",
      "49 phrases not yet matched with Constructions...\n"
     ]
    }
   ],
   "source": [
    "silent=True\n",
    "\n",
    "phrase2cxs = collections.defaultdict(list)\n",
    "nocxs = []\n",
    "\n",
    "# time it\n",
    "start = datetime.now()\n",
    "\n",
    "print(f'{datetime.now()-start} beginning subphrase analysis...')\n",
    "\n",
    "for i, phrase in enumerate(phrase_sample):\n",
    "     \n",
    "    # analyze all known relas\n",
    "    elements = L.d(phrase, 'word')\n",
    "    \n",
    "    # analyze with debug exceptions\n",
    "    try:\n",
    "        cxs = subphrases.analyzestretch(elements)\n",
    "    except:\n",
    "        nocxs.append(phrase)\n",
    "        \n",
    "        if not silent:\n",
    "            sys.stderr.write(f'error on {phrase}\\t{T.text(phrase)}\\n')\n",
    "            \n",
    "        continue\n",
    "        \n",
    "#         sys.stderr.write(f'\\nFAIL...running with debug...\\n')\n",
    "#         pretty(phrase)\n",
    "#         subphrases.analyzestretch(elements, debug=True)\n",
    "#         raise Exception('...debug complete...')\n",
    "\n",
    "    # save those phrases that have no matching constructions\n",
    "    if not cxs:\n",
    "        nocxs.append(phrase)\n",
    "    else:\n",
    "        phrase2cxs[phrase] = cxs\n",
    "        \n",
    "    # report status\n",
    "    if i % 2000 == 0 and i:\n",
    "        print(f'\\t{datetime.now()-start}\\tdone with iter {i}/{len(phrase_sample)}')\n",
    "        \n",
    "print(f'{datetime.now()-start}\\tCOMPLETE')\n",
    "print('-'*20)\n",
    "print(f'{len(phrase2cxs)} phrases matched with Constructions...')\n",
    "print(f'{len(nocxs)} phrases not yet matched with Constructions...')"
   ]
  },
  {
   "cell_type": "markdown",
   "metadata": {},
   "source": [
    "# Classifier"
   ]
  },
  {
   "cell_type": "code",
   "execution_count": 12,
   "metadata": {},
   "outputs": [],
   "source": [
    "from pathlib import Path\n",
    "import pickle\n",
    "from dataset import build_dataset"
   ]
  },
  {
   "cell_type": "code",
   "execution_count": 13,
   "metadata": {},
   "outputs": [],
   "source": [
    "# compile acceptable head lexemes from single-phrased CXs\n",
    "good_heads = set()\n",
    "for ph, cx_data in phrase2cxs.items():\n",
    "    if len(cx_data) == 1:\n",
    "        cx = cx_data[0]\n",
    "        head = list(cx.getsuccroles('head'))[-1]\n",
    "        good_heads.add(F.lex.v(head))\n",
    "\n",
    "# tag the time cxs with classifications\n",
    "sp = SinglePhrase(phrase2cxs.values(), good_heads, A)  \n",
    "sp.label_cxs()"
   ]
  },
  {
   "cell_type": "code",
   "execution_count": 14,
   "metadata": {},
   "outputs": [],
   "source": [
    "with open(data_path.joinpath('function_cxs.pickle'), 'wb') as outfile:\n",
    "    pickle.dump(phrase2cxs, outfile)"
   ]
  },
  {
   "cell_type": "markdown",
   "metadata": {},
   "source": [
    "## Build CSV Dataset"
   ]
  },
  {
   "cell_type": "code",
   "execution_count": 2,
   "metadata": {},
   "outputs": [],
   "source": [
    "with open(data_path.joinpath('function_cxs.pickle'), 'rb') as infile:\n",
    "    phrase2cxs = pickle.load(infile)"
   ]
  },
  {
   "cell_type": "code",
   "execution_count": 3,
   "metadata": {},
   "outputs": [],
   "source": [
    "constructions = [c for cs in phrase2cxs.values() \n",
    "                     for c in cs\n",
    "                     if F.language.v(int(c)) == 'Hebrew']\n",
    "dataset = build_dataset(constructions, A.api)"
   ]
  },
  {
   "cell_type": "code",
   "execution_count": 4,
   "metadata": {},
   "outputs": [],
   "source": [
    "dataset.to_csv(data_path.joinpath('function_data.csv'))"
   ]
  },
  {
   "cell_type": "code",
   "execution_count": 5,
   "metadata": {},
   "outputs": [
    {
     "data": {
      "text/plain": [
       "(84357, 45)"
      ]
     },
     "execution_count": 5,
     "metadata": {},
     "output_type": "execute_result"
    }
   ],
   "source": [
    "dataset.shape"
   ]
  },
  {
   "cell_type": "code",
   "execution_count": 6,
   "metadata": {},
   "outputs": [
    {
     "data": {
      "text/plain": [
       "Index(['function', 'ref', 'book', 'ph_type', 'head', 'text', 'token', 'clause',\n",
       "       'sentence', 'classi', 'head_node', 'head_voc', 'head_etcbc', 'head_pos',\n",
       "       'head_type', 'plural', 'suffix', 'preposition', 'leading_prep',\n",
       "       'trailing_prep', 'tokenized_prep', 'extended_prep', 'ø', 'øanchor',\n",
       "       'genitive', 'definite', 'quantified', 'quant_str', 'cardinal',\n",
       "       'qualitative', 'qual_str', 'demonstrative', 'demon_str', 'demon_dist',\n",
       "       'ordinal', 'ord_str', 'cl_kind', 'verb', 'tense', 'verb_lex',\n",
       "       'book_sbl', 'lang', 'genre', 'nom_marks', 'has_nom'],\n",
       "      dtype='object')"
      ]
     },
     "execution_count": 6,
     "metadata": {},
     "output_type": "execute_result"
    }
   ],
   "source": [
    "dataset.columns"
   ]
  },
  {
   "cell_type": "code",
   "execution_count": 7,
   "metadata": {},
   "outputs": [
    {
     "data": {
      "text/html": [
       "<div>\n",
       "<style scoped>\n",
       "    .dataframe tbody tr th:only-of-type {\n",
       "        vertical-align: middle;\n",
       "    }\n",
       "\n",
       "    .dataframe tbody tr th {\n",
       "        vertical-align: top;\n",
       "    }\n",
       "\n",
       "    .dataframe thead th {\n",
       "        text-align: right;\n",
       "    }\n",
       "</style>\n",
       "<table border=\"1\" class=\"dataframe\">\n",
       "  <thead>\n",
       "    <tr style=\"text-align: right;\">\n",
       "      <th></th>\n",
       "      <th>function</th>\n",
       "      <th>ref</th>\n",
       "      <th>book</th>\n",
       "      <th>ph_type</th>\n",
       "      <th>head</th>\n",
       "      <th>text</th>\n",
       "      <th>token</th>\n",
       "      <th>clause</th>\n",
       "      <th>sentence</th>\n",
       "      <th>classi</th>\n",
       "      <th>...</th>\n",
       "      <th>ord_str</th>\n",
       "      <th>cl_kind</th>\n",
       "      <th>verb</th>\n",
       "      <th>tense</th>\n",
       "      <th>verb_lex</th>\n",
       "      <th>book_sbl</th>\n",
       "      <th>lang</th>\n",
       "      <th>genre</th>\n",
       "      <th>nom_marks</th>\n",
       "      <th>has_nom</th>\n",
       "    </tr>\n",
       "    <tr>\n",
       "      <th>node</th>\n",
       "      <th></th>\n",
       "      <th></th>\n",
       "      <th></th>\n",
       "      <th></th>\n",
       "      <th></th>\n",
       "      <th></th>\n",
       "      <th></th>\n",
       "      <th></th>\n",
       "      <th></th>\n",
       "      <th></th>\n",
       "      <th></th>\n",
       "      <th></th>\n",
       "      <th></th>\n",
       "      <th></th>\n",
       "      <th></th>\n",
       "      <th></th>\n",
       "      <th></th>\n",
       "      <th></th>\n",
       "      <th></th>\n",
       "      <th></th>\n",
       "      <th></th>\n",
       "    </tr>\n",
       "  </thead>\n",
       "  <tbody>\n",
       "    <tr>\n",
       "      <th>651542</th>\n",
       "      <td>Time</td>\n",
       "      <td>Gen 1:1</td>\n",
       "      <td>Genesis</td>\n",
       "      <td>prep_ph</td>\n",
       "      <td>ראשׁית</td>\n",
       "      <td>בְּרֵאשִׁ֖ית</td>\n",
       "      <td>ב.ראשׁית</td>\n",
       "      <td>בְּרֵאשִׁ֖ית בָּרָ֣א אֱלֹהִ֑ים אֵ֥ת הַשָּׁמַ֖י...</td>\n",
       "      <td>בְּרֵאשִׁ֖ית בָּרָ֣א אֱלֹהִ֑ים אֵ֥ת הַשָּׁמַ֖י...</td>\n",
       "      <td>single.prep.bare.øanchor</td>\n",
       "      <td>...</td>\n",
       "      <td>NaN</td>\n",
       "      <td>VC</td>\n",
       "      <td>True</td>\n",
       "      <td>qtl</td>\n",
       "      <td>ברא</td>\n",
       "      <td>Gen</td>\n",
       "      <td>Hebrew</td>\n",
       "      <td>prose</td>\n",
       "      <td>0</td>\n",
       "      <td>False</td>\n",
       "    </tr>\n",
       "    <tr>\n",
       "      <th>651544</th>\n",
       "      <td>Subj</td>\n",
       "      <td>Gen 1:1</td>\n",
       "      <td>Genesis</td>\n",
       "      <td>cont</td>\n",
       "      <td>אלהים</td>\n",
       "      <td>אֱלֹהִ֑ים</td>\n",
       "      <td>אלהים</td>\n",
       "      <td>בְּרֵאשִׁ֖ית בָּרָ֣א אֱלֹהִ֑ים אֵ֥ת הַשָּׁמַ֖י...</td>\n",
       "      <td>בְּרֵאשִׁ֖ית בָּרָ֣א אֱלֹהִ֑ים אֵ֥ת הַשָּׁמַ֖י...</td>\n",
       "      <td>single.øanchor</td>\n",
       "      <td>...</td>\n",
       "      <td>NaN</td>\n",
       "      <td>VC</td>\n",
       "      <td>True</td>\n",
       "      <td>qtl</td>\n",
       "      <td>ברא</td>\n",
       "      <td>Gen</td>\n",
       "      <td>Hebrew</td>\n",
       "      <td>prose</td>\n",
       "      <td>1</td>\n",
       "      <td>True</td>\n",
       "    </tr>\n",
       "    <tr>\n",
       "      <th>651547</th>\n",
       "      <td>Subj</td>\n",
       "      <td>Gen 1:2</td>\n",
       "      <td>Genesis</td>\n",
       "      <td>defi_ph</td>\n",
       "      <td>ארץ</td>\n",
       "      <td>הָאָ֗רֶץ</td>\n",
       "      <td>ה.ארץ</td>\n",
       "      <td>וְהָאָ֗רֶץ הָיְתָ֥ה תֹ֨הוּ֙ וָבֹ֔הוּ</td>\n",
       "      <td>וְהָאָ֗רֶץ הָיְתָ֥ה תֹ֨הוּ֙ וָבֹ֔הוּ</td>\n",
       "      <td>single.definite</td>\n",
       "      <td>...</td>\n",
       "      <td>NaN</td>\n",
       "      <td>VC</td>\n",
       "      <td>True</td>\n",
       "      <td>qtl</td>\n",
       "      <td>היה</td>\n",
       "      <td>Gen</td>\n",
       "      <td>Hebrew</td>\n",
       "      <td>prose</td>\n",
       "      <td>1</td>\n",
       "      <td>True</td>\n",
       "    </tr>\n",
       "    <tr>\n",
       "      <th>651551</th>\n",
       "      <td>Subj</td>\n",
       "      <td>Gen 1:2</td>\n",
       "      <td>Genesis</td>\n",
       "      <td>cont</td>\n",
       "      <td>חשׁך</td>\n",
       "      <td>חֹ֖שֶׁךְ</td>\n",
       "      <td>חשׁך</td>\n",
       "      <td>וְחֹ֖שֶׁךְ עַל־פְּנֵ֣י תְהֹ֑ום</td>\n",
       "      <td>וְחֹ֖שֶׁךְ עַל־פְּנֵ֣י תְהֹ֑ום</td>\n",
       "      <td>single.bare.øanchor</td>\n",
       "      <td>...</td>\n",
       "      <td>NaN</td>\n",
       "      <td>NC</td>\n",
       "      <td>False</td>\n",
       "      <td>NaN</td>\n",
       "      <td>NaN</td>\n",
       "      <td>Gen</td>\n",
       "      <td>Hebrew</td>\n",
       "      <td>prose</td>\n",
       "      <td>0</td>\n",
       "      <td>False</td>\n",
       "    </tr>\n",
       "    <tr>\n",
       "      <th>651554</th>\n",
       "      <td>Subj</td>\n",
       "      <td>Gen 1:2</td>\n",
       "      <td>Genesis</td>\n",
       "      <td>geni_ph</td>\n",
       "      <td>רוח</td>\n",
       "      <td>ר֣וּחַ אֱלֹהִ֔ים</td>\n",
       "      <td>רוח.אלהים</td>\n",
       "      <td>וְר֣וּחַ אֱלֹהִ֔ים מְרַחֶ֖פֶת עַל־פְּנֵ֥י הַמּ...</td>\n",
       "      <td>וְר֣וּחַ אֱלֹהִ֔ים מְרַחֶ֖פֶת עַל־פְּנֵ֥י הַמּ...</td>\n",
       "      <td>single.genitive</td>\n",
       "      <td>...</td>\n",
       "      <td>NaN</td>\n",
       "      <td>VC</td>\n",
       "      <td>True</td>\n",
       "      <td>ptcp</td>\n",
       "      <td>רחף</td>\n",
       "      <td>Gen</td>\n",
       "      <td>Hebrew</td>\n",
       "      <td>prose</td>\n",
       "      <td>1</td>\n",
       "      <td>True</td>\n",
       "    </tr>\n",
       "  </tbody>\n",
       "</table>\n",
       "<p>5 rows × 45 columns</p>\n",
       "</div>"
      ],
      "text/plain": [
       "       function      ref     book  ph_type    head               text  \\\n",
       "node                                                                    \n",
       "651542     Time  Gen 1:1  Genesis  prep_ph  ראשׁית      בְּרֵאשִׁ֖ית    \n",
       "651544     Subj  Gen 1:1  Genesis     cont   אלהים         אֱלֹהִ֑ים    \n",
       "651547     Subj  Gen 1:2  Genesis  defi_ph     ארץ          הָאָ֗רֶץ    \n",
       "651551     Subj  Gen 1:2  Genesis     cont    חשׁך          חֹ֖שֶׁךְ    \n",
       "651554     Subj  Gen 1:2  Genesis  geni_ph     רוח  ר֣וּחַ אֱלֹהִ֔ים    \n",
       "\n",
       "            token                                             clause  \\\n",
       "node                                                                   \n",
       "651542   ב.ראשׁית  בְּרֵאשִׁ֖ית בָּרָ֣א אֱלֹהִ֑ים אֵ֥ת הַשָּׁמַ֖י...   \n",
       "651544      אלהים  בְּרֵאשִׁ֖ית בָּרָ֣א אֱלֹהִ֑ים אֵ֥ת הַשָּׁמַ֖י...   \n",
       "651547      ה.ארץ              וְהָאָ֗רֶץ הָיְתָ֥ה תֹ֨הוּ֙ וָבֹ֔הוּ    \n",
       "651551       חשׁך                    וְחֹ֖שֶׁךְ עַל־פְּנֵ֣י תְהֹ֑ום    \n",
       "651554  רוח.אלהים  וְר֣וּחַ אֱלֹהִ֔ים מְרַחֶ֖פֶת עַל־פְּנֵ֥י הַמּ...   \n",
       "\n",
       "                                                 sentence  \\\n",
       "node                                                        \n",
       "651542  בְּרֵאשִׁ֖ית בָּרָ֣א אֱלֹהִ֑ים אֵ֥ת הַשָּׁמַ֖י...   \n",
       "651544  בְּרֵאשִׁ֖ית בָּרָ֣א אֱלֹהִ֑ים אֵ֥ת הַשָּׁמַ֖י...   \n",
       "651547              וְהָאָ֗רֶץ הָיְתָ֥ה תֹ֨הוּ֙ וָבֹ֔הוּ    \n",
       "651551                    וְחֹ֖שֶׁךְ עַל־פְּנֵ֣י תְהֹ֑ום    \n",
       "651554  וְר֣וּחַ אֱלֹהִ֔ים מְרַחֶ֖פֶת עַל־פְּנֵ֥י הַמּ...   \n",
       "\n",
       "                          classi  ...  ord_str cl_kind   verb tense verb_lex  \\\n",
       "node                              ...                                          \n",
       "651542  single.prep.bare.øanchor  ...      NaN      VC   True   qtl      ברא   \n",
       "651544            single.øanchor  ...      NaN      VC   True   qtl      ברא   \n",
       "651547           single.definite  ...      NaN      VC   True   qtl      היה   \n",
       "651551       single.bare.øanchor  ...      NaN      NC  False   NaN      NaN   \n",
       "651554           single.genitive  ...      NaN      VC   True  ptcp      רחף   \n",
       "\n",
       "        book_sbl    lang  genre nom_marks has_nom  \n",
       "node                                               \n",
       "651542       Gen  Hebrew  prose         0   False  \n",
       "651544       Gen  Hebrew  prose         1    True  \n",
       "651547       Gen  Hebrew  prose         1    True  \n",
       "651551       Gen  Hebrew  prose         0   False  \n",
       "651554       Gen  Hebrew  prose         1    True  \n",
       "\n",
       "[5 rows x 45 columns]"
      ]
     },
     "execution_count": 7,
     "metadata": {},
     "output_type": "execute_result"
    }
   ],
   "source": [
    "dataset.head()"
   ]
  },
  {
   "cell_type": "code",
   "execution_count": 13,
   "metadata": {},
   "outputs": [
    {
     "data": {
      "text/plain": [
       "prep_ph       42360\n",
       "cont          16943\n",
       "name           6834\n",
       "geni_ph        5503\n",
       "prps           3624\n",
       "defi_ph        3622\n",
       "numb_ph        2197\n",
       "prde            717\n",
       "adjv_ph         580\n",
       "prin            551\n",
       "advb            499\n",
       "attrib_ph       333\n",
       "qquant          248\n",
       "card            220\n",
       "prep             48\n",
       "card_chain       41\n",
       "appo_name        21\n",
       "ordn              9\n",
       "demon_ph          6\n",
       "intj              1\n",
       "Name: ph_type, dtype: int64"
      ]
     },
     "execution_count": 13,
     "metadata": {},
     "output_type": "execute_result"
    }
   ],
   "source": [
    "dataset.ph_type.value_counts()"
   ]
  },
  {
   "cell_type": "code",
   "execution_count": 14,
   "metadata": {},
   "outputs": [
    {
     "data": {
      "text/plain": [
       "prose          39061\n",
       "prophetic      19524\n",
       "poetry         14994\n",
       "instruction     8180\n",
       "list            2598\n",
       "Name: genre, dtype: int64"
      ]
     },
     "execution_count": 14,
     "metadata": {},
     "output_type": "execute_result"
    }
   ],
   "source": [
    "dataset.genre.value_counts()"
   ]
  },
  {
   "cell_type": "code",
   "execution_count": 15,
   "metadata": {},
   "outputs": [
    {
     "data": {
      "text/plain": [
       "1    41187\n",
       "0    28002\n",
       "2    13750\n",
       "3     1346\n",
       "4       72\n",
       "Name: nom_marks, dtype: int64"
      ]
     },
     "execution_count": 15,
     "metadata": {},
     "output_type": "execute_result"
    }
   ],
   "source": [
    "dataset.nom_marks.value_counts()"
   ]
  },
  {
   "cell_type": "code",
   "execution_count": null,
   "metadata": {},
   "outputs": [],
   "source": []
  }
 ],
 "metadata": {
  "kernelspec": {
   "display_name": "Python 3",
   "language": "python",
   "name": "python3"
  },
  "language_info": {
   "codemirror_mode": {
    "name": "ipython",
    "version": 3
   },
   "file_extension": ".py",
   "mimetype": "text/x-python",
   "name": "python",
   "nbconvert_exporter": "python",
   "pygments_lexer": "ipython3",
   "version": "3.8.0"
  }
 },
 "nbformat": 4,
 "nbformat_minor": 4
}
